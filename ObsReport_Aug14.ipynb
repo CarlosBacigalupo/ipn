{
 "metadata": {
  "name": ""
 },
 "nbformat": 3,
 "nbformat_minor": 0,
 "worksheets": [
  {
   "cells": [
    {
     "cell_type": "code",
     "collapsed": false,
     "input": [
      "import pyfits as pf\n",
      "import numpy as np\n",
      "import pylab as plt\n",
      "import os\n",
      "import glob"
     ],
     "language": "python",
     "metadata": {},
     "outputs": [],
     "prompt_number": 2
    },
    {
     "cell_type": "code",
     "collapsed": false,
     "input": [
      "cd /Users/Carlos/Documents/HERMES/data/140820/data/ccd_1/"
     ],
     "language": "python",
     "metadata": {},
     "outputs": [
      {
       "output_type": "stream",
       "stream": "stdout",
       "text": [
        "/Users/Carlos/Documents/HERMES/data/140820/data/ccd_1\n"
       ]
      }
     ],
     "prompt_number": 3
    },
    {
     "cell_type": "code",
     "collapsed": false,
     "input": [
      "a = pf.open('20aug10050.fits')"
     ],
     "language": "python",
     "metadata": {},
     "outputs": [],
     "prompt_number": 4
    },
    {
     "cell_type": "code",
     "collapsed": false,
     "input": [
      "ah = a[1].data"
     ],
     "language": "python",
     "metadata": {},
     "outputs": [],
     "prompt_number": 5
    },
    {
     "cell_type": "code",
     "collapsed": false,
     "input": [
      "print ah[ah['NAME']=='Giant01']\n",
      "print 'Pivot',ah[ah['NAME']=='Giant01']['PIVOT'][0]\n",
      "print np.where(ah['NAME']=='Giant01')[0][0]"
     ],
     "language": "python",
     "metadata": {},
     "outputs": [
      {
       "output_type": "stream",
       "stream": "stdout",
       "text": [
        "[ ('Giant01', 0.1853248777409312, -1.1426331243230099, -10, 2, 10, 2, 2.741177272843407, 'P', 175, 4.1699999999999999, 0, 'Kmag', '18', 0.0, 0.0, 0.0)]\n",
        "Pivot 175\n",
        "175\n"
       ]
      }
     ],
     "prompt_number": 6
    },
    {
     "cell_type": "code",
     "collapsed": false,
     "input": [
      "dirs = ['/Users/Carlos/Documents/HERMES/data/140820/data/ccd_1/',\n",
      "        '/Users/Carlos/Documents/HERMES/data/140821/data/ccd_1/',\n",
      "        '/Users/Carlos/Documents/HERMES/data/140822/data/ccd_1/',\n",
      "        '/Users/Carlos/Documents/HERMES/data/140824/data/ccd_1/',\n",
      "        '/Users/Carlos/Documents/HERMES/data/140825/data/ccd_1/']"
     ],
     "language": "python",
     "metadata": {},
     "outputs": [],
     "prompt_number": 50
    },
    {
     "cell_type": "code",
     "collapsed": false,
     "input": [
      "raw = []\n",
      "for j in dirs:\n",
      "    os.chdir(j)\n",
      "    for i in glob.glob('*.fits'):\n",
      "        a = pf.open(i)\n",
      "        if a[0].header['NDFCLASS'] == 'MFOBJECT':\n",
      "            print i, a[0].header['OBJECT'],a[0].header['SOURCE'],a[0].header['UTMJD'],a[0].header['EXPOSED']\n",
      "            raw.append((i, a[0].header['OBJECT'],a[0].header['SOURCE'],a[0].header['UTMJD'],a[0].header['EXPOSED']))            \n",
      "        a.close\n",
      "# raw = np.array(raw)"
     ],
     "language": "python",
     "metadata": {},
     "outputs": [
      {
       "output_type": "stream",
       "stream": "stdout",
       "text": [
        "20aug10020.fits 47Tuc IFU Plate 1 56889.6317395 1200.0\n",
        "20aug10023.fits"
       ]
      },
      {
       "output_type": "stream",
       "stream": "stdout",
       "text": [
        " rhoTuc #392 (Pivot 398) Plate 0 56889.6547204 60.0\n",
        "20aug10024.fits rhoTuc #392 (Pivot 398) Plate 0 56889.6568449 120.0\n",
        "20aug10025.fits"
       ]
      },
      {
       "output_type": "stream",
       "stream": "stdout",
       "text": [
        " rhoTuc #392 (Pivot 398) Plate 0 56889.659319 180.0\n",
        "20aug10026.fits rhoTuc #392 (Pivot 398) Plate 0 56889.662459 240.0\n",
        "20aug10027.fits rhoTuc #392 (Pivot 398) Plate 0 56889.6662861 300.0\n",
        "20aug10028.fits"
       ]
      },
      {
       "output_type": "stream",
       "stream": "stdout",
       "text": [
        " rhoTuc #392 (Pivot 398) Plate 0 56889.6708549 360.0\n",
        "20aug10029.fits rhoTuc #392 (Pivot 398) Plate 0 56889.676142 420.0\n",
        "20aug10030.fits"
       ]
      },
      {
       "output_type": "stream",
       "stream": "stdout",
       "text": [
        " rhoTuc #392 (Pivot 398) Plate 0 56889.6820489 480.0\n",
        "20aug10031.fits rhoTuc #392 (Pivot 398) Plate 0 56889.6887531 540.0\n",
        "20aug10032.fits"
       ]
      },
      {
       "output_type": "stream",
       "stream": "stdout",
       "text": [
        " rhoTuc #392 (Pivot 398) Plate 0 56889.6959912 600.0\n",
        "20aug10035.fits"
       ]
      },
      {
       "output_type": "stream",
       "stream": "stdout",
       "text": [
        " HD1581 #392 (Pivot 398) Plate 0 56889.713229 300.0\n",
        "20aug10036.fits HD1581 #392 (Pivot 398) Plate 0 56889.7180763 60.0\n",
        "20aug10039.fits"
       ]
      },
      {
       "output_type": "stream",
       "stream": "stdout",
       "text": [
        " HD285507 #227 (Pivot 223) Plate 1 56889.7312269 600.0\n",
        "20aug10040.fits HD285507 #227 (Pivot 223) Plate 1 56889.7409558 1200.0\n",
        "20aug10041.fits"
       ]
      },
      {
       "output_type": "stream",
       "stream": "stdout",
       "text": [
        " HD285507 #227 (Pivot 223) Plate 1 56889.7558863 1200.0\n",
        "20aug10044.fits"
       ]
      },
      {
       "output_type": "stream",
       "stream": "stdout",
       "text": [
        " rhoTuc #176 (Pivot 175) Plate 0 56889.7811361 300.0\n",
        "20aug10045.fits rhoTuc #176 (Pivot 175) Plate 0 56889.7856174 360.0\n",
        "20aug10046.fits rhoTuc #176 (Pivot 175) Plate 0 56889.7910208 120.0\n",
        "20aug10047.fits"
       ]
      },
      {
       "output_type": "stream",
       "stream": "stdout",
       "text": [
        " rhoTuc #176 (Pivot 175) Plate 0 56889.7933129 120.0\n",
        "20aug10048.fits rhoTuc #176 (Pivot 175) Plate 0 56889.7955978 120.0\n",
        "20aug10049.fits rhoTuc #176 (Pivot 175) Plate 0 56889.7978891 120.0\n",
        "20aug10050.fits"
       ]
      },
      {
       "output_type": "stream",
       "stream": "stdout",
       "text": [
        " rhoTuc #176 (Pivot 175) Plate 0 56889.800162 120.0\n",
        "20aug10051.fits rhoTuc #176 (Pivot 175) Plate 0 56889.8024453 120.0\n",
        "20aug10053.fits"
       ]
      },
      {
       "output_type": "stream",
       "stream": "stdout",
       "text": [
        " HD1581 #176 (Pivot 175) Plate 0 56889.8100292 120.0\n",
        "21aug10027.fits"
       ]
      },
      {
       "output_type": "stream",
       "stream": "stdout",
       "text": [
        " 47Tuc center Plate 1 56890.6174495 1200.0\n",
        "21aug10028.fits 47Tuc center Plate 1 56890.6339503 1200.0\n",
        "21aug10029.fits"
       ]
      },
      {
       "output_type": "stream",
       "stream": "stdout",
       "text": [
        " 47Tuc center Plate 1 56890.6500989 1200.0\n",
        "21aug10030.fits 47Tuc center Plate 1 56890.6717027 1200.0\n",
        "21aug10033.fits"
       ]
      },
      {
       "output_type": "stream",
       "stream": "stdout",
       "text": [
        " rhoTuc #176 (Pivot 175) Plate 0 56890.7000594 600.0\n",
        "21aug10034.fits rhoTuc #176 (Pivot 175) Plate 0 56890.707896 600.0\n",
        "21aug10035.fits rhoTuc #176 (Pivot 175) Plate 0 56890.7158804 600.0\n",
        "21aug10038.fits"
       ]
      },
      {
       "output_type": "stream",
       "stream": "stdout",
       "text": [
        " HD285507 #227 (Pivot 223) Plate 1 56890.7344779 1800.0\n",
        "21aug10039.fits HD285507 #227 (Pivot 223) Plate 1 56890.7561996 1800.0\n",
        "21aug10040.fits"
       ]
      },
      {
       "output_type": "stream",
       "stream": "stdout",
       "text": [
        " HD285507 #227 (Pivot 223) Plate 1 56890.7779248 1800.0\n",
        "21aug10041.fits HD1581 #176 (Pivot 175) Plate 0 56890.8035487 120.0\n",
        "21aug10042.fits HD1581 #176 (Pivot 175) Plate 0 56890.8058271 120.0\n",
        "21aug10043.fits"
       ]
      },
      {
       "output_type": "stream",
       "stream": "stdout",
       "text": [
        " HD1581 #176 (Pivot 175) Plate 0 56890.8081117 120.0\n",
        "21aug10044.fits rhoTuc #176 (Pivot 175) Plate 0 56890.8148393 360.0\n",
        "22aug10027.fits"
       ]
      },
      {
       "output_type": "stream",
       "stream": "stdout",
       "text": [
        " 47Tuc center Plate 1 56891.6301252 1200.0\n",
        "22aug10028.fits 47Tuc center Plate 1 56891.6448997 1200.0\n",
        "22aug10029.fits"
       ]
      },
      {
       "output_type": "stream",
       "stream": "stdout",
       "text": [
        " 47Tuc center Plate 1 56891.6596885 1200.0\n",
        "22aug10033.fits"
       ]
      },
      {
       "output_type": "stream",
       "stream": "stdout",
       "text": [
        " rhoTuc #176 (Pivot 175) Plate 0 56891.6885866 360.0\n",
        "22aug10034.fits rhoTuc #176 (Pivot 175) Plate 0 56891.6936397 360.0\n",
        "22aug10035.fits rhoTuc #176 (Pivot 175) Plate 0 56891.6987003 360.0\n",
        "22aug10036.fits"
       ]
      },
      {
       "output_type": "stream",
       "stream": "stdout",
       "text": [
        " HD1581 #176 (Pivot 175) Plate 0 56891.705889 120.0\n",
        "22aug10037.fits HD1581 #176 (Pivot 175) Plate 0 56891.7081863 120.0\n",
        "22aug10038.fits HD1581 #176 (Pivot 175) Plate 0 56891.7104593 120.0\n",
        "22aug10041.fits"
       ]
      },
      {
       "output_type": "stream",
       "stream": "stdout",
       "text": [
        " HD285507 #227 (Pivot 223) Plate 1 56891.7214011 1200.0\n",
        "22aug10042.fits HD285507 #227 (Pivot 223) Plate 1 56891.7361919 1200.0\n",
        "22aug10043.fits"
       ]
      },
      {
       "output_type": "stream",
       "stream": "stdout",
       "text": [
        " HD285507 #227 (Pivot 223) Plate 1 56891.7509697 1200.0\n",
        "22aug10046.fits"
       ]
      },
      {
       "output_type": "stream",
       "stream": "stdout",
       "text": [
        " rhoTuc #176 (Pivot 175) Plate 0 56891.7757545 360.0\n",
        "22aug10047.fits rhoTuc #176 (Pivot 175) Plate 0 56891.7808645 360.0\n",
        "22aug10048.fits 47Tuc center Plate 1 56891.7878767 1200.0\n",
        "22aug10049.fits"
       ]
      },
      {
       "output_type": "stream",
       "stream": "stdout",
       "text": [
        " 47Tuc center Plate 1 56891.8026479 1200.0\n",
        "22aug10050.fits 47Tuc center Plate 1 56891.817427 609.0\n",
        "24aug10050.fits"
       ]
      },
      {
       "output_type": "stream",
       "stream": "stdout",
       "text": [
        " 47Tuc center Plate 1 56893.6885903 1200.0\n",
        "24aug10051.fits 47Tuc center Plate 1 56893.7041937 1200.0\n",
        "24aug10052.fits"
       ]
      },
      {
       "output_type": "stream",
       "stream": "stdout",
       "text": [
        " 47Tuc center Plate 1 56893.7197996 1200.0\n",
        "24aug10055.fits"
       ]
      },
      {
       "output_type": "stream",
       "stream": "stdout",
       "text": [
        " rhoTuc #176 (Pivot 175) Plate 0 56893.7454057 360.0\n",
        "24aug10056.fits rhoTuc #176 (Pivot 175) Plate 0 56893.7513966 360.0\n",
        "24aug10057.fits rhoTuc #176 (Pivot 175) Plate 0 56893.7565186 360.0\n",
        "24aug10058.fits"
       ]
      },
      {
       "output_type": "stream",
       "stream": "stdout",
       "text": [
        " HD1581 #176 (Pivot 175) Plate 0 56893.7639537 120.0\n",
        "24aug10059.fits HD1581 #176 (Pivot 175) Plate 0 56893.7662353 80.0\n",
        "24aug10060.fits HD1581 #176 (Pivot 175) Plate 0 56893.7680468 30.0\n",
        "24aug10061.fits"
       ]
      },
      {
       "output_type": "stream",
       "stream": "stdout",
       "text": [
        " HD1581 #176 (Pivot 175) Plate 0 56893.7692934 30.0\n",
        "24aug10062.fits HD1581 #176 (Pivot 175) Plate 0 56893.7709226 30.0\n",
        "24aug10063.fits"
       ]
      },
      {
       "output_type": "stream",
       "stream": "stdout",
       "text": [
        " HD285507 #227 (Pivot 223) Plate 1 56893.7742145 1200.0\n",
        "24aug10064.fits HD285507 #227 (Pivot 223) Plate 1 56893.7889874 1200.0\n",
        "24aug10065.fits"
       ]
      },
      {
       "output_type": "stream",
       "stream": "stdout",
       "text": [
        " HD285507 #227 (Pivot 223) Plate 1 56893.8041221 600.0\n",
        "25aug10035.fits"
       ]
      },
      {
       "output_type": "stream",
       "stream": "stdout",
       "text": [
        " 47Tuc center Plate 1 56894.6702057 1200.0\n",
        "25aug10036.fits 47Tuc center Plate 1 56894.6850847 1200.0\n",
        "25aug10037.fits"
       ]
      },
      {
       "output_type": "stream",
       "stream": "stdout",
       "text": [
        " 47Tuc center Plate 1 56894.6999044 1200.0\n",
        "25aug10040.fits"
       ]
      },
      {
       "output_type": "stream",
       "stream": "stdout",
       "text": [
        " rhoTuc #176 (Pivot 175) Plate 0 56894.7232178 360.0\n",
        "25aug10041.fits rhoTuc #176 (Pivot 175) Plate 0 56894.7282847 360.0\n",
        "25aug10042.fits rhoTuc #176 (Pivot 175) Plate 0 56894.7333418 360.0\n",
        "25aug10044.fits"
       ]
      },
      {
       "output_type": "stream",
       "stream": "stdout",
       "text": [
        " HD1581 #176 (Pivot 175) Plate 0 56894.7423378 60.0\n",
        "25aug10045.fits HD1581 #176 (Pivot 175) Plate 0 56894.7443452 60.0\n",
        "25aug10046.fits HD1581 #176 (Pivot 175) Plate 0 56894.7459274 60.0\n",
        "25aug10049.fits"
       ]
      },
      {
       "output_type": "stream",
       "stream": "stdout",
       "text": [
        " HD285507 #227 (Pivot 223) Plate 1 56894.7584364 1200.0\n",
        "25aug10050.fits HD285507 #227 (Pivot 223) Plate 1 56894.7732268 1200.0\n",
        "25aug10051.fits"
       ]
      },
      {
       "output_type": "stream",
       "stream": "stdout",
       "text": [
        " HD285507 #227 (Pivot 223) Plate 1 56894.7880043 1200.0\n",
        "25aug10052.fits rhoTuc #176 (Pivot 175) Plate 0 56894.8086355 360.0\n"
       ]
      }
     ],
     "prompt_number": 51
    },
    {
     "cell_type": "code",
     "collapsed": false,
     "input": [
      "targets = np.unique(np.array(raw)[:,1])"
     ],
     "language": "python",
     "metadata": {},
     "outputs": [],
     "prompt_number": 52
    },
    {
     "cell_type": "code",
     "collapsed": false,
     "input": [
      "# colors = ['k','k','k','k','k','k','k']\n",
      "colors = ['g','g','g','g','g','g','g']\n",
      "\n",
      "\n",
      "fig, ax = plt.subplots()\n",
      "ax.set_yticks(np.arange(1,8))\n",
      "ax.set_ylim(0,8)\n",
      "plt.xlabel('JD')\n",
      "plt.title('Observations per target')\n",
      "\n",
      "for i in raw:\n",
      "    idx = np.where(i[1]==targets)[0][0]\n",
      "    ax.scatter(i[3]+2400000.5, idx+1 ,c = colors[idx], s =50, linewidths=0)\n",
      "ax.set_yticklabels(targets)\n",
      "plt.gca().add_patch(plt.Rectangle((2456890.083333,-100),0.3,200, alpha = 0.2, label = 'Observing Window'))\n",
      "plt.gca().add_patch(plt.Rectangle((2456891.083333,-100),0.3,200, alpha = 0.2))\n",
      "plt.gca().add_patch(plt.Rectangle((2456892.083333,-100),0.3,200, alpha = 0.2))\n",
      "plt.gca().add_patch(plt.Rectangle((2456894.083333,-100),0.3,200, alpha = 0.2))\n",
      "plt.gca().add_patch(plt.Rectangle((2456895.083333,-100),0.3,200, alpha = 0.2))\n",
      "plt.legend()\n",
      "plt.show()"
     ],
     "language": "python",
     "metadata": {},
     "outputs": [],
     "prompt_number": 53
    },
    {
     "cell_type": "code",
     "collapsed": false,
     "input": [
      "## Changes the OBJECT header property to reflect offsets and fibre changes\n",
      "os.chdir('/Users/Carlos/Documents/HERMES/data/140825')\n",
      "front = '25aug'\n",
      "back = '0052.fits'\n",
      "#newName = '47Tuc IFU'\n",
      "#newName = '47Tuc center'\n",
      "#newName = 'rhoTuc #392 (Pivot 398)'\n",
      "newName = 'rhoTuc #176 (Pivot 175)'\n",
      "#newName = 'HD1581 #392 (Pivot 398)'\n",
      "#newName = 'HD1581 #176 (Pivot 175)'\n",
      "#newName = 'HD285507 #227 (Pivot 223)'\n",
      "for i in range(1,5):\n",
      "    a = pf.open('data/ccd_'+str(i)+'/'+ front + str(i) + back)\n",
      "    a[0].header['OBJECT']=newName\n",
      "    a.writeto('data/ccd_'+str(i)+'/'+ front + str(i) + back, clobber=True)  \n",
      "    a.close()"
     ],
     "language": "python",
     "metadata": {},
     "outputs": [
      {
       "output_type": "stream",
       "stream": "stdout",
       "text": [
        "Overwriting existing file 'data/ccd_1/25aug10042.fits'.\n",
        "Overwriting existing file 'data/ccd_2/25aug20042.fits'.\n"
       ]
      },
      {
       "output_type": "stream",
       "stream": "stdout",
       "text": [
        "Overwriting existing file 'data/ccd_3/25aug30042.fits'.\n",
        "Overwriting existing file 'data/ccd_4/25aug40042.fits'.\n"
       ]
      },
      {
       "output_type": "stream",
       "stream": "stdout",
       "text": [
        "Overwriting existing file 'data/ccd_1/25aug10052.fits'.\n",
        "Overwriting existing file 'data/ccd_2/25aug20052.fits'.\n"
       ]
      },
      {
       "output_type": "stream",
       "stream": "stdout",
       "text": [
        "Overwriting existing file 'data/ccd_3/25aug30052.fits'.\n",
        "Overwriting existing file 'data/ccd_4/25aug40052.fits'.\n"
       ]
      }
     ],
     "prompt_number": 49
    },
    {
     "cell_type": "code",
     "collapsed": false,
     "input": [],
     "language": "python",
     "metadata": {},
     "outputs": []
    }
   ],
   "metadata": {}
  }
 ]
}