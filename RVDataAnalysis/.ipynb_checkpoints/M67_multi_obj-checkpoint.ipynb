{
 "cells": [
  {
   "cell_type": "code",
   "execution_count": 84,
   "metadata": {
    "collapsed": false
   },
   "outputs": [],
   "source": [
    "# import os\n",
    "# import create_obj as cr_obj\n",
    "# reload(cr_obj)\n",
    "# import pickle\n",
    "import glob\n",
    "import pyfits as pf\n",
    "# import importlib\n",
    "import numpy as np\n",
    "# import sys\n",
    "import toolbox\n",
    "import pandas as pd"
   ]
  },
  {
   "cell_type": "code",
   "execution_count": 132,
   "metadata": {
    "collapsed": false
   },
   "outputs": [
    {
     "name": "stdout",
     "output_type": "stream",
     "text": [
      "/Users/Carlos/Documents/HERMES/reductions/6.5/m67_lr\n"
     ]
    }
   ],
   "source": [
    "cd ~/Documents/HERMES/reductions/6.5/m67_lr/"
   ]
  },
  {
   "cell_type": "code",
   "execution_count": 266,
   "metadata": {
    "collapsed": false
   },
   "outputs": [
    {
     "name": "stdout",
     "output_type": "stream",
     "text": [
      "(5800, 4) stars\n"
     ]
    }
   ],
   "source": [
    "#create list of stars, pivot, plate, mjd\n",
    "starNames = np.array([])\n",
    "fileList = glob.glob('cam1/*.fits')\n",
    "\n",
    "for fitsname in fileList[:]:\n",
    "#     print \"Starnames\",starNames, 'file', fitsname\n",
    "    HDUList = pf.open(fitsname)\n",
    "    \n",
    "    #plate\n",
    "    plate = HDUList[0].header['SOURCE'].strip()[-1]\n",
    "    \n",
    "    #MJD\n",
    "    e = float(HDUList[0].header['EXPOSED'])/2/24/60/60 # EXPOSED/2 in days\n",
    "    inDate = np.hstack((HDUList[0].header['UTDATE'].split(':'),HDUList[0].header['UTSTART'].split(':'))).astype(int)\n",
    "    MJD = toolbox.gd2jd(inDate, TZ=0) - 2400000.5 + e\n",
    "    \n",
    "#     print fitsname, MJD\n",
    "    \n",
    "    a = HDUList['FIBRES'].data     \n",
    "    if len(starNames)==0:\n",
    "        starNames = np.array([a.field('NAME').strip(),\n",
    "                              a.field('PIVOT'),\n",
    "                              np.tile(plate,400),\n",
    "                              np.tile(MJD,400) ]).transpose()[a.field('TYPE').strip()=='P']\n",
    "    else:\n",
    "        starNames = np.vstack((starNames,np.array([a.field('NAME').strip(),\n",
    "                                   a.field('PIVOT'),\n",
    "                                   np.tile(plate,400),\n",
    "                                   np.tile(MJD,400) ]).transpose()[a.field('TYPE').strip()=='P']))\n",
    "#     starNames = np.hstack((starNames,np.array(a.field('NAME')[a.field('TYPE').strip()=='P'])))\n",
    "    HDUList.close()\n",
    "\n",
    "# starNames = np.unique(starNames)\n",
    "starNames = np.array(starNames)\n",
    "\n",
    "print starNames.shape, 'stars'\n",
    "# print starNames\n",
    "# a.columns"
   ]
  },
  {
   "cell_type": "code",
   "execution_count": 267,
   "metadata": {
    "collapsed": false
   },
   "outputs": [
    {
     "name": "stdout",
     "output_type": "stream",
     "text": [
      "[['M67-590_10_0' '56664.5809375']\n",
      " ['M67-S364_5_0' '56664.5809375']\n",
      " ['M67-558_3_0' '56664.5809375']\n",
      " ..., \n",
      " ['M67-S248_395_1' '56644.7256597']\n",
      " ['M67-490_394_1' '56644.7256597']\n",
      " ['M67-481_392_1' '56644.7256597']]\n"
     ]
    }
   ],
   "source": [
    "#Convert starNames to name_pivot_plate,MJD\n",
    "\n",
    "starNames_piv_pl = np.chararray((starNames.shape[0], 2),itemsize = 40)\n",
    "\n",
    "for i, line in enumerate(starNames):\n",
    "    starNames_piv_pl[i,0] = line[0]+'_'+line[1]+'_'+line[2]\n",
    "    starNames_piv_pl[i,1] = line[3]\n",
    "\n",
    "print starNames_piv_pl"
   ]
  },
  {
   "cell_type": "code",
   "execution_count": 268,
   "metadata": {
    "collapsed": false
   },
   "outputs": [],
   "source": [
    "#Convert starNames_piv_pl,mjd to unique name_piv_pl vs MJD table\n",
    "\n",
    "rows = np.unique(starNames_piv_pl[:,0])\n",
    "cols = np.sort(np.unique(starNames_piv_pl[:,1]))\n",
    "obsMatrix = np.zeros((rows.shape[0], cols.shape[0]))\n",
    "\n",
    "\n",
    "\n",
    "for line in starNames_piv_pl:\n",
    "#     print line,\n",
    "    rowIdx = np.where(rows==line[0])[0][0]\n",
    "    colIdx = np.where(cols==line[1])[0][0]\n",
    "    obsMatrix[rowIdx, colIdx] = 1"
   ]
  },
  {
   "cell_type": "code",
   "execution_count": 269,
   "metadata": {
    "collapsed": false
   },
   "outputs": [],
   "source": [
    "def X(x):\n",
    "    if int(x)==0:\n",
    "        result = ''\n",
    "    else:\n",
    "        result = 'X'\n",
    "    return result\n",
    "\n",
    "def nottin(x):\n",
    "    return x"
   ]
  },
  {
   "cell_type": "code",
   "execution_count": 271,
   "metadata": {
    "collapsed": false
   },
   "outputs": [],
   "source": [
    "all_MJD_Exp = np.load('/Users/Carlos/Documents/ipn/npy/outMJD_Exp.npy')\n",
    "all_MJD_Exp = np.array(all_MJD_Exp, dtype='|f8')\n",
    "ordIdx = np.argsort(all_MJD_Exp[:,0])\n",
    "allMJDs = all_MJD_Exp[:,0][ordIdx]"
   ]
  },
  {
   "cell_type": "code",
   "execution_count": 272,
   "metadata": {
    "collapsed": false
   },
   "outputs": [
    {
     "name": "stdout",
     "output_type": "stream",
     "text": [
      "(65,)\n"
     ]
    }
   ],
   "source": [
    "x = np.array(cols, dtype='|f8')\n",
    "colsFlt = x.astype(np.float)\n",
    "print colsFlt.shape"
   ]
  },
  {
   "cell_type": "code",
   "execution_count": 273,
   "metadata": {
    "collapsed": false
   },
   "outputs": [
    {
     "name": "stdout",
     "output_type": "stream",
     "text": [
      "65 (99,) (99,) (65,) (65,)\n"
     ]
    }
   ],
   "source": [
    "booResult = np.in1d(np.round(allMJDs, 5), np.round(colsFlt,5))\n",
    "colsIdx = np.arange(allMJDs.shape[0])[booResult]\n",
    "print np.sum(booResult), booResult. shape, allMJDs.shape, colsFlt.shape, colsIdx.shape"
   ]
  },
  {
   "cell_type": "code",
   "execution_count": null,
   "metadata": {
    "collapsed": false
   },
   "outputs": [],
   "source": [
    "#print matrix in latex form \n",
    "\n",
    "a = pd.DataFrame(obsMatrix)\n",
    "# a.columns = cols #this for MJDs\n",
    "a.columns = colsIdx #this for obsID\n",
    "a.index = rows\n",
    "print a.to_latex(formatters=[X, X, X, X, X,\n",
    "                             X, X, X, X, X,\n",
    "                             X, X, X, X, X,\n",
    "                             X, X, X, X, X,\n",
    "                             X, X, X, X, X,\n",
    "                             X, X, X, X, X,\n",
    "                             X, X, X, X, X,\n",
    "                             X, X, X, X, X,\n",
    "                             X, X, X, X, X,\n",
    "                             X, X, X, X, X,\n",
    "                             X, X, X, X, X,\n",
    "                             X, X, X, X, X,\n",
    "                             X, X, X, X, X])"
   ]
  },
  {
   "cell_type": "code",
   "execution_count": null,
   "metadata": {
    "collapsed": true
   },
   "outputs": [],
   "source": [
    "#print matrix in latex form \n",
    "page = 1\n",
    "perPage = 20\n",
    "thisPage = range(perPage*(page-1),perPage*page)\n",
    "a = pd.DataFrame(obsMatrix)\n",
    "# a.columns = cols #this for MJDs\n",
    "a.columns = colsIdx #this for obsID\n",
    "a.index = rows\n",
    "print a.to_latex(formatters=[X, X, X, X, X,\n",
    "                             X, X, X, X, X,\n",
    "                             X, X, X, X, X,\n",
    "                             X, X, X, X, X,\n",
    "                             X, X, X, X, X,\n",
    "                             X, X, X, X, X,\n",
    "                             X, X, X, X, X,\n",
    "                             X, X, X, X, X,\n",
    "                             X, X, X, X, X,\n",
    "                             X, X, X, X, X,\n",
    "                             X, X, X, X, X,\n",
    "                             X, X, X, X, X,\n",
    "                             X, X, X, X, X])"
   ]
  },
  {
   "cell_type": "code",
   "execution_count": null,
   "metadata": {
    "collapsed": false
   },
   "outputs": [],
   "source": [
    "counter = 0\n",
    "for i in range(colsFlt.shape[0]):\n",
    "    print i, colsFlt[i],\n",
    "    booResult2 = np.round(colsFlt[i], 5)==np.round(allMJDs, 5)\n",
    "    if np.sum(booResult2)>0:\n",
    "        counter +=1\n",
    "        print allMJDs[booResult2], np.sum(booResult2), counter\n",
    "    else:\n",
    "        print "
   ]
  },
  {
   "cell_type": "code",
   "execution_count": null,
   "metadata": {
    "collapsed": false
   },
   "outputs": [],
   "source": [
    "counter = 0\n",
    "for i in range(100):\n",
    "    print i, allMJDs[i],\n",
    "    booResult2 = np.round(allMJDs[i], 5)==np.round(colsFlt, 5)\n",
    "    if np.sum(booResult2)>0:\n",
    "        counter +=1\n",
    "        print colsFlt[booResult2], np.sum(booResult2), counter\n",
    "    else:\n",
    "        print "
   ]
  },
  {
   "cell_type": "code",
   "execution_count": 296,
   "metadata": {
    "collapsed": false
   },
   "outputs": [
    {
     "name": "stdout",
     "output_type": "stream",
     "text": [
      "628\n",
      "10\n"
     ]
    }
   ],
   "source": [
    "#create list of first observation MJDs\n",
    "firstObs = []\n",
    "for i,thisStarPivPl in enumerate(np.unique(starNames_piv_pl[:,0])):\n",
    "    thisMJDs = starNames_piv_pl[:,1][np.where(thisStarPivPl==starNames_piv_pl[:,0])[0]]\n",
    "    x = np.array(thisMJDs, dtype='|f8')\n",
    "    MJDsFlt = x.astype(np.float)\n",
    "    firstObs.append(np.min(MJDsFlt))\n",
    "\n",
    "print len(firstObs)\n",
    "firstObs = np.unique(firstObs)\n",
    "print len(firstObs)\n"
   ]
  },
  {
   "cell_type": "code",
   "execution_count": 330,
   "metadata": {
    "collapsed": false
   },
   "outputs": [],
   "source": [
    "#create name_piv_pl_mjd for all tagets\n",
    "x = np.array(starNames_piv_pl[:,1], dtype='|f8')\n",
    "MJDsFlt = x.astype(np.float)\n",
    "\n",
    "starNames_piv_pl_mjd=[]\n",
    "\n",
    "for i in firstObs:\n",
    "    thisSet = starNames_piv_pl[:,0][np.where(i==MJDsFlt)]+'_'+str(i)\n",
    "    for j in thisSet:\n",
    "#         print j,\n",
    "        starNames_piv_pl_mjd.append(j)\n",
    "    \n",
    "starNames_piv_pl_mjd = np.array(starNames_piv_pl_mjd)\n",
    "np.save('starNames_piv_pl_mjd.npy',starNames_piv_pl_mjd)"
   ]
  },
  {
   "cell_type": "code",
   "execution_count": 332,
   "metadata": {
    "collapsed": false
   },
   "outputs": [
    {
     "data": {
      "text/plain": [
       "(814,)"
      ]
     },
     "execution_count": 332,
     "metadata": {},
     "output_type": "execute_result"
    }
   ],
   "source": [
    "#the number of unique name_piv_pl_firstMJD\n",
    "starNames_piv_pl_mjd.shape"
   ]
  },
  {
   "cell_type": "code",
   "execution_count": null,
   "metadata": {
    "collapsed": false
   },
   "outputs": [],
   "source": [
    "#tests"
   ]
  },
  {
   "cell_type": "code",
   "execution_count": 335,
   "metadata": {
    "collapsed": false
   },
   "outputs": [],
   "source": [
    "combinedName = starNames_piv_pl_mjd[0]"
   ]
  },
  {
   "cell_type": "code",
   "execution_count": 337,
   "metadata": {
    "collapsed": false
   },
   "outputs": [],
   "source": [
    "starName, pivot, plate, MJD = combinedName.split('_')"
   ]
  },
  {
   "cell_type": "code",
   "execution_count": 338,
   "metadata": {
    "collapsed": false
   },
   "outputs": [
    {
     "name": "stdout",
     "output_type": "stream",
     "text": [
      "M67-590 10 0 56643.6659144\n"
     ]
    }
   ],
   "source": [
    "print starName, pivot, plate, MJD"
   ]
  },
  {
   "cell_type": "code",
   "execution_count": null,
   "metadata": {
    "collapsed": false
   },
   "outputs": [],
   "source": []
  }
 ],
 "metadata": {
  "kernelspec": {
   "display_name": "Python 2",
   "language": "python",
   "name": "python2"
  },
  "language_info": {
   "codemirror_mode": {
    "name": "ipython",
    "version": 2
   },
   "file_extension": ".py",
   "mimetype": "text/x-python",
   "name": "python",
   "nbconvert_exporter": "python",
   "pygments_lexer": "ipython2",
   "version": "2.7.3"
  }
 },
 "nbformat": 4,
 "nbformat_minor": 0
}
