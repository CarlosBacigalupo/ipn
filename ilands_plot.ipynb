{
 "cells": [
  {
   "cell_type": "code",
   "execution_count": null,
   "metadata": {
    "collapsed": true
   },
   "outputs": [],
   "source": [
    "import pyfits as pf"
   ]
  },
  {
   "cell_type": "code",
   "execution_count": null,
   "metadata": {
    "collapsed": false
   },
   "outputs": [],
   "source": [
    "cd /Users/Carlos/Documents/HERMES/reductions/myherpy/HD1581/4_25aug/1/"
   ]
  },
  {
   "cell_type": "code",
   "execution_count": null,
   "metadata": {
    "collapsed": false
   },
   "outputs": [],
   "source": [
    "flatFileName = '25aug10039.fits'"
   ]
  },
  {
   "cell_type": "code",
   "execution_count": null,
   "metadata": {
    "collapsed": true
   },
   "outputs": [],
   "source": [
    "def openFile(fileName):\n",
    "    thisFile = pf.open(fileName)\n",
    "\n",
    "    print thisFile[0].header['OBJECT']\n",
    "    \n",
    "    gain0_2000  = thisFile[0].header['RO_GAIN']\n",
    "    gain2000_4000  = thisFile[0].header['RO_GAIN1']\n",
    "\n",
    "    thisData = thisFile[0].data\n",
    "\n",
    "#     bias0_2000 = np.median(thisData[3:2052,4099:-3])\n",
    "#     bias2000_4000 = np.median(thisData[2059:-3,4099:-3])\n",
    "\n",
    "#     thisData = thisData[:,:4095]\n",
    "\n",
    "#     thisData[:2055] -= bias0_2000\n",
    "#     thisData[2055:] -= bias2000_4000\n",
    "    \n",
    "    return thisData\n",
    "\n"
   ]
  },
  {
   "cell_type": "code",
   "execution_count": null,
   "metadata": {
    "collapsed": false
   },
   "outputs": [],
   "source": [
    "flat = openFile(flatFileName)"
   ]
  },
  {
   "cell_type": "code",
   "execution_count": null,
   "metadata": {
    "collapsed": true
   },
   "outputs": [],
   "source": [
    "import pylab as plt\n",
    "import numpy as np"
   ]
  },
  {
   "cell_type": "code",
   "execution_count": null,
   "metadata": {
    "collapsed": true
   },
   "outputs": [],
   "source": [
    "myColumn = flat[110:410,100]\n",
    "myRange = range(110,410)"
   ]
  },
  {
   "cell_type": "code",
   "execution_count": null,
   "metadata": {
    "collapsed": false
   },
   "outputs": [],
   "source": [
    "plt.plot(myRange, myColumn)"
   ]
  },
  {
   "cell_type": "code",
   "execution_count": null,
   "metadata": {
    "collapsed": true
   },
   "outputs": [],
   "source": [
    "plt.show()"
   ]
  },
  {
   "cell_type": "code",
   "execution_count": null,
   "metadata": {
    "collapsed": true
   },
   "outputs": [],
   "source": [
    "islansX = np.array()"
   ]
  },
  {
   "cell_type": "code",
   "execution_count": null,
   "metadata": {
    "collapsed": false
   },
   "outputs": [],
   "source": [
    "import numpy as np\n",
    "import matplotlib.pyplot as plt\n",
    "from matplotlib import rc\n",
    "rc('mathtext', default='regular')\n",
    "\n",
    "fig = plt.figure()\n",
    "ax = fig.add_subplot(111)\n",
    "# ax.plot(myColumn, Swdown, '-', label = 'Swdown')\n",
    "# ax.plot(myColumn, Rn, '-', label = 'Rn')\n",
    "ax.plot(myRange, myColumn, '-')\n",
    "# ax.plot(myColumn, '-', label = 'Rn')\n",
    "ax2 = ax.twinx()\n",
    "# ax2.plot(myColumn, '-r', label = 'temp')\n",
    "\n",
    "# ax.legend(loc=0)\n",
    "# ax.grid()\n",
    "ax.set_xlabel(\"Pixel Number\")\n",
    "ax.set_ylabel(r\"Intensity\")\n",
    "ax2.set_ylabel(r\"Number of Islands\")\n",
    "# ax2.set_ylim(0, 35)\n",
    "ax.set_ylim(0,max(myColumn)+500)\n",
    "ax2.set_ylim(0,max(myColumn)+500)\n",
    "ax.set_xlim(min(myRange),max(myRange))\n",
    "\n",
    "myIslands = np.array([200,400,500, 1000, 1300, 1800, 2000, 2400, 2800, 3500, 4000, 4900])\n",
    "for i in myIslands:\n",
    "    ax2.plot((min(myRange),max(myRange)),(i,i), '-g')\n",
    "\n",
    "\n",
    "ax2.set_yticks(myIslands)\n",
    "ax2.set_yticklabels([0, 3, 13, 30 ,30, 30, 30, 30, 24, 11, 3, 1])\n",
    "plt.title(\"Emergence Peak Finding Algorithm\")\n",
    "plt.show()"
   ]
  },
  {
   "cell_type": "code",
   "execution_count": null,
   "metadata": {
    "collapsed": true
   },
   "outputs": [],
   "source": []
  }
 ],
 "metadata": {
  "kernelspec": {
   "display_name": "Python 2",
   "language": "python",
   "name": "python2"
  },
  "language_info": {
   "codemirror_mode": {
    "name": "ipython",
    "version": 2
   },
   "file_extension": ".py",
   "mimetype": "text/x-python",
   "name": "python",
   "nbconvert_exporter": "python",
   "pygments_lexer": "ipython2",
   "version": "2.7.3"
  }
 },
 "nbformat": 4,
 "nbformat_minor": 0
}
