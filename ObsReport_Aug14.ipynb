{
 "metadata": {
  "name": "",
  "signature": "sha256:489316b52b5e4d40228b976d5b83515ae1581c5656f5ddfa0dda77b42d6aae03"
 },
 "nbformat": 3,
 "nbformat_minor": 0,
 "worksheets": [
  {
   "cells": [
    {
     "cell_type": "code",
     "collapsed": false,
     "input": [
      "import pyfits as pf\n",
      "import numpy as np\n",
      "import pylab as plt\n",
      "import os\n",
      "import glob\n",
      "import pickle\n",
      "import RVTools as RVT\n",
      "import toolbox"
     ],
     "language": "python",
     "metadata": {},
     "outputs": [],
     "prompt_number": 38
    },
    {
     "cell_type": "code",
     "collapsed": false,
     "input": [
      "cd /Users/Carlos/Documents/HERMES/data/140821/data/ccd_1/"
     ],
     "language": "python",
     "metadata": {},
     "outputs": [
      {
       "output_type": "stream",
       "stream": "stdout",
       "text": [
        "/Users/Carlos/Documents/HERMES/data/140821/data/ccd_1\n"
       ]
      }
     ],
     "prompt_number": 34
    },
    {
     "cell_type": "code",
     "collapsed": false,
     "input": [
      "a = pf.open('21aug10030.fits')"
     ],
     "language": "python",
     "metadata": {},
     "outputs": [],
     "prompt_number": 67
    },
    {
     "cell_type": "code",
     "collapsed": false,
     "input": [
      "ah = a[1].data"
     ],
     "language": "python",
     "metadata": {},
     "outputs": [],
     "prompt_number": 23
    },
    {
     "cell_type": "code",
     "collapsed": false,
     "input": [
      "print ah[ah['NAME']=='Giant01']\n",
      "print 'Pivot',ah[ah['NAME']=='Giant01']['PIVOT'][0]\n",
      "print np.where(ah['NAME']=='Giant01')[0][0]"
     ],
     "language": "python",
     "metadata": {},
     "outputs": [
      {
       "output_type": "stream",
       "stream": "stdout",
       "text": [
        "[]\n",
        "Pivot"
       ]
      },
      {
       "ename": "IndexError",
       "evalue": "index out of bounds",
       "output_type": "pyerr",
       "traceback": [
        "\u001b[0;31m---------------------------------------------------------------------------\u001b[0m\n\u001b[0;31mIndexError\u001b[0m                                Traceback (most recent call last)",
        "\u001b[0;32m<ipython-input-24-c3f6cc690647>\u001b[0m in \u001b[0;36m<module>\u001b[0;34m()\u001b[0m\n\u001b[1;32m      1\u001b[0m \u001b[0;32mprint\u001b[0m \u001b[0mah\u001b[0m\u001b[0;34m[\u001b[0m\u001b[0mah\u001b[0m\u001b[0;34m[\u001b[0m\u001b[0;34m'NAME'\u001b[0m\u001b[0;34m]\u001b[0m\u001b[0;34m==\u001b[0m\u001b[0;34m'Giant01'\u001b[0m\u001b[0;34m]\u001b[0m\u001b[0;34m\u001b[0m\u001b[0m\n\u001b[0;32m----> 2\u001b[0;31m \u001b[0;32mprint\u001b[0m \u001b[0;34m'Pivot'\u001b[0m\u001b[0;34m,\u001b[0m\u001b[0mah\u001b[0m\u001b[0;34m[\u001b[0m\u001b[0mah\u001b[0m\u001b[0;34m[\u001b[0m\u001b[0;34m'NAME'\u001b[0m\u001b[0;34m]\u001b[0m\u001b[0;34m==\u001b[0m\u001b[0;34m'Giant01'\u001b[0m\u001b[0;34m]\u001b[0m\u001b[0;34m[\u001b[0m\u001b[0;34m'PIVOT'\u001b[0m\u001b[0;34m]\u001b[0m\u001b[0;34m[\u001b[0m\u001b[0;36m0\u001b[0m\u001b[0;34m]\u001b[0m\u001b[0;34m\u001b[0m\u001b[0m\n\u001b[0m\u001b[1;32m      3\u001b[0m \u001b[0;32mprint\u001b[0m \u001b[0mnp\u001b[0m\u001b[0;34m.\u001b[0m\u001b[0mwhere\u001b[0m\u001b[0;34m(\u001b[0m\u001b[0mah\u001b[0m\u001b[0;34m[\u001b[0m\u001b[0;34m'NAME'\u001b[0m\u001b[0;34m]\u001b[0m\u001b[0;34m==\u001b[0m\u001b[0;34m'Giant01'\u001b[0m\u001b[0;34m)\u001b[0m\u001b[0;34m[\u001b[0m\u001b[0;36m0\u001b[0m\u001b[0;34m]\u001b[0m\u001b[0;34m[\u001b[0m\u001b[0;36m0\u001b[0m\u001b[0;34m]\u001b[0m\u001b[0;34m\u001b[0m\u001b[0m\n",
        "\u001b[0;31mIndexError\u001b[0m: index out of bounds"
       ]
      }
     ],
     "prompt_number": 24
    },
    {
     "cell_type": "code",
     "collapsed": false,
     "input": [
      "dirs = ['/Users/Carlos/Documents/HERMES/data/140820/data/ccd_1/',\n",
      "        '/Users/Carlos/Documents/HERMES/data/140821/data/ccd_1/',\n",
      "        '/Users/Carlos/Documents/HERMES/data/140822/data/ccd_1/',\n",
      "        '/Users/Carlos/Documents/HERMES/data/140824/data/ccd_1/',\n",
      "        '/Users/Carlos/Documents/HERMES/data/140825/data/ccd_1/']"
     ],
     "language": "python",
     "metadata": {},
     "outputs": [],
     "prompt_number": 77
    },
    {
     "cell_type": "code",
     "collapsed": false,
     "input": [
      "print a[0].header['UTMJD']\n",
      "print a[0].header['UTSTART']\n",
      "print a[0].header['UTDATE']\n",
      "print a[0].header['EXPOSED']\n",
      "print \n",
      "e = float(a[0].header['EXPOSED'])/2/24/60/60 # EXPOSED/2 in days\n",
      "inDate = np.hstack((a[0].header['UTDATE'].split(':'),a[0].header['UTSTART'].split(':'))).astype(int)\n",
      "print toolbox.gd2jd(inDate, TZ=0)-2400000.5 + e"
     ],
     "language": "python",
     "metadata": {},
     "outputs": [
      {
       "output_type": "stream",
       "stream": "stdout",
       "text": [
        "56890.6717027\n",
        "16:07:15\n",
        "2014:08:21\n",
        "1200.0\n",
        "\n",
        "56890.6786458\n"
       ]
      }
     ],
     "prompt_number": 63
    },
    {
     "cell_type": "code",
     "collapsed": false,
     "input": [
      "24./100*7."
     ],
     "language": "python",
     "metadata": {},
     "outputs": [
      {
       "metadata": {},
       "output_type": "pyout",
       "prompt_number": 66,
       "text": [
        "1.68"
       ]
      }
     ],
     "prompt_number": 66
    },
    {
     "cell_type": "code",
     "collapsed": false,
     "input": [
      "# raw = []\n",
      "print 'Obs & Filename & Field Name & Plate & MJD & Relative Day (days) & Exp Time (s) \\\\\\\\'\n",
      "# good_targets = np.array(['rhoTuc #176 (Pivot 175)', 'HD1581 #176 (Pivot 175)','HD285507 #227 (Pivot 223)' ])\n",
      "good_targets = np.array(['HD285507 #227 (Pivot 223)' ])\n",
      "# good_targets = np.array(['HD1581 #176 (Pivot 175)'])\n",
      "# good_targets = np.array(['47Tuc center'])\n",
      "\n",
      "# good_pivots = [175,175,224]\n",
      "t0 = 0  \n",
      "order = 0 \n",
      "for j in dirs:\n",
      "    os.chdir(j)\n",
      "    for i in glob.glob('*.fits'):\n",
      "        a = pf.open(i)\n",
      "        if a[0].header['NDFCLASS'] == 'MFOBJECT':\n",
      "            if a[0].header['OBJECT'] in good_targets:\n",
      "                pivot_idx = np.where(a[0].header['OBJECT']== good_targets)[0][0]\n",
      "                e = float(a[0].header['EXPOSED'])/2/24/60/60 # EXPOSED/2 in days\n",
      "                inDate = np.hstack((a[0].header['UTDATE'].split(':'),a[0].header['UTSTART'].split(':'))).astype(int)\n",
      "                UTMJD = toolbox.gd2jd(inDate, TZ=0)-2400000.5 + e\n",
      "                if t0==0:t0=UTMJD\n",
      "                tDiff=UTMJD-t0\n",
      "#                 print str(order)+' & '+ i+' & HD1581 & '+a[0].header['SOURCE']+' & '+str(UTMJD)+' & '+str(tDiff)+' & '+str(a[0].header['EXPOSED']) +' \\\\\\\\'\n",
      "                print str(order)+' & '+ i+' & HD285507 & '+a[0].header['SOURCE']+' & '+str(UTMJD)+' & '+str(tDiff)+' & '+str(a[0].header['EXPOSED']) +' \\\\\\\\'\n",
      "#                 print str(order)+' & '+ i+' & '+a[0].header['OBJECT']+' & '+a[0].header['SOURCE']+' & '+str(UTMJD)+' & '+str(tDiff)+' & '+str(a[0].header['EXPOSED']) +' \\\\\\\\'\n",
      "                order +=1\n",
      "#                 raw.append((i, a[0].header['OBJECT'],a[0].header['SOURCE'],a[0].header['UTMJD'],a[0].header['EXPOSED']))            \n",
      "        a.close\n",
      "# raw = np.array(raw)"
     ],
     "language": "python",
     "metadata": {},
     "outputs": [
      {
       "output_type": "stream",
       "stream": "stdout",
       "text": [
        "Obs & Filename & Field Name & Plate & MJD & Relative Day (days) & Exp Time (s) \\\\\n",
        "0 & 20aug10039.fits & HD285507 & Plate 1 & 56889.7346991 & 0.0 & 600.0 \\\\"
       ]
      },
      {
       "output_type": "stream",
       "stream": "stdout",
       "text": [
        "\n",
        "1 & 20aug10040.fits & HD285507 & Plate 1 & 56889.7479051 & 0.0132060188116 & 1200.0 \\\\\n",
        "2 & 20aug10041.fits & HD285507 & Plate 1 & 56889.7628356 & 0.0281365744086 & 1200.0 \\\\\n",
        "3 & 21aug10038.fits & HD285507 & Plate 1 & 56890.7448958 & 1.01019675931 & 1800.0 \\\\"
       ]
      },
      {
       "output_type": "stream",
       "stream": "stdout",
       "text": [
        "\n",
        "4 & 21aug10039.fits & HD285507 & Plate 1 & 56890.7666204 & 1.03192129633 & 1800.0 \\\\\n",
        "5 & 21aug10040.fits & HD285507 & Plate 1 & 56890.7883449 & 1.05364583334 & 1800.0 \\\\"
       ]
      },
      {
       "output_type": "stream",
       "stream": "stdout",
       "text": [
        "\n",
        "6 & 22aug10041.fits & HD285507 & Plate 1 & 56891.7283449 & 1.99364583355 & 1200.0 \\\\"
       ]
      },
      {
       "output_type": "stream",
       "stream": "stdout",
       "text": [
        "\n",
        "7 & 22aug10042.fits & HD285507 & Plate 1 & 56891.7431366 & 2.00843750008 & 1200.0 \\\\\n",
        "8 & 22aug10043.fits & HD285507 & Plate 1 & 56891.7579167 & 2.0232175926 & 1200.0 \\\\"
       ]
      },
      {
       "output_type": "stream",
       "stream": "stdout",
       "text": [
        "\n",
        "9 & 24aug10063.fits & HD285507 & Plate 1 & 56893.7811574 & 4.04645833348 & 1200.0 \\\\"
       ]
      },
      {
       "output_type": "stream",
       "stream": "stdout",
       "text": [
        "\n",
        "10 & 24aug10064.fits & HD285507 & Plate 1 & 56893.7959375 & 4.06123842599 & 1200.0 \\\\\n",
        "11 & 24aug10065.fits & HD285507 & Plate 1 & 56893.8075926 & 4.07289351849 & 600.0 \\\\"
       ]
      },
      {
       "output_type": "stream",
       "stream": "stdout",
       "text": [
        "\n",
        "12 & 25aug10049.fits & HD285507 & Plate 1 & 56894.7653819 & 5.0306828704 & 1200.0 \\\\"
       ]
      },
      {
       "output_type": "stream",
       "stream": "stdout",
       "text": [
        "\n",
        "13 & 25aug10050.fits & HD285507 & Plate 1 & 56894.7801736 & 5.04547453739 & 1200.0 \\\\\n",
        "14 & 25aug10051.fits & HD285507 & Plate 1 & 56894.7949537 & 5.06025462991 & 1200.0 \\\\"
       ]
      },
      {
       "output_type": "stream",
       "stream": "stdout",
       "text": [
        "\n"
       ]
      }
     ],
     "prompt_number": 81
    },
    {
     "cell_type": "code",
     "collapsed": false,
     "input": [
      "a = np.array([-5,-1,0,5,3])\n",
      "np.abs(a)>4"
     ],
     "language": "python",
     "metadata": {},
     "outputs": [
      {
       "metadata": {},
       "output_type": "pyout",
       "prompt_number": 73,
       "text": [
        "array([ True, False, False,  True, False], dtype=bool)"
       ]
      }
     ],
     "prompt_number": 73
    },
    {
     "cell_type": "code",
     "collapsed": false,
     "input": [
      "targets = np.unique(np.array(raw)[:,1])\n",
      "good_targets = ['rhoTuc #176 (Pivot 175)', 'HD1581 #176 (Pivot 175)','HD285507 #227 (Pivot 223)' ]\n",
      "target_alias = [r'$\\rho$ Tucanae', 'HD1581','HD285507' ]"
     ],
     "language": "python",
     "metadata": {},
     "outputs": [],
     "prompt_number": 108
    },
    {
     "cell_type": "code",
     "collapsed": false,
     "input": [
      "# colors = ['k','k','k','k','k','k','k']\n",
      "colors = ['g','g','g','g','g','g','g','g','g','g','g','g']\n",
      "dates = ['20 aug', '21 aug', '22 aug', '23 aug', '24 aug', '25 aug', '']\n",
      "\n",
      "fig, ax = plt.subplots()\n",
      "ax.set_yticks(np.arange(1,5))\n",
      "ax.set_ylim(0,5)\n",
      "plt.xlabel('date')\n",
      "plt.title('Observations per target')\n",
      "\n",
      "idx_y = [1,2,3,1,1,1,1,1]\n",
      "for i in raw:\n",
      "    idx = np.where(i[1]==targets)[0][0]\n",
      "    if targets[idx] in ['rhoTuc #176 (Pivot 175)','47Tuc center', 'HD1581 #176 (Pivot 175)','HD285507 #227 (Pivot 223)' ]:\n",
      "        ax.scatter(i[3], idx_y[idx] ,c = colors[idx], s =1, linewidths=20, marker ='_')\n",
      "\n",
      "    \n",
      "ax.set_yticklabels(target_alias)\n",
      "ax.set_xticklabels(dates)\n",
      "plt.gca().add_patch(plt.Rectangle((2456890.083333-2400000.5,-100),0.3,200, alpha = 0.2, label = 'Observing Window'))\n",
      "plt.gca().add_patch(plt.Rectangle((2456891.083333-2400000.5,-100),0.3,200, alpha = 0.2))\n",
      "plt.gca().add_patch(plt.Rectangle((2456892.083333-2400000.5,-100),0.3,200, alpha = 0.2))\n",
      "plt.gca().add_patch(plt.Rectangle((2456894.083333-2400000.5,-100),0.3,200, alpha = 0.2))\n",
      "plt.gca().add_patch(plt.Rectangle((2456895.083333-2400000.5,-100),0.3,200, alpha = 0.2))\n",
      "plt.legend()\n",
      "plt.show()"
     ],
     "language": "python",
     "metadata": {},
     "outputs": [
      {
       "ename": "NameError",
       "evalue": "name 'targets' is not defined",
       "output_type": "pyerr",
       "traceback": [
        "\u001b[0;31m---------------------------------------------------------------------------\u001b[0m\n\u001b[0;31mNameError\u001b[0m                                 Traceback (most recent call last)",
        "\u001b[0;32m<ipython-input-76-50d4072921d7>\u001b[0m in \u001b[0;36m<module>\u001b[0;34m()\u001b[0m\n\u001b[1;32m     11\u001b[0m \u001b[0midx_y\u001b[0m \u001b[0;34m=\u001b[0m \u001b[0;34m[\u001b[0m\u001b[0;36m1\u001b[0m\u001b[0;34m,\u001b[0m\u001b[0;36m2\u001b[0m\u001b[0;34m,\u001b[0m\u001b[0;36m3\u001b[0m\u001b[0;34m,\u001b[0m\u001b[0;36m1\u001b[0m\u001b[0;34m,\u001b[0m\u001b[0;36m1\u001b[0m\u001b[0;34m,\u001b[0m\u001b[0;36m1\u001b[0m\u001b[0;34m,\u001b[0m\u001b[0;36m1\u001b[0m\u001b[0;34m,\u001b[0m\u001b[0;36m1\u001b[0m\u001b[0;34m]\u001b[0m\u001b[0;34m\u001b[0m\u001b[0m\n\u001b[1;32m     12\u001b[0m \u001b[0;32mfor\u001b[0m \u001b[0mi\u001b[0m \u001b[0;32min\u001b[0m \u001b[0mraw\u001b[0m\u001b[0;34m:\u001b[0m\u001b[0;34m\u001b[0m\u001b[0m\n\u001b[0;32m---> 13\u001b[0;31m     \u001b[0midx\u001b[0m \u001b[0;34m=\u001b[0m \u001b[0mnp\u001b[0m\u001b[0;34m.\u001b[0m\u001b[0mwhere\u001b[0m\u001b[0;34m(\u001b[0m\u001b[0mi\u001b[0m\u001b[0;34m[\u001b[0m\u001b[0;36m1\u001b[0m\u001b[0;34m]\u001b[0m\u001b[0;34m==\u001b[0m\u001b[0mtargets\u001b[0m\u001b[0;34m)\u001b[0m\u001b[0;34m[\u001b[0m\u001b[0;36m0\u001b[0m\u001b[0;34m]\u001b[0m\u001b[0;34m[\u001b[0m\u001b[0;36m0\u001b[0m\u001b[0;34m]\u001b[0m\u001b[0;34m\u001b[0m\u001b[0m\n\u001b[0m\u001b[1;32m     14\u001b[0m     \u001b[0;32mif\u001b[0m \u001b[0mtargets\u001b[0m\u001b[0;34m[\u001b[0m\u001b[0midx\u001b[0m\u001b[0;34m]\u001b[0m \u001b[0;32min\u001b[0m \u001b[0;34m[\u001b[0m\u001b[0;34m'rhoTuc #176 (Pivot 175)'\u001b[0m\u001b[0;34m,\u001b[0m\u001b[0;34m'47Tuc center'\u001b[0m\u001b[0;34m,\u001b[0m \u001b[0;34m'HD1581 #176 (Pivot 175)'\u001b[0m\u001b[0;34m,\u001b[0m\u001b[0;34m'HD285507 #227 (Pivot 223)'\u001b[0m \u001b[0;34m]\u001b[0m\u001b[0;34m:\u001b[0m\u001b[0;34m\u001b[0m\u001b[0m\n\u001b[1;32m     15\u001b[0m         \u001b[0max\u001b[0m\u001b[0;34m.\u001b[0m\u001b[0mscatter\u001b[0m\u001b[0;34m(\u001b[0m\u001b[0mi\u001b[0m\u001b[0;34m[\u001b[0m\u001b[0;36m3\u001b[0m\u001b[0;34m]\u001b[0m\u001b[0;34m,\u001b[0m \u001b[0midx_y\u001b[0m\u001b[0;34m[\u001b[0m\u001b[0midx\u001b[0m\u001b[0;34m]\u001b[0m \u001b[0;34m,\u001b[0m\u001b[0mc\u001b[0m \u001b[0;34m=\u001b[0m \u001b[0mcolors\u001b[0m\u001b[0;34m[\u001b[0m\u001b[0midx\u001b[0m\u001b[0;34m]\u001b[0m\u001b[0;34m,\u001b[0m \u001b[0ms\u001b[0m \u001b[0;34m=\u001b[0m\u001b[0;36m1\u001b[0m\u001b[0;34m,\u001b[0m \u001b[0mlinewidths\u001b[0m\u001b[0;34m=\u001b[0m\u001b[0;36m20\u001b[0m\u001b[0;34m,\u001b[0m \u001b[0mmarker\u001b[0m \u001b[0;34m=\u001b[0m\u001b[0;34m'_'\u001b[0m\u001b[0;34m)\u001b[0m\u001b[0;34m\u001b[0m\u001b[0m\n",
        "\u001b[0;31mNameError\u001b[0m: name 'targets' is not defined"
       ]
      }
     ],
     "prompt_number": 76
    },
    {
     "cell_type": "code",
     "collapsed": false,
     "input": [
      "# retrieve SNR from all files for a selected target\n",
      "SNR = np.zeros((1,15,4))\n",
      "expTime = []\n",
      "JDs = []\n",
      "\n",
      "for cam in range(1,5):\n",
      "    t = 0\n",
      "    for epoch in [1,2,3,3,5]:\n",
      "        os.chdir('/Users/Carlos/Documents/HERMES/data/14082'+str(epoch)+'/data')\n",
      "        fileList = glob.glob('ccd_'+str(cam)+'/*.fits')\n",
      "        for thisFileIdx in range(len(fileList)):\n",
      "            a = pf.open(fileList[thisFileIdx])\n",
      "            if a[0].header['OBJECT']=='HD1581 #176 (Pivot 175)':\n",
      "                flux = a[0].data[176]\n",
      "#                 print cam, a[0].header['UTMJD'], np.median(flux)/np.std(flux), a[0].header['EXPOSED']\n",
      "                SNR[0, t, cam-1]=np.median(flux)/np.std(flux)\n",
      "                if cam ==1: \n",
      "                    JDs.append(a[0].header['UTMJD'])\n",
      "                    expTime.append(a[0].header['EXPOSED'])\n",
      "                t +=1\n",
      "JDs = np.array(JDs)\n",
      "expTime = np.array(expTime)\n",
      "                "
     ],
     "language": "python",
     "metadata": {},
     "outputs": [
      {
       "ename": "NameError",
       "evalue": "name 'np' is not defined",
       "output_type": "pyerr",
       "traceback": [
        "\u001b[0;31m---------------------------------------------------------------------------\u001b[0m\n\u001b[0;31mNameError\u001b[0m                                 Traceback (most recent call last)",
        "\u001b[0;32m<ipython-input-26-67e78bed48f3>\u001b[0m in \u001b[0;36m<module>\u001b[0;34m()\u001b[0m\n\u001b[1;32m      1\u001b[0m \u001b[0;31m# retrieve SNR from all files for a selected target\u001b[0m\u001b[0;34m\u001b[0m\u001b[0;34m\u001b[0m\u001b[0m\n\u001b[0;32m----> 2\u001b[0;31m \u001b[0mSNR\u001b[0m \u001b[0;34m=\u001b[0m \u001b[0mnp\u001b[0m\u001b[0;34m.\u001b[0m\u001b[0mzeros\u001b[0m\u001b[0;34m(\u001b[0m\u001b[0;34m(\u001b[0m\u001b[0;36m1\u001b[0m\u001b[0;34m,\u001b[0m\u001b[0;36m15\u001b[0m\u001b[0;34m,\u001b[0m\u001b[0;36m4\u001b[0m\u001b[0;34m)\u001b[0m\u001b[0;34m)\u001b[0m\u001b[0;34m\u001b[0m\u001b[0m\n\u001b[0m\u001b[1;32m      3\u001b[0m \u001b[0mexpTime\u001b[0m \u001b[0;34m=\u001b[0m \u001b[0;34m[\u001b[0m\u001b[0;34m]\u001b[0m\u001b[0;34m\u001b[0m\u001b[0m\n\u001b[1;32m      4\u001b[0m \u001b[0mJDs\u001b[0m \u001b[0;34m=\u001b[0m \u001b[0;34m[\u001b[0m\u001b[0;34m]\u001b[0m\u001b[0;34m\u001b[0m\u001b[0m\n\u001b[1;32m      5\u001b[0m \u001b[0;34m\u001b[0m\u001b[0m\n",
        "\u001b[0;31mNameError\u001b[0m: name 'np' is not defined"
       ]
      }
     ],
     "prompt_number": 26
    },
    {
     "cell_type": "code",
     "collapsed": false,
     "input": [
      "#opens a single star\n",
      "filename = '/Users/Carlos/Documents/HERMES/reductions/HD1581_6.0/uncombined/red_Giant01.obj'\n",
      "filehandler = open(filename, 'r')\n",
      "thisStar = pickle.load(filehandler)\n"
     ],
     "language": "python",
     "metadata": {},
     "outputs": [],
     "prompt_number": 3
    },
    {
     "cell_type": "code",
     "collapsed": false,
     "input": [
      "thisCam=thisStar.exposures.cameras[0]"
     ],
     "language": "python",
     "metadata": {},
     "outputs": [],
     "prompt_number": 4
    },
    {
     "cell_type": "code",
     "collapsed": false,
     "input": [
      "plt.plot(thisCam.red_fluxes[0])\n",
      "plt.show()"
     ],
     "language": "python",
     "metadata": {},
     "outputs": [],
     "prompt_number": 5
    },
    {
     "cell_type": "code",
     "collapsed": false,
     "input": [
      "flux = thisCam.red_fluxes[0]\n",
      "plt.plot(np.real(np.fft.fft(np.sin(np.arange(1000*2*np.pi)))))\n",
      "# plt.plot(np.sin(np.arange(1000*2*np.pi)))\n",
      "plt.show()"
     ],
     "language": "python",
     "metadata": {},
     "outputs": [],
     "prompt_number": 10
    },
    {
     "cell_type": "code",
     "collapsed": false,
     "input": [
      "np.real(np.fft.fft(np.sin(np.arange(1000*2*np.pi))))"
     ],
     "language": "python",
     "metadata": {},
     "outputs": [
      {
       "metadata": {},
       "output_type": "pyout",
       "prompt_number": 8,
       "text": [
        "array([-0.07645498, -0.07645467, -0.07645373, ..., -0.07645217,\n",
        "       -0.07645373, -0.07645467])"
       ]
      }
     ],
     "prompt_number": 8
    },
    {
     "cell_type": "code",
     "collapsed": false,
     "input": [
      "# retrieve SNR from all files for a selected target\n",
      "SNR = np.zeros((1,15,4))\n",
      "expTime = []\n",
      "JDs = []\n",
      "\n",
      "for cam in range(4):\n",
      "    thisCam=thisStar.exposures.cameras[cam]\n",
      "    for epoch in [0,1,2,4,5]:\n",
      "        os.chdir('/Users/Carlos/Documents/HERMES/data/14082'+str(epoch)+'/data')\n",
      "        fileList = glob.glob('ccd_'+str(cam)+'/*.fits')\n",
      "        for thisFileIdx in range(len(fileList)):\n",
      "            a = pf.open(fileList[thisFileIdx])\n",
      "            if a[0].header['OBJECT']=='HD1581 #176 (Pivot 175)':\n",
      "                flux = a[0].data[176]\n",
      "#                 print cam, a[0].header['UTMJD'], np.median(flux)/np.std(flux), a[0].header['EXPOSED']\n",
      "                SNR[0, t, cam-1]=np.median(flux)/np.std(flux)\n",
      "                if cam ==1: \n",
      "                    JDs.append(a[0].header['UTMJD'])\n",
      "                    expTime.append(a[0].header['EXPOSED'])\n",
      "                t +=1\n",
      "JDs = np.array(JDs)\n",
      "expTime = np.array(expTime)\n",
      "                "
     ],
     "language": "python",
     "metadata": {},
     "outputs": []
    },
    {
     "cell_type": "code",
     "collapsed": false,
     "input": [
      "colors = ['b', 'g', 'r', 'cyan']\n",
      "cameras = ['Blue', 'Green', 'Red', 'IR']\n",
      "for cam in range(4):\n",
      "    plt.scatter(JDs, SNR[0,:,cam], s = expTime, c = colors[cam], label = cameras[cam])\n",
      "plt.legend(loc=0)\n",
      "plt.ylabel('SNR')\n",
      "plt.xlabel('JD')\n",
      "plt.show()"
     ],
     "language": "python",
     "metadata": {},
     "outputs": [],
     "prompt_number": 11
    },
    {
     "cell_type": "code",
     "collapsed": false,
     "input": [
      "## Changes the OBJECT header property to reflect offsets and fibre changes - USE WITH CAUTION\n",
      "os.chdir('/Users/Carlos/Documents/HERMES/data/140825')\n",
      "front = '25aug'\n",
      "back = '0052.fits'\n",
      "#newName = '47Tuc IFU'\n",
      "#newName = '47Tuc center'\n",
      "#newName = 'rhoTuc #392 (Pivot 398)'\n",
      "newName = 'rhoTuc #176 (Pivot 175)'\n",
      "#newName = 'HD1581 #392 (Pivot 398)'\n",
      "#newName = 'HD1581 #176 (Pivot 175)'\n",
      "#newName = 'HD285507 #227 (Pivot 223)'\n",
      "for i in range(1,5):\n",
      "    a = pf.open('data/ccd_'+str(i)+'/'+ front + str(i) + back)\n",
      "    a[0].header['OBJECT']=newName\n",
      "    a.writeto('data/ccd_'+str(i)+'/'+ front + str(i) + back, clobber=True)  \n",
      "    a.close()"
     ],
     "language": "python",
     "metadata": {},
     "outputs": [
      {
       "output_type": "stream",
       "stream": "stdout",
       "text": [
        "Overwriting existing file 'data/ccd_1/25aug10042.fits'.\n",
        "Overwriting existing file 'data/ccd_2/25aug20042.fits'.\n"
       ]
      },
      {
       "output_type": "stream",
       "stream": "stdout",
       "text": [
        "Overwriting existing file 'data/ccd_3/25aug30042.fits'.\n",
        "Overwriting existing file 'data/ccd_4/25aug40042.fits'.\n"
       ]
      },
      {
       "output_type": "stream",
       "stream": "stdout",
       "text": [
        "Overwriting existing file 'data/ccd_1/25aug10052.fits'.\n",
        "Overwriting existing file 'data/ccd_2/25aug20052.fits'.\n"
       ]
      },
      {
       "output_type": "stream",
       "stream": "stdout",
       "text": [
        "Overwriting existing file 'data/ccd_3/25aug30052.fits'.\n",
        "Overwriting existing file 'data/ccd_4/25aug40052.fits'.\n"
       ]
      }
     ],
     "prompt_number": 49
    },
    {
     "cell_type": "code",
     "collapsed": false,
     "input": [],
     "language": "python",
     "metadata": {},
     "outputs": []
    }
   ],
   "metadata": {}
  }
 ]
}