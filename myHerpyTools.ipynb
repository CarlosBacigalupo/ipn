{
 "cells": [
  {
   "cell_type": "code",
   "execution_count": 1,
   "metadata": {
    "collapsed": false
   },
   "outputs": [],
   "source": [
    "import pyfits as pf\n",
    "import pylab as plt\n",
    "from scipy import optimize\n",
    "from scipy.signal import medfilt, find_peaks_cwt\n",
    "from scipy.ndimage.filters import minimum_filter, maximum_filter, median_filter, convolve\n",
    "from scipy.ndimage.measurements import label\n",
    "import numpy as np"
   ]
  },
  {
   "cell_type": "code",
   "execution_count": null,
   "metadata": {
    "collapsed": false
   },
   "outputs": [],
   "source": [
    "# cd /Users/Carlos/Documents/HERMES/reductions/myherpy/HD1581/"
   ]
  },
  {
   "cell_type": "code",
   "execution_count": null,
   "metadata": {
    "collapsed": false
   },
   "outputs": [],
   "source": [
    "#Opens a file and subtracts bias from overscann\n",
    "#In: filename\n",
    "#out: thisData (data array)\n",
    "def openFile(fileName):\n",
    "    thisFile = pf.open(fileName)\n",
    "\n",
    "    print thisFile[0].header['OBJECT']\n",
    "    \n",
    "    gain0_2000  = thisFile[0].header['RO_GAIN']\n",
    "    gain2000_4000  = thisFile[0].header['RO_GAIN1']\n",
    "\n",
    "    thisData = thisFile[0].data\n",
    "\n",
    "    bias0_2000 = np.median(thisData[3:2052,4099:-3])\n",
    "    bias2000_4000 = np.median(thisData[2059:-3,4099:-3])\n",
    "\n",
    "    thisData = thisData[:,:4095]\n",
    "\n",
    "    thisData[:2055] -= bias0_2000\n",
    "    thisData[2055:] -= bias2000_4000\n",
    "    \n",
    "    return thisData\n",
    "\n"
   ]
  },
  {
   "cell_type": "code",
   "execution_count": null,
   "metadata": {
    "collapsed": true
   },
   "outputs": [],
   "source": [
    "#Cleans and flattens the flat\n",
    "#in: raw flat\n",
    "#out: flattened flat\n",
    "def make_flat_flat(flat):\n",
    "    #Flat fielding\n",
    "    flat_mf = medfilt(flat, [3,9])\n",
    "    flat_1d = np.sum(flat_mf,axis =0)\n",
    "    flat_per = np.percentile(flat_1d, 90)\n",
    "    flat_1d_norm = flat_1d/flat_per\n",
    "    flat_flat = flat_mf / flat_1d_norm[None,:]\n",
    "    return flat_flat"
   ]
  },
  {
   "cell_type": "code",
   "execution_count": null,
   "metadata": {
    "collapsed": true
   },
   "outputs": [],
   "source": [
    "#Convert flat_flat to binary for tracing\n",
    "def make_flat_flat_bin(flat_flat):\n",
    "    flat_flat_bin = flat_flat.copy()\n",
    "\n",
    "    for i in range(flat_flat.shape[1]):\n",
    "        singleCol = flat_flat[:,i].copy()\n",
    "\n",
    "        singleMinEnv = convolve(minimum_filter(singleCol,15),[.2,.2,.2,.2,.2])\n",
    "        singleMin = singleCol - singleMinEnv\n",
    "\n",
    "        singleMax = convolve(maximum_filter(singleMin,15),[.2,.2,.2,.2,.2])\n",
    "\n",
    "        fixer = convolve(singleMax, np.ones(200)/200)\n",
    "        singleMax[singleMax<fixer*.5] = fixer[singleMax<fixer*.5]*.5\n",
    "        singleColFlat = singleMin/singleMax\n",
    "\n",
    "        singleColFlat[singleColFlat>.3] = 1\n",
    "        singleColFlat[singleColFlat<.3] = 0\n",
    "\n",
    "        flat_flat_bin[:,i] = singleColFlat\n",
    "    return flat_flat_bin"
   ]
  },
  {
   "cell_type": "code",
   "execution_count": null,
   "metadata": {
    "collapsed": true
   },
   "outputs": [],
   "source": [
    "def make_fibre_centroids(flat_flat_bin):\n",
    "    out_array, fibres = label(flat_flat_bin, np.ones((3,3)))\n",
    "    # print n,'fibres'\n",
    "    # n-=2 # fibres 252 and 253 are not good for HD1581 epoch 0 \n",
    "\n",
    "    #create centroid array\n",
    "    cols = out_array.shape[1]\n",
    "    fibre_centroids = np.ones((fibres,cols))*np.nan\n",
    "    for fibre in range(1,fibres+1):\n",
    "        wRows, wCols = np.where(out_array==fibre)\n",
    "        print fibre,\n",
    "        for col in range(max(wCols)+1):\n",
    "            fibre_centroids[fibre-1, col] = np.average(wRows[wCols==col])\n",
    "    return fibre_centroids"
   ]
  },
  {
   "cell_type": "code",
   "execution_count": null,
   "metadata": {
    "collapsed": true
   },
   "outputs": [],
   "source": [
    "#create polynomials from centroids\n",
    "def make_fibrePolys(fibre_centroids):\n",
    "    fibrePolys = np.ones((fibre_centroids.shape[0],6))*np.nan\n",
    "    for y,fibre in enumerate(fibre_centroids):\n",
    "        fibrePolys[y-1,:] = np.polyfit(range(fibre.shape[0]),fibre,5)\n",
    "        if np.sum(np.isnan(fibrePolys[y-1,:]))>0:\n",
    "            print 'Found nan in fibre number',y\n",
    "            print 'Fibre values',fibre[np.isnan(fibre)]\n",
    "            print\n",
    "    return fibrePolys"
   ]
  },
  {
   "cell_type": "code",
   "execution_count": null,
   "metadata": {
    "collapsed": true
   },
   "outputs": [],
   "source": [
    "#create tramlines from polynomials\n",
    "def make_tramlines(fibre_centroids, fibrePolys):\n",
    "    tramlines = (np.ones(fibre_centroids.shape)*np.nan)[:-1]\n",
    "    thisRange = np.arange(fibre_centroids.shape[1])\n",
    "    for i,thisPoly in enumerate(fibrePolys[1:]):\n",
    "        tramlines[i] = fithOrder(thisPoly,thisRange)\n",
    "    return tramlines"
   ]
  },
  {
   "cell_type": "code",
   "execution_count": null,
   "metadata": {
    "collapsed": false
   },
   "outputs": [],
   "source": [
    "def fithOrder(thisPoly, thisRange):\n",
    "    result = thisPoly[0]*thisRange**5\n",
    "    result += thisPoly[1]*thisRange**4\n",
    "    result += thisPoly[2]*thisRange**3\n",
    "    result += thisPoly[3]*thisRange**2\n",
    "    result += thisPoly[4]*thisRange**1\n",
    "    result += thisPoly[5]*thisRange**0\n",
    "    \n",
    "    return result"
   ]
  },
  {
   "cell_type": "code",
   "execution_count": null,
   "metadata": {
    "collapsed": false
   },
   "outputs": [],
   "source": [
    "def find_vertical_shift(flat, arc):\n",
    "    CCTotal = 0\n",
    "    for column in range(flat.shape[1]):\n",
    "        thisFlatCol = flat[:,column]\n",
    "        thisArcCol = arc[:,column]\n",
    "        CCCurve = np.correlate(thisFlatCol, thisArcCol, mode='full')\n",
    "        CCTotal += CCCurve\n",
    "\n",
    "    y = CCTotal[int(CCTotal.shape[0]/2.)+1-5:int(CCTotal.shape[0]/2.)+1+4]\n",
    "    y /=np.max(y)\n",
    "    x = np.arange(-4,5)\n",
    "    x_dense = np.linspace(-4,4)\n",
    "    p,_ = fit_gaussian([1,3.],y,x )\n",
    "    shift = p[0]\n",
    "    return shift\n",
    "################\n",
    "##Need to SUBTRACT the result of the gaussian fit \n",
    "###to make the 1st curve be like the second (i.e the traces be like the arc)"
   ]
  },
  {
   "cell_type": "code",
   "execution_count": null,
   "metadata": {
    "collapsed": false
   },
   "outputs": [],
   "source": [
    "def sum_extract(fibre, tramlines, image, numPx):\n",
    "    \n",
    "    flux = np.ones(tramlines.shape[1])*np.nan\n",
    "#     flux1 = np.ones(tramlines.shape[1])*np.nan\n",
    "#     flux2 = np.ones(tramlines.shape[1])*np.nan\n",
    "    \n",
    "    for i,thisCentroid in enumerate(tramlines[fibre]):\n",
    "#         print thisCentroid\n",
    "        try:\n",
    "            fullPx = image[ int(thisCentroid)-numPx : int(thisCentroid)+numPx+1 , i]\n",
    "            flux[i] = np.sum(fullPx) - fullPx[0]*(thisCentroid%1) - fullPx[-1]*(1-thisCentroid%1)\n",
    "#         flux1[i] = fullPx[0]*(thisCentroid%1)\n",
    "#         flux2[i] = fullPx[-1]*(1-thisCentroid%1)\n",
    "        except:\n",
    "            print fibre, 'falied'\n",
    "            print thisCentroid, 'centroid found in index',i\n",
    "            break\n",
    "#             print fibre\n",
    "    return flux"
   ]
  },
  {
   "cell_type": "code",
   "execution_count": null,
   "metadata": {
    "collapsed": true
   },
   "outputs": [],
   "source": [
    "def extract(tramlines_shifted, data):\n",
    "    extracted = np.ones(tramlines_shifted.shape)*np.nan\n",
    "    for fibre in range(tramlines_shifted.shape[0]):\n",
    "        extracted[fibre] = sum_extract(fibre,tramlines_shifted, data, 4)\n",
    "    return extracted"
   ]
  },
  {
   "cell_type": "code",
   "execution_count": null,
   "metadata": {
    "collapsed": false
   },
   "outputs": [],
   "source": [
    "def gaussian(x, mu, sig, ):\n",
    "    x = np.array(x)\n",
    "    return np.exp(-np.power(x - mu, 2.) / 2 / np.power(sig, 2.))\n",
    "\n",
    "\n",
    "def flexi_gaussian(x, mu, sig, power, a, d ):\n",
    "    x = np.array(x)\n",
    "    return a* np.exp(-np.power(np.abs((x - mu) * np.sqrt(2*np.log(2))/sig),power))+d\n",
    "\n",
    "def fit_gaussian(p, flux, x_range):\n",
    "    a = optimize.leastsq(diff_gaussian, p, args= [flux, x_range])\n",
    "    return a\n",
    "\n",
    "def fit_flexi_gaussian(p, flux, x_range):\n",
    "    a = optimize.leastsq(diff_flexi_gaussian, p, args= [flux, x_range])\n",
    "    return a\n",
    "\n",
    "def diff_gaussian(p, args):\n",
    "    \n",
    "    flux = args[0]\n",
    "    x_range = args[1]\n",
    "\n",
    "    diff = gaussian(x_range, p[0],p[1]) - flux\n",
    "    return diff\n",
    "\n",
    "def diff_flexi_gaussian(p, args):\n",
    "    \n",
    "    flux = args[0]\n",
    "    x_range = args[1]\n",
    "    weights = np.abs(np.gradient(flux)) * (flux+np.max(flux)*.1)\n",
    "    diff = (flexi_gaussian(x_range, p[0], p[1], p[2], p[3], p[4]) - flux)# *weights\n",
    "    return diff\n"
   ]
  },
  {
   "cell_type": "code",
   "execution_count": null,
   "metadata": {
    "collapsed": true
   },
   "outputs": [],
   "source": [
    "#takes a filename and an array and writes the npy in folder\\\n",
    "def write_NPY(fileName, prefix, postfix, data, folder =\"\"):\n",
    "    if folder[:-1]!=\"/\": folder += \"/\"\n",
    "    outName = folder + prefix + \"_\" + fileName.split(\"/\")[-1][:-5] + \"_\" + postfix\n",
    "    np.save(outName, data)\n",
    "    print outName, \"saved\""
   ]
  },
  {
   "cell_type": "code",
   "execution_count": null,
   "metadata": {
    "collapsed": true
   },
   "outputs": [],
   "source": [
    "#takes a filename and an array and writes the npy in folder\\\n",
    "def read_NPY(fileName, prefix, postfix, folder =\"\"):\n",
    "    if folder[:-1]!=\"/\": folder += \"/\"\n",
    "    outName = folder + prefix + \"_\" + fileName.split(\"/\")[-1][:-5] + \"_\" + postfix\n",
    "    data = np.load(outName)\n",
    "    print outName, \"read\"\n",
    "    return data"
   ]
  }
 ],
 "metadata": {
  "kernelspec": {
   "display_name": "Python 2",
   "language": "python",
   "name": "python2"
  },
  "language_info": {
   "codemirror_mode": {
    "name": "ipython",
    "version": 2
   },
   "file_extension": ".py",
   "mimetype": "text/x-python",
   "name": "python",
   "nbconvert_exporter": "python",
   "pygments_lexer": "ipython2",
   "version": "2.7.3"
  }
 },
 "nbformat": 4,
 "nbformat_minor": 0
}
