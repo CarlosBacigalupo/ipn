{
 "metadata": {
  "name": "",
  "signature": "sha256:2762fb708f07575ca5bb2a48595060f9a871f9ad4b327858e09ac92d2d3823b1"
 },
 "nbformat": 3,
 "nbformat_minor": 0,
 "worksheets": [
  {
   "cells": [
    {
     "cell_type": "code",
     "collapsed": false,
     "input": [
      "# from os import walk, system\n",
      "# #import _mysql\n",
      "# import psycopg2 as mdb\n",
      "import pyfits as pf\n",
      "# import time\n",
      "# import numpy as np\n",
      "# import ephem\n",
      "from pyraf import iraf\n",
      "import glob\n",
      "# import fileinput\n",
      "# from matplotlib import *\n",
      "# from pylab import *\n",
      "# from mpl_toolkits.mplot3d import Axes3D\n",
      "# import itertools\n",
      "# import sys\n",
      "# import galahParameters as gp\n"
     ],
     "language": "python",
     "metadata": {},
     "outputs": [],
     "prompt_number": 21
    },
    {
     "cell_type": "code",
     "collapsed": false,
     "input": [
      "def shift_master(ref, master):\n",
      "    \"\"\"\n",
      "    Find the shift between two images.\n",
      "    returns the shift in y direction (along columns)\n",
      "    \"\"\"\n",
      "    #make a narow copy of the reference flat and masterflat \n",
      "    iraf.imcopy(input=\"../\"+ref+\"[1990:2010,*]\", output=\"tmp/masterflat_ref.fitscut\",Stdout=\"/dev/null\")\n",
      "    iraf.imcopy(input=\"tmp/masterflat.fits[1990:2010,*]\", output=\"tmp/masterflat.fitscut\",Stdout=\"/dev/null\")\n",
      "\n",
      "    #find the shift with correlation\n",
      "    iraf.images(_doprint=0,Stdout=\"/dev/null\")\n",
      "    iraf.immatch(_doprint=0,Stdout=\"/dev/null\")\n",
      "\n",
      "    shift=iraf.xregister(input=\"tmp/masterflat_ref.fitscut, tmp/masterflat.fitscut\", reference=\"tmp/masterflat_ref.fitscut\", regions='[*,*]', shifts=\"tmp/mastershift\", output=\"\", databasefmt=\"no\", correlation=\"fourier\", xwindow=3, ywindow=51, xcbox=21, ycbox=21, Stdout=1)\n",
      "\n",
      "    shift=float(shift[-2].split()[-2])\n",
      "\n",
      "    #Shift the list of apertures\n",
      "    f=open(master, \"r\")\n",
      "    o=open(\"database/aptmp_masterflat_s\", \"w\")\n",
      "\n",
      "    for line in f:\n",
      "        l=line.split()\n",
      "        if len(l)>0 and l[0]=='begin':\n",
      "            l[-1]=str(float(l[-1])-shift)\n",
      "            o.write(l[0]+\"\\t\"+l[1]+\"\\t\"+\"tmp/masterflat_s\"+\"\\t\"+l[3]+\"\\t\"+l[4]+\"\\t\"+l[5]+\"\\n\")\n",
      "        elif len(l)>0 and l[0]=='center':\n",
      "            l[-1]=str(float(l[-1])-shift)\n",
      "            o.write(\"\\t\"+l[0]+\"\\t\"+l[1]+\"\\t\"+l[2]+\"\\n\")\n",
      "        elif len(l)>0 and l[0]=='image':\n",
      "            o.write(\"\\t\"+\"image\"+\"\\t\"+\"tmp/masterflat_s\"+\"\\n\")\n",
      "        else:\n",
      "            o.write(line)\n",
      "\n",
      "    f.close()\n",
      "    o.close()\n"
     ],
     "language": "python",
     "metadata": {},
     "outputs": [],
     "prompt_number": 64
    },
    {
     "cell_type": "code",
     "collapsed": false,
     "input": [
      "def extract(arcs, objs,ccd,mode=1):\n",
      "    \"\"\"\n",
      "    mode=1: 1D extraction\n",
      "    mode=2: 2D extraction\n",
      "    \"\"\"\n",
      "    #apall na vseh luckah\n",
      "    print \" + identifing arcs\"\n",
      "\n",
      "    for i in arcs:\n",
      "        iraf.hedit(images='tmp/arcs/'+i[1], fields='DISPAXIS', value=1, add='yes', verify='no', update='yes',Stdout=\"/dev/null\")\n",
      "        iraf.apall(input='tmp/arcs/%s' % (i[1]), referen='tmp/masterflat.fits', format='multispec', interac='no', find='no', recenter='no', resize='no', edit='no', trace='no', fittrac='no', extract='yes', extras='no', review='yes', lower=-3.0, upper=3.0, nsubaps=7, pfit=\"fit1d\", Stdout=\"/dev/null\")\n",
      "\n",
      "    if mode==1:\n",
      "        pass\n",
      "    else:\n",
      "        iraf.cd(\"tmp/arcs\")\n",
      "        geometry_prep(arcs,ccd)\n",
      "        os.system(\"cp transformations* ../objs/\")\n",
      "        #sys.exit(0)\n",
      "        iraf.cd(\"../..\")\n",
      "        for i in arcs:\n",
      "            os.system(\"rm tmp/arcs/%s.ms.fits\" % (i[1][:-5]))\n",
      "            os.system(\"rm tmp/arcs/%s_cut*.fits\" % (i[1][:-5]))\n",
      "            os.system(\"rm tmp/arcs/%s_t*.fits\" % (i[1][:-5]))\n",
      "            pass\n",
      "\n",
      "        os.system(\"rm tmp/arcs/calibrations/idarcs_cut*\")\n",
      "        os.system(\"rm tmp/arcs/arcs_cut*\")\n",
      "\n",
      "        #extract 2d arcs and objects\n",
      "        for i in arcs:\n",
      "            iraf.hedit(images='tmp/arcs/'+i[1], fields='DISPAXIS', value=1, add='yes', verify='no', update='yes',Stdout=\"/dev/null\")\n",
      "            iraf.apall(input='tmp/arcs/%s' % (i[1]), referen='tmp/masterflat.fits', format='multispec', interac='no', find='no', recenter='no', resize='no', edit='no', trace='no', fittrac='no', extract='yes', extras='no', review='yes', lower=-3.0, upper=3.0, nsubaps=7, pfit=\"fit1d\", Stdout=\"/dev/null\")\n",
      "            #forget apertures\n",
      "            for j in range(8,1000):\n",
      "                iraf.hedit(images='tmp/arcs/%s.ms.fits' % (i[1][:-5]), fields=\"APNUM%s\" % (str(j)), value='', delete=\"yes\", verify=\"no\", Stdout=\"/dev/null\")\n",
      "\n",
      "        for i in objs:\n",
      "            iraf.hedit(images='tmp/objs/'+i[1], fields='DISPAXIS', value=1, add='yes', verify='no', update='yes',Stdout=\"/dev/null\")\n",
      "            iraf.apall(input='tmp/objs/%s' % (i[1]), referen='tmp/masterflat.fits', format='multispec', interac='no', find='no', recenter='no', resize='no', edit='no', trace='no', fittrac='no', extract='yes', extras='no', review='yes', lower=-3.0, upper=3.0, nsubaps=7, pfit=\"fit1d\", Stdout=\"/dev/null\")\n",
      "            #forget apertures\n",
      "            for j in range(8,1000):\n",
      "                iraf.hedit(images='tmp/objs/%s.ms.fits' % (i[1][:-5]), fields=\"APNUM%s\" % (str(j)), value='', delete=\"yes\", verify=\"no\", Stdout=\"/dev/null\")\n",
      "\n",
      "        iraf.cd(\"tmp/arcs\")\n",
      "        for ii in arcs:\n",
      "            geometry_transform(ii)\n",
      "        iraf.cd(\"../..\")\n",
      "\n",
      "        iraf.cd(\"tmp/objs\")\n",
      "        for ii in objs:\n",
      "            geometry_transform(ii)\n",
      "        iraf.cd(\"../..\")\n",
      "\n",
      "    #make normal 1d extraction and copy results into it\n",
      "    for i in arcs:\n",
      "        os.system(\"rm -f tmp/arcs/%s\" % (i[1][:-5]+\".ms.fits\"))\n",
      "        iraf.apall(input='tmp/arcs/%s' % (i[1]), referen='tmp/masterflat.fits', format='multispec', interac='no', find='no', recenter='no', resize='no', edit='no', trace='no', fittrac='no', extract='yes', extras='no', review='yes', lower=-3.0, upper=3.0, nsubaps=1, pfit=\"fit1d\", Stdout=\"/dev/null\")\n",
      "        os.system(\"cp tmp/arcs/%s\" % (i[1][:-5])+\".ms.fits tmp/arcs/%s\" % (i[1][:-5])+\".ms2.fits\")\n",
      "\n",
      "        if mode==1:\n",
      "            pass\n",
      "        else:\n",
      "            for j in range(1,393):\n",
      "                os.system(\"rm -f tmp/copy_tmp.fits\")\n",
      "                try:\n",
      "                    iraf.blkavg(input=\"tmp/arcs/\"+i[1][:-5]+\"_t%s.fits\" % (str(j)), output=\"tmp/copy_tmp\", option='sum', b1=1, b2=7, Stdout=\"/dev/null\")\n",
      "                    iraf.imcopy(input=\"tmp/copy_tmp\", output=\"tmp/arcs/\"+i[1][:-5]+\".ms.fits[*,%s]\" % (j), Stdout=\"/dev/null\")\n",
      "                except:\n",
      "                    pass\n",
      "\n",
      "    for i in objs:\n",
      "        os.system(\"rm -f tmp/objs/%s\" % (i[1][:-5]+\".ms.fits\"))\n",
      "        iraf.apall(input='tmp/objs/%s' % (i[1]), referen='tmp/masterflat.fits', format='multispec', interac='no', find='no', recenter='no', resize='no', edit='no', trace='no', fittrac='no', extract='yes', extras='no', review='yes', lower=-3.0, upper=3.0, nsubaps=1, pfit=\"fit1d\", Stdout=\"/dev/null\")\n",
      "        os.system(\"cp tmp/objs/%s\" % (i[1][:-5])+\".ms.fits tmp/objs/%s\" % (i[1][:-5])+\".ms2.fits\")\n",
      "\n",
      "        if mode==1:\n",
      "            pass\n",
      "        else:\n",
      "            for j in range(1,393):\n",
      "                os.system(\"rm -f tmp/copy_tmp.fits\")\n",
      "                try:\n",
      "                    iraf.blkavg(input=\"tmp/objs/\"+i[1][:-5]+\"_t%s.fits\" % (str(j)), output=\"tmp/copy_tmp\", option='sum', b1=1, b2=7, Stdout=\"/dev/null\")\n",
      "                    iraf.imcopy(input=\"tmp/copy_tmp\", output=\"tmp/objs/\"+i[1][:-5]+\".ms.fits[*,%s]\" % (j), Stdout=\"/dev/null\")\n",
      "                except:\n",
      "                    pass\n"
     ],
     "language": "python",
     "metadata": {},
     "outputs": [],
     "prompt_number": 77
    },
    {
     "cell_type": "heading",
     "level": 3,
     "metadata": {},
     "source": [
      "BIAS"
     ]
    },
    {
     "cell_type": "code",
     "collapsed": false,
     "input": [
      "cd ~/Documents/HERMES/reductions/iraf/bias/140821/1"
     ],
     "language": "python",
     "metadata": {},
     "outputs": [
      {
       "output_type": "stream",
       "stream": "stdout",
       "text": [
        "/Users/Carlos/Documents/HERMES/reductions/iraf/bias/140821\n"
       ]
      }
     ],
     "prompt_number": 19
    },
    {
     "cell_type": "code",
     "collapsed": false,
     "input": [
      "biases = glob.glob('*.fits')`"
     ],
     "language": "python",
     "metadata": {},
     "outputs": [],
     "prompt_number": 23
    },
    {
     "cell_type": "code",
     "collapsed": false,
     "input": [
      "biases = \",\".join(biases)"
     ],
     "language": "python",
     "metadata": {},
     "outputs": [],
     "prompt_number": 34
    },
    {
     "cell_type": "code",
     "collapsed": false,
     "input": [
      "iraf.zerocombine(input=biases, output='masterbias', combine='median', reject='none', ccdtype='',Stdout=\"/dev/null\")\n"
     ],
     "language": "python",
     "metadata": {},
     "outputs": [],
     "prompt_number": 35
    },
    {
     "cell_type": "code",
     "collapsed": false,
     "input": [
      "cd ~/Documents/HERMES/reductions/iraf/HD1581/0_20aug/1/"
     ],
     "language": "python",
     "metadata": {},
     "outputs": [
      {
       "output_type": "stream",
       "stream": "stdout",
       "text": [
        "/Users/Carlos/Documents/HERMES/reductions/iraf/HD1581/0_20aug/1\n"
       ]
      }
     ],
     "prompt_number": 57
    },
    {
     "cell_type": "code",
     "collapsed": false,
     "input": [
      "a = pf.open('20aug10052.fits')\n",
      "a[0].header['RUNCMD']"
     ],
     "language": "python",
     "metadata": {},
     "outputs": [
      {
       "metadata": {},
       "output_type": "pyout",
       "prompt_number": 72,
       "text": [
        "'ARC'"
       ]
      }
     ],
     "prompt_number": 72
    },
    {
     "cell_type": "heading",
     "level": 3,
     "metadata": {},
     "source": [
      "FLAT"
     ]
    },
    {
     "cell_type": "code",
     "collapsed": false,
     "input": [
      "flat = '20aug10034.fits'\n",
      "masterflat = 'masterflat_blue0.fits'"
     ],
     "language": "python",
     "metadata": {},
     "outputs": [],
     "prompt_number": 59
    },
    {
     "cell_type": "code",
     "collapsed": false,
     "input": [
      "iraf.noao(_doprint=0,Stdout=\"/dev/null\")\n",
      "iraf.imred(_doprint=0,Stdout=\"/dev/null\")\n",
      "iraf.ccdred(_doprint=0,Stdout=\"/dev/null\")"
     ],
     "language": "python",
     "metadata": {},
     "outputs": [],
     "prompt_number": 60
    },
    {
     "cell_type": "code",
     "collapsed": false,
     "input": [
      "#bias subtract\n",
      "iraf.ccdproc(images=flat, ccdtype='', fixpix='no', oversca='no', trim='no', zerocor='yes', darkcor='no', flatcor='no', zero='masterbias',Stdout=\"/dev/null\")\n"
     ],
     "language": "python",
     "metadata": {},
     "outputs": [],
     "prompt_number": 61
    },
    {
     "cell_type": "code",
     "collapsed": false,
     "input": [
      "#apall on a flat field\n",
      "print \" + Extract masterflat\"\n",
      "iraf.noao(_doprint=0,Stdout=\"/dev/null\")\n",
      "iraf.twodspec(_doprint=0,Stdout=\"/dev/null\")\n",
      "iraf.apextract(_doprint=0,Stdout=\"/dev/null\")"
     ],
     "language": "python",
     "metadata": {},
     "outputs": [
      {
       "output_type": "stream",
       "stream": "stdout",
       "text": [
        " + Extract masterflat\n"
       ]
      }
     ],
     "prompt_number": 62
    },
    {
     "cell_type": "code",
     "collapsed": false,
     "input": [
      "#adds DISPAXIS=1 to the header\n",
      "iraf.hedit(images=flat, fields='DISPAXIS', value=1, add='yes', verify='no', update='yes',Stdout=\"/dev/null\")"
     ],
     "language": "python",
     "metadata": {},
     "outputs": [],
     "prompt_number": 63
    },
    {
     "cell_type": "code",
     "collapsed": false,
     "input": [
      "iraf.unlearn('apall') #restores initial paramenters to apall"
     ],
     "language": "python",
     "metadata": {},
     "outputs": [],
     "prompt_number": 43
    },
    {
     "cell_type": "code",
     "collapsed": false,
     "input": [
      "shift_master(ap_ref[ccd], \"database/ap%s\" % ap_ref[ccd][:-5])"
     ],
     "language": "python",
     "metadata": {},
     "outputs": [],
     "prompt_number": 44
    },
    {
     "cell_type": "code",
     "collapsed": false,
     "input": [
      "check=iraf.apall(input=flat, format='multispec', referen=flat, interac='no', find='no',\n",
      "                 recenter='yes', resize='no', edit='yes', trace='yes', fittrac='yes',\n",
      "                 extract='yes', extras='no', review='yes', line=2000, lower=-2, upper=2, \n",
      "                 nfind=392, maxsep=45, minsep=3, width=5, radius=2, ylevel=0.3, shift='yes', \n",
      "                 t_order=7, t_niter=10, t_low_r=3, t_high_r=3, t_sampl='1:4095', t_nlost=1, \n",
      "                 npeaks=392, bkg='no', b_order=7, nsum=-10,Stdout=1)"
     ],
     "language": "python",
     "metadata": {},
     "outputs": [
      {
       "output_type": "stream",
       "stream": "stderr",
       "text": [
        "Not enough points traced for aperture 1 of 20aug10034\n"
       ]
      }
     ],
     "prompt_number": 55
    },
    {
     "cell_type": "code",
     "collapsed": false,
     "input": [
      "flat"
     ],
     "language": "python",
     "metadata": {},
     "outputs": [
      {
       "metadata": {},
       "output_type": "pyout",
       "prompt_number": 68,
       "text": [
        "'20aug10034.fits'"
       ]
      }
     ],
     "prompt_number": 68
    },
    {
     "cell_type": "code",
     "collapsed": false,
     "input": [
      "#create flats with different aperture widths\n",
      "iraf.apall(input=flat, output='flat_1', referen=flat, format='multispec', interac='no', find='no', recenter='no', resize='yes', edit='no', trace='no', fittrac='no', extract='yes', extras='no', review='no', line=2000, lower=-1, upper=1, bkg='no', nsum=-10, ylevel=\"INDEF\", llimit=-1, ulimit=1,Stdout=\"/dev/null\")\n",
      "# iraf.apall(input='tmp/masterflat.fits', output='tmp/flat_2', referen='tmp/masterflat.fits', format='multispec', interac='no', find='no', recenter='no', resize='yes', edit='no', trace='no', fittrac='no', extract='yes', extras='no', review='no', line=2000, lower=-2, upper=2, bkg='no', nsum=-10, ylevel=\"INDEF\", llimit=-2, ulimit=2,Stdout=\"/dev/null\")\n",
      "# iraf.apall(input='tmp/masterflat.fits', output='tmp/flat_3', referen='tmp/masterflat.fits', format='multispec', interac='no', find='no', recenter='no', resize='yes', edit='no', trace='no', fittrac='no', extract='yes', extras='no', review='no', line=2000, lower=-3, upper=3, bkg='no', nsum=-10, ylevel=\"INDEF\", llimit=-3, ulimit=3,Stdout=\"/dev/null\")"
     ],
     "language": "python",
     "metadata": {},
     "outputs": [],
     "prompt_number": 69
    },
    {
     "cell_type": "code",
     "collapsed": false,
     "input": [
      "#normalize different flats\n",
      "iraf.noao(_doprint=0,Stdout=\"/dev/null\")\n",
      "iraf.onedspec(_doprint=0,Stdout=\"/dev/null\")\n",
      "iraf.continuum(input=flat, output='flat_1_norm', lines='*', bands='*', type='ratio', wavescale='no', interac='no', sample='1:4095', functio='spline3', order=13, low_rej=2, high_rej=2, niter=10,Stdout=\"/dev/null\")\n",
      "# iraf.continuum(input='tmp/flat_2', output='tmp/flat_2_norm', lines='*', bands='*', type='ratio', wavescale='no', interac='no', sample='1:4095', functio='spline3', order=13, low_rej=2, high_rej=2, niter=10,Stdout=\"/dev/null\")\n",
      "# iraf.continuum(input='tmp/flat_3', output='tmp/flat_3_norm', lines='*', bands='*', type='ratio', wavescale='no', interac='no', sample='1:4095', functio='spline3', order=13, low_rej=2, high_rej=2, niter=10,Stdout=\"/dev/null\")"
     ],
     "language": "python",
     "metadata": {},
     "outputs": [],
     "prompt_number": 70
    },
    {
     "cell_type": "code",
     "collapsed": false,
     "input": [
      "#combine normalized flats\n",
      "# iraf.images(_doprint=0,Stdout=\"/dev/null\")\n",
      "# iraf.imutil(_doprint=0,Stdout=\"/dev/null\")\n",
      "# iraf.imarith(operand1='tmp/flat_1_norm', op='*', operand2=0.43, result='tmp/flat_1_norm2',Stdout=\"/dev/null\")\n",
      "# iraf.imarith(operand1='tmp/flat_2_norm', op='*', operand2=0.41, result='tmp/flat_2_norm2',Stdout=\"/dev/null\")\n",
      "# iraf.imarith(operand1='tmp/flat_3_norm', op='*', operand2=0.16, result='tmp/flat_3_norm2',Stdout=\"/dev/null\")"
     ],
     "language": "python",
     "metadata": {},
     "outputs": []
    },
    {
     "cell_type": "code",
     "collapsed": false,
     "input": [
      "iraf.imsum(input='*norm.fits', output='masterflat_norm.fits', option='sum',Stdout=\"/dev/null\")"
     ],
     "language": "python",
     "metadata": {},
     "outputs": [],
     "prompt_number": 71
    },
    {
     "cell_type": "heading",
     "level": 3,
     "metadata": {},
     "source": [
      "arcs"
     ]
    },
    {
     "cell_type": "code",
     "collapsed": false,
     "input": [
      "arc = '20aug10052.fits'\n",
      "obj = '20aug10053.fits'"
     ],
     "language": "python",
     "metadata": {},
     "outputs": [],
     "prompt_number": 78
    },
    {
     "cell_type": "code",
     "collapsed": false,
     "input": [
      "#find arcs\n",
      "#     print \" + Reducing arcs\"\n",
      "#     cur.execute(\"SELECT spec_path,name from fields where ymd=%s and ccd='%s' and obstype='ARC' and plate='%s'\" % (ymd, ccd, plate))\n",
      "#     arcs=cur.fetchall()\n",
      "\n",
      "#     #find object frames\n",
      "#     cur.execute(\"SELECT spec_path,name from fields where ymd=%s and ccd='%s' and obstype='OBJECT' and plate='%s'\" % (ymd, ccd, plate))\n",
      "#     objs=cur.fetchall()\n",
      "\n",
      "#     #make a new list of objects if a list of exposures is given:\n",
      "#     objs_new=[]\n",
      "#     for i in objs:\n",
      "#         #print i[0][-9:-5]\n",
      "#         if (str(i[0][-9:-5]) in list_of_exp) or (list_of_exp==['*']): objs_new.append(i)\n",
      "#     else: pass\n",
      "\n",
      "#     #print objs_new, list_of_exp\n",
      "#     objs=objs_new\n",
      "\n",
      "#     #copy arcs to tmp folder\n",
      "#     for i in arcs:\n",
      "#         system(\"cp %s tmp/arcs/\" % (i[0]))\n",
      "\n",
      "#     #copy objs to tmp folder\n",
      "#     for i in objs:\n",
      "#         system(\"cp %s tmp/objs/\" % (i[0]))"
     ],
     "language": "python",
     "metadata": {},
     "outputs": []
    },
    {
     "cell_type": "code",
     "collapsed": false,
     "input": [
      "#reduce arcs\n",
      "iraf.noao(_doprint=0,Stdout=\"/dev/null\")\n",
      "iraf.imred(_doprint=0,Stdout=\"/dev/null\")\n",
      "iraf.ccdred(_doprint=0,Stdout=\"/dev/null\")"
     ],
     "language": "python",
     "metadata": {},
     "outputs": [],
     "prompt_number": 73
    },
    {
     "cell_type": "code",
     "collapsed": false,
     "input": [
      "iraf.ccdproc(images=arc, ccdtype='', fixpix='no', oversca='no', trim='no', zerocor='yes', darkcor='no', flatcor='no', zero='masterbias',Stdout=\"/dev/null\")"
     ],
     "language": "python",
     "metadata": {},
     "outputs": [],
     "prompt_number": 76
    },
    {
     "cell_type": "code",
     "collapsed": false,
     "input": [
      "#reduce object frames\n",
      "print \" + Reducing objects\"\n",
      "iraf.hedit(images=obj, fields='DISPAXIS', value=1, add='yes', verify='no', update='yes',Stdout=\"/dev/null\")\n",
      "iraf.ccdproc(images=obj, ccdtype='', fixpix='no', oversca='no', trim='no', zerocor='yes', darkcor='no', flatcor='no', zero='masterbias',Stdout=\"/dev/null\")\n"
     ],
     "language": "python",
     "metadata": {},
     "outputs": [
      {
       "output_type": "stream",
       "stream": "stdout",
       "text": [
        " + Reducing objects\n"
       ]
      }
     ],
     "prompt_number": 79
    },
    {
     "cell_type": "code",
     "collapsed": false,
     "input": [
      "#fit and subtract scattered light\n",
      "print \" + Fitting and removing scattered light\"\n",
      "iraf.apscat1.functio='cheb'\n",
      "iraf.apscat1.sample='10:4090'\n",
      "iraf.apscat1.order=9\n",
      "iraf.apscat1.low_rej=4\n",
      "iraf.apscat1.high_rej=1.1\n",
      "iraf.apscat1.niter=10\n",
      "iraf.apscat1.grow=0\n",
      "iraf.apscat1.naverage=-1\n",
      "\n",
      "iraf.apscat2.functio='cheb'\n",
      "iraf.apscat2.order=5\n",
      "iraf.apscat2.sample='1:4095'\n",
      "iraf.apscat2.low_rej=3\n",
      "iraf.apscat2.high_rej=3\n",
      "iraf.apscat2.niter=5\n",
      "iraf.apscat2.grow=1\n",
      "iraf.apscat2.naverage=-70\n"
     ],
     "language": "python",
     "metadata": {},
     "outputs": [
      {
       "output_type": "stream",
       "stream": "stdout",
       "text": [
        " + Fitting and removing scattered light\n"
       ]
      }
     ],
     "prompt_number": 80
    },
    {
     "cell_type": "code",
     "collapsed": false,
     "input": [
      "iraf.imcopy(input=obj, output='sct',Stdout=\"/dev/null\")\n",
      "iraf.apscatter(input=obj, output='', referen='masterflat_norm', interac='no', find='no', recente='no', resize='no', edit='no', trace='no', fittrace='no', subtrac='yes', smooth='yes', fitscat='yes', fitsmoo='yes', buffer=0.7)\n"
     ],
     "language": "python",
     "metadata": {},
     "outputs": [
      {
       "output_type": "stream",
       "stream": "stderr",
       "text": [
        "WARNING: Reference image (masterflat_norm) apertures not found\n"
       ]
      }
     ],
     "prompt_number": 85
    },
    {
     "cell_type": "code",
     "collapsed": false,
     "input": [
      "extract(arc, obj, ccd)\n"
     ],
     "language": "python",
     "metadata": {},
     "outputs": []
    },
    {
     "cell_type": "code",
     "collapsed": false,
     "input": [
      "ccd"
     ],
     "language": "python",
     "metadata": {},
     "outputs": [
      {
       "ename": "NameError",
       "evalue": "name 'ccd' is not defined",
       "output_type": "pyerr",
       "traceback": [
        "\u001b[0;31m---------------------------------------------------------------------------\u001b[0m\n\u001b[0;31mNameError\u001b[0m                                 Traceback (most recent call last)",
        "\u001b[0;32m<ipython-input-86-d74735605d5e>\u001b[0m in \u001b[0;36m<module>\u001b[0;34m()\u001b[0m\n\u001b[0;32m----> 1\u001b[0;31m \u001b[0mccd\u001b[0m\u001b[0;34m\u001b[0m\u001b[0m\n\u001b[0m",
        "\u001b[0;31mNameError\u001b[0m: name 'ccd' is not defined"
       ]
      }
     ],
     "prompt_number": 86
    },
    {
     "cell_type": "code",
     "collapsed": false,
     "input": [
      "import pyfits as pf\n",
      "import pylab as plt\n"
     ],
     "language": "python",
     "metadata": {},
     "outputs": [],
     "prompt_number": 1
    },
    {
     "cell_type": "code",
     "collapsed": false,
     "input": [
      "pwd"
     ],
     "language": "python",
     "metadata": {},
     "outputs": [
      {
       "metadata": {},
       "output_type": "pyout",
       "prompt_number": 2,
       "text": [
        "u'/Users/Carlos/Documents/ipn'"
       ]
      }
     ],
     "prompt_number": 2
    },
    {
     "cell_type": "code",
     "collapsed": false,
     "input": [
      "cd ~/Documents/workspace/GAP/IrafReduction/results/140821/\n"
     ],
     "language": "python",
     "metadata": {},
     "outputs": [
      {
       "output_type": "stream",
       "stream": "stdout",
       "text": [
        "/Users/Carlos/Documents/workspace/GAP/IrafReduction/results/140821\n"
       ]
      }
     ],
     "prompt_number": 56
    },
    {
     "cell_type": "code",
     "collapsed": false,
     "input": [],
     "language": "python",
     "metadata": {},
     "outputs": []
    },
    {
     "cell_type": "code",
     "collapsed": false,
     "input": [
      "b = pf.open('21aug10038.ms.fits')"
     ],
     "language": "python",
     "metadata": {},
     "outputs": [
      {
       "ename": "IOError",
       "evalue": "[Errno 2] No such file or directory: '21aug10038.ms.fits'",
       "output_type": "pyerr",
       "traceback": [
        "\u001b[0;31m---------------------------------------------------------------------------\u001b[0m\n\u001b[0;31mIOError\u001b[0m                                   Traceback (most recent call last)",
        "\u001b[0;32m<ipython-input-58-1d2d14fdd42a>\u001b[0m in \u001b[0;36m<module>\u001b[0;34m()\u001b[0m\n\u001b[0;32m----> 1\u001b[0;31m \u001b[0mb\u001b[0m \u001b[0;34m=\u001b[0m \u001b[0mpf\u001b[0m\u001b[0;34m.\u001b[0m\u001b[0mopen\u001b[0m\u001b[0;34m(\u001b[0m\u001b[0;34m'21aug10038.ms.fits'\u001b[0m\u001b[0;34m)\u001b[0m\u001b[0;34m\u001b[0m\u001b[0m\n\u001b[0m",
        "\u001b[0;32m/opt/local/Library/Frameworks/Python.framework/Versions/2.7/lib/python2.7/site-packages/pyfits/util.pyc\u001b[0m in \u001b[0;36m_with_extensions_wrapper\u001b[0;34m(*args, **kwargs)\u001b[0m\n\u001b[1;32m    204\u001b[0m             \u001b[0;32mdel\u001b[0m \u001b[0mkwargs\u001b[0m\u001b[0;34m[\u001b[0m\u001b[0;34m'classExtensions'\u001b[0m\u001b[0;34m]\u001b[0m\u001b[0;34m\u001b[0m\u001b[0m\n\u001b[1;32m    205\u001b[0m         \u001b[0;32mtry\u001b[0m\u001b[0;34m:\u001b[0m\u001b[0;34m\u001b[0m\u001b[0m\n\u001b[0;32m--> 206\u001b[0;31m             \u001b[0;32mreturn\u001b[0m \u001b[0mfunc\u001b[0m\u001b[0;34m(\u001b[0m\u001b[0;34m*\u001b[0m\u001b[0margs\u001b[0m\u001b[0;34m,\u001b[0m \u001b[0;34m**\u001b[0m\u001b[0mkwargs\u001b[0m\u001b[0;34m)\u001b[0m\u001b[0;34m\u001b[0m\u001b[0m\n\u001b[0m\u001b[1;32m    207\u001b[0m         \u001b[0;32mfinally\u001b[0m\u001b[0;34m:\u001b[0m\u001b[0;34m\u001b[0m\u001b[0m\n\u001b[1;32m    208\u001b[0m             \u001b[0;32mif\u001b[0m \u001b[0mextension_classes\u001b[0m\u001b[0;34m:\u001b[0m\u001b[0;34m\u001b[0m\u001b[0m\n",
        "\u001b[0;32m/opt/local/Library/Frameworks/Python.framework/Versions/2.7/lib/python2.7/site-packages/pyfits/hdu/hdulist.pyc\u001b[0m in \u001b[0;36mfitsopen\u001b[0;34m(name, mode, memmap, classExtensions, **kwargs)\u001b[0m\n\u001b[1;32m    101\u001b[0m         \u001b[0;32mraise\u001b[0m \u001b[0mValueError\u001b[0m\u001b[0;34m(\u001b[0m\u001b[0;34m'Empty filename: %s'\u001b[0m \u001b[0;34m%\u001b[0m \u001b[0mrepr\u001b[0m\u001b[0;34m(\u001b[0m\u001b[0mname\u001b[0m\u001b[0;34m)\u001b[0m\u001b[0;34m)\u001b[0m\u001b[0;34m\u001b[0m\u001b[0m\n\u001b[1;32m    102\u001b[0m \u001b[0;34m\u001b[0m\u001b[0m\n\u001b[0;32m--> 103\u001b[0;31m     \u001b[0;32mreturn\u001b[0m \u001b[0mHDUList\u001b[0m\u001b[0;34m.\u001b[0m\u001b[0mfromfile\u001b[0m\u001b[0;34m(\u001b[0m\u001b[0mname\u001b[0m\u001b[0;34m,\u001b[0m \u001b[0mmode\u001b[0m\u001b[0;34m,\u001b[0m \u001b[0mmemmap\u001b[0m\u001b[0;34m,\u001b[0m \u001b[0;34m**\u001b[0m\u001b[0mkwargs\u001b[0m\u001b[0;34m)\u001b[0m\u001b[0;34m\u001b[0m\u001b[0m\n\u001b[0m\u001b[1;32m    104\u001b[0m \u001b[0;34m\u001b[0m\u001b[0m\n\u001b[1;32m    105\u001b[0m \u001b[0;34m\u001b[0m\u001b[0m\n",
        "\u001b[0;32m/opt/local/Library/Frameworks/Python.framework/Versions/2.7/lib/python2.7/site-packages/pyfits/hdu/hdulist.pyc\u001b[0m in \u001b[0;36mfromfile\u001b[0;34m(cls, fileobj, mode, memmap, **kwargs)\u001b[0m\n\u001b[1;32m    231\u001b[0m \u001b[0;34m\u001b[0m\u001b[0m\n\u001b[1;32m    232\u001b[0m         \u001b[0;31m# instantiate a FITS file object (ffo)\u001b[0m\u001b[0;34m\u001b[0m\u001b[0;34m\u001b[0m\u001b[0m\n\u001b[0;32m--> 233\u001b[0;31m         \u001b[0mffo\u001b[0m \u001b[0;34m=\u001b[0m \u001b[0m_File\u001b[0m\u001b[0;34m(\u001b[0m\u001b[0mfileobj\u001b[0m\u001b[0;34m,\u001b[0m \u001b[0mmode\u001b[0m\u001b[0;34m=\u001b[0m\u001b[0mmode\u001b[0m\u001b[0;34m,\u001b[0m \u001b[0mmemmap\u001b[0m\u001b[0;34m=\u001b[0m\u001b[0mmemmap\u001b[0m\u001b[0;34m)\u001b[0m\u001b[0;34m\u001b[0m\u001b[0m\n\u001b[0m\u001b[1;32m    234\u001b[0m         \u001b[0mhdulist\u001b[0m \u001b[0;34m=\u001b[0m \u001b[0mcls\u001b[0m\u001b[0;34m(\u001b[0m\u001b[0mfile\u001b[0m\u001b[0;34m=\u001b[0m\u001b[0mffo\u001b[0m\u001b[0;34m)\u001b[0m\u001b[0;34m\u001b[0m\u001b[0m\n\u001b[1;32m    235\u001b[0m \u001b[0;34m\u001b[0m\u001b[0m\n",
        "\u001b[0;32m/opt/local/Library/Frameworks/Python.framework/Versions/2.7/lib/python2.7/site-packages/pyfits/util.pyc\u001b[0m in \u001b[0;36m__call__\u001b[0;34m(cls, *args, **kwargs)\u001b[0m\n\u001b[1;32m     32\u001b[0m             \u001b[0mcls\u001b[0m \u001b[0;34m=\u001b[0m \u001b[0mcls\u001b[0m\u001b[0;34m.\u001b[0m\u001b[0m_extensions\u001b[0m\u001b[0;34m[\u001b[0m\u001b[0mcls\u001b[0m\u001b[0;34m]\u001b[0m\u001b[0;34m\u001b[0m\u001b[0m\n\u001b[1;32m     33\u001b[0m         \u001b[0mself\u001b[0m \u001b[0;34m=\u001b[0m \u001b[0mcls\u001b[0m\u001b[0;34m.\u001b[0m\u001b[0m__new__\u001b[0m\u001b[0;34m(\u001b[0m\u001b[0mcls\u001b[0m\u001b[0;34m,\u001b[0m \u001b[0;34m*\u001b[0m\u001b[0margs\u001b[0m\u001b[0;34m,\u001b[0m \u001b[0;34m**\u001b[0m\u001b[0mkwargs\u001b[0m\u001b[0;34m)\u001b[0m\u001b[0;34m\u001b[0m\u001b[0m\n\u001b[0;32m---> 34\u001b[0;31m         \u001b[0mself\u001b[0m\u001b[0;34m.\u001b[0m\u001b[0m__init__\u001b[0m\u001b[0;34m(\u001b[0m\u001b[0;34m*\u001b[0m\u001b[0margs\u001b[0m\u001b[0;34m,\u001b[0m \u001b[0;34m**\u001b[0m\u001b[0mkwargs\u001b[0m\u001b[0;34m)\u001b[0m\u001b[0;34m\u001b[0m\u001b[0m\n\u001b[0m\u001b[1;32m     35\u001b[0m         \u001b[0;32mreturn\u001b[0m \u001b[0mself\u001b[0m\u001b[0;34m\u001b[0m\u001b[0m\n\u001b[1;32m     36\u001b[0m \u001b[0;34m\u001b[0m\u001b[0m\n",
        "\u001b[0;32m/opt/local/Library/Frameworks/Python.framework/Versions/2.7/lib/python2.7/site-packages/pyfits/file.pyc\u001b[0m in \u001b[0;36m__init__\u001b[0;34m(self, fileobj, mode, memmap)\u001b[0m\n\u001b[1;32m     74\u001b[0m                 \u001b[0;31m# get it over the web.\u001b[0m\u001b[0;34m\u001b[0m\u001b[0;34m\u001b[0m\u001b[0m\n\u001b[1;32m     75\u001b[0m                 \u001b[0;31m#\u001b[0m\u001b[0;34m\u001b[0m\u001b[0;34m\u001b[0m\u001b[0m\n\u001b[0;32m---> 76\u001b[0;31m             \u001b[0mself\u001b[0m\u001b[0;34m.\u001b[0m\u001b[0mname\u001b[0m\u001b[0;34m,\u001b[0m \u001b[0m_\u001b[0m \u001b[0;34m=\u001b[0m \u001b[0murllib\u001b[0m\u001b[0;34m.\u001b[0m\u001b[0murlretrieve\u001b[0m\u001b[0;34m(\u001b[0m\u001b[0mfileobj\u001b[0m\u001b[0;34m)\u001b[0m\u001b[0;34m\u001b[0m\u001b[0m\n\u001b[0m\u001b[1;32m     77\u001b[0m         \u001b[0;32melse\u001b[0m\u001b[0;34m:\u001b[0m\u001b[0;34m\u001b[0m\u001b[0m\n\u001b[1;32m     78\u001b[0m             \u001b[0mself\u001b[0m\u001b[0;34m.\u001b[0m\u001b[0mname\u001b[0m \u001b[0;34m=\u001b[0m \u001b[0mfileobj_name\u001b[0m\u001b[0;34m(\u001b[0m\u001b[0mfileobj\u001b[0m\u001b[0;34m)\u001b[0m\u001b[0;34m\u001b[0m\u001b[0m\n",
        "\u001b[0;32m/Applications/Canopy.app/appdata/canopy-1.1.0.1371.macosx-x86_64/Canopy.app/Contents/lib/python2.7/urllib.pyc\u001b[0m in \u001b[0;36murlretrieve\u001b[0;34m(url, filename, reporthook, data)\u001b[0m\n\u001b[1;32m     91\u001b[0m     \u001b[0;32mif\u001b[0m \u001b[0;32mnot\u001b[0m \u001b[0m_urlopener\u001b[0m\u001b[0;34m:\u001b[0m\u001b[0;34m\u001b[0m\u001b[0m\n\u001b[1;32m     92\u001b[0m         \u001b[0m_urlopener\u001b[0m \u001b[0;34m=\u001b[0m \u001b[0mFancyURLopener\u001b[0m\u001b[0;34m(\u001b[0m\u001b[0;34m)\u001b[0m\u001b[0;34m\u001b[0m\u001b[0m\n\u001b[0;32m---> 93\u001b[0;31m     \u001b[0;32mreturn\u001b[0m \u001b[0m_urlopener\u001b[0m\u001b[0;34m.\u001b[0m\u001b[0mretrieve\u001b[0m\u001b[0;34m(\u001b[0m\u001b[0murl\u001b[0m\u001b[0;34m,\u001b[0m \u001b[0mfilename\u001b[0m\u001b[0;34m,\u001b[0m \u001b[0mreporthook\u001b[0m\u001b[0;34m,\u001b[0m \u001b[0mdata\u001b[0m\u001b[0;34m)\u001b[0m\u001b[0;34m\u001b[0m\u001b[0m\n\u001b[0m\u001b[1;32m     94\u001b[0m \u001b[0;32mdef\u001b[0m \u001b[0murlcleanup\u001b[0m\u001b[0;34m(\u001b[0m\u001b[0;34m)\u001b[0m\u001b[0;34m:\u001b[0m\u001b[0;34m\u001b[0m\u001b[0m\n\u001b[1;32m     95\u001b[0m     \u001b[0;32mif\u001b[0m \u001b[0m_urlopener\u001b[0m\u001b[0;34m:\u001b[0m\u001b[0;34m\u001b[0m\u001b[0m\n",
        "\u001b[0;32m/Applications/Canopy.app/appdata/canopy-1.1.0.1371.macosx-x86_64/Canopy.app/Contents/lib/python2.7/urllib.pyc\u001b[0m in \u001b[0;36mretrieve\u001b[0;34m(self, url, filename, reporthook, data)\u001b[0m\n\u001b[1;32m    237\u001b[0m             \u001b[0;32mexcept\u001b[0m \u001b[0mIOError\u001b[0m\u001b[0;34m:\u001b[0m\u001b[0;34m\u001b[0m\u001b[0m\n\u001b[1;32m    238\u001b[0m                 \u001b[0;32mpass\u001b[0m\u001b[0;34m\u001b[0m\u001b[0m\n\u001b[0;32m--> 239\u001b[0;31m         \u001b[0mfp\u001b[0m \u001b[0;34m=\u001b[0m \u001b[0mself\u001b[0m\u001b[0;34m.\u001b[0m\u001b[0mopen\u001b[0m\u001b[0;34m(\u001b[0m\u001b[0murl\u001b[0m\u001b[0;34m,\u001b[0m \u001b[0mdata\u001b[0m\u001b[0;34m)\u001b[0m\u001b[0;34m\u001b[0m\u001b[0m\n\u001b[0m\u001b[1;32m    240\u001b[0m         \u001b[0;32mtry\u001b[0m\u001b[0;34m:\u001b[0m\u001b[0;34m\u001b[0m\u001b[0m\n\u001b[1;32m    241\u001b[0m             \u001b[0mheaders\u001b[0m \u001b[0;34m=\u001b[0m \u001b[0mfp\u001b[0m\u001b[0;34m.\u001b[0m\u001b[0minfo\u001b[0m\u001b[0;34m(\u001b[0m\u001b[0;34m)\u001b[0m\u001b[0;34m\u001b[0m\u001b[0m\n",
        "\u001b[0;32m/Applications/Canopy.app/appdata/canopy-1.1.0.1371.macosx-x86_64/Canopy.app/Contents/lib/python2.7/urllib.pyc\u001b[0m in \u001b[0;36mopen\u001b[0;34m(self, fullurl, data)\u001b[0m\n\u001b[1;32m    205\u001b[0m         \u001b[0;32mtry\u001b[0m\u001b[0;34m:\u001b[0m\u001b[0;34m\u001b[0m\u001b[0m\n\u001b[1;32m    206\u001b[0m             \u001b[0;32mif\u001b[0m \u001b[0mdata\u001b[0m \u001b[0;32mis\u001b[0m \u001b[0mNone\u001b[0m\u001b[0;34m:\u001b[0m\u001b[0;34m\u001b[0m\u001b[0m\n\u001b[0;32m--> 207\u001b[0;31m                 \u001b[0;32mreturn\u001b[0m \u001b[0mgetattr\u001b[0m\u001b[0;34m(\u001b[0m\u001b[0mself\u001b[0m\u001b[0;34m,\u001b[0m \u001b[0mname\u001b[0m\u001b[0;34m)\u001b[0m\u001b[0;34m(\u001b[0m\u001b[0murl\u001b[0m\u001b[0;34m)\u001b[0m\u001b[0;34m\u001b[0m\u001b[0m\n\u001b[0m\u001b[1;32m    208\u001b[0m             \u001b[0;32melse\u001b[0m\u001b[0;34m:\u001b[0m\u001b[0;34m\u001b[0m\u001b[0m\n\u001b[1;32m    209\u001b[0m                 \u001b[0;32mreturn\u001b[0m \u001b[0mgetattr\u001b[0m\u001b[0;34m(\u001b[0m\u001b[0mself\u001b[0m\u001b[0;34m,\u001b[0m \u001b[0mname\u001b[0m\u001b[0;34m)\u001b[0m\u001b[0;34m(\u001b[0m\u001b[0murl\u001b[0m\u001b[0;34m,\u001b[0m \u001b[0mdata\u001b[0m\u001b[0;34m)\u001b[0m\u001b[0;34m\u001b[0m\u001b[0m\n",
        "\u001b[0;32m/Applications/Canopy.app/appdata/canopy-1.1.0.1371.macosx-x86_64/Canopy.app/Contents/lib/python2.7/urllib.pyc\u001b[0m in \u001b[0;36mopen_file\u001b[0;34m(self, url)\u001b[0m\n\u001b[1;32m    460\u001b[0m             \u001b[0;32mreturn\u001b[0m \u001b[0mself\u001b[0m\u001b[0;34m.\u001b[0m\u001b[0mopen_ftp\u001b[0m\u001b[0;34m(\u001b[0m\u001b[0murl\u001b[0m\u001b[0;34m)\u001b[0m\u001b[0;34m\u001b[0m\u001b[0m\n\u001b[1;32m    461\u001b[0m         \u001b[0;32melse\u001b[0m\u001b[0;34m:\u001b[0m\u001b[0;34m\u001b[0m\u001b[0m\n\u001b[0;32m--> 462\u001b[0;31m             \u001b[0;32mreturn\u001b[0m \u001b[0mself\u001b[0m\u001b[0;34m.\u001b[0m\u001b[0mopen_local_file\u001b[0m\u001b[0;34m(\u001b[0m\u001b[0murl\u001b[0m\u001b[0;34m)\u001b[0m\u001b[0;34m\u001b[0m\u001b[0m\n\u001b[0m\u001b[1;32m    463\u001b[0m \u001b[0;34m\u001b[0m\u001b[0m\n\u001b[1;32m    464\u001b[0m     \u001b[0;32mdef\u001b[0m \u001b[0mopen_local_file\u001b[0m\u001b[0;34m(\u001b[0m\u001b[0mself\u001b[0m\u001b[0;34m,\u001b[0m \u001b[0murl\u001b[0m\u001b[0;34m)\u001b[0m\u001b[0;34m:\u001b[0m\u001b[0;34m\u001b[0m\u001b[0m\n",
        "\u001b[0;32m/Applications/Canopy.app/appdata/canopy-1.1.0.1371.macosx-x86_64/Canopy.app/Contents/lib/python2.7/urllib.pyc\u001b[0m in \u001b[0;36mopen_local_file\u001b[0;34m(self, url)\u001b[0m\n\u001b[1;32m    474\u001b[0m             \u001b[0mstats\u001b[0m \u001b[0;34m=\u001b[0m \u001b[0mos\u001b[0m\u001b[0;34m.\u001b[0m\u001b[0mstat\u001b[0m\u001b[0;34m(\u001b[0m\u001b[0mlocalname\u001b[0m\u001b[0;34m)\u001b[0m\u001b[0;34m\u001b[0m\u001b[0m\n\u001b[1;32m    475\u001b[0m         \u001b[0;32mexcept\u001b[0m \u001b[0mOSError\u001b[0m\u001b[0;34m,\u001b[0m \u001b[0me\u001b[0m\u001b[0;34m:\u001b[0m\u001b[0;34m\u001b[0m\u001b[0m\n\u001b[0;32m--> 476\u001b[0;31m             \u001b[0;32mraise\u001b[0m \u001b[0mIOError\u001b[0m\u001b[0;34m(\u001b[0m\u001b[0me\u001b[0m\u001b[0;34m.\u001b[0m\u001b[0merrno\u001b[0m\u001b[0;34m,\u001b[0m \u001b[0me\u001b[0m\u001b[0;34m.\u001b[0m\u001b[0mstrerror\u001b[0m\u001b[0;34m,\u001b[0m \u001b[0me\u001b[0m\u001b[0;34m.\u001b[0m\u001b[0mfilename\u001b[0m\u001b[0;34m)\u001b[0m\u001b[0;34m\u001b[0m\u001b[0m\n\u001b[0m\u001b[1;32m    477\u001b[0m         \u001b[0msize\u001b[0m \u001b[0;34m=\u001b[0m \u001b[0mstats\u001b[0m\u001b[0;34m.\u001b[0m\u001b[0mst_size\u001b[0m\u001b[0;34m\u001b[0m\u001b[0m\n\u001b[1;32m    478\u001b[0m         \u001b[0mmodified\u001b[0m \u001b[0;34m=\u001b[0m \u001b[0memail\u001b[0m\u001b[0;34m.\u001b[0m\u001b[0mutils\u001b[0m\u001b[0;34m.\u001b[0m\u001b[0mformatdate\u001b[0m\u001b[0;34m(\u001b[0m\u001b[0mstats\u001b[0m\u001b[0;34m.\u001b[0m\u001b[0mst_mtime\u001b[0m\u001b[0;34m,\u001b[0m \u001b[0musegmt\u001b[0m\u001b[0;34m=\u001b[0m\u001b[0mTrue\u001b[0m\u001b[0;34m)\u001b[0m\u001b[0;34m\u001b[0m\u001b[0m\n",
        "\u001b[0;31mIOError\u001b[0m: [Errno 2] No such file or directory: '21aug10038.ms.fits'"
       ]
      }
     ],
     "prompt_number": 58
    },
    {
     "cell_type": "code",
     "collapsed": false,
     "input": [
      "ls"
     ],
     "language": "python",
     "metadata": {},
     "outputs": [
      {
       "output_type": "stream",
       "stream": "stdout",
       "text": [
        "\u001b[34mbadpix\u001b[m\u001b[m/     \u001b[34mcombined\u001b[m\u001b[m/   \u001b[34mcross\u001b[m\u001b[m/      \u001b[34mhelio\u001b[m\u001b[m/      \u001b[34mnorm\u001b[m\u001b[m/       \u001b[34msky\u001b[m\u001b[m/        \u001b[34mtel\u001b[m\u001b[m/\r\n",
        "\u001b[34mblaze\u001b[m\u001b[m/      \u001b[34mcosmicmask\u001b[m\u001b[m/ \u001b[34mdisp\u001b[m\u001b[m/       \u001b[34midfiles\u001b[m\u001b[m/    \u001b[34mraw\u001b[m\u001b[m/        \u001b[34mskyspec\u001b[m\u001b[m/\r\n"
       ]
      }
     ],
     "prompt_number": 4
    },
    {
     "cell_type": "code",
     "collapsed": false,
     "input": [
      "cd norm/"
     ],
     "language": "python",
     "metadata": {},
     "outputs": [
      {
       "output_type": "stream",
       "stream": "stdout",
       "text": [
        "/Users/Carlos/Documents/workspace/GAP/IrafReduction/results/140820/norm\n"
       ]
      }
     ],
     "prompt_number": 5
    },
    {
     "cell_type": "code",
     "collapsed": false,
     "input": [
      "ls"
     ],
     "language": "python",
     "metadata": {},
     "outputs": [
      {
       "output_type": "stream",
       "stream": "stdout",
       "text": [
        "20aug10020.ms.fits  20aug10039.ms.fits  20aug10040.ms.fits  20aug10041.ms.fits\r\n"
       ]
      }
     ],
     "prompt_number": 6
    },
    {
     "cell_type": "code",
     "collapsed": false,
     "input": [
      "a = pf.open('20aug10039.ms.fits')"
     ],
     "language": "python",
     "metadata": {},
     "outputs": [],
     "prompt_number": 11
    },
    {
     "cell_type": "code",
     "collapsed": false,
     "input": [
      "a[0].header[:]"
     ],
     "language": "python",
     "metadata": {},
     "outputs": [
      {
       "metadata": {},
       "output_type": "pyout",
       "prompt_number": 21,
       "text": [
        "SIMPLE  =                    T / Fits standard                                  BITPIX  =                  -32 / Bits per pixel                                 NAXIS   =                    2 / Number of axes                                 NAXIS1  =                 4096 / Axis length                                    NAXIS2  =                  392 / Axis length                                    EXTEND  =                    F / File may contain extensions                    ORIGIN  = 'NOAO-IRAF FITS Image Kernel July 2003' / FITS file originator        DATE    = '2015-07-14T00:10:41' / Date FITS file was generated                  IRAF-TLM= '2015-07-14T00:10:32' / Time of last modification                     OBJECT  = 'HD285507 #227 (Pivot 223)' / Name of the object observed             COMMENT   FITS (Flexible Image Transport System) format is defined in 'AstronomyCOMMENT   and Astrophysics', volume 376, page 359; bibcode: 2001A&A...376..359H LONGSTRN= 'OGIP 1.0'           / The HEASARC Long String Convention may be used.COMMENT   This FITS file may contain long string keyword values that are        COMMENT   continued over multiple keywords.  The HEASARC convention uses the &  COMMENT   character at the end of each substring which is then continued        COMMENT   on the next keyword which has the name CONTINUE.                      DCT_DATE= 'Oct  9 2013'        / DCT release date                               DCT_VER = 'r3_138  '           / DCT version number                             DETECXE =                 4096 / Last column of detector                        DETECXS =                    1 / First column of detector                       DETECYE =                 4112 / Last row of detector                           DETECYS =                    1 / First row of detector                          FIRMVSYS= 'System: AAO2 CCD Controller System Controller V1.28 130312' / System FIRMVSEQ= 'Sequencer: AAO2 CCD Controller Sequencer V1.3 110321' / Sequencer firDETECTOR= 'E2V5-B  '           / Detector name                                  XPIXSIZE=                  15. / X Pixel size in microns                        YPIXSIZE=                  15. / Y Pixel size in microns                        CONFIGID=                   13 / Controller configuration Id                    DETECTID=                   13 / Controller detector Id                         ABCKPLID=                    6 / Analog backplane Id                            VIDPBID =                    7 / Video personality board Id                     CLKPBID =                   21 / Clock personality board Id                     BRDID_1 =                65537 / Controller board #1 Id                         BRDSN_1 =                   18 / Controller board #1 serial #                   BRDID_2 =               327681 / Controller board #2 Id                         BRDSN_2 =                   19 / Controller board #2 serial #                   BRDID_3 =               131074 / Controller board #3 Id                         BRDSN_3 =                   89 / Controller board #3 serial #                   BRDID_4 =               131074 / Controller board #4 Id                         BRDSN_4 =                  119 / Controller board #4 serial #                   BRDID_5 =               131074 / Controller board #5 Id                         BRDSN_5 =                  109 / Controller board #5 serial #                   BRDID_6 =               131074 / Controller board #6 Id                         BRDSN_6 =                  110 / Controller board #6 serial #                   BRDID_7 =               196610 / Controller board #7 Id                         BRDSN_7 =                   98 / Controller board #7 serial #                   BRDID_8 =               262146 / Controller board #8 Id                         BRDSN_8 =                   78 / Controller board #8 serial #                   BRDID_9 =               458754 / Controller board #9 Id                         BRDSN_9 =                  102 / Controller board #9 serial #                   BRDID_10=               393217 / Controller board #10 Id                        BRDSN_10=                  129 / Controller board #10 serial #                  METHOD  = 'Normal ccd control method' / Observing method                        SPEED   = 'FAST    '           / Readout speed                                  READAMP = 'LEFT_TWO'           / Readout amplifier                              EXPOSED =                 600. / Exposure time (seconds)                        ELAPSED =                600.5 / Elapsed time (seconds)                         TOTALEXP=               1200.5 / Total exposure (seconds)                       RO_GAIN =                  2.7 / Readout amplifier (inverse) gain (e-/ADU)      RO_NOISE=                   4. / Readout noise (electrons)                      DETTEMP =             167.7141 / Detector temperature (K)                       HTRVOLTS=             10.01561 / Detector heater voltage                        SPECTID = 'BL      '           / Spectrograph ID                                SFILT1  = '        '           / Lower filter wheel position                    SFILT2  = '        '           / Upper filter wheel position                    TELESCOP= 'Anglo-Australian Telescope' / Telescope Name                         ALT_OBS =                 1164 / Altitude of observatory in metres              LAT_OBS =            -31.27704 / Observatory latitude in degrees                LONG_OBS=             149.0661 / Observatory longitude in degrees               RCT_VER = 'r3_71HB '           / Run Control Task version number                RCT_DATE= '19-Oct-2013'        / Run Control Task version date                  RUNCMD  = 'RUN     '           / Run command                                    RADECSYS= 'FK5     '           / FK5 reference system                           EQUINOX =                2000. / J2000 equinox                                  INSTRUME= 'HERMES-2dF'         / Instrument in use                              TDFCTVER= 'r11_27  '           / 2dF Control Task Version                       TDFCTDAT= '10-Jun-2014'        / 2dF Control Task Version Date                  AAOMOSFT=                    1 / Indicates file generated by AAOmega software.  NDFCLASS= 'MFOBJECT'           / Data Reduction class name (NDFCLASS)           CFG_FILE= 'HD285507_p1.sds'    / 2dF fibre configuration filename               PARKMASK=                    F / 2dF park position mask NOT installed           TDFCTEVT= '31      '           / 2dF Control Task Event                         DUMMY   =                    0                                                  FLAPS   = 'OPEN    '           / 2df Flap Status                                RUN     =                   39 / Run number                                     OBSNUM  =                   39 / Observation number                             GRPNUM  =                   39 / Group Number                                   GRPMEM  =                    1 / Group member                                   GRPMAX  =                    0 / Group maximum                                  OBSTYPE = 'OBJECT  '           / Observation type                               UTDATE  = '2014:08:20'         / UT date                                        EPOCH   =     2014.63444552187 / Current Epoch, Years A.D.                      UTSTART = '17:32:58'           / UT start                                       UTEND   = '17:42:59'           / UT end                                         STSTART = '01:25:08'           / ST start                                       STEND   = '01:35:10'           / ST end                                         UTMJD   =     56889.7312268637 / Modified Julian Date (UTC)                     TOPEND  = '2DF     '           / Telescope top-end                              AXIS    = 'B       '           / Current optical axis                           AXIS_X  = -2.14287647050415E-05 / Optical axis x (mm)                           AXIS_Y  = -0.000104331904174772 / Optical axis y (mm)                           TRACKING= 'TRACKING'           / Telescope is tracking.                         TELFOC  =                40.12 / Telescope Focus (mm)                           MEANRA  =     61.7571704840241 / 04 07 01.72                                    MEANDEC =     15.3362679516528 / +15 20 10.6                                    TEL_PA  =     89.9659113979849 / Rotator position angle                         HASTART =    -40.6841959871728 / HA at start of run                             ZDSTART =     60.8382330388681 / ZD at start of run                             APPRA   =     1.08151604355656 / Current apparent place position right ascensionAPPDEC  =    0.268317500876109 / Current apparent place position declination    WINDOW  = 'HERMES_2ROs_LR'     / Observing window (file name)                   HARTMANA= 'Open    '           / Hartmann shutter A position                    HARTMANB= 'Open    '           / Hartmann shutter B position                    DCHROIC1= 'GA Blue '           / Dichroic1 name                                 DCHROIC2= 'GA Green'           / Dichroic2 name                                 DCHROIC3= 'GA Red  '           / Dichroic3 name                                 ELECTEMP=                 18.7 / Computer or electronics rack temperature in degSPEC1TMP=                 19.3 / Spectrograph room 1 temperature in degrees     SPEC2TMP=                 19.3 / Spectrograph room 2 temperature in degrees     FRM1TEMP=                 17.6 / Spectrograph table or frame 1 temperature in deFRM2TEMP=                 17.9 / Spectrograph frame 2 temperature in degrees    SLITTEMP=                 18.6 / Slit temperature in degrees                    SLITMASK= 'OUT     '           / Indicates the state of the slit mask           HPOSCONF= 'YES     '           / TRUST value of the spectrograph                SLITDITH= 'OFF     '           / Is slit dithering enabled                      SOURCE  = 'Plate 1 '                                                            PISTON  =     3237.97619047619 / Camera focus piston 135995 (encoder)           TILTSPEC=     7150.86533546305 / Camera focus spectral 86198 (encoder)          TILTSPAT=                    0 / Camera focus spatial (encoder)                 GRATID  = '0       '           / VPH grating Id ?                               GRATTILT=                    0 / Grating tilt to be symmetric (degree)          GRATLPMM=                3827. / Disperser ruling (lines/mm)                    ORDER   =                    1 / Dispersion order                               DISPENC =                    0 / Disperser angle reading (encoder unit)         CAMENC  =                    0 / Camera angle reading (encoder unit)            GRATANGL=                    0 / Disperser angle reading (degree)               GRATANGR=                    0 / Requested disperser angle reading (degree)     CAMANGL =                    0 / Camera angle reading (degree)                  CAMANGR =                    0 / Requested camera angle reading (degree)        LAMBDAC =                4833. / Central wavelength in Angstrom                 LAMBDAB =                4833. / Optimal blaze wavelength in Angstrom           LAMBDCR =                4833. / Requested central wavelength in Angstrom       LAMBDBR =                4833. / Requested optimal wavelength in Angstrom       DISPERS =                0.045 / Central dispersion (Angstrom/pixel)            SPLYTEMP=                 16.5 / BLUE camera supply line temperature in degrees RTRNTEMP=                  3.8 / BLUE camera return line temperature in degrees CAMRTEMP=                 14.9 / BLUE camera temperature in degrees             HAEND   =     -38.173488264695 / HA at end of run                               ZDEND   =     59.3219145141942 / ZD at end of run                               WINDOXS1=                    1 / First column of window 1                       WINDOXE1=                 4096 / Last column of window 1                        WINDOYS1=                    1 / First row of window 1                          WINDOYE1=                 2056 / Last row of window 1                           WINDOXS2=                 4100 / First column of window 2                       WINDOXE2=                 4149 / Last column of window 2                        WINDOYS2=                    1 / First row of window 2                          WINDOYE2=                 2056 / Last row of window 2                           XEFFSIZE=                  15. / Effective X pixel size in microns              YEFFSIZE=                  15. / Effective Y pixel size in microns              RO_GAIN1=                  2.6 / Readout amplifier (inverse) gain (e-/ADU)      RO_NOIS1=                  4.1 / Readout noise (electrons)                      FILEORIG= '/data/aatobs/OptDet_data/140820/ccd_1/20aug10039.fits' / The filenameWCSDIM  =                    2                                                  LTM1_1  =                   1.                                                  WAT0_001= 'system=multispec'                                                    WAT1_001= 'wtype=multispec label=Wavelength units=angstroms units_display=angst'ZEROCOR = 'Jul 14  7:27 Zero level correction image is tmp/masterbias'          CCDSEC  = '[1:4146,1:4112]'                                                     CCDMEANT=           1121326051                                                  CCDPROC = 'Jul 14  7:27 CCD processing done'                                    APSCATTE= 'Scattered light subtracted'                                          CTYPE1  = 'MULTISPE'                                                            CDELT1  =                   1.                                                  CD1_1   =                   1.                                                  BANDID1 = 'spectrum - background none, weights none, clean no'                  CTYPE2  = 'MULTISPE'                                                            CDELT2  =                   1.                                                  CD2_2   =                   1.                                                  LTM2_2  =                   1.                                                  WAT2_001= 'wtype=multispec spec1 = \"1 1 0 4714.6011014172 0.045983949785206 414'WAT2_002= '6 0. 25.93 31.93\" spec2 = \"2 2 0 4714.6001160418 0.045981365402826 4'WAT2_003= '146 0. 34.15 40.15\" spec3 = \"3 3 0 4714.5653724911 0.045984955081074'WAT2_004= ' 4146 0. 42.25 48.25\" spec4 = \"4 4 0 4714.3437607515 0.0460223223585'WAT2_005= '33 4146 0. 50.40 56.40\" spec5 = \"5 5 0 4714.5050418284 0.04598914071'WAT2_006= '5598 4146 0. 58.27 64.27\" spec6 = \"6 6 0 4714.5055081181 0.045986516'WAT2_007= '685649 4146 0. 66.53 72.53\" spec7 = \"7 7 0 4714.4632076396 0.0459868'WAT2_008= '42479366 4146 0. 74.64 80.64\" spec8 = \"8 8 0 4714.4614991544 0.04598'WAT2_009= '6512516062 4146 0. 82.72 88.72\" spec9 = \"9 9 0 4714.2683602836 0.046'WAT2_010= '023596337669 4146 0. 90.18 96.18\" spec10 = \"10 10 0 4714.4000355321 'WAT2_011= '0.045986460347027 4146 0. 98.80 104.80\" spec11 = \"11 11 0 4714.50819'WAT2_012= '64159 0.045988308684989 4146 0. 121.14 127.14\" spec12 = \"12 12 0 471'WAT2_013= '4.4940900716 0.04599342707869 4146 0. 129.39 135.39\" spec13 = \"13 13'WAT2_014= ' 0 4714.4644868423 0.045997936582853 4146 0. 137.63 143.63\" spec14 ='WAT2_015= ' \"14 14 0 4714.4458312862 0.045998245496458 4146 0. 145.97 151.97\" s'WAT2_016= 'pec15 = \"15 15 0 4714.4307114908 0.045999573653847 4146 0. 154.22 16'WAT2_017= '0.22\" spec16 = \"16 16 0 4714.4197972798 0.045992794185178 4146 0. 16'WAT2_018= '2.53 168.53\" spec17 = \"17 17 0 4714.3758124128 0.045997299227092 414'WAT2_019= '6 0. 170.78 176.78\" spec18 = \"18 18 0 4714.3459055193 0.045996712601'WAT2_020= '047 4146 0. 179.01 185.01\" spec19 = \"19 19 0 4714.3460871201 0.04599'WAT2_021= '8321480776 4146 0. 187.28 193.28\" spec20 = \"20 20 0 4714.3293813027 'WAT2_022= '0.045997177673246 4146 0. 195.64 201.64\" spec21 = \"21 21 0 4714.4584'WAT2_023= '02456 0.045991437552783 4146 0. 216.65 222.65\" spec22 = \"22 22 0 471'WAT2_024= '4.4469399067 0.046001553566282 4146 0. 225.04 231.04\" spec23 = \"23 2'WAT2_025= '3 0 4714.4519701174 0.045990435234293 4146 0. 233.50 239.50\" spec24 'WAT2_026= '= \"24 24 0 4714.2223968128 0.045989874462128 4146 0. 241.92 247.92\" 'WAT2_027= 'spec25 = \"25 25 0 4714.3845529366 0.046000538070025 4146 0. 250.33 2'WAT2_028= '56.33\" spec26 = \"26 26 0 4714.3940117108 0.045996914040939 4146 0. 2'WAT2_029= '58.74 264.74\" spec27 = \"27 27 0 4714.3760549997 0.046003762117683 41'WAT2_030= '46 0. 267.13 273.13\" spec28 = \"28 28 0 4714.3446067313 0.04600030113'WAT2_031= '1415 4146 0. 275.49 281.49\" spec29 = \"29 29 0 4714.3250999101 0.0460'WAT2_032= '1307798798 4146 0. 283.96 289.96\" spec30 = \"30 30 0 4714.3391347641 'WAT2_033= '0.045998608347127 4146 0. 292.40 298.40\" spec31 = \"31 31 0 4714.3877'WAT2_034= '856725 0.046009200629414 4146 0. 313.57 319.57\" spec32 = \"32 32 0 47'WAT2_035= '14.3809270903 0.046002993581932 4146 0. 321.85 327.85\" spec33 = \"33 'WAT2_036= '33 0 4714.3643937589 0.046010737251267 4146 0. 330.56 336.56\" spec34'WAT2_037= ' = \"34 34 0 4714.3286900799 0.046001248245778 4146 0. 339.07 345.07\"'WAT2_038= ' spec35 = \"35 35 0 4714.1038093076 0.046003308852492 4146 0. 347.73 'WAT2_039= '353.73\" spec36 = \"36 36 0 4714.2991563965 0.045998717338056 4146 0. 'WAT2_040= '356.14 362.14\" spec37 = \"37 37 0 4714.3145184004 0.045991824252043 4'WAT2_041= '146 0. 364.64 370.64\" spec38 = \"38 38 0 4714.2515382698 0.0460044787'WAT2_042= '6295 4146 0. 373.15 379.15\" spec39 = \"39 39 0 4714.2514604649 0.0459'WAT2_043= '98591190734 4146 0. 381.66 387.66\" spec40 = \"40 40 0 4714.2252056052'WAT2_044= ' 0.045998659952872 4146 0. 390.05 396.05\" spec41 = \"41 41 0 4714.057'WAT2_045= '3394774 0.04600386951719 4146 0. 419.34 425.34\" spec42 = \"42 42 0 47'WAT2_046= '14.2639746936 0.046001514231405 4146 0. 428.20 434.20\" spec43 = \"43 'WAT2_047= '43 0 4714.2395730457 0.046000408522887 4146 0. 436.78 442.78\" spec44'WAT2_048= ' = \"44 44 0 4714.205617984 0.046009401757328 4146 0. 445.36 451.36\" 'WAT2_049= 'spec45 = \"45 45 0 4714.1847124036 0.04600897989225 4146 0. 453.80 45'WAT2_050= '9.80\" spec46 = \"46 46 0 4714.1678655796 0.046018416644309 4146 0. 46'WAT2_051= '2.81 468.81\" spec47 = \"47 47 0 4714.170324666 0.046012575023384 4146'WAT2_052= ' 0. 471.06 477.06\" spec48 = \"48 48 0 4714.146088355 0.04601776031775'WAT2_053= '5 4146 0. 479.78 485.78\" spec49 = \"49 49 0 4714.1571883761 0.0459996'WAT2_054= '04704657 4146 0. 488.56 494.56\" spec50 = \"50 50 0 4714.2783674404 0.'WAT2_055= '046001544500538 4146 0. 509.10 515.10\" spec51 = \"51 51 0 4714.222968'WAT2_056= '2422 0.046006362952368 4146 0. 517.91 523.91\" spec52 = \"52 52 0 4714'WAT2_057= '.2245184319 0.046002203949286 4146 0. 526.51 532.51\" spec53 = \"53 53'WAT2_058= ' 0 4714.2006880321 0.046009017051969 4146 0. 535.15 541.15\" spec54 ='WAT2_059= ' \"54 54 0 4714.2019000351 0.046000750023079 4146 0. 544.15 550.15\" s'WAT2_060= 'pec55 = \"55 55 0 4714.1892137003 0.046002450183237 4146 0. 552.83 55'WAT2_061= '8.83\" spec56 = \"56 56 0 4714.1433571894 0.04601300646012 4146 0. 561'WAT2_062= '.58 567.58\" spec57 = \"57 57 0 4714.1594298854 0.046005810941374 4146'WAT2_063= ' 0. 569.86 575.86\" spec58 = \"58 58 0 4714.1255371847 0.0460104356296'WAT2_064= '65 4146 0. 578.86 584.86\" spec59 = \"59 59 0 4714.0948412 0.046008529'WAT2_065= '045792 4146 0. 587.50 593.50\" spec60 = \"60 60 0 4714.2033509206 0.04'WAT2_066= '6006777479704 4146 0. 609.84 615.84\" spec61 = \"61 61 0 4714.17470864'WAT2_067= '77 0.046015300732178 4146 0. 618.44 624.44\" spec62 = \"62 62 0 4714.1'WAT2_068= '723893314 0.046019458957982 4146 0. 627.45 633.45\" spec63 = \"63 63 0'WAT2_069= ' 4714.1651783494 0.046015021716078 4146 0. 636.24 642.24\" spec64 = \"'WAT2_070= '64 64 0 4714.1564331915 0.046020983813175 4146 0. 644.92 650.92\" spe'WAT2_071= 'c65 = \"65 65 0 4714.1800907295 0.046016377701278 4146 0. 653.67 659.'WAT2_072= '67\" spec66 = \"66 66 0 4714.1471063452 0.046021613544275 4146 0. 662.'WAT2_073= '36 668.36\" spec67 = \"67 67 0 4714.1551103148 0.046012455871811 4146 'WAT2_074= '0. 671.35 677.35\" spec68 = \"68 68 0 4714.1260359496 0.04602658035241'WAT2_075= '1 4146 0. 679.96 685.96\" spec69 = \"69 69 0 4714.1327759821 0.0460092'WAT2_076= '16967108 4146 0. 688.70 694.70\" spec70 = \"70 70 0 4714.2255948443 0.'WAT2_077= '046011454916604 4146 0. 710.06 716.06\" spec71 = \"71 71 0 4714.222793'WAT2_078= '4062 0.046009486153262 4146 0. 718.88 724.88\" spec72 = \"72 72 0 4714'WAT2_079= '.2172712705 0.046010513695928 4146 0. 727.80 733.80\" spec73 = \"73 73'WAT2_080= ' 0 4714.2219370497 0.046000440710095 4146 0. 736.57 742.57\" spec74 ='WAT2_081= ' \"74 74 0 4714.2152575035 0.046010478525623 4146 0. 745.27 751.27\" s'WAT2_082= 'pec75 = \"75 75 0 4714.1677098832 0.046021094538707 4146 0. 754.06 76'WAT2_083= '0.06\" spec76 = \"76 76 0 4714.1531109163 0.04602019106486 4146 0. 763'WAT2_084= '.08 769.08\" spec77 = \"77 77 0 4714.1456888369 0.046021716521153 4146'WAT2_085= ' 0. 771.76 777.76\" spec78 = \"78 78 0 4714.161342714 0.04601592457491'WAT2_086= '6 4146 0. 780.46 786.46\" spec79 = \"79 79 0 4714.0995480918 0.0460249'WAT2_087= '57461414 4146 0. 789.32 795.32\" spec80 = \"80 80 0 4714.1445839937 0.'WAT2_088= '046011431607106 4146 0. 810.89 816.89\" spec81 = \"81 81 0 4714.145187'WAT2_089= '8823 0.04599979746153 4146 0. 819.67 825.67\" spec82 = \"82 82 0 4714.'WAT2_090= '1620329095 0.046008250070551 4146 0. 827.86 833.86\" spec83 = \"83 83 'WAT2_091= '0 4714.1326042615 0.046009874966533 4146 0. 837.79 843.79\" spec84 = 'WAT2_092= '\"84 84 0 4714.1634111053 0.04600637499327 4146 0. 846.65 852.65\" spe'WAT2_093= 'c85 = \"85 85 0 4713.9099055623 0.046020330897601 4146 0. 855.72 861.'WAT2_094= '72\" spec86 = \"86 86 0 4714.1151096185 0.046023608374774 4146 0. 864.'WAT2_095= '65 870.65\" spec87 = \"87 87 0 4714.1516401099 0.046016900746544 4146 'WAT2_096= '0. 873.32 879.32\" spec88 = \"88 88 0 4714.1263108792 0.04601755097537'WAT2_097= '9 4146 0. 882.43 888.43\" spec89 = \"89 89 0 4714.0985960351 0.0460262'WAT2_098= '54439534 4146 0. 891.15 897.15\" spec90 = \"90 90 0 4714.1093668894 0.'WAT2_099= '046025815355042 4146 0. 922.12 928.12\" spec91 = \"91 91 0 4714.121297'WAT2_100= '6522 0.046019433921092 4146 0. 931.11 937.11\" spec92 = \"92 92 0 4714'WAT2_101= '.1078606708 0.046011557318186 4146 0. 940.03 946.03\" spec93 = \"93 93'WAT2_102= ' 0 4714.1008155171 0.046014987375901 4146 0. 948.72 954.72\" spec94 ='WAT2_103= ' \"94 94 0 4714.0734049084 0.046027624576037 4146 0. 958.00 964.00\" s'WAT2_104= 'pec95 = \"95 95 0 4714.0593569277 0.046031718162434 4146 0. 966.74 97'WAT2_105= '2.74\" spec96 = \"96 96 0 4714.0667457513 0.046021212573435 4146 0. 97'WAT2_106= '5.55 981.55\" spec97 = \"97 97 0 4714.0573316779 0.046017659755281 414'WAT2_107= '6 0. 984.51 990.51\" spec98 = \"98 98 0 4714.0572733368 0.046013819030'WAT2_108= '376 4146 0. 993.53 999.53\" spec99 = \"99 99 0 4714.1025619723 0.04602'WAT2_109= '2805351557 4146 0. 1015.79 1021.79\" spec100 = \"100 100 0 4714.127462'WAT2_110= '8572 0.046026737273394 4146 0. 1024.58 1030.58\" spec101 = \"101 101 0'WAT2_111= ' 4714.1561876739 0.046015307147869 4146 0. 1033.69 1039.69\" spec102 'WAT2_112= '= \"102 102 0 4714.1200663605 0.046021960006258 4146 0. 1042.66 1048.'WAT2_113= '66\" spec103 = \"103 103 0 4714.1059740548 0.046028817335731 4146 0. 1'WAT2_114= '051.77 1057.77\" spec104 = \"104 104 0 4714.1081593377 0.0460314442064'WAT2_115= '13 4146 0. 1060.74 1066.74\" spec105 = \"105 105 0 4714.1161707192 0.0'WAT2_116= '46020165452655 4146 0. 1069.81 1075.81\" spec106 = \"106 106 0 4714.11'WAT2_117= '68855748 0.046030493968405 4146 0. 1078.74 1084.74\" spec107 = \"107 1'WAT2_118= '07 0 4714.1122985776 0.046018875305484 4146 0. 1087.81 1093.81\" spec'WAT2_119= '108 = \"108 108 0 4714.1201283823 0.0460080806245 4146 0. 1096.68 110'WAT2_120= '2.68\" spec109 = \"109 109 0 4714.0785322771 0.046028576626012 4146 0.'WAT2_121= ' 1119.11 1125.11\" spec110 = \"110 110 0 4714.046228504 0.046025330727'WAT2_122= '809 4146 0. 1128.24 1134.24\" spec111 = \"111 111 0 4714.0796670242 0.'WAT2_123= '046017472998266 4146 0. 1137.27 1143.27\" spec112 = \"112 112 0 4714.0'WAT2_124= '555819038 0.046030230591296 4146 0. 1146.29 1152.29\" spec113 = \"113 'WAT2_125= '113 0 4714.0818933167 0.046022362364071 4146 0. 1155.25 1161.25\" spe'WAT2_126= 'c114 = \"114 114 0 4714.0583928655 0.04603027634592 4146 0. 1164.43 1'WAT2_127= '170.43\" spec115 = \"115 115 0 4714.0286383367 0.046026582642767 4146 'WAT2_128= '0. 1173.47 1179.47\" spec116 = \"116 116 0 4714.0444656376 0.046020362'WAT2_129= '867769 4146 0. 1182.67 1188.67\" spec117 = \"117 117 0 4713.9984221325'WAT2_130= ' 0.046028989276516 4146 0. 1191.60 1197.60\" spec118 = \"118 118 0 471'WAT2_131= '3.9921841441 0.046033603218769 4146 0. 1200.75 1206.75\" spec119 = \"1'WAT2_132= '19 119 0 4713.8890055681 0.046025834944397 4146 0. 1222.45 1228.45\" 'WAT2_133= 'spec120 = \"120 120 0 4713.8584496676 0.046026732811325 4146 0. 1231.'WAT2_134= '39 1237.39\" spec121 = \"121 121 0 4714.0947136969 0.046024810373855 4'WAT2_135= '146 0. 1240.61 1246.61\" spec122 = \"122 122 0 4714.0959080395 0.04602'WAT2_136= '6883104196 4146 0. 1249.68 1255.68\" spec123 = \"123 123 0 4714.110298'WAT2_137= '0337 0.046024143366614 4146 0. 1258.63 1264.63\" spec124 = \"124 124 0'WAT2_138= ' 4714.1044712506 0.046024309303195 4146 0. 1268.07 1274.07\" spec125 'WAT2_139= '= \"125 125 0 4714.1337454656 0.046014528822169 4146 0. 1277.05 1283.'WAT2_140= '05\" spec126 = \"126 126 0 4714.0733736892 0.046032597000138 4146 0. 1'WAT2_141= '286.26 1292.26\" spec127 = \"127 127 0 4714.0592255459 0.0460301740880'WAT2_142= '85 4146 0. 1295.15 1301.15\" spec128 = \"128 128 0 4713.8477931006 0.0'WAT2_143= '46031220349851 4146 0. 1304.48 1310.48\" spec129 = \"129 129 0 4713.89'WAT2_144= '53721295 0.046029271250421 4146 0. 1326.86 1332.86\" spec130 = \"130 1'WAT2_145= '30 0 4714.1099321796 0.046014387562312 4146 0. 1336.06 1342.06\" spec'WAT2_146= '131 = \"131 131 0 4714.09143059 0.046035930772219 4146 0. 1345.25 135'WAT2_147= '1.25\" spec132 = \"132 132 0 4714.1444882403 0.04601929130492 4146 0. 'WAT2_148= '1354.57 1360.57\" spec133 = \"133 133 0 4714.0918706837 0.046024299449'WAT2_149= '914 4146 0. 1363.57 1369.57\" spec134 = \"134 134 0 4714.0817028905 0.'WAT2_150= '046031449277402 4146 0. 1372.83 1378.83\" spec135 = \"135 135 0 4714.0'WAT2_151= '772601498 0.046025055885425 4146 0. 1381.86 1387.86\" spec136 = \"136 'WAT2_152= '136 0 4714.0846500491 0.046020318826562 4146 0. 1390.97 1396.97\" spe'WAT2_153= 'c137 = \"137 137 0 4714.1013408787 0.046019006849334 4146 0. 1400.52 'WAT2_154= '1406.52\" spec138 = \"138 138 0 4714.0614471246 0.046025591505465 4146'WAT2_155= ' 0. 1409.38 1415.38\" spec139 = \"139 139 0 4714.0796861313 0.04601847'WAT2_156= '8128603 4146 0. 1440.43 1446.43\" spec140 = \"140 140 0 4714.058810504'WAT2_157= '8 0.046032834974665 4146 0. 1449.54 1455.54\" spec141 = \"141 141 0 47'WAT2_158= '14.0401153428 0.046026335753418 4146 0. 1458.77 1464.77\" spec142 = \"'WAT2_159= '142 142 0 4714.0686688855 0.046026362032411 4146 0. 1467.77 1473.77\"'WAT2_160= ' spec143 = \"143 143 0 4714.0386435652 0.046030458304972 4146 0. 1476'WAT2_161= '.90 1482.90\" spec144 = \"144 144 0 4714.0435997492 0.046025198126721 'WAT2_162= '4146 0. 1485.99 1491.99\" spec145 = \"145 145 0 4713.9842177182 0.0460'WAT2_163= '29221358552 4146 0. 1495.19 1501.19\" spec146 = \"146 146 0 4713.99255'WAT2_164= '26323 0.046036213122926 4146 0. 1504.33 1510.33\" spec147 = \"147 147 'WAT2_165= '0 4713.9887447679 0.046029238895369 4146 0. 1513.44 1519.44\" spec148'WAT2_166= ' = \"148 148 0 4714.04747858 0.046028864910504 4146 0. 1536.66 1542.6'WAT2_167= '6\" spec149 = \"149 149 0 4713.7950943405 0.046025640712504 4146 0. 15'WAT2_168= '46.06 1552.06\" spec150 = \"150 150 0 4714.0481479291 0.04602204459092'WAT2_169= '1 4146 0. 1555.15 1561.15\" spec151 = \"151 151 0 4714.0232821606 0.04'WAT2_170= '6034107135506 4146 0. 1564.34 1570.34\" spec152 = \"152 152 0 4714.037'WAT2_171= '855939 0.046015263249826 4146 0. 1573.48 1579.48\" spec153 = \"153 153'WAT2_172= ' 0 4713.9909863308 0.046026881607252 4146 0. 1582.76 1588.76\" spec15'WAT2_173= '4 = \"154 154 0 4714.002767351 0.046037374922548 4146 0. 1591.97 1597'WAT2_174= '.97\" spec155 = \"155 155 0 4714.018936105 0.046025150232052 4146 0. 1'WAT2_175= '601.13 1607.13\" spec156 = \"156 156 0 4714.0335884769 0.0460172824866'WAT2_176= '9 4146 0. 1610.30 1616.30\" spec157 = \"157 157 0 4713.993612104 0.046'WAT2_177= '027693741863 4146 0. 1619.48 1625.48\" spec158 = \"158 158 0 4714.0473'WAT2_178= '637418 0.046028798018212 4146 0. 1642.39 1648.39\" spec159 = \"159 159'WAT2_179= ' 0 4714.0231073004 0.046025434892055 4146 0. 1651.54 1657.54\" spec16'WAT2_180= '0 = \"160 160 0 4714.0475859076 0.046015870944803 4146 0. 1660.81 166'WAT2_181= '6.81\" spec161 = \"161 161 0 4714.0185987604 0.046024045060015 4146 0.'WAT2_182= ' 1670.08 1676.08\" spec162 = \"162 162 0 4714.0203981707 0.04602816598'WAT2_183= '7953 4146 0. 1679.28 1685.28\" spec163 = \"163 163 0 4714.0234285837 0'WAT2_184= '.046025740875423 4146 0. 1688.43 1694.43\" spec164 = \"164 164 0 4714.'WAT2_185= '0239982038 0.046023833565219 4146 0. 1697.58 1703.58\" spec165 = \"165'WAT2_186= ' 165 0 4713.9854811912 0.046026081772114 4146 0. 1706.71 1712.71\" sp'WAT2_187= 'ec166 = \"166 166 0 4713.7984288666 0.046018033589403 4146 0. 1715.98'WAT2_188= ' 1721.98\" spec167 = \"167 167 0 4713.9926256056 0.046026001996626 414'WAT2_189= '6 0. 1725.30 1731.30\" spec168 = \"168 168 0 4714.0105434314 0.0460221'WAT2_190= '98328073 4146 0. 1747.23 1753.23\" spec169 = \"169 169 0 4714.02187691'WAT2_191= '5 0.046019474337389 4146 0. 1756.45 1762.45\" spec170 = \"170 170 0 47'WAT2_192= '14.0041588461 0.046028444635292 4146 0. 1765.55 1771.55\" spec171 = \"'WAT2_193= '171 171 0 4713.9921675122 0.046025533653004 4146 0. 1774.83 1780.83\"'WAT2_194= ' spec172 = \"172 172 0 4713.9911554396 0.04602598479586 4146 0. 1783.'WAT2_195= '96 1789.96\" spec173 = \"173 173 0 4714.0001853899 0.046022269138733 4'WAT2_196= '146 0. 1793.19 1799.19\" spec174 = \"174 174 0 4714.0008141416 0.04603'WAT2_197= '1887994345 4146 0. 1802.44 1808.44\" spec175 = \"175 175 0 4713.995365'WAT2_198= '9851 0.046029083336365 4146 0. 1811.64 1817.64\" spec176 = \"176 176 0'WAT2_199= ' 4713.9790357058 0.046028447604147 4146 0. 1820.78 1826.78\" spec177 'WAT2_200= '= \"177 177 0 4714.0132845381 0.04602284150304 4146 0. 1830.23 1836.2'WAT2_201= '3\" spec178 = \"178 178 0 4713.9153933454 0.046031331772663 4146 0. 18'WAT2_202= '53.60 1859.60\" spec179 = \"179 179 0 4713.9750066942 0.04602513311062'WAT2_203= ' 4146 0. 1862.70 1868.70\" spec180 = \"180 180 0 4713.7660172741 0.046'WAT2_204= '02476896235 4146 0. 1872.06 1878.06\" spec181 = \"181 181 0 4713.97536'WAT2_205= '27565 0.046032546923375 4146 0. 1881.38 1887.38\" spec182 = \"182 182 'WAT2_206= '0 4713.9578497049 0.046027715591599 4146 0. 1890.45 1896.45\" spec183'WAT2_207= ' = \"183 183 0 4713.981159606 0.046022553151522 4146 0. 1899.89 1905.'WAT2_208= '89\" spec184 = \"184 184 0 4713.9804953776 0.046010127617559 4146 0. 1'WAT2_209= '909.08 1915.08\" spec185 = \"185 185 0 4713.9316439153 0.0460306185903'WAT2_210= '06 4146 0. 1918.44 1924.44\" spec186 = \"186 186 0 4713.9180439991 0.0'WAT2_211= '46027047189748 4146 0. 1927.67 1933.67\" spec187 = \"187 187 0 4713.91'WAT2_212= '68615804 0.046026648418749 4146 0. 1937.04 1943.04\" spec188 = \"188 1'WAT2_213= '88 0 4713.9411914078 0.046025806082453 4146 0. 1967.99 1973.99\" spec'WAT2_214= '189 = \"189 189 0 4713.9422266946 0.046028363015227 4146 0. 1977.35 1'WAT2_215= '983.35\" spec190 = \"190 190 0 4713.9293927529 0.046032833600847 4146 'WAT2_216= '0. 1986.61 1992.61\" spec191 = \"191 191 0 4713.9812145391 0.046010490'WAT2_217= '593755 4146 0. 1995.82 2001.82\" spec192 = \"192 192 0 4713.9433640191'WAT2_218= ' 0.046023085239316 4146 0. 2005.10 2011.10\" spec193 = \"193 193 0 471'WAT2_219= '3.9655175398 0.04602369909649 4146 0. 2014.18 2020.18\" spec194 = \"19'WAT2_220= '4 194 0 4713.943939863 0.04602503239616 4146 0. 2023.48 2029.48\" spe'WAT2_221= 'c195 = \"195 195 0 4713.9704624173 0.04602123807619 4146 0. 2032.78 2'WAT2_222= '038.78\" spec196 = \"196 196 0 4713.9229800138 0.046027059347003 4146 'WAT2_223= '0. 2042.14 2048.14\" spec197 = \"197 197 0 4713.8782806057 0.046027974'WAT2_224= '390669 4146 0. 2065.32 2071.32\" spec198 = \"198 198 0 4713.8864760686'WAT2_225= ' 0.046034416846776 4146 0. 2074.62 2080.62\" spec199 = \"199 199 0 471'WAT2_226= '3.9098078919 0.046023619623258 4146 0. 2083.95 2089.95\" spec200 = \"2'WAT2_227= '00 200 0 4713.894103781 0.046024912744718 4146 0. 2093.21 2099.21\" s'WAT2_228= 'pec201 = \"201 201 0 4713.8993307954 0.046028376710458 4146 0. 2102.4'WAT2_229= '6 2108.46\" spec202 = \"202 202 0 4713.9217595914 0.046022978455289 41'WAT2_230= '46 0. 2111.84 2117.84\" spec203 = \"203 203 0 4713.8897620228 0.046028'WAT2_231= '636421602 4146 0. 2121.16 2127.16\" spec204 = \"204 204 0 4713.9347296'WAT2_232= '577 0.046009763689202 4146 0. 2130.54 2136.54\" spec205 = \"205 205 0 'WAT2_233= '4713.8977688368 0.046023042892484 4146 0. 2139.89 2145.89\" spec206 ='WAT2_234= ' \"206 206 0 4713.9246454721 0.046020571203452 4146 0. 2149.08 2155.0'WAT2_235= '8\" spec207 = \"207 207 0 4713.8220684448 0.046031070014223 4146 0. 21'WAT2_236= '71.56 2177.56\" spec208 = \"208 208 0 4713.8384312094 0.04602361647432'WAT2_237= '5 4146 0. 2180.77 2186.77\" spec209 = \"209 209 0 4713.8495439402 0.04'WAT2_238= '6025550437305 4146 0. 2190.13 2196.13\" spec210 = \"210 210 0 4713.650'WAT2_239= '7975331 0.046024391977086 4146 0. 2199.43 2205.43\" spec211 = \"211 21'WAT2_240= '1 0 4713.8414294536 0.0460253992259 4146 0. 2208.82 2214.82\" spec212'WAT2_241= ' = \"212 212 0 4713.8832870218 0.046020346402482 4146 0. 2217.85 2223'WAT2_242= '.85\" spec213 = \"213 213 0 4713.8693823279 0.046033545876811 4146 0. 'WAT2_243= '2227.19 2233.19\" spec214 = \"214 214 0 4713.8760284639 0.046027201886'WAT2_244= '835 4146 0. 2236.50 2242.50\" spec215 = \"215 215 0 4713.872455087 0.0'WAT2_245= '46026903772048 4146 0. 2245.88 2251.88\" spec216 = \"216 216 0 4713.88'WAT2_246= '64870587 0.046024147791603 4146 0. 2255.07 2261.07\" spec217 = \"217 2'WAT2_247= '17 0 4713.8430022811 0.046019223771691 4146 0. 2276.61 2282.61\" spec'WAT2_248= '218 = \"218 218 0 4713.8491741406 0.046022166309366 4146 0. 2285.94 2'WAT2_249= '291.94\" spec219 = \"219 219 0 4713.844772089 0.046026886711522 4146 0'WAT2_250= '. 2295.24 2301.24\" spec220 = \"220 220 0 4713.8506335647 0.0460175060'WAT2_251= '4817 4146 0. 2304.42 2310.42\" spec221 = \"221 221 0 4713.8269135202 0'WAT2_252= '.046035786397983 4146 0. 2313.77 2319.77\" spec222 = \"222 222 0 4713.'WAT2_253= '8658157536 0.04601580661048 4146 0. 2323.02 2329.02\" spec223 = \"223 'WAT2_254= '223 0 4713.8468631957 0.046027677414373 4146 0. 2332.26 2338.26\" spe'WAT2_255= 'c224 = \"224 224 0 4713.8178487543 0.046029507430056 4146 0. 2341.56 'WAT2_256= '2347.56\" spec225 = \"225 225 0 4713.795747587 0.046036033277478 4146 'WAT2_257= '0. 2350.84 2356.84\" spec226 = \"226 226 0 4713.8393663961 0.046020946'WAT2_258= '754098 4146 0. 2360.09 2366.09\" spec227 = \"227 227 0 4713.844151651 'WAT2_259= '0.046014303076658 4146 0. 2383.01 2389.01\" spec228 = \"228 228 0 4713'WAT2_260= '.8125423723 0.046023641627011 4146 0. 2392.51 2398.51\" spec229 = \"22'WAT2_261= '9 229 0 4713.8102863452 0.046027077278847 4146 0. 2401.69 2407.69\" s'WAT2_262= 'pec230 = \"230 230 0 4713.8141149621 0.046022297121746 4146 0. 2411.0'WAT2_263= '9 2417.09\" spec231 = \"231 231 0 4713.8452408817 0.046018574882286 41'WAT2_264= '46 0. 2420.16 2426.16\" spec232 = \"232 232 0 4713.8184275706 0.046018'WAT2_265= '886266014 4146 0. 2429.44 2435.44\" spec233 = \"233 233 0 4713.8083212'WAT2_266= '806 0.046023966738636 4146 0. 2438.68 2444.68\" spec234 = \"234 234 0 'WAT2_267= '4713.809524775 0.046022059535404 4146 0. 2447.98 2453.98\" spec235 = 'WAT2_268= '\"235 235 0 4713.7903916904 0.046030839435005 4146 0. 2457.32 2463.32'WAT2_269= '\" spec236 = \"236 236 0 4713.8377535536 0.046012619578285 4146 0. 246'WAT2_270= '6.61 2472.61\" spec237 = \"237 237 0 4713.7671031749 0.046019651836096'WAT2_271= ' 4146 0. 2498.27 2504.27\" spec238 = \"238 238 0 4713.7709620692 0.046'WAT2_272= '021807556617 4146 0. 2507.51 2513.51\" spec239 = \"239 239 0 4713.7989'WAT2_273= '23472 0.046024310204397 4146 0. 2516.67 2522.67\" spec240 = \"240 240 'WAT2_274= '0 4713.5423881011 0.046030410903063 4146 0. 2525.84 2531.84\" spec241'WAT2_275= ' = \"241 241 0 4713.798913418 0.046019515481318 4146 0. 2534.95 2540.'WAT2_276= '95\" spec242 = \"242 242 0 4713.8247058395 0.046019131442893 4146 0. 2'WAT2_277= '544.12 2550.12\" spec243 = \"243 243 0 4713.8247328709 0.0460190003212'WAT2_278= '24 4146 0. 2553.34 2559.34\" spec244 = \"244 244 0 4713.8487775801 0.0'WAT2_279= '46015132087213 4146 0. 2562.50 2568.50\" spec245 = \"245 245 0 4713.86'WAT2_280= '93886528 0.046004985303972 4146 0. 2571.95 2577.95\" spec246 = \"246 2'WAT2_281= '46 0 4713.7177570435 0.046018426000855 4146 0. 2594.32 2600.32\" spec'WAT2_282= '247 = \"247 247 0 4713.7122281465 0.046020122665095 4146 0. 2603.38 2'WAT2_283= '609.37\" spec248 = \"248 248 0 4713.7452513865 0.04601261572014 4146 0'WAT2_284= '. 2612.69 2618.69\" spec249 = \"249 249 0 4713.7578656327 0.0460202548'WAT2_285= '77752 4146 0. 2621.85 2627.85\" spec250 = \"250 250 0 4713.7553529481 'WAT2_286= '0.046006669092207 4146 0. 2631.15 2637.15\" spec251 = \"251 251 0 4713'WAT2_287= '.727595238 0.046026015477394 4146 0. 2640.40 2646.40\" spec252 = \"252'WAT2_288= ' 252 0 4713.7518411433 0.046014163795528 4146 0. 2649.51 2655.51\" sp'WAT2_289= 'ec253 = \"253 253 0 4713.7486537131 0.046025606570888 4146 0. 2658.69'WAT2_290= ' 2664.69\" spec254 = \"254 254 0 4713.7589123367 0.046015697454383 414'WAT2_291= '6 0. 2667.93 2673.93\" spec255 = \"255 255 0 4713.7692384632 0.0460189'WAT2_292= '11073306 4146 0. 2677.32 2683.32\" spec256 = \"256 256 0 4713.61769615'WAT2_293= '51 0.046016471887393 4146 0. 2700.04 2706.04\" spec257 = \"257 257 0 4'WAT2_294= '713.6043602849 0.046020169380793 4146 0. 2709.34 2715.34\" spec258 = 'WAT2_295= '\"258 258 0 4713.6000994184 0.046017644580839 4146 0. 2718.52 2724.52'WAT2_296= '\" spec259 = \"259 259 0 4713.6200828861 0.046023025188828 4146 0. 272'WAT2_297= '7.68 2733.68\" spec260 = \"260 260 0 4713.6519150462 0.046014619080887'WAT2_298= ' 4146 0. 2736.73 2742.73\" spec261 = \"261 261 0 4713.6514730471 0.046'WAT2_299= '016407581694 4146 0. 2745.94 2751.94\" spec262 = \"262 262 0 4713.6381'WAT2_300= '60106 0.046014694933495 4146 0. 2755.15 2761.15\" spec263 = \"263 263 'WAT2_301= '0 4713.6709622008 0.046011621458665 4146 0. 2764.37 2770.37\" spec264'WAT2_302= ' = \"264 264 0 4713.6239749375 0.046028516513912 4146 0. 2773.67 2779'WAT2_303= '.67\" spec265 = \"265 265 0 4713.6872654484 0.046007479562185 4146 0. 'WAT2_304= '2782.54 2788.54\" spec266 = \"266 266 0 4713.5883739634 0.046023245509'WAT2_305= '713 4146 0. 2804.48 2810.48\" spec267 = \"267 267 0 4713.6002799257 0.'WAT2_306= '046011446752672 4146 0. 2813.60 2819.60\" spec268 = \"268 268 0 4713.6'WAT2_307= '250788696 0.046016566635941 4146 0. 2822.93 2828.93\" spec269 = \"269 'WAT2_308= '269 0 4713.629451764 0.046008744746781 4146 0. 2831.79 2837.79\" spec'WAT2_309= '270 = \"270 270 0 4713.6022047977 0.046022951874146 4146 0. 2840.88 2'WAT2_310= '846.88\" spec271 = \"271 271 0 4713.6547823245 0.046006720554808 4146 'WAT2_311= '0. 2849.89 2855.89\" spec272 = \"272 272 0 4713.6545031135 0.046013820'WAT2_312= '559662 4146 0. 2859.06 2865.06\" spec273 = \"273 273 0 4713.6457445738'WAT2_313= ' 0.046013183585104 4146 0. 2868.21 2874.21\" spec274 = \"274 274 0 471'WAT2_314= '3.6399277058 0.046009920286743 4146 0. 2877.22 2883.22\" spec275 = \"2'WAT2_315= '75 275 0 4713.6418483747 0.046013407902421 4146 0. 2886.32 2892.32\" 'WAT2_316= 'spec276 = \"276 276 0 4713.4666231946 0.046015917851097 4146 0. 2908.'WAT2_317= '70 2914.70\" spec277 = \"277 277 0 4713.4850922377 0.046014835299709 4'WAT2_318= '146 0. 2917.67 2923.67\" spec278 = \"278 278 0 4713.5072488993 0.04601'WAT2_319= '7736138226 4146 0. 2927.05 2933.05\" spec279 = \"279 279 0 4713.543958'WAT2_320= '1696 0.046008039827434 4146 0. 2935.88 2941.88\" spec280 = \"280 280 0'WAT2_321= ' 4713.5025889083 0.046016452031919 4146 0. 2944.93 2950.93\" spec281 'WAT2_322= '= \"281 281 0 4713.5441215253 0.046018738733138 4146 0. 2954.10 2960.'WAT2_323= '10\" spec282 = \"282 282 0 4713.5723856429 0.046011449750306 4146 0. 2'WAT2_324= '963.09 2969.09\" spec283 = \"283 283 0 4713.5860601827 0.0460109844385'WAT2_325= '79 4146 0. 2972.28 2978.28\" spec284 = \"284 284 0 4713.5913575145 0.0'WAT2_326= '46013935188282 4146 0. 2981.36 2987.36\" spec285 = \"285 285 0 4713.61'WAT2_327= '26792846 0.046007285455689 4146 0. 2990.61 2996.61\" spec286 = \"286 2'WAT2_328= '86 0 4713.4560958811 0.046004660549381 4146 0. 3021.58 3027.58\" spec'WAT2_329= '287 = \"287 287 0 4713.4850477585 0.046010812438963 4146 0. 3030.62 3'WAT2_330= '036.62\" spec288 = \"288 288 0 4713.5109296447 0.046003184508135 4146 'WAT2_331= '0. 3039.66 3045.66\" spec289 = \"289 289 0 4713.5256228311 0.046000520'WAT2_332= '4005 4146 0. 3048.73 3054.73\" spec290 = \"290 290 0 4713.5407410361 0'WAT2_333= '.046005935669991 4146 0. 3057.64 3063.64\" spec291 = \"291 291 0 4713.'WAT2_334= '5324749535 0.046004101967523 4146 0. 3066.66 3072.66\" spec292 = \"292'WAT2_335= ' 292 0 4713.3195655299 0.046001256225867 4146 0. 3075.70 3081.70\" sp'WAT2_336= 'ec293 = \"293 293 0 4713.5653658252 0.046005403959515 4146 0. 3084.82'WAT2_337= ' 3090.82\" spec294 = \"294 294 0 4713.5507453668 0.046007763721939 414'WAT2_338= '6 0. 3093.86 3099.86\" spec295 = \"295 295 0 4713.4118249182 0.0460109'WAT2_339= '43145283 4146 0. 3116.56 3122.56\" spec296 = \"296 296 0 4713.44054937'WAT2_340= '59 0.046007124510225 4146 0. 3125.57 3131.57\" spec297 = \"297 297 0 4'WAT2_341= '713.4681777622 0.045999287260119 4146 0. 3134.51 3140.51\" spec298 = 'WAT2_342= '\"298 298 0 4713.4384917512 0.046010724957759 4146 0. 3143.44 3149.44'WAT2_343= '\" spec299 = \"299 299 0 4713.3914195234 0.046024156600409 4146 0. 315'WAT2_344= '2.48 3158.48\" spec300 = \"300 300 0 4713.248006397 0.046009718653543 'WAT2_345= '4146 0. 3161.36 3167.36\" spec301 = \"301 301 0 4713.4661088183 0.0460'WAT2_346= '10110441128 4146 0. 3170.36 3176.36\" spec302 = \"302 302 0 4713.49185'WAT2_347= '90265 0.046001921517291 4146 0. 3179.20 3185.20\" spec303 = \"303 303 'WAT2_348= '0 4713.5119985064 0.04600616528776 4146 0. 3188.27 3194.27\" spec304 'WAT2_349= '= \"304 304 0 4713.5049524758 0.046005479330795 4146 0. 3197.24 3203.'WAT2_350= '24\" spec305 = \"305 305 0 4713.4572941648 0.046000846088559 4146 0. 3'WAT2_351= '219.34 3225.34\" spec306 = \"306 306 0 4713.4309619115 0.0460067385653'WAT2_352= '11 4146 0. 3228.11 3234.11\" spec307 = \"307 307 0 4713.4408706305 0.0'WAT2_353= '45997749867471 4146 0. 3237.12 3243.12\" spec308 = \"308 308 0 4713.21'WAT2_354= '72009784 0.046002651901277 4146 0. 3246.06 3252.06\" spec309 = \"309 3'WAT2_355= '09 0 4713.4375401091 0.046003061691583 4146 0. 3254.86 3260.86\" spec'WAT2_356= '310 = \"310 310 0 4713.4878939151 0.045991830271829 4146 0. 3263.93 3'WAT2_357= '269.93\" spec311 = \"311 311 0 4713.4797330665 0.045999033822425 4146 'WAT2_358= '0. 3272.79 3278.79\" spec312 = \"312 312 0 4713.4529010996 0.046006362'WAT2_359= '829794 4146 0. 3281.78 3287.78\" spec313 = \"313 313 0 4713.4565625512'WAT2_360= ' 0.046003916940527 4146 0. 3290.68 3296.68\" spec314 = \"314 314 0 471'WAT2_361= '3.4749520985 0.045998611574284 4146 0. 3299.59 3305.59\" spec315 = \"3'WAT2_362= '15 315 0 4713.3870421744 0.04599221039735 4146 0. 3321.22 3327.22\" s'WAT2_363= 'pec316 = \"316 316 0 4713.2789670026 0.046017339326744 4146 0. 3330.1'WAT2_364= '8 3336.18\" spec317 = \"317 317 0 4713.4175128279 0.045991892065005 41'WAT2_365= '46 0. 3338.92 3344.92\" spec318 = \"318 318 0 4713.3696374125 0.046002'WAT2_366= '326506741 4146 0. 3347.96 3353.96\" spec319 = \"319 319 0 4713.3633201'WAT2_367= '547 0.04600924268997 4146 0. 3356.94 3362.94\" spec320 = \"320 320 0 4'WAT2_368= '713.4046711593 0.045994889351285 4146 0. 3365.79 3371.79\" spec321 = 'WAT2_369= '\"321 321 0 4713.3923404439 0.04601115839791 4146 0. 3374.64 3380.64\"'WAT2_370= ' spec322 = \"322 322 0 4713.3747325829 0.04600503077215 4146 0. 3383.'WAT2_371= '47 3389.47\" spec323 = \"323 323 0 4713.4272166505 0.045991113721706 4'WAT2_372= '146 0. 3392.23 3398.23\" spec324 = \"324 324 0 4713.4199312948 0.04599'WAT2_373= '3967151291 4146 0. 3401.16 3407.16\" spec325 = \"325 325 0 4713.305411'WAT2_374= '8441 0.045997935688721 4146 0. 3422.48 3428.48\" spec326 = \"326 326 0'WAT2_375= ' 4713.3398900099 0.045991970039526 4146 0. 3431.29 3437.29\" spec327 'WAT2_376= '= \"327 327 0 4713.3194427602 0.046000476206986 4146 0. 3440.21 3446.'WAT2_377= '21\" spec328 = \"328 328 0 4713.3803546862 0.045987309491644 4146 0. 3'WAT2_378= '448.68 3454.68\" spec329 = \"329 329 0 4713.3676960268 0.0459903245169'WAT2_379= '02 4146 0. 3457.43 3463.43\" spec330 = \"330 330 0 4713.3451181305 0.0'WAT2_380= '46000644425522 4146 0. 3466.23 3472.23\" spec331 = \"331 331 0 4713.41'WAT2_381= '69789248 0.045991580012548 4146 0. 3475.01 3481.01\" spec332 = \"332 3'WAT2_382= '32 0 4713.4013585071 0.045995750843998 4146 0. 3483.79 3489.79\" spec'WAT2_383= '333 = \"333 333 0 4713.4083426317 0.045993513781498 4146 0. 3492.40 3'WAT2_384= '498.40\" spec334 = \"334 334 0 4713.3766928486 0.046005478581015 4146 'WAT2_385= '0. 3501.22 3507.22\" spec335 = \"335 335 0 4713.3240553707 0.045993380'WAT2_386= '764594 4146 0. 3532.57 3538.57\" spec336 = \"336 336 0 4713.3126715006'WAT2_387= ' 0.045999028865176 4146 0. 3541.35 3547.35\" spec337 = \"337 337 0 471'WAT2_388= '3.3340751476 0.046000886106146 4146 0. 3550.00 3556.00\" spec338 = \"3'WAT2_389= '38 338 0 4713.3747666619 0.045986793037596 4146 0. 3558.75 3564.75\" 'WAT2_390= 'spec339 = \"339 339 0 4713.4103246264 0.045979160652222 4146 0. 3567.'WAT2_391= '36 3573.36\" spec340 = \"340 340 0 4713.409187008 0.04598564390558 414'WAT2_392= '6 0. 3576.23 3582.23\" spec341 = \"341 341 0 4713.3803739014 0.0459922'WAT2_393= '41020624 4146 0. 3584.83 3590.83\" spec342 = \"342 342 0 4713.38575868'WAT2_394= '79 0.045996398812532 4146 0. 3593.59 3599.59\" spec343 = \"343 343 0 4'WAT2_395= '713.3603220666 0.045997016619664 4146 0. 3602.36 3608.36\" spec344 = 'WAT2_396= '\"344 344 0 4713.211327405 0.045988264742412 4146 0. 3623.69 3629.69\"'WAT2_397= ' spec345 = \"345 345 0 4713.2381611816 0.045986803226484 4146 0. 3632'WAT2_398= '.33 3638.33\" spec346 = \"346 346 0 4713.2641599641 0.04598348906318 4'WAT2_399= '146 0. 3641.00 3647.00\" spec347 = \"347 347 0 4713.2496449448 0.04599'WAT2_400= '7458656893 4146 0. 3649.46 3655.46\" spec348 = \"348 348 0 4713.268033'WAT2_401= '3338 0.045988812804039 4146 0. 3658.12 3664.12\" spec349 = \"349 349 0'WAT2_402= ' 4713.3002383874 0.045991650096711 4146 0. 3666.80 3672.80\" spec350 'WAT2_403= '= \"350 350 0 4713.3388867198 0.04598431267515 4146 0. 3675.34 3681.3'WAT2_404= '4\" spec351 = \"351 351 0 4713.3377378986 0.045980177929722 4146 0. 36'WAT2_405= '83.88 3689.88\" spec352 = \"352 352 0 4713.3198805453 0.04599099127233'WAT2_406= '6 4146 0. 3692.62 3698.62\" spec353 = \"353 353 0 4713.3783026775 0.04'WAT2_407= '5981351576521 4146 0. 3701.22 3707.22\" spec354 = \"354 354 0 4713.336'WAT2_408= '4844975 0.045971640723176 4146 0. 3722.49 3728.49\" spec355 = \"355 35'WAT2_409= '5 0 4713.3021345338 0.045975564544802 4146 0. 3730.96 3736.96\" spec3'WAT2_410= '56 = \"356 356 0 4713.2697169518 0.045985106952983 4146 0. 3739.45 37'WAT2_411= '45.45\" spec357 = \"357 357 0 4713.1076546961 0.045975695758664 4146 0'WAT2_412= '. 3748.02 3754.02\" spec358 = \"358 358 0 4713.3177405036 0.0459846966'WAT2_413= '77447 4146 0. 3756.62 3762.62\" spec359 = \"359 359 0 4713.148548784 0'WAT2_414= '.045971066134588 4146 0. 3765.04 3771.04\" spec360 = \"360 360 0 4713.'WAT2_415= '3053583379 0.045989198483773 4146 0. 3773.43 3779.43\" spec361 = \"361'WAT2_416= ' 361 0 4713.3584756902 0.045983425235947 4146 0. 3782.09 3788.09\" sp'WAT2_417= 'ec362 = \"362 362 0 4713.3999011398 0.045976861318261 4146 0. 3790.68'WAT2_418= ' 3796.68\" spec363 = \"363 363 0 4713.4281429613 0.045974504972717 414'WAT2_419= '6 0. 3799.21 3805.21\" spec364 = \"364 364 0 4713.2468345627 0.0459811'WAT2_420= '63344986 4146 0. 3820.69 3826.69\" spec365 = \"365 365 0 4713.25525599'WAT2_421= '18 0.045982526874076 4146 0. 3829.04 3835.04\" spec366 = \"366 366 0 4'WAT2_422= '713.313047927 0.045969953365706 4146 0. 3837.64 3843.64\" spec367 = \"'WAT2_423= '367 367 0 4713.293059558 0.045986119255538 4146 0. 3845.79 3851.79\" 'WAT2_424= 'spec368 = \"368 368 0 4713.1476101386 0.045967111274927 4146 0. 3854.'WAT2_425= '20 3860.20\" spec369 = \"369 369 0 4713.3945846203 0.045963988902862 4'WAT2_426= '146 0. 3862.57 3868.57\" spec370 = \"370 370 0 4713.416377742 0.045964'WAT2_427= '776688879 4146 0. 3871.02 3877.02\" spec371 = \"371 371 0 4713.4055895'WAT2_428= '145 0.045973469830967 4146 0. 3879.51 3885.51\" spec372 = \"372 372 0 'WAT2_429= '4713.4262704687 0.045975339040367 4146 0. 3887.88 3893.88\" spec373 ='WAT2_430= ' \"373 373 0 4713.433420402 0.045973205846518 4146 0. 3896.15 3902.15'WAT2_431= '\" spec374 = \"374 374 0 4713.1939205688 0.045979726636472 4146 0. 391'WAT2_432= '7.94 3923.94\" spec375 = \"375 375 0 4713.2262244147 0.045974872772697'WAT2_433= ' 4146 0. 3926.22 3932.22\" spec376 = \"376 376 0 4713.2683816237 0.045'WAT2_434= '96907915397 4146 0. 3934.68 3940.68\" spec377 = \"377 377 0 4713.07937'WAT2_435= '63738 0.045970799045489 4146 0. 3942.95 3948.95\" spec378 = \"378 378 'WAT2_436= '0 4713.3778224018 0.045957375885541 4146 0. 3951.25 3957.25\" spec379'WAT2_437= ' = \"379 379 0 4713.3432163459 0.045975463273152 4146 0. 3959.53 3965'WAT2_438= '.53\" spec380 = \"380 380 0 4713.2426646635 0.045997661415151 4146 0. 'WAT2_439= '3967.78 3973.78\" spec381 = \"381 381 0 4713.4052152201 0.045969636863'WAT2_440= '59 4146 0. 3976.04 3982.04\" spec382 = \"382 382 0 4713.430693252 0.04'WAT2_441= '5965685063039 4146 0. 3984.31 3990.31\" spec383 = \"383 383 0 4713.464'WAT2_442= '6245815 0.045970242774223 4146 0. 3992.75 3998.75\" spec384 = \"384 38'WAT2_443= '4 0 4713.2636626161 0.045972548135399 4146 0. 4022.43 4028.43\" spec3'WAT2_444= '85 = \"385 385 0 4713.279352508 0.045972578716551 4146 0. 4030.68 403'WAT2_445= '6.68\" spec386 = \"386 386 0 4713.1262106236 0.04595757375319 4146 0. 'WAT2_446= '4038.91 4044.91\" spec387 = \"387 387 0 4713.1288831003 0.045968491492'WAT2_447= '028 4146 0. 4046.88 4052.88\" spec388 = \"388 388 0 4713.4314968799 0.'WAT2_448= '045953005945345 4146 0. 4054.93 4060.93\" spec389 = \"389 389 0 4713.4'WAT2_449= '201739663 0.045959783339694 4146 0. 4063.17 4069.17\" spec390 = \"390 'WAT2_450= '390 0 4713.4634007568 0.045960527620115 4146 0. 4071.23 4077.23\" spe'WAT2_451= 'c391 = \"391 391 0 4713.4509719785 0.045964840944295 4146 0. 4079.25 'WAT2_452= '4085.25\" spec392 = \"392 392 0 4713.5444063961 0.045951813090761 4146'WAT2_453= ' 0. 4087.37 4093.37\"'                                                DCLOG1  = 'REFSPEC1 = 20aug10038.ms'                                            APID2   = 'PARKED 0.0'                                                          APID3   = 'PARKED 0.0'                                                          APID4   = 'FIBRE NOT IN USE 0.0'                                                APID5   = 'Field32 6.24'                                                        APID6   = 'Grid_Sky_44 23.0'                                                    APID7   = 'PARKED 0.0'                                                          APID8   = 'Giant35 8.1'                                                         APID9   = 'PARKED 0.0'                                                          APID10  = 'Grid_Sky_42 23.0'                                                    APID11  = 'PARKED 0.0'                                                          APID12  = 'PARKED 0.0'                                                          APID13  = 'Grid_Sky_49 23.0'                                                    APID14  = 'PARKED 0.0'                                                          APID15  = 'Giant28 8.4'                                                         APID16  = 'PARKED 0.0'                                                          APID17  = 'Giant12 7.36'                                                        APID18  = 'Giant16 8.99'                                                        APID19  = 'PARKED 0.0'                                                          APID20  = 'PARKED 0.0'                                                          APID21  = 'Giant08 8.97'                                                        APID22  = 'PARKED 0.0'                                                          APID23  = 'PARKED 0.0'                                                          APID24  = 'FIBRE NOT IN USE 0.0'                                                APID25  = 'Grid_Sky_52 23.0'                                                    APID26  = 'PARKED 0.0'                                                          APID27  = 'PARKED 0.0'                                                          APID28  = 'PARKED 0.0'                                                          APID29  = 'PARKED 0.0'                                                          APID30  = 'Grid_Sky_51 23.0'                                                    APID31  = 'PARKED 0.0'                                                          APID32  = 'PARKED 0.0'                                                          APID33  = 'PARKED 0.0'                                                          APID34  = 'Grid_Sky_57 23.0'                                                    APID35  = 'PARKED 0.0'                                                          APID36  = 'PARKED 0.0'                                                          APID37  = 'PARKED 0.0'                                                          APID38  = 'PARKED 0.0'                                                          APID39  = 'PARKED 0.0'                                                          APID40  = 'Grid_Sky_55 23.0'                                                    APID41  = 'PARKED 0.0'                                                          APID42  = 'PARKED 0.0'                                                          APID43  = 'Field05 5.03'                                                        APID44  = 'Grid_Sky_61 23.0'                                                    APID45  = 'Grid_Sky_60 23.0'                                                    APID46  = 'FIBRE NOT IN USE 0.0'                                                APID47  = 'PARKED 0.0'                                                          APID48  = 'PARKED 0.0'                                                          APID49  = 'PARKED 0.0'                                                          APID50  = 'PARKED 0.0'                                                          APID51  = 'PARKED 0.0'                                                          APID52  = 'PARKED 0.0'                                                          APID53  = 'Grid_Sky_65 23.0'                                                    APID54  = 'Grid_Sky_64 23.0'                                                    APID55  = 'Field16 4.81'                                                        APID56  = 'PARKED 0.0'                                                          APID57  = 'Grid_Sky_63 23.0'                                                    APID58  = 'Giant02 6.44'                                                        APID59  = 'FIBRE NOT IN USE 0.0'                                                APID60  = 'Grid_Sky_70 23.0'                                                    APID61  = 'Grid_Sky_69 23.0'                                                    APID62  = 'PARKED 0.0'                                                          APID63  = 'PARKED 0.0'                                                          APID64  = 'Field34 8.41'                                                        APID65  = 'PARKED 0.0'                                                          APID66  = 'PARKED 0.0'                                                          APID67  = 'PARKED 0.0'                                                          APID68  = 'PARKED 0.0'                                                          APID69  = 'Field24 4.14'                                                        APID70  = 'PARKED 0.0'                                                          APID71  = 'PARKED 0.0'                                                          APID72  = 'Giant10 7.03'                                                        APID73  = 'Field28 8.03'                                                        APID74  = 'PARKED 0.0'                                                          APID75  = 'Giant36 6.64'                                                        APID76  = 'Field08 7.56'                                                        APID77  = 'PARKED 0.0'                                                          APID78  = 'PARKED 0.0'                                                          APID79  = 'PARKED 0.0'                                                          APID80  = 'Giant13 6.42'                                                        APID81  = 'PARKED 0.0'                                                          APID82  = 'PARKED 0.0'                                                          APID83  = 'PARKED 0.0'                                                          APID84  = 'Grid_Sky_77 23.0'                                                    APID85  = 'PARKED 0.0'                                                          APID86  = 'PARKED 0.0'                                                          APID87  = 'Grid_Sky_75 23.0'                                                    APID88  = 'PARKED 0.0'                                                          APID89  = 'Grid_Sky_74 23.0'                                                    APID90  = 'PARKED 0.0'                                                          APID91  = 'PARKED 0.0'                                                          APID92  = 'PARKED 0.0'                                                          APID93  = 'Grid_Sky_80 23.0'                                                    APID94  = 'Grid_Sky_81 23.0'                                                    APID95  = 'PARKED 0.0'                                                          APID96  = 'Grid_Sky_79 23.0'                                                    APID97  = 'PARKED 0.0'                                                          APID98  = 'Grid_Sky_78 23.0'                                                    APID99  = 'PARKED 0.0'                                                          APID100 = 'Field36 5.99'                                                        APID101 = 'Grid_Sky_85 23.0'                                                    APID102 = 'Grid_Sky_86 23.0'                                                    APID103 = 'Field38 7.73'                                                        APID104 = 'Field39 7.99'                                                        APID105 = 'Field11 8.56'                                                        APID106 = 'PARKED 0.0'                                                          APID107 = 'PARKED 0.0'                                                          APID108 = 'Grid_Sky_83 23.0'                                                    APID109 = 'PARKED 0.0'                                                          APID110 = 'PARKED 0.0'                                                          APID111 = 'PARKED 0.0'                                                          APID112 = 'Giant24 6.54'                                                        APID113 = 'PARKED 0.0'                                                          APID114 = 'PARKED 0.0'                                                          APID115 = 'PARKED 0.0'                                                          APID116 = 'Giant03 8.96'                                                        APID117 = 'Giant33 8.32'                                                        APID118 = 'Grid_Sky_87 23.0'                                                    APID119 = 'PARKED 0.0'                                                          APID120 = 'PARKED 0.0'                                                          APID121 = 'Field02 7.37'                                                        APID122 = 'PARKED 0.0'                                                          APID123 = 'PARKED 0.0'                                                          APID124 = 'Grid_Sky_92 23.0'                                                    APID125 = 'PARKED 0.0'                                                          APID126 = 'Giant18 8.85'                                                        APID127 = 'Giant29 8.3'                                                         APID128 = 'PARKED 0.0'                                                          APID129 = 'PARKED 0.0'                                                          APID130 = 'PARKED 0.0'                                                          APID131 = 'FIBRE NOT IN USE 0.0'                                                APID132 = 'Field06 6.02'                                                        APID133 = 'Grid_Sky_97 23.0'                                                    APID134 = 'Grid_Sky_96 23.0'                                                    APID135 = 'PARKED 0.0'                                                          APID136 = 'PARKED 0.0'                                                          APID137 = 'PARKED 0.0'                                                          APID138 = 'PARKED 0.0'                                                          APID139 = 'PARKED 0.0'                                                          APID140 = 'Field15 7.99'                                                        APID141 = 'PARKED 0.0'                                                          APID142 = 'Grid_Sky_100 23.0'                                                   APID143 = 'PARKED 0.0'                                                          APID144 = 'PARKED 0.0'                                                          APID145 = 'PARKED 0.0'                                                          APID146 = 'PARKED 0.0'                                                          APID147 = 'PARKED 0.0'                                                          APID148 = 'Giant31 8.96'                                                        APID149 = 'PARKED 0.0'                                                          APID150 = 'PARKED 0.0'                                                          APID151 = 'Grid_Sky_105 23.0'                                                   APID152 = 'PARKED 0.0'                                                          APID153 = 'PARKED 0.0'                                                          APID154 = 'PARKED 0.0'                                                          APID155 = 'PARKED 0.0'                                                          APID156 = 'PARKED 0.0'                                                          APID157 = 'PARKED 0.0'                                                          APID158 = 'PARKED 0.0'                                                          APID159 = 'Giant26 8.83'                                                        APID160 = 'PARKED 0.0'                                                          APID161 = 'PARKED 0.0'                                                          APID162 = 'PARKED 0.0'                                                          APID163 = 'PARKED 0.0'                                                          APID164 = 'Giant38 8.58'                                                        APID165 = 'Field03 8.23'                                                        APID166 = 'PARKED 0.0'                                                          APID167 = 'Grid_Sky_107 23.0'                                                   APID168 = 'PARKED 0.0'                                                          APID169 = 'PARKED 0.0'                                                          APID170 = 'Giant27 7.88'                                                        APID171 = 'PARKED 0.0'                                                          APID172 = 'PARKED 0.0'                                                          APID173 = 'PARKED 0.0'                                                          APID174 = 'Grid_Sky_112 23.0'                                                   APID175 = 'PARKED 0.0'                                                          APID176 = 'Field23 5.2'                                                         APID177 = 'Grid_Sky_110 23.0'                                                   APID178 = 'PARKED 0.0'                                                          APID179 = 'PARKED 0.0'                                                          APID180 = 'PARKED 0.0'                                                          APID181 = 'Grid_Sky_117 23.0'                                                   APID182 = 'Grid_Sky_116 23.0'                                                   APID183 = 'Field21 8.28'                                                        APID184 = 'Field40 8.35'                                                        APID185 = 'PARKED 0.0'                                                          APID186 = 'PARKED 0.0'                                                          APID187 = 'FIBRE NOT IN USE 0.0'                                                APID188 = 'Grid_Sky_122 23.0'                                                   APID189 = 'PARKED 0.0'                                                          APID190 = 'Grid_Sky_121 23.0'                                                   APID191 = 'PARKED 0.0'                                                          APID192 = 'PARKED 0.0'                                                          APID193 = 'PARKED 0.0'                                                          APID194 = 'PARKED 0.0'                                                          APID195 = 'PARKED 0.0'                                                          APID196 = 'Field25 7.91'                                                        APID197 = 'PARKED 0.0'                                                          APID198 = 'PARKED 0.0'                                                          APID199 = 'PARKED 0.0'                                                          APID200 = 'Giant25 7.77'                                                        APID201 = 'PARKED 0.0'                                                          APID202 = 'PARKED 0.0'                                                          APID203 = 'PARKED 0.0'                                                          APID204 = 'PARKED 0.0'                                                          APID205 = 'PARKED 0.0'                                                          APID206 = 'PARKED 0.0'                                                          APID207 = 'Giant30 8.91'                                                        APID208 = 'Giant37 8.26'                                                        APID209 = 'PARKED 0.0'                                                          APID210 = 'PARKED 0.0'                                                          APID211 = 'Giant14 8.67'                                                        APID212 = 'PARKED 0.0'                                                          APID213 = 'PARKED 0.0'                                                          APID214 = 'Grid_Sky_128 23.0'                                                   APID215 = 'PARKED 0.0'                                                          APID216 = 'PARKED 0.0'                                                          APID217 = 'Giant04 8.05'                                                        APID218 = 'Giant05 6.5'                                                         APID219 = 'PARKED 0.0'                                                          APID220 = 'PARKED 0.0'                                                          APID221 = 'Field14 8.9'                                                         APID222 = 'PARKED 0.0'                                                          APID223 = 'PARKED 0.0'                                                          APID224 = 'Giant01 7.67'                                                        APID225 = 'PARKED 0.0'                                                          APID226 = 'PARKED 0.0'                                                          APID227 = 'PARKED 0.0'                                                          APID228 = 'PARKED 0.0'                                                          APID229 = 'PARKED 0.0'                                                          APID230 = 'Giant34 8.11'                                                        APID231 = 'PARKED 0.0'                                                          APID232 = 'PARKED 0.0'                                                          APID233 = 'Field07 6.81'                                                        APID234 = 'PARKED 0.0'                                                          APID235 = 'PARKED 0.0'                                                          APID236 = 'PARKED 0.0'                                                          APID237 = 'PARKED 0.0'                                                          APID238 = 'PARKED 0.0'                                                          APID239 = 'PARKED 0.0'                                                          APID240 = 'PARKED 0.0'                                                          APID241 = 'Field13 4.82'                                                        APID242 = 'PARKED 0.0'                                                          APID243 = 'PARKED 0.0'                                                          APID244 = 'Giant17 8.8'                                                         APID245 = 'PARKED 0.0'                                                          APID246 = 'PARKED 0.0'                                                          APID247 = 'PARKED 0.0'                                                          APID248 = 'PARKED 0.0'                                                          APID249 = 'Field18 4.38'                                                        APID250 = 'Giant09 5.38'                                                        APID251 = 'PARKED 0.0'                                                          APID252 = 'PARKED 0.0'                                                          APID253 = 'Giant06 8.77'                                                        APID254 = 'PARKED 0.0'                                                          APID255 = 'PARKED 0.0'                                                          APID256 = 'Field09 6.45'                                                        APID257 = 'FIBRE NOT IN USE 0.0'                                                APID258 = 'Giant32 8.75'                                                        APID259 = 'PARKED 0.0'                                                          APID260 = 'PARKED 0.0'                                                          APID261 = 'PARKED 0.0'                                                          APID262 = 'PARKED 0.0'                                                          APID263 = 'PARKED 0.0'                                                          APID264 = 'PARKED 0.0'                                                          APID265 = 'PARKED 0.0'                                                          APID266 = 'PARKED 0.0'                                                          APID267 = 'PARKED 0.0'                                                          APID268 = 'PARKED 0.0'                                                          APID269 = 'PARKED 0.0'                                                          APID270 = 'PARKED 0.0'                                                          APID271 = 'PARKED 0.0'                                                          APID272 = 'PARKED 0.0'                                                          APID273 = 'PARKED 0.0'                                                          APID274 = 'Field17 8.91'                                                        APID275 = 'PARKED 0.0'                                                          APID276 = 'PARKED 0.0'                                                          APID277 = 'PARKED 0.0'                                                          APID278 = 'PARKED 0.0'                                                          APID279 = 'PARKED 0.0'                                                          APID280 = 'Field30 8.98'                                                        APID281 = 'PARKED 0.0'                                                          APID282 = 'PARKED 0.0'                                                          APID283 = 'Field12 7.51'                                                        APID284 = 'Field27 8.88'                                                        APID285 = 'PARKED 0.0'                                                          APID286 = 'Giant22 8.46'                                                        APID287 = 'Giant15 8.93'                                                        APID288 = 'PARKED 0.0'                                                          APID289 = 'PARKED 0.0'                                                          APID290 = 'PARKED 0.0'                                                          APID291 = 'PARKED 0.0'                                                          APID292 = 'PARKED 0.0'                                                          APID293 = 'Field04 6.55'                                                        APID294 = 'PARKED 0.0'                                                          APID295 = 'PARKED 0.0'                                                          APID296 = 'PARKED 0.0'                                                          APID297 = 'PARKED 0.0'                                                          APID298 = 'PARKED 0.0'                                                          APID299 = 'PARKED 0.0'                                                          APID300 = 'PARKED 0.0'                                                          APID301 = 'PARKED 0.0'                                                          APID302 = 'PARKED 0.0'                                                          APID303 = 'PARKED 0.0'                                                          APID304 = 'Grid_Sky_3 23.0'                                                     APID305 = 'Giant11 7.47'                                                        APID306 = 'Giant19 6.12'                                                        APID307 = 'PARKED 0.0'                                                          APID308 = 'PARKED 0.0'                                                          APID309 = 'Field19 6.56'                                                        APID310 = 'PARKED 0.0'                                                          APID311 = 'PARKED 0.0'                                                          APID312 = 'PARKED 0.0'                                                          APID313 = 'PARKED 0.0'                                                          APID314 = 'PARKED 0.0'                                                          APID315 = 'Field33 5.38'                                                        APID316 = 'PARKED 0.0'                                                          APID317 = 'PARKED 0.0'                                                          APID318 = 'Grid_Sky_13 23.0'                                                    APID319 = 'PARKED 0.0'                                                          APID320 = 'PARKED 0.0'                                                          APID321 = 'Field22 8.87'                                                        APID322 = 'Field37 5.79'                                                        APID323 = 'Giant21 7.09'                                                        APID324 = 'PARKED 0.0'                                                          APID325 = 'Grid_Sky_17 23.0'                                                    APID326 = 'PARKED 0.0'                                                          APID327 = 'PARKED 0.0'                                                          APID328 = 'Field41 8.94'                                                        APID329 = 'PARKED 0.0'                                                          APID330 = 'PARKED 0.0'                                                          APID331 = 'PARKED 0.0'                                                          APID332 = 'Grid_Sky_15 23.0'                                                    APID333 = 'PARKED 0.0'                                                          APID334 = 'PARKED 0.0'                                                          APID335 = 'PARKED 0.0'                                                          APID336 = 'PARKED 0.0'                                                          APID337 = 'PARKED 0.0'                                                          APID338 = 'PARKED 0.0'                                                          APID339 = 'PARKED 0.0'                                                          APID340 = 'PARKED 0.0'                                                          APID341 = 'PARKED 0.0'                                                          APID342 = 'PARKED 0.0'                                                          APID343 = 'Giant23 7.04'                                                        APID344 = 'PARKED 0.0'                                                          APID345 = 'PARKED 0.0'                                                          APID346 = 'PARKED 0.0'                                                          APID347 = 'Field31 8.11'                                                        APID348 = 'Field35 8.77'                                                        APID349 = 'PARKED 0.0'                                                          APID350 = 'Field42 7.28'                                                        APID351 = 'Grid_Sky_23 23.0'                                                    APID352 = 'PARKED 0.0'                                                          APID353 = 'Grid_Sky_22 23.0'                                                    APID354 = 'PARKED 0.0'                                                          APID355 = 'PARKED 0.0'                                                          APID356 = 'PARKED 0.0'                                                          APID357 = 'PARKED 0.0'                                                          APID358 = 'Giant20 8.09'                                                        APID359 = 'PARKED 0.0'                                                          APID360 = 'PARKED 0.0'                                                          APID361 = 'PARKED 0.0'                                                          APID362 = 'PARKED 0.0'                                                          APID363 = 'Grid_Sky_26 23.0'                                                    APID364 = 'PARKED 0.0'                                                          APID365 = 'Grid_Sky_33 23.0'                                                    APID366 = 'PARKED 0.0'                                                          APID367 = 'PARKED 0.0'                                                          APID368 = 'PARKED 0.0'                                                          APID369 = 'PARKED 0.0'                                                          APID370 = 'PARKED 0.0'                                                          APID371 = 'PARKED 0.0'                                                          APID372 = 'PARKED 0.0'                                                          APID373 = 'Grid_Sky_30 23.0'                                                    APID374 = 'PARKED 0.0'                                                          APID375 = 'Grid_Sky_37 23.0'                                                    APID376 = 'PARKED 0.0'                                                          APID377 = 'PARKED 0.0'                                                          APID378 = 'PARKED 0.0'                                                          APID379 = 'PARKED 0.0'                                                          APID380 = 'PARKED 0.0'                                                          APID381 = 'PARKED 0.0'                                                          APID382 = 'PARKED 0.0'                                                          APID383 = 'Grid_Sky_35 23.0'                                                    APID384 = 'PARKED 0.0'                                                          APID385 = 'PARKED 0.0'                                                          APID386 = 'PARKED 0.0'                                                          APID387 = 'PARKED 0.0'                                                          APID388 = 'PARKED 0.0'                                                          APID389 = 'PARKED 0.0'                                                          APID390 = 'PARKED 0.0'                                                          APID391 = 'Grid_Sky_39 23.0'                                                    APID392 = 'PARKED 0.0'                                                          VHELIO  =                29.49                                                  DOPCOR01= '   -29.5 1'                                                          DOPCOR02= '   -29.5 2'                                                          DOPCOR03= '   -29.5 3'                                                          DOPCOR04= '   -29.5 4'                                                          DOPCOR05= '  -29.42 5'                                                          DOPCOR06= '  -29.44 6'                                                          DOPCOR07= '   -29.5 7'                                                          DOPCOR08= '  -29.42 8'                                                          DOPCOR09= '   -29.5 9'                                                          DOPCOR10= '  -29.42 10'                                                         DOPCOR11= '  -29.51 11'                                                         DOPCOR12= '  -29.51 12'                                                         DOPCOR13= '  -29.44 13'                                                         DOPCOR14= '  -29.51 14'                                                         DOPCOR15= '  -29.42 15'                                                         DOPCOR16= '   -29.5 16'                                                         DOPCOR17= '  -29.43 17'                                                         DOPCOR18= '  -29.43 18'                                                         DOPCOR19= '   -29.5 19'                                                         DOPCOR20= '   -29.5 20'                                                         DOPCOR21= '  -29.44 21'                                                         DOPCOR22= '  -29.51 22'                                                         DOPCOR23= '  -29.51 23'                                                         DOPCOR24= '  -29.51 24'                                                         DOPCOR25= '  -29.41 25'                                                         DOPCOR26= '  -29.51 26'                                                         DOPCOR27= '  -29.51 27'                                                         DOPCOR28= '  -29.51 28'                                                         DOPCOR29= '  -29.51 29'                                                         DOPCOR30= '  -29.42 30'                                                         DOPCOR31= '  -29.52 31'                                                         DOPCOR32= '  -29.52 32'                                                         DOPCOR33= '  -29.52 33'                                                         DOPCOR34= '  -29.42 34'                                                         DOPCOR35= '  -15.42 35'                                                         DOPCOR36= '  -29.51 36'                                                         DOPCOR37= '  -29.51 37'                                                         DOPCOR38= '  -29.51 38'                                                         DOPCOR39= '  -29.51 39'                                                         DOPCOR40= '  -29.44 40'                                                         DOPCOR41= '  -15.42 41'                                                         DOPCOR42= '  -29.52 42'                                                         DOPCOR43= '  -29.45 43'                                                         DOPCOR44= '  -29.41 44'                                                         DOPCOR45= '  -29.42 45'                                                         DOPCOR46= '  -29.52 46'                                                         DOPCOR47= '  -29.52 47'                                                         DOPCOR48= '  -29.52 48'                                                         DOPCOR49= '  -29.52 49'                                                         DOPCOR50= '  -29.52 50'                                                         DOPCOR51= '  -29.52 51'                                                         DOPCOR52= '  -29.52 52'                                                         DOPCOR53= '  -29.44 53'                                                         DOPCOR54= '  -29.41 54'                                                         DOPCOR55= '  -29.43 55'                                                         DOPCOR56= '  -29.52 56'                                                         DOPCOR57= '  -29.42 57'                                                         DOPCOR58= '  -29.45 58'                                                         DOPCOR59= '  -29.52 59'                                                         DOPCOR60= '  -29.44 60'                                                         DOPCOR61= '  -29.42 61'                                                         DOPCOR62= '  -29.52 62'                                                         DOPCOR63= '  -29.52 63'                                                         DOPCOR64= '  -29.41 64'                                                         DOPCOR65= '  -29.52 65'                                                         DOPCOR66= '  -29.52 66'                                                         DOPCOR67= '  -29.52 67'                                                         DOPCOR68= '  -29.52 68'                                                         DOPCOR69= '  -29.42 69'                                                         DOPCOR70= '  -29.51 70'                                                         DOPCOR71= '  -29.51 71'                                                         DOPCOR72= '  -29.44 72'                                                         DOPCOR73= '  -29.42 73'                                                         DOPCOR74= '  -29.52 74'                                                         DOPCOR75= '  -29.41 75'                                                         DOPCOR76= '  -29.44 76'                                                         DOPCOR77= '  -29.52 77'                                                         DOPCOR78= '  -29.52 78'                                                         DOPCOR79= '  -29.52 79'                                                         DOPCOR80= '  -29.44 80'                                                         DOPCOR81= '  -29.51 81'                                                         DOPCOR82= '  -29.51 82'                                                         DOPCOR83= '  -29.51 83'                                                         DOPCOR84= '  -29.42 84'                                                         DOPCOR85= '  -15.42 85'                                                         DOPCOR86= '  -29.51 86'                                                         DOPCOR87= '  -29.44 87'                                                         DOPCOR88= '  -29.51 88'                                                         DOPCOR89= '  -29.41 89'                                                         DOPCOR90= '   -29.5 90'                                                         DOPCOR91= '   -29.5 91'                                                         DOPCOR92= '  -29.51 92'                                                         DOPCOR93= '  -29.42 93'                                                         DOPCOR94= '  -29.45 94'                                                         DOPCOR95= '  -29.51 95'                                                         DOPCOR96= '  -29.43 96'                                                         DOPCOR97= '  -29.51 97'                                                         DOPCOR98= '  -29.49 392'                                                        SFIT    = '1:392   '                                                            SFITB   = '1       '                                                            APID1   = 'FIBRE NOT IN USE 0.0'                                                WAT1_002= 'roms    '                                                            WS_1    = '4714.6011014172'                                                     WD_1    = '0.045983949785206'                                                   WS_2    = '4714.6001160418'                                                     WD_2    = '0.045981365402826'                                                   WS_3    = '4714.5653724911'                                                     WD_3    = '0.045984955081074'                                                   WS_4    = '4714.3437607515'                                                     WD_4    = '0.046022322358533'                                                   WS_5    = '4714.5050418284'                                                     WD_5    = '0.045989140715598'                                                   WS_6    = '4714.5055081181'                                                     WD_6    = '0.045986516685649'                                                   WS_7    = '4714.4632076396'                                                     WD_7    = '0.045986842479366'                                                   WS_8    = '4714.4614991544'                                                     WD_8    = '0.045986512516062'                                                   WS_9    = '4714.2683602836'                                                     WD_9    = '0.046023596337669'                                                   WS_10   = '4714.4000355321'                                                     WD_10   = '0.045986460347027'                                                   WS_11   = '4714.5081964159'                                                     WD_11   = '0.045988308684989'                                                   WS_12   = '4714.4940900716'                                                     WD_12   = '0.04599342707869'                                                    WS_13   = '4714.4644868423'                                                     WD_13   = '0.045997936582853'                                                   WS_14   = '4714.4458312862'                                                     WD_14   = '0.045998245496458'                                                   WS_15   = '4714.4307114908'                                                     WD_15   = '0.045999573653847'                                                   WS_16   = '4714.4197972798'                                                     WD_16   = '0.045992794185178'                                                   WS_17   = '4714.3758124128'                                                     WD_17   = '0.045997299227092'                                                   WS_18   = '4714.3459055193'                                                     WD_18   = '0.045996712601047'                                                   WS_19   = '4714.3460871201'                                                     WD_19   = '0.045998321480776'                                                   WS_20   = '4714.3293813027'                                                     WD_20   = '0.045997177673246'                                                   WS_21   = '4714.458402456'                                                      WD_21   = '0.045991437552783'                                                   WS_22   = '4714.4469399067'                                                     WD_22   = '0.046001553566282'                                                   WS_23   = '4714.4519701174'                                                     WD_23   = '0.045990435234293'                                                   WS_24   = '4714.2223968128'                                                     WD_24   = '0.045989874462128'                                                   WS_25   = '4714.3845529366'                                                     WD_25   = '0.046000538070025'                                                   WS_26   = '4714.3940117108'                                                     WD_26   = '0.045996914040939'                                                   WS_27   = '4714.3760549997'                                                     WD_27   = '0.046003762117683'                                                   WS_28   = '4714.3446067313'                                                     WD_28   = '0.046000301131415'                                                   WS_29   = '4714.3250999101'                                                     WD_29   = '0.04601307798798'                                                    WS_30   = '4714.3391347641'                                                     WD_30   = '0.045998608347127'                                                   WS_31   = '4714.3877856725'                                                     WD_31   = '0.046009200629414'                                                   WS_32   = '4714.3809270903'                                                     WD_32   = '0.046002993581932'                                                   WS_33   = '4714.3643937589'                                                     WD_33   = '0.046010737251267'                                                   WS_34   = '4714.3286900799'                                                     WD_34   = '0.046001248245778'                                                   WS_35   = '4714.1038093076'                                                     WD_35   = '0.046003308852492'                                                   WS_36   = '4714.2991563965'                                                     WD_36   = '0.045998717338056'                                                   WS_37   = '4714.3145184004'                                                     WD_37   = '0.045991824252043'                                                   WS_38   = '4714.2515382698'                                                     WD_38   = '0.04600447876295'                                                    WS_39   = '4714.2514604649'                                                     WD_39   = '0.045998591190734'                                                   WS_40   = '4714.2252056052'                                                     WD_40   = '0.045998659952872'                                                   WS_41   = '4714.0573394774'                                                     WD_41   = '0.04600386951719'                                                    WS_42   = '4714.2639746936'                                                     WD_42   = '0.046001514231405'                                                   WS_43   = '4714.2395730457'                                                     WD_43   = '0.046000408522887'                                                   WS_44   = '4714.205617984'                                                      WD_44   = '0.046009401757328'                                                   WS_45   = '4714.1847124036'                                                     WD_45   = '0.04600897989225'                                                    WS_46   = '4714.1678655796'                                                     WD_46   = '0.046018416644309'                                                   WS_47   = '4714.170324666'                                                      WD_47   = '0.046012575023384'                                                   WS_48   = '4714.146088355'                                                      WD_48   = '0.046017760317755'                                                   WS_49   = '4714.1571883761'                                                     WD_49   = '0.045999604704657'                                                   WS_50   = '4714.2783674404'                                                     WD_50   = '0.046001544500538'                                                   WS_51   = '4714.2229682422'                                                     WD_51   = '0.046006362952368'                                                   WS_52   = '4714.2245184319'                                                     WD_52   = '0.046002203949286'                                                   WS_53   = '4714.2006880321'                                                     WD_53   = '0.046009017051969'                                                   WS_54   = '4714.2019000351'                                                     WD_54   = '0.046000750023079'                                                   WS_55   = '4714.1892137003'                                                     WD_55   = '0.046002450183237'                                                   WS_56   = '4714.1433571894'                                                     WD_56   = '0.04601300646012'                                                    WS_57   = '4714.1594298854'                                                     WD_57   = '0.046005810941374'                                                   WS_58   = '4714.1255371847'                                                     WD_58   = '0.046010435629665'                                                   WS_59   = '4714.0948412'                                                        WD_59   = '0.046008529045792'                                                   WS_60   = '4714.2033509206'                                                     WD_60   = '0.046006777479704'                                                   WS_61   = '4714.1747086477'                                                     WD_61   = '0.046015300732178'                                                   WS_62   = '4714.1723893314'                                                     WD_62   = '0.046019458957982'                                                   WS_63   = '4714.1651783494'                                                     WD_63   = '0.046015021716078'                                                   WS_64   = '4714.1564331915'                                                     WD_64   = '0.046020983813175'                                                   WS_65   = '4714.1800907295'                                                     WD_65   = '0.046016377701278'                                                   WS_66   = '4714.1471063452'                                                     WD_66   = '0.046021613544275'                                                   WS_67   = '4714.1551103148'                                                     WD_67   = '0.046012455871811'                                                   WS_68   = '4714.1260359496'                                                     WD_68   = '0.046026580352411'                                                   WS_69   = '4714.1327759821'                                                     WD_69   = '0.046009216967108'                                                   WS_70   = '4714.2255948443'                                                     WD_70   = '0.046011454916604'                                                   WS_71   = '4714.2227934062'                                                     WD_71   = '0.046009486153262'                                                   WS_72   = '4714.2172712705'                                                     WD_72   = '0.046010513695928'                                                   WS_73   = '4714.2219370497'                                                     WD_73   = '0.046000440710095'                                                   WS_74   = '4714.2152575035'                                                     WD_74   = '0.046010478525623'                                                   WS_75   = '4714.1677098832'                                                     WD_75   = '0.046021094538707'                                                   WS_76   = '4714.1531109163'                                                     WD_76   = '0.04602019106486'                                                    WS_77   = '4714.1456888369'                                                     WD_77   = '0.046021716521153'                                                   WS_78   = '4714.161342714'                                                      WD_78   = '0.046015924574916'                                                   WS_79   = '4714.0995480918'                                                     WD_79   = '0.046024957461414'                                                   WS_80   = '4714.1445839937'                                                     WD_80   = '0.046011431607106'                                                   WS_81   = '4714.1451878823'                                                     WD_81   = '0.04599979746153'                                                    WS_82   = '4714.1620329095'                                                     WD_82   = '0.046008250070551'                                                   WS_83   = '4714.1326042615'                                                     WD_83   = '0.046009874966533'                                                   WS_84   = '4714.1634111053'                                                     WD_84   = '0.04600637499327'                                                    WS_85   = '4713.9099055623'                                                     WD_85   = '0.046020330897601'                                                   WS_86   = '4714.1151096185'                                                     WD_86   = '0.046023608374774'                                                   WS_87   = '4714.1516401099'                                                     WD_87   = '0.046016900746544'                                                   WS_88   = '4714.1263108792'                                                     WD_88   = '0.046017550975379'                                                   WS_89   = '4714.0985960351'                                                     WD_89   = '0.046026254439534'                                                   WS_90   = '4714.1093668894'                                                     WD_90   = '0.046025815355042'                                                   WS_91   = '4714.1212976522'                                                     WD_91   = '0.046019433921092'                                                   WS_92   = '4714.1078606708'                                                     WD_92   = '0.046011557318186'                                                   WS_93   = '4714.1008155171'                                                     WD_93   = '0.046014987375901'                                                   WS_94   = '4714.0734049084'                                                     WD_94   = '0.046027624576037'                                                   WS_95   = '4714.0593569277'                                                     WD_95   = '0.046031718162434'                                                   WS_96   = '4714.0667457513'                                                     WD_96   = '0.046021212573435'                                                   WS_97   = '4714.0573316779'                                                     WD_97   = '0.046017659755281'                                                   WS_98   = '4714.0572733368'                                                     WD_98   = '0.046013819030376'                                                   WS_99   = '4714.1025619723'                                                     WD_99   = '0.046022805351557'                                                   WS_100  = '4714.1274628572'                                                     WD_100  = '0.046026737273394'                                                   WS_101  = '4714.1561876739'                                                     WD_101  = '0.046015307147869'                                                   WS_102  = '4714.1200663605'                                                     WD_102  = '0.046021960006258'                                                   WS_103  = '4714.1059740548'                                                     WD_103  = '0.046028817335731'                                                   WS_104  = '4714.1081593377'                                                     WD_104  = '0.046031444206413'                                                   WS_105  = '4714.1161707192'                                                     WD_105  = '0.046020165452655'                                                   WS_106  = '4714.1168855748'                                                     WD_106  = '0.046030493968405'                                                   WS_107  = '4714.1122985776'                                                     WD_107  = '0.046018875305484'                                                   WS_108  = '4714.1201283823'                                                     WD_108  = '0.0460080806245'                                                     WS_109  = '4714.0785322771'                                                     WD_109  = '0.046028576626012'                                                   WS_110  = '4714.046228504'                                                      WD_110  = '0.046025330727809'                                                   WS_111  = '4714.0796670242'                                                     WD_111  = '0.046017472998266'                                                   WS_112  = '4714.0555819038'                                                     WD_112  = '0.046030230591296'                                                   WS_113  = '4714.0818933167'                                                     WD_113  = '0.046022362364071'                                                   WS_114  = '4714.0583928655'                                                     WD_114  = '0.04603027634592'                                                    WS_115  = '4714.0286383367'                                                     WD_115  = '0.046026582642767'                                                   WS_116  = '4714.0444656376'                                                     WD_116  = '0.046020362867769'                                                   WS_117  = '4713.9984221325'                                                     WD_117  = '0.046028989276516'                                                   WS_118  = '4713.9921841441'                                                     WD_118  = '0.046033603218769'                                                   WS_119  = '4713.8890055681'                                                     WD_119  = '0.046025834944397'                                                   WS_120  = '4713.8584496676'                                                     WD_120  = '0.046026732811325'                                                   WS_121  = '4714.0947136969'                                                     WD_121  = '0.046024810373855'                                                   WS_122  = '4714.0959080395'                                                     WD_122  = '0.046026883104196'                                                   WS_123  = '4714.1102980337'                                                     WD_123  = '0.046024143366614'                                                   WS_124  = '4714.1044712506'                                                     WD_124  = '0.046024309303195'                                                   WS_125  = '4714.1337454656'                                                     WD_125  = '0.046014528822169'                                                   WS_126  = '4714.0733736892'                                                     WD_126  = '0.046032597000138'                                                   WS_127  = '4714.0592255459'                                                     WD_127  = '0.046030174088085'                                                   WS_128  = '4713.8477931006'                                                     WD_128  = '0.046031220349851'                                                   WS_129  = '4713.8953721295'                                                     WD_129  = '0.046029271250421'                                                   WS_130  = '4714.1099321796'                                                     WD_130  = '0.046014387562312'                                                   WS_131  = '4714.09143059'                                                       WD_131  = '0.046035930772219'                                                   WS_132  = '4714.1444882403'                                                     WD_132  = '0.04601929130492'                                                    WS_133  = '4714.0918706837'                                                     WD_133  = '0.046024299449914'                                                   WS_134  = '4714.0817028905'                                                     WD_134  = '0.046031449277402'                                                   WS_135  = '4714.0772601498'                                                     WD_135  = '0.046025055885425'                                                   WS_136  = '4714.0846500491'                                                     WD_136  = '0.046020318826562'                                                   WS_137  = '4714.1013408787'                                                     WD_137  = '0.046019006849334'                                                   WS_138  = '4714.0614471246'                                                     WD_138  = '0.046025591505465'                                                   WS_139  = '4714.0796861313'                                                     WD_139  = '0.046018478128603'                                                   WS_140  = '4714.0588105048'                                                     WD_140  = '0.046032834974665'                                                   WS_141  = '4714.0401153428'                                                     WD_141  = '0.046026335753418'                                                   WS_142  = '4714.0686688855'                                                     WD_142  = '0.046026362032411'                                                   WS_143  = '4714.0386435652'                                                     WD_143  = '0.046030458304972'                                                   WS_144  = '4714.0435997492'                                                     WD_144  = '0.046025198126721'                                                   WS_145  = '4713.9842177182'                                                     WD_145  = '0.046029221358552'                                                   WS_146  = '4713.9925526323'                                                     WD_146  = '0.046036213122926'                                                   WS_147  = '4713.9887447679'                                                     WD_147  = '0.046029238895369'                                                   WS_148  = '4714.04747858'                                                       WD_148  = '0.046028864910504'                                                   WS_149  = '4713.7950943405'                                                     WD_149  = '0.046025640712504'                                                   WS_150  = '4714.0481479291'                                                     WD_150  = '0.046022044590921'                                                   WS_151  = '4714.0232821606'                                                     WD_151  = '0.046034107135506'                                                   WS_152  = '4714.037855939'                                                      WD_152  = '0.046015263249826'                                                   WS_153  = '4713.9909863308'                                                     WD_153  = '0.046026881607252'                                                   WS_154  = '4714.002767351'                                                      WD_154  = '0.046037374922548'                                                   WS_155  = '4714.018936105'                                                      WD_155  = '0.046025150232052'                                                   WS_156  = '4714.0335884769'                                                     WD_156  = '0.04601728248669'                                                    WS_157  = '4713.993612104'                                                      WD_157  = '0.046027693741863'                                                   WS_158  = '4714.0473637418'                                                     WD_158  = '0.046028798018212'                                                   WS_159  = '4714.0231073004'                                                     WD_159  = '0.046025434892055'                                                   WS_160  = '4714.0475859076'                                                     WD_160  = '0.046015870944803'                                                   WS_161  = '4714.0185987604'                                                     WD_161  = '0.046024045060015'                                                   WS_162  = '4714.0203981707'                                                     WD_162  = '0.046028165987953'                                                   WS_163  = '4714.0234285837'                                                     WD_163  = '0.046025740875423'                                                   WS_164  = '4714.0239982038'                                                     WD_164  = '0.046023833565219'                                                   WS_165  = '4713.9854811912'                                                     WD_165  = '0.046026081772114'                                                   WS_166  = '4713.7984288666'                                                     WD_166  = '0.046018033589403'                                                   WS_167  = '4713.9926256056'                                                     WD_167  = '0.046026001996626'                                                   WS_168  = '4714.0105434314'                                                     WD_168  = '0.046022198328073'                                                   WS_169  = '4714.021876915'                                                      WD_169  = '0.046019474337389'                                                   WS_170  = '4714.0041588461'                                                     WD_170  = '0.046028444635292'                                                   WS_171  = '4713.9921675122'                                                     WD_171  = '0.046025533653004'                                                   WS_172  = '4713.9911554396'                                                     WD_172  = '0.04602598479586'                                                    WS_173  = '4714.0001853899'                                                     WD_173  = '0.046022269138733'                                                   WS_174  = '4714.0008141416'                                                     WD_174  = '0.046031887994345'                                                   WS_175  = '4713.9953659851'                                                     WD_175  = '0.046029083336365'                                                   WS_176  = '4713.9790357058'                                                     WD_176  = '0.046028447604147'                                                   WS_177  = '4714.0132845381'                                                     WD_177  = '0.04602284150304'                                                    WS_178  = '4713.9153933454'                                                     WD_178  = '0.046031331772663'                                                   WS_179  = '4713.9750066942'                                                     WD_179  = '0.04602513311062'                                                    WS_180  = '4713.7660172741'                                                     WD_180  = '0.04602476896235'                                                    WS_181  = '4713.9753627565'                                                     WD_181  = '0.046032546923375'                                                   WS_182  = '4713.9578497049'                                                     WD_182  = '0.046027715591599'                                                   WS_183  = '4713.981159606'                                                      WD_183  = '0.046022553151522'                                                   WS_184  = '4713.9804953776'                                                     WD_184  = '0.046010127617559'                                                   WS_185  = '4713.9316439153'                                                     WD_185  = '0.046030618590306'                                                   WS_186  = '4713.9180439991'                                                     WD_186  = '0.046027047189748'                                                   WS_187  = '4713.9168615804'                                                     WD_187  = '0.046026648418749'                                                   WS_188  = '4713.9411914078'                                                     WD_188  = '0.046025806082453'                                                   WS_189  = '4713.9422266946'                                                     WD_189  = '0.046028363015227'                                                   WS_190  = '4713.9293927529'                                                     WD_190  = '0.046032833600847'                                                   WS_191  = '4713.9812145391'                                                     WD_191  = '0.046010490593755'                                                   WS_192  = '4713.9433640191'                                                     WD_192  = '0.046023085239316'                                                   WS_193  = '4713.9655175398'                                                     WD_193  = '0.04602369909649'                                                    WS_194  = '4713.943939863'                                                      WD_194  = '0.04602503239616'                                                    WS_195  = '4713.9704624173'                                                     WD_195  = '0.04602123807619'                                                    WS_196  = '4713.9229800138'                                                     WD_196  = '0.046027059347003'                                                   WS_197  = '4713.8782806057'                                                     WD_197  = '0.046027974390669'                                                   WS_198  = '4713.8864760686'                                                     WD_198  = '0.046034416846776'                                                   WS_199  = '4713.9098078919'                                                     WD_199  = '0.046023619623258'                                                   WS_200  = '4713.894103781'                                                      WD_200  = '0.046024912744718'                                                   WS_201  = '4713.8993307954'                                                     WD_201  = '0.046028376710458'                                                   WS_202  = '4713.9217595914'                                                     WD_202  = '0.046022978455289'                                                   WS_203  = '4713.8897620228'                                                     WD_203  = '0.046028636421602'                                                   WS_204  = '4713.9347296577'                                                     WD_204  = '0.046009763689202'                                                   WS_205  = '4713.8977688368'                                                     WD_205  = '0.046023042892484'                                                   WS_206  = '4713.9246454721'                                                     WD_206  = '0.046020571203452'                                                   WS_207  = '4713.8220684448'                                                     WD_207  = '0.046031070014223'                                                   WS_208  = '4713.8384312094'                                                     WD_208  = '0.046023616474325'                                                   WS_209  = '4713.8495439402'                                                     WD_209  = '0.046025550437305'                                                   WS_210  = '4713.6507975331'                                                     WD_210  = '0.046024391977086'                                                   WS_211  = '4713.8414294536'                                                     WD_211  = '0.0460253992259'                                                     WS_212  = '4713.8832870218'                                                     WD_212  = '0.046020346402482'                                                   WS_213  = '4713.8693823279'                                                     WD_213  = '0.046033545876811'                                                   WS_214  = '4713.8760284639'                                                     WD_214  = '0.046027201886835'                                                   WS_215  = '4713.872455087'                                                      WD_215  = '0.046026903772048'                                                   WS_216  = '4713.8864870587'                                                     WD_216  = '0.046024147791603'                                                   WS_217  = '4713.8430022811'                                                     WD_217  = '0.046019223771691'                                                   WS_218  = '4713.8491741406'                                                     WD_218  = '0.046022166309366'                                                   WS_219  = '4713.844772089'                                                      WD_219  = '0.046026886711522'                                                   WS_220  = '4713.8506335647'                                                     WD_220  = '0.04601750604817'                                                    WS_221  = '4713.8269135202'                                                     WD_221  = '0.046035786397983'                                                   WS_222  = '4713.8658157536'                                                     WD_222  = '0.04601580661048'                                                    WS_223  = '4713.8468631957'                                                     WD_223  = '0.046027677414373'                                                   WS_224  = '4713.8178487543'                                                     WD_224  = '0.046029507430056'                                                   WS_225  = '4713.795747587'                                                      WD_225  = '0.046036033277478'                                                   WS_226  = '4713.8393663961'                                                     WD_226  = '0.046020946754098'                                                   WS_227  = '4713.844151651'                                                      WD_227  = '0.046014303076658'                                                   WS_228  = '4713.8125423723'                                                     WD_228  = '0.046023641627011'                                                   WS_229  = '4713.8102863452'                                                     WD_229  = '0.046027077278847'                                                   WS_230  = '4713.8141149621'                                                     WD_230  = '0.046022297121746'                                                   WS_231  = '4713.8452408817'                                                     WD_231  = '0.046018574882286'                                                   WS_232  = '4713.8184275706'                                                     WD_232  = '0.046018886266014'                                                   WS_233  = '4713.8083212806'                                                     WD_233  = '0.046023966738636'                                                   WS_234  = '4713.809524775'                                                      WD_234  = '0.046022059535404'                                                   WS_235  = '4713.7903916904'                                                     WD_235  = '0.046030839435005'                                                   WS_236  = '4713.8377535536'                                                     WD_236  = '0.046012619578285'                                                   WS_237  = '4713.7671031749'                                                     WD_237  = '0.046019651836096'                                                   WS_238  = '4713.7709620692'                                                     WD_238  = '0.046021807556617'                                                   WS_239  = '4713.798923472'                                                      WD_239  = '0.046024310204397'                                                   WS_240  = '4713.5423881011'                                                     WD_240  = '0.046030410903063'                                                   WS_241  = '4713.798913418'                                                      WD_241  = '0.046019515481318'                                                   WS_242  = '4713.8247058395'                                                     WD_242  = '0.046019131442893'                                                   WS_243  = '4713.8247328709'                                                     WD_243  = '0.046019000321224'                                                   WS_244  = '4713.8487775801'                                                     WD_244  = '0.046015132087213'                                                   WS_245  = '4713.8693886528'                                                     WD_245  = '0.046004985303972'                                                   WS_246  = '4713.7177570435'                                                     WD_246  = '0.046018426000855'                                                   WS_247  = '4713.7122281465'                                                     WD_247  = '0.046020122665095'                                                   WS_248  = '4713.7452513865'                                                     WD_248  = '0.04601261572014'                                                    WS_249  = '4713.7578656327'                                                     WD_249  = '0.046020254877752'                                                   WS_250  = '4713.7553529481'                                                     WD_250  = '0.046006669092207'                                                   WS_251  = '4713.727595238'                                                      WD_251  = '0.046026015477394'                                                   WS_252  = '4713.7518411433'                                                     WD_252  = '0.046014163795528'                                                   WS_253  = '4713.7486537131'                                                     WD_253  = '0.046025606570888'                                                   WS_254  = '4713.7589123367'                                                     WD_254  = '0.046015697454383'                                                   WS_255  = '4713.7692384632'                                                     WD_255  = '0.046018911073306'                                                   WS_256  = '4713.6176961551'                                                     WD_256  = '0.046016471887393'                                                   WS_257  = '4713.6043602849'                                                     WD_257  = '0.046020169380793'                                                   WS_258  = '4713.6000994184'                                                     WD_258  = '0.046017644580839'                                                   WS_259  = '4713.6200828861'                                                     WD_259  = '0.046023025188828'                                                   WS_260  = '4713.6519150462'                                                     WD_260  = '0.046014619080887'                                                   WS_261  = '4713.6514730471'                                                     WD_261  = '0.046016407581694'                                                   WS_262  = '4713.638160106'                                                      WD_262  = '0.046014694933495'                                                   WS_263  = '4713.6709622008'                                                     WD_263  = '0.046011621458665'                                                   WS_264  = '4713.6239749375'                                                     WD_264  = '0.046028516513912'                                                   WS_265  = '4713.6872654484'                                                     WD_265  = '0.046007479562185'                                                   WS_266  = '4713.5883739634'                                                     WD_266  = '0.046023245509713'                                                   WS_267  = '4713.6002799257'                                                     WD_267  = '0.046011446752672'                                                   WS_268  = '4713.6250788696'                                                     WD_268  = '0.046016566635941'                                                   WS_269  = '4713.629451764'                                                      WD_269  = '0.046008744746781'                                                   WS_270  = '4713.6022047977'                                                     WD_270  = '0.046022951874146'                                                   WS_271  = '4713.6547823245'                                                     WD_271  = '0.046006720554808'                                                   WS_272  = '4713.6545031135'                                                     WD_272  = '0.046013820559662'                                                   WS_273  = '4713.6457445738'                                                     WD_273  = '0.046013183585104'                                                   WS_274  = '4713.6399277058'                                                     WD_274  = '0.046009920286743'                                                   WS_275  = '4713.6418483747'                                                     WD_275  = '0.046013407902421'                                                   WS_276  = '4713.4666231946'                                                     WD_276  = '0.046015917851097'                                                   WS_277  = '4713.4850922377'                                                     WD_277  = '0.046014835299709'                                                   WS_278  = '4713.5072488993'                                                     WD_278  = '0.046017736138226'                                                   WS_279  = '4713.5439581696'                                                     WD_279  = '0.046008039827434'                                                   WS_280  = '4713.5025889083'                                                     WD_280  = '0.046016452031919'                                                   WS_281  = '4713.5441215253'                                                     WD_281  = '0.046018738733138'                                                   WS_282  = '4713.5723856429'                                                     WD_282  = '0.046011449750306'                                                   WS_283  = '4713.5860601827'                                                     WD_283  = '0.046010984438579'                                                   WS_284  = '4713.5913575145'                                                     WD_284  = '0.046013935188282'                                                   WS_285  = '4713.6126792846'                                                     WD_285  = '0.046007285455689'                                                   WS_286  = '4713.4560958811'                                                     WD_286  = '0.046004660549381'                                                   WS_287  = '4713.4850477585'                                                     WD_287  = '0.046010812438963'                                                   WS_288  = '4713.5109296447'                                                     WD_288  = '0.046003184508135'                                                   WS_289  = '4713.5256228311'                                                     WD_289  = '0.0460005204005'                                                     WS_290  = '4713.5407410361'                                                     WD_290  = '0.046005935669991'                                                   WS_291  = '4713.5324749535'                                                     WD_291  = '0.046004101967523'                                                   WS_292  = '4713.3195655299'                                                     WD_292  = '0.046001256225867'                                                   WS_293  = '4713.5653658252'                                                     WD_293  = '0.046005403959515'                                                   WS_294  = '4713.5507453668'                                                     WD_294  = '0.046007763721939'                                                   WS_295  = '4713.4118249182'                                                     WD_295  = '0.046010943145283'                                                   WS_296  = '4713.4405493759'                                                     WD_296  = '0.046007124510225'                                                   WS_297  = '4713.4681777622'                                                     WD_297  = '0.045999287260119'                                                   WS_298  = '4713.4384917512'                                                     WD_298  = '0.046010724957759'                                                   WS_299  = '4713.3914195234'                                                     WD_299  = '0.046024156600409'                                                   WS_300  = '4713.248006397'                                                      WD_300  = '0.046009718653543'                                                   WS_301  = '4713.4661088183'                                                     WD_301  = '0.046010110441128'                                                   WS_302  = '4713.4918590265'                                                     WD_302  = '0.046001921517291'                                                   WS_303  = '4713.5119985064'                                                     WD_303  = '0.04600616528776'                                                    WS_304  = '4713.5049524758'                                                     WD_304  = '0.046005479330795'                                                   WS_305  = '4713.4572941648'                                                     WD_305  = '0.046000846088559'                                                   WS_306  = '4713.4309619115'                                                     WD_306  = '0.046006738565311'                                                   WS_307  = '4713.4408706305'                                                     WD_307  = '0.045997749867471'                                                   WS_308  = '4713.2172009784'                                                     WD_308  = '0.046002651901277'                                                   WS_309  = '4713.4375401091'                                                     WD_309  = '0.046003061691583'                                                   WS_310  = '4713.4878939151'                                                     WD_310  = '0.045991830271829'                                                   WS_311  = '4713.4797330665'                                                     WD_311  = '0.045999033822425'                                                   WS_312  = '4713.4529010996'                                                     WD_312  = '0.046006362829794'                                                   WS_313  = '4713.4565625512'                                                     WD_313  = '0.046003916940527'                                                   WS_314  = '4713.4749520985'                                                     WD_314  = '0.045998611574284'                                                   WS_315  = '4713.3870421744'                                                     WD_315  = '0.04599221039735'                                                    WS_316  = '4713.2789670026'                                                     WD_316  = '0.046017339326744'                                                   WS_317  = '4713.4175128279'                                                     WD_317  = '0.045991892065005'                                                   WS_318  = '4713.3696374125'                                                     WD_318  = '0.046002326506741'                                                   WS_319  = '4713.3633201547'                                                     WD_319  = '0.04600924268997'                                                    WS_320  = '4713.4046711593'                                                     WD_320  = '0.045994889351285'                                                   WS_321  = '4713.3923404439'                                                     WD_321  = '0.04601115839791'                                                    WS_322  = '4713.3747325829'                                                     WD_322  = '0.04600503077215'                                                    WS_323  = '4713.4272166505'                                                     WD_323  = '0.045991113721706'                                                   WS_324  = '4713.4199312948'                                                     WD_324  = '0.045993967151291'                                                   WS_325  = '4713.3054118441'                                                     WD_325  = '0.045997935688721'                                                   WS_326  = '4713.3398900099'                                                     WD_326  = '0.045991970039526'                                                   WS_327  = '4713.3194427602'                                                     WD_327  = '0.046000476206986'                                                   WS_328  = '4713.3803546862'                                                     WD_328  = '0.045987309491644'                                                   WS_329  = '4713.3676960268'                                                     WD_329  = '0.045990324516902'                                                   WS_330  = '4713.3451181305'                                                     WD_330  = '0.046000644425522'                                                   WS_331  = '4713.4169789248'                                                     WD_331  = '0.045991580012548'                                                   WS_332  = '4713.4013585071'                                                     WD_332  = '0.045995750843998'                                                   WS_333  = '4713.4083426317'                                                     WD_333  = '0.045993513781498'                                                   WS_334  = '4713.3766928486'                                                     WD_334  = '0.046005478581015'                                                   WS_335  = '4713.3240553707'                                                     WD_335  = '0.045993380764594'                                                   WS_336  = '4713.3126715006'                                                     WD_336  = '0.045999028865176'                                                   WS_337  = '4713.3340751476'                                                     WD_337  = '0.046000886106146'                                                   WS_338  = '4713.3747666619'                                                     WD_338  = '0.045986793037596'                                                   WS_339  = '4713.4103246264'                                                     WD_339  = '0.045979160652222'                                                   WS_340  = '4713.409187008'                                                      WD_340  = '0.04598564390558'                                                    WS_341  = '4713.3803739014'                                                     WD_341  = '0.045992241020624'                                                   WS_342  = '4713.3857586879'                                                     WD_342  = '0.045996398812532'                                                   WS_343  = '4713.3603220666'                                                     WD_343  = '0.045997016619664'                                                   WS_344  = '4713.211327405'                                                      WD_344  = '0.045988264742412'                                                   WS_345  = '4713.2381611816'                                                     WD_345  = '0.045986803226484'                                                   WS_346  = '4713.2641599641'                                                     WD_346  = '0.04598348906318'                                                    WS_347  = '4713.2496449448'                                                     WD_347  = '0.045997458656893'                                                   WS_348  = '4713.2680333338'                                                     WD_348  = '0.045988812804039'                                                   WS_349  = '4713.3002383874'                                                     WD_349  = '0.045991650096711'                                                   WS_350  = '4713.3388867198'                                                     WD_350  = '0.04598431267515'                                                    WS_351  = '4713.3377378986'                                                     WD_351  = '0.045980177929722'                                                   WS_352  = '4713.3198805453'                                                     WD_352  = '0.045990991272336'                                                   WS_353  = '4713.3783026775'                                                     WD_353  = '0.045981351576521'                                                   WS_354  = '4713.3364844975'                                                     WD_354  = '0.045971640723176'                                                   WS_355  = '4713.3021345338'                                                     WD_355  = '0.045975564544802'                                                   WS_356  = '4713.2697169518'                                                     WD_356  = '0.045985106952983'                                                   WS_357  = '4713.1076546961'                                                     WD_357  = '0.045975695758664'                                                   WS_358  = '4713.3177405036'                                                     WD_358  = '0.045984696677447'                                                   WS_359  = '4713.148548784'                                                      WD_359  = '0.045971066134588'                                                   WS_360  = '4713.3053583379'                                                     WD_360  = '0.045989198483773'                                                   WS_361  = '4713.3584756902'                                                     WD_361  = '0.045983425235947'                                                   WS_362  = '4713.3999011398'                                                     WD_362  = '0.045976861318261'                                                   WS_363  = '4713.4281429613'                                                     WD_363  = '0.045974504972717'                                                   WS_364  = '4713.2468345627'                                                     WD_364  = '0.045981163344986'                                                   WS_365  = '4713.2552559918'                                                     WD_365  = '0.045982526874076'                                                   WS_366  = '4713.313047927'                                                      WD_366  = '0.045969953365706'                                                   WS_367  = '4713.293059558'                                                      WD_367  = '0.045986119255538'                                                   WS_368  = '4713.1476101386'                                                     WD_368  = '0.045967111274927'                                                   WS_369  = '4713.3945846203'                                                     WD_369  = '0.045963988902862'                                                   WS_370  = '4713.416377742'                                                      WD_370  = '0.045964776688879'                                                   WS_371  = '4713.4055895145'                                                     WD_371  = '0.045973469830967'                                                   WS_372  = '4713.4262704687'                                                     WD_372  = '0.045975339040367'                                                   WS_373  = '4713.433420402'                                                      WD_373  = '0.045973205846518'                                                   WS_374  = '4713.1939205688'                                                     WD_374  = '0.045979726636472'                                                   WS_375  = '4713.2262244147'                                                     WD_375  = '0.045974872772697'                                                   WS_376  = '4713.2683816237'                                                     WD_376  = '0.04596907915397'                                                    WS_377  = '4713.0793763738'                                                     WD_377  = '0.045970799045489'                                                   WS_378  = '4713.3778224018'                                                     WD_378  = '0.045957375885541'                                                   WS_379  = '4713.3432163459'                                                     WD_379  = '0.045975463273152'                                                   WS_380  = '4713.2426646635'                                                     WD_380  = '0.045997661415151'                                                   WS_381  = '4713.4052152201'                                                     WD_381  = '0.04596963686359'                                                    WS_382  = '4713.430693252'                                                      WD_382  = '0.045965685063039'                                                   WS_383  = '4713.4646245815'                                                     WD_383  = '0.045970242774223'                                                   WS_384  = '4713.2636626161'                                                     WD_384  = '0.045972548135399'                                                   WS_385  = '4713.279352508'                                                      WD_385  = '0.045972578716551'                                                   WS_386  = '4713.1262106236'                                                     WD_386  = '0.04595757375319'                                                    WS_387  = '4713.1288831003'                                                     WD_387  = '0.045968491492028'                                                   WS_388  = '4713.4314968799'                                                     WD_388  = '0.045953005945345'                                                   WS_389  = '4713.4201739663'                                                     WD_389  = '0.045959783339694'                                                   WS_390  = '4713.4634007568'                                                     WD_390  = '0.045960527620115'                                                   WS_391  = '4713.4509719785'                                                     WD_391  = '0.045964840944295'                                                   WS_392  = '4713.5444063961'                                                     WD_392  = '0.045951813090761'                                                   "
       ]
      }
     ],
     "prompt_number": 21
    },
    {
     "cell_type": "code",
     "collapsed": false,
     "input": [
      "import numpy as np\n",
      "def get_wl(header, app):\n",
      "    WS = 'WS_'+str(app)\n",
      "    WD = 'WD_'+str(app)\n",
      "\n",
      "    first_px = float(header[WS])\n",
      "    disp = float(header[WD])\n",
      "    length = header['NAXIS1']\n",
      "    wl = np.arange(length)*disp\n",
      "    wl += first_px\n",
      "    \n",
      "    return wl\n",
      "    \n"
     ],
     "language": "python",
     "metadata": {},
     "outputs": [],
     "prompt_number": 44
    },
    {
     "cell_type": "code",
     "collapsed": false,
     "input": [
      "get_wl(a[0].header, 1)"
     ],
     "language": "python",
     "metadata": {},
     "outputs": [
      {
       "output_type": "stream",
       "stream": "stdout",
       "text": [
        "[ 4714.60110142  4714.64708537  4714.69306932 ...,  4902.81340789\n",
        "  4902.85939184  4902.90537579]\n"
       ]
      }
     ],
     "prompt_number": 33
    },
    {
     "cell_type": "code",
     "collapsed": false,
     "input": [
      "def plot_app(fits,app):\n",
      "    plt.plot(get_wl(fits[0].header, app),fits[0].data[app])\n",
      "    plt.show()"
     ],
     "language": "python",
     "metadata": {},
     "outputs": [],
     "prompt_number": 47
    },
    {
     "cell_type": "code",
     "collapsed": false,
     "input": [
      "a[0].data[1].shape"
     ],
     "language": "python",
     "metadata": {},
     "outputs": [
      {
       "metadata": {},
       "output_type": "pyout",
       "prompt_number": 39,
       "text": [
        "()"
       ]
      }
     ],
     "prompt_number": 39
    },
    {
     "cell_type": "code",
     "collapsed": false,
     "input": [
      "get_wl(a[0].header, 1).shape"
     ],
     "language": "python",
     "metadata": {},
     "outputs": [
      {
       "output_type": "stream",
       "stream": "stdout",
       "text": [
        "[ 4714.60110142  4714.64708537  4714.69306932 ...,  4902.81340789\n",
        "  4902.85939184  4902.90537579]\n"
       ]
      },
      {
       "ename": "AttributeError",
       "evalue": "'NoneType' object has no attribute 'shape'",
       "output_type": "pyerr",
       "traceback": [
        "\u001b[0;31m---------------------------------------------------------------------------\u001b[0m\n\u001b[0;31mAttributeError\u001b[0m                            Traceback (most recent call last)",
        "\u001b[0;32m<ipython-input-43-a0f029a225b8>\u001b[0m in \u001b[0;36m<module>\u001b[0;34m()\u001b[0m\n\u001b[0;32m----> 1\u001b[0;31m \u001b[0mget_wl\u001b[0m\u001b[0;34m(\u001b[0m\u001b[0ma\u001b[0m\u001b[0;34m[\u001b[0m\u001b[0;36m0\u001b[0m\u001b[0;34m]\u001b[0m\u001b[0;34m.\u001b[0m\u001b[0mheader\u001b[0m\u001b[0;34m,\u001b[0m \u001b[0;36m1\u001b[0m\u001b[0;34m)\u001b[0m\u001b[0;34m.\u001b[0m\u001b[0mshape\u001b[0m\u001b[0;34m\u001b[0m\u001b[0m\n\u001b[0m",
        "\u001b[0;31mAttributeError\u001b[0m: 'NoneType' object has no attribute 'shape'"
       ]
      }
     ],
     "prompt_number": 43
    },
    {
     "cell_type": "code",
     "collapsed": false,
     "input": [
      "plot_app(a,223)"
     ],
     "language": "python",
     "metadata": {},
     "outputs": [],
     "prompt_number": 54
    },
    {
     "cell_type": "code",
     "collapsed": false,
     "input": [
      "cd /Users/Carlos/Documents/HERMES/reductions/6.5/HD285507_1arc/npy/"
     ],
     "language": "python",
     "metadata": {},
     "outputs": [
      {
       "output_type": "stream",
       "stream": "stdout",
       "text": [
        "/Users/Carlos/Documents/HERMES/reductions/6.5/HD285507_1arc/npy\n"
       ]
      }
     ],
     "prompt_number": 50
    },
    {
     "cell_type": "code",
     "collapsed": false,
     "input": [
      "data = np.load('data.npy')"
     ],
     "language": "python",
     "metadata": {},
     "outputs": [],
     "prompt_number": 52
    },
    {
     "cell_type": "code",
     "collapsed": false,
     "input": [
      "data"
     ],
     "language": "python",
     "metadata": {},
     "outputs": [
      {
       "metadata": {},
       "output_type": "pyout",
       "prompt_number": 53,
       "text": [
        "array([['Field22', '8.87', '0.0', '62.0508', '16.0182'],\n",
        "       ['Giant35', '8.1', '3.0', '62.7275', '15.2627'],\n",
        "       ['Field32', '6.24', '6.0', '62.6704', '15.2370'],\n",
        "       ['Giant16', '8.99', '13.0', '62.4287', '15.1821'],\n",
        "       ['Giant12', '7.36', '14.0', '62.3204', '15.2008'],\n",
        "       ['Giant28', '8.4', '16.0', '62.6095', '15.1044'],\n",
        "       ['Giant08', '8.97', '30.0', '62.1862', '15.1133'],\n",
        "       ['Field05', '5.03', '47.0', '61.925', '15.1627'],\n",
        "       ['Giant02', '6.44', '52.0', '61.8854', '15.1958'],\n",
        "       ['Field16', '4.81', '55.0', '62.1195', '14.8940'],\n",
        "       ['Field24', '4.14', '61.0', '62.1975', '14.7010'],\n",
        "       ['Field34', '8.41', '66.0', '62.2195', '14.5467'],\n",
        "       ['Field08', '7.56', '74.0', '61.8925', '14.9866'],\n",
        "       ['Giant36', '6.64', '75.0', '62.1075', '14.4573'],\n",
        "       ['Field28', '8.03', '77.0', '62.0675', '14.5516'],\n",
        "       ['Giant10', '7.03', '78.0', '61.9258', '14.8428'],\n",
        "       ['Giant13', '6.42', '90.0', '61.8366', '14.7395'],\n",
        "       ['Field11', '8.56', '104.0', '61.6966', '14.8656'],\n",
        "       ['Field39', '7.99', '105.0', '61.6483', '14.3666'],\n",
        "       ['Field38', '7.73', '106.0', '61.6375', '14.3695'],\n",
        "       ['Field36', '5.99', '109.0', '61.5954', '14.4021'],\n",
        "       ['Giant33', '8.32', '112.0', '61.5558', '14.4238'],\n",
        "       ['Giant03', '8.96', '113.0', '61.7254', '15.1414'],\n",
        "       ['Giant24', '6.54', '117.0', '61.5145', '14.5554'],\n",
        "       ['Giant29', '8.3', '122.0', '61.4320', '14.5306'],\n",
        "       ['Giant18', '8.85', '123.0', '61.4875', '14.6949'],\n",
        "       ['Field02', '7.37', '128.0', '61.6887', '15.2102'],\n",
        "       ['Field06', '6.02', '137.0', '61.6058', '15.1266'],\n",
        "       ['Field15', '7.99', '148.0', '61.3512', '14.9353'],\n",
        "       ['Giant31', '8.96', '160.0', '60.995', '14.8089'],\n",
        "       ['Field03', '8.23', '163.0', '61.5841', '15.2324'],\n",
        "       ['Giant38', '8.58', '164.0', '60.8841', '14.8275'],\n",
        "       ['Giant26', '8.83', '169.0', '60.975', '14.9493'],\n",
        "       ['Field23', '5.2', '172.0', '61.0541', '15.0268'],\n",
        "       ['Giant27', '7.88', '178.0', '60.92', '15.0532'],\n",
        "       ['Field40', '8.35', '184.0', '60.7675', '15.1020'],\n",
        "       ['Field21', '8.28', '185.0', '61.0075', '15.1772'],\n",
        "       ['Field25', '7.91', '191.0', '60.9133', '15.2368'],\n",
        "       ['Giant25', '7.77', '207.0', '60.9020', '15.4362'],\n",
        "       ['Giant14', '8.67', '216.0', '61.145', '15.4934'],\n",
        "       ['Giant37', '8.26', '219.0', '60.8041', '15.6249'],\n",
        "       ['Giant30', '8.91', '220.0', '60.8920', '15.6041'],\n",
        "       ['Giant01', '7.67', '223.0', '61.755', '15.3350'],\n",
        "       ['Field14', '8.9', '226.0', '61.2616', '15.5628'],\n",
        "       ['Giant05', '6.5', '229.0', '61.3945', '15.5036'],\n",
        "       ['Giant04', '8.05', '230.0', '61.535', '15.4393'],\n",
        "       ['Field07', '6.81', '234.0', '61.4808', '15.4989'],\n",
        "       ['Giant34', '8.11', '237.0', '60.9516', '15.8575'],\n",
        "       ['Giant17', '8.8', '242.0', '61.2008', '15.7613'],\n",
        "       ['Field13', '4.82', '245.0', '61.3508', '15.6852'],\n",
        "       ['Giant06', '8.77', '253.0', '61.4858', '15.6325'],\n",
        "       ['Giant09', '5.38', '256.0', '61.4266', '15.7380'],\n",
        "       ['Field18', '4.38', '257.0', '61.36', '15.8304'],\n",
        "       ['Giant32', '8.75', '268.0', '61.3116', '16.1536'],\n",
        "       ['Field09', '6.45', '270.0', '61.5670', '15.6981'],\n",
        "       ['Field17', '8.91', '272.0', '61.4945', '15.9019'],\n",
        "       ['Field27', '8.88', '282.0', '61.5258', '16.1433'],\n",
        "       ['Field12', '7.51', '283.0', '61.6195', '15.8215'],\n",
        "       ['Field30', '8.98', '286.0', '61.5745', '16.1838'],\n",
        "       ['Field04', '6.55', '292.0', '61.7312', '15.5528'],\n",
        "       ['Giant15', '8.93', '298.0', '61.7641', '15.9862'],\n",
        "       ['Giant22', '8.46', '299.0', '61.7708', '16.1327'],\n",
        "       ['Field19', '6.56', '316.0', '61.9583', '16.0199'],\n",
        "       ['Giant19', '6.12', '319.0', '62.0325', '16.0247'],\n",
        "       ['Giant11', '7.47', '320.0', '61.9291', '15.8441'],\n",
        "       ['Giant21', '7.09', '322.0', '62.0483', '16.0580'],\n",
        "       ['Field37', '5.79', '323.0', '62.1370', '16.2338'],\n",
        "       ['Field33', '5.38', '330.0', '62.1875', '16.1231'],\n",
        "       ['Field41', '8.94', '337.0', '62.3358', '16.1591'],\n",
        "       ['Giant23', '7.04', '341.0', '62.2641', '15.9649'],\n",
        "       ['Field42', '7.28', '354.0', '62.5466', '15.9771'],\n",
        "       ['Field35', '8.77', '356.0', '62.5095', '15.9136'],\n",
        "       ['Field31', '8.11', '357.0', '62.4845', '15.8681'],\n",
        "       ['Giant20', '8.09', '366.0', '62.4545', '15.7201']], \n",
        "      dtype='|S7')"
       ]
      }
     ],
     "prompt_number": 53
    },
    {
     "cell_type": "code",
     "collapsed": false,
     "input": [],
     "language": "python",
     "metadata": {},
     "outputs": []
    },
    {
     "cell_type": "code",
     "collapsed": false,
     "input": [],
     "language": "python",
     "metadata": {},
     "outputs": []
    }
   ],
   "metadata": {}
  }
 ]
}