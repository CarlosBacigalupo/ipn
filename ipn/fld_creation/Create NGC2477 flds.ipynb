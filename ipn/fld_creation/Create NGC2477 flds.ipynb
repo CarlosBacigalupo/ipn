{
 "metadata": {
  "name": ""
 },
 "nbformat": 3,
 "nbformat_minor": 0,
 "worksheets": [
  {
   "cells": [
    {
     "cell_type": "code",
     "collapsed": false,
     "input": [
      "import TableBrowser as TB\n",
      "import clusterb as CB\n",
      "import toolbox\n",
      "import pandas\n",
      "import numpy as np\n",
      "import pylab as plt"
     ],
     "language": "python",
     "metadata": {},
     "outputs": [],
     "prompt_number": 2
    },
    {
     "cell_type": "code",
     "collapsed": false,
     "input": [
      "WORKING_DIR = '/Users/Carlos/Documents/HERMES/reductions/ngc2477/webda/'\n",
      "FLD_DIR = WORKING_DIR + 'fld/'"
     ],
     "language": "python",
     "metadata": {},
     "outputs": [],
     "prompt_number": 12
    },
    {
     "cell_type": "code",
     "collapsed": false,
     "input": [
      "cone = CB.vizier()\n",
      "cone = CB.webda()"
     ],
     "language": "python",
     "metadata": {},
     "outputs": [],
     "prompt_number": 13
    },
    {
     "cell_type": "code",
     "collapsed": false,
     "input": [
      "cone.base_dir = WORKING_DIR\n",
      "cone.fileName = 'vizier_cone_UCAC4_full.tsv'\n",
      "cone.cluster_centre = (toolbox.sex2dec(7,52,09.8)*15,-toolbox.sex2dec(38,31,48))\n",
      "cone.cluster_pm = (-0.83, 1.89) #bonatto+ 2011\n",
      "cone.tidal_rad = toolbox.sex2dec(2,0,0)\n",
      "cone.pp_cutoff = 3\n",
      "cone.mag_max = 30\n",
      "cone.mag_min = -10"
     ],
     "language": "python",
     "metadata": {},
     "outputs": [],
     "prompt_number": 14
    },
    {
     "cell_type": "code",
     "collapsed": false,
     "input": [
      "cone.load_tables()"
     ],
     "language": "python",
     "metadata": {},
     "outputs": [
      {
       "ename": "ValueError",
       "evalue": "setting an array element with a sequence.",
       "output_type": "pyerr",
       "traceback": [
        "\u001b[0;31m---------------------------------------------------------------------------\u001b[0m\n\u001b[0;31mValueError\u001b[0m                                Traceback (most recent call last)",
        "\u001b[0;32m<ipython-input-15-d832730d5140>\u001b[0m in \u001b[0;36m<module>\u001b[0;34m()\u001b[0m\n\u001b[0;32m----> 1\u001b[0;31m \u001b[0mcone\u001b[0m\u001b[0;34m.\u001b[0m\u001b[0mload_tables\u001b[0m\u001b[0;34m(\u001b[0m\u001b[0;34m)\u001b[0m\u001b[0;34m\u001b[0m\u001b[0m\n\u001b[0m",
        "\u001b[0;32m/Users/Carlos/Documents/workspace/MyAstroLib/clusterb/__init__.pyc\u001b[0m in \u001b[0;36mload_tables\u001b[0;34m(self)\u001b[0m\n\u001b[1;32m     17\u001b[0m         \u001b[0mmain\u001b[0m \u001b[0;34m=\u001b[0m \u001b[0mnp\u001b[0m\u001b[0;34m.\u001b[0m\u001b[0mloadtxt\u001b[0m\u001b[0;34m(\u001b[0m\u001b[0mself\u001b[0m\u001b[0;34m.\u001b[0m\u001b[0mbase_dir\u001b[0m \u001b[0;34m+\u001b[0m \u001b[0;34m'ad2000.coo'\u001b[0m\u001b[0;34m,\u001b[0m \u001b[0munpack\u001b[0m\u001b[0;34m=\u001b[0m\u001b[0mTrue\u001b[0m\u001b[0;34m,\u001b[0m \u001b[0mskiprows\u001b[0m \u001b[0;34m=\u001b[0m \u001b[0;36m2\u001b[0m\u001b[0;34m)\u001b[0m\u001b[0;34m\u001b[0m\u001b[0m\n\u001b[1;32m     18\u001b[0m         \u001b[0mprob\u001b[0m \u001b[0;34m=\u001b[0m \u001b[0mnp\u001b[0m\u001b[0;34m.\u001b[0m\u001b[0mloadtxt\u001b[0m\u001b[0;34m(\u001b[0m\u001b[0mself\u001b[0m\u001b[0;34m.\u001b[0m\u001b[0mbase_dir\u001b[0m \u001b[0;34m+\u001b[0m \u001b[0;34m'prob.mu'\u001b[0m\u001b[0;34m,\u001b[0m \u001b[0munpack\u001b[0m\u001b[0;34m=\u001b[0m\u001b[0mTrue\u001b[0m\u001b[0;34m,\u001b[0m \u001b[0mskiprows\u001b[0m \u001b[0;34m=\u001b[0m \u001b[0;36m2\u001b[0m\u001b[0;34m)\u001b[0m\u001b[0;34m\u001b[0m\u001b[0m\n\u001b[0;32m---> 19\u001b[0;31m         \u001b[0mUBV\u001b[0m \u001b[0;34m=\u001b[0m \u001b[0mnp\u001b[0m\u001b[0;34m.\u001b[0m\u001b[0mloadtxt\u001b[0m\u001b[0;34m(\u001b[0m\u001b[0mself\u001b[0m\u001b[0;34m.\u001b[0m\u001b[0mbase_dir\u001b[0m \u001b[0;34m+\u001b[0m \u001b[0;34m'ubv.pgo'\u001b[0m\u001b[0;34m,\u001b[0m \u001b[0munpack\u001b[0m\u001b[0;34m=\u001b[0m\u001b[0mTrue\u001b[0m\u001b[0;34m,\u001b[0m \u001b[0mskiprows\u001b[0m \u001b[0;34m=\u001b[0m \u001b[0;36m2\u001b[0m\u001b[0;34m)\u001b[0m\u001b[0;34m\u001b[0m\u001b[0m\n\u001b[0m\u001b[1;32m     20\u001b[0m \u001b[0;34m\u001b[0m\u001b[0m\n\u001b[1;32m     21\u001b[0m         \u001b[0;31m#These lines convert the np arrays into panda tables.\u001b[0m\u001b[0;34m\u001b[0m\u001b[0;34m\u001b[0m\u001b[0m\n",
        "\u001b[0;32m/Users/Carlos/Library/Enthought/Canopy_64bit/User/lib/python2.7/site-packages/numpy/lib/npyio.pyc\u001b[0m in \u001b[0;36mloadtxt\u001b[0;34m(fname, dtype, comments, delimiter, converters, skiprows, usecols, unpack, ndmin)\u001b[0m\n\u001b[1;32m    833\u001b[0m             \u001b[0mfh\u001b[0m\u001b[0;34m.\u001b[0m\u001b[0mclose\u001b[0m\u001b[0;34m(\u001b[0m\u001b[0;34m)\u001b[0m\u001b[0;34m\u001b[0m\u001b[0m\n\u001b[1;32m    834\u001b[0m \u001b[0;34m\u001b[0m\u001b[0m\n\u001b[0;32m--> 835\u001b[0;31m     \u001b[0mX\u001b[0m \u001b[0;34m=\u001b[0m \u001b[0mnp\u001b[0m\u001b[0;34m.\u001b[0m\u001b[0marray\u001b[0m\u001b[0;34m(\u001b[0m\u001b[0mX\u001b[0m\u001b[0;34m,\u001b[0m \u001b[0mdtype\u001b[0m\u001b[0;34m)\u001b[0m\u001b[0;34m\u001b[0m\u001b[0m\n\u001b[0m\u001b[1;32m    836\u001b[0m     \u001b[0;31m# Multicolumn data are returned with shape (1, N, M), i.e.\u001b[0m\u001b[0;34m\u001b[0m\u001b[0;34m\u001b[0m\u001b[0m\n\u001b[1;32m    837\u001b[0m     \u001b[0;31m# (1, 1, M) for a single row - remove the singleton dimension there\u001b[0m\u001b[0;34m\u001b[0m\u001b[0;34m\u001b[0m\u001b[0m\n",
        "\u001b[0;31mValueError\u001b[0m: setting an array element with a sequence."
       ]
      }
     ],
     "prompt_number": 15
    },
    {
     "cell_type": "code",
     "collapsed": false,
     "input": [
      "cone.load_data()\n",
      "cone.add_Vmag_galah()\n",
      "# cone.add_BVmag_ppmxl()"
     ],
     "language": "python",
     "metadata": {},
     "outputs": [
      {
       "output_type": "stream",
       "stream": "stdout",
       "text": [
        "Converted  A\n",
        "Converted  B\n",
        "Converted  Bmag\n",
        "Converted  DEJ2000\n",
        "Converted  H\n",
        "Converted  Jmag\n",
        "Converted  Kmag\n",
        "Converted  L\n",
        "Converted  N\n",
        "Converted  RAJ2000\n",
        "Converted  S\n",
        "Failed  UCAC4\n",
        "Converted  Vmag\n",
        "Converted  Z\n",
        "Converted  _DEJ2000\n",
        "Converted  _RAJ2000\n",
        "Converted  _r\n",
        "Converted  b\n",
        "Converted  db\n",
        "Converted  ePos\n",
        "Converted  f.mag\n",
        "Converted  h\n",
        "Converted  imag\n",
        "Converted  of\n",
        "Converted  pmDE\n",
        "Converted  pmRA\n",
        "Converted  rmag\n",
        "6143 stars imported. Unreduced dataframe shape = (6143, 27)\n",
        "\n",
        "Adding delta_pmRA column\n",
        " Created delta_pmRA column. Unreduced df shape = (6143, 28)\n",
        "\n",
        "Adding delta_pmDE column\n",
        " Created delta_pmDE column. Unreduced df shape = (6143, 29)\n",
        "\n",
        "Adding pm_tot column\n",
        " Created pm_tot column. Unreduced df shape = (6143, 30)\n",
        "\n",
        "Adding ID column\n",
        " Created ID column. Unreduced df shape = (6143, 31)\n",
        "\n",
        "Adding d column\n",
        " Created d column. Unreduced df shape = (6143, 32)\n",
        "\n",
        "Adding Vmag column\n",
        " Created Vmag column. Unreduced df shape = (6143, 32)\n",
        "\n"
       ]
      }
     ],
     "prompt_number": 9
    },
    {
     "cell_type": "code",
     "collapsed": false,
     "input": [
      "cone.df['target'] = cone.df['UCAC4'].astype(str)\n",
      "cone.df['mag'] = cone.df['Vmag']\n",
      "cone.df['BVmag'] = cone.df['Bmag'] - cone.df['Vmag']"
     ],
     "language": "python",
     "metadata": {},
     "outputs": [],
     "prompt_number": 10
    },
    {
     "cell_type": "code",
     "collapsed": false,
     "input": [
      "cone.df['RA_h'], cone.df['RA_min'], cone.df['RA_sec'] = toolbox.dec2sex(cone.df['RAJ2000']/15)\n",
      "cone.df['Dec_deg'], cone.df['Dec_min'], cone.df['Dec_sec'] = toolbox.dec2sex(cone.df['DEJ2000'])"
     ],
     "language": "python",
     "metadata": {},
     "outputs": [],
     "prompt_number": 11
    },
    {
     "cell_type": "code",
     "collapsed": false,
     "input": [
      "cone.df.columns"
     ],
     "language": "python",
     "metadata": {},
     "outputs": [
      {
       "metadata": {},
       "output_type": "pyout",
       "prompt_number": 12,
       "text": [
        "Index([u'A', u'B', u'Bmag', u'DEJ2000', u'H', u'Jmag', u'Kmag', u'L', u'N', u'RAJ2000', u'S', u'UCAC4', u'Vmag', u'Z', u'_DEJ2000', u'_RAJ2000', u'_r', u'b', u'db', u'ePos', u'f.mag', u'h', u'imag', u'of', u'pmDE', u'pmRA', u'rmag', u'delta_pmRA', u'delta_pmDE', u'pm_tot', u'ID', u'd', u'target', u'mag', u'BVmag', u'RA_h', u'RA_min', u'RA_sec', u'Dec_deg', u'Dec_min', u'Dec_sec'], dtype=object)"
       ]
      }
     ],
     "prompt_number": 12
    },
    {
     "cell_type": "code",
     "collapsed": false,
     "input": [
      "cone.reduce_list()"
     ],
     "language": "python",
     "metadata": {},
     "outputs": [
      {
       "output_type": "stream",
       "stream": "stdout",
       "text": [
        "Removing NaNs based on BVmag.\n",
        " 6096 stars with non NaN BVmag."
       ]
      },
      {
       "output_type": "stream",
       "stream": "stdout",
       "text": [
        "\n",
        "\n",
        "Reducing list by magnitude range.\n",
        " 6095 stars with 30 > V_mag > -10\n",
        "Reducing list by proper motion.\n",
        " Cluster's proper motion (-0.83, 1.89), median=(-1.3, 3.3999999999999999)\n",
        " 1412 stars with proper motion below 3\n",
        " \n",
        "Creating reduced list by tidal radius (Harris 1997)\n",
        " Using tidal_radius=2.0 deg\n",
        " 1412 stars within 2.0 deg of cluster centre(118.040833333,-38.53)\n",
        "\n"
       ]
      }
     ],
     "prompt_number": 13
    },
    {
     "cell_type": "code",
     "collapsed": false,
     "input": [
      "cone.reduced['P'] = 9"
     ],
     "language": "python",
     "metadata": {},
     "outputs": [],
     "prompt_number": 14
    },
    {
     "cell_type": "code",
     "collapsed": false,
     "input": [
      "cone.reduced = cone.reduced[(cone.reduced['BVmag']>=0.3)]\n",
      "cone.reduced.shape"
     ],
     "language": "python",
     "metadata": {},
     "outputs": [
      {
       "metadata": {},
       "output_type": "pyout",
       "prompt_number": 15,
       "text": [
        "(1378, 42)"
       ]
      }
     ],
     "prompt_number": 15
    },
    {
     "cell_type": "code",
     "collapsed": false,
     "input": [
      "cone.reduced = cone.reduced[(cone.reduced['Jmag']-cone.reduced['Kmag'])<0.65]\n",
      "cone.reduced.shape"
     ],
     "language": "python",
     "metadata": {},
     "outputs": [
      {
       "metadata": {},
       "output_type": "pyout",
       "prompt_number": 19,
       "text": [
        "(885, 42)"
       ]
      }
     ],
     "prompt_number": 19
    },
    {
     "cell_type": "code",
     "collapsed": false,
     "input": [
      "result = cone.df.sort(['Vmag'], ascending=[-1])\n",
      "fiducials_df = result[((result['d']>0.7) & (result['d']<0.8))][0:30]\n",
      "fiducials_df.index = range(fiducials_df.shape[0])"
     ],
     "language": "python",
     "metadata": {},
     "outputs": [],
     "prompt_number": 29
    },
    {
     "cell_type": "code",
     "collapsed": false,
     "input": [
      "f10_df = cone.reduced[cone.reduced['mag']<=13] \n",
      "f10_df['P'][((f10_df['P']==9) & (f10_df['mag']>=11))] = 8\n",
      "f10_df['P'][((f10_df['P']==8) & (f10_df['mag']>=12))] = 7\n",
      "f10_df['P'][((f10_df['P']==7) & (f10_df['mag']>=12.5))] = 6\n",
      "f10_df.index = range(f10_df.shape[0])\n",
      "f10_df.shape"
     ],
     "language": "python",
     "metadata": {},
     "outputs": [
      {
       "metadata": {},
       "output_type": "pyout",
       "prompt_number": 30,
       "text": [
        "(129, 42)"
       ]
      }
     ],
     "prompt_number": 30
    },
    {
     "cell_type": "code",
     "collapsed": false,
     "input": [
      "f125_df = cone.reduced[cone.reduced['mag']>=12.5]\n",
      "f125_df['P'][((f125_df['P']==9) & (f125_df['mag']>=13.5))] = 8\n",
      "f125_df['P'][((f125_df['P']==8) & (f125_df['mag']>=14.5))] = 7\n",
      "f125_df['P'][((f125_df['P']==7) & (f125_df['mag']>=15))] = 6\n",
      "f125_df.index = range(f125_df.shape[0])\n",
      "f125_df.shape"
     ],
     "language": "python",
     "metadata": {},
     "outputs": [
      {
       "metadata": {},
       "output_type": "pyout",
       "prompt_number": 33,
       "text": [
        "(818, 42)"
       ]
      }
     ],
     "prompt_number": 33
    },
    {
     "cell_type": "code",
     "collapsed": false,
     "input": [
      "cone.reduced.index = range(cone.reduced.shape[0])\n",
      "sky_df = cone.reduced[0:0]\n",
      "toolbox.write_fld(f10_df, sky_df, fiducials_df, FLD_DIR + 'NGC2477_10.fld', ('7 52 09.8','-38 31 48.00'),title = 'NGC2477 Short Field')\n",
      "toolbox.write_fld(f125_df, sky_df, fiducials_df, FLD_DIR + 'NGC2477_125.fld', ('7 52 09.8','-38 31 48.00'),title = 'NGC2477 Long Field')"
     ],
     "language": "python",
     "metadata": {},
     "outputs": [],
     "prompt_number": 32
    },
    {
     "cell_type": "code",
     "collapsed": false,
     "input": [
      "plt.scatter(fiducials_df['RAJ2000'].astype(float), fiducials_df['DEJ2000'].astype(float))\n",
      "plt.show()"
     ],
     "language": "python",
     "metadata": {},
     "outputs": [],
     "prompt_number": 83
    },
    {
     "cell_type": "code",
     "collapsed": false,
     "input": [
      "a = np.histogram(cone.df['pmRA'], bins = 100)\n",
      "plt.plot(a[1][:-1], a[0])\n",
      "a = np.histogram(cone.df['pmDE'], bins = 100)\n",
      "plt.plot(a[1][:-1], a[0])\n",
      "a = np.histogram(cone.df['delta_pmRA'], bins = 100)\n",
      "plt.plot(a[1][:-1], a[0])\n",
      "a = np.histogram(cone.df['delta_pmDE'], bins = 100)\n",
      "plt.plot(a[1][:-1], a[0])\n",
      "plt.show()"
     ],
     "language": "python",
     "metadata": {},
     "outputs": [],
     "prompt_number": 57
    },
    {
     "cell_type": "code",
     "collapsed": false,
     "input": [
      "cone.plot_HR_pos_pm()    "
     ],
     "language": "python",
     "metadata": {},
     "outputs": [],
     "prompt_number": 100
    },
    {
     "cell_type": "code",
     "collapsed": false,
     "input": [
      "cone.plot_pm()    "
     ],
     "language": "python",
     "metadata": {},
     "outputs": [],
     "prompt_number": 8
    },
    {
     "cell_type": "code",
     "collapsed": false,
     "input": [
      "cone.plot_HR()"
     ],
     "language": "python",
     "metadata": {},
     "outputs": [],
     "prompt_number": 21
    },
    {
     "cell_type": "code",
     "collapsed": false,
     "input": [
      "cone.plot_HR_JK()"
     ],
     "language": "python",
     "metadata": {},
     "outputs": [],
     "prompt_number": 17
    },
    {
     "cell_type": "code",
     "collapsed": false,
     "input": [
      "toolbox.dec2sex(132.82295418580/15)"
     ],
     "language": "python",
     "metadata": {},
     "outputs": [
      {
       "metadata": {},
       "output_type": "pyout",
       "prompt_number": 28,
       "text": [
        "(8.0, 51.0, 17.509004592003095)"
       ]
      }
     ],
     "prompt_number": 28
    },
    {
     "cell_type": "code",
     "collapsed": false,
     "input": [
      "min(cone.df['Vmag'])"
     ],
     "language": "python",
     "metadata": {},
     "outputs": [
      {
       "metadata": {},
       "output_type": "pyout",
       "prompt_number": 33,
       "text": [
        "5.2229755674473823"
       ]
      }
     ],
     "prompt_number": 33
    },
    {
     "cell_type": "code",
     "collapsed": false,
     "input": [
      "cone.reduced"
     ],
     "language": "python",
     "metadata": {},
     "outputs": [
      {
       "html": [
        "<pre>\n",
        "&lt;class 'pandas.core.frame.DataFrame'&gt;\n",
        "Int64Index: 431 entries, 0 to 693\n",
        "Data columns (total 42 columns):\n",
        "A             431  non-null values\n",
        "B             431  non-null values\n",
        "Bmag          431  non-null values\n",
        "DEJ2000       431  non-null values\n",
        "H             431  non-null values\n",
        "Jmag          431  non-null values\n",
        "Kmag          431  non-null values\n",
        "L             431  non-null values\n",
        "N             431  non-null values\n",
        "RAJ2000       431  non-null values\n",
        "S             431  non-null values\n",
        "UCAC4         431  non-null values\n",
        "Vmag          431  non-null values\n",
        "Z             431  non-null values\n",
        "_DEJ2000      431  non-null values\n",
        "_RAJ2000      431  non-null values\n",
        "_r            431  non-null values\n",
        "b             431  non-null values\n",
        "db            431  non-null values\n",
        "ePos          431  non-null values\n",
        "f.mag         431  non-null values\n",
        "h             431  non-null values\n",
        "imag          398  non-null values\n",
        "of            431  non-null values\n",
        "pmDE          431  non-null values\n",
        "pmRA          431  non-null values\n",
        "rmag          409  non-null values\n",
        "delta_pmRA    431  non-null values\n",
        "delta_pmDE    431  non-null values\n",
        "pm_tot        431  non-null values\n",
        "ID            431  non-null values\n",
        "d             431  non-null values\n",
        "target        431  non-null values\n",
        "mag           431  non-null values\n",
        "BVmag         431  non-null values\n",
        "RA_h          431  non-null values\n",
        "RA_min        431  non-null values\n",
        "RA_sec        431  non-null values\n",
        "Dec_deg       431  non-null values\n",
        "Dec_min       431  non-null values\n",
        "Dec_sec       431  non-null values\n",
        "P             431  non-null values\n",
        "dtypes: float64(38), int64(2), object(2)\n",
        "</pre>"
       ],
       "metadata": {},
       "output_type": "pyout",
       "prompt_number": 134,
       "text": [
        "<class 'pandas.core.frame.DataFrame'>\n",
        "Int64Index: 431 entries, 0 to 693\n",
        "Data columns (total 42 columns):\n",
        "A             431  non-null values\n",
        "B             431  non-null values\n",
        "Bmag          431  non-null values\n",
        "DEJ2000       431  non-null values\n",
        "H             431  non-null values\n",
        "Jmag          431  non-null values\n",
        "Kmag          431  non-null values\n",
        "L             431  non-null values\n",
        "N             431  non-null values\n",
        "RAJ2000       431  non-null values\n",
        "S             431  non-null values\n",
        "UCAC4         431  non-null values\n",
        "Vmag          431  non-null values\n",
        "Z             431  non-null values\n",
        "_DEJ2000      431  non-null values\n",
        "_RAJ2000      431  non-null values\n",
        "_r            431  non-null values\n",
        "b             431  non-null values\n",
        "db            431  non-null values\n",
        "ePos          431  non-null values\n",
        "f.mag         431  non-null values\n",
        "h             431  non-null values\n",
        "imag          398  non-null values\n",
        "of            431  non-null values\n",
        "pmDE          431  non-null values\n",
        "pmRA          431  non-null values\n",
        "rmag          409  non-null values\n",
        "delta_pmRA    431  non-null values\n",
        "delta_pmDE    431  non-null values\n",
        "pm_tot        431  non-null values\n",
        "ID            431  non-null values\n",
        "d             431  non-null values\n",
        "target        431  non-null values\n",
        "mag           431  non-null values\n",
        "BVmag         431  non-null values\n",
        "RA_h          431  non-null values\n",
        "RA_min        431  non-null values\n",
        "RA_sec        431  non-null values\n",
        "Dec_deg       431  non-null values\n",
        "Dec_min       431  non-null values\n",
        "Dec_sec       431  non-null values\n",
        "P             431  non-null values\n",
        "dtypes: float64(38), int64(2), object(2)"
       ]
      }
     ],
     "prompt_number": 134
    },
    {
     "cell_type": "code",
     "collapsed": false,
     "input": [],
     "language": "python",
     "metadata": {},
     "outputs": []
    }
   ],
   "metadata": {}
  }
 ]
}