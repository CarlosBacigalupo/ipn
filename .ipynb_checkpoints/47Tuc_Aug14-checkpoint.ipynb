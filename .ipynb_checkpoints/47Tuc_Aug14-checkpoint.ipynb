{
 "metadata": {
  "name": ""
 },
 "nbformat": 3,
 "nbformat_minor": 0,
 "worksheets": [
  {
   "cells": [
    {
     "cell_type": "code",
     "collapsed": false,
     "input": [
      "import numpy as np\n",
      "import pyfits as pf\n",
      "import glob\n",
      "import os\n",
      "import pylab as plt\n",
      "import toolbox"
     ],
     "language": "python",
     "metadata": {},
     "outputs": [],
     "prompt_number": 1
    },
    {
     "cell_type": "code",
     "collapsed": false,
     "input": [
      "os.chdir('/Users/Carlos/Documents/HERMES/data')"
     ],
     "language": "python",
     "metadata": {},
     "outputs": [],
     "prompt_number": 2
    },
    {
     "cell_type": "code",
     "collapsed": false,
     "input": [
      "dirs = os.listdir('.')"
     ],
     "language": "python",
     "metadata": {},
     "outputs": [],
     "prompt_number": 43
    },
    {
     "cell_type": "code",
     "collapsed": false,
     "input": [
      "# 233 files containing 47tuc observations"
     ],
     "language": "python",
     "metadata": {},
     "outputs": [],
     "prompt_number": 56
    },
    {
     "cell_type": "code",
     "collapsed": false,
     "input": [
      "a = pf.open('131220/data/ccd_1/20dec10003.fits')\n"
     ],
     "language": "python",
     "metadata": {},
     "outputs": [],
     "prompt_number": 76
    },
    {
     "cell_type": "code",
     "collapsed": false,
     "input": [
      "a[0].header.items()"
     ],
     "language": "python",
     "metadata": {},
     "outputs": [
      {
       "metadata": {},
       "output_type": "pyout",
       "prompt_number": 83,
       "text": [
        "[('SIMPLE', True),\n",
        " ('BITPIX', -32),\n",
        " ('NAXIS', 2),\n",
        " ('NAXIS1', 4146),\n",
        " ('NAXIS2', 4112),\n",
        " ('EXTEND', True),\n",
        " ('COMMENT',\n",
        "  \"  FITS (Flexible Image Transport System) format is defined in 'Astronomy\"),\n",
        " ('COMMENT',\n",
        "  \"  FITS (Flexible Image Transport System) format is defined in 'Astronomy\"),\n",
        " ('LONGSTRN', 'OGIP 1.0'),\n",
        " ('COMMENT',\n",
        "  \"  FITS (Flexible Image Transport System) format is defined in 'Astronomy\"),\n",
        " ('COMMENT',\n",
        "  \"  FITS (Flexible Image Transport System) format is defined in 'Astronomy\"),\n",
        " ('COMMENT',\n",
        "  \"  FITS (Flexible Image Transport System) format is defined in 'Astronomy\"),\n",
        " ('COMMENT',\n",
        "  \"  FITS (Flexible Image Transport System) format is defined in 'Astronomy\"),\n",
        " ('DCT_DATE', 'Oct  9 2013'),\n",
        " ('DCT_VER', 'r3_138'),\n",
        " ('DETECXE', 4096),\n",
        " ('DETECXS', 1),\n",
        " ('DETECYE', 4112),\n",
        " ('DETECYS', 1),\n",
        " ('FIRMVSYS', 'System: AAO2 CCD Controller System Controller V1.28 130312'),\n",
        " ('FIRMVSEQ', 'Sequencer: AAO2 CCD Controller Sequencer V1.3 110321'),\n",
        " ('DETECTOR', 'E2V5-B'),\n",
        " ('XPIXSIZE', 15.0),\n",
        " ('YPIXSIZE', 15.0),\n",
        " ('CONFIGID', 13),\n",
        " ('DETECTID', 13),\n",
        " ('ABCKPLID', 6),\n",
        " ('VIDPBID', 7),\n",
        " ('CLKPBID', 21),\n",
        " ('BRDID_1', 65537),\n",
        " ('BRDSN_1', 18),\n",
        " ('BRDID_2', 327681),\n",
        " ('BRDSN_2', 19),\n",
        " ('BRDID_3', 131074),\n",
        " ('BRDSN_3', 89),\n",
        " ('BRDID_4', 131074),\n",
        " ('BRDSN_4', 119),\n",
        " ('BRDID_5', 131074),\n",
        " ('BRDSN_5', 109),\n",
        " ('BRDID_6', 131074),\n",
        " ('BRDSN_6', 110),\n",
        " ('BRDID_7', 196610),\n",
        " ('BRDSN_7', 98),\n",
        " ('BRDID_8', 262146),\n",
        " ('BRDSN_8', 78),\n",
        " ('BRDID_9', 458754),\n",
        " ('BRDSN_9', 102),\n",
        " ('BRDID_10', 393217),\n",
        " ('BRDSN_10', 129),\n",
        " ('METHOD', 'CCD Charge shuffling technique'),\n",
        " ('SPEED', 'FAST'),\n",
        " ('READAMP', 'LEFT_TWO'),\n",
        " ('EXPOSED', 0.002),\n",
        " ('ELAPSED', 0.7),\n",
        " ('TOTALEXP', 0.7),\n",
        " ('RO_GAIN', 2.7),\n",
        " ('RO_NOISE', 4.0),\n",
        " ('DETTEMP', 164.09),\n",
        " ('HTRVOLTS', 0.1790244),\n",
        " ('SPECTID', 'BL'),\n",
        " ('SFILT1', ' '),\n",
        " ('SFILT2', ' '),\n",
        " ('ORIGIN', 'AAO'),\n",
        " ('TELESCOP', 'Anglo-Australian Telescope'),\n",
        " ('ALT_OBS', 1164),\n",
        " ('LAT_OBS', -31.27704),\n",
        " ('LONG_OBS', 149.0661),\n",
        " ('RCT_VER', 'r3_71HB'),\n",
        " ('RCT_DATE', '19-Oct-2013'),\n",
        " ('OBJECT', 'Bias Frame'),\n",
        " ('RUNCMD', 'BIAS'),\n",
        " ('RADECSYS', 'FK5'),\n",
        " ('EQUINOX', 2000.0),\n",
        " ('INSTRUME', 'HERMES-2dF'),\n",
        " ('TDFCTVER', 'r11_19'),\n",
        " ('TDFCTDAT', '10-Dec-2013'),\n",
        " ('AAOMOSFT', 1),\n",
        " ('NDFCLASS', 'BIAS'),\n",
        " ('CFG_FILE', '47tuc-long_p0_131220.sds'),\n",
        " ('PARKMASK', False),\n",
        " ('TDFCTEVT', '3'),\n",
        " ('DUMMY', 0),\n",
        " ('HARTMANA', 'Open'),\n",
        " ('HARTMANB', 'Open'),\n",
        " ('DCHROIC1', 'GA Blue'),\n",
        " ('DCHROIC2', 'GA Green'),\n",
        " ('DCHROIC3', 'GA Red'),\n",
        " ('ELECTEMP', 25.5),\n",
        " ('SPEC1TMP', 18.7),\n",
        " ('SPEC2TMP', 18.7),\n",
        " ('FRM1TEMP', 17.4),\n",
        " ('FRM2TEMP', 17.9),\n",
        " ('SLITTEMP', 18.5),\n",
        " ('SLITMASK', 'OUT'),\n",
        " ('HPOSCONF', 'YES'),\n",
        " ('SLITDITH', 'OFF'),\n",
        " ('SOURCE', 'Plate 0'),\n",
        " ('FLAPS', 'OPEN'),\n",
        " ('RUN', 3),\n",
        " ('OBSNUM', 3),\n",
        " ('GRPNUM', 3),\n",
        " ('GRPMEM', 1),\n",
        " ('GRPMAX', 0),\n",
        " ('OBSTYPE', 'BIAS'),\n",
        " ('UTDATE', '2013:12:20'),\n",
        " ('EPOCH', 2013.96801561452),\n",
        " ('UTSTART', '07:37:30'),\n",
        " ('UTEND', '07:38:43'),\n",
        " ('STSTART', '23:29:59'),\n",
        " ('STEND', '23:31:12'),\n",
        " ('UTMJD', 56646.3177032021),\n",
        " ('TOPEND', '2DF'),\n",
        " ('AXIS', 'A'),\n",
        " ('AXIS_X', -2.6082976043693e-05),\n",
        " ('AXIS_Y', -0.00010064732019834),\n",
        " ('TRACKING', 'AT ZENITH'),\n",
        " ('TELFOC', 37.1760360365585),\n",
        " ('MEANRA', 352.309008890911),\n",
        " ('MEANDEC', -31.3512251969199),\n",
        " ('TEL_PA', 90.0014331814464),\n",
        " ('HASTART', 0.000567597984363256),\n",
        " ('ZDSTART', 0.00143331863819019),\n",
        " ('APPRA', 6.1521938868379),\n",
        " ('APPDEC', -0.545863788516154),\n",
        " ('WINDOW', 'HERMES_2ROs_LR'),\n",
        " ('PISTON', 3150.97619047619),\n",
        " ('TILTSPEC', 6764.78812960729),\n",
        " ('TILTSPAT', 0),\n",
        " ('GRATID', '0'),\n",
        " ('GRATTILT', 0),\n",
        " ('GRATLPMM', 3827.0),\n",
        " ('ORDER', 1),\n",
        " ('DISPENC', 0),\n",
        " ('CAMENC', 0),\n",
        " ('GRATANGL', 0),\n",
        " ('GRATANGR', 0),\n",
        " ('CAMANGL', 0),\n",
        " ('CAMANGR', 0),\n",
        " ('LAMBDAC', 4833.0),\n",
        " ('LAMBDAB', 4833.0),\n",
        " ('LAMBDCR', 4833.0),\n",
        " ('LAMBDBR', 4833.0),\n",
        " ('DISPERS', 0.045),\n",
        " ('SPLYTEMP', 16.4),\n",
        " ('RTRNTEMP', 0.1),\n",
        " ('CAMRTEMP', 19.8),\n",
        " ('HAEND', 0.000574743214307517),\n",
        " ('ZDEND', 0.0014367175551638),\n",
        " ('WINDOXS1', 1),\n",
        " ('WINDOXE1', 4096),\n",
        " ('WINDOYS1', 1),\n",
        " ('WINDOYE1', 2056),\n",
        " ('WINDOXS2', 4100),\n",
        " ('WINDOXE2', 4149),\n",
        " ('WINDOYS2', 1),\n",
        " ('WINDOYE2', 2056),\n",
        " ('XEFFSIZE', 15.0),\n",
        " ('YEFFSIZE', 15.0),\n",
        " ('RO_GAIN1', 2.6),\n",
        " ('RO_NOIS1', 4.1),\n",
        " ('FILEORIG', '/data/aatobs/OptDet_data/131220/ccd_1/20dec10003.fits')]"
       ]
      }
     ],
     "prompt_number": 83
    },
    {
     "cell_type": "code",
     "collapsed": false,
     "input": [
      "numFiles = 0\n",
      "cfg_files = []\n",
      "for i in dirs:\n",
      "    if i[0]=='1':\n",
      "        pattern = i+'/data/ccd_1/*.fits'\n",
      "        files = glob.glob(pattern)\n",
      "        for j in files:\n",
      "            a = pf.open(j)\n",
      "            try:\n",
      "                ha = a[0].header['CFG_FILE']\n",
      "                if ha.find('47tuc')>-1:\n",
      "                    print j, ha\n",
      "                    cfg_files.append(ha)\n",
      "                    numFiles +=1\n",
      "            except:\n",
      "                pass\n",
      "            a.close\n",
      "print numFiles"
     ],
     "language": "python",
     "metadata": {},
     "outputs": [
      {
       "output_type": "stream",
       "stream": "stdout",
       "text": [
        "131019/data/ccd_1/19oct10052.fits 47tuc_hermes1.sds\n",
        "131019/data/ccd_1/19oct10053.fits 47tuc_hermes1.sds\n",
        "131019/data/ccd_1/19oct10054.fits 47tuc_hermes1.sds\n",
        "131019/data/ccd_1/19oct10055.fits 47tuc_hermes1.sds\n",
        "131019/data/ccd_1/19oct10056.fits 47tuc_hermes1.sds\n",
        "131019/data/ccd_1/19oct10057.fits 47tuc_hermes1.sds\n",
        "131019/data/ccd_1/19oct10058.fits 47tuc_hermes1.sds\n",
        "131019/data/ccd_1/19oct10059.fits 47tuc_hermes1.sds\n",
        "131019/data/ccd_1/19oct10060.fits 47tuc_hermes1.sds\n",
        "131019/data/ccd_1/19oct10061.fits"
       ]
      },
      {
       "output_type": "stream",
       "stream": "stdout",
       "text": [
        " 47tuc_hermes1.sds\n",
        "131020/data/ccd_1/20oct10046.fits"
       ]
      },
      {
       "output_type": "stream",
       "stream": "stdout",
       "text": [
        " 47tuc_hermes1b.sds\n",
        "131020/data/ccd_1/20oct10047.fits 47tuc_hermes1b.sds\n",
        "131020/data/ccd_1/20oct10048.fits 47tuc_hermes1b.sds\n",
        "131020/data/ccd_1/20oct10049.fits 47tuc_hermes1b.sds\n",
        "131020/data/ccd_1/20oct10050.fits 47tuc_hermes1b.sds\n",
        "131020/data/ccd_1/20oct10051.fits 47tuc_hermes1b.sds\n",
        "131020/data/ccd_1/20oct10052.fits 47tuc_hermes1b.sds\n",
        "131020/data/ccd_1/20oct10053.fits 47tuc_hermes1b.sds\n",
        "131020/data/ccd_1/20oct10054.fits"
       ]
      },
      {
       "output_type": "stream",
       "stream": "stdout",
       "text": [
        " 47tuc_hermes1b.sds\n",
        "131020/data/ccd_1/20oct10055.fits 47tuc_hermes1b.sds\n",
        "131020/data/ccd_1/20oct10056.fits 47tuc_hermes1b.sds\n",
        "131020/data/ccd_1/20oct10057.fits 47tuc_hermes1b.sds\n",
        "131020/data/ccd_1/20oct10058.fits 47tuc_hermes1b.sds\n",
        "131020/data/ccd_1/20oct10059.fits 47tuc_hermes1b.sds\n",
        "131020/data/ccd_1/20oct10060.fits 47tuc_hermes1b.sds\n",
        "131020/data/ccd_1/20oct10061.fits 47tuc_hermes1b.sds\n",
        "131020/data/ccd_1/20oct10062.fits"
       ]
      },
      {
       "output_type": "stream",
       "stream": "stdout",
       "text": [
        " 47tuc_hermes1b.sds\n",
        "131020/data/ccd_1/20oct10063.fits 47tuc_hermes1b.sds\n",
        "131020/data/ccd_1/20oct10064.fits 47tuc_hermes1b.sds\n",
        "131020/data/ccd_1/20oct10065.fits 47tuc_hermes1b.sds\n",
        "131020/data/ccd_1/20oct10066.fits 47tuc_hermes1b.sds\n",
        "131020/data/ccd_1/20oct10067.fits 47tuc_hermes1b.sds\n",
        "131020/data/ccd_1/20oct10068.fits 47tuc_hermes1b.sds\n",
        "131020/data/ccd_1/20oct10069.fits 47tuc_hermes1b.sds\n",
        "131020/data/ccd_1/20oct10070.fits"
       ]
      },
      {
       "output_type": "stream",
       "stream": "stdout",
       "text": [
        " 47tuc_hermes1b.sds\n",
        "131020/data/ccd_1/20oct10071.fits 47tuc_hermes1b.sds\n",
        "131020/data/ccd_1/20oct10072.fits 47tuc_hermes1b.sds\n",
        "131020/data/ccd_1/20oct10073.fits 47tuc_hermes1b.sds\n",
        "131020/data/ccd_1/20oct10074.fits 47tuc_hermes1b.sds\n",
        "131020/data/ccd_1/20oct10075.fits 47tuc_hermes1b.sds\n",
        "131020/data/ccd_1/20oct10076.fits 47tuc_hermes1b.sds\n",
        "131020/data/ccd_1/20oct10077.fits 47tuc_hermes1b.sds\n",
        "131020/data/ccd_1/20oct10078.fits"
       ]
      },
      {
       "output_type": "stream",
       "stream": "stdout",
       "text": [
        " 47tuc_hermes1b.sds\n",
        "131020/data/ccd_1/20oct10079.fits 47tuc_hermes1b.sds\n",
        "131020/data/ccd_1/20oct10080.fits 47tuc_hermes1b.sds\n",
        "131020/data/ccd_1/20oct10081.fits 47tuc_hermes1b.sds\n",
        "131020/data/ccd_1/20oct10082.fits 47tuc_hermes1b.sds\n",
        "131020/data/ccd_1/20oct10083.fits 47tuc_hermes1b.sds\n",
        "131020/data/ccd_1/20oct10084.fits 47tuc_hermes1b.sds\n",
        "131020/data/ccd_1/20oct10085.fits 47tuc_hermes1b.sds\n",
        "131021/data/ccd_1/21oct10002.fits"
       ]
      },
      {
       "output_type": "stream",
       "stream": "stdout",
       "text": [
        " 47tuc_hermes1b.sds\n",
        "131021/data/ccd_1/21oct10003.fits 47tuc_hermes1b.sds\n",
        "131021/data/ccd_1/21oct10004.fits 47tuc_hermes1b.sds\n",
        "131021/data/ccd_1/21oct10005.fits 47tuc_hermes1b.sds\n",
        "131021/data/ccd_1/21oct10006.fits 47tuc_hermes1b.sds\n",
        "131021/data/ccd_1/21oct10007.fits 47tuc_hermes1b.sds\n",
        "131021/data/ccd_1/21oct10008.fits 47tuc_hermes1b.sds\n",
        "131021/data/ccd_1/21oct10009.fits"
       ]
      },
      {
       "output_type": "stream",
       "stream": "stdout",
       "text": [
        " 47tuc_hermes1b.sds\n",
        "131021/data/ccd_1/21oct10010.fits 47tuc_hermes1b.sds\n",
        "131021/data/ccd_1/21oct10011.fits 47tuc_hermes1b.sds\n",
        "131021/data/ccd_1/21oct10012.fits 47tuc_hermes1b.sds\n",
        "131021/data/ccd_1/21oct10013.fits 47tuc_hermes1b.sds\n",
        "131021/data/ccd_1/21oct10014.fits 47tuc_hermes1b.sds\n",
        "131021/data/ccd_1/21oct10015.fits 47tuc_hermes1b.sds\n",
        "131021/data/ccd_1/21oct10016.fits"
       ]
      },
      {
       "output_type": "stream",
       "stream": "stdout",
       "text": [
        " 47tuc_hermes1b.sds\n",
        "131021/data/ccd_1/21oct10017.fits 47tuc_hermes1b.sds\n",
        "131021/data/ccd_1/21oct10018.fits 47tuc_hermes1b.sds\n",
        "131022/data/ccd_1/22oct10021.fits"
       ]
      },
      {
       "output_type": "stream",
       "stream": "stdout",
       "text": [
        " 47tuc_hermes1_p1.sds\n",
        "131022/data/ccd_1/22oct10022.fits 47tuc_hermes1_p1.sds\n",
        "131022/data/ccd_1/22oct10023.fits 47tuc_hermes1_p1.sds\n",
        "131022/data/ccd_1/22oct10024.fits 47tuc_hermes1_p1.sds\n",
        "131022/data/ccd_1/22oct10025.fits 47tuc_hermes1_p1.sds\n",
        "131022/data/ccd_1/22oct10026.fits 47tuc_hermes1_p1.sds\n",
        "131022/data/ccd_1/22oct10027.fits 47tuc_hermes1_p1.sds\n",
        "131022/data/ccd_1/22oct10028.fits 47tuc_hermes1_p1.sds\n",
        "131022/data/ccd_1/22oct10029.fits"
       ]
      },
      {
       "output_type": "stream",
       "stream": "stdout",
       "text": [
        " 47tuc_hermes1_p1.sds\n",
        "131022/data/ccd_1/22oct10030.fits 47tuc_hermes1_p1.sds\n",
        "131023/data/ccd_1/23oct10002.fits 47tuc_hermes1_p1.sds\n",
        "131023/data/ccd_1/23oct10016.fits"
       ]
      },
      {
       "output_type": "stream",
       "stream": "stdout",
       "text": [
        " 47tuc_hermes1_p1.sds\n",
        "131023/data/ccd_1/23oct10017.fits 47tuc_hermes1_p1.sds\n",
        "File may have been truncated: actual file length (34225920) is smaller than the expected size (68221440)\n"
       ]
      },
      {
       "output_type": "stream",
       "stream": "stdout",
       "text": [
        "131024/data/ccd_1/24oct10004.fits 47tuc_hermes1_p1.sds\n",
        "131024/data/ccd_1/24oct10005.fits 47tuc_hermes1_p1.sds\n",
        "131024/data/ccd_1/24oct10006.fits 47tuc_hermes1_p1.sds\n",
        "131024/data/ccd_1/24oct10007.fits 47tuc_hermes1_p1.sds\n",
        "131024/data/ccd_1/24oct10020.fits"
       ]
      },
      {
       "output_type": "stream",
       "stream": "stdout",
       "text": [
        " 47tuc_hermes1_p1.sds\n",
        "131024/data/ccd_1/24oct10021.fits 47tuc_hermes1_p1.sds\n",
        "131024/data/ccd_1/24oct10022.fits 47tuc_hermes1_p1.sds\n",
        "131024/data/ccd_1/24oct10023.fits 47tuc_hermes1_p1.sds\n",
        "131024/data/ccd_1/24oct10024.fits 47tuc_hermes1_p1.sds\n",
        "131024/data/ccd_1/24oct10025.fits 47tuc_hermes1_p1.sds\n",
        "131024/data/ccd_1/24oct10026.fits 47tuc_hermes1_p1.sds\n",
        "131024/data/ccd_1/24oct10027.fits 47tuc_hermes1_p1.sds\n",
        "131024/data/ccd_1/24oct10028.fits"
       ]
      },
      {
       "output_type": "stream",
       "stream": "stdout",
       "text": [
        " 47tuc_hermes1_p1.sds\n",
        "131024/data/ccd_1/24oct10029.fits 47tuc_hermes1_p1.sds\n",
        "131024/data/ccd_1/24oct10030.fits 47tuc_hermes1_p1.sds\n",
        "131024/data/ccd_1/24oct10031.fits 47tuc_hermes1_p1.sds\n",
        "131024/data/ccd_1/24oct10032.fits 47tuc_hermes1_p1.sds\n",
        "131110/data/ccd_1/10nov10061.fits"
       ]
      },
      {
       "output_type": "stream",
       "stream": "stdout",
       "text": [
        " 47tuc_com2_p1.sds\n",
        "131110/data/ccd_1/10nov10062.fits 47tuc_com2_p1.sds\n",
        "131110/data/ccd_1/10nov10063.fits 47tuc_com2_p1.sds\n",
        "131110/data/ccd_1/10nov10064.fits 47tuc_com2_p1.sds\n",
        "131110/data/ccd_1/10nov10065.fits 47tuc_com2_p1.sds\n",
        "131110/data/ccd_1/10nov10066.fits 47tuc_com2_p1.sds\n",
        "131110/data/ccd_1/10nov10067.fits 47tuc_com2_p1.sds\n",
        "131110/data/ccd_1/10nov10068.fits 47tuc_com2_p1.sds\n",
        "131110/data/ccd_1/10nov10069.fits"
       ]
      },
      {
       "output_type": "stream",
       "stream": "stdout",
       "text": [
        " 47tuc_com2_p1.sds\n",
        "131111/data/ccd_1/11nov10045.fits"
       ]
      },
      {
       "output_type": "stream",
       "stream": "stdout",
       "text": [
        " 47tuc_com2_p1.sds\n",
        "131111/data/ccd_1/11nov10046.fits 47tuc_com2_p1.sds\n",
        "131111/data/ccd_1/11nov10047.fits 47tuc_com2_p1.sds\n",
        "131111/data/ccd_1/11nov10048.fits 47tuc_com2_p1.sds\n",
        "131111/data/ccd_1/11nov10049.fits 47tuc_com2_p1.sds\n",
        "131111/data/ccd_1/11nov10050.fits 47tuc_com2_p1.sds\n",
        "131111/data/ccd_1/11nov10051.fits 47tuc_com2_p1.sds\n",
        "131111/data/ccd_1/11nov10052.fits 47tuc_com2_p1.sds\n",
        "131111/data/ccd_1/11nov10053.fits"
       ]
      },
      {
       "output_type": "stream",
       "stream": "stdout",
       "text": [
        " 47tuc_com2_p1.sds\n",
        "131111/data/ccd_1/11nov10054.fits 47tuc_com2_p1.sds\n",
        "131111/data/ccd_1/11nov10055.fits 47tuc_com2_p1.sds\n",
        "131111/data/ccd_1/11nov10056.fits 47tuc_com2_p1.sds\n",
        "131111/data/ccd_1/11nov10057.fits 47tuc_com2_p1.sds\n",
        "131111/data/ccd_1/11nov10058.fits 47tuc_com2_p1.sds\n",
        "131111/data/ccd_1/11nov10059.fits 47tuc_com2_p1.sds\n",
        "131111/data/ccd_1/11nov10060.fits 47tuc_com2_p1.sds\n",
        "131111/data/ccd_1/11nov10061.fits"
       ]
      },
      {
       "output_type": "stream",
       "stream": "stdout",
       "text": [
        " 47tuc_com2_p1.sds\n",
        "131111/data/ccd_1/11nov10062.fits 47tuc_com2_p1.sds\n",
        "131111/data/ccd_1/11nov10063.fits 47tuc_com2_p1.sds\n",
        "131111/data/ccd_1/11nov10064.fits 47tuc_com2_p1.sds\n",
        "131111/data/ccd_1/11nov10069.fits"
       ]
      },
      {
       "output_type": "stream",
       "stream": "stdout",
       "text": [
        " 47tuc_com2_p1.sds\n",
        "131111/data/ccd_1/11nov10070.fits 47tuc_com2_p1.sds\n",
        "131111/data/ccd_1/11nov10071.fits 47tuc_com2_p1.sds\n",
        "131111/data/ccd_1/11nov10072.fits 47tuc_com2_p1.sds\n",
        "131111/data/ccd_1/11nov10073.fits 47tuc_com2_p1.sds\n",
        "131111/data/ccd_1/11nov10074.fits 47tuc_com2_p1.sds\n",
        "131111/data/ccd_1/11nov10075.fits 47tuc_com2_p1.sds\n",
        "131111/data/ccd_1/11nov10076.fits"
       ]
      },
      {
       "output_type": "stream",
       "stream": "stdout",
       "text": [
        " 47tuc_com2_p1.sds\n",
        "131111/data/ccd_1/11nov10077.fits 47tuc_com2_p1.sds\n",
        "131111/data/ccd_1/11nov10078.fits 47tuc_com2_p1.sds\n",
        "131112/data/ccd_1/12nov10001.fits"
       ]
      },
      {
       "output_type": "stream",
       "stream": "stdout",
       "text": [
        " 47tuc_com2_p1.sds\n",
        "131112/data/ccd_1/12nov10002.fits 47tuc_com2_p1.sds\n",
        "131112/data/ccd_1/12nov10003.fits 47tuc_com2_p1.sds\n",
        "131112/data/ccd_1/12nov10004.fits 47tuc_com2_p1.sds\n",
        "131112/data/ccd_1/12nov10005.fits 47tuc_com2_p1.sds\n",
        "131112/data/ccd_1/12nov10006.fits 47tuc_com2_p1.sds\n",
        "131112/data/ccd_1/12nov10007.fits 47tuc_com2_p1.sds\n",
        "131112/data/ccd_1/12nov10008.fits 47tuc_com2_p1.sds\n",
        "131112/data/ccd_1/12nov10009.fits"
       ]
      },
      {
       "output_type": "stream",
       "stream": "stdout",
       "text": [
        " 47tuc_com2_p1.sds\n",
        "131112/data/ccd_1/12nov10010.fits 47tuc_com2_p1.sds\n",
        "131112/data/ccd_1/12nov10011.fits 47tuc_com2_p1.sds\n",
        "131112/data/ccd_1/12nov10012.fits 47tuc_com2_p1.sds\n",
        "131112/data/ccd_1/12nov10013.fits 47tuc_com2_p1.sds\n",
        "131112/data/ccd_1/12nov10014.fits 47tuc_com2_p1.sds\n",
        "131112/data/ccd_1/12nov10015.fits 47tuc_com2_p1.sds\n",
        "131112/data/ccd_1/12nov10016.fits 47tuc_com2_p1.sds\n",
        "131112/data/ccd_1/12nov10017.fits"
       ]
      },
      {
       "output_type": "stream",
       "stream": "stdout",
       "text": [
        " 47tuc_com2_p1.sds\n",
        "131112/data/ccd_1/12nov10018.fits 47tuc_com2_p1.sds\n",
        "131112/data/ccd_1/12nov10019.fits 47tuc_com2_p1.sds\n",
        "131112/data/ccd_1/12nov10020.fits 47tuc_com2_p1.sds\n",
        "131112/data/ccd_1/12nov10021.fits 47tuc_com2_p1.sds\n",
        "131112/data/ccd_1/12nov10022.fits 47tuc_com2_p1.sds\n",
        "131112/data/ccd_1/12nov10023.fits 47tuc_com2_p1.sds\n",
        "131112/data/ccd_1/12nov10024.fits"
       ]
      },
      {
       "output_type": "stream",
       "stream": "stdout",
       "text": [
        " 47tuc_com2_p1.sds\n",
        "131112/data/ccd_1/12nov10025.fits 47tuc_com2_p1.sds\n",
        "131112/data/ccd_1/12nov10026.fits 47tuc_com2_p1.sds\n",
        "131112/data/ccd_1/12nov10027.fits 47tuc_com2_p1.sds\n",
        "131112/data/ccd_1/12nov10028.fits 47tuc_com2_p1.sds\n",
        "File may have been truncated: actual file length (34217280) is smaller than the expected size (68218560)\n"
       ]
      },
      {
       "output_type": "stream",
       "stream": "stdout",
       "text": [
        "131114/data/ccd_1/14nov10037.fits 47tuc_4800_p0.sds\n",
        "131114/data/ccd_1/14nov10038.fits 47tuc_4800_p0.sds\n",
        "131114/data/ccd_1/14nov10039.fits 47tuc_4800_p0.sds\n",
        "131114/data/ccd_1/14nov10040.fits 47tuc_4800_p0.sds\n",
        "131114/data/ccd_1/14nov10041.fits 47tuc_4800_p0.sds\n",
        "131114/data/ccd_1/14nov10042.fits 47tuc_4800_p0.sds\n",
        "131114/data/ccd_1/14nov10051.fits"
       ]
      },
      {
       "output_type": "stream",
       "stream": "stdout",
       "text": [
        " 47tuc_7700_p0.sds\n",
        "131114/data/ccd_1/14nov10052.fits 47tuc_7700_p0.sds\n",
        "131114/data/ccd_1/14nov10053.fits 47tuc_7700_p0.sds\n",
        "131114/data/ccd_1/14nov10054.fits 47tuc_7700_p0.sds\n",
        "131114/data/ccd_1/14nov10055.fits 47tuc_7700_p0.sds\n",
        "131116/data/ccd_1/16nov10001.fits"
       ]
      },
      {
       "output_type": "stream",
       "stream": "stdout",
       "text": [
        " 47tuc-short_p0.sds\n",
        "131116/data/ccd_1/16nov10002.fits 47tuc-short_p0.sds\n",
        "131117/data/ccd_1/17nov10001.fits"
       ]
      },
      {
       "output_type": "stream",
       "stream": "stdout",
       "text": [
        " 47tuc-short_p0.sds\n",
        "131117/data/ccd_1/17nov10002.fits 47tuc-short_p0.sds\n",
        "131117/data/ccd_1/17nov10003.fits 47tuc-short_p0.sds\n",
        "131117/data/ccd_1/17nov10004.fits 47tuc-short_p0.sds\n",
        "131117/data/ccd_1/17nov10005.fits 47tuc-short_p0.sds\n",
        "131117/data/ccd_1/17nov10006.fits 47tuc-short_p0.sds\n",
        "131117/data/ccd_1/17nov10007.fits 47tuc-short_p0.sds\n",
        "131117/data/ccd_1/17nov10008.fits 47tuc-short_p0.sds\n",
        "131117/data/ccd_1/17nov10009.fits"
       ]
      },
      {
       "output_type": "stream",
       "stream": "stdout",
       "text": [
        " 47tuc-short_p0.sds\n",
        "131117/data/ccd_1/17nov10010.fits 47tuc-short_p0.sds\n",
        "File may have been truncated: actual file length (34217280) is smaller than the expected size (68218560)\n"
       ]
      },
      {
       "output_type": "stream",
       "stream": "stdout",
       "text": [
        "131123/data/ccd_1/23nov10015.fits 47tuc-long_p0.sds\n",
        "131123/data/ccd_1/23nov10016.fits 47tuc-long_p0.sds\n",
        "131123/data/ccd_1/23nov10017.fits 47tuc-long_p0.sds\n",
        "131123/data/ccd_1/23nov10018.fits 47tuc-long_p0.sds\n",
        "131123/data/ccd_1/23nov10019.fits 47tuc-long_p0.sds\n",
        "File may have been truncated: actual file length (34217280) is smaller than the expected size (68218560)\n"
       ]
      },
      {
       "output_type": "stream",
       "stream": "stdout",
       "text": [
        "File may have been truncated: actual file length (34217280) is smaller than the expected size (68218560)\n",
        "131210/data/ccd_1/10dec10065.fits"
       ]
      },
      {
       "output_type": "stream",
       "stream": "stdout",
       "text": [
        " 47tuc_com3_p0.sds\n",
        "131210/data/ccd_1/10dec10066.fits 47tuc_com3_p0.sds\n",
        "131210/data/ccd_1/10dec10067.fits 47tuc_com3_p0.sds\n",
        "131210/data/ccd_1/10dec10068.fits 47tuc_com3_p0.sds\n",
        "131212/data/ccd_1/12dec10051.fits"
       ]
      },
      {
       "output_type": "stream",
       "stream": "stdout",
       "text": [
        " 47tuc_com3_p0.sds\n",
        "131212/data/ccd_1/12dec10052.fits 47tuc_com3_p0.sds\n",
        "131212/data/ccd_1/12dec10053.fits 47tuc_com3_p0.sds\n",
        "131212/data/ccd_1/12dec10054.fits 47tuc_com3_p0.sds\n",
        "131212/data/ccd_1/12dec10055.fits 47tuc_com3_p0.sds\n",
        "131212/data/ccd_1/12dec10056.fits 47tuc_com3_p0.sds\n",
        "131212/data/ccd_1/12dec10057.fits 47tuc_com3_p0.sds\n",
        "131212/data/ccd_1/12dec10058.fits 47tuc_com3_p0.sds\n",
        "File may have been truncated: actual file length (34225920) is smaller than the expected size (68221440)\n"
       ]
      },
      {
       "output_type": "stream",
       "stream": "stdout",
       "text": [
        "131220/data/ccd_1/20dec10003.fits 47tuc-long_p0_131220.sds\n",
        "131220/data/ccd_1/20dec10004.fits 47tuc-long_p0_131220.sds\n",
        "131220/data/ccd_1/20dec10005.fits 47tuc-long_p0_131220.sds\n",
        "131220/data/ccd_1/20dec10006.fits 47tuc-long_p0_131220.sds\n",
        "131220/data/ccd_1/20dec10007.fits 47tuc-long_p0_131220.sds\n",
        "131220/data/ccd_1/20dec10008.fits 47tuc-long_p0_131220.sds\n",
        "131220/data/ccd_1/20dec10009.fits 47tuc-long_p0_131220.sds\n",
        "131220/data/ccd_1/20dec10010.fits 47tuc-long_p0_131220.sds\n",
        "131220/data/ccd_1/20dec10011.fits 47tuc-long_p0_131220.sds\n",
        "131220/data/ccd_1/20dec10012.fits"
       ]
      },
      {
       "output_type": "stream",
       "stream": "stdout",
       "text": [
        " 47tuc-long_p0_131220.sds\n",
        "131220/data/ccd_1/20dec10018.fits 47tuc-long_p0_131220.sds\n",
        "131220/data/ccd_1/20dec10019.fits 47tuc-long_p0_131220.sds\n",
        "131220/data/ccd_1/20dec10020.fits"
       ]
      },
      {
       "output_type": "stream",
       "stream": "stdout",
       "text": [
        " 47tuc-long_p0_131220.sds\n",
        "131220/data/ccd_1/20dec10021.fits 47tuc-long_p0_131220.sds\n",
        "131220/data/ccd_1/20dec10022.fits 47tuc-long_p0_131220.sds\n",
        "131220/data/ccd_1/20dec10023.fits 47tuc-long_p0_131220.sds\n",
        "131220/data/ccd_1/20dec10024.fits 47tuc-long_p0_131220.sds\n",
        "131220/data/ccd_1/20dec10025.fits 47tuc-long_p0_131220.sds\n",
        "131220/data/ccd_1/20dec10026.fits 47tuc-long_p0_131220.sds\n",
        "131220/data/ccd_1/20dec10027.fits 47tuc-long_p0_131220.sds\n",
        "File may have been truncated: actual file length (34223040) is smaller than the expected size (68212800)\n"
       ]
      },
      {
       "output_type": "stream",
       "stream": "stdout",
       "text": [
        "131223/data/ccd_1/23dec10001.fits 47tuc-long_p0_131223.sds\n",
        "131223/data/ccd_1/23dec10002.fits 47tuc-long_p0_131223.sds\n",
        "131223/data/ccd_1/23dec10003.fits 47tuc-long_p0_131223.sds\n",
        "131223/data/ccd_1/23dec10004.fits 47tuc-long_p0_131223.sds\n",
        "131223/data/ccd_1/23dec10005.fits 47tuc-long_p0_131223.sds\n",
        "131223/data/ccd_1/23dec10006.fits 47tuc-long_p0_131223.sds\n",
        "131223/data/ccd_1/23dec10008.fits 47tuc-long_p0_131223.sds\n",
        "131223/data/ccd_1/23dec10009.fits"
       ]
      },
      {
       "output_type": "stream",
       "stream": "stdout",
       "text": [
        " 47tuc-long_p0_131223.sds\n",
        "131223/data/ccd_1/23dec10011.fits 47tuc-long_p0_131223.sds\n",
        "233"
       ]
      },
      {
       "output_type": "stream",
       "stream": "stdout",
       "text": [
        "\n"
       ]
      }
     ],
     "prompt_number": 86
    },
    {
     "cell_type": "code",
     "collapsed": false,
     "input": [
      "cfg_files = np.array(cfg_files)\n",
      "np.unique(cfg_files)"
     ],
     "language": "python",
     "metadata": {},
     "outputs": [
      {
       "metadata": {},
       "output_type": "pyout",
       "prompt_number": 88,
       "text": [
        "array(['47tuc-long_p0.sds', '47tuc-long_p0_131220.sds',\n",
        "       '47tuc-long_p0_131223.sds', '47tuc-short_p0.sds',\n",
        "       '47tuc_4800_p0.sds', '47tuc_7700_p0.sds', '47tuc_com2_p1.sds',\n",
        "       '47tuc_com3_p0.sds', '47tuc_hermes1.sds', '47tuc_hermes1_p1.sds',\n",
        "       '47tuc_hermes1b.sds'], \n",
        "      dtype='|S24')"
       ]
      }
     ],
     "prompt_number": 88
    },
    {
     "cell_type": "code",
     "collapsed": false,
     "input": [
      "131019/data/ccd_1/19oct10052.fits "
     ],
     "language": "python",
     "metadata": {},
     "outputs": []
    },
    {
     "cell_type": "code",
     "collapsed": false,
     "input": [
      "xs.shape"
     ],
     "language": "python",
     "metadata": {},
     "outputs": [
      {
       "metadata": {},
       "output_type": "pyout",
       "prompt_number": 8,
       "text": [
        "(200,)"
       ]
      }
     ],
     "prompt_number": 8
    },
    {
     "cell_type": "code",
     "collapsed": false,
     "input": [
      "centerRA = toolbox.sex2dec(0, 24, 05.359) \n",
      "centerDec = toolbox.sex2dec(-72, 4, 53.20)\n",
      "separation = toolbox.sex2dec(0, 0, 2)\n",
      "R = toolbox.sex2dec(0, 10, 0)\n",
      "steps = 2*R/separation\n",
      "free_fibres = 200\n",
      "\n",
      "if steps>free_fibres: steps=free_fibres\n",
      "\n",
      "xs = np.linspace(centerRA-R, centerRA+R, steps)\n",
      "ys = np.linspace(centerDec-R, centerDec+R, steps)\n"
     ],
     "language": "python",
     "metadata": {},
     "outputs": [],
     "prompt_number": 9
    },
    {
     "cell_type": "code",
     "collapsed": false,
     "input": [
      "xy = cartesian((xs,ys))"
     ],
     "language": "python",
     "metadata": {},
     "outputs": [],
     "prompt_number": 12
    },
    {
     "cell_type": "code",
     "collapsed": false,
     "input": [
      "d_mask=(R**2>=(xy[:,0]-centerRA)**2+(xy[:,1]-centerDec)**2)"
     ],
     "language": "python",
     "metadata": {},
     "outputs": [],
     "prompt_number": 13
    },
    {
     "cell_type": "code",
     "collapsed": false,
     "input": [
      "xy_filtered = xy[d_mask]\n",
      "print xy_filtered.shape[0]/ float(xy.shape[0])"
     ],
     "language": "python",
     "metadata": {},
     "outputs": [
      {
       "output_type": "stream",
       "stream": "stdout",
       "text": [
        "0.7766\n"
       ]
      }
     ],
     "prompt_number": 24
    },
    {
     "cell_type": "code",
     "collapsed": false,
     "input": [
      "# plt.scatter(xy[:,0], xy[:,1])\n",
      "plt.scatter(xy_filtered[:,0], xy_filtered[:,1], c='r')\n",
      "plt.show()"
     ],
     "language": "python",
     "metadata": {},
     "outputs": [],
     "prompt_number": 21
    },
    {
     "cell_type": "code",
     "collapsed": false,
     "input": [
      "4/np.pi"
     ],
     "language": "python",
     "metadata": {},
     "outputs": [
      {
       "metadata": {},
       "output_type": "pyout",
       "prompt_number": 20,
       "text": [
        "1.2732395447351628"
       ]
      }
     ],
     "prompt_number": 20
    },
    {
     "cell_type": "code",
     "collapsed": false,
     "input": [
      "def cartesian(arrays, out=None):\n",
      "    \"\"\"\n",
      "    Generate a cartesian product of input arrays.\n",
      "\n",
      "    Parameters\n",
      "    ----------\n",
      "    arrays : list of array-like\n",
      "        1-D arrays to form the cartesian product of.\n",
      "    out : ndarray\n",
      "        Array to place the cartesian product in.\n",
      "\n",
      "    Returns\n",
      "    -------\n",
      "    out : ndarray\n",
      "        2-D array of shape (M, len(arrays)) containing cartesian products\n",
      "        formed of input arrays.\n",
      "\n",
      "    Examples\n",
      "    --------\n",
      "    >>> cartesian(([1, 2, 3], [4, 5], [6, 7]))\n",
      "    array([[1, 4, 6],\n",
      "           [1, 4, 7],\n",
      "           [1, 5, 6],\n",
      "           [1, 5, 7],\n",
      "           [2, 4, 6],\n",
      "           [2, 4, 7],\n",
      "           [2, 5, 6],\n",
      "           [2, 5, 7],\n",
      "           [3, 4, 6],\n",
      "           [3, 4, 7],\n",
      "           [3, 5, 6],\n",
      "           [3, 5, 7]])\n",
      "\n",
      "    \"\"\"\n",
      "\n",
      "    arrays = [np.asarray(x) for x in arrays]\n",
      "    dtype = arrays[0].dtype\n",
      "\n",
      "    n = np.prod([x.size for x in arrays])\n",
      "    if out is None:\n",
      "        out = np.zeros([n, len(arrays)], dtype=dtype)\n",
      "\n",
      "    m = n / arrays[0].size\n",
      "    out[:,0] = np.repeat(arrays[0], m)\n",
      "    if arrays[1:]:\n",
      "        cartesian(arrays[1:], out=out[0:m,1:])\n",
      "        for j in xrange(1, arrays[0].size):\n",
      "            out[j*m:(j+1)*m,1:] = out[0:m,1:]\n",
      "    return out"
     ],
     "language": "python",
     "metadata": {},
     "outputs": [],
     "prompt_number": 11
    },
    {
     "cell_type": "code",
     "collapsed": false,
     "input": [],
     "language": "python",
     "metadata": {},
     "outputs": []
    }
   ],
   "metadata": {}
  }
 ]
}