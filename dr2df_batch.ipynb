{
 "metadata": {
  "name": ""
 },
 "nbformat": 3,
 "nbformat_minor": 0,
 "worksheets": [
  {
   "cells": [
    {
     "cell_type": "code",
     "collapsed": false,
     "input": [
      "import HERMES\n",
      "import os\n",
      "import glob\n"
     ],
     "language": "python",
     "metadata": {},
     "outputs": [],
     "prompt_number": 1
    },
    {
     "cell_type": "code",
     "collapsed": false,
     "input": [
      "#instantiate and set working folders\n",
      "dr2df = HERMES.dr2df()\n",
      "\n",
      "#2dfdr program dir\n",
      "dr2df.dr_dir = '/Users/Carlos/Documents/workspace/2dfdr/5.74/src_code/2dfdr-5.74/bin/'\n",
      "os.environ['PATH'] = '/Users/Carlos/Documents/workspace/2dfdr/5.74/src_code/2dfdr-5.74/bin:' + os.environ['PATH']"
     ],
     "language": "python",
     "metadata": {},
     "outputs": [],
     "prompt_number": 2
    },
    {
     "cell_type": "code",
     "collapsed": false,
     "input": [
      "# #RV precision run BIAS\n",
      "\n",
      "# #target folder\n",
      "# # batch_dir = '/Users/Carlos/Documents/HERMES/reductions/batch_tests/'\n",
      "# batch_dir = '/Users/Carlos/Documents/HERMES/reductions/batch_reductions/RV_5.74/bias/'\n",
      "\n",
      "# #all reduced (*red.fits) files will be copied to this folder\n",
      "# dr2df.final_dir = '/Users/Carlos/Documents/HERMES/reductions/batch_reductions/RV_5.74/bias/'\n",
      "\n",
      "\n",
      "# #the following arrays have n rows corresponding to n observations (can have more than 1 science file per observation)\n",
      "# #array of folders with source files\n",
      "# source_dir_array = ['/Users/Carlos/Documents/HERMES/data/140820/data/',\n",
      "#                     '/Users/Carlos/Documents/HERMES/data/140821/data/']\n",
      "\n",
      "# #file prefixes to build file list for each observation\n",
      "# date_array = ['20aug',\n",
      "#               '21aug'] \n",
      "\n",
      "# #indices of each file set\n",
      "# ix_array = [range(54,64),\n",
      "#             range(1,11)]\n"
     ],
     "language": "python",
     "metadata": {},
     "outputs": [],
     "prompt_number": 3
    },
    {
     "cell_type": "code",
     "collapsed": false,
     "input": [
      "#RV run, HD1581 SCIENCE\n",
      "\n",
      "#target folder\n",
      "batch_dir = '/Users/Carlos/Documents/HERMES/reductions/HD1581/'\n",
      "\n",
      "#all reduced (*red.fits) files will be copied to this folder\n",
      "dr2df.final_dir = '/Users/Carlos/Documents/HERMES/reductions/HD1581/'\n",
      "\n",
      "\n",
      "#the following arrays have n rows corresponding to n observations (can have more than 1 science file per observation)\n",
      "#array of folders with source files\n",
      "source_dir_array = ['/Users/Carlos/Documents/HERMES/data/140820/data/',\n",
      "                    '/Users/Carlos/Documents/HERMES/data/140821/data/',\n",
      "                    '/Users/Carlos/Documents/HERMES/data/140822/data/']\n",
      "\n",
      "#file prefixes to build file list for each observation\n",
      "date_array = ['20aug',\n",
      "              '21aug',\n",
      "              '22aug'] \n",
      "\n",
      "#indices of each file set with original arcs\n",
      "ix_array = [[34,52,53],\n",
      "            range(41,44)+[46,47],\n",
      "            [31,32]+range(36,39)]\n",
      "\n",
      "\n",
      "#index of the arcs (within file set)\n",
      "arc_array=[1,-2,0]\n",
      " \n",
      "#index of the flats (within file set)\n",
      "flat_array=[0,-1,1]\n",
      "\n",
      "#corresponing bias (looks for BIASCombined.fits in the folders bias/<this index>_*/<camera#>/\n",
      "bias_array=[0,1,2]"
     ],
     "language": "python",
     "metadata": {},
     "outputs": [],
     "prompt_number": 5
    },
    {
     "cell_type": "code",
     "collapsed": false,
     "input": [
      "# #RV run, 47Tuc SCIENCE\n",
      "\n",
      "# #target folder\n",
      "# batch_dir = '/Users/Carlos/Documents/HERMES/reductions/47Tuc_center/'\n",
      "\n",
      "# #all reduced (*red.fits) files will be copied to this folder\n",
      "# dr2df.final_dir = '/Users/Carlos/Documents/HERMES/reductions/47Tuc_center/'\n",
      "\n",
      "\n",
      "# #the following arrays have n rows corresponding to n observations (can have more than 1 science file per observation)\n",
      "# #array of folders with source files\n",
      "# source_dir_array = ['/Users/Carlos/Documents/HERMES/data/140821/data/',\n",
      "#                     '/Users/Carlos/Documents/HERMES/data/140822/data/',\n",
      "#                     '/Users/Carlos/Documents/HERMES/data/140822/data/']\n",
      "\n",
      "# #file prefixes to build file list for each observation\n",
      "# date_array = ['21aug',\n",
      "#               '22aug',\n",
      "#               '22aug'] \n",
      "\n",
      "# #indices of each file set with original arcs\n",
      "# ix_array = [range(25,31),\n",
      "#             range(26,31),\n",
      "#             range(48,53)]\n",
      "\n",
      "\n",
      "# #index of the arcs (within file set)\n",
      "# arc_array=[1,0,-1]\n",
      " \n",
      "# #index of the flats (within file set)\n",
      "# flat_array=[0,-1,-2]\n",
      "\n",
      "# #corresponing bias (looks for BIASCombined.fits in the folders bias/<this index>_*/<camera#>/\n",
      "# bias_array=[1,2,2]"
     ],
     "language": "python",
     "metadata": {},
     "outputs": [],
     "prompt_number": 6
    },
    {
     "cell_type": "code",
     "collapsed": false,
     "input": [
      "# #RV run, HD285507 SCIENCE\n",
      "\n",
      "# #target folder\n",
      "# batch_dir = '/Users/Carlos/Documents/HERMES/reductions/HD285507/'\n",
      "\n",
      "# #all reduced (*red.fits) files will be copied to this folder\n",
      "# dr2df.final_dir = '/Users/Carlos/Documents/HERMES/reductions/HD285507/'\n",
      "\n",
      "\n",
      "# #the following arrays have n rows corresponding to n observations (can have more than 1 science file per observation)\n",
      "# #array of folders with source files\n",
      "# source_dir_array = ['/Users/Carlos/Documents/HERMES/data/140820/data/',\n",
      "#                     '/Users/Carlos/Documents/HERMES/data/140821/data/',\n",
      "#                     '/Users/Carlos/Documents/HERMES/data/140822/data/']\n",
      "\n",
      "# #file prefixes to build file list for each observation\n",
      "# date_array = ['20aug',\n",
      "#               '21aug',\n",
      "#               '22aug'] \n",
      "\n",
      "# #indices of each file set with original arcs\n",
      "# ix_array = [range(37,42),\n",
      "#             range(36,41),\n",
      "#             range(39,44)]\n",
      "\n",
      "\n",
      "# #index of the arcs (within file set)\n",
      "# arc_array=[1,1,0]\n",
      " \n",
      "# #index of the flats (within file set)\n",
      "# flat_array=[0,0,1]\n",
      "\n",
      "# #corresponing bias (looks for BIASCombined.fits in the folders bias/<this index>_*/<camera#>/\n",
      "# bias_array=[0,1,2]"
     ],
     "language": "python",
     "metadata": {},
     "outputs": [],
     "prompt_number": 7
    },
    {
     "cell_type": "code",
     "collapsed": false,
     "input": [
      "# #RV run, rhoTuc (long series) SCIENCE\n",
      "\n",
      "# #target folder\n",
      "# batch_dir = '/Users/Carlos/Documents/HERMES/reductions/rhoTuc_long/'\n",
      "\n",
      "# #all reduced (*red.fits) files will be copied to this folder\n",
      "# dr2df.final_dir = '/Users/Carlos/Documents/HERMES/reductions/rhoTuc_long/'\n",
      "\n",
      "\n",
      "# #the following arrays have n rows corresponding to n observations (can have more than 1 science file per observation)\n",
      "# #array of folders with source files\n",
      "# source_dir_array = ['/Users/Carlos/Documents/HERMES/data/140820/data/',\n",
      "#                     '/Users/Carlos/Documents/HERMES/data/140821/data/',\n",
      "#                     '/Users/Carlos/Documents/HERMES/data/140821/data/',\n",
      "#                     '/Users/Carlos/Documents/HERMES/data/140822/data/',\n",
      "#                     '/Users/Carlos/Documents/HERMES/data/140822/data/']\n",
      "\n",
      "# #file prefixes to build file list for each observation\n",
      "# date_array = ['20aug',\n",
      "#               '21aug',\n",
      "#               '21aug', \n",
      "#               '22aug',\n",
      "#               '22aug'] \n",
      "\n",
      "# #indices of each file set with original arcs\n",
      "# ix_array = [range(42,52),\n",
      "#             range(31,36),\n",
      "#             [44,46,47],\n",
      "#             range(31,36),\n",
      "#             range(44,48)]\n",
      "\n",
      "\n",
      "# #index of the arcs (within file set)\n",
      "# arc_array=[1,1,1,0,1]\n",
      " \n",
      "# #index of the flats (within file set)\n",
      "# flat_array=[0,0,2,1,0]\n",
      "\n",
      "# #corresponing bias (looks for BIASCombined.fits in the folders bias/<this index>_*/<camera#>/\n",
      "# bias_array=[0,1,1,2,2]"
     ],
     "language": "python",
     "metadata": {},
     "outputs": [],
     "prompt_number": 8
    },
    {
     "cell_type": "code",
     "collapsed": false,
     "input": [
      "# #M67,BIAS, all observations, LOCAL\n",
      "\n",
      "# #target folder\n",
      "# # batch_dir = '/Users/Carlos/Documents/HERMES/reductions/batch_tests/'\n",
      "# batch_dir = '/Users/Carlos/Documents/HERMES/reductions/batch_reductions/m67_5.70/bias/'\n",
      "\n",
      "# #all reduced (*red.fits) files will be copied to this folder\n",
      "# dr2df.final_dir = '/Users/Carlos/Documents/HERMES/reductions/batch_reductions/m67_5.70/bias/'\n",
      "\n",
      "\n",
      "# #the following arrays have n rows corresponding to n observations (can have more than 1 science file per observation)\n",
      "# #array of folders with source files\n",
      "# source_dir_array = ['/Users/Carlos/Documents/HERMES/data/131217/data/',\n",
      "#                   '/Users/Carlos/Documents/HERMES/data/140111/data/',\n",
      "#                   '/Users/Carlos/Documents/HERMES/data/140112/data/',\n",
      "#                   '/Users/Carlos/Documents/HERMES/data/140207/data/',\n",
      "#                   '/Users/Carlos/Documents/HERMES/data/140208/data/',\n",
      "#                   '/Users/Carlos/Documents/HERMES/data/140209/data/',\n",
      "#                   '/Users/Carlos/Documents/HERMES/data/140210/data/',\n",
      "#                   '/Users/Carlos/Documents/HERMES/data/140211/data/',\n",
      "#                   '/Users/Carlos/Documents/HERMES/data/140107/data/',\n",
      "#                   '/Users/Carlos/Documents/HERMES/data/140109/data/']\n",
      "\n",
      "# #file prefixes to build file list for each observation\n",
      "# date_array = ['17dec',\n",
      "#               '11jan', \n",
      "#               '12jan', \n",
      "#               '07feb', \n",
      "#               '08feb',\n",
      "#               '09feb',\n",
      "#               '10feb',\n",
      "#               '11feb',\n",
      "#               '07jan', \n",
      "#               '09jan'] \n",
      "\n",
      "# #indices of each file set\n",
      "# ix_array = [range(5,15),\n",
      "#             range(1,11),\n",
      "#             range(1,11),\n",
      "#             range(1,6),\n",
      "#             range(1,11),\n",
      "#             range(1,11),\n",
      "#             range(1,11),\n",
      "#             range(1,11),\n",
      "#             range(13,25),\n",
      "#             range(1,11)]\n"
     ],
     "language": "python",
     "metadata": {},
     "outputs": [],
     "prompt_number": 9
    },
    {
     "cell_type": "code",
     "collapsed": false,
     "input": [
      "# #M67, all observations LOCAL\n",
      "\n",
      "# #target folder\n",
      "# # batch_dir = '/Users/Carlos/Documents/HERMES/reductions/batch_tests/'\n",
      "# batch_dir = '/Users/Carlos/Documents/HERMES/reductions/batch_reductions/m67_5.70/'\n",
      "\n",
      "# #all reduced (*red.fits) files will be copied to this folder\n",
      "# dr2df.final_dir = '/Users/Carlos/Documents/HERMES/reductions/batch_reductions/m67_5.70/'\n",
      "\n",
      "\n",
      "# #the following arrays have n rows corresponding to n observations (can have more than 1 science file per observation)\n",
      "# #array of folders with source files\n",
      "# source_dir_array = ['/Users/Carlos/Documents/HERMES/data/131217/data/',\n",
      "#                   '/Users/Carlos/Documents/HERMES/data/131217/data/',\n",
      "#                   '/Users/Carlos/Documents/HERMES/data/131218/data/',\n",
      "#                   '/Users/Carlos/Documents/HERMES/data/140111/data/',\n",
      "#                   '/Users/Carlos/Documents/HERMES/data/140111/data/',\n",
      "#                   '/Users/Carlos/Documents/HERMES/data/140111/data/',\n",
      "#                   '/Users/Carlos/Documents/HERMES/data/140112/data/',\n",
      "#                   '/Users/Carlos/Documents/HERMES/data/140207/data/',\n",
      "#                   '/Users/Carlos/Documents/HERMES/data/140207/data/',\n",
      "#                   '/Users/Carlos/Documents/HERMES/data/140208/data/',\n",
      "#                   '/Users/Carlos/Documents/HERMES/data/140208/data/',\n",
      "#                   '/Users/Carlos/Documents/HERMES/data/140209/data/',\n",
      "#                   '/Users/Carlos/Documents/HERMES/data/140209/data/',\n",
      "#                   '/Users/Carlos/Documents/HERMES/data/140210/data/',\n",
      "#                   '/Users/Carlos/Documents/HERMES/data/140211/data/',\n",
      "#                   '/Users/Carlos/Documents/HERMES/data/140211/data/',\n",
      "#                   '/Users/Carlos/Documents/HERMES/data/140107/data/',\n",
      "#                   '/Users/Carlos/Documents/HERMES/data/140107/data/',\n",
      "#                   '/Users/Carlos/Documents/HERMES/data/140107/data/',\n",
      "#                   '/Users/Carlos/Documents/HERMES/data/140107/data/',\n",
      "#                   '/Users/Carlos/Documents/HERMES/data/140109/data/',\n",
      "#                   '/Users/Carlos/Documents/HERMES/data/140109/data/',\n",
      "#                   '/Users/Carlos/Documents/HERMES/data/140109/data/',\n",
      "#                   '/Users/Carlos/Documents/HERMES/data/140109/data/',\n",
      "#                   '/Users/Carlos/Documents/HERMES/data/140109/data/']\n",
      "\n",
      "# #file prefixes to build file list for each observation\n",
      "# date_array = ['17dec',\n",
      "#               '17dec',\n",
      "#               '18dec',\n",
      "#               '11jan', \n",
      "#               '11jan', \n",
      "#               '11jan', \n",
      "#               '12jan', \n",
      "#               '07feb', \n",
      "#               '07feb', \n",
      "#               '08feb',\n",
      "#               '08feb',\n",
      "#               '09feb',\n",
      "#               '09feb',\n",
      "#               '10feb',\n",
      "#               '11feb',\n",
      "#               '11feb',\n",
      "#               '07jan', \n",
      "#               '07jan', \n",
      "#               '07jan', \n",
      "#               '07jan', \n",
      "#               '09jan', \n",
      "#               '09jan', \n",
      "#               '09jan', \n",
      "#               '09jan', \n",
      "#               '09jan'] \n",
      "\n",
      "# #indices of each file set with original arcs\n",
      "# # ix_array = [range(39,44),\n",
      "# #             range(44,49),\n",
      "# #             range(30,36),\n",
      "# #             range(26,31),\n",
      "# #             range(31,36),\n",
      "# #             range(36,41),\n",
      "# #             range(28,33),\n",
      "# #             range(20,25),\n",
      "# #             range(25,33),\n",
      "# #             range(25,30),\n",
      "# #             range(30,38),\n",
      "# #             range(27,32),\n",
      "# #             range(32,37),\n",
      "# #             range(25,34),\n",
      "# #             range(11,19),\n",
      "# #             range(19,27),\n",
      "# #             range(47,52),\n",
      "# #             range(52,57),\n",
      "# #             range(57,62),\n",
      "# #             range(62,65),\n",
      "# #             range(26,30),\n",
      "# #             range(30,36),\n",
      "# #             range(36,39),\n",
      "# #             range(45,48),\n",
      "# #             range(48,53)]\n",
      "\n",
      "# #indices of each file set(one arc per night)\n",
      "# ix_array = [range(39,44),\n",
      "#             range(44,48)+[43],\n",
      "#             range(30,36),\n",
      "#             range(26,31),\n",
      "#             [26]+range(32,36),\n",
      "#             [26]+range(37,41),\n",
      "#             range(28,33),\n",
      "#             range(20,25),\n",
      "#             [25,21]+range(27,33),\n",
      "#             range(25,30),\n",
      "#             [30,26]+range(32,38),\n",
      "#             range(27,32),\n",
      "#             [32,28]+range(34,37),\n",
      "#             range(25,34),\n",
      "#             range(11,19),\n",
      "#             [19,12]+range(21,27),\n",
      "#             range(47,52),\n",
      "#             [47]+range(53,57),\n",
      "#             [47]+range(58,62),\n",
      "#             [47]+range(63,65),\n",
      "#             range(26,30),\n",
      "#             range(30,34)+[28,35],\n",
      "#             [36,28,38],\n",
      "#             [45,28,47],\n",
      "#             range(48,51)+[28,52]]\n",
      "\n",
      "# #index of the arcs (within file set)\n",
      "# arc_array=[4,4,4,0,0,0,0,1,1,1,1,1,1,1,1,1,0,0,0,0,2,4,1,1,3]\n",
      " \n",
      "# #index of the flats (within file set)\n",
      "# flat_array=[3,3,5,1,1,1,1,0,0,0,0,0,0,0,0,0,1,1,1,1,3,5,2,2,4]\n",
      "\n",
      "# #corresponing bias (looks for BIASCombined.fits in the folders bias/<this index>_*/<camera#>/\n",
      "# bias_array=[0,0,0,1,1,1,2,3,3,4,4,5,5,6,7,7,8,8,8,8,9,9,9,9,9]"
     ],
     "language": "python",
     "metadata": {},
     "outputs": [],
     "prompt_number": 10
    },
    {
     "cell_type": "code",
     "collapsed": false,
     "input": [
      "# #M67, all observations remote\n",
      "\n",
      "# #target folder\n",
      "# # batch_dir = '/Users/Carlos/Documents/HERMES/reductions/batch_tests/'\n",
      "# batch_dir = '/disks/ceres/makemake/aphot/kalumbe/reductions/m67_all/'\n",
      "\n",
      "# #all reduced (*red.fits) files will be copied to this folder\n",
      "# dr2df.final_dir = '/disks/ceres/makemake/aphot/kalumbe/reductions/m67_all/'\n",
      "\n",
      "\n",
      "# #the following arrays have n rows corresponding to n observations (can have more than 1 science file per observation)\n",
      "# #array of folders with source files\n",
      "# source_dir_array = ['/disks/ceres/makemake/aphot/kalumbe/hermes/data/131217/data/',\n",
      "#                   '/disks/ceres/makemake/aphot/kalumbe/hermes/data/131217/data/',\n",
      "#                   '/disks/ceres/makemake/aphot/kalumbe/hermes/data/131218/data/',\n",
      "#                   '/disks/ceres/makemake/aphot/kalumbe/hermes/data/140111/data/',\n",
      "#                   '/disks/ceres/makemake/aphot/kalumbe/hermes/data/140111/data/',\n",
      "#                   '/disks/ceres/makemake/aphot/kalumbe/hermes/data/140111/data/',\n",
      "#                   '/disks/ceres/makemake/aphot/kalumbe/hermes/data/140112/data/',\n",
      "#                   '/disks/ceres/makemake/aphot/kalumbe/hermes/data/140207/data/',\n",
      "#                   '/disks/ceres/makemake/aphot/kalumbe/hermes/data/140207/data/',\n",
      "#                   '/disks/ceres/makemake/aphot/kalumbe/hermes/data/140208/data/',\n",
      "#                   '/disks/ceres/makemake/aphot/kalumbe/hermes/data/140208/data/',\n",
      "#                   '/disks/ceres/makemake/aphot/kalumbe/hermes/data/140209/data/',\n",
      "#                   '/disks/ceres/makemake/aphot/kalumbe/hermes/data/140209/data/',\n",
      "#                   '/disks/ceres/makemake/aphot/kalumbe/hermes/data/140210/data/',\n",
      "#                   '/disks/ceres/makemake/aphot/kalumbe/hermes/data/140211/data/',\n",
      "#                   '/disks/ceres/makemake/aphot/kalumbe/hermes/data/140211/data/',\n",
      "#                   '/disks/ceres/makemake/aphot/kalumbe/hermes/data/140107/data/',\n",
      "#                   '/disks/ceres/makemake/aphot/kalumbe/hermes/data/140107/data/',\n",
      "#                   '/disks/ceres/makemake/aphot/kalumbe/hermes/data/140107/data/',\n",
      "#                   '/disks/ceres/makemake/aphot/kalumbe/hermes/data/140107/data/',\n",
      "#                   '/disks/ceres/makemake/aphot/kalumbe/hermes/data/140109/data/',\n",
      "#                   '/disks/ceres/makemake/aphot/kalumbe/hermes/data/140109/data/',\n",
      "#                   '/disks/ceres/makemake/aphot/kalumbe/hermes/data/140109/data/',\n",
      "#                   '/disks/ceres/makemake/aphot/kalumbe/hermes/data/140109/data/',\n",
      "#                   '/disks/ceres/makemake/aphot/kalumbe/hermes/data/140109/data/']\n",
      "\n",
      "# #file prefixes to build file list for each observation\n",
      "# date_array = ['17dec',\n",
      "#               '17dec',\n",
      "#               '18dec',\n",
      "#               '11jan', \n",
      "#               '11jan', \n",
      "#               '11jan', \n",
      "#               '12jan', \n",
      "#               '07feb', \n",
      "#               '07feb', \n",
      "#               '08feb',\n",
      "#               '08feb',\n",
      "#               '09feb',\n",
      "#               '09feb',\n",
      "#               '10feb',\n",
      "#               '11feb',\n",
      "#               '11feb',\n",
      "#               '07jan', \n",
      "#               '07jan', \n",
      "#               '07jan', \n",
      "#               '07jan', \n",
      "#               '09jan', \n",
      "#               '09jan', \n",
      "#               '09jan', \n",
      "#               '09jan', \n",
      "#               '09jan'] \n",
      "\n",
      "# #indices of each file set\n",
      "# ix_array = [range(39,44),\n",
      "#             range(44,49),\n",
      "#             range(30,36),\n",
      "#             range(26,31),\n",
      "#             range(31,36),\n",
      "#             range(36,41),\n",
      "#             range(28,33),\n",
      "#             range(20,25),\n",
      "#             range(25,33),\n",
      "#             range(25,30),\n",
      "#             range(30,38),\n",
      "#             range(27,32),\n",
      "#             range(32,37),\n",
      "#             range(25,34),\n",
      "#             range(11,19),\n",
      "#             range(19,27),\n",
      "#             range(47,52),\n",
      "#             range(52,57),\n",
      "#             range(57,62),\n",
      "#             range(62,65),\n",
      "#             range(26,30),\n",
      "#             range(30,36),\n",
      "#             range(36,39),\n",
      "#             range(45,48),\n",
      "#             range(48,53)]\n",
      "\n",
      "# #index of the arcs (within file set)\n",
      "# arc_array=[4,4,4,0,0,0,0,1,1,1,1,1,1,1,1,1,0,0,0,0,2,4,1,1,3]\n",
      " \n",
      "# #index of the flats (within file set)\n",
      "# flat_array=[3,3,5,1,1,1,1,0,0,0,0,0,0,0,0,0,1,1,1,1,3,5,2,2,4]\n"
     ],
     "language": "python",
     "metadata": {},
     "outputs": [],
     "prompt_number": 11
    },
    {
     "cell_type": "code",
     "collapsed": false,
     "input": [
      "# #HR spec_PSF (There are more to add)\n",
      "\n",
      "# #target folder\n",
      "# batch_dir = '/Users/Carlos/Documents/HERMES/reductions/PSF_spec/'\n",
      "\n",
      "# #all reduced (*red.fits) files will be copied to this folder\n",
      "# dr2df.final_dir = '/Users/Carlos/Documents/HERMES/reductions/PSF_spec/'\n",
      "\n",
      "# #the following arrays have n rows corresponding to n observations (can have more than 1 science file per observation)\n",
      "\n",
      "# #array of folders with source files\n",
      "\n",
      "# source_dir_array = ['/Users/Carlos/Documents/HERMES/data/140207/data/',\n",
      "#                     '/Users/Carlos/Documents/HERMES/data/140207/data/',\n",
      "#                     '/Users/Carlos/Documents/HERMES/data/140207/data/',\n",
      "#                     '/Users/Carlos/Documents/HERMES/data/140207/data/',\n",
      "#                     '/Users/Carlos/Documents/HERMES/data/140207/data/',\n",
      "#                     '/Users/Carlos/Documents/HERMES/data/140207/data/',\n",
      "#                     '/Users/Carlos/Documents/HERMES/data/140207/data/',\n",
      "#                     '/Users/Carlos/Documents/HERMES/data/140208/data/',\n",
      "#                     '/Users/Carlos/Documents/HERMES/data/140208/data/',\n",
      "#                     '/Users/Carlos/Documents/HERMES/data/140208/data/',\n",
      "#                     '/Users/Carlos/Documents/HERMES/data/140208/data/',\n",
      "#                     '/Users/Carlos/Documents/HERMES/data/140208/data/',\n",
      "#                     '/Users/Carlos/Documents/HERMES/data/140208/data/']\n",
      "\n",
      "\n",
      "\n",
      "# #file prefixes to build file list for each observation\n",
      "\n",
      "# date_array = ['07feb',\n",
      "\n",
      "#               '07feb',\n",
      "\n",
      "#               '07feb',\n",
      "\n",
      "#               '07feb',\n",
      "\n",
      "#               '07feb',\n",
      "\n",
      "#               '07feb',\n",
      "\n",
      "#               '08feb',\n",
      "\n",
      "#               '08feb',\n",
      "\n",
      "#               '08feb',\n",
      "\n",
      "#               '08feb',\n",
      "\n",
      "#               '08feb',\n",
      "\n",
      "#               '08feb'] \n",
      "\n",
      "\n",
      "\n",
      "# #indices of each file set\n",
      "\n",
      "# ix_array = [range(12,20),\n",
      "\n",
      "#             range(20,25),\n",
      "\n",
      "#             range(25,33),\n",
      "            \n",
      "#             range(33,38),\n",
      "            \n",
      "#             range(41,46),\n",
      "            \n",
      "#             range(46,51),\n",
      "            \n",
      "#             range(51,57),\n",
      "            \n",
      "#             range(17,25),\n",
      "            \n",
      "#             range(25,30),\n",
      "            \n",
      "#             range(30,38),\n",
      "            \n",
      "#             range(38,44),\n",
      "            \n",
      "#             range(44,49),\n",
      "            \n",
      "#             range(49,54)]\n",
      "\n",
      "\n",
      "\n",
      "# #index of the arcs (within file set)\n",
      "\n",
      "# arc_array=[1,1,1,1,1,1,1,1,1,1,1,1,1]\n",
      "\n",
      " \n",
      "\n",
      "# #index of the flats (within file set)\n",
      "\n",
      "# flat_array=[0,0,0,0,0,0,0,0,0,0,0,0,0]"
     ],
     "language": "python",
     "metadata": {},
     "outputs": [],
     "prompt_number": 12
    },
    {
     "cell_type": "code",
     "collapsed": false,
     "input": [
      "# #BIAS\n",
      "# #travels the arrays specified above running a full 2dfdr reduction in each loop\n",
      "\n",
      "# for i in range(len(date_array)):\n",
      "#     if i>-1: #to skip a few filesets when needed\n",
      "#         print date_array[i]\n",
      "#         dr2df.source_dir = source_dir_array[i]\n",
      "#         dr2df.target_dir = batch_dir + str(i) + '_'+ date_array[i] +'/'\n",
      "#         dr2df.file_ix = ix_array[i]\n",
      "#         dr2df.date = date_array[i] \n",
      "#         dr2df.bias_reduce(copyFiles = True, idxFile = '5.70_0709_slm.idx') \n"
     ],
     "language": "python",
     "metadata": {},
     "outputs": [],
     "prompt_number": 13
    },
    {
     "cell_type": "code",
     "collapsed": false,
     "input": [
      "#SCIENCE\n",
      "#travels the arrays specified above running a full 2dfdr reduction in each loop\n",
      "\n",
      "for i in range(len(date_array)):\n",
      "    if i>-1: #to skip a few filesets when needed, -1 to do all\n",
      "        print date_array[i]\n",
      "        dr2df.source_dir = source_dir_array[i]\n",
      "        dr2df.target_dir = batch_dir + str(i) + '_'+ date_array[i] +'/'\n",
      "        dr2df.file_ix = ix_array[i]\n",
      "        dr2df.date = date_array[i] \n",
      "        dr2df.arc = arc_array[i] \n",
      "        dr2df.flat = flat_array[i] \n",
      "        dr2df.bias_dir = glob.glob(batch_dir + 'bias/'+str(bias_array[i])+'_*')[0] + '/'\n",
      "        print dr2df.bias_dir\n",
      "        dr2df.auto_reduce(copyFiles = True, idxFile = 'rhoTuc.idx') \n"
     ],
     "language": "python",
     "metadata": {},
     "outputs": [
      {
       "output_type": "stream",
       "stream": "stdout",
       "text": [
        "20aug\n",
        "/Users/Carlos/Documents/HERMES/reductions/HD1581/bias/0_20aug/\n",
        "['20aug10034.fits', '20aug10052.fits', '20aug10053.fits']"
       ]
      },
      {
       "output_type": "stream",
       "stream": "stdout",
       "text": [
        "\n",
        "arc 20aug10052.fits\n",
        "flat 20aug10034.fits\n",
        "drcontrol reduce_fflat 20aug10034.fits -BIAS_FILENAME BIAScombined.fits -idxfile rhoTuc.idx -OUT_DIRNAME 20aug10034_outdir\n",
        "drcontrol reduce_arc 20aug10052.fits -BIAS_FILENAME BIAScombined.fits -idxfile rhoTuc.idx -TLMAP_FILENAME 20aug10034tlm.fits -OUT_DIRNAME 20aug10052_outdir"
       ]
      },
      {
       "output_type": "stream",
       "stream": "stdout",
       "text": [
        "\n",
        "drcontrol reduce_fflat 20aug10034.fits -idxfile rhoTuc.idx -BIAS_FILENAME BIAScombined.fits -WAVEL_FILENAME 20aug10052red.fits -OUT_DIRNAME 20aug10034_outdir"
       ]
      },
      {
       "output_type": "stream",
       "stream": "stdout",
       "text": [
        "\n",
        "drcontrol reduce_object 20aug10053.fits -idxfile rhoTuc.idx -WAVEL_FILENAME 20aug10052red.fits -BIAS_FILENAME BIAScombined.fits -TLMAP_FILENAME 20aug10034tlm.fits -FFLAT_FILENAME 20aug10034red.fits -OUT_DIRNAME 20aug10053_outdir"
       ]
      },
      {
       "output_type": "stream",
       "stream": "stdout",
       "text": [
        "\n",
        "['20aug20034.fits', '20aug20052.fits', '20aug20053.fits']"
       ]
      },
      {
       "output_type": "stream",
       "stream": "stdout",
       "text": [
        "\n",
        "arc 20aug20052.fits\n",
        "flat 20aug20034.fits\n",
        "drcontrol reduce_fflat 20aug20034.fits -BIAS_FILENAME BIAScombined.fits -idxfile rhoTuc.idx -OUT_DIRNAME 20aug20034_outdir"
       ]
      },
      {
       "output_type": "stream",
       "stream": "stdout",
       "text": [
        "\n",
        "drcontrol reduce_arc 20aug20052.fits -BIAS_FILENAME BIAScombined.fits -idxfile rhoTuc.idx -TLMAP_FILENAME 20aug20034tlm.fits -OUT_DIRNAME 20aug20052_outdir"
       ]
      },
      {
       "output_type": "stream",
       "stream": "stdout",
       "text": [
        "\n",
        "drcontrol reduce_fflat 20aug20034.fits -idxfile rhoTuc.idx -BIAS_FILENAME BIAScombined.fits -WAVEL_FILENAME 20aug20052red.fits -OUT_DIRNAME 20aug20034_outdir"
       ]
      },
      {
       "output_type": "stream",
       "stream": "stdout",
       "text": [
        "\n",
        "drcontrol reduce_object 20aug20053.fits -idxfile rhoTuc.idx -WAVEL_FILENAME 20aug20052red.fits -BIAS_FILENAME BIAScombined.fits -TLMAP_FILENAME 20aug20034tlm.fits -FFLAT_FILENAME 20aug20034red.fits -OUT_DIRNAME 20aug20053_outdir"
       ]
      },
      {
       "output_type": "stream",
       "stream": "stdout",
       "text": [
        "\n",
        "['20aug30034.fits', '20aug30052.fits', '20aug30053.fits']"
       ]
      },
      {
       "output_type": "stream",
       "stream": "stdout",
       "text": [
        "\n",
        "arc 20aug30052.fits\n",
        "flat 20aug30034.fits\n",
        "drcontrol reduce_fflat 20aug30034.fits -BIAS_FILENAME BIAScombined.fits -idxfile rhoTuc.idx -OUT_DIRNAME 20aug30034_outdir"
       ]
      },
      {
       "output_type": "stream",
       "stream": "stdout",
       "text": [
        "\n",
        "drcontrol reduce_arc 20aug30052.fits -BIAS_FILENAME BIAScombined.fits -idxfile rhoTuc.idx -TLMAP_FILENAME 20aug30034tlm.fits -OUT_DIRNAME 20aug30052_outdir"
       ]
      },
      {
       "output_type": "stream",
       "stream": "stdout",
       "text": [
        "\n",
        "drcontrol reduce_fflat 20aug30034.fits -idxfile rhoTuc.idx -BIAS_FILENAME BIAScombined.fits -WAVEL_FILENAME 20aug30052red.fits -OUT_DIRNAME 20aug30034_outdir"
       ]
      },
      {
       "output_type": "stream",
       "stream": "stdout",
       "text": [
        "\n",
        "drcontrol reduce_object 20aug30053.fits -idxfile rhoTuc.idx -WAVEL_FILENAME 20aug30052red.fits -BIAS_FILENAME BIAScombined.fits -TLMAP_FILENAME 20aug30034tlm.fits -FFLAT_FILENAME 20aug30034red.fits -OUT_DIRNAME 20aug30053_outdir"
       ]
      },
      {
       "output_type": "stream",
       "stream": "stdout",
       "text": [
        "\n",
        "['20aug40034.fits', '20aug40052.fits', '20aug40053.fits']"
       ]
      },
      {
       "output_type": "stream",
       "stream": "stdout",
       "text": [
        "\n",
        "arc 20aug40052.fits\n",
        "flat 20aug40034.fits\n",
        "drcontrol reduce_fflat 20aug40034.fits -BIAS_FILENAME BIAScombined.fits -idxfile rhoTuc.idx -OUT_DIRNAME 20aug40034_outdir"
       ]
      },
      {
       "output_type": "stream",
       "stream": "stdout",
       "text": [
        "\n",
        "drcontrol reduce_arc 20aug40052.fits -BIAS_FILENAME BIAScombined.fits -idxfile rhoTuc.idx -TLMAP_FILENAME 20aug40034tlm.fits -OUT_DIRNAME 20aug40052_outdir"
       ]
      },
      {
       "output_type": "stream",
       "stream": "stdout",
       "text": [
        "\n",
        "drcontrol reduce_fflat 20aug40034.fits -idxfile rhoTuc.idx -BIAS_FILENAME BIAScombined.fits -WAVEL_FILENAME 20aug40052red.fits -OUT_DIRNAME 20aug40034_outdir"
       ]
      },
      {
       "output_type": "stream",
       "stream": "stdout",
       "text": [
        "\n",
        "drcontrol reduce_object 20aug40053.fits -idxfile rhoTuc.idx -WAVEL_FILENAME 20aug40052red.fits -BIAS_FILENAME BIAScombined.fits -TLMAP_FILENAME 20aug40034tlm.fits -FFLAT_FILENAME 20aug40034red.fits -OUT_DIRNAME 20aug40053_outdir"
       ]
      },
      {
       "output_type": "stream",
       "stream": "stdout",
       "text": [
        "\n",
        "21aug"
       ]
      },
      {
       "output_type": "stream",
       "stream": "stdout",
       "text": [
        "\n",
        "/Users/Carlos/Documents/HERMES/reductions/HD1581/bias/1_21aug/\n",
        "['21aug10041.fits', '21aug10042.fits', '21aug10043.fits', '21aug10046.fits', '21aug10047.fits']"
       ]
      },
      {
       "output_type": "stream",
       "stream": "stdout",
       "text": [
        "\n",
        "arc 21aug10046.fits\n",
        "flat 21aug10047.fits\n",
        "drcontrol reduce_fflat 21aug10047.fits -BIAS_FILENAME BIAScombined.fits -idxfile rhoTuc.idx -OUT_DIRNAME 21aug10047_outdir"
       ]
      },
      {
       "output_type": "stream",
       "stream": "stdout",
       "text": [
        "\n",
        "drcontrol reduce_arc 21aug10046.fits -BIAS_FILENAME BIAScombined.fits -idxfile rhoTuc.idx -TLMAP_FILENAME 21aug10047tlm.fits -OUT_DIRNAME 21aug10046_outdir"
       ]
      },
      {
       "output_type": "stream",
       "stream": "stdout",
       "text": [
        "\n",
        "drcontrol reduce_fflat 21aug10047.fits -idxfile rhoTuc.idx -BIAS_FILENAME BIAScombined.fits -WAVEL_FILENAME 21aug10046red.fits -OUT_DIRNAME 21aug10047_outdir"
       ]
      },
      {
       "output_type": "stream",
       "stream": "stdout",
       "text": [
        "\n",
        "drcontrol reduce_object 21aug10041.fits -idxfile rhoTuc.idx -WAVEL_FILENAME 21aug10046red.fits -BIAS_FILENAME BIAScombined.fits -TLMAP_FILENAME 21aug10047tlm.fits -FFLAT_FILENAME 21aug10047red.fits -OUT_DIRNAME 21aug10041_outdir"
       ]
      },
      {
       "output_type": "stream",
       "stream": "stdout",
       "text": [
        "\n",
        "drcontrol reduce_object 21aug10042.fits -idxfile rhoTuc.idx -WAVEL_FILENAME 21aug10046red.fits -BIAS_FILENAME BIAScombined.fits -TLMAP_FILENAME 21aug10047tlm.fits -FFLAT_FILENAME 21aug10047red.fits -OUT_DIRNAME 21aug10042_outdir"
       ]
      },
      {
       "output_type": "stream",
       "stream": "stdout",
       "text": [
        "\n",
        "drcontrol reduce_object 21aug10043.fits -idxfile rhoTuc.idx -WAVEL_FILENAME 21aug10046red.fits -BIAS_FILENAME BIAScombined.fits -TLMAP_FILENAME 21aug10047tlm.fits -FFLAT_FILENAME 21aug10047red.fits -OUT_DIRNAME 21aug10043_outdir"
       ]
      },
      {
       "output_type": "stream",
       "stream": "stdout",
       "text": [
        "\n",
        "['21aug20041.fits', '21aug20042.fits', '21aug20043.fits', '21aug20046.fits', '21aug20047.fits']"
       ]
      },
      {
       "output_type": "stream",
       "stream": "stdout",
       "text": [
        "\n",
        "arc 21aug20046.fits\n",
        "flat 21aug20047.fits\n",
        "drcontrol reduce_fflat 21aug20047.fits -BIAS_FILENAME BIAScombined.fits -idxfile rhoTuc.idx -OUT_DIRNAME 21aug20047_outdir"
       ]
      },
      {
       "output_type": "stream",
       "stream": "stdout",
       "text": [
        "\n",
        "drcontrol reduce_arc 21aug20046.fits -BIAS_FILENAME BIAScombined.fits -idxfile rhoTuc.idx -TLMAP_FILENAME 21aug20047tlm.fits -OUT_DIRNAME 21aug20046_outdir"
       ]
      },
      {
       "output_type": "stream",
       "stream": "stdout",
       "text": [
        "\n",
        "drcontrol reduce_fflat 21aug20047.fits -idxfile rhoTuc.idx -BIAS_FILENAME BIAScombined.fits -WAVEL_FILENAME 21aug20046red.fits -OUT_DIRNAME 21aug20047_outdir"
       ]
      },
      {
       "output_type": "stream",
       "stream": "stdout",
       "text": [
        "\n",
        "drcontrol reduce_object 21aug20041.fits -idxfile rhoTuc.idx -WAVEL_FILENAME 21aug20046red.fits -BIAS_FILENAME BIAScombined.fits -TLMAP_FILENAME 21aug20047tlm.fits -FFLAT_FILENAME 21aug20047red.fits -OUT_DIRNAME 21aug20041_outdir"
       ]
      },
      {
       "output_type": "stream",
       "stream": "stdout",
       "text": [
        "\n",
        "drcontrol reduce_object 21aug20042.fits -idxfile rhoTuc.idx -WAVEL_FILENAME 21aug20046red.fits -BIAS_FILENAME BIAScombined.fits -TLMAP_FILENAME 21aug20047tlm.fits -FFLAT_FILENAME 21aug20047red.fits -OUT_DIRNAME 21aug20042_outdir"
       ]
      },
      {
       "output_type": "stream",
       "stream": "stdout",
       "text": [
        "\n",
        "drcontrol reduce_object 21aug20043.fits -idxfile rhoTuc.idx -WAVEL_FILENAME 21aug20046red.fits -BIAS_FILENAME BIAScombined.fits -TLMAP_FILENAME 21aug20047tlm.fits -FFLAT_FILENAME 21aug20047red.fits -OUT_DIRNAME 21aug20043_outdir"
       ]
      },
      {
       "output_type": "stream",
       "stream": "stdout",
       "text": [
        "\n",
        "['21aug30041.fits', '21aug30042.fits', '21aug30043.fits', '21aug30046.fits', '21aug30047.fits']"
       ]
      },
      {
       "output_type": "stream",
       "stream": "stdout",
       "text": [
        "\n",
        "arc 21aug30046.fits\n",
        "flat 21aug30047.fits\n",
        "drcontrol reduce_fflat 21aug30047.fits -BIAS_FILENAME BIAScombined.fits -idxfile rhoTuc.idx -OUT_DIRNAME 21aug30047_outdir"
       ]
      },
      {
       "output_type": "stream",
       "stream": "stdout",
       "text": [
        "\n",
        "drcontrol reduce_arc 21aug30046.fits -BIAS_FILENAME BIAScombined.fits -idxfile rhoTuc.idx -TLMAP_FILENAME 21aug30047tlm.fits -OUT_DIRNAME 21aug30046_outdir"
       ]
      },
      {
       "output_type": "stream",
       "stream": "stdout",
       "text": [
        "\n",
        "drcontrol reduce_fflat 21aug30047.fits -idxfile rhoTuc.idx -BIAS_FILENAME BIAScombined.fits -WAVEL_FILENAME 21aug30046red.fits -OUT_DIRNAME 21aug30047_outdir"
       ]
      },
      {
       "output_type": "stream",
       "stream": "stdout",
       "text": [
        "\n",
        "drcontrol reduce_object 21aug30041.fits -idxfile rhoTuc.idx -WAVEL_FILENAME 21aug30046red.fits -BIAS_FILENAME BIAScombined.fits -TLMAP_FILENAME 21aug30047tlm.fits -FFLAT_FILENAME 21aug30047red.fits -OUT_DIRNAME 21aug30041_outdir"
       ]
      },
      {
       "output_type": "stream",
       "stream": "stdout",
       "text": [
        "\n",
        "drcontrol reduce_object 21aug30042.fits -idxfile rhoTuc.idx -WAVEL_FILENAME 21aug30046red.fits -BIAS_FILENAME BIAScombined.fits -TLMAP_FILENAME 21aug30047tlm.fits -FFLAT_FILENAME 21aug30047red.fits -OUT_DIRNAME 21aug30042_outdir"
       ]
      },
      {
       "output_type": "stream",
       "stream": "stdout",
       "text": [
        "\n",
        "drcontrol reduce_object 21aug30043.fits -idxfile rhoTuc.idx -WAVEL_FILENAME 21aug30046red.fits -BIAS_FILENAME BIAScombined.fits -TLMAP_FILENAME 21aug30047tlm.fits -FFLAT_FILENAME 21aug30047red.fits -OUT_DIRNAME 21aug30043_outdir"
       ]
      },
      {
       "output_type": "stream",
       "stream": "stdout",
       "text": [
        "\n",
        "['21aug40041.fits', '21aug40042.fits', '21aug40043.fits', '21aug40046.fits', '21aug40047.fits']"
       ]
      },
      {
       "output_type": "stream",
       "stream": "stdout",
       "text": [
        "\n",
        "arc 21aug40046.fits\n",
        "flat 21aug40047.fits\n",
        "drcontrol reduce_fflat 21aug40047.fits -BIAS_FILENAME BIAScombined.fits -idxfile rhoTuc.idx -OUT_DIRNAME 21aug40047_outdir"
       ]
      },
      {
       "output_type": "stream",
       "stream": "stdout",
       "text": [
        "\n",
        "drcontrol reduce_arc 21aug40046.fits -BIAS_FILENAME BIAScombined.fits -idxfile rhoTuc.idx -TLMAP_FILENAME 21aug40047tlm.fits -OUT_DIRNAME 21aug40046_outdir"
       ]
      },
      {
       "output_type": "stream",
       "stream": "stdout",
       "text": [
        "\n",
        "drcontrol reduce_fflat 21aug40047.fits -idxfile rhoTuc.idx -BIAS_FILENAME BIAScombined.fits -WAVEL_FILENAME 21aug40046red.fits -OUT_DIRNAME 21aug40047_outdir"
       ]
      },
      {
       "output_type": "stream",
       "stream": "stdout",
       "text": [
        "\n",
        "drcontrol reduce_object 21aug40041.fits -idxfile rhoTuc.idx -WAVEL_FILENAME 21aug40046red.fits -BIAS_FILENAME BIAScombined.fits -TLMAP_FILENAME 21aug40047tlm.fits -FFLAT_FILENAME 21aug40047red.fits -OUT_DIRNAME 21aug40041_outdir"
       ]
      },
      {
       "output_type": "stream",
       "stream": "stdout",
       "text": [
        "\n",
        "drcontrol reduce_object 21aug40042.fits -idxfile rhoTuc.idx -WAVEL_FILENAME 21aug40046red.fits -BIAS_FILENAME BIAScombined.fits -TLMAP_FILENAME 21aug40047tlm.fits -FFLAT_FILENAME 21aug40047red.fits -OUT_DIRNAME 21aug40042_outdir"
       ]
      },
      {
       "output_type": "stream",
       "stream": "stdout",
       "text": [
        "\n",
        "drcontrol reduce_object 21aug40043.fits -idxfile rhoTuc.idx -WAVEL_FILENAME 21aug40046red.fits -BIAS_FILENAME BIAScombined.fits -TLMAP_FILENAME 21aug40047tlm.fits -FFLAT_FILENAME 21aug40047red.fits -OUT_DIRNAME 21aug40043_outdir"
       ]
      },
      {
       "output_type": "stream",
       "stream": "stdout",
       "text": [
        "\n",
        "22aug"
       ]
      },
      {
       "output_type": "stream",
       "stream": "stdout",
       "text": [
        "\n",
        "/Users/Carlos/Documents/HERMES/reductions/HD1581/bias/2_22aug/\n",
        "['22aug10031.fits', '22aug10032.fits', '22aug10036.fits', '22aug10037.fits', '22aug10038.fits']"
       ]
      },
      {
       "output_type": "stream",
       "stream": "stdout",
       "text": [
        "\n",
        "arc 22aug10031.fits\n",
        "flat 22aug10032.fits\n",
        "drcontrol reduce_fflat 22aug10032.fits -BIAS_FILENAME BIAScombined.fits -idxfile rhoTuc.idx -OUT_DIRNAME 22aug10032_outdir"
       ]
      },
      {
       "output_type": "stream",
       "stream": "stdout",
       "text": [
        "\n",
        "drcontrol reduce_arc 22aug10031.fits -BIAS_FILENAME BIAScombined.fits -idxfile rhoTuc.idx -TLMAP_FILENAME 22aug10032tlm.fits -OUT_DIRNAME 22aug10031_outdir"
       ]
      },
      {
       "output_type": "stream",
       "stream": "stdout",
       "text": [
        "\n",
        "drcontrol reduce_fflat 22aug10032.fits -idxfile rhoTuc.idx -BIAS_FILENAME BIAScombined.fits -WAVEL_FILENAME 22aug10031red.fits -OUT_DIRNAME 22aug10032_outdir"
       ]
      },
      {
       "output_type": "stream",
       "stream": "stdout",
       "text": [
        "\n",
        "drcontrol reduce_object 22aug10036.fits -idxfile rhoTuc.idx -WAVEL_FILENAME 22aug10031red.fits -BIAS_FILENAME BIAScombined.fits -TLMAP_FILENAME 22aug10032tlm.fits -FFLAT_FILENAME 22aug10032red.fits -OUT_DIRNAME 22aug10036_outdir"
       ]
      },
      {
       "output_type": "stream",
       "stream": "stdout",
       "text": [
        "\n",
        "drcontrol reduce_object 22aug10037.fits -idxfile rhoTuc.idx -WAVEL_FILENAME 22aug10031red.fits -BIAS_FILENAME BIAScombined.fits -TLMAP_FILENAME 22aug10032tlm.fits -FFLAT_FILENAME 22aug10032red.fits -OUT_DIRNAME 22aug10037_outdir"
       ]
      },
      {
       "output_type": "stream",
       "stream": "stdout",
       "text": [
        "\n",
        "drcontrol reduce_object 22aug10038.fits -idxfile rhoTuc.idx -WAVEL_FILENAME 22aug10031red.fits -BIAS_FILENAME BIAScombined.fits -TLMAP_FILENAME 22aug10032tlm.fits -FFLAT_FILENAME 22aug10032red.fits -OUT_DIRNAME 22aug10038_outdir"
       ]
      },
      {
       "output_type": "stream",
       "stream": "stdout",
       "text": [
        "\n",
        "['22aug20031.fits', '22aug20032.fits', '22aug20036.fits', '22aug20037.fits', '22aug20038.fits']"
       ]
      },
      {
       "output_type": "stream",
       "stream": "stdout",
       "text": [
        "\n",
        "arc 22aug20031.fits\n",
        "flat 22aug20032.fits\n",
        "drcontrol reduce_fflat 22aug20032.fits -BIAS_FILENAME BIAScombined.fits -idxfile rhoTuc.idx -OUT_DIRNAME 22aug20032_outdir"
       ]
      },
      {
       "output_type": "stream",
       "stream": "stdout",
       "text": [
        "\n",
        "drcontrol reduce_arc 22aug20031.fits -BIAS_FILENAME BIAScombined.fits -idxfile rhoTuc.idx -TLMAP_FILENAME 22aug20032tlm.fits -OUT_DIRNAME 22aug20031_outdir"
       ]
      },
      {
       "output_type": "stream",
       "stream": "stdout",
       "text": [
        "\n",
        "drcontrol reduce_fflat 22aug20032.fits -idxfile rhoTuc.idx -BIAS_FILENAME BIAScombined.fits -WAVEL_FILENAME 22aug20031red.fits -OUT_DIRNAME 22aug20032_outdir"
       ]
      },
      {
       "output_type": "stream",
       "stream": "stdout",
       "text": [
        "\n",
        "drcontrol reduce_object 22aug20036.fits -idxfile rhoTuc.idx -WAVEL_FILENAME 22aug20031red.fits -BIAS_FILENAME BIAScombined.fits -TLMAP_FILENAME 22aug20032tlm.fits -FFLAT_FILENAME 22aug20032red.fits -OUT_DIRNAME 22aug20036_outdir"
       ]
      },
      {
       "output_type": "stream",
       "stream": "stdout",
       "text": [
        "\n",
        "drcontrol reduce_object 22aug20037.fits -idxfile rhoTuc.idx -WAVEL_FILENAME 22aug20031red.fits -BIAS_FILENAME BIAScombined.fits -TLMAP_FILENAME 22aug20032tlm.fits -FFLAT_FILENAME 22aug20032red.fits -OUT_DIRNAME 22aug20037_outdir"
       ]
      },
      {
       "output_type": "stream",
       "stream": "stdout",
       "text": [
        "\n",
        "drcontrol reduce_object 22aug20038.fits -idxfile rhoTuc.idx -WAVEL_FILENAME 22aug20031red.fits -BIAS_FILENAME BIAScombined.fits -TLMAP_FILENAME 22aug20032tlm.fits -FFLAT_FILENAME 22aug20032red.fits -OUT_DIRNAME 22aug20038_outdir"
       ]
      },
      {
       "output_type": "stream",
       "stream": "stdout",
       "text": [
        "\n",
        "['22aug30031.fits', '22aug30032.fits', '22aug30036.fits', '22aug30037.fits', '22aug30038.fits']"
       ]
      },
      {
       "output_type": "stream",
       "stream": "stdout",
       "text": [
        "\n",
        "arc 22aug30031.fits\n",
        "flat 22aug30032.fits\n",
        "drcontrol reduce_fflat 22aug30032.fits -BIAS_FILENAME BIAScombined.fits -idxfile rhoTuc.idx -OUT_DIRNAME 22aug30032_outdir"
       ]
      },
      {
       "output_type": "stream",
       "stream": "stdout",
       "text": [
        "\n",
        "drcontrol reduce_arc 22aug30031.fits -BIAS_FILENAME BIAScombined.fits -idxfile rhoTuc.idx -TLMAP_FILENAME 22aug30032tlm.fits -OUT_DIRNAME 22aug30031_outdir"
       ]
      },
      {
       "output_type": "stream",
       "stream": "stdout",
       "text": [
        "\n",
        "drcontrol reduce_fflat 22aug30032.fits -idxfile rhoTuc.idx -BIAS_FILENAME BIAScombined.fits -WAVEL_FILENAME 22aug30031red.fits -OUT_DIRNAME 22aug30032_outdir"
       ]
      },
      {
       "output_type": "stream",
       "stream": "stdout",
       "text": [
        "\n",
        "drcontrol reduce_object 22aug30036.fits -idxfile rhoTuc.idx -WAVEL_FILENAME 22aug30031red.fits -BIAS_FILENAME BIAScombined.fits -TLMAP_FILENAME 22aug30032tlm.fits -FFLAT_FILENAME 22aug30032red.fits -OUT_DIRNAME 22aug30036_outdir"
       ]
      },
      {
       "output_type": "stream",
       "stream": "stdout",
       "text": [
        "\n",
        "drcontrol reduce_object 22aug30037.fits -idxfile rhoTuc.idx -WAVEL_FILENAME 22aug30031red.fits -BIAS_FILENAME BIAScombined.fits -TLMAP_FILENAME 22aug30032tlm.fits -FFLAT_FILENAME 22aug30032red.fits -OUT_DIRNAME 22aug30037_outdir"
       ]
      },
      {
       "output_type": "stream",
       "stream": "stdout",
       "text": [
        "\n",
        "drcontrol reduce_object 22aug30038.fits -idxfile rhoTuc.idx -WAVEL_FILENAME 22aug30031red.fits -BIAS_FILENAME BIAScombined.fits -TLMAP_FILENAME 22aug30032tlm.fits -FFLAT_FILENAME 22aug30032red.fits -OUT_DIRNAME 22aug30038_outdir"
       ]
      },
      {
       "output_type": "stream",
       "stream": "stdout",
       "text": [
        "\n",
        "['22aug40031.fits', '22aug40032.fits', '22aug40036.fits', '22aug40037.fits', '22aug40038.fits']"
       ]
      },
      {
       "output_type": "stream",
       "stream": "stdout",
       "text": [
        "\n",
        "arc 22aug40031.fits\n",
        "flat 22aug40032.fits\n",
        "drcontrol reduce_fflat 22aug40032.fits -BIAS_FILENAME BIAScombined.fits -idxfile rhoTuc.idx -OUT_DIRNAME 22aug40032_outdir"
       ]
      },
      {
       "output_type": "stream",
       "stream": "stdout",
       "text": [
        "\n",
        "drcontrol reduce_arc 22aug40031.fits -BIAS_FILENAME BIAScombined.fits -idxfile rhoTuc.idx -TLMAP_FILENAME 22aug40032tlm.fits -OUT_DIRNAME 22aug40031_outdir"
       ]
      },
      {
       "output_type": "stream",
       "stream": "stdout",
       "text": [
        "\n",
        "drcontrol reduce_fflat 22aug40032.fits -idxfile rhoTuc.idx -BIAS_FILENAME BIAScombined.fits -WAVEL_FILENAME 22aug40031red.fits -OUT_DIRNAME 22aug40032_outdir"
       ]
      },
      {
       "output_type": "stream",
       "stream": "stdout",
       "text": [
        "\n",
        "drcontrol reduce_object 22aug40036.fits -idxfile rhoTuc.idx -WAVEL_FILENAME 22aug40031red.fits -BIAS_FILENAME BIAScombined.fits -TLMAP_FILENAME 22aug40032tlm.fits -FFLAT_FILENAME 22aug40032red.fits -OUT_DIRNAME 22aug40036_outdir"
       ]
      },
      {
       "output_type": "stream",
       "stream": "stdout",
       "text": [
        "\n",
        "drcontrol reduce_object 22aug40037.fits -idxfile rhoTuc.idx -WAVEL_FILENAME 22aug40031red.fits -BIAS_FILENAME BIAScombined.fits -TLMAP_FILENAME 22aug40032tlm.fits -FFLAT_FILENAME 22aug40032red.fits -OUT_DIRNAME 22aug40037_outdir"
       ]
      },
      {
       "output_type": "stream",
       "stream": "stdout",
       "text": [
        "\n",
        "drcontrol reduce_object 22aug40038.fits -idxfile rhoTuc.idx -WAVEL_FILENAME 22aug40031red.fits -BIAS_FILENAME BIAScombined.fits -TLMAP_FILENAME 22aug40032tlm.fits -FFLAT_FILENAME 22aug40032red.fits -OUT_DIRNAME 22aug40038_outdir"
       ]
      },
      {
       "output_type": "stream",
       "stream": "stdout",
       "text": [
        "\n"
       ]
      }
     ],
     "prompt_number": 14
    },
    {
     "cell_type": "code",
     "collapsed": false,
     "input": [
      "import numpy as np\n",
      "R = 150e9\n",
      "p = 365*24*3600\n",
      "d = 2 *np.pi*R\n",
      "v = d/p/1000"
     ],
     "language": "python",
     "metadata": {},
     "outputs": [],
     "prompt_number": 1
    },
    {
     "cell_type": "code",
     "collapsed": false,
     "input": [
      "v"
     ],
     "language": "python",
     "metadata": {},
     "outputs": [
      {
       "metadata": {},
       "output_type": "pyout",
       "prompt_number": 3,
       "text": [
        "29.885774862916602"
       ]
      }
     ],
     "prompt_number": 3
    },
    {
     "cell_type": "code",
     "collapsed": false,
     "input": [
      "#james allen code to combine\n",
      "\n",
      "import subprocess\n",
      "import os\n",
      "import tempfile\n",
      "import shutil\n",
      "\n",
      "def run_2dfdr_combine(input_path_list, output_path, return_to=None, \n",
      "                      lockdir=LOCKDIR, **kwargs):\n",
      "    \"\"\"Run 2dfdr to combine the specified FITS files.\"\"\"\n",
      "    if len(input_path_list) < 2:\n",
      "        raise ValueError('Need at least 2 files to combine!')\n",
      "    output_dir, output_filename = os.path.split(output_path)\n",
      "    # Need to extend the default timeout value; set to 5 hours here\n",
      "    timeout = '300'\n",
      "    # Write the 2dfdr AutoScript\n",
      "    script = []\n",
      "    for input_path in input_path_list:\n",
      "        script.append('lappend glist ' +\n",
      "                      os.path.relpath(input_path, output_dir))\n",
      "    script.extend(['proc Quit {status} {',\n",
      "                   '    global Auto',\n",
      "                   '    set Auto(state) 0',\n",
      "                   '}',\n",
      "                   'set task DREXEC1',\n",
      "                   'global Auto',\n",
      "                   'set Auto(state) 1',\n",
      "                   ('ExecCombine $task $glist ' + output_filename +\n",
      "                    ' -success Quit')])\n",
      "    script_filename = '2dfdr_script.tcl'\n",
      "    with visit_dir(output_dir, return_to=return_to, lockdir=lockdir):\n",
      "        # Print the script to file\n",
      "        with open(script_filename, 'w') as f_script:\n",
      "            f_script.write('\\n'.join(script))\n",
      "        # Run 2dfdr\n",
      "        options = ['-AutoScript',\n",
      "                   '-ScriptName',\n",
      "                   script_filename,\n",
      "                   '-Timeout',\n",
      "                   timeout]\n",
      "        run_2dfdr(output_dir, options, lockdir=None, **kwargs)\n",
      "        # Clean up the script file\n",
      "        os.remove(script_filename)\n",
      "    return\n"
     ],
     "language": "python",
     "metadata": {},
     "outputs": [
      {
       "ename": "NameError",
       "evalue": "name 'LOCKDIR' is not defined",
       "output_type": "pyerr",
       "traceback": [
        "\u001b[0;31m---------------------------------------------------------------------------\u001b[0m\n\u001b[0;31mNameError\u001b[0m                                 Traceback (most recent call last)",
        "\u001b[0;32m<ipython-input-4-a84b8553fef5>\u001b[0m in \u001b[0;36m<module>\u001b[0;34m()\u001b[0m\n\u001b[1;32m      5\u001b[0m \u001b[0;34m\u001b[0m\u001b[0m\n\u001b[1;32m      6\u001b[0m def run_2dfdr_combine(input_path_list, output_path, return_to=None, \n\u001b[0;32m----> 7\u001b[0;31m                       lockdir=LOCKDIR, **kwargs):\n\u001b[0m\u001b[1;32m      8\u001b[0m     \u001b[0;34m\"\"\"Run 2dfdr to combine the specified FITS files.\"\"\"\u001b[0m\u001b[0;34m\u001b[0m\u001b[0m\n\u001b[1;32m      9\u001b[0m     \u001b[0;32mif\u001b[0m \u001b[0mlen\u001b[0m\u001b[0;34m(\u001b[0m\u001b[0minput_path_list\u001b[0m\u001b[0;34m)\u001b[0m \u001b[0;34m<\u001b[0m \u001b[0;36m2\u001b[0m\u001b[0;34m:\u001b[0m\u001b[0;34m\u001b[0m\u001b[0m\n",
        "\u001b[0;31mNameError\u001b[0m: name 'LOCKDIR' is not defined"
       ]
      }
     ],
     "prompt_number": 4
    },
    {
     "cell_type": "code",
     "collapsed": false,
     "input": [],
     "language": "python",
     "metadata": {},
     "outputs": []
    }
   ],
   "metadata": {}
  }
 ]
}