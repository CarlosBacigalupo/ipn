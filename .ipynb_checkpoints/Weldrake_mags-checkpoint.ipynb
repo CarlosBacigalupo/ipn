{
 "metadata": {
  "name": ""
 },
 "nbformat": 3,
 "nbformat_minor": 0,
 "worksheets": [
  {
   "cells": [
    {
     "cell_type": "code",
     "collapsed": false,
     "input": [
      "import numpy as np\n",
      "import pylab as plt"
     ],
     "language": "python",
     "metadata": {},
     "outputs": [],
     "prompt_number": 120
    },
    {
     "cell_type": "code",
     "collapsed": false,
     "input": [
      "cd HERMES_ObsPlan_Aug14/"
     ],
     "language": "python",
     "metadata": {},
     "outputs": [
      {
       "output_type": "stream",
       "stream": "stdout",
       "text": [
        "/Users/Carlos/Dropbox/PhD/Docs/My Docs/HERMES_ObsPlan_Aug14\n"
       ]
      }
     ],
     "prompt_number": 7
    },
    {
     "cell_type": "code",
     "collapsed": false,
     "input": [
      "#_r|_RAJ2000|_DEJ2000|RAJ2000|DEJ2000|pmRA|pmDE|Jmag|Kmag|b1mag|b2mag|r1mag|r2mag|imag|No|fl"
     ],
     "language": "python",
     "metadata": {},
     "outputs": []
    },
    {
     "cell_type": "code",
     "collapsed": false,
     "input": [
      "a = np.genfromtxt('weldrake_results.tsv', delimiter='|', comments='#')"
     ],
     "language": "python",
     "metadata": {},
     "outputs": [],
     "prompt_number": 38
    },
    {
     "cell_type": "code",
     "collapsed": false,
     "input": [
      "argSort = np.argsort(a[:,10])"
     ],
     "language": "python",
     "metadata": {},
     "outputs": [],
     "prompt_number": 52
    },
    {
     "cell_type": "code",
     "collapsed": false,
     "input": [
      "np.where(a==10.25)"
     ],
     "language": "python",
     "metadata": {},
     "outputs": [
      {
       "metadata": {},
       "output_type": "pyout",
       "prompt_number": 60,
       "text": [
        "(array([216]), array([10]))"
       ]
      }
     ],
     "prompt_number": 60
    },
    {
     "cell_type": "code",
     "collapsed": false,
     "input": [
      "a[216]"
     ],
     "language": "python",
     "metadata": {},
     "outputs": [
      {
       "metadata": {},
       "output_type": "pyout",
       "prompt_number": 61,
       "text": [
        "array([   1.592   ,    5.720458,  -72.060861,    5.720458,  -72.060861,\n",
        "        -28.5     ,  589.7     ,         nan,         nan,         nan,\n",
        "         10.25    ,   10.94    ,   11.02    ,         nan,    3.      ,\n",
        "          1.      ])"
       ]
      }
     ],
     "prompt_number": 61
    },
    {
     "cell_type": "code",
     "collapsed": false,
     "input": [
      "count = 0\n",
      "for i in argSort:\n",
      "        print count,a[i,10], a[i,8], a[i,7]\n",
      "        count +=1"
     ],
     "language": "python",
     "metadata": {},
     "outputs": [
      {
       "output_type": "stream",
       "stream": "stdout",
       "text": [
        "0 10.25 nan nan\n",
        "1 13.51 12.649 13.265\n",
        "2 13.9 13.83 14.499\n",
        "3 14.54 12.936 13.555\n",
        "4 15.48 14.197 14.605\n",
        "5 15.56 12.448 13.517\n",
        "6 15.75 13.438 14.388\n",
        "7 15.8 15.396 15.485\n",
        "8 15.92 13.091 14.029\n",
        "9 15.99 15.396 15.485\n",
        "10 16.22 15.134 15.322\n",
        "11 16.36 12.499 13.58\n",
        "12 16.46 15.337 15.764\n",
        "13 16.47 nan nan\n",
        "14 16.49 15.289 16.002\n",
        "15 16.5 nan nan\n",
        "16 16.63 13.091 14.029\n",
        "17 16.71 14.991 15.632\n",
        "18 17.02 12.222 13.278\n",
        "19 17.04 14.497 15.064\n",
        "20 17.15 13.137 14.056\n",
        "21 17.21 15.805 16.315\n",
        "22 17.23 12.189 13.304\n",
        "23 17.24 13.137 14.056\n",
        "24 17.28 15.805 16.315\n",
        "25 17.44 11.655 13.06\n",
        "26 17.5 12.448 13.517\n",
        "27 17.6 13.041 14.145\n",
        "28 17.64 nan nan\n",
        "29 17.7 16.677 16.59\n",
        "30 17.7 11.569 12.431\n",
        "31 17.72 15.667 16.114\n",
        "32 17.82 13.438 14.388\n",
        "33 18.2 nan nan\n",
        "34 18.38 13.092 14.072\n",
        "35 18.49 nan nan\n",
        "36 18.49 nan nan\n",
        "37 18.51 nan nan\n",
        "38 18.57 nan nan\n",
        "39 18.64 nan nan\n",
        "40 18.77 nan nan\n",
        "41 18.78 12.499 13.58\n",
        "42 18.8 nan nan\n",
        "43 18.9 14.354 15.229\n",
        "44 18.97 nan nan\n",
        "45 19.0 nan nan\n",
        "46 19.01 nan nan\n",
        "47 19.02 nan nan\n",
        "48 19.03 nan nan\n",
        "49 19.05 nan nan\n",
        "50 19.08 nan nan\n",
        "51 19.08 nan nan\n",
        "52 19.1 nan nan\n",
        "53 19.21 nan nan\n",
        "54 19.33 nan nan\n",
        "55 19.42 nan nan\n",
        "56 19.44 nan nan\n",
        "57 19.48 nan nan\n",
        "58 19.48 nan nan\n",
        "59 19.5 nan nan\n",
        "60 19.56 nan nan\n",
        "61 19.63 nan nan\n",
        "62 19.67 nan nan\n",
        "63 19.69 nan nan\n",
        "64 19.75 nan nan\n",
        "65 20.21 nan nan\n",
        "66 20.22 nan nan\n",
        "67 20.27 nan nan\n",
        "68 20.29 nan nan\n",
        "69 20.55 13.041 14.145\n",
        "70 21.08 nan nan\n",
        "71 21.83 15.208 16.182\n",
        "72 nan nan nan\n",
        "73 nan nan nan\n",
        "74 nan nan nan\n",
        "75 nan nan nan\n",
        "76 nan nan nan\n",
        "77 nan nan nan\n",
        "78 nan nan nan\n",
        "79 nan nan nan\n",
        "80 nan nan nan\n",
        "81 nan nan nan\n",
        "82 nan nan nan\n",
        "83 nan nan nan\n",
        "84 nan nan nan\n",
        "85 nan nan nan\n",
        "86 nan nan nan\n",
        "87 nan nan nan\n",
        "88 nan nan nan\n",
        "89 nan nan nan\n",
        "90 nan nan nan\n",
        "91 nan nan nan\n",
        "92 nan nan nan\n",
        "93 nan nan nan\n",
        "94 nan nan nan\n",
        "95 nan nan nan\n",
        "96 nan nan nan\n",
        "97 nan nan nan\n",
        "98 nan nan nan\n",
        "99 nan nan nan\n",
        "100 nan nan nan\n",
        "101 nan nan nan\n",
        "102 nan nan nan\n",
        "103 nan nan nan\n",
        "104 nan nan nan\n",
        "105 nan nan nan\n",
        "106 nan nan nan\n",
        "107 nan nan nan\n",
        "108 nan nan nan\n",
        "109 nan nan nan\n",
        "110 nan nan nan\n",
        "111 nan nan nan\n",
        "112 nan nan nan\n",
        "113 nan nan nan\n",
        "114 nan nan nan\n",
        "115 nan nan nan\n",
        "116 nan nan nan\n",
        "117 nan nan nan\n",
        "118 nan nan nan\n",
        "119 nan nan nan\n",
        "120 nan nan nan\n",
        "121 nan nan nan\n",
        "122 nan nan nan\n",
        "123 nan nan nan\n",
        "124 nan nan nan\n",
        "125 nan nan nan\n",
        "126 nan nan nan\n",
        "127 nan nan nan\n",
        "128 nan nan nan\n",
        "129 nan nan nan\n",
        "130 nan nan nan\n",
        "131 nan nan nan\n",
        "132 nan nan nan\n",
        "133 nan nan nan\n",
        "134 nan nan nan\n",
        "135 nan nan nan\n",
        "136 nan nan nan\n",
        "137 nan nan nan\n",
        "138 nan nan nan\n",
        "139 nan nan nan\n",
        "140 nan nan nan\n",
        "141 nan nan nan\n",
        "142 nan nan nan\n",
        "143 nan nan nan\n",
        "144 nan nan nan\n",
        "145 nan nan nan\n",
        "146 nan nan nan\n",
        "147 nan nan nan\n",
        "148 nan nan nan\n",
        "149 nan nan nan\n",
        "150 nan nan nan\n",
        "151 nan nan nan\n",
        "152 nan nan nan\n",
        "153 nan nan nan\n",
        "154 nan nan nan\n",
        "155 nan nan nan\n",
        "156 nan nan nan\n",
        "157 nan nan nan\n",
        "158 nan nan nan\n",
        "159 nan 15.076 15.581\n",
        "160 nan nan nan\n",
        "161 nan nan nan\n",
        "162 nan nan nan\n",
        "163 nan nan nan\n",
        "164 nan nan nan\n",
        "165 nan nan nan\n",
        "166 nan 14.104 14.817\n",
        "167 nan nan nan\n",
        "168 nan nan nan\n",
        "169 nan nan nan\n",
        "170 nan nan nan\n",
        "171 nan nan nan\n",
        "172 nan nan nan\n",
        "173 nan nan nan\n",
        "174 nan nan nan\n",
        "175 nan nan nan\n",
        "176 nan nan nan\n",
        "177 nan nan nan\n",
        "178 nan nan nan\n",
        "179 nan nan nan\n",
        "180 nan nan nan\n",
        "181 nan nan nan\n",
        "182 nan nan nan\n",
        "183 nan nan nan\n",
        "184 nan nan nan\n",
        "185 nan nan nan\n",
        "186 nan nan nan\n",
        "187 nan nan nan\n",
        "188 nan nan nan\n",
        "189 nan nan nan\n",
        "190 nan nan nan\n",
        "191 nan nan nan\n",
        "192 nan nan nan\n",
        "193 nan nan nan\n",
        "194 nan nan nan\n",
        "195 nan 15.17 15.245\n",
        "196 nan nan nan\n",
        "197 nan nan nan\n",
        "198 nan nan nan\n",
        "199 nan nan nan\n",
        "200 nan nan nan\n",
        "201 nan nan nan\n",
        "202 nan nan nan\n",
        "203 nan nan nan\n",
        "204 nan nan nan\n",
        "205 nan 14.614 15.056\n",
        "206 nan nan nan\n",
        "207 nan nan nan\n",
        "208 nan nan nan\n",
        "209 nan nan nan\n",
        "210 nan nan nan\n",
        "211 nan nan nan\n",
        "212 nan nan nan\n",
        "213 nan nan nan\n",
        "214 nan nan nan\n",
        "215 nan nan nan\n",
        "216 nan nan nan\n",
        "217 nan nan nan\n",
        "218 nan nan nan\n",
        "219 nan nan nan\n",
        "220 nan nan nan\n",
        "221 nan nan nan\n",
        "222 nan nan nan\n",
        "223 nan nan nan\n",
        "224 nan nan nan\n",
        "225 nan nan nan\n",
        "226 nan nan nan\n",
        "227 nan nan nan\n",
        "228 nan nan nan\n",
        "229 nan nan nan\n",
        "230 nan nan nan\n",
        "231 nan nan nan\n",
        "232 nan nan nan\n",
        "233 nan nan nan\n",
        "234 nan nan nan\n",
        "235 nan nan nan\n",
        "236 nan nan nan\n",
        "237 nan nan nan\n",
        "238 nan nan nan\n",
        "239 nan nan nan\n",
        "240 nan nan nan\n",
        "241 nan nan nan\n",
        "242 nan nan nan\n",
        "243 nan nan nan\n",
        "244 nan nan nan\n",
        "245 nan nan nan\n",
        "246 nan nan nan\n",
        "247 nan nan nan\n",
        "248 nan nan nan\n",
        "249 nan nan nan\n",
        "250 nan nan nan\n",
        "251 nan nan nan\n",
        "252 nan nan nan\n",
        "253 nan nan nan\n",
        "254 nan nan nan\n",
        "255 nan nan nan\n",
        "256 nan nan nan\n",
        "257 nan nan nan\n",
        "258 nan nan nan\n",
        "259 nan 15.181 15.811\n",
        "260 nan nan nan\n",
        "261 nan nan nan\n",
        "262 nan nan nan\n",
        "263 nan nan nan\n",
        "264 nan nan nan\n",
        "265 nan nan nan\n",
        "266 nan 13.091 14.029\n",
        "267 nan nan nan\n",
        "268 nan nan nan\n",
        "269 nan nan nan\n",
        "270 nan 13.97 14.373\n"
       ]
      }
     ],
     "prompt_number": 59
    },
    {
     "cell_type": "code",
     "collapsed": false,
     "input": [
      "#_r|_RAJ2000|_DEJ2000|RAJ2000|DEJ2000|2MASS|Jmag|e_Jmag|Hmag|e_Hmag|Kmag|e_Kmag|Qflg|Rflg|Bflg|Cflg|Xflg|Aflg\n",
      "b = np.genfromtxt('weldrake_2MASS_results.tsv', delimiter='|', comments='#')\n",
      "b=np.delete(b,np.arange(len(b))[np.isnan(b[:,0])],0)"
     ],
     "language": "python",
     "metadata": {},
     "outputs": [],
     "prompt_number": 76
    },
    {
     "cell_type": "code",
     "collapsed": false,
     "input": [
      "plt.plot(range(b.shape[0]), b[:,6], label = 'Jmag', c='k')\n",
      "plt.plot(range(b.shape[0]), b[:,8], label = 'Hmag', c='g')\n",
      "plt.plot(range(b.shape[0]), b[:,10], label = 'Kmag', c='r')\n",
      "plt.gca().invert_yaxis()\n",
      "plt.legend(loc=1)\n",
      "plt.show()"
     ],
     "language": "python",
     "metadata": {},
     "outputs": [],
     "prompt_number": 138
    },
    {
     "cell_type": "code",
     "collapsed": false,
     "input": [
      "names = '_r|_RAJ2000|_DEJ2000|UCAC4|RAJ2000|DEJ2000|ePos|f.mag|of|db|pmRA|pmDE|Jmag|Kmag|Bmag|Vmag|rmag|imag|H|A|b|h|Z|B|L|N|S'\n",
      "#arcsec|deg|deg| |deg|deg|mas|mag| | |mas/yr|mas/yr|mag|mag|mag|mag|mag|mag| | | | | | | | |\n",
      "names = names.replace('|',',')"
     ],
     "language": "python",
     "metadata": {},
     "outputs": [],
     "prompt_number": 83
    },
    {
     "cell_type": "code",
     "collapsed": false,
     "input": [
      "c = np.genfromtxt('weldrake_UCAC4_results.tsv', delimiter='|', comments='#')\n",
      "c=np.delete(c,np.arange(len(c))[np.isnan(c[:,0])],0)"
     ],
     "language": "python",
     "metadata": {},
     "outputs": [],
     "prompt_number": 98
    },
    {
     "cell_type": "code",
     "collapsed": false,
     "input": [
      "np.where(names=='Vmag')[0]"
     ],
     "language": "python",
     "metadata": {},
     "outputs": [
      {
       "metadata": {},
       "output_type": "pyout",
       "prompt_number": 102,
       "text": [
        "array([], dtype=int64)"
       ]
      }
     ],
     "prompt_number": 102
    },
    {
     "cell_type": "code",
     "collapsed": false,
     "input": [
      "names"
     ],
     "language": "python",
     "metadata": {},
     "outputs": [
      {
       "metadata": {},
       "output_type": "pyout",
       "prompt_number": 103,
       "text": [
        "'_r,_RAJ2000,_DEJ2000,UCAC4,RAJ2000,DEJ2000,ePos,f.mag,of,db,pmRA,pmDE,Jmag,Kmag,Bmag,Vmag,rmag,imag,H,A,b,h,Z,B,L,N,S'"
       ]
      }
     ],
     "prompt_number": 103
    },
    {
     "cell_type": "code",
     "collapsed": false,
     "input": [
      "d = np.genfromtxt('weldrake_UCAC4_results_10as.tsv', delimiter='|', comments='#')\n",
      "d=np.delete(d,np.arange(len(d))[np.isnan(d[:,0])],0)"
     ],
     "language": "python",
     "metadata": {},
     "outputs": [],
     "prompt_number": 128
    },
    {
     "cell_type": "code",
     "collapsed": false,
     "input": [
      "d.shape[0]"
     ],
     "language": "python",
     "metadata": {},
     "outputs": [
      {
       "metadata": {},
       "output_type": "pyout",
       "prompt_number": 137,
       "text": [
        "36"
       ]
      }
     ],
     "prompt_number": 137
    },
    {
     "cell_type": "code",
     "collapsed": false,
     "input": [
      "plt.plot(range(d.shape[0]), d[:,12], label = 'Jmag', c='k')\n",
      "plt.plot(range(d.shape[0]), d[:,13], label = 'Kmag', c='g')\n",
      "plt.plot(range(d.shape[0]), d[:,14], label = 'Bmag', c='r')\n",
      "plt.plot(range(d.shape[0]), d[:,15], label = 'Vmag', c='b')\n",
      "plt.gca().invert_yaxis()\n",
      "plt.legend(loc=1)\n",
      "plt.show()"
     ],
     "language": "python",
     "metadata": {},
     "outputs": [],
     "prompt_number": 136
    },
    {
     "cell_type": "code",
     "collapsed": false,
     "input": [],
     "language": "python",
     "metadata": {},
     "outputs": []
    }
   ],
   "metadata": {}
  }
 ]
}