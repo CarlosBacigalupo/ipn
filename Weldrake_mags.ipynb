{
 "metadata": {
  "name": ""
 },
 "nbformat": 3,
 "nbformat_minor": 0,
 "worksheets": [
  {
   "cells": [
    {
     "cell_type": "code",
     "collapsed": false,
     "input": [
      "import numpy as np\n",
      "import pylab as plt\n",
      "import toolbox"
     ],
     "language": "python",
     "metadata": {},
     "outputs": [],
     "prompt_number": 26
    },
    {
     "cell_type": "code",
     "collapsed": false,
     "input": [
      "cd /Users/Carlos/Dropbox/PhD/Docs/My Docs/HERMES_ObsPlan_Aug14"
     ],
     "language": "python",
     "metadata": {},
     "outputs": [
      {
       "output_type": "stream",
       "stream": "stdout",
       "text": [
        "/Users/Carlos/Dropbox/PhD/Docs/My Docs/HERMES_ObsPlan_Aug14\n"
       ]
      }
     ],
     "prompt_number": 2
    },
    {
     "cell_type": "code",
     "collapsed": false,
     "input": [
      "#_r|_RAJ2000|_DEJ2000|RAJ2000|DEJ2000|pmRA|pmDE|Jmag|Kmag|b1mag|b2mag|r1mag|r2mag|imag|No|fl\n",
      "a = np.genfromtxt('weldrake_PPMXL_results.tsv', delimiter='|', comments='#')\n",
      "a=np.delete(a,np.arange(len(a))[np.isnan(a[:,0])],0)"
     ],
     "language": "python",
     "metadata": {},
     "outputs": [],
     "prompt_number": 8
    },
    {
     "cell_type": "code",
     "collapsed": false,
     "input": [
      "plt.plot(range(a.shape[0]), a[:,7], label = 'Jmag', c='k')\n",
      "plt.plot(range(a.shape[0]), a[:,8], label = 'Kmag', c='r')\n",
      "plt.plot(range(a.shape[0]), a[:,9], label = 'b1mag', c='g')\n",
      "plt.plot(range(a.shape[0]), a[:,10], label = 'b2mag', c='g')\n",
      "plt.gca().invert_yaxis()\n",
      "plt.legend(loc=1)\n",
      "plt.ylabel('mag')\n",
      "plt.xlabel('obj #')\n",
      "plt.title('PPMXL')\n",
      "plt.show()"
     ],
     "language": "python",
     "metadata": {},
     "outputs": [],
     "prompt_number": 9
    },
    {
     "cell_type": "code",
     "collapsed": false,
     "input": [
      "a[:,[3,4,10]][np.argsort(a[:,10])]"
     ],
     "language": "python",
     "metadata": {},
     "outputs": [
      {
       "metadata": {},
       "output_type": "pyout",
       "prompt_number": 37,
       "text": [
        "array([[  5.720458, -72.060861,  10.25    ],\n",
        "       [  6.512896, -72.0509  ,  13.51    ],\n",
        "       [  6.177335, -71.98995 ,  13.9     ],\n",
        "       [  6.275783, -72.17325 ,  14.54    ],\n",
        "       [  6.749598, -71.919378,  15.48    ],\n",
        "       [  6.046101, -72.454257,  15.56    ],\n",
        "       [  5.29779 , -72.016033,  15.75    ],\n",
        "       [  5.815656, -72.315017,  15.8     ],\n",
        "       [  6.150849, -71.955353,  15.92    ],\n",
        "       [  5.815593, -72.315035,  15.99    ],\n",
        "       [  6.536855, -72.117163,  16.22    ],\n",
        "       [  6.580732, -72.233896,  16.36    ],\n",
        "       [  5.377133, -71.775427,  16.46    ],\n",
        "       [  5.277898, -71.943765,  16.47    ],\n",
        "       [  6.679289, -72.255756,  16.49    ],\n",
        "       [  5.474329, -72.37316 ,  16.5     ],\n",
        "       [  6.150835, -71.955348,  16.63    ],\n",
        "       [  7.102865, -72.476954,  16.71    ],\n",
        "       [  6.73035 , -72.358601,  17.02    ],\n",
        "       [  6.98573 , -71.957401,  17.04    ],\n",
        "       [  6.911518, -72.362797,  17.15    ],\n",
        "       [  6.242509, -72.369875,  17.21    ],\n",
        "       [  5.866747, -72.443497,  17.23    ],\n",
        "       [  6.911506, -72.362801,  17.24    ],\n",
        "       [  6.242246, -72.369786,  17.28    ],\n",
        "       [  6.271127, -72.449618,  17.44    ],\n",
        "       [  6.046149, -72.454187,  17.5     ],\n",
        "       [  5.547766, -71.988303,  17.6     ],\n",
        "       [  7.271852, -71.72393 ,  17.64    ],\n",
        "       [  6.675858, -71.673443,  17.7     ],\n",
        "       [  4.588392, -72.440185,  17.7     ],\n",
        "       [  7.091325, -72.358001,  17.72    ],\n",
        "       [  5.297871, -72.01602 ,  17.82    ],\n",
        "       [  5.071686, -71.957374,  18.2     ],\n",
        "       [  6.408965, -72.277155,  18.38    ],\n",
        "       [  6.242953, -71.70363 ,  18.49    ],\n",
        "       [  6.204659, -72.445051,  18.49    ],\n",
        "       [  6.736088, -72.169926,  18.51    ],\n",
        "       [  5.239456, -72.201128,  18.57    ],\n",
        "       [  6.298264, -71.726527,  18.64    ],\n",
        "       [  7.216815, -72.158582,  18.77    ],\n",
        "       [  6.58076 , -72.233824,  18.78    ],\n",
        "       [  7.289308, -71.857311,  18.8     ],\n",
        "       [  7.063743, -71.972668,  18.9     ],\n",
        "       [  7.230201, -71.998605,  18.97    ],\n",
        "       [  7.089056, -71.67541 ,  19.      ],\n",
        "       [  4.706438, -72.160672,  19.01    ],\n",
        "       [  7.131746, -72.035197,  19.02    ],\n",
        "       [  7.260244, -71.982671,  19.03    ],\n",
        "       [  7.211001, -71.724253,  19.05    ],\n",
        "       [  7.217723, -72.158666,  19.08    ],\n",
        "       [  6.189755, -72.409256,  19.08    ],\n",
        "       [  7.088474, -71.72794 ,  19.1     ],\n",
        "       [  7.066406, -71.770058,  19.21    ],\n",
        "       [  7.230442, -71.998976,  19.33    ],\n",
        "       [  6.890269, -72.077259,  19.42    ],\n",
        "       [  4.707291, -72.160797,  19.44    ],\n",
        "       [  5.548294, -71.988426,  19.48    ],\n",
        "       [  7.232031, -72.330962,  19.48    ],\n",
        "       [  7.063848, -72.103189,  19.5     ],\n",
        "       [  7.114205, -71.97573 ,  19.56    ],\n",
        "       [  6.531175, -72.411055,  19.63    ],\n",
        "       [  7.167828, -72.401105,  19.67    ],\n",
        "       [  6.853929, -72.394177,  19.69    ],\n",
        "       [  5.375809, -71.775396,  19.75    ],\n",
        "       [  6.735912, -72.368835,  20.21    ],\n",
        "       [  6.183376, -71.794081,  20.22    ],\n",
        "       [  7.232505, -72.330526,  20.27    ],\n",
        "       [  6.98772 , -72.365688,  20.29    ],\n",
        "       [  5.547784, -71.988296,  20.55    ],\n",
        "       [  6.205646, -71.938824,  21.08    ],\n",
        "       [  6.405869, -71.934397,  21.83    ],\n",
        "       [  6.316376, -71.935164,        nan],\n",
        "       [  6.543546, -72.185619,        nan],\n",
        "       [  6.296437, -72.204066,        nan],\n",
        "       [  6.150806, -71.955345,        nan],\n",
        "       [  6.132323, -72.158199,        nan],\n",
        "       [  6.392228, -72.166212,        nan],\n",
        "       [  5.69783 , -72.221446,        nan]])"
       ]
      }
     ],
     "prompt_number": 37
    },
    {
     "cell_type": "code",
     "collapsed": false,
     "input": [
      "#_r|_RAJ2000|_DEJ2000|RAJ2000|DEJ2000|2MASS|Jmag|e_Jmag|Hmag|e_Hmag|Kmag|e_Kmag|Qflg|Rflg|Bflg|Cflg|Xflg|Aflg\n",
      "b = np.genfromtxt('weldrake_2MASS_results.tsv', delimiter='|', comments='#')\n",
      "b=np.delete(b,np.arange(len(b))[np.isnan(b[:,0])],0)"
     ],
     "language": "python",
     "metadata": {},
     "outputs": [],
     "prompt_number": 16
    },
    {
     "cell_type": "code",
     "collapsed": false,
     "input": [
      "plt.plot(range(b.shape[0]), b[:,6], label = 'Jmag', c='k')\n",
      "plt.plot(range(b.shape[0]), b[:,8], label = 'Hmag', c='g')\n",
      "plt.plot(range(b.shape[0]), b[:,10], label = 'Kmag', c='r')\n",
      "plt.gca().invert_yaxis()\n",
      "plt.legend(loc=1)\n",
      "plt.ylabel('mag')\n",
      "plt.xlabel('obj #')\n",
      "plt.title('2MASS')\n",
      "plt.show()"
     ],
     "language": "python",
     "metadata": {},
     "outputs": [],
     "prompt_number": 17
    },
    {
     "cell_type": "code",
     "collapsed": false,
     "input": [
      "b[:,[3,4,10]][np.argsort(b[:,10])]"
     ],
     "language": "python",
     "metadata": {},
     "outputs": [
      {
       "metadata": {},
       "output_type": "pyout",
       "prompt_number": 18,
       "text": [
        "array([[  4.588402, -72.440201,  11.569   ],\n",
        "       [  6.271118, -72.449615,  11.655   ],\n",
        "       [  5.866778, -72.443497,  12.189   ],\n",
        "       [  6.730349, -72.358612,  12.222   ],\n",
        "       [  6.046111, -72.454269,  12.448   ],\n",
        "       [  6.580738, -72.233902,  12.499   ],\n",
        "       [  6.5128  , -72.050911,  12.649   ],\n",
        "       [  6.275721, -72.173241,  12.936   ],\n",
        "       [  5.547774, -71.988297,  13.041   ],\n",
        "       [  6.150807, -71.955338,  13.091   ],\n",
        "       [  6.408962, -72.277153,  13.092   ],\n",
        "       [  6.911502, -72.362801,  13.137   ],\n",
        "       [  5.29772 , -72.016052,  13.438   ],\n",
        "       [  5.67025 , -72.156265,  13.646   ],\n",
        "       [  6.177209, -71.989922,  13.83    ],\n",
        "       [  5.697769, -72.221428,  13.97    ],\n",
        "       [  6.132332, -72.158195,  14.104   ],\n",
        "       [  6.749583, -71.919373,  14.197   ],\n",
        "       [  7.063729, -71.972664,  14.354   ],\n",
        "       [  6.985726, -71.957397,  14.497   ],\n",
        "       [  6.39214 , -72.166199,  14.614   ],\n",
        "       [  7.102856, -72.476952,  14.991   ],\n",
        "       [  6.551596, -72.037064,  15.024   ],\n",
        "       [  6.296422, -72.204056,  15.076   ],\n",
        "       [  6.536894, -72.117149,  15.134   ],\n",
        "       [  6.543635, -72.185616,  15.17    ],\n",
        "       [  6.316371, -71.935158,  15.181   ],\n",
        "       [  6.405842, -71.934402,  15.208   ],\n",
        "       [  6.679297, -72.255753,  15.289   ],\n",
        "       [  5.377106, -71.775421,  15.337   ],\n",
        "       [  5.815642, -72.31501 ,  15.396   ],\n",
        "       [  7.09122 , -72.358017,  15.667   ],\n",
        "       [  6.242353, -72.36982 ,  15.805   ],\n",
        "       [  6.675795, -71.673462,  16.677   ]])"
       ]
      }
     ],
     "prompt_number": 18
    },
    {
     "cell_type": "code",
     "collapsed": false,
     "input": [
      "#'_r|_RAJ2000|_DEJ2000|UCAC4|RAJ2000|DEJ2000|ePos|f.mag|of|db|pmRA|pmDE|Jmag|Kmag|Bmag|Vmag|rmag|imag|H|A|b|h|Z|B|L|N|S'\n",
      "c = np.genfromtxt('weldrake_UCAC4_results.tsv', delimiter='|', comments='#')\n",
      "c=np.delete(c,np.arange(len(c))[np.isnan(c[:,0])],0)"
     ],
     "language": "python",
     "metadata": {},
     "outputs": [],
     "prompt_number": 19
    },
    {
     "cell_type": "code",
     "collapsed": false,
     "input": [
      "d = np.genfromtxt('weldrake_UCAC4_results_10as.tsv', delimiter='|', comments='#')\n",
      "d=np.delete(d,np.arange(len(d))[np.isnan(d[:,0])],0)"
     ],
     "language": "python",
     "metadata": {},
     "outputs": [],
     "prompt_number": 20
    },
    {
     "cell_type": "code",
     "collapsed": false,
     "input": [
      "plt.plot(range(d.shape[0]), d[:,12], label = 'Jmag', c='k')\n",
      "plt.plot(range(d.shape[0]), d[:,13], label = 'Kmag', c='g')\n",
      "plt.plot(range(d.shape[0]), d[:,14], label = 'Bmag', c='r')\n",
      "plt.plot(range(d.shape[0]), d[:,15], label = 'Vmag', c='b')\n",
      "plt.gca().invert_yaxis()\n",
      "plt.legend(loc=1)\n",
      "plt.ylabel('mag')\n",
      "plt.xlabel('obj #')\n",
      "plt.title('UCAC4')\n",
      "plt.show()"
     ],
     "language": "python",
     "metadata": {},
     "outputs": [],
     "prompt_number": 24
    },
    {
     "cell_type": "code",
     "collapsed": false,
     "input": [
      "c[:,[4,5,13]][np.argsort(c[:,13])]"
     ],
     "language": "python",
     "metadata": {},
     "outputs": [
      {
       "metadata": {},
       "output_type": "pyout",
       "prompt_number": 25,
       "text": [
        "array([[  6.2710777, -72.4496292,  11.655    ],\n",
        "       [  5.8668745, -72.4434912,  12.189    ],\n",
        "       [  6.7304277, -72.3586378,  12.222    ],\n",
        "       [  6.0461842, -72.4542481,  12.448    ],\n",
        "       [  6.5805468, -72.2339528,  12.499    ],\n",
        "       [  6.5127945, -72.0508667,  12.649    ],\n",
        "       [  6.2758153, -72.1731867,  12.936    ],\n",
        "       [  6.1509021, -71.9553264,  13.091    ],\n",
        "       [  6.9114074, -72.3628967,  13.137    ],\n",
        "       [  5.2975798, -72.0159292,  13.438    ],\n",
        "       [  6.1774109, -71.9899406,  13.83     ],\n",
        "       [  5.69779  , -72.2214264,  13.97     ],\n",
        "       [  6.132768 , -72.1581698,  14.104    ],\n",
        "       [  6.7495618, -71.9193403,  14.197    ],\n",
        "       [  6.39223  , -72.1661698,  14.614    ],\n",
        "       [  6.2965995, -72.2040275,  15.076    ],\n",
        "       [  6.5368924, -72.1171042,  15.134    ],\n",
        "       [  6.5435833, -72.1855614,  15.17     ],\n",
        "       [  5.8158659, -72.3150723,  15.396    ]])"
       ]
      }
     ],
     "prompt_number": 25
    },
    {
     "cell_type": "code",
     "collapsed": false,
     "input": [
      "#selected staras for ucac3 search\n",
      "#PPMXL\n",
      "# [  5.720458, -72.060861,  10.25    ]\n",
      "print toolbox.dec2sex(005.7335203/15), toolbox.dec2sex(-72.0577314)\n",
      "\n",
      "\n",
      "#2MASS\n",
      "#[  4.588402, -72.440201,  11.569   ] #not found\n",
      "#[  6.271118, -72.449615,  11.655   ] \n",
      "print toolbox.dec2sex(006.2710250/15), toolbox.dec2sex(-72.4496320)\n",
      "\n",
      "#ucac4\n",
      "# [  6.2710777, -72.4496292,  11.655 ]\n",
      "print toolbox.dec2sex(006.2710250/15), toolbox.dec2sex(-72.4496320)\n",
      "\t"
     ],
     "language": "python",
     "metadata": {},
     "outputs": [
      {
       "output_type": "stream",
       "stream": "stdout",
       "text": [
        "(0.0, 22.0, 56.044872000000083) (-72.0, 3.0, 27.833039999979974)\n",
        "(0.0, 25.0, 5.0459999999999638) (-72.0, 26.0, 58.675199999978531)\n",
        "(0.0, 25.0, 5.0459999999999638) (-72.0, 26.0, 58.675199999978531)\n"
       ]
      }
     ],
     "prompt_number": 32
    },
    {
     "cell_type": "code",
     "collapsed": false,
     "input": [],
     "language": "python",
     "metadata": {},
     "outputs": []
    }
   ],
   "metadata": {}
  }
 ]
}