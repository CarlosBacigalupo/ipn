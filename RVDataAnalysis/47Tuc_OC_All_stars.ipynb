{
 "cells": [
  {
   "cell_type": "code",
   "execution_count": 1,
   "metadata": {
    "collapsed": false
   },
   "outputs": [
    {
     "name": "stderr",
     "output_type": "stream",
     "text": [
      "/Users/Carlos/Library/Enthought/Canopy_64bit/User/lib/python2.7/site-packages/IPython/kernel/__init__.py:13: ShimWarning: The `IPython.kernel` package has been deprecated. You should import from ipykernel or jupyter_client instead.\n",
      "  \"You should import from ipykernel or jupyter_client instead.\", ShimWarning)\n"
     ]
    }
   ],
   "source": [
    "import glob\n",
    "import pickle\n",
    "import numpy as np\n",
    "import pandas as pd\n",
    "from astropy.coordinates import SkyCoord\n",
    "import astropy.units as u"
   ]
  },
  {
   "cell_type": "code",
   "execution_count": 2,
   "metadata": {
    "collapsed": true
   },
   "outputs": [],
   "source": [
    "def f1(x):\n",
    "    return '%5.2f' % x"
   ]
  },
  {
   "cell_type": "code",
   "execution_count": 3,
   "metadata": {
    "collapsed": false
   },
   "outputs": [
    {
     "name": "stdout",
     "output_type": "stream",
     "text": [
      "/Users/Carlos/Documents/HERMES/reductions/6.5/47Tuc_core/obj\n"
     ]
    }
   ],
   "source": [
    "cd /Users/Carlos/Documents/HERMES/reductions/6.5/47Tuc_core/obj/"
   ]
  },
  {
   "cell_type": "code",
   "execution_count": 8,
   "metadata": {
    "collapsed": false
   },
   "outputs": [
    {
     "data": {
      "text/plain": [
       "'0'"
      ]
     },
     "execution_count": 8,
     "metadata": {},
     "output_type": "execute_result"
    }
   ],
   "source": [
    "filehandler = open('Field01.obj', 'r')\n",
    "thisStar = pickle.load(filehandler)\n",
    "thisCamera= thisStar.exposures.cameras[0]\n",
    "thisCamera.fileNames\n",
    "thisStar.exposures.plates[10][-1]\n",
    "# print np.vstack((thisStar.exposures.pivots,np.nansum(thisCamera.red_fluxes,axis=1))).transpose()\n",
    "# print thisStar.exposures.p"
   ]
  },
  {
   "cell_type": "code",
   "execution_count": 5,
   "metadata": {
    "collapsed": true
   },
   "outputs": [],
   "source": [
    "\n",
    "outFileNames = np.load('/Users/Carlos/Documents/ipn/npy/outFileNames.npy')\n",
    "# outObjects = np.load('npy/outObjects.npy')\n",
    "# outPlates = np.load('npy/outPlates.npy')\n",
    "outMJD_Exp = np.load('/Users/Carlos/Documents/ipn/npy/outMJD_Exp.npy')\n",
    "\n",
    "# outFileNames = np.delete(outFileNames,86)\n",
    "# outObjects = np.delete(outObjects,86)\n",
    "# outPlates = np.delete(outPlates,86)\n",
    "# outMJD_Exp = np.delete(outMJD_Exp,86, axis = 0)\n",
    "\n",
    "ordIdx = np.argsort(outMJD_Exp[:,0])\n",
    "\n",
    "outFileNames = outFileNames[ordIdx]\n",
    "outMJD_Exp = outMJD_Exp[ordIdx]\n",
    "\n"
   ]
  },
  {
   "cell_type": "code",
   "execution_count": 6,
   "metadata": {
    "collapsed": false
   },
   "outputs": [
    {
     "name": "stdout",
     "output_type": "stream",
     "text": [
      "\\begin{tabular}{llllllll}\n",
      "\\toprule\n",
      "  ID &        Name &    Vmag &      RA(hms) &       RA(dms) &        RA(deg) &       DEC(dms) &        DEC(deg) \\\\\n",
      "\\midrule\n",
      "   1 &     Brght01 &   12.01 &  0h20m22.80s &      5d05m42s &          5.095 &   -72d01m13.6s &  -72.0204444444 \\\\\n",
      "   2 &     Brght02 &   10.56 &  0h20m45.60s &      5d11m24s &           5.19 &   -72d04m39.1s &  -72.0775277778 \\\\\n",
      "   3 &     Brght03 &    11.8 &  0h21m43.70s &    5d25m55.5s &  5.43208333333 &   -72d05m16.3s &  -72.0878611111 \\\\\n",
      "   4 &     Brght04 &   11.27 &  0h22m 1.40s &      5d30m21s &  5.50583333333 &   -72d13m18.3s &       -72.22175 \\\\\n",
      "   5 &     Brght05 &   10.35 &  0h22m 5.70s &    5d31m25.5s &        5.52375 &   -72d03m56.6s &  -72.0657222222 \\\\\n",
      "   6 &     Brght06 &    9.95 &  0h22m 5.90s &    5d31m28.5s &  5.52458333333 &   -72d07m48.9s &       -72.13025 \\\\\n",
      "   7 &     Brght07 &   11.36 &  0h22m 7.20s &      5d31m48s &           5.53 &   -72d00m32.9s &  -72.0091388889 \\\\\n",
      "   8 &     Brght08 &   11.48 &  0h22m10.00s &      5d32m30s &  5.54166666667 &   -72d03m19.5s &  -72.0554166667 \\\\\n",
      "   9 &     Brght09 &    11.4 &  0h22m19.60s &      5d34m54s &  5.58166666667 &   -71d54m38.4s &  -71.9106666667 \\\\\n",
      "  10 &     Brght10 &   10.49 &  0h22m23.00s &      5d35m45s &  5.59583333333 &     -72d07m05s &  -72.1180555556 \\\\\n",
      "  11 &     Brght11 &   10.76 &  0h22m40.40s &      5d40m06s &  5.66833333333 &   -72d08m54.8s &  -72.1485555556 \\\\\n",
      "  12 &     Brght12 &   12.99 &  0h22m43.00s &      5d40m45s &  5.67916666667 &   -71d59m36.2s &  -71.9933888889 \\\\\n",
      "  13 &     Brght13 &   10.85 &  0h22m51.80s &      5d42m57s &  5.71583333333 &   -72d14m37.7s &  -72.2438055556 \\\\\n",
      "  14 &     Brght14 &   11.57 &  0h22m54.10s &    5d43m31.5s &  5.72541666667 &     -72d05m17s &  -72.0880555556 \\\\\n",
      "  15 &     Brght15 &   11.38 &  0h23m 7.90s &    5d46m58.5s &  5.78291666667 &   -72d00m57.2s &  -72.0158888889 \\\\\n",
      "  16 &     Brght16 &   10.93 &  0h23m12.90s &    5d48m13.5s &        5.80375 &     -72d10m19s &  -72.1719444444 \\\\\n",
      "  17 &     Brght17 &   11.71 &  0h23m16.20s &      5d49m03s &         5.8175 &     -72d07m48s &          -72.13 \\\\\n",
      "  18 &     Brght18 &   11.67 &  0h23m20.90s &    5d50m13.5s &  5.83708333333 &   -72d05m18.4s &  -72.0884444444 \\\\\n",
      "  19 &     Brght19 &   11.39 &  0h23m21.80s &      5d50m27s &  5.84083333333 &   -71d55m57.1s &  -71.9325277778 \\\\\n",
      "  20 &     Brght20 &   10.16 &  0h23m22.80s &      5d50m42s &          5.845 &   -72d01m03.8s &  -72.0177222222 \\\\\n",
      "  21 &     Brght22 &   11.95 &  0h23m25.50s &    5d51m22.5s &        5.85625 &   -72d13m55.1s &  -72.2319722222 \\\\\n",
      "  22 &     Brght23 &    11.1 &  0h23m26.50s &    5d51m37.5s &  5.86041666667 &   -72d06m16.6s &  -72.1046111111 \\\\\n",
      "  23 &     Brght24 &   11.46 &  0h23m29.30s &    5d52m19.5s &  5.87208333333 &   -72d04m48.3s &  -72.0800833333 \\\\\n",
      "  24 &     Brght25 &   11.33 &  0h23m33.90s &    5d53m28.5s &        5.89125 &   -72d03m28.5s &  -72.0579166667 \\\\\n",
      "  25 &     Brght27 &   10.55 &  0h23m35.10s &    5d53m46.5s &        5.89625 &   -72d01m28.9s &  -72.0246944444 \\\\\n",
      "  26 &     Brght28 &   11.81 &  0h23m37.20s &      5d54m18s &          5.905 &   -72d06m37.6s &  -72.1104444444 \\\\\n",
      "  27 &     Brght31 &   10.58 &  0h23m41.80s &      5d55m27s &  5.92416666667 &   -72d04m17.9s &  -72.0716388889 \\\\\n",
      "  28 &     Brght32 &    11.7 &  0h23m42.80s &      5d55m42s &  5.92833333333 &   -72d06m10.8s &         -72.103 \\\\\n",
      "  29 &     Brght33 &   11.86 &  0h23m46.00s &      5d56m30s &  5.94166666667 &   -71d57m37.3s &  -71.9603611111 \\\\\n",
      "  30 &     Brght35 &    8.84 &  0h23m47.40s &      5d56m51s &         5.9475 &   -72d06m52.7s &  -72.1146388889 \\\\\n",
      "  31 &     Brght36 &   11.78 &  0h23m48.90s &    5d57m13.5s &        5.95375 &   -72d07m33.8s &  -72.1260555556 \\\\\n",
      "  32 &     Brght37 &    9.49 &  0h23m49.00s &      5d57m15s &  5.95416666667 &     -72d03m13s &  -72.0536111111 \\\\\n",
      "  33 &     Brght39 &    9.32 &  0h23m51.20s &      5d57m48s &  5.96333333333 &   -72d03m49.1s &  -72.0636388889 \\\\\n",
      "  34 &     Brght40 &   10.79 &  0h23m54.40s &      5d58m36s &  5.97666666667 &   -71d58m35.6s &  -71.9765555556 \\\\\n",
      "  35 &     Brght42 &    9.31 &  0h23m55.60s &      5d58m54s &  5.98166666667 &   -71d57m28.4s &  -71.9578888889 \\\\\n",
      "  36 &     Brght44 &   10.76 &  0h23m58.70s &    5d59m40.5s &  5.99458333333 &   -71d54m10.4s &  -71.9028888889 \\\\\n",
      "  37 &     Brght45 &    9.81 &  0h24m 3.40s &      6d00m51s &  6.01416666667 &   -71d55m47.4s &  -71.9298333333 \\\\\n",
      "  38 &     Brght48 &    10.1 &  0h24m 5.10s &    6d01m16.5s &        6.02125 &   -72d00m03.3s &  -72.0009166667 \\\\\n",
      "  39 &     Brght50 &    9.93 &  0h24m10.50s &    6d02m37.5s &        6.04375 &   -72d11m16.5s &  -72.1879166667 \\\\\n",
      "  40 &     Brght51 &   11.82 &  0h24m12.50s &    6d03m07.5s &  6.05208333333 &   -71d55m15.8s &  -71.9210555556 \\\\\n",
      "  41 &     Brght53 &   10.84 &  0h24m16.90s &    6d04m13.5s &  6.07041666667 &   -72d11m49.6s &  -72.1971111111 \\\\\n",
      "  42 &     Brght54 &   12.24 &  0h24m19.10s &    6d04m46.5s &  6.07958333333 &     -72d08m36s &  -72.1433333333 \\\\\n",
      "  43 &     Brght55 &    8.98 &  0h24m22.50s &    6d05m37.5s &        6.09375 &   -71d53m28.7s &  -71.8913055556 \\\\\n",
      "  44 &     Brght56 &   11.96 &  0h24m35.60s &      6d08m54s &  6.14833333333 &   -72d14m45.2s &  -72.2458888889 \\\\\n",
      "  45 &     Brght57 &    11.1 &  0h24m45.10s &    6d11m16.5s &  6.18791666667 &   -72d08m25.2s &  -72.1403333333 \\\\\n",
      "  46 &     Brght58 &   11.44 &  0h24m45.80s &      6d11m27s &  6.19083333333 &   -72d09m10.4s &  -72.1528888889 \\\\\n",
      "  47 &     Brght59 &   13.17 &  0h24m54.50s &    6d13m37.5s &  6.22708333333 &   -72d00m06.2s &  -72.0017222222 \\\\\n",
      "  48 &     Brght60 &   10.62 &  0h25m 0.60s &      6d15m09s &         6.2525 &   -71d55m58.6s &  -71.9329444444 \\\\\n",
      "  49 &     Brght61 &   11.75 &  0h25m 1.00s &      6d15m15s &  6.25416666667 &   -72d02m22.1s &  -72.0394722222 \\\\\n",
      "  50 &     Brght62 &   10.72 &  0h25m 3.60s &      6d15m54s &          6.265 &     -72d05m32s &  -72.0922222222 \\\\\n",
      "  51 &     Brght64 &   11.76 &  0h25m 7.20s &      6d16m48s &           6.28 &   -72d00m41.6s &  -72.0115555556 \\\\\n",
      "  52 &     Brght65 &   11.01 &  0h25m10.30s &    6d17m34.5s &  6.29291666667 &   -71d58m28.5s &  -71.9745833333 \\\\\n",
      "  53 &     Brght67 &     8.9 &  0h25m20.60s &      6d20m09s &  6.33583333333 &   -72d06m39.9s &  -72.1110833333 \\\\\n",
      "  54 &     Brght69 &   11.99 &  0h25m23.70s &    6d20m55.5s &        6.34875 &   -72d12m07.7s &  -72.2021388889 \\\\\n",
      "  55 &     Brght71 &   11.32 &  0h25m23.00s &      6d20m45s &  6.34583333333 &   -71d54m36.6s &  -71.9101666667 \\\\\n",
      "  56 &     Brght72 &   11.72 &  0h25m27.30s &    6d21m49.5s &        6.36375 &   -72d15m06.6s &  -72.2518333333 \\\\\n",
      "  57 &     Brght73 &   11.63 &  0h25m29.90s &    6d22m28.5s &  6.37458333333 &     -72d02m18s &  -72.0383333333 \\\\\n",
      "  58 &     Brght74 &   12.35 &  0h25m31.50s &    6d22m52.5s &        6.38125 &   -72d14m37.8s &  -72.2438333333 \\\\\n",
      "  59 &     Brght75 &   11.76 &  0h25m34.30s &    6d23m34.5s &  6.39291666667 &   -71d57m35.3s &  -71.9598055556 \\\\\n",
      "  60 &     Brght76 &   10.11 &  0h25m35.70s &    6d23m55.5s &        6.39875 &   -72d04m08.1s &  -72.0689166667 \\\\\n",
      "  61 &     Brght77 &    9.21 &  0h25m44.00s &      6d26m00s &  6.43333333333 &   -72d06m50.7s &  -72.1140833333 \\\\\n",
      "  62 &     Brght78 &   11.42 &  0h25m54.50s &    6d28m37.5s &  6.47708333333 &   -72d01m49.1s &  -72.0303055556 \\\\\n",
      "  63 &     Brght79 &   11.58 &  0h25m57.50s &    6d29m22.5s &  6.48958333333 &   -72d07m52.8s &  -72.1313333333 \\\\\n",
      "  64 &     Brght80 &   10.77 &  0h25m59.60s &      6d29m54s &  6.49833333333 &     -72d04m31s &  -72.0752777778 \\\\\n",
      "  65 &     Brght81 &   11.44 &  0h24m25.00s &      6d06m15s &  6.10416666667 &   -72d02m45.8s &  -72.0460555556 \\\\\n",
      "  66 &     Brght83 &   11.14 &  0h24m42.00s &      6d10m30s &          6.175 &   -72d03m13.6s &  -72.0537777778 \\\\\n",
      "  67 &     Brght85 &   11.17 &  0h23m43.20s &      5d55m48s &           5.93 &   -72d02m41.7s &  -72.0449166667 \\\\\n",
      "  68 &     Brght86 &   11.36 &  0h23m57.60s &      5d59m24s &           5.99 &   -72d10m38.9s &  -72.1774722222 \\\\\n",
      "  69 &     Brght87 &   11.09 &  0h24m15.80s &      6d03m57s &  6.06583333333 &   -72d00m41.4s &        -72.0115 \\\\\n",
      "  70 &     Brght88 &   11.39 &  0h24m31.40s &      6d07m51s &  6.13083333333 &   -72d01m25.3s &  -72.0236944444 \\\\\n",
      "  71 &     Brght89 &   12.07 &  0h25m16.10s &    6d19m01.5s &  6.31708333333 &   -72d01m35.9s &  -72.0266388889 \\\\\n",
      "  72 &     Brght90 &   11.36 &  0h20m53.70s &    5d13m25.5s &        5.22375 &   -72d13m36.1s &  -72.2266944444 \\\\\n",
      "  73 &  N104-S1070 &  13.892 &  0h22m19.70s &   5d34m55.53s &  5.58209166667 &  -72d14m02.91s &  -72.2341416667 \\\\\n",
      "  74 &  N104-S1084 &  13.519 &  0h22m25.59s &   5d36m23.88s &  5.60663333333 &  -71d53m22.24s &  -71.8895111111 \\\\\n",
      "  75 &  N104-S1213 &  13.276 &  0h23m10.75s &   5d47m41.25s &  5.79479166667 &  -71d56m01.03s &  -71.9336194444 \\\\\n",
      "  76 &  N104-S1406 &  13.852 &  0h23m51.17s &  5d57m47.565s &      5.9632125 &  -71d54m51.13s &  -71.9142027778 \\\\\n",
      "  77 &  N104-S1414 &  13.928 &  0h23m52.42s &  5d58m06.345s &  5.96842916667 &   -71d55m50.1s &  -71.9305833333 \\\\\n",
      "  78 &  N104-S1479 &  13.853 &  0h24m19.62s &   6d04m54.24s &  6.08173333333 &  -71d57m14.22s &       -71.95395 \\\\\n",
      "  79 &  N104-S1481 &  13.536 &  0h24m22.49s &  6d05m37.395s &  6.09372083333 &  -72d15m10.26s &       -72.25285 \\\\\n",
      "  80 &  N104-S1490 &  13.848 &  0h24m31.65s &   6d07m54.69s &  6.13185833333 &  -72d15m52.44s &  -72.2645666667 \\\\\n",
      "  81 &  N104-S1502 &  13.982 &  0h24m38.89s &  6d09m43.395s &  6.16205416667 &   -72d10m24.2s &  -72.1733888889 \\\\\n",
      "  82 &  N104-S1507 &  13.926 &  0h24m40.04s &  6d10m00.525s &      6.1668125 &  -71d55m45.02s &  -71.9291722222 \\\\\n",
      "  83 &  N104-S1525 &  13.816 &  0h24m48.09s &   6d12m01.29s &  6.20035833333 &  -72d12m13.77s &      -72.203825 \\\\\n",
      "  84 &  N104-S1526 &  13.944 &  0h24m48.12s &  6d12m01.755s &      6.2004875 &  -71d58m20.85s &  -71.9724583333 \\\\\n",
      "  85 &  N104-S1532 &  13.226 &  0h24m50.25s &  6d12m33.795s &      6.2093875 &  -72d12m48.96s &        -72.2136 \\\\\n",
      "  86 &  N104-S1553 &  13.905 &  0h24m59.03s &   6d14m45.51s &       6.245975 &  -72d07m48.33s &  -72.1300916667 \\\\\n",
      "  87 &  N104-S1604 &  13.716 &  0h25m20.10s &   6d20m01.47s &  6.33374166667 &  -72d09m10.88s &  -72.1530222222 \\\\\n",
      "  88 &  N104-S1605 &  13.914 &  0h25m19.44s &   6d19m51.57s &  6.33099166667 &  -71d56m13.06s &  -71.9369611111 \\\\\n",
      "  89 &  N104-S1625 &  13.366 &  0h25m25.11s &  6d21m16.575s &  6.35460416667 &  -71d58m51.68s &  -71.9810222222 \\\\\n",
      "  90 &  N104-S1636 &  13.875 &  0h25m28.64s &  6d22m09.525s &      6.3693125 &  -72d01m20.08s &  -72.0222444444 \\\\\n",
      "  91 &  N104-S1667 &  13.201 &  0h25m37.12s &    6d24m16.8s &  6.40466666667 &  -72d12m02.11s &  -72.2005861111 \\\\\n",
      "  92 &  N104-S1697 &  13.781 &  0h25m45.60s &   6d26m23.97s &  6.43999166667 &  -72d00m40.32s &        -72.0112 \\\\\n",
      "  93 &  N104-S1711 &  13.697 &  0h25m51.85s &  6d27m57.675s &  6.46602083333 &   -71d56m43.4s &  -71.9453888889 \\\\\n",
      "  94 &  N104-S1751 &  13.919 &  0h26m 3.80s &   6d30m57.03s &  6.51584166667 &  -72d12m18.15s &  -72.2050416667 \\\\\n",
      "  95 &  N104-S1779 &  13.734 &  0h26m 7.61s &  6d31m54.075s &      6.5316875 &  -71d58m26.31s &      -71.973975 \\\\\n",
      "  96 &  N104-S1800 &  13.521 &  0h26m12.77s &  6d33m11.475s &      6.5531875 &  -72d00m06.82s &  -72.0018944444 \\\\\n",
      "  97 &  N104-S1844 &  13.616 &  0h26m25.14s &  6d36m17.115s &  6.60475416667 &  -71d57m06.54s &  -71.9518166667 \\\\\n",
      "  98 &  N104-S1849 &  13.737 &  0h26m26.28s &  6d36m34.155s &      6.6094875 &  -72d00m54.66s &  -72.0151833333 \\\\\n",
      "  99 &  N104-S2203 &  13.988 &  0h25m 5.27s &  6d16m19.065s &      6.2719625 &  -72d03m44.74s &  -72.0624277778 \\\\\n",
      " 100 &  N104-S2214 &  13.233 &  0h25m16.82s &  6d19m12.315s &      6.3200875 &  -72d04m31.88s &  -72.0755222222 \\\\\n",
      " 101 &  N104-S2285 &  13.827 &  0h20m57.50s &  5d14m22.545s &  5.23959583333 &  -72d11m44.39s &  -72.1956638889 \\\\\n",
      " 102 &  N104-S2317 &  13.856 &  0h21m24.20s &   5d21m02.94s &  5.35081666667 &  -72d09m06.31s &  -72.1517527778 \\\\\n",
      " 103 &  N104-S2328 &  13.853 &  0h21m34.42s &   5d23m36.27s &  5.39340833333 &  -72d08m53.44s &  -72.1481777778 \\\\\n",
      " 104 &  N104-S2329 &  13.009 &  0h21m34.87s &   5d23m43.02s &  5.39528333333 &  -72d08m25.76s &  -72.1404888889 \\\\\n",
      " 105 &  N104-S2333 &  13.775 &  0h21m37.77s &   5d24m26.49s &  5.40735833333 &  -72d12m59.48s &  -72.2165222222 \\\\\n",
      " 106 &  N104-S2474 &   13.57 &  0h25m53.66s &   6d28m24.84s &  6.47356666667 &   -71d52m07.3s &  -71.8686944444 \\\\\n",
      " 107 &  N104-S2494 &   13.92 &  0h26m30.16s &  6d37m32.325s &  6.62564583333 &  -72d14m13.39s &  -72.2370527778 \\\\\n",
      " 108 &  N104-S2499 &  13.374 &  0h26m35.00s &  6d38m44.985s &  6.64582916667 &  -72d06m44.46s &       -72.11235 \\\\\n",
      " 109 &  N104-S2534 &  13.951 &  0h27m 2.38s &  6d45m35.655s &  6.75990416667 &  -72d08m07.97s &  -72.1355472222 \\\\\n",
      " 110 &   N104-S292 &  13.189 &  0h20m41.21s &   5d10m18.09s &  5.17169166667 &  -72d02m43.38s &  -72.0453833333 \\\\\n",
      "\\bottomrule\n",
      "\\end{tabular}\n",
      "\n"
     ]
    }
   ],
   "source": [
    "obsMatrix = np.ones((292, 99, 2, 4))*np.nan #stars, observations, [pivot, plate], cam\n",
    "\n",
    "objList = glob.glob('*.obj')\n",
    "\n",
    "outArray = []\n",
    "i = 0\n",
    "for thisObj in objList:\n",
    "    if 'red' not in thisObj:\n",
    "        filehandler = open(thisObj, 'r')\n",
    "        thisStar = pickle.load(filehandler)\n",
    "#         print thisStar.name\n",
    "        \n",
    "        gc = SkyCoord(ra=thisStar.RA*u.si.degree, dec=thisStar.Dec*u.si.degree)\n",
    "        name = thisStar.name\n",
    "        mag = thisStar.Vmag\n",
    "        RAhms = str(int(gc.ra.hms.h))+'h'+str(int(gc.ra.hms.m))+'m'+str(f1(gc.ra.hms.s))+'s'\n",
    "        RAdms = str(gc.ra)\n",
    "        RAdeg = str(gc.ra.deg)\n",
    "        DECdms = str(gc.dec)\n",
    "        DECdeg = str(gc.dec.deg)\n",
    "#         pivot = a[1].data['PIVOT'][i]\n",
    "        i += 1\n",
    "        ID = i\n",
    "        outArray.append((ID, name, mag, RAhms, RAdms, RAdeg, DECdms, DECdeg))\n",
    "        \n",
    "        for cam in range(4):\n",
    "#             print 'Camera',cam,\n",
    "            thisCam = thisStar.exposures.cameras[cam]\n",
    "\n",
    "            for exp in range(len(thisCam.fileNames)):\n",
    "                if np.nansum(thisCam.red_fluxes[exp])!=0:\n",
    "                    thisFileName = thisStar.exposures.cameras[0].fileNames[exp][:10]+'.fits'\n",
    "#                     print thisFileName\n",
    "                    fileIdx = np.where(outFileNames==thisFileName)[0]\n",
    "                    if len(fileIdx)>0:\n",
    "                        fileIdx = fileIdx[0]\n",
    "                        obsMatrix[ID-1, fileIdx, 0, cam] = thisStar.exposures.pivots[exp]\n",
    "                        obsMatrix[ID-1, fileIdx, 1, cam] = thisStar.exposures.plates[exp][-1]\n",
    "#                         print 'Found', ID, fileIdx, cam\n",
    "            \n",
    "            \n",
    "            \n",
    "            \n",
    "        filehandler.close()\n",
    "        thisStar = None\n",
    "\n",
    "outArray = np.array(outArray)\n",
    "np.save('outArray.npy',outArray)\n",
    "\n",
    "labels = ['ID', 'Name','Vmag','RA(hms)','RA(dms)','RA(deg)','DEC(dms)','DEC(deg)']\n",
    "df = pd.DataFrame(outArray)\n",
    "df.columns = labels\n",
    "\n",
    "outLatex = df.to_latex(index=False)\n",
    "print df.to_latex(index=False)"
   ]
  },
  {
   "cell_type": "code",
   "execution_count": null,
   "metadata": {
    "collapsed": true
   },
   "outputs": [],
   "source": []
  }
 ],
 "metadata": {
  "kernelspec": {
   "display_name": "Python 2",
   "language": "python",
   "name": "python2"
  },
  "language_info": {
   "codemirror_mode": {
    "name": "ipython",
    "version": 2
   },
   "file_extension": ".py",
   "mimetype": "text/x-python",
   "name": "python",
   "nbconvert_exporter": "python",
   "pygments_lexer": "ipython2",
   "version": "2.7.3"
  }
 },
 "nbformat": 4,
 "nbformat_minor": 0
}
