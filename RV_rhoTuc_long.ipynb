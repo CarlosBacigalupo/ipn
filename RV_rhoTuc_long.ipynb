{
 "metadata": {
  "name": ""
 },
 "nbformat": 3,
 "nbformat_minor": 0,
 "worksheets": [
  {
   "cells": [
    {
     "cell_type": "code",
     "collapsed": false,
     "input": [
      "import glob\n",
      "import os\n",
      "import numpy as np\n",
      "import scipy.constants as const\n",
      "import commands\n",
      "# import pyfits as pf\\n\",\n",
      "# import toolbox\\n\",\n",
      "from scipy import signal, interpolate, optimize, constants\n",
      "import pylab as plt\n",
      "import pickle\n",
      "from red_tools import *\n",
      "import asteroseismology as ast\n",
      "import HERMES\n",
      "# reload(red_tools)\\n\",\n",
      "reload(ast)\n",
      "import carlos"
     ],
     "language": "python",
     "metadata": {},
     "outputs": [],
     "prompt_number": 3
    },
    {
     "cell_type": "code",
     "collapsed": false,
     "input": [
      "os.chdir('/Users/Carlos/Documents/HERMES/reductions/rhoTuc_long')"
     ],
     "language": "python",
     "metadata": {},
     "outputs": [],
     "prompt_number": 4
    },
    {
     "cell_type": "code",
     "collapsed": false,
     "input": [
      "filename = 'rhoTuc.obj'\n",
      "filehandler = open(filename, 'r')\n",
      "thisStar = pickle.load(filehandler)"
     ],
     "language": "python",
     "metadata": {},
     "outputs": [],
     "prompt_number": 5
    },
    {
     "cell_type": "code",
     "collapsed": false,
     "input": [
      "xDef = 100 #resampling point s per pixel\n",
      "CCMaskWidth = 50 #half width of the cc curve to be gaussian fitted"
     ],
     "language": "python",
     "metadata": {},
     "outputs": [],
     "prompt_number": 6
    },
    {
     "cell_type": "code",
     "collapsed": false,
     "input": [
      "# thisCam = thisStar.exposures.cameras[3]\n",
      "# np.savetxt('red_fluxes_IR.txt',thisCam.red_fluxes)"
     ],
     "language": "python",
     "metadata": {},
     "outputs": [],
     "prompt_number": 7
    },
    {
     "cell_type": "code",
     "collapsed": false,
     "input": [
      "flux_mask=[]\n",
      "for j in range(4):\n",
      "    thisCam = thisStar.exposures.cameras[j]\n",
      "    thisCam.flux_mask = np.ones(len(thisCam.wavelengths[0])).astype(bool)\n",
      "# flux_mask[3] = thisCam.wavelengths[3]>7690"
     ],
     "language": "python",
     "metadata": {},
     "outputs": [],
     "prompt_number": 8
    },
    {
     "cell_type": "code",
     "collapsed": false,
     "input": [
      "#Debuging CC - cross correlation - create clean fluxes\\n\",\n",
      "def clean_flux(flux, xDef = 1, lambdas = np.array([])):\n",
      "    '''clean a flux array to cross corralate to determine RV shift\n",
      "        eliminates NaNs\n",
      "        moving median to reduce peaks\n",
      "        optional: increase resolution by xDef times\n",
      "        \n",
      "    '''\t\n",
      "    \n",
      "    #Copy to output in case of no resampling\n",
      "#     fluxHD = flux\n",
      "#     newLambdas = lambdas\n",
      "    \n",
      "    #clean NaNs and median outliers\t\n",
      "#     flux[np.isnan(flux)] = 0\n",
      "#     fluxNeat = fluxHD\t\n",
      "    fluxMed = signal.medfilt(flux,5)\n",
      "\n",
      "    w = np.where(abs((flux-fluxMed)/np.maximum(fluxMed,50)) > 0.4)\n",
      "    for ix in w[0]:\n",
      "        flux[ix] = fluxMed[ix]\n",
      "\n",
      "    #remove trailing zeros, devide by fitted curve (flatten) and apply tukey window\n",
      "#     flux = np.trim_zeros(flux,'f') \n",
      "#     lambdas = lambdas[-len(flux):]\n",
      "#     flux = np.trim_zeros(flux,'b') \n",
      "#     lambdas = lambdas[:len(flux)]\n",
      "\n",
      "    if ((lambdas[-np.isnan(flux)].shape[0]>0) &  (flux[-np.isnan(flux)].shape[0]>0)):\n",
      "        fFlux = optimize.curve_fit(cubic, lambdas[-np.isnan(flux)], flux[-np.isnan(flux)], p0 = [1,1,1,1])\n",
      "        fittedCurve = cubic(lambdas, fFlux[0][0], fFlux[0][1], fFlux[0][2], fFlux[0][3])\n",
      "        flux = flux/fittedCurve-1\n",
      "        \n",
      "        flux = flux * tukey(0.1, len(flux))\n",
      "        #if enough data -> resample\n",
      "        if ((xDef>1) and (len(lambdas)>0)):\n",
      "            fFlux = interpolate.interp1d(lambdas[-np.isnan(flux)],flux[-np.isnan(flux)]) \n",
      "            lambdas = np.linspace(min(lambdas[-np.isnan(flux)]), max(lambdas[-np.isnan(flux)]),len(lambdas[-np.isnan(flux)])*xDef)\n",
      "            flux = fFlux(lambdas)\n",
      "\n",
      "    else:\n",
      "        fluxWindow = np.array([])\n",
      "        print 'empty after removing zeros'\n",
      "        \n",
      "    return lambdas, flux\n",
      "\n",
      "def cubic(x,a,b,c,d):\n",
      "    return a*x**3+b*x**2+c*x+d\n",
      "    \n",
      "def tukey(alpha, N):\n",
      "\n",
      "    tukey = np.zeros(N)\n",
      "    for i in range(int(alpha*(N-1)/2)):\n",
      "        tukey[i] = 0.5*(1+np.cos(np.pi*(2*i/alpha/(N-1)-1)))\n",
      "    for i in range(int(alpha*(N-1)/2),int((N-1)*(1-alpha/2))):\n",
      "        tukey[i] = 1\n",
      "    for i in range(int((N-1)*(1-alpha/2)),int((N-1))):\n",
      "        tukey[i] = 0.5*(1+np.cos(np.pi*(2*i/alpha/(N-1)-2/alpha+1)))\n",
      "    \n",
      "    return tukey\n",
      "\n",
      "#################################################################################################################\n",
      "#this should raise the flag if no flux....\n",
      "for j in range(4):\n",
      "    cleanFluxes = []\n",
      "    cleanWavelengths = []\n",
      "    thisCam = thisStar.exposures.cameras[j]\n",
      "    for i in np.arange(thisStar.exposures.JDs.shape[0]):\n",
      "        print thisStar.exposures.JDs[i],\n",
      "        if thisCam.safe_flag[i]==True:\n",
      "            thisFlux = thisCam.red_fluxes[i][thisCam.flux_mask]\n",
      "            thisLambdas = thisCam.wavelengths[i][thisCam.flux_mask]\n",
      "            lambdaClean, fluxClean = clean_flux(thisFlux, xDef, thisLambdas)\n",
      "            cleanFluxes.append(fluxClean)\n",
      "            cleanWavelengths.append(lambdaClean)\n",
      "        else:\n",
      "            cleanFluxes.append(np.zeros(np.sum(thisCam.flux_mask)))\n",
      "            cleanWavelengths.append(np.zeros(np.sum(thisCam.flux_mask)))\n",
      "            \n",
      "    thisCam.clean_fluxes = np.array(cleanFluxes)\n",
      "    thisCam.clean_wavelengths = np.array(cleanWavelengths)\n",
      "    print ''"
     ],
     "language": "python",
     "metadata": {},
     "outputs": [
      {
       "output_type": "stream",
       "stream": "stdout",
       "text": [
        "56889.7811361 "
       ]
      },
      {
       "output_type": "stream",
       "stream": "stdout",
       "text": [
        "56889.7856174 "
       ]
      },
      {
       "output_type": "stream",
       "stream": "stdout",
       "text": [
        "56889.7910208 "
       ]
      },
      {
       "output_type": "stream",
       "stream": "stdout",
       "text": [
        "56889.7933129 "
       ]
      },
      {
       "output_type": "stream",
       "stream": "stdout",
       "text": [
        "56889.7955978 "
       ]
      },
      {
       "output_type": "stream",
       "stream": "stdout",
       "text": [
        "56889.7978891 "
       ]
      },
      {
       "output_type": "stream",
       "stream": "stdout",
       "text": [
        "56889.800162 "
       ]
      },
      {
       "output_type": "stream",
       "stream": "stdout",
       "text": [
        "56889.8024453 "
       ]
      },
      {
       "output_type": "stream",
       "stream": "stdout",
       "text": [
        "56890.7000594 "
       ]
      },
      {
       "output_type": "stream",
       "stream": "stdout",
       "text": [
        "56890.707896 "
       ]
      },
      {
       "output_type": "stream",
       "stream": "stdout",
       "text": [
        "56890.7158804 "
       ]
      },
      {
       "output_type": "stream",
       "stream": "stdout",
       "text": [
        "56890.8148393 "
       ]
      },
      {
       "output_type": "stream",
       "stream": "stdout",
       "text": [
        "56891.6885866 "
       ]
      },
      {
       "output_type": "stream",
       "stream": "stdout",
       "text": [
        "56891.6936397 "
       ]
      },
      {
       "output_type": "stream",
       "stream": "stdout",
       "text": [
        "56891.6987003 "
       ]
      },
      {
       "output_type": "stream",
       "stream": "stdout",
       "text": [
        "56891.7757545 "
       ]
      },
      {
       "output_type": "stream",
       "stream": "stdout",
       "text": [
        "56891.7808645 "
       ]
      },
      {
       "output_type": "stream",
       "stream": "stdout",
       "text": [
        "\n",
        "56889.7811361 "
       ]
      },
      {
       "output_type": "stream",
       "stream": "stdout",
       "text": [
        "56889.7856174 "
       ]
      },
      {
       "output_type": "stream",
       "stream": "stdout",
       "text": [
        "56889.7910208 "
       ]
      },
      {
       "output_type": "stream",
       "stream": "stdout",
       "text": [
        "56889.7933129 "
       ]
      },
      {
       "output_type": "stream",
       "stream": "stdout",
       "text": [
        "56889.7955978 "
       ]
      },
      {
       "output_type": "stream",
       "stream": "stdout",
       "text": [
        "56889.7978891 "
       ]
      },
      {
       "output_type": "stream",
       "stream": "stdout",
       "text": [
        "56889.800162 "
       ]
      },
      {
       "output_type": "stream",
       "stream": "stdout",
       "text": [
        "56889.8024453 "
       ]
      },
      {
       "output_type": "stream",
       "stream": "stdout",
       "text": [
        "56890.7000594 "
       ]
      },
      {
       "output_type": "stream",
       "stream": "stdout",
       "text": [
        "56890.707896 "
       ]
      },
      {
       "output_type": "stream",
       "stream": "stdout",
       "text": [
        "56890.7158804 "
       ]
      },
      {
       "output_type": "stream",
       "stream": "stdout",
       "text": [
        "56890.8148393 "
       ]
      },
      {
       "output_type": "stream",
       "stream": "stdout",
       "text": [
        "56891.6885866 "
       ]
      },
      {
       "output_type": "stream",
       "stream": "stdout",
       "text": [
        "56891.6936397 "
       ]
      },
      {
       "output_type": "stream",
       "stream": "stdout",
       "text": [
        "56891.6987003 "
       ]
      },
      {
       "output_type": "stream",
       "stream": "stdout",
       "text": [
        "56891.7757545 "
       ]
      },
      {
       "output_type": "stream",
       "stream": "stdout",
       "text": [
        "56891.7808645 "
       ]
      },
      {
       "output_type": "stream",
       "stream": "stdout",
       "text": [
        "\n",
        "56889.7811361 "
       ]
      },
      {
       "output_type": "stream",
       "stream": "stdout",
       "text": [
        "56889.7856174 "
       ]
      },
      {
       "output_type": "stream",
       "stream": "stdout",
       "text": [
        "56889.7910208 "
       ]
      },
      {
       "output_type": "stream",
       "stream": "stdout",
       "text": [
        "56889.7933129 "
       ]
      },
      {
       "output_type": "stream",
       "stream": "stdout",
       "text": [
        "56889.7955978 "
       ]
      },
      {
       "output_type": "stream",
       "stream": "stdout",
       "text": [
        "56889.7978891 "
       ]
      },
      {
       "output_type": "stream",
       "stream": "stdout",
       "text": [
        "56889.800162 "
       ]
      },
      {
       "output_type": "stream",
       "stream": "stdout",
       "text": [
        "56889.8024453 "
       ]
      },
      {
       "output_type": "stream",
       "stream": "stdout",
       "text": [
        "56890.7000594 "
       ]
      },
      {
       "output_type": "stream",
       "stream": "stdout",
       "text": [
        "56890.707896 "
       ]
      },
      {
       "output_type": "stream",
       "stream": "stdout",
       "text": [
        "56890.7158804 "
       ]
      },
      {
       "output_type": "stream",
       "stream": "stdout",
       "text": [
        "56890.8148393 "
       ]
      },
      {
       "output_type": "stream",
       "stream": "stdout",
       "text": [
        "56891.6885866 "
       ]
      },
      {
       "output_type": "stream",
       "stream": "stdout",
       "text": [
        "56891.6936397 "
       ]
      },
      {
       "output_type": "stream",
       "stream": "stdout",
       "text": [
        "56891.6987003 "
       ]
      },
      {
       "output_type": "stream",
       "stream": "stdout",
       "text": [
        "56891.7757545 "
       ]
      },
      {
       "output_type": "stream",
       "stream": "stdout",
       "text": [
        "56891.7808645 "
       ]
      },
      {
       "output_type": "stream",
       "stream": "stdout",
       "text": [
        "\n",
        "56889.7811361 "
       ]
      },
      {
       "output_type": "stream",
       "stream": "stdout",
       "text": [
        "56889.7856174 "
       ]
      },
      {
       "output_type": "stream",
       "stream": "stdout",
       "text": [
        "56889.7910208 "
       ]
      },
      {
       "output_type": "stream",
       "stream": "stdout",
       "text": [
        "56889.7933129 "
       ]
      },
      {
       "output_type": "stream",
       "stream": "stdout",
       "text": [
        "56889.7955978 "
       ]
      },
      {
       "output_type": "stream",
       "stream": "stdout",
       "text": [
        "56889.7978891 "
       ]
      },
      {
       "output_type": "stream",
       "stream": "stdout",
       "text": [
        "56889.800162 "
       ]
      },
      {
       "output_type": "stream",
       "stream": "stdout",
       "text": [
        "56889.8024453 "
       ]
      },
      {
       "output_type": "stream",
       "stream": "stdout",
       "text": [
        "56890.7000594 "
       ]
      },
      {
       "output_type": "stream",
       "stream": "stdout",
       "text": [
        "56890.707896 "
       ]
      },
      {
       "output_type": "stream",
       "stream": "stdout",
       "text": [
        "56890.7158804 "
       ]
      },
      {
       "output_type": "stream",
       "stream": "stdout",
       "text": [
        "56890.8148393 "
       ]
      },
      {
       "output_type": "stream",
       "stream": "stdout",
       "text": [
        "56891.6885866 "
       ]
      },
      {
       "output_type": "stream",
       "stream": "stdout",
       "text": [
        "56891.6936397 "
       ]
      },
      {
       "output_type": "stream",
       "stream": "stdout",
       "text": [
        "56891.6987003 "
       ]
      },
      {
       "output_type": "stream",
       "stream": "stdout",
       "text": [
        "56891.7757545 "
       ]
      },
      {
       "output_type": "stream",
       "stream": "stdout",
       "text": [
        "56891.7808645 "
       ]
      },
      {
       "output_type": "stream",
       "stream": "stdout",
       "text": [
        "\n"
       ]
      }
     ],
     "prompt_number": 9
    },
    {
     "cell_type": "code",
     "collapsed": false,
     "input": [
      "#creates mean and median fluxes for CC\n",
      "for j in range(4):\n",
      "    thisCam = thisStar.exposures.cameras[j]\n",
      "    thisCam.mean_flux = np.nanmean(thisCam.red_fluxes[thisCam.safe_flag], axis =0)\n",
      "    thisCam.mean_flux = thisCam.mean_flux[thisCam.flux_mask]\n",
      "    thisCam.median_flux = np.median(thisCam.red_fluxes[thisCam.safe_flag], axis =0)\n",
      "    thisCam.median_flux = thisCam.median_flux[thisCam.flux_mask]\n",
      "    \n",
      "    thisFlux = thisCam.median_flux\n",
      "    thisLambdas = thisCam.wavelengths[0]\n",
      "    lambdaClean, fluxClean = clean_flux(thisFlux, xDef, thisLambdas)\n",
      "    print(j, thisLambdas[:5]- lambdaClean[:5])\n",
      "    thisCam.clean_median_wavelength = lambdaClean\n",
      "    thisCam.clean_median_flux = fluxClean\n",
      "    \n",
      "    thisFlux = thisCam.mean_flux\n",
      "    thisLambdas = thisCam.wavelengths[0][thisCam.flux_mask]\n",
      "    lambdaClean, fluxClean = clean_flux(thisFlux, xDef, thisLambdas)\n",
      "    thisCam.clean_mean_wavelength = lambdaClean\n",
      "    thisCam.clean_mean_flux = fluxClean\n"
     ],
     "language": "python",
     "metadata": {},
     "outputs": [
      {
       "output_type": "stream",
       "stream": "stdout",
       "text": [
        "(0, array([ 0.        ,  0.04472538,  0.08945077,  0.13417615,  0.17890154]))\n",
        "(1, array([-0.10940171, -0.05524773, -0.00109375,  0.05306023,  0.1072142 ]))"
       ]
      },
      {
       "output_type": "stream",
       "stream": "stdout",
       "text": [
        "\n",
        "(2, array([-0.31623932, -0.25362378, -0.19100824, -0.1283927 , -0.06577717]))"
       ]
      },
      {
       "output_type": "stream",
       "stream": "stdout",
       "text": [
        "\n",
        "(3, array([-0.81123321, -0.73822204, -0.66521088, -0.59219971, -0.51918854]))"
       ]
      },
      {
       "output_type": "stream",
       "stream": "stdout",
       "text": [
        "\n"
       ]
      }
     ],
     "prompt_number": 12
    },
    {
     "cell_type": "code",
     "collapsed": false,
     "input": [
      "#Debuging CC - cross correlation - create cross correlation curves FROM MEAN\n",
      "for j in range(4):\n",
      "    CCCurves = []\n",
      "    thisCam = thisStar.exposures.cameras[j]\n",
      "    for i in range(thisStar.exposures.JDs.shape[0]):\n",
      "        print thisStar.exposures.JDs[i], \n",
      "        flux1 = thisCam.clean_mean_flux\n",
      "        lamba1 = thisCam.clean_mean_wavelength\n",
      "        flux2 = thisCam.clean_fluxes[i]\n",
      "        lamba2 = thisCam.clean_wavelengths[i]\n",
      "#         print i,flux1, flux2\n",
      "        a = signal.fftconvolve(flux1, flux2[::-1], mode='same')\n",
      "        CCCurves.append(a)\n",
      "    thisCam.CCCurves = np.array(CCCurves)\n",
      "    print ''"
     ],
     "language": "python",
     "metadata": {},
     "outputs": [
      {
       "output_type": "stream",
       "stream": "stdout",
       "text": [
        "56889.7811361 "
       ]
      },
      {
       "output_type": "stream",
       "stream": "stdout",
       "text": [
        "56889.7856174 "
       ]
      },
      {
       "output_type": "stream",
       "stream": "stdout",
       "text": [
        "56889.7910208 "
       ]
      },
      {
       "output_type": "stream",
       "stream": "stdout",
       "text": [
        "56889.7933129 "
       ]
      },
      {
       "output_type": "stream",
       "stream": "stdout",
       "text": [
        "56889.7955978 "
       ]
      },
      {
       "output_type": "stream",
       "stream": "stdout",
       "text": [
        "56889.7978891 "
       ]
      },
      {
       "output_type": "stream",
       "stream": "stdout",
       "text": [
        "56889.800162 "
       ]
      },
      {
       "output_type": "stream",
       "stream": "stdout",
       "text": [
        "56889.8024453 "
       ]
      },
      {
       "output_type": "stream",
       "stream": "stdout",
       "text": [
        "56890.7000594 "
       ]
      },
      {
       "output_type": "stream",
       "stream": "stdout",
       "text": [
        "56890.707896 "
       ]
      },
      {
       "output_type": "stream",
       "stream": "stdout",
       "text": [
        "56890.7158804 "
       ]
      },
      {
       "output_type": "stream",
       "stream": "stdout",
       "text": [
        "56890.8148393 "
       ]
      },
      {
       "output_type": "stream",
       "stream": "stdout",
       "text": [
        "56891.6885866 "
       ]
      },
      {
       "output_type": "stream",
       "stream": "stdout",
       "text": [
        "56891.6936397 "
       ]
      },
      {
       "output_type": "stream",
       "stream": "stdout",
       "text": [
        "56891.6987003 "
       ]
      },
      {
       "output_type": "stream",
       "stream": "stdout",
       "text": [
        "56891.7757545 "
       ]
      },
      {
       "output_type": "stream",
       "stream": "stdout",
       "text": [
        "56891.7808645 "
       ]
      },
      {
       "output_type": "stream",
       "stream": "stdout",
       "text": [
        "\n",
        "56889.7811361"
       ]
      },
      {
       "output_type": "stream",
       "stream": "stdout",
       "text": [
        " 56889.7856174 "
       ]
      },
      {
       "output_type": "stream",
       "stream": "stdout",
       "text": [
        "56889.7910208 "
       ]
      },
      {
       "output_type": "stream",
       "stream": "stdout",
       "text": [
        "56889.7933129 "
       ]
      },
      {
       "output_type": "stream",
       "stream": "stdout",
       "text": [
        "56889.7955978 "
       ]
      },
      {
       "output_type": "stream",
       "stream": "stdout",
       "text": [
        "56889.7978891 "
       ]
      },
      {
       "output_type": "stream",
       "stream": "stdout",
       "text": [
        "56889.800162 "
       ]
      },
      {
       "output_type": "stream",
       "stream": "stdout",
       "text": [
        "56889.8024453 "
       ]
      },
      {
       "output_type": "stream",
       "stream": "stdout",
       "text": [
        "56890.7000594 "
       ]
      },
      {
       "output_type": "stream",
       "stream": "stdout",
       "text": [
        "56890.707896 "
       ]
      },
      {
       "output_type": "stream",
       "stream": "stdout",
       "text": [
        "56890.7158804 "
       ]
      },
      {
       "output_type": "stream",
       "stream": "stdout",
       "text": [
        "56890.8148393 "
       ]
      },
      {
       "output_type": "stream",
       "stream": "stdout",
       "text": [
        "56891.6885866 "
       ]
      },
      {
       "output_type": "stream",
       "stream": "stdout",
       "text": [
        "56891.6936397 "
       ]
      },
      {
       "output_type": "stream",
       "stream": "stdout",
       "text": [
        "56891.6987003 "
       ]
      },
      {
       "output_type": "stream",
       "stream": "stdout",
       "text": [
        "56891.7757545 "
       ]
      },
      {
       "output_type": "stream",
       "stream": "stdout",
       "text": [
        "56891.7808645 "
       ]
      },
      {
       "output_type": "stream",
       "stream": "stdout",
       "text": [
        "\n",
        "56889.7811361 "
       ]
      },
      {
       "output_type": "stream",
       "stream": "stdout",
       "text": [
        "56889.7856174 "
       ]
      },
      {
       "output_type": "stream",
       "stream": "stdout",
       "text": [
        "56889.7910208 "
       ]
      },
      {
       "output_type": "stream",
       "stream": "stdout",
       "text": [
        "56889.7933129 "
       ]
      },
      {
       "output_type": "stream",
       "stream": "stdout",
       "text": [
        "56889.7955978 "
       ]
      },
      {
       "output_type": "stream",
       "stream": "stdout",
       "text": [
        "56889.7978891 "
       ]
      },
      {
       "output_type": "stream",
       "stream": "stdout",
       "text": [
        "56889.800162 "
       ]
      },
      {
       "output_type": "stream",
       "stream": "stdout",
       "text": [
        "56889.8024453 "
       ]
      },
      {
       "output_type": "stream",
       "stream": "stdout",
       "text": [
        "56890.7000594 "
       ]
      },
      {
       "output_type": "stream",
       "stream": "stdout",
       "text": [
        "56890.707896 "
       ]
      },
      {
       "output_type": "stream",
       "stream": "stdout",
       "text": [
        "56890.7158804 "
       ]
      },
      {
       "output_type": "stream",
       "stream": "stdout",
       "text": [
        "56890.8148393 "
       ]
      },
      {
       "output_type": "stream",
       "stream": "stdout",
       "text": [
        "56891.6885866 "
       ]
      },
      {
       "output_type": "stream",
       "stream": "stdout",
       "text": [
        "56891.6936397 "
       ]
      },
      {
       "output_type": "stream",
       "stream": "stdout",
       "text": [
        "56891.6987003 "
       ]
      },
      {
       "output_type": "stream",
       "stream": "stdout",
       "text": [
        "56891.7757545 "
       ]
      },
      {
       "output_type": "stream",
       "stream": "stdout",
       "text": [
        "56891.7808645 "
       ]
      },
      {
       "output_type": "stream",
       "stream": "stdout",
       "text": [
        "\n",
        "56889.7811361 "
       ]
      },
      {
       "output_type": "stream",
       "stream": "stdout",
       "text": [
        "56889.7856174 "
       ]
      },
      {
       "output_type": "stream",
       "stream": "stdout",
       "text": [
        "56889.7910208 "
       ]
      },
      {
       "output_type": "stream",
       "stream": "stdout",
       "text": [
        "56889.7933129 "
       ]
      },
      {
       "output_type": "stream",
       "stream": "stdout",
       "text": [
        "56889.7955978 "
       ]
      },
      {
       "output_type": "stream",
       "stream": "stdout",
       "text": [
        "56889.7978891 "
       ]
      },
      {
       "output_type": "stream",
       "stream": "stdout",
       "text": [
        "56889.800162 "
       ]
      },
      {
       "output_type": "stream",
       "stream": "stdout",
       "text": [
        "56889.8024453 "
       ]
      },
      {
       "output_type": "stream",
       "stream": "stdout",
       "text": [
        "56890.7000594 "
       ]
      },
      {
       "output_type": "stream",
       "stream": "stdout",
       "text": [
        "56890.707896 "
       ]
      },
      {
       "output_type": "stream",
       "stream": "stdout",
       "text": [
        "56890.7158804 "
       ]
      },
      {
       "output_type": "stream",
       "stream": "stdout",
       "text": [
        "56890.8148393 "
       ]
      },
      {
       "output_type": "stream",
       "stream": "stdout",
       "text": [
        "56891.6885866 "
       ]
      },
      {
       "output_type": "stream",
       "stream": "stdout",
       "text": [
        "56891.6936397 "
       ]
      },
      {
       "output_type": "stream",
       "stream": "stdout",
       "text": [
        "56891.6987003 "
       ]
      },
      {
       "output_type": "stream",
       "stream": "stdout",
       "text": [
        "56891.7757545 "
       ]
      },
      {
       "output_type": "stream",
       "stream": "stdout",
       "text": [
        "56891.7808645 "
       ]
      },
      {
       "output_type": "stream",
       "stream": "stdout",
       "text": [
        "\n"
       ]
      }
     ],
     "prompt_number": 31
    },
    {
     "cell_type": "code",
     "collapsed": false,
     "input": [
      "# #Debuging CC - cross correlation - create cross correlation curves from epoch 0\n",
      "# for j in range(4):\n",
      "#     CCCurves = []\n",
      "#     thisCam = thisStar.exposures.cameras[j]\n",
      "#     for i in range(thisStar.exposures.JDs.shape[0]):\n",
      "#         print thisStar.exposures.JDs[i], \n",
      "#         flux1 = thisCam.clean_fluxes[0]\n",
      "#         lamba1 = thisCam.clean_wavelengths[0]\n",
      "#         flux2 = thisCam.clean_fluxes[i]\n",
      "#         lamba2 = thisCam.clean_wavelengths[i]\n",
      "#         a = signal.fftconvolve(flux1, flux2[::-1], mode='same')\n",
      "#         CCCurves.append(a)\n",
      "#     thisCam.CCCurves = np.array(CCCurves)\n",
      "#     print ''"
     ],
     "language": "python",
     "metadata": {},
     "outputs": [
      {
       "output_type": "stream",
       "stream": "stdout",
       "text": [
        "56889.7811361 "
       ]
      },
      {
       "output_type": "stream",
       "stream": "stdout",
       "text": [
        "56889.7856174 "
       ]
      },
      {
       "output_type": "stream",
       "stream": "stdout",
       "text": [
        "56889.7910208 "
       ]
      },
      {
       "output_type": "stream",
       "stream": "stdout",
       "text": [
        "56889.7933129 "
       ]
      },
      {
       "output_type": "stream",
       "stream": "stdout",
       "text": [
        "56889.7955978 "
       ]
      },
      {
       "output_type": "stream",
       "stream": "stdout",
       "text": [
        "56889.7978891 "
       ]
      },
      {
       "output_type": "stream",
       "stream": "stdout",
       "text": [
        "56889.800162 "
       ]
      },
      {
       "output_type": "stream",
       "stream": "stdout",
       "text": [
        "56889.8024453 "
       ]
      },
      {
       "output_type": "stream",
       "stream": "stdout",
       "text": [
        "56890.7000594 "
       ]
      },
      {
       "output_type": "stream",
       "stream": "stdout",
       "text": [
        "56890.707896 "
       ]
      },
      {
       "output_type": "stream",
       "stream": "stdout",
       "text": [
        "56890.7158804 "
       ]
      },
      {
       "output_type": "stream",
       "stream": "stdout",
       "text": [
        "56890.8148393 "
       ]
      },
      {
       "output_type": "stream",
       "stream": "stdout",
       "text": [
        "56891.6885866 "
       ]
      },
      {
       "output_type": "stream",
       "stream": "stdout",
       "text": [
        "56891.6936397 "
       ]
      },
      {
       "output_type": "stream",
       "stream": "stdout",
       "text": [
        "56891.6987003 "
       ]
      },
      {
       "output_type": "stream",
       "stream": "stdout",
       "text": [
        "56891.7757545 "
       ]
      },
      {
       "output_type": "stream",
       "stream": "stdout",
       "text": [
        "56891.7808645 "
       ]
      },
      {
       "output_type": "stream",
       "stream": "stdout",
       "text": [
        "\n",
        "56889.7811361 "
       ]
      },
      {
       "output_type": "stream",
       "stream": "stdout",
       "text": [
        "56889.7856174 "
       ]
      },
      {
       "output_type": "stream",
       "stream": "stdout",
       "text": [
        "56889.7910208 "
       ]
      },
      {
       "output_type": "stream",
       "stream": "stdout",
       "text": [
        "56889.7933129 "
       ]
      },
      {
       "output_type": "stream",
       "stream": "stdout",
       "text": [
        "56889.7955978 "
       ]
      },
      {
       "output_type": "stream",
       "stream": "stdout",
       "text": [
        "56889.7978891 "
       ]
      },
      {
       "output_type": "stream",
       "stream": "stdout",
       "text": [
        "56889.800162 "
       ]
      },
      {
       "output_type": "stream",
       "stream": "stdout",
       "text": [
        "56889.8024453 "
       ]
      },
      {
       "output_type": "stream",
       "stream": "stdout",
       "text": [
        "56890.7000594 "
       ]
      },
      {
       "output_type": "stream",
       "stream": "stdout",
       "text": [
        "56890.707896 "
       ]
      },
      {
       "output_type": "stream",
       "stream": "stdout",
       "text": [
        "56890.7158804 "
       ]
      },
      {
       "output_type": "stream",
       "stream": "stdout",
       "text": [
        "56890.8148393 "
       ]
      },
      {
       "output_type": "stream",
       "stream": "stdout",
       "text": [
        "56891.6885866 "
       ]
      },
      {
       "output_type": "stream",
       "stream": "stdout",
       "text": [
        "56891.6936397 "
       ]
      },
      {
       "output_type": "stream",
       "stream": "stdout",
       "text": [
        "56891.6987003 "
       ]
      },
      {
       "output_type": "stream",
       "stream": "stdout",
       "text": [
        "56891.7757545 "
       ]
      },
      {
       "output_type": "stream",
       "stream": "stdout",
       "text": [
        "56891.7808645 "
       ]
      },
      {
       "output_type": "stream",
       "stream": "stdout",
       "text": [
        "\n",
        "56889.7811361 "
       ]
      },
      {
       "output_type": "stream",
       "stream": "stdout",
       "text": [
        "56889.7856174 "
       ]
      },
      {
       "output_type": "stream",
       "stream": "stdout",
       "text": [
        "56889.7910208 "
       ]
      },
      {
       "output_type": "stream",
       "stream": "stdout",
       "text": [
        "56889.7933129 "
       ]
      },
      {
       "output_type": "stream",
       "stream": "stdout",
       "text": [
        "56889.7955978 "
       ]
      },
      {
       "output_type": "stream",
       "stream": "stdout",
       "text": [
        "56889.7978891 "
       ]
      },
      {
       "output_type": "stream",
       "stream": "stdout",
       "text": [
        "56889.800162 "
       ]
      },
      {
       "output_type": "stream",
       "stream": "stdout",
       "text": [
        "56889.8024453 "
       ]
      },
      {
       "output_type": "stream",
       "stream": "stdout",
       "text": [
        "56890.7000594 "
       ]
      },
      {
       "output_type": "stream",
       "stream": "stdout",
       "text": [
        "56890.707896 "
       ]
      },
      {
       "output_type": "stream",
       "stream": "stdout",
       "text": [
        "56890.7158804 "
       ]
      },
      {
       "output_type": "stream",
       "stream": "stdout",
       "text": [
        "56890.8148393 "
       ]
      },
      {
       "output_type": "stream",
       "stream": "stdout",
       "text": [
        "56891.6885866 "
       ]
      },
      {
       "output_type": "stream",
       "stream": "stdout",
       "text": [
        "56891.6936397 "
       ]
      },
      {
       "output_type": "stream",
       "stream": "stdout",
       "text": [
        "56891.6987003 "
       ]
      },
      {
       "output_type": "stream",
       "stream": "stdout",
       "text": [
        "56891.7757545 "
       ]
      },
      {
       "output_type": "stream",
       "stream": "stdout",
       "text": [
        "56891.7808645 "
       ]
      },
      {
       "output_type": "stream",
       "stream": "stdout",
       "text": [
        "\n",
        "56889.7811361 "
       ]
      },
      {
       "output_type": "stream",
       "stream": "stdout",
       "text": [
        "56889.7856174 "
       ]
      },
      {
       "output_type": "stream",
       "stream": "stdout",
       "text": [
        "56889.7910208 "
       ]
      },
      {
       "output_type": "stream",
       "stream": "stdout",
       "text": [
        "56889.7933129 "
       ]
      },
      {
       "output_type": "stream",
       "stream": "stdout",
       "text": [
        "56889.7955978 "
       ]
      },
      {
       "output_type": "stream",
       "stream": "stdout",
       "text": [
        "56889.7978891 "
       ]
      },
      {
       "output_type": "stream",
       "stream": "stdout",
       "text": [
        "56889.800162 "
       ]
      },
      {
       "output_type": "stream",
       "stream": "stdout",
       "text": [
        "56889.8024453 "
       ]
      },
      {
       "output_type": "stream",
       "stream": "stdout",
       "text": [
        "56890.7000594 "
       ]
      },
      {
       "output_type": "stream",
       "stream": "stdout",
       "text": [
        "56890.707896 "
       ]
      },
      {
       "output_type": "stream",
       "stream": "stdout",
       "text": [
        "56890.7158804 "
       ]
      },
      {
       "output_type": "stream",
       "stream": "stdout",
       "text": [
        "56890.8148393 "
       ]
      },
      {
       "output_type": "stream",
       "stream": "stdout",
       "text": [
        "56891.6885866 "
       ]
      },
      {
       "output_type": "stream",
       "stream": "stdout",
       "text": [
        "56891.6936397 "
       ]
      },
      {
       "output_type": "stream",
       "stream": "stdout",
       "text": [
        "56891.6987003 "
       ]
      },
      {
       "output_type": "stream",
       "stream": "stdout",
       "text": [
        "56891.7757545 "
       ]
      },
      {
       "output_type": "stream",
       "stream": "stdout",
       "text": [
        "56891.7808645 "
       ]
      },
      {
       "output_type": "stream",
       "stream": "stdout",
       "text": [
        "\n"
       ]
      }
     ],
     "prompt_number": 14
    },
    {
     "cell_type": "code",
     "collapsed": false,
     "input": [
      "#Debuging CC - cross correlation - fit gaussian in CCCurves\n",
      "def gaussian(x, mu, sig, ):\n",
      "    return np.exp(-np.power(x - mu, 2.) / 2 / np.power(sig, 2.))\n",
      "\n",
      "def fit_gaussian(p, flux, x_range):\n",
      "    a = optimize.leastsq(diff_gausian, p, args= [flux, x_range])\n",
      "    return a\n",
      "\n",
      "def diff_gausian(p, args):\n",
      "    \n",
      "    flux = args[0]\n",
      "    x_range = args[1]\n",
      "    diff = gaussian(x_range, p[0],p[1]) - flux/np.max(flux)\n",
      "    return diff\n",
      "\n",
      "def get_wavelength(wavelengths, pixel):\n",
      "    intPx = int(pixel)\n",
      "    fracPx = pixel - int(pixel)\n",
      "\n",
      "    return (wavelengths[intPx+1] - wavelengths[intPx])*fracPx + wavelengths[intPx]\n",
      "\n",
      "\n",
      "\n",
      "###########################################################################################################################\n",
      "for j in range(4):\n",
      "    print j\n",
      "    Ps = []\n",
      "    shiftedWavelength = []\n",
      "    sigmas = [] \n",
      "    thisCam = thisStar.exposures.cameras[j]\n",
      "    for i in range(thisStar.exposures.JDs.shape[0]):\n",
      "        print thisStar.exposures.JDs[i],\n",
      "        thisCCCurve = thisCam.CCCurves[i]\n",
      "        if np.sum(thisCCCurve)!=0:\n",
      "            corrMax = np.where(thisCCCurve==max(thisCCCurve))[0][0]\n",
      "            p_guess = [corrMax,xDef]\n",
      "            x_mask = np.arange(corrMax-CCMaskWidth, corrMax+CCMaskWidth+1)\n",
      "            p = fit_gaussian(p_guess, thisCCCurve[x_mask], np.arange(len(thisCCCurve))[x_mask])[0]\n",
      "            shiftedLambda = get_wavelength(thisCam.clean_wavelengths[i], p[0])\n",
      "#             Ps.append(p_guess)\n",
      "            Ps.append(p)\n",
      "            shiftedWavelength.append(shiftedLambda)\n",
      "            sigmas.append(np.abs(get_wavelength(thisCam.clean_wavelengths[i], p[0]+p[1])-shiftedLambda)/shiftedLambda*const.c)\n",
      "        else:\n",
      "            print 'Flat CC results. Retuning NaNs'\n",
      "            Ps.append([np.nan,np.nan])\n",
      "            shiftedWavelength.append(np.nan)\n",
      "            sigmas.append(np.nan)\n",
      "            \n",
      "    thisCam.Ps = np.array(Ps)\n",
      "    thisCam.shfted_wavelengths = np.array(shiftedWavelength)\n",
      "    thisCam.sigmas = np.array(sigmas)\n",
      "    print ''"
     ],
     "language": "python",
     "metadata": {},
     "outputs": [
      {
       "output_type": "stream",
       "stream": "stdout",
       "text": [
        "0\n",
        "56889.7811361 "
       ]
      },
      {
       "output_type": "stream",
       "stream": "stdout",
       "text": [
        "56889.7856174 "
       ]
      },
      {
       "output_type": "stream",
       "stream": "stdout",
       "text": [
        "56889.7910208 "
       ]
      },
      {
       "output_type": "stream",
       "stream": "stdout",
       "text": [
        "56889.7933129 "
       ]
      },
      {
       "output_type": "stream",
       "stream": "stdout",
       "text": [
        "56889.7955978 "
       ]
      },
      {
       "output_type": "stream",
       "stream": "stdout",
       "text": [
        "56889.7978891 "
       ]
      },
      {
       "output_type": "stream",
       "stream": "stdout",
       "text": [
        "56889.800162 "
       ]
      },
      {
       "output_type": "stream",
       "stream": "stdout",
       "text": [
        "56889.8024453 "
       ]
      },
      {
       "output_type": "stream",
       "stream": "stdout",
       "text": [
        "56890.7000594 "
       ]
      },
      {
       "output_type": "stream",
       "stream": "stdout",
       "text": [
        "56890.707896 "
       ]
      },
      {
       "output_type": "stream",
       "stream": "stdout",
       "text": [
        "56890.7158804 "
       ]
      },
      {
       "output_type": "stream",
       "stream": "stdout",
       "text": [
        "56890.8148393 "
       ]
      },
      {
       "output_type": "stream",
       "stream": "stdout",
       "text": [
        "56891.6885866 "
       ]
      },
      {
       "output_type": "stream",
       "stream": "stdout",
       "text": [
        "56891.6936397 "
       ]
      },
      {
       "output_type": "stream",
       "stream": "stdout",
       "text": [
        "56891.6987003 "
       ]
      },
      {
       "output_type": "stream",
       "stream": "stdout",
       "text": [
        "56891.7757545 "
       ]
      },
      {
       "output_type": "stream",
       "stream": "stdout",
       "text": [
        "56891.7808645 "
       ]
      },
      {
       "output_type": "stream",
       "stream": "stdout",
       "text": [
        "\n",
        "1\n",
        "56889.7811361 "
       ]
      },
      {
       "output_type": "stream",
       "stream": "stdout",
       "text": [
        "56889.7856174 "
       ]
      },
      {
       "output_type": "stream",
       "stream": "stdout",
       "text": [
        "56889.7910208 "
       ]
      },
      {
       "output_type": "stream",
       "stream": "stdout",
       "text": [
        "56889.7933129 "
       ]
      },
      {
       "output_type": "stream",
       "stream": "stdout",
       "text": [
        "56889.7955978 "
       ]
      },
      {
       "output_type": "stream",
       "stream": "stdout",
       "text": [
        "56889.7978891 "
       ]
      },
      {
       "output_type": "stream",
       "stream": "stdout",
       "text": [
        "56889.800162 "
       ]
      },
      {
       "output_type": "stream",
       "stream": "stdout",
       "text": [
        "56889.8024453 "
       ]
      },
      {
       "output_type": "stream",
       "stream": "stdout",
       "text": [
        "56890.7000594 "
       ]
      },
      {
       "output_type": "stream",
       "stream": "stdout",
       "text": [
        "56890.707896 "
       ]
      },
      {
       "output_type": "stream",
       "stream": "stdout",
       "text": [
        "56890.7158804 "
       ]
      },
      {
       "output_type": "stream",
       "stream": "stdout",
       "text": [
        "56890.8148393 "
       ]
      },
      {
       "output_type": "stream",
       "stream": "stdout",
       "text": [
        "56891.6885866 "
       ]
      },
      {
       "output_type": "stream",
       "stream": "stdout",
       "text": [
        "56891.6936397 "
       ]
      },
      {
       "output_type": "stream",
       "stream": "stdout",
       "text": [
        "56891.6987003 "
       ]
      },
      {
       "output_type": "stream",
       "stream": "stdout",
       "text": [
        "56891.7757545 "
       ]
      },
      {
       "output_type": "stream",
       "stream": "stdout",
       "text": [
        "56891.7808645 "
       ]
      },
      {
       "output_type": "stream",
       "stream": "stdout",
       "text": [
        "\n",
        "2\n",
        "56889.7811361 "
       ]
      },
      {
       "output_type": "stream",
       "stream": "stdout",
       "text": [
        "56889.7856174 "
       ]
      },
      {
       "output_type": "stream",
       "stream": "stdout",
       "text": [
        "56889.7910208 "
       ]
      },
      {
       "output_type": "stream",
       "stream": "stdout",
       "text": [
        "56889.7933129 "
       ]
      },
      {
       "output_type": "stream",
       "stream": "stdout",
       "text": [
        "56889.7955978 "
       ]
      },
      {
       "output_type": "stream",
       "stream": "stdout",
       "text": [
        "56889.7978891 "
       ]
      },
      {
       "output_type": "stream",
       "stream": "stdout",
       "text": [
        "56889.800162 "
       ]
      },
      {
       "output_type": "stream",
       "stream": "stdout",
       "text": [
        "56889.8024453 "
       ]
      },
      {
       "output_type": "stream",
       "stream": "stdout",
       "text": [
        "56890.7000594 "
       ]
      },
      {
       "output_type": "stream",
       "stream": "stdout",
       "text": [
        "56890.707896 "
       ]
      },
      {
       "output_type": "stream",
       "stream": "stdout",
       "text": [
        "56890.7158804 "
       ]
      },
      {
       "output_type": "stream",
       "stream": "stdout",
       "text": [
        "56890.8148393 "
       ]
      },
      {
       "output_type": "stream",
       "stream": "stdout",
       "text": [
        "56891.6885866 "
       ]
      },
      {
       "output_type": "stream",
       "stream": "stdout",
       "text": [
        "56891.6936397 "
       ]
      },
      {
       "output_type": "stream",
       "stream": "stdout",
       "text": [
        "56891.6987003 "
       ]
      },
      {
       "output_type": "stream",
       "stream": "stdout",
       "text": [
        "56891.7757545 "
       ]
      },
      {
       "output_type": "stream",
       "stream": "stdout",
       "text": [
        "56891.7808645 "
       ]
      },
      {
       "output_type": "stream",
       "stream": "stdout",
       "text": [
        "\n",
        "3\n",
        "56889.7811361 "
       ]
      },
      {
       "output_type": "stream",
       "stream": "stdout",
       "text": [
        "56889.7856174 "
       ]
      },
      {
       "output_type": "stream",
       "stream": "stdout",
       "text": [
        "56889.7910208 "
       ]
      },
      {
       "output_type": "stream",
       "stream": "stdout",
       "text": [
        "56889.7933129 "
       ]
      },
      {
       "output_type": "stream",
       "stream": "stdout",
       "text": [
        "56889.7955978 "
       ]
      },
      {
       "output_type": "stream",
       "stream": "stdout",
       "text": [
        "56889.7978891 "
       ]
      },
      {
       "output_type": "stream",
       "stream": "stdout",
       "text": [
        "56889.800162 "
       ]
      },
      {
       "output_type": "stream",
       "stream": "stdout",
       "text": [
        "56889.8024453 "
       ]
      },
      {
       "output_type": "stream",
       "stream": "stdout",
       "text": [
        "56890.7000594 "
       ]
      },
      {
       "output_type": "stream",
       "stream": "stdout",
       "text": [
        "56890.707896 "
       ]
      },
      {
       "output_type": "stream",
       "stream": "stdout",
       "text": [
        "56890.7158804 "
       ]
      },
      {
       "output_type": "stream",
       "stream": "stdout",
       "text": [
        "56890.8148393 "
       ]
      },
      {
       "output_type": "stream",
       "stream": "stdout",
       "text": [
        "56891.6885866 "
       ]
      },
      {
       "output_type": "stream",
       "stream": "stdout",
       "text": [
        "56891.6936397 "
       ]
      },
      {
       "output_type": "stream",
       "stream": "stdout",
       "text": [
        "56891.6987003 "
       ]
      },
      {
       "output_type": "stream",
       "stream": "stdout",
       "text": [
        "56891.7757545 "
       ]
      },
      {
       "output_type": "stream",
       "stream": "stdout",
       "text": [
        "56891.7808645 "
       ]
      },
      {
       "output_type": "stream",
       "stream": "stdout",
       "text": [
        "\n"
       ]
      }
     ],
     "prompt_number": 32
    },
    {
     "cell_type": "code",
     "collapsed": false,
     "input": [
      "#Creates RVs from shifted_wavelength\n",
      "for j in range(4):\n",
      "    testRVs = []\n",
      "    thisCam = thisStar.exposures.cameras[j]\n",
      "    for i in range(thisStar.exposures.JDs.shape[0]):\n",
      "        print thisStar.exposures.JDs[i],\n",
      "        clean_wavelength_median = np.median(thisCam.clean_wavelengths[i])\n",
      "        testRVs.append((clean_wavelength_median - thisCam.shfted_wavelengths[i])/clean_wavelength_median*const.c)\n",
      "    \n",
      "    thisCam.RVs = np.array(testRVs)\n",
      "    print ''"
     ],
     "language": "python",
     "metadata": {},
     "outputs": [
      {
       "output_type": "stream",
       "stream": "stdout",
       "text": [
        "56889.7811361 56889.7856174 56889.7910208 56889.7933129 56889.7955978 56889.7978891 56889.800162 56889.8024453 56890.7000594 56890.707896 56890.7158804 56890.8148393 56891.6885866 56891.6936397 56891.6987003 56891.7757545 56891.7808645 \n",
        "56889.7811361 56889.7856174 56889.7910208 56889.7933129 56889.7955978 56889.7978891 56889.800162 56889.8024453 "
       ]
      },
      {
       "output_type": "stream",
       "stream": "stdout",
       "text": [
        "56890.7000594 56890.707896 56890.7158804 56890.8148393 56891.6885866 56891.6936397 56891.6987003 56891.7757545 56891.7808645 \n",
        "56889.7811361 56889.7856174 56889.7910208 56889.7933129 56889.7955978 56889.7978891 56889.800162 56889.8024453 56890.7000594 56890.707896 56890.7158804 56890.8148393 56891.6885866 56891.6936397 56891.6987003 "
       ]
      },
      {
       "output_type": "stream",
       "stream": "stdout",
       "text": [
        "56891.7757545 56891.7808645 \n",
        "56889.7811361 56889.7856174 56889.7910208 56889.7933129 56889.7955978 56889.7978891 56889.800162 56889.8024453 56890.7000594 56890.707896 56890.7158804 56890.8148393 56891.6885866 56891.6936397 56891.6987003 56891.7757545 56891.7808645 \n"
       ]
      }
     ],
     "prompt_number": 33
    },
    {
     "cell_type": "code",
     "collapsed": false,
     "input": [
      "#Creates delta RVs from shifted_wavelength DDRV\n",
      "for j in range(4):\n",
      "    thisCam = thisStar.exposures.cameras[j]    \n",
      "#     sig = np.std(thisCam.RVs[thisStar.exposures.my_data_mask])\n",
      "#     sigMask = thisCam.RVs[thisStar.exposures.my_data_mask]-np.mean(thisCam.RVs[thisStar.exposures.my_data_mask])<3*sig\n",
      "    thisCam.DDRVs = thisCam.RVs-np.median(thisCam.RVs[thisCam.safe_flag])\n"
     ],
     "language": "python",
     "metadata": {},
     "outputs": [],
     "prompt_number": 34
    },
    {
     "cell_type": "heading",
     "level": 2,
     "metadata": {},
     "source": [
      "Plots"
     ]
    },
    {
     "cell_type": "code",
     "collapsed": false,
     "input": [
      "#All spectra (raw or clean) \n",
      "thisCam = thisStar.exposures.cameras[1]\n",
      "\n",
      "wavelengths = thisCam.wavelengths\n",
      "fluxes =  thisCam.red_fluxes\n",
      "wavelengths = thisCam.clean_wavelengths\n",
      "fluxes =  thisCam.clean_fluxes\n",
      "\n",
      "fig, ax = plt.subplots()\n",
      "\n",
      "# for i in np.arange(thisCam.wavelengths.shape[0])[thisCam.safe_flag]:\n",
      "# for i in np.arange(thisCam.wavelengths.shape[0]):\n",
      "for i in np.arange(thisCam.wavelengths.shape[0])[:2]:\n",
      "    try:\n",
      "        d, f = carlos.fit_continuum(wavelengths[i], fluxes[i])\n",
      "\n",
      "    except: continue\n",
      "    else:\n",
      "        ax.plot(d, f+i*10, 'k')\n",
      "#         ax.plot(d, f*0.05+thisStar.exposures.JDs[i], 'k')\n",
      "\n",
      "ax.set_yticks(range(0,i,10))\n",
      "ax.set_y\n",
      "# fig.canvas.draw()\n",
      "# labels = [item.get_text() for item in ax.get_yticklabels()]\n",
      "# labels[1] = 'Testing'\n",
      "# ax.set_yticklabels(labels)\n",
      "plt.show()\n"
     ],
     "language": "python",
     "metadata": {},
     "outputs": [
      {
       "output_type": "stream",
       "stream": "stdout",
       "text": [
        "[ 0.00025801  0.00026032  0.00026262 ...,  0.00189259  0.00192879\n",
        "  0.00196495]\n",
        "[ 10.00026178  10.00026511  10.00026844 ...,  10.00127323  10.00130666\n",
        "  10.00134005]"
       ]
      },
      {
       "output_type": "stream",
       "stream": "stdout",
       "text": [
        "\n",
        "YAxis(80.000000,48.000000)\n"
       ]
      }
     ],
     "prompt_number": 45
    },
    {
     "cell_type": "code",
     "collapsed": false,
     "input": [
      "thisCam = thisStar.exposures.cameras[1]\n",
      "# plt.plot(thisCam.wavelengths[0],thisCam.red_fluxes[0]/np.max(thisCam.red_fluxes[0])-1)\n",
      "# plt.plot(thisCam.clean_mean_wavelength, thisCam.clean_mean_flux)\n",
      "plt.plot(thisCam.clean_wavelengths[0], thisCam.clean_fluxes[0])\n",
      "plt.plot(thisCam.clean_wavelengths[-1], thisCam.clean_fluxes[-1])\n",
      "plt.show()"
     ],
     "language": "python",
     "metadata": {},
     "outputs": [],
     "prompt_number": 22
    },
    {
     "cell_type": "code",
     "collapsed": false,
     "input": [
      "thisCam = thisStar.exposures.cameras[0]\n",
      "plt.plot(thisCam.clean_wavelengths[0],thisCam.clean_fluxes[0])\n",
      "plt.plot(thisCam.clean_mean_wavelength,thisCam.clean_mean_flux)\n",
      "plt.show()"
     ],
     "language": "python",
     "metadata": {},
     "outputs": [],
     "prompt_number": 24
    },
    {
     "cell_type": "code",
     "collapsed": false,
     "input": [
      "# thisCam = thisStar.exposures.cameras[1]\n",
      "# for i in np.arange(len(thisStar.exposures.my_data_mask))[thisStar.exposures.my_data_mask]: #my data index\n",
      "#     plt.title('Cross Correlation Result'+filehandler.name[:-4]+' - mean vs t'+str(i)+' - RV='+str(thisCam.RVs[i])+' m/s')\n",
      "#     x_axis = (thisCam.clean_wavelengths[i]-np.median(thisCam.clean_wavelengths[i]))/thisCam.clean_wavelengths[i]*const.c\n",
      "#     if x_axis.shape == thisCam.CCCurves[i].shape:\n",
      "#         plt.plot(x_axis, thisCam.CCCurves[i]/np.max(thisCam.CCCurves[i]))\n",
      "#         plt.plot(x_axis, gaussian(range(len(thisCam.clean_wavelengths[i])), thisCam.Ps[i][0], thisCam.Ps[i][1]), label = 'gaussian fit') \n",
      "#         plt.xlabel('RV [m/s]')\n",
      "#         plt.legend(loc=0)\n",
      "#         plt.show()\n"
     ],
     "language": "python",
     "metadata": {},
     "outputs": [],
     "prompt_number": 155
    },
    {
     "cell_type": "code",
     "collapsed": false,
     "input": [
      "#Saves\n",
      "# delattr(thisStar.exposures.cameras[0],'clean_fluxes')\n",
      "# delattr(thisStar.exposures.cameras[1],'clean_fluxes')\n",
      "# delattr(thisStar.exposures.cameras[2],'clean_fluxes')\n",
      "# delattr(thisStar.exposures.cameras[3],'clean_fluxes')\n",
      "# delattr(thisStar.exposures.cameras[0],'clean_wavelengths')\n",
      "# delattr(thisStar.exposures.cameras[1],'clean_wavelengths')\n",
      "# delattr(thisStar.exposures.cameras[2],'clean_wavelengths')\n",
      "# delattr(thisStar.exposures.cameras[3],'clean_wavelengths')\n",
      "# file_pi = open(filehandler.name, 'w') \n",
      "# pickle.dump(thisStar, file_pi) \n",
      "# file_pi.close()\n",
      "# filehandler.close()\n",
      "# thisStar = None"
     ],
     "language": "python",
     "metadata": {},
     "outputs": [],
     "prompt_number": 78
    },
    {
     "cell_type": "code",
     "collapsed": false,
     "input": [
      "plt.title(filehandler.name[:-4])\n",
      "# plt.plot(thisStar.exposures.JDs, thisStar.exposures.rel_BaryVels, label = 'Barycentric Vel. ')\n",
      "\n",
      "thisCam = thisStar.exposures.cameras[0]\n",
      "# RVMask = thisStar.exposures.my_data_mask\n",
      "RVMask = ((thisStar.exposures.my_data_mask) & (np.abs(thisCam.RVs)<2e4))\n",
      "# RVMask = thisCam.safe_flag\n",
      "thisCam.safe_flag = RVMask\n",
      "plt.scatter(thisStar.exposures.JDs[RVMask], thisCam.RVs[RVMask], label = 'Blue', color ='b' )\n",
      "# plt.errorbar(thisStar.exposures.JDs[RVMask], thisCam.DDRVs[RVMask], yerr=thisCam.sigmas[RVMask],fmt='.', label = 'Blue', color ='b' )\n",
      "\n",
      "thisCam = thisStar.exposures.cameras[1]\n",
      "# RVMask = thisStar.exposures.my_data_mask\n",
      "RVMask = ((thisStar.exposures.my_data_mask) & (np.abs(thisCam.RVs)<2e4))\n",
      "# RVMask = thisCam.safe_flag\n",
      "thisCam.safe_flag = RVMask\n",
      "plt.scatter(thisStar.exposures.JDs[RVMask], thisCam.RVs[RVMask], label = 'Green' , color ='g')\n",
      "# plt.errorbar(thisStar.exposures.JDs[RVMask], thisCam.RVs[RVMask], yerr=thisCam.sigmas[RVMask],fmt='.', label = 'Green' , color ='g')\n",
      "\n",
      "thisCam = thisStar.exposures.cameras[2]\n",
      "# RVMask = thisStar.exposures.my_data_mask\n",
      "RVMask = ((thisStar.exposures.my_data_mask) & (np.abs(thisCam.RVs)<2e4))\n",
      "# RVMask = thisCam.safe_flag\n",
      "thisCam.safe_flag = RVMask\n",
      "plt.scatter(thisStar.exposures.JDs[RVMask], thisCam.RVs[RVMask], label = 'Red' , color ='r')\n",
      "# plt.errorbar(thisStar.exposures.JDs[RVMask], thisCam.RVs[RVMask], yerr=thisCam.sigmas[RVMask],fmt='.', label = 'Red' , color ='r')\n",
      "\n",
      "thisCam = thisStar.exposures.cameras[3]\n",
      "# RVMask = thisStar.exposures.my_data_mask\n",
      "RVMask = ((thisStar.exposures.my_data_mask) & (np.abs(thisCam.RVs)<2e4))\n",
      "# RVMask = thisCam.safe_flag\n",
      "thisCam.safe_flag = RVMask\n",
      "plt.scatter(thisStar.exposures.JDs[RVMask], thisCam.RVs[RVMask], label = 'IR', color ='cyan' )\n",
      "# plt.errorbar(thisStar.exposures.JDs[RVMask], thisCam.RVs[RVMask], yerr=thisCam.sigmas[RVMask],fmt='.', label = 'IR', color ='cyan' )\n",
      "#\n",
      "\n",
      "plt.xlabel('JD')\n",
      "plt.ylabel('RV [m/s]')\n",
      "plt.legend(loc=0)\n",
      "plt.show()"
     ],
     "language": "python",
     "metadata": {},
     "outputs": [
      {
       "ename": "AttributeError",
       "evalue": "exposures instance has no attribute 'my_data_mask'",
       "output_type": "pyerr",
       "traceback": [
        "\u001b[0;31m---------------------------------------------------------------------------\u001b[0m\n\u001b[0;31mAttributeError\u001b[0m                            Traceback (most recent call last)",
        "\u001b[0;32m<ipython-input-25-648e961d1c92>\u001b[0m in \u001b[0;36m<module>\u001b[0;34m()\u001b[0m\n\u001b[1;32m      4\u001b[0m \u001b[0mthisCam\u001b[0m \u001b[0;34m=\u001b[0m \u001b[0mthisStar\u001b[0m\u001b[0;34m.\u001b[0m\u001b[0mexposures\u001b[0m\u001b[0;34m.\u001b[0m\u001b[0mcameras\u001b[0m\u001b[0;34m[\u001b[0m\u001b[0;36m0\u001b[0m\u001b[0;34m]\u001b[0m\u001b[0;34m\u001b[0m\u001b[0m\n\u001b[1;32m      5\u001b[0m \u001b[0;31m# RVMask = thisStar.exposures.my_data_mask\u001b[0m\u001b[0;34m\u001b[0m\u001b[0;34m\u001b[0m\u001b[0m\n\u001b[0;32m----> 6\u001b[0;31m \u001b[0mRVMask\u001b[0m \u001b[0;34m=\u001b[0m \u001b[0;34m(\u001b[0m\u001b[0;34m(\u001b[0m\u001b[0mthisStar\u001b[0m\u001b[0;34m.\u001b[0m\u001b[0mexposures\u001b[0m\u001b[0;34m.\u001b[0m\u001b[0mmy_data_mask\u001b[0m\u001b[0;34m)\u001b[0m \u001b[0;34m&\u001b[0m \u001b[0;34m(\u001b[0m\u001b[0mnp\u001b[0m\u001b[0;34m.\u001b[0m\u001b[0mabs\u001b[0m\u001b[0;34m(\u001b[0m\u001b[0mthisCam\u001b[0m\u001b[0;34m.\u001b[0m\u001b[0mRVs\u001b[0m\u001b[0;34m)\u001b[0m\u001b[0;34m<\u001b[0m\u001b[0;36m2e4\u001b[0m\u001b[0;34m)\u001b[0m\u001b[0;34m)\u001b[0m\u001b[0;34m\u001b[0m\u001b[0m\n\u001b[0m\u001b[1;32m      7\u001b[0m \u001b[0;31m# RVMask = thisCam.safe_flag\u001b[0m\u001b[0;34m\u001b[0m\u001b[0;34m\u001b[0m\u001b[0m\n\u001b[1;32m      8\u001b[0m \u001b[0mthisCam\u001b[0m\u001b[0;34m.\u001b[0m\u001b[0msafe_flag\u001b[0m \u001b[0;34m=\u001b[0m \u001b[0mRVMask\u001b[0m\u001b[0;34m\u001b[0m\u001b[0m\n",
        "\u001b[0;31mAttributeError\u001b[0m: exposures instance has no attribute 'my_data_mask'"
       ]
      }
     ],
     "prompt_number": 25
    },
    {
     "cell_type": "code",
     "collapsed": false,
     "input": [
      "plt.title(filehandler.name[:-4])\n",
      "plt.plot(thisStar.exposures.JDs, thisStar.exposures.rel_baryVels, label = 'Barycentric Vel. ')\n",
      "\n",
      "thisCam = thisStar.exposures.cameras[0]\n",
      "# RVMask = thisStar.exposures.my_data_mask\n",
      "# RVMask = ((thisStar.exposures.my_data_mask) & (np.abs(thisCam.RVs)<50000))\n",
      "RVMask = thisCam.safe_flag\n",
      "plt.scatter(thisStar.exposures.JDs[RVMask], thisCam.DDRVs[RVMask], label = 'Blue', color ='b' )\n",
      "# plt.errorbar(thisStar.exposures.JDs[RVMask], thisCam.DDRVs[RVMask], yerr=thisCam.sigmas[RVMask],fmt='.', label = 'Blue', color ='b' )\n",
      "\n",
      "thisCam = thisStar.exposures.cameras[1]\n",
      "# RVMask = thisStar.exposures.my_data_mask\n",
      "# RVMask = np.abs(thisCam.RVs)<1e6\n",
      "RVMask = thisCam.safe_flag\n",
      "plt.scatter(thisStar.exposures.JDs[RVMask], thisCam.DDRVs[RVMask], label = 'Green' , color ='g')\n",
      "# plt.errorbar(thisStar.exposures.JDs[RVMask], thisCam.RVs[RVMask], yerr=thisCam.sigmas[RVMask],fmt='.', label = 'Green' , color ='g')\n",
      "\n",
      "thisCam = thisStar.exposures.cameras[2]\n",
      "# RVMask = thisStar.exposures.my_data_mask\n",
      "# RVMask = np.abs(thisCam.RVs)<2e5\n",
      "RVMask = thisCam.safe_flag\n",
      "plt.scatter(thisStar.exposures.JDs[RVMask], thisCam.DDRVs[RVMask], label = 'Red' , color ='r')\n",
      "# plt.errorbar(thisStar.exposures.JDs[RVMask], thisCam.RVs[RVMask], yerr=thisCam.sigmas[RVMask],fmt='.', label = 'Red' , color ='r')\n",
      "\n",
      "thisCam = thisStar.exposures.cameras[3]\n",
      "# RVMask = thisStar.exposures.my_data_mask\n",
      "# RVMask = ((thisStar.exposures.my_data_mask) & (np.abs(thisCam.RVs)<20000))\n",
      "RVMask = thisCam.safe_flag\n",
      "plt.scatter(thisStar.exposures.JDs[RVMask], thisCam.DDRVs[RVMask], label = 'IR', color ='cyan' )\n",
      "# plt.errorbar(thisStar.exposures.JDs[RVMask], thisCam.RVs[RVMask], yerr=thisCam.sigmas[RVMask],fmt='.', label = 'IR', color ='cyan' )\n",
      "\n",
      "\n",
      "plt.xlabel('JD')\n",
      "plt.ylabel('RV [m/s]')\n",
      "plt.legend(loc=0)\n",
      "plt.show()"
     ],
     "language": "python",
     "metadata": {},
     "outputs": [],
     "prompt_number": 35
    },
    {
     "cell_type": "code",
     "collapsed": false,
     "input": [
      "#plots all data\n",
      "thisCam = thisStar.exposures.cameras[1]\n",
      "for i in [10]:\n",
      "    \n",
      "    fig = plt.gcf()\n",
      "    fig.suptitle(filehandler.name[:-4]+' - t0 vs t'+str(i)+' - RV='+str(thisCam.RVs[i])+' m/s', fontsize=14)\n",
      "\n",
      "    plt.subplot(221)\n",
      "    plt.title('Clean Flux')\n",
      "    plt.plot(thisCam.clean_wavelengths[i][::50],thisCam.clean_fluxes[i][::50])\n",
      "    plt.xlabel('Wavelength [ang]')\n",
      "    plt.ylabel('Flux [Counts]')\n",
      "    plt.legend(loc=0)\n",
      "    \n",
      "    plt.subplot(223)\n",
      "    plt.title('Clean Flux - Detail')\n",
      "    plt.plot(thisCam.clean_median_wavelength,thisCam.clean_median_flux, label = 'Median Flux')\n",
      "    plt.plot(thisCam.clean_wavelengths[i],thisCam.clean_fluxes[i], label = 'Epoch '+str(i))\n",
      "    plt.axis((4859,4864, -1,1))\n",
      "    plt.xlabel('Wavelength [ang]')\n",
      "    plt.ylabel('Flux [Counts]')\n",
      "    plt.legend(loc=0)\n",
      "\n",
      "    plt.subplot(222)\n",
      "    plt.title('Cross Correlation Result')\n",
      "    plt.plot((thisCam.clean_wavelengths[i]-np.median(thisCam.clean_wavelengths[i]))/thisCam.clean_wavelengths[i]*const.c,thisCam.CCCurves[i]/np.max(thisCam.CCCurves[i]))\n",
      "    plt.plot((thisCam.clean_wavelengths[i]-np.median(thisCam.clean_wavelengths[i]))/thisCam.clean_wavelengths[i]*const.c,\n",
      "             gaussian(range(len(thisCam.clean_wavelengths[i])), thisCam.Ps[i][0], thisCam.Ps[i][1]), label = 'gaussian fit') \n",
      "    plt.xlabel('RV [m/s]')\n",
      "    plt.legend(loc=0)\n",
      "    \n",
      "    plt.subplot(224)\n",
      "    plt.title('Cross Correlation Result - Detail')\n",
      "    plt.plot((thisCam.clean_wavelengths[i]-np.median(thisCam.clean_wavelengths[i]))/thisCam.clean_wavelengths[i]*const.c,thisCam.CCCurves[i]/np.max(thisCam.CCCurves[i]))\n",
      "    plt.plot((thisCam.clean_wavelengths[i]-np.median(thisCam.clean_wavelengths[i]))/thisCam.clean_wavelengths[i]*const.c,\n",
      "             gaussian(range(len(thisCam.clean_wavelengths[i])), thisCam.Ps[i][0], thisCam.Ps[i][1]), label = 'gaussian fit') \n",
      "    plt.axis((-8000, 8000,0.5,1.1) )\n",
      "    plt.xlabel('RV [m/s]')\n",
      "    plt.legend(loc=0)    \n",
      "\n",
      "    plt.tight_layout()\n",
      "    plt.show()\n"
     ],
     "language": "python",
     "metadata": {},
     "outputs": [
      {
       "output_type": "stream",
       "stream": "stdout",
       "text": [
        "No labeled objects found. Use label='...' kwarg on individual plots.\n",
        "tight_layout : falling back to Agg renderer\n"
       ]
      }
     ],
     "prompt_number": 28
    },
    {
     "cell_type": "code",
     "collapsed": false,
     "input": [
      "#plots all CC fitted gausian results\\n\",\n",
      "# for i in range(CCCurves.shape[0]):\\n\",\n",
      "thisCam = thisStar.exposures.cameras[0]\n",
      "for i in range(10):\n",
      "    plt.plot((thisCam.clean_wavelengths[i]-np.median(thisCam.clean_wavelengths[i]))/thisCam.clean_wavelengths[i]*const.c,thisCam.CCCurves[i]/np.max(thisCam.CCCurves[i]))\n",
      "#     plt.plot((thisCam.clean_wavelengths[i]-np.median(thisCam.clean_wavelengths[i]))/thisCam.clean_wavelengths[i]*const.c,\n",
      "#              gaussian(range(len(thisCam.clean_wavelengths[i])), thisCam.Ps[i][0], thisCam.Ps[i][1])) \n",
      "    plt.xlabel('RV [m/s]')\n",
      "plt.show()\n"
     ],
     "language": "python",
     "metadata": {},
     "outputs": [],
     "prompt_number": 29
    },
    {
     "cell_type": "code",
     "collapsed": false,
     "input": [
      "#Debuging CC - resampling and cleaning tests\n",
      "flux1 = thisStar.exposures.cameras[0].red_fluxes[0]\n",
      "lambda1 = thisStar.exposures.cameras[0].wavelengths[0]\n",
      "lambda1Clean_10, flux1Clean_10 = clean_flux(flux1, 1, lambda1)\n",
      "# lambda1Clean_10, flux1Clean_10 = clean_flux(flux1, xDef, lambda1)\n",
      "# lambda1Clean_100, flux1Clean_100 = clean_flux(flux1, 100, lambda1)\\n\",\n",
      "plt.plot(lambda1,flux1/np.max(flux1), label= 'Reduced')\n",
      "# plt.plot(lambda1Clean_1,flux1Clean_1)\n",
      "plt.plot(lambda1Clean_10,flux1Clean_10, label= 'Clean')\n",
      "# plt.plot(lambda1Clean_100,flux1Clean_100)\n",
      "plt.title('Reduced and Clean flux')\n",
      "plt.xlabel('Wavelength [Ang.]')\n",
      "plt.ylabel('Relatuve Flux')\n",
      "plt.legend(loc=0)\n",
      "plt.show()\n"
     ],
     "language": "python",
     "metadata": {},
     "outputs": [],
     "prompt_number": 30
    }
   ],
   "metadata": {}
  }
 ]
}