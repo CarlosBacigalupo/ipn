{
 "metadata": {
  "name": ""
 },
 "nbformat": 3,
 "nbformat_minor": 0,
 "worksheets": [
  {
   "cells": [
    {
     "cell_type": "code",
     "collapsed": false,
     "input": [
      "import numpy as np\n",
      "import pyfits as pf\n",
      "import glob\n",
      "import os\n",
      "import pylab as plt\n",
      "import toolbox\n",
      "import TableBrowser as TB"
     ],
     "language": "python",
     "metadata": {},
     "outputs": []
    },
    {
     "cell_type": "code",
     "collapsed": false,
     "input": [
      "os.chdir('/Users/Carlos/Documents/HERMES/data')"
     ],
     "language": "python",
     "metadata": {},
     "outputs": [],
     "prompt_number": 72
    },
    {
     "cell_type": "code",
     "collapsed": false,
     "input": [
      "def cartesian(arrays, out=None):\n",
      "    \"\"\"\n",
      "    Generate a cartesian product of input arrays.\n",
      "\n",
      "    Parameters\n",
      "    ----------\n",
      "    arrays : list of array-like\n",
      "        1-D arrays to form the cartesian product of.\n",
      "    out : ndarray\n",
      "        Array to place the cartesian product in.\n",
      "\n",
      "    Returns\n",
      "    -------\n",
      "    out : ndarray\n",
      "        2-D array of shape (M, len(arrays)) containing cartesian products\n",
      "        formed of input arrays.\n",
      "\n",
      "    Examples\n",
      "    --------\n",
      "    >>> cartesian(([1, 2, 3], [4, 5], [6, 7]))\n",
      "    array([[1, 4, 6],\n",
      "           [1, 4, 7],\n",
      "           [1, 5, 6],\n",
      "           [1, 5, 7],\n",
      "           [2, 4, 6],\n",
      "           [2, 4, 7],\n",
      "           [2, 5, 6],\n",
      "           [2, 5, 7],\n",
      "           [3, 4, 6],\n",
      "           [3, 4, 7],\n",
      "           [3, 5, 6],\n",
      "           [3, 5, 7]])\n",
      "\n",
      "    \"\"\"\n",
      "\n",
      "    arrays = [np.asarray(x) for x in arrays]\n",
      "    dtype = arrays[0].dtype\n",
      "\n",
      "    n = np.prod([x.size for x in arrays])\n",
      "    if out is None:\n",
      "        out = np.zeros([n, len(arrays)], dtype=dtype)\n",
      "\n",
      "    m = n / arrays[0].size\n",
      "    out[:,0] = np.repeat(arrays[0], m)\n",
      "    if arrays[1:]:\n",
      "        cartesian(arrays[1:], out=out[0:m,1:])\n",
      "        for j in xrange(1, arrays[0].size):\n",
      "            out[j*m:(j+1)*m,1:] = out[0:m,1:]\n",
      "    return out"
     ],
     "language": "python",
     "metadata": {},
     "outputs": []
    },
    {
     "cell_type": "code",
     "collapsed": false,
     "input": [
      "dirs = os.listdir('.')"
     ],
     "language": "python",
     "metadata": {},
     "outputs": []
    },
    {
     "cell_type": "code",
     "collapsed": false,
     "input": [
      "# 233 files containing 47tuc observations"
     ],
     "language": "python",
     "metadata": {},
     "outputs": []
    },
    {
     "cell_type": "code",
     "collapsed": false,
     "input": [
      "a = pf.open('131220/data/ccd_1/20dec10003.fits')\n"
     ],
     "language": "python",
     "metadata": {},
     "outputs": []
    },
    {
     "cell_type": "code",
     "collapsed": false,
     "input": [
      "a[0].header.items()"
     ],
     "language": "python",
     "metadata": {},
     "outputs": []
    },
    {
     "cell_type": "code",
     "collapsed": false,
     "input": [
      "numFiles = 0\n",
      "cfg_files = []\n",
      "for i in dirs:\n",
      "    if i[0]=='1':\n",
      "        pattern = i+'/data/ccd_1/*.fits'\n",
      "        files = glob.glob(pattern)\n",
      "        for j in files:\n",
      "            a = pf.open(j)\n",
      "            try:\n",
      "                ha = a[0].header['CFG_FILE']\n",
      "                if ha.find('47tuc')>-1:\n",
      "                    print j, ha\n",
      "                    cfg_files.append(ha)\n",
      "                    numFiles +=1\n",
      "            except:\n",
      "                pass\n",
      "            a.close\n",
      "print numFiles"
     ],
     "language": "python",
     "metadata": {},
     "outputs": []
    },
    {
     "cell_type": "code",
     "collapsed": false,
     "input": [
      "cfg_files = np.array(cfg_files)\n",
      "np.unique(cfg_files)"
     ],
     "language": "python",
     "metadata": {},
     "outputs": []
    },
    {
     "cell_type": "markdown",
     "metadata": {},
     "source": [
      "IFU GRID"
     ]
    },
    {
     "cell_type": "code",
     "collapsed": false,
     "input": [
      "#simbad center\n",
      "# centerRA = toolbox.sex2dec(0, 24, 05.359)*15\n",
      "# centerDec = toolbox.sex2dec(-72, 4, 53.20)\n",
      "\n",
      "#fld's center\n",
      "# centerRA = toolbox.sex2dec(0, 23, 10.)*15\n",
      "# centerDec = toolbox.sex2dec(-72, 4, 40.)\n",
      "\n",
      "#mean center\n",
      "# centerRA = np.mean(a.RA_dec[name_filter])\n",
      "# centerDec = np.mean(a.Dec_dec[name_filter])\n",
      "\n",
      "#manual center\n",
      "centerRA = 5.79\n",
      "centerDec = -72.08\n",
      "\n",
      "\n",
      "separation = toolbox.sex2dec(0, 0, 2)\n",
      "R = toolbox.sex2dec(0, 8, 0)\n",
      "steps = 2*R/separation\n",
      "free_fibres = 13\n",
      "r_fibres = np.sqrt(free_fibres/np.pi)\n",
      "if steps>free_fibres: steps=free_fibres\n",
      "magic_number = 3.2\n",
      "\n",
      "xs = np.linspace(centerRA-R*magic_number, centerRA+R*magic_number, steps)\n",
      "ys = np.linspace(centerDec-R, centerDec+R, steps)\n",
      "xy = cartesian((xs,ys)) #create a square of <steps>**2 fibres "
     ],
     "language": "python",
     "metadata": {},
     "outputs": []
    },
    {
     "cell_type": "code",
     "collapsed": false,
     "input": [
      "d_mask=(R**2>=((xy[:,0]-centerRA)/magic_number)**2+(xy[:,1]-centerDec)**2) #fibres within radius mask"
     ],
     "language": "python",
     "metadata": {},
     "outputs": []
    },
    {
     "cell_type": "code",
     "collapsed": false,
     "input": [
      "xy_filtered = xy[d_mask]\n",
      "print  xy_filtered.shape[0], 'fibres alocated'"
     ],
     "language": "python",
     "metadata": {},
     "outputs": []
    },
    {
     "cell_type": "code",
     "collapsed": false,
     "input": [
      "a = TB.FibreTable('master_files/fld/47tuc-short.fld')\n",
      "a.Dec_dec = a.Dec_deg - a.Dec_min/60. - a.Dec_sec/3600."
     ],
     "language": "python",
     "metadata": {},
     "outputs": [],
     "prompt_number": 73
    },
    {
     "cell_type": "code",
     "collapsed": false,
     "input": [
      "b = np.sqrt((centerDec-a.Dec_dec)**2+(centerRA-a.RA_dec)**2)\n",
      "print 'Distance from center to closest point', toolbox.dec2sex(np.min(b))"
     ],
     "language": "python",
     "metadata": {},
     "outputs": []
    },
    {
     "cell_type": "code",
     "collapsed": false,
     "input": [
      "name_filter = np.char.find(a.target, 'N') > -1"
     ],
     "language": "python",
     "metadata": {},
     "outputs": []
    },
    {
     "cell_type": "code",
     "collapsed": false,
     "input": [
      "# plt.scatter(xy[:,1], xy[:,0], c='g')\n",
      "plt.scatter(a.Dec_dec[name_filter],a.RA_dec[name_filter])\n",
      "plt.scatter( xy_filtered[:,1], xy_filtered[:,0], c='r')\n",
      "plt.scatter(centerDec,centerRA, c='k', marker = '+', s=1000)\n",
      "plt.show()"
     ],
     "language": "python",
     "metadata": {},
     "outputs": []
    },
    {
     "cell_type": "code",
     "collapsed": false,
     "input": [
      "magnitue_list = np.sqrt(((xy_filtered[:,0]-centerRA)/magic_number)**2+(xy_filtered[:,1]-centerDec)**2)/.15/magic_number*(-5)+18"
     ],
     "language": "python",
     "metadata": {},
     "outputs": []
    },
    {
     "cell_type": "code",
     "collapsed": false,
     "input": [
      "#xy_filtered is the list of IFU fibres\n",
      "#turn them into fld form\n",
      "for i in xrange(xy_filtered.shape[0]):\n",
      "    RA1, RA2, RA3 = toolbox.dec2sex(xy_filtered[i,0]/15)\n",
      "    Dec1, Dec2, Dec3 = toolbox.dec2sex(xy_filtered[i,1])\n",
      "    thisMag = magnitue_list[i]\n",
      "    print ('IFU'+\"%03d\"%(i+1)).ljust(11) ,int(RA1), int(RA2), '{0:4.1f}'.format(RA3), int(Dec1),  '{0:2.0f}'.format(Dec2), '{0:4.1f}'.format(Dec3), 'P 9',  '{0:5.2f}'.format(thisMag), '0','IFU grid'\n",
      "    \n",
      "    \n",
      "    \n",
      "    "
     ],
     "language": "python",
     "metadata": {},
     "outputs": []
    },
    {
     "cell_type": "markdown",
     "metadata": {},
     "source": [
      "47Tuc core giants"
     ]
    },
    {
     "cell_type": "code",
     "collapsed": false,
     "input": [
      "os.chdir('/Users/Carlos/Documents/databases/StephLMS')"
     ],
     "language": "python",
     "metadata": {},
     "outputs": []
    },
    {
     "cell_type": "code",
     "collapsed": false,
     "input": [
      "#_r|_RAJ2000|_DEJ2000|3UC|RAJ2000|DEJ2000|ePos|f.mag|ot|db|pmRA|pmDE|Jmag|Kmag|catflg\n",
      "StephLMS = np.genfromtxt('StephLMS.csv', delimiter=',')# usecols=[0,1, 2, 3, 4, 5,6,7,8 ], converters={0:str, 1:int}, delimiter=',')\n",
      "# hya_ucac3_field=np.delete(hya_ucac3_field,np.arange(len(hya_ucac3_field))[np.isnan(hya_ucac3_field[:,0])],0)"
     ],
     "language": "python",
     "metadata": {},
     "outputs": [],
     "prompt_number": 68
    },
    {
     "cell_type": "code",
     "collapsed": false,
     "input": [
      "RAs = StephLMS[:,1]+StephLMS[:,2]/60+StephLMS[:,3]/3600\n",
      "Decs = StephLMS[:,4]+StephLMS[:,5]/60+StephLMS[:,6]/3600"
     ],
     "language": "python",
     "metadata": {},
     "outputs": [],
     "prompt_number": 80
    },
    {
     "cell_type": "code",
     "collapsed": false,
     "input": [
      "a.centre = ((0+ 23/60.+ 10/3600.)*15, -72.-4/60.-40/3600.)#47tuc\n",
      "a.centre = ((0+ 42/60.+ 28.4/3600.)*15, -65.-28/60.-5/3600.)#rho tuc\n",
      "a.centre = ((4+ 07/60.+ 1.2/3600.)*15, 15.+20/60.+6.2/3600.)#HD285507"
     ],
     "language": "python",
     "metadata": {},
     "outputs": [],
     "prompt_number": 183
    },
    {
     "cell_type": "code",
     "collapsed": false,
     "input": [
      "dist = np.sqrt((RAs-a.centre[0])**2+(Decs-a.centre[1])**2)"
     ],
     "language": "python",
     "metadata": {},
     "outputs": [],
     "prompt_number": 184
    },
    {
     "cell_type": "code",
     "collapsed": false,
     "input": [
      "dist[np.isnan(dist)]=1000"
     ],
     "language": "python",
     "metadata": {},
     "outputs": [],
     "prompt_number": 185
    },
    {
     "cell_type": "code",
     "collapsed": false,
     "input": [
      "np.min(dist)"
     ],
     "language": "python",
     "metadata": {},
     "outputs": [
      {
       "metadata": {},
       "output_type": "pyout",
       "prompt_number": 186,
       "text": [
        "39.246385122182566"
       ]
      }
     ],
     "prompt_number": 186
    },
    {
     "cell_type": "code",
     "collapsed": false,
     "input": [
      "os.chdir('/Users/Carlos/Documents/databases/stetson')"
     ],
     "language": "python",
     "metadata": {},
     "outputs": [],
     "prompt_number": 102
    },
    {
     "cell_type": "code",
     "collapsed": false,
     "input": [
      "#                   U    sigma    N    n     B    sigma    N    n     V    sigma    N    n     R    sigma    N    n     I    sigma    N    n   vary?\n",
      "#  N104-S1       99.999 9.9999    0    0  18.890 0.0053    7   12  18.320 0.0072   12   13  99.999 9.9999    0    0  99.999 9.9999    0    0   0.033\n",
      "#  N104-S5       99.999 9.9999    0    0  19.013 0.0030    7   10  18.406 0.0111   12   13  99.999 9.9999    0    0  99.999 9.9999    0    0   0.034\n",
      "#  N104-S6       99.999 9.9999    0    0  18.321 0.0079    5   10  17.780 0.0060    9   11  99.999 9.9999    0    0  99.999 9.9999    0    0   0.010\n"
     ],
     "language": "python",
     "metadata": {},
     "outputs": []
    },
    {
     "cell_type": "code",
     "collapsed": false,
     "input": [
      "# name    U    sigma    N    n     B    sigma    N    n     V    sigma    N    n     R    sigma    N    n     I    sigma    N    n   vary?\n",
      "stetson = np.genfromtxt('NGC104.pho', skiprows=1)#, delimiter=',')# usecols=[0,1, 2, 3, 4, 5,6,7,8 ], converters={0:str, 1:int}, delimiter=',')\n",
      "names = np.genfromtxt('NGC104.pho', skiprows=1, usecols=[0], converters={0:str})"
     ],
     "language": "python",
     "metadata": {},
     "outputs": [],
     "prompt_number": 144
    },
    {
     "cell_type": "code",
     "collapsed": false,
     "input": [
      "stetson[0,9]"
     ],
     "language": "python",
     "metadata": {},
     "outputs": [
      {
       "metadata": {},
       "output_type": "pyout",
       "prompt_number": 148,
       "text": [
        "18.32"
       ]
      }
     ],
     "prompt_number": 148
    },
    {
     "cell_type": "code",
     "collapsed": false,
     "input": [
      "V=stetson[:,9]\n",
      "B=stetson[:,5]\n"
     ],
     "language": "python",
     "metadata": {},
     "outputs": [],
     "prompt_number": 149
    },
    {
     "cell_type": "code",
     "collapsed": false,
     "input": [
      "mag_mask = stetson[:,9]<13.\n",
      "np.sum(mag_mask)"
     ],
     "language": "python",
     "metadata": {},
     "outputs": [
      {
       "metadata": {},
       "output_type": "pyout",
       "prompt_number": 150,
       "text": [
        "93"
       ]
      }
     ],
     "prompt_number": 150
    },
    {
     "cell_type": "code",
     "collapsed": false,
     "input": [
      "np.arange(len(mag_mask))[mag_mask]"
     ],
     "language": "python",
     "metadata": {},
     "outputs": [
      {
       "metadata": {},
       "output_type": "pyout",
       "prompt_number": 153,
       "text": [
        "array([ 138,  303,  828,  911,  924,  929,  930,  939,  972,  988, 1034,\n",
        "       1039, 1068, 1073, 1112, 1129, 1134, 1141, 1145, 1149, 1154, 1164,\n",
        "       1170, 1184, 1213, 1215, 1221, 1234, 1241, 1266, 1268, 1272, 1284,\n",
        "       1290, 1292, 1296, 1297, 1300, 1301, 1307, 1308, 1323, 1325, 1329,\n",
        "       1331, 1337, 1346, 1347, 1348, 1350, 1355, 1359, 1361, 1363, 1370,\n",
        "       1376, 1383, 1396, 1416, 1418, 1440, 1455, 1456, 1459, 1461, 1464,\n",
        "       1475, 1479, 1503, 1506, 1512, 1516, 1519, 1526, 1539, 1541, 1556,\n",
        "       1560, 1582, 1616, 1624, 1634, 1764, 1768, 1770, 1781, 1800, 1816,\n",
        "       1825, 1848, 1867, 1940, 2059])"
       ]
      }
     ],
     "prompt_number": 153
    },
    {
     "cell_type": "code",
     "collapsed": false,
     "input": [
      "goodNames = names[mag_mask]"
     ],
     "language": "python",
     "metadata": {},
     "outputs": [],
     "prompt_number": 155
    },
    {
     "cell_type": "code",
     "collapsed": false,
     "input": [
      "goodNames"
     ],
     "language": "python",
     "metadata": {},
     "outputs": [
      {
       "metadata": {},
       "output_type": "pyout",
       "prompt_number": 161,
       "text": [
        "array(['N104-S167', 'N104-S333', 'N104-S916', 'N104-S1001', 'N104-S1014',\n",
        "       'N104-S1019', 'N104-S1020', 'N104-S1029', 'N104-S1064',\n",
        "       'N104-S1080', 'N104-S1126', 'N104-S1131', 'N104-S1160',\n",
        "       'N104-S1165', 'N104-S1205', 'N104-S1222', 'N104-S1227',\n",
        "       'N104-S1234', 'N104-S1238', 'N104-S1243', 'N104-S1248',\n",
        "       'N104-S1258', 'N104-S1264', 'N104-S1278', 'N104-S1308',\n",
        "       'N104-S1310', 'N104-S1316', 'N104-S1329', 'N104-S1336',\n",
        "       'N104-S1362', 'N104-S1365', 'N104-S1369', 'N104-S1382',\n",
        "       'N104-S1388', 'N104-S1390', 'N104-S1395', 'N104-S1396',\n",
        "       'N104-S1399', 'N104-S1400', 'N104-S1407', 'N104-S1408',\n",
        "       'N104-S1423', 'N104-S1425', 'N104-S1429', 'N104-S1431',\n",
        "       'N104-S1437', 'N104-S1446', 'N104-S1447', 'N104-S1448',\n",
        "       'N104-S1450', 'N104-S1455', 'N104-S1459', 'N104-S1461',\n",
        "       'N104-S1463', 'N104-S1470', 'N104-S1476', 'N104-S1483',\n",
        "       'N104-S1496', 'N104-S1516', 'N104-S1518', 'N104-S1541',\n",
        "       'N104-S1556', 'N104-S1557', 'N104-S1560', 'N104-S1562',\n",
        "       'N104-S1565', 'N104-S1577', 'N104-S1581', 'N104-S1606',\n",
        "       'N104-S1609', 'N104-S1615', 'N104-S1619', 'N104-S1622',\n",
        "       'N104-S1629', 'N104-S1642', 'N104-S1644', 'N104-S1659',\n",
        "       'N104-S1663', 'N104-S1685', 'N104-S1721', 'N104-S1729',\n",
        "       'N104-S1739', 'N104-S2028', 'N104-S2034', 'N104-S2036',\n",
        "       'N104-S2047', 'N104-S2067', 'N104-S2083', 'N104-S2093',\n",
        "       'N104-S2117', 'N104-S2137', 'N104-S2213', 'N104-S2281'], \n",
        "      dtype='|S10')"
       ]
      }
     ],
     "prompt_number": 161
    },
    {
     "cell_type": "code",
     "collapsed": false,
     "input": [
      "plt.scatter(B-V, V)\n",
      "a = plt.gcf()\n",
      "plt.gca().invert_yaxis()\n",
      "plt.show()"
     ],
     "language": "python",
     "metadata": {},
     "outputs": [],
     "prompt_number": 127
    },
    {
     "cell_type": "code",
     "collapsed": false,
     "input": [
      "V"
     ],
     "language": "python",
     "metadata": {},
     "outputs": [
      {
       "metadata": {},
       "output_type": "pyout",
       "prompt_number": 112,
       "text": [
        "11.638"
       ]
      }
     ],
     "prompt_number": 112
    },
    {
     "cell_type": "code",
     "collapsed": false,
     "input": [
      "stetsonPOS = np.genfromtxt('NGC104.pos', skiprows=1)#, delimiter=',')# usecols=[0,1, 2, 3, 4, 5,6,7,8 ], converters={0:str, 1:int}, delimiter=',')\n",
      "namesPOS = np.genfromtxt('NGC104.pos', skiprows=1, usecols=[12], converters={12:str})"
     ],
     "language": "python",
     "metadata": {},
     "outputs": [],
     "prompt_number": 137
    },
    {
     "cell_type": "code",
     "collapsed": false,
     "input": [
      "namesPOS[138]"
     ],
     "language": "python",
     "metadata": {},
     "outputs": [
      {
       "metadata": {},
       "output_type": "pyout",
       "prompt_number": 160,
       "text": [
        "'N104-S167'"
       ]
      }
     ],
     "prompt_number": 160
    },
    {
     "cell_type": "code",
     "collapsed": false,
     "input": [
      "for i in goodNames:\n",
      "    print stetsonPOS[np.where(namesPOS==i)[0][0]][0],stetsonPOS[np.where(namesPOS==i)[0][0]][1]"
     ],
     "language": "python",
     "metadata": {},
     "outputs": [
      {
       "output_type": "stream",
       "stream": "stdout",
       "text": [
        "5.09496792952 -72.0204470391\n",
        "5.18985759417 -72.077542998\n",
        "5.43208621343 -72.0878523048\n",
        "5.50550334801 -72.2217694839\n",
        "5.52384576201 -72.0657196098\n",
        "5.52461867332 -72.1302583726\n",
        "5.52986033559 -72.0091205989\n",
        "5.54153430462 -72.055416228\n",
        "5.58183612823 -71.9107078319\n",
        "5.59596517881 -72.1180492603\n",
        "5.66842171351 -72.1485305362\n",
        "5.67921250661 -71.9933811241\n",
        "5.71548329989 -72.2437860489\n",
        "5.7252278169 -72.0880201472\n",
        "5.78304859797 -72.0158730888\n",
        "5.80353508393 -72.1719177378\n",
        "5.81723901431 -72.1299729114\n",
        "5.83735663891 -72.0883682383\n",
        "5.84084877173 -71.9325315719\n",
        "5.8449438254 -72.0177012237\n",
        "5.84766034285 -72.0954682149\n",
        "5.85619206429 -72.2319578139\n",
        "5.86040276686 -72.1045781385\n",
        "5.87195008596 -72.0800382402\n",
        "5.89108002981 -72.0578564405\n",
        "5.89106693268 -72.1139682844\n",
        "5.89617951711 -72.0246704239\n",
        "5.90485073725 -72.1103825548\n",
        "5.90718838374 -72.0914060794\n",
        "5.92295201619 -72.1125452614\n",
        "5.92425317764 -72.0715913714\n",
        "5.92835280101 -72.102945701\n",
        "5.94181143443 -71.960346649\n",
        "5.94614596367 -72.0979265149\n",
        "5.9473370711 -72.1145964728\n",
        "5.95356411934 -72.1260079628\n",
        "5.95400195122 -72.0535495535\n",
        "5.95513343811 -72.1054091909\n",
        "5.95564343135 -72.0862760176\n",
        "5.96346615156 -72.0635913255\n",
        "5.9635843277 -72.0860446718\n",
        "5.97659502029 -71.9765522915\n",
        "5.97712596258 -72.11045736\n",
        "5.98177177111 -71.9578911066\n",
        "5.98255790075 -72.10677184\n",
        "5.99467471441 -71.9028984401\n",
        "6.0139935712 -71.9298328061\n",
        "6.01675657233 -71.94061513\n",
        "6.01868551771 -71.953098349\n",
        "6.02116013368 -72.0009089143\n",
        "6.03232760429 -71.964400497\n",
        "6.04378651381 -72.1878921387\n",
        "6.05222037236 -71.9210853036\n",
        "6.05585916837 -72.1906357665\n",
        "6.07015794913 -72.1970800093\n",
        "6.0795984745 -72.1432995997\n",
        "6.09357886314 -71.8913222694\n",
        "6.148026975 -72.245868242\n",
        "6.18756720225 -72.1403214635\n",
        "6.19069159826 -72.1528866228\n",
        "6.22682560285 -72.0017040083\n",
        "6.25243672058 -71.9329745112\n",
        "6.25398706372 -72.0394249773\n",
        "6.26463634372 -72.0922053332\n",
        "6.26756680012 -72.1110854011\n",
        "6.27960680326 -72.0115174993\n",
        "6.29286313454 -71.9745928706\n",
        "6.305098478 -72.1306913704\n",
        "6.33536437352 -72.1111061965\n",
        "6.34327390194 -72.1987079673\n",
        "6.34822605451 -72.2021521097\n",
        "6.3467354695 -72.0437386937\n",
        "6.34568644365 -71.9101949035\n",
        "6.36321603457 -72.2518434824\n",
        "6.37443753084 -72.0383311733\n",
        "6.38107813994 -72.2438404528\n",
        "6.39262186686 -71.9598055787\n",
        "6.39836584727 -72.0689205824\n",
        "6.43281939824 -72.1141194503\n",
        "6.47663938204 -72.0303004127\n",
        "6.48934602737 -72.1313549476\n",
        "6.49823683103 -72.0752779807\n",
        "6.02955098152 -72.0582459407\n",
        "6.10413101514 -72.046044409\n",
        "6.14217341741 -72.0866812494\n",
        "6.17468094826 -72.0537775988\n",
        "6.22824935913 -72.0976987616\n",
        "5.92992560069 -72.0448616992\n",
        "5.98978799184 -72.1774464512\n",
        "6.06577850183 -72.0114977275\n",
        "6.13069152037 -72.0236817498\n",
        "6.31703024705 -72.0266246541\n",
        "5.2236500899 -72.2266818004\n"
       ]
      }
     ],
     "prompt_number": 163
    },
    {
     "cell_type": "code",
     "collapsed": false,
     "input": [
      "os.chdir('/Users/Carlos/Dropbox/PhD/Docs/My Docs/HERMES_ObsPlan_Aug14')"
     ],
     "language": "python",
     "metadata": {},
     "outputs": [],
     "prompt_number": 165
    },
    {
     "cell_type": "code",
     "collapsed": false,
     "input": [
      "#_r|_RAJ2000|_DEJ2000|3UC|RAJ2000|DEJ2000|ePos|f.mag|ot|db|pmRA|pmDE|Jmag|Kmag|catflg\n",
      "hya_ucac3 = np.genfromtxt('47Tuc_bright.tsv', delimiter='|', comments='#')\n",
      "hya_ucac3=np.delete(hya_ucac3,np.arange(len(hya_ucac3))[np.isnan(hya_ucac3[:,0])],0)"
     ],
     "language": "python",
     "metadata": {},
     "outputs": [],
     "prompt_number": 175
    },
    {
     "cell_type": "code",
     "collapsed": false,
     "input": [
      "#export into fld form\n",
      "for i in xrange(hya_ucac3.shape[0]):\n",
      "    RA1, RA2, RA3 = toolbox.dec2sex(hya_ucac3[i,4]/15)\n",
      "    Dec1, Dec2, Dec3 = toolbox.dec2sex(hya_ucac3[i,5])\n",
      "    thisMag = hya_ucac3[i,13]+2\n",
      "    print ('Brght'+\"%02d\"%(i+1)).ljust(11) ,int(RA1), int(RA2), '{0:4.1f}'.format(RA3),' ',int(Dec1),  '{0:2.0f}'.format(Dec2), '{0:4.1f}'.format(Dec3), ' ','P 9 ',  '{0:5.2f}'.format(thisMag), '0','2014'\n"
     ],
     "language": "python",
     "metadata": {},
     "outputs": [
      {
       "output_type": "stream",
       "stream": "stdout",
       "text": [
        "Brght01     0 20 22.8   -72  1 13.6   P 9  12.01 0 2014\n",
        "Brght02     0 20 45.6   -72  4 39.1   P 9  10.56 0 2014\n",
        "Brght03     0 21 43.7   -72  5 16.3   P 9  11.80 0 2014\n",
        "Brght04     0 22  1.4   -72 13 18.3   P 9  11.27 0 2014\n",
        "Brght05     0 22  5.7   -72  3 56.6   P 9  10.35 0 2014\n",
        "Brght06     0 22  5.9   -72  7 48.9   P 9   9.95 0 2014\n",
        "Brght07     0 22  7.2   -72  0 32.9   P 9  11.36 0 2014\n",
        "Brght08     0 22 10.0   -72  3 19.5   P 9  11.48 0 2014\n",
        "Brght09     0 22 19.6   -71 54 38.4   P 9  11.40 0 2014\n",
        "Brght10     0 22 23.0   -72  7  5.0   P 9  10.49 0 2014\n",
        "Brght11     0 22 40.4   -72  8 54.8   P 9  10.76 0 2014\n",
        "Brght12     0 22 43.0   -71 59 36.2   P 9  12.99 0 2014\n",
        "Brght13     0 22 51.8   -72 14 37.7   P 9  10.85 0 2014\n",
        "Brght14     0 22 54.1   -72  5 17.0   P 9  11.57 0 2014\n",
        "Brght15     0 23  7.9   -72  0 57.2   P 9  11.38 0 2014\n",
        "Brght16     0 23 12.9   -72 10 19.0   P 9  10.93 0 2014\n",
        "Brght17     0 23 16.2   -72  7 48.0   P 9  11.71 0 2014\n",
        "Brght18     0 23 20.9   -72  5 18.4   P 9  11.67 0 2014\n",
        "Brght19     0 23 21.8   -71 55 57.1   P 9  11.39 0 2014\n",
        "Brght20     0 23 22.8   -72  1  3.8   P 9  10.16 0 2014\n",
        "Brght21     0 23 23.5   -72  5 43.9   P 9  10.96 0 2014\n",
        "Brght22     0 23 25.5   -72 13 55.1   P 9  11.95 0 2014\n",
        "Brght23     0 23 26.5   -72  6 16.6   P 9  11.10 0 2014\n",
        "Brght24     0 23 29.3   -72  4 48.3   P 9  11.46 0 2014\n",
        "Brght25     0 23 33.9   -72  3 28.5   P 9  11.33 0 2014\n",
        "Brght26     0 23 33.9   -72  6 50.4   P 9  11.75 0 2014\n",
        "Brght27     0 23 35.1   -72  1 28.9   P 9  10.55 0 2014\n",
        "Brght28     0 23 37.2   -72  6 37.6   P 9  11.81 0 2014\n",
        "Brght29     0 23 37.7   -72  5 29.2   P 9  11.83 0 2014\n",
        "Brght30     0 23 41.5   -72  6 45.4   P 9  10.39 0 2014\n",
        "Brght31     0 23 41.8   -72  4 17.9   P 9  10.58 0 2014\n",
        "Brght32     0 23 42.8   -72  6 10.8   P 9  11.70 0 2014\n",
        "Brght33     0 23 46.0   -71 57 37.3   P 9  11.86 0 2014\n",
        "Brght34     0 23 47.1   -72  5 52.8   P 9  11.04 0 2014\n",
        "Brght35     0 23 47.4   -72  6 52.7   P 9   8.84 0 2014\n",
        "Brght36     0 23 48.9   -72  7 33.8   P 9  11.78 0 2014\n",
        "Brght37     0 23 49.0   -72  3 13.0   P 9   9.49 0 2014\n",
        "Brght38     0 23 49.3   -72  6 19.6   P 9   9.86 0 2014\n",
        "Brght39     0 23 51.2   -72  3 49.1   P 9   9.32 0 2014\n",
        "Brght40     0 23 54.4   -71 58 35.6   P 9  10.79 0 2014\n",
        "Brght41     0 23 54.5   -72  6 37.8   P 9  10.50 0 2014\n",
        "Brght42     0 23 55.6   -71 57 28.4   P 9   9.31 0 2014\n",
        "Brght43     0 23 55.9   -72  6 24.6   P 9  11.42 0 2014\n",
        "Brght44     0 23 58.7   -71 54 10.4   P 9  10.76 0 2014\n",
        "Brght45     0 24  3.4   -71 55 47.4   P 9   9.81 0 2014\n",
        "Brght46     0 24  4.0   -71 56 26.2   P 9  10.37 0 2014\n",
        "Brght47     0 24  4.5   -71 57 11.1   P 9  10.23 0 2014\n",
        "Brght48     0 24  5.1   -72  0  3.3   P 9  10.10 0 2014\n",
        "Brght49     0 24  7.8   -71 57 51.9   P 9  11.36 0 2014\n",
        "Brght50     0 24 10.5   -72 11 16.5   P 9   9.93 0 2014\n",
        "Brght51     0 24 12.5   -71 55 15.8   P 9  11.82 0 2014\n",
        "Brght52     0 24 13.4   -72 11 26.4   P 9  10.78 0 2014\n",
        "Brght53     0 24 16.9   -72 11 49.6   P 9  10.84 0 2014\n",
        "Brght54     0 24 19.1   -72  8 36.0   P 9  12.24 0 2014\n",
        "Brght55     0 24 22.5   -71 53 28.7   P 9   8.98 0 2014\n",
        "Brght56     0 24 35.6   -72 14 45.2   P 9  11.96 0 2014\n",
        "Brght57     0 24 45.1   -72  8 25.2   P 9  11.10 0 2014\n",
        "Brght58     0 24 45.8   -72  9 10.4   P 9  11.44 0 2014\n",
        "Brght59     0 24 54.5   -72  0  6.2   P 9  13.17 0 2014\n",
        "Brght60     0 25  0.6   -71 55 58.6   P 9  10.62 0 2014\n",
        "Brght61     0 25  1.0   -72  2 22.1   P 9  11.75 0 2014\n",
        "Brght62     0 25  3.6   -72  5 32.0   P 9  10.72 0 2014\n",
        "Brght63     0 25  4.3   -72  6 39.9   P 9  10.63 0 2014\n",
        "Brght64     0 25  7.2   -72  0 41.6   P 9  11.76 0 2014\n",
        "Brght65     0 25 10.3   -71 58 28.5   P 9  11.01 0 2014\n",
        "Brght66     0 25 13.3   -72  7 50.5   P 9  11.43 0 2014\n",
        "Brght67     0 25 20.6   -72  6 39.9   P 9   8.90 0 2014\n",
        "Brght68     0 25 22.5   -72 11 55.3   P 9  11.21 0 2014\n",
        "Brght69     0 25 23.7   -72 12  7.7   P 9  11.99 0 2014\n",
        "Brght70     0 25 23.3   -72  2 37.5   P 9  11.42 0 2014\n",
        "Brght71     0 25 23.0   -71 54 36.6   P 9  11.32 0 2014\n",
        "Brght72     0 25 27.3   -72 15  6.6   P 9  11.72 0 2014\n",
        "Brght73     0 25 29.9   -72  2 18.0   P 9  11.63 0 2014\n",
        "Brght74     0 25 31.5   -72 14 37.8   P 9  12.35 0 2014\n",
        "Brght75     0 25 34.3   -71 57 35.3   P 9  11.76 0 2014\n",
        "Brght76     0 25 35.7   -72  4  8.1   P 9  10.11 0 2014\n",
        "Brght77     0 25 44.0   -72  6 50.7   P 9   9.21 0 2014\n",
        "Brght78     0 25 54.5   -72  1 49.1   P 9  11.42 0 2014\n",
        "Brght79     0 25 57.5   -72  7 52.8   P 9  11.58 0 2014\n",
        "Brght80     0 25 59.6   -72  4 31.0   P 9  10.77 0 2014\n",
        "Brght81     0 24 25.0   -72  2 45.8   P 9  11.44 0 2014\n",
        "Brght82     0 24 34.2   -72  5 12.0   P 9  11.64 0 2014\n",
        "Brght83     0 24 42.0   -72  3 13.6   P 9  11.14 0 2014\n",
        "Brght84     0 24 54.8   -72  5 51.7   P 9  10.73 0 2014\n",
        "Brght85     0 23 43.2   -72  2 41.7   P 9  11.17 0 2014\n",
        "Brght86     0 23 57.6   -72 10 38.9   P 9  11.36 0 2014\n",
        "Brght87     0 24 15.8   -72  0 41.4   P 9  11.09 0 2014\n",
        "Brght88     0 24 31.4   -72  1 25.3   P 9  11.39 0 2014\n",
        "Brght89     0 25 16.1   -72  1 35.9   P 9  12.07 0 2014\n",
        "Brght90     0 20 53.7   -72 13 36.1   P 9  11.36 0 2014\n"
       ]
      }
     ],
     "prompt_number": 177
    },
    {
     "cell_type": "code",
     "collapsed": false,
     "input": [],
     "language": "python",
     "metadata": {},
     "outputs": []
    }
   ],
   "metadata": {}
  }
 ]
}