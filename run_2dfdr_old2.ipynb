{
 "metadata": {
  "name": "",
  "signature": "sha256:9e87ce1ad0d1f9a6e3d0d20816698918e656a00d8c68de091d7cc78866115675"
 },
 "nbformat": 3,
 "nbformat_minor": 0,
 "worksheets": [
  {
   "cells": [
    {
     "cell_type": "code",
     "collapsed": false,
     "input": [
      "import reduce_2dfdr \n",
      "reload(reduce_2dfdr)\n",
      "import os\n",
      "# import glob\n",
      "#instantiate class\n",
      "dr2df = reduce_2dfdr.dr2df()\n",
      "\n",
      "#2dfdr program dir\n",
      "dr2df.dr_dir = '/Users/Carlos/Documents/workspace/2dfdr/6.0/src_code/2dfdr-6.0/bin'\n",
      "os.environ['PATH'] = '/Users/Carlos/Documents/workspace/2dfdr/6.0/src_code/2dfdr-6.0/bin:' + os.environ['PATH']\n",
      "\n",
      "#file with reduction parameters \n",
      "meta_file = 'meta_m67_all_LR'\n",
      "\n",
      "#run forest, run\n",
      "dr2df.doReduce(meta_file)"
     ],
     "language": "python",
     "metadata": {},
     "outputs": [
      {
       "output_type": "stream",
       "stream": "stdout",
       "text": [
        "Starting one arc reduction\n",
        "  Reducing 1\n",
        "Starting Reduction\n"
       ]
      },
      {
       "ename": "OSError",
       "evalue": "[Errno 2] No such file or directory: '/disks/ceres/makemake/aphot/kalumbe/reductions/m67_all/0_17dec/1/'",
       "output_type": "pyerr",
       "traceback": [
        "\u001b[0;31m---------------------------------------------------------------------------\u001b[0m\n\u001b[0;31mOSError\u001b[0m                                   Traceback (most recent call last)",
        "\u001b[0;32m<ipython-input-19-c1926bdd69f8>\u001b[0m in \u001b[0;36m<module>\u001b[0;34m()\u001b[0m\n\u001b[1;32m     10\u001b[0m \u001b[0;34m\u001b[0m\u001b[0m\n\u001b[1;32m     11\u001b[0m \u001b[0;31m#run Forest, run\u001b[0m\u001b[0;34m\u001b[0m\u001b[0;34m\u001b[0m\u001b[0m\n\u001b[0;32m---> 12\u001b[0;31m \u001b[0mdr2df\u001b[0m\u001b[0;34m.\u001b[0m\u001b[0mdoReduce\u001b[0m\u001b[0;34m(\u001b[0m\u001b[0mmeta_file\u001b[0m\u001b[0;34m)\u001b[0m\u001b[0;34m\u001b[0m\u001b[0m\n\u001b[0m",
        "\u001b[0;32m/Users/Carlos/Documents/ipn/reduce_2dfdr.py\u001b[0m in \u001b[0;36mdoReduce\u001b[0;34m(self, meta_file)\u001b[0m\n\u001b[1;32m     53\u001b[0m                 \u001b[0mself\u001b[0m\u001b[0;34m.\u001b[0m\u001b[0mdate_array\u001b[0m \u001b[0;34m=\u001b[0m \u001b[0mmeta\u001b[0m\u001b[0;34m.\u001b[0m\u001b[0mdate_array\u001b[0m\u001b[0;34m[\u001b[0m\u001b[0;36m0\u001b[0m\u001b[0;34m]\u001b[0m\u001b[0;34m\u001b[0m\u001b[0m\n\u001b[1;32m     54\u001b[0m                 \u001b[0;32mprint\u001b[0m \u001b[0;34m'  Reducing'\u001b[0m\u001b[0;34m,\u001b[0m \u001b[0mself\u001b[0m\u001b[0;34m.\u001b[0m\u001b[0mdate_array\u001b[0m\u001b[0;34m[\u001b[0m\u001b[0;36m0\u001b[0m\u001b[0;34m]\u001b[0m\u001b[0;34m\u001b[0m\u001b[0m\n\u001b[0;32m---> 55\u001b[0;31m                 \u001b[0mself\u001b[0m\u001b[0;34m.\u001b[0m\u001b[0mauto_reduce\u001b[0m\u001b[0;34m(\u001b[0m\u001b[0mcopyFiles\u001b[0m \u001b[0;34m=\u001b[0m \u001b[0mmeta\u001b[0m\u001b[0;34m.\u001b[0m\u001b[0mcopyFiles\u001b[0m\u001b[0;34m,\u001b[0m \u001b[0midxFile\u001b[0m \u001b[0;34m=\u001b[0m \u001b[0mmeta\u001b[0m\u001b[0;34m.\u001b[0m\u001b[0midxFile\u001b[0m\u001b[0;34m,\u001b[0m \u001b[0mdoReduce\u001b[0m \u001b[0;34m=\u001b[0m \u001b[0mmeta\u001b[0m\u001b[0;34m.\u001b[0m\u001b[0mdoReduce\u001b[0m\u001b[0;34m)\u001b[0m\u001b[0;34m\u001b[0m\u001b[0m\n\u001b[0m\u001b[1;32m     56\u001b[0m \u001b[0;34m\u001b[0m\u001b[0m\n\u001b[1;32m     57\u001b[0m                 \u001b[0;31m#copy files as usual,\u001b[0m\u001b[0;34m\u001b[0m\u001b[0;34m\u001b[0m\u001b[0m\n",
        "\u001b[0;32m/Users/Carlos/Documents/ipn/reduce_2dfdr.py\u001b[0m in \u001b[0;36mauto_reduce\u001b[0;34m(self, overwrite, copyFiles, idxFile, doReduce, useBias)\u001b[0m\n\u001b[1;32m    166\u001b[0m                     \u001b[0;32mfor\u001b[0m \u001b[0mj\u001b[0m \u001b[0;32min\u001b[0m \u001b[0;34m[\u001b[0m\u001b[0mself\u001b[0m\u001b[0;34m.\u001b[0m\u001b[0mfiles1\u001b[0m\u001b[0;34m,\u001b[0m \u001b[0mself\u001b[0m\u001b[0;34m.\u001b[0m\u001b[0mfiles2\u001b[0m\u001b[0;34m,\u001b[0m \u001b[0mself\u001b[0m\u001b[0;34m.\u001b[0m\u001b[0mfiles3\u001b[0m\u001b[0;34m,\u001b[0m \u001b[0mself\u001b[0m\u001b[0;34m.\u001b[0m\u001b[0mfiles4\u001b[0m\u001b[0;34m]\u001b[0m\u001b[0;34m:\u001b[0m\u001b[0;34m\u001b[0m\u001b[0m\n\u001b[1;32m    167\u001b[0m                         \u001b[0mcam\u001b[0m \u001b[0;34m+=\u001b[0m \u001b[0;36m1\u001b[0m\u001b[0;34m\u001b[0m\u001b[0m\n\u001b[0;32m--> 168\u001b[0;31m                         \u001b[0mos\u001b[0m\u001b[0;34m.\u001b[0m\u001b[0mchdir\u001b[0m\u001b[0;34m(\u001b[0m\u001b[0mself\u001b[0m\u001b[0;34m.\u001b[0m\u001b[0mtarget_dir\u001b[0m \u001b[0;34m+\u001b[0m \u001b[0mstr\u001b[0m\u001b[0;34m(\u001b[0m\u001b[0mcam\u001b[0m\u001b[0;34m)\u001b[0m \u001b[0;34m+\u001b[0m \u001b[0;34m'/'\u001b[0m\u001b[0;34m)\u001b[0m\u001b[0;34m\u001b[0m\u001b[0m\n\u001b[0m\u001b[1;32m    169\u001b[0m                         \u001b[0;32mprint\u001b[0m \u001b[0mj\u001b[0m\u001b[0;34m\u001b[0m\u001b[0m\n\u001b[1;32m    170\u001b[0m                         \u001b[0;32mprint\u001b[0m \u001b[0;34m'arc'\u001b[0m\u001b[0;34m,\u001b[0m\u001b[0mj\u001b[0m\u001b[0;34m[\u001b[0m\u001b[0mself\u001b[0m\u001b[0;34m.\u001b[0m\u001b[0marc\u001b[0m\u001b[0;34m]\u001b[0m\u001b[0;34m\u001b[0m\u001b[0m\n",
        "\u001b[0;31mOSError\u001b[0m: [Errno 2] No such file or directory: '/disks/ceres/makemake/aphot/kalumbe/reductions/m67_all/0_17dec/1/'"
       ]
      }
     ],
     "prompt_number": 19
    },
    {
     "cell_type": "code",
     "collapsed": false,
     "input": [
      "#Reduce single arc style\n",
      "#travels the arrays specified above running a full 2dfdr reduction in each loop\n",
      "# dr2df.final_dir = final_dir\n",
      "# importFlatArc = 0 #This forces all datasets to use the first(0th) reduced arc as the wl model\n",
      "\n",
      "#first normal reduce the first dataset\n",
      "# for i in range(len(date_array)):\n",
      "#     if i>=startFrom: #to skip a few filesets when needed\n",
      "\n",
      "\n",
      "# for i in range(len(date_array)):\n",
      "#     if i>=startFrom: #to skip a few filesets when needed\n",
      "#         print date_array[i]\n",
      "#         dr2df.source_dir = source_dir_array[i]\n",
      "#         dr2df.target_dir = batch_dir + str(i) + '_'+ date_array[i] +'/'\n",
      "#         dr2df.file_ix = ix_array[i]\n",
      "#         dr2df.date = date_array[i] \n",
      "#         dr2df.arc = arc_array[i] \n",
      "#         dr2df.flat = flat_array[i] \n",
      "# #         dr2df.bias_dir = glob.glob(batch_dir + 'bias/'+str(bias_array[i])+'_*')[0] + '/'\n",
      "#         dr2df.auto_reduce(copyFiles = copyFiles, idxFile = idxFile, doReduce = doReduce) \n",
      "\n"
     ],
     "language": "python",
     "metadata": {},
     "outputs": []
    },
    {
     "cell_type": "code",
     "collapsed": false,
     "input": [
      "# #SCIENCE\n",
      "# #travels the arrays specified above running a full 2dfdr reduction in each loop\n",
      "# dr2df.final_dir = final_dir\n",
      "\n",
      "# for i in range(len(date_array)):\n",
      "#     if i>=startFrom: #to skip a few filesets when needed\n",
      "#         print date_array[i]\n",
      "#         dr2df.source_dir = source_dir_array[i]\n",
      "#         dr2df.target_dir = batch_dir + str(i) + '_'+ date_array[i] +'/'\n",
      "#         dr2df.file_ix = ix_array[i]\n",
      "#         dr2df.date = date_array[i] \n",
      "#         dr2df.arc = arc_array[i] \n",
      "#         dr2df.flat = flat_array[i] \n",
      "# #         dr2df.bias_dir = glob.glob(batch_dir + 'bias/'+str(bias_array[i])+'_*')[0] + '/'\n",
      "#         dr2df.auto_reduce(copyFiles = copyFiles, idxFile = idxFile, doReduce = doReduce) \n"
     ],
     "language": "python",
     "metadata": {},
     "outputs": [
      {
       "output_type": "stream",
       "stream": "stdout",
       "text": [
        "21aug\n",
        "Starting Reduction\n",
        "['21aug10031.fits', '21aug10032.fits', '21aug10033.fits', '21aug10034.fits', '21aug10035.fits']\n",
        "arc 21aug10032.fits\n",
        "flat 21aug10031.fits\n",
        "drcontrol reduce_fflat 21aug10031.fits -BIAS_FILENAME BIAScombined.fits -idxfile no_flat_no_bias.idx -OUT_DIRNAME 21aug10031_outdir"
       ]
      },
      {
       "output_type": "stream",
       "stream": "stdout",
       "text": [
        "\n",
        "drcontrol reduce_arc 21aug10032.fits -BIAS_FILENAME BIAScombined.fits -idxfile no_flat_no_bias.idx -TLMAP_FILENAME 21aug10031tlm.fits -OUT_DIRNAME 21aug10032_outdir"
       ]
      }
     ]
    }
   ],
   "metadata": {}
  }
 ]
}