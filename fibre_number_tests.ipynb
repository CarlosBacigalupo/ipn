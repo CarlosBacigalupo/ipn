{
 "cells": [
  {
   "cell_type": "code",
   "execution_count": 1,
   "metadata": {
    "collapsed": true
   },
   "outputs": [],
   "source": [
    "import pylab as plt"
   ]
  },
  {
   "cell_type": "code",
   "execution_count": 2,
   "metadata": {
    "collapsed": true
   },
   "outputs": [],
   "source": [
    "import numpy as np"
   ]
  },
  {
   "cell_type": "code",
   "execution_count": 3,
   "metadata": {
    "collapsed": false
   },
   "outputs": [],
   "source": [
    "import glob"
   ]
  },
  {
   "cell_type": "code",
   "execution_count": 4,
   "metadata": {
    "collapsed": false
   },
   "outputs": [],
   "source": [
    "import myHerpyTools as MHT"
   ]
  },
  {
   "cell_type": "code",
   "execution_count": 5,
   "metadata": {
    "collapsed": true
   },
   "outputs": [],
   "source": [
    "baseFolder = \"/Users/Carlos/Documents/HERMES/reductions/new_start_6.5/rhoTuc\""
   ]
  },
  {
   "cell_type": "code",
   "execution_count": null,
   "metadata": {
    "collapsed": false
   },
   "outputs": [],
   "source": [
    "ls"
   ]
  },
  {
   "cell_type": "code",
   "execution_count": 6,
   "metadata": {
    "collapsed": false
   },
   "outputs": [
    {
     "name": "stdout",
     "output_type": "stream",
     "text": [
      "/Users/Carlos/Documents/HERMES/reductions/new_start_6.5/rhoTuc/herpy_out/3\n"
     ]
    }
   ],
   "source": [
    "cd /Users/Carlos/Documents/HERMES/reductions/new_start_6.5/rhoTuc/herpy_out/3/"
   ]
  },
  {
   "cell_type": "code",
   "execution_count": null,
   "metadata": {
    "collapsed": true
   },
   "outputs": [],
   "source": [
    "#HD1581\n",
    "cam (0-3)- epoch (0-4)\n",
    "0-0 169\n",
    "0-1 169\n",
    "0-2 169\n",
    "0-3 169\n",
    "0-3 169\n",
    "\n",
    "1-0 169\n",
    "1-1 169\n",
    "1-2 169\n",
    "1-3 169\n",
    "1-4 169\n",
    "\n",
    "2-0 215\n",
    "2-1 168\n",
    "2-2 168\n",
    "2-3 267\n",
    "2-4 169\n",
    "\n",
    "3-0 169\n",
    "3-1 169\n",
    "3-2 169\n",
    "3-3 188\n",
    "3-4 187\n",
    "\n"
   ]
  },
  {
   "cell_type": "code",
   "execution_count": null,
   "metadata": {
    "collapsed": true
   },
   "outputs": [],
   "source": [
    "#HD285507\n",
    "cam (0-3) - epoch (0-4)\n",
    "0-0 219\n",
    "0-1 219\n",
    "0-2 219\n",
    "0-3 219\n",
    "0-4 219\n",
    "\n",
    "1-0 262\n",
    "1-1 232\n",
    "1-2 245\n",
    "1-3 255\n",
    "1-4 253\n",
    "\n",
    "\n",
    "2-0 215\n",
    "2-1 168\n",
    "2-2 168\n",
    "2-3 267\n",
    "2-4 169\n",
    "\n",
    "\n",
    "\n",
    "3-0 218\n",
    "3-1 220\n",
    "3-2 220\n",
    "3-3 218\n",
    "3-4 218\n",
    "\n"
   ]
  },
  {
   "cell_type": "code",
   "execution_count": null,
   "metadata": {
    "collapsed": false
   },
   "outputs": [],
   "source": [
    "#print obj\n",
    "for thisFile in fList:\n",
    "    if \"1_obj\" in thisFile:\n",
    "        npy = np.load(thisFile)\n",
    "        plt.plot(npy[219], label = thisFile)\n",
    "plt.legend(loc=0)\n",
    "plt.show()    \n"
   ]
  },
  {
   "cell_type": "code",
   "execution_count": null,
   "metadata": {
    "collapsed": false
   },
   "outputs": [],
   "source": [
    "#print arcs\n",
    "for thisFile in fList:\n",
    "    if \"arc\" in thisFile:\n",
    "        npy = np.load(thisFile)\n",
    "        plt.plot(npy[38], label = thisFile)\n",
    "plt.legend(loc=0)\n",
    "plt.show()    "
   ]
  },
  {
   "cell_type": "code",
   "execution_count": null,
   "metadata": {
    "collapsed": false
   },
   "outputs": [],
   "source": [
    "# fList [0,2,6,10, 16]  #arcs\n",
    "# fList [1,3,4,5,7,8,9,11,12,13,14,15,17,18,19]\n",
    "npy = np.load(fList[1])\n",
    "for i,flux in enumerate(npy):\n",
    "    if np.median(flux)>2000:\n",
    "        plt.plot(flux, label = i)\n",
    "plt.legend(loc=0)\n",
    "plt.show()    "
   ]
  },
  {
   "cell_type": "code",
   "execution_count": null,
   "metadata": {
    "collapsed": false
   },
   "outputs": [],
   "source": [
    "flist = glob.glob('H*.txt')"
   ]
  },
  {
   "cell_type": "code",
   "execution_count": null,
   "metadata": {
    "collapsed": true
   },
   "outputs": [],
   "source": [
    "for i in flist:\n",
    "    \n",
    "    a = np.loadtxt(i)\n",
    "#     b = np.loadtxt(\"HD1581_3_1.txt\")\n",
    "    plt.plot(a)\n",
    "    plt.show()"
   ]
  },
  {
   "cell_type": "code",
   "execution_count": null,
   "metadata": {
    "collapsed": true
   },
   "outputs": [],
   "source": [
    "plt.plot(a)\n",
    "plt.show()"
   ]
  },
  {
   "cell_type": "markdown",
   "metadata": {},
   "source": [
    "#### Plots tramlines in front of image with bundle ranges (to find a given target)"
   ]
  },
  {
   "cell_type": "code",
   "execution_count": null,
   "metadata": {
    "collapsed": false
   },
   "outputs": [],
   "source": []
  },
  {
   "cell_type": "code",
   "execution_count": null,
   "metadata": {
    "collapsed": false
   },
   "outputs": [],
   "source": [
    "# # bkgndFile = baseFolder + '/0_20aug/1/20aug10039.fits' #1st obj\n",
    "# # bkgndFile = baseFolder + '/1_21aug/1/21aug10038.fits' #1st obj\n",
    "# # bkgndFile = baseFolder + '/2_22aug/1/22aug10041.fits' #1st obj\n",
    "# # bkgndFile = baseFolder + '/3_24aug/1/24aug10063.fits' #1st obj\n",
    "# # bkgndFile = baseFolder + '/4_25aug/1/25aug10049.fits' #1st obj\n",
    "# # bkgndFile = baseFolder + '/0_20aug/1/20aug10037.fits' #tram\n",
    "\n",
    "# # bkgndFile = baseFolder + '/0_20aug/2/20aug20039.fits' #1st obj\n",
    "# # bkgndFile = baseFolder + '/1_21aug/2/21aug20038.fits' #1st obj\n",
    "# # bkgndFile = baseFolder + '/2_22aug/2/22aug20041.fits' #1st obj\n",
    "# # bkgndFile = baseFolder + '/3_24aug/2/24aug20063.fits' #1st obj\n",
    "# # bkgndFile = baseFolder + '/4_25aug/2/25aug20049.fits' #1st obj\n",
    "# # bkgndFile = baseFolder + '/0_20aug/2/20aug20037.fits' #tram\n",
    "\n",
    "# # bkgndFile = baseFolder + '/0_20aug/4/20aug40039.fits' #1st obj\n",
    "# # bkgndFile = baseFolder + '/1_21aug/4/21aug40038.fits' #1st obj\n",
    "# # bkgndFile = baseFolder + '/2_22aug/4/22aug40041.fits' #1st obj\n",
    "# # bkgndFile = baseFolder + '/3_24aug/4/24aug40063.fits' #1st obj\n",
    "# # bkgndFile = baseFolder + '/4_25aug/4/25aug40049.fits' #1st obj\n",
    "# # bkgndFile = baseFolder + '/0_20aug/4/20aug40037.fits' #tram\n",
    "\n",
    "# bkg = MHT.openFile(bkgndFile)\n",
    "# folder = baseFolder + '/herpy_out/3'\n",
    "\n",
    "# # tramFileName = '20aug10037.fits'\n",
    "# # pre = str(0) + '_' + 'tlm_s1'\n",
    "# # tramFileName = '21aug10036.fits'\n",
    "# # pre = str(1) + '_' + 'tlm_s1'\n",
    "# # tramFileName = '22aug10040.fits'\n",
    "# # pre = str(2) + '_' + 'tlm_s1'\n",
    "# # tramFileName = '24aug10066.fits'\n",
    "# # pre = str(3) + '_' + 'tlm_s1'\n",
    "# # tramFileName = '25aug10047.fits'\n",
    "# # pre = str(4) + '_' + 'tlm_s1'\n",
    "\n",
    "# # tramFileName = '20aug20037.fits'\n",
    "# # pre = str(0) + '_' + 'tlm_s1'\n",
    "# # tramFileName = '21aug20036.fits'\n",
    "# # pre = str(1) + '_' + 'tlm_s1'\n",
    "# # tramFileName = '22aug20040.fits'\n",
    "# # pre = str(2) + '_' + 'tlm_s1'\n",
    "# # tramFileName = '24aug20066.fits'\n",
    "# # pre = str(3) + '_' + 'tlm_s1'\n",
    "# # tramFileName = '25aug20047.fits'\n",
    "# # pre = str(4) + '_' + 'tlm_s1'\n",
    "\n",
    "# # tramFileName = '20aug40037.fits'\n",
    "# # pre = str(0) + '_' + 'tlm_s1'\n",
    "# # tramFileName = '21aug40036.fits'\n",
    "# # pre = str(1) + '_' + 'tlm_s1'\n",
    "# # tramFileName = '22aug40040.fits'\n",
    "# # pre = str(2) + '_' + 'tlm_s1'\n",
    "# # tramFileName = '24aug40066.fits'\n",
    "# # pre = str(3) + '_' + 'tlm_s1'\n",
    "# # tramFileName = '25aug40047.fits'\n",
    "# # pre = str(4) + '_' + 'tlm_s1'\n",
    "\n",
    "# # post = 'cam1'\n",
    "# # post = 'cam2'\n",
    "# post = 'cam4'\n",
    "# tlm = MHT.read_NPY(tramFileName, pre, post, folder)"
   ]
  },
  {
   "cell_type": "code",
   "execution_count": 7,
   "metadata": {
    "collapsed": false
   },
   "outputs": [
    {
     "data": {
      "text/plain": [
       "['0_arc_s1_20aug40043_cam4.npy',\n",
       " '0_obj1_s1_20aug40044_cam4.npy',\n",
       " '0_obj2_s1_20aug40045_cam4.npy',\n",
       " '0_obj3_s1_20aug40046_cam4.npy',\n",
       " '0_obj4_s1_20aug40047_cam4.npy',\n",
       " '0_obj5_s1_20aug40048_cam4.npy',\n",
       " '0_obj6_s1_20aug40049_cam4.npy',\n",
       " '0_obj7_s1_20aug40050_cam4.npy',\n",
       " '0_obj8_s1_20aug40051_cam4.npy',\n",
       " '0_tlm_s1_20aug40042_cam4.npy',\n",
       " '1_arc_s1_21aug40032_cam4.npy',\n",
       " '1_obj1_s1_21aug40033_cam4.npy',\n",
       " '1_obj2_s1_21aug40034_cam4.npy',\n",
       " '1_obj3_s1_21aug40035_cam4.npy',\n",
       " '1_tlm_s1_21aug40031_cam4.npy',\n",
       " '2_arc_s1_21aug40046_cam4.npy',\n",
       " '2_obj1_s1_21aug40044_cam4.npy',\n",
       " '2_tlm_s1_21aug40047_cam4.npy',\n",
       " '3_arc_s1_22aug40031_cam4.npy',\n",
       " '3_obj1_s1_22aug40033_cam4.npy',\n",
       " '3_obj2_s1_22aug40034_cam4.npy',\n",
       " '3_obj3_s1_22aug40035_cam4.npy',\n",
       " '3_tlm_s1_22aug40032_cam4.npy',\n",
       " '4_arc_s1_22aug40045_cam4.npy',\n",
       " '4_obj1_s1_22aug40046_cam4.npy',\n",
       " '4_obj2_s1_22aug40047_cam4.npy',\n",
       " '4_tlm_s1_22aug40044_cam4.npy',\n",
       " '5_arc_s1_24aug40054_cam4.npy',\n",
       " '5_obj1_s1_24aug40055_cam4.npy',\n",
       " '5_obj2_s1_24aug40056_cam4.npy',\n",
       " '5_obj3_s1_24aug40057_cam4.npy',\n",
       " '5_tlm_s1_24aug40053_cam4.npy',\n",
       " '6_arc_s1_25aug40043_cam4.npy',\n",
       " '6_obj1_s1_25aug40040_cam4.npy',\n",
       " '6_obj2_s1_25aug40041_cam4.npy',\n",
       " '6_obj3_s1_25aug40042_cam4.npy',\n",
       " '6_tlm_s1_25aug40039_cam4.npy',\n",
       " '7_arc_s1_25aug40054_cam4.npy',\n",
       " '7_obj1_s1_25aug40052_cam4.npy',\n",
       " '7_tlm_s1_25aug40053_cam4.npy']"
      ]
     },
     "execution_count": 7,
     "metadata": {},
     "output_type": "execute_result"
    }
   ],
   "source": [
    "fList = glob.glob(\"*.npy\")\n",
    "fList"
   ]
  },
  {
   "cell_type": "code",
   "execution_count": null,
   "metadata": {
    "collapsed": true
   },
   "outputs": [],
   "source": [
    "#rhoTuc\n",
    "cam (0-3) - epoch (0-4)\n",
    "0-0 169 1-0 169 2-0 169 3-0 169\n",
    "0-1 169 1-1 169 2-0 169 3-1 169\n",
    "0-2 169 1-2 169 2-0 169 3-2 169\n",
    "0-3 169 1-3 169 2-0 169 3-3 169\n",
    "0-4 169 1-4 169 2-0 169 3-4 169\n",
    "0-5 169 1-5 169 2-0 169 3-5 169\n",
    "0-6 168 1-6 168 2-0 169 3-6 168\n",
    "0-7 168 1-7 168 2-0 169 3-7 168\n"
   ]
  },
  {
   "cell_type": "code",
   "execution_count": 22,
   "metadata": {
    "collapsed": false
   },
   "outputs": [
    {
     "name": "stdout",
     "output_type": "stream",
     "text": [
      "rhoTuc #176 (Pivot 175)\n",
      "/Users/Carlos/Documents/HERMES/reductions/new_start_6.5/rhoTuc/herpy_out/3/7_tlm_s1_25aug40053_cam4.npy read\n"
     ]
    }
   ],
   "source": [
    "#rhoTuc\n",
    "# bkgndFile = baseFolder + '/0_20aug/1/20aug10044.fits' #1st obj\n",
    "# bkgndFile = baseFolder + '/1_21aug/1/21aug10033.fits' #1st obj\n",
    "# bkgndFile = baseFolder + '/2_21aug/1/21aug10044.fits' #1st obj\n",
    "# bkgndFile = baseFolder + '/3_22aug/1/22aug10033.fits' #1st obj\n",
    "# bkgndFile = baseFolder + '/4_22aug/1/22aug10046.fits' #1st obj\n",
    "# bkgndFile = baseFolder + '/5_24aug/1/24aug10055.fits' #1st obj\n",
    "# bkgndFile = baseFolder + '/6_25aug/1/25aug10040.fits' #1st obj\n",
    "# bkgndFile = baseFolder + '/7_25aug/1/25aug10052.fits' #1st obj\n",
    "# bkgndFile = baseFolder + '/0_20aug/1/20aug10037.fits' #tram\n",
    "\n",
    "# bkgndFile = baseFolder + '/0_20aug/2/20aug20044.fits' #1st obj\n",
    "# bkgndFile = baseFolder + '/1_21aug/2/21aug20033.fits' #1st obj\n",
    "# bkgndFile = baseFolder + '/2_21aug/2/21aug20044.fits' #1st obj\n",
    "# bkgndFile = baseFolder + '/3_22aug/2/22aug20033.fits' #1st obj\n",
    "# bkgndFile = baseFolder + '/4_22aug/2/22aug20046.fits' #1st obj\n",
    "# bkgndFile = baseFolder + '/5_24aug/2/24aug20055.fits' #1st obj\n",
    "# bkgndFile = baseFolder + '/6_25aug/2/25aug20040.fits' #1st obj\n",
    "# bkgndFile = baseFolder + '/7_25aug/2/25aug20052.fits' #1st obj\n",
    "\n",
    "bkgndFile = baseFolder + '/0_20aug/4/20aug40044.fits' #1st obj\n",
    "bkgndFile = baseFolder + '/1_21aug/4/21aug40033.fits' #1st obj\n",
    "bkgndFile = baseFolder + '/2_21aug/4/21aug40044.fits' #1st obj\n",
    "bkgndFile = baseFolder + '/3_22aug/4/22aug40033.fits' #1st obj\n",
    "bkgndFile = baseFolder + '/4_22aug/4/22aug40046.fits' #1st obj\n",
    "bkgndFile = baseFolder + '/5_24aug/4/24aug40055.fits' #1st obj\n",
    "bkgndFile = baseFolder + '/6_25aug/4/25aug40040.fits' #1st obj\n",
    "bkgndFile = baseFolder + '/7_25aug/4/25aug40052.fits' #1st obj\n",
    "\n",
    "bkg = MHT.openFile(bkgndFile)\n",
    "folder = baseFolder + '/herpy_out/3'\n",
    "\n",
    "# tramFileName = '20aug10042.fits'\n",
    "# pre = str(0) + '_' + 'tlm_s1'\n",
    "# tramFileName = '21aug10031.fits'\n",
    "# pre = str(1) + '_' + 'tlm_s1'\n",
    "# tramFileName = '21aug10047.fits'\n",
    "# pre = str(2) + '_' + 'tlm_s1'\n",
    "# tramFileName = '22aug10032.fits'\n",
    "# pre = str(3) + '_' + 'tlm_s1'\n",
    "# tramFileName = '22aug10044.fits'\n",
    "# pre = str(4) + '_' + 'tlm_s1'\n",
    "# tramFileName = '24aug10053.fits'\n",
    "# pre = str(5) + '_' + 'tlm_s1'\n",
    "# tramFileName = '25aug10039.fits'\n",
    "# pre = str(6) + '_' + 'tlm_s1'\n",
    "# tramFileName = '25aug10053.fits'\n",
    "# pre = str(7) + '_' + 'tlm_s1'\n",
    "\n",
    "# tramFileName = '20aug20042.fits'\n",
    "# pre = str(0) + '_' + 'tlm_s1'\n",
    "# tramFileName = '21aug20031.fits'\n",
    "# pre = str(1) + '_' + 'tlm_s1'\n",
    "# tramFileName = '21aug20047.fits'\n",
    "# pre = str(2) + '_' + 'tlm_s1'\n",
    "# tramFileName = '22aug20032.fits'\n",
    "# pre = str(3) + '_' + 'tlm_s1'\n",
    "# tramFileName = '22aug20044.fits'\n",
    "# pre = str(4) + '_' + 'tlm_s1'\n",
    "# tramFileName = '24aug20053.fits'\n",
    "# pre = str(5) + '_' + 'tlm_s1'\n",
    "# tramFileName = '25aug20039.fits'\n",
    "# pre = str(6) + '_' + 'tlm_s1'\n",
    "# tramFileName = '25aug20053.fits'\n",
    "# pre = str(7) + '_' + 'tlm_s1'\n",
    "\n",
    "tramFileName = '20aug40042.fits'\n",
    "pre = str(0) + '_' + 'tlm_s1'\n",
    "tramFileName = '21aug40031.fits'\n",
    "pre = str(1) + '_' + 'tlm_s1'\n",
    "tramFileName = '21aug40047.fits'\n",
    "pre = str(2) + '_' + 'tlm_s1'\n",
    "tramFileName = '22aug40032.fits'\n",
    "pre = str(3) + '_' + 'tlm_s1'\n",
    "tramFileName = '22aug40044.fits'\n",
    "pre = str(4) + '_' + 'tlm_s1'\n",
    "tramFileName = '24aug40053.fits'\n",
    "pre = str(5) + '_' + 'tlm_s1'\n",
    "tramFileName = '25aug40039.fits'\n",
    "pre = str(6) + '_' + 'tlm_s1'\n",
    "tramFileName = '25aug40053.fits'\n",
    "pre = str(7) + '_' + 'tlm_s1'\n",
    "\n",
    "# post = 'cam1'\n",
    "# post = 'cam2'\n",
    "post = 'cam4'\n",
    "tlm = MHT.read_NPY(tramFileName, pre, post, folder)"
   ]
  },
  {
   "cell_type": "code",
   "execution_count": 23,
   "metadata": {
    "collapsed": false
   },
   "outputs": [
    {
     "name": "stderr",
     "output_type": "stream",
     "text": [
      "/Users/Carlos/Library/Enthought/Canopy_64bit/User/lib/python2.7/site-packages/ipykernel/__main__.py:37: RuntimeWarning: divide by zero encountered in log\n",
      "/Users/Carlos/Library/Enthought/Canopy_64bit/User/lib/python2.7/site-packages/ipykernel/__main__.py:37: RuntimeWarning: invalid value encountered in log\n"
     ]
    }
   ],
   "source": [
    "#These go net to the bundles to identify them\n",
    "bundleTicks = np.arange(0, bkg.shape[0], bkg.shape[0]/40.)+bkg.shape[0]/80.\n",
    "a = np.arange(40)*10\n",
    "b = np.arange(1,41)*10\n",
    "bundleTitles = zip(a,b)\n",
    "\n",
    "# fig, ax1 = plt.subplots()\n",
    "# ax1.plot(df[\"...\"])\n",
    "# # ...\n",
    "# ax2.plot(df[\"Market\"])\n",
    "# ax2.set_ylim([0, 5])\n",
    "\n",
    "#set the image\n",
    "\n",
    "# ax1.set_yticks(bundleTicks)# plt.yticks(bundleTicks, bundleTitles)\n",
    "# ax1.set_yticklabels(bundleTitles)\n",
    "\n",
    "\n",
    "\n",
    "# ax2 = ax1.twinx()\n",
    "\n",
    "# ax2.yaxis = ax1.get_yaxis()\n",
    "# ax2.set_yticks(tlm[:,0])# yticks(tramlines_shifted[:,0], range(tramlines_shifted.shape[0]))\n",
    "# ax2.set_yticklabels(range(tlm.shape[0]))\n",
    "# ax2 = ax1.twinx()\n",
    "\n",
    "#plot the tramlines\n",
    "for i in tlm:\n",
    "    plt.plot(i)\n",
    "\n",
    "plt.yticks(tlm[:,0], range(tlm.shape[0]))\n",
    "\n",
    "rg = 50\n",
    "cen = 1799.0\n",
    "plt.ylim(cen-rg, cen+rg)\n",
    "plt.xlim(10,120)\n",
    "plt.imshow(np.log(bkg))\n",
    "\n",
    "\n",
    "plt.show()"
   ]
  },
  {
   "cell_type": "code",
   "execution_count": null,
   "metadata": {
    "collapsed": false
   },
   "outputs": [],
   "source": [
    "zip(bundleTicks, bundleTitles)"
   ]
  },
  {
   "cell_type": "code",
   "execution_count": null,
   "metadata": {
    "collapsed": false
   },
   "outputs": [],
   "source": [
    "a = np.arange(40)*10\n",
    "b = np.arange(1,41)*10\n",
    "a.astype('str'), b.astype('str')\n",
    "print zip(a,b)"
   ]
  },
  {
   "cell_type": "code",
   "execution_count": null,
   "metadata": {
    "collapsed": true
   },
   "outputs": [],
   "source": []
  }
 ],
 "metadata": {
  "kernelspec": {
   "display_name": "Python 2",
   "language": "python",
   "name": "python2"
  },
  "language_info": {
   "codemirror_mode": {
    "name": "ipython",
    "version": 2
   },
   "file_extension": ".py",
   "mimetype": "text/x-python",
   "name": "python",
   "nbconvert_exporter": "python",
   "pygments_lexer": "ipython2",
   "version": "2.7.3"
  }
 },
 "nbformat": 4,
 "nbformat_minor": 0
}
