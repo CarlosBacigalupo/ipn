{
 "metadata": {
  "name": "",
  "signature": "sha256:caa8855b771f20a6f406492401bcf989cbdc303a8c0e5a07ba3332dbda449deb"
 },
 "nbformat": 3,
 "nbformat_minor": 0,
 "worksheets": [
  {
   "cells": [
    {
     "cell_type": "heading",
     "level": 3,
     "metadata": {},
     "source": [
      "2dfdr, iraf, pyhermes compare"
     ]
    },
    {
     "cell_type": "code",
     "collapsed": false,
     "input": [
      "import numpy as np\n",
      "import pylab as plt\n",
      "import pyfits as pf\n",
      "from scipy.stats import nanmedian\n",
      "import RVTools as RVT\n",
      "reload(RVT)"
     ],
     "language": "python",
     "metadata": {},
     "outputs": [
      {
       "metadata": {},
       "output_type": "pyout",
       "prompt_number": 4,
       "text": [
        "<module 'RVTools' from '/Users/Carlos/Documents/ipn/RVTools.pyc'>"
       ]
      }
     ],
     "prompt_number": 4
    },
    {
     "cell_type": "code",
     "collapsed": false,
     "input": [
      "cd /Users/Carlos/Documents/HERMES/reductions"
     ],
     "language": "python",
     "metadata": {},
     "outputs": [
      {
       "output_type": "stream",
       "stream": "stdout",
       "text": [
        "/Users/Carlos/Documents/HERMES/reductions\n"
       ]
      }
     ],
     "prompt_number": 1
    },
    {
     "cell_type": "heading",
     "level": 6,
     "metadata": {},
     "source": [
      "HD285507"
     ]
    },
    {
     "cell_type": "code",
     "collapsed": false,
     "input": [
      "file2_1 = pf.open('6.5/HD285507/cam1/20aug10039red.fits')\n",
      "file2_2 = pf.open('6.5/HD285507/cam1/20aug10040red.fits')\n",
      "file2_3 = pf.open('6.5/HD285507/cam1/20aug10041red.fits')\n",
      "filei_1 = pf.open('iraf/HD285507/cam1/20aug10039.fits')\n",
      "filei_2 = pf.open('iraf/HD285507/cam1/20aug10040.fits')\n",
      "filei_3 = pf.open('iraf/HD285507/cam1/20aug10041.fits')\n",
      "# filep = pf.open('pyhermes/HD285507/combined/cam1/20aug10039comb.fits')\n",
      "filep = pf.open('pyhermes/initial_RV_bulk/140820HD285507_p1/1408200037_FIB228_1.fits')\n"
     ],
     "language": "python",
     "metadata": {},
     "outputs": [],
     "prompt_number": 5
    },
    {
     "cell_type": "code",
     "collapsed": false,
     "input": [
      "RV = filep[0].header['v_bary']\n",
      "RVShift = RV*4825/300000."
     ],
     "language": "python",
     "metadata": {},
     "outputs": [],
     "prompt_number": 6
    },
    {
     "cell_type": "code",
     "collapsed": false,
     "input": [
      "file2_wl = RVT.extract_HERMES_wavelength('6.5/HD285507/cam1/20aug10039red.fits') + RVShift"
     ],
     "language": "python",
     "metadata": {},
     "outputs": [],
     "prompt_number": 7
    },
    {
     "cell_type": "code",
     "collapsed": false,
     "input": [
      "filei_wl = RVT.extract_iraf_wavelength(filei_1[0].header, 224)"
     ],
     "language": "python",
     "metadata": {},
     "outputs": [],
     "prompt_number": 8
    },
    {
     "cell_type": "code",
     "collapsed": false,
     "input": [
      "filep_wl = RVT.extract_pyhermes_wavelength('pyhermes/initial_RV_bulk/140820HD285507_p1/1408200037_FIB228_1.fits')"
     ],
     "language": "python",
     "metadata": {},
     "outputs": [],
     "prompt_number": 9
    },
    {
     "cell_type": "code",
     "collapsed": false,
     "input": [
      "file2_data = np.zeros((3,file2_1[0].data.shape[0],file2_1[0].data.shape[1]))\n",
      "file2_data[0,:,:] = file2_1[0].data\n",
      "file2_data[1,:,:] = file2_2[0].data\n",
      "file2_data[2,:,:] = file2_3[0].data\n",
      "file2_data = np.sum(file2_data, axis=0)\n"
     ],
     "language": "python",
     "metadata": {},
     "outputs": [],
     "prompt_number": 10
    },
    {
     "cell_type": "code",
     "collapsed": false,
     "input": [
      "filei_data = np.zeros((3,filei_1[0].data.shape[0],filei_1[0].data.shape[1]))\n",
      "filei_data[0,:,:] = filei_1[0].data\n",
      "filei_data[1,:,:] = filei_2[0].data\n",
      "filei_data[2,:,:] = filei_3[0].data\n",
      "filei_data = np.sum(filei_data, axis=0)\n"
     ],
     "language": "python",
     "metadata": {},
     "outputs": [],
     "prompt_number": 11
    },
    {
     "cell_type": "code",
     "collapsed": false,
     "input": [
      "filep_data = filep[0].data"
     ],
     "language": "python",
     "metadata": {},
     "outputs": [],
     "prompt_number": 12
    },
    {
     "cell_type": "code",
     "collapsed": false,
     "input": [
      "plt.plot(file2_wl, file2_data[227]/np.median(file2_data[227]), label = '2dfdr')\n",
      "plt.plot(filei_wl, filei_data[223]/np.median(filei_data[223]), label = 'iraf')\n",
      "plt.plot(filep_wl, filep_data/nanmedian(filep_data), label = 'pyhermes')\n",
      "plt.legend(loc=0)\n",
      "plt.show()"
     ],
     "language": "python",
     "metadata": {},
     "outputs": [],
     "prompt_number": 23
    },
    {
     "cell_type": "heading",
     "level": 6,
     "metadata": {},
     "source": [
      "HD1581"
     ]
    },
    {
     "cell_type": "code",
     "collapsed": false,
     "input": [
      "file2 = pf.open('6.5/HD1581/cam1/20aug10053red.fits')\n",
      "filei = pf.open('iraf/HD1581/cam1/20aug10053.fits')\n",
      "filep = pf.open('pyhermes/initial_RV_bulk/140820rhoTucNew_p0/1408200042_FIB176_1.fits')\n",
      "filem = pf.open('myherpy/HD1581_0.txt')"
     ],
     "language": "python",
     "metadata": {},
     "outputs": [],
     "prompt_number": 13
    },
    {
     "cell_type": "code",
     "collapsed": false,
     "input": [
      "a = np.loadtxt('myherpy/HD1581_0.txt')"
     ],
     "language": "python",
     "metadata": {},
     "outputs": [],
     "prompt_number": 46
    },
    {
     "cell_type": "code",
     "collapsed": false,
     "input": [
      "a.shape"
     ],
     "language": "python",
     "metadata": {},
     "outputs": [
      {
       "metadata": {},
       "output_type": "pyout",
       "prompt_number": 51,
       "text": [
        "(4095, 2)"
       ]
      }
     ],
     "prompt_number": 51
    },
    {
     "cell_type": "code",
     "collapsed": false,
     "input": [
      "plt.plot(a[:,0],a[:,1])\n",
      "plt.show()"
     ],
     "language": "python",
     "metadata": {},
     "outputs": [],
     "prompt_number": 52
    },
    {
     "cell_type": "code",
     "collapsed": false,
     "input": [
      "RV = filep[0].header['v_bary']\n",
      "RVShift = RV*4825/300000."
     ],
     "language": "python",
     "metadata": {},
     "outputs": [],
     "prompt_number": 14
    },
    {
     "cell_type": "code",
     "collapsed": false,
     "input": [
      "RVShift"
     ],
     "language": "python",
     "metadata": {},
     "outputs": [
      {
       "metadata": {},
       "output_type": "pyout",
       "prompt_number": 15,
       "text": [
        "-0.015285705315841712"
       ]
      }
     ],
     "prompt_number": 15
    },
    {
     "cell_type": "code",
     "collapsed": false,
     "input": [
      "file2_wl = RVT.extract_HERMES_wavelength(file2.filename()) + RVShift"
     ],
     "language": "python",
     "metadata": {},
     "outputs": [],
     "prompt_number": 16
    },
    {
     "cell_type": "code",
     "collapsed": false,
     "input": [
      "filei_wl = RVT.extract_iraf_wavelength(filei[0].header, 173)"
     ],
     "language": "python",
     "metadata": {},
     "outputs": [],
     "prompt_number": 17
    },
    {
     "cell_type": "code",
     "collapsed": false,
     "input": [
      "filep_wl = RVT.extract_pyhermes_wavelength(filep.filename())"
     ],
     "language": "python",
     "metadata": {},
     "outputs": [],
     "prompt_number": 18
    },
    {
     "cell_type": "code",
     "collapsed": false,
     "input": [
      "file2_data = file2[0].data"
     ],
     "language": "python",
     "metadata": {},
     "outputs": [],
     "prompt_number": 19
    },
    {
     "cell_type": "code",
     "collapsed": false,
     "input": [
      "filei_data = filei[0].data"
     ],
     "language": "python",
     "metadata": {},
     "outputs": [],
     "prompt_number": 20
    },
    {
     "cell_type": "code",
     "collapsed": false,
     "input": [
      "filep_data = filep[0].data"
     ],
     "language": "python",
     "metadata": {},
     "outputs": [],
     "prompt_number": 21
    },
    {
     "cell_type": "code",
     "collapsed": false,
     "input": [
      "plt.plot(file2_wl, file2_data[175]/np.median(file2_data[175]), label = '2dfdr')\n",
      "plt.plot(filei_wl, filei_data[172]/np.median(filei_data[172]), label = 'iraf')\n",
      "plt.plot(filep_wl, filep_data/nanmedian(filep_data), label = 'pyhermes')\n",
      "plt.legend(loc=0)\n",
      "plt.show()"
     ],
     "language": "python",
     "metadata": {},
     "outputs": [],
     "prompt_number": 22
    }
   ],
   "metadata": {}
  }
 ]
}