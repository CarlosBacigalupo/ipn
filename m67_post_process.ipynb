{
 "metadata": {
  "name": ""
 },
 "nbformat": 3,
 "nbformat_minor": 0,
 "worksheets": [
  {
   "cells": [
    {
     "cell_type": "code",
     "collapsed": false,
     "input": [
      "# import glob\n",
      "# import os\n",
      "# import numpy as np\n",
      "# import pyfits as pf\n",
      "# from scipy import signal, interpolate, optimize, constants\n",
      "# import pylab as plt\n",
      "# import pickle\n",
      "# import TableBrowser as TB\n",
      "# import toolbox\n",
      "# import pandas\n",
      "from red_tools import *\n",
      "# reload(red_tools)\n"
     ],
     "language": "python",
     "metadata": {},
     "outputs": [],
     "prompt_number": 2
    },
    {
     "cell_type": "code",
     "collapsed": false,
     "input": [
      "os.chdir('/Users/Carlos/Documents/HERMES/reductions/m67_all_4cams')\n",
      "allStarNames = np.load('allStarNames.npy')\n",
      "stetson_df = pandas.read_pickle('stetson.pd')"
     ],
     "language": "python",
     "metadata": {},
     "outputs": [],
     "prompt_number": 3
    },
    {
     "cell_type": "code",
     "collapsed": false,
     "input": [
      "allStarNames"
     ],
     "language": "python",
     "metadata": {},
     "outputs": [
      {
       "metadata": {},
       "output_type": "pyout",
       "prompt_number": 17,
       "text": [
        "array([ '507-047479                                                                      ',\n",
        "       '507-047564                                                                      ',\n",
        "       '508-049138                                                                      ',\n",
        "       '510-048317                                                                      ',\n",
        "       '510-048813                                                                      ',\n",
        "       '511-047076                                                                      ',\n",
        "       '512-046209                                                                      ',\n",
        "       '512-046255                                                                      ',\n",
        "       'FIBRE NOT IN USE                                                                ',\n",
        "       'M67-375                                                                         ',\n",
        "       'M67-378                                                                         ',\n",
        "       'M67-381                                                                         ',\n",
        "       'M67-383                                                                         ',\n",
        "       'M67-385                                                                         ',\n",
        "       'M67-386                                                                         ',\n",
        "       'M67-389                                                                         ',\n",
        "       'M67-392                                                                         ',\n",
        "       'M67-393                                                                         ',\n",
        "       'M67-395                                                                         ',\n",
        "       'M67-396                                                                         ',\n",
        "       'M67-399                                                                         ',\n",
        "       'M67-402                                                                         ',\n",
        "       'M67-403                                                                         ',\n",
        "       'M67-409                                                                         ',\n",
        "       'M67-410                                                                         ',\n",
        "       'M67-413                                                                         ',\n",
        "       'M67-414                                                                         ',\n",
        "       'M67-417                                                                         ',\n",
        "       'M67-418                                                                         ',\n",
        "       'M67-419                                                                         ',\n",
        "       'M67-424                                                                         ',\n",
        "       'M67-425                                                                         ',\n",
        "       'M67-429                                                                         ',\n",
        "       'M67-432                                                                         ',\n",
        "       'M67-433                                                                         ',\n",
        "       'M67-437                                                                         ',\n",
        "       'M67-439                                                                         ',\n",
        "       'M67-443                                                                         ',\n",
        "       'M67-444                                                                         ',\n",
        "       'M67-445                                                                         ',\n",
        "       'M67-449                                                                         ',\n",
        "       'M67-450                                                                         ',\n",
        "       'M67-451                                                                         ',\n",
        "       'M67-457                                                                         ',\n",
        "       'M67-464                                                                         ',\n",
        "       'M67-470                                                                         ',\n",
        "       'M67-474                                                                         ',\n",
        "       'M67-475                                                                         ',\n",
        "       'M67-481                                                                         ',\n",
        "       'M67-482                                                                         ',\n",
        "       'M67-484                                                                         ',\n",
        "       'M67-489                                                                         ',\n",
        "       'M67-490                                                                         ',\n",
        "       'M67-496                                                                         ',\n",
        "       'M67-499                                                                         ',\n",
        "       'M67-506                                                                         ',\n",
        "       'M67-507                                                                         ',\n",
        "       'M67-512                                                                         ',\n",
        "       'M67-523                                                                         ',\n",
        "       'M67-524                                                                         ',\n",
        "       'M67-525                                                                         ',\n",
        "       'M67-530                                                                         ',\n",
        "       'M67-531                                                                         ',\n",
        "       'M67-538                                                                         ',\n",
        "       'M67-539                                                                         ',\n",
        "       'M67-546                                                                         ',\n",
        "       'M67-549                                                                         ',\n",
        "       'M67-556                                                                         ',\n",
        "       'M67-557                                                                         ',\n",
        "       'M67-558                                                                         ',\n",
        "       'M67-560                                                                         ',\n",
        "       'M67-562                                                                         ',\n",
        "       'M67-564                                                                         ',\n",
        "       'M67-570                                                                         ',\n",
        "       'M67-573                                                                         ',\n",
        "       'M67-577                                                                         ',\n",
        "       'M67-580                                                                         ',\n",
        "       'M67-582                                                                         ',\n",
        "       'M67-590                                                                         ',\n",
        "       'M67-F-108                                                                       ',\n",
        "       'M67-F-117                                                                       ',\n",
        "       'M67-F-130                                                                       ',\n",
        "       'M67-F-132                                                                       ',\n",
        "       'M67-F-135                                                                       ',\n",
        "       'M67-F-149                                                                       ',\n",
        "       'M67-F-170                                                                       ',\n",
        "       'M67-F-81                                                                        ',\n",
        "       'M67-I-198                                                                       ',\n",
        "       'M67-I-242bl                                                                     ',\n",
        "       'M67-I-242ble                                                                    ',\n",
        "       'M67-I-51                                                                        ',\n",
        "       'M67-I-9                                                                         ',\n",
        "       'M67-IV-202                                                                      ',\n",
        "       'M67-S1                                                                          ',\n",
        "       'M67-S10                                                                         ',\n",
        "       'M67-S100                                                                        ',\n",
        "       'M67-S104                                                                        ',\n",
        "       'M67-S108                                                                        ',\n",
        "       'M67-S109                                                                        ',\n",
        "       'M67-S11                                                                         ',\n",
        "       'M67-S110                                                                        ',\n",
        "       'M67-S113                                                                        ',\n",
        "       'M67-S114                                                                        ',\n",
        "       'M67-S115                                                                        ',\n",
        "       'M67-S116                                                                        ',\n",
        "       'M67-S12                                                                         ',\n",
        "       'M67-S120                                                                        ',\n",
        "       'M67-S121                                                                        ',\n",
        "       'M67-S122                                                                        ',\n",
        "       'M67-S123                                                                        ',\n",
        "       'M67-S124                                                                        ',\n",
        "       'M67-S125                                                                        ',\n",
        "       'M67-S126                                                                        ',\n",
        "       'M67-S127                                                                        ',\n",
        "       'M67-S128                                                                        ',\n",
        "       'M67-S129                                                                        ',\n",
        "       'M67-S131                                                                        ',\n",
        "       'M67-S132                                                                        ',\n",
        "       'M67-S133                                                                        ',\n",
        "       'M67-S135                                                                        ',\n",
        "       'M67-S136                                                                        ',\n",
        "       'M67-S139                                                                        ',\n",
        "       'M67-S14                                                                         ',\n",
        "       'M67-S141                                                                        ',\n",
        "       'M67-S15                                                                         ',\n",
        "       'M67-S16                                                                         ',\n",
        "       'M67-S167                                                                        ',\n",
        "       'M67-S17                                                                         ',\n",
        "       'M67-S171                                                                        ',\n",
        "       'M67-S172                                                                        ',\n",
        "       'M67-S174                                                                        ',\n",
        "       'M67-S175                                                                        ',\n",
        "       'M67-S18                                                                         ',\n",
        "       'M67-S180                                                                        ',\n",
        "       'M67-S187                                                                        ',\n",
        "       'M67-S19                                                                         ',\n",
        "       'M67-S191                                                                        ',\n",
        "       'M67-S194                                                                        ',\n",
        "       'M67-S196                                                                        ',\n",
        "       'M67-S2                                                                          ',\n",
        "       'M67-S20                                                                         ',\n",
        "       'M67-S200                                                                        ',\n",
        "       'M67-S202                                                                        ',\n",
        "       'M67-S203                                                                        ',\n",
        "       'M67-S21                                                                         ',\n",
        "       'M67-S210                                                                        ',\n",
        "       'M67-S214                                                                        ',\n",
        "       'M67-S216                                                                        ',\n",
        "       'M67-S217                                                                        ',\n",
        "       'M67-S218                                                                        ',\n",
        "       'M67-S219                                                                        ',\n",
        "       'M67-S22                                                                         ',\n",
        "       'M67-S224                                                                        ',\n",
        "       'M67-S23                                                                         ',\n",
        "       'M67-S230                                                                        ',\n",
        "       'M67-S232                                                                        ',\n",
        "       'M67-S233                                                                        ',\n",
        "       'M67-S234                                                                        ',\n",
        "       'M67-S24                                                                         ',\n",
        "       'M67-S241                                                                        ',\n",
        "       'M67-S245                                                                        ',\n",
        "       'M67-S247                                                                        ',\n",
        "       'M67-S248                                                                        ',\n",
        "       'M67-S25                                                                         ',\n",
        "       'M67-S252                                                                        ',\n",
        "       'M67-S254                                                                        ',\n",
        "       'M67-S26                                                                         ',\n",
        "       'M67-S266                                                                        ',\n",
        "       'M67-S267                                                                        ',\n",
        "       'M67-S27                                                                         ',\n",
        "       'M67-S271                                                                        ',\n",
        "       'M67-S272                                                                        ',\n",
        "       'M67-S279                                                                        ',\n",
        "       'M67-S280                                                                        ',\n",
        "       'M67-S283                                                                        ',\n",
        "       'M67-S285                                                                        ',\n",
        "       'M67-S288                                                                        ',\n",
        "       'M67-S29                                                                         ',\n",
        "       'M67-S293                                                                        ',\n",
        "       'M67-S295                                                                        ',\n",
        "       'M67-S296                                                                        ',\n",
        "       'M67-S297                                                                        ',\n",
        "       'M67-S298                                                                        ',\n",
        "       'M67-S299                                                                        ',\n",
        "       'M67-S3                                                                          ',\n",
        "       'M67-S30                                                                         ',\n",
        "       'M67-S301                                                                        ',\n",
        "       'M67-S303                                                                        ',\n",
        "       'M67-S304                                                                        ',\n",
        "       'M67-S305                                                                        ',\n",
        "       'M67-S307                                                                        ',\n",
        "       'M67-S317                                                                        ',\n",
        "       'M67-S318                                                                        ',\n",
        "       'M67-S319                                                                        ',\n",
        "       'M67-S32                                                                         ',\n",
        "       'M67-S322                                                                        ',\n",
        "       'M67-S326                                                                        ',\n",
        "       'M67-S327                                                                        ',\n",
        "       'M67-S328                                                                        ',\n",
        "       'M67-S33                                                                         ',\n",
        "       'M67-S336                                                                        ',\n",
        "       'M67-S337                                                                        ',\n",
        "       'M67-S338                                                                        ',\n",
        "       'M67-S339                                                                        ',\n",
        "       'M67-S34                                                                         ',\n",
        "       'M67-S341                                                                        ',\n",
        "       'M67-S342                                                                        ',\n",
        "       'M67-S345                                                                        ',\n",
        "       'M67-S347                                                                        ',\n",
        "       'M67-S35                                                                         ',\n",
        "       'M67-S36                                                                         ',\n",
        "       'M67-S360                                                                        ',\n",
        "       'M67-S364                                                                        ',\n",
        "       'M67-S37                                                                         ',\n",
        "       'M67-S39                                                                         ',\n",
        "       'M67-S4                                                                          ',\n",
        "       'M67-S42                                                                         ',\n",
        "       'M67-S43                                                                         ',\n",
        "       'M67-S44                                                                         ',\n",
        "       'M67-S45                                                                         ',\n",
        "       'M67-S452                                                                        ',\n",
        "       'M67-S457                                                                        ',\n",
        "       'M67-S461                                                                        ',\n",
        "       'M67-S47                                                                         ',\n",
        "       'M67-S474                                                                        ',\n",
        "       'M67-S479                                                                        ',\n",
        "       'M67-S48                                                                         ',\n",
        "       'M67-S484                                                                        ',\n",
        "       'M67-S485                                                                        ',\n",
        "       'M67-S488                                                                        ',\n",
        "       'M67-S49                                                                         ',\n",
        "       'M67-S491                                                                        ',\n",
        "       'M67-S496                                                                        ',\n",
        "       'M67-S5                                                                          ',\n",
        "       'M67-S50                                                                         ',\n",
        "       'M67-S516                                                                        ',\n",
        "       'M67-S52                                                                         ',\n",
        "       'M67-S522                                                                        ',\n",
        "       'M67-S523                                                                        ',\n",
        "       'M67-S525                                                                        ',\n",
        "       'M67-S526                                                                        ',\n",
        "       'M67-S529                                                                        ',\n",
        "       'M67-S53                                                                         ',\n",
        "       'M67-S538                                                                        ',\n",
        "       'M67-S539                                                                        ',\n",
        "       'M67-S54                                                                         ',\n",
        "       'M67-S542                                                                        ',\n",
        "       'M67-S55                                                                         ',\n",
        "       'M67-S557                                                                        ',\n",
        "       'M67-S56                                                                         ',\n",
        "       'M67-S560                                                                        ',\n",
        "       'M67-S565                                                                        ',\n",
        "       'M67-S569                                                                        ',\n",
        "       'M67-S57                                                                         ',\n",
        "       'M67-S572                                                                        ',\n",
        "       'M67-S58                                                                         ',\n",
        "       'M67-S581                                                                        ',\n",
        "       'M67-S588                                                                        ',\n",
        "       'M67-S59                                                                         ',\n",
        "       'M67-S591                                                                        ',\n",
        "       'M67-S6                                                                          ',\n",
        "       'M67-S60                                                                         ',\n",
        "       'M67-S600                                                                        ',\n",
        "       'M67-S607                                                                        ',\n",
        "       'M67-S61                                                                         ',\n",
        "       'M67-S617                                                                        ',\n",
        "       'M67-S622                                                                        ',\n",
        "       'M67-S626                                                                        ',\n",
        "       'M67-S627                                                                        ',\n",
        "       'M67-S632                                                                        ',\n",
        "       'M67-S64                                                                         ',\n",
        "       'M67-S642                                                                        ',\n",
        "       'M67-S65                                                                         ',\n",
        "       'M67-S654                                                                        ',\n",
        "       'M67-S67                                                                         ',\n",
        "       'M67-S68                                                                         ',\n",
        "       'M67-S69                                                                         ',\n",
        "       'M67-S7                                                                          ',\n",
        "       'M67-S70                                                                         ',\n",
        "       'M67-S72                                                                         ',\n",
        "       'M67-S73                                                                         ',\n",
        "       'M67-S74                                                                         ',\n",
        "       'M67-S76                                                                         ',\n",
        "       'M67-S78                                                                         ',\n",
        "       'M67-S79                                                                         ',\n",
        "       'M67-S8                                                                          ',\n",
        "       'M67-S81                                                                         ',\n",
        "       'M67-S82                                                                         ',\n",
        "       'M67-S83                                                                         ',\n",
        "       'M67-S84                                                                         ',\n",
        "       'M67-S85                                                                         ',\n",
        "       'M67-S87                                                                         ',\n",
        "       'M67-S88                                                                         ',\n",
        "       'M67-S9                                                                          ',\n",
        "       'M67-S93                                                                         ',\n",
        "       'M67-S95                                                                         ',\n",
        "       'M67-S96                                                                         ',\n",
        "       'M67-S97                                                                         ',\n",
        "       'M67-S98                                                                         ',\n",
        "       'M67-S99                                                                         ',\n",
        "       'M67-T626                                                                        ',\n",
        "       'PARKED                                                                          ',\n",
        "       'S11                                                                             ',\n",
        "       'S12                                                                             ',\n",
        "       'S13                                                                             ',\n",
        "       'S14                                                                             ',\n",
        "       'S15                                                                             ',\n",
        "       'S16                                                                             ',\n",
        "       'S17                                                                             ',\n",
        "       'S18                                                                             ',\n",
        "       'S19                                                                             ',\n",
        "       'S2                                                                              ',\n",
        "       'S20                                                                             ',\n",
        "       'S21                                                                             ',\n",
        "       'S22                                                                             ',\n",
        "       'S23                                                                             ',\n",
        "       'S24                                                                             ',\n",
        "       'S25                                                                             ',\n",
        "       'S26                                                                             ',\n",
        "       'S27                                                                             ',\n",
        "       'S28                                                                             ',\n",
        "       'S29                                                                             ',\n",
        "       'S30                                                                             ',\n",
        "       'S31                                                                             ',\n",
        "       'S32                                                                             ',\n",
        "       'S33                                                                             ',\n",
        "       'S34                                                                             ',\n",
        "       'S35                                                                             ',\n",
        "       'S36                                                                             ',\n",
        "       'S38                                                                             ',\n",
        "       'S39                                                                             ',\n",
        "       'S4                                                                              ',\n",
        "       'S40                                                                             ',\n",
        "       'S41                                                                             ',\n",
        "       'S42                                                                             ',\n",
        "       'S43                                                                             ',\n",
        "       'S44                                                                             ',\n",
        "       'S45                                                                             ',\n",
        "       'S46                                                                             ',\n",
        "       'S47                                                                             ',\n",
        "       'S48                                                                             ',\n",
        "       'S49                                                                             ',\n",
        "       'S50                                                                             ',\n",
        "       'S52                                                                             ',\n",
        "       'S53                                                                             ',\n",
        "       'S54                                                                             ',\n",
        "       'S55                                                                             ',\n",
        "       'S56                                                                             ',\n",
        "       'S57                                                                             ',\n",
        "       'S58                                                                             ',\n",
        "       'S59                                                                             ',\n",
        "       'S6                                                                              ',\n",
        "       'S60                                                                             ',\n",
        "       'S7                                                                              ',\n",
        "       'S8                                                                              ',\n",
        "       'S9                                                                              '], \n",
        "      dtype='|S80')"
       ]
      },
      {
       "output_type": "stream",
       "stream": "stdout",
       "text": [
        "\n"
       ]
      }
     ],
     "prompt_number": 17
    },
    {
     "cell_type": "code",
     "collapsed": false,
     "input": [
      "plt.plot(thisStar.exposures.cam1_fluxes[0])\n",
      "plt.show()"
     ],
     "language": "python",
     "metadata": {},
     "outputs": [],
     "prompt_number": 75
    },
    {
     "cell_type": "code",
     "collapsed": false,
     "input": [
      "#adds synthetic spectra RV\n",
      "\n",
      "#\n",
      "syn_path = '' #synthetic spectra files\n",
      "out = load_spectrum('5000_30_m05p04_casolar.ms.fits')\n",
      "\n",
      "for i in allStarNames[30:31]:\n",
      "    \n",
      "    filehandler = open(i.strip()+'.obj', 'r') \n",
      "    thisStar = pickle.load(filehandler) \n",
      "\n",
      "    #cam1\n",
      "    lambdaSyn = out.transpose()[0]\n",
      "    fluxSyn = out.transpose()[1]\n",
      "    \n",
      "    lambdas = thisStar.exposures.cam1_wavelengths\n",
      "    fluxes = thisStar.exposures.cam1_fluxes\n",
      "    LambdaRangeMask = ((lambdaSyn>=np.min(lambdas[0])) & (lambdaSyn<+np.max(lambdas[0])))\n",
      "    lambdaSyn = lambdaSyn[LambdaRangeMask]\n",
      "    fluxSyn= fluxSyn[LambdaRangeMask]\n",
      "\n",
      "    xDef = float(lambda2.shape[0])/lambda1.shape[0]\n",
      "    \n",
      "    thisStar.exposures.cam1_synRVs = RVs()\n",
      "    thisStar.exposures.cam1_synRVs.bulk_calculate_abs_RV(lambdas, fluxes, lambdaSyn, fluxSyn, xDef=xDef*50, xDef2 = 50)\n",
      "\n",
      "    #cam2\n",
      "    lambdaSyn = out.transpose()[0]\n",
      "    fluxSyn = out.transpose()[1]\n",
      "    \n",
      "    lambdas = thisStar.exposures.cam2_wavelengths\n",
      "    fluxes = thisStar.exposures.cam2_fluxes\n",
      "    LambdaRangeMask = ((lambdaSyn>=np.min(lambdas[0])) & (lambdaSyn<+np.max(lambdas[0])))\n",
      "    lambdaSyn = lambdaSyn[LambdaRangeMask]\n",
      "    fluxSyn= fluxSyn[LambdaRangeMask]\n",
      "\n",
      "    xDef = float(lambda2.shape[0])/lambda1.shape[0]\n",
      "    \n",
      "    thisStar.exposures.cam2_synRVs = RVs()\n",
      "    thisStar.exposures.cam2_synRVs.bulk_calculate_abs_RV(lambdas, fluxes, lambdaSyn, fluxSyn, xDef=xDef*50, xDef2 = 50)\n",
      "\n",
      "\n",
      "    #cam3\n",
      "    lambdaSyn = out.transpose()[0]\n",
      "    fluxSyn = out.transpose()[1]\n",
      "    \n",
      "    lambdas = thisStar.exposures.cam3_wavelengths\n",
      "    fluxes = thisStar.exposures.cam3_fluxes\n",
      "    LambdaRangeMask = ((lambdaSyn>=np.min(lambdas[0])) & (lambdaSyn<+np.max(lambdas[0])))\n",
      "    lambdaSyn = lambdaSyn[LambdaRangeMask]\n",
      "    fluxSyn= fluxSyn[LambdaRangeMask]\n",
      "\n",
      "    xDef = float(lambda2.shape[0])/lambda1.shape[0]\n",
      "    \n",
      "    thisStar.exposures.cam3_synRVs = RVs()\n",
      "    thisStar.exposures.cam3_synRVs.bulk_calculate_abs_RV(lambdas, fluxes, lambdaSyn, fluxSyn, xDef=xDef*50, xDef2 = 50)\n",
      "    \n",
      "\n",
      "    #cam4\n",
      "    lambdaSyn = out.transpose()[0]\n",
      "    fluxSyn = out.transpose()[1]\n",
      "    \n",
      "    lambdas = thisStar.exposures.cam4_wavelengths\n",
      "    fluxes = thisStar.exposures.cam4_fluxes\n",
      "    LambdaRangeMask = ((lambdaSyn>=np.min(lambdas[0])) & (lambdaSyn<+np.max(lambdas[0])))\n",
      "    lambdaSyn = lambdaSyn[LambdaRangeMask]\n",
      "    fluxSyn= fluxSyn[LambdaRangeMask]\n",
      "\n",
      "    xDef = float(lambda2.shape[0])/lambda1.shape[0]\n",
      "    \n",
      "    thisStar.exposures.cam4_synRVs = RVs()\n",
      "    thisStar.exposures.cam4_synRVs.bulk_calculate_abs_RV(lambdas, fluxes, lambdaSyn, fluxSyn, xDef=xDef*50, xDef2 = 50)\n",
      "    \n",
      "#     file_pi = open(i.strip()+'.obj', 'w') \n",
      "#     pickle.dump(thisStar, file_pi) \n",
      "#     file_pi.close()\n",
      "    "
     ],
     "language": "python",
     "metadata": {},
     "outputs": [
      {
       "output_type": "stream",
       "stream": "stdout",
       "text": [
        "Procesing RV  0\n",
        "RV"
       ]
      },
      {
       "output_type": "stream",
       "stream": "stdout",
       "text": [
        " 1643489.66971\n",
        "Procesing RV  1\n",
        "RV"
       ]
      },
      {
       "output_type": "stream",
       "stream": "stdout",
       "text": [
        " 1658121.7716\n",
        "Procesing RV  2\n",
        "RV"
       ]
      },
      {
       "output_type": "stream",
       "stream": "stdout",
       "text": [
        " 1668334.27957\n",
        "Procesing RV  3\n",
        "RV"
       ]
      },
      {
       "output_type": "stream",
       "stream": "stdout",
       "text": [
        " 1568206.7564\n",
        "Procesing RV  4\n",
        "RV"
       ]
      },
      {
       "output_type": "stream",
       "stream": "stdout",
       "text": [
        " 1557394.98145\n",
        "Procesing RV  5\n",
        "RV"
       ]
      },
      {
       "output_type": "stream",
       "stream": "stdout",
       "text": [
        " 1656573.66525\n",
        "Procesing RV  6\n",
        "RV"
       ]
      },
      {
       "output_type": "stream",
       "stream": "stdout",
       "text": [
        " 1555746.99728\n",
        "Procesing RV  7\n",
        "RV"
       ]
      },
      {
       "output_type": "stream",
       "stream": "stdout",
       "text": [
        " 1558868.17942\n",
        "Procesing RV  8\n",
        "RV"
       ]
      },
      {
       "output_type": "stream",
       "stream": "stdout",
       "text": [
        " 1683365.89278\n",
        "Procesing RV  9\n",
        "RV"
       ]
      },
      {
       "output_type": "stream",
       "stream": "stdout",
       "text": [
        " 1559991.80499\n",
        "Procesing RV  10\n",
        "RV"
       ]
      },
      {
       "output_type": "stream",
       "stream": "stdout",
       "text": [
        " 1563038.07877\n",
        "Procesing RV  11\n",
        "RV"
       ]
      },
      {
       "output_type": "stream",
       "stream": "stdout",
       "text": [
        " 1594674.38098\n",
        "Procesing RV  12\n",
        "RV"
       ]
      },
      {
       "output_type": "stream",
       "stream": "stdout",
       "text": [
        " 1562363.90342\n",
        "Procesing RV  13\n",
        "RV"
       ]
      },
      {
       "output_type": "stream",
       "stream": "stdout",
       "text": [
        " 1643514.63916\n",
        "Procesing RV  14\n",
        "RV"
       ]
      },
      {
       "output_type": "stream",
       "stream": "stdout",
       "text": [
        " -123848.507471\n",
        "Procesing RV  15\n",
        "RV"
       ]
      },
      {
       "output_type": "stream",
       "stream": "stdout",
       "text": [
        " 1642366.04414\n",
        "Procesing RV  0\n",
        "RV"
       ]
      },
      {
       "output_type": "stream",
       "stream": "stdout",
       "text": [
        " 20268.7825926\n",
        "Procesing RV  1\n",
        "RV"
       ]
      },
      {
       "output_type": "stream",
       "stream": "stdout",
       "text": [
        " -5532524.4444\n",
        "Procesing RV  2\n",
        "RV"
       ]
      },
      {
       "output_type": "stream",
       "stream": "stdout",
       "text": [
        " 2682617.07679\n",
        "Procesing RV  3\n",
        "RV"
       ]
      },
      {
       "output_type": "stream",
       "stream": "stdout",
       "text": [
        " 21163.6056434\n",
        "Procesing RV  4\n",
        "RV"
       ]
      },
      {
       "output_type": "stream",
       "stream": "stdout",
       "text": [
        " 21995.999179\n",
        "Procesing RV  5\n",
        "RV"
       ]
      },
      {
       "output_type": "stream",
       "stream": "stdout",
       "text": [
        " 20601.7400068\n",
        "Procesing RV  6\n",
        "RV"
       ]
      },
      {
       "output_type": "stream",
       "stream": "stdout",
       "text": [
        " 20164.7334006\n",
        "Procesing RV  7\n",
        "RV"
       ]
      },
      {
       "output_type": "stream",
       "stream": "stdout",
       "text": [
        " 21558.9925728\n",
        "Procesing RV  8\n",
        "RV"
       ]
      },
      {
       "output_type": "stream",
       "stream": "stdout",
       "text": [
        " 19436.3890569\n",
        "Procesing RV  9\n",
        "RV"
       ]
      },
      {
       "output_type": "stream",
       "stream": "stdout",
       "text": [
        " 21683.8516031\n",
        "Procesing RV  10\n",
        "RV"
       ]
      },
      {
       "output_type": "stream",
       "stream": "stdout",
       "text": [
        " 21121.9859666\n",
        "Procesing RV  11\n",
        "RV"
       ]
      },
      {
       "output_type": "stream",
       "stream": "stdout",
       "text": [
        " 21808.7106335\n",
        "Procesing RV  12\n",
        "RV"
       ]
      },
      {
       "output_type": "stream",
       "stream": "stdout",
       "text": [
        " 12964.5293174\n",
        "Procesing RV  13\n",
        "RV"
       ]
      },
      {
       "output_type": "stream",
       "stream": "stdout",
       "text": [
        " 10071.9617811\n",
        "Procesing RV  14\n",
        "RV"
       ]
      },
      {
       "output_type": "stream",
       "stream": "stdout",
       "text": [
        " 11133.263539\n",
        "Procesing RV  15\n",
        "RV"
       ]
      },
      {
       "output_type": "stream",
       "stream": "stdout",
       "text": [
        " 11362.1717613\n",
        "Procesing RV  0\n",
        "RV"
       ]
      },
      {
       "output_type": "stream",
       "stream": "stdout",
       "text": [
        " 351087.080899\n",
        "Procesing RV  1\n",
        "RV"
       ]
      },
      {
       "output_type": "stream",
       "stream": "stdout",
       "text": [
        " 364488.597055\n",
        "Procesing RV  2\n",
        "RV"
       ]
      },
      {
       "output_type": "stream",
       "stream": "stdout",
       "text": [
        " 359320.218023\n",
        "Procesing RV  3\n",
        "RV"
       ]
      },
      {
       "output_type": "stream",
       "stream": "stdout",
       "text": [
        " 365123.31027\n",
        "Procesing RV  4\n",
        "RV"
       ]
      },
      {
       "output_type": "stream",
       "stream": "stdout",
       "text": [
        " 357144.058431\n",
        "Procesing RV  5\n",
        "RV"
       ]
      },
      {
       "output_type": "stream",
       "stream": "stdout",
       "text": [
        " 359918.661911\n",
        "Procesing RV  6\n",
        "RV"
       ]
      },
      {
       "output_type": "stream",
       "stream": "stdout",
       "text": [
        " 361242.49233\n",
        "Procesing RV  7\n",
        "RV"
       ]
      },
      {
       "output_type": "stream",
       "stream": "stdout",
       "text": [
        " 357234.731747\n",
        "Procesing RV  8\n",
        "RV"
       ]
      },
      {
       "output_type": "stream",
       "stream": "stdout",
       "text": [
        " 361043.011034\n",
        "Procesing RV  9\n",
        "RV"
       ]
      },
      {
       "output_type": "stream",
       "stream": "stdout",
       "text": [
        " 358467.88885\n",
        "Procesing RV  10\n",
        "RV"
       ]
      },
      {
       "output_type": "stream",
       "stream": "stdout",
       "text": [
        " 367644.028464\n",
        "Procesing RV  11\n",
        "RV"
       ]
      },
      {
       "output_type": "stream",
       "stream": "stdout",
       "text": [
        " 364706.213014\n",
        "Procesing RV  12\n",
        "RV"
       ]
      },
      {
       "output_type": "stream",
       "stream": "stdout",
       "text": [
        " 350289.155715\n",
        "Procesing RV  13\n",
        "RV"
       ]
      },
      {
       "output_type": "stream",
       "stream": "stdout",
       "text": [
        " 348675.170684\n",
        "Procesing RV  14\n",
        "RV"
       ]
      },
      {
       "output_type": "stream",
       "stream": "stdout",
       "text": [
        " 345048.23803\n",
        "Procesing RV  15\n",
        "RV"
       ]
      },
      {
       "output_type": "stream",
       "stream": "stdout",
       "text": [
        " 350488.637011\n",
        "Procesing RV  0\n",
        "RV"
       ]
      },
      {
       "output_type": "stream",
       "stream": "stdout",
       "text": [
        " -644096.594672\n",
        "Procesing RV  1\n",
        "RV"
       ]
      },
      {
       "output_type": "stream",
       "stream": "stdout",
       "text": [
        " -735451.113966\n",
        "Procesing RV  2\n",
        "RV"
       ]
      },
      {
       "output_type": "stream",
       "stream": "stdout",
       "text": [
        " -643709.433631\n",
        "Procesing RV  3\n",
        "RV"
       ]
      },
      {
       "output_type": "stream",
       "stream": "stdout",
       "text": [
        " -643337.759031\n",
        "Procesing RV  4\n",
        "RV"
       ]
      },
      {
       "output_type": "stream",
       "stream": "stdout",
       "text": [
        " -643616.514981\n",
        "Procesing RV  5\n",
        "RV"
       ]
      },
      {
       "output_type": "stream",
       "stream": "stdout",
       "text": [
        " -642888.652223\n",
        "Procesing RV  6\n",
        "RV"
       ]
      },
      {
       "output_type": "stream",
       "stream": "stdout",
       "text": [
        " -643926.243814\n",
        "Procesing RV  7\n",
        "RV"
       ]
      },
      {
       "output_type": "stream",
       "stream": "stdout",
       "text": [
        " -643244.840381\n",
        "Procesing RV  8\n",
        "RV"
       ]
      },
      {
       "output_type": "stream",
       "stream": "stdout",
       "text": [
        " -1239937.43716\n",
        "Procesing RV  9\n",
        "RV"
       ]
      },
      {
       "output_type": "stream",
       "stream": "stdout",
       "text": [
        " -644251.459088\n",
        "Procesing RV  10\n",
        "RV"
       ]
      },
      {
       "output_type": "stream",
       "stream": "stdout",
       "text": [
        " -734878.115625\n",
        "Procesing RV  11\n",
        "RV"
       ]
      },
      {
       "output_type": "stream",
       "stream": "stdout",
       "text": [
        " -609716.694208\n",
        "Procesing RV  12\n",
        "RV"
       ]
      },
      {
       "output_type": "stream",
       "stream": "stdout",
       "text": [
        " -642532.464065\n",
        "Procesing RV  13\n",
        "RV"
       ]
      },
      {
       "output_type": "stream",
       "stream": "stdout",
       "text": [
        " -642377.599649\n",
        "Procesing RV  14\n",
        "RV"
       ]
      },
      {
       "output_type": "stream",
       "stream": "stdout",
       "text": [
        " -642873.165781\n",
        "Procesing RV  15\n",
        "RV"
       ]
      },
      {
       "output_type": "stream",
       "stream": "stdout",
       "text": [
        " -643353.245473\n"
       ]
      }
     ],
     "prompt_number": 27
    },
    {
     "cell_type": "code",
     "collapsed": false,
     "input": [
      "# # adds stetson's BVRIU (already on star code)\n",
      "# for i in [allStarNames[np.where(np.char.strip(allStarNames)=='M67-S115')[0][0]]]:\n",
      "    \n",
      "#     search = i.strip()\n",
      "\n",
      "#     if np.sum(stetson_df.target == search)>0:\n",
      "#         print search,      \n",
      "#         filehandler = open(i.strip()+'.obj', 'r') \n",
      "#         thisStar = pickle.load(filehandler) \n",
      "# #         os.remove(i.strip()+'.obj')\n",
      "#         thisStar.B = stetson_df[stetson_df.target == search].B.values[0]\n",
      "#         thisStar.I = stetson_df[stetson_df.target == search].I.values[0]\n",
      "#         thisStar.R = stetson_df[stetson_df.target == search].R.values[0]\n",
      "#         thisStar.U = stetson_df[stetson_df.target == search].U.values[0]\n",
      "#         thisStar.V = stetson_df[stetson_df.target == search].mag.values[0]\n",
      "#         thisStar.BV = stetson_df[stetson_df.target == search].BV.values[0]\n",
      "    \n",
      "#         file_pi = open(i.strip()+'.obj', 'w') \n",
      "#         pickle.dump(thisStar, file_pi) \n",
      "#         file_pi.close()\n",
      "    "
     ],
     "language": "python",
     "metadata": {},
     "outputs": [
      {
       "output_type": "stream",
       "stream": "stdout",
       "text": [
        "M67-S115\n"
       ]
      }
     ],
     "prompt_number": 47
    },
    {
     "cell_type": "code",
     "collapsed": false,
     "input": [
      "filehandler = open(allStarNames[79].strip()+'.obj', 'r') \n",
      "thisStar = pickle.load(filehandler) "
     ],
     "language": "python",
     "metadata": {},
     "outputs": [],
     "prompt_number": 11
    },
    {
     "cell_type": "code",
     "collapsed": false,
     "input": [
      "baryVels = []\n",
      "for j in thisStar.exposures.JDs:\n",
      "    vh, vb = toolbox.baryvel(j+2400000+0.5) \n",
      "    ra = thisStar.RA_dec    #RA  in radians\n",
      "    dec = thisStar.Dec_dec  #Dec in radians\n",
      "    baryVels.append(-(vb[0]*np.cos(dec)*np.cos(ra) + vb[1]*np.cos(dec)*np.sin(ra) + vb[2]*np.sin(dec))*1000)\n",
      "#         print baryVels\n",
      "thisStar.baryVels = np.array(baryVels) - baryVels[0]\n",
      "thisStar.absBaryVels = np.array(baryVels)\n"
     ],
     "language": "python",
     "metadata": {},
     "outputs": [],
     "prompt_number": 29
    },
    {
     "cell_type": "code",
     "collapsed": false,
     "input": [
      "plt.scatter(thisStar.exposures.JDs, thisStar.exposures.cam1_synRVs.RVs)\n",
      "plt.scatter(thisStar.exposures.JDs, thisStar.exposures.cam2_synRVs.RVs)\n",
      "plt.scatter(thisStar.exposures.JDs, thisStar.exposures.cam3_synRVs.RVs)\n",
      "plt.scatter(thisStar.exposures.JDs, thisStar.exposures.cam4_synRVs.RVs)\n",
      "plt.scatter(thisStar.exposures.JDs, thisStar.exposures.cam1_synRVs.RVs+thisStar.absBaryVels, color = 'g')\n",
      "plt.scatter(thisStar.exposures.JDs, thisStar.exposures.cam2_synRVs.RVs+thisStar.absBaryVels, color = 'g')\n",
      "plt.scatter(thisStar.exposures.JDs, thisStar.exposures.cam3_synRVs.RVs+thisStar.absBaryVels, color = 'g')\n",
      "plt.scatter(thisStar.exposures.JDs, thisStar.exposures.cam4_synRVs.RVs+thisStar.absBaryVels, color = 'g')\n",
      "plt.plot(thisStar.exposures.JDs, thisStar.absBaryVels)\n",
      "plt.show()"
     ],
     "language": "python",
     "metadata": {},
     "outputs": [],
     "prompt_number": 46
    },
    {
     "cell_type": "code",
     "collapsed": false,
     "input": [
      "# calculates RVs from synthetic spcetra\n",
      "out = load_spectrum('5000_30_m05p04_casolar.ms.fits')\n",
      "lambdaSyn = out.transpose()[0]\n",
      "fluxSyn = out.transpose()[1]\n",
      "\n",
      "lambdas = thisStar.exposures.cam2_wavelengths\n",
      "fluxes = thisStar.exposures.cam2_fluxes\n",
      "lambda1 = lambdas[8]\n",
      "flux1 = fluxes[8]\n",
      "LambdaRangeMask = ((lambdaSyn>=np.min(lambda1)) & (lambdaSyn<+np.max(lambda1)))\n",
      "lambdaSyn = lambdaSyn[LambdaRangeMask]\n",
      "fluxSyn= fluxSyn[LambdaRangeMask]\n",
      "lambda2 = lambdaSyn\n",
      "flux2 = fluxSyn\n",
      "xDef = float(lambda2.shape[0])/lambda1.shape[0]"
     ],
     "language": "python",
     "metadata": {},
     "outputs": [],
     "prompt_number": 15
    },
    {
     "cell_type": "code",
     "collapsed": false,
     "input": [
      "testRV.bulk_calculate_abs_RV(lambdas, fluxes, lambda2, flux2, xDef=xDef*50, xDef2 = 50)"
     ],
     "language": "python",
     "metadata": {},
     "outputs": [
      {
       "output_type": "stream",
       "stream": "stdout",
       "text": [
        "Procesing RV  0\n",
        "RV"
       ]
      },
      {
       "output_type": "stream",
       "stream": "stdout",
       "text": [
        " 25866.6291197\n",
        "Procesing RV  1\n",
        "RV"
       ]
      },
      {
       "output_type": "stream",
       "stream": "stdout",
       "text": [
        " 25783.3897661\n",
        "Procesing RV  2\n",
        "RV"
       ]
      },
      {
       "output_type": "stream",
       "stream": "stdout",
       "text": [
        " 25783.3897661\n",
        "Procesing RV  3\n",
        "RV"
       ]
      },
      {
       "output_type": "stream",
       "stream": "stdout",
       "text": [
        " 12839.6702871\n",
        "Procesing RV  4\n",
        "RV"
       ]
      },
      {
       "output_type": "stream",
       "stream": "stdout",
       "text": [
        " 12881.2899639\n",
        "Procesing RV  5\n",
        "RV"
       ]
      },
      {
       "output_type": "stream",
       "stream": "stdout",
       "text": [
        " 12818.8604487\n",
        "Procesing RV  6\n",
        "RV"
       ]
      },
      {
       "output_type": "stream",
       "stream": "stdout",
       "text": [
        " 11424.6012765\n",
        "Procesing RV  7\n",
        "RV"
       ]
      },
      {
       "output_type": "stream",
       "stream": "stdout",
       "text": [
        " 27801.94409\n",
        "Procesing RV  8\n",
        "RV"
       ]
      },
      {
       "output_type": "stream",
       "stream": "stdout",
       "text": [
        " 27968.4227972\n",
        "Procesing RV  9\n",
        "RV"
       ]
      },
      {
       "output_type": "stream",
       "stream": "stdout",
       "text": [
        " 27989.2326355\n",
        "Procesing RV  10\n",
        "RV"
       ]
      },
      {
       "output_type": "stream",
       "stream": "stdout",
       "text": [
        " 28218.1408578\n",
        "Procesing RV  11\n",
        "RV"
       ]
      },
      {
       "output_type": "stream",
       "stream": "stdout",
       "text": [
        " 28280.570373\n",
        "Procesing RV  12\n",
        "RV"
       ]
      },
      {
       "output_type": "stream",
       "stream": "stdout",
       "text": [
        " 28280.570373\n",
        "Procesing RV  13\n",
        "RV"
       ]
      },
      {
       "output_type": "stream",
       "stream": "stdout",
       "text": [
        " 12548.3325496\n",
        "Procesing RV  14\n",
        "RV"
       ]
      },
      {
       "output_type": "stream",
       "stream": "stdout",
       "text": [
        " 14109.0704289\n",
        "Procesing RV  15\n",
        "RV"
       ]
      },
      {
       "output_type": "stream",
       "stream": "stdout",
       "text": [
        " 12881.2899639\n",
        "Procesing RV  16\n",
        "RV"
       ]
      },
      {
       "output_type": "stream",
       "stream": "stdout",
       "text": [
        " 12922.9096406\n",
        "Procesing RV  17\n",
        "empty after removing zeros"
       ]
      },
      {
       "output_type": "stream",
       "stream": "stdout",
       "text": [
        "\n",
        "RV"
       ]
      },
      {
       "output_type": "stream",
       "stream": "stdout",
       "text": [
        " 0\n",
        "Procesing RV  18\n",
        "empty after removing zeros"
       ]
      },
      {
       "output_type": "stream",
       "stream": "stdout",
       "text": [
        "\n",
        "RV"
       ]
      },
      {
       "output_type": "stream",
       "stream": "stdout",
       "text": [
        " 0\n",
        "Procesing RV  19\n",
        "empty after removing zeros"
       ]
      },
      {
       "output_type": "stream",
       "stream": "stdout",
       "text": [
        "\n",
        "RV"
       ]
      },
      {
       "output_type": "stream",
       "stream": "stdout",
       "text": [
        " 0\n",
        "Procesing RV  20\n",
        "RV"
       ]
      },
      {
       "output_type": "stream",
       "stream": "stdout",
       "text": [
        " 28488.6687569\n",
        "Procesing RV  21\n",
        "RV"
       ]
      },
      {
       "output_type": "stream",
       "stream": "stdout",
       "text": [
        " 28530.2884337\n",
        "Procesing RV  22\n",
        "RV"
       ]
      },
      {
       "output_type": "stream",
       "stream": "stdout",
       "text": [
        " 28571.9081105\n",
        "Procesing RV  23\n",
        "RV"
       ]
      },
      {
       "output_type": "stream",
       "stream": "stdout",
       "text": [
        " 28613.5277873\n",
        "Procesing RV  24\n",
        "RV"
       ]
      },
      {
       "output_type": "stream",
       "stream": "stdout",
       "text": [
        " 28675.9573024\n",
        "Procesing RV  25\n",
        "RV"
       ]
      },
      {
       "output_type": "stream",
       "stream": "stdout",
       "text": [
        " 28738.3868176\n",
        "Procesing RV  26\n",
        "RV"
       ]
      },
      {
       "output_type": "stream",
       "stream": "stdout",
       "text": [
        " 4307.63654688\n",
        "Procesing RV  27\n",
        "RV"
       ]
      },
      {
       "output_type": "stream",
       "stream": "stdout",
       "text": [
        " 4266.0168701\n",
        "Procesing RV  28\n",
        "RV"
       ]
      },
      {
       "output_type": "stream",
       "stream": "stdout",
       "text": [
        " 4266.0168701\n"
       ]
      }
     ],
     "prompt_number": 24
    },
    {
     "cell_type": "code",
     "collapsed": false,
     "input": [
      "# lambda1Clean, flux1Clean = testRV.clean_flux(flux1, xDef*100, lambda1)\n",
      "# lambda2Clean, flux2Clean = testRV.clean_flux(flux2, 100, lambda2)"
     ],
     "language": "python",
     "metadata": {},
     "outputs": []
    },
    {
     "cell_type": "code",
     "collapsed": false,
     "input": [
      "\n",
      "# plt.plot(lambda1Clean, flux1Clean)\n",
      "# plt.plot(lambda2Clean, flux2Clean)\n",
      "# plt.show()\n",
      "# # # # if ((lambda1Clean.shape[0]>0) &\n",
      "# # # #     (flux1Clean.shape[0]>0) &\n",
      "# # # #     (lambda2Clean.shape[0]>0) &\n",
      "# # # #     (flux2Clean.shape[0]>0)):\n",
      "# a = signal.fftconvolve(flux1Clean, flux1Clean[::-1], mode='same') \n",
      "# b = signal.fftconvolve(flux1Clean, flux1Clean[::-1], mode='full') \n",
      "# c = signal.fftconvolve(flux1Clean, flux1Clean[::-1], mode='valid') \n",
      "# # # #     corrPeak = np.where(a==max(a))[0][0]\n",
      "# # # #     centralLambda = lambda2Clean[len(lambda2Clean)/2]\n",
      "# # # #     shiftLambda = centralLambda - lambda2Clean[corrPeak]\n",
      "# # # #     RV = self.c/centralLambda * shiftLambda\n",
      "# # # # else:\n",
      "# # # #     RV = 0\n"
     ],
     "language": "python",
     "metadata": {},
     "outputs": [],
     "prompt_number": 20
    },
    {
     "cell_type": "code",
     "collapsed": false,
     "input": [
      "# plt.plot(a)\n",
      "# plt.plot(b)\n",
      "# plt.plot(c)\n",
      "# plt.show()"
     ],
     "language": "python",
     "metadata": {},
     "outputs": [],
     "prompt_number": 21
    },
    {
     "cell_type": "code",
     "collapsed": false,
     "input": [
      "a = np.array([0,1,0])\n",
      "b = np.array([0,1,0,0])\n",
      "c = signal.fftconvolve(a, b[::-1], mode = 'same') "
     ],
     "language": "python",
     "metadata": {},
     "outputs": [],
     "prompt_number": 22
    },
    {
     "cell_type": "code",
     "collapsed": false,
     "input": [
      "c"
     ],
     "language": "python",
     "metadata": {},
     "outputs": [
      {
       "metadata": {},
       "output_type": "pyout",
       "prompt_number": 23,
       "text": [
        "array([ 0.,  0.,  1.,  0.])"
       ]
      }
     ],
     "prompt_number": 23
    },
    {
     "cell_type": "code",
     "collapsed": false,
     "input": [
      "# a = signal.fftconvolve(flux1Clean, flux2Clean[::-1], mode='same') "
     ],
     "language": "python",
     "metadata": {},
     "outputs": []
    },
    {
     "cell_type": "code",
     "collapsed": false,
     "input": [
      "# plt.plot(lambda2Clean, a)\n",
      "# mid = lambda2Clean[len(lambda2Clean)/2]\n",
      "# plt.plot([mid,mid], [0,np.max(a)])\n",
      "# plt.show()"
     ],
     "language": "python",
     "metadata": {},
     "outputs": []
    },
    {
     "cell_type": "code",
     "collapsed": false,
     "input": [
      "# corrPeak = np.where(a==max(a))[0][0]\n",
      "# centralLambda = lambda2Clean[len(lambda2Clean)/2]\n",
      "# shiftLambda = centralLambda - lambda1Clean[corrPeak]\n",
      "# print shiftLambda"
     ],
     "language": "python",
     "metadata": {},
     "outputs": []
    },
    {
     "cell_type": "code",
     "collapsed": false,
     "input": [
      "# testRV.c/centralLambda * shiftLambda"
     ],
     "language": "python",
     "metadata": {},
     "outputs": []
    },
    {
     "cell_type": "code",
     "collapsed": false,
     "input": [],
     "language": "python",
     "metadata": {},
     "outputs": []
    },
    {
     "cell_type": "code",
     "collapsed": false,
     "input": [
      "# CRVAL1 = a[0].header['CRVAL1'] # / Co-ordinate value of axis 1                    \n",
      "# CDELT1 = a[0].header['CDELT1'] #  / Co-ordinate increment along axis 1             \n",
      "# CRPIX1 = a[0].header['CRPIX1'] #  / Reference pixel along axis 1                   \n",
      "\n",
      "# #Creates an array of offset wavelength from the referece px/wavelength\n",
      "# Lambda = CRVAL1 - (CRPIX1 - (np.arange(int(CRPIX1)*2)) -1)* CDELT1\n",
      "# print Lambda.shape\n",
      "plt.plot(Lambda[::10],flux[::10])\n",
      "plt.plot(thisStar.exposures.cam1_wavelengths[0], thisStar.exposures.cam1_fluxes[0]/np.median(thisStar.exposures.cam1_fluxes[0]) , color = 'b')\n",
      "plt.plot(thisStar.exposures.cam2_wavelengths[0], thisStar.exposures.cam2_fluxes[0]/np.median(thisStar.exposures.cam2_fluxes[0]) , color = 'g')\n",
      "plt.plot(thisStar.exposures.cam3_wavelengths[0], thisStar.exposures.cam3_fluxes[0]/np.median(thisStar.exposures.cam3_fluxes[0]) , color = 'r')\n",
      "plt.plot(thisStar.exposures.cam4_wavelengths[0], thisStar.exposures.cam4_fluxes[0]/np.median(thisStar.exposures.cam4_fluxes[0]) , color = 'cyan')\n",
      "plt.show()"
     ],
     "language": "python",
     "metadata": {},
     "outputs": []
    },
    {
     "cell_type": "code",
     "collapsed": false,
     "input": [
      "def get_wavelength(start_wave, wave_per_pixel, size):\n",
      "    \"\"\"\n",
      "    Obtain an array of wavelengths according to input values.\n",
      "\n",
      "    Parameters\n",
      "    ----------\n",
      "\n",
      "    start_wave: float,\n",
      "        Starting wavelength.\n",
      "\n",
      "    wave_per_pixel: float,\n",
      "        Wavelength per pixel.\n",
      "\n",
      "    size: int,\n",
      "        Size of array.\n",
      "\n",
      "    Returns\n",
      "    -------\n",
      "\n",
      "    wave_array: numpy.ndarray,\n",
      "        Wavelength array\n",
      "    \"\"\"\n",
      "    \n",
      "    return np.array([start_wave + i*wave_per_pixel for i in range(size)])\n",
      "\n",
      "\n",
      "def get_wstart(ref, wave_ref, wave_per_pixel):\n",
      "    \"\"\"\n",
      "    Obtain the starting wavelength of a spectrum.\n",
      "\n",
      "    Parameters\n",
      "    ----------\n",
      "\n",
      "    ref: int,\n",
      "        Reference pixel.\n",
      "    \n",
      "    wave_ref: float,\n",
      "        Coordinate at reference pixel.\n",
      "\n",
      "    wave_per_pixel: float,\n",
      "        Coordinate increase per pixel.\n",
      "\n",
      "    Returns\n",
      "    -------\n",
      "\n",
      "    wstart: float,\n",
      "        Starting wavelength.\n",
      "    \"\"\"\n",
      "    \n",
      "    return wave_ref - ((ref-1) * wave_per_pixel)\n",
      "\n",
      "\n",
      "def get_wavelength(start_wave, wave_per_pixel, size):\n",
      "    \"\"\"\n",
      "    Obtain an array of wavelengths according to input values.\n",
      "\n",
      "    Parameters\n",
      "    ----------\n",
      "\n",
      "    start_wave: float,\n",
      "        Starting wavelength.\n",
      "\n",
      "    wave_per_pixel: float,\n",
      "        Wavelength per pixel.\n",
      "\n",
      "    size: int,\n",
      "        Size of array.\n",
      "\n",
      "    Returns\n",
      "    -------\n",
      "\n",
      "    wave_array: numpy.ndarray,\n",
      "        Wavelength array\n",
      "    \"\"\"\n",
      "    \n",
      "    return np.array([start_wave + i*wave_per_pixel for i in range(size)])\n",
      "\n",
      "def load_spectrum(fname):\n",
      "    \"\"\"\n",
      "    Loads the spectrum in FITS format to a numpy.darray.\n",
      "\n",
      "    Parameters\n",
      "    ----------\n",
      "\n",
      "    fname: str,\n",
      "        File name of the FITS spectrum.\n",
      "\n",
      "    Returns\n",
      "    -------\n",
      "\n",
      "    spectrum: ndarray,\n",
      "        Spectrum array with wavelength and flux.\n",
      "    \"\"\"\n",
      "    \n",
      "    # Load spectrum\n",
      "    spec_FITS = pf.open(fname)\n",
      "    #Load flux\n",
      "    flux = spec_FITS[0].data[0]\n",
      "    \n",
      "    #Obtain parameters for wavelength determination from header\n",
      "    ref_pixel = spec_FITS[0].header['CRPIX1']       #Reference pixel\n",
      "    coord_ref_pixel = spec_FITS[0].header['CRVAL1'] #Wavelength at reference pixel\n",
      "    wave_pixel = spec_FITS[0].header['CDELT1']      #Wavelength per pixel\n",
      "    \n",
      "    #Get starting wavelength\n",
      "    wstart = get_wstart(ref_pixel, coord_ref_pixel, wave_pixel)\n",
      "    \n",
      "    #Obtain array of wavelength\n",
      "    wave = get_wavelength(wstart, wave_pixel, len(flux))\n",
      "#     print wave\n",
      "    return np.dstack((wave, flux))[0]"
     ],
     "language": "python",
     "metadata": {},
     "outputs": [],
     "prompt_number": 14
    },
    {
     "cell_type": "code",
     "collapsed": false,
     "input": [
      "a[0].data[0,::100].shape"
     ],
     "language": "python",
     "metadata": {},
     "outputs": []
    },
    {
     "cell_type": "code",
     "collapsed": false,
     "input": [
      "#plots RV/baryVel/corrRV vs JD\n",
      "for i in allStarNames[10:40]:\n",
      "    \n",
      "    filehandler = open(i.strip()+'.obj', 'r') \n",
      "    thisStar = pickle.load(filehandler) \n",
      "    \n",
      "#     thisStar.calculate_baryVels()\n",
      "    \n",
      "#     plt.scatter(thisStar.exposures.JDs, np.array(thisStar.exposures.RVs.RVs), color = 'r', label = 'deltaRV (wrt t0)')\n",
      "#     plt.plot(thisStar.exposures.JDs, np.array(thisStar.baryVels)/1000, color = 'r')\n",
      "    \n",
      "    plt.scatter(thisStar.exposures.JDs, (np.array(thisStar.exposures.RVs.RVs)-np.array(thisStar.baryVels)), color = 'g', label='deltaRV(barycentre corr)')    \n",
      "    # plt.errorbar(RV.JD, RV.cleanRV, yerr = RV.dRV ,fmt='o', label = target + '(' + str(RV.magList[0]) + ') Clean RV')\n",
      "#     plt.errorbar(meanJDs, (np.array(meanRVs)-np.array(meanBary)), yerr = np.array(sigRV),fmt='o', color = 'g')    \n",
      "#     plt.plot(thisStar.exposures.JDs, thisStar.baryVels, color = 'b', label = 'Barycentric Vel.')\n",
      "    plt.title(thisStar.name)\n",
      "    plt.ylabel('RV [m/s]')\n",
      "    plt.xlabel('JD')\n",
      "    #     plt.axis([np.min(i.exposures.JDs),np.max(i.exposures.JDs), np.mean((np.array(i.baryVels)-np.array(i.RVs))/1000)-5, np.mean((np.array(i.baryVels)-np.array(i.RVs))/1000)+5])\n",
      "    plt.legend()\n",
      "#     plt.savefig(thisStar.name)\n",
      "#     plt.close()\n",
      "    plt.show()"
     ],
     "language": "python",
     "metadata": {},
     "outputs": []
    },
    {
     "cell_type": "code",
     "collapsed": false,
     "input": [
      "colect_all_targets()\n"
     ],
     "language": "python",
     "metadata": {},
     "outputs": []
    },
    {
     "cell_type": "code",
     "collapsed": false,
     "input": [],
     "language": "python",
     "metadata": {},
     "outputs": []
    }
   ],
   "metadata": {}
  }
 ]
}