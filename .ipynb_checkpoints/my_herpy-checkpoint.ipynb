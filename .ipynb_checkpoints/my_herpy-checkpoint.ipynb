{
 "metadata": {
  "name": "",
  "signature": "sha256:cb9e42d49eb51a4bca8298763862c00194d6e38ce263a48d81da548baee7543b"
 },
 "nbformat": 3,
 "nbformat_minor": 0,
 "worksheets": [
  {
   "cells": [
    {
     "cell_type": "code",
     "collapsed": false,
     "input": [
      "import pyfits as pf\n",
      "import pylab as plt\n",
      "from scipy import optimize\n",
      "from scipy.signal import medfilt, find_peaks_cwt\n",
      "from scipy.ndimage.filters import minimum_filter, maximum_filter, median_filter, convolve\n",
      "from scipy.ndimage.measurements import label\n",
      "import numpy as np"
     ],
     "language": "python",
     "metadata": {},
     "outputs": []
    },
    {
     "cell_type": "code",
     "collapsed": false,
     "input": [
      "cd /Users/Carlos/Documents/HERMES/reductions/duncan/"
     ],
     "language": "python",
     "metadata": {},
     "outputs": [
      {
       "output_type": "stream",
       "stream": "stdout",
       "text": [
        "/Users/Carlos/Documents/HERMES/reductions/duncan\n"
       ]
      }
     ],
     "prompt_number": 322
    },
    {
     "cell_type": "code",
     "collapsed": false,
     "input": [
      "def openFile(fileName):\n",
      "    thisFile = pf.open(fileName)\n",
      "\n",
      "    print thisFile[0].header['OBJECT']\n",
      "    \n",
      "    gain0_2000  = thisFile[0].header['RO_GAIN']\n",
      "    gain2000_4000  = thisFile[0].header['RO_GAIN1']\n",
      "\n",
      "    thisData = thisFile[0].data\n",
      "\n",
      "    bias0_2000 = np.median(thisData[3:2052,4099:-3])\n",
      "    bias2000_4000 = np.median(thisData[2059:-3,4099:-3])\n",
      "\n",
      "    thisData = thisData[:,:4095]\n",
      "\n",
      "    thisData[:2055] -= bias0_2000\n",
      "    thisData[2055:] -= bias2000_4000\n",
      "    \n",
      "    return thisData\n",
      "\n"
     ],
     "language": "python",
     "metadata": {},
     "outputs": [],
     "prompt_number": 387
    },
    {
     "cell_type": "code",
     "collapsed": false,
     "input": [
      "def fithOrder(thisPoly, thisRange):\n",
      "    result = thisPoly[0]*thisRange**5\n",
      "    result += thisPoly[1]*thisRange**4\n",
      "    result += thisPoly[2]*thisRange**3\n",
      "    result += thisPoly[3]*thisRange**2\n",
      "    result += thisPoly[4]*thisRange**1\n",
      "    result += thisPoly[5]*thisRange**0\n",
      "    \n",
      "    return result"
     ],
     "language": "python",
     "metadata": {},
     "outputs": []
    },
    {
     "cell_type": "code",
     "collapsed": false,
     "input": [
      "def find_vertical_shift(flat, arc):\n",
      "    CCTotal = 0\n",
      "    for column in range(flat.shape[1]):\n",
      "        thisFlatCol = flat[:,column]\n",
      "        thisArcCol = arc[:,column]\n",
      "        CCCurve = np.correlate(thisFlatCol, thisArcCol, mode='full')\n",
      "        CCTotal += CCCurve\n",
      "\n",
      "    y = CCTotal[int(CCTotal.shape[0]/2.)+1-5:int(CCTotal.shape[0]/2.)+1+4]\n",
      "    y /=np.max(y)\n",
      "    x = np.arange(-4,5)\n",
      "    x_dense = np.linspace(-4,4)\n",
      "    p,_ = fit_gaussian([1,3.],y,x )\n",
      "    shift = p[0]\n",
      "    return shift\n",
      "################\n",
      "##Need to SUBTRACT the result of the gaussian fit to make the 1st curve be like the second (i.e the traces be like the arc)"
     ],
     "language": "python",
     "metadata": {},
     "outputs": []
    },
    {
     "cell_type": "code",
     "collapsed": false,
     "input": [
      "def sum_extract(fibre, tramlines, image, numPx):\n",
      "    \n",
      "    flux = np.ones(tramlines.shape[1])*np.nan\n",
      "#     flux1 = np.ones(tramlines.shape[1])*np.nan\n",
      "#     flux2 = np.ones(tramlines.shape[1])*np.nan\n",
      "    \n",
      "    for i,thisCentroid in enumerate(tramlines[fibre]):\n",
      "#         print thisCentroid\n",
      "        try:\n",
      "            fullPx = image[ int(thisCentroid)-numPx : int(thisCentroid)+numPx+1 , i]\n",
      "            flux[i] = np.sum(fullPx) - fullPx[0]*(thisCentroid%1) - fullPx[-1]*(1-thisCentroid%1)\n",
      "#         flux1[i] = fullPx[0]*(thisCentroid%1)\n",
      "#         flux2[i] = fullPx[-1]*(1-thisCentroid%1)\n",
      "        except:\n",
      "            print fibre, 'falied'\n",
      "            print thisCentroid, 'centroid found in index',i\n",
      "            break\n",
      "#             print fibre\n",
      "    return flux"
     ],
     "language": "python",
     "metadata": {},
     "outputs": []
    },
    {
     "cell_type": "code",
     "collapsed": false,
     "input": [
      "def gaussian(x, mu, sig, ):\n",
      "    x = np.array(x)\n",
      "    return np.exp(-np.power(x - mu, 2.) / 2 / np.power(sig, 2.))\n",
      "\n",
      "\n",
      "def flexi_gaussian(x, mu, sig, power, a, d ):\n",
      "    x = np.array(x)\n",
      "    return a* np.exp(-np.power(np.abs((x - mu) * np.sqrt(2*np.log(2))/sig),power))+d\n",
      "\n",
      "def fit_gaussian(p, flux, x_range):\n",
      "    a = optimize.leastsq(diff_gaussian, p, args= [flux, x_range])\n",
      "    return a\n",
      "\n",
      "def fit_flexi_gaussian(p, flux, x_range):\n",
      "    a = optimize.leastsq(diff_flexi_gaussian, p, args= [flux, x_range])\n",
      "    return a\n",
      "\n",
      "def diff_gaussian(p, args):\n",
      "    \n",
      "    flux = args[0]\n",
      "    x_range = args[1]\n",
      "\n",
      "    diff = gaussian(x_range, p[0],p[1]) - flux\n",
      "    return diff\n",
      "\n",
      "def diff_flexi_gaussian(p, args):\n",
      "    \n",
      "    flux = args[0]\n",
      "    x_range = args[1]\n",
      "    weights = np.abs(np.gradient(flux)) * (flux+np.max(flux)*.1)\n",
      "    diff = (flexi_gaussian(x_range, p[0], p[1], p[2], p[3], p[4]) - flux)# *weights\n",
      "    return diff\n"
     ],
     "language": "python",
     "metadata": {},
     "outputs": []
    },
    {
     "cell_type": "code",
     "collapsed": false,
     "input": [
      "# flatFileName = '0_20aug/1/20aug10034.fits'\n",
      "# arcFileName = '0_20aug/1/20aug10052.fits'\n",
      "# objFileName = '0_20aug/1/20aug10053.fits'\n",
      "\n",
      "# flatFileName = '1_21aug/1/21aug10047.fits'\n",
      "# arcFileName = '1_21aug/1/21aug10046.fits'\n",
      "# objFileName = '1_21aug/1/21aug10041.fits'\n",
      "\n",
      "flatFileName = '2_22aug/1/22aug10031.fits'\n",
      "arcFileName = '2_22aug/1/22aug10032.fits'\n",
      "objFileName = '2_22aug/1/22aug10036.fits'"
     ],
     "language": "python",
     "metadata": {},
     "outputs": [],
     "prompt_number": 388
    },
    {
     "cell_type": "code",
     "collapsed": false,
     "input": [
      "flat = openFile(flatFileName)\n",
      "arc =  openFile(arcFileName)\n",
      "obj =  openFile(objFileName)\n"
     ],
     "language": "python",
     "metadata": {},
     "outputs": [
      {
       "output_type": "stream",
       "stream": "stdout",
       "text": [
        "[('SIMPLE', True), ('BITPIX', 16), ('NAXIS', 2), ('NAXIS1', 4146), ('NAXIS2', 4112), ('EXTEND', True), ('COMMENT', \"  FITS (Flexible Image Transport System) format is defined in 'Astronomy\"), ('COMMENT', \"  FITS (Flexible Image Transport System) format is defined in 'Astronomy\"), ('BZERO', 32768), ('BSCALE', 1), ('LONGSTRN', 'OGIP 1.0'), ('COMMENT', \"  FITS (Flexible Image Transport System) format is defined in 'Astronomy\"), ('COMMENT', \"  FITS (Flexible Image Transport System) format is defined in 'Astronomy\"), ('COMMENT', \"  FITS (Flexible Image Transport System) format is defined in 'Astronomy\"), ('COMMENT', \"  FITS (Flexible Image Transport System) format is defined in 'Astronomy\"), ('DCT_DATE', 'Oct  9 2013'), ('DCT_VER', 'r3_138'), ('DETECXE', 4096), ('DETECXS', 1), ('DETECYE', 4112), ('DETECYS', 1), ('FIRMVSYS', 'System: AAO2 CCD Controller System Controller V1.28 130312'), ('FIRMVSEQ', 'Sequencer: AAO2 CCD Controller Sequencer V1.3 110321'), ('DETECTOR', 'E2V5-B'), ('XPIXSIZE', 15.0), ('YPIXSIZE', 15.0), ('CONFIGID', 13), ('DETECTID', 13), ('ABCKPLID', 6), ('VIDPBID', 7), ('CLKPBID', 21), ('BRDID_1', 65537), ('BRDSN_1', 18), ('BRDID_2', 327681), ('BRDSN_2', 19), ('BRDID_3', 131074), ('BRDSN_3', 89), ('BRDID_4', 131074), ('BRDSN_4', 119), ('BRDID_5', 131074), ('BRDSN_5', 109), ('BRDID_6', 131074), ('BRDSN_6', 110), ('BRDID_7', 196610), ('BRDSN_7', 98), ('BRDID_8', 262146), ('BRDSN_8', 78), ('BRDID_9', 458754), ('BRDSN_9', 102), ('BRDID_10', 393217), ('BRDSN_10', 129), ('METHOD', 'Normal ccd control method'), ('SPEED', 'FAST'), ('READAMP', 'LEFT_TWO'), ('EXPOSED', 180.0), ('ELAPSED', 180.5), ('TOTALEXP', 360.5), ('RO_GAIN', 2.7), ('RO_NOISE', 4.0), ('DETTEMP', 167.7141), ('HTRVOLTS', 9.590243), ('SPECTID', 'BL'), ('SFILT1', ' '), ('SFILT2', ' '), ('ORIGIN', 'AAO'), ('TELESCOP', 'Anglo-Australian Telescope'), ('ALT_OBS', 1164), ('LAT_OBS', -31.27704), ('LONG_OBS', 149.0661), ('RCT_VER', 'r3_71HB'), ('RCT_DATE', '19-Oct-2013'), ('OBJECT', 'ARC - ThXe_2 ThXe_1'), ('RUNCMD', 'ARC'), ('RADECSYS', 'FK5'), ('EQUINOX', 2000.0), ('INSTRUME', 'HERMES-2dF'), ('TDFCTVER', 'r11_27'), ('TDFCTDAT', '10-Jun-2014'), ('AAOMOSFT', 1), ('DUMMY', 0), ('HARTMANA', 'Open'), ('HARTMANB', 'Open'), ('DCHROIC1', 'GA Blue'), ('DCHROIC2', 'GA Green'), ('DCHROIC3', 'GA Red'), ('ELECTEMP', 18.9), ('SPEC1TMP', 19.5), ('SPEC2TMP', 19.3), ('FRM1TEMP', 17.4), ('FRM2TEMP', 17.7), ('SLITTEMP', 18.3), ('SLITMASK', 'OUT'), ('HPOSCONF', 'YES'), ('SLITDITH', 'OFF'), ('SOURCE', 'Plate 0'), ('FLAPS', 'CLOSED'), ('LAMPNAME', 'ThXe'), ('RUN', 31), ('OBSNUM', 31), ('GRPNUM', 31), ('GRPMEM', 1), ('GRPMAX', 0), ('OBSTYPE', 'ARC'), ('UTDATE', '2014:08:22'), ('EPOCH', 2014.63978398833), ('UTSTART', '16:20:47'), ('UTEND', '16:23:48'), ('STSTART', '00:20:38'), ('STEND', '00:23:39'), ('UTMJD', 56891.6811017376), ('TOPEND', '2DF'), ('AXIS', 'A'), ('AXIS_X', -2.47739791046973e-05), ('AXIS_Y', -0.000109034596881535), ('TRACKING', 'TRACKING'), ('TELFOC', 40.33), ('MEANRA', 10.614544634289), ('MEANDEC', -65.4677930826941), ('TEL_PA', 89.9639057612997), ('HASTART', -5.61603505799706), ('ZDSTART', 34.2804091149912), ('APPRA', 0.188059098640782), ('APPDEC', -1.14115265015057), ('WINDOW', 'HERMES_2ROs_LR'), ('NDFCLASS', 'MFARC'), ('CFG_FILE', 'rhoTucNew_p0.sds'), ('PARKMASK', False), ('TDFCTEVT', '5'), ('PISTON', 3193.97619047619), ('TILTSPEC', 8003.06457326562), ('TILTSPAT', 0), ('GRATID', '0'), ('GRATTILT', 0), ('GRATLPMM', 3827.0), ('ORDER', 1), ('DISPENC', 0), ('CAMENC', 0), ('GRATANGL', 0), ('GRATANGR', 0), ('CAMANGL', 0), ('CAMANGR', 0), ('LAMBDAC', 4833.0), ('LAMBDAB', 4833.0), ('LAMBDCR', 4833.0), ('LAMBDBR', 4833.0), ('DISPERS', 0.045), ('SPLYTEMP', 16.3), ('RTRNTEMP', 3.8), ('CAMRTEMP', 14.9), ('HAEND', -4.86050409895411), ('ZDEND', 34.2368157188017), ('WINDOXS1', 1), ('WINDOXE1', 4096), ('WINDOYS1', 1), ('WINDOYE1', 2056), ('WINDOXS2', 4100), ('WINDOXE2', 4149), ('WINDOYS2', 1), ('WINDOYE2', 2056), ('XEFFSIZE', 15.0), ('YEFFSIZE', 15.0), ('RO_GAIN1', 2.6), ('RO_NOIS1', 4.1), ('FILEORIG', '/data/aatobs/OptDet_data/140822/ccd_1/22aug10031.fits')]\n",
        "[('SIMPLE', True), ('BITPIX', 16), ('NAXIS', 2), ('NAXIS1', 4146), ('NAXIS2', 4112), ('EXTEND', True), ('COMMENT', \"  FITS (Flexible Image Transport System) format is defined in 'Astronomy\"), ('COMMENT', \"  FITS (Flexible Image Transport System) format is defined in 'Astronomy\"), ('BZERO', 32768), ('BSCALE', 1), ('LONGSTRN', 'OGIP 1.0'), ('COMMENT', \"  FITS (Flexible Image Transport System) format is defined in 'Astronomy\"), ('COMMENT', \"  FITS (Flexible Image Transport System) format is defined in 'Astronomy\"), ('COMMENT', \"  FITS (Flexible Image Transport System) format is defined in 'Astronomy\"), ('COMMENT', \"  FITS (Flexible Image Transport System) format is defined in 'Astronomy\"), ('DCT_DATE', 'Oct  9 2013'), ('DCT_VER', 'r3_138'), ('DETECXE', 4096), ('DETECXS', 1), ('DETECYE', 4112), ('DETECYS', 1), ('FIRMVSYS', 'System: AAO2 CCD Controller System Controller V1.28 130312'), ('FIRMVSEQ', 'Sequencer: AAO2 CCD Controller Sequencer V1.3 110321'), ('DETECTOR', 'E2V5-B'), ('XPIXSIZE', 15.0), ('YPIXSIZE', 15.0), ('CONFIGID', 13), ('DETECTID', 13), ('ABCKPLID', 6), ('VIDPBID', 7), ('CLKPBID', 21), ('BRDID_1', 65537), ('BRDSN_1', 18), ('BRDID_2', 327681), ('BRDSN_2', 19), ('BRDID_3', 131074), ('BRDSN_3', 89), ('BRDID_4', 131074), ('BRDSN_4', 119), ('BRDID_5', 131074), ('BRDSN_5', 109), ('BRDID_6', 131074), ('BRDSN_6', 110), ('BRDID_7', 196610), ('BRDSN_7', 98), ('BRDID_8', 262146), ('BRDSN_8', 78), ('BRDID_9', 458754), ('BRDSN_9', 102), ('BRDID_10', 393217), ('BRDSN_10', 129), ('METHOD', 'Normal ccd control method'), ('SPEED', 'FAST'), ('READAMP', 'LEFT_TWO'), ('EXPOSED', 180.0), ('ELAPSED', 180.5), ('TOTALEXP', 360.5), ('RO_GAIN', 2.7), ('RO_NOISE', 4.0), ('DETTEMP', 167.7141), ('HTRVOLTS', 9.669999), ('SPECTID', 'BL'), ('SFILT1', ' '), ('SFILT2', ' '), ('ORIGIN', 'AAO'), ('TELESCOP', 'Anglo-Australian Telescope'), ('ALT_OBS', 1164), ('LAT_OBS', -31.27704), ('LONG_OBS', 149.0661), ('RCT_VER', 'r3_71HB'), ('RCT_DATE', '19-Oct-2013'), ('OBJECT', 'Fibre Flat Field - Quartz_75_H'), ('RUNCMD', 'FLAT'), ('RADECSYS', 'FK5'), ('EQUINOX', 2000.0), ('INSTRUME', 'HERMES-2dF'), ('TDFCTVER', 'r11_27'), ('TDFCTDAT', '10-Jun-2014'), ('AAOMOSFT', 1), ('NDFCLASS', 'MFFFF'), ('CFG_FILE', 'rhoTucNew_p0.sds'), ('PARKMASK', False), ('TDFCTEVT', '6'), ('DUMMY', 0), ('HARTMANA', 'Open'), ('HARTMANB', 'Open'), ('DCHROIC1', 'GA Blue'), ('DCHROIC2', 'GA Green'), ('DCHROIC3', 'GA Red'), ('ELECTEMP', 18.7), ('SPEC1TMP', 19.4), ('SPEC2TMP', 19.2), ('FRM1TEMP', 17.5), ('FRM2TEMP', 17.6), ('SLITTEMP', 18.3), ('SLITMASK', 'OUT'), ('HPOSCONF', 'YES'), ('SLITDITH', 'OFF'), ('SOURCE', 'Plate 0'), ('FLAPS', 'CLOSED'), ('LAMPNAME', 'Qtz75W_H'), ('RUN', 32), ('OBSNUM', 32), ('GRPNUM', 32), ('GRPMEM', 1), ('GRPMAX', 0), ('OBSTYPE', 'FLAT'), ('UTDATE', '2014:08:22'), ('EPOCH', 2014.63979270258), ('UTSTART', '16:25:22'), ('UTEND', '16:28:23'), ('STSTART', '00:25:14'), ('STEND', '00:28:15'), ('UTMJD', 56891.6842846158), ('TOPEND', '2DF'), ('AXIS', 'A'), ('AXIS_X', -2.47739791046973e-05), ('AXIS_Y', -0.000109034596881535), ('TRACKING', 'TRACKING'), ('TELFOC', 40.33), ('MEANRA', 10.6145358264842), ('MEANDEC', -65.4677993943088), ('TEL_PA', 89.9642970056493), ('HASTART', -4.46705354938843), ('ZDSTART', 34.216544166222), ('APPRA', 0.188058956024334), ('APPDEC', -1.14115276263116), ('WINDOW', 'HERMES_2ROs_LR.flat'), ('PISTON', 3193.97619047619), ('TILTSPEC', 8003.06457326562), ('TILTSPAT', 0), ('GRATID', '0'), ('GRATTILT', 0), ('GRATLPMM', 3827.0), ('ORDER', 1), ('DISPENC', 0), ('CAMENC', 0), ('GRATANGL', 0), ('GRATANGR', 0), ('CAMANGL', 0), ('CAMANGR', 0), ('LAMBDAC', 4833.0), ('LAMBDAB', 4833.0), ('LAMBDCR', 4833.0), ('LAMBDBR', 4833.0), ('DISPERS', 0.045), ('SPLYTEMP', 16.3), ('RTRNTEMP', 4.0), ('CAMRTEMP', 14.9), ('HAEND', -3.71111883914058), ('ZDEND', 34.1824115313923), ('WINDOXS1', 1), ('WINDOXE1', 4096), ('WINDOYS1', 1), ('WINDOYE1', 2056), ('WINDOXS2', 4175), ('WINDOXE2', 4224), ('WINDOYS2', 1), ('WINDOYE2', 2056), ('XEFFSIZE', 15.0), ('YEFFSIZE', 15.0), ('RO_GAIN1', 2.6), ('RO_NOIS1', 4.1), ('FILEORIG', '/data/aatobs/OptDet_data/140822/ccd_1/22aug10032.fits')]"
       ]
      },
      {
       "output_type": "stream",
       "stream": "stdout",
       "text": [
        "\n",
        "[('SIMPLE', True), ('BITPIX', -32), ('NAXIS', 2), ('NAXIS1', 4146), ('NAXIS2', 4112), ('EXTEND', True), ('COMMENT', \"  FITS (Flexible Image Transport System) format is defined in 'Astronomy\"), ('COMMENT', \"  FITS (Flexible Image Transport System) format is defined in 'Astronomy\"), ('LONGSTRN', 'OGIP 1.0'), ('COMMENT', \"  FITS (Flexible Image Transport System) format is defined in 'Astronomy\"), ('COMMENT', \"  FITS (Flexible Image Transport System) format is defined in 'Astronomy\"), ('COMMENT', \"  FITS (Flexible Image Transport System) format is defined in 'Astronomy\"), ('COMMENT', \"  FITS (Flexible Image Transport System) format is defined in 'Astronomy\"), ('DCT_DATE', 'Oct  9 2013'), ('DCT_VER', 'r3_138'), ('DETECXE', 4096), ('DETECXS', 1), ('DETECYE', 4112), ('DETECYS', 1), ('FIRMVSYS', 'System: AAO2 CCD Controller System Controller V1.28 130312'), ('FIRMVSEQ', 'Sequencer: AAO2 CCD Controller Sequencer V1.3 110321'), ('DETECTOR', 'E2V5-B'), ('XPIXSIZE', 15.0), ('YPIXSIZE', 15.0), ('CONFIGID', 13), ('DETECTID', 13), ('ABCKPLID', 6), ('VIDPBID', 7), ('CLKPBID', 21), ('BRDID_1', 65537), ('BRDSN_1', 18), ('BRDID_2', 327681), ('BRDSN_2', 19), ('BRDID_3', 131074), ('BRDSN_3', 89), ('BRDID_4', 131074), ('BRDSN_4', 119), ('BRDID_5', 131074), ('BRDSN_5', 109), ('BRDID_6', 131074), ('BRDSN_6', 110), ('BRDID_7', 196610), ('BRDSN_7', 98), ('BRDID_8', 262146), ('BRDSN_8', 78), ('BRDID_9', 458754), ('BRDSN_9', 102), ('BRDID_10', 393217), ('BRDSN_10', 129), ('METHOD', 'Normal ccd control method'), ('SPEED', 'FAST'), ('READAMP', 'LEFT_TWO'), ('EXPOSED', 120.0), ('ELAPSED', 120.6), ('TOTALEXP', 240.6), ('RO_GAIN', 2.7), ('RO_NOISE', 4.0), ('DETTEMP', 167.7141), ('HTRVOLTS', 9.590243), ('SPECTID', 'BL'), ('SFILT1', ' '), ('SFILT2', ' '), ('ORIGIN', 'AAO'), ('TELESCOP', 'Anglo-Australian Telescope'), ('ALT_OBS', 1164), ('LAT_OBS', -31.27704), ('LONG_OBS', 149.0661), ('RCT_VER', 'r3_71HB'), ('RCT_DATE', '19-Oct-2013'), ('OBJECT', 'HD1581 #176 (Pivot 175)'), ('RUNCMD', 'RUN'), ('RADECSYS', 'FK5'), ('EQUINOX', 2000.0), ('INSTRUME', 'HERMES-2dF'), ('TDFCTVER', 'r11_27'), ('TDFCTDAT', '10-Jun-2014'), ('AAOMOSFT', 1), ('DUMMY', 0), ('HARTMANA', 'Open'), ('HARTMANB', 'Open'), ('DCHROIC1', 'GA Blue'), ('DCHROIC2', 'GA Green'), ('DCHROIC3', 'GA Red'), ('ELECTEMP', 18.8), ('SPEC1TMP', 19.5), ('SPEC2TMP', 19.3), ('FRM1TEMP', 17.4), ('FRM2TEMP', 17.7), ('SLITTEMP', 18.3), ('SLITMASK', 'OUT'), ('HPOSCONF', 'YES'), ('SLITDITH', 'OFF'), ('SOURCE', 'Plate 0'), ('FLAPS', 'OPEN'), ('RUN', 36), ('OBSNUM', 36), ('GRPNUM', 36), ('GRPMEM', 1), ('GRPMAX', 0), ('OBSTYPE', 'OBJECT'), ('UTDATE', '2014:08:22'), ('EPOCH', 2014.63985185208), ('UTSTART', '16:56:29'), ('UTEND', '16:58:30'), ('STSTART', '00:56:26'), ('STEND', '00:58:27'), ('UTMJD', 56891.7058889731), ('TOPEND', '2DF'), ('AXIS', 'A'), ('AXIS_X', -2.47739791046973e-05), ('AXIS_Y', -0.000109034596881535), ('TRACKING', 'TRACKING'), ('TELFOC', 40.33), ('MEANRA', 5.02800246179617), ('MEANDEC', -64.8699050754753), ('TEL_PA', 89.9888806081089), ('HASTART', 8.89991054093776), ('ZDSTART', 33.9596327086787), ('APPRA', 0.0908772558613452), ('APPDEC', -1.13070058285319), ('WINDOW', 'HERMES_2ROs_LR'), ('NDFCLASS', 'MFOBJECT'), ('CFG_FILE', 'rhoTucNew_p0.sds'), ('PARKMASK', False), ('TDFCTEVT', '8'), ('PISTON', 3193.97619047619), ('TILTSPEC', 8003.06457326562), ('TILTSPAT', 0), ('GRATID', '0'), ('GRATTILT', 0), ('GRATLPMM', 3827.0), ('ORDER', 1), ('DISPENC', 0), ('CAMENC', 0), ('GRATANGL', 0), ('GRATANGR', 0), ('CAMANGL', 0), ('CAMANGR', 0), ('LAMBDAC', 4833.0), ('LAMBDAB', 4833.0), ('LAMBDCR', 4833.0), ('LAMBDBR', 4833.0), ('DISPERS', 0.045), ('SPLYTEMP', 16.3), ('RTRNTEMP', 3.6), ('CAMRTEMP', 15.1), ('HAEND', 9.40477696323028), ('ZDEND', 34.0119135045071), ('WINDOXS1', 1), ('WINDOXE1', 4096), ('WINDOYS1', 1), ('WINDOYE1', 2056), ('WINDOXS2', 4100), ('WINDOXE2', 4149), ('WINDOYS2', 1), ('WINDOYE2', 2056), ('XEFFSIZE', 15.0), ('YEFFSIZE', 15.0), ('RO_GAIN1', 2.6), ('RO_NOIS1', 4.1), ('FILEORIG', '/data/aatobs/OptDet_data/140822/ccd_1/22aug10036.fits')]"
       ]
      },
      {
       "output_type": "stream",
       "stream": "stdout",
       "text": [
        "\n"
       ]
      }
     ],
     "prompt_number": 389
    },
    {
     "cell_type": "code",
     "collapsed": false,
     "input": [
      "flat_mf = medfilt(flat, [3,9])\n",
      "flat_1d = np.sum(flat_mf,axis =0)\n",
      "flat_per = np.percentile(flat_1d, 90)\n",
      "flat_1d_norm = flat_1d/flat_per\n",
      "flat_flat = flat_mf / flat_1d_norm[None,:]"
     ],
     "language": "python",
     "metadata": {},
     "outputs": [],
     "prompt_number": 368
    },
    {
     "cell_type": "code",
     "collapsed": false,
     "input": [
      "#Convert flat_flat to binary for tracing\n",
      "for i in range(flat_flat.shape[1]):\n",
      "    singleCol = flat_flat[:,i]\n",
      "    singleMin = singleCol - convolve(minimum_filter(singleCol,15),[.2,.2,.2,.2,.2])\n",
      "    singleMax = convolve(maximum_filter(singleMin,15),[.2,.2,.2,.2,.2])\n",
      "\n",
      "    fixer = convolve(singleMax, np.ones(200)/200)\n",
      "    singleMax[singleMax<fixer*.5] = fixer[singleMax<fixer*.5]*.5\n",
      "    singleColFlat = singleMin/singleMax\n",
      "\n",
      "    singleColFlat[singleColFlat>.3] = 1\n",
      "    singleColFlat[singleColFlat<.3] = 0\n",
      "    \n",
      "    flat_flat[:,i] = singleColFlat\n",
      "    "
     ],
     "language": "python",
     "metadata": {},
     "outputs": [],
     "prompt_number": 369
    },
    {
     "cell_type": "code",
     "collapsed": false,
     "input": [
      "out_array, n = label(flat_flat, np.ones((3,3)))\n",
      "print n,'fibres'\n",
      "# n-=2 # fibres 252 and 253 are not good"
     ],
     "language": "python",
     "metadata": {},
     "outputs": [
      {
       "output_type": "stream",
       "stream": "stdout",
       "text": [
        "391 fibres\n"
       ]
      }
     ],
     "prompt_number": 370
    },
    {
     "cell_type": "code",
     "collapsed": false,
     "input": [
      "#create centroid array\n",
      "fibre_centroids = np.ones((n,out_array.shape[1]))*np.nan\n",
      "for col in range(out_array.shape[1]):\n",
      "    testCol = out_array[:,col]\n",
      "    for fibre in range(n)[:180]:\n",
      "        fibre_centroids[fibre,col] = np.average(np.where(testCol==fibre+1)[0])\n",
      "        if np.sum(np.isnan(fibre_centroids[fibre,col]))>0:\n",
      "            print 'Found nan',np.where(testCol==fibre+1)[0], fibre+1"
     ],
     "language": "python",
     "metadata": {},
     "outputs": [],
     "prompt_number": 377
    },
    {
     "cell_type": "code",
     "collapsed": false,
     "input": [
      "#line to remove 251 and 252 that have nans\n",
      "# fibre_centroids = np.delete(fibre_centroids,251,0) #2 times for epoch0\n",
      "# fibre_centroids = np.delete(fibre_centroids,372,0) 3 times for epoch1\n",
      "np.sum(np.isnan(fibre_centroids))"
     ],
     "language": "python",
     "metadata": {},
     "outputs": [
      {
       "metadata": {},
       "output_type": "pyout",
       "prompt_number": 378,
       "text": [
        "864045"
       ]
      }
     ],
     "prompt_number": 378
    },
    {
     "cell_type": "code",
     "collapsed": false,
     "input": [
      "#create polynomials\n",
      "fibrePolys = np.ones((fibre_centroids.shape[0],6))*np.nan\n",
      "for y,fibre in enumerate(fibre_centroids):\n",
      "    fibrePolys[y,:] = np.polyfit(range(fibre.shape[0]),fibre,5)\n",
      "    if np.sum(np.isnan(fibrePolys[y,:]))>0:\n",
      "        print 'Found nan in fibre',y\n",
      "        print 'Fibre values',fibre\n",
      "        print"
     ],
     "language": "python",
     "metadata": {},
     "outputs": [
      {
       "output_type": "stream",
       "stream": "stdout",
       "text": [
        "Found nan in fibre 180\n",
        "Fibre values [ nan  nan  nan ...,  nan  nan  nan]\n",
        "\n",
        "Found nan in fibre 181\n",
        "Fibre values [ nan  nan  nan ...,  nan  nan  nan]\n",
        "\n",
        "Found nan in fibre 182\n",
        "Fibre values [ nan  nan  nan ...,  nan  nan  nan]\n",
        "\n",
        "Found nan in fibre 183\n",
        "Fibre values [ nan  nan  nan ...,  nan  nan  nan]\n",
        "\n",
        "Found nan in fibre 184\n",
        "Fibre values [ nan  nan  nan ...,  nan  nan  nan]\n",
        "\n",
        "Found nan in fibre 185\n",
        "Fibre values [ nan  nan  nan ...,  nan  nan  nan]\n",
        "\n",
        "Found nan in fibre 186\n",
        "Fibre values [ nan  nan  nan ...,  nan  nan  nan]\n",
        "\n",
        "Found nan in fibre 187\n",
        "Fibre values [ nan  nan  nan ...,  nan  nan  nan]\n",
        "\n",
        "Found nan in fibre 188\n",
        "Fibre values [ nan  nan  nan ...,  nan  nan  nan]\n",
        "\n",
        "Found nan in fibre 189\n",
        "Fibre values [ nan  nan  nan ...,  nan  nan  nan]\n",
        "\n",
        "Found nan in fibre 190\n",
        "Fibre values [ nan  nan  nan ...,  nan  nan  nan]\n",
        "\n",
        "Found nan in fibre 191\n",
        "Fibre values [ nan  nan  nan ...,  nan  nan  nan]\n",
        "\n",
        "Found nan in fibre 192\n",
        "Fibre values [ nan  nan  nan ...,  nan  nan  nan]\n",
        "\n",
        "Found nan in fibre 193\n",
        "Fibre values [ nan  nan  nan ...,  nan  nan  nan]\n",
        "\n",
        "Found nan in fibre 194\n",
        "Fibre values [ nan  nan  nan ...,  nan  nan  nan]\n",
        "\n",
        "Found nan in fibre 195\n",
        "Fibre values [ nan  nan  nan ...,  nan  nan  nan]\n",
        "\n",
        "Found nan in fibre 196\n",
        "Fibre values [ nan  nan  nan ...,  nan  nan  nan]\n",
        "\n",
        "Found nan in fibre 197\n",
        "Fibre values [ nan  nan  nan ...,  nan  nan  nan]\n",
        "\n",
        "Found nan in fibre 198\n",
        "Fibre values [ nan  nan  nan ...,  nan  nan  nan]\n",
        "\n",
        "Found nan in fibre 199\n",
        "Fibre values [ nan  nan  nan ...,  nan  nan  nan]\n",
        "\n",
        "Found nan in fibre 200\n",
        "Fibre values [ nan  nan  nan ...,  nan  nan  nan]\n",
        "\n",
        "Found nan in fibre 201\n",
        "Fibre values [ nan  nan  nan ...,  nan  nan  nan]\n",
        "\n",
        "Found nan in fibre 202\n",
        "Fibre values [ nan  nan  nan ...,  nan  nan  nan]\n",
        "\n",
        "Found nan in fibre 203\n",
        "Fibre values [ nan  nan  nan ...,  nan  nan  nan]\n",
        "\n",
        "Found nan in fibre 204\n",
        "Fibre values [ nan  nan  nan ...,  nan  nan  nan]\n",
        "\n",
        "Found nan in fibre 205\n",
        "Fibre values [ nan  nan  nan ...,  nan  nan  nan]\n",
        "\n",
        "Found nan in fibre 206\n",
        "Fibre values [ nan  nan  nan ...,  nan  nan  nan]\n",
        "\n",
        "Found nan in fibre 207\n",
        "Fibre values [ nan  nan  nan ...,  nan  nan  nan]\n",
        "\n",
        "Found nan in fibre 208\n",
        "Fibre values [ nan  nan  nan ...,  nan  nan  nan]\n",
        "\n",
        "Found nan in fibre 209\n",
        "Fibre values [ nan  nan  nan ...,  nan  nan  nan]\n",
        "\n",
        "Found nan in fibre 210\n",
        "Fibre values [ nan  nan  nan ...,  nan  nan  nan]\n",
        "\n",
        "Found nan in fibre 211\n",
        "Fibre values [ nan  nan  nan ...,  nan  nan  nan]\n",
        "\n",
        "Found nan in fibre 212\n",
        "Fibre values [ nan  nan  nan ...,  nan  nan  nan]\n",
        "\n",
        "Found nan in fibre 213\n",
        "Fibre values [ nan  nan  nan ...,  nan  nan  nan]\n",
        "\n",
        "Found nan in fibre 214\n",
        "Fibre values [ nan  nan  nan ...,  nan  nan  nan]\n",
        "\n",
        "Found nan in fibre 215\n",
        "Fibre values [ nan  nan  nan ...,  nan  nan  nan]\n",
        "\n",
        "Found nan in fibre 216\n",
        "Fibre values [ nan  nan  nan ...,  nan  nan  nan]\n",
        "\n",
        "Found nan in fibre 217\n",
        "Fibre values [ nan  nan  nan ...,  nan  nan  nan]\n",
        "\n",
        "Found nan in fibre 218\n",
        "Fibre values [ nan  nan  nan ...,  nan  nan  nan]\n",
        "\n",
        "Found nan in fibre"
       ]
      },
      {
       "output_type": "stream",
       "stream": "stdout",
       "text": [
        " 219\n",
        "Fibre values [ nan  nan  nan ...,  nan  nan  nan]\n",
        "\n",
        "Found nan in fibre 220\n",
        "Fibre values [ nan  nan  nan ...,  nan  nan  nan]\n",
        "\n",
        "Found nan in fibre 221\n",
        "Fibre values [ nan  nan  nan ...,  nan  nan  nan]\n",
        "\n",
        "Found nan in fibre 222\n",
        "Fibre values [ nan  nan  nan ...,  nan  nan  nan]\n",
        "\n",
        "Found nan in fibre 223\n",
        "Fibre values [ nan  nan  nan ...,  nan  nan  nan]\n",
        "\n",
        "Found nan in fibre 224\n",
        "Fibre values [ nan  nan  nan ...,  nan  nan  nan]\n",
        "\n",
        "Found nan in fibre 225\n",
        "Fibre values [ nan  nan  nan ...,  nan  nan  nan]\n",
        "\n",
        "Found nan in fibre 226\n",
        "Fibre values [ nan  nan  nan ...,  nan  nan  nan]\n",
        "\n",
        "Found nan in fibre 227\n",
        "Fibre values [ nan  nan  nan ...,  nan  nan  nan]\n",
        "\n",
        "Found nan in fibre 228\n",
        "Fibre values [ nan  nan  nan ...,  nan  nan  nan]\n",
        "\n",
        "Found nan in fibre 229\n",
        "Fibre values [ nan  nan  nan ...,  nan  nan  nan]\n",
        "\n",
        "Found nan in fibre 230\n",
        "Fibre values [ nan  nan  nan ...,  nan  nan  nan]\n",
        "\n",
        "Found nan in fibre 231\n",
        "Fibre values [ nan  nan  nan ...,  nan  nan  nan]\n",
        "\n",
        "Found nan in fibre 232\n",
        "Fibre values [ nan  nan  nan ...,  nan  nan  nan]\n",
        "\n",
        "Found nan in fibre 233\n",
        "Fibre values [ nan  nan  nan ...,  nan  nan  nan]\n",
        "\n",
        "Found nan in fibre 234\n",
        "Fibre values [ nan  nan  nan ...,  nan  nan  nan]\n",
        "\n",
        "Found nan in fibre 235\n",
        "Fibre values [ nan  nan  nan ...,  nan  nan  nan]\n",
        "\n",
        "Found nan in fibre 236\n",
        "Fibre values [ nan  nan  nan ...,  nan  nan  nan]\n",
        "\n",
        "Found nan in fibre 237\n",
        "Fibre values [ nan  nan  nan ...,  nan  nan  nan]\n",
        "\n",
        "Found nan in fibre 238\n",
        "Fibre values [ nan  nan  nan ...,  nan  nan  nan]\n",
        "\n",
        "Found nan in fibre 239\n",
        "Fibre values [ nan  nan  nan ...,  nan  nan  nan]\n",
        "\n",
        "Found nan in fibre 240\n",
        "Fibre values [ nan  nan  nan ...,  nan  nan  nan]\n",
        "\n",
        "Found nan in fibre 241\n",
        "Fibre values [ nan  nan  nan ...,  nan  nan  nan]\n",
        "\n",
        "Found nan in fibre 242\n",
        "Fibre values [ nan  nan  nan ...,  nan  nan  nan]\n",
        "\n",
        "Found nan in fibre 243\n",
        "Fibre values [ nan  nan  nan ...,  nan  nan  nan]\n",
        "\n",
        "Found nan in fibre 244\n",
        "Fibre values [ nan  nan  nan ...,  nan  nan  nan]\n",
        "\n",
        "Found nan in fibre 245\n",
        "Fibre values [ nan  nan  nan ...,  nan  nan  nan]\n",
        "\n",
        "Found nan in fibre 246\n",
        "Fibre values [ nan  nan  nan ...,  nan  nan  nan]\n",
        "\n",
        "Found nan in fibre 247\n",
        "Fibre values [ nan  nan  nan ...,  nan  nan  nan]\n",
        "\n",
        "Found nan in fibre 248\n",
        "Fibre values [ nan  nan  nan ...,  nan  nan  nan]\n",
        "\n",
        "Found nan in fibre 249\n",
        "Fibre values [ nan  nan  nan ...,  nan  nan  nan]\n",
        "\n",
        "Found nan in fibre 250\n",
        "Fibre values [ nan  nan  nan ...,  nan  nan  nan]\n",
        "\n",
        "Found nan in fibre 251\n",
        "Fibre values [ nan  nan  nan ...,  nan  nan  nan]\n",
        "\n",
        "Found nan in fibre 252\n",
        "Fibre values [ nan  nan  nan ...,  nan  nan  nan]\n",
        "\n",
        "Found nan in fibre 253\n",
        "Fibre values [ nan  nan  nan ...,  nan  nan  nan]\n",
        "\n",
        "Found nan in fibre 254\n",
        "Fibre values [ nan  nan  nan ...,  nan  nan  nan]\n",
        "\n",
        "Found nan in fibre"
       ]
      },
      {
       "output_type": "stream",
       "stream": "stdout",
       "text": [
        " 255\n",
        "Fibre values [ nan  nan  nan ...,  nan  nan  nan]\n",
        "\n",
        "Found nan in fibre 256\n",
        "Fibre values [ nan  nan  nan ...,  nan  nan  nan]\n",
        "\n",
        "Found nan in fibre 257\n",
        "Fibre values [ nan  nan  nan ...,  nan  nan  nan]\n",
        "\n",
        "Found nan in fibre 258\n",
        "Fibre values [ nan  nan  nan ...,  nan  nan  nan]\n",
        "\n",
        "Found nan in fibre 259\n",
        "Fibre values [ nan  nan  nan ...,  nan  nan  nan]\n",
        "\n",
        "Found nan in fibre 260\n",
        "Fibre values [ nan  nan  nan ...,  nan  nan  nan]\n",
        "\n",
        "Found nan in fibre 261\n",
        "Fibre values [ nan  nan  nan ...,  nan  nan  nan]\n",
        "\n",
        "Found nan in fibre 262\n",
        "Fibre values [ nan  nan  nan ...,  nan  nan  nan]\n",
        "\n",
        "Found nan in fibre 263\n",
        "Fibre values [ nan  nan  nan ...,  nan  nan  nan]\n",
        "\n",
        "Found nan in fibre 264\n",
        "Fibre values [ nan  nan  nan ...,  nan  nan  nan]\n",
        "\n",
        "Found nan in fibre 265\n",
        "Fibre values [ nan  nan  nan ...,  nan  nan  nan]\n",
        "\n",
        "Found nan in fibre 266\n",
        "Fibre values [ nan  nan  nan ...,  nan  nan  nan]\n",
        "\n",
        "Found nan in fibre 267\n",
        "Fibre values [ nan  nan  nan ...,  nan  nan  nan]\n",
        "\n",
        "Found nan in fibre 268\n",
        "Fibre values [ nan  nan  nan ...,  nan  nan  nan]\n",
        "\n",
        "Found nan in fibre 269\n",
        "Fibre values [ nan  nan  nan ...,  nan  nan  nan]\n",
        "\n",
        "Found nan in fibre 270\n",
        "Fibre values [ nan  nan  nan ...,  nan  nan  nan]\n",
        "\n",
        "Found nan in fibre 271\n",
        "Fibre values [ nan  nan  nan ...,  nan  nan  nan]\n",
        "\n",
        "Found nan in fibre 272\n",
        "Fibre values [ nan  nan  nan ...,  nan  nan  nan]\n",
        "\n",
        "Found nan in fibre 273\n",
        "Fibre values [ nan  nan  nan ...,  nan  nan  nan]\n",
        "\n",
        "Found nan in fibre 274\n",
        "Fibre values [ nan  nan  nan ...,  nan  nan  nan]\n",
        "\n",
        "Found nan in fibre 275\n",
        "Fibre values [ nan  nan  nan ...,  nan  nan  nan]\n",
        "\n",
        "Found nan in fibre 276\n",
        "Fibre values [ nan  nan  nan ...,  nan  nan  nan]\n",
        "\n",
        "Found nan in fibre 277\n",
        "Fibre values [ nan  nan  nan ...,  nan  nan  nan]\n",
        "\n",
        "Found nan in fibre 278\n",
        "Fibre values [ nan  nan  nan ...,  nan  nan  nan]\n",
        "\n",
        "Found nan in fibre 279\n",
        "Fibre values [ nan  nan  nan ...,  nan  nan  nan]\n",
        "\n",
        "Found nan in fibre 280\n",
        "Fibre values [ nan  nan  nan ...,  nan  nan  nan]\n",
        "\n",
        "Found nan in fibre 281\n",
        "Fibre values [ nan  nan  nan ...,  nan  nan  nan]\n",
        "\n",
        "Found nan in fibre 282\n",
        "Fibre values [ nan  nan  nan ...,  nan  nan  nan]\n",
        "\n",
        "Found nan in fibre 283\n",
        "Fibre values [ nan  nan  nan ...,  nan  nan  nan]\n",
        "\n",
        "Found nan in fibre 284\n",
        "Fibre values [ nan  nan  nan ...,  nan  nan  nan]\n",
        "\n",
        "Found nan in fibre 285\n",
        "Fibre values [ nan  nan  nan ...,  nan  nan  nan]\n",
        "\n",
        "Found nan in fibre 286\n",
        "Fibre values [ nan  nan  nan ...,  nan  nan  nan]\n",
        "\n",
        "Found nan in fibre 287\n",
        "Fibre values [ nan  nan  nan ...,  nan  nan  nan]\n",
        "\n",
        "Found nan in fibre 288\n",
        "Fibre values [ nan  nan  nan ...,  nan  nan  nan]\n",
        "\n",
        "Found nan in fibre 289\n",
        "Fibre values [ nan  nan  nan ...,  nan  nan  nan]\n",
        "\n",
        "Found nan in fibre 290\n",
        "Fibre values [ nan  nan  nan ...,  nan  nan  nan]\n",
        "\n",
        "Found nan in fibre 291\n",
        "Fibre values [ nan  nan  nan ...,  nan  nan  nan]\n",
        "\n",
        "Found nan in fibre 292\n",
        "Fibre values [ nan  nan  nan ...,  nan  nan  nan]\n",
        "\n",
        "Found nan in fibre 293\n",
        "Fibre values [ nan  nan  nan ...,  nan  nan  nan]\n",
        "\n",
        "Found nan in fibre 294\n",
        "Fibre values [ nan  nan  nan ...,  nan  nan  nan]"
       ]
      },
      {
       "output_type": "stream",
       "stream": "stdout",
       "text": [
        "\n",
        "\n",
        "Found nan in fibre 295\n",
        "Fibre values [ nan  nan  nan ...,  nan  nan  nan]\n",
        "\n",
        "Found nan in fibre 296\n",
        "Fibre values [ nan  nan  nan ...,  nan  nan  nan]\n",
        "\n",
        "Found nan in fibre 297\n",
        "Fibre values [ nan  nan  nan ...,  nan  nan  nan]\n",
        "\n",
        "Found nan in fibre 298\n",
        "Fibre values [ nan  nan  nan ...,  nan  nan  nan]\n",
        "\n",
        "Found nan in fibre 299\n",
        "Fibre values [ nan  nan  nan ...,  nan  nan  nan]\n",
        "\n",
        "Found nan in fibre 300\n",
        "Fibre values [ nan  nan  nan ...,  nan  nan  nan]\n",
        "\n",
        "Found nan in fibre 301\n",
        "Fibre values [ nan  nan  nan ...,  nan  nan  nan]\n",
        "\n",
        "Found nan in fibre 302\n",
        "Fibre values [ nan  nan  nan ...,  nan  nan  nan]\n",
        "\n",
        "Found nan in fibre 303\n",
        "Fibre values [ nan  nan  nan ...,  nan  nan  nan]\n",
        "\n",
        "Found nan in fibre 304\n",
        "Fibre values [ nan  nan  nan ...,  nan  nan  nan]\n",
        "\n",
        "Found nan in fibre 305\n",
        "Fibre values [ nan  nan  nan ...,  nan  nan  nan]\n",
        "\n",
        "Found nan in fibre 306\n",
        "Fibre values [ nan  nan  nan ...,  nan  nan  nan]\n",
        "\n",
        "Found nan in fibre 307\n",
        "Fibre values [ nan  nan  nan ...,  nan  nan  nan]\n",
        "\n",
        "Found nan in fibre 308\n",
        "Fibre values [ nan  nan  nan ...,  nan  nan  nan]\n",
        "\n",
        "Found nan in fibre 309\n",
        "Fibre values [ nan  nan  nan ...,  nan  nan  nan]\n",
        "\n",
        "Found nan in fibre 310\n",
        "Fibre values [ nan  nan  nan ...,  nan  nan  nan]\n",
        "\n",
        "Found nan in fibre 311\n",
        "Fibre values [ nan  nan  nan ...,  nan  nan  nan]\n",
        "\n",
        "Found nan in fibre 312\n",
        "Fibre values [ nan  nan  nan ...,  nan  nan  nan]\n",
        "\n",
        "Found nan in fibre 313\n",
        "Fibre values [ nan  nan  nan ...,  nan  nan  nan]\n",
        "\n",
        "Found nan in fibre 314\n",
        "Fibre values [ nan  nan  nan ...,  nan  nan  nan]\n",
        "\n",
        "Found nan in fibre 315\n",
        "Fibre values [ nan  nan  nan ...,  nan  nan  nan]\n",
        "\n",
        "Found nan in fibre 316\n",
        "Fibre values [ nan  nan  nan ...,  nan  nan  nan]\n",
        "\n",
        "Found nan in fibre 317\n",
        "Fibre values [ nan  nan  nan ...,  nan  nan  nan]\n",
        "\n",
        "Found nan in fibre 318\n",
        "Fibre values [ nan  nan  nan ...,  nan  nan  nan]\n",
        "\n",
        "Found nan in fibre 319\n",
        "Fibre values [ nan  nan  nan ...,  nan  nan  nan]\n",
        "\n",
        "Found nan in fibre 320\n",
        "Fibre values [ nan  nan  nan ...,  nan  nan  nan]\n",
        "\n",
        "Found nan in fibre 321\n",
        "Fibre values [ nan  nan  nan ...,  nan  nan  nan]\n",
        "\n",
        "Found nan in fibre 322\n",
        "Fibre values [ nan  nan  nan ...,  nan  nan  nan]\n",
        "\n",
        "Found nan in fibre 323\n",
        "Fibre values [ nan  nan  nan ...,  nan  nan  nan]\n",
        "\n",
        "Found nan in fibre 324\n",
        "Fibre values [ nan  nan  nan ...,  nan  nan  nan]\n",
        "\n",
        "Found nan in fibre 325\n",
        "Fibre values [ nan  nan  nan ...,  nan  nan  nan]\n",
        "\n",
        "Found nan in fibre 326\n",
        "Fibre values [ nan  nan  nan ...,  nan  nan  nan]\n",
        "\n",
        "Found nan in fibre 327\n",
        "Fibre values [ nan  nan  nan ...,  nan  nan  nan]\n",
        "\n",
        "Found nan in fibre 328\n",
        "Fibre values [ nan  nan  nan ...,  nan  nan  nan]\n",
        "\n",
        "Found nan in fibre 329\n",
        "Fibre values [ nan  nan  nan ...,  nan  nan  nan]\n",
        "\n",
        "Found nan in fibre 330\n",
        "Fibre values [ nan  nan  nan ...,  nan  nan  nan]\n",
        "\n",
        "Found nan in fibre"
       ]
      },
      {
       "output_type": "stream",
       "stream": "stdout",
       "text": [
        " 331\n",
        "Fibre values [ nan  nan  nan ...,  nan  nan  nan]\n",
        "\n",
        "Found nan in fibre 332\n",
        "Fibre values [ nan  nan  nan ...,  nan  nan  nan]\n",
        "\n",
        "Found nan in fibre 333\n",
        "Fibre values [ nan  nan  nan ...,  nan  nan  nan]\n",
        "\n",
        "Found nan in fibre 334\n",
        "Fibre values [ nan  nan  nan ...,  nan  nan  nan]\n",
        "\n",
        "Found nan in fibre 335\n",
        "Fibre values [ nan  nan  nan ...,  nan  nan  nan]\n",
        "\n",
        "Found nan in fibre 336\n",
        "Fibre values [ nan  nan  nan ...,  nan  nan  nan]\n",
        "\n",
        "Found nan in fibre 337\n",
        "Fibre values [ nan  nan  nan ...,  nan  nan  nan]\n",
        "\n",
        "Found nan in fibre 338\n",
        "Fibre values [ nan  nan  nan ...,  nan  nan  nan]\n",
        "\n",
        "Found nan in fibre 339\n",
        "Fibre values [ nan  nan  nan ...,  nan  nan  nan]\n",
        "\n",
        "Found nan in fibre 340\n",
        "Fibre values [ nan  nan  nan ...,  nan  nan  nan]\n",
        "\n",
        "Found nan in fibre 341\n",
        "Fibre values [ nan  nan  nan ...,  nan  nan  nan]\n",
        "\n",
        "Found nan in fibre 342\n",
        "Fibre values [ nan  nan  nan ...,  nan  nan  nan]\n",
        "\n",
        "Found nan in fibre 343\n",
        "Fibre values [ nan  nan  nan ...,  nan  nan  nan]\n",
        "\n",
        "Found nan in fibre 344\n",
        "Fibre values [ nan  nan  nan ...,  nan  nan  nan]\n",
        "\n",
        "Found nan in fibre 345\n",
        "Fibre values [ nan  nan  nan ...,  nan  nan  nan]\n",
        "\n",
        "Found nan in fibre 346\n",
        "Fibre values [ nan  nan  nan ...,  nan  nan  nan]\n",
        "\n",
        "Found nan in fibre 347\n",
        "Fibre values [ nan  nan  nan ...,  nan  nan  nan]\n",
        "\n",
        "Found nan in fibre 348\n",
        "Fibre values [ nan  nan  nan ...,  nan  nan  nan]\n",
        "\n",
        "Found nan in fibre 349\n",
        "Fibre values [ nan  nan  nan ...,  nan  nan  nan]\n",
        "\n",
        "Found nan in fibre 350\n",
        "Fibre values [ nan  nan  nan ...,  nan  nan  nan]\n",
        "\n",
        "Found nan in fibre 351\n",
        "Fibre values [ nan  nan  nan ...,  nan  nan  nan]\n",
        "\n",
        "Found nan in fibre 352\n",
        "Fibre values [ nan  nan  nan ...,  nan  nan  nan]\n",
        "\n",
        "Found nan in fibre 353\n",
        "Fibre values [ nan  nan  nan ...,  nan  nan  nan]\n",
        "\n",
        "Found nan in fibre 354\n",
        "Fibre values [ nan  nan  nan ...,  nan  nan  nan]\n",
        "\n",
        "Found nan in fibre 355\n",
        "Fibre values [ nan  nan  nan ...,  nan  nan  nan]\n",
        "\n",
        "Found nan in fibre 356\n",
        "Fibre values [ nan  nan  nan ...,  nan  nan  nan]\n",
        "\n",
        "Found nan in fibre 357\n",
        "Fibre values [ nan  nan  nan ...,  nan  nan  nan]\n",
        "\n",
        "Found nan in fibre 358\n",
        "Fibre values [ nan  nan  nan ...,  nan  nan  nan]\n",
        "\n",
        "Found nan in fibre 359\n",
        "Fibre values [ nan  nan  nan ...,  nan  nan  nan]\n",
        "\n",
        "Found nan in fibre 360\n",
        "Fibre values [ nan  nan  nan ...,  nan  nan  nan]\n",
        "\n",
        "Found nan in fibre 361\n",
        "Fibre values [ nan  nan  nan ...,  nan  nan  nan]\n",
        "\n",
        "Found nan in fibre 362\n",
        "Fibre values [ nan  nan  nan ...,  nan  nan  nan]\n",
        "\n",
        "Found nan in fibre 363\n",
        "Fibre values [ nan  nan  nan ...,  nan  nan  nan]\n",
        "\n",
        "Found nan in fibre 364\n",
        "Fibre values [ nan  nan  nan ...,  nan  nan  nan]\n",
        "\n",
        "Found nan in fibre 365\n",
        "Fibre values [ nan  nan  nan ...,  nan  nan  nan]\n",
        "\n",
        "Found nan in fibre 366\n",
        "Fibre values [ nan  nan  nan ...,  nan  nan  nan]\n",
        "\n",
        "Found nan in fibre"
       ]
      },
      {
       "output_type": "stream",
       "stream": "stdout",
       "text": [
        " 367\n",
        "Fibre values [ nan  nan  nan ...,  nan  nan  nan]\n",
        "\n",
        "Found nan in fibre 368\n",
        "Fibre values [ nan  nan  nan ...,  nan  nan  nan]\n",
        "\n",
        "Found nan in fibre 369\n",
        "Fibre values [ nan  nan  nan ...,  nan  nan  nan]\n",
        "\n",
        "Found nan in fibre 370\n",
        "Fibre values [ nan  nan  nan ...,  nan  nan  nan]\n",
        "\n",
        "Found nan in fibre 371\n",
        "Fibre values [ nan  nan  nan ...,  nan  nan  nan]\n",
        "\n",
        "Found nan in fibre 372\n",
        "Fibre values [ nan  nan  nan ...,  nan  nan  nan]\n",
        "\n",
        "Found nan in fibre 373\n",
        "Fibre values [ nan  nan  nan ...,  nan  nan  nan]\n",
        "\n",
        "Found nan in fibre 374\n",
        "Fibre values [ nan  nan  nan ...,  nan  nan  nan]\n",
        "\n",
        "Found nan in fibre 375\n",
        "Fibre values [ nan  nan  nan ...,  nan  nan  nan]\n",
        "\n",
        "Found nan in fibre 376\n",
        "Fibre values [ nan  nan  nan ...,  nan  nan  nan]\n",
        "\n",
        "Found nan in fibre 377\n",
        "Fibre values [ nan  nan  nan ...,  nan  nan  nan]\n",
        "\n",
        "Found nan in fibre 378\n",
        "Fibre values [ nan  nan  nan ...,  nan  nan  nan]\n",
        "\n",
        "Found nan in fibre 379\n",
        "Fibre values [ nan  nan  nan ...,  nan  nan  nan]\n",
        "\n",
        "Found nan in fibre 380\n",
        "Fibre values [ nan  nan  nan ...,  nan  nan  nan]\n",
        "\n",
        "Found nan in fibre 381\n",
        "Fibre values [ nan  nan  nan ...,  nan  nan  nan]\n",
        "\n",
        "Found nan in fibre 382\n",
        "Fibre values [ nan  nan  nan ...,  nan  nan  nan]\n",
        "\n",
        "Found nan in fibre 383\n",
        "Fibre values [ nan  nan  nan ...,  nan  nan  nan]\n",
        "\n",
        "Found nan in fibre 384\n",
        "Fibre values [ nan  nan  nan ...,  nan  nan  nan]\n",
        "\n",
        "Found nan in fibre 385\n",
        "Fibre values [ nan  nan  nan ...,  nan  nan  nan]\n",
        "\n",
        "Found nan in fibre 386\n",
        "Fibre values [ nan  nan  nan ...,  nan  nan  nan]\n",
        "\n",
        "Found nan in fibre 387\n",
        "Fibre values [ nan  nan  nan ...,  nan  nan  nan]\n",
        "\n",
        "Found nan in fibre 388\n",
        "Fibre values [ nan  nan  nan ...,  nan  nan  nan]\n",
        "\n",
        "Found nan in fibre 389\n",
        "Fibre values [ nan  nan  nan ...,  nan  nan  nan]\n",
        "\n",
        "Found nan in fibre 390\n",
        "Fibre values [ nan  nan  nan ...,  nan  nan  nan]\n",
        "\n"
       ]
      }
     ],
     "prompt_number": 379
    },
    {
     "cell_type": "code",
     "collapsed": false,
     "input": [
      "#create tramlines\n",
      "tramlines = (np.ones(fibre_centroids.shape)*np.nan)[:-1]\n",
      "thisRange = np.arange(fibre_centroids.shape[1])\n",
      "for i,thisPoly in enumerate(fibrePolys[1:]):\n",
      "    tramlines[i] = fithOrder(thisPoly,thisRange)"
     ],
     "language": "python",
     "metadata": {},
     "outputs": [],
     "prompt_number": 380
    },
    {
     "cell_type": "code",
     "collapsed": false,
     "input": [
      "shift = find_vertical_shift(flat, arc) #result to be subtracted to the tramlines (1st array in the CC...)\n",
      "tramlines_shifted = tramlines - shift"
     ],
     "language": "python",
     "metadata": {},
     "outputs": [],
     "prompt_number": 381
    },
    {
     "cell_type": "code",
     "collapsed": false,
     "input": [
      "# #gaussian fit results\n",
      "# plt.plot(x,y)\n",
      "# plt.plot(x_dense,gaussian(x_dense,p[0],p[1]))\n",
      "# plt.show()"
     ],
     "language": "python",
     "metadata": {},
     "outputs": []
    },
    {
     "cell_type": "code",
     "collapsed": false,
     "input": [
      "extracted_arc = np.ones(tramlines_shifted.shape)*np.nan\n",
      "for fibre in range(tramlines_shifted.shape[0]):\n",
      "    extracted_arc[fibre] = sum_extract(fibre,tramlines_shifted, arc, 4)\n"
     ],
     "language": "python",
     "metadata": {},
     "outputs": [
      {
       "output_type": "stream",
       "stream": "stdout",
       "text": [
        "179 falied\n",
        "nan centroid found in index 0\n",
        "180 falied\n",
        "nan centroid found in index 0\n",
        "181 falied\n",
        "nan centroid found in index 0\n",
        "182 falied\n",
        "nan centroid found in index 0\n",
        "183 falied\n",
        "nan centroid found in index 0\n",
        "184 falied\n",
        "nan centroid found in index 0\n",
        "185 falied\n",
        "nan centroid found in index 0\n",
        "186 falied\n",
        "nan centroid found in index 0\n",
        "187 falied\n",
        "nan centroid found in index 0\n",
        "188 falied\n",
        "nan centroid found in index 0\n",
        "189 falied\n",
        "nan centroid found in index 0\n",
        "190 falied\n",
        "nan centroid found in index 0\n",
        "191 falied\n",
        "nan centroid found in index 0\n",
        "192 falied\n",
        "nan centroid found in index 0\n",
        "193 falied\n",
        "nan centroid found in index 0\n",
        "194 falied\n",
        "nan centroid found in index 0\n",
        "195 falied\n",
        "nan centroid found in index 0\n",
        "196 falied\n",
        "nan centroid found in index 0\n",
        "197 falied\n",
        "nan centroid found in index 0\n",
        "198 falied\n",
        "nan centroid found in index 0\n",
        "199 falied\n",
        "nan centroid found in index 0\n",
        "200 falied\n",
        "nan centroid found in index 0\n",
        "201 falied\n",
        "nan centroid found in index 0\n",
        "202 falied\n",
        "nan centroid found in index 0\n",
        "203 falied\n",
        "nan centroid found in index 0\n",
        "204 falied\n",
        "nan centroid found in index 0\n",
        "205 falied\n",
        "nan centroid found in index 0\n",
        "206 falied\n",
        "nan centroid found in index 0\n",
        "207 falied\n",
        "nan centroid found in index 0\n",
        "208 falied\n",
        "nan centroid found in index 0\n",
        "209 falied\n",
        "nan centroid found in index 0\n",
        "210 falied\n",
        "nan centroid found in index 0\n",
        "211 falied\n",
        "nan centroid found in index 0\n",
        "212 falied\n",
        "nan centroid found in index 0\n",
        "213 falied\n",
        "nan centroid found in index 0\n",
        "214 falied\n",
        "nan centroid found in index 0\n",
        "215 falied\n",
        "nan centroid found in index 0\n",
        "216 falied\n",
        "nan centroid found in index 0\n",
        "217 falied\n",
        "nan centroid found in index 0\n",
        "218 falied\n",
        "nan centroid found in index 0\n",
        "219 falied\n",
        "nan centroid found in index 0\n",
        "220 falied\n",
        "nan centroid found in index 0\n",
        "221 falied\n",
        "nan centroid found in index 0\n",
        "222 falied\n",
        "nan centroid found in index 0\n",
        "223 falied\n",
        "nan centroid found in index 0\n",
        "224 falied\n",
        "nan centroid found in index 0\n",
        "225 falied\n",
        "nan centroid found in index 0\n",
        "226 falied\n",
        "nan centroid found in index 0\n",
        "227 falied\n",
        "nan centroid found in index 0\n",
        "228 falied\n",
        "nan centroid found in index 0\n",
        "229 falied\n",
        "nan centroid found in index 0\n",
        "230 falied\n",
        "nan centroid found in index 0\n",
        "231 falied\n",
        "nan centroid found in index 0\n",
        "232 falied\n",
        "nan centroid found in index 0\n",
        "233 falied\n",
        "nan centroid found in index 0\n",
        "234 falied\n",
        "nan centroid found in index 0\n",
        "235 falied\n",
        "nan centroid found in index 0\n",
        "236 falied\n",
        "nan centroid found in index 0\n",
        "237 falied\n",
        "nan centroid found in index 0\n",
        "238 falied\n",
        "nan centroid found in index 0\n",
        "239 falied\n",
        "nan centroid found in index 0\n",
        "240 falied\n",
        "nan centroid found in index 0\n",
        "241 falied\n",
        "nan centroid found in index 0\n",
        "242 falied\n",
        "nan centroid found in index 0\n",
        "243 falied\n",
        "nan centroid found in index 0\n",
        "244 falied\n",
        "nan centroid found in index 0\n",
        "245 falied\n",
        "nan centroid found in index 0\n",
        "246 falied\n",
        "nan centroid found in index 0\n",
        "247 falied\n",
        "nan centroid found in index 0\n",
        "248 falied\n",
        "nan centroid found in index 0\n",
        "249 falied\n",
        "nan centroid found in index 0\n",
        "250 falied\n",
        "nan centroid found in index 0\n",
        "251 falied\n",
        "nan centroid found in index 0\n",
        "252 falied\n",
        "nan centroid found in index 0\n",
        "253 falied\n",
        "nan centroid found in index 0\n",
        "254 falied\n",
        "nan centroid found in index 0\n",
        "255 falied\n",
        "nan centroid found in index 0\n",
        "256 falied\n",
        "nan centroid found in index 0\n",
        "257 falied\n",
        "nan centroid found in index 0\n",
        "258 falied\n",
        "nan centroid found in index 0\n",
        "259 falied\n",
        "nan centroid found in index 0\n",
        "260 falied\n",
        "nan centroid found in index 0\n",
        "261 falied\n",
        "nan centroid found in index 0\n",
        "262 falied\n",
        "nan centroid found in index 0\n",
        "263 falied\n",
        "nan centroid found in index 0\n",
        "264 falied\n",
        "nan centroid found in index 0\n",
        "265 falied\n",
        "nan centroid found in index 0\n",
        "266 falied\n",
        "nan centroid found in index 0\n",
        "267 falied\n",
        "nan centroid found in index 0\n",
        "268 falied\n",
        "nan centroid found in index 0\n",
        "269 falied\n",
        "nan centroid found in index 0\n",
        "270 falied\n",
        "nan centroid found in index 0\n",
        "271 falied\n",
        "nan centroid found in index 0\n",
        "272 falied\n",
        "nan centroid found in index 0\n",
        "273 falied\n",
        "nan centroid found in index 0\n",
        "274 falied\n",
        "nan centroid found in index 0\n",
        "275 falied\n",
        "nan centroid found in index 0\n",
        "276 falied\n",
        "nan centroid found in index 0\n",
        "277 falied\n",
        "nan centroid found in index 0\n",
        "278 falied\n",
        "nan centroid found in index 0\n",
        "279 falied\n",
        "nan centroid found in index 0\n",
        "280 falied\n",
        "nan centroid found in index 0\n",
        "281 falied\n",
        "nan centroid found in index 0\n",
        "282 falied\n",
        "nan centroid found in index 0\n",
        "283 falied\n",
        "nan centroid found in index 0\n",
        "284 falied\n",
        "nan centroid found in index 0\n",
        "285 falied\n",
        "nan centroid found in index 0\n",
        "286 falied\n",
        "nan centroid found in index 0\n",
        "287 falied\n",
        "nan centroid found in index 0\n",
        "288 falied\n",
        "nan centroid found in index 0\n",
        "289 falied\n",
        "nan centroid found in index 0\n",
        "290 falied\n",
        "nan centroid found in index 0\n",
        "291 falied\n",
        "nan centroid found in index 0\n",
        "292 falied\n",
        "nan centroid found in index 0\n",
        "293 falied\n",
        "nan centroid found in index 0\n",
        "294 falied\n",
        "nan centroid found in index 0\n",
        "295 falied\n",
        "nan centroid found in index 0\n",
        "296 falied\n",
        "nan centroid found in index 0\n",
        "297 falied\n",
        "nan centroid found in index 0\n",
        "298 falied\n",
        "nan centroid found in index 0\n",
        "299 falied\n",
        "nan centroid found in index 0\n",
        "300 falied\n",
        "nan centroid found in index 0\n",
        "301 falied\n",
        "nan centroid found in index 0\n",
        "302 falied\n",
        "nan centroid found in index 0\n",
        "303 falied\n",
        "nan centroid found in index 0\n",
        "304 falied\n",
        "nan centroid found in index 0\n",
        "305 falied\n",
        "nan centroid found in index 0\n",
        "306 falied\n",
        "nan centroid found in index 0\n",
        "307 falied\n",
        "nan centroid found in index 0\n",
        "308 falied\n",
        "nan centroid found in index 0\n",
        "309 falied\n",
        "nan centroid found in index 0\n",
        "310 falied\n",
        "nan centroid found in index 0\n",
        "311 falied\n",
        "nan centroid found in index 0\n",
        "312 falied\n",
        "nan centroid found in index 0\n",
        "313 falied\n",
        "nan centroid found in index 0\n",
        "314 falied\n",
        "nan centroid found in index 0\n",
        "315 falied\n",
        "nan centroid found in index 0\n",
        "316 falied\n",
        "nan centroid found in index 0\n",
        "317 falied\n",
        "nan centroid found in index 0\n",
        "318 falied\n",
        "nan centroid found in index 0\n",
        "319 falied\n",
        "nan centroid found in index 0\n",
        "320 falied\n",
        "nan centroid found in index 0\n",
        "321 falied\n",
        "nan centroid found in index 0\n",
        "322 falied\n",
        "nan centroid found in index 0\n",
        "323 falied\n",
        "nan centroid found in index 0\n",
        "324 falied\n",
        "nan centroid found in index 0\n",
        "325 falied\n",
        "nan centroid found in index 0\n",
        "326 falied\n",
        "nan centroid found in index 0\n",
        "327 falied\n",
        "nan centroid found in index 0\n",
        "328 falied\n",
        "nan centroid found in index 0\n",
        "329 falied\n",
        "nan centroid found in index 0\n",
        "330 falied\n",
        "nan centroid found in index 0\n",
        "331 falied\n",
        "nan centroid found in index 0\n",
        "332 falied\n",
        "nan centroid found in index 0\n",
        "333 falied\n",
        "nan centroid found in index 0\n",
        "334 falied\n",
        "nan centroid found in index 0\n",
        "335 falied\n",
        "nan centroid found in index 0\n",
        "336 falied\n",
        "nan centroid found in index 0\n",
        "337 falied\n",
        "nan centroid found in index 0\n",
        "338 falied\n",
        "nan centroid found in index 0\n",
        "339 falied\n",
        "nan centroid found in index 0\n",
        "340 falied\n",
        "nan centroid found in index 0\n",
        "341 falied\n",
        "nan centroid found in index 0\n",
        "342 falied\n",
        "nan centroid found in index 0\n",
        "343 falied\n",
        "nan centroid found in index 0\n",
        "344 falied\n",
        "nan centroid found in index 0\n",
        "345 falied\n",
        "nan centroid found in index 0\n",
        "346 falied\n",
        "nan centroid found in index 0\n",
        "347 falied\n",
        "nan centroid found in index 0\n",
        "348 falied\n",
        "nan centroid found in index 0\n",
        "349 falied\n",
        "nan centroid found in index 0\n",
        "350 falied\n",
        "nan centroid found in index 0\n",
        "351 falied\n",
        "nan centroid found in index 0\n",
        "352 falied\n",
        "nan centroid found in index 0\n",
        "353 falied\n",
        "nan centroid found in index 0\n",
        "354 falied\n",
        "nan centroid found in index 0\n",
        "355 falied\n",
        "nan centroid found in index 0\n",
        "356 falied\n",
        "nan centroid found in index 0\n",
        "357 falied\n",
        "nan centroid found in index 0\n",
        "358 falied\n",
        "nan centroid found in index 0\n",
        "359 falied\n",
        "nan centroid found in index 0\n",
        "360 falied\n",
        "nan centroid found in index 0\n",
        "361 falied\n",
        "nan centroid found in index 0\n",
        "362 falied\n",
        "nan centroid found in index 0\n",
        "363 falied\n",
        "nan centroid found in index 0\n",
        "364 falied\n",
        "nan centroid found in index 0\n",
        "365 falied\n",
        "nan centroid found in index 0\n",
        "366 falied\n",
        "nan centroid found in index 0\n",
        "367 falied\n",
        "nan centroid found in index 0\n",
        "368 falied\n",
        "nan centroid found in index 0\n",
        "369 falied\n",
        "nan centroid found in index 0\n",
        "370 falied\n",
        "nan centroid found in index 0\n",
        "371 falied\n",
        "nan centroid found in index 0\n",
        "372 falied\n",
        "nan centroid found in index 0\n",
        "373 falied\n",
        "nan centroid found in index 0\n",
        "374 falied\n",
        "nan centroid found in index 0\n",
        "375 falied\n",
        "nan centroid found in index 0\n",
        "376 falied\n",
        "nan centroid found in index 0\n",
        "377 falied\n",
        "nan centroid found in index 0\n",
        "378 falied\n",
        "nan centroid found in index 0\n",
        "379 falied\n",
        "nan centroid found in index 0\n",
        "380 falied\n",
        "nan centroid found in index 0\n",
        "381 falied\n",
        "nan centroid found in index 0\n",
        "382 falied\n",
        "nan centroid found in index 0\n",
        "383 falied\n",
        "nan centroid found in index 0\n",
        "384 falied\n",
        "nan centroid found in index 0\n",
        "385 falied\n",
        "nan centroid found in index 0\n",
        "386 falied\n",
        "nan centroid found in index 0\n",
        "387 falied\n",
        "nan centroid found in index 0\n",
        "388 falied\n",
        "nan centroid found in index 0\n",
        "389 falied\n",
        "nan centroid found in index 0\n"
       ]
      }
     ],
     "prompt_number": 382
    },
    {
     "cell_type": "code",
     "collapsed": false,
     "input": [
      "extracted_obj = np.ones(tramlines_shifted.shape)*np.nan\n",
      "for fibre in range(tramlines_shifted.shape[0]):\n",
      "    extracted_obj[fibre] = sum_extract(fibre,tramlines_shifted, obj, 4)\n"
     ],
     "language": "python",
     "metadata": {},
     "outputs": [],
     "prompt_number": 353
    },
    {
     "cell_type": "code",
     "collapsed": false,
     "input": [
      "plt.plot(np.median(extracted_obj,axis=1))\n",
      "plt.show()"
     ],
     "language": "python",
     "metadata": {},
     "outputs": [],
     "prompt_number": 354
    },
    {
     "cell_type": "code",
     "collapsed": false,
     "input": [
      "plt.plot(extracted_arc[170])\n",
      "plt.show()\n"
     ],
     "language": "python",
     "metadata": {},
     "outputs": [],
     "prompt_number": 343
    },
    {
     "cell_type": "code",
     "collapsed": false,
     "input": [
      "#initial pixel adjustment\n",
      "thisFibre = 200\n",
      "\n",
      "print thisFibre,\n",
      "\n",
      "halfCCRange = 10\n",
      "halfSmallCCRange = 4\n",
      "\n",
      "masterArc = extracted_arc[thisFibre].copy()\n",
      "\n",
      "lineTemplate = np.zeros(extracted_arc.shape[1])\n",
      "lineList = np.loadtxt('linelist_blue.txt')\n",
      "lineTemplate[lineList[:,0].astype(int)]=1\n",
      "\n",
      "CCCurve = np.correlate(masterArc, lineTemplate, mode='full')\n",
      "\n",
      "y = CCCurve[int(CCCurve.shape[0]/2.)+1-halfCCRange:int(CCCurve.shape[0]/2.)+1+halfCCRange+1]\n",
      "x = np.arange(-halfCCRange,halfCCRange+1)\n",
      "\n",
      "maxIdx = np.where(y==np.max(y))[0][0]\n",
      "print x[maxIdx]\n",
      "\n",
      "\n",
      "plt.plot(masterArc)\n",
      "adjLineList = lineList.copy()\n",
      "adjLineList[:,0] += x[maxIdx]\n",
      "np.savetxt('linelist_blue_v2.txt',adjLineList)\n",
      "plt.scatter(adjLineList[:,0], np.ones(adjLineList.shape[0]))\n",
      "plt.show()"
     ],
     "language": "python",
     "metadata": {},
     "outputs": []
    },
    {
     "cell_type": "code",
     "collapsed": false,
     "input": [
      "#FULL LOOP\n",
      "\n",
      "wlSolutions = []\n",
      "wlErrors = []\n",
      "wlPolys = []\n",
      "for thisFibre in range(extracted_arc.shape[0])[:]:\n",
      "    print 'Fibre',thisFibre\n",
      "\n",
      "    halfCCRange = 15\n",
      "\n",
      "    masterArc = extracted_arc[thisFibre].copy()\n",
      "\n",
      "    lineTemplate = np.zeros(extracted_arc.shape[1])\n",
      "    lineList = np.loadtxt('linelist_blue_v2.txt')\n",
      "    lineTemplate[lineList[:,0].astype(int)]=1\n",
      "\n",
      "    CCCurve = np.correlate(masterArc, lineTemplate, mode='full')\n",
      "\n",
      "    y = CCCurve[int(CCCurve.shape[0]/2.)+1-halfCCRange:int(CCCurve.shape[0]/2.)+1+halfCCRange+1]\n",
      "    x = np.arange(-halfCCRange,halfCCRange+1)\n",
      "\n",
      "    maxIdx = np.where(y==np.max(y))[0][0]\n",
      "    thisShift = x[maxIdx]\n",
      "\n",
      "#     print 'Shift', thisShift\n",
      "\n",
      "    adjLineList = lineList.copy()\n",
      "    adjLineList[:,0] += thisShift\n",
      "\n",
      "    for i, thisLineWl in enumerate(adjLineList):\n",
      "#         print 'Searching for wl',thisLineWl[1],'in px',thisLineWl[0],\n",
      "        \n",
      "        firstSliceX = np.arange(thisLineWl[0]-5,thisLineWl[0]+6).astype(int)\n",
      "        firstSliceY = masterArc[firstSliceX]\n",
      "        maxIdx =  firstSliceX[np.where(firstSliceY==np.max(firstSliceY))[0][0]]\n",
      "        \n",
      "        secondSliceX = np.arange(maxIdx-5,maxIdx+6).astype(int)\n",
      "        secondSliceY = masterArc[secondSliceX]      \n",
      "        \n",
      "#         p,_ = fit_gaussian([maxIdx,1.], secondSliceY, secondSliceX )\n",
      "        p,_ = fit_flexi_gaussian([maxIdx,1., 2., np.max(secondSliceY), 0], secondSliceY, secondSliceX )\n",
      "        \n",
      "#         print 'Found',p\n",
      "        goodPxValue = p[0]\n",
      "\n",
      "        adjLineList[i,0] = goodPxValue\n",
      "        \n",
      "#         x_dense = np.linspace(np.min(secondSliceX),np.max(secondSliceX))\n",
      "#         plt.plot(secondSliceX,secondSliceY)\n",
      "#         plt.plot(x_dense,flexi_gaussian(x_dense,p[0],p[1],p[2],p[3],p[4]))\n",
      "#         plt.title(goodPxValue)\n",
      "#         plt.show()\n",
      "\n",
      "#     print adjLineList\n",
      "    \n",
      "    a = np.polyfit(adjLineList[:,0], adjLineList[:,1], 5)\n",
      "    x = fithOrder(a, np.arange(4095))\n",
      "    err = fithOrder(a, adjLineList[:,0]) - adjLineList[:,1]\n",
      "\n",
      "    wlPolys.append(a)\n",
      "    wlErrors.append(err)\n",
      "    wlSolutions.append(x)\n",
      "    \n",
      "wlPolys = np.array(wlPolys)\n",
      "wlErrors = np.array(wlErrors)\n",
      "wlSolutions = np.array(wlSolutions)\n",
      "#         plt.plot(x_dense,gaussian(x_dense,p[0],p[1]))\n",
      "#         plt.plot(firstSliceX,firstSliceY/np.max(firstSliceY))\n",
      "#         plt.title(maxIdx)\n",
      "# #         plt.plot(masterArc[thisLineWl[0]-5:thisLineWl[0]+5])\n",
      "#         plt.show()\n"
     ],
     "language": "python",
     "metadata": {},
     "outputs": [
      {
       "output_type": "stream",
       "stream": "stdout",
       "text": [
        "Fibre 0\n",
        "Fibre"
       ]
      },
      {
       "output_type": "stream",
       "stream": "stdout",
       "text": [
        " 1\n",
        "Fibre"
       ]
      },
      {
       "output_type": "stream",
       "stream": "stdout",
       "text": [
        " 2\n",
        "Fibre"
       ]
      },
      {
       "output_type": "stream",
       "stream": "stdout",
       "text": [
        " 3\n",
        "Fibre"
       ]
      },
      {
       "output_type": "stream",
       "stream": "stdout",
       "text": [
        " 4\n",
        "Fibre"
       ]
      },
      {
       "output_type": "stream",
       "stream": "stdout",
       "text": [
        " 5\n",
        "Fibre"
       ]
      },
      {
       "output_type": "stream",
       "stream": "stdout",
       "text": [
        " 6\n",
        "Fibre"
       ]
      },
      {
       "output_type": "stream",
       "stream": "stdout",
       "text": [
        " 7\n",
        "Fibre"
       ]
      },
      {
       "output_type": "stream",
       "stream": "stdout",
       "text": [
        " 8\n",
        "Fibre"
       ]
      },
      {
       "output_type": "stream",
       "stream": "stdout",
       "text": [
        " 9\n",
        "Fibre"
       ]
      },
      {
       "output_type": "stream",
       "stream": "stdout",
       "text": [
        " 10\n",
        "Fibre"
       ]
      },
      {
       "output_type": "stream",
       "stream": "stdout",
       "text": [
        " 11\n",
        "Fibre"
       ]
      },
      {
       "output_type": "stream",
       "stream": "stdout",
       "text": [
        " 12\n",
        "Fibre"
       ]
      },
      {
       "output_type": "stream",
       "stream": "stdout",
       "text": [
        " 13\n",
        "Fibre"
       ]
      },
      {
       "output_type": "stream",
       "stream": "stdout",
       "text": [
        " 14\n",
        "Fibre"
       ]
      },
      {
       "output_type": "stream",
       "stream": "stdout",
       "text": [
        " 15\n",
        "Fibre"
       ]
      },
      {
       "output_type": "stream",
       "stream": "stdout",
       "text": [
        " 16\n",
        "Fibre"
       ]
      },
      {
       "output_type": "stream",
       "stream": "stdout",
       "text": [
        " 17\n",
        "Fibre"
       ]
      },
      {
       "output_type": "stream",
       "stream": "stdout",
       "text": [
        " 18\n",
        "Fibre"
       ]
      },
      {
       "output_type": "stream",
       "stream": "stdout",
       "text": [
        " 19\n",
        "Fibre"
       ]
      },
      {
       "output_type": "stream",
       "stream": "stdout",
       "text": [
        " 20\n",
        "Fibre"
       ]
      },
      {
       "output_type": "stream",
       "stream": "stdout",
       "text": [
        " 21\n",
        "Fibre"
       ]
      },
      {
       "output_type": "stream",
       "stream": "stdout",
       "text": [
        " 22\n",
        "Fibre"
       ]
      },
      {
       "output_type": "stream",
       "stream": "stdout",
       "text": [
        " 23\n",
        "Fibre"
       ]
      },
      {
       "output_type": "stream",
       "stream": "stdout",
       "text": [
        " 24\n",
        "Fibre"
       ]
      },
      {
       "output_type": "stream",
       "stream": "stdout",
       "text": [
        " 25\n",
        "Fibre"
       ]
      },
      {
       "output_type": "stream",
       "stream": "stdout",
       "text": [
        " 26\n",
        "Fibre"
       ]
      },
      {
       "output_type": "stream",
       "stream": "stdout",
       "text": [
        " 27\n",
        "Fibre"
       ]
      },
      {
       "output_type": "stream",
       "stream": "stdout",
       "text": [
        " 28\n",
        "Fibre"
       ]
      },
      {
       "output_type": "stream",
       "stream": "stdout",
       "text": [
        " 29\n",
        "Fibre"
       ]
      },
      {
       "output_type": "stream",
       "stream": "stdout",
       "text": [
        " 30\n",
        "Fibre"
       ]
      },
      {
       "output_type": "stream",
       "stream": "stdout",
       "text": [
        " 31\n",
        "Fibre"
       ]
      },
      {
       "output_type": "stream",
       "stream": "stdout",
       "text": [
        " 32\n",
        "Fibre"
       ]
      },
      {
       "output_type": "stream",
       "stream": "stdout",
       "text": [
        " 33\n",
        "Fibre"
       ]
      },
      {
       "output_type": "stream",
       "stream": "stdout",
       "text": [
        " 34\n",
        "Fibre"
       ]
      },
      {
       "output_type": "stream",
       "stream": "stdout",
       "text": [
        " 35\n",
        "Fibre"
       ]
      },
      {
       "output_type": "stream",
       "stream": "stdout",
       "text": [
        " 36\n",
        "Fibre"
       ]
      },
      {
       "output_type": "stream",
       "stream": "stdout",
       "text": [
        " 37\n",
        "Fibre"
       ]
      },
      {
       "output_type": "stream",
       "stream": "stdout",
       "text": [
        " 38\n",
        "Fibre"
       ]
      },
      {
       "output_type": "stream",
       "stream": "stdout",
       "text": [
        " 39\n",
        "Fibre"
       ]
      },
      {
       "output_type": "stream",
       "stream": "stdout",
       "text": [
        " 40\n",
        "Fibre"
       ]
      },
      {
       "output_type": "stream",
       "stream": "stdout",
       "text": [
        " 41\n",
        "Fibre"
       ]
      },
      {
       "output_type": "stream",
       "stream": "stdout",
       "text": [
        " 42\n",
        "Fibre"
       ]
      },
      {
       "output_type": "stream",
       "stream": "stdout",
       "text": [
        " 43\n",
        "Fibre"
       ]
      },
      {
       "output_type": "stream",
       "stream": "stdout",
       "text": [
        " 44\n",
        "Fibre"
       ]
      },
      {
       "output_type": "stream",
       "stream": "stdout",
       "text": [
        " 45\n",
        "Fibre"
       ]
      },
      {
       "output_type": "stream",
       "stream": "stdout",
       "text": [
        " 46\n",
        "Fibre"
       ]
      },
      {
       "output_type": "stream",
       "stream": "stdout",
       "text": [
        " 47\n",
        "Fibre"
       ]
      },
      {
       "output_type": "stream",
       "stream": "stdout",
       "text": [
        " 48\n",
        "Fibre"
       ]
      },
      {
       "output_type": "stream",
       "stream": "stdout",
       "text": [
        " 49\n",
        "Fibre"
       ]
      },
      {
       "output_type": "stream",
       "stream": "stdout",
       "text": [
        " 50\n",
        "Fibre"
       ]
      },
      {
       "output_type": "stream",
       "stream": "stdout",
       "text": [
        " 51\n",
        "Fibre"
       ]
      },
      {
       "output_type": "stream",
       "stream": "stdout",
       "text": [
        " 52\n",
        "Fibre"
       ]
      },
      {
       "output_type": "stream",
       "stream": "stdout",
       "text": [
        " 53\n",
        "Fibre"
       ]
      },
      {
       "output_type": "stream",
       "stream": "stdout",
       "text": [
        " 54\n",
        "Fibre"
       ]
      },
      {
       "output_type": "stream",
       "stream": "stdout",
       "text": [
        " 55\n",
        "Fibre"
       ]
      },
      {
       "output_type": "stream",
       "stream": "stdout",
       "text": [
        " 56\n",
        "Fibre"
       ]
      },
      {
       "output_type": "stream",
       "stream": "stdout",
       "text": [
        " 57\n",
        "Fibre"
       ]
      },
      {
       "output_type": "stream",
       "stream": "stdout",
       "text": [
        " 58\n",
        "Fibre"
       ]
      },
      {
       "output_type": "stream",
       "stream": "stdout",
       "text": [
        " 59\n",
        "Fibre"
       ]
      },
      {
       "output_type": "stream",
       "stream": "stdout",
       "text": [
        " 60\n",
        "Fibre"
       ]
      },
      {
       "output_type": "stream",
       "stream": "stdout",
       "text": [
        " 61\n",
        "Fibre"
       ]
      },
      {
       "output_type": "stream",
       "stream": "stdout",
       "text": [
        " 62\n",
        "Fibre"
       ]
      },
      {
       "output_type": "stream",
       "stream": "stdout",
       "text": [
        " 63\n",
        "Fibre"
       ]
      },
      {
       "output_type": "stream",
       "stream": "stdout",
       "text": [
        " 64\n",
        "Fibre"
       ]
      },
      {
       "output_type": "stream",
       "stream": "stdout",
       "text": [
        " 65\n",
        "Fibre"
       ]
      },
      {
       "output_type": "stream",
       "stream": "stdout",
       "text": [
        " 66\n",
        "Fibre"
       ]
      },
      {
       "output_type": "stream",
       "stream": "stdout",
       "text": [
        " 67\n",
        "Fibre"
       ]
      },
      {
       "output_type": "stream",
       "stream": "stdout",
       "text": [
        " 68\n",
        "Fibre"
       ]
      },
      {
       "output_type": "stream",
       "stream": "stdout",
       "text": [
        " 69\n",
        "Fibre"
       ]
      },
      {
       "output_type": "stream",
       "stream": "stdout",
       "text": [
        " 70\n",
        "Fibre"
       ]
      },
      {
       "output_type": "stream",
       "stream": "stdout",
       "text": [
        " 71\n",
        "Fibre"
       ]
      },
      {
       "output_type": "stream",
       "stream": "stdout",
       "text": [
        " 72\n",
        "Fibre"
       ]
      },
      {
       "output_type": "stream",
       "stream": "stdout",
       "text": [
        " 73\n",
        "Fibre"
       ]
      },
      {
       "output_type": "stream",
       "stream": "stdout",
       "text": [
        " 74\n",
        "Fibre"
       ]
      },
      {
       "output_type": "stream",
       "stream": "stdout",
       "text": [
        " 75\n",
        "Fibre"
       ]
      },
      {
       "output_type": "stream",
       "stream": "stdout",
       "text": [
        " 76\n",
        "Fibre"
       ]
      },
      {
       "output_type": "stream",
       "stream": "stdout",
       "text": [
        " 77\n",
        "Fibre"
       ]
      },
      {
       "output_type": "stream",
       "stream": "stdout",
       "text": [
        " 78\n",
        "Fibre"
       ]
      },
      {
       "output_type": "stream",
       "stream": "stdout",
       "text": [
        " 79\n",
        "Fibre"
       ]
      },
      {
       "output_type": "stream",
       "stream": "stdout",
       "text": [
        " 80\n",
        "Fibre"
       ]
      },
      {
       "output_type": "stream",
       "stream": "stdout",
       "text": [
        " 81\n",
        "Fibre"
       ]
      },
      {
       "output_type": "stream",
       "stream": "stdout",
       "text": [
        " 82\n",
        "Fibre"
       ]
      },
      {
       "output_type": "stream",
       "stream": "stdout",
       "text": [
        " 83\n",
        "Fibre"
       ]
      },
      {
       "output_type": "stream",
       "stream": "stdout",
       "text": [
        " 84\n",
        "Fibre"
       ]
      },
      {
       "output_type": "stream",
       "stream": "stdout",
       "text": [
        " 85\n",
        "Fibre"
       ]
      },
      {
       "output_type": "stream",
       "stream": "stdout",
       "text": [
        " 86\n",
        "Fibre"
       ]
      },
      {
       "output_type": "stream",
       "stream": "stdout",
       "text": [
        " 87\n",
        "Fibre"
       ]
      },
      {
       "output_type": "stream",
       "stream": "stdout",
       "text": [
        " 88\n",
        "Fibre"
       ]
      },
      {
       "output_type": "stream",
       "stream": "stdout",
       "text": [
        " 89\n",
        "Fibre"
       ]
      },
      {
       "output_type": "stream",
       "stream": "stdout",
       "text": [
        " 90\n",
        "Fibre"
       ]
      },
      {
       "output_type": "stream",
       "stream": "stdout",
       "text": [
        " 91\n",
        "Fibre"
       ]
      },
      {
       "output_type": "stream",
       "stream": "stdout",
       "text": [
        " 92\n",
        "Fibre"
       ]
      },
      {
       "output_type": "stream",
       "stream": "stdout",
       "text": [
        " 93\n",
        "Fibre"
       ]
      },
      {
       "output_type": "stream",
       "stream": "stdout",
       "text": [
        " 94\n",
        "Fibre"
       ]
      },
      {
       "output_type": "stream",
       "stream": "stdout",
       "text": [
        " 95\n",
        "Fibre"
       ]
      },
      {
       "output_type": "stream",
       "stream": "stdout",
       "text": [
        " 96\n",
        "Fibre"
       ]
      },
      {
       "output_type": "stream",
       "stream": "stdout",
       "text": [
        " 97\n",
        "Fibre"
       ]
      },
      {
       "output_type": "stream",
       "stream": "stdout",
       "text": [
        " 98\n",
        "Fibre"
       ]
      },
      {
       "output_type": "stream",
       "stream": "stdout",
       "text": [
        " 99\n",
        "Fibre"
       ]
      },
      {
       "output_type": "stream",
       "stream": "stdout",
       "text": [
        " 100\n",
        "Fibre"
       ]
      },
      {
       "output_type": "stream",
       "stream": "stdout",
       "text": [
        " 101\n",
        "Fibre"
       ]
      },
      {
       "output_type": "stream",
       "stream": "stdout",
       "text": [
        " 102\n",
        "Fibre"
       ]
      },
      {
       "output_type": "stream",
       "stream": "stdout",
       "text": [
        " 103\n",
        "Fibre"
       ]
      },
      {
       "output_type": "stream",
       "stream": "stdout",
       "text": [
        " 104\n",
        "Fibre"
       ]
      },
      {
       "output_type": "stream",
       "stream": "stdout",
       "text": [
        " 105\n",
        "Fibre"
       ]
      },
      {
       "output_type": "stream",
       "stream": "stdout",
       "text": [
        " 106\n",
        "Fibre"
       ]
      },
      {
       "output_type": "stream",
       "stream": "stdout",
       "text": [
        " 107\n",
        "Fibre"
       ]
      },
      {
       "output_type": "stream",
       "stream": "stdout",
       "text": [
        " 108\n",
        "Fibre"
       ]
      },
      {
       "output_type": "stream",
       "stream": "stdout",
       "text": [
        " 109\n",
        "Fibre"
       ]
      },
      {
       "output_type": "stream",
       "stream": "stdout",
       "text": [
        " 110\n",
        "Fibre"
       ]
      },
      {
       "output_type": "stream",
       "stream": "stdout",
       "text": [
        " 111\n",
        "Fibre"
       ]
      },
      {
       "output_type": "stream",
       "stream": "stdout",
       "text": [
        " 112\n",
        "Fibre"
       ]
      },
      {
       "output_type": "stream",
       "stream": "stdout",
       "text": [
        " 113\n",
        "Fibre"
       ]
      },
      {
       "output_type": "stream",
       "stream": "stdout",
       "text": [
        " 114\n",
        "Fibre"
       ]
      },
      {
       "output_type": "stream",
       "stream": "stdout",
       "text": [
        " 115\n",
        "Fibre"
       ]
      },
      {
       "output_type": "stream",
       "stream": "stdout",
       "text": [
        " 116\n",
        "Fibre"
       ]
      },
      {
       "output_type": "stream",
       "stream": "stdout",
       "text": [
        " 117\n",
        "Fibre"
       ]
      },
      {
       "output_type": "stream",
       "stream": "stdout",
       "text": [
        " 118\n",
        "Fibre"
       ]
      },
      {
       "output_type": "stream",
       "stream": "stdout",
       "text": [
        " 119\n",
        "Fibre"
       ]
      },
      {
       "output_type": "stream",
       "stream": "stdout",
       "text": [
        " 120\n",
        "Fibre"
       ]
      },
      {
       "output_type": "stream",
       "stream": "stdout",
       "text": [
        " 121\n",
        "Fibre"
       ]
      },
      {
       "output_type": "stream",
       "stream": "stdout",
       "text": [
        " 122\n",
        "Fibre"
       ]
      },
      {
       "output_type": "stream",
       "stream": "stdout",
       "text": [
        " 123\n",
        "Fibre"
       ]
      },
      {
       "output_type": "stream",
       "stream": "stdout",
       "text": [
        " 124\n",
        "Fibre"
       ]
      },
      {
       "output_type": "stream",
       "stream": "stdout",
       "text": [
        " 125\n",
        "Fibre"
       ]
      },
      {
       "output_type": "stream",
       "stream": "stdout",
       "text": [
        " 126\n",
        "Fibre"
       ]
      },
      {
       "output_type": "stream",
       "stream": "stdout",
       "text": [
        " 127\n",
        "Fibre"
       ]
      },
      {
       "output_type": "stream",
       "stream": "stdout",
       "text": [
        " 128\n",
        "Fibre"
       ]
      },
      {
       "output_type": "stream",
       "stream": "stdout",
       "text": [
        " 129\n",
        "Fibre"
       ]
      },
      {
       "output_type": "stream",
       "stream": "stdout",
       "text": [
        " 130\n",
        "Fibre"
       ]
      },
      {
       "output_type": "stream",
       "stream": "stdout",
       "text": [
        " 131\n",
        "Fibre"
       ]
      },
      {
       "output_type": "stream",
       "stream": "stdout",
       "text": [
        " 132\n",
        "Fibre"
       ]
      },
      {
       "output_type": "stream",
       "stream": "stdout",
       "text": [
        " 133\n",
        "Fibre"
       ]
      },
      {
       "output_type": "stream",
       "stream": "stdout",
       "text": [
        " 134\n",
        "Fibre"
       ]
      },
      {
       "output_type": "stream",
       "stream": "stdout",
       "text": [
        " 135\n",
        "Fibre"
       ]
      },
      {
       "output_type": "stream",
       "stream": "stdout",
       "text": [
        " 136\n",
        "Fibre"
       ]
      },
      {
       "output_type": "stream",
       "stream": "stdout",
       "text": [
        " 137\n",
        "Fibre"
       ]
      },
      {
       "output_type": "stream",
       "stream": "stdout",
       "text": [
        " 138\n",
        "Fibre"
       ]
      },
      {
       "output_type": "stream",
       "stream": "stdout",
       "text": [
        " 139\n",
        "Fibre"
       ]
      },
      {
       "output_type": "stream",
       "stream": "stdout",
       "text": [
        " 140\n",
        "Fibre"
       ]
      },
      {
       "output_type": "stream",
       "stream": "stdout",
       "text": [
        " 141\n",
        "Fibre"
       ]
      },
      {
       "output_type": "stream",
       "stream": "stdout",
       "text": [
        " 142\n",
        "Fibre"
       ]
      },
      {
       "output_type": "stream",
       "stream": "stdout",
       "text": [
        " 143\n",
        "Fibre"
       ]
      },
      {
       "output_type": "stream",
       "stream": "stdout",
       "text": [
        " 144\n",
        "Fibre"
       ]
      },
      {
       "output_type": "stream",
       "stream": "stdout",
       "text": [
        " 145\n",
        "Fibre"
       ]
      },
      {
       "output_type": "stream",
       "stream": "stdout",
       "text": [
        " 146\n",
        "Fibre"
       ]
      },
      {
       "output_type": "stream",
       "stream": "stdout",
       "text": [
        " 147\n",
        "Fibre"
       ]
      },
      {
       "output_type": "stream",
       "stream": "stdout",
       "text": [
        " 148\n",
        "Fibre"
       ]
      },
      {
       "output_type": "stream",
       "stream": "stdout",
       "text": [
        " 149\n",
        "Fibre"
       ]
      },
      {
       "output_type": "stream",
       "stream": "stdout",
       "text": [
        " 150\n",
        "Fibre"
       ]
      },
      {
       "output_type": "stream",
       "stream": "stdout",
       "text": [
        " 151\n",
        "Fibre"
       ]
      },
      {
       "output_type": "stream",
       "stream": "stdout",
       "text": [
        " 152\n",
        "Fibre"
       ]
      },
      {
       "output_type": "stream",
       "stream": "stdout",
       "text": [
        " 153\n",
        "Fibre"
       ]
      },
      {
       "output_type": "stream",
       "stream": "stdout",
       "text": [
        " 154\n",
        "Fibre"
       ]
      },
      {
       "output_type": "stream",
       "stream": "stdout",
       "text": [
        " 155\n",
        "Fibre"
       ]
      },
      {
       "output_type": "stream",
       "stream": "stdout",
       "text": [
        " 156\n",
        "Fibre"
       ]
      },
      {
       "output_type": "stream",
       "stream": "stdout",
       "text": [
        " 157\n",
        "Fibre"
       ]
      },
      {
       "output_type": "stream",
       "stream": "stdout",
       "text": [
        " 158\n",
        "Fibre"
       ]
      },
      {
       "output_type": "stream",
       "stream": "stdout",
       "text": [
        " 159\n",
        "Fibre"
       ]
      },
      {
       "output_type": "stream",
       "stream": "stdout",
       "text": [
        " 160\n",
        "Fibre"
       ]
      },
      {
       "output_type": "stream",
       "stream": "stdout",
       "text": [
        " 161\n",
        "Fibre"
       ]
      },
      {
       "output_type": "stream",
       "stream": "stdout",
       "text": [
        " 162\n",
        "Fibre"
       ]
      },
      {
       "output_type": "stream",
       "stream": "stdout",
       "text": [
        " 163\n",
        "Fibre"
       ]
      },
      {
       "output_type": "stream",
       "stream": "stdout",
       "text": [
        " 164\n",
        "Fibre"
       ]
      },
      {
       "output_type": "stream",
       "stream": "stdout",
       "text": [
        " 165\n",
        "Fibre"
       ]
      },
      {
       "output_type": "stream",
       "stream": "stdout",
       "text": [
        " 166\n",
        "Fibre"
       ]
      },
      {
       "output_type": "stream",
       "stream": "stdout",
       "text": [
        " 167\n",
        "Fibre"
       ]
      },
      {
       "output_type": "stream",
       "stream": "stdout",
       "text": [
        " 168\n",
        "Fibre"
       ]
      },
      {
       "output_type": "stream",
       "stream": "stdout",
       "text": [
        " 169\n",
        "Fibre"
       ]
      },
      {
       "output_type": "stream",
       "stream": "stdout",
       "text": [
        " 170\n",
        "Fibre"
       ]
      },
      {
       "output_type": "stream",
       "stream": "stdout",
       "text": [
        " 171\n",
        "Fibre"
       ]
      },
      {
       "output_type": "stream",
       "stream": "stdout",
       "text": [
        " 172\n",
        "Fibre"
       ]
      },
      {
       "output_type": "stream",
       "stream": "stdout",
       "text": [
        " 173\n",
        "Fibre"
       ]
      },
      {
       "output_type": "stream",
       "stream": "stdout",
       "text": [
        " 174\n",
        "Fibre"
       ]
      },
      {
       "output_type": "stream",
       "stream": "stdout",
       "text": [
        " 175\n",
        "Fibre"
       ]
      },
      {
       "output_type": "stream",
       "stream": "stdout",
       "text": [
        " 176\n",
        "Fibre"
       ]
      },
      {
       "output_type": "stream",
       "stream": "stdout",
       "text": [
        " 177\n",
        "Fibre"
       ]
      },
      {
       "output_type": "stream",
       "stream": "stdout",
       "text": [
        " 178\n",
        "Fibre"
       ]
      },
      {
       "output_type": "stream",
       "stream": "stdout",
       "text": [
        " 179\n",
        "Fibre"
       ]
      },
      {
       "output_type": "stream",
       "stream": "stdout",
       "text": [
        " 180\n",
        "Fibre"
       ]
      },
      {
       "output_type": "stream",
       "stream": "stdout",
       "text": [
        " 181\n",
        "Fibre"
       ]
      },
      {
       "output_type": "stream",
       "stream": "stdout",
       "text": [
        " 182\n",
        "Fibre"
       ]
      },
      {
       "output_type": "stream",
       "stream": "stdout",
       "text": [
        " 183\n",
        "Fibre"
       ]
      },
      {
       "output_type": "stream",
       "stream": "stdout",
       "text": [
        " 184\n",
        "Fibre"
       ]
      },
      {
       "output_type": "stream",
       "stream": "stdout",
       "text": [
        " 185\n",
        "Fibre"
       ]
      },
      {
       "output_type": "stream",
       "stream": "stdout",
       "text": [
        " 186\n",
        "Fibre"
       ]
      },
      {
       "output_type": "stream",
       "stream": "stdout",
       "text": [
        " 187\n",
        "Fibre"
       ]
      },
      {
       "output_type": "stream",
       "stream": "stdout",
       "text": [
        " 188\n",
        "Fibre"
       ]
      },
      {
       "output_type": "stream",
       "stream": "stdout",
       "text": [
        " 189\n",
        "Fibre"
       ]
      },
      {
       "output_type": "stream",
       "stream": "stdout",
       "text": [
        " 190\n",
        "Fibre"
       ]
      },
      {
       "output_type": "stream",
       "stream": "stdout",
       "text": [
        " 191\n",
        "Fibre"
       ]
      },
      {
       "output_type": "stream",
       "stream": "stdout",
       "text": [
        " 192\n",
        "Fibre"
       ]
      },
      {
       "output_type": "stream",
       "stream": "stdout",
       "text": [
        " 193\n",
        "Fibre"
       ]
      },
      {
       "output_type": "stream",
       "stream": "stdout",
       "text": [
        " 194\n",
        "Fibre"
       ]
      },
      {
       "output_type": "stream",
       "stream": "stdout",
       "text": [
        " 195\n",
        "Fibre"
       ]
      },
      {
       "output_type": "stream",
       "stream": "stdout",
       "text": [
        " 196\n",
        "Fibre"
       ]
      },
      {
       "output_type": "stream",
       "stream": "stdout",
       "text": [
        " 197\n",
        "Fibre"
       ]
      },
      {
       "output_type": "stream",
       "stream": "stdout",
       "text": [
        " 198\n",
        "Fibre"
       ]
      },
      {
       "output_type": "stream",
       "stream": "stdout",
       "text": [
        " 199\n",
        "Fibre"
       ]
      },
      {
       "output_type": "stream",
       "stream": "stdout",
       "text": [
        " 200\n",
        "Fibre"
       ]
      },
      {
       "output_type": "stream",
       "stream": "stdout",
       "text": [
        " 201\n",
        "Fibre"
       ]
      },
      {
       "output_type": "stream",
       "stream": "stdout",
       "text": [
        " 202\n",
        "Fibre"
       ]
      },
      {
       "output_type": "stream",
       "stream": "stdout",
       "text": [
        " 203\n",
        "Fibre"
       ]
      },
      {
       "output_type": "stream",
       "stream": "stdout",
       "text": [
        " 204\n",
        "Fibre"
       ]
      },
      {
       "output_type": "stream",
       "stream": "stdout",
       "text": [
        " 205\n",
        "Fibre"
       ]
      },
      {
       "output_type": "stream",
       "stream": "stdout",
       "text": [
        " 206\n",
        "Fibre"
       ]
      },
      {
       "output_type": "stream",
       "stream": "stdout",
       "text": [
        " 207\n",
        "Fibre"
       ]
      },
      {
       "output_type": "stream",
       "stream": "stdout",
       "text": [
        " 208\n",
        "Fibre"
       ]
      },
      {
       "output_type": "stream",
       "stream": "stdout",
       "text": [
        " 209\n",
        "Fibre"
       ]
      },
      {
       "output_type": "stream",
       "stream": "stdout",
       "text": [
        " 210\n",
        "Fibre"
       ]
      },
      {
       "output_type": "stream",
       "stream": "stdout",
       "text": [
        " 211\n",
        "Fibre"
       ]
      },
      {
       "output_type": "stream",
       "stream": "stdout",
       "text": [
        " 212\n",
        "Fibre"
       ]
      },
      {
       "output_type": "stream",
       "stream": "stdout",
       "text": [
        " 213\n",
        "Fibre"
       ]
      },
      {
       "output_type": "stream",
       "stream": "stdout",
       "text": [
        " 214\n",
        "Fibre"
       ]
      },
      {
       "output_type": "stream",
       "stream": "stdout",
       "text": [
        " 215\n",
        "Fibre"
       ]
      },
      {
       "output_type": "stream",
       "stream": "stdout",
       "text": [
        " 216\n",
        "Fibre"
       ]
      },
      {
       "output_type": "stream",
       "stream": "stdout",
       "text": [
        " 217\n",
        "Fibre"
       ]
      },
      {
       "output_type": "stream",
       "stream": "stdout",
       "text": [
        " 218\n",
        "Fibre"
       ]
      },
      {
       "output_type": "stream",
       "stream": "stdout",
       "text": [
        " 219\n",
        "Fibre"
       ]
      },
      {
       "output_type": "stream",
       "stream": "stdout",
       "text": [
        " 220\n",
        "Fibre"
       ]
      },
      {
       "output_type": "stream",
       "stream": "stdout",
       "text": [
        " 221\n",
        "Fibre"
       ]
      },
      {
       "output_type": "stream",
       "stream": "stdout",
       "text": [
        " 222\n",
        "Fibre"
       ]
      },
      {
       "output_type": "stream",
       "stream": "stdout",
       "text": [
        " 223\n",
        "Fibre"
       ]
      },
      {
       "output_type": "stream",
       "stream": "stdout",
       "text": [
        " 224\n",
        "Fibre"
       ]
      },
      {
       "output_type": "stream",
       "stream": "stdout",
       "text": [
        " 225\n",
        "Fibre"
       ]
      },
      {
       "output_type": "stream",
       "stream": "stdout",
       "text": [
        " 226\n",
        "Fibre"
       ]
      },
      {
       "output_type": "stream",
       "stream": "stdout",
       "text": [
        " 227\n",
        "Fibre"
       ]
      },
      {
       "output_type": "stream",
       "stream": "stdout",
       "text": [
        " 228\n",
        "Fibre"
       ]
      },
      {
       "output_type": "stream",
       "stream": "stdout",
       "text": [
        " 229\n",
        "Fibre"
       ]
      },
      {
       "output_type": "stream",
       "stream": "stdout",
       "text": [
        " 230\n",
        "Fibre"
       ]
      },
      {
       "output_type": "stream",
       "stream": "stdout",
       "text": [
        " 231\n",
        "Fibre"
       ]
      },
      {
       "output_type": "stream",
       "stream": "stdout",
       "text": [
        " 232\n",
        "Fibre"
       ]
      },
      {
       "output_type": "stream",
       "stream": "stdout",
       "text": [
        " 233\n",
        "Fibre"
       ]
      },
      {
       "output_type": "stream",
       "stream": "stdout",
       "text": [
        " 234\n",
        "Fibre"
       ]
      },
      {
       "output_type": "stream",
       "stream": "stdout",
       "text": [
        " 235\n",
        "Fibre"
       ]
      },
      {
       "output_type": "stream",
       "stream": "stdout",
       "text": [
        " 236\n",
        "Fibre"
       ]
      },
      {
       "output_type": "stream",
       "stream": "stdout",
       "text": [
        " 237\n",
        "Fibre"
       ]
      },
      {
       "output_type": "stream",
       "stream": "stdout",
       "text": [
        " 238\n",
        "Fibre"
       ]
      },
      {
       "output_type": "stream",
       "stream": "stdout",
       "text": [
        " 239\n",
        "Fibre"
       ]
      },
      {
       "output_type": "stream",
       "stream": "stdout",
       "text": [
        " 240\n",
        "Fibre"
       ]
      },
      {
       "output_type": "stream",
       "stream": "stdout",
       "text": [
        " 241\n",
        "Fibre"
       ]
      },
      {
       "output_type": "stream",
       "stream": "stdout",
       "text": [
        " 242\n",
        "Fibre"
       ]
      },
      {
       "output_type": "stream",
       "stream": "stdout",
       "text": [
        " 243\n",
        "Fibre"
       ]
      },
      {
       "output_type": "stream",
       "stream": "stdout",
       "text": [
        " 244\n",
        "Fibre"
       ]
      },
      {
       "output_type": "stream",
       "stream": "stdout",
       "text": [
        " 245\n",
        "Fibre"
       ]
      },
      {
       "output_type": "stream",
       "stream": "stdout",
       "text": [
        " 246\n",
        "Fibre"
       ]
      },
      {
       "output_type": "stream",
       "stream": "stdout",
       "text": [
        " 247\n",
        "Fibre"
       ]
      },
      {
       "output_type": "stream",
       "stream": "stdout",
       "text": [
        " 248\n",
        "Fibre"
       ]
      },
      {
       "output_type": "stream",
       "stream": "stdout",
       "text": [
        " 249\n",
        "Fibre"
       ]
      },
      {
       "output_type": "stream",
       "stream": "stdout",
       "text": [
        " 250\n",
        "Fibre"
       ]
      },
      {
       "output_type": "stream",
       "stream": "stdout",
       "text": [
        " 251\n",
        "Fibre"
       ]
      },
      {
       "output_type": "stream",
       "stream": "stdout",
       "text": [
        " 252\n",
        "Fibre"
       ]
      },
      {
       "output_type": "stream",
       "stream": "stdout",
       "text": [
        " 253\n",
        "Fibre"
       ]
      },
      {
       "output_type": "stream",
       "stream": "stdout",
       "text": [
        " 254\n",
        "Fibre"
       ]
      },
      {
       "output_type": "stream",
       "stream": "stdout",
       "text": [
        " 255\n",
        "Fibre"
       ]
      },
      {
       "output_type": "stream",
       "stream": "stdout",
       "text": [
        " 256\n",
        "Fibre"
       ]
      },
      {
       "output_type": "stream",
       "stream": "stdout",
       "text": [
        " 257\n",
        "Fibre"
       ]
      },
      {
       "output_type": "stream",
       "stream": "stdout",
       "text": [
        " 258\n",
        "Fibre"
       ]
      },
      {
       "output_type": "stream",
       "stream": "stdout",
       "text": [
        " 259\n",
        "Fibre"
       ]
      },
      {
       "output_type": "stream",
       "stream": "stdout",
       "text": [
        " 260\n",
        "Fibre"
       ]
      },
      {
       "output_type": "stream",
       "stream": "stdout",
       "text": [
        " 261\n",
        "Fibre"
       ]
      },
      {
       "output_type": "stream",
       "stream": "stdout",
       "text": [
        " 262\n",
        "Fibre"
       ]
      },
      {
       "output_type": "stream",
       "stream": "stdout",
       "text": [
        " 263\n",
        "Fibre"
       ]
      },
      {
       "output_type": "stream",
       "stream": "stdout",
       "text": [
        " 264\n",
        "Fibre"
       ]
      },
      {
       "output_type": "stream",
       "stream": "stdout",
       "text": [
        " 265\n",
        "Fibre"
       ]
      },
      {
       "output_type": "stream",
       "stream": "stdout",
       "text": [
        " 266\n",
        "Fibre"
       ]
      },
      {
       "output_type": "stream",
       "stream": "stdout",
       "text": [
        " 267\n",
        "Fibre"
       ]
      },
      {
       "output_type": "stream",
       "stream": "stdout",
       "text": [
        " 268\n",
        "Fibre"
       ]
      },
      {
       "output_type": "stream",
       "stream": "stdout",
       "text": [
        " 269\n",
        "Fibre"
       ]
      },
      {
       "output_type": "stream",
       "stream": "stdout",
       "text": [
        " 270\n",
        "Fibre"
       ]
      },
      {
       "output_type": "stream",
       "stream": "stdout",
       "text": [
        " 271\n",
        "Fibre"
       ]
      },
      {
       "output_type": "stream",
       "stream": "stdout",
       "text": [
        " 272\n",
        "Fibre"
       ]
      },
      {
       "output_type": "stream",
       "stream": "stdout",
       "text": [
        " 273\n",
        "Fibre"
       ]
      },
      {
       "output_type": "stream",
       "stream": "stdout",
       "text": [
        " 274\n",
        "Fibre"
       ]
      },
      {
       "output_type": "stream",
       "stream": "stdout",
       "text": [
        " 275\n",
        "Fibre"
       ]
      },
      {
       "output_type": "stream",
       "stream": "stdout",
       "text": [
        " 276\n",
        "Fibre"
       ]
      },
      {
       "output_type": "stream",
       "stream": "stdout",
       "text": [
        " 277\n",
        "Fibre"
       ]
      },
      {
       "output_type": "stream",
       "stream": "stdout",
       "text": [
        " 278\n",
        "Fibre"
       ]
      },
      {
       "output_type": "stream",
       "stream": "stdout",
       "text": [
        " 279\n",
        "Fibre"
       ]
      },
      {
       "output_type": "stream",
       "stream": "stdout",
       "text": [
        " 280\n",
        "Fibre"
       ]
      },
      {
       "output_type": "stream",
       "stream": "stdout",
       "text": [
        " 281\n",
        "Fibre"
       ]
      },
      {
       "output_type": "stream",
       "stream": "stdout",
       "text": [
        " 282\n",
        "Fibre"
       ]
      },
      {
       "output_type": "stream",
       "stream": "stdout",
       "text": [
        " 283\n",
        "Fibre"
       ]
      },
      {
       "output_type": "stream",
       "stream": "stdout",
       "text": [
        " 284\n",
        "Fibre"
       ]
      },
      {
       "output_type": "stream",
       "stream": "stdout",
       "text": [
        " 285\n",
        "Fibre"
       ]
      },
      {
       "output_type": "stream",
       "stream": "stdout",
       "text": [
        " 286\n",
        "Fibre"
       ]
      },
      {
       "output_type": "stream",
       "stream": "stdout",
       "text": [
        " 287\n",
        "Fibre"
       ]
      },
      {
       "output_type": "stream",
       "stream": "stdout",
       "text": [
        " 288\n",
        "Fibre"
       ]
      },
      {
       "output_type": "stream",
       "stream": "stdout",
       "text": [
        " 289\n",
        "Fibre"
       ]
      },
      {
       "output_type": "stream",
       "stream": "stdout",
       "text": [
        " 290\n",
        "Fibre"
       ]
      },
      {
       "output_type": "stream",
       "stream": "stdout",
       "text": [
        " 291\n",
        "Fibre"
       ]
      },
      {
       "output_type": "stream",
       "stream": "stdout",
       "text": [
        " 292\n",
        "Fibre"
       ]
      },
      {
       "output_type": "stream",
       "stream": "stdout",
       "text": [
        " 293\n",
        "Fibre"
       ]
      },
      {
       "output_type": "stream",
       "stream": "stdout",
       "text": [
        " 294\n",
        "Fibre"
       ]
      },
      {
       "output_type": "stream",
       "stream": "stdout",
       "text": [
        " 295\n",
        "Fibre"
       ]
      },
      {
       "output_type": "stream",
       "stream": "stdout",
       "text": [
        " 296\n",
        "Fibre"
       ]
      },
      {
       "output_type": "stream",
       "stream": "stdout",
       "text": [
        " 297\n",
        "Fibre"
       ]
      },
      {
       "output_type": "stream",
       "stream": "stdout",
       "text": [
        " 298\n",
        "Fibre"
       ]
      },
      {
       "output_type": "stream",
       "stream": "stdout",
       "text": [
        " 299\n",
        "Fibre"
       ]
      },
      {
       "output_type": "stream",
       "stream": "stdout",
       "text": [
        " 300\n",
        "Fibre"
       ]
      },
      {
       "output_type": "stream",
       "stream": "stdout",
       "text": [
        " 301\n",
        "Fibre"
       ]
      },
      {
       "output_type": "stream",
       "stream": "stdout",
       "text": [
        " 302\n",
        "Fibre"
       ]
      },
      {
       "output_type": "stream",
       "stream": "stdout",
       "text": [
        " 303\n",
        "Fibre"
       ]
      },
      {
       "output_type": "stream",
       "stream": "stdout",
       "text": [
        " 304\n",
        "Fibre"
       ]
      },
      {
       "output_type": "stream",
       "stream": "stdout",
       "text": [
        " 305\n",
        "Fibre"
       ]
      },
      {
       "output_type": "stream",
       "stream": "stdout",
       "text": [
        " 306\n",
        "Fibre"
       ]
      },
      {
       "output_type": "stream",
       "stream": "stdout",
       "text": [
        " 307\n",
        "Fibre"
       ]
      },
      {
       "output_type": "stream",
       "stream": "stdout",
       "text": [
        " 308\n",
        "Fibre"
       ]
      },
      {
       "output_type": "stream",
       "stream": "stdout",
       "text": [
        " 309\n",
        "Fibre"
       ]
      },
      {
       "output_type": "stream",
       "stream": "stdout",
       "text": [
        " 310\n",
        "Fibre"
       ]
      },
      {
       "output_type": "stream",
       "stream": "stdout",
       "text": [
        " 311\n",
        "Fibre"
       ]
      },
      {
       "output_type": "stream",
       "stream": "stdout",
       "text": [
        " 312\n",
        "Fibre"
       ]
      },
      {
       "output_type": "stream",
       "stream": "stdout",
       "text": [
        " 313\n",
        "Fibre"
       ]
      },
      {
       "output_type": "stream",
       "stream": "stdout",
       "text": [
        " 314\n",
        "Fibre"
       ]
      },
      {
       "output_type": "stream",
       "stream": "stdout",
       "text": [
        " 315\n",
        "Fibre"
       ]
      },
      {
       "output_type": "stream",
       "stream": "stdout",
       "text": [
        " 316\n",
        "Fibre"
       ]
      },
      {
       "output_type": "stream",
       "stream": "stdout",
       "text": [
        " 317\n",
        "Fibre"
       ]
      },
      {
       "output_type": "stream",
       "stream": "stdout",
       "text": [
        " 318\n",
        "Fibre"
       ]
      },
      {
       "output_type": "stream",
       "stream": "stdout",
       "text": [
        " 319\n",
        "Fibre"
       ]
      },
      {
       "output_type": "stream",
       "stream": "stdout",
       "text": [
        " 320\n",
        "Fibre"
       ]
      },
      {
       "output_type": "stream",
       "stream": "stdout",
       "text": [
        " 321\n",
        "Fibre"
       ]
      },
      {
       "output_type": "stream",
       "stream": "stdout",
       "text": [
        " 322\n",
        "Fibre"
       ]
      },
      {
       "output_type": "stream",
       "stream": "stdout",
       "text": [
        " 323\n",
        "Fibre"
       ]
      },
      {
       "output_type": "stream",
       "stream": "stdout",
       "text": [
        " 324\n",
        "Fibre"
       ]
      },
      {
       "output_type": "stream",
       "stream": "stdout",
       "text": [
        " 325\n",
        "Fibre"
       ]
      },
      {
       "output_type": "stream",
       "stream": "stdout",
       "text": [
        " 326\n",
        "Fibre"
       ]
      },
      {
       "output_type": "stream",
       "stream": "stdout",
       "text": [
        " 327\n",
        "Fibre"
       ]
      },
      {
       "output_type": "stream",
       "stream": "stdout",
       "text": [
        " 328\n",
        "Fibre"
       ]
      },
      {
       "output_type": "stream",
       "stream": "stdout",
       "text": [
        " 329\n",
        "Fibre"
       ]
      },
      {
       "output_type": "stream",
       "stream": "stdout",
       "text": [
        " 330\n",
        "Fibre"
       ]
      },
      {
       "output_type": "stream",
       "stream": "stdout",
       "text": [
        " 331\n",
        "Fibre"
       ]
      },
      {
       "output_type": "stream",
       "stream": "stdout",
       "text": [
        " 332\n",
        "Fibre"
       ]
      },
      {
       "output_type": "stream",
       "stream": "stdout",
       "text": [
        " 333\n",
        "Fibre"
       ]
      },
      {
       "output_type": "stream",
       "stream": "stdout",
       "text": [
        " 334\n",
        "Fibre"
       ]
      },
      {
       "output_type": "stream",
       "stream": "stdout",
       "text": [
        " 335\n",
        "Fibre"
       ]
      },
      {
       "output_type": "stream",
       "stream": "stdout",
       "text": [
        " 336\n",
        "Fibre"
       ]
      },
      {
       "output_type": "stream",
       "stream": "stdout",
       "text": [
        " 337\n",
        "Fibre"
       ]
      },
      {
       "output_type": "stream",
       "stream": "stdout",
       "text": [
        " 338\n",
        "Fibre"
       ]
      },
      {
       "output_type": "stream",
       "stream": "stdout",
       "text": [
        " 339\n",
        "Fibre"
       ]
      },
      {
       "output_type": "stream",
       "stream": "stdout",
       "text": [
        " 340\n",
        "Fibre"
       ]
      },
      {
       "output_type": "stream",
       "stream": "stdout",
       "text": [
        " 341\n",
        "Fibre"
       ]
      },
      {
       "output_type": "stream",
       "stream": "stdout",
       "text": [
        " 342\n",
        "Fibre"
       ]
      },
      {
       "output_type": "stream",
       "stream": "stdout",
       "text": [
        " 343\n",
        "Fibre"
       ]
      },
      {
       "output_type": "stream",
       "stream": "stdout",
       "text": [
        " 344\n",
        "Fibre"
       ]
      },
      {
       "output_type": "stream",
       "stream": "stdout",
       "text": [
        " 345\n",
        "Fibre"
       ]
      },
      {
       "output_type": "stream",
       "stream": "stdout",
       "text": [
        " 346\n",
        "Fibre"
       ]
      },
      {
       "output_type": "stream",
       "stream": "stdout",
       "text": [
        " 347\n",
        "Fibre"
       ]
      },
      {
       "output_type": "stream",
       "stream": "stdout",
       "text": [
        " 348\n",
        "Fibre"
       ]
      },
      {
       "output_type": "stream",
       "stream": "stdout",
       "text": [
        " 349\n",
        "Fibre"
       ]
      },
      {
       "output_type": "stream",
       "stream": "stdout",
       "text": [
        " 350\n",
        "Fibre"
       ]
      },
      {
       "output_type": "stream",
       "stream": "stdout",
       "text": [
        " 351\n",
        "Fibre"
       ]
      },
      {
       "output_type": "stream",
       "stream": "stdout",
       "text": [
        " 352\n",
        "Fibre"
       ]
      },
      {
       "output_type": "stream",
       "stream": "stdout",
       "text": [
        " 353\n",
        "Fibre"
       ]
      },
      {
       "output_type": "stream",
       "stream": "stdout",
       "text": [
        " 354\n",
        "Fibre"
       ]
      },
      {
       "output_type": "stream",
       "stream": "stdout",
       "text": [
        " 355\n",
        "Fibre"
       ]
      },
      {
       "output_type": "stream",
       "stream": "stdout",
       "text": [
        " 356\n",
        "Fibre"
       ]
      },
      {
       "output_type": "stream",
       "stream": "stdout",
       "text": [
        " 357\n",
        "Fibre"
       ]
      },
      {
       "output_type": "stream",
       "stream": "stdout",
       "text": [
        " 358\n",
        "Fibre"
       ]
      },
      {
       "output_type": "stream",
       "stream": "stdout",
       "text": [
        " 359\n",
        "Fibre"
       ]
      },
      {
       "output_type": "stream",
       "stream": "stdout",
       "text": [
        " 360\n",
        "Fibre"
       ]
      },
      {
       "output_type": "stream",
       "stream": "stdout",
       "text": [
        " 361\n",
        "Fibre"
       ]
      },
      {
       "output_type": "stream",
       "stream": "stdout",
       "text": [
        " 362\n",
        "Fibre"
       ]
      },
      {
       "output_type": "stream",
       "stream": "stdout",
       "text": [
        " 363\n",
        "Fibre"
       ]
      },
      {
       "output_type": "stream",
       "stream": "stdout",
       "text": [
        " 364\n",
        "Fibre"
       ]
      },
      {
       "output_type": "stream",
       "stream": "stdout",
       "text": [
        " 365\n",
        "Fibre"
       ]
      },
      {
       "output_type": "stream",
       "stream": "stdout",
       "text": [
        " 366\n",
        "Fibre"
       ]
      },
      {
       "output_type": "stream",
       "stream": "stdout",
       "text": [
        " 367\n",
        "Fibre"
       ]
      },
      {
       "output_type": "stream",
       "stream": "stdout",
       "text": [
        " 368\n",
        "Fibre"
       ]
      },
      {
       "output_type": "stream",
       "stream": "stdout",
       "text": [
        " 369\n",
        "Fibre"
       ]
      },
      {
       "output_type": "stream",
       "stream": "stdout",
       "text": [
        " 370\n",
        "Fibre"
       ]
      },
      {
       "output_type": "stream",
       "stream": "stdout",
       "text": [
        " 371\n",
        "Fibre"
       ]
      },
      {
       "output_type": "stream",
       "stream": "stdout",
       "text": [
        " 372\n",
        "Fibre"
       ]
      },
      {
       "output_type": "stream",
       "stream": "stdout",
       "text": [
        " 373\n",
        "Fibre"
       ]
      },
      {
       "output_type": "stream",
       "stream": "stdout",
       "text": [
        " 374\n",
        "Fibre"
       ]
      },
      {
       "output_type": "stream",
       "stream": "stdout",
       "text": [
        " 375\n",
        "Fibre"
       ]
      },
      {
       "output_type": "stream",
       "stream": "stdout",
       "text": [
        " 376\n",
        "Fibre"
       ]
      },
      {
       "output_type": "stream",
       "stream": "stdout",
       "text": [
        " 377\n",
        "Fibre"
       ]
      },
      {
       "output_type": "stream",
       "stream": "stdout",
       "text": [
        " 378\n",
        "Fibre"
       ]
      },
      {
       "output_type": "stream",
       "stream": "stdout",
       "text": [
        " 379\n",
        "Fibre"
       ]
      },
      {
       "output_type": "stream",
       "stream": "stdout",
       "text": [
        " 380\n",
        "Fibre"
       ]
      },
      {
       "output_type": "stream",
       "stream": "stdout",
       "text": [
        " 381\n",
        "Fibre"
       ]
      },
      {
       "output_type": "stream",
       "stream": "stdout",
       "text": [
        " 382\n",
        "Fibre"
       ]
      },
      {
       "output_type": "stream",
       "stream": "stdout",
       "text": [
        " 383\n",
        "Fibre"
       ]
      },
      {
       "output_type": "stream",
       "stream": "stdout",
       "text": [
        " 384\n",
        "Fibre"
       ]
      },
      {
       "output_type": "stream",
       "stream": "stdout",
       "text": [
        " 385\n",
        "Fibre"
       ]
      },
      {
       "output_type": "stream",
       "stream": "stdout",
       "text": [
        " 386\n"
       ]
      }
     ],
     "prompt_number": 355
    },
    {
     "cell_type": "code",
     "collapsed": false,
     "input": [
      "import scipy.constants as const\n",
      "\n",
      "wlErrorsRVs = wlErrors/np.tile(adjLineList[:,1],[wlErrors.shape[0],1])*const.c\n",
      "\n",
      "stdRVs = np.std(wlErrorsRVs,axis = 1)\n",
      "# stdRVs2 = np.std(wlErrorsRVs_General_distrib,axis = 1)\n",
      "\n",
      "plt.plot(stdRVs, '.')\n",
      "# plt.plot(stdRVs2, '.')\n",
      "plt.grid()\n",
      "plt.show()\n",
      "#237 !!!!\n"
     ],
     "language": "python",
     "metadata": {},
     "outputs": [],
     "prompt_number": 278
    },
    {
     "cell_type": "code",
     "collapsed": false,
     "input": [
      "plt.plot(wlSolutions[237],extracted_arc[237])\n",
      "# plt.plot(wlSolutions[20],extracted_arc[20])\n",
      "plt.show()"
     ],
     "language": "python",
     "metadata": {},
     "outputs": []
    },
    {
     "cell_type": "code",
     "collapsed": false,
     "input": [
      "thisArray = extracted_arc[237].copy()\n",
      "thisArray[thisArray<20]=0\n",
      "thisPeaks = find_peaks_cwt(thisArray, np.arange(1,2))\n",
      "print len(thisPeaks)"
     ],
     "language": "python",
     "metadata": {},
     "outputs": []
    },
    {
     "cell_type": "code",
     "collapsed": false,
     "input": [
      "plt.scatter(thisPeaks,extracted_arc[237][thisPeaks])\n",
      "plt.plot(extracted_arc[237])\n",
      "plt.show()"
     ],
     "language": "python",
     "metadata": {},
     "outputs": []
    },
    {
     "cell_type": "code",
     "collapsed": false,
     "input": [
      "#extend line list to all bumps\n",
      "\n",
      "masterArc = extracted_arc[237]\n",
      "bigLineList = []\n",
      "for i, thisPeak in enumerate(thisPeaks):\n",
      "#         print 'Searching for wl',thisLineWl[1],'in px',thisLineWl[0],\n",
      "\n",
      "    firstSliceX = np.arange(thisPeak-5,thisPeak+6).astype(int)\n",
      "    firstSliceY = masterArc[firstSliceX]\n",
      "    maxIdx =  firstSliceX[np.where(firstSliceY==np.max(firstSliceY))[0][0]]\n",
      "\n",
      "    secondSliceX = np.arange(maxIdx-5,maxIdx+6).astype(int)\n",
      "    secondSliceY = masterArc[secondSliceX]      \n",
      "\n",
      "#         p,_ = fit_gaussian([maxIdx,1.], secondSliceY, secondSliceX )\n",
      "    p,_ = fit_flexi_gaussian([maxIdx,1., 2., np.max(secondSliceY), 0], secondSliceY, secondSliceX )\n",
      "\n",
      "#         print 'Found',p\n",
      "    goodPxValue = p[0]\n",
      "\n",
      "#     adjLineList[i,0] = goodPxValue\n",
      "\n",
      "#         x_dense = np.linspace(np.min(secondSliceX),np.max(secondSliceX))\n",
      "#         plt.plot(secondSliceX,secondSliceY)\n",
      "#         plt.plot(x_dense,flexi_gaussian(x_dense,p[0],p[1],p[2],p[3],p[4]))\n",
      "#         plt.title(goodPxValue)\n",
      "#         plt.show()\n",
      "\n",
      "#     print adjLineList\n",
      "\n",
      "# a = np.polyfit(adjLineList[:,0], adjLineList[:,1], 5)\n",
      "    x = fithOrder(wlPolys[237], goodPxValue)\n",
      "# err = fithOrder(a, adjLineList[:,0]) - adjLineList[:,1]\n",
      "\n",
      "    bigLineList.append((goodPxValue,x))\n",
      "# wlErrors.append(err)\n",
      "# wlSolutions.append(x)\n",
      "\n",
      "bigLineList = np.array(bigLineList)\n",
      "# wlPolys = np.array(wlPolys)\n",
      "# wlErrors = np.array(wlErrors)\n",
      "# wlSolutions = np.array(wlSolutions)\n",
      "#         plt.plot(x_dense,gaussian(x_dense,p[0],p[1]))\n",
      "#         plt.plot(firstSliceX,firstSliceY/np.max(firstSliceY))\n",
      "#         plt.title(maxIdx)\n",
      "# #         plt.plot(masterArc[thisLineWl[0]-5:thisLineWl[0]+5])\n",
      "#         plt.show()\n"
     ],
     "language": "python",
     "metadata": {},
     "outputs": []
    },
    {
     "cell_type": "code",
     "collapsed": false,
     "input": [
      "plt.plot(range(wlSolutions[237].shape[0]), wlSolutions[237])\n",
      "plt.scatter(bigLineList[:,0], bigLineList[:,1])\n",
      "plt.show()"
     ],
     "language": "python",
     "metadata": {},
     "outputs": []
    },
    {
     "cell_type": "code",
     "collapsed": false,
     "input": [
      "plt.plot(wlSolutions[40], extracted_arc[40])\n",
      "plt.scatter(bigLineList[:,1],np.ones(110)*20)\n",
      "plt.show()"
     ],
     "language": "python",
     "metadata": {},
     "outputs": [],
     "prompt_number": 168
    },
    {
     "cell_type": "code",
     "collapsed": false,
     "input": [
      "np.savetxt('bigLineList.txt',bigLineList)\n"
     ],
     "language": "python",
     "metadata": {},
     "outputs": [],
     "prompt_number": 247
    },
    {
     "cell_type": "code",
     "collapsed": false,
     "input": [
      "# _,ind = np.unique(bigLineList[:,1], return_index=True)\n",
      "# bigLineList =  bigLineList[ind]\n",
      "# print bigLineList"
     ],
     "language": "python",
     "metadata": {},
     "outputs": [
      {
       "output_type": "stream",
       "stream": "stdout",
       "text": [
        "[[   28.23434534  4715.17966512]\n",
        " [  131.32807708  4720.97392104]\n",
        " [  139.99028209  4721.45864704]\n",
        " [  152.80316031  4722.17502645]\n",
        " [  176.88728971  4723.51960082]\n",
        " [  178.48700831  4723.60881781]\n",
        " [  262.67588804  4728.28760755]\n",
        " [  278.68489432  4729.17361003]\n",
        " [  292.2892508   4729.92559001]\n",
        " [  314.38271449  4731.14495604]\n",
        " [  340.52750877  4732.58494586]\n",
        " [  369.6425329   4734.18470667]\n",
        " [  470.51903855  4739.69591091]\n",
        " [  486.19602496  4740.54794122]\n",
        " [  493.8278705   4740.96228751]\n",
        " [  515.89961069  4742.1589824 ]\n",
        " [  544.53196614  4743.70778427]\n",
        " [  569.7617685   4745.06914616]\n",
        " [  613.70131137  4747.43243428]\n",
        " [  641.5083855   4748.92300341]\n",
        " [  643.67308801  4749.03887559]\n",
        " [  660.84993082  4749.95747317]\n",
        " [  706.99651408  4752.41788554]\n",
        " [  766.09760158  4755.5530301 ]\n",
        " [  773.40768179  4755.93955591]\n",
        " [  815.07815593  4758.13761774]\n",
        " [  871.74408092  4761.11214867]\n",
        " [  886.32597315  4761.87486766]\n",
        " [  933.56225473  4764.33792615]\n",
        " [  958.33088614  4765.62474256]\n",
        " [  960.96623332  4765.76146708]\n",
        " [  977.10727737  4766.5980787 ]\n",
        " [ 1024.50765533  4769.04691397]\n",
        " [ 1105.71164826  4773.21432807]\n",
        " [ 1144.53064436  4775.19407299]\n",
        " [ 1150.99355487  4775.52289278]\n",
        " [ 1205.61141166  4778.29277664]\n",
        " [ 1222.70991089  4779.15660935]\n",
        " [ 1230.67037224  4779.55824223]\n",
        " [ 1242.26739088  4780.14274078]\n",
        " [ 1261.49628802  4781.1102934 ]\n",
        " [ 1369.75775852  4786.52046964]\n",
        " [ 1382.78287679  4787.16710291]\n",
        " [ 1394.85630476  4787.76566859]\n",
        " [ 1427.731808    4789.39153649]\n",
        " [ 1493.0207728   4792.60304179]\n",
        " [ 1505.88866601  4793.23327306]\n",
        " [ 1531.66207997  4794.49287523]\n",
        " [ 1560.81866069  4795.91347213]\n",
        " [ 1570.11244057  4796.36532298]\n",
        " [ 1630.61412271  4799.29536581]\n",
        " [ 1648.4031109   4800.15308909]\n",
        " [ 1792.20855974  4807.02381376]\n",
        " [ 1815.69583738  4808.13532823]\n",
        " [ 1847.08556181  4809.61615036]\n",
        " [ 1906.3377252   4812.39684707]\n",
        " [ 1937.13424657  4813.83461867]\n",
        " [ 2006.46737274  4817.05274902]\n",
        " [ 2026.76623866  4817.99001648]\n",
        " [ 2041.41193896  4818.66487696]\n",
        " [ 2132.94503086  4822.85643697]\n",
        " [ 2141.54422336  4823.24789931]\n",
        " [ 2149.270197    4823.5992706 ]\n",
        " [ 2158.02020633  4823.99682639]\n",
        " [ 2217.54136268  4826.69023927]\n",
        " [ 2284.62851137  4829.70321466]\n",
        " [ 2316.26853246  4831.11583403]\n",
        " [ 2327.09007303  4831.59774787]\n",
        " [ 2354.05964272  4832.79604983]\n",
        " [ 2473.14405506  4838.04064378]\n",
        " [ 2537.32206863  4840.83569282]\n",
        " [ 2594.08150947  4843.28934329]\n",
        " [ 2618.23443301  4844.32823955]\n",
        " [ 2712.50680414  4848.35346114]\n",
        " [ 2730.13308261  4849.1008112 ]\n",
        " [ 2747.46445797  4849.834044  ]\n",
        " [ 2761.58245804  4850.43014717]\n",
        " [ 2819.49078084  4852.86409694]\n",
        " [ 2840.69395695  4853.75082107]\n",
        " [ 2951.01785759  4858.32592182]\n",
        " [ 3021.49536212  4861.21459053]\n",
        " [ 3049.81110191  4862.36768975]\n",
        " [ 3069.43280435  4863.16422369]\n",
        " [ 3126.66425041  4865.47571285]\n",
        " [ 3212.24317753  4868.89925461]\n",
        " [ 3226.72087795  4869.474522  ]\n",
        " [ 3314.02333453  4872.91940685]\n",
        " [ 3351.14740865  4874.37174572]\n",
        " [ 3405.78128836  4876.49540522]\n",
        " [ 3444.69047525  4877.99785897]\n",
        " [ 3463.87826203  4878.73571668]\n",
        " [ 3590.07396085  4883.5377    ]\n",
        " [ 3604.28095426  4884.07274247]\n",
        " [ 3690.56795645  4887.29793848]\n",
        " [ 3763.78916089  4890.00159773]\n",
        " [ 3766.24173955  4890.09162647]\n",
        " [ 3900.16772362  4894.95480093]]\n"
       ]
      }
     ],
     "prompt_number": 246
    },
    {
     "cell_type": "code",
     "collapsed": false,
     "input": [
      "#find differences to other fibres\n",
      "\n",
      "# bigLineList = np.loadtxt('bigLineList.txt')\n",
      "bigLineList = reducedbigLineList\n",
      "# lineLocations = np.ones((extracted_arc.shape[0],bigLineList.shape[0]))*np.nan\n",
      "lineLocations = np.ones(bigLineList.shape[0])*np.nan\n",
      "\n",
      "for thisFibre in range(extracted_arc.shape[0])[170:171]:\n",
      "    print 'Fibre',thisFibre,\n",
      "\n",
      "    halfCCRange = 15\n",
      "\n",
      "    thisArc = extracted_arc[thisFibre].copy()\n",
      "    thisObj = extracted_obj[thisFibre].copy()\n",
      "    thisWlSolution = wlSolutions[thisFibre].copy()\n",
      "    \n",
      "\n",
      "    for i, thisWl in enumerate(bigLineList):\n",
      "#         print 'Searching for wl',thisWl\n",
      "        diffArray = np.abs(thisWlSolution-thisWl)\n",
      "#         print thisWl, thisWlSolution, diffArray \n",
      "        wlPx = np.where(diffArray==np.min(diffArray))[0][0]\n",
      "#         print wlPx, thisWlSolution[wlPx-1:wlPx+1]\n",
      "\n",
      "        thisSlice = np.arange(wlPx-6,wlPx+7).astype(int)\n",
      "\n",
      "        firstSliceX = thisWlSolution[thisSlice]\n",
      "        firstSliceY = thisArc[thisSlice]\n",
      "        maxIdx =  thisSlice[np.where(firstSliceY==np.max(firstSliceY))[0][0]]\n",
      "#         print maxIdx\n",
      "        \n",
      "#         plt.plot(firstSliceX,firstSliceY)\n",
      "#         plt.show()\n",
      "\n",
      "        \n",
      "        thisSecondSlice = np.arange(maxIdx-5,maxIdx+6).astype(int)\n",
      "        secondSliceX = thisWlSolution[thisSecondSlice]\n",
      "        secondSliceY = thisArc[thisSecondSlice]      \n",
      "    \n",
      "# #         p,_ = fit_gaussian([maxIdx,1.], secondSliceY, secondSliceX )\n",
      "        p,_ = fit_flexi_gaussian([thisWlSolution[maxIdx],.2, 2.8, np.max(secondSliceY), 0], secondSliceY, secondSliceX )\n",
      "        \n",
      "#         print 'Found',p[0]\n",
      "        goodWlValue = p[0]\n",
      "        \n",
      "#         lineLocations[thisFibre,i] = goodWlValue\n",
      "        lineLocations[i] = goodWlValue\n",
      "\n",
      "#         adjLineList[i,0] = goodPxValue\n",
      "        \n",
      "#         x_dense = np.linspace(np.min(secondSliceX),np.max(secondSliceX))\n",
      "#         plt.plot(secondSliceX,secondSliceY)\n",
      "#         plt.plot(x_dense,flexi_gaussian(x_dense,p[0],p[1],p[2],p[3],p[4]))\n",
      "# # #         plt.title(goodPxValue)\n",
      "#         plt.show()\n",
      "\n",
      "# #     print adjLineList\n",
      "    \n",
      "#     a = np.polyfit(adjLineList[:,0], adjLineList[:,1], 5)\n",
      "#     x = fithOrder(a, np.arange(4095))\n",
      "#     err = fithOrder(a, adjLineList[:,0]) - adjLineList[:,1]\n",
      "\n",
      "#     wlPolys.append(a)\n",
      "#     wlErrors.append(err)\n",
      "#     wlSolutions.append(x)\n",
      "    \n",
      "# wlPolys = np.array(wlPolys)\n",
      "# wlErrors = np.array(wlErrors)\n",
      "# wlSolutions = np.array(wlSolutions)\n",
      "# #         plt.plot(x_dense,gaussian(x_dense,p[0],p[1]))\n",
      "# #         plt.plot(firstSliceX,firstSliceY/np.max(firstSliceY))\n",
      "# #         plt.title(maxIdx)\n",
      "# # #         plt.plot(masterArc[thisLineWl[0]-5:thisLineWl[0]+5])\n",
      "# #         plt.show()\n"
     ],
     "language": "python",
     "metadata": {},
     "outputs": [
      {
       "output_type": "stream",
       "stream": "stdout",
       "text": [
        " Fibre 170\n"
       ]
      }
     ],
     "prompt_number": 359
    },
    {
     "cell_type": "code",
     "collapsed": false,
     "input": [
      "# means = np.mean(lineLocations,axis=0)\n",
      "# offsets = lineLocations - np.tile(bigLineList[:,1],[388,1])\n",
      "offsets = lineLocations - bigLineList\n",
      "\n",
      "lineLocations.shape, offsets.shape"
     ],
     "language": "python",
     "metadata": {},
     "outputs": [
      {
       "metadata": {},
       "output_type": "pyout",
       "prompt_number": 360,
       "text": [
        "((71,), (71,))"
       ]
      }
     ],
     "prompt_number": 360
    },
    {
     "cell_type": "code",
     "collapsed": false,
     "input": [
      "plt.plot(bigLineList,offsets.transpose(),'.')\n",
      "# plt.plot(np.arange(bigLineList[:,1].shape[0])[filter_all],offsets.transpose()[filter_all],'.')\n",
      "# plt.plot(bigLineList[:,1],offsets.transpose(),'.')\n",
      "# plt.plot(offsets.transpose(),'.')\n",
      "# plt.plot(bigLineList[:,1],std, color ='r')\n",
      "plt.grid()\n",
      "plt.show()"
     ],
     "language": "python",
     "metadata": {},
     "outputs": [],
     "prompt_number": 362
    },
    {
     "cell_type": "code",
     "collapsed": false,
     "input": [
      "np"
     ],
     "language": "python",
     "metadata": {},
     "outputs": []
    },
    {
     "cell_type": "code",
     "collapsed": false,
     "input": [
      "std = np.nanstd(offsets, axis =0)"
     ],
     "language": "python",
     "metadata": {},
     "outputs": [],
     "prompt_number": 264
    },
    {
     "cell_type": "code",
     "collapsed": false,
     "input": [
      "plt.plot(std,'.')\n",
      "plt.show()"
     ],
     "language": "python",
     "metadata": {},
     "outputs": [],
     "prompt_number": 254
    },
    {
     "cell_type": "code",
     "collapsed": false,
     "input": [
      "filter1 = np.abs(np.nanmedian(offsets,axis=0))<0.06\n",
      "np.sum(filter1)"
     ],
     "language": "python",
     "metadata": {},
     "outputs": [
      {
       "metadata": {},
       "output_type": "pyout",
       "prompt_number": 288,
       "text": [
        "85"
       ]
      }
     ],
     "prompt_number": 288
    },
    {
     "cell_type": "code",
     "collapsed": false,
     "input": [
      "np.sum(np.abs(offsets)<0.6,axis=0)"
     ],
     "language": "python",
     "metadata": {},
     "outputs": [
      {
       "metadata": {},
       "output_type": "pyout",
       "prompt_number": 252,
       "text": [
        "array([388, 388, 387, 385, 386, 385, 388, 387, 383, 384, 387, 383, 387,\n",
        "       388, 384, 384, 386, 383, 383, 386, 387, 383, 387, 384, 386, 387,\n",
        "       385, 385, 387, 384, 383, 388, 387, 388, 388, 388, 387, 387, 386,\n",
        "       386, 388, 385, 386, 387, 387, 387, 385, 387, 379, 387, 388, 385,\n",
        "       388, 388, 388, 387, 388, 387, 388, 384, 384, 387, 385, 381, 388,\n",
        "       385, 388, 387, 387, 387, 387, 385, 387, 387, 386, 386, 387, 387,\n",
        "       388, 384, 387, 386, 386, 388, 384, 388, 386, 387, 388, 386, 388,\n",
        "       387, 384, 387, 384, 383, 378])"
       ]
      }
     ],
     "prompt_number": 252
    },
    {
     "cell_type": "code",
     "collapsed": false,
     "input": [
      "offsets[np.abs(offsets)>0.6]=np.nan"
     ],
     "language": "python",
     "metadata": {},
     "outputs": [],
     "prompt_number": 263
    },
    {
     "cell_type": "code",
     "collapsed": false,
     "input": [
      "filter2 = std<.12"
     ],
     "language": "python",
     "metadata": {},
     "outputs": [],
     "prompt_number": 289
    },
    {
     "cell_type": "code",
     "collapsed": false,
     "input": [
      "filter_all = filter1 & filter2 &filter3"
     ],
     "language": "python",
     "metadata": {},
     "outputs": [],
     "prompt_number": 307
    },
    {
     "cell_type": "code",
     "collapsed": false,
     "input": [
      "filter1"
     ],
     "language": "python",
     "metadata": {},
     "outputs": [
      {
       "metadata": {},
       "output_type": "pyout",
       "prompt_number": 292,
       "text": [
        "array([ True,  True,  True,  True,  True, False,  True,  True, False,\n",
        "        True,  True,  True,  True,  True, False,  True,  True, False,\n",
        "        True,  True, False,  True,  True, False,  True,  True,  True,\n",
        "        True,  True,  True, False,  True,  True,  True,  True, False,\n",
        "        True,  True, False,  True,  True,  True,  True,  True,  True,\n",
        "        True,  True,  True,  True,  True,  True,  True,  True,  True,\n",
        "        True,  True,  True,  True,  True,  True, False,  True, False,\n",
        "        True,  True,  True,  True,  True,  True,  True,  True,  True,\n",
        "        True,  True,  True,  True,  True,  True,  True,  True,  True,\n",
        "        True,  True,  True,  True,  True,  True,  True,  True,  True,\n",
        "        True,  True,  True,  True, False,  True,  True], dtype=bool)"
       ]
      }
     ],
     "prompt_number": 292
    },
    {
     "cell_type": "code",
     "collapsed": false,
     "input": [
      "bad = np.array([19 ,29, 46, 51, 55, 59, 69, 74, 75, 79, 85])"
     ],
     "language": "python",
     "metadata": {},
     "outputs": [],
     "prompt_number": 305
    },
    {
     "cell_type": "code",
     "collapsed": false,
     "input": [
      "filter3 = np.ones(filter1.shape).astype(bool)\n",
      "filter3[bad] = False"
     ],
     "language": "python",
     "metadata": {},
     "outputs": [],
     "prompt_number": 306
    },
    {
     "cell_type": "code",
     "collapsed": false,
     "input": [
      "np.savetxt('reducedbigLineList.txt',bigLineList[:,1][filter_all])"
     ],
     "language": "python",
     "metadata": {},
     "outputs": [],
     "prompt_number": 310
    },
    {
     "cell_type": "code",
     "collapsed": false,
     "input": [
      "reducedbigLineList = bigLineList[:,1][filter_all]"
     ],
     "language": "python",
     "metadata": {},
     "outputs": [],
     "prompt_number": 356
    },
    {
     "cell_type": "code",
     "collapsed": false,
     "input": [
      "reducedbigLineList"
     ],
     "language": "python",
     "metadata": {},
     "outputs": [
      {
       "metadata": {},
       "output_type": "pyout",
       "prompt_number": 357,
       "text": [
        "array([ 4715.17966512,  4720.97392104,  4721.45864704,  4722.17502645,\n",
        "        4723.51960082,  4728.28760755,  4729.17361003,  4731.14495604,\n",
        "        4732.58494586,  4734.18470667,  4739.69591091,  4740.54794122,\n",
        "        4742.1589824 ,  4743.70778427,  4747.43243428,  4749.95747317,\n",
        "        4752.41788554,  4755.93955591,  4758.13761774,  4761.11214867,\n",
        "        4761.87486766,  4764.33792615,  4766.5980787 ,  4769.04691397,\n",
        "        4773.21432807,  4775.19407299,  4778.29277664,  4779.15660935,\n",
        "        4781.1102934 ,  4786.52046964,  4787.16710291,  4787.76566859,\n",
        "        4789.39153649,  4792.60304179,  4794.49287523,  4796.36532298,\n",
        "        4799.29536581,  4807.02381376,  4808.13532823,  4809.61615036,\n",
        "        4813.83461867,  4817.05274902,  4817.99001648,  4823.24789931,\n",
        "        4826.69023927,  4829.70321466,  4831.11583403,  4831.59774787,\n",
        "        4832.79604983,  4840.83569282,  4843.28934329,  4844.32823955,\n",
        "        4848.35346114,  4850.43014717,  4852.86409694,  4853.75082107,\n",
        "        4861.21459053,  4862.36768975,  4863.16422369,  4865.47571285,\n",
        "        4868.89925461,  4872.91940685,  4874.37174572,  4876.49540522,\n",
        "        4877.99785897,  4878.73571668,  4883.5377    ,  4884.07274247,\n",
        "        4887.29793848,  4890.09162647,  4894.95480093])"
       ]
      }
     ],
     "prompt_number": 357
    },
    {
     "cell_type": "code",
     "collapsed": false,
     "input": [
      "plt.plot(wlSolutions[170], extracted_obj[170])\n",
      "plt.show()\n"
     ],
     "language": "python",
     "metadata": {},
     "outputs": [],
     "prompt_number": 363
    },
    {
     "cell_type": "code",
     "collapsed": false,
     "input": [
      "# np.savetxt('HD1581_1.txt',np.vstack((wlSolutions[170], extracted_obj[170])).transpose())\n",
      "# np.savetxt('ThXe_1.txt',np.vstack((wlSolutions[170], extracted_arc[170])).transpose())"
     ],
     "language": "python",
     "metadata": {},
     "outputs": [],
     "prompt_number": 365
    },
    {
     "cell_type": "code",
     "collapsed": false,
     "input": [
      "# np.savetxt('HD1581_0.txt',np.vstack((wlSolutions[170], extracted_obj[170])).transpose())\n",
      "np.savetxt('ThXe_0.txt',np.vstack((wlSolutions[170], extracted_arc[170])).transpose())"
     ],
     "language": "python",
     "metadata": {},
     "outputs": [],
     "prompt_number": 383
    },
    {
     "cell_type": "code",
     "collapsed": false,
     "input": [],
     "language": "python",
     "metadata": {},
     "outputs": []
    }
   ],
   "metadata": {}
  }
 ]
}