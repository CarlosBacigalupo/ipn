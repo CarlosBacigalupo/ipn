{
 "metadata": {
  "name": "",
  "signature": "sha256:e8966029e0ebf1562b0f3299f2232824cd48afcaac0377bf26f1e3e89bb8ff8b"
 },
 "nbformat": 3,
 "nbformat_minor": 0,
 "worksheets": [
  {
   "cells": [
    {
     "cell_type": "code",
     "collapsed": false,
     "input": [
      "def extract_HERMES_wavelength(header):\n",
      "    \n",
      "    CRVAL1 = header['CRVAL1'] # / Co-ordinate value of axis 1                    \n",
      "    CDELT1 = header['CDELT1'] #  / Co-ordinate increment along axis 1             \n",
      "    CRPIX1 = header['CRPIX1'] #  / Reference pixel along axis 1                   \n",
      "    \n",
      "    print CRVAL1,CDELT1, CRPIX1\n",
      "    \n",
      "    #Creates an array of offset wavelength from the referece px/wavelength\n",
      "    Lambda = CRVAL1 - (CRPIX1 - (np.arange(int(CRPIX1)*2)) -1)* CDELT1\n",
      "\n",
      "    return Lambda\n"
     ],
     "language": "python",
     "metadata": {},
     "outputs": [],
     "prompt_number": 11
    },
    {
     "cell_type": "code",
     "collapsed": false,
     "input": [
      "CRVAL1 = 4714.9999999\n",
      "CDELTA1 = .045177\n",
      "CRPIX1 = 1.\n",
      "data_len = 4096"
     ],
     "language": "python",
     "metadata": {},
     "outputs": [],
     "prompt_number": 36
    },
    {
     "cell_type": "code",
     "collapsed": false,
     "input": [
      "wl = np.arange(data_len)*CDELTA1+CRVAL1"
     ],
     "language": "python",
     "metadata": {},
     "outputs": [],
     "prompt_number": 40
    },
    {
     "cell_type": "code",
     "collapsed": false,
     "input": [
      "wl"
     ],
     "language": "python",
     "metadata": {},
     "outputs": [
      {
       "metadata": {},
       "output_type": "pyout",
       "prompt_number": 41,
       "text": [
        "array([ 4714.9999999,  4715.0451769,  4715.0903539, ...,  4899.9094609,\n",
        "        4899.9546379,  4899.9998149])"
       ]
      }
     ],
     "prompt_number": 41
    },
    {
     "cell_type": "code",
     "collapsed": false,
     "input": [
      "myfile = pf.open('21aug10036red.fits')"
     ],
     "language": "python",
     "metadata": {},
     "outputs": [],
     "prompt_number": 27
    },
    {
     "cell_type": "code",
     "collapsed": false,
     "input": [
      "extract_HERMES_wavelength(myfile[0].header)"
     ],
     "language": "python",
     "metadata": {},
     "outputs": [
      {
       "output_type": "stream",
       "stream": "stdout",
       "text": [
        "4812.19970703 0.0453204889728 2048.0\n"
       ]
      },
      {
       "metadata": {},
       "output_type": "pyout",
       "prompt_number": 30,
       "text": [
        "array([ 4719.4286661 ,  4719.47398659,  4719.51930708, ...,  4904.92542747,\n",
        "        4904.97074796,  4905.01606845])"
       ]
      }
     ],
     "prompt_number": 30
    },
    {
     "cell_type": "code",
     "collapsed": false,
     "input": [
      "myfile[0].header.items()"
     ],
     "language": "python",
     "metadata": {},
     "outputs": [
      {
       "metadata": {},
       "output_type": "pyout",
       "prompt_number": 26,
       "text": [
        "[('SIMPLE', True),\n",
        " ('BITPIX', -32),\n",
        " ('NAXIS', 2),\n",
        " ('NAXIS1', 4146),\n",
        " ('NAXIS2', 4112),\n",
        " ('EXTEND', True),\n",
        " ('COMMENT',\n",
        "  \"  FITS (Flexible Image Transport System) format is defined in 'Astronomy\"),\n",
        " ('COMMENT',\n",
        "  \"  FITS (Flexible Image Transport System) format is defined in 'Astronomy\"),\n",
        " ('LONGSTRN', 'OGIP 1.0'),\n",
        " ('COMMENT',\n",
        "  \"  FITS (Flexible Image Transport System) format is defined in 'Astronomy\"),\n",
        " ('COMMENT',\n",
        "  \"  FITS (Flexible Image Transport System) format is defined in 'Astronomy\"),\n",
        " ('COMMENT',\n",
        "  \"  FITS (Flexible Image Transport System) format is defined in 'Astronomy\"),\n",
        " ('COMMENT',\n",
        "  \"  FITS (Flexible Image Transport System) format is defined in 'Astronomy\"),\n",
        " ('DCT_DATE', 'Oct  9 2013'),\n",
        " ('DCT_VER', 'r3_138'),\n",
        " ('DETECXE', 4096),\n",
        " ('DETECXS', 1),\n",
        " ('DETECYE', 4112),\n",
        " ('DETECYS', 1),\n",
        " ('FIRMVSYS', 'System: AAO2 CCD Controller System Controller V1.28 130312'),\n",
        " ('FIRMVSEQ', 'Sequencer: AAO2 CCD Controller Sequencer V1.3 110321'),\n",
        " ('DETECTOR', 'E2V5-B'),\n",
        " ('XPIXSIZE', 15.0),\n",
        " ('YPIXSIZE', 15.0),\n",
        " ('CONFIGID', 13),\n",
        " ('DETECTID', 13),\n",
        " ('ABCKPLID', 6),\n",
        " ('VIDPBID', 7),\n",
        " ('CLKPBID', 21),\n",
        " ('BRDID_1', 65537),\n",
        " ('BRDSN_1', 18),\n",
        " ('BRDID_2', 327681),\n",
        " ('BRDSN_2', 19),\n",
        " ('BRDID_3', 131074),\n",
        " ('BRDSN_3', 89),\n",
        " ('BRDID_4', 131074),\n",
        " ('BRDSN_4', 119),\n",
        " ('BRDID_5', 131074),\n",
        " ('BRDSN_5', 109),\n",
        " ('BRDID_6', 131074),\n",
        " ('BRDSN_6', 110),\n",
        " ('BRDID_7', 196610),\n",
        " ('BRDSN_7', 98),\n",
        " ('BRDID_8', 262146),\n",
        " ('BRDSN_8', 78),\n",
        " ('BRDID_9', 458754),\n",
        " ('BRDSN_9', 102),\n",
        " ('BRDID_10', 393217),\n",
        " ('BRDSN_10', 129),\n",
        " ('METHOD', 'Normal ccd control method'),\n",
        " ('SPEED', 'FAST'),\n",
        " ('READAMP', 'LEFT_TWO'),\n",
        " ('EXPOSED', 1800.0),\n",
        " ('ELAPSED', 1800.6),\n",
        " ('TOTALEXP', 3600.6),\n",
        " ('RO_GAIN', 2.7),\n",
        " ('RO_NOISE', 4.0),\n",
        " ('DETTEMP', 167.7141),\n",
        " ('HTRVOLTS', 9.909267),\n",
        " ('SPECTID', 'BL'),\n",
        " ('SFILT1', ' '),\n",
        " ('SFILT2', ' '),\n",
        " ('ORIGIN', 'AAO'),\n",
        " ('TELESCOP', 'Anglo-Australian Telescope'),\n",
        " ('ALT_OBS', 1164),\n",
        " ('LAT_OBS', -31.27704),\n",
        " ('LONG_OBS', 149.0661),\n",
        " ('RCT_VER', 'r3_71HB'),\n",
        " ('RCT_DATE', '19-Oct-2013'),\n",
        " ('OBJECT', 'HD285507 #227 (Pivot 223)'),\n",
        " ('RUNCMD', 'RUN'),\n",
        " ('RADECSYS', 'FK5'),\n",
        " ('EQUINOX', 2000.0),\n",
        " ('INSTRUME', 'HERMES-2dF'),\n",
        " ('TDFCTVER', 'r11_27'),\n",
        " ('TDFCTDAT', '10-Jun-2014'),\n",
        " ('AAOMOSFT', 1),\n",
        " ('NDFCLASS', 'MFOBJECT'),\n",
        " ('CFG_FILE', 'HD285507_p1.sds'),\n",
        " ('PARKMASK', False),\n",
        " ('TDFCTEVT', '26'),\n",
        " ('DUMMY', 0),\n",
        " ('HARTMANA', 'Open'),\n",
        " ('HARTMANB', 'Open'),\n",
        " ('DCHROIC1', 'GA Blue'),\n",
        " ('DCHROIC2', 'GA Green'),\n",
        " ('DCHROIC3', 'GA Red'),\n",
        " ('ELECTEMP', 18.7),\n",
        " ('SPEC1TMP', 19.2),\n",
        " ('SPEC2TMP', 19.2),\n",
        " ('FRM1TEMP', 17.4),\n",
        " ('FRM2TEMP', 17.8),\n",
        " ('SLITTEMP', 18.4),\n",
        " ('SLITMASK', 'OUT'),\n",
        " ('HPOSCONF', 'YES'),\n",
        " ('SLITDITH', 'OFF'),\n",
        " ('SOURCE', 'Plate 1'),\n",
        " ('FLAPS', 'OPEN'),\n",
        " ('RUN', 38),\n",
        " ('OBSNUM', 38),\n",
        " ('GRPNUM', 38),\n",
        " ('GRPMEM', 1),\n",
        " ('GRPMAX', 0),\n",
        " ('OBSTYPE', 'OBJECT'),\n",
        " ('UTDATE', '2014:08:21'),\n",
        " ('EPOCH', 2014.63719227351),\n",
        " ('UTSTART', '17:37:39'),\n",
        " ('UTEND', '18:07:40'),\n",
        " ('STSTART', '01:33:46'),\n",
        " ('STEND', '02:03:52'),\n",
        " ('UTMJD', 56890.7344779004),\n",
        " ('TOPEND', '2DF'),\n",
        " ('AXIS', 'B'),\n",
        " ('AXIS_X', -2.14287647050415e-05),\n",
        " ('AXIS_Y', -0.000104331904174772),\n",
        " ('TRACKING', 'TRACKING'),\n",
        " ('TELFOC', 40.14),\n",
        " ('MEANRA', 61.7568191540333),\n",
        " ('MEANDEC', 15.3360184913091),\n",
        " ('TEL_PA', 89.9626715139606),\n",
        " ('HASTART', -38.5247553868382),\n",
        " ('ZDSTART', 59.5305943039479),\n",
        " ('APPRA', 1.08151237265571),\n",
        " ('APPDEC', 0.268313749496356),\n",
        " ('WINDOW', 'HERMES_2ROs_LR'),\n",
        " ('PISTON', 3237.97619047619),\n",
        " ('TILTSPEC', 7150.86533546305),\n",
        " ('TILTSPAT', 0),\n",
        " ('GRATID', '0'),\n",
        " ('GRATTILT', 0),\n",
        " ('GRATLPMM', 3827.0),\n",
        " ('ORDER', 1),\n",
        " ('DISPENC', 0),\n",
        " ('CAMENC', 0),\n",
        " ('GRATANGL', 0),\n",
        " ('GRATANGR', 0),\n",
        " ('CAMANGL', 0),\n",
        " ('CAMANGR', 0),\n",
        " ('LAMBDAC', 4833.0),\n",
        " ('LAMBDAB', 4833.0),\n",
        " ('LAMBDCR', 4833.0),\n",
        " ('LAMBDBR', 4833.0),\n",
        " ('DISPERS', 0.045),\n",
        " ('SPLYTEMP', 16.3),\n",
        " ('RTRNTEMP', 3.9),\n",
        " ('CAMRTEMP', 14.8),\n",
        " ('HAEND', -31.0004802462445),\n",
        " ('ZDEND', 55.3371903448192),\n",
        " ('WINDOXS1', 1),\n",
        " ('WINDOXE1', 4096),\n",
        " ('WINDOYS1', 1),\n",
        " ('WINDOYE1', 2056),\n",
        " ('WINDOXS2', 4100),\n",
        " ('WINDOXE2', 4149),\n",
        " ('WINDOYS2', 1),\n",
        " ('WINDOYE2', 2056),\n",
        " ('XEFFSIZE', 15.0),\n",
        " ('YEFFSIZE', 15.0),\n",
        " ('RO_GAIN1', 2.6),\n",
        " ('RO_NOIS1', 4.1),\n",
        " ('FILEORIG', '/data/aatobs/OptDet_data/140821/ccd_1/21aug10038.fits')]"
       ]
      }
     ],
     "prompt_number": 26
    },
    {
     "cell_type": "code",
     "collapsed": false,
     "input": [
      "flux1 = myfile[0].data[5]\n",
      "flux2 = myfile[0].data[20]"
     ],
     "language": "python",
     "metadata": {},
     "outputs": [],
     "prompt_number": 70
    },
    {
     "cell_type": "code",
     "collapsed": false,
     "input": [
      "plt.plot(flux1)\n",
      "plt.plot(flux2)\n",
      "    \n",
      "plt.show()\n",
      "\n",
      "    "
     ],
     "language": "python",
     "metadata": {},
     "outputs": [],
     "prompt_number": 72
    },
    {
     "cell_type": "code",
     "collapsed": false,
     "input": [
      "plt.plot(np.correlate(flux1, flux2, 'same'))\n",
      "plt.show()"
     ],
     "language": "python",
     "metadata": {},
     "outputs": [],
     "prompt_number": 75
    },
    {
     "cell_type": "code",
     "collapsed": false,
     "input": [
      "cd ~/Documents/HERMES/reductions/47Tuc_core_6.2/"
     ],
     "language": "python",
     "metadata": {},
     "outputs": [
      {
       "output_type": "stream",
       "stream": "stdout",
       "text": [
        "/Users/Carlos/Documents/HERMES/reductions/47Tuc_core_6.2\n"
       ]
      }
     ],
     "prompt_number": 3
    },
    {
     "cell_type": "code",
     "collapsed": false,
     "input": [
      "import pickle\n",
      "import pylab as plt\n",
      "import numpy as np"
     ],
     "language": "python",
     "metadata": {},
     "outputs": [],
     "prompt_number": 16
    },
    {
     "cell_type": "code",
     "collapsed": false,
     "input": [
      "filename = 'Brght24.obj'\n",
      "filehandler = open(filename, 'r')\n",
      "thisStar = pickle.load(filehandler)"
     ],
     "language": "python",
     "metadata": {},
     "outputs": [],
     "prompt_number": 40
    },
    {
     "cell_type": "code",
     "collapsed": false,
     "input": [
      "thisCam = thisStar.exposures.cameras[2]"
     ],
     "language": "python",
     "metadata": {},
     "outputs": [],
     "prompt_number": 47
    },
    {
     "cell_type": "code",
     "collapsed": false,
     "input": [
      "print np.nansum(thisCam.red_fluxes,1)\n",
      "print np.nansum(thisCam.wavelengths,1)"
     ],
     "language": "python",
     "metadata": {},
     "outputs": [
      {
       "output_type": "stream",
       "stream": "stdout",
       "text": [
        "[       0.                0.                0.                0.\n",
        "  4316282.73271179  4425343.20715332  4078741.29594421  5341725.28952026\n",
        "  4933299.46809387  2589766.17042542  4096577.0745697   4407186.85522461\n",
        "  4251229.01542664  2153241.94611359  2788639.80212402  2648424.04494476]\n",
        "[        0.                 0.                 0.                 0.\n",
        "  27064319.99999851  27064319.99999851  27064319.99999851\n",
        "  27064319.99999851  27064319.99999851  27064319.99999851\n",
        "  27064319.99999851  27064319.99999851  27064319.99999851\n",
        "  27064319.99999851  27064319.99999851  27064319.99999851]\n"
       ]
      }
     ],
     "prompt_number": 48
    },
    {
     "cell_type": "code",
     "collapsed": false,
     "input": [
      "for i in a.sigmas[:]:\n",
      "    plt.plot(i)\n",
      "plt.show()"
     ],
     "language": "python",
     "metadata": {},
     "outputs": [],
     "prompt_number": 26
    },
    {
     "cell_type": "code",
     "collapsed": false,
     "input": [
      "i=0\n",
      "for x,y,label in zip(thisCam.wavelengths, thisCam.red_fluxes, thisCam.fileNames):\n",
      "    plt.plot(x,y+i, label= label, c='k')\n",
      "    i+=300\n",
      "plt.title(thisStar.name)\n",
      "# plt.legend(loc = 0)\n",
      "plt.show()"
     ],
     "language": "python",
     "metadata": {},
     "outputs": [],
     "prompt_number": 39
    },
    {
     "cell_type": "code",
     "collapsed": false,
     "input": [
      "N104-S2214.obj"
     ],
     "language": "python",
     "metadata": {},
     "outputs": []
    }
   ],
   "metadata": {}
  }
 ]
}