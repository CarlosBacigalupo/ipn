{
 "metadata": {
  "name": ""
 },
 "nbformat": 3,
 "nbformat_minor": 0,
 "worksheets": [
  {
   "cells": [
    {
     "cell_type": "code",
     "collapsed": false,
     "input": [
      "import glob\n",
      "import os\n",
      "import numpy as np\n",
      "import pyfits as pf\n",
      "from scipy import signal, interpolate, optimize, constants\n",
      "import pylab as plt\n",
      "import pickle\n",
      "import TableBrowser as TB\n",
      "import toolbox\n",
      "import pandas\n"
     ],
     "language": "python",
     "metadata": {},
     "outputs": [],
     "prompt_number": 2
    },
    {
     "cell_type": "code",
     "collapsed": false,
     "input": [
      "class star():\n",
      "    \n",
      "    name = ''\n",
      "    RA_dec = 0\n",
      "    Dec_dec = 0\n",
      "    Vmag = 0\n",
      "    \n",
      "    def __init__(self, name, xDef = 1, booWrite = False):\n",
      "        \n",
      "        self.load_star_data(name = namse)\n",
      "        self.exposures = exposures()\n",
      "        self.exposures.load_exposures(name = self.name, xDef = xDef) #class containing exposures for this star\n",
      "        self.calculate_baryVels()\n",
      "        \n",
      "        if booWrite==True:\n",
      "            file_pi = open(self.name + '.obj', 'w')\n",
      "            pickle.dump(self, file_pi) \n",
      "\n",
      "    def calculate_baryVels(self):\n",
      "        baryVels = []\n",
      "        for j in self.exposures.JDs:\n",
      "            vh, vb = toolbox.baryvel(j+2400000+0.5) \n",
      "            ra = self.RA_dec    #RA  in radians\n",
      "            dec = self.Dec_dec  #Dec in radians\n",
      "            baryVels.append(-(vb[0]*np.cos(dec)*np.cos(ra) + vb[1]*np.cos(dec)*np.sin(ra) + vb[2]*np.sin(dec))*1000)\n",
      "#         print baryVels\n",
      "        self.red_baryVels = np.array(baryVels) - baryVels[0]\n",
      "        self.abs_baryVels = np.array(baryVels)\n",
      "\n",
      "\n",
      "        \n",
      "        \n",
      "    def load_star_data(self, name):\n",
      "        \n",
      "        stetson_df = pandas.read_pickle('stetson.pd')\n",
      "        os.chdir('cam1/')\n",
      "        files = glob.glob('*red.fits')\n",
      "        for thisFile in files:\n",
      "            a = pf.open(thisFile)\n",
      "            b = a['FIBRES'].data\n",
      "            idx = b.field('NAME').strip()==name\n",
      "            \n",
      "            if b[idx].shape[0] >0:\n",
      "                starInfo = b[idx][0]\n",
      "                \n",
      "                self.name = starInfo.field('NAME').strip()\n",
      "                self.RA_dec = starInfo.field('RA')\n",
      "                self.Dec_dec = starInfo.field('DEC')        \n",
      "                self.RA_h, self.RA_min, self.RA_sec = toolbox.dec2sex(self.RA_dec/15)   \n",
      "                self.Dec_deg, self.Dec_min, self.Dec_sec = toolbox.dec2sex(self.Dec_dec)\n",
      "                self.Vmag = starInfo.field('MAGNITUDE')\n",
      "            \n",
      "                self.B = stetson_df[stetson_df.target == self.name].B.values[0]\n",
      "                self.I = stetson_df[stetson_df.target == self.name].I.values[0]\n",
      "                self.R = stetson_df[stetson_df.target == self.name].R.values[0]\n",
      "                self.U = stetson_df[stetson_df.target == self.name].U.values[0]\n",
      "                self.V = stetson_df[stetson_df.target == self.name].mag.values[0]\n",
      "                self.BV = stetson_df[stetson_df.target == self.name].BV.values[0]\n",
      "    \n",
      "        os.chdir('..')\n"
     ],
     "language": "python",
     "metadata": {},
     "outputs": [],
     "prompt_number": 11
    },
    {
     "cell_type": "code",
     "collapsed": false,
     "input": [
      "class camera():\n",
      "    \n",
      "#     raw_fluxes = []\n",
      "    red_fluxes =  []\n",
      "    wavelengths = []\n",
      "    CCCurves = []\n",
      "    clean_fluxes = []\n",
      "    clean_wavelengths  = []\n",
      "    Ps = []\n",
      "    shfted_wavelengths = []\n",
      "    sigmas = []\n",
      "    RVs = []\n",
      "    fileNames = []\n",
      "    safe_flag = []\n",
      "    \n",
      "    def __init__(self):\n",
      "            pass\n",
      "        \n",
      "        \n",
      "        "
     ],
     "language": "python",
     "metadata": {},
     "outputs": []
    },
    {
     "cell_type": "code",
     "collapsed": false,
     "input": [
      "class exposures():\n",
      "\n",
      "    def __init__(self):\n",
      "        self.UTdates = []\n",
      "        self.UTstarts = []\n",
      "        self.UTends = []\n",
      "        self.lengths = []\n",
      "        self.cam1_fluxes = []\n",
      "        self.cam1_raw_fluxes = []\n",
      "        self.cam1_wavelengths = []\n",
      "        self.cam1_fileNames = []\n",
      "        self.cam1_RVs = RVs()\n",
      "        self.cam2_fluxes = []\n",
      "        self.cam2_raw_fluxes = []\n",
      "        self.cam2_wavelengths = []\n",
      "        self.cam2_fileNames = []\n",
      "        self.cam2_RVs = RVs()\n",
      "        self.cam3_fluxes = []\n",
      "        self.cam3_raw_fluxes = []\n",
      "        self.cam3_wavelengths = []\n",
      "        self.cam3_fileNames = []\n",
      "        self.cam3_RVs = RVs()\n",
      "        self.cam4_fluxes = []\n",
      "        self.cam4_raw_fluxes = []\n",
      "        self.cam4_wavelengths = []\n",
      "        self.cam4_fileNames = []\n",
      "        self.cam4_RVs = RVs()\n",
      "        self.JDs = []\n",
      "        self.HRs = []\n",
      "        self.plates = []\n",
      "        self.fibres = []\n",
      "        self.pivots = []\n",
      "\n",
      "        \n",
      "    def load_exposures(self, name, xDef = 1):\n",
      "        for thisCam in range(1,5):\n",
      "            os.chdir('cam'+str(thisCam)+'/')\n",
      "#             print os.curdir\n",
      "            files = glob.glob('*red.fits')    \n",
      "            for thisFile in files:    \n",
      "                \n",
      "                HDUList = pf.open(thisFile)\n",
      "                fibreTable = HDUList['FIBRES'].data            \n",
      "                idx = fibreTable.field('NAME').strip()==name\n",
      "                \n",
      "                print thisFile, np.sum(idx)\n",
      "                \n",
      "    \n",
      "                if np.sum(idx)>0:  #star found in fits file \n",
      "                    self.plates.append(HDUList[0].header['SOURCE'])\n",
      "                    self.pivots.append(fibreTable.field('PIVOT')[idx][0])\n",
      "                    if thisCam == 1:\n",
      "                        self.UTdates.append(HDUList[0].header['UTDATE'])\n",
      "                        self.UTstarts.append(HDUList[0].header['UTSTART'])\n",
      "                        self.UTends.append(HDUList[0].header['UTEND'])\n",
      "                        self.lengths.append(HDUList[0].header['EXPOSED'])\n",
      "                        self.JDs.append(HDUList[0].header['UTMJD'])\n",
      "                        if HDUList[0].header['SLITMASK'].strip()=='OUT':\n",
      "                            self.HRs.append(False)\n",
      "                        else:\n",
      "                            self.HRs.append(True)\n",
      "                        self.cam1_fluxes.append(HDUList[0].data[idx][0])\n",
      "                        self.cam1_wavelengths.append(self.extract_HERMES_wavelength(HDUList[0].header))\n",
      "                        self.cam1_fileNames.append(thisFile)\n",
      "                        \n",
      "                        #raw data extraction\n",
      "                        for i in HDUList[0].header[:]:\n",
      "                            if i.key=='HISTORY':\n",
      "                                if i.value.find('tlm')>0:\n",
      "                                    tramFile=i.value[-18:]\n",
      "                        origFile = HDUList[0].header['FILEORIG'][-15:]\n",
      "                        tram = pf.getdata(tramFile)\n",
      "                        ymax=(np.max(tram[idx])+1).astype(int)\n",
      "                        ymin=(np.min(tram[idx])-1).astype(int)\n",
      "                        orig = pf.getdata(origFile)\n",
      "                        thisFlux = np.sum(orig[ymin:ymax,:],0)\n",
      "                        self.cam1_raw_fluxes.append(thisFlux)\n",
      "                        \n",
      "#                         print thisCam, np.mean(self.cams[thisCam - 1].wavelengths[0])    \n",
      "\n",
      "                    elif thisCam == 2:\n",
      "                        self.cam2_fluxes.append(HDUList[0].data[idx][0])\n",
      "                        self.cam2_wavelengths.append(self.extract_HERMES_wavelength(HDUList[0].header))\n",
      "                        self.cam2_fileNames.append(thisFile)\n",
      "#                         print thisCam, np.mean(self.cams[thisCam - 1].wavelengths[0])    \n",
      "                        \n",
      "                        #raw data extraction\n",
      "                        for i in HDUList[0].header[:]:\n",
      "                            if i.key=='HISTORY':\n",
      "                                if i.value.find('tlm')>0:\n",
      "                                    tramFile=i.value[-18:]\n",
      "                        origFile = HDUList[0].header['FILEORIG'][-15:]\n",
      "                        tram = pf.getdata(tramFile)\n",
      "                        ymax=(np.max(tram[idx])+1).astype(int)\n",
      "                        ymin=(np.min(tram[idx])-1).astype(int)\n",
      "                        orig = pf.getdata(origFile)\n",
      "                        thisFlux = np.sum(orig[ymin:ymax,:],0)\n",
      "                        self.cam2_raw_fluxes.append(thisFlux)\n",
      "                                                   \n",
      "                    elif thisCam == 3:\n",
      "                        self.cam3_fluxes.append(HDUList[0].data[idx][0])\n",
      "                        self.cam3_wavelengths.append(self.extract_HERMES_wavelength(HDUList[0].header))\n",
      "                        self.cam3_fileNames.append(thisFile)\n",
      "#                         print thisCam, np.mean(self.cams[thisCam - 1].wavelengths[0])    \n",
      "                        \n",
      "                        #raw data extraction\n",
      "                        for i in HDUList[0].header[:]:\n",
      "                            if i.key=='HISTORY':\n",
      "                                if i.value.find('tlm')>0:\n",
      "                                    tramFile=i.value[-18:]\n",
      "                        origFile = HDUList[0].header['FILEORIG'][-15:]\n",
      "                        tram = pf.getdata(tramFile)\n",
      "                        ymax=(np.max(tram[idx])+1).astype(int)\n",
      "                        ymin=(np.min(tram[idx])-1).astype(int)\n",
      "                        orig = pf.getdata(origFile)\n",
      "                        thisFlux = np.sum(orig[ymin:ymax,:],0)\n",
      "                        self.cam3_raw_fluxes.append(thisFlux)\n",
      "                                                   \n",
      "                    elif thisCam == 4:\n",
      "                        self.cam4_fluxes.append(HDUList[0].data[idx][0])\n",
      "                        self.cam4_wavelengths.append(self.extract_HERMES_wavelength(HDUList[0].header))\n",
      "                        self.cam4_fileNames.append(thisFile)\n",
      "                        \n",
      "                        #raw data extraction\n",
      "                        for i in HDUList[0].header[:]:\n",
      "                            if i.key=='HISTORY':\n",
      "                                if i.value.find('tlm')>0:\n",
      "                                    tramFile=i.value[-18:]\n",
      "                        origFile = HDUList[0].header['FILEORIG'][-15:]\n",
      "                        tram = pf.getdata(tramFile)\n",
      "                        ymax=(np.max(tram[idx])+1).astype(int)\n",
      "                        ymin=(np.min(tram[idx])-1).astype(int)\n",
      "                        orig = pf.getdata(origFile)\n",
      "                        thisFlux = np.sum(orig[ymin:ymax,:],0)\n",
      "                        self.cam4_raw_fluxes.append(thisFlux)\n",
      "\n",
      "            sortOrder = np.argsort(self.JDs)         \n",
      "            if thisCam == 1:\n",
      "                self.UTdates = np.array(self.UTdates)[sortOrder]\n",
      "                self.UTstarts = np.array(self.UTstarts)[sortOrder]\n",
      "                self.UTends = np.array(self.UTends)[sortOrder]\n",
      "                self.lengths = np.array(self.lengths)[sortOrder]\n",
      "                self.JDs = np.array(self.JDs)[sortOrder]\n",
      "                self.HRs = np.array(self.HRs)[sortOrder]\n",
      "                self.cam1_fluxes = np.array(self.cam1_fluxes)[sortOrder]\n",
      "                self.cam1_wavelengths = np.array(self.cam1_wavelengths)[sortOrder]\n",
      "                self.cam1_fileNames = np.array(self.cam1_fileNames)[sortOrder]\n",
      "                self.cam1_raw_fluxes = np.array(self.cam1_raw_fluxes)[sortOrder]\n",
      "\n",
      "                self.cam1_RVs.bulk_calculate_RV(self.cam1_wavelengths, self.cam1_fluxes, xDef)\n",
      "\n",
      "            elif thisCam == 2:\n",
      "                self.cam2_fluxes = np.array(self.cam2_fluxes)[sortOrder]\n",
      "                self.cam2_wavelengths = np.array(self.cam2_wavelengths)[sortOrder]\n",
      "                self.cam2_fileNames = np.array(self.cam2_fileNames)[sortOrder]\n",
      "                self.cam2_raw_fluxes = np.array(self.cam2_raw_fluxes)[sortOrder]\n",
      "    \n",
      "                self.cam2_RVs.bulk_calculate_RV(self.cam2_wavelengths, self.cam2_fluxes, xDef)\n",
      "                                           \n",
      "            elif thisCam == 3:\n",
      "                self.cam3_fluxes = np.array(self.cam3_fluxes)[sortOrder]\n",
      "                self.cam3_wavelengths = np.array(self.cam3_wavelengths)[sortOrder]\n",
      "                self.cam3_fileNames = np.array(self.cam3_fileNames)[sortOrder]\n",
      "                self.cam3_raw_fluxes = np.array(self.cam3_raw_fluxes)[sortOrder]\n",
      "    \n",
      "                self.cam3_RVs.bulk_calculate_RV(self.cam3_wavelengths, self.cam3_fluxes, xDef)\n",
      "                                           \n",
      "            elif thisCam == 4:\n",
      "                self.cam4_fluxes = np.array(self.cam4_fluxes)[sortOrder]\n",
      "                self.cam4_wavelengths = np.array(self.cam4_wavelengths)[sortOrder]\n",
      "                self.cam4_fileNames = np.array(self.cam4_fileNames)[sortOrder]\n",
      "                self.cam4_raw_fluxes = np.array(self.cam4_raw_fluxes)[sortOrder]\n",
      "\n",
      "                self.cam4_RVs.bulk_calculate_RV(self.cam4_wavelengths, self.cam4_fluxes, xDef)\n",
      "                                                   \n",
      "\n",
      "#3 sigma elimination\n",
      "#\n",
      "#             meanRV = np.mean(self.cams[thisCam - 1].RVs.RVs)\n",
      "#             sigRV = np.std(self.cams[thisCam - 1].RVs.RVs)\n",
      "#             errRV = np.abs(self.cams[thisCam - 1].RVs.RVs-meanRV)\n",
      "            \n",
      "#             threeSigMap = errRV < 3*sigRV\n",
      "    \n",
      "#             self.UTdates = np.array(self.UTdates)[threeSigMap]\n",
      "#             self.UTstarts = np.array(self.UTstarts)[threeSigMap]\n",
      "#             self.UTends = np.array(self.UTends)[threeSigMap]\n",
      "#             self.lengths = np.array(self.lengths)[threeSigMap]\n",
      "#             self.JDs = np.array(self.JDs)[threeSigMap]\n",
      "#             self.HRs = np.array(self.HRs)[threeSigMap]\n",
      "#             self.cams[thisCam - 1].fluxes = np.array(self.cams[thisCam - 1].fluxes)[threeSigMap]\n",
      "#             self.cams[thisCam - 1].wavelengths = np.array(self.cams[thisCam - 1].wavelengths)[threeSigMap]\n",
      "#             self.cams[thisCam - 1].fileNames = np.array(self.cams[thisCam - 1].fileNames)[threeSigMap]\n",
      "#             self.cams[thisCam - 1].RVs.RVs = np.array(self.cams[thisCam - 1].RVs.RVs)[threeSigMap]\n",
      "\n",
      "            os.chdir('..')\n",
      "            \n",
      "    def extract_HERMES_wavelength(self, header):\n",
      "        \n",
      "        CRVAL1 = header['CRVAL1'] # / Co-ordinate value of axis 1                    \n",
      "        CDELT1 = header['CDELT1'] #  / Co-ordinate increment along axis 1             \n",
      "        CRPIX1 = header['CRPIX1'] #  / Reference pixel along axis 1                   \n",
      "        \n",
      "        #Creates an array of offset wavelength from the referece px/wavelength\n",
      "        Lambda = CRVAL1 - (CRPIX1 - (np.arange(int(CRPIX1)*2)) -1)* CDELT1\n",
      "    \n",
      "        return Lambda\n"
     ],
     "language": "python",
     "metadata": {},
     "outputs": [],
     "prompt_number": 15
    },
    {
     "cell_type": "code",
     "collapsed": false,
     "input": [
      "class RVs():\n",
      "    from scipy import constants,signal, optimize\n",
      "\n",
      "    \n",
      "    def __init__(self):\n",
      "        self.c = constants.speed_of_light\n",
      "        self.RVs = []\n",
      "        \n",
      "    def bulk_calculate_RV(self, wavelengths, fluxes, xDef = 1, xDef2 = 0):\n",
      "        self.RVs = []\n",
      "        for i in range(len(wavelengths)):\n",
      "            print 'Procesing RV ',i\n",
      "            self.RVs.append(self.calculate_RV(wavelengths[0],fluxes[0], wavelengths[i],fluxes[i], xDef = xDef, xDef2 = xDef2))\n",
      "\n",
      "    def bulk_calculate_abs_RV(self, wavelengths, fluxes, refWavelength, refFlux, xDef = 1, xDef2 = 0):\n",
      "        self.RVs = []\n",
      "        for i in range(len(wavelengths)):\n",
      "            print 'Procesing RV ',i\n",
      "            self.RVs.append(self.calculate_RV( wavelengths[i],fluxes[i],refWavelength, refFlux, xDef = xDef, xDef2 = xDef2))\n",
      "        \n",
      "        \n",
      "    def calculate_RV(self, lambda1, flux1, lambda2, flux2, xDef = 1, xDef2 = 0):\n",
      "        lambda1Clean, flux1Clean = self.clean_flux(flux1, xDef, lambda1)\n",
      "        if xDef2 == 0: xDef2 = xDef\n",
      "        lambda2Clean, flux2Clean = self.clean_flux(flux2, xDef2, lambda2)\n",
      "#         plt.plot(lambda1Clean, flux1Clean)\n",
      "#         plt.plot(lambda2Clean, flux2Clean)\n",
      "#         plt.show()\n",
      "        if ((lambda1Clean.shape[0]>0) &\n",
      "            (flux1Clean.shape[0]>0) &\n",
      "            (lambda2Clean.shape[0]>0) &\n",
      "            (flux2Clean.shape[0]>0)):\n",
      "            a = signal.fftconvolve(flux1Clean, flux2Clean[::-1], mode='same') \n",
      "            corrMax = np.where(a==max(a))[0][0]\n",
      "            #plt.plot(a/np.max(a))\n",
      "            p_guess = [corrMax,xDef]\n",
      "#             print 'p_guess',p_guess\n",
      "            x_mask = np.arange(corrMax-50, corrMax+50)\n",
      "            p = self.fit_gaussian(p_guess, a[x_mask], np.arange(len(a))[x_mask])[0]\n",
      "#             print 'final p', p\n",
      "            #plt.plot(self.gaussian(np.arange(len(a)),p_guess[0],p_guess[1]))\n",
      "            corrPeak = p[0]\n",
      "#            print 'corr',corrPeak\n",
      "            #plt.plot(self.gaussian(np.arange(len(a)),p[0],p[1]))\n",
      "            #plt.show()\n",
      "            centralLambda = lambda2Clean[len(lambda2Clean)/2]\n",
      "            shiftLambda = lambda2Clean[corrPeak] - centralLambda\n",
      "            RV = self.c/centralLambda * shiftLambda\n",
      "        else:\n",
      "            RV = 0\n",
      "\n",
      "        print 'RV', RV\n",
      "        return RV        \n",
      "    \n",
      "    def clean_flux(self,flux, xDef = 1, lambdas = np.array([])):\n",
      "        '''clean a flux array to cross corralate to determine RV shift\n",
      "            eliminates NaNs\n",
      "            moving median to reduce peaks\n",
      "            optional: increase resolution by xDef times\n",
      "            \n",
      "        '''\t\n",
      "        \n",
      "        #Copy to output in case of no resampling\n",
      "        fluxHD = flux\n",
      "        newLambdas = lambdas\n",
      "        \n",
      "        \n",
      "        #clean NaNs and median outliers\t\n",
      "        fluxHD[np.isnan(fluxHD)] = 0\n",
      "        fluxNeat = fluxHD\t\n",
      "        fluxMed = signal.medfilt(fluxHD,5)\n",
      "        w = np.where(abs((fluxHD-fluxMed)/np.maximum(fluxMed,50)) > 0.4)\n",
      "        for ix in w[0]:\n",
      "            fluxNeat[ix] = fluxMed[ix]\n",
      "\n",
      "        #if enough data -> resample\n",
      "        if ((xDef>1) and (len(lambdas)>0)):\n",
      "            fFluxHD = interpolate.interp1d(lambdas,fluxNeat) \n",
      "            lambdas = np.arange(min(lambdas), max(lambdas),(max(lambdas)-min(lambdas))/len(lambdas)/xDef)\n",
      "            fluxNeat = fFluxHD(lambdas)\n",
      "        \n",
      "        #remove trailing zeros, devide by fitted curve (flatten) and apply tukey window\n",
      "        fluxNeat = np.trim_zeros(fluxNeat,'f') \n",
      "        lambdas = lambdas[-len(fluxNeat):]\n",
      "        fluxNeat = np.trim_zeros(fluxNeat,'b') \n",
      "        lambdas = lambdas[:len(fluxNeat)]\n",
      "        \n",
      "        if ((lambdas.shape[0]>0) &  (fluxNeat.shape[0]>0)):\n",
      "            fFluxNeat = optimize.curve_fit(self.cubic, lambdas, fluxNeat, p0 = [1,1,1,1])\n",
      "            fittedCurve = self.cubic(lambdas, fFluxNeat[0][0], fFluxNeat[0][1], fFluxNeat[0][2], fFluxNeat[0][3])\n",
      "        # \tplt.plot(fittedCurve)\n",
      "        # \tplt.plot(fluxNeat)\n",
      "        # \tplt.show()\n",
      "        # \tplt.plot(fluxNeat/fittedCurve-1)\n",
      "        # \tplt.show()\n",
      "            \n",
      "            fluxFlat = fluxNeat/fittedCurve-1\n",
      "            \n",
      "            fluxWindow = fluxFlat * self.tukey(0.1, len(fluxFlat))\n",
      "        else:\n",
      "            fluxWindow = np.array([])\n",
      "            print 'empty after removing zeros'\n",
      "            \n",
      "        return lambdas, fluxWindow\n",
      "\n",
      "    def cubic(self,x,a,b,c,d):\n",
      "        return a*x**3+b*x**2+c*x+d\n",
      "    \n",
      "    def gaussian(self, x, mu, sig):\n",
      "        return np.exp(-np.power(x - mu, 2.) / 2 / np.power(sig, 2.))\n",
      "\n",
      "    def fit_gaussian(self, p, flux, x_range):\n",
      "        a = optimize.leastsq(self.diff_gausian, p, args= [flux, x_range])\n",
      "#         plt.show()\n",
      "        return a\n",
      "        \n",
      "    def diff_gausian(self, p, args):\n",
      "        \n",
      "        flux = args[0]\n",
      "        x_range = args[1]\n",
      "#         print p\n",
      "        diff = self.gaussian(x_range, p[0],p[1]) - flux/np.max(flux)\n",
      "#         print 'diff', diff\n",
      "#         plt.plot(diff)\n",
      "#         plt.title(p)\n",
      "        return diff\n",
      "\n",
      "    def tukey(self, \n",
      "              alpha, N):\n",
      "\n",
      "        tukey = np.zeros(N)\n",
      "        for i in range(int(alpha*(N-1)/2)):\n",
      "            tukey[i] = 0.5*(1+np.cos(np.pi*(2*i/alpha/(N-1)-1)))\n",
      "        for i in range(int(alpha*(N-1)/2),int((N-1)*(1-alpha/2))):\n",
      "            tukey[i] = 1\n",
      "        for i in range(int((N-1)*(1-alpha/2)),int((N-1))):\n",
      "            tukey[i] = 0.5*(1+np.cos(np.pi*(2*i/alpha/(N-1)-2/alpha+1)))\n",
      "        \n",
      "        return tukey\n"
     ],
     "language": "python",
     "metadata": {},
     "outputs": [],
     "prompt_number": 16
    },
    {
     "cell_type": "code",
     "collapsed": false,
     "input": [
      "# os.chdir('/Users/Carlos/Documents/HERMES/reductions/m67_all_4cams')\n",
      "# allStarNames = np.load('allStarNames.npy')\n",
      "# stetson_df = pandas.read_pickle('stetson.pd')\n",
      "# thisStar = star('M67-S125', xDef = 10, booWrite = True)\n"
     ],
     "language": "python",
     "metadata": {},
     "outputs": [
      {
       "output_type": "stream",
       "stream": "stdout",
       "text": [
        "07feb10022red.fits 0\n",
        "07feb10023red.fits 0\n",
        "07feb10024red.fits 0\n",
        "07feb10027red.fits"
       ]
      },
      {
       "output_type": "stream",
       "stream": "stdout",
       "text": [
        " 1\n",
        "07feb10028red.fits"
       ]
      },
      {
       "output_type": "stream",
       "stream": "stdout",
       "text": [
        " 1\n",
        "07feb10029red.fits"
       ]
      },
      {
       "output_type": "stream",
       "stream": "stdout",
       "text": [
        " 1\n",
        "07feb10030red.fits"
       ]
      },
      {
       "output_type": "stream",
       "stream": "stdout",
       "text": [
        " 1\n",
        "07feb10031red.fits"
       ]
      },
      {
       "output_type": "stream",
       "stream": "stdout",
       "text": [
        " 1\n",
        "07feb10032red.fits"
       ]
      },
      {
       "output_type": "stream",
       "stream": "stdout",
       "text": [
        " 1\n",
        "07jan10049red.fits"
       ]
      },
      {
       "output_type": "stream",
       "stream": "stdout",
       "text": [
        " 1\n",
        "07jan10050red.fits"
       ]
      },
      {
       "output_type": "stream",
       "stream": "stdout",
       "text": [
        " 1\n",
        "07jan10051red.fits"
       ]
      },
      {
       "output_type": "stream",
       "stream": "stdout",
       "text": [
        " 1\n",
        "07jan10054red.fits"
       ]
      },
      {
       "output_type": "stream",
       "stream": "stdout",
       "text": [
        " 0\n",
        "07jan10055red.fits 0\n",
        "07jan10056red.fits 0\n",
        "07jan10059red.fits"
       ]
      },
      {
       "output_type": "stream",
       "stream": "stdout",
       "text": [
        " 1\n",
        "07jan10060red.fits"
       ]
      },
      {
       "output_type": "stream",
       "stream": "stdout",
       "text": [
        " 1\n",
        "07jan10061red.fits"
       ]
      },
      {
       "output_type": "stream",
       "stream": "stdout",
       "text": [
        " 1\n",
        "07jan10064red.fits"
       ]
      },
      {
       "output_type": "stream",
       "stream": "stdout",
       "text": [
        " 0\n",
        "08feb10027red.fits 0\n",
        "08feb10028red.fits 0\n",
        "08feb10029red.fits 0\n",
        "08feb10032red.fits"
       ]
      },
      {
       "output_type": "stream",
       "stream": "stdout",
       "text": [
        " 1\n",
        "08feb10033red.fits"
       ]
      },
      {
       "output_type": "stream",
       "stream": "stdout",
       "text": [
        " 1\n",
        "08feb10034red.fits"
       ]
      },
      {
       "output_type": "stream",
       "stream": "stdout",
       "text": [
        " 1\n",
        "08feb10035red.fits"
       ]
      },
      {
       "output_type": "stream",
       "stream": "stdout",
       "text": [
        " 1\n",
        "08feb10036red.fits"
       ]
      },
      {
       "output_type": "stream",
       "stream": "stdout",
       "text": [
        " 1\n",
        "08feb10037red.fits"
       ]
      },
      {
       "output_type": "stream",
       "stream": "stdout",
       "text": [
        " 1\n",
        "09feb10029red.fits"
       ]
      },
      {
       "output_type": "stream",
       "stream": "stdout",
       "text": [
        " 1\n",
        "09feb10030red.fits"
       ]
      },
      {
       "output_type": "stream",
       "stream": "stdout",
       "text": [
        " 1\n",
        "09feb10031red.fits"
       ]
      },
      {
       "output_type": "stream",
       "stream": "stdout",
       "text": [
        " 1\n",
        "09feb10034red.fits"
       ]
      },
      {
       "output_type": "stream",
       "stream": "stdout",
       "text": [
        " 0\n",
        "09feb10035red.fits 0\n",
        "09feb10036red.fits 0\n",
        "09jan10026red.fits 1\n",
        "09jan10027red.fits"
       ]
      },
      {
       "output_type": "stream",
       "stream": "stdout",
       "text": [
        " 1\n",
        "09jan10030red.fits"
       ]
      },
      {
       "output_type": "stream",
       "stream": "stdout",
       "text": [
        " 0\n",
        "09jan10031red.fits 0\n",
        "09jan10032red.fits 0\n",
        "09jan10033red.fits 0\n",
        "09jan10036red.fits"
       ]
      },
      {
       "output_type": "stream",
       "stream": "stdout",
       "text": [
        " 1\n",
        "09jan10045red.fits"
       ]
      },
      {
       "output_type": "stream",
       "stream": "stdout",
       "text": [
        " 1\n",
        "09jan10048red.fits"
       ]
      },
      {
       "output_type": "stream",
       "stream": "stdout",
       "text": [
        " 0\n",
        "09jan10049red.fits 0\n",
        "09jan10050red.fits 0\n",
        "10feb10027red.fits 1\n",
        "10feb10028red.fits"
       ]
      },
      {
       "output_type": "stream",
       "stream": "stdout",
       "text": [
        " 1\n",
        "10feb10029red.fits"
       ]
      },
      {
       "output_type": "stream",
       "stream": "stdout",
       "text": [
        " 1\n",
        "10feb10030red.fits"
       ]
      },
      {
       "output_type": "stream",
       "stream": "stdout",
       "text": [
        " 1\n",
        "10feb10031red.fits"
       ]
      },
      {
       "output_type": "stream",
       "stream": "stdout",
       "text": [
        " 1\n",
        "10feb10032red.fits"
       ]
      },
      {
       "output_type": "stream",
       "stream": "stdout",
       "text": [
        " 1\n",
        "10feb10033red.fits"
       ]
      },
      {
       "output_type": "stream",
       "stream": "stdout",
       "text": [
        " 1\n",
        "11feb10013red.fits"
       ]
      },
      {
       "output_type": "stream",
       "stream": "stdout",
       "text": [
        " 1\n",
        "11feb10014red.fits"
       ]
      },
      {
       "output_type": "stream",
       "stream": "stdout",
       "text": [
        " 1\n",
        "11feb10015red.fits"
       ]
      },
      {
       "output_type": "stream",
       "stream": "stdout",
       "text": [
        " 1\n",
        "11feb10016red.fits"
       ]
      },
      {
       "output_type": "stream",
       "stream": "stdout",
       "text": [
        " 1\n",
        "11feb10017red.fits"
       ]
      },
      {
       "output_type": "stream",
       "stream": "stdout",
       "text": [
        " 1\n",
        "11feb10018red.fits"
       ]
      },
      {
       "output_type": "stream",
       "stream": "stdout",
       "text": [
        " 1\n",
        "11feb10021red.fits"
       ]
      },
      {
       "output_type": "stream",
       "stream": "stdout",
       "text": [
        " 0\n",
        "11feb10022red.fits 0\n",
        "11feb10023red.fits 0\n",
        "11feb10024red.fits 0\n",
        "11feb10025red.fits"
       ]
      },
      {
       "output_type": "stream",
       "stream": "stdout",
       "text": [
        " 0\n",
        "11feb10026red.fits 0\n",
        "11jan10028red.fits 0\n",
        "11jan10029red.fits 0\n",
        "11jan10030red.fits"
       ]
      },
      {
       "output_type": "stream",
       "stream": "stdout",
       "text": [
        " 0\n",
        "11jan10033red.fits 0\n",
        "11jan10034red.fits 0\n",
        "11jan10035red.fits"
       ]
      },
      {
       "output_type": "stream",
       "stream": "stdout",
       "text": [
        " 0\n",
        "11jan10038red.fits 0\n",
        "11jan10039red.fits 0\n",
        "11jan10040red.fits"
       ]
      },
      {
       "output_type": "stream",
       "stream": "stdout",
       "text": [
        " 0\n",
        "12jan10030red.fits 0\n",
        "12jan10031red.fits 0\n",
        "12jan10032red.fits 0\n",
        "17dec10039red.fits"
       ]
      },
      {
       "output_type": "stream",
       "stream": "stdout",
       "text": [
        " 1\n",
        "17dec10040red.fits"
       ]
      },
      {
       "output_type": "stream",
       "stream": "stdout",
       "text": [
        " 1\n",
        "17dec10041red.fits"
       ]
      },
      {
       "output_type": "stream",
       "stream": "stdout",
       "text": [
        " 1\n",
        "17dec10044red.fits"
       ]
      },
      {
       "output_type": "stream",
       "stream": "stdout",
       "text": [
        " 0\n",
        "17dec10045red.fits 0\n",
        "17dec10046red.fits 0\n",
        "18dec10030red.fits"
       ]
      },
      {
       "output_type": "stream",
       "stream": "stdout",
       "text": [
        " 0\n",
        "18dec10031red.fits 0\n",
        "18dec10032red.fits 0\n",
        "18dec10033red.fits 0\n",
        "Procesing RV "
       ]
      },
      {
       "output_type": "stream",
       "stream": "stdout",
       "text": [
        " 0\n",
        "p_guess"
       ]
      },
      {
       "output_type": "stream",
       "stream": "stdout",
       "text": [
        " [19874, 10]\n",
        "final p [ 19873.9047276      36.69054322]\n",
        "RV -282.764020685\n",
        "Procesing RV  1\n",
        "p_guess"
       ]
      },
      {
       "output_type": "stream",
       "stream": "stdout",
       "text": [
        " [19876, 10]\n",
        "final p [ 19875.82984502     44.91362993]\n",
        "RV 282.764020685\n",
        "Procesing RV  2\n",
        "p_guess"
       ]
      },
      {
       "output_type": "stream",
       "stream": "stdout",
       "text": [
        " [19876, 10]\n",
        "final p [ 19875.13745876     45.46524918]\n",
        "RV 282.764020685\n",
        "Procesing RV  3\n",
        "p_guess"
       ]
      },
      {
       "output_type": "stream",
       "stream": "stdout",
       "text": [
        " [19850, 10]\n",
        "final p [ 19853.32681465     40.89465008]\n",
        "RV -4524.20299484\n",
        "Procesing RV  4\n",
        "p_guess"
       ]
      },
      {
       "output_type": "stream",
       "stream": "stdout",
       "text": [
        " [19853, 10]\n",
        "final p [ 19852.95996092     45.02809644]\n",
        "RV -4806.96568202\n",
        "Procesing RV  5\n",
        "p_guess"
       ]
      },
      {
       "output_type": "stream",
       "stream": "stdout",
       "text": [
        " [19851, 10]\n",
        "final p [ 19851.83338513     43.93528788]\n",
        "RV -5089.7283692\n",
        "Procesing RV  6\n",
        "p_guess"
       ]
      },
      {
       "output_type": "stream",
       "stream": "stdout",
       "text": [
        " [19852, 10]\n",
        "final p [ 19851.80269394     48.03723952]\n",
        "RV -5089.7283692\n",
        "Procesing RV  7\n",
        "p_guess"
       ]
      },
      {
       "output_type": "stream",
       "stream": "stdout",
       "text": [
        " [19847, 10]\n",
        "final p [ 19846.17570811     47.09127321]\n",
        "RV -6503.54180508\n",
        "Procesing RV  8\n",
        "p_guess"
       ]
      },
      {
       "output_type": "stream",
       "stream": "stdout",
       "text": [
        " [19849, 10]\n",
        "final p [ 19849.47534404     47.74779486]\n",
        "RV -5655.25374355\n",
        "Procesing RV  9\n",
        "p_guess"
       ]
      },
      {
       "output_type": "stream",
       "stream": "stdout",
       "text": [
        " [19847, 10]\n",
        "final p [ 19844.81000445     46.28032272]\n",
        "RV -7069.06717944\n",
        "Procesing RV  10\n",
        "p_guess"
       ]
      },
      {
       "output_type": "stream",
       "stream": "stdout",
       "text": [
        " [19851, 10]\n",
        "final p [ 19850.21300346     39.30511753]\n",
        "RV -5372.49105637\n",
        "Procesing RV  11\n",
        "p_guess"
       ]
      },
      {
       "output_type": "stream",
       "stream": "stdout",
       "text": [
        " [19846, 10]\n",
        "final p [ 19843.10615284     43.37263006]\n",
        "RV -7351.82986662\n",
        "Procesing RV  12\n",
        "p_guess"
       ]
      },
      {
       "output_type": "stream",
       "stream": "stdout",
       "text": [
        " [19846, 10]\n",
        "final p [ 19846.93554273     45.19535124]\n",
        "RV -6503.54180508\n",
        "Procesing RV  13\n",
        "p_guess"
       ]
      },
      {
       "output_type": "stream",
       "stream": "stdout",
       "text": [
        " [19788, 10]\n",
        "final p [ 19787.64148032     42.18240679]\n",
        "RV -26014.4125869\n",
        "Procesing RV  14\n",
        "p_guess"
       ]
      },
      {
       "output_type": "stream",
       "stream": "stdout",
       "text": [
        " [19788, 10]\n",
        "final p [ 19787.8007828      41.35035691]\n",
        "RV -26014.4125869\n",
        "Procesing RV  15\n",
        "p_guess"
       ]
      },
      {
       "output_type": "stream",
       "stream": "stdout",
       "text": [
        " [19787, 10]\n",
        "final p [ 19786.60401134     40.4486226 ]\n",
        "RV -26297.1779411\n",
        "Procesing RV  16\n",
        "p_guess"
       ]
      },
      {
       "output_type": "stream",
       "stream": "stdout",
       "text": [
        " [19788, 10]\n",
        "final p [ 19786.38737746     40.02834104]\n",
        "RV -26297.1779411\n",
        "Procesing RV  17\n",
        "p_guess"
       ]
      },
      {
       "output_type": "stream",
       "stream": "stdout",
       "text": [
        " [19787, 10]\n",
        "final p [ 19786.7817761      41.63549981]\n",
        "RV -26297.1779411\n",
        "Procesing RV  18\n",
        "p_guess"
       ]
      },
      {
       "output_type": "stream",
       "stream": "stdout",
       "text": [
        " [19786, 10]\n",
        "final p [ 19785.94413922     40.6492098 ]\n",
        "RV -26579.9432953\n",
        "Procesing RV  19\n",
        "p_guess"
       ]
      },
      {
       "output_type": "stream",
       "stream": "stdout",
       "text": [
        " [19785, 10]\n",
        "final p [ 19785.36488883     41.91988301]\n",
        "RV -26579.9432953\n",
        "Procesing RV  20\n",
        "p_guess"
       ]
      },
      {
       "output_type": "stream",
       "stream": "stdout",
       "text": [
        " [19790, 10]\n",
        "final p [ 19787.89657405     41.73340679]\n",
        "RV -26014.4125869\n",
        "Procesing RV  21\n",
        "p_guess"
       ]
      },
      {
       "output_type": "stream",
       "stream": "stdout",
       "text": [
        " [19786, 10]\n",
        "final p [ 19785.78575283     41.43592572]\n",
        "RV -26579.9432953\n",
        "Procesing RV  22\n",
        "p_guess"
       ]
      },
      {
       "output_type": "stream",
       "stream": "stdout",
       "text": [
        " [19786, 10]\n",
        "final p [ 19785.72684367     41.63608537]\n",
        "RV -26579.9432953\n",
        "Procesing RV  23\n",
        "p_guess"
       ]
      },
      {
       "output_type": "stream",
       "stream": "stdout",
       "text": [
        " [19786, 10]\n",
        "final p [ 19785.56281941     42.09677533]\n",
        "RV -26579.9432953\n",
        "Procesing RV  24\n",
        "p_guess"
       ]
      },
      {
       "output_type": "stream",
       "stream": "stdout",
       "text": [
        " [19785, 10]\n",
        "final p [ 19784.93790142     40.5785396 ]\n",
        "RV -26862.7086495\n",
        "Procesing RV  25\n",
        "p_guess"
       ]
      },
      {
       "output_type": "stream",
       "stream": "stdout",
       "text": [
        " [19784, 10]\n",
        "final p [ 19783.94864209     45.06558773]\n",
        "RV -28559.4354616\n",
        "Procesing RV  26\n",
        "p_guess"
       ]
      },
      {
       "output_type": "stream",
       "stream": "stdout",
       "text": [
        " [19785, 10]\n",
        "final p [ 19783.76131285     44.68034246]\n",
        "RV -28559.4354616\n",
        "Procesing RV  27\n",
        "p_guess"
       ]
      },
      {
       "output_type": "stream",
       "stream": "stdout",
       "text": [
        " [19784, 10]\n",
        "final p [ 19783.35122431     44.95778824]\n",
        "RV -28559.4354616\n",
        "Procesing RV  28\n",
        "p_guess"
       ]
      },
      {
       "output_type": "stream",
       "stream": "stdout",
       "text": [
        " [19794, 10]\n",
        "final p [ 19793.55877687     36.11392127]\n",
        "RV -21489.9642255\n",
        "Procesing RV  29\n",
        "p_guess"
       ]
      },
      {
       "output_type": "stream",
       "stream": "stdout",
       "text": [
        " [19788, 10]\n",
        "final p [ 19787.93923689     40.86136198]\n",
        "RV -23186.5403486\n",
        "Procesing RV  30\n",
        "p_guess"
       ]
      },
      {
       "output_type": "stream",
       "stream": "stdout",
       "text": [
        " [19787, 10]\n",
        "final p [ 19787.17112534     41.25408965]\n",
        "RV -23186.5403486\n",
        "Procesing RV  31\n",
        "p_guess"
       ]
      },
      {
       "output_type": "stream",
       "stream": "stdout",
       "text": [
        " [19788, 10]\n",
        "final p [ 19787.40198836     42.06150494]\n",
        "RV -23186.5403486\n",
        "Procesing RV  32\n",
        "p_guess"
       ]
      },
      {
       "output_type": "stream",
       "stream": "stdout",
       "text": [
        " [19788, 10]\n",
        "final p [ 19788.50940865     41.02820409]\n",
        "RV -22903.7776614\n",
        "Procesing RV  33\n",
        "p_guess"
       ]
      },
      {
       "output_type": "stream",
       "stream": "stdout",
       "text": [
        " [19784, 10]\n",
        "final p [ 19784.28997826     38.13175959]\n",
        "RV -24034.8284101\n",
        "Procesing RV  34\n",
        "p_guess"
       ]
      },
      {
       "output_type": "stream",
       "stream": "stdout",
       "text": [
        " [19786, 10]\n",
        "final p [ 19786.33983072     41.65314042]\n",
        "RV -23469.3030357\n",
        "Procesing RV  35\n",
        "p_guess"
       ]
      },
      {
       "output_type": "stream",
       "stream": "stdout",
       "text": [
        " [19782, 10]\n",
        "final p [ 19781.43613772     41.13152149]\n",
        "RV -26297.0539237\n",
        "Procesing RV  36\n",
        "p_guess"
       ]
      },
      {
       "output_type": "stream",
       "stream": "stdout",
       "text": [
        " [19782, 10]\n",
        "final p [ 19782.17938515     41.05268908]\n",
        "RV -26014.2899031\n",
        "Procesing RV  37\n",
        "p_guess"
       ]
      },
      {
       "output_type": "stream",
       "stream": "stdout",
       "text": [
        " [19782, 10]\n",
        "final p [ 19782.11021113     42.3968061 ]\n",
        "RV -26014.2899031\n",
        "Procesing RV  38\n",
        "p_guess"
       ]
      },
      {
       "output_type": "stream",
       "stream": "stdout",
       "text": [
        " [19781, 10]\n",
        "final p [ 19780.97243282     41.57956394]\n",
        "RV -26579.8179444\n",
        "Procesing RV  39\n",
        "p_guess"
       ]
      },
      {
       "output_type": "stream",
       "stream": "stdout",
       "text": [
        " [19783, 10]\n",
        "final p [ 19781.91961312     41.01295247]\n",
        "RV -26297.0539237\n",
        "Procesing RV  40\n",
        "p_guess"
       ]
      },
      {
       "output_type": "stream",
       "stream": "stdout",
       "text": [
        " [19778, 10]\n",
        "final p [ 19780.40458849     41.02100246]\n",
        "RV -26579.8179444\n",
        "07feb20022red.fits"
       ]
      },
      {
       "output_type": "stream",
       "stream": "stdout",
       "text": [
        " 0\n",
        "07feb20023red.fits"
       ]
      },
      {
       "output_type": "stream",
       "stream": "stdout",
       "text": [
        " 0\n",
        "07feb20024red.fits"
       ]
      },
      {
       "output_type": "stream",
       "stream": "stdout",
       "text": [
        " 0\n",
        "07feb20027red.fits"
       ]
      },
      {
       "output_type": "stream",
       "stream": "stdout",
       "text": [
        " 1\n",
        "07feb20028red.fits"
       ]
      },
      {
       "output_type": "stream",
       "stream": "stdout",
       "text": [
        " 1\n",
        "07feb20029red.fits"
       ]
      },
      {
       "output_type": "stream",
       "stream": "stdout",
       "text": [
        " 1\n",
        "07feb20030red.fits"
       ]
      },
      {
       "output_type": "stream",
       "stream": "stdout",
       "text": [
        " 1\n",
        "07feb20031red.fits"
       ]
      },
      {
       "output_type": "stream",
       "stream": "stdout",
       "text": [
        " 1\n",
        "07feb20032red.fits"
       ]
      },
      {
       "output_type": "stream",
       "stream": "stdout",
       "text": [
        " 1\n",
        "07jan20049red.fits"
       ]
      },
      {
       "output_type": "stream",
       "stream": "stdout",
       "text": [
        " 1\n",
        "07jan20050red.fits"
       ]
      },
      {
       "output_type": "stream",
       "stream": "stdout",
       "text": [
        " 1\n",
        "07jan20051red.fits"
       ]
      },
      {
       "output_type": "stream",
       "stream": "stdout",
       "text": [
        " 1\n",
        "07jan20054red.fits"
       ]
      },
      {
       "output_type": "stream",
       "stream": "stdout",
       "text": [
        " 0\n",
        "07jan20055red.fits"
       ]
      },
      {
       "output_type": "stream",
       "stream": "stdout",
       "text": [
        " 0\n",
        "07jan20056red.fits"
       ]
      },
      {
       "output_type": "stream",
       "stream": "stdout",
       "text": [
        " 0\n",
        "07jan20059red.fits"
       ]
      },
      {
       "output_type": "stream",
       "stream": "stdout",
       "text": [
        " 1\n",
        "07jan20060red.fits"
       ]
      },
      {
       "output_type": "stream",
       "stream": "stdout",
       "text": [
        " 1\n",
        "07jan20061red.fits"
       ]
      },
      {
       "output_type": "stream",
       "stream": "stdout",
       "text": [
        " 1\n",
        "07jan20064red.fits"
       ]
      },
      {
       "output_type": "stream",
       "stream": "stdout",
       "text": [
        " 0\n",
        "08feb20027red.fits 0\n",
        "08feb20028red.fits"
       ]
      },
      {
       "output_type": "stream",
       "stream": "stdout",
       "text": [
        " 0\n",
        "08feb20029red.fits"
       ]
      },
      {
       "output_type": "stream",
       "stream": "stdout",
       "text": [
        " 0\n",
        "08feb20032red.fits"
       ]
      },
      {
       "output_type": "stream",
       "stream": "stdout",
       "text": [
        " 1\n",
        "08feb20033red.fits"
       ]
      },
      {
       "output_type": "stream",
       "stream": "stdout",
       "text": [
        " 1\n",
        "08feb20034red.fits"
       ]
      },
      {
       "output_type": "stream",
       "stream": "stdout",
       "text": [
        " 1\n",
        "08feb20035red.fits"
       ]
      },
      {
       "output_type": "stream",
       "stream": "stdout",
       "text": [
        " 1\n",
        "08feb20036red.fits"
       ]
      },
      {
       "output_type": "stream",
       "stream": "stdout",
       "text": [
        " 1\n",
        "08feb20037red.fits"
       ]
      },
      {
       "output_type": "stream",
       "stream": "stdout",
       "text": [
        " 1\n",
        "09feb20029red.fits"
       ]
      },
      {
       "output_type": "stream",
       "stream": "stdout",
       "text": [
        " 1\n",
        "09feb20030red.fits"
       ]
      },
      {
       "output_type": "stream",
       "stream": "stdout",
       "text": [
        " 1\n",
        "09feb20031red.fits"
       ]
      },
      {
       "output_type": "stream",
       "stream": "stdout",
       "text": [
        " 1\n",
        "09feb20034red.fits"
       ]
      },
      {
       "output_type": "stream",
       "stream": "stdout",
       "text": [
        " 0\n",
        "09feb20035red.fits"
       ]
      },
      {
       "output_type": "stream",
       "stream": "stdout",
       "text": [
        " 0\n",
        "09feb20036red.fits"
       ]
      },
      {
       "output_type": "stream",
       "stream": "stdout",
       "text": [
        " 0\n",
        "09jan20026red.fits"
       ]
      },
      {
       "output_type": "stream",
       "stream": "stdout",
       "text": [
        " 1\n",
        "09jan20027red.fits"
       ]
      },
      {
       "output_type": "stream",
       "stream": "stdout",
       "text": [
        " 1\n",
        "09jan20030red.fits"
       ]
      },
      {
       "output_type": "stream",
       "stream": "stdout",
       "text": [
        " 0\n",
        "09jan20031red.fits"
       ]
      },
      {
       "output_type": "stream",
       "stream": "stdout",
       "text": [
        " 0\n",
        "09jan20032red.fits"
       ]
      },
      {
       "output_type": "stream",
       "stream": "stdout",
       "text": [
        " 0\n",
        "09jan20033red.fits"
       ]
      },
      {
       "output_type": "stream",
       "stream": "stdout",
       "text": [
        " 0\n",
        "09jan20036red.fits"
       ]
      },
      {
       "output_type": "stream",
       "stream": "stdout",
       "text": [
        " 1\n",
        "09jan20045red.fits"
       ]
      },
      {
       "output_type": "stream",
       "stream": "stdout",
       "text": [
        " 1\n",
        "09jan20048red.fits"
       ]
      },
      {
       "output_type": "stream",
       "stream": "stdout",
       "text": [
        " 0\n",
        "09jan20049red.fits"
       ]
      },
      {
       "output_type": "stream",
       "stream": "stdout",
       "text": [
        " 0\n",
        "09jan20050red.fits"
       ]
      },
      {
       "output_type": "stream",
       "stream": "stdout",
       "text": [
        " 0\n",
        "10feb20027red.fits 1\n",
        "10feb20028red.fits"
       ]
      },
      {
       "output_type": "stream",
       "stream": "stdout",
       "text": [
        " 1\n",
        "10feb20029red.fits"
       ]
      },
      {
       "output_type": "stream",
       "stream": "stdout",
       "text": [
        " 1\n",
        "10feb20030red.fits"
       ]
      },
      {
       "output_type": "stream",
       "stream": "stdout",
       "text": [
        " 1\n",
        "10feb20031red.fits"
       ]
      },
      {
       "output_type": "stream",
       "stream": "stdout",
       "text": [
        " 1\n",
        "10feb20032red.fits"
       ]
      },
      {
       "output_type": "stream",
       "stream": "stdout",
       "text": [
        " 1\n",
        "10feb20033red.fits"
       ]
      },
      {
       "output_type": "stream",
       "stream": "stdout",
       "text": [
        " 1\n",
        "11feb20013red.fits"
       ]
      },
      {
       "output_type": "stream",
       "stream": "stdout",
       "text": [
        " 1\n",
        "11feb20014red.fits"
       ]
      },
      {
       "output_type": "stream",
       "stream": "stdout",
       "text": [
        " 1\n",
        "11feb20015red.fits"
       ]
      },
      {
       "output_type": "stream",
       "stream": "stdout",
       "text": [
        " 1\n",
        "11feb20016red.fits"
       ]
      },
      {
       "output_type": "stream",
       "stream": "stdout",
       "text": [
        " 1\n",
        "11feb20017red.fits"
       ]
      },
      {
       "output_type": "stream",
       "stream": "stdout",
       "text": [
        " 1\n",
        "11feb20018red.fits"
       ]
      },
      {
       "output_type": "stream",
       "stream": "stdout",
       "text": [
        " 1\n",
        "11feb20021red.fits"
       ]
      },
      {
       "output_type": "stream",
       "stream": "stdout",
       "text": [
        " 0\n",
        "11feb20022red.fits"
       ]
      },
      {
       "output_type": "stream",
       "stream": "stdout",
       "text": [
        " 0\n",
        "11feb20023red.fits 0\n",
        "11feb20024red.fits"
       ]
      },
      {
       "output_type": "stream",
       "stream": "stdout",
       "text": [
        " 0\n",
        "11feb20025red.fits"
       ]
      },
      {
       "output_type": "stream",
       "stream": "stdout",
       "text": [
        " 0\n",
        "11feb20026red.fits"
       ]
      },
      {
       "output_type": "stream",
       "stream": "stdout",
       "text": [
        " 0\n",
        "11jan20028red.fits"
       ]
      },
      {
       "output_type": "stream",
       "stream": "stdout",
       "text": [
        " 0\n",
        "11jan20029red.fits"
       ]
      },
      {
       "output_type": "stream",
       "stream": "stdout",
       "text": [
        " 0\n",
        "11jan20030red.fits"
       ]
      },
      {
       "output_type": "stream",
       "stream": "stdout",
       "text": [
        " 0\n",
        "11jan20033red.fits"
       ]
      },
      {
       "output_type": "stream",
       "stream": "stdout",
       "text": [
        " 0\n",
        "11jan20034red.fits"
       ]
      },
      {
       "output_type": "stream",
       "stream": "stdout",
       "text": [
        " 0\n",
        "11jan20035red.fits"
       ]
      },
      {
       "output_type": "stream",
       "stream": "stdout",
       "text": [
        " 0\n",
        "11jan20038red.fits 0\n",
        "11jan20039red.fits"
       ]
      },
      {
       "output_type": "stream",
       "stream": "stdout",
       "text": [
        " 0\n",
        "11jan20040red.fits"
       ]
      },
      {
       "output_type": "stream",
       "stream": "stdout",
       "text": [
        " 0\n",
        "12jan20030red.fits"
       ]
      },
      {
       "output_type": "stream",
       "stream": "stdout",
       "text": [
        " 0\n",
        "12jan20031red.fits 0\n",
        "12jan20032red.fits"
       ]
      },
      {
       "output_type": "stream",
       "stream": "stdout",
       "text": [
        " 0\n",
        "17dec20039red.fits"
       ]
      },
      {
       "output_type": "stream",
       "stream": "stdout",
       "text": [
        " 1\n",
        "17dec20040red.fits"
       ]
      },
      {
       "output_type": "stream",
       "stream": "stdout",
       "text": [
        " 1\n",
        "17dec20041red.fits"
       ]
      },
      {
       "output_type": "stream",
       "stream": "stdout",
       "text": [
        " 1\n",
        "17dec20044red.fits"
       ]
      },
      {
       "output_type": "stream",
       "stream": "stdout",
       "text": [
        " 0\n",
        "17dec20045red.fits 0\n",
        "17dec20046red.fits"
       ]
      },
      {
       "output_type": "stream",
       "stream": "stdout",
       "text": [
        " 0\n",
        "18dec20030red.fits 0\n",
        "18dec20031red.fits"
       ]
      },
      {
       "output_type": "stream",
       "stream": "stdout",
       "text": [
        " 0\n",
        "18dec20032red.fits"
       ]
      },
      {
       "output_type": "stream",
       "stream": "stdout",
       "text": [
        " 0\n",
        "18dec20033red.fits"
       ]
      },
      {
       "output_type": "stream",
       "stream": "stdout",
       "text": [
        " 0\n",
        "Procesing RV "
       ]
      },
      {
       "output_type": "stream",
       "stream": "stdout",
       "text": [
        " 0\n",
        "p_guess"
       ]
      },
      {
       "output_type": "stream",
       "stream": "stdout",
       "text": [
        " [20434, 10]\n",
        "final p [  2.04339795e+04   1.89152562e+01]\n",
        "RV -284.458786271\n",
        "Procesing RV  1\n",
        "p_guess"
       ]
      },
      {
       "output_type": "stream",
       "stream": "stdout",
       "text": [
        " [20434, 10]\n",
        "final p [ 20433.32864805     26.3654587 ]\n",
        "RV -284.458786271\n",
        "Procesing RV  2\n",
        "p_guess"
       ]
      },
      {
       "output_type": "stream",
       "stream": "stdout",
       "text": [
        " [20434, 10]\n",
        "final p [ 20432.7900287      25.96497836]\n",
        "RV -568.917572542\n",
        "Procesing RV  3\n",
        "p_guess"
       ]
      },
      {
       "output_type": "stream",
       "stream": "stdout",
       "text": [
        " [20434, 10]\n",
        "final p [ 20432.54077276     25.49662504]\n",
        "RV -568.917572542\n",
        "Procesing RV  4\n",
        "p_guess"
       ]
      },
      {
       "output_type": "stream",
       "stream": "stdout",
       "text": [
        " [20434, 10]\n",
        "final p [ 20432.49668262     26.5717542 ]\n",
        "RV -568.917572542\n",
        "Procesing RV  5\n",
        "p_guess"
       ]
      },
      {
       "output_type": "stream",
       "stream": "stdout",
       "text": [
        " [20434, 10]\n",
        "final p [ 20432.14942661     26.34099881]\n",
        "RV -568.917572542\n",
        "Procesing RV  6\n",
        "p_guess"
       ]
      },
      {
       "output_type": "stream",
       "stream": "stdout",
       "text": [
        " [20512, 10]\n",
        "final p [ 20501.99107924     31.79900809]\n",
        "RV 20480.9354446\n",
        "Procesing RV  7\n",
        "p_guess"
       ]
      },
      {
       "output_type": "stream",
       "stream": "stdout",
       "text": [
        " [20502, 10]\n",
        "final p [ 20500.62211105     32.06430027]\n",
        "RV 20196.4780079\n",
        "Procesing RV  8\n",
        "p_guess"
       ]
      },
      {
       "output_type": "stream",
       "stream": "stdout",
       "text": [
        " [20501, 10]\n",
        "final p [ 20496.07421171     30.59017527]\n",
        "RV 19058.6482609\n",
        "Procesing RV  9\n",
        "p_guess"
       ]
      },
      {
       "output_type": "stream",
       "stream": "stdout",
       "text": [
        " [20497, 10]\n",
        "final p [ 20500.26982767     29.82649395]\n",
        "RV 20196.4780079\n",
        "Procesing RV  10\n",
        "p_guess"
       ]
      },
      {
       "output_type": "stream",
       "stream": "stdout",
       "text": [
        " [20499, 10]\n",
        "final p [ 20496.79076811     31.08243129]\n",
        "RV 19058.6482609\n",
        "Procesing RV  11\n",
        "p_guess"
       ]
      },
      {
       "output_type": "stream",
       "stream": "stdout",
       "text": [
        " [20505, 10]\n",
        "final p [ 20499.71697885     29.90005589]\n",
        "RV 19912.0205711\n",
        "Procesing RV  12\n",
        "p_guess"
       ]
      },
      {
       "output_type": "stream",
       "stream": "stdout",
       "text": [
        " [20431, 10]\n",
        "final p [ 20429.62900049     28.6035461 ]\n",
        "RV -4266.92228086\n",
        "Procesing RV  13\n",
        "p_guess"
       ]
      },
      {
       "output_type": "stream",
       "stream": "stdout",
       "text": [
        " [20430, 10]\n",
        "final p [ 20429.34324593     28.8114356 ]\n",
        "RV -4266.92228086\n",
        "Procesing RV  14\n",
        "p_guess"
       ]
      },
      {
       "output_type": "stream",
       "stream": "stdout",
       "text": [
        " [20432, 10]\n",
        "final p [ 20428.86476829     29.02094322]\n",
        "RV -4551.38376625\n",
        "Procesing RV  15\n",
        "p_guess"
       ]
      },
      {
       "output_type": "stream",
       "stream": "stdout",
       "text": [
        " [20431, 10]\n",
        "final p [ 20429.17753845     29.48086278]\n",
        "RV -4266.92228086\n",
        "Procesing RV  16\n",
        "p_guess"
       ]
      },
      {
       "output_type": "stream",
       "stream": "stdout",
       "text": [
        " [20430, 10]\n",
        "final p [ 20428.39471723     29.09649955]\n",
        "RV -4551.38376625\n",
        "Procesing RV  17\n",
        "p_guess"
       ]
      },
      {
       "output_type": "stream",
       "stream": "stdout",
       "text": [
        " [20429, 10]\n",
        "final p [ 20429.07615488     28.94587494]\n",
        "RV -4266.92228086\n",
        "Procesing RV  18\n",
        "p_guess"
       ]
      },
      {
       "output_type": "stream",
       "stream": "stdout",
       "text": [
        " [20434, 10]\n",
        "final p [ 20431.71841267     31.84440922]\n",
        "RV -3697.99931008\n",
        "Procesing RV  19\n",
        "p_guess"
       ]
      },
      {
       "output_type": "stream",
       "stream": "stdout",
       "text": [
        " [20434, 10]\n",
        "final p [ 20432.12980245     31.25938211]\n",
        "RV -3413.53782469\n",
        "Procesing RV  20\n",
        "p_guess"
       ]
      },
      {
       "output_type": "stream",
       "stream": "stdout",
       "text": [
        " [20434, 10]\n",
        "final p [ 20431.34527987     30.93900321]\n",
        "RV -3697.99931008\n",
        "Procesing RV  21\n",
        "p_guess"
       ]
      },
      {
       "output_type": "stream",
       "stream": "stdout",
       "text": [
        " [20489, 10]\n",
        "final p [ 20493.50555296     32.36283992]\n",
        "RV 18205.2759508\n",
        "Procesing RV  22\n",
        "p_guess"
       ]
      },
      {
       "output_type": "stream",
       "stream": "stdout",
       "text": [
        " [20499, 10]\n",
        "final p [ 20497.46872855     30.145609  ]\n",
        "RV 19343.1056977\n",
        "Procesing RV  23\n",
        "p_guess"
       ]
      },
      {
       "output_type": "stream",
       "stream": "stdout",
       "text": [
        " [20495, 10]\n",
        "final p [ 20494.72708349     34.65648013]\n",
        "RV 18489.7333875\n",
        "Procesing RV  24\n",
        "p_guess"
       ]
      },
      {
       "output_type": "stream",
       "stream": "stdout",
       "text": [
        " [20492, 10]\n",
        "final p [ 20492.2191718      31.68219572]\n",
        "RV 17920.818514\n",
        "Procesing RV  25\n",
        "p_guess"
       ]
      },
      {
       "output_type": "stream",
       "stream": "stdout",
       "text": [
        " [26018, 10]\n",
        "final p [  2.60171352e+04   7.94178630e+00]\n",
        "RV 1589548.15645\n",
        "Procesing RV  26\n",
        "p_guess"
       ]
      },
      {
       "output_type": "stream",
       "stream": "stdout",
       "text": [
        " [12557, 10]\n",
        "final p [  1.25555887e+04   1.25503022e+01]\n",
        "RV -2239817.85682\n",
        "Procesing RV  27\n",
        "p_guess"
       ]
      },
      {
       "output_type": "stream",
       "stream": "stdout",
       "text": [
        " [19789, 10]\n",
        "final p [  1.97898631e+04   7.39437761e+00]\n",
        "RV -182052.759508\n",
        "Procesing RV  28\n",
        "p_guess"
       ]
      },
      {
       "output_type": "stream",
       "stream": "stdout",
       "text": [
        " [8325, 10]\n",
        "final p [ 8319.04632583    19.61027493]\n",
        "RV -3444779.55881\n",
        "Procesing RV  29\n",
        "p_guess"
       ]
      },
      {
       "output_type": "stream",
       "stream": "stdout",
       "text": [
        " [20559, 10]\n",
        "final p [ 20561.55722706     32.15680915]\n",
        "RV 37548.3816484\n",
        "Procesing RV  30\n",
        "p_guess"
       ]
      },
      {
       "output_type": "stream",
       "stream": "stdout",
       "text": [
        " [9030, 10]\n",
        "final p [  9.03071795e+03   8.67931013e+00]\n",
        "RV -3242530.32129\n",
        "Procesing RV  31\n",
        "p_guess"
       ]
      },
      {
       "output_type": "stream",
       "stream": "stdout",
       "text": [
        " [20569, 10]\n",
        "final p [ 20562.62917409     26.49577288]\n",
        "RV 37832.8390852\n",
        "Procesing RV  32\n",
        "p_guess"
       ]
      },
      {
       "output_type": "stream",
       "stream": "stdout",
       "text": [
        " [20570, 10]\n",
        "final p [ 20569.45824906     22.52355316]\n",
        "RV 39824.0411423\n",
        "Procesing RV  33\n",
        "p_guess"
       ]
      },
      {
       "output_type": "stream",
       "stream": "stdout",
       "text": [
        " [21321, 10]\n",
        "final p [ 21324.80957905     23.41665713]\n",
        "RV 254589.405874\n",
        "Procesing RV  34\n",
        "p_guess"
       ]
      },
      {
       "output_type": "stream",
       "stream": "stdout",
       "text": [
        " [20569, 10]\n",
        "final p [ 20572.87385719     27.24112405]\n",
        "RV 40677.4134525\n",
        "Procesing RV  35\n",
        "p_guess"
       ]
      },
      {
       "output_type": "stream",
       "stream": "stdout",
       "text": [
        " [20556, 10]\n",
        "final p [ 20562.71341528     31.37694168]\n",
        "RV 37832.8390852\n",
        "Procesing RV  36\n",
        "p_guess"
       ]
      },
      {
       "output_type": "stream",
       "stream": "stdout",
       "text": [
        " [20570, 10]\n",
        "final p [ 20564.82950377     20.73557524]\n",
        "RV 38401.7539586\n",
        "Procesing RV  37\n",
        "p_guess"
       ]
      },
      {
       "output_type": "stream",
       "stream": "stdout",
       "text": [
        " [7456, 10]\n",
        "final p [  7.45654741e+03   7.07551701e+00]\n",
        "RV -3690266.32671\n",
        "Procesing RV  38\n",
        "p_guess"
       ]
      },
      {
       "output_type": "stream",
       "stream": "stdout",
       "text": [
        " [20526, 10]\n",
        "final p [ 20524.08737042     32.11729472]\n",
        "RV 25601.2907644\n",
        "Procesing RV  39\n",
        "p_guess"
       ]
      },
      {
       "output_type": "stream",
       "stream": "stdout",
       "text": [
        " [20526, 10]\n",
        "final p [ 20524.39012099     32.17115189]\n",
        "RV 25601.2907644\n",
        "Procesing RV  40\n",
        "p_guess"
       ]
      },
      {
       "output_type": "stream",
       "stream": "stdout",
       "text": [
        " [20524, 10]\n",
        "final p [ 20524.79944334     32.78208081]\n",
        "RV 25601.2907644\n",
        "07feb30022red.fits"
       ]
      },
      {
       "output_type": "stream",
       "stream": "stdout",
       "text": [
        " 0\n",
        "07feb30023red.fits"
       ]
      },
      {
       "output_type": "stream",
       "stream": "stdout",
       "text": [
        " 0\n",
        "07feb30024red.fits 0\n",
        "07feb30027red.fits"
       ]
      },
      {
       "output_type": "stream",
       "stream": "stdout",
       "text": [
        " 1\n",
        "07feb30028red.fits"
       ]
      },
      {
       "output_type": "stream",
       "stream": "stdout",
       "text": [
        " 1\n",
        "07feb30029red.fits"
       ]
      },
      {
       "output_type": "stream",
       "stream": "stdout",
       "text": [
        " 1\n",
        "07feb30030red.fits"
       ]
      },
      {
       "output_type": "stream",
       "stream": "stdout",
       "text": [
        " 1\n",
        "07feb30031red.fits"
       ]
      },
      {
       "output_type": "stream",
       "stream": "stdout",
       "text": [
        " 1\n",
        "07feb30032red.fits"
       ]
      },
      {
       "output_type": "stream",
       "stream": "stdout",
       "text": [
        " 1\n",
        "07jan30049red.fits"
       ]
      },
      {
       "output_type": "stream",
       "stream": "stdout",
       "text": [
        " 1\n",
        "07jan30050red.fits"
       ]
      },
      {
       "output_type": "stream",
       "stream": "stdout",
       "text": [
        " 1\n",
        "07jan30051red.fits"
       ]
      },
      {
       "output_type": "stream",
       "stream": "stdout",
       "text": [
        " 1\n",
        "07jan30054red.fits"
       ]
      },
      {
       "output_type": "stream",
       "stream": "stdout",
       "text": [
        " 0\n",
        "07jan30055red.fits"
       ]
      },
      {
       "output_type": "stream",
       "stream": "stdout",
       "text": [
        " 0\n",
        "07jan30056red.fits"
       ]
      },
      {
       "output_type": "stream",
       "stream": "stdout",
       "text": [
        " 0\n",
        "07jan30059red.fits"
       ]
      },
      {
       "output_type": "stream",
       "stream": "stdout",
       "text": [
        " 1\n",
        "07jan30060red.fits"
       ]
      },
      {
       "output_type": "stream",
       "stream": "stdout",
       "text": [
        " 1\n",
        "07jan30061red.fits"
       ]
      },
      {
       "output_type": "stream",
       "stream": "stdout",
       "text": [
        " 1\n",
        "07jan30064red.fits"
       ]
      },
      {
       "output_type": "stream",
       "stream": "stdout",
       "text": [
        " 0\n",
        "08feb30027red.fits"
       ]
      },
      {
       "output_type": "stream",
       "stream": "stdout",
       "text": [
        " 0\n",
        "08feb30028red.fits"
       ]
      },
      {
       "output_type": "stream",
       "stream": "stdout",
       "text": [
        " 0\n",
        "08feb30029red.fits"
       ]
      },
      {
       "output_type": "stream",
       "stream": "stdout",
       "text": [
        " 0\n",
        "08feb30032red.fits"
       ]
      },
      {
       "output_type": "stream",
       "stream": "stdout",
       "text": [
        " 1\n",
        "08feb30033red.fits"
       ]
      },
      {
       "output_type": "stream",
       "stream": "stdout",
       "text": [
        " 1\n",
        "08feb30034red.fits"
       ]
      },
      {
       "output_type": "stream",
       "stream": "stdout",
       "text": [
        " 1\n",
        "08feb30035red.fits"
       ]
      },
      {
       "output_type": "stream",
       "stream": "stdout",
       "text": [
        " 1\n",
        "08feb30036red.fits"
       ]
      },
      {
       "output_type": "stream",
       "stream": "stdout",
       "text": [
        " 1\n",
        "08feb30037red.fits"
       ]
      },
      {
       "output_type": "stream",
       "stream": "stdout",
       "text": [
        " 1\n",
        "09feb30029red.fits"
       ]
      },
      {
       "output_type": "stream",
       "stream": "stdout",
       "text": [
        " 1\n",
        "09feb30030red.fits"
       ]
      },
      {
       "output_type": "stream",
       "stream": "stdout",
       "text": [
        " 1\n",
        "09feb30031red.fits"
       ]
      },
      {
       "output_type": "stream",
       "stream": "stdout",
       "text": [
        " 1\n",
        "09feb30034red.fits"
       ]
      },
      {
       "output_type": "stream",
       "stream": "stdout",
       "text": [
        " 0\n",
        "09feb30035red.fits"
       ]
      },
      {
       "output_type": "stream",
       "stream": "stdout",
       "text": [
        " 0\n",
        "09feb30036red.fits"
       ]
      },
      {
       "output_type": "stream",
       "stream": "stdout",
       "text": [
        " 0\n",
        "09jan30026red.fits 1\n",
        "09jan30027red.fits"
       ]
      },
      {
       "output_type": "stream",
       "stream": "stdout",
       "text": [
        " 1\n",
        "09jan30030red.fits"
       ]
      },
      {
       "output_type": "stream",
       "stream": "stdout",
       "text": [
        " 0\n",
        "09jan30031red.fits"
       ]
      },
      {
       "output_type": "stream",
       "stream": "stdout",
       "text": [
        " 0\n",
        "09jan30032red.fits"
       ]
      },
      {
       "output_type": "stream",
       "stream": "stdout",
       "text": [
        " 0\n",
        "09jan30033red.fits"
       ]
      },
      {
       "output_type": "stream",
       "stream": "stdout",
       "text": [
        " 0\n",
        "09jan30036red.fits"
       ]
      },
      {
       "output_type": "stream",
       "stream": "stdout",
       "text": [
        " 1\n",
        "09jan30045red.fits"
       ]
      },
      {
       "output_type": "stream",
       "stream": "stdout",
       "text": [
        " 1\n",
        "09jan30048red.fits"
       ]
      },
      {
       "output_type": "stream",
       "stream": "stdout",
       "text": [
        " 0\n",
        "09jan30049red.fits 0\n",
        "09jan30050red.fits"
       ]
      },
      {
       "output_type": "stream",
       "stream": "stdout",
       "text": [
        " 0\n",
        "10feb30027red.fits 1\n",
        "10feb30028red.fits"
       ]
      },
      {
       "output_type": "stream",
       "stream": "stdout",
       "text": [
        " 1\n",
        "10feb30029red.fits"
       ]
      },
      {
       "output_type": "stream",
       "stream": "stdout",
       "text": [
        " 1\n",
        "10feb30030red.fits"
       ]
      },
      {
       "output_type": "stream",
       "stream": "stdout",
       "text": [
        " 1\n",
        "10feb30031red.fits"
       ]
      },
      {
       "output_type": "stream",
       "stream": "stdout",
       "text": [
        " 1\n",
        "10feb30032red.fits"
       ]
      },
      {
       "output_type": "stream",
       "stream": "stdout",
       "text": [
        " 1\n",
        "10feb30033red.fits"
       ]
      },
      {
       "output_type": "stream",
       "stream": "stdout",
       "text": [
        " 1\n",
        "11feb30013red.fits"
       ]
      },
      {
       "output_type": "stream",
       "stream": "stdout",
       "text": [
        " 1\n",
        "11feb30014red.fits"
       ]
      },
      {
       "output_type": "stream",
       "stream": "stdout",
       "text": [
        " 1\n",
        "11feb30015red.fits"
       ]
      },
      {
       "output_type": "stream",
       "stream": "stdout",
       "text": [
        " 1\n",
        "11feb30016red.fits"
       ]
      },
      {
       "output_type": "stream",
       "stream": "stdout",
       "text": [
        " 1\n",
        "11feb30017red.fits"
       ]
      },
      {
       "output_type": "stream",
       "stream": "stdout",
       "text": [
        " 1\n",
        "11feb30018red.fits"
       ]
      },
      {
       "output_type": "stream",
       "stream": "stdout",
       "text": [
        " 1\n",
        "11feb30021red.fits"
       ]
      },
      {
       "output_type": "stream",
       "stream": "stdout",
       "text": [
        " 0\n",
        "11feb30022red.fits 0\n",
        "11feb30023red.fits"
       ]
      },
      {
       "output_type": "stream",
       "stream": "stdout",
       "text": [
        " 0\n",
        "11feb30024red.fits"
       ]
      },
      {
       "output_type": "stream",
       "stream": "stdout",
       "text": [
        " 0\n",
        "11feb30025red.fits"
       ]
      },
      {
       "output_type": "stream",
       "stream": "stdout",
       "text": [
        " 0\n",
        "11feb30026red.fits"
       ]
      },
      {
       "output_type": "stream",
       "stream": "stdout",
       "text": [
        " 0\n",
        "11jan30028red.fits"
       ]
      },
      {
       "output_type": "stream",
       "stream": "stdout",
       "text": [
        " 0\n",
        "11jan30029red.fits"
       ]
      },
      {
       "output_type": "stream",
       "stream": "stdout",
       "text": [
        " 0\n",
        "11jan30030red.fits 0\n",
        "11jan30033red.fits"
       ]
      },
      {
       "output_type": "stream",
       "stream": "stdout",
       "text": [
        " 0\n",
        "11jan30034red.fits"
       ]
      },
      {
       "output_type": "stream",
       "stream": "stdout",
       "text": [
        " 0\n",
        "11jan30035red.fits"
       ]
      },
      {
       "output_type": "stream",
       "stream": "stdout",
       "text": [
        " 0\n",
        "11jan30038red.fits 0\n",
        "11jan30039red.fits"
       ]
      },
      {
       "output_type": "stream",
       "stream": "stdout",
       "text": [
        " 0\n",
        "11jan30040red.fits 0\n",
        "12jan30030red.fits"
       ]
      },
      {
       "output_type": "stream",
       "stream": "stdout",
       "text": [
        " 0\n",
        "12jan30031red.fits"
       ]
      },
      {
       "output_type": "stream",
       "stream": "stdout",
       "text": [
        " 0\n",
        "12jan30032red.fits"
       ]
      },
      {
       "output_type": "stream",
       "stream": "stdout",
       "text": [
        " 0\n",
        "17dec30039red.fits"
       ]
      },
      {
       "output_type": "stream",
       "stream": "stdout",
       "text": [
        " 1\n",
        "17dec30040red.fits"
       ]
      },
      {
       "output_type": "stream",
       "stream": "stdout",
       "text": [
        " 1\n",
        "17dec30041red.fits"
       ]
      },
      {
       "output_type": "stream",
       "stream": "stdout",
       "text": [
        " 1\n",
        "17dec30044red.fits"
       ]
      },
      {
       "output_type": "stream",
       "stream": "stdout",
       "text": [
        " 0\n",
        "17dec30045red.fits"
       ]
      },
      {
       "output_type": "stream",
       "stream": "stdout",
       "text": [
        " 0\n",
        "17dec30046red.fits"
       ]
      },
      {
       "output_type": "stream",
       "stream": "stdout",
       "text": [
        " 0\n",
        "18dec30030red.fits"
       ]
      },
      {
       "output_type": "stream",
       "stream": "stdout",
       "text": [
        " 0\n",
        "18dec30031red.fits"
       ]
      },
      {
       "output_type": "stream",
       "stream": "stdout",
       "text": [
        " 0\n",
        "18dec30032red.fits"
       ]
      },
      {
       "output_type": "stream",
       "stream": "stdout",
       "text": [
        " 0\n",
        "18dec30033red.fits 0\n",
        "Procesing RV "
       ]
      },
      {
       "output_type": "stream",
       "stream": "stdout",
       "text": [
        " 0\n",
        "p_guess"
       ]
      },
      {
       "output_type": "stream",
       "stream": "stdout",
       "text": [
        " [20200, 10]\n",
        "final p [ 20199.80018874     41.44864015]\n",
        "RV -284.515311619\n",
        "Procesing RV  1\n",
        "p_guess"
       ]
      },
      {
       "output_type": "stream",
       "stream": "stdout",
       "text": [
        " [20200, 10]\n",
        "final p [ 20199.87396527     52.51723024]\n",
        "RV -284.515311619\n",
        "Procesing RV  2\n",
        "p_guess"
       ]
      },
      {
       "output_type": "stream",
       "stream": "stdout",
       "text": [
        " [20200, 10]\n",
        "final p [ 20200.30305541     49.73512766]\n",
        "RV 0.0\n",
        "Procesing RV  3\n",
        "p_guess"
       ]
      },
      {
       "output_type": "stream",
       "stream": "stdout",
       "text": [
        " [20199, 10]\n",
        "final p [ 20198.2984604      54.59204055]\n",
        "RV -569.030623238\n",
        "Procesing RV  4\n",
        "p_guess"
       ]
      },
      {
       "output_type": "stream",
       "stream": "stdout",
       "text": [
        " [20200, 10]\n",
        "final p [ 20200.35218215     54.30399228]\n",
        "RV 0.0\n",
        "Procesing RV  5\n",
        "p_guess"
       ]
      },
      {
       "output_type": "stream",
       "stream": "stdout",
       "text": [
        " [20200, 10]\n",
        "final p [ 20199.58447925     55.27303391]\n",
        "RV -284.515311619\n",
        "Procesing RV  6\n",
        "p_guess"
       ]
      },
      {
       "output_type": "stream",
       "stream": "stdout",
       "text": [
        " [20299, 10]\n",
        "final p [ 20297.49098217     79.3933573 ]\n",
        "RV 21907.2631769\n",
        "Procesing RV  7\n",
        "p_guess"
       ]
      },
      {
       "output_type": "stream",
       "stream": "stdout",
       "text": [
        " [20298, 10]\n",
        "final p [ 20297.61545702     84.72276404]\n",
        "RV 21907.2631769\n",
        "Procesing RV  8\n",
        "p_guess"
       ]
      },
      {
       "output_type": "stream",
       "stream": "stdout",
       "text": [
        " [20301, 10]\n",
        "final p [ 20296.74126294     85.93574365]\n",
        "RV 21622.7532655\n",
        "Procesing RV  9\n",
        "p_guess"
       ]
      },
      {
       "output_type": "stream",
       "stream": "stdout",
       "text": [
        " [20280, 10]\n",
        "final p [ 20280.44586811     86.18452199]\n",
        "RV 18493.2319927\n",
        "Procesing RV  10\n",
        "p_guess"
       ]
      },
      {
       "output_type": "stream",
       "stream": "stdout",
       "text": [
        " [20284, 10]\n",
        "final p [ 20279.4002239      80.55688969]\n",
        "RV 18208.7207313\n",
        "Procesing RV  11\n",
        "p_guess"
       ]
      },
      {
       "output_type": "stream",
       "stream": "stdout",
       "text": [
        " [20297, 10]\n",
        "final p [ 20285.48085704     81.46362257]\n",
        "RV 19915.7882998\n",
        "Procesing RV  12\n",
        "p_guess"
       ]
      },
      {
       "output_type": "stream",
       "stream": "stdout",
       "text": [
        " [20201, 10]\n",
        "final p [ 20198.32319653     66.38255344]\n",
        "RV -569.030623238\n",
        "Procesing RV  13\n",
        "p_guess"
       ]
      },
      {
       "output_type": "stream",
       "stream": "stdout",
       "text": [
        " [20201, 10]\n",
        "final p [ 20199.28463717     67.22777788]\n",
        "RV -284.515311619\n",
        "Procesing RV  14\n",
        "p_guess"
       ]
      },
      {
       "output_type": "stream",
       "stream": "stdout",
       "text": [
        " [20197, 10]\n",
        "final p [ 20196.64273604     65.77704019]\n",
        "RV -1138.06124648\n",
        "Procesing RV  15\n",
        "p_guess"
       ]
      },
      {
       "output_type": "stream",
       "stream": "stdout",
       "text": [
        " [20198, 10]\n",
        "final p [ 20197.49041537     66.30345992]\n",
        "RV -853.545934856\n",
        "Procesing RV  16\n",
        "p_guess"
       ]
      },
      {
       "output_type": "stream",
       "stream": "stdout",
       "text": [
        " [20197, 10]\n",
        "final p [ 20197.32677888     61.43641754]\n",
        "RV -853.545934856\n",
        "Procesing RV  17\n",
        "p_guess"
       ]
      },
      {
       "output_type": "stream",
       "stream": "stdout",
       "text": [
        " [20199, 10]\n",
        "final p [ 20197.48365631     63.72659744]\n",
        "RV -853.545934856\n",
        "Procesing RV  18\n",
        "p_guess"
       ]
      },
      {
       "output_type": "stream",
       "stream": "stdout",
       "text": [
        " [20194, 10]\n",
        "final p [ 20193.2341659      71.14020591]\n",
        "RV -569.033323417\n",
        "Procesing RV  19\n",
        "p_guess"
       ]
      },
      {
       "output_type": "stream",
       "stream": "stdout",
       "text": [
        " [20194, 10]\n",
        "final p [ 20193.14097958     71.27196309]\n",
        "RV -569.033323417\n",
        "Procesing RV  20\n",
        "p_guess"
       ]
      },
      {
       "output_type": "stream",
       "stream": "stdout",
       "text": [
        " [20197, 10]\n",
        "final p [ 20193.24350854     71.57755586]\n",
        "RV -569.033323417\n",
        "Procesing RV  21\n",
        "p_guess"
       ]
      },
      {
       "output_type": "stream",
       "stream": "stdout",
       "text": [
        " [20275, 10]\n",
        "final p [ 20283.33890003     93.14447699]\n",
        "RV 17924.1244174\n",
        "Procesing RV  22\n",
        "p_guess"
       ]
      },
      {
       "output_type": "stream",
       "stream": "stdout",
       "text": [
        " [20276, 10]\n",
        "final p [ 20282.75145605     93.55833566]\n",
        "RV 17639.614506\n",
        "Procesing RV  23\n",
        "p_guess"
       ]
      },
      {
       "output_type": "stream",
       "stream": "stdout",
       "text": [
        " [20286, 10]\n",
        "final p [ 20285.8362011      77.13990231]\n",
        "RV 18493.1442402\n",
        "Procesing RV  24\n",
        "p_guess"
       ]
      },
      {
       "output_type": "stream",
       "stream": "stdout",
       "text": [
        " [20291, 10]\n",
        "final p [ 20288.09974412     84.82400054]\n",
        "RV 19346.6739744\n",
        "Procesing RV  25\n",
        "p_guess"
       ]
      },
      {
       "output_type": "stream",
       "stream": "stdout",
       "text": [
        " [20219, 10]\n",
        "final p [ 20217.89486485     66.56730465]\n",
        "RV 1991.58828034\n",
        "Procesing RV  26\n",
        "p_guess"
       ]
      },
      {
       "output_type": "stream",
       "stream": "stdout",
       "text": [
        " [20218, 10]\n",
        "final p [ 20218.55309962     64.89561978]\n",
        "RV 2276.10089182\n",
        "Procesing RV  27\n",
        "p_guess"
       ]
      },
      {
       "output_type": "stream",
       "stream": "stdout",
       "text": [
        " [20219, 10]\n",
        "final p [ 20218.43990831     64.64870581]\n",
        "RV 2276.10089182\n",
        "Procesing RV  28\n",
        "p_guess"
       ]
      },
      {
       "output_type": "stream",
       "stream": "stdout",
       "text": [
        " [20219, 10]\n",
        "final p [ 20219.8278139      64.84005387]\n",
        "RV 2560.6135033\n",
        "Procesing RV  29\n",
        "p_guess"
       ]
      },
      {
       "output_type": "stream",
       "stream": "stdout",
       "text": [
        " [20220, 10]\n",
        "final p [ 20219.06386809     66.03076357]\n",
        "RV 2560.6135033\n",
        "Procesing RV  30\n",
        "p_guess"
       ]
      },
      {
       "output_type": "stream",
       "stream": "stdout",
       "text": [
        " [20221, 10]\n",
        "final p [ 20220.09764669     65.73798279]\n",
        "RV 2845.12611478\n",
        "Procesing RV  31\n",
        "p_guess"
       ]
      },
      {
       "output_type": "stream",
       "stream": "stdout",
       "text": [
        " [20218, 10]\n",
        "final p [ 20219.43676617     68.52738768]\n",
        "RV 2560.6135033\n",
        "Procesing RV  32\n",
        "p_guess"
       ]
      },
      {
       "output_type": "stream",
       "stream": "stdout",
       "text": [
        " [20219, 10]\n",
        "final p [ 20217.37387937     64.25476462]\n",
        "RV 1991.58828034\n",
        "Procesing RV  33\n",
        "p_guess"
       ]
      },
      {
       "output_type": "stream",
       "stream": "stdout",
       "text": [
        " [20220, 10]\n",
        "final p [ 20217.45955538     65.63079537]\n",
        "RV 1991.58828034\n",
        "Procesing RV  34\n",
        "p_guess"
       ]
      },
      {
       "output_type": "stream",
       "stream": "stdout",
       "text": [
        " [20220, 10]\n",
        "final p [ 20219.33020452     65.08253981]\n",
        "RV 2560.6135033\n",
        "Procesing RV  35\n",
        "p_guess"
       ]
      },
      {
       "output_type": "stream",
       "stream": "stdout",
       "text": [
        " [20218, 10]\n",
        "final p [ 20216.04604231     64.03723636]\n",
        "RV 1707.07566887\n",
        "Procesing RV  36\n",
        "p_guess"
       ]
      },
      {
       "output_type": "stream",
       "stream": "stdout",
       "text": [
        " [20219, 10]\n",
        "final p [ 20217.06669752     65.31649578]\n",
        "RV 1991.58828034\n",
        "Procesing RV  37\n",
        "p_guess"
       ]
      },
      {
       "output_type": "stream",
       "stream": "stdout",
       "text": [
        " [20219, 10]\n",
        "final p [ 20217.50728561     62.50044246]\n",
        "RV 1991.58828034\n",
        "Procesing RV  38\n",
        "p_guess"
       ]
      },
      {
       "output_type": "stream",
       "stream": "stdout",
       "text": [
        " [20330, 10]\n",
        "final p [ 20327.40966187     81.3029039 ]\n",
        "RV 30442.5605185\n",
        "Procesing RV  39\n",
        "p_guess"
       ]
      },
      {
       "output_type": "stream",
       "stream": "stdout",
       "text": [
        " [20331, 10]\n",
        "final p [ 20330.02329951     83.42334431]\n",
        "RV 31296.0902527\n",
        "Procesing RV  40\n",
        "p_guess"
       ]
      },
      {
       "output_type": "stream",
       "stream": "stdout",
       "text": [
        " [20331, 10]\n",
        "final p [ 20328.07339119     87.55359269]\n",
        "RV 30727.0704299\n",
        "07feb40022red.fits"
       ]
      },
      {
       "output_type": "stream",
       "stream": "stdout",
       "text": [
        " 0\n",
        "07feb40023red.fits"
       ]
      },
      {
       "output_type": "stream",
       "stream": "stdout",
       "text": [
        " 0\n",
        "07feb40024red.fits 0\n",
        "07feb40027red.fits"
       ]
      },
      {
       "output_type": "stream",
       "stream": "stdout",
       "text": [
        " 1\n",
        "07feb40028red.fits"
       ]
      },
      {
       "output_type": "stream",
       "stream": "stdout",
       "text": [
        " 1\n",
        "07feb40029red.fits"
       ]
      },
      {
       "output_type": "stream",
       "stream": "stdout",
       "text": [
        " 1\n",
        "07feb40030red.fits"
       ]
      },
      {
       "output_type": "stream",
       "stream": "stdout",
       "text": [
        " 1\n",
        "07feb40031red.fits"
       ]
      },
      {
       "output_type": "stream",
       "stream": "stdout",
       "text": [
        " 1\n",
        "07feb40032red.fits"
       ]
      },
      {
       "output_type": "stream",
       "stream": "stdout",
       "text": [
        " 1\n",
        "07jan40049red.fits"
       ]
      },
      {
       "output_type": "stream",
       "stream": "stdout",
       "text": [
        " 1\n",
        "07jan40050red.fits"
       ]
      },
      {
       "output_type": "stream",
       "stream": "stdout",
       "text": [
        " 1\n",
        "07jan40051red.fits"
       ]
      },
      {
       "output_type": "stream",
       "stream": "stdout",
       "text": [
        " 1\n",
        "07jan40054red.fits"
       ]
      },
      {
       "output_type": "stream",
       "stream": "stdout",
       "text": [
        " 0\n",
        "07jan40055red.fits"
       ]
      },
      {
       "output_type": "stream",
       "stream": "stdout",
       "text": [
        " 0\n",
        "07jan40056red.fits"
       ]
      },
      {
       "output_type": "stream",
       "stream": "stdout",
       "text": [
        " 0\n",
        "07jan40059red.fits"
       ]
      },
      {
       "output_type": "stream",
       "stream": "stdout",
       "text": [
        " 1\n",
        "07jan40060red.fits"
       ]
      },
      {
       "output_type": "stream",
       "stream": "stdout",
       "text": [
        " 1\n",
        "07jan40061red.fits"
       ]
      },
      {
       "output_type": "stream",
       "stream": "stdout",
       "text": [
        " 1\n",
        "07jan40064red.fits"
       ]
      },
      {
       "output_type": "stream",
       "stream": "stdout",
       "text": [
        " 0\n",
        "08feb40027red.fits"
       ]
      },
      {
       "output_type": "stream",
       "stream": "stdout",
       "text": [
        " 0\n",
        "08feb40028red.fits"
       ]
      },
      {
       "output_type": "stream",
       "stream": "stdout",
       "text": [
        " 0\n",
        "08feb40029red.fits"
       ]
      },
      {
       "output_type": "stream",
       "stream": "stdout",
       "text": [
        " 0\n",
        "08feb40032red.fits"
       ]
      },
      {
       "output_type": "stream",
       "stream": "stdout",
       "text": [
        " 1\n",
        "08feb40033red.fits"
       ]
      },
      {
       "output_type": "stream",
       "stream": "stdout",
       "text": [
        " 1\n",
        "08feb40034red.fits"
       ]
      },
      {
       "output_type": "stream",
       "stream": "stdout",
       "text": [
        " 1\n",
        "08feb40035red.fits"
       ]
      },
      {
       "output_type": "stream",
       "stream": "stdout",
       "text": [
        " 1\n",
        "08feb40036red.fits"
       ]
      },
      {
       "output_type": "stream",
       "stream": "stdout",
       "text": [
        " 1\n",
        "08feb40037red.fits"
       ]
      },
      {
       "output_type": "stream",
       "stream": "stdout",
       "text": [
        " 1\n",
        "09feb40029red.fits"
       ]
      },
      {
       "output_type": "stream",
       "stream": "stdout",
       "text": [
        " 1\n",
        "09feb40030red.fits"
       ]
      },
      {
       "output_type": "stream",
       "stream": "stdout",
       "text": [
        " 1\n",
        "09feb40031red.fits"
       ]
      },
      {
       "output_type": "stream",
       "stream": "stdout",
       "text": [
        " 1\n",
        "09feb40034red.fits"
       ]
      },
      {
       "output_type": "stream",
       "stream": "stdout",
       "text": [
        " 0\n",
        "09feb40035red.fits 0\n",
        "09feb40036red.fits"
       ]
      },
      {
       "output_type": "stream",
       "stream": "stdout",
       "text": [
        " 0\n",
        "09jan40026red.fits"
       ]
      },
      {
       "output_type": "stream",
       "stream": "stdout",
       "text": [
        " 1\n",
        "09jan40027red.fits"
       ]
      },
      {
       "output_type": "stream",
       "stream": "stdout",
       "text": [
        " 1\n",
        "09jan40030red.fits"
       ]
      },
      {
       "output_type": "stream",
       "stream": "stdout",
       "text": [
        " 0\n",
        "09jan40031red.fits"
       ]
      },
      {
       "output_type": "stream",
       "stream": "stdout",
       "text": [
        " 0\n",
        "09jan40032red.fits 0\n",
        "09jan40033red.fits"
       ]
      },
      {
       "output_type": "stream",
       "stream": "stdout",
       "text": [
        " 0\n",
        "09jan40036red.fits"
       ]
      },
      {
       "output_type": "stream",
       "stream": "stdout",
       "text": [
        " 1\n",
        "09jan40045red.fits"
       ]
      },
      {
       "output_type": "stream",
       "stream": "stdout",
       "text": [
        " 1\n",
        "09jan40048red.fits"
       ]
      },
      {
       "output_type": "stream",
       "stream": "stdout",
       "text": [
        " 0\n",
        "09jan40049red.fits"
       ]
      },
      {
       "output_type": "stream",
       "stream": "stdout",
       "text": [
        " 0\n",
        "09jan40050red.fits 0\n",
        "10feb40027red.fits"
       ]
      },
      {
       "output_type": "stream",
       "stream": "stdout",
       "text": [
        " 1\n",
        "10feb40028red.fits"
       ]
      },
      {
       "output_type": "stream",
       "stream": "stdout",
       "text": [
        " 1\n",
        "10feb40029red.fits"
       ]
      },
      {
       "output_type": "stream",
       "stream": "stdout",
       "text": [
        " 1\n",
        "10feb40030red.fits"
       ]
      },
      {
       "output_type": "stream",
       "stream": "stdout",
       "text": [
        " 1\n",
        "10feb40031red.fits"
       ]
      },
      {
       "output_type": "stream",
       "stream": "stdout",
       "text": [
        " 1\n",
        "10feb40032red.fits"
       ]
      },
      {
       "output_type": "stream",
       "stream": "stdout",
       "text": [
        " 1\n",
        "10feb40033red.fits"
       ]
      },
      {
       "output_type": "stream",
       "stream": "stdout",
       "text": [
        " 1\n",
        "11feb40013red.fits"
       ]
      },
      {
       "output_type": "stream",
       "stream": "stdout",
       "text": [
        " 1\n",
        "11feb40014red.fits"
       ]
      },
      {
       "output_type": "stream",
       "stream": "stdout",
       "text": [
        " 1\n",
        "11feb40015red.fits"
       ]
      },
      {
       "output_type": "stream",
       "stream": "stdout",
       "text": [
        " 1\n",
        "11feb40016red.fits"
       ]
      },
      {
       "output_type": "stream",
       "stream": "stdout",
       "text": [
        " 1\n",
        "11feb40017red.fits"
       ]
      },
      {
       "output_type": "stream",
       "stream": "stdout",
       "text": [
        " 1\n",
        "11feb40018red.fits"
       ]
      },
      {
       "output_type": "stream",
       "stream": "stdout",
       "text": [
        " 1\n",
        "11feb40021red.fits"
       ]
      },
      {
       "output_type": "stream",
       "stream": "stdout",
       "text": [
        " 0\n",
        "11feb40022red.fits"
       ]
      },
      {
       "output_type": "stream",
       "stream": "stdout",
       "text": [
        " 0\n",
        "11feb40023red.fits"
       ]
      },
      {
       "output_type": "stream",
       "stream": "stdout",
       "text": [
        " 0\n",
        "11feb40024red.fits"
       ]
      },
      {
       "output_type": "stream",
       "stream": "stdout",
       "text": [
        " 0\n",
        "11feb40025red.fits"
       ]
      },
      {
       "output_type": "stream",
       "stream": "stdout",
       "text": [
        " 0\n",
        "11feb40026red.fits"
       ]
      },
      {
       "output_type": "stream",
       "stream": "stdout",
       "text": [
        " 0\n",
        "11jan40028red.fits"
       ]
      },
      {
       "output_type": "stream",
       "stream": "stdout",
       "text": [
        " 0\n",
        "11jan40029red.fits"
       ]
      },
      {
       "output_type": "stream",
       "stream": "stdout",
       "text": [
        " 0\n",
        "11jan40030red.fits"
       ]
      },
      {
       "output_type": "stream",
       "stream": "stdout",
       "text": [
        " 0\n",
        "11jan40033red.fits"
       ]
      },
      {
       "output_type": "stream",
       "stream": "stdout",
       "text": [
        " 0\n",
        "11jan40034red.fits 0\n",
        "11jan40035red.fits"
       ]
      },
      {
       "output_type": "stream",
       "stream": "stdout",
       "text": [
        " 0\n",
        "11jan40038red.fits"
       ]
      },
      {
       "output_type": "stream",
       "stream": "stdout",
       "text": [
        " 0\n",
        "11jan40039red.fits 0\n",
        "11jan40040red.fits"
       ]
      },
      {
       "output_type": "stream",
       "stream": "stdout",
       "text": [
        " 0\n",
        "12jan40030red.fits 0\n",
        "12jan40031red.fits"
       ]
      },
      {
       "output_type": "stream",
       "stream": "stdout",
       "text": [
        " 0\n",
        "12jan40032red.fits 0\n",
        "17dec40039red.fits"
       ]
      },
      {
       "output_type": "stream",
       "stream": "stdout",
       "text": [
        " 1\n",
        "17dec40040red.fits"
       ]
      },
      {
       "output_type": "stream",
       "stream": "stdout",
       "text": [
        " 1\n",
        "17dec40041red.fits"
       ]
      },
      {
       "output_type": "stream",
       "stream": "stdout",
       "text": [
        " 1\n",
        "17dec40044red.fits"
       ]
      },
      {
       "output_type": "stream",
       "stream": "stdout",
       "text": [
        " 0\n",
        "17dec40045red.fits"
       ]
      },
      {
       "output_type": "stream",
       "stream": "stdout",
       "text": [
        " 0\n",
        "17dec40046red.fits"
       ]
      },
      {
       "output_type": "stream",
       "stream": "stdout",
       "text": [
        " 0\n",
        "18dec40030red.fits 0\n",
        "18dec40031red.fits"
       ]
      },
      {
       "output_type": "stream",
       "stream": "stdout",
       "text": [
        " 0\n",
        "18dec40032red.fits"
       ]
      },
      {
       "output_type": "stream",
       "stream": "stdout",
       "text": [
        " 0\n",
        "18dec40033red.fits"
       ]
      },
      {
       "output_type": "stream",
       "stream": "stdout",
       "text": [
        " 0\n",
        "Procesing RV "
       ]
      },
      {
       "output_type": "stream",
       "stream": "stdout",
       "text": [
        " 0\n",
        "p_guess"
       ]
      },
      {
       "output_type": "stream",
       "stream": "stdout",
       "text": [
        " [20100, 10]\n",
        "final p [ 20099.94525156     42.30977681]\n",
        "RV -285.109583494\n",
        "Procesing RV  1\n",
        "p_guess"
       ]
      },
      {
       "output_type": "stream",
       "stream": "stdout",
       "text": [
        " [20099, 10]\n",
        "final p [ 20099.60681296     46.19349959]\n",
        "RV -285.109583494\n",
        "Procesing RV  2\n",
        "p_guess"
       ]
      },
      {
       "output_type": "stream",
       "stream": "stdout",
       "text": [
        " [20099, 10]\n",
        "final p [ 20099.15846533     46.03929393]\n",
        "RV -285.109583494\n",
        "Procesing RV  3\n",
        "p_guess"
       ]
      },
      {
       "output_type": "stream",
       "stream": "stdout",
       "text": [
        " [20099, 10]\n",
        "final p [ 20099.12536271     46.70000749]\n",
        "RV -285.109583494\n",
        "Procesing RV  4\n",
        "p_guess"
       ]
      },
      {
       "output_type": "stream",
       "stream": "stdout",
       "text": [
        " [20099, 10]\n",
        "final p [ 20099.09863094     46.65462889]\n",
        "RV -285.109583494\n",
        "Procesing RV  5\n",
        "p_guess"
       ]
      },
      {
       "output_type": "stream",
       "stream": "stdout",
       "text": [
        " [20099, 10]\n",
        "final p [ 20099.49503786     47.14423239]\n",
        "RV -285.109583494\n",
        "Procesing RV  6\n",
        "p_guess"
       ]
      },
      {
       "output_type": "stream",
       "stream": "stdout",
       "text": [
        " [20149, 10]\n",
        "final p [ 20148.97314222     49.9454166 ]\n",
        "RV 7982.91649904\n",
        "Procesing RV  7\n",
        "p_guess"
       ]
      },
      {
       "output_type": "stream",
       "stream": "stdout",
       "text": [
        " [20135, 10]\n",
        "final p [ 20135.15195526     44.74463753]\n",
        "RV 4276.5624102\n",
        "Procesing RV  8\n",
        "p_guess"
       ]
      },
      {
       "output_type": "stream",
       "stream": "stdout",
       "text": [
        " [20146, 10]\n",
        "final p [ 20145.99858311     50.73295184]\n",
        "RV 7127.604017\n",
        "Procesing RV  9\n",
        "p_guess"
       ]
      },
      {
       "output_type": "stream",
       "stream": "stdout",
       "text": [
        " [20138, 10]\n",
        "final p [ 20137.3335566      52.26661774]\n",
        "RV 6272.32136001\n",
        "Procesing RV  10\n",
        "p_guess"
       ]
      },
      {
       "output_type": "stream",
       "stream": "stdout",
       "text": [
        " [20139, 10]\n",
        "final p [ 20139.58860223     51.63037345]\n",
        "RV 6842.53239274\n",
        "Procesing RV  11\n",
        "p_guess"
       ]
      },
      {
       "output_type": "stream",
       "stream": "stdout",
       "text": [
        " [20139, 10]\n",
        "final p [ 20139.43894557     50.36954505]\n",
        "RV 6842.53239274\n",
        "Procesing RV  12\n",
        "p_guess"
       ]
      },
      {
       "output_type": "stream",
       "stream": "stdout",
       "text": [
        " [20101, 10]\n",
        "final p [ 20101.23519358     45.86001303]\n",
        "RV 285.109583494\n",
        "Procesing RV  13\n",
        "p_guess"
       ]
      },
      {
       "output_type": "stream",
       "stream": "stdout",
       "text": [
        " [20101, 10]\n",
        "final p [ 20101.39979776     45.95175777]\n",
        "RV 285.109583494\n",
        "Procesing RV  14\n",
        "p_guess"
       ]
      },
      {
       "output_type": "stream",
       "stream": "stdout",
       "text": [
        " [20102, 10]\n",
        "final p [ 20102.54619435     44.84634257]\n",
        "RV 570.219166987\n",
        "Procesing RV  15\n",
        "p_guess"
       ]
      },
      {
       "output_type": "stream",
       "stream": "stdout",
       "text": [
        " [20101, 10]\n",
        "final p [ 20101.07617237     46.67973384]\n",
        "RV 285.109583494\n",
        "Procesing RV  16\n",
        "p_guess"
       ]
      },
      {
       "output_type": "stream",
       "stream": "stdout",
       "text": [
        " [20099, 10]\n",
        "final p [ 20098.52663938     46.34883416]\n",
        "RV -570.219166987\n",
        "Procesing RV  17\n",
        "p_guess"
       ]
      },
      {
       "output_type": "stream",
       "stream": "stdout",
       "text": [
        " [20102, 10]\n",
        "final p [ 20102.13570759     48.87970968]\n",
        "RV 570.219166987\n",
        "Procesing RV  18\n",
        "p_guess"
       ]
      },
      {
       "output_type": "stream",
       "stream": "stdout",
       "text": [
        " [20102, 10]\n",
        "final p [ 20102.2762169      49.37600792]\n",
        "RV 570.219166987\n",
        "Procesing RV  19\n",
        "p_guess"
       ]
      },
      {
       "output_type": "stream",
       "stream": "stdout",
       "text": [
        " [20102, 10]\n",
        "final p [ 20102.32056107     48.79731684]\n",
        "RV 570.219166987\n",
        "Procesing RV  20\n",
        "p_guess"
       ]
      },
      {
       "output_type": "stream",
       "stream": "stdout",
       "text": [
        " [20102, 10]\n",
        "final p [ 20101.76491285     48.39029117]\n",
        "RV 285.109583494\n",
        "Procesing RV  21\n",
        "p_guess"
       ]
      },
      {
       "output_type": "stream",
       "stream": "stdout",
       "text": [
        " [20148, 10]\n",
        "final p [ 20148.68469974     53.1687847 ]\n",
        "RV 6557.36451521\n",
        "Procesing RV  22\n",
        "p_guess"
       ]
      },
      {
       "output_type": "stream",
       "stream": "stdout",
       "text": [
        " [20148, 10]\n",
        "final p [ 20148.5322786      50.65104542]\n",
        "RV 6557.36451521\n",
        "Procesing RV  23\n",
        "p_guess"
       ]
      },
      {
       "output_type": "stream",
       "stream": "stdout",
       "text": [
        " [20153, 10]\n",
        "final p [ 20153.20024171     48.51297629]\n",
        "RV 7982.87854025\n",
        "Procesing RV  24\n",
        "p_guess"
       ]
      },
      {
       "output_type": "stream",
       "stream": "stdout",
       "text": [
        " [20152, 10]\n",
        "final p [ 20151.93280986     50.09060783]\n",
        "RV 7412.67293023\n",
        "Procesing RV  25\n",
        "p_guess"
       ]
      },
      {
       "output_type": "stream",
       "stream": "stdout",
       "text": [
        " [16793, 10]\n",
        "final p [ 16782.52664673     47.15312996]\n",
        "RV -950256.686042\n",
        "Procesing RV  26\n",
        "p_guess"
       ]
      },
      {
       "output_type": "stream",
       "stream": "stdout",
       "text": [
        " [19811, 10]\n",
        "final p [  1.98108140e+04   6.37124890e+00]\n",
        "RV -86957.1824911\n",
        "Procesing RV  27\n",
        "p_guess"
       ]
      },
      {
       "output_type": "stream",
       "stream": "stdout",
       "text": [
        " [19251, 10]\n",
        "final p [ 19250.38868642     63.5076747 ]\n",
        "RV -246616.271655\n",
        "Procesing RV  28\n",
        "p_guess"
       ]
      },
      {
       "output_type": "stream",
       "stream": "stdout",
       "text": [
        " [9974, 10]\n",
        "final p [ 9977.53322007    34.36412792]\n",
        "RV -2890399.7249\n",
        "Procesing RV  29\n",
        "p_guess"
       ]
      },
      {
       "output_type": "stream",
       "stream": "stdout",
       "text": [
        " [20132, 10]\n",
        "final p [ 20134.88808196     31.01072971]\n",
        "RV 5417.00481092\n",
        "Procesing RV  30\n",
        "p_guess"
       ]
      },
      {
       "output_type": "stream",
       "stream": "stdout",
       "text": [
        " [20813, 10]\n",
        "final p [ 20813.06828002     45.03471389]\n",
        "RV 199003.650422\n",
        "Procesing RV  31\n",
        "p_guess"
       ]
      },
      {
       "output_type": "stream",
       "stream": "stdout",
       "text": [
        " [19976, 10]\n",
        "final p [ 19977.46471121     26.89244547]\n",
        "RV -39344.5612582\n",
        "Procesing RV  32\n",
        "p_guess"
       ]
      },
      {
       "output_type": "stream",
       "stream": "stdout",
       "text": [
        " [20099, 10]\n",
        "final p [ 20101.10890909     39.099138  ]\n",
        "RV -2565.96184855\n",
        "Procesing RV  33\n",
        "p_guess"
       ]
      },
      {
       "output_type": "stream",
       "stream": "stdout",
       "text": [
        " [22756, 10]\n",
        "final p [ 22751.07340731     57.08980916]\n",
        "RV 752967.249113\n",
        "Procesing RV  34\n",
        "p_guess"
       ]
      },
      {
       "output_type": "stream",
       "stream": "stdout",
       "text": [
        " [16972, 10]\n",
        "final p [  1.69728265e+04   4.36951150e+00]\n",
        "RV -894665.364528\n",
        "Procesing RV  35\n",
        "p_guess"
       ]
      },
      {
       "output_type": "stream",
       "stream": "stdout",
       "text": [
        " [20133, 10]\n",
        "final p [ 20139.51772422     44.14308176]\n",
        "RV 8268.09928977\n",
        "Procesing RV  36\n",
        "p_guess"
       ]
      },
      {
       "output_type": "stream",
       "stream": "stdout",
       "text": [
        " [20119, 10]\n",
        "final p [ 20118.57501697     32.75925656]\n",
        "RV 2280.85497649\n",
        "Procesing RV  37\n",
        "p_guess"
       ]
      },
      {
       "output_type": "stream",
       "stream": "stdout",
       "text": [
        " [20120, 10]\n",
        "final p [ 20121.23964034     33.54202812]\n",
        "RV 3136.17559267\n",
        "Procesing RV  38\n",
        "p_guess"
       ]
      },
      {
       "output_type": "stream",
       "stream": "stdout",
       "text": [
        " [20133, 10]\n",
        "final p [ 20133.15515142     49.13310043]\n",
        "RV 5131.89929455\n",
        "Procesing RV  39\n",
        "p_guess"
       ]
      },
      {
       "output_type": "stream",
       "stream": "stdout",
       "text": [
        " [20131, 10]\n",
        "final p [ 20131.36216208     50.30313471]\n",
        "RV 4561.68826183\n",
        "Procesing RV  40\n",
        "p_guess"
       ]
      },
      {
       "output_type": "stream",
       "stream": "stdout",
       "text": [
        " [20131, 10]\n",
        "final p [ 20130.81575621     49.54060883]\n",
        "RV 4276.58274546\n"
       ]
      }
     ],
     "prompt_number": 19
    },
    {
     "cell_type": "code",
     "collapsed": false,
     "input": [
      "#adds stetson's BVRIU\n",
      "# for i in allStarNames:\n",
      "    \n",
      "#     search = i.strip()\n",
      "\n",
      "#     if np.sum(stetson_df.target == search)>0:\n",
      "#         print search        \n",
      "#         filehandler = open(i.strip()+'.obj', 'r') \n",
      "#         thisStar = pickle.load(filehandler) \n",
      "# #         os.remove(i.strip()+'.obj')\n",
      "#         thisStar.B = stetson_df[stetson_df.target == search].B.values[0],\n",
      "#         thisStar.I = stetson_df[stetson_df.target == search].I.values[0],\n",
      "#         thisStar.R = stetson_df[stetson_df.target == search].R.values[0],\n",
      "#         thisStar.U = stetson_df[stetson_df.target == search].U.values[0],\n",
      "#         thisStar.V = stetson_df[stetson_df.target == search].mag.values[0],\n",
      "#         thisStar.BV = stetson_df[stetson_df.target == search].BV.values[0]\n",
      "    \n",
      "#         file_pi = open(i.strip()+'.obj', 'w') \n",
      "#         pickle.dump(thisStar, file_pi) \n",
      "#         file_pi.close()\n",
      "    "
     ],
     "language": "python",
     "metadata": {},
     "outputs": [],
     "prompt_number": 10
    },
    {
     "cell_type": "code",
     "collapsed": false,
     "input": [
      "# #adds synthetic spectra RV\n",
      "\n",
      "# out = load_spectrum('5000_30_m05p04_casolar.ms.fits')\n",
      "\n",
      "# for i in allStarNames[30:31]:\n",
      "    \n",
      "#     filehandler = open(i.strip()+'.obj', 'r') \n",
      "#     thisStar = pickle.load(filehandler) \n",
      "\n",
      "#     #cam1\n",
      "#     lambdaSyn = out.transpose()[0]\n",
      "#     fluxSyn = out.transpose()[1]\n",
      "    \n",
      "#     lambdas = thisStar.exposures.cam1_wavelengths\n",
      "#     fluxes = thisStar.exposures.cam1_fluxes\n",
      "#     LambdaRangeMask = ((lambdaSyn>=np.min(lambdas[0])) & (lambdaSyn<+np.max(lambdas[0])))\n",
      "#     lambdaSyn = lambdaSyn[LambdaRangeMask]\n",
      "#     fluxSyn= fluxSyn[LambdaRangeMask]\n",
      "\n",
      "#     xDef = float(lambda2.shape[0])/lambda1.shape[0]\n",
      "    \n",
      "#     thisStar.exposures.cam1_synRVs = RVs()\n",
      "#     thisStar.exposures.cam1_synRVs.bulk_calculate_abs_RV(lambdas, fluxes, lambdaSyn, fluxSyn, xDef=xDef*50, xDef2 = 50)\n",
      "\n",
      "#     #cam2\n",
      "#     lambdaSyn = out.transpose()[0]\n",
      "#     fluxSyn = out.transpose()[1]\n",
      "    \n",
      "#     lambdas = thisStar.exposures.cam2_wavelengths\n",
      "#     fluxes = thisStar.exposures.cam2_fluxes\n",
      "#     LambdaRangeMask = ((lambdaSyn>=np.min(lambdas[0])) & (lambdaSyn<+np.max(lambdas[0])))\n",
      "#     lambdaSyn = lambdaSyn[LambdaRangeMask]\n",
      "#     fluxSyn= fluxSyn[LambdaRangeMask]\n",
      "\n",
      "#     xDef = float(lambda2.shape[0])/lambda1.shape[0]\n",
      "    \n",
      "#     thisStar.exposures.cam2_synRVs = RVs()\n",
      "#     thisStar.exposures.cam2_synRVs.bulk_calculate_abs_RV(lambdas, fluxes, lambdaSyn, fluxSyn, xDef=xDef*50, xDef2 = 50)\n",
      "\n",
      "\n",
      "#     #cam3\n",
      "#     lambdaSyn = out.transpose()[0]\n",
      "#     fluxSyn = out.transpose()[1]\n",
      "    \n",
      "#     lambdas = thisStar.exposures.cam3_wavelengths\n",
      "#     fluxes = thisStar.exposures.cam3_fluxes\n",
      "#     LambdaRangeMask = ((lambdaSyn>=np.min(lambdas[0])) & (lambdaSyn<+np.max(lambdas[0])))\n",
      "#     lambdaSyn = lambdaSyn[LambdaRangeMask]\n",
      "#     fluxSyn= fluxSyn[LambdaRangeMask]\n",
      "\n",
      "#     xDef = float(lambda2.shape[0])/lambda1.shape[0]\n",
      "    \n",
      "#     thisStar.exposures.cam3_synRVs = RVs()\n",
      "#     thisStar.exposures.cam3_synRVs.bulk_calculate_abs_RV(lambdas, fluxes, lambdaSyn, fluxSyn, xDef=xDef*50, xDef2 = 50)\n",
      "    \n",
      "\n",
      "#     #cam4\n",
      "#     lambdaSyn = out.transpose()[0]\n",
      "#     fluxSyn = out.transpose()[1]\n",
      "    \n",
      "#     lambdas = thisStar.exposures.cam4_wavelengths\n",
      "#     fluxes = thisStar.exposures.cam4_fluxes\n",
      "#     LambdaRangeMask = ((lambdaSyn>=np.min(lambdas[0])) & (lambdaSyn<+np.max(lambdas[0])))\n",
      "#     lambdaSyn = lambdaSyn[LambdaRangeMask]\n",
      "#     fluxSyn= fluxSyn[LambdaRangeMask]\n",
      "\n",
      "#     xDef = float(lambda2.shape[0])/lambda1.shape[0]\n",
      "    \n",
      "#     thisStar.exposures.cam4_synRVs = RVs()\n",
      "#     thisStar.exposures.cam4_synRVs.bulk_calculate_abs_RV(lambdas, fluxes, lambdaSyn, fluxSyn, xDef=xDef*50, xDef2 = 50)\n",
      "    \n",
      "# #     file_pi = open(i.strip()+'.obj', 'w') \n",
      "# #     pickle.dump(thisStar, file_pi) \n",
      "# #     file_pi.close()\n",
      "    "
     ],
     "language": "python",
     "metadata": {},
     "outputs": [
      {
       "output_type": "stream",
       "stream": "stdout",
       "text": [
        "Procesing RV  0\n",
        "RV"
       ]
      },
      {
       "output_type": "stream",
       "stream": "stdout",
       "text": [
        " 1643489.66971\n",
        "Procesing RV  1\n",
        "RV"
       ]
      },
      {
       "output_type": "stream",
       "stream": "stdout",
       "text": [
        " 1658121.7716\n",
        "Procesing RV  2\n",
        "RV"
       ]
      },
      {
       "output_type": "stream",
       "stream": "stdout",
       "text": [
        " 1668334.27957\n",
        "Procesing RV  3\n",
        "RV"
       ]
      },
      {
       "output_type": "stream",
       "stream": "stdout",
       "text": [
        " 1568206.7564\n",
        "Procesing RV  4\n",
        "RV"
       ]
      },
      {
       "output_type": "stream",
       "stream": "stdout",
       "text": [
        " 1557394.98145\n",
        "Procesing RV  5\n",
        "RV"
       ]
      },
      {
       "output_type": "stream",
       "stream": "stdout",
       "text": [
        " 1656573.66525\n",
        "Procesing RV  6\n",
        "RV"
       ]
      },
      {
       "output_type": "stream",
       "stream": "stdout",
       "text": [
        " 1555746.99728\n",
        "Procesing RV  7\n",
        "RV"
       ]
      },
      {
       "output_type": "stream",
       "stream": "stdout",
       "text": [
        " 1558868.17942\n",
        "Procesing RV  8\n",
        "RV"
       ]
      },
      {
       "output_type": "stream",
       "stream": "stdout",
       "text": [
        " 1683365.89278\n",
        "Procesing RV  9\n",
        "RV"
       ]
      },
      {
       "output_type": "stream",
       "stream": "stdout",
       "text": [
        " 1559991.80499\n",
        "Procesing RV  10\n",
        "RV"
       ]
      },
      {
       "output_type": "stream",
       "stream": "stdout",
       "text": [
        " 1563038.07877\n",
        "Procesing RV  11\n",
        "RV"
       ]
      },
      {
       "output_type": "stream",
       "stream": "stdout",
       "text": [
        " 1594674.38098\n",
        "Procesing RV  12\n",
        "RV"
       ]
      },
      {
       "output_type": "stream",
       "stream": "stdout",
       "text": [
        " 1562363.90342\n",
        "Procesing RV  13\n",
        "RV"
       ]
      },
      {
       "output_type": "stream",
       "stream": "stdout",
       "text": [
        " 1643514.63916\n",
        "Procesing RV  14\n",
        "RV"
       ]
      },
      {
       "output_type": "stream",
       "stream": "stdout",
       "text": [
        " -123848.507471\n",
        "Procesing RV  15\n",
        "RV"
       ]
      },
      {
       "output_type": "stream",
       "stream": "stdout",
       "text": [
        " 1642366.04414\n",
        "Procesing RV  0\n",
        "RV"
       ]
      },
      {
       "output_type": "stream",
       "stream": "stdout",
       "text": [
        " 20268.7825926\n",
        "Procesing RV  1\n",
        "RV"
       ]
      },
      {
       "output_type": "stream",
       "stream": "stdout",
       "text": [
        " -5532524.4444\n",
        "Procesing RV  2\n",
        "RV"
       ]
      },
      {
       "output_type": "stream",
       "stream": "stdout",
       "text": [
        " 2682617.07679\n",
        "Procesing RV  3\n",
        "RV"
       ]
      },
      {
       "output_type": "stream",
       "stream": "stdout",
       "text": [
        " 21163.6056434\n",
        "Procesing RV  4\n",
        "RV"
       ]
      },
      {
       "output_type": "stream",
       "stream": "stdout",
       "text": [
        " 21995.999179\n",
        "Procesing RV  5\n",
        "RV"
       ]
      },
      {
       "output_type": "stream",
       "stream": "stdout",
       "text": [
        " 20601.7400068\n",
        "Procesing RV  6\n",
        "RV"
       ]
      },
      {
       "output_type": "stream",
       "stream": "stdout",
       "text": [
        " 20164.7334006\n",
        "Procesing RV  7\n",
        "RV"
       ]
      },
      {
       "output_type": "stream",
       "stream": "stdout",
       "text": [
        " 21558.9925728\n",
        "Procesing RV  8\n",
        "RV"
       ]
      },
      {
       "output_type": "stream",
       "stream": "stdout",
       "text": [
        " 19436.3890569\n",
        "Procesing RV  9\n",
        "RV"
       ]
      },
      {
       "output_type": "stream",
       "stream": "stdout",
       "text": [
        " 21683.8516031\n",
        "Procesing RV  10\n",
        "RV"
       ]
      },
      {
       "output_type": "stream",
       "stream": "stdout",
       "text": [
        " 21121.9859666\n",
        "Procesing RV  11\n",
        "RV"
       ]
      },
      {
       "output_type": "stream",
       "stream": "stdout",
       "text": [
        " 21808.7106335\n",
        "Procesing RV  12\n",
        "RV"
       ]
      },
      {
       "output_type": "stream",
       "stream": "stdout",
       "text": [
        " 12964.5293174\n",
        "Procesing RV  13\n",
        "RV"
       ]
      },
      {
       "output_type": "stream",
       "stream": "stdout",
       "text": [
        " 10071.9617811\n",
        "Procesing RV  14\n",
        "RV"
       ]
      },
      {
       "output_type": "stream",
       "stream": "stdout",
       "text": [
        " 11133.263539\n",
        "Procesing RV  15\n",
        "RV"
       ]
      },
      {
       "output_type": "stream",
       "stream": "stdout",
       "text": [
        " 11362.1717613\n",
        "Procesing RV  0\n",
        "RV"
       ]
      },
      {
       "output_type": "stream",
       "stream": "stdout",
       "text": [
        " 351087.080899\n",
        "Procesing RV  1\n",
        "RV"
       ]
      },
      {
       "output_type": "stream",
       "stream": "stdout",
       "text": [
        " 364488.597055\n",
        "Procesing RV  2\n",
        "RV"
       ]
      },
      {
       "output_type": "stream",
       "stream": "stdout",
       "text": [
        " 359320.218023\n",
        "Procesing RV  3\n",
        "RV"
       ]
      },
      {
       "output_type": "stream",
       "stream": "stdout",
       "text": [
        " 365123.31027\n",
        "Procesing RV  4\n",
        "RV"
       ]
      },
      {
       "output_type": "stream",
       "stream": "stdout",
       "text": [
        " 357144.058431\n",
        "Procesing RV  5\n",
        "RV"
       ]
      },
      {
       "output_type": "stream",
       "stream": "stdout",
       "text": [
        " 359918.661911\n",
        "Procesing RV  6\n",
        "RV"
       ]
      },
      {
       "output_type": "stream",
       "stream": "stdout",
       "text": [
        " 361242.49233\n",
        "Procesing RV  7\n",
        "RV"
       ]
      },
      {
       "output_type": "stream",
       "stream": "stdout",
       "text": [
        " 357234.731747\n",
        "Procesing RV  8\n",
        "RV"
       ]
      },
      {
       "output_type": "stream",
       "stream": "stdout",
       "text": [
        " 361043.011034\n",
        "Procesing RV  9\n",
        "RV"
       ]
      },
      {
       "output_type": "stream",
       "stream": "stdout",
       "text": [
        " 358467.88885\n",
        "Procesing RV  10\n",
        "RV"
       ]
      },
      {
       "output_type": "stream",
       "stream": "stdout",
       "text": [
        " 367644.028464\n",
        "Procesing RV  11\n",
        "RV"
       ]
      },
      {
       "output_type": "stream",
       "stream": "stdout",
       "text": [
        " 364706.213014\n",
        "Procesing RV  12\n",
        "RV"
       ]
      },
      {
       "output_type": "stream",
       "stream": "stdout",
       "text": [
        " 350289.155715\n",
        "Procesing RV  13\n",
        "RV"
       ]
      },
      {
       "output_type": "stream",
       "stream": "stdout",
       "text": [
        " 348675.170684\n",
        "Procesing RV  14\n",
        "RV"
       ]
      },
      {
       "output_type": "stream",
       "stream": "stdout",
       "text": [
        " 345048.23803\n",
        "Procesing RV  15\n",
        "RV"
       ]
      },
      {
       "output_type": "stream",
       "stream": "stdout",
       "text": [
        " 350488.637011\n",
        "Procesing RV  0\n",
        "RV"
       ]
      },
      {
       "output_type": "stream",
       "stream": "stdout",
       "text": [
        " -644096.594672\n",
        "Procesing RV  1\n",
        "RV"
       ]
      },
      {
       "output_type": "stream",
       "stream": "stdout",
       "text": [
        " -735451.113966\n",
        "Procesing RV  2\n",
        "RV"
       ]
      },
      {
       "output_type": "stream",
       "stream": "stdout",
       "text": [
        " -643709.433631\n",
        "Procesing RV  3\n",
        "RV"
       ]
      },
      {
       "output_type": "stream",
       "stream": "stdout",
       "text": [
        " -643337.759031\n",
        "Procesing RV  4\n",
        "RV"
       ]
      },
      {
       "output_type": "stream",
       "stream": "stdout",
       "text": [
        " -643616.514981\n",
        "Procesing RV  5\n",
        "RV"
       ]
      },
      {
       "output_type": "stream",
       "stream": "stdout",
       "text": [
        " -642888.652223\n",
        "Procesing RV  6\n",
        "RV"
       ]
      },
      {
       "output_type": "stream",
       "stream": "stdout",
       "text": [
        " -643926.243814\n",
        "Procesing RV  7\n",
        "RV"
       ]
      },
      {
       "output_type": "stream",
       "stream": "stdout",
       "text": [
        " -643244.840381\n",
        "Procesing RV  8\n",
        "RV"
       ]
      },
      {
       "output_type": "stream",
       "stream": "stdout",
       "text": [
        " -1239937.43716\n",
        "Procesing RV  9\n",
        "RV"
       ]
      },
      {
       "output_type": "stream",
       "stream": "stdout",
       "text": [
        " -644251.459088\n",
        "Procesing RV  10\n",
        "RV"
       ]
      },
      {
       "output_type": "stream",
       "stream": "stdout",
       "text": [
        " -734878.115625\n",
        "Procesing RV  11\n",
        "RV"
       ]
      },
      {
       "output_type": "stream",
       "stream": "stdout",
       "text": [
        " -609716.694208\n",
        "Procesing RV  12\n",
        "RV"
       ]
      },
      {
       "output_type": "stream",
       "stream": "stdout",
       "text": [
        " -642532.464065\n",
        "Procesing RV  13\n",
        "RV"
       ]
      },
      {
       "output_type": "stream",
       "stream": "stdout",
       "text": [
        " -642377.599649\n",
        "Procesing RV  14\n",
        "RV"
       ]
      },
      {
       "output_type": "stream",
       "stream": "stdout",
       "text": [
        " -642873.165781\n",
        "Procesing RV  15\n",
        "RV"
       ]
      },
      {
       "output_type": "stream",
       "stream": "stdout",
       "text": [
        " -643353.245473\n"
       ]
      }
     ],
     "prompt_number": 27
    },
    {
     "cell_type": "code",
     "collapsed": false,
     "input": [
      "# filehandler = open(allStarNames[79].strip()+'.obj', 'r') \n",
      "# thisStar = pickle.load(filehandler) "
     ],
     "language": "python",
     "metadata": {},
     "outputs": [],
     "prompt_number": 11
    },
    {
     "cell_type": "code",
     "collapsed": false,
     "input": [
      "# baryVels = []\n",
      "# for j in thisStar.exposures.JDs:\n",
      "#     vh, vb = toolbox.baryvel(j+2400000+0.5) \n",
      "#     ra = thisStar.RA_dec    #RA  in radians\n",
      "#     dec = thisStar.Dec_dec  #Dec in radians\n",
      "#     baryVels.append(-(vb[0]*np.cos(dec)*np.cos(ra) + vb[1]*np.cos(dec)*np.sin(ra) + vb[2]*np.sin(dec))*1000)\n",
      "# #         print baryVels\n",
      "# thisStar.baryVels = np.array(baryVels) - baryVels[0]\n",
      "# thisStar.absBaryVels = np.array(baryVels)\n"
     ],
     "language": "python",
     "metadata": {},
     "outputs": [],
     "prompt_number": 29
    },
    {
     "cell_type": "code",
     "collapsed": false,
     "input": [
      "# plt.scatter(thisStar.exposures.JDs, thisStar.exposures.cam1_synRVs.RVs)\n",
      "# plt.scatter(thisStar.exposures.JDs, thisStar.exposures.cam2_synRVs.RVs)\n",
      "# plt.scatter(thisStar.exposures.JDs, thisStar.exposures.cam3_synRVs.RVs)\n",
      "# plt.scatter(thisStar.exposures.JDs, thisStar.exposures.cam4_synRVs.RVs)\n",
      "# plt.scatter(thisStar.exposures.JDs, thisStar.exposures.cam1_synRVs.RVs+thisStar.absBaryVels, color = 'g')\n",
      "# plt.scatter(thisStar.exposures.JDs, thisStar.exposures.cam2_synRVs.RVs+thisStar.absBaryVels, color = 'g')\n",
      "# plt.scatter(thisStar.exposures.JDs, thisStar.exposures.cam3_synRVs.RVs+thisStar.absBaryVels, color = 'g')\n",
      "# plt.scatter(thisStar.exposures.JDs, thisStar.exposures.cam4_synRVs.RVs+thisStar.absBaryVels, color = 'g')\n",
      "# plt.plot(thisStar.exposures.JDs, thisStar.absBaryVels)\n",
      "# plt.show()"
     ],
     "language": "python",
     "metadata": {},
     "outputs": [],
     "prompt_number": 46
    },
    {
     "cell_type": "code",
     "collapsed": false,
     "input": [
      "# # calculates RVs from synthetic spcetra\n",
      "# out = load_spectrum('5000_30_m05p04_casolar.ms.fits')\n",
      "# lambdaSyn = out.transpose()[0]\n",
      "# fluxSyn = out.transpose()[1]\n",
      "\n",
      "# lambdas = thisStar.exposures.cam2_wavelengths\n",
      "# fluxes = thisStar.exposures.cam2_fluxes\n",
      "# lambda1 = lambdas[8]\n",
      "# flux1 = fluxes[8]\n",
      "# LambdaRangeMask = ((lambdaSyn>=np.min(lambda1)) & (lambdaSyn<+np.max(lambda1)))\n",
      "# lambdaSyn = lambdaSyn[LambdaRangeMask]\n",
      "# fluxSyn= fluxSyn[LambdaRangeMask]\n",
      "# lambda2 = lambdaSyn\n",
      "# flux2 = fluxSyn\n",
      "# xDef = float(lambda2.shape[0])/lambda1.shape[0]"
     ],
     "language": "python",
     "metadata": {},
     "outputs": [],
     "prompt_number": 15
    },
    {
     "cell_type": "code",
     "collapsed": false,
     "input": [
      "# testRV.bulk_calculate_abs_RV(lambdas, fluxes, lambda2, flux2, xDef=xDef*50, xDef2 = 50)"
     ],
     "language": "python",
     "metadata": {},
     "outputs": [
      {
       "output_type": "stream",
       "stream": "stdout",
       "text": [
        "Procesing RV  0\n",
        "RV"
       ]
      },
      {
       "output_type": "stream",
       "stream": "stdout",
       "text": [
        " 25866.6291197\n",
        "Procesing RV  1\n",
        "RV"
       ]
      },
      {
       "output_type": "stream",
       "stream": "stdout",
       "text": [
        " 25783.3897661\n",
        "Procesing RV  2\n",
        "RV"
       ]
      },
      {
       "output_type": "stream",
       "stream": "stdout",
       "text": [
        " 25783.3897661\n",
        "Procesing RV  3\n",
        "RV"
       ]
      },
      {
       "output_type": "stream",
       "stream": "stdout",
       "text": [
        " 12839.6702871\n",
        "Procesing RV  4\n",
        "RV"
       ]
      },
      {
       "output_type": "stream",
       "stream": "stdout",
       "text": [
        " 12881.2899639\n",
        "Procesing RV  5\n",
        "RV"
       ]
      },
      {
       "output_type": "stream",
       "stream": "stdout",
       "text": [
        " 12818.8604487\n",
        "Procesing RV  6\n",
        "RV"
       ]
      },
      {
       "output_type": "stream",
       "stream": "stdout",
       "text": [
        " 11424.6012765\n",
        "Procesing RV  7\n",
        "RV"
       ]
      },
      {
       "output_type": "stream",
       "stream": "stdout",
       "text": [
        " 27801.94409\n",
        "Procesing RV  8\n",
        "RV"
       ]
      },
      {
       "output_type": "stream",
       "stream": "stdout",
       "text": [
        " 27968.4227972\n",
        "Procesing RV  9\n",
        "RV"
       ]
      },
      {
       "output_type": "stream",
       "stream": "stdout",
       "text": [
        " 27989.2326355\n",
        "Procesing RV  10\n",
        "RV"
       ]
      },
      {
       "output_type": "stream",
       "stream": "stdout",
       "text": [
        " 28218.1408578\n",
        "Procesing RV  11\n",
        "RV"
       ]
      },
      {
       "output_type": "stream",
       "stream": "stdout",
       "text": [
        " 28280.570373\n",
        "Procesing RV  12\n",
        "RV"
       ]
      },
      {
       "output_type": "stream",
       "stream": "stdout",
       "text": [
        " 28280.570373\n",
        "Procesing RV  13\n",
        "RV"
       ]
      },
      {
       "output_type": "stream",
       "stream": "stdout",
       "text": [
        " 12548.3325496\n",
        "Procesing RV  14\n",
        "RV"
       ]
      },
      {
       "output_type": "stream",
       "stream": "stdout",
       "text": [
        " 14109.0704289\n",
        "Procesing RV  15\n",
        "RV"
       ]
      },
      {
       "output_type": "stream",
       "stream": "stdout",
       "text": [
        " 12881.2899639\n",
        "Procesing RV  16\n",
        "RV"
       ]
      },
      {
       "output_type": "stream",
       "stream": "stdout",
       "text": [
        " 12922.9096406\n",
        "Procesing RV  17\n",
        "empty after removing zeros"
       ]
      },
      {
       "output_type": "stream",
       "stream": "stdout",
       "text": [
        "\n",
        "RV"
       ]
      },
      {
       "output_type": "stream",
       "stream": "stdout",
       "text": [
        " 0\n",
        "Procesing RV  18\n",
        "empty after removing zeros"
       ]
      },
      {
       "output_type": "stream",
       "stream": "stdout",
       "text": [
        "\n",
        "RV"
       ]
      },
      {
       "output_type": "stream",
       "stream": "stdout",
       "text": [
        " 0\n",
        "Procesing RV  19\n",
        "empty after removing zeros"
       ]
      },
      {
       "output_type": "stream",
       "stream": "stdout",
       "text": [
        "\n",
        "RV"
       ]
      },
      {
       "output_type": "stream",
       "stream": "stdout",
       "text": [
        " 0\n",
        "Procesing RV  20\n",
        "RV"
       ]
      },
      {
       "output_type": "stream",
       "stream": "stdout",
       "text": [
        " 28488.6687569\n",
        "Procesing RV  21\n",
        "RV"
       ]
      },
      {
       "output_type": "stream",
       "stream": "stdout",
       "text": [
        " 28530.2884337\n",
        "Procesing RV  22\n",
        "RV"
       ]
      },
      {
       "output_type": "stream",
       "stream": "stdout",
       "text": [
        " 28571.9081105\n",
        "Procesing RV  23\n",
        "RV"
       ]
      },
      {
       "output_type": "stream",
       "stream": "stdout",
       "text": [
        " 28613.5277873\n",
        "Procesing RV  24\n",
        "RV"
       ]
      },
      {
       "output_type": "stream",
       "stream": "stdout",
       "text": [
        " 28675.9573024\n",
        "Procesing RV  25\n",
        "RV"
       ]
      },
      {
       "output_type": "stream",
       "stream": "stdout",
       "text": [
        " 28738.3868176\n",
        "Procesing RV  26\n",
        "RV"
       ]
      },
      {
       "output_type": "stream",
       "stream": "stdout",
       "text": [
        " 4307.63654688\n",
        "Procesing RV  27\n",
        "RV"
       ]
      },
      {
       "output_type": "stream",
       "stream": "stdout",
       "text": [
        " 4266.0168701\n",
        "Procesing RV  28\n",
        "RV"
       ]
      },
      {
       "output_type": "stream",
       "stream": "stdout",
       "text": [
        " 4266.0168701\n"
       ]
      }
     ],
     "prompt_number": 24
    },
    {
     "cell_type": "code",
     "collapsed": false,
     "input": [
      "# lambda1Clean, flux1Clean = testRV.clean_flux(flux1, xDef*100, lambda1)\n",
      "# lambda2Clean, flux2Clean = testRV.clean_flux(flux2, 100, lambda2)"
     ],
     "language": "python",
     "metadata": {},
     "outputs": []
    },
    {
     "cell_type": "code",
     "collapsed": false,
     "input": [
      "\n",
      "# plt.plot(lambda1Clean, flux1Clean)\n",
      "# plt.plot(lambda2Clean, flux2Clean)\n",
      "# plt.show()\n",
      "# # # # if ((lambda1Clean.shape[0]>0) &\n",
      "# # # #     (flux1Clean.shape[0]>0) &\n",
      "# # # #     (lambda2Clean.shape[0]>0) &\n",
      "# # # #     (flux2Clean.shape[0]>0)):\n",
      "# a = signal.fftconvolve(flux1Clean, flux1Clean[::-1], mode='same') \n",
      "# b = signal.fftconvolve(flux1Clean, flux1Clean[::-1], mode='full') \n",
      "# c = signal.fftconvolve(flux1Clean, flux1Clean[::-1], mode='valid') \n",
      "# # # #     corrPeak = np.where(a==max(a))[0][0]\n",
      "# # # #     centralLambda = lambda2Clean[len(lambda2Clean)/2]\n",
      "# # # #     shiftLambda = centralLambda - lambda2Clean[corrPeak]\n",
      "# # # #     RV = self.c/centralLambda * shiftLambda\n",
      "# # # # else:\n",
      "# # # #     RV = 0\n"
     ],
     "language": "python",
     "metadata": {},
     "outputs": [],
     "prompt_number": 20
    },
    {
     "cell_type": "code",
     "collapsed": false,
     "input": [
      "# plt.plot(a)\n",
      "# plt.plot(b)\n",
      "# plt.plot(c)\n",
      "# plt.show()"
     ],
     "language": "python",
     "metadata": {},
     "outputs": [],
     "prompt_number": 21
    },
    {
     "cell_type": "code",
     "collapsed": false,
     "input": [
      "# a = np.array([0,1,0])\n",
      "# b = np.array([0,1,0,0])\n",
      "# c = signal.fftconvolve(a, b[::-1], mode = 'same') "
     ],
     "language": "python",
     "metadata": {},
     "outputs": [],
     "prompt_number": 22
    },
    {
     "cell_type": "code",
     "collapsed": false,
     "input": [
      "# a = signal.fftconvolve(flux1Clean, flux2Clean[::-1], mode='same') "
     ],
     "language": "python",
     "metadata": {},
     "outputs": []
    },
    {
     "cell_type": "code",
     "collapsed": false,
     "input": [
      "# plt.plot(lambda2Clean, a)\n",
      "# mid = lambda2Clean[len(lambda2Clean)/2]\n",
      "# plt.plot([mid,mid], [0,np.max(a)])\n",
      "# plt.show()"
     ],
     "language": "python",
     "metadata": {},
     "outputs": []
    },
    {
     "cell_type": "code",
     "collapsed": false,
     "input": [
      "# corrPeak = np.where(a==max(a))[0][0]\n",
      "# centralLambda = lambda2Clean[len(lambda2Clean)/2]\n",
      "# shiftLambda = centralLambda - lambda1Clean[corrPeak]\n",
      "# print shiftLambda"
     ],
     "language": "python",
     "metadata": {},
     "outputs": []
    },
    {
     "cell_type": "code",
     "collapsed": false,
     "input": [
      "# testRV.c/centralLambda * shiftLambda"
     ],
     "language": "python",
     "metadata": {},
     "outputs": []
    },
    {
     "cell_type": "code",
     "collapsed": false,
     "input": [],
     "language": "python",
     "metadata": {},
     "outputs": []
    },
    {
     "cell_type": "code",
     "collapsed": false,
     "input": [
      "# # CRVAL1 = a[0].header['CRVAL1'] # / Co-ordinate value of axis 1                    \n",
      "# # CDELT1 = a[0].header['CDELT1'] #  / Co-ordinate increment along axis 1             \n",
      "# # CRPIX1 = a[0].header['CRPIX1'] #  / Reference pixel along axis 1                   \n",
      "\n",
      "# # #Creates an array of offset wavelength from the referece px/wavelength\n",
      "# # Lambda = CRVAL1 - (CRPIX1 - (np.arange(int(CRPIX1)*2)) -1)* CDELT1\n",
      "# # print Lambda.shape\n",
      "# plt.plot(Lambda[::10],flux[::10])\n",
      "# plt.plot(thisStar.exposures.cam1_wavelengths[0], thisStar.exposures.cam1_fluxes[0]/np.median(thisStar.exposures.cam1_fluxes[0]) , color = 'b')\n",
      "# plt.plot(thisStar.exposures.cam2_wavelengths[0], thisStar.exposures.cam2_fluxes[0]/np.median(thisStar.exposures.cam2_fluxes[0]) , color = 'g')\n",
      "# plt.plot(thisStar.exposures.cam3_wavelengths[0], thisStar.exposures.cam3_fluxes[0]/np.median(thisStar.exposures.cam3_fluxes[0]) , color = 'r')\n",
      "# plt.plot(thisStar.exposures.cam4_wavelengths[0], thisStar.exposures.cam4_fluxes[0]/np.median(thisStar.exposures.cam4_fluxes[0]) , color = 'cyan')\n",
      "# plt.show()"
     ],
     "language": "python",
     "metadata": {},
     "outputs": []
    },
    {
     "cell_type": "code",
     "collapsed": false,
     "input": [
      "# def get_wavelength(start_wave, wave_per_pixel, size):\n",
      "#     \"\"\"\n",
      "#     Obtain an array of wavelengths according to input values.\n",
      "\n",
      "#     Parameters\n",
      "#     ----------\n",
      "\n",
      "#     start_wave: float,\n",
      "#         Starting wavelength.\n",
      "\n",
      "#     wave_per_pixel: float,\n",
      "#         Wavelength per pixel.\n",
      "\n",
      "#     size: int,\n",
      "#         Size of array.\n",
      "\n",
      "#     Returns\n",
      "#     -------\n",
      "\n",
      "#     wave_array: numpy.ndarray,\n",
      "#         Wavelength array\n",
      "#     \"\"\"\n",
      "    \n",
      "#     return np.array([start_wave + i*wave_per_pixel for i in range(size)])\n",
      "\n",
      "\n",
      "# def get_wstart(ref, wave_ref, wave_per_pixel):\n",
      "#     \"\"\"\n",
      "#     Obtain the starting wavelength of a spectrum.\n",
      "\n",
      "#     Parameters\n",
      "#     ----------\n",
      "\n",
      "#     ref: int,\n",
      "#         Reference pixel.\n",
      "    \n",
      "#     wave_ref: float,\n",
      "#         Coordinate at reference pixel.\n",
      "\n",
      "#     wave_per_pixel: float,\n",
      "#         Coordinate increase per pixel.\n",
      "\n",
      "#     Returns\n",
      "#     -------\n",
      "\n",
      "#     wstart: float,\n",
      "#         Starting wavelength.\n",
      "#     \"\"\"\n",
      "    \n",
      "#     return wave_ref - ((ref-1) * wave_per_pixel)\n",
      "\n",
      "\n",
      "# def get_wavelength(start_wave, wave_per_pixel, size):\n",
      "#     \"\"\"\n",
      "#     Obtain an array of wavelengths according to input values.\n",
      "\n",
      "#     Parameters\n",
      "#     ----------\n",
      "\n",
      "#     start_wave: float,\n",
      "#         Starting wavelength.\n",
      "\n",
      "#     wave_per_pixel: float,\n",
      "#         Wavelength per pixel.\n",
      "\n",
      "#     size: int,\n",
      "#         Size of array.\n",
      "\n",
      "#     Returns\n",
      "#     -------\n",
      "\n",
      "#     wave_array: numpy.ndarray,\n",
      "#         Wavelength array\n",
      "#     \"\"\"\n",
      "    \n",
      "#     return np.array([start_wave + i*wave_per_pixel for i in range(size)])\n",
      "\n",
      "# def load_spectrum(fname):\n",
      "#     \"\"\"\n",
      "#     Loads the spectrum in FITS format to a numpy.darray.\n",
      "\n",
      "#     Parameters\n",
      "#     ----------\n",
      "\n",
      "#     fname: str,\n",
      "#         File name of the FITS spectrum.\n",
      "\n",
      "#     Returns\n",
      "#     -------\n",
      "\n",
      "#     spectrum: ndarray,\n",
      "#         Spectrum array with wavelength and flux.\n",
      "#     \"\"\"\n",
      "    \n",
      "#     # Load spectrum\n",
      "#     spec_FITS = pf.open(fname)\n",
      "#     #Load flux\n",
      "#     flux = spec_FITS[0].data[0]\n",
      "    \n",
      "#     #Obtain parameters for wavelength determination from header\n",
      "#     ref_pixel = spec_FITS[0].header['CRPIX1']       #Reference pixel\n",
      "#     coord_ref_pixel = spec_FITS[0].header['CRVAL1'] #Wavelength at reference pixel\n",
      "#     wave_pixel = spec_FITS[0].header['CDELT1']      #Wavelength per pixel\n",
      "    \n",
      "#     #Get starting wavelength\n",
      "#     wstart = get_wstart(ref_pixel, coord_ref_pixel, wave_pixel)\n",
      "    \n",
      "#     #Obtain array of wavelength\n",
      "#     wave = get_wavelength(wstart, wave_pixel, len(flux))\n",
      "# #     print wave\n",
      "#     return np.dstack((wave, flux))[0]"
     ],
     "language": "python",
     "metadata": {},
     "outputs": [],
     "prompt_number": 14
    },
    {
     "cell_type": "code",
     "collapsed": false,
     "input": [
      "# #plots RV/baryVel/corrRV vs JD\n",
      "# for i in allStarNames[10:40]:\n",
      "    \n",
      "#     filehandler = open(i.strip()+'.obj', 'r') \n",
      "#     thisStar = pickle.load(filehandler) \n",
      "    \n",
      "# #     thisStar.calculate_baryVels()\n",
      "    \n",
      "# #     plt.scatter(thisStar.exposures.JDs, np.array(thisStar.exposures.RVs.RVs), color = 'r', label = 'deltaRV (wrt t0)')\n",
      "# #     plt.plot(thisStar.exposures.JDs, np.array(thisStar.baryVels)/1000, color = 'r')\n",
      "    \n",
      "#     plt.scatter(thisStar.exposures.JDs, (np.array(thisStar.exposures.RVs.RVs)-np.array(thisStar.baryVels)), color = 'g', label='deltaRV(barycentre corr)')    \n",
      "#     # plt.errorbar(RV.JD, RV.cleanRV, yerr = RV.dRV ,fmt='o', label = target + '(' + str(RV.magList[0]) + ') Clean RV')\n",
      "# #     plt.errorbar(meanJDs, (np.array(meanRVs)-np.array(meanBary)), yerr = np.array(sigRV),fmt='o', color = 'g')    \n",
      "# #     plt.plot(thisStar.exposures.JDs, thisStar.baryVels, color = 'b', label = 'Barycentric Vel.')\n",
      "#     plt.title(thisStar.name)\n",
      "#     plt.ylabel('RV [m/s]')\n",
      "#     plt.xlabel('JD')\n",
      "#     #     plt.axis([np.min(i.exposures.JDs),np.max(i.exposures.JDs), np.mean((np.array(i.baryVels)-np.array(i.RVs))/1000)-5, np.mean((np.array(i.baryVels)-np.array(i.RVs))/1000)+5])\n",
      "#     plt.legend()\n",
      "# #     plt.savefig(thisStar.name)\n",
      "# #     plt.close()\n",
      "#     plt.show()"
     ],
     "language": "python",
     "metadata": {},
     "outputs": []
    }
   ],
   "metadata": {}
  }
 ]
}