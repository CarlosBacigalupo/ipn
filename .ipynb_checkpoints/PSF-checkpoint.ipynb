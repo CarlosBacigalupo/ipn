{
 "metadata": {
  "name": ""
 },
 "nbformat": 3,
 "nbformat_minor": 0,
 "worksheets": [
  {
   "cells": [
    {
     "cell_type": "code",
     "collapsed": false,
     "input": [
      "import pylab as plt\n",
      "import numpy as np\n",
      "import glob \n",
      "import os\n",
      "import subprocess \n",
      "import toolbox\n",
      "import scipy.optimize as opt\n",
      "import pyfits as pf\n",
      "\n",
      "import HERMES\n",
      "reload(HERMES)"
     ],
     "language": "python",
     "metadata": {},
     "outputs": [
      {
       "metadata": {},
       "output_type": "pyout",
       "prompt_number": 1,
       "text": [
        "<module 'HERMES' from '/Users/Carlos/Documents/workspace/MyAstroLib/HERMES/__init__.pyc'>"
       ]
      }
     ],
     "prompt_number": 1
    },
    {
     "cell_type": "code",
     "collapsed": false,
     "input": [
      "a = HERMES.PSF()"
     ],
     "language": "python",
     "metadata": {},
     "outputs": [],
     "prompt_number": 2
    },
    {
     "cell_type": "code",
     "collapsed": false,
     "input": [
      "baseDir = '/Users/Carlos/Documents/HERMES/reductions/PSF/spectral/cam1'\n",
      "os.chdir(baseDir)"
     ],
     "language": "python",
     "metadata": {},
     "outputs": [],
     "prompt_number": 3
    },
    {
     "cell_type": "code",
     "collapsed": false,
     "input": [
      "\n",
      "a.sexParamFile = 'HERMES.sex'\n",
      "a.sex_path = '/usr/local/bin/'\n",
      "a.outputFileName = 'out.txt'\n",
      "# a.nFibres = 10\n",
      "\n",
      "# a.scienceFile = '07feb' + str(a.camera) + '0022.fits'\n",
      "# a.biasFile = 'BIAScombined2.fits'\n",
      "a.profile = 'gaussian'\n",
      "# a.flatFile = '07feb' + str(a.camera) + '0020.fits'\n",
      "# a.tramLinefile = '07feb' + str(a.camera) + '0020tlm.fits'\n",
      "\n",
      "a.camera=1\n",
      "a.arcFile = '07feb' + str(a.camera) + '0021.fits'"
     ],
     "language": "python",
     "metadata": {},
     "outputs": [],
     "prompt_number": 4
    },
    {
     "cell_type": "code",
     "collapsed": false,
     "input": [
      "#creates scatter plots from sigma size\n",
      "files = glob.glob('point_maps/*.txt')\n",
      "\n",
      "for dataFile in files:\n",
      "    data = np.loadtxt(dataFile, skiprows=1, delimiter = ',' , usecols=[0,1,2,3,4,5])\n",
      "    print dataFile\n",
      "            \n",
      "    plt.scatter(data[:,0],data[:,1], s=data[:,3]/np.max(data[:,3])*10, edgecolors='none')\n",
      "    plt.savefig(dataFile[:-19],dpi=700.)\n",
      "#     plt.show()\n",
      "    plt.close()"
     ],
     "language": "python",
     "metadata": {},
     "outputs": [
      {
       "output_type": "stream",
       "stream": "stdout",
       "text": [
        "point_maps/07feb10013.fitsspectralG1.txt\n",
        "point_maps/07feb10021.fitsspectralG1.txt"
       ]
      },
      {
       "output_type": "stream",
       "stream": "stdout",
       "text": [
        "\n",
        "point_maps/07feb10026.fitsspectralG1.txt"
       ]
      },
      {
       "output_type": "stream",
       "stream": "stdout",
       "text": [
        "\n",
        "point_maps/07feb10034.fitsspectralG1.txt"
       ]
      },
      {
       "output_type": "stream",
       "stream": "stdout",
       "text": [
        "\n",
        "point_maps/07feb10042.fitsspectralG1.txt"
       ]
      },
      {
       "ename": "KeyboardInterrupt",
       "evalue": "",
       "output_type": "pyerr",
       "traceback": [
        "\u001b[0;31m---------------------------------------------------------------------------\u001b[0m\n\u001b[0;31mKeyboardInterrupt\u001b[0m                         Traceback (most recent call last)",
        "\u001b[0;32m<ipython-input-5-b7a1079cce8d>\u001b[0m in \u001b[0;36m<module>\u001b[0;34m()\u001b[0m\n\u001b[1;32m      7\u001b[0m \u001b[0;34m\u001b[0m\u001b[0m\n\u001b[1;32m      8\u001b[0m     \u001b[0mplt\u001b[0m\u001b[0;34m.\u001b[0m\u001b[0mscatter\u001b[0m\u001b[0;34m(\u001b[0m\u001b[0mdata\u001b[0m\u001b[0;34m[\u001b[0m\u001b[0;34m:\u001b[0m\u001b[0;34m,\u001b[0m\u001b[0;36m0\u001b[0m\u001b[0;34m]\u001b[0m\u001b[0;34m,\u001b[0m\u001b[0mdata\u001b[0m\u001b[0;34m[\u001b[0m\u001b[0;34m:\u001b[0m\u001b[0;34m,\u001b[0m\u001b[0;36m1\u001b[0m\u001b[0;34m]\u001b[0m\u001b[0;34m,\u001b[0m \u001b[0ms\u001b[0m\u001b[0;34m=\u001b[0m\u001b[0mdata\u001b[0m\u001b[0;34m[\u001b[0m\u001b[0;34m:\u001b[0m\u001b[0;34m,\u001b[0m\u001b[0;36m3\u001b[0m\u001b[0;34m]\u001b[0m\u001b[0;34m/\u001b[0m\u001b[0mnp\u001b[0m\u001b[0;34m.\u001b[0m\u001b[0mmax\u001b[0m\u001b[0;34m(\u001b[0m\u001b[0mdata\u001b[0m\u001b[0;34m[\u001b[0m\u001b[0;34m:\u001b[0m\u001b[0;34m,\u001b[0m\u001b[0;36m3\u001b[0m\u001b[0;34m]\u001b[0m\u001b[0;34m)\u001b[0m\u001b[0;34m*\u001b[0m\u001b[0;36m10\u001b[0m\u001b[0;34m,\u001b[0m \u001b[0medgecolors\u001b[0m\u001b[0;34m=\u001b[0m\u001b[0;34m'none'\u001b[0m\u001b[0;34m)\u001b[0m\u001b[0;34m\u001b[0m\u001b[0m\n\u001b[0;32m----> 9\u001b[0;31m     \u001b[0mplt\u001b[0m\u001b[0;34m.\u001b[0m\u001b[0msavefig\u001b[0m\u001b[0;34m(\u001b[0m\u001b[0mdataFile\u001b[0m\u001b[0;34m[\u001b[0m\u001b[0;34m:\u001b[0m\u001b[0;34m-\u001b[0m\u001b[0;36m19\u001b[0m\u001b[0;34m]\u001b[0m\u001b[0;34m,\u001b[0m\u001b[0mdpi\u001b[0m\u001b[0;34m=\u001b[0m\u001b[0;36m700.\u001b[0m\u001b[0;34m)\u001b[0m\u001b[0;34m\u001b[0m\u001b[0m\n\u001b[0m\u001b[1;32m     10\u001b[0m \u001b[0;31m#     plt.show()\u001b[0m\u001b[0;34m\u001b[0m\u001b[0;34m\u001b[0m\u001b[0m\n\u001b[1;32m     11\u001b[0m     \u001b[0mplt\u001b[0m\u001b[0;34m.\u001b[0m\u001b[0mclose\u001b[0m\u001b[0;34m(\u001b[0m\u001b[0;34m)\u001b[0m\u001b[0;34m\u001b[0m\u001b[0m\n",
        "\u001b[0;32m/opt/local/Library/Frameworks/Python.framework/Versions/2.7/lib/python2.7/site-packages/matplotlib/pyplot.pyc\u001b[0m in \u001b[0;36msavefig\u001b[0;34m(*args, **kwargs)\u001b[0m\n\u001b[1;32m    470\u001b[0m \u001b[0;32mdef\u001b[0m \u001b[0msavefig\u001b[0m\u001b[0;34m(\u001b[0m\u001b[0;34m*\u001b[0m\u001b[0margs\u001b[0m\u001b[0;34m,\u001b[0m \u001b[0;34m**\u001b[0m\u001b[0mkwargs\u001b[0m\u001b[0;34m)\u001b[0m\u001b[0;34m:\u001b[0m\u001b[0;34m\u001b[0m\u001b[0m\n\u001b[1;32m    471\u001b[0m     \u001b[0mfig\u001b[0m \u001b[0;34m=\u001b[0m \u001b[0mgcf\u001b[0m\u001b[0;34m(\u001b[0m\u001b[0;34m)\u001b[0m\u001b[0;34m\u001b[0m\u001b[0m\n\u001b[0;32m--> 472\u001b[0;31m     \u001b[0;32mreturn\u001b[0m \u001b[0mfig\u001b[0m\u001b[0;34m.\u001b[0m\u001b[0msavefig\u001b[0m\u001b[0;34m(\u001b[0m\u001b[0;34m*\u001b[0m\u001b[0margs\u001b[0m\u001b[0;34m,\u001b[0m \u001b[0;34m**\u001b[0m\u001b[0mkwargs\u001b[0m\u001b[0;34m)\u001b[0m\u001b[0;34m\u001b[0m\u001b[0m\n\u001b[0m\u001b[1;32m    473\u001b[0m \u001b[0;34m\u001b[0m\u001b[0m\n\u001b[1;32m    474\u001b[0m \u001b[0;34m@\u001b[0m\u001b[0mdocstring\u001b[0m\u001b[0;34m.\u001b[0m\u001b[0mcopy_dedent\u001b[0m\u001b[0;34m(\u001b[0m\u001b[0mFigure\u001b[0m\u001b[0;34m.\u001b[0m\u001b[0mginput\u001b[0m\u001b[0;34m)\u001b[0m\u001b[0;34m\u001b[0m\u001b[0m\n",
        "\u001b[0;32m/opt/local/Library/Frameworks/Python.framework/Versions/2.7/lib/python2.7/site-packages/matplotlib/figure.pyc\u001b[0m in \u001b[0;36msavefig\u001b[0;34m(self, *args, **kwargs)\u001b[0m\n\u001b[1;32m   1361\u001b[0m             \u001b[0mkwargs\u001b[0m\u001b[0;34m.\u001b[0m\u001b[0msetdefault\u001b[0m\u001b[0;34m(\u001b[0m\u001b[0;34m'edgecolor'\u001b[0m\u001b[0;34m,\u001b[0m \u001b[0mrcParams\u001b[0m\u001b[0;34m[\u001b[0m\u001b[0;34m'savefig.edgecolor'\u001b[0m\u001b[0;34m]\u001b[0m\u001b[0;34m)\u001b[0m\u001b[0;34m\u001b[0m\u001b[0m\n\u001b[1;32m   1362\u001b[0m \u001b[0;34m\u001b[0m\u001b[0m\n\u001b[0;32m-> 1363\u001b[0;31m         \u001b[0mself\u001b[0m\u001b[0;34m.\u001b[0m\u001b[0mcanvas\u001b[0m\u001b[0;34m.\u001b[0m\u001b[0mprint_figure\u001b[0m\u001b[0;34m(\u001b[0m\u001b[0;34m*\u001b[0m\u001b[0margs\u001b[0m\u001b[0;34m,\u001b[0m \u001b[0;34m**\u001b[0m\u001b[0mkwargs\u001b[0m\u001b[0;34m)\u001b[0m\u001b[0;34m\u001b[0m\u001b[0m\n\u001b[0m\u001b[1;32m   1364\u001b[0m \u001b[0;34m\u001b[0m\u001b[0m\n\u001b[1;32m   1365\u001b[0m         \u001b[0;32mif\u001b[0m \u001b[0mtransparent\u001b[0m\u001b[0;34m:\u001b[0m\u001b[0;34m\u001b[0m\u001b[0m\n",
        "\u001b[0;32m/opt/local/Library/Frameworks/Python.framework/Versions/2.7/lib/python2.7/site-packages/matplotlib/backend_bases.pyc\u001b[0m in \u001b[0;36mprint_figure\u001b[0;34m(self, filename, dpi, facecolor, edgecolor, orientation, format, **kwargs)\u001b[0m\n\u001b[1;32m   2091\u001b[0m                 \u001b[0morientation\u001b[0m\u001b[0;34m=\u001b[0m\u001b[0morientation\u001b[0m\u001b[0;34m,\u001b[0m\u001b[0;34m\u001b[0m\u001b[0m\n\u001b[1;32m   2092\u001b[0m                 \u001b[0mbbox_inches_restore\u001b[0m\u001b[0;34m=\u001b[0m\u001b[0m_bbox_inches_restore\u001b[0m\u001b[0;34m,\u001b[0m\u001b[0;34m\u001b[0m\u001b[0m\n\u001b[0;32m-> 2093\u001b[0;31m                 **kwargs)\n\u001b[0m\u001b[1;32m   2094\u001b[0m         \u001b[0;32mfinally\u001b[0m\u001b[0;34m:\u001b[0m\u001b[0;34m\u001b[0m\u001b[0m\n\u001b[1;32m   2095\u001b[0m             \u001b[0;32mif\u001b[0m \u001b[0mbbox_inches\u001b[0m \u001b[0;32mand\u001b[0m \u001b[0mrestore_bbox\u001b[0m\u001b[0;34m:\u001b[0m\u001b[0;34m\u001b[0m\u001b[0m\n",
        "\u001b[0;32m/opt/local/Library/Frameworks/Python.framework/Versions/2.7/lib/python2.7/site-packages/matplotlib/backend_bases.pyc\u001b[0m in \u001b[0;36mprint_png\u001b[0;34m(self, *args, **kwargs)\u001b[0m\n\u001b[1;32m   1853\u001b[0m         \u001b[0;32mfrom\u001b[0m \u001b[0mbackends\u001b[0m\u001b[0;34m.\u001b[0m\u001b[0mbackend_agg\u001b[0m \u001b[0;32mimport\u001b[0m \u001b[0mFigureCanvasAgg\u001b[0m \u001b[0;31m# lazy import\u001b[0m\u001b[0;34m\u001b[0m\u001b[0m\n\u001b[1;32m   1854\u001b[0m         \u001b[0magg\u001b[0m \u001b[0;34m=\u001b[0m \u001b[0mself\u001b[0m\u001b[0;34m.\u001b[0m\u001b[0mswitch_backends\u001b[0m\u001b[0;34m(\u001b[0m\u001b[0mFigureCanvasAgg\u001b[0m\u001b[0;34m)\u001b[0m\u001b[0;34m\u001b[0m\u001b[0m\n\u001b[0;32m-> 1855\u001b[0;31m         \u001b[0;32mreturn\u001b[0m \u001b[0magg\u001b[0m\u001b[0;34m.\u001b[0m\u001b[0mprint_png\u001b[0m\u001b[0;34m(\u001b[0m\u001b[0;34m*\u001b[0m\u001b[0margs\u001b[0m\u001b[0;34m,\u001b[0m \u001b[0;34m**\u001b[0m\u001b[0mkwargs\u001b[0m\u001b[0;34m)\u001b[0m\u001b[0;34m\u001b[0m\u001b[0m\n\u001b[0m\u001b[1;32m   1856\u001b[0m \u001b[0;34m\u001b[0m\u001b[0m\n\u001b[1;32m   1857\u001b[0m     \u001b[0;32mdef\u001b[0m \u001b[0mprint_ps\u001b[0m\u001b[0;34m(\u001b[0m\u001b[0mself\u001b[0m\u001b[0;34m,\u001b[0m \u001b[0;34m*\u001b[0m\u001b[0margs\u001b[0m\u001b[0;34m,\u001b[0m \u001b[0;34m**\u001b[0m\u001b[0mkwargs\u001b[0m\u001b[0;34m)\u001b[0m\u001b[0;34m:\u001b[0m\u001b[0;34m\u001b[0m\u001b[0m\n",
        "\u001b[0;32m/opt/local/Library/Frameworks/Python.framework/Versions/2.7/lib/python2.7/site-packages/matplotlib/backends/backend_agg.pyc\u001b[0m in \u001b[0;36mprint_png\u001b[0;34m(self, filename_or_obj, *args, **kwargs)\u001b[0m\n\u001b[1;32m    501\u001b[0m             _png.write_png(renderer._renderer.buffer_rgba(),\n\u001b[1;32m    502\u001b[0m                            \u001b[0mrenderer\u001b[0m\u001b[0;34m.\u001b[0m\u001b[0mwidth\u001b[0m\u001b[0;34m,\u001b[0m \u001b[0mrenderer\u001b[0m\u001b[0;34m.\u001b[0m\u001b[0mheight\u001b[0m\u001b[0;34m,\u001b[0m\u001b[0;34m\u001b[0m\u001b[0m\n\u001b[0;32m--> 503\u001b[0;31m                            filename_or_obj, self.figure.dpi)\n\u001b[0m\u001b[1;32m    504\u001b[0m         \u001b[0;32mfinally\u001b[0m\u001b[0;34m:\u001b[0m\u001b[0;34m\u001b[0m\u001b[0m\n\u001b[1;32m    505\u001b[0m             \u001b[0;32mif\u001b[0m \u001b[0mclose\u001b[0m\u001b[0;34m:\u001b[0m\u001b[0;34m\u001b[0m\u001b[0m\n",
        "\u001b[0;31mKeyboardInterrupt\u001b[0m: "
       ]
      },
      {
       "output_type": "stream",
       "stream": "stdout",
       "text": [
        "\n"
       ]
      }
     ],
     "prompt_number": 5
    },
    {
     "cell_type": "code",
     "collapsed": false,
     "input": [
      "os.chdir('/Users/Carlos/Documents/HERMES/reductions/PSF/spectral')\n",
      "a = pf.open('10nov10044tlm.fits')\n",
      "bundleBins = a[0].data[range(0,399,10),0]-5\n",
      "xBins = range(0,a[0].shape[1]-1,100)\n",
      "a= None"
     ],
     "language": "python",
     "metadata": {},
     "outputs": [],
     "prompt_number": 6
    },
    {
     "cell_type": "code",
     "collapsed": false,
     "input": [
      "# bins = range(5,4113,100)\n",
      "os.chdir('/Users/Carlos/Documents/HERMES/reductions/PSF/spectral/cam2')\n",
      "files = glob.glob('point_maps/*.txt')\n",
      "\n",
      "sigmas = np.zeros((40,40,len(files)))\n",
      "\n",
      "for i in range(len(files)):\n",
      "    print files[i]\n",
      "    thisData = np.loadtxt(files[i], skiprows=1, delimiter = ',' , usecols=[0,1,2,3,4,5])\n",
      "    bundleIdx = np.digitize(thisData[:,1], bundleBins)\n",
      "    xIdx = np.digitize(thisData[:,0], xBins)\n",
      "\n",
      "    for r in range(1,41):\n",
      "        for c in range(1,41):\n",
      "            subset = thisData[((bundleIdx==r) & (xIdx==c))]\n",
      "            if subset.shape[0]>1:\n",
      "                sigmas[r-1,c-1,i]=np.mean(subset[:,3])\n"
     ],
     "language": "python",
     "metadata": {},
     "outputs": [
      {
       "output_type": "stream",
       "stream": "stdout",
       "text": [
        "point_maps/07feb20013.fitsspectralG2.txt\n",
        "point_maps/07feb20021.fitsspectralG2.txt"
       ]
      },
      {
       "output_type": "stream",
       "stream": "stdout",
       "text": [
        "\n",
        "point_maps/07feb20026.fitsspectralG2.txt"
       ]
      },
      {
       "output_type": "stream",
       "stream": "stdout",
       "text": [
        "\n",
        "point_maps/07feb20034.fitsspectralG2.txt"
       ]
      },
      {
       "output_type": "stream",
       "stream": "stdout",
       "text": [
        "\n",
        "point_maps/07feb20042.fitsspectralG2.txt"
       ]
      },
      {
       "output_type": "stream",
       "stream": "stdout",
       "text": [
        "\n",
        "point_maps/07feb20047.fitsspectralG2.txt"
       ]
      },
      {
       "output_type": "stream",
       "stream": "stdout",
       "text": [
        "\n",
        "point_maps/07feb20052.fitsspectralG2.txt"
       ]
      },
      {
       "output_type": "stream",
       "stream": "stdout",
       "text": [
        "\n",
        "point_maps/08feb20018.fitsspectralG2.txt"
       ]
      },
      {
       "output_type": "stream",
       "stream": "stdout",
       "text": [
        "\n",
        "point_maps/08feb20026.fitsspectralG2.txt"
       ]
      },
      {
       "output_type": "stream",
       "stream": "stdout",
       "text": [
        "\n",
        "point_maps/08feb20031.fitsspectralG2.txt"
       ]
      },
      {
       "output_type": "stream",
       "stream": "stdout",
       "text": [
        "\n",
        "point_maps/08feb20039.fitsspectralG2.txt"
       ]
      },
      {
       "output_type": "stream",
       "stream": "stdout",
       "text": [
        "\n",
        "point_maps/08feb20045.fitsspectralG2.txt"
       ]
      },
      {
       "output_type": "stream",
       "stream": "stdout",
       "text": [
        "\n",
        "point_maps/08feb20050.fitsspectralG2.txt"
       ]
      },
      {
       "output_type": "stream",
       "stream": "stdout",
       "text": [
        "\n",
        "point_maps/10feb20018.fitsspectralG2.txt"
       ]
      },
      {
       "output_type": "stream",
       "stream": "stdout",
       "text": [
        "\n",
        "point_maps/10feb20026.fitsspectralG2.txt"
       ]
      },
      {
       "output_type": "stream",
       "stream": "stdout",
       "text": [
        "\n",
        "point_maps/11feb20012.fitsspectralG2.txt"
       ]
      },
      {
       "output_type": "stream",
       "stream": "stdout",
       "text": [
        "\n",
        "point_maps/11feb20020.fitsspectralG2.txt"
       ]
      },
      {
       "output_type": "stream",
       "stream": "stdout",
       "text": [
        "\n",
        "point_maps/11feb20028.fitsspectralG2.txt"
       ]
      },
      {
       "output_type": "stream",
       "stream": "stdout",
       "text": [
        "\n",
        "point_maps/12feb20022.fitsspectralG2.txt"
       ]
      },
      {
       "output_type": "stream",
       "stream": "stdout",
       "text": [
        "\n",
        "point_maps/12feb20024.fitsspectralG2.txt"
       ]
      },
      {
       "output_type": "stream",
       "stream": "stdout",
       "text": [
        "\n",
        "point_maps/12feb20032.fitsspectralG2.txt"
       ]
      },
      {
       "output_type": "stream",
       "stream": "stdout",
       "text": [
        "\n",
        "point_maps/12feb20040.fitsspectralG2.txt"
       ]
      },
      {
       "output_type": "stream",
       "stream": "stdout",
       "text": [
        "\n"
       ]
      }
     ],
     "prompt_number": 37
    },
    {
     "cell_type": "code",
     "collapsed": false,
     "input": [
      "# plt.imshow(sigmas[:,:,10], origin='lower')\n",
      "# plt.show()"
     ],
     "language": "python",
     "metadata": {},
     "outputs": [],
     "prompt_number": 38
    },
    {
     "cell_type": "code",
     "collapsed": false,
     "input": [
      "sigmas[sigmas<0.5]=np.nan\n",
      "sigmas[sigmas>3]=np.nan\n",
      "errors = np.std(sigmas,axis=2)\n",
      "mean = np.mean(sigmas, axis=2)"
     ],
     "language": "python",
     "metadata": {},
     "outputs": [],
     "prompt_number": 42
    },
    {
     "cell_type": "code",
     "collapsed": false,
     "input": [
      "plt.imshow(mean, origin='lower')\n",
      "plt.show()"
     ],
     "language": "python",
     "metadata": {},
     "outputs": [],
     "prompt_number": 40
    },
    {
     "cell_type": "code",
     "collapsed": false,
     "input": [],
     "language": "python",
     "metadata": {},
     "outputs": [],
     "prompt_number": 16
    },
    {
     "cell_type": "code",
     "collapsed": false,
     "input": [
      "for i in range(sigmas.shape[2]):\n",
      "    plt.errorbar(range(1,41),mean[i,:],yerr=errors[i,:], fmt='.')\n",
      "plt.show()"
     ],
     "language": "python",
     "metadata": {},
     "outputs": [],
     "prompt_number": 43
    },
    {
     "cell_type": "code",
     "collapsed": false,
     "input": [
      "a.read_full_image_spectral('gaussian')"
     ],
     "language": "python",
     "metadata": {},
     "outputs": [
      {
       "output_type": "stream",
       "stream": "stdout",
       "text": [
        "No labeled objects found. Use label='...' kwarg on individual plots.\n",
        "1"
       ]
      },
      {
       "output_type": "stream",
       "stream": "stdout",
       "text": [
        " 2 3 4 5 6 7 8 10 20 1 2 3 4 5 6 7 8 10 20 1 2 3 4 5 6 7 8 10 20 1 2 3 4 5 6 7 8 10 20 1 2 3 4 5 6 7 8 10 20 1 2 3 4 5 6 7 8 10 20 1 2 3 4 5 6 7 8 10 20 1 2 3 4 5 6 7 8 10 20 1 2 3 4 5 6 7 8 10 20 1 2 3 4 5 6 7 8 10 20 1 2 3 4 5 6 7 8 10 20 1 2 3 4 5 6 7 8 10 20 1 2 3 4 5 6 7 8 10 20 "
       ]
      },
      {
       "output_type": "stream",
       "stream": "stdout",
       "text": [
        "1 2 3 4 5 6 7 8 10 20 1 2 3 4 5 6 7 8 10 20 1 2 3 4 5 6 7 8 10 20 1 2 3 4 5 6 7 8 10 20 1 2 3 4 5 6 7 8 10 20 1 2 3 4 5 6 7 8 10 20 50 1 2 3 4 5 6 7 8 10 20 1 2 3 4 5 6 7 8 10 20 1 2 3 4 5 6 7 8 10 20 1 2 3 4 5 6 7 8 10 20 1 2 3 4 5 6 7 8 10 20 1 2 3 4 5 6 7 8 10 20 1 2 3 4 5 6 7 8 10 20 1 "
       ]
      },
      {
       "output_type": "stream",
       "stream": "stdout",
       "text": [
        "2 3 4 5 6 7 8 10 20 1 2 3 4 5 6 7 8 10 20 1 2 3 4 5 6 7 8 10 20 1 2 3 4 5 6 7 8 10 20 1 2 3 4 5 6 7 8 10 20 1 2 3 4 5 6 7 8 10 20 1 2 3 4 5 6 7 8 10 20 1 2 3 4 5 6 7 8 10 20 1 2 3 4 5 6 7 8 10 20 1 2 3 4 5 6 7 8 10 20 1 2 3 4 5 6 7 8 10 20 1 2 3 4 5 6 7 8 10 20 1 2 3 4 5 6 7 8 10 20 1 2 3"
       ]
      },
      {
       "output_type": "stream",
       "stream": "stdout",
       "text": [
        " 4 5 6 7 8 10 20 1 2 3 4 5 6 7 8 10 20 1 2 3 4 5 6 7 8 10 20 1 2 3 4 5 6 7 8 10 20 1 2 3 4 5 6 7 8 10 20 1 2 3 4 5 6 7 8 10 20 1 2 3 4 5 6 7 8 10 20 1 2 3 4 5 6 7 8 10 20 1 2 3 4 5 6 7 8 10 20 1 2 3 4 5 6 7 8 10 20 1 2 3 4 5 6 7 8 10 20 1 2 3 4 5 6 7 8 10 "
       ]
      },
      {
       "output_type": "stream",
       "stream": "stdout",
       "text": [
        "20 1 2 3 4 5 6 7 8 10 20 1 2 3 4 5 6 7 8 10 20 1 2 3 4 5 6 7 8 10 20 1 2 3 4 5 6 7 8 10 20 1 2 3 4 5 6 7 8 10 20 1 2 3 4 5 6 7 8 10 20 1 2 3 4 5 6 7 8 10 20 1 2 3 4 5 6 7 8 10 20 1 2 3 4 5 6 7 8 10 20 1 2 3 4 5 6 7 8 10 20 1 2 3 4 5 6 7 8 10 20 1 2 3 4 5 6 7 8 10 20 1 2 3 4 5 "
       ]
      },
      {
       "output_type": "stream",
       "stream": "stdout",
       "text": [
        "6 7 8 10 20 1 2 3 4 5 6 7 8 10 20 1 2 3 4 5 6 7 8 10 20 1 2 3 4 5 6 7 8 10 20 1 2 3 4 5 6 7 8 10 20 1 2 3 4 5 6 7 8 10 20 1 2 3 4 5 6 7 8 10 20 1 2 3 4 5 6 7 8 10 20 1 2 3 4 5 6 7 8 10 20 1 2 3 4 5 6 7 8 10 20 1 2 3 4 5 6 7 8 10 20 1 2 3 4 5 6 7 8 10 20 1 2 3 4 5 6 7 8 10 "
       ]
      },
      {
       "output_type": "stream",
       "stream": "stdout",
       "text": [
        "20 1 2 3 4 5 6 7 8 10 20 1 2 3 4 5 6 7 8 10 20 1 2 3 4 5 6 7 8 10 20 1 2 3 4 5 6 7 8 10 20 1 2 3 4 5 6 7 8 10 20 1 2 3 4 5 6 7 8 10 20 1 2 3 4 5 6 7 8 10 20 1 2 3 4 5 6 7 8 10 20 1 2 3 4 5 6 7 8 10 20 1 2 3 4 5 6 7 8 10 20 1 2 3 4 5 6 7 8 10 20 1 2 3 4 5 6 7 8 10 20 1 2 3 4 5 6 7 8 10 "
       ]
      },
      {
       "output_type": "stream",
       "stream": "stdout",
       "text": [
        "20 1 2 3 4 5 6 7 8 10 20 1 2 3 4 5 6 7 8 10 20 1 2 3 4 5 6 7 8 10 20 1 2 3 4 5 6 7 8 10 20 1 2 3 4 5 6 7 8 10 20 1 2 3 4 5 6 7 8 10 20 1 2 3 4 5 6 7 8 10 20 1 2 3 4 5 6 7 8 10 20 1 2 3 4 5 6 7 8 10 20 1 2 3 4 5 6 7 8 10 20 1 2 3 4 5 6 7 8 10 20 1 2 3 4 5 6 7 8 10 20 "
       ]
      },
      {
       "output_type": "stream",
       "stream": "stdout",
       "text": [
        "1 2 3 4 5 6 7 8 10 20 1 2 3 4 5 6 7 8 10 20 1 2 3 4 5 6 7 8 10 20 1 2 3 4 5 6 7 8 10 20 1 2 3 4 5 6 7 8 10 20 1 2 3 4 5 6 7 8 10 20 1 2 3 4 5 6 7 8 10 20 1 2 3 4 5 6 7 8 10 20 1 2 3 4 5 6 7 8 10 20 1 2 3 4 5 6 7 8 10 20 1 2 3 4 5 6 7 8 10 20 1 2 3 4 5 6 7 8 10 20 "
       ]
      },
      {
       "output_type": "stream",
       "stream": "stdout",
       "text": [
        "1 2 3 4 5 6 7 8 10 20 1 2 3 4 5 6 7 8 10 20 1 2 3 4 5 6 7 8 10 20 1 2 3 4 5 6 7 8 10 20 1 2 3 4 5 6 7 8 10 20 1 2 3 4 5 6 7 8 10 20 1 2 3 4 5 6 7 8 10 20 1 2 3 4 5 6 7 8 10 20 1 2 3 4 5 6 7 8 10 20 1 2 3 4 5 6 7 8 10 20 "
       ]
      },
      {
       "output_type": "stream",
       "stream": "stdout",
       "text": [
        "1 2 3 4 5 6 7 8 10 20 1 2 3 4 5 6 7 8 10 20 1 2 3 4 5 6 7 8 10 20 1 2 3 4 5 6 7 8 10 20 1 2 3 4 5 6 7 8 10 20 1 2 3 4 5 6 7 8 10 20 1 2 3 4 5 6 7 8 10 20 1 2 3 4 5 6 7 8 10 20 1 2 3 4 5 6 7 8 10 20 1 2 3 4 5 6 7 8 10 20 1 2 3 4 5 6 7 8 10 20 1 2 3 4 5 6 7 8 10 20 1 2 3 4 5 6 7 8 10 20 1 2 3 4 5 6 7 8 10 20 1 2 3 4 5 6 7 8 10 "
       ]
      },
      {
       "output_type": "stream",
       "stream": "stdout",
       "text": [
        "20 1 2 3 4 5 6 7 8 10 20 1 2 3 4 5 6 7 8 10 20 1 2 3 4 5 6 7 8 10 20 1 2 3 4 5 6 7 8 10 20 1 2 3 4 5 6 7 8 10 20 1 2 3 4 5 6 7 8 10 20 1 2 3 4 5 6 7 8 10 20 1 2 3 4 5 6 7 8 10 20 1 2 3 4 5 6 7 8 10 20 1 2 3 4 5 6 7 8 10 20 1 2 3 4 5 6 7 8 10 20 1 2 3 4 5 6 7 8 10 20 1 2 3 4 5 6 7 8 10 20 1 2 3 4 5 6 7 8 10 20 1 2 3 4 5 6 7 8 10 20 1 2 "
       ]
      },
      {
       "output_type": "stream",
       "stream": "stdout",
       "text": [
        "3 4 5 6 7 8 10 20 1 2 3 4 5 6 7 8 10 20 1 2 3 4 5 6 7 8 10 20 1 2 3 4 5 6 7 8 10 20 1 2 3 4 5 6 7 8 10 20 1 2 3 4 5 6 7 8 10 20 1 2 3 4 5 6 7 8 10 20 1 2 3 4 5 6 7 8 10 20 1 2 3 4 5 6 7 8 10 20 1 2 3 4 5 6 7 8 10 20 1 2 3 4 5 6 7 8 10 20 1 2 3 4 5 6 7 8 10 20 1 2 3 4 5 6 7 8 10 20 1 2 3 4 5 6 7 8 10 20 "
       ]
      },
      {
       "output_type": "stream",
       "stream": "stdout",
       "text": [
        "1 2 3 4 5 6 7 8 10 20 1 2 3 4 5 6 7 8 10 20 1 2 3 4 5 6 7 8 10 20 1 2 3 4 5 6 7 8 10 20 1 2 3 4 5 6 7 8 10 20 1 2 3 4 5 6 7 8 10 20 1 2 3 4 5 6 7 8 10 20 1 2 3 4 5 6 7 8 10 20 1 2 3 4 5 6 7 8 10 20 1 2 3 4 5 6 7 8 10 20 1 2 3 4 5 6 7 8 10 20 1 2 3 4 5 6 7 8 10 20 1 2 3 4 5 6 7 8 10 20 1 2 3 4 5 6 7 8 10 20 1 2 3 4 5 6 7 8 10 20 "
       ]
      },
      {
       "output_type": "stream",
       "stream": "stdout",
       "text": [
        "1 2 3 4 5 6 7 8 10 20 1 2 3 4 5 6 7 8 10 20 1 2 3 4 5 6 7 8 10 20 1 2 3 4 5 6 7 8 10 20 1 2 3 4 5 6 7 8 10 20 1 2 3 4 5 6 7 8 10 20 1 2 3 4 5 6 7 8 10 20 1 2 3 4 5 6 7 8 10 20 1 2 3 4 5 6 7 8 10 20 1 2 3 4 5 6 7 8 10 20 1 2 3 4 5 6 7 8 10 20 1 2 3 4 5 6 7 8 10 20 1 2 3 4 5 6 7 8 10 "
       ]
      },
      {
       "output_type": "stream",
       "stream": "stdout",
       "text": [
        "20 1 2 3 4 5 6 7 8 10 20 1 2 3 4 5 6 7 8 10 20 1 2 3 4 5 6 7 8 10 20 1 2 3 4 5 6 7 8 10 20 1 2 3 4 5 6 7 8 10 20 1 2 3 4 5 6 7 8 10 20 1 2 3 4 5 6 7 8 10 20 1 2 3 4 5 6 7 8 10 20 1 2 3 4 5 6 7 8 10 20 1 2 3 4 5 6 7 8 10 20 1 2 3 4 5 6 7 8 10 20 1 2 3 4 5 6 7 8 10 20 1 2 3 4 5 6 7 8 "
       ]
      },
      {
       "output_type": "stream",
       "stream": "stdout",
       "text": [
        "10 20 1 2 3 4 5 6 7 8 10 20 1 2 3 4 5 6 7 8 10 20 1 2 3 4 5 6 7 8 10 20 1 2 3 4 5 6 7 8 10 20 1 2 3 4 5 6 7 8 10 20 1 2 3 4 5 6 7 8 10 20 1 2 3 4 5 6 7 8 10 20 1 2 3 4 5 6 7 8 10 20 1 2 3 4 5 6 7 8 10 20 1 2 3 4 5 6 7 8 10 20 1 2 3 4 5 6 7 8 10 20 1 2 3 4 5 6 7 8 10 20 1 2 3 4 5 6 7 8 10 "
       ]
      },
      {
       "output_type": "stream",
       "stream": "stdout",
       "text": [
        "20 1 2 3 4 5 6 7 8 10 20 1 2 3 4 5 6 7 8 10 20 1 2 3 4 5 6 7 8 10 20 1 2 3 4 5 6 7 8 10 20 1 2 3 4 5 6 7 8 10 20 1 2 3 4 5 6 7 8 10 20 1 2 3 4 5 6 7 8 10 20 1 2 3 4 5 6 7 8 10 20 1 2 3 4 5 6 7 8 10 20 1 2 3 4 5 6 7 8 10 20 1 2 3 4 5 6 7 8 10 20 1 2 3 4 5 6 7 8 10 20 1 2 3 4 5 6 7 8 10 20 1 2 3 4 5 6 7 8 10 20 1 2 3 4 5 6 7 8 10 20 "
       ]
      },
      {
       "output_type": "stream",
       "stream": "stdout",
       "text": [
        "1 2 3 4 5 6 7 8 10 20 1 2 3 4 5 6 7 8 10 20 1 2 3 4 5 6 7 8 10 20 1 2 3 4 5 6 7 8 10 20 1 2 3 4 5 6 7 8 10 20 1 2 3 4 5 6 7 8 10 20 1 2 3 4 5 6 7 8 10 20 1 2 3 4 5 6 7 8 10 20 1 2 3 4 5 6 7 8 10 20 1 2 3 4 5 6 7 8 10 20 1 2 3 4 5 6 7 8 10 20 1 2 3 4 5 6 7 8 10 20 1 2 3 4 5 6 7 8 10 20 1 "
       ]
      },
      {
       "output_type": "stream",
       "stream": "stdout",
       "text": [
        "2 3 4 5 6 7 8 10 20 1 2 3 4 5 6 7 8 10 20 1 2 3 4 5 6 7 8 10 20 1 2 3 4 5 6 7 8 10 20 1 2 3 4 5 6 7 8 10 20 1 2 3 4 5 6 7 8 10 20 1 2 3 4 5 6 7 8 10 20 1 2 3 4 5 6 7 8 10 20 1 2 3 4 5 6 7 8 10 20 1 2 3 4 5 6 7 8 10 20 1 2 3 4 5 6 7 8 10 20 1 2 3 4 5 6 7 8 10 20 1 2 3 4 5 6 7 8 10 20 1 2 3 4 5 6 7 8 10 20 1 2 3 4 5 6 7 8 10 "
       ]
      },
      {
       "output_type": "stream",
       "stream": "stdout",
       "text": [
        "20 1 2 3 4 5 6 7 8 10 20 1 2 3 4 5 6 7 8 10 20 1 2 3 4 5 6 7 8 10 20 1 2 3 4 5 6 7 8 10 20 1 2 3 4 5 6 7 8 10 20 1 2 3 4 5 6 7 8 10 20 1 2 3 4 5 6 7 8 10 20 1 2 3 4 5 6 7 8 10 20 1 2 3 4 5 6 7 8 10 20 1 2 3 4 5 6 7 8 10 20 1 2 3 4 5 6 7 8 10 20 1 2 3 4 5 6 7 8 10 20 1 2 3 4 5 6 7 8 10 20 1 2 3 4 5 6 7 8 10 20 "
       ]
      },
      {
       "output_type": "stream",
       "stream": "stdout",
       "text": [
        "1 2 3 4 5 6 7 8 10 20 1 2 3 4 5 6 7 8 10 20 1 2 3 4 5 6 7 8 10 20 1 2 3 4 5 6 7 8 10 20 1 2 3 4 5 6 7 8 10 20 1 2 3 4 5 6 7 8 10 20 1 2 3 4 5 6 7 8 10 20 1 2 3 4 5 6 7 8 10 20 1 2 3 4 5 6 7 8 10 20 1 2 3 4 5 6 7 8 10 20 1 2 3 4 5 6 7 8 10 20 1 2 3 4 5 6 7 8 10 20 1 2 3 4 5 6 7 8 10 20 1 2 3 4 5 6 7 8 10 20 1 2 3 4 5 6 7 8 10 20 1 2 3 4 5 6 7 8 10 "
       ]
      },
      {
       "output_type": "stream",
       "stream": "stdout",
       "text": [
        "20 1 2 3 4 5 6 7 8 10 20 1 2 3 4 5 6 7 8 10 20 50 1 2 3 4 5 6 7 8 10 20 1 2 3 4 5 6 7 8 10 20 1 2 3 4 5 6 7 8 10 20 1 2 3 4 5 6 7 8 10 20 1 2 3 4 5 6 7 8 10 20 1 2 3 4 5 6 7 8 10 20 1 2 3 4 5 6 7 8 10 20 1 2 3 4 5 6 7 8 10 20 1 2 3 4 5 6 7 8 10 20 "
       ]
      },
      {
       "output_type": "stream",
       "stream": "stdout",
       "text": [
        "1 2 3 4 5 6 7 8 10 20 1 2 3 4 5 6 7 8 10 20 1 2 3 4 5 6 7 8 10 20 1 2 3 4 5 6 7 8 10 20 1 2 3 4 5 6 7 8 10 20 1 2 3 4 5 6 7 8 10 20 1 2 3 4 5 6 7 8 10 20 1 2 3 4 5 6 7 8 10 20 1 2 3 4 5 6 7 8 10 20 1 2 3 4 5 6 7 8 10 20 1 2 3 4 5 6 7 8 10 20 1 2 3 4 5 6 7 8 10 20 1 2 3 4 5 6 7 8 10 20 1 2 3 4 5 6 7 8 10 "
       ]
      },
      {
       "output_type": "stream",
       "stream": "stdout",
       "text": [
        "20 1 2 3 4 5 6 7 8 10 20 1 2 3 4 5 6 7 8 10 20 1 2 3 4 5 6 7 8 10 20 1 2 3 4 5 6 7 8 10 20 1 2 3 4 5 6 7 8 10 20 1 2 3 4 5 6 7 8 10 20 1 2 3 4 5 6 7 8 10 20 1 2 3 4 5 6 7 8 10 20 1 2 3 4 5 6 7 8 10 20 1 2 3 4 5 6 7 8 10 20 1 2 3 4 5 6 7 8 10 20 1 2 3 4 5 6 7 8 10 20 1 "
       ]
      },
      {
       "output_type": "stream",
       "stream": "stdout",
       "text": [
        "2 3 4 5 6 7 8 10 20 1 2 3 4 5 6 7 8 10 20 1 2 3 4 5 6 7 8 10 20 1 2 3 4 5 6 7 8 10 20 1 2 3 4 5 6 7 8 10 20 1 2 3 4 5 6 7 8 10 20 1 2 3 4 5 6 7 8 10 20 1 2 3 4 5 6 7 8 10 20 1 2 3 4 5 6 7 8 10 20 1 2 3 4 5 6 7 8 10 20 "
       ]
      },
      {
       "output_type": "stream",
       "stream": "stdout",
       "text": [
        "1 2 3 4 5 6 7 8 10 20 1 2 3 4 5 6 7 8 10 20 1 2 3 4 5 6 7 8 10 20 1 2 3 4 5 6 7 8 10 20 1 2 3 4 5 6 7 8 10 20 1 2 3 4 5 6 7 8 10 20 1 2 3 4 5 6 7 8 10 20 1 2 3 4 5 6 7 8 10 20 1 2 3 4 5 6 7 8 10 20 1 2 3 4 5 6 7 8 10 20 1 2 3 4 5 6 7 8 10 "
       ]
      },
      {
       "output_type": "stream",
       "stream": "stdout",
       "text": [
        "20 1 2 3 4 5 6 7 8 10 20 1 2 3 4 5 6 7 8 10 20 1 2 3 4 5 6 7 8 10 20 1 2 3 4 5 6 7 8 10 20 1 2 3 4 5 6 7 8 10 20 1 2 3 4 5 6 7 8 10 20 1 2 3 4 5 6 7 8 10 20 1 2 3 4 5 6 7 8 10 20 1 2 3 4 5 6 7 8 10 20 1 2 3 4 5 6 7 8 10 "
       ]
      },
      {
       "output_type": "stream",
       "stream": "stdout",
       "text": [
        "20 1 2 3 4 5 6 7 8 10 20 1 2 3 4 5 6 7 8 10 20 1 2 3 4 5 6 7 8 10 20 1 2 3 4 5 6 7 8 10 20 1 2 3 4 5 6 7 8 10 20 1 2 3 4 5 6 7 8 10 20 1 2 3 4 5 6 7 8 10 20 1 2 3 4 5 6 7 8 10 20 "
       ]
      },
      {
       "output_type": "stream",
       "stream": "stdout",
       "text": [
        "1 2 3 4 5 6 7 8 10 20 1 2 3 4 5 6 7 8 10 20 1 2 3 4 5 6 7 8 10 20 1 2 3 4 5 6 7 8 10 20 1 2 3 4 5 6 7 8 10 20 1 2 3 4 5 6 7 8 10 20 1 2 3 4 5 6 7 8 10 20 1 2 3 4 5 6 7 8 10 20 1 2 3 4 5 6 7 8 10 20 1 2 3 4 5 6 7 8 10 "
       ]
      },
      {
       "output_type": "stream",
       "stream": "stdout",
       "text": [
        "20 1 2 3 4 5 6 7 8 10 20 1 2 3 4 5 6 7 8 10 20 1 2 3 4 5 6 7 8 10 20 1 2 3 4 5 6 7 8 10 20 1 2 3 4 5 6 7 8 10 20 1 2 3 4 5 6 7 8 10 20 1 2 3 4 5 6 7 8 10 20 1 2 3 4 5 6 7 8 10 20 1 2 3 4 5 6 7 8 10 20 1 2 3 4 5 6 7 8 "
       ]
      },
      {
       "output_type": "stream",
       "stream": "stdout",
       "text": [
        "10 20 1 2 3 4 5 6 7 8 10 20 1 2 3 4 5 6 7 8 10 20 1 2 3 4 5 6 7 8 10 20 1 2 3 4 5 6 7 8 10 20 1 2 3 4 5 6 7 8 10 20 1 2 3 4 5 6 7 8 10 20 1 2 3 4 5 6 7 8 10 20 1 2 3 4 5 6 7 8 10 20 1 2 3 4 5 6 7 8 10 20 1 2 3 4 5 "
       ]
      },
      {
       "output_type": "stream",
       "stream": "stdout",
       "text": [
        "6 7 8 10 20 1 2 3 4 5 6 7 8 10 20 1 2 3 4 5 6 7 8 10 20 1 2 3 4 5 6 7 8 10 20 1 2 3 4 5 6 7 8 10 20 1 2 3 4 5 6 7 8 10 20 1 2 3 4 5 6 7 8 10 20 1 2 3 4 5 6 7 8 10 20 1 2 3 4 5 6 7 8 10 20 1 2 3 4 5 6 7 8 10 20 1 2 3 4 5 6 7 8 10 "
       ]
      },
      {
       "output_type": "stream",
       "stream": "stdout",
       "text": [
        "20 1 2 3 4 5 6 7 8 10 20 1 2 3 4 5 6 7 8 10 20 1 2 3 4 5 6 7 8 10 20 1 2 3 4 5 6 7 8 10 20 1 2 3 4 5 6 7 8 10 20 50 1 2 3 4 5 6 7 8 10 20 1 2 3 4 5 6 7 8 10 20 1 2 3 4 5 6 7 8 10 20 1 2 3 4 5 6 7 8 10 20 1 2 3 "
       ]
      },
      {
       "output_type": "stream",
       "stream": "stdout",
       "text": [
        "4 5 6 7 8 10 20 1 2 3 4 5 6 7 8 10 20 1 2 3 4 5 6 7 8 10 20 1 2 3 4 5 6 7 8 10 20 1 2 3 4 5 6 7 8 10 20 1 2 3 4 5 6 7 8 10 20 1 2 3 4 5 6 7 8 10 20 1 2 3 4 5 6 7 8 10 20 "
       ]
      },
      {
       "output_type": "stream",
       "stream": "stdout",
       "text": [
        "1 2 3 4 5 6 7 8 10 20 1 2 3 4 5 6 7 8 10 20 1 2 3 4 5 6 7 8 10 20 1 2 3 4 5 6 7 8 10 20 1 2 3 4 5 6 7 8 10 20 1 2 3 4 5 6 7 8 10 20 1 2 3 4 5 6 7 8 10 20 1 2 3 4 5 6 7 8 10 20 1 2 3 4 5 6 7 8 10 20 1 2 3 4 5 6 7 8 10 20 1 2 3 4 5 6 7 8 10 20 1 2 3 4 5 6 7 8 10 20 1 2 3 4 5 6 7 8 10 20 "
       ]
      },
      {
       "output_type": "stream",
       "stream": "stdout",
       "text": [
        "1 2 3 4 5 6 7 8 10 20 1 2 3 4 5 6 7 8 10 20 1 2 3 4 5 6 7 8 10 20 1 2 3 4 5 6 7 8 10 20 1 2 3 4 5 6 7 8 10 20 1 2 3 4 5 6 7 8 10 20 1 2 3 4 5 6 7 8 10 20 1 2 3 4 5 6 7 8 10 20 1 2 3 4 5 6 7 8 10 20 1 2 3 4 5 6 7 8 10 20 1 2 3 4 5 6 7 8 10 20 1 2 3 4 5 6 7 8 10 20 1 2 3 4 5 6 7 8 10 20 1 2 "
       ]
      },
      {
       "output_type": "stream",
       "stream": "stdout",
       "text": [
        "3 4 5 6 7 8 10 20 1 2 3 4 5 6 7 8 10 20 1 2 3 4 5 6 7 8 10 20 1 2 3 4 5 6 7 8 10 20 1 2 3 4 5 6 7 8 10 20 1 2 3 4 5 6 7 8 10 20 1 2 3 4 5 6 7 8 10 20 1 2 3 4 5 6 7 8 10 20 1 2 3 4 5 6 7 8 10 20 1 2 3 4 5 6 7 8 10 20 1 2 3 4 5 6 7 8 10 20 1 2 3 4 5 6 7 8 10 20 1 2 3 4 5 6 7 8 10 20 1 2 3 4 5 6 7 8 10 20 1 2 3 4 5 6 7 8 10 "
       ]
      },
      {
       "output_type": "stream",
       "stream": "stdout",
       "text": [
        "20 1 2 3 4 5 6 7 8 10 20 1 2 3 4 5 6 7 8 10 20 1 2 3 4 5 6 7 8 10 20 1 2 3 4 5 6 7 8 10 20 1 2 3 4 5 6 7 8 10 20 1 2 3 4 5 6 7 8 10 20 1 2 3 4 5 6 7 8 10 20 1 2 3 4 5 6 7 8 10 20 1 2 3 4 5 6 7 8 10 20 1 2 3 4 5 6 7 8 10 20 1 2 3 4 5 6 7 8 10 20 1 2 3 4 5 6 7 8 10 20 1 2 3 4 5 6 7 8 10 20 1 2 3 4 5 6 7 8 10 20 1 2 3 4 5 6 7 8 10 20 "
       ]
      },
      {
       "output_type": "stream",
       "stream": "stdout",
       "text": [
        "1 2 3 4 5 6 7 8 10 20 1 2 3 4 5 6 7 8 10 20 1 2 3 4 5 6 7 8 10 20 1 2 3 4 5 6 7 8 10 20 1 2 3 4 5 6 7 8 10 20 "
       ]
      },
      {
       "output_type": "stream",
       "stream": "stdout",
       "text": [
        "1 2 3 4 5 6 7 8 10 20 1 2 3 4 5 6 7 8 10 20 1 2 3 4 5 6 7 8 10 20 1 2 3 4 5 6 7 8 10 20 1 2 3 4 5 6 7 8 10 20 1 2 3 4 5 6 7 8 10 20 1 2 3 4 5 6 7 8 10 20 1 2 3 4 5 6 7 8 10 20 1 2 3 4 5 6 7 8 10 20 1 2 3 4 5 6 7 8 10 20 1 2 3 4 5 6 7 8 10 20 1 2 3 4 5 6 7 8 10 20 1 2 3 4 5 6 7 8 10 20 1 2 3 4 5 6 7 8 10 20 1 2 3 4 5 6 7 8 10 20 1 2 3 4 5 6 7 8 10 20 "
       ]
      },
      {
       "output_type": "stream",
       "stream": "stdout",
       "text": [
        "1 2 3 4 5 6 7 8 10 20 1 2 3 4 5 6 7 8 10 20 1 2 3 4 5 6 7 8 10 20 1 2 3 4 5 6 7 8 10 20 1 2 3 4 5 6 7 8 10 20 1 2 3 4 5 6 7 8 10 20 1 2 3 4 5 6 7 8 10 20 1 2 3 4 5 6 7 8 10 20 1 2 3 4 5 6 7 8 10 20 1 2 3 4 5 6 7 8 10 20 1 2 3 4 5 6 7 8 10 20 1 2 3 4 5 6 7 8 10 20 1 2 3 4 5 6 7 8 10 20 1 2 3 4 5 6 7 "
       ]
      },
      {
       "output_type": "stream",
       "stream": "stdout",
       "text": [
        "8 10 20 1 2 3 4 5 6 7 8 10 20 1 2 3 4 5 6 7 8 10 20 1 2 3 4 5 6 7 8 10 20 1 2 3 4 5 6 7 8 10 20 1 2 3 4 5 6 7 8 10 20 1 2 3 4 5 6 7 8 10 20 1 2 3 4 5 6 7 8 10 20 1 2 3 4 5 6 7 8 10 20 1 2 3 4 5 6 7 8 10 20 1 2 3 4 5 6 7 8 10 20 1 2 3 4 5 6 7 8 10 20 1 2 3 4 5 6 7 8 10 20 1 2 3 4 5 6 7 8 10 "
       ]
      },
      {
       "output_type": "stream",
       "stream": "stdout",
       "text": [
        "20 1 2 3 4 5 6 7 8 10 20 1 2 3 4 5 6 7 8 10 20 1 2 3 4 5 6 7 8 10 20 1 2 3 4 5 6 7 8 10 20 1 2 3 4 5 6 7 8 10 20 1 2 3 4 5 6 7 8 10 20 1 2 3 4 5 6 7 8 10 20 1 2 3 4 5 6 7 8 10 20 1 2 3 4 5 6 7 8 10 20 1 2 3 4 5 6 7 8 10 20 1 2 3 4 5 6 7 8 10 20 1 2 3 4 5 6 7 8 10 20 1 2 3 4 5 6 7 8 10 20 "
       ]
      },
      {
       "output_type": "stream",
       "stream": "stdout",
       "text": [
        "1 2 3 4 5 6 7 8 10 20 1 2 3 4 5 6 7 8 10 20 1 2 3 4 5 6 7 8 10 20 1 2 3 4 5 6 7 8 10 20 1 2 3 4 5 6 7 8 10 20 1 2 3 4 5 6 7 8 10 20 1 2 3 4 5 6 7 8 10 20 1 2 3 4 5 6 7 8 10 20 1 2 3 4 5 6 7 8 10 20 1 2 3 4 5 6 7 8 10 20 1 2 3 4 5 6 7 8 10 20 1 2 3 4 5 6 7 8 10 20 1 2 3 4 5 6 7 8 10 20 1 2 3 4 5 6 7 8 10 20 1 2 3 4 5 6 7 8 10 20 "
       ]
      },
      {
       "output_type": "stream",
       "stream": "stdout",
       "text": [
        "1 2 3 4 5 6 7 8 10 20 1 2 3 4 5 6 7 8 10 20 1 2 3 4 5 6 7 8 10 20 1 2 3 4 5 6 7 8 10 20 1 2 3 4 5 6 7 8 10 20 1 2 3 4 5 6 7 8 10 20 1 2 3 4 5 6 7 8 10 20 1 2 3 4 5 6 7 8 10 20 1 2 3 4 5 6 7 8 10 20 1 2 3 4 5 6 7 8 10 20 1 2 3 4 5 6 7 8 10 20 1 2 3 4 5 6 7 8 10 20 1 2 3 4 5 6 7 8 10 20 1 2 3 4 5 6 7 8 10 "
       ]
      },
      {
       "output_type": "stream",
       "stream": "stdout",
       "text": [
        "20 1 2 3 4 5 6 7 8 10 20 1 2 3 4 5 6 7 8 10 20 1 2 3 4 5 6 7 8 10 20 1 2 3 4 5 6 7 8 10 20 1 2 3 4 5 6 7 8 10 20 1 2 3 4 5 6 7 8 10 20 1 2 3 4 5 6 7 8 10 20 1 2 3 4 5 6 7 8 10 20 1 2 3 4 5 6 7 8 10 20 1 2 3 4 5 6 7 8 10 20 1 2 3 4 5 6 7 8 10 20 1 2 3 4 5 6 7 8 10 20 1 2 3 4 5 6 7 8 10 20 1 2 3 4 "
       ]
      },
      {
       "output_type": "stream",
       "stream": "stdout",
       "text": [
        "5 6 7 8 10 1 2 3 4 5 6 7 8 10 20 1 2 3 4 5 6 7 8 10 20 1 2 3 4 5 6 7 8 10 20 1 2 3 4 5 6 7 8 10 20 1 2 3 4 5 6 7 8 10 20 1 2 3 4 5 6 7 8 10 20 1 2 3 4 5 6 7 8 10 20 1 2 3 4 5 6 7 8 10 20 1 2 3 4 5 6 7 8 10 20 1 2 3 4 5 6 7 8 10 20 1 2 3 4 5 6 7 8 10 20 1 2 3 4 5 6 7 8 10 20 1 2 3 4 5 6 7 8 10 20 "
       ]
      },
      {
       "output_type": "stream",
       "stream": "stdout",
       "text": [
        "1 2 3 4 5 6 7 8 10 20 1 2 3 4 5 6 7 8 10 20 1 2 3 4 5 6 7 8 10 20 1 2 3 4 5 6 7 8 10 20 1 2 3 4 5 6 7 8 10 20 1 2 3 4 5 6 7 8 10 20 1 2 3 4 5 6 7 8 10 20 1 2 3 4 5 6 7 8 10 20 1 2 3 4 5 6 7 8 10 20 1 2 3 4 5 6 7 8 10 20 1 2 3 4 5 6 7 8 10 20 1 2 3 4 5 6 7 8 10 20 1 2 3 4 5 6 7 8 10 20 1 2 3 4 5 6 7 8 10 20 1 2 3 4 5 6 7 8 10 "
       ]
      },
      {
       "output_type": "stream",
       "stream": "stdout",
       "text": [
        "20 1 2 3 4 5 6 7 8 10 20 1 2 3 4 5 6 7 8 10 20 1 2 3 4 5 6 7 8 10 20 1 2 3 4 5 6 7 8 10 20 1 2 3 4 5 6 7 8 10 20 1 2 3 4 5 6 7 8 10 20 1 2 3 4 5 6 7 8 10 20 1 2 3 4 5 6 7 8 10 20 1 2 3 4 5 6 7 8 10 20 1 2 3 4 5 6 7 8 10 20 1 2 3 4 5 6 7 8 10 20 1 2 3 4 5 6 7 "
       ]
      },
      {
       "output_type": "stream",
       "stream": "stdout",
       "text": [
        "8 10 20 1 2 3 4 5 6 7 8 10 20 1 2 3 4 5 6 7 8 10 20 1 2 3 4 5 6 7 8 10 20 1 2 3 4 5 6 7 8 10 20 1 2 3 4 5 6 7 8 10 20 1 2 3 4 5 6 7 8 10 20 1 2 3 4 5 6 7 8 10 20 1 2 3 4 5 6 7 8 10 20 1 2 3 4 5 6 7 8 10 20 1 2 3 4 5 6 7 8 10 20 1 2 3 4 5 6 7 8 10 20 1 2 3 4 5 6 7 8 10 20 1 2 3 4 5 6 7 8 10 20 "
       ]
      },
      {
       "output_type": "stream",
       "stream": "stdout",
       "text": [
        "1 2 3 4 5 6 7 8 10 20 1 2 3 4 5 6 7 8 10 20 1 2 3 4 5 6 7 8 10 20 1 2 3 4 5 6 7 8 10 20 1 2 3 4 5 6 7 8 10 20 1 2 3 4 5 6 7 8 10 20 1 2 3 4 5 6 7 8 10 20 1 2 3 4 5 6 7 8 10 20 1 2 3 4 5 6 7 8 10 20 1 2 3 4 5 6 7 8 10 20 1 2 3 4 5 6 7 8 10 20 1 2 3 4 5 6 7 8 10 20 1 2 3 4 5 6 7 8 10 20 1 2 3 4 5 6 7 8 10 20 "
       ]
      },
      {
       "output_type": "stream",
       "stream": "stdout",
       "text": [
        "1 2 3 4 5 6 7 8 10 20 1 2 3 4 5 6 7 8 10 20 1 2 3 4 5 6 7 8 10 20 1 2 3 4 5 6 7 8 10 20 1 2 3 4 5 6 7 8 10 20 1 2 3 4 5 6 7 8 10 20 1 2 3 4 5 6 7 8 10 20 1 2 3 4 5 6 7 8 10 20 1 2 3 4 5 6 7 8 10 20 1 2 3 4 5 6 7 8 10 20 1 2 3 4 5 6 7 8 10 20 1 2 3 4 5 6 7 8 10 20 1 2 3 4 5 6 7 8 10 20 1 2 3 4 5 6 7 8 10 20 1 2 3 4 5 6 7 8 10 "
       ]
      },
      {
       "output_type": "stream",
       "stream": "stdout",
       "text": [
        "20 1 2 3 4 5 6 7 8 10 20 1 2 3 4 5 6 7 8 10 20 1 2 3 4 5 6 7 8 10 20 1 2 3 4 5 6 7 8 10 20 1 2 3 4 5 6 7 8 10 1 2 3 4 5 6 7 8 10 20 1 2 3 4 5 6 7 8 10 20 1 2 3 4 5 6 7 8 10 20 1 2 "
       ]
      },
      {
       "output_type": "stream",
       "stream": "stdout",
       "text": [
        "3 4 5 6 7 8 10 20 1 2 3 4 5 6 7 8 10 20 1 2 3 4 5 6 7 8 10 20 1 2 3 4 5 6 7 8 10 20 1 2 3 4 5 6 7 8 10 20 1 2 3 4 5 6 7 8 10 20 1 2 3 4 5 6 7 8 10 20 1 2 3 4 5 6 7 8 10 20 1 2 3 4 5 6 7 8 10 20 1 2 3 4 5 6 7 8 10 20 1 2 3 4 5 6 7 8 10 20 1 2 3 4 5 6 7 8 10 20 1 2 3 4 5 6 7 8 10 20 1 2 3 4 5 6 7 8 10 20 "
       ]
      },
      {
       "output_type": "stream",
       "stream": "stdout",
       "text": [
        "1 2 3 4 5 6 7 8 10 20 1 2 3 4 5 6 7 8 10 20 1 2 3 4 5 6 7 8 10 20 1 2 3 4 5 6 7 8 10 20 1 2 3 4 5 6 7 8 10 20 1 2 3 4 5 6 7 8 10 20 1 2 3 4 5 6 7 8 10 20 1 2 3 4 5 6 7 8 10 20 1 2 3 4 5 6 7 8 10 20 1 2 3 4 5 6 7 8 10 20 1 2 3 4 5 6 7 8 10 20 1 2 3 4 5 6 7 8 10 20 1 2 3 4 5 6 7 8 10 20 1 2 3 4 5 6 7 8 10 20 1 2 3 4 5 6 7 8 10 "
       ]
      },
      {
       "output_type": "stream",
       "stream": "stdout",
       "text": [
        "20 1 2 3 4 5 6 7 8 10 20 1 2 3 4 5 6 7 8 10 20 1 2 3 4 5 6 7 8 10 20 1 2 3 4 5 6 7 8 10 20 1 2 3 4 5 6 7 8 10 20 1 2 3 4 5 6 7 8 10 20 1 2 3 4 5 6 7 8 10 20 1 2 3 4 5 6 7 8 10 20 1 2 3 4 5 6 7 8 10 20 1 2 3 4 5 6 7 8 10 20 1 2 3 4 5 6 7 8 10 20 1 2 3 4 5 6 7 8 10 20 1 2 3 4 5 6 7 8 10 20 1 2 3 4 5 6 7 8 10 "
       ]
      },
      {
       "output_type": "stream",
       "stream": "stdout",
       "text": [
        "20 1 2 3 4 5 6 7 8 10 20 1 2 3 4 5 6 7 8 10 20 1 2 3 4 5 6 7 8 10 20 1 2 3 4 5 6 7 8 10 20 1 2 3 4 5 6 7 8 10 20 1 2 3 4 5 6 7 8 10 20 1 2 3 4 5 6 7 8 10 20 1 2 3 4 5 6 7 8 10 20 1 2 3 4 5 6 7 8 10 20 1 2 3 4 5 6 7 8 10 20 1 2 3 4 5 6 7 8 10 20 1 2 3 4 5 6 7 8 10 20 1 2 3 4 5 6 7 8 10 "
       ]
      },
      {
       "output_type": "stream",
       "stream": "stdout",
       "text": [
        "20 1 2 3 4 5 6 7 8 10 20 1 2 3 4 5 6 7 8 10 20 1 2 3 4 5 6 7 8 10 20 1 2 3 4 5 6 7 8 10 20 1 2 3 4 5 6 7 8 10 20 1 2 3 4 5 6 7 8 10 20 1 2 3 4 5 6 7 8 10 20 1 2 3 4 5 6 7 8 10 20 1 2 3 4 5 6 7 8 10 20 1 2 3 4 5 6 7 8 10 20 1 2 3 4 5 6 7 8 10 20 1 2 3 4 5 6 7 8 10 20 1 2 3 4 5 6 7 8 10 20 1 2 3 4 5 6 7 8 10 20 "
       ]
      },
      {
       "output_type": "stream",
       "stream": "stdout",
       "text": [
        "1 2 3 4 5 6 7 8 10 20 1 2 3 4 5 6 7 8 10 20 1 2 3 4 5 6 7 8 10 20 1 2 3 4 5 6 7 8 10 20 1 2 3 4 5 6 7 8 10 20 1 2 3 4 5 6 7 8 10 20 1 2 3 4 5 6 7 8 10 20 1 2 3 4 5 6 7 8 10 20 1 2 3 4 5 6 7 8 10 20 1 2 3 4 5 6 7 8 10 20 1 2 3 4 5 6 7 8 10 20 1 2 3 4 5 6 7 8 10 20 1 2 3 4 5 6 7 8 10 20 1 2 3 4 5 6 7 8 10 20 1 2 3 4 5 6 7 8 10 20 "
       ]
      },
      {
       "output_type": "stream",
       "stream": "stdout",
       "text": [
        "1 2 3 4 5 6 7 8 10 20 1 2 3 4 5 6 7 8 10 20 1 2 3 4 5 6 7 8 10 20 1 2 3 4 5 6 7 8 10 20 1 2 3 4 5 6 7 8 10 20 1 2 3 4 5 6 7 8 10 20 1 2 3 4 5 6 7 8 10 20 1 2 3 4 5 6 7 8 10 20 1 2 3 4 5 6 7 8 10 20 1 2 3 4 5 6 7 8 10 20 1 2 3 4 5 6 7 8 10 20 1 2 3 4 5 6 7 8 10 20 1 2 3 4 5 6 7 8 10 20 1 2 3 4 5 6 7 8 10 20 1 2 3 4 5 6 7 8 10 "
       ]
      },
      {
       "output_type": "stream",
       "stream": "stdout",
       "text": [
        "20 1 2 3 4 5 6 7 8 10 20 1 2 3 4 5 6 7 8 10 20 1 2 3 4 5 6 7 8 10 20 1 2 3 4 5 6 7 8 10 20 1 2 3 4 5 6 7 8 10 20 1 2 3 4 5 6 7 8 10 20 1 2 3 4 5 6 7 8 10 20 1 2 3 4 5 6 7 8 10 20 1 2 3 4 5 6 7 8 10 20 1 2 3 4 5 6 7 8 10 20 1 2 3 4 5 6 7 8 10 20 1 2 3 4 5 6 7 8 10 20 1 2 3 4 5 6 7 8 10 20 "
       ]
      },
      {
       "output_type": "stream",
       "stream": "stdout",
       "text": [
        "1 2 3 4 5 6 7 8 10 20 1 2 3 4 5 6 7 8 10 20 1 2 3 4 5 6 7 8 10 20 1 2 3 4 5 6 7 8 10 20 1 2 3 4 5 6 7 8 10 20 1 2 3 4 5 6 7 8 10 20 1 2 3 4 5 6 7 8 10 20 1 2 3 4 5 6 7 8 10 20 1 2 3 4 5 6 7 8 10 20 1 2 3 4 5 6 7 8 10 20 1 2 3 4 5 6 7 8 10 20 1 2 3 4 5 6 7 8 10 20 1 2 3 4 5 6 7 8 10 20 1 2 3 4 5 6 7 8 10 20 1 2 3 4 5 6 7 8 10 20 1 2 3 4 5 6 7 8 10 20 "
       ]
      },
      {
       "output_type": "stream",
       "stream": "stdout",
       "text": [
        "1 2 3 4 5 6 7 8 10 20 1 2 3 4 5 6 7 8 10 20 1 2 3 4 5 6 7 8 10 20 1 2 3 4 5 6 7 8 10 20 1 2 3 4 5 6 7 8 10 20 1 2 3 4 5 6 7 8 10 20 1 2 3 4 5 6 7 8 10 20 1 2 3 4 5 6 7 8 10 20 1 2 3 4 5 6 7 8 10 20 1 2 3 4 5 6 7 8 10 20 1 2 3 4 5 6 7 8 10 20 1 2 3 4 5 6 7 8 10 20 1 2 3 4 5 6 7 8 10 20 "
       ]
      },
      {
       "output_type": "stream",
       "stream": "stdout",
       "text": [
        "1 2 3 4 5 6 7 8 10 20 1 2 3 4 5 6 7 8 10 20 1 2 3 4 5 6 7 8 10 20 1 2 3 4 5 6 7 8 10 20 1 2 3 4 5 6 7 8 10 20 1 2 3 4 5 6 7 8 10 20 1 2 3 4 5 6 7 8 10 20 1 2 3 4 5 6 7 8 10 20 1 2 3 4 5 6 7 8 10 20 1 2 3 4 5 6 7 8 10 20 1 2 3 4 5 6 7 8 10 20 1 2 3 4 5 6 7 8 "
       ]
      },
      {
       "output_type": "stream",
       "stream": "stdout",
       "text": [
        "10 20 1 2 3 4 5 6 7 8 10 20 1 2 3 4 5 6 7 8 10 20 1 2 3 4 5 6 7 8 10 20 1 2 3 4 5 6 7 8 10 20 1 2 3 4 5 6 7 8 10 20 1 2 3 4 5 6 7 8 10 20 1 2 3 4 5 6 7 8 10 20 1 2 3 4 5 6 7 8 10 20 1 2 3 4 5 6 7 8 10 20 1 2 3 4 5 6 7 8 10 20 1 2 3 4 5 6 7 8 10 20 1 2 3 4 5 6 7 8 10 20 1 2 3 4 5 6 7 8 10 20 1 2 3 4 5 6 7 8 10 "
       ]
      },
      {
       "output_type": "stream",
       "stream": "stdout",
       "text": [
        "20 1 2 3 4 5 6 7 8 10 20 1 2 3 4 5 6 7 8 10 20 1 2 3 4 5 6 7 8 10 20 1 2 3 4 5 6 7 8 10 20 1 2 3 4 5 6 7 8 10 20 1 2 3 4 5 6 7 8 10 20 1 2 3 4 5 6 7 8 10 20 1 2 3 4 5 6 7 8 10 20 1 2 3 4 5 6 7 8 10 20 1 2 3 4 5 6 7 8 10 20 1 2 3 4 5 6 7 8 10 20 1 2 3 4 5 6 7 8 10 20 1 2 3 4 5 6 7 8 10 20 1 2 3 4 5 6 7 8 10 20 1 2 3 4 5 6 7 8 10 20 1 2 3 4 5 6 7 8 10 "
       ]
      },
      {
       "output_type": "stream",
       "stream": "stdout",
       "text": [
        "20 1 2 3 4 5 6 7 8 10 20 1 2 3 4 5 6 7 8 10 20 1 2 3 4 5 6 7 8 10 20 1 2 3 4 5 6 7 8 10 20 1 2 3 4 5 6 7 8 10 20 1 2 3 4 5 6 7 8 10 20 1 2 3 4 5 6 7 8 10 20 1 2 3 4 5 6 7 8 10 20 1 2 3 4 5 6 7 8 10 20 1 2 3 4 5 6 7 8 10 20 1 2 3 4 5 6 7 8 10 20 1 2 3 4 5 6 7 8 10 20 1 2 3 4 5 6 7 8 10 20 1 2 3 4 5 6 7 8 10 20 "
       ]
      },
      {
       "output_type": "stream",
       "stream": "stdout",
       "text": [
        "1 2 3 4 5 6 7 8 10 20 1 2 3 4 5 6 7 8 10 20 1 2 3 4 5 6 7 8 10 20 1 2 3 4 5 6 7 8 10 20 1 2 3 4 5 6 7 8 10 20 1 2 3 4 5 6 7 8 10 20 1 2 3 4 5 6 7 8 10 20 1 2 3 4 5 6 7 8 10 20 1 2 3 4 5 6 7 8 10 20 1 2 3 4 5 6 7 8 10 20 1 2 3 4 5 6 7 8 10 20 1 2 3 4 5 6 7 8 10 20 1 2 3 4 5 6 7 8 10 20 1 2 3 4 5 6 7 8 10 "
       ]
      },
      {
       "output_type": "stream",
       "stream": "stdout",
       "text": [
        "20 1 2 3 4 5 6 7 8 10 20 1 2 3 4 5 6 7 8 10 20 1 2 3 4 5 6 7 8 10 20 1 2 3 4 5 6 7 8 10 20 1 2 3 4 5 6 7 8 10 20 1 2 3 4 5 6 7 8 10 20 1 2 3 4 5 6 7 8 10 20 1 2 3 4 5 6 7 8 10 20 1 2 3 4 5 6 7 8 10 20 1 2 3 4 5 6 7 8 10 20 1 2 3 4 5 6 7 8 10 20 1 2 3 4 5 6 7 8 10 20 1 2 3 4 5 6 7 8 10 20 1 2 3 4 5 6 7 8 10 20 1 2 3 4 5 6 7 8 10 20 "
       ]
      },
      {
       "output_type": "stream",
       "stream": "stdout",
       "text": [
        "1 2 3 4 5 6 7 8 10 20 1 2 3 4 5 6 7 8 10 20 1 2 3 4 5 6 7 8 10 20 1 2 3 4 5 6 7 8 10 20 1 2 3 4 5 6 7 8 10 20 1 2 3 4 5 6 7 8 10 20 1 2 3 4 5 6 7 8 10 20 1 2 3 4 5 6 7 8 10 20 1 2 3 4 5 6 7 8 10 20 1 2 3 4 5 6 7 8 10 20 1 2 3 4 5 6 7 8 10 20 1 2 3 4 5 6 7 8 10 20 1 2 3 4 5 6 7 8 10 20 1 2 3 4 5 6 7 8 10 "
       ]
      },
      {
       "output_type": "stream",
       "stream": "stdout",
       "text": [
        "20 1 2 3 4 5 6 7 8 10 20 1 2 3 4 5 6 7 8 10 20 1 2 3 4 5 6 7 8 10 20 1 2 3 4 5 6 7 8 10 20 1 2 3 4 5 6 7 8 10 20 1 2 3 4 5 6 7 8 10 20 1 2 3 4 5 6 7 8 10 20 1 2 3 4 5 6 7 8 10 20 1 2 3 4 5 6 7 8 10 20 1 2 3 4 5 6 7 8 10 20 1 2 3 4 5 6 7 8 10 20 1 2 3 4 5 6 7 8 10 20 1 2 3 4 5 6 7 8 10 20 1 2 3 4 5 6 7 8 10 20 "
       ]
      },
      {
       "output_type": "stream",
       "stream": "stdout",
       "text": [
        "1 2 3 4 5 6 7 8 10 20 1 2 3 4 5 6 7 8 10 20 1 2 3 4 5 6 7 8 10 20 1 2 3 4 5 6 7 8 10 20 1 2 3 4 5 6 7 8 10 20 1 2 3 4 5 6 7 8 10 20 1 2 3 4 5 6 7 8 10 20 1 2 3 4 5 6 7 8 10 20 1 2 3 4 5 6 7 8 10 20 1 2 3 4 5 6 7 8 10 20 1 2 3 4 5 6 7 8 10 20 1 2 3 4 5 6 7 8 10 20 1 2 3 4 5 6 7 8 10 20 1 2 3 4 5 6 7 8 10 20 1 2 3 4 5 6 7 8 10 20 "
       ]
      },
      {
       "output_type": "stream",
       "stream": "stdout",
       "text": [
        "1 2 3 4 5 6 7 8 10 20 1 2 3 4 5 6 7 8 10 20 1 2 3 4 5 6 7 8 10 20 1 2 3 4 5 6 7 8 10 20 1 2 3 4 5 6 7 8 10 20 1 2 3 4 5 6 7 8 10 20 1 2 3 4 5 6 7 8 10 20 1 2 3 4 5 6 7 8 10 20 1 2 3 4 5 6 7 8 10 20 1 2 3 4 5 6 7 8 10 20 1 2 3 4 5 6 7 8 10 20 1 2 3 4 5 6 7 8 10 20 "
       ]
      },
      {
       "output_type": "stream",
       "stream": "stdout",
       "text": [
        "1 2 3 4 5 6 7 8 10 20 1 2 3 4 5 6 7 8 10 20 1 2 3 4 5 6 7 8 10 20 1 2 3 4 5 6 7 8 10 20 1 2 3 4 5 6 7 8 10 20 1 2 3 4 5 6 7 8 10 20 1 2 3 4 5 6 7 8 10 20 1 2 3 4 5 6 7 8 10 20 1 2 3 4 5 6 7 8 10 20 1 2 3 4 5 6 7 8 10 20 1 2 3 4 5 6 7 8 10 20 1 2 3 4 5 6 7 8 10 20 1 2 3 4 5 6 7 8 10 20 1 2 3 4 5 6 7 8 10 20 1 2 3 4 5 6 7 8 10 20 "
       ]
      },
      {
       "output_type": "stream",
       "stream": "stdout",
       "text": [
        "1 2 3 4 5 6 7 8 10 20 1 2 3 4 5 6 7 8 10 20 1 2 3 4 5 6 7 8 10 20 1 2 3 4 5 6 7 8 10 20 1 2 3 4 5 6 7 8 10 20 1 2 3 4 5 6 7 8 10 20 1 2 3 4 5 6 7 8 10 20 1 2 3 4 5 6 7 8 10 20 1 2 3 4 5 6 7 8 10 20 1 2 3 4 5 6 7 8 10 20 1 2 3 4 5 6 7 8 10 20 1 2 3 4 5 6 7 8 10 20 1 2 3 4 5 6 7 8 10 20 1 2 3 4 5 6 7 8 10 20 "
       ]
      },
      {
       "output_type": "stream",
       "stream": "stdout",
       "text": [
        "1 2 3 4 5 6 7 8 10 20 1 2 3 4 5 6 7 8 10 20 1 2 3 4 5 6 7 8 10 20 1 2 3 4 5 6 7 8 10 20 1 2 3 4 5 6 7 8 10 20 1 2 3 4 5 6 7 8 10 20 1 2 3 4 5 6 7 8 10 20 1 2 3 4 5 6 7 8 10 20 1 2 3 4 5 6 7 8 10 20 1 2 3 4 5 6 7 8 10 20 1 2 3 4 5 6 7 8 10 20 1 2 3 4 5 6 7 8 10 20 1 2 3 4 5 6 7 8 10 20 1 2 3 4 5 6 7 8 10 20 1 2 3 4 5 6 7 8 "
       ]
      },
      {
       "output_type": "stream",
       "stream": "stdout",
       "text": [
        "10 20 1 2 3 4 5 6 7 8 10 20 1 2 3 4 5 6 7 8 10 20 1 2 3 4 5 6 7 8 10 20 1 2 3 4 5 6 7 8 10 20 1 2 3 4 5 6 7 8 10 20 1 2 3 4 5 6 7 8 10 20 1 2 3 4 5 6 7 8 10 20 1 2 3 4 5 6 7 8 10 20 1 2 3 4 5 6 7 8 10 20 1 2 3 4 5 6 7 8 10 20 1 2 3 4 5 6 7 8 10 20 1 2 3 4 5 6 7 8 10 20 1 2 3 4 5 6 7 8 10 20 1 2 3 4 5 6 7 8 10 "
       ]
      },
      {
       "output_type": "stream",
       "stream": "stdout",
       "text": [
        "20 1 2 3 4 5 6 7 8 10 20 1 2 3 4 5 6 7 8 10 20 1 2 3 4 5 6 7 8 10 20 1 2 3 4 5 6 7 8 10 20 1 2 3 4 5 6 7 8 10 20 1 2 3 4 5 6 7 8 10 20 1 2 3 4 5 6 7 8 10 20 1 2 3 4 5 6 7 8 10 20 1 2 3 4 5 6 7 8 10 20 1 2 3 4 5 6 7 8 10 20 1 2 3 4 5 6 7 8 10 20 1 2 3 4 5 6 7 8 10 20 1 2 3 4 5 6 7 8 10 20 1 "
       ]
      },
      {
       "output_type": "stream",
       "stream": "stdout",
       "text": [
        "2 3 4 5 6 7 8 10 20 1 2 3 4 5 6 7 8 10 20 1 2 3 4 5 6 7 8 10 20 1 2 3 4 5 6 7 8 10 20 1 2 3 4 5 6 7 8 10 20 1 2 3 4 5 6 7 8 10 20 1 2 3 4 5 6 7 8 10 20 1 2 3 4 5 6 7 8 10 20 1 2 3 4 5 6 7 8 10 20 1 2 3 4 5 6 7 8 10 20 1 2 3 4 5 6 7 8 10 20 1 2 3 4 5 6 7 8 10 20 1 2 3 4 5 6 7 8 10 1 2 3 4 5 6 7 8 10 "
       ]
      },
      {
       "output_type": "stream",
       "stream": "stdout",
       "text": [
        "20 1 2 3 4 5 6 7 8 10 20 1 2 3 4 5 6 7 8 10 20 1 2 3 4 5 6 7 8 10 20 1 2 3 4 5 6 7 8 10 20 1 2 3 4 5 6 7 8 10 20 1 2 3 4 5 6 7 8 10 20 1 2 3 4 5 6 7 8 10 20 1 2 3 4 5 6 7 8 10 20 1 2 3 4 5 6 7 8 10 20 1 2 3 4 5 6 7 8 10 20 1 2 3 4 5 6 7 8 10 1 2 3 4 5 6 7 8 10 20 1 2 3 4 5 6 7 8 10 20 1 2 3 4 5 6 7 8 10 1 2 3 4 5 6 7 8 10 20 1 2 3 4 5 6 7 8 10 "
       ]
      },
      {
       "output_type": "stream",
       "stream": "stdout",
       "text": [
        "20 1 2 3 4 5 6 7 8 10 20 1 2 3 4 5 6 7 8 10 20 1 2 3 4 5 6 7 8 10 20 1 2 3 4 5 6 7 8 10 20 1 2 3 4 5 6 7 8 10 20 1 2 3 4 5 6 7 8 10 20 1 2 3 4 5 6 7 8 10 20 1 2 3 4 5 6 7 8 10 20 1 2 3 4 5 6 7 8 10 20 1 2 3 4 5 6 7 8 10 20 1 2 3 4 5 6 7 8 10 20 1 2 3 4 5 6 7 8 10 20 1 2 3 4 "
       ]
      },
      {
       "output_type": "stream",
       "stream": "stdout",
       "text": [
        "5 6 7 8 10 20 1 2 3 4 5 6 7 8 10 20 1 2 3 4 5 6 7 8 10 20 1 2 3 4 5 6 7 8 10 20 1 2 3 4 5 6 7 8 10 20 1 2 3 4 5 6 7 8 10 20 1 2 3 4 5 6 7 8 10 20 1 2 3 4 5 6 7 8 10 20 1 2 3 4 5 6 7 8 10 20 1 2 3 4 5 6 7 8 10 20 1 2 3 4 5 6 7 8 10 20 1 2 3 4 5 6 7 8 10 20 1 2 3 4 5 6 7 8 10 20 "
       ]
      },
      {
       "output_type": "stream",
       "stream": "stdout",
       "text": [
        "1 2 3 4 5 6 7 8 10 20 1 2 3 4 5 6 7 8 10 20 1 2 3 4 5 6 7 8 10 20 1 2 3 4 5 6 7 8 10 20 1 2 3 4 5 6 7 8 10 20 1 2 3 4 5 6 7 8 10 20 1 2 3 4 5 6 7 8 10 20 1 2 3 4 5 6 7 8 10 20 1 2 3 4 5 6 7 8 10 20 1 2 3 4 5 6 7 8 10 20 1 2 3 4 5 6 7 8 10 20 1 2 3 4 5 6 7 8 10 20 1 2 3 4 5 6 7 8 10 20 1 2 3 4 5 6 7 8 10 20 1 2 3 4 5 6 "
       ]
      },
      {
       "output_type": "stream",
       "stream": "stdout",
       "text": [
        "7 8 10 20 1 2 3 4 5 6 7 8 10 20 1 2 3 4 5 6 7 8 10 20 1 2 3 4 5 6 7 8 10 20 1 2 3 4 5 6 7 8 10 20 1 2 3 4 5 6 7 8 10 20 1 2 3 4 5 6 7 8 10 20 1 2 3 4 5 6 7 8 10 20 1 2 3 4 5 6 7 8 10 20 1 2 3 4 5 6 7 8 10 20 1 2 3 4 5 6 7 8 10 20 1 2 3 4 5 6 7 8 10 20 1 2 3 4 5 6 7 8 10 20 1 2 3 4 5 6 7 8 10 20 1 2 3 4 5 6 7 8 10 20 1 2 3 4 5 "
       ]
      },
      {
       "output_type": "stream",
       "stream": "stdout",
       "text": [
        "6 7 8 10 20 1 2 3 4 5 6 7 8 10 20 1 2 3 4 5 6 7 8 10 20 1 2 3 4 5 6 7 8 10 20 1 2 3 4 5 6 7 8 10 20 1 2 3 4 5 6 7 8 10 20 1 2 3 4 5 6 7 8 10 20 1 2 3 4 5 6 7 8 10 20 1 2 3 4 5 6 7 8 10 20 1 2 3 4 5 6 7 8 10 20 1 2 3 4 5 6 7 8 10 20 1 2 3 4 5 6 7 8 10 20 1 2 3 4 5 6 7 8 10 20 1 2 3 4 5 6 7 8 10 20 1 2 3 4 5 6 7 8 10 20 1 2 3 4 5 6 7 8 10 20 1 "
       ]
      },
      {
       "output_type": "stream",
       "stream": "stdout",
       "text": [
        "2 3 4 5 6 7 8 10 20 1 2 3 4 5 6 7 8 10 20 1 2 3 4 5 6 7 8 10 20 1 2 3 4 5 6 7 8 10 20 1 2 3 4 5 6 7 8 10 20 1 2 3 4 5 6 7 8 10 20 1 2 3 4 5 6 7 8 10 20 1 2 3 4 5 6 7 8 10 20 1 2 3 4 5 6 7 8 10 20 1 2 3 4 5 6 7 8 10 20 1 2 3 4 5 6 7 8 10 20 1 2 3 4 5 6 7 8 10 20 1 2 3 4 5 6 7 8 10 20 1 2 3 4 5 6 7 8 10 20 1 2 3 4 5 6 7 8 10 20 "
       ]
      },
      {
       "output_type": "stream",
       "stream": "stdout",
       "text": [
        "1 2 3 4 5 6 7 8 10 20 1 2 3 4 5 6 7 8 10 20 1 2 3 4 5 6 7 8 10 20 1 2 3 4 5 6 7 8 10 20 1 2 3 4 5 6 7 8 10 20 1 2 3 4 5 6 7 8 10 20 1 2 3 4 5 6 7 8 10 20 1 2 3 4 5 6 7 8 10 20 1 2 3 4 5 6 7 8 10 20 1 2 3 4 5 6 7 8 10 20 1 2 3 4 5 6 7 8 10 20 1 2 3 4 5 6 7 8 10 20 1 2 3 4 5 6 7 8 10 20 1 2 3 4 5 6 7 8 10 20 1 2 3 4 5 6 7 8 10 20 "
       ]
      },
      {
       "output_type": "stream",
       "stream": "stdout",
       "text": [
        "1 2 3 4 5 6 7 8 10 20 1 2 3 4 5 6 7 8 10 20 1 2 3 4 5 6 7 8 10 20 1 2 3 4 5 6 7 8 10 20 1 2 3 4 5 6 7 8 10 20 1 2 3 4 5 6 7 8 10 20 1 2 3 4 5 6 7 8 10 20 1 2 3 4 5 6 7 8 10 20 1 2 3 4 5 6 7 8 10 20 1 2 3 4 5 6 7 8 10 20 1 2 3 4 5 6 7 8 10 20 1 2 3 4 5 6 7 8 10 20 1 2 3 4 5 6 7 8 10 20 1 2 3 4 5 6 7 8 10 "
       ]
      },
      {
       "output_type": "stream",
       "stream": "stdout",
       "text": [
        "20 1 2 3 4 5 6 7 8 10 20 1 2 3 4 5 6 7 8 10 20 1 2 3 4 5 6 7 8 10 20 1 2 3 4 5 6 7 8 10 20 1 2 3 4 5 6 7 8 10 20 1 2 3 4 5 6 7 8 10 20 1 2 3 4 5 6 7 8 10 20 1 2 3 4 5 6 7 8 10 20 1 2 3 4 5 6 7 8 10 20 1 2 3 4 5 6 7 8 10 20 1 2 3 4 5 6 7 8 10 20 1 2 3 4 5 6 7 8 10 20 1 2 3 4 5 6 7 8 10 20 1 2 3 4 5 6 7 8 10 20 1 2 3 4 5 6 7 8 10 "
       ]
      },
      {
       "output_type": "stream",
       "stream": "stdout",
       "text": [
        "20 1 2 3 4 5 6 7 8 10 20 1 2 3 4 5 6 7 8 10 20 1 2 3 4 5 6 7 8 10 20 1 2 3 4 5 6 7 8 10 20 1 2 3 4 5 6 7 8 10 20 1 2 3 4 5 6 7 8 10 20 1 2 3 4 5 6 7 8 10 20 1 2 3 4 5 6 7 8 10 20 1 2 3 4 5 6 7 8 10 20 1 2 3 4 5 6 7 8 10 20 1 2 3 4 5 6 7 8 10 20 1 2 3 4 5 6 7 8 10 20 1 2 3 4 5 6 7 8 10 20 1 2 3 4 5 6 7 8 10 20 1 2 3 4 5 6 7 8 10 "
       ]
      },
      {
       "output_type": "stream",
       "stream": "stdout",
       "text": [
        "20 1 2 3 4 5 6 7 8 10 20 1 2 3 4 5 6 7 8 10 20 1 2 3 4 5 6 7 8 10 20 1 2 3 4 5 6 7 8 10 20 1 2 3 4 5 6 7 8 10 20 1 2 3 4 5 6 7 8 10 20 1 2 3 4 5 6 7 8 10 20 1 2 3 4 5 6 7 8 10 20 1 2 3 4 5 6 7 8 10 20 1 2 3 4 5 6 7 8 10 20 1 2 3 4 5 6 7 8 10 20 1 2 3 4 5 6 7 8 10 20 1 2 3 4 5 6 7 8 10 20 1 2 3 4 5 6 7 8 10 "
       ]
      },
      {
       "output_type": "stream",
       "stream": "stdout",
       "text": [
        "20 1 2 3 4 5 6 7 8 10 20 1 2 3 4 5 6 7 8 10 20 1 2 3 4 5 6 7 8 10 20 1 2 3 4 5 6 7 8 10 20 1 2 3 4 5 6 7 8 10 20 1 2 3 4 5 6 7 8 10 20 1 2 3 4 5 6 7 8 10 20 1 2 3 4 5 6 7 8 10 20 1 2 3 4 5 6 7 8 10 20 1 2 3 4 5 6 7 8 10 20 1 2 3 4 5 6 7 8 10 20 1 2 3 4 5 6 7 8 10 20 "
       ]
      },
      {
       "output_type": "stream",
       "stream": "stdout",
       "text": [
        "1 2 3 4 5 6 7 8 10 20 1 2 3 4 5 6 7 8 10 20 1 2 3 4 5 6 7 8 10 20 1 2 3 4 5 6 7 8 10 20 1 2 3 4 5 6 7 8 10 20 1 2 3 4 5 6 7 8 10 20 1 2 3 4 5 6 7 8 10 20 1 2 3 4 5 6 7 8 10 20 1 2 3 4 5 6 7 8 10 20 1 2 3 4 5 6 7 8 10 20 1 2 3 4 5 6 7 8 10 20 1 2 3 4 5 6 7 8 10 20 1 "
       ]
      },
      {
       "output_type": "stream",
       "stream": "stdout",
       "text": [
        "2 3 4 5 6 7 8 10 20 1 2 3 4 5 6 7 8 10 20 1 2 3 4 5 6 7 8 10 20 1 2 3 4 5 6 7 8 10 20 1 2 3 4 5 6 7 8 10 20 1 2 3 4 5 6 7 8 10 20 1 2 3 4 5 6 7 8 10 20 1 2 3 4 5 6 7 8 10 20 1 2 3 4 5 6 7 8 10 20 1 2 3 4 5 6 7 8 10 20 1 2 3 4 5 6 7 8 10 20 1 2 3 4 5 6 7 8 10 20 1 2 3 4 5 6 7 8 10 20 1 2 3 4 5 6 7 8 10 20 1 2 3 4 5 "
       ]
      },
      {
       "output_type": "stream",
       "stream": "stdout",
       "text": [
        "6 7 8 10 20 1 2 3 4 5 6 7 8 10 20 1 2 3 4 5 6 7 8 10 20 1 2 3 4 5 6 7 8 10 20 1 2 3 4 5 6 7 8 10 20 1 2 3 4 5 6 7 8 10 20 1 2 3 4 5 6 7 8 10 20 1 2 3 4 5 6 7 8 10 20 1 2 3 4 5 6 7 8 10 20 1 2 3 4 5 6 7 8 10 20 1 2 3 4 5 6 7 8 10 20 1 2 3 4 5 6 7 8 10 20 1 2 3 4 5 6 7 8 10 "
       ]
      },
      {
       "output_type": "stream",
       "stream": "stdout",
       "text": [
        "20 1 2 3 4 5 6 7 8 10 20 1 2 3 4 5 6 7 8 10 20 1 2 3 4 5 6 7 8 10 20 1 2 3 4 5 6 7 8 10 20 1 2 3 4 5 6 7 8 10 20 1 2 3 4 5 6 7 8 10 20 1 2 3 4 5 6 7 8 10 20 1 2 3 4 5 6 7 8 10 20 1 2 3 4 5 6 7 8 10 20 1 2 3 4 5 6 7 8 10 20 1 2 3 4 5 6 7 8 10 20 1 2 3 4 5 6 7 8 10 20 1 2 3 4 5 6 7 8 10 20 1 2 3 4 5 6 7 8 10 20 "
       ]
      },
      {
       "output_type": "stream",
       "stream": "stdout",
       "text": [
        "1 2 3 4 5 6 7 8 10 20 1 2 3 4 5 6 7 8 10 20 1 2 3 4 5 6 7 8 10 20 1 2 3 4 5 6 7 8 10 20 1 2 3 4 5 6 7 8 10 20 1 2 3 4 5 6 7 8 10 20 1 2 3 4 5 6 7 8 10 20 1 2 3 4 5 6 7 8 10 20 1 2 3 4 5 6 7 8 10 20 1 2 3 4 5 6 7 8 10 20 1 2 3 4 5 6 7 8 10 20 1 2 3 4 5 6 7 8 10 20 1 2 3 4 5 6 7 8 10 20 1 2 3 4 5 6 7 8 10 20 1 2 3 4 5 6 7 8 10 20 1 2 3 4 5 6 7 8 10 20 1 2 3 4 5 6 7 8 10 20 1 2 3 "
       ]
      },
      {
       "output_type": "stream",
       "stream": "stdout",
       "text": [
        "4 5 6 7 8 10 20 1 2 3 4 5 6 7 8 10 20 1 2 3 4 5 6 7 8 10 20 1 2 3 4 5 6 7 8 10 20 1 2 3 4 5 6 7 8 10 20 1 2 3 4 5 6 7 8 10 20 1 2 3 4 5 6 7 8 10 20 1 2 3 4 5 6 7 8 10 20 1 2 3 4 5 6 7 8 10 20 1 2 3 4 5 6 7 8 10 20 1 2 3 4 5 6 7 8 10 20 1 2 3 4 5 6 7 8 10 20 1 2 3 4 5 6 7 8 10 20 1 2 3 4 5 6 7 8 10 20 1 2 3 4 5 6 7 8 10 20 1 2 3 4 5 6 7 8 10 20 1 2 3 4 5 6 7 8 10 20 "
       ]
      },
      {
       "output_type": "stream",
       "stream": "stdout",
       "text": [
        "1 2 3 4 5 6 7 8 10 20 1 2 3 4 5 6 7 8 10 20 1 2 3 4 5 6 7 8 10 20 1 2 3 4 5 6 7 8 10 20 1 2 3 4 5 6 7 8 10 20 1 2 3 4 5 6 7 8 10 20 1 2 3 4 5 6 7 8 10 20 1 2 3 4 5 6 7 8 10 20 1 2 3 4 5 6 7 8 10 20 1 2 3 4 5 6 7 8 10 20 1 2 3 4 5 6 7 8 10 20 1 2 3 4 5 6 7 8 10 20 1 2 3 4 5 6 7 8 10 20 1 2 3 4 5 6 7 8 10 20 1 2 3 4 5 6 7 8 10 20 "
       ]
      },
      {
       "output_type": "stream",
       "stream": "stdout",
       "text": [
        "1 2 3 4 5 6 7 8 10 20 1 2 3 4 5 6 7 8 10 20 1 2 3 4 5 6 7 8 10 20 1 2 3 4 5 6 7 8 10 20 1 2 3 4 5 6 7 8 10 20 1 2 3 4 5 6 7 8 10 20 1 2 3 4 5 6 7 8 10 20 1 2 3 4 5 6 7 8 10 20 1 2 3 4 5 6 7 8 10 20 1 2 3 4 5 6 7 8 10 20 1 2 3 4 5 6 7 8 10 20 1 2 3 4 5 6 7 8 10 20 1 2 3 4 5 6 7 8 10 20 1 2 3 4 5 6 7 8 10 20 1 2 3 4 5 6 7 8 10 "
       ]
      },
      {
       "output_type": "stream",
       "stream": "stdout",
       "text": [
        "20 1 2 3 4 5 6 7 8 10 20 1 2 3 4 5 6 7 8 10 1 2 3 4 5 6 7 8 10 20 1 2 3 4 5 6 7 8 10 20 1 2 3 4 5 6 7 8 10 20 1 2 3 4 5 6 7 8 10 20 1 2 3 4 5 6 7 8 10 20 1 2 3 4 5 6 7 8 10 20 1 2 3 4 5 6 7 8 10 20 1 2 3 4 5 6 7 8 10 20 1 2 3 4 5 6 7 8 10 20 1 2 3 4 5 6 7 8 10 20 1 2 3 4 5 6 7 8 10 20 "
       ]
      },
      {
       "output_type": "stream",
       "stream": "stdout",
       "text": [
        "1 2 3 4 5 6 7 8 10 20 1 2 3 4 5 6 7 8 10 20 1 2 3 4 5 6 7 8 10 20 1 2 3 4 5 6 7 8 10 20 1 2 3 4 5 6 7 8 10 20 1 2 3 4 5 6 7 8 10 20 1 2 3 4 5 6 7 8 10 20 1 2 3 4 5 6 7 8 10 20 1 2 3 4 5 6 7 8 10 20 1 2 3 4 5 6 7 8 10 20 1 2 3 4 5 6 7 8 10 20 1 2 3 4 5 6 7 8 10 20 1 2 3 4 5 6 7 8 10 20 1 2 3 4 5 6 7 8 10 20 1 2 3 4 5 6 7 8 10 20 "
       ]
      },
      {
       "output_type": "stream",
       "stream": "stdout",
       "text": [
        "1 2 3 4 5 6 7 8 10 20 1 2 3 4 5 6 7 8 10 20 1 2 3 4 5 6 7 8 10 20 1 2 3 4 5 6 7 8 10 20 1 2 3 4 5 6 7 8 10 20 1 2 3 4 5 6 7 8 10 20 1 2 3 4 5 6 7 8 10 20 1 2 3 4 5 6 7 8 10 20 1 2 3 4 5 6 7 8 10 20 1 2 3 4 5 6 7 8 10 20 1 2 3 4 5 6 7 8 10 20 1 2 3 4 5 6 7 8 10 20 1 2 3 4 5 6 7 8 10 20 1 2 3 4 5 6 7 8 10 20 1 2 3 4 5 6 7 8 10 20 1 2 3 4 5 6 7 8 10 20 "
       ]
      },
      {
       "output_type": "stream",
       "stream": "stdout",
       "text": [
        "1 2 3 4 5 6 7 8 10 20 1 2 3 4 5 6 7 8 10 20 1 2 3 4 5 6 7 8 10 20 1 2 3 4 5 6 7 8 10 20 1 2 3 4 5 6 7 8 10 20 1 2 3 4 5 6 7 8 10 20 1 2 3 4 5 6 7 8 10 20 1 2 3 4 5 6 7 8 10 20 1 2 3 4 5 6 7 8 10 20 1 2 3 4 5 6 7 8 10 20 1 2 3 4 5 6 7 8 10 20 1 2 3 4 5 6 7 8 10 20 1 2 3 4 5 6 7 8 10 20 1 2 3 4 5 6 7 8 10 20 1 2 3 4 5 6 "
       ]
      },
      {
       "output_type": "stream",
       "stream": "stdout",
       "text": [
        "7 8 10 20 1 2 3 4 5 6 7 8 10 20 1 2 3 4 5 6 7 8 10 20 1 2 3 4 5 6 7 8 10 20 1 2 3 4 5 6 7 8 10 20 1 2 3 4 5 6 7 8 10 20 1 2 3 4 5 6 7 8 10 20 1 2 3 4 5 6 7 8 10 20 1 2 3 4 5 6 7 8 10 20 1 2 3 4 5 6 7 8 10 20 1 2 3 4 5 6 7 8 10 20 1 2 3 4 5 6 7 "
       ]
      },
      {
       "output_type": "stream",
       "stream": "stdout",
       "text": [
        "8 10 20 1 2 3 4 5 6 7 8 10 20 1 2 3 4 5 6 7 8 10 20 1 2 3 4 5 6 7 8 10 20 1 2 3 4 5 6 7 8 10 20 1 2 3 4 5 6 7 8 10 20 1 2 3 4 5 6 7 8 10 20 1 2 3 4 5 6 7 8 10 20 1 2 3 4 5 6 7 8 10 20 1 2 3 4 5 6 7 8 10 20 1 2 3 4 5 6 7 8 10 20 1 2 3 4 5 6 7 8 10 20 1 2 3 4 5 6 7 8 10 20 1 2 3 4 5 6 7 8 10 20 1 2 3 4 5 6 7 8 10 "
       ]
      },
      {
       "output_type": "stream",
       "stream": "stdout",
       "text": [
        "20 1 2 3 4 5 6 7 8 10 20 1 2 3 4 5 6 7 8 10 20 1 2 3 4 5 6 7 8 10 20 1 2 3 4 5 6 7 8 10 20 1 2 3 4 5 6 7 8 10 20 1 2 3 4 5 6 7 8 10 20 1 2 3 4 5 6 7 8 10 20 1 2 3 4 5 6 7 8 10 20 1 2 3 4 5 6 7 8 10 20 1 2 3 4 5 6 7 8 10 20 1 2 3 4 5 6 7 8 10 20 1 2 3 4 5 6 7 8 10 20 1 2 3 4 5 6 7 8 10 20 1 2 3 4 5 "
       ]
      },
      {
       "output_type": "stream",
       "stream": "stdout",
       "text": [
        "6 7 8 10 20 1 2 3 4 5 6 7 8 10 20 1 2 3 4 5 6 7 8 10 20 1 2 3 4 5 6 7 8 10 20 1 2 3 4 5 6 7 8 10 20 1 2 3 4 5 6 7 8 10 20 1 2 3 4 5 6 7 8 10 20 1 2 3 4 5 6 7 8 10 20 1 2 3 4 5 6 7 8 10 20 1 2 3 4 5 6 7 8 10 20 1 2 3 4 5 6 7 8 10 20 1 2 3 4 5 6 7 8 10 20 1 2 3 4 5 6 7 8 10 20 1 2 3 4 5 6 7 8 10 "
       ]
      },
      {
       "output_type": "stream",
       "stream": "stdout",
       "text": [
        "20 1 2 3 4 5 6 7 8 10 20 1 2 3 4 5 6 7 8 10 20 1 2 3 4 5 6 7 8 10 20 1 2 3 4 5 6 7 8 10 20 1 2 3 4 5 6 7 8 10 20 1 2 3 4 5 6 7 8 10 20 1 2 3 4 5 6 7 8 10 20 1 2 3 4 5 6 7 8 10 20 1 2 3 4 5 6 7 8 10 20 1 2 3 4 5 6 7 8 10 20 1 2 3 4 5 6 7 8 10 20 1 2 3 4 5 6 7 8 10 20 1 2 3 4 5 6 7 8 10 20 "
       ]
      },
      {
       "output_type": "stream",
       "stream": "stdout",
       "text": [
        "1 2 3 4 5 6 7 8 10 20 1 2 3 4 5 6 7 8 10 20 1 2 3 4 5 6 7 8 10 20 1 2 3 4 5 6 7 8 10 20 1 2 3 4 5 6 7 8 10 20 1 2 3 4 5 6 7 8 10 20 1 2 3 4 5 6 7 8 10 20 1 2 3 4 5 6 7 8 10 20 1 2 3 4 5 6 7 8 10 20 1 2 3 4 5 6 7 8 10 20 1 2 3 4 5 6 7 8 10 20 1 2 3 4 5 6 7 8 10 20 1 2 3 4 5 6 7 8 10 20 1 2 3 4 5 6 7 8 10 20 1 2 3 4 5 6 7 8 10 "
       ]
      },
      {
       "output_type": "stream",
       "stream": "stdout",
       "text": [
        "20 1 2 3 4 5 6 7 8 10 20 1 2 3 4 5 6 7 8 10 20 1 2 3 4 5 6 7 8 10 20 1 2 3 4 5 6 7 8 10 20 1 2 3 4 5 6 7 8 10 20 1 2 3 4 5 6 7 8 10 20 1 2 3 4 5 6 7 8 10 20 1 2 3 4 5 6 7 8 10 20 1 2 3 4 5 6 7 8 10 20 1 2 3 4 5 6 7 8 10 20 1 2 3 4 5 6 7 8 10 20 1 2 3 4 5 6 7 8 10 20 1 "
       ]
      },
      {
       "output_type": "stream",
       "stream": "stdout",
       "text": [
        "2 3 4 5 6 7 8 10 20 1 2 3 4 5 6 7 8 10 20 1 2 3 4 5 6 7 8 10 20 1 2 3 4 5 6 7 8 10 20 1 2 3 4 5 6 7 8 10 20 1 2 3 4 5 6 7 8 10 20 1 2 3 4 5 6 7 8 10 20 1 2 3 4 5 6 7 8 10 20 1 2 3 4 5 6 7 8 10 20 1 2 3 4 5 6 7 8 10 20 1 2 3 4 5 6 7 8 10 20 1 2 3 4 5 6 7 8 10 20 1 2 3 4 5 6 7 "
       ]
      },
      {
       "output_type": "stream",
       "stream": "stdout",
       "text": [
        "8 10 20 1 2 3 4 5 6 7 8 10 20 1 2 3 4 5 6 7 8 10 20 1 2 3 4 5 6 7 8 10 20 1 2 3 4 5 6 7 8 10 20 1 2 3 4 5 6 7 8 10 20 1 2 3 4 5 6 7 8 10 20 1 2 3 4 5 6 7 8 10 20 1 2 3 4 5 6 7 8 10 20 1 2 3 4 5 6 7 8 10 20 1 2 3 4 5 6 7 8 10 20 1 2 3 4 5 6 7 8 10 20 1 2 3 4 5 6 7 8 10 20 1 2 3 4 5 6 7 8 10 20 1 2 3 4 5 6 7 8 10 20 1 2 3 4 5 6 7 8 10 "
       ]
      },
      {
       "output_type": "stream",
       "stream": "stdout",
       "text": [
        "20 1 2 3 4 5 6 7 8 10 20 1 2 3 4 5 6 7 8 10 20 1 2 3 4 5 6 7 8 10 20 1 2 3 4 5 6 7 8 10 20 1 2 3 4 5 6 7 8 10 20 1 2 3 4 5 6 7 8 10 20 1 2 3 4 5 6 7 8 10 20 1 2 3 4 5 6 7 8 10 20 1 2 3 4 5 6 7 8 10 20 1 2 3 4 5 6 7 8 10 20 1 2 3 4 5 6 7 8 10 20 1 2 3 4 5 6 7 8 10 20 1 2 3 4 5 6 7 8 10 "
       ]
      },
      {
       "output_type": "stream",
       "stream": "stdout",
       "text": [
        "20 1 2 3 4 5 6 7 8 10 20 1 2 3 4 5 6 7 8 10 20 1 2 3 4 5 6 7 8 10 20 1 2 3 4 5 6 7 8 10 20 1 2 3 4 5 6 7 8 10 20 1 2 3 4 5 6 7 8 10 20 1 2 3 4 5 6 7 8 10 20 1 2 3 4 5 6 7 8 10 20 1 2 3 4 5 6 7 8 10 20 1 2 3 4 5 6 7 8 10 20 1 2 3 4 5 6 7 8 10 20 1 2 3 4 5 6 7 8 10 20 1 2 3 4 5 6 7 8 10 20 1 2 3 4 5 6 7 8 10 "
       ]
      },
      {
       "output_type": "stream",
       "stream": "stdout",
       "text": [
        "20 1 2 3 4 5 6 7 8 10 20 1 2 3 4 5 6 7 8 10 20 1 2 3 4 5 6 7 8 10 20 1 2 3 4 5 6 7 8 10 20 1 2 3 4 5 6 7 8 10 20 1 2 3 4 5 6 7 8 10 20 1 2 3 4 5 6 7 8 10 20 1 2 3 4 5 6 7 8 10 20 1 2 3 4 5 6 7 8 10 20 1 2 3 4 5 6 7 8 10 20 1 2 3 4 5 6 7 8 10 20 1 2 3 4 5 6 7 8 10 20 1 2 3 4 5 6 7 8 10 20 1 2 3 4 5 6 7 8 10 20 1 "
       ]
      },
      {
       "output_type": "stream",
       "stream": "stdout",
       "text": [
        "2 3 4 5 6 7 8 10 20 1 2 3 4 5 6 7 8 10 20 1 2 3 4 5 6 7 8 10 20 1 2 3 4 5 6 7 8 10 20 1 2 3 4 5 6 7 8 10 20 1 2 3 4 5 6 7 8 10 20 1 2 3 4 5 6 7 8 10 20 1 2 3 4 5 6 7 8 10 20 1 2 3 4 5 6 7 8 10 20 1 2 3 4 5 6 7 8 10 20 1 2 3 4 5 6 7 8 10 20 1 2 3 4 5 6 7 8 10 20 1 2 3 4 5 6 7 8 10 20 1 2 3 4 5 "
       ]
      },
      {
       "output_type": "stream",
       "stream": "stdout",
       "text": [
        "6 7 8 10 20 1 2 3 4 5 6 7 8 10 20 1 2 3 4 5 6 7 8 10 20 1 2 3 4 5 6 7 8 10 20 1 2 3 4 5 6 7 8 10 20 1 2 3 4 5 6 7 8 10 20 1 2 3 4 5 6 7 8 10 20 1 2 3 4 5 6 7 8 10 20 1 2 3 4 5 6 7 8 10 20 1 2 3 4 5 6 7 8 10 20 1 2 3 4 5 6 7 8 10 20 1 2 3 4 5 6 7 8 10 20 1 2 3 4 5 6 7 8 10 20 1 2 3 4 5 6 7 8 10 20 1 2 3 4 5 6 7 "
       ]
      },
      {
       "output_type": "stream",
       "stream": "stdout",
       "text": [
        "8 10 20 1 2 3 4 5 6 7 8 10 20 1 2 3 4 5 6 7 8 10 20 1 2 3 4 5 6 7 8 10 20 1 2 3 4 5 6 7 8 10 20 1 2 3 4 5 6 7 8 10 20 1 2 3 4 5 6 7 8 10 20 1 2 3 4 5 6 7 8 10 20 1 2 3 4 5 6 7 8 10 20 1 2 3 4 5 6 7 8 10 20 1 2 3 4 5 6 7 8 10 20 1 2 3 4 5 6 7 8 10 20 1 2 3 4 5 6 "
       ]
      },
      {
       "output_type": "stream",
       "stream": "stdout",
       "text": [
        "7 8 10 20 1 2 3 4 5 6 7 8 10 20 1 2 3 4 5 6 7 8 10 20 1 2 3 4 5 6 7 8 10 20 1 2 3 4 5 6 7 8 10 20 1 2 3 4 5 6 7 8 10 20 1 2 3 4 5 6 7 8 10 20 1 2 3 4 5 6 7 8 10 20 1 2 3 4 5 6 7 8 10 20 1 2 3 4 5 6 7 8 10 20 1 2 3 4 5 6 7 8 10 20 1 2 3 4 5 6 7 8 10 20 1 2 3 4 5 6 7 8 10 20 1 2 3 4 5 6 7 8 10 20 1 2 3 4 5 6 7 8 10 20 1 2 3 4 5 6 7 8 10 20 "
       ]
      },
      {
       "output_type": "stream",
       "stream": "stdout",
       "text": [
        "1 2 3 4 5 6 7 8 10 20 1 2 3 4 5 6 7 8 10 20 1 2 3 4 5 6 7 8 10 20 1 2 3 4 5 6 7 8 10 20 1 2 3 4 5 6 7 8 10 20 1 2 3 4 5 6 7 8 10 20 1 2 3 4 5 6 7 8 10 20 1 2 3 4 5 6 7 8 10 20 1 2 3 4 5 6 7 8 10 20 1 2 3 4 5 6 7 8 10 20 1 2 3 4 5 6 7 8 10 20 1 2 3 4 5 6 7 8 10 20 1 2 3 4 5 6 7 8 10 20 1 2 3 4 5 6 7 8 10 20 "
       ]
      },
      {
       "output_type": "stream",
       "stream": "stdout",
       "text": [
        "1 2 3 4 5 6 7 8 10 20 1 2 3 4 5 6 7 8 10 20 1 2 3 4 5 6 7 8 10 20 1 2 3 4 5 6 7 8 10 20 1 2 3 4 5 6 7 8 10 20 1 2 3 4 5 6 7 8 10 20 1 2 3 4 5 6 7 8 10 20 1 2 3 4 5 6 7 8 10 20 1 2 3 4 5 6 7 8 10 20 1 2 3 4 5 6 7 8 10 20 1 2 3 4 5 6 7 8 10 20 1 2 3 4 5 6 7 8 10 20 1 2 3 4 5 6 7 8 10 20 1 2 3 4 5 6 7 8 10 20 "
       ]
      },
      {
       "output_type": "stream",
       "stream": "stdout",
       "text": [
        "1 2 3 4 5 6 7 8 10 20 1 2 3 4 5 6 7 8 10 20 1 2 3 4 5 6 7 8 10 20 1 2 3 4 5 6 7 8 10 20 1 2 3 4 5 6 7 8 10 20 1 2 3 4 5 6 7 8 10 20 1 2 3 4 5 6 7 8 10 20 1 2 3 4 5 6 7 8 10 20 1 2 3 4 5 6 7 8 10 20 1 2 3 4 5 6 7 8 10 20 1 2 3 4 5 6 7 8 10 20 1 2 3 4 5 6 7 8 10 20 1 2 3 4 5 6 7 8 10 20 1 2 3 4 5 6 7 8 10 20 1 2 3 4 5 6 7 8 10 20 1 2 3 4 5 6 7 8 10 20 1 2 3 4 5 6 7 8 10 "
       ]
      },
      {
       "output_type": "stream",
       "stream": "stdout",
       "text": [
        "20 1 2 3 4 5 6 7 8 10 20 1 2 3 4 5 6 7 8 10 20 1 2 3 4 5 6 7 8 10 20 1 2 3 4 5 6 7 8 10 20 1 2 3 4 5 6 7 8 10 20 1 2 3 4 5 6 7 8 10 20 1 2 3 4 5 6 7 8 10 20 1 2 3 4 5 6 7 8 10 20 1 2 3 4 5 6 7 8 10 20 1 2 3 4 5 6 7 8 10 20 1 2 3 4 5 6 7 8 10 20 1 2 3 4 5 6 7 8 10 20 1 2 3 4 5 6 7 8 10 20 1 2 3 4 5 6 7 8 10 20 1 2 3 4 5 6 7 8 10 20 1 2 3 4 5 6 7 8 10 20 1 2 3 4 5 6 "
       ]
      },
      {
       "output_type": "stream",
       "stream": "stdout",
       "text": [
        "7 8 10 20 1 2 3 4 5 6 7 8 10 20 1 2 3 4 5 6 7 8 10 20 1 2 3 4 5 6 7 8 10 20 1 2 3 4 5 6 7 8 10 20 1 2 3 4 5 6 7 8 10 20 1 2 3 4 5 6 7 8 10 20 1 2 3 4 5 6 7 8 10 20 1 2 3 4 5 6 7 8 10 20 1 2 3 4 5 6 7 8 10 20 1 2 3 4 5 6 7 8 10 20 1 2 3 4 5 6 7 8 10 20 1 2 3 4 5 6 7 8 10 20 1 2 3 4 5 6 7 8 10 20 1 2 3 4 5 6 7 8 10 20 1 2 3 4 5 6 7 8 10 20 1 2 3 4 5 6 7 8 10 20 "
       ]
      },
      {
       "output_type": "stream",
       "stream": "stdout",
       "text": [
        "1 2 3 4 5 6 7 8 10 20 1 2 3 4 5 6 7 8 10 20 1 2 3 4 5 6 7 8 10 20 1 2 3 4 5 6 7 8 10 20 1 2 3 4 5 6 7 8 10 20 1 2 3 4 5 6 7 8 10 20 1 2 3 4 5 6 7 8 10 20 1 2 3 4 5 6 7 8 10 20 1 2 3 4 5 6 7 8 10 20 1 2 3 4 5 6 7 8 10 20 1 2 3 4 5 6 7 8 10 20 1 2 3 4 5 6 7 8 10 20 1 2 3 4 5 6 7 8 10 20 1 "
       ]
      },
      {
       "output_type": "stream",
       "stream": "stdout",
       "text": [
        "2 3 4 5 6 7 8 10 20 1 2 3 4 5 6 7 8 10 20 1 2 3 4 5 6 7 8 10 20 1 2 3 4 5 6 7 8 10 20 1 2 3 4 5 6 7 8 10 20 1 2 3 4 5 6 7 8 10 20 1 2 3 4 5 6 7 8 10 20 1 2 3 4 5 6 7 8 10 20 1 2 3 4 5 6 7 8 10 20 1 2 3 4 5 6 7 8 10 20 1 2 3 4 5 6 7 8 10 20 1 2 3 4 5 6 7 8 10 20 1 2 3 4 "
       ]
      },
      {
       "output_type": "stream",
       "stream": "stdout",
       "text": [
        "5 6 7 8 10 20 1 2 3 4 5 6 7 8 10 20 1 2 3 4 5 6 7 8 10 20 1 2 3 4 5 6 7 8 10 20 1 2 3 4 5 6 7 8 10 20 1 2 3 4 5 6 7 8 10 20 1 2 3 4 5 6 7 8 10 20 1 2 3 4 5 6 7 8 10 20 1 2 3 4 5 6 7 8 10 20 1 2 3 4 5 6 7 8 10 20 1 2 3 4 5 6 7 8 10 20 1 2 3 4 5 6 7 8 10 20 1 2 3 4 5 6 7 8 10 20 1 2 3 "
       ]
      },
      {
       "output_type": "stream",
       "stream": "stdout",
       "text": [
        "4 5 6 7 8 10 20 1 2 3 4 5 6 7 8 10 20 1 2 3 4 5 6 7 8 10 20 1 2 3 4 5 6 7 8 10 20 1 2 3 4 5 6 7 8 10 20 1 2 3 4 5 6 7 8 10 20 1 2 3 4 5 6 7 8 10 20 1 2 3 4 5 6 7 8 10 20 1 2 3 4 5 6 7 8 10 20 1 2 3 4 5 6 7 8 10 20 1 2 3 4 5 6 7 8 10 20 1 2 3 4 5 6 7 8 10 20 1 2 3 4 5 6 7 8 10 20 "
       ]
      },
      {
       "output_type": "stream",
       "stream": "stdout",
       "text": [
        "1 2 3 4 5 6 7 8 10 20 1 2 3 4 5 6 7 8 10 20 1 2 3 4 5 6 7 8 10 20 1 2 3 4 5 6 7 8 10 1 2 3 4 5 6 7 8 10 20 1 2 3 4 5 6 7 8 10 20 1 2 3 4 5 6 7 8 10 20 1 2 3 4 5 6 7 8 10 20 1 2 3 4 5 6 7 8 10 20 1 2 3 4 5 6 7 8 10 20 1 2 3 4 5 6 7 8 10 20 1 2 3 4 5 6 7 8 10 20 1 2 3 4 5 6 7 8 10 20 1 2 3 4 5 6 7 8 10 20 1 2 3 4 5 6 7 8 10 20 "
       ]
      },
      {
       "output_type": "stream",
       "stream": "stdout",
       "text": [
        "1 2 3 4 5 6 7 8 10 20 1 2 3 4 5 6 7 8 10 20 1 2 3 4 5 6 7 8 10 20 1 2 3 4 5 6 7 8 10 20 1 2 3 4 5 6 7 8 10 20 1 2 3 4 5 6 7 8 10 20 1 2 3 4 5 6 7 8 10 20 1 2 3 4 5 6 7 8 10 20 1 2 3 4 5 6 7 8 10 20 1 2 3 4 5 6 7 8 10 20 1 2 3 4 5 6 7 8 10 20 1 2 3 4 5 6 7 8 10 20 1 2 3 4 5 6 7 8 10 20 1 2 3 4 5 6 7 8 10 20 1 2 3 4 "
       ]
      },
      {
       "output_type": "stream",
       "stream": "stdout",
       "text": [
        "5 6 7 8 10 20 1 2 3 4 5 6 7 8 10 20 1 2 3 4 5 6 7 8 10 20 1 2 3 4 5 6 7 8 10 20 1 2 3 4 5 6 7 8 10 20 1 2 3 4 5 6 7 8 10 20 1 2 3 4 5 6 7 8 10 20 1 2 3 4 5 6 7 8 10 20 1 2 3 4 5 6 7 8 10 20 1 2 3 4 5 6 7 8 10 20 1 2 3 4 5 6 7 8 10 20 1 2 3 4 5 6 7 8 10 20 1 2 3 4 5 6 7 8 10 20 1 2 3 4 5 6 7 8 10 20 1 2 3 4 5 6 7 8 10 20 "
       ]
      },
      {
       "output_type": "stream",
       "stream": "stdout",
       "text": [
        "1 2 3 4 5 6 7 8 10 20 1 2 3 4 5 6 7 8 10 20 1 2 3 4 5 6 7 8 10 20 1 2 3 4 5 6 7 8 10 20 1 2 3 4 5 6 7 8 10 20 1 2 3 4 5 6 7 8 10 20 1 2 3 4 5 6 7 8 10 20 1 2 3 4 5 6 7 8 10 20 1 2 3 4 5 6 7 8 10 20 1 2 3 4 5 6 7 8 10 20 1 2 3 4 5 6 7 8 10 20 1 2 3 4 5 6 7 8 10 20 1 2 3 4 5 6 7 8 10 20 1 2 3 4 5 6 7 8 10 1 2 3 4 5 6 7 8 10 20 1 2 3 4 5 6 7 8 10 "
       ]
      },
      {
       "output_type": "stream",
       "stream": "stdout",
       "text": [
        "20 1 2 3 4 5 6 7 8 10 20 1 2 3 4 5 6 7 8 10 20 1 2 3 4 5 6 7 8 10 20 1 2 3 4 5 6 7 8 10 20 1 2 3 4 5 6 7 8 10 20 1 2 3 4 5 6 7 8 10 20 1 2 3 4 5 6 7 8 10 20 1 2 3 4 5 6 7 8 10 20 1 2 3 4 5 6 7 8 10 20 1 2 3 4 5 6 7 8 10 20 1 2 3 4 5 6 7 8 10 20 1 2 3 4 5 6 7 8 10 20 1 2 3 4 5 6 7 8 10 20 1 2 3 4 5 6 7 8 10 20 "
       ]
      },
      {
       "output_type": "stream",
       "stream": "stdout",
       "text": [
        "1 2 3 4 5 6 7 8 10 20 1 2 3 4 5 6 7 8 10 20 1 2 3 4 5 6 7 8 10 20 1 2 3 4 5 6 7 8 10 20 1 2 3 4 5 6 7 8 10 20 1 2 3 4 5 6 7 8 10 20 1 2 3 4 5 6 7 8 10 20 1 2 3 4 5 6 7 8 10 20 1 2 3 4 5 6 7 8 10 20 1 2 3 4 5 6 7 8 10 20 1 2 3 4 5 6 7 8 10 20 1 2 3 4 5 6 7 8 10 20 1 2 3 4 5 6 7 8 10 20 1 2 3 4 5 6 7 8 10 "
       ]
      },
      {
       "output_type": "stream",
       "stream": "stdout",
       "text": [
        "20 1 2 3 4 5 6 7 8 10 20 1 2 3 4 5 6 7 8 10 20 1 2 3 4 5 6 7 8 10 20 1 2 3 4 5 6 7 8 10 20 1 2 3 4 5 6 7 8 10 20 1 2 3 4 5 6 7 8 10 20 1 2 3 4 5 6 7 8 10 20 1 2 3 4 5 6 7 8 10 20 1 2 3 4 5 6 7 8 10 20 1 2 3 4 5 6 7 8 10 20 1 2 3 4 5 6 7 8 10 20 1 2 3 4 5 6 7 8 10 20 1 2 3 4 5 6 7 8 10 20 1 2 3 4 5 6 7 8 10 20 1 2 3 4 5 6 7 8 10 20 1 2 3 4 5 6 7 8 10 20 1 2 "
       ]
      },
      {
       "output_type": "stream",
       "stream": "stdout",
       "text": [
        "3 4 5 6 7 8 10 20 1 2 3 4 5 6 7 8 10 20 1 2 3 4 5 6 7 8 10 20 1 2 3 4 5 6 7 8 10 20 1 2 3 4 5 6 7 8 10 20 1 2 3 4 5 6 7 8 10 20 1 2 3 4 5 6 7 8 10 20 1 2 3 4 5 6 7 8 10 20 1 2 3 4 5 6 7 8 10 20 1 2 3 4 5 6 7 8 10 20 1 2 3 4 5 6 7 8 10 20 1 2 3 4 5 6 7 8 10 20 1 2 3 4 5 6 7 8 10 20 1 2 3 4 5 6 7 8 10 "
       ]
      },
      {
       "output_type": "stream",
       "stream": "stdout",
       "text": [
        "20 1 2 3 4 5 6 7 8 10 20 1 2 3 4 5 6 7 8 10 20 1 2 3 4 5 6 7 8 10 20 1 2 3 4 5 6 7 8 10 20 1 2 3 4 5 6 7 8 10 20 1 2 3 4 5 6 7 8 10 20 1 2 3 4 5 6 7 8 10 20 1 2 3 4 5 6 7 8 10 20 1 2 3 4 5 6 7 8 10 20 1 2 3 4 5 6 7 8 10 20 1 2 3 4 5 6 7 8 10 20 1 2 3 4 5 6 7 8 10 1 2 3 4 5 6 7 8 10 1 2 3 4 5 6 7 8 "
       ]
      },
      {
       "output_type": "stream",
       "stream": "stdout",
       "text": [
        "10 20 1 2 3 4 5 6 7 8 10 20 1 2 3 4 5 6 7 8 10 20 1 2 3 4 5 6 7 8 10 20 1 2 3 4 5 6 7 8 10 20 1 2 3 4 5 6 7 8 10 20 1 2 3 4 5 6 7 8 10 20 1 2 3 4 5 6 7 8 10 20 1 2 3 4 5 6 7 8 10 20 1 2 3 4 5 6 7 8 10 20 1 2 3 4 5 6 7 8 10 20 1 2 3 4 5 6 7 8 10 20 1 2 3 4 5 6 7 8 10 20 1 2 3 4 5 6 7 8 10 20 1 2 3 4 5 6 7 8 10 20 "
       ]
      },
      {
       "output_type": "stream",
       "stream": "stdout",
       "text": [
        "1 2 3 4 5 6 7 8 10 20 1 2 3 4 5 6 7 8 10 20 1 2 3 4 5 6 7 8 10 20 1 2 3 4 5 6 7 8 10 20 1 2 3 4 5 6 7 8 10 20 1 2 3 4 5 6 7 8 10 20 1 2 3 4 5 6 7 8 10 20 1 2 3 4 5 6 7 8 10 20 1 2 3 4 5 6 7 8 10 20 1 2 3 4 5 6 7 8 10 20 1 2 3 4 5 6 7 8 10 20 1 2 3 4 5 6 7 8 10 20 1 2 3 4 5 6 7 8 10 20 1 2 3 4 5 6 7 8 10 20 1 2 3 4 5 6 7 8 10 20 1 2 3 4 5 6 7 8 10 20 "
       ]
      },
      {
       "output_type": "stream",
       "stream": "stdout",
       "text": [
        "1 2 3 4 5 6 7 8 10 20 1 2 3 4 5 6 7 8 10 20 1 2 3 4 5 6 7 8 10 20 1 2 3 4 5 6 7 8 10 20 1 2 3 4 5 6 7 8 10 1 2 3 4 5 6 7 8 10 20 1 2 3 4 5 6 7 8 10 20 1 2 3 4 5 6 7 8 10 20 1 2 3 4 5 6 7 8 10 20 1 2 3 4 5 6 7 8 10 20 1 2 3 4 5 6 7 8 10 20 1 2 3 4 5 6 7 8 10 20 1 2 3 4 5 6 7 8 10 20 1 2 3 4 5 6 7 8 10 20 "
       ]
      },
      {
       "output_type": "stream",
       "stream": "stdout",
       "text": [
        "1 2 3 4 5 6 7 8 10 20 1 2 3 4 5 6 7 8 10 20 1 2 3 4 5 6 7 8 10 20 1 2 3 4 5 6 7 8 10 20 1 2 3 4 5 6 7 8 10 20 1 2 3 4 5 6 7 8 10 20 1 2 3 4 5 6 7 8 10 20 1 2 3 4 5 6 7 8 10 20 1 2 3 4 5 6 7 8 10 20 1 2 3 4 5 6 7 8 10 20 1 2 3 4 5 6 7 8 10 20 1 2 3 4 5 6 7 8 10 20 1 2 3 4 5 6 7 8 "
       ]
      },
      {
       "output_type": "stream",
       "stream": "stdout",
       "text": [
        "10 20 1 2 3 4 5 6 7 8 10 20 1 2 3 4 5 6 7 8 10 20 1 2 3 4 5 6 7 8 10 20 1 2 3 4 5 6 7 8 10 20 1 2 3 4 5 6 7 8 10 20 1 2 3 4 5 6 7 8 10 20 1 2 3 4 5 6 7 8 10 20 1 2 3 4 5 6 7 8 10 20 1 2 3 4 5 6 7 8 10 20 1 2 3 4 5 6 7 8 10 20 1 2 3 4 5 6 7 8 10 20 "
       ]
      },
      {
       "output_type": "stream",
       "stream": "stdout",
       "text": [
        "1 2 3 4 5 6 7 8 10 20 1 2 3 4 5 6 7 8 10 20 1 2 3 4 5 6 7 8 10 20 1 2 3 4 5 6 7 8 10 20 1 2 3 4 5 6 7 8 10 20 1 2 3 4 5 6 7 8 10 20 1 2 3 4 5 6 7 8 10 20 1 2 3 4 5 6 7 8 10 20 1 2 3 4 5 6 7 8 10 20 1 2 3 4 5 6 7 8 10 20 1 2 3 4 5 6 7 8 10 20 1 2 3 4 5 6 7 8 10 20 1 2 3 4 5 6 7 8 10 20 1 2 3 4 5 6 7 8 10 20 1 2 3 4 5 6 7 8 10 20 "
       ]
      },
      {
       "output_type": "stream",
       "stream": "stdout",
       "text": [
        "1 2 3 4 5 6 7 8 10 20 1 2 3 4 5 6 7 8 10 20 1 2 3 4 5 6 7 8 10 20 1 2 3 4 5 6 7 8 10 20 1 2 3 4 5 6 7 8 10 20 1 2 3 4 5 6 7 8 10 20 1 2 3 4 5 6 7 8 10 20 1 2 3 4 5 6 7 8 10 20 1 2 3 4 5 6 7 8 10 20 1 2 3 4 5 6 7 8 10 20 1 2 3 4 5 6 7 8 10 20 1 2 3 4 5 6 7 8 10 20 1 "
       ]
      },
      {
       "output_type": "stream",
       "stream": "stdout",
       "text": [
        "2 3 4 5 6 7 8 10 20 1 2 3 4 5 6 7 8 10 20 1 2 3 4 5 6 7 8 10 20 1 2 3 4 5 6 7 8 10 20 1 2 3 4 5 6 7 8 10 20 1 2 3 4 5 6 7 8 10 20 1 2 3 4 5 6 7 8 10 20 1 2 3 4 5 6 7 8 10 20 1 2 3 4 5 6 7 8 10 20 1 2 3 4 5 6 7 8 10 20 1 2 3 4 5 6 7 8 10 20 1 2 3 4 5 6 7 8 10 20 1 2 3 4 5 6 7 8 10 20 1 2 3 4 5 6 7 8 10 20 1 2 3 4 5 6 7 8 10 "
       ]
      },
      {
       "output_type": "stream",
       "stream": "stdout",
       "text": [
        "20 1 2 3 4 5 6 7 8 10 20 1 2 3 4 5 6 7 8 10 20 1 2 3 4 5 6 7 8 10 20 1 2 3 4 5 6 7 8 10 20 1 2 3 4 5 6 7 8 10 20 1 2 3 4 5 6 7 8 10 20 1 2 3 4 5 6 7 8 10 20 1 2 3 4 5 6 7 8 10 20 1 2 3 4 5 6 7 8 10 20 1 2 3 4 5 6 7 8 10 20 1 2 3 4 5 6 7 8 10 20 1 2 3 4 5 6 7 8 10 20 1 2 3 4 5 6 7 8 10 20 1 2 3 4 5 6 7 8 10 "
       ]
      },
      {
       "output_type": "stream",
       "stream": "stdout",
       "text": [
        "20 1 2 3 4 5 6 7 8 10 20 1 2 3 4 5 6 7 8 10 20 1 2 3 4 5 6 7 8 10 20 1 2 3 4 5 6 7 8 10 20 1 2 3 4 5 6 7 8 10 20 1 2 3 4 5 6 7 8 10 20 1 2 3 4 5 6 7 8 10 20 1 2 3 4 5 6 7 8 10 20 1 2 3 4 5 6 7 8 10 20 1 2 3 4 5 6 7 8 10 20 1 2 3 4 5 6 7 8 10 20 1 2 3 4 5 6 7 8 10 "
       ]
      },
      {
       "output_type": "stream",
       "stream": "stdout",
       "text": [
        "20 1 2 3 4 5 6 7 8 10 20 1 2 3 4 5 6 7 8 10 20 1 2 3 4 5 6 7 8 10 20 1 2 3 4 5 6 7 8 10 20 1 2 3 4 5 6 7 8 10 20 1 2 3 4 5 6 7 8 10 20 1 2 3 4 5 6 7 8 10 20 1 2 3 4 5 6 7 8 10 20 1 2 3 4 5 6 7 8 10 20 1 2 3 4 5 6 7 8 10 20 1 2 3 4 5 6 7 8 10 20 1 2 3 4 5 6 7 8 10 20 1 2 3 4 5 6 7 8 10 20 1 2 3 4 5 6 7 8 10 20 1 2 3 4 5 6 "
       ]
      },
      {
       "output_type": "stream",
       "stream": "stdout",
       "text": [
        "7 8 10 20 1 2 3 4 5 6 7 8 10 20 1 2 3 4 5 6 7 8 10 20 1 2 3 4 5 6 7 8 10 20 1 2 3 4 5 6 7 8 10 20 1 2 3 4 5 6 7 8 10 20 1 2 3 4 5 6 7 8 10 20 1 2 3 4 5 6 7 8 10 20 1 2 3 4 5 6 7 8 10 20 1 2 3 4 5 6 7 8 10 20 1 2 3 4 5 6 7 8 10 20 1 2 3 4 5 6 7 8 10 20 1 2 3 4 5 6 7 8 10 20 1 2 3 4 5 6 7 8 10 20 1 2 3 4 5 6 7 8 10 20 "
       ]
      },
      {
       "output_type": "stream",
       "stream": "stdout",
       "text": [
        "1 2 3 4 5 6 7 8 10 20 1 2 3 4 5 6 7 8 10 20 1 2 3 4 5 6 7 8 10 20 1 2 3 4 5 6 7 8 10 20 1 2 3 4 5 6 7 8 10 20 1 2 3 4 5 6 7 8 10 20 1 2 3 4 5 6 7 8 10 20 1 2 3 4 5 6 7 8 10 20 1 2 3 4 5 6 7 8 10 20 1 2 3 4 5 6 7 8 10 20 1 2 3 4 5 6 7 8 10 20 1 2 3 4 5 6 7 8 10 20 1 2 3 4 5 6 7 8 10 20 1 2 3 4 5 6 7 8 10 20 1 2 3 4 5 6 7 8 10 20 "
       ]
      },
      {
       "output_type": "stream",
       "stream": "stdout",
       "text": [
        "1 2 3 4 5 6 7 8 10 20 1 2 3 4 5 6 7 8 10 20 1 2 3 4 5 6 7 8 10 20 1 2 3 4 5 6 7 8 10 20 1 2 3 4 5 6 7 8 10 20 1 2 3 4 5 6 7 8 10 20 1 2 3 4 5 6 7 8 10 20 1 2 3 4 5 6 7 8 10 20 1 2 3 4 5 6 7 8 10 20 1 2 3 4 5 6 7 8 10 20 1 2 3 4 5 6 7 8 10 20 1 2 3 4 5 6 7 8 10 20 1 2 3 4 5 6 7 8 10 20 1 2 3 4 5 6 7 8 10 "
       ]
      },
      {
       "output_type": "stream",
       "stream": "stdout",
       "text": [
        "20 1 2 3 4 5 6 7 8 10 20 1 2 3 4 5 6 7 8 10 20 1 2 3 4 5 6 7 8 10 20 1 2 3 4 5 6 7 8 10 20 1 2 3 4 5 6 7 8 10 20 1 2 3 4 5 6 7 8 10 20 1 2 3 4 5 6 7 8 10 20 1 2 3 4 5 6 7 8 10 20 1 2 3 4 5 6 7 8 10 20 1 2 3 4 5 6 7 8 10 20 1 2 3 4 5 6 7 8 10 20 1 2 3 4 5 6 7 8 10 20 1 2 3 4 5 6 7 8 10 20 "
       ]
      },
      {
       "output_type": "stream",
       "stream": "stdout",
       "text": [
        "1 2 3 4 5 6 7 8 10 20 1 2 3 4 5 6 7 8 10 20 1 2 3 4 5 6 7 8 10 20 1 2 3 4 5 6 7 8 10 20 1 2 3 4 5 6 7 8 10 20 1 2 3 4 5 6 7 8 10 20 1 2 3 4 5 6 7 8 10 20 1 2 3 4 5 6 7 8 10 20 1 2 3 4 5 6 7 8 10 20 1 2 3 4 5 6 7 8 10 20 1 2 3 4 5 6 7 8 10 20 1 2 3 4 5 6 7 8 10 "
       ]
      },
      {
       "output_type": "stream",
       "stream": "stdout",
       "text": [
        "20 1 2 3 4 5 6 7 8 10 20 1 2 3 4 5 6 7 8 10 20 1 2 3 4 5 6 7 8 10 20 1 2 3 4 5 6 7 8 10 20 1 2 3 4 5 6 7 8 10 20 1 2 3 4 5 6 7 8 10 20 1 2 3 4 5 6 7 8 10 20 1 2 3 4 5 6 7 8 10 20 1 2 3 4 5 6 7 8 10 20 1 2 3 4 5 6 7 8 10 20 1 2 3 4 5 6 7 8 10 20 1 2 3 4 5 6 7 8 10 20 1 2 3 4 5 6 7 8 10 20 1 2 3 4 5 6 7 8 10 20 "
       ]
      },
      {
       "output_type": "stream",
       "stream": "stdout",
       "text": [
        "1 2 3 4 5 6 7 8 10 20 1 2 3 4 5 6 7 8 10 20 1 2 3 4 5 6 7 8 10 20 1 2 3 4 5 6 7 8 10 20 1 2 3 4 5 6 7 8 10 20 1 2 3 4 5 6 7 8 10 20 1 2 3 4 5 6 7 8 10 20 1 2 3 4 5 6 7 8 10 20 1 2 3 4 5 6 7 8 10 20 1 2 3 4 5 6 7 8 10 20 1 2 3 4 5 6 7 8 10 20 1 2 3 4 5 6 7 8 10 20 "
       ]
      },
      {
       "output_type": "stream",
       "stream": "stdout",
       "text": [
        "1 2 3 4 5 6 7 8 10 20 1 2 3 4 5 6 7 8 10 20 1 2 3 4 5 6 7 8 10 20 1 2 3 4 5 6 7 8 10 20 1 2 3 4 5 6 7 8 10 20 1 2 3 4 5 6 7 8 10 20 1 2 3 4 5 6 7 8 10 20 1 2 3 4 5 6 7 8 10 20 1 2 3 4 5 6 7 8 10 20 1 2 3 4 5 6 7 8 10 20 1 2 3 4 5 6 7 8 10 20 1 2 3 4 5 6 7 8 10 20 "
       ]
      },
      {
       "output_type": "stream",
       "stream": "stdout",
       "text": [
        "1 2 3 4 5 6 7 8 10 20 1 2 3 4 5 6 7 8 10 20 1 2 3 4 5 6 7 8 10 20 1 2 3 4 5 6 7 8 10 20 1 2 3 4 5 6 7 8 10 20 1 2 3 4 5 6 7 8 10 20 1 2 3 4 5 6 7 8 10 20 1 2 3 4 5 6 7 8 10 20 1 2 3 4 5 6 7 8 10 20 1 2 3 4 5 6 7 8 10 20 1 2 3 4 5 6 7 8 10 20 1 2 3 4 5 6 7 8 10 20 1 2 3 4 5 6 7 8 10 20 1 2 3 4 5 6 7 8 10 20 1 "
       ]
      },
      {
       "output_type": "stream",
       "stream": "stdout",
       "text": [
        "2 3 4 5 6 7 8 10 20 1 2 3 4 5 6 7 8 10 20 1 2 3 4 5 6 7 8 10 20 1 2 3 4 5 6 7 8 10 20 1 2 3 4 5 6 7 8 10 20 1 2 3 4 5 6 7 8 10 20 1 2 3 4 5 6 7 8 10 20 1 2 3 4 5 6 7 8 10 20 1 2 3 4 5 6 7 8 10 20 1 2 3 4 5 6 7 8 10 20 1 2 3 4 5 6 7 8 10 20 1 2 3 4 5 6 7 8 10 20 1 2 3 4 5 6 7 8 10 20 1 2 3 4 5 6 7 8 10 20 "
       ]
      },
      {
       "output_type": "stream",
       "stream": "stdout",
       "text": [
        "1 2 3 4 5 6 7 8 10 20 1 2 3 4 5 6 7 8 10 20 1 2 3 4 5 6 7 8 10 20 1 2 3 4 5 6 7 8 10 20 1 2 3 4 5 6 7 8 10 20 1 2 3 4 5 6 7 8 10 20 1 2 3 4 5 6 7 8 10 20 1 2 3 4 5 6 7 8 10 20 1 2 3 4 5 6 7 8 10 20 1 2 3 4 5 6 7 8 10 20 1 2 3 4 5 6 7 8 10 20 1 2 3 4 5 6 7 8 10 20 1 2 3 4 5 6 7 8 10 20 1 2 3 4 5 6 7 8 10 "
       ]
      },
      {
       "output_type": "stream",
       "stream": "stdout",
       "text": [
        "1 2 3 4 5 6 7 8 10 20 1 2 3 4 5 6 7 8 10 20 1 2 3 4 5 6 7 8 10 1 2 3 4 5 6 7 8 10 20 1 2 3 4 5 6 7 8 10 20 1 2 3 4 5 6 7 8 10 20 1 2 3 4 5 6 7 8 10 20 1 2 3 4 5 6 7 8 10 20 1 2 3 4 5 6 7 8 10 20 1 2 3 4 5 6 7 8 10 1 2 3 4 5 6 7 8 10 1 2 3 4 5 6 7 8 10 20 "
       ]
      },
      {
       "output_type": "stream",
       "stream": "stdout",
       "text": [
        "1 2 3 4 5 6 7 8 10 20 1 2 3 4 5 6 7 8 10 20 1 2 3 4 5 6 7 8 10 20 1 2 3 4 5 6 7 8 10 20 1 2 3 4 5 6 7 8 10 20 1 2 3 4 5 6 7 8 10 1 2 3 4 5 6 7 8 10 20 1 2 3 4 5 6 7 8 10 20 1 2 3 4 5 6 7 8 10 20 1 2 3 4 5 6 7 8 10 20 1 2 3 4 5 6 7 8 10 20 1 2 3 4 5 6 7 8 10 20 1 2 3 4 5 6 7 8 10 1 2 3 4 5 6 7 8 10 20 1 2 3 4 5 6 7 8 10 20 "
       ]
      },
      {
       "output_type": "stream",
       "stream": "stdout",
       "text": [
        "1 2 3 4 5 6 7 8 10 20 1 2 3 4 5 6 7 8 10 20 1 2 3 4 5 6 7 8 10 20 1 2 3 4 5 6 7 8 10 20 1 2 3 4 5 6 7 8 10 20 1 2 3 4 5 6 7 8 10 20 1 2 3 4 5 6 7 8 10 20 1 2 3 4 5 6 7 8 10 20 1 2 3 4 5 6 7 8 10 20 1 2 3 4 5 6 7 8 10 20 1 2 3 4 5 6 7 8 10 20 1 2 3 4 5 6 7 8 10 20 1 2 3 4 5 6 7 8 10 20 "
       ]
      },
      {
       "output_type": "stream",
       "stream": "stdout",
       "text": [
        "1 2 3 4 5 6 7 8 10 20 1 2 3 4 5 6 7 8 10 20 1 2 3 4 5 6 7 8 10 20 1 2 3 4 5 6 7 8 10 1 2 3 4 5 6 7 8 10 20 1 2 3 4 5 6 7 8 10 20 1 2 3 4 5 6 7 8 10 20 1 2 3 4 5 6 7 8 10 20 1 2 3 4 5 6 7 8 10 20 1 2 3 4 5 6 7 8 10 20 1 2 3 4 5 6 7 8 10 20 1 2 3 4 5 6 7 8 10 20 1 2 3 4 5 6 7 8 10 20 1 2 3 4 5 6 7 8 10 20 1 2 3 4 5 6 7 8 10 20 1 2 3 4 5 6 7 8 10 20 "
       ]
      },
      {
       "output_type": "stream",
       "stream": "stdout",
       "text": [
        "1 2 3 4 5 6 7 8 10 20 1 2 3 4 5 6 7 8 10 20 1 2 3 4 5 6 7 8 10 20 1 2 3 4 5 6 7 8 10 20 1 2 3 4 5 6 7 8 10 20 1 2 3 4 5 6 7 8 10 20 1 2 3 4 5 6 7 8 10 20 1 2 3 4 5 6 7 8 10 20 1 2 3 4 5 6 7 8 10 20 1 2 3 4 5 6 7 8 10 20 1 2 3 4 5 6 7 8 10 20 1 2 3 4 5 6 7 8 10 20 1 2 3 4 5 6 7 8 10 20 1 2 3 4 5 6 7 8 10 20 1 2 3 4 5 6 7 8 10 20 "
       ]
      },
      {
       "output_type": "stream",
       "stream": "stdout",
       "text": [
        "1 2 3 4 5 6 7 8 10 20 1 2 3 4 5 6 7 8 10 20 1 2 3 4 5 6 7 8 10 20 1 2 3 4 5 6 7 8 10 20 1 2 3 4 5 6 7 8 10 20 1 2 3 4 5 6 7 8 10 20 1 2 3 4 5 6 7 8 10 20 1 2 3 4 5 6 7 8 10 20 1 2 3 4 5 6 7 8 10 20 1 2 3 4 5 6 7 8 10 20 1 2 3 4 5 6 7 8 10 20 1 2 3 4 5 6 7 8 10 20 1 2 3 4 5 6 7 8 10 20 1 2 3 4 5 6 7 8 10 20 1 2 3 4"
       ]
      },
      {
       "output_type": "stream",
       "stream": "stdout",
       "text": [
        " 5 6 7 8 10 20 1 2 3 4 5 6 7 8 10 20 1 2 3 4 5 6 7 8 10 20 1 2 3 4 5 6 7 8 10 20 1 2 3 4 5 6 7 8 10 20 1 2 3 4 5 6 7 8 10 20 1 2 3 4 5 6 7 8 10 20 1 2 3 4 5 6 7 8 10 20 1 2 3 4 5 6 7 8 10 20 1 2 3 4 5 6 7 8 10 20 1 2 3 4 5 6 7 8 10 20 1 2 3 4 5 6 7 8 10 20 1 2 3 4 5 6 7 8 10 20 "
       ]
      },
      {
       "output_type": "stream",
       "stream": "stdout",
       "text": [
        "1 2 3 4 5 6 7 8 10 20 1 2 3 4 5 6 7 8 10 20 1 2 3 4 5 6 7 8 10 20 1 2 3 4 5 6 7 8 10 20 1 2 3 4 5 6 7 8 10 20 1 2 3 4 5 6 7 8 10 20 1 2 3 4 5 6 7 8 10 20 1 2 3 4 5 6 7 8 10 20 1 2 3 4 5 6 7 8 10 20 1 2 3 4 5 6 7 8 10 20 1 2 3 4 5 6 7 8 10 20 1 2 3 4 5 6 7 8 10 20 1 2 3 4 5 6 7 8 10 20 1 2 3 4 5 6 7 8 10 20 1 2 3 4 5 6 7 8 10 "
       ]
      },
      {
       "output_type": "stream",
       "stream": "stdout",
       "text": [
        "20 1 2 3 4 5 6 7 8 10 20 1 2 3 4 5 6 7 8 10 20 1 2 3 4 5 6 7 8 10 20 1 2 3 4 5 6 7 8 10 20 1 2 3 4 5 6 7 8 10 20 1 2 3 4 5 6 7 8 10 20 1 2 3 4 5 6 7 8 10 20 1 2 3 4 5 6 7 8 10 20 1 2 3 4 5 6 7 8 10 20 1 2 3 4 5 6 7 8 10 20 1 2 3 4 5 6 7 8 10 20 1 2 3 4 5 6 7 8 10 20 1 2 3 4 5 6 7 8 10 20 1 2 3 4 5 6 7 8 10 20 "
       ]
      },
      {
       "output_type": "stream",
       "stream": "stdout",
       "text": [
        "1 2 3 4 5 6 7 8 10 20 1 2 3 4 5 6 7 8 10 20 1 2 3 4 5 6 7 8 10 20 1 2 3 4 5 6 7 8 10 1 2 3 4 5 6 7 8 10 20 1 2 3 4 5 6 7 8 10 20 1 2 3 4 5 6 7 8 10 20 1 2 3 4 5 6 7 8 10 20 1 2 3 4 5 6 7 8 10 20 1 2 3 4 5 6 7 8 10 20 1 2 3 4 5 6 7 8 10 20 1 2 3 4 5 6 7 8 10 20 1 2 3 4 5 6 7 8 10 20 "
       ]
      },
      {
       "output_type": "stream",
       "stream": "stdout",
       "text": [
        "1 2 3 4 5 6 7 8 10 20 1 2 3 4 5 6 7 8 10 20 1 2 3 4 5 6 7 8 10 20 1 2 3 4 5 6 7 8 10 20 1 2 3 4 5 6 7 8 10 20 1 2 3 4 5 6 7 8 10 20 1 2 3 4 5 6 7 8 10 20 1 2 3 4 5 6 7 8 10 20 1 2 3 4 5 6 7 8 10 20 1 2 3 4 5 6 7 8 10 20 1 2 3 4 5 6 7 8 10 20 1 2 3 4 5 6 7 8 10 "
       ]
      },
      {
       "output_type": "stream",
       "stream": "stdout",
       "text": [
        "20 1 2 3 4 5 6 7 8 10 20 1 2 3 4 5 6 7 8 10 20 1 2 3 4 5 6 7 8 10 20 1 2 3 4 5 6 7 8 10 20 1 2 3 4 5 6 7 8 10 20 1 2 3 4 5 6 7 8 10 20 1 2 3 4 5 6 7 8 10 20 1 2 3 4 5 6 7 8 10 20 1 2 3 4 5 6 7 8 10 20 1 2 3 4 5 6 7 8 10 20 1 2 3 4 5 6 7 8 10 20 1 2 3 4 5 6 7 8 10 20 1 2 3 4 5 6 7 8 10 20 1 2 3 4 5 6 7 8 10 20 "
       ]
      },
      {
       "output_type": "stream",
       "stream": "stdout",
       "text": [
        "1 2 3 4 5 6 7 8 10 20 1 2 3 4 5 6 7 8 10 20 1 2 3 4 5 6 7 8 10 20 1 2 3 4 5 6 7 8 10 20 1 2 3 4 5 6 7 8 10 20 1 2 3 4 5 6 7 8 10 20 1 2 3 4 5 6 7 8 10 20 1 2 3 4 5 6 7 8 10 20 1 2 3 4 5 6 7 8 10 20 1 2 3 4 5 6 7 8 10 20 1 2 3 4 5 6 7 8 10 20 1 2 3 4 5 6 7 8 10 20 1 2 3 4 5 "
       ]
      },
      {
       "output_type": "stream",
       "stream": "stdout",
       "text": [
        "6 7 8 10 20 1 2 3 4 5 6 7 8 10 20 1 2 3 4 5 6 7 8 10 20 1 2 3 4 5 6 7 8 10 20 1 2 3 4 5 6 7 8 10 20 1 2 3 4 5 6 7 8 10 20 1 2 3 4 5 6 7 8 10 20 1 2 3 4 5 6 7 8 10 20 1 2 3 4 5 6 7 8 10 20 1 2 3 4 5 6 7 8 10 20 1 2 3 4 5 6 7 8 10 20 1 2 3 4 5 6 7 8 10 20 1 2 3 4 5 6 7 8 10 20 50 100 "
       ]
      },
      {
       "output_type": "stream",
       "stream": "stdout",
       "text": [
        "500 1 2 3 4 5 6 7 8 10 20 50 1 2 3 4 5 6 7 8 10 20 1 2 3 4 5 6 7 8 10 20 1 2 3 4 5 6 7 8 10 20 1 2 3 4 5 6 7 8 10 20 1 2 3 4 5 6 7 8 10 20 1 2 3 4 5 6 7 8 10 "
       ]
      },
      {
       "output_type": "stream",
       "stream": "stdout",
       "text": [
        "20 1 2 3 4 5 6 7 8 10 20 1 2 3 4 5 6 7 8 10 20 1 2 3 4 5 6 7 8 10 20 1 2 3 4 5 6 7 8 10 20 1 2 3 4 5 6 7 8 10 20 1 2 3 4 5 6 7 8 10 20 1 2 3 4 5 6 7 8 10 20 1 2 3 4 5 6 7 8 10 20 1 2 3 4 5 6 7 8 10 20 1 2 3 4 5 6 7 8 10 20 1 2 3 4 5 6 7 8 10 20 1 2 3 4 5 6 7 8 10 20 1 2 3 4 5 6 7 8 10 20 1 2 3 4 5 6 7 8 10 20 1 2 3 4 5 "
       ]
      },
      {
       "output_type": "stream",
       "stream": "stdout",
       "text": [
        "6 7 8 10 20 1 2 3 4 5 6 7 8 10 20 1 2 3 4 5 6 7 8 10 20 1 2 3 4 5 6 7 8 10 20 1 2 3 4 5 6 7 8 10 20 1 2 3 4 5 6 7 8 10 20 1 2 3 4 5 6 7 8 10 20 1 2 3 4 5 6 7 8 10 20 1 2 3 4 5 6 7 8 10 20 1 2 3 4 5 6 7 8 10 20 1 2 3 4 5 6 7 8 10 20 1 2 3 4 5 6 7 8 10 20 1 2 3 4 5 6 7 8 10 20 1 2 3 4 5 6 7 8 10 20 1 2 3 4 5 6 7 8 10 20 "
       ]
      },
      {
       "output_type": "stream",
       "stream": "stdout",
       "text": [
        "1 2 3 4 5 6 7 8 10 20 1 2 3 4 5 6 7 8 10 20 1 2 3 4 5 6 7 8 10 20 1 2 3 4 5 6 7 8 10 20 1 2 3 4 5 6 7 8 10 20 1 2 3 4 5 6 7 8 10 20 1 2 3 4 5 6 7 8 10 20 1 2 3 4 5 6 7 8 10 20 1 2 3 4 5 6 7 8 10 20 1 2 3 4 5 6 7 8 10 20 1 2 3 4 5 6 7 8 10 20 1 2 3 4 5 6 7 8 10 20 1 2 3 4 5 6 7 8 10 20 1 2 3 4 5 6 7 8 10 20 1 2 3 4 5 6 7 8 10 20 "
       ]
      },
      {
       "output_type": "stream",
       "stream": "stdout",
       "text": [
        "1 2 3 4 5 6 7 8 10 1 2 3 4 5 6 7 8 10 20 1 2 3 4 5 6 7 8 10 20 1 2 3 4 5 6 7 8 10 20 1 2 3 4 5 6 7 8 10 20 1 2 3 4 5 6 7 8 10 20 1 2 3 4 5 6 7 8 10 20 1 2 3 4 5 6 7 8 10 20 1 2 3 4 5 6 7 8 10 20 1 2 3 4 5 6 7 8 10 20 1 2 3 4 5 6 7 8 10 20 1 2 3 4 5 6 7 8 10 20 1 2 3 4 5 6 7 8 10 20 1 2 3 4 5 6 7 8 10 20 1 2 3 4 5 6 7 8 10 "
       ]
      },
      {
       "output_type": "stream",
       "stream": "stdout",
       "text": [
        "20 1 2 3 4 5 6 7 8 10 20 1 2 3 4 5 6 7 8 10 20 1 2 3 4 5 6 7 8 10 20 1 2 3 4 5 6 7 8 10 20 1 2 3 4 5 6 7 8 10 20 1 2 3 4 5 6 7 8 10 20 1 2 3 4 5 6 7 8 10 20 1 2 3 4 5 6 7 8 10 20 50 100 1 2 3 4 5 6 7 8 10 20 1 2 3 4 5 6 7 8 10 20 1 2 3 4 5 6 7 8 10 20 1 2 3 4 5 6 7 8 "
       ]
      },
      {
       "output_type": "stream",
       "stream": "stdout",
       "text": [
        "10 20 1 2 3 4 5 6 7 8 10 20 1 2 3 4 5 6 7 8 10 20 1 2 3 4 5 6 7 8 10 20 1 2 3 4 5 6 7 8 10 20 1 2 3 4 5 6 7 8 10 20 1 2 3 4 5 6 7 8 10 20 1 2 3 4 5 6 7 8 10 20 1 2 3 4 5 6 7 8 10 20 1 2 3 4 5 6 7 8 10 20 1 2 3 4 5 6 7 8 10 20 1 2 3 4 5 6 7 8 10 20 1 2 3 4 5 6 7 8 10 20 1 2 3 4 5 6 7 8 10 "
       ]
      },
      {
       "output_type": "stream",
       "stream": "stdout",
       "text": [
        "20 1 2 3 4 5 6 7 8 10 20 1 2 3 4 5 6 7 8 10 20 1 2 3 4 5 6 7 8 10 20 1 2 3 4 5 6 7 8 10 20 1 2 3 4 5 6 7 8 10 20 1 2 3 4 5 6 7 8 10 20 1 2 3 4 5 6 7 8 10 20 1 2 3 4 5 6 7 8 10 20 1 2 3 4 5 6 7 8 10 20 1 2 3 4 5 6 7 8 10 20 1 2 3 4 5 6 7 8 10 20 1 2 3 4 5 6 7 8 10 20 1 2 3 4 5 6 7 8 10 20 1 2 3 4 5 6 7 8 10 1 2 3 4 5 6 7 8 10 20 1 2 3 4 5 6 7 8 10 20 "
       ]
      },
      {
       "output_type": "stream",
       "stream": "stdout",
       "text": [
        "1 2 3 4 5 6 7 8 10 20 1 2 3 4 5 6 7 8 10 20 1 2 3 4 5 6 7 8 10 20 1 2 3 4 5 6 7 8 10 20 1 2 3 4 5 6 7 8 10 20 1 2 3 4 5 6 7 8 10 20 1 2 3 4 5 6 7 8 10 20 1 2 3 4 5 6 7 8 10 20 1 2 3 4 5 6 7 8 10 20 1 2 3 4 5 6 7 8 10 20 1 2 3 4 5 6 7 8 10 20 1 2 3 4 5 6 7 8 10 20 1 2 3 4 5 6 7 8 10 20 1 2 3 4 5 6 7 8 10 20 1 2 3 4 5 6 7 8 10 20 1 2 3 4 5 6 7 8 "
       ]
      },
      {
       "output_type": "stream",
       "stream": "stdout",
       "text": [
        "10 20 1 2 3 4 5 6 7 8 10 20 1 2 3 4 5 6 7 8 10 20 1 2 3 4 5 6 7 8 10 20 1 2 3 4 5 6 7 8 10 20 1 2 3 4 5 6 7 8 10 20 1 2 3 4 5 6 7 8 10 20 1 2 3 4 5 6 7 8 10 20 1 2 3 4 5 6 7 8 10 20 1 2 3 4 5 6 7 8 10 20 1 2 3 4 5 6 7 8 10 20 1 2 3 4 5 6 7 8 10 20 1 2 3 4 5 6 7 8 10 20 1 2 3 4 5 6 7 8 10 20 1 2 3 4 5 6 7 8 10 20 1 2 3 4 5 6 7 8 10 20 1 2 3 4 5 6 7 8 "
       ]
      },
      {
       "output_type": "stream",
       "stream": "stdout",
       "text": [
        "10 20 1 2 3 4 5 6 7 8 10 20 1 2 3 4 5 6 7 8 10 20 1 2 3 4 5 6 7 8 10 20 1 2 3 4 5 6 7 8 10 20 1 2 3 4 5 6 7 8 10 20 1 2 3 4 5 6 7 8 10 20 1 2 3 4 5 6 7 8 10 20 1 2 3 4 5 6 7 8 10 20 1 2 3 4 5 6 7 8 10 20 1 2 3 4 5 6 7 8 10 20 1 2 3 4 5 6 7 8 10 20 1 2 3 4 5 6 7 8 10 20 1 2 3 4 5 6 7 8 10 20 1 2 3 4 5 6 7 8 10 20 "
       ]
      },
      {
       "output_type": "stream",
       "stream": "stdout",
       "text": [
        "1 2 3 4 5 6 7 8 10 20 1 2 3 4 5 6 7 8 10 20 1 2 3 4 5 6 7 8 10 20 1 2 3 4 5 6 7 8 10 20 1 2 3 4 5 6 7 8 10 20 1 2 3 4 5 6 7 8 10 20 1 2 3 4 5 6 7 8 10 20 1 2 3 4 5 6 7 8 10 20 1 2 3 4 5 6 7 8 10 20 1 2 3 4 5 6 7 8 10 20 1 2 3 4 5 6 7 8 10 20 1 2 3 4 5 6 7 8 10 20 1 2 3 4 5 6 7 8 10 20 1 2 3 4 5 6 7 8 10 20 1 2 3 4 5 6 7 8 10 20 "
       ]
      },
      {
       "output_type": "stream",
       "stream": "stdout",
       "text": [
        "1 2 3 4 5 6 7 8 10 20 1 2 3 4 5 6 7 8 10 20 1 2 3 4 5 6 7 8 10 20 1 2 3 4 5 6 7 8 10 20 1 2 3 4 5 6 7 8 10 20 1 2 3 4 5 6 7 8 10 20 1 2 3 4 5 6 7 8 10 1 2 3 4 5 6 7 8 10 20 1 2 3 4 5 6 7 8 10 20 1 2 3 4 5 6 7 8 10 20 1 2 3 4 5 6 7 8 10 20 1 2 3 4 5 6 7 8 10 20 1 2 3 4 5 6 7 8 10 20 1 2 3 4 5 6 7 8 10 20 1 2 3 4 5 6 7 8 10 20 "
       ]
      },
      {
       "output_type": "stream",
       "stream": "stdout",
       "text": [
        "1 2 3 4 5 6 7 8 10 20 1 2 3 4 5 6 7 8 10 20 1 2 3 4 5 6 7 8 10 20 1 2 3 4 5 6 7 8 10 20 1 2 3 4 5 6 7 8 10 20 1 2 3 4 5 6 7 8 10 20 1 2 3 4 5 6 7 8 10 20 1 2 3 4 5 6 7 8 10 20 1 2 3 4 5 6 7 8 10 20 1 2 3 4 5 6 7 8 10 20 1 2 3 4 5 6 7 8 10 20 1 2 3 4 5 6 7 8 10 20 1 2 3 4 5 6 7 8 10 20 1 2 3 4 5 6 7 8 10 20 "
       ]
      },
      {
       "output_type": "stream",
       "stream": "stdout",
       "text": [
        "1 2 3 4 5 6 7 8 10 20 1 2 3 4 5 6 7 8 10 20 1 2 3 4 5 6 7 8 10 20 1 2 3 4 5 6 7 8 10 20 1 2 3 4 5 6 7 8 10 20 1 2 3 4 5 6 7 8 10 20 1 2 3 4 5 6 7 8 10 20 1 2 3 4 5 6 7 8 10 20 1 2 3 4 5 6 7 8 10 20 1 2 3 4 5 6 7 8 10 20 1 2 3 4 5 6 7 8 10 20 1 2 3 4 5 6 7 8 10 20 1 2 3 4 5 6 7 8 10 20 1 2 3 4 5 6 7 8 10 20 1 2 3 4 5 6 7 8 "
       ]
      },
      {
       "output_type": "stream",
       "stream": "stdout",
       "text": [
        "10 20 1 2 3 4 5 6 7 8 10 20 1 2 3 4 5 6 7 8 10 20 1 2 3 4 5 6 7 8 10 1 2 3 4 5 6 7 8 10 1 2 3 4 5 6 7 8 10 20 1 2 3 4 5 6 7 8 10 20 1 2 3 4 5 6 7 8 10 20 1 2 3 4 5 6 7 8 10 20 1 2 3 4 5 6 7 8 10 20 1 2 3 4 5 6 7 8 10 20 1 2 3 4 5 6 7 8 10 20 1 2 3 4 5 6 7 8 10 20 1 2 3 4 5 6 7 8 10 20 1"
       ]
      },
      {
       "output_type": "stream",
       "stream": "stdout",
       "text": [
        " 2 3 4 5 6 7 8 10 20 1 2 3 4 5 6 7 8 10 20 1 2 3 4 5 6 7 8 10 20 1 2 3 4 5 6 7 8 10 20 1 2 3 4 5 6 7 8 10 1 2 3 4 5 6 7 8 10 20 1 2 3 4 5 6 7 8 10 20 1 2 3 4 5 6 7 8 10 20 1 2 3 4 5 6 7 8 10 20 1 2 3 4 5 6 7 8 10 20 1 2 3 4 5 6 7 8 10 20 1 2 3 4 5 6 7 8 10 20 1 2 3 4 5 6 7 8 10 20 1 2 3 4 5 "
       ]
      },
      {
       "output_type": "stream",
       "stream": "stdout",
       "text": [
        "6 7 8 10 20 1 2 3 4 5 6 7 8 10 20 1 2 3 4 5 6 7 8 10 20 1 2 3 4 5 6 7 8 10 20 1 2 3 4 5 6 7 8 10 20 1 2 3 4 5 6 7 8 10 20 1 2 3 4 5 6 7 8 10 20 1 2 3 4 5 6 7 8 10 20 1 2 3 4 5 6 7 8 10 20 1 2 3 4 5 6 7 8 10 20 1 2 3 4 5 6 7 8 10 20 1 2 3 4 5 6 7 8 10 20 1 2 3 4 5 6 7 8 10 20 1 2 3 4 5 6 7 8 10 20 1 2 3 4 5 6 7 8 10 20 1 2 3 4 5 6 7 8 10 20 "
       ]
      },
      {
       "output_type": "stream",
       "stream": "stdout",
       "text": [
        "1 2 3 4 5 6 7 8 10 20 1 2 3 4 5 6 7 8 10 20 1 2 3 4 5 6 7 8 10 20 1 2 3 4 5 6 7 8 10 20 1 2 3 4 5 6 7 8 10 20 1 2 3 4 5 6 7 8 10 20 1 2 3 4 5 6 7 8 10 20 1 2 3 4 5 6 7 8 10 20 1 2 3 4 5 6 7 8 10 20 1 2 3 4 5 6 7 8 10 20 1 2 3 4 5 6 7 8 10 20 1 2 3 4 5 6 7 8 10 20 1 2 3 4 5 6 7 8 10 20 1 2 3 4 5 6 7 "
       ]
      },
      {
       "output_type": "stream",
       "stream": "stdout",
       "text": [
        "8 10 20 1 2 3 4 5 6 7 8 10 20 1 2 3 4 5 6 7 8 10 20 1 2 3 4 5 6 7 8 10 1 2 3 4 5 6 7 8 10 1 2 3 4 5 6 7 8 10 20 1 2 3 4 5 6 7 8 10 20 1 2 3 4 5 6 7 8 10 20 1 2 3 4 5 6 7 8 10 20 1 2 3 4 5 6 7 8 10 20 1 2 3 4 5 6 7 8 10 20 1 2 3 4 5 6 7 8 10 20 1 2 3 4 5 6 7 8 10 20 1 2 3 4 5 6 7 8 10 20 "
       ]
      },
      {
       "output_type": "stream",
       "stream": "stdout",
       "text": [
        "1 2 3 4 5 6 7 8 10 1 2 3 4 5 6 7 8 10 20 1 2 3 4 5 6 7 8 10 20 1 2 3 4 5 6 7 8 10 20 1 2 3 4 5 6 7 8 10 20 1 2 3 4 5 6 7 8 10 20 1 2 3 4 5 6 7 8 10 20 1 2 3 4 5 6 7 8 10 20 1 2 3 4 5 6 7 8 10 20 1 2 3 4 5 6 7 8 10 20 1 2 3 4 5 6 7 8 10 20 1 2 3 4 5 6 7 8 10 20 "
       ]
      },
      {
       "output_type": "stream",
       "stream": "stdout",
       "text": [
        "1 2 3 4 5 6 7 8 10 20 1 2 3 4 5 6 7 8 10 20 1 2 3 4 5 6 7 8 10 20 1 2 3 4 5 6 7 8 10 20 1 2 3 4 5 6 7 8 10 1 2 3 4 5 6 7 8 10 20 1 2 3 4 5 6 7 8 10 20 1 2 3 4 5 6 7 8 10 20 1 2 3 4 5 6 7 8 10 20 1 2 3 4 5 6 7 8 10 20 1 2 3 4 5 6 7 8 10 20 1 2 3 4 5 6 7 8 10 20 1 2 3 4 5 6 7 8 10 20 1 2 3 4 5 6 7 8 10 20 1 2 3 4 5 6 7 8 10 1 2 3 4 5 "
       ]
      },
      {
       "output_type": "stream",
       "stream": "stdout",
       "text": [
        "6 7 8 10 20 1 2 3 4 5 6 7 8 10 20 1 2 3 4 5 6 7 8 10 20 1 2 3 4 5 6 7 8 10 20 1 2 3 4 5 6 7 8 10 20 1 2 3 4 5 6 7 8 10 20 1 2 3 4 5 6 7 8 10 20 1 2 3 4 5 6 7 8 10 20 1 2 3 4 5 6 7 8 10 20 1 2 3 4 5 6 7 8 10 20 1 2 3 4 5 6 7 8 10 20 1 2 3 4 5 6 7 8 10 20 1 2 3 4 5 6 7 8 10 20 1 2 3 4 "
       ]
      },
      {
       "output_type": "stream",
       "stream": "stdout",
       "text": [
        "5 6 7 8 10 20 1 2 3 4 5 6 7 8 10 20 1 2 3 4 5 6 7 8 10 20 1 2 3 4 5 6 7 8 10 20 1 2 3 4 5 6 7 8 10 20 1 2 3 4 5 6 7 8 10 20 1 2 3 4 5 6 7 8 10 20 1 2 3 4 5 6 7 8 10 20 1 2 3 4 5 6 7 8 10 20 1 2 3 4 5 6 7 8 10 20 1 2 3 4 5 6 7 8 10 20 1 2 3 4 5 6 7 8 10 20 1 2 3 4 5 6 7 8 10 20 1 2 3 4 5 6 7 8 10 "
       ]
      },
      {
       "output_type": "stream",
       "stream": "stdout",
       "text": [
        "20 1 2 3 4 5 6 7 8 10 20 1 2 3 4 5 6 7 8 10 20 1 2 3 4 5 6 7 8 10 20 1 2 3 4 5 6 7 8 10 20 1 2 3 4 5 6 7 8 10 20 1 2 3 4 5 6 7 8 10 20 1 2 3 4 5 6 7 8 10 20 1 2 3 4 5 6 7 8 10 20 1 2 3 4 5 6 7 8 10 20 1 2 3 4 5 6 7 8 10 20 1 2 3 4 5 6 7 8 10 20 1 2 3 4 5 6 7 8 10 20 1 2 3 4 5 6 7 8 10 20 1 2 3 4 5 6 7 8 10 "
       ]
      },
      {
       "output_type": "stream",
       "stream": "stdout",
       "text": [
        "20 1 2 3 4 5 6 7 8 10 20 1 2 3 4 5 6 7 8 10 20 1 2 3 4 5 6 7 8 10 20 1 2 3 4 5 6 7 8 10 20 1 2 3 4 5 6 7 8 10 20 1 2 3 4 5 6 7 8 10 20 1 2 3 4 5 6 7 8 10 20 1 2 3 4 5 6 7 8 10 20 1 2 3 4 5 6 7 8 10 20 1 2 3 4 5 6 7 8 10 20 1 2 3 4 5 6 7 8 10 20 1 2 3 4 5 6 7 8 10 "
       ]
      },
      {
       "output_type": "stream",
       "stream": "stdout",
       "text": [
        "20 1 2 3 4 5 6 7 8 10 20 1 2 3 4 5 6 7 8 10 20 1 2 3 4 5 6 7 8 10 1 2 3 4 5 6 7 8 10 20 1 2 3 4 5 6 7 8 10 20 1 2 3 4 5 6 7 8 10 20 1 2 3 4 5 6 7 8 10 20 1 2 3 4 5 6 7 8 10 20 1 2 3 4 5 6 7 8 10 20 1 2 3 4 5 6 7 8 10 20 1 2 3 4 5 6 7 8 10 20 1 2 3 4 5 6 7 8 10 20 1 2 3 4 5 "
       ]
      },
      {
       "output_type": "stream",
       "stream": "stdout",
       "text": [
        "6 7 8 10 20 1 2 3 4 5 6 7 8 10 1 2 3 4 5 6 7 8 10 20 1 2 3 4 5 6 7 8 10 20 1 2 3 4 5 6 7 8 10 20 1 2 3 4 5 6 7 8 10 20 1 2 3 4 5 6 7 8 10 20 1 2 3 4 5 6 7 8 10 20 1 2 3 4 5 6 7 8 10 1 2 3 4 5 6 7 8 10 20 1 2 3 4 5 6 7 8 10 20 1 2 3 4 5 6 7 8 10 "
       ]
      },
      {
       "output_type": "stream",
       "stream": "stdout",
       "text": [
        "20 1 2 3 4 5 6 7 8 10 20 1 2 3 4 5 6 7 8 10 20 1 2 3 4 5 6 7 8 10 20 1 2 3 4 5 6 7 8 10 20 1 2 3 4 5 6 7 8 10 20 1 2 3 4 5 6 7 8 10 20 1 2 3 4 5 6 7 8 10 20 1 2 3 4 5 6 7 8 10 20 1 2 3 4 5 6 7 8 10 20 1 2 3 4 5 6 7 8 10 "
       ]
      },
      {
       "output_type": "stream",
       "stream": "stdout",
       "text": [
        "20 1 2 3 4 5 6 7 8 10 20 1 2 3 4 5 6 7 8 10 20 1 2 3 4 5 6 7 8 10 20 1 2 3 4 5 6 7 8 10 20 1 2 3 4 5 6 7 8 10 20 1 2 3 4 5 6 7 8 10 20 1 2 3 4 5 6 7 8 10 20 1 2 3 4 5 6 7 8 10 20 1 2 3 4 5 6 7 8 10 20 1 2 3 4 5 6 7 8 10 20 1 2 3 4 5 6 7 8 10 20 1 2 3 4 5 6 7 8 10 "
       ]
      },
      {
       "output_type": "stream",
       "stream": "stdout",
       "text": [
        "20 1 2 3 4 5 6 7 8 10 20 1 2 3 4 5 6 7 8 10 20 1 2 3 4 5 6 7 8 10 20 1 2 3 4 5 6 7 8 10 20 1 2 3 4 5 6 7 8 10 20 1 2 3 4 5 6 7 8 10 20 1 2 3 4 5 6 7 8 10 20 1 2 3 4 5 6 7 8 10 20 1 2 3 4 5 6 7 8 10 20 1 2 3 4 5 6 7 8 10 20 1 2 3 4 5 6 7 8 10 20 1 2 3 4 5 6 7 8 10 20 1 "
       ]
      },
      {
       "output_type": "stream",
       "stream": "stdout",
       "text": [
        "2 3 4 5 6 7 8 10 20 1 2 3 4 5 6 7 8 10 20 1 2 3 4 5 6 7 8 10 20 1 2 3 4 5 6 7 8 10 20 1 2 3 4 5 6 7 8 10 20 1 2 3 4 5 6 7 8 10 20 1 2 3 4 5 6 7 8 10 20 1 2 3 4 5 6 7 8 10 20 1 2 3 4 5 6 7 8 10 20 1 2 3 4 5 6 7 8 10 20 1 2 3 4 5 6 7 8 10 20 1 2 3 4 5 6 7 8 10 20 1 2 3 4 5 6 7 8 10 20 1 2 3 4 5 6 7 8 10 20 "
       ]
      },
      {
       "output_type": "stream",
       "stream": "stdout",
       "text": [
        "1 2 3 4 5 6 7 8 10 20 1 2 3 4 5 6 7 8 10 20 1 2 3 4 5 6 7 8 10 20 1 2 3 4 5 6 7 8 10 20 1 2 3 4 5 6 7 8 10 20 1 2 3 4 5 6 7 8 10 20 1 2 3 4 5 6 7 8 10 20 1 2 3 4 5 6 7 8 10 20 1 2 3 4 5 6 7 8 10 20 1 2 3 4 5 6 7 8 10 20 1 2 3 4 5 6 7 8 10 20 1 2 3 4 5 6 7 8 10 20 50 1 2 3 4 5 6 7 8 10 20 1 2 "
       ]
      },
      {
       "output_type": "stream",
       "stream": "stdout",
       "text": [
        "3 4 5 6 7 8 10 20 1 2 3 4 5 6 7 8 10 20 1 2 3 4 5 6 7 8 10 20 1 2 3 4 5 6 7 8 10 20 1 2 3 4 5 6 7 8 10 20 1 2 3 4 5 6 7 8 10 20 1 2 3 4 5 6 7 8 10 20 1 2 3 4 5 6 7 8 10 20 1 2 3 4 5 6 7 8 10 20 1 2 3 4 5 6 7 8 10 1 2 3 4 5 6 7 8 10 20 1 2 3 4 5 6 7 8 10 20 1 "
       ]
      },
      {
       "output_type": "stream",
       "stream": "stdout",
       "text": [
        "2 3 4 5 6 7 8 10 20 1 2 3 4 5 6 7 8 10 20 1 2 3 4 5 6 7 8 10 20 1 2 3 4 5 6 7 8 10 20 1 2 3 4 5 6 7 8 10 20 1 2 3 4 5 6 7 8 10 20 1 2 3 4 5 6 7 8 10 20 1 2 3 4 5 6 7 8 10 20 1 2 3 4 5 6 7 8 10 20 1 2 3 4 5 6 7 8 10 20 1 2 3 4 5 6 7 8 10 20 1 2 3 4 5 6 7 8 10 20 1 2 3 4 5 6 7 8 10 20 1 2 3 4 5 6 7 8 10 "
       ]
      },
      {
       "output_type": "stream",
       "stream": "stdout",
       "text": [
        "20 1 2 3 4 5 6 7 8 10 20 1 2 3 4 5 6 7 8 10 20 1 2 3 4 5 6 7 8 10 20 1 2 3 4 5 6 7 8 10 20 1 2 3 4 5 6 7 8 10 20 1 2 3 4 5 6 7 8 10 20 1 2 3 4 5 6 7 8 10 20 1 2 3 4 5 6 7 8 10 20 1 2 3 4 5 6 7 8 10 20 1 2 3 4 5 6 7 8 10 20 1 2 3 4 5 6 7 8 10 20 1 2 3 4 5 6 7 8 10 20 1 2 3 4 5 6 7 8 10 20 1 2 3 4 5 "
       ]
      },
      {
       "output_type": "stream",
       "stream": "stdout",
       "text": [
        "6 7 8 10 20 1 2 3 4 5 6 7 8 10 20 1 2 3 4 5 6 7 8 10 20 1 2 3 4 5 6 7 8 10 20 1 2 3 4 5 6 7 8 10 20 1 2 3 4 5 6 7 8 10 20 1 2 3 4 5 6 7 8 10 20 1 2 3 4 5 6 7 8 10 20 1 2 3 4 5 6 7 8 10 20 1 2 3 4 5 6 7 8 10 20 1 2 3 4 5 6 7 8 10 20 1 2 3 4 5 6 7 8 10 20 1 2 3 4 5 6 7 8 10 20 "
       ]
      },
      {
       "output_type": "stream",
       "stream": "stdout",
       "text": [
        "1 2 3 4 5 6 7 8 10 20 1 2 3 4 5 6 7 8 10 20 1 2 3 4 5 6 7 8 10 20 1 2 3 4 5 6 7 8 10 20 1 2 3 4 5 6 7 8 10 20 1 2 3 4 5 6 7 8 10 20 1 2 3 4 5 6 7 8 10 20 1 2 3 4 5 6 7 8 10 20 1 2 3 4 5 6 7 8 10 20 1 2 3 4 5 6 7 8 10 20 1 2 3 4 5 6 7 8 10 20 1 2 3 4 5 6 7 8 10 20 1 2 3 4 5 6 7 8 10 20 1 2 3 4 5 6 7 8 10 20 1 2 3 4 5 6 7 8 10 20 "
       ]
      },
      {
       "output_type": "stream",
       "stream": "stdout",
       "text": [
        "1 2 3 4 5 6 7 8 10 20 1 2 3 4 5 6 7 8 10 20 1 2 3 4 5 6 7 8 10 20 1 2 3 4 5 6 7 8 10 20 1 2 3 4 5 6 7 8 10 20 1 2 3 4 5 6 7 8 10 20 1 2 3 4 5 6 7 8 10 20 1 2 3 4 5 6 7 8 10 20 1 2 3 4 5 6 7 8 10 20 1 2 3 4 5 6 7 8 10 20 1 2 3 4 5 6 7 8 10 20 1 "
       ]
      },
      {
       "output_type": "stream",
       "stream": "stdout",
       "text": [
        "2 3 4 5 6 7 8 10 20 1 2 3 4 5 6 7 8 10 20 1 2 3 4 5 6 7 8 10 20 1 2 3 4 5 6 7 8 10 20 1 2 3 4 5 6 7 8 10 20 1 2 3 4 5 6 7 8 10 20 1 2 3 4 5 6 7 8 10 20 1 2 3 4 5 6 7 8 10 20 1 2 3 4 5 6 7 8 10 20 1 2 3 4 5 6 7 8 10 20 1 2 3 4 5 6 7 8 10 20 1 2 3 4 5 6 7 8 10 20 1 2 3 4 5 6 7 8 10 20 1 2 3 4 5 6 7 8 10 20 1 "
       ]
      },
      {
       "output_type": "stream",
       "stream": "stdout",
       "text": [
        "2 3 4 5 6 7 8 10 20 1 2 3 4 5 6 7 8 10 20 1 2 3 4 5 6 7 8 10 20 1 2 3 4 5 6 7 8 10 20 1 2 3 4 5 6 7 8 10 20 1 2 3 4 5 6 7 8 10 20 1 2 3 4 5 6 7 8 10 20 1 2 3 4 5 6 7 8 10 20 1 2 3 4 5 6 7 8 10 20 1 2 3 4 5 6 7 8 10 20 1 2 3 4 5 6 7 8 10 20 1 2 3 4 5 6 7 8 10 20 1 2 3 4 5 6 7 8 10 20 "
       ]
      },
      {
       "output_type": "stream",
       "stream": "stdout",
       "text": [
        "1 2 3 4 5 6 7 8 10 20 1 2 3 4 5 6 7 8 10 20 1 2 3 4 5 6 7 8 10 20 1 2 3 4 5 6 7 8 10 20 1 2 3 4 5 6 7 8 10 20 1 2 3 4 5 6 7 8 10 20 1 2 3 4 5 6 7 8 10 20 1 2 3 4 5 6 7 8 10 20 1 2 3 4 5 6 7 8 10 20 1 2 3 4 5 6 7 8 10 20 1 2 3 4 5 6 7 8 10 20 1 2 3 4 5 6 7 8 10 20 1 2 3 4 5 6 7 8 10 20 1 2 3 4 5 6 7 8 10 "
       ]
      },
      {
       "output_type": "stream",
       "stream": "stdout",
       "text": [
        "20 1 2 3 4 5 6 7 8 10 20 1 2 3 4 5 6 7 8 10 20 1 2 3 4 5 6 7 8 10 20 1 2 3 4 5 6 7 8 10 20 1 2 3 4 5 6 7 8 10 20 1 2 3 4 5 6 7 8 10 20 1 2 3 4 5 6 7 8 10 20 1 2 3 4 5 6 7 8 10 20 1 2 3 4 5 6 7 8 10 20 1 2 3 4 5 6 7 8 10 20 1 2 3 4 5 6 7 8 10 20 1 2 3 4 5 6 7 8 10 20 1 2 3 4 5 6 7 8 10 20 1 2 3 4 5 6 7 8 10 "
       ]
      },
      {
       "output_type": "stream",
       "stream": "stdout",
       "text": [
        "20 1 2 3 4 5 6 7 8 10 20 1 2 3 4 5 6 7 8 10 20 1 2 3 4 5 6 7 8 10 20 1 2 3 4 5 6 7 8 10 20 1 2 3 4 5 6 7 8 10 20 1 2 3 4 5 6 7 8 10 20 1 2 3 4 5 6 7 8 10 20 1 2 3 4 5 6 7 8 10 20 1 2 3 4 5 6 7 8 10 20 1 2 3 4 5 6 7 8 10 20 1 2 3 4 5 6 7 8 10 20 "
       ]
      },
      {
       "output_type": "stream",
       "stream": "stdout",
       "text": [
        "1 2 3 4 5 6 7 8 10 20 1 2 3 4 5 6 7 8 10 20 1 2 3 4 5 6 7 8 10 20 1 2 3 4 5 6 7 8 10 20 1 2 3 4 5 6 7 8 10 20 1 2 3 4 5 6 7 8 10 20 1 2 3 4 5 6 7 8 10 20 1 2 3 4 5 6 7 8 10 20 1 2 3 4 5 6 7 8 10 20 1 2 3 4 5 6 7 8 10 20 1 2 3 4 5 6 7 8 10 20 1 2 3 4 5 6 7 8 10 20 1 2 3 4 5 6 7 8 10 20 1 2 3 4 5 6 7 8 10 "
       ]
      },
      {
       "output_type": "stream",
       "stream": "stdout",
       "text": [
        "20 1 2 3 4 5 6 7 8 10 20 1 2 3 4 5 6 7 8 10 20 1 2 3 4 5 6 7 8 10 20 1 2 3 4 5 6 7 8 10 20 1 2 3 4 5 6 7 8 10 20 1 2 3 4 5 6 7 8 10 20 1 2 3 4 5 6 7 8 10 20 1 2 3 4 5 6 7 8 10 20 1 2 3 4 5 6 7 8 10 20 1 2 3 4 5 6 7 8 10 20 1 2 3 4 5 6 7 8 10 20 1 2 3 4 5 6 7 8 10 20 1 2 3 4 5 6 7 8 10 20 1 2 3 4 5 6 7 8 10 20 1 2 3 4 5 6 7 8 10 20 "
       ]
      },
      {
       "output_type": "stream",
       "stream": "stdout",
       "text": [
        "1 2 3 4 5 6 7 8 10 20 1 2 3 4 5 6 7 8 10 20 1 2 3 4 5 6 7 8 10 20 1 2 3 4 5 6 7 8 10 20 1 2 3 4 5 6 7 8 10 20 1 2 3 4 5 6 7 8 10 20 1 2 3 4 5 6 7 8 10 20 1 2 3 4 5 6 7 8 10 20 1 2 3 4 5 6 7 8 10 1 2 3 4 5 6 7 8 10 20 1 2 3 4 5 6 7 8 10 20 1 2 3 4 5 6 7 8 10 20 1 2 3 4 5 6 7 8 10 20 1 2 3 4 5 6 7 8 10 20 1 2 3 4 5 6 7 8 10 "
       ]
      },
      {
       "output_type": "stream",
       "stream": "stdout",
       "text": [
        "20 1 2 3 4 5 6 7 8 10 20 1 2 3 4 5 6 7 8 10 20 1 2 3 4 5 6 7 8 10 20 1 2 3 4 5 6 7 8 10 20 1 2 3 4 5 6 7 8 10 20 1 2 3 4 5 6 7 8 10 20 1 2 3 4 5 6 7 8 10 1 2 3 4 5 6 7 8 10 20 1 2 3 4 5 6 7 8 10 1 2 3 4 5 6 7 8 10 20 1 2 3 4 5 6 7 8 10 20 1 2 3 4 5 6 7 8 10 20 1 2 3 4 5 6 7 8 10 20 1 2 3 4 5 6 7 8 10 20 1 2 3 4 5 6 7 8 10 "
       ]
      },
      {
       "output_type": "stream",
       "stream": "stdout",
       "text": [
        "20 1 2 3 4 5 6 7 8 10 20 1 2 3 4 5 6 7 8 10 20 1 2 3 4 5 6 7 8 10 20 1 2 3 4 5 6 7 8 10 20 1 2 3 4 5 6 7 8 10 20 1 2 3 4 5 6 7 8 10 20 1 2 3 4 5 6 7 8 10 20 1 2 3 4 5 6 7 8 10 20 1 2 3 4 5 6 7 8 10 20 1 2 3 4 5 6 7 8 10 20 1 2 3 4 5 6 7 8 10 20 1 2 3 4 5 6 7 8 10 20 1 2 3 4 5 6 7 8 10 20 1 2 "
       ]
      },
      {
       "output_type": "stream",
       "stream": "stdout",
       "text": [
        "3 4 5 6 7 8 10 20 1 2 3 4 5 6 7 8 10 20 1 2 3 4 5 6 7 8 10 20 1 2 3 4 5 6 7 8 10 20 1 2 3 4 5 6 7 8 10 20 1 2 3 4 5 6 7 8 10 1 2 3 4 5 6 7 8 10 20 1 2 3 4 5 6 7 8 10 20 1 2 3 4 5 6 7 8 10 20 1 2 3 4 5 6 7 8 10 20 1 2 3 4 5 6 7 8 10 20 1 2 3 4 5 6 7 8 10 20 1 2 3 4 5 6 7 8 10 20 1 2 3 4 5 6 7 8 10 20 1 2 3 4 5 6 7 8 10 20 1 2 3 4 5 6 "
       ]
      },
      {
       "output_type": "stream",
       "stream": "stdout",
       "text": [
        "7 8 10 20 1 2 3 4 5 6 7 8 10 20 1 2 3 4 5 6 7 8 10 20 1 2 3 4 5 6 7 8 10 20 1 2 3 4 5 6 7 8 10 20 1 2 3 4 5 6 7 8 10 1 2 3 4 5 6 7 8 10 20 1 2 3 4 5 6 7 8 10 20 1 2 3 4 5 6 7 8 10 20 1 2 3 4 5 6 7 8 10 20 1 2 3 4 5 6 7 8 10 20 1 2 3 4 5 6 7 8 10 20 1 2 3 4 5 6 7 8 10 20 1 2 3 4 5 6 7 8 10 20 1 2 3 4 5 6 7 8 10 20 "
       ]
      },
      {
       "output_type": "stream",
       "stream": "stdout",
       "text": [
        "1 2 3 4 5 6 7 8 10 20 1 2 3 4 5 6 7 8 10 20 1 2 3 4 5 6 7 8 10 20 1 2 3 4 5 6 7 8 10 20 1 2 3 4 5 6 7 8 10 20 1 2 3 4 5 6 7 8 10 20 1 2 3 4 5 6 7 8 10 20 1 2 3 4 5 6 7 8 10 20 1 2 3 4 5 6 7 8 10 20 1 2 3 4 5 6 7 8 10 20 1 2 3 4 5 6 7 8 10 20 1 2 3 4 5 6 7 8 10 20 1 "
       ]
      },
      {
       "output_type": "stream",
       "stream": "stdout",
       "text": [
        "2 3 4 5 6 7 8 10 20 1 2 3 4 5 6 7 8 10 20 1 2 3 4 5 6 7 8 10 20 1 2 3 4 5 6 7 8 10 20 1 2 3 4 5 6 7 8 10 20 1 2 3 4 5 6 7 8 10 20 1 2 3 4 5 6 7 8 10 20 1 2 3 4 5 6 7 8 10 20 1 2 3 4 5 6 7 8 10 20 1 2 3 4 5 6 7 8 10 20 1 2 3 4 5 6 7 8 10 20 1 2 3 4 5 6 7 8 10 20 1 2 3 4 5 6 7 8 10 20 1 2 3 4 5 6 7 8 10 20 "
       ]
      },
      {
       "output_type": "stream",
       "stream": "stdout",
       "text": [
        "1 2 3 4 5 6 7 8 10 20 1 2 3 4 5 6 7 8 10 20 1 2 3 4 5 6 7 8 10 20 1 2 3 4 5 6 7 8 10 20 1 2 3 4 5 6 7 8 10 20 1 2 3 4 5 6 7 8 10 20 1 2 3 4 5 6 7 8 10 20 1 2 3 4 5 6 7 8 10 20 1 2 3 4 5 6 7 8 10 20 1 2 3 4 5 6 7 8 10 20 1 2 3 4 5 6 7 8 10 20 1 2 3 4 5 6 7 8 10 20 1 2 3 4 5 6 7 8 10 20 1 2 3 4 5 6 7 8 10 20 1 "
       ]
      },
      {
       "output_type": "stream",
       "stream": "stdout",
       "text": [
        "2 3 4 5 6 7 8 10 20 1 2 3 4 5 6 7 8 10 20 1 2 3 4 5 6 7 8 10 20 1 2 3 4 5 6 7 8 10 20 1 2 3 4 5 6 7 8 10 20 1 2 3 4 5 6 7 8 10 20 1 2 3 4 5 6 7 8 10 20 1 2 3 4 5 6 7 8 10 20 1 2 3 4 5 6 7 8 10 20 1 2 3 4 5 6 7 8 10 20 1 2 3 4 5 6 7 8 10 20 1 2 3 4 5 6 7 8 10 20 1 2 3 4 5 6 7 8 10 20 1 2 3 4 5 6 7 8 10 20 "
       ]
      },
      {
       "output_type": "stream",
       "stream": "stdout",
       "text": [
        "1 2 3 4 5 6 7 8 10 20 1 2 3 4 5 6 7 8 10 20 1 2 3 4 5 6 7 8 10 20 1 2 3 4 5 6 7 8 10 20 1 2 3 4 5 6 7 8 10 20 1 2 3 4 5 6 7 8 10 20 1 2 3 4 5 6 7 8 10 20 1 2 3 4 5 6 7 8 10 20 1 2 3 4 5 6 7 8 10 20 1 2 3 4 5 6 7 8 10 20 1 2 3 4 5 6 7 8 10 20 1 2 3 4 5 6 7 8 10 20 1 2 3 4 5 6 7 8 10 20 "
       ]
      },
      {
       "output_type": "stream",
       "stream": "stdout",
       "text": [
        "1 2 3 4 5 6 7 8 10 20 1 2 3 4 5 6 7 8 10 1 2 3 4 5 6 7 8 10 20 1 2 3 4 5 6 7 8 10 20 1 2 3 4 5 6 7 8 10 20 1 2 3 4 5 6 7 8 10 20 1 2 3 4 5 6 7 8 10 20 1 2 3 4 5 6 7 8 10 20 1 2 3 4 5 6 7 8 10 20 1 2 3 4 5 6 7 8 10 20 1 2 3 4 5 6 7 8 10 20 1 2 3 4 5 6 7 8 10 20 1 2 3 4 5 6 7 8 10 20 1 2 3 4 5 6 7 8 10 20 1 2 3 4 5 6 7 8 10 20 1 2 3 4 "
       ]
      },
      {
       "output_type": "stream",
       "stream": "stdout",
       "text": [
        "5 6 7 8 10 20 1 2 3 4 5 6 7 8 10 20 1 2 3 4 5 6 7 8 10 20 1 2 3 4 5 6 7 8 10 20 1 2 3 4 5 6 7 8 10 20 1 2 3 4 5 6 7 8 10 20 1 2 3 4 5 6 7 8 10 20 1 2 3 4 5 6 7 8 10 20 1 2 3 4 5 6 7 8 10 20 1 2 3 4 5 6 7 8 10 20 1 2 3 4 5 6 7 8 10 20 1 2 3 4 5 6 7 8 10 20 1 2 3 4 5 6 7 8 10 20 1 2 3 4 5 6 7 8 10 20 1 2 3 4 5 6 7 8 10 20 1 2 3 4 5 6 7 8 10 20 "
       ]
      },
      {
       "output_type": "stream",
       "stream": "stdout",
       "text": [
        "1 2 3 4 5 6 7 8 10 20 1 2 3 4 5 6 7 8 10 20 1 2 3 4 5 6 7 8 10 20 1 2 3 4 5 6 7 8 10 20 1 2 3 4 5 6 7 8 10 20 1 2 3 4 5 6 7 8 10 20 1 2 3 4 5 6 7 8 10 20 1 2 3 4 5 6 7 8 10 20 1 2 3 4 5 6 7 8 10 20 1 2 3 4 5 6 7 8 10 20 1 2 3 4 5 6 7 8 10 20 1 2 3 4 5 6 7 8 10 "
       ]
      },
      {
       "output_type": "stream",
       "stream": "stdout",
       "text": [
        "20 1 2 3 4 5 6 7 8 10 20 1 2 3 4 5 6 7 8 10 20 1 2 3 4 5 6 7 8 10 20 1 2 3 4 5 6 7 8 10 20 1 2 3 4 5 6 7 8 10 20 1 2 3 4 5 6 7 8 10 20 1 2 3 4 5 6 7 8 10 20 1 2 3 4 5 6 7 8 10 20 1 2 3 4 5 6 7 8 10 20 1 2 3 4 5 6 7 8 10 20 1 2 3 4 5 6 7 8 10 20 1 2 3 4 5 6 7 8 10 "
       ]
      },
      {
       "output_type": "stream",
       "stream": "stdout",
       "text": [
        "20 1 2 3 4 5 6 7 8 10 20 1 2 3 4 5 6 7 8 10 20 1 2 3 4 5 6 7 8 10 20 1 2 3 4 5 6 7 8 10 20 1 2 3 4 5 6 7 8 10 20 1 2 3 4 5 6 7 8 10 20 1 2 3 4 5 6 7 8 10 20 1 2 3 4 5 6 7 8 10 20 1 2 3 4 5 6 7 8 10 20 1 2 3 4 5 6 7 8 10 20 1 2 3 4 5 6 7 8 10 20 1 2 3 4 5 6 7 8 10 20 1 2 3 4 5 6 7 8 10 20 1 2 3 4 5 6 7 8 10 "
       ]
      },
      {
       "output_type": "stream",
       "stream": "stdout",
       "text": [
        "20 1 2 3 4 5 6 7 8 10 20 1 2 3 4 5 6 7 8 10 20 1 2 3 4 5 6 7 8 10 20 1 2 3 4 5 6 7 8 10 20 1 2 3 4 5 6 7 8 10 20 1 2 3 4 5 6 7 8 10 20 1 2 3 4 5 6 7 8 10 20 1 2 3 4 5 6 7 8 10 20 1 2 3 4 5 6 7 8 10 20 1 2 3 4 5 6 7 8 10 20 1 2 3 4 5 6 7 8 10 20 1 2 3 4 5 6 7 8 10 20 1 2 3 4 5 6 7 8 10 20 "
       ]
      },
      {
       "output_type": "stream",
       "stream": "stdout",
       "text": [
        "1 2 3 4 5 6 7 8 10 20 1 2 3 4 5 6 7 8 10 1 2 3 4 5 6 7 8 10 20 1 2 3 4 5 6 7 8 10 20 1 2 3 4 5 6 7 8 10 20 1 2 3 4 5 6 7 8 10 20 1 2 3 4 5 6 7 8 10 20 1 2 3 4 5 6 7 8 10 20 1 2 3 4 5 6 7 8 10 20 1 2 3 4 5 6 7 8 10 20 1 2 3 4 5 6 7 8 10 20 1 2 3 4 5 6 7 8 10 1 2 3 4 5 6 7 8 10 20 1 2 3 4 5 6 7 8 10 20 1 2 3 4 5 6 7 8 10 20 1 2 3 4 5 6 7 8 10 20 "
       ]
      },
      {
       "output_type": "stream",
       "stream": "stdout",
       "text": [
        "1 2 3 4 5 6 7 8 10 20 1 2 3 4 5 6 7 8 10 20 1 2 3 4 5 6 7 8 10 20 1 2 3 4 5 6 7 8 10 20 1 2 3 4 5 6 7 8 10 20 1 2 3 4 5 6 7 8 10 20 1 2 3 4 5 6 7 8 10 1 2 3 4 5 6 7 8 10 20 1 2 3 4 5 6 7 8 10 20 1 2 3 4 5 6 7 8 10 20 1 2 3 4 5 6 7 8 10 20 1 2 3 4 5 6 7 8 10 1 2 3 4 5 6 7 8 10 20 "
       ]
      },
      {
       "output_type": "stream",
       "stream": "stdout",
       "text": [
        "1 2 3 4 5 6 7 8 10 20 1 2 3 4 5 6 7 8 10 20 1 2 3 4 5 6 7 8 10 20 1 2 3 4 5 6 7 8 10 20 1 2 3 4 5 6 7 8 10 20 1 2 3 4 5 6 7 8 10 20 1 2 3 4 5 6 7 8 10 20 1 2 3 4 5 6 7 8 10 20 1 2 3 4 5 6 7 8 10 20 1 2 3 4 5 6 7 8 10 20 1 2 3 4 5 6 7 8 10 20 1 2 3 4 5 6 7 8 10 20 1 2 3 4 5 6 7 8 10 20 1 2 3 4 "
       ]
      },
      {
       "output_type": "stream",
       "stream": "stdout",
       "text": [
        "5 6 7 8 10 20 1 2 3 4 5 6 7 8 10 20 1 2 3 4 5 6 7 8 10 20 1 2 3 4 5 6 7 8 10 20 1 2 3 4 5 6 7 8 10 20 1 2 3 4 5 6 7 8 10 20 1 2 3 4 5 6 7 8 10 20 1 2 3 4 5 6 7 8 10 20 1 2 3 4 5 6 7 8 10 20 1 2 3 4 5 6 7 8 10 20 1 2 3 4 5 6 7 8 10 20 1 2 3 4 5 6 7 8 10 20 1 2 3 4 5 6 7 8 10 "
       ]
      },
      {
       "output_type": "stream",
       "stream": "stdout",
       "text": [
        "20 1 2 3 4 5 6 7 8 10 20 1 2 3 4 5 6 7 8 10 20 1 2 3 4 5 6 7 8 10 20 1 2 3 4 5 6 7 8 10 20 1 2 3 4 5 6 7 8 10 20 1 2 3 4 5 6 7 8 10 20 1 2 3 4 5 6 7 8 10 20 1 2 3 4 5 6 7 8 10 20 1 2 3 4 5 6 7 8 10 20 1 2 3 4 5 6 7 8 10 20 1 2 3 4 5 6 7 8 10 20 1 2 3 4 5 6 7 8 10 20 1 2 3 4 5 6 7 8 10 "
       ]
      },
      {
       "output_type": "stream",
       "stream": "stdout",
       "text": [
        "20 1 2 3 4 5 6 7 8 10 1 2 3 4 5 6 7 8 10 20 1 2 3 4 5 6 7 8 10 20 1 2 3 4 5 6 7 8 10 20 1 2 3 4 5 6 7 8 10 20 1 2 3 4 5 6 7 8 10 20 1 2 3 4 5 6 7 8 10 20 1 2 3 4 5 6 7 8 10 20 50 1 2 3 4 5 6 7 8 10 20 1 2 3 4 5 6 7 8 10 20 1 2 3 4 5 6 7 8 10 20 1 2 3 4 5 6 7 8 10 20 1 2 3 4 5 6 7 8 10 20 "
       ]
      },
      {
       "output_type": "stream",
       "stream": "stdout",
       "text": [
        "1 2 3 4 5 6 7 8 10 20 1 2 3 4 5 6 7 8 10 20 1 2 3 4 5 6 7 8 10 20 1 2 3 4 5 6 7 8 10 20 1 2 3 4 5 6 7 8 10 20 1 2 3 4 5 6 7 8 10 20 1 2 3 4 5 6 7 8 10 20 1 2 3 4 5 6 7 8 10 20 1 2 3 4 5 6 7 8 10 20 1 2 3 4 5 6 7 8 10 1 2 3 4 5 6 7 8 10 20 1 2 3 4 5 6 7 8 10 20 1 2 3 4 5 6 7 8 10 20 "
       ]
      },
      {
       "output_type": "stream",
       "stream": "stdout",
       "text": [
        "1 2 3 4 5 6 7 8 10 20 1 2 3 4 5 6 7 8 10 1 2 3 4 5 6 7 8 10 20 1 2 3 4 5 6 7 8 10 20 1 2 3 4 5 6 7 8 10 20 1 2 3 4 5 6 7 8 10 20 1 2 3 4 5 6 7 8 10 20 1 2 3 4 5 6 7 8 10 20 1 2 3 4 5 6 7 8 10 20 1 2 3 4 5 6 7 8 10 20 1 2 3 4 5 6 7 8 10 20 1 2 3 4 5 6 7 8 "
       ]
      },
      {
       "output_type": "stream",
       "stream": "stdout",
       "text": [
        "10 20 1 2 3 4 5 6 7 8 10 20 1 2 3 4 5 6 7 8 10 20 1 2 3 4 5 6 7 8 10 20 1 2 3 4 5 6 7 8 10 20 1 2 3 4 5 6 7 8 10 20 1 2 3 4 5 6 7 8 10 20 1 2 3 4 5 6 7 8 10 20 1 2 3 4 5 6 7 8 10 20 1 2 3 4 5 6 7 8 10 20 1 2 3 4 5 6 7 8 10 20 1 2 3 4 5 6 7 8 10 20 1 2 3 4 5 6 7 8 10 20 1 2 3 4 5 6 7 8 10 "
       ]
      },
      {
       "output_type": "stream",
       "stream": "stdout",
       "text": [
        "20 1 2 3 4 5 6 7 8 10 20 1 2 3 4 5 6 7 8 10 20 1 2 3 4 5 6 7 8 10 20 1 2 3 4 5 6 7 8 10 20 1 2 3 4 5 6 7 8 10 20 1 2 3 4 5 6 7 8 10 20 1 2 3 4 5 6 7 8 10 20 1 2 3 4 5 6 7 8 10 20 1 2 3 4 5 6 7 8 10 20 1 2 3 4 5 6 7 8 10 20 1 2 3 4 5 6 7 8 10 20 1 2 3 4 5 6 7 8 10 20 1 2 3 4 5 6 7 8 10 20 1 2 3 4 5 6 7 8 10 20 "
       ]
      },
      {
       "output_type": "stream",
       "stream": "stdout",
       "text": [
        "1 2 3 4 5 6 7 8 10 20 1 2 3 4 5 6 7 8 10 20 1 2 3 4 5 6 7 8 10 20 1 2 3 4 5 6 7 8 10 20 1 2 3 4 5 6 7 8 10 20 1 2 3 4 5 6 7 8 10 20 1 2 3 4 5 6 7 8 10 1 2 3 4 5 6 7 8 10 20 1 2 3 4 5 6 7 8 10 20 1 2 3 4 5 6 7 8 10 20 1 2 3 4 5 6 7 8 10 20 1 2 3 4 5 6 7 8 10 20 1 2 3 4 5 6 7 8 10 20 1 2 3 4 5 6 7 8 10 "
       ]
      },
      {
       "output_type": "stream",
       "stream": "stdout",
       "text": [
        "20 1 2 3 4 5 6 7 8 10 20 1 2 3 4 5 6 7 8 10 1 2 3 4 5 6 7 8 10 20 1 2 3 4 5 6 7 8 10 20 1 2 3 4 5 6 7 8 10 20 1 2 3 4 5 6 7 8 10 20 1 2 3 4 5 6 7 8 10 20 1 2 3 4 5 6 7 8 10 20 1 2 3 4 5 6 7 8 10 20 1 2 3 4 5 6 7 8 10 20 1 2 3 4 5 6 7 8 10 20 1 2 3 4 5 6 7 8 10 20 1 2 3 4 5 6 7 8 10 20 "
       ]
      },
      {
       "output_type": "stream",
       "stream": "stdout",
       "text": [
        "1 2 3 4 5 6 7 8 10 20 1 2 3 4 5 6 7 8 10 20 1 2 3 4 5 6 7 8 10 20 1 2 3 4 5 6 7 8 10 20 1 2 3 4 5 6 7 8 10 20 1 2 3 4 5 6 7 8 10 20 1 2 3 4 5 6 7 8 10 20 1 2 3 4 5 6 7 8 10 20 1 2 3 4 5 6 7 8 10 20 1 2 3 4 5 6 7 8 10 20 1 2 3 4 5 6 7 8 10 20 1 2 3 4 5 6 7 8 10 20 "
       ]
      },
      {
       "output_type": "stream",
       "stream": "stdout",
       "text": [
        "1 2 3 4 5 6 7 8 10 20 1 2 3 4 5 6 7 8 10 20 1 2 3 4 5 6 7 8 10 20 1 2 3 4 5 6 7 8 10 20 1 2 3 4 5 6 7 8 10 20 1 2 3 4 5 6 7 8 10 20 1 2 3 4 5 6 7 8 10 20 1 2 3 4 5 6 7 8 10 20 1 2 3 4 5 6 7 8 10 20 1 2 3 4 5 6 7 8 10 20 1 2 3 4 5 6 7 8 10 20 1 2 3 4 5 6 7 8 10 20 1 2 3 4 5 6 7 8 10 20 1 2 3 4 5 6 7 8 10 20 1 2 3 4 5 6 7 "
       ]
      },
      {
       "output_type": "stream",
       "stream": "stdout",
       "text": [
        "8 10 20 1 2 3 4 5 6 7 8 10 20 1 2 3 4 5 6 7 8 10 20 1 2 3 4 5 6 7 8 10 20 1 2 3 4 5 6 7 8 10 20 1 2 3 4 5 6 7 8 10 20 1 2 3 4 5 6 7 8 10 20 1 2 3 4 5 6 7 8 10 20 1 2 3 4 5 6 7 8 10 20 1 2 3 4 5 6 7 8 10 20 1 2 3 4 5 6 7 8 10 20 1 2 3 4 5 6 7 8 10 20 1 2 3 4 5 6 7 8 10 20 "
       ]
      },
      {
       "output_type": "stream",
       "stream": "stdout",
       "text": [
        "1 2 3 4 5 6 7 8 10 20 1 2 3 4 5 6 7 8 10 20 1 2 3 4 5 6 7 8 10 20 1 2 3 4 5 6 7 8 10 20 1 2 3 4 5 6 7 8 10 20 1 2 3 4 5 6 7 8 10 20 1 2 3 4 5 6 7 8 10 20 1 2 3 4 5 6 7 8 10 20 1 2 3 4 5 6 7 8 10 20 1 2 3 4 5 6 7 8 10 20 1 2 3 4 5 6 7 8 10 20 1 2 3 4 5 6 7 8 10 20 1 2 3 4 5 6 7 8 10 "
       ]
      },
      {
       "output_type": "stream",
       "stream": "stdout",
       "text": [
        "20 1 2 3 4 5 6 7 8 10 20 1 2 3 4 5 6 7 8 10 20 1 2 3 4 5 6 7 8 10 20 1 2 3 4 5 6 7 8 10 20 1 2 3 4 5 6 7 8 10 20 1 2 3 4 5 6 7 8 10 20 1 2 3 4 5 6 7 8 10 20 1 2 3 4 5 6 7 8 10 20 1 2 3 4 5 6 7 8 10 20 1 2 3 4 5 6 7 8 10 20 1 2 3 4 5 6 7 8 10 20 1 2 3 4 5 6 7 8 10 20 "
       ]
      },
      {
       "output_type": "stream",
       "stream": "stdout",
       "text": [
        "1 2 3 4 5 6 7 8 10 20 1 2 3 4 5 6 7 8 10 20 1 2 3 4 5 6 7 8 10 20 1 2 3 4 5 6 7 8 10 20 1 2 3 4 5 6 7 8 10 20 1 2 3 4 5 6 7 8 10 20 1 2 3 4 5 6 7 8 10 20 1 2 3 4 5 6 7 8 10 1 2 3 4 5 6 7 8 10 20 1 2 3 4 5 6 7 8 10 20 1 2 3 4 5 6 7 8 10 20 1 2 3 4 5 6 7 8 10 20 1 2 3 4 5 6 7 8 10 20 1 2 3 4 5 6 7 8 10 1 2 3 4 5 6 7 8 10 20 "
       ]
      },
      {
       "output_type": "stream",
       "stream": "stdout",
       "text": [
        "1 2 3 4 5 6 7 8 10 20 1 2 3 4 5 6 7 8 10 20 1 2 3 4 5 6 7 8 10 20 1 2 3 4 5 6 7 8 10 20 1 2 3 4 5 6 7 8 10 20 1 2 3 4 5 6 7 8 10 20 1 2 3 4 5 6 7 8 10 20 1 2 3 4 5 6 7 8 10 20 1 2 3 4 5 6 7 8 10 20 1 2 3 4 5 6 7 8 10 20 1 2 3 4 5 6 7 8 10 20 1 2 3 4 5 6 7 8 10 1 2 3 4 5 6 7 8 10 20 1 2 3 4 5 6 7 8 10 20 1 2 3 4 5 6 7 8 10 20 1 "
       ]
      },
      {
       "output_type": "stream",
       "stream": "stdout",
       "text": [
        "2 3 4 5 6 7 8 10 20 1 2 3 4 5 6 7 8 10 20 1 2 3 4 5 6 7 8 10 20 1 2 3 4 5 6 7 8 10 20 1 2 3 4 5 6 7 8 10 20 1 2 3 4 5 6 7 8 10 20 1 2 3 4 5 6 7 8 10 20 1 2 3 4 5 6 7 8 10 20 1 2 3 4 5 6 7 8 10 20 1 2 3 4 5 6 7 8 10 20 1 2 3 4 5 6 7 8 10 20 1 2 3 4 5 6 7 8 10 20 1 2 3 4 5 6 7 8 10 20 1 2 3 4 5 6 7 8 10 20 "
       ]
      },
      {
       "output_type": "stream",
       "stream": "stdout",
       "text": [
        "1 2 3 4 5 6 7 8 10 20 1 2 3 4 5 6 7 8 10 1 2 3 4 5 6 7 8 10 20 1 2 3 4 5 6 7 8 10 20 1 2 3 4 5 6 7 8 10 20 1 2 3 4 5 6 7 8 10 20 1 2 3 4 5 6 7 8 10 20 1 2 3 4 5 6 7 8 10 20 1 2 3 4 5 6 7 8 10 20 1 2 3 4 5 6 7 8 10 20 1 2 3 4 5 6 7 8 10 20 "
       ]
      },
      {
       "output_type": "stream",
       "stream": "stdout",
       "text": [
        "1 2 3 4 5 6 7 8 10 20 1 2 3 4 5 6 7 8 10 20 1 2 3 4 5 6 7 8 10 20 1 2 3 4 5 6 7 8 10 1 2 3 4 5 6 7 8 10 20 1 2 3 4 5 6 7 8 10 20 1 2 3 4 5 6 7 8 10 20 1 2 3 4 5 6 7 8 10 20 1 2 3 4 5 6 7 8 10 20 1 2 3 4 5 6 7 8 10 20 1 2 3 4 5 6 7 8 10 20 1 2 3 4 5 6 7 8 10 20 1 2 "
       ]
      },
      {
       "output_type": "stream",
       "stream": "stdout",
       "text": [
        "3 4 5 6 7 8 10 20 1 2 3 4 5 6 7 8 10 20 1 2 3 4 5 6 7 8 10 20 1 2 3 4 5 6 7 8 10 20 1 2 3 4 5 6 7 8 10 20 1 2 3 4 5 6 7 8 10 20 1 2 3 4 5 6 7 8 10 20 1 2 3 4 5 6 7 8 10 20 1 2 3 4 5 6 7 8 10 20 1 2 3 4 5 6 7 8 10 20 1 2 3 4 5 6 7 8 10 20 1 2 3 4 5 6 7 8 10 1 2 3 4 5 6 7 8 10 20 1 2 3 4 5 6 7 8 10 20 "
       ]
      },
      {
       "output_type": "stream",
       "stream": "stdout",
       "text": [
        "1 2 3 4 5 6 7 8 10 20 1 2 3 4 5 6 7 8 10 20 1 2 3 4 5 6 7 8 10 20 1 2 3 4 5 6 7 8 10 20 1 2 3 4 5 6 7 8 10 20 1 2 3 4 5 6 7 8 10 20 1 2 3 4 5 6 7 8 10 20 1 2 3 4 5 6 7 8 10 20 1 2 3 4 5 6 7 8 10 20 1 2 3 4 5 6 7 8 10 20 1 2 3 4 5 6 7 8 10 20 1 2 3 4 5 6 7 8 10 20 1 2 3 4 5 6 7 8 10 20 1 2 3 4 5 6 7 8 10 20 1 2 3 4 5 6 "
       ]
      },
      {
       "output_type": "stream",
       "stream": "stdout",
       "text": [
        "7 8 10 20 1 2 3 4 5 6 7 8 10 20 1 2 3 4 5 6 7 8 10 20 1 2 3 4 5 6 7 8 10 20 1 2 3 4 5 6 7 8 10 20 1 2 3 4 5 6 7 8 10 20 1 2 3 4 5 6 7 8 10 20 1 2 3 4 5 6 7 8 10 20 1 2 3 4 5 6 7 8 10 20 1 2 3 4 5 6 7 8 10 20 1 2 3 4 5 6 7 8 10 20 1 2 3 4 5 6 7 8 10 20 1 2 3 4 5 6 7 8 10 "
       ]
      },
      {
       "output_type": "stream",
       "stream": "stdout",
       "text": [
        "20 1 2 3 4 5 6 7 8 10 20 1 2 3 4 5 6 7 8 10 20 1 2 3 4 5 6 7 8 10 20 1 2 3 4 5 6 7 8 10 20 1 2 3 4 5 6 7 8 10 20 1 2 3 4 5 6 7 8 10 1 2 3 4 5 6 7 8 10 20 1 2 3 4 5 6 7 8 10 20 1 2 3 4 5 6 7 8 10 20 1 2 3 4 5 6 7 8 10 20 1 2 3 4 5 6 7 8 10 20 1 2 3 4 5 6 7 8 10 "
       ]
      },
      {
       "output_type": "stream",
       "stream": "stdout",
       "text": [
        "20 1 2 3 4 5 6 7 8 10 20 1 2 3 4 5 6 7 8 10 20 1 2 3 4 5 6 7 8 10 20 1 2 3 4 5 6 7 8 10 20 1 2 3 4 5 6 7 8 10 20 1 2 3 4 5 6 7 8 10 20 1 2 3 4 5 6 7 8 10 20 1 2 3 4 5 6 7 8 10 20 1 2 3 4 5 6 7 8 10 20 1 2 3 4 5 6 7 8 10 20 1 2 3 4 5 6 7 8 10 20 1 2 3 4 5 6 7 8 10 20 1 2 3 4 5 6 7 8 10 20 "
       ]
      },
      {
       "output_type": "stream",
       "stream": "stdout",
       "text": [
        "1 2 3 4 5 6 7 8 10 20 1 2 3 4 5 6 7 8 10 20 1 2 3 4 5 6 7 8 10 20 1 2 3 4 5 6 7 8 10 20 1 2 3 4 5 6 7 8 10 20 1 2 3 4 5 6 7 8 10 20 1 2 3 4 5 6 7 8 10 20 1 2 3 4 5 6 7 8 10 20 1 2 3 4 5 6 7 8 10 20 1 2 3 4 5 6 7 8 10 20 1 2 3 4 5 6 7 8 10 20 1 2 3 4 5 6 7 8 10 20 1 2 3 4 5 6 7 8 10 20 "
       ]
      },
      {
       "output_type": "stream",
       "stream": "stdout",
       "text": [
        "1 2 3 4 5 6 7 8 10 20 1 2 3 4 5 6 7 8 10 20 1 2 3 4 5 6 7 8 10 20 1 2 3 4 5 6 7 8 10 20 1 2 3 4 5 6 7 8 10 20 1 2 3 4 5 6 7 8 10 20 1 2 3 4 5 6 7 8 10 20 1 2 3 4 5 6 7 8 10 20 1 2 3 4 5 6 7 8 10 20 1 2 3 4 5 6 7 8 10 20 1 2 3 4 5 6 7 8 10 20 1 2 3 4 5 6 7 8 10 20 1 2 3 4 5 6 7 8 10 20 1 2 3 4 5 6 7 8 10 20 1 2 3 4 5 6 7 8 10 20 "
       ]
      },
      {
       "output_type": "stream",
       "stream": "stdout",
       "text": [
        "1 2 3 4 5 6 7 8 10 20 1 2 3 4 5 6 7 8 10 20 1 2 3 4 5 6 7 8 10 20 1 2 3 4 5 6 7 8 10 20 1 2 3 4 5 6 7 8 10 20 1 2 3 4 5 6 7 8 10 20 1 2 3 4 5 6 7 8 10 20 1 2 3 4 5 6 7 8 10 20 1 2 3 4 5 6 7 8 10 20 1 2 3 4 5 6 7 8 10 20 1 2 3 4 5 6 7 8 10 20 1 2 3 4 5 6 7 8 10 20 1 2 3 4 5 6 "
       ]
      },
      {
       "output_type": "stream",
       "stream": "stdout",
       "text": [
        "7 8 10 20 1 2 3 4 5 6 7 8 10 20 1 2 3 4 5 6 7 8 10 20 1 2 3 4 5 6 7 8 10 20 1 2 3 4 5 6 7 8 10 20 1 2 3 4 5 6 7 8 10 20 1 2 3 4 5 6 7 8 10 20 1 2 3 4 5 6 7 8 10 20 1 2 3 4 5 6 7 8 10 20 1 2 3 4 5 6 7 8 10 20 1 2 3 4 5 6 7 8 10 20 1 2 3 4 5 6 7 8 10 20 1 2 3 4 5 6 7 8 10 20 "
       ]
      },
      {
       "output_type": "stream",
       "stream": "stdout",
       "text": [
        "1 2 3 4 5 6 7 8 10 20 1 2 3 4 5 6 7 8 10 20 1 2 3 4 5 6 7 8 10 20 1 2 3 4 5 6 7 8 10 1 2 3 4 5 6 7 8 10 20 1 2 3 4 5 6 7 8 10 20 1 2 3 4 5 6 7 8 10 20 1 2 3 4 5 6 7 8 10 20 1 2 3 4 5 6 7 8 10 20 1 2 3 4 5 6 7 8 10 20 1 2 3 4 5 6 7 8 10 20 1 2 3 4 5 6 7 8 10 20 1 2 3 4 5 6 7 8 10 20 1 2 3 4 5 6 7 8 10 20 "
       ]
      },
      {
       "output_type": "stream",
       "stream": "stdout",
       "text": [
        "1 2 3 4 5 6 7 8 10 20 1 2 3 4 5 6 7 8 10 20 1 2 3 4 5 6 7 8 10 20 1 2 3 4 5 6 7 8 10 20 1 2 3 4 5 6 7 8 10 20 1 2 3 4 5 6 7 8 10 20 1 2 3 4 5 6 7 8 10 20 1 2 3 4 5 6 7 8 10 20 1 2 3 4 5 6 7 8 10 20 1 2 3 4 5 6 7 8 10 20 1 2 3 4 5 6 7 8 10 20 1 2 3 4 5 6 7 8 10 20 1 2 3 4 5 6 7 8 "
       ]
      },
      {
       "output_type": "stream",
       "stream": "stdout",
       "text": [
        "10 20 1 2 3 4 5 6 7 8 10 20 1 2 3 4 5 6 7 8 10 20 1 2 3 4 5 6 7 8 10 20 1 2 3 4 5 6 7 8 10 20 1 2 3 4 5 6 7 8 10 20 1 2 3 4 5 6 7 8 10 20 1 2 3 4 5 6 7 8 10 20 1 2 3 4 5 6 7 8 10 20 1 2 3 4 5 6 7 8 10 20 1 2 3 4 5 6 7 8 10 20 1 2 3 4 5 6 7 8 10 20 1 2 3 4 5 6 7 8 10 20 1 2 3 4 5 6 7 8 10 20 "
       ]
      },
      {
       "output_type": "stream",
       "stream": "stdout",
       "text": [
        "1 2 3 4 5 6 7 8 10 20 1 2 3 4 5 6 7 8 10 20 1 2 3 4 5 6 7 8 10 20 1 2 3 4 5 6 7 8 10 20 1 2 3 4 5 6 7 8 10 20 1 2 3 4 5 6 7 8 10 20 1 2 3 4 5 6 7 8 10 20 1 2 3 4 5 6 7 8 10 20 1 2 3 4 5 6 7 8 10 20 1 2 3 4 5 6 7 8 10 20 1 2 3 4 5 6 7 8 10 20 1 2 3 4 5 6 7 8 10 20 1 2 3 4 5 6 7 8 10 "
       ]
      },
      {
       "output_type": "stream",
       "stream": "stdout",
       "text": [
        "20 1 2 3 4 5 6 7 8 10 20 1 2 3 4 5 6 7 8 10 20 1 2 3 4 5 6 7 8 10 20 1 2 3 4 5 6 7 8 10 20 1 2 3 4 5 6 7 8 10 20 1 2 3 4 5 6 7 8 10 20 1 2 3 4 5 6 7 8 10 20 1 2 3 4 5 6 7 8 10 20 1 2 3 4 5 6 7 8 10 20 1 2 3 4 5 6 7 8 10 20 1 2 3 4 5 6 7 8 10 20 1 2 3 4 5 6 7 8 10 20 "
       ]
      },
      {
       "output_type": "stream",
       "stream": "stdout",
       "text": [
        "1 2 3 4 5 6 7 8 10 20 1 2 3 4 5 6 7 8 10 20 1 2 3 4 5 6 7 8 10 20 1 2 3 4 5 6 7 8 10 20 1 2 3 4 5 6 7 8 10 20 1 2 3 4 5 6 7 8 10 20 1 2 3 4 5 6 7 8 10 20 1 2 3 4 5 6 7 8 10 20 1 2 3 4 5 6 7 8 10 20 1 2 3 4 5 6 7 8 10 20 1 2 3 4 5 6 7 8 10 20 1 2 3 4 5 6 7 8 10 20 1 2 3 4 5 6 7 8 10 "
       ]
      },
      {
       "output_type": "stream",
       "stream": "stdout",
       "text": [
        "20 1 2 3 4 5 6 7 8 10 20 1 2 3 4 5 6 7 8 10 20 1 2 3 4 5 6 7 8 10 20 1 2 3 4 5 6 7 8 10 20 1 2 3 4 5 6 7 8 10 20 1 2 3 4 5 6 7 8 10 20 1 2 3 4 5 6 7 8 10 20 1 2 3 4 5 6 7 8 10 20 1 2 3 4 5 6 7 8 10 20 1 2 3 4 5 6 7 8 10 20 1 2 3 4 5 6 7 8 10 20 "
       ]
      },
      {
       "output_type": "stream",
       "stream": "stdout",
       "text": [
        "1 2 3 4 5 6 7 8 10 20 1 2 3 4 5 6 7 8 10 20 1 2 3 4 5 6 7 8 10 20 1 2 3 4 5 6 7 8 10 20 1 2 3 4 5 6 7 8 10 20 1 2 3 4 5 6 7 8 10 20 1 2 3 4 5 6 7 8 10 20 1 2 3 4 5 6 7 8 10 20 1 2 3 4 5 6 7 8 10 20 1 2 3 4 5 6 7 8 10 20 1 2 3 4 5 6 7 8 10 20 1 2 3 4 5 6 7 8 10 20 1 2 3 4 5 6 7 8 10 20 "
       ]
      },
      {
       "output_type": "stream",
       "stream": "stdout",
       "text": [
        "1 2 3 4 5 6 7 8 10 20 1 2 3 4 5 6 7 8 10 20 1 2 3 4 5 6 7 8 10 20 1 2 3 4 5 6 7 8 10 20 1 2 3 4 5 6 7 8 10 20 1 2 3 4 5 6 7 8 10 20 1 2 3 4 5 6 7 8 10 20 1 2 3 4 5 6 7 8 10 20 1 2 3 4 5 6 7 8 10 20 1 2 3 4 5 6 7 8 10 20 1 2 3 4 5 6 7 8 10 20 "
       ]
      },
      {
       "output_type": "stream",
       "stream": "stdout",
       "text": [
        "1 2 3 4 5 6 7 8 10 20 1 2 3 4 5 6 7 8 10 20 1 2 3 4 5 6 7 8 10 20 1 2 3 4 5 6 7 8 10 20 1 2 3 4 5 6 7 8 10 20 1 2 3 4 5 6 7 8 10 20 1 2 3 4 5 6 7 8 10 20 1 2 3 4 5 6 7 8 10 20 1 2 3 4 5 6 7 8 10 20 1 2 3 4 5 6 7 8 10 20 1 2 3 4 5 6 7 8 10 20 1 2 3 4 5 6 7 8 10 20 1 2 3 4 5 6 7 8 10 20 "
       ]
      },
      {
       "output_type": "stream",
       "stream": "stdout",
       "text": [
        "1 2 3 4 5 6 7 8 10 20 1 2 3 4 5 6 7 8 10 20 1 2 3 4 5 6 7 8 10 20 1 2 3 4 5 6 7 8 10 20 1 2 3 4 5 6 7 8 10 20 1 2 3 4 5 6 7 8 10 20 1 2 3 4 5 6 7 8 10 20 1 2 3 4 5 6 7 8 10 20 1 2 3 4 5 6 7 8 10 20 1 2 3 4 5 6 7 8 10 20 1 2 3 4 5 6 7 8 10 20 1 2 3 4 5 6 7 8 10 20 1 2 3 4 5 6 7 8 10 20 "
       ]
      },
      {
       "output_type": "stream",
       "stream": "stdout",
       "text": [
        "1 2 3 4 5 6 7 8 10 20 1 2 3 4 5 6 7 8 10 20 1 2 3 4 5 6 7 8 10 20 1 2 3 4 5 6 7 8 10 20 1 2 3 4 5 6 7 8 10 20 1 2 3 4 5 6 7 8 10 20 1 2 3 4 5 6 7 8 10 20 1 2 3 4 5 6 7 8 10 20 1 2 3 4 5 6 7 8 10 20 1 2 3 4 5 6 7 8 10 20 1 2 3 4 5 6 7 8 10 20 1 2 3 4 5 6 7 8 10 "
       ]
      },
      {
       "output_type": "stream",
       "stream": "stdout",
       "text": [
        "20 1 2 3 4 5 6 7 8 10 20 1 2 3 4 5 6 7 8 10 20 1 2 3 4 5 6 7 8 10 20 1 2 3 4 5 6 7 8 10 20 1 2 3 4 5 6 7 8 10 20 1 2 3 4 5 6 7 8 10 20 1 2 3 4 5 6 7 8 10 20 1 2 3 4 5 6 7 8 10 20 1 2 3 4 5 6 7 8 10 20 1 2 3 4 5 6 7 8 10 20 1 2 3 4 5 6 7 8 10 20 1 2 3 4 5 6 7 8 10 20 1 "
       ]
      },
      {
       "output_type": "stream",
       "stream": "stdout",
       "text": [
        "2 3 4 5 6 7 8 10 20 1 2 3 4 5 6 7 8 10 20 1 2 3 4 5 6 7 8 10 20 1 2 3 4 5 6 7 8 10 20 1 2 3 4 5 6 7 8 10 20 1 2 3 4 5 6 7 8 10 20 1 2 3 4 5 6 7 8 10 20 1 2 3 4 5 6 7 8 10 20 1 2 3 4 5 6 7 8 10 20 1 2 3 4 5 6 7 8 10 20 1 2 3 4 5 6 7 8 10 20 1 2 3 4 5 6 7 8 10 20 1 2 3 4 5 6 7 8 10 20 1 2 3 4 5 6 7 8 10 20 1 2 3 4 5 6 7 8 10 20 1 2 "
       ]
      },
      {
       "output_type": "stream",
       "stream": "stdout",
       "text": [
        "3 4 5 6 7 8 10 20 1 2 3 4 5 6 7 8 10 20 1 2 3 4 5 6 7 8 10 20 1 2 3 4 5 6 7 8 10 20 1 2 3 4 5 6 7 8 10 20 1 2 3 4 5 6 7 8 10 1 2 3 4 5 6 7 8 10 20 1 2 3 4 5 6 7 8 10 20 1 2 3 4 5 6 7 8 10 20 1 2 3 4 5 6 7 8 10 20 1 2 3 4 5 6 7 8 10 20 1 2 3 4 5 6 7 8 10 20 1 2 3 4 5 6 7 8 10 20 1 2 3 4 5 6 7 8 10 20 1 2 3 4 5 6 7 8 10 20 "
       ]
      },
      {
       "output_type": "stream",
       "stream": "stdout",
       "text": [
        "1 2 3 4 5 6 7 8 10 20 1 2 3 4 5 6 7 8 10 20 1 2 3 4 5 6 7 8 10 20 1 2 3 4 5 6 7 8 10 20 1 2 3 4 5 6 7 8 10 20 1 2 3 4 5 6 7 8 10 20 1 2 3 4 5 6 7 8 10 20 1 2 3 4 5 6 7 8 10 20 1 2 3 4 5 6 7 8 10 20 1 2 3 4 5 6 7 8 10 20 1 2 3 4 5 6 7 8 10 20 1 2 3 4 5 6 7 8 10 20 1 2 3 4 5 6 7 8 10 20 1 2 3 4 5 6 7 8 10 20 1 2 3 4 5 6 7 8 10 "
       ]
      },
      {
       "output_type": "stream",
       "stream": "stdout",
       "text": [
        "20 1 2 3 4 5 6 7 8 10 20 1 2 3 4 5 6 7 8 10 20 1 2 3 4 5 6 7 8 10 20 1 2 3 4 5 6 7 8 10 20 1 2 3 4 5 6 7 8 10 20 1 2 3 4 5 6 7 8 10 20 1 2 3 4 5 6 7 8 10 20 1 2 3 4 5 6 7 8 10 20 1 2 3 4 5 6 7 8 10 20 1 2 3 4 5 6 7 8 10 20 1 2 3 4 5 6 7 8 10 20 1 2 3 4 5 6 7 8 10 20 1 2 3 4 5 6 7 8 10 1 2 3 4 5 6 7 8 10 20 1 2 3 4 "
       ]
      },
      {
       "output_type": "stream",
       "stream": "stdout",
       "text": [
        "5 6 7 8 10 20 1 2 3 4 5 6 7 8 10 20 1 2 3 4 5 6 7 8 10 20 1 2 3 4 5 6 7 8 10 20 1 2 3 4 5 6 7 8 10 20 1 2 3 4 5 6 7 8 10 20 1 2 3 4 5 6 7 8 10 20 1 2 3 4 5 6 7 8 10 20 1 2 3 4 5 6 7 8 10 20 1 2 3 4 5 6 7 8 10 20 1 2 3 4 5 6 7 8 10 1 2 3 4 5 6 7 8 10 20 1 2 3 4 5 6 7 8 10 20 1 2 3 4 5 6 7 8 10 20 1 2 3 4 5 6 7 8 10 "
       ]
      },
      {
       "output_type": "stream",
       "stream": "stdout",
       "text": [
        "20 1 2 3 4 5 6 7 8 10 20 1 2 3 4 5 6 7 8 10 20 1 2 3 4 5 6 7 8 10 20 1 2 3 4 5 6 7 8 10 1 2 3 4 5 6 7 8 10 20 1 2 3 4 5 6 7 8 10 20 1 2 3 4 5 6 7 8 10 1 2 3 4 5 6 7 8 10 20 1 2 3 4 5 6 7 8 10 1 2 3 4 5 6 7 8 10 20 1 2 3 4 5 6 7 8 10 20 1 2 3 4 5 6 7 8 10 20 1 2 3 4 5 6 7 8 10 20 1 2 3 4 5 6 7 8 10 "
       ]
      },
      {
       "output_type": "stream",
       "stream": "stdout",
       "text": [
        "1 2 3 4 5 6 7 8 10 20 1 2 3 4 5 6 7 8 10 20 1 2 3 4 5 6 7 8 10 20 1 2 3 4 5 6 7 8 10 20 1 2 3 4 5 6 7 8 10 20 1 2 3 4 5 6 7 8 10 20 1 2 3 4 5 6 7 8 10 20 1 2 3 4 5 6 7 8 10 20 1 2 3 4 5 6 7 8 10 20 1 2 3 4 5 6 7 8 10 20 1 2 3 4 5 6 7 8 10 20 1 2 3 4 5 6 7 8 10 "
       ]
      },
      {
       "output_type": "stream",
       "stream": "stdout",
       "text": [
        "20 1 2 3 4 5 6 7 8 10 20 1 2 3 4 5 6 7 8 10 20 1 2 3 4 5 6 7 8 10 20 1 2 3 4 5 6 7 8 10 20 1 2 3 4 5 6 7 8 10 20 1 2 3 4 5 6 7 8 10 1 2 3 4 5 6 7 8 10 20 1 2 3 4 5 6 7 8 10 20 1 2 3 4 5 6 7 8 10 20 1 2 3 4 5 6 7 8 10 20 1 2 3 4 5 6 7 8 10 20 1 2 3 4 5 6 7 8 10 20 1 2 3 4 5 6 7 8 10 20 1 2 3 4 5 6 7 8 10 20 1 2 3 4 5 6 7 8 10 "
       ]
      },
      {
       "output_type": "stream",
       "stream": "stdout",
       "text": [
        "20 1 2 3 4 5 6 7 8 10 20 1 2 3 4 5 6 7 8 10 20 1 2 3 4 5 6 7 8 10 20 1 2 3 4 5 6 7 8 10 20 1 2 3 4 5 6 7 8 10 20 1 2 3 4 5 6 7 8 10 20 1 2 3 4 5 6 7 8 10 20 1 2 3 4 5 6 7 8 10 20 1 2 3 4 5 6 7 8 10 20 1 2 3 4 5 6 7 8 10 20 1 2 3 4 5 6 7 8 10 1 2 3 4 5 6 7 8 10 1 2 3 4 5 6 7 8 10 20 "
       ]
      },
      {
       "output_type": "stream",
       "stream": "stdout",
       "text": [
        "1 2 3 4 5 6 7 8 10 20 1 2 3 4 5 6 7 8 10 20 1 2 3 4 5 6 7 8 10 20 1 2 3 4 5 6 7 8 10 20 1 2 3 4 5 6 7 8 10 20 1 2 3 4 5 6 7 8 10 20 1 2 3 4 5 6 7 8 10 20 1 2 3 4 5 6 7 8 10 20 1 2 3 4 5 6 7 8 10 20 1 2 3 4 5 6 7 8 10 20 1 2 3 4 5 6 7 8 10 20 1 2 3 4 5 6 7 8 10 20 1 2 3 4 5 6 7 8 10 20 1 2 3 4 5 6 7 8 10 20 1 2 3 "
       ]
      },
      {
       "output_type": "stream",
       "stream": "stdout",
       "text": [
        "4 5 6 7 8 10 20 1 2 3 4 5 6 7 8 10 20 1 2 3 4 5 6 7 8 10 20 1 2 3 4 5 6 7 8 10 20 1 2 3 4 5 6 7 8 10 20 1 2 3 4 5 6 7 8 10 20 1 2 3 4 5 6 7 8 10 20 1 2 3 4 5 6 7 8 10 20 1 2 3 4 5 6 7 8 10 20 1 2 3 4 5 6 7 8 10 20 1 2 3 4 5 6 7 8 10 20 1 2 3 4 5 6 7 8 10 20 1 2 3 4 5 6 7 8 10 20 1 2 3 4 5 6 7 8 10 20 1 2 3 4 5 6 7 8 10 "
       ]
      },
      {
       "output_type": "stream",
       "stream": "stdout",
       "text": [
        "1 2 3 4 5 6 7 8 10 20 1 2 3 4 5 6 7 8 10 20 1 2 3 4 5 6 7 8 10 20 1 2 3 4 5 6 7 8 10 20 50 1 2 3 4 5 6 7 8 10 20 1 2 3 4 5 6 7 8 10 20 1 2 3 4 5 6 7 8 10 20 1 2 3 4 5 6 7 8 10 20 1 2 3 4 5 6 7 8 10 20 1 2 3 4 5 6 7 8 10 20 1 2 3 4 5 6 7 8 10 20 1 2 3 4 5 6 7 "
       ]
      },
      {
       "output_type": "stream",
       "stream": "stdout",
       "text": [
        "8 10 20 1 2 3 4 5 6 7 8 10 20 1 2 3 4 5 6 7 8 10 20 1 2 3 4 5 6 7 8 10 20 1 2 3 4 5 6 7 8 10 20 1 2 3 4 5 6 7 8 10 20 1 2 3 4 5 6 7 8 10 20 1 2 3 4 5 6 7 8 10 20 1 2 3 4 5 6 7 8 10 20 1 2 3 4 5 6 7 8 10 20 1 2 3 4 5 6 7 8 10 20 1 2 3 4 5 6 7 8 10 20 1 2 3 4 5 6 7 8 10 20 1 2 3 4 5 6 7 8 10 20 1 2 3 4 5 6 7 8 10 20 1 2 3 4 5 6 7 8 10 20 1 2 3 4 5 "
       ]
      },
      {
       "output_type": "stream",
       "stream": "stdout",
       "text": [
        "6 7 8 10 20 1 2 3 4 5 6 7 8 10 20 1 2 3 4 5 6 7 8 10 20 1 2 3 4 5 6 7 8 10 20 1 2 3 4 5 6 7 8 10 20 1 2 3 4 5 6 7 8 10 20 1 2 3 4 5 6 7 8 10 20 1 2 3 4 5 6 7 8 10 20 1 2 3 4 5 6 7 8 10 20 1 2 3 4 5 6 7 8 10 20 1 2 3 4 5 6 7 8 10 20 1 2 3 4 5 6 7 8 10 20 1 2 3 4 5 6 7 8 10 20 1 2 3 4 5 6 7 8 10 20 1 2 3 4 5 6 7 8 10 20 "
       ]
      },
      {
       "output_type": "stream",
       "stream": "stdout",
       "text": [
        "1 2 3 4 5 6 7 8 10 20 1 2 3 4 5 6 7 8 10 20 1 2 3 4 5 6 7 8 10 20 1 2 3 4 5 6 7 8 10 1 2 3 4 5 6 7 8 10 20 1 2 3 4 5 6 7 8 10 20 1 2 3 4 5 6 7 8 10 20 1 2 3 4 5 6 7 8 10 20 1 2 3 4 5 6 7 8 10 20 1 2 3 4 5 6 7 8 10 20 1 2 3 4 5 6 7 8 10 20 1 2 3 4 5 6 7 8 10 20 1 2 3 4 5 6 7 8 10 "
       ]
      },
      {
       "output_type": "stream",
       "stream": "stdout",
       "text": [
        "20 1 2 3 4 5 6 7 8 10 20 1 2 3 4 5 6 7 8 10 20 1 2 3 4 5 6 7 8 10 20 1 2 3 4 5 6 7 8 10 20 1 2 3 4 5 6 7 8 10 20 1 2 3 4 5 6 7 8 10 20 1 2 3 4 5 6 7 8 10 20 1 2 3 4 5 6 7 8 10 20 1 2 3 4 5 6 7 8 10 20 1 2 3 4 5 6 7 8 10 20 1 2 3 4 5 6 7 8 10 20 1 2 3 4 5 6 7 8 10 20 1 2 3 4 5 6 7 8 10 "
       ]
      },
      {
       "output_type": "stream",
       "stream": "stdout",
       "text": [
        "20 1 2 3 4 5 6 7 8 10 20 1 2 3 4 5 6 7 8 10 20 1 2 3 4 5 6 7 8 10 20 1 2 3 4 5 6 7 8 10 20 1 2 3 4 5 6 7 8 10 20 1 2 3 4 5 6 7 8 10 20 1 2 3 4 5 6 7 8 10 1 2 3 4 5 6 7 8 10 20 1 2 3 4 5 6 7 8 10 20 1 2 3 4 5 6 7 8 10 20 1 2 3 4 5 6 7 8 10 20 1 2 3 4 5 6 7 8 10 20 1 2 3 4 5 6 7 8 10 20 "
       ]
      },
      {
       "output_type": "stream",
       "stream": "stdout",
       "text": [
        "1 2 3 4 5 6 7 8 10 20 1 2 3 4 5 6 7 8 10 20 1 2 3 4 5 6 7 8 10 20 1 2 3 4 5 6 7 8 10 20 1 2 3 4 5 6 7 8 10 20 1 2 3 4 5 6 7 8 10 20 1 2 3 4 5 6 7 8 10 20 1 2 3 4 5 6 7 8 10 20 50 100 1 2 3 4 5 6 7 8 10 20 1 2 3 4 5 6 7 8 10 20 1 2 3 4 5 6 7 8 10 20 1 2 3 4 "
       ]
      },
      {
       "output_type": "stream",
       "stream": "stdout",
       "text": [
        "5 6 7 8 10 20 1 2 3 4 5 6 7 8 10 20 1 2 3 4 5 6 7 8 10 1 2 3 4 5 6 7 8 10 20 1 2 3 4 5 6 7 8 10 1 2 3 4 5 6 7 8 10 20 1 2 3 4 5 6 7 8 10 20 1 2 3 4 5 6 7 8 10 20 1 2 3 4 5 6 7 8 10 20 1 2 3 4 5 6 7 8 10 20 1 2 3 4 5 6 7 8 10 20 1 2 3 4 5 6 7 8 10 20 1 2 3 4 5 6 7 8 10 20 1 2 3 4 5 6 7 8 10 20 1 2 3 4 5 6 7 8 10 20 "
       ]
      },
      {
       "output_type": "stream",
       "stream": "stdout",
       "text": [
        "1 2 3 4 5 6 7 8 10 20 1 2 3 4 5 6 7 8 10 20 1 2 3 4 5 6 7 8 10 20 1 2 3 4 5 6 7 8 10 1 2 3 4 5 6 7 8 10 20 1 2 3 4 5 6 7 8 10 1 2 3 4 5 6 7 8 10 20 1 2 3 4 5 6 7 8 10 20 1 2 3 4 5 6 7 8 10 20 1 2 3 4 5 6 7 8 10 20 1 2 3 4 5 6 7 8 10 20 1 2 3 4 5 6 7 8 10 20 1 2 3 4 5 6 7 8 10 "
       ]
      },
      {
       "output_type": "stream",
       "stream": "stdout",
       "text": [
        "20 1 2 3 4 5 6 7 8 10 20 1 2 3 4 5 6 7 8 10 20 1 2 3 4 5 6 7 8 10 20 1 2 3 4 5 6 7 8 10 20 1 2 3 4 5 6 7 8 10 20 1 2 3 4 5 6 7 8 10 20 1 2 3 4 5 6 7 8 10 20 1 2 3 4 5 6 7 8 10 20 1 2 3 4 5 6 7 8 10 20 1 2 3 4 5 6 7 8 10 20 1 2 3 4 5 6 7 8 10 20 1 2 3 4 5 6 7 8 10 20 1 2 3 4 5 6 7 8 10 1 2 3 4 5 6 7 8 10 20 1 2 3 4 5 6 7 8 10 20 "
       ]
      },
      {
       "output_type": "stream",
       "stream": "stdout",
       "text": [
        "1 2 3 4 5 6 7 8 10 20 1 2 3 4 5 6 7 8 10 20 1 2 3 4 5 6 7 8 10 20 1 2 3 4 5 6 7 8 10 20 1 2 3 4 5 6 7 8 10 20 1 2 3 4 5 6 7 8 10 20 1 2 3 4 5 6 7 8 10 20 1 2 3 4 5 6 7 8 10 20 1 2 3 4 5 6 7 8 10 20 1 2 3 4 5 6 7 8 10 20 1 2 3 4 5 6 7 8 10 20 1 2 3 4 5 6 7 8 10 20 1 2 3 4 5 6 7 8 10 20 1 2 3 4 5 6 7 8 10 20 1 2 3 4 5 6 7 8 10 "
       ]
      },
      {
       "output_type": "stream",
       "stream": "stdout",
       "text": [
        "20 1 2 3 4 5 6 7 8 10 20 1 2 3 4 5 6 7 8 10 20 1 2 3 4 5 6 7 8 10 20 1 2 3 4 5 6 7 8 10 20 1 2 3 4 5 6 7 8 10 20 1 2 3 4 5 6 7 8 10 20 1 2 3 4 5 6 7 8 10 20 1 2 3 4 5 6 7 8 10 20 1 2 3 4 5 6 7 8 10 1 2 3 4 5 6 7 8 10 20 1 2 3 4 5 6 7 8 10 20 1 2 3 4 5 6 7 8 10 20 1 2 3 4 5 6 7 8 10 20 1 2 3 4 5 6 7 "
       ]
      },
      {
       "output_type": "stream",
       "stream": "stdout",
       "text": [
        "8 10 20 1 2 3 4 5 6 7 8 10 20 1 2 3 4 5 6 7 8 10 1 2 3 4 5 6 7 8 10 20 1 2 3 4 5 6 7 8 10 20 1 2 3 4 5 6 7 8 10 20 1 2 3 4 5 6 7 8 10 20 1 2 3 4 5 6 7 8 10 20 1 2 3 4 5 6 7 8 10 1 2 3 4 5 6 7 8 10 20 1 2 3 4 5 6 7 8 10 20 1 2 3 4 5 6 7 8 10 20 1 2 3 4 5 6 7 8 10 20 1 2 3 4 5 6 7 8 10 20 1 2 3 4 5 6 7 8 10 20 1 2 3 4 5 6 7 8 10 "
       ]
      },
      {
       "output_type": "stream",
       "stream": "stdout",
       "text": [
        "20 1 2 3 4 5 6 7 8 10 20 1 2 3 4 5 6 7 8 10 20 1 2 3 4 5 6 7 8 10 20 1 2 3 4 5 6 7 8 10 20 1 2 3 4 5 6 7 8 10 20 1 2 3 4 5 6 7 8 10 20 1 2 3 4 5 6 7 8 10 20 1 2 3 4 5 6 7 8 10 20 1 2 3 4 5 6 7 8 10 20 1 2 3 4 5 6 7 8 10 20 1 2 3 4 5 6 7 8 10 20 1 2 3 4 5 6 7 8 10 20 1 2 3 4 5 6 7 8 10 1 2 3 4 5 6 7 8 10 20 1 2 3 4 5 6 7 8 10 "
       ]
      },
      {
       "output_type": "stream",
       "stream": "stdout",
       "text": [
        "20 1 2 3 4 5 6 7 8 10 20 1 2 3 4 5 6 7 8 10 20 1 2 3 4 5 6 7 8 10 1 2 3 4 5 6 7 8 10 1 2 3 4 5 6 7 8 10 20 1 2 3 4 5 6 7 8 10 20 1 2 3 4 5 6 7 8 10 20 1 2 3 4 5 6 7 8 10 20 1 2 3 4 5 6 7 8 10 20 1 2 3 4 5 6 7 8 10 20 1 2 3 4 5 6 7 8 10 20 1 2 3 4 5 6 7 8 10 20 1 2 3 4 5 6 7 8 10 20 1 2 3 4 5 6 7 8 10 20 1 2 3 4 5 6 7 8 10 "
       ]
      },
      {
       "output_type": "stream",
       "stream": "stdout",
       "text": [
        "20 1 2 3 4 5 6 7 8 10 20 1 2 3 4 5 6 7 8 10 20 1 2 3 4 5 6 7 8 10 20 1 2 3 4 5 6 7 8 10 20 1 2 3 4 5 6 7 8 10 20 1 2 3 4 5 6 7 8 10 20 1 2 3 4 5 6 7 8 10 20 1 2 3 4 5 6 7 8 10 20 1 2 3 4 5 6 7 8 10 20 1 2 3 4 5 6 7 8 10 20 1 2 3 4 5 6 7 8 10 20 1 2 3 4 5 6 7 8 10 20 1 2 3 4 5 6 7 8 10 20 1 2 3 4 5 6 7 8 "
       ]
      },
      {
       "output_type": "stream",
       "stream": "stdout",
       "text": [
        "10 1 2 3 4 5 6 7 8 10 20 1 2 3 4 5 6 7 8 10 20 1 2 3 4 5 6 7 8 10 20 1 2 3 4 5 6 7 8 10 20 1 2 3 4 5 6 7 8 10 20 1 2 3 4 5 6 7 8 10 20 1 2 3 4 5 6 7 8 10 20 1 2 3 4 5 6 7 8 10 20 1 2 3 4 5 6 7 8 10 20 1 2 3 4 5 6 7 8 10 20 1 2 3 4 5 6 7 8 10 20 1 2 3 4 5 6 7 8 10 20 1 2 3 4 5 6 7 8 10 20 1 2 3 4 5 6 7 8 10 20 1 2 3 4 5 6 7 8 10 20 1 2 3 4 "
       ]
      },
      {
       "output_type": "stream",
       "stream": "stdout",
       "text": [
        "5 6 7 8 10 20 1 2 3 4 5 6 7 8 10 1 2 3 4 5 6 7 8 10 20 1 2 3 4 5 6 7 8 10 20 1 2 3 4 5 6 7 8 10 20 1 2 3 4 5 6 7 8 10 20 1 2 3 4 5 6 7 8 10 20 1 2 3 4 5 6 7 8 10 1 2 3 4 5 6 7 8 10 1 2 3 4 5 6 7 8 10 20 1 2 3 4 5 6 7 8 10 20 1 2 3 4 5 6 7 8 10 20 1 2 3 4 5 6 7 8 10 20 1 2 3 4 5 6 7 8 10 20 1 2 3 4 5 6 7 8 10 "
       ]
      },
      {
       "output_type": "stream",
       "stream": "stdout",
       "text": [
        "20 1 2 3 4 5 6 7 8 10 1 2 3 4 5 6 7 8 10 20 1 2 3 4 5 6 7 8 10 20 1 2 3 4 5 6 7 8 10 20 1 2 3 4 5 6 7 8 10 20 1 2 3 4 5 6 7 8 10 20 1 2 3 4 5 6 7 8 10 20 1 2 3 4 5 6 7 8 10 20 1 2 3 4 5 6 7 8 10 1 2 3 4 5 6 7 8 10 20 1 2 3 4 5 6 7 8 10 20 1 2 3 4 5 6 7 8 10 20 1 2 3 4 5 6 7 8 10 20 1 2 3 4 5 6 7 8 10 20 1 2 3 4 5 6 7 8 10 20 1 2 3 4 5 6 7 8 10 20 1 2 3 4 5 6 7 8 10 20 1 2 3 4 5 6 "
       ]
      },
      {
       "output_type": "stream",
       "stream": "stdout",
       "text": [
        "7 8 10 20 1 2 3 4 5 6 7 8 10 20 1 2 3 4 5 6 7 8 10 20 1 2 3 4 5 6 7 8 10 20 1 2 3 4 5 6 7 8 10 1 2 3 4 5 6 7 8 10 20 1 2 3 4 5 6 7 8 10 20 1 2 3 4 5 6 7 8 10 20 1 2 3 4 5 6 7 8 10 20 1 2 3 4 5 6 7 8 10 20 1 2 3 4 5 6 7 8 10 20 1 2 3 4 5 6 7 8 10 20 1 2 3 4 5 6 7 8 10 20 1 2 3 4 5 6 7 8 10 20 1 2 3 4 5 6 7 8 10 20 "
       ]
      },
      {
       "output_type": "stream",
       "stream": "stdout",
       "text": [
        "1 2 3 4 5 6 7 8 10 20 1 2 3 4 5 6 7 8 10 20 1 2 3 4 5 6 7 8 10 20 1 2 3 4 5 6 7 8 10 20 1 2 3 4 5 6 7 8 10 20 1 2 3 4 5 6 7 8 10 20 1 2 3 4 5 6 7 8 10 20 1 2 3 4 5 6 7 8 10 20 1 2 3 4 5 6 7 8 10 20 1 2 3 4 5 6 7 8 10 20 1 2 3 4 5 6 7 8 10 20 1 2 3 4 5 6 7 8 10 20 1 2 3 4 5 6 7 8 10 20 1 2 3 4 5 6 7 8 10 "
       ]
      },
      {
       "output_type": "stream",
       "stream": "stdout",
       "text": [
        "20 1 2 3 4 5 6 7 8 10 20 1 2 3 4 5 6 7 8 10 20 1 2 3 4 5 6 7 8 10 20 1 2 3 4 5 6 7 8 10 1 2 3 4 5 6 7 8 10 20 1 2 3 4 5 6 7 8 10 20 1 2 3 4 5 6 7 8 10 20 1 2 3 4 5 6 7 8 10 20 1 2 3 4 5 6 7 8 10 20 1 2 3 4 5 6 7 8 10 20 1 2 3 4 5 6 7 8 10 20 1 2 3 4 5 6 7 8 10 20 1 2 3 4 5 6 7 8 10 20 1 2 3 4 5 6 7 8 10 "
       ]
      },
      {
       "output_type": "stream",
       "stream": "stdout",
       "text": [
        "20 1 2 3 4 5 6 7 8 10 20 1 2 3 4 5 6 7 8 10 20 1 2 3 4 5 6 7 8 10 20 1 2 3 4 5 6 7 8 10 20 1 2 3 4 5 6 7 8 10 20 1 2 3 4 5 6 7 8 10 20 1 2 3 4 5 6 7 8 10 20 1 2 3 4 5 6 7 8 10 20 1 2 3 4 5 6 7 8 10 20 1 2 3 4 5 6 7 8 10 20 1 2 3 4 5 6 7 8 10 20 1 2 3 4 5 6 7 8 10 20 1 2 3 4 5 6 7 8 10 20 1 2 3 4 5 6 7 8 10 20 1 2 3 4 5 6 7 8 10 20 "
       ]
      },
      {
       "output_type": "stream",
       "stream": "stdout",
       "text": [
        "1 2 3 4 5 6 7 8 10 20 1 2 3 4 5 6 7 8 10 20 1 2 3 4 5 6 7 8 10 20 1 2 3 4 5 6 7 8 10 1 2 3 4 5 6 7 8 10 20 1 2 3 4 5 6 7 8 10 20 1 2 3 4 5 6 7 8 10 20 1 2 3 4 5 6 7 8 10 20 1 2 3 4 5 6 7 8 10 20 1 2 3 4 5 6 7 8 10 20 1 2 3 4 5 6 7 8 10 20 1 2 3 4 5 6 7 8 10 20 1 2 3 4 5 6 7 8 10 20 1 2 3 4 5 6 7 8 10 20 1 2 3 4 "
       ]
      },
      {
       "output_type": "stream",
       "stream": "stdout",
       "text": [
        "5 6 7 8 10 20 1 2 3 4 5 6 7 8 10 20 1 2 3 4 5 6 7 8 10 20 50 1 2 3 4 5 6 7 8 10 20 1 2 3 4 5 6 7 8 10 20 1 2 3 4 5 6 7 8 10 20 1 2 3 4 5 6 7 8 10 20 1 2 3 4 5 6 7 8 10 20 1 2 3 4 5 6 7 8 10 20 1 2 3 4 5 6 7 8 10 20 1 2 3 4 5 6 7 8 10 1 2 3 4 5 6 7 8 10 20 1 2 3 4 5 6 7 8 10 20 1 2 3 4 5 6 7 8 10 "
       ]
      },
      {
       "output_type": "stream",
       "stream": "stdout",
       "text": [
        "20 1 2 3 4 5 6 7 8 10 1 2 3 4 5 6 7 8 10 20 1 2 3 4 5 6 7 8 10 20 1 2 3 4 5 6 7 8 10 20 1 2 3 4 5 6 7 8 10 20 1 2 3 4 5 6 7 8 10 20 1 2 3 4 5 6 7 8 10 1 2 3 4 5 6 7 8 10 20 1 2 3 4 5 6 7 8 10 20 1 2 3 4 5 6 7 8 10 20 1 2 3 4 5 6 7 8 10 20 1 2 3 4 5 6 7 8 10 20 1 2 3 4 5 6 7 8 10 20 1 2 3 4 5 6 7 8 10 20 1 "
       ]
      },
      {
       "output_type": "stream",
       "stream": "stdout",
       "text": [
        "2 3 4 5 6 7 8 10 20 1 2 3 4 5 6 7 8 10 20 1 2 3 4 5 6 7 8 10 20 1 2 3 4 5 6 7 8 10 1 2 3 4 5 6 7 8 10 20 1 2 3 4 5 6 7 8 10 20 1 2 3 4 5 6 7 8 10 20 1 2 3 4 5 6 7 8 10 20 1 2 3 4 5 6 7 8 10 20 1 2 3 4 5 6 7 8 10 20 1 2 3 4 5 6 7 8 10 20 1 2 3 4 5 6 7 8 10 20 1 2 3 4 5 6 7 8 10 "
       ]
      },
      {
       "output_type": "stream",
       "stream": "stdout",
       "text": [
        "1 2 3 4 5 6 7 8 10 20 1 2 3 4 5 6 7 8 10 20 1 2 3 4 5 6 7 8 10 1 2 3 4 5 6 7 8 10 20 1 2 3 4 5 6 7 8 10 20 1 2 3 4 5 6 7 8 10 20 1 2 3 4 5 6 7 8 10 20 1 2 3 4 5 6 7 8 10 20 1 2 3 4 5 6 7 8 10 20 1 2 3 4 5 6 7 8 10 20 1 2 3 4 5 6 7 8 10 20 1 2 3 4 5 6 7 8 10 20 "
       ]
      },
      {
       "output_type": "stream",
       "stream": "stdout",
       "text": [
        "1 2 3 4 5 6 7 8 10 20 50 1 2 3 4 5 6 7 8 10 20 1 2 3 4 5 6 7 8 10 20 1 2 3 4 5 6 7 8 10 20 1 2 3 4 5 6 7 8 10 1 2 3 4 5 6 7 8 10 20 1 2 3 4 5 6 7 8 10 20 1 2 3 4 5 6 7 8 10 20 1 2 3 4 5 6 7 8 10 20 1 2 3 4 5 6 7 8 10 20 1 2 3 4 5 6 7 8 10 20 1 2 3 4 5 6 7 8 10 "
       ]
      },
      {
       "output_type": "stream",
       "stream": "stdout",
       "text": [
        "20 1 2 3 4 5 6 7 8 10 20 1 2 3 4 5 6 7 8 10 20 1 2 3 4 5 6 7 8 10 20 1 2 3 4 5 6 7 8 10 20 1 2 3 4 5 6 7 8 10 20 1 2 3 4 5 6 7 8 10 20 1 2 3 4 5 6 7 8 10 20 1 2 3 4 5 6 7 8 10 1 2 3 4 5 6 7 8 10 20 1 2 3 4 5 6 7 8 10 20 1 2 3 4 5 6 7 8 10 20 1 2 3 4 5 6 7 8 10 20 1 2 3 4 5 6 7 8 10 20 1 2 3 4 5 6 7 8 10 20 1 2 3 4 5 6 7 8 10 20 1 2 3 4 5 6 7 8 10 "
       ]
      },
      {
       "output_type": "stream",
       "stream": "stdout",
       "text": [
        "20 1 2 3 4 5 6 7 8 10 20 1 2 3 4 5 6 7 8 10 20 1 2 3 4 5 6 7 8 10 20 1 2 3 4 5 6 7 8 10 1 2 3 4 5 6 7 8 10 1 2 3 4 5 6 7 8 10 20 1 2 3 4 5 6 7 8 10 20 1 2 3 4 5 6 7 8 10 20 1 2 3 4 5 6 7 8 10 20 1 2 3 4 5 6 7 8 10 20 1 2 3 4 5 6 7 8 10 20 1 2 3 4 5 6 7 8 10 20 1 2 3 4 5 6 7 8 10 20 1 2 3 4 5 6 7 8 10 20 1 2 3 4 5 6 7 8 10 20 1 2 3 4 5 6 7 8 10 "
       ]
      },
      {
       "output_type": "stream",
       "stream": "stdout",
       "text": [
        "1 2 3 4 5 6 7 8 10 20 1 2 3 4 5 6 7 8 10 20 1 2 3 4 5 6 7 8 10 20 1 2 3 4 5 6 7 8 10 20 1 2 3 4 5 6 7 8 10 20 1 2 3 4 5 6 7 8 10 20 1 2 3 4 5 6 7 8 10 20 1 2 3 4 5 6 7 8 10 20 1 2 3 4 5 6 7 8 10 20 1 2 3 4 5 6 7 8 10 20 1 2 3 4 5 6 7 8 10 20 1 2 3 4 5 6 7 8 10 20 1 2 3 4 5 6 7 8 10 20 1 2 3 4 5 6 7 8 10 20 1 2 3 4 5 6 7 8 10 20 "
       ]
      },
      {
       "output_type": "stream",
       "stream": "stdout",
       "text": [
        "1 2 3 4 5 6 7 8 10 20 1 2 3 4 5 6 7 8 10 20 1 2 3 4 5 6 7 8 10 20 1 2 3 4 5 6 7 8 10 20 1 2 3 4 5 6 7 8 10 20 1 2 3 4 5 6 7 8 10 20 1 2 3 4 5 6 7 8 10 20 1 2 3 4 5 6 7 8 10 20 1 2 3 4 5 6 7 8 10 20 1 2 3 4 5 6 7 8 10 20 1 2 3 4 5 6 7 8 10 20 1 2 3 4 5 6 7 8 10 20 1 2 3 4 5 6 7 8 10 "
       ]
      },
      {
       "output_type": "stream",
       "stream": "stdout",
       "text": [
        "20 1 2 3 4 5 6 7 8 10 20 1 2 3 4 5 6 7 8 10 20 1 2 3 4 5 6 7 8 10 20 1 2 3 4 5 6 7 8 10 20 1 2 3 4 5 6 7 8 10 20 1 2 3 4 5 6 7 8 10 20 1 2 3 4 5 6 7 8 10 20 1 2 3 4 5 6 7 8 10 20 1 2 3 4 5 6 7 8 10 20 1 2 3 4 5 6 7 8 10 20 1 2 3 4 5 6 7 8 10 20 1 2 3 4 5 6 7 8 10 20 1 2 3 4 5 6 7 8 10 20 1 2 3 4 5 6 7 8 10 "
       ]
      },
      {
       "output_type": "stream",
       "stream": "stdout",
       "text": [
        "20 1 2 3 4 5 6 7 8 10 20 1 2 3 4 5 6 7 8 10 20 1 2 3 4 5 6 7 8 10 20 1 2 3 4 5 6 7 8 10 20 1 2 3 4 5 6 7 8 10 20 1 2 3 4 5 6 7 8 10 20 1 2 3 4 5 6 7 8 10 20 1 2 3 4 5 6 7 8 10 20 1 2 3 4 5 6 7 8 10 20 1 2 3 4 5 6 7 8 10 20 1 2 3 4 5 6 7 8 10 20 1 2 3 4 5"
       ]
      },
      {
       "output_type": "stream",
       "stream": "stdout",
       "text": [
        " 6 7 8 10 1 2 3 4 5 6 7 8 10 20 1 2 3 4 5 6 7 8 10 20 1 2 3 4 5 6 7 8 10 20 1 2 3 4 5 6 7 8 10 1 2 3 4 5 6 7 8 10 20 50 100 "
       ]
      },
      {
       "output_type": "stream",
       "stream": "stdout",
       "text": [
        "500 1 2 3 4 5 6 7 8 10 20 1 2 3 4 5 6 7 8 10 20 1 2 3 4 5 6 7 8 10 20 1 2 3 4 5 6 7 8 10 20 1 2 3 4 5 6 7 8 10 20 1 2 3 4 5 6 7 8 10 20 1 2 3 4 5 6 7 8 10 20 1 2 3 4 5 6 7 8 10 20 1 2 3 4 5 6 7 8 10 20 1 2 3 4 5 6 7 8 10 20 1 2 3 4 5 6 7 8 10 20 1 2 3 4 5 6 7 8 10 20 1 2 3 4 5 6 7 8 10 20 "
       ]
      },
      {
       "output_type": "stream",
       "stream": "stdout",
       "text": [
        "1 2 3 4 5 6 7 8 10 20 1 2 3 4 5 6 7 8 10 20 1 2 3 4 5 6 7 8 10 20 1 2 3 4 5 6 7 8 10 20 1 2 3 4 5 6 7 8 10 20 1 2 3 4 5 6 7 8 10 20 1 2 3 4 5 6 7 8 10 20 1 2 3 4 5 6 7 8 10 20 1 2 3 4 5 6 7 8 10 20 1 2 3 4 5 6 7 8 10 20 1 2 3 4 5 6 7 8 10 20 1 2 3 4 5 6 7 8 10 20 1 2 3 4 5 6 "
       ]
      },
      {
       "output_type": "stream",
       "stream": "stdout",
       "text": [
        "7 8 10 20 1 2 3 4 5 6 7 8 10 20 1 2 3 4 5 6 7 8 10 20 1 2 3 4 5 6 7 8 10 20 1 2 3 4 5 6 7 8 10 20 1 2 3 4 5 6 7 8 10 20 1 2 3 4 5 6 7 8 10 20 1 2 3 4 5 6 7 8 10 20 1 2 3 4 5 6 7 8 10 20 1 2 3 4 5 6 7 8 10 20 1 2 3 4 5 6 7 8 10 20 "
       ]
      },
      {
       "output_type": "stream",
       "stream": "stdout",
       "text": [
        "1 2 3 4 5 6 7 8 10 20 1 2 3 4 5 6 7 8 10 20 1 2 3 4 5 6 7 8 10 20 1 2 3 4 5 6 7 8 10 20 1 2 3 4 5 6 7 8 10 20 1 2 3 4 5 6 7 8 10 20 1 2 3 4 5 6 7 8 10 20 1 2 3 4 5 6 7 8 10 20 1 2 3 4 5 6 7 8 10 20 1 2 3 4 5 6 7 8 10 20 1 2 3 4 5 6 7 8 10 1 2 3 4 5 6 7 8 10 20 1 2 3 4 5 6 7 8 10 20 1 2 3 4 5 6 7 8 10 "
       ]
      },
      {
       "output_type": "stream",
       "stream": "stdout",
       "text": [
        "20 1 2 3 4 5 6 7 8 10 1 2 3 4 5 6 7 8 10 20 1 2 3 4 5 6 7 8 10 20 1 2 3 4 5 6 7 8 10 20 1 2 3 4 5 6 7 8 10 20 1 2 3 4 5 6 7 8 10 20 1 2 3 4 5 6 7 8 10 20 1 2 3 4 5 6 7 8 10 20 1 2 3 4 5 6 7 8 10 20 1 2 3 4 5 6 7 8 10 1 2 3 4 5 6 7 8 10 20 1 2 3 4 5 6 7 8 10 20 1 2 3 4 5 6 7 8 10 20 1 2 3 4 5 6 7 8 10 20 1 2 3 4 5 6 7 8 10 20 1 "
       ]
      },
      {
       "output_type": "stream",
       "stream": "stdout",
       "text": [
        "2 3 4 5 6 7 8 10 20 1 2 3 4 5 6 7 8 10 20 1 2 3 4 5 6 7 8 10 20 1 2 3 4 5 6 7 8 10 20 1 2 3 4 5 6 7 8 10 20 1 2 3 4 5 6 7 8 10 20 1 2 3 4 5 6 7 8 10 20 1 2 3 4 5 6 7 8 10 1 2 3 4 5 6 7 8 10 20 1 2 3 4 5 6 7 8 10 20 1 2 3 4 5 6 7 8 10 20 1 2 3 4 5 6 7 8 10 20 1 2 3 4 5 6 7 8 10 20 1 2 3 4 5 6 7 8 10 20 1 2 3 "
       ]
      },
      {
       "output_type": "stream",
       "stream": "stdout",
       "text": [
        "4 5 6 7 8 10 20 1 2 3 4 5 6 7 8 10 20 1 2 3 4 5 6 7 8 10 1 2 3 4 5 6 7 8 10 20 1 2 3 4 5 6 7 8 10 1 2 3 4 5 6 7 8 10 20 1 2 3 4 5 6 7 8 10 20 1 2 3 4 5 6 7 8 10 20 1 2 3 4 5 6 7 8 10 20 1 2 3 4 5 6 7 8 10 20 1 2 3 4 5 6 7 8 10 20 1 2 3 4 5 6 7 8 10 20 1 2 3 4 5 6 7 8 10 20 1 2 3 4 5 6 7 8 10 20 1 2 3 4 5 6 7 8 10 20 "
       ]
      },
      {
       "output_type": "stream",
       "stream": "stdout",
       "text": [
        "1 2 3 4 5 6 7 8 10 20 1 2 3 4 5 6 7 8 10 20 1 2 3 4 5 6 7 8 10 20 1 2 3 4 5 6 7 8 10 20 1 2 3 4 5 6 7 8 10 20 1 2 3 4 5 6 7 8 10 20 1 2 3 4 5 6 7 8 10 20 1 2 3 4 5 6 7 8 10 20 1 2 3 4 5 6 7 8 10 20 1 2 3 4 5 6 7 8 10 20 1 2 3 4 5 6 7 8 10 20 1 2 3 4 5 6 7 8 10 20 1 2 3 4 5 6 7 8 10 20 "
       ]
      },
      {
       "output_type": "stream",
       "stream": "stdout",
       "text": [
        "1 2 3 4 5 6 7 8 10 20 1 2 3 4 5 6 7 8 10 20 1 2 3 4 5 6 7 8 10 20 1 2 3 4 5 6 7 8 10 20 1 2 3 4 5 6 7 8 10 20 1 2 3 4 5 6 7 8 10 20 1 2 3 4 5 6 7 8 10 20 1 2 3 4 5 6 7 8 10 20 1 2 3 4 5 6 7 8 10 20 1 2 3 4 5 6 7 8 10 20 1 2 3 4 5 6 7 8 10 20 1 2 3 4 5 6 7 8 10 20 1 2 3 4 5 6 7 8 10 20 1 2 3 4 5 6 7 8 10 1 2 3 4 5 6 7 8 10 20 1 2 3 4 5 6 7 8 10 "
       ]
      },
      {
       "output_type": "stream",
       "stream": "stdout",
       "text": [
        "20 1 2 3 4 5 6 7 8 10 20 1 2 3 4 5 6 7 8 10 20 1 2 3 4 5 6 7 8 10 20 1 2 3 4 5 6 7 8 10 20 1 2 3 4 5 6 7 8 10 20 1 2 3 4 5 6 7 8 10 20 1 2 3 4 5 6 7 8 10 20 1 2 3 4 5 6 7 8 10 20 1 2 3 4 5 6 7 8 10 20 1 2 3 4 5 6 7 8 10 20 1 2 3 4 5 6 7 8 10 20 1 2 3 4 5 6 7 8 10 "
       ]
      },
      {
       "output_type": "stream",
       "stream": "stdout",
       "text": [
        "20 1 2 3 4 5 6 7 8 10 20 1 2 3 4 5 6 7 8 10 20 1 2 3 4 5 6 7 8 10 20 1 2 3 4 5 6 7 8 10 20 1 2 3 4 5 6 7 8 10 20 1 2 3 4 5 6 7 8 10 20 1 2 3 4 5 6 7 8 10 20 1 2 3 4 5 6 7 8 10 20 1 2 3 4 5 6 7 8 10 20 1 2 3 4 5 6 7 8 10 20 1 2 3 4 5 6 7 8 10 20 1 2 3 4 5 6 7 8 10 20 1 2 3 4 5 6 7 8 10 20 1 2 3 4 5 6 7 8 10 20 1 2 3 4 5 6 7 8 10 20 1 2 3 4 5 6 7 8 10 20 1 2 3 4 5 6 7 8 10 "
       ]
      },
      {
       "output_type": "stream",
       "stream": "stdout",
       "text": [
        "20 1 2 3 4 5 6 7 8 10 1 2 3 4 5 6 7 8 10 20 1 2 3 4 5 6 7 8 10 20 1 2 3 4 5 6 7 8 10 20 1 2 3 4 5 6 7 8 10 20 1 2 3 4 5 6 7 8 10 20 1 2 3 4 5 6 7 8 10 20 1 2 3 4 5 6 7 8 10 20 1 2 3 4 5 6 7 8 10 20 1 2 3 4 5 6 7 8 10 1 2 3 4 5 6 7 8 10 20 1 2 3 4 5 6 7 8 10 20 1 2 3 4 5 6 7 8 10 20 1 2 3 4 5 6 7 8 10 20 "
       ]
      },
      {
       "output_type": "stream",
       "stream": "stdout",
       "text": [
        "1 2 3 4 5 6 7 8 10 20 1 2 3 4 5 6 7 8 10 20 1 2 3 4 5 6 7 8 10 20 1 2 3 4 5 6 7 8 10 20 1 2 3 4 5 6 7 8 10 20 1 2 3 4 5 6 7 8 10 20 1 2 3 4 5 6 7 8 10 20 1 2 3 4 5 6 7 8 10 20 1 2 3 4 5 6 7 8 10 20 1 2 3 4 5 6 7 8 10 20 1 2 3 4 5 6 7 8 10 20 1 2 3 4 5 6 7 8 10 20 1 2 3 4 5 6 7 8 10 20 1 2 3 4 5 6 7 8 10 20 1 2 3 4 5 6 7 8 10 20 "
       ]
      },
      {
       "output_type": "stream",
       "stream": "stdout",
       "text": [
        "1 2 3 4 5 6 7 8 10 20 1 2 3 4 5 6 7 8 10 20 1 2 3 4 5 6 7 8 10 20 1 2 3 4 5 6 7 8 10 20 1 2 3 4 5 6 7 8 10 20 1 2 3 4 5 6 7 8 10 20 1 2 3 4 5 6 7 8 10 20 1 2 3 4 5 6 7 8 10 20 1 2 3 4 5 6 7 8 10 20 1 2 3 4 5 6 7 8 10 20 1 2 3 4 5 6 7 8 10 20 1 2 3 4 5 6 7 8 10 20 1 2 3 4 5 6 "
       ]
      },
      {
       "output_type": "stream",
       "stream": "stdout",
       "text": [
        "7 8 10 20 1 2 3 4 5 6 7 8 10 20 1 2 3 4 5 6 7 8 10 20 1 2 3 4 5 6 7 8 10 20 1 2 3 4 5 6 7 8 10 20 1 2 3 4 5 6 7 8 10 20 1 2 3 4 5 6 7 8 10 20 1 2 3 4 5 6 7 8 10 20 1 2 3 4 5 6 7 8 10 20 1 2 3 4 5 6 7 8 10 20 1 2 3 4 5 6 7 8 10 20 1 2 3 4 5 6 7 8 10 "
       ]
      },
      {
       "output_type": "stream",
       "stream": "stdout",
       "text": [
        "20 1 2 3 4 5 6 7 8 10 20 1 2 3 4 5 6 7 8 10 20 1 2 3 4 5 6 7 8 10 20 1 2 3 4 5 6 7 8 10 20 1 2 3 4 5 6 7 8 10 20 1 2 3 4 5 6 7 8 10 20 1 2 3 4 5 6 7 8 10 20 50 1 2 3 4 5 6 7 8 10 20 1 2 3 4 5 6 7 8 10 20 1 2 3 4 5 6 7 8 10 20 1 2 3 4 5 6 7 8 10 1 2 3 4 5 6 7 8 10 20 1 2 3 4 5 6 7 8 10 "
       ]
      },
      {
       "output_type": "stream",
       "stream": "stdout",
       "text": [
        "20 1 2 3 4 5 6 7 8 10 20 1 2 3 4 5 6 7 8 10 20 1 2 3 4 5 6 7 8 10 20 1 2 3 4 5 6 7 8 10 20 1 2 3 4 5 6 7 8 10 20 1 2 3 4 5 6 7 8 10 20 1 2 3 4 5 6 7 8 10 20 1 2 3 4 5 6 7 8 10 20 1 2 3 4 5 6 7 8 10 20 1 2 3 4 5 6 7 8 10 20 1 2 3 4 5 6 7 8 10 20 1 2 3 4 5 6 7 8 10 20 1 2 3 4 5 6 7 "
       ]
      },
      {
       "output_type": "stream",
       "stream": "stdout",
       "text": [
        "8 10 20 1 2 3 4 5 6 7 8 10 20 1 2 3 4 5 6 7 8 10 20 1 2 3 4 5 6 7 8 10 1 2 3 4 5 6 7 8 10 20 1 2 3 4 5 6 7 8 10 20 1 2 3 4 5 6 7 8 10 1 2 3 4 5 6 7 8 10 20 1 2 3 4 5 6 7 8 10 20 1 2 3 4 5 6 7 8 10 20 1 2 3 4 5 6 7 8 10 20 1 2 3 4 5 6 7 8 10 20 1 2 3 4 5 6 7 8 10 20 1 2 3 4 5 6 7 8 10 20 1 2 3 4 5 6 7 8 10 20 1 2 3 4 5 6 7 8 "
       ]
      },
      {
       "output_type": "stream",
       "stream": "stdout",
       "text": [
        "10 1 2 3 4 5 6 7 8 10 20 1 2 3 4 5 6 7 8 10 20 1 2 3 4 5 6 7 8 10 20 1 2 3 4 5 6 7 8 10 20 1 2 3 4 5 6 7 8 10 20 1 2 3 4 5 6 7 8 10 20 1 2 3 4 5 6 7 8 10 20 1 2 3 4 5 6 7 8 10 20 1 2 3 4 5 6 7 8 10 20 1 2 3 4 5 6 7 8 10 20 1 2 3 4 5 6 7 8 10 20 1 2 3 4 5 6 7 8 10 20 1 2 3 4 5 6 7 8 10 20 1 2 3 4 5 "
       ]
      },
      {
       "output_type": "stream",
       "stream": "stdout",
       "text": [
        "6 7 8 10 20 1 2 3 4 5 6 7 8 10 20 1 2 3 4 5 6 7 8 10 20 1 2 3 4 5 6 7 8 10 20 1 2 3 4 5 6 7 8 10 20 1 2 3 4 5 6 7 8 10 20 1 2 3 4 5 6 7 8 10 20 1 2 3 4 5 6 7 8 10 20 1 2 3 4 5 6 7 8 10 20 1 2 3 4 5 6 7 8 10 20 1 2 3 4 5 6 7 8 10 20 1 2 3 4 5 6 7 8 10 20 1 2 3 4 5 6 7 8 10 20 1 2 3 4 5 6 7 8 10 20 "
       ]
      },
      {
       "output_type": "stream",
       "stream": "stdout",
       "text": [
        "1 2 3 4 5 6 7 8 10 20 1 2 3 4 5 6 7 8 10 20 1 2 3 4 5 6 7 8 10 20 1 2 3 4 5 6 7 8 10 20 1 2 3 4 5 6 7 8 10 20 1 2 3 4 5 6 7 8 10 20 1 2 3 4 5 6 7 8 10 20 1 2 3 4 5 6 7 8 10 20 1 2 3 4 5 6 7 8 10 20 1 2 3 4 5 6 7 8 10 20 1 2 3 4 5 6 7 8 10 20 1 2 3 4 5 6 7 8 10 20 1 2 3 4 5 6 7 8 10 20 "
       ]
      },
      {
       "output_type": "stream",
       "stream": "stdout",
       "text": [
        "1 2 3 4 5 6 7 8 10 20 1 2 3 4 5 6 7 8 10 20 1 2 3 4 5 6 7 8 10 20 1 2 3 4 5 6 7 8 10 1 2 3 4 5 6 7 8 10 20 1 2 3 4 5 6 7 8 10 20 1 2 3 4 5 6 7 8 10 20 1 2 3 4 5 6 7 8 10 20 1 2 3 4 5 6 7 8 10 20 1 2 3 4 5 6 7 8 10 1 2 3 4 5 6 7 8 10 1 2 3 4 5 6 7 8 10 20 1 2 3 4 5 6 7 8 10 20 1 2 3 4 5 6 7 8 "
       ]
      },
      {
       "output_type": "stream",
       "stream": "stdout",
       "text": [
        "10 1 2 3 4 5 6 7 8 10 20 1 2 3 4 5 6 7 8 10 20 1 2 3 4 5 6 7 8 10 20 1 2 3 4 5 6 7 8 10 20 1 2 3 4 5 6 7 8 10 20 1 2 3 4 5 6 7 8 10 20 1 2 3 4 5 6 7 8 10 20 1 2 3 4 5 6 7 8 10 20 1 2 3 4 5 6 7 8 10 20 1 2 3 4 5 6 7 8 10 20 1 2 3 4 5 6 7 8 10 20 1 2 3 4 5 6 7 8 10 20 1 2 3 4 5 6 7 8 10 20 1 2 "
       ]
      },
      {
       "output_type": "stream",
       "stream": "stdout",
       "text": [
        "3 4 5 6 7 8 10 20 1 2 3 4 5 6 7 8 10 20 1 2 3 4 5 6 7 8 10 20 1 2 3 4 5 6 7 8 10 20 1 2 3 4 5 6 7 8 10 20 1 2 3 4 5 6 7 8 10 20 1 2 3 4 5 6 7 8 10 20 1 2 3 4 5 6 7 8 10 20 1 2 3 4 5 6 7 8 10 20 1 2 3 4 5 6 7 8 10 20 1 2 3 4 5 6 7 8 10 20 1 2 3 4 5 6 7 8 10 1 2 3 4 5 6 7 8 10 20 1 2 3 4 5 6 7 8 10 20 1 2 3 4 5 6 7 8 10 20 1 2 3 4 5 6 7 8 10 "
       ]
      },
      {
       "output_type": "stream",
       "stream": "stdout",
       "text": [
        "20 1 2 3 4 5 6 7 8 10 20 1 2 3 4 5 6 7 8 10 20 1 2 3 4 5 6 7 8 10 20 1 2 3 4 5 6 7 8 10 20 1 2 3 4 5 6 7 8 10 20 1 2 3 4 5 6 7 8 10 20 1 2 3 4 5 6 7 8 10 1 2 3 4 5 6 7 8 10 20 1 2 3 4 5 6 7 8 10 20 1 2 3 4 5 6 7 8 10 20 1 2 3 4 5 6 7 8 10 20 1 2 3 4 5 6 7 8 10 20 1 2 3 4 5 6 7 8 10 20 1 2 3 4 5 6 7 8 10 20 1 2 3 4 5 6 7 8 10 20 1 2 3 4 5 6 7 "
       ]
      },
      {
       "output_type": "stream",
       "stream": "stdout",
       "text": [
        "8 10 20 1 2 3 4 5 6 7 8 10 20 1 2 3 4 5 6 7 8 10 20 1 2 3 4 5 6 7 8 10 20 1 2 3 4 5 6 7 8 10 20 1 2 3 4 5 6 7 8 10 20 1 2 3 4 5 6 7 8 10 20 1 2 3 4 5 6 7 8 10 20 1 2 3 4 5 6 7 8 10 20 1 2 3 4 5 6 7 8 10 20 1 2 3 4 5 6 7 8 10 20 1 2 3 4 5 6 7 8 10 20 1 2 3 4 5 6 7 8 10 20 1 2 3 4 5 6 7 8 10 20 1 2 3 4 5 6 7 8 10 20 "
       ]
      },
      {
       "output_type": "stream",
       "stream": "stdout",
       "text": [
        "1 2 3 4 5 6 7 8 10 20 1 2 3 4 5 6 7 8 10 20 1 2 3 4 5 6 7 8 10 20 1 2 3 4 5 6 7 8 10 1 2 3 4 5 6 7 8 10 20 1 2 3 4 5 6 7 8 10 1 2 3 4 5 6 7 8 10 20 1 2 3 4 5 6 7 8 10 20 1 2 3 4 5 6 7 8 10 20 1 2 3 4 5 6 7 8 10 20 1 2 3 4 5 6 7 8 10 20 1 2 3 4 5 6 7 8 10 20 1 2 3 4 5 6 7 8 10 20 "
       ]
      },
      {
       "output_type": "stream",
       "stream": "stdout",
       "text": [
        "1 2 3 4 5 6 7 8 10 20 1 2 3 4 5 6 7 8 10 20 1 2 3 4 5 6 7 8 10 20 1 2 3 4 5 6 7 8 10 20 1 2 3 4 5 6 7 8 10 20 1 2 3 4 5 6 7 8 10 20 1 2 3 4 5 6 7 8 10 20 1 2 3 4 5 6 7 8 10 20 1 2 3 4 5 6 7 8 10 20 1 2 3 4 5 6 7 8 10 20 1 2 3 4 5 6 7 8 10 20 1 2 3 4 5 6 7 8 10 20 1 2 3 4 5 6 7 8 10 20 1 2 3 4 5 6 7 8 10 20 1 2 3 4 5 6 7 8 10 20 1 "
       ]
      },
      {
       "output_type": "stream",
       "stream": "stdout",
       "text": [
        "2 3 4 5 6 7 8 10 20 1 2 3 4 5 6 7 8 10 20 1 2 3 4 5 6 7 8 10 20 1 2 3 4 5 6 7 8 10 20 1 2 3 4 5 6 7 8 10 1 2 3 4 5 6 7 8 10 20 1 2 3 4 5 6 7 8 10 20 1 2 3 4 5 6 7 8 10 20 1 2 3 4 5 6 7 8 10 20 1 2 3 4 5 6 7 8 10 20 1 2 3 4 5 6 7 8 10 20 1 2 3 4 5 6 7 8 10 20 1 2 3 4 5 6 7 8 10 20 1 2 3 4 5 6 7 8 10 20 "
       ]
      },
      {
       "output_type": "stream",
       "stream": "stdout",
       "text": [
        "1 2 3 4 5 6 7 8 10 20 1 2 3 4 5 6 7 8 10 20 1 2 3 4 5 6 7 8 10 1 2 3 4 5 6 7 8 10 20 1 2 3 4 5 6 7 8 10 20 1 2 3 4 5 6 7 8 10 20 1 2 3 4 5 6 7 8 10 20 1 2 3 4 5 6 7 8 10 20 1 2 3 4 5 6 7 8 10 20 1 2 3 4 5 6 7 8 10 20 1 2 3 4 5 6 7 8 10 20 1 2 3 4 5 6 7 8 10 20 1 2 3 4 5 6 7 8 10 20 1 2 3 4 5 6 7 8 10 20 1 2 3 4 5 6 7 8 "
       ]
      },
      {
       "output_type": "stream",
       "stream": "stdout",
       "text": [
        "10 20 1 2 3 4 5 6 7 8 10 20 1 2 3 4 5 6 7 8 10 20 1 2 3 4 5 6 7 8 10 20 1 2 3 4 5 6 7 8 10 20 1 2 3 4 5 6 7 8 10 20 1 2 3 4 5 6 7 8 10 20 1 2 3 4 5 6 7 8 10 20 1 2 3 4 5 6 7 8 10 20 1 2 3 4 5 6 7 8 10 20 1 2 3 4 5 6 7 8 10 20 1 2 3 4 5 6 7 8 10 20 1 2 3 4 5 6 7 8 10 20 1 2 3 4 5 6 7 8 10 "
       ]
      },
      {
       "output_type": "stream",
       "stream": "stdout",
       "text": [
        "1 2 3 4 5 6 7 8 10 20 1 2 3 4 5 6 7 8 10 20 1 2 3 4 5 6 7 8 10 20 1 2 3 4 5 6 7 8 10 20 1 2 3 4 5 6 7 8 10 20 1 2 3 4 5 6 7 8 10 20 1 2 3 4 5 6 7 8 10 20 1 2 3 4 5 6 7 8 10 20 1 2 3 4 5 6 7 8 10 1 2 3 4 5 6 7 8 10 20 1 2 3 4 5 6 7 8 10 20 1 2 3 4 5 6 7 8 10 20 1 2 3 4 5 6 7 8 10 20 1 2 3 4 5 6 7 8 10 20 1 2 3 4 5 6 "
       ]
      },
      {
       "output_type": "stream",
       "stream": "stdout",
       "text": [
        "7 8 10 20 1 2 3 4 5 6 7 8 10 1 2 3 4 5 6 7 8 10 1 2 3 4 5 6 7 8 10 20 1 2 3 4 5 6 7 8 10 20 1 2 3 4 5 6 7 8 10 1 2 3 4 5 6 7 8 10 20 1 2 3 4 5 6 7 8 10 20 1 2 3 4 5 6 7 8 10 20 1 2 3 4 5 6 7 8 10 20 1 2 3 4 5 6 7 8 10 20 1 2 3 4 5 6 7 8 10 20 1 2 3 4 5 6 7 8 10 20 1 2 3 4 5 6 7 8 10 "
       ]
      },
      {
       "output_type": "stream",
       "stream": "stdout",
       "text": [
        "20 1 2 3 4 5 6 7 8 10 20 1 2 3 4 5 6 7 8 10 20 1 2 3 4 5 6 7 8 10 1 2 3 4 5 6 7 8 10 20 1 2 3 4 5 6 7 8 10 20 1 2 3 4 5 6 7 8 10 20 1 2 3 4 5 6 7 8 10 20 1 2 3 4 5 6 7 8 10 20 1 2 3 4 5 6 7 8 10 20 1 2 3 4 5 6 7 8 10 20 1 2 3 4 5 6 7 8 10 20 1 2 3 4 5 6 7 8 10 20 1 2 3 4 5 6 7 8 10 20 1 2 3 4 5 6 7 8 10 20 1 2 3 4 5 6 7 8 10 20 "
       ]
      },
      {
       "output_type": "stream",
       "stream": "stdout",
       "text": [
        "1 2 3 4 5 6 7 8 10 20 1 2 3 4 5 6 7 8 10 20 1 2 3 4 5 6 7 8 10 20 1 2 3 4 5 6 7 8 10 20 1 2 3 4 5 6 7 8 10 20 1 2 3 4 5 6 7 8 10 20 1 2 3 4 5 6 7 8 10 20 1 2 3 4 5 6 7 8 10 20 1 2 3 4 5 6 7 8 10 20 1 2 3 4 5 6 7 8 10 20 1 2 3 4 5 6 "
       ]
      },
      {
       "output_type": "stream",
       "stream": "stdout",
       "text": [
        "7 8 10 20 1 2 3 4 5 6 7 8 10 20 1 2 3 4 5 6 7 8 10 20 1 2 3 4 5 6 7 8 10 20 1 2 3 4 5 6 7 8 10 20 1 2 3 4 5 6 7 8 10 20 1 2 3 4 5 6 7 8 10 20 1 2 3 4 5 6 7 8 10 20 1 2 3 4 5 6 7 8 10 20 1 2 3 4 5 6 7 8 10 20 1 2 3 4 5 6 7 8 10 20 1 2 3 4 5 6 7 8 10 20 1 2 3 "
       ]
      },
      {
       "output_type": "stream",
       "stream": "stdout",
       "text": [
        "4 5 6 7 8 10 20 1 2 3 4 5 6 7 8 10 20 1 2 3 4 5 6 7 8 10 20 1 2 3 4 5 6 7 8 10 20 1 2 3 4 5 6 7 8 10 20 1 2 3 4 5 6 7 8 10 20 1 2 3 4 5 6 7 8 10 20 1 2 3 4 5 6 7 8 10 20 1 2 3 4 5 6 7 8 10 20 1 2 3 4 5 6 7 8 10 20 1 2 3 4 5 6 7 8 10 20 1 2 3 4 5 6 7 8 10 20 1 2 3 4 5 6 7 8 10 20 1 2 3 4 5 6 7 8 10 20 1 2 3 4 5 6 7 8 10 1 2 3 4 5 6 7 8 "
       ]
      },
      {
       "output_type": "stream",
       "stream": "stdout",
       "text": [
        "10 20 1 2 3 4 5 6 7 8 10 20 1 2 3 4 5 6 7 8 10 20 1 2 3 4 5 6 7 8 10 20 1 2 3 4 5 6 7 8 10 20 1 2 3 4 5 6 7 8 10 20 1 2 3 4 5 6 7 8 10 20 1 2 3 4 5 6 7 8 10 20 1 2 3 4 5 6 7 8 10 20 1 2 3 4 5 6 7 8 10 20 1 2 3 4 5 6 7 8 10 20 1 2 3 4 5 6 7 8 10 20 1 2 3 4 5 6 7 8 10 20 1 2 3 4 5 6 7 8 10 "
       ]
      },
      {
       "output_type": "stream",
       "stream": "stdout",
       "text": [
        "20 1 2 3 4 5 6 7 8 10 20 1 2 3 4 5 6 7 8 10 20 1 2 3 4 5 6 7 8 10 20 1 2 3 4 5 6 7 8 10 20 1 2 3 4 5 6 7 8 10 20 1 2 3 4 5 6 7 8 10 20 1 2 3 4 5 6 7 8 10 20 1 2 3 4 5 6 7 8 10 20 1 2 3 4 5 6 7 8 10 20 1 2 3 4 5 6 7 8 10 20 1 2 3 4 5 6 7 8 10 20 1 2 3 4 5 6 7 8 10 20 1 2 3 4 5 6 7 8 10 20 1 2 3 4 5 6 7 8 10 "
       ]
      },
      {
       "output_type": "stream",
       "stream": "stdout",
       "text": [
        "20 1 2 3 4 5 6 7 8 10 20 1 2 3 4 5 6 7 8 10 20 1 2 3 4 5 6 7 8 10 20 1 2 3 4 5 6 7 8 10 20 1 2 3 4 5 6 7 8 10 20 1 2 3 4 5 6 7 8 10 1 2 3 4 5 6 7 8 10 1 2 3 4 5 6 7 8 10 20 1 2 3 4 5 6 7 8 10 20 1 2 3 4 5 6 7 8 10 20 1 2 3 4 5 6 7 8 10 20 1 2 3 4 5 6 7 8 10 20 1 2 3 4 5 6 7 8 10 20 1 2 3 4 5 6 7 8 10 20 "
       ]
      },
      {
       "output_type": "stream",
       "stream": "stdout",
       "text": [
        "1 2 3 4 5 6 7 8 10 1 2 3 4 5 6 7 8 10 20 1 2 3 4 5 6 7 8 10 20 1 2 3 4 5 6 7 8 10 20 1 2 3 4 5 6 7 8 10 20 1 2 3 4 5 6 7 8 10 20 1 2 3 4 5 6 7 8 10 20 1 2 3 4 5 6 7 8 10 20 1 2 3 4 5 6 7 8 10 20 1 2 3 4 5 6 7 8 10 20 1 2 3 4 5 6 7 8 10 20 1 2 3 4 5 6 7 8 10 20 1 2 3 4 5 6 7 8 10 20 1 2 3 4 5 6 7 8 10 20\n"
       ]
      }
     ],
     "prompt_number": 34
    },
    {
     "cell_type": "heading",
     "level": 6,
     "metadata": {},
     "source": [
      "Spatial PSF read"
     ]
    },
    {
     "cell_type": "code",
     "collapsed": false,
     "input": [
      "baseDir = '/Users/Carlos/Documents/HERMES/reductions/PSF/spatial/'\n",
      "os.chdir(baseDir)"
     ],
     "language": "python",
     "metadata": {},
     "outputs": []
    },
    {
     "cell_type": "code",
     "collapsed": false,
     "input": [
      "nColumns = 10\n",
      "Width = 4000\n",
      "columns = range(0, Width,Width/nColumns)"
     ],
     "language": "python",
     "metadata": {},
     "outputs": []
    },
    {
     "cell_type": "code",
     "collapsed": false,
     "input": [
      "# a.open_files()"
     ],
     "language": "python",
     "metadata": {},
     "outputs": []
    },
    {
     "cell_type": "code",
     "collapsed": false,
     "input": [
      "a.read_full_image_spatial('gaussian',[10])"
     ],
     "language": "python",
     "metadata": {},
     "outputs": []
    },
    {
     "cell_type": "code",
     "collapsed": false,
     "input": [
      "#bias subtract using the last 40 columns(overscan region)\n",
      "# a.scienceIm_b = a.bias_subtract_from_overscan(a.scienceIm, range(-45,-5))"
     ],
     "language": "python",
     "metadata": {},
     "outputs": []
    },
    {
     "cell_type": "code",
     "collapsed": false,
     "input": [
      "# plt.plot(np.sum(a.flatIm,0))\n",
      "plt.plot(np.sum(a.flatIm,1))\n",
      "plt.plot(a.flatIm[:,1000])\n",
      "plt.show()"
     ],
     "language": "python",
     "metadata": {},
     "outputs": []
    },
    {
     "cell_type": "code",
     "collapsed": false,
     "input": [
      "a.profile = 'voigt'\n",
      "sigmaV = np.zeros(a.imWidth)\n",
      "gammaV = np.zeros(a.imWidth)"
     ],
     "language": "python",
     "metadata": {},
     "outputs": []
    },
    {
     "cell_type": "code",
     "collapsed": false,
     "input": [
      "type(a)"
     ],
     "language": "python",
     "metadata": {},
     "outputs": [
      {
       "metadata": {},
       "output_type": "pyout",
       "prompt_number": 12,
       "text": [
        "numpy.ndarray"
       ]
      }
     ],
     "prompt_number": 12
    },
    {
     "cell_type": "code",
     "collapsed": false,
     "input": [
      "a.fit_10f(a.scienceIm_b[:,10])"
     ],
     "language": "python",
     "metadata": {},
     "outputs": []
    },
    {
     "cell_type": "code",
     "collapsed": false,
     "input": [
      "for i in range(0,a.imWidth,100):\n",
      "    sigmaV[i], gammaV[i] = a.fit_10f(a.scienceIm_b[:,i])\n",
      "    print i,"
     ],
     "language": "python",
     "metadata": {},
     "outputs": []
    },
    {
     "cell_type": "code",
     "collapsed": false,
     "input": [
      "a.profile = 'gaussian'\n",
      "sigmaG = np.zeros(a.imWidth+5)\n",
      "gammaG = np.zeros(a.imWidth+5)"
     ],
     "language": "python",
     "metadata": {},
     "outputs": []
    },
    {
     "cell_type": "code",
     "collapsed": false,
     "input": [
      "a.fit_10f(a.scienceIm_b[:,10])"
     ],
     "language": "python",
     "metadata": {},
     "outputs": []
    },
    {
     "cell_type": "code",
     "collapsed": false,
     "input": [
      "for i in range(0,a.imWidth,100):\n",
      "    sigmaG[i+5], gammaG[i+5] = a.fit_10f(a.scienceIm_b[:,i])\n",
      "    print i,"
     ],
     "language": "python",
     "metadata": {},
     "outputs": []
    },
    {
     "cell_type": "code",
     "collapsed": false,
     "input": [
      "plt.plot(sigmaV)\n",
      "plt.plot(sigmaG)\n",
      "plt.show()"
     ],
     "language": "python",
     "metadata": {},
     "outputs": []
    },
    {
     "cell_type": "code",
     "collapsed": false,
     "input": [
      "a.profile = 'gaussian'\n",
      "a.base_dir = '/Users/Carlos/Documents/HERMES/reductions/resolution_gayandhi/'\n",
      "a.out_dir = a.base_dir + 'output'\n",
      "a.flatFile = a.base_dir + '10nov10044.fits'\n",
      "a.nFibres = 400"
     ],
     "language": "python",
     "metadata": {},
     "outputs": []
    },
    {
     "cell_type": "code",
     "collapsed": false,
     "input": [
      "a.open_files()\n",
      "a.bias_subtract()"
     ],
     "language": "python",
     "metadata": {},
     "outputs": []
    },
    {
     "cell_type": "code",
     "collapsed": false,
     "input": [
      "import HERMES\n",
      "import numpy as np\n",
      "\n",
      "psf = HERMES.PSF()\n",
      "\n",
      "psf.base_dir = '/Users/Carlos/Documents/HERMES/reductions/resolution_gayandhi/'\n",
      "psf.out_dir = psf.base_dir + 'output/'\n",
      "# dataFile = open(psf.out_dir + 'spatialG1.txt','r')"
     ],
     "language": "python",
     "metadata": {},
     "outputs": []
    },
    {
     "cell_type": "code",
     "collapsed": false,
     "input": [
      "a = np.loadtxt( 'spectralG1.txt', skiprows=1, delimiter = ',' , usecols=[0,1,2,3,4,5]).transpose()"
     ],
     "language": "python",
     "metadata": {},
     "outputs": []
    },
    {
     "cell_type": "code",
     "collapsed": false,
     "input": [
      "import matplotlib\n",
      "import matplotlib.cm as cm\n",
      "import matplotlib.mlab as mlab\n",
      "import matplotlib.pyplot as plt\n",
      "\n",
      "matplotlib.rcParams['xtick.direction'] = 'out'\n",
      "matplotlib.rcParams['ytick.direction'] = 'out'\n",
      "\n",
      "X, Y = np.meshgrid(np.unique(a[1]), np.unique(a[0]))\n",
      "Z = a[3].reshape(X.shape[1],X.shape[0])\n",
      "Z = Z.transpose()"
     ],
     "language": "python",
     "metadata": {},
     "outputs": []
    },
    {
     "cell_type": "code",
     "collapsed": false,
     "input": [
      "# Create a simple contour plot with labels using default colors.  The\n",
      "# inline argument to clabel will control whether the labels are draw\n",
      "# over the line segments of the contour, removing the lines beneath\n",
      "# the label\n",
      "plt.figure()\n",
      "CS = plt.contour(X, Y, Z)\n",
      "plt.clabel(CS, inline=1, fontsize=10)\n",
      "plt.title('Simplest default with labels')\n",
      "plt.show()"
     ],
     "language": "python",
     "metadata": {},
     "outputs": []
    },
    {
     "cell_type": "code",
     "collapsed": false,
     "input": [
      "# contour labels can be placed manually by providing list of positions\n",
      "# (in data coordinate). See ginput_manual_clabel.py for interactive\n",
      "# placement.\n",
      "plt.figure()\n",
      "CS = plt.contour(X, Y, Z)\n",
      "# manual_locations = [(-1, -1.4), (-0.62, -0.7), (-2, 0.5), (1.7, 1.2), (2.0, 1.4), (2.4, 1.7)]\n",
      "# plt.clabel(CS, inline=1, fontsize=10, manual=manual_locations)\n",
      "plt.title('labels at selected locations')\n",
      "plt.show()"
     ],
     "language": "python",
     "metadata": {},
     "outputs": []
    },
    {
     "cell_type": "code",
     "collapsed": false,
     "input": [
      "import matplotlib\n",
      "import matplotlib.cm as cm\n",
      "import matplotlib.mlab as mlab\n",
      "import matplotlib.pyplot as plt\n",
      "import pyfits as pf\n",
      "import math\n",
      "\n",
      "#     from scipy.interpolate import interp1d\n",
      "#     from scipy.interpolate import interp2d\n",
      "#     import pyfits as pf\n",
      "\n",
      "cameraName = 'Blue Camera'\n",
      "    \n",
      "\n",
      "#         self.base_dir = '/Users/Carlos/Documents/HERMES/reductions/resolution_gayandhi/'\n",
      "dataFile = 'spectralG1.txt'\n",
      "\n",
      "data = np.loadtxt(dataFile, skiprows=1, delimiter = ',' , usecols=[0,1,2,3,4,5])\n",
      "\n",
      "hdulist = pf.open(a.arcFile)\n",
      "imWidth = hdulist[0].header['NAXIS1']\n",
      "imHeight = hdulist[0].header['NAXIS2']\n",
      "\n",
      "#         Lambda = RVS.extract_HERMES_wavelength(referenceFile)\n",
      "\n",
      "matplotlib.rcParams['xtick.direction'] = 'out'\n",
      "matplotlib.rcParams['ytick.direction'] = 'out'\n",
      "\n",
      "#         X, Y = np.meshgrid(a[:,1], a[:,0])\n",
      "#         X, Y = np.meshgrid(range(imHeight),range(imWidth))\n",
      "#         Z = a[3].reshape(X.shape[1],X.shape[0])\n",
      "#         Z = Z.transpose()\n",
      "Z = np.zeros((imHeight,imWidth))\n",
      "for r,c,z in zip(data[:,1].astype(int),data[:,0].astype(int), data[:,3]):\n",
      "    Z[r,c] = z\n",
      "mean = np.mean(Z)\n",
      "print mean\n",
      "Z[Z==0]=mean\n",
      "#         Z = np.diagflat(a[:,3])\n",
      "#         Z[Z<0.5] = np.average(Z)\n",
      "#         Z[Z>4] = np.average(Z)\n",
      "\n",
      "Z = 2 * np.sqrt(2*math.log(2)) * Z\n",
      "\n",
      "# Or you can use a colormap to specify the colors; the default\n",
      "# colormap will be used for the contour lines\n",
      "# plt.figure()\n",
      "# im = plt.imshow(Z, interpolation='nearest', origin='lower',\n",
      "#                 cmap=cm.jet)#, extent=(0,400,1,400))\n",
      "#         plt.xticks(range(40), Lambda.astype(int)[::len(Lambda)/40], size='small')\n",
      "#         plt.xticks(range(0,400,100),Lambda.astype(int)[::len(Lambda)/100])\n",
      "levels = np.arange(-0.5, 2., 1.)\n",
      "CS = plt.contour(Z, levels,\n",
      "                 origin='lower',\n",
      "                 cmap=cm.jet, \n",
      "                 linewidths=5)#,\n",
      "                 #extent=(0,400,1,400))\n",
      "\n",
      "#Thicken the zero contour.\n",
      "#         zc = CS.collections[6]\n",
      "#         plt.setp(zc, linewidth=4)\n",
      " \n",
      "# plt.clabel(CS, levels,  # levels[1::2]  to label every second level\n",
      "#            inline=0,\n",
      "#            fmt='%1.2f',\n",
      "#            fontsize=12)\n",
      "\n",
      "# make a colorbar for the contour lines\n",
      "CB = plt.colorbar(CS, shrink=0.8, extend='both')\n",
      "\n",
      "plt.title('Spectral FWHM - ' + cameraName)\n",
      "plt.gray()  # Now change the colormap for the contour lines and colorbar\n",
      "#         plt.flag()\n",
      "\n",
      "# We can still add a colorbar for the image, too.\n",
      "# CBI = plt.colorbar(im, orientation='vertical', shrink=1)\n",
      "\n",
      "# This makes the original colorbar look a bit out of place,\n",
      "# so let's improve its position.\n",
      "\n",
      "l,b,w,h = plt.gca().get_position().bounds\n",
      "ll,bb,ww,hh = CB.ax.get_position().bounds\n",
      "CB.ax.set_position([ll, b+0.1*h, ww, h*0.8])\n",
      "plt.xlabel('Pixel')\n",
      "plt.ylabel('Pixel')\n",
      "\n",
      "plt.show()\n"
     ],
     "language": "python",
     "metadata": {},
     "outputs": [],
     "prompt_number": "*"
    },
    {
     "cell_type": "code",
     "collapsed": false,
     "input": [
      "import scipy\n"
     ],
     "language": "python",
     "metadata": {},
     "outputs": [],
     "prompt_number": 41
    },
    {
     "cell_type": "code",
     "collapsed": false,
     "input": [
      "b = scipy.interpolate.SmoothBivariateSpline(Z[:,0],Z[:,1],Z[:,3])"
     ],
     "language": "python",
     "metadata": {},
     "outputs": [
      {
       "output_type": "stream",
       "stream": "stdout",
       "text": [
        "ier=288\n"
       ]
      }
     ],
     "prompt_number": 51
    },
    {
     "cell_type": "code",
     "collapsed": false,
     "input": [
      "np.isnan(b.ev(range(4000),range(4000)))"
     ],
     "language": "python",
     "metadata": {},
     "outputs": [
      {
       "metadata": {},
       "output_type": "pyout",
       "prompt_number": 59,
       "text": [
        "array([ True,  True,  True, ...,  True,  True,  True], dtype=bool)"
       ]
      }
     ],
     "prompt_number": 59
    },
    {
     "cell_type": "code",
     "collapsed": false,
     "input": [
      "import matplotlib\n",
      "import matplotlib.cm as cm\n",
      "import matplotlib.mlab as mlab\n",
      "import matplotlib.pyplot as plt\n",
      "\n",
      "matplotlib.rcParams['xtick.direction'] = 'out'\n",
      "matplotlib.rcParams['ytick.direction'] = 'out'\n",
      "\n",
      "# delta = 0.025\n",
      "# x = np.arange(-3.0, 3.0, delta)\n",
      "# y = np.arange(-2.0, 2.0, delta)\n",
      "# X, Y = np.meshgrid(x, y)\n",
      "# Z1 = mlab.bivariate_normal(X, Y, 1.0, 1.0, 0.0, 0.0)\n",
      "# Z2 = mlab.bivariate_normal(X, Y, 1.5, 0.5, 1, 1)\n",
      "# # difference of Gaussians\n",
      "# Z = 10.0 * (Z2 - Z1)\n",
      "\n",
      "# # Create a simple contour plot with labels using default colors.  The\n",
      "# # inline argument to clabel will control whether the labels are draw\n",
      "# # over the line segments of the contour, removing the lines beneath\n",
      "# # the label\n",
      "# plt.figure()\n",
      "# CS = plt.contour(X, Y, Z)\n",
      "# plt.clabel(CS, inline=1, fontsize=10)\n",
      "# plt.title('Simplest default with labels')\n",
      "\n",
      "\n",
      "# # contour labels can be placed manually by providing list of positions\n",
      "# # (in data coordinate). See ginput_manual_clabel.py for interactive\n",
      "# # placement.\n",
      "# plt.figure()\n",
      "# CS = plt.contour(X, Y, Z)\n",
      "# manual_locations = [(-1, -1.4), (-0.62, -0.7), (-2, 0.5), (1.7, 1.2), (2.0, 1.4), (2.4, 1.7)]\n",
      "# plt.clabel(CS, inline=10, fontsize=10, manual=manual_locations)\n",
      "# plt.title('labels at selected locations')\n",
      "\n",
      "\n",
      "# # You can force all the contours to be the same color.\n",
      "# plt.figure()\n",
      "# CS = plt.contour(X, Y, Z, 6,\n",
      "#                  colors='k', # negative contours will be dashed by default\n",
      "#                  )\n",
      "# plt.clabel(CS, fontsize=9, inline=1)\n",
      "# plt.title('Single color - negative contours dashed')\n",
      "\n",
      "# # You can set negative contours to be solid instead of dashed:\n",
      "# matplotlib.rcParams['contour.negative_linestyle'] = 'solid'\n",
      "# plt.figure()\n",
      "# CS = plt.contour(X, Y, Z, 6,\n",
      "#                  colors='k', # negative contours will be dashed by default\n",
      "#                  )\n",
      "# plt.clabel(CS, fontsize=9, inline=1)\n",
      "# plt.title('Single color - negative contours solid')\n",
      "\n",
      "\n",
      "# # And you can manually specify the colors of the contour\n",
      "# plt.figure()\n",
      "# CS = plt.contour(X, Y, Z, 6,\n",
      "#                  linewidths=np.arange(.5, 4, .5),\n",
      "#                  colors=('r', 'green', 'blue', (1,1,0), '#afeeee', '0.5')\n",
      "#                  )\n",
      "# plt.clabel(CS, fontsize=9, inline=1)\n",
      "# plt.title('Crazy lines')\n",
      "\n",
      "\n",
      "# Or you can use a colormap to specify the colors; the default\n",
      "# colormap will be used for the contour lines\n",
      "plt.figure()\n",
      "# im = plt.imshow(Z, interpolation='nearest', origin='lower',\n",
      "#                 cmap=cm.jet, extent=(0,400,0,400))\n",
      "levels = np.arange(0, 2.2, 0.1)\n",
      "CS = plt.contour(Z, levels,\n",
      "                 origin='lower',\n",
      "                 cmap=cm.jet, \n",
      "                 linewidths=2,\n",
      "                 extent=(0,400,0,400))\n",
      "\n",
      "#Thicken the zero contour.\n",
      "zc = CS.collections[6]\n",
      "plt.setp(zc, linewidth=4)\n",
      "\n",
      "plt.clabel(CS, levels[1::2],  # label every second level\n",
      "           inline=1,\n",
      "           fmt='%1.1f',\n",
      "           fontsize=14)\n",
      "\n",
      "# make a colorbar for the contour lines\n",
      "CB = plt.colorbar(CS, shrink=0.8, extend='both')\n",
      "\n",
      "plt.title('Lines with colorbar')\n",
      "#plt.hot()  # Now change the colormap for the contour lines and colorbar\n",
      "plt.flag()\n",
      "\n",
      "# We can still add a colorbar for the image, too.\n",
      "CBI = plt.colorbar(im, orientation='horizontal', shrink=0.8)\n",
      "\n",
      "# This makes the original colorbar look a bit out of place,\n",
      "# so let's improve its position.\n",
      "\n",
      "l,b,w,h = plt.gca().get_position().bounds\n",
      "ll,bb,ww,hh = CB.ax.get_position().bounds\n",
      "CB.ax.set_position([ll, b+0.1*h, ww, h*0.8])\n",
      "\n",
      "\n",
      "plt.show()"
     ],
     "language": "python",
     "metadata": {},
     "outputs": [
      {
       "ename": "NameError",
       "evalue": "name 'np' is not defined",
       "output_type": "pyerr",
       "traceback": [
        "\u001b[0;31m---------------------------------------------------------------------------\u001b[0m\n\u001b[0;31mNameError\u001b[0m                                 Traceback (most recent call last)",
        "\u001b[0;32m<ipython-input-1-c19c8212437e>\u001b[0m in \u001b[0;36m<module>\u001b[0;34m()\u001b[0m\n\u001b[1;32m     69\u001b[0m \u001b[0;31m# im = plt.imshow(Z, interpolation='nearest', origin='lower',\u001b[0m\u001b[0;34m\u001b[0m\u001b[0;34m\u001b[0m\u001b[0m\n\u001b[1;32m     70\u001b[0m \u001b[0;31m#                 cmap=cm.jet, extent=(0,400,0,400))\u001b[0m\u001b[0;34m\u001b[0m\u001b[0;34m\u001b[0m\u001b[0m\n\u001b[0;32m---> 71\u001b[0;31m \u001b[0mlevels\u001b[0m \u001b[0;34m=\u001b[0m \u001b[0mnp\u001b[0m\u001b[0;34m.\u001b[0m\u001b[0marange\u001b[0m\u001b[0;34m(\u001b[0m\u001b[0;36m0\u001b[0m\u001b[0;34m,\u001b[0m \u001b[0;36m2.2\u001b[0m\u001b[0;34m,\u001b[0m \u001b[0;36m0.1\u001b[0m\u001b[0;34m)\u001b[0m\u001b[0;34m\u001b[0m\u001b[0m\n\u001b[0m\u001b[1;32m     72\u001b[0m CS = plt.contour(Z, levels,\n\u001b[1;32m     73\u001b[0m                  \u001b[0morigin\u001b[0m\u001b[0;34m=\u001b[0m\u001b[0;34m'lower'\u001b[0m\u001b[0;34m,\u001b[0m\u001b[0;34m\u001b[0m\u001b[0m\n",
        "\u001b[0;31mNameError\u001b[0m: name 'np' is not defined"
       ]
      }
     ],
     "prompt_number": 1
    },
    {
     "cell_type": "code",
     "collapsed": false,
     "input": [
      "a = np.zeros((40,40))*np.nan"
     ],
     "language": "python",
     "metadata": {},
     "outputs": []
    },
    {
     "cell_type": "code",
     "collapsed": false,
     "input": [
      "a[1,1]=1"
     ],
     "language": "python",
     "metadata": {},
     "outputs": []
    },
    {
     "cell_type": "code",
     "collapsed": false,
     "input": [
      "a[20,30]=1"
     ],
     "language": "python",
     "metadata": {},
     "outputs": []
    },
    {
     "cell_type": "code",
     "collapsed": false,
     "input": [
      "Z"
     ],
     "language": "python",
     "metadata": {},
     "outputs": []
    },
    {
     "cell_type": "code",
     "collapsed": false,
     "input": [
      "plt.imshow(a, interpolation='quadric')\n",
      "plt.show()\n",
      "plt.imshow(a, interpolation='catrom')\n",
      "plt.show()\n",
      "plt.imshow(a, interpolation='gaussian')\n",
      "plt.show()\n",
      "plt.imshow(a, interpolation='bessel')\n",
      "plt.show()\n",
      "plt.imshow(a, interpolation='mitchell')\n",
      "plt.show()\n",
      "plt.imshow(a, interpolation='sinc')\n",
      "plt.show()\n",
      "plt.imshow(a, interpolation='lanczos')\n",
      "plt.show()\n",
      "plt.imshow(a, interpolation='kaiser')\n",
      "plt.show()\n"
     ],
     "language": "python",
     "metadata": {},
     "outputs": []
    },
    {
     "cell_type": "code",
     "collapsed": false,
     "input": [],
     "language": "python",
     "metadata": {},
     "outputs": []
    }
   ],
   "metadata": {}
  }
 ]
}