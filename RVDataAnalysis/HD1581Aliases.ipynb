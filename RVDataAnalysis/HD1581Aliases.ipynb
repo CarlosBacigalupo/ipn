{
 "metadata": {
  "name": "",
  "signature": "sha256:ae8a8d40a58269b1ef8972dc78c848a1a375ede84645e1606d43ad2ce92c25fa"
 },
 "nbformat": 3,
 "nbformat_minor": 0,
 "worksheets": [
  {
   "cells": [
    {
     "cell_type": "code",
     "collapsed": false,
     "input": [
      "from astropy.io import ascii\n",
      "import numpy as np\n",
      "import pandas as pd\n",
      "from astropy import table"
     ],
     "language": "python",
     "metadata": {},
     "outputs": [],
     "prompt_number": 1
    },
    {
     "cell_type": "heading",
     "level": 3,
     "metadata": {},
     "source": [
      "Create unique alias table"
     ]
    },
    {
     "cell_type": "code",
     "collapsed": false,
     "input": [
      "cd ~/Documents/HERMES/reductions/6.5/HD1581/\n"
     ],
     "language": "python",
     "metadata": {},
     "outputs": [
      {
       "output_type": "stream",
       "stream": "stdout",
       "text": [
        "/Users/Carlos/Documents/HERMES/reductions/6.5/HD1581\n"
       ]
      }
     ],
     "prompt_number": 2
    },
    {
     "cell_type": "code",
     "collapsed": false,
     "input": [
      "starAlias = np.load('starAlias.npy')"
     ],
     "language": "python",
     "metadata": {},
     "outputs": [],
     "prompt_number": 9
    },
    {
     "cell_type": "code",
     "collapsed": false,
     "input": [
      "starAlias = np.core.defchararray.replace(starAlias,'#','')"
     ],
     "language": "python",
     "metadata": {},
     "outputs": [],
     "prompt_number": 11
    },
    {
     "cell_type": "code",
     "collapsed": false,
     "input": [
      "starAliasUnique = []\n",
      "\n",
      "maxLen = 0 \n",
      "for i,thisStar in enumerate(np.unique(starAlias[:,0])):\n",
      "    \n",
      "    x = starAlias[np.where(thisStar==starAlias)[0],1]\n",
      "    thisStarAliases = \", \".join(x)\n",
      "    starAliasUnique.append([thisStar,thisStarAliases])\n",
      "    \n",
      "    #Get max len of alias column\n",
      "    if len(thisStarAliases)>maxLen: maxLen =len(thisStarAliases)\n",
      "\n",
      "\n",
      "print maxLen, 'is the length of the longest column'\n",
      "starAliasUnique = np.array(starAliasUnique)\n"
     ],
     "language": "python",
     "metadata": {},
     "outputs": [
      {
       "output_type": "stream",
       "stream": "stdout",
       "text": [
        "522 is the length of the longest column\n"
       ]
      }
     ],
     "prompt_number": 12
    },
    {
     "cell_type": "code",
     "collapsed": false,
     "input": [
      "labels = ['Name','Alias']\n",
      "a = pd.DataFrame(starAliasUnique, dtype=str)\n",
      "a.columns = labels\n",
      "pd.set_printoptions(max_colwidth=maxLen)\n",
      "print a.to_latex(index=False)"
     ],
     "language": "python",
     "metadata": {},
     "outputs": [
      {
       "output_type": "stream",
       "stream": "stdout",
       "text": [
        "\\begin{tabular}{ll}\n",
        "\\toprule\n",
        "   Name &                                                                                                                                                                                                                                                                                                                                                                                                                                                                                                                                      Alias \\\\\n",
        "\\midrule\n",
        " HD1581 &  PLX   54, * zet Tuc, CPC 21    53, CPD-65    13, Ci 20   22, FK5   10, GC   401, GCRV   185, GEN +1.00001581, GJ    17, HD   1581, HIC   1599, HIP   1599, HR    77, JP11   371, LFT   36, LHS     5, LPM  16, LTT   167, N30   57, NLTT  1045, PM 00175-6510, PPM 351761, ROT    82, SAO 248163, SKY   585, SPOCS   14, TD1   161, UBV     236, UBV M   7307, Zkh   8, uvby98 100001581, 2MASS J00200446-6452282, PLX   54.00, TYC 8843-1706-1, IRAS 00176-6509, AKARI-IRC-V1 J0020061-645221, WISE J002006.98-645216.9, IRAS F00176-... \\\\\n",
        "\\bottomrule\n",
        "\\end{tabular}\n",
        "\n"
       ]
      }
     ],
     "prompt_number": 15
    }
   ],
   "metadata": {}
  }
 ]
}