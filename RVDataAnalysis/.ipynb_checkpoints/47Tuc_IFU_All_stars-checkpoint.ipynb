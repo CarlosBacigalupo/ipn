{
 "cells": [
  {
   "cell_type": "code",
   "execution_count": 3,
   "metadata": {
    "collapsed": false
   },
   "outputs": [],
   "source": [
    "import glob\n",
    "import pickle\n",
    "import numpy as np\n",
    "import pandas as pd\n",
    "from astropy.coordinates import SkyCoord\n",
    "import astropy.units as u"
   ]
  },
  {
   "cell_type": "code",
   "execution_count": 4,
   "metadata": {
    "collapsed": true
   },
   "outputs": [],
   "source": [
    "def f1(x):\n",
    "    return '%5.2f' % x"
   ]
  },
  {
   "cell_type": "code",
   "execution_count": 5,
   "metadata": {
    "collapsed": false
   },
   "outputs": [
    {
     "name": "stdout",
     "output_type": "stream",
     "text": [
      "/Users/Carlos/Documents/HERMES/reductions/6.5/rhoTuc/obj\n"
     ]
    }
   ],
   "source": [
    "cd /Users/Carlos/Documents/HERMES/reductions/6.5/rhoTuc/obj/"
   ]
  },
  {
   "cell_type": "code",
   "execution_count": 8,
   "metadata": {
    "collapsed": false
   },
   "outputs": [
    {
     "data": {
      "text/plain": [
       "'0'"
      ]
     },
     "execution_count": 8,
     "metadata": {},
     "output_type": "execute_result"
    }
   ],
   "source": [
    "filehandler = open('Field01.obj', 'r')\n",
    "thisStar = pickle.load(filehandler)\n",
    "thisCamera= thisStar.exposures.cameras[0]\n",
    "thisCamera.fileNames\n",
    "thisStar.exposures.plates[10][-1]\n",
    "# print np.vstack((thisStar.exposures.pivots,np.nansum(thisCamera.red_fluxes,axis=1))).transpose()\n",
    "# print thisStar.exposures.p"
   ]
  },
  {
   "cell_type": "code",
   "execution_count": 9,
   "metadata": {
    "collapsed": true
   },
   "outputs": [],
   "source": [
    "\n",
    "outFileNames = np.load('/Users/Carlos/Documents/ipn/npy/outFileNames.npy')\n",
    "# outObjects = np.load('npy/outObjects.npy')\n",
    "# outPlates = np.load('npy/outPlates.npy')\n",
    "outMJD_Exp = np.load('/Users/Carlos/Documents/ipn/npy/outMJD_Exp.npy')\n",
    "\n",
    "# outFileNames = np.delete(outFileNames,86)\n",
    "# outObjects = np.delete(outObjects,86)\n",
    "# outPlates = np.delete(outPlates,86)\n",
    "# outMJD_Exp = np.delete(outMJD_Exp,86, axis = 0)\n",
    "\n",
    "ordIdx = np.argsort(outMJD_Exp[:,0])\n",
    "\n",
    "outFileNames = outFileNames[ordIdx]\n",
    "outMJD_Exp = outMJD_Exp[ordIdx]\n",
    "\n"
   ]
  },
  {
   "cell_type": "code",
   "execution_count": 10,
   "metadata": {
    "collapsed": false
   },
   "outputs": [
    {
     "name": "stdout",
     "output_type": "stream",
     "text": [
      "\\begin{tabular}{llllllll}\n",
      "\\toprule\n",
      " ID &     Name &  Vmag &      RA(hms) &      RA(dms) &        RA(deg) &      DEC(dms) &        DEC(deg) \\\\\n",
      "\\midrule\n",
      "  1 &  Field01 &  8.13 &  0h42m29.90s &  10d37m28.5s &  10.6245833333 &  -65d23m03.8s &  -65.3843888889 \\\\\n",
      "  2 &  Field02 &  6.58 &  0h42m41.30s &  10d40m19.5s &  10.6720833333 &  -65d36m30.8s &  -65.6085555556 \\\\\n",
      "  3 &  Field03 &  6.73 &  0h44m31.00s &    11d07m45s &  11.1291666667 &  -65d26m32.7s &  -65.4424166667 \\\\\n",
      "  4 &  Field04 &  8.34 &  0h42m36.50s &  10d39m07.5s &  10.6520833333 &  -65d12m33.1s &  -65.2091944444 \\\\\n",
      "  5 &  Field05 &  4.95 &  0h44m39.30s &  11d09m49.5s &       11.16375 &  -65d38m58.2s &        -65.6495 \\\\\n",
      "  6 &  Field07 &  8.27 &  0h43m22.80s &    10d50m42s &         10.845 &  -65d04m14.2s &  -65.0706111111 \\\\\n",
      "  7 &  Field08 &  6.78 &  0h40m50.30s &  10d12m34.5s &  10.2095833333 &  -65d51m26.7s &  -65.8574166667 \\\\\n",
      "  8 &  Field09 &  8.83 &  0h40m14.50s &  10d03m37.5s &  10.0604166667 &  -65d49m30.6s &  -65.8251666667 \\\\\n",
      "  9 &  Field10 &  7.68 &  0h43m30.50s &  10d52m37.5s &  10.8770833333 &  -65d03m14.8s &  -65.0541111111 \\\\\n",
      " 10 &  Field11 &  7.45 &  0h42m43.60s &    10d40m54s &  10.6816666667 &  -64d58m44.8s &  -64.9791111111 \\\\\n",
      " 11 &  Field13 &  8.91 &  0h36m58.00s &     9d14m30s &  9.24166666667 &  -65d11m49.6s &  -65.1971111111 \\\\\n",
      " 12 &  Field14 &   6.0 &  0h48m41.00s &    12d10m15s &  12.1708333333 &  -65d34m10.4s &  -65.5695555556 \\\\\n",
      " 13 &  Field15 &  5.48 &  0h43m16.70s &  10d49m10.5s &  10.8195833333 &  -64d49m10.1s &  -64.8194722222 \\\\\n",
      " 14 &  Field17 &  8.98 &  0h39m18.80s &     9d49m42s &  9.82833333333 &  -66d04m14.7s &       -66.07075 \\\\\n",
      " 15 &  Field18 &  8.99 &  0h45m 3.00s &    11d15m45s &        11.2625 &  -64d49m32.7s &       -64.82575 \\\\\n",
      " 16 &  Field19 &  5.92 &  0h38m 8.40s &     9d32m06s &          9.535 &  -66d02m34.2s &  -66.0428333333 \\\\\n",
      " 17 &  Field20 &  8.71 &  0h48m30.80s &    12d07m42s &  12.1283333333 &  -65d05m47.4s &        -65.0965 \\\\\n",
      " 18 &  Field21 &  8.24 &  0h36m 6.50s &   9d01m37.5s &  9.02708333333 &  -65d48m17.1s &       -65.80475 \\\\\n",
      " 19 &  Field22 &  8.74 &  0h49m22.90s &  12d20m43.5s &  12.3454166667 &  -65d40m13.9s &  -65.6705277778 \\\\\n",
      " 20 &  Field23 &  8.92 &  0h49m16.70s &  12d19m10.5s &  12.3195833333 &  -65d50m55.7s &  -65.8488055556 \\\\\n",
      " 21 &  Field24 &  8.37 &  0h38m52.80s &     9d43m12s &           9.72 &  -64d45m08.4s &  -64.7523333333 \\\\\n",
      " 22 &  Field25 &  8.63 &  0h36m35.20s &     9d08m48s &  9.14666666667 &  -64d55m37.6s &  -64.9271111111 \\\\\n",
      " 23 &  Field26 &  8.43 &  0h36m55.00s &     9d13m45s &  9.22916666667 &  -64d52m00.9s &  -64.8669166667 \\\\\n",
      " 24 &  Field27 &  7.58 &  0h49m27.90s &  12d21m58.5s &       12.36625 &  -65d00m16.3s &  -65.0045277778 \\\\\n",
      " 25 &  Field28 &  7.74 &  0h36m52.10s &   9d13m01.5s &  9.21708333333 &  -64d49m40.5s &  -64.8279166667 \\\\\n",
      " 26 &  Field29 &   5.4 &  0h36m22.60s &     9d05m39s &  9.09416666667 &  -64d46m45.2s &  -64.7792222222 \\\\\n",
      " 27 &  Field30 &   8.7 &  0h43m55.00s &    10d58m45s &  10.9791666667 &  -64d31m27.9s &  -64.5244166667 \\\\\n",
      " 28 &  Field31 &  8.18 &  0h41m42.40s &    10d25m36s &  10.4266666667 &    -64d30m30s &  -64.5083333333 \\\\\n",
      " 29 &  Field32 &  8.77 &  0h36m45.00s &     9d11m15s &         9.1875 &  -66d14m33.7s &  -66.2426944444 \\\\\n",
      " 30 &  Field33 &  8.98 &  0h51m34.50s &  12d53m37.5s &       12.89375 &  -65d14m35.9s &  -65.2433055556 \\\\\n",
      " 31 &  Field34 &  6.69 &  0h40m19.90s &  10d04m58.5s &  10.0829166667 &  -66d25m31.1s &  -66.4253055556 \\\\\n",
      " 32 &  Giant01 &  4.17 &  0h42m28.40s &    10d37m06s &  10.6183333333 &    -65d28m05s &  -65.4680555556 \\\\\n",
      " 33 &  Giant02 &  8.85 &  0h43m57.50s &  10d59m22.5s &  10.9895833333 &  -65d14m33.7s &  -65.2426944444 \\\\\n",
      " 34 &  Giant03 &  7.69 &  0h38m23.40s &     9d35m51s &         9.5975 &  -65d31m17.2s &  -65.5214444444 \\\\\n",
      " 35 &  Giant04 &  7.94 &  0h47m23.20s &    11d50m48s &  11.8466666667 &  -65d33m22.4s &  -65.5562222222 \\\\\n",
      " 36 &  Giant05 &  3.51 &  0h36m37.70s &   9d09m25.5s &  9.15708333333 &    -65d07m28s &  -65.1244444444 \\\\\n",
      " 37 &  Giant06 &  8.85 &  0h48m20.40s &    12d05m06s &         12.085 &  -65d06m49.1s &  -65.1136388889 \\\\\n",
      " 38 &  Giant07 &  8.19 &  0h39m15.80s &     9d48m57s &  9.81583333333 &  -66d09m32.9s &  -66.1591388889 \\\\\n",
      " 39 &  Giant08 &  8.11 &  0h50m 9.80s &    12d32m27s &  12.5408333333 &  -65d18m05.1s &  -65.3014166667 \\\\\n",
      " 40 &  Giant09 &  8.22 &  0h48m59.70s &  12d14m55.5s &       12.24875 &  -64d58m27.4s &  -64.9742777778 \\\\\n",
      " 41 &  Giant10 &  7.75 &  0h41m37.60s &    10d24m24s &  10.4066666667 &  -66d23m04.8s &  -66.3846666667 \\\\\n",
      " 42 &  Giant11 &  8.52 &  0h33m36.50s &   8d24m07.5s &  8.40208333333 &  -65d08m35.1s &  -65.1430833333 \\\\\n",
      " 43 &  Giant12 &  6.21 &  0h51m59.50s &  12d59m52.5s &  12.9979166667 &  -65d20m07.2s &  -65.3353333333 \\\\\n",
      "\\bottomrule\n",
      "\\end{tabular}\n",
      "\n"
     ]
    }
   ],
   "source": [
    "obsMatrix = np.ones((292, 99, 2, 4))*np.nan #stars, observations, [pivot, plate], cam\n",
    "\n",
    "objList = glob.glob('*.obj')\n",
    "\n",
    "outArray = []\n",
    "i = 0\n",
    "for thisObj in objList:\n",
    "    if 'red' not in thisObj:\n",
    "        filehandler = open(thisObj, 'r')\n",
    "        thisStar = pickle.load(filehandler)\n",
    "#         print thisStar.name\n",
    "        \n",
    "        gc = SkyCoord(ra=thisStar.RA*u.si.degree, dec=thisStar.Dec*u.si.degree)\n",
    "        name = thisStar.name\n",
    "        mag = thisStar.Vmag\n",
    "        RAhms = str(int(gc.ra.hms.h))+'h'+str(int(gc.ra.hms.m))+'m'+str(f1(gc.ra.hms.s))+'s'\n",
    "        RAdms = str(gc.ra)\n",
    "        RAdeg = str(gc.ra.deg)\n",
    "        DECdms = str(gc.dec)\n",
    "        DECdeg = str(gc.dec.deg)\n",
    "#         pivot = a[1].data['PIVOT'][i]\n",
    "        i += 1\n",
    "        ID = i\n",
    "        outArray.append((ID, name, mag, RAhms, RAdms, RAdeg, DECdms, DECdeg))\n",
    "        \n",
    "        for cam in range(4):\n",
    "#             print 'Camera',cam,\n",
    "            thisCam = thisStar.exposures.cameras[cam]\n",
    "\n",
    "            for exp in range(len(thisCam.fileNames)):\n",
    "                if np.nansum(thisCam.red_fluxes[exp])!=0:\n",
    "                    thisFileName = thisStar.exposures.cameras[0].fileNames[exp][:10]+'.fits'\n",
    "#                     print thisFileName\n",
    "                    fileIdx = np.where(outFileNames==thisFileName)[0]\n",
    "                    if len(fileIdx)>0:\n",
    "                        fileIdx = fileIdx[0]\n",
    "                        obsMatrix[ID-1, fileIdx, 0, cam] = thisStar.exposures.pivots[exp]\n",
    "                        obsMatrix[ID-1, fileIdx, 1, cam] = thisStar.exposures.plates[exp][-1]\n",
    "#                         print 'Found', ID, fileIdx, cam\n",
    "            \n",
    "            \n",
    "            \n",
    "            \n",
    "        filehandler.close()\n",
    "        thisStar = None\n",
    "\n",
    "outArray = np.array(outArray)\n",
    "np.save('outArray.npy',outArray)\n",
    "\n",
    "labels = ['ID', 'Name','Vmag','RA(hms)','RA(dms)','RA(deg)','DEC(dms)','DEC(deg)']\n",
    "df = pd.DataFrame(outArray)\n",
    "df.columns = labels\n",
    "\n",
    "outLatex = df.to_latex(index=False)\n",
    "print df.to_latex(index=False)"
   ]
  },
  {
   "cell_type": "code",
   "execution_count": null,
   "metadata": {
    "collapsed": true
   },
   "outputs": [],
   "source": []
  }
 ],
 "metadata": {
  "kernelspec": {
   "display_name": "Python 2",
   "language": "python",
   "name": "python2"
  },
  "language_info": {
   "codemirror_mode": {
    "name": "ipython",
    "version": 2
   },
   "file_extension": ".py",
   "mimetype": "text/x-python",
   "name": "python",
   "nbconvert_exporter": "python",
   "pygments_lexer": "ipython2",
   "version": "2.7.3"
  }
 },
 "nbformat": 4,
 "nbformat_minor": 0
}
