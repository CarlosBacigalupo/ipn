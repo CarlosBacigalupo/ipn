{
 "cells": [
  {
   "cell_type": "code",
   "execution_count": null,
   "metadata": {
    "collapsed": true
   },
   "outputs": [],
   "source": [
    "import numpy as np"
   ]
  },
  {
   "cell_type": "code",
   "execution_count": null,
   "metadata": {
    "collapsed": false
   },
   "outputs": [],
   "source": [
    "cd /Users/Carlos/Documents/HERMES/reductions/myherpy/HD1581/cam1/"
   ]
  },
  {
   "cell_type": "code",
   "execution_count": null,
   "metadata": {
    "collapsed": false
   },
   "outputs": [],
   "source": [
    "ls"
   ]
  },
  {
   "cell_type": "code",
   "execution_count": null,
   "metadata": {
    "collapsed": false
   },
   "outputs": [],
   "source": [
    "#Load the thxe arrays.\n",
    "#pack them into a cube [exp, px, [wl,flux]] [15,4095,2]\n",
    "#load the days (mayeb for use in interpolating the rv)\n",
    "\n",
    "Th1 = np.loadtxt(\"ThXe_0_53.56889811.txt\")\n",
    "Th2 = np.loadtxt(\"ThXe_1_41.56890804.txt\")\n",
    "Th3 = np.loadtxt(\"ThXe_1_42.56890807.txt\")\n",
    "Th4 = np.loadtxt(\"ThXe_1_43.56890809.txt\")\n",
    "Th5 = np.loadtxt(\"ThXe_2_36.56891707.txt\")\n",
    "Th6 = np.loadtxt(\"ThXe_2_37.56891709.txt\")\n",
    "Th7 = np.loadtxt(\"ThXe_2_38.56891711.txt\")\n",
    "Th8 = np.loadtxt(\"ThXe_3_58.56893765.txt\")\n",
    "Th9 = np.loadtxt(\"ThXe_3_59.56893767.txt\")\n",
    "Th10 = np.loadtxt(\"ThXe_3_60.56893768.txt\")\n",
    "Th11 = np.loadtxt(\"ThXe_3_61.56893769.txt\")\n",
    "Th12 = np.loadtxt(\"ThXe_3_62.56893771.txt\")\n",
    "Th13 = np.loadtxt(\"ThXe_4_44.56894743.txt\")\n",
    "Th14 = np.loadtxt(\"ThXe_4_45.56894745.txt\")\n",
    "Th15 = np.loadtxt(\"ThXe_4_46.56894746.txt\")\n",
    "\n",
    "# Th1 = np.loadtxt(\"HD1581_0_53.56889811.txt\")\n",
    "# Th2 = np.loadtxt(\"HD1581_1_41.56890804.txt\")\n",
    "# Th3 = np.loadtxt(\"HD1581_1_42.56890807.txt\")\n",
    "# Th4 = np.loadtxt(\"HD1581_1_43.56890809.txt\")\n",
    "# Th5 = np.loadtxt(\"HD1581_2_36.56891707.txt\")\n",
    "# Th6 = np.loadtxt(\"HD1581_2_37.56891709.txt\")\n",
    "# Th7 = np.loadtxt(\"HD1581_2_38.56891711.txt\")\n",
    "# Th8 = np.loadtxt(\"HD1581_3_58.56893765.txt\")\n",
    "# Th9 = np.loadtxt(\"HD1581_3_59.56893767.txt\")\n",
    "# Th10 = np.loadtxt(\"HD1581_3_60.56893768.txt\")\n",
    "# Th11 = np.loadtxt(\"HD1581_3_61.56893769.txt\")\n",
    "# Th12 = np.loadtxt(\"HD1581_3_62.56893771.txt\")\n",
    "# Th13 = np.loadtxt(\"HD1581_4_44.56894743.txt\")\n",
    "# Th14 = np.loadtxt(\"HD1581_4_45.56894745.txt\")\n",
    "# Th15 = np.loadtxt(\"HD1581_4_46.56894746.txt\")\n",
    "\n",
    "Days = np.array([56889811,56890804,56890807,56890809,56891707,56891709,\n",
    "                 56891711,56893765,56893767,56893768,56893769,56893771,56894743,\n",
    "                 56894745,56894746])\n",
    "ThCube = np.array([Th1, Th2, Th3, Th4, Th5, Th6, Th7, Th8, Th9, Th10, Th11, Th12, Th13, Th14, Th15])\n"
   ]
  },
  {
   "cell_type": "markdown",
   "metadata": {},
   "source": [
    "#### The the maximum comon wl range"
   ]
  },
  {
   "cell_type": "code",
   "execution_count": null,
   "metadata": {
    "collapsed": false
   },
   "outputs": [],
   "source": [
    "np.max(ThCube[:,0,0]), np.max(ThCube[:,0,0])+0.00001"
   ]
  },
  {
   "cell_type": "code",
   "execution_count": null,
   "metadata": {
    "collapsed": false
   },
   "outputs": [],
   "source": [
    "#added the +0.000001 because it flops on the interpolation otherwise ( the 12th decimal place!!!)roundup...\n",
    "wlRange = np.array([np.max(ThCube[:,0,0])+0.00001, np.min(ThCube[:,-1,0])]) "
   ]
  },
  {
   "cell_type": "code",
   "execution_count": null,
   "metadata": {
    "collapsed": false
   },
   "outputs": [],
   "source": [
    "#Log axis of the common range (logged) \n",
    "#step size (Duncan's suggestion) is about 1500m/s (i.e. x2 upscaled)\n",
    "logAxis = np.arange(np.log(wlRange)[0], np.log(wlRange)[1], 5*10**(-6))"
   ]
  },
  {
   "cell_type": "code",
   "execution_count": null,
   "metadata": {
    "collapsed": true
   },
   "outputs": [],
   "source": [
    "#This holds the linearized interpolated flux for the 15 epoch\n",
    "#all share the same wl bins, that's why we don't need that dimension in the array (loosing the 3rd dimension)\n",
    "linLogThCube = np.zeros((15, logAxis.shape[0]))"
   ]
  },
  {
   "cell_type": "markdown",
   "metadata": {},
   "source": [
    "### We re-sample the flux based on the linearised log axis. "
   ]
  },
  {
   "cell_type": "code",
   "execution_count": null,
   "metadata": {
    "collapsed": true
   },
   "outputs": [],
   "source": [
    "from scipy.interpolate import interp1d"
   ]
  },
  {
   "cell_type": "code",
   "execution_count": null,
   "metadata": {
    "collapsed": true
   },
   "outputs": [],
   "source": [
    "np.save(\"ThXe_HD1851\", linLogThCube)"
   ]
  },
  {
   "cell_type": "code",
   "execution_count": null,
   "metadata": {
    "collapsed": false
   },
   "outputs": [],
   "source": [
    "for i in range(ThCube.shape[0]):\n",
    "    f2 = interp1d(ThCube[i,:,0], ThCube[i,:,1], kind='cubic')\n",
    "    linLogThCube[i,:] = f2(np.exp(logAxis))\n",
    "    print i\n",
    "    #this was used to check the out of range in the inerpolation\n",
    "#     print np.exp(logAxis)[0], np.exp(logAxis)[-1]\n",
    "#     print ThCube[i,:,0][0], ThCube[i,:,0][-1]\n",
    "#     print np.exp(logAxis)[0]-ThCube[i,:,0][0], np.exp(logAxis)[-1]-ThCube[i,:,0][-1]"
   ]
  },
  {
   "cell_type": "code",
   "execution_count": null,
   "metadata": {
    "collapsed": true
   },
   "outputs": [],
   "source": [
    "legs = np.arange(-(linLogThCube.shape[1]-1), linLogThCube.shape[1])"
   ]
  },
  {
   "cell_type": "code",
   "execution_count": null,
   "metadata": {
    "collapsed": false
   },
   "outputs": [],
   "source": [
    "from scipy import constants\n",
    "\n",
    "#the value of a pixel in m/s\n",
    "valStep = (np.exp(logAxis)[9]-np.exp(logAxis)[8])/np.exp(logAxis)[8]*constants.c"
   ]
  },
  {
   "cell_type": "code",
   "execution_count": null,
   "metadata": {
    "collapsed": false
   },
   "outputs": [],
   "source": [
    "#this is an axis of the 2*size of each spectrum in linLogThCube in km/s\n",
    "valAxis = valStep * legs /1000"
   ]
  },
  {
   "cell_type": "code",
   "execution_count": null,
   "metadata": {
    "collapsed": false
   },
   "outputs": [],
   "source": [
    "#mask to slice the CCResult for gaussian fitting\n",
    "W = ((valAxis > -25) &  (valAxis < 25))\n",
    "W = ((valAxis > -10) &  (valAxis < 10))"
   ]
  },
  {
   "cell_type": "code",
   "execution_count": null,
   "metadata": {
    "collapsed": false
   },
   "outputs": [],
   "source": [
    "from scipy import optimize\n",
    "\n",
    "def gaussian(x, mu, sig, ):\n",
    "    x = np.array(x)\n",
    "    return np.exp(-np.power(x - mu, 2.) / 2 / np.power(sig, 2.))\n",
    "\n",
    "\n",
    "def flexi_gaussian(x, mu, sig, power, a, d ):\n",
    "    x = np.array(x)\n",
    "    return a* np.exp(-np.power(np.abs((x - mu) * np.sqrt(2*np.log(2))/sig),power))+d\n",
    "\n",
    "def fit_gaussian(p, flux, x_range):\n",
    "    a = optimize.leastsq(diff_gaussian, p, args= [flux, x_range])\n",
    "    return a\n",
    "\n",
    "def fit_flexi_gaussian(p, flux, x_range):\n",
    "    a = optimize.leastsq(diff_flexi_gaussian, p, args= [flux, x_range])\n",
    "    return a\n",
    "\n",
    "def diff_gaussian(p, args):\n",
    "    \n",
    "    flux = args[0]\n",
    "    x_range = args[1]\n",
    "\n",
    "    diff = gaussian(x_range, p[0],p[1]) - flux\n",
    "    return diff\n",
    "\n",
    "def diff_flexi_gaussian(p, args):\n",
    "    \n",
    "    flux = args[0]\n",
    "    x_range = args[1]\n",
    "    weights = np.abs(np.gradient(flux)) * (flux+np.max(flux)*.1)\n",
    "    diff = (flexi_gaussian(x_range, p[0], p[1], p[2], p[3], p[4]) - flux)# *weights\n",
    "    return diff\n"
   ]
  },
  {
   "cell_type": "code",
   "execution_count": null,
   "metadata": {
    "collapsed": true
   },
   "outputs": [],
   "source": [
    "for i in range(linLogThCube.shape[0])[:]:\n",
    "#     plt.plot(logAxis,linLogThCube[i,:]/np.percentile(linLogThCube[i,:], 90))\n",
    "    plt.plot(logAxis,linLogThCube[i,:])\n",
    "plt.show()"
   ]
  },
  {
   "cell_type": "code",
   "execution_count": null,
   "metadata": {
    "collapsed": false,
    "scrolled": true
   },
   "outputs": [],
   "source": [
    "import pylab as plt\n",
    "\n",
    "flux1 =linLogThCube[0,:] # the reference flux\n",
    "RVs = np.zeros((linLogThCube.shape[0]))\n",
    "\n",
    "for i in range(linLogThCube.shape[0]): #range (the amount of epochs)\n",
    "    flux2 =linLogThCube[i,:]\n",
    "\n",
    "    ccResult = np.correlate(flux1, flux2, \"full\")\n",
    "\n",
    "\n",
    "    x = valAxis[W]\n",
    "    y = ccResult[W]\n",
    "    y /= np.max(y)\n",
    "\n",
    "    p,_ = fit_flexi_gaussian([0., 10., 2. ,1., 0.], y, x )\n",
    "    \n",
    "    plt.plot(x,y)\n",
    "    plt.plot(x,flexi_gaussian(x, p[0], p[1], p[2], p[3], p[4]))\n",
    "    plt.show()\n",
    "    print p[0]\n",
    "    \n",
    "\n"
   ]
  },
  {
   "cell_type": "code",
   "execution_count": null,
   "metadata": {
    "collapsed": true
   },
   "outputs": [],
   "source": [
    "#ccs from star with +-25\n",
    "\n",
    "6.14367202446e-09\n",
    "-0.167474516269\n",
    "-0.185552242756\n",
    "-0.155002606345\n",
    "-0.104232244195\n",
    "-0.082658264156\n",
    "-0.0747539297579\n",
    "-0.747097050087\n",
    "-0.751346051391\n",
    "-0.744659958864\n",
    "-0.780037056979\n",
    "-0.752506902652\n",
    "-1.33462563626\n",
    "-1.33961076013\n",
    "-1.35122423503"
   ]
  },
  {
   "cell_type": "markdown",
   "metadata": {},
   "source": [
    "    -8.6101706948e-10\n",
    "    -0.0623372536655\n",
    "    -0.0623372438661\n",
    "    -0.0623372741398\n",
    "    -0.011374196462\n",
    "    -0.0113741614478\n",
    "    -0.0113741019891\n",
    "    -0.187732113388\n",
    "    -0.187732103719\n",
    "    -0.187732110375\n",
    "    -0.187732104556\n",
    "    -0.187732113388\n",
    "    -0.910444964683\n",
    "    -0.91044496166\n",
    "    -0.910444965535"
   ]
  },
  {
   "cell_type": "code",
   "execution_count": null,
   "metadata": {
    "collapsed": false
   },
   "outputs": [],
   "source": [
    "#to see the fitted gaussian\n",
    "plt.plot(x, y)\n",
    "plt.plot(x,flexi_gaussian(x, p[0], p[1], p[2], p[3], p[4]) )\n",
    "plt.show()"
   ]
  }
 ],
 "metadata": {
  "kernelspec": {
   "display_name": "Python 2",
   "language": "python",
   "name": "python2"
  },
  "language_info": {
   "codemirror_mode": {
    "name": "ipython",
    "version": 2
   },
   "file_extension": ".py",
   "mimetype": "text/x-python",
   "name": "python",
   "nbconvert_exporter": "python",
   "pygments_lexer": "ipython2",
   "version": "2.7.3"
  }
 },
 "nbformat": 4,
 "nbformat_minor": 0
}
