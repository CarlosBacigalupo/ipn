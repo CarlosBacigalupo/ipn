{
 "metadata": {
  "name": "",
  "signature": "sha256:13f6911e3ecaaa7e7d9c201740d9b4bd612e5dd98bcf76b63971c6bf21876616"
 },
 "nbformat": 3,
 "nbformat_minor": 0,
 "worksheets": [
  {
   "cells": [
    {
     "cell_type": "code",
     "collapsed": false,
     "input": [
      "import pyfits as pf\n",
      "import pylab as plt\n",
      "from scipy import optimize\n",
      "from scipy.signal import medfilt, find_peaks_cwt\n",
      "from scipy.ndimage.filters import minimum_filter, maximum_filter, median_filter, convolve\n",
      "from scipy.ndimage.measurements import label\n",
      "import numpy as np\n"
     ],
     "language": "python",
     "metadata": {},
     "outputs": [],
     "prompt_number": 3
    },
    {
     "cell_type": "code",
     "collapsed": false,
     "input": [
      "cd /Users/Carlos/Documents/HERMES/reductions/myherpy/\n"
     ],
     "language": "python",
     "metadata": {},
     "outputs": [
      {
       "output_type": "stream",
       "stream": "stdout",
       "text": [
        "/Users/Carlos/Documents/HERMES/reductions/myherpy\n"
       ]
      }
     ],
     "prompt_number": 1
    },
    {
     "cell_type": "code",
     "collapsed": false,
     "input": [
      "def openFile(fileName):\n",
      "    '''\n",
      "    Open a HERMES fits file. Subtracts bias from overscan\n",
      "\n",
      "    Parameters\n",
      "    ----------\n",
      "        fileName: input file name\n",
      "\n",
      "    Returns\n",
      "    -------\n",
      "        thisData : 2D array with the bias subtracted image of the first HDU.\n",
      "    \n",
      "    '''\n",
      "    thisFile = pf.open(fileName)\n",
      "\n",
      "    print thisFile[0].header['OBJECT']\n",
      "    \n",
      "    gain0_2000  = thisFile[0].header['RO_GAIN']\n",
      "    gain2000_4000  = thisFile[0].header['RO_GAIN1']\n",
      "\n",
      "    thisData = thisFile[0].data\n",
      "\n",
      "    bias0_2000 = np.median(thisData[3:2052,4099:-3])\n",
      "    bias2000_4000 = np.median(thisData[2059:-3,4099:-3])\n",
      "\n",
      "    thisData = thisData[:,:4095]\n",
      "\n",
      "    thisData[:2055] -= bias0_2000\n",
      "    thisData[2055:] -= bias2000_4000\n",
      "    \n",
      "    return thisData\n",
      "\n",
      "\n",
      "def fithOrder(thisPoly, thisRange):\n",
      "    '''\n",
      "    Evaluates a 5th order polybomial at the specified range\n",
      "\n",
      "    Parameters\n",
      "    ----------\n",
      "        thisPoly: Array. 6 x polynomila coefficients\n",
      "\n",
      "        thisRange: Array. Range of values for the independent variable\n",
      "\n",
      "    Returns\n",
      "    -------\n",
      "        result : polynomial evaluated over the range\n",
      "    \n",
      "    '''\n",
      "\n",
      "    result = thisPoly[0]*thisRange**5\n",
      "    result += thisPoly[1]*thisRange**4\n",
      "    result += thisPoly[2]*thisRange**3\n",
      "    result += thisPoly[3]*thisRange**2\n",
      "    result += thisPoly[4]*thisRange**1\n",
      "    result += thisPoly[5]*thisRange**0\n",
      "    \n",
      "    return result\n",
      "\n",
      "def find_vertical_shift(flat, arc):\n",
      "    '''\n",
      "    Calculates the vertical shift between the flat and the arc. \n",
      "    Needs to SUBTRACT the result of the gaussian fit to the traces \n",
      "    to make the 1st curve be like the second (i.e the traces be like the arc)\n",
      "\n",
      "\n",
      "    Parameters\n",
      "    ----------\n",
      "    flat: 2-D Array. Flat image\n",
      "\n",
      "    arc: 2-D Array. Arc Imag\n",
      "\n",
      "\n",
      "    Returns\n",
      "    -------\n",
      "    shift : vertical pixel shift calculated\n",
      "    \n",
      "    '''\n",
      "    \n",
      "    CCTotal = 0\n",
      "    for column in range(flat.shape[1]):\n",
      "        thisFlatCol = flat[:,column]\n",
      "        thisArcCol = arc[:,column]\n",
      "        CCCurve = np.correlate(thisFlatCol, thisArcCol, mode='full')\n",
      "        CCTotal += CCCurve\n",
      "\n",
      "    y = CCTotal[int(CCTotal.shape[0]/2.)+1-5:int(CCTotal.shape[0]/2.)+1+4]\n",
      "    y /=np.max(y)\n",
      "    x = np.arange(-4,5)\n",
      "    x_dense = np.linspace(-4,4)\n",
      "    p,_ = fit_gaussian([1,3.],y,x )\n",
      "    shift = p[0]\n",
      "    \n",
      "    return shift\n",
      "\n",
      "\n",
      "def sum_extract(fibre, tramlines, image, numPx):\n",
      "    '''\n",
      "    Extracts the flux from a given fibre from an image using the tramline map. \n",
      "\n",
      "    Parameters\n",
      "    ----------\n",
      "    fibre: Fibre number to be extracted\n",
      "\n",
      "    tramlines: 2-D Array. Fibre centroids\n",
      "\n",
      "    image: 2-D Array. Image of the flux to be extracted\n",
      "\n",
      "    numPx: Number of pixels to extract on each side of the centroid\n",
      "\n",
      "\n",
      "    Returns\n",
      "    -------\n",
      "    flux : Extracted flux\n",
      "    \n",
      "    '''\n",
      "    \n",
      "    flux = np.ones(tramlines.shape[1])*np.nan\n",
      "#     flux1 = np.ones(tramlines.shape[1])*np.nan\n",
      "#     flux2 = np.ones(tramlines.shape[1])*np.nan\n",
      "    \n",
      "    for i,thisCentroid in enumerate(tramlines[fibre]):\n",
      "#         print thisCentroid\n",
      "        try:\n",
      "            fullPx = image[ int(thisCentroid)-numPx : int(thisCentroid)+numPx+1 , i]\n",
      "            flux[i] = np.sum(fullPx) - fullPx[0]*(thisCentroid%1) - fullPx[-1]*(1-thisCentroid%1)\n",
      "#         flux1[i] = fullPx[0]*(thisCentroid%1)\n",
      "#         flux2[i] = fullPx[-1]*(1-thisCentroid%1)\n",
      "        except:\n",
      "            print fibre, 'falied'\n",
      "            print thisCentroid, 'centroid found in index',i\n",
      "            break\n",
      "#             print fibre\n",
      "    return flux\n",
      "\n",
      "\n",
      "def gaussian(x, mu, sig, ):\n",
      "    x = np.array(x)\n",
      "    return np.exp(-np.power(x - mu, 2.) / 2 / np.power(sig, 2.))\n",
      "\n",
      "\n",
      "def flexi_gaussian(x, mu, sig, power, a, d ):\n",
      "    x = np.array(x)\n",
      "    return a* np.exp(-np.power(np.abs((x - mu) * np.sqrt(2*np.log(2))/sig),power))+d\n",
      "\n",
      "def fit_gaussian(p, flux, x_range):\n",
      "    a = optimize.leastsq(diff_gaussian, p, args= [flux, x_range])\n",
      "    return a\n",
      "\n",
      "def fit_flexi_gaussian(p, flux, x_range):\n",
      "    a = optimize.leastsq(diff_flexi_gaussian, p, args= [flux, x_range])\n",
      "    return a\n",
      "\n",
      "def diff_gaussian(p, args):\n",
      "    \n",
      "    flux = args[0]\n",
      "    x_range = args[1]\n",
      "\n",
      "    diff = gaussian(x_range, p[0],p[1]) - flux\n",
      "    return diff\n",
      "\n",
      "def diff_flexi_gaussian(p, args):\n",
      "    \n",
      "    flux = args[0]\n",
      "    x_range = args[1]\n",
      "    weights = np.abs(np.gradient(flux)) * (flux+np.max(flux)*.1)\n",
      "    diff = (flexi_gaussian(x_range, p[0], p[1], p[2], p[3], p[4]) - flux)# *weights\n",
      "    return diff\n"
     ],
     "language": "python",
     "metadata": {},
     "outputs": [],
     "prompt_number": 5
    },
    {
     "cell_type": "code",
     "collapsed": false,
     "input": [
      "# flatFileName = '0_20aug/1/20aug10034.fits'\n",
      "# arcFileName = '0_20aug/1/20aug10052.fits'\n",
      "# objFileName = '0_20aug/1/20aug10053.fits'\n",
      "\n",
      "# flatFileName = '1_21aug/1/21aug10047.fits'\n",
      "# arcFileName = '1_21aug/1/21aug10046.fits'\n",
      "# objFileName = '1_21aug/1/21aug10041.fits'\n",
      "# objFileName = '1_21aug/1/21aug10042.fits'\n",
      "# objFileName = '1_21aug/1/21aug10043.fits'\n",
      "\n",
      "# flatFileName = '2_22aug/1/22aug10032.fits'\n",
      "# arcFileName = '2_22aug/1/22aug10031.fits'\n",
      "# objFileName = '2_22aug/1/22aug10036.fits'\n",
      "# objFileName = '2_22aug/1/22aug10037.fits'\n",
      "# objFileName = '2_22aug/1/22aug10038.fits'\n",
      "\n",
      "# flatFileName = '3_24aug/1/24aug10053.fits'\n",
      "# arcFileName = '3_24aug/1/24aug10054.fits'\n",
      "# objFileName = '3_24aug/1/24aug10058.fits'\n",
      "# objFileName = '3_24aug/1/24aug10059.fits'\n",
      "# objFileName = '3_24aug/1/24aug10060.fits'\n",
      "# objFileName = '3_24aug/1/24aug10061.fits'\n",
      "# objFileName = '3_24aug/1/24aug10062.fits'\n",
      "\n",
      "# flatFileName = '4_25aug/1/25aug10039.fits'\n",
      "# arcFileName = '4_25aug/1/25aug10043.fits'\n",
      "# objFileName = '4_25aug/1/25aug10044.fits'\n",
      "# objFileName = '4_25aug/1/25aug10045.fits'\n",
      "# objFileName = '4_25aug/1/25aug10046.fits'\n"
     ],
     "language": "python",
     "metadata": {},
     "outputs": [],
     "prompt_number": 135
    },
    {
     "cell_type": "code",
     "collapsed": false,
     "input": [
      "flat = openFile(flatFileName)\n",
      "arc =  openFile(arcFileName)\n",
      "obj =  openFile(objFileName)\n"
     ],
     "language": "python",
     "metadata": {},
     "outputs": [
      {
       "output_type": "stream",
       "stream": "stdout",
       "text": [
        "Fibre Flat Field - Quartz_75_H\n",
        "ARC - ThXe_2 ThXe_1"
       ]
      },
      {
       "output_type": "stream",
       "stream": "stdout",
       "text": [
        "\n",
        "HD1581 #176 (Pivot 175)"
       ]
      },
      {
       "output_type": "stream",
       "stream": "stdout",
       "text": [
        "\n"
       ]
      }
     ],
     "prompt_number": 136
    },
    {
     "cell_type": "code",
     "collapsed": false,
     "input": [
      "flat_mf = medfilt(flat, [3,9])\n",
      "flat_1d = np.sum(flat_mf,axis =0)\n",
      "flat_per = np.percentile(flat_1d, 90)\n",
      "flat_1d_norm = flat_1d/flat_per\n",
      "flat_flat = flat_mf / flat_1d_norm[None,:]\n"
     ],
     "language": "python",
     "metadata": {},
     "outputs": [],
     "prompt_number": 137
    },
    {
     "cell_type": "code",
     "collapsed": false,
     "input": [
      "for i in range(flat_flat.shape[1]):\n",
      "    singleCol = flat_flat[:,i]\n",
      "    singleMin = singleCol - convolve(minimum_filter(singleCol,15),[.2,.2,.2,.2,.2])\n",
      "    singleMax = convolve(maximum_filter(singleMin,15),[.2,.2,.2,.2,.2])\n",
      "\n",
      "    fixer = convolve(singleMax, np.ones(200)/200)\n",
      "    singleMax[singleMax<fixer*.5] = fixer[singleMax<fixer*.5]*.5\n",
      "    singleColFlat = singleMin/singleMax\n",
      "\n",
      "    singleColFlat[singleColFlat>.3] = 1\n",
      "    singleColFlat[singleColFlat<.3] = 0\n",
      "    \n",
      "    flat_flat[:,i] = singleColFlat\n"
     ],
     "language": "python",
     "metadata": {},
     "outputs": [],
     "prompt_number": 138
    },
    {
     "cell_type": "code",
     "collapsed": false,
     "input": [
      "out_array, n = label(flat_flat, np.ones((3,3)))\n"
     ],
     "language": "python",
     "metadata": {},
     "outputs": [],
     "prompt_number": 139
    },
    {
     "cell_type": "code",
     "collapsed": false,
     "input": [
      "#create centroid array\n",
      "fibre_centroids = np.ones((n,out_array.shape[1]))*np.nan\n",
      "for col in range(out_array.shape[1]):\n",
      "    testCol = out_array[:,col]\n",
      "    for fibre in range(n):\n",
      "        fibre_centroids[fibre,col] = np.average(np.where(testCol==fibre+1)[0])\n",
      "#         if np.sum(np.isnan(fibre_centroids[fibre,col]))>0:\n",
      "#             print 'Found nan',np.where(testCol==fibre+1)[0], fibre+1\n",
      "\n"
     ],
     "language": "python",
     "metadata": {},
     "outputs": [],
     "prompt_number": 140
    },
    {
     "cell_type": "code",
     "collapsed": false,
     "input": [
      "fibrePolys = np.ones((fibre_centroids.shape[0],6))*np.nan\n",
      "for y,fibre in enumerate(fibre_centroids):\n",
      "    fibrePolys[y,:] = np.polyfit(range(fibre.shape[0]),fibre,5)\n",
      "#     if np.sum(np.isnan(fibrePolys[y,:]))>0:\n",
      "#         print 'Found nan in fibre',y\n",
      "#         print 'Fibre values',fibre\n",
      "#         print\n"
     ],
     "language": "python",
     "metadata": {},
     "outputs": [],
     "prompt_number": 141
    },
    {
     "cell_type": "code",
     "collapsed": false,
     "input": [
      "#create tramlines\n",
      "tramlines = (np.ones(fibre_centroids.shape)*np.nan)[:-1]\n",
      "thisRange = np.arange(fibre_centroids.shape[1])\n",
      "for i,thisPoly in enumerate(fibrePolys[1:]):\n",
      "    tramlines[i] = fithOrder(thisPoly,thisRange)\n"
     ],
     "language": "python",
     "metadata": {},
     "outputs": [],
     "prompt_number": 142
    },
    {
     "cell_type": "code",
     "collapsed": false,
     "input": [
      "shift = find_vertical_shift(flat, arc) #result to be subtracted to the tramlines (1st array in the CC...)\n",
      "tramlines_shifted = tramlines - shift\n"
     ],
     "language": "python",
     "metadata": {},
     "outputs": [],
     "prompt_number": 143
    },
    {
     "cell_type": "code",
     "collapsed": false,
     "input": [
      "extracted_arc = np.ones(tramlines_shifted.shape)*np.nan\n",
      "for fibre in range(tramlines_shifted.shape[0]):\n",
      "    extracted_arc[fibre] = sum_extract(fibre,tramlines_shifted, arc, 4)\n"
     ],
     "language": "python",
     "metadata": {},
     "outputs": [
      {
       "output_type": "stream",
       "stream": "stdout",
       "text": [
        "250 falied\n",
        "nan centroid found in index 0\n",
        "372"
       ]
      },
      {
       "output_type": "stream",
       "stream": "stdout",
       "text": [
        " falied\n",
        "nan centroid found in index 0\n",
        "373 falied\n",
        "nan centroid found in index 0\n",
        "374 falied\n",
        "nan centroid found in index 0\n",
        "375 falied\n",
        "nan centroid found in index 0\n",
        "376 falied\n",
        "nan centroid found in index 0\n",
        "377 falied\n",
        "nan centroid found in index 0\n",
        "378 falied\n",
        "nan centroid found in index 0\n",
        "379 falied\n",
        "nan centroid found in index 0\n",
        "380 falied\n",
        "nan centroid found in index 0\n",
        "381 falied\n",
        "nan centroid found in index 0\n",
        "382 falied\n",
        "nan centroid found in index 0\n",
        "383 falied\n",
        "nan centroid found in index 0\n",
        "384 falied\n",
        "nan centroid found in index 0\n",
        "385 falied\n",
        "nan centroid found in index 0\n",
        "386 falied\n",
        "nan centroid found in index 0\n",
        "387 falied\n",
        "nan centroid found in index 0\n",
        "388 falied\n",
        "nan centroid found in index 0\n",
        "389 falied\n",
        "nan centroid found in index 0\n",
        "390 falied\n",
        "nan centroid found in index 0\n",
        "391 falied\n",
        "nan centroid found in index 0\n",
        "392 falied\n",
        "nan centroid found in index 0\n",
        "393 falied\n",
        "nan centroid found in index 0\n",
        "394 falied\n",
        "nan centroid found in index 0\n",
        "395 falied\n",
        "nan centroid found in index 0\n",
        "396 falied\n",
        "nan centroid found in index 0\n",
        "397 falied\n",
        "nan centroid found in index 0\n",
        "398 falied\n",
        "nan centroid found in index 0\n",
        "399 falied\n",
        "nan centroid found in index 0\n",
        "400 falied\n",
        "nan centroid found in index 0\n",
        "401 falied\n",
        "nan centroid found in index 0\n",
        "402 falied\n",
        "nan centroid found in index 0\n",
        "403 falied\n",
        "nan centroid found in index 0\n",
        "404 falied\n",
        "nan centroid found in index 0\n",
        "405 falied\n",
        "nan centroid found in index 0\n",
        "406 falied\n",
        "nan centroid found in index 0\n",
        "407 falied\n",
        "nan centroid found in index 0\n",
        "408 falied\n",
        "nan centroid found in index 0\n",
        "409 falied\n",
        "nan centroid found in index 0\n",
        "410 falied\n",
        "nan centroid found in index 0\n",
        "411 falied\n",
        "nan centroid found in index 0\n",
        "412 falied\n",
        "nan centroid found in index 0\n",
        "413 falied\n",
        "nan centroid found in index 0\n",
        "414 falied\n",
        "nan centroid found in index 0\n",
        "415 falied\n",
        "nan centroid found in index 0\n",
        "416 falied\n",
        "nan centroid found in index 0\n",
        "417 falied\n",
        "nan centroid found in index 0\n",
        "418 falied\n",
        "nan centroid found in index 0\n",
        "419 falied\n",
        "nan centroid found in index 0\n",
        "420 falied\n",
        "nan centroid found in index 0\n",
        "421 falied\n",
        "nan centroid found in index 0\n"
       ]
      }
     ],
     "prompt_number": 144
    },
    {
     "cell_type": "code",
     "collapsed": false,
     "input": [
      "extracted_obj = np.ones(tramlines_shifted.shape)*np.nan\n",
      "for fibre in range(tramlines_shifted.shape[0]):\n",
      "    extracted_obj[fibre] = sum_extract(fibre,tramlines_shifted, obj, 4)\n"
     ],
     "language": "python",
     "metadata": {},
     "outputs": [
      {
       "output_type": "stream",
       "stream": "stdout",
       "text": [
        "250 falied\n",
        "nan centroid found in index 0\n",
        "372"
       ]
      },
      {
       "output_type": "stream",
       "stream": "stdout",
       "text": [
        " falied\n",
        "nan centroid found in index 0\n",
        "373 falied\n",
        "nan centroid found in index 0\n",
        "374 falied\n",
        "nan centroid found in index 0\n",
        "375 falied\n",
        "nan centroid found in index 0\n",
        "376 falied\n",
        "nan centroid found in index 0\n",
        "377 falied\n",
        "nan centroid found in index 0\n",
        "378 falied\n",
        "nan centroid found in index 0\n",
        "379 falied\n",
        "nan centroid found in index 0\n",
        "380 falied\n",
        "nan centroid found in index 0\n",
        "381 falied\n",
        "nan centroid found in index 0\n",
        "382 falied\n",
        "nan centroid found in index 0\n",
        "383 falied\n",
        "nan centroid found in index 0\n",
        "384 falied\n",
        "nan centroid found in index 0\n",
        "385 falied\n",
        "nan centroid found in index 0\n",
        "386 falied\n",
        "nan centroid found in index 0\n",
        "387 falied\n",
        "nan centroid found in index 0\n",
        "388 falied\n",
        "nan centroid found in index 0\n",
        "389 falied\n",
        "nan centroid found in index 0\n",
        "390 falied\n",
        "nan centroid found in index 0\n",
        "391 falied\n",
        "nan centroid found in index 0\n",
        "392 falied\n",
        "nan centroid found in index 0\n",
        "393 falied\n",
        "nan centroid found in index 0\n",
        "394 falied\n",
        "nan centroid found in index 0\n",
        "395 falied\n",
        "nan centroid found in index 0\n",
        "396 falied\n",
        "nan centroid found in index 0\n",
        "397 falied\n",
        "nan centroid found in index 0\n",
        "398 falied\n",
        "nan centroid found in index 0\n",
        "399 falied\n",
        "nan centroid found in index 0\n",
        "400 falied\n",
        "nan centroid found in index 0\n",
        "401 falied\n",
        "nan centroid found in index 0\n",
        "402 falied\n",
        "nan centroid found in index 0\n",
        "403 falied\n",
        "nan centroid found in index 0\n",
        "404 falied\n",
        "nan centroid found in index 0\n",
        "405 falied\n",
        "nan centroid found in index 0\n",
        "406 falied\n",
        "nan centroid found in index 0\n",
        "407 falied\n",
        "nan centroid found in index 0\n",
        "408 falied\n",
        "nan centroid found in index 0\n",
        "409 falied\n",
        "nan centroid found in index 0\n",
        "410 falied\n",
        "nan centroid found in index 0\n",
        "411 falied\n",
        "nan centroid found in index 0\n",
        "412 falied\n",
        "nan centroid found in index 0\n",
        "413 falied\n",
        "nan centroid found in index 0\n",
        "414 falied\n",
        "nan centroid found in index 0\n",
        "415 falied\n",
        "nan centroid found in index 0\n",
        "416 falied\n",
        "nan centroid found in index 0\n",
        "417 falied\n",
        "nan centroid found in index 0\n",
        "418 falied\n",
        "nan centroid found in index 0\n",
        "419 falied\n",
        "nan centroid found in index 0\n",
        "420 falied\n",
        "nan centroid found in index 0\n",
        "421 falied\n",
        "nan centroid found in index 0\n"
       ]
      }
     ],
     "prompt_number": 145
    },
    {
     "cell_type": "code",
     "collapsed": false,
     "input": [
      "wlSolutions = []\n",
      "wlErrors = []\n",
      "wlPolys = []\n",
      "for thisFibre in range(extracted_arc.shape[0])[:]:\n",
      "#     print 'Fibre',thisFibre\n",
      "    print thisFibre,\n",
      "\n",
      "    halfCCRange = 15\n",
      "\n",
      "    masterArc = extracted_arc[thisFibre].copy()\n",
      "\n",
      "    lineTemplate = np.zeros(extracted_arc.shape[1])\n",
      "    lineList = np.loadtxt('linelist_blue_v2.txt')\n",
      "    lineTemplate[lineList[:,0].astype(int)]=1\n",
      "\n",
      "    CCCurve = np.correlate(masterArc, lineTemplate, mode='full')\n",
      "\n",
      "    y = CCCurve[int(CCCurve.shape[0]/2.)+1-halfCCRange:int(CCCurve.shape[0]/2.)+1+halfCCRange+1]\n",
      "    x = np.arange(-halfCCRange,halfCCRange+1)\n",
      "\n",
      "    maxIdx = np.where(y==np.max(y))[0][0]\n",
      "    thisShift = x[maxIdx]\n",
      "\n",
      "#     print 'Shift', thisShift\n",
      "\n",
      "    adjLineList = lineList.copy()\n",
      "    adjLineList[:,0] += thisShift\n",
      "\n",
      "    for i, thisLineWl in enumerate(adjLineList):\n",
      "#         print 'Searching for wl',thisLineWl[1],'in px',thisLineWl[0],\n",
      "        \n",
      "        firstSliceX = np.arange(thisLineWl[0]-5,thisLineWl[0]+6).astype(int)\n",
      "        firstSliceY = masterArc[firstSliceX]\n",
      "        maxIdx =  firstSliceX[np.where(firstSliceY==np.max(firstSliceY))[0][0]]\n",
      "        \n",
      "        secondSliceX = np.arange(maxIdx-5,maxIdx+6).astype(int)\n",
      "        secondSliceY = masterArc[secondSliceX]      \n",
      "        \n",
      "#         p,_ = fit_gaussian([maxIdx,1.], secondSliceY, secondSliceX )\n",
      "        p,_ = fit_flexi_gaussian([maxIdx,1., 2., np.max(secondSliceY), 0], secondSliceY, secondSliceX )\n",
      "        \n",
      "#         print 'Found',p\n",
      "        goodPxValue = p[0]\n",
      "\n",
      "        adjLineList[i,0] = goodPxValue\n",
      "        \n",
      "#         x_dense = np.linspace(np.min(secondSliceX),np.max(secondSliceX))\n",
      "#         plt.plot(secondSliceX,secondSliceY)\n",
      "#         plt.plot(x_dense,flexi_gaussian(x_dense,p[0],p[1],p[2],p[3],p[4]))\n",
      "#         plt.title(goodPxValue)\n",
      "#         plt.show()\n",
      "\n",
      "#     print adjLineList\n",
      "    \n",
      "    a = np.polyfit(adjLineList[:,0], adjLineList[:,1], 5)\n",
      "    x = fithOrder(a, np.arange(4095))\n",
      "    err = fithOrder(a, adjLineList[:,0]) - adjLineList[:,1]\n",
      "\n",
      "    wlPolys.append(a)\n",
      "    wlErrors.append(err)\n",
      "    wlSolutions.append(x)\n",
      "    \n",
      "wlPolys = np.array(wlPolys)\n",
      "wlErrors = np.array(wlErrors)\n",
      "wlSolutions = np.array(wlSolutions)\n"
     ],
     "language": "python",
     "metadata": {},
     "outputs": [
      {
       "output_type": "stream",
       "stream": "stdout",
       "text": [
        "0 "
       ]
      },
      {
       "output_type": "stream",
       "stream": "stdout",
       "text": [
        "1 "
       ]
      },
      {
       "output_type": "stream",
       "stream": "stdout",
       "text": [
        "2 "
       ]
      },
      {
       "output_type": "stream",
       "stream": "stdout",
       "text": [
        "3 "
       ]
      },
      {
       "output_type": "stream",
       "stream": "stdout",
       "text": [
        "4 "
       ]
      },
      {
       "output_type": "stream",
       "stream": "stdout",
       "text": [
        "5 "
       ]
      },
      {
       "output_type": "stream",
       "stream": "stdout",
       "text": [
        "6 "
       ]
      },
      {
       "output_type": "stream",
       "stream": "stdout",
       "text": [
        "7 "
       ]
      },
      {
       "output_type": "stream",
       "stream": "stdout",
       "text": [
        "8 "
       ]
      },
      {
       "output_type": "stream",
       "stream": "stdout",
       "text": [
        "9 "
       ]
      },
      {
       "output_type": "stream",
       "stream": "stdout",
       "text": [
        "10 "
       ]
      },
      {
       "output_type": "stream",
       "stream": "stdout",
       "text": [
        "11 "
       ]
      },
      {
       "output_type": "stream",
       "stream": "stdout",
       "text": [
        "12 "
       ]
      },
      {
       "output_type": "stream",
       "stream": "stdout",
       "text": [
        "13 "
       ]
      },
      {
       "output_type": "stream",
       "stream": "stdout",
       "text": [
        "14 "
       ]
      },
      {
       "output_type": "stream",
       "stream": "stdout",
       "text": [
        "15 "
       ]
      },
      {
       "output_type": "stream",
       "stream": "stdout",
       "text": [
        "16 "
       ]
      },
      {
       "output_type": "stream",
       "stream": "stdout",
       "text": [
        "17 "
       ]
      },
      {
       "output_type": "stream",
       "stream": "stdout",
       "text": [
        "18 "
       ]
      },
      {
       "output_type": "stream",
       "stream": "stdout",
       "text": [
        "19 "
       ]
      },
      {
       "output_type": "stream",
       "stream": "stdout",
       "text": [
        "20 "
       ]
      },
      {
       "output_type": "stream",
       "stream": "stdout",
       "text": [
        "21 "
       ]
      },
      {
       "output_type": "stream",
       "stream": "stdout",
       "text": [
        "22 "
       ]
      },
      {
       "output_type": "stream",
       "stream": "stdout",
       "text": [
        "23 "
       ]
      },
      {
       "output_type": "stream",
       "stream": "stdout",
       "text": [
        "24 "
       ]
      },
      {
       "output_type": "stream",
       "stream": "stdout",
       "text": [
        "25 "
       ]
      },
      {
       "output_type": "stream",
       "stream": "stdout",
       "text": [
        "26 "
       ]
      },
      {
       "output_type": "stream",
       "stream": "stdout",
       "text": [
        "27 "
       ]
      },
      {
       "output_type": "stream",
       "stream": "stdout",
       "text": [
        "28 "
       ]
      },
      {
       "output_type": "stream",
       "stream": "stdout",
       "text": [
        "29 "
       ]
      },
      {
       "output_type": "stream",
       "stream": "stdout",
       "text": [
        "30 "
       ]
      },
      {
       "output_type": "stream",
       "stream": "stdout",
       "text": [
        "31 "
       ]
      },
      {
       "output_type": "stream",
       "stream": "stdout",
       "text": [
        "32 "
       ]
      },
      {
       "output_type": "stream",
       "stream": "stdout",
       "text": [
        "33 "
       ]
      },
      {
       "output_type": "stream",
       "stream": "stdout",
       "text": [
        "34 "
       ]
      },
      {
       "output_type": "stream",
       "stream": "stdout",
       "text": [
        "35 "
       ]
      },
      {
       "output_type": "stream",
       "stream": "stdout",
       "text": [
        "36 "
       ]
      },
      {
       "output_type": "stream",
       "stream": "stdout",
       "text": [
        "37 "
       ]
      },
      {
       "output_type": "stream",
       "stream": "stdout",
       "text": [
        "38 "
       ]
      },
      {
       "output_type": "stream",
       "stream": "stdout",
       "text": [
        "39 "
       ]
      },
      {
       "output_type": "stream",
       "stream": "stdout",
       "text": [
        "40 "
       ]
      },
      {
       "output_type": "stream",
       "stream": "stdout",
       "text": [
        "41 "
       ]
      },
      {
       "output_type": "stream",
       "stream": "stdout",
       "text": [
        "42 "
       ]
      },
      {
       "output_type": "stream",
       "stream": "stdout",
       "text": [
        "43 "
       ]
      },
      {
       "output_type": "stream",
       "stream": "stdout",
       "text": [
        "44 "
       ]
      },
      {
       "output_type": "stream",
       "stream": "stdout",
       "text": [
        "45 "
       ]
      },
      {
       "output_type": "stream",
       "stream": "stdout",
       "text": [
        "46 "
       ]
      },
      {
       "output_type": "stream",
       "stream": "stdout",
       "text": [
        "47 "
       ]
      },
      {
       "output_type": "stream",
       "stream": "stdout",
       "text": [
        "48 "
       ]
      },
      {
       "output_type": "stream",
       "stream": "stdout",
       "text": [
        "49 "
       ]
      },
      {
       "output_type": "stream",
       "stream": "stdout",
       "text": [
        "50 "
       ]
      },
      {
       "output_type": "stream",
       "stream": "stdout",
       "text": [
        "51 "
       ]
      },
      {
       "output_type": "stream",
       "stream": "stdout",
       "text": [
        "52 "
       ]
      },
      {
       "output_type": "stream",
       "stream": "stdout",
       "text": [
        "53 "
       ]
      },
      {
       "output_type": "stream",
       "stream": "stdout",
       "text": [
        "54 "
       ]
      },
      {
       "output_type": "stream",
       "stream": "stdout",
       "text": [
        "55 "
       ]
      },
      {
       "output_type": "stream",
       "stream": "stdout",
       "text": [
        "56 "
       ]
      },
      {
       "output_type": "stream",
       "stream": "stdout",
       "text": [
        "57 "
       ]
      },
      {
       "output_type": "stream",
       "stream": "stdout",
       "text": [
        "58 "
       ]
      },
      {
       "output_type": "stream",
       "stream": "stdout",
       "text": [
        "59 "
       ]
      },
      {
       "output_type": "stream",
       "stream": "stdout",
       "text": [
        "60 "
       ]
      },
      {
       "output_type": "stream",
       "stream": "stdout",
       "text": [
        "61 "
       ]
      },
      {
       "output_type": "stream",
       "stream": "stdout",
       "text": [
        "62 "
       ]
      },
      {
       "output_type": "stream",
       "stream": "stdout",
       "text": [
        "63 "
       ]
      },
      {
       "output_type": "stream",
       "stream": "stdout",
       "text": [
        "64 "
       ]
      },
      {
       "output_type": "stream",
       "stream": "stdout",
       "text": [
        "65 "
       ]
      },
      {
       "output_type": "stream",
       "stream": "stdout",
       "text": [
        "66 "
       ]
      },
      {
       "output_type": "stream",
       "stream": "stdout",
       "text": [
        "67 "
       ]
      },
      {
       "output_type": "stream",
       "stream": "stdout",
       "text": [
        "68 "
       ]
      },
      {
       "output_type": "stream",
       "stream": "stdout",
       "text": [
        "69 "
       ]
      },
      {
       "output_type": "stream",
       "stream": "stdout",
       "text": [
        "70 "
       ]
      },
      {
       "output_type": "stream",
       "stream": "stdout",
       "text": [
        "71 "
       ]
      },
      {
       "output_type": "stream",
       "stream": "stdout",
       "text": [
        "72 "
       ]
      },
      {
       "output_type": "stream",
       "stream": "stdout",
       "text": [
        "73 "
       ]
      },
      {
       "output_type": "stream",
       "stream": "stdout",
       "text": [
        "74 "
       ]
      },
      {
       "output_type": "stream",
       "stream": "stdout",
       "text": [
        "75 "
       ]
      },
      {
       "output_type": "stream",
       "stream": "stdout",
       "text": [
        "76 "
       ]
      },
      {
       "output_type": "stream",
       "stream": "stdout",
       "text": [
        "77 "
       ]
      },
      {
       "output_type": "stream",
       "stream": "stdout",
       "text": [
        "78 "
       ]
      },
      {
       "output_type": "stream",
       "stream": "stdout",
       "text": [
        "79 "
       ]
      },
      {
       "output_type": "stream",
       "stream": "stdout",
       "text": [
        "80 "
       ]
      },
      {
       "output_type": "stream",
       "stream": "stdout",
       "text": [
        "81 "
       ]
      },
      {
       "output_type": "stream",
       "stream": "stdout",
       "text": [
        "82 "
       ]
      },
      {
       "output_type": "stream",
       "stream": "stdout",
       "text": [
        "83 "
       ]
      },
      {
       "output_type": "stream",
       "stream": "stdout",
       "text": [
        "84 "
       ]
      },
      {
       "output_type": "stream",
       "stream": "stdout",
       "text": [
        "85 "
       ]
      },
      {
       "output_type": "stream",
       "stream": "stdout",
       "text": [
        "86 "
       ]
      },
      {
       "output_type": "stream",
       "stream": "stdout",
       "text": [
        "87 "
       ]
      },
      {
       "output_type": "stream",
       "stream": "stdout",
       "text": [
        "88 "
       ]
      },
      {
       "output_type": "stream",
       "stream": "stdout",
       "text": [
        "89 "
       ]
      },
      {
       "output_type": "stream",
       "stream": "stdout",
       "text": [
        "90 "
       ]
      },
      {
       "output_type": "stream",
       "stream": "stdout",
       "text": [
        "91 "
       ]
      },
      {
       "output_type": "stream",
       "stream": "stdout",
       "text": [
        "92 "
       ]
      },
      {
       "output_type": "stream",
       "stream": "stdout",
       "text": [
        "93 "
       ]
      },
      {
       "output_type": "stream",
       "stream": "stdout",
       "text": [
        "94 "
       ]
      },
      {
       "output_type": "stream",
       "stream": "stdout",
       "text": [
        "95 "
       ]
      },
      {
       "output_type": "stream",
       "stream": "stdout",
       "text": [
        "96 "
       ]
      },
      {
       "output_type": "stream",
       "stream": "stdout",
       "text": [
        "97 "
       ]
      },
      {
       "output_type": "stream",
       "stream": "stdout",
       "text": [
        "98 "
       ]
      },
      {
       "output_type": "stream",
       "stream": "stdout",
       "text": [
        "99 "
       ]
      },
      {
       "output_type": "stream",
       "stream": "stdout",
       "text": [
        "100 "
       ]
      },
      {
       "output_type": "stream",
       "stream": "stdout",
       "text": [
        "101 "
       ]
      },
      {
       "output_type": "stream",
       "stream": "stdout",
       "text": [
        "102 "
       ]
      },
      {
       "output_type": "stream",
       "stream": "stdout",
       "text": [
        "103 "
       ]
      },
      {
       "output_type": "stream",
       "stream": "stdout",
       "text": [
        "104 "
       ]
      },
      {
       "output_type": "stream",
       "stream": "stdout",
       "text": [
        "105 "
       ]
      },
      {
       "output_type": "stream",
       "stream": "stdout",
       "text": [
        "106 "
       ]
      },
      {
       "output_type": "stream",
       "stream": "stdout",
       "text": [
        "107 "
       ]
      },
      {
       "output_type": "stream",
       "stream": "stdout",
       "text": [
        "108 "
       ]
      },
      {
       "output_type": "stream",
       "stream": "stdout",
       "text": [
        "109 "
       ]
      },
      {
       "output_type": "stream",
       "stream": "stdout",
       "text": [
        "110 "
       ]
      },
      {
       "output_type": "stream",
       "stream": "stdout",
       "text": [
        "111 "
       ]
      },
      {
       "output_type": "stream",
       "stream": "stdout",
       "text": [
        "112 "
       ]
      },
      {
       "output_type": "stream",
       "stream": "stdout",
       "text": [
        "113 "
       ]
      },
      {
       "output_type": "stream",
       "stream": "stdout",
       "text": [
        "114 "
       ]
      },
      {
       "output_type": "stream",
       "stream": "stdout",
       "text": [
        "115 "
       ]
      },
      {
       "output_type": "stream",
       "stream": "stdout",
       "text": [
        "116 "
       ]
      },
      {
       "output_type": "stream",
       "stream": "stdout",
       "text": [
        "117 "
       ]
      },
      {
       "output_type": "stream",
       "stream": "stdout",
       "text": [
        "118 "
       ]
      },
      {
       "output_type": "stream",
       "stream": "stdout",
       "text": [
        "119 "
       ]
      },
      {
       "output_type": "stream",
       "stream": "stdout",
       "text": [
        "120 "
       ]
      },
      {
       "output_type": "stream",
       "stream": "stdout",
       "text": [
        "121 "
       ]
      },
      {
       "output_type": "stream",
       "stream": "stdout",
       "text": [
        "122 "
       ]
      },
      {
       "output_type": "stream",
       "stream": "stdout",
       "text": [
        "123 "
       ]
      },
      {
       "output_type": "stream",
       "stream": "stdout",
       "text": [
        "124 "
       ]
      },
      {
       "output_type": "stream",
       "stream": "stdout",
       "text": [
        "125 "
       ]
      },
      {
       "output_type": "stream",
       "stream": "stdout",
       "text": [
        "126 "
       ]
      },
      {
       "output_type": "stream",
       "stream": "stdout",
       "text": [
        "127 "
       ]
      },
      {
       "output_type": "stream",
       "stream": "stdout",
       "text": [
        "128 "
       ]
      },
      {
       "output_type": "stream",
       "stream": "stdout",
       "text": [
        "129 "
       ]
      },
      {
       "output_type": "stream",
       "stream": "stdout",
       "text": [
        "130 "
       ]
      },
      {
       "output_type": "stream",
       "stream": "stdout",
       "text": [
        "131 "
       ]
      },
      {
       "output_type": "stream",
       "stream": "stdout",
       "text": [
        "132 "
       ]
      },
      {
       "output_type": "stream",
       "stream": "stdout",
       "text": [
        "133 "
       ]
      },
      {
       "output_type": "stream",
       "stream": "stdout",
       "text": [
        "134 "
       ]
      },
      {
       "output_type": "stream",
       "stream": "stdout",
       "text": [
        "135 "
       ]
      },
      {
       "output_type": "stream",
       "stream": "stdout",
       "text": [
        "136 "
       ]
      },
      {
       "output_type": "stream",
       "stream": "stdout",
       "text": [
        "137 "
       ]
      },
      {
       "output_type": "stream",
       "stream": "stdout",
       "text": [
        "138 "
       ]
      },
      {
       "output_type": "stream",
       "stream": "stdout",
       "text": [
        "139 "
       ]
      },
      {
       "output_type": "stream",
       "stream": "stdout",
       "text": [
        "140 "
       ]
      },
      {
       "output_type": "stream",
       "stream": "stdout",
       "text": [
        "141 "
       ]
      },
      {
       "output_type": "stream",
       "stream": "stdout",
       "text": [
        "142 "
       ]
      },
      {
       "output_type": "stream",
       "stream": "stdout",
       "text": [
        "143 "
       ]
      },
      {
       "output_type": "stream",
       "stream": "stdout",
       "text": [
        "144 "
       ]
      },
      {
       "output_type": "stream",
       "stream": "stdout",
       "text": [
        "145 "
       ]
      },
      {
       "output_type": "stream",
       "stream": "stdout",
       "text": [
        "146 "
       ]
      },
      {
       "output_type": "stream",
       "stream": "stdout",
       "text": [
        "147 "
       ]
      },
      {
       "output_type": "stream",
       "stream": "stdout",
       "text": [
        "148 "
       ]
      },
      {
       "output_type": "stream",
       "stream": "stdout",
       "text": [
        "149 "
       ]
      },
      {
       "output_type": "stream",
       "stream": "stdout",
       "text": [
        "150 "
       ]
      },
      {
       "output_type": "stream",
       "stream": "stdout",
       "text": [
        "151 "
       ]
      },
      {
       "output_type": "stream",
       "stream": "stdout",
       "text": [
        "152 "
       ]
      },
      {
       "output_type": "stream",
       "stream": "stdout",
       "text": [
        "153 "
       ]
      },
      {
       "output_type": "stream",
       "stream": "stdout",
       "text": [
        "154 "
       ]
      },
      {
       "output_type": "stream",
       "stream": "stdout",
       "text": [
        "155 "
       ]
      },
      {
       "output_type": "stream",
       "stream": "stdout",
       "text": [
        "156 "
       ]
      },
      {
       "output_type": "stream",
       "stream": "stdout",
       "text": [
        "157 "
       ]
      },
      {
       "output_type": "stream",
       "stream": "stdout",
       "text": [
        "158 "
       ]
      },
      {
       "output_type": "stream",
       "stream": "stdout",
       "text": [
        "159 "
       ]
      },
      {
       "output_type": "stream",
       "stream": "stdout",
       "text": [
        "160 "
       ]
      },
      {
       "output_type": "stream",
       "stream": "stdout",
       "text": [
        "161 "
       ]
      },
      {
       "output_type": "stream",
       "stream": "stdout",
       "text": [
        "162 "
       ]
      },
      {
       "output_type": "stream",
       "stream": "stdout",
       "text": [
        "163 "
       ]
      },
      {
       "output_type": "stream",
       "stream": "stdout",
       "text": [
        "164 "
       ]
      },
      {
       "output_type": "stream",
       "stream": "stdout",
       "text": [
        "165 "
       ]
      },
      {
       "output_type": "stream",
       "stream": "stdout",
       "text": [
        "166 "
       ]
      },
      {
       "output_type": "stream",
       "stream": "stdout",
       "text": [
        "167 "
       ]
      },
      {
       "output_type": "stream",
       "stream": "stdout",
       "text": [
        "168 "
       ]
      },
      {
       "output_type": "stream",
       "stream": "stdout",
       "text": [
        "169 "
       ]
      },
      {
       "output_type": "stream",
       "stream": "stdout",
       "text": [
        "170 "
       ]
      },
      {
       "output_type": "stream",
       "stream": "stdout",
       "text": [
        "171 "
       ]
      },
      {
       "output_type": "stream",
       "stream": "stdout",
       "text": [
        "172 "
       ]
      },
      {
       "output_type": "stream",
       "stream": "stdout",
       "text": [
        "173 "
       ]
      },
      {
       "output_type": "stream",
       "stream": "stdout",
       "text": [
        "174 "
       ]
      },
      {
       "output_type": "stream",
       "stream": "stdout",
       "text": [
        "175 "
       ]
      },
      {
       "output_type": "stream",
       "stream": "stdout",
       "text": [
        "176 "
       ]
      },
      {
       "output_type": "stream",
       "stream": "stdout",
       "text": [
        "177 "
       ]
      },
      {
       "output_type": "stream",
       "stream": "stdout",
       "text": [
        "178 "
       ]
      },
      {
       "output_type": "stream",
       "stream": "stdout",
       "text": [
        "179 "
       ]
      },
      {
       "output_type": "stream",
       "stream": "stdout",
       "text": [
        "180 "
       ]
      },
      {
       "output_type": "stream",
       "stream": "stdout",
       "text": [
        "181 "
       ]
      },
      {
       "output_type": "stream",
       "stream": "stdout",
       "text": [
        "182 "
       ]
      },
      {
       "output_type": "stream",
       "stream": "stdout",
       "text": [
        "183 "
       ]
      },
      {
       "output_type": "stream",
       "stream": "stdout",
       "text": [
        "184 "
       ]
      },
      {
       "output_type": "stream",
       "stream": "stdout",
       "text": [
        "185 "
       ]
      },
      {
       "output_type": "stream",
       "stream": "stdout",
       "text": [
        "186 "
       ]
      },
      {
       "output_type": "stream",
       "stream": "stdout",
       "text": [
        "187 "
       ]
      },
      {
       "output_type": "stream",
       "stream": "stdout",
       "text": [
        "188 "
       ]
      },
      {
       "output_type": "stream",
       "stream": "stdout",
       "text": [
        "189 "
       ]
      },
      {
       "output_type": "stream",
       "stream": "stdout",
       "text": [
        "190 "
       ]
      },
      {
       "output_type": "stream",
       "stream": "stdout",
       "text": [
        "191 "
       ]
      },
      {
       "output_type": "stream",
       "stream": "stdout",
       "text": [
        "192 "
       ]
      },
      {
       "output_type": "stream",
       "stream": "stdout",
       "text": [
        "193 "
       ]
      },
      {
       "output_type": "stream",
       "stream": "stdout",
       "text": [
        "194 "
       ]
      },
      {
       "output_type": "stream",
       "stream": "stdout",
       "text": [
        "195 "
       ]
      },
      {
       "output_type": "stream",
       "stream": "stdout",
       "text": [
        "196 "
       ]
      },
      {
       "output_type": "stream",
       "stream": "stdout",
       "text": [
        "197 "
       ]
      },
      {
       "output_type": "stream",
       "stream": "stdout",
       "text": [
        "198 "
       ]
      },
      {
       "output_type": "stream",
       "stream": "stdout",
       "text": [
        "199 "
       ]
      },
      {
       "output_type": "stream",
       "stream": "stdout",
       "text": [
        "200 "
       ]
      },
      {
       "output_type": "stream",
       "stream": "stdout",
       "text": [
        "201 "
       ]
      },
      {
       "output_type": "stream",
       "stream": "stdout",
       "text": [
        "202 "
       ]
      },
      {
       "output_type": "stream",
       "stream": "stdout",
       "text": [
        "203 "
       ]
      },
      {
       "output_type": "stream",
       "stream": "stdout",
       "text": [
        "204 "
       ]
      },
      {
       "output_type": "stream",
       "stream": "stdout",
       "text": [
        "205 "
       ]
      },
      {
       "output_type": "stream",
       "stream": "stdout",
       "text": [
        "206 "
       ]
      },
      {
       "output_type": "stream",
       "stream": "stdout",
       "text": [
        "207 "
       ]
      },
      {
       "output_type": "stream",
       "stream": "stdout",
       "text": [
        "208 "
       ]
      },
      {
       "output_type": "stream",
       "stream": "stdout",
       "text": [
        "209 "
       ]
      },
      {
       "output_type": "stream",
       "stream": "stdout",
       "text": [
        "210 "
       ]
      },
      {
       "output_type": "stream",
       "stream": "stdout",
       "text": [
        "211 "
       ]
      },
      {
       "output_type": "stream",
       "stream": "stdout",
       "text": [
        "212 "
       ]
      },
      {
       "output_type": "stream",
       "stream": "stdout",
       "text": [
        "213 "
       ]
      },
      {
       "output_type": "stream",
       "stream": "stdout",
       "text": [
        "214 "
       ]
      },
      {
       "output_type": "stream",
       "stream": "stdout",
       "text": [
        "215 "
       ]
      },
      {
       "output_type": "stream",
       "stream": "stdout",
       "text": [
        "216 "
       ]
      },
      {
       "output_type": "stream",
       "stream": "stdout",
       "text": [
        "217 "
       ]
      },
      {
       "output_type": "stream",
       "stream": "stdout",
       "text": [
        "218 "
       ]
      },
      {
       "output_type": "stream",
       "stream": "stdout",
       "text": [
        "219 "
       ]
      },
      {
       "output_type": "stream",
       "stream": "stdout",
       "text": [
        "220 "
       ]
      },
      {
       "output_type": "stream",
       "stream": "stdout",
       "text": [
        "221 "
       ]
      },
      {
       "output_type": "stream",
       "stream": "stdout",
       "text": [
        "222 "
       ]
      },
      {
       "output_type": "stream",
       "stream": "stdout",
       "text": [
        "223 "
       ]
      },
      {
       "output_type": "stream",
       "stream": "stdout",
       "text": [
        "224 "
       ]
      },
      {
       "output_type": "stream",
       "stream": "stdout",
       "text": [
        "225 "
       ]
      },
      {
       "output_type": "stream",
       "stream": "stdout",
       "text": [
        "226 "
       ]
      },
      {
       "output_type": "stream",
       "stream": "stdout",
       "text": [
        "227 "
       ]
      },
      {
       "output_type": "stream",
       "stream": "stdout",
       "text": [
        "228 "
       ]
      },
      {
       "output_type": "stream",
       "stream": "stdout",
       "text": [
        "229 "
       ]
      },
      {
       "output_type": "stream",
       "stream": "stdout",
       "text": [
        "230 "
       ]
      },
      {
       "output_type": "stream",
       "stream": "stdout",
       "text": [
        "231 "
       ]
      },
      {
       "output_type": "stream",
       "stream": "stdout",
       "text": [
        "232 "
       ]
      },
      {
       "output_type": "stream",
       "stream": "stdout",
       "text": [
        "233 "
       ]
      },
      {
       "output_type": "stream",
       "stream": "stdout",
       "text": [
        "234 "
       ]
      },
      {
       "output_type": "stream",
       "stream": "stdout",
       "text": [
        "235 "
       ]
      },
      {
       "output_type": "stream",
       "stream": "stdout",
       "text": [
        "236 "
       ]
      },
      {
       "output_type": "stream",
       "stream": "stdout",
       "text": [
        "237 "
       ]
      },
      {
       "output_type": "stream",
       "stream": "stdout",
       "text": [
        "238 "
       ]
      },
      {
       "output_type": "stream",
       "stream": "stdout",
       "text": [
        "239 "
       ]
      },
      {
       "output_type": "stream",
       "stream": "stdout",
       "text": [
        "240 "
       ]
      },
      {
       "output_type": "stream",
       "stream": "stdout",
       "text": [
        "241 "
       ]
      },
      {
       "output_type": "stream",
       "stream": "stdout",
       "text": [
        "242 "
       ]
      },
      {
       "output_type": "stream",
       "stream": "stdout",
       "text": [
        "243 "
       ]
      },
      {
       "output_type": "stream",
       "stream": "stdout",
       "text": [
        "244 "
       ]
      },
      {
       "output_type": "stream",
       "stream": "stdout",
       "text": [
        "245 "
       ]
      },
      {
       "output_type": "stream",
       "stream": "stdout",
       "text": [
        "246 "
       ]
      },
      {
       "output_type": "stream",
       "stream": "stdout",
       "text": [
        "247 "
       ]
      },
      {
       "output_type": "stream",
       "stream": "stdout",
       "text": [
        "248 "
       ]
      },
      {
       "output_type": "stream",
       "stream": "stdout",
       "text": [
        "249 "
       ]
      },
      {
       "output_type": "stream",
       "stream": "stdout",
       "text": [
        "250"
       ]
      },
      {
       "ename": "IndexError",
       "evalue": "index 0 is out of bounds for axis 0 with size 0",
       "output_type": "pyerr",
       "traceback": [
        "\u001b[0;31m---------------------------------------------------------------------------\u001b[0m\n\u001b[0;31mIndexError\u001b[0m                                Traceback (most recent call last)",
        "\u001b[0;32m<ipython-input-146-02ff8009dd1f>\u001b[0m in \u001b[0;36m<module>\u001b[0;34m()\u001b[0m\n\u001b[1;32m     19\u001b[0m     \u001b[0mx\u001b[0m \u001b[0;34m=\u001b[0m \u001b[0mnp\u001b[0m\u001b[0;34m.\u001b[0m\u001b[0marange\u001b[0m\u001b[0;34m(\u001b[0m\u001b[0;34m-\u001b[0m\u001b[0mhalfCCRange\u001b[0m\u001b[0;34m,\u001b[0m\u001b[0mhalfCCRange\u001b[0m\u001b[0;34m+\u001b[0m\u001b[0;36m1\u001b[0m\u001b[0;34m)\u001b[0m\u001b[0;34m\u001b[0m\u001b[0m\n\u001b[1;32m     20\u001b[0m \u001b[0;34m\u001b[0m\u001b[0m\n\u001b[0;32m---> 21\u001b[0;31m     \u001b[0mmaxIdx\u001b[0m \u001b[0;34m=\u001b[0m \u001b[0mnp\u001b[0m\u001b[0;34m.\u001b[0m\u001b[0mwhere\u001b[0m\u001b[0;34m(\u001b[0m\u001b[0my\u001b[0m\u001b[0;34m==\u001b[0m\u001b[0mnp\u001b[0m\u001b[0;34m.\u001b[0m\u001b[0mmax\u001b[0m\u001b[0;34m(\u001b[0m\u001b[0my\u001b[0m\u001b[0;34m)\u001b[0m\u001b[0;34m)\u001b[0m\u001b[0;34m[\u001b[0m\u001b[0;36m0\u001b[0m\u001b[0;34m]\u001b[0m\u001b[0;34m[\u001b[0m\u001b[0;36m0\u001b[0m\u001b[0;34m]\u001b[0m\u001b[0;34m\u001b[0m\u001b[0m\n\u001b[0m\u001b[1;32m     22\u001b[0m     \u001b[0mthisShift\u001b[0m \u001b[0;34m=\u001b[0m \u001b[0mx\u001b[0m\u001b[0;34m[\u001b[0m\u001b[0mmaxIdx\u001b[0m\u001b[0;34m]\u001b[0m\u001b[0;34m\u001b[0m\u001b[0m\n\u001b[1;32m     23\u001b[0m \u001b[0;34m\u001b[0m\u001b[0m\n",
        "\u001b[0;31mIndexError\u001b[0m: index 0 is out of bounds for axis 0 with size 0"
       ]
      }
     ],
     "prompt_number": 146
    },
    {
     "cell_type": "code",
     "collapsed": false,
     "input": [
      "# np.savetxt('HD1581_1_42.txt',np.vstack((wlSolutions[170], extracted_obj[170])).transpose())\n",
      "# np.savetxt('ThXe_1_42.txt',np.vstack((wlSolutions[170], extracted_arc[170])).transpose())\n",
      "\n",
      "# np.savetxt('HD1581_1_43.txt',np.vstack((wlSolutions[170], extracted_obj[170])).transpose())\n",
      "# np.savetxt('ThXe_1_43.txt',np.vstack((wlSolutions[170], extracted_arc[170])).transpose())\n",
      "\n",
      "# np.savetxt('HD1581_2_37.txt',np.vstack((wlSolutions[170], extracted_obj[170])).transpose())\n",
      "# np.savetxt('ThXe_2_37.txt',np.vstack((wlSolutions[170], extracted_arc[170])).transpose())\n",
      "\n",
      "# np.savetxt('HD1581_2_38.txt',np.vstack((wlSolutions[170], extracted_obj[170])).transpose())\n",
      "# np.savetxt('ThXe_2_38.txt',np.vstack((wlSolutions[170], extracted_arc[170])).transpose())\n",
      "\n",
      "# np.savetxt('HD1581_3_59.txt',np.vstack((wlSolutions[170], extracted_obj[170])).transpose())\n",
      "# np.savetxt('ThXe_3_59.txt',np.vstack((wlSolutions[170], extracted_arc[170])).transpose())\n",
      "\n",
      "# np.savetxt('HD1581_3_60.txt',np.vstack((wlSolutions[170], extracted_obj[170])).transpose())\n",
      "# np.savetxt('ThXe_3_60.txt',np.vstack((wlSolutions[170], extracted_arc[170])).transpose())\n",
      "\n",
      "# np.savetxt('HD1581_3_61.txt',np.vstack((wlSolutions[170], extracted_obj[170])).transpose())\n",
      "# np.savetxt('ThXe_3_61.txt',np.vstack((wlSolutions[170], extracted_arc[170])).transpose())\n",
      "\n",
      "# np.savetxt('HD1581_3_62.txt',np.vstack((wlSolutions[170], extracted_obj[170])).transpose())\n",
      "# np.savetxt('ThXe_3_62.txt',np.vstack((wlSolutions[170], extracted_arc[170])).transpose())\n",
      "\n",
      "# np.savetxt('HD1581_4.txt',np.vstack((wlSolutions[170], extracted_obj[170])).transpose())\n",
      "# np.savetxt('ThXe_4.txt',np.vstack((wlSolutions[170], extracted_arc[170])).transpose())\n",
      "\n",
      "# np.savetxt('HD1581_4_45.txt',np.vstack((wlSolutions[170], extracted_obj[170])).transpose())\n",
      "# np.savetxt('ThXe_4_45.txt',np.vstack((wlSolutions[170], extracted_arc[170])).transpose())\n",
      "\n",
      "np.savetxt('HD1581_4_46.txt',np.vstack((wlSolutions[170], extracted_obj[170])).transpose())\n",
      "np.savetxt('ThXe_4_46.txt',np.vstack((wlSolutions[170], extracted_arc[170])).transpose())\n"
     ],
     "language": "python",
     "metadata": {},
     "outputs": [
      {
       "output_type": "stream",
       "stream": "stdout",
       "text": [
        "\n"
       ]
      }
     ],
     "prompt_number": 147
    },
    {
     "cell_type": "code",
     "collapsed": false,
     "input": [],
     "language": "python",
     "metadata": {},
     "outputs": []
    }
   ],
   "metadata": {}
  }
 ]
}