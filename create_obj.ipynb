{
 "metadata": {
  "name": ""
 },
 "nbformat": 3,
 "nbformat_minor": 0,
 "worksheets": [
  {
   "cells": [
    {
     "cell_type": "code",
     "collapsed": false,
     "input": [
      "import glob\n",
      "import os\n",
      "import numpy as np\n",
      "import pyfits as pf\n",
      "# from scipy import signal, interpolate, optimize, constants\n",
      "# import pylab as plt\n",
      "import pickle\n",
      "import TableBrowser as tb\n",
      "import toolbox\n",
      "import pandas\n"
     ],
     "language": "python",
     "metadata": {},
     "outputs": [],
     "prompt_number": 1
    },
    {
     "cell_type": "code",
     "collapsed": false,
     "input": [
      "# os.chdir('/Users/Carlos/Documents/HERMES/reductions/rhoTuc_long/combined/')\n",
      "os.chdir('/Users/Carlos/Documents/HERMES/reductions/HD285507_single_arc_5.76/combined/')"
     ],
     "language": "python",
     "metadata": {},
     "outputs": [],
     "prompt_number": 2
    },
    {
     "cell_type": "code",
     "collapsed": false,
     "input": [
      "class star():\n",
      "    \n",
      "    name = ''\n",
      "    RA_dec = 0\n",
      "    Dec_dec = 0\n",
      "    Vmag = 0\n",
      "    \n",
      "    def __init__(self, name):\n",
      "        self.load_star_data(name = name)\n",
      "        \n",
      "        \n",
      "    def load_star_data(self, name):\n",
      "        \n",
      "#         stetson_df = pandas.read_pickle('stetson.pd')\n",
      "        files = glob.glob('cam1/*.fits')\n",
      "        for thisFile in files:\n",
      "            a = pf.open(thisFile)\n",
      "            b = a['FIBRES'].data\n",
      "            idx = b.field('NAME').strip()==name\n",
      "            \n",
      "            if b[idx].shape[0] >0:\n",
      "                starInfo = b[idx][0]\n",
      "                \n",
      "                self.name = starInfo.field('NAME').strip()\n",
      "                self.RA_dec = starInfo.field('RA')\n",
      "                self.Dec_dec = starInfo.field('DEC')        \n",
      "                self.RA_h, self.RA_min, self.RA_sec = toolbox.dec2sex(self.RA_dec/15)   \n",
      "                self.Dec_deg, self.Dec_min, self.Dec_sec = toolbox.dec2sex(self.Dec_dec)\n",
      "                self.Vmag = starInfo.field('MAGNITUDE')\n",
      "            \n",
      "#                 self.B = stetson_df[stetson_df.target == self.name].B.values[0]\n",
      "#                 self.I = stetson_df[stetson_df.target == self.name].I.values[0]\n",
      "#                 self.R = stetson_df[stetson_df.target == self.name].R.values[0]\n",
      "#                 self.U = stetson_df[stetson_df.target == self.name].U.values[0]\n",
      "#                 self.V = stetson_df[stetson_df.target == self.name].mag.values[0]\n",
      "#                 self.BV = stetson_df[stetson_df.target == self.name].BV.values[0]\n",
      "                print self.name,'star created'\n",
      "                break\n",
      "                \n"
     ],
     "language": "python",
     "metadata": {},
     "outputs": [],
     "prompt_number": 3
    },
    {
     "cell_type": "code",
     "collapsed": false,
     "input": [
      "class camera():\n",
      "    \n",
      "    red_fluxes =  []\n",
      "    wavelengths = []\n",
      "    CCCurves = []\n",
      "    clean_fluxes = []\n",
      "    clean_wavelengths  = []\n",
      "    Ps = []\n",
      "    shfted_wavelengths = []\n",
      "    sigmas = []\n",
      "    RVs = []\n",
      "    fileNames = []\n",
      "    safe_flag = []\n",
      "    \n",
      "    def __init__(self):\n",
      "        self.red_fluxes =  []\n",
      "        self.wavelengths = []\n",
      "        self.CCCurves = []\n",
      "        self.clean_fluxes = []\n",
      "        self.clean_wavelengths  = []\n",
      "        self.Ps = []\n",
      "        self.shfted_wavelengths = []\n",
      "        self.sigmas = []\n",
      "        self.RVs = []\n",
      "        self.fileNames = []\n",
      "        self.safe_flag = []\n",
      "        \n",
      "        "
     ],
     "language": "python",
     "metadata": {},
     "outputs": [],
     "prompt_number": 4
    },
    {
     "cell_type": "code",
     "collapsed": false,
     "input": [
      "class exposures():\n",
      "\n",
      "    def __init__(self):\n",
      "        self.UTdates = []\n",
      "        self.UTstarts = []\n",
      "        self.UTends = []\n",
      "        self.lengths = []\n",
      "        self.JDs = []\n",
      "        self.HRs = []\n",
      "        self.plates = []\n",
      "        self.pivots = []\n",
      "        a = camera()\n",
      "        b = camera()\n",
      "        c = camera()\n",
      "        d = camera()\n",
      "        self.cameras = np.array([a,b,c,d])\n",
      "        \n",
      "    def load_exposures(self, name):\n",
      "\n",
      "        for camIdx in range(4):\n",
      "            files = glob.glob('cam'+str(camIdx+1)+'/*.fits')\n",
      "            thisCam = self.cameras[camIdx]\n",
      "            for thisFile in files:    \n",
      "                HDUList = pf.open(thisFile)\n",
      "                fibreTable = HDUList['FIBRES'].data            \n",
      "                idx = fibreTable.field('NAME').strip()==name\n",
      "\n",
      "                if np.sum(idx)>0:  #star found in fits file \n",
      "                    if camIdx == 0: #one time per exposure (because they are equal in all cameras)\n",
      "                        self.UTdates.append(HDUList[0].header['UTDATE'])\n",
      "                        self.UTstarts.append(HDUList[0].header['UTSTART'])\n",
      "                        self.UTends.append(HDUList[0].header['UTEND'])\n",
      "                        try:self.lengths.append(HDUList[0].header['EXPOSED'])\n",
      "                        except: self.lengths.append(0)\n",
      "                        self.JDs.append(HDUList[0].header['UTMJD'])\n",
      "                        self.plates.append(HDUList[0].header['SOURCE'])\n",
      "                        self.pivots.append(fibreTable.field('PIVOT')[idx][0])\n",
      "                        if HDUList[0].header['SLITMASK'].strip()=='OUT':\n",
      "                            self.HRs.append(False)\n",
      "                        else:\n",
      "                            self.HRs.append(True)\n",
      "                    thisCam.red_fluxes.append(HDUList[0].data[idx][0])\n",
      "                    thisCam.wavelengths.append(self.extract_HERMES_wavelength(HDUList[0].header))\n",
      "                    thisCam.fileNames.append(thisFile.split('/')[-1])\n",
      "                    \n",
      "                        \n",
      "\n",
      "            sortOrder = np.argsort(self.JDs)\n",
      "            self.UTdates = np.array(self.UTdates)[sortOrder]\n",
      "            self.UTstarts = np.array(self.UTstarts)[sortOrder]\n",
      "            self.UTends = np.array(self.UTends)[sortOrder]\n",
      "            self.lengths = np.array(self.lengths)[sortOrder]\n",
      "            self.JDs = np.array(self.JDs)[sortOrder]\n",
      "            self.HRs = np.array(self.HRs)[sortOrder]\n",
      "            self.plates = np.array(self.plates)[sortOrder]\n",
      "            self.pivots = np.array(self.pivots)[sortOrder]\n",
      "\n",
      "            thisCam.red_fluxes = np.array(thisCam.red_fluxes)[sortOrder]\n",
      "            thisCam.wavelengths = np.array(thisCam.wavelengths)[sortOrder]\n",
      "            thisCam.fileNames = np.array(thisCam.fileNames)[sortOrder]\n",
      "#             self.UTdates = np.array(self.UTdates)\n",
      "#             self.UTstarts = np.array(self.UTstarts)\n",
      "#             self.UTends = np.array(self.UTends)\n",
      "#             self.lengths = np.array(self.lengths)\n",
      "#             self.JDs = np.array(self.JDs)\n",
      "#             self.HRs = np.array(self.HRs)\n",
      "#             self.plates = np.array(self.plates)\n",
      "#             self.pivots = np.array(self.pivots)\n",
      "#             thisCam.red_fluxes = np.array(thisCam.red_fluxes)\n",
      "#             thisCam.wavelengths = np.array(thisCam.wavelengths)\n",
      "#             thisCam.fileNames = np.array(thisCam.fileNames)\n",
      "            thisCam.safe_flag = np.ones(len(thisCam.fileNames)).astype(bool)\n",
      "\n",
      "\n",
      "            \n",
      "    def extract_HERMES_wavelength(self, header):\n",
      "        \n",
      "        CRVAL1 = header['CRVAL1'] # / Co-ordinate value of axis 1                    \n",
      "        CDELT1 = header['CDELT1'] #  / Co-ordinate increment along axis 1             \n",
      "        CRPIX1 = header['CRPIX1'] #  / Reference pixel along axis 1                   \n",
      "        \n",
      "        #Creates an array of offset wavelength from the referece px/wavelength\n",
      "        Lambda = CRVAL1 - (CRPIX1 - (np.arange(int(CRPIX1)*2)) -1)* CDELT1\n",
      "    \n",
      "        return Lambda\n",
      "\n",
      "    \n",
      "    def calculate_baryVels(self, star):\n",
      "        baryVels = []\n",
      "        for j in self.JDs:\n",
      "            vh, vb = toolbox.baryvel(j+2400000+0.5) \n",
      "            ra = star.RA_dec    #RA  in radians\n",
      "            dec = star.Dec_dec  #Dec in radians\n",
      "            baryVels.append(-(vb[0]*np.cos(dec)*np.cos(ra) + vb[1]*np.cos(dec)*np.sin(ra) + vb[2]*np.sin(dec))*1000)\n",
      "#         print baryVels\n",
      "        self.rel_baryVels = np.array(baryVels) - baryVels[0]\n",
      "        self.abs_baryVels = np.array(baryVels)\n",
      "\n",
      "        \n"
     ],
     "language": "python",
     "metadata": {},
     "outputs": [],
     "prompt_number": 39
    },
    {
     "cell_type": "code",
     "collapsed": false,
     "input": [
      "thisStar = star('Giant02')\n",
      "thisStar.exposures = exposures()\n",
      "thisStar.exposures.load_exposures(thisStar.name)\n",
      "thisStar.exposures.calculate_baryVels(thisStar)\n",
      "# file_pi = open(i+'.obj', 'w') \n",
      "# pickle.dump(thisStar, file_pi) \n",
      "# file_pi.close()"
     ],
     "language": "python",
     "metadata": {},
     "outputs": [
      {
       "output_type": "stream",
       "stream": "stdout",
       "text": [
        "Giant02 star created\n"
       ]
      }
     ],
     "prompt_number": 50
    },
    {
     "cell_type": "code",
     "collapsed": false,
     "input": [
      "thisCam = thisStar.exposures.cameras[1]"
     ],
     "language": "python",
     "metadata": {},
     "outputs": [],
     "prompt_number": 55
    },
    {
     "cell_type": "code",
     "collapsed": false,
     "input": [
      "thisCam.red_fluxes"
     ],
     "language": "python",
     "metadata": {},
     "outputs": [
      {
       "metadata": {},
       "output_type": "pyout",
       "prompt_number": 56,
       "text": [
        "array([[  624.02990723,   655.54571533,   566.63635254, ...,\n",
        "                   nan,            nan,            nan],\n",
        "       [ 1229.49621582,  1171.23522949,  1146.23181152, ...,\n",
        "                   nan,            nan,            nan],\n",
        "       [  617.56542969,   588.10925293,   570.324646  , ...,\n",
        "                   nan,            nan,            nan],\n",
        "       [ 1654.73962402,  1566.22949219,  1537.47729492, ...,\n",
        "                   nan,            nan,            nan],\n",
        "       [ 1150.68945312,  1131.14526367,  1134.56091309, ...,\n",
        "                   nan,            nan,            nan]], dtype=float32)"
       ]
      }
     ],
     "prompt_number": 56
    },
    {
     "cell_type": "code",
     "collapsed": false,
     "input": [
      "import pylab as plt\n",
      "for i in range(5):\n",
      "    plt.plot(thisCam.red_fluxes[i]/np.nanmean(thisCam.red_fluxes[i]), label=i)\n",
      "plt.legend(loc=0)\n",
      "plt.show()"
     ],
     "language": "python",
     "metadata": {},
     "outputs": [],
     "prompt_number": 53
    },
    {
     "cell_type": "code",
     "collapsed": false,
     "input": [
      "a =tb.FibreTable('cam1/20aug1_combined.fits')\n",
      "starNames=a.target[a.type=='P']"
     ],
     "language": "python",
     "metadata": {},
     "outputs": [],
     "prompt_number": 20
    },
    {
     "cell_type": "code",
     "collapsed": false,
     "input": [
      "len(starNames)"
     ],
     "language": "python",
     "metadata": {},
     "outputs": [
      {
       "metadata": {},
       "output_type": "pyout",
       "prompt_number": 21,
       "text": [
        "74"
       ]
      }
     ],
     "prompt_number": 21
    },
    {
     "cell_type": "code",
     "collapsed": false,
     "input": [
      "for i in starNames:\n",
      "    thisStar = star(i)\n",
      "    thisStar.exposures = exposures()\n",
      "    thisStar.exposures.load_exposures(thisStar.name)\n",
      "    thisStar.exposures.calculate_baryVels(thisStar)\n",
      "    file_pi = open(i+'.obj', 'w') \n",
      "    pickle.dump(thisStar, file_pi) \n",
      "    file_pi.close()"
     ],
     "language": "python",
     "metadata": {},
     "outputs": [
      {
       "output_type": "stream",
       "stream": "stdout",
       "text": [
        "Field32 star created\n",
        "Giant35"
       ]
      },
      {
       "output_type": "stream",
       "stream": "stdout",
       "text": [
        " star created\n",
        "Giant28"
       ]
      },
      {
       "output_type": "stream",
       "stream": "stdout",
       "text": [
        " star created\n",
        "Giant12"
       ]
      },
      {
       "output_type": "stream",
       "stream": "stdout",
       "text": [
        " star created\n",
        "Giant16"
       ]
      },
      {
       "output_type": "stream",
       "stream": "stdout",
       "text": [
        " star created\n",
        "Giant08"
       ]
      },
      {
       "output_type": "stream",
       "stream": "stdout",
       "text": [
        " star created\n",
        "Field05"
       ]
      },
      {
       "output_type": "stream",
       "stream": "stdout",
       "text": [
        " star created\n",
        "Field16"
       ]
      },
      {
       "output_type": "stream",
       "stream": "stdout",
       "text": [
        " star created\n",
        "Giant02"
       ]
      },
      {
       "output_type": "stream",
       "stream": "stdout",
       "text": [
        " star created\n",
        "Field34"
       ]
      },
      {
       "output_type": "stream",
       "stream": "stdout",
       "text": [
        " star created\n",
        "Field24"
       ]
      },
      {
       "output_type": "stream",
       "stream": "stdout",
       "text": [
        " star created\n",
        "Giant10"
       ]
      },
      {
       "output_type": "stream",
       "stream": "stdout",
       "text": [
        " star created\n",
        "Field28"
       ]
      },
      {
       "output_type": "stream",
       "stream": "stdout",
       "text": [
        " star created\n",
        "Giant36"
       ]
      },
      {
       "output_type": "stream",
       "stream": "stdout",
       "text": [
        " star created\n",
        "Field08"
       ]
      },
      {
       "output_type": "stream",
       "stream": "stdout",
       "text": [
        " star created\n",
        "Giant13"
       ]
      },
      {
       "output_type": "stream",
       "stream": "stdout",
       "text": [
        " star created\n",
        "Field36"
       ]
      },
      {
       "output_type": "stream",
       "stream": "stdout",
       "text": [
        " star created\n",
        "Field38"
       ]
      },
      {
       "output_type": "stream",
       "stream": "stdout",
       "text": [
        " star created\n",
        "Field39"
       ]
      },
      {
       "output_type": "stream",
       "stream": "stdout",
       "text": [
        " star created\n",
        "Field11"
       ]
      },
      {
       "output_type": "stream",
       "stream": "stdout",
       "text": [
        " star created\n",
        "Giant24"
       ]
      },
      {
       "output_type": "stream",
       "stream": "stdout",
       "text": [
        " star created\n",
        "Giant03"
       ]
      },
      {
       "output_type": "stream",
       "stream": "stdout",
       "text": [
        " star created\n",
        "Giant33"
       ]
      },
      {
       "output_type": "stream",
       "stream": "stdout",
       "text": [
        " star created\n",
        "Field02"
       ]
      },
      {
       "output_type": "stream",
       "stream": "stdout",
       "text": [
        " star created\n",
        "Giant18"
       ]
      },
      {
       "output_type": "stream",
       "stream": "stdout",
       "text": [
        " star created\n",
        "Giant29"
       ]
      },
      {
       "output_type": "stream",
       "stream": "stdout",
       "text": [
        " star created\n",
        "Field06"
       ]
      },
      {
       "output_type": "stream",
       "stream": "stdout",
       "text": [
        " star created\n",
        "Field15"
       ]
      },
      {
       "output_type": "stream",
       "stream": "stdout",
       "text": [
        " star created\n",
        "Giant31"
       ]
      },
      {
       "output_type": "stream",
       "stream": "stdout",
       "text": [
        " star created\n",
        "Giant26"
       ]
      },
      {
       "output_type": "stream",
       "stream": "stdout",
       "text": [
        " star created\n",
        "Giant38"
       ]
      },
      {
       "output_type": "stream",
       "stream": "stdout",
       "text": [
        " star created\n",
        "Field03"
       ]
      },
      {
       "output_type": "stream",
       "stream": "stdout",
       "text": [
        " star created\n",
        "Giant27"
       ]
      },
      {
       "output_type": "stream",
       "stream": "stdout",
       "text": [
        " star created\n",
        "Field23"
       ]
      },
      {
       "output_type": "stream",
       "stream": "stdout",
       "text": [
        " star created\n",
        "Field21"
       ]
      },
      {
       "output_type": "stream",
       "stream": "stdout",
       "text": [
        " star created\n",
        "Field40"
       ]
      },
      {
       "output_type": "stream",
       "stream": "stdout",
       "text": [
        " star created\n",
        "Field25"
       ]
      },
      {
       "output_type": "stream",
       "stream": "stdout",
       "text": [
        " star created\n",
        "Giant25"
       ]
      },
      {
       "output_type": "stream",
       "stream": "stdout",
       "text": [
        " star created\n",
        "Giant30"
       ]
      },
      {
       "output_type": "stream",
       "stream": "stdout",
       "text": [
        " star created\n",
        "Giant37"
       ]
      },
      {
       "output_type": "stream",
       "stream": "stdout",
       "text": [
        " star created\n",
        "Giant14"
       ]
      },
      {
       "output_type": "stream",
       "stream": "stdout",
       "text": [
        " star created\n",
        "Giant04"
       ]
      },
      {
       "output_type": "stream",
       "stream": "stdout",
       "text": [
        " star created\n",
        "Giant05"
       ]
      },
      {
       "output_type": "stream",
       "stream": "stdout",
       "text": [
        " star created\n",
        "Field14"
       ]
      },
      {
       "output_type": "stream",
       "stream": "stdout",
       "text": [
        " star created\n",
        "Giant01"
       ]
      },
      {
       "output_type": "stream",
       "stream": "stdout",
       "text": [
        " star created\n",
        "Giant34"
       ]
      },
      {
       "output_type": "stream",
       "stream": "stdout",
       "text": [
        " star created\n",
        "Field07"
       ]
      },
      {
       "output_type": "stream",
       "stream": "stdout",
       "text": [
        " star created\n",
        "Field13"
       ]
      },
      {
       "output_type": "stream",
       "stream": "stdout",
       "text": [
        " star created\n",
        "Giant17"
       ]
      },
      {
       "output_type": "stream",
       "stream": "stdout",
       "text": [
        " star created\n",
        "Field18"
       ]
      },
      {
       "output_type": "stream",
       "stream": "stdout",
       "text": [
        " star created\n",
        "Giant09"
       ]
      },
      {
       "output_type": "stream",
       "stream": "stdout",
       "text": [
        " star created\n",
        "Giant06"
       ]
      },
      {
       "output_type": "stream",
       "stream": "stdout",
       "text": [
        " star created\n",
        "Field09"
       ]
      },
      {
       "output_type": "stream",
       "stream": "stdout",
       "text": [
        " star created\n",
        "Giant32"
       ]
      },
      {
       "output_type": "stream",
       "stream": "stdout",
       "text": [
        " star created\n",
        "Field17"
       ]
      },
      {
       "output_type": "stream",
       "stream": "stdout",
       "text": [
        " star created\n",
        "Field30"
       ]
      },
      {
       "output_type": "stream",
       "stream": "stdout",
       "text": [
        " star created\n",
        "Field12"
       ]
      },
      {
       "output_type": "stream",
       "stream": "stdout",
       "text": [
        " star created\n",
        "Field27"
       ]
      },
      {
       "output_type": "stream",
       "stream": "stdout",
       "text": [
        " star created\n",
        "Giant22"
       ]
      },
      {
       "output_type": "stream",
       "stream": "stdout",
       "text": [
        " star created\n",
        "Giant15"
       ]
      },
      {
       "output_type": "stream",
       "stream": "stdout",
       "text": [
        " star created\n",
        "Field04"
       ]
      },
      {
       "output_type": "stream",
       "stream": "stdout",
       "text": [
        " star created\n",
        "Giant11"
       ]
      },
      {
       "output_type": "stream",
       "stream": "stdout",
       "text": [
        " star created\n",
        "Giant19"
       ]
      },
      {
       "output_type": "stream",
       "stream": "stdout",
       "text": [
        " star created\n",
        "Field19"
       ]
      },
      {
       "output_type": "stream",
       "stream": "stdout",
       "text": [
        " star created\n",
        "Field33"
       ]
      },
      {
       "output_type": "stream",
       "stream": "stdout",
       "text": [
        " star created\n",
        "Field22"
       ]
      },
      {
       "output_type": "stream",
       "stream": "stdout",
       "text": [
        " star created\n",
        "Field37"
       ]
      },
      {
       "output_type": "stream",
       "stream": "stdout",
       "text": [
        " star created\n",
        "Giant21"
       ]
      },
      {
       "output_type": "stream",
       "stream": "stdout",
       "text": [
        " star created\n",
        "Field41"
       ]
      },
      {
       "output_type": "stream",
       "stream": "stdout",
       "text": [
        " star created\n",
        "Giant23"
       ]
      },
      {
       "output_type": "stream",
       "stream": "stdout",
       "text": [
        " star created\n",
        "Field31"
       ]
      },
      {
       "output_type": "stream",
       "stream": "stdout",
       "text": [
        " star created\n",
        "Field35"
       ]
      },
      {
       "output_type": "stream",
       "stream": "stdout",
       "text": [
        " star created\n",
        "Field42"
       ]
      },
      {
       "output_type": "stream",
       "stream": "stdout",
       "text": [
        " star created\n",
        "Giant20"
       ]
      },
      {
       "output_type": "stream",
       "stream": "stdout",
       "text": [
        " star created\n"
       ]
      }
     ],
     "prompt_number": 54
    },
    {
     "cell_type": "code",
     "collapsed": false,
     "input": [],
     "language": "python",
     "metadata": {},
     "outputs": []
    }
   ],
   "metadata": {}
  }
 ]
}