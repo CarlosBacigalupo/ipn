{
 "metadata": {
  "name": "",
  "signature": "sha256:6fe137f2521dfe5cd8a0cdab573202cfacf2f6e85cdab846426b19ecedfc5463"
 },
 "nbformat": 3,
 "nbformat_minor": 0,
 "worksheets": [
  {
   "cells": [
    {
     "cell_type": "code",
     "collapsed": false,
     "input": [
      "import numpy as np\n",
      "import pandas as pd"
     ],
     "language": "python",
     "metadata": {},
     "outputs": [],
     "prompt_number": 3
    },
    {
     "cell_type": "code",
     "collapsed": false,
     "input": [
      "def f1(x):\n",
      "    return '%5.2f' % x"
     ],
     "language": "python",
     "metadata": {},
     "outputs": [],
     "prompt_number": 8
    },
    {
     "cell_type": "heading",
     "level": 3,
     "metadata": {},
     "source": [
      "47tuc"
     ]
    },
    {
     "cell_type": "code",
     "collapsed": false,
     "input": [
      "cd ~/Documents/HERMES/reductions/47Tuc_core_6.2/npy"
     ],
     "language": "python",
     "metadata": {},
     "outputs": [
      {
       "output_type": "stream",
       "stream": "stdout",
       "text": [
        "/Users/Carlos/Documents/HERMES/reductions/47Tuc_core_6.2/npy\n"
       ]
      }
     ],
     "prompt_number": 19
    },
    {
     "cell_type": "code",
     "collapsed": false,
     "input": [
      "cd ~/Documents/HERMES/reductions/47Tuc_core_6.2/npy_150509/"
     ],
     "language": "python",
     "metadata": {},
     "outputs": [
      {
       "output_type": "stream",
       "stream": "stdout",
       "text": [
        "/Users/Carlos/Documents/HERMES/reductions/47Tuc_core_6.2/npy_150509\n"
       ]
      }
     ],
     "prompt_number": 22
    },
    {
     "cell_type": "code",
     "collapsed": false,
     "input": [
      "cd ~/Documents/HERMES/reductions/47Tuc_core_1arc_6.2/npy/"
     ],
     "language": "python",
     "metadata": {},
     "outputs": [
      {
       "output_type": "stream",
       "stream": "stdout",
       "text": [
        "/Users/Carlos/Documents/HERMES/reductions/47Tuc_core_1arc_6.2/npy\n"
       ]
      }
     ],
     "prompt_number": 39
    },
    {
     "cell_type": "code",
     "collapsed": false,
     "input": [
      "cd ~/Documents/HERMES/reductions/47Tuc_core_1arc_6.2/npy_150509/"
     ],
     "language": "python",
     "metadata": {},
     "outputs": [
      {
       "output_type": "stream",
       "stream": "stdout",
       "text": [
        "/Users/Carlos/Documents/HERMES/reductions/47Tuc_core_1arc_6.2/npy_150509\n"
       ]
      }
     ],
     "prompt_number": 36
    },
    {
     "cell_type": "heading",
     "level": 3,
     "metadata": {},
     "source": [
      "HD1581"
     ]
    },
    {
     "cell_type": "code",
     "collapsed": false,
     "input": [
      "cd ~/Documents/HERMES/reductions/HD1581_6.2/npy/"
     ],
     "language": "python",
     "metadata": {},
     "outputs": [
      {
       "output_type": "stream",
       "stream": "stdout",
       "text": [
        "/Users/Carlos/Documents/HERMES/reductions/HD1581_6.2/npy\n"
       ]
      }
     ],
     "prompt_number": 35
    },
    {
     "cell_type": "heading",
     "level": 3,
     "metadata": {},
     "source": [
      "HD285507"
     ]
    },
    {
     "cell_type": "code",
     "collapsed": false,
     "input": [
      "cd ~/Documents/HERMES/reductions/HD285507_6.2/npy_150509/"
     ],
     "language": "python",
     "metadata": {},
     "outputs": [
      {
       "output_type": "stream",
       "stream": "stdout",
       "text": [
        "/Users/Carlos/Documents/HERMES/reductions/HD285507_6.2/npy_150509\n"
       ]
      }
     ],
     "prompt_number": 150
    },
    {
     "cell_type": "code",
     "collapsed": false,
     "input": [
      "cd ~/Documents/HERMES/reductions/HD285507_6.2/npy/"
     ],
     "language": "python",
     "metadata": {},
     "outputs": []
    },
    {
     "cell_type": "code",
     "collapsed": false,
     "input": [
      "cd ~/Documents/HERMES/reductions/HD285507_1arc_6.2/npy_150509/"
     ],
     "language": "python",
     "metadata": {},
     "outputs": [
      {
       "output_type": "stream",
       "stream": "stdout",
       "text": [
        "/Users/Carlos/Documents/HERMES/reductions/HD285507_1arc_6.2/npy_150509\n"
       ]
      }
     ],
     "prompt_number": 1
    },
    {
     "cell_type": "code",
     "collapsed": false,
     "input": [
      "cd ~/Documents/HERMES/reductions/HD285507_1arc_6.2/npy/"
     ],
     "language": "python",
     "metadata": {},
     "outputs": [
      {
       "output_type": "stream",
       "stream": "stdout",
       "text": [
        "/Users/Carlos/Documents/HERMES/reductions/HD285507_1arc_6.2/npy\n"
       ]
      }
     ],
     "prompt_number": 8
    },
    {
     "cell_type": "heading",
     "level": 3,
     "metadata": {},
     "source": [
      "m67"
     ]
    },
    {
     "cell_type": "code",
     "collapsed": false,
     "input": [
      "cd ~/Documents/HERMES/reductions/m67_6.2/npy"
     ],
     "language": "python",
     "metadata": {},
     "outputs": [
      {
       "output_type": "stream",
       "stream": "stdout",
       "text": [
        "/Users/Carlos/Documents/HERMES/reductions/m67_6.2/npy\n"
       ]
      }
     ],
     "prompt_number": 144
    },
    {
     "cell_type": "code",
     "collapsed": false,
     "input": [
      "cd ~/Documents/HERMES/reductions/m67_6.2/npy_raw/"
     ],
     "language": "python",
     "metadata": {},
     "outputs": [
      {
       "output_type": "stream",
       "stream": "stdout",
       "text": [
        "/Users/Carlos/Documents/HERMES/reductions/m67_6.2/npy_raw\n"
       ]
      }
     ],
     "prompt_number": 147
    },
    {
     "cell_type": "code",
     "collapsed": false,
     "input": [
      "cd ~/Documents/HERMES/reductions/m67_1arc_6.2/"
     ],
     "language": "python",
     "metadata": {},
     "outputs": []
    },
    {
     "cell_type": "heading",
     "level": 3,
     "metadata": {},
     "source": [
      "NGC2477"
     ]
    },
    {
     "cell_type": "code",
     "collapsed": false,
     "input": [
      "cd ~/Documents/HERMES/reductions/NGC2477_6.2/npy"
     ],
     "language": "python",
     "metadata": {},
     "outputs": [
      {
       "output_type": "stream",
       "stream": "stdout",
       "text": [
        "/Users/Carlos/Documents/HERMES/reductions/NGC2477_6.2/npy\n"
       ]
      }
     ],
     "prompt_number": 137
    },
    {
     "cell_type": "code",
     "collapsed": false,
     "input": [
      "cd ~/Documents/HERMES/reductions/NGC2477_6.2/npy_150509/"
     ],
     "language": "python",
     "metadata": {},
     "outputs": [
      {
       "output_type": "stream",
       "stream": "stdout",
       "text": [
        "/Users/Carlos/Documents/HERMES/reductions/NGC2477_6.2/npy_150509\n"
       ]
      }
     ],
     "prompt_number": 138
    },
    {
     "cell_type": "code",
     "collapsed": false,
     "input": [
      "cd ~/Documents/HERMES/reductions/NGC2477_1arc_6.2/"
     ],
     "language": "python",
     "metadata": {},
     "outputs": [],
     "prompt_number": 15
    },
    {
     "cell_type": "heading",
     "level": 3,
     "metadata": {},
     "source": [
      "rhoTuc"
     ]
    },
    {
     "cell_type": "code",
     "collapsed": false,
     "input": [
      "cd ~/Documents/HERMES/reductions/rhoTuc_6.2/npy"
     ],
     "language": "python",
     "metadata": {},
     "outputs": [
      {
       "output_type": "stream",
       "stream": "stdout",
       "text": [
        "/Users/Carlos/Documents/HERMES/reductions/rhoTuc_6.2/npy\n"
       ]
      }
     ],
     "prompt_number": 43
    },
    {
     "cell_type": "heading",
     "level": 3,
     "metadata": {},
     "source": [
      "% of stars within a given RV"
     ]
    },
    {
     "cell_type": "code",
     "collapsed": false,
     "input": [
      "data=np.load('data.npy')\n",
      "RVs=np.load('RVs.npy')\n",
      "sigmas=np.load('sigmas.npy')\n",
      "baryVels=np.load('baryVels.npy')\n",
      "JDs=np.load('JDs.npy')\n",
      "thisSlice = RVs\n",
      "totalStars = RVs.shape[0]\n",
      "goodStars = np.sum(((thisSlice<5000) & (thisSlice!=0)), axis=0).astype(float)\n",
      "size = np.array(thisSlice.shape)\n",
      "total = np.reshape(np.repeat(size[0], size[1]*size[2]),(size[1],size[2]))\n",
      "labels = ['Blue','Green','Red','IR']\uf70e\uf70e\uf70d\uf70d\uf70d\uf70d\n",
      "a = pd.DataFrame(goodStars/total*100)\n",
      "a.columns = labels\n",
      "\n",
      "print a.to_latex(formatters=[f1, f1, f1, f1])"
     ],
     "language": "python",
     "metadata": {},
     "outputs": [
      {
       "output_type": "stream",
       "stream": "stdout",
       "text": [
        "\\begin{tabular}{lrrrr}\n",
        "\\toprule\n",
        "{} &   Blue &  Green &    Red &     IR \\\\\n",
        "\\midrule\n",
        "0  & 100.00 & 100.00 & 100.00 & 100.00 \\\\\n",
        "1  &  97.67 & 100.00 & 100.00 & 100.00 \\\\\n",
        "2  &  97.67 &  97.67 & 100.00 & 100.00 \\\\\n",
        "3  &  97.67 &  97.67 & 100.00 & 100.00 \\\\\n",
        "4  & 100.00 & 100.00 &  97.67 &  97.67 \\\\\n",
        "5  &  97.67 &  97.67 & 100.00 & 100.00 \\\\\n",
        "6  &  97.67 &  97.67 &  97.67 & 100.00 \\\\\n",
        "7  & 100.00 &  97.67 & 100.00 &  97.67 \\\\\n",
        "8  &  97.67 & 100.00 & 100.00 &  97.67 \\\\\n",
        "9  &  97.67 &  97.67 & 100.00 & 100.00 \\\\\n",
        "10 & 100.00 & 100.00 &  97.67 & 100.00 \\\\\n",
        "11 &  81.40 &  86.05 &  86.05 &  97.67 \\\\\n",
        "12 & 100.00 & 100.00 &  97.67 & 100.00 \\\\\n",
        "13 & 100.00 & 100.00 &  97.67 &  97.67 \\\\\n",
        "14 & 100.00 &  97.67 &  97.67 & 100.00 \\\\\n",
        "15 &  97.67 & 100.00 &   0.00 &   0.00 \\\\\n",
        "16 & 100.00 & 100.00 &   0.00 &   0.00 \\\\\n",
        "17 &  97.67 & 100.00 &  97.67 &  79.07 \\\\\n",
        "18 & 100.00 &  97.67 &  97.67 &  76.74 \\\\\n",
        "19 & 100.00 &  97.67 &  97.67 &  79.07 \\\\\n",
        "20 & 100.00 &  97.67 &  97.67 &   0.00 \\\\\n",
        "21 & 100.00 &  97.67 &  97.67 &   0.00 \\\\\n",
        "22 & 100.00 &  97.67 & 100.00 &   0.00 \\\\\n",
        "23 &   0.00 & 100.00 &  97.67 &  65.12 \\\\\n",
        "\\bottomrule\n",
        "\\end{tabular}\n",
        "\n"
       ]
      }
     ],
     "prompt_number": 10
    },
    {
     "cell_type": "heading",
     "level": 3,
     "metadata": {},
     "source": [
      "Shows all observatios for a list of 'good_targets'"
     ]
    },
    {
     "cell_type": "code",
     "collapsed": false,
     "input": [
      "import pyfits as pf\n",
      "import numpy as np\n",
      "import pylab as plt\n",
      "import os\n",
      "import glob\n",
      "import pickle\n",
      "import RVTools as RVT\n",
      "import toolbox\n",
      "\n",
      "os.chdir('/Users/Carlos/Documents/HERMES/data')\n",
      "# raw = []\n",
      "print 'Obs & Filename & Field Name & Plate & MJD & Relative Day (days) & Exp Time (s) \\\\\\\\'\n",
      "# good_targets = np.array(['rhoTuc #176 (Pivot 175)', 'HD1581 #176 (Pivot 175)','HD285507 #227 (Pivot 223)' ])\n",
      "good_targets = np.array(['rhoTuc #176 (Pivot 175)'])\n",
      "# good_targets = np.array(['HD285507 #227 (Pivot 223)' ])\n",
      "# good_targets = np.array(['M67 12V14','M67 Bright Stars' ])\n",
      "# good_targets = np.array(['HD1581 #176 (Pivot 175)'])\n",
      "# good_targets = np.array(['47Tuc center'])\n",
      "\n",
      "# good_pivots = [175,175,224]\n",
      "t0 = 0  \n",
      "order = 0 \n",
      "dirs = glob.glob('*')\n",
      "for j in dirs:\n",
      "#     print os.path.abspath(j +'/data/ccd_1/')\n",
      "#     os.chdir(j+'/data/ccd_1/')\n",
      "#     print j +'/data/ccd_1/'\n",
      "    for i in glob.glob(j +'/data/ccd_1/*.fits'):\n",
      "        a = pf.open(i)\n",
      "        if a[0].header['NDFCLASS'] == 'MFOBJECT':\n",
      "            if a[0].header['OBJECT'] in good_targets:\n",
      "                pivot_idx = np.where(a[0].header['OBJECT']== good_targets)[0][0]\n",
      "                e = float(a[0].header['EXPOSED'])/2/24/60/60 # EXPOSED/2 in days\n",
      "                inDate = np.hstack((a[0].header['UTDATE'].split(':'),a[0].header['UTSTART'].split(':'))).astype(int)\n",
      "                UTMJD = toolbox.gd2jd(inDate, TZ=0)-2400000.5 + e\n",
      "                if t0==0:t0=UTMJD\n",
      "                tDiff=UTMJD-t0\n",
      "#                 print str(order)+' & '+ i+' & HD1581 & '+a[0].header['SOURCE']+' & '+str(UTMJD)+' & '+str(tDiff)+' & '+str(a[0].header['EXPOSED']) +' \\\\\\\\'\n",
      "#                 print str(order)+' & '+ i.split('/')[-1]+' & HD285507 & '+a[0].header['SOURCE']+' & '+str(UTMJD)+' & '+str(tDiff)+' & '+str(a[0].header['EXPOSED']) +' \\\\\\\\'\n",
      "                print str(order)+' & '+ i.split('/')[-1]+' & '+ 'rhoTuc' +' & '+a[0].header['SOURCE']+' & '+str(UTMJD)+' & '+str(tDiff)+' & '+str(a[0].header['EXPOSED']) +' \\\\\\\\'\n",
      "#                 print str(order)+' & '+ i.split('/')[-1]+' & '+a[0].header['OBJECT']+' & '+a[0].header['SOURCE']+' & '+str(UTMJD)+' & '+str(tDiff)+' & '+str(a[0].header['EXPOSED']) +' \\\\\\\\'\n",
      "                order +=1\n",
      "#                 raw.append((i, a[0].header['OBJECT'],a[0].header['SOURCE'],a[0].header['UTMJD'],a[0].header['EXPOSED']))            \n",
      "        a.close\n",
      "# raw = np.array(raw)"
     ],
     "language": "python",
     "metadata": {},
     "outputs": [
      {
       "output_type": "stream",
       "stream": "stdout",
       "text": [
        "Obs & Filename & Field Name & Plate & MJD & Relative Day (days) & Exp Time (s) \\\\\n",
        "0 & 20aug10044.fits & rhoTuc & Plate 0 & 56889.7828704 & 0.0 & 300.0 \\\\"
       ]
      },
      {
       "output_type": "stream",
       "stream": "stdout",
       "text": [
        "\n",
        "1 & 20aug10045.fits & rhoTuc & Plate 0 & 56889.7876968 & 0.00482638880931 & 360.0 \\\\\n",
        "2 & 20aug10046.fits & rhoTuc & Plate 0 & 56889.791713 & 0.00884259253507 & 120.0 \\\\\n",
        "3 & 20aug10047.fits & rhoTuc & Plate 0 & 56889.7940046 & 0.0111342588789 & 120.0 \\\\\n",
        "4 & 20aug10048.fits & rhoTuc & Plate 0 & 56889.7962963 & 0.0134259256884 & 120.0 \\\\\n",
        "5 & 20aug10049.fits & rhoTuc & Plate 0 & 56889.798588 & 0.0157175924978 & 120.0 \\\\\n",
        "6 & 20aug10050.fits & rhoTuc & Plate 0 & 56889.8008565 & 0.017986110819 & 120.0 \\\\\n",
        "7 & 20aug10051.fits & rhoTuc & Plate 0 & 56889.8031366 & 0.0202662036172 & 120.0 \\\\"
       ]
      },
      {
       "output_type": "stream",
       "stream": "stdout",
       "text": [
        "\n",
        "8 & 21aug10033.fits & rhoTuc & Plate 0 & 56890.7035301 & 0.920659721931 & 600.0 \\\\"
       ]
      },
      {
       "output_type": "stream",
       "stream": "stdout",
       "text": [
        "\n",
        "9 & 21aug10034.fits & rhoTuc & Plate 0 & 56890.7113657 & 0.928495370419 & 600.0 \\\\\n",
        "10 & 21aug10035.fits & rhoTuc & Plate 0 & 56890.7193519 & 0.93648148152 & 600.0 \\\\\n",
        "11 & 21aug10044.fits & rhoTuc & Plate 0 & 56890.8169213 & 1.03405092566 & 360.0 \\\\"
       ]
      },
      {
       "output_type": "stream",
       "stream": "stdout",
       "text": [
        "\n",
        "12 & 22aug10033.fits & rhoTuc & Plate 0 & 56891.6906713 & 1.90780092592 & 360.0 \\\\"
       ]
      },
      {
       "output_type": "stream",
       "stream": "stdout",
       "text": [
        "\n",
        "13 & 22aug10034.fits & rhoTuc & Plate 0 & 56891.6957176 & 1.91284722185 & 360.0 \\\\\n",
        "14 & 22aug10035.fits & rhoTuc & Plate 0 & 56891.700787 & 1.91791666674 & 360.0 \\\\\n",
        "15 & 22aug10046.fits & rhoTuc & Plate 0 & 56891.7778356 & 1.99496527763 & 360.0 \\\\"
       ]
      },
      {
       "output_type": "stream",
       "stream": "stdout",
       "text": [
        "\n",
        "16 & 22aug10047.fits & rhoTuc & Plate 0 & 56891.7829514 & 2.00008101857 & 360.0 \\\\\n",
        "17 & 24aug10055.fits & rhoTuc & Plate 0 & 56893.7474884 & 3.96461805517 & 360.0 \\\\"
       ]
      },
      {
       "output_type": "stream",
       "stream": "stdout",
       "text": [
        "\n",
        "18 & 24aug10056.fits & rhoTuc & Plate 0 & 56893.7534838 & 3.97061342562 & 360.0 \\\\\n",
        "19 & 24aug10057.fits & rhoTuc & Plate 0 & 56893.7585995 & 3.97572916655 & 360.0 \\\\\n",
        "20 & 25aug10040.fits & rhoTuc & Plate 0 & 56894.7253009 & 4.94243055538 & 360.0 \\\\"
       ]
      },
      {
       "output_type": "stream",
       "stream": "stdout",
       "text": [
        "\n",
        "21 & 25aug10041.fits & rhoTuc & Plate 0 & 56894.7303704 & 4.9474999998 & 360.0 \\\\\n",
        "22 & 25aug10042.fits & rhoTuc & Plate 0 & 56894.7354282 & 4.95255787021 & 360.0 \\\\\n",
        "23 & 25aug10052.fits & rhoTuc & Plate 0 & 56894.8107176 & 5.02784722207 & 360.0 \\\\"
       ]
      },
      {
       "output_type": "stream",
       "stream": "stdout",
       "text": [
        "\n",
        "File may have been truncated: actual file length (34220160) is smaller than the expected size (68221440)\n"
       ]
      }
     ],
     "prompt_number": 41
    },
    {
     "cell_type": "heading",
     "level": 3,
     "metadata": {},
     "source": [
      "Stars Names and magnitudes"
     ]
    },
    {
     "cell_type": "code",
     "collapsed": false,
     "input": [
      "data=np.load('data.npy')\n",
      "# RVs=np.load('RVs.npy')\n",
      "# sigmas=np.load('sigmas.npy')\n",
      "# baryVels=np.load('baryVels.npy')\n",
      "# JDs=np.load('JDs.npy')\n",
      "# thisSlice = RVs\n",
      "# totalStars = RVs.shape[0]\n",
      "# goodStars = np.sum(((thisSlice<5000) & (thisSlice!=0)), axis=0).astype(float)\n",
      "# size = np.array(thisSlice.shape)\n",
      "# total = np.reshape(np.repeat(size[0], size[1]*size[2]),(size[1],size[2]))\n",
      "# labels = ['Blue','Green','Red','IR']\n",
      "labels = ['Name','Vmag']\n",
      "a = pd.DataFrame(data[:,:2])\n",
      "a.columns = labels\n",
      "\n",
      "print a.to_latex()"
     ],
     "language": "python",
     "metadata": {},
     "outputs": [
      {
       "output_type": "stream",
       "stream": "stdout",
       "text": [
        "\\begin{tabular}{lll}\n",
        "\\toprule\n",
        "{} &     Name &  Vmag \\\\\n",
        "\\midrule\n",
        "0  &  Field01 &  8.13 \\\\\n",
        "1  &  Field02 &  6.58 \\\\\n",
        "2  &  Field03 &  6.73 \\\\\n",
        "3  &  Field04 &  8.34 \\\\\n",
        "4  &  Field05 &  4.95 \\\\\n",
        "5  &  Field07 &  8.27 \\\\\n",
        "6  &  Field08 &  6.78 \\\\\n",
        "7  &  Field09 &  8.83 \\\\\n",
        "8  &  Field10 &  7.68 \\\\\n",
        "9  &  Field11 &  7.45 \\\\\n",
        "10 &  Field13 &  8.91 \\\\\n",
        "11 &  Field14 &   6.0 \\\\\n",
        "12 &  Field15 &  5.48 \\\\\n",
        "13 &  Field17 &  8.98 \\\\\n",
        "14 &  Field18 &  8.99 \\\\\n",
        "15 &  Field19 &  5.92 \\\\\n",
        "16 &  Field20 &  8.71 \\\\\n",
        "17 &  Field21 &  8.24 \\\\\n",
        "18 &  Field22 &  8.74 \\\\\n",
        "19 &  Field23 &  8.92 \\\\\n",
        "20 &  Field24 &  8.37 \\\\\n",
        "21 &  Field25 &  8.63 \\\\\n",
        "22 &  Field26 &  8.43 \\\\\n",
        "23 &  Field27 &  7.58 \\\\\n",
        "24 &  Field28 &  7.74 \\\\\n",
        "25 &  Field29 &   5.4 \\\\\n",
        "26 &  Field30 &   8.7 \\\\\n",
        "27 &  Field31 &  8.18 \\\\\n",
        "28 &  Field32 &  8.77 \\\\\n",
        "29 &  Field33 &  8.98 \\\\\n",
        "30 &  Field34 &  6.69 \\\\\n",
        "31 &  Giant01 &  4.17 \\\\\n",
        "32 &  Giant02 &  8.85 \\\\\n",
        "33 &  Giant03 &  7.69 \\\\\n",
        "34 &  Giant04 &  7.94 \\\\\n",
        "35 &  Giant05 &  3.51 \\\\\n",
        "36 &  Giant06 &  8.85 \\\\\n",
        "37 &  Giant07 &  8.19 \\\\\n",
        "38 &  Giant08 &  8.11 \\\\\n",
        "39 &  Giant09 &  8.22 \\\\\n",
        "40 &  Giant10 &  7.75 \\\\\n",
        "41 &  Giant11 &  8.52 \\\\\n",
        "42 &  Giant12 &  6.21 \\\\\n",
        "\\bottomrule\n",
        "\\end{tabular}\n",
        "\n"
       ]
      }
     ],
     "prompt_number": 45
    },
    {
     "cell_type": "code",
     "collapsed": false,
     "input": [
      "data"
     ],
     "language": "python",
     "metadata": {},
     "outputs": [
      {
       "metadata": {},
       "output_type": "pyout",
       "prompt_number": 46,
       "text": [
        "array([['Field01', '8.13', '306.0', '10.6245833333', '-65.3843888889'],\n",
        "       ['Field02', '6.58', '88.0', '10.6720833333', '-65.6085555556'],\n",
        "       ['Field03', '6.73', '392.0', '11.1291666667', '-65.4424166667'],\n",
        "       ['Field04', '8.34', '305.0', '10.6520833333', '-65.2091944444'],\n",
        "       ['Field05', '4.95', '42.0', '11.16375', '-65.6495'],\n",
        "       ['Field07', '8.27', '314.0', '10.845', '-65.0706111111'],\n",
        "       ['Field08', '6.78', '125.0', '10.2095833333', '-65.8574166667'],\n",
        "       ['Field09', '8.83', '135.0', '10.0604166667', '-65.8251666667'],\n",
        "       ['Field10', '7.68', '315.0', '10.8770833333', '-65.0541111111'],\n",
        "       ['Field11', '7.45', '302.0', '10.6816666667', '-64.9791111111'],\n",
        "       ['Field13', '8.91', '227.0', '9.24166666667', '-65.1971111111'],\n",
        "       ['Field14', '6.0', '10.0', '12.1708333333', '-65.5695555556'],\n",
        "       ['Field15', '5.48', '307.0', '10.8195833333', '-64.8194722222'],\n",
        "       ['Field17', '8.98', '130.0', '9.82833333333', '-66.07075'],\n",
        "       ['Field18', '8.99', '325.0', '11.2625', '-64.82575'],\n",
        "       ['Field19', '5.92', '140.0', '9.535', '-66.0428333333'],\n",
        "       ['Field20', '8.71', '371.0', '12.1283333333', '-65.0965'],\n",
        "       ['Field21', '8.24', '168.0', '9.02708333333', '-65.80475'],\n",
        "       ['Field22', '8.74', '18.0', '12.3454166667', '-65.6705277778'],\n",
        "       ['Field23', '8.92', '32.0', '12.3195833333', '-65.8488055556'],\n",
        "       ['Field24', '8.37', '268.0', '9.72', '-64.7523333333'],\n",
        "       ['Field25', '8.63', '244.0', '9.14666666667', '-64.9271111111'],\n",
        "       ['Field26', '8.43', '248.0', '9.22916666667', '-64.8669166667'],\n",
        "       ['Field27', '7.58', '364.0', '12.36625', '-65.0045277778'],\n",
        "       ['Field28', '7.74', '252.0', '9.21708333333', '-64.8279166667'],\n",
        "       ['Field29', '5.4', '251.0', '9.09416666667', '-64.7792222222'],\n",
        "       ['Field30', '8.7', '310.0', '10.9791666667', '-64.5244166667'],\n",
        "       ['Field31', '8.18', '293.0', '10.4266666667', '-64.5083333333'],\n",
        "       ['Field32', '8.77', '139.0', '9.1875', '-66.2426944444'],\n",
        "       ['Field33', '8.98', '385.0', '12.89375', '-65.2433055556'],\n",
        "       ['Field34', '6.69', '113.0', '10.0829166667', '-66.4253055556'],\n",
        "       ['Giant01', '4.17', '175.0', '10.6183333333', '-65.4680555556'],\n",
        "       ['Giant02', '8.85', '338.0', '10.9895833333', '-65.2426944444'],\n",
        "       ['Giant03', '7.69', '190.0', '9.5975', '-65.5214444444'],\n",
        "       ['Giant04', '7.94', '11.0', '11.8466666667', '-65.5562222222'],\n",
        "       ['Giant05', '3.51', '231.0', '9.15708333333', '-65.1244444444'],\n",
        "       ['Giant06', '8.85', '370.0', '12.085', '-65.1136388889'],\n",
        "       ['Giant07', '8.19', '127.0', '9.81583333333', '-66.1591388889'],\n",
        "       ['Giant08', '8.11', '387.0', '12.5408333333', '-65.3014166667'],\n",
        "       ['Giant09', '8.22', '360.0', '12.24875', '-64.9742777778'],\n",
        "       ['Giant10', '7.75', '105.0', '10.4066666667', '-66.3846666667'],\n",
        "       ['Giant11', '8.52', '219.0', '8.40208333333', '-65.1430833333'],\n",
        "       ['Giant12', '6.21', '391.0', '12.9979166667', '-65.3353333333']], \n",
        "      dtype='|S14')"
       ]
      }
     ],
     "prompt_number": 46
    },
    {
     "cell_type": "code",
     "collapsed": false,
     "input": [],
     "language": "python",
     "metadata": {},
     "outputs": []
    }
   ],
   "metadata": {}
  }
 ]
}