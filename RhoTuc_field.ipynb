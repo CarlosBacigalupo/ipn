{
 "metadata": {
  "name": ""
 },
 "nbformat": 3,
 "nbformat_minor": 0,
 "worksheets": [
  {
   "cells": [
    {
     "cell_type": "code",
     "collapsed": false,
     "input": [
      "import numpy as np\n",
      "import pyfits as pf\n",
      "import glob\n",
      "import os\n",
      "import pylab as plt\n",
      "import toolbox\n",
      "import TableBrowser as TB"
     ],
     "language": "python",
     "metadata": {},
     "outputs": [],
     "prompt_number": 2
    },
    {
     "cell_type": "code",
     "collapsed": false,
     "input": [
      "os.chdir('/Users/Carlos/Dropbox/PhD/Docs/My Docs/HERMES_ObsPlan_Aug14')"
     ],
     "language": "python",
     "metadata": {},
     "outputs": [],
     "prompt_number": 4
    },
    {
     "cell_type": "code",
     "collapsed": false,
     "input": [
      "a = np.genfromtxt('rhoTuc_2MASS.tsv', delimiter='|')\n",
      "a = np.delete(a,np.arange(a.shape[0])[np.isnan(a[:,0])], 0)\n",
      "#_r|_RAJ2000|_DEJ2000|RAJ2000|DEJ2000|2MASS|Jmag|e_Jmag|Hmag|e_Hmag|\n",
      "#Kmag|e_Kmag|Qflg|Rflg|Bflg|Cflg|Xflg|Aflg"
     ],
     "language": "python",
     "metadata": {},
     "outputs": [],
     "prompt_number": 5
    },
    {
     "cell_type": "code",
     "collapsed": false,
     "input": [
      "giants_mask = ((a[:,6]-a[:,10]>0.7) &(a[:,6]-a[:,10]<0.9))\n",
      "giants_mask[0]=True\n",
      "giants = a[giants_mask]\n",
      "no_giants = a[-giants_mask]\n",
      "np.sum(giants_mask)"
     ],
     "language": "python",
     "metadata": {},
     "outputs": [
      {
       "metadata": {},
       "output_type": "pyout",
       "prompt_number": 26,
       "text": [
        "12"
       ]
      }
     ],
     "prompt_number": 26
    },
    {
     "cell_type": "code",
     "collapsed": false,
     "input": [
      "plt.scatter(a[:,6]-a[:,10],a[:,10])\n",
      "plt.scatter(a[0,6]-a[0,10],a[0,10], c='yellow')\n",
      "plt.scatter(giants[:,6]-giants[:,10],giants[:,10], c='r', label = 'clump giants')\n",
      "# plt.scatter(targets[:,3]-targets[:,4],targets[:,4], c='g', s=100, label = 'Target Stars')\n",
      "# plt.scatter(11.8-10.5,10.5, c ='yellow', label = 'HD285507', s=100)\n",
      "plt.gca().invert_yaxis()\n",
      "plt.xlabel('J-K [mag]')\n",
      "plt.ylabel('K [mag]')\n",
      "plt.legend(loc=1)\n",
      "plt.show()"
     ],
     "language": "python",
     "metadata": {},
     "outputs": [],
     "prompt_number": 25
    },
    {
     "cell_type": "code",
     "collapsed": false,
     "input": [
      "#export into fld form\n",
      "for i in xrange(giants.shape[0]):\n",
      "    RA1, RA2, RA3 = toolbox.dec2sex(giants[i,1]/15)\n",
      "    Dec1, Dec2, Dec3 = toolbox.dec2sex(giants[i,2])\n",
      "    thisMag = giants[i,10]\n",
      "    print ('Giant'+\"%02d\"%(i+1)).ljust(11) ,int(RA1), int(RA2), '{0:4.1f}'.format(RA3),' ', int(Dec1),  '{0:2.0f}'.format(Dec2), '{0:4.1f}'.format(Dec3),' ', 'P 9',' ',  '{0:5.2f}'.format(thisMag), '0','Kmag'\n"
     ],
     "language": "python",
     "metadata": {},
     "outputs": [
      {
       "output_type": "stream",
       "stream": "stdout",
       "text": [
        "Giant01     0 42 28.4   -65 28  5.0   P 9    4.17 0 Kmag\n",
        "Giant02     0 43 57.5   -65 14 33.7   P 9    8.85 0 Kmag\n",
        "Giant03     0 38 23.4   -65 31 17.2   P 9    7.69 0 Kmag\n",
        "Giant04     0 47 23.2   -65 33 22.4   P 9    7.94 0 Kmag\n",
        "Giant05     0 36 37.7   -65  7 28.0   P 9    3.51 0 Kmag\n",
        "Giant06     0 48 20.4   -65  6 49.1   P 9    8.85 0 Kmag\n",
        "Giant07     0 39 15.8   -66  9 32.9   P 9    8.19 0 Kmag\n",
        "Giant08     0 50  9.8   -65 18  5.1   P 9    8.11 0 Kmag\n",
        "Giant09     0 48 59.7   -64 58 27.4   P 9    8.22 0 Kmag\n",
        "Giant10     0 41 37.6   -66 23  4.8   P 9    7.75 0 Kmag\n",
        "Giant11     0 33 36.5   -65  8 35.1   P 9    8.52 0 Kmag\n",
        "Giant12     0 51 59.5   -65 20  7.2   P 9    6.21 0 Kmag\n"
       ]
      }
     ],
     "prompt_number": 32
    },
    {
     "cell_type": "code",
     "collapsed": false,
     "input": [
      "for i in xrange(no_giants.shape[0]):\n",
      "    RA1, RA2, RA3 = toolbox.dec2sex(no_giants[i,1]/15)\n",
      "    Dec1, Dec2, Dec3 = toolbox.dec2sex(no_giants[i,2])\n",
      "    thisMag = no_giants[i,10]\n",
      "    print ('Field'+\"%02d\"%(i+1)).ljust(11) ,int(RA1), int(RA2), '{0:4.1f}'.format(RA3),' ', int(Dec1),  '{0:2.0f}'.format(Dec2), '{0:4.1f}'.format(Dec3),' ', 'P 7',' ',  '{0:5.2f}'.format(thisMag), '0','Kmag'\n"
     ],
     "language": "python",
     "metadata": {},
     "outputs": [
      {
       "output_type": "stream",
       "stream": "stdout",
       "text": [
        "Field01     0 42 29.9   -65 23  3.8   P 7    8.13 0 Kmag\n",
        "Field02     0 42 41.3   -65 36 30.8   P 7    6.58 0 Kmag\n",
        "Field03     0 44 31.0   -65 26 32.7   P 7    6.73 0 Kmag\n",
        "Field04     0 42 36.5   -65 12 33.1   P 7    8.34 0 Kmag\n",
        "Field05     0 44 39.3   -65 38 58.2   P 7    4.95 0 Kmag\n",
        "Field06     0 40 23.1   -65 41 39.4   P 7    8.96 0 Kmag\n",
        "Field07     0 43 22.8   -65  4 14.2   P 7    8.27 0 Kmag\n",
        "Field08     0 40 50.3   -65 51 26.7   P 7    6.78 0 Kmag\n",
        "Field09     0 40 14.5   -65 49 30.6   P 7    8.83 0 Kmag\n",
        "Field10     0 43 30.5   -65  3 14.8   P 7    7.68 0 Kmag\n",
        "Field11     0 42 43.6   -64 58 44.8   P 7    7.45 0 Kmag\n",
        "Field12     0 47  3.5   -65  9 53.1   P 7    8.78 0 Kmag\n",
        "Field13     0 36 58.0   -65 11 49.6   P 7    8.91 0 Kmag\n",
        "Field14     0 48 41.0   -65 34 10.4   P 7    6.00 0 Kmag\n",
        "Field15     0 43 16.7   -64 49 10.1   P 7    5.48 0 Kmag\n",
        "Field16     0 37 58.7   -64 58 44.1   P 7    8.89 0 Kmag\n",
        "Field17     0 39 18.8   -66  4 14.7   P 7    8.98 0 Kmag\n",
        "Field18     0 45  3.0   -64 49 32.7   P 7    8.99 0 Kmag\n",
        "Field19     0 38  8.4   -66  2 34.2   P 7    5.92 0 Kmag\n",
        "Field20     0 48 30.8   -65  5 47.4   P 7    8.71 0 Kmag\n",
        "Field21     0 36  6.5   -65 48 17.1   P 7    8.24 0 Kmag\n",
        "Field22     0 49 22.9   -65 40 13.9   P 7    8.74 0 Kmag\n",
        "Field23     0 49 16.7   -65 50 55.7   P 7    8.92 0 Kmag\n",
        "Field24     0 38 52.8   -64 45  8.4   P 7    8.37 0 Kmag\n",
        "Field25     0 36 35.2   -64 55 37.6   P 7    8.63 0 Kmag\n",
        "Field26     0 36 55.0   -64 52  0.9   P 7    8.43 0 Kmag\n",
        "Field27     0 49 27.9   -65  0 16.3   P 7    7.58 0 Kmag\n",
        "Field28     0 36 52.1   -64 49 40.5   P 7    7.74 0 Kmag\n",
        "Field29     0 36 22.6   -64 46 45.2   P 7    5.40 0 Kmag\n",
        "Field30     0 43 55.0   -64 31 27.9   P 7    8.70 0 Kmag\n",
        "Field31     0 41 42.4   -64 30 30.0   P 7    8.18 0 Kmag\n",
        "Field32     0 36 45.0   -66 14 33.7   P 7    8.77 0 Kmag\n",
        "Field33     0 51 34.5   -65 14 35.9   P 7    8.98 0 Kmag\n",
        "Field34     0 40 19.9   -66 25 31.1   P 7    6.69 0 Kmag\n"
       ]
      }
     ],
     "prompt_number": 38
    },
    {
     "cell_type": "code",
     "collapsed": false,
     "input": [
      "for i in np.argsort(no_giants[:,10])[::-1]:\n",
      "    RA1, RA2, RA3 = toolbox.dec2sex(no_giants[i,1]/15)\n",
      "    Dec1, Dec2, Dec3 = toolbox.dec2sex(no_giants[i,2])\n",
      "    thisMag = no_giants[i,10]\n",
      "    print ('Fid'+\"%02d\"%(i+1)).ljust(11) ,int(RA1), int(RA2), '{0:4.1f}'.format(RA3),' ', int(Dec1),  '{0:2.0f}'.format(Dec2), '{0:4.1f}'.format(Dec3),' ', 'F 9',' ',  '{0:5.2f}'.format(thisMag), '0','Kmag'\n"
     ],
     "language": "python",
     "metadata": {},
     "outputs": [
      {
       "output_type": "stream",
       "stream": "stdout",
       "text": [
        "Fid18       0 45  3.0   -64 49 32.7   F 9    8.99 0 Kmag\n",
        "Fid17       0 39 18.8   -66  4 14.7   F 9    8.98 0 Kmag\n",
        "Fid33       0 51 34.5   -65 14 35.9   F 9    8.98 0 Kmag\n",
        "Fid06       0 40 23.1   -65 41 39.4   F 9    8.96 0 Kmag\n",
        "Fid23       0 49 16.7   -65 50 55.7   F 9    8.92 0 Kmag\n",
        "Fid13       0 36 58.0   -65 11 49.6   F 9    8.91 0 Kmag\n",
        "Fid16       0 37 58.7   -64 58 44.1   F 9    8.89 0 Kmag\n",
        "Fid09       0 40 14.5   -65 49 30.6   F 9    8.83 0 Kmag\n",
        "Fid12       0 47  3.5   -65  9 53.1   F 9    8.78 0 Kmag\n",
        "Fid32       0 36 45.0   -66 14 33.7   F 9    8.77 0 Kmag\n",
        "Fid22       0 49 22.9   -65 40 13.9   F 9    8.74 0 Kmag\n",
        "Fid20       0 48 30.8   -65  5 47.4   F 9    8.71 0 Kmag\n",
        "Fid30       0 43 55.0   -64 31 27.9   F 9    8.70 0 Kmag\n",
        "Fid25       0 36 35.2   -64 55 37.6   F 9    8.63 0 Kmag\n",
        "Fid26       0 36 55.0   -64 52  0.9   F 9    8.43 0 Kmag\n",
        "Fid24       0 38 52.8   -64 45  8.4   F 9    8.37 0 Kmag\n",
        "Fid04       0 42 36.5   -65 12 33.1   F 9    8.34 0 Kmag\n",
        "Fid07       0 43 22.8   -65  4 14.2   F 9    8.27 0 Kmag\n",
        "Fid21       0 36  6.5   -65 48 17.1   F 9    8.24 0 Kmag\n",
        "Fid31       0 41 42.4   -64 30 30.0   F 9    8.18 0 Kmag\n",
        "Fid01       0 42 29.9   -65 23  3.8   F 9    8.13 0 Kmag\n",
        "Fid28       0 36 52.1   -64 49 40.5   F 9    7.74 0 Kmag\n",
        "Fid10       0 43 30.5   -65  3 14.8   F 9    7.68 0 Kmag\n",
        "Fid27       0 49 27.9   -65  0 16.3   F 9    7.58 0 Kmag\n",
        "Fid11       0 42 43.6   -64 58 44.8   F 9    7.45 0 Kmag\n",
        "Fid08       0 40 50.3   -65 51 26.7   F 9    6.78 0 Kmag\n",
        "Fid03       0 44 31.0   -65 26 32.7   F 9    6.73 0 Kmag\n",
        "Fid34       0 40 19.9   -66 25 31.1   F 9    6.69 0 Kmag\n",
        "Fid02       0 42 41.3   -65 36 30.8   F 9    6.58 0 Kmag\n",
        "Fid14       0 48 41.0   -65 34 10.4   F 9    6.00 0 Kmag\n",
        "Fid19       0 38  8.4   -66  2 34.2   F 9    5.92 0 Kmag\n",
        "Fid15       0 43 16.7   -64 49 10.1   F 9    5.48 0 Kmag\n",
        "Fid29       0 36 22.6   -64 46 45.2   F 9    5.40 0 Kmag\n",
        "Fid05       0 44 39.3   -65 38 58.2   F 9    4.95 0 Kmag\n"
       ]
      }
     ],
     "prompt_number": 40
    },
    {
     "cell_type": "code",
     "collapsed": false,
     "input": [
      "a = np.genfromtxt('HD285507.tsv', delimiter='|')\n",
      "a = np.delete(a,np.arange(a.shape[0])[np.isnan(a[:,0])], 0)\n",
      "#_r|_RAJ2000|_DEJ2000|RAJ2000|DEJ2000|2MASS|Jmag|e_Jmag|Hmag|e_Hmag|\n",
      "#Kmag|e_Kmag|Qflg|Rflg|Bflg|Cflg|Xflg|Aflg"
     ],
     "language": "python",
     "metadata": {},
     "outputs": [],
     "prompt_number": 41
    },
    {
     "cell_type": "code",
     "collapsed": false,
     "input": [
      "giants_mask = ((a[:,6]-a[:,10]>0.7) &(a[:,6]-a[:,10]<0.9))\n",
      "giants_mask[0]=True\n",
      "giants = a[giants_mask]\n",
      "no_giants = a[-giants_mask]\n",
      "np.sum(giants_mask)"
     ],
     "language": "python",
     "metadata": {},
     "outputs": [
      {
       "metadata": {},
       "output_type": "pyout",
       "prompt_number": 42,
       "text": [
        "38"
       ]
      }
     ],
     "prompt_number": 42
    },
    {
     "cell_type": "code",
     "collapsed": false,
     "input": [
      "plt.scatter(a[:,6]-a[:,10],a[:,10])\n",
      "plt.scatter(a[0,6]-a[0,10],a[0,10], c='yellow')\n",
      "plt.scatter(giants[:,6]-giants[:,10],giants[:,10], c='r', label = 'clump giants')\n",
      "# plt.scatter(targets[:,3]-targets[:,4],targets[:,4], c='g', s=100, label = 'Target Stars')\n",
      "# plt.scatter(11.8-10.5,10.5, c ='yellow', label = 'HD285507', s=100)\n",
      "plt.gca().invert_yaxis()\n",
      "plt.xlabel('J-K [mag]')\n",
      "plt.ylabel('K [mag]')\n",
      "plt.legend(loc=1)\n",
      "plt.show()"
     ],
     "language": "python",
     "metadata": {},
     "outputs": [],
     "prompt_number": 43
    },
    {
     "cell_type": "code",
     "collapsed": false,
     "input": [
      "#export into fld form\n",
      "for i in xrange(giants.shape[0]):\n",
      "    RA1, RA2, RA3 = toolbox.dec2sex(giants[i,1]/15)\n",
      "    Dec1, Dec2, Dec3 = toolbox.dec2sex(giants[i,2])\n",
      "    thisMag = giants[i,10]\n",
      "    print ('Giant'+\"%02d\"%(i+1)).ljust(11) ,int(RA1), \"%02d\"%int(RA2), '{0:4.1f}'.format(RA3),' ', \"%02d\"%int(Dec1),  '{0:2.0f}'.format(Dec2), '{0:4.1f}'.format(Dec3),' ', 'P 9',' ',  '{0:5.2f}'.format(thisMag), '0','Kmag'\n"
     ],
     "language": "python",
     "metadata": {},
     "outputs": [
      {
       "output_type": "stream",
       "stream": "stdout",
       "text": [
        "Giant01     4 07  1.2   15 20  6.2   P 9    7.67 0 Kmag\n",
        "Giant02     4 07 32.5   15 11 45.0   P 9    6.44 0 Kmag\n",
        "Giant03     4 06 54.1   15  8 29.3   P 9    8.96 0 Kmag\n",
        "Giant04     4 06  8.4   15 26 21.7   P 9    8.05 0 Kmag\n",
        "Giant05     4 05 34.7   15 30 13.3   P 9    6.50 0 Kmag\n",
        "Giant06     4 05 56.6   15 37 57.0   P 9    8.77 0 Kmag\n",
        "Giant07     4 08 42.2   14  7 32.3   P 9    7.05 0 Kmag\n",
        "Giant08     4 08 44.7   15  6 47.9   P 9    8.97 0 Kmag\n",
        "Giant09     4 05 42.4   15 44 17.0   P 9    5.38 0 Kmag\n",
        "Giant10     4 07 42.2   14 50 34.3   P 9    7.03 0 Kmag\n",
        "Giant11     4 07 43.0   15 50 38.9   P 9    7.47 0 Kmag\n",
        "Giant12     4 09 16.9   15 12  3.1   P 9    7.36 0 Kmag\n",
        "Giant13     4 07 20.8   14 44 22.4   P 9    6.42 0 Kmag\n",
        "Giant14     4 04 34.8   15 29 36.5   P 9    8.67 0 Kmag\n",
        "Giant15     4 07  3.4   15 59 10.6   P 9    8.93 0 Kmag\n",
        "Giant16     4 09 42.9   15 10 55.7   P 9    8.99 0 Kmag\n",
        "Giant17     4 04 48.2   15 45 40.9   P 9    8.80 0 Kmag\n",
        "Giant18     4 05 57.0   14 41 41.9   P 9    8.85 0 Kmag\n",
        "Giant19     4 08  7.8   16  1 29.1   P 9    6.12 0 Kmag\n",
        "Giant20     4 09 49.1   15 43 12.4   P 9    8.09 0 Kmag\n",
        "Giant21     4 08 11.6   16  3 28.9   P 9    7.09 0 Kmag\n",
        "Giant22     4 07  5.0   16  7 57.8   P 9    8.46 0 Kmag\n",
        "Giant23     4 09  3.4   15 57 53.7   P 9    7.04 0 Kmag\n",
        "Giant24     4 06  3.5   14 33 19.5   P 9    6.54 0 Kmag\n",
        "Giant25     4 03 36.5   15 26 10.4   P 9    7.77 0 Kmag\n",
        "Giant26     4 03 54.0   14 56 57.5   P 9    8.83 0 Kmag\n",
        "Giant27     4 03 40.8   15  3 11.7   P 9    7.88 0 Kmag\n",
        "Giant28     4 10 26.3   15  6 16.1   P 9    8.40 0 Kmag\n",
        "Giant29     4 05 43.7   14 31 50.5   P 9    8.30 0 Kmag\n",
        "Giant30     4 03 34.1   15 36 14.8   P 9    8.91 0 Kmag\n",
        "Giant31     4 03 58.8   14 48 32.1   P 9    8.96 0 Kmag\n",
        "Giant32     4 05 14.8   16  9 13.0   P 9    8.75 0 Kmag\n",
        "Giant33     4 06 13.4   14 25 26.0   P 9    8.32 0 Kmag\n",
        "Giant34     4 03 48.4   15 51 27.3   P 9    8.11 0 Kmag\n",
        "Giant35     4 10 54.6   15 15 45.8   P 9    8.10 0 Kmag\n",
        "Giant36     4 08 25.8   14 27 26.3   P 9    6.64 0 Kmag\n",
        "Giant37     4 03 13.0   15 37 29.8   P 9    8.26 0 Kmag\n",
        "Giant38     4 03 32.2   14 49 39.0   P 9    8.58 0 Kmag\n"
       ]
      }
     ],
     "prompt_number": 48
    },
    {
     "cell_type": "code",
     "collapsed": false,
     "input": [
      "for i in xrange(no_giants.shape[0]):\n",
      "    RA1, RA2, RA3 = toolbox.dec2sex(no_giants[i,1]/15)\n",
      "    Dec1, Dec2, Dec3 = toolbox.dec2sex(no_giants[i,2])\n",
      "    thisMag = no_giants[i,10]\n",
      "    print ('Field'+\"%02d\"%(i+1)).ljust(11) ,int(RA1), \"%02d\"%int(RA2), '{0:4.1f}'.format(RA3),' ', int(Dec1),  '{0:2.0f}'.format(Dec2), '{0:4.1f}'.format(Dec3),' ', 'P 7',' ',  '{0:5.2f}'.format(thisMag), '0','Kmag'\n"
     ],
     "language": "python",
     "metadata": {},
     "outputs": [
      {
       "output_type": "stream",
       "stream": "stdout",
       "text": [
        "Field01     4 07 16.4   15 26 42.7   P 7    8.55 0 Kmag\n",
        "Field02     4 06 45.3   15 12 36.8   P 7    7.37 0 Kmag\n",
        "Field03     4 06 20.2   15 13 56.9   P 7    8.23 0 Kmag\n",
        "Field04     4 06 55.5   15 33 10.3   P 7    6.55 0 Kmag\n",
        "Field05     4 07 42.0   15  9 45.8   P 7    5.03 0 Kmag\n",
        "Field06     4 06 25.4   15  7 36.1   P 7    6.02 0 Kmag\n",
        "Field07     4 05 55.4   15 29 56.3   P 7    6.81 0 Kmag\n",
        "Field08     4 07 34.2   14 59 12.1   P 7    7.56 0 Kmag\n",
        "Field09     4 06 16.1   15 41 53.2   P 7    6.45 0 Kmag\n",
        "Field10     4 07 12.6   15 48  9.4   P 7    8.98 0 Kmag\n",
        "Field11     4 06 47.2   14 51 56.5   P 7    8.56 0 Kmag\n",
        "Field12     4 06 28.7   15 49 17.5   P 7    7.51 0 Kmag\n",
        "Field13     4 05 24.2   15 41  6.9   P 7    4.82 0 Kmag\n",
        "Field14     4 05  2.8   15 33 46.4   P 7    8.90 0 Kmag\n",
        "Field15     4 05 24.3   14 56  7.3   P 7    7.99 0 Kmag\n",
        "Field16     4 08 28.7   14 53 38.7   P 7    4.81 0 Kmag\n",
        "Field17     4 05 58.7   15 54  7.0   P 7    8.91 0 Kmag\n",
        "Field18     4 05 26.4   15 49 49.7   P 7    4.38 0 Kmag\n",
        "Field19     4 07 50.0   16  1 11.7   P 7    6.56 0 Kmag\n",
        "Field20     4 06 59.2   14 35 55.7   P 7    8.72 0 Kmag\n",
        "Field21     4 04  1.8   15 10 38.0   P 7    8.28 0 Kmag\n",
        "Field22     4 08 12.2   16  1  5.6   P 7    8.87 0 Kmag\n",
        "Field23     4 04 13.0   15  1 36.8   P 7    5.20 0 Kmag\n",
        "Field24     4 08 47.4   14 42  3.8   P 7    4.14 0 Kmag\n",
        "Field25     4 03 39.2   15 14 12.7   P 7    7.91 0 Kmag\n",
        "Field26     4 04 24.0   14 47 58.2   P 7    8.85 0 Kmag\n",
        "Field27     4 06  6.2   16  8 36.2   P 7    8.88 0 Kmag\n",
        "Field28     4 08 16.2   14 33  5.9   P 7    8.03 0 Kmag\n",
        "Field29     4 03 28.5   15 21 53.9   P 7    8.80 0 Kmag\n",
        "Field30     4 06 17.9   16 11  1.8   P 7    8.98 0 Kmag\n",
        "Field31     4 09 56.3   15 52  5.4   P 7    8.11 0 Kmag\n",
        "Field32     4 10 40.9   15 14 13.4   P 7    6.24 0 Kmag\n",
        "Field33     4 08 45.0   16  7 23.3   P 7    5.38 0 Kmag\n",
        "Field34     4 08 52.7   14 32 48.2   P 7    8.41 0 Kmag\n",
        "Field35     4 10  2.3   15 54 49.0   P 7    8.77 0 Kmag\n",
        "Field36     4 06 22.9   14 24  7.9   P 7    5.99 0 Kmag\n",
        "Field37     4 08 32.9   16 14  2.0   P 7    5.79 0 Kmag\n",
        "Field38     4 06 33.0   14 22 10.2   P 7    7.73 0 Kmag\n",
        "Field39     4 06 35.6   14 21 60.0   P 7    7.99 0 Kmag\n",
        "Field40     4 03  4.2   15  6  7.4   P 7    8.35 0 Kmag\n",
        "Field41     4 09 20.6   16  9 33.0   P 7    8.94 0 Kmag\n",
        "Field42     4 10 11.2   15 58 37.9   P 7    7.28 0 Kmag\n"
       ]
      }
     ],
     "prompt_number": 49
    },
    {
     "cell_type": "code",
     "collapsed": false,
     "input": [
      "for i in np.argsort(no_giants[:,10])[::-1]:\n",
      "    RA1, RA2, RA3 = toolbox.dec2sex(no_giants[i,1]/15)\n",
      "    Dec1, Dec2, Dec3 = toolbox.dec2sex(no_giants[i,2])\n",
      "    thisMag = no_giants[i,10]\n",
      "    print ('Fid'+\"%02d\"%(i+1)).ljust(11) ,int(RA1), \"%02d\"%int(RA2), '{0:4.1f}'.format(RA3),' ', int(Dec1),  '{0:2.0f}'.format(Dec2), '{0:4.1f}'.format(Dec3),' ', 'F 9',' ',  '{0:5.2f}'.format(thisMag), '0','Kmag'\n"
     ],
     "language": "python",
     "metadata": {},
     "outputs": [
      {
       "output_type": "stream",
       "stream": "stdout",
       "text": [
        "Fid30       4 06 17.9   16 11  1.8   F 9    8.98 0 Kmag\n",
        "Fid10       4 07 12.6   15 48  9.4   F 9    8.98 0 Kmag\n",
        "Fid41       4 09 20.6   16  9 33.0   F 9    8.94 0 Kmag\n",
        "Fid17       4 05 58.7   15 54  7.0   F 9    8.91 0 Kmag\n",
        "Fid14       4 05  2.8   15 33 46.4   F 9    8.90 0 Kmag\n",
        "Fid27       4 06  6.2   16  8 36.2   F 9    8.88 0 Kmag\n",
        "Fid22       4 08 12.2   16  1  5.6   F 9    8.87 0 Kmag\n",
        "Fid26       4 04 24.0   14 47 58.2   F 9    8.85 0 Kmag\n",
        "Fid29       4 03 28.5   15 21 53.9   F 9    8.80 0 Kmag\n",
        "Fid35       4 10  2.3   15 54 49.0   F 9    8.77 0 Kmag\n",
        "Fid20       4 06 59.2   14 35 55.7   F 9    8.72 0 Kmag\n",
        "Fid11       4 06 47.2   14 51 56.5   F 9    8.56 0 Kmag\n",
        "Fid01       4 07 16.4   15 26 42.7   F 9    8.55 0 Kmag\n",
        "Fid34       4 08 52.7   14 32 48.2   F 9    8.41 0 Kmag\n",
        "Fid40       4 03  4.2   15  6  7.4   F 9    8.35 0 Kmag\n",
        "Fid21       4 04  1.8   15 10 38.0   F 9    8.28 0 Kmag\n",
        "Fid03       4 06 20.2   15 13 56.9   F 9    8.23 0 Kmag\n",
        "Fid31       4 09 56.3   15 52  5.4   F 9    8.11 0 Kmag\n",
        "Fid28       4 08 16.2   14 33  5.9   F 9    8.03 0 Kmag\n",
        "Fid15       4 05 24.3   14 56  7.3   F 9    7.99 0 Kmag\n",
        "Fid39       4 06 35.6   14 21 60.0   F 9    7.99 0 Kmag\n",
        "Fid25       4 03 39.2   15 14 12.7   F 9    7.91 0 Kmag\n",
        "Fid38       4 06 33.0   14 22 10.2   F 9    7.73 0 Kmag\n",
        "Fid08       4 07 34.2   14 59 12.1   F 9    7.56 0 Kmag\n",
        "Fid12       4 06 28.7   15 49 17.5   F 9    7.51 0 Kmag\n",
        "Fid02       4 06 45.3   15 12 36.8   F 9    7.37 0 Kmag\n",
        "Fid42       4 10 11.2   15 58 37.9   F 9    7.28 0 Kmag\n",
        "Fid07       4 05 55.4   15 29 56.3   F 9    6.81 0 Kmag\n",
        "Fid19       4 07 50.0   16  1 11.7   F 9    6.56 0 Kmag\n",
        "Fid04       4 06 55.5   15 33 10.3   F 9    6.55 0 Kmag\n",
        "Fid09       4 06 16.1   15 41 53.2   F 9    6.45 0 Kmag\n",
        "Fid32       4 10 40.9   15 14 13.4   F 9    6.24 0 Kmag\n",
        "Fid06       4 06 25.4   15  7 36.1   F 9    6.02 0 Kmag\n",
        "Fid36       4 06 22.9   14 24  7.9   F 9    5.99 0 Kmag\n",
        "Fid37       4 08 32.9   16 14  2.0   F 9    5.79 0 Kmag\n",
        "Fid33       4 08 45.0   16  7 23.3   F 9    5.38 0 Kmag\n",
        "Fid23       4 04 13.0   15  1 36.8   F 9    5.20 0 Kmag\n",
        "Fid05       4 07 42.0   15  9 45.8   F 9    5.03 0 Kmag\n",
        "Fid13       4 05 24.2   15 41  6.9   F 9    4.82 0 Kmag\n",
        "Fid16       4 08 28.7   14 53 38.7   F 9    4.81 0 Kmag\n",
        "Fid18       4 05 26.4   15 49 49.7   F 9    4.38 0 Kmag\n",
        "Fid24       4 08 47.4   14 42  3.8   F 9    4.14 0 Kmag\n"
       ]
      }
     ],
     "prompt_number": 50
    },
    {
     "cell_type": "code",
     "collapsed": false,
     "input": [],
     "language": "python",
     "metadata": {},
     "outputs": []
    }
   ],
   "metadata": {}
  }
 ]
}