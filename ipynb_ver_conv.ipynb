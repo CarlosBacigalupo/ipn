{
 "metadata": {
  "name": ""
 },
 "nbformat": 3,
 "nbformat_minor": 0,
 "worksheets": [
  {
   "cells": [
    {
     "cell_type": "code",
     "collapsed": false,
     "input": [
      "\"\"\"Simple utility script for semi-gracefully downgrading v3 notebooks to v2\"\"\"\n",
      "\n",
      "import io\n",
      "import os\n",
      "import sys\n",
      "\n",
      "from IPython.nbformat import current\n",
      "\n",
      "def heading_to_md(cell):\n",
      "    \"\"\"turn heading cell into corresponding markdown\"\"\"\n",
      "    cell.cell_type = \"markdown\"\n",
      "    level = cell.pop('level', 1)\n",
      "    cell.source = '#'*level + ' ' + cell.source\n",
      "\n",
      "def raw_to_md(cell):\n",
      "    \"\"\"let raw passthrough as markdown\"\"\"\n",
      "    cell.cell_type = \"markdown\"\n",
      "\n",
      "def downgrade(nb):\n",
      "    \"\"\"downgrade a v3 notebook to v2\"\"\"\n",
      "    if nb.nbformat != 3:\n",
      "        return nb\n",
      "    nb.nbformat = 2\n",
      "    for ws in nb.worksheets:\n",
      "        for cell in ws.cells:\n",
      "            if cell.cell_type == 'heading':\n",
      "                heading_to_md(cell)\n",
      "            elif cell.cell_type == 'raw':\n",
      "                raw_to_md(cell)\n",
      "    return nb\n",
      "\n",
      "def downgrade_ipynb(fname):\n",
      "    base, ext = os.path.splitext(fname)\n",
      "    newname = base+'.v2'+ext\n",
      "    print \"downgrading %s -> %s\" % (fname, newname)\n",
      "    with io.open(fname, 'r', encoding='utf8') as f:\n",
      "        nb = current.read(f, 'json')\n",
      "    nb = downgrade(nb)\n",
      "    with open(newname, 'w') as f:\n",
      "        current.write(nb, f, 'json')\n",
      "\n",
      "        "
     ],
     "language": "python",
     "metadata": {},
     "outputs": [],
     "prompt_number": 4
    },
    {
     "cell_type": "code",
     "collapsed": false,
     "input": [
      "downgrade_ipynb('2dfdr_batch.ipynb')"
     ],
     "language": "python",
     "metadata": {},
     "outputs": [
      {
       "output_type": "stream",
       "stream": "stdout",
       "text": [
        "downgrading 2dfdr_batch.ipynb -> 2dfdr_batch.v2.ipynb\n"
       ]
      }
     ],
     "prompt_number": 5
    },
    {
     "cell_type": "code",
     "collapsed": false,
     "input": [],
     "language": "python",
     "metadata": {},
     "outputs": []
    }
   ],
   "metadata": {}
  }
 ]
}