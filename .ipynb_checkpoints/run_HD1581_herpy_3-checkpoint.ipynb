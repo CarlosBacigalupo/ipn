{
 "cells": [
  {
   "cell_type": "code",
   "execution_count": 53,
   "metadata": {
    "collapsed": false
   },
   "outputs": [
    {
     "data": {
      "text/plain": [
       "<module 'myHerpyTools' from '/Users/Carlos/Documents/ipn/myHerpyTools.pyc'>"
      ]
     },
     "execution_count": 53,
     "metadata": {},
     "output_type": "execute_result"
    }
   ],
   "source": [
    "# import pyfits as pf\n",
    "# import pylab as plt\n",
    "# from scipy import optimize\n",
    "# from scipy.signal import medfilt, find_peaks_cwt\n",
    "# from scipy.ndimage.filters import minimum_filter, maximum_filter, median_filter, convolve\n",
    "# from scipy.ndimage.measurements import label\n",
    "import numpy as np\n",
    "\n",
    "import myHerpyTools as MHT\n",
    "reload(MHT)"
   ]
  },
  {
   "cell_type": "code",
   "execution_count": 54,
   "metadata": {
    "collapsed": false
   },
   "outputs": [
    {
     "name": "stdout",
     "output_type": "stream",
     "text": [
      "/Users/Carlos/Documents/HERMES/reductions/new_start_6.5/HD1581\n"
     ]
    }
   ],
   "source": [
    "cd /Users/Carlos/Documents/HERMES/reductions/new_start_6.5/HD1581/"
   ]
  },
  {
   "cell_type": "code",
   "execution_count": 55,
   "metadata": {
    "collapsed": true
   },
   "outputs": [],
   "source": [
    "folder = \"herpy_out\""
   ]
  },
  {
   "cell_type": "code",
   "execution_count": 90,
   "metadata": {
    "collapsed": false
   },
   "outputs": [
    {
     "name": "stdout",
     "output_type": "stream",
     "text": [
      "herpy_out/arc_20aug10052_px.npy read\n",
      "herpy_out/obj_20aug10053_px.npy read\n",
      "herpy_out/arc_21aug10046_px.npy read\n",
      "herpy_out/obj_21aug10041_px.npy read\n",
      "herpy_out/arc_22aug10031_px.npy read\n",
      "herpy_out/obj_22aug10036_px.npy read\n",
      "herpy_out/arc_24aug10054_px.npy read\n",
      "herpy_out/obj_24aug10058_px.npy read\n",
      "herpy_out/arc_25aug10043_px.npy read\n",
      "herpy_out/obj_25aug10044_px.npy read\n"
     ]
    }
   ],
   "source": [
    "flatFileName = '0_20aug/1/20aug10034.fits'\n",
    "arcFileName = '0_20aug/1/20aug10052.fits'\n",
    "objFileName = '0_20aug/1/20aug10053.fits'\n",
    "extracted_arc1 = MHT.read_NPY(arcFileName, \"arc\", \"px\", folder)\n",
    "extracted_obj1 = MHT.read_NPY(objFileName, \"obj\", \"px\", folder)\n",
    "\n",
    "flatFileName = '1_21aug/1/21aug10047.fits'\n",
    "arcFileName = '1_21aug/1/21aug10046.fits'\n",
    "objFileName = '1_21aug/1/21aug10041.fits'\n",
    "extracted_arc2 = MHT.read_NPY(arcFileName, \"arc\", \"px\", folder)\n",
    "extracted_obj2 = MHT.read_NPY(objFileName, \"obj\", \"px\", folder)\n",
    "\n",
    "flatFileName = '2_22aug/1/22aug10032.fits'\n",
    "arcFileName = '2_22aug/1/22aug10031.fits'\n",
    "objFileName = '2_22aug/1/22aug10036.fits'\n",
    "extracted_arc3 = MHT.read_NPY(arcFileName, \"arc\", \"px\", folder)\n",
    "extracted_obj3 = MHT.read_NPY(objFileName, \"obj\", \"px\", folder)\n",
    "\n",
    "flatFileName = '3_24aug/1/24aug10053.fits'\n",
    "arcFileName = '3_24aug/1/24aug10054.fits'\n",
    "objFileName = '3_24aug/1/24aug10058.fits'\n",
    "extracted_arc4 = MHT.read_NPY(arcFileName, \"arc\", \"px\", folder)\n",
    "extracted_obj4 = MHT.read_NPY(objFileName, \"obj\", \"px\", folder)\n",
    "\n",
    "flatFileName = '4_25aug/1/25aug10039.fits'\n",
    "arcFileName = '4_25aug/1/25aug10043.fits'\n",
    "objFileName = '4_25aug/1/25aug10044.fits'\n",
    "extracted_arc5 = MHT.read_NPY(arcFileName, \"arc\", \"px\", folder)\n",
    "extracted_obj5 = MHT.read_NPY(objFileName, \"obj\", \"px\", folder)"
   ]
  },
  {
   "cell_type": "code",
   "execution_count": 89,
   "metadata": {
    "collapsed": false
   },
   "outputs": [
    {
     "name": "stdout",
     "output_type": "stream",
     "text": [
      "herpy_out/arc_20aug10052_px.npy read\n",
      "herpy_out/obj_20aug10053_px.npy read\n"
     ]
    }
   ],
   "source": []
  },
  {
   "cell_type": "code",
   "execution_count": 58,
   "metadata": {
    "collapsed": false
   },
   "outputs": [
    {
     "name": "stdout",
     "output_type": "stream",
     "text": [
      "Fibre 169\n",
      "Shift between template and this fibre arc -1\n"
     ]
    }
   ],
   "source": [
    "#FULL LOOP\n",
    "\n",
    "#Initialise the 3 output arrays\n",
    "wlSolutions = []\n",
    "wlErrors = []\n",
    "wlPolys = []\n",
    "\n",
    "#loop over each fibre\n",
    "for thisFibre in range(extracted_arc.shape[0])[169:170]:\n",
    "    print 'Fibre',thisFibre\n",
    "\n",
    "    # get the flux from a single arc\n",
    "    objectArc = extracted_arc[thisFibre].copy() \n",
    "    \n",
    "    # Template to build model from.\n",
    "    lineListfFileName = '../linelist_blue_v3.txt'\n",
    "        \n",
    "    #Create the model, etc\n",
    "    thisPoly, thisSolution, thisErr = MHT.make_poly_model_err(objectArc, lineListfFileName)\n",
    "    \n",
    "    #append lists\n",
    "    wlPolys.append(thisPoly)\n",
    "    wlSolutions.append(thisSolution)\n",
    "    wlErrors.append(thisErr)\n",
    "\n",
    "#turn lists into np arrays\n",
    "wlPolys = np.array(wlPolys)\n",
    "wlSolutions = np.array(wlSolutions)\n",
    "wlErrors = np.array(wlErrors)\n",
    "\n",
    "\n",
    "#         plt.plot(x_dense,gaussian(x_dense,p[0],p[1]))\n",
    "#         plt.plot(firstSliceX,firstSliceY/np.max(firstSliceY))\n",
    "#         plt.title(maxIdx)\n",
    "# #         plt.plot(masterArc[thisLineWl[0]-5:thisLineWl[0]+5])\n",
    "#         plt.show()\n"
   ]
  },
  {
   "cell_type": "code",
   "execution_count": 60,
   "metadata": {
    "collapsed": false
   },
   "outputs": [
    {
     "name": "stdout",
     "output_type": "stream",
     "text": [
      "Fibre 169 epoch 0\n",
      "Fibre 169 epoch 1\n",
      "Fibre 169 epoch 2\n",
      "Fibre 169 epoch 3\n",
      "Fibre 169 epoch 4\n"
     ]
    }
   ],
   "source": [
    "import glob\n",
    "import numpy as np\n",
    "\n",
    "lineList_v3 = np.loadtxt(\"../lineList_blue_v3.txt\")\n",
    "reload(MHT)\n",
    "pxValuesEpoch = MHT.px_change_across_epochs(\n",
    "    lineList_v3, glob.glob1(\"herpy_out\",\"WLS*\"), \n",
    "    glob.glob1(\"herpy_out\",\"arc*\"), 169, folder)"
   ]
  },
  {
   "cell_type": "code",
   "execution_count": 74,
   "metadata": {
    "collapsed": true
   },
   "outputs": [],
   "source": [
    "order = 3\n",
    "epochPolyFit = []\n",
    "epochDiffToFit = []\n",
    "#the offsets of 1 epoch per loop\n",
    "for i in range(pxValuesEpoch.shape[1]):\n",
    "    \n",
    "    polyFilter = [(pxValuesEpoch[:,i]-pxValuesEpoch[:,0])<100]\n",
    "    \n",
    "    thisEpochPolyFit = np.polyfit(pxValuesEpoch[:,0][polyFilter],(pxValuesEpoch[:,i]-pxValuesEpoch[:,0])[polyFilter], order)\n",
    "    thisEpochDiffToFit = np.polynomial.polynomial.polyval(pxValuesEpoch[:,0], thisEpochPolyFit[::-1])-(pxValuesEpoch[:,i]-pxValuesEpoch[:,0])\n",
    "\n",
    "    epochPolyFit.append(thisEpochPolyFit)\n",
    "    epochDiffToFit.append(thisEpochDiffToFit)\n",
    "#     plt.plot(pxValuesEpoch[:,0],pxValuesEpoch[:,i]-pxValuesEpoch[:,0], '.')\n",
    "#     plt.plot(pxValuesEpoch[:,0],np.polynomial.polynomial.polyval(pxValuesEpoch[:,0], thisEpochPolyFit[::-1]))\n",
    "#     plt.plot(pxValuesEpoch[:,0],thisEpochDiffToFit, '.')\n",
    "#     plt.show()\n",
    "\n",
    "#     print thisEpochDiffToFit\n",
    "\n",
    "\n",
    "\n"
   ]
  },
  {
   "cell_type": "code",
   "execution_count": 28,
   "metadata": {
    "collapsed": false
   },
   "outputs": [
    {
     "name": "stdout",
     "output_type": "stream",
     "text": [
      "herpy_out/pol_f_20aug10052_ saved\n",
      "herpy_out/WLS_f_20aug10052_ saved\n",
      "herpy_out/WLERR_f_20aug10052_ saved\n"
     ]
    }
   ],
   "source": [
    "MHT.write_NPY(arcFileName, \"pol_f\", \"\", wlPolys, folder =folder)\n",
    "MHT.write_NPY(arcFileName, \"WLS_f\", \"\", wlSolutions, folder =folder)\n",
    "MHT.write_NPY(arcFileName, \"WLERR_f\", \"\", wlErrors, folder =folder)\n"
   ]
  },
  {
   "cell_type": "code",
   "execution_count": null,
   "metadata": {
    "collapsed": true
   },
   "outputs": [],
   "source": []
  },
  {
   "cell_type": "code",
   "execution_count": 84,
   "metadata": {
    "collapsed": true
   },
   "outputs": [],
   "source": [
    "def make_WLS_from_polys(refWLS, epochPolyFit):\n",
    "    \n",
    "    newWLS = []\n",
    "    newPXs = []\n",
    "    refPx = np.arange(refWLS.shape[0])\n",
    "    for thisEpochPolyFit in epochPolyFit:\n",
    "        \n",
    "        thisNewPx = refPx + np.polynomial.polynomial.polyval(refPx, thisEpochPolyFit[::-1])\n",
    "        newPXs.append(thisNewPx)\n",
    "\n",
    "        thisNewWLS = np.interp(refPx, thisNewPx, refWLS)\n",
    "        newWLS.append(thisNewWLS)\n",
    "    return newPXs, newWLS"
   ]
  },
  {
   "cell_type": "code",
   "execution_count": 86,
   "metadata": {
    "collapsed": false
   },
   "outputs": [],
   "source": [
    "_,WLS_f = make_WLS_from_polys(wlSolutions[0], epochPolyFit)"
   ]
  },
  {
   "cell_type": "code",
   "execution_count": 99,
   "metadata": {
    "collapsed": true
   },
   "outputs": [],
   "source": [
    "def write_flux_and_wls(thisExtracted_obj, thisExtracted_arc, WLS_f, epochIdx):\n",
    "    objFilename = 'HD1581_' + str(epochIdx) + '.txt'\n",
    "    arcFilename = 'ThXe_' + str(epochIdx) + '.txt'\n",
    "    np.savetxt(objFilename, np.vstack((WLS_f[epochIdx], thisExtracted_obj)).transpose())\n",
    "    np.savetxt(arcFilename, np.vstack((WLS_f[epochIdx], thisExtracted_arc)).transpose())    "
   ]
  },
  {
   "cell_type": "code",
   "execution_count": 100,
   "metadata": {
    "collapsed": true
   },
   "outputs": [],
   "source": [
    "write_flux_and_wls(extracted_arc1[170],extracted_arc1[170],WLS_f,0)\n",
    "write_flux_and_wls(extracted_arc2[170],extracted_arc2[170],WLS_f,1)\n",
    "write_flux_and_wls(extracted_arc3[170],extracted_arc3[170],WLS_f,2)\n",
    "write_flux_and_wls(extracted_arc4[170],extracted_arc4[170],WLS_f,3)\n",
    "write_flux_and_wls(extracted_arc5[170],extracted_arc5[170],WLS_f,4)"
   ]
  },
  {
   "cell_type": "code",
   "execution_count": 97,
   "metadata": {
    "collapsed": false
   },
   "outputs": [],
   "source": [
    "plt.plot(WLS_f[0], extracted_arc1[170])\n",
    "plt.plot(WLS_f[1], extracted_arc2[170])\n",
    "plt.plot(WLS_f[2], extracted_arc3[170])\n",
    "plt.plot(WLS_f[3], extracted_arc4[170])\n",
    "plt.plot(WLS_f[4], extracted_arc5[170])\n",
    "plt.show()"
   ]
  },
  {
   "cell_type": "code",
   "execution_count": 96,
   "metadata": {
    "collapsed": true
   },
   "outputs": [],
   "source": [
    "plt.plot( extracted_arc1[170])\n",
    "plt.plot(extracted_arc2[170])\n",
    "plt.plot( extracted_arc3[170])\n",
    "plt.plot(extracted_arc4[170])\n",
    "plt.plot( extracted_arc5[170])\n",
    "plt.show()"
   ]
  },
  {
   "cell_type": "code",
   "execution_count": 87,
   "metadata": {
    "collapsed": false
   },
   "outputs": [
    {
     "data": {
      "text/plain": [
       "[array([ 4713.78407785,  4713.84106035,  4713.8980369 , ...,  4902.17434514,\n",
       "         4902.2100816 ,  4902.24581461]),\n",
       " array([ 4713.78407785,  4713.83928705,  4713.8962644 , ...,  4902.17130479,\n",
       "         4902.20703963,  4902.24277102]),\n",
       " array([ 4713.78407785,  4713.83550778,  4713.89248941, ...,  4902.17449474,\n",
       "         4902.21023872,  4902.24581461]),\n",
       " array([ 4713.79074382,  4713.84773507,  4713.90472036, ...,  4902.18229244,\n",
       "         4902.21803503,  4902.24581461]),\n",
       " array([ 4713.78407785,  4713.83215995,  4713.88912218, ...,  4902.15036513,\n",
       "         4902.18608537,  4902.22180215])]"
      ]
     },
     "execution_count": 87,
     "metadata": {},
     "output_type": "execute_result"
    }
   ],
   "source": [
    "WLS_f"
   ]
  },
  {
   "cell_type": "code",
   "execution_count": null,
   "metadata": {
    "collapsed": false
   },
   "outputs": [],
   "source": [
    "# np.savetxt('HD1581_1.txt',np.vstack((wlSolutions[170], extracted_obj[170])).transpose())\n",
    "# np.savetxt('ThXe_1.txt',np.vstack((wlSolutions[170], extracted_arc[170])).transpose())"
   ]
  },
  {
   "cell_type": "code",
   "execution_count": null,
   "metadata": {
    "collapsed": false
   },
   "outputs": [],
   "source": [
    "# np.savetxt('HD1581_0.txt',np.vstack((wlSolutions[170], extracted_obj[170])).transpose())\n",
    "np.savetxt('ThXe_0.txt',np.vstack((wlSolutions[170], extracted_arc[170])).transpose())"
   ]
  },
  {
   "cell_type": "code",
   "execution_count": null,
   "metadata": {
    "collapsed": false
   },
   "outputs": [],
   "source": [
    "np.savetxt('HD1581_2.txt',np.vstack((wlSolutions[170], extracted_obj[170])).transpose())\n",
    "np.savetxt('ThXe_2.txt',np.vstack((wlSolutions[170], extracted_arc[170])).transpose())"
   ]
  },
  {
   "cell_type": "code",
   "execution_count": null,
   "metadata": {
    "collapsed": false
   },
   "outputs": [],
   "source": [
    "np.savetxt('HD1581_3.txt',np.vstack((wlSolutions[170], extracted_obj[170])).transpose())\n",
    "np.savetxt('ThXe_3.txt',np.vstack((wlSolutions[170], extracted_arc[170])).transpose())"
   ]
  },
  {
   "cell_type": "code",
   "execution_count": 35,
   "metadata": {
    "collapsed": false
   },
   "outputs": [],
   "source": [
    "a = np.load(\"herpy_out/obj_20aug10053_px.npy\")"
   ]
  },
  {
   "cell_type": "code",
   "execution_count": 36,
   "metadata": {
    "collapsed": false
   },
   "outputs": [],
   "source": [
    "import pylab as plt\n",
    "# plt.plot(np.nansum(a, axis=1))\n",
    "# plt.show()"
   ]
  },
  {
   "cell_type": "code",
   "execution_count": 39,
   "metadata": {
    "collapsed": false
   },
   "outputs": [],
   "source": [
    "plt.plot(wlSolutions[0],a[169])\n",
    "plt.show()"
   ]
  },
  {
   "cell_type": "code",
   "execution_count": null,
   "metadata": {
    "collapsed": false
   },
   "outputs": [],
   "source": [
    "a[170]"
   ]
  },
  {
   "cell_type": "code",
   "execution_count": 32,
   "metadata": {
    "collapsed": false
   },
   "outputs": [
    {
     "data": {
      "text/plain": [
       "array([ 4713.84469917,  4713.90134228,  4713.95798064, ...,  4901.98194892,\n",
       "        4902.01684941,  4902.05174421])"
      ]
     },
     "execution_count": 32,
     "metadata": {},
     "output_type": "execute_result"
    }
   ],
   "source": [
    "wlSolutions[0]"
   ]
  },
  {
   "cell_type": "code",
   "execution_count": 40,
   "metadata": {
    "collapsed": true
   },
   "outputs": [],
   "source": [
    "import glob"
   ]
  },
  {
   "cell_type": "code",
   "execution_count": 45,
   "metadata": {
    "collapsed": true
   },
   "outputs": [],
   "source": [
    "wlnames = glob.glob1(folder,\"WLS_f*\")\n",
    "objnames = glob.glob1(folder,\"obj*\")"
   ]
  },
  {
   "cell_type": "code",
   "execution_count": 52,
   "metadata": {
    "collapsed": false
   },
   "outputs": [
    {
     "name": "stdout",
     "output_type": "stream",
     "text": [
      "0\n",
      "[ 4713.84469917  4713.90134228  4713.95798064 ...,  4901.98194892\n",
      "  4902.01684941  4902.05174421]\n",
      "1\n",
      "[ 4713.70129958  4713.75887071  4713.81643446 ...,  4902.10906243\n",
      "  4902.14458502  4902.18010379]\n",
      "2\n",
      "[ 4713.82581107  4713.88244273  4713.93906957 ...,  4901.99818081\n",
      "  4902.03320899  4902.06823184]\n",
      "3\n",
      "[ 4713.74130815  4713.79860232  4713.85589009 ...,  4902.14467077\n",
      "  4902.18018149  4902.21568798]\n",
      "4\n",
      "[ 4713.93282506  4713.98897365  4714.04511853 ...,  4902.0616315\n",
      "  4902.09689277  4902.13214915]\n"
     ]
    }
   ],
   "source": [
    "for i in range(5):\n",
    "    print i \n",
    "    a = np.load(folder + \"/\" + wlnames[i])\n",
    "    b = np.load(folder + \"/\" + objnames[i])\n",
    "    c = b[169]\n",
    "    print a[0]\n",
    "#     plt.plot(a[0],c)\n",
    "#     plt.plot(c)\n",
    "\n",
    "# plt.show()"
   ]
  },
  {
   "cell_type": "code",
   "execution_count": null,
   "metadata": {
    "collapsed": true
   },
   "outputs": [],
   "source": []
  }
 ],
 "metadata": {
  "kernelspec": {
   "display_name": "Python 2",
   "language": "python",
   "name": "python2"
  },
  "language_info": {
   "codemirror_mode": {
    "name": "ipython",
    "version": 2
   },
   "file_extension": ".py",
   "mimetype": "text/x-python",
   "name": "python",
   "nbconvert_exporter": "python",
   "pygments_lexer": "ipython2",
   "version": "2.7.3"
  }
 },
 "nbformat": 4,
 "nbformat_minor": 0
}
