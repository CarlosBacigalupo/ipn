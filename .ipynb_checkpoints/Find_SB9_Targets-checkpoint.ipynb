{
 "cells": [
  {
   "cell_type": "code",
   "execution_count": 1,
   "metadata": {
    "collapsed": false
   },
   "outputs": [],
   "source": [
    "import numpy as np\n",
    "import os\n",
    "import pandas as pd\n",
    "import pylab as plt"
   ]
  },
  {
   "cell_type": "code",
   "execution_count": 2,
   "metadata": {
    "collapsed": false
   },
   "outputs": [],
   "source": [
    "os.chdir('/Users/Carlos/Documents/databases/SB9')"
   ]
  },
  {
   "cell_type": "code",
   "execution_count": 3,
   "metadata": {
    "collapsed": false
   },
   "outputs": [],
   "source": [
    "# Description of SB9\n",
    "\n",
    "# In all cases, \"|\" is the field separator.\n",
    "\n",
    "# Main.dta\n",
    "#   Field #         Description\n",
    "#      1            System Number (SB8: <=1469)\n",
    "#      2            1900.0 coordinates (for backward compatibility with SB8)\n",
    "#      3            2000.0 coordinates\n",
    "#      4            Component\n",
    "#      5            Magnitude of component 1\n",
    "#      6            Filter component 1\n",
    "#      7            Magnitude of component 2\n",
    "#      8            Filter component 2\n",
    "#      9            Spectral type component 1\n",
    "#     10            Spectral type component 2\n",
    "\n",
    "\n",
    "# Orbits.dta\n",
    "#   Field #         Description\n",
    "#      1            System number\n",
    "#      2            Orbit number for that system\n",
    "#      3            Period (d)\n",
    "#      4            error on P (d)\n",
    "#      5            Periastron time (JD-2400000)\n",
    "#      6            error on Periastron time\n",
    "#      7            Flag on periastron time\n",
    "#      8            eccentricity\n",
    "#      9            error on eccentricity\n",
    "#     10            argument of periastron (deg)\n",
    "#     11            error on omega\n",
    "#     12            K1 (km/s)\n",
    "#     13            error on K1 (km/s)    \n",
    "#     14            K2 (km/s)\n",
    "#     15            error on K2 (km/s)\n",
    "#     16            systemic velocity (km/s)\n",
    "#     17            error on V0 (km/s)\n",
    "#     18            rms RV1 (km/s)\n",
    "#     19            rms RV2 (km/s)\n",
    "#     20            #RV1\n",
    "#     21            #RV2\n",
    "#     22            Grade (0:poor, 5: definitive)\n",
    "#     23            Bibcode\n",
    "#     24            Contributor\n",
    "#     25            Accessibility\n",
    "\n",
    "# Alias.dta\n",
    "#   Field #         Description\n",
    "#      1            System number\n",
    "#      2            Catalog name\n",
    "#      3            ID in that catalog\n",
    "\n",
    "\n",
    "# Reference:\n",
    "# Any user of SB9 is encouraged to acknowledge the catalogue with a \n",
    "# reference to\n",
    "#  \"SB9: The ninth catalogue of spectroscopic binary orbits\", \n",
    "#  Pourbaix D., Tokovinin A.A., Batten A.H., Fekel F.C., Hartkopf W.I., \n",
    "#  Levato H., Morrell N.I., Torres G., Udry S., 2004, \n",
    "#  Astronomy and Astrophysics, 424, 727-732.\n"
   ]
  },
  {
   "cell_type": "code",
   "execution_count": 66,
   "metadata": {
    "collapsed": false
   },
   "outputs": [],
   "source": [
    "c = np.genfromtxt('Main.dta', dtype = str, delimiter='|', usecols = 2)"
   ]
  },
  {
   "cell_type": "code",
   "execution_count": 67,
   "metadata": {
    "collapsed": false
   },
   "outputs": [],
   "source": [
    "def split_RA_Dec(RADec):\n",
    "    try:\n",
    "        thisOne = [int(RADec[:2]),int(RADec[2:4]),float(int(RADec[4:9])/1000.),\n",
    "                   int(RADec[9:12]),int(RADec[12:14]),float(int(RADec[14:18])/100.)]\n",
    "    except:\n",
    "        thisOne = [0,0,0,0,0,0]\n",
    "    return thisOne\n"
   ]
  },
  {
   "cell_type": "code",
   "execution_count": 68,
   "metadata": {
    "collapsed": false
   },
   "outputs": [],
   "source": [
    "c_all = []\n",
    "for i in c:\n",
    "    c_all.append(split_RA_Dec(i))\n",
    "    "
   ]
  },
  {
   "cell_type": "code",
   "execution_count": 69,
   "metadata": {
    "collapsed": false
   },
   "outputs": [],
   "source": [
    "c = np.array(c_all)"
   ]
  },
  {
   "cell_type": "code",
   "execution_count": 70,
   "metadata": {
    "collapsed": false
   },
   "outputs": [
    {
     "data": {
      "text/plain": [
       "23.0"
      ]
     },
     "execution_count": 70,
     "metadata": {},
     "output_type": "execute_result"
    }
   ],
   "source": [
    "max(c[:,0])"
   ]
  },
  {
   "cell_type": "code",
   "execution_count": 79,
   "metadata": {
    "collapsed": false
   },
   "outputs": [],
   "source": [
    "#load full database into big_df\n",
    "\n",
    "# def split_RA_Dec(RADec):\n",
    "    \n",
    "#     thisOne = [(int(RADec[:2]),int(RADec[2:4]),float(int(RADec[4:9])/1000.),int(RADec[9:12]),int(RADec[12:14]),float(int(RADec[14:18])/100.))]\n",
    "#     return thisOne\n",
    "\n",
    "# c = np.genfromtxt('Main.dta', delimiter='|', usecols = 2, converters={2:split_RA_Dec})\n",
    "# goodC = np.zeros((len(c),6))\n",
    "# for row in range(len(c)):\n",
    "#     if type(c[row])!=float:\n",
    "#         for col in range(6):\n",
    "#             goodC[row,col] =c[row][0][col]\n",
    "# c=goodC\n",
    "\n",
    "\n",
    "#      1            System Number (SB8: <=1469)\n",
    "#      2            1900.0 coordinates (for backward compatibility with SB8)\n",
    "#      3            2000.0 coordinates\n",
    "#      4            Component\n",
    "#      5            Magnitude of component 1\n",
    "#      6            Filter component 1\n",
    "#      7            Magnitude of component 2\n",
    "#      8            Filter component 2\n",
    "#      9            Spectral type component 1\n",
    "#     10            Spectral type component 2\n",
    "a=np.genfromtxt('Main.dta', delimiter='|')\n",
    "\n",
    "main_df = pd.DataFrame({ 'No' : a[:,0],\n",
    "                        'RA1' : c[:,0] ,\n",
    "                        'RA2' : c[:,1] ,\n",
    "                        'RA3' : c[:,2] ,\n",
    "                        'Dec1' : c[:,3] ,\n",
    "                        'Dec2' : c[:,4] ,\n",
    "                        'Dec3' : c[:,5] ,\n",
    "                        'Vmag1' : a[:,4],\n",
    "                        'SpecType1' : a[:,8],\n",
    "                        'Vmag1' : a[:,6],\n",
    "                        'SpecType1' : a[:,9]})\n",
    "\n",
    "# Orbits.dta\n",
    "#   Field #         Description\n",
    "#      1            System number\n",
    "#      2            Orbit number for that system\n",
    "#      3            Period (d)\n",
    "#      4            error on P (d)\n",
    "#      5            Periastron time (JD-2400000)\n",
    "#      6            error on Periastron time\n",
    "#      7            Flag on periastron time\n",
    "#      8            eccentricity\n",
    "#      9            error on eccentricity\n",
    "#     10            argument of periastron (deg)\n",
    "#     11            error on omega\n",
    "#     12            K1 (km/s)\n",
    "#     13            error on K1 (km/s)    \n",
    "#     14            K2 (km/s)\n",
    "#     15            error on K2 (km/s)\n",
    "#     16            systemic velocity (km/s)\n",
    "#     17            error on V0 (km/s)\n",
    "#     18            rms RV1 (km/s)\n",
    "#     19            rms RV2 (km/s)\n",
    "#     20            #RV1\n",
    "#     21            #RV2\n",
    "#     22            Grade (0:poor, 5: definitive)\n",
    "#     23            Bibcode\n",
    "#     24            Contributor\n",
    "#     25            Accessibility\n",
    "b=np.genfromtxt('Orbits.dta', delimiter='|')\n",
    "orbits_df = pd.DataFrame({ 'No' : b[:,0],\n",
    "                        'period(days)' : b[:,2] ,\n",
    "                        'peri_time' : b[:,4] ,\n",
    "                        'peri_arg' : b[:,9] ,\n",
    "                        'eccentricity' : b[:,7],\n",
    "                        'K1' : b[:,11],\n",
    "                        'K2' : b[:,13],\n",
    "                        'K1_P' : b[:,11]/b[:,2],\n",
    "                        'grade' : b[:,21]})\n",
    "\n",
    "\n",
    "#   Field #         Description\n",
    "#      1            System number\n",
    "#      2            Catalog name\n",
    "#      3            ID in that catalog\n",
    "d0=np.genfromtxt('Alias.dta', delimiter='|',usecols = 0, converters={0:int})\n",
    "d1=np.genfromtxt('Alias.dta', delimiter='|',usecols = 1, converters={1:str})\n",
    "d2=np.genfromtxt('Alias.dta', delimiter='|',usecols = 2, converters={2:str})\n",
    "alias_df = pd.DataFrame({ 'No' : d0,\n",
    "                         'cat' : d1 ,\n",
    "                         'ID' : d2})\n",
    "\n",
    "\n",
    "\n",
    "\n",
    "big_df = main_df.merge(orbits_df, on='No')\n",
    "big_df['SpecType1'] = big_df['SpecType1'].astype(str)\n",
    "\n",
    "alias_mask = alias_df['cat'] == 'HIP'\n",
    "\n",
    "named_df = big_df.merge(alias_df[alias_mask], on='No')"
   ]
  },
  {
   "cell_type": "code",
   "execution_count": 80,
   "metadata": {
    "collapsed": false
   },
   "outputs": [
    {
     "name": "stdout",
     "output_type": "stream",
     "text": [
      "   Dec1  Dec2   Dec3  No  RA1  RA2     RA3 SpecType1  Vmag1       K1  \\\n",
      "0    -5    42  27.43   1    0    5  20.141       nan    NaN  16.4000   \n",
      "1    63    40  46.76   2    0    6   3.386       nan    NaN   9.3000   \n",
      "2    -2    26  51.76   3    0    8  12.096       nan    NaN  24.3000   \n",
      "3    29     5  25.55   4    0    8  23.259       nan    NaN  30.1000   \n",
      "4    29     5  25.55   4    0    8  23.259       nan    NaN  27.7444   \n",
      "5    29     5  25.55   4    0    8  23.259       nan    NaN  31.2000   \n",
      "6    29     5  25.55   4    0    8  23.259       nan    NaN  27.8000   \n",
      "7    28    14  51.15   5    0    9   0.161       nan    NaN  35.5000   \n",
      "8    28    14  51.15   5    0    9   0.161       nan    NaN  33.6000   \n",
      "9    28    14  51.15   5    0    9   0.161       nan    NaN  37.7400   \n",
      "\n",
      "       K1_P       K2  eccentricity  grade  peri_arg  peri_time  period(days)  \\\n",
      "0  0.224873      NaN      0.270000      5  337.7000  22530.330      72.93000   \n",
      "1  2.017354      NaN      0.000000      1    0.0000  42297.200       4.61000   \n",
      "2  0.251973      NaN      0.040000      4  152.0000  44288.700      96.43900   \n",
      "3  0.311285      NaN      0.520000      4   77.1000  42056.320      96.69600   \n",
      "4  0.286911  65.4651      0.534812      5   77.4527  47374.600      96.70050   \n",
      "5  0.322634  62.8000      0.555000    NaN   78.2000  48245.400      96.70410   \n",
      "6  0.287498  66.2000      0.600000    NaN   74.9000  49212.170      96.69630   \n",
      "7  1.036191      NaN      0.410000      2  140.9000  43041.270      34.26010   \n",
      "8  0.980727      NaN      0.377000    NaN  136.4000  43041.020      34.26030   \n",
      "9  1.101499  46.3300      0.320000      5  135.0100  54175.643      34.26241   \n",
      "\n",
      "    ID  cat  \n",
      "0  443  HIP  \n",
      "1  505  HIP  \n",
      "2  664  HIP  \n",
      "3  677  HIP  \n",
      "4  677  HIP  \n",
      "5  677  HIP  \n",
      "6  677  HIP  \n",
      "7  728  HIP  \n",
      "8  728  HIP  \n",
      "9  728  HIP  \n"
     ]
    }
   ],
   "source": [
    "print named_df[:10]"
   ]
  },
  {
   "cell_type": "code",
   "execution_count": 88,
   "metadata": {
    "collapsed": false
   },
   "outputs": [
    {
     "name": "stdout",
     "output_type": "stream",
     "text": [
      "Candidates in selection 3\n",
      "      Dec1  Dec2   Dec3    No  RA1  RA2     RA3 SpecType1  Vmag1     K1  \\\n",
      "52     -65    28   4.91    40    0   42  28.373       F6V  5.393  26.10   \n",
      "1729   -15    20  28.49  1482    2   26   0.349       NaN    NaN  18.42   \n",
      "2022    -3     1  55.30  1847    2   13  42.226       NaN    NaN  16.08   \n",
      "\n",
      "          K1_P  K2  eccentricity  grade  peri_arg  peri_time  period(days)  \\\n",
      "52    5.414713 NaN          0.02      5     269.3  19299.110      4.820200   \n",
      "1729  6.144481 NaN          0.03      5      32.3  49986.717      2.997812   \n",
      "2022  5.469816 NaN          0.00      5       0.0  48111.768      2.939770   \n",
      "\n",
      "         ID  cat  \n",
      "52     3330  HIP  \n",
      "1729  11348  HIP  \n",
      "2022  10382  HIP  \n"
     ]
    }
   ],
   "source": [
    "dailyRV_mask = ((named_df['K1_P'] > 0.5) & (named_df['K1_P'] < 10.))\n",
    "period_mask = named_df['period(days)'] < 5. \n",
    "K2_mask = np.isnan(named_df['K2'])\n",
    "eccentricity_mask = named_df['eccentricity'] < 0.1\n",
    "grade_mask = named_df['grade'] == 5\n",
    "dec_mask = ((named_df['Dec1'] > -75) & (named_df['Dec1'] < 15)) \n",
    "RA_mask = ((named_df['RA1'] > 22) | (named_df['RA1'] <4)) \n",
    "no667_mask = named_df['No'] != 667\n",
    "\n",
    "named_df['Vmag1'][named_df['No']==40]=5.393\n",
    "named_df['Vmag1'][named_df['No']==1482]=np.nan\n",
    "named_df['Vmag1'][named_df['No']==1847]=np.nan\n",
    "\n",
    "named_df['SpecType1'][named_df['No']==40]='F6V'\n",
    "named_df['SpecType1'][named_df['No']==1482]=np.nan\n",
    "named_df['SpecType1'][named_df['No']==1847]=np.nan\n",
    "\n",
    "full_mask = dailyRV_mask & period_mask & eccentricity_mask & grade_mask & dec_mask & K2_mask & RA_mask & no667_mask\n",
    "print 'Candidates in selection',np.sum(full_mask)\n",
    "print named_df[full_mask]\n",
    "\n",
    "big_df = named_df[full_mask]\n"
   ]
  },
  {
   "cell_type": "code",
   "execution_count": 106,
   "metadata": {
    "collapsed": false
   },
   "outputs": [
    {
     "name": "stdout",
     "output_type": "stream",
     "text": [
      "['Dec1', 'Dec2', 'Dec3', 'No', 'RA1', 'RA2', 'RA3', 'SpecType1', 'Vmag1', 'K1', 'K1_P', 'K2', 'eccentricity', 'grade', 'peri_arg', 'peri_time', 'period(days)', 'ID', 'cat']\n"
     ]
    }
   ],
   "source": [
    "cols = big_df.columns.tolist()\n",
    "print cols"
   ]
  },
  {
   "cell_type": "code",
   "execution_count": 148,
   "metadata": {
    "collapsed": false
   },
   "outputs": [],
   "source": [
    "colsNew = [cols[-1]]+[cols[-2]]+cols[4:7]+cols[0:3]+cols[7:10]+[cols[-3]]"
   ]
  },
  {
   "cell_type": "code",
   "execution_count": 150,
   "metadata": {
    "collapsed": false
   },
   "outputs": [
    {
     "name": "stdout",
     "output_type": "stream",
     "text": [
      "['cat', 'ID', 'RA1', 'RA2', 'RA3', 'Dec1', 'Dec2', 'Dec3', 'SpecType1', 'Vmag1', 'K1', 'period(days)']\n"
     ]
    }
   ],
   "source": [
    "print colsNew\n",
    "colsName = ['ID', 'RA (hr mm ss)', 'Dec (Deg mm ss)', 'Spectral Type', 'Magnitude (V)', 'RV Semi-amplitude (Km/s)', 'period(days)']"
   ]
  },
  {
   "cell_type": "code",
   "execution_count": 186,
   "metadata": {
    "collapsed": false
   },
   "outputs": [],
   "source": [
    "col1 = big_df['cat'] + ['  ', ' ', ' '] +big_df['ID'].map(str) \n",
    "col2 = big_df['RA1'].map(int).map(str) + [' ', ' ', ' '] + big_df['RA2'].map(int).map(str) +  [' ', '  ', ' '] + big_df['RA3'].map(str)\n",
    "col3 = big_df['Dec1'].map(int).map(str) + [' ', ' ', '  '] + big_df['Dec2'].map(int).map(str) +  [' ', ' ', ' '] + big_df['Dec3'].map(str) + ['','',' ']\n",
    "col4 = big_df['SpecType1']\n",
    "col5 = big_df['Vmag1']\n",
    "col6 = big_df['K1']\n",
    "col7 = big_df['period(days)']\n",
    "nice_df = pd.concat([col1, col2, col3, col4, col5, col6, col7], axis=1)\n",
    "nice_df.columns =colsName "
   ]
  },
  {
   "cell_type": "code",
   "execution_count": 187,
   "metadata": {
    "collapsed": false
   },
   "outputs": [
    {
     "name": "stdout",
     "output_type": "stream",
     "text": [
      "\\begin{tabular}{llllrrr}\n",
      "\\toprule\n",
      "        ID & RA (hr mm ss) & Dec (Deg mm ss) & Spectral Type &  Magnitude (V) &  RV Semi-amplitude (Km/s) &  period(days) \\\\\n",
      "\\midrule\n",
      " HIP  3330 &   0 42 28.373 &     -65 28 4.91 &           F6V &          5.393 &                     26.10 &      4.820200 \\\\\n",
      " HIP 11348 &   2 26  0.349 &    -15 20 28.49 &           NaN &            NaN &                     18.42 &      2.997812 \\\\\n",
      " HIP 10382 &   2 13 42.226 &     -3  1 55.3  &           NaN &            NaN &                     16.08 &      2.939770 \\\\\n",
      "\\bottomrule\n",
      "\\end{tabular}\n",
      "\n"
     ]
    }
   ],
   "source": [
    "print nice_df.to_latex(index=False)"
   ]
  },
  {
   "cell_type": "code",
   "execution_count": 190,
   "metadata": {
    "collapsed": false
   },
   "outputs": [
    {
     "name": "stdout",
     "output_type": "stream",
     "text": [
      "      cat     ID  RA1  RA2     RA3  Dec1  Dec2   Dec3 SpecType1  Vmag1     K1  \\\n",
      "52    HIP   3330    0   42  28.373   -65    28   4.91       F6V  5.393  26.10   \n",
      "1729  HIP  11348    2   26   0.349   -15    20  28.49       NaN    NaN  18.42   \n",
      "2022  HIP  10382    2   13  42.226    -3     1  55.30       NaN    NaN  16.08   \n",
      "\n",
      "      period(days)  \n",
      "52        4.820200  \n",
      "1729      2.997812  \n",
      "2022      2.939770  \n"
     ]
    }
   ],
   "source": [
    "\n",
    "pd.options.display.max_columns = 50\n",
    "print big_df[colsNew]"
   ]
  },
  {
   "cell_type": "code",
   "execution_count": 8,
   "metadata": {
    "collapsed": false
   },
   "outputs": [
    {
     "data": {
      "text/plain": [
       "'observing days:\\nday# start end\\n1 2456890.083333 2456890.291667 #20th\\n2 2456891.083333 2456891.291667 #21\\n3 2456892.083333 2456892.291667 #22\\n4 2456894.083333 2456894.291667 #24\\n5 2456895.083333 2456895.291667 #25\\n'"
      ]
     },
     "execution_count": 8,
     "metadata": {},
     "output_type": "execute_result"
    }
   ],
   "source": [
    "'''observing days:\n",
    "day# start end\n",
    "1 2456890.083333 2456890.291667 #20th\n",
    "2 2456891.083333 2456891.291667 #21\n",
    "3 2456892.083333 2456892.291667 #22\n",
    "4 2456894.083333 2456894.291667 #24\n",
    "5 2456895.083333 2456895.291667 #25\n",
    "'''"
   ]
  },
  {
   "cell_type": "code",
   "execution_count": 85,
   "metadata": {
    "collapsed": false
   },
   "outputs": [
    {
     "name": "stdout",
     "output_type": "stream",
     "text": [
      "40 10.6182208333 -64.5319694444\n",
      "1482 36.5014541667 -14.6587527778\n",
      "1847 33.4259416667 -2.96797222222\n"
     ]
    }
   ],
   "source": [
    "#visibility plot\n",
    "for i in np.where(full_mask==True)[0]:\n",
    "    RA1 = big_df['RA1'][i]\n",
    "    RA2 = big_df['RA2'][i]\n",
    "    RA3 = big_df['RA3'][i]\n",
    "    Dec1 = big_df['Dec1'][i]\n",
    "    Dec2 = big_df['Dec2'][i]\n",
    "    Dec3 = big_df['Dec3'][i]\n",
    "    no = big_df['No'][i]\n",
    "    \n",
    "    RA = (RA1+RA2/60+RA3/3600)*15\n",
    "    Dec = (Dec1+Dec2/60+Dec3/3600)\n",
    "    print int(no), RA, Dec\n",
    "    if i ==56:\n",
    "        cc = 'r'\n",
    "    elif i ==1981:\n",
    "        cc = 'g'\n",
    "    else:\n",
    "        cc = 'b'\n",
    "\n",
    "    plt.scatter(RA, Dec, label = int(no), color = cc)\n",
    "plt.xlabel('RA (deg)')\n",
    "plt.ylabel('Dec (deg)')\n",
    "    \n",
    "plt.gca().add_patch(plt.Rectangle((0,-75),4*15,90, alpha = 0.5, label = 'Observing Window'))\n",
    "plt.gca().add_patch(plt.Rectangle((22*15,-75),2*15,90, alpha = 0.5))\n",
    "plt.axis((0,360,-90,90))\n",
    "plt.grid(True , which = 'major')\n",
    "plt.xticks(np.arange(0,360, 20))\n",
    "plt.yticks(np.arange(-90,90, 20))\n",
    "plt.legend()\n",
    "plt.show()\n"
   ]
  },
  {
   "cell_type": "code",
   "execution_count": 191,
   "metadata": {
    "collapsed": false
   },
   "outputs": [
    {
     "name": "stdout",
     "output_type": "stream",
     "text": [
      "3330 26.1 2419299.11 4.8202 269.3\n",
      "11348 18.42 2449986.717 2.997812 32.3\n",
      "10382 16.08 2448111.768 2.93977 0.0\n"
     ]
    }
   ],
   "source": [
    "#RV vs day plot for selected SB\n",
    "start_day = 2456889.500000 # The Julian date for CE  2014 August 20 00:00:00.0 UT  (10am australia)\n",
    "end_day = 2456895.500000 #The Julian date for CE  2014 August 26 00:00:00.0 UT (10am australia)\n",
    "\n",
    "days = np.linspace(start_day, end_day) \n",
    "\n",
    "for i in np.where(full_mask==True)[0]:\n",
    "#     print i\n",
    "    P = big_df['period(days)'][i]\n",
    "    peri_arg = big_df['peri_arg'][i]\n",
    "    peri_time = big_df['peri_time'][i] + 2400000\n",
    "    K1 = big_df['K1'][i]\n",
    "    no = 'HIP '+big_df['ID'][i]\n",
    "    print no, K1, peri_time, P, peri_arg\n",
    "    RV = K1* np.sin( (days-peri_time)/P*2*np.pi + peri_arg/360*2*np.pi )\n",
    "    plt.plot(days, RV, linewidth = 1, label = no )\n",
    "\n",
    "plt.xlabel('JD')\n",
    "plt.ylabel('RV (km/s)')\n",
    "plt.gca().add_patch(plt.Rectangle((2456890.083333,-100),0.2083339998498559,200, alpha = 0.5, label = 'Observing Time'))\n",
    "plt.gca().add_patch(plt.Rectangle((2456891.083333,-100),0.2083339998498559,200, alpha = 0.5))\n",
    "plt.gca().add_patch(plt.Rectangle((2456892.083333,-100),0.2083339998498559,200, alpha = 0.5))\n",
    "plt.gca().add_patch(plt.Rectangle((2456894.083333,-100),0.2083339998498559,200, alpha = 0.5))\n",
    "plt.gca().add_patch(plt.Rectangle((2456895.083333,-100),0.2083339998498559,200, alpha = 0.5))\n",
    "\n",
    "plt.legend(loc=0)\n",
    "plt.show()\n"
   ]
  },
  {
   "cell_type": "code",
   "execution_count": null,
   "metadata": {
    "collapsed": false
   },
   "outputs": [],
   "source": []
  },
  {
   "cell_type": "code",
   "execution_count": 86,
   "metadata": {
    "collapsed": false
   },
   "outputs": [
    {
     "ename": "KeyError",
     "evalue": "u'no item named period'",
     "output_type": "error",
     "traceback": [
      "\u001b[0;31m---------------------------------------------------------------------------\u001b[0m",
      "\u001b[0;31mKeyError\u001b[0m                                  Traceback (most recent call last)",
      "\u001b[0;32m<ipython-input-86-32b830ad2205>\u001b[0m in \u001b[0;36m<module>\u001b[0;34m()\u001b[0m\n\u001b[0;32m----> 1\u001b[0;31m \u001b[0mP\u001b[0m \u001b[0;34m=\u001b[0m \u001b[0mbig_df\u001b[0m\u001b[0;34m[\u001b[0m\u001b[0;34m'period'\u001b[0m\u001b[0;34m]\u001b[0m\u001b[0;34m[\u001b[0m\u001b[0;36m0\u001b[0m\u001b[0;34m]\u001b[0m\u001b[0;34m\u001b[0m\u001b[0m\n\u001b[0m\u001b[1;32m      2\u001b[0m \u001b[0mperi_arg\u001b[0m \u001b[0;34m=\u001b[0m \u001b[0mbig_df\u001b[0m\u001b[0;34m[\u001b[0m\u001b[0;34m'peri_arg'\u001b[0m\u001b[0;34m]\u001b[0m\u001b[0;34m[\u001b[0m\u001b[0;36m0\u001b[0m\u001b[0;34m]\u001b[0m\u001b[0;34m\u001b[0m\u001b[0m\n\u001b[1;32m      3\u001b[0m \u001b[0mperi_time\u001b[0m \u001b[0;34m=\u001b[0m \u001b[0mbig_df\u001b[0m\u001b[0;34m[\u001b[0m\u001b[0;34m'peri_time'\u001b[0m\u001b[0;34m]\u001b[0m\u001b[0;34m[\u001b[0m\u001b[0;36m0\u001b[0m\u001b[0;34m]\u001b[0m\u001b[0;34m\u001b[0m\u001b[0m\n\u001b[1;32m      4\u001b[0m \u001b[0;32mprint\u001b[0m \u001b[0mperi_time\u001b[0m\u001b[0;34m\u001b[0m\u001b[0m\n\u001b[1;32m      5\u001b[0m \u001b[0mdays\u001b[0m \u001b[0;34m=\u001b[0m \u001b[0mnp\u001b[0m\u001b[0;34m.\u001b[0m\u001b[0mlinspace\u001b[0m\u001b[0;34m(\u001b[0m\u001b[0mperi_time\u001b[0m\u001b[0;34m,\u001b[0m\u001b[0mperi_time\u001b[0m\u001b[0;34m+\u001b[0m\u001b[0mP\u001b[0m\u001b[0;34m)\u001b[0m \u001b[0;34m+\u001b[0m \u001b[0;36m2400000\u001b[0m\u001b[0;34m\u001b[0m\u001b[0m\n",
      "\u001b[0;32m/Users/Carlos/Library/Enthought/Canopy_64bit/User/lib/python2.7/site-packages/pandas/core/frame.pyc\u001b[0m in \u001b[0;36m__getitem__\u001b[0;34m(self, key)\u001b[0m\n\u001b[1;32m   2001\u001b[0m             \u001b[0;31m# get column\u001b[0m\u001b[0;34m\u001b[0m\u001b[0;34m\u001b[0m\u001b[0m\n\u001b[1;32m   2002\u001b[0m             \u001b[0;32mif\u001b[0m \u001b[0mself\u001b[0m\u001b[0;34m.\u001b[0m\u001b[0mcolumns\u001b[0m\u001b[0;34m.\u001b[0m\u001b[0mis_unique\u001b[0m\u001b[0;34m:\u001b[0m\u001b[0;34m\u001b[0m\u001b[0m\n\u001b[0;32m-> 2003\u001b[0;31m                 \u001b[0;32mreturn\u001b[0m \u001b[0mself\u001b[0m\u001b[0;34m.\u001b[0m\u001b[0m_get_item_cache\u001b[0m\u001b[0;34m(\u001b[0m\u001b[0mkey\u001b[0m\u001b[0;34m)\u001b[0m\u001b[0;34m\u001b[0m\u001b[0m\n\u001b[0m\u001b[1;32m   2004\u001b[0m \u001b[0;34m\u001b[0m\u001b[0m\n\u001b[1;32m   2005\u001b[0m             \u001b[0;31m# duplicate columns\u001b[0m\u001b[0;34m\u001b[0m\u001b[0;34m\u001b[0m\u001b[0m\n",
      "\u001b[0;32m/Users/Carlos/Library/Enthought/Canopy_64bit/User/lib/python2.7/site-packages/pandas/core/generic.pyc\u001b[0m in \u001b[0;36m_get_item_cache\u001b[0;34m(self, item)\u001b[0m\n\u001b[1;32m    665\u001b[0m             \u001b[0;32mreturn\u001b[0m \u001b[0mcache\u001b[0m\u001b[0;34m[\u001b[0m\u001b[0mitem\u001b[0m\u001b[0;34m]\u001b[0m\u001b[0;34m\u001b[0m\u001b[0m\n\u001b[1;32m    666\u001b[0m         \u001b[0;32mexcept\u001b[0m \u001b[0mException\u001b[0m\u001b[0;34m:\u001b[0m\u001b[0;34m\u001b[0m\u001b[0m\n\u001b[0;32m--> 667\u001b[0;31m             \u001b[0mvalues\u001b[0m \u001b[0;34m=\u001b[0m \u001b[0mself\u001b[0m\u001b[0;34m.\u001b[0m\u001b[0m_data\u001b[0m\u001b[0;34m.\u001b[0m\u001b[0mget\u001b[0m\u001b[0;34m(\u001b[0m\u001b[0mitem\u001b[0m\u001b[0;34m)\u001b[0m\u001b[0;34m\u001b[0m\u001b[0m\n\u001b[0m\u001b[1;32m    668\u001b[0m             \u001b[0mres\u001b[0m \u001b[0;34m=\u001b[0m \u001b[0mself\u001b[0m\u001b[0;34m.\u001b[0m\u001b[0m_box_item_values\u001b[0m\u001b[0;34m(\u001b[0m\u001b[0mitem\u001b[0m\u001b[0;34m,\u001b[0m \u001b[0mvalues\u001b[0m\u001b[0;34m)\u001b[0m\u001b[0;34m\u001b[0m\u001b[0m\n\u001b[1;32m    669\u001b[0m             \u001b[0mcache\u001b[0m\u001b[0;34m[\u001b[0m\u001b[0mitem\u001b[0m\u001b[0;34m]\u001b[0m \u001b[0;34m=\u001b[0m \u001b[0mres\u001b[0m\u001b[0;34m\u001b[0m\u001b[0m\n",
      "\u001b[0;32m/Users/Carlos/Library/Enthought/Canopy_64bit/User/lib/python2.7/site-packages/pandas/core/internals.pyc\u001b[0m in \u001b[0;36mget\u001b[0;34m(self, item)\u001b[0m\n\u001b[1;32m   1653\u001b[0m     \u001b[0;32mdef\u001b[0m \u001b[0mget\u001b[0m\u001b[0;34m(\u001b[0m\u001b[0mself\u001b[0m\u001b[0;34m,\u001b[0m \u001b[0mitem\u001b[0m\u001b[0;34m)\u001b[0m\u001b[0;34m:\u001b[0m\u001b[0;34m\u001b[0m\u001b[0m\n\u001b[1;32m   1654\u001b[0m         \u001b[0;32mif\u001b[0m \u001b[0mself\u001b[0m\u001b[0;34m.\u001b[0m\u001b[0mitems\u001b[0m\u001b[0;34m.\u001b[0m\u001b[0mis_unique\u001b[0m\u001b[0;34m:\u001b[0m\u001b[0;34m\u001b[0m\u001b[0m\n\u001b[0;32m-> 1655\u001b[0;31m             \u001b[0m_\u001b[0m\u001b[0;34m,\u001b[0m \u001b[0mblock\u001b[0m \u001b[0;34m=\u001b[0m \u001b[0mself\u001b[0m\u001b[0;34m.\u001b[0m\u001b[0m_find_block\u001b[0m\u001b[0;34m(\u001b[0m\u001b[0mitem\u001b[0m\u001b[0;34m)\u001b[0m\u001b[0;34m\u001b[0m\u001b[0m\n\u001b[0m\u001b[1;32m   1656\u001b[0m             \u001b[0;32mreturn\u001b[0m \u001b[0mblock\u001b[0m\u001b[0;34m.\u001b[0m\u001b[0mget\u001b[0m\u001b[0;34m(\u001b[0m\u001b[0mitem\u001b[0m\u001b[0;34m)\u001b[0m\u001b[0;34m\u001b[0m\u001b[0m\n\u001b[1;32m   1657\u001b[0m         \u001b[0;32melse\u001b[0m\u001b[0;34m:\u001b[0m\u001b[0;34m\u001b[0m\u001b[0m\n",
      "\u001b[0;32m/Users/Carlos/Library/Enthought/Canopy_64bit/User/lib/python2.7/site-packages/pandas/core/internals.pyc\u001b[0m in \u001b[0;36m_find_block\u001b[0;34m(self, item)\u001b[0m\n\u001b[1;32m   1933\u001b[0m \u001b[0;34m\u001b[0m\u001b[0m\n\u001b[1;32m   1934\u001b[0m     \u001b[0;32mdef\u001b[0m \u001b[0m_find_block\u001b[0m\u001b[0;34m(\u001b[0m\u001b[0mself\u001b[0m\u001b[0;34m,\u001b[0m \u001b[0mitem\u001b[0m\u001b[0;34m)\u001b[0m\u001b[0;34m:\u001b[0m\u001b[0;34m\u001b[0m\u001b[0m\n\u001b[0;32m-> 1935\u001b[0;31m         \u001b[0mself\u001b[0m\u001b[0;34m.\u001b[0m\u001b[0m_check_have\u001b[0m\u001b[0;34m(\u001b[0m\u001b[0mitem\u001b[0m\u001b[0;34m)\u001b[0m\u001b[0;34m\u001b[0m\u001b[0m\n\u001b[0m\u001b[1;32m   1936\u001b[0m         \u001b[0;32mfor\u001b[0m \u001b[0mi\u001b[0m\u001b[0;34m,\u001b[0m \u001b[0mblock\u001b[0m \u001b[0;32min\u001b[0m \u001b[0menumerate\u001b[0m\u001b[0;34m(\u001b[0m\u001b[0mself\u001b[0m\u001b[0;34m.\u001b[0m\u001b[0mblocks\u001b[0m\u001b[0;34m)\u001b[0m\u001b[0;34m:\u001b[0m\u001b[0;34m\u001b[0m\u001b[0m\n\u001b[1;32m   1937\u001b[0m             \u001b[0;32mif\u001b[0m \u001b[0mitem\u001b[0m \u001b[0;32min\u001b[0m \u001b[0mblock\u001b[0m\u001b[0;34m:\u001b[0m\u001b[0;34m\u001b[0m\u001b[0m\n",
      "\u001b[0;32m/Users/Carlos/Library/Enthought/Canopy_64bit/User/lib/python2.7/site-packages/pandas/core/internals.pyc\u001b[0m in \u001b[0;36m_check_have\u001b[0;34m(self, item)\u001b[0m\n\u001b[1;32m   1940\u001b[0m     \u001b[0;32mdef\u001b[0m \u001b[0m_check_have\u001b[0m\u001b[0;34m(\u001b[0m\u001b[0mself\u001b[0m\u001b[0;34m,\u001b[0m \u001b[0mitem\u001b[0m\u001b[0;34m)\u001b[0m\u001b[0;34m:\u001b[0m\u001b[0;34m\u001b[0m\u001b[0m\n\u001b[1;32m   1941\u001b[0m         \u001b[0;32mif\u001b[0m \u001b[0mitem\u001b[0m \u001b[0;32mnot\u001b[0m \u001b[0;32min\u001b[0m \u001b[0mself\u001b[0m\u001b[0;34m.\u001b[0m\u001b[0mitems\u001b[0m\u001b[0;34m:\u001b[0m\u001b[0;34m\u001b[0m\u001b[0m\n\u001b[0;32m-> 1942\u001b[0;31m             \u001b[0;32mraise\u001b[0m \u001b[0mKeyError\u001b[0m\u001b[0;34m(\u001b[0m\u001b[0;34m'no item named %s'\u001b[0m \u001b[0;34m%\u001b[0m \u001b[0mcom\u001b[0m\u001b[0;34m.\u001b[0m\u001b[0mpprint_thing\u001b[0m\u001b[0;34m(\u001b[0m\u001b[0mitem\u001b[0m\u001b[0;34m)\u001b[0m\u001b[0;34m)\u001b[0m\u001b[0;34m\u001b[0m\u001b[0m\n\u001b[0m\u001b[1;32m   1943\u001b[0m \u001b[0;34m\u001b[0m\u001b[0m\n\u001b[1;32m   1944\u001b[0m     \u001b[0;32mdef\u001b[0m \u001b[0mreindex_axis\u001b[0m\u001b[0;34m(\u001b[0m\u001b[0mself\u001b[0m\u001b[0;34m,\u001b[0m \u001b[0mnew_axis\u001b[0m\u001b[0;34m,\u001b[0m \u001b[0mmethod\u001b[0m\u001b[0;34m=\u001b[0m\u001b[0mNone\u001b[0m\u001b[0;34m,\u001b[0m \u001b[0maxis\u001b[0m\u001b[0;34m=\u001b[0m\u001b[0;36m0\u001b[0m\u001b[0;34m,\u001b[0m \u001b[0mcopy\u001b[0m\u001b[0;34m=\u001b[0m\u001b[0mTrue\u001b[0m\u001b[0;34m)\u001b[0m\u001b[0;34m:\u001b[0m\u001b[0;34m\u001b[0m\u001b[0m\n",
      "\u001b[0;31mKeyError\u001b[0m: u'no item named period'"
     ]
    }
   ],
   "source": [
    "P = big_df['period'][0]\n",
    "peri_arg = big_df['peri_arg'][0]\n",
    "peri_time = big_df['peri_time'][0]\n",
    "print peri_time\n",
    "days = np.linspace(peri_time,peri_time+P) + 2400000\n",
    "K1 = big_df['K1'][0]\n",
    "RV = K1* np.sin(days/P*2*np.pi+peri_arg/360*2*np.pi)\n",
    "plt.plot(days, RV)\n",
    "plt.show()"
   ]
  },
  {
   "cell_type": "code",
   "execution_count": 225,
   "metadata": {
    "collapsed": false
   },
   "outputs": [
    {
     "data": {
      "text/plain": [
       "array([array([  0.   ,   5.   ,  20.141,  -5.   ,  42.   ,  27.43 ]),\n",
       "       array([  0.   ,   6.   ,   3.386,  63.   ,  40.   ,  46.76 ]),\n",
       "       array([  0.   ,   8.   ,  12.096,  -2.   ,  26.   ,  51.76 ]), ...,\n",
       "       nan, nan, nan], dtype=object)"
      ]
     },
     "execution_count": 225,
     "metadata": {},
     "output_type": "execute_result"
    }
   ],
   "source": [
    "np.asarray(c)"
   ]
  },
  {
   "cell_type": "code",
   "execution_count": 116,
   "metadata": {
    "collapsed": false
   },
   "outputs": [],
   "source": [
    "a=np.genfromtxt('Main.dta', delimiter='|')#, converters= {1: str})"
   ]
  },
  {
   "cell_type": "code",
   "execution_count": 12,
   "metadata": {
    "collapsed": false
   },
   "outputs": [],
   "source": [
    "plt.plot(range(10))\n",
    "plt.xlabel('asdad')\n",
    "plt.show()"
   ]
  },
  {
   "cell_type": "code",
   "execution_count": null,
   "metadata": {
    "collapsed": false
   },
   "outputs": [],
   "source": []
  },
  {
   "cell_type": "code",
   "execution_count": 74,
   "metadata": {
    "collapsed": false
   },
   "outputs": [
    {
     "name": "stdout",
     "output_type": "stream",
     "text": [
      "Candidates in selection 3\n",
      "      Dec1  Dec2   Dec3    No  RA1  RA2     RA3 SpecType1  Vmag1     K1  \\\n",
      "56     -65    28   4.91    40    0   42  28.373       F6V  5.393  26.10   \n",
      "1981   -15    20  28.49  1482    2   26   0.349       NaN    NaN  18.42   \n",
      "2434    -3     1  55.30  1847    2   13  42.226       NaN    NaN  16.08   \n",
      "\n",
      "          K1_P  K2  eccentricity  grade  peri_arg  peri_time  period(days)  \n",
      "56    5.414713 NaN          0.02      5     269.3  19299.110      4.820200  \n",
      "1981  6.144481 NaN          0.03      5      32.3  49986.717      2.997812  \n",
      "2434  5.469816 NaN          0.00      5       0.0  48111.768      2.939770  \n"
     ]
    }
   ],
   "source": [
    "dailyRV_mask = ((big_df['K1_P'] > 0.5) & (big_df['K1_P'] < 10.))\n",
    "period_mask = big_df['period(days)'] < 5. \n",
    "K2_mask = np.isnan(big_df['K2'])\n",
    "eccentricity_mask = big_df['eccentricity'] < 0.1\n",
    "grade_mask = big_df['grade'] == 5\n",
    "dec_mask = ((big_df['Dec1'] > -75) & (big_df['Dec1'] < 15)) \n",
    "RA_mask = ((big_df['RA1'] > 22) | (big_df['RA1'] <4)) \n",
    "no667_mask = big_df['No'] != 667\n",
    "\n",
    "big_df['Vmag1'][big_df['No']==40]=5.393\n",
    "big_df['Vmag1'][big_df['No']==1482]=np.nan\n",
    "big_df['Vmag1'][big_df['No']==1847]=np.nan\n",
    "\n",
    "big_df['SpecType1'][big_df['No']==40]='F6V'\n",
    "big_df['SpecType1'][big_df['No']==1482]=np.nan\n",
    "big_df['SpecType1'][big_df['No']==1847]=np.nan\n",
    "\n",
    "full_mask = dailyRV_mask & period_mask & eccentricity_mask & grade_mask & dec_mask & K2_mask & RA_mask & no667_mask\n",
    "print 'Candidates in selection',np.sum(full_mask)\n",
    "print big_df[full_mask]\n",
    "\n"
   ]
  }
 ],
 "metadata": {
  "kernelspec": {
   "display_name": "Python 2",
   "language": "python",
   "name": "python2"
  },
  "language_info": {
   "codemirror_mode": {
    "name": "ipython",
    "version": 2
   },
   "file_extension": ".py",
   "mimetype": "text/x-python",
   "name": "python",
   "nbconvert_exporter": "python",
   "pygments_lexer": "ipython2",
   "version": "2.7.3"
  }
 },
 "nbformat": 4,
 "nbformat_minor": 0
}
