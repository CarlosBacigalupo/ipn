{
 "metadata": {
  "name": "",
  "signature": "sha256:74e360f04d730fcfec9051ce7772a44711718b95f3bc1f4b4991508ef6ab2410"
 },
 "nbformat": 3,
 "nbformat_minor": 0,
 "worksheets": [
  {
   "cells": [
    {
     "cell_type": "code",
     "collapsed": false,
     "input": [
      "import reduce_2dfdr \n",
      "reload(reduce_2dfdr)\n",
      "import os\n",
      "import numpy as np"
     ],
     "language": "python",
     "metadata": {},
     "outputs": [],
     "prompt_number": 203
    },
    {
     "cell_type": "heading",
     "level": 6,
     "metadata": {},
     "source": [
      "M67, all observations"
     ]
    },
    {
     "cell_type": "code",
     "collapsed": false,
     "input": [
      "#reduction flags\n",
      "useBias = False\n",
      "copyFiles = True\n",
      "doReduce = True\n",
      "overwrite = True\n",
      "idxFile = 'no_flat_no_bias.idx'\n",
      "startFrom = 1 #number of data set to begin with. 0 for beginning. Good for starting half way through if it cancelled\n",
      "reduceMode = 'one_arc'\n"
     ],
     "language": "python",
     "metadata": {},
     "outputs": [],
     "prompt_number": 209
    },
    {
     "cell_type": "code",
     "collapsed": false,
     "input": [
      "#meta_data full\n",
      "\n",
      "#path to 2dfdr\n",
      "dr_dir = '/Users/Carlos/Documents/workspace/2dfdr/6.0/src_code/2dfdr-6.0/bin'\n",
      "\n",
      "#target directory. It will copy the data files to sub-directories branching from this directory\n",
      "target_root = '/disks/ceres/makemake/aphot/kalumbe/reductions/m67_all/'\n",
      "target_root = '/Users/Carlos/Documents/HERMES/reductions/test/'\n",
      "\n",
      "#all science reduced (*red.fits) files will be copied to this directory\n",
      "final_dir = '/disks/ceres/makemake/aphot/kalumbe/reductions/m67_all/'\n",
      "final_dir = '/Users/Carlos/Documents/HERMES/reductions/test/'\n",
      "\n",
      "#path to data source\n",
      "galah_data_root = '/disks/ceres/makemake/aphot/kalumbe/hermes/data/'\n",
      "galah_data_root = '/Users/Carlos/Documents/HERMES/data/'\n",
      "\n",
      "#len(date_list) = number of observations (can have more than 1 science file per observation)\n",
      "date_list = ['140821',\n",
      "            '140822',\n",
      "            '140822',\n",
      "            '140824',\n",
      "            '140825']\n",
      "\n",
      "\n",
      "#Filenumbers for each dataset FLAT_IDX, ARC_IDX, SCIENCE_IDX[S]. Asumes [flat, arc, sci, sci, ...]\n",
      "ix_array = [[25,26]+range(39,42),\n",
      "            [30,26]+range(44,47),\n",
      "            [51,52]+range(30,34),\n",
      "            [48,49]+range(50,53),\n",
      "            [34,38]+range(35,38)]\n"
     ],
     "language": "python",
     "metadata": {},
     "outputs": [],
     "prompt_number": 221
    },
    {
     "cell_type": "code",
     "collapsed": false,
     "input": [
      "# #meta_data full\n",
      "\n",
      "# #path to 2dfdr\n",
      "# dr_dir = '/Users/Carlos/Documents/workspace/2dfdr/6.0/src_code/2dfdr-6.0/bin'\n",
      "\n",
      "# #target directory. It will copy the data files to sub-directories branching from this directory\n",
      "# target_root = '/disks/ceres/makemake/aphot/kalumbe/reductions/m67_all/'\n",
      "# target_root = '/Users/Carlos/Documents/HERMES/reductions/test/'\n",
      "\n",
      "# #all science reduced (*red.fits) files will be copied to this directory\n",
      "# final_dir = '/disks/ceres/makemake/aphot/kalumbe/reductions/m67_all/'\n",
      "# final_dir = '/Users/Carlos/Documents/HERMES/reductions/test/'\n",
      "\n",
      "# #path to data source\n",
      "# galah_data_root = '/disks/ceres/makemake/aphot/kalumbe/hermes/data/'\n",
      "# galah_data_root = '/Users/Carlos/Documents/HERMES/data/'\n",
      "\n",
      "\n",
      "# #len(date_list) = number of observations (can have more than 1 science file per observation)\n",
      "# date_list = ['131217',\n",
      "#             '131217',\n",
      "#             '131218',\n",
      "#             '140111',\n",
      "#             '140111',\n",
      "#             '140111',\n",
      "#             '140112',\n",
      "#             '140209',\n",
      "#             '140209',\n",
      "#             '140210',\n",
      "#             '140211',\n",
      "#             '140211',\n",
      "#             '140107',\n",
      "#             '140107',\n",
      "#             '140107',\n",
      "#             '140107',\n",
      "#             '140109',\n",
      "#             '140109',\n",
      "#             '140109',\n",
      "#             '140109',\n",
      "#             '140109']\n",
      "\n",
      "\n",
      "# #Filenumbers for each dataset FLAT_IDX, ARC_IDX, SCIENCE_IDX[S]. Asumes [flat, arc, sci, sci, ...]\n",
      "# ix_array = [[42,43]+range(39,42),\n",
      "#             [47,48]+range(44,47),\n",
      "#             [35,34]+range(30,34),\n",
      "#             [27,26]+range(28,31),\n",
      "#             [32,31]+range(33,36),\n",
      "#             [37,36]+range(38,41),\n",
      "#             [29,28]+range(30,33),\n",
      "#             [27,28]+range(29,32),\n",
      "#             [32,33]+range(34,37),\n",
      "#             [25,26]+range(27,34),\n",
      "#             [11,12]+range(13,19),\n",
      "#             [19,20]+range(21,27),\n",
      "#             [48,47]+range(49,52),\n",
      "#             [53,52]+range(54,57),\n",
      "#             [58,57]+range(59,62),\n",
      "#             [63,62]+[64],\n",
      "#             [29,28]+range(26,28),\n",
      "#             [35,34]+range(30,34),\n",
      "#             [38,37]+[36],\n",
      "#             [47,46]+[45],\n",
      "#             [52,51]+range(48,51)]\n"
     ],
     "language": "python",
     "metadata": {},
     "outputs": [],
     "prompt_number": 211
    },
    {
     "cell_type": "code",
     "collapsed": false,
     "input": [
      "#adds 2dfdr bi path to PATH variable\n",
      "os.environ['PATH'] = dr_dir + ':' + os.environ['PATH'] \n",
      "\n",
      "#compose absolute path names\n",
      "source_dir_array = [galah_data_root + s + '/data/' for s in date_list]\n",
      "\n",
      "\n",
      "#compose file prefixes from date_list\n",
      "months = np.array(['', 'jan','feb','mar','apr','may','jun','jul','aug','sep','oct','nov','dec'])\n",
      "d = np.array([s[4:] for s in date_list])\n",
      "m = months[np.array([s[2:4] for s in date_list]).astype(int)]\n",
      "filename_prfx = np.core.defchararray.add(d, m)\n"
     ],
     "language": "python",
     "metadata": {},
     "outputs": [],
     "prompt_number": 212
    },
    {
     "cell_type": "code",
     "collapsed": false,
     "input": [
      "#instantiate class\n",
      "dr2df = reduce_2dfdr.dr2df()\n",
      "\n",
      "#pass variables to class\n",
      "dr2df.dr_dir = dr_dir\n",
      "dr2df.final_dir = final_dir\n",
      "dr2df.overwrite = overwrite\n",
      "dr2df.target_root = target_root\n",
      "dr2df.galah_data_root = galah_data_root\n",
      "dr2df.reduceMode = reduceMode\n",
      "dr2df.idxFile = idxFile\n",
      "dr2df.copyFiles = copyFiles\n",
      "dr2df.doReduce = doReduce\n",
      "\n",
      "#arrays\n",
      "dr2df.ix_array = ix_array\n",
      "dr2df.filename_prfx = filename_prfx\n",
      "dr2df.date_list = date_list\n",
      "dr2df.source_dir_array = source_dir_array\n",
      "     \n",
      "#run forest, run\n",
      "dr2df.runReduction()"
     ],
     "language": "python",
     "metadata": {},
     "outputs": [
      {
       "output_type": "stream",
       "stream": "stdout",
       "text": [
        "Copying all data files...\n",
        "   21aug\n",
        ">>>> Overwriting /Users/Carlos/Documents/HERMES/reductions/test/0_21aug/\n",
        ">>>> Final folder creation failed, please check /Users/Carlos/Documents/HERMES/reductions/test/"
       ]
      },
      {
       "output_type": "stream",
       "stream": "stdout",
       "text": [
        "\n",
        "      Copied /Users/Carlos/Documents/HERMES/reductions/test/0_21aug/1/21aug10025.fits"
       ]
      },
      {
       "output_type": "stream",
       "stream": "stdout",
       "text": [
        "\n",
        "      Copied /Users/Carlos/Documents/HERMES/reductions/test/0_21aug/1/21aug10026.fits"
       ]
      },
      {
       "output_type": "stream",
       "stream": "stdout",
       "text": [
        "\n",
        "      Copied /Users/Carlos/Documents/HERMES/reductions/test/0_21aug/1/21aug10039.fits"
       ]
      },
      {
       "output_type": "stream",
       "stream": "stdout",
       "text": [
        "\n",
        "      Copied /Users/Carlos/Documents/HERMES/reductions/test/0_21aug/1/21aug10040.fits"
       ]
      },
      {
       "output_type": "stream",
       "stream": "stdout",
       "text": [
        "\n",
        "      Copied /Users/Carlos/Documents/HERMES/reductions/test/0_21aug/1/21aug10041.fits"
       ]
      },
      {
       "output_type": "stream",
       "stream": "stdout",
       "text": [
        "\n",
        "      Copied /Users/Carlos/Documents/HERMES/reductions/test/0_21aug/2/21aug20025.fits"
       ]
      },
      {
       "output_type": "stream",
       "stream": "stdout",
       "text": [
        "\n",
        "      Copied /Users/Carlos/Documents/HERMES/reductions/test/0_21aug/2/21aug20026.fits"
       ]
      },
      {
       "output_type": "stream",
       "stream": "stdout",
       "text": [
        "\n",
        "      Copied /Users/Carlos/Documents/HERMES/reductions/test/0_21aug/2/21aug20039.fits"
       ]
      },
      {
       "output_type": "stream",
       "stream": "stdout",
       "text": [
        "\n",
        "      Copied /Users/Carlos/Documents/HERMES/reductions/test/0_21aug/2/21aug20040.fits"
       ]
      },
      {
       "output_type": "stream",
       "stream": "stdout",
       "text": [
        "\n",
        "Traceback (most recent call last):\n"
       ]
      },
      {
       "output_type": "stream",
       "stream": "stdout",
       "text": [
        "  File \"/Library/Python/2.7/site-packages/IPython/core/ultratb.py\", line 776, in structured_traceback\n",
        "    records = _fixed_getinnerframes(etb, context, tb_offset)\n",
        "  File \"/Library/Python/2.7/site-packages/IPython/core/ultratb.py\", line 230, in wrapped\n",
        "    return f(*args, **kwargs)\n",
        "  File \"/Library/Python/2.7/site-packages/IPython/core/ultratb.py\", line 259, in _fixed_getinnerframes\n",
        "    records  = fix_frame_records_filenames(inspect.getinnerframes(etb, context))\n",
        "  File \"/Applications/Canopy.app/appdata/canopy-1.1.0.1371.macosx-x86_64/Canopy.app/Contents/lib/python2.7/inspect.py\", line 1043, in getinnerframes\n",
        "    framelist.append((tb.tb_frame,) + getframeinfo(tb, context))\n"
       ]
      },
      {
       "output_type": "stream",
       "stream": "stderr",
       "text": [
        "ERROR: Internal Python error in the inspect module.\n",
        "Below is the traceback from this internal error.\n",
        "\n"
       ]
      },
      {
       "output_type": "stream",
       "stream": "stdout",
       "text": [
        "  File \"/Applications/Canopy.app/appdata/canopy-1.1.0.1371.macosx-x86_64/Canopy.app/Contents/lib/python2.7/inspect.py\", line 1003, in getframeinfo\n",
        "    filename = getsourcefile(frame) or getfile(frame)\n",
        "  File \"/Applications/Canopy.app/appdata/canopy-1.1.0.1371.macosx-x86_64/Canopy.app/Contents/lib/python2.7/inspect.py\", line 454, in getsourcefile\n",
        "    if hasattr(getmodule(object, filename), '__loader__'):\n",
        "  File \"/Applications/Canopy.app/appdata/canopy-1.1.0.1371.macosx-x86_64/Canopy.app/Contents/lib/python2.7/inspect.py\", line 483, in getmodule\n",
        "    file = getabsfile(object, _filename)\n",
        "  File \"/Applications/Canopy.app/appdata/canopy-1.1.0.1371.macosx-x86_64/Canopy.app/Contents/lib/python2.7/inspect.py\", line 467, in getabsfile\n",
        "    return os.path.normcase(os.path.abspath(_filename))\n",
        "  File \"/Applications/Canopy.app/appdata/canopy-1.1.0.1371.macosx-x86_64/Canopy.app/Contents/lib/python2.7/posixpath.py\", line 347, in abspath\n",
        "    cwd = os.getcwd()\n",
        "OSError: [Errno 2] No such file or directory\n"
       ]
      },
      {
       "output_type": "stream",
       "stream": "stderr",
       "text": [
        "\n",
        "Unfortunately, your original traceback can not be constructed.\n",
        "\n"
       ]
      },
      {
       "ename": "KeyboardInterrupt",
       "evalue": "",
       "output_type": "pyerr",
       "traceback": ""
      }
     ],
     "prompt_number": 263
    },
    {
     "cell_type": "code",
     "collapsed": false,
     "input": [
      "dr2df.filename_prfx"
     ],
     "language": "python",
     "metadata": {},
     "outputs": [
      {
       "metadata": {},
       "output_type": "pyout",
       "prompt_number": 225,
       "text": [
        "array(['21aug', '22aug', '22aug', '24aug', '25aug'], \n",
        "      dtype='|S5')"
       ]
      }
     ],
     "prompt_number": 225
    },
    {
     "cell_type": "code",
     "collapsed": false,
     "input": [
      "import shutil"
     ],
     "language": "python",
     "metadata": {},
     "outputs": [],
     "prompt_number": 256
    },
    {
     "cell_type": "code",
     "collapsed": false,
     "input": [
      "shutil.copyfile('/Users/Carlos/Documents/a.txt', '/Users/Carlos/Documents/c')"
     ],
     "language": "python",
     "metadata": {},
     "outputs": [],
     "prompt_number": 260
    },
    {
     "cell_type": "code",
     "collapsed": false,
     "input": [],
     "language": "python",
     "metadata": {},
     "outputs": []
    }
   ],
   "metadata": {}
  }
 ]
}