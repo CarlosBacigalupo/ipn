{
 "metadata": {
  "name": ""
 },
 "nbformat": 3,
 "nbformat_minor": 0,
 "worksheets": [
  {
   "cells": [
    {
     "cell_type": "code",
     "collapsed": false,
     "input": [
      "import pyfits as pf\n",
      "import os\n",
      "import numpy as np\n",
      "import pylab as plt\n",
      "from scipy import optimize"
     ],
     "language": "python",
     "metadata": {},
     "outputs": [],
     "prompt_number": 116
    },
    {
     "cell_type": "heading",
     "level": 2,
     "metadata": {},
     "source": [
      "Functions"
     ]
    },
    {
     "cell_type": "code",
     "collapsed": false,
     "input": [
      "def extract_HERMES_wavelength(header):\n",
      "    \n",
      "    CRVAL1 = header['CRVAL1'] # / Co-ordinate value of axis 1                    \n",
      "    CDELT1 = header['CDELT1'] #  / Co-ordinate increment along axis 1             \n",
      "    CRPIX1 = header['CRPIX1'] #  / Reference pixel along axis 1                   \n",
      "    \n",
      "    #Creates an array of offset wavelength from the referece px/wavelength\n",
      "    Lambda = CRVAL1 - (CRPIX1 - (np.arange(int(CRPIX1)*2)) -1)* CDELT1\n",
      "\n",
      "    return Lambda\n"
     ],
     "language": "python",
     "metadata": {},
     "outputs": [],
     "prompt_number": 32
    },
    {
     "cell_type": "code",
     "collapsed": false,
     "input": [
      "def find_nearest(array,value):\n",
      "    idx = (np.abs(array-value)).argmin()\n",
      "    return np.array[idx]"
     ],
     "language": "python",
     "metadata": {},
     "outputs": [],
     "prompt_number": 53
    },
    {
     "cell_type": "code",
     "collapsed": false,
     "input": [
      "#gaussian fit\n",
      "def gaussian(x, mu, sig, ):\n",
      "    return np.exp(-np.power(x - mu, 2.) / 2 / np.power(sig, 2.))\n",
      "\n",
      "def fit_gaussian(p, flux, x_range):\n",
      "    a = optimize.leastsq(diff_gausian, p, args= [flux, x_range])\n",
      "    return a\n",
      "\n",
      "def diff_gausian(p, args):\n",
      "    \n",
      "    flux = args[0]\n",
      "    x_range = args[1]\n",
      "    diff = gaussian(x_range, p[0],p[1]) - flux/np.max(flux)\n",
      "    return diff\n",
      "\n",
      "def get_wavelength(wavelengths, pixel):\n",
      "    intPx = int(pixel)\n",
      "    fracPx = pixel - int(pixel)\n",
      "\n",
      "    return (wavelengths[intPx+1] - wavelengths[intPx])*fracPx + wavelengths[intPx]\n"
     ],
     "language": "python",
     "metadata": {},
     "outputs": [],
     "prompt_number": 114
    },
    {
     "cell_type": "heading",
     "level": 2,
     "metadata": {},
     "source": [
      "Main Code"
     ]
    },
    {
     "cell_type": "code",
     "collapsed": false,
     "input": [
      "os.chdir('/Users/Carlos/Documents/HERMES/reductions/RV_WSM/old_arc/')"
     ],
     "language": "python",
     "metadata": {},
     "outputs": [],
     "prompt_number": 145
    },
    {
     "cell_type": "code",
     "collapsed": false,
     "input": [
      "a = np.loadtxt('thxe.arc_Aug2014.txt')\n",
      "cam1Lines = a[:43]\n",
      "cam2Lines = a[43:80]\n",
      "cam3Lines = a[80:125]\n",
      "cam4Lines = a[125:]\n",
      "a=None"
     ],
     "language": "python",
     "metadata": {},
     "outputs": [],
     "prompt_number": 107
    },
    {
     "cell_type": "code",
     "collapsed": false,
     "input": [
      "a  = pf.open(files[0])\n",
      "thisLines = lines[0]\n",
      "arc_WL = extract_HERMES_wavelength(a[0].header)\n",
      "arc_flux = a[0].data[175]\n",
      "\n",
      "plt.plot(arc_WL,arc_flux)\n",
      "plt.scatter(thisLines[:,0],thisLines[:,1])\n",
      "plt.show()"
     ],
     "language": "python",
     "metadata": {},
     "outputs": [],
     "prompt_number": 152
    },
    {
     "cell_type": "code",
     "collapsed": false,
     "input": [
      "files=['20aug10043red.fits','20aug20043red.fits','20aug30043red.fits','20aug40043red.fits']\n",
      "lines = [cam1Lines,cam2Lines,cam3Lines,cam4Lines]\n"
     ],
     "language": "python",
     "metadata": {},
     "outputs": [],
     "prompt_number": 146
    },
    {
     "cell_type": "code",
     "collapsed": false,
     "input": [
      "for k in ['/Users/Carlos/Documents/HERMES/reductions/RV_WSM/old_arc/','/Users/Carlos/Documents/HERMES/reductions/RV_WSM/new_arc/']:\n",
      "    os.chdir(k) \n",
      "    for j in range(4):\n",
      "        a  = pf.open(files[j])\n",
      "        arc_WL = extract_HERMES_wavelength(a[0].header)\n",
      "        arc_flux = a[0].data[175]\n",
      "        diffs=[]\n",
      "        width =5\n",
      "        for i in lines[j]:\n",
      "            idx = np.where(arc_WL==find_nearest(arc_WL,i[0]))[0][0]\n",
      "            corrMax = np.where(arc_flux==np.max(arc_flux[range(idx-width, idx+width+1)]))[0][0]\n",
      "            p_guess = [corrMax,1.]\n",
      "            x_mask = range(idx-width, idx+width+1)\n",
      "            p = fit_gaussian(p_guess, arc_flux[x_mask], np.arange(len(arc_flux))[x_mask])[0]\n",
      "            shiftedLambda = get_wavelength(arc_WL, p[0])\n",
      "            diffs.append(shiftedLambda-i[0])\n",
      "        \n",
      "            \n",
      "            \n",
      "        diffs = np.array(diffs)\n",
      "        print a[0].header['SPECTID'],np.std(diffs), 'Ang', np.std(diffs/lines[j][:,0]*300000),'km/s'\n",
      "        \n",
      "        \n"
     ],
     "language": "python",
     "metadata": {},
     "outputs": [
      {
       "output_type": "stream",
       "stream": "stdout",
       "text": [
        "BL 0.0213282118264 Ang 1.32308679213 km/s\n",
        "GN"
       ]
      },
      {
       "output_type": "stream",
       "stream": "stdout",
       "text": [
        " 0.0259958160278 Ang 1.35934013636 km/s\n",
        "RD"
       ]
      },
      {
       "output_type": "stream",
       "stream": "stdout",
       "text": [
        " 0.0410015675676 Ang 1.8539337522 km/s\n",
        "RR"
       ]
      },
      {
       "output_type": "stream",
       "stream": "stdout",
       "text": [
        " 0.0683568265285 Ang 2.61549153286 km/s\n",
        "BL"
       ]
      },
      {
       "output_type": "stream",
       "stream": "stdout",
       "text": [
        " 0.0210972069817 Ang 1.31083162048 km/s\n",
        "GN"
       ]
      },
      {
       "output_type": "stream",
       "stream": "stdout",
       "text": [
        " 0.024957012593 Ang 1.30679467018 km/s\n",
        "RD"
       ]
      },
      {
       "output_type": "stream",
       "stream": "stdout",
       "text": [
        " 0.0302416085043 Ang 1.37986181944 km/s\n",
        "RR"
       ]
      },
      {
       "output_type": "stream",
       "stream": "stdout",
       "text": [
        " 0.038153403059 Ang 1.48129787641 km/s\n"
       ]
      }
     ],
     "prompt_number": 149
    },
    {
     "cell_type": "code",
     "collapsed": false,
     "input": [
      "a  = pf.open('20aug10043red.fits')\n",
      "arc_WL = extract_HERMES_wavelength(a[0].header)\n",
      "arc_flux = a[0].data[175]\n",
      "diffs=[]\n",
      "width =5\n",
      "for i in cam1Lines:\n",
      "    idx = np.where(arc_WL==find_nearest(arc_WL,i[0]))[0][0]\n",
      "    diffs.append(arc_WL[np.where(arc_flux==np.max(arc_flux[range(idx-width, idx+width+1)]))[0][0]]-i[0])\n",
      "diffs = np.array(diffs)\n",
      "print 'Blue',np.std(diffs), 'Ang', np.std(diffs/cam1Lines[:,0]*300000),'km/s'"
     ],
     "language": "python",
     "metadata": {},
     "outputs": [
      {
       "output_type": "stream",
       "stream": "stdout",
       "text": [
        "Blue 0.0286996017092 Ang 1.79098734838 km/s\n"
       ]
      }
     ],
     "prompt_number": 109
    },
    {
     "cell_type": "code",
     "collapsed": false,
     "input": [
      "a  = pf.open('20aug20043red.fits')\n",
      "arc_WL = extract_HERMES_wavelength(a[0].header)\n",
      "arc_flux = a[0].data[175]\n",
      "diffs=[]\n",
      "width =5\n",
      "for i in cam2Lines:\n",
      "    idx = np.where(arc_WL==find_nearest(arc_WL,i[0]))[0][0]\n",
      "    diffs.append(arc_WL[np.where(arc_flux==np.max(arc_flux[range(idx-width, idx+width+1)]))[0][0]]-i[0])\n",
      "diffs = np.array(diffs)\n",
      "print 'Green',np.std(diffs), 'Ang', np.std(diffs/cam2Lines[:,0]*300000),'km/s'"
     ],
     "language": "python",
     "metadata": {},
     "outputs": [
      {
       "output_type": "stream",
       "stream": "stdout",
       "text": [
        "Green 0.0431110997016 Ang 2.25386732919 km/s\n"
       ]
      }
     ],
     "prompt_number": 110
    },
    {
     "cell_type": "code",
     "collapsed": false,
     "input": [
      "a  = pf.open('20aug30043red.fits')\n",
      "arc_WL = extract_HERMES_wavelength(a[0].header)\n",
      "arc_flux = a[0].data[175]\n",
      "diffs=[]\n",
      "width =2\n",
      "for i in cam3Lines:\n",
      "    idx = np.where(arc_WL==find_nearest(arc_WL,i[0]))[0][0]\n",
      "    diffs.append(arc_WL[np.where(arc_flux==np.max(arc_flux[range(idx-width, idx+width+1)]))[0][0]]-i[0])\n",
      "diffs = np.array(diffs)\n",
      "print 'Red',np.std(diffs), 'Ang', np.std(diffs/cam3Lines[:,0]*300000),'km/s'"
     ],
     "language": "python",
     "metadata": {},
     "outputs": [
      {
       "output_type": "stream",
       "stream": "stdout",
       "text": [
        "Red 0.0392652514845 Ang 1.78054357585 km/s\n"
       ]
      }
     ],
     "prompt_number": 111
    },
    {
     "cell_type": "code",
     "collapsed": false,
     "input": [
      "a  = pf.open('20aug40043red.fits')\n",
      "arc_WL = extract_HERMES_wavelength(a[0].header)\n",
      "arc_flux = a[0].data[175]\n",
      "diffs=[]\n",
      "width =2\n",
      "for i in cam4Lines:\n",
      "    idx = np.where(arc_WL==find_nearest(arc_WL,i[0]))[0][0]\n",
      "    diffs.append(arc_WL[np.where(arc_flux==np.max(arc_flux[range(idx-width, idx+width+1)]))[0][0]]-i[0])\n",
      "diffs = np.array(diffs)\n",
      "print 'IR',np.std(diffs), 'Ang', np.std(diffs/cam4Lines[:,0]*300000),'km/s'"
     ],
     "language": "python",
     "metadata": {},
     "outputs": [
      {
       "output_type": "stream",
       "stream": "stdout",
       "text": [
        "IR 0.0561955952758 Ang 2.18157146208 km/s\n"
       ]
      }
     ],
     "prompt_number": 112
    },
    {
     "cell_type": "code",
     "collapsed": false,
     "input": [
      "old\n",
      "Blue 0.0293153216042 Ang 1.82496934615 km/s\n",
      "Green 0.0372874131452 Ang 1.9419427413 km/s\n",
      "Red 0.0422151297222 Ang 1.90827387341 km/s\n",
      "IR 0.0714246538555 Ang 2.76037818318 km/s\n"
     ],
     "language": "python",
     "metadata": {},
     "outputs": [
      {
       "metadata": {},
       "output_type": "pyout",
       "prompt_number": 98,
       "text": [
        "array([ 0.41656359,  0.27484911, -2.42491675,  0.16774838, -2.86338663,\n",
        "        0.21231823,  2.01436092, -1.58483966, -3.03604152, -2.66349029,\n",
        "       -1.0585149 , -0.01041078, -3.10544524,  2.72826112,  0.74062353,\n",
        "       -2.34243853, -2.73004111, -2.53450085, -1.63046004, -0.16656703,\n",
        "        0.44406836, -3.29118972,  2.10597298, -0.06955141, -1.91009781,\n",
        "        0.12279739,  0.30298183, -1.76131934, -1.2240827 ,  0.79584141,\n",
        "        1.21443251, -1.46646134,  2.84150725, -2.12709676, -1.71362937,\n",
        "       -4.38982088, -0.11630584,  4.19221512, -1.20413861, -1.21969617,\n",
        "       -1.33858088,  0.29938678, -0.65817168])"
       ]
      }
     ],
     "prompt_number": 98
    },
    {
     "cell_type": "code",
     "collapsed": false,
     "input": [
      ".shape"
     ],
     "language": "python",
     "metadata": {},
     "outputs": [
      {
       "metadata": {},
       "output_type": "pyout",
       "prompt_number": 96,
       "text": [
        "(43,)"
       ]
      }
     ],
     "prompt_number": 96
    },
    {
     "cell_type": "code",
     "collapsed": false,
     "input": [],
     "language": "python",
     "metadata": {},
     "outputs": []
    }
   ],
   "metadata": {}
  }
 ]
}