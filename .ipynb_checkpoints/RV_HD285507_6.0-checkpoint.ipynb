{
 "metadata": {
  "name": ""
 },
 "nbformat": 3,
 "nbformat_minor": 0,
 "worksheets": [
  {
   "cells": [
    {
     "cell_type": "code",
     "collapsed": false,
     "input": [
      "import glob\n",
      "import os\n",
      "import numpy as np\n",
      "import scipy.constants as const\n",
      "# import commands\n",
      "# import pyfits as pf\\n\",\n",
      "# import toolbox\\n\",\n",
      "from scipy import signal, interpolate, optimize, constants\n",
      "import pylab as plt\n",
      "import pickle\n",
      "# from red_tools import *\n",
      "# import asteroseismology as ast\n",
      "# import HERMES\n",
      "# reload(red_tools)\\n\",\n",
      "# reload(ast)\n",
      "# import carlos\n",
      "import TableBrowser as tb\n",
      "\n",
      "import create_obj as cr_obj\n",
      "reload(cr_obj)\n",
      "import RVTools as RVT\n",
      "reload(RVT)"
     ],
     "language": "python",
     "metadata": {},
     "outputs": [],
     "prompt_number": 6
    },
    {
     "cell_type": "code",
     "collapsed": false,
     "input": [
      "#load all star names from 1st file\n",
      "fileList = glob.glob('cam1/*.fits')\n",
      "a = tb.FibreTable(fileList[0])\n",
      "starNames=a.target[a.type=='P']\n"
     ],
     "language": "python",
     "metadata": {},
     "outputs": []
    },
    {
     "cell_type": "code",
     "collapsed": false,
     "input": [
      "#Loop to create all stars\n",
      "print 'About to create',len(starNames),'stars'\n",
      "\n",
      "for i in starNames:\n",
      "    thisStar = star(i)\n",
      "    thisStar.exposures = exposures()\n",
      "    thisStar.exposures.load_exposures(thisStar.name)\n",
      "    thisStar.exposures.calculate_baryVels(thisStar)\n",
      "    file_pi = open(i+'.obj', 'w') \n",
      "    pickle.dump(thisStar, file_pi) \n",
      "    file_pi.close()"
     ],
     "language": "python",
     "metadata": {},
     "outputs": []
    },
    {
     "cell_type": "heading",
     "level": 2,
     "metadata": {},
     "source": [
      "Functions"
     ]
    },
    {
     "cell_type": "code",
     "collapsed": false,
     "input": [
      "\n",
      "def calibrator_weights(deltay, sigma):\n",
      "\t\"\"\"For calibrator stars with CCD y values deltay from the target star\n",
      "\tand radial velocity errors sigma, create an optimal set of weights.\n",
      "\t\n",
      "\tWe want to minimise the variance of the weighted sum of calibrator\n",
      "\tradial velocities where we have the following constraints:\n",
      "\t\n",
      "\t1) \\Sigma w_i = 1  (i.e. the average value of the calibrators measure CCD shifts)\n",
      "\t2) \\Sigma w_i dy_i = 0 (i.e. allow the wavelength solution to rotate about the target)\n",
      "\t\n",
      "\tSee http://en.wikipedia.org/wiki/Quadratic_programming\n",
      "\t\"\"\"\n",
      "\tN = len(sigma)\n",
      "\t#Start of with a matrix of zeros then fill it with the \"Q\" and \"E\" matrices\n",
      "\tM = np.zeros((N+2,N+2))\n",
      "\tM[(range(N),range(N))] = sigma\n",
      "\tM[N,0:N] = deltay\n",
      "\tM[0:N,N] = deltay\n",
      "\tM[N+1,0:N] = np.ones(N)\n",
      "\tM[0:N,N+1] = np.ones(N)\n",
      "\tb = np.zeros(N+2)\n",
      "\tb[N+1] = 1.0\n",
      "\t#Solve the problem M * x = b\n",
      "\tx = np.linalg.solve(M,b)\n",
      "\t#The first N elements of x contain the weights.\n",
      "\treturn x[0:N]"
     ],
     "language": "python",
     "metadata": {},
     "outputs": [],
     "prompt_number": 15
    },
    {
     "cell_type": "code",
     "collapsed": false,
     "input": [
      "def pivot_to_y(ref_file):\n",
      "    \n",
      "    a = pf.getdata(ref_file)\n",
      "    \n",
      "    return a[:,200]"
     ],
     "language": "python",
     "metadata": {},
     "outputs": [],
     "prompt_number": 16
    },
    {
     "cell_type": "code",
     "collapsed": false,
     "input": [
      "def quad(x,a,b,c):\n",
      "    curve  = a*x**2+b*x+c\n",
      "    return curve\n",
      "\n",
      "def fit_quad(p, quadX, quadY):\n",
      "    a = optimize.leastsq(diff_quad, p, args= [quadX, quadY], epsfcn=0.1)\n",
      "    return a\n",
      "\n",
      "def diff_quad(p, args):\n",
      "    quadX = args[0]\n",
      "    quadY = args[1]\n",
      "    diff = quad(quadX, p[0],p[1], p[2]) - quadY\n",
      "    return diff\n",
      "\n"
     ],
     "language": "python",
     "metadata": {},
     "outputs": [],
     "prompt_number": 17
    },
    {
     "cell_type": "heading",
     "level": 2,
     "metadata": {},
     "source": [
      "Code starts here"
     ]
    },
    {
     "cell_type": "code",
     "collapsed": false,
     "input": [
      "os.chdir('/Users/Carlos/Documents/HERMES/reductions/HD285507_6.0/uncombined/')"
     ],
     "language": "python",
     "metadata": {},
     "outputs": [],
     "prompt_number": 18
    },
    {
     "cell_type": "heading",
     "level": 3,
     "metadata": {},
     "source": [
      "Take initial data from [star_name].obj and create global arrays"
     ]
    },
    {
     "cell_type": "code",
     "collapsed": false,
     "input": [
      "a = tb.FibreTable('cam1/20aug10039red.fits')\n",
      "starNames = a.target[a.type=='P']\n",
      "print len(starNames)"
     ],
     "language": "python",
     "metadata": {},
     "outputs": [
      {
       "output_type": "stream",
       "stream": "stdout",
       "text": [
        "74\n"
       ]
      }
     ],
     "prompt_number": 19
    },
    {
     "cell_type": "code",
     "collapsed": false,
     "input": [
      "#takes each <star_name>.obj and calculates RVs, etc. Saves red_<star_name>.obj\n",
      "xDef = 10 #resampling points per pixel\n",
      "CCMaskWidth = 5 #half width around the peak of the cc curve to be gaussian fitted\n",
      "for i in starNames:\n",
      "    print i\n",
      "#     try:\n",
      "    filename = i+'.obj'\n",
      "    filehandler = open(filename, 'r')\n",
      "    thisStar = pickle.load(filehandler)\n",
      "#     create_flux_mask(thisStar)\n",
      "    create_clean_fluxes(thisStar)\n",
      "#     create_mean_median_fluxes(thisStar)\n",
      "    create_CC_t0(thisStar)\n",
      "    fit_CC(thisStar)\n",
      "    create_RVs(thisStar)\n",
      "#         create_DDRV(thisStar)\n",
      "    file_pi = open('red_'+thisStar.name+'.obj', 'w') \n",
      "    pickle.dump(thisStar, file_pi) \n",
      "    file_pi.close()\n",
      "    thisStar = None\n",
      "#     except:\n",
      "#         pass"
     ],
     "language": "python",
     "metadata": {},
     "outputs": [
      {
       "output_type": "stream",
       "stream": "stdout",
       "text": [
        "Field32\n",
        "56889.7312269"
       ]
      },
      {
       "output_type": "stream",
       "stream": "stdout",
       "text": [
        " 56890.7344779 56891.7214011 56893.7742145 "
       ]
      },
      {
       "output_type": "stream",
       "stream": "stdout",
       "text": [
        "56894.7584364 "
       ]
      },
      {
       "output_type": "stream",
       "stream": "stdout",
       "text": [
        "\n",
        "56889.7312269 56890.7344779 56891.7214011 "
       ]
      },
      {
       "output_type": "stream",
       "stream": "stdout",
       "text": [
        "56893.7742145 56894.7584364 "
       ]
      },
      {
       "output_type": "stream",
       "stream": "stdout",
       "text": [
        "\n",
        "56889.7312269 56890.7344779 56891.7214011 56893.7742145 "
       ]
      },
      {
       "output_type": "stream",
       "stream": "stdout",
       "text": [
        "56894.7584364 "
       ]
      },
      {
       "output_type": "stream",
       "stream": "stdout",
       "text": [
        "\n",
        "56889.7312269 56890.7344779 56891.7214011 56893.7742145 "
       ]
      },
      {
       "output_type": "stream",
       "stream": "stdout",
       "text": [
        "56894.7584364 "
       ]
      },
      {
       "output_type": "stream",
       "stream": "stdout",
       "text": [
        "\n",
        "56889.7312269 56890.7344779 56891.7214011 "
       ]
      },
      {
       "output_type": "stream",
       "stream": "stdout",
       "text": [
        "56893.7742145 56894.7584364 "
       ]
      },
      {
       "output_type": "stream",
       "stream": "stdout",
       "text": [
        "\n",
        "56889.7312269 56890.7344779 56891.7214011 "
       ]
      },
      {
       "output_type": "stream",
       "stream": "stdout",
       "text": [
        "56893.7742145 56894.7584364 "
       ]
      },
      {
       "output_type": "stream",
       "stream": "stdout",
       "text": [
        "\n",
        "56889.7312269 56890.7344779 56891.7214011 56893.7742145 "
       ]
      },
      {
       "output_type": "stream",
       "stream": "stdout",
       "text": [
        "56894.7584364 \n",
        "56889.7312269 "
       ]
      },
      {
       "output_type": "stream",
       "stream": "stdout",
       "text": [
        "56890.7344779 56891.7214011 56893.7742145 "
       ]
      },
      {
       "output_type": "stream",
       "stream": "stdout",
       "text": [
        "56894.7584364 \n",
        "56889.7312269 "
       ]
      },
      {
       "output_type": "stream",
       "stream": "stdout",
       "text": [
        "56890.7344779 56891.7214011 "
       ]
      },
      {
       "output_type": "stream",
       "stream": "stdout",
       "text": [
        "56893.7742145 56894.7584364 "
       ]
      },
      {
       "output_type": "stream",
       "stream": "stdout",
       "text": [
        "\n",
        "56889.7312269 56890.7344779 "
       ]
      },
      {
       "output_type": "stream",
       "stream": "stdout",
       "text": [
        "56891.7214011 "
       ]
      },
      {
       "output_type": "stream",
       "stream": "stdout",
       "text": [
        "56893.7742145 "
       ]
      },
      {
       "output_type": "stream",
       "stream": "stdout",
       "text": [
        "56894.7584364 \n",
        "56889.7312269 "
       ]
      },
      {
       "output_type": "stream",
       "stream": "stdout",
       "text": [
        "56890.7344779 56891.7214011 "
       ]
      },
      {
       "output_type": "stream",
       "stream": "stdout",
       "text": [
        "56893.7742145 56894.7584364 "
       ]
      },
      {
       "output_type": "stream",
       "stream": "stdout",
       "text": [
        "\n",
        "56889.7312269 56890.7344779 "
       ]
      },
      {
       "output_type": "stream",
       "stream": "stdout",
       "text": [
        "56891.7214011 56893.7742145 "
       ]
      },
      {
       "output_type": "stream",
       "stream": "stdout",
       "text": [
        "56894.7584364 \n",
        "Giant35"
       ]
      },
      {
       "output_type": "stream",
       "stream": "stdout",
       "text": [
        "\n",
        "56889.7312269"
       ]
      },
      {
       "output_type": "stream",
       "stream": "stdout",
       "text": [
        " 56890.7344779 56891.7214011 56893.7742145 "
       ]
      },
      {
       "output_type": "stream",
       "stream": "stdout",
       "text": [
        "56894.7584364 "
       ]
      },
      {
       "output_type": "stream",
       "stream": "stdout",
       "text": [
        "\n",
        "56889.7312269 56890.7344779 56891.7214011 56893.7742145 "
       ]
      },
      {
       "output_type": "stream",
       "stream": "stdout",
       "text": [
        "56894.7584364 "
       ]
      },
      {
       "output_type": "stream",
       "stream": "stdout",
       "text": [
        "\n",
        "56889.7312269 56890.7344779 56891.7214011 56893.7742145 "
       ]
      },
      {
       "output_type": "stream",
       "stream": "stdout",
       "text": [
        "56894.7584364 "
       ]
      },
      {
       "output_type": "stream",
       "stream": "stdout",
       "text": [
        "\n",
        "56889.7312269 56890.7344779 56891.7214011 "
       ]
      },
      {
       "output_type": "stream",
       "stream": "stdout",
       "text": [
        "56893.7742145 56894.7584364 "
       ]
      },
      {
       "output_type": "stream",
       "stream": "stdout",
       "text": [
        "\n",
        "56889.7312269 56890.7344779 56891.7214011 "
       ]
      },
      {
       "output_type": "stream",
       "stream": "stdout",
       "text": [
        "56893.7742145 56894.7584364 "
       ]
      },
      {
       "output_type": "stream",
       "stream": "stdout",
       "text": [
        "\n",
        "56889.7312269 56890.7344779 56891.7214011 "
       ]
      },
      {
       "output_type": "stream",
       "stream": "stdout",
       "text": [
        "56893.7742145 56894.7584364 "
       ]
      },
      {
       "output_type": "stream",
       "stream": "stdout",
       "text": [
        "\n",
        "56889.7312269 56890.7344779 56891.7214011 56893.7742145 "
       ]
      },
      {
       "output_type": "stream",
       "stream": "stdout",
       "text": [
        "56894.7584364 \n",
        "56889.7312269 "
       ]
      },
      {
       "output_type": "stream",
       "stream": "stdout",
       "text": [
        "56890.7344779 56891.7214011 56893.7742145 "
       ]
      },
      {
       "output_type": "stream",
       "stream": "stdout",
       "text": [
        "56894.7584364 \n",
        "56889.7312269 "
       ]
      },
      {
       "output_type": "stream",
       "stream": "stdout",
       "text": [
        "56890.7344779 56891.7214011 "
       ]
      },
      {
       "output_type": "stream",
       "stream": "stdout",
       "text": [
        "56893.7742145 56894.7584364 "
       ]
      },
      {
       "output_type": "stream",
       "stream": "stdout",
       "text": [
        "\n",
        "56889.7312269 56890.7344779 "
       ]
      },
      {
       "output_type": "stream",
       "stream": "stdout",
       "text": [
        "56891.7214011 56893.7742145 "
       ]
      },
      {
       "output_type": "stream",
       "stream": "stdout",
       "text": [
        "56894.7584364 \n",
        "56889.7312269 "
       ]
      },
      {
       "output_type": "stream",
       "stream": "stdout",
       "text": [
        "56890.7344779 56891.7214011 "
       ]
      },
      {
       "output_type": "stream",
       "stream": "stdout",
       "text": [
        "56893.7742145 56894.7584364 "
       ]
      },
      {
       "output_type": "stream",
       "stream": "stdout",
       "text": [
        "\n",
        "56889.7312269 56890.7344779 "
       ]
      },
      {
       "output_type": "stream",
       "stream": "stdout",
       "text": [
        "56891.7214011 56893.7742145 "
       ]
      },
      {
       "output_type": "stream",
       "stream": "stdout",
       "text": [
        "56894.7584364 \n",
        "Giant28"
       ]
      },
      {
       "output_type": "stream",
       "stream": "stdout",
       "text": [
        "\n",
        "56889.7312269"
       ]
      },
      {
       "output_type": "stream",
       "stream": "stdout",
       "text": [
        " 56890.7344779 56891.7214011 56893.7742145 "
       ]
      },
      {
       "output_type": "stream",
       "stream": "stdout",
       "text": [
        "56894.7584364 "
       ]
      },
      {
       "output_type": "stream",
       "stream": "stdout",
       "text": [
        "\n",
        "56889.7312269 56890.7344779 56891.7214011 "
       ]
      },
      {
       "output_type": "stream",
       "stream": "stdout",
       "text": [
        "56893.7742145 56894.7584364 "
       ]
      },
      {
       "output_type": "stream",
       "stream": "stdout",
       "text": [
        "\n",
        "56889.7312269 56890.7344779 56891.7214011 "
       ]
      },
      {
       "output_type": "stream",
       "stream": "stdout",
       "text": [
        "56893.7742145 56894.7584364 "
       ]
      },
      {
       "output_type": "stream",
       "stream": "stdout",
       "text": [
        "\n",
        "56889.7312269 56890.7344779 56891.7214011 56893.7742145 "
       ]
      },
      {
       "output_type": "stream",
       "stream": "stdout",
       "text": [
        "56894.7584364 "
       ]
      },
      {
       "output_type": "stream",
       "stream": "stdout",
       "text": [
        "\n",
        "56889.7312269 56890.7344779 56891.7214011 "
       ]
      },
      {
       "output_type": "stream",
       "stream": "stdout",
       "text": [
        "56893.7742145 56894.7584364 "
       ]
      },
      {
       "output_type": "stream",
       "stream": "stdout",
       "text": [
        "\n",
        "56889.7312269 56890.7344779 56891.7214011 56893.7742145 "
       ]
      },
      {
       "output_type": "stream",
       "stream": "stdout",
       "text": [
        "56894.7584364 \n",
        "56889.7312269 "
       ]
      },
      {
       "output_type": "stream",
       "stream": "stdout",
       "text": [
        "56890.7344779 56891.7214011 56893.7742145 56894.7584364 "
       ]
      },
      {
       "output_type": "stream",
       "stream": "stdout",
       "text": [
        "\n",
        "56889.7312269 56890.7344779 56891.7214011 "
       ]
      },
      {
       "output_type": "stream",
       "stream": "stdout",
       "text": [
        "56893.7742145 56894.7584364 "
       ]
      },
      {
       "output_type": "stream",
       "stream": "stdout",
       "text": [
        "\n",
        "56889.7312269 56890.7344779 "
       ]
      },
      {
       "output_type": "stream",
       "stream": "stdout",
       "text": [
        "56891.7214011 56893.7742145 "
       ]
      },
      {
       "output_type": "stream",
       "stream": "stdout",
       "text": [
        "56894.7584364 \n",
        "56889.7312269 "
       ]
      },
      {
       "output_type": "stream",
       "stream": "stdout",
       "text": [
        "56890.7344779 56891.7214011 "
       ]
      },
      {
       "output_type": "stream",
       "stream": "stdout",
       "text": [
        "56893.7742145 56894.7584364 "
       ]
      },
      {
       "output_type": "stream",
       "stream": "stdout",
       "text": [
        "\n",
        "56889.7312269 56890.7344779 "
       ]
      },
      {
       "output_type": "stream",
       "stream": "stdout",
       "text": [
        "56891.7214011 56893.7742145 "
       ]
      },
      {
       "output_type": "stream",
       "stream": "stdout",
       "text": [
        "56894.7584364 \n",
        "56889.7312269 "
       ]
      },
      {
       "output_type": "stream",
       "stream": "stdout",
       "text": [
        "56890.7344779 56891.7214011 "
       ]
      },
      {
       "output_type": "stream",
       "stream": "stdout",
       "text": [
        "56893.7742145 56894.7584364 "
       ]
      },
      {
       "output_type": "stream",
       "stream": "stdout",
       "text": [
        "\n",
        "Giant12"
       ]
      },
      {
       "output_type": "stream",
       "stream": "stdout",
       "text": [
        "\n",
        "56889.7312269"
       ]
      },
      {
       "output_type": "stream",
       "stream": "stdout",
       "text": [
        " 56890.7344779 56891.7214011 56893.7742145 56894.7584364 "
       ]
      },
      {
       "output_type": "stream",
       "stream": "stdout",
       "text": [
        "\n",
        "56889.7312269 56890.7344779 56891.7214011 56893.7742145 "
       ]
      },
      {
       "output_type": "stream",
       "stream": "stdout",
       "text": [
        "56894.7584364 "
       ]
      },
      {
       "output_type": "stream",
       "stream": "stdout",
       "text": [
        "\n",
        "56889.7312269 56890.7344779 56891.7214011 56893.7742145 "
       ]
      },
      {
       "output_type": "stream",
       "stream": "stdout",
       "text": [
        "56894.7584364 "
       ]
      },
      {
       "output_type": "stream",
       "stream": "stdout",
       "text": [
        "\n",
        "56889.7312269 56890.7344779 56891.7214011 "
       ]
      },
      {
       "output_type": "stream",
       "stream": "stdout",
       "text": [
        "56893.7742145 56894.7584364 "
       ]
      },
      {
       "output_type": "stream",
       "stream": "stdout",
       "text": [
        "\n",
        "56889.7312269 56890.7344779 56891.7214011 "
       ]
      },
      {
       "output_type": "stream",
       "stream": "stdout",
       "text": [
        "56893.7742145 56894.7584364 "
       ]
      },
      {
       "output_type": "stream",
       "stream": "stdout",
       "text": [
        "\n",
        "56889.7312269 56890.7344779 56891.7214011 56893.7742145 "
       ]
      },
      {
       "output_type": "stream",
       "stream": "stdout",
       "text": [
        "56894.7584364 \n",
        "56889.7312269 "
       ]
      },
      {
       "output_type": "stream",
       "stream": "stdout",
       "text": [
        "56890.7344779 56891.7214011 56893.7742145 "
       ]
      },
      {
       "output_type": "stream",
       "stream": "stdout",
       "text": [
        "56894.7584364 \n",
        "56889.7312269 "
       ]
      },
      {
       "output_type": "stream",
       "stream": "stdout",
       "text": [
        "56890.7344779 56891.7214011 56893.7742145 "
       ]
      },
      {
       "output_type": "stream",
       "stream": "stdout",
       "text": [
        "56894.7584364 \n",
        "56889.7312269 "
       ]
      },
      {
       "output_type": "stream",
       "stream": "stdout",
       "text": [
        "56890.7344779 56891.7214011 "
       ]
      },
      {
       "output_type": "stream",
       "stream": "stdout",
       "text": [
        "56893.7742145 56894.7584364 "
       ]
      },
      {
       "output_type": "stream",
       "stream": "stdout",
       "text": [
        "\n",
        "56889.7312269 56890.7344779 "
       ]
      },
      {
       "output_type": "stream",
       "stream": "stdout",
       "text": [
        "56891.7214011 56893.7742145 "
       ]
      },
      {
       "output_type": "stream",
       "stream": "stdout",
       "text": [
        "56894.7584364 \n",
        "56889.7312269 "
       ]
      },
      {
       "output_type": "stream",
       "stream": "stdout",
       "text": [
        "56890.7344779 56891.7214011 "
       ]
      },
      {
       "output_type": "stream",
       "stream": "stdout",
       "text": [
        "56893.7742145 56894.7584364 "
       ]
      },
      {
       "output_type": "stream",
       "stream": "stdout",
       "text": [
        "\n",
        "56889.7312269 56890.7344779 "
       ]
      },
      {
       "output_type": "stream",
       "stream": "stdout",
       "text": [
        "56891.7214011 56893.7742145 "
       ]
      },
      {
       "output_type": "stream",
       "stream": "stdout",
       "text": [
        "56894.7584364 \n",
        "Giant16"
       ]
      },
      {
       "output_type": "stream",
       "stream": "stdout",
       "text": [
        "\n",
        "56889.7312269"
       ]
      },
      {
       "output_type": "stream",
       "stream": "stdout",
       "text": [
        " 56890.7344779 56891.7214011 56893.7742145 "
       ]
      },
      {
       "output_type": "stream",
       "stream": "stdout",
       "text": [
        "56894.7584364 "
       ]
      },
      {
       "output_type": "stream",
       "stream": "stdout",
       "text": [
        "\n",
        "56889.7312269 56890.7344779 56891.7214011 56893.7742145 "
       ]
      },
      {
       "output_type": "stream",
       "stream": "stdout",
       "text": [
        "56894.7584364 "
       ]
      },
      {
       "output_type": "stream",
       "stream": "stdout",
       "text": [
        "\n",
        "56889.7312269 56890.7344779 56891.7214011 56893.7742145 "
       ]
      },
      {
       "output_type": "stream",
       "stream": "stdout",
       "text": [
        "56894.7584364 "
       ]
      },
      {
       "output_type": "stream",
       "stream": "stdout",
       "text": [
        "\n",
        "56889.7312269 56890.7344779 56891.7214011 "
       ]
      },
      {
       "output_type": "stream",
       "stream": "stdout",
       "text": [
        "56893.7742145 56894.7584364 "
       ]
      },
      {
       "output_type": "stream",
       "stream": "stdout",
       "text": [
        "\n",
        "56889.7312269 56890.7344779 56891.7214011 "
       ]
      },
      {
       "output_type": "stream",
       "stream": "stdout",
       "text": [
        "56893.7742145 56894.7584364 "
       ]
      },
      {
       "output_type": "stream",
       "stream": "stdout",
       "text": [
        "\n",
        "56889.7312269 56890.7344779 56891.7214011 56893.7742145 "
       ]
      },
      {
       "output_type": "stream",
       "stream": "stdout",
       "text": [
        "56894.7584364 \n",
        "56889.7312269 "
       ]
      },
      {
       "output_type": "stream",
       "stream": "stdout",
       "text": [
        "56890.7344779 56891.7214011 56893.7742145 56894.7584364 "
       ]
      },
      {
       "output_type": "stream",
       "stream": "stdout",
       "text": [
        "\n",
        "56889.7312269 56890.7344779 56891.7214011 56893.7742145 "
       ]
      },
      {
       "output_type": "stream",
       "stream": "stdout",
       "text": [
        "56894.7584364 \n",
        "56889.7312269 "
       ]
      },
      {
       "output_type": "stream",
       "stream": "stdout",
       "text": [
        "56890.7344779 56891.7214011 "
       ]
      },
      {
       "output_type": "stream",
       "stream": "stdout",
       "text": [
        "56893.7742145 56894.7584364 "
       ]
      },
      {
       "output_type": "stream",
       "stream": "stdout",
       "text": [
        "\n",
        "56889.7312269 56890.7344779 "
       ]
      },
      {
       "output_type": "stream",
       "stream": "stdout",
       "text": [
        "56891.7214011 56893.7742145 "
       ]
      },
      {
       "output_type": "stream",
       "stream": "stdout",
       "text": [
        "56894.7584364 \n",
        "56889.7312269 "
       ]
      },
      {
       "output_type": "stream",
       "stream": "stdout",
       "text": [
        "56890.7344779 56891.7214011 "
       ]
      },
      {
       "output_type": "stream",
       "stream": "stdout",
       "text": [
        "56893.7742145 56894.7584364 "
       ]
      },
      {
       "output_type": "stream",
       "stream": "stdout",
       "text": [
        "\n",
        "56889.7312269 56890.7344779 "
       ]
      },
      {
       "output_type": "stream",
       "stream": "stdout",
       "text": [
        "56891.7214011 56893.7742145 "
       ]
      },
      {
       "output_type": "stream",
       "stream": "stdout",
       "text": [
        "56894.7584364 \n",
        "Giant08"
       ]
      },
      {
       "output_type": "stream",
       "stream": "stdout",
       "text": [
        "\n",
        "56889.7312269"
       ]
      },
      {
       "output_type": "stream",
       "stream": "stdout",
       "text": [
        " 56890.7344779 56891.7214011 56893.7742145 56894.7584364 "
       ]
      },
      {
       "output_type": "stream",
       "stream": "stdout",
       "text": [
        "\n",
        "56889.7312269 56890.7344779 56891.7214011 56893.7742145 "
       ]
      },
      {
       "output_type": "stream",
       "stream": "stdout",
       "text": [
        "56894.7584364 "
       ]
      },
      {
       "output_type": "stream",
       "stream": "stdout",
       "text": [
        "\n",
        "56889.7312269 56890.7344779 56891.7214011 56893.7742145 "
       ]
      },
      {
       "output_type": "stream",
       "stream": "stdout",
       "text": [
        "56894.7584364 "
       ]
      },
      {
       "output_type": "stream",
       "stream": "stdout",
       "text": [
        "\n",
        "56889.7312269 56890.7344779 56891.7214011 56893.7742145 "
       ]
      },
      {
       "output_type": "stream",
       "stream": "stdout",
       "text": [
        "56894.7584364 "
       ]
      },
      {
       "output_type": "stream",
       "stream": "stdout",
       "text": [
        "\n",
        "56889.7312269 56890.7344779 56891.7214011 "
       ]
      },
      {
       "output_type": "stream",
       "stream": "stdout",
       "text": [
        "56893.7742145 56894.7584364 "
       ]
      },
      {
       "output_type": "stream",
       "stream": "stdout",
       "text": [
        "\n",
        "56889.7312269 56890.7344779 56891.7214011 "
       ]
      },
      {
       "output_type": "stream",
       "stream": "stdout",
       "text": [
        "56893.7742145 56894.7584364 "
       ]
      },
      {
       "output_type": "stream",
       "stream": "stdout",
       "text": [
        "\n",
        "56889.7312269 56890.7344779 56891.7214011 "
       ]
      },
      {
       "output_type": "stream",
       "stream": "stdout",
       "text": [
        "56893.7742145 56894.7584364 "
       ]
      },
      {
       "output_type": "stream",
       "stream": "stdout",
       "text": [
        "\n",
        "56889.7312269 56890.7344779 56891.7214011 "
       ]
      },
      {
       "output_type": "stream",
       "stream": "stdout",
       "text": [
        "56893.7742145 56894.7584364 "
       ]
      },
      {
       "output_type": "stream",
       "stream": "stdout",
       "text": [
        "\n",
        "56889.7312269 56890.7344779 "
       ]
      },
      {
       "output_type": "stream",
       "stream": "stdout",
       "text": [
        "56891.7214011 56893.7742145 "
       ]
      },
      {
       "output_type": "stream",
       "stream": "stdout",
       "text": [
        "56894.7584364 \n",
        "56889.7312269 "
       ]
      },
      {
       "output_type": "stream",
       "stream": "stdout",
       "text": [
        "56890.7344779 56891.7214011 "
       ]
      },
      {
       "output_type": "stream",
       "stream": "stdout",
       "text": [
        "56893.7742145 56894.7584364 "
       ]
      },
      {
       "output_type": "stream",
       "stream": "stdout",
       "text": [
        "\n",
        "56889.7312269 56890.7344779 "
       ]
      },
      {
       "output_type": "stream",
       "stream": "stdout",
       "text": [
        "56891.7214011 56893.7742145 "
       ]
      },
      {
       "output_type": "stream",
       "stream": "stdout",
       "text": [
        "56894.7584364 \n",
        "56889.7312269 "
       ]
      },
      {
       "output_type": "stream",
       "stream": "stdout",
       "text": [
        "56890.7344779 56891.7214011 "
       ]
      },
      {
       "output_type": "stream",
       "stream": "stdout",
       "text": [
        "56893.7742145 56894.7584364 "
       ]
      },
      {
       "output_type": "stream",
       "stream": "stdout",
       "text": [
        "\n",
        "Field05"
       ]
      },
      {
       "output_type": "stream",
       "stream": "stdout",
       "text": [
        "\n",
        "56889.7312269"
       ]
      },
      {
       "output_type": "stream",
       "stream": "stdout",
       "text": [
        " 56890.7344779 56891.7214011 56893.7742145 56894.7584364 "
       ]
      },
      {
       "output_type": "stream",
       "stream": "stdout",
       "text": [
        "\n",
        "56889.7312269 56890.7344779 56891.7214011 56893.7742145 "
       ]
      },
      {
       "output_type": "stream",
       "stream": "stdout",
       "text": [
        "56894.7584364 "
       ]
      },
      {
       "output_type": "stream",
       "stream": "stdout",
       "text": [
        "\n",
        "56889.7312269 56890.7344779 56891.7214011 "
       ]
      },
      {
       "output_type": "stream",
       "stream": "stdout",
       "text": [
        "56893.7742145 56894.7584364 "
       ]
      },
      {
       "output_type": "stream",
       "stream": "stdout",
       "text": [
        "\n",
        "56889.7312269 56890.7344779 56891.7214011 "
       ]
      },
      {
       "output_type": "stream",
       "stream": "stdout",
       "text": [
        "56893.7742145 56894.7584364 "
       ]
      },
      {
       "output_type": "stream",
       "stream": "stdout",
       "text": [
        "\n",
        "56889.7312269 56890.7344779 56891.7214011 "
       ]
      },
      {
       "output_type": "stream",
       "stream": "stdout",
       "text": [
        "56893.7742145 56894.7584364 "
       ]
      },
      {
       "output_type": "stream",
       "stream": "stdout",
       "text": [
        "\n",
        "56889.7312269 56890.7344779 56891.7214011 56893.7742145 "
       ]
      },
      {
       "output_type": "stream",
       "stream": "stdout",
       "text": [
        "56894.7584364 \n",
        "56889.7312269 "
       ]
      },
      {
       "output_type": "stream",
       "stream": "stdout",
       "text": [
        "56890.7344779 56891.7214011 56893.7742145 56894.7584364 "
       ]
      },
      {
       "output_type": "stream",
       "stream": "stdout",
       "text": [
        "\n",
        "56889.7312269 56890.7344779 56891.7214011 56893.7742145 "
       ]
      },
      {
       "output_type": "stream",
       "stream": "stdout",
       "text": [
        "56894.7584364 \n",
        "56889.7312269 "
       ]
      },
      {
       "output_type": "stream",
       "stream": "stdout",
       "text": [
        "56890.7344779 56891.7214011 "
       ]
      },
      {
       "output_type": "stream",
       "stream": "stdout",
       "text": [
        "56893.7742145 56894.7584364 "
       ]
      },
      {
       "output_type": "stream",
       "stream": "stdout",
       "text": [
        "\n",
        "56889.7312269 56890.7344779 "
       ]
      },
      {
       "output_type": "stream",
       "stream": "stdout",
       "text": [
        "56891.7214011 56893.7742145 "
       ]
      },
      {
       "output_type": "stream",
       "stream": "stdout",
       "text": [
        "56894.7584364 \n",
        "56889.7312269 "
       ]
      },
      {
       "output_type": "stream",
       "stream": "stdout",
       "text": [
        "56890.7344779 56891.7214011 "
       ]
      },
      {
       "output_type": "stream",
       "stream": "stdout",
       "text": [
        "56893.7742145 56894.7584364 "
       ]
      },
      {
       "output_type": "stream",
       "stream": "stdout",
       "text": [
        "\n",
        "56889.7312269 56890.7344779 "
       ]
      },
      {
       "output_type": "stream",
       "stream": "stdout",
       "text": [
        "56891.7214011 56893.7742145 "
       ]
      },
      {
       "output_type": "stream",
       "stream": "stdout",
       "text": [
        "56894.7584364 \n",
        "Field16"
       ]
      },
      {
       "output_type": "stream",
       "stream": "stdout",
       "text": [
        "\n",
        "56889.7312269"
       ]
      },
      {
       "output_type": "stream",
       "stream": "stdout",
       "text": [
        " 56890.7344779 56891.7214011 56893.7742145 "
       ]
      },
      {
       "output_type": "stream",
       "stream": "stdout",
       "text": [
        "56894.7584364 "
       ]
      },
      {
       "output_type": "stream",
       "stream": "stdout",
       "text": [
        "\n",
        "56889.7312269 56890.7344779 56891.7214011 56893.7742145 "
       ]
      },
      {
       "output_type": "stream",
       "stream": "stdout",
       "text": [
        "56894.7584364 "
       ]
      },
      {
       "output_type": "stream",
       "stream": "stdout",
       "text": [
        "\n",
        "56889.7312269 56890.7344779 56891.7214011 "
       ]
      },
      {
       "output_type": "stream",
       "stream": "stdout",
       "text": [
        "56893.7742145 56894.7584364 "
       ]
      },
      {
       "output_type": "stream",
       "stream": "stdout",
       "text": [
        "\n",
        "56889.7312269 56890.7344779 56891.7214011 "
       ]
      },
      {
       "output_type": "stream",
       "stream": "stdout",
       "text": [
        "56893.7742145 56894.7584364 "
       ]
      },
      {
       "output_type": "stream",
       "stream": "stdout",
       "text": [
        "\n",
        "56889.7312269 56890.7344779 56891.7214011 56893.7742145 "
       ]
      },
      {
       "output_type": "stream",
       "stream": "stdout",
       "text": [
        "56894.7584364 \n",
        "56889.7312269 "
       ]
      },
      {
       "output_type": "stream",
       "stream": "stdout",
       "text": [
        "56890.7344779 56891.7214011 56893.7742145 56894.7584364 "
       ]
      },
      {
       "output_type": "stream",
       "stream": "stdout",
       "text": [
        "\n",
        "56889.7312269 56890.7344779 56891.7214011 56893.7742145 "
       ]
      },
      {
       "output_type": "stream",
       "stream": "stdout",
       "text": [
        "56894.7584364 \n",
        "56889.7312269 "
       ]
      },
      {
       "output_type": "stream",
       "stream": "stdout",
       "text": [
        "56890.7344779 56891.7214011 56893.7742145 "
       ]
      },
      {
       "output_type": "stream",
       "stream": "stdout",
       "text": [
        "56894.7584364 \n",
        "56889.7312269 "
       ]
      },
      {
       "output_type": "stream",
       "stream": "stdout",
       "text": [
        "56890.7344779 56891.7214011 "
       ]
      },
      {
       "output_type": "stream",
       "stream": "stdout",
       "text": [
        "56893.7742145 56894.7584364 "
       ]
      },
      {
       "output_type": "stream",
       "stream": "stdout",
       "text": [
        "\n",
        "56889.7312269 56890.7344779 "
       ]
      },
      {
       "output_type": "stream",
       "stream": "stdout",
       "text": [
        "56891.7214011 56893.7742145 "
       ]
      },
      {
       "output_type": "stream",
       "stream": "stdout",
       "text": [
        "56894.7584364 \n",
        "56889.7312269 "
       ]
      },
      {
       "output_type": "stream",
       "stream": "stdout",
       "text": [
        "56890.7344779 56891.7214011 "
       ]
      },
      {
       "output_type": "stream",
       "stream": "stdout",
       "text": [
        "56893.7742145 56894.7584364 "
       ]
      },
      {
       "output_type": "stream",
       "stream": "stdout",
       "text": [
        "\n",
        "56889.7312269 56890.7344779 "
       ]
      },
      {
       "output_type": "stream",
       "stream": "stdout",
       "text": [
        "56891.7214011 56893.7742145 "
       ]
      },
      {
       "output_type": "stream",
       "stream": "stdout",
       "text": [
        "56894.7584364 \n",
        "Giant02"
       ]
      },
      {
       "output_type": "stream",
       "stream": "stdout",
       "text": [
        "\n",
        "56889.7312269"
       ]
      },
      {
       "output_type": "stream",
       "stream": "stdout",
       "text": [
        " 56890.7344779 56891.7214011 56893.7742145 56894.7584364 "
       ]
      },
      {
       "output_type": "stream",
       "stream": "stdout",
       "text": [
        "\n",
        "56889.7312269 56890.7344779 56891.7214011 56893.7742145 "
       ]
      },
      {
       "output_type": "stream",
       "stream": "stdout",
       "text": [
        "56894.7584364 "
       ]
      },
      {
       "output_type": "stream",
       "stream": "stdout",
       "text": [
        "\n",
        "56889.7312269 56890.7344779 56891.7214011 "
       ]
      },
      {
       "output_type": "stream",
       "stream": "stdout",
       "text": [
        "56893.7742145 56894.7584364 "
       ]
      },
      {
       "output_type": "stream",
       "stream": "stdout",
       "text": [
        "\n",
        "56889.7312269 56890.7344779 56891.7214011 "
       ]
      },
      {
       "output_type": "stream",
       "stream": "stdout",
       "text": [
        "56893.7742145 56894.7584364 "
       ]
      },
      {
       "output_type": "stream",
       "stream": "stdout",
       "text": [
        "\n",
        "56889.7312269 56890.7344779 56891.7214011 "
       ]
      },
      {
       "output_type": "stream",
       "stream": "stdout",
       "text": [
        "56893.7742145 56894.7584364 "
       ]
      },
      {
       "output_type": "stream",
       "stream": "stdout",
       "text": [
        "\n",
        "56889.7312269 56890.7344779 56891.7214011 "
       ]
      },
      {
       "output_type": "stream",
       "stream": "stdout",
       "text": [
        "56893.7742145 56894.7584364 "
       ]
      },
      {
       "output_type": "stream",
       "stream": "stdout",
       "text": [
        "\n",
        "56889.7312269 56890.7344779 56891.7214011 "
       ]
      },
      {
       "output_type": "stream",
       "stream": "stdout",
       "text": [
        "56893.7742145 56894.7584364 "
       ]
      },
      {
       "output_type": "stream",
       "stream": "stdout",
       "text": [
        "\n",
        "56889.7312269 56890.7344779 56891.7214011 56893.7742145 "
       ]
      },
      {
       "output_type": "stream",
       "stream": "stdout",
       "text": [
        "56894.7584364 \n",
        "56889.7312269 "
       ]
      },
      {
       "output_type": "stream",
       "stream": "stdout",
       "text": [
        "56890.7344779 56891.7214011 "
       ]
      },
      {
       "output_type": "stream",
       "stream": "stdout",
       "text": [
        "56893.7742145 56894.7584364 "
       ]
      },
      {
       "output_type": "stream",
       "stream": "stdout",
       "text": [
        "\n",
        "56889.7312269 56890.7344779 "
       ]
      },
      {
       "output_type": "stream",
       "stream": "stdout",
       "text": [
        "56891.7214011 56893.7742145 "
       ]
      },
      {
       "output_type": "stream",
       "stream": "stdout",
       "text": [
        "56894.7584364 \n",
        "56889.7312269 "
       ]
      },
      {
       "output_type": "stream",
       "stream": "stdout",
       "text": [
        "56890.7344779 56891.7214011 "
       ]
      },
      {
       "output_type": "stream",
       "stream": "stdout",
       "text": [
        "56893.7742145 56894.7584364 "
       ]
      },
      {
       "output_type": "stream",
       "stream": "stdout",
       "text": [
        "\n",
        "56889.7312269 56890.7344779 "
       ]
      },
      {
       "output_type": "stream",
       "stream": "stdout",
       "text": [
        "56891.7214011 56893.7742145 "
       ]
      },
      {
       "output_type": "stream",
       "stream": "stdout",
       "text": [
        "56894.7584364 \n",
        "Field34"
       ]
      },
      {
       "output_type": "stream",
       "stream": "stdout",
       "text": [
        "\n",
        "56889.7312269"
       ]
      },
      {
       "output_type": "stream",
       "stream": "stdout",
       "text": [
        " 56890.7344779 56891.7214011 56893.7742145 "
       ]
      },
      {
       "output_type": "stream",
       "stream": "stdout",
       "text": [
        "56894.7584364 "
       ]
      },
      {
       "output_type": "stream",
       "stream": "stdout",
       "text": [
        "\n",
        "56889.7312269 56890.7344779 56891.7214011 "
       ]
      },
      {
       "output_type": "stream",
       "stream": "stdout",
       "text": [
        "56893.7742145 56894.7584364 "
       ]
      },
      {
       "output_type": "stream",
       "stream": "stdout",
       "text": [
        "\n",
        "56889.7312269 56890.7344779 56891.7214011 "
       ]
      },
      {
       "output_type": "stream",
       "stream": "stdout",
       "text": [
        "56893.7742145 56894.7584364 "
       ]
      },
      {
       "output_type": "stream",
       "stream": "stdout",
       "text": [
        "\n",
        "56889.7312269 56890.7344779 56891.7214011 56893.7742145 "
       ]
      },
      {
       "output_type": "stream",
       "stream": "stdout",
       "text": [
        "56894.7584364 "
       ]
      },
      {
       "output_type": "stream",
       "stream": "stdout",
       "text": [
        "\n",
        "56889.7312269 56890.7344779 56891.7214011 "
       ]
      },
      {
       "output_type": "stream",
       "stream": "stdout",
       "text": [
        "56893.7742145 56894.7584364 "
       ]
      },
      {
       "output_type": "stream",
       "stream": "stdout",
       "text": [
        "\n",
        "56889.7312269 56890.7344779 56891.7214011 "
       ]
      },
      {
       "output_type": "stream",
       "stream": "stdout",
       "text": [
        "56893.7742145 56894.7584364 "
       ]
      },
      {
       "output_type": "stream",
       "stream": "stdout",
       "text": [
        "\n",
        "56889.7312269 56890.7344779 56891.7214011 "
       ]
      },
      {
       "output_type": "stream",
       "stream": "stdout",
       "text": [
        "56893.7742145 56894.7584364 "
       ]
      },
      {
       "output_type": "stream",
       "stream": "stdout",
       "text": [
        "\n",
        "56889.7312269 56890.7344779 56891.7214011 "
       ]
      },
      {
       "output_type": "stream",
       "stream": "stdout",
       "text": [
        "56893.7742145 56894.7584364 "
       ]
      },
      {
       "output_type": "stream",
       "stream": "stdout",
       "text": [
        "\n",
        "56889.7312269 56890.7344779 "
       ]
      },
      {
       "output_type": "stream",
       "stream": "stdout",
       "text": [
        "56891.7214011 56893.7742145 "
       ]
      },
      {
       "output_type": "stream",
       "stream": "stdout",
       "text": [
        "56894.7584364 \n",
        "56889.7312269 "
       ]
      },
      {
       "output_type": "stream",
       "stream": "stdout",
       "text": [
        "56890.7344779 56891.7214011 "
       ]
      },
      {
       "output_type": "stream",
       "stream": "stdout",
       "text": [
        "56893.7742145 56894.7584364 "
       ]
      },
      {
       "output_type": "stream",
       "stream": "stdout",
       "text": [
        "\n",
        "56889.7312269 56890.7344779 "
       ]
      },
      {
       "output_type": "stream",
       "stream": "stdout",
       "text": [
        "56891.7214011 56893.7742145 "
       ]
      },
      {
       "output_type": "stream",
       "stream": "stdout",
       "text": [
        "56894.7584364 \n",
        "56889.7312269 "
       ]
      },
      {
       "output_type": "stream",
       "stream": "stdout",
       "text": [
        "56890.7344779 56891.7214011 "
       ]
      },
      {
       "output_type": "stream",
       "stream": "stdout",
       "text": [
        "56893.7742145 56894.7584364 "
       ]
      },
      {
       "output_type": "stream",
       "stream": "stdout",
       "text": [
        "\n",
        "Field24"
       ]
      },
      {
       "output_type": "stream",
       "stream": "stdout",
       "text": [
        "\n",
        "56889.7312269"
       ]
      },
      {
       "output_type": "stream",
       "stream": "stdout",
       "text": [
        " 56890.7344779 56891.7214011 56893.7742145 56894.7584364 "
       ]
      },
      {
       "output_type": "stream",
       "stream": "stdout",
       "text": [
        "\n",
        "56889.7312269 56890.7344779 56891.7214011 "
       ]
      },
      {
       "output_type": "stream",
       "stream": "stdout",
       "text": [
        "56893.7742145 56894.7584364 "
       ]
      },
      {
       "output_type": "stream",
       "stream": "stdout",
       "text": [
        "\n",
        "56889.7312269 56890.7344779 56891.7214011 "
       ]
      },
      {
       "output_type": "stream",
       "stream": "stdout",
       "text": [
        "56893.7742145 56894.7584364 "
       ]
      },
      {
       "output_type": "stream",
       "stream": "stdout",
       "text": [
        "\n",
        "56889.7312269 56890.7344779 56891.7214011 "
       ]
      },
      {
       "output_type": "stream",
       "stream": "stdout",
       "text": [
        "56893.7742145 56894.7584364 "
       ]
      },
      {
       "output_type": "stream",
       "stream": "stdout",
       "text": [
        "\n",
        "56889.7312269 56890.7344779 56891.7214011 56893.7742145 "
       ]
      },
      {
       "output_type": "stream",
       "stream": "stdout",
       "text": [
        "56894.7584364 \n",
        "56889.7312269 "
       ]
      },
      {
       "output_type": "stream",
       "stream": "stdout",
       "text": [
        "56890.7344779 56891.7214011 56893.7742145 56894.7584364 "
       ]
      },
      {
       "output_type": "stream",
       "stream": "stdout",
       "text": [
        "\n",
        "56889.7312269 56890.7344779 56891.7214011 "
       ]
      },
      {
       "output_type": "stream",
       "stream": "stdout",
       "text": [
        "56893.7742145 56894.7584364 "
       ]
      },
      {
       "output_type": "stream",
       "stream": "stdout",
       "text": [
        "\n",
        "56889.7312269 56890.7344779 56891.7214011 "
       ]
      },
      {
       "output_type": "stream",
       "stream": "stdout",
       "text": [
        "56893.7742145 56894.7584364 "
       ]
      },
      {
       "output_type": "stream",
       "stream": "stdout",
       "text": [
        "\n",
        "56889.7312269 56890.7344779 "
       ]
      },
      {
       "output_type": "stream",
       "stream": "stdout",
       "text": [
        "56891.7214011 56893.7742145 "
       ]
      },
      {
       "output_type": "stream",
       "stream": "stdout",
       "text": [
        "56894.7584364 \n",
        "56889.7312269 "
       ]
      },
      {
       "output_type": "stream",
       "stream": "stdout",
       "text": [
        "56890.7344779 56891.7214011 "
       ]
      },
      {
       "output_type": "stream",
       "stream": "stdout",
       "text": [
        "56893.7742145 56894.7584364 "
       ]
      },
      {
       "output_type": "stream",
       "stream": "stdout",
       "text": [
        "\n",
        "56889.7312269 56890.7344779 "
       ]
      },
      {
       "output_type": "stream",
       "stream": "stdout",
       "text": [
        "56891.7214011 56893.7742145 "
       ]
      },
      {
       "output_type": "stream",
       "stream": "stdout",
       "text": [
        "56894.7584364 \n",
        "56889.7312269 "
       ]
      },
      {
       "output_type": "stream",
       "stream": "stdout",
       "text": [
        "56890.7344779 56891.7214011 "
       ]
      },
      {
       "output_type": "stream",
       "stream": "stdout",
       "text": [
        "56893.7742145 56894.7584364 "
       ]
      },
      {
       "output_type": "stream",
       "stream": "stdout",
       "text": [
        "\n",
        "Giant10"
       ]
      },
      {
       "output_type": "stream",
       "stream": "stdout",
       "text": [
        "\n",
        "56889.7312269"
       ]
      },
      {
       "output_type": "stream",
       "stream": "stdout",
       "text": [
        " 56890.7344779 56891.7214011 56893.7742145 56894.7584364 "
       ]
      },
      {
       "output_type": "stream",
       "stream": "stdout",
       "text": [
        "\n",
        "56889.7312269 56890.7344779 56891.7214011 56893.7742145 "
       ]
      },
      {
       "output_type": "stream",
       "stream": "stdout",
       "text": [
        "56894.7584364 "
       ]
      },
      {
       "output_type": "stream",
       "stream": "stdout",
       "text": [
        "\n",
        "56889.7312269 56890.7344779 56891.7214011 "
       ]
      },
      {
       "output_type": "stream",
       "stream": "stdout",
       "text": [
        "56893.7742145 56894.7584364 "
       ]
      },
      {
       "output_type": "stream",
       "stream": "stdout",
       "text": [
        "\n",
        "56889.7312269 56890.7344779 56891.7214011 "
       ]
      },
      {
       "output_type": "stream",
       "stream": "stdout",
       "text": [
        "56893.7742145 56894.7584364 "
       ]
      },
      {
       "output_type": "stream",
       "stream": "stdout",
       "text": [
        "\n",
        "56889.7312269 56890.7344779 56891.7214011 "
       ]
      },
      {
       "output_type": "stream",
       "stream": "stdout",
       "text": [
        "56893.7742145 56894.7584364 "
       ]
      },
      {
       "output_type": "stream",
       "stream": "stdout",
       "text": [
        "\n",
        "56889.7312269 56890.7344779 56891.7214011 "
       ]
      },
      {
       "output_type": "stream",
       "stream": "stdout",
       "text": [
        "56893.7742145 56894.7584364 "
       ]
      },
      {
       "output_type": "stream",
       "stream": "stdout",
       "text": [
        "\n",
        "56889.7312269 56890.7344779 56891.7214011 "
       ]
      },
      {
       "output_type": "stream",
       "stream": "stdout",
       "text": [
        "56893.7742145 56894.7584364 "
       ]
      },
      {
       "output_type": "stream",
       "stream": "stdout",
       "text": [
        "\n",
        "56889.7312269 56890.7344779 56891.7214011 "
       ]
      },
      {
       "output_type": "stream",
       "stream": "stdout",
       "text": [
        "56893.7742145 56894.7584364 "
       ]
      },
      {
       "output_type": "stream",
       "stream": "stdout",
       "text": [
        "\n",
        "56889.7312269 56890.7344779 "
       ]
      },
      {
       "output_type": "stream",
       "stream": "stdout",
       "text": [
        "56891.7214011 56893.7742145 "
       ]
      },
      {
       "output_type": "stream",
       "stream": "stdout",
       "text": [
        "56894.7584364 \n",
        "56889.7312269 "
       ]
      },
      {
       "output_type": "stream",
       "stream": "stdout",
       "text": [
        "56890.7344779 56891.7214011 "
       ]
      },
      {
       "output_type": "stream",
       "stream": "stdout",
       "text": [
        "56893.7742145 56894.7584364 "
       ]
      },
      {
       "output_type": "stream",
       "stream": "stdout",
       "text": [
        "\n",
        "56889.7312269 56890.7344779 "
       ]
      },
      {
       "output_type": "stream",
       "stream": "stdout",
       "text": [
        "56891.7214011 56893.7742145 "
       ]
      },
      {
       "output_type": "stream",
       "stream": "stdout",
       "text": [
        "56894.7584364 \n",
        "56889.7312269 "
       ]
      },
      {
       "output_type": "stream",
       "stream": "stdout",
       "text": [
        "56890.7344779 56891.7214011 "
       ]
      },
      {
       "output_type": "stream",
       "stream": "stdout",
       "text": [
        "56893.7742145 56894.7584364 "
       ]
      },
      {
       "output_type": "stream",
       "stream": "stdout",
       "text": [
        "\n",
        "Field28"
       ]
      },
      {
       "output_type": "stream",
       "stream": "stdout",
       "text": [
        "\n",
        "56889.7312269"
       ]
      },
      {
       "output_type": "stream",
       "stream": "stdout",
       "text": [
        " 56890.7344779 56891.7214011 56893.7742145 56894.7584364 "
       ]
      },
      {
       "output_type": "stream",
       "stream": "stdout",
       "text": [
        "\n",
        "56889.7312269 56890.7344779 56891.7214011 56893.7742145 "
       ]
      },
      {
       "output_type": "stream",
       "stream": "stdout",
       "text": [
        "56894.7584364 "
       ]
      },
      {
       "output_type": "stream",
       "stream": "stdout",
       "text": [
        "\n",
        "56889.7312269 56890.7344779 56891.7214011 "
       ]
      },
      {
       "output_type": "stream",
       "stream": "stdout",
       "text": [
        "56893.7742145 56894.7584364 "
       ]
      },
      {
       "output_type": "stream",
       "stream": "stdout",
       "text": [
        "\n",
        "56889.7312269 56890.7344779 56891.7214011 56893.7742145 "
       ]
      },
      {
       "output_type": "stream",
       "stream": "stdout",
       "text": [
        "56894.7584364 "
       ]
      },
      {
       "output_type": "stream",
       "stream": "stdout",
       "text": [
        "\n",
        "56889.7312269 56890.7344779 56891.7214011 "
       ]
      },
      {
       "output_type": "stream",
       "stream": "stdout",
       "text": [
        "56893.7742145 56894.7584364 "
       ]
      },
      {
       "output_type": "stream",
       "stream": "stdout",
       "text": [
        "\n",
        "56889.7312269 56890.7344779 56891.7214011 "
       ]
      },
      {
       "output_type": "stream",
       "stream": "stdout",
       "text": [
        "56893.7742145 56894.7584364 "
       ]
      },
      {
       "output_type": "stream",
       "stream": "stdout",
       "text": [
        "\n",
        "56889.7312269 56890.7344779 56891.7214011 "
       ]
      },
      {
       "output_type": "stream",
       "stream": "stdout",
       "text": [
        "56893.7742145 56894.7584364 "
       ]
      },
      {
       "output_type": "stream",
       "stream": "stdout",
       "text": [
        "\n",
        "56889.7312269 56890.7344779 56891.7214011 56893.7742145 "
       ]
      },
      {
       "output_type": "stream",
       "stream": "stdout",
       "text": [
        "56894.7584364 \n",
        "56889.7312269 "
       ]
      },
      {
       "output_type": "stream",
       "stream": "stdout",
       "text": [
        "56890.7344779 56891.7214011 "
       ]
      },
      {
       "output_type": "stream",
       "stream": "stdout",
       "text": [
        "56893.7742145 56894.7584364 "
       ]
      },
      {
       "output_type": "stream",
       "stream": "stdout",
       "text": [
        "\n",
        "56889.7312269 56890.7344779 "
       ]
      },
      {
       "output_type": "stream",
       "stream": "stdout",
       "text": [
        "56891.7214011 56893.7742145 "
       ]
      },
      {
       "output_type": "stream",
       "stream": "stdout",
       "text": [
        "56894.7584364 \n",
        "56889.7312269 "
       ]
      },
      {
       "output_type": "stream",
       "stream": "stdout",
       "text": [
        "56890.7344779 56891.7214011 "
       ]
      },
      {
       "output_type": "stream",
       "stream": "stdout",
       "text": [
        "56893.7742145 56894.7584364 "
       ]
      },
      {
       "output_type": "stream",
       "stream": "stdout",
       "text": [
        "\n",
        "56889.7312269 56890.7344779 "
       ]
      },
      {
       "output_type": "stream",
       "stream": "stdout",
       "text": [
        "56891.7214011 56893.7742145 "
       ]
      },
      {
       "output_type": "stream",
       "stream": "stdout",
       "text": [
        "56894.7584364 \n",
        "Giant36"
       ]
      },
      {
       "output_type": "stream",
       "stream": "stdout",
       "text": [
        "\n",
        "56889.7312269"
       ]
      },
      {
       "output_type": "stream",
       "stream": "stdout",
       "text": [
        " 56890.7344779 56891.7214011 56893.7742145 56894.7584364 "
       ]
      },
      {
       "output_type": "stream",
       "stream": "stdout",
       "text": [
        "\n",
        "56889.7312269 56890.7344779 56891.7214011 "
       ]
      },
      {
       "output_type": "stream",
       "stream": "stdout",
       "text": [
        "56893.7742145 56894.7584364 "
       ]
      },
      {
       "output_type": "stream",
       "stream": "stdout",
       "text": [
        "\n",
        "56889.7312269 56890.7344779 56891.7214011 56893.7742145 "
       ]
      },
      {
       "output_type": "stream",
       "stream": "stdout",
       "text": [
        "56894.7584364 "
       ]
      },
      {
       "output_type": "stream",
       "stream": "stdout",
       "text": [
        "\n",
        "56889.7312269 56890.7344779 56891.7214011 "
       ]
      },
      {
       "output_type": "stream",
       "stream": "stdout",
       "text": [
        "56893.7742145 56894.7584364 "
       ]
      },
      {
       "output_type": "stream",
       "stream": "stdout",
       "text": [
        "\n",
        "56889.7312269 56890.7344779 56891.7214011 "
       ]
      },
      {
       "output_type": "stream",
       "stream": "stdout",
       "text": [
        "56893.7742145 56894.7584364 "
       ]
      },
      {
       "output_type": "stream",
       "stream": "stdout",
       "text": [
        "\n",
        "56889.7312269 56890.7344779 56891.7214011 56893.7742145 "
       ]
      },
      {
       "output_type": "stream",
       "stream": "stdout",
       "text": [
        "56894.7584364 \n",
        "56889.7312269 "
       ]
      },
      {
       "output_type": "stream",
       "stream": "stdout",
       "text": [
        "56890.7344779 56891.7214011 56893.7742145 "
       ]
      },
      {
       "output_type": "stream",
       "stream": "stdout",
       "text": [
        "56894.7584364 \n",
        "56889.7312269 "
       ]
      },
      {
       "output_type": "stream",
       "stream": "stdout",
       "text": [
        "56890.7344779 56891.7214011 56893.7742145 "
       ]
      },
      {
       "output_type": "stream",
       "stream": "stdout",
       "text": [
        "56894.7584364 \n",
        "56889.7312269 "
       ]
      },
      {
       "output_type": "stream",
       "stream": "stdout",
       "text": [
        "56890.7344779 56891.7214011 "
       ]
      },
      {
       "output_type": "stream",
       "stream": "stdout",
       "text": [
        "56893.7742145 56894.7584364 "
       ]
      },
      {
       "output_type": "stream",
       "stream": "stdout",
       "text": [
        "\n",
        "56889.7312269 56890.7344779 "
       ]
      },
      {
       "output_type": "stream",
       "stream": "stdout",
       "text": [
        "56891.7214011 56893.7742145 "
       ]
      },
      {
       "output_type": "stream",
       "stream": "stdout",
       "text": [
        "56894.7584364 \n",
        "56889.7312269 "
       ]
      },
      {
       "output_type": "stream",
       "stream": "stdout",
       "text": [
        "56890.7344779 56891.7214011 "
       ]
      },
      {
       "output_type": "stream",
       "stream": "stdout",
       "text": [
        "56893.7742145 56894.7584364 "
       ]
      },
      {
       "output_type": "stream",
       "stream": "stdout",
       "text": [
        "\n",
        "56889.7312269 56890.7344779 "
       ]
      },
      {
       "output_type": "stream",
       "stream": "stdout",
       "text": [
        "56891.7214011 56893.7742145 "
       ]
      },
      {
       "output_type": "stream",
       "stream": "stdout",
       "text": [
        "56894.7584364 \n",
        "Field08"
       ]
      },
      {
       "output_type": "stream",
       "stream": "stdout",
       "text": [
        "\n",
        "56889.7312269"
       ]
      },
      {
       "output_type": "stream",
       "stream": "stdout",
       "text": [
        " 56890.7344779 56891.7214011 56893.7742145 56894.7584364 "
       ]
      },
      {
       "output_type": "stream",
       "stream": "stdout",
       "text": [
        "\n",
        "56889.7312269 56890.7344779 56891.7214011 "
       ]
      },
      {
       "output_type": "stream",
       "stream": "stdout",
       "text": [
        "56893.7742145 56894.7584364 "
       ]
      },
      {
       "output_type": "stream",
       "stream": "stdout",
       "text": [
        "\n",
        "56889.7312269 56890.7344779 56891.7214011 56893.7742145 "
       ]
      },
      {
       "output_type": "stream",
       "stream": "stdout",
       "text": [
        "56894.7584364 "
       ]
      },
      {
       "output_type": "stream",
       "stream": "stdout",
       "text": [
        "\n",
        "56889.7312269 56890.7344779 56891.7214011 "
       ]
      },
      {
       "output_type": "stream",
       "stream": "stdout",
       "text": [
        "56893.7742145 56894.7584364 "
       ]
      },
      {
       "output_type": "stream",
       "stream": "stdout",
       "text": [
        "\n",
        "56889.7312269 56890.7344779 56891.7214011 "
       ]
      },
      {
       "output_type": "stream",
       "stream": "stdout",
       "text": [
        "56893.7742145 56894.7584364 "
       ]
      },
      {
       "output_type": "stream",
       "stream": "stdout",
       "text": [
        "\n",
        "56889.7312269 56890.7344779 56891.7214011 "
       ]
      },
      {
       "output_type": "stream",
       "stream": "stdout",
       "text": [
        "56893.7742145 56894.7584364 "
       ]
      },
      {
       "output_type": "stream",
       "stream": "stdout",
       "text": [
        "\n",
        "56889.7312269 56890.7344779 56891.7214011 "
       ]
      },
      {
       "output_type": "stream",
       "stream": "stdout",
       "text": [
        "56893.7742145 56894.7584364 "
       ]
      },
      {
       "output_type": "stream",
       "stream": "stdout",
       "text": [
        "\n",
        "56889.7312269 56890.7344779 56891.7214011 "
       ]
      },
      {
       "output_type": "stream",
       "stream": "stdout",
       "text": [
        "56893.7742145 56894.7584364 "
       ]
      },
      {
       "output_type": "stream",
       "stream": "stdout",
       "text": [
        "\n",
        "56889.7312269 56890.7344779 "
       ]
      },
      {
       "output_type": "stream",
       "stream": "stdout",
       "text": [
        "56891.7214011 56893.7742145 "
       ]
      },
      {
       "output_type": "stream",
       "stream": "stdout",
       "text": [
        "56894.7584364 \n",
        "56889.7312269 "
       ]
      },
      {
       "output_type": "stream",
       "stream": "stdout",
       "text": [
        "56890.7344779 56891.7214011 "
       ]
      },
      {
       "output_type": "stream",
       "stream": "stdout",
       "text": [
        "56893.7742145 56894.7584364 "
       ]
      },
      {
       "output_type": "stream",
       "stream": "stdout",
       "text": [
        "\n",
        "56889.7312269 56890.7344779 "
       ]
      },
      {
       "output_type": "stream",
       "stream": "stdout",
       "text": [
        "56891.7214011 56893.7742145 "
       ]
      },
      {
       "output_type": "stream",
       "stream": "stdout",
       "text": [
        "56894.7584364 \n",
        "56889.7312269 "
       ]
      },
      {
       "output_type": "stream",
       "stream": "stdout",
       "text": [
        "56890.7344779 56891.7214011 "
       ]
      },
      {
       "output_type": "stream",
       "stream": "stdout",
       "text": [
        "56893.7742145 56894.7584364 "
       ]
      },
      {
       "output_type": "stream",
       "stream": "stdout",
       "text": [
        "\n",
        "Giant13"
       ]
      },
      {
       "output_type": "stream",
       "stream": "stdout",
       "text": [
        "\n",
        "56889.7312269"
       ]
      },
      {
       "output_type": "stream",
       "stream": "stdout",
       "text": [
        " 56890.7344779 56891.7214011 56893.7742145 56894.7584364 "
       ]
      },
      {
       "output_type": "stream",
       "stream": "stdout",
       "text": [
        "\n",
        "56889.7312269 56890.7344779 56891.7214011 56893.7742145 "
       ]
      },
      {
       "output_type": "stream",
       "stream": "stdout",
       "text": [
        "56894.7584364 "
       ]
      },
      {
       "output_type": "stream",
       "stream": "stdout",
       "text": [
        "\n",
        "56889.7312269 56890.7344779 56891.7214011 56893.7742145 "
       ]
      },
      {
       "output_type": "stream",
       "stream": "stdout",
       "text": [
        "56894.7584364 "
       ]
      },
      {
       "output_type": "stream",
       "stream": "stdout",
       "text": [
        "\n",
        "56889.7312269 56890.7344779 56891.7214011 "
       ]
      },
      {
       "output_type": "stream",
       "stream": "stdout",
       "text": [
        "56893.7742145 56894.7584364 "
       ]
      },
      {
       "output_type": "stream",
       "stream": "stdout",
       "text": [
        "\n",
        "56889.7312269 56890.7344779 56891.7214011 "
       ]
      },
      {
       "output_type": "stream",
       "stream": "stdout",
       "text": [
        "56893.7742145 56894.7584364 "
       ]
      },
      {
       "output_type": "stream",
       "stream": "stdout",
       "text": [
        "\n",
        "56889.7312269 56890.7344779 56891.7214011 "
       ]
      },
      {
       "output_type": "stream",
       "stream": "stdout",
       "text": [
        "56893.7742145 56894.7584364 "
       ]
      },
      {
       "output_type": "stream",
       "stream": "stdout",
       "text": [
        "\n",
        "56889.7312269 56890.7344779 56891.7214011 56893.7742145 "
       ]
      },
      {
       "output_type": "stream",
       "stream": "stdout",
       "text": [
        "56894.7584364 \n",
        "56889.7312269 "
       ]
      },
      {
       "output_type": "stream",
       "stream": "stdout",
       "text": [
        "56890.7344779 56891.7214011 56893.7742145 "
       ]
      },
      {
       "output_type": "stream",
       "stream": "stdout",
       "text": [
        "56894.7584364 \n",
        "56889.7312269 "
       ]
      },
      {
       "output_type": "stream",
       "stream": "stdout",
       "text": [
        "56890.7344779 56891.7214011 "
       ]
      },
      {
       "output_type": "stream",
       "stream": "stdout",
       "text": [
        "56893.7742145 56894.7584364 "
       ]
      },
      {
       "output_type": "stream",
       "stream": "stdout",
       "text": [
        "\n",
        "56889.7312269 56890.7344779 "
       ]
      },
      {
       "output_type": "stream",
       "stream": "stdout",
       "text": [
        "56891.7214011 56893.7742145 "
       ]
      },
      {
       "output_type": "stream",
       "stream": "stdout",
       "text": [
        "56894.7584364 \n",
        "56889.7312269 "
       ]
      },
      {
       "output_type": "stream",
       "stream": "stdout",
       "text": [
        "56890.7344779 56891.7214011 "
       ]
      },
      {
       "output_type": "stream",
       "stream": "stdout",
       "text": [
        "56893.7742145 56894.7584364 "
       ]
      },
      {
       "output_type": "stream",
       "stream": "stdout",
       "text": [
        "\n",
        "56889.7312269 56890.7344779 "
       ]
      },
      {
       "output_type": "stream",
       "stream": "stdout",
       "text": [
        "56891.7214011 56893.7742145 "
       ]
      },
      {
       "output_type": "stream",
       "stream": "stdout",
       "text": [
        "56894.7584364 \n",
        "Field36"
       ]
      },
      {
       "output_type": "stream",
       "stream": "stdout",
       "text": [
        "\n",
        "56889.7312269"
       ]
      },
      {
       "output_type": "stream",
       "stream": "stdout",
       "text": [
        " 56890.7344779 56891.7214011 56893.7742145 56894.7584364 "
       ]
      },
      {
       "output_type": "stream",
       "stream": "stdout",
       "text": [
        "\n",
        "56889.7312269 56890.7344779 56891.7214011 "
       ]
      },
      {
       "output_type": "stream",
       "stream": "stdout",
       "text": [
        "56893.7742145 56894.7584364 "
       ]
      },
      {
       "output_type": "stream",
       "stream": "stdout",
       "text": [
        "\n",
        "56889.7312269 56890.7344779 56891.7214011 "
       ]
      },
      {
       "output_type": "stream",
       "stream": "stdout",
       "text": [
        "56893.7742145 56894.7584364 "
       ]
      },
      {
       "output_type": "stream",
       "stream": "stdout",
       "text": [
        "\n",
        "56889.7312269 56890.7344779 56891.7214011 "
       ]
      },
      {
       "output_type": "stream",
       "stream": "stdout",
       "text": [
        "56893.7742145 56894.7584364 "
       ]
      },
      {
       "output_type": "stream",
       "stream": "stdout",
       "text": [
        "\n",
        "56889.7312269 56890.7344779 56891.7214011 "
       ]
      },
      {
       "output_type": "stream",
       "stream": "stdout",
       "text": [
        "56893.7742145 56894.7584364 "
       ]
      },
      {
       "output_type": "stream",
       "stream": "stdout",
       "text": [
        "\n",
        "56889.7312269 56890.7344779 56891.7214011 "
       ]
      },
      {
       "output_type": "stream",
       "stream": "stdout",
       "text": [
        "56893.7742145 56894.7584364 "
       ]
      },
      {
       "output_type": "stream",
       "stream": "stdout",
       "text": [
        "\n",
        "56889.7312269 56890.7344779 56891.7214011 "
       ]
      },
      {
       "output_type": "stream",
       "stream": "stdout",
       "text": [
        "56893.7742145 56894.7584364 "
       ]
      },
      {
       "output_type": "stream",
       "stream": "stdout",
       "text": [
        "\n",
        "56889.7312269 56890.7344779 56891.7214011 "
       ]
      },
      {
       "output_type": "stream",
       "stream": "stdout",
       "text": [
        "56893.7742145 56894.7584364 "
       ]
      },
      {
       "output_type": "stream",
       "stream": "stdout",
       "text": [
        "\n",
        "56889.7312269 56890.7344779 "
       ]
      },
      {
       "output_type": "stream",
       "stream": "stdout",
       "text": [
        "56891.7214011 56893.7742145 "
       ]
      },
      {
       "output_type": "stream",
       "stream": "stdout",
       "text": [
        "56894.7584364 \n",
        "56889.7312269 "
       ]
      },
      {
       "output_type": "stream",
       "stream": "stdout",
       "text": [
        "56890.7344779 56891.7214011 "
       ]
      },
      {
       "output_type": "stream",
       "stream": "stdout",
       "text": [
        "56893.7742145 56894.7584364 "
       ]
      },
      {
       "output_type": "stream",
       "stream": "stdout",
       "text": [
        "\n",
        "56889.7312269 56890.7344779 "
       ]
      },
      {
       "output_type": "stream",
       "stream": "stdout",
       "text": [
        "56891.7214011 56893.7742145 "
       ]
      },
      {
       "output_type": "stream",
       "stream": "stdout",
       "text": [
        "56894.7584364 \n",
        "56889.7312269 "
       ]
      },
      {
       "output_type": "stream",
       "stream": "stdout",
       "text": [
        "56890.7344779 56891.7214011 "
       ]
      },
      {
       "output_type": "stream",
       "stream": "stdout",
       "text": [
        "56893.7742145 56894.7584364 "
       ]
      },
      {
       "output_type": "stream",
       "stream": "stdout",
       "text": [
        "\n",
        "Field38"
       ]
      },
      {
       "output_type": "stream",
       "stream": "stdout",
       "text": [
        "\n",
        "56889.7312269"
       ]
      },
      {
       "output_type": "stream",
       "stream": "stdout",
       "text": [
        " 56890.7344779 56891.7214011 56893.7742145 "
       ]
      },
      {
       "output_type": "stream",
       "stream": "stdout",
       "text": [
        "56894.7584364 "
       ]
      },
      {
       "output_type": "stream",
       "stream": "stdout",
       "text": [
        "\n",
        "56889.7312269 56890.7344779 56891.7214011 56893.7742145 "
       ]
      },
      {
       "output_type": "stream",
       "stream": "stdout",
       "text": [
        "56894.7584364 "
       ]
      },
      {
       "output_type": "stream",
       "stream": "stdout",
       "text": [
        "\n",
        "56889.7312269 56890.7344779 56891.7214011 "
       ]
      },
      {
       "output_type": "stream",
       "stream": "stdout",
       "text": [
        "56893.7742145 56894.7584364 "
       ]
      },
      {
       "output_type": "stream",
       "stream": "stdout",
       "text": [
        "\n",
        "56889.7312269 56890.7344779 56891.7214011 "
       ]
      },
      {
       "output_type": "stream",
       "stream": "stdout",
       "text": [
        "56893.7742145 56894.7584364 "
       ]
      },
      {
       "output_type": "stream",
       "stream": "stdout",
       "text": [
        "\n",
        "56889.7312269 56890.7344779 56891.7214011 "
       ]
      },
      {
       "output_type": "stream",
       "stream": "stdout",
       "text": [
        "56893.7742145 56894.7584364 "
       ]
      },
      {
       "output_type": "stream",
       "stream": "stdout",
       "text": [
        "\n",
        "56889.7312269 56890.7344779 56891.7214011 "
       ]
      },
      {
       "output_type": "stream",
       "stream": "stdout",
       "text": [
        "56893.7742145 56894.7584364 "
       ]
      },
      {
       "output_type": "stream",
       "stream": "stdout",
       "text": [
        "\n",
        "56889.7312269 56890.7344779 56891.7214011 "
       ]
      },
      {
       "output_type": "stream",
       "stream": "stdout",
       "text": [
        "56893.7742145 56894.7584364 "
       ]
      },
      {
       "output_type": "stream",
       "stream": "stdout",
       "text": [
        "\n",
        "56889.7312269 56890.7344779 56891.7214011 56893.7742145 "
       ]
      },
      {
       "output_type": "stream",
       "stream": "stdout",
       "text": [
        "56894.7584364 \n",
        "56889.7312269 "
       ]
      },
      {
       "output_type": "stream",
       "stream": "stdout",
       "text": [
        "56890.7344779 56891.7214011 "
       ]
      },
      {
       "output_type": "stream",
       "stream": "stdout",
       "text": [
        "56893.7742145 56894.7584364 "
       ]
      },
      {
       "output_type": "stream",
       "stream": "stdout",
       "text": [
        "\n",
        "56889.7312269 56890.7344779 "
       ]
      },
      {
       "output_type": "stream",
       "stream": "stdout",
       "text": [
        "56891.7214011 56893.7742145 "
       ]
      },
      {
       "output_type": "stream",
       "stream": "stdout",
       "text": [
        "56894.7584364 \n",
        "56889.7312269 "
       ]
      },
      {
       "output_type": "stream",
       "stream": "stdout",
       "text": [
        "56890.7344779 56891.7214011 "
       ]
      },
      {
       "output_type": "stream",
       "stream": "stdout",
       "text": [
        "56893.7742145 56894.7584364 "
       ]
      },
      {
       "output_type": "stream",
       "stream": "stdout",
       "text": [
        "\n",
        "56889.7312269 56890.7344779 "
       ]
      },
      {
       "output_type": "stream",
       "stream": "stdout",
       "text": [
        "56891.7214011 56893.7742145 "
       ]
      },
      {
       "output_type": "stream",
       "stream": "stdout",
       "text": [
        "56894.7584364 \n",
        "Field39"
       ]
      },
      {
       "output_type": "stream",
       "stream": "stdout",
       "text": [
        "\n",
        "56889.7312269"
       ]
      },
      {
       "output_type": "stream",
       "stream": "stdout",
       "text": [
        " 56890.7344779 56891.7214011 56893.7742145 56894.7584364 "
       ]
      },
      {
       "output_type": "stream",
       "stream": "stdout",
       "text": [
        "\n",
        "56889.7312269 56890.7344779 56891.7214011 "
       ]
      },
      {
       "output_type": "stream",
       "stream": "stdout",
       "text": [
        "56893.7742145 56894.7584364 "
       ]
      },
      {
       "output_type": "stream",
       "stream": "stdout",
       "text": [
        "\n",
        "56889.7312269 56890.7344779 56891.7214011 "
       ]
      },
      {
       "output_type": "stream",
       "stream": "stdout",
       "text": [
        "56893.7742145 56894.7584364 "
       ]
      },
      {
       "output_type": "stream",
       "stream": "stdout",
       "text": [
        "\n",
        "56889.7312269 56890.7344779 56891.7214011 56893.7742145 "
       ]
      },
      {
       "output_type": "stream",
       "stream": "stdout",
       "text": [
        "56894.7584364 "
       ]
      },
      {
       "output_type": "stream",
       "stream": "stdout",
       "text": [
        "\n",
        "56889.7312269 56890.7344779 56891.7214011 "
       ]
      },
      {
       "output_type": "stream",
       "stream": "stdout",
       "text": [
        "56893.7742145 56894.7584364 "
       ]
      },
      {
       "output_type": "stream",
       "stream": "stdout",
       "text": [
        "\n",
        "56889.7312269 56890.7344779 56891.7214011 "
       ]
      },
      {
       "output_type": "stream",
       "stream": "stdout",
       "text": [
        "56893.7742145 56894.7584364 "
       ]
      },
      {
       "output_type": "stream",
       "stream": "stdout",
       "text": [
        "\n",
        "56889.7312269 56890.7344779 56891.7214011 "
       ]
      },
      {
       "output_type": "stream",
       "stream": "stdout",
       "text": [
        "56893.7742145 56894.7584364 "
       ]
      },
      {
       "output_type": "stream",
       "stream": "stdout",
       "text": [
        "\n",
        "56889.7312269 56890.7344779 56891.7214011 56893.7742145 "
       ]
      },
      {
       "output_type": "stream",
       "stream": "stdout",
       "text": [
        "56894.7584364 \n",
        "56889.7312269 "
       ]
      },
      {
       "output_type": "stream",
       "stream": "stdout",
       "text": [
        "56890.7344779 56891.7214011 "
       ]
      },
      {
       "output_type": "stream",
       "stream": "stdout",
       "text": [
        "56893.7742145 56894.7584364 "
       ]
      },
      {
       "output_type": "stream",
       "stream": "stdout",
       "text": [
        "\n",
        "56889.7312269 56890.7344779 "
       ]
      },
      {
       "output_type": "stream",
       "stream": "stdout",
       "text": [
        "56891.7214011 56893.7742145 "
       ]
      },
      {
       "output_type": "stream",
       "stream": "stdout",
       "text": [
        "56894.7584364 \n",
        "56889.7312269 "
       ]
      },
      {
       "output_type": "stream",
       "stream": "stdout",
       "text": [
        "56890.7344779 56891.7214011 "
       ]
      },
      {
       "output_type": "stream",
       "stream": "stdout",
       "text": [
        "56893.7742145 56894.7584364 "
       ]
      },
      {
       "output_type": "stream",
       "stream": "stdout",
       "text": [
        "\n",
        "56889.7312269 56890.7344779 "
       ]
      },
      {
       "output_type": "stream",
       "stream": "stdout",
       "text": [
        "56891.7214011 56893.7742145 "
       ]
      },
      {
       "output_type": "stream",
       "stream": "stdout",
       "text": [
        "56894.7584364 \n",
        "Field11"
       ]
      },
      {
       "output_type": "stream",
       "stream": "stdout",
       "text": [
        "\n",
        "56889.7312269"
       ]
      },
      {
       "output_type": "stream",
       "stream": "stdout",
       "text": [
        " 56890.7344779 56891.7214011 56893.7742145 56894.7584364 "
       ]
      },
      {
       "output_type": "stream",
       "stream": "stdout",
       "text": [
        "\n",
        "56889.7312269 56890.7344779 56891.7214011 "
       ]
      },
      {
       "output_type": "stream",
       "stream": "stdout",
       "text": [
        "56893.7742145 56894.7584364 "
       ]
      },
      {
       "output_type": "stream",
       "stream": "stdout",
       "text": [
        "\n",
        "56889.7312269 56890.7344779 56891.7214011 56893.7742145 "
       ]
      },
      {
       "output_type": "stream",
       "stream": "stdout",
       "text": [
        "56894.7584364 "
       ]
      },
      {
       "output_type": "stream",
       "stream": "stdout",
       "text": [
        "\n",
        "56889.7312269 56890.7344779 56891.7214011 "
       ]
      },
      {
       "output_type": "stream",
       "stream": "stdout",
       "text": [
        "56893.7742145 56894.7584364 "
       ]
      },
      {
       "output_type": "stream",
       "stream": "stdout",
       "text": [
        "\n",
        "56889.7312269 56890.7344779 56891.7214011 "
       ]
      },
      {
       "output_type": "stream",
       "stream": "stdout",
       "text": [
        "56893.7742145 56894.7584364 "
       ]
      },
      {
       "output_type": "stream",
       "stream": "stdout",
       "text": [
        "\n",
        "56889.7312269 56890.7344779 56891.7214011 "
       ]
      },
      {
       "output_type": "stream",
       "stream": "stdout",
       "text": [
        "56893.7742145 56894.7584364 "
       ]
      },
      {
       "output_type": "stream",
       "stream": "stdout",
       "text": [
        "\n",
        "56889.7312269 56890.7344779 56891.7214011 56893.7742145 "
       ]
      },
      {
       "output_type": "stream",
       "stream": "stdout",
       "text": [
        "56894.7584364 \n",
        "56889.7312269 "
       ]
      },
      {
       "output_type": "stream",
       "stream": "stdout",
       "text": [
        "56890.7344779 56891.7214011 56893.7742145 "
       ]
      },
      {
       "output_type": "stream",
       "stream": "stdout",
       "text": [
        "56894.7584364 \n",
        "56889.7312269 "
       ]
      },
      {
       "output_type": "stream",
       "stream": "stdout",
       "text": [
        "56890.7344779 56891.7214011 "
       ]
      },
      {
       "output_type": "stream",
       "stream": "stdout",
       "text": [
        "56893.7742145 56894.7584364 "
       ]
      },
      {
       "output_type": "stream",
       "stream": "stdout",
       "text": [
        "\n",
        "56889.7312269 56890.7344779 "
       ]
      },
      {
       "output_type": "stream",
       "stream": "stdout",
       "text": [
        "56891.7214011 56893.7742145 "
       ]
      },
      {
       "output_type": "stream",
       "stream": "stdout",
       "text": [
        "56894.7584364 \n",
        "56889.7312269 "
       ]
      },
      {
       "output_type": "stream",
       "stream": "stdout",
       "text": [
        "56890.7344779 56891.7214011 "
       ]
      },
      {
       "output_type": "stream",
       "stream": "stdout",
       "text": [
        "56893.7742145 56894.7584364 "
       ]
      },
      {
       "output_type": "stream",
       "stream": "stdout",
       "text": [
        "\n",
        "56889.7312269 56890.7344779 "
       ]
      },
      {
       "output_type": "stream",
       "stream": "stdout",
       "text": [
        "56891.7214011 56893.7742145 "
       ]
      },
      {
       "output_type": "stream",
       "stream": "stdout",
       "text": [
        "56894.7584364 \n",
        "Giant24"
       ]
      },
      {
       "output_type": "stream",
       "stream": "stdout",
       "text": [
        "\n",
        "56889.7312269"
       ]
      },
      {
       "output_type": "stream",
       "stream": "stdout",
       "text": [
        " 56890.7344779 56891.7214011 56893.7742145 56894.7584364 "
       ]
      },
      {
       "output_type": "stream",
       "stream": "stdout",
       "text": [
        "\n",
        "56889.7312269 56890.7344779 56891.7214011 "
       ]
      },
      {
       "output_type": "stream",
       "stream": "stdout",
       "text": [
        "56893.7742145 56894.7584364 "
       ]
      },
      {
       "output_type": "stream",
       "stream": "stdout",
       "text": [
        "\n",
        "56889.7312269 56890.7344779 56891.7214011 56893.7742145 "
       ]
      },
      {
       "output_type": "stream",
       "stream": "stdout",
       "text": [
        "56894.7584364 "
       ]
      },
      {
       "output_type": "stream",
       "stream": "stdout",
       "text": [
        "\n",
        "56889.7312269 56890.7344779 56891.7214011 "
       ]
      },
      {
       "output_type": "stream",
       "stream": "stdout",
       "text": [
        "56893.7742145 56894.7584364 "
       ]
      },
      {
       "output_type": "stream",
       "stream": "stdout",
       "text": [
        "\n",
        "56889.7312269 56890.7344779 56891.7214011 "
       ]
      },
      {
       "output_type": "stream",
       "stream": "stdout",
       "text": [
        "56893.7742145 56894.7584364 "
       ]
      },
      {
       "output_type": "stream",
       "stream": "stdout",
       "text": [
        "\n",
        "56889.7312269 56890.7344779 56891.7214011 "
       ]
      },
      {
       "output_type": "stream",
       "stream": "stdout",
       "text": [
        "56893.7742145 56894.7584364 "
       ]
      },
      {
       "output_type": "stream",
       "stream": "stdout",
       "text": [
        "\n",
        "56889.7312269 56890.7344779 56891.7214011 "
       ]
      },
      {
       "output_type": "stream",
       "stream": "stdout",
       "text": [
        "56893.7742145 56894.7584364 "
       ]
      },
      {
       "output_type": "stream",
       "stream": "stdout",
       "text": [
        "\n",
        "56889.7312269 56890.7344779 56891.7214011 "
       ]
      },
      {
       "output_type": "stream",
       "stream": "stdout",
       "text": [
        "56893.7742145 56894.7584364 "
       ]
      },
      {
       "output_type": "stream",
       "stream": "stdout",
       "text": [
        "\n",
        "56889.7312269 56890.7344779 "
       ]
      },
      {
       "output_type": "stream",
       "stream": "stdout",
       "text": [
        "56891.7214011 56893.7742145 "
       ]
      },
      {
       "output_type": "stream",
       "stream": "stdout",
       "text": [
        "56894.7584364 \n",
        "56889.7312269 "
       ]
      },
      {
       "output_type": "stream",
       "stream": "stdout",
       "text": [
        "56890.7344779 56891.7214011 "
       ]
      },
      {
       "output_type": "stream",
       "stream": "stdout",
       "text": [
        "56893.7742145 56894.7584364 "
       ]
      },
      {
       "output_type": "stream",
       "stream": "stdout",
       "text": [
        "\n",
        "56889.7312269 56890.7344779 "
       ]
      },
      {
       "output_type": "stream",
       "stream": "stdout",
       "text": [
        "56891.7214011 56893.7742145 "
       ]
      },
      {
       "output_type": "stream",
       "stream": "stdout",
       "text": [
        "56894.7584364 \n",
        "56889.7312269 "
       ]
      },
      {
       "output_type": "stream",
       "stream": "stdout",
       "text": [
        "56890.7344779 56891.7214011 "
       ]
      },
      {
       "output_type": "stream",
       "stream": "stdout",
       "text": [
        "56893.7742145 56894.7584364 "
       ]
      },
      {
       "output_type": "stream",
       "stream": "stdout",
       "text": [
        "\n",
        "Giant03"
       ]
      },
      {
       "output_type": "stream",
       "stream": "stdout",
       "text": [
        "\n",
        "56889.7312269"
       ]
      },
      {
       "output_type": "stream",
       "stream": "stdout",
       "text": [
        " 56890.7344779 56891.7214011 56893.7742145 56894.7584364 "
       ]
      },
      {
       "output_type": "stream",
       "stream": "stdout",
       "text": [
        "\n",
        "56889.7312269 56890.7344779 56891.7214011 "
       ]
      },
      {
       "output_type": "stream",
       "stream": "stdout",
       "text": [
        "56893.7742145 56894.7584364 "
       ]
      },
      {
       "output_type": "stream",
       "stream": "stdout",
       "text": [
        "\n",
        "56889.7312269 56890.7344779 56891.7214011 56893.7742145 "
       ]
      },
      {
       "output_type": "stream",
       "stream": "stdout",
       "text": [
        "56894.7584364 "
       ]
      },
      {
       "output_type": "stream",
       "stream": "stdout",
       "text": [
        "\n",
        "56889.7312269 56890.7344779 56891.7214011 "
       ]
      },
      {
       "output_type": "stream",
       "stream": "stdout",
       "text": [
        "56893.7742145 56894.7584364 "
       ]
      },
      {
       "output_type": "stream",
       "stream": "stdout",
       "text": [
        "\n",
        "56889.7312269 56890.7344779 56891.7214011 "
       ]
      },
      {
       "output_type": "stream",
       "stream": "stdout",
       "text": [
        "56893.7742145 56894.7584364 "
       ]
      },
      {
       "output_type": "stream",
       "stream": "stdout",
       "text": [
        "\n",
        "56889.7312269 56890.7344779 56891.7214011 "
       ]
      },
      {
       "output_type": "stream",
       "stream": "stdout",
       "text": [
        "56893.7742145 56894.7584364 "
       ]
      },
      {
       "output_type": "stream",
       "stream": "stdout",
       "text": [
        "\n",
        "56889.7312269 56890.7344779 56891.7214011 56893.7742145 "
       ]
      },
      {
       "output_type": "stream",
       "stream": "stdout",
       "text": [
        "56894.7584364 \n",
        "56889.7312269 "
       ]
      },
      {
       "output_type": "stream",
       "stream": "stdout",
       "text": [
        "56890.7344779 56891.7214011 56893.7742145 56894.7584364 "
       ]
      },
      {
       "output_type": "stream",
       "stream": "stdout",
       "text": [
        "\n",
        "56889.7312269 56890.7344779 "
       ]
      },
      {
       "output_type": "stream",
       "stream": "stdout",
       "text": [
        "56891.7214011 56893.7742145 "
       ]
      },
      {
       "output_type": "stream",
       "stream": "stdout",
       "text": [
        "56894.7584364 \n",
        "56889.7312269 "
       ]
      },
      {
       "output_type": "stream",
       "stream": "stdout",
       "text": [
        "56890.7344779 56891.7214011 "
       ]
      },
      {
       "output_type": "stream",
       "stream": "stdout",
       "text": [
        "56893.7742145 56894.7584364 "
       ]
      },
      {
       "output_type": "stream",
       "stream": "stdout",
       "text": [
        "\n",
        "56889.7312269 56890.7344779 "
       ]
      },
      {
       "output_type": "stream",
       "stream": "stdout",
       "text": [
        "56891.7214011 56893.7742145 "
       ]
      },
      {
       "output_type": "stream",
       "stream": "stdout",
       "text": [
        "56894.7584364 \n",
        "56889.7312269 "
       ]
      },
      {
       "output_type": "stream",
       "stream": "stdout",
       "text": [
        "56890.7344779 56891.7214011 "
       ]
      },
      {
       "output_type": "stream",
       "stream": "stdout",
       "text": [
        "56893.7742145 56894.7584364 "
       ]
      },
      {
       "output_type": "stream",
       "stream": "stdout",
       "text": [
        "\n",
        "Giant33"
       ]
      },
      {
       "output_type": "stream",
       "stream": "stdout",
       "text": [
        "\n",
        "56889.7312269"
       ]
      },
      {
       "output_type": "stream",
       "stream": "stdout",
       "text": [
        " 56890.7344779 56891.7214011 56893.7742145 "
       ]
      },
      {
       "output_type": "stream",
       "stream": "stdout",
       "text": [
        "56894.7584364 "
       ]
      },
      {
       "output_type": "stream",
       "stream": "stdout",
       "text": [
        "\n",
        "56889.7312269 56890.7344779 56891.7214011 "
       ]
      },
      {
       "output_type": "stream",
       "stream": "stdout",
       "text": [
        "56893.7742145 56894.7584364 "
       ]
      },
      {
       "output_type": "stream",
       "stream": "stdout",
       "text": [
        "\n",
        "56889.7312269 56890.7344779 56891.7214011 "
       ]
      },
      {
       "output_type": "stream",
       "stream": "stdout",
       "text": [
        "56893.7742145 56894.7584364 "
       ]
      },
      {
       "output_type": "stream",
       "stream": "stdout",
       "text": [
        "\n",
        "56889.7312269 56890.7344779 56891.7214011 "
       ]
      },
      {
       "output_type": "stream",
       "stream": "stdout",
       "text": [
        "56893.7742145 56894.7584364 "
       ]
      },
      {
       "output_type": "stream",
       "stream": "stdout",
       "text": [
        "\n",
        "56889.7312269 56890.7344779 56891.7214011 "
       ]
      },
      {
       "output_type": "stream",
       "stream": "stdout",
       "text": [
        "56893.7742145 56894.7584364 "
       ]
      },
      {
       "output_type": "stream",
       "stream": "stdout",
       "text": [
        "\n",
        "56889.7312269 56890.7344779 56891.7214011 "
       ]
      },
      {
       "output_type": "stream",
       "stream": "stdout",
       "text": [
        "56893.7742145 56894.7584364 "
       ]
      },
      {
       "output_type": "stream",
       "stream": "stdout",
       "text": [
        "\n",
        "56889.7312269 56890.7344779 56891.7214011 "
       ]
      },
      {
       "output_type": "stream",
       "stream": "stdout",
       "text": [
        "56893.7742145 56894.7584364 "
       ]
      },
      {
       "output_type": "stream",
       "stream": "stdout",
       "text": [
        "\n",
        "56889.7312269 56890.7344779 56891.7214011 "
       ]
      },
      {
       "output_type": "stream",
       "stream": "stdout",
       "text": [
        "56893.7742145 56894.7584364 "
       ]
      },
      {
       "output_type": "stream",
       "stream": "stdout",
       "text": [
        "\n",
        "56889.7312269 56890.7344779 "
       ]
      },
      {
       "output_type": "stream",
       "stream": "stdout",
       "text": [
        "56891.7214011 56893.7742145 "
       ]
      },
      {
       "output_type": "stream",
       "stream": "stdout",
       "text": [
        "56894.7584364 \n",
        "56889.7312269 "
       ]
      },
      {
       "output_type": "stream",
       "stream": "stdout",
       "text": [
        "56890.7344779 56891.7214011 "
       ]
      },
      {
       "output_type": "stream",
       "stream": "stdout",
       "text": [
        "56893.7742145 56894.7584364 "
       ]
      },
      {
       "output_type": "stream",
       "stream": "stdout",
       "text": [
        "\n",
        "56889.7312269 56890.7344779 "
       ]
      },
      {
       "output_type": "stream",
       "stream": "stdout",
       "text": [
        "56891.7214011 56893.7742145 "
       ]
      },
      {
       "output_type": "stream",
       "stream": "stdout",
       "text": [
        "56894.7584364 "
       ]
      },
      {
       "output_type": "stream",
       "stream": "stdout",
       "text": [
        "\n",
        "56889.7312269 56890.7344779 "
       ]
      },
      {
       "output_type": "stream",
       "stream": "stdout",
       "text": [
        "56891.7214011 56893.7742145 "
       ]
      },
      {
       "output_type": "stream",
       "stream": "stdout",
       "text": [
        "56894.7584364 \n",
        "Field02"
       ]
      },
      {
       "output_type": "stream",
       "stream": "stdout",
       "text": [
        "\n",
        "56889.7312269"
       ]
      },
      {
       "output_type": "stream",
       "stream": "stdout",
       "text": [
        " 56890.7344779 56891.7214011 56893.7742145 56894.7584364 "
       ]
      },
      {
       "output_type": "stream",
       "stream": "stdout",
       "text": [
        "\n",
        "56889.7312269 56890.7344779 56891.7214011 56893.7742145 "
       ]
      },
      {
       "output_type": "stream",
       "stream": "stdout",
       "text": [
        "56894.7584364 "
       ]
      },
      {
       "output_type": "stream",
       "stream": "stdout",
       "text": [
        "\n",
        "56889.7312269 56890.7344779 56891.7214011 "
       ]
      },
      {
       "output_type": "stream",
       "stream": "stdout",
       "text": [
        "56893.7742145 56894.7584364 "
       ]
      },
      {
       "output_type": "stream",
       "stream": "stdout",
       "text": [
        "\n",
        "56889.7312269 56890.7344779 56891.7214011 56893.7742145 "
       ]
      },
      {
       "output_type": "stream",
       "stream": "stdout",
       "text": [
        "56894.7584364 "
       ]
      },
      {
       "output_type": "stream",
       "stream": "stdout",
       "text": [
        "\n",
        "56889.7312269 56890.7344779 56891.7214011 "
       ]
      },
      {
       "output_type": "stream",
       "stream": "stdout",
       "text": [
        "56893.7742145 56894.7584364 "
       ]
      },
      {
       "output_type": "stream",
       "stream": "stdout",
       "text": [
        "\n",
        "56889.7312269 56890.7344779 56891.7214011 "
       ]
      },
      {
       "output_type": "stream",
       "stream": "stdout",
       "text": [
        "56893.7742145 56894.7584364 "
       ]
      },
      {
       "output_type": "stream",
       "stream": "stdout",
       "text": [
        "\n",
        "56889.7312269 56890.7344779 56891.7214011 "
       ]
      },
      {
       "output_type": "stream",
       "stream": "stdout",
       "text": [
        "56893.7742145 56894.7584364 "
       ]
      },
      {
       "output_type": "stream",
       "stream": "stdout",
       "text": [
        "\n",
        "56889.7312269 56890.7344779 56891.7214011 56893.7742145 "
       ]
      },
      {
       "output_type": "stream",
       "stream": "stdout",
       "text": [
        "56894.7584364 \n",
        "56889.7312269 "
       ]
      },
      {
       "output_type": "stream",
       "stream": "stdout",
       "text": [
        "56890.7344779 56891.7214011 "
       ]
      },
      {
       "output_type": "stream",
       "stream": "stdout",
       "text": [
        "56893.7742145 56894.7584364 "
       ]
      },
      {
       "output_type": "stream",
       "stream": "stdout",
       "text": [
        "\n",
        "56889.7312269 56890.7344779 "
       ]
      },
      {
       "output_type": "stream",
       "stream": "stdout",
       "text": [
        "56891.7214011 56893.7742145 "
       ]
      },
      {
       "output_type": "stream",
       "stream": "stdout",
       "text": [
        "56894.7584364 \n",
        "56889.7312269 "
       ]
      },
      {
       "output_type": "stream",
       "stream": "stdout",
       "text": [
        "56890.7344779 56891.7214011 "
       ]
      },
      {
       "output_type": "stream",
       "stream": "stdout",
       "text": [
        "56893.7742145 56894.7584364 "
       ]
      },
      {
       "output_type": "stream",
       "stream": "stdout",
       "text": [
        "\n",
        "56889.7312269 56890.7344779 "
       ]
      },
      {
       "output_type": "stream",
       "stream": "stdout",
       "text": [
        "56891.7214011 56893.7742145 "
       ]
      },
      {
       "output_type": "stream",
       "stream": "stdout",
       "text": [
        "56894.7584364 \n",
        "Giant18"
       ]
      },
      {
       "output_type": "stream",
       "stream": "stdout",
       "text": [
        "\n",
        "56889.7312269"
       ]
      },
      {
       "output_type": "stream",
       "stream": "stdout",
       "text": [
        " 56890.7344779 56891.7214011 56893.7742145 "
       ]
      },
      {
       "output_type": "stream",
       "stream": "stdout",
       "text": [
        "56894.7584364 "
       ]
      },
      {
       "output_type": "stream",
       "stream": "stdout",
       "text": [
        "\n",
        "56889.7312269 56890.7344779 56891.7214011 "
       ]
      },
      {
       "output_type": "stream",
       "stream": "stdout",
       "text": [
        "56893.7742145 56894.7584364 "
       ]
      },
      {
       "output_type": "stream",
       "stream": "stdout",
       "text": [
        "\n",
        "56889.7312269 56890.7344779 56891.7214011 56893.7742145 "
       ]
      },
      {
       "output_type": "stream",
       "stream": "stdout",
       "text": [
        "56894.7584364 "
       ]
      },
      {
       "output_type": "stream",
       "stream": "stdout",
       "text": [
        "\n",
        "56889.7312269 56890.7344779 56891.7214011 "
       ]
      },
      {
       "output_type": "stream",
       "stream": "stdout",
       "text": [
        "56893.7742145 56894.7584364 "
       ]
      },
      {
       "output_type": "stream",
       "stream": "stdout",
       "text": [
        "\n",
        "56889.7312269 56890.7344779 56891.7214011 "
       ]
      },
      {
       "output_type": "stream",
       "stream": "stdout",
       "text": [
        "56893.7742145 56894.7584364 "
       ]
      },
      {
       "output_type": "stream",
       "stream": "stdout",
       "text": [
        "\n",
        "56889.7312269 56890.7344779 56891.7214011 "
       ]
      },
      {
       "output_type": "stream",
       "stream": "stdout",
       "text": [
        "56893.7742145 56894.7584364 "
       ]
      },
      {
       "output_type": "stream",
       "stream": "stdout",
       "text": [
        "\n",
        "56889.7312269 56890.7344779 56891.7214011 56893.7742145 "
       ]
      },
      {
       "output_type": "stream",
       "stream": "stdout",
       "text": [
        "56894.7584364 \n",
        "56889.7312269 "
       ]
      },
      {
       "output_type": "stream",
       "stream": "stdout",
       "text": [
        "56890.7344779 56891.7214011 56893.7742145 56894.7584364 "
       ]
      },
      {
       "output_type": "stream",
       "stream": "stdout",
       "text": [
        "\n",
        "56889.7312269 56890.7344779 "
       ]
      },
      {
       "output_type": "stream",
       "stream": "stdout",
       "text": [
        "56891.7214011 56893.7742145 "
       ]
      },
      {
       "output_type": "stream",
       "stream": "stdout",
       "text": [
        "56894.7584364 "
       ]
      },
      {
       "output_type": "stream",
       "stream": "stdout",
       "text": [
        "\n",
        "56889.7312269 56890.7344779 "
       ]
      },
      {
       "output_type": "stream",
       "stream": "stdout",
       "text": [
        "56891.7214011 56893.7742145 "
       ]
      },
      {
       "output_type": "stream",
       "stream": "stdout",
       "text": [
        "56894.7584364 \n",
        "56889.7312269 "
       ]
      },
      {
       "output_type": "stream",
       "stream": "stdout",
       "text": [
        "56890.7344779 56891.7214011 "
       ]
      },
      {
       "output_type": "stream",
       "stream": "stdout",
       "text": [
        "56893.7742145 "
       ]
      },
      {
       "output_type": "stream",
       "stream": "stdout",
       "text": [
        "56894.7584364 \n",
        "56889.7312269 "
       ]
      },
      {
       "output_type": "stream",
       "stream": "stdout",
       "text": [
        "56890.7344779 56891.7214011 "
       ]
      },
      {
       "output_type": "stream",
       "stream": "stdout",
       "text": [
        "56893.7742145 56894.7584364 "
       ]
      },
      {
       "output_type": "stream",
       "stream": "stdout",
       "text": [
        "\n",
        "Giant29"
       ]
      },
      {
       "output_type": "stream",
       "stream": "stdout",
       "text": [
        "\n",
        "56889.7312269"
       ]
      },
      {
       "output_type": "stream",
       "stream": "stdout",
       "text": [
        " 56890.7344779 56891.7214011 56893.7742145 56894.7584364 "
       ]
      },
      {
       "output_type": "stream",
       "stream": "stdout",
       "text": [
        "\n",
        "56889.7312269 56890.7344779 56891.7214011 "
       ]
      },
      {
       "output_type": "stream",
       "stream": "stdout",
       "text": [
        "56893.7742145 56894.7584364 "
       ]
      },
      {
       "output_type": "stream",
       "stream": "stdout",
       "text": [
        "\n",
        "56889.7312269 56890.7344779 56891.7214011 56893.7742145 "
       ]
      },
      {
       "output_type": "stream",
       "stream": "stdout",
       "text": [
        "56894.7584364 "
       ]
      },
      {
       "output_type": "stream",
       "stream": "stdout",
       "text": [
        "\n",
        "56889.7312269 56890.7344779 56891.7214011 56893.7742145 "
       ]
      },
      {
       "output_type": "stream",
       "stream": "stdout",
       "text": [
        "56894.7584364 "
       ]
      },
      {
       "output_type": "stream",
       "stream": "stdout",
       "text": [
        "\n",
        "56889.7312269 56890.7344779 56891.7214011 "
       ]
      },
      {
       "output_type": "stream",
       "stream": "stdout",
       "text": [
        "56893.7742145 56894.7584364 "
       ]
      },
      {
       "output_type": "stream",
       "stream": "stdout",
       "text": [
        "\n",
        "56889.7312269 56890.7344779 56891.7214011 "
       ]
      },
      {
       "output_type": "stream",
       "stream": "stdout",
       "text": [
        "56893.7742145 56894.7584364 "
       ]
      },
      {
       "output_type": "stream",
       "stream": "stdout",
       "text": [
        "\n",
        "56889.7312269 56890.7344779 56891.7214011 "
       ]
      },
      {
       "output_type": "stream",
       "stream": "stdout",
       "text": [
        "56893.7742145 56894.7584364 "
       ]
      },
      {
       "output_type": "stream",
       "stream": "stdout",
       "text": [
        "\n",
        "56889.7312269 56890.7344779 56891.7214011 "
       ]
      },
      {
       "output_type": "stream",
       "stream": "stdout",
       "text": [
        "56893.7742145 56894.7584364 "
       ]
      },
      {
       "output_type": "stream",
       "stream": "stdout",
       "text": [
        "\n",
        "56889.7312269 56890.7344779 "
       ]
      },
      {
       "output_type": "stream",
       "stream": "stdout",
       "text": [
        "56891.7214011 56893.7742145 "
       ]
      },
      {
       "output_type": "stream",
       "stream": "stdout",
       "text": [
        "56894.7584364 \n",
        "56889.7312269 "
       ]
      },
      {
       "output_type": "stream",
       "stream": "stdout",
       "text": [
        "56890.7344779 56891.7214011 "
       ]
      },
      {
       "output_type": "stream",
       "stream": "stdout",
       "text": [
        "56893.7742145 56894.7584364 "
       ]
      },
      {
       "output_type": "stream",
       "stream": "stdout",
       "text": [
        "\n",
        "56889.7312269 56890.7344779 "
       ]
      },
      {
       "output_type": "stream",
       "stream": "stdout",
       "text": [
        "56891.7214011 56893.7742145 "
       ]
      },
      {
       "output_type": "stream",
       "stream": "stdout",
       "text": [
        "56894.7584364 \n",
        "56889.7312269 "
       ]
      },
      {
       "output_type": "stream",
       "stream": "stdout",
       "text": [
        "56890.7344779 56891.7214011 "
       ]
      },
      {
       "output_type": "stream",
       "stream": "stdout",
       "text": [
        "56893.7742145 56894.7584364 "
       ]
      },
      {
       "output_type": "stream",
       "stream": "stdout",
       "text": [
        "\n",
        "Field06"
       ]
      },
      {
       "output_type": "stream",
       "stream": "stdout",
       "text": [
        "\n",
        "56889.7312269"
       ]
      },
      {
       "output_type": "stream",
       "stream": "stdout",
       "text": [
        " 56890.7344779 56891.7214011 56893.7742145 "
       ]
      },
      {
       "output_type": "stream",
       "stream": "stdout",
       "text": [
        "56894.7584364 "
       ]
      },
      {
       "output_type": "stream",
       "stream": "stdout",
       "text": [
        "\n",
        "56889.7312269 56890.7344779 56891.7214011 "
       ]
      },
      {
       "output_type": "stream",
       "stream": "stdout",
       "text": [
        "56893.7742145 56894.7584364 "
       ]
      },
      {
       "output_type": "stream",
       "stream": "stdout",
       "text": [
        "\n",
        "56889.7312269 56890.7344779 56891.7214011 56893.7742145 "
       ]
      },
      {
       "output_type": "stream",
       "stream": "stdout",
       "text": [
        "56894.7584364 "
       ]
      },
      {
       "output_type": "stream",
       "stream": "stdout",
       "text": [
        "\n",
        "56889.7312269 56890.7344779 56891.7214011 56893.7742145 "
       ]
      },
      {
       "output_type": "stream",
       "stream": "stdout",
       "text": [
        "56894.7584364 "
       ]
      },
      {
       "output_type": "stream",
       "stream": "stdout",
       "text": [
        "\n",
        "56889.7312269 56890.7344779 56891.7214011 "
       ]
      },
      {
       "output_type": "stream",
       "stream": "stdout",
       "text": [
        "56893.7742145 56894.7584364 "
       ]
      },
      {
       "output_type": "stream",
       "stream": "stdout",
       "text": [
        "\n",
        "56889.7312269 56890.7344779 56891.7214011 "
       ]
      },
      {
       "output_type": "stream",
       "stream": "stdout",
       "text": [
        "56893.7742145 56894.7584364 "
       ]
      },
      {
       "output_type": "stream",
       "stream": "stdout",
       "text": [
        "\n",
        "56889.7312269 56890.7344779 56891.7214011 "
       ]
      },
      {
       "output_type": "stream",
       "stream": "stdout",
       "text": [
        "56893.7742145 56894.7584364 "
       ]
      },
      {
       "output_type": "stream",
       "stream": "stdout",
       "text": [
        "\n",
        "56889.7312269 56890.7344779 56891.7214011 "
       ]
      },
      {
       "output_type": "stream",
       "stream": "stdout",
       "text": [
        "56893.7742145 56894.7584364 "
       ]
      },
      {
       "output_type": "stream",
       "stream": "stdout",
       "text": [
        "\n",
        "56889.7312269 56890.7344779 "
       ]
      },
      {
       "output_type": "stream",
       "stream": "stdout",
       "text": [
        "56891.7214011 56893.7742145 "
       ]
      },
      {
       "output_type": "stream",
       "stream": "stdout",
       "text": [
        "56894.7584364 \n",
        "56889.7312269 "
       ]
      },
      {
       "output_type": "stream",
       "stream": "stdout",
       "text": [
        "56890.7344779 56891.7214011 "
       ]
      },
      {
       "output_type": "stream",
       "stream": "stdout",
       "text": [
        "56893.7742145 56894.7584364 "
       ]
      },
      {
       "output_type": "stream",
       "stream": "stdout",
       "text": [
        "\n",
        "56889.7312269 56890.7344779 "
       ]
      },
      {
       "output_type": "stream",
       "stream": "stdout",
       "text": [
        "56891.7214011 56893.7742145 "
       ]
      },
      {
       "output_type": "stream",
       "stream": "stdout",
       "text": [
        "56894.7584364 \n",
        "56889.7312269 "
       ]
      },
      {
       "output_type": "stream",
       "stream": "stdout",
       "text": [
        "56890.7344779 56891.7214011 "
       ]
      },
      {
       "output_type": "stream",
       "stream": "stdout",
       "text": [
        "56893.7742145 56894.7584364 "
       ]
      },
      {
       "output_type": "stream",
       "stream": "stdout",
       "text": [
        "\n",
        "Field15"
       ]
      },
      {
       "output_type": "stream",
       "stream": "stdout",
       "text": [
        "\n",
        "56889.7312269"
       ]
      },
      {
       "output_type": "stream",
       "stream": "stdout",
       "text": [
        " 56890.7344779 56891.7214011 56893.7742145 56894.7584364 "
       ]
      },
      {
       "output_type": "stream",
       "stream": "stdout",
       "text": [
        "\n",
        "56889.7312269 56890.7344779 56891.7214011 "
       ]
      },
      {
       "output_type": "stream",
       "stream": "stdout",
       "text": [
        "56893.7742145 56894.7584364 "
       ]
      },
      {
       "output_type": "stream",
       "stream": "stdout",
       "text": [
        "\n",
        "56889.7312269 56890.7344779 56891.7214011 "
       ]
      },
      {
       "output_type": "stream",
       "stream": "stdout",
       "text": [
        "56893.7742145 56894.7584364 "
       ]
      },
      {
       "output_type": "stream",
       "stream": "stdout",
       "text": [
        "\n",
        "56889.7312269 56890.7344779 56891.7214011 "
       ]
      },
      {
       "output_type": "stream",
       "stream": "stdout",
       "text": [
        "56893.7742145 56894.7584364 "
       ]
      },
      {
       "output_type": "stream",
       "stream": "stdout",
       "text": [
        "\n",
        "56889.7312269 56890.7344779 56891.7214011 "
       ]
      },
      {
       "output_type": "stream",
       "stream": "stdout",
       "text": [
        "56893.7742145 56894.7584364 "
       ]
      },
      {
       "output_type": "stream",
       "stream": "stdout",
       "text": [
        "\n",
        "56889.7312269 56890.7344779 56891.7214011 "
       ]
      },
      {
       "output_type": "stream",
       "stream": "stdout",
       "text": [
        "56893.7742145 56894.7584364 "
       ]
      },
      {
       "output_type": "stream",
       "stream": "stdout",
       "text": [
        "\n",
        "56889.7312269 56890.7344779 56891.7214011 56893.7742145 "
       ]
      },
      {
       "output_type": "stream",
       "stream": "stdout",
       "text": [
        "56894.7584364 \n",
        "56889.7312269 "
       ]
      },
      {
       "output_type": "stream",
       "stream": "stdout",
       "text": [
        "56890.7344779 56891.7214011 56893.7742145 "
       ]
      },
      {
       "output_type": "stream",
       "stream": "stdout",
       "text": [
        "56894.7584364 \n",
        "56889.7312269 "
       ]
      },
      {
       "output_type": "stream",
       "stream": "stdout",
       "text": [
        "56890.7344779 56891.7214011 "
       ]
      },
      {
       "output_type": "stream",
       "stream": "stdout",
       "text": [
        "56893.7742145 56894.7584364 "
       ]
      },
      {
       "output_type": "stream",
       "stream": "stdout",
       "text": [
        "\n",
        "56889.7312269 56890.7344779 "
       ]
      },
      {
       "output_type": "stream",
       "stream": "stdout",
       "text": [
        "56891.7214011 56893.7742145 "
       ]
      },
      {
       "output_type": "stream",
       "stream": "stdout",
       "text": [
        "56894.7584364 \n",
        "56889.7312269 "
       ]
      },
      {
       "output_type": "stream",
       "stream": "stdout",
       "text": [
        "56890.7344779 56891.7214011 "
       ]
      },
      {
       "output_type": "stream",
       "stream": "stdout",
       "text": [
        "56893.7742145 56894.7584364 "
       ]
      },
      {
       "output_type": "stream",
       "stream": "stdout",
       "text": [
        "\n",
        "56889.7312269 56890.7344779 "
       ]
      },
      {
       "output_type": "stream",
       "stream": "stdout",
       "text": [
        "56891.7214011 56893.7742145 "
       ]
      },
      {
       "output_type": "stream",
       "stream": "stdout",
       "text": [
        "56894.7584364 \n",
        "Giant31"
       ]
      },
      {
       "output_type": "stream",
       "stream": "stdout",
       "text": [
        "\n",
        "56889.7312269"
       ]
      },
      {
       "output_type": "stream",
       "stream": "stdout",
       "text": [
        " 56890.7344779 56891.7214011 56893.7742145 "
       ]
      },
      {
       "output_type": "stream",
       "stream": "stdout",
       "text": [
        "56894.7584364 "
       ]
      },
      {
       "output_type": "stream",
       "stream": "stdout",
       "text": [
        "\n",
        "56889.7312269 56890.7344779 56891.7214011 56893.7742145 "
       ]
      },
      {
       "output_type": "stream",
       "stream": "stdout",
       "text": [
        "56894.7584364 "
       ]
      },
      {
       "output_type": "stream",
       "stream": "stdout",
       "text": [
        "\n",
        "56889.7312269 56890.7344779 56891.7214011 56893.7742145 "
       ]
      },
      {
       "output_type": "stream",
       "stream": "stdout",
       "text": [
        "56894.7584364 "
       ]
      },
      {
       "output_type": "stream",
       "stream": "stdout",
       "text": [
        "\n",
        "56889.7312269 56890.7344779 56891.7214011 56893.7742145 "
       ]
      },
      {
       "output_type": "stream",
       "stream": "stdout",
       "text": [
        "56894.7584364 "
       ]
      },
      {
       "output_type": "stream",
       "stream": "stdout",
       "text": [
        "\n",
        "56889.7312269 56890.7344779 56891.7214011 "
       ]
      },
      {
       "output_type": "stream",
       "stream": "stdout",
       "text": [
        "56893.7742145 56894.7584364 "
       ]
      },
      {
       "output_type": "stream",
       "stream": "stdout",
       "text": [
        "\n",
        "56889.7312269 56890.7344779 56891.7214011 "
       ]
      },
      {
       "output_type": "stream",
       "stream": "stdout",
       "text": [
        "56893.7742145 56894.7584364 "
       ]
      },
      {
       "output_type": "stream",
       "stream": "stdout",
       "text": [
        "\n",
        "56889.7312269 56890.7344779 56891.7214011 "
       ]
      },
      {
       "output_type": "stream",
       "stream": "stdout",
       "text": [
        "56893.7742145 56894.7584364 "
       ]
      },
      {
       "output_type": "stream",
       "stream": "stdout",
       "text": [
        "\n",
        "56889.7312269 56890.7344779 56891.7214011 "
       ]
      },
      {
       "output_type": "stream",
       "stream": "stdout",
       "text": [
        "56893.7742145 56894.7584364 "
       ]
      },
      {
       "output_type": "stream",
       "stream": "stdout",
       "text": [
        "\n",
        "56889.7312269 56890.7344779 "
       ]
      },
      {
       "output_type": "stream",
       "stream": "stdout",
       "text": [
        "56891.7214011 56893.7742145 "
       ]
      },
      {
       "output_type": "stream",
       "stream": "stdout",
       "text": [
        "56894.7584364 \n",
        "56889.7312269 "
       ]
      },
      {
       "output_type": "stream",
       "stream": "stdout",
       "text": [
        "56890.7344779 56891.7214011 "
       ]
      },
      {
       "output_type": "stream",
       "stream": "stdout",
       "text": [
        "56893.7742145 56894.7584364 "
       ]
      },
      {
       "output_type": "stream",
       "stream": "stdout",
       "text": [
        "\n",
        "56889.7312269 56890.7344779 "
       ]
      },
      {
       "output_type": "stream",
       "stream": "stdout",
       "text": [
        "56891.7214011 56893.7742145 "
       ]
      },
      {
       "output_type": "stream",
       "stream": "stdout",
       "text": [
        "56894.7584364 \n",
        "56889.7312269 "
       ]
      },
      {
       "output_type": "stream",
       "stream": "stdout",
       "text": [
        "56890.7344779 56891.7214011 "
       ]
      },
      {
       "output_type": "stream",
       "stream": "stdout",
       "text": [
        "56893.7742145 56894.7584364 "
       ]
      },
      {
       "output_type": "stream",
       "stream": "stdout",
       "text": [
        "\n",
        "Giant26"
       ]
      },
      {
       "output_type": "stream",
       "stream": "stdout",
       "text": [
        "\n",
        "56889.7312269"
       ]
      },
      {
       "output_type": "stream",
       "stream": "stdout",
       "text": [
        " 56890.7344779 56891.7214011 56893.7742145 56894.7584364 "
       ]
      },
      {
       "output_type": "stream",
       "stream": "stdout",
       "text": [
        "\n",
        "56889.7312269 56890.7344779 56891.7214011 "
       ]
      },
      {
       "output_type": "stream",
       "stream": "stdout",
       "text": [
        "56893.7742145 56894.7584364 "
       ]
      },
      {
       "output_type": "stream",
       "stream": "stdout",
       "text": [
        "\n",
        "56889.7312269 56890.7344779 56891.7214011 56893.7742145 "
       ]
      },
      {
       "output_type": "stream",
       "stream": "stdout",
       "text": [
        "56894.7584364 "
       ]
      },
      {
       "output_type": "stream",
       "stream": "stdout",
       "text": [
        "\n",
        "56889.7312269 56890.7344779 56891.7214011 "
       ]
      },
      {
       "output_type": "stream",
       "stream": "stdout",
       "text": [
        "56893.7742145 56894.7584364 "
       ]
      },
      {
       "output_type": "stream",
       "stream": "stdout",
       "text": [
        "\n",
        "56889.7312269 56890.7344779 56891.7214011 "
       ]
      },
      {
       "output_type": "stream",
       "stream": "stdout",
       "text": [
        "56893.7742145 56894.7584364 "
       ]
      },
      {
       "output_type": "stream",
       "stream": "stdout",
       "text": [
        "\n",
        "56889.7312269 56890.7344779 56891.7214011 "
       ]
      },
      {
       "output_type": "stream",
       "stream": "stdout",
       "text": [
        "56893.7742145 56894.7584364 "
       ]
      },
      {
       "output_type": "stream",
       "stream": "stdout",
       "text": [
        "\n",
        "56889.7312269 56890.7344779 56891.7214011 "
       ]
      },
      {
       "output_type": "stream",
       "stream": "stdout",
       "text": [
        "56893.7742145 56894.7584364 "
       ]
      },
      {
       "output_type": "stream",
       "stream": "stdout",
       "text": [
        "\n",
        "56889.7312269 56890.7344779 56891.7214011 "
       ]
      },
      {
       "output_type": "stream",
       "stream": "stdout",
       "text": [
        "56893.7742145 56894.7584364 "
       ]
      },
      {
       "output_type": "stream",
       "stream": "stdout",
       "text": [
        "\n",
        "56889.7312269 56890.7344779 "
       ]
      },
      {
       "output_type": "stream",
       "stream": "stdout",
       "text": [
        "56891.7214011 56893.7742145 "
       ]
      },
      {
       "output_type": "stream",
       "stream": "stdout",
       "text": [
        "56894.7584364 \n",
        "56889.7312269 "
       ]
      },
      {
       "output_type": "stream",
       "stream": "stdout",
       "text": [
        "56890.7344779 56891.7214011 "
       ]
      },
      {
       "output_type": "stream",
       "stream": "stdout",
       "text": [
        "56893.7742145 56894.7584364 "
       ]
      },
      {
       "output_type": "stream",
       "stream": "stdout",
       "text": [
        "\n",
        "56889.7312269 56890.7344779 "
       ]
      },
      {
       "output_type": "stream",
       "stream": "stdout",
       "text": [
        "56891.7214011 56893.7742145 "
       ]
      },
      {
       "output_type": "stream",
       "stream": "stdout",
       "text": [
        "56894.7584364 \n",
        "56889.7312269 "
       ]
      },
      {
       "output_type": "stream",
       "stream": "stdout",
       "text": [
        "56890.7344779 56891.7214011 "
       ]
      },
      {
       "output_type": "stream",
       "stream": "stdout",
       "text": [
        "56893.7742145 56894.7584364 "
       ]
      },
      {
       "output_type": "stream",
       "stream": "stdout",
       "text": [
        "\n",
        "Giant38"
       ]
      },
      {
       "output_type": "stream",
       "stream": "stdout",
       "text": [
        "\n",
        "56889.7312269"
       ]
      },
      {
       "output_type": "stream",
       "stream": "stdout",
       "text": [
        " 56890.7344779 56891.7214011 56893.7742145 56894.7584364 "
       ]
      },
      {
       "output_type": "stream",
       "stream": "stdout",
       "text": [
        "\n",
        "56889.7312269 56890.7344779 56891.7214011 "
       ]
      },
      {
       "output_type": "stream",
       "stream": "stdout",
       "text": [
        "56893.7742145 56894.7584364 "
       ]
      },
      {
       "output_type": "stream",
       "stream": "stdout",
       "text": [
        "\n",
        "56889.7312269 56890.7344779 56891.7214011 "
       ]
      },
      {
       "output_type": "stream",
       "stream": "stdout",
       "text": [
        "56893.7742145 56894.7584364 "
       ]
      },
      {
       "output_type": "stream",
       "stream": "stdout",
       "text": [
        "\n",
        "56889.7312269 56890.7344779 56891.7214011 56893.7742145 "
       ]
      },
      {
       "output_type": "stream",
       "stream": "stdout",
       "text": [
        "56894.7584364 "
       ]
      },
      {
       "output_type": "stream",
       "stream": "stdout",
       "text": [
        "\n",
        "56889.7312269 56890.7344779 56891.7214011 "
       ]
      },
      {
       "output_type": "stream",
       "stream": "stdout",
       "text": [
        "56893.7742145 56894.7584364 "
       ]
      },
      {
       "output_type": "stream",
       "stream": "stdout",
       "text": [
        "\n",
        "56889.7312269 56890.7344779 56891.7214011 "
       ]
      },
      {
       "output_type": "stream",
       "stream": "stdout",
       "text": [
        "56893.7742145 56894.7584364 "
       ]
      },
      {
       "output_type": "stream",
       "stream": "stdout",
       "text": [
        "\n",
        "56889.7312269 56890.7344779 56891.7214011 "
       ]
      },
      {
       "output_type": "stream",
       "stream": "stdout",
       "text": [
        "56893.7742145 56894.7584364 "
       ]
      },
      {
       "output_type": "stream",
       "stream": "stdout",
       "text": [
        "\n",
        "56889.7312269 56890.7344779 56891.7214011 56893.7742145 "
       ]
      },
      {
       "output_type": "stream",
       "stream": "stdout",
       "text": [
        "56894.7584364 \n",
        "56889.7312269 "
       ]
      },
      {
       "output_type": "stream",
       "stream": "stdout",
       "text": [
        "56890.7344779 56891.7214011 "
       ]
      },
      {
       "output_type": "stream",
       "stream": "stdout",
       "text": [
        "56893.7742145 56894.7584364 "
       ]
      },
      {
       "output_type": "stream",
       "stream": "stdout",
       "text": [
        "\n",
        "56889.7312269 56890.7344779 "
       ]
      },
      {
       "output_type": "stream",
       "stream": "stdout",
       "text": [
        "56891.7214011 56893.7742145 "
       ]
      },
      {
       "output_type": "stream",
       "stream": "stdout",
       "text": [
        "56894.7584364 \n",
        "56889.7312269 "
       ]
      },
      {
       "output_type": "stream",
       "stream": "stdout",
       "text": [
        "56890.7344779 56891.7214011 "
       ]
      },
      {
       "output_type": "stream",
       "stream": "stdout",
       "text": [
        "56893.7742145 56894.7584364 "
       ]
      },
      {
       "output_type": "stream",
       "stream": "stdout",
       "text": [
        "\n",
        "56889.7312269 56890.7344779 "
       ]
      },
      {
       "output_type": "stream",
       "stream": "stdout",
       "text": [
        "56891.7214011 56893.7742145 "
       ]
      },
      {
       "output_type": "stream",
       "stream": "stdout",
       "text": [
        "56894.7584364 \n",
        "Field03"
       ]
      },
      {
       "output_type": "stream",
       "stream": "stdout",
       "text": [
        "\n",
        "56889.7312269"
       ]
      },
      {
       "output_type": "stream",
       "stream": "stdout",
       "text": [
        " 56890.7344779 56891.7214011 56893.7742145 "
       ]
      },
      {
       "output_type": "stream",
       "stream": "stdout",
       "text": [
        "56894.7584364 "
       ]
      },
      {
       "output_type": "stream",
       "stream": "stdout",
       "text": [
        "\n",
        "56889.7312269 56890.7344779 56891.7214011 "
       ]
      },
      {
       "output_type": "stream",
       "stream": "stdout",
       "text": [
        "56893.7742145 56894.7584364 "
       ]
      },
      {
       "output_type": "stream",
       "stream": "stdout",
       "text": [
        "\n",
        "56889.7312269 56890.7344779 56891.7214011 56893.7742145 "
       ]
      },
      {
       "output_type": "stream",
       "stream": "stdout",
       "text": [
        "56894.7584364 "
       ]
      },
      {
       "output_type": "stream",
       "stream": "stdout",
       "text": [
        "\n",
        "56889.7312269 56890.7344779 56891.7214011 "
       ]
      },
      {
       "output_type": "stream",
       "stream": "stdout",
       "text": [
        "56893.7742145 56894.7584364 "
       ]
      },
      {
       "output_type": "stream",
       "stream": "stdout",
       "text": [
        "\n",
        "56889.7312269 56890.7344779 56891.7214011 "
       ]
      },
      {
       "output_type": "stream",
       "stream": "stdout",
       "text": [
        "56893.7742145 56894.7584364 "
       ]
      },
      {
       "output_type": "stream",
       "stream": "stdout",
       "text": [
        "\n",
        "56889.7312269 56890.7344779 56891.7214011 "
       ]
      },
      {
       "output_type": "stream",
       "stream": "stdout",
       "text": [
        "56893.7742145 56894.7584364 "
       ]
      },
      {
       "output_type": "stream",
       "stream": "stdout",
       "text": [
        "\n",
        "56889.7312269 56890.7344779 56891.7214011 "
       ]
      },
      {
       "output_type": "stream",
       "stream": "stdout",
       "text": [
        "56893.7742145 56894.7584364 "
       ]
      },
      {
       "output_type": "stream",
       "stream": "stdout",
       "text": [
        "\n",
        "56889.7312269 56890.7344779 56891.7214011 56893.7742145 "
       ]
      },
      {
       "output_type": "stream",
       "stream": "stdout",
       "text": [
        "56894.7584364 \n",
        "56889.7312269 "
       ]
      },
      {
       "output_type": "stream",
       "stream": "stdout",
       "text": [
        "56890.7344779 56891.7214011 "
       ]
      },
      {
       "output_type": "stream",
       "stream": "stdout",
       "text": [
        "56893.7742145 56894.7584364 "
       ]
      },
      {
       "output_type": "stream",
       "stream": "stdout",
       "text": [
        "\n",
        "56889.7312269 56890.7344779 "
       ]
      },
      {
       "output_type": "stream",
       "stream": "stdout",
       "text": [
        "56891.7214011 56893.7742145 "
       ]
      },
      {
       "output_type": "stream",
       "stream": "stdout",
       "text": [
        "56894.7584364 \n",
        "56889.7312269 "
       ]
      },
      {
       "output_type": "stream",
       "stream": "stdout",
       "text": [
        "56890.7344779 56891.7214011 "
       ]
      },
      {
       "output_type": "stream",
       "stream": "stdout",
       "text": [
        "56893.7742145 56894.7584364 "
       ]
      },
      {
       "output_type": "stream",
       "stream": "stdout",
       "text": [
        "\n",
        "56889.7312269 56890.7344779 "
       ]
      },
      {
       "output_type": "stream",
       "stream": "stdout",
       "text": [
        "56891.7214011 56893.7742145 "
       ]
      },
      {
       "output_type": "stream",
       "stream": "stdout",
       "text": [
        "56894.7584364 \n",
        "Giant27"
       ]
      },
      {
       "output_type": "stream",
       "stream": "stdout",
       "text": [
        "\n",
        "56889.7312269"
       ]
      },
      {
       "output_type": "stream",
       "stream": "stdout",
       "text": [
        " 56890.7344779 56891.7214011 56893.7742145 "
       ]
      },
      {
       "output_type": "stream",
       "stream": "stdout",
       "text": [
        "56894.7584364 "
       ]
      },
      {
       "output_type": "stream",
       "stream": "stdout",
       "text": [
        "\n",
        "56889.7312269 56890.7344779 56891.7214011 56893.7742145 "
       ]
      },
      {
       "output_type": "stream",
       "stream": "stdout",
       "text": [
        "56894.7584364 "
       ]
      },
      {
       "output_type": "stream",
       "stream": "stdout",
       "text": [
        "\n",
        "56889.7312269 56890.7344779 56891.7214011 56893.7742145 "
       ]
      },
      {
       "output_type": "stream",
       "stream": "stdout",
       "text": [
        "56894.7584364 "
       ]
      },
      {
       "output_type": "stream",
       "stream": "stdout",
       "text": [
        "\n",
        "56889.7312269 56890.7344779 56891.7214011 56893.7742145 "
       ]
      },
      {
       "output_type": "stream",
       "stream": "stdout",
       "text": [
        "56894.7584364 "
       ]
      },
      {
       "output_type": "stream",
       "stream": "stdout",
       "text": [
        "\n",
        "56889.7312269 56890.7344779 56891.7214011 "
       ]
      },
      {
       "output_type": "stream",
       "stream": "stdout",
       "text": [
        "56893.7742145 56894.7584364 "
       ]
      },
      {
       "output_type": "stream",
       "stream": "stdout",
       "text": [
        "\n",
        "56889.7312269 56890.7344779 56891.7214011 "
       ]
      },
      {
       "output_type": "stream",
       "stream": "stdout",
       "text": [
        "56893.7742145 56894.7584364 "
       ]
      },
      {
       "output_type": "stream",
       "stream": "stdout",
       "text": [
        "\n",
        "56889.7312269 56890.7344779 56891.7214011 "
       ]
      },
      {
       "output_type": "stream",
       "stream": "stdout",
       "text": [
        "56893.7742145 56894.7584364 \n",
        "56889.7312269"
       ]
      },
      {
       "output_type": "stream",
       "stream": "stdout",
       "text": [
        " 56890.7344779 56891.7214011 56893.7742145 56894.7584364 "
       ]
      },
      {
       "output_type": "stream",
       "stream": "stdout",
       "text": [
        "\n",
        "56889.7312269 56890.7344779 "
       ]
      },
      {
       "output_type": "stream",
       "stream": "stdout",
       "text": [
        "56891.7214011 56893.7742145 "
       ]
      },
      {
       "output_type": "stream",
       "stream": "stdout",
       "text": [
        "56894.7584364 \n",
        "56889.7312269 "
       ]
      },
      {
       "output_type": "stream",
       "stream": "stdout",
       "text": [
        "56890.7344779 56891.7214011 "
       ]
      },
      {
       "output_type": "stream",
       "stream": "stdout",
       "text": [
        "56893.7742145 56894.7584364 "
       ]
      },
      {
       "output_type": "stream",
       "stream": "stdout",
       "text": [
        "\n",
        "56889.7312269 56890.7344779 "
       ]
      },
      {
       "output_type": "stream",
       "stream": "stdout",
       "text": [
        "56891.7214011 56893.7742145 "
       ]
      },
      {
       "output_type": "stream",
       "stream": "stdout",
       "text": [
        "56894.7584364 \n",
        "56889.7312269 "
       ]
      },
      {
       "output_type": "stream",
       "stream": "stdout",
       "text": [
        "56890.7344779 56891.7214011 "
       ]
      },
      {
       "output_type": "stream",
       "stream": "stdout",
       "text": [
        "56893.7742145 56894.7584364 "
       ]
      },
      {
       "output_type": "stream",
       "stream": "stdout",
       "text": [
        "\n",
        "Field23"
       ]
      },
      {
       "output_type": "stream",
       "stream": "stdout",
       "text": [
        "\n",
        "56889.7312269"
       ]
      },
      {
       "output_type": "stream",
       "stream": "stdout",
       "text": [
        " 56890.7344779 56891.7214011 56893.7742145 56894.7584364 "
       ]
      },
      {
       "output_type": "stream",
       "stream": "stdout",
       "text": [
        "\n",
        "56889.7312269 56890.7344779 56891.7214011 "
       ]
      },
      {
       "output_type": "stream",
       "stream": "stdout",
       "text": [
        "56893.7742145 56894.7584364 "
       ]
      },
      {
       "output_type": "stream",
       "stream": "stdout",
       "text": [
        "\n",
        "56889.7312269 56890.7344779 56891.7214011 "
       ]
      },
      {
       "output_type": "stream",
       "stream": "stdout",
       "text": [
        "56893.7742145 56894.7584364 "
       ]
      },
      {
       "output_type": "stream",
       "stream": "stdout",
       "text": [
        "\n",
        "56889.7312269 56890.7344779 56891.7214011 "
       ]
      },
      {
       "output_type": "stream",
       "stream": "stdout",
       "text": [
        "56893.7742145 56894.7584364 "
       ]
      },
      {
       "output_type": "stream",
       "stream": "stdout",
       "text": [
        "\n",
        "56889.7312269 56890.7344779 56891.7214011 "
       ]
      },
      {
       "output_type": "stream",
       "stream": "stdout",
       "text": [
        "56893.7742145 56894.7584364 "
       ]
      },
      {
       "output_type": "stream",
       "stream": "stdout",
       "text": [
        "\n",
        "56889.7312269 56890.7344779 56891.7214011 "
       ]
      },
      {
       "output_type": "stream",
       "stream": "stdout",
       "text": [
        "56893.7742145 56894.7584364 "
       ]
      },
      {
       "output_type": "stream",
       "stream": "stdout",
       "text": [
        "\n",
        "56889.7312269 56890.7344779 56891.7214011 "
       ]
      },
      {
       "output_type": "stream",
       "stream": "stdout",
       "text": [
        "56893.7742145 56894.7584364 "
       ]
      },
      {
       "output_type": "stream",
       "stream": "stdout",
       "text": [
        "\n",
        "56889.7312269 56890.7344779 56891.7214011 "
       ]
      },
      {
       "output_type": "stream",
       "stream": "stdout",
       "text": [
        "56893.7742145 56894.7584364 "
       ]
      },
      {
       "output_type": "stream",
       "stream": "stdout",
       "text": [
        "\n",
        "56889.7312269 56890.7344779 "
       ]
      },
      {
       "output_type": "stream",
       "stream": "stdout",
       "text": [
        "56891.7214011 56893.7742145 "
       ]
      },
      {
       "output_type": "stream",
       "stream": "stdout",
       "text": [
        "56894.7584364 \n",
        "56889.7312269 "
       ]
      },
      {
       "output_type": "stream",
       "stream": "stdout",
       "text": [
        "56890.7344779 56891.7214011 "
       ]
      },
      {
       "output_type": "stream",
       "stream": "stdout",
       "text": [
        "56893.7742145 56894.7584364 "
       ]
      },
      {
       "output_type": "stream",
       "stream": "stdout",
       "text": [
        "\n",
        "56889.7312269 56890.7344779 "
       ]
      },
      {
       "output_type": "stream",
       "stream": "stdout",
       "text": [
        "56891.7214011 56893.7742145 "
       ]
      },
      {
       "output_type": "stream",
       "stream": "stdout",
       "text": [
        "56894.7584364 \n",
        "56889.7312269 "
       ]
      },
      {
       "output_type": "stream",
       "stream": "stdout",
       "text": [
        "56890.7344779 56891.7214011 "
       ]
      },
      {
       "output_type": "stream",
       "stream": "stdout",
       "text": [
        "56893.7742145 56894.7584364 "
       ]
      },
      {
       "output_type": "stream",
       "stream": "stdout",
       "text": [
        "\n",
        "Field21"
       ]
      },
      {
       "output_type": "stream",
       "stream": "stdout",
       "text": [
        "\n",
        "56889.7312269"
       ]
      },
      {
       "output_type": "stream",
       "stream": "stdout",
       "text": [
        " 56890.7344779 56891.7214011 56893.7742145 56894.7584364 "
       ]
      },
      {
       "output_type": "stream",
       "stream": "stdout",
       "text": [
        "\n",
        "56889.7312269 56890.7344779 56891.7214011 56893.7742145 "
       ]
      },
      {
       "output_type": "stream",
       "stream": "stdout",
       "text": [
        "56894.7584364 "
       ]
      },
      {
       "output_type": "stream",
       "stream": "stdout",
       "text": [
        "\n",
        "56889.7312269 56890.7344779 56891.7214011 "
       ]
      },
      {
       "output_type": "stream",
       "stream": "stdout",
       "text": [
        "56893.7742145 56894.7584364 "
       ]
      },
      {
       "output_type": "stream",
       "stream": "stdout",
       "text": [
        "\n",
        "56889.7312269 56890.7344779 56891.7214011 "
       ]
      },
      {
       "output_type": "stream",
       "stream": "stdout",
       "text": [
        "56893.7742145 56894.7584364 "
       ]
      },
      {
       "output_type": "stream",
       "stream": "stdout",
       "text": [
        "\n",
        "56889.7312269 56890.7344779 56891.7214011 "
       ]
      },
      {
       "output_type": "stream",
       "stream": "stdout",
       "text": [
        "56893.7742145 56894.7584364 "
       ]
      },
      {
       "output_type": "stream",
       "stream": "stdout",
       "text": [
        "\n",
        "56889.7312269 56890.7344779 56891.7214011 "
       ]
      },
      {
       "output_type": "stream",
       "stream": "stdout",
       "text": [
        "56893.7742145 56894.7584364 "
       ]
      },
      {
       "output_type": "stream",
       "stream": "stdout",
       "text": [
        "\n",
        "56889.7312269 56890.7344779 56891.7214011 56893.7742145 "
       ]
      },
      {
       "output_type": "stream",
       "stream": "stdout",
       "text": [
        "56894.7584364 \n",
        "56889.7312269 "
       ]
      },
      {
       "output_type": "stream",
       "stream": "stdout",
       "text": [
        "56890.7344779 56891.7214011 56893.7742145 "
       ]
      },
      {
       "output_type": "stream",
       "stream": "stdout",
       "text": [
        "56894.7584364 \n",
        "56889.7312269 "
       ]
      },
      {
       "output_type": "stream",
       "stream": "stdout",
       "text": [
        "56890.7344779 56891.7214011 "
       ]
      },
      {
       "output_type": "stream",
       "stream": "stdout",
       "text": [
        "56893.7742145 56894.7584364 "
       ]
      },
      {
       "output_type": "stream",
       "stream": "stdout",
       "text": [
        "\n",
        "56889.7312269 56890.7344779 "
       ]
      },
      {
       "output_type": "stream",
       "stream": "stdout",
       "text": [
        "56891.7214011 56893.7742145 "
       ]
      },
      {
       "output_type": "stream",
       "stream": "stdout",
       "text": [
        "56894.7584364 \n",
        "56889.7312269 "
       ]
      },
      {
       "output_type": "stream",
       "stream": "stdout",
       "text": [
        "56890.7344779 56891.7214011 "
       ]
      },
      {
       "output_type": "stream",
       "stream": "stdout",
       "text": [
        "56893.7742145 56894.7584364 "
       ]
      },
      {
       "output_type": "stream",
       "stream": "stdout",
       "text": [
        "\n",
        "56889.7312269 56890.7344779 "
       ]
      },
      {
       "output_type": "stream",
       "stream": "stdout",
       "text": [
        "56891.7214011 56893.7742145 "
       ]
      },
      {
       "output_type": "stream",
       "stream": "stdout",
       "text": [
        "56894.7584364 "
       ]
      },
      {
       "output_type": "stream",
       "stream": "stdout",
       "text": [
        "\n",
        "Field40"
       ]
      },
      {
       "output_type": "stream",
       "stream": "stdout",
       "text": [
        "\n",
        "56889.7312269"
       ]
      },
      {
       "output_type": "stream",
       "stream": "stdout",
       "text": [
        " 56890.7344779 56891.7214011 56893.7742145 "
       ]
      },
      {
       "output_type": "stream",
       "stream": "stdout",
       "text": [
        "56894.7584364 "
       ]
      },
      {
       "output_type": "stream",
       "stream": "stdout",
       "text": [
        "\n",
        "56889.7312269 56890.7344779 56891.7214011 "
       ]
      },
      {
       "output_type": "stream",
       "stream": "stdout",
       "text": [
        "56893.7742145 56894.7584364 "
       ]
      },
      {
       "output_type": "stream",
       "stream": "stdout",
       "text": [
        "\n",
        "56889.7312269 56890.7344779 56891.7214011 "
       ]
      },
      {
       "output_type": "stream",
       "stream": "stdout",
       "text": [
        "56893.7742145 56894.7584364 "
       ]
      },
      {
       "output_type": "stream",
       "stream": "stdout",
       "text": [
        "\n",
        "56889.7312269 56890.7344779 56891.7214011 "
       ]
      },
      {
       "output_type": "stream",
       "stream": "stdout",
       "text": [
        "56893.7742145 56894.7584364 "
       ]
      },
      {
       "output_type": "stream",
       "stream": "stdout",
       "text": [
        "\n",
        "56889.7312269 56890.7344779 56891.7214011 "
       ]
      },
      {
       "output_type": "stream",
       "stream": "stdout",
       "text": [
        "56893.7742145 56894.7584364 "
       ]
      },
      {
       "output_type": "stream",
       "stream": "stdout",
       "text": [
        "\n",
        "56889.7312269 56890.7344779 56891.7214011 "
       ]
      },
      {
       "output_type": "stream",
       "stream": "stdout",
       "text": [
        "56893.7742145 56894.7584364 "
       ]
      },
      {
       "output_type": "stream",
       "stream": "stdout",
       "text": [
        "\n",
        "56889.7312269 56890.7344779 56891.7214011 56893.7742145 "
       ]
      },
      {
       "output_type": "stream",
       "stream": "stdout",
       "text": [
        "56894.7584364 \n",
        "56889.7312269 "
       ]
      },
      {
       "output_type": "stream",
       "stream": "stdout",
       "text": [
        "56890.7344779 56891.7214011 56893.7742145 "
       ]
      },
      {
       "output_type": "stream",
       "stream": "stdout",
       "text": [
        "56894.7584364 \n",
        "56889.7312269 "
       ]
      },
      {
       "output_type": "stream",
       "stream": "stdout",
       "text": [
        "56890.7344779 "
       ]
      },
      {
       "output_type": "stream",
       "stream": "stdout",
       "text": [
        "56891.7214011 "
       ]
      },
      {
       "output_type": "stream",
       "stream": "stdout",
       "text": [
        "56893.7742145 56894.7584364 "
       ]
      },
      {
       "output_type": "stream",
       "stream": "stdout",
       "text": [
        "\n",
        "56889.7312269 56890.7344779 "
       ]
      },
      {
       "output_type": "stream",
       "stream": "stdout",
       "text": [
        "56891.7214011 56893.7742145 "
       ]
      },
      {
       "output_type": "stream",
       "stream": "stdout",
       "text": [
        "56894.7584364 \n",
        "56889.7312269 "
       ]
      },
      {
       "output_type": "stream",
       "stream": "stdout",
       "text": [
        "56890.7344779 "
       ]
      },
      {
       "output_type": "stream",
       "stream": "stdout",
       "text": [
        "56891.7214011 56893.7742145 "
       ]
      },
      {
       "output_type": "stream",
       "stream": "stdout",
       "text": [
        "56894.7584364 \n",
        "56889.7312269 "
       ]
      },
      {
       "output_type": "stream",
       "stream": "stdout",
       "text": [
        "56890.7344779 56891.7214011 "
       ]
      },
      {
       "output_type": "stream",
       "stream": "stdout",
       "text": [
        "56893.7742145 56894.7584364 "
       ]
      },
      {
       "output_type": "stream",
       "stream": "stdout",
       "text": [
        "\n",
        "Field25"
       ]
      },
      {
       "output_type": "stream",
       "stream": "stdout",
       "text": [
        "\n",
        "56889.7312269"
       ]
      },
      {
       "output_type": "stream",
       "stream": "stdout",
       "text": [
        " 56890.7344779 56891.7214011 56893.7742145 "
       ]
      },
      {
       "output_type": "stream",
       "stream": "stdout",
       "text": [
        "56894.7584364 "
       ]
      },
      {
       "output_type": "stream",
       "stream": "stdout",
       "text": [
        "\n",
        "56889.7312269 56890.7344779 56891.7214011 "
       ]
      },
      {
       "output_type": "stream",
       "stream": "stdout",
       "text": [
        "56893.7742145 56894.7584364 "
       ]
      },
      {
       "output_type": "stream",
       "stream": "stdout",
       "text": [
        "\n",
        "56889.7312269 56890.7344779 56891.7214011 "
       ]
      },
      {
       "output_type": "stream",
       "stream": "stdout",
       "text": [
        "56893.7742145 56894.7584364 "
       ]
      },
      {
       "output_type": "stream",
       "stream": "stdout",
       "text": [
        "\n",
        "56889.7312269 56890.7344779 56891.7214011 "
       ]
      },
      {
       "output_type": "stream",
       "stream": "stdout",
       "text": [
        "56893.7742145 56894.7584364 "
       ]
      },
      {
       "output_type": "stream",
       "stream": "stdout",
       "text": [
        "\n",
        "56889.7312269 56890.7344779 56891.7214011 "
       ]
      },
      {
       "output_type": "stream",
       "stream": "stdout",
       "text": [
        "56893.7742145 56894.7584364 "
       ]
      },
      {
       "output_type": "stream",
       "stream": "stdout",
       "text": [
        "\n",
        "56889.7312269 56890.7344779 56891.7214011 "
       ]
      },
      {
       "output_type": "stream",
       "stream": "stdout",
       "text": [
        "56893.7742145 56894.7584364 "
       ]
      },
      {
       "output_type": "stream",
       "stream": "stdout",
       "text": [
        "\n",
        "56889.7312269 56890.7344779 56891.7214011 56893.7742145 "
       ]
      },
      {
       "output_type": "stream",
       "stream": "stdout",
       "text": [
        "56894.7584364 \n",
        "56889.7312269 "
       ]
      },
      {
       "output_type": "stream",
       "stream": "stdout",
       "text": [
        "56890.7344779 56891.7214011 56893.7742145 "
       ]
      },
      {
       "output_type": "stream",
       "stream": "stdout",
       "text": [
        "56894.7584364 \n",
        "56889.7312269 "
       ]
      },
      {
       "output_type": "stream",
       "stream": "stdout",
       "text": [
        "56890.7344779 56891.7214011 "
       ]
      },
      {
       "output_type": "stream",
       "stream": "stdout",
       "text": [
        "56893.7742145 56894.7584364 "
       ]
      },
      {
       "output_type": "stream",
       "stream": "stdout",
       "text": [
        "\n",
        "56889.7312269 56890.7344779 "
       ]
      },
      {
       "output_type": "stream",
       "stream": "stdout",
       "text": [
        "56891.7214011 "
       ]
      },
      {
       "output_type": "stream",
       "stream": "stdout",
       "text": [
        "56893.7742145 56894.7584364 "
       ]
      },
      {
       "output_type": "stream",
       "stream": "stdout",
       "text": [
        "\n",
        "56889.7312269 56890.7344779 "
       ]
      },
      {
       "output_type": "stream",
       "stream": "stdout",
       "text": [
        "56891.7214011 56893.7742145 "
       ]
      },
      {
       "output_type": "stream",
       "stream": "stdout",
       "text": [
        "56894.7584364 \n",
        "56889.7312269 "
       ]
      },
      {
       "output_type": "stream",
       "stream": "stdout",
       "text": [
        "56890.7344779 56891.7214011 "
       ]
      },
      {
       "output_type": "stream",
       "stream": "stdout",
       "text": [
        "56893.7742145 56894.7584364 "
       ]
      },
      {
       "output_type": "stream",
       "stream": "stdout",
       "text": [
        "\n",
        "Giant25"
       ]
      },
      {
       "output_type": "stream",
       "stream": "stdout",
       "text": [
        "\n",
        "56889.7312269"
       ]
      },
      {
       "output_type": "stream",
       "stream": "stdout",
       "text": [
        " 56890.7344779 56891.7214011 56893.7742145 "
       ]
      },
      {
       "output_type": "stream",
       "stream": "stdout",
       "text": [
        "56894.7584364 "
       ]
      },
      {
       "output_type": "stream",
       "stream": "stdout",
       "text": [
        "\n",
        "56889.7312269 56890.7344779 56891.7214011 "
       ]
      },
      {
       "output_type": "stream",
       "stream": "stdout",
       "text": [
        "56893.7742145 56894.7584364 "
       ]
      },
      {
       "output_type": "stream",
       "stream": "stdout",
       "text": [
        "\n",
        "56889.7312269 56890.7344779 56891.7214011 "
       ]
      },
      {
       "output_type": "stream",
       "stream": "stdout",
       "text": [
        "56893.7742145 56894.7584364 "
       ]
      },
      {
       "output_type": "stream",
       "stream": "stdout",
       "text": [
        "\n",
        "56889.7312269 56890.7344779 56891.7214011 "
       ]
      },
      {
       "output_type": "stream",
       "stream": "stdout",
       "text": [
        "56893.7742145 56894.7584364 "
       ]
      },
      {
       "output_type": "stream",
       "stream": "stdout",
       "text": [
        "\n",
        "56889.7312269 56890.7344779 56891.7214011 "
       ]
      },
      {
       "output_type": "stream",
       "stream": "stdout",
       "text": [
        "56893.7742145 56894.7584364 "
       ]
      },
      {
       "output_type": "stream",
       "stream": "stdout",
       "text": [
        "\n",
        "56889.7312269 56890.7344779 56891.7214011 "
       ]
      },
      {
       "output_type": "stream",
       "stream": "stdout",
       "text": [
        "56893.7742145 56894.7584364 "
       ]
      },
      {
       "output_type": "stream",
       "stream": "stdout",
       "text": [
        "\n",
        "56889.7312269 56890.7344779 56891.7214011 "
       ]
      },
      {
       "output_type": "stream",
       "stream": "stdout",
       "text": [
        "56893.7742145 56894.7584364 "
       ]
      },
      {
       "output_type": "stream",
       "stream": "stdout",
       "text": [
        "\n",
        "56889.7312269 56890.7344779 56891.7214011 "
       ]
      },
      {
       "output_type": "stream",
       "stream": "stdout",
       "text": [
        "56893.7742145 56894.7584364 "
       ]
      },
      {
       "output_type": "stream",
       "stream": "stdout",
       "text": [
        "\n",
        "56889.7312269 56890.7344779 "
       ]
      },
      {
       "output_type": "stream",
       "stream": "stdout",
       "text": [
        "56891.7214011 56893.7742145 "
       ]
      },
      {
       "output_type": "stream",
       "stream": "stdout",
       "text": [
        "56894.7584364 \n",
        "56889.7312269 "
       ]
      },
      {
       "output_type": "stream",
       "stream": "stdout",
       "text": [
        "56890.7344779 56891.7214011 "
       ]
      },
      {
       "output_type": "stream",
       "stream": "stdout",
       "text": [
        "56893.7742145 56894.7584364 "
       ]
      },
      {
       "output_type": "stream",
       "stream": "stdout",
       "text": [
        "\n",
        "56889.7312269 56890.7344779 "
       ]
      },
      {
       "output_type": "stream",
       "stream": "stdout",
       "text": [
        "56891.7214011 "
       ]
      },
      {
       "output_type": "stream",
       "stream": "stdout",
       "text": [
        "56893.7742145 56894.7584364 "
       ]
      },
      {
       "output_type": "stream",
       "stream": "stdout",
       "text": [
        "\n",
        "56889.7312269 56890.7344779 "
       ]
      },
      {
       "output_type": "stream",
       "stream": "stdout",
       "text": [
        "56891.7214011 56893.7742145 "
       ]
      },
      {
       "output_type": "stream",
       "stream": "stdout",
       "text": [
        "56894.7584364 \n",
        "Giant30"
       ]
      },
      {
       "output_type": "stream",
       "stream": "stdout",
       "text": [
        "\n",
        "56889.7312269"
       ]
      },
      {
       "output_type": "stream",
       "stream": "stdout",
       "text": [
        " 56890.7344779 56891.7214011 56893.7742145 "
       ]
      },
      {
       "output_type": "stream",
       "stream": "stdout",
       "text": [
        "56894.7584364 "
       ]
      },
      {
       "output_type": "stream",
       "stream": "stdout",
       "text": [
        "\n",
        "56889.7312269 56890.7344779 56891.7214011 "
       ]
      },
      {
       "output_type": "stream",
       "stream": "stdout",
       "text": [
        "56893.7742145 56894.7584364 "
       ]
      },
      {
       "output_type": "stream",
       "stream": "stdout",
       "text": [
        "\n",
        "56889.7312269 56890.7344779 56891.7214011 "
       ]
      },
      {
       "output_type": "stream",
       "stream": "stdout",
       "text": [
        "56893.7742145 56894.7584364 "
       ]
      },
      {
       "output_type": "stream",
       "stream": "stdout",
       "text": [
        "\n",
        "56889.7312269 56890.7344779 56891.7214011 "
       ]
      },
      {
       "output_type": "stream",
       "stream": "stdout",
       "text": [
        "56893.7742145 56894.7584364 "
       ]
      },
      {
       "output_type": "stream",
       "stream": "stdout",
       "text": [
        "\n",
        "56889.7312269 56890.7344779 56891.7214011 "
       ]
      },
      {
       "output_type": "stream",
       "stream": "stdout",
       "text": [
        "56893.7742145 56894.7584364 "
       ]
      },
      {
       "output_type": "stream",
       "stream": "stdout",
       "text": [
        "\n",
        "56889.7312269 56890.7344779 56891.7214011 "
       ]
      },
      {
       "output_type": "stream",
       "stream": "stdout",
       "text": [
        "56893.7742145 56894.7584364 "
       ]
      },
      {
       "output_type": "stream",
       "stream": "stdout",
       "text": [
        "\n",
        "56889.7312269 56890.7344779 56891.7214011 "
       ]
      },
      {
       "output_type": "stream",
       "stream": "stdout",
       "text": [
        "56893.7742145 56894.7584364 "
       ]
      },
      {
       "output_type": "stream",
       "stream": "stdout",
       "text": [
        "\n",
        "56889.7312269 56890.7344779 56891.7214011 "
       ]
      },
      {
       "output_type": "stream",
       "stream": "stdout",
       "text": [
        "56893.7742145 56894.7584364 "
       ]
      },
      {
       "output_type": "stream",
       "stream": "stdout",
       "text": [
        "\n",
        "56889.7312269 56890.7344779 "
       ]
      },
      {
       "output_type": "stream",
       "stream": "stdout",
       "text": [
        "56891.7214011 56893.7742145 "
       ]
      },
      {
       "output_type": "stream",
       "stream": "stdout",
       "text": [
        "56894.7584364 \n",
        "56889.7312269 "
       ]
      },
      {
       "output_type": "stream",
       "stream": "stdout",
       "text": [
        "56890.7344779 56891.7214011 "
       ]
      },
      {
       "output_type": "stream",
       "stream": "stdout",
       "text": [
        "56893.7742145 56894.7584364 "
       ]
      },
      {
       "output_type": "stream",
       "stream": "stdout",
       "text": [
        "\n",
        "56889.7312269 56890.7344779 "
       ]
      },
      {
       "output_type": "stream",
       "stream": "stdout",
       "text": [
        "56891.7214011 56893.7742145 "
       ]
      },
      {
       "output_type": "stream",
       "stream": "stdout",
       "text": [
        "56894.7584364 \n",
        "56889.7312269 "
       ]
      },
      {
       "output_type": "stream",
       "stream": "stdout",
       "text": [
        "56890.7344779 56891.7214011 "
       ]
      },
      {
       "output_type": "stream",
       "stream": "stdout",
       "text": [
        "56893.7742145 56894.7584364 "
       ]
      },
      {
       "output_type": "stream",
       "stream": "stdout",
       "text": [
        "\n",
        "Giant37"
       ]
      },
      {
       "output_type": "stream",
       "stream": "stdout",
       "text": [
        "\n",
        "56889.7312269"
       ]
      },
      {
       "output_type": "stream",
       "stream": "stdout",
       "text": [
        " 56890.7344779 56891.7214011 56893.7742145 56894.7584364 "
       ]
      },
      {
       "output_type": "stream",
       "stream": "stdout",
       "text": [
        "\n",
        "56889.7312269 56890.7344779 56891.7214011 "
       ]
      },
      {
       "output_type": "stream",
       "stream": "stdout",
       "text": [
        "56893.7742145 56894.7584364 "
       ]
      },
      {
       "output_type": "stream",
       "stream": "stdout",
       "text": [
        "\n",
        "56889.7312269 56890.7344779 56891.7214011 "
       ]
      },
      {
       "output_type": "stream",
       "stream": "stdout",
       "text": [
        "56893.7742145 56894.7584364 "
       ]
      },
      {
       "output_type": "stream",
       "stream": "stdout",
       "text": [
        "\n",
        "56889.7312269 56890.7344779 56891.7214011 "
       ]
      },
      {
       "output_type": "stream",
       "stream": "stdout",
       "text": [
        "56893.7742145 56894.7584364 "
       ]
      },
      {
       "output_type": "stream",
       "stream": "stdout",
       "text": [
        "\n",
        "56889.7312269 56890.7344779 56891.7214011 "
       ]
      },
      {
       "output_type": "stream",
       "stream": "stdout",
       "text": [
        "56893.7742145 56894.7584364 "
       ]
      },
      {
       "output_type": "stream",
       "stream": "stdout",
       "text": [
        "\n",
        "56889.7312269 56890.7344779 56891.7214011 "
       ]
      },
      {
       "output_type": "stream",
       "stream": "stdout",
       "text": [
        "56893.7742145 56894.7584364 "
       ]
      },
      {
       "output_type": "stream",
       "stream": "stdout",
       "text": [
        "\n",
        "56889.7312269 56890.7344779 56891.7214011 "
       ]
      },
      {
       "output_type": "stream",
       "stream": "stdout",
       "text": [
        "56893.7742145 56894.7584364 "
       ]
      },
      {
       "output_type": "stream",
       "stream": "stdout",
       "text": [
        "\n",
        "56889.7312269 56890.7344779 56891.7214011 "
       ]
      },
      {
       "output_type": "stream",
       "stream": "stdout",
       "text": [
        "56893.7742145 56894.7584364 "
       ]
      },
      {
       "output_type": "stream",
       "stream": "stdout",
       "text": [
        "\n",
        "56889.7312269 56890.7344779 "
       ]
      },
      {
       "output_type": "stream",
       "stream": "stdout",
       "text": [
        "56891.7214011 56893.7742145 "
       ]
      },
      {
       "output_type": "stream",
       "stream": "stdout",
       "text": [
        "56894.7584364 \n",
        "56889.7312269 "
       ]
      },
      {
       "output_type": "stream",
       "stream": "stdout",
       "text": [
        "56890.7344779 56891.7214011 "
       ]
      },
      {
       "output_type": "stream",
       "stream": "stdout",
       "text": [
        "56893.7742145 56894.7584364 "
       ]
      },
      {
       "output_type": "stream",
       "stream": "stdout",
       "text": [
        "\n",
        "56889.7312269 56890.7344779 "
       ]
      },
      {
       "output_type": "stream",
       "stream": "stdout",
       "text": [
        "56891.7214011 56893.7742145 "
       ]
      },
      {
       "output_type": "stream",
       "stream": "stdout",
       "text": [
        "56894.7584364 \n",
        "56889.7312269 "
       ]
      },
      {
       "output_type": "stream",
       "stream": "stdout",
       "text": [
        "56890.7344779 56891.7214011 "
       ]
      },
      {
       "output_type": "stream",
       "stream": "stdout",
       "text": [
        "56893.7742145 "
       ]
      },
      {
       "output_type": "stream",
       "stream": "stdout",
       "text": [
        "56894.7584364 \n",
        "Giant14"
       ]
      },
      {
       "output_type": "stream",
       "stream": "stdout",
       "text": [
        "\n",
        "56889.7312269"
       ]
      },
      {
       "output_type": "stream",
       "stream": "stdout",
       "text": [
        " 56890.7344779 56891.7214011 56893.7742145 56894.7584364 "
       ]
      },
      {
       "output_type": "stream",
       "stream": "stdout",
       "text": [
        "\n",
        "56889.7312269 56890.7344779 56891.7214011 "
       ]
      },
      {
       "output_type": "stream",
       "stream": "stdout",
       "text": [
        "56893.7742145 56894.7584364 "
       ]
      },
      {
       "output_type": "stream",
       "stream": "stdout",
       "text": [
        "\n",
        "56889.7312269 56890.7344779 56891.7214011 "
       ]
      },
      {
       "output_type": "stream",
       "stream": "stdout",
       "text": [
        "56893.7742145 56894.7584364 "
       ]
      },
      {
       "output_type": "stream",
       "stream": "stdout",
       "text": [
        "\n",
        "56889.7312269 56890.7344779 56891.7214011 "
       ]
      },
      {
       "output_type": "stream",
       "stream": "stdout",
       "text": [
        "56893.7742145 56894.7584364 "
       ]
      },
      {
       "output_type": "stream",
       "stream": "stdout",
       "text": [
        "\n",
        "56889.7312269 56890.7344779 56891.7214011 "
       ]
      },
      {
       "output_type": "stream",
       "stream": "stdout",
       "text": [
        "56893.7742145 56894.7584364 "
       ]
      },
      {
       "output_type": "stream",
       "stream": "stdout",
       "text": [
        "\n",
        "56889.7312269 56890.7344779 56891.7214011 "
       ]
      },
      {
       "output_type": "stream",
       "stream": "stdout",
       "text": [
        "56893.7742145 56894.7584364 "
       ]
      },
      {
       "output_type": "stream",
       "stream": "stdout",
       "text": [
        "\n",
        "56889.7312269 56890.7344779 56891.7214011 "
       ]
      },
      {
       "output_type": "stream",
       "stream": "stdout",
       "text": [
        "56893.7742145 56894.7584364 "
       ]
      },
      {
       "output_type": "stream",
       "stream": "stdout",
       "text": [
        "\n",
        "56889.7312269 56890.7344779 56891.7214011 "
       ]
      },
      {
       "output_type": "stream",
       "stream": "stdout",
       "text": [
        "56893.7742145 56894.7584364 "
       ]
      },
      {
       "output_type": "stream",
       "stream": "stdout",
       "text": [
        "\n",
        "56889.7312269 56890.7344779 "
       ]
      },
      {
       "output_type": "stream",
       "stream": "stdout",
       "text": [
        "56891.7214011 56893.7742145 "
       ]
      },
      {
       "output_type": "stream",
       "stream": "stdout",
       "text": [
        "56894.7584364 \n",
        "56889.7312269 "
       ]
      },
      {
       "output_type": "stream",
       "stream": "stdout",
       "text": [
        "56890.7344779 56891.7214011 "
       ]
      },
      {
       "output_type": "stream",
       "stream": "stdout",
       "text": [
        "56893.7742145 56894.7584364 "
       ]
      },
      {
       "output_type": "stream",
       "stream": "stdout",
       "text": [
        "\n",
        "56889.7312269 56890.7344779 "
       ]
      },
      {
       "output_type": "stream",
       "stream": "stdout",
       "text": [
        "56891.7214011 56893.7742145 "
       ]
      },
      {
       "output_type": "stream",
       "stream": "stdout",
       "text": [
        "56894.7584364 \n",
        "56889.7312269 "
       ]
      },
      {
       "output_type": "stream",
       "stream": "stdout",
       "text": [
        "56890.7344779 "
       ]
      },
      {
       "output_type": "stream",
       "stream": "stdout",
       "text": [
        "56891.7214011 56893.7742145 "
       ]
      },
      {
       "output_type": "stream",
       "stream": "stdout",
       "text": [
        "56894.7584364 \n",
        "Giant04"
       ]
      },
      {
       "output_type": "stream",
       "stream": "stdout",
       "text": [
        "\n",
        "56889.7312269"
       ]
      },
      {
       "output_type": "stream",
       "stream": "stdout",
       "text": [
        " 56890.7344779 56891.7214011 56893.7742145 "
       ]
      },
      {
       "output_type": "stream",
       "stream": "stdout",
       "text": [
        "56894.7584364 "
       ]
      },
      {
       "output_type": "stream",
       "stream": "stdout",
       "text": [
        "\n",
        "56889.7312269 56890.7344779 56891.7214011 "
       ]
      },
      {
       "output_type": "stream",
       "stream": "stdout",
       "text": [
        "56893.7742145 56894.7584364 "
       ]
      },
      {
       "output_type": "stream",
       "stream": "stdout",
       "text": [
        "\n",
        "56889.7312269 56890.7344779 56891.7214011 "
       ]
      },
      {
       "output_type": "stream",
       "stream": "stdout",
       "text": [
        "56893.7742145 56894.7584364 "
       ]
      },
      {
       "output_type": "stream",
       "stream": "stdout",
       "text": [
        "\n",
        "56889.7312269 56890.7344779 56891.7214011 "
       ]
      },
      {
       "output_type": "stream",
       "stream": "stdout",
       "text": [
        "56893.7742145 56894.7584364 "
       ]
      },
      {
       "output_type": "stream",
       "stream": "stdout",
       "text": [
        "\n",
        "56889.7312269 56890.7344779 56891.7214011 "
       ]
      },
      {
       "output_type": "stream",
       "stream": "stdout",
       "text": [
        "56893.7742145 56894.7584364 "
       ]
      },
      {
       "output_type": "stream",
       "stream": "stdout",
       "text": [
        "\n",
        "56889.7312269 56890.7344779 56891.7214011 "
       ]
      },
      {
       "output_type": "stream",
       "stream": "stdout",
       "text": [
        "56893.7742145 56894.7584364 "
       ]
      },
      {
       "output_type": "stream",
       "stream": "stdout",
       "text": [
        "\n",
        "56889.7312269 56890.7344779 56891.7214011 "
       ]
      },
      {
       "output_type": "stream",
       "stream": "stdout",
       "text": [
        "56893.7742145 56894.7584364 "
       ]
      },
      {
       "output_type": "stream",
       "stream": "stdout",
       "text": [
        "\n",
        "56889.7312269 56890.7344779 56891.7214011 "
       ]
      },
      {
       "output_type": "stream",
       "stream": "stdout",
       "text": [
        "56893.7742145 56894.7584364 "
       ]
      },
      {
       "output_type": "stream",
       "stream": "stdout",
       "text": [
        "\n",
        "56889.7312269 56890.7344779 "
       ]
      },
      {
       "output_type": "stream",
       "stream": "stdout",
       "text": [
        "56891.7214011 56893.7742145 "
       ]
      },
      {
       "output_type": "stream",
       "stream": "stdout",
       "text": [
        "56894.7584364 \n",
        "56889.7312269 "
       ]
      },
      {
       "output_type": "stream",
       "stream": "stdout",
       "text": [
        "56890.7344779 56891.7214011 "
       ]
      },
      {
       "output_type": "stream",
       "stream": "stdout",
       "text": [
        "56893.7742145 56894.7584364 "
       ]
      },
      {
       "output_type": "stream",
       "stream": "stdout",
       "text": [
        "\n",
        "56889.7312269 56890.7344779 "
       ]
      },
      {
       "output_type": "stream",
       "stream": "stdout",
       "text": [
        "56891.7214011 56893.7742145 "
       ]
      },
      {
       "output_type": "stream",
       "stream": "stdout",
       "text": [
        "56894.7584364 \n",
        "56889.7312269 "
       ]
      },
      {
       "output_type": "stream",
       "stream": "stdout",
       "text": [
        "56890.7344779 56891.7214011 "
       ]
      },
      {
       "output_type": "stream",
       "stream": "stdout",
       "text": [
        "56893.7742145 56894.7584364 "
       ]
      },
      {
       "output_type": "stream",
       "stream": "stdout",
       "text": [
        "\n",
        "Giant05"
       ]
      },
      {
       "output_type": "stream",
       "stream": "stdout",
       "text": [
        "\n",
        "56889.7312269"
       ]
      },
      {
       "output_type": "stream",
       "stream": "stdout",
       "text": [
        " 56890.7344779 56891.7214011 56893.7742145 "
       ]
      },
      {
       "output_type": "stream",
       "stream": "stdout",
       "text": [
        "56894.7584364 "
       ]
      },
      {
       "output_type": "stream",
       "stream": "stdout",
       "text": [
        "\n",
        "56889.7312269 56890.7344779 56891.7214011 "
       ]
      },
      {
       "output_type": "stream",
       "stream": "stdout",
       "text": [
        "56893.7742145 56894.7584364 "
       ]
      },
      {
       "output_type": "stream",
       "stream": "stdout",
       "text": [
        "\n",
        "56889.7312269 56890.7344779 56891.7214011 "
       ]
      },
      {
       "output_type": "stream",
       "stream": "stdout",
       "text": [
        "56893.7742145 56894.7584364 "
       ]
      },
      {
       "output_type": "stream",
       "stream": "stdout",
       "text": [
        "\n",
        "56889.7312269 56890.7344779 56891.7214011 "
       ]
      },
      {
       "output_type": "stream",
       "stream": "stdout",
       "text": [
        "56893.7742145 56894.7584364 "
       ]
      },
      {
       "output_type": "stream",
       "stream": "stdout",
       "text": [
        "\n",
        "56889.7312269 56890.7344779 56891.7214011 "
       ]
      },
      {
       "output_type": "stream",
       "stream": "stdout",
       "text": [
        "56893.7742145 56894.7584364 "
       ]
      },
      {
       "output_type": "stream",
       "stream": "stdout",
       "text": [
        "\n",
        "56889.7312269 56890.7344779 56891.7214011 "
       ]
      },
      {
       "output_type": "stream",
       "stream": "stdout",
       "text": [
        "56893.7742145 56894.7584364 "
       ]
      },
      {
       "output_type": "stream",
       "stream": "stdout",
       "text": [
        "\n",
        "56889.7312269 56890.7344779 56891.7214011 "
       ]
      },
      {
       "output_type": "stream",
       "stream": "stdout",
       "text": [
        "56893.7742145 56894.7584364 "
       ]
      },
      {
       "output_type": "stream",
       "stream": "stdout",
       "text": [
        "\n",
        "56889.7312269 56890.7344779 56891.7214011 "
       ]
      },
      {
       "output_type": "stream",
       "stream": "stdout",
       "text": [
        "56893.7742145 56894.7584364 "
       ]
      },
      {
       "output_type": "stream",
       "stream": "stdout",
       "text": [
        "\n",
        "56889.7312269 56890.7344779 "
       ]
      },
      {
       "output_type": "stream",
       "stream": "stdout",
       "text": [
        "56891.7214011 56893.7742145 "
       ]
      },
      {
       "output_type": "stream",
       "stream": "stdout",
       "text": [
        "56894.7584364 \n",
        "56889.7312269 "
       ]
      },
      {
       "output_type": "stream",
       "stream": "stdout",
       "text": [
        "56890.7344779 56891.7214011 "
       ]
      },
      {
       "output_type": "stream",
       "stream": "stdout",
       "text": [
        "56893.7742145 56894.7584364 "
       ]
      },
      {
       "output_type": "stream",
       "stream": "stdout",
       "text": [
        "\n",
        "56889.7312269 56890.7344779 "
       ]
      },
      {
       "output_type": "stream",
       "stream": "stdout",
       "text": [
        "56891.7214011 "
       ]
      },
      {
       "output_type": "stream",
       "stream": "stdout",
       "text": [
        "56893.7742145 "
       ]
      },
      {
       "output_type": "stream",
       "stream": "stdout",
       "text": [
        "56894.7584364 "
       ]
      },
      {
       "output_type": "stream",
       "stream": "stdout",
       "text": [
        "\n",
        "56889.7312269 56890.7344779 "
       ]
      },
      {
       "output_type": "stream",
       "stream": "stdout",
       "text": [
        "56891.7214011 56893.7742145 "
       ]
      },
      {
       "output_type": "stream",
       "stream": "stdout",
       "text": [
        "56894.7584364 \n",
        "Field14"
       ]
      },
      {
       "output_type": "stream",
       "stream": "stdout",
       "text": [
        "\n",
        "56889.7312269"
       ]
      },
      {
       "output_type": "stream",
       "stream": "stdout",
       "text": [
        " 56890.7344779 56891.7214011 56893.7742145 "
       ]
      },
      {
       "output_type": "stream",
       "stream": "stdout",
       "text": [
        "56894.7584364 "
       ]
      },
      {
       "output_type": "stream",
       "stream": "stdout",
       "text": [
        "\n",
        "56889.7312269 56890.7344779 56891.7214011 "
       ]
      },
      {
       "output_type": "stream",
       "stream": "stdout",
       "text": [
        "56893.7742145 56894.7584364 "
       ]
      },
      {
       "output_type": "stream",
       "stream": "stdout",
       "text": [
        "\n",
        "56889.7312269 56890.7344779 56891.7214011 "
       ]
      },
      {
       "output_type": "stream",
       "stream": "stdout",
       "text": [
        "56893.7742145 56894.7584364 "
       ]
      },
      {
       "output_type": "stream",
       "stream": "stdout",
       "text": [
        "\n",
        "56889.7312269 56890.7344779 56891.7214011 "
       ]
      },
      {
       "output_type": "stream",
       "stream": "stdout",
       "text": [
        "56893.7742145 56894.7584364 "
       ]
      },
      {
       "output_type": "stream",
       "stream": "stdout",
       "text": [
        "\n",
        "56889.7312269 56890.7344779 56891.7214011 "
       ]
      },
      {
       "output_type": "stream",
       "stream": "stdout",
       "text": [
        "56893.7742145 56894.7584364 "
       ]
      },
      {
       "output_type": "stream",
       "stream": "stdout",
       "text": [
        "\n",
        "56889.7312269 56890.7344779 56891.7214011 "
       ]
      },
      {
       "output_type": "stream",
       "stream": "stdout",
       "text": [
        "56893.7742145 56894.7584364 "
       ]
      },
      {
       "output_type": "stream",
       "stream": "stdout",
       "text": [
        "\n",
        "56889.7312269 56890.7344779 56891.7214011 "
       ]
      },
      {
       "output_type": "stream",
       "stream": "stdout",
       "text": [
        "56893.7742145 56894.7584364 "
       ]
      },
      {
       "output_type": "stream",
       "stream": "stdout",
       "text": [
        "\n",
        "56889.7312269 56890.7344779 56891.7214011 "
       ]
      },
      {
       "output_type": "stream",
       "stream": "stdout",
       "text": [
        "56893.7742145 56894.7584364 "
       ]
      },
      {
       "output_type": "stream",
       "stream": "stdout",
       "text": [
        "\n",
        "56889.7312269 56890.7344779 "
       ]
      },
      {
       "output_type": "stream",
       "stream": "stdout",
       "text": [
        "56891.7214011 56893.7742145 "
       ]
      },
      {
       "output_type": "stream",
       "stream": "stdout",
       "text": [
        "56894.7584364 \n",
        "56889.7312269 "
       ]
      },
      {
       "output_type": "stream",
       "stream": "stdout",
       "text": [
        "56890.7344779 56891.7214011 "
       ]
      },
      {
       "output_type": "stream",
       "stream": "stdout",
       "text": [
        "56893.7742145 56894.7584364 "
       ]
      },
      {
       "output_type": "stream",
       "stream": "stdout",
       "text": [
        "\n",
        "56889.7312269 56890.7344779 "
       ]
      },
      {
       "output_type": "stream",
       "stream": "stdout",
       "text": [
        "56891.7214011 56893.7742145 "
       ]
      },
      {
       "output_type": "stream",
       "stream": "stdout",
       "text": [
        "56894.7584364 \n",
        "56889.7312269 "
       ]
      },
      {
       "output_type": "stream",
       "stream": "stdout",
       "text": [
        "56890.7344779 56891.7214011 "
       ]
      },
      {
       "output_type": "stream",
       "stream": "stdout",
       "text": [
        "56893.7742145 56894.7584364 "
       ]
      },
      {
       "output_type": "stream",
       "stream": "stdout",
       "text": [
        "\n",
        "Giant01"
       ]
      },
      {
       "output_type": "stream",
       "stream": "stdout",
       "text": [
        "\n",
        "56889.7312269"
       ]
      },
      {
       "output_type": "stream",
       "stream": "stdout",
       "text": [
        " 56890.7344779 56891.7214011 56893.7742145 "
       ]
      },
      {
       "output_type": "stream",
       "stream": "stdout",
       "text": [
        "56894.7584364 "
       ]
      },
      {
       "output_type": "stream",
       "stream": "stdout",
       "text": [
        "\n",
        "56889.7312269 56890.7344779 56891.7214011 56893.7742145 "
       ]
      },
      {
       "output_type": "stream",
       "stream": "stdout",
       "text": [
        "56894.7584364 "
       ]
      },
      {
       "output_type": "stream",
       "stream": "stdout",
       "text": [
        "\n",
        "56889.7312269 56890.7344779 56891.7214011 "
       ]
      },
      {
       "output_type": "stream",
       "stream": "stdout",
       "text": [
        "56893.7742145 56894.7584364 "
       ]
      },
      {
       "output_type": "stream",
       "stream": "stdout",
       "text": [
        "\n",
        "56889.7312269 56890.7344779 56891.7214011 "
       ]
      },
      {
       "output_type": "stream",
       "stream": "stdout",
       "text": [
        "56893.7742145 56894.7584364 "
       ]
      },
      {
       "output_type": "stream",
       "stream": "stdout",
       "text": [
        "\n",
        "56889.7312269 56890.7344779 56891.7214011 "
       ]
      },
      {
       "output_type": "stream",
       "stream": "stdout",
       "text": [
        "56893.7742145 56894.7584364 "
       ]
      },
      {
       "output_type": "stream",
       "stream": "stdout",
       "text": [
        "\n",
        "56889.7312269 56890.7344779 56891.7214011 "
       ]
      },
      {
       "output_type": "stream",
       "stream": "stdout",
       "text": [
        "56893.7742145 56894.7584364 "
       ]
      },
      {
       "output_type": "stream",
       "stream": "stdout",
       "text": [
        "\n",
        "56889.7312269 56890.7344779 56891.7214011 "
       ]
      },
      {
       "output_type": "stream",
       "stream": "stdout",
       "text": [
        "56893.7742145 56894.7584364 "
       ]
      },
      {
       "output_type": "stream",
       "stream": "stdout",
       "text": [
        "\n",
        "56889.7312269 56890.7344779 56891.7214011 56893.7742145 "
       ]
      },
      {
       "output_type": "stream",
       "stream": "stdout",
       "text": [
        "56894.7584364 \n",
        "56889.7312269 "
       ]
      },
      {
       "output_type": "stream",
       "stream": "stdout",
       "text": [
        "56890.7344779 56891.7214011 "
       ]
      },
      {
       "output_type": "stream",
       "stream": "stdout",
       "text": [
        "56893.7742145 56894.7584364 "
       ]
      },
      {
       "output_type": "stream",
       "stream": "stdout",
       "text": [
        "\n",
        "56889.7312269 56890.7344779 "
       ]
      },
      {
       "output_type": "stream",
       "stream": "stdout",
       "text": [
        "56891.7214011 56893.7742145 "
       ]
      },
      {
       "output_type": "stream",
       "stream": "stdout",
       "text": [
        "56894.7584364 \n",
        "56889.7312269 "
       ]
      },
      {
       "output_type": "stream",
       "stream": "stdout",
       "text": [
        "56890.7344779 56891.7214011 "
       ]
      },
      {
       "output_type": "stream",
       "stream": "stdout",
       "text": [
        "56893.7742145 56894.7584364 "
       ]
      },
      {
       "output_type": "stream",
       "stream": "stdout",
       "text": [
        "\n",
        "56889.7312269 56890.7344779 "
       ]
      },
      {
       "output_type": "stream",
       "stream": "stdout",
       "text": [
        "56891.7214011 56893.7742145 "
       ]
      },
      {
       "output_type": "stream",
       "stream": "stdout",
       "text": [
        "56894.7584364 \n",
        "Giant34"
       ]
      },
      {
       "output_type": "stream",
       "stream": "stdout",
       "text": [
        "\n",
        "56889.7312269"
       ]
      },
      {
       "output_type": "stream",
       "stream": "stdout",
       "text": [
        " 56890.7344779 56891.7214011 56893.7742145 56894.7584364 "
       ]
      },
      {
       "output_type": "stream",
       "stream": "stdout",
       "text": [
        "\n",
        "56889.7312269 56890.7344779 56891.7214011 56893.7742145 "
       ]
      },
      {
       "output_type": "stream",
       "stream": "stdout",
       "text": [
        "56894.7584364 "
       ]
      },
      {
       "output_type": "stream",
       "stream": "stdout",
       "text": [
        "\n",
        "56889.7312269 56890.7344779 56891.7214011 56893.7742145 "
       ]
      },
      {
       "output_type": "stream",
       "stream": "stdout",
       "text": [
        "56894.7584364 "
       ]
      },
      {
       "output_type": "stream",
       "stream": "stdout",
       "text": [
        "\n",
        "56889.7312269 56890.7344779 56891.7214011 56893.7742145 "
       ]
      },
      {
       "output_type": "stream",
       "stream": "stdout",
       "text": [
        "56894.7584364 "
       ]
      },
      {
       "output_type": "stream",
       "stream": "stdout",
       "text": [
        "\n",
        "56889.7312269 56890.7344779 56891.7214011 56893.7742145 "
       ]
      },
      {
       "output_type": "stream",
       "stream": "stdout",
       "text": [
        "56894.7584364 \n",
        "56889.7312269 "
       ]
      },
      {
       "output_type": "stream",
       "stream": "stdout",
       "text": [
        "56890.7344779 56891.7214011 56893.7742145 "
       ]
      },
      {
       "output_type": "stream",
       "stream": "stdout",
       "text": [
        "56894.7584364 \n",
        "56889.7312269 "
       ]
      },
      {
       "output_type": "stream",
       "stream": "stdout",
       "text": [
        "56890.7344779 56891.7214011 56893.7742145 56894.7584364 "
       ]
      },
      {
       "output_type": "stream",
       "stream": "stdout",
       "text": [
        "\n",
        "56889.7312269 56890.7344779 56891.7214011 56893.7742145 "
       ]
      },
      {
       "output_type": "stream",
       "stream": "stdout",
       "text": [
        "56894.7584364 \n",
        "56889.7312269 "
       ]
      },
      {
       "output_type": "stream",
       "stream": "stdout",
       "text": [
        "56890.7344779 56891.7214011 "
       ]
      },
      {
       "output_type": "stream",
       "stream": "stdout",
       "text": [
        "56893.7742145 56894.7584364 "
       ]
      },
      {
       "output_type": "stream",
       "stream": "stdout",
       "text": [
        "\n",
        "56889.7312269 56890.7344779 "
       ]
      },
      {
       "output_type": "stream",
       "stream": "stdout",
       "text": [
        "56891.7214011 56893.7742145 "
       ]
      },
      {
       "output_type": "stream",
       "stream": "stdout",
       "text": [
        "56894.7584364 \n",
        "56889.7312269 "
       ]
      },
      {
       "output_type": "stream",
       "stream": "stdout",
       "text": [
        "56890.7344779 56891.7214011 "
       ]
      },
      {
       "output_type": "stream",
       "stream": "stdout",
       "text": [
        "56893.7742145 56894.7584364 "
       ]
      },
      {
       "output_type": "stream",
       "stream": "stdout",
       "text": [
        "\n",
        "56889.7312269 56890.7344779 "
       ]
      },
      {
       "output_type": "stream",
       "stream": "stdout",
       "text": [
        "56891.7214011 56893.7742145 "
       ]
      },
      {
       "output_type": "stream",
       "stream": "stdout",
       "text": [
        "56894.7584364 \n",
        "Field07"
       ]
      },
      {
       "output_type": "stream",
       "stream": "stdout",
       "text": [
        "\n",
        "56889.7312269"
       ]
      },
      {
       "output_type": "stream",
       "stream": "stdout",
       "text": [
        " 56890.7344779 56891.7214011 56893.7742145 56894.7584364 "
       ]
      },
      {
       "output_type": "stream",
       "stream": "stdout",
       "text": [
        "\n",
        "56889.7312269 56890.7344779 56891.7214011 56893.7742145 "
       ]
      },
      {
       "output_type": "stream",
       "stream": "stdout",
       "text": [
        "56894.7584364 "
       ]
      },
      {
       "output_type": "stream",
       "stream": "stdout",
       "text": [
        "\n",
        "56889.7312269 56890.7344779 56891.7214011 56893.7742145 "
       ]
      },
      {
       "output_type": "stream",
       "stream": "stdout",
       "text": [
        "56894.7584364 "
       ]
      },
      {
       "output_type": "stream",
       "stream": "stdout",
       "text": [
        "\n",
        "56889.7312269 56890.7344779 56891.7214011 56893.7742145 "
       ]
      },
      {
       "output_type": "stream",
       "stream": "stdout",
       "text": [
        "56894.7584364 "
       ]
      },
      {
       "output_type": "stream",
       "stream": "stdout",
       "text": [
        "\n",
        "56889.7312269 56890.7344779 56891.7214011 "
       ]
      },
      {
       "output_type": "stream",
       "stream": "stdout",
       "text": [
        "56893.7742145 56894.7584364 "
       ]
      },
      {
       "output_type": "stream",
       "stream": "stdout",
       "text": [
        "\n",
        "56889.7312269 56890.7344779 56891.7214011 "
       ]
      },
      {
       "output_type": "stream",
       "stream": "stdout",
       "text": [
        "56893.7742145 56894.7584364 "
       ]
      },
      {
       "output_type": "stream",
       "stream": "stdout",
       "text": [
        "\n",
        "56889.7312269 56890.7344779 56891.7214011 "
       ]
      },
      {
       "output_type": "stream",
       "stream": "stdout",
       "text": [
        "56893.7742145 56894.7584364 \n",
        "56889.7312269 "
       ]
      },
      {
       "output_type": "stream",
       "stream": "stdout",
       "text": [
        "56890.7344779 56891.7214011 56893.7742145 56894.7584364 "
       ]
      },
      {
       "output_type": "stream",
       "stream": "stdout",
       "text": [
        "\n",
        "56889.7312269 56890.7344779 "
       ]
      },
      {
       "output_type": "stream",
       "stream": "stdout",
       "text": [
        "56891.7214011 56893.7742145 "
       ]
      },
      {
       "output_type": "stream",
       "stream": "stdout",
       "text": [
        "56894.7584364 \n",
        "56889.7312269 "
       ]
      },
      {
       "output_type": "stream",
       "stream": "stdout",
       "text": [
        "56890.7344779 56891.7214011 "
       ]
      },
      {
       "output_type": "stream",
       "stream": "stdout",
       "text": [
        "56893.7742145 56894.7584364 "
       ]
      },
      {
       "output_type": "stream",
       "stream": "stdout",
       "text": [
        "\n",
        "56889.7312269 56890.7344779 "
       ]
      },
      {
       "output_type": "stream",
       "stream": "stdout",
       "text": [
        "56891.7214011 56893.7742145 "
       ]
      },
      {
       "output_type": "stream",
       "stream": "stdout",
       "text": [
        "56894.7584364 \n",
        "56889.7312269 "
       ]
      },
      {
       "output_type": "stream",
       "stream": "stdout",
       "text": [
        "56890.7344779 56891.7214011 "
       ]
      },
      {
       "output_type": "stream",
       "stream": "stdout",
       "text": [
        "56893.7742145 56894.7584364 "
       ]
      },
      {
       "output_type": "stream",
       "stream": "stdout",
       "text": [
        "\n",
        "Field13"
       ]
      },
      {
       "output_type": "stream",
       "stream": "stdout",
       "text": [
        "\n",
        "56889.7312269"
       ]
      },
      {
       "output_type": "stream",
       "stream": "stdout",
       "text": [
        " 56890.7344779 56891.7214011 56893.7742145 56894.7584364 "
       ]
      },
      {
       "output_type": "stream",
       "stream": "stdout",
       "text": [
        "\n",
        "56889.7312269 56890.7344779 56891.7214011 56893.7742145 "
       ]
      },
      {
       "output_type": "stream",
       "stream": "stdout",
       "text": [
        "56894.7584364 "
       ]
      },
      {
       "output_type": "stream",
       "stream": "stdout",
       "text": [
        "\n",
        "56889.7312269 56890.7344779 56891.7214011 56893.7742145 "
       ]
      },
      {
       "output_type": "stream",
       "stream": "stdout",
       "text": [
        "56894.7584364 "
       ]
      },
      {
       "output_type": "stream",
       "stream": "stdout",
       "text": [
        "\n",
        "56889.7312269 56890.7344779 56891.7214011 56893.7742145 "
       ]
      },
      {
       "output_type": "stream",
       "stream": "stdout",
       "text": [
        "56894.7584364 "
       ]
      },
      {
       "output_type": "stream",
       "stream": "stdout",
       "text": [
        "\n",
        "56889.7312269 56890.7344779 56891.7214011 "
       ]
      },
      {
       "output_type": "stream",
       "stream": "stdout",
       "text": [
        "56893.7742145 56894.7584364 "
       ]
      },
      {
       "output_type": "stream",
       "stream": "stdout",
       "text": [
        "\n",
        "56889.7312269 56890.7344779 56891.7214011 "
       ]
      },
      {
       "output_type": "stream",
       "stream": "stdout",
       "text": [
        "56893.7742145 56894.7584364 "
       ]
      },
      {
       "output_type": "stream",
       "stream": "stdout",
       "text": [
        "\n",
        "56889.7312269 56890.7344779 56891.7214011 56893.7742145 "
       ]
      },
      {
       "output_type": "stream",
       "stream": "stdout",
       "text": [
        "56894.7584364 \n",
        "56889.7312269 56890.7344779 "
       ]
      },
      {
       "output_type": "stream",
       "stream": "stdout",
       "text": [
        "56891.7214011 56893.7742145 56894.7584364 "
       ]
      },
      {
       "output_type": "stream",
       "stream": "stdout",
       "text": [
        "\n",
        "56889.7312269 56890.7344779 "
       ]
      },
      {
       "output_type": "stream",
       "stream": "stdout",
       "text": [
        "56891.7214011 56893.7742145 "
       ]
      },
      {
       "output_type": "stream",
       "stream": "stdout",
       "text": [
        "56894.7584364 \n",
        "56889.7312269 "
       ]
      },
      {
       "output_type": "stream",
       "stream": "stdout",
       "text": [
        "56890.7344779 56891.7214011 "
       ]
      },
      {
       "output_type": "stream",
       "stream": "stdout",
       "text": [
        "56893.7742145 56894.7584364 "
       ]
      },
      {
       "output_type": "stream",
       "stream": "stdout",
       "text": [
        "\n",
        "56889.7312269 56890.7344779 "
       ]
      },
      {
       "output_type": "stream",
       "stream": "stdout",
       "text": [
        "56891.7214011 56893.7742145 "
       ]
      },
      {
       "output_type": "stream",
       "stream": "stdout",
       "text": [
        "56894.7584364 \n",
        "56889.7312269 "
       ]
      },
      {
       "output_type": "stream",
       "stream": "stdout",
       "text": [
        "56890.7344779 56891.7214011 "
       ]
      },
      {
       "output_type": "stream",
       "stream": "stdout",
       "text": [
        "56893.7742145 56894.7584364 "
       ]
      },
      {
       "output_type": "stream",
       "stream": "stdout",
       "text": [
        "\n",
        "Giant17"
       ]
      },
      {
       "output_type": "stream",
       "stream": "stdout",
       "text": [
        "\n",
        "56889.7312269"
       ]
      },
      {
       "output_type": "stream",
       "stream": "stdout",
       "text": [
        " 56890.7344779 56891.7214011 56893.7742145 56894.7584364 "
       ]
      },
      {
       "output_type": "stream",
       "stream": "stdout",
       "text": [
        "\n",
        "56889.7312269 56890.7344779 56891.7214011 56893.7742145 "
       ]
      },
      {
       "output_type": "stream",
       "stream": "stdout",
       "text": [
        "56894.7584364 "
       ]
      },
      {
       "output_type": "stream",
       "stream": "stdout",
       "text": [
        "\n",
        "56889.7312269 56890.7344779 56891.7214011 56893.7742145 "
       ]
      },
      {
       "output_type": "stream",
       "stream": "stdout",
       "text": [
        "56894.7584364 "
       ]
      },
      {
       "output_type": "stream",
       "stream": "stdout",
       "text": [
        "\n",
        "56889.7312269 56890.7344779 56891.7214011 56893.7742145 "
       ]
      },
      {
       "output_type": "stream",
       "stream": "stdout",
       "text": [
        "56894.7584364 "
       ]
      },
      {
       "output_type": "stream",
       "stream": "stdout",
       "text": [
        "\n",
        "56889.7312269 56890.7344779 56891.7214011 56893.7742145 "
       ]
      },
      {
       "output_type": "stream",
       "stream": "stdout",
       "text": [
        "56894.7584364 \n",
        "56889.7312269 "
       ]
      },
      {
       "output_type": "stream",
       "stream": "stdout",
       "text": [
        "56890.7344779 56891.7214011 56893.7742145 56894.7584364 "
       ]
      },
      {
       "output_type": "stream",
       "stream": "stdout",
       "text": [
        "\n",
        "56889.7312269 56890.7344779 56891.7214011 "
       ]
      },
      {
       "output_type": "stream",
       "stream": "stdout",
       "text": [
        "56893.7742145 56894.7584364 "
       ]
      },
      {
       "output_type": "stream",
       "stream": "stdout",
       "text": [
        "\n",
        "56889.7312269 56890.7344779 56891.7214011 56893.7742145 "
       ]
      },
      {
       "output_type": "stream",
       "stream": "stdout",
       "text": [
        "56894.7584364 \n",
        "56889.7312269 "
       ]
      },
      {
       "output_type": "stream",
       "stream": "stdout",
       "text": [
        "56890.7344779 56891.7214011 "
       ]
      },
      {
       "output_type": "stream",
       "stream": "stdout",
       "text": [
        "56893.7742145 56894.7584364 "
       ]
      },
      {
       "output_type": "stream",
       "stream": "stdout",
       "text": [
        "\n",
        "56889.7312269 56890.7344779 "
       ]
      },
      {
       "output_type": "stream",
       "stream": "stdout",
       "text": [
        "56891.7214011 56893.7742145 "
       ]
      },
      {
       "output_type": "stream",
       "stream": "stdout",
       "text": [
        "56894.7584364 \n",
        "56889.7312269 "
       ]
      },
      {
       "output_type": "stream",
       "stream": "stdout",
       "text": [
        "56890.7344779 56891.7214011 "
       ]
      },
      {
       "output_type": "stream",
       "stream": "stdout",
       "text": [
        "56893.7742145 56894.7584364 "
       ]
      },
      {
       "output_type": "stream",
       "stream": "stdout",
       "text": [
        "\n",
        "56889.7312269 56890.7344779 "
       ]
      },
      {
       "output_type": "stream",
       "stream": "stdout",
       "text": [
        "56891.7214011 56893.7742145 "
       ]
      },
      {
       "output_type": "stream",
       "stream": "stdout",
       "text": [
        "56894.7584364 \n",
        "Field18"
       ]
      },
      {
       "output_type": "stream",
       "stream": "stdout",
       "text": [
        "\n",
        "56889.7312269"
       ]
      },
      {
       "output_type": "stream",
       "stream": "stdout",
       "text": [
        " 56890.7344779 56891.7214011 56893.7742145 56894.7584364 "
       ]
      },
      {
       "output_type": "stream",
       "stream": "stdout",
       "text": [
        "\n",
        "56889.7312269 56890.7344779 56891.7214011 56893.7742145 "
       ]
      },
      {
       "output_type": "stream",
       "stream": "stdout",
       "text": [
        "56894.7584364 "
       ]
      },
      {
       "output_type": "stream",
       "stream": "stdout",
       "text": [
        "\n",
        "56889.7312269 56890.7344779 56891.7214011 56893.7742145 "
       ]
      },
      {
       "output_type": "stream",
       "stream": "stdout",
       "text": [
        "56894.7584364 "
       ]
      },
      {
       "output_type": "stream",
       "stream": "stdout",
       "text": [
        "\n",
        "56889.7312269 56890.7344779 56891.7214011 56893.7742145 "
       ]
      },
      {
       "output_type": "stream",
       "stream": "stdout",
       "text": [
        "56894.7584364 "
       ]
      },
      {
       "output_type": "stream",
       "stream": "stdout",
       "text": [
        "\n",
        "56889.7312269 56890.7344779 56891.7214011 "
       ]
      },
      {
       "output_type": "stream",
       "stream": "stdout",
       "text": [
        "56893.7742145 56894.7584364 "
       ]
      },
      {
       "output_type": "stream",
       "stream": "stdout",
       "text": [
        "\n",
        "56889.7312269 56890.7344779 56891.7214011 "
       ]
      },
      {
       "output_type": "stream",
       "stream": "stdout",
       "text": [
        "56893.7742145 56894.7584364 "
       ]
      },
      {
       "output_type": "stream",
       "stream": "stdout",
       "text": [
        "\n",
        "56889.7312269 56890.7344779 56891.7214011 56893.7742145 "
       ]
      },
      {
       "output_type": "stream",
       "stream": "stdout",
       "text": [
        "56894.7584364 \n",
        "56889.7312269 56890.7344779 "
       ]
      },
      {
       "output_type": "stream",
       "stream": "stdout",
       "text": [
        "56891.7214011 56893.7742145 56894.7584364 "
       ]
      },
      {
       "output_type": "stream",
       "stream": "stdout",
       "text": [
        "\n",
        "56889.7312269 56890.7344779 "
       ]
      },
      {
       "output_type": "stream",
       "stream": "stdout",
       "text": [
        "56891.7214011 56893.7742145 "
       ]
      },
      {
       "output_type": "stream",
       "stream": "stdout",
       "text": [
        "56894.7584364 \n",
        "56889.7312269 "
       ]
      },
      {
       "output_type": "stream",
       "stream": "stdout",
       "text": [
        "56890.7344779 56891.7214011 "
       ]
      },
      {
       "output_type": "stream",
       "stream": "stdout",
       "text": [
        "56893.7742145 56894.7584364 "
       ]
      },
      {
       "output_type": "stream",
       "stream": "stdout",
       "text": [
        "\n",
        "56889.7312269 56890.7344779 "
       ]
      },
      {
       "output_type": "stream",
       "stream": "stdout",
       "text": [
        "56891.7214011 56893.7742145 "
       ]
      },
      {
       "output_type": "stream",
       "stream": "stdout",
       "text": [
        "56894.7584364 \n",
        "56889.7312269 "
       ]
      },
      {
       "output_type": "stream",
       "stream": "stdout",
       "text": [
        "56890.7344779 56891.7214011 "
       ]
      },
      {
       "output_type": "stream",
       "stream": "stdout",
       "text": [
        "56893.7742145 56894.7584364 "
       ]
      },
      {
       "output_type": "stream",
       "stream": "stdout",
       "text": [
        "\n",
        "Giant09"
       ]
      },
      {
       "output_type": "stream",
       "stream": "stdout",
       "text": [
        "\n",
        "56889.7312269"
       ]
      },
      {
       "output_type": "stream",
       "stream": "stdout",
       "text": [
        " 56890.7344779 56891.7214011 56893.7742145 56894.7584364 "
       ]
      },
      {
       "output_type": "stream",
       "stream": "stdout",
       "text": [
        "\n",
        "56889.7312269 56890.7344779 56891.7214011 56893.7742145 "
       ]
      },
      {
       "output_type": "stream",
       "stream": "stdout",
       "text": [
        "56894.7584364 "
       ]
      },
      {
       "output_type": "stream",
       "stream": "stdout",
       "text": [
        "\n",
        "56889.7312269 56890.7344779 56891.7214011 56893.7742145 "
       ]
      },
      {
       "output_type": "stream",
       "stream": "stdout",
       "text": [
        "56894.7584364 "
       ]
      },
      {
       "output_type": "stream",
       "stream": "stdout",
       "text": [
        "\n",
        "56889.7312269 56890.7344779 56891.7214011 "
       ]
      },
      {
       "output_type": "stream",
       "stream": "stdout",
       "text": [
        "56893.7742145 56894.7584364 "
       ]
      },
      {
       "output_type": "stream",
       "stream": "stdout",
       "text": [
        "\n",
        "56889.7312269 56890.7344779 56891.7214011 "
       ]
      },
      {
       "output_type": "stream",
       "stream": "stdout",
       "text": [
        "56893.7742145 56894.7584364 "
       ]
      },
      {
       "output_type": "stream",
       "stream": "stdout",
       "text": [
        "\n",
        "56889.7312269 56890.7344779 56891.7214011 56893.7742145 "
       ]
      },
      {
       "output_type": "stream",
       "stream": "stdout",
       "text": [
        "56894.7584364 \n",
        "56889.7312269 "
       ]
      },
      {
       "output_type": "stream",
       "stream": "stdout",
       "text": [
        "56890.7344779 56891.7214011 56893.7742145 56894.7584364 "
       ]
      },
      {
       "output_type": "stream",
       "stream": "stdout",
       "text": [
        "\n",
        "56889.7312269 56890.7344779 56891.7214011 56893.7742145 "
       ]
      },
      {
       "output_type": "stream",
       "stream": "stdout",
       "text": [
        "56894.7584364 \n",
        "56889.7312269 "
       ]
      },
      {
       "output_type": "stream",
       "stream": "stdout",
       "text": [
        "56890.7344779 56891.7214011 "
       ]
      },
      {
       "output_type": "stream",
       "stream": "stdout",
       "text": [
        "56893.7742145 56894.7584364 "
       ]
      },
      {
       "output_type": "stream",
       "stream": "stdout",
       "text": [
        "\n",
        "56889.7312269 56890.7344779 "
       ]
      },
      {
       "output_type": "stream",
       "stream": "stdout",
       "text": [
        "56891.7214011 56893.7742145 "
       ]
      },
      {
       "output_type": "stream",
       "stream": "stdout",
       "text": [
        "56894.7584364 \n",
        "56889.7312269 "
       ]
      },
      {
       "output_type": "stream",
       "stream": "stdout",
       "text": [
        "56890.7344779 56891.7214011 "
       ]
      },
      {
       "output_type": "stream",
       "stream": "stdout",
       "text": [
        "56893.7742145 56894.7584364 "
       ]
      },
      {
       "output_type": "stream",
       "stream": "stdout",
       "text": [
        "\n",
        "56889.7312269 56890.7344779 "
       ]
      },
      {
       "output_type": "stream",
       "stream": "stdout",
       "text": [
        "56891.7214011 56893.7742145 "
       ]
      },
      {
       "output_type": "stream",
       "stream": "stdout",
       "text": [
        "56894.7584364 \n",
        "Giant06"
       ]
      },
      {
       "output_type": "stream",
       "stream": "stdout",
       "text": [
        "\n",
        "56889.7312269"
       ]
      },
      {
       "output_type": "stream",
       "stream": "stdout",
       "text": [
        " 56890.7344779 56891.7214011 56893.7742145 56894.7584364 "
       ]
      },
      {
       "output_type": "stream",
       "stream": "stdout",
       "text": [
        "\n",
        "56889.7312269 56890.7344779 56891.7214011 56893.7742145 "
       ]
      },
      {
       "output_type": "stream",
       "stream": "stdout",
       "text": [
        "56894.7584364 "
       ]
      },
      {
       "output_type": "stream",
       "stream": "stdout",
       "text": [
        "\n",
        "56889.7312269 56890.7344779 56891.7214011 56893.7742145 "
       ]
      },
      {
       "output_type": "stream",
       "stream": "stdout",
       "text": [
        "56894.7584364 "
       ]
      },
      {
       "output_type": "stream",
       "stream": "stdout",
       "text": [
        "\n",
        "56889.7312269 56890.7344779 56891.7214011 56893.7742145 "
       ]
      },
      {
       "output_type": "stream",
       "stream": "stdout",
       "text": [
        "56894.7584364 "
       ]
      },
      {
       "output_type": "stream",
       "stream": "stdout",
       "text": [
        "\n",
        "56889.7312269 56890.7344779 56891.7214011 56893.7742145 "
       ]
      },
      {
       "output_type": "stream",
       "stream": "stdout",
       "text": [
        "56894.7584364 \n",
        "56889.7312269 "
       ]
      },
      {
       "output_type": "stream",
       "stream": "stdout",
       "text": [
        "56890.7344779 56891.7214011 56893.7742145 "
       ]
      },
      {
       "output_type": "stream",
       "stream": "stdout",
       "text": [
        "56894.7584364 \n",
        "56889.7312269 "
       ]
      },
      {
       "output_type": "stream",
       "stream": "stdout",
       "text": [
        "56890.7344779 56891.7214011 56893.7742145 "
       ]
      },
      {
       "output_type": "stream",
       "stream": "stdout",
       "text": [
        "56894.7584364 \n",
        "56889.7312269 56890.7344779 "
       ]
      },
      {
       "output_type": "stream",
       "stream": "stdout",
       "text": [
        "56891.7214011 56893.7742145 56894.7584364 "
       ]
      },
      {
       "output_type": "stream",
       "stream": "stdout",
       "text": [
        "\n",
        "56889.7312269 56890.7344779 "
       ]
      },
      {
       "output_type": "stream",
       "stream": "stdout",
       "text": [
        "56891.7214011 56893.7742145 "
       ]
      },
      {
       "output_type": "stream",
       "stream": "stdout",
       "text": [
        "56894.7584364 \n",
        "56889.7312269 "
       ]
      },
      {
       "output_type": "stream",
       "stream": "stdout",
       "text": [
        "56890.7344779 56891.7214011 "
       ]
      },
      {
       "output_type": "stream",
       "stream": "stdout",
       "text": [
        "56893.7742145 56894.7584364 "
       ]
      },
      {
       "output_type": "stream",
       "stream": "stdout",
       "text": [
        "\n",
        "56889.7312269 56890.7344779 "
       ]
      },
      {
       "output_type": "stream",
       "stream": "stdout",
       "text": [
        "56891.7214011 56893.7742145 "
       ]
      },
      {
       "output_type": "stream",
       "stream": "stdout",
       "text": [
        "56894.7584364 \n",
        "56889.7312269 "
       ]
      },
      {
       "output_type": "stream",
       "stream": "stdout",
       "text": [
        "56890.7344779 56891.7214011 "
       ]
      },
      {
       "output_type": "stream",
       "stream": "stdout",
       "text": [
        "56893.7742145 56894.7584364 "
       ]
      },
      {
       "output_type": "stream",
       "stream": "stdout",
       "text": [
        "\n",
        "Field09"
       ]
      },
      {
       "output_type": "stream",
       "stream": "stdout",
       "text": [
        "\n",
        "56889.7312269"
       ]
      },
      {
       "output_type": "stream",
       "stream": "stdout",
       "text": [
        " 56890.7344779 56891.7214011 56893.7742145 56894.7584364 "
       ]
      },
      {
       "output_type": "stream",
       "stream": "stdout",
       "text": [
        "\n",
        "56889.7312269 56890.7344779 56891.7214011 56893.7742145 "
       ]
      },
      {
       "output_type": "stream",
       "stream": "stdout",
       "text": [
        "56894.7584364 "
       ]
      },
      {
       "output_type": "stream",
       "stream": "stdout",
       "text": [
        "\n",
        "56889.7312269 56890.7344779 56891.7214011 56893.7742145 "
       ]
      },
      {
       "output_type": "stream",
       "stream": "stdout",
       "text": [
        "56894.7584364 "
       ]
      },
      {
       "output_type": "stream",
       "stream": "stdout",
       "text": [
        "\n",
        "56889.7312269 56890.7344779 56891.7214011 56893.7742145 "
       ]
      },
      {
       "output_type": "stream",
       "stream": "stdout",
       "text": [
        "56894.7584364 "
       ]
      },
      {
       "output_type": "stream",
       "stream": "stdout",
       "text": [
        "\n",
        "56889.7312269 56890.7344779 56891.7214011 56893.7742145 "
       ]
      },
      {
       "output_type": "stream",
       "stream": "stdout",
       "text": [
        "56894.7584364 \n",
        "56889.7312269 "
       ]
      },
      {
       "output_type": "stream",
       "stream": "stdout",
       "text": [
        "56890.7344779 56891.7214011 56893.7742145 "
       ]
      },
      {
       "output_type": "stream",
       "stream": "stdout",
       "text": [
        "56894.7584364 \n",
        "56889.7312269 "
       ]
      },
      {
       "output_type": "stream",
       "stream": "stdout",
       "text": [
        "56890.7344779 56891.7214011 56893.7742145 56894.7584364 "
       ]
      },
      {
       "output_type": "stream",
       "stream": "stdout",
       "text": [
        "\n",
        "56889.7312269 56890.7344779 56891.7214011 56893.7742145 "
       ]
      },
      {
       "output_type": "stream",
       "stream": "stdout",
       "text": [
        "56894.7584364 \n",
        "56889.7312269 "
       ]
      },
      {
       "output_type": "stream",
       "stream": "stdout",
       "text": [
        "56890.7344779 56891.7214011 "
       ]
      },
      {
       "output_type": "stream",
       "stream": "stdout",
       "text": [
        "56893.7742145 56894.7584364 "
       ]
      },
      {
       "output_type": "stream",
       "stream": "stdout",
       "text": [
        "\n",
        "56889.7312269 56890.7344779 "
       ]
      },
      {
       "output_type": "stream",
       "stream": "stdout",
       "text": [
        "56891.7214011 56893.7742145 "
       ]
      },
      {
       "output_type": "stream",
       "stream": "stdout",
       "text": [
        "56894.7584364 \n",
        "56889.7312269 "
       ]
      },
      {
       "output_type": "stream",
       "stream": "stdout",
       "text": [
        "56890.7344779 56891.7214011 "
       ]
      },
      {
       "output_type": "stream",
       "stream": "stdout",
       "text": [
        "56893.7742145 56894.7584364 "
       ]
      },
      {
       "output_type": "stream",
       "stream": "stdout",
       "text": [
        "\n",
        "56889.7312269 56890.7344779 "
       ]
      },
      {
       "output_type": "stream",
       "stream": "stdout",
       "text": [
        "56891.7214011 56893.7742145 "
       ]
      },
      {
       "output_type": "stream",
       "stream": "stdout",
       "text": [
        "56894.7584364 \n",
        "Giant32"
       ]
      },
      {
       "output_type": "stream",
       "stream": "stdout",
       "text": [
        "\n",
        "56889.7312269"
       ]
      },
      {
       "output_type": "stream",
       "stream": "stdout",
       "text": [
        " 56890.7344779 56891.7214011 56893.7742145 56894.7584364 "
       ]
      },
      {
       "output_type": "stream",
       "stream": "stdout",
       "text": [
        "\n",
        "56889.7312269 56890.7344779 56891.7214011 56893.7742145 "
       ]
      },
      {
       "output_type": "stream",
       "stream": "stdout",
       "text": [
        "56894.7584364 "
       ]
      },
      {
       "output_type": "stream",
       "stream": "stdout",
       "text": [
        "\n",
        "56889.7312269 56890.7344779 56891.7214011 "
       ]
      },
      {
       "output_type": "stream",
       "stream": "stdout",
       "text": [
        "56893.7742145 56894.7584364 "
       ]
      },
      {
       "output_type": "stream",
       "stream": "stdout",
       "text": [
        "\n",
        "56889.7312269 56890.7344779 56891.7214011 56893.7742145 "
       ]
      },
      {
       "output_type": "stream",
       "stream": "stdout",
       "text": [
        "56894.7584364 "
       ]
      },
      {
       "output_type": "stream",
       "stream": "stdout",
       "text": [
        "\n",
        "56889.7312269 56890.7344779 56891.7214011 56893.7742145 "
       ]
      },
      {
       "output_type": "stream",
       "stream": "stdout",
       "text": [
        "56894.7584364 \n",
        "56889.7312269 "
       ]
      },
      {
       "output_type": "stream",
       "stream": "stdout",
       "text": [
        "56890.7344779 56891.7214011 56893.7742145 "
       ]
      },
      {
       "output_type": "stream",
       "stream": "stdout",
       "text": [
        "56894.7584364 \n",
        "56889.7312269 "
       ]
      },
      {
       "output_type": "stream",
       "stream": "stdout",
       "text": [
        "56890.7344779 56891.7214011 56893.7742145 56894.7584364 "
       ]
      },
      {
       "output_type": "stream",
       "stream": "stdout",
       "text": [
        "\n",
        "56889.7312269 56890.7344779 56891.7214011 56893.7742145 "
       ]
      },
      {
       "output_type": "stream",
       "stream": "stdout",
       "text": [
        "56894.7584364 \n",
        "56889.7312269 "
       ]
      },
      {
       "output_type": "stream",
       "stream": "stdout",
       "text": [
        "56890.7344779 56891.7214011 "
       ]
      },
      {
       "output_type": "stream",
       "stream": "stdout",
       "text": [
        "56893.7742145 56894.7584364 "
       ]
      },
      {
       "output_type": "stream",
       "stream": "stdout",
       "text": [
        "\n",
        "56889.7312269 56890.7344779 "
       ]
      },
      {
       "output_type": "stream",
       "stream": "stdout",
       "text": [
        "56891.7214011 56893.7742145 "
       ]
      },
      {
       "output_type": "stream",
       "stream": "stdout",
       "text": [
        "56894.7584364 \n",
        "56889.7312269 "
       ]
      },
      {
       "output_type": "stream",
       "stream": "stdout",
       "text": [
        "56890.7344779 56891.7214011 "
       ]
      },
      {
       "output_type": "stream",
       "stream": "stdout",
       "text": [
        "56893.7742145 56894.7584364 "
       ]
      },
      {
       "output_type": "stream",
       "stream": "stdout",
       "text": [
        "\n",
        "56889.7312269 56890.7344779 "
       ]
      },
      {
       "output_type": "stream",
       "stream": "stdout",
       "text": [
        "56891.7214011 56893.7742145 "
       ]
      },
      {
       "output_type": "stream",
       "stream": "stdout",
       "text": [
        "56894.7584364 \n",
        "Field17"
       ]
      },
      {
       "output_type": "stream",
       "stream": "stdout",
       "text": [
        "\n",
        "56889.7312269"
       ]
      },
      {
       "output_type": "stream",
       "stream": "stdout",
       "text": [
        " 56890.7344779 56891.7214011 56893.7742145 56894.7584364 "
       ]
      },
      {
       "output_type": "stream",
       "stream": "stdout",
       "text": [
        "\n",
        "56889.7312269 56890.7344779 56891.7214011 56893.7742145 "
       ]
      },
      {
       "output_type": "stream",
       "stream": "stdout",
       "text": [
        "56894.7584364 "
       ]
      },
      {
       "output_type": "stream",
       "stream": "stdout",
       "text": [
        "\n",
        "56889.7312269 56890.7344779 56891.7214011 56893.7742145 "
       ]
      },
      {
       "output_type": "stream",
       "stream": "stdout",
       "text": [
        "56894.7584364 "
       ]
      },
      {
       "output_type": "stream",
       "stream": "stdout",
       "text": [
        "\n",
        "56889.7312269 56890.7344779 56891.7214011 "
       ]
      },
      {
       "output_type": "stream",
       "stream": "stdout",
       "text": [
        "56893.7742145 56894.7584364 "
       ]
      },
      {
       "output_type": "stream",
       "stream": "stdout",
       "text": [
        "\n",
        "56889.7312269 56890.7344779 56891.7214011 "
       ]
      },
      {
       "output_type": "stream",
       "stream": "stdout",
       "text": [
        "56893.7742145 56894.7584364 "
       ]
      },
      {
       "output_type": "stream",
       "stream": "stdout",
       "text": [
        "\n",
        "56889.7312269 56890.7344779 56891.7214011 "
       ]
      },
      {
       "output_type": "stream",
       "stream": "stdout",
       "text": [
        "56893.7742145 56894.7584364 "
       ]
      },
      {
       "output_type": "stream",
       "stream": "stdout",
       "text": [
        "\n",
        "56889.7312269 56890.7344779 56891.7214011 "
       ]
      },
      {
       "output_type": "stream",
       "stream": "stdout",
       "text": [
        "56893.7742145 56894.7584364 "
       ]
      },
      {
       "output_type": "stream",
       "stream": "stdout",
       "text": [
        "\n",
        "56889.7312269 56890.7344779 56891.7214011 56893.7742145 "
       ]
      },
      {
       "output_type": "stream",
       "stream": "stdout",
       "text": [
        "56894.7584364 \n",
        "56889.7312269 "
       ]
      },
      {
       "output_type": "stream",
       "stream": "stdout",
       "text": [
        "56890.7344779 56891.7214011 "
       ]
      },
      {
       "output_type": "stream",
       "stream": "stdout",
       "text": [
        "56893.7742145 56894.7584364 "
       ]
      },
      {
       "output_type": "stream",
       "stream": "stdout",
       "text": [
        "\n",
        "56889.7312269 56890.7344779 "
       ]
      },
      {
       "output_type": "stream",
       "stream": "stdout",
       "text": [
        "56891.7214011 56893.7742145 "
       ]
      },
      {
       "output_type": "stream",
       "stream": "stdout",
       "text": [
        "56894.7584364 \n",
        "56889.7312269 "
       ]
      },
      {
       "output_type": "stream",
       "stream": "stdout",
       "text": [
        "56890.7344779 56891.7214011 "
       ]
      },
      {
       "output_type": "stream",
       "stream": "stdout",
       "text": [
        "56893.7742145 56894.7584364 "
       ]
      },
      {
       "output_type": "stream",
       "stream": "stdout",
       "text": [
        "\n",
        "56889.7312269 56890.7344779 "
       ]
      },
      {
       "output_type": "stream",
       "stream": "stdout",
       "text": [
        "56891.7214011 56893.7742145 "
       ]
      },
      {
       "output_type": "stream",
       "stream": "stdout",
       "text": [
        "56894.7584364 \n",
        "Field30"
       ]
      },
      {
       "output_type": "stream",
       "stream": "stdout",
       "text": [
        "\n",
        "56889.7312269"
       ]
      },
      {
       "output_type": "stream",
       "stream": "stdout",
       "text": [
        " 56890.7344779 56891.7214011 56893.7742145 56894.7584364 "
       ]
      },
      {
       "output_type": "stream",
       "stream": "stdout",
       "text": [
        "\n",
        "56889.7312269 56890.7344779 56891.7214011 56893.7742145 "
       ]
      },
      {
       "output_type": "stream",
       "stream": "stdout",
       "text": [
        "56894.7584364 "
       ]
      },
      {
       "output_type": "stream",
       "stream": "stdout",
       "text": [
        "\n",
        "56889.7312269 56890.7344779 56891.7214011 56893.7742145 "
       ]
      },
      {
       "output_type": "stream",
       "stream": "stdout",
       "text": [
        "56894.7584364 "
       ]
      },
      {
       "output_type": "stream",
       "stream": "stdout",
       "text": [
        "\n",
        "56889.7312269 56890.7344779 56891.7214011 56893.7742145 "
       ]
      },
      {
       "output_type": "stream",
       "stream": "stdout",
       "text": [
        "56894.7584364 "
       ]
      },
      {
       "output_type": "stream",
       "stream": "stdout",
       "text": [
        "\n",
        "56889.7312269 56890.7344779 56891.7214011 56893.7742145 "
       ]
      },
      {
       "output_type": "stream",
       "stream": "stdout",
       "text": [
        "56894.7584364 \n",
        "56889.7312269 "
       ]
      },
      {
       "output_type": "stream",
       "stream": "stdout",
       "text": [
        "56890.7344779 56891.7214011 56893.7742145 "
       ]
      },
      {
       "output_type": "stream",
       "stream": "stdout",
       "text": [
        "56894.7584364 \n",
        "56889.7312269 "
       ]
      },
      {
       "output_type": "stream",
       "stream": "stdout",
       "text": [
        "56890.7344779 56891.7214011 56893.7742145 56894.7584364 "
       ]
      },
      {
       "output_type": "stream",
       "stream": "stdout",
       "text": [
        "\n",
        "56889.7312269 56890.7344779 56891.7214011 56893.7742145 "
       ]
      },
      {
       "output_type": "stream",
       "stream": "stdout",
       "text": [
        "56894.7584364 \n",
        "56889.7312269 "
       ]
      },
      {
       "output_type": "stream",
       "stream": "stdout",
       "text": [
        "56890.7344779 56891.7214011 "
       ]
      },
      {
       "output_type": "stream",
       "stream": "stdout",
       "text": [
        "56893.7742145 56894.7584364 "
       ]
      },
      {
       "output_type": "stream",
       "stream": "stdout",
       "text": [
        "\n",
        "56889.7312269 56890.7344779 "
       ]
      },
      {
       "output_type": "stream",
       "stream": "stdout",
       "text": [
        "56891.7214011 56893.7742145 "
       ]
      },
      {
       "output_type": "stream",
       "stream": "stdout",
       "text": [
        "56894.7584364 \n",
        "56889.7312269 "
       ]
      },
      {
       "output_type": "stream",
       "stream": "stdout",
       "text": [
        "56890.7344779 56891.7214011 "
       ]
      },
      {
       "output_type": "stream",
       "stream": "stdout",
       "text": [
        "56893.7742145 56894.7584364 "
       ]
      },
      {
       "output_type": "stream",
       "stream": "stdout",
       "text": [
        "\n",
        "56889.7312269 56890.7344779 "
       ]
      },
      {
       "output_type": "stream",
       "stream": "stdout",
       "text": [
        "56891.7214011 56893.7742145 "
       ]
      },
      {
       "output_type": "stream",
       "stream": "stdout",
       "text": [
        "56894.7584364 \n",
        "Field12"
       ]
      },
      {
       "output_type": "stream",
       "stream": "stdout",
       "text": [
        "\n",
        "56889.7312269"
       ]
      },
      {
       "output_type": "stream",
       "stream": "stdout",
       "text": [
        " 56890.7344779 56891.7214011 56893.7742145 56894.7584364 "
       ]
      },
      {
       "output_type": "stream",
       "stream": "stdout",
       "text": [
        "\n",
        "56889.7312269 56890.7344779 56891.7214011 56893.7742145 "
       ]
      },
      {
       "output_type": "stream",
       "stream": "stdout",
       "text": [
        "56894.7584364 "
       ]
      },
      {
       "output_type": "stream",
       "stream": "stdout",
       "text": [
        "\n",
        "56889.7312269 56890.7344779 56891.7214011 56893.7742145 "
       ]
      },
      {
       "output_type": "stream",
       "stream": "stdout",
       "text": [
        "56894.7584364 "
       ]
      },
      {
       "output_type": "stream",
       "stream": "stdout",
       "text": [
        "\n",
        "56889.7312269 56890.7344779 56891.7214011 56893.7742145 "
       ]
      },
      {
       "output_type": "stream",
       "stream": "stdout",
       "text": [
        "56894.7584364 "
       ]
      },
      {
       "output_type": "stream",
       "stream": "stdout",
       "text": [
        "\n",
        "56889.7312269 56890.7344779 56891.7214011 "
       ]
      },
      {
       "output_type": "stream",
       "stream": "stdout",
       "text": [
        "56893.7742145 56894.7584364 "
       ]
      },
      {
       "output_type": "stream",
       "stream": "stdout",
       "text": [
        "\n",
        "56889.7312269 56890.7344779 56891.7214011 "
       ]
      },
      {
       "output_type": "stream",
       "stream": "stdout",
       "text": [
        "56893.7742145 56894.7584364 "
       ]
      },
      {
       "output_type": "stream",
       "stream": "stdout",
       "text": [
        "\n",
        "56889.7312269 56890.7344779 56891.7214011 56893.7742145 "
       ]
      },
      {
       "output_type": "stream",
       "stream": "stdout",
       "text": [
        "56894.7584364 \n",
        "56889.7312269 56890.7344779 "
       ]
      },
      {
       "output_type": "stream",
       "stream": "stdout",
       "text": [
        "56891.7214011 56893.7742145 56894.7584364 "
       ]
      },
      {
       "output_type": "stream",
       "stream": "stdout",
       "text": [
        "\n",
        "56889.7312269 56890.7344779 "
       ]
      },
      {
       "output_type": "stream",
       "stream": "stdout",
       "text": [
        "56891.7214011 56893.7742145 "
       ]
      },
      {
       "output_type": "stream",
       "stream": "stdout",
       "text": [
        "56894.7584364 \n",
        "56889.7312269 "
       ]
      },
      {
       "output_type": "stream",
       "stream": "stdout",
       "text": [
        "56890.7344779 56891.7214011 "
       ]
      },
      {
       "output_type": "stream",
       "stream": "stdout",
       "text": [
        "56893.7742145 56894.7584364 "
       ]
      },
      {
       "output_type": "stream",
       "stream": "stdout",
       "text": [
        "\n",
        "56889.7312269 56890.7344779 "
       ]
      },
      {
       "output_type": "stream",
       "stream": "stdout",
       "text": [
        "56891.7214011 56893.7742145 "
       ]
      },
      {
       "output_type": "stream",
       "stream": "stdout",
       "text": [
        "56894.7584364 \n",
        "56889.7312269 "
       ]
      },
      {
       "output_type": "stream",
       "stream": "stdout",
       "text": [
        "56890.7344779 56891.7214011 "
       ]
      },
      {
       "output_type": "stream",
       "stream": "stdout",
       "text": [
        "56893.7742145 56894.7584364 "
       ]
      },
      {
       "output_type": "stream",
       "stream": "stdout",
       "text": [
        "\n",
        "Field27"
       ]
      },
      {
       "output_type": "stream",
       "stream": "stdout",
       "text": [
        "\n",
        "56889.7312269"
       ]
      },
      {
       "output_type": "stream",
       "stream": "stdout",
       "text": [
        " 56890.7344779 56891.7214011 56893.7742145 56894.7584364 "
       ]
      },
      {
       "output_type": "stream",
       "stream": "stdout",
       "text": [
        "\n",
        "56889.7312269 56890.7344779 56891.7214011 56893.7742145 "
       ]
      },
      {
       "output_type": "stream",
       "stream": "stdout",
       "text": [
        "56894.7584364 "
       ]
      },
      {
       "output_type": "stream",
       "stream": "stdout",
       "text": [
        "\n",
        "56889.7312269 56890.7344779 56891.7214011 56893.7742145 "
       ]
      },
      {
       "output_type": "stream",
       "stream": "stdout",
       "text": [
        "56894.7584364 "
       ]
      },
      {
       "output_type": "stream",
       "stream": "stdout",
       "text": [
        "\n",
        "56889.7312269 56890.7344779 56891.7214011 56893.7742145 "
       ]
      },
      {
       "output_type": "stream",
       "stream": "stdout",
       "text": [
        "56894.7584364 "
       ]
      },
      {
       "output_type": "stream",
       "stream": "stdout",
       "text": [
        "\n",
        "56889.7312269 56890.7344779 56891.7214011 56893.7742145 "
       ]
      },
      {
       "output_type": "stream",
       "stream": "stdout",
       "text": [
        "56894.7584364 \n",
        "56889.7312269 "
       ]
      },
      {
       "output_type": "stream",
       "stream": "stdout",
       "text": [
        "56890.7344779 56891.7214011 56893.7742145 "
       ]
      },
      {
       "output_type": "stream",
       "stream": "stdout",
       "text": [
        "56894.7584364 \n",
        "56889.7312269 "
       ]
      },
      {
       "output_type": "stream",
       "stream": "stdout",
       "text": [
        "56890.7344779 56891.7214011 56893.7742145 56894.7584364 "
       ]
      },
      {
       "output_type": "stream",
       "stream": "stdout",
       "text": [
        "\n",
        "56889.7312269 56890.7344779 56891.7214011 56893.7742145 "
       ]
      },
      {
       "output_type": "stream",
       "stream": "stdout",
       "text": [
        "56894.7584364 \n",
        "56889.7312269 "
       ]
      },
      {
       "output_type": "stream",
       "stream": "stdout",
       "text": [
        "56890.7344779 56891.7214011 "
       ]
      },
      {
       "output_type": "stream",
       "stream": "stdout",
       "text": [
        "56893.7742145 56894.7584364 "
       ]
      },
      {
       "output_type": "stream",
       "stream": "stdout",
       "text": [
        "\n",
        "56889.7312269 56890.7344779 "
       ]
      },
      {
       "output_type": "stream",
       "stream": "stdout",
       "text": [
        "56891.7214011 56893.7742145 "
       ]
      },
      {
       "output_type": "stream",
       "stream": "stdout",
       "text": [
        "56894.7584364 \n",
        "56889.7312269 "
       ]
      },
      {
       "output_type": "stream",
       "stream": "stdout",
       "text": [
        "56890.7344779 56891.7214011 "
       ]
      },
      {
       "output_type": "stream",
       "stream": "stdout",
       "text": [
        "56893.7742145 56894.7584364 "
       ]
      },
      {
       "output_type": "stream",
       "stream": "stdout",
       "text": [
        "\n",
        "56889.7312269 56890.7344779 "
       ]
      },
      {
       "output_type": "stream",
       "stream": "stdout",
       "text": [
        "56891.7214011 56893.7742145 "
       ]
      },
      {
       "output_type": "stream",
       "stream": "stdout",
       "text": [
        "56894.7584364 \n",
        "Giant22"
       ]
      },
      {
       "output_type": "stream",
       "stream": "stdout",
       "text": [
        "\n",
        "56889.7312269"
       ]
      },
      {
       "output_type": "stream",
       "stream": "stdout",
       "text": [
        " 56890.7344779 56891.7214011 56893.7742145 56894.7584364 "
       ]
      },
      {
       "output_type": "stream",
       "stream": "stdout",
       "text": [
        "\n",
        "56889.7312269 56890.7344779 56891.7214011 56893.7742145 "
       ]
      },
      {
       "output_type": "stream",
       "stream": "stdout",
       "text": [
        "56894.7584364 "
       ]
      },
      {
       "output_type": "stream",
       "stream": "stdout",
       "text": [
        "\n",
        "56889.7312269 56890.7344779 56891.7214011 56893.7742145 "
       ]
      },
      {
       "output_type": "stream",
       "stream": "stdout",
       "text": [
        "56894.7584364 "
       ]
      },
      {
       "output_type": "stream",
       "stream": "stdout",
       "text": [
        "\n",
        "56889.7312269 56890.7344779 56891.7214011 "
       ]
      },
      {
       "output_type": "stream",
       "stream": "stdout",
       "text": [
        "56893.7742145 56894.7584364 "
       ]
      },
      {
       "output_type": "stream",
       "stream": "stdout",
       "text": [
        "\n",
        "56889.7312269 56890.7344779 56891.7214011 "
       ]
      },
      {
       "output_type": "stream",
       "stream": "stdout",
       "text": [
        "56893.7742145 56894.7584364 "
       ]
      },
      {
       "output_type": "stream",
       "stream": "stdout",
       "text": [
        "\n",
        "56889.7312269 56890.7344779 56891.7214011 56893.7742145 "
       ]
      },
      {
       "output_type": "stream",
       "stream": "stdout",
       "text": [
        "56894.7584364 \n",
        "56889.7312269 56890.7344779 "
       ]
      },
      {
       "output_type": "stream",
       "stream": "stdout",
       "text": [
        "56891.7214011 56893.7742145 56894.7584364 "
       ]
      },
      {
       "output_type": "stream",
       "stream": "stdout",
       "text": [
        "\n",
        "56889.7312269 56890.7344779 56891.7214011 56893.7742145 "
       ]
      },
      {
       "output_type": "stream",
       "stream": "stdout",
       "text": [
        "56894.7584364 \n",
        "56889.7312269 "
       ]
      },
      {
       "output_type": "stream",
       "stream": "stdout",
       "text": [
        "56890.7344779 56891.7214011 "
       ]
      },
      {
       "output_type": "stream",
       "stream": "stdout",
       "text": [
        "56893.7742145 56894.7584364 "
       ]
      },
      {
       "output_type": "stream",
       "stream": "stdout",
       "text": [
        "\n",
        "56889.7312269 56890.7344779 "
       ]
      },
      {
       "output_type": "stream",
       "stream": "stdout",
       "text": [
        "56891.7214011 56893.7742145 "
       ]
      },
      {
       "output_type": "stream",
       "stream": "stdout",
       "text": [
        "56894.7584364 \n",
        "56889.7312269 "
       ]
      },
      {
       "output_type": "stream",
       "stream": "stdout",
       "text": [
        "56890.7344779 56891.7214011 "
       ]
      },
      {
       "output_type": "stream",
       "stream": "stdout",
       "text": [
        "56893.7742145 56894.7584364 "
       ]
      },
      {
       "output_type": "stream",
       "stream": "stdout",
       "text": [
        "\n",
        "56889.7312269 56890.7344779 "
       ]
      },
      {
       "output_type": "stream",
       "stream": "stdout",
       "text": [
        "56891.7214011 56893.7742145 "
       ]
      },
      {
       "output_type": "stream",
       "stream": "stdout",
       "text": [
        "56894.7584364 \n",
        "Giant15"
       ]
      },
      {
       "output_type": "stream",
       "stream": "stdout",
       "text": [
        "\n",
        "56889.7312269"
       ]
      },
      {
       "output_type": "stream",
       "stream": "stdout",
       "text": [
        " 56890.7344779 56891.7214011 56893.7742145 56894.7584364 "
       ]
      },
      {
       "output_type": "stream",
       "stream": "stdout",
       "text": [
        "\n",
        "56889.7312269 56890.7344779 56891.7214011 56893.7742145 "
       ]
      },
      {
       "output_type": "stream",
       "stream": "stdout",
       "text": [
        "56894.7584364 "
       ]
      },
      {
       "output_type": "stream",
       "stream": "stdout",
       "text": [
        "\n",
        "56889.7312269 56890.7344779 56891.7214011 56893.7742145 "
       ]
      },
      {
       "output_type": "stream",
       "stream": "stdout",
       "text": [
        "56894.7584364 "
       ]
      },
      {
       "output_type": "stream",
       "stream": "stdout",
       "text": [
        "\n",
        "56889.7312269 56890.7344779 56891.7214011 56893.7742145 "
       ]
      },
      {
       "output_type": "stream",
       "stream": "stdout",
       "text": [
        "56894.7584364 "
       ]
      },
      {
       "output_type": "stream",
       "stream": "stdout",
       "text": [
        "\n",
        "56889.7312269 56890.7344779 56891.7214011 56893.7742145 "
       ]
      },
      {
       "output_type": "stream",
       "stream": "stdout",
       "text": [
        "56894.7584364 \n",
        "56889.7312269 "
       ]
      },
      {
       "output_type": "stream",
       "stream": "stdout",
       "text": [
        "56890.7344779 56891.7214011 56893.7742145 "
       ]
      },
      {
       "output_type": "stream",
       "stream": "stdout",
       "text": [
        "56894.7584364 \n",
        "56889.7312269 "
       ]
      },
      {
       "output_type": "stream",
       "stream": "stdout",
       "text": [
        "56890.7344779 56891.7214011 56893.7742145 "
       ]
      },
      {
       "output_type": "stream",
       "stream": "stdout",
       "text": [
        "56894.7584364 \n",
        "56889.7312269 56890.7344779 "
       ]
      },
      {
       "output_type": "stream",
       "stream": "stdout",
       "text": [
        "56891.7214011 56893.7742145 56894.7584364 "
       ]
      },
      {
       "output_type": "stream",
       "stream": "stdout",
       "text": [
        "\n",
        "56889.7312269 56890.7344779 "
       ]
      },
      {
       "output_type": "stream",
       "stream": "stdout",
       "text": [
        "56891.7214011 56893.7742145 "
       ]
      },
      {
       "output_type": "stream",
       "stream": "stdout",
       "text": [
        "56894.7584364 \n",
        "56889.7312269 "
       ]
      },
      {
       "output_type": "stream",
       "stream": "stdout",
       "text": [
        "56890.7344779 56891.7214011 "
       ]
      },
      {
       "output_type": "stream",
       "stream": "stdout",
       "text": [
        "56893.7742145 56894.7584364 "
       ]
      },
      {
       "output_type": "stream",
       "stream": "stdout",
       "text": [
        "\n",
        "56889.7312269 56890.7344779 "
       ]
      },
      {
       "output_type": "stream",
       "stream": "stdout",
       "text": [
        "56891.7214011 56893.7742145 "
       ]
      },
      {
       "output_type": "stream",
       "stream": "stdout",
       "text": [
        "56894.7584364 \n",
        "56889.7312269 "
       ]
      },
      {
       "output_type": "stream",
       "stream": "stdout",
       "text": [
        "56890.7344779 56891.7214011 "
       ]
      },
      {
       "output_type": "stream",
       "stream": "stdout",
       "text": [
        "56893.7742145 56894.7584364 "
       ]
      },
      {
       "output_type": "stream",
       "stream": "stdout",
       "text": [
        "\n",
        "Field04"
       ]
      },
      {
       "output_type": "stream",
       "stream": "stdout",
       "text": [
        "\n",
        "56889.7312269"
       ]
      },
      {
       "output_type": "stream",
       "stream": "stdout",
       "text": [
        " 56890.7344779 56891.7214011 56893.7742145 56894.7584364 "
       ]
      },
      {
       "output_type": "stream",
       "stream": "stdout",
       "text": [
        "\n",
        "56889.7312269 56890.7344779 56891.7214011 56893.7742145 "
       ]
      },
      {
       "output_type": "stream",
       "stream": "stdout",
       "text": [
        "56894.7584364 "
       ]
      },
      {
       "output_type": "stream",
       "stream": "stdout",
       "text": [
        "\n",
        "56889.7312269 56890.7344779 56891.7214011 56893.7742145 "
       ]
      },
      {
       "output_type": "stream",
       "stream": "stdout",
       "text": [
        "56894.7584364 "
       ]
      },
      {
       "output_type": "stream",
       "stream": "stdout",
       "text": [
        "\n",
        "56889.7312269 56890.7344779 56891.7214011 "
       ]
      },
      {
       "output_type": "stream",
       "stream": "stdout",
       "text": [
        "56893.7742145 56894.7584364 "
       ]
      },
      {
       "output_type": "stream",
       "stream": "stdout",
       "text": [
        "\n",
        "56889.7312269 56890.7344779 56891.7214011 "
       ]
      },
      {
       "output_type": "stream",
       "stream": "stdout",
       "text": [
        "56893.7742145 56894.7584364 "
       ]
      },
      {
       "output_type": "stream",
       "stream": "stdout",
       "text": [
        "\n",
        "56889.7312269 56890.7344779 56891.7214011 56893.7742145 "
       ]
      },
      {
       "output_type": "stream",
       "stream": "stdout",
       "text": [
        "56894.7584364 \n",
        "56889.7312269 "
       ]
      },
      {
       "output_type": "stream",
       "stream": "stdout",
       "text": [
        "56890.7344779 56891.7214011 56893.7742145 56894.7584364 "
       ]
      },
      {
       "output_type": "stream",
       "stream": "stdout",
       "text": [
        "\n",
        "56889.7312269 56890.7344779 56891.7214011 56893.7742145 "
       ]
      },
      {
       "output_type": "stream",
       "stream": "stdout",
       "text": [
        "56894.7584364 \n",
        "56889.7312269 "
       ]
      },
      {
       "output_type": "stream",
       "stream": "stdout",
       "text": [
        "56890.7344779 56891.7214011 "
       ]
      },
      {
       "output_type": "stream",
       "stream": "stdout",
       "text": [
        "56893.7742145 56894.7584364 "
       ]
      },
      {
       "output_type": "stream",
       "stream": "stdout",
       "text": [
        "\n",
        "56889.7312269 56890.7344779 "
       ]
      },
      {
       "output_type": "stream",
       "stream": "stdout",
       "text": [
        "56891.7214011 56893.7742145 "
       ]
      },
      {
       "output_type": "stream",
       "stream": "stdout",
       "text": [
        "56894.7584364 \n",
        "56889.7312269 "
       ]
      },
      {
       "output_type": "stream",
       "stream": "stdout",
       "text": [
        "56890.7344779 56891.7214011 "
       ]
      },
      {
       "output_type": "stream",
       "stream": "stdout",
       "text": [
        "56893.7742145 56894.7584364 "
       ]
      },
      {
       "output_type": "stream",
       "stream": "stdout",
       "text": [
        "\n",
        "56889.7312269 56890.7344779 "
       ]
      },
      {
       "output_type": "stream",
       "stream": "stdout",
       "text": [
        "56891.7214011 56893.7742145 "
       ]
      },
      {
       "output_type": "stream",
       "stream": "stdout",
       "text": [
        "56894.7584364 \n",
        "Giant11"
       ]
      },
      {
       "output_type": "stream",
       "stream": "stdout",
       "text": [
        "\n",
        "56889.7312269"
       ]
      },
      {
       "output_type": "stream",
       "stream": "stdout",
       "text": [
        " 56890.7344779 56891.7214011 56893.7742145 56894.7584364 "
       ]
      },
      {
       "output_type": "stream",
       "stream": "stdout",
       "text": [
        "\n",
        "56889.7312269 56890.7344779 56891.7214011 56893.7742145 "
       ]
      },
      {
       "output_type": "stream",
       "stream": "stdout",
       "text": [
        "56894.7584364 "
       ]
      },
      {
       "output_type": "stream",
       "stream": "stdout",
       "text": [
        "\n",
        "56889.7312269 56890.7344779 56891.7214011 56893.7742145 "
       ]
      },
      {
       "output_type": "stream",
       "stream": "stdout",
       "text": [
        "56894.7584364 "
       ]
      },
      {
       "output_type": "stream",
       "stream": "stdout",
       "text": [
        "\n",
        "56889.7312269 56890.7344779 56891.7214011 56893.7742145 "
       ]
      },
      {
       "output_type": "stream",
       "stream": "stdout",
       "text": [
        "56894.7584364 "
       ]
      },
      {
       "output_type": "stream",
       "stream": "stdout",
       "text": [
        "\n",
        "56889.7312269 56890.7344779 56891.7214011 56893.7742145 "
       ]
      },
      {
       "output_type": "stream",
       "stream": "stdout",
       "text": [
        "56894.7584364 \n",
        "56889.7312269 "
       ]
      },
      {
       "output_type": "stream",
       "stream": "stdout",
       "text": [
        "56890.7344779 56891.7214011 56893.7742145 "
       ]
      },
      {
       "output_type": "stream",
       "stream": "stdout",
       "text": [
        "56894.7584364 \n",
        "56889.7312269 "
       ]
      },
      {
       "output_type": "stream",
       "stream": "stdout",
       "text": [
        "56890.7344779 56891.7214011 56893.7742145 56894.7584364 "
       ]
      },
      {
       "output_type": "stream",
       "stream": "stdout",
       "text": [
        "\n",
        "56889.7312269 56890.7344779 56891.7214011 56893.7742145 "
       ]
      },
      {
       "output_type": "stream",
       "stream": "stdout",
       "text": [
        "56894.7584364 \n",
        "56889.7312269 "
       ]
      },
      {
       "output_type": "stream",
       "stream": "stdout",
       "text": [
        "56890.7344779 56891.7214011 "
       ]
      },
      {
       "output_type": "stream",
       "stream": "stdout",
       "text": [
        "56893.7742145 56894.7584364 "
       ]
      },
      {
       "output_type": "stream",
       "stream": "stdout",
       "text": [
        "\n",
        "56889.7312269 56890.7344779 "
       ]
      },
      {
       "output_type": "stream",
       "stream": "stdout",
       "text": [
        "56891.7214011 56893.7742145 "
       ]
      },
      {
       "output_type": "stream",
       "stream": "stdout",
       "text": [
        "56894.7584364 \n",
        "56889.7312269 "
       ]
      },
      {
       "output_type": "stream",
       "stream": "stdout",
       "text": [
        "56890.7344779 56891.7214011 "
       ]
      },
      {
       "output_type": "stream",
       "stream": "stdout",
       "text": [
        "56893.7742145 56894.7584364 "
       ]
      },
      {
       "output_type": "stream",
       "stream": "stdout",
       "text": [
        "\n",
        "56889.7312269 56890.7344779 "
       ]
      },
      {
       "output_type": "stream",
       "stream": "stdout",
       "text": [
        "56891.7214011 56893.7742145 "
       ]
      },
      {
       "output_type": "stream",
       "stream": "stdout",
       "text": [
        "56894.7584364 \n",
        "Giant19"
       ]
      },
      {
       "output_type": "stream",
       "stream": "stdout",
       "text": [
        "\n",
        "56889.7312269"
       ]
      },
      {
       "output_type": "stream",
       "stream": "stdout",
       "text": [
        " 56890.7344779 56891.7214011 56893.7742145 56894.7584364 "
       ]
      },
      {
       "output_type": "stream",
       "stream": "stdout",
       "text": [
        "\n",
        "56889.7312269 56890.7344779 56891.7214011 56893.7742145 "
       ]
      },
      {
       "output_type": "stream",
       "stream": "stdout",
       "text": [
        "56894.7584364 "
       ]
      },
      {
       "output_type": "stream",
       "stream": "stdout",
       "text": [
        "\n",
        "56889.7312269 56890.7344779 56891.7214011 56893.7742145 "
       ]
      },
      {
       "output_type": "stream",
       "stream": "stdout",
       "text": [
        "56894.7584364 "
       ]
      },
      {
       "output_type": "stream",
       "stream": "stdout",
       "text": [
        "\n",
        "56889.7312269 56890.7344779 56891.7214011 56893.7742145 "
       ]
      },
      {
       "output_type": "stream",
       "stream": "stdout",
       "text": [
        "56894.7584364 "
       ]
      },
      {
       "output_type": "stream",
       "stream": "stdout",
       "text": [
        "\n",
        "56889.7312269 56890.7344779 56891.7214011 "
       ]
      },
      {
       "output_type": "stream",
       "stream": "stdout",
       "text": [
        "56893.7742145 56894.7584364 "
       ]
      },
      {
       "output_type": "stream",
       "stream": "stdout",
       "text": [
        "\n",
        "56889.7312269 56890.7344779 56891.7214011 "
       ]
      },
      {
       "output_type": "stream",
       "stream": "stdout",
       "text": [
        "56893.7742145 56894.7584364 "
       ]
      },
      {
       "output_type": "stream",
       "stream": "stdout",
       "text": [
        "\n",
        "56889.7312269 56890.7344779 56891.7214011 "
       ]
      },
      {
       "output_type": "stream",
       "stream": "stdout",
       "text": [
        "56893.7742145 56894.7584364 \n",
        "56889.7312269 "
       ]
      },
      {
       "output_type": "stream",
       "stream": "stdout",
       "text": [
        "56890.7344779 56891.7214011 56893.7742145 56894.7584364 "
       ]
      },
      {
       "output_type": "stream",
       "stream": "stdout",
       "text": [
        "\n",
        "56889.7312269 56890.7344779 "
       ]
      },
      {
       "output_type": "stream",
       "stream": "stdout",
       "text": [
        "56891.7214011 56893.7742145 "
       ]
      },
      {
       "output_type": "stream",
       "stream": "stdout",
       "text": [
        "56894.7584364 \n",
        "56889.7312269 "
       ]
      },
      {
       "output_type": "stream",
       "stream": "stdout",
       "text": [
        "56890.7344779 56891.7214011 "
       ]
      },
      {
       "output_type": "stream",
       "stream": "stdout",
       "text": [
        "56893.7742145 56894.7584364 "
       ]
      },
      {
       "output_type": "stream",
       "stream": "stdout",
       "text": [
        "\n",
        "56889.7312269 56890.7344779 "
       ]
      },
      {
       "output_type": "stream",
       "stream": "stdout",
       "text": [
        "56891.7214011 56893.7742145 "
       ]
      },
      {
       "output_type": "stream",
       "stream": "stdout",
       "text": [
        "56894.7584364 \n",
        "56889.7312269 "
       ]
      },
      {
       "output_type": "stream",
       "stream": "stdout",
       "text": [
        "56890.7344779 56891.7214011 "
       ]
      },
      {
       "output_type": "stream",
       "stream": "stdout",
       "text": [
        "56893.7742145 56894.7584364 "
       ]
      },
      {
       "output_type": "stream",
       "stream": "stdout",
       "text": [
        "\n",
        "Field19"
       ]
      },
      {
       "output_type": "stream",
       "stream": "stdout",
       "text": [
        "\n",
        "56889.7312269"
       ]
      },
      {
       "output_type": "stream",
       "stream": "stdout",
       "text": [
        " 56890.7344779 56891.7214011 56893.7742145 56894.7584364 "
       ]
      },
      {
       "output_type": "stream",
       "stream": "stdout",
       "text": [
        "\n",
        "56889.7312269 56890.7344779 56891.7214011 56893.7742145 "
       ]
      },
      {
       "output_type": "stream",
       "stream": "stdout",
       "text": [
        "56894.7584364 "
       ]
      },
      {
       "output_type": "stream",
       "stream": "stdout",
       "text": [
        "\n",
        "56889.7312269 56890.7344779 56891.7214011 56893.7742145 "
       ]
      },
      {
       "output_type": "stream",
       "stream": "stdout",
       "text": [
        "56894.7584364 "
       ]
      },
      {
       "output_type": "stream",
       "stream": "stdout",
       "text": [
        "\n",
        "56889.7312269 56890.7344779 56891.7214011 56893.7742145 "
       ]
      },
      {
       "output_type": "stream",
       "stream": "stdout",
       "text": [
        "56894.7584364 "
       ]
      },
      {
       "output_type": "stream",
       "stream": "stdout",
       "text": [
        "\n",
        "56889.7312269 56890.7344779 56891.7214011 "
       ]
      },
      {
       "output_type": "stream",
       "stream": "stdout",
       "text": [
        "56893.7742145 56894.7584364 "
       ]
      },
      {
       "output_type": "stream",
       "stream": "stdout",
       "text": [
        "\n",
        "56889.7312269 56890.7344779 56891.7214011 56893.7742145 "
       ]
      },
      {
       "output_type": "stream",
       "stream": "stdout",
       "text": [
        "56894.7584364 \n",
        "56889.7312269 "
       ]
      },
      {
       "output_type": "stream",
       "stream": "stdout",
       "text": [
        "56890.7344779 56891.7214011 56893.7742145 56894.7584364 "
       ]
      },
      {
       "output_type": "stream",
       "stream": "stdout",
       "text": [
        "\n",
        "56889.7312269 56890.7344779 56891.7214011 56893.7742145 "
       ]
      },
      {
       "output_type": "stream",
       "stream": "stdout",
       "text": [
        "56894.7584364 \n",
        "56889.7312269 "
       ]
      },
      {
       "output_type": "stream",
       "stream": "stdout",
       "text": [
        "56890.7344779 56891.7214011 "
       ]
      },
      {
       "output_type": "stream",
       "stream": "stdout",
       "text": [
        "56893.7742145 56894.7584364 "
       ]
      },
      {
       "output_type": "stream",
       "stream": "stdout",
       "text": [
        "\n",
        "56889.7312269 56890.7344779 "
       ]
      },
      {
       "output_type": "stream",
       "stream": "stdout",
       "text": [
        "56891.7214011 56893.7742145 "
       ]
      },
      {
       "output_type": "stream",
       "stream": "stdout",
       "text": [
        "56894.7584364 \n",
        "56889.7312269 "
       ]
      },
      {
       "output_type": "stream",
       "stream": "stdout",
       "text": [
        "56890.7344779 56891.7214011 "
       ]
      },
      {
       "output_type": "stream",
       "stream": "stdout",
       "text": [
        "56893.7742145 56894.7584364 "
       ]
      },
      {
       "output_type": "stream",
       "stream": "stdout",
       "text": [
        "\n",
        "56889.7312269 56890.7344779 "
       ]
      },
      {
       "output_type": "stream",
       "stream": "stdout",
       "text": [
        "56891.7214011 56893.7742145 "
       ]
      },
      {
       "output_type": "stream",
       "stream": "stdout",
       "text": [
        "56894.7584364 \n",
        "Field33"
       ]
      },
      {
       "output_type": "stream",
       "stream": "stdout",
       "text": [
        "\n",
        "56889.7312269"
       ]
      },
      {
       "output_type": "stream",
       "stream": "stdout",
       "text": [
        " 56890.7344779 56891.7214011 56893.7742145 56894.7584364 "
       ]
      },
      {
       "output_type": "stream",
       "stream": "stdout",
       "text": [
        "\n",
        "56889.7312269 56890.7344779 56891.7214011 56893.7742145 "
       ]
      },
      {
       "output_type": "stream",
       "stream": "stdout",
       "text": [
        "56894.7584364 "
       ]
      },
      {
       "output_type": "stream",
       "stream": "stdout",
       "text": [
        "\n",
        "56889.7312269 56890.7344779 56891.7214011 56893.7742145 "
       ]
      },
      {
       "output_type": "stream",
       "stream": "stdout",
       "text": [
        "56894.7584364 "
       ]
      },
      {
       "output_type": "stream",
       "stream": "stdout",
       "text": [
        "\n",
        "56889.7312269 56890.7344779 56891.7214011 56893.7742145 "
       ]
      },
      {
       "output_type": "stream",
       "stream": "stdout",
       "text": [
        "56894.7584364 "
       ]
      },
      {
       "output_type": "stream",
       "stream": "stdout",
       "text": [
        "\n",
        "56889.7312269 56890.7344779 56891.7214011 "
       ]
      },
      {
       "output_type": "stream",
       "stream": "stdout",
       "text": [
        "56893.7742145 56894.7584364 "
       ]
      },
      {
       "output_type": "stream",
       "stream": "stdout",
       "text": [
        "\n",
        "56889.7312269 56890.7344779 56891.7214011 "
       ]
      },
      {
       "output_type": "stream",
       "stream": "stdout",
       "text": [
        "56893.7742145 56894.7584364 "
       ]
      },
      {
       "output_type": "stream",
       "stream": "stdout",
       "text": [
        "\n",
        "56889.7312269 56890.7344779 56891.7214011 "
       ]
      },
      {
       "output_type": "stream",
       "stream": "stdout",
       "text": [
        "56893.7742145 56894.7584364 \n",
        "56889.7312269 "
       ]
      },
      {
       "output_type": "stream",
       "stream": "stdout",
       "text": [
        "56890.7344779 56891.7214011 56893.7742145 56894.7584364 "
       ]
      },
      {
       "output_type": "stream",
       "stream": "stdout",
       "text": [
        "\n",
        "56889.7312269 56890.7344779 "
       ]
      },
      {
       "output_type": "stream",
       "stream": "stdout",
       "text": [
        "56891.7214011 56893.7742145 "
       ]
      },
      {
       "output_type": "stream",
       "stream": "stdout",
       "text": [
        "56894.7584364 \n",
        "56889.7312269 "
       ]
      },
      {
       "output_type": "stream",
       "stream": "stdout",
       "text": [
        "56890.7344779 56891.7214011 "
       ]
      },
      {
       "output_type": "stream",
       "stream": "stdout",
       "text": [
        "56893.7742145 56894.7584364 "
       ]
      },
      {
       "output_type": "stream",
       "stream": "stdout",
       "text": [
        "\n",
        "56889.7312269 56890.7344779 "
       ]
      },
      {
       "output_type": "stream",
       "stream": "stdout",
       "text": [
        "56891.7214011 56893.7742145 "
       ]
      },
      {
       "output_type": "stream",
       "stream": "stdout",
       "text": [
        "56894.7584364 \n",
        "56889.7312269 "
       ]
      },
      {
       "output_type": "stream",
       "stream": "stdout",
       "text": [
        "56890.7344779 56891.7214011 "
       ]
      },
      {
       "output_type": "stream",
       "stream": "stdout",
       "text": [
        "56893.7742145 56894.7584364 "
       ]
      },
      {
       "output_type": "stream",
       "stream": "stdout",
       "text": [
        "\n",
        "Field22"
       ]
      },
      {
       "output_type": "stream",
       "stream": "stdout",
       "text": [
        "\n",
        "56889.7312269"
       ]
      },
      {
       "output_type": "stream",
       "stream": "stdout",
       "text": [
        " 56890.7344779 \n",
        "56889.7312269 56890.7344779 "
       ]
      },
      {
       "output_type": "stream",
       "stream": "stdout",
       "text": [
        "\n",
        "56889.7312269 56890.7344779 "
       ]
      },
      {
       "output_type": "stream",
       "stream": "stdout",
       "text": [
        "\n",
        "56889.7312269 56890.7344779 \n",
        "56889.7312269 "
       ]
      },
      {
       "output_type": "stream",
       "stream": "stdout",
       "text": [
        "56890.7344779 \n",
        "56889.7312269 56890.7344779 "
       ]
      },
      {
       "output_type": "stream",
       "stream": "stdout",
       "text": [
        "\n",
        "56889.7312269 56890.7344779 \n",
        "56889.7312269 "
       ]
      },
      {
       "output_type": "stream",
       "stream": "stdout",
       "text": [
        "56890.7344779 \n",
        "56889.7312269 "
       ]
      },
      {
       "output_type": "stream",
       "stream": "stdout",
       "text": [
        "56890.7344779 \n",
        "56889.7312269 "
       ]
      },
      {
       "output_type": "stream",
       "stream": "stdout",
       "text": [
        "56890.7344779 \n",
        "56889.7312269 "
       ]
      },
      {
       "output_type": "stream",
       "stream": "stdout",
       "text": [
        "56890.7344779 \n",
        "56889.7312269 "
       ]
      },
      {
       "output_type": "stream",
       "stream": "stdout",
       "text": [
        "56890.7344779 \n",
        "Field37"
       ]
      },
      {
       "output_type": "stream",
       "stream": "stdout",
       "text": [
        "\n",
        "56889.7312269"
       ]
      },
      {
       "output_type": "stream",
       "stream": "stdout",
       "text": [
        " 56890.7344779 56891.7214011 56893.7742145 56894.7584364 "
       ]
      },
      {
       "output_type": "stream",
       "stream": "stdout",
       "text": [
        "\n",
        "56889.7312269 56890.7344779 56891.7214011 56893.7742145 "
       ]
      },
      {
       "output_type": "stream",
       "stream": "stdout",
       "text": [
        "56894.7584364 "
       ]
      },
      {
       "output_type": "stream",
       "stream": "stdout",
       "text": [
        "\n",
        "56889.7312269 56890.7344779 56891.7214011 56893.7742145 "
       ]
      },
      {
       "output_type": "stream",
       "stream": "stdout",
       "text": [
        "56894.7584364 "
       ]
      },
      {
       "output_type": "stream",
       "stream": "stdout",
       "text": [
        "\n",
        "56889.7312269 56890.7344779 56891.7214011 "
       ]
      },
      {
       "output_type": "stream",
       "stream": "stdout",
       "text": [
        "56893.7742145 56894.7584364 "
       ]
      },
      {
       "output_type": "stream",
       "stream": "stdout",
       "text": [
        "\n",
        "56889.7312269 56890.7344779 56891.7214011 "
       ]
      },
      {
       "output_type": "stream",
       "stream": "stdout",
       "text": [
        "56893.7742145 56894.7584364 "
       ]
      },
      {
       "output_type": "stream",
       "stream": "stdout",
       "text": [
        "\n",
        "56889.7312269 56890.7344779 56891.7214011 "
       ]
      },
      {
       "output_type": "stream",
       "stream": "stdout",
       "text": [
        "56893.7742145 56894.7584364 "
       ]
      },
      {
       "output_type": "stream",
       "stream": "stdout",
       "text": [
        "\n",
        "56889.7312269 56890.7344779 56891.7214011 "
       ]
      },
      {
       "output_type": "stream",
       "stream": "stdout",
       "text": [
        "56893.7742145 56894.7584364 \n",
        "56889.7312269 "
       ]
      },
      {
       "output_type": "stream",
       "stream": "stdout",
       "text": [
        "56890.7344779 56891.7214011 56893.7742145 56894.7584364 "
       ]
      },
      {
       "output_type": "stream",
       "stream": "stdout",
       "text": [
        "\n",
        "56889.7312269 56890.7344779 "
       ]
      },
      {
       "output_type": "stream",
       "stream": "stdout",
       "text": [
        "56891.7214011 56893.7742145 "
       ]
      },
      {
       "output_type": "stream",
       "stream": "stdout",
       "text": [
        "56894.7584364 \n",
        "56889.7312269 "
       ]
      },
      {
       "output_type": "stream",
       "stream": "stdout",
       "text": [
        "56890.7344779 56891.7214011 "
       ]
      },
      {
       "output_type": "stream",
       "stream": "stdout",
       "text": [
        "56893.7742145 56894.7584364 "
       ]
      },
      {
       "output_type": "stream",
       "stream": "stdout",
       "text": [
        "\n",
        "56889.7312269 56890.7344779 "
       ]
      },
      {
       "output_type": "stream",
       "stream": "stdout",
       "text": [
        "56891.7214011 56893.7742145 "
       ]
      },
      {
       "output_type": "stream",
       "stream": "stdout",
       "text": [
        "56894.7584364 \n",
        "56889.7312269 "
       ]
      },
      {
       "output_type": "stream",
       "stream": "stdout",
       "text": [
        "56890.7344779 56891.7214011 "
       ]
      },
      {
       "output_type": "stream",
       "stream": "stdout",
       "text": [
        "56893.7742145 56894.7584364 "
       ]
      },
      {
       "output_type": "stream",
       "stream": "stdout",
       "text": [
        "\n",
        "Giant21"
       ]
      },
      {
       "output_type": "stream",
       "stream": "stdout",
       "text": [
        "\n",
        "56889.7312269"
       ]
      },
      {
       "output_type": "stream",
       "stream": "stdout",
       "text": [
        " 56890.7344779 56891.7214011 56893.7742145 56894.7584364 "
       ]
      },
      {
       "output_type": "stream",
       "stream": "stdout",
       "text": [
        "\n",
        "56889.7312269 56890.7344779 56891.7214011 56893.7742145 "
       ]
      },
      {
       "output_type": "stream",
       "stream": "stdout",
       "text": [
        "56894.7584364 "
       ]
      },
      {
       "output_type": "stream",
       "stream": "stdout",
       "text": [
        "\n",
        "56889.7312269 56890.7344779 56891.7214011 "
       ]
      },
      {
       "output_type": "stream",
       "stream": "stdout",
       "text": [
        "56893.7742145 56894.7584364 "
       ]
      },
      {
       "output_type": "stream",
       "stream": "stdout",
       "text": [
        "\n",
        "56889.7312269 56890.7344779 56891.7214011 "
       ]
      },
      {
       "output_type": "stream",
       "stream": "stdout",
       "text": [
        "56893.7742145 56894.7584364 "
       ]
      },
      {
       "output_type": "stream",
       "stream": "stdout",
       "text": [
        "\n",
        "56889.7312269 56890.7344779 56891.7214011 "
       ]
      },
      {
       "output_type": "stream",
       "stream": "stdout",
       "text": [
        "56893.7742145 56894.7584364 "
       ]
      },
      {
       "output_type": "stream",
       "stream": "stdout",
       "text": [
        "\n",
        "56889.7312269 56890.7344779 56891.7214011 "
       ]
      },
      {
       "output_type": "stream",
       "stream": "stdout",
       "text": [
        "56893.7742145 56894.7584364 "
       ]
      },
      {
       "output_type": "stream",
       "stream": "stdout",
       "text": [
        "\n",
        "56889.7312269 56890.7344779 56891.7214011 56893.7742145 "
       ]
      },
      {
       "output_type": "stream",
       "stream": "stdout",
       "text": [
        "56894.7584364 \n",
        "56889.7312269 "
       ]
      },
      {
       "output_type": "stream",
       "stream": "stdout",
       "text": [
        "56890.7344779 56891.7214011 56893.7742145 56894.7584364 "
       ]
      },
      {
       "output_type": "stream",
       "stream": "stdout",
       "text": [
        "\n",
        "56889.7312269 56890.7344779 "
       ]
      },
      {
       "output_type": "stream",
       "stream": "stdout",
       "text": [
        "56891.7214011 56893.7742145 "
       ]
      },
      {
       "output_type": "stream",
       "stream": "stdout",
       "text": [
        "56894.7584364 \n",
        "56889.7312269 "
       ]
      },
      {
       "output_type": "stream",
       "stream": "stdout",
       "text": [
        "56890.7344779 "
       ]
      },
      {
       "output_type": "stream",
       "stream": "stdout",
       "text": [
        "56891.7214011 "
       ]
      },
      {
       "output_type": "stream",
       "stream": "stdout",
       "text": [
        "56893.7742145 56894.7584364 "
       ]
      },
      {
       "output_type": "stream",
       "stream": "stdout",
       "text": [
        "\n",
        "56889.7312269 56890.7344779 "
       ]
      },
      {
       "output_type": "stream",
       "stream": "stdout",
       "text": [
        "56891.7214011 "
       ]
      },
      {
       "output_type": "stream",
       "stream": "stdout",
       "text": [
        "56893.7742145 "
       ]
      },
      {
       "output_type": "stream",
       "stream": "stdout",
       "text": [
        "56894.7584364 \n",
        "56889.7312269 "
       ]
      },
      {
       "output_type": "stream",
       "stream": "stdout",
       "text": [
        "56890.7344779 56891.7214011 "
       ]
      },
      {
       "output_type": "stream",
       "stream": "stdout",
       "text": [
        "56893.7742145 56894.7584364 "
       ]
      },
      {
       "output_type": "stream",
       "stream": "stdout",
       "text": [
        "\n",
        "Field41"
       ]
      },
      {
       "output_type": "stream",
       "stream": "stdout",
       "text": [
        "\n",
        "56889.7312269"
       ]
      },
      {
       "output_type": "stream",
       "stream": "stdout",
       "text": [
        " 56890.7344779 56891.7214011 56893.7742145 56894.7584364 "
       ]
      },
      {
       "output_type": "stream",
       "stream": "stdout",
       "text": [
        "\n",
        "56889.7312269 56890.7344779 56891.7214011 "
       ]
      },
      {
       "output_type": "stream",
       "stream": "stdout",
       "text": [
        "56893.7742145 56894.7584364 "
       ]
      },
      {
       "output_type": "stream",
       "stream": "stdout",
       "text": [
        "\n",
        "56889.7312269 56890.7344779 56891.7214011 "
       ]
      },
      {
       "output_type": "stream",
       "stream": "stdout",
       "text": [
        "56893.7742145 56894.7584364 "
       ]
      },
      {
       "output_type": "stream",
       "stream": "stdout",
       "text": [
        "\n",
        "56889.7312269 56890.7344779 56891.7214011 "
       ]
      },
      {
       "output_type": "stream",
       "stream": "stdout",
       "text": [
        "56893.7742145 56894.7584364 "
       ]
      },
      {
       "output_type": "stream",
       "stream": "stdout",
       "text": [
        "\n",
        "56889.7312269 56890.7344779 56891.7214011 "
       ]
      },
      {
       "output_type": "stream",
       "stream": "stdout",
       "text": [
        "56893.7742145 56894.7584364 "
       ]
      },
      {
       "output_type": "stream",
       "stream": "stdout",
       "text": [
        "\n",
        "56889.7312269 56890.7344779 56891.7214011 "
       ]
      },
      {
       "output_type": "stream",
       "stream": "stdout",
       "text": [
        "56893.7742145 56894.7584364 "
       ]
      },
      {
       "output_type": "stream",
       "stream": "stdout",
       "text": [
        "\n",
        "56889.7312269 56890.7344779 56891.7214011 "
       ]
      },
      {
       "output_type": "stream",
       "stream": "stdout",
       "text": [
        "56893.7742145 56894.7584364 "
       ]
      },
      {
       "output_type": "stream",
       "stream": "stdout",
       "text": [
        "\n",
        "56889.7312269 56890.7344779 56891.7214011 "
       ]
      },
      {
       "output_type": "stream",
       "stream": "stdout",
       "text": [
        "56893.7742145 56894.7584364 "
       ]
      },
      {
       "output_type": "stream",
       "stream": "stdout",
       "text": [
        "\n",
        "56889.7312269 56890.7344779 "
       ]
      },
      {
       "output_type": "stream",
       "stream": "stdout",
       "text": [
        "56891.7214011 56893.7742145 "
       ]
      },
      {
       "output_type": "stream",
       "stream": "stdout",
       "text": [
        "56894.7584364 "
       ]
      },
      {
       "output_type": "stream",
       "stream": "stdout",
       "text": [
        "\n",
        "56889.7312269 "
       ]
      },
      {
       "output_type": "stream",
       "stream": "stdout",
       "text": [
        "56890.7344779 56891.7214011 "
       ]
      },
      {
       "output_type": "stream",
       "stream": "stdout",
       "text": [
        "56893.7742145 56894.7584364 "
       ]
      },
      {
       "output_type": "stream",
       "stream": "stdout",
       "text": [
        "\n",
        "56889.7312269 56890.7344779 "
       ]
      },
      {
       "output_type": "stream",
       "stream": "stdout",
       "text": [
        "56891.7214011 56893.7742145 "
       ]
      },
      {
       "output_type": "stream",
       "stream": "stdout",
       "text": [
        "56894.7584364 \n",
        "56889.7312269 "
       ]
      },
      {
       "output_type": "stream",
       "stream": "stdout",
       "text": [
        "56890.7344779 56891.7214011 "
       ]
      },
      {
       "output_type": "stream",
       "stream": "stdout",
       "text": [
        "56893.7742145 56894.7584364 "
       ]
      },
      {
       "output_type": "stream",
       "stream": "stdout",
       "text": [
        "\n",
        "Giant23"
       ]
      },
      {
       "output_type": "stream",
       "stream": "stdout",
       "text": [
        "\n",
        "56889.7312269"
       ]
      },
      {
       "output_type": "stream",
       "stream": "stdout",
       "text": [
        " 56890.7344779 56891.7214011 56893.7742145 56894.7584364 "
       ]
      },
      {
       "output_type": "stream",
       "stream": "stdout",
       "text": [
        "\n",
        "56889.7312269 56890.7344779 56891.7214011 56893.7742145 "
       ]
      },
      {
       "output_type": "stream",
       "stream": "stdout",
       "text": [
        "56894.7584364 "
       ]
      },
      {
       "output_type": "stream",
       "stream": "stdout",
       "text": [
        "\n",
        "56889.7312269 56890.7344779 56891.7214011 "
       ]
      },
      {
       "output_type": "stream",
       "stream": "stdout",
       "text": [
        "56893.7742145 56894.7584364 "
       ]
      },
      {
       "output_type": "stream",
       "stream": "stdout",
       "text": [
        "\n",
        "56889.7312269 56890.7344779 56891.7214011 56893.7742145 "
       ]
      },
      {
       "output_type": "stream",
       "stream": "stdout",
       "text": [
        "56894.7584364 "
       ]
      },
      {
       "output_type": "stream",
       "stream": "stdout",
       "text": [
        "\n",
        "56889.7312269 56890.7344779 56891.7214011 "
       ]
      },
      {
       "output_type": "stream",
       "stream": "stdout",
       "text": [
        "56893.7742145 56894.7584364 "
       ]
      },
      {
       "output_type": "stream",
       "stream": "stdout",
       "text": [
        "\n",
        "56889.7312269 56890.7344779 56891.7214011 "
       ]
      },
      {
       "output_type": "stream",
       "stream": "stdout",
       "text": [
        "56893.7742145 56894.7584364 "
       ]
      },
      {
       "output_type": "stream",
       "stream": "stdout",
       "text": [
        "\n",
        "56889.7312269 56890.7344779 56891.7214011 "
       ]
      },
      {
       "output_type": "stream",
       "stream": "stdout",
       "text": [
        "56893.7742145 56894.7584364 "
       ]
      },
      {
       "output_type": "stream",
       "stream": "stdout",
       "text": [
        "\n",
        "56889.7312269 56890.7344779 56891.7214011 56893.7742145 "
       ]
      },
      {
       "output_type": "stream",
       "stream": "stdout",
       "text": [
        "56894.7584364 \n",
        "56889.7312269 "
       ]
      },
      {
       "output_type": "stream",
       "stream": "stdout",
       "text": [
        "56890.7344779 56891.7214011 "
       ]
      },
      {
       "output_type": "stream",
       "stream": "stdout",
       "text": [
        "56893.7742145 56894.7584364 "
       ]
      },
      {
       "output_type": "stream",
       "stream": "stdout",
       "text": [
        "\n",
        "56889.7312269 56890.7344779 "
       ]
      },
      {
       "output_type": "stream",
       "stream": "stdout",
       "text": [
        "56891.7214011 56893.7742145 "
       ]
      },
      {
       "output_type": "stream",
       "stream": "stdout",
       "text": [
        "56894.7584364 \n",
        "56889.7312269 "
       ]
      },
      {
       "output_type": "stream",
       "stream": "stdout",
       "text": [
        "56890.7344779 56891.7214011 "
       ]
      },
      {
       "output_type": "stream",
       "stream": "stdout",
       "text": [
        "56893.7742145 56894.7584364 "
       ]
      },
      {
       "output_type": "stream",
       "stream": "stdout",
       "text": [
        "\n",
        "56889.7312269 56890.7344779 "
       ]
      },
      {
       "output_type": "stream",
       "stream": "stdout",
       "text": [
        "56891.7214011 56893.7742145 "
       ]
      },
      {
       "output_type": "stream",
       "stream": "stdout",
       "text": [
        "56894.7584364 \n",
        "Field31"
       ]
      },
      {
       "output_type": "stream",
       "stream": "stdout",
       "text": [
        "\n",
        "56889.7312269"
       ]
      },
      {
       "output_type": "stream",
       "stream": "stdout",
       "text": [
        " 56890.7344779 56891.7214011 56893.7742145 56894.7584364 "
       ]
      },
      {
       "output_type": "stream",
       "stream": "stdout",
       "text": [
        "\n",
        "56889.7312269 56890.7344779 56891.7214011 56893.7742145 "
       ]
      },
      {
       "output_type": "stream",
       "stream": "stdout",
       "text": [
        "56894.7584364 "
       ]
      },
      {
       "output_type": "stream",
       "stream": "stdout",
       "text": [
        "\n",
        "56889.7312269 56890.7344779 56891.7214011 56893.7742145 "
       ]
      },
      {
       "output_type": "stream",
       "stream": "stdout",
       "text": [
        "56894.7584364 "
       ]
      },
      {
       "output_type": "stream",
       "stream": "stdout",
       "text": [
        "\n",
        "56889.7312269 56890.7344779 56891.7214011 56893.7742145 "
       ]
      },
      {
       "output_type": "stream",
       "stream": "stdout",
       "text": [
        "56894.7584364 "
       ]
      },
      {
       "output_type": "stream",
       "stream": "stdout",
       "text": [
        "\n",
        "56889.7312269 56890.7344779 56891.7214011 "
       ]
      },
      {
       "output_type": "stream",
       "stream": "stdout",
       "text": [
        "56893.7742145 56894.7584364 "
       ]
      },
      {
       "output_type": "stream",
       "stream": "stdout",
       "text": [
        "\n",
        "56889.7312269 56890.7344779 56891.7214011 "
       ]
      },
      {
       "output_type": "stream",
       "stream": "stdout",
       "text": [
        "56893.7742145 56894.7584364 "
       ]
      },
      {
       "output_type": "stream",
       "stream": "stdout",
       "text": [
        "\n",
        "56889.7312269 56890.7344779 56891.7214011 "
       ]
      },
      {
       "output_type": "stream",
       "stream": "stdout",
       "text": [
        "56893.7742145 56894.7584364 "
       ]
      },
      {
       "output_type": "stream",
       "stream": "stdout",
       "text": [
        "\n",
        "56889.7312269 56890.7344779 56891.7214011 "
       ]
      },
      {
       "output_type": "stream",
       "stream": "stdout",
       "text": [
        "56893.7742145 56894.7584364 "
       ]
      },
      {
       "output_type": "stream",
       "stream": "stdout",
       "text": [
        "\n",
        "56889.7312269 56890.7344779 "
       ]
      },
      {
       "output_type": "stream",
       "stream": "stdout",
       "text": [
        "56891.7214011 56893.7742145 "
       ]
      },
      {
       "output_type": "stream",
       "stream": "stdout",
       "text": [
        "56894.7584364 \n",
        "56889.7312269 "
       ]
      },
      {
       "output_type": "stream",
       "stream": "stdout",
       "text": [
        "56890.7344779 56891.7214011 "
       ]
      },
      {
       "output_type": "stream",
       "stream": "stdout",
       "text": [
        "56893.7742145 56894.7584364 "
       ]
      },
      {
       "output_type": "stream",
       "stream": "stdout",
       "text": [
        "\n",
        "56889.7312269 56890.7344779 "
       ]
      },
      {
       "output_type": "stream",
       "stream": "stdout",
       "text": [
        "56891.7214011 56893.7742145 "
       ]
      },
      {
       "output_type": "stream",
       "stream": "stdout",
       "text": [
        "56894.7584364 \n",
        "56889.7312269 "
       ]
      },
      {
       "output_type": "stream",
       "stream": "stdout",
       "text": [
        "56890.7344779 56891.7214011 "
       ]
      },
      {
       "output_type": "stream",
       "stream": "stdout",
       "text": [
        "56893.7742145 56894.7584364 "
       ]
      },
      {
       "output_type": "stream",
       "stream": "stdout",
       "text": [
        "\n",
        "Field35"
       ]
      },
      {
       "output_type": "stream",
       "stream": "stdout",
       "text": [
        "\n",
        "56889.7312269"
       ]
      },
      {
       "output_type": "stream",
       "stream": "stdout",
       "text": [
        " 56890.7344779 56891.7214011 56893.7742145 56894.7584364 "
       ]
      },
      {
       "output_type": "stream",
       "stream": "stdout",
       "text": [
        "\n",
        "56889.7312269 56890.7344779 56891.7214011 "
       ]
      },
      {
       "output_type": "stream",
       "stream": "stdout",
       "text": [
        "56893.7742145 56894.7584364 "
       ]
      },
      {
       "output_type": "stream",
       "stream": "stdout",
       "text": [
        "\n",
        "56889.7312269 56890.7344779 56891.7214011 56893.7742145 "
       ]
      },
      {
       "output_type": "stream",
       "stream": "stdout",
       "text": [
        "56894.7584364 "
       ]
      },
      {
       "output_type": "stream",
       "stream": "stdout",
       "text": [
        "\n",
        "56889.7312269 56890.7344779 56891.7214011 "
       ]
      },
      {
       "output_type": "stream",
       "stream": "stdout",
       "text": [
        "56893.7742145 56894.7584364 "
       ]
      },
      {
       "output_type": "stream",
       "stream": "stdout",
       "text": [
        "\n",
        "56889.7312269 56890.7344779 56891.7214011 "
       ]
      },
      {
       "output_type": "stream",
       "stream": "stdout",
       "text": [
        "56893.7742145 56894.7584364 "
       ]
      },
      {
       "output_type": "stream",
       "stream": "stdout",
       "text": [
        "\n",
        "56889.7312269 56890.7344779 56891.7214011 56893.7742145 "
       ]
      },
      {
       "output_type": "stream",
       "stream": "stdout",
       "text": [
        "56894.7584364 \n",
        "56889.7312269 "
       ]
      },
      {
       "output_type": "stream",
       "stream": "stdout",
       "text": [
        "56890.7344779 56891.7214011 56893.7742145 56894.7584364 "
       ]
      },
      {
       "output_type": "stream",
       "stream": "stdout",
       "text": [
        "\n",
        "56889.7312269 56890.7344779 56891.7214011 "
       ]
      },
      {
       "output_type": "stream",
       "stream": "stdout",
       "text": [
        "56893.7742145 56894.7584364 "
       ]
      },
      {
       "output_type": "stream",
       "stream": "stdout",
       "text": [
        "\n",
        "56889.7312269 56890.7344779 "
       ]
      },
      {
       "output_type": "stream",
       "stream": "stdout",
       "text": [
        "56891.7214011 56893.7742145 "
       ]
      },
      {
       "output_type": "stream",
       "stream": "stdout",
       "text": [
        "56894.7584364 \n",
        "56889.7312269 "
       ]
      },
      {
       "output_type": "stream",
       "stream": "stdout",
       "text": [
        "56890.7344779 56891.7214011 "
       ]
      },
      {
       "output_type": "stream",
       "stream": "stdout",
       "text": [
        "56893.7742145 56894.7584364 "
       ]
      },
      {
       "output_type": "stream",
       "stream": "stdout",
       "text": [
        "\n",
        "56889.7312269 56890.7344779 "
       ]
      },
      {
       "output_type": "stream",
       "stream": "stdout",
       "text": [
        "56891.7214011 56893.7742145 "
       ]
      },
      {
       "output_type": "stream",
       "stream": "stdout",
       "text": [
        "56894.7584364 \n",
        "56889.7312269 "
       ]
      },
      {
       "output_type": "stream",
       "stream": "stdout",
       "text": [
        "56890.7344779 56891.7214011 "
       ]
      },
      {
       "output_type": "stream",
       "stream": "stdout",
       "text": [
        "56893.7742145 56894.7584364 "
       ]
      },
      {
       "output_type": "stream",
       "stream": "stdout",
       "text": [
        "\n",
        "Field42"
       ]
      },
      {
       "output_type": "stream",
       "stream": "stdout",
       "text": [
        "\n",
        "56889.7312269"
       ]
      },
      {
       "output_type": "stream",
       "stream": "stdout",
       "text": [
        " 56890.7344779 56891.7214011 56893.7742145 56894.7584364 "
       ]
      },
      {
       "output_type": "stream",
       "stream": "stdout",
       "text": [
        "\n",
        "56889.7312269 56890.7344779 56891.7214011 "
       ]
      },
      {
       "output_type": "stream",
       "stream": "stdout",
       "text": [
        "56893.7742145 56894.7584364 "
       ]
      },
      {
       "output_type": "stream",
       "stream": "stdout",
       "text": [
        "\n",
        "56889.7312269 56890.7344779 56891.7214011 56893.7742145 "
       ]
      },
      {
       "output_type": "stream",
       "stream": "stdout",
       "text": [
        "56894.7584364 "
       ]
      },
      {
       "output_type": "stream",
       "stream": "stdout",
       "text": [
        "\n",
        "56889.7312269 56890.7344779 56891.7214011 "
       ]
      },
      {
       "output_type": "stream",
       "stream": "stdout",
       "text": [
        "56893.7742145 56894.7584364 "
       ]
      },
      {
       "output_type": "stream",
       "stream": "stdout",
       "text": [
        "\n",
        "56889.7312269 56890.7344779 56891.7214011 "
       ]
      },
      {
       "output_type": "stream",
       "stream": "stdout",
       "text": [
        "56893.7742145 56894.7584364 "
       ]
      },
      {
       "output_type": "stream",
       "stream": "stdout",
       "text": [
        "\n",
        "56889.7312269 56890.7344779 56891.7214011 "
       ]
      },
      {
       "output_type": "stream",
       "stream": "stdout",
       "text": [
        "56893.7742145 56894.7584364 "
       ]
      },
      {
       "output_type": "stream",
       "stream": "stdout",
       "text": [
        "\n",
        "56889.7312269 56890.7344779 56891.7214011 "
       ]
      },
      {
       "output_type": "stream",
       "stream": "stdout",
       "text": [
        "56893.7742145 56894.7584364 "
       ]
      },
      {
       "output_type": "stream",
       "stream": "stdout",
       "text": [
        "\n",
        "56889.7312269 56890.7344779 56891.7214011 "
       ]
      },
      {
       "output_type": "stream",
       "stream": "stdout",
       "text": [
        "56893.7742145 56894.7584364 "
       ]
      },
      {
       "output_type": "stream",
       "stream": "stdout",
       "text": [
        "\n",
        "56889.7312269 56890.7344779 "
       ]
      },
      {
       "output_type": "stream",
       "stream": "stdout",
       "text": [
        "56891.7214011 56893.7742145 "
       ]
      },
      {
       "output_type": "stream",
       "stream": "stdout",
       "text": [
        "56894.7584364 \n",
        "56889.7312269 "
       ]
      },
      {
       "output_type": "stream",
       "stream": "stdout",
       "text": [
        "56890.7344779 56891.7214011 "
       ]
      },
      {
       "output_type": "stream",
       "stream": "stdout",
       "text": [
        "56893.7742145 56894.7584364 "
       ]
      },
      {
       "output_type": "stream",
       "stream": "stdout",
       "text": [
        "\n",
        "56889.7312269 56890.7344779 "
       ]
      },
      {
       "output_type": "stream",
       "stream": "stdout",
       "text": [
        "56891.7214011 "
       ]
      },
      {
       "output_type": "stream",
       "stream": "stdout",
       "text": [
        "56893.7742145 56894.7584364 "
       ]
      },
      {
       "output_type": "stream",
       "stream": "stdout",
       "text": [
        "\n",
        "56889.7312269 56890.7344779 "
       ]
      },
      {
       "output_type": "stream",
       "stream": "stdout",
       "text": [
        "56891.7214011 56893.7742145 "
       ]
      },
      {
       "output_type": "stream",
       "stream": "stdout",
       "text": [
        "56894.7584364 \n",
        "Giant20"
       ]
      },
      {
       "output_type": "stream",
       "stream": "stdout",
       "text": [
        "\n",
        "56889.7312269"
       ]
      },
      {
       "output_type": "stream",
       "stream": "stdout",
       "text": [
        " 56890.7344779 56891.7214011 56893.7742145 56894.7584364 "
       ]
      },
      {
       "output_type": "stream",
       "stream": "stdout",
       "text": [
        "\n",
        "56889.7312269 56890.7344779 56891.7214011 56893.7742145 "
       ]
      },
      {
       "output_type": "stream",
       "stream": "stdout",
       "text": [
        "56894.7584364 "
       ]
      },
      {
       "output_type": "stream",
       "stream": "stdout",
       "text": [
        "\n",
        "56889.7312269 56890.7344779 56891.7214011 56893.7742145 "
       ]
      },
      {
       "output_type": "stream",
       "stream": "stdout",
       "text": [
        "56894.7584364 "
       ]
      },
      {
       "output_type": "stream",
       "stream": "stdout",
       "text": [
        "\n",
        "56889.7312269 56890.7344779 56891.7214011 "
       ]
      },
      {
       "output_type": "stream",
       "stream": "stdout",
       "text": [
        "56893.7742145 56894.7584364 "
       ]
      },
      {
       "output_type": "stream",
       "stream": "stdout",
       "text": [
        "\n",
        "56889.7312269 56890.7344779 56891.7214011 "
       ]
      },
      {
       "output_type": "stream",
       "stream": "stdout",
       "text": [
        "56893.7742145 56894.7584364 "
       ]
      },
      {
       "output_type": "stream",
       "stream": "stdout",
       "text": [
        "\n",
        "56889.7312269 56890.7344779 56891.7214011 "
       ]
      },
      {
       "output_type": "stream",
       "stream": "stdout",
       "text": [
        "56893.7742145 56894.7584364 "
       ]
      },
      {
       "output_type": "stream",
       "stream": "stdout",
       "text": [
        "\n",
        "56889.7312269 56890.7344779 56891.7214011 56893.7742145 "
       ]
      },
      {
       "output_type": "stream",
       "stream": "stdout",
       "text": [
        "56894.7584364 \n",
        "56889.7312269 "
       ]
      },
      {
       "output_type": "stream",
       "stream": "stdout",
       "text": [
        "56890.7344779 56891.7214011 56893.7742145 "
       ]
      },
      {
       "output_type": "stream",
       "stream": "stdout",
       "text": [
        "56894.7584364 \n",
        "56889.7312269 "
       ]
      },
      {
       "output_type": "stream",
       "stream": "stdout",
       "text": [
        "56890.7344779 56891.7214011 "
       ]
      },
      {
       "output_type": "stream",
       "stream": "stdout",
       "text": [
        "56893.7742145 56894.7584364 "
       ]
      },
      {
       "output_type": "stream",
       "stream": "stdout",
       "text": [
        "\n",
        "56889.7312269 56890.7344779 "
       ]
      },
      {
       "output_type": "stream",
       "stream": "stdout",
       "text": [
        "56891.7214011 56893.7742145 "
       ]
      },
      {
       "output_type": "stream",
       "stream": "stdout",
       "text": [
        "56894.7584364 \n",
        "56889.7312269 "
       ]
      },
      {
       "output_type": "stream",
       "stream": "stdout",
       "text": [
        "56890.7344779 56891.7214011 "
       ]
      },
      {
       "output_type": "stream",
       "stream": "stdout",
       "text": [
        "56893.7742145 56894.7584364 "
       ]
      },
      {
       "output_type": "stream",
       "stream": "stdout",
       "text": [
        "\n",
        "56889.7312269 56890.7344779 "
       ]
      },
      {
       "output_type": "stream",
       "stream": "stdout",
       "text": [
        "56891.7214011 56893.7742145 "
       ]
      },
      {
       "output_type": "stream",
       "stream": "stdout",
       "text": [
        "56894.7584364 "
       ]
      },
      {
       "output_type": "stream",
       "stream": "stdout",
       "text": [
        "\n"
       ]
      }
     ],
     "prompt_number": 106
    },
    {
     "cell_type": "code",
     "collapsed": false,
     "input": [
      "# Collects information on all stars and writes them into data, RVs, DDRVs, sigmas, JDs arrays\n",
      "fileList = glob.glob('/Users/Carlos/Documents/HERMES/reductions/HD285507_6.0/uncombined/red*.obj')\n",
      "\n",
      "data = []\n",
      "RVs = np.zeros((len(fileList),15,4))\n",
      "DDRVs = np.zeros((len(fileList),15,4))\n",
      "sigmas = np.zeros((len(fileList),15,4))\n",
      "\n",
      "for i in range(len(fileList)):\n",
      "\n",
      "    print i,fileList[i]\n",
      "    filehandler = open(fileList[i], 'r') \n",
      "    thisStar = pickle.load(filehandler) \n",
      "    data.append([thisStar.name, thisStar.Vmag,np.unique(thisStar.exposures.pivots)[0]])\n",
      "    RVs[i,:,0] = thisStar.exposures.cameras[0].RVs\n",
      "    RVs[i,:,1] = thisStar.exposures.cameras[1].RVs\n",
      "    RVs[i,:,2] = thisStar.exposures.cameras[2].RVs\n",
      "    RVs[i,:,3] = thisStar.exposures.cameras[3].RVs\n",
      "    sigmas[i,:,0] = thisStar.exposures.cameras[0].sigmas\n",
      "    sigmas[i,:,1] = thisStar.exposures.cameras[1].sigmas\n",
      "    sigmas[i,:,2] = thisStar.exposures.cameras[2].sigmas\n",
      "    sigmas[i,:,3] = thisStar.exposures.cameras[3].sigmas\n",
      "    JDs = thisStar.exposures.JDs\n",
      "    filehandler.close()\n",
      "    thisStar = None\n",
      "    \n",
      "data = np.array(data)\n",
      "order = np.argsort(data[:,2].astype(int))\n",
      "\n",
      "data = data[order]\n",
      "RVs = RVs[order]\n",
      "DDRVs = DDRVs[order]\n",
      "sigmas = sigmas[order]\n",
      "\n",
      "print ''\n",
      "print 'data',len(data)\n",
      "print 'RVs',RVs.shape\n",
      "print 'DDRVs',DDRVs.shape\n",
      "print 'sigmas',sigmas.shape\n",
      "print 'JDs',JDs.shape\n",
      "\n"
     ],
     "language": "python",
     "metadata": {},
     "outputs": [
      {
       "output_type": "stream",
       "stream": "stdout",
       "text": [
        "0 /Users/Carlos/Documents/HERMES/reductions/HD285507_6.0/uncombined/red_Field02.obj\n",
        "1"
       ]
      },
      {
       "output_type": "stream",
       "stream": "stdout",
       "text": [
        " /Users/Carlos/Documents/HERMES/reductions/HD285507_6.0/uncombined/red_Field03.obj\n",
        "2"
       ]
      },
      {
       "output_type": "stream",
       "stream": "stdout",
       "text": [
        " /Users/Carlos/Documents/HERMES/reductions/HD285507_6.0/uncombined/red_Field04.obj\n",
        "3"
       ]
      },
      {
       "output_type": "stream",
       "stream": "stdout",
       "text": [
        " /Users/Carlos/Documents/HERMES/reductions/HD285507_6.0/uncombined/red_Field05.obj\n",
        "4"
       ]
      },
      {
       "output_type": "stream",
       "stream": "stdout",
       "text": [
        " /Users/Carlos/Documents/HERMES/reductions/HD285507_6.0/uncombined/red_Field06.obj\n",
        "5"
       ]
      },
      {
       "output_type": "stream",
       "stream": "stdout",
       "text": [
        " /Users/Carlos/Documents/HERMES/reductions/HD285507_6.0/uncombined/red_Field07.obj\n",
        "6"
       ]
      },
      {
       "output_type": "stream",
       "stream": "stdout",
       "text": [
        " /Users/Carlos/Documents/HERMES/reductions/HD285507_6.0/uncombined/red_Field08.obj\n",
        "7"
       ]
      },
      {
       "output_type": "stream",
       "stream": "stdout",
       "text": [
        " /Users/Carlos/Documents/HERMES/reductions/HD285507_6.0/uncombined/red_Field09.obj\n",
        "8"
       ]
      },
      {
       "output_type": "stream",
       "stream": "stdout",
       "text": [
        " /Users/Carlos/Documents/HERMES/reductions/HD285507_6.0/uncombined/red_Field11.obj\n",
        "9"
       ]
      },
      {
       "output_type": "stream",
       "stream": "stdout",
       "text": [
        " /Users/Carlos/Documents/HERMES/reductions/HD285507_6.0/uncombined/red_Field12.obj\n",
        "10"
       ]
      },
      {
       "output_type": "stream",
       "stream": "stdout",
       "text": [
        " /Users/Carlos/Documents/HERMES/reductions/HD285507_6.0/uncombined/red_Field13.obj\n",
        "11"
       ]
      },
      {
       "output_type": "stream",
       "stream": "stdout",
       "text": [
        " /Users/Carlos/Documents/HERMES/reductions/HD285507_6.0/uncombined/red_Field14.obj\n",
        "12"
       ]
      },
      {
       "output_type": "stream",
       "stream": "stdout",
       "text": [
        " /Users/Carlos/Documents/HERMES/reductions/HD285507_6.0/uncombined/red_Field15.obj\n",
        "13"
       ]
      },
      {
       "output_type": "stream",
       "stream": "stdout",
       "text": [
        " /Users/Carlos/Documents/HERMES/reductions/HD285507_6.0/uncombined/red_Field16.obj\n",
        "14"
       ]
      },
      {
       "output_type": "stream",
       "stream": "stdout",
       "text": [
        " /Users/Carlos/Documents/HERMES/reductions/HD285507_6.0/uncombined/red_Field17.obj\n",
        "15"
       ]
      },
      {
       "output_type": "stream",
       "stream": "stdout",
       "text": [
        " /Users/Carlos/Documents/HERMES/reductions/HD285507_6.0/uncombined/red_Field18.obj\n",
        "16"
       ]
      },
      {
       "output_type": "stream",
       "stream": "stdout",
       "text": [
        " /Users/Carlos/Documents/HERMES/reductions/HD285507_6.0/uncombined/red_Field19.obj\n",
        "17"
       ]
      },
      {
       "output_type": "stream",
       "stream": "stdout",
       "text": [
        " /Users/Carlos/Documents/HERMES/reductions/HD285507_6.0/uncombined/red_Field21.obj\n",
        "18"
       ]
      },
      {
       "output_type": "stream",
       "stream": "stdout",
       "text": [
        " /Users/Carlos/Documents/HERMES/reductions/HD285507_6.0/uncombined/red_Field23.obj\n",
        "19"
       ]
      },
      {
       "output_type": "stream",
       "stream": "stdout",
       "text": [
        " /Users/Carlos/Documents/HERMES/reductions/HD285507_6.0/uncombined/red_Field24.obj\n",
        "20"
       ]
      },
      {
       "output_type": "stream",
       "stream": "stdout",
       "text": [
        " /Users/Carlos/Documents/HERMES/reductions/HD285507_6.0/uncombined/red_Field25.obj\n",
        "21"
       ]
      },
      {
       "output_type": "stream",
       "stream": "stdout",
       "text": [
        " /Users/Carlos/Documents/HERMES/reductions/HD285507_6.0/uncombined/red_Field27.obj\n",
        "22"
       ]
      },
      {
       "output_type": "stream",
       "stream": "stdout",
       "text": [
        " /Users/Carlos/Documents/HERMES/reductions/HD285507_6.0/uncombined/red_Field28.obj\n",
        "23"
       ]
      },
      {
       "output_type": "stream",
       "stream": "stdout",
       "text": [
        " /Users/Carlos/Documents/HERMES/reductions/HD285507_6.0/uncombined/red_Field30.obj\n",
        "24"
       ]
      },
      {
       "output_type": "stream",
       "stream": "stdout",
       "text": [
        " /Users/Carlos/Documents/HERMES/reductions/HD285507_6.0/uncombined/red_Field31.obj\n",
        "25"
       ]
      },
      {
       "output_type": "stream",
       "stream": "stdout",
       "text": [
        " /Users/Carlos/Documents/HERMES/reductions/HD285507_6.0/uncombined/red_Field32.obj\n",
        "26"
       ]
      },
      {
       "output_type": "stream",
       "stream": "stdout",
       "text": [
        " /Users/Carlos/Documents/HERMES/reductions/HD285507_6.0/uncombined/red_Field33.obj\n",
        "27"
       ]
      },
      {
       "output_type": "stream",
       "stream": "stdout",
       "text": [
        " /Users/Carlos/Documents/HERMES/reductions/HD285507_6.0/uncombined/red_Field34.obj\n",
        "28"
       ]
      },
      {
       "output_type": "stream",
       "stream": "stdout",
       "text": [
        " /Users/Carlos/Documents/HERMES/reductions/HD285507_6.0/uncombined/red_Field35.obj\n",
        "29"
       ]
      },
      {
       "output_type": "stream",
       "stream": "stdout",
       "text": [
        " /Users/Carlos/Documents/HERMES/reductions/HD285507_6.0/uncombined/red_Field36.obj\n",
        "30"
       ]
      },
      {
       "output_type": "stream",
       "stream": "stdout",
       "text": [
        " /Users/Carlos/Documents/HERMES/reductions/HD285507_6.0/uncombined/red_Field37.obj\n",
        "31"
       ]
      },
      {
       "output_type": "stream",
       "stream": "stdout",
       "text": [
        " /Users/Carlos/Documents/HERMES/reductions/HD285507_6.0/uncombined/red_Field38.obj\n",
        "32"
       ]
      },
      {
       "output_type": "stream",
       "stream": "stdout",
       "text": [
        " /Users/Carlos/Documents/HERMES/reductions/HD285507_6.0/uncombined/red_Field39.obj\n",
        "33"
       ]
      },
      {
       "output_type": "stream",
       "stream": "stdout",
       "text": [
        " /Users/Carlos/Documents/HERMES/reductions/HD285507_6.0/uncombined/red_Field40.obj\n",
        "34"
       ]
      },
      {
       "output_type": "stream",
       "stream": "stdout",
       "text": [
        " /Users/Carlos/Documents/HERMES/reductions/HD285507_6.0/uncombined/red_Field41.obj\n",
        "35"
       ]
      },
      {
       "output_type": "stream",
       "stream": "stdout",
       "text": [
        " /Users/Carlos/Documents/HERMES/reductions/HD285507_6.0/uncombined/red_Field42.obj\n",
        "36"
       ]
      },
      {
       "output_type": "stream",
       "stream": "stdout",
       "text": [
        " /Users/Carlos/Documents/HERMES/reductions/HD285507_6.0/uncombined/red_Giant01.obj\n",
        "37"
       ]
      },
      {
       "output_type": "stream",
       "stream": "stdout",
       "text": [
        " /Users/Carlos/Documents/HERMES/reductions/HD285507_6.0/uncombined/red_Giant02.obj\n",
        "38"
       ]
      },
      {
       "output_type": "stream",
       "stream": "stdout",
       "text": [
        " /Users/Carlos/Documents/HERMES/reductions/HD285507_6.0/uncombined/red_Giant03.obj\n",
        "39"
       ]
      },
      {
       "output_type": "stream",
       "stream": "stdout",
       "text": [
        " /Users/Carlos/Documents/HERMES/reductions/HD285507_6.0/uncombined/red_Giant04.obj\n",
        "40"
       ]
      },
      {
       "output_type": "stream",
       "stream": "stdout",
       "text": [
        " /Users/Carlos/Documents/HERMES/reductions/HD285507_6.0/uncombined/red_Giant05.obj\n",
        "41"
       ]
      },
      {
       "output_type": "stream",
       "stream": "stdout",
       "text": [
        " /Users/Carlos/Documents/HERMES/reductions/HD285507_6.0/uncombined/red_Giant06.obj\n",
        "42"
       ]
      },
      {
       "output_type": "stream",
       "stream": "stdout",
       "text": [
        " /Users/Carlos/Documents/HERMES/reductions/HD285507_6.0/uncombined/red_Giant08.obj\n",
        "43"
       ]
      },
      {
       "output_type": "stream",
       "stream": "stdout",
       "text": [
        " /Users/Carlos/Documents/HERMES/reductions/HD285507_6.0/uncombined/red_Giant09.obj\n",
        "44"
       ]
      },
      {
       "output_type": "stream",
       "stream": "stdout",
       "text": [
        " /Users/Carlos/Documents/HERMES/reductions/HD285507_6.0/uncombined/red_Giant10.obj\n",
        "45"
       ]
      },
      {
       "output_type": "stream",
       "stream": "stdout",
       "text": [
        " /Users/Carlos/Documents/HERMES/reductions/HD285507_6.0/uncombined/red_Giant11.obj\n",
        "46"
       ]
      },
      {
       "output_type": "stream",
       "stream": "stdout",
       "text": [
        " /Users/Carlos/Documents/HERMES/reductions/HD285507_6.0/uncombined/red_Giant12.obj\n",
        "47"
       ]
      },
      {
       "output_type": "stream",
       "stream": "stdout",
       "text": [
        " /Users/Carlos/Documents/HERMES/reductions/HD285507_6.0/uncombined/red_Giant13.obj\n",
        "48"
       ]
      },
      {
       "output_type": "stream",
       "stream": "stdout",
       "text": [
        " /Users/Carlos/Documents/HERMES/reductions/HD285507_6.0/uncombined/red_Giant14.obj\n",
        "49"
       ]
      },
      {
       "output_type": "stream",
       "stream": "stdout",
       "text": [
        " /Users/Carlos/Documents/HERMES/reductions/HD285507_6.0/uncombined/red_Giant15.obj\n",
        "50"
       ]
      },
      {
       "output_type": "stream",
       "stream": "stdout",
       "text": [
        " /Users/Carlos/Documents/HERMES/reductions/HD285507_6.0/uncombined/red_Giant16.obj\n",
        "51"
       ]
      },
      {
       "output_type": "stream",
       "stream": "stdout",
       "text": [
        " /Users/Carlos/Documents/HERMES/reductions/HD285507_6.0/uncombined/red_Giant17.obj\n",
        "52"
       ]
      },
      {
       "output_type": "stream",
       "stream": "stdout",
       "text": [
        " /Users/Carlos/Documents/HERMES/reductions/HD285507_6.0/uncombined/red_Giant18.obj\n",
        "53"
       ]
      },
      {
       "output_type": "stream",
       "stream": "stdout",
       "text": [
        " /Users/Carlos/Documents/HERMES/reductions/HD285507_6.0/uncombined/red_Giant19.obj\n",
        "54"
       ]
      },
      {
       "output_type": "stream",
       "stream": "stdout",
       "text": [
        " /Users/Carlos/Documents/HERMES/reductions/HD285507_6.0/uncombined/red_Giant20.obj\n",
        "55"
       ]
      },
      {
       "output_type": "stream",
       "stream": "stdout",
       "text": [
        " /Users/Carlos/Documents/HERMES/reductions/HD285507_6.0/uncombined/red_Giant21.obj\n",
        "56"
       ]
      },
      {
       "output_type": "stream",
       "stream": "stdout",
       "text": [
        " /Users/Carlos/Documents/HERMES/reductions/HD285507_6.0/uncombined/red_Giant22.obj\n",
        "57"
       ]
      },
      {
       "output_type": "stream",
       "stream": "stdout",
       "text": [
        " /Users/Carlos/Documents/HERMES/reductions/HD285507_6.0/uncombined/red_Giant23.obj\n",
        "58"
       ]
      },
      {
       "output_type": "stream",
       "stream": "stdout",
       "text": [
        " /Users/Carlos/Documents/HERMES/reductions/HD285507_6.0/uncombined/red_Giant24.obj\n",
        "59"
       ]
      },
      {
       "output_type": "stream",
       "stream": "stdout",
       "text": [
        " /Users/Carlos/Documents/HERMES/reductions/HD285507_6.0/uncombined/red_Giant25.obj\n",
        "60"
       ]
      },
      {
       "output_type": "stream",
       "stream": "stdout",
       "text": [
        " /Users/Carlos/Documents/HERMES/reductions/HD285507_6.0/uncombined/red_Giant26.obj\n",
        "61"
       ]
      },
      {
       "output_type": "stream",
       "stream": "stdout",
       "text": [
        " /Users/Carlos/Documents/HERMES/reductions/HD285507_6.0/uncombined/red_Giant27.obj\n",
        "62"
       ]
      },
      {
       "output_type": "stream",
       "stream": "stdout",
       "text": [
        " /Users/Carlos/Documents/HERMES/reductions/HD285507_6.0/uncombined/red_Giant28.obj\n",
        "63"
       ]
      },
      {
       "output_type": "stream",
       "stream": "stdout",
       "text": [
        " /Users/Carlos/Documents/HERMES/reductions/HD285507_6.0/uncombined/red_Giant29.obj\n",
        "64"
       ]
      },
      {
       "output_type": "stream",
       "stream": "stdout",
       "text": [
        " /Users/Carlos/Documents/HERMES/reductions/HD285507_6.0/uncombined/red_Giant30.obj\n",
        "65"
       ]
      },
      {
       "output_type": "stream",
       "stream": "stdout",
       "text": [
        " /Users/Carlos/Documents/HERMES/reductions/HD285507_6.0/uncombined/red_Giant31.obj\n",
        "66"
       ]
      },
      {
       "output_type": "stream",
       "stream": "stdout",
       "text": [
        " /Users/Carlos/Documents/HERMES/reductions/HD285507_6.0/uncombined/red_Giant32.obj\n",
        "67"
       ]
      },
      {
       "output_type": "stream",
       "stream": "stdout",
       "text": [
        " /Users/Carlos/Documents/HERMES/reductions/HD285507_6.0/uncombined/red_Giant33.obj\n",
        "68"
       ]
      },
      {
       "output_type": "stream",
       "stream": "stdout",
       "text": [
        " /Users/Carlos/Documents/HERMES/reductions/HD285507_6.0/uncombined/red_Giant34.obj\n",
        "69"
       ]
      },
      {
       "output_type": "stream",
       "stream": "stdout",
       "text": [
        " /Users/Carlos/Documents/HERMES/reductions/HD285507_6.0/uncombined/red_Giant35.obj\n",
        "70"
       ]
      },
      {
       "output_type": "stream",
       "stream": "stdout",
       "text": [
        " /Users/Carlos/Documents/HERMES/reductions/HD285507_6.0/uncombined/red_Giant36.obj\n",
        "71"
       ]
      },
      {
       "output_type": "stream",
       "stream": "stdout",
       "text": [
        " /Users/Carlos/Documents/HERMES/reductions/HD285507_6.0/uncombined/red_Giant37.obj\n",
        "72"
       ]
      },
      {
       "output_type": "stream",
       "stream": "stdout",
       "text": [
        " /Users/Carlos/Documents/HERMES/reductions/HD285507_6.0/uncombined/red_Giant38.obj\n"
       ]
      },
      {
       "output_type": "stream",
       "stream": "stdout",
       "text": [
        "\n",
        "data 73\n",
        "RVs (73, 15, 4)\n",
        "DDRVs (73, 15, 4)\n",
        "sigmas (73, 15, 4)\n",
        "JDs (15,)\n"
       ]
      }
     ],
     "prompt_number": 48
    },
    {
     "cell_type": "code",
     "collapsed": false,
     "input": [
      "# #save?\n",
      "# np.save('data',data)\n",
      "# np.save('RVs',RVs)\n",
      "# np.save('DDRVs',DDRVs)\n",
      "# np.save('sigmas',sigmas)\n",
      "# np.save('JDs',JDs)\n",
      "\n"
     ],
     "language": "python",
     "metadata": {},
     "outputs": [],
     "prompt_number": 49
    },
    {
     "cell_type": "code",
     "collapsed": false,
     "input": [
      "#Load?\n",
      "data=np.load('data.npy')\n",
      "RVs=np.load('RVs.npy')\n",
      "DDRVs=np.load('DDRVs.npy')\n",
      "sigmas=np.load('sigmas.npy')\n",
      "JDs=np.load('JDs.npy')\n"
     ],
     "language": "python",
     "metadata": {},
     "outputs": [],
     "prompt_number": 41
    },
    {
     "cell_type": "heading",
     "level": 3,
     "metadata": {},
     "source": [
      "Data post-process "
     ]
    },
    {
     "cell_type": "code",
     "collapsed": false,
     "input": [
      "#Remove unwanted stars\n",
      "#1-Create filter\n",
      "mask_3000 = -(np.sum(np.sum(abs(RVs)>3000, axis=1), axis = 1).astype(bool))\n",
      "mask_sigmas = -(np.sum(np.sum(sigmas<10, axis=1), axis = 1).astype(bool))\n",
      "mask = mask_3000 & mask_sigmas\n",
      "main_star = 41\n",
      "mask[main_star]=True\n",
      "print mask_3000\n",
      "print mask_sigmas\n",
      "print mask\n",
      "# plt.plot(mask_sigmas)\n",
      "# plt.show()\n",
      "\n",
      "#2-remove stars\n",
      "data=data[mask]\n",
      "RVs=RVs[mask]\n",
      "DDRVs=DDRVs[mask]\n",
      "sigmas=sigmas[mask]"
     ],
     "language": "python",
     "metadata": {},
     "outputs": [
      {
       "output_type": "stream",
       "stream": "stdout",
       "text": [
        "[False  True False  True  True  True False  True False  True False False\n",
        "  True  True  True  True False False False False  True False  True  True\n",
        "  True  True  True False  True  True  True  True  True  True  True  True\n",
        "  True  True False False  True False False  True  True False  True False\n",
        "  True  True  True  True  True  True  True False  True  True  True False\n",
        "  True  True  True  True  True  True  True  True  True  True False False\n",
        "  True]\n",
        "[ True False False False  True  True False False False False  True False\n",
        " False False False False False False  True False  True  True False  True\n",
        "  True False  True False  True  True False  True False  True False  True\n",
        "  True  True  True  True False False  True False  True False  True  True\n",
        " False  True False False  True False False False False  True False False\n",
        "  True False False False False False False False False  True  True False\n",
        "  True]\n",
        "[False False False False  True  True False False False False False False\n",
        " False False False False False False False False  True False False  True\n",
        "  True False  True False  True  True False  True False  True False  True\n",
        "  True  True False False False  True False False  True False  True False\n",
        " False  True False False  True False False False False  True False False\n",
        "  True False False False False False False False False  True False False\n",
        "  True]\n"
       ]
      }
     ],
     "prompt_number": 42
    },
    {
     "cell_type": "code",
     "collapsed": false,
     "input": [
      "np.where(data=='Giant01')"
     ],
     "language": "python",
     "metadata": {},
     "outputs": [
      {
       "metadata": {},
       "output_type": "pyout",
       "prompt_number": 46,
       "text": [
        "(array([13]), array([0]))"
       ]
      }
     ],
     "prompt_number": 46
    },
    {
     "cell_type": "code",
     "collapsed": false,
     "input": [
      "#remove barycentre from RVs\n",
      "baryVels = np.reshape(np.tile(np.reshape(np.tile(thisStar.exposures.rel_baryVels,73 ) , (73,15)), 4), (73,15,4))\n",
      "baryRVs = RVs - baryVels"
     ],
     "language": "python",
     "metadata": {},
     "outputs": [
      {
       "ename": "ValueError",
       "evalue": "operands could not be broadcast together with shapes (38,15,4) (73,15,4) ",
       "output_type": "pyerr",
       "traceback": [
        "\u001b[0;31m---------------------------------------------------------------------------\u001b[0m\n\u001b[0;31mValueError\u001b[0m                                Traceback (most recent call last)",
        "\u001b[0;32m<ipython-input-391-1c92acb4a4f4>\u001b[0m in \u001b[0;36m<module>\u001b[0;34m()\u001b[0m\n\u001b[1;32m      1\u001b[0m \u001b[0;31m#remove barycentre from RVs\u001b[0m\u001b[0;34m\u001b[0m\u001b[0;34m\u001b[0m\u001b[0m\n\u001b[1;32m      2\u001b[0m \u001b[0mbaryVels\u001b[0m \u001b[0;34m=\u001b[0m \u001b[0mnp\u001b[0m\u001b[0;34m.\u001b[0m\u001b[0mreshape\u001b[0m\u001b[0;34m(\u001b[0m\u001b[0mnp\u001b[0m\u001b[0;34m.\u001b[0m\u001b[0mtile\u001b[0m\u001b[0;34m(\u001b[0m\u001b[0mnp\u001b[0m\u001b[0;34m.\u001b[0m\u001b[0mreshape\u001b[0m\u001b[0;34m(\u001b[0m\u001b[0mnp\u001b[0m\u001b[0;34m.\u001b[0m\u001b[0mtile\u001b[0m\u001b[0;34m(\u001b[0m\u001b[0mthisStar\u001b[0m\u001b[0;34m.\u001b[0m\u001b[0mexposures\u001b[0m\u001b[0;34m.\u001b[0m\u001b[0mrel_baryVels\u001b[0m\u001b[0;34m,\u001b[0m\u001b[0;36m73\u001b[0m \u001b[0;34m)\u001b[0m \u001b[0;34m,\u001b[0m \u001b[0;34m(\u001b[0m\u001b[0;36m73\u001b[0m\u001b[0;34m,\u001b[0m\u001b[0;36m15\u001b[0m\u001b[0;34m)\u001b[0m\u001b[0;34m)\u001b[0m\u001b[0;34m,\u001b[0m \u001b[0;36m4\u001b[0m\u001b[0;34m)\u001b[0m\u001b[0;34m,\u001b[0m \u001b[0;34m(\u001b[0m\u001b[0;36m73\u001b[0m\u001b[0;34m,\u001b[0m\u001b[0;36m15\u001b[0m\u001b[0;34m,\u001b[0m\u001b[0;36m4\u001b[0m\u001b[0;34m)\u001b[0m\u001b[0;34m)\u001b[0m\u001b[0;34m\u001b[0m\u001b[0m\n\u001b[0;32m----> 3\u001b[0;31m \u001b[0mbaryRVs\u001b[0m \u001b[0;34m=\u001b[0m \u001b[0mRVs\u001b[0m \u001b[0;34m-\u001b[0m \u001b[0mbaryVels\u001b[0m\u001b[0;34m\u001b[0m\u001b[0m\n\u001b[0m",
        "\u001b[0;31mValueError\u001b[0m: operands could not be broadcast together with shapes (38,15,4) (73,15,4) "
       ]
      }
     ],
     "prompt_number": 391
    },
    {
     "cell_type": "code",
     "collapsed": false,
     "input": [
      "#remove stars with RV-bary>3000m/s\n",
      "cleanRVs = baryRVs[-(np.sum(np.sum(abs(baryRVs)>3000, axis=1), axis = 1).astype(bool))]"
     ],
     "language": "python",
     "metadata": {},
     "outputs": [],
     "prompt_number": 350
    },
    {
     "cell_type": "code",
     "collapsed": false,
     "input": [
      "#remove stars that have high RVs\n",
      "plt.plot(cleanRVs[:,3,0], marker = '.')\n",
      "# plt.plot(np.mean(cleanRVs[:,3,0]), c='g')\n",
      "plt.show()\n",
      "# plt.plot(RVs.flatten())\n",
      "# plt.show()"
     ],
     "language": "python",
     "metadata": {},
     "outputs": [],
     "prompt_number": 351
    },
    {
     "cell_type": "code",
     "collapsed": false,
     "input": [
      "for i in cleanRVs:\n",
      "    plt.plot(thisStar.exposures.JDs, i[:,0])\n",
      "plt.show()\n",
      "# plt.plot(cleanRVs.shape["
     ],
     "language": "python",
     "metadata": {},
     "outputs": [],
     "prompt_number": 353
    },
    {
     "cell_type": "code",
     "collapsed": false,
     "input": [
      "#array to map pivot# to y-position\n",
      "p2y = pivot_to_y('20aug10037tlm.fits')\n",
      "\n",
      "#create deltay 2D array of distances between fibres\n",
      "deltay = np.zeros(np.array(RVs.shape)[[0,0]])\n",
      "for thisTarget in range(RVs.shape[0]):\n",
      "    deltay[thisTarget,:] = p2y[data[:,2].astype(int)] - p2y[data[thisTarget,2].astype(int)]\n"
     ],
     "language": "python",
     "metadata": {},
     "outputs": [],
     "prompt_number": 180
    },
    {
     "cell_type": "code",
     "collapsed": false,
     "input": [
      "from mpl_toolkits.mplot3d import axes3d\n",
      "# import matplotlib.pyplot as plt\n",
      "# import numpy as np\n",
      "\n",
      "fig = plt.figure()\n",
      "ax = fig.add_subplot(111, projection='3d')\n",
      "X,Y = plt.meshgrid(range(deltay.shape[0]),range(deltay.shape[0]))\n",
      "Z = deltay\n",
      "ax.plot_wireframe(X, Y, Z, rstride=7, cstride=10)\n",
      "\n",
      "plt.show()\n"
     ],
     "language": "python",
     "metadata": {},
     "outputs": [],
     "prompt_number": 360
    },
    {
     "cell_type": "code",
     "collapsed": false,
     "input": [
      "for i in range(4):\n",
      "    plt.plot(calibrator_weights(deltay[thisTarget], sigmas[:,0,i]))\n",
      "\n",
      "plt.show()\n",
      "    \n"
     ],
     "language": "python",
     "metadata": {},
     "outputs": [],
     "prompt_number": 318
    },
    {
     "cell_type": "code",
     "collapsed": false,
     "input": [
      "#create 3D weight array\n",
      "\n",
      "weights = np.zeros(np.array(RVs.shape)[[0,0,2]]) # Same array for all epochs hence epoch dimension skipped\n",
      "\n",
      "for thisTarget in range(RVs.shape[0]): #1 loop per target\n",
      "\n",
      "    #distances to target (in y-coords)\n",
      "    mask = np.zeros(np.array(RVs.shape)[[0,0]])\n",
      "    mask[:,thisTarget] = True\n",
      "    deltay_mx = np.ma.masked_array(deltay, mask=mask)\n",
      "        \n",
      "    #create RV mask to exclude target and stars with RV>3000m/s\\\n",
      "    mask = RVs>3000\n",
      "    mask = mask[:,0,:]\n",
      "    mask[thisTarget] = True\n",
      "    sigmas_1epc = sigmas[:,1,:]\n",
      "    sigmas_mx = np.ma.masked_array(sigmas_1epc, mask=mask)\n",
      "    \n",
      "    \n",
      "#     fig = plt.figure()\n",
      "#     ax = fig.add_subplot(111, projection='3d')\n",
      "#     X,Y = plt.meshgrid(range(sigmas_mx.shape[1]),range(sigmas_mx.shape[0]))\n",
      "#     Z = sigmas_mx\n",
      "#     ax.plot_wireframe(X, Y, Z)\n",
      "#     plt.show()\n",
      "\n",
      "\n",
      "    for cam in range(4):\n",
      "        a = calibrator_weights(deltay_mx[thisTarget,:].compressed(), sigmas_mx[:,cam].compressed())\n",
      "#         print deltay_mx[thisTarget,:].compressed(),deltay_mx[thisTarget,:].compressed().shape\n",
      "#         print sigmas_mx[:,cam].compressed(), sigmas_mx[:,cam].compressed().shape\n",
      "        weights[thisTarget,:,cam] = np.insert(a, thisTarget, 0)\n"
     ],
     "language": "python",
     "metadata": {},
     "outputs": [],
     "prompt_number": 305
    },
    {
     "cell_type": "code",
     "collapsed": false,
     "input": [
      "from mpl_toolkits.mplot3d import axes3d\n",
      "# import matplotlib.pyplot as plt\n",
      "# import numpy as np\n",
      "\n",
      "fig = plt.figure()\n",
      "ax = fig.add_subplot(111, projection='3d')\n",
      "X,Y = plt.meshgrid(range(weights.shape[0]),range(weights.shape[0]))\n",
      "Z = weights[:,:,0]\n",
      "ax.plot_wireframe(X, Y, Z)\n",
      "\n",
      "plt.show()\n"
     ],
     "language": "python",
     "metadata": {},
     "outputs": [],
     "prompt_number": 184
    },
    {
     "cell_type": "code",
     "collapsed": false,
     "input": [
      "#quad reduced RVs \n",
      "quadRVs = np.zeros(RVs.shape) \n",
      "diffs = np.zeros(RVs.shape) \n",
      "\n",
      "mask = np.zeros(RVs.shape).astype(bool)\n",
      "RVs_mx = np.ma.masked_array(RVs, mask=mask)\n",
      "\n",
      "for thisTarget in range(RVs.shape[0]): #1 loop per target\n",
      "    for epoch in range(RVs.shape[1]):\n",
      "        for cam in range(RVs.shape[2]):\n",
      "            \n",
      "            order = np.argsort(deltay_mx[thisTarget,:])\n",
      "            quadX = deltay_mx[thisTarget,:][order]\n",
      "            quadY = RVs_mx[:,epoch,cam][order]\n",
      "            fRVs,__ = fit_quad([1,1,0], quadX, quadY )\n",
      "            fittedCurve = quad(quadX, fRVs[0], fRVs[1], fRVs[2])\n",
      "            \n",
      "            quadRVs[thisTarget,epoch,cam]=RVs[thisTarget,epoch,cam]-np.sum(weights[thisTarget,:,cam][order]*(RVs[:,epoch,cam][order]-fittedCurve))\n",
      "            diffs[thisTarget,epoch,cam]=np.sum(weights[thisTarget,:,cam][order]*(RVs[:,epoch,cam][order]-fittedCurve))\n",
      "\n",
      "quadRVs = np.array(quadRVs)\n",
      "diffs = np.array(diffs)\n",
      "\n"
     ],
     "language": "python",
     "metadata": {},
     "outputs": [
      {
       "ename": "IndexError",
       "evalue": "too many indices",
       "output_type": "pyerr",
       "traceback": [
        "\u001b[0;31m---------------------------------------------------------------------------\u001b[0m\n\u001b[0;31mIndexError\u001b[0m                                Traceback (most recent call last)",
        "\u001b[0;32m<ipython-input-179-d52044a3338e>\u001b[0m in \u001b[0;36m<module>\u001b[0;34m()\u001b[0m\n\u001b[1;32m     10\u001b[0m         \u001b[0;32mfor\u001b[0m \u001b[0mcam\u001b[0m \u001b[0;32min\u001b[0m \u001b[0mrange\u001b[0m\u001b[0;34m(\u001b[0m\u001b[0mRVs\u001b[0m\u001b[0;34m.\u001b[0m\u001b[0mshape\u001b[0m\u001b[0;34m[\u001b[0m\u001b[0;36m2\u001b[0m\u001b[0;34m]\u001b[0m\u001b[0;34m)\u001b[0m\u001b[0;34m:\u001b[0m\u001b[0;34m\u001b[0m\u001b[0m\n\u001b[1;32m     11\u001b[0m \u001b[0;34m\u001b[0m\u001b[0m\n\u001b[0;32m---> 12\u001b[0;31m             \u001b[0morder\u001b[0m \u001b[0;34m=\u001b[0m \u001b[0mnp\u001b[0m\u001b[0;34m.\u001b[0m\u001b[0margsort\u001b[0m\u001b[0;34m(\u001b[0m\u001b[0mdeltay_mx\u001b[0m\u001b[0;34m[\u001b[0m\u001b[0mthisTarget\u001b[0m\u001b[0;34m,\u001b[0m\u001b[0;34m:\u001b[0m\u001b[0;34m]\u001b[0m\u001b[0;34m)\u001b[0m\u001b[0;34m\u001b[0m\u001b[0m\n\u001b[0m\u001b[1;32m     13\u001b[0m             \u001b[0mquadX\u001b[0m \u001b[0;34m=\u001b[0m \u001b[0mdeltay_mx\u001b[0m\u001b[0;34m[\u001b[0m\u001b[0mthisTarget\u001b[0m\u001b[0;34m,\u001b[0m\u001b[0;34m:\u001b[0m\u001b[0;34m]\u001b[0m\u001b[0;34m[\u001b[0m\u001b[0morder\u001b[0m\u001b[0;34m]\u001b[0m\u001b[0;34m\u001b[0m\u001b[0m\n\u001b[1;32m     14\u001b[0m             \u001b[0mquadY\u001b[0m \u001b[0;34m=\u001b[0m \u001b[0mRVs_mx\u001b[0m\u001b[0;34m[\u001b[0m\u001b[0;34m:\u001b[0m\u001b[0;34m,\u001b[0m\u001b[0mepoch\u001b[0m\u001b[0;34m,\u001b[0m\u001b[0mcam\u001b[0m\u001b[0;34m]\u001b[0m\u001b[0;34m[\u001b[0m\u001b[0morder\u001b[0m\u001b[0;34m]\u001b[0m\u001b[0;34m\u001b[0m\u001b[0m\n",
        "\u001b[0;32m/Users/Carlos/Library/Enthought/Canopy_64bit/User/lib/python2.7/site-packages/numpy-1.8.1-py2.7-macosx-10.6-x86_64.egg/numpy/ma/core.pyc\u001b[0m in \u001b[0;36m__getitem__\u001b[0;34m(self, indx)\u001b[0m\n\u001b[1;32m   2990\u001b[0m \u001b[0;31m#            raise IndexError(msg)\u001b[0m\u001b[0;34m\u001b[0m\u001b[0;34m\u001b[0m\u001b[0m\n\u001b[1;32m   2991\u001b[0m         \u001b[0m_data\u001b[0m \u001b[0;34m=\u001b[0m \u001b[0mndarray\u001b[0m\u001b[0;34m.\u001b[0m\u001b[0mview\u001b[0m\u001b[0;34m(\u001b[0m\u001b[0mself\u001b[0m\u001b[0;34m,\u001b[0m \u001b[0mndarray\u001b[0m\u001b[0;34m)\u001b[0m\u001b[0;34m\u001b[0m\u001b[0m\n\u001b[0;32m-> 2992\u001b[0;31m         \u001b[0mdout\u001b[0m \u001b[0;34m=\u001b[0m \u001b[0mndarray\u001b[0m\u001b[0;34m.\u001b[0m\u001b[0m__getitem__\u001b[0m\u001b[0;34m(\u001b[0m\u001b[0m_data\u001b[0m\u001b[0;34m,\u001b[0m \u001b[0mindx\u001b[0m\u001b[0;34m)\u001b[0m\u001b[0;34m\u001b[0m\u001b[0m\n\u001b[0m\u001b[1;32m   2993\u001b[0m         \u001b[0;31m# We could directly use ndarray.__getitem__ on self...\u001b[0m\u001b[0;34m\u001b[0m\u001b[0;34m\u001b[0m\u001b[0m\n\u001b[1;32m   2994\u001b[0m         \u001b[0;31m# But then we would have to modify __array_finalize__ to prevent the\u001b[0m\u001b[0;34m\u001b[0m\u001b[0;34m\u001b[0m\u001b[0m\n",
        "\u001b[0;31mIndexError\u001b[0m: too many indices"
       ]
      }
     ],
     "prompt_number": 179
    },
    {
     "cell_type": "code",
     "collapsed": false,
     "input": [
      "#the full loop\n",
      "\n",
      "#array to map pivot# to y-position\n",
      "p2y = pivot_to_y('20aug10037tlm.fits')\n",
      "\n",
      "#quad reduced RVs array initialise\n",
      "quadRVs = np.zeros(RVs.shape)\n",
      "\n",
      "\n",
      "for thisTarget in range(RVs.shape[0]): #1 loop per target\n",
      "\n",
      "    #distances to target (in y-coords)\n",
      "    deltay = p2y[data[:,2].astype(int)] - p2y[data[myTarget,2].astype(int)]\n",
      "    mask = np.zeros(RVs.shape[0]).astype(bool)\n",
      "    mask[myTarget] = True\n",
      "    deltay_mx = np.ma.masked_array(deltay, mask=mask)\n",
      "    \n",
      "    #create RV mask to exclude target and stars with RV>3000m/s\\\n",
      "    mask = np.zeros(RVs.shape).astype(bool)\n",
      "    RVs_mx = np.ma.masked_array(RVs, mask=mask)\n",
      "    sigmas_mx = np.ma.masked_array(sigmas, mask=mask)\n",
      "    #     mask[np.unique(np.where(np.abs(RVs)>3000)[0])]=False\n",
      "#     mask[[33]]=False\n",
      "    \n",
      "    c = ['b','g','r','cyan']\n",
      "\n",
      "    for cam in range(4):\n",
      "        weights = calibrator_weights(deltay_mx, sigmas_mx[:,0,cam])\n",
      "        weights = np.insert(weights, thisTarget, 0)\n",
      "        for epoch in range(5):\n",
      "            \n",
      "            order = np.argsort(deltay_mx)\n",
      "            quadX = deltay_mx[order]\n",
      "            quadY = RVs_mx[:,epoch,cam][order]\n",
      "            fRVs,__ = fit_quad([1,1,0], quadX, quadY )\n",
      "            fittedCurve = quad(quadX, fRVs[0], fRVs[1], fRVs[2])\n",
      "            quadRVs[thisTarget,epoch,cam]=RVs[thisTarget,epoch,cam]-np.sum(weights[order]*(RVs[:,epoch,cam][order]-fittedCurve))\n",
      "\n",
      "#             print RVs[myTarget,epoch,cam]-np.sum(weights*RVs[:,epoch,cam][mask]),RVs[myTarget,epoch,cam],np.sum(weights*RVs[:,epoch,cam][mask])\n",
      "#             if cam==0:plt.errorbar(epoch,RVs[myTarget,epoch,cam]-np.sum(weights*RVs[:,epoch,cam][mask]))\n",
      "#             plt.scatter(quadX, quadY, marker= '+', c= 'k' , label='Original RVs')\n",
      "#             plt.plot(quadX,fittedCurve, label='Quadratic fit')\n",
      "#             plt.scatter(quadX,quadY-fittedCurve, c=c[cam], label='Quadratic corrected RVs')\n",
      "#             plt.legend(loc=0)\n",
      "#             plt.show()\n",
      "#             if epoch==3:\n",
      "# #                 plt.scatter(deltay[mask][order],\n",
      "# #                             RVs[:,epoch,cam][mask][order]-fittedCurve[myTarget],\n",
      "# #                             s = 10**3*weights,\n",
      "# #                             c= 'r', \n",
      "# #                             label = cam,\n",
      "# #                             marker ='o')\n",
      "#                 plt.scatter(deltay[mask],\n",
      "#                             RVs[:,epoch,cam][mask],\n",
      "#                             s = 10**3*weights,\n",
      "#                             c= c[cam], \n",
      "#                             label = cam,\n",
      "#                             marker ='o')\n",
      "#                 plt.scatter(deltay[mask], quadRVs[:,epoch,cam][mask], s = 10**3*weights,c= c[cam], label = cam)\n",
      "#                 plt.scatter(deltay[mask], stableRVs[:,epoch,cam][mask], s = 10**3*weights, marker= '+', c= 'k')\n",
      "#             order = np.argsort(deltay[mask])\n",
      "#             plt.plot(deltay[mask][order], (weights*2000)[order], label=i,c= c[cam])\n",
      "#             plt.plot(deltay[mask][order], (sigmas[:,epoch,cam]*100)[order], label=i,c= c[cam])\n",
      "#     plt.xticks(data[:,0])\n",
      "#     ax.set_xticks(deltay[mask])\n",
      "#     ax.set_xticklabels(data[:,0][mask])\n",
      "# plt.legend()\n",
      "# plt.ylabel('RV[m/s]')\n",
      "# plt.xlabel('deltay[px]')\n",
      "# plt.show()\n",
      "quadRVs = np.array(quadRVs)\n"
     ],
     "language": "python",
     "metadata": {},
     "outputs": [],
     "prompt_number": 361
    },
    {
     "cell_type": "code",
     "collapsed": false,
     "input": [],
     "language": "python",
     "metadata": {},
     "outputs": [
      {
       "metadata": {},
       "output_type": "pyout",
       "prompt_number": 399,
       "text": [
        "(38, 15, 4)"
       ]
      }
     ],
     "prompt_number": 399
    },
    {
     "cell_type": "code",
     "collapsed": false,
     "input": [
      "#the full loop - New\n",
      "\n",
      "#array to map pivot# to y-position\n",
      "p2y = pivot_to_y('20aug10037tlm.fits')\n",
      "\n",
      "#quad reduced RVs array initialise\n",
      "quadRVs = np.zeros(RVs.shape) #cuadratic corrected\n",
      "RV_corr = np.zeros(RVs.shape) #RV corrections from other stars\n",
      "\n",
      "\n",
      "for thisTarget in range(RVs.shape[0]): #1 loop per target\n",
      "\n",
      "    #distances to target (in y-coords)\n",
      "    deltay = p2y[data[:,2].astype(int)] - p2y[data[thisTarget,2].astype(int)]\n",
      "    deltay = np.delete(deltay, thisTarget)\n",
      "    \n",
      "    colors = ['b','g','r','cyan']\n",
      "\n",
      "    for cam in range(4):\n",
      "        weights = calibrator_weights(deltay, np.delete(sigmas[:,0,cam], thisTarget))\n",
      "        weights = np.insert(weights, thisTarget, 0)\n",
      "\n",
      "        for epoch in range(RVs.shape[1]):\n",
      "            \n",
      "#             order = np.argsort(deltay_mx)\n",
      "#             quadX = deltay_mx[order]\n",
      "#             quadY = RVs_mx[:,epoch,cam][order]\n",
      "#             fRVs,__ = fit_quad([1,1,0], quadX, quadY )\n",
      "#             fittedCurve = quad(quadX, fRVs[0], fRVs[1], fRVs[2])\n",
      "#             quadRVs[thisTarget,epoch,cam]=RVs[thisTarget,epoch,cam]-np.sum(weights[order]*(RVs[:,epoch,cam][order]-fittedCurve))\n",
      "            RV_corr[thisTarget,epoch,cam] = np.sum(weights*RVs[:,epoch,cam])\n",
      "\n",
      "quadRVs = np.array(quadRVs)\n",
      "WRVs = np.array(RVs-RV_corr)\n"
     ],
     "language": "python",
     "metadata": {},
     "outputs": [],
     "prompt_number": 43
    },
    {
     "cell_type": "code",
     "collapsed": false,
     "input": [
      "# save?\n",
      "# np.save('quadRVs',quadRVs)"
     ],
     "language": "python",
     "metadata": {},
     "outputs": [],
     "prompt_number": 55
    },
    {
     "cell_type": "code",
     "collapsed": false,
     "input": [
      "# quadRVs=np.load('quadRVs.npy')"
     ],
     "language": "python",
     "metadata": {},
     "outputs": []
    },
    {
     "cell_type": "heading",
     "level": 3,
     "metadata": {},
     "source": [
      "Plots, sanity checks, results"
     ]
    },
    {
     "cell_type": "code",
     "collapsed": false,
     "input": [
      "colors = ['b','g','r','cyan']"
     ],
     "language": "python",
     "metadata": {},
     "outputs": [],
     "prompt_number": 29
    },
    {
     "cell_type": "code",
     "collapsed": false,
     "input": [
      "#opens a single star\n",
      "filename = 'red_'+data[13,0]+'.obj'\n",
      "filehandler = open(filename, 'r')\n",
      "thisStar = pickle.load(filehandler)\n",
      "thisCam=thisStar.exposures.cameras[0]"
     ],
     "language": "python",
     "metadata": {},
     "outputs": [],
     "prompt_number": 55
    },
    {
     "cell_type": "code",
     "collapsed": false,
     "input": [
      "#all red fluxes for the active camera\n",
      "for x,y,label in zip(thisCam.wavelengths, thisCam.red_fluxes, thisCam.fileNames):\n",
      "    plt.plot(x,y, label= label)\n",
      "plt.title(thisStar.name)\n",
      "plt.legend(loc = 0)\n",
      "plt.show()"
     ],
     "language": "python",
     "metadata": {},
     "outputs": [],
     "prompt_number": 227
    },
    {
     "cell_type": "code",
     "collapsed": false,
     "input": [
      "#all RVs from current camera for a single target - bary corrected. \n",
      "plt.scatter(thisStar.exposures.JDs, (thisCam.RVs - thisStar.exposures.rel_baryVels), c=colors[0])\n",
      "# plt.scatter(thisStar.exposures.JDs, thisCam.RVs, c=colors[0])\n",
      "# plt.scatter(thisStar.exposures.JDs[[0,1,4,7,-1]], RV_iraf + thisStar.exposures.rel_baryVels[[0,1,4,7,-1]], c=colors[2])\n",
      "# plt.plot(thisStar.exposures.JDs,  thisStar.exposures.rel_baryVels)\n",
      "plt.title(thisStar.name+' RV wrt t0 - Blue Camera')\n",
      "plt.ylabel('RV [m/s]')\n",
      "plt.xlabel('JD')\n",
      "# plt.legend(loc = 0)\n",
      "plt.show()"
     ],
     "language": "python",
     "metadata": {},
     "outputs": [],
     "prompt_number": 58
    },
    {
     "cell_type": "code",
     "collapsed": false,
     "input": [
      "#RVs, WRVs, RV_corr for all targets vs JD\n",
      "for i in range(RVs.shape[0]):\n",
      "#     plt.scatter(JDs, RVs[i,:,0], c='b')\n",
      "    plt.scatter(JDs, WRVs[i,:,0], c='g')\n",
      "    plt.scatter(JDs, RV_corr[i,:,1], c='r')\n",
      "    plt.title(data[i,0])\n",
      "    plt.show()"
     ],
     "language": "python",
     "metadata": {},
     "outputs": [],
     "prompt_number": 35
    },
    {
     "cell_type": "code",
     "collapsed": false,
     "input": [
      "deltay = p2y[data[:,2].astype(int)] - p2y[data[myTarget,2].astype(int)]\n",
      "mask = np.zeros(RVs.shape[0]).astype(bool)\n",
      "mask[myTarget] = True\n",
      "deltay_mx = np.ma.masked_array(deltay, mask=mask)\n",
      "\n",
      "#create RV mask to exclude target and stars with RV>3000m/s\\\n",
      "mask = np.zeros(RVs.shape).astype(bool)\n",
      "RVs_mx = np.ma.masked_array(RVs, mask=mask)\n",
      "sigmas_mx = np.ma.masked_array(sigmas, mask=mask)\n",
      "sigmas_mx.mask[myTarget,:,:] = True\n",
      "# print calibrator_weights(deltay_mx.compressed(), sigmas_mx[:,0,cam].compressed()).shape\n",
      "a = calibrator_weights(deltay_mx, sigmas_mx[:,0,cam])\n",
      "a = np.insert(a, myTarget, 0)\n",
      "plt.plot( a)\n",
      "plt.show()"
     ],
     "language": "python",
     "metadata": {},
     "outputs": [],
     "prompt_number": 73
    },
    {
     "cell_type": "code",
     "collapsed": false,
     "input": [
      "fRVs,__ = optimize.curve_fit(quad, quadX, quadY, p0 = [-0.001,-0.001,quadY[np.where(deltay==np.min(np.abs(deltay)))[0][0]]], )\n",
      "plt.scatter( quadX, quadY)\n",
      "smoothX = np.linspace(np.min(quadX), np.max(quadX))\n",
      "fittedCurve = quad(quadX, fRVs[0], fRVs[1], fRVs[2])\n",
      "plt.plot(quadX,fittedCurve)\n",
      "plt.scatter(quadX,quadY*fittedCurve, c='r')\n",
      "plt.show()\n",
      "print 'params',fRVs"
     ],
     "language": "python",
     "metadata": {},
     "outputs": [
      {
       "ename": "IndexError",
       "evalue": "index out of bounds",
       "output_type": "pyerr",
       "traceback": [
        "\u001b[0;31m---------------------------------------------------------------------------\u001b[0m\n\u001b[0;31mIndexError\u001b[0m                                Traceback (most recent call last)",
        "\u001b[0;32m<ipython-input-46-5972f7130739>\u001b[0m in \u001b[0;36m<module>\u001b[0;34m()\u001b[0m\n\u001b[0;32m----> 1\u001b[0;31m \u001b[0mfRVs\u001b[0m\u001b[0;34m,\u001b[0m\u001b[0m__\u001b[0m \u001b[0;34m=\u001b[0m \u001b[0moptimize\u001b[0m\u001b[0;34m.\u001b[0m\u001b[0mcurve_fit\u001b[0m\u001b[0;34m(\u001b[0m\u001b[0mquad\u001b[0m\u001b[0;34m,\u001b[0m \u001b[0mquadX\u001b[0m\u001b[0;34m,\u001b[0m \u001b[0mquadY\u001b[0m\u001b[0;34m,\u001b[0m \u001b[0mp0\u001b[0m \u001b[0;34m=\u001b[0m \u001b[0;34m[\u001b[0m\u001b[0;34m-\u001b[0m\u001b[0;36m0.001\u001b[0m\u001b[0;34m,\u001b[0m\u001b[0;34m-\u001b[0m\u001b[0;36m0.001\u001b[0m\u001b[0;34m,\u001b[0m\u001b[0mquadY\u001b[0m\u001b[0;34m[\u001b[0m\u001b[0mnp\u001b[0m\u001b[0;34m.\u001b[0m\u001b[0mwhere\u001b[0m\u001b[0;34m(\u001b[0m\u001b[0mdeltay\u001b[0m\u001b[0;34m==\u001b[0m\u001b[0mnp\u001b[0m\u001b[0;34m.\u001b[0m\u001b[0mmin\u001b[0m\u001b[0;34m(\u001b[0m\u001b[0mnp\u001b[0m\u001b[0;34m.\u001b[0m\u001b[0mabs\u001b[0m\u001b[0;34m(\u001b[0m\u001b[0mdeltay\u001b[0m\u001b[0;34m)\u001b[0m\u001b[0;34m)\u001b[0m\u001b[0;34m)\u001b[0m\u001b[0;34m[\u001b[0m\u001b[0;36m0\u001b[0m\u001b[0;34m]\u001b[0m\u001b[0;34m[\u001b[0m\u001b[0;36m0\u001b[0m\u001b[0;34m]\u001b[0m\u001b[0;34m]\u001b[0m\u001b[0;34m]\u001b[0m\u001b[0;34m,\u001b[0m \u001b[0;34m)\u001b[0m\u001b[0;34m\u001b[0m\u001b[0m\n\u001b[0m\u001b[1;32m      2\u001b[0m \u001b[0mplt\u001b[0m\u001b[0;34m.\u001b[0m\u001b[0mscatter\u001b[0m\u001b[0;34m(\u001b[0m \u001b[0mquadX\u001b[0m\u001b[0;34m,\u001b[0m \u001b[0mquadY\u001b[0m\u001b[0;34m)\u001b[0m\u001b[0;34m\u001b[0m\u001b[0m\n\u001b[1;32m      3\u001b[0m \u001b[0msmoothX\u001b[0m \u001b[0;34m=\u001b[0m \u001b[0mnp\u001b[0m\u001b[0;34m.\u001b[0m\u001b[0mlinspace\u001b[0m\u001b[0;34m(\u001b[0m\u001b[0mnp\u001b[0m\u001b[0;34m.\u001b[0m\u001b[0mmin\u001b[0m\u001b[0;34m(\u001b[0m\u001b[0mquadX\u001b[0m\u001b[0;34m)\u001b[0m\u001b[0;34m,\u001b[0m \u001b[0mnp\u001b[0m\u001b[0;34m.\u001b[0m\u001b[0mmax\u001b[0m\u001b[0;34m(\u001b[0m\u001b[0mquadX\u001b[0m\u001b[0;34m)\u001b[0m\u001b[0;34m)\u001b[0m\u001b[0;34m\u001b[0m\u001b[0m\n\u001b[1;32m      4\u001b[0m \u001b[0mfittedCurve\u001b[0m \u001b[0;34m=\u001b[0m \u001b[0mquad\u001b[0m\u001b[0;34m(\u001b[0m\u001b[0mquadX\u001b[0m\u001b[0;34m,\u001b[0m \u001b[0mfRVs\u001b[0m\u001b[0;34m[\u001b[0m\u001b[0;36m0\u001b[0m\u001b[0;34m]\u001b[0m\u001b[0;34m,\u001b[0m \u001b[0mfRVs\u001b[0m\u001b[0;34m[\u001b[0m\u001b[0;36m1\u001b[0m\u001b[0;34m]\u001b[0m\u001b[0;34m,\u001b[0m \u001b[0mfRVs\u001b[0m\u001b[0;34m[\u001b[0m\u001b[0;36m2\u001b[0m\u001b[0;34m]\u001b[0m\u001b[0;34m)\u001b[0m\u001b[0;34m\u001b[0m\u001b[0m\n\u001b[1;32m      5\u001b[0m \u001b[0mplt\u001b[0m\u001b[0;34m.\u001b[0m\u001b[0mplot\u001b[0m\u001b[0;34m(\u001b[0m\u001b[0mquadX\u001b[0m\u001b[0;34m,\u001b[0m\u001b[0mfittedCurve\u001b[0m\u001b[0;34m)\u001b[0m\u001b[0;34m\u001b[0m\u001b[0m\n",
        "\u001b[0;31mIndexError\u001b[0m: index out of bounds"
       ]
      }
     ],
     "prompt_number": 46
    },
    {
     "cell_type": "code",
     "collapsed": false,
     "input": [
      "plt.scatter(JDs,quadRVs[30,:,0], c='r', label = 'stable star (observed)')\n",
      "plt.scatter(JDs,quadRVs[36,:,1], c='g', label = 'HD285507 (observed)')\n",
      "start_day = 2456889.500000 # The Julian date for CE  2014 August 20 00:00:00.0 UT  (10am australia)\n",
      "end_day = 2456895.500000 #The Julian date for CE  2014 August 26 00:00:00.0 UT (10am australia)\n",
      "\n",
      "days = np.linspace(start_day, end_day)  - 2400000\n",
      "\n",
      "P = 6.0881\n",
      "peri_arg = 182\n",
      "peri_time = 2456257.5- 2400000\n",
      "K1 =125.8\n",
      "RV = K1* np.sin((days-peri_time)/P*2*np.pi + peri_arg/360*2*np.pi )\n",
      "plt.plot(days, RV, linewidth = 1, label = 'HD285507' )\n",
      "plt.legend(loc=0)\n",
      "plt.xlabel('JD')\n",
      "plt.ylabel('RV [m/s]')\n",
      "plt.show()"
     ],
     "language": "python",
     "metadata": {},
     "outputs": [],
     "prompt_number": 77
    },
    {
     "cell_type": "code",
     "collapsed": false,
     "input": [
      "plt.plot(sigmas.flatten())\n",
      "plt.show()"
     ],
     "language": "python",
     "metadata": {},
     "outputs": [],
     "prompt_number": 77
    },
    {
     "cell_type": "heading",
     "level": 2,
     "metadata": {},
     "source": [
      "Plots"
     ]
    },
    {
     "cell_type": "code",
     "collapsed": false,
     "input": [
      "def plot_all_spec_cams(thisStar):    #All spectra for all cameras\n",
      "    \n",
      "    fig, ax = plt.subplots(2,2, sharey='all')\n",
      "    \n",
      "    # ax.set_yticks(thisStar.exposures.JDs)\n",
      "    # ax.set_ylim(np.min(thisStar.exposures.JDs)-1,np.min(thisStar.exposures.JDs)+1)\n",
      "    for cam in range(4):\n",
      "        thisCam = thisStar.exposures.cameras[cam]\n",
      "        fileNames =  thisCam.fileNames\n",
      "        nFluxes = thisCam.wavelengths.shape[0]\n",
      "        ax[0,0].set_yticks(np.arange(0,nFluxes))\n",
      "        ax[0,0].set_ylim(-1,nFluxes)\n",
      "    \n",
      "        for i in np.arange(nFluxes):\n",
      "            d, f = thisCam.clean_wavelengths[i], thisCam.clean_fluxes[i]\n",
      "            if cam ==0:\n",
      "                ax[0,0].plot(d, f+i, 'b')\n",
      "            elif cam==1:\n",
      "                ax[0,1].plot(d, f+i, 'g')\n",
      "            elif cam==2:\n",
      "                ax[1,0].plot(d, f+i, 'r')\n",
      "            elif cam==3:\n",
      "                ax[1,1].plot(d, f+i, 'cyan')\n",
      "        #         ax.plot(d, f+thisStar.exposures.JDs[i], 'k')\n",
      "    \n",
      "    plt.xlabel('Wavelength [Ang]')\n",
      "    plt.title(thisStar.name+' - Camera '+str(cam+1))\n",
      "    ax[0,0].set_yticklabels(fileNames)\n",
      "    plt.show()\n"
     ],
     "language": "python",
     "metadata": {},
     "outputs": [],
     "prompt_number": 162
    },
    {
     "cell_type": "code",
     "collapsed": false,
     "input": [
      "RVs1 = np.load('RVs1.npy') \n",
      "RVs2 = np.load('RVs2.npy') \n",
      "RVs3 = np.load('RVs3.npy') \n",
      "RVs4 = np.load('RVs4.npy') \n",
      "JDs = np.load('JDs.npy') "
     ],
     "language": "python",
     "metadata": {},
     "outputs": [],
     "prompt_number": 66
    },
    {
     "cell_type": "code",
     "collapsed": false,
     "input": [
      "#Plots RVs, baryvels for all 4 cameras\n",
      "plt.title('Average of all decorrelated targets')\n",
      "mask = np.abs(quadRVs)<3000\n",
      "quadRVs[-mask]=np.nan\n",
      "# for i in range(RVs.shape[0]):\n",
      "    # plt.plot(thisStar.exposures.JDs, thisStar.exposures.rel_baryVels, label = 'Barycentric Vel. ')\n",
      "try:\n",
      "#         plt.scatter(JDs, stableRVs[i,:,0], label = 'Blue', color ='b' )\n",
      "#     plt.scatter(JDs, np.median(quadRVs[:,:,0],axis=0), label = 'Blue', color ='b' )\n",
      "    plt.errorbar(JDs, np.nanmean(quadRVs[:,:,0],axis=0), yerr=np.nanstd(quadRVs[:,:,0],axis=0), label = 'Blue', color ='b' )\n",
      "#     plt.errorbar(JDs, np.nanmean(RVs[:,:,0],axis=0), yerr=np.nanstd(RVs[:,:,0],axis=0), label = 'Blue', color ='b' )\n",
      "    pass\n",
      "except:pass\n",
      "try:\n",
      "#     plt.scatter(JDs, stableRVs[i,:,1], label = 'Green', color ='g' )\n",
      "#     plt.scatter(JDs, np.median(quadRVs[:,:,1],axis=0), label = 'Green', color ='g' )\n",
      "    plt.errorbar(JDs, np.nanmean(quadRVs[:,:,1],axis=0), yerr=np.nanstd(quadRVs[:,:,1],axis=0), label = 'Green', color ='g' )\n",
      "#     plt.errorbar(JDs, np.nanmean(RVs[:,:,1],axis=0), yerr=np.nanstd(RVs[:,:,1],axis=0), label = 'Green', color ='g' )\n",
      "    pass\n",
      "except:pass\n",
      "try:\n",
      "#     plt.scatter(JDs, stableRVs[i,:,2], label = 'Red', color ='r' )\n",
      "#     plt.scatter(JDs, np.median(quadRVs[:,:,2],axis=0), label = 'Red', color ='r' )\n",
      "    plt.errorbar(JDs, np.nanmean(quadRVs[:,:,2],axis=0), yerr=np.nanstd(quadRVs[:,:,2],axis=0), label = 'Red', color ='r' )\n",
      "#     plt.errorbar(JDs, np.nanmean(RVs[:,:,2],axis=0), yerr=np.nanstd(RVs[:,:,2],axis=0), label = 'Red', color ='r' )\n",
      "    pass\n",
      "except:pass\n",
      "try:\n",
      "#     plt.scatter(JDs, stableRVs[i,:,3], label = 'IR', color ='cyan' )\n",
      "#     plt.scatter(JDs, np.median(stableRVs[:,:,3],axis=0), label = 'IR', color ='cyan' )\n",
      "    plt.errorbar(JDs, np.nanmean(quadRVs[:,:,3],axis=0), yerr=np.nanstd(quadRVs[:,:,3],axis=0), label = 'IR', color ='cyan' )\n",
      "    pass\n",
      "except:pass\n",
      "\n",
      "# start_day = 56889.000000 # The Julian date for CE  2014 August 20 00:00:00.0 UT  (10am australia)\n",
      "# end_day = 56895.000000 #The Julian date for CE  2014 August 26 00:00:00.0 UT (10am australia)\n",
      "\n",
      "# days = np.linspace(start_day, end_day) \n",
      "\n",
      "# K1=26100\n",
      "# peri_time = 19298.85\n",
      "# P=4.8202\n",
      "# peri_arg=269.3\n",
      "# RV = K1* np.sin( (days-peri_time)/P*2*np.pi - peri_arg/360*2*np.pi )\n",
      "# plt.plot(days, RV, linewidth = 1, label = 'rhoTuc' )\n",
      "\n",
      "plt.xlabel('JD')\n",
      "plt.ylabel('RV [m/s]')\n",
      "plt.legend(loc=0)\n",
      "plt.show()"
     ],
     "language": "python",
     "metadata": {},
     "outputs": [],
     "prompt_number": 78
    },
    {
     "cell_type": "code",
     "collapsed": false,
     "input": [
      "mask = np.abs(quadRVs)<3000\n",
      "plt.plot(quadRVs[mask].flatten())\n",
      "plt.show()"
     ],
     "language": "python",
     "metadata": {},
     "outputs": [],
     "prompt_number": 331
    },
    {
     "cell_type": "code",
     "collapsed": false,
     "input": [
      "# np.save('RVs1',RVs1) \n",
      "# np.save('RVs2',RVs2) \n",
      "# np.save('RVs3',RVs3) \n",
      "# np.save('RVs4',RVs4) \n",
      "# np.save('JDs',JDs) "
     ],
     "language": "python",
     "metadata": {},
     "outputs": [],
     "prompt_number": 128
    },
    {
     "cell_type": "code",
     "collapsed": false,
     "input": [
      "#Plots RVs, baryvels. Single star, 4 cameras\n",
      "plt.title(filehandler.name[:-4])\n",
      "# plt.plot(thisStar.exposures.JDs, thisStar.exposures.rel_baryVels, label = 'Barycentric Vel. ')\n",
      "\n",
      "thisCam = thisStar.exposures.cameras[0]\n",
      "# RVMask = thisStar.exposures.my_data_mask\n",
      "# RVMask = ((thisStar.exposures.my_data_mask) & (np.abs(thisCam.RVs)<50000))\n",
      "RVMask = thisCam.safe_flag\n",
      "plt.scatter(thisStar.exposures.JDs[RVMask], thisCam.DDRVs[RVMask], label = 'Blue', color ='b' )\n",
      "# plt.errorbar(thisStar.exposures.JDs[RVMask], thisCam.DDRVs[RVMask], yerr=thisCam.sigmas[RVMask],fmt='.', label = 'Blue', color ='b' )\n",
      "\n",
      "thisCam = thisStar.exposures.cameras[1]\n",
      "# RVMask = thisStar.exposures.my_data_mask\n",
      "# RVMask = np.abs(thisCam.RVs)<1e6\n",
      "RVMask = thisCam.safe_flag\n",
      "plt.scatter(thisStar.exposures.JDs[RVMask], thisCam.DDRVs[RVMask], label = 'Green' , color ='g')\n",
      "# plt.errorbar(thisStar.exposures.JDs[RVMask], thisCam.RVs[RVMask], yerr=thisCam.sigmas[RVMask],fmt='.', label = 'Green' , color ='g')\n",
      "\n",
      "thisCam = thisStar.exposures.cameras[2]\n",
      "# RVMask = thisStar.exposures.my_data_mask\n",
      "# RVMask = np.abs(thisCam.RVs)<2e5\n",
      "RVMask = thisCam.safe_flag\n",
      "plt.scatter(thisStar.exposures.JDs[RVMask], thisCam.DDRVs[RVMask], label = 'Red' , color ='r')\n",
      "# plt.errorbar(thisStar.exposures.JDs[RVMask], thisCam.RVs[RVMask], yerr=thisCam.sigmas[RVMask],fmt='.', label = 'Red' , color ='r')\n",
      "\n",
      "thisCam = thisStar.exposures.cameras[3]\n",
      "# RVMask = thisStar.exposures.my_data_mask\n",
      "# RVMask = ((thisStar.exposures.my_data_mask) & (np.abs(thisCam.RVs)<20000))\n",
      "RVMask = thisCam.safe_flag\n",
      "plt.scatter(thisStar.exposures.JDs[RVMask], thisCam.DDRVs[RVMask], label = 'IR', color ='cyan' )\n",
      "# plt.errorbar(thisStar.exposures.JDs[RVMask], thisCam.RVs[RVMask], yerr=thisCam.sigmas[RVMask],fmt='.', label = 'IR', color ='cyan' )\n",
      "\n",
      "# start_day = 56889.000000 # The Julian date for CE  2014 August 20 00:00:00.0 UT  (10am australia)\n",
      "# end_day = 56895.000000 #The Julian date for CE  2014 August 26 00:00:00.0 UT (10am australia)\n",
      "\n",
      "# days = np.linspace(start_day, end_day) \n",
      "\n",
      "# K1=26100\n",
      "# peri_time = 19298.85\n",
      "# P=4.8202\n",
      "# peri_arg=269.3\n",
      "# RV = K1* np.sin( (days-peri_time)/P*2*np.pi - peri_arg/360*2*np.pi )\n",
      "# plt.plot(days, RV, linewidth = 1, label = 'rhoTuc' )\n",
      "\n",
      "plt.xlabel('JD')\n",
      "plt.ylabel('RV [m/s]')\n",
      "plt.legend(loc=3)\n",
      "plt.show()"
     ],
     "language": "python",
     "metadata": {},
     "outputs": [],
     "prompt_number": 69
    },
    {
     "cell_type": "code",
     "collapsed": false,
     "input": [
      "thisCam = thisStar.exposures.cameras[0]\n",
      "# for i in range(5):\n",
      "print thisCam.Ps\n",
      "print (thisCam.Ps[0,0]-thisCam.clean_wavelengths[0].shape[0]/2)\n",
      "print (-20480)*3000"
     ],
     "language": "python",
     "metadata": {},
     "outputs": [
      {
       "output_type": "stream",
       "stream": "stdout",
       "text": [
        "[[ 20480.00000041     31.22024091]\n",
        " [ 20479.18647047     33.74691434]\n",
        " [ 20479.5291172      33.19166508]\n",
        " [ 20479.33101668     32.03804502]\n",
        " [ 20500.34874949     42.66071609]]\n",
        "1.24415601022\n",
        "-61440000\n"
       ]
      }
     ],
     "prompt_number": 78
    },
    {
     "cell_type": "code",
     "collapsed": false,
     "input": [
      "#plots all data\n",
      "thisCam = thisStar.exposures.cameras[2]\n",
      "for i in [3]:\n",
      "    \n",
      "    fig = plt.gcf()\n",
      "    fig.suptitle(filehandler.name[:-4]+' - t0 vs t'+str(i)+' - RV='+str(thisCam.RVs[i])+' m/s', fontsize=14)\n",
      "\n",
      "    plt.subplot(221)\n",
      "    plt.title('Clean Flux')\n",
      "    plt.plot(thisCam.clean_wavelengths[i][::50],thisCam.clean_fluxes[i][::50])\n",
      "    plt.xlabel('Wavelength [ang]')\n",
      "    plt.ylabel('Flux [Counts]')\n",
      "    plt.legend(loc=0)\n",
      "    \n",
      "    plt.subplot(223)\n",
      "    plt.title('Clean Flux - Detail')\n",
      "    plt.plot(thisCam.clean_wavelengths[0],thisCam.clean_fluxes[0], label = 't0 Flux')\n",
      "    plt.plot(thisCam.clean_wavelengths[i],thisCam.clean_fluxes[i], label = 'Epoch '+str(i))\n",
      "#     plt.axis((4859,4864, -1,1))\n",
      "    plt.xlabel('Wavelength [ang]')\n",
      "    plt.ylabel('Flux [Counts]')\n",
      "    plt.legend(loc=0)\n",
      "\n",
      "    plt.subplot(222)\n",
      "    plt.title('Cross Correlation Result')\n",
      "    plt.plot((thisCam.clean_wavelengths[i]-np.median(thisCam.clean_wavelengths[i]))/thisCam.clean_wavelengths[i]*const.c,thisCam.CCCurves[i]/np.max(thisCam.CCCurves[i]))\n",
      "    plt.plot((thisCam.clean_wavelengths[i]-np.median(thisCam.clean_wavelengths[i]))/thisCam.clean_wavelengths[i]*const.c,\n",
      "             gaussian(range(len(thisCam.clean_wavelengths[i])), thisCam.Ps[i][0], thisCam.Ps[i][1]), label = 'gaussian fit') \n",
      "    plt.xlabel('RV [m/s]')\n",
      "    plt.legend(loc=0)\n",
      "    \n",
      "    plt.subplot(224)\n",
      "    plt.title('Cross Correlation Result - Detail')\n",
      "    plt.plot((thisCam.clean_wavelengths[i]-np.median(thisCam.clean_wavelengths[i]))/thisCam.clean_wavelengths[i]*const.c,thisCam.CCCurves[i]/np.max(thisCam.CCCurves[i]))\n",
      "    plt.plot((thisCam.clean_wavelengths[i]-np.median(thisCam.clean_wavelengths[i]))/thisCam.clean_wavelengths[i]*const.c,\n",
      "             gaussian(range(len(thisCam.clean_wavelengths[i])), thisCam.Ps[i][0], thisCam.Ps[i][1]), label = 'gaussian fit') \n",
      "    plt.axis((-8000, 8000,0.5,1.1) )\n",
      "    plt.xlabel('RV [m/s]')\n",
      "    plt.legend(loc=2)    \n",
      "\n",
      "    plt.tight_layout()\n",
      "    plt.show()\n"
     ],
     "language": "python",
     "metadata": {},
     "outputs": [
      {
       "output_type": "stream",
       "stream": "stdout",
       "text": [
        "No labeled objects found. Use label='...' kwarg on individual plots.\n",
        "tight_layout : falling back to Agg renderer\n"
       ]
      }
     ],
     "prompt_number": 176
    },
    {
     "cell_type": "code",
     "collapsed": false,
     "input": [],
     "language": "python",
     "metadata": {},
     "outputs": []
    },
    {
     "cell_type": "code",
     "collapsed": false,
     "input": [
      "#plots all CC fitted gausian results\\n\",\n",
      "# for i in range(CCCurves.shape[0]):\\n\",\n",
      "thisCam = thisStar.exposures.cameras[0]\n",
      "for i in range(10):\n",
      "    plt.plot((thisCam.clean_wavelengths[i]-np.median(thisCam.clean_wavelengths[i]))/thisCam.clean_wavelengths[i]*const.c,thisCam.CCCurves[i]/np.max(thisCam.CCCurves[i]))\n",
      "#     plt.plot((thisCam.clean_wavelengths[i]-np.median(thisCam.clean_wavelengths[i]))/thisCam.clean_wavelengths[i]*const.c,\n",
      "#              gaussian(range(len(thisCam.clean_wavelengths[i])), thisCam.Ps[i][0], thisCam.Ps[i][1])) \n",
      "    plt.xlabel('RV [m/s]')\n",
      "plt.show()\n"
     ],
     "language": "python",
     "metadata": {},
     "outputs": [
      {
       "ename": "IndexError",
       "evalue": "index 8 is out of bounds for axis 0 with size 8",
       "output_type": "pyerr",
       "traceback": [
        "\u001b[0;31m---------------------------------------------------------------------------\u001b[0m\n\u001b[0;31mIndexError\u001b[0m                                Traceback (most recent call last)",
        "\u001b[0;32m<ipython-input-69-58fec993073f>\u001b[0m in \u001b[0;36m<module>\u001b[0;34m()\u001b[0m\n\u001b[1;32m      3\u001b[0m \u001b[0mthisCam\u001b[0m \u001b[0;34m=\u001b[0m \u001b[0mthisStar\u001b[0m\u001b[0;34m.\u001b[0m\u001b[0mexposures\u001b[0m\u001b[0;34m.\u001b[0m\u001b[0mcameras\u001b[0m\u001b[0;34m[\u001b[0m\u001b[0;36m0\u001b[0m\u001b[0;34m]\u001b[0m\u001b[0;34m\u001b[0m\u001b[0m\n\u001b[1;32m      4\u001b[0m \u001b[0;32mfor\u001b[0m \u001b[0mi\u001b[0m \u001b[0;32min\u001b[0m \u001b[0mrange\u001b[0m\u001b[0;34m(\u001b[0m\u001b[0;36m10\u001b[0m\u001b[0;34m)\u001b[0m\u001b[0;34m:\u001b[0m\u001b[0;34m\u001b[0m\u001b[0m\n\u001b[0;32m----> 5\u001b[0;31m     \u001b[0mplt\u001b[0m\u001b[0;34m.\u001b[0m\u001b[0mplot\u001b[0m\u001b[0;34m(\u001b[0m\u001b[0;34m(\u001b[0m\u001b[0mthisCam\u001b[0m\u001b[0;34m.\u001b[0m\u001b[0mclean_wavelengths\u001b[0m\u001b[0;34m[\u001b[0m\u001b[0mi\u001b[0m\u001b[0;34m]\u001b[0m\u001b[0;34m-\u001b[0m\u001b[0mnp\u001b[0m\u001b[0;34m.\u001b[0m\u001b[0mmedian\u001b[0m\u001b[0;34m(\u001b[0m\u001b[0mthisCam\u001b[0m\u001b[0;34m.\u001b[0m\u001b[0mclean_wavelengths\u001b[0m\u001b[0;34m[\u001b[0m\u001b[0mi\u001b[0m\u001b[0;34m]\u001b[0m\u001b[0;34m)\u001b[0m\u001b[0;34m)\u001b[0m\u001b[0;34m/\u001b[0m\u001b[0mthisCam\u001b[0m\u001b[0;34m.\u001b[0m\u001b[0mclean_wavelengths\u001b[0m\u001b[0;34m[\u001b[0m\u001b[0mi\u001b[0m\u001b[0;34m]\u001b[0m\u001b[0;34m*\u001b[0m\u001b[0mconst\u001b[0m\u001b[0;34m.\u001b[0m\u001b[0mc\u001b[0m\u001b[0;34m,\u001b[0m\u001b[0mthisCam\u001b[0m\u001b[0;34m.\u001b[0m\u001b[0mCCCurves\u001b[0m\u001b[0;34m[\u001b[0m\u001b[0mi\u001b[0m\u001b[0;34m]\u001b[0m\u001b[0;34m/\u001b[0m\u001b[0mnp\u001b[0m\u001b[0;34m.\u001b[0m\u001b[0mmax\u001b[0m\u001b[0;34m(\u001b[0m\u001b[0mthisCam\u001b[0m\u001b[0;34m.\u001b[0m\u001b[0mCCCurves\u001b[0m\u001b[0;34m[\u001b[0m\u001b[0mi\u001b[0m\u001b[0;34m]\u001b[0m\u001b[0;34m)\u001b[0m\u001b[0;34m)\u001b[0m\u001b[0;34m\u001b[0m\u001b[0m\n\u001b[0m\u001b[1;32m      6\u001b[0m \u001b[0;31m#     plt.plot((thisCam.clean_wavelengths[i]-np.median(thisCam.clean_wavelengths[i]))/thisCam.clean_wavelengths[i]*const.c,\u001b[0m\u001b[0;34m\u001b[0m\u001b[0;34m\u001b[0m\u001b[0m\n\u001b[1;32m      7\u001b[0m \u001b[0;31m#              gaussian(range(len(thisCam.clean_wavelengths[i])), thisCam.Ps[i][0], thisCam.Ps[i][1]))\u001b[0m\u001b[0;34m\u001b[0m\u001b[0;34m\u001b[0m\u001b[0m\n",
        "\u001b[0;31mIndexError\u001b[0m: index 8 is out of bounds for axis 0 with size 8"
       ]
      }
     ],
     "prompt_number": 69
    },
    {
     "cell_type": "code",
     "collapsed": false,
     "input": [
      "#Debuging CC - resampling and cleaning tests\n",
      "flux1 = thisStar.exposures.cameras[0].red_fluxes[0]\n",
      "lambda1 = thisStar.exposures.cameras[0].wavelengths[0]\n",
      "lambda1Clean_10, flux1Clean_10 = clean_flux(flux1, 1, lambda1)\n",
      "# lambda1Clean_10, flux1Clean_10 = clean_flux(flux1, xDef, lambda1)\n",
      "# lambda1Clean_100, flux1Clean_100 = clean_flux(flux1, 100, lambda1)\\n\",\n",
      "plt.plot(lambda1,flux1/np.max(flux1), label= 'Reduced')\n",
      "# plt.plot(lambda1Clean_1,flux1Clean_1)\n",
      "plt.plot(lambda1Clean_10,flux1Clean_10, label= 'Clean')\n",
      "# plt.plot(lambda1Clean_100,flux1Clean_100)\n",
      "plt.title('Reduced and Clean flux')\n",
      "plt.xlabel('Wavelength [Ang.]')\n",
      "plt.ylabel('Relatuve Flux')\n",
      "plt.legend(loc=0)\n",
      "plt.show()\n"
     ],
     "language": "python",
     "metadata": {},
     "outputs": [],
     "prompt_number": 70
    },
    {
     "cell_type": "code",
     "collapsed": false,
     "input": [
      "#Saves\n",
      "# delattr(thisStar.exposures.cameras[0],'clean_fluxes')\n",
      "# delattr(thisStar.exposures.cameras[1],'clean_fluxes')\n",
      "# delattr(thisStar.exposures.cameras[2],'clean_fluxes')\n",
      "# delattr(thisStar.exposures.cameras[3],'clean_fluxes')\n",
      "# delattr(thisStar.exposures.cameras[0],'clean_wavelengths')\n",
      "# delattr(thisStar.exposures.cameras[1],'clean_wavelengths')\n",
      "# delattr(thisStar.exposures.cameras[2],'clean_wavelengths')\n",
      "# delattr(thisStar.exposures.cameras[3],'clean_wavelengths')\n",
      "# file_pi = open(filehandler.name, 'w') \n",
      "# pickle.dump(thisStar, file_pi) \n",
      "# file_pi.close()\n",
      "# filehandler.close()\n",
      "# thisStar = None"
     ],
     "language": "python",
     "metadata": {},
     "outputs": [],
     "prompt_number": 78
    },
    {
     "cell_type": "code",
     "collapsed": false,
     "input": [
      "1/10e-6/3600"
     ],
     "language": "python",
     "metadata": {},
     "outputs": [
      {
       "metadata": {},
       "output_type": "pyout",
       "prompt_number": 79,
       "text": [
        "27.777777777777775"
       ]
      }
     ],
     "prompt_number": 79
    },
    {
     "cell_type": "code",
     "collapsed": false,
     "input": [],
     "language": "python",
     "metadata": {},
     "outputs": []
    }
   ],
   "metadata": {}
  }
 ]
}