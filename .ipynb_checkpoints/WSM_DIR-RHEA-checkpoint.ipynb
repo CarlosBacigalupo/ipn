{
 "metadata": {
  "name": ""
 },
 "nbformat": 3,
 "nbformat_minor": 0,
 "worksheets": [
  {
   "cells": [
    {
     "cell_type": "heading",
     "level": 2,
     "metadata": {},
     "source": [
      "DIR-RHEA data reduction cook book"
     ]
    },
    {
     "cell_type": "code",
     "collapsed": false,
     "input": [
      "import numpy as np\n",
      "import pylab as plt\n",
      "import pyfits as pf\n",
      "import os\n",
      "from mpl_toolkits.mplot3d import Axes3D\n",
      "\n",
      "import wsm "
     ],
     "language": "python",
     "metadata": {},
     "outputs": [],
     "prompt_number": 1
    },
    {
     "cell_type": "code",
     "collapsed": false,
     "input": [
      "baseDir = '/Users/Carlos/Documents/IZA/reductions/3/'\n",
      "os.chdir(baseDir)"
     ],
     "language": "python",
     "metadata": {},
     "outputs": [],
     "prompt_number": 2
    },
    {
     "cell_type": "code",
     "collapsed": false,
     "input": [
      "#instantiate the spectrograph class and load the model xml file into corresponding subclasses\n",
      "xml = 'dirhea_v2.xml'\n",
      "calibFileName='calibMap.txt'\n",
      "dirhea = wsm.spectrograph()\n",
      "dirhea.read_xml(xml)"
     ],
     "language": "python",
     "metadata": {},
     "outputs": [],
     "prompt_number": 3
    },
    {
     "cell_type": "heading",
     "level": 4,
     "metadata": {},
     "source": [
      "Load arcs, darks, science and wavelengths list prevously created"
     ]
    },
    {
     "cell_type": "code",
     "collapsed": false,
     "input": [
      "arc1 = np.load('arc1.npy')\n",
      "arc2 = np.load('arc2.npy')\n",
      "arc3 = np.load('arc3.npy')\n",
      "\n",
      "lambda1 = np.load('lambda1.npy')\n",
      "lambda2 = np.load('lambda2.npy')\n",
      "lambda3 = np.load('lambda3.npy')\n",
      "\n",
      "sun1 = np.load('sun1_0.npy')\n",
      "sun1_n = sun1/np.max(sun1)\n",
      "sun2 = np.load('sun2_0.npy')\n",
      "sun2_n = sun2/np.max(sun2)\n",
      "sun3 = np.load('sun3_0.npy')\n",
      "sun3_n = sun3/np.max(sun3)\n",
      "\n",
      "darkSun1 = np.load('darkSun1.npy')\n",
      "darkSun2 = np.load('darkSun2.npy')\n",
      "darkSun3 = np.load('darkSun3.npy')\n",
      "\n",
      "sun1_d = sun1 - darkSun1\n",
      "sun2_d = sun2 - darkSun2\n",
      "sun3_d = sun3 - darkSun3\n"
     ],
     "language": "python",
     "metadata": {},
     "outputs": [],
     "prompt_number": 4
    },
    {
     "cell_type": "code",
     "collapsed": false,
     "input": [
      "# im = np.vstack((np.sum(im2, 2), np.sum(im1, 2), np.sum(im3, 2)))\n",
      "# sun = np.vstack((sun2, sun1, sun3)) #from bottom to top"
     ],
     "language": "python",
     "metadata": {},
     "outputs": [],
     "prompt_number": 5
    },
    {
     "cell_type": "code",
     "collapsed": false,
     "input": [
      "# a = np.vstack((np.sum(arc2,2),np.sum(arc1,2),np.sum(arc3,2)))\n",
      "# plt.imshow(fullImage, origin = 'lower')\n",
      "# plt.show()"
     ],
     "language": "python",
     "metadata": {},
     "outputs": [],
     "prompt_number": 6
    },
    {
     "cell_type": "heading",
     "level": 4,
     "metadata": {},
     "source": [
      "Find offset from arcs"
     ]
    },
    {
     "cell_type": "code",
     "collapsed": false,
     "input": [
      "offset, removeCam2, removeCam1 = dirhea.find_offset(arc1, arc2, arc3, lambda1, lambda2, lambda3)"
     ],
     "language": "python",
     "metadata": {},
     "outputs": [
      {
       "output_type": "stream",
       "stream": "stdout",
       "text": [
        "[ 260.  309.] [ 617.  607.]\n",
        "[ 255.  304.] [ 34.  25.]\n",
        "[ 5.  5.] [ 583.  582.]\n",
        "\n",
        "[ 235.  236.  287.  287.] [ 595.  563.  603.  565.]\n",
        "[ 230.  232.  278.  281.] [ 45.  14.  53.  16.]\n",
        "[ 5.  4.  9.  6.] [ 550.  549.  550.  549.]\n"
       ]
      }
     ],
     "prompt_number": 7
    },
    {
     "cell_type": "code",
     "collapsed": false,
     "input": [
      "removeCam2"
     ],
     "language": "python",
     "metadata": {},
     "outputs": [
      {
       "metadata": {},
       "output_type": "pyout",
       "prompt_number": 8,
       "text": [
        "array([1, 7])"
       ]
      }
     ],
     "prompt_number": 8
    },
    {
     "cell_type": "code",
     "collapsed": false,
     "input": [
      "plt.subplot(311)\n",
      "plt.title('cam3')\n",
      "plt.imshow(np.sum(arc3,2), origin = 'lower')\n",
      "plt.subplot(312)\n",
      "plt.title('cam1')\n",
      "plt.imshow(np.sum(arc1,2), origin = 'lower')\n",
      "plt.subplot(313)\n",
      "plt.title('cam2')\n",
      "plt.imshow(np.sum(arc2,2), origin = 'lower')\n",
      "plt.show()"
     ],
     "language": "python",
     "metadata": {},
     "outputs": [],
     "prompt_number": 17
    },
    {
     "cell_type": "heading",
     "level": 4,
     "metadata": {},
     "source": [
      "create calibration map"
     ]
    },
    {
     "cell_type": "code",
     "collapsed": false,
     "input": [
      "#remove common points from overlaping regions in arc frames\n",
      "arc2 = np.delete(arc2,removeCam2,2)\n",
      "lambda2 = np.delete(lambda2,removeCam2)\n",
      "arc1 = np.delete(arc1,removeCam1,2)\n",
      "lambda1 = np.delete(lambda1,removeCam1)"
     ],
     "language": "python",
     "metadata": {},
     "outputs": [],
     "prompt_number": 8
    },
    {
     "cell_type": "code",
     "collapsed": false,
     "input": [
      "#find peaks for each line (could be replaces with a centroid function, currently looks for the max value)\n",
      "peaks1 = dirhea.find_peaks_im(arc1, lambda1)\n",
      "peaks2 = dirhea.find_peaks_im(arc2, lambda2)\n",
      "peaks3 = dirhea.find_peaks_im(arc3, lambda3)"
     ],
     "language": "python",
     "metadata": {},
     "outputs": [],
     "prompt_number": 5
    },
    {
     "cell_type": "code",
     "collapsed": false,
     "input": [
      "#displace from offset to prepare for stitching\n",
      "peaks1[:,0] += offset[0,0]\n",
      "peaks3[:,0] += offset[1,0]\n",
      "peaks1[:,1] += offset[0,1]\n",
      "peaks3[:,1] += offset[1,1]"
     ],
     "language": "python",
     "metadata": {},
     "outputs": [],
     "prompt_number": 10
    },
    {
     "cell_type": "code",
     "collapsed": false,
     "input": [
      "#stacks into calibration map (x_px, y_px, wavelemgth, sigma_x ,sigma_y\n",
      "calibrationMap = np.vstack((peaks1, peaks2, peaks3))"
     ],
     "language": "python",
     "metadata": {},
     "outputs": [],
     "prompt_number": 11
    },
    {
     "cell_type": "code",
     "collapsed": false,
     "input": [
      "calibrationMap = peaks1.copy()"
     ],
     "language": "python",
     "metadata": {},
     "outputs": [],
     "prompt_number": 6
    },
    {
     "cell_type": "code",
     "collapsed": false,
     "input": [
      "#potentially save calibration map\n",
      "np.savetxt(calibFileName,calibrationMap)"
     ],
     "language": "python",
     "metadata": {},
     "outputs": [],
     "prompt_number": 7
    },
    {
     "cell_type": "heading",
     "level": 4,
     "metadata": {},
     "source": [
      "Alternatively load calibrationMap directly"
     ]
    },
    {
     "cell_type": "code",
     "collapsed": false,
     "input": [
      "calibrationMap = np.loadtxt(calibFileName)"
     ],
     "language": "python",
     "metadata": {},
     "outputs": [],
     "prompt_number": 8
    },
    {
     "cell_type": "heading",
     "level": 4,
     "metadata": {},
     "source": [
      "Stich into single image"
     ]
    },
    {
     "cell_type": "code",
     "collapsed": false,
     "input": [
      "#sum because arcs are x by y by n datacubes (n is the number of lines)\n",
      "fullArc = dirhea.stitch(np.sum(arc1,2), np.sum(arc2,2),np.sum(arc3,2), offset) \n",
      "\n",
      "\n",
      "#other frames\n",
      "fullScience_d = dirhea.stitch(sun1_d, sun2_d, sun3_d, offset)\n",
      "fullScience = dirhea.stitch(sun1, sun2, sun3, offset)\n",
      "fullDarks = dirhea.stitch(darkSun1, darkSun2, darkSun3, offset)"
     ],
     "language": "python",
     "metadata": {},
     "outputs": [
      {
       "ename": "NameError",
       "evalue": "name 'offset' is not defined",
       "output_type": "pyerr",
       "traceback": [
        "\u001b[0;31m---------------------------------------------------------------------------\u001b[0m\n\u001b[0;31mNameError\u001b[0m                                 Traceback (most recent call last)",
        "\u001b[0;32m<ipython-input-7-953bd87961e2>\u001b[0m in \u001b[0;36m<module>\u001b[0;34m()\u001b[0m\n\u001b[1;32m      1\u001b[0m \u001b[0;31m#sum because arcs are x by y by n datacubes (n is the number of lines)\u001b[0m\u001b[0;34m\u001b[0m\u001b[0;34m\u001b[0m\u001b[0m\n\u001b[0;32m----> 2\u001b[0;31m \u001b[0mfullArc\u001b[0m \u001b[0;34m=\u001b[0m \u001b[0mdirhea\u001b[0m\u001b[0;34m.\u001b[0m\u001b[0mstitch\u001b[0m\u001b[0;34m(\u001b[0m\u001b[0mnp\u001b[0m\u001b[0;34m.\u001b[0m\u001b[0msum\u001b[0m\u001b[0;34m(\u001b[0m\u001b[0marc1\u001b[0m\u001b[0;34m,\u001b[0m\u001b[0;36m2\u001b[0m\u001b[0;34m)\u001b[0m\u001b[0;34m,\u001b[0m \u001b[0mnp\u001b[0m\u001b[0;34m.\u001b[0m\u001b[0msum\u001b[0m\u001b[0;34m(\u001b[0m\u001b[0marc2\u001b[0m\u001b[0;34m,\u001b[0m\u001b[0;36m2\u001b[0m\u001b[0;34m)\u001b[0m\u001b[0;34m,\u001b[0m\u001b[0mnp\u001b[0m\u001b[0;34m.\u001b[0m\u001b[0msum\u001b[0m\u001b[0;34m(\u001b[0m\u001b[0marc3\u001b[0m\u001b[0;34m,\u001b[0m\u001b[0;36m2\u001b[0m\u001b[0;34m)\u001b[0m\u001b[0;34m,\u001b[0m \u001b[0moffset\u001b[0m\u001b[0;34m)\u001b[0m\u001b[0;34m\u001b[0m\u001b[0m\n\u001b[0m\u001b[1;32m      3\u001b[0m \u001b[0;34m\u001b[0m\u001b[0m\n\u001b[1;32m      4\u001b[0m \u001b[0;31m#single image attempt\u001b[0m\u001b[0;34m\u001b[0m\u001b[0;34m\u001b[0m\u001b[0m\n\u001b[1;32m      5\u001b[0m \u001b[0mfullArc\u001b[0m \u001b[0;34m=\u001b[0m \u001b[0mnp\u001b[0m\u001b[0;34m.\u001b[0m\u001b[0msum\u001b[0m\u001b[0;34m(\u001b[0m\u001b[0marc1\u001b[0m\u001b[0;34m,\u001b[0m\u001b[0;36m2\u001b[0m\u001b[0;34m)\u001b[0m\u001b[0;34m\u001b[0m\u001b[0m\n",
        "\u001b[0;31mNameError\u001b[0m: name 'offset' is not defined"
       ]
      }
     ],
     "prompt_number": 7
    },
    {
     "cell_type": "code",
     "collapsed": false,
     "input": [
      "#single image attempt\n",
      "fullArc = np.sum(arc1,2)\n",
      "fullScience = sun1.copy()\n"
     ],
     "language": "python",
     "metadata": {},
     "outputs": [],
     "prompt_number": 8
    },
    {
     "cell_type": "code",
     "collapsed": false,
     "input": [
      "#export images into csv\n",
      "# dirhea.write_csv_from_im('20140502_arc.csv', fullArc)\n",
      "# dirhea.write_csv_from_im('20140502_science.csv', fullScience)\n",
      "# dirhea.write_csv_from_im('20140502_dark.csv', fullDarks)\n",
      "# np.savetxt('offset.txt', offset)"
     ],
     "language": "python",
     "metadata": {},
     "outputs": [],
     "prompt_number": 14
    },
    {
     "cell_type": "heading",
     "level": 3,
     "metadata": {},
     "source": [
      "Eliminate non matched lines from calibrationMap and CCDMap to do fitting (or load previously done, see below)"
     ]
    },
    {
     "cell_type": "code",
     "collapsed": false,
     "input": [
      "xml = 'dirhea_v2.xml'\n",
      "dirhea.orders = range(30,29,-1)"
     ],
     "language": "python",
     "metadata": {},
     "outputs": [],
     "prompt_number": 14
    },
    {
     "cell_type": "code",
     "collapsed": false,
     "input": [
      "calibrationMap"
     ],
     "language": "python",
     "metadata": {},
     "outputs": [
      {
       "metadata": {},
       "output_type": "pyout",
       "prompt_number": 15,
       "text": [
        "array([[ 235.     ,  595.     ,    1.506  ,    0.     ,    0.     ],\n",
        "       [ 236.     ,  563.     ,    1.50707,    0.     ,    0.     ],\n",
        "       [ 249.     ,  397.     ,    1.5125 ,    0.     ,    0.     ],\n",
        "       [ 255.     ,  221.     ,    1.518  ,    0.     ,    0.     ],\n",
        "       [ 256.     ,   71.     ,    1.523  ,    0.     ,    0.     ],\n",
        "       [ 255.     ,   34.     ,    1.5243 ,    0.     ,    0.     ],\n",
        "       [ 287.     ,  603.     ,    1.55   ,    0.     ,    0.     ],\n",
        "       [ 287.     ,  565.     ,    1.5513 ,    0.     ,    0.     ],\n",
        "       [ 301.     ,  303.     ,    1.56   ,    0.     ,    0.     ],\n",
        "       [ 304.     ,  191.     ,    1.564  ,    0.     ,    0.     ],\n",
        "       [ 305.     ,   71.     ,    1.568  ,    0.     ,    0.     ],\n",
        "       [ 304.     ,   25.     ,    1.5695 ,    0.     ,    0.     ]])"
       ]
      }
     ],
     "prompt_number": 15
    },
    {
     "cell_type": "code",
     "collapsed": false,
     "input": [
      "#create SED map from calibration map\n",
      "SEDMap = np.unique(calibrationMap[:,2])\n",
      "SEDMap = np.vstack((SEDMap, np.ones(len(SEDMap)))).transpose()"
     ],
     "language": "python",
     "metadata": {},
     "outputs": [],
     "prompt_number": 16
    },
    {
     "cell_type": "code",
     "collapsed": true,
     "input": [
      "#create CCD map from initial model\n",
      "CCDMap,CCDMapOffset = dirhea.create_ccd_map(SEDMap, xml)"
     ],
     "language": "python",
     "metadata": {},
     "outputs": [],
     "prompt_number": 17
    },
    {
     "cell_type": "code",
     "collapsed": false,
     "input": [
      "wsm.plot().ccd_map(CCDMapOffset, backImage = fullArc)"
     ],
     "language": "python",
     "metadata": {},
     "outputs": [],
     "prompt_number": 18
    },
    {
     "cell_type": "heading",
     "level": 5,
     "metadata": {},
     "source": [
      "The next step needs to be done several times until the list of lines produced by the model matches the ones in the calibration file\n",
      "On click, the closest point (from either CCDMap or calibration file) will be removed. \n",
      "To restore, recreate the CCDMap, in the line above, or reload the calibration map."
     ]
    },
    {
     "cell_type": "code",
     "collapsed": false,
     "input": [
      "#plot calibration map in interactive mode to eliminate unpaired arc lines in both/either CCD Map and calibration map\n",
      "calibrationMap, dirhea.arcMapMask = wsm.plot().calib_points_CCDMap(calibrationMap, backImage = fullArc, CCDMap = CCDMapOffset, booLabels = True, canvasSize=1, title = 'Calibration vs Model (wavelength assigned)', booInteractive=100, arcMapMask = dirhea.arcMapMask)\n",
      "\n"
     ],
     "language": "python",
     "metadata": {},
     "outputs": [
      {
       "output_type": "stream",
       "stream": "stdout",
       "text": [
        "CCDMap points:  12\n",
        "Calibration Points:  12\n"
       ]
      }
     ],
     "prompt_number": 15
    },
    {
     "cell_type": "code",
     "collapsed": false,
     "input": [
      "#plot calibration map in interactive mode to eliminate unpaired arc lines in both/either CCD Map and calibration map\n",
      "calibrationMap, dirhea.arcMapMask = wsm.plot().calib_points_CCDMap(calibrationMap, backImage = fullArc, CCDMap = CCDMapOffset, booLabels = True, canvasSize=1, title = 'Calibration vs Model (wavelength assigned)', booInteractive=0, arcMapMask = dirhea.arcMapMask)\n"
     ],
     "language": "python",
     "metadata": {},
     "outputs": [],
     "prompt_number": 18
    },
    {
     "cell_type": "code",
     "collapsed": false,
     "input": [
      "np.savetxt('rhea_arcMask.txt', dirhea.arcMapMask )"
     ],
     "language": "python",
     "metadata": {},
     "outputs": [],
     "prompt_number": 19
    },
    {
     "cell_type": "heading",
     "level": 4,
     "metadata": {},
     "source": [
      "Alternatively, you can load the calibration map and arc mask previously created"
     ]
    },
    {
     "cell_type": "code",
     "collapsed": false,
     "input": [
      "dirhea.arcMapMask = np.loadtxt('rhea_arcMask.txt').astype(bool)\n",
      "calibrationMap = np.loadtxt(calibFileName)"
     ],
     "language": "python",
     "metadata": {},
     "outputs": [],
     "prompt_number": 18
    },
    {
     "cell_type": "code",
     "collapsed": false,
     "input": [
      "wsm.plot().calib_points_CCDMap(calibrationMap, backImage = fullArc, CCDMap = CCDMapOffset, booLabels = True, canvasSize=1, title = 'Calibration vs Model (wavelength assigned)', booInteractive=0, arcMapMask = dirhea.arcMapMask)\n"
     ],
     "language": "python",
     "metadata": {},
     "outputs": [
      {
       "metadata": {},
       "output_type": "pyout",
       "prompt_number": 19,
       "text": [
        "(array([[  2.54000000e+02,   9.79000000e+02,   1.51250000e+00,\n",
        "          0.00000000e+00,   0.00000000e+00],\n",
        "       [  2.60000000e+02,   8.03000000e+02,   1.51800000e+00,\n",
        "          0.00000000e+00,   0.00000000e+00],\n",
        "       [  2.61000000e+02,   6.53000000e+02,   1.52300000e+00,\n",
        "          0.00000000e+00,   0.00000000e+00],\n",
        "       [  2.60000000e+02,   6.16000000e+02,   1.52430000e+00,\n",
        "          0.00000000e+00,   0.00000000e+00],\n",
        "       [  3.06000000e+02,   8.85000000e+02,   1.56000000e+00,\n",
        "          0.00000000e+00,   0.00000000e+00],\n",
        "       [  3.09000000e+02,   7.73000000e+02,   1.56400000e+00,\n",
        "          0.00000000e+00,   0.00000000e+00],\n",
        "       [  3.10000000e+02,   6.53000000e+02,   1.56800000e+00,\n",
        "          0.00000000e+00,   0.00000000e+00],\n",
        "       [  3.09000000e+02,   6.07000000e+02,   1.56950000e+00,\n",
        "          0.00000000e+00,   0.00000000e+00],\n",
        "       [  1.71000000e+02,   9.00000000e+00,   1.50000000e+00,\n",
        "          0.00000000e+00,   0.00000000e+00],\n",
        "       [  2.57000000e+02,   5.29000000e+02,   1.52700000e+00,\n",
        "          0.00000000e+00,   0.00000000e+00],\n",
        "       [  2.55000000e+02,   4.35000000e+02,   1.53000000e+00,\n",
        "          0.00000000e+00,   0.00000000e+00],\n",
        "       [  2.53000000e+02,   4.03000000e+02,   1.53100000e+00,\n",
        "          0.00000000e+00,   0.00000000e+00],\n",
        "       [  2.30000000e+02,   1.05000000e+02,   1.54000000e+00,\n",
        "          0.00000000e+00,   0.00000000e+00],\n",
        "       [  2.21000000e+02,   3.00000000e+01,   1.54230000e+00,\n",
        "          0.00000000e+00,   0.00000000e+00],\n",
        "       [  3.04000000e+02,   4.68000000e+02,   1.57400000e+00,\n",
        "          0.00000000e+00,   0.00000000e+00],\n",
        "       [  2.94000000e+02,   2.82000000e+02,   1.57980000e+00,\n",
        "          0.00000000e+00,   0.00000000e+00],\n",
        "       [  2.27000000e+02,   1.32000000e+03,   1.50100000e+00,\n",
        "          0.00000000e+00,   0.00000000e+00],\n",
        "       [  2.41000000e+02,   1.17700000e+03,   1.50600000e+00,\n",
        "          0.00000000e+00,   0.00000000e+00],\n",
        "       [  2.43000000e+02,   1.14600000e+03,   1.50707000e+00,\n",
        "          0.00000000e+00,   0.00000000e+00],\n",
        "       [  2.11000000e+02,   1.75200000e+03,   1.52990000e+00,\n",
        "          0.00000000e+00,   0.00000000e+00],\n",
        "       [  2.13000000e+02,   1.74800000e+03,   1.53000000e+00,\n",
        "          0.00000000e+00,   0.00000000e+00],\n",
        "       [  2.18000000e+02,   1.71900000e+03,   1.53100000e+00,\n",
        "          0.00000000e+00,   0.00000000e+00],\n",
        "       [  2.41000000e+02,   1.58400000e+03,   1.53590000e+00,\n",
        "          0.00000000e+00,   0.00000000e+00],\n",
        "       [  2.58000000e+02,   1.46300000e+03,   1.54000000e+00,\n",
        "          0.00000000e+00,   0.00000000e+00],\n",
        "       [  2.78000000e+02,   1.33000000e+03,   1.54500000e+00,\n",
        "          0.00000000e+00,   0.00000000e+00],\n",
        "       [  2.89000000e+02,   1.18500000e+03,   1.55000000e+00,\n",
        "          0.00000000e+00,   0.00000000e+00],\n",
        "       [  2.92000000e+02,   1.14800000e+03,   1.55130000e+00,\n",
        "          0.00000000e+00,   0.00000000e+00],\n",
        "       [  2.62000000e+02,   1.75100000e+03,   1.57630000e+00,\n",
        "          0.00000000e+00,   0.00000000e+00],\n",
        "       [  2.70000000e+02,   1.70700000e+03,   1.57800000e+00,\n",
        "          0.00000000e+00,   0.00000000e+00],\n",
        "       [  2.80000000e+02,   1.65000000e+03,   1.58000000e+00,\n",
        "          0.00000000e+00,   0.00000000e+00]]),\n",
        " array([False, False, False, False, False,  True,  True, False,  True,\n",
        "       False, False, False, False,  True,  True,  True,  True,  True,\n",
        "       False,  True,  True,  True,  True,  True,  True,  True,  True,\n",
        "       False, False,  True, False, False,  True,  True,  True,  True,\n",
        "        True,  True,  True,  True, False,  True,  True, False,  True,\n",
        "        True, False, False, False,  True, False, False, False, False], dtype=bool))"
       ]
      }
     ],
     "prompt_number": 19
    },
    {
     "cell_type": "heading",
     "level": 3,
     "metadata": {},
     "source": [
      "With the right calibration/model points, you can start the fitting"
     ]
    },
    {
     "cell_type": "code",
     "collapsed": false,
     "input": [
      "diagTry = np.ones(15)\n",
      "#if happy, find fit\n",
      "dirhea.find_fit(SEDMap, xml, calibrationMap, p_try=[], factorTry=1, diagTry=diagTry, showStats=False, booWriteP=True)\n"
     ],
     "language": "python",
     "metadata": {},
     "outputs": [
      {
       "output_type": "stream",
       "stream": "stdout",
       "text": [
        "Total diff = 7689.84166457\n",
        "Total diff = 7689.84166457\n",
        "Total diff = 7689.84166457\n",
        "Total diff = 7689.84166457\n",
        "Total diff ="
       ]
      },
      {
       "output_type": "stream",
       "stream": "stdout",
       "text": [
        " 7689.84166457\n",
        "Total diff = 7689.84166457\n",
        "Total diff = 7689.84166457\n",
        "Total diff = 7689.84166457\n",
        "Total diff ="
       ]
      },
      {
       "output_type": "stream",
       "stream": "stdout",
       "text": [
        " 7689.84166457\n",
        "Total diff = 7689.84166457\n",
        "Total diff = 7689.84166457\n",
        "Total diff = 7689.84166457\n",
        "Total diff = 7689.84166457\n",
        "Total diff ="
       ]
      },
      {
       "output_type": "stream",
       "stream": "stdout",
       "text": [
        " 7689.84166457\n",
        "Total diff = 7689.84166457\n",
        "Total diff = 7689.84166457\n",
        "Total diff = 7689.84166457\n",
        "Total diff = 7689.84166457\n",
        "Total diff ="
       ]
      },
      {
       "output_type": "stream",
       "stream": "stdout",
       "text": [
        " 7689.84166457\n",
        "Total diff = 7689.84166457\n",
        "Total diff = 7689.84166457\n",
        "Total diff = 7689.84166457\n",
        "Total diff = 7689.84166457\n",
        "Total diff ="
       ]
      },
      {
       "output_type": "stream",
       "stream": "stdout",
       "text": [
        " 7689.84166457\n",
        "Total diff = 7689.84166457\n",
        "Total diff = 7689.84166457\n",
        "Total diff = 7689.84166457\n",
        "Total diff = 7689.84166457\n",
        "Total diff ="
       ]
      },
      {
       "output_type": "stream",
       "stream": "stdout",
       "text": [
        " 7689.84166457\n",
        "Total diff = 7689.84166457\n",
        "Total diff = 7689.84166457\n",
        "Total diff = 7689.84166457\n",
        "Total diff = 7689.84166457\n",
        "Total diff ="
       ]
      },
      {
       "output_type": "stream",
       "stream": "stdout",
       "text": [
        " 7689.84166457\n",
        "Total diff = 7689.84166457\n",
        "Total diff = 7689.84166457\n",
        "Total diff = 7689.84166457\n",
        "Total diff = 7689.84166457\n",
        "Total diff ="
       ]
      },
      {
       "output_type": "stream",
       "stream": "stdout",
       "text": [
        " 7689.84166457\n",
        "Total diff = 7689.84166457\n",
        "Total diff = 7689.84166457\n",
        "Total diff = 7689.84166457\n",
        "Total diff = 7689.84166457\n",
        "Total diff ="
       ]
      },
      {
       "output_type": "stream",
       "stream": "stdout",
       "text": [
        " 7689.84166457\n",
        "Total diff = 7689.84166457\n",
        "Total diff = 7689.84166457\n",
        "Total diff = 7689.84166457\n",
        "Total diff ="
       ]
      },
      {
       "output_type": "stream",
       "stream": "stdout",
       "text": [
        " 7689.84166457\n",
        "Total diff = 7689.84166457\n",
        "Total diff = 7689.84166457\n",
        "Total diff = 7689.84166457\n",
        "Total diff ="
       ]
      },
      {
       "output_type": "stream",
       "stream": "stdout",
       "text": [
        " 7689.84166457\n",
        "Total diff = 7689.84166457\n",
        "Total diff = 7689.84166457\n",
        "Total diff = 7689.84166457\n",
        "Total diff ="
       ]
      },
      {
       "output_type": "stream",
       "stream": "stdout",
       "text": [
        " 7689.84166457\n",
        "Total diff = 7689.84166457\n",
        "Total diff = 7689.84166457\n",
        "Total diff = 7689.84166457\n",
        "Total diff ="
       ]
      },
      {
       "output_type": "stream",
       "stream": "stdout",
       "text": [
        " 7689.84166457\n",
        "Total diff = 7689.84166457\n",
        "Total diff = 7689.84166457\n",
        "Total diff = 7689.84166457\n",
        "Total diff ="
       ]
      },
      {
       "output_type": "stream",
       "stream": "stdout",
       "text": [
        " 7689.84166457\n",
        "Total diff = 7689.84166457\n",
        "Total diff = 7689.84166457\n",
        "Total diff = 7689.84166457\n",
        "Total diff = 7689.84166457\n",
        "Total diff ="
       ]
      },
      {
       "output_type": "stream",
       "stream": "stdout",
       "text": [
        " 7689.84166457\n",
        "Total diff = 7689.84166457\n",
        "Total diff = 7689.84166457\n",
        "Total diff = 7689.84166457\n",
        "Total diff = 7689.84166457\n",
        "Total diff ="
       ]
      },
      {
       "output_type": "stream",
       "stream": "stdout",
       "text": [
        " 7689.84166457\n",
        "Total diff = 7689.84166457\n",
        "Total diff = 7689.84166457\n",
        "Total diff = 7689.84166457\n",
        "Total diff = 7689.84166457\n",
        "Total diff ="
       ]
      },
      {
       "output_type": "stream",
       "stream": "stdout",
       "text": [
        " 7689.84166457\n",
        "Total diff = 7689.84166457\n",
        "Total diff = 7689.84166457\n",
        "Total diff = 7689.84166457\n",
        "Total diff = 7689.84166457\n",
        "Total diff ="
       ]
      },
      {
       "output_type": "stream",
       "stream": "stdout",
       "text": [
        " 7689.84166457\n",
        "Total diff = 7689.84166457\n",
        "Total diff = 7689.84166457\n",
        "Total diff = 7689.84166457\n",
        "Total diff = 7689.84166457\n",
        "Total diff ="
       ]
      },
      {
       "output_type": "stream",
       "stream": "stdout",
       "text": [
        " 7689.84166457\n",
        "Total diff = 7689.84166457\n",
        "Total diff = 7689.84166457\n",
        "Total diff = 7689.84166457\n",
        "Total diff = 7689.84166457\n",
        "Total diff ="
       ]
      },
      {
       "output_type": "stream",
       "stream": "stdout",
       "text": [
        " 7689.84166457\n",
        "Total diff = 7689.84166457\n",
        "Total diff = 7689.84166457\n",
        "Total diff = 7689.84166457\n",
        "Total diff = 7689.84166457\n",
        "Total diff ="
       ]
      },
      {
       "output_type": "stream",
       "stream": "stdout",
       "text": [
        " 7689.84166457\n",
        "Total diff = 7689.84166457\n",
        "Total diff = 7689.84166457\n",
        "Total diff = 7689.84166457\n",
        "Total diff = 7689.84166457\n",
        "Total diff ="
       ]
      },
      {
       "output_type": "stream",
       "stream": "stdout",
       "text": [
        " 7689.84166457\n",
        "Total diff = 7689.84166457\n",
        "Total diff = 7689.84166457\n",
        "Total diff = 7689.84166457\n",
        "Total diff ="
       ]
      },
      {
       "output_type": "stream",
       "stream": "stdout",
       "text": [
        " 7689.84166457\n",
        "Total diff = 7689.84166457\n",
        "Total diff = 7689.84166457\n",
        "Total diff = 7689.84166457\n",
        "Total diff ="
       ]
      },
      {
       "output_type": "stream",
       "stream": "stdout",
       "text": [
        " 7689.84166457\n",
        "Total diff = 7689.84166457\n",
        "Total diff = 7689.84166457\n",
        "Total diff = 7689.84166457\n",
        "Total diff ="
       ]
      },
      {
       "output_type": "stream",
       "stream": "stdout",
       "text": [
        " 7689.84166457\n",
        "Total diff = 7689.84166457\n",
        "Total diff = 7689.84166457\n",
        "Total diff = 7689.84166457\n",
        "Total diff ="
       ]
      },
      {
       "output_type": "stream",
       "stream": "stdout",
       "text": [
        " 7689.84166457\n",
        "Total diff = 7689.84166457\n",
        "Total diff = 7689.84166457\n",
        "Total diff = 7689.84166457\n",
        "Total diff ="
       ]
      },
      {
       "output_type": "stream",
       "stream": "stdout",
       "text": [
        " 7689.84166457\n",
        "Total diff = 7689.84166457\n",
        "Total diff = 7689.84166457\n",
        "Total diff = 7689.84166457\n",
        "Total diff ="
       ]
      },
      {
       "output_type": "stream",
       "stream": "stdout",
       "text": [
        " 7689.84166457\n",
        "Total diff = 7689.84166457\n",
        "Total diff = 7689.84166457\n",
        "Total diff = 7689.84166457\n",
        "Total diff ="
       ]
      },
      {
       "output_type": "stream",
       "stream": "stdout",
       "text": [
        " 7689.84166457\n",
        "Total diff = 7689.84166457\n",
        "Total diff = 7689.84166457\n",
        "Total diff = 7689.84166457\n",
        "Total diff ="
       ]
      },
      {
       "output_type": "stream",
       "stream": "stdout",
       "text": [
        " 7689.84166457\n",
        "Total diff = 7689.84166457\n",
        "Total diff = 7689.84166457\n",
        "Total diff = 7689.84166457\n",
        "Total diff ="
       ]
      },
      {
       "output_type": "stream",
       "stream": "stdout",
       "text": [
        " 7689.84166457\n",
        "Total diff = 7689.84166457\n",
        "Total diff = 7689.84166457\n",
        "Total diff = 7689.84166457\n",
        "Total diff ="
       ]
      },
      {
       "output_type": "stream",
       "stream": "stdout",
       "text": [
        " 7689.84166457\n",
        "Total diff = 7689.84166457\n",
        "Total diff = 7689.84166457\n",
        "Total diff = 7689.84166457\n",
        "Total diff ="
       ]
      },
      {
       "output_type": "stream",
       "stream": "stdout",
       "text": [
        " 7689.84166457\n",
        "Total diff = 7689.84166457\n",
        "Total diff = 7689.84166457\n",
        "Total diff = 7689.84166457\n",
        "Total diff ="
       ]
      },
      {
       "output_type": "stream",
       "stream": "stdout",
       "text": [
        " 7689.84166457\n",
        "Total diff = 7689.84166457\n",
        "Total diff = 7689.84166457\n",
        "Total diff = 7689.84166457\n",
        "Total diff ="
       ]
      },
      {
       "output_type": "stream",
       "stream": "stdout",
       "text": [
        " 7689.84166457\n",
        "Total diff = 7689.84166457\n",
        "Total diff = 7689.84166457\n",
        "Total diff = 7689.84166457\n",
        "Total diff ="
       ]
      },
      {
       "output_type": "stream",
       "stream": "stdout",
       "text": [
        " 7689.84166457\n",
        "Total diff = 7689.84166457\n",
        "Total diff = 7689.84166457\n",
        "Total diff = 7689.84166457\n",
        "Total diff = 7689.84166457\n",
        "Total diff ="
       ]
      },
      {
       "output_type": "stream",
       "stream": "stdout",
       "text": [
        " 7689.84166457\n",
        "Total diff = 7689.84166457\n",
        "Total diff = 7689.84166457\n",
        "Total diff = 7689.84166457\n",
        "Total diff = 7689.84166457\n",
        "Total diff ="
       ]
      },
      {
       "output_type": "stream",
       "stream": "stdout",
       "text": [
        " 7689.84166457\n",
        "Total diff = 7689.84166457\n",
        "Total diff = 7689.84166457\n",
        "Total diff = 7689.84166457\n",
        "Total diff ="
       ]
      },
      {
       "output_type": "stream",
       "stream": "stdout",
       "text": [
        " 7689.84166457\n",
        "Total diff = 7689.84166457\n",
        "Total diff = 7689.84166457\n",
        "Total diff = 7689.84166457\n",
        "Total diff ="
       ]
      },
      {
       "output_type": "stream",
       "stream": "stdout",
       "text": [
        " 7689.84166457\n",
        "Total diff = 7689.84166457\n",
        "Total diff = 7689.84166457\n",
        "Total diff = 7689.84166457\n",
        "Total diff = 7689.84166457\n",
        "Total diff ="
       ]
      },
      {
       "output_type": "stream",
       "stream": "stdout",
       "text": [
        " 7689.84166457\n",
        "Total diff = 7689.84166457\n",
        "Total diff = 7689.84166457\n",
        "Total diff = 7689.84166457\n",
        "Total diff ="
       ]
      },
      {
       "output_type": "stream",
       "stream": "stdout",
       "text": [
        " 7689.84166457\n",
        "Total diff = 7689.84166457\n",
        "Total diff = 7689.84166457\n",
        "Total diff = 7689.84166457\n",
        "Total diff ="
       ]
      },
      {
       "output_type": "stream",
       "stream": "stdout",
       "text": [
        " 7689.84166457\n",
        "Total diff = 7689.84166457\n",
        "Total diff = 7689.84166457\n",
        "Total diff = 7689.84166457\n",
        "Total diff ="
       ]
      },
      {
       "output_type": "stream",
       "stream": "stdout",
       "text": [
        " 7689.84166457\n",
        "Total diff = 7689.84166457\n",
        "Total diff = 7689.84166457\n",
        "Total diff = 7689.84166457\n",
        "Total diff = 7689.84166457\n",
        "Total diff ="
       ]
      },
      {
       "output_type": "stream",
       "stream": "stdout",
       "text": [
        " 7689.84166457\n",
        "Total diff = 7689.84166457\n",
        "Total diff = 7689.84166457\n",
        "Total diff = 7689.84166457\n",
        "Total diff = 7689.84166457\n",
        "Total diff ="
       ]
      },
      {
       "output_type": "stream",
       "stream": "stdout",
       "text": [
        " 7689.84166457\n",
        "Total diff = 7689.84166457\n",
        "Total diff = 7689.84166457\n",
        "Total diff = 7689.84166457\n",
        "Total diff ="
       ]
      },
      {
       "output_type": "stream",
       "stream": "stdout",
       "text": [
        " 7689.84166457\n",
        "Total diff = 7689.84166457\n",
        "Total diff = 7689.84166457\n",
        "Total diff = 7689.84166457\n",
        "Total diff ="
       ]
      },
      {
       "output_type": "stream",
       "stream": "stdout",
       "text": [
        " 7689.84166457\n",
        "Total diff = 7689.84166457\n",
        "Total diff = 7689.84166457\n",
        "Total diff = 7689.84166457\n",
        "Total diff ="
       ]
      },
      {
       "output_type": "stream",
       "stream": "stdout",
       "text": [
        " 7689.84166457\n",
        "Total diff = 7689.84166457\n",
        "Total diff = 7689.84166457\n",
        "Total diff = 7689.84166457\n",
        "Total diff = 7689.84166457\n",
        "Total diff ="
       ]
      },
      {
       "output_type": "stream",
       "stream": "stdout",
       "text": [
        " 7689.84166457\n",
        "Total diff = 7689.84166457\n",
        "Total diff = 7689.84166457\n",
        "Total diff = 7689.84166457\n",
        "Total diff ="
       ]
      },
      {
       "output_type": "stream",
       "stream": "stdout",
       "text": [
        " 7689.84166457\n",
        "Total diff = 7689.84166457\n",
        "Total diff = 7689.84166457\n",
        "Total diff = 7689.84166457\n",
        "Total diff = 7689.84166457\n",
        "Total diff ="
       ]
      },
      {
       "output_type": "stream",
       "stream": "stdout",
       "text": [
        " 7689.84166457\n",
        "Total diff = 7689.84166457\n",
        "Total diff = 7689.84166457\n",
        "Total diff = 7689.84166457\n",
        "Total diff = 7689.84166457\n",
        "Total diff ="
       ]
      },
      {
       "output_type": "stream",
       "stream": "stdout",
       "text": [
        " 7689.84166457\n",
        "Total diff = 7689.84166457\n",
        "Total diff = 7689.84166457\n",
        "Total diff = 7689.84166457\n",
        "Total diff = 7689.84166457\n",
        "Total diff ="
       ]
      },
      {
       "output_type": "stream",
       "stream": "stdout",
       "text": [
        " 7689.84166457\n",
        "Total diff = 7689.84166457\n",
        "Total diff = 7689.84166457\n",
        "Total diff = 7689.84166457\n",
        "Total diff ="
       ]
      },
      {
       "output_type": "stream",
       "stream": "stdout",
       "text": [
        " 7689.84166457\n",
        "Total diff = 7689.84166457\n",
        "Total diff = 7689.84166457\n",
        "Total diff = 7689.84166457\n",
        "Total diff = 7689.84166457\n",
        "Total diff ="
       ]
      },
      {
       "output_type": "stream",
       "stream": "stdout",
       "text": [
        " 7689.84166457\n",
        "Total diff = 7689.84166457\n",
        "Total diff = 7689.84166457\n",
        "Total diff = 7689.84166457\n",
        "Total diff = 7689.84166457\n",
        "Total diff ="
       ]
      },
      {
       "output_type": "stream",
       "stream": "stdout",
       "text": [
        " 7689.84166457\n",
        "Total diff = 7689.84166457\n",
        "Total diff = 7689.84166457\n",
        "Total diff = 7689.84166457\n",
        "Total diff ="
       ]
      },
      {
       "output_type": "stream",
       "stream": "stdout",
       "text": [
        " 7689.84166457\n",
        "Total diff = 7689.84166457\n",
        "Total diff = 7689.84166457\n",
        "Total diff = 7689.84166457\n",
        "Total diff ="
       ]
      },
      {
       "output_type": "stream",
       "stream": "stdout",
       "text": [
        " 7689.84166457\n",
        "Total diff = 7689.84166457\n",
        "Total diff = 7689.84166457\n",
        "Total diff = 7689.84166457\n",
        "Total diff ="
       ]
      },
      {
       "output_type": "stream",
       "stream": "stdout",
       "text": [
        " 7689.84166457\n",
        "Total diff = 7689.84166457\n",
        "Total diff = 7689.84166457\n",
        "Total diff = 7689.84166457\n",
        "Total diff ="
       ]
      },
      {
       "output_type": "stream",
       "stream": "stdout",
       "text": [
        " 7689.84166457\n",
        "Total diff = 7689.84166457\n",
        "Total diff = 7689.84166457\n",
        "Total diff = 7689.84166457\n",
        "Total diff ="
       ]
      },
      {
       "output_type": "stream",
       "stream": "stdout",
       "text": [
        " 7689.84166457\n",
        "Total diff = 7689.84166457\n",
        "Total diff = 7689.84166457\n",
        "Total diff = 7689.84166457\n",
        "Total diff ="
       ]
      },
      {
       "output_type": "stream",
       "stream": "stdout",
       "text": [
        " 7689.84166457\n",
        "Total diff = 7689.84166457\n",
        "Total diff = 7689.84166457\n",
        "Total diff = 7689.84166457\n",
        "Total diff ="
       ]
      },
      {
       "output_type": "stream",
       "stream": "stdout",
       "text": [
        " 7689.84166457\n",
        "Total diff = 7689.84166457\n",
        "Total diff = 7689.84166457\n",
        "Total diff = 7689.84166457\n",
        "Total diff = 7689.84166457\n",
        "Total diff ="
       ]
      },
      {
       "output_type": "stream",
       "stream": "stdout",
       "text": [
        " 7689.84166457\n",
        "Total diff = 7689.84166457\n",
        "Total diff = 7689.84166457\n",
        "Total diff = 7689.84166457\n",
        "Total diff = 7689.84166457\n",
        "Total diff ="
       ]
      },
      {
       "output_type": "stream",
       "stream": "stdout",
       "text": [
        " 7689.84166457\n",
        "Total diff = 7689.84166457\n",
        "Total diff = 7689.84166457\n",
        "Total diff = 7689.84166457\n",
        "Total diff ="
       ]
      },
      {
       "output_type": "stream",
       "stream": "stdout",
       "text": [
        " 7689.84166457\n",
        "Total diff = 7689.84166457\n",
        "Total diff = 7689.84166457\n",
        "Total diff = 7689.84166457\n",
        "Total diff ="
       ]
      },
      {
       "output_type": "stream",
       "stream": "stdout",
       "text": [
        " 7689.84166457\n",
        "Total diff = 7689.84166457\n",
        "Total diff = 7689.84166457\n",
        "Total diff = 7689.84166457\n",
        "Total diff ="
       ]
      },
      {
       "output_type": "stream",
       "stream": "stdout",
       "text": [
        " 7689.84166457\n",
        "Total diff = 7689.84166457\n",
        "Total diff = 7689.84166457\n",
        "Total diff = 7689.84166457\n",
        "Total diff ="
       ]
      },
      {
       "output_type": "stream",
       "stream": "stdout",
       "text": [
        " 7689.84166457\n",
        "Total diff = 7689.84166457\n",
        "Total diff = 7689.84166457\n",
        "Total diff = 7689.84166457\n",
        "Total diff ="
       ]
      },
      {
       "output_type": "stream",
       "stream": "stdout",
       "text": [
        " 7689.84166457\n",
        "Total diff = 7689.84166457\n",
        "Total diff = 7689.84166457\n",
        "Total diff = 7689.84166457\n",
        "Total diff = 7689.84166457\n",
        "Total diff ="
       ]
      },
      {
       "output_type": "stream",
       "stream": "stdout",
       "text": [
        " 7689.84166457\n",
        "Total diff = 7689.84166457\n",
        "Total diff = 7689.84166457\n",
        "Total diff = 7689.84166457\n",
        "Total diff = 7689.84166457\n",
        "Total diff ="
       ]
      },
      {
       "output_type": "stream",
       "stream": "stdout",
       "text": [
        " 7689.84166457\n",
        "Total diff = 7689.84166457\n",
        "Total diff = 7689.84166457\n",
        "Total diff = 7689.84166457\n",
        "Total diff ="
       ]
      },
      {
       "output_type": "stream",
       "stream": "stdout",
       "text": [
        " 7689.84166457\n",
        "Total diff = 7689.84166457\n",
        "Total diff = 7689.84166457\n",
        "Total diff = 7689.84166457\n",
        "Total diff ="
       ]
      },
      {
       "output_type": "stream",
       "stream": "stdout",
       "text": [
        " 7689.84166457\n",
        "Total diff = 7689.84166457\n",
        "Total diff = 7689.84166457\n",
        "Total diff = 7689.84166457\n",
        "Total diff = 7689.84166457\n",
        "Total diff ="
       ]
      },
      {
       "output_type": "stream",
       "stream": "stdout",
       "text": [
        " 7689.84166457\n",
        "Total diff = 7689.84166457\n",
        "Total diff = 7689.84166457\n",
        "Total diff = 7689.84166457\n",
        "Total diff = 7689.84166457\n",
        "Total diff ="
       ]
      },
      {
       "output_type": "stream",
       "stream": "stdout",
       "text": [
        " 7689.84166457\n",
        "Total diff = 7689.84166457\n",
        "Total diff = 7689.84166457\n",
        "Total diff = 7689.84166457\n",
        "Total diff = 7689.84166457\n",
        "Total diff ="
       ]
      },
      {
       "output_type": "stream",
       "stream": "stdout",
       "text": [
        " 7689.84166457\n",
        "Total diff = 7689.84166457\n",
        "Total diff = 7689.84166457\n",
        "Total diff = 7689.84166457\n",
        "Total diff ="
       ]
      },
      {
       "output_type": "stream",
       "stream": "stdout",
       "text": [
        " 7689.84166457\n",
        "Total diff = 7689.84166457\n",
        "Total diff = 7689.84166457\n",
        "Total diff = 7689.84166457\n",
        "Total diff = 7689.84166457\n",
        "Total diff ="
       ]
      },
      {
       "output_type": "stream",
       "stream": "stdout",
       "text": [
        " 7689.84166457\n",
        "Total diff = 7689.84166457\n",
        "Total diff = 7689.84166457\n",
        "Total diff = 7689.84166457\n",
        "Total diff ="
       ]
      },
      {
       "output_type": "stream",
       "stream": "stdout",
       "text": [
        " 7689.84166457\n",
        "Total diff = 7689.84166457\n",
        "Total diff = 7689.84166457\n",
        "Total diff = 7689.84166457\n",
        "Total diff = 7689.84166457\n",
        "Total diff ="
       ]
      },
      {
       "output_type": "stream",
       "stream": "stdout",
       "text": [
        " 7689.84166457\n",
        "Total diff = 7689.84166457\n",
        "Total diff = 7689.84166457\n",
        "Total diff = 7689.84166457\n",
        "Total diff ="
       ]
      },
      {
       "output_type": "stream",
       "stream": "stdout",
       "text": [
        " 7689.84166457\n",
        "Total diff = 7689.84166457\n",
        "Total diff = 7689.84166457\n",
        "Total diff = 7689.84166457\n",
        "Total diff = 7689.84166457\n",
        "Total diff ="
       ]
      },
      {
       "output_type": "stream",
       "stream": "stdout",
       "text": [
        " 7689.84166457\n",
        "Total diff = 7689.84166457\n",
        "Total diff = 7689.84166457\n",
        "Total diff = 7689.84166457\n",
        "Total diff ="
       ]
      },
      {
       "output_type": "stream",
       "stream": "stdout",
       "text": [
        " 7689.84166457\n",
        "Total diff = 7689.84166457\n",
        "Total diff = 7689.84166457\n",
        "Total diff = 7689.84166457\n",
        "Total diff ="
       ]
      },
      {
       "output_type": "stream",
       "stream": "stdout",
       "text": [
        " 7689.84166457\n",
        "Total diff = 7689.84166457\n",
        "Total diff = 7689.84166457\n",
        "Total diff = 7689.84166457\n",
        "Total diff ="
       ]
      },
      {
       "output_type": "stream",
       "stream": "stdout",
       "text": [
        " 7689.84166457\n",
        "Total diff = 7689.84166457\n",
        "Total diff = 7689.84166457\n",
        "Total diff = 7689.84166457\n",
        "Total diff ="
       ]
      },
      {
       "output_type": "stream",
       "stream": "stdout",
       "text": [
        " 7689.84166457\n",
        "Total diff = 7689.84166457\n",
        "Total diff = 7689.84166457\n",
        "Total diff = 7689.84166457\n",
        "Total diff ="
       ]
      },
      {
       "output_type": "stream",
       "stream": "stdout",
       "text": [
        " 7689.84166457\n",
        "Total diff = 7689.84166457\n",
        "Total diff = 7689.84166457\n",
        "Total diff = 7689.84166457\n",
        "Total diff ="
       ]
      },
      {
       "output_type": "stream",
       "stream": "stdout",
       "text": [
        " 7689.84166457\n",
        "Total diff = 7689.84166457\n",
        "Total diff = 7689.84166457\n",
        "Total diff = 7689.84166457\n",
        "Total diff ="
       ]
      },
      {
       "output_type": "stream",
       "stream": "stdout",
       "text": [
        " 7689.84166457\n",
        "Total diff = 7689.84166457\n",
        "Total diff = 7689.84166457\n",
        "Total diff = 7689.84166457\n",
        "Total diff ="
       ]
      },
      {
       "output_type": "stream",
       "stream": "stdout",
       "text": [
        " 7689.84166457\n",
        "Total diff = 7689.84166457\n",
        "Total diff = 7689.84166457\n",
        "Total diff = 7689.84166457\n",
        "Total diff ="
       ]
      },
      {
       "output_type": "stream",
       "stream": "stdout",
       "text": [
        " 7689.84166457\n",
        "Total diff = 7689.84166457\n",
        "Total diff = 7689.84166457\n",
        "Total diff = 7689.84166457\n",
        "Total diff ="
       ]
      },
      {
       "output_type": "stream",
       "stream": "stdout",
       "text": [
        " 7689.84166457\n",
        "Total diff = 7689.84166457\n",
        "Total diff = 7689.84166457\n",
        "Total diff = 7689.84166457\n",
        "Total diff ="
       ]
      },
      {
       "output_type": "stream",
       "stream": "stdout",
       "text": [
        " 7689.84166457\n",
        "Total diff = 7689.84166457\n",
        "Total diff = 7689.84166457\n",
        "Total diff = 7689.84166457\n",
        "Total diff ="
       ]
      },
      {
       "output_type": "stream",
       "stream": "stdout",
       "text": [
        " 7689.84166457\n",
        "Total diff = 7689.84166457\n",
        "Total diff = 7689.84166457\n",
        "Total diff = 7689.84166457\n",
        "Total diff ="
       ]
      },
      {
       "output_type": "stream",
       "stream": "stdout",
       "text": [
        " 7689.84166457\n",
        "Total diff = 7689.84166457\n",
        "Total diff = 7689.84166457\n",
        "Total diff = 7689.84166457\n",
        "Total diff ="
       ]
      },
      {
       "output_type": "stream",
       "stream": "stdout",
       "text": [
        " 7689.84166457\n",
        "Total diff = 7689.84166457\n",
        "Total diff = 7689.84166457\n",
        "Total diff = 7689.84166457\n",
        "Total diff ="
       ]
      },
      {
       "output_type": "stream",
       "stream": "stdout",
       "text": [
        " 7689.84166457\n",
        "Total diff = 7689.84166457\n",
        "Total diff = 7689.84166457\n",
        "Total diff = 7689.84166457\n",
        "Total diff ="
       ]
      },
      {
       "output_type": "stream",
       "stream": "stdout",
       "text": [
        " 7689.84166457\n",
        "Total diff = 7689.84166457\n",
        "Total diff = 7689.84166457\n",
        "Total diff = 7689.84166457\n",
        "Total diff ="
       ]
      },
      {
       "output_type": "stream",
       "stream": "stdout",
       "text": [
        " 7689.84166457\n",
        "Total diff = 7689.84166457\n",
        "Total diff = 7689.84166457\n",
        "Total diff = 7689.84166457\n",
        "Total diff ="
       ]
      },
      {
       "output_type": "stream",
       "stream": "stdout",
       "text": [
        " 7689.84166457\n",
        "Total diff = 7689.84166457\n",
        "Total diff = 7689.84166457\n",
        "Total diff = 7689.84166457\n",
        "Total diff ="
       ]
      },
      {
       "output_type": "stream",
       "stream": "stdout",
       "text": [
        " 7689.84166457\n",
        "Total diff = 7689.84166457\n",
        "Total diff = 7689.84166457\n",
        "Total diff = 7689.84166457\n",
        "Total diff ="
       ]
      },
      {
       "output_type": "stream",
       "stream": "stdout",
       "text": [
        " 7689.84166457\n",
        "Total diff = 7689.84166457\n",
        "Total diff = 7689.84166457\n",
        "Total diff = 7689.84166457\n",
        "Total diff ="
       ]
      },
      {
       "output_type": "stream",
       "stream": "stdout",
       "text": [
        " 7689.84166457\n",
        "Total diff = 7689.84166457\n",
        "Total diff = 7689.84166457\n",
        "Total diff = 7689.84166457\n",
        "Total diff ="
       ]
      },
      {
       "output_type": "stream",
       "stream": "stdout",
       "text": [
        " 7689.84166457\n",
        "Total diff = 7689.84166457\n",
        "Total diff = 7689.84166457\n",
        "Total diff = 7689.84166457\n",
        "Total diff ="
       ]
      },
      {
       "output_type": "stream",
       "stream": "stdout",
       "text": [
        " 7689.84166457\n",
        "Total diff = 7689.84166457\n",
        "Total diff = 7689.84166457\n",
        "Total diff = 7689.84166457\n",
        "Total diff ="
       ]
      },
      {
       "output_type": "stream",
       "stream": "stdout",
       "text": [
        " 7689.84166457\n",
        "Total diff = 7689.84166457\n",
        "Total diff = 7689.84166457\n",
        "Total diff = 7689.84166457\n",
        "Total diff ="
       ]
      },
      {
       "output_type": "stream",
       "stream": "stdout",
       "text": [
        " 7689.84166457\n",
        "Total diff = 7689.84166457\n",
        "Total diff = 7689.84166457\n",
        "Total diff = 7689.84166457\n",
        "Total diff ="
       ]
      },
      {
       "output_type": "stream",
       "stream": "stdout",
       "text": [
        " 7689.84166457\n",
        "Total diff = 7689.84166457\n",
        "Total diff = 7689.84166457\n",
        "Total diff = 7689.84166457\n",
        "Total diff ="
       ]
      },
      {
       "output_type": "stream",
       "stream": "stdout",
       "text": [
        " 7689.84166457\n",
        "Total diff = 7689.84166457\n",
        "Total diff = 7689.84166457\n",
        "Total diff = 7689.84166457\n",
        "Total diff ="
       ]
      },
      {
       "output_type": "stream",
       "stream": "stdout",
       "text": [
        " 7689.84166457\n",
        "Total diff = 7689.84166457\n",
        "Total diff = 7689.84166457\n",
        "Total diff = 7689.84166457\n",
        "Total diff ="
       ]
      },
      {
       "output_type": "stream",
       "stream": "stdout",
       "text": [
        " 7689.84166457\n",
        "Total diff = 7689.84166457\n",
        "Total diff = 7689.84166457\n",
        "Total diff = 7689.84166457\n",
        "Total diff = 7689.84166457\n",
        "Total diff ="
       ]
      },
      {
       "output_type": "stream",
       "stream": "stdout",
       "text": [
        " 7689.84166457\n",
        "Total diff = 7689.84166457\n",
        "Total diff = 7689.84166457\n",
        "Total diff = 7689.84166457\n",
        "Total diff ="
       ]
      },
      {
       "output_type": "stream",
       "stream": "stdout",
       "text": [
        " 7689.84166457\n",
        "Total diff = 7689.84166457\n",
        "Total diff = 7689.84166457\n",
        "Total diff = 7689.84166457\n",
        "Total diff ="
       ]
      },
      {
       "output_type": "stream",
       "stream": "stdout",
       "text": [
        " 7689.84166457\n",
        "Total diff = 7689.84166457\n",
        "Total diff = 7689.84166457\n",
        "Total diff = 7689.84166457\n",
        "Total diff ="
       ]
      },
      {
       "output_type": "stream",
       "stream": "stdout",
       "text": [
        " 7689.84166457\n",
        "Total diff = 7689.84166457\n",
        "Total diff = 7689.84166457\n",
        "Total diff = 7689.84166457\n",
        "Total diff ="
       ]
      },
      {
       "output_type": "stream",
       "stream": "stdout",
       "text": [
        " 7689.84166457\n",
        "Total diff = 7689.84166457\n",
        "Total diff = 7689.84166457\n",
        "Total diff = 7689.84166457\n",
        "Total diff ="
       ]
      },
      {
       "output_type": "stream",
       "stream": "stdout",
       "text": [
        " 7689.84166457\n",
        "Total diff = 7689.84166457\n",
        "Total diff = 7689.84166457\n",
        "Total diff = 7689.84166457\n",
        "Total diff ="
       ]
      },
      {
       "output_type": "stream",
       "stream": "stdout",
       "text": [
        " 7689.84166457\n",
        "Total diff = 7689.84166457\n",
        "Total diff = 7689.84166457\n",
        "Total diff = 7689.84166457\n",
        "Total diff ="
       ]
      },
      {
       "output_type": "stream",
       "stream": "stdout",
       "text": [
        " 7689.84166457\n",
        "Total diff = 7689.84166457\n",
        "Total diff = 7689.84166457\n",
        "Total diff = 7689.84166457\n",
        "Total diff ="
       ]
      },
      {
       "output_type": "stream",
       "stream": "stdout",
       "text": [
        " 7689.84166457\n",
        "Total diff = 7689.84166457\n",
        "Total diff = 7689.84166457\n",
        "Total diff = 7689.84166457\n",
        "Total diff ="
       ]
      },
      {
       "output_type": "stream",
       "stream": "stdout",
       "text": [
        " 7689.84166457\n",
        "Total diff = 7689.84166457\n",
        "Total diff = 7689.84166457\n",
        "Total diff = 7689.84166457\n",
        "Total diff ="
       ]
      },
      {
       "output_type": "stream",
       "stream": "stdout",
       "text": [
        " 7689.84166457\n",
        "Total diff = 7689.84166457\n",
        "Total diff = 7689.84166457\n",
        "Total diff = 7689.84166457\n",
        "Total diff ="
       ]
      },
      {
       "output_type": "stream",
       "stream": "stdout",
       "text": [
        " 7689.84166457\n",
        "Total diff = 7689.84166457\n",
        "Total diff = 7689.84166457\n",
        "Total diff = 7689.84166457\n",
        "Total diff ="
       ]
      },
      {
       "output_type": "stream",
       "stream": "stdout",
       "text": [
        " 7689.84166457\n",
        "Total diff = 7689.84166457\n",
        "Total diff = 7689.84166457\n",
        "Total diff = 7689.84166457\n",
        "Total diff = 7689.84166457\n",
        "Total diff ="
       ]
      },
      {
       "output_type": "stream",
       "stream": "stdout",
       "text": [
        " 7689.84166457\n",
        "Total diff = 7689.84166457\n",
        "Total diff = 7689.84166457\n",
        "Total diff = 7689.84166457\n",
        "Total diff ="
       ]
      },
      {
       "output_type": "stream",
       "stream": "stdout",
       "text": [
        " 7689.84166457\n",
        "Total diff = 7689.84166457\n",
        "Total diff = 7689.84166457\n",
        "Total diff = 7689.84166457\n",
        "Total diff ="
       ]
      },
      {
       "output_type": "stream",
       "stream": "stdout",
       "text": [
        " 7689.84166457\n",
        "Total diff = 7689.84166457\n",
        "Total diff = 7689.84166457\n",
        "Total diff = 7689.84166457\n",
        "Total diff ="
       ]
      },
      {
       "output_type": "stream",
       "stream": "stdout",
       "text": [
        " 7689.84166457\n",
        "Total diff = 7689.84166457\n",
        "Total diff = 7689.84166457\n",
        "Total diff = 7689.84166457\n",
        "Total diff ="
       ]
      },
      {
       "output_type": "stream",
       "stream": "stdout",
       "text": [
        " 7689.84166457\n",
        "Total diff = 7689.84166457\n",
        "Total diff = 7689.84166457\n",
        "Total diff = 7689.84166457\n",
        "Total diff ="
       ]
      },
      {
       "output_type": "stream",
       "stream": "stdout",
       "text": [
        " 7689.84166457\n",
        "Total diff = 7689.84166457\n",
        "Total diff = 7689.84166457\n",
        "Total diff = 7689.84166457\n",
        "Total diff ="
       ]
      },
      {
       "output_type": "stream",
       "stream": "stdout",
       "text": [
        " 7689.84166457\n",
        "Total diff = 7689.84166457\n",
        "Total diff = 7689.84166457\n",
        "Total diff = 7689.84166457\n",
        "Total diff ="
       ]
      },
      {
       "output_type": "stream",
       "stream": "stdout",
       "text": [
        " 7689.84166457\n",
        "Total diff = 7689.84166457\n",
        "Total diff = 7689.84166457\n",
        "Total diff = 7689.84166457\n",
        "Total diff ="
       ]
      },
      {
       "output_type": "stream",
       "stream": "stdout",
       "text": [
        " 7689.84166457\n",
        "Total diff = 7689.84166457\n",
        "Total diff = 7689.84166457\n",
        "Total diff = 7689.84166457\n",
        "Total diff ="
       ]
      },
      {
       "output_type": "stream",
       "stream": "stdout",
       "text": [
        " 7689.84166457\n",
        "Total diff = 7689.84166457\n",
        "Total diff = 7689.84166457\n",
        "Total diff = 7689.84166457\n",
        "Total diff ="
       ]
      },
      {
       "output_type": "stream",
       "stream": "stdout",
       "text": [
        " 7689.84166457\n",
        "Total diff = 7689.84166457\n",
        "Total diff = 7689.84166457\n",
        "Total diff = 7689.84166457\n",
        "Total diff ="
       ]
      },
      {
       "output_type": "stream",
       "stream": "stdout",
       "text": [
        " 7689.84166457\n",
        "Total diff = 7689.84166457\n",
        "Total diff = 7689.84166457\n",
        "Total diff = 7689.84166457\n",
        "Total diff ="
       ]
      },
      {
       "output_type": "stream",
       "stream": "stdout",
       "text": [
        " 7689.84166457\n",
        "Total diff = 7689.84166457\n",
        "Total diff = 7689.84166457\n",
        "Total diff = 7689.84166457\n",
        "Total diff ="
       ]
      },
      {
       "output_type": "stream",
       "stream": "stdout",
       "text": [
        " 7689.84166457\n",
        "Total diff = 7689.84166457\n",
        "Total diff = 7689.84166457\n",
        "Total diff = 7689.84166457\n",
        "Total diff ="
       ]
      },
      {
       "output_type": "stream",
       "stream": "stdout",
       "text": [
        " 7689.84166457\n",
        "Total diff = 7689.84166457\n",
        "Total diff = 7689.84166457\n",
        "Total diff = 7689.84166457\n",
        "Total diff ="
       ]
      },
      {
       "output_type": "stream",
       "stream": "stdout",
       "text": [
        " 7689.84166457\n",
        "Total diff = 7689.84166457\n",
        "Total diff = 7689.84166457\n",
        "Total diff = 7689.84166457\n",
        "Total diff ="
       ]
      },
      {
       "output_type": "stream",
       "stream": "stdout",
       "text": [
        " 7689.84166457\n",
        "Total diff = 7689.84166457\n",
        "Total diff = 7689.84166457\n",
        "Total diff = 7689.84166457\n",
        "Total diff ="
       ]
      },
      {
       "output_type": "stream",
       "stream": "stdout",
       "text": [
        " 7689.84166457\n",
        "Total diff = 7689.84166457\n",
        "Total diff = 7689.84166457\n",
        "Total diff = 7689.84166457\n",
        "Total diff ="
       ]
      },
      {
       "output_type": "stream",
       "stream": "stdout",
       "text": [
        " 7689.84166457\n",
        "Total diff = 7689.84166457\n",
        "Total diff = 7689.84166457\n",
        "Total diff = 7689.84166457\n",
        "Total diff ="
       ]
      },
      {
       "output_type": "stream",
       "stream": "stdout",
       "text": [
        " 7689.84166457\n",
        "Total diff = 7689.84166457\n",
        "Total diff = 7689.84166457\n",
        "Total diff = 7689.84166457\n",
        "Total diff ="
       ]
      },
      {
       "output_type": "stream",
       "stream": "stdout",
       "text": [
        " 7689.84166457\n",
        "Total diff = 7689.84166457\n",
        "Total diff = 7689.84166457\n",
        "Total diff = 7689.84166457\n",
        "Total diff ="
       ]
      },
      {
       "output_type": "stream",
       "stream": "stdout",
       "text": [
        " 7689.84166457\n",
        "Total diff = 7689.84166457\n",
        "Total diff = 7689.84166457\n",
        "Total diff = 7689.84166457\n",
        "Total diff ="
       ]
      },
      {
       "output_type": "stream",
       "stream": "stdout",
       "text": [
        " 7689.84166457\n",
        "Total diff = 7689.84166457\n",
        "Total diff = 7689.84166457\n",
        "Total diff = 7689.84166457\n",
        "Total diff ="
       ]
      },
      {
       "output_type": "stream",
       "stream": "stdout",
       "text": [
        " 7689.84166457\n",
        "Total diff = 7689.84166457\n",
        "Total diff = 7689.84166457\n",
        "Total diff = 7689.84166457\n",
        "Total diff ="
       ]
      },
      {
       "output_type": "stream",
       "stream": "stdout",
       "text": [
        " 7689.84166457\n",
        "Total diff = 7689.84166457\n",
        "Total diff = 7689.84166457\n",
        "Total diff = 7689.84166457\n",
        "Total diff ="
       ]
      },
      {
       "output_type": "stream",
       "stream": "stdout",
       "text": [
        " 7689.84166457\n",
        "Total diff = 7689.84166457\n",
        "Total diff = 7689.84166457\n",
        "Total diff = 7689.84166457\n",
        "Total diff ="
       ]
      },
      {
       "output_type": "stream",
       "stream": "stdout",
       "text": [
        " 7689.84166457\n",
        "Total diff = 7689.84166457\n",
        "Total diff = 7689.84166457\n",
        "Total diff = 7689.84166457\n",
        "Total diff ="
       ]
      },
      {
       "output_type": "stream",
       "stream": "stdout",
       "text": [
        " 7689.84166457\n",
        "Total diff = 7689.84166457\n",
        "Total diff = 7689.84166457\n",
        "Total diff = 7689.84166457\n",
        "Total diff ="
       ]
      },
      {
       "output_type": "stream",
       "stream": "stdout",
       "text": [
        " 7689.84166457\n",
        "Total diff = 7689.84166457\n",
        "Total diff = 7689.84166457\n",
        "Total diff = 7689.84166457\n",
        "Total diff ="
       ]
      },
      {
       "output_type": "stream",
       "stream": "stdout",
       "text": [
        " 7689.84166457\n",
        "Total diff = 7689.84166457\n",
        "Total diff = 7689.84166457\n",
        "Total diff = 7689.84166457\n",
        "Total diff ="
       ]
      },
      {
       "output_type": "stream",
       "stream": "stdout",
       "text": [
        " 7689.84166457\n",
        "Total diff = 7689.84166457\n",
        "Total diff = 7689.84166457\n",
        "Total diff = 7689.84166457\n",
        "Total diff ="
       ]
      },
      {
       "output_type": "stream",
       "stream": "stdout",
       "text": [
        " 7689.84166457\n",
        "Total diff = 7689.84166457\n",
        "Total diff = 7689.84166457\n",
        "Total diff = 7689.84166457\n",
        "Total diff ="
       ]
      },
      {
       "output_type": "stream",
       "stream": "stdout",
       "text": [
        " 7689.84166457\n",
        "Total diff = 7689.84166457\n",
        "Total diff = 7689.84166457\n",
        "Total diff = 7689.84166457\n",
        "Total diff ="
       ]
      },
      {
       "output_type": "stream",
       "stream": "stdout",
       "text": [
        " 7689.84166457\n",
        "Total diff = 7689.84166457\n",
        "Total diff = 7689.84166457\n",
        "Total diff = 7689.84166457\n",
        "Total diff ="
       ]
      },
      {
       "output_type": "stream",
       "stream": "stdout",
       "text": [
        " 7689.84166457\n",
        "Total diff = 7689.84166457\n",
        "Total diff = 7689.84166457\n",
        "Total diff = 7689.84166457\n",
        "Total diff ="
       ]
      },
      {
       "output_type": "stream",
       "stream": "stdout",
       "text": [
        " 7689.84166457\n",
        "Total diff = 7689.84166457\n",
        "Total diff = 7689.84166457\n",
        "Total diff = 7689.84166457\n",
        "Total diff ="
       ]
      },
      {
       "output_type": "stream",
       "stream": "stdout",
       "text": [
        " 7689.84166457\n",
        "Total diff = 7689.84166457\n",
        "Total diff = 7689.84166457\n",
        "Total diff = 7689.84166457\n",
        "Total diff ="
       ]
      },
      {
       "output_type": "stream",
       "stream": "stdout",
       "text": [
        " 7689.84166457\n",
        "Total diff = 7689.84166457\n",
        "Total diff = 7689.84166457\n",
        "Total diff = 7689.84166457\n",
        "Total diff ="
       ]
      },
      {
       "output_type": "stream",
       "stream": "stdout",
       "text": [
        " 7689.84166457\n",
        "Total diff = 7689.84166457\n",
        "Total diff = 7689.84166457\n",
        "Total diff = 7689.84166457\n",
        "Total diff ="
       ]
      },
      {
       "output_type": "stream",
       "stream": "stdout",
       "text": [
        " 7689.84166457\n",
        "Total diff = 7689.84166457\n",
        "Total diff = 7689.84166457\n",
        "Total diff = 7689.84166457\n",
        "Total diff ="
       ]
      },
      {
       "output_type": "stream",
       "stream": "stdout",
       "text": [
        " 7689.84166457\n",
        "Total diff = 7689.84166457\n",
        "Total diff = 7689.84166457\n",
        "Total diff = 7689.84166457\n",
        "Total diff ="
       ]
      },
      {
       "output_type": "stream",
       "stream": "stdout",
       "text": [
        " 7689.84166457\n",
        "Total diff = 7689.84166457\n",
        "Total diff = 7689.84166457\n",
        "Total diff = 7689.84166457\n",
        "Total diff ="
       ]
      },
      {
       "output_type": "stream",
       "stream": "stdout",
       "text": [
        " 7689.84166457\n",
        "Total diff = 7689.84166457\n",
        "Total diff = 7689.84166457\n",
        "Total diff = 7689.84166457\n",
        "Total diff ="
       ]
      },
      {
       "output_type": "stream",
       "stream": "stdout",
       "text": [
        " 7689.84166457\n",
        "Total diff = 7689.84166457\n",
        "Total diff = 7689.84166457\n",
        "Total diff = 7689.84166457\n",
        "Total diff ="
       ]
      },
      {
       "output_type": "stream",
       "stream": "stdout",
       "text": [
        " 7689.84166457\n",
        "Total diff = 7689.84166457\n",
        "Total diff = 7689.84166457\n",
        "Total diff = 7689.84166457\n",
        "Total diff = 7689.84166457\n",
        "Total diff ="
       ]
      },
      {
       "output_type": "stream",
       "stream": "stdout",
       "text": [
        " 7689.84166457\n",
        "Total diff = 7689.84166457\n",
        "Total diff = 7689.84166457\n",
        "Total diff = 7689.84166457\n",
        "Total diff ="
       ]
      },
      {
       "output_type": "stream",
       "stream": "stdout",
       "text": [
        " 7689.84166457\n",
        "Total diff = 7689.84166457\n",
        "Total diff = 7689.84166457\n",
        "Total diff = 7689.84166457\n",
        "Total diff ="
       ]
      },
      {
       "output_type": "stream",
       "stream": "stdout",
       "text": [
        " 7689.84166457\n",
        "Total diff = 7689.84166457\n",
        "Total diff = 7689.84166457\n",
        "Total diff = 7689.84166457\n",
        "Total diff ="
       ]
      },
      {
       "output_type": "stream",
       "stream": "stdout",
       "text": [
        " 7689.84166457\n",
        "Total diff = 7689.84166457\n",
        "Total diff = 7689.84166457\n",
        "Total diff = 7689.84166457\n",
        "Total diff ="
       ]
      },
      {
       "output_type": "stream",
       "stream": "stdout",
       "text": [
        " 7689.84166457\n",
        "Total diff = 7689.84166457\n",
        "Total diff = 7689.84166457\n",
        "Total diff = 7689.84166457\n",
        "Total diff ="
       ]
      },
      {
       "output_type": "stream",
       "stream": "stdout",
       "text": [
        " 7689.84166457\n",
        "Total diff = 7689.84166457\n",
        "Total diff = 7689.84166457\n",
        "Total diff = 7689.84166457\n",
        "Total diff ="
       ]
      },
      {
       "output_type": "stream",
       "stream": "stdout",
       "text": [
        " 7689.84166457\n",
        "Total diff = 7689.84166457\n",
        "Total diff = 7689.84166457\n",
        "Total diff = 7689.84166457\n",
        "Total diff ="
       ]
      },
      {
       "output_type": "stream",
       "stream": "stdout",
       "text": [
        " 7689.84166457\n",
        "Total diff = 7689.84166457\n",
        "Total diff = 7689.84166457\n",
        "Total diff = 7689.84166457\n",
        "Total diff ="
       ]
      },
      {
       "output_type": "stream",
       "stream": "stdout",
       "text": [
        " 7689.84166457\n",
        "Total diff = 7689.84166457\n",
        "Total diff = 7689.84166457\n",
        "Total diff = 7689.84166457\n",
        "Total diff = 7689.84166457\n",
        "Total diff ="
       ]
      },
      {
       "output_type": "stream",
       "stream": "stdout",
       "text": [
        " 7689.84166457\n",
        "Total diff = 7689.84166457\n",
        "Total diff = 7689.84166457\n",
        "Total diff = 7689.84166457\n",
        "Total diff ="
       ]
      },
      {
       "output_type": "stream",
       "stream": "stdout",
       "text": [
        " 7689.84166457\n",
        "Total diff = 7689.84166457\n",
        "Total diff = 7689.84166457\n",
        "Total diff = 7689.84166457\n",
        "Total diff ="
       ]
      },
      {
       "output_type": "stream",
       "stream": "stdout",
       "text": [
        " 7689.84166457\n",
        "Total diff = 7689.84166457\n",
        "Total diff = 7689.84166457\n",
        "Total diff = 7689.84166457\n",
        "Total diff ="
       ]
      },
      {
       "output_type": "stream",
       "stream": "stdout",
       "text": [
        " 7689.84166457\n",
        "Total diff = 7689.84166457\n",
        "Total diff = 7689.84166457\n",
        "Total diff = 7689.84166457\n",
        "Total diff ="
       ]
      },
      {
       "output_type": "stream",
       "stream": "stdout",
       "text": [
        " 7689.84166457\n",
        "Total diff = 7689.84166457\n",
        "Total diff = 7689.84166457\n",
        "Total diff = 7689.84166457\n",
        "Total diff ="
       ]
      },
      {
       "output_type": "stream",
       "stream": "stdout",
       "text": [
        " 7689.84166457\n",
        "Total diff = 7689.84166457\n",
        "Total diff = 7689.84166457\n",
        "Total diff = 7689.84166457\n",
        "Total diff ="
       ]
      },
      {
       "output_type": "stream",
       "stream": "stdout",
       "text": [
        " 7689.84166457\n",
        "Total diff = 7689.84166457\n",
        "Total diff = 7689.84166457\n",
        "Total diff = 7689.84166457\n",
        "Total diff ="
       ]
      },
      {
       "output_type": "stream",
       "stream": "stdout",
       "text": [
        " 7689.84166457\n",
        "Total diff = 7689.84166457\n",
        "Total diff = 7689.84166457\n",
        "Total diff = 7689.84166457\n",
        "Total diff ="
       ]
      },
      {
       "output_type": "stream",
       "stream": "stdout",
       "text": [
        " 7689.84166457\n",
        "Total diff = 7689.84166457\n",
        "Total diff = 7689.84166457\n",
        "Total diff = 7689.84166457\n",
        "Total diff = 7689.84166457\n",
        "Total diff ="
       ]
      },
      {
       "output_type": "stream",
       "stream": "stdout",
       "text": [
        " 7689.84166457\n",
        "Total diff = 7689.84166457\n",
        "Total diff = 7689.84166457\n",
        "Total diff = 7689.84166457\n",
        "Total diff ="
       ]
      },
      {
       "output_type": "stream",
       "stream": "stdout",
       "text": [
        " 7689.84166457\n",
        "Total diff = 7689.84166457\n",
        "Total diff = 7689.84166457\n",
        "Total diff ="
       ]
      },
      {
       "output_type": "stream",
       "stream": "stdout",
       "text": [
        " 7689.84166457\n",
        "Total diff = 7689.84166457\n",
        "Total diff = 7689.84166457\n",
        "Total diff = 7689.84166457\n",
        "Total diff = 7689.84166457\n",
        "Total diff ="
       ]
      },
      {
       "output_type": "stream",
       "stream": "stdout",
       "text": [
        " 7689.84166457\n",
        "Total diff = 7689.84166457\n",
        "Total diff = 7689.84166457\n",
        "Total diff = 7689.84166457\n",
        "Total diff = 7689.84166457\n",
        "Total diff ="
       ]
      },
      {
       "output_type": "stream",
       "stream": "stdout",
       "text": [
        " 7689.84166457\n",
        "Total diff = 7689.84166457\n",
        "Total diff = 7689.84166457\n",
        "Total diff ="
       ]
      },
      {
       "output_type": "stream",
       "stream": "stdout",
       "text": [
        " 7689.84166457\n",
        "Total diff = 7689.84166457\n",
        "Total diff = 7689.84166457\n",
        "Total diff = 7689.84166457\n",
        "Total diff = 7689.84166457\n",
        "Total diff ="
       ]
      },
      {
       "output_type": "stream",
       "stream": "stdout",
       "text": [
        " 7689.84166457\n",
        "Total diff = 7689.84166457\n",
        "Total diff = 7689.84166457\n",
        "Total diff = 7689.84166457\n",
        "Total diff = 7689.84166457\n",
        "Total diff ="
       ]
      },
      {
       "output_type": "stream",
       "stream": "stdout",
       "text": [
        " 7689.84166457\n",
        "Total diff = 7689.84166457\n",
        "Total diff = 7689.84166457\n",
        "Total diff = 7689.84166457\n",
        "Total diff = 7689.84166457\n",
        "Total diff ="
       ]
      },
      {
       "output_type": "stream",
       "stream": "stdout",
       "text": [
        " 7689.84166457\n",
        "Total diff = 7689.84166457\n",
        "Total diff = 7689.84166457\n",
        "Total diff = 7689.84166457\n",
        "Total diff ="
       ]
      },
      {
       "output_type": "stream",
       "stream": "stdout",
       "text": [
        " 7689.84166457\n",
        "Total diff = 7689.84166457\n",
        "Total diff = 7689.84166457\n",
        "Total diff = 7689.84166457\n",
        "Total diff ="
       ]
      },
      {
       "output_type": "stream",
       "stream": "stdout",
       "text": [
        " 7689.84166457\n",
        "Total diff = 7689.84166457\n",
        "Total diff = 7689.84166457\n",
        "Total diff = 7689.84166457\n",
        "Total diff ="
       ]
      },
      {
       "output_type": "stream",
       "stream": "stdout",
       "text": [
        " 7689.84166457\n",
        "Total diff = 7689.84166457\n",
        "Total diff = 7689.84166457\n",
        "Total diff = 7689.84166457\n",
        "Total diff ="
       ]
      },
      {
       "output_type": "stream",
       "stream": "stdout",
       "text": [
        " 7689.84166457\n",
        "Total diff = 7689.84166457\n",
        "Total diff = 7689.84166457\n",
        "Total diff = 7689.84166457\n",
        "Total diff ="
       ]
      },
      {
       "output_type": "stream",
       "stream": "stdout",
       "text": [
        " 7689.84166457\n",
        "Total diff = 7689.84166457\n",
        "Total diff = 7689.84166457\n",
        "Total diff = 7689.84166457\n",
        "Total diff ="
       ]
      },
      {
       "output_type": "stream",
       "stream": "stdout",
       "text": [
        " 7689.84166457\n",
        "Total diff = 7689.84166457\n",
        "Total diff = 7689.84166457\n",
        "Total diff = 7689.84166457\n",
        "Total diff ="
       ]
      },
      {
       "output_type": "stream",
       "stream": "stdout",
       "text": [
        " 7689.84166457\n",
        "Total diff = 7689.84166457\n",
        "Total diff = 7689.84166457\n",
        "Total diff = 7689.84166457\n",
        "Total diff = 7689.84166457\n",
        "Total diff ="
       ]
      },
      {
       "output_type": "stream",
       "stream": "stdout",
       "text": [
        " 7689.84166457\n",
        "Total diff = 7689.84166457\n",
        "Total diff = 7689.84166457\n",
        "Total diff = 7689.84166457\n",
        "Total diff ="
       ]
      },
      {
       "output_type": "stream",
       "stream": "stdout",
       "text": [
        " 7689.84166457\n",
        "Total diff = 7689.84166457\n",
        "Total diff = 7689.84166457\n",
        "Total diff = 7689.84166457\n",
        "Total diff ="
       ]
      },
      {
       "output_type": "stream",
       "stream": "stdout",
       "text": [
        " 7689.84166457\n",
        "Total diff = 7689.84166457\n",
        "Total diff = 7689.84166457\n",
        "Total diff = 7689.84166457\n",
        "Total diff ="
       ]
      },
      {
       "output_type": "stream",
       "stream": "stdout",
       "text": [
        " 7689.84166457\n",
        "Total diff = 7689.84166457\n",
        "Total diff = 7689.84166457\n",
        "Total diff = 7689.84166457\n",
        "Total diff ="
       ]
      },
      {
       "output_type": "stream",
       "stream": "stdout",
       "text": [
        " 7689.84166457\n",
        "Total diff = 7689.84166457\n",
        "Total diff = 7689.84166457\n",
        "Total diff = 7689.84166457\n",
        "Total diff ="
       ]
      },
      {
       "output_type": "stream",
       "stream": "stdout",
       "text": [
        " 7689.84166457\n",
        "Total diff = 7689.84166457\n",
        "Total diff = 7689.84166457\n",
        "Total diff = 7689.84166457\n",
        "Total diff ="
       ]
      },
      {
       "output_type": "stream",
       "stream": "stdout",
       "text": [
        " 7689.84166457\n",
        "Total diff = 7689.84166457\n",
        "Total diff = 7689.84166457\n",
        "Total diff = 7689.84166457\n",
        "Total diff ="
       ]
      },
      {
       "output_type": "stream",
       "stream": "stdout",
       "text": [
        " 7689.84166457\n",
        "Total diff = 7689.84166457\n",
        "Total diff = 7689.84166457\n",
        "Total diff = 7689.84166457\n",
        "Total diff = 7689.84166457\n",
        "Total diff ="
       ]
      },
      {
       "output_type": "stream",
       "stream": "stdout",
       "text": [
        " 7689.84166457\n",
        "Total diff = 7689.84166457\n",
        "Total diff = 7689.84166457\n",
        "Total diff = 7689.84166457\n",
        "Total diff = 7689.84166457\n",
        "Total diff ="
       ]
      },
      {
       "output_type": "stream",
       "stream": "stdout",
       "text": [
        " 7689.84166457\n",
        "Total diff = 7689.84166457\n",
        "Total diff = 7689.84166457\n",
        "Total diff = 7689.84166457\n",
        "Total diff = 7689.84166457\n",
        "Total diff ="
       ]
      },
      {
       "output_type": "stream",
       "stream": "stdout",
       "text": [
        " 7689.84166457\n",
        "Total diff = 7689.84166457\n",
        "Total diff = 7689.84166457\n",
        "Total diff = 7689.84166457\n",
        "Total diff ="
       ]
      },
      {
       "output_type": "stream",
       "stream": "stdout",
       "text": [
        " 7689.84166457\n",
        "Total diff = 7689.84166457\n",
        "Total diff = 7689.84166457\n",
        "Total diff = 7689.84166457\n",
        "Total diff = 7689.84166457\n",
        "Total diff ="
       ]
      },
      {
       "output_type": "stream",
       "stream": "stdout",
       "text": [
        " 7689.84166457\n",
        "Total diff = 7689.84166457\n",
        "Total diff = 7689.84166457\n",
        "Total diff = 7689.84166457\n",
        "Total diff ="
       ]
      },
      {
       "output_type": "stream",
       "stream": "stdout",
       "text": [
        " 7689.84166457\n",
        "Total diff = 7689.84166457\n",
        "Total diff = 7689.84166457\n",
        "Total diff = 7689.84166457\n",
        "Total diff ="
       ]
      },
      {
       "output_type": "stream",
       "stream": "stdout",
       "text": [
        " 7689.84166457\n",
        "Total diff = 7689.84166457\n",
        "Total diff = 7689.84166457\n",
        "Total diff = 7689.84166457\n",
        "Total diff = 7689.84166457\n",
        "Total diff ="
       ]
      },
      {
       "output_type": "stream",
       "stream": "stdout",
       "text": [
        " 7689.84166457\n",
        "Total diff = 7689.84166457\n",
        "Total diff = 7689.84166457\n",
        "Total diff = 7689.84166457\n",
        "Total diff = 7689.84166457\n",
        "Total diff ="
       ]
      },
      {
       "output_type": "stream",
       "stream": "stdout",
       "text": [
        " 7689.84166457\n",
        "Total diff = 7689.84166457\n",
        "Total diff = 7689.84166457\n",
        "Total diff = 7689.84166457\n",
        "Total diff ="
       ]
      },
      {
       "output_type": "stream",
       "stream": "stdout",
       "text": [
        " 7689.84166457\n",
        "Total diff = 7689.84166457\n",
        "Total diff = 7689.84166457\n",
        "Total diff = 7689.84166457\n",
        "Total diff ="
       ]
      },
      {
       "output_type": "stream",
       "stream": "stdout",
       "text": [
        " 7689.84166457\n",
        "Total diff = 7689.84166457\n",
        "Total diff = 7689.84166457\n",
        "Total diff = 7689.84166457\n",
        "Total diff ="
       ]
      },
      {
       "output_type": "stream",
       "stream": "stdout",
       "text": [
        " 7689.84166457\n",
        "Total diff = 7689.84166457\n",
        "Total diff = 7689.84166457\n",
        "Total diff = 7689.84166457\n",
        "Total diff ="
       ]
      },
      {
       "output_type": "stream",
       "stream": "stdout",
       "text": [
        " 7689.84166457\n",
        "Total diff = 7689.84166457\n",
        "Total diff = 7689.84166457\n",
        "Total diff = 7689.84166457\n",
        "Total diff = 7689.84166457\n",
        "Total diff ="
       ]
      },
      {
       "output_type": "stream",
       "stream": "stdout",
       "text": [
        " 7689.84166457\n",
        "Total diff = 7689.84166457\n",
        "Total diff = 7689.84166457\n",
        "Total diff = 7689.84166457\n",
        "Total diff ="
       ]
      },
      {
       "output_type": "stream",
       "stream": "stdout",
       "text": [
        " 7689.84166457\n",
        "Total diff = 7689.84166457\n",
        "Total diff = 7689.84166457\n",
        "Total diff = 7689.84166457\n",
        "Total diff ="
       ]
      },
      {
       "output_type": "stream",
       "stream": "stdout",
       "text": [
        " 7689.84166457\n",
        "Total diff = 7689.84166457\n",
        "Total diff = 7689.84166457\n",
        "Total diff = 7689.84166457\n",
        "Total diff ="
       ]
      },
      {
       "output_type": "stream",
       "stream": "stdout",
       "text": [
        " 7689.84166457\n",
        "Total diff = 7689.84166457\n",
        "Total diff = 7689.84166457\n",
        "Total diff = 7689.84166457\n",
        "Total diff ="
       ]
      },
      {
       "output_type": "stream",
       "stream": "stdout",
       "text": [
        " 7689.84166457\n",
        "Total diff = 7689.84166457\n",
        "Total diff = 7689.84166457\n",
        "Total diff = 7689.84166457\n",
        "Total diff ="
       ]
      },
      {
       "output_type": "stream",
       "stream": "stdout",
       "text": [
        " 7689.84166457\n",
        "Total diff = 7689.84166457\n",
        "Total diff = 7689.84166457\n",
        "Total diff = 7689.84166457\n",
        "Total diff ="
       ]
      },
      {
       "output_type": "stream",
       "stream": "stdout",
       "text": [
        " 7689.84166457\n",
        "Total diff = 7689.84166457\n",
        "Total diff = 7689.84166457\n",
        "Total diff = 7689.84166457\n",
        "Total diff ="
       ]
      },
      {
       "output_type": "stream",
       "stream": "stdout",
       "text": [
        " 7689.84166457\n",
        "Total diff = 7689.84166457\n",
        "Total diff = 7689.84166457\n",
        "Total diff = 7689.84166457\n",
        "Total diff ="
       ]
      },
      {
       "output_type": "stream",
       "stream": "stdout",
       "text": [
        " 7689.84166457\n",
        "Total diff = 7689.84166457\n",
        "Total diff = 7689.84166457\n",
        "Total diff = 7689.84166457\n",
        "Total diff ="
       ]
      },
      {
       "output_type": "stream",
       "stream": "stdout",
       "text": [
        " 7689.84166457\n",
        "Total diff = 7689.84166457\n",
        "Total diff = 7689.84166457\n",
        "Total diff = 7689.84166457\n",
        "Total diff = 7689.84166457\n",
        "Total diff ="
       ]
      },
      {
       "output_type": "stream",
       "stream": "stdout",
       "text": [
        " 7689.84166457\n",
        "Total diff = 7689.84166457\n",
        "Total diff = 7689.84166457\n",
        "Total diff = 7689.84166457\n",
        "Total diff ="
       ]
      },
      {
       "output_type": "stream",
       "stream": "stdout",
       "text": [
        " 7689.84166457\n",
        "Total diff = 7689.84166457\n",
        "Total diff = 7689.84166457\n",
        "Total diff = 7689.84166457\n",
        "Total diff ="
       ]
      },
      {
       "output_type": "stream",
       "stream": "stdout",
       "text": [
        " 7689.84166457\n",
        "Total diff = 7689.84166457\n",
        "Total diff = 7689.84166457\n",
        "Total diff = 7689.84166457\n",
        "Total diff ="
       ]
      },
      {
       "output_type": "stream",
       "stream": "stdout",
       "text": [
        " 7689.84166457\n",
        "Total diff = 7689.84166457\n",
        "Total diff = 7689.84166457\n",
        "Total diff = 7689.84166457\n",
        "Total diff = 7689.84166457\n",
        "Total diff ="
       ]
      },
      {
       "output_type": "stream",
       "stream": "stdout",
       "text": [
        " 7689.84166457\n",
        "Total diff = 7689.84166457\n",
        "Total diff = 7689.84166457\n",
        "Total diff = 7689.84166457\n",
        "Total diff = 7689.84166457\n",
        "Total diff ="
       ]
      },
      {
       "output_type": "stream",
       "stream": "stdout",
       "text": [
        " 7689.84166457\n",
        "Total diff = 7689.84166457\n",
        "Total diff = 7689.84166457\n",
        "Total diff = 7689.84166457\n",
        "Total diff ="
       ]
      },
      {
       "output_type": "stream",
       "stream": "stdout",
       "text": [
        " 7689.84166457\n",
        "Total diff = 7689.84166457\n",
        "Total diff = 7689.84166457\n",
        "Total diff = 7689.84166457\n",
        "Total diff ="
       ]
      },
      {
       "output_type": "stream",
       "stream": "stdout",
       "text": [
        " 7689.84166457\n",
        "Total diff = 7689.84166457\n",
        "Total diff = 7689.84166457\n",
        "Total diff = 7689.84166457\n",
        "Total diff ="
       ]
      },
      {
       "output_type": "stream",
       "stream": "stdout",
       "text": [
        " 7689.84166457\n",
        "Total diff = 7689.84166457\n",
        "Total diff = 7689.84166457\n",
        "Total diff = 7689.84166457\n",
        "Total diff ="
       ]
      },
      {
       "output_type": "stream",
       "stream": "stdout",
       "text": [
        " 7689.84166457\n",
        "Total diff = 7689.84166457\n",
        "Total diff = 7689.84166457\n",
        "Total diff = 7689.84166457\n",
        "Total diff ="
       ]
      },
      {
       "output_type": "stream",
       "stream": "stdout",
       "text": [
        " 7689.84166457\n",
        "Total diff = 7689.84166457\n",
        "Total diff = 7689.84166457\n",
        "Total diff = 7689.84166457\n",
        "Total diff ="
       ]
      },
      {
       "output_type": "stream",
       "stream": "stdout",
       "text": [
        " 7689.84166457\n",
        "Total diff = 7689.84166457\n",
        "Total diff = 7689.84166457\n",
        "Total diff = 7689.84166457\n",
        "Total diff ="
       ]
      },
      {
       "output_type": "stream",
       "stream": "stdout",
       "text": [
        " 7689.84166457\n",
        "Total diff = 7689.84166457\n",
        "Total diff = 7689.84166457\n",
        "Total diff = 7689.84166457\n",
        "Total diff = 7689.84166457\n",
        "Total diff ="
       ]
      },
      {
       "output_type": "stream",
       "stream": "stdout",
       "text": [
        " 7689.84166457\n",
        "Total diff = 7689.84166457\n",
        "Total diff = 7689.84166457\n",
        "Total diff = 7689.84166457\n",
        "Total diff ="
       ]
      },
      {
       "output_type": "stream",
       "stream": "stdout",
       "text": [
        " 7689.84166457\n",
        "Total diff = 7689.84166457\n",
        "Total diff = 7689.84166457\n",
        "Total diff = 7689.84166457\n",
        "Total diff = 7689.84166457\n",
        "Total diff ="
       ]
      },
      {
       "output_type": "stream",
       "stream": "stdout",
       "text": [
        " 7689.84166457\n",
        "Total diff = 7689.84166457\n",
        "Total diff = 7689.84166457\n",
        "Total diff = 7689.84166457\n",
        "Total diff ="
       ]
      },
      {
       "output_type": "stream",
       "stream": "stdout",
       "text": [
        " 7689.84166457\n",
        "Total diff = 7689.84166457\n",
        "Total diff = 7689.84166457\n",
        "Total diff = 7689.84166457\n",
        "Total diff ="
       ]
      },
      {
       "output_type": "stream",
       "stream": "stdout",
       "text": [
        " 7689.84166457\n",
        "Total diff = 7689.84166457\n",
        "Total diff = 7689.84166457\n",
        "Total diff = 7689.84166457\n",
        "Total diff ="
       ]
      },
      {
       "output_type": "stream",
       "stream": "stdout",
       "text": [
        " 7689.84166457\n",
        "Total diff = 7689.84166457\n",
        "Total diff = 7689.84166457\n",
        "Total diff = 7689.84166457\n",
        "Total diff ="
       ]
      },
      {
       "output_type": "stream",
       "stream": "stdout",
       "text": [
        " 7689.84166457\n",
        "Total diff = 7689.84166457\n",
        "Total diff = 7689.84166457\n",
        "Total diff = 7689.84166457\n",
        "Total diff ="
       ]
      },
      {
       "output_type": "stream",
       "stream": "stdout",
       "text": [
        " 7689.84166457\n",
        "Total diff = 7689.84166457\n",
        "Total diff = 7689.84166457\n",
        "Total diff = 7689.84166457\n",
        "Total diff ="
       ]
      },
      {
       "output_type": "stream",
       "stream": "stdout",
       "text": [
        " 7689.84166457\n",
        "Total diff = 7689.84166457\n",
        "Total diff = 7689.84166457\n",
        "Total diff = 7689.84166457\n",
        "Total diff = 7689.84166457\n",
        "Total diff ="
       ]
      },
      {
       "output_type": "stream",
       "stream": "stdout",
       "text": [
        " 7689.84166457\n",
        "Total diff = 7689.84166457\n",
        "Total diff = 7689.84166457\n",
        "Total diff = 7689.84166457\n",
        "Total diff ="
       ]
      },
      {
       "output_type": "stream",
       "stream": "stdout",
       "text": [
        " 7689.84166457\n",
        "Total diff = 7689.84166457\n",
        "Total diff = 7689.84166457\n",
        "Total diff = 7689.84166457\n",
        "Total diff ="
       ]
      },
      {
       "output_type": "stream",
       "stream": "stdout",
       "text": [
        " 7689.84166457\n",
        "Total diff = 7689.84166457\n",
        "Total diff = 7689.84166457\n",
        "Total diff = 7689.84166457\n",
        "Total diff = 7689.84166457\n",
        "Total diff ="
       ]
      },
      {
       "output_type": "stream",
       "stream": "stdout",
       "text": [
        " 7689.84166457\n",
        "Total diff = 7689.84166457\n",
        "Total diff = 7689.84166457\n",
        "Total diff = 7689.84166457\n",
        "Total diff = 7689.84166457\n",
        "Total diff ="
       ]
      },
      {
       "output_type": "stream",
       "stream": "stdout",
       "text": [
        " 7689.84166457\n",
        "Total diff = 7689.84166457\n",
        "Total diff = 7689.84166457\n",
        "Total diff = 7689.84166457\n",
        "Total diff = 7689.84166457\n",
        "Total diff ="
       ]
      },
      {
       "output_type": "stream",
       "stream": "stdout",
       "text": [
        " 7689.84166457\n",
        "Total diff = 7689.84166457\n",
        "Total diff = 7689.84166457\n",
        "Total diff = 7689.84166457\n",
        "Total diff ="
       ]
      },
      {
       "output_type": "stream",
       "stream": "stdout",
       "text": [
        " 7689.84166457\n",
        "Total diff = 7689.84166457\n",
        "Total diff = 7689.84166457\n",
        "Total diff = 7689.84166457\n",
        "Total diff ="
       ]
      },
      {
       "output_type": "stream",
       "stream": "stdout",
       "text": [
        " 7689.84166457\n",
        "Total diff = 7689.84166457\n",
        "Total diff = 7689.84166457\n",
        "Total diff = 7689.84166457\n",
        "Total diff ="
       ]
      },
      {
       "output_type": "stream",
       "stream": "stdout",
       "text": [
        " 7689.84166457\n",
        "Total diff = 7689.84166457\n",
        "Total diff = 7689.84166457\n",
        "Total diff = 7689.84166457\n",
        "Total diff ="
       ]
      },
      {
       "output_type": "stream",
       "stream": "stdout",
       "text": [
        " 7689.84166457\n",
        "Total diff = 7689.84166457\n",
        "Total diff = 7689.84166457\n",
        "Total diff = 7689.84166457\n",
        "Total diff ="
       ]
      },
      {
       "output_type": "stream",
       "stream": "stdout",
       "text": [
        " 7689.84166457\n",
        "Total diff = 7689.84166457\n",
        "Total diff = 7689.84166457\n",
        "Total diff = 7689.84166457\n",
        "Total diff ="
       ]
      },
      {
       "output_type": "stream",
       "stream": "stdout",
       "text": [
        " 7689.84166457\n",
        "Total diff = 7689.84166457\n",
        "Total diff = 7689.84166457\n",
        "Total diff = 7689.84166457\n",
        "Total diff ="
       ]
      },
      {
       "output_type": "stream",
       "stream": "stdout",
       "text": [
        " 7689.84166457\n",
        "Total diff = 7689.84166457\n",
        "Total diff = 7689.84166457\n",
        "Total diff = 7689.84166457\n",
        "Total diff ="
       ]
      },
      {
       "output_type": "stream",
       "stream": "stdout",
       "text": [
        " 7689.84166457\n",
        "Total diff = 7689.84166457\n",
        "Total diff = 7689.84166457\n",
        "Total diff = 7689.84166457\n",
        "Total diff ="
       ]
      },
      {
       "output_type": "stream",
       "stream": "stdout",
       "text": [
        " 7689.84166457\n",
        "Total diff = 7689.84166457\n",
        "Total diff = 7689.84166457\n",
        "Total diff = 7689.84166457\n",
        "Total diff ="
       ]
      },
      {
       "output_type": "stream",
       "stream": "stdout",
       "text": [
        " 7689.84166457\n",
        "Total diff = 7689.84166457\n",
        "Total diff = 7689.84166457\n",
        "Total diff = 7689.84166457\n",
        "Total diff ="
       ]
      },
      {
       "output_type": "stream",
       "stream": "stdout",
       "text": [
        " 7689.84166457\n",
        "Total diff = 7689.84166457\n",
        "Total diff = 7689.84166457\n",
        "Total diff = 7689.84166457\n",
        "Total diff ="
       ]
      },
      {
       "output_type": "stream",
       "stream": "stdout",
       "text": [
        " 7689.84166457\n",
        "Total diff = 7689.84166457\n",
        "Total diff = 7689.84166457\n",
        "Total diff = 7689.84166457\n",
        "Total diff = 7689.84166457\n",
        "Total diff ="
       ]
      },
      {
       "output_type": "stream",
       "stream": "stdout",
       "text": [
        " 7689.84166457\n",
        "Total diff = 7689.84166457\n",
        "Total diff = 7689.84166457\n",
        "Total diff = 7689.84166457\n",
        "Total diff = 7689.84166457\n",
        "Total diff ="
       ]
      },
      {
       "output_type": "stream",
       "stream": "stdout",
       "text": [
        " 7689.84166457\n",
        "Total diff = 7689.84166457\n",
        "Total diff = 7689.84166457\n",
        "Total diff ="
       ]
      },
      {
       "output_type": "stream",
       "stream": "stdout",
       "text": [
        " 7689.84166457\n",
        "Total diff = 7689.84166457\n",
        "Total diff = 7689.84166457\n",
        "Total diff = 7689.84166457\n",
        "Total diff ="
       ]
      },
      {
       "output_type": "stream",
       "stream": "stdout",
       "text": [
        " 7689.84166457\n",
        "Total diff = 7689.84166457\n",
        "Total diff = 7689.84166457\n",
        "Total diff = 7689.84166457\n",
        "Total diff = 7689.84166457\n",
        "Total diff ="
       ]
      },
      {
       "output_type": "stream",
       "stream": "stdout",
       "text": [
        " 7689.84166457\n",
        "Total diff = 7689.84166457\n",
        "Total diff = 7689.84166457\n",
        "Total diff = 7689.84166457\n",
        "Total diff ="
       ]
      },
      {
       "output_type": "stream",
       "stream": "stdout",
       "text": [
        " 7689.84166457\n",
        "Total diff = 7689.84166457\n",
        "Total diff = 7689.84166457\n",
        "Total diff = 7689.84166457\n",
        "Total diff = 7689.84166457\n",
        "Total diff ="
       ]
      },
      {
       "output_type": "stream",
       "stream": "stdout",
       "text": [
        " 7689.84166457\n",
        "Total diff = 7689.84166457\n",
        "Total diff = 7689.84166457\n",
        "Total diff = 7689.84166457\n",
        "Total diff = 7689.84166457\n",
        "Total diff ="
       ]
      },
      {
       "output_type": "stream",
       "stream": "stdout",
       "text": [
        " 7689.84166457\n",
        "Total diff = 7689.84166457\n",
        "Total diff = 7689.84166457\n",
        "Total diff = 7689.84166457\n",
        "Total diff ="
       ]
      },
      {
       "output_type": "stream",
       "stream": "stdout",
       "text": [
        " 7689.84166457\n",
        "Total diff = 7689.84166457\n",
        "Total diff = 7689.84166457\n",
        "Total diff = 7689.84166457\n",
        "Total diff = 7689.84166457\n",
        "Total diff ="
       ]
      },
      {
       "output_type": "stream",
       "stream": "stdout",
       "text": [
        " 7689.84166457\n",
        "Total diff = 7689.84166457\n",
        "Total diff = 7689.84166457\n",
        "Total diff = 7689.84166457\n",
        "Total diff = 7689.84166457\n",
        "Total diff ="
       ]
      },
      {
       "output_type": "stream",
       "stream": "stdout",
       "text": [
        " 7689.84166457\n",
        "Total diff = 7689.84166457\n",
        "Total diff = 7689.84166457\n",
        "Total diff = 7689.84166457\n",
        "Total diff = 7689.84166457\n",
        "Total diff ="
       ]
      },
      {
       "output_type": "stream",
       "stream": "stdout",
       "text": [
        " 7689.84166457\n",
        "Total diff = 7689.84166457\n",
        "Total diff = 7689.84166457\n",
        "Total diff = 7689.84166457\n",
        "Total diff = 7689.84166457\n",
        "Total diff ="
       ]
      },
      {
       "output_type": "stream",
       "stream": "stdout",
       "text": [
        " 7689.84166457\n",
        "Total diff = 7689.84166457\n",
        "Total diff = 7689.84166457\n",
        "Total diff = 7689.84166457\n",
        "Total diff = 7689.84166457\n",
        "Total diff ="
       ]
      },
      {
       "output_type": "stream",
       "stream": "stdout",
       "text": [
        " 7689.84166457\n",
        "Total diff = 7689.84166457\n",
        "Total diff = 7689.84166457\n",
        "Total diff = 7689.84166457\n",
        "Total diff = 7689.84166457\n",
        "Total diff ="
       ]
      },
      {
       "output_type": "stream",
       "stream": "stdout",
       "text": [
        " 7689.84166457\n",
        "Total diff = 7689.84166457\n",
        "Total diff = 7689.84166457\n",
        "Total diff = 7689.84166457\n",
        "Total diff ="
       ]
      },
      {
       "output_type": "stream",
       "stream": "stdout",
       "text": [
        " 7689.84166457\n",
        "Total diff = 7689.84166457\n",
        "Total diff = 7689.84166457\n",
        "Total diff = 7689.84166457\n",
        "Total diff = 7689.84166457\n",
        "Total diff ="
       ]
      },
      {
       "output_type": "stream",
       "stream": "stdout",
       "text": [
        " 7689.84166457\n",
        "Total diff = 7689.84166457\n",
        "Total diff = 7689.84166457\n",
        "Total diff = 7689.84166457\n",
        "Total diff = 7689.84166457\n",
        "Total diff ="
       ]
      },
      {
       "output_type": "stream",
       "stream": "stdout",
       "text": [
        " 7689.84166457\n",
        "Total diff = 7689.84166457\n",
        "Total diff = 7689.84166457\n",
        "Total diff = 7689.84166457\n",
        "Total diff = 7689.84166457\n",
        "Total diff ="
       ]
      },
      {
       "output_type": "stream",
       "stream": "stdout",
       "text": [
        " 7689.84166457\n",
        "Total diff = 7689.84166457\n",
        "Total diff = 7689.84166457\n",
        "Total diff = 7689.84166457\n",
        "Total diff ="
       ]
      },
      {
       "output_type": "stream",
       "stream": "stdout",
       "text": [
        " 7689.84166457\n",
        "Total diff = 7689.84166457\n",
        "Total diff = 7689.84166457\n",
        "Total diff = 7689.84166457\n",
        "Total diff = 7689.84166457\n",
        "Total diff ="
       ]
      },
      {
       "output_type": "stream",
       "stream": "stdout",
       "text": [
        " 7689.84166457\n",
        "Total diff = 7689.84166457\n",
        "Total diff = 7689.84166457\n",
        "Total diff = 7689.84166457\n",
        "Total diff = 7689.84166457\n",
        "Total diff ="
       ]
      },
      {
       "output_type": "stream",
       "stream": "stdout",
       "text": [
        " 7689.84166457\n",
        "Total diff = 7689.84166457\n",
        "Total diff = 7689.84166457\n",
        "Total diff = 7689.84166457\n",
        "Total diff ="
       ]
      },
      {
       "output_type": "stream",
       "stream": "stdout",
       "text": [
        " 7689.84166457\n",
        "Total diff = 7689.84166457\n",
        "Total diff = 7689.84166457\n",
        "Total diff = 7689.84166457\n",
        "Total diff ="
       ]
      },
      {
       "output_type": "stream",
       "stream": "stdout",
       "text": [
        " 7689.84166457\n",
        "Total diff = 7689.84166457\n",
        "Total diff = 7689.84166457\n",
        "Total diff = 7689.84166457\n",
        "Total diff ="
       ]
      },
      {
       "output_type": "stream",
       "stream": "stdout",
       "text": [
        " 7689.84166457\n",
        "Total diff = 7689.84166457\n",
        "Total diff = 7689.84166457\n",
        "Total diff = 7689.84166457\n",
        "Total diff = 7689.84166457\n",
        "Total diff ="
       ]
      },
      {
       "output_type": "stream",
       "stream": "stdout",
       "text": [
        " 7689.84166457\n",
        "Total diff = 7689.84166457\n",
        "Total diff = 7689.84166457\n",
        "Total diff = 7689.84166457\n",
        "Total diff ="
       ]
      },
      {
       "output_type": "stream",
       "stream": "stdout",
       "text": [
        " 7689.84166457\n",
        "Total diff = 7689.84166457\n",
        "Total diff = 7689.84166457\n",
        "Total diff = 7689.84166457\n",
        "Total diff ="
       ]
      },
      {
       "output_type": "stream",
       "stream": "stdout",
       "text": [
        " 7689.84166457\n",
        "Total diff = 7689.84166457\n",
        "Total diff = 7689.84166457\n",
        "Total diff = 7689.84166457\n",
        "Total diff ="
       ]
      },
      {
       "output_type": "stream",
       "stream": "stdout",
       "text": [
        " 7689.84166457\n",
        "Total diff = 7689.84166457\n",
        "Total diff = 7689.84166457\n",
        "Total diff ="
       ]
      },
      {
       "output_type": "stream",
       "stream": "stdout",
       "text": [
        " 7689.84166457\n",
        "Total diff = 7689.84166457\n",
        "Total diff = 7689.84166457\n",
        "Total diff = 7689.84166457\n",
        "Total diff ="
       ]
      },
      {
       "output_type": "stream",
       "stream": "stdout",
       "text": [
        " 7689.84166457\n",
        "Total diff = 7689.84166457\n",
        "Total diff = 7689.84166457\n",
        "Total diff = 7689.84166457\n",
        "Total diff ="
       ]
      },
      {
       "output_type": "stream",
       "stream": "stdout",
       "text": [
        " 7689.84166457\n",
        "Total diff = 7689.84166457\n",
        "Total diff = 7689.84166457\n",
        "Total diff = 7689.84166457\n",
        "Total diff ="
       ]
      },
      {
       "output_type": "stream",
       "stream": "stdout",
       "text": [
        " 7689.84166457\n",
        "Total diff = 7689.84166457\n",
        "Total diff = 7689.84166457\n",
        "Total diff = 7689.84166457\n",
        "Total diff ="
       ]
      },
      {
       "output_type": "stream",
       "stream": "stdout",
       "text": [
        " 7689.84166457\n",
        "Total diff = 7689.84166457\n",
        "Total diff = 7689.84166457\n",
        "Total diff = 7689.84166457\n",
        "Total diff ="
       ]
      },
      {
       "output_type": "stream",
       "stream": "stdout",
       "text": [
        " 7689.84166457\n",
        "Total diff = 7689.84166457\n",
        "Total diff = 7689.84166457\n",
        "Total diff = 7689.84166457\n",
        "Total diff ="
       ]
      },
      {
       "output_type": "stream",
       "stream": "stdout",
       "text": [
        " 7689.84166457\n",
        "Total diff = 7689.84166457\n",
        "Total diff = 7689.84166457\n",
        "Total diff = 7689.84166457\n",
        "Total diff ="
       ]
      },
      {
       "output_type": "stream",
       "stream": "stdout",
       "text": [
        " 7689.84166457\n",
        "Total diff = 7689.84166457\n",
        "Total diff = 7689.84166457\n",
        "Total diff = 7689.84166457\n",
        "Total diff = 7689.84166457\n",
        "Total diff ="
       ]
      },
      {
       "output_type": "stream",
       "stream": "stdout",
       "text": [
        " 7689.84166457\n",
        "Total diff = 7689.84166457\n",
        "Total diff = 7689.84166457\n",
        "Total diff = 7689.84166457\n",
        "Total diff ="
       ]
      },
      {
       "output_type": "stream",
       "stream": "stdout",
       "text": [
        " 7689.84166457\n",
        "Total diff = 7689.84166457\n",
        "Total diff = 7689.84166457\n",
        "Total diff = 7689.84166457\n",
        "Total diff ="
       ]
      },
      {
       "output_type": "stream",
       "stream": "stdout",
       "text": [
        " 7689.84166457\n",
        "Total diff = 7689.84166457\n",
        "Total diff = 7689.84166457\n",
        "Total diff = 7689.84166457\n",
        "Total diff ="
       ]
      },
      {
       "output_type": "stream",
       "stream": "stdout",
       "text": [
        " 7689.84166457\n",
        "Total diff = 7689.84166457\n",
        "Total diff = 7689.84166457\n",
        "Total diff = 7689.84166457\n",
        "Total diff ="
       ]
      },
      {
       "output_type": "stream",
       "stream": "stdout",
       "text": [
        " 7689.84166457\n",
        "Total diff = 7689.84166457\n",
        "Total diff = 7689.84166457\n",
        "Total diff ="
       ]
      },
      {
       "output_type": "stream",
       "stream": "stdout",
       "text": [
        " 7689.84166457\n",
        "Total diff = 7689.84166457\n",
        "Total diff = 7689.84166457\n",
        "Total diff = 7689.84166457\n",
        "Total diff ="
       ]
      },
      {
       "output_type": "stream",
       "stream": "stdout",
       "text": [
        " 7689.84166457\n",
        "Total diff = 7689.84166457\n",
        "Total diff = 7689.84166457\n",
        "Total diff = 7689.84166457\n",
        "Total diff ="
       ]
      },
      {
       "output_type": "stream",
       "stream": "stdout",
       "text": [
        " 7689.84166457\n",
        "Total diff = 7689.84166457\n",
        "Total diff = 7689.84166457\n",
        "Total diff = 7689.84166457\n",
        "Total diff ="
       ]
      },
      {
       "output_type": "stream",
       "stream": "stdout",
       "text": [
        " 7689.84166457\n",
        "Total diff = 7689.84166457\n",
        "Total diff = 7689.84166457\n",
        "Total diff = 7689.84166457\n",
        "Total diff ="
       ]
      },
      {
       "output_type": "stream",
       "stream": "stdout",
       "text": [
        " 7689.84166457\n",
        "Total diff = 7689.84166457\n",
        "Total diff = 7689.84166457\n",
        "Total diff = 7689.84166457\n",
        "Total diff = "
       ]
      },
      {
       "output_type": "stream",
       "stream": "stdout",
       "text": [
        "7689.84166457\n",
        "Total diff = 7689.84166457\n",
        "Total diff = 7689.84166457\n",
        "Total diff = 7689.84166457\n",
        "Total diff ="
       ]
      },
      {
       "output_type": "stream",
       "stream": "stdout",
       "text": [
        " 7689.84166457\n",
        "Total diff = 7689.84166457\n",
        "Total diff = 7689.84166457\n",
        "Total diff = 7689.84166457\n",
        "Total diff ="
       ]
      },
      {
       "output_type": "stream",
       "stream": "stdout",
       "text": [
        " 7689.84166457\n",
        "Total diff = 7689.84166457\n",
        "Total diff = 7689.84166457\n",
        "Total diff = 7689.84166457\n",
        "Total diff ="
       ]
      },
      {
       "output_type": "stream",
       "stream": "stdout",
       "text": [
        " 7689.84166457\n",
        "Total diff = 7689.84166457\n",
        "Total diff = 7689.84166457\n",
        "Total diff = 7689.84166457\n",
        "Total diff ="
       ]
      },
      {
       "output_type": "stream",
       "stream": "stdout",
       "text": [
        " 7689.84166457\n",
        "Total diff = 7689.84166457\n",
        "Total diff = 7689.84166457\n",
        "Total diff = 7689.84166457\n",
        "Total diff ="
       ]
      },
      {
       "output_type": "stream",
       "stream": "stdout",
       "text": [
        " 7689.84166457\n",
        "Total diff = 7689.84166457\n",
        "Total diff = 7689.84166457\n",
        "Total diff = 7689.84166457\n",
        "Total diff ="
       ]
      },
      {
       "output_type": "stream",
       "stream": "stdout",
       "text": [
        " 7689.84166457\n",
        "Total diff = 7689.84166457\n",
        "Total diff = 7689.84166457\n",
        "Total diff = 7689.84166457\n",
        "Total diff ="
       ]
      },
      {
       "output_type": "stream",
       "stream": "stdout",
       "text": [
        " 7689.84166457\n",
        "Total diff = 7689.84166457\n",
        "Total diff = 7689.84166457\n",
        "Total diff = 7689.84166457\n",
        "Total diff ="
       ]
      },
      {
       "output_type": "stream",
       "stream": "stdout",
       "text": [
        " 7689.84166457\n",
        "Total diff = 7689.84166457\n",
        "Total diff = 7689.84166457\n",
        "Total diff = 7689.84166457\n",
        "Total diff ="
       ]
      },
      {
       "output_type": "stream",
       "stream": "stdout",
       "text": [
        " 7689.84166457\n",
        "Total diff = 7689.84166457\n",
        "Total diff = 7689.84166457\n",
        "Total diff = 7689.84166457\n",
        "Total diff ="
       ]
      },
      {
       "output_type": "stream",
       "stream": "stdout",
       "text": [
        " 7689.84166457\n",
        "Total diff = 7689.84166457\n",
        "Total diff = 7689.84166457\n",
        "Total diff ="
       ]
      },
      {
       "output_type": "stream",
       "stream": "stdout",
       "text": [
        " 7689.84166457\n",
        "Total diff = 7689.84166457\n",
        "Total diff = 7689.84166457\n",
        "Total diff = 7689.84166457\n",
        "Total diff ="
       ]
      },
      {
       "output_type": "stream",
       "stream": "stdout",
       "text": [
        " 7689.84166457\n",
        "Total diff = 7689.84166457\n",
        "Total diff = 7689.84166457\n",
        "Total diff = 7689.84166457\n",
        "Total diff ="
       ]
      },
      {
       "output_type": "stream",
       "stream": "stdout",
       "text": [
        " 7689.84166457\n",
        "Total diff = 7689.84166457\n",
        "Total diff = 7689.84166457\n",
        "Total diff = 7689.84166457\n",
        "Total diff ="
       ]
      },
      {
       "output_type": "stream",
       "stream": "stdout",
       "text": [
        " 7689.84166457\n",
        "Total diff = 7689.84166457\n",
        "Total diff = 7689.84166457\n",
        "Total diff = 7689.84166457\n",
        "Total diff ="
       ]
      },
      {
       "output_type": "stream",
       "stream": "stdout",
       "text": [
        " 7689.84166457\n",
        "Total diff = 7689.84166457\n",
        "Total diff = 7689.84166457\n",
        "Total diff = 7689.84166457\n",
        "Total diff ="
       ]
      },
      {
       "output_type": "stream",
       "stream": "stdout",
       "text": [
        " 7689.84166457\n",
        "Total diff = 7689.84166457\n",
        "Total diff = 7689.84166457\n",
        "Total diff = 7689.84166457\n",
        "Total diff ="
       ]
      },
      {
       "output_type": "stream",
       "stream": "stdout",
       "text": [
        " 7689.84166457\n",
        "Total diff = 7689.84166457\n",
        "Total diff = 7689.84166457\n",
        "Total diff = 7689.84166457\n",
        "Total diff ="
       ]
      },
      {
       "output_type": "stream",
       "stream": "stdout",
       "text": [
        " 7689.84166457\n",
        "Total diff = 7689.84166457\n",
        "Total diff = 7689.84166457\n",
        "Total diff = 7689.84166457\n",
        "Total diff ="
       ]
      },
      {
       "output_type": "stream",
       "stream": "stdout",
       "text": [
        " 7689.84166457\n",
        "Total diff = 7689.84166457\n",
        "Total diff = 7689.84166457\n",
        "Total diff = 7689.84166457\n",
        "Total diff ="
       ]
      },
      {
       "output_type": "stream",
       "stream": "stdout",
       "text": [
        " 7689.84166457\n",
        "Total diff = 7689.84166457\n",
        "Total diff = 7689.84166457\n",
        "Total diff = 7689.84166457\n",
        "Total diff ="
       ]
      },
      {
       "output_type": "stream",
       "stream": "stdout",
       "text": [
        " 7689.84166457\n",
        "Total diff = 7689.84166457\n",
        "Total diff = 7689.84166457\n",
        "Total diff = 7689.84166457\n",
        "Total diff ="
       ]
      },
      {
       "output_type": "stream",
       "stream": "stdout",
       "text": [
        " 7689.84166457\n",
        "Total diff = 7689.84166457\n",
        "Total diff = 7689.84166457\n",
        "Total diff = 7689.84166457\n",
        "Total diff ="
       ]
      },
      {
       "output_type": "stream",
       "stream": "stdout",
       "text": [
        " 7689.84166457\n",
        "Total diff = 7689.84166457\n",
        "Total diff = 7689.84166457\n",
        "Total diff = 7689.84166457\n",
        "Total diff ="
       ]
      },
      {
       "output_type": "stream",
       "stream": "stdout",
       "text": [
        " 7689.84166457\n",
        "Total diff = 7689.84166457\n",
        "Total diff = 7689.84166457\n",
        "Total diff = 7689.84166457\n",
        "Total diff ="
       ]
      },
      {
       "output_type": "stream",
       "stream": "stdout",
       "text": [
        " 7689.84166457\n",
        "Total diff = 7689.84166457\n",
        "Total diff = 7689.84166457\n",
        "Total diff = 7689.84166457\n",
        "Total diff ="
       ]
      },
      {
       "output_type": "stream",
       "stream": "stdout",
       "text": [
        " 7689.84166457\n",
        "Total diff = 7689.84166457\n",
        "Total diff = 7689.84166457\n",
        "Total diff = 7689.84166457\n",
        "Total diff = 7689.84166457\n",
        "Total diff ="
       ]
      },
      {
       "output_type": "stream",
       "stream": "stdout",
       "text": [
        " 7689.84166457\n",
        "Total diff = 7689.84166457\n",
        "Total diff = 7689.84166457\n",
        "Total diff = 7689.84166457\n",
        "Total diff ="
       ]
      },
      {
       "output_type": "stream",
       "stream": "stdout",
       "text": [
        " 7689.84166457\n",
        "Total diff = 7689.84166457\n",
        "Total diff = 7689.84166457\n",
        "Total diff = 7689.84166457\n",
        "Total diff ="
       ]
      },
      {
       "output_type": "stream",
       "stream": "stdout",
       "text": [
        " 7689.84166457\n",
        "Total diff = 7689.84166457\n",
        "Total diff = 7689.84166457\n",
        "Total diff = 7689.84166457\n",
        "Total diff ="
       ]
      },
      {
       "output_type": "stream",
       "stream": "stdout",
       "text": [
        " 7689.84166457\n",
        "Total diff = 7689.84166457\n",
        "Total diff = 7689.84166457\n",
        "Total diff = 7689.84166457\n",
        "Total diff ="
       ]
      },
      {
       "output_type": "stream",
       "stream": "stdout",
       "text": [
        " 7689.84166457\n",
        "Total diff = 7689.84166457\n",
        "Total diff = 7689.84166457\n",
        "Total diff = 7689.84166457\n",
        "Total diff ="
       ]
      },
      {
       "output_type": "stream",
       "stream": "stdout",
       "text": [
        " 7689.84166457\n",
        "Total diff = 7689.84166457\n",
        "Total diff = 7689.84166457\n",
        "Total diff = 7689.84166457\n",
        "Total diff ="
       ]
      },
      {
       "output_type": "stream",
       "stream": "stdout",
       "text": [
        " 7689.84166457\n",
        "Total diff = 7689.84166457\n",
        "Total diff = 7689.84166457\n",
        "Total diff = 7689.84166457\n",
        "Total diff ="
       ]
      },
      {
       "output_type": "stream",
       "stream": "stdout",
       "text": [
        " 7689.84166457\n",
        "Total diff = 7689.84166457\n",
        "Total diff = 7689.84166457\n",
        "Total diff = 7689.84166457\n",
        "Total diff ="
       ]
      },
      {
       "output_type": "stream",
       "stream": "stdout",
       "text": [
        " 7689.84166457\n",
        "Total diff = 7689.84166457\n",
        "Total diff = 7689.84166457\n",
        "Total diff = 7689.84166457\n",
        "Total diff = 7689.84166457\n",
        "Total diff ="
       ]
      },
      {
       "output_type": "stream",
       "stream": "stdout",
       "text": [
        " 7689.84166457\n",
        "Total diff = 7689.84166457\n",
        "Total diff = 7689.84166457\n",
        "Total diff = 7689.84166457\n",
        "Total diff = 7689.84166457\n",
        "Total diff ="
       ]
      },
      {
       "output_type": "stream",
       "stream": "stdout",
       "text": [
        " 7689.84166457\n",
        "Total diff = 7689.84166457\n",
        "Total diff = 7689.84166457\n",
        "Total diff = 7689.84166457\n",
        "Total diff ="
       ]
      },
      {
       "output_type": "stream",
       "stream": "stdout",
       "text": [
        " 7689.84166457\n",
        "Total diff = 7689.84166457\n",
        "Total diff = 7689.84166457\n",
        "Total diff = 7689.84166457\n",
        "Total diff ="
       ]
      },
      {
       "output_type": "stream",
       "stream": "stdout",
       "text": [
        " 7689.84166457\n",
        "Total diff = 7689.84166457\n",
        "Total diff = 7689.84166457\n",
        "Total diff = 7689.84166457\n",
        "Total diff ="
       ]
      },
      {
       "output_type": "stream",
       "stream": "stdout",
       "text": [
        " 7689.84166457\n",
        "Total diff = 7689.84166457\n",
        "Total diff = 7689.84166457\n",
        "Total diff = 7689.84166457\n",
        "Total diff ="
       ]
      },
      {
       "output_type": "stream",
       "stream": "stdout",
       "text": [
        " 7689.84166457\n",
        "Total diff = 7689.84166457\n",
        "Total diff = 7689.84166457\n",
        "Total diff = 7689.84166457\n",
        "Total diff ="
       ]
      },
      {
       "output_type": "stream",
       "stream": "stdout",
       "text": [
        " 7689.84166457\n",
        "Total diff = 7689.84166457\n",
        "Total diff = 7689.84166457\n",
        "Total diff = 7689.84166457\n",
        "Total diff ="
       ]
      },
      {
       "output_type": "stream",
       "stream": "stdout",
       "text": [
        " 7689.84166457\n",
        "Total diff = 7689.84166457\n",
        "Total diff = 7689.84166457\n",
        "Total diff = 7689.84166457\n",
        "Total diff ="
       ]
      },
      {
       "output_type": "stream",
       "stream": "stdout",
       "text": [
        " 7689.84166457\n",
        "Total diff = 7689.84166457\n",
        "Total diff = 7689.84166457\n",
        "Total diff = 7689.84166457\n",
        "Total diff ="
       ]
      },
      {
       "output_type": "stream",
       "stream": "stdout",
       "text": [
        " 7689.84166457\n",
        "Total diff = 7689.84166457\n",
        "Total diff = 7689.84166457\n",
        "Total diff = 7689.84166457\n",
        "Total diff ="
       ]
      },
      {
       "output_type": "stream",
       "stream": "stdout",
       "text": [
        " 7689.84166457\n",
        "Total diff = 7689.84166457\n",
        "Total diff = 7689.84166457\n",
        "Total diff = 7689.84166457\n",
        "Total diff ="
       ]
      },
      {
       "output_type": "stream",
       "stream": "stdout",
       "text": [
        " 7689.84166457\n",
        "Total diff = 7689.84166457\n",
        "Total diff = 7689.84166457\n",
        "Total diff = 7689.84166457\n",
        "Total diff ="
       ]
      },
      {
       "output_type": "stream",
       "stream": "stdout",
       "text": [
        " 7689.84166457\n",
        "Total diff = 7689.84166457\n",
        "Total diff = 7689.84166457\n",
        "Total diff = 7689.84166457\n",
        "Total diff ="
       ]
      },
      {
       "output_type": "stream",
       "stream": "stdout",
       "text": [
        " 7689.84166457\n",
        "Total diff = 7689.84166457\n",
        "Total diff = 7689.84166457\n",
        "Total diff = 7689.84166457\n",
        "Total diff ="
       ]
      },
      {
       "output_type": "stream",
       "stream": "stdout",
       "text": [
        " 7689.84166457\n",
        "Total diff = 7689.84166457\n",
        "Total diff = 7689.84166457\n",
        "Total diff = 7689.84166457\n",
        "Total diff = 7689.84166457\n",
        "Total diff ="
       ]
      },
      {
       "output_type": "stream",
       "stream": "stdout",
       "text": [
        " 7689.84166457\n",
        "Total diff = 7689.84166457\n",
        "Total diff = 7689.84166457\n",
        "Total diff = 7689.84166457\n",
        "Total diff ="
       ]
      },
      {
       "output_type": "stream",
       "stream": "stdout",
       "text": [
        " 7689.84166457\n",
        "Total diff = 7689.84166457\n",
        "Total diff = 7689.84166457\n",
        "Total diff = 7689.84166457\n",
        "Total diff ="
       ]
      },
      {
       "output_type": "stream",
       "stream": "stdout",
       "text": [
        " 7689.84166457\n",
        "Total diff = 7689.84166457\n",
        "Total diff = 7689.84166457\n",
        "Total diff = 7689.84166457\n",
        "Total diff ="
       ]
      },
      {
       "output_type": "stream",
       "stream": "stdout",
       "text": [
        " 7689.84166457\n",
        "Total diff = 7689.84166457\n",
        "Total diff = 7689.84166457\n",
        "Total diff = 7689.84166457\n",
        "Total diff ="
       ]
      },
      {
       "output_type": "stream",
       "stream": "stdout",
       "text": [
        " 7689.84166457\n",
        "Total diff = 7689.84166457\n",
        "Total diff = 7689.84166457\n",
        "Total diff = 7689.84166457\n",
        "Total diff = "
       ]
      },
      {
       "output_type": "stream",
       "stream": "stdout",
       "text": [
        "7689.84166457\n",
        "Total diff = 7689.84166457\n",
        "Total diff = 7689.84166457\n",
        "Total diff = 7689.84166457\n",
        "Total diff ="
       ]
      },
      {
       "output_type": "stream",
       "stream": "stdout",
       "text": [
        " 7689.84166457\n",
        "Total diff = 7689.84166457\n",
        "Total diff = 7689.84166457\n",
        "Total diff = 7689.84166457\n",
        "Total diff ="
       ]
      },
      {
       "output_type": "stream",
       "stream": "stdout",
       "text": [
        " 7689.84166457\n",
        "Total diff = 7689.84166457\n",
        "Total diff = 7689.84166457\n",
        "Total diff = 7689.84166457\n",
        "Total diff ="
       ]
      },
      {
       "output_type": "stream",
       "stream": "stdout",
       "text": [
        " 7689.84166457\n",
        "Total diff = 7689.84166457\n",
        "Total diff = 7689.84166457\n",
        "Total diff = 7689.84166457\n",
        "Total diff = 7689.84166457\n",
        "Total diff ="
       ]
      },
      {
       "output_type": "stream",
       "stream": "stdout",
       "text": [
        " 7689.84166457\n",
        "Total diff = 7689.84166457\n",
        "Total diff = 7689.84166457\n",
        "Total diff = 7689.84166457\n",
        "Total diff ="
       ]
      },
      {
       "output_type": "stream",
       "stream": "stdout",
       "text": [
        " 7689.84166457\n",
        "Total diff = 7689.84166457\n",
        "Total diff = 7689.84166457\n",
        "Total diff = 7689.84166457\n",
        "Total diff ="
       ]
      },
      {
       "output_type": "stream",
       "stream": "stdout",
       "text": [
        " 7689.84166457\n",
        "Total diff = 7689.84166457\n",
        "Total diff ="
       ]
      },
      {
       "output_type": "stream",
       "stream": "stdout",
       "text": [
        " 7689.84166457\n",
        "Total diff = 7689.84166457\n",
        "Total diff = 7689.84166457\n",
        "Total diff = 7689.84166457\n",
        "Total diff ="
       ]
      },
      {
       "output_type": "stream",
       "stream": "stdout",
       "text": [
        " 7689.84166457\n",
        "Total diff = 7689.84166457\n",
        "Total diff = 7689.84166457\n",
        "Total diff = 7689.84166457\n",
        "Total diff ="
       ]
      },
      {
       "output_type": "stream",
       "stream": "stdout",
       "text": [
        " 7689.84166457\n",
        "Total diff = 7689.84166457\n",
        "Total diff = 7689.84166457\n",
        "Total diff ="
       ]
      },
      {
       "output_type": "stream",
       "stream": "stdout",
       "text": [
        " 7689.84166457\n",
        "Total diff = 7689.84166457\n",
        "Total diff = 7689.84166457\n",
        "Total diff = 7689.84166457\n",
        "Total diff = 7689.84166457\n",
        "Total diff ="
       ]
      },
      {
       "output_type": "stream",
       "stream": "stdout",
       "text": [
        " 7689.84166457\n",
        "Total diff = 7689.84166457\n",
        "Total diff = 7689.84166457\n",
        "Total diff = 7689.84166457\n",
        "Total diff ="
       ]
      },
      {
       "output_type": "stream",
       "stream": "stdout",
       "text": [
        " 7689.84166457\n",
        "Total diff = 7689.84166457\n",
        "Total diff = 7689.84166457\n",
        "Total diff = 7689.84166457\n",
        "Total diff = 7689.84166457\n",
        "Total diff ="
       ]
      },
      {
       "output_type": "stream",
       "stream": "stdout",
       "text": [
        " 7689.84166457\n",
        "Total diff = 7689.84166457\n",
        "Total diff = 7689.84166457\n",
        "Total diff = 7689.84166457\n",
        "Total diff = 7689.84166457\n",
        "Total diff ="
       ]
      },
      {
       "output_type": "stream",
       "stream": "stdout",
       "text": [
        " 7689.84166457\n",
        "Total diff = 7689.84166457\n",
        "Total diff = 7689.84166457\n",
        "Total diff = 7689.84166457\n",
        "Total diff ="
       ]
      },
      {
       "output_type": "stream",
       "stream": "stdout",
       "text": [
        " 7689.84166457\n",
        "Total diff = 7689.84166457\n",
        "Total diff = 7689.84166457\n",
        "Total diff = 7689.84166457\n",
        "Total diff = 7689.84166457\n",
        "Total diff ="
       ]
      },
      {
       "output_type": "stream",
       "stream": "stdout",
       "text": [
        " 7689.84166457\n",
        "Total diff = 7689.84166457\n",
        "Total diff = 7689.84166457\n",
        "Total diff = 7689.84166457\n",
        "Total diff = 7689.84166457\n",
        "Total diff ="
       ]
      },
      {
       "output_type": "stream",
       "stream": "stdout",
       "text": [
        " 7689.84166457\n",
        "Total diff = 7689.84166457\n",
        "Total diff = 7689.84166457\n",
        "Total diff = 7689.84166457\n",
        "Total diff ="
       ]
      },
      {
       "output_type": "stream",
       "stream": "stdout",
       "text": [
        " 7689.84166457\n",
        "Total diff = 7689.84166457\n",
        "Total diff = 7689.84166457\n",
        "Total diff = 7689.84166457\n",
        "Total diff ="
       ]
      },
      {
       "output_type": "stream",
       "stream": "stdout",
       "text": [
        " 7689.84166457\n",
        "Total diff = 7689.84166457\n",
        "Total diff = 7689.84166457\n",
        "Total diff = 7689.84166457\n",
        "Total diff ="
       ]
      },
      {
       "output_type": "stream",
       "stream": "stdout",
       "text": [
        " 7689.84166457\n",
        "Total diff = 7689.84166457\n",
        "Total diff = 7689.84166457\n",
        "Total diff = 7689.84166457\n",
        "Total diff ="
       ]
      },
      {
       "output_type": "stream",
       "stream": "stdout",
       "text": [
        " 7689.84166457\n",
        "Total diff = 7689.84166457\n",
        "Total diff = 7689.84166457\n",
        "Total diff = 7689.84166457\n",
        "Total diff ="
       ]
      },
      {
       "output_type": "stream",
       "stream": "stdout",
       "text": [
        " 7689.84166457\n",
        "Total diff = 7689.84166457\n",
        "Total diff = 7689.84166457\n",
        "Total diff = 7689.84166457\n",
        "Total diff = 7689.84166457\n",
        "Total diff ="
       ]
      },
      {
       "output_type": "stream",
       "stream": "stdout",
       "text": [
        " 7689.84166457\n",
        "Total diff = 7689.84166457\n",
        "Total diff = 7689.84166457\n",
        "Total diff = 7689.84166457\n",
        "Total diff ="
       ]
      },
      {
       "output_type": "stream",
       "stream": "stdout",
       "text": [
        " 7689.84166457\n",
        "Total diff = 7689.84166457\n",
        "Total diff = 7689.84166457\n",
        "Total diff = 7689.84166457\n",
        "Total diff = 7689.84166457\n",
        "Total diff ="
       ]
      },
      {
       "output_type": "stream",
       "stream": "stdout",
       "text": [
        " 7689.84166457\n",
        "Total diff = 7689.84166457\n",
        "Total diff = 7689.84166457\n",
        "Total diff = 7689.84166457\n",
        "Total diff ="
       ]
      },
      {
       "output_type": "stream",
       "stream": "stdout",
       "text": [
        " 7689.84166457\n",
        "Total diff = 7689.84166457\n",
        "Total diff = 7689.84166457\n",
        "Total diff = 7689.84166457\n",
        "Total diff = 7689.84166457\n",
        "Total diff ="
       ]
      },
      {
       "output_type": "stream",
       "stream": "stdout",
       "text": [
        " 7689.84166457\n",
        "Total diff = 7689.84166457\n",
        "Total diff = 7689.84166457\n",
        "Total diff = 7689.84166457\n",
        "Total diff = 7689.84166457\n",
        "Total diff ="
       ]
      },
      {
       "output_type": "stream",
       "stream": "stdout",
       "text": [
        " 7689.84166457\n",
        "Total diff = 7689.84166457\n",
        "Total diff = 7689.84166457\n",
        "Total diff = 7689.84166457\n",
        "Total diff = 7689.84166457\n",
        "Total diff ="
       ]
      },
      {
       "output_type": "stream",
       "stream": "stdout",
       "text": [
        " 7689.84166457\n",
        "Total diff = 7689.84166457\n",
        "Total diff = 7689.84166457\n",
        "Total diff = 7689.84166457\n",
        "Total diff = 7689.84166457\n",
        "Total diff ="
       ]
      },
      {
       "output_type": "stream",
       "stream": "stdout",
       "text": [
        " 7689.84166457\n",
        "Total diff = 7689.84166457\n",
        "Total diff = 7689.84166457\n",
        "Total diff = 7689.84166457\n",
        "Total diff ="
       ]
      },
      {
       "output_type": "stream",
       "stream": "stdout",
       "text": [
        " 7689.84166457\n",
        "Total diff = 7689.84166457\n",
        "Total diff = 7689.84166457\n",
        "Total diff = 7689.84166457\n",
        "Total diff = 7689.84166457\n",
        "Total diff ="
       ]
      },
      {
       "output_type": "stream",
       "stream": "stdout",
       "text": [
        " 7689.84166457\n",
        "Total diff = 7689.84166457\n",
        "Total diff = 7689.84166457\n",
        "Total diff = 7689.84166457\n",
        "Total diff ="
       ]
      },
      {
       "output_type": "stream",
       "stream": "stdout",
       "text": [
        " 7689.84166457\n",
        "Total diff = 7689.84166457\n",
        "Total diff = 7689.84166457\n",
        "Total diff = 7689.84166457\n",
        "Total diff ="
       ]
      },
      {
       "output_type": "stream",
       "stream": "stdout",
       "text": [
        " 7689.84166457\n",
        "Total diff = 7689.84166457\n",
        "Total diff = 7689.84166457\n",
        "Total diff = 7689.84166457\n",
        "Total diff ="
       ]
      },
      {
       "output_type": "stream",
       "stream": "stdout",
       "text": [
        " 7689.84166457\n",
        "Total diff = 7689.84166457\n",
        "Total diff = 7689.84166457\n",
        "Total diff = 7689.84166457\n",
        "Total diff = 7689.84166457\n",
        "Total diff ="
       ]
      },
      {
       "output_type": "stream",
       "stream": "stdout",
       "text": [
        " 7689.84166457\n",
        "Total diff = 7689.84166457\n",
        "Total diff = 7689.84166457\n",
        "Total diff = 7689.84166457\n",
        "Total diff = 7689.84166457\n",
        "Total diff ="
       ]
      },
      {
       "output_type": "stream",
       "stream": "stdout",
       "text": [
        " 7689.84166457\n",
        "Total diff = 7689.84166457\n",
        "Total diff = 7689.84166457\n",
        "Total diff = 7689.84166457\n",
        "Total diff = 7689.84166457\n",
        "Total diff ="
       ]
      },
      {
       "output_type": "stream",
       "stream": "stdout",
       "text": [
        " 7689.84166457\n",
        "Total diff = 7689.84166457\n",
        "Total diff = 7689.84166457\n",
        "Total diff = 7689.84166457\n",
        "Total diff ="
       ]
      },
      {
       "output_type": "stream",
       "stream": "stdout",
       "text": [
        " 7689.84166457\n",
        "Total diff = 7689.84166457\n",
        "Total diff = 7689.84166457\n",
        "Total diff = 7689.84166457\n",
        "Total diff = 7689.84166457\n",
        "Total diff ="
       ]
      },
      {
       "output_type": "stream",
       "stream": "stdout",
       "text": [
        " 7689.84166457\n",
        "Total diff = 7689.84166457\n",
        "Total diff = 7689.84166457\n",
        "Total diff = 7689.84166457\n",
        "Total diff ="
       ]
      },
      {
       "output_type": "stream",
       "stream": "stdout",
       "text": [
        " 7689.84166457\n",
        "Total diff = 7689.84166457\n",
        "Total diff = 7689.84166457\n",
        "Total diff = 7689.84166457\n",
        "Total diff = 7689.84166457\n",
        "Total diff ="
       ]
      },
      {
       "output_type": "stream",
       "stream": "stdout",
       "text": [
        " 7689.84166457\n",
        "Total diff = 7689.84166457\n",
        "Total diff = 7689.84166457\n",
        "Total diff = 7689.84166457\n",
        "Total diff ="
       ]
      },
      {
       "output_type": "stream",
       "stream": "stdout",
       "text": [
        " 7689.84166457\n",
        "Total diff = 7689.84166457\n",
        "Total diff = 7689.84166457\n",
        "Total diff = 7689.84166457\n",
        "Total diff = 7689.84166457\n",
        "Total diff ="
       ]
      },
      {
       "output_type": "stream",
       "stream": "stdout",
       "text": [
        " 7689.84166457\n",
        "Total diff = 7689.84166457\n",
        "Total diff = 7689.84166457\n",
        "Total diff = 7689.84166457\n",
        "Total diff = 7689.84166457\n",
        "Total diff ="
       ]
      },
      {
       "output_type": "stream",
       "stream": "stdout",
       "text": [
        " 7689.84166457\n",
        "Total diff = 7689.84166457\n",
        "Total diff = 7689.84166457\n",
        "Total diff = 7689.84166457\n",
        "Total diff ="
       ]
      },
      {
       "output_type": "stream",
       "stream": "stdout",
       "text": [
        " 7689.84166457\n",
        "Total diff = 7689.84166457\n",
        "Total diff = 7689.84166457\n",
        "Total diff = 7689.84166457\n",
        "Total diff ="
       ]
      },
      {
       "output_type": "stream",
       "stream": "stdout",
       "text": [
        " 7689.84166457\n",
        "Total diff = 7689.84166457\n",
        "Total diff = 7689.84166457\n",
        "Total diff = 7689.84166457\n",
        "Total diff ="
       ]
      },
      {
       "output_type": "stream",
       "stream": "stdout",
       "text": [
        " 7689.84166457\n",
        "Total diff = 7689.84166457\n",
        "Total diff = 7689.84166457\n",
        "Total diff = 7689.84166457\n",
        "Total diff ="
       ]
      },
      {
       "output_type": "stream",
       "stream": "stdout",
       "text": [
        " 7689.84166457\n",
        "Total diff = 7689.84166457\n",
        "Total diff = 7689.84166457\n",
        "Total diff = 7689.84166457\n",
        "Total diff ="
       ]
      },
      {
       "output_type": "stream",
       "stream": "stdout",
       "text": [
        " 7689.84166457\n",
        "Total diff = 7689.84166457\n",
        "Total diff = 7689.84166457\n",
        "Total diff = 7689.84166457\n",
        "Total diff ="
       ]
      },
      {
       "output_type": "stream",
       "stream": "stdout",
       "text": [
        " 7689.84166457\n",
        "Total diff = 7689.84166457\n",
        "Total diff = 7689.84166457\n",
        "Total diff = 7689.84166457\n",
        "Total diff ="
       ]
      },
      {
       "output_type": "stream",
       "stream": "stdout",
       "text": [
        " 7689.84166457\n",
        "Total diff = 7689.84166457\n",
        "Total diff = 7689.84166457\n",
        "Total diff = 7689.84166457\n",
        "Total diff ="
       ]
      },
      {
       "output_type": "stream",
       "stream": "stdout",
       "text": [
        " 7689.84166457\n",
        "Total diff = 7689.84166457\n",
        "Total diff = 7689.84166457\n",
        "Total diff = 7689.84166457\n",
        "Total diff ="
       ]
      },
      {
       "output_type": "stream",
       "stream": "stdout",
       "text": [
        " 7689.84166457\n",
        "Total diff = 7689.84166457\n",
        "Total diff = 7689.84166457\n",
        "Total diff = 7689.84166457\n",
        "Total diff ="
       ]
      },
      {
       "output_type": "stream",
       "stream": "stdout",
       "text": [
        " 7689.84166457\n",
        "Total diff = 7689.84166457\n",
        "Total diff = 7689.84166457\n",
        "Total diff = 7689.84166457\n",
        "Total diff ="
       ]
      },
      {
       "output_type": "stream",
       "stream": "stdout",
       "text": [
        " 7689.84166457\n",
        "Total diff = 7689.84166457\n",
        "Total diff = 7689.84166457\n",
        "Total diff = 7689.84166457\n",
        "Total diff = 7689.84166457\n",
        "Total diff ="
       ]
      },
      {
       "output_type": "stream",
       "stream": "stdout",
       "text": [
        " 7689.84166457\n",
        "Total diff = 7689.84166457\n",
        "Total diff = 7689.84166457\n",
        "Total diff = 7689.84166457\n",
        "Total diff ="
       ]
      },
      {
       "output_type": "stream",
       "stream": "stdout",
       "text": [
        " 7689.84166457\n",
        "Total diff = 7689.84166457\n",
        "Total diff = 7689.84166457\n",
        "Total diff = 7689.84166457\n",
        "Total diff ="
       ]
      },
      {
       "output_type": "stream",
       "stream": "stdout",
       "text": [
        " 7689.84166457\n",
        "Total diff = 7689.84166457\n",
        "Total diff = 7689.84166457\n",
        "Total diff = 7689.84166457\n",
        "Total diff ="
       ]
      },
      {
       "output_type": "stream",
       "stream": "stdout",
       "text": [
        " 7689.84166457\n",
        "Total diff = 7689.84166457\n",
        "Total diff = 7689.84166457\n",
        "Total diff = 7689.84166457\n",
        "Total diff ="
       ]
      },
      {
       "output_type": "stream",
       "stream": "stdout",
       "text": [
        " 7689.84166457\n",
        "Total diff = 7689.84166457\n",
        "Total diff = 7689.84166457\n",
        "Total diff = 7689.84166457\n",
        "Total diff ="
       ]
      },
      {
       "output_type": "stream",
       "stream": "stdout",
       "text": [
        " 7689.84166457\n",
        "Total diff = 7689.84166457\n",
        "Total diff = 7689.84166457\n",
        "Total diff = 7689.84166457\n",
        "Total diff ="
       ]
      },
      {
       "output_type": "stream",
       "stream": "stdout",
       "text": [
        " 7689.84166457\n",
        "Total diff = 7689.84166457\n",
        "Total diff = 7689.84166457\n",
        "Total diff = 7689.84166457\n",
        "Total diff ="
       ]
      },
      {
       "output_type": "stream",
       "stream": "stdout",
       "text": [
        " 7689.84166457\n",
        "Total diff = 7689.84166457\n",
        "Total diff = 7689.84166457\n",
        "Total diff = 7689.84166457\n",
        "Total diff ="
       ]
      },
      {
       "output_type": "stream",
       "stream": "stdout",
       "text": [
        " 7689.84166457\n",
        "Total diff = 7689.84166457\n",
        "Total diff = 7689.84166457\n",
        "Total diff = 7689.84166457\n",
        "Total diff = 7689.84166457\n",
        "Total diff ="
       ]
      },
      {
       "output_type": "stream",
       "stream": "stdout",
       "text": [
        " 7689.84166457\n",
        "Total diff = 7689.84166457\n",
        "Total diff = 7689.84166457\n",
        "Total diff = 7689.84166457\n",
        "Total diff ="
       ]
      },
      {
       "output_type": "stream",
       "stream": "stdout",
       "text": [
        " 7689.84166457\n",
        "Total diff = 7689.84166457\n",
        "Total diff = 7689.84166457\n",
        "Total diff = 7689.84166457\n",
        "Total diff ="
       ]
      },
      {
       "output_type": "stream",
       "stream": "stdout",
       "text": [
        " 7689.84166457\n",
        "Total diff = 7689.84166457\n",
        "Total diff = 7689.84166457\n",
        "Total diff = 7689.84166457\n",
        "Total diff ="
       ]
      },
      {
       "output_type": "stream",
       "stream": "stdout",
       "text": [
        " 7689.84166457\n",
        "Total diff = 7689.84166457\n",
        "Total diff = 7689.84166457\n",
        "Total diff = 7689.84166457\n",
        "Total diff = 7689.84166457\n",
        "Total diff ="
       ]
      },
      {
       "output_type": "stream",
       "stream": "stdout",
       "text": [
        " 7689.84166457\n",
        "Total diff = 7689.84166457\n",
        "Total diff = 7689.84166457\n",
        "Total diff = 7689.84166457\n",
        "Total diff ="
       ]
      },
      {
       "output_type": "stream",
       "stream": "stdout",
       "text": [
        " 7689.84166457\n",
        "Total diff = 7689.84166457\n",
        "Total diff = 7689.84166457\n",
        "Total diff = 7689.84166457\n",
        "Total diff ="
       ]
      },
      {
       "output_type": "stream",
       "stream": "stdout",
       "text": [
        " 7689.84166457\n",
        "Total diff = 7689.84166457\n",
        "Total diff = 7689.84166457\n",
        "Total diff = 7689.84166457\n",
        "Total diff ="
       ]
      },
      {
       "output_type": "stream",
       "stream": "stdout",
       "text": [
        " 7689.84166457\n",
        "Total diff = 7689.84166457\n",
        "Total diff = 7689.84166457\n",
        "Total diff = 7689.84166457\n",
        "Total diff = 7689.84166457\n",
        "Total diff ="
       ]
      },
      {
       "output_type": "stream",
       "stream": "stdout",
       "text": [
        " 7689.84166457\n",
        "Total diff = 7689.84166457\n",
        "Total diff = 7689.84166457\n",
        "Total diff = 7689.84166457\n",
        "Total diff = 7689.84166457\n",
        "Total diff ="
       ]
      },
      {
       "output_type": "stream",
       "stream": "stdout",
       "text": [
        " 7689.84166457\n",
        "Total diff = 7689.84166457\n",
        "Total diff = 7689.84166457\n",
        "Total diff = 7689.84166457\n",
        "Total diff ="
       ]
      },
      {
       "output_type": "stream",
       "stream": "stdout",
       "text": [
        " 7689.84166457\n",
        "Total diff = 7689.84166457\n",
        "Total diff = 7689.84166457\n",
        "Total diff = 7689.84166457\n",
        "Total diff = 7689.84166457\n",
        "Total diff ="
       ]
      },
      {
       "output_type": "stream",
       "stream": "stdout",
       "text": [
        " 7689.84166457\n",
        "Total diff = 7689.84166457\n",
        "Total diff = 7689.84166457\n",
        "Total diff = 7689.84166457\n",
        "Total diff ="
       ]
      },
      {
       "output_type": "stream",
       "stream": "stdout",
       "text": [
        " 7689.84166457\n",
        "Total diff = 7689.84166457\n",
        "Total diff = 7689.84166457\n",
        "Total diff = 7689.84166457\n",
        "Total diff ="
       ]
      },
      {
       "output_type": "stream",
       "stream": "stdout",
       "text": [
        " 7689.84166457\n",
        "Total diff = 7689.84166457\n",
        "Total diff = 7689.84166457\n",
        "Total diff = 7689.84166457\n",
        "Total diff ="
       ]
      },
      {
       "output_type": "stream",
       "stream": "stdout",
       "text": [
        " 7689.84166457\n",
        "Total diff = 7689.84166457\n",
        "Total diff = 7689.84166457\n",
        "Total diff = 7689.84166457\n",
        "Total diff ="
       ]
      },
      {
       "output_type": "stream",
       "stream": "stdout",
       "text": [
        " 7689.84166457\n",
        "Total diff = 7689.84166457\n",
        "Total diff = 7689.84166457\n",
        "Total diff = 7689.84166457\n",
        "Total diff = 7689.84166457\n",
        "Total diff ="
       ]
      },
      {
       "output_type": "stream",
       "stream": "stdout",
       "text": [
        " 7689.84166457\n",
        "Total diff = 7689.84166457\n",
        "Total diff = 7689.84166457\n",
        "Total diff = 7689.84166457\n",
        "Total diff = 7689.84166457\n",
        "Total diff ="
       ]
      },
      {
       "output_type": "stream",
       "stream": "stdout",
       "text": [
        " 7689.84166457\n",
        "Total diff = 7689.84166457\n",
        "Total diff = 7689.84166457\n",
        "Total diff = 7689.84166457\n",
        "Total diff = 7689.84166457\n",
        "Total diff ="
       ]
      },
      {
       "output_type": "stream",
       "stream": "stdout",
       "text": [
        " 7689.84166457\n",
        "Total diff = 7689.84166457\n",
        "Total diff = 7689.84166457\n",
        "Total diff = 7689.84166457\n",
        "Total diff ="
       ]
      },
      {
       "output_type": "stream",
       "stream": "stdout",
       "text": [
        " 7689.84166457\n",
        "Total diff = 7689.84166457\n",
        "Total diff = 7689.84166457\n",
        "Total diff = 7689.84166457\n",
        "Total diff = 7689.84166457\n",
        "Total diff ="
       ]
      },
      {
       "output_type": "stream",
       "stream": "stdout",
       "text": [
        " 7689.84166457\n",
        "Total diff = 7689.84166457\n",
        "Total diff = 7689.84166457\n",
        "Total diff = 7689.84166457\n",
        "Total diff ="
       ]
      },
      {
       "output_type": "stream",
       "stream": "stdout",
       "text": [
        " 7689.84166457\n",
        "Total diff = 7689.84166457\n",
        "Total diff = 7689.84166457\n",
        "Total diff = 7689.84166457\n",
        "Total diff ="
       ]
      },
      {
       "output_type": "stream",
       "stream": "stdout",
       "text": [
        " 7689.84166457\n",
        "Total diff = 7689.84166457\n",
        "Total diff = 7689.84166457\n",
        "Total diff = 7689.84166457\n",
        "Total diff ="
       ]
      },
      {
       "output_type": "stream",
       "stream": "stdout",
       "text": [
        " 7689.84166457\n",
        "Total diff = 7689.84166457\n",
        "Total diff = 7689.84166457\n",
        "Total diff = 7689.84166457\n",
        "Total diff ="
       ]
      },
      {
       "output_type": "stream",
       "stream": "stdout",
       "text": [
        " 7689.84166457\n",
        "Total diff = 7689.84166457\n",
        "Total diff = 7689.84166457\n",
        "Total diff = 7689.84166457\n",
        "Total diff ="
       ]
      },
      {
       "output_type": "stream",
       "stream": "stdout",
       "text": [
        " 7689.84166457\n",
        "Total diff = 7689.84166457\n",
        "Total diff = 7689.84166457\n",
        "Total diff = 7689.84166457\n",
        "Total diff ="
       ]
      },
      {
       "output_type": "stream",
       "stream": "stdout",
       "text": [
        " 7689.84166457\n",
        "Total diff = 7689.84166457\n",
        "Total diff = 7689.84166457\n",
        "Total diff = 7689.84166457\n",
        "Total diff ="
       ]
      },
      {
       "output_type": "stream",
       "stream": "stdout",
       "text": [
        " 7689.84166457\n",
        "Total diff = 7689.84166457\n",
        "Total diff = 7689.84166457\n",
        "Total diff = 7689.84166457\n",
        "Total diff ="
       ]
      },
      {
       "output_type": "stream",
       "stream": "stdout",
       "text": [
        " 7689.84166457\n",
        "Total diff = 7689.84166457\n",
        "Total diff = 7689.84166457\n",
        "Total diff = 7689.84166457\n",
        "Total diff ="
       ]
      },
      {
       "output_type": "stream",
       "stream": "stdout",
       "text": [
        " 7689.84166457\n",
        "Total diff = 7689.84166457\n",
        "Total diff = 7689.84166457\n",
        "Total diff = 7689.84166457\n",
        "Total diff ="
       ]
      },
      {
       "output_type": "stream",
       "stream": "stdout",
       "text": [
        " 7689.84166457\n",
        "Total diff = 7689.84166457\n",
        "Total diff = 7689.84166457\n",
        "Total diff = 7689.84166457\n",
        "Total diff ="
       ]
      },
      {
       "output_type": "stream",
       "stream": "stdout",
       "text": [
        " 7689.84166457\n",
        "Total diff = 7689.84166457\n",
        "Total diff = 7689.84166457\n",
        "Total diff = 7689.84166457\n",
        "Total diff ="
       ]
      },
      {
       "output_type": "stream",
       "stream": "stdout",
       "text": [
        " 7689.84166457\n",
        "Total diff = 7689.84166457\n",
        "Total diff = 7689.84166457\n",
        "Total diff = 7689.84166457\n",
        "Total diff ="
       ]
      },
      {
       "output_type": "stream",
       "stream": "stdout",
       "text": [
        " 7689.84166457\n",
        "Total diff = 7689.84166457\n",
        "Total diff = 7689.84166457\n",
        "Total diff = 7689.84166457\n",
        "Total diff ="
       ]
      },
      {
       "output_type": "stream",
       "stream": "stdout",
       "text": [
        " 7689.84166457\n",
        "Total diff = 7689.84166457\n",
        "Total diff = 7689.84166457\n",
        "Total diff = 7689.84166457\n",
        "Total diff ="
       ]
      },
      {
       "output_type": "stream",
       "stream": "stdout",
       "text": [
        " 7689.84166457\n",
        "Total diff = 7689.84166457\n",
        "Total diff = 7689.84166457\n",
        "Total diff = 7689.84166457\n",
        "Total diff ="
       ]
      },
      {
       "output_type": "stream",
       "stream": "stdout",
       "text": [
        " 7689.84166457\n",
        "Total diff = 7689.84166457\n",
        "Total diff = 7689.84166457\n",
        "Total diff = 7689.84166457\n",
        "Total diff ="
       ]
      },
      {
       "output_type": "stream",
       "stream": "stdout",
       "text": [
        " 7689.84166457\n",
        "Total diff = 7689.84166457\n",
        "Total diff = 7689.84166457\n",
        "Total diff = 7689.84166457\n",
        "Total diff ="
       ]
      },
      {
       "output_type": "stream",
       "stream": "stdout",
       "text": [
        " 7689.84166457\n",
        "Total diff = 7689.84166457\n",
        "Total diff = 7689.84166457\n",
        "Total diff ="
       ]
      },
      {
       "output_type": "stream",
       "stream": "stdout",
       "text": [
        " 7689.84166457\n",
        "Total diff = 7689.84166457\n",
        "Total diff = 7689.84166457\n",
        "Total diff = 7689.84166457\n",
        "Total diff ="
       ]
      },
      {
       "output_type": "stream",
       "stream": "stdout",
       "text": [
        " 7689.84166457\n",
        "Total diff = 7689.84166457\n",
        "Total diff = 7689.84166457\n",
        "Total diff = 7689.84166457\n",
        "Total diff ="
       ]
      },
      {
       "output_type": "stream",
       "stream": "stdout",
       "text": [
        " 7689.84166457\n",
        "Total diff = 7689.84166457\n",
        "Total diff = 7689.84166457\n",
        "Total diff = 7689.84166457\n",
        "Total diff = 7689.84166457\n",
        "Total diff ="
       ]
      },
      {
       "output_type": "stream",
       "stream": "stdout",
       "text": [
        " 7689.84166457\n",
        "Total diff = 7689.84166457\n",
        "Total diff = 7689.84166457\n",
        "Total diff = 7689.84166457\n",
        "Total diff ="
       ]
      },
      {
       "output_type": "stream",
       "stream": "stdout",
       "text": [
        " 7689.84166457\n",
        "Total diff = 7689.84166457\n",
        "Total diff = 7689.84166457\n",
        "Total diff = 7689.84166457\n",
        "Total diff = 7689.84166457\n",
        "Total diff ="
       ]
      },
      {
       "output_type": "stream",
       "stream": "stdout",
       "text": [
        " 7689.84166457\n",
        "Total diff = 7689.84166457\n",
        "Total diff = 7689.84166457\n",
        "Total diff = 7689.84166457\n",
        "Total diff ="
       ]
      },
      {
       "output_type": "stream",
       "stream": "stdout",
       "text": [
        " 7689.84166457\n",
        "Total diff = 7689.84166457\n",
        "Total diff = 7689.84166457\n",
        "Total diff = 7689.84166457\n",
        "Total diff ="
       ]
      },
      {
       "output_type": "stream",
       "stream": "stdout",
       "text": [
        " 7689.84166457\n",
        "Total diff = 7689.84166457\n",
        "Total diff = 7689.84166457\n",
        "Total diff = 7689.84166457\n",
        "Total diff = 7689.84166457\n",
        "Total diff ="
       ]
      },
      {
       "output_type": "stream",
       "stream": "stdout",
       "text": [
        " 7689.84166457\n",
        "Total diff = 7689.84166457\n",
        "Total diff = 7689.84166457\n",
        "Total diff = 7689.84166457\n",
        "Total diff ="
       ]
      },
      {
       "output_type": "stream",
       "stream": "stdout",
       "text": [
        " 7689.84166457\n",
        "Total diff = 7689.84166457\n",
        "Total diff = 7689.84166457\n",
        "Total diff = 7689.84166457\n",
        "Total diff ="
       ]
      },
      {
       "output_type": "stream",
       "stream": "stdout",
       "text": [
        " 7689.84166457\n",
        "Total diff = 7689.84166457\n",
        "Total diff = 7689.84166457\n",
        "Total diff = 7689.84166457\n",
        "Total diff ="
       ]
      },
      {
       "output_type": "stream",
       "stream": "stdout",
       "text": [
        " 7689.84166457\n",
        "Total diff = 7689.84166457\n",
        "Total diff = 7689.84166457\n",
        "Total diff = 7689.84166457\n",
        "Total diff ="
       ]
      },
      {
       "output_type": "stream",
       "stream": "stdout",
       "text": [
        " 7689.84166457\n",
        "Total diff = 7689.84166457\n",
        "Total diff = 7689.84166457\n",
        "Total diff = 7689.84166457\n",
        "Total diff ="
       ]
      },
      {
       "output_type": "stream",
       "stream": "stdout",
       "text": [
        " 7689.84166457\n",
        "Total diff = 7689.84166457\n",
        "Total diff = 7689.84166457\n",
        "Total diff = 7689.84166457\n",
        "Total diff ="
       ]
      },
      {
       "output_type": "stream",
       "stream": "stdout",
       "text": [
        " 7689.84166457\n",
        "Total diff = 7689.84166457\n",
        "Total diff = 7689.84166457\n",
        "Total diff = 7689.84166457\n",
        "Total diff = 7689.84166457\n",
        "Total diff ="
       ]
      },
      {
       "output_type": "stream",
       "stream": "stdout",
       "text": [
        " 7689.84166457\n",
        "Total diff = 7689.84166457\n",
        "Total diff = 7689.84166457\n",
        "Total diff = 7689.84166457\n",
        "Total diff ="
       ]
      },
      {
       "output_type": "stream",
       "stream": "stdout",
       "text": [
        " 7689.84166457\n",
        "Total diff = 7689.84166457\n",
        "Total diff = 7689.84166457\n",
        "Total diff = 7689.84166457\n",
        "Total diff ="
       ]
      },
      {
       "output_type": "stream",
       "stream": "stdout",
       "text": [
        " 7689.84166457\n",
        "Total diff = 7689.84166457\n",
        "Total diff = 7689.84166457\n",
        "Total diff = 7689.84166457\n",
        "Total diff ="
       ]
      },
      {
       "output_type": "stream",
       "stream": "stdout",
       "text": [
        " 7689.84166457\n",
        "Total diff = 7689.84166457\n",
        "Total diff = 7689.84166457\n",
        "Total diff = 7689.84166457\n",
        "Total diff ="
       ]
      },
      {
       "output_type": "stream",
       "stream": "stdout",
       "text": [
        " 7689.84166457\n",
        "Total diff = 7689.84166457\n",
        "Total diff = 7689.84166457\n",
        "Total diff = 7689.84166457\n",
        "Total diff ="
       ]
      },
      {
       "output_type": "stream",
       "stream": "stdout",
       "text": [
        " 7689.84166457\n",
        "Total diff = 7689.84166457\n",
        "Total diff = 7689.84166457\n",
        "Total diff = 7689.84166457\n",
        "Total diff ="
       ]
      },
      {
       "output_type": "stream",
       "stream": "stdout",
       "text": [
        " 7689.84166457\n",
        "Total diff = 7689.84166457\n",
        "Total diff = 7689.84166457\n",
        "Total diff = 7689.84166457\n",
        "Total diff ="
       ]
      },
      {
       "output_type": "stream",
       "stream": "stdout",
       "text": [
        " 7689.84166457\n",
        "Total diff = 7689.84166457\n",
        "Total diff = 7689.84166457\n",
        "Total diff = 7689.84166457\n",
        "Total diff ="
       ]
      },
      {
       "output_type": "stream",
       "stream": "stdout",
       "text": [
        " 7689.84166457\n",
        "Total diff = 7689.84166457\n",
        "Total diff = 7689.84166457\n",
        "Total diff = 7689.84166457\n",
        "Total diff ="
       ]
      },
      {
       "output_type": "stream",
       "stream": "stdout",
       "text": [
        " 7689.84166457\n",
        "Total diff = 7689.84166457\n",
        "Total diff = 7689.84166457\n",
        "Total diff = 7689.84166457\n",
        "Total diff ="
       ]
      },
      {
       "output_type": "stream",
       "stream": "stdout",
       "text": [
        " 7689.84166457\n",
        "Total diff = 7689.84166457\n",
        "Total diff = 7689.84166457\n",
        "Total diff = 7689.84166457\n",
        "Total diff = 7689.84166457\n",
        "Total diff ="
       ]
      },
      {
       "output_type": "stream",
       "stream": "stdout",
       "text": [
        " 7689.84166457\n",
        "Total diff = 7689.84166457\n",
        "Total diff = 7689.84166457\n",
        "Total diff = 7689.84166457\n",
        "Total diff ="
       ]
      },
      {
       "output_type": "stream",
       "stream": "stdout",
       "text": [
        " 7689.84166457\n",
        "Total diff = 7689.84166457\n",
        "Total diff = 7689.84166457\n",
        "Total diff = 7689.84166457\n",
        "Total diff ="
       ]
      },
      {
       "output_type": "stream",
       "stream": "stdout",
       "text": [
        " 7689.84166457\n",
        "Total diff = 7689.84166457\n",
        "Total diff = 7689.84166457\n",
        "Total diff = 7689.84166457\n",
        "Total diff ="
       ]
      },
      {
       "output_type": "stream",
       "stream": "stdout",
       "text": [
        " 7689.84166457\n",
        "Total diff = 7689.84166457\n",
        "Total diff = 7689.84166457\n",
        "Total diff = 7689.84166457\n",
        "Total diff ="
       ]
      },
      {
       "output_type": "stream",
       "stream": "stdout",
       "text": [
        " 7689.84166457\n",
        "Total diff = 7689.84166457\n",
        "Total diff = 7689.84166457\n",
        "Total diff = 7689.84166457\n",
        "Total diff ="
       ]
      },
      {
       "output_type": "stream",
       "stream": "stdout",
       "text": [
        " 7689.84166457\n",
        "Total diff = 7689.84166457\n",
        "Total diff = 7689.84166457\n",
        "Total diff = 7689.84166457\n",
        "Total diff = 7689.84166457\n",
        "Total diff ="
       ]
      },
      {
       "output_type": "stream",
       "stream": "stdout",
       "text": [
        " 7689.84166457\n",
        "Total diff = 7689.84166457\n",
        "Total diff = 7689.84166457\n",
        "Total diff = 7689.84166457\n",
        "Total diff ="
       ]
      },
      {
       "output_type": "stream",
       "stream": "stdout",
       "text": [
        " 7689.84166457\n",
        "Total diff = 7689.84166457\n",
        "Total diff = 7689.84166457\n",
        "Total diff = 7689.84166457\n",
        "Total diff = 7689.84166457\n",
        "Total diff ="
       ]
      },
      {
       "output_type": "stream",
       "stream": "stdout",
       "text": [
        " 7689.84166457\n",
        "Total diff = 7689.84166457\n",
        "Total diff = 7689.84166457\n",
        "Total diff = 7689.84166457\n",
        "Total diff = 7689.84166457\n",
        "Total diff ="
       ]
      },
      {
       "output_type": "stream",
       "stream": "stdout",
       "text": [
        " 7689.84166457\n",
        "Total diff = 7689.84166457\n",
        "Total diff = 7689.84166457\n",
        "Total diff = 7689.84166457\n",
        "Total diff = 7689.84166457\n",
        "Total diff ="
       ]
      },
      {
       "output_type": "stream",
       "stream": "stdout",
       "text": [
        " 7689.84166457\n",
        "Total diff = 7689.84166457\n",
        "Total diff = 7689.84166457\n",
        "Total diff = 7689.84166457\n",
        "Total diff ="
       ]
      },
      {
       "output_type": "stream",
       "stream": "stdout",
       "text": [
        " 7689.84166457\n",
        "Total diff = 7689.84166457\n",
        "Total diff = 7689.84166457\n",
        "Total diff = 7689.84166457\n",
        "Total diff = 7689.84166457\n",
        "Total diff ="
       ]
      },
      {
       "output_type": "stream",
       "stream": "stdout",
       "text": [
        " 7689.84166457\n",
        "Total diff = 7689.84166457\n",
        "Total diff = 7689.84166457\n",
        "Total diff = 7689.84166457\n",
        "Total diff ="
       ]
      },
      {
       "output_type": "stream",
       "stream": "stdout",
       "text": [
        " 7689.84166457\n",
        "Total diff = 7689.84166457\n",
        "Total diff = 7689.84166457\n",
        "Total diff = 7689.84166457\n",
        "Total diff ="
       ]
      },
      {
       "output_type": "stream",
       "stream": "stdout",
       "text": [
        " 7689.84166457\n",
        "Total diff = 7689.84166457\n",
        "Total diff = 7689.84166457\n",
        "Total diff = 7689.84166457\n",
        "Total diff ="
       ]
      },
      {
       "output_type": "stream",
       "stream": "stdout",
       "text": [
        " 7689.84166457\n",
        "Total diff = 7689.84166457\n",
        "Total diff = 7689.84166457\n",
        "Total diff = 7689.84166457\n",
        "Total diff ="
       ]
      },
      {
       "output_type": "stream",
       "stream": "stdout",
       "text": [
        " 7689.84166457\n",
        "Total diff = 7689.84166457\n",
        "Total diff = 7689.84166457\n",
        "Total diff = 7689.84166457\n",
        "Total diff ="
       ]
      },
      {
       "output_type": "stream",
       "stream": "stdout",
       "text": [
        " 7689.84166457\n",
        "Total diff = 7689.84166457\n",
        "Total diff = 7689.84166457\n",
        "Total diff = 7689.84166457\n",
        "Total diff = 7689.84166457\n",
        "Total diff ="
       ]
      },
      {
       "output_type": "stream",
       "stream": "stdout",
       "text": [
        " 7689.84166457\n",
        "Total diff = 7689.84166457\n",
        "Total diff = 7689.84166457\n",
        "Total diff = 7689.84166457\n",
        "Total diff ="
       ]
      },
      {
       "output_type": "stream",
       "stream": "stdout",
       "text": [
        " 7689.84166457\n",
        "Total diff = 7689.84166457\n",
        "Total diff = 7689.84166457\n",
        "Total diff = 7689.84166457\n",
        "Total diff ="
       ]
      },
      {
       "output_type": "stream",
       "stream": "stdout",
       "text": [
        " 7689.84166457\n",
        "Total diff = 7689.84166457\n",
        "Total diff = 7689.84166457\n",
        "Total diff = 7689.84166457\n",
        "Total diff ="
       ]
      },
      {
       "output_type": "stream",
       "stream": "stdout",
       "text": [
        " 7689.84166457\n",
        "Total diff = 7689.84166457\n",
        "Total diff = 7689.84166457\n",
        "Total diff = 7689.84166457\n",
        "Total diff ="
       ]
      },
      {
       "output_type": "stream",
       "stream": "stdout",
       "text": [
        " 7689.84166457\n",
        "Total diff = 7689.84166457\n",
        "Total diff = 7689.84166457\n",
        "Total diff = 7689.84166457\n",
        "Total diff ="
       ]
      },
      {
       "output_type": "stream",
       "stream": "stdout",
       "text": [
        " 7689.84166457\n",
        "Total diff = 7689.84166457\n",
        "Total diff = 7689.84166457\n",
        "Total diff = 7689.84166457\n",
        "Total diff ="
       ]
      },
      {
       "output_type": "stream",
       "stream": "stdout",
       "text": [
        " 7689.84166457\n",
        "Total diff = 7689.84166457\n",
        "Total diff = 7689.84166457\n",
        "Total diff = 7689.84166457\n",
        "Total diff = 7689.84166457\n",
        "Total diff ="
       ]
      },
      {
       "output_type": "stream",
       "stream": "stdout",
       "text": [
        " 7689.84166457\n",
        "Total diff = 7689.84166457\n",
        "Total diff = 7689.84166457\n",
        "Total diff = 7689.84166457\n",
        "Total diff = 7689.84166457\n",
        "Total diff ="
       ]
      },
      {
       "output_type": "stream",
       "stream": "stdout",
       "text": [
        " 7689.84166457\n",
        "Total diff = 7689.84166457\n",
        "Total diff = 7689.84166457\n",
        "Total diff = 7689.84166457\n",
        "Total diff ="
       ]
      },
      {
       "output_type": "stream",
       "stream": "stdout",
       "text": [
        " 7689.84166457\n",
        "Total diff = 7689.84166457\n",
        "Total diff = 7689.84166457\n",
        "Total diff = 7689.84166457\n",
        "Total diff ="
       ]
      },
      {
       "output_type": "stream",
       "stream": "stdout",
       "text": [
        " 7689.84166457\n",
        "Total diff = 7689.84166457\n",
        "Total diff = 7689.84166457\n",
        "Total diff = 7689.84166457\n",
        "Total diff ="
       ]
      },
      {
       "output_type": "stream",
       "stream": "stdout",
       "text": [
        " 7689.84166457\n",
        "Total diff = 7689.84166457\n",
        "Total diff = 7689.84166457\n",
        "Total diff = 7689.84166457\n",
        "Total diff ="
       ]
      },
      {
       "output_type": "stream",
       "stream": "stdout",
       "text": [
        " 7689.84166457\n",
        "Total diff = 7689.84166457\n",
        "Total diff = 7689.84166457\n",
        "Total diff = 7689.84166457\n",
        "Total diff ="
       ]
      },
      {
       "output_type": "stream",
       "stream": "stdout",
       "text": [
        " 7689.84166457\n",
        "Total diff = 7689.84166457\n",
        "Total diff = 7689.84166457\n",
        "Total diff = 7689.84166457\n",
        "Total diff ="
       ]
      },
      {
       "output_type": "stream",
       "stream": "stdout",
       "text": [
        " 7689.84166457\n",
        "Total diff = 7689.84166457\n",
        "Total diff = 7689.84166457\n",
        "Total diff = 7689.84166457\n",
        "Total diff = 7689.84166457\n",
        "Total diff ="
       ]
      },
      {
       "output_type": "stream",
       "stream": "stdout",
       "text": [
        " 7689.84166457\n",
        "Total diff = 7689.84166457\n",
        "Total diff = 7689.84166457\n",
        "Total diff = 7689.84166457\n",
        "Total diff = 7689.84166457\n",
        "Total diff ="
       ]
      },
      {
       "output_type": "stream",
       "stream": "stdout",
       "text": [
        " 7689.84166457\n",
        "Total diff = 7689.84166457\n",
        "Total diff = 7689.84166457\n",
        "Total diff = 7689.84166457\n",
        "Total diff ="
       ]
      },
      {
       "output_type": "stream",
       "stream": "stdout",
       "text": [
        " 7689.84166457\n",
        "Total diff = 7689.84166457\n",
        "Total diff = 7689.84166457\n",
        "Total diff = 7689.84166457\n",
        "Total diff ="
       ]
      },
      {
       "output_type": "stream",
       "stream": "stdout",
       "text": [
        " 7689.84166457\n",
        "Total diff = 7689.84166457\n",
        "Total diff = 7689.84166457\n",
        "Total diff = 7689.84166457\n",
        "Total diff = 7689.84166457\n",
        "Total diff ="
       ]
      },
      {
       "output_type": "stream",
       "stream": "stdout",
       "text": [
        " 7689.84166457\n",
        "Total diff = 7689.84166457\n",
        "Total diff = 7689.84166457\n",
        "Total diff = 7689.84166457\n",
        "Total diff = 7689.84166457\n",
        "Total diff ="
       ]
      },
      {
       "output_type": "stream",
       "stream": "stdout",
       "text": [
        " 7689.84166457\n",
        "Total diff = 7689.84166457\n",
        "Total diff = 7689.84166457\n",
        "Total diff = 7689.84166457\n",
        "Total diff = 7689.84166457\n",
        "Total diff ="
       ]
      },
      {
       "output_type": "stream",
       "stream": "stdout",
       "text": [
        " 7689.84166457\n",
        "Total diff = 7689.84166457\n",
        "Total diff = 7689.84166457\n",
        "Total diff = 7689.84166457\n",
        "Total diff ="
       ]
      },
      {
       "output_type": "stream",
       "stream": "stdout",
       "text": [
        " 7689.84166457\n",
        "Total diff = 7689.84166457\n",
        "Total diff = 7689.84166457\n",
        "Total diff = 7689.84166457\n",
        "Total diff ="
       ]
      },
      {
       "output_type": "stream",
       "stream": "stdout",
       "text": [
        " 7689.84166457\n",
        "Total diff = 7689.84166457\n",
        "Total diff = 7689.84166457\n",
        "Total diff = 7689.84166457\n",
        "Total diff ="
       ]
      },
      {
       "output_type": "stream",
       "stream": "stdout",
       "text": [
        " 7689.84166457\n",
        "Total diff = 7689.84166457\n",
        "Total diff = 7689.84166457\n",
        "Total diff = 7689.84166457\n",
        "Total diff ="
       ]
      },
      {
       "output_type": "stream",
       "stream": "stdout",
       "text": [
        " 7689.84166457\n",
        "Total diff = 7689.84166457\n",
        "Total diff = 7689.84166457\n",
        "Total diff = 7689.84166457\n",
        "Total diff ="
       ]
      },
      {
       "output_type": "stream",
       "stream": "stdout",
       "text": [
        " 7689.84166457\n",
        "Total diff = 7689.84166457\n",
        "Total diff = 7689.84166457\n",
        "Total diff = 7689.84166457\n",
        "Total diff = 7689.84166457\n",
        "Total diff ="
       ]
      },
      {
       "output_type": "stream",
       "stream": "stdout",
       "text": [
        " 7689.84166457\n",
        "Total diff = 7689.84166457\n",
        "Total diff = 7689.84166457\n",
        "Total diff = 7689.84166457\n",
        "Total diff ="
       ]
      },
      {
       "output_type": "stream",
       "stream": "stdout",
       "text": [
        " 7689.84166457\n",
        "Total diff = 7689.84166457\n",
        "Total diff = 7689.84166457\n",
        "Total diff = 7689.84166457\n",
        "Total diff = 7689.84166457\n",
        "Total diff ="
       ]
      },
      {
       "output_type": "stream",
       "stream": "stdout",
       "text": [
        " 7689.84166457\n",
        "Total diff = 7689.84166457\n",
        "Total diff = 7689.84166457\n",
        "Total diff = 7689.84166457\n",
        "Total diff = 7689.84166457\n",
        "Total diff ="
       ]
      },
      {
       "output_type": "stream",
       "stream": "stdout",
       "text": [
        " 7689.84166457\n",
        "Total diff = 7689.84166457\n",
        "Total diff = 7689.84166457\n",
        "Total diff = 7689.84166457\n",
        "Total diff ="
       ]
      },
      {
       "output_type": "stream",
       "stream": "stdout",
       "text": [
        " 7689.84166457\n",
        "Total diff = 7689.84166457\n",
        "Total diff = 7689.84166457\n",
        "Total diff = 7689.84166457\n",
        "Total diff ="
       ]
      },
      {
       "output_type": "stream",
       "stream": "stdout",
       "text": [
        " 7689.84166457\n",
        "Total diff = 7689.84166457\n",
        "Total diff = 7689.84166457\n",
        "Total diff = 7689.84166457\n",
        "Total diff ="
       ]
      },
      {
       "output_type": "stream",
       "stream": "stdout",
       "text": [
        " 7689.84166457\n",
        "Total diff = 7689.84166457\n",
        "Total diff = 7689.84166457\n",
        "Total diff = 7689.84166457\n",
        "Total diff ="
       ]
      },
      {
       "output_type": "stream",
       "stream": "stdout",
       "text": [
        " 7689.84166457\n",
        "Total diff = 7689.84166457\n",
        "Total diff = 7689.84166457\n",
        "Total diff = 7689.84166457\n",
        "Total diff ="
       ]
      },
      {
       "output_type": "stream",
       "stream": "stdout",
       "text": [
        " 7689.84166457\n",
        "Total diff = 7689.84166457\n",
        "Total diff = 7689.84166457\n",
        "Total diff = 7689.84166457\n",
        "Total diff ="
       ]
      },
      {
       "output_type": "stream",
       "stream": "stdout",
       "text": [
        " 7689.84166457\n",
        "Total diff = 7689.84166457\n",
        "Total diff = 7689.84166457\n",
        "Total diff = 7689.84166457\n",
        "Total diff = 7689.84166457\n",
        "Total diff ="
       ]
      },
      {
       "output_type": "stream",
       "stream": "stdout",
       "text": [
        " 7689.84166457\n",
        "Total diff = 7689.84166457\n",
        "Total diff = 7689.84166457\n",
        "Total diff = 7689.84166457\n",
        "Total diff ="
       ]
      },
      {
       "output_type": "stream",
       "stream": "stdout",
       "text": [
        " 7689.84166457\n",
        "Total diff = 7689.84166457\n",
        "Total diff = 7689.84166457\n",
        "Total diff = 7689.84166457\n",
        "Total diff ="
       ]
      },
      {
       "output_type": "stream",
       "stream": "stdout",
       "text": [
        " 7689.84166457\n",
        "Total diff = 7689.84166457\n",
        "Total diff = 7689.84166457\n",
        "Total diff = 7689.84166457\n",
        "Total diff ="
       ]
      },
      {
       "output_type": "stream",
       "stream": "stdout",
       "text": [
        " 7689.84166457\n",
        "Total diff = 7689.84166457\n",
        "Total diff = 7689.84166457\n",
        "Total diff = 7689.84166457\n",
        "Total diff = 7689.84166457\n",
        "Total diff ="
       ]
      },
      {
       "output_type": "stream",
       "stream": "stdout",
       "text": [
        " 7689.84166457\n",
        "Total diff = 7689.84166457\n",
        "Total diff = 7689.84166457\n",
        "Total diff = 7689.84166457\n",
        "Total diff ="
       ]
      },
      {
       "output_type": "stream",
       "stream": "stdout",
       "text": [
        " 7689.84166457\n",
        "Total diff = 7689.84166457\n",
        "Total diff = 7689.84166457\n",
        "Total diff = 7689.84166457\n",
        "Total diff ="
       ]
      },
      {
       "output_type": "stream",
       "stream": "stdout",
       "text": [
        " 7689.84166457\n",
        "Total diff = 7689.84166457\n",
        "Total diff = 7689.84166457\n",
        "Total diff = 7689.84166457\n",
        "Total diff ="
       ]
      },
      {
       "output_type": "stream",
       "stream": "stdout",
       "text": [
        " 7689.84166457\n",
        "Total diff = 7689.84166457\n",
        "Total diff = 7689.84166457\n",
        "Total diff = 7689.84166457\n",
        "Total diff ="
       ]
      },
      {
       "output_type": "stream",
       "stream": "stdout",
       "text": [
        " 7689.84166457\n",
        "Total diff = 7689.84166457\n",
        "Total diff = 7689.84166457\n",
        "Total diff = 7689.84166457\n",
        "Total diff ="
       ]
      },
      {
       "output_type": "stream",
       "stream": "stdout",
       "text": [
        " 7689.84166457\n",
        "Total diff = 7689.84166457\n",
        "Total diff = 7689.84166457\n",
        "Total diff = 7689.84166457\n",
        "Total diff ="
       ]
      },
      {
       "output_type": "stream",
       "stream": "stdout",
       "text": [
        " 7689.84166457\n",
        "Total diff = 7689.84166457\n",
        "Total diff = 7689.84166457\n",
        "Total diff = 7689.84166457\n",
        "Total diff = 7689.84166457\n",
        "Total diff ="
       ]
      },
      {
       "output_type": "stream",
       "stream": "stdout",
       "text": [
        " 7689.84166457\n",
        "Total diff = 7689.84166457\n",
        "Total diff = 7689.84166457\n",
        "Total diff = 7689.84166457\n",
        "Total diff = 7689.84166457\n",
        "Total diff ="
       ]
      },
      {
       "output_type": "stream",
       "stream": "stdout",
       "text": [
        " 7689.84166457\n",
        "Total diff = 7689.84166457\n",
        "Total diff = 7689.84166457\n",
        "Total diff = 7689.84166457\n",
        "Total diff ="
       ]
      },
      {
       "output_type": "stream",
       "stream": "stdout",
       "text": [
        " 7689.84166457\n",
        "Total diff = 7689.84166457\n",
        "Total diff = 7689.84166457\n",
        "Total diff ="
       ]
      },
      {
       "output_type": "stream",
       "stream": "stdout",
       "text": [
        " 7689.84166457\n",
        "Total diff = 7689.84166457\n",
        "Total diff = 7689.84166457\n",
        "Total diff = 7689.84166457\n",
        "Total diff = 7689.84166457\n",
        "Total diff ="
       ]
      },
      {
       "output_type": "stream",
       "stream": "stdout",
       "text": [
        " 7689.84166457\n",
        "Total diff = 7689.84166457\n",
        "Total diff = 7689.84166457\n",
        "Total diff = 7689.84166457\n",
        "Total diff ="
       ]
      },
      {
       "output_type": "stream",
       "stream": "stdout",
       "text": [
        " 7689.84166457\n",
        "Total diff = 7689.84166457\n",
        "Total diff = 7689.84166457\n",
        "Total diff = 7689.84166457\n",
        "Total diff ="
       ]
      },
      {
       "output_type": "stream",
       "stream": "stdout",
       "text": [
        " 7689.84166457\n",
        "Total diff = 7689.84166457\n",
        "Total diff = 7689.84166457\n",
        "Total diff = 7689.84166457\n",
        "Total diff = 7689.84166457\n",
        "Total diff ="
       ]
      },
      {
       "output_type": "stream",
       "stream": "stdout",
       "text": [
        " 7689.84166457\n",
        "Total diff = 7689.84166457\n",
        "Total diff = 7689.84166457\n",
        "Total diff = 7689.84166457\n",
        "Total diff = 7689.84166457\n",
        "Total diff ="
       ]
      },
      {
       "output_type": "stream",
       "stream": "stdout",
       "text": [
        " 7689.84166457\n",
        "Total diff = 7689.84166457\n",
        "Total diff = 7689.84166457\n",
        "Total diff = 7689.84166457\n",
        "Total diff = 7689.84166457\n",
        "Total diff ="
       ]
      },
      {
       "output_type": "stream",
       "stream": "stdout",
       "text": [
        " 7689.84166457\n",
        "Total diff = 7689.84166457\n",
        "Total diff = 7689.84166457\n",
        "Total diff = 7689.84166457\n",
        "Total diff = 7689.84166457\n",
        "Total diff ="
       ]
      },
      {
       "output_type": "stream",
       "stream": "stdout",
       "text": [
        " 7689.84166457\n",
        "Total diff = 7689.84166457\n",
        "Total diff = 7689.84166457\n",
        "Total diff = 7689.84166457\n",
        "Total diff ="
       ]
      },
      {
       "output_type": "stream",
       "stream": "stdout",
       "text": [
        " 7689.84166457\n",
        "Total diff = 7689.84166457\n",
        "Total diff = 7689.84166457\n",
        "Total diff = 7689.84166457\n",
        "Total diff ="
       ]
      },
      {
       "output_type": "stream",
       "stream": "stdout",
       "text": [
        " 7689.84166457\n",
        "Total diff = 7689.84166457\n",
        "Total diff = 7689.84166457\n",
        "Total diff = 7689.84166457\n",
        "Total diff ="
       ]
      },
      {
       "output_type": "stream",
       "stream": "stdout",
       "text": [
        " 7689.84166457\n",
        "Total diff = 7689.84166457\n",
        "Total diff = 7689.84166457\n",
        "Total diff = 7689.84166457\n",
        "Total diff = 7689.84166457\n",
        "Total diff ="
       ]
      },
      {
       "output_type": "stream",
       "stream": "stdout",
       "text": [
        " 7689.84166457\n",
        "Total diff = 7689.84166457\n",
        "Total diff = 7689.84166457\n",
        "Total diff = 7689.84166457\n",
        "Total diff ="
       ]
      },
      {
       "output_type": "stream",
       "stream": "stdout",
       "text": [
        " 7689.84166457\n",
        "Total diff = 7689.84166457\n",
        "Total diff = 7689.84166457\n",
        "Total diff = 7689.84166457\n",
        "Total diff ="
       ]
      },
      {
       "output_type": "stream",
       "stream": "stdout",
       "text": [
        " 7689.84166457\n",
        "Total diff = 7689.84166457\n",
        "Total diff = 7689.84166457\n",
        "Total diff = 7689.84166457\n",
        "Total diff ="
       ]
      },
      {
       "output_type": "stream",
       "stream": "stdout",
       "text": [
        " 7689.84166457\n",
        "Total diff = 7689.84166457\n",
        "Total diff = 7689.84166457\n",
        "Total diff = 7689.84166457\n",
        "Total diff = 7689.84166457\n",
        "Total diff ="
       ]
      },
      {
       "output_type": "stream",
       "stream": "stdout",
       "text": [
        " 7689.84166457\n",
        "Total diff = 7689.84166457\n",
        "Total diff = 7689.84166457\n",
        "Total diff = 7689.84166457\n",
        "Total diff ="
       ]
      },
      {
       "output_type": "stream",
       "stream": "stdout",
       "text": [
        " 7689.84166457\n",
        "Total diff = 7689.84166457\n",
        "Total diff = 7689.84166457\n",
        "Total diff = 7689.84166457\n",
        "Total diff ="
       ]
      },
      {
       "output_type": "stream",
       "stream": "stdout",
       "text": [
        " 7689.84166457\n",
        "Total diff = 7689.84166457\n",
        "Total diff = 7689.84166457\n",
        "Total diff = 7689.84166457\n",
        "Total diff ="
       ]
      },
      {
       "output_type": "stream",
       "stream": "stdout",
       "text": [
        " 7689.84166457\n",
        "Total diff = 7689.84166457\n",
        "Total diff = 7689.84166457\n",
        "Total diff = 7689.84166457\n",
        "Total diff ="
       ]
      },
      {
       "output_type": "stream",
       "stream": "stdout",
       "text": [
        " 7689.84166457\n",
        "Total diff = 7689.84166457\n",
        "Total diff = 7689.84166457\n",
        "Total diff = 7689.84166457\n",
        "Total diff ="
       ]
      },
      {
       "output_type": "stream",
       "stream": "stdout",
       "text": [
        " 7689.84166457\n",
        "Total diff = 7689.84166457\n",
        "Total diff = 7689.84166457\n",
        "Total diff = 7689.84166457\n",
        "Total diff = 7689.84166457\n",
        "Total diff ="
       ]
      },
      {
       "output_type": "stream",
       "stream": "stdout",
       "text": [
        " 7689.84166457\n",
        "Total diff = 7689.84166457\n",
        "Total diff = 7689.84166457\n",
        "Total diff = 7689.84166457\n",
        "Total diff ="
       ]
      },
      {
       "output_type": "stream",
       "stream": "stdout",
       "text": [
        " 7689.84166457\n",
        "Total diff = 7689.84166457\n",
        "Total diff = 7689.84166457\n",
        "Total diff = 7689.84166457\n",
        "Total diff ="
       ]
      },
      {
       "output_type": "stream",
       "stream": "stdout",
       "text": [
        " 7689.84166457\n",
        "Total diff = 7689.84166457\n",
        "Total diff = 7689.84166457\n",
        "Total diff = 7689.84166457\n",
        "Total diff ="
       ]
      },
      {
       "output_type": "stream",
       "stream": "stdout",
       "text": [
        " 7689.84166457\n",
        "Total diff = 7689.84166457\n",
        "Total diff = 7689.84166457\n",
        "Total diff = 7689.84166457\n",
        "Total diff ="
       ]
      },
      {
       "output_type": "stream",
       "stream": "stdout",
       "text": [
        " 7689.84166457\n",
        "Total diff = 7689.84166457\n",
        "Total diff = 7689.84166457\n",
        "Total diff = 7689.84166457\n",
        "Total diff ="
       ]
      },
      {
       "output_type": "stream",
       "stream": "stdout",
       "text": [
        " 7689.84166457\n",
        "Total diff = 7689.84166457\n",
        "Total diff = 7689.84166457\n",
        "Total diff = 7689.84166457\n",
        "Total diff ="
       ]
      },
      {
       "output_type": "stream",
       "stream": "stdout",
       "text": [
        " 7689.84166457\n",
        "Total diff = 7689.84166457\n",
        "Total diff = 7689.84166457\n",
        "Total diff = 7689.84166457\n",
        "Total diff = 7689.84166457\n",
        "Total diff ="
       ]
      },
      {
       "output_type": "stream",
       "stream": "stdout",
       "text": [
        " 7689.84166457\n",
        "Total diff = 7689.84166457\n",
        "Total diff = 7689.84166457\n",
        "Total diff = 7689.84166457\n",
        "Total diff ="
       ]
      },
      {
       "output_type": "stream",
       "stream": "stdout",
       "text": [
        " 7689.84166457\n",
        "Total diff = 7689.84166457\n",
        "Total diff = 7689.84166457\n",
        "Total diff = 7689.84166457\n",
        "Total diff ="
       ]
      },
      {
       "output_type": "stream",
       "stream": "stdout",
       "text": [
        " 7689.84166457\n",
        "Total diff = 7689.84166457\n",
        "Total diff = 7689.84166457\n",
        "Total diff = 7689.84166457\n",
        "Total diff ="
       ]
      },
      {
       "output_type": "stream",
       "stream": "stdout",
       "text": [
        " 7689.84166457\n",
        "Total diff = 7689.84166457\n",
        "Total diff = 7689.84166457\n",
        "Total diff = 7689.84166457\n",
        "Total diff ="
       ]
      },
      {
       "output_type": "stream",
       "stream": "stdout",
       "text": [
        " 7689.84166457\n",
        "Total diff = 7689.84166457\n",
        "Total diff = 7689.84166457\n",
        "Total diff = 7689.84166457\n",
        "Total diff ="
       ]
      },
      {
       "output_type": "stream",
       "stream": "stdout",
       "text": [
        " 7689.84166457\n",
        "Total diff = 7689.84166457\n",
        "Total diff = 7689.84166457\n",
        "Total diff = 7689.84166457\n",
        "Total diff ="
       ]
      },
      {
       "output_type": "stream",
       "stream": "stdout",
       "text": [
        " 7689.84166457\n",
        "Total diff = 7689.84166457\n",
        "Total diff = 7689.84166457\n",
        "Total diff = 7689.84166457\n",
        "Total diff ="
       ]
      },
      {
       "output_type": "stream",
       "stream": "stdout",
       "text": [
        " 7689.84166457\n",
        "Total diff = 7689.84166457\n",
        "Total diff = 7689.84166457\n",
        "Total diff = 7689.84166457\n",
        "Total diff ="
       ]
      },
      {
       "output_type": "stream",
       "stream": "stdout",
       "text": [
        " 7689.84166457\n",
        "Total diff = 7689.84166457\n",
        "Total diff = 7689.84166457\n",
        "Total diff = 7689.84166457\n",
        "Total diff = 7689.84166457\n",
        "Total diff ="
       ]
      },
      {
       "output_type": "stream",
       "stream": "stdout",
       "text": [
        " 7689.84166457\n",
        "Total diff = 7689.84166457\n",
        "Total diff = 7689.84166457\n",
        "Total diff = 7689.84166457\n",
        "Total diff ="
       ]
      },
      {
       "output_type": "stream",
       "stream": "stdout",
       "text": [
        " 7689.84166457\n",
        "Total diff = 7689.84166457\n",
        "Total diff = 7689.84166457\n",
        "Total diff ="
       ]
      },
      {
       "output_type": "stream",
       "stream": "stdout",
       "text": [
        " 7689.84166457\n",
        "Total diff = 7689.84166457\n",
        "Total diff = 7689.84166457\n",
        "Total diff = 7689.84166457\n",
        "Total diff ="
       ]
      },
      {
       "output_type": "stream",
       "stream": "stdout",
       "text": [
        " 7689.84166457\n",
        "Total diff = 7689.84166457\n",
        "Total diff = 7689.84166457\n",
        "Total diff = 7689.84166457\n",
        "Total diff ="
       ]
      },
      {
       "output_type": "stream",
       "stream": "stdout",
       "text": [
        " 7689.84166457\n",
        "Total diff = 7689.84166457\n",
        "Total diff = 7689.84166457\n",
        "Total diff = 7689.84166457\n",
        "Total diff ="
       ]
      },
      {
       "output_type": "stream",
       "stream": "stdout",
       "text": [
        " 7689.84166457\n",
        "Total diff = 7689.84166457\n",
        "Total diff = 7689.84166457\n",
        "Total diff = 7689.84166457\n",
        "Total diff ="
       ]
      },
      {
       "output_type": "stream",
       "stream": "stdout",
       "text": [
        " 7689.84166457\n",
        "Total diff = 7689.84166457\n",
        "Total diff = 7689.84166457\n",
        "Total diff = 7689.84166457\n",
        "Total diff = 7689.84166457\n",
        "Total diff ="
       ]
      },
      {
       "output_type": "stream",
       "stream": "stdout",
       "text": [
        " 7689.84166457\n",
        "Total diff = 7689.84166457\n",
        "Total diff = 7689.84166457\n",
        "Total diff = 7689.84166457\n",
        "Total diff ="
       ]
      },
      {
       "output_type": "stream",
       "stream": "stdout",
       "text": [
        " 7689.84166457\n",
        "Total diff = 7689.84166457\n",
        "Total diff = 7689.84166457\n",
        "Total diff = 7689.84166457\n",
        "Total diff ="
       ]
      },
      {
       "output_type": "stream",
       "stream": "stdout",
       "text": [
        " 7689.84166457\n",
        "Total diff = 7689.84166457\n",
        "Total diff = 7689.84166457\n",
        "Total diff = 7689.84166457\n",
        "Total diff ="
       ]
      },
      {
       "output_type": "stream",
       "stream": "stdout",
       "text": [
        " 7689.84166457\n",
        "Total diff = 7689.84166457\n",
        "Total diff = 7689.84166457\n",
        "Total diff = 7689.84166457\n",
        "Total diff ="
       ]
      },
      {
       "output_type": "stream",
       "stream": "stdout",
       "text": [
        " 7689.84166457\n",
        "Total diff = 7689.84166457\n",
        "Total diff = 7689.84166457\n",
        "Total diff = 7689.84166457\n",
        "Total diff ="
       ]
      },
      {
       "output_type": "stream",
       "stream": "stdout",
       "text": [
        " 7689.84166457\n",
        "Total diff = 7689.84166457\n",
        "Total diff = 7689.84166457\n",
        "Total diff = 7689.84166457\n",
        "Total diff ="
       ]
      },
      {
       "output_type": "stream",
       "stream": "stdout",
       "text": [
        " 7689.84166457\n",
        "Total diff = 7689.84166457\n",
        "Total diff = 7689.84166457\n",
        "Total diff = 7689.84166457\n",
        "Total diff = 7689.84166457\n",
        "Total diff ="
       ]
      },
      {
       "output_type": "stream",
       "stream": "stdout",
       "text": [
        " 7689.84166457\n",
        "Total diff = 7689.84166457\n",
        "Total diff = 7689.84166457\n",
        "Total diff = 7689.84166457\n",
        "Total diff ="
       ]
      },
      {
       "output_type": "stream",
       "stream": "stdout",
       "text": [
        " 7689.84166457\n",
        "Total diff = 7689.84166457\n",
        "Total diff = 7689.84166457\n",
        "Total diff = 7689.84166457\n",
        "Total diff ="
       ]
      },
      {
       "output_type": "stream",
       "stream": "stdout",
       "text": [
        " 7689.84166457\n",
        "Total diff = 7689.84166457\n",
        "Total diff = 7689.84166457\n",
        "Total diff = 7689.84166457\n",
        "Total diff ="
       ]
      },
      {
       "output_type": "stream",
       "stream": "stdout",
       "text": [
        " 7689.84166457\n",
        "Total diff = 7689.84166457\n",
        "Total diff = 7689.84166457\n",
        "Total diff = 7689.84166457\n",
        "Total diff ="
       ]
      },
      {
       "output_type": "stream",
       "stream": "stdout",
       "text": [
        " 7689.84166457\n",
        "Total diff = 7689.84166457\n",
        "Total diff = 7689.84166457\n",
        "Total diff ="
       ]
      },
      {
       "output_type": "stream",
       "stream": "stdout",
       "text": [
        " 7689.84166457\n",
        "Total diff = 7689.84166457\n",
        "Total diff = 7689.84166457\n",
        "Total diff = 7689.84166457\n",
        "Total diff ="
       ]
      },
      {
       "output_type": "stream",
       "stream": "stdout",
       "text": [
        " 7689.84166457\n",
        "Total diff = 7689.84166457\n",
        "Total diff = 7689.84166457\n",
        "Total diff = 7689.84166457\n",
        "Total diff ="
       ]
      },
      {
       "output_type": "stream",
       "stream": "stdout",
       "text": [
        " 7689.84166457\n",
        "Total diff = 7689.84166457\n",
        "Total diff = 7689.84166457\n",
        "Total diff = 7689.84166457\n",
        "Total diff ="
       ]
      },
      {
       "output_type": "stream",
       "stream": "stdout",
       "text": [
        " 7689.84166457\n",
        "Total diff = 7689.84166457\n",
        "Total diff = 7689.84166457\n",
        "Total diff = 7689.84166457\n",
        "Total diff ="
       ]
      },
      {
       "output_type": "stream",
       "stream": "stdout",
       "text": [
        " 7689.84166457\n",
        "Total diff = 7689.84166457\n",
        "Total diff = 7689.84166457\n",
        "Total diff = 7689.84166457\n",
        "Total diff ="
       ]
      },
      {
       "output_type": "stream",
       "stream": "stdout",
       "text": [
        " 7689.84166457\n",
        "Total diff = 7689.84166457\n",
        "Total diff = 7689.84166457\n",
        "Total diff = 7689.84166457\n",
        "Total diff = 7689.84166457\n",
        "Total diff ="
       ]
      },
      {
       "output_type": "stream",
       "stream": "stdout",
       "text": [
        " 7689.84166457\n",
        "Total diff = 7689.84166457\n",
        "Total diff = 7689.84166457\n",
        "Total diff = 7689.84166457\n",
        "Total diff ="
       ]
      },
      {
       "output_type": "stream",
       "stream": "stdout",
       "text": [
        " 7689.84166457\n",
        "Total diff = 7689.84166457\n",
        "Total diff = 7689.84166457\n",
        "Total diff = 7689.84166457\n",
        "Total diff = 7689.84166457\n",
        "Total diff ="
       ]
      },
      {
       "output_type": "stream",
       "stream": "stdout",
       "text": [
        " 7689.84166457\n",
        "Total diff = 7689.84166457\n",
        "Total diff = 7689.84166457\n",
        "Total diff = 7689.84166457\n",
        "Total diff ="
       ]
      },
      {
       "output_type": "stream",
       "stream": "stdout",
       "text": [
        " 7689.84166457\n",
        "Total diff = 7689.84166457\n",
        "Total diff = 7689.84166457\n",
        "Total diff = 7689.84166457\n",
        "Total diff = 7689.84166457\n",
        "Total diff ="
       ]
      },
      {
       "output_type": "stream",
       "stream": "stdout",
       "text": [
        " 7689.84166457\n",
        "Total diff = 7689.84166457\n",
        "Total diff = 7689.84166457\n",
        "Total diff = 7689.84166457\n",
        "Total diff = 7689.84166457\n",
        "Total diff ="
       ]
      },
      {
       "output_type": "stream",
       "stream": "stdout",
       "text": [
        " 7689.84166457\n",
        "Total diff = 7689.84166457\n",
        "Total diff = 7689.84166457\n",
        "Total diff = 7689.84166457\n",
        "Total diff ="
       ]
      },
      {
       "output_type": "stream",
       "stream": "stdout",
       "text": [
        " 7689.84166457\n",
        "Total diff = 7689.84166457\n",
        "Total diff = 7689.84166457\n",
        "Total diff = 7689.84166457\n",
        "Total diff ="
       ]
      },
      {
       "output_type": "stream",
       "stream": "stdout",
       "text": [
        " 7689.84166457\n",
        "Total diff = 7689.84166457\n",
        "Total diff = 7689.84166457\n",
        "Total diff = 7689.84166457\n",
        "Total diff ="
       ]
      },
      {
       "output_type": "stream",
       "stream": "stdout",
       "text": [
        " 7689.84166457\n",
        "Total diff = 7689.84166457\n",
        "Total diff = 7689.84166457\n",
        "Total diff = 7689.84166457\n",
        "Total diff ="
       ]
      },
      {
       "output_type": "stream",
       "stream": "stdout",
       "text": [
        " 7689.84166457\n",
        "Total diff = 7689.84166457\n",
        "Total diff = 7689.84166457\n",
        "Total diff = 7689.84166457\n",
        "Total diff ="
       ]
      },
      {
       "output_type": "stream",
       "stream": "stdout",
       "text": [
        " 7689.84166457\n",
        "Total diff = 7689.84166457\n",
        "Total diff = 7689.84166457\n",
        "Total diff = 7689.84166457\n",
        "Total diff ="
       ]
      },
      {
       "output_type": "stream",
       "stream": "stdout",
       "text": [
        " 7689.84166457\n",
        "Total diff = 7689.84166457\n",
        "Total diff = 7689.84166457\n",
        "Total diff = 7689.84166457\n",
        "Total diff = 7689.84166457\n",
        "Total diff ="
       ]
      },
      {
       "output_type": "stream",
       "stream": "stdout",
       "text": [
        " 7689.84166457\n",
        "Total diff = 7689.84166457\n",
        "Total diff = 7689.84166457\n",
        "Total diff = 7689.84166457\n",
        "Total diff ="
       ]
      },
      {
       "output_type": "stream",
       "stream": "stdout",
       "text": [
        " 7689.84166457\n",
        "Total diff = 7689.84166457\n",
        "Total diff = 7689.84166457\n",
        "Total diff = 7689.84166457\n",
        "Total diff ="
       ]
      },
      {
       "output_type": "stream",
       "stream": "stdout",
       "text": [
        " 7689.84166457\n",
        "Total diff = 7689.84166457\n",
        "Total diff = 7689.84166457\n",
        "Total diff = 7689.84166457\n",
        "Total diff = 7689.84166457\n",
        "Total diff ="
       ]
      },
      {
       "output_type": "stream",
       "stream": "stdout",
       "text": [
        " 7689.84166457\n",
        "Total diff = 7689.84166457\n",
        "Total diff = 7689.84166457\n",
        "Total diff = 7689.84166457\n",
        "Total diff ="
       ]
      },
      {
       "output_type": "stream",
       "stream": "stdout",
       "text": [
        " 7689.84166457\n",
        "Total diff = 7689.84166457\n",
        "Total diff = 7689.84166457\n",
        "Total diff = 7689.84166457\n",
        "Total diff ="
       ]
      },
      {
       "output_type": "stream",
       "stream": "stdout",
       "text": [
        " 7689.84166457\n",
        "Total diff = 7689.84166457\n",
        "Total diff = 7689.84166457\n",
        "Total diff = 7689.84166457\n",
        "Total diff ="
       ]
      },
      {
       "output_type": "stream",
       "stream": "stdout",
       "text": [
        " 7689.84166457\n",
        "Total diff = 7689.84166457\n",
        "Total diff = 7689.84166457\n",
        "Total diff = 7689.84166457\n",
        "Total diff ="
       ]
      },
      {
       "output_type": "stream",
       "stream": "stdout",
       "text": [
        " 7689.84166457\n",
        "Total diff = 7689.84166457\n",
        "Total diff = 7689.84166457\n",
        "Total diff = 7689.84166457\n",
        "Total diff ="
       ]
      },
      {
       "output_type": "stream",
       "stream": "stdout",
       "text": [
        " 7689.84166457\n",
        "Total diff = 7689.84166457\n",
        "Total diff = 7689.84166457\n",
        "Total diff = 7689.84166457\n",
        "Total diff ="
       ]
      },
      {
       "output_type": "stream",
       "stream": "stdout",
       "text": [
        " 7689.84166457\n",
        "Total diff = 7689.84166457\n",
        "Total diff = 7689.84166457\n",
        "Total diff = 7689.84166457\n",
        "Total diff ="
       ]
      },
      {
       "output_type": "stream",
       "stream": "stdout",
       "text": [
        " 7689.84166457\n",
        "Total diff = 7689.84166457\n",
        "Total diff = 7689.84166457\n",
        "Total diff = 7689.84166457\n",
        "Total diff ="
       ]
      },
      {
       "output_type": "stream",
       "stream": "stdout",
       "text": [
        " 7689.84166457\n",
        "Total diff = 7689.84166457\n",
        "Total diff = 7689.84166457\n",
        "Total diff = 7689.84166457\n",
        "Total diff ="
       ]
      },
      {
       "output_type": "stream",
       "stream": "stdout",
       "text": [
        " 7689.84166457\n",
        "Total diff = 7689.84166457\n",
        "Total diff = 7689.84166457\n",
        "Total diff = 7689.84166457\n",
        "Total diff = 7689.84166457\n",
        "Total diff ="
       ]
      },
      {
       "output_type": "stream",
       "stream": "stdout",
       "text": [
        " 7689.84166457\n",
        "Total diff = 7689.84166457\n",
        "Total diff = 7689.84166457\n",
        "Total diff = 7689.84166457\n",
        "Total diff ="
       ]
      },
      {
       "output_type": "stream",
       "stream": "stdout",
       "text": [
        " 7689.84166457\n",
        "Total diff = 7689.84166457\n",
        "Total diff = 7689.84166457\n",
        "Total diff = 7689.84166457\n",
        "Total diff = 7689.84166457\n",
        "Total diff ="
       ]
      },
      {
       "output_type": "stream",
       "stream": "stdout",
       "text": [
        " 7689.84166457\n",
        "Total diff = 7689.84166457\n",
        "Total diff = 7689.84166457\n",
        "Total diff = 7689.84166457\n",
        "Total diff = 7689.84166457\n",
        "Total diff ="
       ]
      },
      {
       "output_type": "stream",
       "stream": "stdout",
       "text": [
        " 7689.84166457\n",
        "Total diff = 7689.84166457\n",
        "Total diff = 7689.84166457\n",
        "Total diff = 7689.84166457\n",
        "Total diff ="
       ]
      },
      {
       "output_type": "stream",
       "stream": "stdout",
       "text": [
        " 7689.84166457\n",
        "Total diff = 7689.84166457\n",
        "Total diff = 7689.84166457\n",
        "Total diff = 7689.84166457\n",
        "Total diff ="
       ]
      },
      {
       "output_type": "stream",
       "stream": "stdout",
       "text": [
        " 7689.84166457\n",
        "Total diff = 7689.84166457\n",
        "Total diff = 7689.84166457\n",
        "Total diff = 7689.84166457\n",
        "Total diff ="
       ]
      },
      {
       "output_type": "stream",
       "stream": "stdout",
       "text": [
        " 7689.84166457\n",
        "Total diff = 7689.84166457\n",
        "Total diff = 7689.84166457\n",
        "Total diff = 7689.84166457\n",
        "Total diff ="
       ]
      },
      {
       "output_type": "stream",
       "stream": "stdout",
       "text": [
        " 7689.84166457\n",
        "Total diff = 7689.84166457\n",
        "Total diff = 7689.84166457\n",
        "Total diff = 7689.84166457\n",
        "Total diff ="
       ]
      },
      {
       "output_type": "stream",
       "stream": "stdout",
       "text": [
        " 7689.84166457\n",
        "Total diff = 7689.84166457\n",
        "Total diff = 7689.84166457\n",
        "Total diff = 7689.84166457\n",
        "Total diff ="
       ]
      },
      {
       "output_type": "stream",
       "stream": "stdout",
       "text": [
        " 7689.84166457\n",
        "Total diff = 7689.84166457\n",
        "Total diff = 7689.84166457\n",
        "Total diff = 7689.84166457\n",
        "Total diff ="
       ]
      },
      {
       "output_type": "stream",
       "stream": "stdout",
       "text": [
        " 7689.84166457\n",
        "Total diff = 7689.84166457\n",
        "Total diff = 7689.84166457\n",
        "Total diff = 7689.84166457\n",
        "Total diff ="
       ]
      },
      {
       "output_type": "stream",
       "stream": "stdout",
       "text": [
        " 7689.84166457\n",
        "Total diff = 7689.84166457\n",
        "Total diff = 7689.84166457\n",
        "Total diff = 7689.84166457\n",
        "Total diff ="
       ]
      },
      {
       "output_type": "stream",
       "stream": "stdout",
       "text": [
        " 7689.84166457\n",
        "Total diff = 7689.84166457\n",
        "Total diff = 7689.84166457\n",
        "Total diff = 7689.84166457\n",
        "Total diff ="
       ]
      },
      {
       "output_type": "stream",
       "stream": "stdout",
       "text": [
        " 7689.84166457\n",
        "Total diff = 7689.84166457\n",
        "Total diff = 7689.84166457\n",
        "Total diff = 7689.84166457\n",
        "Total diff ="
       ]
      },
      {
       "output_type": "stream",
       "stream": "stdout",
       "text": [
        " 7689.84166457\n",
        "Total diff = 7689.84166457\n",
        "Total diff = 7689.84166457\n",
        "Total diff = 7689.84166457\n",
        "Total diff ="
       ]
      },
      {
       "output_type": "stream",
       "stream": "stdout",
       "text": [
        " 7689.84166457\n",
        "Total diff = 7689.84166457\n",
        "Total diff = 7689.84166457\n",
        "Total diff = 7689.84166457\n",
        "Total diff = 7689.84166457\n",
        "Total diff ="
       ]
      },
      {
       "output_type": "stream",
       "stream": "stdout",
       "text": [
        " 7689.84166457\n",
        "Total diff = 7689.84166457\n",
        "Total diff = 7689.84166457\n",
        "Total diff = 7689.84166457\n",
        "Total diff ="
       ]
      },
      {
       "output_type": "stream",
       "stream": "stdout",
       "text": [
        " 7689.84166457\n",
        "Total diff = 7689.84166457\n",
        "Total diff = 7689.84166457\n",
        "Total diff = 7689.84166457\n",
        "Total diff ="
       ]
      },
      {
       "output_type": "stream",
       "stream": "stdout",
       "text": [
        " 7689.84166457\n",
        "Total diff = 7689.84166457\n",
        "Total diff = 7689.84166457\n",
        "Total diff = 7689.84166457\n",
        "Total diff = 7689.84166457\n",
        "Total diff ="
       ]
      },
      {
       "output_type": "stream",
       "stream": "stdout",
       "text": [
        " 7689.84166457\n",
        "Total diff = 7689.84166457\n",
        "Total diff = 7689.84166457\n",
        "Total diff = 7689.84166457\n",
        "Total diff = 7689.84166457\n",
        "Total diff ="
       ]
      },
      {
       "output_type": "stream",
       "stream": "stdout",
       "text": [
        " 7689.84166457\n",
        "Total diff = 7689.84166457\n",
        "Total diff = 7689.84166457\n",
        "Total diff = 7689.84166457\n",
        "Total diff ="
       ]
      },
      {
       "output_type": "stream",
       "stream": "stdout",
       "text": [
        " 7689.84166457\n",
        "Total diff = 7689.84166457\n",
        "Total diff = 7689.84166457\n",
        "Total diff = 7689.84166457\n",
        "Total diff ="
       ]
      },
      {
       "output_type": "stream",
       "stream": "stdout",
       "text": [
        " 7689.84166457\n",
        "Total diff = 7689.84166457\n",
        "Total diff = 7689.84166457\n",
        "Total diff = 7689.84166457\n",
        "Total diff ="
       ]
      },
      {
       "output_type": "stream",
       "stream": "stdout",
       "text": [
        " 7689.84166457\n",
        "Total diff = 7689.84166457\n",
        "Total diff = 7689.84166457\n",
        "Total diff = 7689.84166457\n",
        "Total diff ="
       ]
      },
      {
       "output_type": "stream",
       "stream": "stdout",
       "text": [
        " 7689.84166457\n",
        "Total diff = 7689.84166457\n",
        "Total diff = 7689.84166457\n",
        "Total diff = 7689.84166457\n",
        "Total diff ="
       ]
      },
      {
       "output_type": "stream",
       "stream": "stdout",
       "text": [
        " 7689.84166457\n",
        "Total diff = 7689.84166457\n",
        "Total diff = 7689.84166457\n",
        "Total diff = 7689.84166457\n",
        "Total diff ="
       ]
      },
      {
       "output_type": "stream",
       "stream": "stdout",
       "text": [
        " 7689.84166457\n",
        "Total diff = 7689.84166457\n",
        "Total diff = 7689.84166457\n",
        "Total diff = 7689.84166457\n",
        "Total diff = 7689.84166457\n",
        "Total diff ="
       ]
      },
      {
       "output_type": "stream",
       "stream": "stdout",
       "text": [
        " 7689.84166457\n",
        "Total diff = 7689.84166457\n",
        "Total diff = 7689.84166457\n",
        "Total diff = 7689.84166457\n",
        "Total diff ="
       ]
      },
      {
       "output_type": "stream",
       "stream": "stdout",
       "text": [
        " 7689.84166457\n",
        "Total diff = 7689.84166457\n",
        "Total diff = 7689.84166457\n",
        "Total diff = 7689.84166457\n",
        "Total diff = 7689.84166457\n",
        "Total diff ="
       ]
      },
      {
       "output_type": "stream",
       "stream": "stdout",
       "text": [
        " 7689.84166457\n",
        "Total diff = 7689.84166457\n",
        "Total diff = 7689.84166457\n",
        "Total diff = 7689.84166457\n",
        "Total diff ="
       ]
      },
      {
       "output_type": "stream",
       "stream": "stdout",
       "text": [
        " 7689.84166457\n",
        "Total diff = 7689.84166457\n",
        "Total diff = 7689.84166457\n",
        "Total diff = 7689.84166457\n",
        "Total diff ="
       ]
      },
      {
       "output_type": "stream",
       "stream": "stdout",
       "text": [
        " 7689.84166457\n",
        "Total diff = 7689.84166457\n",
        "Total diff = 7689.84166457\n",
        "Total diff = 7689.84166457\n",
        "Total diff ="
       ]
      },
      {
       "output_type": "stream",
       "stream": "stdout",
       "text": [
        " 7689.84166457\n",
        "Total diff = 7689.84166457\n",
        "Total diff = 7689.84166457\n",
        "Total diff = 7689.84166457\n",
        "Total diff ="
       ]
      },
      {
       "output_type": "stream",
       "stream": "stdout",
       "text": [
        " 7689.84166457\n",
        "Total diff = 7689.84166457\n",
        "Total diff = 7689.84166457\n",
        "Total diff ="
       ]
      },
      {
       "output_type": "stream",
       "stream": "stdout",
       "text": [
        " 7689.84166457\n",
        "Total diff = 7689.84166457\n",
        "Total diff = 7689.84166457\n",
        "Total diff = 7689.84166457\n",
        "Total diff = "
       ]
      },
      {
       "output_type": "stream",
       "stream": "stdout",
       "text": [
        "7689.84166457\n",
        "Total diff = 7689.84166457\n",
        "Total diff = 7689.84166457\n",
        "Total diff = 7689.84166457\n",
        "Total diff ="
       ]
      },
      {
       "output_type": "stream",
       "stream": "stdout",
       "text": [
        " 7689.84166457\n",
        "Total diff = 7689.84166457\n",
        "Total diff = 7689.84166457\n",
        "Total diff = 7689.84166457\n",
        "Total diff = 7689.84166457\n",
        "Total diff ="
       ]
      },
      {
       "output_type": "stream",
       "stream": "stdout",
       "text": [
        " 7689.84166457\n",
        "Total diff = 7689.84166457\n",
        "Total diff = 7689.84166457\n",
        "Total diff = 7689.84166457\n",
        "Total diff ="
       ]
      },
      {
       "output_type": "stream",
       "stream": "stdout",
       "text": [
        " 7689.84166457\n",
        "Total diff = 7689.84166457\n",
        "Total diff = 7689.84166457\n",
        "Total diff = 7689.84166457\n",
        "Total diff = 7689.84166457\n",
        "Total diff ="
       ]
      },
      {
       "output_type": "stream",
       "stream": "stdout",
       "text": [
        " 7689.84166457\n",
        "Total diff = 7689.84166457\n",
        "Total diff = 7689.84166457\n",
        "Total diff = 7689.84166457\n",
        "Total diff = 7689.84166457\n",
        "Total diff ="
       ]
      },
      {
       "output_type": "stream",
       "stream": "stdout",
       "text": [
        " 7689.84166457\n",
        "Total diff = 7689.84166457\n",
        "Total diff = 7689.84166457\n",
        "Total diff = 7689.84166457\n",
        "Total diff = 7689.84166457\n",
        "Total diff ="
       ]
      },
      {
       "output_type": "stream",
       "stream": "stdout",
       "text": [
        " 7689.84166457\n",
        "Total diff = 7689.84166457\n",
        "Total diff = 7689.84166457\n",
        "Total diff = 7689.84166457\n",
        "Total diff ="
       ]
      },
      {
       "output_type": "stream",
       "stream": "stdout",
       "text": [
        " 7689.84166457\n",
        "Total diff = 7689.84166457\n",
        "Total diff = 7689.84166457\n",
        "Total diff = 7689.84166457\n",
        "Total diff = 7689.84166457\n",
        "Total diff ="
       ]
      },
      {
       "output_type": "stream",
       "stream": "stdout",
       "text": [
        " 7689.84166457\n",
        "Total diff = 7689.84166457\n",
        "Total diff = 7689.84166457\n",
        "Total diff = 7689.84166457\n",
        "Total diff = 7689.84166457\n",
        "Total diff ="
       ]
      },
      {
       "output_type": "stream",
       "stream": "stdout",
       "text": [
        " 7689.84166457\n",
        "Total diff = 7689.84166457\n",
        "Total diff = 7689.84166457\n",
        "Total diff = 7689.84166457\n",
        "Total diff ="
       ]
      },
      {
       "output_type": "stream",
       "stream": "stdout",
       "text": [
        " 7689.84166457\n",
        "Total diff = 7689.84166457\n",
        "Total diff = 7689.84166457\n",
        "Total diff = 7689.84166457\n",
        "Total diff ="
       ]
      },
      {
       "output_type": "stream",
       "stream": "stdout",
       "text": [
        " 7689.84166457\n",
        "Total diff = 7689.84166457\n",
        "Total diff = 7689.84166457\n",
        "Total diff = 7689.84166457\n",
        "Total diff ="
       ]
      },
      {
       "output_type": "stream",
       "stream": "stdout",
       "text": [
        " 7689.84166457\n",
        "Total diff = 7689.84166457\n",
        "Total diff = 7689.84166457\n",
        "Total diff = 7689.84166457\n",
        "Total diff ="
       ]
      },
      {
       "output_type": "stream",
       "stream": "stdout",
       "text": [
        " 7689.84166457\n",
        "Total diff = 7689.84166457\n",
        "Total diff = 7689.84166457\n",
        "Total diff = 7689.84166457\n",
        "Total diff ="
       ]
      },
      {
       "output_type": "stream",
       "stream": "stdout",
       "text": [
        " 7689.84166457\n",
        "Total diff = 7689.84166457\n",
        "Total diff = 7689.84166457\n",
        "Total diff = 7689.84166457\n",
        "Total diff ="
       ]
      },
      {
       "output_type": "stream",
       "stream": "stdout",
       "text": [
        " 7689.84166457\n",
        "Total diff = 7689.84166457\n",
        "Total diff = 7689.84166457\n",
        "Total diff = 7689.84166457\n",
        "Total diff = 7689.84166457\n",
        "Total diff ="
       ]
      },
      {
       "output_type": "stream",
       "stream": "stdout",
       "text": [
        " 7689.84166457\n",
        "Total diff = 7689.84166457\n",
        "Total diff = 7689.84166457\n",
        "Total diff = 7689.84166457\n",
        "Total diff ="
       ]
      },
      {
       "output_type": "stream",
       "stream": "stdout",
       "text": [
        " 7689.84166457\n",
        "Total diff = 7689.84166457\n",
        "Total diff = 7689.84166457\n",
        "Total diff = 7689.84166457\n",
        "Total diff ="
       ]
      },
      {
       "output_type": "stream",
       "stream": "stdout",
       "text": [
        " 7689.84166457\n",
        "Total diff = 7689.84166457\n",
        "Total diff = 7689.84166457\n",
        "Total diff = 7689.84166457\n",
        "Total diff ="
       ]
      },
      {
       "output_type": "stream",
       "stream": "stdout",
       "text": [
        " 7689.84166457\n",
        "Total diff = 7689.84166457\n",
        "Total diff = 7689.84166457\n",
        "Total diff = 7689.84166457\n",
        "Total diff ="
       ]
      },
      {
       "output_type": "stream",
       "stream": "stdout",
       "text": [
        " 7689.84166457\n",
        "Total diff = 7689.84166457\n",
        "Total diff = 7689.84166457\n",
        "Total diff = 7689.84166457\n",
        "Total diff ="
       ]
      },
      {
       "output_type": "stream",
       "stream": "stdout",
       "text": [
        " 7689.84166457\n",
        "Total diff = 7689.84166457\n",
        "Total diff = 7689.84166457\n",
        "Total diff = 7689.84166457\n",
        "Total diff ="
       ]
      },
      {
       "output_type": "stream",
       "stream": "stdout",
       "text": [
        " 7689.84166457\n",
        "Total diff = 7689.84166457\n",
        "Total diff = 7689.84166457\n",
        "Total diff = 7689.84166457\n",
        "Total diff ="
       ]
      },
      {
       "output_type": "stream",
       "stream": "stdout",
       "text": [
        " 7689.84166457\n",
        "Total diff = 7689.84166457\n",
        "Total diff = 7689.84166457\n",
        "Total diff = 7689.84166457\n",
        "Total diff ="
       ]
      },
      {
       "output_type": "stream",
       "stream": "stdout",
       "text": [
        " 7689.84166457\n",
        "Total diff = 7689.84166457\n",
        "Total diff = 7689.84166457\n",
        "Total diff = 7689.84166457\n",
        "Total diff ="
       ]
      },
      {
       "output_type": "stream",
       "stream": "stdout",
       "text": [
        " 7689.84166457\n",
        "Total diff = 7689.84166457\n",
        "Total diff = 7689.84166457\n",
        "Total diff = 7689.84166457\n",
        "Total diff ="
       ]
      },
      {
       "output_type": "stream",
       "stream": "stdout",
       "text": [
        " 7689.84166457\n",
        "Total diff = 7689.84166457\n",
        "Total diff = 7689.84166457\n",
        "Total diff = 7689.84166457\n",
        "Total diff ="
       ]
      },
      {
       "output_type": "stream",
       "stream": "stdout",
       "text": [
        " 7689.84166457\n",
        "Total diff = 7689.84166457\n",
        "Total diff = 7689.84166457\n",
        "Total diff = 7689.84166457\n",
        "Total diff ="
       ]
      },
      {
       "output_type": "stream",
       "stream": "stdout",
       "text": [
        " 7689.84166457\n",
        "Total diff = 7689.84166457\n",
        "Total diff = 7689.84166457\n",
        "Total diff = 7689.84166457\n",
        "Total diff ="
       ]
      },
      {
       "output_type": "stream",
       "stream": "stdout",
       "text": [
        " 7689.84166457\n",
        "Total diff = 7689.84166457\n",
        "Total diff = 7689.84166457\n",
        "Total diff = 7689.84166457\n",
        "Total diff = 7689.84166457\n",
        "Total diff ="
       ]
      },
      {
       "output_type": "stream",
       "stream": "stdout",
       "text": [
        " 7689.84166457\n",
        "Total diff = 7689.84166457\n",
        "Total diff = 7689.84166457\n",
        "Total diff = 7689.84166457\n",
        "Total diff ="
       ]
      },
      {
       "output_type": "stream",
       "stream": "stdout",
       "text": [
        " 7689.84166457\n",
        "Total diff = 7689.84166457\n",
        "Total diff = 7689.84166457\n",
        "Total diff = 7689.84166457\n",
        "Total diff ="
       ]
      },
      {
       "output_type": "stream",
       "stream": "stdout",
       "text": [
        " 7689.84166457\n",
        "Total diff = 7689.84166457\n",
        "Total diff = 7689.84166457\n",
        "Total diff = 7689.84166457\n",
        "Total diff ="
       ]
      },
      {
       "output_type": "stream",
       "stream": "stdout",
       "text": [
        " 7689.84166457\n",
        "Total diff = 7689.84166457\n",
        "Total diff = 7689.84166457\n",
        "Total diff = 7689.84166457\n",
        "Total diff = 7689.84166457\n",
        "Total diff ="
       ]
      },
      {
       "output_type": "stream",
       "stream": "stdout",
       "text": [
        " 7689.84166457\n",
        "Total diff = 7689.84166457\n",
        "Total diff = 7689.84166457\n",
        "Total diff = 7689.84166457\n",
        "Total diff = 7689.84166457\n",
        "Total diff ="
       ]
      },
      {
       "output_type": "stream",
       "stream": "stdout",
       "text": [
        " 7689.84166457\n",
        "Total diff = 7689.84166457\n",
        "Total diff = 7689.84166457\n",
        "Total diff = 7689.84166457\n",
        "Total diff ="
       ]
      },
      {
       "output_type": "stream",
       "stream": "stdout",
       "text": [
        " 7689.84166457\n",
        "Total diff = 7689.84166457\n",
        "Total diff = 7689.84166457\n",
        "Total diff = 7689.84166457\n",
        "Total diff ="
       ]
      },
      {
       "output_type": "stream",
       "stream": "stdout",
       "text": [
        " 7689.84166457\n",
        "Total diff = 7689.84166457\n",
        "Total diff = 7689.84166457\n",
        "Total diff = 7689.84166457\n",
        "Total diff ="
       ]
      },
      {
       "output_type": "stream",
       "stream": "stdout",
       "text": [
        " 7689.84166457\n",
        "Total diff = 7689.84166457\n",
        "Total diff = 7689.84166457\n",
        "Total diff = 7689.84166457\n",
        "Total diff ="
       ]
      },
      {
       "output_type": "stream",
       "stream": "stdout",
       "text": [
        " 7689.84166457\n",
        "Total diff = 7689.84166457\n",
        "Total diff = 7689.84166457\n",
        "Total diff = 7689.84166457\n",
        "Total diff ="
       ]
      },
      {
       "output_type": "stream",
       "stream": "stdout",
       "text": [
        " 7689.84166457\n",
        "Total diff = 7689.84166457\n",
        "Total diff = 7689.84166457\n",
        "Total diff = 7689.84166457\n",
        "Total diff ="
       ]
      },
      {
       "output_type": "stream",
       "stream": "stdout",
       "text": [
        " 7689.84166457\n",
        "Total diff = 7689.84166457\n",
        "Total diff = 7689.84166457\n",
        "Total diff = 7689.84166457\n",
        "Total diff ="
       ]
      },
      {
       "output_type": "stream",
       "stream": "stdout",
       "text": [
        " 7689.84166457\n",
        "Total diff = 7689.84166457\n",
        "Total diff = 7689.84166457\n",
        "Total diff = 7689.84166457\n",
        "Total diff ="
       ]
      },
      {
       "output_type": "stream",
       "stream": "stdout",
       "text": [
        " 7689.84166457\n",
        "Total diff = 7689.84166457\n",
        "Total diff = 7689.84166457\n",
        "Total diff = 7689.84166457\n",
        "Total diff ="
       ]
      },
      {
       "output_type": "stream",
       "stream": "stdout",
       "text": [
        " 7689.84166457\n",
        "Total diff = 7689.84166457\n",
        "Total diff = 7689.84166457\n",
        "Total diff = 7689.84166457\n",
        "Total diff ="
       ]
      },
      {
       "output_type": "stream",
       "stream": "stdout",
       "text": [
        " 7689.84166457\n",
        "Total diff = 7689.84166457\n",
        "Total diff = 7689.84166457\n",
        "Total diff = 7689.84166457\n",
        "Total diff ="
       ]
      },
      {
       "output_type": "stream",
       "stream": "stdout",
       "text": [
        " 7689.84166457\n",
        "Total diff = 7689.84166457\n",
        "Total diff = 7689.84166457\n",
        "Total diff = 7689.84166457\n",
        "Total diff ="
       ]
      },
      {
       "output_type": "stream",
       "stream": "stdout",
       "text": [
        " 7689.84166457\n",
        "Total diff = 7689.84166457\n",
        "Total diff = 7689.84166457\n",
        "Total diff = 7689.84166457\n",
        "Total diff ="
       ]
      },
      {
       "output_type": "stream",
       "stream": "stdout",
       "text": [
        " 7689.84166457\n",
        "Total diff = 7689.84166457\n",
        "Total diff = 7689.84166457\n",
        "Total diff = 7689.84166457\n",
        "Total diff ="
       ]
      },
      {
       "output_type": "stream",
       "stream": "stdout",
       "text": [
        " 7689.84166457\n",
        "Total diff = 7689.84166457\n",
        "Total diff = 7689.84166457\n",
        "Total diff = 7689.84166457\n",
        "Total diff = 7689.84166457\n",
        "Total diff ="
       ]
      },
      {
       "output_type": "stream",
       "stream": "stdout",
       "text": [
        " 7689.84166457\n",
        "Total diff = 7689.84166457\n",
        "Total diff = 7689.84166457\n",
        "Total diff = 7689.84166457\n",
        "Total diff ="
       ]
      },
      {
       "output_type": "stream",
       "stream": "stdout",
       "text": [
        " 7689.84166457\n",
        "Total diff = 7689.84166457\n",
        "Total diff = 7689.84166457\n",
        "Total diff = 7689.84166457\n",
        "Total diff ="
       ]
      },
      {
       "output_type": "stream",
       "stream": "stdout",
       "text": [
        " 7689.84166457\n",
        "Total diff = 7689.84166457\n",
        "Total diff = 7689.84166457\n",
        "Total diff = 7689.84166457\n",
        "Total diff ="
       ]
      },
      {
       "output_type": "stream",
       "stream": "stdout",
       "text": [
        " 7689.84166457\n",
        "Total diff = 7689.84166457\n",
        "Total diff = 7689.84166457\n",
        "Total diff = 7689.84166457\n",
        "Total diff ="
       ]
      },
      {
       "output_type": "stream",
       "stream": "stdout",
       "text": [
        " 7689.84166457\n",
        "Total diff = 7689.84166457\n",
        "Total diff = 7689.84166457\n",
        "Total diff = 7689.84166457\n",
        "Total diff ="
       ]
      },
      {
       "output_type": "stream",
       "stream": "stdout",
       "text": [
        " 7689.84166457\n",
        "Total diff = 7689.84166457\n",
        "Total diff = 7689.84166457\n",
        "Total diff = 7689.84166457\n",
        "Total diff ="
       ]
      },
      {
       "output_type": "stream",
       "stream": "stdout",
       "text": [
        " 7689.84166457\n",
        "Total diff = 7689.84166457\n",
        "Total diff = 7689.84166457\n",
        "Total diff = 7689.84166457\n",
        "Total diff ="
       ]
      },
      {
       "output_type": "stream",
       "stream": "stdout",
       "text": [
        " 7689.84166457\n",
        "Total diff = 7689.84166457\n",
        "Total diff = 7689.84166457\n",
        "Total diff = 7689.84166457\n",
        "Total diff ="
       ]
      },
      {
       "output_type": "stream",
       "stream": "stdout",
       "text": [
        " 7689.84166457\n",
        "Total diff = 7689.84166457\n",
        "Total diff = 7689.84166457\n",
        "Total diff = 7689.84166457\n",
        "Total diff ="
       ]
      },
      {
       "output_type": "stream",
       "stream": "stdout",
       "text": [
        " 7689.84166457\n",
        "Total diff = 7689.84166457\n",
        "Total diff = 7689.84166457\n",
        "Total diff = 7689.84166457\n",
        "Total diff ="
       ]
      },
      {
       "output_type": "stream",
       "stream": "stdout",
       "text": [
        " 7689.84166457\n",
        "Total diff = 7689.84166457\n",
        "Total diff = 7689.84166457\n",
        "Total diff = 7689.84166457\n",
        "Total diff ="
       ]
      },
      {
       "output_type": "stream",
       "stream": "stdout",
       "text": [
        " 7689.84166457\n",
        "Total diff = 7689.84166457\n",
        "Total diff = 7689.84166457\n",
        "Total diff = 7689.84166457\n",
        "Total diff ="
       ]
      },
      {
       "output_type": "stream",
       "stream": "stdout",
       "text": [
        " 7689.84166457\n",
        "Total diff = 7689.84166457\n",
        "Total diff = 7689.84166457\n",
        "Total diff = 7689.84166457\n",
        "Total diff ="
       ]
      },
      {
       "output_type": "stream",
       "stream": "stdout",
       "text": [
        " 7689.84166457\n",
        "Total diff = 7689.84166457\n",
        "Total diff = 7689.84166457\n",
        "Total diff = 7689.84166457\n",
        "Total diff ="
       ]
      },
      {
       "output_type": "stream",
       "stream": "stdout",
       "text": [
        " 7689.84166457\n",
        "Total diff = 7689.84166457\n",
        "Total diff = 7689.84166457\n",
        "Total diff = 7689.84166457\n",
        "Total diff ="
       ]
      },
      {
       "output_type": "stream",
       "stream": "stdout",
       "text": [
        " 7689.84166457\n",
        "Total diff = 7689.84166457\n",
        "Total diff = 7689.84166457\n",
        "Total diff = 7689.84166457\n",
        "Total diff ="
       ]
      },
      {
       "output_type": "stream",
       "stream": "stdout",
       "text": [
        " 7689.84166457\n",
        "Total diff = 7689.84166457\n",
        "Total diff = 7689.84166457\n",
        "Total diff = 7689.84166457\n",
        "Total diff = 7689.84166457\n",
        "Total diff ="
       ]
      },
      {
       "output_type": "stream",
       "stream": "stdout",
       "text": [
        " 7689.84166457\n",
        "Total diff = 7689.84166457\n",
        "Total diff = 7689.84166457\n",
        "Total diff = 7689.84166457\n",
        "Total diff ="
       ]
      },
      {
       "output_type": "stream",
       "stream": "stdout",
       "text": [
        " 7689.84166457\n",
        "Total diff = 7689.84166457\n",
        "Total diff = 7689.84166457\n",
        "Total diff = 7689.84166457\n",
        "Total diff = 7689.84166457\n",
        "Total diff ="
       ]
      },
      {
       "output_type": "stream",
       "stream": "stdout",
       "text": [
        " 7689.84166457\n",
        "Total diff = 7689.84166457\n",
        "Total diff = 7689.84166457\n",
        "Total diff = 7689.84166457\n",
        "Total diff ="
       ]
      },
      {
       "output_type": "stream",
       "stream": "stdout",
       "text": [
        " 7689.84166457\n",
        "Total diff = 7689.84166457\n",
        "Total diff = 7689.84166457\n",
        "Total diff = 7689.84166457\n",
        "Total diff ="
       ]
      },
      {
       "output_type": "stream",
       "stream": "stdout",
       "text": [
        " 7689.84166457\n",
        "Total diff = 7689.84166457\n",
        "Total diff = 7689.84166457\n",
        "Total diff = 7689.84166457\n",
        "Total diff = 7689.84166457\n",
        "Total diff ="
       ]
      },
      {
       "output_type": "stream",
       "stream": "stdout",
       "text": [
        " 7689.84166457\n",
        "Total diff = 7689.84166457\n",
        "Total diff = 7689.84166457\n",
        "Total diff = 7689.84166457\n",
        "Total diff ="
       ]
      },
      {
       "output_type": "stream",
       "stream": "stdout",
       "text": [
        " 7689.84166457\n",
        "Total diff = 7689.84166457\n",
        "Total diff = 7689.84166457\n",
        "Total diff = 7689.84166457\n",
        "Total diff ="
       ]
      },
      {
       "output_type": "stream",
       "stream": "stdout",
       "text": [
        " 7689.84166457\n",
        "Total diff = 7689.84166457\n",
        "Total diff ="
       ]
      },
      {
       "output_type": "stream",
       "stream": "stdout",
       "text": [
        " 7689.84166457\n",
        "Total diff = 7689.84166457\n",
        "Total diff = 7689.84166457\n",
        "Total diff = 7689.84166457\n",
        "Total diff ="
       ]
      },
      {
       "output_type": "stream",
       "stream": "stdout",
       "text": [
        " 7689.84166457\n",
        "Total diff = 7689.84166457\n",
        "Total diff = 7689.84166457\n",
        "Total diff = 7689.84166457\n",
        "Total diff = 7689.84166457\n",
        "Total diff ="
       ]
      },
      {
       "output_type": "stream",
       "stream": "stdout",
       "text": [
        " 7689.84166457\n",
        "Total diff = 7689.84166457\n",
        "Total diff = 7689.84166457\n",
        "Total diff = 7689.84166457\n",
        "Total diff ="
       ]
      },
      {
       "output_type": "stream",
       "stream": "stdout",
       "text": [
        " 7689.84166457\n",
        "Total diff = 7689.84166457\n",
        "Total diff = 7689.84166457\n",
        "Total diff = 7689.84166457\n",
        "Total diff ="
       ]
      },
      {
       "output_type": "stream",
       "stream": "stdout",
       "text": [
        " 7689.84166457\n",
        "Total diff = 7689.84166457\n",
        "Total diff = 7689.84166457\n",
        "Total diff = 7689.84166457\n",
        "Total diff ="
       ]
      },
      {
       "output_type": "stream",
       "stream": "stdout",
       "text": [
        " 7689.84166457\n",
        "Total diff = 7689.84166457\n",
        "Total diff = 7689.84166457\n",
        "Total diff = 7689.84166457\n",
        "Total diff = 7689.84166457\n",
        "Total diff ="
       ]
      },
      {
       "output_type": "stream",
       "stream": "stdout",
       "text": [
        " 7689.84166457\n",
        "Total diff = 7689.84166457\n",
        "Total diff = 7689.84166457\n",
        "Total diff = 7689.84166457\n",
        "Total diff ="
       ]
      },
      {
       "output_type": "stream",
       "stream": "stdout",
       "text": [
        " 7689.84166457\n",
        "Total diff = 7689.84166457\n",
        "Total diff = 7689.84166457\n",
        "Total diff = 7689.84166457\n",
        "Total diff ="
       ]
      },
      {
       "output_type": "stream",
       "stream": "stdout",
       "text": [
        " 7689.84166457\n",
        "Total diff = 7689.84166457\n",
        "Total diff = 7689.84166457\n",
        "Total diff = 7689.84166457\n",
        "Total diff = "
       ]
      },
      {
       "output_type": "stream",
       "stream": "stdout",
       "text": [
        "7689.84166457\n",
        "Total diff = 7689.84166457\n",
        "Total diff = 7689.84166457\n",
        "Total diff = 7689.84166457\n",
        "Total diff = 7689.84166457\n",
        "Total diff ="
       ]
      },
      {
       "output_type": "stream",
       "stream": "stdout",
       "text": [
        " 7689.84166457\n",
        "Total diff = 7689.84166457\n",
        "Total diff = 7689.84166457\n",
        "Total diff = 7689.84166457\n",
        "Total diff = 7689.84166457\n",
        "Total diff ="
       ]
      },
      {
       "output_type": "stream",
       "stream": "stdout",
       "text": [
        " 7689.84166457\n",
        "Total diff = 7689.84166457\n",
        "Total diff = 7689.84166457\n",
        "Total diff = 7689.84166457\n",
        "Total diff ="
       ]
      },
      {
       "output_type": "stream",
       "stream": "stdout",
       "text": [
        " 7689.84166457\n",
        "Total diff = 7689.84166457\n",
        "Total diff = 7689.84166457\n",
        "Total diff = 7689.84166457\n",
        "Total diff ="
       ]
      },
      {
       "output_type": "stream",
       "stream": "stdout",
       "text": [
        " 7689.84166457\n",
        "Total diff = 7689.84166457\n",
        "Total diff = 7689.84166457\n",
        "Total diff = 7689.84166457\n",
        "Total diff = 7689.84166457\n",
        "Total diff ="
       ]
      },
      {
       "output_type": "stream",
       "stream": "stdout",
       "text": [
        " 7689.84166457\n",
        "Total diff = 7689.84166457\n",
        "Total diff = 7689.84166457\n",
        "Total diff = 7689.84166457\n",
        "Total diff = 7689.84166457\n",
        "Total diff ="
       ]
      },
      {
       "output_type": "stream",
       "stream": "stdout",
       "text": [
        " 7689.84166457\n",
        "Total diff = 7689.84166457\n",
        "Total diff = 7689.84166457\n",
        "Total diff = 7689.84166457\n",
        "Total diff ="
       ]
      },
      {
       "output_type": "stream",
       "stream": "stdout",
       "text": [
        " 7689.84166457\n",
        "Total diff = 7689.84166457\n",
        "Total diff = 7689.84166457\n",
        "Total diff = 7689.84166457\n",
        "Total diff ="
       ]
      },
      {
       "output_type": "stream",
       "stream": "stdout",
       "text": [
        " 7689.84166457\n",
        "Total diff = 7689.84166457\n",
        "Total diff = 7689.84166457\n",
        "Total diff = 7689.84166457\n",
        "Total diff ="
       ]
      },
      {
       "output_type": "stream",
       "stream": "stdout",
       "text": [
        " 7689.84166457\n",
        "Total diff = 7689.84166457\n",
        "Total diff = 7689.84166457\n",
        "Total diff = 7689.84166457\n",
        "Total diff ="
       ]
      },
      {
       "output_type": "stream",
       "stream": "stdout",
       "text": [
        " 7689.84166457\n",
        "Total diff = 7689.84166457\n",
        "Total diff = 7689.84166457\n",
        "Total diff = 7689.84166457\n",
        "Total diff ="
       ]
      },
      {
       "output_type": "stream",
       "stream": "stdout",
       "text": [
        " 7689.84166457\n",
        "Total diff = 7689.84166457\n",
        "Total diff = 7689.84166457\n",
        "Total diff = 7689.84166457\n",
        "Total diff ="
       ]
      },
      {
       "output_type": "stream",
       "stream": "stdout",
       "text": [
        " 7689.84166457\n",
        "Total diff = 7689.84166457\n",
        "Total diff = 7689.84166457\n",
        "Total diff = 7689.84166457\n",
        "Total diff ="
       ]
      },
      {
       "output_type": "stream",
       "stream": "stdout",
       "text": [
        " 7689.84166457\n",
        "Total diff = 7689.84166457\n",
        "Total diff = 7689.84166457\n",
        "Total diff = 7689.84166457\n",
        "Total diff ="
       ]
      },
      {
       "output_type": "stream",
       "stream": "stdout",
       "text": [
        " 7689.84166457\n",
        "Total diff = 7689.84166457\n",
        "Total diff = 7689.84166457\n",
        "Total diff = 7689.84166457\n",
        "Total diff ="
       ]
      },
      {
       "output_type": "stream",
       "stream": "stdout",
       "text": [
        " 7689.84166457\n",
        "Total diff = 7689.84166457\n",
        "Total diff = 7689.84166457\n",
        "Total diff = 7689.84166457\n",
        "Total diff ="
       ]
      },
      {
       "output_type": "stream",
       "stream": "stdout",
       "text": [
        " 7689.84166457\n",
        "Total diff = 7689.84166457\n",
        "Total diff = 7689.84166457\n",
        "Total diff = 7689.84166457\n",
        "Total diff ="
       ]
      },
      {
       "output_type": "stream",
       "stream": "stdout",
       "text": [
        " 7689.84166457\n",
        "Total diff = 7689.84166457\n",
        "Total diff = 7689.84166457\n",
        "Total diff = 7689.84166457\n",
        "Total diff = 7689.84166457\n",
        "Total diff ="
       ]
      },
      {
       "output_type": "stream",
       "stream": "stdout",
       "text": [
        " 7689.84166457\n",
        "Total diff = 7689.84166457\n",
        "Total diff = 7689.84166457\n",
        "Total diff = 7689.84166457\n",
        "Total diff = 7689.84166457\n",
        "Total diff ="
       ]
      },
      {
       "output_type": "stream",
       "stream": "stdout",
       "text": [
        " 7689.84166457\n",
        "Total diff = 7689.84166457\n",
        "Total diff = 7689.84166457\n",
        "Total diff = 7689.84166457\n",
        "Total diff ="
       ]
      },
      {
       "output_type": "stream",
       "stream": "stdout",
       "text": [
        " 7689.84166457\n",
        "Total diff = 7689.84166457\n",
        "Total diff = 7689.84166457\n",
        "Total diff = 7689.84166457\n",
        "Total diff ="
       ]
      },
      {
       "output_type": "stream",
       "stream": "stdout",
       "text": [
        " 7689.84166457\n",
        "Total diff = 7689.84166457\n",
        "Total diff = 7689.84166457\n",
        "Total diff = 7689.84166457\n",
        "Total diff ="
       ]
      },
      {
       "output_type": "stream",
       "stream": "stdout",
       "text": [
        " 7689.84166457\n",
        "Total diff = 7689.84166457\n",
        "Total diff = 7689.84166457\n",
        "Total diff = 7689.84166457\n",
        "Total diff ="
       ]
      },
      {
       "output_type": "stream",
       "stream": "stdout",
       "text": [
        " 7689.84166457\n",
        "Total diff = 7689.84166457\n",
        "Total diff = 7689.84166457\n",
        "Total diff = 7689.84166457\n",
        "Total diff ="
       ]
      },
      {
       "output_type": "stream",
       "stream": "stdout",
       "text": [
        " 7689.84166457\n",
        "Total diff = 7689.84166457\n",
        "Total diff = 7689.84166457\n",
        "Total diff = 7689.84166457\n",
        "Total diff ="
       ]
      },
      {
       "output_type": "stream",
       "stream": "stdout",
       "text": [
        " 7689.84166457\n",
        "Total diff = 7689.84166457\n",
        "Total diff = 7689.84166457\n",
        "Total diff = 7689.84166457\n",
        "Total diff ="
       ]
      },
      {
       "output_type": "stream",
       "stream": "stdout",
       "text": [
        " 7689.84166457\n",
        "Total diff = 7689.84166457\n",
        "Total diff = 7689.84166457\n",
        "Total diff = 7689.84166457\n",
        "Total diff = 7689.84166457\n",
        "Total diff ="
       ]
      },
      {
       "output_type": "stream",
       "stream": "stdout",
       "text": [
        " 7689.84166457\n",
        "Total diff = 7689.84166457\n",
        "Total diff = 7689.84166457\n",
        "Total diff = 7689.84166457\n",
        "Total diff ="
       ]
      },
      {
       "output_type": "stream",
       "stream": "stdout",
       "text": [
        " 7689.84166457\n",
        "Total diff = 7689.84166457\n",
        "Total diff = 7689.84166457\n",
        "Total diff = 7689.84166457\n",
        "Total diff ="
       ]
      },
      {
       "output_type": "stream",
       "stream": "stdout",
       "text": [
        " 7689.84166457\n",
        "Total diff = 7689.84166457\n",
        "Total diff = 7689.84166457\n",
        "Total diff = 7689.84166457\n",
        "Total diff = 7689.84166457\n",
        "Total diff ="
       ]
      },
      {
       "output_type": "stream",
       "stream": "stdout",
       "text": [
        " 7689.84166457\n",
        "Total diff = 7689.84166457\n",
        "Total diff = 7689.84166457\n",
        "Total diff = 7689.84166457\n",
        "Total diff = 7689.84166457\n",
        "Total diff ="
       ]
      },
      {
       "output_type": "stream",
       "stream": "stdout",
       "text": [
        " 7689.84166457\n",
        "Total diff = 7689.84166457\n",
        "Total diff = 7689.84166457\n",
        "Total diff = 7689.84166457\n",
        "Total diff ="
       ]
      },
      {
       "output_type": "stream",
       "stream": "stdout",
       "text": [
        " 7689.84166457\n",
        "Total diff = 7689.84166457\n",
        "Total diff = 7689.84166457\n",
        "Total diff = 7689.84166457\n",
        "Total diff ="
       ]
      },
      {
       "output_type": "stream",
       "stream": "stdout",
       "text": [
        " 7689.84166457\n",
        "Total diff = 7689.84166457\n",
        "Total diff = 7689.84166457\n",
        "Total diff = 7689.84166457\n",
        "Total diff ="
       ]
      },
      {
       "output_type": "stream",
       "stream": "stdout",
       "text": [
        " 7689.84166457\n",
        "Total diff = 7689.84166457\n",
        "Total diff = 7689.84166457\n",
        "Total diff = 7689.84166457\n",
        "Total diff = 7689.84166457\n",
        "Total diff ="
       ]
      },
      {
       "output_type": "stream",
       "stream": "stdout",
       "text": [
        " 7689.84166457\n",
        "Total diff = 7689.84166457\n",
        "Total diff = 7689.84166457\n",
        "Total diff = 7689.84166457\n",
        "Total diff ="
       ]
      },
      {
       "output_type": "stream",
       "stream": "stdout",
       "text": [
        " 7689.84166457\n",
        "Total diff = 7689.84166457\n",
        "Total diff = 7689.84166457\n",
        "Total diff = 7689.84166457\n",
        "Total diff ="
       ]
      },
      {
       "output_type": "stream",
       "stream": "stdout",
       "text": [
        " 7689.84166457\n",
        "Total diff = 7689.84166457\n",
        "Total diff = 7689.84166457\n",
        "Total diff = 7689.84166457\n",
        "Total diff = 7689.84166457\n",
        "Total diff ="
       ]
      },
      {
       "output_type": "stream",
       "stream": "stdout",
       "text": [
        " 7689.84166457\n",
        "Total diff = 7689.84166457\n",
        "Total diff = 7689.84166457\n",
        "Total diff = 7689.84166457\n",
        "Total diff = 7689.84166457\n",
        "Total diff ="
       ]
      },
      {
       "output_type": "stream",
       "stream": "stdout",
       "text": [
        " 7689.84166457\n",
        "Total diff = 7689.84166457\n",
        "Total diff = 7689.84166457\n",
        "Total diff = 7689.84166457\n",
        "Total diff ="
       ]
      },
      {
       "output_type": "stream",
       "stream": "stdout",
       "text": [
        " 7689.84166457\n",
        "Total diff = 7689.84166457\n",
        "Total diff = 7689.84166457\n",
        "Total diff = 7689.84166457\n",
        "Total diff = 7689.84166457\n",
        "Total diff ="
       ]
      },
      {
       "output_type": "stream",
       "stream": "stdout",
       "text": [
        " 7689.84166457\n",
        "Total diff = 7689.84166457\n",
        "Total diff = 7689.84166457\n",
        "Total diff = 7689.84166457\n",
        "Total diff ="
       ]
      },
      {
       "output_type": "stream",
       "stream": "stdout",
       "text": [
        " 7689.84166457\n",
        "Total diff = 7689.84166457\n",
        "Total diff = 7689.84166457\n",
        "Total diff = 7689.84166457\n",
        "Total diff ="
       ]
      },
      {
       "output_type": "stream",
       "stream": "stdout",
       "text": [
        " 7689.84166457\n",
        "Total diff = 7689.84166457\n",
        "Total diff = 7689.84166457\n",
        "Total diff = 7689.84166457\n",
        "Total diff ="
       ]
      },
      {
       "output_type": "stream",
       "stream": "stdout",
       "text": [
        " 7689.84166457\n",
        "Total diff = 7689.84166457\n",
        "Total diff = 7689.84166457\n",
        "Total diff = 7689.84166457\n",
        "Total diff ="
       ]
      },
      {
       "output_type": "stream",
       "stream": "stdout",
       "text": [
        " 7689.84166457\n",
        "Total diff = 7689.84166457\n",
        "Total diff = 7689.84166457\n",
        "Total diff = 7689.84166457\n",
        "Total diff = 7689.84166457\n",
        "Total diff ="
       ]
      },
      {
       "output_type": "stream",
       "stream": "stdout",
       "text": [
        " 7689.84166457\n",
        "Total diff = 7689.84166457\n",
        "Total diff = 7689.84166457\n",
        "Total diff = 7689.84166457\n",
        "Total diff ="
       ]
      },
      {
       "output_type": "stream",
       "stream": "stdout",
       "text": [
        " 7689.84166457\n",
        "Total diff = 7689.84166457\n",
        "Total diff = 7689.84166457\n",
        "Total diff = 7689.84166457\n",
        "Total diff ="
       ]
      },
      {
       "output_type": "stream",
       "stream": "stdout",
       "text": [
        " 7689.84166457\n",
        "Total diff = 7689.84166457\n",
        "Total diff = 7689.84166457\n",
        "Total diff = 7689.84166457\n",
        "Total diff = 7689.84166457\n",
        "Total diff ="
       ]
      },
      {
       "output_type": "stream",
       "stream": "stdout",
       "text": [
        " 7689.84166457\n",
        "Total diff = 7689.84166457\n",
        "Total diff = 7689.84166457\n",
        "Total diff = 7689.84166457\n",
        "Total diff ="
       ]
      },
      {
       "output_type": "stream",
       "stream": "stdout",
       "text": [
        " 7689.84166457\n",
        "Total diff = 7689.84166457\n",
        "Total diff = 7689.84166457\n",
        "Total diff = 7689.84166457\n",
        "Total diff ="
       ]
      },
      {
       "output_type": "stream",
       "stream": "stdout",
       "text": [
        " 7689.84166457\n",
        "Total diff = 7689.84166457\n",
        "Total diff = 7689.84166457\n",
        "Total diff = 7689.84166457\n",
        "Total diff = 7689.84166457\n",
        "Total diff ="
       ]
      },
      {
       "output_type": "stream",
       "stream": "stdout",
       "text": [
        " 7689.84166457\n",
        "Total diff = 7689.84166457\n",
        "Total diff = 7689.84166457\n",
        "Total diff = 7689.84166457\n",
        "Total diff ="
       ]
      },
      {
       "output_type": "stream",
       "stream": "stdout",
       "text": [
        " 7689.84166457\n",
        "Total diff = 7689.84166457\n",
        "Total diff = 7689.84166457\n",
        "Total diff = 7689.84166457\n",
        "Total diff = 7689.84166457\n",
        "Total diff ="
       ]
      },
      {
       "output_type": "stream",
       "stream": "stdout",
       "text": [
        " 7689.84166457\n",
        "Total diff = 7689.84166457\n",
        "Total diff = 7689.84166457\n",
        "Total diff = 7689.84166457\n",
        "Total diff ="
       ]
      },
      {
       "output_type": "stream",
       "stream": "stdout",
       "text": [
        " 7689.84166457\n",
        "Total diff = 7689.84166457\n",
        "Total diff = 7689.84166457\n",
        "Total diff = 7689.84166457\n",
        "Total diff ="
       ]
      },
      {
       "output_type": "stream",
       "stream": "stdout",
       "text": [
        " 7689.84166457\n",
        "Total diff = 7689.84166457\n",
        "Total diff = 7689.84166457\n",
        "Total diff = 7689.84166457\n",
        "Total diff ="
       ]
      },
      {
       "output_type": "stream",
       "stream": "stdout",
       "text": [
        " 7689.84166457\n",
        "Total diff = 7689.84166457\n",
        "Total diff = 7689.84166457\n",
        "Total diff = 7689.84166457\n",
        "Total diff = 7689.84166457\n",
        "Total diff ="
       ]
      },
      {
       "output_type": "stream",
       "stream": "stdout",
       "text": [
        " 7689.84166457\n",
        "Total diff = 7689.84166457\n",
        "Total diff = 7689.84166457\n",
        "Total diff = 7689.84166457\n",
        "Total diff ="
       ]
      },
      {
       "output_type": "stream",
       "stream": "stdout",
       "text": [
        " 7689.84166457\n",
        "Total diff = 7689.84166457\n",
        "Total diff = 7689.84166457\n",
        "Total diff = 7689.84166457\n",
        "Total diff ="
       ]
      },
      {
       "output_type": "stream",
       "stream": "stdout",
       "text": [
        " 7689.84166457\n",
        "Total diff = 7689.84166457\n",
        "Total diff = 7689.84166457\n",
        "Total diff = 7689.84166457\n",
        "Total diff = 7689.84166457\n",
        "Total diff ="
       ]
      },
      {
       "output_type": "stream",
       "stream": "stdout",
       "text": [
        " 7689.84166457\n",
        "Total diff = 7689.84166457\n",
        "Total diff = 7689.84166457\n",
        "Total diff = 7689.84166457\n",
        "Total diff = 7689.84166457\n",
        "Total diff ="
       ]
      },
      {
       "output_type": "stream",
       "stream": "stdout",
       "text": [
        " 7689.84166457\n",
        "Total diff = 7689.84166457\n",
        "Total diff = 7689.84166457\n",
        "Total diff = 7689.84166457\n",
        "Total diff = 7689.84166457\n",
        "Total diff ="
       ]
      },
      {
       "output_type": "stream",
       "stream": "stdout",
       "text": [
        " 7689.84166457\n",
        "Total diff = 7689.84166457\n",
        "Total diff = 7689.84166457\n",
        "Total diff = 7689.84166457\n",
        "Total diff ="
       ]
      },
      {
       "output_type": "stream",
       "stream": "stdout",
       "text": [
        " 7689.84166457\n",
        "Total diff = 7689.84166457\n",
        "Total diff = 7689.84166457\n",
        "Total diff = 7689.84166457\n",
        "Total diff ="
       ]
      },
      {
       "output_type": "stream",
       "stream": "stdout",
       "text": [
        " 7689.84166457\n",
        "Total diff = 7689.84166457\n",
        "Total diff = 7689.84166457\n",
        "Total diff = 7689.84166457\n",
        "Total diff = 7689.84166457\n",
        "Total diff ="
       ]
      },
      {
       "output_type": "stream",
       "stream": "stdout",
       "text": [
        " 7689.84166457\n",
        "Total diff = 7689.84166457\n",
        "Total diff = 7689.84166457\n",
        "Total diff = 7689.84166457\n",
        "Total diff ="
       ]
      },
      {
       "output_type": "stream",
       "stream": "stdout",
       "text": [
        " 7689.84166457\n",
        "Total diff = 7689.84166457\n",
        "Total diff = 7689.84166457\n",
        "Total diff = 7689.84166457\n",
        "Total diff ="
       ]
      },
      {
       "output_type": "stream",
       "stream": "stdout",
       "text": [
        " 7689.84166457\n",
        "Total diff = 7689.84166457\n",
        "Total diff = 7689.84166457\n",
        "Total diff = 7689.84166457\n",
        "Total diff ="
       ]
      },
      {
       "output_type": "stream",
       "stream": "stdout",
       "text": [
        " 7689.84166457\n",
        "Total diff = 7689.84166457\n",
        "Total diff = 7689.84166457\n",
        "Total diff = 7689.84166457\n",
        "Total diff ="
       ]
      },
      {
       "output_type": "stream",
       "stream": "stdout",
       "text": [
        " 7689.84166457\n",
        "Total diff = 7689.84166457\n",
        "Total diff = 7689.84166457\n",
        "Total diff = 7689.84166457\n",
        "Total diff = 7689.84166457\n",
        "Total diff ="
       ]
      },
      {
       "output_type": "stream",
       "stream": "stdout",
       "text": [
        " 7689.84166457\n",
        "Total diff = 7689.84166457\n",
        "Total diff = 7689.84166457\n",
        "Total diff = 7689.84166457\n",
        "Total diff = 7689.84166457\n",
        "Total diff ="
       ]
      },
      {
       "output_type": "stream",
       "stream": "stdout",
       "text": [
        " 7689.84166457\n",
        "Total diff = 7689.84166457\n",
        "Total diff = 7689.84166457\n",
        "Total diff = 7689.84166457\n",
        "Total diff ="
       ]
      },
      {
       "output_type": "stream",
       "stream": "stdout",
       "text": [
        " 7689.84166457\n",
        "Total diff = 7689.84166457\n",
        "Total diff = 7689.84166457\n",
        "Total diff = 7689.84166457\n",
        "Total diff = 7689.84166457\n",
        "Total diff ="
       ]
      },
      {
       "output_type": "stream",
       "stream": "stdout",
       "text": [
        " 7689.84166457\n",
        "Total diff = 7689.84166457\n",
        "Total diff = 7689.84166457\n",
        "Total diff = 7689.84166457\n",
        "Total diff ="
       ]
      },
      {
       "output_type": "stream",
       "stream": "stdout",
       "text": [
        " 7689.84166457\n",
        "Total diff = 7689.84166457\n",
        "Total diff = 7689.84166457\n",
        "Total diff = 7689.84166457\n",
        "Total diff ="
       ]
      },
      {
       "output_type": "stream",
       "stream": "stdout",
       "text": [
        " 7689.84166457\n",
        "Total diff = 7689.84166457\n",
        "Total diff = 7689.84166457\n",
        "Total diff = 7689.84166457\n",
        "Total diff ="
       ]
      },
      {
       "output_type": "stream",
       "stream": "stdout",
       "text": [
        " 7689.84166457\n",
        "Total diff = 7689.84166457\n",
        "Total diff = 7689.84166457\n",
        "Total diff = 7689.84166457\n",
        "Total diff ="
       ]
      },
      {
       "output_type": "stream",
       "stream": "stdout",
       "text": [
        " 7689.84166457\n",
        "Total diff = 7689.84166457\n",
        "Total diff = 7689.84166457\n",
        "Total diff = 7689.84166457\n",
        "Total diff ="
       ]
      },
      {
       "output_type": "stream",
       "stream": "stdout",
       "text": [
        " 7689.84166457\n",
        "Total diff = 7689.84166457\n",
        "Total diff = 7689.84166457\n",
        "Total diff = 7689.84166457\n",
        "Total diff = 7689.84166457\n",
        "Total diff ="
       ]
      },
      {
       "output_type": "stream",
       "stream": "stdout",
       "text": [
        " 7689.84166457\n",
        "Total diff = 7689.84166457\n",
        "Total diff = 7689.84166457\n",
        "Total diff = 7689.84166457\n",
        "Total diff = 7689.84166457\n",
        "Total diff ="
       ]
      },
      {
       "output_type": "stream",
       "stream": "stdout",
       "text": [
        " 7689.84166457\n",
        "Total diff = 7689.84166457\n",
        "Total diff = 7689.84166457\n",
        "Total diff = 7689.84166457\n",
        "Total diff ="
       ]
      },
      {
       "output_type": "stream",
       "stream": "stdout",
       "text": [
        " 7689.84166457\n",
        "Total diff = 7689.84166457\n",
        "Total diff = 7689.84166457\n",
        "Total diff = 7689.84166457\n",
        "Total diff ="
       ]
      },
      {
       "output_type": "stream",
       "stream": "stdout",
       "text": [
        " 7689.84166457\n",
        "Total diff = 7689.84166457\n",
        "Total diff = 7689.84166457\n",
        "Total diff = 7689.84166457\n",
        "Total diff ="
       ]
      },
      {
       "output_type": "stream",
       "stream": "stdout",
       "text": [
        " 7689.84166457\n",
        "Total diff = 7689.84166457\n",
        "Total diff = 7689.84166457\n",
        "Total diff = 7689.84166457\n",
        "Total diff = 7689.84166457\n",
        "Total diff ="
       ]
      },
      {
       "output_type": "stream",
       "stream": "stdout",
       "text": [
        " 7689.84166457\n",
        "Total diff = 7689.84166457\n",
        "Total diff = 7689.84166457\n",
        "Total diff = 7689.84166457\n",
        "Total diff = 7689.84166457\n",
        "Total diff ="
       ]
      },
      {
       "output_type": "stream",
       "stream": "stdout",
       "text": [
        " 7689.84166457\n",
        "Total diff = 7689.84166457\n",
        "Total diff = 7689.84166457\n",
        "Total diff = 7689.84166457\n",
        "Total diff ="
       ]
      },
      {
       "output_type": "stream",
       "stream": "stdout",
       "text": [
        " 7689.84166457\n",
        "Total diff = 7689.84166457\n",
        "Total diff = 7689.84166457\n",
        "Total diff = 7689.84166457\n",
        "Total diff ="
       ]
      },
      {
       "output_type": "stream",
       "stream": "stdout",
       "text": [
        " 7689.84166457\n",
        "Total diff = 7689.84166457\n",
        "Total diff = 7689.84166457\n",
        "Total diff = 7689.84166457\n",
        "Total diff ="
       ]
      },
      {
       "output_type": "stream",
       "stream": "stdout",
       "text": [
        " 7689.84166457\n",
        "Total diff = 7689.84166457\n",
        "Total diff = 7689.84166457\n",
        "Total diff = 7689.84166457\n",
        "Total diff ="
       ]
      },
      {
       "output_type": "stream",
       "stream": "stdout",
       "text": [
        " 7689.84166457\n",
        "Total diff = 7689.84166457\n",
        "Total diff = 7689.84166457\n",
        "Total diff = 7689.84166457\n",
        "Total diff = 7689.84166457\n",
        "Total diff ="
       ]
      },
      {
       "output_type": "stream",
       "stream": "stdout",
       "text": [
        " 7689.84166457\n",
        "Total diff = 7689.84166457\n",
        "Total diff = 7689.84166457\n",
        "Total diff = 7689.84166457\n",
        "Total diff ="
       ]
      },
      {
       "output_type": "stream",
       "stream": "stdout",
       "text": [
        " 7689.84166457\n",
        "Total diff = 7689.84166457\n",
        "Total diff = 7689.84166457\n",
        "Total diff = 7689.84166457\n",
        "Total diff ="
       ]
      },
      {
       "output_type": "stream",
       "stream": "stdout",
       "text": [
        " 7689.84166457\n",
        "Total diff = 7689.84166457\n",
        "Total diff = 7689.84166457\n",
        "Total diff = 7689.84166457\n",
        "Total diff ="
       ]
      },
      {
       "output_type": "stream",
       "stream": "stdout",
       "text": [
        " 7689.84166457\n",
        "Total diff = 7689.84166457\n",
        "Total diff = 7689.84166457\n",
        "Total diff = 7689.84166457\n",
        "Total diff ="
       ]
      },
      {
       "output_type": "stream",
       "stream": "stdout",
       "text": [
        " 7689.84166457\n",
        "Total diff = 7689.84166457\n",
        "Total diff = 7689.84166457\n",
        "Total diff = 7689.84166457\n",
        "Total diff ="
       ]
      },
      {
       "output_type": "stream",
       "stream": "stdout",
       "text": [
        " 7689.84166457\n",
        "Total diff = 7689.84166457\n",
        "Total diff = 7689.84166457\n",
        "Total diff = 7689.84166457\n",
        "Total diff = 7689.84166457\n",
        "Total diff ="
       ]
      },
      {
       "output_type": "stream",
       "stream": "stdout",
       "text": [
        " 7689.84166457\n",
        "Total diff = 7689.84166457\n",
        "Total diff = 7689.84166457\n",
        "Total diff = 7689.84166457\n",
        "Total diff = 7689.84166457\n",
        "Total diff ="
       ]
      },
      {
       "output_type": "stream",
       "stream": "stdout",
       "text": [
        " 7689.84166457\n",
        "Total diff = 7689.84166457\n",
        "Total diff = 7689.84166457\n",
        "Total diff = 7689.84166457\n",
        "Total diff ="
       ]
      },
      {
       "output_type": "stream",
       "stream": "stdout",
       "text": [
        " 7689.84166457\n",
        "Total diff = 7689.84166457\n",
        "Total diff = 7689.84166457\n",
        "Total diff = 7689.84166457\n",
        "Total diff ="
       ]
      },
      {
       "output_type": "stream",
       "stream": "stdout",
       "text": [
        " 7689.84166457\n",
        "Total diff = 7689.84166457\n",
        "Total diff = 7689.84166457\n",
        "Total diff = 7689.84166457\n",
        "Total diff ="
       ]
      },
      {
       "output_type": "stream",
       "stream": "stdout",
       "text": [
        " 7689.84166457\n",
        "Total diff = 7689.84166457\n",
        "Total diff = 7689.84166457\n",
        "Total diff = 7689.84166457\n",
        "Total diff ="
       ]
      },
      {
       "output_type": "stream",
       "stream": "stdout",
       "text": [
        " 7689.84166457\n",
        "Total diff = 7689.84166457\n",
        "Total diff = 7689.84166457\n",
        "Total diff = 7689.84166457\n",
        "Total diff ="
       ]
      },
      {
       "output_type": "stream",
       "stream": "stdout",
       "text": [
        " 7689.84166457\n",
        "Total diff = 7689.84166457\n",
        "Total diff = 7689.84166457\n",
        "Total diff = 7689.84166457\n",
        "Total diff ="
       ]
      },
      {
       "output_type": "stream",
       "stream": "stdout",
       "text": [
        " 7689.84166457\n",
        "Total diff = 7689.84166457\n",
        "Total diff = 7689.84166457\n",
        "Total diff = 7689.84166457\n",
        "Total diff ="
       ]
      },
      {
       "output_type": "stream",
       "stream": "stdout",
       "text": [
        " 7689.84166457\n",
        "Total diff = 7689.84166457\n",
        "Total diff = 7689.84166457\n",
        "Total diff = 7689.84166457\n",
        "Total diff ="
       ]
      },
      {
       "output_type": "stream",
       "stream": "stdout",
       "text": [
        " 7689.84166457\n",
        "Total diff = 7689.84166457\n",
        "Total diff = 7689.84166457\n",
        "Total diff = 7689.84166457\n",
        "Total diff ="
       ]
      },
      {
       "output_type": "stream",
       "stream": "stdout",
       "text": [
        " 7689.84166457\n",
        "Total diff = 7689.84166457\n",
        "Total diff = 7689.84166457\n",
        "Total diff = 7689.84166457\n",
        "Total diff ="
       ]
      },
      {
       "output_type": "stream",
       "stream": "stdout",
       "text": [
        " 7689.84166457\n",
        "Total diff = 7689.84166457\n",
        "Total diff = 7689.84166457\n",
        "Total diff = 7689.84166457\n",
        "Total diff ="
       ]
      },
      {
       "output_type": "stream",
       "stream": "stdout",
       "text": [
        " 7689.84166457\n",
        "Total diff = 7689.84166457\n",
        "Total diff = 7689.84166457\n",
        "Total diff = 7689.84166457\n",
        "Total diff ="
       ]
      },
      {
       "output_type": "stream",
       "stream": "stdout",
       "text": [
        " 7689.84166457\n",
        "Total diff = 7689.84166457\n",
        "Total diff = 7689.84166457\n",
        "Total diff = 7689.84166457\n",
        "Total diff = 7689.84166457\n",
        "Total diff ="
       ]
      },
      {
       "output_type": "stream",
       "stream": "stdout",
       "text": [
        " 7689.84166457\n",
        "Total diff = 7689.84166457\n",
        "Total diff = 7689.84166457\n",
        "Total diff = 7689.84166457\n",
        "Total diff ="
       ]
      },
      {
       "output_type": "stream",
       "stream": "stdout",
       "text": [
        " 7689.84166457\n",
        "Total diff = 7689.84166457\n",
        "Total diff = 7689.84166457\n",
        "Total diff = 7689.84166457\n",
        "Total diff ="
       ]
      },
      {
       "output_type": "stream",
       "stream": "stdout",
       "text": [
        " 7689.84166457\n",
        "Total diff = 7689.84166457\n",
        "Total diff = 7689.84166457\n",
        "Total diff = 7689.84166457\n",
        "Total diff ="
       ]
      },
      {
       "output_type": "stream",
       "stream": "stdout",
       "text": [
        " 7689.84166457\n",
        "Total diff = 7689.84166457\n",
        "Total diff = 7689.84166457\n",
        "Total diff = 7689.84166457\n",
        "Total diff ="
       ]
      },
      {
       "output_type": "stream",
       "stream": "stdout",
       "text": [
        " 7689.84166457\n",
        "Total diff = 7689.84166457\n",
        "Total diff = 7689.84166457\n",
        "Total diff = 7689.84166457\n",
        "Total diff = 7689.84166457\n",
        "Total diff ="
       ]
      },
      {
       "output_type": "stream",
       "stream": "stdout",
       "text": [
        " 7689.84166457\n",
        "Total diff = 7689.84166457\n",
        "Total diff = 7689.84166457\n",
        "Total diff = 7689.84166457\n",
        "Total diff = 7689.84166457\n",
        "Total diff ="
       ]
      },
      {
       "output_type": "stream",
       "stream": "stdout",
       "text": [
        " 7689.84166457\n",
        "Total diff = 7689.84166457\n",
        "Total diff = 7689.84166457\n",
        "Total diff = 7689.84166457\n",
        "Total diff = 7689.84166457\n",
        "Total diff ="
       ]
      },
      {
       "output_type": "stream",
       "stream": "stdout",
       "text": [
        " 7689.84166457\n",
        "Total diff = 7689.84166457\n",
        "Total diff = 7689.84166457\n",
        "Total diff = 7689.84166457\n",
        "Total diff = 7689.84166457\n",
        "Total diff ="
       ]
      },
      {
       "output_type": "stream",
       "stream": "stdout",
       "text": [
        " 7689.84166457\n",
        "Total diff = 7689.84166457\n",
        "Total diff = 7689.84166457\n",
        "Total diff = 7689.84166457\n",
        "Total diff ="
       ]
      },
      {
       "output_type": "stream",
       "stream": "stdout",
       "text": [
        " 7689.84166457\n",
        "Total diff = 7689.84166457\n",
        "Total diff = 7689.84166457\n",
        "Total diff = 7689.84166457\n",
        "Total diff ="
       ]
      },
      {
       "output_type": "stream",
       "stream": "stdout",
       "text": [
        " 7689.84166457\n",
        "Total diff = 7689.84166457\n",
        "Total diff = 7689.84166457\n",
        "Total diff ="
       ]
      },
      {
       "output_type": "stream",
       "stream": "stdout",
       "text": [
        " 7689.84166457\n",
        "Total diff = 7689.84166457\n",
        "Total diff = 7689.84166457\n",
        "Total diff = 7689.84166457\n",
        "Total diff = 7689.84166457\n",
        "Total diff ="
       ]
      },
      {
       "output_type": "stream",
       "stream": "stdout",
       "text": [
        " 7689.84166457\n",
        "Total diff = 7689.84166457\n",
        "Total diff = 7689.84166457\n",
        "Total diff = 7689.84166457\n",
        "Total diff = 7689.84166457\n",
        "Total diff ="
       ]
      },
      {
       "output_type": "stream",
       "stream": "stdout",
       "text": [
        " 7689.84166457\n",
        "Total diff = 7689.84166457\n",
        "Total diff = 7689.84166457\n",
        "Total diff = 7689.84166457\n",
        "Total diff ="
       ]
      },
      {
       "output_type": "stream",
       "stream": "stdout",
       "text": [
        " 7689.84166457\n",
        "Total diff = 7689.84166457\n",
        "Total diff = 7689.84166457\n",
        "Total diff = 7689.84166457\n",
        "Total diff ="
       ]
      },
      {
       "output_type": "stream",
       "stream": "stdout",
       "text": [
        " 7689.84166457\n",
        "Total diff = 7689.84166457\n",
        "Total diff = 7689.84166457\n",
        "Total diff = 7689.84166457\n",
        "Total diff ="
       ]
      },
      {
       "output_type": "stream",
       "stream": "stdout",
       "text": [
        " 7689.84166457\n",
        "Total diff = 7689.84166457\n",
        "Total diff = 7689.84166457\n",
        "Total diff = 7689.84166457\n",
        "Total diff = 7689.84166457\n",
        "Total diff ="
       ]
      },
      {
       "output_type": "stream",
       "stream": "stdout",
       "text": [
        " 7689.84166457\n",
        "Total diff = 7689.84166457\n",
        "Total diff = 7689.84166457\n",
        "Total diff = 7689.84166457\n",
        "Total diff ="
       ]
      },
      {
       "output_type": "stream",
       "stream": "stdout",
       "text": [
        " 7689.84166457\n",
        "Total diff = 7689.84166457\n",
        "Total diff = 7689.84166457\n",
        "Total diff = 7689.84166457\n",
        "Total diff ="
       ]
      },
      {
       "output_type": "stream",
       "stream": "stdout",
       "text": [
        " 7689.84166457\n",
        "Total diff = 7689.84166457\n",
        "Total diff = 7689.84166457\n",
        "Total diff = 7689.84166457\n",
        "Total diff = 7689.84166457\n",
        "Total diff ="
       ]
      },
      {
       "output_type": "stream",
       "stream": "stdout",
       "text": [
        " 7689.84166457\n",
        "Total diff = 7689.84166457\n",
        "Total diff = 7689.84166457\n",
        "Total diff = 7689.84166457\n",
        "Total diff = 7689.84166457\n",
        "Total diff ="
       ]
      },
      {
       "output_type": "stream",
       "stream": "stdout",
       "text": [
        " 7689.84166457\n",
        "Total diff = 7689.84166457\n",
        "Total diff = 7689.84166457\n",
        "Total diff = 7689.84166457\n",
        "Total diff = 7689.84166457\n",
        "Total diff ="
       ]
      },
      {
       "output_type": "stream",
       "stream": "stdout",
       "text": [
        " 7689.84166457\n",
        "Total diff = 7689.84166457\n",
        "Total diff = 7689.84166457\n",
        "Total diff = 7689.84166457\n",
        "Total diff ="
       ]
      },
      {
       "output_type": "stream",
       "stream": "stdout",
       "text": [
        " 7689.84166457\n",
        "Total diff = 7689.84166457\n",
        "Total diff = 7689.84166457\n",
        "Total diff = 7689.84166457\n",
        "Total diff ="
       ]
      },
      {
       "output_type": "stream",
       "stream": "stdout",
       "text": [
        " 7689.84166457\n",
        "Total diff = 7689.84166457\n",
        "Total diff = 7689.84166457\n",
        "Total diff = 7689.84166457\n",
        "Total diff ="
       ]
      },
      {
       "output_type": "stream",
       "stream": "stdout",
       "text": [
        " 7689.84166457\n",
        "Total diff = 7689.84166457\n",
        "Total diff = 7689.84166457\n",
        "Total diff = 7689.84166457\n",
        "Total diff ="
       ]
      },
      {
       "output_type": "stream",
       "stream": "stdout",
       "text": [
        " 7689.84166457\n",
        "Total diff = 7689.84166457\n",
        "Total diff = 7689.84166457\n",
        "Total diff = 7689.84166457\n",
        "Total diff ="
       ]
      },
      {
       "output_type": "stream",
       "stream": "stdout",
       "text": [
        " 7689.84166457\n",
        "Total diff = 7689.84166457\n",
        "Total diff = 7689.84166457\n",
        "Total diff = 7689.84166457\n",
        "Total diff ="
       ]
      },
      {
       "output_type": "stream",
       "stream": "stdout",
       "text": [
        " 7689.84166457\n",
        "Total diff = 7689.84166457\n",
        "Total diff = 7689.84166457\n",
        "Total diff = 7689.84166457\n",
        "Total diff ="
       ]
      },
      {
       "output_type": "stream",
       "stream": "stdout",
       "text": [
        " 7689.84166457\n",
        "Total diff = 7689.84166457\n",
        "Total diff = 7689.84166457\n",
        "Total diff = 7689.84166457\n",
        "Total diff = 7689.84166457\n",
        "Total diff ="
       ]
      },
      {
       "output_type": "stream",
       "stream": "stdout",
       "text": [
        " 7689.84166457\n",
        "Total diff = 7689.84166457\n",
        "Total diff = 7689.84166457\n",
        "Total diff = 7689.84166457\n",
        "Total diff = 7689.84166457\n",
        "Total diff ="
       ]
      },
      {
       "output_type": "stream",
       "stream": "stdout",
       "text": [
        " 7689.84166457\n",
        "Total diff = 7689.84166457\n",
        "Total diff = 7689.84166457\n",
        "Total diff = 7689.84166457\n",
        "Total diff = 7689.84166457\n",
        "Total diff ="
       ]
      },
      {
       "output_type": "stream",
       "stream": "stdout",
       "text": [
        " 7689.84166457\n",
        "Total diff = 7689.84166457\n",
        "Total diff = 7689.84166457\n",
        "Total diff = 7689.84166457\n",
        "Total diff ="
       ]
      },
      {
       "output_type": "stream",
       "stream": "stdout",
       "text": [
        " 7689.84166457\n",
        "Total diff = 7689.84166457\n",
        "Total diff = 7689.84166457\n",
        "Total diff = 7689.84166457\n",
        "Total diff ="
       ]
      },
      {
       "output_type": "stream",
       "stream": "stdout",
       "text": [
        " 7689.84166457\n",
        "Total diff = 7689.84166457\n",
        "Total diff = 7689.84166457\n",
        "Total diff = 7689.84166457\n",
        "Total diff = 7689.84166457\n",
        "Total diff ="
       ]
      },
      {
       "output_type": "stream",
       "stream": "stdout",
       "text": [
        " 7689.84166457\n",
        "Total diff = 7689.84166457\n",
        "Total diff = 7689.84166457\n",
        "Total diff = 7689.84166457\n",
        "Total diff = 7689.84166457\n",
        "Total diff ="
       ]
      },
      {
       "output_type": "stream",
       "stream": "stdout",
       "text": [
        " 7689.84166457\n",
        "Total diff = 7689.84166457\n",
        "Total diff = 7689.84166457\n",
        "Total diff = 7689.84166457\n",
        "Total diff = 7689.84166457\n",
        "Total diff ="
       ]
      },
      {
       "output_type": "stream",
       "stream": "stdout",
       "text": [
        " 7689.84166457\n",
        "Total diff = 7689.84166457\n",
        "Total diff = 7689.84166457\n",
        "Total diff = 7689.84166457\n",
        "Total diff ="
       ]
      },
      {
       "output_type": "stream",
       "stream": "stdout",
       "text": [
        " 7689.84166457\n",
        "Total diff = 7689.84166457\n",
        "Total diff = 7689.84166457\n",
        "Total diff = 7689.84166457\n",
        "Total diff ="
       ]
      },
      {
       "output_type": "stream",
       "stream": "stdout",
       "text": [
        " 7689.84166457\n",
        "Total diff = 7689.84166457\n",
        "Total diff = 7689.84166457\n",
        "Total diff = 7689.84166457\n",
        "Total diff ="
       ]
      },
      {
       "output_type": "stream",
       "stream": "stdout",
       "text": [
        " 7689.84166457\n",
        "Total diff = 7689.84166457\n",
        "Total diff = 7689.84166457\n",
        "Total diff = 7689.84166457\n",
        "Total diff ="
       ]
      },
      {
       "output_type": "stream",
       "stream": "stdout",
       "text": [
        " 7689.84166457\n",
        "Total diff = 7689.84166457\n",
        "Total diff = 7689.84166457\n",
        "Total diff = 7689.84166457\n",
        "Total diff ="
       ]
      },
      {
       "output_type": "stream",
       "stream": "stdout",
       "text": [
        " 7689.84166457\n",
        "Total diff = 7689.84166457\n",
        "Total diff = 7689.84166457\n",
        "Total diff = 7689.84166457\n",
        "Total diff = 7689.84166457\n",
        "Total diff ="
       ]
      },
      {
       "output_type": "stream",
       "stream": "stdout",
       "text": [
        " 7689.84166457\n",
        "Total diff = 7689.84166457\n",
        "Total diff = 7689.84166457\n",
        "Total diff = 7689.84166457\n",
        "Total diff = 7689.84166457\n",
        "Total diff ="
       ]
      },
      {
       "output_type": "stream",
       "stream": "stdout",
       "text": [
        " 7689.84166457\n",
        "Total diff = 7689.84166457\n",
        "Total diff = 7689.84166457\n",
        "Total diff = 7689.84166457\n",
        "Total diff ="
       ]
      },
      {
       "output_type": "stream",
       "stream": "stdout",
       "text": [
        " 7689.84166457\n",
        "Total diff = 7689.84166457\n",
        "Total diff = 7689.84166457\n",
        "Total diff = 7689.84166457\n",
        "Total diff = 7689.84166457\n",
        "Total diff ="
       ]
      },
      {
       "output_type": "stream",
       "stream": "stdout",
       "text": [
        " 7689.84166457\n",
        "Total diff = 7689.84166457\n",
        "Total diff = 7689.84166457\n",
        "Total diff = 7689.84166457\n",
        "Total diff ="
       ]
      },
      {
       "output_type": "stream",
       "stream": "stdout",
       "text": [
        " 7689.84166457\n",
        "Total diff = 7689.84166457\n",
        "Total diff = 7689.84166457\n",
        "Total diff = 7689.84166457\n",
        "Total diff ="
       ]
      },
      {
       "output_type": "stream",
       "stream": "stdout",
       "text": [
        " 7689.84166457\n",
        "Total diff = 7689.84166457\n",
        "Total diff = 7689.84166457\n",
        "Total diff = 7689.84166457\n",
        "Total diff = 7689.84166457\n",
        "Total diff ="
       ]
      },
      {
       "output_type": "stream",
       "stream": "stdout",
       "text": [
        " 7689.84166457\n",
        "Total diff = 7689.84166457\n",
        "Total diff = 7689.84166457\n",
        "Total diff = 7689.84166457\n",
        "Total diff ="
       ]
      },
      {
       "output_type": "stream",
       "stream": "stdout",
       "text": [
        " 7689.84166457\n",
        "Total diff = 7689.84166457\n",
        "Total diff = 7689.84166457\n",
        "Total diff = 7689.84166457\n",
        "Total diff ="
       ]
      },
      {
       "output_type": "stream",
       "stream": "stdout",
       "text": [
        " 7689.84166457\n",
        "Total diff = 7689.84166457\n",
        "Total diff = 7689.84166457\n",
        "Total diff = 7689.84166457\n",
        "Total diff ="
       ]
      },
      {
       "output_type": "stream",
       "stream": "stdout",
       "text": [
        " 7689.84166457\n",
        "Total diff = 7689.84166457\n",
        "Total diff = 7689.84166457\n",
        "Total diff = 7689.84166457\n",
        "Total diff ="
       ]
      },
      {
       "output_type": "stream",
       "stream": "stdout",
       "text": [
        " 7689.84166457\n",
        "Total diff = 7689.84166457\n",
        "Total diff = 7689.84166457\n",
        "Total diff = 7689.84166457\n",
        "Total diff ="
       ]
      },
      {
       "output_type": "stream",
       "stream": "stdout",
       "text": [
        " 7689.84166457\n",
        "Total diff = 7689.84166457\n",
        "Total diff = 7689.84166457\n",
        "Total diff = 7689.84166457\n",
        "Total diff ="
       ]
      },
      {
       "output_type": "stream",
       "stream": "stdout",
       "text": [
        " 7689.84166457\n",
        "Total diff = 7689.84166457\n",
        "Total diff = 7689.84166457\n",
        "Total diff = 7689.84166457\n",
        "Total diff ="
       ]
      },
      {
       "output_type": "stream",
       "stream": "stdout",
       "text": [
        " 7689.84166457\n",
        "Total diff = 7689.84166457\n",
        "Total diff = 7689.84166457\n",
        "Total diff = 7689.84166457\n",
        "Total diff ="
       ]
      },
      {
       "output_type": "stream",
       "stream": "stdout",
       "text": [
        " 7689.84166457\n",
        "Total diff = 7689.84166457\n",
        "Total diff = 7689.84166457\n",
        "Total diff = 7689.84166457\n",
        "Total diff ="
       ]
      },
      {
       "output_type": "stream",
       "stream": "stdout",
       "text": [
        " 7689.84166457\n",
        "Total diff = 7689.84166457\n",
        "Total diff = 7689.84166457\n",
        "Total diff = 7689.84166457\n",
        "Total diff ="
       ]
      },
      {
       "output_type": "stream",
       "stream": "stdout",
       "text": [
        " 7689.84166457\n",
        "Total diff = 7689.84166457\n",
        "Total diff = 7689.84166457\n",
        "Total diff = 7689.84166457\n",
        "Total diff ="
       ]
      },
      {
       "output_type": "stream",
       "stream": "stdout",
       "text": [
        " 7689.84166457\n",
        "Total diff = 7689.84166457\n",
        "Total diff = 7689.84166457\n",
        "Total diff = 7689.84166457\n",
        "Total diff ="
       ]
      },
      {
       "output_type": "stream",
       "stream": "stdout",
       "text": [
        " 7689.84166457\n",
        "Total diff = 7689.84166457\n",
        "Total diff = 7689.84166457\n",
        "Total diff = 7689.84166457\n",
        "Total diff ="
       ]
      },
      {
       "output_type": "stream",
       "stream": "stdout",
       "text": [
        " 7689.84166457\n",
        "Total diff = 7689.84166457\n",
        "Total diff = 7689.84166457\n",
        "Total diff = 7689.84166457\n",
        "Total diff ="
       ]
      },
      {
       "output_type": "stream",
       "stream": "stdout",
       "text": [
        " 7689.84166457\n",
        "Total diff = 7689.84166457\n",
        "Total diff = 7689.84166457\n",
        "Total diff = 7689.84166457\n",
        "Total diff = 7689.84166457\n",
        "Total diff ="
       ]
      },
      {
       "output_type": "stream",
       "stream": "stdout",
       "text": [
        " 7689.84166457\n",
        "Total diff = 7689.84166457\n",
        "Total diff = 7689.84166457\n",
        "Total diff = 7689.84166457\n",
        "Total diff ="
       ]
      },
      {
       "output_type": "stream",
       "stream": "stdout",
       "text": [
        " 7689.84166457\n",
        "Total diff = 7689.84166457\n",
        "Total diff = 7689.84166457\n",
        "Total diff = 7689.84166457\n",
        "Total diff ="
       ]
      },
      {
       "output_type": "stream",
       "stream": "stdout",
       "text": [
        " 7689.84166457\n",
        "Total diff = 7689.84166457\n",
        "Total diff = 7689.84166457\n",
        "Total diff = 7689.84166457\n",
        "Total diff ="
       ]
      },
      {
       "output_type": "stream",
       "stream": "stdout",
       "text": [
        " 7689.84166457\n",
        "Total diff = 7689.84166457\n",
        "Total diff = 7689.84166457\n",
        "Total diff = 7689.84166457\n",
        "Total diff ="
       ]
      },
      {
       "output_type": "stream",
       "stream": "stdout",
       "text": [
        " 7689.84166457\n",
        "Total diff = 7689.84166457\n",
        "Total diff = 7689.84166457\n",
        "Total diff = 7689.84166457\n",
        "Total diff = 7689.84166457\n",
        "Total diff ="
       ]
      },
      {
       "output_type": "stream",
       "stream": "stdout",
       "text": [
        " 7689.84166457\n",
        "Total diff = 7689.84166457\n",
        "Total diff = 7689.84166457\n",
        "Total diff = 7689.84166457\n",
        "Total diff ="
       ]
      },
      {
       "output_type": "stream",
       "stream": "stdout",
       "text": [
        " 7689.84166457\n",
        "Total diff = 7689.84166457\n",
        "Total diff = 7689.84166457\n",
        "Total diff = 7689.84166457\n",
        "Total diff = 7689.84166457\n",
        "Total diff ="
       ]
      },
      {
       "output_type": "stream",
       "stream": "stdout",
       "text": [
        " 7689.84166457\n",
        "Total diff = 7689.84166457\n",
        "Total diff ="
       ]
      },
      {
       "output_type": "stream",
       "stream": "stdout",
       "text": [
        " 7689.84166457\n",
        "Total diff = 7689.84166457\n",
        "Total diff = 7689.84166457\n",
        "Total diff = 7689.84166457\n",
        "Total diff ="
       ]
      },
      {
       "output_type": "stream",
       "stream": "stdout",
       "text": [
        " 7689.84166457\n",
        "Total diff = 7689.84166457\n",
        "Total diff = 7689.84166457\n",
        "Total diff = 7689.84166457\n",
        "Total diff = 7689.84166457\n",
        "Total diff ="
       ]
      },
      {
       "output_type": "stream",
       "stream": "stdout",
       "text": [
        " 7689.84166457\n",
        "Total diff = 7689.84166457\n",
        "Total diff = 7689.84166457\n",
        "Total diff = 7689.84166457\n",
        "Total diff ="
       ]
      },
      {
       "output_type": "stream",
       "stream": "stdout",
       "text": [
        " 7689.84166457\n",
        "Total diff = 7689.84166457\n",
        "Total diff = 7689.84166457\n",
        "Total diff = 7689.84166457\n",
        "Total diff ="
       ]
      },
      {
       "output_type": "stream",
       "stream": "stdout",
       "text": [
        " 7689.84166457\n",
        "Total diff = 7689.84166457\n",
        "Total diff = 7689.84166457\n",
        "Total diff = 7689.84166457\n",
        "Total diff ="
       ]
      },
      {
       "output_type": "stream",
       "stream": "stdout",
       "text": [
        " 7689.84166457\n",
        "Total diff = 7689.84166457\n",
        "Total diff = 7689.84166457\n",
        "Total diff = 7689.84166457\n",
        "Total diff ="
       ]
      },
      {
       "output_type": "stream",
       "stream": "stdout",
       "text": [
        " 7689.84166457\n",
        "Total diff = 7689.84166457\n",
        "Total diff = 7689.84166457\n",
        "Total diff = 7689.84166457\n",
        "Total diff ="
       ]
      },
      {
       "output_type": "stream",
       "stream": "stdout",
       "text": [
        " 7689.84166457\n",
        "Total diff = 7689.84166457\n",
        "Total diff = 7689.84166457\n",
        "Total diff = 7689.84166457\n",
        "Total diff = 7689.84166457\n",
        "Total diff ="
       ]
      },
      {
       "output_type": "stream",
       "stream": "stdout",
       "text": [
        " 7689.84166457\n",
        "Total diff = 7689.84166457\n",
        "Total diff = 7689.84166457\n",
        "Total diff = 7689.84166457\n",
        "Total diff ="
       ]
      },
      {
       "output_type": "stream",
       "stream": "stdout",
       "text": [
        " 7689.84166457\n",
        "Total diff = 7689.84166457\n",
        "Total diff = 7689.84166457\n",
        "Total diff = 7689.84166457\n",
        "Total diff ="
       ]
      },
      {
       "output_type": "stream",
       "stream": "stdout",
       "text": [
        " 7689.84166457\n",
        "Total diff = 7689.84166457\n",
        "Total diff = 7689.84166457\n",
        "Total diff = 7689.84166457\n",
        "Total diff = 7689.84166457\n",
        "Total diff ="
       ]
      },
      {
       "output_type": "stream",
       "stream": "stdout",
       "text": [
        " 7689.84166457\n",
        "Total diff = 7689.84166457\n",
        "Total diff = 7689.84166457\n",
        "Total diff = 7689.84166457\n",
        "Total diff ="
       ]
      },
      {
       "output_type": "stream",
       "stream": "stdout",
       "text": [
        " 7689.84166457\n",
        "Total diff = 7689.84166457\n",
        "Total diff = 7689.84166457\n",
        "Total diff = 7689.84166457\n",
        "Total diff ="
       ]
      },
      {
       "output_type": "stream",
       "stream": "stdout",
       "text": [
        " 7689.84166457\n",
        "Total diff = 7689.84166457\n",
        "Total diff = 7689.84166457\n",
        "Total diff = 7689.84166457\n",
        "Total diff ="
       ]
      },
      {
       "output_type": "stream",
       "stream": "stdout",
       "text": [
        " 7689.84166457\n",
        "Total diff = 7689.84166457\n",
        "Total diff = 7689.84166457\n",
        "Total diff = 7689.84166457\n",
        "Total diff ="
       ]
      },
      {
       "output_type": "stream",
       "stream": "stdout",
       "text": [
        " 7689.84166457\n",
        "Total diff = 7689.84166457\n",
        "Total diff = 7689.84166457\n",
        "Total diff = 7689.84166457\n",
        "Total diff ="
       ]
      },
      {
       "output_type": "stream",
       "stream": "stdout",
       "text": [
        " 7689.84166457\n",
        "Total diff = 7689.84166457\n",
        "Total diff = 7689.84166457\n",
        "Total diff = 7689.84166457\n",
        "Total diff ="
       ]
      },
      {
       "output_type": "stream",
       "stream": "stdout",
       "text": [
        " 7689.84166457\n",
        "Total diff = 7689.84166457\n",
        "Total diff = 7689.84166457\n",
        "Total diff = 7689.84166457\n",
        "Total diff ="
       ]
      },
      {
       "output_type": "stream",
       "stream": "stdout",
       "text": [
        " 7689.84166457\n",
        "Total diff = 7689.84166457\n",
        "Total diff = 7689.84166457\n",
        "Total diff = 7689.84166457\n",
        "Total diff ="
       ]
      },
      {
       "output_type": "stream",
       "stream": "stdout",
       "text": [
        " 7689.84166457\n",
        "Total diff = 7689.84166457\n",
        "Total diff = 7689.84166457\n",
        "Total diff = 7689.84166457\n",
        "Total diff ="
       ]
      },
      {
       "output_type": "stream",
       "stream": "stdout",
       "text": [
        " 7689.84166457\n",
        "Total diff = 7689.84166457\n",
        "Total diff = 7689.84166457\n",
        "Total diff = 7689.84166457\n",
        "Total diff = 7689.84166457\n",
        "Total diff ="
       ]
      },
      {
       "output_type": "stream",
       "stream": "stdout",
       "text": [
        " 7689.84166457\n",
        "Total diff = 7689.84166457\n",
        "Total diff = 7689.84166457\n",
        "Total diff = 7689.84166457\n",
        "Total diff ="
       ]
      },
      {
       "output_type": "stream",
       "stream": "stdout",
       "text": [
        " 7689.84166457\n",
        "Total diff = 7689.84166457\n",
        "Total diff = 7689.84166457\n",
        "Total diff = 7689.84166457\n",
        "Total diff ="
       ]
      },
      {
       "output_type": "stream",
       "stream": "stdout",
       "text": [
        " 7689.84166457\n",
        "Total diff = 7689.84166457\n",
        "Total diff = 7689.84166457\n",
        "Total diff = 7689.84166457\n",
        "Total diff = 7689.84166457\n",
        "Total diff ="
       ]
      },
      {
       "output_type": "stream",
       "stream": "stdout",
       "text": [
        " 7689.84166457\n",
        "Total diff = 7689.84166457\n",
        "Total diff = 7689.84166457\n",
        "Total diff = 7689.84166457\n",
        "Total diff ="
       ]
      },
      {
       "output_type": "stream",
       "stream": "stdout",
       "text": [
        " 7689.84166457\n",
        "Total diff = 7689.84166457\n",
        "Total diff = 7689.84166457\n",
        "Total diff = 7689.84166457\n",
        "Total diff ="
       ]
      },
      {
       "output_type": "stream",
       "stream": "stdout",
       "text": [
        " 7689.84166457\n",
        "Total diff = 7689.84166457\n",
        "Total diff = 7689.84166457\n",
        "Total diff = 7689.84166457\n",
        "Total diff ="
       ]
      },
      {
       "output_type": "stream",
       "stream": "stdout",
       "text": [
        " 7689.84166457\n",
        "Total diff = 7689.84166457\n",
        "Total diff = 7689.84166457\n",
        "Total diff = 7689.84166457\n",
        "Total diff ="
       ]
      },
      {
       "output_type": "stream",
       "stream": "stdout",
       "text": [
        " 7689.84166457\n",
        "Total diff = 7689.84166457\n",
        "Total diff = 7689.84166457\n",
        "Total diff = 7689.84166457\n",
        "Total diff ="
       ]
      },
      {
       "output_type": "stream",
       "stream": "stdout",
       "text": [
        " 7689.84166457\n",
        "Total diff = 7689.84166457\n",
        "Total diff = 7689.84166457\n",
        "Total diff = 7689.84166457\n",
        "Total diff = 7689.84166457\n",
        "Total diff ="
       ]
      },
      {
       "output_type": "stream",
       "stream": "stdout",
       "text": [
        " 7689.84166457\n",
        "Total diff = 7689.84166457\n",
        "Total diff = 7689.84166457\n",
        "Total diff = 7689.84166457\n",
        "Total diff = 7689.84166457\n",
        "Total diff ="
       ]
      },
      {
       "output_type": "stream",
       "stream": "stdout",
       "text": [
        " 7689.84166457\n",
        "Total diff = 7689.84166457\n",
        "Total diff = 7689.84166457\n",
        "Total diff = 7689.84166457\n",
        "Total diff = 7689.84166457\n",
        "Total diff ="
       ]
      },
      {
       "output_type": "stream",
       "stream": "stdout",
       "text": [
        " 7689.84166457\n",
        "Total diff = 7689.84166457\n",
        "Total diff = 7689.84166457\n",
        "Total diff = 7689.84166457\n",
        "Total diff ="
       ]
      },
      {
       "output_type": "stream",
       "stream": "stdout",
       "text": [
        " 7689.84166457\n",
        "Total diff = 7689.84166457\n",
        "Total diff = 7689.84166457\n",
        "Total diff = 7689.84166457\n",
        "Total diff ="
       ]
      },
      {
       "output_type": "stream",
       "stream": "stdout",
       "text": [
        " 7689.84166457\n",
        "Total diff = 7689.84166457\n",
        "Total diff = 7689.84166457\n",
        "Total diff = 7689.84166457\n",
        "Total diff ="
       ]
      },
      {
       "output_type": "stream",
       "stream": "stdout",
       "text": [
        " 7689.84166457\n",
        "Total diff = 7689.84166457\n",
        "Total diff = 7689.84166457\n",
        "Total diff = 7689.84166457\n",
        "Total diff ="
       ]
      },
      {
       "output_type": "stream",
       "stream": "stdout",
       "text": [
        " 7689.84166457\n",
        "Total diff = 7689.84166457\n",
        "Total diff = 7689.84166457\n",
        "Total diff = 7689.84166457\n",
        "Total diff ="
       ]
      },
      {
       "output_type": "stream",
       "stream": "stdout",
       "text": [
        " 7689.84166457\n",
        "Total diff = 7689.84166457\n",
        "Total diff = 7689.84166457\n",
        "Total diff = 7689.84166457\n",
        "Total diff ="
       ]
      },
      {
       "output_type": "stream",
       "stream": "stdout",
       "text": [
        " 7689.84166457\n",
        "Total diff = 7689.84166457\n",
        "Total diff = 7689.84166457\n",
        "Total diff = 7689.84166457\n",
        "Total diff = 7689.84166457\n",
        "Total diff ="
       ]
      },
      {
       "output_type": "stream",
       "stream": "stdout",
       "text": [
        " 7689.84166457\n",
        "Total diff = 7689.84166457\n",
        "Total diff = 7689.84166457\n",
        "Total diff = 7689.84166457\n",
        "Total diff ="
       ]
      },
      {
       "output_type": "stream",
       "stream": "stdout",
       "text": [
        " 7689.84166457\n",
        "Total diff = 7689.84166457\n",
        "Total diff = 7689.84166457\n",
        "Total diff = 7689.84166457\n",
        "Total diff = 7689.84166457\n",
        "Total diff ="
       ]
      },
      {
       "output_type": "stream",
       "stream": "stdout",
       "text": [
        " 7689.84166457\n",
        "Total diff = 7689.84166457\n",
        "Total diff = 7689.84166457\n",
        "Total diff = 7689.84166457\n",
        "Total diff ="
       ]
      },
      {
       "output_type": "stream",
       "stream": "stdout",
       "text": [
        " 7689.84166457\n",
        "Total diff = 7689.84166457\n",
        "Total diff = 7689.84166457\n",
        "Total diff = 7689.84166457\n",
        "Total diff ="
       ]
      },
      {
       "output_type": "stream",
       "stream": "stdout",
       "text": [
        " 7689.84166457\n",
        "Total diff = 7689.84166457\n",
        "Total diff = 7689.84166457\n",
        "Total diff = 7689.84166457\n",
        "Total diff = 7689.84166457\n",
        "Total diff ="
       ]
      },
      {
       "output_type": "stream",
       "stream": "stdout",
       "text": [
        " 7689.84166457\n",
        "Total diff = 7689.84166457\n",
        "Total diff = 7689.84166457\n",
        "Total diff = 7689.84166457\n",
        "Total diff ="
       ]
      },
      {
       "output_type": "stream",
       "stream": "stdout",
       "text": [
        " 7689.84166457\n",
        "Total diff = 7689.84166457\n",
        "Total diff = 7689.84166457\n",
        "Total diff = 7689.84166457\n",
        "Total diff ="
       ]
      },
      {
       "output_type": "stream",
       "stream": "stdout",
       "text": [
        " 7689.84166457\n",
        "Total diff = 7689.84166457\n",
        "Total diff = 7689.84166457\n",
        "Total diff = 7689.84166457\n",
        "Total diff ="
       ]
      },
      {
       "output_type": "stream",
       "stream": "stdout",
       "text": [
        " 7689.84166457\n",
        "Total diff = 7689.84166457\n",
        "Total diff = 7689.84166457\n",
        "Total diff = 7689.84166457\n",
        "Total diff ="
       ]
      },
      {
       "output_type": "stream",
       "stream": "stdout",
       "text": [
        " 7689.84166457\n",
        "Total diff = 7689.84166457\n",
        "Total diff = 7689.84166457\n",
        "Total diff = 7689.84166457\n",
        "Total diff = 7689.84166457\n",
        "Total diff ="
       ]
      },
      {
       "output_type": "stream",
       "stream": "stdout",
       "text": [
        " 7689.84166457\n",
        "Total diff = 7689.84166457\n",
        "Total diff = 7689.84166457\n",
        "Total diff = 7689.84166457\n",
        "Total diff ="
       ]
      },
      {
       "output_type": "stream",
       "stream": "stdout",
       "text": [
        " 7689.84166457\n",
        "Total diff = 7689.84166457\n",
        "Total diff = 7689.84166457\n",
        "Total diff = 7689.84166457\n",
        "Total diff ="
       ]
      },
      {
       "output_type": "stream",
       "stream": "stdout",
       "text": [
        " 7689.84166457\n",
        "Total diff = 7689.84166457\n",
        "Total diff = 7689.84166457\n",
        "Total diff = 7689.84166457\n",
        "Total diff ="
       ]
      },
      {
       "output_type": "stream",
       "stream": "stdout",
       "text": [
        " 7689.84166457\n",
        "Total diff = 7689.84166457\n",
        "Total diff = 7689.84166457\n",
        "Total diff = 7689.84166457\n",
        "Total diff ="
       ]
      },
      {
       "output_type": "stream",
       "stream": "stdout",
       "text": [
        " 7689.84166457\n",
        "Total diff = 7689.84166457\n",
        "Total diff = 7689.84166457\n",
        "Total diff = 7689.84166457\n",
        "Total diff ="
       ]
      },
      {
       "output_type": "stream",
       "stream": "stdout",
       "text": [
        " 7689.84166457\n",
        "Total diff = 7689.84166457\n",
        "Total diff = 7689.84166457\n",
        "Total diff = 7689.84166457\n",
        "Total diff ="
       ]
      },
      {
       "output_type": "stream",
       "stream": "stdout",
       "text": [
        " 7689.84166457\n",
        "Total diff = 7689.84166457\n",
        "Total diff = 7689.84166457\n",
        "Total diff = 7689.84166457\n",
        "Total diff ="
       ]
      },
      {
       "output_type": "stream",
       "stream": "stdout",
       "text": [
        " 7689.84166457\n",
        "Total diff = 7689.84166457\n",
        "Total diff = 7689.84166457\n",
        "Total diff = 7689.84166457\n",
        "Total diff ="
       ]
      },
      {
       "output_type": "stream",
       "stream": "stdout",
       "text": [
        " 7689.84166457\n",
        "Total diff = 7689.84166457\n",
        "Total diff = 7689.84166457\n",
        "Total diff = 7689.84166457\n",
        "Total diff ="
       ]
      },
      {
       "output_type": "stream",
       "stream": "stdout",
       "text": [
        " 7689.84166457\n",
        "Total diff = 7689.84166457\n",
        "Total diff = 7689.84166457\n",
        "Total diff = 7689.84166457\n",
        "Total diff ="
       ]
      },
      {
       "output_type": "stream",
       "stream": "stdout",
       "text": [
        " 7689.84166457\n",
        "Total diff = 7689.84166457\n",
        "Total diff = 7689.84166457\n",
        "Total diff = 7689.84166457\n",
        "Total diff = 7689.84166457\n",
        "Total diff ="
       ]
      },
      {
       "output_type": "stream",
       "stream": "stdout",
       "text": [
        " 7689.84166457\n",
        "Total diff = 7689.84166457\n",
        "Total diff = 7689.84166457\n",
        "Total diff = 7689.84166457\n",
        "Total diff ="
       ]
      },
      {
       "output_type": "stream",
       "stream": "stdout",
       "text": [
        " 7689.84166457\n",
        "Total diff = 7689.84166457\n",
        "Total diff = 7689.84166457\n",
        "Total diff = 7689.84166457\n",
        "Total diff = 7689.84166457\n",
        "Total diff ="
       ]
      },
      {
       "output_type": "stream",
       "stream": "stdout",
       "text": [
        " 7689.84166457\n",
        "Total diff = 7689.84166457\n",
        "Total diff = 7689.84166457\n",
        "Total diff = 7689.84166457\n",
        "Total diff ="
       ]
      },
      {
       "output_type": "stream",
       "stream": "stdout",
       "text": [
        " 7689.84166457\n",
        "Total diff = 7689.84166457\n",
        "Total diff = 7689.84166457\n",
        "Total diff = 7689.84166457\n",
        "Total diff = 7689.84166457\n",
        "Total diff ="
       ]
      },
      {
       "output_type": "stream",
       "stream": "stdout",
       "text": [
        " 7689.84166457\n",
        "Total diff = 7689.84166457\n",
        "Total diff = 7689.84166457\n",
        "Total diff = 7689.84166457\n",
        "Total diff = 7689.84166457\n",
        "Total diff ="
       ]
      },
      {
       "output_type": "stream",
       "stream": "stdout",
       "text": [
        " 7689.84166457\n",
        "Total diff = 7689.84166457\n",
        "Total diff = 7689.84166457\n",
        "Total diff = 7689.84166457\n",
        "Total diff ="
       ]
      },
      {
       "output_type": "stream",
       "stream": "stdout",
       "text": [
        " 7689.84166457\n",
        "Total diff = 7689.84166457\n",
        "Total diff = 7689.84166457\n",
        "Total diff = 7689.84166457\n",
        "Total diff ="
       ]
      },
      {
       "output_type": "stream",
       "stream": "stdout",
       "text": [
        " 7689.84166457\n",
        "Total diff = 7689.84166457\n",
        "Total diff = 7689.84166457\n",
        "Total diff = 7689.84166457\n",
        "Total diff ="
       ]
      },
      {
       "output_type": "stream",
       "stream": "stdout",
       "text": [
        " 7689.84166457\n",
        "Total diff = 7689.84166457\n",
        "Total diff = 7689.84166457\n",
        "Total diff = 7689.84166457\n",
        "Total diff ="
       ]
      },
      {
       "output_type": "stream",
       "stream": "stdout",
       "text": [
        " 7689.84166457\n",
        "Total diff = 7689.84166457\n",
        "Total diff = 7689.84166457\n",
        "Total diff = 7689.84166457\n",
        "Total diff = 7689.84166457\n",
        "Total diff ="
       ]
      },
      {
       "output_type": "stream",
       "stream": "stdout",
       "text": [
        " 7689.84166457\n",
        "Total diff = 7689.84166457\n",
        "Total diff = 7689.84166457\n",
        "Total diff = 7689.84166457\n",
        "Total diff = 7689.84166457\n",
        "Total diff ="
       ]
      },
      {
       "output_type": "stream",
       "stream": "stdout",
       "text": [
        " 7689.84166457\n",
        "Total diff = 7689.84166457\n",
        "Total diff = 7689.84166457\n",
        "Total diff = 7689.84166457\n",
        "Total diff = 7689.84166457\n",
        "Total diff ="
       ]
      },
      {
       "output_type": "stream",
       "stream": "stdout",
       "text": [
        " 7689.84166457\n",
        "Total diff = 7689.84166457\n",
        "Total diff = 7689.84166457\n",
        "Total diff = 7689.84166457\n",
        "Total diff = 7689.84166457\n",
        "Total diff ="
       ]
      },
      {
       "output_type": "stream",
       "stream": "stdout",
       "text": [
        " 7689.84166457\n",
        "Total diff = 7689.84166457\n",
        "Total diff = 7689.84166457\n",
        "Total diff = 7689.84166457\n",
        "Total diff ="
       ]
      },
      {
       "output_type": "stream",
       "stream": "stdout",
       "text": [
        " 7689.84166457\n",
        "Total diff = 7689.84166457\n",
        "Total diff = 7689.84166457\n",
        "Total diff = 7689.84166457\n",
        "Total diff ="
       ]
      },
      {
       "output_type": "stream",
       "stream": "stdout",
       "text": [
        " 7689.84166457\n",
        "Total diff = 7689.84166457\n",
        "Total diff = 7689.84166457\n",
        "Total diff = 7689.84166457\n",
        "Total diff = 7689.84166457\n",
        "Total diff ="
       ]
      },
      {
       "output_type": "stream",
       "stream": "stdout",
       "text": [
        " 7689.84166457\n",
        "Total diff = 7689.84166457\n",
        "Total diff = 7689.84166457\n",
        "Total diff = 7689.84166457\n",
        "Total diff ="
       ]
      },
      {
       "output_type": "stream",
       "stream": "stdout",
       "text": [
        " 7689.84166457\n",
        "Total diff = 7689.84166457\n",
        "Total diff = 7689.84166457\n",
        "Total diff = 7689.84166457\n",
        "Total diff ="
       ]
      },
      {
       "output_type": "stream",
       "stream": "stdout",
       "text": [
        " 7689.84166457\n",
        "Total diff = 7689.84166457\n",
        "Total diff = 7689.84166457\n",
        "Total diff = 7689.84166457\n",
        "Total diff = 7689.84166457\n",
        "Total diff ="
       ]
      },
      {
       "output_type": "stream",
       "stream": "stdout",
       "text": [
        " 7689.84166457\n",
        "Total diff = 7689.84166457\n",
        "Total diff = 7689.84166457\n",
        "Total diff = 7689.84166457\n",
        "Total diff = 7689.84166457\n",
        "Total diff ="
       ]
      },
      {
       "output_type": "stream",
       "stream": "stdout",
       "text": [
        " 7689.84166457\n",
        "Total diff = 7689.84166457\n",
        "Total diff = 7689.84166457\n",
        "Total diff = 7689.84166457\n",
        "Total diff = 7689.84166457\n",
        "Total diff ="
       ]
      },
      {
       "output_type": "stream",
       "stream": "stdout",
       "text": [
        " 7689.84166457\n",
        "Total diff = 7689.84166457\n",
        "Total diff = 7689.84166457\n",
        "Total diff = 7689.84166457\n",
        "Total diff ="
       ]
      },
      {
       "output_type": "stream",
       "stream": "stdout",
       "text": [
        " 7689.84166457\n",
        "Total diff = 7689.84166457\n",
        "Total diff = 7689.84166457\n",
        "Total diff = 7689.84166457\n",
        "Total diff = 7689.84166457\n",
        "Total diff ="
       ]
      },
      {
       "output_type": "stream",
       "stream": "stdout",
       "text": [
        " 7689.84166457\n",
        "Total diff = 7689.84166457\n",
        "Total diff = 7689.84166457\n",
        "Total diff = 7689.84166457\n",
        "Total diff ="
       ]
      },
      {
       "output_type": "stream",
       "stream": "stdout",
       "text": [
        " 7689.84166457\n",
        "Total diff = 7689.84166457\n",
        "Total diff = 7689.84166457\n",
        "Total diff = 7689.84166457\n",
        "Total diff = 7689.84166457\n",
        "Total diff ="
       ]
      },
      {
       "output_type": "stream",
       "stream": "stdout",
       "text": [
        " 7689.84166457\n",
        "Total diff = 7689.84166457\n",
        "Total diff = 7689.84166457\n",
        "Total diff = 7689.84166457\n",
        "Total diff = 7689.84166457\n",
        "Total diff ="
       ]
      },
      {
       "output_type": "stream",
       "stream": "stdout",
       "text": [
        " 7689.84166457\n",
        "Total diff = 7689.84166457\n",
        "Total diff = 7689.84166457\n",
        "Total diff = 7689.84166457\n",
        "Total diff ="
       ]
      },
      {
       "output_type": "stream",
       "stream": "stdout",
       "text": [
        " 7689.84166457\n",
        "Total diff = 7689.84166457\n",
        "Total diff = 7689.84166457\n",
        "Total diff = 7689.84166457\n",
        "Total diff ="
       ]
      },
      {
       "output_type": "stream",
       "stream": "stdout",
       "text": [
        " 7689.84166457\n",
        "Total diff = 7689.84166457\n",
        "Total diff = 7689.84166457\n",
        "Total diff = 7689.84166457\n",
        "Total diff = 7689.84166457\n",
        "Total diff ="
       ]
      },
      {
       "output_type": "stream",
       "stream": "stdout",
       "text": [
        " 7689.84166457\n",
        "Total diff = 7689.84166457\n",
        "Total diff = 7689.84166457\n",
        "Total diff = 7689.84166457\n",
        "Total diff ="
       ]
      },
      {
       "output_type": "stream",
       "stream": "stdout",
       "text": [
        " 7689.84166457\n",
        "Total diff = 7689.84166457\n",
        "Total diff = 7689.84166457\n",
        "Total diff = 7689.84166457\n",
        "Total diff ="
       ]
      },
      {
       "output_type": "stream",
       "stream": "stdout",
       "text": [
        " 7689.84166457\n",
        "Total diff = 7689.84166457\n",
        "Total diff = 7689.84166457\n",
        "Total diff = 7689.84166457\n",
        "Total diff = 7689.84166457\n",
        "Total diff ="
       ]
      },
      {
       "output_type": "stream",
       "stream": "stdout",
       "text": [
        " 7689.84166457\n",
        "Total diff = 7689.84166457\n",
        "Total diff = 7689.84166457\n",
        "Total diff = 7689.84166457\n",
        "Total diff ="
       ]
      },
      {
       "output_type": "stream",
       "stream": "stdout",
       "text": [
        " 7689.84166457\n",
        "Total diff = 7689.84166457\n",
        "Total diff = 7689.84166457\n",
        "Total diff = 7689.84166457\n",
        "Total diff = 7689.84166457\n",
        "Total diff ="
       ]
      },
      {
       "output_type": "stream",
       "stream": "stdout",
       "text": [
        " 7689.84166457\n",
        "Total diff = 7689.84166457\n",
        "Total diff = 7689.84166457\n",
        "Total diff = 7689.84166457\n",
        "Total diff ="
       ]
      },
      {
       "output_type": "stream",
       "stream": "stdout",
       "text": [
        " 7689.84166457\n",
        "Total diff = 7689.84166457\n",
        "Total diff = 7689.84166457\n",
        "Total diff = 7689.84166457\n",
        "Total diff ="
       ]
      },
      {
       "output_type": "stream",
       "stream": "stdout",
       "text": [
        " 7689.84166457\n",
        "Total diff = 7689.84166457\n",
        "Total diff = 7689.84166457\n",
        "Total diff = 7689.84166457\n",
        "Total diff ="
       ]
      },
      {
       "output_type": "stream",
       "stream": "stdout",
       "text": [
        " 7689.84166457\n",
        "Total diff = 7689.84166457\n",
        "Total diff = 7689.84166457\n",
        "Total diff ="
       ]
      },
      {
       "output_type": "stream",
       "stream": "stdout",
       "text": [
        " 7689.84166457\n",
        "Total diff = 7689.84166457\n",
        "Total diff = 7689.84166457\n",
        "Total diff = 7689.84166457\n",
        "Total diff = 7689.84166457\n",
        "Total diff ="
       ]
      },
      {
       "output_type": "stream",
       "stream": "stdout",
       "text": [
        " 7689.84166457\n",
        "Total diff = 7689.84166457\n",
        "Total diff = 7689.84166457\n",
        "Total diff = 7689.84166457\n",
        "Total diff ="
       ]
      },
      {
       "output_type": "stream",
       "stream": "stdout",
       "text": [
        " 7689.84166457\n",
        "Total diff = 7689.84166457\n",
        "Total diff = 7689.84166457\n",
        "Total diff = 7689.84166457\n",
        "Total diff = 7689.84166457\n",
        "Total diff ="
       ]
      },
      {
       "output_type": "stream",
       "stream": "stdout",
       "text": [
        " 7689.84166457\n",
        "Total diff = 7689.84166457\n",
        "Total diff = 7689.84166457\n",
        "Total diff = 7689.84166457\n",
        "Total diff ="
       ]
      },
      {
       "output_type": "stream",
       "stream": "stdout",
       "text": [
        " 7689.84166457\n",
        "Total diff = 7689.84166457\n",
        "Total diff = 7689.84166457\n",
        "Total diff = 7689.84166457\n",
        "Total diff = 7689.84166457\n",
        "Total diff ="
       ]
      },
      {
       "output_type": "stream",
       "stream": "stdout",
       "text": [
        " 7689.84166457\n",
        "Total diff = 7689.84166457\n",
        "Total diff = 7689.84166457\n",
        "Total diff = 7689.84166457\n",
        "Total diff ="
       ]
      },
      {
       "output_type": "stream",
       "stream": "stdout",
       "text": [
        " 7689.84166457\n",
        "Total diff = 7689.84166457\n",
        "Total diff = 7689.84166457\n",
        "Total diff = 7689.84166457\n",
        "Total diff ="
       ]
      },
      {
       "output_type": "stream",
       "stream": "stdout",
       "text": [
        " 7689.84166457\n",
        "Total diff = 7689.84166457\n",
        "Total diff = 7689.84166457\n",
        "Total diff = 7689.84166457\n",
        "Total diff ="
       ]
      },
      {
       "output_type": "stream",
       "stream": "stdout",
       "text": [
        " 7689.84166457\n",
        "Total diff = 7689.84166457\n",
        "Total diff = 7689.84166457\n",
        "Total diff = 7689.84166457\n",
        "Total diff = 7689.84166457\n",
        "Total diff ="
       ]
      },
      {
       "output_type": "stream",
       "stream": "stdout",
       "text": [
        " 7689.84166457\n",
        "Total diff = 7689.84166457\n",
        "Total diff = 7689.84166457\n",
        "Total diff = 7689.84166457\n",
        "Total diff = 7689.84166457\n",
        "Total diff ="
       ]
      },
      {
       "output_type": "stream",
       "stream": "stdout",
       "text": [
        " 7689.84166457\n",
        "Total diff = 7689.84166457\n",
        "Total diff = 7689.84166457\n",
        "Total diff = 7689.84166457\n",
        "Total diff ="
       ]
      },
      {
       "output_type": "stream",
       "stream": "stdout",
       "text": [
        " 7689.84166457\n",
        "Total diff = 7689.84166457\n",
        "Total diff = 7689.84166457\n",
        "Total diff = 7689.84166457\n",
        "Total diff ="
       ]
      },
      {
       "output_type": "stream",
       "stream": "stdout",
       "text": [
        " 7689.84166457\n",
        "Total diff = 7689.84166457\n",
        "Total diff = 7689.84166457\n",
        "Total diff = 7689.84166457\n",
        "Total diff ="
       ]
      },
      {
       "output_type": "stream",
       "stream": "stdout",
       "text": [
        " 7689.84166457\n",
        "Total diff = 7689.84166457\n",
        "Total diff = 7689.84166457\n",
        "Total diff = 7689.84166457\n",
        "Total diff ="
       ]
      },
      {
       "output_type": "stream",
       "stream": "stdout",
       "text": [
        " 7689.84166457\n",
        "Total diff = 7689.84166457\n",
        "Total diff = 7689.84166457\n",
        "Total diff = 7689.84166457\n",
        "Total diff ="
       ]
      },
      {
       "output_type": "stream",
       "stream": "stdout",
       "text": [
        " 7689.84166457\n",
        "Total diff = 7689.84166457\n",
        "Total diff = 7689.84166457\n",
        "Total diff = 7689.84166457\n",
        "Total diff ="
       ]
      },
      {
       "output_type": "stream",
       "stream": "stdout",
       "text": [
        " 7689.84166457\n",
        "Total diff = 7689.84166457\n",
        "Total diff = 7689.84166457\n",
        "Total diff = 7689.84166457\n",
        "Total diff ="
       ]
      },
      {
       "output_type": "stream",
       "stream": "stdout",
       "text": [
        " 7689.84166457\n",
        "Total diff = 7689.84166457\n",
        "Total diff = 7689.84166457\n",
        "Total diff = 7689.84166457\n",
        "Total diff ="
       ]
      },
      {
       "output_type": "stream",
       "stream": "stdout",
       "text": [
        " 7689.84166457\n",
        "Total diff = 7689.84166457\n",
        "Total diff = 7689.84166457\n",
        "Total diff = 7689.84166457\n",
        "Total diff ="
       ]
      },
      {
       "output_type": "stream",
       "stream": "stdout",
       "text": [
        " 7689.84166457\n",
        "Total diff = 7689.84166457\n",
        "Total diff = 7689.84166457\n",
        "Total diff = 7689.84166457\n",
        "Total diff ="
       ]
      },
      {
       "output_type": "stream",
       "stream": "stdout",
       "text": [
        " 7689.84166457\n",
        "Total diff = 7689.84166457\n",
        "Total diff = 7689.84166457\n",
        "Total diff = 7689.84166457\n",
        "Total diff ="
       ]
      },
      {
       "output_type": "stream",
       "stream": "stdout",
       "text": [
        " 7689.84166457\n",
        "Total diff = 7689.84166457\n",
        "Total diff = 7689.84166457\n",
        "Total diff = 7689.84166457\n",
        "Total diff ="
       ]
      },
      {
       "output_type": "stream",
       "stream": "stdout",
       "text": [
        " 7689.84166457\n",
        "Total diff = 7689.84166457\n",
        "Total diff = 7689.84166457\n",
        "Total diff = 7689.84166457\n",
        "Total diff ="
       ]
      },
      {
       "output_type": "stream",
       "stream": "stdout",
       "text": [
        " 7689.84166457\n",
        "Total diff = 7689.84166457\n",
        "Total diff = 7689.84166457\n",
        "Total diff = 7689.84166457\n",
        "Total diff = 7689.84166457\n",
        "Total diff ="
       ]
      },
      {
       "output_type": "stream",
       "stream": "stdout",
       "text": [
        " 7689.84166457\n",
        "Total diff = 7689.84166457\n",
        "Total diff = 7689.84166457\n",
        "Total diff = 7689.84166457\n",
        "Total diff ="
       ]
      },
      {
       "output_type": "stream",
       "stream": "stdout",
       "text": [
        " 7689.84166457\n",
        "Total diff = 7689.84166457\n",
        "Total diff = 7689.84166457\n",
        "Total diff = 7689.84166457\n",
        "Total diff = 7689.84166457\n",
        "Total diff ="
       ]
      },
      {
       "output_type": "stream",
       "stream": "stdout",
       "text": [
        " 7689.84166457\n",
        "Total diff = 7689.84166457\n",
        "Total diff = 7689.84166457\n",
        "Total diff = 7689.84166457\n",
        "Total diff = 7689.84166457\n",
        "Total diff ="
       ]
      },
      {
       "output_type": "stream",
       "stream": "stdout",
       "text": [
        " 7689.84166457\n",
        "Total diff = 7689.84166457\n",
        "Total diff = 7689.84166457\n",
        "Total diff = 7689.84166457\n",
        "Total diff ="
       ]
      },
      {
       "output_type": "stream",
       "stream": "stdout",
       "text": [
        " 7689.84166457\n",
        "Total diff = 7689.84166457\n",
        "Total diff = 7689.84166457\n",
        "Total diff = 7689.84166457\n",
        "Total diff = 7689.84166457\n",
        "Total diff ="
       ]
      },
      {
       "output_type": "stream",
       "stream": "stdout",
       "text": [
        " 7689.84166457\n",
        "Total diff = 7689.84166457\n",
        "Total diff = 7689.84166457\n",
        "Total diff = 7689.84166457\n",
        "Total diff ="
       ]
      },
      {
       "output_type": "stream",
       "stream": "stdout",
       "text": [
        " 7689.84166457\n",
        "Total diff = 7689.84166457\n",
        "Total diff = 7689.84166457\n",
        "Total diff = 7689.84166457\n",
        "Total diff ="
       ]
      },
      {
       "output_type": "stream",
       "stream": "stdout",
       "text": [
        " 7689.84166457\n",
        "Total diff = 7689.84166457\n",
        "Total diff = 7689.84166457\n",
        "Total diff = 7689.84166457\n",
        "Total diff ="
       ]
      },
      {
       "output_type": "stream",
       "stream": "stdout",
       "text": [
        " 7689.84166457\n",
        "Total diff = 7689.84166457\n",
        "Total diff = 7689.84166457\n",
        "Total diff = 7689.84166457\n",
        "Total diff ="
       ]
      },
      {
       "output_type": "stream",
       "stream": "stdout",
       "text": [
        " 7689.84166457\n",
        "Total diff = 7689.84166457\n",
        "Total diff = 7689.84166457\n",
        "Total diff = 7689.84166457\n",
        "Total diff ="
       ]
      },
      {
       "output_type": "stream",
       "stream": "stdout",
       "text": [
        " 7689.84166457\n",
        "Total diff = 7689.84166457\n",
        "Total diff = 7689.84166457\n",
        "Total diff = 7689.84166457\n",
        "Total diff ="
       ]
      },
      {
       "output_type": "stream",
       "stream": "stdout",
       "text": [
        " 7689.84166457\n",
        "Total diff = 7689.84166457\n",
        "Total diff = 7689.84166457\n",
        "Total diff = 7689.84166457\n",
        "Total diff ="
       ]
      },
      {
       "output_type": "stream",
       "stream": "stdout",
       "text": [
        " 7689.84166457\n",
        "Total diff = 7689.84166457\n",
        "Total diff = 7689.84166457\n",
        "Total diff = 7689.84166457\n",
        "Total diff = 7689.84166457\n",
        "Total diff ="
       ]
      },
      {
       "output_type": "stream",
       "stream": "stdout",
       "text": [
        " 7689.84166457\n",
        "Total diff = 7689.84166457\n",
        "Total diff = 7689.84166457\n",
        "Total diff = 7689.84166457\n",
        "Total diff ="
       ]
      },
      {
       "output_type": "stream",
       "stream": "stdout",
       "text": [
        " 7689.84166457\n",
        "Total diff = 7689.84166457\n",
        "Total diff = 7689.84166457\n",
        "Total diff = 7689.84166457\n",
        "Total diff ="
       ]
      },
      {
       "output_type": "stream",
       "stream": "stdout",
       "text": [
        " 7689.84166457\n",
        "Total diff = 7689.84166457\n",
        "Total diff = 7689.84166457\n",
        "Total diff = 7689.84166457\n",
        "Total diff = 7689.84166457\n",
        "Total diff ="
       ]
      },
      {
       "output_type": "stream",
       "stream": "stdout",
       "text": [
        " 7689.84166457\n",
        "Total diff = 7689.84166457\n",
        "Total diff = 7689.84166457\n",
        "Total diff = 7689.84166457\n",
        "Total diff ="
       ]
      },
      {
       "output_type": "stream",
       "stream": "stdout",
       "text": [
        " 7689.84166457\n",
        "Total diff = 7689.84166457\n",
        "Total diff = 7689.84166457\n",
        "Total diff = 7689.84166457\n",
        "Total diff ="
       ]
      },
      {
       "output_type": "stream",
       "stream": "stdout",
       "text": [
        " 7689.84166457\n",
        "Total diff = 7689.84166457\n",
        "Total diff = 7689.84166457\n",
        "Total diff = 7689.84166457\n",
        "Total diff ="
       ]
      },
      {
       "output_type": "stream",
       "stream": "stdout",
       "text": [
        " 7689.84166457\n",
        "Total diff = 7689.84166457\n",
        "Total diff = 7689.84166457\n",
        "Total diff = 7689.84166457\n",
        "Total diff ="
       ]
      },
      {
       "output_type": "stream",
       "stream": "stdout",
       "text": [
        " 7689.84166457\n",
        "Total diff = 7689.84166457\n",
        "Total diff = 7689.84166457\n",
        "Total diff = 7689.84166457\n",
        "Total diff ="
       ]
      },
      {
       "output_type": "stream",
       "stream": "stdout",
       "text": [
        " 7689.84166457\n",
        "Total diff = 7689.84166457\n",
        "Total diff = 7689.84166457\n",
        "Total diff = 7689.84166457\n",
        "Total diff ="
       ]
      },
      {
       "output_type": "stream",
       "stream": "stdout",
       "text": [
        " 7689.84166457\n",
        "Total diff = 7689.84166457\n",
        "Total diff = 7689.84166457\n",
        "Total diff = 7689.84166457\n",
        "Total diff ="
       ]
      },
      {
       "output_type": "stream",
       "stream": "stdout",
       "text": [
        " 7689.84166457\n",
        "Total diff = 7689.84166457\n",
        "Total diff = 7689.84166457\n",
        "Total diff = 7689.84166457\n",
        "Total diff ="
       ]
      },
      {
       "output_type": "stream",
       "stream": "stdout",
       "text": [
        " 7689.84166457\n",
        "Total diff = 7689.84166457\n",
        "Total diff = 7689.84166457\n",
        "Total diff = 7689.84166457\n",
        "Total diff ="
       ]
      },
      {
       "output_type": "stream",
       "stream": "stdout",
       "text": [
        " 7689.84166457\n",
        "Total diff = 7689.84166457\n",
        "Total diff = 7689.84166457\n",
        "Total diff = 7689.84166457\n",
        "Total diff ="
       ]
      },
      {
       "output_type": "stream",
       "stream": "stdout",
       "text": [
        " 7689.84166457\n",
        "Total diff = 7689.84166457\n",
        "Total diff = 7689.84166457\n",
        "Total diff = 7689.84166457\n",
        "Total diff ="
       ]
      },
      {
       "output_type": "stream",
       "stream": "stdout",
       "text": [
        " 7689.84166457\n",
        "Total diff = 7689.84166457\n",
        "Total diff = 7689.84166457\n",
        "Total diff = 7689.84166457\n",
        "Total diff = 7689.84166457\n",
        "Total diff ="
       ]
      },
      {
       "output_type": "stream",
       "stream": "stdout",
       "text": [
        " 7689.84166457\n",
        "Total diff = 7689.84166457\n",
        "Total diff = 7689.84166457\n",
        "Total diff = 7689.84166457\n",
        "Total diff ="
       ]
      },
      {
       "output_type": "stream",
       "stream": "stdout",
       "text": [
        " 7689.84166457\n",
        "Total diff = 7689.84166457\n",
        "Total diff = 7689.84166457\n",
        "Total diff = 7689.84166457\n",
        "Total diff ="
       ]
      },
      {
       "output_type": "stream",
       "stream": "stdout",
       "text": [
        " 7689.84166457\n",
        "Total diff = 7689.84166457\n",
        "Total diff = 7689.84166457\n",
        "Total diff = 7689.84166457\n",
        "Total diff = 7689.84166457\n",
        "Total diff ="
       ]
      },
      {
       "output_type": "stream",
       "stream": "stdout",
       "text": [
        " 7689.84166457\n",
        "Total diff = 7689.84166457\n",
        "Total diff = 7689.84166457\n",
        "Total diff = 7689.84166457\n",
        "Total diff = 7689.84166457\n",
        "Total diff ="
       ]
      },
      {
       "output_type": "stream",
       "stream": "stdout",
       "text": [
        " 7689.84166457\n",
        "Total diff = 7689.84166457\n",
        "Total diff = 7689.84166457\n",
        "Total diff = 7689.84166457\n",
        "Total diff ="
       ]
      },
      {
       "output_type": "stream",
       "stream": "stdout",
       "text": [
        " 7689.84166457\n",
        "Total diff = 7689.84166457\n",
        "Total diff = 7689.84166457\n",
        "Total diff = 7689.84166457\n",
        "Total diff ="
       ]
      },
      {
       "output_type": "stream",
       "stream": "stdout",
       "text": [
        " 7689.84166457\n",
        "Total diff = 7689.84166457\n",
        "Total diff = 7689.84166457\n",
        "Total diff = 7689.84166457\n",
        "Total diff ="
       ]
      },
      {
       "output_type": "stream",
       "stream": "stdout",
       "text": [
        " 7689.84166457\n",
        "Total diff = 7689.84166457\n",
        "Total diff = 7689.84166457\n",
        "Total diff = 7689.84166457\n",
        "Total diff ="
       ]
      },
      {
       "output_type": "stream",
       "stream": "stdout",
       "text": [
        " 7689.84166457\n",
        "Total diff = 7689.84166457\n",
        "Total diff = 7689.84166457\n",
        "Total diff = 7689.84166457\n",
        "Total diff ="
       ]
      },
      {
       "output_type": "stream",
       "stream": "stdout",
       "text": [
        " 7689.84166457\n",
        "Total diff = 7689.84166457\n",
        "Total diff = 7689.84166457\n",
        "Total diff = 7689.84166457\n",
        "Total diff ="
       ]
      },
      {
       "output_type": "stream",
       "stream": "stdout",
       "text": [
        " 7689.84166457\n",
        "Total diff = 7689.84166457\n",
        "Total diff = 7689.84166457\n",
        "Total diff = 7689.84166457\n",
        "Total diff ="
       ]
      },
      {
       "output_type": "stream",
       "stream": "stdout",
       "text": [
        " 7689.84166457\n",
        "Total diff = 7689.84166457\n",
        "Total diff = 7689.84166457\n",
        "Total diff = 7689.84166457\n",
        "Total diff ="
       ]
      },
      {
       "output_type": "stream",
       "stream": "stdout",
       "text": [
        " 7689.84166457\n",
        "Total diff = 7689.84166457\n",
        "Total diff = 7689.84166457\n",
        "Total diff = 7689.84166457\n",
        "Total diff ="
       ]
      },
      {
       "output_type": "stream",
       "stream": "stdout",
       "text": [
        " 7689.84166457\n",
        "Total diff = 7689.84166457\n",
        "Total diff = 7689.84166457\n",
        "Total diff = 7689.84166457\n",
        "Total diff ="
       ]
      },
      {
       "output_type": "stream",
       "stream": "stdout",
       "text": [
        " 7689.84166457\n",
        "Total diff = 7689.84166457\n",
        "Total diff = 7689.84166457\n",
        "Total diff = 7689.84166457\n",
        "Total diff = 7689.84166457\n",
        "Total diff ="
       ]
      },
      {
       "output_type": "stream",
       "stream": "stdout",
       "text": [
        " 7689.84166457\n",
        "Total diff = 7689.84166457\n",
        "Total diff = 7689.84166457\n",
        "Total diff = 7689.84166457\n",
        "Total diff = 7689.84166457\n",
        "Total diff ="
       ]
      },
      {
       "output_type": "stream",
       "stream": "stdout",
       "text": [
        " 7689.84166457\n",
        "Total diff = 7689.84166457\n",
        "Total diff = 7689.84166457\n",
        "Total diff = 7689.84166457\n",
        "Total diff ="
       ]
      },
      {
       "output_type": "stream",
       "stream": "stdout",
       "text": [
        " 7689.84166457\n",
        "Total diff = 7689.84166457\n",
        "Total diff = 7689.84166457\n",
        "Total diff = 7689.84166457\n",
        "Total diff ="
       ]
      },
      {
       "output_type": "stream",
       "stream": "stdout",
       "text": [
        " 7689.84166457\n",
        "Total diff = 7689.84166457\n",
        "Total diff = 7689.84166457\n",
        "Total diff = 7689.84166457\n",
        "Total diff ="
       ]
      },
      {
       "output_type": "stream",
       "stream": "stdout",
       "text": [
        " 7689.84166457\n",
        "Total diff = 7689.84166457\n",
        "Total diff = 7689.84166457\n",
        "Total diff = 7689.84166457\n",
        "Total diff = 7689.84166457\n",
        "Total diff ="
       ]
      },
      {
       "output_type": "stream",
       "stream": "stdout",
       "text": [
        " 7689.84166457\n",
        "Total diff = 7689.84166457\n",
        "Total diff = 7689.84166457\n",
        "Total diff = 7689.84166457\n",
        "Total diff ="
       ]
      },
      {
       "output_type": "stream",
       "stream": "stdout",
       "text": [
        " 7689.84166457\n",
        "Total diff = 7689.84166457\n",
        "Total diff = 7689.84166457\n",
        "Total diff = 7689.84166457\n",
        "Total diff = 7689.84166457\n",
        "Total diff ="
       ]
      },
      {
       "output_type": "stream",
       "stream": "stdout",
       "text": [
        " 7689.84166457\n",
        "Total diff = 7689.84166457\n",
        "Total diff = 7689.84166457\n",
        "Total diff = 7689.84166457\n",
        "Total diff = 7689.84166457\n",
        "Total diff ="
       ]
      },
      {
       "output_type": "stream",
       "stream": "stdout",
       "text": [
        " 7689.84166457\n",
        "Total diff = 7689.84166457\n",
        "Total diff = 7689.84166457\n",
        "Total diff = 7689.84166457\n",
        "Total diff ="
       ]
      },
      {
       "output_type": "stream",
       "stream": "stdout",
       "text": [
        " 7689.84166457\n",
        "Total diff = 7689.84166457\n",
        "Total diff = 7689.84166457\n",
        "Total diff = 7689.84166457\n",
        "Total diff ="
       ]
      },
      {
       "output_type": "stream",
       "stream": "stdout",
       "text": [
        " 7689.84166457\n",
        "Total diff = 7689.84166457\n",
        "Total diff = 7689.84166457\n",
        "Total diff = 7689.84166457\n",
        "Total diff ="
       ]
      },
      {
       "output_type": "stream",
       "stream": "stdout",
       "text": [
        " 7689.84166457\n",
        "Total diff = 7689.84166457\n",
        "Total diff = 7689.84166457\n",
        "Total diff = 7689.84166457\n",
        "Total diff ="
       ]
      },
      {
       "output_type": "stream",
       "stream": "stdout",
       "text": [
        " 7689.84166457\n",
        "Total diff = 7689.84166457\n",
        "Total diff = 7689.84166457\n",
        "Total diff = 7689.84166457\n",
        "Total diff ="
       ]
      },
      {
       "output_type": "stream",
       "stream": "stdout",
       "text": [
        " 7689.84166457\n",
        "Total diff = 7689.84166457\n",
        "Total diff = 7689.84166457\n",
        "Total diff = 7689.84166457\n",
        "Total diff ="
       ]
      },
      {
       "output_type": "stream",
       "stream": "stdout",
       "text": [
        " 7689.84166457\n",
        "Total diff = 7689.84166457\n",
        "Total diff = 7689.84166457\n",
        "Total diff = 7689.84166457\n",
        "Total diff ="
       ]
      },
      {
       "output_type": "stream",
       "stream": "stdout",
       "text": [
        " 7689.84166457\n",
        "Total diff = 7689.84166457\n",
        "Total diff = 7689.84166457\n",
        "Total diff = 7689.84166457\n",
        "Total diff ="
       ]
      },
      {
       "output_type": "stream",
       "stream": "stdout",
       "text": [
        " 7689.84166457\n",
        "Total diff = 7689.84166457\n",
        "Total diff = 7689.84166457\n",
        "Total diff = 7689.84166457\n",
        "Total diff ="
       ]
      },
      {
       "output_type": "stream",
       "stream": "stdout",
       "text": [
        " 7689.84166457\n",
        "Total diff = 7689.84166457\n",
        "Total diff = 7689.84166457\n",
        "Total diff = 7689.84166457\n",
        "Total diff ="
       ]
      },
      {
       "output_type": "stream",
       "stream": "stdout",
       "text": [
        " 7689.84166457\n",
        "Total diff = 7689.84166457\n",
        "Total diff = 7689.84166457\n",
        "Total diff = 7689.84166457\n",
        "Total diff = 7689.84166457\n",
        "Total diff ="
       ]
      },
      {
       "output_type": "stream",
       "stream": "stdout",
       "text": [
        " 7689.84166457\n",
        "Total diff = 7689.84166457\n",
        "Total diff = 7689.84166457\n",
        "Total diff = 7689.84166457\n",
        "Total diff ="
       ]
      },
      {
       "output_type": "stream",
       "stream": "stdout",
       "text": [
        " 7689.84166457\n",
        "Total diff = 7689.84166457\n",
        "Total diff = 7689.84166457\n",
        "Total diff = 7689.84166457\n",
        "Total diff = 7689.84166457\n",
        "Total diff ="
       ]
      },
      {
       "output_type": "stream",
       "stream": "stdout",
       "text": [
        " 7689.84166457\n",
        "Total diff = 7689.84166457\n",
        "Total diff = 7689.84166457\n",
        "Total diff = 7689.84166457\n",
        "Total diff = 7689.84166457\n",
        "Total diff ="
       ]
      },
      {
       "output_type": "stream",
       "stream": "stdout",
       "text": [
        " 7689.84166457\n",
        "Total diff = 7689.84166457\n",
        "Total diff = 7689.84166457\n",
        "Total diff = 7689.84166457\n",
        "Total diff ="
       ]
      },
      {
       "output_type": "stream",
       "stream": "stdout",
       "text": [
        " 7689.84166457\n",
        "Total diff = 7689.84166457\n",
        "Total diff ="
       ]
      },
      {
       "output_type": "stream",
       "stream": "stdout",
       "text": [
        " 7689.84166457\n",
        "Total diff = 7689.84166457\n",
        "Total diff = 7689.84166457\n",
        "Total diff = 7689.84166457\n",
        "Total diff ="
       ]
      },
      {
       "output_type": "stream",
       "stream": "stdout",
       "text": [
        " 7689.84166457\n",
        "Total diff = 7689.84166457\n",
        "Total diff = 7689.84166457\n",
        "Total diff = 7689.84166457\n",
        "Total diff = 7689.84166457\n",
        "Total diff ="
       ]
      },
      {
       "output_type": "stream",
       "stream": "stdout",
       "text": [
        " 7689.84166457\n",
        "Total diff = 7689.84166457\n",
        "Total diff = 7689.84166457\n",
        "Total diff = 7689.84166457\n",
        "Total diff = 7689.84166457\n",
        "Total diff ="
       ]
      },
      {
       "output_type": "stream",
       "stream": "stdout",
       "text": [
        " 7689.84166457\n",
        "Total diff = 7689.84166457\n",
        "Total diff = 7689.84166457\n",
        "Total diff = 7689.84166457\n",
        "Total diff = 7689.84166457\n",
        "Total diff ="
       ]
      },
      {
       "output_type": "stream",
       "stream": "stdout",
       "text": [
        " 7689.84166457\n",
        "Total diff = 7689.84166457\n",
        "Total diff = 7689.84166457\n",
        "Total diff = 7689.84166457\n",
        "Total diff = 7689.84166457\n",
        "Total diff ="
       ]
      },
      {
       "output_type": "stream",
       "stream": "stdout",
       "text": [
        " 7689.84166457\n",
        "Total diff = 7689.84166457\n",
        "Total diff = 7689.84166457\n",
        "Total diff = 7689.84166457\n",
        "Total diff ="
       ]
      },
      {
       "output_type": "stream",
       "stream": "stdout",
       "text": [
        " 7689.84166457\n",
        "Total diff = 7689.84166457\n",
        "Total diff = 7689.84166457\n",
        "Total diff = 7689.84166457\n",
        "Total diff = 7689.84166457\n",
        "Total diff ="
       ]
      },
      {
       "output_type": "stream",
       "stream": "stdout",
       "text": [
        " 7689.84166457\n",
        "Total diff = 7689.84166457\n",
        "Total diff = 7689.84166457\n",
        "Total diff = 7689.84166457\n",
        "Total diff = 7689.84166457\n",
        "Total diff ="
       ]
      },
      {
       "output_type": "stream",
       "stream": "stdout",
       "text": [
        " 7689.84166457\n",
        "Total diff = 7689.84166457\n",
        "Total diff = 7689.84166457\n",
        "Total diff = 7689.84166457\n",
        "Total diff ="
       ]
      },
      {
       "output_type": "stream",
       "stream": "stdout",
       "text": [
        " 7689.84166457\n",
        "Total diff = 7689.84166457\n",
        "Total diff = 7689.84166457\n",
        "Total diff = 7689.84166457\n",
        "Total diff ="
       ]
      },
      {
       "output_type": "stream",
       "stream": "stdout",
       "text": [
        " 7689.84166457\n",
        "Total diff = 7689.84166457\n",
        "Total diff = 7689.84166457\n",
        "Total diff = 7689.84166457\n",
        "Total diff ="
       ]
      },
      {
       "output_type": "stream",
       "stream": "stdout",
       "text": [
        " 7689.84166457\n",
        "Total diff = 7689.84166457\n",
        "Total diff = 7689.84166457\n",
        "Total diff = 7689.84166457\n",
        "Total diff = 7689.84166457\n",
        "Total diff ="
       ]
      },
      {
       "output_type": "stream",
       "stream": "stdout",
       "text": [
        " 7689.84166457\n",
        "Total diff = 7689.84166457\n",
        "Total diff = 7689.84166457\n",
        "Total diff = 7689.84166457\n",
        "Total diff = 7689.84166457\n",
        "Total diff ="
       ]
      },
      {
       "output_type": "stream",
       "stream": "stdout",
       "text": [
        " 7689.84166457\n",
        "Total diff = 7689.84166457\n",
        "Total diff = 7689.84166457\n",
        "Total diff = 7689.84166457\n",
        "Total diff = 7689.84166457\n",
        "Total diff ="
       ]
      },
      {
       "output_type": "stream",
       "stream": "stdout",
       "text": [
        " 7689.84166457\n",
        "Total diff = 7689.84166457\n",
        "Total diff = 7689.84166457\n",
        "Total diff = 7689.84166457\n",
        "Total diff = 7689.84166457\n",
        "Total diff ="
       ]
      },
      {
       "output_type": "stream",
       "stream": "stdout",
       "text": [
        " 7689.84166457\n",
        "Total diff = 7689.84166457\n",
        "Total diff = 7689.84166457\n",
        "Total diff = 7689.84166457\n",
        "Total diff = 7689.84166457\n",
        "Total diff ="
       ]
      },
      {
       "output_type": "stream",
       "stream": "stdout",
       "text": [
        " 7689.84166457\n",
        "Total diff = 7689.84166457\n",
        "Total diff = 7689.84166457\n",
        "Total diff = 7689.84166457\n",
        "Total diff ="
       ]
      },
      {
       "output_type": "stream",
       "stream": "stdout",
       "text": [
        " 7689.84166457\n",
        "Total diff = 7689.84166457\n",
        "Total diff = 7689.84166457\n",
        "Total diff = 7689.84166457\n",
        "Total diff = 7689.84166457\n",
        "Total diff ="
       ]
      },
      {
       "output_type": "stream",
       "stream": "stdout",
       "text": [
        " 7689.84166457\n",
        "Total diff = 7689.84166457\n",
        "Total diff = 7689.84166457\n",
        "Total diff = 7689.84166457\n",
        "Total diff ="
       ]
      },
      {
       "output_type": "stream",
       "stream": "stdout",
       "text": [
        " 7689.84166457\n",
        "Total diff = 7689.84166457\n",
        "Total diff = 7689.84166457\n",
        "Total diff = 7689.84166457\n",
        "Total diff = 7689.84166457\n",
        "Total diff ="
       ]
      },
      {
       "output_type": "stream",
       "stream": "stdout",
       "text": [
        " 7689.84166457\n",
        "Total diff = 7689.84166457\n",
        "Total diff = 7689.84166457\n",
        "Total diff = 7689.84166457\n",
        "Total diff ="
       ]
      },
      {
       "output_type": "stream",
       "stream": "stdout",
       "text": [
        " 7689.84166457\n",
        "Total diff = 7689.84166457\n",
        "Total diff = 7689.84166457\n",
        "Total diff = 7689.84166457\n",
        "Total diff ="
       ]
      },
      {
       "output_type": "stream",
       "stream": "stdout",
       "text": [
        " 7689.84166457\n",
        "Total diff = 7689.84166457\n",
        "Total diff = 7689.84166457\n",
        "Total diff = 7689.84166457\n",
        "Total diff ="
       ]
      },
      {
       "output_type": "stream",
       "stream": "stdout",
       "text": [
        " 7689.84166457\n",
        "Total diff = 7689.84166457\n",
        "Total diff = 7689.84166457\n",
        "Total diff = 7689.84166457\n",
        "Total diff ="
       ]
      },
      {
       "output_type": "stream",
       "stream": "stdout",
       "text": [
        " 7689.84166457\n",
        "Total diff = 7689.84166457\n",
        "Total diff = 7689.84166457\n",
        "Total diff = 7689.84166457\n",
        "Total diff ="
       ]
      },
      {
       "output_type": "stream",
       "stream": "stdout",
       "text": [
        " 7689.84166457\n",
        "Total diff = 7689.84166457\n",
        "Total diff = 7689.84166457\n",
        "Total diff = 7689.84166457\n",
        "Total diff = 7689.84166457\n",
        "Total diff ="
       ]
      },
      {
       "output_type": "stream",
       "stream": "stdout",
       "text": [
        " 7689.84166457\n",
        "Total diff = 7689.84166457\n",
        "Total diff = 7689.84166457\n",
        "Total diff = 7689.84166457\n",
        "Total diff ="
       ]
      },
      {
       "output_type": "stream",
       "stream": "stdout",
       "text": [
        " 7689.84166457\n",
        "Total diff = 7689.84166457\n",
        "Total diff = 7689.84166457\n",
        "Total diff = 7689.84166457\n",
        "Total diff ="
       ]
      },
      {
       "output_type": "stream",
       "stream": "stdout",
       "text": [
        " 7689.84166457\n",
        "Total diff = 7689.84166457\n",
        "Total diff = 7689.84166457\n",
        "Total diff = 7689.84166457\n",
        "Total diff ="
       ]
      },
      {
       "output_type": "stream",
       "stream": "stdout",
       "text": [
        " 7689.84166457\n",
        "Total diff = 7689.84166457\n",
        "Total diff = 7689.84166457\n",
        "Total diff = 7689.84166457\n",
        "Total diff ="
       ]
      },
      {
       "output_type": "stream",
       "stream": "stdout",
       "text": [
        " 7689.84166457\n",
        "Total diff = 7689.84166457\n",
        "Total diff = 7689.84166457\n",
        "Total diff = 7689.84166457\n",
        "Total diff = 7689.84166457\n",
        "Total diff ="
       ]
      },
      {
       "output_type": "stream",
       "stream": "stdout",
       "text": [
        " 7689.84166457\n",
        "Total diff = 7689.84166457\n",
        "Total diff = 7689.84166457\n",
        "Total diff = 7689.84166457\n",
        "Total diff ="
       ]
      },
      {
       "output_type": "stream",
       "stream": "stdout",
       "text": [
        " 7689.84166457\n",
        "Total diff = 7689.84166457\n",
        "Total diff = 7689.84166457\n",
        "Total diff = 7689.84166457\n",
        "Total diff ="
       ]
      },
      {
       "output_type": "stream",
       "stream": "stdout",
       "text": [
        " 7689.84166457\n",
        "Total diff = 7689.84166457\n",
        "Total diff = 7689.84166457\n",
        "Total diff = 7689.84166457\n",
        "Total diff = 7689.84166457\n",
        "Total diff ="
       ]
      },
      {
       "output_type": "stream",
       "stream": "stdout",
       "text": [
        " 7689.84166457\n",
        "Total diff = 7689.84166457\n",
        "Total diff = 7689.84166457\n",
        "Total diff = 7689.84166457\n",
        "Total diff = 7689.84166457\n",
        "Total diff ="
       ]
      },
      {
       "output_type": "stream",
       "stream": "stdout",
       "text": [
        " 7689.84166457\n",
        "Total diff = 7689.84166457\n",
        "Total diff = 7689.84166457\n",
        "Total diff = 7689.84166457\n",
        "Total diff ="
       ]
      },
      {
       "output_type": "stream",
       "stream": "stdout",
       "text": [
        " 7689.84166457\n",
        "Total diff = 7689.84166457\n",
        "Total diff = 7689.84166457\n",
        "Total diff = 7689.84166457\n",
        "Total diff = 7689.84166457\n",
        "Total diff ="
       ]
      },
      {
       "output_type": "stream",
       "stream": "stdout",
       "text": [
        " 7689.84166457\n",
        "Total diff = 7689.84166457\n",
        "Total diff = 7689.84166457\n",
        "Total diff = 7689.84166457\n",
        "Total diff = 7689.84166457\n",
        "Total diff ="
       ]
      },
      {
       "output_type": "stream",
       "stream": "stdout",
       "text": [
        " 7689.84166457\n",
        "Total diff = 7689.84166457\n",
        "Total diff = 7689.84166457\n",
        "Total diff = 7689.84166457\n",
        "Total diff ="
       ]
      },
      {
       "output_type": "stream",
       "stream": "stdout",
       "text": [
        " 7689.84166457\n",
        "Total diff = 7689.84166457\n",
        "Total diff = 7689.84166457\n",
        "Total diff = 7689.84166457\n",
        "Total diff = 7689.84166457\n",
        "Total diff ="
       ]
      },
      {
       "output_type": "stream",
       "stream": "stdout",
       "text": [
        " 7689.84166457\n",
        "Total diff = 7689.84166457\n",
        "Total diff = 7689.84166457\n",
        "Total diff = 7689.84166457\n",
        "Total diff = 7689.84166457\n",
        "Total diff ="
       ]
      },
      {
       "output_type": "stream",
       "stream": "stdout",
       "text": [
        " 7689.84166457\n",
        "Total diff = 7689.84166457\n",
        "Total diff = 7689.84166457\n",
        "Total diff = 7689.84166457\n",
        "Total diff = 7689.84166457\n",
        "Total diff ="
       ]
      },
      {
       "output_type": "stream",
       "stream": "stdout",
       "text": [
        " 7689.84166457\n",
        "Total diff = 7689.84166457\n",
        "Total diff = 7689.84166457\n",
        "Total diff = 7689.84166457\n",
        "Total diff ="
       ]
      },
      {
       "output_type": "stream",
       "stream": "stdout",
       "text": [
        " 7689.84166457\n",
        "Total diff = 7689.84166457\n",
        "Total diff = 7689.84166457\n",
        "Total diff = 7689.84166457\n",
        "Total diff = 7689.84166457\n",
        "Total diff ="
       ]
      },
      {
       "output_type": "stream",
       "stream": "stdout",
       "text": [
        " 7689.84166457\n",
        "Total diff = 7689.84166457\n",
        "Total diff = 7689.84166457\n",
        "Total diff = 7689.84166457\n",
        "Total diff = 7689.84166457\n",
        "Total diff ="
       ]
      },
      {
       "output_type": "stream",
       "stream": "stdout",
       "text": [
        " 7689.84166457\n",
        "Total diff = 7689.84166457\n",
        "Total diff = 7689.84166457\n",
        "Total diff = 7689.84166457\n",
        "Total diff = 7689.84166457\n",
        "Total diff ="
       ]
      },
      {
       "output_type": "stream",
       "stream": "stdout",
       "text": [
        " 7689.84166457\n",
        "Total diff = 7689.84166457\n",
        "Total diff = 7689.84166457\n",
        "Total diff = 7689.84166457\n",
        "Total diff ="
       ]
      },
      {
       "output_type": "stream",
       "stream": "stdout",
       "text": [
        " 7689.84166457\n",
        "Total diff = 7689.84166457\n",
        "Total diff = 7689.84166457\n",
        "Total diff = 7689.84166457\n",
        "Total diff ="
       ]
      },
      {
       "output_type": "stream",
       "stream": "stdout",
       "text": [
        " 7689.84166457\n",
        "Total diff = 7689.84166457\n",
        "Total diff = 7689.84166457\n",
        "Total diff = 7689.84166457\n",
        "Total diff = "
       ]
      },
      {
       "output_type": "stream",
       "stream": "stdout",
       "text": [
        "7689.84166457\n",
        "Total diff = 7689.84166457\n",
        "Total diff = 7689.84166457\n",
        "Total diff = 7689.84166457\n",
        "Total diff = 7689.84166457\n",
        "Total diff ="
       ]
      },
      {
       "output_type": "stream",
       "stream": "stdout",
       "text": [
        " 7689.84166457\n",
        "Total diff = 7689.84166457\n",
        "Total diff = 7689.84166457\n",
        "Total diff = 7689.84166457\n",
        "Total diff = 7689.84166457\n",
        "Total diff ="
       ]
      },
      {
       "output_type": "stream",
       "stream": "stdout",
       "text": [
        " 7689.84166457\n",
        "Total diff = 7689.84166457\n",
        "Total diff = 7689.84166457\n",
        "Total diff = 7689.84166457\n",
        "Total diff ="
       ]
      },
      {
       "output_type": "stream",
       "stream": "stdout",
       "text": [
        " 7689.84166457\n",
        "Total diff = 7689.84166457\n",
        "Total diff = 7689.84166457\n",
        "Total diff = 7689.84166457\n",
        "Total diff ="
       ]
      },
      {
       "output_type": "stream",
       "stream": "stdout",
       "text": [
        " 7689.84166457\n",
        "Total diff = 7689.84166457\n",
        "Total diff = 7689.84166457\n",
        "Total diff = 7689.84166457\n",
        "Total diff ="
       ]
      },
      {
       "output_type": "stream",
       "stream": "stdout",
       "text": [
        " 7689.84166457\n",
        "Total diff = 7689.84166457\n",
        "Total diff = 7689.84166457\n",
        "Total diff ="
       ]
      },
      {
       "output_type": "stream",
       "stream": "stdout",
       "text": [
        " 7689.84166457\n",
        "Total diff = 7689.84166457\n",
        "Total diff = 7689.84166457\n",
        "Total diff = 7689.84166457\n",
        "Total diff ="
       ]
      },
      {
       "output_type": "stream",
       "stream": "stdout",
       "text": [
        " 7689.84166457\n",
        "Total diff = 7689.84166457\n",
        "Total diff = 7689.84166457\n",
        "Total diff = 7689.84166457\n",
        "Total diff = 7689.84166457\n",
        "Total diff ="
       ]
      },
      {
       "output_type": "stream",
       "stream": "stdout",
       "text": [
        " 7689.84166457\n",
        "Total diff = 7689.84166457\n",
        "Total diff = 7689.84166457\n",
        "Total diff = 7689.84166457\n",
        "Total diff ="
       ]
      },
      {
       "output_type": "stream",
       "stream": "stdout",
       "text": [
        " 7689.84166457\n",
        "Total diff = 7689.84166457\n",
        "Total diff = 7689.84166457\n",
        "Total diff = 7689.84166457\n",
        "Total diff = 7689.84166457\n",
        "Total diff ="
       ]
      },
      {
       "output_type": "stream",
       "stream": "stdout",
       "text": [
        " 7689.84166457\n",
        "Total diff = 7689.84166457\n",
        "Total diff = 7689.84166457\n",
        "Total diff = 7689.84166457\n",
        "Total diff ="
       ]
      },
      {
       "output_type": "stream",
       "stream": "stdout",
       "text": [
        " 7689.84166457\n",
        "Total diff = 7689.84166457\n",
        "Total diff = 7689.84166457\n",
        "Total diff = 7689.84166457\n",
        "Total diff ="
       ]
      },
      {
       "output_type": "stream",
       "stream": "stdout",
       "text": [
        " 7689.84166457\n",
        "Total diff = 7689.84166457\n",
        "Total diff = 7689.84166457\n",
        "Total diff = 7689.84166457\n",
        "Total diff ="
       ]
      },
      {
       "output_type": "stream",
       "stream": "stdout",
       "text": [
        " 7689.84166457\n",
        "Total diff = 7689.84166457\n",
        "Total diff = 7689.84166457\n",
        "Total diff = 7689.84166457\n",
        "Total diff ="
       ]
      },
      {
       "output_type": "stream",
       "stream": "stdout",
       "text": [
        " 7689.84166457\n",
        "Total diff = 7689.84166457\n",
        "Total diff = 7689.84166457\n",
        "Total diff = 7689.84166457\n",
        "Total diff ="
       ]
      },
      {
       "output_type": "stream",
       "stream": "stdout",
       "text": [
        " 7689.84166457\n",
        "Total diff = 7689.84166457\n",
        "Total diff = 7689.84166457\n",
        "Total diff = 7689.84166457\n",
        "Total diff = 7689.84166457\n",
        "Total diff ="
       ]
      },
      {
       "output_type": "stream",
       "stream": "stdout",
       "text": [
        " 7689.84166457\n",
        "Total diff = 7689.84166457\n",
        "Total diff = 7689.84166457\n",
        "Total diff = 7689.84166457\n",
        "Total diff ="
       ]
      },
      {
       "output_type": "stream",
       "stream": "stdout",
       "text": [
        " 7689.84166457\n",
        "Total diff = 7689.84166457\n",
        "Total diff = 7689.84166457\n",
        "Total diff = 7689.84166457\n",
        "Total diff = 7689.84166457\n",
        "Total diff ="
       ]
      },
      {
       "output_type": "stream",
       "stream": "stdout",
       "text": [
        " 7689.84166457\n",
        "Total diff = 7689.84166457\n",
        "Total diff = 7689.84166457\n",
        "Total diff = 7689.84166457\n",
        "Total diff ="
       ]
      },
      {
       "output_type": "stream",
       "stream": "stdout",
       "text": [
        " 7689.84166457\n",
        "Total diff = 7689.84166457\n",
        "Total diff = 7689.84166457\n",
        "Total diff = 7689.84166457\n",
        "Total diff = 7689.84166457\n",
        "Total diff ="
       ]
      },
      {
       "output_type": "stream",
       "stream": "stdout",
       "text": [
        " 7689.84166457\n",
        "Total diff = 7689.84166457\n",
        "Total diff = 7689.84166457\n",
        "Total diff = 7689.84166457\n",
        "Total diff = 7689.84166457\n",
        "Total diff ="
       ]
      },
      {
       "output_type": "stream",
       "stream": "stdout",
       "text": [
        " 7689.84166457\n",
        "Total diff = 7689.84166457\n",
        "Total diff = 7689.84166457\n",
        "Total diff = 7689.84166457\n",
        "Total diff ="
       ]
      },
      {
       "output_type": "stream",
       "stream": "stdout",
       "text": [
        " 7689.84166457\n",
        "Total diff = 7689.84166457\n",
        "Total diff = 7689.84166457\n",
        "Total diff = 7689.84166457\n",
        "Total diff = 7689.84166457\n",
        "Total diff ="
       ]
      },
      {
       "output_type": "stream",
       "stream": "stdout",
       "text": [
        " 7689.84166457\n",
        "Total diff = 7689.84166457\n",
        "Total diff = 7689.84166457\n",
        "Total diff = 7689.84166457\n",
        "Total diff ="
       ]
      },
      {
       "output_type": "stream",
       "stream": "stdout",
       "text": [
        " 7689.84166457\n",
        "Total diff = 7689.84166457\n",
        "Total diff = 7689.84166457\n",
        "Total diff = 7689.84166457\n",
        "Total diff = 7689.84166457\n",
        "Total diff ="
       ]
      },
      {
       "output_type": "stream",
       "stream": "stdout",
       "text": [
        " 7689.84166457\n",
        "Total diff = 7689.84166457\n",
        "Total diff = 7689.84166457\n",
        "Total diff = 7689.84166457\n",
        "Total diff ="
       ]
      },
      {
       "output_type": "stream",
       "stream": "stdout",
       "text": [
        " 7689.84166457\n",
        "Total diff = 7689.84166457\n",
        "Total diff = 7689.84166457\n",
        "Total diff = 7689.84166457\n",
        "Total diff ="
       ]
      },
      {
       "output_type": "stream",
       "stream": "stdout",
       "text": [
        " 7689.84166457\n",
        "Total diff = 7689.84166457\n",
        "Total diff = 7689.84166457\n",
        "Total diff = 7689.84166457\n",
        "Total diff = 7689.84166457\n",
        "Total diff ="
       ]
      },
      {
       "output_type": "stream",
       "stream": "stdout",
       "text": [
        " 7689.84166457\n",
        "Total diff = 7689.84166457\n",
        "Total diff = 7689.84166457\n",
        "Total diff = 7689.84166457\n",
        "Total diff = 7689.84166457\n",
        "Total diff ="
       ]
      },
      {
       "output_type": "stream",
       "stream": "stdout",
       "text": [
        " 7689.84166457\n",
        "Total diff = 7689.84166457\n",
        "Total diff = 7689.84166457\n",
        "Total diff = 7689.84166457\n",
        "Total diff ="
       ]
      },
      {
       "output_type": "stream",
       "stream": "stdout",
       "text": [
        " 7689.84166457\n",
        "Total diff = 7689.84166457\n",
        "Total diff = 7689.84166457\n",
        "Total diff = 7689.84166457\n",
        "Total diff ="
       ]
      },
      {
       "output_type": "stream",
       "stream": "stdout",
       "text": [
        " 7689.84166457\n",
        "Total diff = 7689.84166457\n",
        "Total diff = 7689.84166457\n",
        "Total diff = 7689.84166457\n",
        "Total diff = 7689.84166457\n",
        "Total diff ="
       ]
      },
      {
       "output_type": "stream",
       "stream": "stdout",
       "text": [
        " 7689.84166457\n",
        "Total diff = 7689.84166457\n",
        "Total diff = 7689.84166457\n",
        "Total diff = 7689.84166457\n",
        "Total diff ="
       ]
      },
      {
       "output_type": "stream",
       "stream": "stdout",
       "text": [
        " 7689.84166457\n",
        "Total diff = 7689.84166457\n",
        "Total diff = 7689.84166457\n",
        "Total diff = 7689.84166457\n",
        "Total diff ="
       ]
      },
      {
       "output_type": "stream",
       "stream": "stdout",
       "text": [
        " 7689.84166457\n",
        "Total diff = 7689.84166457\n",
        "Total diff = 7689.84166457\n",
        "Total diff = 7689.84166457\n",
        "Total diff = 7689.84166457\n",
        "Total diff ="
       ]
      },
      {
       "output_type": "stream",
       "stream": "stdout",
       "text": [
        " 7689.84166457\n",
        "Total diff = 7689.84166457\n",
        "Total diff = 7689.84166457\n",
        "Total diff = 7689.84166457\n",
        "Total diff = 7689.84166457\n",
        "Total diff ="
       ]
      },
      {
       "output_type": "stream",
       "stream": "stdout",
       "text": [
        " 7689.84166457\n",
        "Total diff = 7689.84166457\n",
        "Total diff = 7689.84166457\n",
        "Total diff = 7689.84166457\n",
        "Total diff ="
       ]
      },
      {
       "output_type": "stream",
       "stream": "stdout",
       "text": [
        " 7689.84166457\n",
        "Total diff = 7689.84166457\n",
        "Total diff = 7689.84166457\n",
        "Total diff = 7689.84166457\n",
        "Total diff ="
       ]
      },
      {
       "output_type": "stream",
       "stream": "stdout",
       "text": [
        " 7689.84166457\n",
        "Total diff = 7689.84166457\n",
        "Total diff = 7689.84166457\n",
        "Total diff = 7689.84166457\n",
        "Total diff = 7689.84166457\n",
        "Total diff ="
       ]
      },
      {
       "output_type": "stream",
       "stream": "stdout",
       "text": [
        " 7689.84166457\n",
        "Total diff = 7689.84166457\n",
        "Total diff = 7689.84166457\n",
        "Total diff = 7689.84166457\n",
        "Total diff = 7689.84166457\n",
        "Total diff ="
       ]
      },
      {
       "output_type": "stream",
       "stream": "stdout",
       "text": [
        " 7689.84166457\n",
        "Total diff = 7689.84166457\n",
        "Total diff = 7689.84166457\n",
        "Total diff = 7689.84166457\n",
        "Total diff = 7689.84166457\n",
        "Total diff ="
       ]
      },
      {
       "output_type": "stream",
       "stream": "stdout",
       "text": [
        " 7689.84166457\n",
        "Total diff = 7689.84166457\n",
        "Total diff = 7689.84166457\n",
        "Total diff = 7689.84166457\n",
        "Total diff ="
       ]
      },
      {
       "output_type": "stream",
       "stream": "stdout",
       "text": [
        " 7689.84166457\n",
        "Total diff = 7689.84166457\n",
        "Total diff = 7689.84166457\n",
        "Total diff = 7689.84166457\n",
        "Total diff ="
       ]
      },
      {
       "output_type": "stream",
       "stream": "stdout",
       "text": [
        " 7689.84166457\n",
        "Total diff = 7689.84166457\n",
        "Total diff = 7689.84166457\n",
        "Total diff = 7689.84166457\n",
        "Total diff ="
       ]
      },
      {
       "output_type": "stream",
       "stream": "stdout",
       "text": [
        " 7689.84166457\n",
        "Total diff = 7689.84166457\n",
        "Total diff = 7689.84166457\n",
        "Total diff = 7689.84166457\n",
        "Total diff ="
       ]
      },
      {
       "output_type": "stream",
       "stream": "stdout",
       "text": [
        " 7689.84166457\n",
        "Total diff = 7689.84166457\n",
        "Total diff = 7689.84166457\n",
        "Total diff = 7689.84166457\n",
        "Total diff ="
       ]
      },
      {
       "output_type": "stream",
       "stream": "stdout",
       "text": [
        " 7689.84166457\n",
        "Total diff = 7689.84166457\n",
        "Total diff = 7689.84166457\n",
        "Total diff = 7689.84166457\n",
        "Total diff ="
       ]
      },
      {
       "output_type": "stream",
       "stream": "stdout",
       "text": [
        " 7689.84166457\n",
        "Total diff = 7689.84166457\n",
        "Total diff = 7689.84166457\n",
        "Total diff = 7689.84166457\n",
        "Total diff ="
       ]
      },
      {
       "output_type": "stream",
       "stream": "stdout",
       "text": [
        " 7689.84166457\n",
        "Total diff = 7689.84166457\n",
        "Total diff = 7689.84166457\n",
        "Total diff = 7689.84166457\n",
        "Total diff = 7689.84166457\n",
        "Total diff ="
       ]
      },
      {
       "output_type": "stream",
       "stream": "stdout",
       "text": [
        " 7689.84166457\n",
        "Total diff = 7689.84166457\n",
        "Total diff = 7689.84166457\n",
        "Total diff = 7689.84166457\n",
        "Total diff ="
       ]
      },
      {
       "output_type": "stream",
       "stream": "stdout",
       "text": [
        " 7689.84166457\n",
        "Total diff = 7689.84166457\n",
        "Total diff = 7689.84166457\n",
        "Total diff = 7689.84166457\n",
        "Total diff ="
       ]
      },
      {
       "output_type": "stream",
       "stream": "stdout",
       "text": [
        " 7689.84166457\n",
        "Total diff = 7689.84166457\n",
        "Total diff = 7689.84166457\n",
        "Total diff = 7689.84166457\n",
        "Total diff ="
       ]
      },
      {
       "output_type": "stream",
       "stream": "stdout",
       "text": [
        " 7689.84166457\n",
        "Total diff = 7689.84166457\n",
        "Total diff = 7689.84166457\n",
        "Total diff = 7689.84166457\n",
        "Total diff ="
       ]
      },
      {
       "output_type": "stream",
       "stream": "stdout",
       "text": [
        " 7689.84166457\n",
        "Total diff = 7689.84166457\n",
        "Total diff = 7689.84166457\n",
        "Total diff = 7689.84166457\n",
        "Total diff ="
       ]
      },
      {
       "output_type": "stream",
       "stream": "stdout",
       "text": [
        " 7689.84166457\n",
        "Total diff = 7689.84166457\n",
        "Total diff = 7689.84166457\n",
        "Total diff = 7689.84166457\n",
        "Total diff ="
       ]
      },
      {
       "output_type": "stream",
       "stream": "stdout",
       "text": [
        " 7689.84166457\n",
        "Total diff = 7689.84166457\n",
        "Total diff = 7689.84166457\n",
        "Total diff = 7689.84166457\n",
        "Total diff ="
       ]
      },
      {
       "output_type": "stream",
       "stream": "stdout",
       "text": [
        " 7689.84166457\n",
        "Total diff = 7689.84166457\n",
        "Total diff = 7689.84166457\n",
        "Total diff = 7689.84166457\n",
        "Total diff ="
       ]
      },
      {
       "output_type": "stream",
       "stream": "stdout",
       "text": [
        " 7689.84166457\n",
        "Total diff = 7689.84166457\n",
        "Total diff = 7689.84166457\n",
        "Total diff = 7689.84166457\n",
        "Total diff = 7689.84166457\n",
        "Total diff ="
       ]
      },
      {
       "output_type": "stream",
       "stream": "stdout",
       "text": [
        " 7689.84166457\n",
        "Total diff = 7689.84166457\n",
        "Total diff = 7689.84166457\n",
        "Total diff = 7689.84166457\n",
        "Total diff = 7689.84166457\n",
        "Total diff ="
       ]
      },
      {
       "output_type": "stream",
       "stream": "stdout",
       "text": [
        " 7689.84166457\n",
        "Total diff = 7689.84166457\n",
        "Total diff = 7689.84166457\n",
        "Total diff = 7689.84166457\n",
        "Total diff = 7689.84166457\n",
        "Total diff ="
       ]
      },
      {
       "output_type": "stream",
       "stream": "stdout",
       "text": [
        " 7689.84166457\n",
        "Total diff = 7689.84166457\n",
        "Total diff = 7689.84166457\n",
        "Total diff = 7689.84166457\n",
        "Total diff ="
       ]
      },
      {
       "output_type": "stream",
       "stream": "stdout",
       "text": [
        " 7689.84166457\n",
        "Total diff = 7689.84166457\n",
        "Total diff = 7689.84166457\n",
        "Total diff = 7689.84166457\n",
        "Total diff ="
       ]
      },
      {
       "output_type": "stream",
       "stream": "stdout",
       "text": [
        " 7689.84166457\n",
        "Total diff = 7689.84166457\n",
        "Total diff = 7689.84166457\n",
        "Total diff = 7689.84166457\n",
        "Total diff = 7689.84166457\n",
        "Total diff ="
       ]
      },
      {
       "output_type": "stream",
       "stream": "stdout",
       "text": [
        " 7689.84166457\n",
        "Total diff = 7689.84166457\n",
        "Total diff = 7689.84166457\n",
        "Total diff = 7689.84166457\n",
        "Total diff ="
       ]
      },
      {
       "output_type": "stream",
       "stream": "stdout",
       "text": [
        " 7689.84166457\n",
        "Total diff = 7689.84166457\n",
        "Total diff = 7689.84166457\n",
        "Total diff = 7689.84166457\n",
        "Total diff = 7689.84166457\n",
        "Total diff ="
       ]
      },
      {
       "output_type": "stream",
       "stream": "stdout",
       "text": [
        " 7689.84166457\n",
        "Total diff = 7689.84166457\n",
        "Total diff = 7689.84166457\n",
        "Total diff = 7689.84166457\n",
        "Total diff ="
       ]
      },
      {
       "output_type": "stream",
       "stream": "stdout",
       "text": [
        " 7689.84166457\n",
        "Total diff = 7689.84166457\n",
        "Total diff = 7689.84166457\n",
        "Total diff = 7689.84166457\n",
        "Total diff = 7689.84166457\n",
        "Total diff ="
       ]
      },
      {
       "output_type": "stream",
       "stream": "stdout",
       "text": [
        " 7689.84166457\n",
        "Total diff = 7689.84166457\n",
        "Total diff = 7689.84166457\n",
        "Total diff = 7689.84166457\n",
        "Total diff ="
       ]
      },
      {
       "output_type": "stream",
       "stream": "stdout",
       "text": [
        " 7689.84166457\n",
        "Total diff = 7689.84166457\n",
        "Total diff = 7689.84166457\n",
        "Total diff = 7689.84166457\n",
        "Total diff = 7689.84166457\n",
        "Total diff ="
       ]
      },
      {
       "output_type": "stream",
       "stream": "stdout",
       "text": [
        " 7689.84166457\n",
        "Total diff = 7689.84166457\n",
        "Total diff = 7689.84166457\n",
        "Total diff = 7689.84166457\n",
        "Total diff ="
       ]
      },
      {
       "output_type": "stream",
       "stream": "stdout",
       "text": [
        " 7689.84166457\n",
        "Total diff = 7689.84166457\n",
        "Total diff = 7689.84166457\n",
        "Total diff = 7689.84166457\n",
        "Total diff ="
       ]
      },
      {
       "output_type": "stream",
       "stream": "stdout",
       "text": [
        " 7689.84166457\n",
        "Total diff = 7689.84166457\n",
        "Total diff = 7689.84166457\n",
        "Total diff = 7689.84166457\n",
        "Total diff ="
       ]
      },
      {
       "output_type": "stream",
       "stream": "stdout",
       "text": [
        " 7689.84166457\n",
        "Total diff = 7689.84166457\n",
        "Total diff = 7689.84166457\n",
        "Total diff = 7689.84166457\n",
        "Total diff ="
       ]
      },
      {
       "output_type": "stream",
       "stream": "stdout",
       "text": [
        " 7689.84166457\n",
        "Total diff = 7689.84166457\n",
        "Total diff = 7689.84166457\n",
        "Total diff = 7689.84166457\n",
        "Total diff ="
       ]
      },
      {
       "output_type": "stream",
       "stream": "stdout",
       "text": [
        " 7689.84166457\n",
        "Total diff = 7689.84166457\n",
        "Total diff = 7689.84166457\n",
        "Total diff = 7689.84166457\n",
        "Total diff ="
       ]
      },
      {
       "output_type": "stream",
       "stream": "stdout",
       "text": [
        " 7689.84166457\n",
        "Total diff = 7689.84166457\n",
        "Total diff = 7689.84166457\n",
        "Total diff = 7689.84166457\n",
        "Total diff ="
       ]
      },
      {
       "output_type": "stream",
       "stream": "stdout",
       "text": [
        " 7689.84166457\n",
        "Total diff = 7689.84166457\n",
        "Total diff = 7689.84166457\n",
        "Total diff = 7689.84166457\n",
        "Total diff ="
       ]
      },
      {
       "output_type": "stream",
       "stream": "stdout",
       "text": [
        " 7689.84166457\n",
        "Total diff = 7689.84166457\n",
        "Total diff = 7689.84166457\n",
        "Total diff = 7689.84166457\n",
        "Total diff = 7689.84166457\n",
        "Total diff ="
       ]
      },
      {
       "output_type": "stream",
       "stream": "stdout",
       "text": [
        " 7689.84166457\n",
        "Total diff = 7689.84166457\n",
        "Total diff = 7689.84166457\n",
        "Total diff = 7689.84166457\n",
        "Total diff ="
       ]
      },
      {
       "output_type": "stream",
       "stream": "stdout",
       "text": [
        " 7689.84166457\n",
        "Total diff = 7689.84166457\n",
        "Total diff = 7689.84166457\n",
        "Total diff = 7689.84166457\n",
        "Total diff ="
       ]
      },
      {
       "output_type": "stream",
       "stream": "stdout",
       "text": [
        " 7689.84166457\n",
        "Total diff = 7689.84166457\n",
        "Total diff = 7689.84166457\n",
        "Total diff = 7689.84166457\n",
        "Total diff = 7689.84166457\n",
        "Total diff ="
       ]
      },
      {
       "output_type": "stream",
       "stream": "stdout",
       "text": [
        " 7689.84166457\n",
        "Total diff = 7689.84166457\n",
        "Total diff = 7689.84166457\n",
        "Total diff = 7689.84166457\n",
        "Total diff = 7689.84166457\n",
        "Total diff ="
       ]
      },
      {
       "output_type": "stream",
       "stream": "stdout",
       "text": [
        " 7689.84166457\n",
        "Total diff = 7689.84166457\n",
        "Total diff = 7689.84166457\n",
        "Total diff = 7689.84166457\n",
        "Total diff = 7689.84166457\n",
        "Total diff ="
       ]
      },
      {
       "output_type": "stream",
       "stream": "stdout",
       "text": [
        " 7689.84166457\n",
        "Total diff = 7689.84166457\n",
        "Total diff = 7689.84166457\n",
        "Total diff = 7689.84166457\n",
        "Total diff = 7689.84166457\n",
        "Total diff ="
       ]
      },
      {
       "output_type": "stream",
       "stream": "stdout",
       "text": [
        " 7689.84166457\n",
        "Total diff = 7689.84166457\n",
        "Total diff = 7689.84166457\n",
        "Total diff = 7689.84166457\n",
        "Total diff ="
       ]
      },
      {
       "output_type": "stream",
       "stream": "stdout",
       "text": [
        " 7689.84166457\n",
        "Total diff = 7689.84166457\n",
        "Total diff = 7689.84166457\n",
        "Total diff = 7689.84166457\n",
        "Total diff ="
       ]
      },
      {
       "output_type": "stream",
       "stream": "stdout",
       "text": [
        " 7689.84166457\n",
        "Total diff = 7689.84166457\n",
        "Total diff = 7689.84166457\n",
        "Total diff = 7689.84166457\n",
        "Total diff ="
       ]
      },
      {
       "output_type": "stream",
       "stream": "stdout",
       "text": [
        " 7689.84166457\n",
        "Total diff = 7689.84166457\n",
        "Total diff = 7689.84166457\n",
        "Total diff = 7689.84166457\n",
        "Total diff ="
       ]
      },
      {
       "output_type": "stream",
       "stream": "stdout",
       "text": [
        " 7689.84166457\n",
        "Total diff = 7689.84166457\n",
        "Total diff = 7689.84166457\n",
        "Total diff = 7689.84166457\n",
        "Total diff ="
       ]
      },
      {
       "output_type": "stream",
       "stream": "stdout",
       "text": [
        " 7689.84166457\n",
        "Total diff = 7689.84166457\n",
        "Total diff = 7689.84166457\n",
        "Total diff = 7689.84166457\n",
        "Total diff ="
       ]
      },
      {
       "output_type": "stream",
       "stream": "stdout",
       "text": [
        " 7689.84166457\n",
        "Total diff = 7689.84166457\n",
        "Total diff = 7689.84166457\n",
        "Total diff = 7689.84166457\n",
        "Total diff ="
       ]
      },
      {
       "output_type": "stream",
       "stream": "stdout",
       "text": [
        " 7689.84166457\n",
        "Total diff = 7689.84166457\n",
        "Total diff = 7689.84166457\n",
        "Total diff = 7689.84166457\n",
        "Total diff = 7689.84166457\n",
        "Total diff ="
       ]
      },
      {
       "output_type": "stream",
       "stream": "stdout",
       "text": [
        " 7689.84166457\n",
        "Total diff = 7689.84166457\n",
        "Total diff = 7689.84166457\n",
        "Total diff = 7689.84166457\n",
        "Total diff = 7689.84166457\n",
        "Total diff ="
       ]
      },
      {
       "output_type": "stream",
       "stream": "stdout",
       "text": [
        " 7689.84166457\n",
        "Total diff = 7689.84166457\n",
        "Total diff = 7689.84166457\n",
        "Total diff = 7689.84166457\n",
        "Total diff ="
       ]
      },
      {
       "output_type": "stream",
       "stream": "stdout",
       "text": [
        " 7689.84166457\n",
        "Total diff = 7689.84166457\n",
        "Total diff = 7689.84166457\n",
        "Total diff = 7689.84166457\n",
        "Total diff ="
       ]
      },
      {
       "output_type": "stream",
       "stream": "stdout",
       "text": [
        " 7689.84166457\n",
        "Total diff = 7689.84166457\n",
        "Total diff = 7689.84166457\n",
        "Total diff = 7689.84166457\n",
        "Total diff ="
       ]
      },
      {
       "output_type": "stream",
       "stream": "stdout",
       "text": [
        " 7689.84166457\n",
        "Total diff = 7689.84166457\n",
        "Total diff = 7689.84166457\n",
        "Total diff = 7689.84166457\n",
        "Total diff = 7689.84166457\n",
        "Total diff ="
       ]
      },
      {
       "output_type": "stream",
       "stream": "stdout",
       "text": [
        " 7689.84166457\n",
        "Total diff = 7689.84166457\n",
        "Total diff = 7689.84166457\n",
        "Total diff = 7689.84166457\n",
        "Total diff ="
       ]
      },
      {
       "output_type": "stream",
       "stream": "stdout",
       "text": [
        " 7689.84166457\n",
        "Total diff = 7689.84166457\n",
        "Total diff = 7689.84166457\n",
        "Total diff = 7689.84166457\n",
        "Total diff ="
       ]
      },
      {
       "output_type": "stream",
       "stream": "stdout",
       "text": [
        " 7689.84166457\n",
        "Total diff = 7689.84166457\n",
        "Total diff = 7689.84166457\n",
        "Total diff = 7689.84166457\n",
        "Total diff ="
       ]
      },
      {
       "output_type": "stream",
       "stream": "stdout",
       "text": [
        " 7689.84166457\n",
        "Total diff = 7689.84166457\n",
        "Total diff = 7689.84166457\n",
        "Total diff = 7689.84166457\n",
        "Total diff ="
       ]
      },
      {
       "output_type": "stream",
       "stream": "stdout",
       "text": [
        " 7689.84166457\n",
        "Total diff = 7689.84166457\n",
        "Total diff = 7689.84166457\n",
        "Total diff = 7689.84166457\n",
        "Total diff = 7689.84166457\n",
        "Total diff ="
       ]
      },
      {
       "output_type": "stream",
       "stream": "stdout",
       "text": [
        " 7689.84166457\n",
        "Total diff = 7689.84166457\n",
        "Total diff = 7689.84166457\n",
        "Total diff = 7689.84166457\n",
        "Total diff = 7689.84166457\n",
        "Total diff ="
       ]
      },
      {
       "output_type": "stream",
       "stream": "stdout",
       "text": [
        " 7689.84166457\n",
        "Total diff = 7689.84166457\n",
        "Total diff = 7689.84166457\n",
        "Total diff = 7689.84166457\n",
        "Total diff = 7689.84166457\n",
        "Total diff ="
       ]
      },
      {
       "output_type": "stream",
       "stream": "stdout",
       "text": [
        " 7689.84166457\n",
        "Total diff = 7689.84166457\n",
        "Total diff = 7689.84166457\n",
        "Total diff = 7689.84166457\n",
        "Total diff = 7689.84166457\n",
        "Total diff ="
       ]
      },
      {
       "output_type": "stream",
       "stream": "stdout",
       "text": [
        " 7689.84166457\n",
        "Total diff = 7689.84166457\n",
        "Total diff = 7689.84166457\n",
        "Total diff = 7689.84166457\n",
        "Total diff ="
       ]
      },
      {
       "output_type": "stream",
       "stream": "stdout",
       "text": [
        " 7689.84166457\n",
        "Total diff = 7689.84166457\n",
        "Total diff = 7689.84166457\n",
        "Total diff = 7689.84166457\n",
        "Total diff ="
       ]
      },
      {
       "output_type": "stream",
       "stream": "stdout",
       "text": [
        " 7689.84166457\n",
        "Total diff = 7689.84166457\n",
        "Total diff = 7689.84166457\n",
        "Total diff = 7689.84166457\n",
        "Total diff ="
       ]
      },
      {
       "output_type": "stream",
       "stream": "stdout",
       "text": [
        " 7689.84166457\n",
        "Total diff = 7689.84166457\n",
        "Total diff = 7689.84166457\n",
        "Total diff = 7689.84166457\n",
        "Total diff ="
       ]
      },
      {
       "ename": "KeyboardInterrupt",
       "evalue": "",
       "output_type": "pyerr",
       "traceback": [
        "\u001b[0;31m---------------------------------------------------------------------------\u001b[0m\n\u001b[0;31mKeyboardInterrupt\u001b[0m                         Traceback (most recent call last)",
        "\u001b[0;32m/Users/Carlos/Documents/workspace/wsm/wsm.pyc\u001b[0m in \u001b[0;36mfit_errors\u001b[0;34m(self, p, args)\u001b[0m\n\u001b[1;32m    372\u001b[0m         \u001b[0mcalibrationMap\u001b[0m \u001b[0;34m=\u001b[0m \u001b[0margs\u001b[0m\u001b[0;34m[\u001b[0m\u001b[0;36m2\u001b[0m\u001b[0;34m]\u001b[0m\u001b[0;34m\u001b[0m\u001b[0m\n\u001b[1;32m    373\u001b[0m \u001b[0;34m\u001b[0m\u001b[0m\n\u001b[0;32m--> 374\u001b[0;31m         \u001b[0mCCDMap\u001b[0m\u001b[0;34m,\u001b[0m \u001b[0mCCDMapOffset\u001b[0m \u001b[0;34m=\u001b[0m \u001b[0mself\u001b[0m\u001b[0;34m.\u001b[0m\u001b[0mcreate_ccd_map\u001b[0m\u001b[0;34m(\u001b[0m\u001b[0mSEDMap\u001b[0m\u001b[0;34m,\u001b[0m \u001b[0mmodelXMLFile\u001b[0m\u001b[0;34m,\u001b[0m \u001b[0mresetArcMap\u001b[0m \u001b[0;34m=\u001b[0m \u001b[0mFalse\u001b[0m\u001b[0;34m,\u001b[0m \u001b[0mp_try\u001b[0m \u001b[0;34m=\u001b[0m \u001b[0mp\u001b[0m\u001b[0;34m)\u001b[0m\u001b[0;34m\u001b[0m\u001b[0m\n\u001b[0m\u001b[1;32m    375\u001b[0m \u001b[0;34m\u001b[0m\u001b[0m\n\u001b[1;32m    376\u001b[0m         \u001b[0mCCDX_m\u001b[0m \u001b[0;34m=\u001b[0m \u001b[0mCCDMapOffset\u001b[0m\u001b[0;34m[\u001b[0m\u001b[0;34m:\u001b[0m\u001b[0;34m,\u001b[0m\u001b[0mc\u001b[0m\u001b[0;34m.\u001b[0m\u001b[0mCCDMap\u001b[0m\u001b[0;34m.\u001b[0m\u001b[0mx\u001b[0m\u001b[0;34m]\u001b[0m\u001b[0;34m[\u001b[0m\u001b[0mself\u001b[0m\u001b[0;34m.\u001b[0m\u001b[0marcMapMask\u001b[0m\u001b[0;34m]\u001b[0m\u001b[0;34m\u001b[0m\u001b[0m\n",
        "\u001b[0;32m/Users/Carlos/Documents/workspace/wsm/wsm.pyc\u001b[0m in \u001b[0;36mcreate_ccd_map\u001b[0;34m(self, SEDMap, modelXMLFile, resetArcMap, p_try, booAddCero)\u001b[0m\n\u001b[1;32m    288\u001b[0m \u001b[0;34m\u001b[0m\u001b[0m\n\u001b[1;32m    289\u001b[0m         \u001b[0;31m#Reads xml file\u001b[0m\u001b[0;34m\u001b[0m\u001b[0;34m\u001b[0m\u001b[0m\n\u001b[0;32m--> 290\u001b[0;31m         \u001b[0mself\u001b[0m\u001b[0;34m.\u001b[0m\u001b[0mread_xml\u001b[0m\u001b[0;34m(\u001b[0m\u001b[0mmodelXMLFile\u001b[0m\u001b[0;34m,\u001b[0m \u001b[0mp_try\u001b[0m\u001b[0;34m=\u001b[0m\u001b[0mp_try\u001b[0m\u001b[0;34m)\u001b[0m\u001b[0;34m\u001b[0m\u001b[0m\n\u001b[0m\u001b[1;32m    291\u001b[0m \u001b[0;34m\u001b[0m\u001b[0m\n\u001b[1;32m    292\u001b[0m         \u001b[0;31m#hack for RHEA. Needs manual reverse of prism on beam return. todo\u001b[0m\u001b[0;34m\u001b[0m\u001b[0;34m\u001b[0m\u001b[0m\n",
        "\u001b[0;32m/Users/Carlos/Documents/workspace/wsm/wsm.pyc\u001b[0m in \u001b[0;36mread_xml\u001b[0;34m(self, modelXMLFile, fitsFile, p_try)\u001b[0m\n\u001b[1;32m    172\u001b[0m         \u001b[0;32mglobal\u001b[0m \u001b[0ma\u001b[0m\u001b[0;34m,\u001b[0m \u001b[0mb\u001b[0m\u001b[0;34m\u001b[0m\u001b[0m\n\u001b[1;32m    173\u001b[0m \u001b[0;34m\u001b[0m\u001b[0m\n\u001b[0;32m--> 174\u001b[0;31m         \u001b[0mBeams\u001b[0m\u001b[0;34m,\u001b[0m \u001b[0mOptics\u001b[0m\u001b[0;34m,\u001b[0m \u001b[0mCameras\u001b[0m\u001b[0;34m,\u001b[0m \u001b[0mp\u001b[0m\u001b[0;34m,\u001b[0m \u001b[0mstheta\u001b[0m \u001b[0;34m=\u001b[0m \u001b[0mwt\u001b[0m\u001b[0;34m.\u001b[0m\u001b[0mxml\u001b[0m\u001b[0;34m.\u001b[0m\u001b[0mread_all\u001b[0m\u001b[0;34m(\u001b[0m\u001b[0mmodelXMLFile\u001b[0m\u001b[0;34m,\u001b[0m \u001b[0mp_try\u001b[0m \u001b[0;34m=\u001b[0m \u001b[0mp_try\u001b[0m\u001b[0;34m)\u001b[0m\u001b[0;34m\u001b[0m\u001b[0m\n\u001b[0m\u001b[1;32m    175\u001b[0m \u001b[0;34m\u001b[0m\u001b[0m\n\u001b[1;32m    176\u001b[0m         \u001b[0mself\u001b[0m\u001b[0;34m.\u001b[0m\u001b[0mbeams\u001b[0m\u001b[0;34m.\u001b[0m\u001b[0mraw\u001b[0m \u001b[0;34m=\u001b[0m \u001b[0mBeams\u001b[0m\u001b[0;34m\u001b[0m\u001b[0m\n",
        "\u001b[0;32m/Users/Carlos/Documents/workspace/wsm/wsmtools/xml_parser.pyc\u001b[0m in \u001b[0;36mread_all\u001b[0;34m(modelXMLFile, p_try)\u001b[0m\n\u001b[1;32m    188\u001b[0m                                         \u001b[0mp\u001b[0m\u001b[0;34m[\u001b[0m\u001b[0mint\u001b[0m\u001b[0;34m(\u001b[0m\u001b[0mchild\u001b[0m\u001b[0;34m.\u001b[0m\u001b[0mattributes\u001b[0m\u001b[0;34m.\u001b[0m\u001b[0mgetNamedItem\u001b[0m\u001b[0;34m(\u001b[0m\u001b[0;34m'param'\u001b[0m\u001b[0;34m)\u001b[0m\u001b[0;34m.\u001b[0m\u001b[0mvalue\u001b[0m\u001b[0;34m)\u001b[0m\u001b[0;34m]\u001b[0m \u001b[0;34m=\u001b[0m \u001b[0mfloat\u001b[0m\u001b[0;34m(\u001b[0m\u001b[0mchild\u001b[0m\u001b[0;34m.\u001b[0m\u001b[0mfirstChild\u001b[0m\u001b[0;34m.\u001b[0m\u001b[0mdata\u001b[0m\u001b[0;34m)\u001b[0m\u001b[0;34m\u001b[0m\u001b[0m\n\u001b[1;32m    189\u001b[0m                                     \u001b[0;32melse\u001b[0m\u001b[0;34m:\u001b[0m\u001b[0;34m\u001b[0m\u001b[0m\n\u001b[0;32m--> 190\u001b[0;31m                                         \u001b[0mp\u001b[0m\u001b[0;34m[\u001b[0m\u001b[0mint\u001b[0m\u001b[0;34m(\u001b[0m\u001b[0mchild\u001b[0m\u001b[0;34m.\u001b[0m\u001b[0mattributes\u001b[0m\u001b[0;34m.\u001b[0m\u001b[0mgetNamedItem\u001b[0m\u001b[0;34m(\u001b[0m\u001b[0;34m'param'\u001b[0m\u001b[0;34m)\u001b[0m\u001b[0;34m.\u001b[0m\u001b[0mvalue\u001b[0m\u001b[0;34m)\u001b[0m\u001b[0;34m]\u001b[0m \u001b[0;34m=\u001b[0m \u001b[0mp_try\u001b[0m\u001b[0;34m[\u001b[0m\u001b[0mint\u001b[0m\u001b[0;34m(\u001b[0m\u001b[0mchild\u001b[0m\u001b[0;34m.\u001b[0m\u001b[0mattributes\u001b[0m\u001b[0;34m.\u001b[0m\u001b[0mgetNamedItem\u001b[0m\u001b[0;34m(\u001b[0m\u001b[0;34m'param'\u001b[0m\u001b[0;34m)\u001b[0m\u001b[0;34m.\u001b[0m\u001b[0mvalue\u001b[0m\u001b[0;34m)\u001b[0m\u001b[0;34m]\u001b[0m\u001b[0;34m\u001b[0m\u001b[0m\n\u001b[0m\u001b[1;32m    191\u001b[0m                                         \u001b[0;32mif\u001b[0m \u001b[0mchild\u001b[0m\u001b[0;34m.\u001b[0m\u001b[0mnodeName\u001b[0m\u001b[0;34m==\u001b[0m\u001b[0;34m'phi'\u001b[0m\u001b[0;34m:\u001b[0m\u001b[0;34m\u001b[0m\u001b[0m\n\u001b[1;32m    192\u001b[0m                                             \u001b[0mphi\u001b[0m \u001b[0;34m=\u001b[0m \u001b[0mp_try\u001b[0m\u001b[0;34m[\u001b[0m\u001b[0mint\u001b[0m\u001b[0;34m(\u001b[0m\u001b[0mchild\u001b[0m\u001b[0;34m.\u001b[0m\u001b[0mattributes\u001b[0m\u001b[0;34m.\u001b[0m\u001b[0mgetNamedItem\u001b[0m\u001b[0;34m(\u001b[0m\u001b[0;34m'param'\u001b[0m\u001b[0;34m)\u001b[0m\u001b[0;34m.\u001b[0m\u001b[0mvalue\u001b[0m\u001b[0;34m)\u001b[0m\u001b[0;34m]\u001b[0m\u001b[0;34m\u001b[0m\u001b[0m\n",
        "\u001b[0;31mKeyboardInterrupt\u001b[0m: "
       ]
      },
      {
       "ename": "error",
       "evalue": "Error occurred while calling the Python function named fit_errors",
       "output_type": "pyerr",
       "traceback": [
        "\u001b[0;31m---------------------------------------------------------------------------\u001b[0m\n\u001b[0;31merror\u001b[0m                                     Traceback (most recent call last)",
        "\u001b[0;32m<ipython-input-45-12a647de0174>\u001b[0m in \u001b[0;36m<module>\u001b[0;34m()\u001b[0m\n\u001b[1;32m      1\u001b[0m \u001b[0mdiagTry\u001b[0m \u001b[0;34m=\u001b[0m \u001b[0mnp\u001b[0m\u001b[0;34m.\u001b[0m\u001b[0mones\u001b[0m\u001b[0;34m(\u001b[0m\u001b[0;36m15\u001b[0m\u001b[0;34m)\u001b[0m\u001b[0;34m\u001b[0m\u001b[0m\n\u001b[1;32m      2\u001b[0m \u001b[0;31m#if happy, find fit\u001b[0m\u001b[0;34m\u001b[0m\u001b[0;34m\u001b[0m\u001b[0m\n\u001b[0;32m----> 3\u001b[0;31m \u001b[0mdirhea\u001b[0m\u001b[0;34m.\u001b[0m\u001b[0mfind_fit\u001b[0m\u001b[0;34m(\u001b[0m\u001b[0mSEDMap\u001b[0m\u001b[0;34m,\u001b[0m \u001b[0mxml\u001b[0m\u001b[0;34m,\u001b[0m \u001b[0mcalibrationMap\u001b[0m\u001b[0;34m,\u001b[0m \u001b[0mp_try\u001b[0m\u001b[0;34m=\u001b[0m\u001b[0;34m[\u001b[0m\u001b[0;34m]\u001b[0m\u001b[0;34m,\u001b[0m \u001b[0mfactorTry\u001b[0m\u001b[0;34m=\u001b[0m\u001b[0;36m1\u001b[0m\u001b[0;34m,\u001b[0m \u001b[0mdiagTry\u001b[0m\u001b[0;34m=\u001b[0m\u001b[0mdiagTry\u001b[0m\u001b[0;34m,\u001b[0m \u001b[0mshowStats\u001b[0m\u001b[0;34m=\u001b[0m\u001b[0mFalse\u001b[0m\u001b[0;34m,\u001b[0m \u001b[0mbooWriteP\u001b[0m\u001b[0;34m=\u001b[0m\u001b[0mTrue\u001b[0m\u001b[0;34m)\u001b[0m\u001b[0;34m\u001b[0m\u001b[0m\n\u001b[0m",
        "\u001b[0;32m/Users/Carlos/Documents/workspace/wsm/wsm.pyc\u001b[0m in \u001b[0;36mfind_fit\u001b[0;34m(self, SEDMap, modelXMLFile, calibrationMap, p_try, factorTry, diagTry, showStats, maxfev, booWriteP)\u001b[0m\n\u001b[1;32m    345\u001b[0m \u001b[0;34m\u001b[0m\u001b[0m\n\u001b[1;32m    346\u001b[0m         \u001b[0;32mwhile\u001b[0m \u001b[0mTrue\u001b[0m\u001b[0;34m:\u001b[0m\u001b[0;34m\u001b[0m\u001b[0m\n\u001b[0;32m--> 347\u001b[0;31m             \u001b[0mfit\u001b[0m \u001b[0;34m=\u001b[0m \u001b[0mleastsq\u001b[0m\u001b[0;34m(\u001b[0m\u001b[0mself\u001b[0m\u001b[0;34m.\u001b[0m\u001b[0mfit_errors\u001b[0m\u001b[0;34m,\u001b[0m \u001b[0mp_try\u001b[0m\u001b[0;34m,\u001b[0m \u001b[0margs\u001b[0m\u001b[0;34m=\u001b[0m\u001b[0;34m[\u001b[0m\u001b[0mSEDMap\u001b[0m\u001b[0;34m,\u001b[0m \u001b[0mmodelXMLFile\u001b[0m\u001b[0;34m,\u001b[0m \u001b[0mcalibrationMap\u001b[0m\u001b[0;34m]\u001b[0m\u001b[0;34m,\u001b[0m \u001b[0mfull_output\u001b[0m\u001b[0;34m=\u001b[0m\u001b[0mTrue\u001b[0m\u001b[0;34m,\u001b[0m \u001b[0mfactor\u001b[0m \u001b[0;34m=\u001b[0m \u001b[0mfactorTry\u001b[0m\u001b[0;34m,\u001b[0m \u001b[0mdiag\u001b[0m \u001b[0;34m=\u001b[0m \u001b[0mdiagTry\u001b[0m\u001b[0;34m,\u001b[0m \u001b[0mmaxfev\u001b[0m \u001b[0;34m=\u001b[0m \u001b[0mmaxfev\u001b[0m\u001b[0;34m)\u001b[0m\u001b[0;34m\u001b[0m\u001b[0m\n\u001b[0m\u001b[1;32m    348\u001b[0m             \u001b[0;32mif\u001b[0m \u001b[0mfit\u001b[0m\u001b[0;34m[\u001b[0m\u001b[0;34m-\u001b[0m\u001b[0;36m1\u001b[0m\u001b[0;34m]\u001b[0m \u001b[0;34m!=\u001b[0m \u001b[0;36m0\u001b[0m\u001b[0;34m:\u001b[0m \u001b[0;31m#workaround to avoid inconsistent message 'wrong input parameters(error code 0)'\u001b[0m\u001b[0;34m\u001b[0m\u001b[0m\n\u001b[1;32m    349\u001b[0m                 \u001b[0;32mbreak\u001b[0m\u001b[0;34m\u001b[0m\u001b[0m\n",
        "\u001b[0;32m/opt/local/Library/Frameworks/Python.framework/Versions/2.7/lib/python2.7/site-packages/scipy/optimize/minpack.pyc\u001b[0m in \u001b[0;36mleastsq\u001b[0;34m(func, x0, args, Dfun, full_output, col_deriv, ftol, xtol, gtol, maxfev, epsfcn, factor, diag)\u001b[0m\n\u001b[1;32m    353\u001b[0m             \u001b[0mmaxfev\u001b[0m \u001b[0;34m=\u001b[0m \u001b[0;36m200\u001b[0m\u001b[0;34m*\u001b[0m\u001b[0;34m(\u001b[0m\u001b[0mn\u001b[0m \u001b[0;34m+\u001b[0m \u001b[0;36m1\u001b[0m\u001b[0;34m)\u001b[0m\u001b[0;34m\u001b[0m\u001b[0m\n\u001b[1;32m    354\u001b[0m         retval = _minpack._lmdif(func, x0, args, full_output, ftol, xtol,\n\u001b[0;32m--> 355\u001b[0;31m                 gtol, maxfev, epsfcn, factor, diag)\n\u001b[0m\u001b[1;32m    356\u001b[0m     \u001b[0;32melse\u001b[0m\u001b[0;34m:\u001b[0m\u001b[0;34m\u001b[0m\u001b[0m\n\u001b[1;32m    357\u001b[0m         \u001b[0;32mif\u001b[0m \u001b[0mcol_deriv\u001b[0m\u001b[0;34m:\u001b[0m\u001b[0;34m\u001b[0m\u001b[0m\n",
        "\u001b[0;31merror\u001b[0m: Error occurred while calling the Python function named fit_errors"
       ]
      },
      {
       "output_type": "stream",
       "stream": "stdout",
       "text": [
        " 7689.84166457\n",
        "Total diff = 7689.84166457\n",
        "Total diff = 7689.84166457\n",
        "Total diff = 7689.84166457\n",
        "Total diff = 7689.84166457\n"
       ]
      }
     ],
     "prompt_number": 45
    },
    {
     "cell_type": "heading",
     "level": 3,
     "metadata": {},
     "source": [
      "Extract using model"
     ]
    },
    {
     "cell_type": "code",
     "collapsed": false,
     "input": [
      "xml = 'dirhea_v8.xml'"
     ],
     "language": "python",
     "metadata": {},
     "outputs": [],
     "prompt_number": 31
    },
    {
     "cell_type": "code",
     "collapsed": false,
     "input": [
      "dirhea.read_xml(xml)"
     ],
     "language": "python",
     "metadata": {},
     "outputs": [],
     "prompt_number": 32
    },
    {
     "cell_type": "code",
     "collapsed": false,
     "input": [
      "SEDMap = dirhea.create_sed_map(SEDMode=wsm.c.sedMode.flat, minLambda=1.0, maxLambda=2.0, deltaLambda =0.001 )"
     ],
     "language": "python",
     "metadata": {},
     "outputs": [],
     "prompt_number": 33
    },
    {
     "cell_type": "code",
     "collapsed": false,
     "input": [
      "dirhea.orders = range(40,29,-1)"
     ],
     "language": "python",
     "metadata": {},
     "outputs": [],
     "prompt_number": 34
    },
    {
     "cell_type": "code",
     "collapsed": false,
     "input": [
      "CCDMap,CCDMapOffset = dirhea.create_ccd_map(SEDMap, xml)"
     ],
     "language": "python",
     "metadata": {},
     "outputs": [],
     "prompt_number": 35
    },
    {
     "cell_type": "code",
     "collapsed": false,
     "input": [
      "wsm.plot().ccd_map(CCDMapOffset, canvasSize=1.2, backImage=fullScience)"
     ],
     "language": "python",
     "metadata": {},
     "outputs": [],
     "prompt_number": 38
    },
    {
     "cell_type": "code",
     "collapsed": false,
     "input": [
      "dirhea.extract_order(CCDMapOffset, 30, fullScience_d, orderFileName='20140502_30.txt')"
     ],
     "language": "python",
     "metadata": {},
     "outputs": [
      {
       "ename": "ValueError",
       "evalue": "operands could not be broadcast together with shapes (0) (11) ",
       "output_type": "pyerr",
       "traceback": [
        "\u001b[0;31m---------------------------------------------------------------------------\u001b[0m\n\u001b[0;31mValueError\u001b[0m                                Traceback (most recent call last)",
        "\u001b[0;32m<ipython-input-15-540f2bf914c3>\u001b[0m in \u001b[0;36m<module>\u001b[0;34m()\u001b[0m\n\u001b[0;32m----> 1\u001b[0;31m \u001b[0mdirhea\u001b[0m\u001b[0;34m.\u001b[0m\u001b[0mextract_order\u001b[0m\u001b[0;34m(\u001b[0m\u001b[0mCCDMapOffset\u001b[0m\u001b[0;34m,\u001b[0m \u001b[0;36m30\u001b[0m\u001b[0;34m,\u001b[0m \u001b[0mfullScience_d\u001b[0m\u001b[0;34m,\u001b[0m \u001b[0morderFileName\u001b[0m\u001b[0;34m=\u001b[0m\u001b[0;34m'20140502_30.txt'\u001b[0m\u001b[0;34m)\u001b[0m\u001b[0;34m\u001b[0m\u001b[0m\n\u001b[0m",
        "\u001b[0;32m/Users/Carlos/Documents/workspace/wsm/wsm.py\u001b[0m in \u001b[0;36mextract_order\u001b[0;34m(self, CCDMap, nOrder, image, orderFileName, booShowImage)\u001b[0m\n\u001b[1;32m    480\u001b[0m             \u001b[0mnp\u001b[0m\u001b[0;34m.\u001b[0m\u001b[0msavetxt\u001b[0m\u001b[0;34m(\u001b[0m\u001b[0morderFileName\u001b[0m\u001b[0;34m,\u001b[0m \u001b[0ma\u001b[0m\u001b[0;34m)\u001b[0m\u001b[0;34m\u001b[0m\u001b[0m\n\u001b[1;32m    481\u001b[0m \u001b[0;34m\u001b[0m\u001b[0m\n\u001b[0;32m--> 482\u001b[0;31m         \u001b[0mflux\u001b[0m \u001b[0;34m=\u001b[0m \u001b[0mwt\u001b[0m\u001b[0;34m.\u001b[0m\u001b[0mia\u001b[0m\u001b[0;34m.\u001b[0m\u001b[0mextract_order\u001b[0m\u001b[0;34m(\u001b[0m\u001b[0mnewX\u001b[0m\u001b[0;34m,\u001b[0m \u001b[0mnewY\u001b[0m\u001b[0;34m,\u001b[0m \u001b[0mimage\u001b[0m\u001b[0;34m,\u001b[0m \u001b[0mbooShowImage\u001b[0m\u001b[0;34m)\u001b[0m\u001b[0;34m\u001b[0m\u001b[0m\n\u001b[0m\u001b[1;32m    483\u001b[0m \u001b[0;34m\u001b[0m\u001b[0m\n\u001b[1;32m    484\u001b[0m         \u001b[0;32mreturn\u001b[0m \u001b[0mnewLambdas\u001b[0m\u001b[0;34m,\u001b[0m \u001b[0mflux\u001b[0m\u001b[0;34m\u001b[0m\u001b[0m\n",
        "\u001b[0;32m/Users/Carlos/Documents/workspace/wsm/wsmtools/image_analysis.pyc\u001b[0m in \u001b[0;36mextract_order\u001b[0;34m(x, y, image, booShowImage)\u001b[0m\n\u001b[1;32m    149\u001b[0m         \u001b[0min_image_temp\u001b[0m\u001b[0;34m[\u001b[0m\u001b[0min_image_temp\u001b[0m \u001b[0;34m<\u001b[0m \u001b[0;36m0\u001b[0m\u001b[0;34m]\u001b[0m \u001b[0;34m=\u001b[0m \u001b[0;36m0\u001b[0m\u001b[0;34m\u001b[0m\u001b[0m\n\u001b[1;32m    150\u001b[0m         \u001b[0mxv\u001b[0m \u001b[0;34m=\u001b[0m \u001b[0mnp\u001b[0m\u001b[0;34m.\u001b[0m\u001b[0marange\u001b[0m\u001b[0;34m(\u001b[0m\u001b[0;34m-\u001b[0m\u001b[0;36m5\u001b[0m\u001b[0;34m,\u001b[0m\u001b[0;36m6\u001b[0m\u001b[0;34m)\u001b[0m  \u001b[0;34m+\u001b[0m \u001b[0mx_int\u001b[0m \u001b[0;34m-\u001b[0m \u001b[0mx\u001b[0m\u001b[0;34m[\u001b[0m\u001b[0mk\u001b[0m\u001b[0;34m]\u001b[0m\u001b[0;34m\u001b[0m\u001b[0m\n\u001b[0;32m--> 151\u001b[0;31m         \u001b[0mflux\u001b[0m\u001b[0;34m[\u001b[0m\u001b[0mk\u001b[0m\u001b[0;34m]\u001b[0m \u001b[0;34m=\u001b[0m  \u001b[0mnp\u001b[0m\u001b[0;34m.\u001b[0m\u001b[0msum\u001b[0m\u001b[0;34m(\u001b[0m\u001b[0min_image_temp\u001b[0m \u001b[0;34m*\u001b[0m \u001b[0mnp\u001b[0m\u001b[0;34m.\u001b[0m\u001b[0mexp\u001b[0m\u001b[0;34m(\u001b[0m\u001b[0;34m-\u001b[0m\u001b[0;34m(\u001b[0m\u001b[0mxv\u001b[0m\u001b[0;34m/\u001b[0m\u001b[0;36m3.5\u001b[0m\u001b[0;34m)\u001b[0m\u001b[0;34m**\u001b[0m\u001b[0;36m4\u001b[0m\u001b[0;34m)\u001b[0m\u001b[0;34m)\u001b[0m\u001b[0;34m\u001b[0m\u001b[0m\n\u001b[0m\u001b[1;32m    152\u001b[0m \u001b[0;31m#        flux2[k] = np.sum(in_image_temp)\u001b[0m\u001b[0;34m\u001b[0m\u001b[0;34m\u001b[0m\u001b[0m\n\u001b[1;32m    153\u001b[0m \u001b[0;31m#        flux3[k] = np.sum(in_image_temp)- np.sum(in_image_temp * np.exp(-(xv/3.5)**4))\u001b[0m\u001b[0;34m\u001b[0m\u001b[0;34m\u001b[0m\u001b[0m\n",
        "\u001b[0;31mValueError\u001b[0m: operands could not be broadcast together with shapes (0) (11) "
       ]
      }
     ],
     "prompt_number": 15
    },
    {
     "cell_type": "heading",
     "level": 3,
     "metadata": {},
     "source": [
      "Create new CCDMap using wavelength list"
     ]
    },
    {
     "cell_type": "code",
     "collapsed": false,
     "input": [
      "fig = plt.figure()\n",
      "ax = fig.add_subplot(111, projection='3d')\n",
      "for i in range(0,len(dirhea.CCDMap3D[:,0,0])):\n",
      "#     for i in [0,len(dirhea.CCDMap3D[:,0,0])/2,len(dirhea.CCDMap3D[:,0,0])-1]:\n",
      "    x = dirhea.CCDMap3D[i,0,:]\n",
      "    y = dirhea.CCDMap3D[i,1,:]\n",
      "    z = dirhea.CCDMap3D[i,2,:]\n",
      "    ax.plot(x, y, z)\n",
      "\n",
      "ax.set_xlabel('X')\n",
      "ax.set_ylabel('Y (into Camera)')\n",
      "ax.set_zlabel('Z (up)')\n",
      "plt.show()\n"
     ],
     "language": "python",
     "metadata": {},
     "outputs": []
    },
    {
     "cell_type": "code",
     "collapsed": false,
     "input": [
      "wsm.plot().calib_points('calibMap.txt', backImage=fullImage, booLabels = True)\n"
     ],
     "language": "python",
     "metadata": {},
     "outputs": []
    },
    {
     "cell_type": "heading",
     "level": 3,
     "metadata": {},
     "source": [
      "RHEA stuff"
     ]
    },
    {
     "cell_type": "code",
     "collapsed": false,
     "input": [
      "#Enter file information\n",
      "sexParamFile = 'rhea.sex'\n",
      "xml = 'rhea_v7.xml'\n",
      "# list of [arc,science] files\n",
      "arcScienceMap = np.array([['20140208220659.fits','20140208220925.fits'],\n",
      "                          ['20140208222447.fits','20140208222708.fits'],\n",
      "                          ['20140208224231.fits','20140208224451.fits'],\n",
      "                          ['20140208230013.fits','20140208230233.fits'],\n",
      "                          ['20140208231755.fits','20140208232015.fits'],\n",
      "                          ['20140208233535.fits','20140208233755.fits'],\n",
      "                          ['20140208235320.fits','20140208235540.fits'],\n",
      "                          ['20140209001101.fits','20140209001321.fits'],\n",
      "                          ['20140209002843.fits','20140209003103.fits']])\n",
      "arcScienceMap = np.array([['20140501001817.fits','20140430225528.fits']])\n",
      "\n",
      "\n"
     ],
     "language": "python",
     "metadata": {},
     "outputs": []
    },
    {
     "cell_type": "code",
     "collapsed": true,
     "input": [
      "#sets the current arc and science file\n",
      "currentFilesIdx = 0\n",
      "arcFile = arcScienceMap[currentFilesIdx,0]\n",
      "scienceFile = arcScienceMap[currentFilesIdx,1]"
     ],
     "language": "python",
     "metadata": {},
     "outputs": []
    },
    {
     "cell_type": "heading",
     "level": 2,
     "metadata": {},
     "source": [
      "Find model"
     ]
    },
    {
     "cell_type": "code",
     "collapsed": false,
     "input": [
      "#loads arcMapMask from external file (alternatively to previous step)\n",
      "rhea.arcMapMask = np.loadtxt('rhea_arcMask.txt').astype(bool)\n",
      "calibrationMap = rhea.clear_calib_from_CCDMap(calibrationMap, CCDMapOffset[rhea.arcMapMask])\n",
      "np.savetxt(calibFileNoWl,calibrationMap)"
     ],
     "language": "python",
     "metadata": {},
     "outputs": []
    },
    {
     "cell_type": "code",
     "collapsed": false,
     "input": [
      "# show count of both maps, should be equal.\n",
      "print 'CCD points ',rhea.CCDMap[rhea.arcMapMask].shape[0]\n",
      "print 'Calib points',calibrationMap.shape[0]"
     ],
     "language": "python",
     "metadata": {},
     "outputs": []
    },
    {
     "cell_type": "code",
     "collapsed": false,
     "input": [
      "rhea.save_arcMaskMap() #if want to reuse arc mask map for batch, save it here"
     ],
     "language": "python",
     "metadata": {},
     "outputs": []
    },
    {
     "cell_type": "code",
     "collapsed": false,
     "input": [
      "#finally, assign wavelength\n",
      "calibFile = rhea.assign_initial_wavelength(calibFileNoWl, xml, SEDMap, booAvgAdjust = True)\n",
      "calibrationMap = wsm.wt.ia.read_full_calibration_data(calibFile)\n",
      "np.savetxt(calibFileNoWl,calibrationMap)"
     ],
     "language": "python",
     "metadata": {},
     "outputs": []
    },
    {
     "cell_type": "code",
     "collapsed": false,
     "input": [
      "#see what you got.\n",
      "a,b = wsm.plot().calib_points_CCDMap(arcFile, calibrationMap, CCDMapOffset, booLabels = True, canvasSize=1, title = 'Calibration vs Model (wavelength assigned)', booInteractive=0, arcMapMask = rhea.arcMapMask)\n"
     ],
     "language": "python",
     "metadata": {},
     "outputs": []
    },
    {
     "cell_type": "code",
     "collapsed": false,
     "input": [
      "#sets the current arc and science file\n",
      "currentFilesIdx = 1\n",
      "arcFile = arcScienceMap[currentFilesIdx,0]\n",
      "scienceFile = arcScienceMap[currentFilesIdx,1]"
     ],
     "language": "python",
     "metadata": {},
     "outputs": []
    },
    {
     "cell_type": "code",
     "collapsed": false,
     "input": [
      "from scipy import interpolate\n",
      "orderMap = CCDMapOffset[:,c.CCDMap.order]==87\n",
      "xPlot = CCDMapOffset[:,c.CCDMap.x][orderMap]\n",
      "yPlot = CCDMapOffset[:,c.CCDMap.y][orderMap]\n",
      "LambdaPlot = CCDMapOffset[:,c.CCDMap.wavelength][orderMap]\n",
      "\n",
      "fLambda = interpolate.interp1d(yPlot, LambdaPlot)\n",
      "fX = interpolate.interp1d(yPlot, xPlot, 'quadratic', bounds_error=False)\n",
      "\n",
      "hdulist = pf.open(scienceFile)\n",
      "imWidth = hdulist[0].header['NAXIS1']\n",
      "imHeight = hdulist[0].header['NAXIS2']\n",
      "\n",
      "if ((min(yPlot)>0) or (max(yPlot)<imHeight)):\n",
      "    yRange = yPlot\n",
      "else:\n",
      "    yRange = range(0,imHeight+1)\n",
      "\n",
      "newX, newY, newLambdas = wsm.wt.calculate_from_Y(yRange, fX, fLambda)\n"
     ],
     "language": "python",
     "metadata": {},
     "outputs": []
    },
    {
     "cell_type": "code",
     "collapsed": false,
     "input": [
      "plt.plot(newX,newY)\n",
      "plt.show()"
     ],
     "language": "python",
     "metadata": {},
     "outputs": []
    },
    {
     "cell_type": "code",
     "collapsed": false,
     "input": [
      "    \n",
      "    for k in range(0,len(newY)):\n",
      "        ###mikes'\n",
      "        x_int = round(newX[k])\n",
      "        #if e.g. x = 10.4, this goes from 5 to 15, and xv at the center is 0.4\n",
      "        in_image_temp = im[y[k],x_int-5:x_int+6]\n",
      "#        in_image_temp=im[y[k],x_int-5]        \n",
      "#        for i in range(-4,6):\n",
      "#            in_image_temp = np.hstack((in_image_temp,im[y[k+i-4],x_int+i]))          \n",
      "        in_image_temp[in_image_temp < 0] = 0\n",
      "        xv = np.arange(-5,6)  + x_int - x[k]\n",
      "        flux[k] =  np.sum(in_image_temp * np.exp(-(xv/3.5)**4))\n",
      "#"
     ],
     "language": "python",
     "metadata": {},
     "outputs": []
    },
    {
     "cell_type": "code",
     "collapsed": false,
     "input": [
      "for i in range(80,120):\n",
      "    x,y = rhea.extract_order(CCDMapOffset, i, scienceFile, False)\n",
      "    plt.plot(x,y)\n",
      "    plt.title(str(i))\n",
      "    plt.show()"
     ],
     "language": "python",
     "metadata": {},
     "outputs": []
    },
    {
     "cell_type": "code",
     "collapsed": false,
     "input": [
      "wsm.plot().ccd_map(CCDMapOffset, backImage = arcFile)"
     ],
     "language": "python",
     "metadata": {},
     "outputs": []
    },
    {
     "cell_type": "code",
     "collapsed": false,
     "input": [
      "import RVSimulator as RVS\n",
      "import HERMES as H"
     ],
     "language": "python",
     "metadata": {},
     "outputs": []
    },
    {
     "cell_type": "code",
     "collapsed": false,
     "input": [
      "y1_clean = RVS.clean_flux(y1, lambdas = x1)"
     ],
     "language": "python",
     "metadata": {},
     "outputs": []
    },
    {
     "cell_type": "code",
     "collapsed": false,
     "input": [
      "y2_clean = RVS.clean_flux(y2, lambdas = x2)"
     ],
     "language": "python",
     "metadata": {},
     "outputs": []
    },
    {
     "cell_type": "code",
     "collapsed": false,
     "input": [
      "RVS.QdRV(x2,y2)"
     ],
     "language": "python",
     "metadata": {},
     "outputs": []
    },
    {
     "cell_type": "code",
     "collapsed": false,
     "input": [
      "a = H.RV()"
     ],
     "language": "python",
     "metadata": {},
     "outputs": []
    },
    {
     "cell_type": "code",
     "collapsed": false,
     "input": [
      "a.RV(y2_clean[0],y2_clean[1],y1_clean[0],y1_clean[1], 10)"
     ],
     "language": "python",
     "metadata": {},
     "outputs": []
    },
    {
     "cell_type": "code",
     "collapsed": false,
     "input": [
      "plt.plot(y1_clean[1])\n",
      "plt.plot(y2_clean[1])\n",
      "plt.show()"
     ],
     "language": "python",
     "metadata": {},
     "outputs": []
    },
    {
     "cell_type": "heading",
     "level": 2,
     "metadata": {},
     "source": [
      "Tests and internal work to follow. Not needed. "
     ]
    },
    {
     "cell_type": "code",
     "collapsed": false,
     "input": [
      "#avg shift code to \n",
      "avgImageX = np.average(calibrationMap[:,wsm.c.calibrationMap.x])\n",
      "avgImageY = np.average(calibrationMap[:,wsm.c.calibrationMap.y])\n",
      "avgCCDX = np.average(CCDMapOffset[:,wsm.c.CCDMap.x][rhea.arcMapMask])\n",
      "avgCCDY = np.average(CCDMapOffset[:,wsm.c.CCDMap.y][rhea.arcMapMask])\n",
      "CCDXShifted = CCDMapOffset[:,wsm.c.CCDMap.x] + (avgImageX - avgCCDX)\n",
      "CCDYShifted = CCDMapOffset[:,wsm.c.CCDMap.y] + (avgImageY - avgCCDY)\n",
      "\n",
      "plt.scatter(calibrationMap[:,wsm.c.calibrationMap.x],calibrationMap[:,wsm.c.calibrationMap.y], label='calib',color='red')\n",
      "plt.scatter(avgImageX,avgImageY ,color='red', s=50, alpha = 0.5)\n",
      "plt.scatter(CCDMapOffset[:,wsm.c.CCDMap.x],CCDMapOffset[:,wsm.c.CCDMap.y], color='blue', label='model')\n",
      "plt.scatter(avgCCDX,avgCCDY ,color='blue', s=50, alpha = 0.5)\n",
      "plt.scatter(CCDXShifted,CCDYShifted, color='green', marker='o', s = 100, alpha = 0.5, label='corrected')\n",
      "plt.legend(loc='best')\n",
      "plt.show()\n",
      "\n",
      "CCDMapOffset[:,wsm.c.CCDMap.x] = CCDXShifted \n",
      "CCDMapOffset[:,wsm.c.CCDMap.y] = CCDYShifted\n",
      "for i in range(len(calibrationMap[:,wsm.c.calibrationMap.x])):\n",
      "    \n",
      "    distance_array = np.sqrt((CCDMapOffset[:,wsm.c.CCDMap.x][rhea.arcMapMask]-calibrationMap[i,wsm.c.calibrationMap.x])**2+(CCDMapOffset[:,wsm.c.CCDMap.y][rhea.arcMapMask]-calibrationMap[i,wsm.c.calibrationMap.y])**2)\n",
      "    closest_point = np.min(distance_array)\n",
      "    closest_point_index = np.where(distance_array==closest_point)[0][0]       \n",
      "    print distance_array,closest_point, closest_point_index\n",
      "    calibrationMap[i,wsm.c.calibrationMap.wavelength] = CCDMap[closest_point_index,wsm.c.CCDMap.wavelength]\n"
     ],
     "language": "python",
     "metadata": {},
     "outputs": []
    },
    {
     "cell_type": "code",
     "collapsed": false,
     "input": [
      "a = np.sqrt((CCDMapOffset[:,wsm.c.CCDMap.x][rhea.arcMapMask][:,None]-calibrationMap[:,wsm.c.calibrationMap.x])**2+(CCDMapOffset[:,wsm.c.CCDMap.y][rhea.arcMapMask][:,None]-calibrationMap[:,wsm.c.calibrationMap.y])**2)\n",
      "b = np.min(a,axis=0)\n",
      "\n",
      "# print a,b,np.where(b==a)\n",
      "\n",
      "print b[0], np.where(b==a)"
     ],
     "language": "python",
     "metadata": {},
     "outputs": []
    },
    {
     "cell_type": "code",
     "collapsed": false,
     "input": [
      "import subprocess\n",
      "import sys\n",
      "SEXTRACTOR_PATH = '/usr/local/bin/'\n",
      "\n",
      "#adds sex_ to the arc filename for sextractor output\n",
      "outputFileName =  '/'.join(arcFile.split('/')[:-1]) + '/sex_' + ''.join(arcFile.split('/')[-1:]).split('.')[0]+ '.txt'\n",
      "  \n",
      "os_command = SEXTRACTOR_PATH +'sex ' + arcFile + ' -c ' + sexParamFile\n",
      "os_command += ' -CATALOG_NAME ' + outputFileName\n",
      "proc = subprocess.Popen([os_command,SEXTRACTOR_PATH],  stdout=subprocess.PIPE, shell=True)\n",
      "proc.communicate()"
     ],
     "language": "python",
     "metadata": {},
     "outputs": []
    },
    {
     "cell_type": "code",
     "collapsed": false,
     "input": [
      "x,y =np.meshgrid(np.arange(0,2532),np.arange(0,3352))"
     ],
     "language": "python",
     "metadata": {},
     "outputs": []
    },
    {
     "cell_type": "code",
     "collapsed": false,
     "input": [
      "arcFileMap = np.loadtxt(rhea.baseDir + 'sex_20140208220659.txt', usecols = [0,1,3])\n",
      "print arcFileMap"
     ],
     "language": "python",
     "metadata": {},
     "outputs": []
    },
    {
     "cell_type": "code",
     "collapsed": false,
     "input": [
      "# cent = [100,100]\n",
      "# x=np.arange(0,200)\n",
      "# y=np.arange(0,200)\n",
      "# xAll = np.tile(x,200)\n",
      "x=x.flatten()\n",
      "y=y.flatten()\n",
      "\n",
      "sigmax = 10.1\n",
      "sigmay = 10.1\n",
      "\n",
      "mesh = np.zeros([2532,3352])\n",
      "cents = CCDMapOffset[:,[wsm.c.CCDMap.x,wsm.c.CCDMap.y]]\n",
      "\n",
      "\n",
      "# for cent in cents:\n",
      "mesh[x,y] += np.exp(-(((x-cent[0])**2)/2/sigmax**2+((y-cent[1])**2)/2/sigmay**2))\n",
      "\n",
      "plt.imshow(mesh, origin='lower', cmap = cm.gray)\n",
      "plt.show()"
     ],
     "language": "python",
     "metadata": {},
     "outputs": []
    },
    {
     "cell_type": "code",
     "collapsed": false,
     "input": [
      "plt.imshow(mesh, origin='lower', cmap = cm.gray)\n",
      "plt.show()"
     ],
     "language": "python",
     "metadata": {},
     "outputs": []
    },
    {
     "cell_type": "code",
     "collapsed": false,
     "input": [
      "plt.plot(a[199,:])\n",
      "plt.show()"
     ],
     "language": "python",
     "metadata": {},
     "outputs": []
    },
    {
     "cell_type": "code",
     "collapsed": false,
     "input": [
      "mesh = np.zeros([2532,3352])\n",
      "cent = [0,0]\n",
      "mesh[0,0]=60000\n",
      "\n",
      "a = pf.open(arcFile)\n",
      "a[0].data = mesh\n",
      "\n",
      "\n",
      "# hdu = pf.PrimaryHDU(mesh)\n",
      "# hdulist = pf.HDUList([hdu])\n",
      "a.writeto(rhea.baseDir + 'new.fits')\n",
      "\n",
      "plt.imshow(mesh, origin='low', interpolation = None)\n",
      "plt.show()"
     ],
     "language": "python",
     "metadata": {},
     "outputs": []
    },
    {
     "cell_type": "code",
     "collapsed": false,
     "input": [
      "psf = wsm.wt.gauss(np.arange(-100,100),[0,\\])\n",
      "# p[0]==mean, p[1]==stdev\n",
      "half_gauss /= np.max(half_gauss)/64000\n",
      "plt.plot(half_gauss)\n",
      "plt.show()"
     ],
     "language": "python",
     "metadata": {},
     "outputs": []
    },
    {
     "cell_type": "code",
     "collapsed": false,
     "input": [
      "mesh = np.zeros([2532,3352])\n",
      "cent = [200,200]\n",
      "for r in np.arange(100,301):\n",
      "    for c in np.arange(100,301):\n",
      "        dist = int(np.sqrt((r-cent[0])**2 + (c-cent[1])**2))\n",
      "        if dist<100: \n",
      "            newValue = half_gauss[dist]\n",
      "            mesh[r,c] = newValue\n",
      "a = pf.open(arcFile)\n",
      "print a[0].data[200,200], mesh[200,200]\n",
      "a[0].data = a[0].data + mesh\n",
      "# a[0].data = mesh\n",
      "print a[0].data[200,200], mesh[200,200]\n",
      "\n",
      "\n",
      "# hdu = pf.PrimaryHDU(mesh)\n",
      "# hdulist = pf.HDUList([hdu])\n",
      "a.writeto(rhea.baseDir + 'new.fits')\n",
      "\n",
      "plt.imshow(mesh, origin='low')\n",
      "plt.show()"
     ],
     "language": "python",
     "metadata": {},
     "outputs": []
    },
    {
     "cell_type": "code",
     "collapsed": false,
     "input": [
      "import vo"
     ],
     "language": "python",
     "metadata": {},
     "outputs": []
    },
    {
     "cell_type": "code",
     "collapsed": false,
     "input": [],
     "language": "python",
     "metadata": {},
     "outputs": []
    }
   ],
   "metadata": {}
  }
 ]
}