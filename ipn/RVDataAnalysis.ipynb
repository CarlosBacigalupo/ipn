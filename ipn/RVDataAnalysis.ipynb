{
 "metadata": {
  "name": "",
  "signature": "sha256:f0aad321dca7b1d3e4116166af144f10035948b2971e3b8b59b2bcd40c7c9c88"
 },
 "nbformat": 3,
 "nbformat_minor": 0,
 "worksheets": [
  {
   "cells": [
    {
     "cell_type": "code",
     "collapsed": false,
     "input": [
      "import numpy as np\n",
      "import pandas as pd\n",
      "import pylab as plt"
     ],
     "language": "python",
     "metadata": {},
     "outputs": [],
     "prompt_number": 2
    },
    {
     "cell_type": "code",
     "collapsed": false,
     "input": [
      "def f1(x):\n",
      "    return '%5.2f' % x"
     ],
     "language": "python",
     "metadata": {},
     "outputs": [],
     "prompt_number": 3
    },
    {
     "cell_type": "heading",
     "level": 3,
     "metadata": {},
     "source": [
      "47tuc"
     ]
    },
    {
     "cell_type": "code",
     "collapsed": false,
     "input": [
      "cd ~/Documents/HERMES/reductions/47Tuc_core_6.2/npy"
     ],
     "language": "python",
     "metadata": {},
     "outputs": []
    },
    {
     "cell_type": "code",
     "collapsed": false,
     "input": [
      "cd ~/Documents/HERMES/reductions/47Tuc_core_6.2/npy_150509/"
     ],
     "language": "python",
     "metadata": {},
     "outputs": []
    },
    {
     "cell_type": "code",
     "collapsed": false,
     "input": [
      "cd ~/Documents/HERMES/reductions/47Tuc_core_1arc_6.2/npy/"
     ],
     "language": "python",
     "metadata": {},
     "outputs": []
    },
    {
     "cell_type": "code",
     "collapsed": false,
     "input": [
      "cd ~/Documents/HERMES/reductions/47Tuc_core_1arc_6.2/npy_150509/"
     ],
     "language": "python",
     "metadata": {},
     "outputs": []
    },
    {
     "cell_type": "heading",
     "level": 3,
     "metadata": {},
     "source": [
      "HD1581"
     ]
    },
    {
     "cell_type": "code",
     "collapsed": false,
     "input": [
      "cd ~/Documents/HERMES/reductions/HD1581_6.2/npy/"
     ],
     "language": "python",
     "metadata": {},
     "outputs": []
    },
    {
     "cell_type": "heading",
     "level": 3,
     "metadata": {},
     "source": [
      "HD285507"
     ]
    },
    {
     "cell_type": "code",
     "collapsed": false,
     "input": [
      "cd ~/Documents/HERMES/reductions/HD285507_6.2/npy_150509/"
     ],
     "language": "python",
     "metadata": {},
     "outputs": []
    },
    {
     "cell_type": "code",
     "collapsed": false,
     "input": [
      "cd ~/Documents/HERMES/reductions/HD285507_6.2/npy/"
     ],
     "language": "python",
     "metadata": {},
     "outputs": []
    },
    {
     "cell_type": "code",
     "collapsed": false,
     "input": [
      "cd ~/Documents/HERMES/reductions/6.5/HD285507_1arc/npy/"
     ],
     "language": "python",
     "metadata": {},
     "outputs": [
      {
       "output_type": "stream",
       "stream": "stdout",
       "text": [
        "/Users/Carlos/Documents/HERMES/reductions/6.5/HD285507_1arc/npy\n"
       ]
      }
     ],
     "prompt_number": 4
    },
    {
     "cell_type": "code",
     "collapsed": false,
     "input": [
      "cd ~/Documents/HERMES/reductions/HD285507_1arc_6.2/npy/"
     ],
     "language": "python",
     "metadata": {},
     "outputs": []
    },
    {
     "cell_type": "heading",
     "level": 3,
     "metadata": {},
     "source": [
      "m67"
     ]
    },
    {
     "cell_type": "code",
     "collapsed": false,
     "input": [
      "cd ~/Documents/HERMES/reductions/m67_6.2/npy"
     ],
     "language": "python",
     "metadata": {},
     "outputs": []
    },
    {
     "cell_type": "code",
     "collapsed": false,
     "input": [
      "cd ~/Documents/HERMES/reductions/m67_6.2/npy_raw/"
     ],
     "language": "python",
     "metadata": {},
     "outputs": []
    },
    {
     "cell_type": "code",
     "collapsed": false,
     "input": [
      "cd ~/Documents/HERMES/reductions/m67_1arc_6.2/"
     ],
     "language": "python",
     "metadata": {},
     "outputs": []
    },
    {
     "cell_type": "heading",
     "level": 3,
     "metadata": {},
     "source": [
      "NGC2477"
     ]
    },
    {
     "cell_type": "code",
     "collapsed": false,
     "input": [
      "cd ~/Documents/HERMES/reductions/NGC2477_6.2/npy"
     ],
     "language": "python",
     "metadata": {},
     "outputs": []
    },
    {
     "cell_type": "code",
     "collapsed": false,
     "input": [
      "cd ~/Documents/HERMES/reductions/NGC2477_6.2/npy_150509/"
     ],
     "language": "python",
     "metadata": {},
     "outputs": [
      {
       "output_type": "stream",
       "stream": "stdout",
       "text": [
        "[Errno 2] No such file or directory: '/Users/Carlos/Documents/HERMES/reductions/NGC2477_6.2/npy_150509/'\n",
        "/Users/Carlos/Documents/ipn\n"
       ]
      }
     ],
     "prompt_number": 5
    },
    {
     "cell_type": "code",
     "collapsed": false,
     "input": [
      "cd ~/Documents/HERMES/reductions/NGC2477_1arc_6.2/"
     ],
     "language": "python",
     "metadata": {},
     "outputs": []
    },
    {
     "cell_type": "heading",
     "level": 3,
     "metadata": {},
     "source": [
      "rhoTuc"
     ]
    },
    {
     "cell_type": "code",
     "collapsed": false,
     "input": [
      "cd ~/Documents/HERMES/reductions/rhoTuc_6.2/npy"
     ],
     "language": "python",
     "metadata": {},
     "outputs": []
    },
    {
     "cell_type": "code",
     "collapsed": false,
     "input": [
      "cd ~/Documents/HERMES/reductions/6.2/rhoTuc_1arc_6.2/npy"
     ],
     "language": "python",
     "metadata": {},
     "outputs": []
    },
    {
     "cell_type": "heading",
     "level": 3,
     "metadata": {},
     "source": [
      "% of stars within a given RV"
     ]
    },
    {
     "cell_type": "code",
     "collapsed": false,
     "input": [
      "data=np.load('data.npy')\n",
      "RVs=np.load('RVs.npy')\n",
      "sigmas=np.load('sigmas.npy')\n",
      "baryVels=np.load('baryVels.npy')\n",
      "JDs=np.load('JDs.npy')\n",
      "thisSlice = RVs\n",
      "totalStars = RVs.shape[0]\n",
      "goodStars = np.sum(((thisSlice<5000) & (thisSlice!=0)), axis=0).astype(float)\n",
      "size = np.array(thisSlice.shape)\n",
      "total = np.reshape(np.repeat(size[0], size[1]*size[2]),(size[1],size[2]))\n",
      "labels = ['Blue','Green','Red','IR']\n",
      "a = pd.DataFrame(goodStars/total*100)\n",
      "a.columns = labels\n",
      "\n",
      "print a.to_latex(formatters=[f1, f1, f1, f1])"
     ],
     "language": "python",
     "metadata": {},
     "outputs": []
    },
    {
     "cell_type": "heading",
     "level": 3,
     "metadata": {},
     "source": [
      "Shows all observatios for a list of 'good_targets'"
     ]
    },
    {
     "cell_type": "code",
     "collapsed": false,
     "input": [
      "import pyfits as pf\n",
      "import numpy as np\n",
      "import pylab as plt\n",
      "import os\n",
      "import glob\n",
      "import pickle\n",
      "import RVTools as RVT\n",
      "import toolbox\n",
      "\n",
      "os.chdir('/Users/Carlos/Documents/HERMES/data')\n",
      "# raw = []\n",
      "print 'Obs & Filename & Field Name & Plate & MJD & Relative Day (days) & Exp Time (s) \\\\\\\\'\n",
      "# good_targets = np.array(['rhoTuc #176 (Pivot 175)', 'HD1581 #176 (Pivot 175)','HD285507 #227 (Pivot 223)' ])\n",
      "good_targets = np.array(['rhoTuc #176 (Pivot 175)'])\n",
      "# good_targets = np.array(['HD285507 #227 (Pivot 223)' ])\n",
      "# good_targets = np.array(['M67 12V14','M67 Bright Stars' ])\n",
      "# good_targets = np.array(['HD1581 #176 (Pivot 175)'])\n",
      "# good_targets = np.array(['47Tuc center'])\n",
      "\n",
      "# good_pivots = [175,175,224]\n",
      "t0 = 0  \n",
      "order = 0 \n",
      "dirs = glob.glob('*')\n",
      "for j in dirs:\n",
      "#     print os.path.abspath(j +'/data/ccd_1/')\n",
      "#     os.chdir(j+'/data/ccd_1/')\n",
      "#     print j +'/data/ccd_1/'\n",
      "    for i in glob.glob(j +'/data/ccd_1/*.fits'):\n",
      "        a = pf.open(i)\n",
      "        if a[0].header['NDFCLASS'] == 'MFOBJECT':\n",
      "            if a[0].header['OBJECT'] in good_targets:\n",
      "                pivot_idx = np.where(a[0].header['OBJECT']== good_targets)[0][0]\n",
      "                e = float(a[0].header['EXPOSED'])/2/24/60/60 # EXPOSED/2 in days\n",
      "                inDate = np.hstack((a[0].header['UTDATE'].split(':'),a[0].header['UTSTART'].split(':'))).astype(int)\n",
      "                UTMJD = toolbox.gd2jd(inDate, TZ=0)-2400000.5 + e\n",
      "                if t0==0:t0=UTMJD\n",
      "                tDiff=UTMJD-t0\n",
      "#                 print str(order)+' & '+ i+' & HD1581 & '+a[0].header['SOURCE']+' & '+str(UTMJD)+' & '+str(tDiff)+' & '+str(a[0].header['EXPOSED']) +' \\\\\\\\'\n",
      "#                 print str(order)+' & '+ i.split('/')[-1]+' & HD285507 & '+a[0].header['SOURCE']+' & '+str(UTMJD)+' & '+str(tDiff)+' & '+str(a[0].header['EXPOSED']) +' \\\\\\\\'\n",
      "                print str(order)+' & '+ i.split('/')[-1]+' & '+ 'rhoTuc' +' & '+a[0].header['SOURCE']+' & '+str(UTMJD)+' & '+str(tDiff)+' & '+str(a[0].header['EXPOSED']) +' \\\\\\\\'\n",
      "#                 print str(order)+' & '+ i.split('/')[-1]+' & '+a[0].header['OBJECT']+' & '+a[0].header['SOURCE']+' & '+str(UTMJD)+' & '+str(tDiff)+' & '+str(a[0].header['EXPOSED']) +' \\\\\\\\'\n",
      "                order +=1\n",
      "#                 raw.append((i, a[0].header['OBJECT'],a[0].header['SOURCE'],a[0].header['UTMJD'],a[0].header['EXPOSED']))            \n",
      "        a.close\n",
      "# raw = np.array(raw)"
     ],
     "language": "python",
     "metadata": {},
     "outputs": []
    },
    {
     "cell_type": "heading",
     "level": 3,
     "metadata": {},
     "source": [
      "Stars Names and magnitudes"
     ]
    },
    {
     "cell_type": "code",
     "collapsed": false,
     "input": [
      "data=np.load('data.npy')\n",
      "# RVs=np.load('RVs.npy')\n",
      "# sigmas=np.load('sigmas.npy')\n",
      "# baryVels=np.load('baryVels.npy')\n",
      "# JDs=np.load('JDs.npy')\n",
      "# thisSlice = RVs\n",
      "# totalStars = RVs.shape[0]\n",
      "# goodStars = np.sum(((thisSlice<5000) & (thisSlice!=0)), axis=0).astype(float)\n",
      "# size = np.array(thisSlice.shape)\n",
      "# total = np.reshape(np.repeat(size[0], size[1]*size[2]),(size[1],size[2]))\n",
      "# labels = ['Blue','Green','Red','IR']\n",
      "labels = ['Name','Vmag']\n",
      "a = pd.DataFrame(data[:,:2])\n",
      "a.columns = labels\n",
      "\n",
      "print a.to_latex()"
     ],
     "language": "python",
     "metadata": {},
     "outputs": [
      {
       "output_type": "stream",
       "stream": "stdout",
       "text": [
        "\\begin{tabular}{lll}\n",
        "\\toprule\n",
        "{} &     Name &  Vmag \\\\\n",
        "\\midrule\n",
        "0  &  Field02 &  7.37 \\\\\n",
        "1  &  Field03 &  8.23 \\\\\n",
        "2  &  Field04 &  6.55 \\\\\n",
        "3  &  Field05 &  5.03 \\\\\n",
        "4  &  Field06 &  6.02 \\\\\n",
        "5  &  Field07 &  6.81 \\\\\n",
        "6  &  Field08 &  7.56 \\\\\n",
        "7  &  Field09 &  6.45 \\\\\n",
        "8  &  Field11 &  8.56 \\\\\n",
        "9  &  Field12 &  7.51 \\\\\n",
        "10 &  Field13 &  4.82 \\\\\n",
        "11 &  Field14 &   8.9 \\\\\n",
        "12 &  Field15 &  7.99 \\\\\n",
        "13 &  Field16 &  4.81 \\\\\n",
        "14 &  Field17 &  8.91 \\\\\n",
        "15 &  Field18 &  4.38 \\\\\n",
        "16 &  Field19 &  6.56 \\\\\n",
        "17 &  Field21 &  8.28 \\\\\n",
        "18 &  Field22 &  8.87 \\\\\n",
        "19 &  Field23 &   5.2 \\\\\n",
        "20 &  Field24 &  4.14 \\\\\n",
        "21 &  Field25 &  7.91 \\\\\n",
        "22 &  Field27 &  8.88 \\\\\n",
        "23 &  Field28 &  8.03 \\\\\n",
        "24 &  Field30 &  8.98 \\\\\n",
        "25 &  Field31 &  8.11 \\\\\n",
        "26 &  Field32 &  6.24 \\\\\n",
        "27 &  Field33 &  5.38 \\\\\n",
        "28 &  Field34 &  8.41 \\\\\n",
        "29 &  Field35 &  8.77 \\\\\n",
        "30 &  Field36 &  5.99 \\\\\n",
        "31 &  Field37 &  5.79 \\\\\n",
        "32 &  Field38 &  7.73 \\\\\n",
        "33 &  Field39 &  7.99 \\\\\n",
        "34 &  Field40 &  8.35 \\\\\n",
        "35 &  Field41 &  8.94 \\\\\n",
        "36 &  Field42 &  7.28 \\\\\n",
        "37 &  Giant01 &  7.67 \\\\\n",
        "38 &  Giant02 &  6.44 \\\\\n",
        "39 &  Giant03 &  8.96 \\\\\n",
        "40 &  Giant04 &  8.05 \\\\\n",
        "41 &  Giant05 &   6.5 \\\\\n",
        "42 &  Giant06 &  8.77 \\\\\n",
        "43 &  Giant08 &  8.97 \\\\\n",
        "44 &  Giant09 &  5.38 \\\\\n",
        "45 &  Giant10 &  7.03 \\\\\n",
        "46 &  Giant11 &  7.47 \\\\\n",
        "47 &  Giant12 &  7.36 \\\\\n",
        "48 &  Giant13 &  6.42 \\\\\n",
        "49 &  Giant14 &  8.67 \\\\\n",
        "50 &  Giant15 &  8.93 \\\\\n",
        "51 &  Giant16 &  8.99 \\\\\n",
        "52 &  Giant17 &   8.8 \\\\\n",
        "53 &  Giant18 &  8.85 \\\\\n",
        "54 &  Giant19 &  6.12 \\\\\n",
        "55 &  Giant20 &  8.09 \\\\\n",
        "56 &  Giant21 &  7.09 \\\\\n",
        "57 &  Giant22 &  8.46 \\\\\n",
        "58 &  Giant23 &  7.04 \\\\\n",
        "59 &  Giant24 &  6.54 \\\\\n",
        "60 &  Giant25 &  7.77 \\\\\n",
        "61 &  Giant26 &  8.83 \\\\\n",
        "62 &  Giant27 &  7.88 \\\\\n",
        "63 &  Giant28 &   8.4 \\\\\n",
        "64 &  Giant29 &   8.3 \\\\\n",
        "65 &  Giant30 &  8.91 \\\\\n",
        "66 &  Giant31 &  8.96 \\\\\n",
        "67 &  Giant32 &  8.75 \\\\\n",
        "68 &  Giant33 &  8.32 \\\\\n",
        "69 &  Giant34 &  8.11 \\\\\n",
        "70 &  Giant35 &   8.1 \\\\\n",
        "71 &  Giant36 &  6.64 \\\\\n",
        "72 &  Giant37 &  8.26 \\\\\n",
        "73 &  Giant38 &  8.58 \\\\\n",
        "\\bottomrule\n",
        "\\end{tabular}\n",
        "\n"
       ]
      }
     ],
     "prompt_number": 11
    },
    {
     "cell_type": "heading",
     "level": 3,
     "metadata": {},
     "source": [
      "W tests"
     ]
    },
    {
     "cell_type": "code",
     "collapsed": false,
     "input": [
      "#real data\n",
      "\n",
      "method = 'PM'\n",
      "\n",
      "data=np.load('npy/data.npy')\n",
      "\n",
      "SNRs=np.load('npy/SNRs.npy')\n",
      "\n",
      "if method=='PM':\n",
      "    allW = np.load('npy/allW_PM.npy')\n",
      "elif method=='DM':\n",
      "    allW = np.load('npy/allW_DM.npy')\n",
      "    \n",
      "idx = np.where(data[:,0]=='Giant01')[0][0]\n",
      "\n",
      "for cam in range(4):\n",
      "    W = allW[:,cam,idx]\n",
      "\n",
      "    thisSNRs = SNRs[:,0,cam]\n",
      "\n",
      "#     plt.plot(deltay/np.max(np.abs(deltay)), label = 'deltay')\n",
      "    plt.plot(thisSNRs, label= 'SNR', c='g')\n",
      "    plt.plot(W*np.nanmax(thisSNRs), label = 'W', c='r')\n",
      "    plt.plot([idx,idx],[0,np.nanmax(thisSNRs)], label = 'Ref. Star', c='cyan')\n",
      "    plt.legend(loc=0)\n",
      "\n",
      "    title = method + ' - cam '+str(cam)+ ' ,' + str(data[idx])\n",
      "    \n",
      "    plt.title(title)\n",
      "    plt.grid(True)\n",
      "    plt.savefig((method+'_'+str(cam)));plt.close()\n",
      "#     plt.show()\n",
      "\n"
     ],
     "language": "python",
     "metadata": {},
     "outputs": [],
     "prompt_number": 49
    },
    {
     "cell_type": "code",
     "collapsed": false,
     "input": [
      "#SIMULATION\n",
      "import RVTools as RVT\n",
      "reload(RVT)\n",
      "\n",
      "deltays = np.zeros((3,50))\n",
      "SNRss = np.zeros((3,50))\n",
      "idxs = [1,20,40]\n",
      "\n",
      "yrange = np.linspace(0, 4000)\n",
      "# deltays[0] = \n",
      "# deltays[1] = np.linspace(-1999, 2000)\n",
      "# deltays[1,25]=0\n",
      "# deltays[2] = np.linspace(-3999, 0)\n",
      "SNRss[0] = np.ones(50)*10\n",
      "SNRss[1] = np.linspace(1, 10)\n",
      "SNRss[2] = np.linspace(10, 1)\n",
      "\n",
      "method = 'PM'\n",
      "\n",
      "for i in range(3):\n",
      "    for j in range(3):\n",
      "        idx = idxs[j]\n",
      "        deltay = yrange - yrange[idx]\n",
      "        SNRs = SNRss[i]\n",
      "        if method=='PM':\n",
      "#             W = RVT.calibrator_weights2(deltay,SNRs)\n",
      "            W = RVT.calibrator_weights(deltay,1/SNRs)\n",
      "        elif method=='DM':\n",
      "            W = RVT.calibrator_weights2(deltay,1/SNRs)\n",
      "\n",
      "        plt.plot(deltay/np.max(np.abs(deltay)), label = 'deltay')\n",
      "        plt.plot(SNRs, label= 'SNR')\n",
      "        plt.plot(W*10, label = 'W')\n",
      "        plt.plot([idx,idx],[0,np.nanmax(SNRs)], label = 'Ref. Star')\n",
      "\n",
      "#         plt.plot(W2*100, label = 'W New')\n",
      "        plt.legend(loc=0)\n",
      "    \n",
      "        title = method +' - Ref Star index = '+str(idx)+' - SNR '+str(np.min(SNRs))+','+str(np.max(SNRs))\n",
      "\n",
      "        plt.title(title)\n",
      "        plt.grid(True)\n",
      "        figTitle = method+'_'+str(i)+'_'+str(j)\n",
      "        plt.savefig(figTitle); plt.close()\n",
      "#         plt.show()\n"
     ],
     "language": "python",
     "metadata": {},
     "outputs": [],
     "prompt_number": 50
    },
    {
     "cell_type": "code",
     "collapsed": false,
     "input": [
      "SNRs=np.load('SNRs.npy')\n",
      "import toolbox as tb"
     ],
     "language": "python",
     "metadata": {},
     "outputs": [],
     "prompt_number": 91
    },
    {
     "cell_type": "code",
     "collapsed": false,
     "input": [
      "for i,a in enumerate(zip(data[:,],SNRs[:,0,0])):\n",
      "    print i,a[0],a[1], tb.dec2sex(float(a[0][3])/15), tb.dec2sex(float(a[0][4]))"
     ],
     "language": "python",
     "metadata": {},
     "outputs": [
      {
       "output_type": "stream",
       "stream": "stdout",
       "text": [
        "0 ['Field22' '8.87' '0.0' '62.0508' '16.0182'] 4.11445738523 (4.0, 8.0, 12.192000000001428) (16.0, 1.0, 5.5200000000007776)\n",
        "1 ['Giant35' '8.1' '3.0' '62.7275' '15.2627'] 3.0940637911 (4.0, 10.0, 54.600000000000648) (15.0, 15.0, 45.720000000002159)\n",
        "2 ['Field32' '6.24' '6.0' '62.6704' '15.2370'] 12.0310137837 (4.0, 10.0, 40.896000000000399) (15.0, 14.0, 13.200000000000358)\n",
        "3 ['Giant16' '8.99' '13.0' '62.4287' '15.1821'] 6.5720604421 (4.0, 9.0, 42.888000000000872) (15.0, 10.0, 55.560000000000542)\n",
        "4 ['Giant12' '7.36' '14.0' '62.3204' '15.2008'] 8.94166009292 (4.0, 9.0, 16.896000000000058) (15.0, 12.0, 2.8799999999971249)\n",
        "5 ['Giant28' '8.4' '16.0' '62.6095' '15.1044'] 4.73301752855 (4.0, 10.0, 26.28000000000057) (15.0, 6.0, 15.840000000000174)\n",
        "6 ['Giant08' '8.97' '30.0' '62.1862' '15.1133'] 5.67191619438 (4.0, 8.0, 44.688000000000088) (15.0, 6.0, 47.880000000002241)\n",
        "7 ['Field05' '5.03' '47.0' '61.925' '15.1627'] 174.192517644 (4.0, 7.0, 41.999999999998678) (15.0, 9.0, 45.719999999997043)\n",
        "8 ['Giant02' '6.44' '52.0' '61.8854' '15.1958'] 21.5258218819 (4.0, 7.0, 32.496000000000365) (15.0, 11.0, 44.880000000000706)\n",
        "9 ['Field16' '4.81' '55.0' '62.1195' '14.8940'] 9.27458120876 (4.0, 8.0, 28.680000000000732) (14.0, 53.0, 38.40000000000046)\n",
        "10 ['Field24' '4.14' '61.0' '62.1975' '14.7010'] 9.16258380014 (4.0, 8.0, 47.39999999999867) (14.000000000000002, 42.0, 3.5999999999954468)\n",
        "11 ['Field34' '8.41' '66.0' '62.2195' '14.5467'] 19.2590924873 (4.0, 8.0, 52.679999999998088) (14.0, 32.0, 48.119999999998271)\n",
        "12 ['Field08' '7.56' '74.0' '61.8925' '14.9866'] 52.7369721583 (4.0, 7.0, 34.199999999998738) (14.0, 59.0, 11.759999999997319)\n",
        "13 ['Giant36' '6.64' '75.0' '62.1075' '14.4573'] 17.1012305815 (4.0, 8.0, 25.800000000001049) (14.0, 27.0, 26.280000000000143)\n",
        "14 ['Field28' '8.03' '77.0' '62.0675' '14.5516'] 9.68663326201 (4.0, 8.0, 16.200000000002106) (13.999999999999998, 33.0, 5.7600000000083185)\n",
        "15 ['Giant10' '7.03' '78.0' '61.9258' '14.8428'] 24.5727567345 (4.0, 7.0, 42.191999999999936) (14.0, 50.0, 34.080000000001576)\n",
        "16 ['Giant13' '6.42' '90.0' '61.8366' '14.7395'] 18.0275667815 (4.0, 7.0, 20.784000000000376) (14.000000000000002, 44.0, 22.199999999992173)\n",
        "17 ['Field11' '8.56' '104.0' '61.6966' '14.8656'] 25.4859436787 (4.0, 6.0, 47.183999999997681) (14.0, 51.0, 56.160000000002128)\n",
        "18 ['Field39' '7.99' '105.0' '61.6483' '14.3666'] 36.9043811709 (4.0, 6.0, 35.591999999998478) (14.0, 21.0, 59.760000000000133)\n",
        "19 ['Field38' '7.73' '106.0' '61.6375' '14.3695'] 28.8687578861 (4.0, 6.0, 33.000000000000682) (14.0, 22.0, 10.200000000001381)\n",
        "20 ['Field36' '5.99' '109.0' '61.5954' '14.4021'] 88.217795226 (4.0, 6.0, 22.895999999998438) (14.0, 24.0, 7.5600000000028444)\n",
        "21 ['Giant33' '8.32' '112.0' '61.5558' '14.4238'] 15.5415334142 (4.0, 6.0, 13.392000000000124) (14.0, 25.0, 25.679999999999836)\n",
        "22 ['Giant03' '8.96' '113.0' '61.7254' '15.1414'] 8.27294044334 (4.0, 6.0, 54.096000000001396) (15.0, 8.0, 29.04000000000309)\n",
        "23 ['Giant24' '6.54' '117.0' '61.5145' '14.5554'] 28.8265291098 (4.0, 6.0, 3.4799999999991371) (14.0, 33.0, 19.440000000002016)\n",
        "24 ['Giant29' '8.3' '122.0' '61.4320' '14.5306'] 16.3643475311 (4.0, 5.0, 43.680000000000518) (14.000000000000002, 31.0, 50.159999999992664)\n",
        "25 ['Giant18' '8.85' '123.0' '61.4875' '14.6949'] 12.94490407 (4.0, 5.0, 56.999999999998252) (14.0, 41.0, 41.640000000001862)\n",
        "26 ['Field02' '7.37' '128.0' '61.6887' '15.2102'] 14.5517357594 (4.0, 6.0, 45.28799999999805) (15.000000000000002, 12.0, 36.719999999994997)\n",
        "27 ['Field06' '6.02' '137.0' '61.6058' '15.1266'] 3.96043395805 (4.0, 6.0, 25.392000000002) (15.0, 7.0, 35.759999999999366)\n",
        "28 ['Field15' '7.99' '148.0' '61.3512' '14.9353'] 5.51673588359 (4.0, 5.0, 24.287999999998178) (14.0, 56.0, 7.0799999999992735)\n",
        "29 ['Giant31' '8.96' '160.0' '60.995' '14.8089'] 5.91070808209 (4.0, 3.0, 58.800000000000878) (14.0, 48.0, 32.03999999999823)\n",
        "30 ['Field03' '8.23' '163.0' '61.5841' '15.2324'] 6.75440411473 (4.0, 6.0, 20.183999999999855) (15.0, 13.0, 56.640000000000583)\n",
        "31 ['Giant38' '8.58' '164.0' '60.8841' '14.8275'] 7.73156465277 (4.0, 3.0, 32.183999999999173) (14.0, 49.0, 39.000000000002046)\n",
        "32 ['Giant26' '8.83' '169.0' '60.975' '14.9493'] 7.53845022611 (4.0, 3.0, 54.000000000001407) (14.0, 56.0, 57.47999999999692)\n",
        "33 ['Field23' '5.2' '172.0' '61.0541' '15.0268'] 43.7035949485 (4.0, 4.0, 12.984000000001075) (15.0, 1.0, 36.479999999998967)\n",
        "34 ['Giant27' '7.88' '178.0' '60.92' '15.0532'] 13.0590032981 (4.0, 3.0, 40.800000000001262) (15.0, 3.0, 11.520000000001289)\n",
        "35 ['Field40' '8.35' '184.0' '60.7675' '15.1020'] 2.80037508564 (4.0, 3.0, 4.1999999999980986) (15.0, 6.0, 7.2000000000011255)\n",
        "36 ['Field21' '8.28' '185.0' '61.0075' '15.1772'] 8.05771441708 (4.0, 4.0, 1.8000000000013472) (15.0, 10.0, 37.91999999999689)\n",
        "37 ['Field25' '7.91' '191.0' '60.9133' '15.2368'] 9.66389513295 (4.0, 3.0, 39.19200000000032) (15.0, 14.0, 12.480000000002036)\n",
        "38 ['Giant25' '7.77' '207.0' '60.9020' '15.4362'] 10.023338359 (4.0, 3.0, 36.480000000001738) (15.000000000000002, 26.0, 10.319999999991722)\n",
        "39 ['Giant14' '8.67' '216.0' '61.145' '15.4934'] 7.39918780123 (4.0, 4.0, 34.800000000000111) (15.0, 29.0, 36.239999999997821)\n",
        "40 ['Giant37' '8.26' '219.0' '60.8041' '15.6249'] 3.58191683221 (4.0, 3.0, 12.98399999999809) (15.0, 37.0, 29.640000000000839)\n",
        "41 ['Giant30' '8.91' '220.0' '60.8920' '15.6041'] 5.16439499701 (4.0, 3.0, 34.080000000002002) (15.0, 36.0, 14.760000000002691)\n",
        "42 ['Giant01' '7.67' '223.0' '61.755' '15.3350'] 20.410720686 (4.0, 7.0, 1.1999999999999744) (15.0, 20.0, 6.0000000000030695)\n",
        "43 ['Field14' '8.9' '226.0' '61.2616' '15.5628'] 14.7167894876 (4.0, 5.0, 2.7840000000011855) (15.0, 33.0, 46.079999999997483)\n",
        "44 ['Giant05' '6.5' '229.0' '61.3945' '15.5036'] 23.4244097559 (4.0, 5.0, 34.679999999999112) (15.0, 30.0, 12.96000000000177)\n",
        "45 ['Giant04' '8.05' '230.0' '61.535' '15.4393'] 9.85615421653 (4.0, 6.0, 8.3999999999993946) (15.0, 26.0, 21.479999999997688)\n",
        "46 ['Field07' '6.81' '234.0' '61.4808' '15.4989'] 61.2146302532 (4.0, 5.0, 55.392000000000507) (15.0, 29.0, 56.040000000002834)\n",
        "47 ['Giant34' '8.11' '237.0' '60.9516' '15.8575'] 9.32916427778 (4.0, 3.0, 48.383999999999787) (15.0, 51.0, 26.999999999999744)\n",
        "48 ['Giant17' '8.8' '242.0' '61.2008' '15.7613'] 5.12653458113 (4.0, 4.0, 48.192000000001514) (15.0, 45.0, 40.680000000001115)\n",
        "49 ['Field13' '4.82' '245.0' '61.3508' '15.6852'] 31.4892477425 (4.0, 5.0, 24.192000000000746) (15.0, 41.0, 6.7200000000001125)\n",
        "50 ['Giant06' '8.77' '253.0' '61.4858' '15.6325'] 7.16098319032 (4.0, 5.0, 56.591999999998777) (15.0, 37.0, 57.000000000001023)\n",
        "51 ['Giant09' '5.38' '256.0' '61.4266' '15.7380'] 36.0174128488 (4.0, 5.0, 42.38400000000162) (15.0, 44.0, 16.799999999998363)\n",
        "52 ['Field18' '4.38' '257.0' '61.36' '15.8304'] 12.6475390185 (4.0, 5.0, 26.399999999999224) (15.0, 49.0, 49.4399999999969)\n",
        "53 ['Giant32' '8.75' '268.0' '61.3116' '16.1536'] 4.53389941402 (4.0, 5.0, 14.783999999999864) (16.0, 9.0, 12.960000000003049)\n",
        "54 ['Field09' '6.45' '270.0' '61.5670' '15.6981'] 90.1048258345 (4.0, 6.0, 16.079999999998549) (15.0, 41.0, 53.160000000000593)\n",
        "55 ['Field17' '8.91' '272.0' '61.4945' '15.9019'] 10.1205817107 (4.0, 5.0, 58.679999999999666) (15.0, 54.0, 6.8399999999981276)\n",
        "56 ['Field27' '8.88' '282.0' '61.5258' '16.1433'] nan (4.0, 6.0, 6.1919999999977193) (16.0, 8.0, 35.879999999999939)\n",
        "57 ['Field12' '7.51' '283.0' '61.6195' '15.8215'] 6.87294863527 (4.0, 6.0, 28.680000000001158) (14.999999999999998, 49.0, 17.400000000007623)\n",
        "58 ['Field30' '8.98' '286.0' '61.5745' '16.1838'] 21.0986720241 (4.0, 6.0, 17.880000000000749) (16.0, 11.0, 1.6800000000054638)\n",
        "59 ['Field04' '6.55' '292.0' '61.7312' '15.5528'] 10.1409774743 (4.0, 6.0, 55.488000000000923) (15.0, 33.0, 10.07999999999825)\n",
        "60 ['Giant15' '8.93' '298.0' '61.7641' '15.9862'] nan (4.0, 7.0, 3.383999999998295) (15.0, 59.0, 10.320000000000675)\n",
        "61 ['Giant22' '8.46' '299.0' '61.7708' '16.1327'] 5.23547807145 (4.0, 7.0, 4.991999999999237) (16.0, 7.0, 57.719999999999345)\n",
        "62 ['Field19' '6.56' '316.0' '61.9583' '16.0199'] 8.03495447836 (4.0, 7.0, 49.991999999999877) (16.0, 1.0, 11.639999999999304)\n",
        "63 ['Giant19' '6.12' '319.0' '62.0325' '16.0247'] 14.6963951933 (4.0, 8.0, 7.799999999998235) (16.0, 1.0, 28.919999999997401)\n",
        "64 ['Giant11' '7.47' '320.0' '61.9291' '15.8441'] 12.8730609508 (4.0, 7.0, 42.98399999999873) (15.0, 50.0, 38.759999999997063)\n",
        "65 ['Giant21' '7.09' '322.0' '62.0483' '16.0580'] 10.6409481857 (4.0, 8.0, 11.592000000000695) (16.0, 3.0, 28.799999999999386)\n",
        "66 ['Field37' '5.79' '323.0' '62.1370' '16.2338'] 8.12424946766 (4.0, 8.0, 32.87999999999947) (16.0, 14.0, 1.679999999995232)\n",
        "67 ['Field33' '5.38' '330.0' '62.1875' '16.1231'] 22.6844436647 (4.0, 8.0, 44.999999999998934) (16.0, 7.0, 23.160000000003151)\n",
        "68 ['Field41' '8.94' '337.0' '62.3358' '16.1591'] 6.62583270328 (4.0, 9.0, 20.591999999998691) (16.0, 9.0, 32.759999999995273)\n",
        "69 ['Giant23' '7.04' '341.0' '62.2641' '15.9649'] 15.3942358748 (4.0, 9.0, 3.3840000000010662) (15.0, 57.0, 53.640000000000327)\n",
        "70 ['Field42' '7.28' '354.0' '62.5466' '15.9771'] 4.36498137899 (4.0, 10.0, 11.184000000000793) (15.0, 58.0, 37.560000000000286)\n",
        "71 ['Field35' '8.77' '356.0' '62.5095' '15.9136'] 6.25475328894 (4.0, 10.0, 2.2800000000000153) (15.0, 54.0, 48.960000000002282)\n",
        "72 ['Field31' '8.11' '357.0' '62.4845' '15.8681'] 15.9694821662 (4.0, 9.0, 56.279999999999077) (15.0, 52.0, 5.1600000000003376)\n",
        "73 ['Giant20' '8.09' '366.0' '62.4545' '15.7201'] 4.47568576609 (4.0, 9.0, 49.07999999999987) (15.0, 43.0, 12.360000000001463)\n"
       ]
      }
     ],
     "prompt_number": 94
    },
    {
     "cell_type": "code",
     "collapsed": false,
     "input": [
      "pwd"
     ],
     "language": "python",
     "metadata": {},
     "outputs": [
      {
       "metadata": {},
       "output_type": "pyout",
       "prompt_number": 45,
       "text": [
        "u'/Users/Carlos/Documents/HERMES/reductions/6.5/HD285507_1arc'"
       ]
      }
     ],
     "prompt_number": 45
    },
    {
     "cell_type": "code",
     "collapsed": false,
     "input": [],
     "language": "python",
     "metadata": {},
     "outputs": []
    }
   ],
   "metadata": {}
  }
 ]
}