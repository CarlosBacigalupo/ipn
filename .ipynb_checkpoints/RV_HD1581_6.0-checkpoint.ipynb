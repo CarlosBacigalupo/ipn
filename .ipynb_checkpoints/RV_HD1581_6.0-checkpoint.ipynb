{
 "metadata": {
  "name": "",
  "signature": "sha256:41e50e99f6682d81183cbb164f09dec0e210b678ae882857fa876e0493408876"
 },
 "nbformat": 3,
 "nbformat_minor": 0,
 "worksheets": [
  {
   "cells": [
    {
     "cell_type": "code",
     "collapsed": false,
     "input": [
      "#general imports\n",
      "import glob\n",
      "import os\n",
      "import numpy as np\n",
      "from scipy import signal, interpolate, optimize, constants\n",
      "import pylab as plt\n",
      "import pickle\n",
      "import pyfits as pf\n",
      "\n",
      "#my imports\n",
      "import create_obj as cr_obj\n",
      "reload(cr_obj)\n",
      "import RVTools as RVT\n",
      "reload(RVT)"
     ],
     "language": "python",
     "metadata": {},
     "outputs": [
      {
       "metadata": {},
       "output_type": "pyout",
       "prompt_number": 1,
       "text": [
        "<module 'RVTools' from 'RVTools.pyc'>"
       ]
      }
     ],
     "prompt_number": 1
    },
    {
     "cell_type": "code",
     "collapsed": false,
     "input": [
      "#single exposure data reduction"
     ],
     "language": "python",
     "metadata": {},
     "outputs": []
    },
    {
     "cell_type": "code",
     "collapsed": false,
     "input": [
      "#uses create_obj.py to create star with basic reduced data\n",
      "\n",
      "thisStar = cr_obj.star('Giant01')\n",
      "thisStar.exposures = cr_obj.exposures()\n",
      "thisStar.exposures.load_exposures(thisStar.name)\n",
      "thisStar.exposures.calculate_baryVels(thisStar)\n",
      "thisStar.name = 'HD285507'\n",
      "file_pi = open('HD285507.obj', 'w') \n",
      "pickle.dump(thisStar, file_pi) \n",
      "file_pi.close()"
     ],
     "language": "python",
     "metadata": {},
     "outputs": [
      {
       "output_type": "stream",
       "stream": "stdout",
       "text": [
        "Giant01 star created\n"
       ]
      }
     ],
     "prompt_number": 92
    },
    {
     "cell_type": "code",
     "collapsed": false,
     "input": [
      "#takes each <star_name>.obj and calculates RVs, etc. Saves red_<star_name>.obj\n",
      "\n",
      "xDef = 10 #resampling points per pixel\n",
      "CCMaskWidth = 5 #half width around the peak of the cc curve to be gaussian fitted\n",
      "\n",
      "filename = 'HD285507.obj'\n",
      "filehandler = open(filename, 'r')\n",
      "thisStar = pickle.load(filehandler)\n",
      "\n",
      "RVT.find_max_wl_range(thisStar)\n",
      "RVT.RVs_CC_t0(thisStar)\n",
      "file_pi = open('red_HD285507.obj', 'w') \n",
      "pickle.dump(thisStar, file_pi) \n",
      "file_pi.close()"
     ],
     "language": "python",
     "metadata": {},
     "outputs": [
      {
       "output_type": "stream",
       "stream": "stdout",
       "text": [
        "WL aligned\n",
        "WL aligned\n",
        "WL aligned\n",
        "WL aligned\n",
        "56891.7214011 "
       ]
      },
      {
       "output_type": "stream",
       "stream": "stdout",
       "text": [
        "56891.7361919 "
       ]
      },
      {
       "output_type": "stream",
       "stream": "stdout",
       "text": [
        "56891.7509697 \n",
        "56891.7214011"
       ]
      },
      {
       "output_type": "stream",
       "stream": "stdout",
       "text": [
        " 56891.7361919 56891.7509697 "
       ]
      },
      {
       "output_type": "stream",
       "stream": "stdout",
       "text": [
        "\n",
        "56891.7214011 56891.7361919 "
       ]
      },
      {
       "output_type": "stream",
       "stream": "stdout",
       "text": [
        "56891.7509697 \n",
        "56891.7214011 "
       ]
      },
      {
       "output_type": "stream",
       "stream": "stdout",
       "text": [
        "56891.7361919 56891.7509697 "
       ]
      },
      {
       "output_type": "stream",
       "stream": "stdout",
       "text": [
        "\n"
       ]
      }
     ],
     "prompt_number": 93
    },
    {
     "cell_type": "code",
     "collapsed": false,
     "input": [
      "cd /Users/Carlos/Documents/HERMES/reductions/HD1581_6.0/uncombined/\n"
     ],
     "language": "python",
     "metadata": {},
     "outputs": [
      {
       "output_type": "stream",
       "stream": "stdout",
       "text": [
        "/Users/Carlos/Documents/HERMES/reductions/HD1581_6.0/uncombined\n"
       ]
      }
     ],
     "prompt_number": 2
    },
    {
     "cell_type": "code",
     "collapsed": false,
     "input": [
      "#takes each <star_name>.obj and calculates RVs, etc. Saves red_<star_name>.obj\n",
      "reload(RVT)\n",
      "xDef = 10 #resampling points per pixel\n",
      "CCMaskWidth = 5 #half width around the peak of the cc curve to be gaussian fitted\n",
      "\n",
      "filename = 'HD1581.obj'\n",
      "filehandler = open(filename, 'r')\n",
      "thisStar = pickle.load(filehandler)\n",
      "\n",
      "RVT.find_max_wl_range(thisStar)\n",
      "RVT.RVs_CC_t0(thisStar)\n",
      "file_pi = open('red_HD1581.obj', 'w') \n",
      "pickle.dump(thisStar, file_pi) \n",
      "file_pi.close()"
     ],
     "language": "python",
     "metadata": {},
     "outputs": [
      {
       "output_type": "stream",
       "stream": "stdout",
       "text": [
        "WL aligned\n",
        "WL aligned\n",
        "WL aligned\n",
        "WL aligned\n",
        "56891.705889 "
       ]
      },
      {
       "output_type": "stream",
       "stream": "stdout",
       "text": [
        "56891.7081863 "
       ]
      },
      {
       "output_type": "stream",
       "stream": "stdout",
       "text": [
        "56891.7104593 \n",
        "56891.705889"
       ]
      },
      {
       "output_type": "stream",
       "stream": "stdout",
       "text": [
        " 56891.7081863 56891.7104593 "
       ]
      },
      {
       "output_type": "stream",
       "stream": "stdout",
       "text": [
        "\n",
        "56891.705889 "
       ]
      },
      {
       "output_type": "stream",
       "stream": "stdout",
       "text": [
        "56891.7081863 56891.7104593 "
       ]
      },
      {
       "output_type": "stream",
       "stream": "stdout",
       "text": [
        "\n",
        "56891.705889 56891.7081863 "
       ]
      },
      {
       "output_type": "stream",
       "stream": "stdout",
       "text": [
        "56891.7104593 \n"
       ]
      }
     ],
     "prompt_number": 98
    },
    {
     "cell_type": "heading",
     "level": 3,
     "metadata": {},
     "source": [
      "Collect reduced data into single object"
     ]
    },
    {
     "cell_type": "code",
     "collapsed": false,
     "input": [
      "cd /Users/Carlos/Documents/HERMES/reductions/HD1581_6.0/uncombined/"
     ],
     "language": "python",
     "metadata": {},
     "outputs": [
      {
       "output_type": "stream",
       "stream": "stdout",
       "text": [
        "/Users/Carlos/Documents/HERMES/reductions/HD1581_6.0/uncombined\n"
       ]
      }
     ],
     "prompt_number": 5
    },
    {
     "cell_type": "code",
     "collapsed": false,
     "input": [
      "#uses create_obj.py to create star with basic reduced data\n",
      "thisStar = cr_obj.star('Giant01')\n",
      "thisStar.exposures = cr_obj.exposures()\n",
      "thisStar.exposures.load_exposures(thisStar.name)\n",
      "thisStar.exposures.calculate_baryVels(thisStar)\n",
      "thisStar.name = 'HD1581'\n",
      "file_pi = open('HD1581.obj', 'w') \n",
      "pickle.dump(thisStar, file_pi) \n",
      "file_pi.close()"
     ],
     "language": "python",
     "metadata": {},
     "outputs": [
      {
       "output_type": "stream",
       "stream": "stdout",
       "text": [
        "Giant01 star created\n"
       ]
      }
     ],
     "prompt_number": 3
    },
    {
     "cell_type": "heading",
     "level": 3,
     "metadata": {},
     "source": [
      "Take initial data from HD1581.obj and create red_HD1581.obj"
     ]
    },
    {
     "cell_type": "code",
     "collapsed": false,
     "input": [
      "#takes each <star_name>.obj and calculates RVs, etc. Saves red_<star_name>.obj\n",
      "reload(RVT)\n",
      "xDef = 10 #resampling points per pixel\n",
      "CCMaskWidth = 5 #half width around the peak of the cc curve to be gaussian fitted\n",
      "\n",
      "filename = 'HD1581.obj'\n",
      "filehandler = open(filename, 'r')\n",
      "thisStar = pickle.load(filehandler)\n",
      "\n",
      "RVT.find_max_wl_range(thisStar)\n",
      "RVT.RVs_CC_t0(thisStar)\n",
      "file_pi = open('red_HD1581.obj', 'w') \n",
      "pickle.dump(thisStar, file_pi) \n",
      "file_pi.close()"
     ],
     "language": "python",
     "metadata": {},
     "outputs": [
      {
       "output_type": "stream",
       "stream": "stdout",
       "text": [
        "WL aligned\n",
        "WL aligned\n",
        "WL aligned\n",
        "WL aligned\n",
        "56889.8100292 "
       ]
      },
      {
       "output_type": "stream",
       "stream": "stdout",
       "text": [
        "56890.8035487 56890.8058271 "
       ]
      },
      {
       "output_type": "stream",
       "stream": "stdout",
       "text": [
        "56890.8081117 56891.705889 "
       ]
      },
      {
       "output_type": "stream",
       "stream": "stdout",
       "text": [
        "56891.7081863 56891.7104593 "
       ]
      },
      {
       "output_type": "stream",
       "stream": "stdout",
       "text": [
        "56893.7639537 56893.7662353 "
       ]
      },
      {
       "output_type": "stream",
       "stream": "stdout",
       "text": [
        "56893.7680468 56893.7692934 "
       ]
      },
      {
       "output_type": "stream",
       "stream": "stdout",
       "text": [
        "56893.7709226 56894.7423378 "
       ]
      },
      {
       "output_type": "stream",
       "stream": "stdout",
       "text": [
        "56894.7443452 56894.7459274 "
       ]
      },
      {
       "output_type": "stream",
       "stream": "stdout",
       "text": [
        "\n",
        "56889.8100292 "
       ]
      },
      {
       "output_type": "stream",
       "stream": "stdout",
       "text": [
        "56890.8035487 56890.8058271 "
       ]
      },
      {
       "output_type": "stream",
       "stream": "stdout",
       "text": [
        "56890.8081117 56891.705889 "
       ]
      },
      {
       "output_type": "stream",
       "stream": "stdout",
       "text": [
        "56891.7081863 56891.7104593 "
       ]
      },
      {
       "output_type": "stream",
       "stream": "stdout",
       "text": [
        "56893.7639537 56893.7662353 "
       ]
      },
      {
       "output_type": "stream",
       "stream": "stdout",
       "text": [
        "56893.7680468 56893.7692934 "
       ]
      },
      {
       "output_type": "stream",
       "stream": "stdout",
       "text": [
        "56893.7709226 56894.7423378 "
       ]
      },
      {
       "output_type": "stream",
       "stream": "stdout",
       "text": [
        "56894.7443452 56894.7459274 "
       ]
      },
      {
       "output_type": "stream",
       "stream": "stdout",
       "text": [
        "\n",
        "56889.8100292 "
       ]
      },
      {
       "output_type": "stream",
       "stream": "stdout",
       "text": [
        "56890.8035487 56890.8058271 "
       ]
      },
      {
       "output_type": "stream",
       "stream": "stdout",
       "text": [
        "56890.8081117 56891.705889 "
       ]
      },
      {
       "output_type": "stream",
       "stream": "stdout",
       "text": [
        "56891.7081863 56891.7104593 "
       ]
      },
      {
       "output_type": "stream",
       "stream": "stdout",
       "text": [
        "56893.7639537 56893.7662353 "
       ]
      },
      {
       "output_type": "stream",
       "stream": "stdout",
       "text": [
        "56893.7680468 56893.7692934 "
       ]
      },
      {
       "output_type": "stream",
       "stream": "stdout",
       "text": [
        "56893.7709226 56894.7423378 "
       ]
      },
      {
       "output_type": "stream",
       "stream": "stdout",
       "text": [
        "56894.7443452 56894.7459274 "
       ]
      },
      {
       "output_type": "stream",
       "stream": "stdout",
       "text": [
        "\n",
        "56889.8100292 "
       ]
      },
      {
       "output_type": "stream",
       "stream": "stdout",
       "text": [
        "56890.8035487 56890.8058271 "
       ]
      },
      {
       "output_type": "stream",
       "stream": "stdout",
       "text": [
        "56890.8081117 56891.705889 "
       ]
      },
      {
       "output_type": "stream",
       "stream": "stdout",
       "text": [
        "56891.7081863 56891.7104593 "
       ]
      },
      {
       "output_type": "stream",
       "stream": "stdout",
       "text": [
        "56893.7639537 56893.7662353 "
       ]
      },
      {
       "output_type": "stream",
       "stream": "stdout",
       "text": [
        "56893.7680468 56893.7692934 "
       ]
      },
      {
       "output_type": "stream",
       "stream": "stdout",
       "text": [
        "56893.7709226 56894.7423378 "
       ]
      },
      {
       "output_type": "stream",
       "stream": "stdout",
       "text": [
        "56894.7443452 56894.7459274 "
       ]
      },
      {
       "output_type": "stream",
       "stream": "stdout",
       "text": [
        "\n"
       ]
      }
     ],
     "prompt_number": 4
    },
    {
     "cell_type": "heading",
     "level": 3,
     "metadata": {},
     "source": [
      "IRAF import from data reduced by gayandhi"
     ]
    },
    {
     "cell_type": "code",
     "collapsed": false,
     "input": [
      "file0_wl = '/Users/Carlos/Documents/HERMES/reductions/HD1581_iraf/norm/hd1581_0.fits'\n",
      "file1_wl = '/Users/Carlos/Documents/HERMES/reductions/HD1581_iraf/norm/hd1581_1.fits'\n",
      "file2_wl = '/Users/Carlos/Documents/HERMES/reductions/HD1581_iraf/norm/hd1581_2.fits'\n",
      "file3_wl = '/Users/Carlos/Documents/HERMES/reductions/HD1581_iraf/norm/hd1581_3.fits'\n",
      "file4_wl = '/Users/Carlos/Documents/HERMES/reductions/HD1581_iraf/norm/hd1581_4.fits'\n",
      "\n",
      "file0 = '/Users/Carlos/Documents/HERMES/reductions/HD1581_iraf/px/0_20augt.fits'\n",
      "file1 = '/Users/Carlos/Documents/HERMES/reductions/HD1581_iraf/px/1_21augt.fits'\n",
      "file2 = '/Users/Carlos/Documents/HERMES/reductions/HD1581_iraf/px/2_22augt.fits'\n",
      "file3 = '/Users/Carlos/Documents/HERMES/reductions/HD1581_iraf/px/3_24augt.fits'\n",
      "file4 = '/Users/Carlos/Documents/HERMES/reductions/HD1581_iraf/px/4_25augt.fits'\n",
      "\n",
      "a_wl = pf.open(file0_wl)\n",
      "b_wl = pf.open(file1_wl)\n",
      "c_wl = pf.open(file2_wl)\n",
      "d_wl = pf.open(file3_wl)\n",
      "e_wl = pf.open(file4_wl)\n",
      "a_flux_wl = np.array(a_wl[0].data.astype(float))\n",
      "b_flux_wl = np.array(b_wl[0].data.astype(float))\n",
      "c_flux_wl = np.array(c_wl[0].data.astype(float))\n",
      "d_flux_wl = np.array(d_wl[0].data.astype(float))\n",
      "e_flux_wl = np.array(e_wl[0].data.astype(float))\n",
      "\n",
      "a = pf.open(file0)\n",
      "b = pf.open(file1)\n",
      "c = pf.open(file2)\n",
      "d = pf.open(file3)\n",
      "e = pf.open(file4)\n",
      "a_flux = np.array(a[0].data.astype(float))\n",
      "b_flux = np.array(b[0].data.astype(float))\n",
      "c_flux = np.array(c[0].data.astype(float))\n",
      "d_flux = np.array(d[0].data.astype(float))\n",
      "e_flux = np.array(e[0].data.astype(float))\n",
      "# a_lambdas = extract_HERMES_wavelength(file1)\n",
      "# b_lambdas = extract_HERMES_wavelength(file2)\n",
      "\n",
      "RV_iraf = np.ones(5) * np.nan\n",
      "\n",
      "a_flux_wl = a_flux_wl-1\n",
      "b_flux_wl = b_flux_wl-1\n",
      "c_flux_wl = c_flux_wl-1\n",
      "d_flux_wl = d_flux_wl-1\n",
      "e_flux_wl = e_flux_wl-1\n",
      "\n",
      "\n",
      "a_flux = a_flux-1\n",
      "b_flux = b_flux-1\n",
      "c_flux = c_flux-1\n",
      "d_flux = d_flux-1\n",
      "e_flux = e_flux-1\n"
     ],
     "language": "python",
     "metadata": {},
     "outputs": [],
     "prompt_number": 157
    },
    {
     "cell_type": "code",
     "collapsed": false,
     "input": [
      "e_flux_wl"
     ],
     "language": "python",
     "metadata": {},
     "outputs": [
      {
       "metadata": {},
       "output_type": "pyout",
       "prompt_number": 158,
       "text": [
        "array([-0.04079235, -0.03930312, -0.0344969 , ..., -0.02310085,\n",
        "       -0.07028466, -0.13286161])"
       ]
      }
     ],
     "prompt_number": 158
    },
    {
     "cell_type": "code",
     "collapsed": false,
     "input": [
      "a = pf.open('/Users/Carlos/Documents/HERMES/reductions/HD1581_6.0/0_20aug/1/20aug10053red.fits') \n",
      "\n",
      "CRVAL1 = a[0].header['CRVAL1'] # / Co-ordinate value of axis 1                    \n",
      "CDELT1 = a[0].header['CDELT1'] #  / Co-ordinate increment along axis 1             \n",
      "CRPIX1 = a[0].header['CRPIX1'] #  / Reference pixel along axis 1                   \n",
      "\n",
      "CRVAL1, CDELT1, CRPIX1\n",
      "\n",
      "ms_px = CDELT1/CRVAL1*constants.c"
     ],
     "language": "python",
     "metadata": {},
     "outputs": [],
     "prompt_number": 159
    },
    {
     "cell_type": "code",
     "collapsed": false,
     "input": [
      "# # a_flux_c = a_flux[:-145]\n",
      "# # b_flux_c = b_flux[:-145]\n",
      "# __,a_flux_c = fit_continuum(np.arange(a_flux.shape[0]),a_flux)\n",
      "# __,b_flux_c = fit_continuum(np.arange(b_flux.shape[0]),b_flux)\n",
      "# a_flux_c = a_flux_c-1\n",
      "# b_flux_c = b_flux_c-1\n"
     ],
     "language": "python",
     "metadata": {},
     "outputs": [],
     "prompt_number": 234
    },
    {
     "cell_type": "code",
     "collapsed": false,
     "input": [
      "# plt.plot(a_flux, label=os.path.basename(file0) )\n",
      "# plt.plot(b_flux, label=os.path.basename(file1) )\n",
      "# plt.plot(c_flux, label=os.path.basename(file2) )\n",
      "# plt.plot(d_flux, label=os.path.basename(file3) )\n",
      "# plt.plot(e_flux, label=os.path.basename(file4) )\n",
      "plt.plot(a_flux_wl, label=os.path.basename(file0) )\n",
      "plt.plot(b_flux_wl, label=os.path.basename(file1) )\n",
      "plt.plot(c_flux_wl, label=os.path.basename(file2) )\n",
      "# plt.plot(d_flux_wl, label=os.path.basename(file3) )\n",
      "plt.plot(e_flux_wl, label=os.path.basename(file4) )\n",
      "plt.legend(loc=0)\n",
      "plt.show()"
     ],
     "language": "python",
     "metadata": {},
     "outputs": [],
     "prompt_number": 239
    },
    {
     "cell_type": "code",
     "collapsed": false,
     "input": [
      "cc = signal.convolve(a_flux, a_flux[::-1], mode='same')\n",
      "# cc = signal.convolve(a_flux_wl, a_flux_wl[::-1], mode='same')\n",
      "\n",
      "corrMax = np.where(cc==max(cc))[0][0]\n",
      "idx = (np.abs(cc - max(cc)*.9)).argmin()\n",
      "h_range = 2\n",
      "\n",
      "p_guess = [corrMax,h_range]\n",
      "x_mask = np.arange(corrMax-h_range, corrMax+h_range+1)\n",
      "p = RVT.fit_gaussian(p_guess, cc[x_mask], np.arange(len(cc))[x_mask])[0]\n",
      "\n",
      "print 't0 wrt t0'\n",
      "print p\n",
      "print (cc.shape[0])/2.\n",
      "print p[0]-(cc.shape[0])/2.\n",
      "RV_iraf[0] = (p[0]-(cc.shape[0])/2.)*ms_px\n",
      "print RV_iraf[0], 'm/s'"
     ],
     "language": "python",
     "metadata": {},
     "outputs": [
      {
       "output_type": "stream",
       "stream": "stdout",
       "text": [
        "t0 wrt t0\n",
        "[ 2000.00000012     4.70323877]\n",
        "2000.0\n",
        "1.15726152217e-07\n",
        "0.00032602641343 m/s\n"
       ]
      }
     ],
     "prompt_number": 172
    },
    {
     "cell_type": "code",
     "collapsed": false,
     "input": [
      "cc = signal.convolve(a_flux, b_flux[::-1], mode='same' )\n",
      "# cc = signal.convolve(a_flux_wl, b_flux_wl[::-1], mode='same')\n",
      "\n",
      "corrMax = np.where(cc==max(cc))[0][0]\n",
      "idx = (np.abs(cc - max(cc)*.9)).argmin()\n",
      "h_range = int(abs(idx - corrMax))\n",
      "h_range = 2\n",
      "\n",
      "p_guess = [corrMax,h_range]\n",
      "x_mask = np.arange(corrMax-h_range, corrMax+h_range+1)\n",
      "p = RVT.fit_gaussian(p_guess, cc[x_mask], np.arange(len(cc))[x_mask])[0]\n",
      "\n",
      "print 't0 wrt t1'\n",
      "print p\n",
      "print (cc.shape[0])/2.\n",
      "print p[0]-(cc.shape[0])/2.\n",
      "RV_iraf[1] = (p[0]-(cc.shape[0])/2.)*ms_px\n",
      "print RV_iraf[1], 'm/s'"
     ],
     "language": "python",
     "metadata": {},
     "outputs": [
      {
       "output_type": "stream",
       "stream": "stdout",
       "text": [
        "t0 wrt t1\n",
        "[ 1999.900078       4.78290878]\n",
        "2000.0\n",
        "-0.099921995296\n",
        "-281.502574182 m/s\n"
       ]
      }
     ],
     "prompt_number": 173
    },
    {
     "cell_type": "code",
     "collapsed": false,
     "input": [
      "cc = signal.convolve(a_flux, c_flux[::-1], mode='same' )\n",
      "# cc = signal.convolve(a_flux_wl, c_flux_wl[::-1], mode='same')\n",
      "\n",
      "corrMax = np.where(cc==max(cc))[0][0]\n",
      "idx = (np.abs(cc - max(cc)*.9)).argmin()\n",
      "h_range = 2\n",
      "\n",
      "h_range = int(abs(idx - corrMax))\n",
      "p_guess = [corrMax,h_range]\n",
      "x_mask = np.arange(corrMax-h_range, corrMax+h_range+1)\n",
      "p = RVT.fit_gaussian(p_guess, cc[x_mask], np.arange(len(cc))[x_mask])[0]\n",
      "\n",
      "print 't0 wrt t2'\n",
      "print p\n",
      "print (cc.shape[0])/2.\n",
      "print p[0]-(cc.shape[0])/2.\n",
      "RV_iraf[2] = (p[0]-(cc.shape[0])/2.)*ms_px\n",
      "print RV_iraf[2], 'm/s'"
     ],
     "language": "python",
     "metadata": {},
     "outputs": [
      {
       "output_type": "stream",
       "stream": "stdout",
       "text": [
        "t0 wrt t2\n",
        "[ 1999.83617879     4.806585  ]\n",
        "2000.0\n",
        "-0.163821209596\n",
        "-461.520930103 m/s\n"
       ]
      }
     ],
     "prompt_number": 174
    },
    {
     "cell_type": "code",
     "collapsed": false,
     "input": [
      "cc = signal.convolve(a_flux, d_flux[::-1], mode='same' )\n",
      "# cc = signal.convolve(a_flux_wl, d_flux_wl[::-1], mode='same')\n",
      "\n",
      "corrMax = np.where(cc==max(cc))[0][0]\n",
      "idx = (np.abs(cc - max(cc)*.9)).argmin()\n",
      "h_range = 2\n",
      "\n",
      "h_range = int(abs(idx - corrMax))\n",
      "p_guess = [corrMax,h_range]\n",
      "x_mask = np.arange(corrMax-h_range, corrMax+h_range+1)\n",
      "p = RVT.fit_gaussian(p_guess, cc[x_mask], np.arange(len(cc))[x_mask])[0]\n",
      "\n",
      "print 't0 wrt t2'\n",
      "print p\n",
      "print (cc.shape[0])/2.\n",
      "print p[0]-(cc.shape[0])/2.\n",
      "RV_iraf[3] = (p[0]-(cc.shape[0])/2.)*ms_px\n",
      "print RV_iraf[3], 'm/s'"
     ],
     "language": "python",
     "metadata": {},
     "outputs": [
      {
       "output_type": "stream",
       "stream": "stdout",
       "text": [
        "t0 wrt t2\n",
        "[ 1999.81224785     4.69865952]\n",
        "2000.0\n",
        "-0.187752149154\n",
        "-528.93973082 m/s\n"
       ]
      }
     ],
     "prompt_number": 175
    },
    {
     "cell_type": "code",
     "collapsed": false,
     "input": [
      "cc = signal.convolve(a_flux, e_flux[::-1], mode='same' )\n",
      "# cc = signal.convolve(a_flux_wl, e_flux_wl[::-1], mode='same')\n",
      "\n",
      "corrMax = np.where(cc==max(cc))[0][0]\n",
      "idx = (np.abs(cc - max(cc)*.9)).argmin()\n",
      "h_range = int(abs(idx - corrMax))\n",
      "h_range = 2\n",
      "\n",
      "p_guess = [corrMax,h_range]\n",
      "x_mask = np.arange(corrMax-h_range, corrMax+h_range+1)\n",
      "p = RVT.fit_gaussian(p_guess, cc[x_mask], np.arange(len(cc))[x_mask])[0]\n",
      "\n",
      "print 't0 wrt t4'\n",
      "print p\n",
      "print (cc.shape[0])/2.\n",
      "print p[0]-(cc.shape[0])/2.\n",
      "RV_iraf[4] = (p[0]-(cc.shape[0])/2.)*ms_px\n",
      "print RV_iraf[4], 'm/s'"
     ],
     "language": "python",
     "metadata": {},
     "outputs": [
      {
       "output_type": "stream",
       "stream": "stdout",
       "text": [
        "t0 wrt t4\n",
        "[ 1999.18986598     4.7506494 ]\n",
        "2000.0\n",
        "-0.810134023106\n",
        "-2282.32845292 m/s\n"
       ]
      }
     ],
     "prompt_number": 176
    },
    {
     "cell_type": "heading",
     "level": 3,
     "metadata": {},
     "source": [
      "Plots, sanity checks, results"
     ]
    },
    {
     "cell_type": "code",
     "collapsed": false,
     "input": [
      "colors = ['b','g','r','cyan']\n",
      "cameras = ['Blue', 'Green', 'Red', 'IR']"
     ],
     "language": "python",
     "metadata": {},
     "outputs": [],
     "prompt_number": 7
    },
    {
     "cell_type": "code",
     "collapsed": false,
     "input": [
      "filename = 'red_HD1581.obj'\n",
      "filehandler = open(filename, 'r')\n",
      "thisStar = pickle.load(filehandler)\n",
      "thisCam=thisStar.exposures.cameras[0]"
     ],
     "language": "python",
     "metadata": {},
     "outputs": [],
     "prompt_number": 8
    },
    {
     "cell_type": "code",
     "collapsed": false,
     "input": [
      "#creates images for all cameras from all red fluxes\n",
      "\n",
      "for cam, thisCam in enumerate(thisStar.exposures.cameras):\n",
      "    for x,y,label,i in zip(thisCam.wavelengths, thisCam.red_fluxes, thisCam.fileNames, range(thisCam.wavelengths.shape[0])):\n",
      "        __,y1 = RVT.clean_flux(x,y,thisCam)\n",
      "        plt.plot(x,y1+i, label= label, c='k')\n",
      "    plt.title(thisStar.name)\n",
      "    plt.yticks = thisCam.fileNames \n",
      "    plt.savefig('plots/HD1581_'+str(cam), dpi = 1000 )\n",
      "    \n",
      "    plt.close()\n",
      "#     plt.show()"
     ],
     "language": "python",
     "metadata": {},
     "outputs": [],
     "prompt_number": 35
    },
    {
     "cell_type": "code",
     "collapsed": false,
     "input": [
      "#all red fluxes for the active camera\n",
      "for x,y,label in zip(thisCam.wavelengths, thisCam.red_fluxes, thisCam.fileNames):\n",
      "    plt.plot(x,y, label= label)\n",
      "plt.title(thisStar.name)\n",
      "plt.legend(loc = 0)\n",
      "plt.show()"
     ],
     "language": "python",
     "metadata": {},
     "outputs": [],
     "prompt_number": 51
    },
    {
     "cell_type": "code",
     "collapsed": false,
     "input": [
      "cd /Users/Carlos/Documents/HERMES/reductions/HD1581_6.0/single_exposures/cam1/"
     ],
     "language": "python",
     "metadata": {},
     "outputs": [
      {
       "output_type": "stream",
       "stream": "stdout",
       "text": [
        "/Users/Carlos/Documents/HERMES/reductions/HD1581_6.0/single_exposures/cam1\n"
       ]
      }
     ],
     "prompt_number": 84
    },
    {
     "cell_type": "code",
     "collapsed": false,
     "input": [
      "thisCam=thisStar.exposures.cameras[0]\n",
      "\n",
      "rv_avg = np.ones(5)*np.nan\n",
      "rv_std = np.ones(5)*np.nan\n",
      "rv_avg[0] = np.average(thisCam.RVs[0])\n",
      "rv_std[0] = np.std(thisCam.RVs[0])\n",
      "rv_avg[1] = np.average(thisCam.RVs[[1,2,3]])\n",
      "rv_std[1] = np.std(thisCam.RVs[[1,2,3]])\n",
      "rv_avg[2] = np.average(thisCam.RVs[[4,5,6]])\n",
      "rv_std[2] = np.std(thisCam.RVs[[4,5,6]])\n",
      "rv_avg[3] = np.average(thisCam.RVs[[7,8,9,10,11]])\n",
      "rv_std[3] = np.std(thisCam.RVs[[7,8,9,10,11]])\n",
      "rv_avg[4] = np.average(thisCam.RVs[[12,13,14]])\n",
      "rv_std[4] = np.std(thisCam.RVs[[12,13,14]])"
     ],
     "language": "python",
     "metadata": {},
     "outputs": [],
     "prompt_number": 9
    },
    {
     "cell_type": "code",
     "collapsed": false,
     "input": [
      "print 'Green RV std for ALL 5 POINTS:',  np.std(rv_avg)"
     ],
     "language": "python",
     "metadata": {},
     "outputs": [
      {
       "output_type": "stream",
       "stream": "stdout",
       "text": [
        "Green RV std for ALL 5 POINTS: 583.251963941\n"
       ]
      }
     ],
     "prompt_number": 10
    },
    {
     "cell_type": "code",
     "collapsed": false,
     "input": [
      "print 'Red RV std for ALL 5 POINTS:',  np.std(rv_avg)"
     ],
     "language": "python",
     "metadata": {},
     "outputs": [
      {
       "output_type": "stream",
       "stream": "stdout",
       "text": [
        "Red RV std for ALL 5 POINTS: 583.251963941\n"
       ]
      }
     ],
     "prompt_number": 11
    },
    {
     "cell_type": "code",
     "collapsed": false,
     "input": [
      "#all RVs from all camera for a single target - bary corrected. \n",
      "\n",
      "# for i, thisCam in enumerate(thisStar.exposures.cameras):\n",
      "i=0\n",
      "#     thisCam = thisStar.exposures.cameras[i]\n",
      "# plt.scatter(thisStar.exposures.JDs, (thisCam.RVs + thisStar.exposures.rel_baryVels), c=colors[1], label = cameras[i])\n",
      "\n",
      "# plt.scatter(thisStar.exposures.JDs[[0,1,4,7,-1]], (rv_avg + thisStar.exposures.rel_baryVels[[0,1,4,7,-1]]), c=colors[i], label = cameras[i])\n",
      "\n",
      "# average rvs and error bars\n",
      "plt.errorbar(thisStar.exposures.JDs[[0,1,4,7,-1]], (rv_avg + thisStar.exposures.rel_baryVels[[0,1,4,7,-1]]), yerr = rv_std, c=colors[0], label = cameras[i], fmt='.')\n",
      "plt.plot(thisStar.exposures.JDs[[0,-1]], [0,0], 'k--')\n",
      "# plt.scatter(thisStar.exposures.JDs, (thisCam.RVs ), c=colors[i], label = cameras[i])\n",
      "# plt.scatter(thisStar.exposures.JDs[[0,1,4,7,-1]], RV_iraf + thisStar.exposures.rel_baryVels[[0,1,4,7,-1]], c='k', marker = '+')\n",
      "# plt.scatter(thisStar.exposures.JDs[[0,1,4,7,-1]], RV_iraf, c='k', marker = '+')\n",
      "# plt.plot(thisStar.exposures.JDs, - thisStar.exposures.rel_baryVels)\n",
      "plt.title('HD1581')\n",
      "plt.ylabel('RV [m/s]')\n",
      "plt.xlabel('MJD')\n",
      "# plt.legend(loc = 0)\n",
      "plt.show()"
     ],
     "language": "python",
     "metadata": {},
     "outputs": [],
     "prompt_number": 15
    },
    {
     "cell_type": "code",
     "collapsed": false,
     "input": [
      "#all RVs from all cameras for a single target\n",
      "for i, thisCam in enumerate(thisStar.exposures.cameras):\n",
      "    plt.scatter(thisStar.exposures.JDs, thisCam.RVs, c=colors[i], label = cameras[i])\n",
      "    plt.plot(thisStar.exposures.JDs, - thisStar.exposures.rel_baryVels)\n",
      "\n",
      "plt.title('HD1581 - RVs')\n",
      "plt.ylabel('RV [m/s]')\n",
      "plt.xlabel('JD')\n",
      "plt.legend(loc = 0)\n",
      "plt.show()"
     ],
     "language": "python",
     "metadata": {},
     "outputs": [],
     "prompt_number": 54
    },
    {
     "cell_type": "code",
     "collapsed": false,
     "input": [
      "#all SNRs from all cameras for a single target\n",
      "for i, thisCam in enumerate(thisStar.exposures.cameras):\n",
      "    plt.scatter(thisStar.exposures.JDs, thisCam.SNRs, c=colors[i], label = cameras[i])\n",
      "plt.title('HD1581 - Signal-to-Noise')\n",
      "plt.ylabel('SNR')\n",
      "plt.xlabel('JD')\n",
      "plt.legend(loc = 0)\n",
      "plt.show()"
     ],
     "language": "python",
     "metadata": {},
     "outputs": [],
     "prompt_number": 278
    },
    {
     "cell_type": "code",
     "collapsed": false,
     "input": [
      "#all Q from all cameras for a single target\n",
      "for i, thisCam in enumerate(thisStar.exposures.cameras):\n",
      "    plt.scatter(thisStar.exposures.JDs, thisCam.Qs, c=colors[i], label = cameras[i], marker = '+', s=50)\n",
      "plt.title('HD1581 - Q-factor')\n",
      "plt.ylabel('Q')\n",
      "plt.xlabel('JD')\n",
      "plt.legend(loc = 0)\n",
      "plt.show()"
     ],
     "language": "python",
     "metadata": {},
     "outputs": []
    },
    {
     "cell_type": "code",
     "collapsed": false,
     "input": [
      "#all dRV from all cameras for a single target\n",
      "for i, thisCam in enumerate(thisStar.exposures.cameras):\n",
      "    plt.scatter(thisStar.exposures.JDs, thisCam.sigmas, c=colors[i], label = cameras[i], marker = 'x', s=50)\n",
      "plt.title('HD1581 - Photon limited dRV')\n",
      "plt.ylabel('dRV [m/s]')\n",
      "plt.xlabel('JD')\n",
      "plt.legend(loc = 0)\n",
      "plt.show()"
     ],
     "language": "python",
     "metadata": {},
     "outputs": [],
     "prompt_number": 275
    },
    {
     "cell_type": "heading",
     "level": 1,
     "metadata": {},
     "source": [
      "Random stuff...."
     ]
    },
    {
     "cell_type": "code",
     "collapsed": false,
     "input": [
      "myTarget=36"
     ],
     "language": "python",
     "metadata": {},
     "outputs": [],
     "prompt_number": 37
    },
    {
     "cell_type": "code",
     "collapsed": false,
     "input": [
      "deltay = p2y[data[:,2].astype(int)] - p2y[data[myTarget,2].astype(int)]\n",
      "mask = np.zeros(RVs.shape[0]).astype(bool)\n",
      "mask[myTarget] = True\n",
      "deltay_mx = np.ma.masked_array(deltay, mask=mask)\n",
      "\n",
      "#create RV mask to exclude target and stars with RV>3000m/s\\\n",
      "mask = np.zeros(RVs.shape).astype(bool)\n",
      "RVs_mx = np.ma.masked_array(RVs, mask=mask)\n",
      "sigmas_mx = np.ma.masked_array(sigmas, mask=mask)\n",
      "sigmas_mx.mask[myTarget,:,:] = True\n",
      "# print calibrator_weights(deltay_mx.compressed(), sigmas_mx[:,0,cam].compressed()).shape\n",
      "a = calibrator_weights(deltay_mx, sigmas_mx[:,0,cam])\n",
      "a = np.insert(a, myTarget, 0)\n",
      "plt.plot( a)\n",
      "plt.show()"
     ],
     "language": "python",
     "metadata": {},
     "outputs": [],
     "prompt_number": 38
    },
    {
     "cell_type": "code",
     "collapsed": false,
     "input": [
      "fRVs,__ = optimize.curve_fit(quad, quadX, quadY, p0 = [-0.001,-0.001,quadY[np.where(deltay==np.min(np.abs(deltay)))[0][0]]], )\n",
      "plt.scatter( quadX, quadY)\n",
      "smoothX = np.linspace(np.min(quadX), np.max(quadX))\n",
      "fittedCurve = quad(quadX, fRVs[0], fRVs[1], fRVs[2])\n",
      "plt.plot(quadX,fittedCurve)\n",
      "plt.scatter(quadX,quadY*fittedCurve, c='r')\n",
      "plt.show()\n",
      "print 'params',fRVs"
     ],
     "language": "python",
     "metadata": {},
     "outputs": [
      {
       "output_type": "stream",
       "stream": "stdout",
       "text": [
        "params [ -8.15463069e-03  -1.00000000e-03   6.30133893e+02]\n"
       ]
      }
     ],
     "prompt_number": 39
    },
    {
     "cell_type": "code",
     "collapsed": false,
     "input": [
      "plt.scatter(JDs,quadRVs[30,:,0], c='r', label = 'stable star (observed)')\n",
      "plt.scatter(JDs,quadRVs[36,:,1], c='g', label = 'HD285507 (observed)')\n",
      "start_day = 2456889.500000 # The Julian date for CE  2014 August 20 00:00:00.0 UT  (10am australia)\n",
      "end_day = 2456895.500000 #The Julian date for CE  2014 August 26 00:00:00.0 UT (10am australia)\n",
      "\n",
      "days = np.linspace(start_day, end_day)  - 2400000\n",
      "\n",
      "P = 6.0881\n",
      "peri_arg = 182\n",
      "peri_time = 2456257.5- 2400000\n",
      "K1 =125.8\n",
      "RV = K1* np.sin((days-peri_time)/P*2*np.pi + peri_arg/360*2*np.pi )\n",
      "plt.plot(days, RV, linewidth = 1, label = 'HD285507' )\n",
      "plt.legend(loc=0)\n",
      "plt.xlabel('JD')\n",
      "plt.ylabel('RV [m/s]')\n",
      "plt.show()"
     ],
     "language": "python",
     "metadata": {},
     "outputs": [],
     "prompt_number": 77
    },
    {
     "cell_type": "heading",
     "level": 2,
     "metadata": {},
     "source": [
      "Plots"
     ]
    },
    {
     "cell_type": "code",
     "collapsed": false,
     "input": [
      "def plot_all_spec_cams(thisStar):    #All spectra for all cameras\n",
      "    \n",
      "    fig, ax = plt.subplots(2,2, sharey='all')\n",
      "    \n",
      "    # ax.set_yticks(thisStar.exposures.JDs)\n",
      "    # ax.set_ylim(np.min(thisStar.exposures.JDs)-1,np.min(thisStar.exposures.JDs)+1)\n",
      "    for cam in range(4):\n",
      "        thisCam = thisStar.exposures.cameras[cam]\n",
      "        fileNames =  thisCam.fileNames\n",
      "        nFluxes = thisCam.wavelengths.shape[0]\n",
      "        ax[0,0].set_yticks(np.arange(0,nFluxes))\n",
      "        ax[0,0].set_ylim(-1,nFluxes)\n",
      "    \n",
      "        for i in np.arange(nFluxes):\n",
      "            d, f = thisCam.clean_wavelengths[i], thisCam.clean_fluxes[i]\n",
      "            if cam ==0:\n",
      "                ax[0,0].plot(d, f+i, 'b')\n",
      "            elif cam==1:\n",
      "                ax[0,1].plot(d, f+i, 'g')\n",
      "            elif cam==2:\n",
      "                ax[1,0].plot(d, f+i, 'r')\n",
      "            elif cam==3:\n",
      "                ax[1,1].plot(d, f+i, 'cyan')\n",
      "        #         ax.plot(d, f+thisStar.exposures.JDs[i], 'k')\n",
      "    \n",
      "    plt.xlabel('Wavelength [Ang]')\n",
      "    plt.title(thisStar.name+' - Camera '+str(cam+1))\n",
      "    ax[0,0].set_yticklabels(fileNames)\n",
      "    plt.show()\n"
     ],
     "language": "python",
     "metadata": {},
     "outputs": [],
     "prompt_number": 162
    },
    {
     "cell_type": "code",
     "collapsed": false,
     "input": [
      "RVs1 = np.load('RVs1.npy') \n",
      "RVs2 = np.load('RVs2.npy') \n",
      "RVs3 = np.load('RVs3.npy') \n",
      "RVs4 = np.load('RVs4.npy') \n",
      "JDs = np.load('JDs.npy') "
     ],
     "language": "python",
     "metadata": {},
     "outputs": [],
     "prompt_number": 66
    },
    {
     "cell_type": "code",
     "collapsed": false,
     "input": [
      "#Plots RVs, baryvels for all 4 cameras\n",
      "plt.title('Average of all decorrelated targets')\n",
      "mask = np.abs(quadRVs)<3000\n",
      "quadRVs[-mask]=np.nan\n",
      "# for i in range(RVs.shape[0]):\n",
      "    # plt.plot(thisStar.exposures.JDs, thisStar.exposures.rel_baryVels, label = 'Barycentric Vel. ')\n",
      "try:\n",
      "#         plt.scatter(JDs, stableRVs[i,:,0], label = 'Blue', color ='b' )\n",
      "#     plt.scatter(JDs, np.median(quadRVs[:,:,0],axis=0), label = 'Blue', color ='b' )\n",
      "    plt.errorbar(JDs, np.nanmean(quadRVs[:,:,0],axis=0), yerr=np.nanstd(quadRVs[:,:,0],axis=0), label = 'Blue', color ='b' )\n",
      "#     plt.errorbar(JDs, np.nanmean(RVs[:,:,0],axis=0), yerr=np.nanstd(RVs[:,:,0],axis=0), label = 'Blue', color ='b' )\n",
      "    pass\n",
      "except:pass\n",
      "try:\n",
      "#     plt.scatter(JDs, stableRVs[i,:,1], label = 'Green', color ='g' )\n",
      "#     plt.scatter(JDs, np.median(quadRVs[:,:,1],axis=0), label = 'Green', color ='g' )\n",
      "    plt.errorbar(JDs, np.nanmean(quadRVs[:,:,1],axis=0), yerr=np.nanstd(quadRVs[:,:,1],axis=0), label = 'Green', color ='g' )\n",
      "#     plt.errorbar(JDs, np.nanmean(RVs[:,:,1],axis=0), yerr=np.nanstd(RVs[:,:,1],axis=0), label = 'Green', color ='g' )\n",
      "    pass\n",
      "except:pass\n",
      "try:\n",
      "#     plt.scatter(JDs, stableRVs[i,:,2], label = 'Red', color ='r' )\n",
      "#     plt.scatter(JDs, np.median(quadRVs[:,:,2],axis=0), label = 'Red', color ='r' )\n",
      "    plt.errorbar(JDs, np.nanmean(quadRVs[:,:,2],axis=0), yerr=np.nanstd(quadRVs[:,:,2],axis=0), label = 'Red', color ='r' )\n",
      "#     plt.errorbar(JDs, np.nanmean(RVs[:,:,2],axis=0), yerr=np.nanstd(RVs[:,:,2],axis=0), label = 'Red', color ='r' )\n",
      "    pass\n",
      "except:pass\n",
      "try:\n",
      "#     plt.scatter(JDs, stableRVs[i,:,3], label = 'IR', color ='cyan' )\n",
      "#     plt.scatter(JDs, np.median(stableRVs[:,:,3],axis=0), label = 'IR', color ='cyan' )\n",
      "    plt.errorbar(JDs, np.nanmean(quadRVs[:,:,3],axis=0), yerr=np.nanstd(quadRVs[:,:,3],axis=0), label = 'IR', color ='cyan' )\n",
      "    pass\n",
      "except:pass\n",
      "\n",
      "# start_day = 56889.000000 # The Julian date for CE  2014 August 20 00:00:00.0 UT  (10am australia)\n",
      "# end_day = 56895.000000 #The Julian date for CE  2014 August 26 00:00:00.0 UT (10am australia)\n",
      "\n",
      "# days = np.linspace(start_day, end_day) \n",
      "\n",
      "# K1=26100\n",
      "# peri_time = 19298.85\n",
      "# P=4.8202\n",
      "# peri_arg=269.3\n",
      "# RV = K1* np.sin( (days-peri_time)/P*2*np.pi - peri_arg/360*2*np.pi )\n",
      "# plt.plot(days, RV, linewidth = 1, label = 'rhoTuc' )\n",
      "\n",
      "plt.xlabel('JD')\n",
      "plt.ylabel('RV [m/s]')\n",
      "plt.legend(loc=0)\n",
      "plt.show()"
     ],
     "language": "python",
     "metadata": {},
     "outputs": [
      {
       "ename": "NameError",
       "evalue": "name 'quadRVs' is not defined",
       "output_type": "pyerr",
       "traceback": [
        "\u001b[0;31m---------------------------------------------------------------------------\u001b[0m\n\u001b[0;31mNameError\u001b[0m                                 Traceback (most recent call last)",
        "\u001b[0;32m<ipython-input-196-f14b6535f850>\u001b[0m in \u001b[0;36m<module>\u001b[0;34m()\u001b[0m\n\u001b[1;32m      1\u001b[0m \u001b[0;31m#Plots RVs, baryvels for all 4 cameras\u001b[0m\u001b[0;34m\u001b[0m\u001b[0;34m\u001b[0m\u001b[0m\n\u001b[1;32m      2\u001b[0m \u001b[0mplt\u001b[0m\u001b[0;34m.\u001b[0m\u001b[0mtitle\u001b[0m\u001b[0;34m(\u001b[0m\u001b[0;34m'Average of all decorrelated targets'\u001b[0m\u001b[0;34m)\u001b[0m\u001b[0;34m\u001b[0m\u001b[0m\n\u001b[0;32m----> 3\u001b[0;31m \u001b[0mmask\u001b[0m \u001b[0;34m=\u001b[0m \u001b[0mnp\u001b[0m\u001b[0;34m.\u001b[0m\u001b[0mabs\u001b[0m\u001b[0;34m(\u001b[0m\u001b[0mquadRVs\u001b[0m\u001b[0;34m)\u001b[0m\u001b[0;34m<\u001b[0m\u001b[0;36m3000\u001b[0m\u001b[0;34m\u001b[0m\u001b[0m\n\u001b[0m\u001b[1;32m      4\u001b[0m \u001b[0mquadRVs\u001b[0m\u001b[0;34m[\u001b[0m\u001b[0;34m-\u001b[0m\u001b[0mmask\u001b[0m\u001b[0;34m]\u001b[0m\u001b[0;34m=\u001b[0m\u001b[0mnp\u001b[0m\u001b[0;34m.\u001b[0m\u001b[0mnan\u001b[0m\u001b[0;34m\u001b[0m\u001b[0m\n\u001b[1;32m      5\u001b[0m \u001b[0;31m# for i in range(RVs.shape[0]):\u001b[0m\u001b[0;34m\u001b[0m\u001b[0;34m\u001b[0m\u001b[0m\n",
        "\u001b[0;31mNameError\u001b[0m: name 'quadRVs' is not defined"
       ]
      }
     ],
     "prompt_number": 196
    },
    {
     "cell_type": "code",
     "collapsed": false,
     "input": [
      "mask = np.abs(quadRVs)<3000\n",
      "plt.plot(quadRVs[mask].flatten())\n",
      "plt.show()"
     ],
     "language": "python",
     "metadata": {},
     "outputs": [],
     "prompt_number": 331
    },
    {
     "cell_type": "code",
     "collapsed": false,
     "input": [
      "# np.save('RVs1',RVs1) \n",
      "# np.save('RVs2',RVs2) \n",
      "# np.save('RVs3',RVs3) \n",
      "# np.save('RVs4',RVs4) \n",
      "# np.save('JDs',JDs) "
     ],
     "language": "python",
     "metadata": {},
     "outputs": [],
     "prompt_number": 128
    },
    {
     "cell_type": "code",
     "collapsed": false,
     "input": [
      "#Plots RVs, baryvels. Single star, 4 cameras\n",
      "plt.title(filehandler.name[:-4])\n",
      "# plt.plot(thisStar.exposures.JDs, thisStar.exposures.rel_baryVels, label = 'Barycentric Vel. ')\n",
      "\n",
      "thisCam = thisStar.exposures.cameras[0]\n",
      "# RVMask = thisStar.exposures.my_data_mask\n",
      "# RVMask = ((thisStar.exposures.my_data_mask) & (np.abs(thisCam.RVs)<50000))\n",
      "RVMask = thisCam.safe_flag\n",
      "plt.scatter(thisStar.exposures.JDs[RVMask], thisCam.DDRVs[RVMask], label = 'Blue', color ='b' )\n",
      "# plt.errorbar(thisStar.exposures.JDs[RVMask], thisCam.DDRVs[RVMask], yerr=thisCam.sigmas[RVMask],fmt='.', label = 'Blue', color ='b' )\n",
      "\n",
      "thisCam = thisStar.exposures.cameras[1]\n",
      "# RVMask = thisStar.exposures.my_data_mask\n",
      "# RVMask = np.abs(thisCam.RVs)<1e6\n",
      "RVMask = thisCam.safe_flag\n",
      "plt.scatter(thisStar.exposures.JDs[RVMask], thisCam.DDRVs[RVMask], label = 'Green' , color ='g')\n",
      "# plt.errorbar(thisStar.exposures.JDs[RVMask], thisCam.RVs[RVMask], yerr=thisCam.sigmas[RVMask],fmt='.', label = 'Green' , color ='g')\n",
      "\n",
      "thisCam = thisStar.exposures.cameras[2]\n",
      "# RVMask = thisStar.exposures.my_data_mask\n",
      "# RVMask = np.abs(thisCam.RVs)<2e5\n",
      "RVMask = thisCam.safe_flag\n",
      "plt.scatter(thisStar.exposures.JDs[RVMask], thisCam.DDRVs[RVMask], label = 'Red' , color ='r')\n",
      "# plt.errorbar(thisStar.exposures.JDs[RVMask], thisCam.RVs[RVMask], yerr=thisCam.sigmas[RVMask],fmt='.', label = 'Red' , color ='r')\n",
      "\n",
      "thisCam = thisStar.exposures.cameras[3]\n",
      "# RVMask = thisStar.exposures.my_data_mask\n",
      "# RVMask = ((thisStar.exposures.my_data_mask) & (np.abs(thisCam.RVs)<20000))\n",
      "RVMask = thisCam.safe_flag\n",
      "plt.scatter(thisStar.exposures.JDs[RVMask], thisCam.DDRVs[RVMask], label = 'IR', color ='cyan' )\n",
      "# plt.errorbar(thisStar.exposures.JDs[RVMask], thisCam.RVs[RVMask], yerr=thisCam.sigmas[RVMask],fmt='.', label = 'IR', color ='cyan' )\n",
      "\n",
      "# start_day = 56889.000000 # The Julian date for CE  2014 August 20 00:00:00.0 UT  (10am australia)\n",
      "# end_day = 56895.000000 #The Julian date for CE  2014 August 26 00:00:00.0 UT (10am australia)\n",
      "\n",
      "# days = np.linspace(start_day, end_day) \n",
      "\n",
      "# K1=26100\n",
      "# peri_time = 19298.85\n",
      "# P=4.8202\n",
      "# peri_arg=269.3\n",
      "# RV = K1* np.sin( (days-peri_time)/P*2*np.pi - peri_arg/360*2*np.pi )\n",
      "# plt.plot(days, RV, linewidth = 1, label = 'rhoTuc' )\n",
      "\n",
      "plt.xlabel('JD')\n",
      "plt.ylabel('RV [m/s]')\n",
      "plt.legend(loc=3)\n",
      "plt.show()"
     ],
     "language": "python",
     "metadata": {},
     "outputs": [],
     "prompt_number": 69
    },
    {
     "cell_type": "code",
     "collapsed": false,
     "input": [
      "thisCam = thisStar.exposures.cameras[0]\n",
      "# for i in range(5):\n",
      "print thisCam.Ps\n",
      "print (thisCam.Ps[0,0]-thisCam.clean_wavelengths[0].shape[0]/2)\n",
      "print (-20480)*3000"
     ],
     "language": "python",
     "metadata": {},
     "outputs": [
      {
       "output_type": "stream",
       "stream": "stdout",
       "text": [
        "[[ 20480.00000041     31.22024091]\n",
        " [ 20479.18647047     33.74691434]\n",
        " [ 20479.5291172      33.19166508]\n",
        " [ 20479.33101668     32.03804502]\n",
        " [ 20500.34874949     42.66071609]]\n",
        "1.24415601022\n",
        "-61440000\n"
       ]
      }
     ],
     "prompt_number": 78
    },
    {
     "cell_type": "code",
     "collapsed": false,
     "input": [
      "#plots all data\n",
      "thisCam = thisStar.exposures.cameras[2]\n",
      "for i in [3]:\n",
      "    \n",
      "    fig = plt.gcf()\n",
      "    fig.suptitle(filehandler.name[:-4]+' - t0 vs t'+str(i)+' - RV='+str(thisCam.RVs[i])+' m/s', fontsize=14)\n",
      "\n",
      "    plt.subplot(221)\n",
      "    plt.title('Clean Flux')\n",
      "    plt.plot(thisCam.clean_wavelengths[i][::50],thisCam.clean_fluxes[i][::50])\n",
      "    plt.xlabel('Wavelength [ang]')\n",
      "    plt.ylabel('Flux [Counts]')\n",
      "    plt.legend(loc=0)\n",
      "    \n",
      "    plt.subplot(223)\n",
      "    plt.title('Clean Flux - Detail')\n",
      "    plt.plot(thisCam.clean_wavelengths[0],thisCam.clean_fluxes[0], label = 't0 Flux')\n",
      "    plt.plot(thisCam.clean_wavelengths[i],thisCam.clean_fluxes[i], label = 'Epoch '+str(i))\n",
      "#     plt.axis((4859,4864, -1,1))\n",
      "    plt.xlabel('Wavelength [ang]')\n",
      "    plt.ylabel('Flux [Counts]')\n",
      "    plt.legend(loc=0)\n",
      "\n",
      "    plt.subplot(222)\n",
      "    plt.title('Cross Correlation Result')\n",
      "    plt.plot((thisCam.clean_wavelengths[i]-np.median(thisCam.clean_wavelengths[i]))/thisCam.clean_wavelengths[i]*const.c,thisCam.CCCurves[i]/np.max(thisCam.CCCurves[i]))\n",
      "    plt.plot((thisCam.clean_wavelengths[i]-np.median(thisCam.clean_wavelengths[i]))/thisCam.clean_wavelengths[i]*const.c,\n",
      "             gaussian(range(len(thisCam.clean_wavelengths[i])), thisCam.Ps[i][0], thisCam.Ps[i][1]), label = 'gaussian fit') \n",
      "    plt.xlabel('RV [m/s]')\n",
      "    plt.legend(loc=0)\n",
      "    \n",
      "    plt.subplot(224)\n",
      "    plt.title('Cross Correlation Result - Detail')\n",
      "    plt.plot((thisCam.clean_wavelengths[i]-np.median(thisCam.clean_wavelengths[i]))/thisCam.clean_wavelengths[i]*const.c,thisCam.CCCurves[i]/np.max(thisCam.CCCurves[i]))\n",
      "    plt.plot((thisCam.clean_wavelengths[i]-np.median(thisCam.clean_wavelengths[i]))/thisCam.clean_wavelengths[i]*const.c,\n",
      "             gaussian(range(len(thisCam.clean_wavelengths[i])), thisCam.Ps[i][0], thisCam.Ps[i][1]), label = 'gaussian fit') \n",
      "    plt.axis((-8000, 8000,0.5,1.1) )\n",
      "    plt.xlabel('RV [m/s]')\n",
      "    plt.legend(loc=2)    \n",
      "\n",
      "    plt.tight_layout()\n",
      "    plt.show()\n"
     ],
     "language": "python",
     "metadata": {},
     "outputs": [
      {
       "output_type": "stream",
       "stream": "stdout",
       "text": [
        "No labeled objects found. Use label='...' kwarg on individual plots.\n",
        "tight_layout : falling back to Agg renderer\n"
       ]
      }
     ],
     "prompt_number": 176
    },
    {
     "cell_type": "code",
     "collapsed": false,
     "input": [],
     "language": "python",
     "metadata": {},
     "outputs": []
    },
    {
     "cell_type": "code",
     "collapsed": false,
     "input": [
      "#plots all CC fitted gausian results\\n\",\n",
      "# for i in range(CCCurves.shape[0]):\\n\",\n",
      "thisCam = thisStar.exposures.cameras[0]\n",
      "for i in range(10):\n",
      "    plt.plot((thisCam.clean_wavelengths[i]-np.median(thisCam.clean_wavelengths[i]))/thisCam.clean_wavelengths[i]*const.c,thisCam.CCCurves[i]/np.max(thisCam.CCCurves[i]))\n",
      "#     plt.plot((thisCam.clean_wavelengths[i]-np.median(thisCam.clean_wavelengths[i]))/thisCam.clean_wavelengths[i]*const.c,\n",
      "#              gaussian(range(len(thisCam.clean_wavelengths[i])), thisCam.Ps[i][0], thisCam.Ps[i][1])) \n",
      "    plt.xlabel('RV [m/s]')\n",
      "plt.show()\n"
     ],
     "language": "python",
     "metadata": {},
     "outputs": [
      {
       "ename": "IndexError",
       "evalue": "index 8 is out of bounds for axis 0 with size 8",
       "output_type": "pyerr",
       "traceback": [
        "\u001b[0;31m---------------------------------------------------------------------------\u001b[0m\n\u001b[0;31mIndexError\u001b[0m                                Traceback (most recent call last)",
        "\u001b[0;32m<ipython-input-69-58fec993073f>\u001b[0m in \u001b[0;36m<module>\u001b[0;34m()\u001b[0m\n\u001b[1;32m      3\u001b[0m \u001b[0mthisCam\u001b[0m \u001b[0;34m=\u001b[0m \u001b[0mthisStar\u001b[0m\u001b[0;34m.\u001b[0m\u001b[0mexposures\u001b[0m\u001b[0;34m.\u001b[0m\u001b[0mcameras\u001b[0m\u001b[0;34m[\u001b[0m\u001b[0;36m0\u001b[0m\u001b[0;34m]\u001b[0m\u001b[0;34m\u001b[0m\u001b[0m\n\u001b[1;32m      4\u001b[0m \u001b[0;32mfor\u001b[0m \u001b[0mi\u001b[0m \u001b[0;32min\u001b[0m \u001b[0mrange\u001b[0m\u001b[0;34m(\u001b[0m\u001b[0;36m10\u001b[0m\u001b[0;34m)\u001b[0m\u001b[0;34m:\u001b[0m\u001b[0;34m\u001b[0m\u001b[0m\n\u001b[0;32m----> 5\u001b[0;31m     \u001b[0mplt\u001b[0m\u001b[0;34m.\u001b[0m\u001b[0mplot\u001b[0m\u001b[0;34m(\u001b[0m\u001b[0;34m(\u001b[0m\u001b[0mthisCam\u001b[0m\u001b[0;34m.\u001b[0m\u001b[0mclean_wavelengths\u001b[0m\u001b[0;34m[\u001b[0m\u001b[0mi\u001b[0m\u001b[0;34m]\u001b[0m\u001b[0;34m-\u001b[0m\u001b[0mnp\u001b[0m\u001b[0;34m.\u001b[0m\u001b[0mmedian\u001b[0m\u001b[0;34m(\u001b[0m\u001b[0mthisCam\u001b[0m\u001b[0;34m.\u001b[0m\u001b[0mclean_wavelengths\u001b[0m\u001b[0;34m[\u001b[0m\u001b[0mi\u001b[0m\u001b[0;34m]\u001b[0m\u001b[0;34m)\u001b[0m\u001b[0;34m)\u001b[0m\u001b[0;34m/\u001b[0m\u001b[0mthisCam\u001b[0m\u001b[0;34m.\u001b[0m\u001b[0mclean_wavelengths\u001b[0m\u001b[0;34m[\u001b[0m\u001b[0mi\u001b[0m\u001b[0;34m]\u001b[0m\u001b[0;34m*\u001b[0m\u001b[0mconst\u001b[0m\u001b[0;34m.\u001b[0m\u001b[0mc\u001b[0m\u001b[0;34m,\u001b[0m\u001b[0mthisCam\u001b[0m\u001b[0;34m.\u001b[0m\u001b[0mCCCurves\u001b[0m\u001b[0;34m[\u001b[0m\u001b[0mi\u001b[0m\u001b[0;34m]\u001b[0m\u001b[0;34m/\u001b[0m\u001b[0mnp\u001b[0m\u001b[0;34m.\u001b[0m\u001b[0mmax\u001b[0m\u001b[0;34m(\u001b[0m\u001b[0mthisCam\u001b[0m\u001b[0;34m.\u001b[0m\u001b[0mCCCurves\u001b[0m\u001b[0;34m[\u001b[0m\u001b[0mi\u001b[0m\u001b[0;34m]\u001b[0m\u001b[0;34m)\u001b[0m\u001b[0;34m)\u001b[0m\u001b[0;34m\u001b[0m\u001b[0m\n\u001b[0m\u001b[1;32m      6\u001b[0m \u001b[0;31m#     plt.plot((thisCam.clean_wavelengths[i]-np.median(thisCam.clean_wavelengths[i]))/thisCam.clean_wavelengths[i]*const.c,\u001b[0m\u001b[0;34m\u001b[0m\u001b[0;34m\u001b[0m\u001b[0m\n\u001b[1;32m      7\u001b[0m \u001b[0;31m#              gaussian(range(len(thisCam.clean_wavelengths[i])), thisCam.Ps[i][0], thisCam.Ps[i][1]))\u001b[0m\u001b[0;34m\u001b[0m\u001b[0;34m\u001b[0m\u001b[0m\n",
        "\u001b[0;31mIndexError\u001b[0m: index 8 is out of bounds for axis 0 with size 8"
       ]
      }
     ],
     "prompt_number": 69
    },
    {
     "cell_type": "code",
     "collapsed": false,
     "input": [
      "#Debuging CC - resampling and cleaning tests\n",
      "flux1 = thisStar.exposures.cameras[0].red_fluxes[0]\n",
      "lambda1 = thisStar.exposures.cameras[0].wavelengths[0]\n",
      "lambda1Clean_10, flux1Clean_10 = clean_flux(flux1, 1, lambda1)\n",
      "# lambda1Clean_10, flux1Clean_10 = clean_flux(flux1, xDef, lambda1)\n",
      "# lambda1Clean_100, flux1Clean_100 = clean_flux(flux1, 100, lambda1)\\n\",\n",
      "plt.plot(lambda1,flux1/np.max(flux1), label= 'Reduced')\n",
      "# plt.plot(lambda1Clean_1,flux1Clean_1)\n",
      "plt.plot(lambda1Clean_10,flux1Clean_10, label= 'Clean')\n",
      "# plt.plot(lambda1Clean_100,flux1Clean_100)\n",
      "plt.title('Reduced and Clean flux')\n",
      "plt.xlabel('Wavelength [Ang.]')\n",
      "plt.ylabel('Relatuve Flux')\n",
      "plt.legend(loc=0)\n",
      "plt.show()\n"
     ],
     "language": "python",
     "metadata": {},
     "outputs": [],
     "prompt_number": 70
    },
    {
     "cell_type": "code",
     "collapsed": false,
     "input": [
      "#Saves\n",
      "# delattr(thisStar.exposures.cameras[0],'clean_fluxes')\n",
      "# delattr(thisStar.exposures.cameras[1],'clean_fluxes')\n",
      "# delattr(thisStar.exposures.cameras[2],'clean_fluxes')\n",
      "# delattr(thisStar.exposures.cameras[3],'clean_fluxes')\n",
      "# delattr(thisStar.exposures.cameras[0],'clean_wavelengths')\n",
      "# delattr(thisStar.exposures.cameras[1],'clean_wavelengths')\n",
      "# delattr(thisStar.exposures.cameras[2],'clean_wavelengths')\n",
      "# delattr(thisStar.exposures.cameras[3],'clean_wavelengths')\n",
      "# file_pi = open(filehandler.name, 'w') \n",
      "# pickle.dump(thisStar, file_pi) \n",
      "# file_pi.close()\n",
      "# filehandler.close()\n",
      "# thisStar = None"
     ],
     "language": "python",
     "metadata": {},
     "outputs": [],
     "prompt_number": 78
    },
    {
     "cell_type": "code",
     "collapsed": false,
     "input": [
      "1/10e-6/3600"
     ],
     "language": "python",
     "metadata": {},
     "outputs": [
      {
       "metadata": {},
       "output_type": "pyout",
       "prompt_number": 79,
       "text": [
        "27.777777777777775"
       ]
      }
     ],
     "prompt_number": 79
    },
    {
     "cell_type": "code",
     "collapsed": false,
     "input": [],
     "language": "python",
     "metadata": {},
     "outputs": []
    }
   ],
   "metadata": {}
  }
 ]
}