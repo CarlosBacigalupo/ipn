{
 "cells": [
  {
   "cell_type": "code",
   "execution_count": 28,
   "metadata": {
    "collapsed": false
   },
   "outputs": [
    {
     "data": {
      "text/plain": [
       "<module 'myHerpyTools' from '/Users/Carlos/Documents/ipn/myHerpyTools.py'>"
      ]
     },
     "execution_count": 28,
     "metadata": {},
     "output_type": "execute_result"
    }
   ],
   "source": [
    "# import pyfits as pf\n",
    "# import pylab as plt\n",
    "# from scipy import optimize\n",
    "# from scipy.signal import medfilt, find_peaks_cwt\n",
    "# from scipy.ndimage.filters import minimum_filter, maximum_filter, median_filter, convolve\n",
    "# from scipy.ndimage.measurements import label\n",
    "# import numpy as np\n",
    "\n",
    "import myHerpyTools as MHT\n",
    "reload(MHT)"
   ]
  },
  {
   "cell_type": "code",
   "execution_count": 2,
   "metadata": {
    "collapsed": false
   },
   "outputs": [
    {
     "name": "stdout",
     "output_type": "stream",
     "text": [
      "/Users/Carlos/Documents/HERMES/reductions/new_start_6.5/HD1581\n"
     ]
    }
   ],
   "source": [
    "cd /Users/Carlos/Documents/HERMES/reductions/new_start_6.5/HD1581/"
   ]
  },
  {
   "cell_type": "code",
   "execution_count": 3,
   "metadata": {
    "collapsed": true
   },
   "outputs": [],
   "source": [
    "folder = \"herpy_out\""
   ]
  },
  {
   "cell_type": "code",
   "execution_count": 4,
   "metadata": {
    "collapsed": false
   },
   "outputs": [],
   "source": [
    "# flatFileName = '0_20aug/1/20aug10034.fits'\n",
    "# arcFileName = '0_20aug/1/20aug10052.fits'\n",
    "# objFileName = '0_20aug/1/20aug10053.fits'\n",
    "\n",
    "# flatFileName = '1_21aug/1/21aug10047.fits'\n",
    "# arcFileName = '1_21aug/1/21aug10046.fits'\n",
    "# objFileName = '1_21aug/1/21aug10041.fits'\n",
    "\n",
    "# flatFileName = '2_22aug/1/22aug10032.fits'\n",
    "# arcFileName = '2_22aug/1/22aug10031.fits'\n",
    "# objFileName = '2_22aug/1/22aug10036.fits'\n",
    "\n",
    "flatFileName = '3_24aug/1/24aug10053.fits'\n",
    "arcFileName = '3_24aug/1/24aug10054.fits'\n",
    "objFileName = '3_24aug/1/24aug10058.fits'\n",
    "\n",
    "# flatFileName = '4_25aug/1/25aug10039.fits'\n",
    "# arcFileName = '4_25aug/1/25aug10043.fits'\n",
    "# objFileName = '4_25aug/1/25aug10044.fits'"
   ]
  },
  {
   "cell_type": "code",
   "execution_count": 5,
   "metadata": {
    "collapsed": false
   },
   "outputs": [],
   "source": [
    "# #Opening files\n",
    "# flat = MHT.openFile(flatFileName)\n",
    "# arc =  MHT.openFile(arcFileName)\n",
    "# obj =  MHT.openFile(objFileName)\n"
   ]
  },
  {
   "cell_type": "code",
   "execution_count": 6,
   "metadata": {
    "collapsed": false
   },
   "outputs": [],
   "source": [
    "# flat_flat = MHT.make_flat_flat(flat)"
   ]
  },
  {
   "cell_type": "code",
   "execution_count": 7,
   "metadata": {
    "collapsed": false
   },
   "outputs": [],
   "source": [
    "#Check results\n",
    "# plt.imshow(flat_flat)\n",
    "# plt.show()"
   ]
  },
  {
   "cell_type": "code",
   "execution_count": 8,
   "metadata": {
    "collapsed": false
   },
   "outputs": [],
   "source": [
    "# #Thesis plots. Skip for processing\n",
    "# i=20\n",
    "# singleCol = flat_flat[:,i].copy()\n",
    "# singleMinEnv = convolve(minimum_filter(singleCol,15),[.2,.2,.2,.2,.2])\n",
    "# singleMin = singleCol - singleMinEnv\n",
    "\n",
    "# singleMax = convolve(maximum_filter(singleMin,15),[.2,.2,.2,.2,.2]) \n",
    "\n",
    "# fixer = convolve(singleMax, np.ones(200)/200)\n",
    "# singleMax[singleMax<fixer*.5] = fixer[singleMax<fixer*.5]*.5\n",
    "# singleColFlat = singleMin.copy()/singleMax.copy()\n",
    "# singleMax += singleMinEnv\n",
    "\n",
    "# # plt.plot(singleCol)\n",
    "# # plt.plot(singleMinEnv) \n",
    "# # plt.plot(singleMax) \n",
    "\n",
    "# singleColFlat_bin = singleColFlat.copy()\n",
    "# singleColFlat_bin[singleColFlat>.3] = 1\n",
    "# singleColFlat_bin[singleColFlat<.3] = 0\n",
    "\n",
    "# flat_flat_bin = flat_flat.copy()\n",
    "# flat_flat_bin[:,i] = singleColFlat_bin\n",
    "\n",
    "# plt.title(\"Normalised Fibres and Binary Mask\")\n",
    "# plt.xlabel(\"Pixel Index\")\n",
    "# plt.ylabel(\"Intensity\")\n",
    "# plt.plot(singleColFlat)\n",
    "# # plt.plot(flat_flat_bin[:,i]) \n",
    "# plt.fill_between(range(flat_flat_bin.shape[0]),flat_flat_bin[:,i], alpha =0.3, color ='black')\n",
    "# plt.show()\n"
   ]
  },
  {
   "cell_type": "code",
   "execution_count": 9,
   "metadata": {
    "collapsed": false
   },
   "outputs": [],
   "source": [
    "# flat_flat_bin = MHT.make_flat_flat_bin(flat_flat)"
   ]
  },
  {
   "cell_type": "code",
   "execution_count": 10,
   "metadata": {
    "collapsed": false
   },
   "outputs": [],
   "source": [
    "# #Check results\n",
    "# plt.plot(flat_flat_bin[:,102])\n",
    "# plt.show()"
   ]
  },
  {
   "cell_type": "code",
   "execution_count": null,
   "metadata": {
    "collapsed": false
   },
   "outputs": [],
   "source": []
  },
  {
   "cell_type": "code",
   "execution_count": 11,
   "metadata": {
    "collapsed": false
   },
   "outputs": [],
   "source": [
    "# plt.imshow(out_array)\n",
    "# plt.show()"
   ]
  },
  {
   "cell_type": "code",
   "execution_count": 12,
   "metadata": {
    "collapsed": false
   },
   "outputs": [],
   "source": [
    "# np.max(out_array)"
   ]
  },
  {
   "cell_type": "code",
   "execution_count": 13,
   "metadata": {
    "collapsed": false
   },
   "outputs": [],
   "source": [
    "# fibre_centroids = MHT.make_fibre_centroids(flat_flat_bin)"
   ]
  },
  {
   "cell_type": "code",
   "execution_count": 14,
   "metadata": {
    "collapsed": false,
    "scrolled": true
   },
   "outputs": [],
   "source": [
    "# fibre_centroids"
   ]
  },
  {
   "cell_type": "code",
   "execution_count": 15,
   "metadata": {
    "collapsed": false
   },
   "outputs": [],
   "source": [
    "# MHT.plt.imshow(MHT.np.isnan(fibre_centroids))\n",
    "# MHT.plt.show()"
   ]
  },
  {
   "cell_type": "code",
   "execution_count": 16,
   "metadata": {
    "collapsed": false
   },
   "outputs": [],
   "source": [
    "# for i in range(397):\n",
    "#     print np.sum(np.isnan(fibre_centroids[3,:]))"
   ]
  },
  {
   "cell_type": "code",
   "execution_count": 17,
   "metadata": {
    "collapsed": false
   },
   "outputs": [],
   "source": [
    "#line to remove 251 and 252 that have nans\n",
    "# fibre_centroids = np.delete(fibre_centroids,251,0) #2 times for epoch0\n",
    "# fibre_centroids = np.delete(fibre_centroids,372,0) 3 times for epoch1\n",
    "# np.sum(np.isnan(fibre_centroids),1)"
   ]
  },
  {
   "cell_type": "code",
   "execution_count": 18,
   "metadata": {
    "collapsed": false
   },
   "outputs": [],
   "source": [
    "# fibrePolys = MHT.make_fibrePolys(fibre_centroids)"
   ]
  },
  {
   "cell_type": "code",
   "execution_count": 19,
   "metadata": {
    "collapsed": false
   },
   "outputs": [],
   "source": [
    "# tramlines = MHT.make_tramlines(fibre_centroids, fibrePolys)"
   ]
  },
  {
   "cell_type": "code",
   "execution_count": 20,
   "metadata": {
    "collapsed": false
   },
   "outputs": [],
   "source": [
    "# #find vertical shift\n",
    "# shift = MHT.find_vertical_shift(flat, arc) #result to be subtracted to the tramlines (1st array in the CC...)\n",
    "# tramlines_shifted = tramlines - shift"
   ]
  },
  {
   "cell_type": "code",
   "execution_count": 21,
   "metadata": {
    "collapsed": false
   },
   "outputs": [],
   "source": [
    "# shift"
   ]
  },
  {
   "cell_type": "code",
   "execution_count": 22,
   "metadata": {
    "collapsed": false
   },
   "outputs": [],
   "source": [
    "# #gaussian fit results\n",
    "# plt.plot(x,y)\n",
    "# # plt.plot(x_dense,gaussian(x_dense,p[0],p[1]))\n",
    "# plt.show()"
   ]
  },
  {
   "cell_type": "code",
   "execution_count": 23,
   "metadata": {
    "collapsed": false
   },
   "outputs": [],
   "source": [
    "# extracted_arc = MHT.extract(tramlines_shifted, arc)"
   ]
  },
  {
   "cell_type": "code",
   "execution_count": 24,
   "metadata": {
    "collapsed": false
   },
   "outputs": [],
   "source": [
    "# extracted_obj = MHT.extract(tramlines_shifted, obj)"
   ]
  },
  {
   "cell_type": "code",
   "execution_count": 25,
   "metadata": {
    "collapsed": false
   },
   "outputs": [],
   "source": [
    "# MHT.plt.plot(MHT.np.median(extracted_arc,axis=0))\n",
    "# MHT.plt.show()"
   ]
  },
  {
   "cell_type": "code",
   "execution_count": 26,
   "metadata": {
    "collapsed": false
   },
   "outputs": [],
   "source": [
    "# MHT.plt.plot(extracted_arc[170])\n",
    "# MHT.plt.show()\n"
   ]
  },
  {
   "cell_type": "code",
   "execution_count": 27,
   "metadata": {
    "collapsed": true
   },
   "outputs": [],
   "source": [
    "#At this point we have the tramlines created, arc and obj extracted. No rebinning or wl solution yet..."
   ]
  },
  {
   "cell_type": "code",
   "execution_count": null,
   "metadata": {
    "collapsed": true
   },
   "outputs": [],
   "source": [
    "extracted_arc MHT.read_NPY(arcFileName, \"arc\", \"px\", folder)"
   ]
  },
  {
   "cell_type": "code",
   "execution_count": null,
   "metadata": {
    "collapsed": false
   },
   "outputs": [],
   "source": [
    "#initial pixel adjustment\n",
    "thisFibre = 200\n",
    "\n",
    "print \"Fibre:\",thisFibre\n",
    "\n",
    "halfCCRange = 10\n",
    "halfSmallCCRange = 4\n",
    "\n",
    "masterArc = extracted_arc[thisFibre].copy()\n",
    "\n",
    "lineTemplate = np.zeros(extracted_arc.shape[1])\n",
    "lineList = np.loadtxt('linelist_blue.txt')\n",
    "lineTemplate[lineList[:,0].astype(int)]=1\n",
    "\n",
    "CCCurve = np.correlate(masterArc, lineTemplate, mode='full')\n",
    "\n",
    "y = CCCurve[int(CCCurve.shape[0]/2.)+1-halfCCRange:int(CCCurve.shape[0]/2.)+1+halfCCRange+1]\n",
    "x = np.arange(-halfCCRange,halfCCRange+1)\n",
    "\n",
    "maxIdx = np.where(y==np.max(y))[0][0]\n",
    "print x[maxIdx]\n",
    "\n",
    "\n",
    "# plt.plot(masterArc)\n",
    "# adjLineList = lineList.copy()\n",
    "# adjLineList[:,0] += x[maxIdx]\n",
    "# np.savetxt('linelist_blue_v2.txt',adjLineList)\n",
    "# plt.scatter(adjLineList[:,0], np.ones(adjLineList.shape[0]))\n",
    "# plt.show()"
   ]
  },
  {
   "cell_type": "code",
   "execution_count": null,
   "metadata": {
    "collapsed": false
   },
   "outputs": [],
   "source": [
    "#FULL LOOP\n",
    "\n",
    "wlSolutions = []\n",
    "wlErrors = []\n",
    "wlPolys = []\n",
    "for thisFibre in range(extracted_arc.shape[0])[:]:\n",
    "    print 'Fibre',thisFibre\n",
    "\n",
    "    halfCCRange = 15\n",
    "\n",
    "    masterArc = extracted_arc[thisFibre].copy()\n",
    "\n",
    "    lineTemplate = np.zeros(extracted_arc.shape[1])\n",
    "    lineList = np.loadtxt('linelist_blue_v2.txt')\n",
    "    lineTemplate[lineList[:,0].astype(int)]=1\n",
    "\n",
    "    CCCurve = np.correlate(masterArc, lineTemplate, mode='full')\n",
    "\n",
    "    y = CCCurve[int(CCCurve.shape[0]/2.)+1-halfCCRange:int(CCCurve.shape[0]/2.)+1+halfCCRange+1]\n",
    "    x = np.arange(-halfCCRange,halfCCRange+1)\n",
    "\n",
    "    maxIdx = np.where(y==np.max(y))[0][0]\n",
    "    thisShift = x[maxIdx]\n",
    "\n",
    "#     print 'Shift', thisShift\n",
    "\n",
    "    adjLineList = lineList.copy()\n",
    "    adjLineList[:,0] += thisShift\n",
    "\n",
    "    for i, thisLineWl in enumerate(adjLineList):\n",
    "#         print 'Searching for wl',thisLineWl[1],'in px',thisLineWl[0],\n",
    "        \n",
    "        firstSliceX = np.arange(thisLineWl[0]-5,thisLineWl[0]+6).astype(int)\n",
    "        firstSliceY = masterArc[firstSliceX]\n",
    "        maxIdx =  firstSliceX[np.where(firstSliceY==np.max(firstSliceY))[0][0]]\n",
    "        \n",
    "        secondSliceX = np.arange(maxIdx-5,maxIdx+6).astype(int)\n",
    "        secondSliceY = masterArc[secondSliceX]      \n",
    "        \n",
    "#         p,_ = fit_gaussian([maxIdx,1.], secondSliceY, secondSliceX )\n",
    "        p,_ = fit_flexi_gaussian([maxIdx,1., 2., np.max(secondSliceY), 0], secondSliceY, secondSliceX )\n",
    "        \n",
    "#         print 'Found',p\n",
    "        goodPxValue = p[0]\n",
    "\n",
    "        adjLineList[i,0] = goodPxValue\n",
    "        \n",
    "#         x_dense = np.linspace(np.min(secondSliceX),np.max(secondSliceX))\n",
    "#         plt.plot(secondSliceX,secondSliceY)\n",
    "#         plt.plot(x_dense,flexi_gaussian(x_dense,p[0],p[1],p[2],p[3],p[4]))\n",
    "#         plt.title(goodPxValue)\n",
    "#         plt.show()\n",
    "\n",
    "#     print adjLineList\n",
    "    \n",
    "    a = np.polyfit(adjLineList[:,0], adjLineList[:,1], 5)\n",
    "    x = fithOrder(a, np.arange(4095))\n",
    "    err = fithOrder(a, adjLineList[:,0]) - adjLineList[:,1]\n",
    "\n",
    "    wlPolys.append(a)\n",
    "    wlErrors.append(err)\n",
    "    wlSolutions.append(x)\n",
    "    \n",
    "wlPolys = np.array(wlPolys)\n",
    "wlErrors = np.array(wlErrors)\n",
    "wlSolutions = np.array(wlSolutions)\n",
    "#         plt.plot(x_dense,gaussian(x_dense,p[0],p[1]))\n",
    "#         plt.plot(firstSliceX,firstSliceY/np.max(firstSliceY))\n",
    "#         plt.title(maxIdx)\n",
    "# #         plt.plot(masterArc[thisLineWl[0]-5:thisLineWl[0]+5])\n",
    "#         plt.show()\n"
   ]
  },
  {
   "cell_type": "code",
   "execution_count": null,
   "metadata": {
    "collapsed": false
   },
   "outputs": [],
   "source": [
    "import scipy.constants as const\n",
    "\n",
    "wlErrorsRVs = wlErrors/np.tile(adjLineList[:,1],[wlErrors.shape[0],1])*const.c\n",
    "\n",
    "stdRVs = np.std(wlErrorsRVs,axis = 1)\n",
    "# stdRVs2 = np.std(wlErrorsRVs_General_distrib,axis = 1)\n",
    "\n",
    "plt.plot(stdRVs, '.')\n",
    "# plt.plot(stdRVs2, '.')\n",
    "plt.grid()\n",
    "plt.show()\n",
    "#237 !!!!\n"
   ]
  },
  {
   "cell_type": "code",
   "execution_count": null,
   "metadata": {
    "collapsed": false
   },
   "outputs": [],
   "source": [
    "plt.plot(wlSolutions[170],extracted_arc[170])\n",
    "# plt.plot(wlSolutions[20],extracted_arc[20])\n",
    "plt.show()"
   ]
  },
  {
   "cell_type": "code",
   "execution_count": null,
   "metadata": {
    "collapsed": false
   },
   "outputs": [],
   "source": [
    "thisArray = extracted_arc[237].copy()\n",
    "thisArray[thisArray<20]=0\n",
    "thisPeaks = find_peaks_cwt(thisArray, np.arange(1,2))\n",
    "print len(thisPeaks)"
   ]
  },
  {
   "cell_type": "code",
   "execution_count": null,
   "metadata": {
    "collapsed": false
   },
   "outputs": [],
   "source": [
    "plt.scatter(thisPeaks,extracted_arc[237][thisPeaks])\n",
    "plt.plot(extracted_arc[237])\n",
    "plt.show()"
   ]
  },
  {
   "cell_type": "code",
   "execution_count": null,
   "metadata": {
    "collapsed": false
   },
   "outputs": [],
   "source": [
    "#extend line list to all bumps\n",
    "\n",
    "masterArc = extracted_arc[237]\n",
    "bigLineList = []\n",
    "for i, thisPeak in enumerate(thisPeaks):\n",
    "#         print 'Searching for wl',thisLineWl[1],'in px',thisLineWl[0],\n",
    "\n",
    "    firstSliceX = np.arange(thisPeak-5,thisPeak+6).astype(int)\n",
    "    firstSliceY = masterArc[firstSliceX]\n",
    "    maxIdx =  firstSliceX[np.where(firstSliceY==np.max(firstSliceY))[0][0]]\n",
    "\n",
    "    secondSliceX = np.arange(maxIdx-5,maxIdx+6).astype(int)\n",
    "    secondSliceY = masterArc[secondSliceX]      \n",
    "\n",
    "#         p,_ = fit_gaussian([maxIdx,1.], secondSliceY, secondSliceX )\n",
    "    p,_ = fit_flexi_gaussian([maxIdx,1., 2., np.max(secondSliceY), 0], secondSliceY, secondSliceX )\n",
    "\n",
    "#         print 'Found',p\n",
    "    goodPxValue = p[0]\n",
    "\n",
    "#     adjLineList[i,0] = goodPxValue\n",
    "\n",
    "#         x_dense = np.linspace(np.min(secondSliceX),np.max(secondSliceX))\n",
    "#         plt.plot(secondSliceX,secondSliceY)\n",
    "#         plt.plot(x_dense,flexi_gaussian(x_dense,p[0],p[1],p[2],p[3],p[4]))\n",
    "#         plt.title(goodPxValue)\n",
    "#         plt.show()\n",
    "\n",
    "#     print adjLineList\n",
    "\n",
    "# a = np.polyfit(adjLineList[:,0], adjLineList[:,1], 5)\n",
    "    x = fithOrder(wlPolys[237], goodPxValue)\n",
    "# err = fithOrder(a, adjLineList[:,0]) - adjLineList[:,1]\n",
    "\n",
    "    bigLineList.append((goodPxValue,x))\n",
    "# wlErrors.append(err)\n",
    "# wlSolutions.append(x)\n",
    "\n",
    "bigLineList = np.array(bigLineList)\n",
    "# wlPolys = np.array(wlPolys)\n",
    "# wlErrors = np.array(wlErrors)\n",
    "# wlSolutions = np.array(wlSolutions)\n",
    "#         plt.plot(x_dense,gaussian(x_dense,p[0],p[1]))\n",
    "#         plt.plot(firstSliceX,firstSliceY/np.max(firstSliceY))\n",
    "#         plt.title(maxIdx)\n",
    "# #         plt.plot(masterArc[thisLineWl[0]-5:thisLineWl[0]+5])\n",
    "#         plt.show()\n"
   ]
  },
  {
   "cell_type": "code",
   "execution_count": null,
   "metadata": {
    "collapsed": false
   },
   "outputs": [],
   "source": [
    "plt.plot(range(wlSolutions[237].shape[0]), wlSolutions[237])\n",
    "plt.scatter(bigLineList[:,0], bigLineList[:,1])\n",
    "plt.show()"
   ]
  },
  {
   "cell_type": "code",
   "execution_count": null,
   "metadata": {
    "collapsed": false
   },
   "outputs": [],
   "source": [
    "plt.plot(wlSolutions[40], extracted_arc[40])\n",
    "plt.scatter(bigLineList[:,1],np.ones(110)*20)\n",
    "plt.show()"
   ]
  },
  {
   "cell_type": "code",
   "execution_count": null,
   "metadata": {
    "collapsed": false
   },
   "outputs": [],
   "source": [
    "np.savetxt('bigLineList.txt',bigLineList)\n"
   ]
  },
  {
   "cell_type": "code",
   "execution_count": null,
   "metadata": {
    "collapsed": false,
    "scrolled": true
   },
   "outputs": [],
   "source": [
    "# _,ind = np.unique(bigLineList[:,1], return_index=True)\n",
    "# bigLineList =  bigLineList[ind]\n",
    "# print bigLineList"
   ]
  },
  {
   "cell_type": "code",
   "execution_count": null,
   "metadata": {
    "collapsed": false
   },
   "outputs": [],
   "source": [
    "#find differences to other fibres\n",
    "\n",
    "# bigLineList = np.loadtxt('bigLineList.txt')\n",
    "bigLineList = reducedbigLineList\n",
    "# lineLocations = np.ones((extracted_arc.shape[0],bigLineList.shape[0]))*np.nan\n",
    "lineLocations = np.ones(bigLineList.shape[0])*np.nan\n",
    "\n",
    "for thisFibre in range(extracted_arc.shape[0])[170:171]:\n",
    "    print 'Fibre',thisFibre,\n",
    "\n",
    "    halfCCRange = 15\n",
    "\n",
    "    thisArc = extracted_arc[thisFibre].copy()\n",
    "    thisObj = extracted_obj[thisFibre].copy()\n",
    "    thisWlSolution = wlSolutions[thisFibre].copy()\n",
    "    \n",
    "\n",
    "    for i, thisWl in enumerate(bigLineList):\n",
    "#         print 'Searching for wl',thisWl\n",
    "        diffArray = np.abs(thisWlSolution-thisWl)\n",
    "#         print thisWl, thisWlSolution, diffArray \n",
    "        wlPx = np.where(diffArray==np.min(diffArray))[0][0]\n",
    "#         print wlPx, thisWlSolution[wlPx-1:wlPx+1]\n",
    "\n",
    "        thisSlice = np.arange(wlPx-6,wlPx+7).astype(int)\n",
    "\n",
    "        firstSliceX = thisWlSolution[thisSlice]\n",
    "        firstSliceY = thisArc[thisSlice]\n",
    "        maxIdx =  thisSlice[np.where(firstSliceY==np.max(firstSliceY))[0][0]]\n",
    "#         print maxIdx\n",
    "        \n",
    "#         plt.plot(firstSliceX,firstSliceY)\n",
    "#         plt.show()\n",
    "\n",
    "        \n",
    "        thisSecondSlice = np.arange(maxIdx-5,maxIdx+6).astype(int)\n",
    "        secondSliceX = thisWlSolution[thisSecondSlice]\n",
    "        secondSliceY = thisArc[thisSecondSlice]      \n",
    "    \n",
    "# #         p,_ = fit_gaussian([maxIdx,1.], secondSliceY, secondSliceX )\n",
    "        p,_ = fit_flexi_gaussian([thisWlSolution[maxIdx],.2, 2.8, np.max(secondSliceY), 0], secondSliceY, secondSliceX )\n",
    "        \n",
    "#         print 'Found',p[0]\n",
    "        goodWlValue = p[0]\n",
    "        \n",
    "#         lineLocations[thisFibre,i] = goodWlValue\n",
    "        lineLocations[i] = goodWlValue\n",
    "\n",
    "#         adjLineList[i,0] = goodPxValue\n",
    "        \n",
    "#         x_dense = np.linspace(np.min(secondSliceX),np.max(secondSliceX))\n",
    "#         plt.plot(secondSliceX,secondSliceY)\n",
    "#         plt.plot(x_dense,flexi_gaussian(x_dense,p[0],p[1],p[2],p[3],p[4]))\n",
    "# # #         plt.title(goodPxValue)\n",
    "#         plt.show()\n",
    "\n",
    "# #     print adjLineList\n",
    "    \n",
    "#     a = np.polyfit(adjLineList[:,0], adjLineList[:,1], 5)\n",
    "#     x = fithOrder(a, np.arange(4095))\n",
    "#     err = fithOrder(a, adjLineList[:,0]) - adjLineList[:,1]\n",
    "\n",
    "#     wlPolys.append(a)\n",
    "#     wlErrors.append(err)\n",
    "#     wlSolutions.append(x)\n",
    "    \n",
    "# wlPolys = np.array(wlPolys)\n",
    "# wlErrors = np.array(wlErrors)\n",
    "# wlSolutions = np.array(wlSolutions)\n",
    "# #         plt.plot(x_dense,gaussian(x_dense,p[0],p[1]))\n",
    "# #         plt.plot(firstSliceX,firstSliceY/np.max(firstSliceY))\n",
    "# #         plt.title(maxIdx)\n",
    "# # #         plt.plot(masterArc[thisLineWl[0]-5:thisLineWl[0]+5])\n",
    "# #         plt.show()\n"
   ]
  },
  {
   "cell_type": "code",
   "execution_count": null,
   "metadata": {
    "collapsed": false
   },
   "outputs": [],
   "source": [
    "# means = np.mean(lineLocations,axis=0)\n",
    "# offsets = lineLocations - np.tile(bigLineList[:,1],[388,1])\n",
    "offsets = lineLocations - bigLineList\n",
    "\n",
    "lineLocations.shape, offsets.shape"
   ]
  },
  {
   "cell_type": "code",
   "execution_count": null,
   "metadata": {
    "collapsed": false
   },
   "outputs": [],
   "source": [
    "plt.plot(bigLineList,offsets.transpose(),'.')\n",
    "# plt.plot(np.arange(bigLineList[:,1].shape[0])[filter_all],offsets.transpose()[filter_all],'.')\n",
    "# plt.plot(bigLineList[:,1],offsets.transpose(),'.')\n",
    "# plt.plot(offsets.transpose(),'.')\n",
    "# plt.plot(bigLineList[:,1],std, color ='r')\n",
    "plt.grid()\n",
    "plt.show()"
   ]
  },
  {
   "cell_type": "code",
   "execution_count": null,
   "metadata": {
    "collapsed": false
   },
   "outputs": [],
   "source": [
    "np"
   ]
  },
  {
   "cell_type": "code",
   "execution_count": null,
   "metadata": {
    "collapsed": false
   },
   "outputs": [],
   "source": [
    "std = np.nanstd(offsets, axis =0)"
   ]
  },
  {
   "cell_type": "code",
   "execution_count": null,
   "metadata": {
    "collapsed": false
   },
   "outputs": [],
   "source": [
    "plt.plot(std,'.')\n",
    "plt.show()"
   ]
  },
  {
   "cell_type": "code",
   "execution_count": null,
   "metadata": {
    "collapsed": false
   },
   "outputs": [],
   "source": [
    "filter1 = np.abs(np.nanmedian(offsets,axis=0))<0.06\n",
    "np.sum(filter1)"
   ]
  },
  {
   "cell_type": "code",
   "execution_count": null,
   "metadata": {
    "collapsed": false
   },
   "outputs": [],
   "source": [
    "np.sum(np.abs(offsets)<0.6,axis=0)"
   ]
  },
  {
   "cell_type": "code",
   "execution_count": null,
   "metadata": {
    "collapsed": false
   },
   "outputs": [],
   "source": [
    "offsets[np.abs(offsets)>0.6]=np.nan"
   ]
  },
  {
   "cell_type": "code",
   "execution_count": null,
   "metadata": {
    "collapsed": false
   },
   "outputs": [],
   "source": [
    "filter2 = std<.12"
   ]
  },
  {
   "cell_type": "code",
   "execution_count": null,
   "metadata": {
    "collapsed": false
   },
   "outputs": [],
   "source": [
    "filter_all = filter1 & filter2 &filter3"
   ]
  },
  {
   "cell_type": "code",
   "execution_count": null,
   "metadata": {
    "collapsed": false
   },
   "outputs": [],
   "source": [
    "filter1"
   ]
  },
  {
   "cell_type": "code",
   "execution_count": null,
   "metadata": {
    "collapsed": false
   },
   "outputs": [],
   "source": [
    "bad = np.array([19 ,29, 46, 51, 55, 59, 69, 74, 75, 79, 85])"
   ]
  },
  {
   "cell_type": "code",
   "execution_count": null,
   "metadata": {
    "collapsed": false
   },
   "outputs": [],
   "source": [
    "filter3 = np.ones(filter1.shape).astype(bool)\n",
    "filter3[bad] = False"
   ]
  },
  {
   "cell_type": "code",
   "execution_count": null,
   "metadata": {
    "collapsed": false
   },
   "outputs": [],
   "source": [
    "np.savetxt('reducedbigLineList.txt',bigLineList[:,1][filter_all])"
   ]
  },
  {
   "cell_type": "code",
   "execution_count": null,
   "metadata": {
    "collapsed": false
   },
   "outputs": [],
   "source": [
    "reducedbigLineList = bigLineList[:,1][filter_all]"
   ]
  },
  {
   "cell_type": "code",
   "execution_count": null,
   "metadata": {
    "collapsed": false
   },
   "outputs": [],
   "source": [
    "reducedbigLineList"
   ]
  },
  {
   "cell_type": "code",
   "execution_count": null,
   "metadata": {
    "collapsed": false
   },
   "outputs": [],
   "source": [
    "plt.plot(wlSolutions[170], extracted_obj[170])\n",
    "plt.show()\n"
   ]
  },
  {
   "cell_type": "code",
   "execution_count": null,
   "metadata": {
    "collapsed": false
   },
   "outputs": [],
   "source": [
    "# np.savetxt('HD1581_1.txt',np.vstack((wlSolutions[170], extracted_obj[170])).transpose())\n",
    "# np.savetxt('ThXe_1.txt',np.vstack((wlSolutions[170], extracted_arc[170])).transpose())"
   ]
  },
  {
   "cell_type": "code",
   "execution_count": null,
   "metadata": {
    "collapsed": false
   },
   "outputs": [],
   "source": [
    "# np.savetxt('HD1581_0.txt',np.vstack((wlSolutions[170], extracted_obj[170])).transpose())\n",
    "np.savetxt('ThXe_0.txt',np.vstack((wlSolutions[170], extracted_arc[170])).transpose())"
   ]
  },
  {
   "cell_type": "code",
   "execution_count": null,
   "metadata": {
    "collapsed": false
   },
   "outputs": [],
   "source": [
    "np.savetxt('HD1581_2.txt',np.vstack((wlSolutions[170], extracted_obj[170])).transpose())\n",
    "np.savetxt('ThXe_2.txt',np.vstack((wlSolutions[170], extracted_arc[170])).transpose())"
   ]
  },
  {
   "cell_type": "code",
   "execution_count": null,
   "metadata": {
    "collapsed": false
   },
   "outputs": [],
   "source": [
    "np.savetxt('HD1581_3.txt',np.vstack((wlSolutions[170], extracted_obj[170])).transpose())\n",
    "np.savetxt('ThXe_3.txt',np.vstack((wlSolutions[170], extracted_arc[170])).transpose())"
   ]
  },
  {
   "cell_type": "code",
   "execution_count": null,
   "metadata": {
    "collapsed": false
   },
   "outputs": [],
   "source": []
  }
 ],
 "metadata": {
  "kernelspec": {
   "display_name": "Python 2",
   "language": "python",
   "name": "python2"
  },
  "language_info": {
   "codemirror_mode": {
    "name": "ipython",
    "version": 2
   },
   "file_extension": ".py",
   "mimetype": "text/x-python",
   "name": "python",
   "nbconvert_exporter": "python",
   "pygments_lexer": "ipython2",
   "version": "2.7.3"
  }
 },
 "nbformat": 4,
 "nbformat_minor": 0
}
