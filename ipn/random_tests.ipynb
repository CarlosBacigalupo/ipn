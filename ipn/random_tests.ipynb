{
 "metadata": {
  "name": "",
  "signature": "sha256:8d51b357f2b834f0933c19949c3b34fed84c1b8559170bb12cf1bf16acbfc043"
 },
 "nbformat": 3,
 "nbformat_minor": 0,
 "worksheets": [
  {
   "cells": [
    {
     "cell_type": "code",
     "collapsed": false,
     "input": [
      "def extract_HERMES_wavelength(header):\n",
      "    \n",
      "    CRVAL1 = header['CRVAL1'] # / Co-ordinate value of axis 1                    \n",
      "    CDELT1 = header['CDELT1'] #  / Co-ordinate increment along axis 1             \n",
      "    CRPIX1 = header['CRPIX1'] #  / Reference pixel along axis 1                   \n",
      "    \n",
      "    print CRVAL1,CDELT1, CRPIX1\n",
      "    \n",
      "    #Creates an array of offset wavelength from the referece px/wavelength\n",
      "    Lambda = CRVAL1 - (CRPIX1 - (np.arange(int(CRPIX1)*2)) -1)* CDELT1\n",
      "\n",
      "    return Lambda\n"
     ],
     "language": "python",
     "metadata": {},
     "outputs": [],
     "prompt_number": 1
    },
    {
     "cell_type": "code",
     "collapsed": false,
     "input": [
      "import pylab as plt\n",
      "import pyfits as pf"
     ],
     "language": "python",
     "metadata": {},
     "outputs": [],
     "prompt_number": 2
    },
    {
     "cell_type": "code",
     "collapsed": false,
     "input": [
      "a = pf.open('25aug10035.ms.fits')"
     ],
     "language": "python",
     "metadata": {},
     "outputs": [],
     "prompt_number": 7
    },
    {
     "cell_type": "code",
     "collapsed": false,
     "input": [
      "CRVAL1 = 4714.9999999\n",
      "CDELTA1 = .045177\n",
      "CRPIX1 = 1.\n",
      "data_len = 4096"
     ],
     "language": "python",
     "metadata": {},
     "outputs": [],
     "prompt_number": 36
    },
    {
     "cell_type": "code",
     "collapsed": false,
     "input": [
      "wl = np.arange(data_len)*CDELTA1+CRVAL1"
     ],
     "language": "python",
     "metadata": {},
     "outputs": [],
     "prompt_number": 40
    },
    {
     "cell_type": "code",
     "collapsed": false,
     "input": [
      "wl"
     ],
     "language": "python",
     "metadata": {},
     "outputs": [
      {
       "metadata": {},
       "output_type": "pyout",
       "prompt_number": 41,
       "text": [
        "array([ 4714.9999999,  4715.0451769,  4715.0903539, ...,  4899.9094609,\n",
        "        4899.9546379,  4899.9998149])"
       ]
      }
     ],
     "prompt_number": 41
    },
    {
     "cell_type": "code",
     "collapsed": false,
     "input": [
      "myfile = pf.open('21aug10036red.fits')"
     ],
     "language": "python",
     "metadata": {},
     "outputs": [],
     "prompt_number": 27
    },
    {
     "cell_type": "code",
     "collapsed": false,
     "input": [
      "extract_HERMES_wavelength(myfile[0].header)"
     ],
     "language": "python",
     "metadata": {},
     "outputs": [
      {
       "output_type": "stream",
       "stream": "stdout",
       "text": [
        "4812.19970703 0.0453204889728 2048.0\n"
       ]
      },
      {
       "metadata": {},
       "output_type": "pyout",
       "prompt_number": 30,
       "text": [
        "array([ 4719.4286661 ,  4719.47398659,  4719.51930708, ...,  4904.92542747,\n",
        "        4904.97074796,  4905.01606845])"
       ]
      }
     ],
     "prompt_number": 30
    },
    {
     "cell_type": "code",
     "collapsed": false,
     "input": [
      "flux1 = myfile[0].data[5]\n",
      "flux2 = myfile[0].data[20]"
     ],
     "language": "python",
     "metadata": {},
     "outputs": [],
     "prompt_number": 70
    },
    {
     "cell_type": "code",
     "collapsed": false,
     "input": [
      "plt.plot(flux1)\n",
      "plt.plot(flux2)\n",
      "    \n",
      "plt.show()\n",
      "\n",
      "    "
     ],
     "language": "python",
     "metadata": {},
     "outputs": [],
     "prompt_number": 72
    },
    {
     "cell_type": "code",
     "collapsed": false,
     "input": [
      "plt.plot(np.correlate(flux1, flux2, 'same'))\n",
      "plt.show()"
     ],
     "language": "python",
     "metadata": {},
     "outputs": [],
     "prompt_number": 75
    },
    {
     "cell_type": "code",
     "collapsed": false,
     "input": [
      "import pickle\n",
      "import toolbox"
     ],
     "language": "python",
     "metadata": {},
     "outputs": [],
     "prompt_number": 4
    },
    {
     "cell_type": "code",
     "collapsed": false,
     "input": [
      "cd /Users/Carlos/Documents/HERMES/reductions/6.5/rhoTuc/obj/"
     ],
     "language": "python",
     "metadata": {},
     "outputs": [
      {
       "output_type": "stream",
       "stream": "stdout",
       "text": [
        "/Users/Carlos/Documents/HERMES/reductions/6.5/rhoTuc/obj\n"
       ]
      }
     ],
     "prompt_number": 6
    },
    {
     "cell_type": "code",
     "collapsed": false,
     "input": [
      "thisCam = thisStar.exposures.cameras[3]"
     ],
     "language": "python",
     "metadata": {},
     "outputs": [],
     "prompt_number": 27
    },
    {
     "cell_type": "code",
     "collapsed": false,
     "input": [
      "thisCam.RVs"
     ],
     "language": "python",
     "metadata": {},
     "outputs": [
      {
       "metadata": {},
       "output_type": "pyout",
       "prompt_number": 28,
       "text": [
        "array([0, 0, 0, 0, 0, 0, 0, 0, 0, 0, 0, 0, 0, 0, 0, 0, 0, 0, 0, 0, 0, 0, 0,\n",
        "       0])"
       ]
      }
     ],
     "prompt_number": 28
    },
    {
     "cell_type": "code",
     "collapsed": false,
     "input": [
      "import numpy as np\n",
      "import pickle\n",
      "import pylab as plt\n",
      "from scipy import interpolate, signal, optimize, constants\n",
      "import pyfits as pf\n",
      "import sys\n",
      "import RVTools as RVT\n",
      "reload(RVT)\n",
      "import time\n",
      "\n",
      "# filename = 'HD1581.obj'\n",
      "# filename = 'Brght01.obj'\n",
      "# filename = 'red_Giant01.obj'\n",
      "# filename = 'Giant01.obj'\n",
      "filename = 'red_Giant12.obj'\n",
      "# filename = 'Field01.obj'\n",
      "filehandler = open(filename, 'r')\n",
      "thisStar = pickle.load(filehandler)\n",
      "\n",
      "thisCam = thisStar.exposures.cameras[0]\n",
      "\n"
     ],
     "language": "python",
     "metadata": {},
     "outputs": [],
     "prompt_number": 19
    },
    {
     "cell_type": "code",
     "collapsed": false,
     "input": [
      "import numpy as np\n",
      "import pickle\n",
      "import pylab as plt\n",
      "from scipy import interpolate, signal, optimize, constants\n",
      "import pyfits as pf\n",
      "import sys\n",
      "import RVTools as RVT\n",
      "reload(RVT)\n",
      "import time\n",
      "\n",
      "# filename = 'HD1581.obj'\n",
      "# filename = 'Brght01.obj'\n",
      "# filename = 'red_Giant01.obj'\n",
      "# filename = 'Giant01.obj'\n",
      "filename = 'Giant12.obj'\n",
      "# filename = 'Field01.obj'\n",
      "filehandler = open(filename, 'r')\n",
      "thisStar = pickle.load(filehandler)\n",
      "\n",
      "thisCam = thisStar.exposures.cameras[0]\n",
      "\n",
      "CCReferenceSet=0\n",
      "CCTHisSet = 2\n",
      "corrHWidth = 3\n",
      "for CCTHisSet in range(15):\n",
      "    # lambda1, flux1 = thisCam.wavelengths[CCReferenceSet], thisCam.red_fluxes[CCReferenceSet]\n",
      "    # plt.plot(lambda1,flux1)\n",
      "    # lambda2, flux2 = thisCam.wavelengths[CCTHisSet], thisCam.red_fluxes[CCTHisSet]\n",
      "    # plt.plot(lambda2,flux2)\n",
      "    # plt.show()\n",
      "\n",
      "    lambda1, flux1 = RVT.clean_flux(thisCam.wavelengths[CCReferenceSet], thisCam.red_fluxes[CCReferenceSet], thisCam, medianRange = 5)\n",
      "    plt.plot(thisCam.red_fluxes[CCTHisSet])\n",
      "#     plt.plot(lambda1,flux1)\n",
      "    lambda2, flux2 = RVT.clean_flux(thisCam.wavelengths[CCTHisSet], thisCam.red_fluxes[CCTHisSet], thisCam, medianRange = 5)\n",
      "#     plt.plot(lambda2,flux2)\n",
      "    plt.show()\n",
      "\n",
      "    CCCurve = signal.fftconvolve(flux1, flux2[::-1], mode='same')\n",
      "#     CCCurve2 = signal.fftconvolve(flux1[-np.isnan(flux1)], flux2[-np.isnan(flux2)][::-1], mode='same')\n",
      "    # print np.sum(-np.isnan(flux1)), len(flux1)\n",
      "    corrMax = np.where(CCCurve==max(CCCurve))[0][0]\n",
      "\n",
      "    p_guess = [corrMax,corrHWidth]\n",
      "    x_mask = np.arange(corrMax-corrHWidth, corrMax+corrHWidth+1)\n",
      "    p = RVT.fit_gaussian(p_guess, CCCurve[x_mask], np.arange(len(CCCurve))[x_mask])[0]\n",
      "\n",
      "#     plt.plot(lambda1,CCCurve/np.max(CCCurve))\n",
      "    # plt.plot(CCCurve2)\n",
      "    # plt.plot(lambda2[x_mask],max(CCCurve)* gaussian(x_mask, p[0],p[1]))\n",
      "    plt.show()\n",
      "\n",
      "    if np.modf(CCCurve.shape[0]/2.0)[0]>1e-5:\n",
      "        pixelShift = (p[0]-(CCCurve.shape[0]-1)/2.) #odd number of elements\n",
      "    else:\n",
      "        pixelShift = (p[0]-(CCCurve.shape[0])/2.) #even number of elements\n",
      "\n",
      "\n",
      "    # # thisQ, thisdRV = QdRV(thisCam.wavelengths[i], thisCam.red_fluxes[i])\n",
      "\n",
      "    mid_px = thisCam.wavelengths.shape[1]/2\n",
      "    dWl = (thisCam.wavelengths[CCReferenceSet,mid_px+1]-thisCam.wavelengths[CCReferenceSet,mid_px]) / thisCam.wavelengths[CCReferenceSet,mid_px]\n",
      "    RV = dWl * pixelShift * constants.c \n",
      "    print CCTHisSet,'RV',RV,\n",
      "    print\n",
      "\n",
      "    # #                 SNR = np.median(thisCam.red_fluxes[i])/np.std(thisCam.red_fluxes[i])\n"
     ],
     "language": "python",
     "metadata": {},
     "outputs": [
      {
       "ename": "IndexError",
       "evalue": "index out of bounds",
       "output_type": "pyerr",
       "traceback": [
        "\u001b[0;31m---------------------------------------------------------------------------\u001b[0m\n\u001b[0;31mIndexError\u001b[0m                                Traceback (most recent call last)",
        "\u001b[0;32m<ipython-input-10-612368873de2>\u001b[0m in \u001b[0;36m<module>\u001b[0;34m()\u001b[0m\n\u001b[1;32m     40\u001b[0m \u001b[0;31m#     CCCurve2 = signal.fftconvolve(flux1[-np.isnan(flux1)], flux2[-np.isnan(flux2)][::-1], mode='same')\u001b[0m\u001b[0;34m\u001b[0m\u001b[0;34m\u001b[0m\u001b[0m\n\u001b[1;32m     41\u001b[0m     \u001b[0;31m# print np.sum(-np.isnan(flux1)), len(flux1)\u001b[0m\u001b[0;34m\u001b[0m\u001b[0;34m\u001b[0m\u001b[0m\n\u001b[0;32m---> 42\u001b[0;31m     \u001b[0mcorrMax\u001b[0m \u001b[0;34m=\u001b[0m \u001b[0mnp\u001b[0m\u001b[0;34m.\u001b[0m\u001b[0mwhere\u001b[0m\u001b[0;34m(\u001b[0m\u001b[0mCCCurve\u001b[0m\u001b[0;34m==\u001b[0m\u001b[0mmax\u001b[0m\u001b[0;34m(\u001b[0m\u001b[0mCCCurve\u001b[0m\u001b[0;34m)\u001b[0m\u001b[0;34m)\u001b[0m\u001b[0;34m[\u001b[0m\u001b[0;36m0\u001b[0m\u001b[0;34m]\u001b[0m\u001b[0;34m[\u001b[0m\u001b[0;36m0\u001b[0m\u001b[0;34m]\u001b[0m\u001b[0;34m\u001b[0m\u001b[0m\n\u001b[0m\u001b[1;32m     43\u001b[0m \u001b[0;34m\u001b[0m\u001b[0m\n\u001b[1;32m     44\u001b[0m     \u001b[0mp_guess\u001b[0m \u001b[0;34m=\u001b[0m \u001b[0;34m[\u001b[0m\u001b[0mcorrMax\u001b[0m\u001b[0;34m,\u001b[0m\u001b[0mcorrHWidth\u001b[0m\u001b[0;34m]\u001b[0m\u001b[0;34m\u001b[0m\u001b[0m\n",
        "\u001b[0;31mIndexError\u001b[0m: index out of bounds"
       ]
      }
     ],
     "prompt_number": 10
    },
    {
     "cell_type": "code",
     "collapsed": false,
     "input": [],
     "language": "python",
     "metadata": {},
     "outputs": [],
     "prompt_number": 245
    },
    {
     "cell_type": "code",
     "collapsed": false,
     "input": [
      "import pickle\n",
      "filename = 'HD1581.obj'\n",
      "# filename = 'Brght01.obj'\n",
      "# filename = 'red_Giant01.obj'\n",
      "# filename = 'Giant01.obj'\n",
      "# filename = 'Field01.obj'\n",
      "filehandler = open(filename, 'r')\n",
      "thisStar = pickle.load(filehandler)\n",
      "\n",
      "thisCam = thisStar.exposures.cameras[0]\n",
      "CCReferenceSet=3\n",
      "lambda1, flux1 = thisCam.wavelengths[CCReferenceSet], thisCam.red_fluxes[CCReferenceSet]\n",
      "plt.plot(lambda1,flux1)\n",
      "\n",
      "lambda2, flux2, fluxMed = clean_flux(thisCam.wavelengths[CCReferenceSet], thisCam.red_fluxes[CCReferenceSet], thisCam, medianRange = 5)\n",
      "plt.plot(lambda2,flux2)\n",
      "plt.plot(lambda2,fluxMed)\n",
      "plt.show()\n"
     ],
     "language": "python",
     "metadata": {},
     "outputs": [],
     "prompt_number": 291
    },
    {
     "cell_type": "code",
     "collapsed": false,
     "input": [
      "def clean_flux(wavelength, flux, thisCam, xDef = 1, medianRange = 0):\n",
      "    '''Clean a 1D spectrum. \n",
      "    \n",
      "    Parameters\n",
      "    ----\n",
      "    xDef : int or None, optional\n",
      "        Coeficient to resample. Final array will be flux.shape[0]*xDef long. \n",
      "        \n",
      "    medianRange : int, optional\n",
      "        Number of pixels to median over. 0 will skip this step. Optional.\n",
      "\n",
      "    '''\n",
      "\n",
      "    #median outliers\n",
      "    if medianRange>0:\n",
      "        fluxMed = signal.medfilt(flux,medianRange)\n",
      "        fluxDiff = abs(flux-fluxMed)\n",
      "        fluxDiffStd = np.std(fluxDiff)\n",
      "        mask = fluxDiff> 2 * fluxDiffStd\n",
      "        flux[mask] = fluxMed[mask]\n",
      "\n",
      "\n",
      "    if ((wavelength[-np.isnan(flux)].shape[0]>0) &  (flux[-np.isnan(flux)].shape[0]>0)):\n",
      "        \n",
      "        #flatten curve by fitting a 3rd order poly\n",
      "        fFlux = optimize.curve_fit(cubic, wavelength[-np.isnan(flux)], flux[-np.isnan(flux)], p0 = [1,1,1,1])\n",
      "        fittedCurve = cubic(wavelength, fFlux[0][0], fFlux[0][1], fFlux[0][2], fFlux[0][3])\n",
      "        flux = flux/fittedCurve-1\n",
      "        \n",
      "        #apply tukey\n",
      "        flux = flux * tukey(0.1, len(flux))\n",
      "\n",
      "        #resample\n",
      "        if (xDef>1):\n",
      "            fFlux = interpolate.interp1d(wavelength, flux) \n",
      "            wavelength = np.linspace(min(wavelength), max(wavelength),len(wavelength)*xDef)\n",
      "            flux = fFlux(wavelength)\n",
      "\n",
      "    else: #if not enough data return NaNs\n",
      "        if (xDef>1):\n",
      "            wavelength = np.linspace(min(wavelength), max(wavelength),len(wavelength)*xDef)\n",
      "            flux = np.ones(wavelength.shape[0])*np.nan\n",
      "        \n",
      "    return wavelength, flux, fluxMed\n",
      "\n"
     ],
     "language": "python",
     "metadata": {},
     "outputs": [],
     "prompt_number": 270
    },
    {
     "cell_type": "code",
     "collapsed": false,
     "input": [
      "def cubic(x,a,b,c,d):\n",
      "    '''\n",
      "    Cubic function\n",
      "    '''\n",
      "    return a*x**3+b*x**2+c*x+d"
     ],
     "language": "python",
     "metadata": {},
     "outputs": [],
     "prompt_number": 139
    },
    {
     "cell_type": "code",
     "collapsed": false,
     "input": [
      "def tukey(alpha, N):\n",
      "    '''Creates a tukey function\n",
      "    \n",
      "    \n",
      "    Parameters\n",
      "    ----\n",
      "    alpha : float\n",
      "        Fraction of the pixels to fade in/out.\n",
      "        i.e. alpha=0.1 will use 10% of the pixels to go from 0 to 1. \n",
      "        \n",
      "    N : int\n",
      "        Totla number of pixels in the array.\n",
      "        \n",
      "        \n",
      "    Returns\n",
      "    ------\n",
      "\n",
      "    N-length array of floats from 0 to 1. \n",
      "    '''\n",
      "\n",
      "    \n",
      "    tukey = np.zeros(N)\n",
      "    for i in range(int(alpha*(N-1)/2)):\n",
      "        tukey[i] = 0.5*(1+np.cos(np.pi*(2*i/alpha/(N-1)-1)))\n",
      "    for i in range(int(alpha*(N-1)/2),int((N-1)*(1-alpha/2))):\n",
      "        tukey[i] = 1\n",
      "    for i in range(int((N-1)*(1-alpha/2)),int((N-1))):\n",
      "        tukey[i] = 0.5*(1+np.cos(np.pi*(2*i/alpha/(N-1)-2/alpha+1)))\n",
      "    \n",
      "    return tukey\n"
     ],
     "language": "python",
     "metadata": {},
     "outputs": [],
     "prompt_number": 96
    },
    {
     "cell_type": "code",
     "collapsed": false,
     "input": [
      "for i in thisCam.red_fluxes:\n",
      "    plt.plot(i)\n",
      "plt.show()\n",
      "# plt.plot(thisCam.RVs)\n",
      "# plt.show()"
     ],
     "language": "python",
     "metadata": {},
     "outputs": [],
     "prompt_number": 66
    },
    {
     "cell_type": "code",
     "collapsed": false,
     "input": [
      "for flux,mj in zip(thisCam.red_fluxes,thisStar.exposures.JDs):\n",
      "    plt.plot(flux+mj)\n",
      "plt.show()\n",
      "# plt.plot(thisCam.RVs)\n",
      "# plt.show()"
     ],
     "language": "python",
     "metadata": {},
     "outputs": [],
     "prompt_number": 48
    },
    {
     "cell_type": "code",
     "collapsed": false,
     "input": [
      "np.sum(thisCam.red_fluxes, axis=1)"
     ],
     "language": "python",
     "metadata": {},
     "outputs": [
      {
       "metadata": {},
       "output_type": "pyout",
       "prompt_number": 57,
       "text": [
        "array([ 4020.99740117,  4111.85356606,  4144.92834675,  3553.78684075,\n",
        "        3964.20691175,  4019.00406123,  4058.13665302,     0.        ,\n",
        "           0.        ,     0.        ,     0.        ,     0.        ,\n",
        "        4085.22818362,  4106.16669832,  4061.79800096])"
       ]
      }
     ],
     "prompt_number": 57
    },
    {
     "cell_type": "code",
     "collapsed": false,
     "input": [
      "print thisStar.exposures.JDs"
     ],
     "language": "python",
     "metadata": {},
     "outputs": [
      {
       "output_type": "stream",
       "stream": "stdout",
       "text": [
        "[ 56889.811  56890.804  56890.807  56890.809  56891.707  56891.709\n",
        "  56891.711  56893.765  56893.767  56893.768  56893.769  56893.771\n",
        "  56894.743  56894.745  56894.746]\n"
       ]
      }
     ],
     "prompt_number": 49
    },
    {
     "cell_type": "code",
     "collapsed": false,
     "input": [
      "ls"
     ],
     "language": "python",
     "metadata": {},
     "outputs": [
      {
       "output_type": "stream",
       "stream": "stdout",
       "text": [
        "20aug10053.fits  21aug10042.fits  22aug10036.fits  22aug10038.fits  25aug10045.fits\r\n",
        "21aug10041.fits  21aug10043.fits  22aug10037.fits  25aug10044.fits  25aug10046.fits\r\n"
       ]
      }
     ],
     "prompt_number": 60
    },
    {
     "cell_type": "code",
     "collapsed": false,
     "input": [
      "i=0\n",
      "for x,y,label in zip(thisCam.wavelengths, thisCam.red_fluxes, thisCam.fileNames):\n",
      "    plt.plot(x,y+i, label= label, c='k')\n",
      "    i+=300\n",
      "plt.title(thisStar.name)\n",
      "# plt.legend(loc = 0)\n",
      "plt.show()"
     ],
     "language": "python",
     "metadata": {},
     "outputs": [],
     "prompt_number": 55
    },
    {
     "cell_type": "code",
     "collapsed": false,
     "input": [
      "for i in a.sigmas[:]:\n",
      "    plt.plot(i)\n",
      "plt.show()"
     ],
     "language": "python",
     "metadata": {},
     "outputs": [],
     "prompt_number": 26
    },
    {
     "cell_type": "code",
     "collapsed": false,
     "input": [
      "#Fit gaussian in CCCurves\n",
      "def gaussian(x, mu, sig, ):\n",
      "    return np.exp(-np.power(x - mu, 2.) / 2 / np.power(sig, 2.))\n",
      "\n",
      "def fit_gaussian(p, flux, x_range):\n",
      "    a = optimize.leastsq(diff_gausian, p, args= [flux, x_range])\n",
      "    return a\n",
      "\n",
      "def diff_gausian(p, args):\n",
      "    \n",
      "    flux = args[0]\n",
      "    x_range = args[1]\n",
      "    diff = gaussian(x_range, p[0],p[1]) - flux/np.max(flux)\n",
      "    return diff\n",
      "\n",
      "def get_wavelength(wavelengths, pixel):\n",
      "    intPx = int(pixel)\n",
      "    fracPx = pixel - int(pixel)\n",
      "\n",
      "    return (wavelengths[intPx+1] - wavelengths[intPx])*fracPx + wavelengths[intPx]\n",
      "\n",
      "def extract_HERMES_wavelength(fileName):\n",
      "\n",
      "\ta = pf.open(fileName)\n",
      "\n",
      "\tCRVAL1 = a[0].header['CRVAL1'] # / Co-ordinate value of axis 1                    \n",
      "\tCDELT1 = a[0].header['CDELT1'] #  / Co-ordinate increment along axis 1             \n",
      "\tCRPIX1 = a[0].header['CRPIX1'] #  / Reference pixel along axis 1                   \n",
      "\t\n",
      "\t#Creates an array of offset wavelength from the referece px/wavelength\n",
      "\tLambda = CRVAL1 - (CRPIX1 - (np.arange(int(CRPIX1)*2)) -1)* CDELT1\n",
      "\n",
      "\treturn Lambda\n"
     ],
     "language": "python",
     "metadata": {},
     "outputs": [],
     "prompt_number": 1
    },
    {
     "cell_type": "code",
     "collapsed": false,
     "input": [
      "np.sum(thisCam.wavelengths,1)\n",
      "np.sum(np.isnan(thisCam.wavelengths))"
     ],
     "language": "python",
     "metadata": {},
     "outputs": [
      {
       "metadata": {},
       "output_type": "pyout",
       "prompt_number": 69,
       "text": [
        "0"
       ]
      }
     ],
     "prompt_number": 69
    },
    {
     "cell_type": "code",
     "collapsed": false,
     "input": [
      "mid_px = thisCam.wavelengths.shape[1]/2\n",
      "dWl = (thisCam.wavelengths[0,mid_px+1]-thisCam.wavelengths[0,mid_px]) / thisCam.wavelengths[0,mid_px]\n",
      "RV = dWl * 0.5 * 3e8\n",
      "print 'RV',RV, mid_px, thisCam.wavelengths[0,mid_px+1], thisCam.wavelengths[0,mid_px]\n"
     ],
     "language": "python",
     "metadata": {},
     "outputs": [
      {
       "output_type": "stream",
       "stream": "stdout",
       "text": [
        "RV nan 2048 0.0 0.0\n"
       ]
      }
     ],
     "prompt_number": 75
    },
    {
     "cell_type": "code",
     "collapsed": false,
     "input": [
      "def clean_flux(wavelength, flux, thisCam, xDef = 1, medianRange = 0):\n",
      "    '''Clean a 1D spectrum. \n",
      "    \n",
      "    Parameters\n",
      "    ----\n",
      "    xDef : int or None, optional\n",
      "        Coeficient to resample. Final array will be flux.shape[0]*xDef long. \n",
      "        \n",
      "    medianRange : int, optional\n",
      "        Number of pixels to median over. 0 will skip this step. Optional.\n",
      "\n",
      "    '''\n",
      "        \n",
      "    #median outliers\n",
      "    if medianRange>0:\n",
      "        fluxMed = signal.medfilt(flux,medianRange)\n",
      "        w = np.where(abs((flux-fluxMed)/np.maximum(fluxMed,50)) > 0.4)\n",
      "        for ix in w[0]:\n",
      "            flux[ix] = fluxMed[ix]\n",
      "            \n",
      "    print 'flux out has',np.sum(np.isnan(flux))\n",
      "\n",
      "    if ((wavelength[-np.isnan(flux)].shape[0]>0) &  (flux[-np.isnan(flux)].shape[0]>0)):\n",
      "        \n",
      "        #flatten curve by fitting a 3rd order poly\n",
      "        fFlux = optimize.curve_fit(cubic, wavelength[-np.isnan(flux)], flux[-np.isnan(flux)], p0 = [1,1,1,1])\n",
      "        fittedCurve = cubic(wavelength, fFlux[0][0], fFlux[0][1], fFlux[0][2], fFlux[0][3])\n",
      "        flux = flux/fittedCurve-1\n",
      "\n",
      "        #apply tukey\n",
      "        flux = flux * tukey(0.1, len(flux))\n",
      "\n",
      "        #resample\n",
      "        if (xDef>1):\n",
      "            fFlux = interpolate.interp1d(wavelength, flux) \n",
      "            wavelength = np.linspace(min(wavelength), max(wavelength),len(wavelength)*xDef)\n",
      "            flux = fFlux(wavelength)\n",
      "\n",
      "    else: #if not enough data return NaNs\n",
      "        if (xDef>1):\n",
      "            wavelength = np.linspace(min(wavelength), max(wavelength),len(wavelength)*xDef)\n",
      "            flux = np.ones(wavelength.shape[0])*np.nan\n",
      "    \n",
      "    return wavelength, flux\n"
     ],
     "language": "python",
     "metadata": {},
     "outputs": [],
     "prompt_number": 50
    },
    {
     "cell_type": "code",
     "collapsed": false,
     "input": [
      "def cubic(x,a,b,c,d):\n",
      "    '''\n",
      "    Cubic function\n",
      "    '''\n",
      "    return a*x**3+b*x**2+c*x+d"
     ],
     "language": "python",
     "metadata": {},
     "outputs": [],
     "prompt_number": 4
    },
    {
     "cell_type": "code",
     "collapsed": false,
     "input": [
      "def tukey(alpha, N):\n",
      "    '''Creates a tukey function\n",
      "    \n",
      "    \n",
      "    Parameters\n",
      "    ----\n",
      "    alpha : float\n",
      "        Fraction of the pixels to fade in/out.\n",
      "        i.e. alpha=0.1 will use 10% of the pixels to go from 0 to 1. \n",
      "        \n",
      "    N : int\n",
      "        Totla number of pixels in the array.\n",
      "        \n",
      "        \n",
      "    Returns\n",
      "    ------\n",
      "\n",
      "    N-length array of floats from 0 to 1. \n",
      "    '''\n",
      "\n",
      "    \n",
      "    tukey = np.zeros(N)\n",
      "    for i in range(int(alpha*(N-1)/2)):\n",
      "        tukey[i] = 0.5*(1+np.cos(np.pi*(2*i/alpha/(N-1)-1)))\n",
      "    for i in range(int(alpha*(N-1)/2),int((N-1)*(1-alpha/2))):\n",
      "        tukey[i] = 1\n",
      "    for i in range(int((N-1)*(1-alpha/2)),int((N-1))):\n",
      "        tukey[i] = 0.5*(1+np.cos(np.pi*(2*i/alpha/(N-1)-2/alpha+1)))\n",
      "    \n",
      "    return tukey\n"
     ],
     "language": "python",
     "metadata": {},
     "outputs": [],
     "prompt_number": 5
    },
    {
     "cell_type": "code",
     "collapsed": false,
     "input": [
      "a"
     ],
     "language": "python",
     "metadata": {},
     "outputs": [
      {
       "ename": "NameError",
       "evalue": "name 'a' is not defined",
       "output_type": "pyerr",
       "traceback": [
        "\u001b[0;31m---------------------------------------------------------------------------\u001b[0m\n\u001b[0;31mNameError\u001b[0m                                 Traceback (most recent call last)",
        "\u001b[0;32m<ipython-input-2-60b725f10c9c>\u001b[0m in \u001b[0;36m<module>\u001b[0;34m()\u001b[0m\n\u001b[0;32m----> 1\u001b[0;31m \u001b[0ma\u001b[0m\u001b[0;34m\u001b[0m\u001b[0m\n\u001b[0m",
        "\u001b[0;31mNameError\u001b[0m: name 'a' is not defined"
       ]
      }
     ],
     "prompt_number": 2
    },
    {
     "cell_type": "code",
     "collapsed": false,
     "input": [
      "thisStar.exposures.cameras[3].sigmas"
     ],
     "language": "python",
     "metadata": {},
     "outputs": [
      {
       "metadata": {},
       "output_type": "pyout",
       "prompt_number": 27,
       "text": [
        "array([ 2.37215918,  3.01207561,  5.15707718,  3.44408889,  2.62640225,\n",
        "        2.69855998,  2.68738208,  1.91724504,  2.33835822,  3.77023277,\n",
        "        3.83053724,  4.04833517,  0.        ,  0.        ,  0.        ])"
       ]
      }
     ],
     "prompt_number": 27
    },
    {
     "cell_type": "code",
     "collapsed": false,
     "input": [
      "\n",
      "print thisCam.fileNames.shape\n",
      "\n",
      "print thisCam.wavelengths.shape"
     ],
     "language": "python",
     "metadata": {},
     "outputs": [
      {
       "output_type": "stream",
       "stream": "stdout",
       "text": [
        "(15,)\n",
        "(15, 4096)\n"
       ]
      }
     ],
     "prompt_number": 66
    },
    {
     "cell_type": "code",
     "collapsed": false,
     "input": [
      "print thisCam.RVs\n",
      "plt.plot(thisCam.RVs,'.')\n",
      "plt.show()"
     ],
     "language": "python",
     "metadata": {},
     "outputs": [
      {
       "output_type": "stream",
       "stream": "stdout",
       "text": [
        "[  0.00000000e+00   7.97179612e-03   3.27081544e+01  -7.97272797e+00\n",
        "  -2.03126724e+02  -1.75864239e+02  -2.31865165e+02  -9.89727512e+02\n",
        "  -1.02150588e+03  -9.55549945e+02  -1.00753632e+03  -9.30364563e+02\n",
        "  -1.21113819e+03  -1.23748642e+03  -1.23991649e+03]\n"
       ]
      }
     ],
     "prompt_number": 20
    },
    {
     "cell_type": "code",
     "collapsed": false,
     "input": [
      "import pickle\n",
      "import pylab as plt\n",
      "import numpy as np"
     ],
     "language": "python",
     "metadata": {},
     "outputs": [],
     "prompt_number": 62
    },
    {
     "cell_type": "code",
     "collapsed": false,
     "input": [
      "cd ~/Documents/HERMES/reductions/47Tuc_core_6.2/"
     ],
     "language": "python",
     "metadata": {},
     "outputs": [
      {
       "output_type": "stream",
       "stream": "stdout",
       "text": [
        "/Users/Carlos/Documents/HERMES/reductions/47Tuc_core_6.2\n"
       ]
      }
     ],
     "prompt_number": 61
    },
    {
     "cell_type": "code",
     "collapsed": false,
     "input": [
      "print np.all([np.nansum(thisCam.red_fluxes,1).astype(bool) for thisCam in thisStar.exposures.cameras],0)\n"
     ],
     "language": "python",
     "metadata": {},
     "outputs": [
      {
       "output_type": "stream",
       "stream": "stdout",
       "text": [
        "[False False False False  True  True  True False False False  True  True\n",
        "  True False False False]\n"
       ]
      }
     ],
     "prompt_number": 76
    },
    {
     "cell_type": "code",
     "collapsed": false,
     "input": [
      "plt.plot(thisCam.red_fluxes[0])\n",
      "plt.show()"
     ],
     "language": "python",
     "metadata": {},
     "outputs": [],
     "prompt_number": 235
    },
    {
     "cell_type": "code",
     "collapsed": false,
     "input": [
      "print thisCam.SNRs\n",
      "print np.nansum(thisCam.red_fluxes,1)\n",
      "print thisCam.fileNames"
     ],
     "language": "python",
     "metadata": {},
     "outputs": [
      {
       "output_type": "stream",
       "stream": "stdout",
       "text": [
        "[ 357.64439829  282.15521687  161.39792452  244.43131544  317.82667741\n",
        "  310.4912061   312.11264743  424.02645849  344.74023282  210.44685066\n",
        "  205.68299429  194.9054809     0.            0.            0.        ]\n",
        "[  4.55187066e+08   2.81631516e+08   9.25882388e+07   2.11867813e+08\n",
        "   3.60509773e+08   3.43098691e+08   3.46584643e+08   6.58571607e+08\n",
        "   4.37689870e+08   1.64507269e+08   1.57501181e+08   1.41299043e+08\n",
        "   0.00000000e+00   0.00000000e+00   0.00000000e+00]\n",
        "['20aug40053red.fits' '21aug40041red.fits' '21aug40042red.fits'\n",
        " '21aug40043red.fits' '22aug40036red.fits' '22aug40037red.fits'\n",
        " '22aug40038red.fits' '24aug40058red.fits' '24aug40059red.fits'\n",
        " '24aug40060red.fits' '24aug40061red.fits' '24aug40062red.fits' '' '' '']\n"
       ]
      }
     ],
     "prompt_number": 240
    },
    {
     "cell_type": "code",
     "collapsed": false,
     "input": [
      "thisStar.exposures.JDs.shape[0]"
     ],
     "language": "python",
     "metadata": {},
     "outputs": [
      {
       "metadata": {},
       "output_type": "pyout",
       "prompt_number": 109,
       "text": [
        "16"
       ]
      }
     ],
     "prompt_number": 109
    },
    {
     "cell_type": "code",
     "collapsed": false,
     "input": [
      "thisStar.exposures.JDs.shape"
     ],
     "language": "python",
     "metadata": {},
     "outputs": [
      {
       "metadata": {},
       "output_type": "pyout",
       "prompt_number": 107,
       "text": [
        "(16,)"
       ]
      }
     ],
     "prompt_number": 107
    },
    {
     "cell_type": "code",
     "collapsed": false,
     "input": [
      "import scipy as sp"
     ],
     "language": "python",
     "metadata": {},
     "outputs": [],
     "prompt_number": 110
    },
    {
     "cell_type": "code",
     "collapsed": false,
     "input": [
      "from scipy import optimize"
     ],
     "language": "python",
     "metadata": {},
     "outputs": [],
     "prompt_number": 111
    },
    {
     "cell_type": "code",
     "collapsed": false,
     "input": [
      "thisStar.exposures.abs_baryVels"
     ],
     "language": "python",
     "metadata": {},
     "outputs": [
      {
       "metadata": {},
       "output_type": "pyout",
       "prompt_number": 112,
       "text": [
        "array([ 4286.09055178,  4289.90753103,  4293.49971415,  4298.43854106,\n",
        "        4513.01030821,  4516.36212311,  4519.71368855,  4548.30352242,\n",
        "        4551.65269404,  4554.7783596 ,  4970.63834294,  4973.95299674,\n",
        "        4977.48830512,  5186.7865449 ,  5190.08139605,  5193.3759337 ])"
       ]
      }
     ],
     "prompt_number": 112
    },
    {
     "cell_type": "code",
     "collapsed": false,
     "input": [
      "pwd"
     ],
     "language": "python",
     "metadata": {},
     "outputs": [
      {
       "metadata": {},
       "output_type": "pyout",
       "prompt_number": 113,
       "text": [
        "u'/Users/Carlos/Documents/HERMES/reductions/47Tuc_core_6.2'"
       ]
      }
     ],
     "prompt_number": 113
    },
    {
     "cell_type": "code",
     "collapsed": false,
     "input": [
      "print RVs[0].shape"
     ],
     "language": "python",
     "metadata": {},
     "outputs": [
      {
       "output_type": "stream",
       "stream": "stdout",
       "text": [
        "(16, 4)\n"
       ]
      }
     ],
     "prompt_number": 195
    },
    {
     "cell_type": "code",
     "collapsed": false,
     "input": [
      "cd '/Users/Carlos/Documents/HERMES/reductions/47Tuc_core_6.2'"
     ],
     "language": "python",
     "metadata": {},
     "outputs": [
      {
       "output_type": "stream",
       "stream": "stdout",
       "text": [
        "/Users/Carlos/Documents/HERMES/reductions/47Tuc_core_6.2\n"
       ]
      }
     ],
     "prompt_number": 178
    },
    {
     "cell_type": "code",
     "collapsed": false,
     "input": [
      "RVs = np.load('RVs.npy')\n",
      "SNRs = np.load('SNRs.npy')"
     ],
     "language": "python",
     "metadata": {},
     "outputs": [],
     "prompt_number": 179
    },
    {
     "cell_type": "code",
     "collapsed": false,
     "input": [
      "for epoch in range(RVs.shape[1]):\n",
      "    cam = 0\n",
      "    R = RVs[:,epoch,cam]\n",
      "    S = SNRs[:,epoch,cam]\n",
      "    a = np.histogram(R)\n",
      "    plt.bar(a[1][:-1],a[0], width = (a[1][-2]-a[1][-1])*0.7)\n",
      "    plt.plot(R,S,'.', c='r')\n",
      "    plt.show()"
     ],
     "language": "python",
     "metadata": {},
     "outputs": [],
     "prompt_number": 198
    },
    {
     "cell_type": "code",
     "collapsed": false,
     "input": [
      "a = np.histogram(R)\n",
      "# plt.plot(a[1][:-1],a[0],'.')\n",
      "plt.bar(a[1][:-1],a[0], width = (a[1][-2]-a[1][-1])*0.7)\n",
      "plt.show()"
     ],
     "language": "python",
     "metadata": {},
     "outputs": [],
     "prompt_number": 193
    },
    {
     "cell_type": "code",
     "collapsed": false,
     "input": [
      "a = np.histogram(R)\n",
      "plt.plot(R,S,'.', c='r')\n",
      "# plt.bar(a[1][:-1],a[0], width = (a[1][-2]-a[1][-1])*0.7)\n",
      "plt.show()"
     ],
     "language": "python",
     "metadata": {},
     "outputs": [],
     "prompt_number": 192
    },
    {
     "cell_type": "code",
     "collapsed": false,
     "input": [
      "R = RVs[:,15,0]\n",
      "S = SNRs[:,15,0]"
     ],
     "language": "python",
     "metadata": {},
     "outputs": [],
     "prompt_number": 164
    },
    {
     "cell_type": "code",
     "collapsed": false,
     "input": [
      "a = np.histogram(R)\n",
      "# plt.plot(a[1][:-1],a[0],'.')\n",
      "plt.bar(a[1][:-1],a[0], width = (a[1][-2]-a[1][-1])*0.7)\n",
      "plt.show()"
     ],
     "language": "python",
     "metadata": {},
     "outputs": [],
     "prompt_number": 166
    },
    {
     "cell_type": "code",
     "collapsed": false,
     "input": [
      "import os"
     ],
     "language": "python",
     "metadata": {},
     "outputs": [],
     "prompt_number": 172
    },
    {
     "cell_type": "code",
     "collapsed": true,
     "input": [
      "os.curdir"
     ],
     "language": "python",
     "metadata": {},
     "outputs": [
      {
       "metadata": {},
       "output_type": "pyout",
       "prompt_number": 173,
       "text": [
        "'.'"
       ]
      }
     ],
     "prompt_number": 173
    },
    {
     "cell_type": "code",
     "collapsed": false,
     "input": [
      "pwd"
     ],
     "language": "python",
     "metadata": {},
     "outputs": [
      {
       "metadata": {},
       "output_type": "pyout",
       "prompt_number": 174,
       "text": [
        "u'/Users/Carlos/Documents/HERMES/reductions/47Tuc_core_6.2'"
       ]
      }
     ],
     "prompt_number": 174
    },
    {
     "cell_type": "code",
     "collapsed": false,
     "input": [
      "os.getcwd().split('/')[-1]"
     ],
     "language": "python",
     "metadata": {},
     "outputs": [
      {
       "metadata": {},
       "output_type": "pyout",
       "prompt_number": 177,
       "text": [
        "'47Tuc_core_6.2'"
       ]
      }
     ],
     "prompt_number": 177
    },
    {
     "cell_type": "code",
     "collapsed": false,
     "input": [
      "plt.plot(thisCam.red_fluxes)\n",
      "plt.show()"
     ],
     "language": "python",
     "metadata": {},
     "outputs": [],
     "prompt_number": 201
    },
    {
     "cell_type": "code",
     "collapsed": false,
     "input": [
      "i=6\n",
      "np.nanmean(thisCam.red_fluxes[i])/np.std(thisCam.red_fluxes[i])\n",
      "print np.sqrt(np.nanmean(thisCam.red_fluxes[i]))\n",
      "print np.nansum(thisCam.red_fluxes[i])\n",
      "print stats.nanmedian(thisCam.red_fluxes[i])/stats.nanstd(thisCam.red_fluxes[i])\n"
     ],
     "language": "python",
     "metadata": {},
     "outputs": [
      {
       "output_type": "stream",
       "stream": "stdout",
       "text": [
        "23.6033444571\n",
        "2276383.61503\n",
        "9.6440414162\n"
       ]
      }
     ],
     "prompt_number": 220
    },
    {
     "cell_type": "code",
     "collapsed": false,
     "input": [
      "PyAstronomy"
     ],
     "language": "python",
     "metadata": {},
     "outputs": [
      {
       "metadata": {},
       "output_type": "pyout",
       "prompt_number": 6,
       "text": [
        "<module 'PyAstronomy' from '/Users/Carlos/Library/Enthought/Canopy_64bit/User/lib/python2.7/site-packages/PyAstronomy/__init__.pyc'>"
       ]
      }
     ],
     "prompt_number": 6
    },
    {
     "cell_type": "code",
     "collapsed": false,
     "input": [
      "import PyAstronomy"
     ],
     "language": "python",
     "metadata": {},
     "outputs": [],
     "prompt_number": 5
    },
    {
     "cell_type": "code",
     "collapsed": false,
     "input": [
      "cd ~/Documents/HERMES/reductions/HD1581_1arc_6.2/obj/"
     ],
     "language": "python",
     "metadata": {},
     "outputs": [
      {
       "output_type": "stream",
       "stream": "stdout",
       "text": [
        "/Users/Carlos/Documents/HERMES/reductions/HD1581_1arc_6.2/obj\n"
       ]
      }
     ],
     "prompt_number": 9
    },
    {
     "cell_type": "code",
     "collapsed": false,
     "input": [
      "import pickle\n",
      "# filename = 'HD1581.obj'\n",
      "# filename = 'Brght01.obj'\n",
      "# filename = 'red_Giant01.obj'\n",
      "# filename = 'Giant01.obj'\n",
      "filename = 'Field01.obj'\n",
      "filehandler = open(filename, 'r')\n",
      "thisStar = pickle.load(filehandler)\n",
      "thisCam = thisStar.exposures.cameras[3]\n"
     ],
     "language": "python",
     "metadata": {},
     "outputs": [],
     "prompt_number": 10
    },
    {
     "cell_type": "code",
     "collapsed": false,
     "input": [
      "import pylab as plt\n",
      "plt.plot(thisCam.red_fluxes[0])\n",
      "plt.show()"
     ],
     "language": "python",
     "metadata": {},
     "outputs": [],
     "prompt_number": 15
    },
    {
     "cell_type": "code",
     "collapsed": false,
     "input": [
      "from PyAstronomy import pyasl\n",
      "\n",
      "def baryTest(thisStar):\n",
      "\n",
      "    for i,jd in enumerate((thisStar.exposures.JDs+2400000.5)[:]):\n",
      "        heli, bary = pyasl.baryvel(jd, deq=2000.0)\n",
      "#         print \"Earth's velocity at JD: \", jd\n",
      "#         print \"Heliocentric velocity [km/s]: \", heli\n",
      "#         print \"Barycentric velocity [km/s] : \", bary\n",
      "\n",
      "        # Coordinates of Sirius\n",
      "        ra  = 101.28715535\n",
      "        dec = -16.71611587\n",
      "        \n",
      "        #thisStar coords\n",
      "        ra  = np.rad2deg(thisStar.RA_dec)\n",
      "        dec = np.rad2deg(thisStar.Dec_dec)\n",
      "        print np.rad2deg(thisStar.RA_dec), np.rad2deg(thisStar.Dec_dec), thisStar.name, thisStar.exposures.abs_baryVels[i]\n",
      "\n",
      "        \n",
      "        vh, vb = pyasl.baryCorr(jd, ra, dec, deq=2000.0)\n",
      "        print \"Barycentric velocity of Earth toward\",thisStar.name,'[m/s]', vb*1000\n",
      "        print vb*1000-thisStar.exposures.abs_baryVels[i]\n",
      "        print ''"
     ],
     "language": "python",
     "metadata": {},
     "outputs": [],
     "prompt_number": 9
    },
    {
     "cell_type": "code",
     "collapsed": false,
     "input": [
      "from PyAstronomy import pyasl\n",
      "\n",
      "def baryTest2(baryVels, JDs):\n",
      "\n",
      "    for i,jd in enumerate((JDs+2400000.5)[:]):\n",
      "        heli, bary = pyasl.baryvel(jd, deq=2000.0)\n",
      "#         print \"Earth's velocity at JD: \", jd\n",
      "#         print \"Heliocentric velocity [km/s]: \", heli\n",
      "#         print \"Barycentric velocity [km/s] : \", bary\n",
      "\n",
      "        # Coordinates of Sirius\n",
      "        ra  = 101.28715535\n",
      "        dec = -16.71611587\n",
      "        \n",
      "        #thisStar coords\n",
      "        ra  = np.rad2deg(thisStar.RA_dec)\n",
      "        dec = np.rad2deg(thisStar.Dec_dec)\n",
      "        print np.rad2deg(thisStar.RA_dec), np.rad2deg(thisStar.Dec_dec), thisStar.name, thisStar.exposures.abs_baryVels[i]\n",
      "\n",
      "        \n",
      "        vh, vb = pyasl.baryCorr(jd, ra, dec, deq=2000.0)\n",
      "        print \"Barycentric velocity of Earth toward\",thisStar.name,'[m/s]', vb*1000\n",
      "        print vb*1000-thisStar.exposures.abs_baryVels[i]\n",
      "        print ''"
     ],
     "language": "python",
     "metadata": {},
     "outputs": [],
     "prompt_number": 97
    },
    {
     "cell_type": "code",
     "collapsed": false,
     "input": [
      "import numpy as np\n",
      "baryTest(thisStar)"
     ],
     "language": "python",
     "metadata": {},
     "outputs": [
      {
       "output_type": "stream",
       "stream": "stdout",
       "text": [
        "321.236427277 -71.8895111111 N104-S1084 -10414.3510453\n",
        "Barycentric velocity of Earth toward N104-S1084 [m/s] -10362.36416\n",
        "51.9868852562\n",
        "\n",
        "321.236427277 -71.8895111111 N104-S1084 -10418.6092086\n",
        "Barycentric velocity of Earth toward N104-S1084 [m/s] -10366.6326992\n",
        "51.9765094806\n",
        "\n",
        "321.236427277 -71.8895111111 N104-S1084 -10422.6161477\n",
        "Barycentric velocity of Earth toward N104-S1084 [m/s] -10370.6494081\n",
        "51.9667396609\n",
        "\n",
        "321.236427277 -71.8895111111 N104-S1084 -10428.12451\n",
        "Barycentric velocity of Earth toward N104-S1084 [m/s] -10376.1712108\n",
        "51.9532992187\n",
        "\n",
        "321.236427277 -71.8895111111 N104-S1084 -10666.6462235\n",
        "Barycentric velocity of Earth toward N104-S1084 [m/s] -10615.285963\n",
        "51.360260536\n",
        "\n",
        "321.236427277 -71.8895111111 N104-S1084 -10670.3597535\n",
        "Barycentric velocity of Earth toward N104-S1084 [m/s] -10619.0088989\n",
        "51.3508546037\n",
        "\n",
        "321.236427277 -71.8895111111 N104-S1084 -10674.0726228\n",
        "Barycentric velocity of Earth toward N104-S1084 [m/s] -10622.7311778\n",
        "51.3414449736\n",
        "\n",
        "321.236427277 -71.8895111111 N104-S1084 -10705.7288404\n",
        "Barycentric velocity of Earth toward N104-S1084 [m/s] -10654.4678413\n",
        "51.260999139\n",
        "\n",
        "321.236427277 -71.8895111111 N104-S1084 -10709.4353907\n",
        "Barycentric velocity of Earth toward N104-S1084 [m/s] -10658.1838364\n",
        "51.2515542873\n",
        "\n",
        "321.236427277 -71.8895111111 N104-S1084 -10712.8942378\n",
        "Barycentric velocity of Earth toward N104-S1084 [m/s] -10661.651502\n",
        "51.2427357618\n",
        "\n",
        "321.236427277 -71.8895111111 N104-S1084 -11170.0480998\n",
        "Barycentric velocity of Earth toward N104-S1084 [m/s] -11120.0132637\n",
        "50.0348360145\n",
        "\n",
        "321.236427277 -71.8895111111 N104-S1084 -11173.6673419\n",
        "Barycentric velocity of Earth toward N104-S1084 [m/s] -11123.6424131\n",
        "50.0249288708\n",
        "\n",
        "321.236427277 -71.8895111111 N104-S1084 -11177.5270809\n",
        "Barycentric velocity of Earth toward N104-S1084 [m/s] -11127.5127237\n",
        "50.0143572834\n",
        "\n",
        "321.236427277 -71.8895111111 N104-S1084 -11405.2281275\n",
        "Barycentric velocity of Earth toward N104-S1084 [m/s] -11355.8487604\n",
        "49.3793670508\n",
        "\n",
        "321.236427277 -71.8895111111 N104-S1084 -11408.7999438\n",
        "Barycentric velocity of Earth toward N104-S1084 [m/s] -11359.4307175\n",
        "49.3692263298\n",
        "\n",
        "321.236427277 -71.8895111111 N104-S1084 -11412.3710226\n",
        "Barycentric velocity of Earth toward N104-S1084 [m/s] -11363.0119405\n",
        "49.3590820674\n",
        "\n"
       ]
      }
     ],
     "prompt_number": 98
    },
    {
     "cell_type": "code",
     "collapsed": false,
     "input": [
      "Right ascension\t00h 20m 04.25995s\n",
      "Declination\t\u221264\u00b0 52\u2032 29.2549\u2033"
     ],
     "language": "python",
     "metadata": {},
     "outputs": []
    },
    {
     "cell_type": "code",
     "collapsed": false,
     "input": [
      "print thisStar.RA_dec, thisStar.Dec_dec#, thisStar.RA_h, thisStar.RA_min , thisStar.RA_sec\n"
     ],
     "language": "python",
     "metadata": {},
     "outputs": [
      {
       "output_type": "stream",
       "stream": "stdout",
       "text": [
        "0.185324877741 -1.14263312432\n"
       ]
      }
     ],
     "prompt_number": 43
    },
    {
     "cell_type": "code",
     "collapsed": false,
     "input": [
      "import toolbox\n",
      "toolbox.dec2sex(thisStar.RA_dec)"
     ],
     "language": "python",
     "metadata": {},
     "outputs": [
      {
       "metadata": {},
       "output_type": "pyout",
       "prompt_number": 49,
       "text": [
        "(0.0, 11.0, 7.1695598673523619)"
       ]
      }
     ],
     "prompt_number": 49
    },
    {
     "cell_type": "code",
     "collapsed": false,
     "input": [
      "import numpy as np"
     ],
     "language": "python",
     "metadata": {},
     "outputs": [],
     "prompt_number": 51
    },
    {
     "cell_type": "code",
     "collapsed": false,
     "input": [
      "thisStar.RA_dec, toolbox.dec2sex(np.rad2deg(thisStar.RA_dec)/15)"
     ],
     "language": "python",
     "metadata": {},
     "outputs": [
      {
       "metadata": {},
       "output_type": "pyout",
       "prompt_number": 56,
       "text": [
        "(0.1853248777409312, (0.0, 42.0, 28.39999999999975))"
       ]
      }
     ],
     "prompt_number": 56
    },
    {
     "cell_type": "code",
     "collapsed": false,
     "input": [
      "00 20 06.49 -64 52 06.6\n"
     ],
     "language": "python",
     "metadata": {},
     "outputs": [
      {
       "ename": "SyntaxError",
       "evalue": "invalid syntax (<ipython-input-57-81649f279bfe>, line 1)",
       "output_type": "pyerr",
       "traceback": [
        "\u001b[0;36m  File \u001b[0;32m\"<ipython-input-57-81649f279bfe>\"\u001b[0;36m, line \u001b[0;32m1\u001b[0m\n\u001b[0;31m    00 20 06.49 -64 52 06.6\u001b[0m\n\u001b[0m        ^\u001b[0m\n\u001b[0;31mSyntaxError\u001b[0m\u001b[0;31m:\u001b[0m invalid syntax\n"
       ]
      }
     ],
     "prompt_number": 57
    },
    {
     "cell_type": "code",
     "collapsed": false,
     "input": [
      "np.deg2rad(toolbox.sex2dec(0,20,06.49)*15)"
     ],
     "language": "python",
     "metadata": {},
     "outputs": [
      {
       "metadata": {},
       "output_type": "pyout",
       "prompt_number": 60,
       "text": [
        "0.087738428718276612"
       ]
      }
     ],
     "prompt_number": 60
    },
    {
     "cell_type": "code",
     "collapsed": false,
     "input": [
      "np.deg2rad(-toolbox.sex2dec(64,52,6.6))"
     ],
     "language": "python",
     "metadata": {},
     "outputs": [
      {
       "metadata": {},
       "output_type": "pyout",
       "prompt_number": 80,
       "text": [
        "-1.1321689058299416"
       ]
      }
     ],
     "prompt_number": 80
    },
    {
     "cell_type": "code",
     "collapsed": false,
     "input": [
      "-toolbox.sex2dec(64,52,6.6)"
     ],
     "language": "python",
     "metadata": {},
     "outputs": [
      {
       "metadata": {},
       "output_type": "pyout",
       "prompt_number": 79,
       "text": [
        "-64.8685"
       ]
      }
     ],
     "prompt_number": 79
    },
    {
     "cell_type": "code",
     "collapsed": false,
     "input": [
      "RVs = np.random.random(100)\n",
      "stdRV= np.std(RVs)\n",
      "medRV = 0.5\n",
      "sigmaClip = 0.1\n",
      "print RVs,stdRV,medRV\n",
      "print RVs[(RVs>=medRV-sigmaClip*stdRV) & (RVs<=medRV+sigmaClip*stdRV)]"
     ],
     "language": "python",
     "metadata": {},
     "outputs": [
      {
       "output_type": "stream",
       "stream": "stdout",
       "text": [
        "[ 0.50944729  0.59202363  0.34793192  0.49857096  0.11168045  0.5402587\n",
        "  0.1639193   0.63398657  0.11826589  0.83046053  0.21378317  0.89126498\n",
        "  0.38665419  0.43266515  0.31866077  0.18833401  0.66504509  0.12992092\n",
        "  0.7296709   0.93295998  0.15362989  0.79720843  0.94320636  0.98437832\n",
        "  0.51896116  0.98229951  0.04638261  0.89583847  0.41585421  0.40722681\n",
        "  0.1096208   0.99106994  0.97524987  0.56994879  0.51063583  0.35349014\n",
        "  0.51254062  0.33487206  0.41287229  0.72653006  0.15814849  0.05696768\n",
        "  0.26069769  0.5933787   0.49401713  0.85210524  0.40962797  0.68764811\n",
        "  0.54484472  0.60963499  0.33765635  0.99509764  0.47090397  0.23627487\n",
        "  0.32071665  0.21991094  0.06261571  0.74229276  0.42339483  0.65616199\n",
        "  0.14606433  0.54493962  0.86816375  0.17595697  0.16485671  0.11700399\n",
        "  0.5580427   0.60210596  0.02294881  0.37644091  0.7811683   0.10981021\n",
        "  0.72287168  0.80615526  0.190554    0.64533609  0.93021578  0.6138838\n",
        "  0.64106467  0.11551869  0.74450757  0.88140708  0.86976513  0.38413611\n",
        "  0.50847321  0.40583771  0.09499961  0.59455717  0.82802101  0.8511119\n",
        "  0.62215665  0.35489146  0.98100454  0.35250727  0.23062261  0.67021778\n",
        "  0.20447119  0.70156444  0.29592984  0.45394288] 0.277557430083 0.5\n",
        "[ 0.50944729  0.49857096  0.51896116  0.51063583  0.51254062  0.49401713\n",
        "  0.50847321]\n"
       ]
      }
     ],
     "prompt_number": 149
    },
    {
     "cell_type": "code",
     "collapsed": false,
     "input": [
      "import pylab as plt"
     ],
     "language": "python",
     "metadata": {},
     "outputs": [],
     "prompt_number": 2
    },
    {
     "cell_type": "code",
     "collapsed": false,
     "input": [
      "g = plt.gca()\n",
      "g.xaxis.majorTic\n",
      "plt.show()"
     ],
     "language": "python",
     "metadata": {},
     "outputs": [],
     "prompt_number": 155
    },
    {
     "cell_type": "code",
     "collapsed": false,
     "input": [
      "import matplotlib.pyplot as plt\n",
      "\n"
     ],
     "language": "python",
     "metadata": {},
     "outputs": []
    },
    {
     "cell_type": "code",
     "collapsed": false,
     "input": [
      "fig = plt.figure()\n",
      "# plt.title(title)\n",
      "\n",
      "ax = fig.add_subplot(111)\n",
      "# ax.bar(hist[1][1:],hist[0], width = (hist[1][-2]-hist[1][-1]))\n",
      "# ax.grid()\n",
      "# ax.set_ylabel('Counts')\n",
      "# ax.set_xlabel('RV [m/s]')\n",
      "# #         ax.set_ylim(0,10)\n",
      "\n",
      "# ax2 = ax.twinx()\n",
      "# ax2.scatter(R,S, c='r', s=100)\n",
      "ax.bar(0,1 , width = (1), color='k')\n"
     ],
     "language": "python",
     "metadata": {},
     "outputs": [
      {
       "metadata": {},
       "output_type": "pyout",
       "prompt_number": 6,
       "text": [
        "<Container object of 1 artists>"
       ]
      }
     ],
     "prompt_number": 6
    },
    {
     "cell_type": "code",
     "collapsed": false,
     "input": [
      "plt.show()"
     ],
     "language": "python",
     "metadata": {},
     "outputs": [],
     "prompt_number": 7
    },
    {
     "cell_type": "code",
     "collapsed": false,
     "input": [
      "pwd"
     ],
     "language": "python",
     "metadata": {},
     "outputs": [
      {
       "metadata": {},
       "output_type": "pyout",
       "prompt_number": 39,
       "text": [
        "u'/Users/Carlos/Documents/HERMES/reductions'"
       ]
      }
     ],
     "prompt_number": 39
    },
    {
     "cell_type": "code",
     "collapsed": false,
     "input": [
      "cd 47Tuc_core_6.2/"
     ],
     "language": "python",
     "metadata": {},
     "outputs": [
      {
       "output_type": "stream",
       "stream": "stdout",
       "text": [
        "/Users/Carlos/Documents/HERMES/reductions/47Tuc_core_6.2\n"
       ]
      }
     ],
     "prompt_number": 40
    },
    {
     "cell_type": "code",
     "collapsed": false,
     "input": [
      "cd obj"
     ],
     "language": "python",
     "metadata": {},
     "outputs": [
      {
       "output_type": "stream",
       "stream": "stdout",
       "text": [
        "/Users/Carlos/Documents/HERMES/reductions/47Tuc_core_6.2/obj\n"
       ]
      }
     ],
     "prompt_number": 41
    },
    {
     "cell_type": "code",
     "collapsed": false,
     "input": [
      "import pickle\n",
      "# filename = 'HD1581.obj'\n",
      "# filename = 'Brght01.obj'\n",
      "# filename = 'red_Giant01.obj'\n",
      "filename = 'red_Brght01.obj'\n",
      "# filename = 'Giant01.obj'\n",
      "filehandler = open(filename, 'r')\n",
      "thisStar = pickle.load(filehandler)\n",
      "thisCam = thisStar.exposures.cameras[3]\n"
     ],
     "language": "python",
     "metadata": {},
     "outputs": [],
     "prompt_number": 42
    },
    {
     "cell_type": "code",
     "collapsed": false,
     "input": [
      "print thisStar.exposures\n",
      "thisCam.fileNames"
     ],
     "language": "python",
     "metadata": {},
     "outputs": [
      {
       "output_type": "stream",
       "stream": "stdout",
       "text": [
        "(16,)\n"
       ]
      },
      {
       "metadata": {},
       "output_type": "pyout",
       "prompt_number": 36,
       "text": [
        "chararray(['21aug40027red.fits', '21aug40028red.fits', '21aug40029red.fits',\n",
        "       '21aug40030red.fits', '22aug40027red.fits', '22aug40028red.fits',\n",
        "       '22aug40029red.fits', '', '', '', '24aug40050red.fits',\n",
        "       '24aug40051red.fits', '24aug40052red.fits', '', '', ''], \n",
        "      dtype='|S18')"
       ]
      }
     ],
     "prompt_number": 36
    },
    {
     "cell_type": "code",
     "collapsed": false,
     "input": [
      "thisCam.red_fluxes"
     ],
     "language": "python",
     "metadata": {},
     "outputs": [
      {
       "metadata": {},
       "output_type": "pyout",
       "prompt_number": 37,
       "text": [
        "array([[ nan,  nan,  nan, ...,  nan,  nan,  nan],\n",
        "       [ nan,  nan,  nan, ...,  nan,  nan,  nan],\n",
        "       [ nan,  nan,  nan, ...,  nan,  nan,  nan],\n",
        "       ..., \n",
        "       [  0.,   0.,   0., ...,   0.,   0.,   0.],\n",
        "       [  0.,   0.,   0., ...,   0.,   0.,   0.],\n",
        "       [  0.,   0.,   0., ...,   0.,   0.,   0.]])"
       ]
      }
     ],
     "prompt_number": 37
    },
    {
     "cell_type": "code",
     "collapsed": false,
     "input": [
      "float(np.sum(np.isnan(SNRs)))/(SNRs.shape[0]*SNRs.shape[1]*SNRs.shape[2])*100"
     ],
     "language": "python",
     "metadata": {},
     "outputs": [
      {
       "metadata": {},
       "output_type": "pyout",
       "prompt_number": 118,
       "text": [
        "2.725225225225225"
       ]
      }
     ],
     "prompt_number": 118
    },
    {
     "cell_type": "code",
     "collapsed": false,
     "input": [
      "import pylab as plt\n",
      "plt.plot(RVs[:,:,0])\n",
      "plt.show()"
     ],
     "language": "python",
     "metadata": {},
     "outputs": [],
     "prompt_number": 56
    },
    {
     "cell_type": "code",
     "collapsed": false,
     "input": [
      "    data=np.load('npy/data.npy')\n",
      "    RVs=np.load('npy/RVs.npy')\n",
      "#     sigmas=np.load('npy/sigmas.npy')\n",
      "#     baryVels=np.load('npy/baryVels.npy')\n",
      "#     JDs=np.load('npy/JDs.npy')\n",
      "    SNRs = np.load('npy/SNRs.npy')\n"
     ],
     "language": "python",
     "metadata": {},
     "outputs": [],
     "prompt_number": 51
    },
    {
     "cell_type": "code",
     "collapsed": false,
     "input": [
      "pwd"
     ],
     "language": "python",
     "metadata": {},
     "outputs": [
      {
       "metadata": {},
       "output_type": "pyout",
       "prompt_number": 57,
       "text": [
        "u'/Users/Carlos/Documents/HERMES/reductions/47Tuc_core_6.2'"
       ]
      }
     ],
     "prompt_number": 57
    },
    {
     "cell_type": "code",
     "collapsed": false,
     "input": [
      "\n",
      "filehandler = open('obj/red_N104-S1084.obj', 'r')\n",
      "thisStar = pickle.load(filehandler)\n"
     ],
     "language": "python",
     "metadata": {},
     "outputs": [],
     "prompt_number": 58
    },
    {
     "cell_type": "code",
     "collapsed": false,
     "input": [
      "thisCam = thisStar.exposures.cameras[0]"
     ],
     "language": "python",
     "metadata": {},
     "outputs": [],
     "prompt_number": 60
    },
    {
     "cell_type": "heading",
     "level": 1,
     "metadata": {},
     "source": [
      "Bary tests\n"
     ]
    },
    {
     "cell_type": "code",
     "collapsed": false,
     "input": [
      "import toolbox as tb\n",
      "from PyAstronomy import pyasl\n",
      "\n"
     ],
     "language": "python",
     "metadata": {},
     "outputs": [],
     "prompt_number": 90
    },
    {
     "cell_type": "code",
     "collapsed": false,
     "input": [
      "MJD = 57131.84792 \n",
      "RA = tb.deg2rad(tb.sex2dec(0,24,05.67)*15) #47tuc in rad\n",
      "Dec = tb.deg2rad(-tb.sex2dec(72,4,52.6)) #47Tuc in rad"
     ],
     "language": "python",
     "metadata": {},
     "outputs": [],
     "prompt_number": 78
    },
    {
     "cell_type": "code",
     "collapsed": false,
     "input": [
      "RA, Dec"
     ],
     "language": "python",
     "metadata": {},
     "outputs": [
      {
       "metadata": {},
       "output_type": "pyout",
       "prompt_number": 79,
       "text": [
        "(0.10513208915544343, -1.2580556262668436)"
       ]
      }
     ],
     "prompt_number": 79
    },
    {
     "cell_type": "code",
     "collapsed": false,
     "input": [
      "MJDs = []\n",
      "RVs = []\n",
      "RV2s = []\n",
      "RV3s = []\n",
      "for i in np.arange(MJD-200, MJD+200):\n",
      "    vh, vb = tb.baryvel(i+2400000+0.5) \n",
      "    vh2, vb2 = pyasl.baryvel(i+2400000+0.5, deq = 0.0)\n",
      "    __, RV3 = pyasl.baryCorr(i+2400000+0.5,tb.rad2deg(RA), tb.rad2deg(Dec))\n",
      "    \n",
      "    RV = (vb[0]*np.cos(Dec)*np.cos(RA) + vb[1]*np.cos(Dec)*np.sin(RA) + vb[2]*np.sin(Dec))*1000\n",
      "    RV2 = (vb2[0]*np.cos(Dec)*np.cos(RA) + vb2[1]*np.cos(Dec)*np.sin(RA) + vb2[2]*np.sin(Dec))*1000\n",
      "    MJDs.append(i)\n",
      "    RVs.append(RV)\n",
      "    RV2s.append(RV2)\n",
      "    RV3s.append(RV3*1000)\n",
      "RVs = np.array(RVs)\n",
      "RV2s = np.array(RV2s)\n",
      "RV3s = np.array(RV3s)\n"
     ],
     "language": "python",
     "metadata": {},
     "outputs": [],
     "prompt_number": 119
    },
    {
     "cell_type": "code",
     "collapsed": false,
     "input": [
      "plt.plot(MJDs, RVs)\n",
      "plt.plot(MJDs, RV2s)\n",
      "plt.plot(MJDs, RV3s)\n",
      "plt.show()\n",
      "\n",
      "plt.plot(MJDs, RVs-RV2s, label = '1-2')\n",
      "plt.plot(MJDs, RV2s-RV3s, label = '2-3')\n",
      "plt.legend(loc=0)\n",
      "plt.show()\n",
      "\n"
     ],
     "language": "python",
     "metadata": {},
     "outputs": [],
     "prompt_number": 120
    },
    {
     "cell_type": "heading",
     "level": 1,
     "metadata": {},
     "source": [
      "plot app"
     ]
    },
    {
     "cell_type": "code",
     "collapsed": false,
     "input": [
      "import numpy as np\n",
      "import pylab as plt\n",
      "a = np.random.rand(10)\n",
      "b = np.random.rand(10)\n",
      "c = np.random.rand(10)\n",
      "plt.scatter(a,b)\n",
      "plt.show()\n",
      "fig = plt.figure()\n",
      "ax1 = fig.add_subplot(111)\n",
      "ax1.set_title('custom picker for line data')\n",
      "line, = ax1.plot(a, b, 'o', picker=5)\n",
      "fig.canvas.mpl_connect('pick_event', onpick2)\n",
      "\n",
      "\n",
      "def onpick2():\n",
      "    a=2\n",
      "    print a"
     ],
     "language": "python",
     "metadata": {},
     "outputs": [],
     "prompt_number": 47
    },
    {
     "cell_type": "code",
     "collapsed": false,
     "input": [
      "def aaa():\n",
      "    xxx = 'sdd'\n",
      "    print 'asdasd'\n",
      "    return xxx"
     ],
     "language": "python",
     "metadata": {},
     "outputs": [
      {
       "ename": "SyntaxError",
       "evalue": "invalid syntax (<ipython-input-69-236a9c315ff3>, line 3)",
       "output_type": "pyerr",
       "traceback": [
        "\u001b[0;36m  File \u001b[0;32m\"<ipython-input-69-236a9c315ff3>\"\u001b[0;36m, line \u001b[0;32m3\u001b[0m\n\u001b[0;31m    print 'asdasd'\u001b[0m\n\u001b[0m                 ^\u001b[0m\n\u001b[0;31mSyntaxError\u001b[0m\u001b[0;31m:\u001b[0m invalid syntax\n"
       ]
      }
     ],
     "prompt_number": 69
    },
    {
     "cell_type": "code",
     "collapsed": false,
     "input": [
      "def test():\n",
      "    print 'adasd'"
     ],
     "language": "python",
     "metadata": {},
     "outputs": [
      {
       "ename": "SyntaxError",
       "evalue": "invalid syntax (<ipython-input-70-85c49f70840c>, line 2)",
       "output_type": "pyerr",
       "traceback": [
        "\u001b[0;36m  File \u001b[0;32m\"<ipython-input-70-85c49f70840c>\"\u001b[0;36m, line \u001b[0;32m2\u001b[0m\n\u001b[0;31m    print 'adasd'\u001b[0m\n\u001b[0m                ^\u001b[0m\n\u001b[0;31mSyntaxError\u001b[0m\u001b[0;31m:\u001b[0m invalid syntax\n"
       ]
      }
     ],
     "prompt_number": 70
    },
    {
     "cell_type": "code",
     "collapsed": false,
     "input": [],
     "language": "python",
     "metadata": {},
     "outputs": [],
     "prompt_number": 2
    },
    {
     "cell_type": "code",
     "collapsed": false,
     "input": [],
     "language": "python",
     "metadata": {},
     "outputs": [
      {
       "output_type": "stream",
       "stream": "stdout",
       "text": [
        "/Users/Carlos/Documents/HERMES/reductions\n"
       ]
      }
     ],
     "prompt_number": 26
    },
    {
     "cell_type": "code",
     "collapsed": false,
     "input": [],
     "language": "python",
     "metadata": {},
     "outputs": [],
     "prompt_number": 12
    },
    {
     "cell_type": "code",
     "collapsed": false,
     "input": [
      "import glob\n",
      "import numpy as np\n",
      "import os\n",
      "\n",
      "os.chdir('/Users/Carlos/Documents/HERMES/reductions/')\n",
      "a = glob.glob('*')\n",
      "for i in a:\n",
      "    if i!='HD1581_6.0':\n",
      "        print i,\n",
      "        b = np.load(i+'/npy/data.npy')\n",
      "        print b.shape[0]"
     ],
     "language": "python",
     "metadata": {},
     "outputs": [
      {
       "output_type": "stream",
       "stream": "stdout",
       "text": [
        "47Tuc_core_1arc_6.2 "
       ]
      },
      {
       "output_type": "stream",
       "stream": "stdout",
       "text": [
        "110\n",
        "47Tuc_core_6.2 "
       ]
      },
      {
       "output_type": "stream",
       "stream": "stdout",
       "text": [
        "110\n",
        "HD1581_1arc_6.2 "
       ]
      },
      {
       "output_type": "stream",
       "stream": "stdout",
       "text": [
        "1\n",
        "HD1581_6.2 1\n",
        "HD285507_1arc_6.2 "
       ]
      },
      {
       "output_type": "stream",
       "stream": "stdout",
       "text": [
        "74\n",
        "HD285507_6.2 74\n",
        "m67_1arc_6.2 "
       ]
      },
      {
       "output_type": "stream",
       "stream": "stdout",
       "text": [
        "292\n",
        "m67_6.2 292\n",
        "NGC2477_1arc_6.2 "
       ]
      },
      {
       "output_type": "stream",
       "stream": "stdout",
       "text": [
        "448\n",
        "NGC2477_6.2 448\n",
        "rhoTuc_1arc_6.2"
       ]
      },
      {
       "ename": "IOError",
       "evalue": "[Errno 2] No such file or directory: 'rhoTuc_1arc_6.2/npy/data.npy'",
       "output_type": "pyerr",
       "traceback": [
        "\u001b[0;31m---------------------------------------------------------------------------\u001b[0m\n\u001b[0;31mIOError\u001b[0m                                   Traceback (most recent call last)",
        "\u001b[0;32m<ipython-input-3-6d864f632572>\u001b[0m in \u001b[0;36m<module>\u001b[0;34m()\u001b[0m\n\u001b[1;32m      8\u001b[0m     \u001b[0;32mif\u001b[0m \u001b[0mi\u001b[0m\u001b[0;34m!=\u001b[0m\u001b[0;34m'HD1581_6.0'\u001b[0m\u001b[0;34m:\u001b[0m\u001b[0;34m\u001b[0m\u001b[0m\n\u001b[1;32m      9\u001b[0m         \u001b[0;32mprint\u001b[0m \u001b[0mi\u001b[0m\u001b[0;34m,\u001b[0m\u001b[0;34m\u001b[0m\u001b[0m\n\u001b[0;32m---> 10\u001b[0;31m         \u001b[0mb\u001b[0m \u001b[0;34m=\u001b[0m \u001b[0mnp\u001b[0m\u001b[0;34m.\u001b[0m\u001b[0mload\u001b[0m\u001b[0;34m(\u001b[0m\u001b[0mi\u001b[0m\u001b[0;34m+\u001b[0m\u001b[0;34m'/npy/data.npy'\u001b[0m\u001b[0;34m)\u001b[0m\u001b[0;34m\u001b[0m\u001b[0m\n\u001b[0m\u001b[1;32m     11\u001b[0m         \u001b[0;32mprint\u001b[0m \u001b[0mb\u001b[0m\u001b[0;34m.\u001b[0m\u001b[0mshape\u001b[0m\u001b[0;34m[\u001b[0m\u001b[0;36m0\u001b[0m\u001b[0;34m]\u001b[0m\u001b[0;34m\u001b[0m\u001b[0m\n",
        "\u001b[0;32m/Users/Carlos/Library/Enthought/Canopy_64bit/User/lib/python2.7/site-packages/numpy-1.8.1-py2.7-macosx-10.6-x86_64.egg/numpy/lib/npyio.pyc\u001b[0m in \u001b[0;36mload\u001b[0;34m(file, mmap_mode)\u001b[0m\n\u001b[1;32m    368\u001b[0m     \u001b[0mown_fid\u001b[0m \u001b[0;34m=\u001b[0m \u001b[0mFalse\u001b[0m\u001b[0;34m\u001b[0m\u001b[0m\n\u001b[1;32m    369\u001b[0m     \u001b[0;32mif\u001b[0m \u001b[0misinstance\u001b[0m\u001b[0;34m(\u001b[0m\u001b[0mfile\u001b[0m\u001b[0;34m,\u001b[0m \u001b[0mbasestring\u001b[0m\u001b[0;34m)\u001b[0m\u001b[0;34m:\u001b[0m\u001b[0;34m\u001b[0m\u001b[0m\n\u001b[0;32m--> 370\u001b[0;31m         \u001b[0mfid\u001b[0m \u001b[0;34m=\u001b[0m \u001b[0mopen\u001b[0m\u001b[0;34m(\u001b[0m\u001b[0mfile\u001b[0m\u001b[0;34m,\u001b[0m \u001b[0;34m\"rb\"\u001b[0m\u001b[0;34m)\u001b[0m\u001b[0;34m\u001b[0m\u001b[0m\n\u001b[0m\u001b[1;32m    371\u001b[0m         \u001b[0mown_fid\u001b[0m \u001b[0;34m=\u001b[0m \u001b[0mTrue\u001b[0m\u001b[0;34m\u001b[0m\u001b[0m\n\u001b[1;32m    372\u001b[0m     \u001b[0;32melif\u001b[0m \u001b[0misinstance\u001b[0m\u001b[0;34m(\u001b[0m\u001b[0mfile\u001b[0m\u001b[0;34m,\u001b[0m \u001b[0mgzip\u001b[0m\u001b[0;34m.\u001b[0m\u001b[0mGzipFile\u001b[0m\u001b[0;34m)\u001b[0m\u001b[0;34m:\u001b[0m\u001b[0;34m\u001b[0m\u001b[0m\n",
        "\u001b[0;31mIOError\u001b[0m: [Errno 2] No such file or directory: 'rhoTuc_1arc_6.2/npy/data.npy'"
       ]
      }
     ],
     "prompt_number": 3
    },
    {
     "cell_type": "code",
     "collapsed": false,
     "input": [
      "data"
     ],
     "language": "python",
     "metadata": {},
     "outputs": [
      {
       "metadata": {},
       "output_type": "pyout",
       "prompt_number": 8,
       "text": [
        "array([['Field02', '7.37', '128.0', '61.68875', '15.2102222222'],\n",
        "       ['Field03', '8.23', '163.0', '61.5841666667', '15.2324722222'],\n",
        "       ['Field04', '6.55', '292.0', '61.73125', '15.5528611111'],\n",
        "       ['Field05', '5.03', '47.0', '61.925', '15.1627222222'],\n",
        "       ['Field06', '6.02', '137.0', '61.6058333333', '15.1266944444'],\n",
        "       ['Field07', '6.81', '234.0', '61.4808333333', '15.4989722222'],\n",
        "       ['Field08', '7.56', '74.0', '61.8925', '14.9866944444'],\n",
        "       ['Field09', '6.45', '270.0', '61.5670833333', '15.6981111111'],\n",
        "       ['Field11', '8.56', '104.0', '61.6966666667', '14.8656944444'],\n",
        "       ['Field12', '7.51', '283.0', '61.6195833333', '15.8215277778'],\n",
        "       ['Field13', '4.82', '245.0', '61.3508333333', '15.68525'],\n",
        "       ['Field14', '8.9', '226.0', '61.2616666667', '15.5628888889'],\n",
        "       ['Field15', '7.99', '148.0', '61.35125', '14.9353611111'],\n",
        "       ['Field16', '4.81', '55.0', '62.1195833333', '14.8940833333'],\n",
        "       ['Field17', '8.91', '272.0', '61.4945833333', '15.9019444444'],\n",
        "       ['Field18', '4.38', '257.0', '61.36', '15.8304722222'],\n",
        "       ['Field19', '6.56', '316.0', '61.9583333333', '16.0199166667'],\n",
        "       ['Field21', '8.28', '185.0', '61.0075', '15.1772222222'],\n",
        "       ['Field22', '8.87', '0.0', '62.0508333333', '16.0182222222'],\n",
        "       ['Field23', '5.2', '172.0', '61.0541666667', '15.0268888889'],\n",
        "       ['Field24', '4.14', '61.0', '62.1975', '14.7010555556'],\n",
        "       ['Field25', '7.91', '191.0', '60.9133333333', '15.2368611111'],\n",
        "       ['Field27', '8.88', '282.0', '61.5258333333', '16.1433888889'],\n",
        "       ['Field28', '8.03', '77.0', '62.0675', '14.5516388889'],\n",
        "       ['Field30', '8.98', '286.0', '61.5745833333', '16.1838333333'],\n",
        "       ['Field31', '8.11', '357.0', '62.4845833333', '15.8681666667'],\n",
        "       ['Field32', '6.24', '6.0', '62.6704166667', '15.2370555556'],\n",
        "       ['Field33', '5.38', '330.0', '62.1875', '16.1231388889'],\n",
        "       ['Field34', '8.41', '66.0', '62.2195833333', '14.5467222222'],\n",
        "       ['Field35', '8.77', '356.0', '62.5095833333', '15.9136111111'],\n",
        "       ['Field36', '5.99', '109.0', '61.5954166667', '14.4021944444'],\n",
        "       ['Field37', '5.79', '323.0', '62.1370833333', '16.2338888889'],\n",
        "       ['Field38', '7.73', '106.0', '61.6375', '14.3695'],\n",
        "       ['Field39', '7.99', '105.0', '61.6483333333', '14.3666666666'],\n",
        "       ['Field40', '8.35', '184.0', '60.7675', '15.1020555556'],\n",
        "       ['Field41', '8.94', '337.0', '62.3358333333', '16.1591666667'],\n",
        "       ['Field42', '7.28', '354.0', '62.5466666667', '15.9771944444'],\n",
        "       ['Giant01', '7.67', '223.0', '61.755', '15.3350555556'],\n",
        "       ['Giant02', '6.44', '52.0', '61.8854166667', '15.1958333333'],\n",
        "       ['Giant03', '8.96', '113.0', '61.7254166667', '15.1414722222'],\n",
        "       ['Giant04', '8.05', '230.0', '61.535', '15.4393611111'],\n",
        "       ['Giant05', '6.5', '229.0', '61.3945833333', '15.5036944444'],\n",
        "       ['Giant06', '8.77', '253.0', '61.4858333333', '15.6325'],\n",
        "       ['Giant08', '8.97', '30.0', '62.18625', '15.1133055556'],\n",
        "       ['Giant09', '5.38', '256.0', '61.4266666667', '15.7380555556'],\n",
        "       ['Giant10', '7.03', '78.0', '61.9258333333', '14.8428611111'],\n",
        "       ['Giant11', '7.47', '320.0', '61.9291666667', '15.8441388889'],\n",
        "       ['Giant12', '7.36', '14.0', '62.3204166667', '15.2008611111'],\n",
        "       ['Giant13', '6.42', '90.0', '61.8366666667', '14.7395555556'],\n",
        "       ['Giant14', '8.67', '216.0', '61.145', '15.4934722222'],\n",
        "       ['Giant15', '8.93', '298.0', '61.7641666667', '15.9862777778'],\n",
        "       ['Giant16', '8.99', '13.0', '62.42875', '15.1821388889'],\n",
        "       ['Giant17', '8.8', '242.0', '61.2008333333', '15.7613611111'],\n",
        "       ['Giant18', '8.85', '123.0', '61.4875', '14.6949722222'],\n",
        "       ['Giant19', '6.12', '319.0', '62.0325', '16.02475'],\n",
        "       ['Giant20', '8.09', '366.0', '62.4545833333', '15.7201111111'],\n",
        "       ['Giant21', '7.09', '322.0', '62.0483333333', '16.0580277778'],\n",
        "       ['Giant22', '8.46', '299.0', '61.7708333333', '16.1327222222'],\n",
        "       ['Giant23', '7.04', '341.0', '62.2641666667', '15.9649166667'],\n",
        "       ['Giant24', '6.54', '117.0', '61.5145833333', '14.5554166667'],\n",
        "       ['Giant25', '7.77', '207.0', '60.9020833333', '15.4362222222'],\n",
        "       ['Giant26', '8.83', '169.0', '60.975', '14.9493055556'],\n",
        "       ['Giant27', '7.88', '178.0', '60.92', '15.05325'],\n",
        "       ['Giant28', '8.4', '16.0', '62.6095833333', '15.1044722222'],\n",
        "       ['Giant29', '8.3', '122.0', '61.4320833333', '14.5306944444'],\n",
        "       ['Giant30', '8.91', '220.0', '60.8920833333', '15.6041111111'],\n",
        "       ['Giant31', '8.96', '160.0', '60.995', '14.8089166667'],\n",
        "       ['Giant32', '8.75', '268.0', '61.3116666667', '16.1536111111'],\n",
        "       ['Giant33', '8.32', '112.0', '61.5558333333', '14.4238888889'],\n",
        "       ['Giant34', '8.11', '237.0', '60.9516666667', '15.8575833333'],\n",
        "       ['Giant35', '8.1', '3.0', '62.7275', '15.2627222222'],\n",
        "       ['Giant36', '6.64', '75.0', '62.1075', '14.4573055556'],\n",
        "       ['Giant37', '8.26', '219.0', '60.8041666667', '15.6249444444'],\n",
        "       ['Giant38', '8.58', '164.0', '60.8841666667', '14.8275']], \n",
        "      dtype='|S13')"
       ]
      }
     ],
     "prompt_number": 8
    },
    {
     "cell_type": "code",
     "collapsed": false,
     "input": [
      "cd HD285507_1arc_6.2/"
     ],
     "language": "python",
     "metadata": {},
     "outputs": [
      {
       "output_type": "stream",
       "stream": "stdout",
       "text": [
        "[Errno 2] No such file or directory: 'HD285507_1arc_6.2/'\n",
        "/Users/Carlos/Documents/ipn\n"
       ]
      }
     ],
     "prompt_number": 3
    },
    {
     "cell_type": "code",
     "collapsed": false,
     "input": [
      "cd HERMES/reductions/HD285507_1arc_6.2/"
     ],
     "language": "python",
     "metadata": {},
     "outputs": [
      {
       "output_type": "stream",
       "stream": "stdout",
       "text": [
        "/Users/Carlos/Documents/HERMES/reductions/HD285507_1arc_6.2\n"
       ]
      }
     ],
     "prompt_number": 6
    },
    {
     "cell_type": "code",
     "collapsed": false,
     "input": [
      "import glob\n",
      "import numpy as np\n",
      "import os\n",
      "data=np.load('npy/data.npy')\n",
      "RVs=np.load('npy/RVs.npy')\n",
      "SNRs=np.load('npy/SNRs.npy')"
     ],
     "language": "python",
     "metadata": {},
     "outputs": [],
     "prompt_number": 183
    },
    {
     "cell_type": "code",
     "collapsed": false,
     "input": [
      "RVs.shape\n",
      "W = np.zeros(np.hstack((RVs.shape, RVs.shape[0])))\n",
      "for thisStarIdx in range(RVs.shape[0]):\n",
      "    W1 = np.ones(RVs.shape)/(RVs.shape[0]-1)\n",
      "    W1[thisStarIdx,:,:]=0\n",
      "    W[:,:,:,thisStarIdx]=W1\n",
      "    \n"
     ],
     "language": "python",
     "metadata": {},
     "outputs": [
      {
       "metadata": {},
       "output_type": "pyout",
       "prompt_number": 124,
       "text": [
        "-0.22778767217498311"
       ]
      }
     ],
     "prompt_number": 124
    },
    {
     "cell_type": "code",
     "collapsed": false,
     "input": [
      "data[thisStarIdx,2].astype(float).astype(int)"
     ],
     "language": "python",
     "metadata": {},
     "outputs": [
      {
       "metadata": {},
       "output_type": "pyout",
       "prompt_number": 162,
       "text": [
        "128"
       ]
      }
     ],
     "prompt_number": 162
    },
    {
     "cell_type": "code",
     "collapsed": false,
     "input": [
      "import RVTools as RVT\n",
      "reload(RVT)\n",
      "import pylab as plt\n",
      "import pandas as pd"
     ],
     "language": "python",
     "metadata": {},
     "outputs": [],
     "prompt_number": 162
    },
    {
     "cell_type": "code",
     "collapsed": false,
     "input": [
      "data=np.load('npy/data.npy')\n",
      "RVs=np.load('npy/RVs.npy')\n",
      "SNRs=np.load('npy/SNRs.npy')\n"
     ],
     "language": "python",
     "metadata": {},
     "outputs": [],
     "prompt_number": 210
    },
    {
     "cell_type": "code",
     "collapsed": false,
     "input": [
      "# SNRs[:,:,0][SNRs[:,:,0]<1]\n",
      "SNRs[np.isnan(SNRs)]=0\n",
      "SNRs+=1e-17\n",
      "create_allW(data,SNRs)"
     ],
     "language": "python",
     "metadata": {},
     "outputs": [
      {
       "ename": "KeyboardInterrupt",
       "evalue": "",
       "output_type": "pyerr",
       "traceback": [
        "\u001b[0;31m---------------------------------------------------------------------------\u001b[0m\n\u001b[0;31mKeyboardInterrupt\u001b[0m                         Traceback (most recent call last)",
        "\u001b[0;32m/opt/local/Library/Frameworks/Python.framework/Versions/2.7/lib/python2.7/site-packages/matplotlib/backends/backend_macosx.pyc\u001b[0m in \u001b[0;36mclose\u001b[0;34m(self)\u001b[0m\n\u001b[1;32m    381\u001b[0m \u001b[0;34m\u001b[0m\u001b[0m\n\u001b[1;32m    382\u001b[0m     \u001b[0;32mdef\u001b[0m \u001b[0mclose\u001b[0m\u001b[0;34m(\u001b[0m\u001b[0mself\u001b[0m\u001b[0;34m)\u001b[0m\u001b[0;34m:\u001b[0m\u001b[0;34m\u001b[0m\u001b[0m\n\u001b[0;32m--> 383\u001b[0;31m         \u001b[0mGcf\u001b[0m\u001b[0;34m.\u001b[0m\u001b[0mdestroy\u001b[0m\u001b[0;34m(\u001b[0m\u001b[0mself\u001b[0m\u001b[0;34m.\u001b[0m\u001b[0mnum\u001b[0m\u001b[0;34m)\u001b[0m\u001b[0;34m\u001b[0m\u001b[0m\n\u001b[0m\u001b[1;32m    384\u001b[0m \u001b[0;34m\u001b[0m\u001b[0m\n\u001b[1;32m    385\u001b[0m \u001b[0;34m\u001b[0m\u001b[0m\n",
        "\u001b[0;32m/opt/local/Library/Frameworks/Python.framework/Versions/2.7/lib/python2.7/site-packages/matplotlib/_pylab_helpers.pyc\u001b[0m in \u001b[0;36mdestroy\u001b[0;34m(num)\u001b[0m\n\u001b[1;32m     68\u001b[0m         \u001b[0;31m#print len(Gcf.figs.keys()), len(Gcf._activeQue)\u001b[0m\u001b[0;34m\u001b[0m\u001b[0;34m\u001b[0m\u001b[0m\n\u001b[1;32m     69\u001b[0m         \u001b[0mmanager\u001b[0m\u001b[0;34m.\u001b[0m\u001b[0mdestroy\u001b[0m\u001b[0;34m(\u001b[0m\u001b[0;34m)\u001b[0m\u001b[0;34m\u001b[0m\u001b[0m\n\u001b[0;32m---> 70\u001b[0;31m         \u001b[0mgc\u001b[0m\u001b[0;34m.\u001b[0m\u001b[0mcollect\u001b[0m\u001b[0;34m(\u001b[0m\u001b[0;34m)\u001b[0m\u001b[0;34m\u001b[0m\u001b[0m\n\u001b[0m\u001b[1;32m     71\u001b[0m \u001b[0;34m\u001b[0m\u001b[0m\n\u001b[1;32m     72\u001b[0m     \u001b[0;34m@\u001b[0m\u001b[0mstaticmethod\u001b[0m\u001b[0;34m\u001b[0m\u001b[0m\n",
        "\u001b[0;31mKeyboardInterrupt\u001b[0m: "
       ]
      }
     ]
    },
    {
     "cell_type": "code",
     "collapsed": false,
     "input": [
      "import numpy as np\n",
      "import pylab as plt"
     ],
     "language": "python",
     "metadata": {},
     "outputs": [],
     "prompt_number": 1
    },
    {
     "cell_type": "code",
     "collapsed": false,
     "input": [
      "cd /Users/Carlos/Documents/HERMES/reductions/6.2/HD285507_1arc_6.2/"
     ],
     "language": "python",
     "metadata": {},
     "outputs": [
      {
       "output_type": "stream",
       "stream": "stdout",
       "text": [
        "/Users/Carlos/Documents/HERMES/reductions/6.2/HD285507_1arc_6.2\n"
       ]
      }
     ],
     "prompt_number": 5
    },
    {
     "cell_type": "code",
     "collapsed": false,
     "input": [
      "allW = np.load('npy/allW_DM.npy')\n",
      "allW[0,:,0][0]"
     ],
     "language": "python",
     "metadata": {},
     "outputs": [
      {
       "metadata": {},
       "output_type": "pyout",
       "prompt_number": 19,
       "text": [
        "0.0"
       ]
      }
     ],
     "prompt_number": 19
    },
    {
     "cell_type": "code",
     "collapsed": false,
     "input": [
      "\n",
      "# deltay = np.linspace(0, 4000)\n",
      "# deltay = np.linspace(-2000, 2000)\n",
      "# deltay = np.linspace(-4000, 0)\n",
      "# SNRs = np.ones(50)*30\n",
      "# SNRs = np.linspace(10, 100)\n",
      "# SNRs = np.linspace(100, 10)\n",
      "# W = calibrator_weights2(deltay,SNRs)\n",
      "\n",
      "data=np.load('npy/data.npy')\n",
      "# RVs=np.load('npy/RVs.npy')\n",
      "SNRs=np.load('npy/SNRs.npy')\n",
      "allW = np.load('npy/allW_PM.npy')\n",
      "idx = np.where(data[:,0]=='Giant01')[0]\n",
      "for cam in range(4):\n",
      "    W = allW[:,cam,idx]\n",
      "\n",
      "    thisSNRs = SNRs[:,0,cam]\n",
      "\n",
      "#     plt.plot(deltay/np.max(np.abs(deltay)), label = 'deltay')\n",
      "    plt.plot(thisSNRs, label= 'SNR')\n",
      "    plt.plot(W*np.nanmax(thisSNRs), label = 'W')\n",
      "    plt.legend(loc=0)\n",
      "    # title = 'PM - deltay '+str(np.min(deltay))+','+str(np.max(deltay))+' - SNR '+str(np.min(SNRs))+','+str(np.max(SNRs))\n",
      "#     title = 'DM - deltay '+str(np.min(deltay))+','+str(np.max(deltay))+' - SNR '+str(np.min(SNRs))+','+str(np.max(SNRs))\n",
      "    title = 'PM - cam '+str(cam)+ ' ,' + str(data[idx])\n",
      "    plt.title(title)\n",
      "    plt.grid(True)\n",
      "    plt.savefig(('PM_'+str(cam)))\n",
      "    plt.show()\n"
     ],
     "language": "python",
     "metadata": {},
     "outputs": [],
     "prompt_number": 28
    },
    {
     "cell_type": "code",
     "collapsed": false,
     "input": [
      "import numpy as np"
     ],
     "language": "python",
     "metadata": {},
     "outputs": [],
     "prompt_number": 29
    },
    {
     "cell_type": "code",
     "collapsed": false,
     "input": [
      "def create_allW(data = [], SNRs = []):\n",
      "\n",
      "    if ((data!=[]) and (SNRs!=[])):\n",
      "\n",
      "        #load function that translates pivot# to y-pixel  p2y(pivot)=y-pixel of pivot\n",
      "        p2y = RVT.pivot_to_y('/Users/Carlos/Documents/HERMES/reductions/6.2//rhoTuc_6.2/0_20aug/1/20aug10042tlm.fits') \n",
      "\n",
      "        #gets the y position of for the data array\n",
      "        datay = p2y[data[:,2].astype(float).astype(int)]\n",
      "\n",
      "        #Creates empty array for relative weights\n",
      "        #allW[Weights, camera, staridx of the star to be corrected]\n",
      "        allW = np.zeros((data.shape[0],4,data.shape[0]))\n",
      "\n",
      "        for thisStarIdx in range(data.shape[0]):\n",
      "\n",
      "            #converts datay into deltay\n",
      "            deltay = datay-datay[thisStarIdx]\n",
      "            for cam in range(2):\n",
      "\n",
      "                thisSNRs = SNRs[:,0,cam].copy()\n",
      "                thisSNRs[np.isnan(thisSNRs)]=1  #sets NaNs into SNR=1 \n",
      "\n",
      "                W = calibrator_weights(deltay,thisSNRs)\n",
      "                allW[:,cam,thisStarIdx] = W\n",
      "\n",
      "                order = np.argsort(deltay)\n",
      "                plt.plot(deltay[order], label = 'deltay')\n",
      "                plt.plot(thisSNRs[order], label= 'SNR')\n",
      "                plt.plot((W*np.max(deltay))[order], label = 'W')\n",
      "                plt.legend(loc=0)\n",
      "                plt.show()\n",
      "\n",
      "        # a= pd.DataFrame(deltay)\n",
      "        # # a.columns = labels\n",
      "        # print a.head(n=40)\n",
      "        # print W, np.sum(W)\n",
      "    else:\n",
      "        print 'Create allW: Input arrays missing'\n",
      "        allW =[]\n",
      "\n",
      "    return allW"
     ],
     "language": "python",
     "metadata": {},
     "outputs": [],
     "prompt_number": 225
    },
    {
     "cell_type": "code",
     "collapsed": false,
     "input": [
      "def create_RVCorr(RVs, allW, RVClip = 1e17):\n",
      "    RVCorr = np.zeros(RVs.shape)\n",
      "    RVs[np.abs(RVs)>RVClip]=0\n",
      "    for thisStarIdx in range(data.shape[0]):\n",
      "        for epoch in range(RVs.shape[1]):\n",
      "            for cam in range(4):\n",
      "                RVCorr[thisStarIdx,epoch,cam] = np.nansum(allW[:,cam,thisStarIdx]*RVs[:,epoch,cam])\n",
      "    return RVCorr"
     ],
     "language": "python",
     "metadata": {},
     "outputs": [],
     "prompt_number": 196
    },
    {
     "cell_type": "code",
     "collapsed": false,
     "input": [
      "# for i in range(40):\n",
      "i=37\n",
      "plt.plot(RVs[i,:,0], label = 'RV')\n",
      "plt.plot(RV_corr[i,:,0], label = 'Correction')\n",
      "plt.plot(RVs[i,:,0]-RV_corr[i,:,0], label = 'Result', marker = 'o')\n",
      "plt.legend(loc=0)\n",
      "plt.show()"
     ],
     "language": "python",
     "metadata": {},
     "outputs": [],
     "prompt_number": 207
    },
    {
     "cell_type": "code",
     "collapsed": false,
     "input": [
      "np.where(data[:,0]=='Giant01')"
     ],
     "language": "python",
     "metadata": {},
     "outputs": [
      {
       "metadata": {},
       "output_type": "pyout",
       "prompt_number": 200,
       "text": [
        "(array([37]),)"
       ]
      }
     ],
     "prompt_number": 200
    },
    {
     "cell_type": "code",
     "collapsed": false,
     "input": [
      "for epoch in range(RVs.shape[1]):\n",
      "    print np.sum(RVs[:,epoch,1])/RVs.shape[1]"
     ],
     "language": "python",
     "metadata": {},
     "outputs": [
      {
       "output_type": "stream",
       "stream": "stdout",
       "text": [
        "-0.539946278749\n",
        "-3.45524326526\n",
        "-932.980489985\n",
        "4242.00323325\n",
        "-223327.75829\n",
        "-76907.1607644\n",
        "107062.025807\n",
        "6352.94843317\n",
        "-19305.4846315\n",
        "331195.393808\n",
        "184005.166116\n",
        "-20684.5254525\n",
        "808035.415234\n",
        "-958768.334962\n",
        "425478.015827\n"
       ]
      }
     ],
     "prompt_number": 30
    },
    {
     "cell_type": "code",
     "collapsed": false,
     "input": [
      "def create_corrRVs(RVs,W):\n",
      "#Creates corrRVs with RV corrections for each RV. \n",
      "#has the same shape than RVs and W\n",
      "#RVs-corrRVs = trueRVs (values without systematics)\n",
      "\n",
      "    corrRVs = np.ones(RVs.shape)*np.nan\n",
      "    \n",
      "    #1 - loop retarded method. should be array operation.\n",
      "    \n",
      "    #check shape\n",
      "    if ((RVs.shape==W.shape[:3]) and (len(W.shape)==4) and (RVs.shape[0]==W.shape[3])):\n",
      "        for thisStaridx in range(RVs.shape[0]):\n",
      "            for epoch in range(RVs.shape[1]):\n",
      "                for cam in range(RVs.shape[2]):\n",
      "                    corrRVs[thisStaridx,epoch,cam] = np.sum(RVs[:,epoch,cam]*W[:,epoch,cam,thisStaridx])\n",
      "                \n",
      "    else:\n",
      "        print 'Bad array shape.'\n",
      "        print 'RVs=', RVs.shape\n",
      "        print 'W=', W.shape\n",
      "        \n",
      "    return corrRVs"
     ],
     "language": "python",
     "metadata": {},
     "outputs": [],
     "prompt_number": 151
    },
    {
     "cell_type": "heading",
     "level": 3,
     "metadata": {},
     "source": [
      "Solar Spectrum"
     ]
    },
    {
     "cell_type": "code",
     "collapsed": false,
     "input": [
      "import pyfits as pf\n",
      "import pylab as plt\n",
      "import RVTools as RVT\n",
      "\n",
      "fileList = glob.glob('cam1/*.fits')\n",
      "b=[]\n",
      "wl = RVT.extract_HERMES_wavelength(fileList[0])\n",
      "#build fibre filter\n",
      "a = pf.open(fileList[0])\n",
      "filt = np.logical_or((a['FIBRES'].data['TYPE']=='P'),(a['FIBRES'].data['TYPE']=='S'))\n",
      "filt[175]=False\n",
      "\n",
      "plt.plot(wl,np.sum(a[0].data[filt], axis=0))\n",
      "plt.show()\n",
      "\n",
      "\n",
      "\n",
      "# for fits in fileList[:]:\n",
      "#     print 'Reading',fits\n",
      "#     a = pf.getdata(fits)\n",
      "#     if b==[]:\n",
      "#         b =a\n",
      "#     else:\n",
      "#         b+=a\n",
      "\n"
     ],
     "language": "python",
     "metadata": {},
     "outputs": [],
     "prompt_number": 88
    },
    {
     "cell_type": "heading",
     "level": 3,
     "metadata": {},
     "source": [
      "SNR 3d plots"
     ]
    },
    {
     "cell_type": "code",
     "collapsed": false,
     "input": [
      "SNRs=np.load('npy/SNRs.npy')\n",
      "Data=np.load('npy/Data.npy')\n",
      "\n",
      "labels = Data[:,0]"
     ],
     "language": "python",
     "metadata": {},
     "outputs": [],
     "prompt_number": 101
    },
    {
     "cell_type": "code",
     "collapsed": false,
     "input": [
      "from mpl_toolkits.mplot3d import Axes3D\n",
      "from matplotlib import cm\n",
      "from matplotlib.ticker import LinearLocator, FormatStrFormatter\n",
      "import matplotlib.pyplot as plt\n",
      "import numpy as np\n",
      "\n",
      "fig = plt.figure()\n",
      "ax = fig.gca(projection='3d')\n",
      "# X = np.arange(-5, 5, 0.25)\n",
      "# Y = np.arange(-5, 5, 0.25)\n",
      "X = np.arange(SNRs.shape[1])\n",
      "Y = np.arange(SNRs.shape[0])\n",
      "X, Y = np.meshgrid(X, Y)\n",
      "# R = np.sqrt(X**2 + Y**2)\n",
      "Z = SNRs[:,:,0]\n",
      "surf = ax.plot_surface(X, Y, Z, rstride=1, cstride=1, cmap=cm.jet, linewidth=0,  vmin=0, vmax=100, antialiased=True)\n",
      "ax.set_xlabel('Epoch')\n",
      "ax.set_ylabel('Star')\n",
      "ax.set_zlabel('SNR')\n",
      "# ax.set_zlim(-1.01, 1.01)\n",
      "ax.set_yticks(np.arange(0,SNRs.shape[0],5))\n",
      "# ax.set_yticklabels(labels)\n",
      "# ax.zaxis.set_major_locator(LinearLocator(10))\n",
      "# ax.zaxis.set_major_formatter(FormatStrFormatter('%.02f'))\n",
      "\n",
      "# fig.colorbar(surf, shrink=0.5, aspect=5)\n",
      "\n",
      "plt.show()\n",
      "\n"
     ],
     "language": "python",
     "metadata": {},
     "outputs": [],
     "prompt_number": 121
    },
    {
     "cell_type": "heading",
     "level": 3,
     "metadata": {},
     "source": [
      "Comments array"
     ]
    },
    {
     "cell_type": "code",
     "collapsed": false,
     "input": [
      "def comment(star, epoch, cam, comment):\n",
      "    comments = []\n",
      "    try:\n",
      "        comments = np.load('npy/comments.npy')\n",
      "    except:\n",
      "        pass\n",
      "    \n",
      "    if comments==[]:\n",
      "        comments = np.zeros((1,),dtype=('i4,i4,i4,a10'))\n",
      "        comments[:] = [(star, epoch, cam, comment)]\n",
      "    else:\n",
      "        x = np.zeros((1,),dtype=('i4,i4,i4,a10'))\n",
      "        x[:] = [(star, epoch, cam, comment)]\n",
      "        print x,comments\n",
      "        comments = np.append(comments,x)\n",
      "    \n",
      "    np.save('npy/comments.npy',comments)\n",
      "        "
     ],
     "language": "python",
     "metadata": {},
     "outputs": [],
     "prompt_number": 236
    },
    {
     "cell_type": "code",
     "collapsed": false,
     "input": [
      "comment(0,0,0,'test')"
     ],
     "language": "python",
     "metadata": {},
     "outputs": [
      {
       "output_type": "stream",
       "stream": "stdout",
       "text": [
        "[(0, 0, 0, 'test')] [(0, 0, 0, 'test') (0, 0, 0, 'test')]\n"
       ]
      }
     ],
     "prompt_number": 240
    },
    {
     "cell_type": "code",
     "collapsed": false,
     "input": [
      "c = np.load('npy/comments.npy')\n",
      "d = np.load('npy/data.npy')"
     ],
     "language": "python",
     "metadata": {},
     "outputs": [],
     "prompt_number": 278
    },
    {
     "cell_type": "code",
     "collapsed": false,
     "input": [
      "d[1]"
     ],
     "language": "python",
     "metadata": {},
     "outputs": [
      {
       "metadata": {},
       "output_type": "pyout",
       "prompt_number": 264,
       "text": [
        "array(['Field03', '8.23', '163.0', '61.5841', '15.2324'], \n",
        "      dtype='|S7')"
       ]
      }
     ],
     "prompt_number": 264
    },
    {
     "cell_type": "code",
     "collapsed": false,
     "input": [
      "filename = 'obj/Field03.obj'\n",
      "# filename = 'red_Giant01.obj'\n",
      "filehandler = open(filename, 'r')\n",
      "thisStar = pickle.load(filehandler)"
     ],
     "language": "python",
     "metadata": {},
     "outputs": [],
     "prompt_number": 266
    },
    {
     "cell_type": "code",
     "collapsed": false,
     "input": [
      "from scipy import stats"
     ],
     "language": "python",
     "metadata": {},
     "outputs": [],
     "prompt_number": 271
    },
    {
     "cell_type": "code",
     "collapsed": false,
     "input": [
      "thisCam = thisStar.exposures.cameras[0]"
     ],
     "language": "python",
     "metadata": {},
     "outputs": [],
     "prompt_number": 268
    },
    {
     "cell_type": "code",
     "collapsed": false,
     "input": [
      "stats.nanmedian(thisCam.red_fluxes[13])"
     ],
     "language": "python",
     "metadata": {},
     "outputs": [
      {
       "metadata": {},
       "output_type": "pyout",
       "prompt_number": 277,
       "text": [
        "-0.45516538619995117"
       ]
      }
     ],
     "prompt_number": 277
    },
    {
     "cell_type": "code",
     "collapsed": false,
     "input": [
      "c"
     ],
     "language": "python",
     "metadata": {},
     "outputs": [
      {
       "metadata": {},
       "output_type": "pyout",
       "prompt_number": 279,
       "text": [
        "array([ (1, 12, 0, 'NaN in SNR calculation sqrt(median(flux)).0/4096 NaNs in flux. Median_flux=-0.17514705658'),\n",
        "       (1, 13, 0, 'NaN in SNR calculation sqrt(median(flux)).0/4096 NaNs in flux. Median_flux=-0.470161437988'),\n",
        "       (1, 14, 0, 'NaN in SNR calculation sqrt(median(flux)).0/4096 NaNs in flux. Median_flux=-0.475373744965'),\n",
        "       (1, 12, 1, 'NaN in SNR calculation sqrt(median(flux)).5/4096 NaNs in flux. Median_flux=-0.834659576416'),\n",
        "       (2, 12, 0, 'NaN in SNR calculation sqrt(median(flux)).0/4096 NaNs in flux. Median_flux=-5.56601333618'),\n",
        "       (2, 13, 0, 'NaN in SNR calculation sqrt(median(flux)).0/4096 NaNs in flux. Median_flux=-4.38814878464'),\n",
        "       (2, 14, 0, 'NaN in SNR calculation sqrt(median(flux)).0/4096 NaNs in flux. Median_flux=-3.37512588501'),\n",
        "       (4, 12, 0, 'NaN in SNR calculation sqrt(median(flux)).0/4096 NaNs in flux. Median_flux=-0.146667957306'),\n",
        "       (4, 13, 0, 'NaN in SNR calculation sqrt(median(flux)).0/4096 NaNs in flux. Median_flux=-0.388199806213'),\n",
        "       (4, 14, 0, 'NaN in SNR calculation sqrt(median(flux)).0/4096 NaNs in flux. Median_flux=-0.257717609406'),\n",
        "       (4, 14, 1, 'NaN in SNR calculation sqrt(median(flux)).6/4096 NaNs in flux. Median_flux=-0.74618434906'),\n",
        "       (12, 12, 0, 'NaN in SNR calculation sqrt(median(flux)).0/4096 NaNs in flux. Median_flux=-1.29678630829'),\n",
        "       (12, 13, 0, 'NaN in SNR calculation sqrt(median(flux)).0/4096 NaNs in flux. Median_flux=-1.80226135254'),\n",
        "       (12, 14, 0, 'NaN in SNR calculation sqrt(median(flux)).0/4096 NaNs in flux. Median_flux=-1.13592195511'),\n",
        "       (12, 12, 1, 'NaN in SNR calculation sqrt(median(flux)).6/4096 NaNs in flux. Median_flux=-2.81891775131'),\n",
        "       (12, 13, 1, 'NaN in SNR calculation sqrt(median(flux)).6/4096 NaNs in flux. Median_flux=-5.250248909'),\n",
        "       (12, 14, 1, 'NaN in SNR calculation sqrt(median(flux)).6/4096 NaNs in flux. Median_flux=-5.26552963257'),\n",
        "       (12, 12, 2, 'NaN in SNR calculation sqrt(median(flux)).10/4096 NaNs in flux. Median_flux=-2.16948127747'),\n",
        "       (12, 13, 2, 'NaN in SNR calculation sqrt(median(flux)).10/4096 NaNs in flux. Median_flux=-4.18310832977'),\n",
        "       (12, 14, 2, 'NaN in SNR calculation sqrt(median(flux)).10/4096 NaNs in flux. Median_flux=-1.13767623901'),\n",
        "       (12, 13, 3, 'NaN in SNR calculation sqrt(median(flux)).13/4096 NaNs in flux. Median_flux=-0.507913589478'),\n",
        "       (12, 14, 3, 'NaN in SNR calculation sqrt(median(flux)).13/4096 NaNs in flux. Median_flux=-0.734003067017'),\n",
        "       (14, 12, 0, 'NaN in SNR calculation sqrt(median(flux)).0/4096 NaNs in flux. Median_flux=-3.93299913406'),\n",
        "       (14, 13, 0, 'NaN in SNR calculation sqrt(median(flux)).0/4096 NaNs in flux. Median_flux=-1.87835264206'),\n",
        "       (14, 14, 0, 'NaN in SNR calculation sqrt(median(flux)).0/4096 NaNs in flux. Median_flux=-2.74206590652'),\n",
        "       (16, 12, 0, 'NaN in SNR calculation sqrt(median(flux)).0/4096 NaNs in flux. Median_flux=-1.69097518921'),\n",
        "       (16, 14, 0, 'NaN in SNR calculation sqrt(median(flux)).0/4096 NaNs in flux. Median_flux=-0.525924682617'),\n",
        "       (21, 12, 0, 'NaN in SNR calculation sqrt(median(flux)).0/4096 NaNs in flux. Median_flux=-1.13820314407'),\n",
        "       (21, 13, 0, 'NaN in SNR calculation sqrt(median(flux)).0/4096 NaNs in flux. Median_flux=-1.60039949417'),\n",
        "       (21, 14, 0, 'NaN in SNR calculation sqrt(median(flux)).0/4096 NaNs in flux. Median_flux=-1.12902069092'),\n",
        "       (21, 14, 1, 'NaN in SNR calculation sqrt(median(flux)).6/4096 NaNs in flux. Median_flux=-3.23943471909'),\n",
        "       (22, 0, 0, 'NaN in SNR calculation sqrt(median(flux)).0/4096 NaNs in flux. Median_flux=-1.350025177'),\n",
        "       (22, 1, 0, 'NaN in SNR calculation sqrt(median(flux)).0/4096 NaNs in flux. Median_flux=-0.401237010956'),\n",
        "       (22, 2, 0, 'NaN in SNR calculation sqrt(median(flux)).0/4096 NaNs in flux. Median_flux=-1.78425788879'),\n",
        "       (22, 3, 0, 'NaN in SNR calculation sqrt(median(flux)).0/4096 NaNs in flux. Median_flux=-0.241192817688'),\n",
        "       (22, 11, 0, 'NaN in SNR calculation sqrt(median(flux)).0/4096 NaNs in flux. Median_flux=-0.47969865799'),\n",
        "       (22, 12, 0, 'NaN in SNR calculation sqrt(median(flux)).0/4096 NaNs in flux. Median_flux=-7.23119568825'),\n",
        "       (22, 13, 0, 'NaN in SNR calculation sqrt(median(flux)).0/4096 NaNs in flux. Median_flux=-5.71960496902'),\n",
        "       (22, 14, 0, 'NaN in SNR calculation sqrt(median(flux)).0/4096 NaNs in flux. Median_flux=-4.86896944046'),\n",
        "       (22, 14, 1, 'NaN in SNR calculation sqrt(median(flux)).18/4096 NaNs in flux. Median_flux=-2.22630643845'),\n",
        "       (22, 12, 3, 'NaN in SNR calculation sqrt(median(flux)).15/4096 NaNs in flux. Median_flux=-0.387964248657'),\n",
        "       (22, 14, 3, 'NaN in SNR calculation sqrt(median(flux)).15/4096 NaNs in flux. Median_flux=-1.66260242462'),\n",
        "       (24, 12, 0, 'NaN in SNR calculation sqrt(median(flux)).0/4096 NaNs in flux. Median_flux=-2.39891672134'),\n",
        "       (24, 13, 0, 'NaN in SNR calculation sqrt(median(flux)).0/4096 NaNs in flux. Median_flux=-1.30232048035'),\n",
        "       (24, 14, 0, 'NaN in SNR calculation sqrt(median(flux)).0/4096 NaNs in flux. Median_flux=-0.889474868774'),\n",
        "       (29, 12, 0, 'NaN in SNR calculation sqrt(median(flux)).0/4096 NaNs in flux. Median_flux=-0.809796333313'),\n",
        "       (34, 12, 0, 'NaN in SNR calculation sqrt(median(flux)).0/4096 NaNs in flux. Median_flux=-0.273524284363'),\n",
        "       (34, 13, 0, 'NaN in SNR calculation sqrt(median(flux)).0/4096 NaNs in flux. Median_flux=-1.6063041687'),\n",
        "       (34, 14, 0, 'NaN in SNR calculation sqrt(median(flux)).0/4096 NaNs in flux. Median_flux=-1.11409759521'),\n",
        "       (34, 13, 1, 'NaN in SNR calculation sqrt(median(flux)).5/4096 NaNs in flux. Median_flux=-3.58397388458'),\n",
        "       (34, 14, 1, 'NaN in SNR calculation sqrt(median(flux)).5/4096 NaNs in flux. Median_flux=-5.79458332062'),\n",
        "       (35, 12, 0, 'NaN in SNR calculation sqrt(median(flux)).0/4096 NaNs in flux. Median_flux=-7.2685983181'),\n",
        "       (35, 13, 0, 'NaN in SNR calculation sqrt(median(flux)).0/4096 NaNs in flux. Median_flux=-5.87208890915'),\n",
        "       (35, 14, 0, 'NaN in SNR calculation sqrt(median(flux)).0/4096 NaNs in flux. Median_flux=-4.24668264389'),\n",
        "       (35, 13, 1, 'NaN in SNR calculation sqrt(median(flux)).25/4096 NaNs in flux. Median_flux=-3.83182525635'),\n",
        "       (36, 12, 0, 'NaN in SNR calculation sqrt(median(flux)).0/4096 NaNs in flux. Median_flux=-3.92070531845'),\n",
        "       (36, 13, 0, 'NaN in SNR calculation sqrt(median(flux)).0/4096 NaNs in flux. Median_flux=-1.76347351074'),\n",
        "       (36, 14, 0, 'NaN in SNR calculation sqrt(median(flux)).0/4096 NaNs in flux. Median_flux=-1.46825313568'),\n",
        "       (49, 12, 0, 'NaN in SNR calculation sqrt(median(flux)).0/4096 NaNs in flux. Median_flux=-4.26277256012'),\n",
        "       (49, 13, 0, 'NaN in SNR calculation sqrt(median(flux)).0/4096 NaNs in flux. Median_flux=-3.03523683548'),\n",
        "       (49, 14, 0, 'NaN in SNR calculation sqrt(median(flux)).0/4096 NaNs in flux. Median_flux=-3.58376741409'),\n",
        "       (50, 0, 0, 'NaN in SNR calculation sqrt(median(flux)).0/4096 NaNs in flux. Median_flux=-0.347528219223'),\n",
        "       (50, 3, 0, 'NaN in SNR calculation sqrt(median(flux)).0/4096 NaNs in flux. Median_flux=-7.34639692307'),\n",
        "       (50, 4, 0, 'NaN in SNR calculation sqrt(median(flux)).0/4096 NaNs in flux. Median_flux=-8.56565189362'),\n",
        "       (50, 5, 0, 'NaN in SNR calculation sqrt(median(flux)).0/4096 NaNs in flux. Median_flux=-7.40063047409'),\n",
        "       (50, 6, 0, 'NaN in SNR calculation sqrt(median(flux)).0/4096 NaNs in flux. Median_flux=-5.15287017822'),\n",
        "       (50, 7, 0, 'NaN in SNR calculation sqrt(median(flux)).0/4096 NaNs in flux. Median_flux=-4.82232046127'),\n",
        "       (50, 8, 0, 'NaN in SNR calculation sqrt(median(flux)).0/4096 NaNs in flux. Median_flux=-3.48686981201'),\n",
        "       (50, 9, 0, 'NaN in SNR calculation sqrt(median(flux)).0/4096 NaNs in flux. Median_flux=-7.08921527863'),\n",
        "       (50, 10, 0, 'NaN in SNR calculation sqrt(median(flux)).0/4096 NaNs in flux. Median_flux=-7.32186794281'),\n",
        "       (50, 11, 0, 'NaN in SNR calculation sqrt(median(flux)).0/4096 NaNs in flux. Median_flux=-5.84234714508'),\n",
        "       (50, 12, 0, 'NaN in SNR calculation sqrt(median(flux)).0/4096 NaNs in flux. Median_flux=-7.68106269836'),\n",
        "       (50, 13, 0, 'NaN in SNR calculation sqrt(median(flux)).0/4096 NaNs in flux. Median_flux=-5.89091300964'),\n",
        "       (50, 14, 0, 'NaN in SNR calculation sqrt(median(flux)).0/4096 NaNs in flux. Median_flux=-4.77114009857'),\n",
        "       (50, 3, 1, 'NaN in SNR calculation sqrt(median(flux)).20/4096 NaNs in flux. Median_flux=-4.45556163788'),\n",
        "       (50, 4, 1, 'NaN in SNR calculation sqrt(median(flux)).20/4096 NaNs in flux. Median_flux=-3.6203660965'),\n",
        "       (50, 5, 1, 'NaN in SNR calculation sqrt(median(flux)).20/4096 NaNs in flux. Median_flux=-1.44840431213'),\n",
        "       (50, 6, 1, 'NaN in SNR calculation sqrt(median(flux)).20/4096 NaNs in flux. Median_flux=-1.39612102509'),\n",
        "       (50, 7, 1, 'NaN in SNR calculation sqrt(median(flux)).20/4096 NaNs in flux. Median_flux=-1.43480539322'),\n",
        "       (50, 11, 1, 'NaN in SNR calculation sqrt(median(flux)).20/4096 NaNs in flux. Median_flux=-1.91191911697'),\n",
        "       (50, 13, 1, 'NaN in SNR calculation sqrt(median(flux)).20/4096 NaNs in flux. Median_flux=-1.33440876007'),\n",
        "       (50, 3, 3, 'NaN in SNR calculation sqrt(median(flux)).15/4096 NaNs in flux. Median_flux=-8.47940063477'),\n",
        "       (50, 14, 3, 'NaN in SNR calculation sqrt(median(flux)).15/4096 NaNs in flux. Median_flux=-1.31502437592'),\n",
        "       (55, 12, 0, 'NaN in SNR calculation sqrt(median(flux)).0/4096 NaNs in flux. Median_flux=-7.73991346359'),\n",
        "       (55, 13, 0, 'NaN in SNR calculation sqrt(median(flux)).0/4096 NaNs in flux. Median_flux=-6.69274711609'),\n",
        "       (55, 14, 0, 'NaN in SNR calculation sqrt(median(flux)).0/4096 NaNs in flux. Median_flux=-5.32995605469'),\n",
        "       (56, 12, 0, 'NaN in SNR calculation sqrt(median(flux)).0/4096 NaNs in flux. Median_flux=-4.22220802307'),\n",
        "       (56, 13, 0, 'NaN in SNR calculation sqrt(median(flux)).0/4096 NaNs in flux. Median_flux=-2.48891019821'),\n",
        "       (56, 14, 0, 'NaN in SNR calculation sqrt(median(flux)).0/4096 NaNs in flux. Median_flux=-2.84676933289'),\n",
        "       (57, 12, 0, 'NaN in SNR calculation sqrt(median(flux)).0/4096 NaNs in flux. Median_flux=-4.96504592896'),\n",
        "       (57, 13, 0, 'NaN in SNR calculation sqrt(median(flux)).0/4096 NaNs in flux. Median_flux=-3.59228801727'),\n",
        "       (57, 14, 0, 'NaN in SNR calculation sqrt(median(flux)).0/4096 NaNs in flux. Median_flux=-3.17597484589'),\n",
        "       (60, 12, 0, 'NaN in SNR calculation sqrt(median(flux)).0/4096 NaNs in flux. Median_flux=-4.62888669968'),\n",
        "       (60, 13, 0, 'NaN in SNR calculation sqrt(median(flux)).0/4096 NaNs in flux. Median_flux=-3.67833805084'),\n",
        "       (60, 14, 0, 'NaN in SNR calculation sqrt(median(flux)).0/4096 NaNs in flux. Median_flux=-3.35909700394'),\n",
        "       (60, 14, 1, 'NaN in SNR calculation sqrt(median(flux)).7/4096 NaNs in flux. Median_flux=-1.32264328003'),\n",
        "       (61, 12, 0, 'NaN in SNR calculation sqrt(median(flux)).0/4096 NaNs in flux. Median_flux=-0.246114730835'),\n",
        "       (61, 13, 0, 'NaN in SNR calculation sqrt(median(flux)).0/4096 NaNs in flux. Median_flux=-0.524914741516'),\n",
        "       (61, 14, 0, 'NaN in SNR calculation sqrt(median(flux)).0/4096 NaNs in flux. Median_flux=-1.27792167664'),\n",
        "       (61, 12, 1, 'NaN in SNR calculation sqrt(median(flux)).5/4096 NaNs in flux. Median_flux=-0.513337135315'),\n",
        "       (61, 13, 1, 'NaN in SNR calculation sqrt(median(flux)).5/4096 NaNs in flux. Median_flux=-0.0158615112305'),\n",
        "       (61, 14, 1, 'NaN in SNR calculation sqrt(median(flux)).5/4096 NaNs in flux. Median_flux=-6.32315158844'),\n",
        "       (66, 12, 0, 'NaN in SNR calculation sqrt(median(flux)).0/4096 NaNs in flux. Median_flux=-1.69349431992'),\n",
        "       (66, 13, 0, 'NaN in SNR calculation sqrt(median(flux)).0/4096 NaNs in flux. Median_flux=-1.48229026794'),\n",
        "       (66, 14, 0, 'NaN in SNR calculation sqrt(median(flux)).0/4096 NaNs in flux. Median_flux=-1.58761167526'),\n",
        "       (66, 12, 1, 'NaN in SNR calculation sqrt(median(flux)).5/4096 NaNs in flux. Median_flux=-0.495515823364'),\n",
        "       (66, 13, 1, 'NaN in SNR calculation sqrt(median(flux)).5/4096 NaNs in flux. Median_flux=-1.19311618805'),\n",
        "       (66, 13, 2, 'NaN in SNR calculation sqrt(median(flux)).10/4096 NaNs in flux. Median_flux=-1.8920917511'),\n",
        "       (66, 14, 2, 'NaN in SNR calculation sqrt(median(flux)).10/4096 NaNs in flux. Median_flux=-0.124448776245'),\n",
        "       (70, 12, 1, 'NaN in SNR calculation sqrt(median(flux)).16/4096 NaNs in flux. Median_flux=-3.45439004898'),\n",
        "       (70, 13, 1, 'NaN in SNR calculation sqrt(median(flux)).16/4096 NaNs in flux. Median_flux=-1.9696893692'),\n",
        "       (70, 14, 1, 'NaN in SNR calculation sqrt(median(flux)).16/4096 NaNs in flux. Median_flux=-2.62617492676'),\n",
        "       (70, 12, 3, 'NaN in SNR calculation sqrt(median(flux)).16/4096 NaNs in flux. Median_flux=-0.790888786316'),\n",
        "       (70, 13, 3, 'NaN in SNR calculation sqrt(median(flux)).16/4096 NaNs in flux. Median_flux=-0.0449476242065'),\n",
        "       (72, 12, 0, 'NaN in SNR calculation sqrt(median(flux)).0/4096 NaNs in flux. Median_flux=-5.33062362671'),\n",
        "       (72, 13, 0, 'NaN in SNR calculation sqrt(median(flux)).0/4096 NaNs in flux. Median_flux=-3.96641540527'),\n",
        "       (72, 14, 0, 'NaN in SNR calculation sqrt(median(flux)).0/4096 NaNs in flux. Median_flux=-4.06905221939'),\n",
        "       (72, 14, 1, 'NaN in SNR calculation sqrt(median(flux)).9/4096 NaNs in flux. Median_flux=-1.46790313721'),\n",
        "       (72, 12, 3, 'NaN in SNR calculation sqrt(median(flux)).13/4096 NaNs in flux. Median_flux=-4.24663925171'),\n",
        "       (72, 13, 3, 'NaN in SNR calculation sqrt(median(flux)).13/4096 NaNs in flux. Median_flux=-1.86342811584'),\n",
        "       (72, 14, 3, 'NaN in SNR calculation sqrt(median(flux)).13/4096 NaNs in flux. Median_flux=-2.81780052185')], \n",
        "      dtype=[('f0', '<i4'), ('f1', '<i4'), ('f2', '<i4'), ('f3', 'S100')])"
       ]
      }
     ],
     "prompt_number": 279
    },
    {
     "cell_type": "code",
     "collapsed": false,
     "input": [
      "[np.asarray(a), np.asarray(a)]"
     ],
     "language": "python",
     "metadata": {},
     "outputs": [
      {
       "metadata": {},
       "output_type": "pyout",
       "prompt_number": 173,
       "text": [
        "array(['0', '0', '0', 'adadas'], \n",
        "      dtype='|S6')"
       ]
      }
     ],
     "prompt_number": 173
    },
    {
     "cell_type": "code",
     "collapsed": false,
     "input": [
      "x = np.zeros((2,),dtype=('i4,i4,i4,a10'))\n",
      "x[:] = [(1,2,3,'Hello'),(2,3,4,\"World\")]"
     ],
     "language": "python",
     "metadata": {},
     "outputs": [],
     "prompt_number": 181
    },
    {
     "cell_type": "code",
     "collapsed": false,
     "input": [
      "np.append(x,x)"
     ],
     "language": "python",
     "metadata": {},
     "outputs": [
      {
       "metadata": {},
       "output_type": "pyout",
       "prompt_number": 198,
       "text": [
        "array([(1, 2, 3, 'Hello'), (2, 3, 4, 'World'), (1, 2, 3, 'Hello'),\n",
        "       (2, 3, 4, 'World')], \n",
        "      dtype=[('f0', '<i4'), ('f1', '<i4'), ('f2', '<i4'), ('f3', 'S10')])"
       ]
      }
     ],
     "prompt_number": 198
    },
    {
     "cell_type": "code",
     "collapsed": false,
     "input": [
      "np.vstack((x,(1,2,3,'Hello')))"
     ],
     "language": "python",
     "metadata": {},
     "outputs": [
      {
       "ename": "ValueError",
       "evalue": "all the input array dimensions except for the concatenation axis must match exactly",
       "output_type": "pyerr",
       "traceback": [
        "\u001b[0;31m---------------------------------------------------------------------------\u001b[0m\n\u001b[0;31mValueError\u001b[0m                                Traceback (most recent call last)",
        "\u001b[0;32m<ipython-input-192-20b35db14d85>\u001b[0m in \u001b[0;36m<module>\u001b[0;34m()\u001b[0m\n\u001b[0;32m----> 1\u001b[0;31m \u001b[0mnp\u001b[0m\u001b[0;34m.\u001b[0m\u001b[0mvstack\u001b[0m\u001b[0;34m(\u001b[0m\u001b[0;34m(\u001b[0m\u001b[0mx\u001b[0m\u001b[0;34m,\u001b[0m\u001b[0;34m(\u001b[0m\u001b[0;36m1\u001b[0m\u001b[0;34m,\u001b[0m\u001b[0;36m2\u001b[0m\u001b[0;34m,\u001b[0m\u001b[0;36m3\u001b[0m\u001b[0;34m,\u001b[0m\u001b[0;34m'Hello'\u001b[0m\u001b[0;34m)\u001b[0m\u001b[0;34m)\u001b[0m\u001b[0;34m)\u001b[0m\u001b[0;34m\u001b[0m\u001b[0m\n\u001b[0m",
        "\u001b[0;32m/Users/Carlos/Library/Enthought/Canopy_64bit/User/lib/python2.7/site-packages/numpy-1.8.1-py2.7-macosx-10.6-x86_64.egg/numpy/core/shape_base.pyc\u001b[0m in \u001b[0;36mvstack\u001b[0;34m(tup)\u001b[0m\n\u001b[1;32m    226\u001b[0m \u001b[0;34m\u001b[0m\u001b[0m\n\u001b[1;32m    227\u001b[0m     \"\"\"\n\u001b[0;32m--> 228\u001b[0;31m     \u001b[0;32mreturn\u001b[0m \u001b[0m_nx\u001b[0m\u001b[0;34m.\u001b[0m\u001b[0mconcatenate\u001b[0m\u001b[0;34m(\u001b[0m\u001b[0;34m[\u001b[0m\u001b[0matleast_2d\u001b[0m\u001b[0;34m(\u001b[0m\u001b[0m_m\u001b[0m\u001b[0;34m)\u001b[0m \u001b[0;32mfor\u001b[0m \u001b[0m_m\u001b[0m \u001b[0;32min\u001b[0m \u001b[0mtup\u001b[0m\u001b[0;34m]\u001b[0m\u001b[0;34m,\u001b[0m \u001b[0;36m0\u001b[0m\u001b[0;34m)\u001b[0m\u001b[0;34m\u001b[0m\u001b[0m\n\u001b[0m\u001b[1;32m    229\u001b[0m \u001b[0;34m\u001b[0m\u001b[0m\n\u001b[1;32m    230\u001b[0m \u001b[0;32mdef\u001b[0m \u001b[0mhstack\u001b[0m\u001b[0;34m(\u001b[0m\u001b[0mtup\u001b[0m\u001b[0;34m)\u001b[0m\u001b[0;34m:\u001b[0m\u001b[0;34m\u001b[0m\u001b[0m\n",
        "\u001b[0;31mValueError\u001b[0m: all the input array dimensions except for the concatenation axis must match exactly"
       ]
      }
     ],
     "prompt_number": 192
    },
    {
     "cell_type": "heading",
     "level": 3,
     "metadata": {},
     "source": [
      "Check RVCorr"
     ]
    },
    {
     "cell_type": "code",
     "collapsed": false,
     "input": [
      "data=np.load('npy/data.npy')\n",
      "RVs=np.load('npy/RVs.npy')\n",
      "sigmas=np.load('npy/sigmas.npy')\n",
      "baryVels=np.load('npy/baryVels.npy')\n",
      "JDs=np.load('npy/JDs.npy')    \n",
      "# RVCorr_PM=np.load('npy/RVCorr_PM.npy')\n",
      "# # RVCorr_DM=np.load('npy/RVCorr_DM.npy')\n",
      "# cRVs_PM=np.load('npy/cRVs_PM.npy')\n",
      "# cRVs_DM=np.load('npy/cRVs_DM.npy')\n",
      "# cRVs_PMDM=np.load('npy/cRVs_PMDM.npy')\n"
     ],
     "language": "python",
     "metadata": {},
     "outputs": [],
     "prompt_number": 358
    },
    {
     "cell_type": "code",
     "collapsed": false,
     "input": [
      "idx = np.where(data[:,0]=='Giant01')[0][0]"
     ],
     "language": "python",
     "metadata": {},
     "outputs": [],
     "prompt_number": 348
    },
    {
     "cell_type": "code",
     "collapsed": false,
     "input": [
      "starIdx = idx\n",
      "cam = 0\n",
      "\n",
      "RVs[RVs>5000]=np.nan\n",
      "RVs[RVs<-5000]=np.nan"
     ],
     "language": "python",
     "metadata": {},
     "outputs": [],
     "prompt_number": 349
    },
    {
     "cell_type": "code",
     "collapsed": false,
     "input": [
      "plt.plot(RVs[starIdx,:,cam])\n",
      "# plt.plot(RVCorr_DM[starIdx,:,cam])\n",
      "plt.plot(RVCorr_PM[starIdx,:,cam])\n",
      "# plt.plot(RVs[starIdx,:,cam]-RVCorr_DM[starIdx,:,cam])\n",
      "plt.plot(RVs[starIdx,:,cam]-RVCorr_PM[starIdx,:,cam])\n",
      "plt.show()"
     ],
     "language": "python",
     "metadata": {},
     "outputs": [],
     "prompt_number": 357
    },
    {
     "cell_type": "code",
     "collapsed": false,
     "input": [
      "reload(RVT)"
     ],
     "language": "python",
     "metadata": {},
     "outputs": [
      {
       "metadata": {},
       "output_type": "pyout",
       "prompt_number": 339,
       "text": [
        "<module 'RVTools' from '/Users/Carlos/Documents/ipn/RVTools.py'>"
       ]
      }
     ],
     "prompt_number": 339
    },
    {
     "cell_type": "code",
     "collapsed": false,
     "input": [
      "allW_PM = RVT.create_allW(data, SNRs, starSet = [], RVCorrMethod = 'PM', refEpoch = 0) \n",
      "# RVCorr_PM = RVT.create_RVCorr_PM(RVs, allW_PM, RVClip = 2000, starSet = [])\n"
     ],
     "language": "python",
     "metadata": {},
     "outputs": [],
     "prompt_number": 351
    },
    {
     "cell_type": "code",
     "collapsed": false,
     "input": [
      "plt.plot(allW_PM[:,0,starIdx])\n",
      "plt.plot(SNRs[:,0,starIdx])\n",
      "plt.plot(W)\n",
      "plt.show()"
     ],
     "language": "python",
     "metadata": {},
     "outputs": [
      {
       "ename": "IndexError",
       "evalue": "index 42 is out of bounds for axis 2 with size 4",
       "output_type": "pyerr",
       "traceback": [
        "\u001b[0;31m---------------------------------------------------------------------------\u001b[0m\n\u001b[0;31mIndexError\u001b[0m                                Traceback (most recent call last)",
        "\u001b[0;32m<ipython-input-366-6db8a15e9bff>\u001b[0m in \u001b[0;36m<module>\u001b[0;34m()\u001b[0m\n\u001b[1;32m      1\u001b[0m \u001b[0mplt\u001b[0m\u001b[0;34m.\u001b[0m\u001b[0mplot\u001b[0m\u001b[0;34m(\u001b[0m\u001b[0mallW_PM\u001b[0m\u001b[0;34m[\u001b[0m\u001b[0;34m:\u001b[0m\u001b[0;34m,\u001b[0m\u001b[0;36m0\u001b[0m\u001b[0;34m,\u001b[0m\u001b[0mstarIdx\u001b[0m\u001b[0;34m]\u001b[0m\u001b[0;34m)\u001b[0m\u001b[0;34m\u001b[0m\u001b[0m\n\u001b[0;32m----> 2\u001b[0;31m \u001b[0mplt\u001b[0m\u001b[0;34m.\u001b[0m\u001b[0mplot\u001b[0m\u001b[0;34m(\u001b[0m\u001b[0mSNRs\u001b[0m\u001b[0;34m[\u001b[0m\u001b[0;34m:\u001b[0m\u001b[0;34m,\u001b[0m\u001b[0;36m0\u001b[0m\u001b[0;34m,\u001b[0m\u001b[0mstarIdx\u001b[0m\u001b[0;34m]\u001b[0m\u001b[0;34m)\u001b[0m\u001b[0;34m\u001b[0m\u001b[0m\n\u001b[0m\u001b[1;32m      3\u001b[0m \u001b[0mplt\u001b[0m\u001b[0;34m.\u001b[0m\u001b[0mplot\u001b[0m\u001b[0;34m(\u001b[0m\u001b[0mW\u001b[0m\u001b[0;34m)\u001b[0m\u001b[0;34m\u001b[0m\u001b[0m\n\u001b[1;32m      4\u001b[0m \u001b[0mplt\u001b[0m\u001b[0;34m.\u001b[0m\u001b[0mshow\u001b[0m\u001b[0;34m(\u001b[0m\u001b[0;34m)\u001b[0m\u001b[0;34m\u001b[0m\u001b[0m\n",
        "\u001b[0;31mIndexError\u001b[0m: index 42 is out of bounds for axis 2 with size 4"
       ]
      }
     ],
     "prompt_number": 366
    },
    {
     "cell_type": "code",
     "collapsed": false,
     "input": [
      "data[starIdx]"
     ],
     "language": "python",
     "metadata": {},
     "outputs": [
      {
       "metadata": {},
       "output_type": "pyout",
       "prompt_number": 354,
       "text": [
        "array(['Giant01', '7.67', '223.0', '61.755', '15.3350'], \n",
        "      dtype='|S7')"
       ]
      }
     ],
     "prompt_number": 354
    },
    {
     "cell_type": "code",
     "collapsed": false,
     "input": [
      "p2y = RVT.pivot_to_y('/Users/Carlos/Documents/HERMES/reductions/6.2/rhoTuc_6.2/0_20aug/1/20aug10042tlm.fits') \n",
      "datay = p2y[data[:,2].astype(float).astype(int)]\n",
      "deltay = datay-datay[starIdx]\n",
      "\n",
      "thisSigma = 1./SNRs[:,0,0].copy()\n",
      "thisSigma[np.isnan(thisSigma)]=1e+17  #sets NaNs into SNR=1e-17\n",
      "W = RVT.calibrator_weights(deltay,thisSigma)\n"
     ],
     "language": "python",
     "metadata": {},
     "outputs": [],
     "prompt_number": 362
    },
    {
     "cell_type": "code",
     "collapsed": false,
     "input": [
      "W"
     ],
     "language": "python",
     "metadata": {},
     "outputs": [
      {
       "metadata": {},
       "output_type": "pyout",
       "prompt_number": 363,
       "text": [
        "array([ -3.41307060e-04,  -6.61448266e-05,   3.68514556e-05,\n",
        "         7.48414032e-03,   1.88144826e-04,   3.46484920e-03,\n",
        "         7.14562970e-03,   2.00541855e-02,   6.46235202e-03,\n",
        "         1.84109516e-03,   9.57906022e-03,   4.83033862e-03,\n",
        "         2.06403662e-03,   3.51519374e-03,   3.93423807e-03,\n",
        "         4.97740390e-03,   3.72311776e-03,   4.38546992e-03,\n",
        "         2.25986568e-03,   2.42228464e-02,   5.21507032e-03,\n",
        "         5.71292932e-03,   5.96184057e-21,   5.96932894e-03,\n",
        "         1.36771599e-02,   1.04322905e-02,   8.16359442e-03,\n",
        "         1.65967053e-02,   1.53034180e-02,   5.44184099e-03,\n",
        "         7.81012036e-02,   7.23505390e-03,   2.64410537e-02,\n",
        "         3.46412701e-02,   2.71471756e-03,   6.67555580e-03,\n",
        "         4.42020083e-03,   2.14348929e-02,   2.45315479e-02,\n",
        "         9.86919328e-03,   1.19090976e-02,   2.85926132e-02,\n",
        "         8.85103869e-03,   7.09695924e-03,   4.56198829e-02,\n",
        "         3.14472706e-02,   1.67374779e-02,   1.17628372e-02,\n",
        "         2.42978975e-02,   1.00855233e-02,   1.41207210e-20,\n",
        "         9.37989437e-03,   7.34229007e-03,   1.93510890e-02,\n",
        "         2.22263321e-02,   6.81453823e-03,   1.68122715e-02,\n",
        "         8.29785578e-03,   2.46314635e-02,   4.71992832e-02,\n",
        "         1.67096283e-02,   1.26041501e-02,   2.31335581e-02,\n",
        "         8.45361994e-03,   2.94287068e-02,   9.33824414e-03,\n",
        "         1.07162883e-02,   8.40403447e-03,   2.93355748e-02,\n",
        "         1.78593286e-02,   6.13942100e-03,   3.40934651e-02,\n",
        "         7.15810379e-03,   1.58318659e-02])"
       ]
      }
     ],
     "prompt_number": 363
    },
    {
     "cell_type": "code",
     "collapsed": false,
     "input": [
      "import psycopg2 as mdb\n",
      "con = mdb.connect(\"dbname=hermes_master user=Carlos\")\n",
      "cur = con.cursor()\n",
      "cur.execute(\"CREATE TABLE fields(id int)\")"
     ],
     "language": "python",
     "metadata": {},
     "outputs": [],
     "prompt_number": 31
    },
    {
     "cell_type": "code",
     "collapsed": false,
     "input": [
      "con.rollback()"
     ],
     "language": "python",
     "metadata": {},
     "outputs": [],
     "prompt_number": 35
    },
    {
     "cell_type": "code",
     "collapsed": false,
     "input": [
      "con.commit()"
     ],
     "language": "python",
     "metadata": {},
     "outputs": [],
     "prompt_number": 34
    },
    {
     "cell_type": "code",
     "collapsed": false,
     "input": [
      "con.close()"
     ],
     "language": "python",
     "metadata": {},
     "outputs": [],
     "prompt_number": 38
    },
    {
     "cell_type": "code",
     "collapsed": false,
     "input": [
      "import psycopg2 as mdb\n",
      "con=mdb.connect(\"host=/tmp/ dbname=hermes_master user=Carlos\");\n"
     ],
     "language": "python",
     "metadata": {},
     "outputs": [],
     "prompt_number": 2
    },
    {
     "cell_type": "code",
     "collapsed": false,
     "input": [
      "con=mdb.connect(\"dbname=hermes_master user=Carlos\");\n"
     ],
     "language": "python",
     "metadata": {},
     "outputs": [],
     "prompt_number": 8
    },
    {
     "cell_type": "code",
     "collapsed": false,
     "input": [
      "\n",
      "con=mdb.connect(\"host=/usr/local/var dbname=hermes_master user=Carlos\");\n"
     ],
     "language": "python",
     "metadata": {},
     "outputs": [
      {
       "ename": "OperationalError",
       "evalue": "could not connect to server: No such file or directory\n\tIs the server running locally and accepting\n\tconnections on Unix domain socket \"/usr/local/var/.s.PGSQL.5432\"?\n",
       "output_type": "pyerr",
       "traceback": [
        "\u001b[0;31m---------------------------------------------------------------------------\u001b[0m\n\u001b[0;31mOperationalError\u001b[0m                          Traceback (most recent call last)",
        "\u001b[0;32m<ipython-input-7-c45b28303f09>\u001b[0m in \u001b[0;36m<module>\u001b[0;34m()\u001b[0m\n\u001b[1;32m      1\u001b[0m \u001b[0;34m\u001b[0m\u001b[0m\n\u001b[0;32m----> 2\u001b[0;31m \u001b[0mcon\u001b[0m\u001b[0;34m=\u001b[0m\u001b[0mmdb\u001b[0m\u001b[0;34m.\u001b[0m\u001b[0mconnect\u001b[0m\u001b[0;34m(\u001b[0m\u001b[0;34m\"host=/usr/local/var dbname=hermes_master user=Carlos\"\u001b[0m\u001b[0;34m)\u001b[0m\u001b[0;34m;\u001b[0m\u001b[0;34m\u001b[0m\u001b[0m\n\u001b[0m",
        "\u001b[0;32m/opt/local/Library/Frameworks/Python.framework/Versions/2.7/lib/python2.7/site-packages/psycopg2/__init__.pyc\u001b[0m in \u001b[0;36mconnect\u001b[0;34m(dsn, database, user, password, host, port, connection_factory, cursor_factory, async, **kwargs)\u001b[0m\n\u001b[1;32m    162\u001b[0m                 for (k, v) in items])\n\u001b[1;32m    163\u001b[0m \u001b[0;34m\u001b[0m\u001b[0m\n\u001b[0;32m--> 164\u001b[0;31m     \u001b[0mconn\u001b[0m \u001b[0;34m=\u001b[0m \u001b[0m_connect\u001b[0m\u001b[0;34m(\u001b[0m\u001b[0mdsn\u001b[0m\u001b[0;34m,\u001b[0m \u001b[0mconnection_factory\u001b[0m\u001b[0;34m=\u001b[0m\u001b[0mconnection_factory\u001b[0m\u001b[0;34m,\u001b[0m \u001b[0masync\u001b[0m\u001b[0;34m=\u001b[0m\u001b[0masync\u001b[0m\u001b[0;34m)\u001b[0m\u001b[0;34m\u001b[0m\u001b[0m\n\u001b[0m\u001b[1;32m    165\u001b[0m     \u001b[0;32mif\u001b[0m \u001b[0mcursor_factory\u001b[0m \u001b[0;32mis\u001b[0m \u001b[0;32mnot\u001b[0m \u001b[0mNone\u001b[0m\u001b[0;34m:\u001b[0m\u001b[0;34m\u001b[0m\u001b[0m\n\u001b[1;32m    166\u001b[0m         \u001b[0mconn\u001b[0m\u001b[0;34m.\u001b[0m\u001b[0mcursor_factory\u001b[0m \u001b[0;34m=\u001b[0m \u001b[0mcursor_factory\u001b[0m\u001b[0;34m\u001b[0m\u001b[0m\n",
        "\u001b[0;31mOperationalError\u001b[0m: could not connect to server: No such file or directory\n\tIs the server running locally and accepting\n\tconnections on Unix domain socket \"/usr/local/var/.s.PGSQL.5432\"?\n"
       ]
      }
     ],
     "prompt_number": 7
    },
    {
     "cell_type": "code",
     "collapsed": false,
     "input": [
      "cur = con.cursor()"
     ],
     "language": "python",
     "metadata": {},
     "outputs": [],
     "prompt_number": 9
    },
    {
     "cell_type": "code",
     "collapsed": false,
     "input": [
      "cur.execute(\"SELECT spec_path,name from fields where ymd=140825 and ccd='ccd_1' and obstype='BIAS'\")\n"
     ],
     "language": "python",
     "metadata": {},
     "outputs": [],
     "prompt_number": 13
    },
    {
     "cell_type": "code",
     "collapsed": false,
     "input": [
      "objs=cur.fetchall()"
     ],
     "language": "python",
     "metadata": {},
     "outputs": [],
     "prompt_number": 14
    },
    {
     "cell_type": "code",
     "collapsed": false,
     "input": [
      "from pyraf import iraf"
     ],
     "language": "python",
     "metadata": {},
     "outputs": [],
     "prompt_number": 16
    },
    {
     "cell_type": "code",
     "collapsed": false,
     "input": [
      "iraf.noao(_doprint=0,Stdout=\"/dev/null\")\n",
      "iraf.imred(_doprint=0,Stdout=\"/dev/null\")\n",
      "iraf.ccdred(_doprint=0,Stdout=\"/dev/null\")\n"
     ],
     "language": "python",
     "metadata": {},
     "outputs": [],
     "prompt_number": 17
    },
    {
     "cell_type": "code",
     "collapsed": false,
     "input": [
      "iraf.ccdproc(images='tmp/flats/25aug10034.fits', ccdtype='', fixpix='no', oversca='no', trim='no', zerocor='yes', darkcor='no', flatcor='no', zero='tmp/masterbias',Stdout=\"/dev/null\")\n"
     ],
     "language": "python",
     "metadata": {},
     "outputs": [
      {
       "output_type": "stream",
       "stream": "stderr",
       "text": [
        "Killing IRAF task `ccdproc'\n"
       ]
      },
      {
       "ename": "IrafError",
       "evalue": "Error running IRAF task ccdproc\nIRAF task terminated abnormally\nERROR (1113, \"FXF: must specify which FITS extension (tmp/masterbias)\u0007\")\n",
       "output_type": "pyerr",
       "traceback": [
        "\u001b[0;31m---------------------------------------------------------------------------\u001b[0m\n\u001b[0;31mIrafError\u001b[0m                                 Traceback (most recent call last)",
        "\u001b[0;32m<ipython-input-25-3bf0a9248d31>\u001b[0m in \u001b[0;36m<module>\u001b[0;34m()\u001b[0m\n\u001b[0;32m----> 1\u001b[0;31m \u001b[0miraf\u001b[0m\u001b[0;34m.\u001b[0m\u001b[0mccdproc\u001b[0m\u001b[0;34m(\u001b[0m\u001b[0mimages\u001b[0m\u001b[0;34m=\u001b[0m\u001b[0;34m'tmp/flats/25aug10034.fits'\u001b[0m\u001b[0;34m,\u001b[0m \u001b[0mccdtype\u001b[0m\u001b[0;34m=\u001b[0m\u001b[0;34m''\u001b[0m\u001b[0;34m,\u001b[0m \u001b[0mfixpix\u001b[0m\u001b[0;34m=\u001b[0m\u001b[0;34m'no'\u001b[0m\u001b[0;34m,\u001b[0m \u001b[0moversca\u001b[0m\u001b[0;34m=\u001b[0m\u001b[0;34m'no'\u001b[0m\u001b[0;34m,\u001b[0m \u001b[0mtrim\u001b[0m\u001b[0;34m=\u001b[0m\u001b[0;34m'no'\u001b[0m\u001b[0;34m,\u001b[0m \u001b[0mzerocor\u001b[0m\u001b[0;34m=\u001b[0m\u001b[0;34m'yes'\u001b[0m\u001b[0;34m,\u001b[0m \u001b[0mdarkcor\u001b[0m\u001b[0;34m=\u001b[0m\u001b[0;34m'no'\u001b[0m\u001b[0;34m,\u001b[0m \u001b[0mflatcor\u001b[0m\u001b[0;34m=\u001b[0m\u001b[0;34m'no'\u001b[0m\u001b[0;34m,\u001b[0m \u001b[0mzero\u001b[0m\u001b[0;34m=\u001b[0m\u001b[0;34m'tmp/masterbias'\u001b[0m\u001b[0;34m,\u001b[0m\u001b[0mStdout\u001b[0m\u001b[0;34m=\u001b[0m\u001b[0;34m\"/dev/null\"\u001b[0m\u001b[0;34m)\u001b[0m\u001b[0;34m\u001b[0m\u001b[0m\n\u001b[0m",
        "\u001b[0;32m/opt/local/Library/Frameworks/Python.framework/Versions/2.7/lib/python2.7/site-packages/pyraf/iraftask.py\u001b[0m in \u001b[0;36m__call__\u001b[0;34m(self, *args, **kw)\u001b[0m\n\u001b[1;32m    672\u001b[0m \u001b[0;34m\u001b[0m\u001b[0m\n\u001b[1;32m    673\u001b[0m     \u001b[0;32mdef\u001b[0m \u001b[0m__call__\u001b[0m\u001b[0;34m(\u001b[0m\u001b[0mself\u001b[0m\u001b[0;34m,\u001b[0m\u001b[0;34m*\u001b[0m\u001b[0margs\u001b[0m\u001b[0;34m,\u001b[0m\u001b[0;34m**\u001b[0m\u001b[0mkw\u001b[0m\u001b[0;34m)\u001b[0m\u001b[0;34m:\u001b[0m\u001b[0;34m\u001b[0m\u001b[0m\n\u001b[0;32m--> 674\u001b[0;31m         \u001b[0;32mreturn\u001b[0m \u001b[0mapply\u001b[0m\u001b[0;34m(\u001b[0m\u001b[0mself\u001b[0m\u001b[0;34m.\u001b[0m\u001b[0mrun\u001b[0m\u001b[0;34m,\u001b[0m\u001b[0margs\u001b[0m\u001b[0;34m,\u001b[0m\u001b[0mkw\u001b[0m\u001b[0;34m)\u001b[0m\u001b[0;34m\u001b[0m\u001b[0m\n\u001b[0m\u001b[1;32m    675\u001b[0m \u001b[0;34m\u001b[0m\u001b[0m\n\u001b[1;32m    676\u001b[0m     \u001b[0;32mdef\u001b[0m \u001b[0m__repr__\u001b[0m\u001b[0;34m(\u001b[0m\u001b[0mself\u001b[0m\u001b[0;34m)\u001b[0m\u001b[0;34m:\u001b[0m\u001b[0;34m\u001b[0m\u001b[0m\n",
        "\u001b[0;32m/opt/local/Library/Frameworks/Python.framework/Versions/2.7/lib/python2.7/site-packages/pyraf/iraftask.py\u001b[0m in \u001b[0;36mrun\u001b[0;34m(self, *args, **kw)\u001b[0m\n\u001b[1;32m    275\u001b[0m             \u001b[0;32mif\u001b[0m \u001b[0mexecutionMonitor\u001b[0m\u001b[0;34m:\u001b[0m\u001b[0;34m\u001b[0m\u001b[0m\n\u001b[1;32m    276\u001b[0m                 \u001b[0mexecutionMonitor\u001b[0m\u001b[0;34m(\u001b[0m\u001b[0mself\u001b[0m\u001b[0;34m)\u001b[0m\u001b[0;34m\u001b[0m\u001b[0m\n\u001b[0;32m--> 277\u001b[0;31m             \u001b[0mself\u001b[0m\u001b[0;34m.\u001b[0m\u001b[0m_run\u001b[0m\u001b[0;34m(\u001b[0m\u001b[0mredirKW\u001b[0m\u001b[0;34m,\u001b[0m \u001b[0mspecialKW\u001b[0m\u001b[0;34m)\u001b[0m\u001b[0;34m\u001b[0m\u001b[0m\n\u001b[0m\u001b[1;32m    278\u001b[0m             \u001b[0mself\u001b[0m\u001b[0;34m.\u001b[0m\u001b[0m_updateParList\u001b[0m\u001b[0;34m(\u001b[0m\u001b[0msave\u001b[0m\u001b[0;34m)\u001b[0m\u001b[0;34m\u001b[0m\u001b[0m\n\u001b[1;32m    279\u001b[0m             \u001b[0;32mif\u001b[0m \u001b[0miraf\u001b[0m\u001b[0;34m.\u001b[0m\u001b[0mVerbose\u001b[0m\u001b[0;34m>\u001b[0m\u001b[0;36m1\u001b[0m\u001b[0;34m:\u001b[0m \u001b[0;32mprint\u001b[0m \u001b[0;34m'Successful task termination'\u001b[0m\u001b[0;34m\u001b[0m\u001b[0m\n",
        "\u001b[0;32m/opt/local/Library/Frameworks/Python.framework/Versions/2.7/lib/python2.7/site-packages/pyraf/iraftask.py\u001b[0m in \u001b[0;36m_run\u001b[0;34m(self, redirKW, specialKW)\u001b[0m\n\u001b[1;32m    717\u001b[0m         \u001b[0;32mexcept\u001b[0m \u001b[0mirafexecute\u001b[0m\u001b[0;34m.\u001b[0m\u001b[0mIrafProcessError\u001b[0m\u001b[0;34m,\u001b[0m \u001b[0mvalue\u001b[0m\u001b[0;34m:\u001b[0m\u001b[0;34m\u001b[0m\u001b[0m\n\u001b[1;32m    718\u001b[0m             raise iraf.IrafError(\"Error running IRAF task \" + self._name +\n\u001b[0;32m--> 719\u001b[0;31m                     \"\\n\" + str(value))\n\u001b[0m\u001b[1;32m    720\u001b[0m \u001b[0;34m\u001b[0m\u001b[0m\n\u001b[1;32m    721\u001b[0m     \u001b[0;32mdef\u001b[0m \u001b[0m_updateParList\u001b[0m\u001b[0;34m(\u001b[0m\u001b[0mself\u001b[0m\u001b[0;34m,\u001b[0m \u001b[0msave\u001b[0m\u001b[0;34m=\u001b[0m\u001b[0;36m0\u001b[0m\u001b[0;34m)\u001b[0m\u001b[0;34m:\u001b[0m\u001b[0;34m\u001b[0m\u001b[0m\n",
        "\u001b[0;31mIrafError\u001b[0m: Error running IRAF task ccdproc\nIRAF task terminated abnormally\nERROR (1113, \"FXF: must specify which FITS extension (tmp/masterbias)\u0007\")\n"
       ]
      }
     ],
     "prompt_number": 25
    },
    {
     "cell_type": "code",
     "collapsed": false,
     "input": [
      "pwd"
     ],
     "language": "python",
     "metadata": {},
     "outputs": [
      {
       "metadata": {},
       "output_type": "pyout",
       "prompt_number": 23,
       "text": [
        "u'/Users/Carlos/Documents/workspace/GAP/IrafReduction/140825'"
       ]
      }
     ],
     "prompt_number": 23
    },
    {
     "cell_type": "code",
     "collapsed": false,
     "input": [
      "cd ~/Documents/workspace/GAP/IrafReduction/140825/ccd11/"
     ],
     "language": "python",
     "metadata": {},
     "outputs": [
      {
       "output_type": "stream",
       "stream": "stdout",
       "text": [
        "/Users/Carlos/Documents/workspace/GAP/IrafReduction/140825/ccd11\n"
       ]
      }
     ],
     "prompt_number": 28
    },
    {
     "cell_type": "code",
     "collapsed": false,
     "input": [
      "import pyfits as pf"
     ],
     "language": "python",
     "metadata": {},
     "outputs": [],
     "prompt_number": 26
    },
    {
     "cell_type": "code",
     "collapsed": false,
     "input": [
      "pf.open('tmp/masterbias.fits')"
     ],
     "language": "python",
     "metadata": {},
     "outputs": [
      {
       "metadata": {},
       "output_type": "pyout",
       "prompt_number": 29,
       "text": [
        "[<pyfits.hdu.image.PrimaryHDU at 0x10a09d4d0>]"
       ]
      }
     ],
     "prompt_number": 29
    },
    {
     "cell_type": "code",
     "collapsed": false,
     "input": [
      "import cosmics"
     ],
     "language": "python",
     "metadata": {},
     "outputs": [
      {
       "ename": "ImportError",
       "evalue": "No module named cosmics",
       "output_type": "pyerr",
       "traceback": [
        "\u001b[0;31m---------------------------------------------------------------------------\u001b[0m\n\u001b[0;31mImportError\u001b[0m                               Traceback (most recent call last)",
        "\u001b[0;32m<ipython-input-32-f8b6ff95e92e>\u001b[0m in \u001b[0;36m<module>\u001b[0;34m()\u001b[0m\n\u001b[0;32m----> 1\u001b[0;31m \u001b[0;32mimport\u001b[0m \u001b[0mcosmics\u001b[0m\u001b[0;34m\u001b[0m\u001b[0m\n\u001b[0m",
        "\u001b[0;32m/opt/local/Library/Frameworks/Python.framework/Versions/2.7/lib/python2.7/site-packages/pyraf/irafimport.py\u001b[0m in \u001b[0;36m_irafImport\u001b[0;34m(name, globals, locals, fromlist, level)\u001b[0m\n\u001b[1;32m     52\u001b[0m \u001b[0;34m\u001b[0m\u001b[0m\n\u001b[1;32m     53\u001b[0m         \u001b[0;32mif\u001b[0m \u001b[0mimportHasLvlArg\u001b[0m\u001b[0;34m:\u001b[0m\u001b[0;34m\u001b[0m\u001b[0m\n\u001b[0;32m---> 54\u001b[0;31m             \u001b[0;32mreturn\u001b[0m \u001b[0m_originalImport\u001b[0m\u001b[0;34m(\u001b[0m\u001b[0mname\u001b[0m\u001b[0;34m,\u001b[0m \u001b[0mglobals\u001b[0m\u001b[0;34m,\u001b[0m \u001b[0mlocals\u001b[0m\u001b[0;34m,\u001b[0m \u001b[0mfromlist\u001b[0m\u001b[0;34m,\u001b[0m \u001b[0mlevel\u001b[0m\u001b[0;34m)\u001b[0m\u001b[0;34m\u001b[0m\u001b[0m\n\u001b[0m\u001b[1;32m     55\u001b[0m         \u001b[0;32melse\u001b[0m\u001b[0;34m:\u001b[0m\u001b[0;34m\u001b[0m\u001b[0m\n\u001b[1;32m     56\u001b[0m             \u001b[0;31m# we could assert here that level == -1, but it's safe to assume\u001b[0m\u001b[0;34m\u001b[0m\u001b[0;34m\u001b[0m\u001b[0m\n",
        "\u001b[0;31mImportError\u001b[0m: No module named cosmics"
       ]
      }
     ],
     "prompt_number": 32
    },
    {
     "cell_type": "code",
     "collapsed": false,
     "input": [
      "import numpy as np\n",
      "import pylab as plt"
     ],
     "language": "python",
     "metadata": {},
     "outputs": [],
     "prompt_number": 18
    },
    {
     "cell_type": "code",
     "collapsed": false,
     "input": [
      "a = np.arange(5)\n",
      "b = np.array([1,5,3,2,5])\n",
      "c = np.arange(0.5,4.5)"
     ],
     "language": "python",
     "metadata": {},
     "outputs": [],
     "prompt_number": 54
    },
    {
     "cell_type": "code",
     "collapsed": false,
     "input": [
      "d = np.interp(c,a,b)"
     ],
     "language": "python",
     "metadata": {},
     "outputs": [],
     "prompt_number": 55
    },
    {
     "cell_type": "code",
     "collapsed": false,
     "input": [
      "b"
     ],
     "language": "python",
     "metadata": {},
     "outputs": [
      {
       "metadata": {},
       "output_type": "pyout",
       "prompt_number": 56,
       "text": [
        "array([1, 5, 3, 2, 5])"
       ]
      }
     ],
     "prompt_number": 56
    },
    {
     "cell_type": "code",
     "collapsed": false,
     "input": [
      "plt.plot(a,b,marker='+')\n",
      "plt.scatter(c,d, marker = '+', s=200, c='r')\n",
      "plt.show()"
     ],
     "language": "python",
     "metadata": {},
     "outputs": [],
     "prompt_number": 57
    },
    {
     "cell_type": "code",
     "collapsed": false,
     "input": [
      "import os\n",
      "import create_obj as cr_obj\n",
      "import pickle\n",
      "import glob\n",
      "import pyfits as pf\n",
      "import numpy as np\n",
      "import sys\n",
      "import toolbox\n",
      "import importlib"
     ],
     "language": "python",
     "metadata": {},
     "outputs": [],
     "prompt_number": 58
    },
    {
     "cell_type": "code",
     "collapsed": false,
     "input": [
      "booHD1581 = False\n",
      "IRAFFiles = '/Users/Carlos/Documents/workspace/GAP/IrafReduction/results/'   #folder to IRAF reduced files\n",
      "dataset = 'HD285507'"
     ],
     "language": "python",
     "metadata": {},
     "outputs": [],
     "prompt_number": 79
    },
    {
     "cell_type": "code",
     "collapsed": false,
     "input": [
      "os.mkdir('cam1')\n",
      "os.mkdir('cam2')\n",
      "os.mkdir('cam3')\n",
      "os.mkdir('cam4')\n",
      "os.mkdir('obj')"
     ],
     "language": "python",
     "metadata": {},
     "outputs": [],
     "prompt_number": 63
    },
    {
     "cell_type": "code",
     "collapsed": false,
     "input": [
      "thisDataset = importlib.import_module('data_sets.'+dataset)\n",
      "\n",
      "    "
     ],
     "language": "python",
     "metadata": {},
     "outputs": [],
     "prompt_number": 66
    },
    {
     "cell_type": "code",
     "collapsed": false,
     "input": [
      "months = np.array(['', 'jan','feb','mar','apr','may','jun','jul','aug','sep','oct','nov','dec'])\n",
      "d = np.array([s[4:] for s in thisDataset.date_list])\n",
      "m = months[np.array([s[2:4] for s in thisDataset.date_list]).astype(int)]\n",
      "filename_prfx = np.core.defchararray.add(d, m)\n"
     ],
     "language": "python",
     "metadata": {},
     "outputs": [
      {
       "metadata": {},
       "output_type": "pyout",
       "prompt_number": 67,
       "text": [
        "['140820', '140821', '140822', '140824', '140825']"
       ]
      }
     ],
     "prompt_number": 67
    },
    {
     "cell_type": "code",
     "collapsed": false,
     "input": [
      "for i,folder in enumerate(thisDataset.date_list):\n",
      "    for files in thisDataset.ix_array[i][2:]:\n",
      "        for cam in range(1,5):\n",
      "            strCopy = 'cp ' + IRAFFiles + folder + '/norm/' + filename_prfx[i] + str(cam) + \"%04d\" % (files,) + '.ms.fits ' \n",
      "            strCopy += 'cam'+ str(cam) + '/' + filename_prfx[i] + str(cam) + \"%04d\" % (files,) + '.fits ' \n",
      "            print strCopy\n",
      "            try:\n",
      "                os.system(strCopy)\n",
      "            except:\n",
      "                print 'no copy'"
     ],
     "language": "python",
     "metadata": {},
     "outputs": [
      {
       "output_type": "stream",
       "stream": "stdout",
       "text": [
        "cp /Users/Carlos/Documents/workspace/GAP/IrafReduction/results/140820/norm/20aug10039.ms.fits cam1/20aug10039.fits \n",
        "cp /Users/Carlos/Documents/workspace/GAP/IrafReduction/results/140820/norm/20aug20039.ms.fits cam2/20aug20039.fits "
       ]
      },
      {
       "output_type": "stream",
       "stream": "stdout",
       "text": [
        "\n",
        "cp /Users/Carlos/Documents/workspace/GAP/IrafReduction/results/140820/norm/20aug30039.ms.fits cam3/20aug30039.fits \n",
        "cp /Users/Carlos/Documents/workspace/GAP/IrafReduction/results/140820/norm/20aug40039.ms.fits cam4/20aug40039.fits \n",
        "cp /Users/Carlos/Documents/workspace/GAP/IrafReduction/results/140820/norm/20aug10040.ms.fits cam1/20aug10040.fits \n",
        "cp /Users/Carlos/Documents/workspace/GAP/IrafReduction/results/140820/norm/20aug20040.ms.fits cam2/20aug20040.fits "
       ]
      },
      {
       "output_type": "stream",
       "stream": "stdout",
       "text": [
        "\n",
        "cp /Users/Carlos/Documents/workspace/GAP/IrafReduction/results/140820/norm/20aug30040.ms.fits cam3/20aug30040.fits \n",
        "cp /Users/Carlos/Documents/workspace/GAP/IrafReduction/results/140820/norm/20aug40040.ms.fits cam4/20aug40040.fits \n",
        "cp /Users/Carlos/Documents/workspace/GAP/IrafReduction/results/140820/norm/20aug10041.ms.fits cam1/20aug10041.fits \n",
        "cp /Users/Carlos/Documents/workspace/GAP/IrafReduction/results/140820/norm/20aug20041.ms.fits cam2/20aug20041.fits \n",
        "cp /Users/Carlos/Documents/workspace/GAP/IrafReduction/results/140820/norm/20aug30041.ms.fits cam3/20aug30041.fits \n",
        "cp /Users/Carlos/Documents/workspace/GAP/IrafReduction/results/140820/norm/20aug40041.ms.fits cam4/20aug40041.fits \n",
        "cp /Users/Carlos/Documents/workspace/GAP/IrafReduction/results/140821/norm/21aug10038.ms.fits cam1/21aug10038.fits \n",
        "cp /Users/Carlos/Documents/workspace/GAP/IrafReduction/results/140821/norm/21aug20038.ms.fits cam2/21aug20038.fits "
       ]
      },
      {
       "output_type": "stream",
       "stream": "stdout",
       "text": [
        "\n",
        "cp /Users/Carlos/Documents/workspace/GAP/IrafReduction/results/140821/norm/21aug30038.ms.fits cam3/21aug30038.fits \n",
        "cp /Users/Carlos/Documents/workspace/GAP/IrafReduction/results/140821/norm/21aug40038.ms.fits cam4/21aug40038.fits \n",
        "cp /Users/Carlos/Documents/workspace/GAP/IrafReduction/results/140821/norm/21aug10039.ms.fits cam1/21aug10039.fits \n",
        "cp /Users/Carlos/Documents/workspace/GAP/IrafReduction/results/140821/norm/21aug20039.ms.fits cam2/21aug20039.fits "
       ]
      },
      {
       "output_type": "stream",
       "stream": "stdout",
       "text": [
        "\n",
        "cp /Users/Carlos/Documents/workspace/GAP/IrafReduction/results/140821/norm/21aug30039.ms.fits cam3/21aug30039.fits \n",
        "cp /Users/Carlos/Documents/workspace/GAP/IrafReduction/results/140821/norm/21aug40039.ms.fits cam4/21aug40039.fits \n",
        "cp /Users/Carlos/Documents/workspace/GAP/IrafReduction/results/140821/norm/21aug10040.ms.fits cam1/21aug10040.fits \n",
        "cp /Users/Carlos/Documents/workspace/GAP/IrafReduction/results/140821/norm/21aug20040.ms.fits cam2/21aug20040.fits \n",
        "cp /Users/Carlos/Documents/workspace/GAP/IrafReduction/results/140821/norm/21aug30040.ms.fits cam3/21aug30040.fits \n",
        "cp /Users/Carlos/Documents/workspace/GAP/IrafReduction/results/140821/norm/21aug40040.ms.fits cam4/21aug40040.fits \n",
        "cp /Users/Carlos/Documents/workspace/GAP/IrafReduction/results/140822/norm/22aug10041.ms.fits cam1/22aug10041.fits \n",
        "cp /Users/Carlos/Documents/workspace/GAP/IrafReduction/results/140822/norm/22aug20041.ms.fits cam2/22aug20041.fits "
       ]
      },
      {
       "output_type": "stream",
       "stream": "stdout",
       "text": [
        "\n",
        "cp /Users/Carlos/Documents/workspace/GAP/IrafReduction/results/140822/norm/22aug30041.ms.fits cam3/22aug30041.fits \n",
        "cp /Users/Carlos/Documents/workspace/GAP/IrafReduction/results/140822/norm/22aug40041.ms.fits cam4/22aug40041.fits \n",
        "cp /Users/Carlos/Documents/workspace/GAP/IrafReduction/results/140822/norm/22aug10042.ms.fits cam1/22aug10042.fits \n",
        "cp /Users/Carlos/Documents/workspace/GAP/IrafReduction/results/140822/norm/22aug20042.ms.fits cam2/22aug20042.fits \n",
        "cp /Users/Carlos/Documents/workspace/GAP/IrafReduction/results/140822/norm/22aug30042.ms.fits cam3/22aug30042.fits \n",
        "cp /Users/Carlos/Documents/workspace/GAP/IrafReduction/results/140822/norm/22aug40042.ms.fits cam4/22aug40042.fits \n",
        "cp /Users/Carlos/Documents/workspace/GAP/IrafReduction/results/140822/norm/22aug10043.ms.fits cam1/22aug10043.fits \n",
        "cp /Users/Carlos/Documents/workspace/GAP/IrafReduction/results/140822/norm/22aug20043.ms.fits cam2/22aug20043.fits \n",
        "cp /Users/Carlos/Documents/workspace/GAP/IrafReduction/results/140822/norm/22aug30043.ms.fits cam3/22aug30043.fits \n",
        "cp /Users/Carlos/Documents/workspace/GAP/IrafReduction/results/140822/norm/22aug40043.ms.fits cam4/22aug40043.fits \n",
        "cp /Users/Carlos/Documents/workspace/GAP/IrafReduction/results/140824/norm/24aug10063.ms.fits cam1/24aug10063.fits "
       ]
      },
      {
       "output_type": "stream",
       "stream": "stdout",
       "text": [
        "\n",
        "cp /Users/Carlos/Documents/workspace/GAP/IrafReduction/results/140824/norm/24aug20063.ms.fits cam2/24aug20063.fits \n",
        "cp /Users/Carlos/Documents/workspace/GAP/IrafReduction/results/140824/norm/24aug30063.ms.fits cam3/24aug30063.fits \n",
        "cp /Users/Carlos/Documents/workspace/GAP/IrafReduction/results/140824/norm/24aug40063.ms.fits cam4/24aug40063.fits \n",
        "cp /Users/Carlos/Documents/workspace/GAP/IrafReduction/results/140824/norm/24aug10064.ms.fits cam1/24aug10064.fits \n",
        "cp /Users/Carlos/Documents/workspace/GAP/IrafReduction/results/140824/norm/24aug20064.ms.fits cam2/24aug20064.fits \n",
        "cp /Users/Carlos/Documents/workspace/GAP/IrafReduction/results/140824/norm/24aug30064.ms.fits cam3/24aug30064.fits \n",
        "cp /Users/Carlos/Documents/workspace/GAP/IrafReduction/results/140824/norm/24aug40064.ms.fits cam4/24aug40064.fits \n",
        "cp /Users/Carlos/Documents/workspace/GAP/IrafReduction/results/140824/norm/24aug10065.ms.fits cam1/24aug10065.fits \n",
        "cp /Users/Carlos/Documents/workspace/GAP/IrafReduction/results/140824/norm/24aug20065.ms.fits cam2/24aug20065.fits \n",
        "cp /Users/Carlos/Documents/workspace/GAP/IrafReduction/results/140824/norm/24aug30065.ms.fits cam3/24aug30065.fits \n",
        "cp /Users/Carlos/Documents/workspace/GAP/IrafReduction/results/140824/norm/24aug40065.ms.fits cam4/24aug40065.fits "
       ]
      },
      {
       "output_type": "stream",
       "stream": "stdout",
       "text": [
        "\n",
        "cp /Users/Carlos/Documents/workspace/GAP/IrafReduction/results/140825/norm/25aug10049.ms.fits cam1/25aug10049.fits \n",
        "cp /Users/Carlos/Documents/workspace/GAP/IrafReduction/results/140825/norm/25aug20049.ms.fits cam2/25aug20049.fits "
       ]
      },
      {
       "output_type": "stream",
       "stream": "stdout",
       "text": [
        "\n",
        "cp /Users/Carlos/Documents/workspace/GAP/IrafReduction/results/140825/norm/25aug30049.ms.fits cam3/25aug30049.fits \n",
        "cp /Users/Carlos/Documents/workspace/GAP/IrafReduction/results/140825/norm/25aug40049.ms.fits cam4/25aug40049.fits \n",
        "cp /Users/Carlos/Documents/workspace/GAP/IrafReduction/results/140825/norm/25aug10050.ms.fits cam1/25aug10050.fits \n",
        "cp /Users/Carlos/Documents/workspace/GAP/IrafReduction/results/140825/norm/25aug20050.ms.fits cam2/25aug20050.fits \n",
        "cp /Users/Carlos/Documents/workspace/GAP/IrafReduction/results/140825/norm/25aug30050.ms.fits cam3/25aug30050.fits \n",
        "cp /Users/Carlos/Documents/workspace/GAP/IrafReduction/results/140825/norm/25aug40050.ms.fits cam4/25aug40050.fits \n",
        "cp /Users/Carlos/Documents/workspace/GAP/IrafReduction/results/140825/norm/25aug10051.ms.fits cam1/25aug10051.fits \n",
        "cp /Users/Carlos/Documents/workspace/GAP/IrafReduction/results/140825/norm/25aug20051.ms.fits cam2/25aug20051.fits "
       ]
      },
      {
       "output_type": "stream",
       "stream": "stdout",
       "text": [
        "\n",
        "cp /Users/Carlos/Documents/workspace/GAP/IrafReduction/results/140825/norm/25aug30051.ms.fits cam3/25aug30051.fits \n",
        "cp /Users/Carlos/Documents/workspace/GAP/IrafReduction/results/140825/norm/25aug40051.ms.fits cam4/25aug40051.fits \n"
       ]
      }
     ],
     "prompt_number": 120
    },
    {
     "cell_type": "code",
     "collapsed": false,
     "input": [
      "thisDataset.ix_array[1][2:]"
     ],
     "language": "python",
     "metadata": {},
     "outputs": [
      {
       "metadata": {},
       "output_type": "pyout",
       "prompt_number": 93,
       "text": [
        "[38, 39, 40]"
       ]
      }
     ],
     "prompt_number": 93
    },
    {
     "cell_type": "code",
     "collapsed": false,
     "input": [],
     "language": "python",
     "metadata": {},
     "outputs": [],
     "prompt_number": 84
    },
    {
     "cell_type": "code",
     "collapsed": false,
     "input": [
      "filename_prfx"
     ],
     "language": "python",
     "metadata": {},
     "outputs": [
      {
       "metadata": {},
       "output_type": "pyout",
       "prompt_number": 85,
       "text": [
        "array(['20aug', '21aug', '22aug', '24aug', '25aug'], \n",
        "      dtype='|S5')"
       ]
      }
     ],
     "prompt_number": 85
    },
    {
     "cell_type": "code",
     "collapsed": false,
     "input": [
      "thisDataset.ix_array"
     ],
     "language": "python",
     "metadata": {},
     "outputs": [
      {
       "metadata": {},
       "output_type": "pyout",
       "prompt_number": 87,
       "text": [
        "[[37, 38, 39, 40, 41],\n",
        " [36, 37, 38, 39, 40],\n",
        " [40, 39, 41, 42, 43],\n",
        " [66, 67, 63, 64, 65],\n",
        " [47, 48, 49, 50, 51]]"
       ]
      }
     ],
     "prompt_number": 87
    },
    {
     "cell_type": "heading",
     "level": 3,
     "metadata": {},
     "source": [
      "CC arcs"
     ]
    },
    {
     "cell_type": "code",
     "collapsed": false,
     "input": [
      "cd ~/Documents/HERMES/reductions/6.5/HD285507/"
     ],
     "language": "python",
     "metadata": {},
     "outputs": [
      {
       "output_type": "stream",
       "stream": "stdout",
       "text": [
        "/Users/Carlos/Documents/HERMES/reductions/6.5/HD285507\n"
       ]
      }
     ],
     "prompt_number": 45
    },
    {
     "cell_type": "code",
     "collapsed": false,
     "input": [
      "import glob\n",
      "import os\n",
      "import importlib\n",
      "import numpy as np"
     ],
     "language": "python",
     "metadata": {},
     "outputs": [],
     "prompt_number": 46
    },
    {
     "cell_type": "code",
     "collapsed": false,
     "input": [
      "#Copy are files\n",
      "files = glob.glob('*')\n",
      "thisDataset = importlib.import_module('data_sets.HD1581')\n",
      "\n",
      "# for folderList in files:\n",
      "#     try:\n",
      "#     if int(folderList[:1]) in range(20):\n",
      "\n",
      "#compose file prefixes from date_list\n",
      "months = np.array(['', 'jan','feb','mar','apr','may','jun','jul','aug','sep','oct','nov','dec'])\n",
      "d = np.array([s[4:] for s in thisDataset.date_list])\n",
      "m = months[np.array([s[2:4] for s in thisDataset.date_list]).astype(int)]\n",
      "filename_prfx = np.core.defchararray.add(d, m)\n",
      "\n",
      "\n",
      "\n",
      "for i,folder in enumerate(thisDataset.date_list):\n",
      "    thisFile = \"%04d\" % thisDataset.ix_array[i][1]\n",
      "    for cam in range(1,5):\n",
      "        strCopy = 'cp ' + str(i) + '_' + filename_prfx[i] + '/' + str(cam) + '/' + filename_prfx[i] + str(cam) + thisFile + 'red.fits ' \n",
      "#         strCopy = str(i) + '_' + filename_prfx[i] + '/' + str(cam) + '/' + filename_prfx[i] + str(cam) + thisFile + 'red.fits ' \n",
      "#         strCopy += 'arc_cam'+ str(cam) + '/' + filename_prfx[i] + str(cam) + thisFile + 'red.fits ' \n",
      "        strCopy += '.' \n",
      "        print strCopy\n",
      "        \n",
      "        os.system(strCopy)\n",
      "\n",
      "            \n",
      "#     except:\n",
      "#         print 'error'"
     ],
     "language": "python",
     "metadata": {},
     "outputs": [
      {
       "output_type": "stream",
       "stream": "stdout",
       "text": [
        "cp 0_20aug/1/20aug10052red.fits .\n",
        "cp 0_20aug/2/20aug20052red.fits .\n",
        "cp 0_20aug/3/20aug30052red.fits ."
       ]
      },
      {
       "output_type": "stream",
       "stream": "stdout",
       "text": [
        "\n",
        "cp 0_20aug/4/20aug40052red.fits .\n",
        "cp 1_21aug/1/21aug10046red.fits .\n",
        "cp 1_21aug/2/21aug20046red.fits .\n",
        "cp 1_21aug/3/21aug30046red.fits .\n",
        "cp 1_21aug/4/21aug40046red.fits .\n",
        "cp 2_22aug/1/22aug10031red.fits .\n",
        "cp 2_22aug/2/22aug20031red.fits .\n",
        "cp 2_22aug/3/22aug30031red.fits .\n",
        "cp 2_22aug/4/22aug40031red.fits .\n",
        "cp 3_24aug/1/24aug10054red.fits ."
       ]
      },
      {
       "output_type": "stream",
       "stream": "stdout",
       "text": [
        "\n",
        "cp 3_24aug/2/24aug20054red.fits .\n",
        "cp 3_24aug/3/24aug30054red.fits .\n",
        "cp 3_24aug/4/24aug40054red.fits .\n",
        "cp 4_25aug/1/25aug10043red.fits .\n",
        "cp 4_25aug/2/25aug20043red.fits .\n",
        "cp 4_25aug/3/25aug30043red.fits .\n",
        "cp 4_25aug/4/25aug40043red.fits .\n"
       ]
      }
     ],
     "prompt_number": 51
    },
    {
     "cell_type": "code",
     "collapsed": false,
     "input": [
      "import pyfits as pf\n",
      "import pylab as plt\n",
      "import numpy as np\n",
      "import RVTools as RVT\n",
      "from scipy import signal, optimize, constants\n",
      "import os\n",
      "import glob\n",
      "reload(RVT)\n",
      "\n",
      "os.chdir('/Users/Carlos/Documents/HERMES/reductions/6.5/HD1581/')\n",
      "\n",
      "corrHWidth = 5\n",
      "xDef = 1\n",
      "fibre = 30\n",
      "\n",
      "arcRVs = np.ones((400,5,4))*np.nan\n",
      "\n",
      "for cam in range(4):\n",
      "    for fibre in [175]: range(400):\n",
      "        print fibre\n",
      "        files = glob.glob('arc_cam'+str(cam+1)+'/*')\n",
      "        for i,thisFile in enumerate(files):\n",
      "            if i==0:\n",
      "                fits = pf.open(thisFile)\n",
      "                refWL = RVT.extract_HERMES_wavelength(thisFile)\n",
      "                refData = fits[0].data\n",
      "                fits.close()\n",
      "\n",
      "        #         print refWL.shape\n",
      "        #         print refData.shape\n",
      "        #         plt.plot(refWL, refData[101])\n",
      "        #         plt.show()\n",
      "\n",
      "\n",
      "            fits = pf.open(thisFile)\n",
      "            thisWL = RVT.extract_HERMES_wavelength(thisFile)\n",
      "            thisData = fits[0].data\n",
      "            fits.close()\n",
      "\n",
      "            lambda1, flux1 = RVT.clean_flux(refWL, refData[fibre], flatten = False)\n",
      "    #         plt.plot(lambda1,flux1)\n",
      "            lambda2, flux2 = RVT.clean_flux(thisWL, thisData[fibre], flatten = False)\n",
      "    #         plt.plot(lambda2,flux2)\n",
      "    #         plt.show()\n",
      "\n",
      "            try:\n",
      "                CCCurve = signal.fftconvolve(flux1[-np.isnan(flux1)], flux2[-np.isnan(flux2)][::-1], mode='same')\n",
      "                corrMax = np.where(CCCurve==max(CCCurve))[0][0]\n",
      "                p_guess = [corrMax,corrHWidth]\n",
      "                x_mask = np.arange(corrMax-corrHWidth, corrMax+corrHWidth+1)\n",
      "                if max(x_mask)<len(CCCurve):\n",
      "                    p = fit_gaussian(p_guess, CCCurve[x_mask], np.arange(len(CCCurve))[x_mask])[0]\n",
      "                    if np.modf(CCCurve.shape[0]/2.0)[0]>1e-5:\n",
      "                        pixelShift = (p[0]-(CCCurve.shape[0]-1)/2.) #odd number of elements\n",
      "                    else:\n",
      "                        pixelShift = (p[0]-(CCCurve.shape[0])/2.) #even number of elements\n",
      "\n",
      "\n",
      "                    mid_px = refData.shape[1]/2\n",
      "                    dWl = (refWL[mid_px+1]-refWL[mid_px]) / refWL[mid_px]/xDef\n",
      "                    RV = dWl * pixelShift * constants.c \n",
      "    #                 print 'RV',fibre,i,RV\n",
      "                    arcRVs[fibre,i,cam] = RV\n",
      "            except:\n",
      "                pass"
     ],
     "language": "python",
     "metadata": {},
     "outputs": [
      {
       "output_type": "stream",
       "stream": "stdout",
       "text": [
        "0\n",
        "1"
       ]
      },
      {
       "output_type": "stream",
       "stream": "stdout",
       "text": [
        "\n",
        "2"
       ]
      },
      {
       "output_type": "stream",
       "stream": "stdout",
       "text": [
        "\n",
        "3"
       ]
      },
      {
       "output_type": "stream",
       "stream": "stdout",
       "text": [
        "\n",
        "4"
       ]
      },
      {
       "output_type": "stream",
       "stream": "stdout",
       "text": [
        "\n",
        "5"
       ]
      },
      {
       "output_type": "stream",
       "stream": "stdout",
       "text": [
        "\n",
        "6"
       ]
      },
      {
       "output_type": "stream",
       "stream": "stdout",
       "text": [
        "\n",
        "7"
       ]
      },
      {
       "output_type": "stream",
       "stream": "stdout",
       "text": [
        "\n",
        "8"
       ]
      },
      {
       "output_type": "stream",
       "stream": "stdout",
       "text": [
        "\n",
        "9"
       ]
      },
      {
       "output_type": "stream",
       "stream": "stdout",
       "text": [
        "\n",
        "10"
       ]
      },
      {
       "output_type": "stream",
       "stream": "stdout",
       "text": [
        "\n",
        "11"
       ]
      },
      {
       "output_type": "stream",
       "stream": "stdout",
       "text": [
        "\n",
        "12"
       ]
      },
      {
       "output_type": "stream",
       "stream": "stdout",
       "text": [
        "\n",
        "13"
       ]
      },
      {
       "output_type": "stream",
       "stream": "stdout",
       "text": [
        "\n",
        "14"
       ]
      },
      {
       "output_type": "stream",
       "stream": "stdout",
       "text": [
        "\n",
        "15"
       ]
      },
      {
       "output_type": "stream",
       "stream": "stdout",
       "text": [
        "\n",
        "16"
       ]
      },
      {
       "output_type": "stream",
       "stream": "stdout",
       "text": [
        "\n",
        "17"
       ]
      },
      {
       "output_type": "stream",
       "stream": "stdout",
       "text": [
        "\n",
        "18"
       ]
      },
      {
       "output_type": "stream",
       "stream": "stdout",
       "text": [
        "\n",
        "19"
       ]
      },
      {
       "output_type": "stream",
       "stream": "stdout",
       "text": [
        "\n",
        "20"
       ]
      },
      {
       "output_type": "stream",
       "stream": "stdout",
       "text": [
        "\n",
        "21"
       ]
      },
      {
       "output_type": "stream",
       "stream": "stdout",
       "text": [
        "\n",
        "22"
       ]
      },
      {
       "output_type": "stream",
       "stream": "stdout",
       "text": [
        "\n",
        "23"
       ]
      },
      {
       "output_type": "stream",
       "stream": "stdout",
       "text": [
        "\n",
        "24"
       ]
      },
      {
       "output_type": "stream",
       "stream": "stdout",
       "text": [
        "\n",
        "25"
       ]
      },
      {
       "output_type": "stream",
       "stream": "stdout",
       "text": [
        "\n",
        "26"
       ]
      },
      {
       "output_type": "stream",
       "stream": "stdout",
       "text": [
        "\n",
        "27"
       ]
      },
      {
       "output_type": "stream",
       "stream": "stdout",
       "text": [
        "\n",
        "28"
       ]
      },
      {
       "output_type": "stream",
       "stream": "stdout",
       "text": [
        "\n",
        "29"
       ]
      },
      {
       "output_type": "stream",
       "stream": "stdout",
       "text": [
        "\n",
        "30"
       ]
      },
      {
       "output_type": "stream",
       "stream": "stdout",
       "text": [
        "\n",
        "31"
       ]
      },
      {
       "output_type": "stream",
       "stream": "stdout",
       "text": [
        "\n",
        "32"
       ]
      },
      {
       "output_type": "stream",
       "stream": "stdout",
       "text": [
        "\n",
        "33"
       ]
      },
      {
       "output_type": "stream",
       "stream": "stdout",
       "text": [
        "\n",
        "34"
       ]
      },
      {
       "output_type": "stream",
       "stream": "stdout",
       "text": [
        "\n",
        "35"
       ]
      },
      {
       "output_type": "stream",
       "stream": "stdout",
       "text": [
        "\n",
        "36"
       ]
      },
      {
       "output_type": "stream",
       "stream": "stdout",
       "text": [
        "\n",
        "37"
       ]
      },
      {
       "output_type": "stream",
       "stream": "stdout",
       "text": [
        "\n",
        "38"
       ]
      },
      {
       "output_type": "stream",
       "stream": "stdout",
       "text": [
        "\n",
        "39"
       ]
      },
      {
       "output_type": "stream",
       "stream": "stdout",
       "text": [
        "\n",
        "40"
       ]
      },
      {
       "output_type": "stream",
       "stream": "stdout",
       "text": [
        "\n",
        "41"
       ]
      },
      {
       "output_type": "stream",
       "stream": "stdout",
       "text": [
        "\n",
        "42"
       ]
      },
      {
       "output_type": "stream",
       "stream": "stdout",
       "text": [
        "\n",
        "43"
       ]
      },
      {
       "output_type": "stream",
       "stream": "stdout",
       "text": [
        "\n",
        "44"
       ]
      },
      {
       "output_type": "stream",
       "stream": "stdout",
       "text": [
        "\n",
        "45"
       ]
      },
      {
       "output_type": "stream",
       "stream": "stdout",
       "text": [
        "\n",
        "46"
       ]
      },
      {
       "output_type": "stream",
       "stream": "stdout",
       "text": [
        "\n",
        "47"
       ]
      },
      {
       "output_type": "stream",
       "stream": "stdout",
       "text": [
        "\n",
        "48"
       ]
      },
      {
       "output_type": "stream",
       "stream": "stdout",
       "text": [
        "\n",
        "49"
       ]
      },
      {
       "output_type": "stream",
       "stream": "stdout",
       "text": [
        "\n",
        "50"
       ]
      },
      {
       "output_type": "stream",
       "stream": "stdout",
       "text": [
        "\n",
        "51"
       ]
      },
      {
       "output_type": "stream",
       "stream": "stdout",
       "text": [
        "\n",
        "52"
       ]
      },
      {
       "output_type": "stream",
       "stream": "stdout",
       "text": [
        "\n",
        "53"
       ]
      },
      {
       "output_type": "stream",
       "stream": "stdout",
       "text": [
        "\n",
        "54"
       ]
      },
      {
       "output_type": "stream",
       "stream": "stdout",
       "text": [
        "\n",
        "55"
       ]
      },
      {
       "output_type": "stream",
       "stream": "stdout",
       "text": [
        "\n",
        "56"
       ]
      },
      {
       "output_type": "stream",
       "stream": "stdout",
       "text": [
        "\n",
        "57"
       ]
      },
      {
       "output_type": "stream",
       "stream": "stdout",
       "text": [
        "\n",
        "58"
       ]
      },
      {
       "output_type": "stream",
       "stream": "stdout",
       "text": [
        "\n",
        "59"
       ]
      },
      {
       "output_type": "stream",
       "stream": "stdout",
       "text": [
        "\n",
        "60"
       ]
      },
      {
       "output_type": "stream",
       "stream": "stdout",
       "text": [
        "\n",
        "61"
       ]
      },
      {
       "output_type": "stream",
       "stream": "stdout",
       "text": [
        "\n",
        "62"
       ]
      },
      {
       "output_type": "stream",
       "stream": "stdout",
       "text": [
        "\n",
        "63"
       ]
      },
      {
       "output_type": "stream",
       "stream": "stdout",
       "text": [
        "\n",
        "64"
       ]
      },
      {
       "output_type": "stream",
       "stream": "stdout",
       "text": [
        "\n",
        "65"
       ]
      },
      {
       "output_type": "stream",
       "stream": "stdout",
       "text": [
        "\n",
        "66"
       ]
      },
      {
       "output_type": "stream",
       "stream": "stdout",
       "text": [
        "\n",
        "67"
       ]
      },
      {
       "output_type": "stream",
       "stream": "stdout",
       "text": [
        "\n",
        "68"
       ]
      },
      {
       "output_type": "stream",
       "stream": "stdout",
       "text": [
        "\n",
        "69"
       ]
      },
      {
       "output_type": "stream",
       "stream": "stdout",
       "text": [
        "\n",
        "70"
       ]
      },
      {
       "output_type": "stream",
       "stream": "stdout",
       "text": [
        "\n",
        "71"
       ]
      },
      {
       "output_type": "stream",
       "stream": "stdout",
       "text": [
        "\n",
        "72"
       ]
      },
      {
       "output_type": "stream",
       "stream": "stdout",
       "text": [
        "\n",
        "73"
       ]
      },
      {
       "output_type": "stream",
       "stream": "stdout",
       "text": [
        "\n",
        "74"
       ]
      },
      {
       "output_type": "stream",
       "stream": "stdout",
       "text": [
        "\n",
        "75"
       ]
      },
      {
       "output_type": "stream",
       "stream": "stdout",
       "text": [
        "\n",
        "76"
       ]
      },
      {
       "output_type": "stream",
       "stream": "stdout",
       "text": [
        "\n",
        "77"
       ]
      },
      {
       "output_type": "stream",
       "stream": "stdout",
       "text": [
        "\n",
        "78"
       ]
      },
      {
       "output_type": "stream",
       "stream": "stdout",
       "text": [
        "\n",
        "79"
       ]
      },
      {
       "output_type": "stream",
       "stream": "stdout",
       "text": [
        "\n",
        "80"
       ]
      },
      {
       "output_type": "stream",
       "stream": "stdout",
       "text": [
        "\n",
        "81"
       ]
      },
      {
       "output_type": "stream",
       "stream": "stdout",
       "text": [
        "\n",
        "82"
       ]
      },
      {
       "output_type": "stream",
       "stream": "stdout",
       "text": [
        "\n",
        "83"
       ]
      },
      {
       "output_type": "stream",
       "stream": "stdout",
       "text": [
        "\n",
        "84"
       ]
      },
      {
       "output_type": "stream",
       "stream": "stdout",
       "text": [
        "\n",
        "85"
       ]
      },
      {
       "output_type": "stream",
       "stream": "stdout",
       "text": [
        "\n",
        "86"
       ]
      },
      {
       "output_type": "stream",
       "stream": "stdout",
       "text": [
        "\n",
        "87"
       ]
      },
      {
       "output_type": "stream",
       "stream": "stdout",
       "text": [
        "\n",
        "88"
       ]
      },
      {
       "output_type": "stream",
       "stream": "stdout",
       "text": [
        "\n",
        "89"
       ]
      },
      {
       "output_type": "stream",
       "stream": "stdout",
       "text": [
        "\n",
        "90"
       ]
      },
      {
       "output_type": "stream",
       "stream": "stdout",
       "text": [
        "\n",
        "91"
       ]
      },
      {
       "output_type": "stream",
       "stream": "stdout",
       "text": [
        "\n",
        "92"
       ]
      },
      {
       "output_type": "stream",
       "stream": "stdout",
       "text": [
        "\n",
        "93"
       ]
      },
      {
       "output_type": "stream",
       "stream": "stdout",
       "text": [
        "\n",
        "94"
       ]
      },
      {
       "output_type": "stream",
       "stream": "stdout",
       "text": [
        "\n",
        "95"
       ]
      },
      {
       "output_type": "stream",
       "stream": "stdout",
       "text": [
        "\n",
        "96"
       ]
      },
      {
       "output_type": "stream",
       "stream": "stdout",
       "text": [
        "\n",
        "97"
       ]
      },
      {
       "output_type": "stream",
       "stream": "stdout",
       "text": [
        "\n",
        "98"
       ]
      },
      {
       "output_type": "stream",
       "stream": "stdout",
       "text": [
        "\n",
        "99"
       ]
      },
      {
       "output_type": "stream",
       "stream": "stdout",
       "text": [
        "\n",
        "100"
       ]
      },
      {
       "output_type": "stream",
       "stream": "stdout",
       "text": [
        "\n",
        "101"
       ]
      },
      {
       "output_type": "stream",
       "stream": "stdout",
       "text": [
        "\n",
        "102"
       ]
      },
      {
       "output_type": "stream",
       "stream": "stdout",
       "text": [
        "\n",
        "103"
       ]
      },
      {
       "output_type": "stream",
       "stream": "stdout",
       "text": [
        "\n",
        "104"
       ]
      },
      {
       "output_type": "stream",
       "stream": "stdout",
       "text": [
        "\n",
        "105"
       ]
      },
      {
       "output_type": "stream",
       "stream": "stdout",
       "text": [
        "\n",
        "106"
       ]
      },
      {
       "output_type": "stream",
       "stream": "stdout",
       "text": [
        "\n",
        "107"
       ]
      },
      {
       "output_type": "stream",
       "stream": "stdout",
       "text": [
        "\n",
        "108"
       ]
      },
      {
       "output_type": "stream",
       "stream": "stdout",
       "text": [
        "\n",
        "109"
       ]
      },
      {
       "output_type": "stream",
       "stream": "stdout",
       "text": [
        "\n",
        "110"
       ]
      },
      {
       "output_type": "stream",
       "stream": "stdout",
       "text": [
        "\n",
        "111"
       ]
      },
      {
       "output_type": "stream",
       "stream": "stdout",
       "text": [
        "\n",
        "112"
       ]
      },
      {
       "output_type": "stream",
       "stream": "stdout",
       "text": [
        "\n",
        "113"
       ]
      },
      {
       "output_type": "stream",
       "stream": "stdout",
       "text": [
        "\n",
        "114"
       ]
      },
      {
       "output_type": "stream",
       "stream": "stdout",
       "text": [
        "\n",
        "115"
       ]
      },
      {
       "output_type": "stream",
       "stream": "stdout",
       "text": [
        "\n",
        "116"
       ]
      },
      {
       "output_type": "stream",
       "stream": "stdout",
       "text": [
        "\n",
        "117"
       ]
      },
      {
       "output_type": "stream",
       "stream": "stdout",
       "text": [
        "\n",
        "118"
       ]
      },
      {
       "output_type": "stream",
       "stream": "stdout",
       "text": [
        "\n",
        "119"
       ]
      },
      {
       "output_type": "stream",
       "stream": "stdout",
       "text": [
        "\n",
        "120"
       ]
      },
      {
       "output_type": "stream",
       "stream": "stdout",
       "text": [
        "\n",
        "121"
       ]
      },
      {
       "output_type": "stream",
       "stream": "stdout",
       "text": [
        "\n",
        "122"
       ]
      },
      {
       "output_type": "stream",
       "stream": "stdout",
       "text": [
        "\n",
        "123"
       ]
      },
      {
       "output_type": "stream",
       "stream": "stdout",
       "text": [
        "\n",
        "124"
       ]
      },
      {
       "output_type": "stream",
       "stream": "stdout",
       "text": [
        "\n",
        "125"
       ]
      },
      {
       "output_type": "stream",
       "stream": "stdout",
       "text": [
        "\n",
        "126"
       ]
      },
      {
       "output_type": "stream",
       "stream": "stdout",
       "text": [
        "\n",
        "127"
       ]
      },
      {
       "output_type": "stream",
       "stream": "stdout",
       "text": [
        "\n",
        "128"
       ]
      },
      {
       "output_type": "stream",
       "stream": "stdout",
       "text": [
        "\n",
        "129"
       ]
      },
      {
       "output_type": "stream",
       "stream": "stdout",
       "text": [
        "\n",
        "130"
       ]
      },
      {
       "output_type": "stream",
       "stream": "stdout",
       "text": [
        "\n",
        "131"
       ]
      },
      {
       "output_type": "stream",
       "stream": "stdout",
       "text": [
        "\n",
        "132"
       ]
      },
      {
       "output_type": "stream",
       "stream": "stdout",
       "text": [
        "\n",
        "133"
       ]
      },
      {
       "output_type": "stream",
       "stream": "stdout",
       "text": [
        "\n",
        "134"
       ]
      },
      {
       "output_type": "stream",
       "stream": "stdout",
       "text": [
        "\n",
        "135"
       ]
      },
      {
       "output_type": "stream",
       "stream": "stdout",
       "text": [
        "\n",
        "136"
       ]
      },
      {
       "output_type": "stream",
       "stream": "stdout",
       "text": [
        "\n",
        "137"
       ]
      },
      {
       "output_type": "stream",
       "stream": "stdout",
       "text": [
        "\n",
        "138"
       ]
      },
      {
       "output_type": "stream",
       "stream": "stdout",
       "text": [
        "\n",
        "139"
       ]
      },
      {
       "output_type": "stream",
       "stream": "stdout",
       "text": [
        "\n",
        "140"
       ]
      },
      {
       "output_type": "stream",
       "stream": "stdout",
       "text": [
        "\n",
        "141"
       ]
      },
      {
       "output_type": "stream",
       "stream": "stdout",
       "text": [
        "\n",
        "142"
       ]
      },
      {
       "output_type": "stream",
       "stream": "stdout",
       "text": [
        "\n",
        "143"
       ]
      },
      {
       "output_type": "stream",
       "stream": "stdout",
       "text": [
        "\n",
        "144"
       ]
      },
      {
       "output_type": "stream",
       "stream": "stdout",
       "text": [
        "\n",
        "145"
       ]
      },
      {
       "output_type": "stream",
       "stream": "stdout",
       "text": [
        "\n",
        "146"
       ]
      },
      {
       "output_type": "stream",
       "stream": "stdout",
       "text": [
        "\n",
        "147"
       ]
      },
      {
       "output_type": "stream",
       "stream": "stdout",
       "text": [
        "\n",
        "148"
       ]
      },
      {
       "output_type": "stream",
       "stream": "stdout",
       "text": [
        "\n",
        "149"
       ]
      },
      {
       "output_type": "stream",
       "stream": "stdout",
       "text": [
        "\n",
        "150"
       ]
      },
      {
       "output_type": "stream",
       "stream": "stdout",
       "text": [
        "\n",
        "151"
       ]
      },
      {
       "output_type": "stream",
       "stream": "stdout",
       "text": [
        "\n",
        "152"
       ]
      },
      {
       "output_type": "stream",
       "stream": "stdout",
       "text": [
        "\n",
        "153"
       ]
      },
      {
       "output_type": "stream",
       "stream": "stdout",
       "text": [
        "\n",
        "154"
       ]
      },
      {
       "output_type": "stream",
       "stream": "stdout",
       "text": [
        "\n",
        "155"
       ]
      },
      {
       "output_type": "stream",
       "stream": "stdout",
       "text": [
        "\n",
        "156"
       ]
      },
      {
       "output_type": "stream",
       "stream": "stdout",
       "text": [
        "\n",
        "157"
       ]
      },
      {
       "output_type": "stream",
       "stream": "stdout",
       "text": [
        "\n",
        "158"
       ]
      },
      {
       "output_type": "stream",
       "stream": "stdout",
       "text": [
        "\n",
        "159"
       ]
      },
      {
       "output_type": "stream",
       "stream": "stdout",
       "text": [
        "\n",
        "160"
       ]
      },
      {
       "output_type": "stream",
       "stream": "stdout",
       "text": [
        "\n",
        "161"
       ]
      },
      {
       "output_type": "stream",
       "stream": "stdout",
       "text": [
        "\n",
        "162"
       ]
      },
      {
       "output_type": "stream",
       "stream": "stdout",
       "text": [
        "\n",
        "163"
       ]
      },
      {
       "output_type": "stream",
       "stream": "stdout",
       "text": [
        "\n",
        "164"
       ]
      },
      {
       "output_type": "stream",
       "stream": "stdout",
       "text": [
        "\n",
        "165"
       ]
      },
      {
       "output_type": "stream",
       "stream": "stdout",
       "text": [
        "\n",
        "166"
       ]
      },
      {
       "output_type": "stream",
       "stream": "stdout",
       "text": [
        "\n",
        "167"
       ]
      },
      {
       "output_type": "stream",
       "stream": "stdout",
       "text": [
        "\n",
        "168"
       ]
      },
      {
       "output_type": "stream",
       "stream": "stdout",
       "text": [
        "\n",
        "169"
       ]
      },
      {
       "output_type": "stream",
       "stream": "stdout",
       "text": [
        "\n",
        "170"
       ]
      },
      {
       "output_type": "stream",
       "stream": "stdout",
       "text": [
        "\n",
        "171"
       ]
      },
      {
       "output_type": "stream",
       "stream": "stdout",
       "text": [
        "\n",
        "172"
       ]
      },
      {
       "output_type": "stream",
       "stream": "stdout",
       "text": [
        "\n",
        "173"
       ]
      },
      {
       "output_type": "stream",
       "stream": "stdout",
       "text": [
        "\n",
        "174"
       ]
      },
      {
       "output_type": "stream",
       "stream": "stdout",
       "text": [
        "\n",
        "175"
       ]
      },
      {
       "output_type": "stream",
       "stream": "stdout",
       "text": [
        "\n",
        "176"
       ]
      },
      {
       "output_type": "stream",
       "stream": "stdout",
       "text": [
        "\n",
        "177"
       ]
      },
      {
       "output_type": "stream",
       "stream": "stdout",
       "text": [
        "\n",
        "178"
       ]
      },
      {
       "output_type": "stream",
       "stream": "stdout",
       "text": [
        "\n",
        "179"
       ]
      },
      {
       "output_type": "stream",
       "stream": "stdout",
       "text": [
        "\n",
        "180"
       ]
      },
      {
       "output_type": "stream",
       "stream": "stdout",
       "text": [
        "\n",
        "181"
       ]
      },
      {
       "output_type": "stream",
       "stream": "stdout",
       "text": [
        "\n",
        "182"
       ]
      },
      {
       "output_type": "stream",
       "stream": "stdout",
       "text": [
        "\n",
        "183"
       ]
      },
      {
       "output_type": "stream",
       "stream": "stdout",
       "text": [
        "\n",
        "184"
       ]
      },
      {
       "output_type": "stream",
       "stream": "stdout",
       "text": [
        "\n",
        "185"
       ]
      },
      {
       "output_type": "stream",
       "stream": "stdout",
       "text": [
        "\n",
        "186"
       ]
      },
      {
       "output_type": "stream",
       "stream": "stdout",
       "text": [
        "\n",
        "187"
       ]
      },
      {
       "output_type": "stream",
       "stream": "stdout",
       "text": [
        "\n",
        "188"
       ]
      },
      {
       "output_type": "stream",
       "stream": "stdout",
       "text": [
        "\n",
        "189"
       ]
      },
      {
       "output_type": "stream",
       "stream": "stdout",
       "text": [
        "\n",
        "190"
       ]
      },
      {
       "output_type": "stream",
       "stream": "stdout",
       "text": [
        "\n",
        "191"
       ]
      },
      {
       "output_type": "stream",
       "stream": "stdout",
       "text": [
        "\n",
        "192"
       ]
      },
      {
       "output_type": "stream",
       "stream": "stdout",
       "text": [
        "\n",
        "193"
       ]
      },
      {
       "output_type": "stream",
       "stream": "stdout",
       "text": [
        "\n",
        "194"
       ]
      },
      {
       "output_type": "stream",
       "stream": "stdout",
       "text": [
        "\n",
        "195"
       ]
      },
      {
       "output_type": "stream",
       "stream": "stdout",
       "text": [
        "\n",
        "196"
       ]
      },
      {
       "output_type": "stream",
       "stream": "stdout",
       "text": [
        "\n",
        "197"
       ]
      },
      {
       "output_type": "stream",
       "stream": "stdout",
       "text": [
        "\n",
        "198"
       ]
      },
      {
       "output_type": "stream",
       "stream": "stdout",
       "text": [
        "\n",
        "199"
       ]
      },
      {
       "output_type": "stream",
       "stream": "stdout",
       "text": [
        "\n",
        "200"
       ]
      },
      {
       "output_type": "stream",
       "stream": "stdout",
       "text": [
        "\n",
        "201"
       ]
      },
      {
       "output_type": "stream",
       "stream": "stdout",
       "text": [
        "\n",
        "202"
       ]
      },
      {
       "output_type": "stream",
       "stream": "stdout",
       "text": [
        "\n",
        "203"
       ]
      },
      {
       "output_type": "stream",
       "stream": "stdout",
       "text": [
        "\n",
        "204"
       ]
      },
      {
       "output_type": "stream",
       "stream": "stdout",
       "text": [
        "\n",
        "205"
       ]
      },
      {
       "output_type": "stream",
       "stream": "stdout",
       "text": [
        "\n",
        "206"
       ]
      },
      {
       "output_type": "stream",
       "stream": "stdout",
       "text": [
        "\n",
        "207"
       ]
      },
      {
       "output_type": "stream",
       "stream": "stdout",
       "text": [
        "\n",
        "208"
       ]
      },
      {
       "output_type": "stream",
       "stream": "stdout",
       "text": [
        "\n",
        "209"
       ]
      },
      {
       "output_type": "stream",
       "stream": "stdout",
       "text": [
        "\n",
        "210"
       ]
      },
      {
       "output_type": "stream",
       "stream": "stdout",
       "text": [
        "\n",
        "211"
       ]
      },
      {
       "output_type": "stream",
       "stream": "stdout",
       "text": [
        "\n",
        "212"
       ]
      },
      {
       "output_type": "stream",
       "stream": "stdout",
       "text": [
        "\n",
        "213"
       ]
      },
      {
       "output_type": "stream",
       "stream": "stdout",
       "text": [
        "\n",
        "214"
       ]
      },
      {
       "output_type": "stream",
       "stream": "stdout",
       "text": [
        "\n",
        "215"
       ]
      },
      {
       "output_type": "stream",
       "stream": "stdout",
       "text": [
        "\n",
        "216"
       ]
      },
      {
       "output_type": "stream",
       "stream": "stdout",
       "text": [
        "\n",
        "217"
       ]
      },
      {
       "output_type": "stream",
       "stream": "stdout",
       "text": [
        "\n",
        "218"
       ]
      },
      {
       "output_type": "stream",
       "stream": "stdout",
       "text": [
        "\n",
        "219"
       ]
      },
      {
       "output_type": "stream",
       "stream": "stdout",
       "text": [
        "\n",
        "220"
       ]
      },
      {
       "output_type": "stream",
       "stream": "stdout",
       "text": [
        "\n",
        "221"
       ]
      },
      {
       "output_type": "stream",
       "stream": "stdout",
       "text": [
        "\n",
        "222"
       ]
      },
      {
       "output_type": "stream",
       "stream": "stdout",
       "text": [
        "\n",
        "223"
       ]
      },
      {
       "output_type": "stream",
       "stream": "stdout",
       "text": [
        "\n",
        "224"
       ]
      },
      {
       "output_type": "stream",
       "stream": "stdout",
       "text": [
        "\n",
        "225"
       ]
      },
      {
       "output_type": "stream",
       "stream": "stdout",
       "text": [
        "\n",
        "226"
       ]
      },
      {
       "output_type": "stream",
       "stream": "stdout",
       "text": [
        "\n",
        "227"
       ]
      },
      {
       "output_type": "stream",
       "stream": "stdout",
       "text": [
        "\n",
        "228"
       ]
      },
      {
       "output_type": "stream",
       "stream": "stdout",
       "text": [
        "\n",
        "229"
       ]
      },
      {
       "output_type": "stream",
       "stream": "stdout",
       "text": [
        "\n",
        "230"
       ]
      },
      {
       "output_type": "stream",
       "stream": "stdout",
       "text": [
        "\n",
        "231"
       ]
      },
      {
       "output_type": "stream",
       "stream": "stdout",
       "text": [
        "\n",
        "232"
       ]
      },
      {
       "output_type": "stream",
       "stream": "stdout",
       "text": [
        "\n",
        "233"
       ]
      },
      {
       "output_type": "stream",
       "stream": "stdout",
       "text": [
        "\n",
        "234"
       ]
      },
      {
       "output_type": "stream",
       "stream": "stdout",
       "text": [
        "\n",
        "235"
       ]
      },
      {
       "output_type": "stream",
       "stream": "stdout",
       "text": [
        "\n",
        "236"
       ]
      },
      {
       "output_type": "stream",
       "stream": "stdout",
       "text": [
        "\n",
        "237"
       ]
      },
      {
       "output_type": "stream",
       "stream": "stdout",
       "text": [
        "\n",
        "238"
       ]
      },
      {
       "output_type": "stream",
       "stream": "stdout",
       "text": [
        "\n",
        "239"
       ]
      },
      {
       "output_type": "stream",
       "stream": "stdout",
       "text": [
        "\n",
        "240"
       ]
      },
      {
       "output_type": "stream",
       "stream": "stdout",
       "text": [
        "\n",
        "241"
       ]
      },
      {
       "output_type": "stream",
       "stream": "stdout",
       "text": [
        "\n",
        "242"
       ]
      },
      {
       "output_type": "stream",
       "stream": "stdout",
       "text": [
        "\n",
        "243"
       ]
      },
      {
       "output_type": "stream",
       "stream": "stdout",
       "text": [
        "\n",
        "244"
       ]
      },
      {
       "output_type": "stream",
       "stream": "stdout",
       "text": [
        "\n",
        "245"
       ]
      },
      {
       "output_type": "stream",
       "stream": "stdout",
       "text": [
        "\n",
        "246"
       ]
      },
      {
       "output_type": "stream",
       "stream": "stdout",
       "text": [
        "\n",
        "247"
       ]
      },
      {
       "output_type": "stream",
       "stream": "stdout",
       "text": [
        "\n",
        "248"
       ]
      },
      {
       "output_type": "stream",
       "stream": "stdout",
       "text": [
        "\n",
        "249"
       ]
      },
      {
       "output_type": "stream",
       "stream": "stdout",
       "text": [
        "\n",
        "250"
       ]
      },
      {
       "output_type": "stream",
       "stream": "stdout",
       "text": [
        "\n",
        "251"
       ]
      },
      {
       "output_type": "stream",
       "stream": "stdout",
       "text": [
        "\n",
        "252"
       ]
      },
      {
       "output_type": "stream",
       "stream": "stdout",
       "text": [
        "\n",
        "253"
       ]
      },
      {
       "output_type": "stream",
       "stream": "stdout",
       "text": [
        "\n",
        "254"
       ]
      },
      {
       "output_type": "stream",
       "stream": "stdout",
       "text": [
        "\n",
        "255"
       ]
      },
      {
       "output_type": "stream",
       "stream": "stdout",
       "text": [
        "\n",
        "256"
       ]
      },
      {
       "output_type": "stream",
       "stream": "stdout",
       "text": [
        "\n",
        "257"
       ]
      },
      {
       "output_type": "stream",
       "stream": "stdout",
       "text": [
        "\n",
        "258"
       ]
      },
      {
       "output_type": "stream",
       "stream": "stdout",
       "text": [
        "\n",
        "259"
       ]
      },
      {
       "output_type": "stream",
       "stream": "stdout",
       "text": [
        "\n",
        "260"
       ]
      },
      {
       "output_type": "stream",
       "stream": "stdout",
       "text": [
        "\n",
        "261"
       ]
      },
      {
       "output_type": "stream",
       "stream": "stdout",
       "text": [
        "\n",
        "262"
       ]
      },
      {
       "output_type": "stream",
       "stream": "stdout",
       "text": [
        "\n",
        "263"
       ]
      },
      {
       "output_type": "stream",
       "stream": "stdout",
       "text": [
        "\n",
        "264"
       ]
      },
      {
       "output_type": "stream",
       "stream": "stdout",
       "text": [
        "\n",
        "265"
       ]
      },
      {
       "output_type": "stream",
       "stream": "stdout",
       "text": [
        "\n",
        "266"
       ]
      },
      {
       "output_type": "stream",
       "stream": "stdout",
       "text": [
        "\n",
        "267"
       ]
      },
      {
       "output_type": "stream",
       "stream": "stdout",
       "text": [
        "\n",
        "268"
       ]
      },
      {
       "output_type": "stream",
       "stream": "stdout",
       "text": [
        "\n",
        "269"
       ]
      },
      {
       "output_type": "stream",
       "stream": "stdout",
       "text": [
        "\n",
        "270"
       ]
      },
      {
       "output_type": "stream",
       "stream": "stdout",
       "text": [
        "\n",
        "271"
       ]
      },
      {
       "output_type": "stream",
       "stream": "stdout",
       "text": [
        "\n",
        "272"
       ]
      },
      {
       "output_type": "stream",
       "stream": "stdout",
       "text": [
        "\n",
        "273"
       ]
      },
      {
       "output_type": "stream",
       "stream": "stdout",
       "text": [
        "\n",
        "274"
       ]
      },
      {
       "output_type": "stream",
       "stream": "stdout",
       "text": [
        "\n",
        "275"
       ]
      },
      {
       "output_type": "stream",
       "stream": "stdout",
       "text": [
        "\n",
        "276"
       ]
      },
      {
       "output_type": "stream",
       "stream": "stdout",
       "text": [
        "\n",
        "277"
       ]
      },
      {
       "output_type": "stream",
       "stream": "stdout",
       "text": [
        "\n",
        "278"
       ]
      },
      {
       "output_type": "stream",
       "stream": "stdout",
       "text": [
        "\n",
        "279"
       ]
      },
      {
       "output_type": "stream",
       "stream": "stdout",
       "text": [
        "\n",
        "280"
       ]
      },
      {
       "output_type": "stream",
       "stream": "stdout",
       "text": [
        "\n",
        "281"
       ]
      },
      {
       "output_type": "stream",
       "stream": "stdout",
       "text": [
        "\n",
        "282"
       ]
      },
      {
       "output_type": "stream",
       "stream": "stdout",
       "text": [
        "\n",
        "283"
       ]
      },
      {
       "output_type": "stream",
       "stream": "stdout",
       "text": [
        "\n",
        "284"
       ]
      },
      {
       "output_type": "stream",
       "stream": "stdout",
       "text": [
        "\n",
        "285"
       ]
      },
      {
       "output_type": "stream",
       "stream": "stdout",
       "text": [
        "\n",
        "286"
       ]
      },
      {
       "output_type": "stream",
       "stream": "stdout",
       "text": [
        "\n",
        "287"
       ]
      },
      {
       "output_type": "stream",
       "stream": "stdout",
       "text": [
        "\n",
        "288"
       ]
      },
      {
       "output_type": "stream",
       "stream": "stdout",
       "text": [
        "\n",
        "289"
       ]
      },
      {
       "output_type": "stream",
       "stream": "stdout",
       "text": [
        "\n",
        "290"
       ]
      },
      {
       "output_type": "stream",
       "stream": "stdout",
       "text": [
        "\n",
        "291"
       ]
      },
      {
       "output_type": "stream",
       "stream": "stdout",
       "text": [
        "\n",
        "292"
       ]
      },
      {
       "output_type": "stream",
       "stream": "stdout",
       "text": [
        "\n",
        "293"
       ]
      },
      {
       "output_type": "stream",
       "stream": "stdout",
       "text": [
        "\n",
        "294"
       ]
      },
      {
       "output_type": "stream",
       "stream": "stdout",
       "text": [
        "\n",
        "295"
       ]
      },
      {
       "output_type": "stream",
       "stream": "stdout",
       "text": [
        "\n",
        "296"
       ]
      },
      {
       "output_type": "stream",
       "stream": "stdout",
       "text": [
        "\n",
        "297"
       ]
      },
      {
       "output_type": "stream",
       "stream": "stdout",
       "text": [
        "\n",
        "298"
       ]
      },
      {
       "output_type": "stream",
       "stream": "stdout",
       "text": [
        "\n",
        "299"
       ]
      },
      {
       "output_type": "stream",
       "stream": "stdout",
       "text": [
        "\n",
        "300"
       ]
      },
      {
       "output_type": "stream",
       "stream": "stdout",
       "text": [
        "\n",
        "301"
       ]
      },
      {
       "output_type": "stream",
       "stream": "stdout",
       "text": [
        "\n",
        "302"
       ]
      },
      {
       "output_type": "stream",
       "stream": "stdout",
       "text": [
        "\n",
        "303"
       ]
      },
      {
       "output_type": "stream",
       "stream": "stdout",
       "text": [
        "\n",
        "304"
       ]
      },
      {
       "output_type": "stream",
       "stream": "stdout",
       "text": [
        "\n",
        "305"
       ]
      },
      {
       "output_type": "stream",
       "stream": "stdout",
       "text": [
        "\n",
        "306"
       ]
      },
      {
       "output_type": "stream",
       "stream": "stdout",
       "text": [
        "\n",
        "307"
       ]
      },
      {
       "output_type": "stream",
       "stream": "stdout",
       "text": [
        "\n",
        "308"
       ]
      },
      {
       "output_type": "stream",
       "stream": "stdout",
       "text": [
        "\n",
        "309"
       ]
      },
      {
       "output_type": "stream",
       "stream": "stdout",
       "text": [
        "\n",
        "310"
       ]
      },
      {
       "output_type": "stream",
       "stream": "stdout",
       "text": [
        "\n",
        "311"
       ]
      },
      {
       "output_type": "stream",
       "stream": "stdout",
       "text": [
        "\n",
        "312"
       ]
      },
      {
       "output_type": "stream",
       "stream": "stdout",
       "text": [
        "\n",
        "313"
       ]
      },
      {
       "output_type": "stream",
       "stream": "stdout",
       "text": [
        "\n",
        "314"
       ]
      },
      {
       "output_type": "stream",
       "stream": "stdout",
       "text": [
        "\n",
        "315"
       ]
      },
      {
       "output_type": "stream",
       "stream": "stdout",
       "text": [
        "\n",
        "316"
       ]
      },
      {
       "output_type": "stream",
       "stream": "stdout",
       "text": [
        "\n",
        "317"
       ]
      },
      {
       "output_type": "stream",
       "stream": "stdout",
       "text": [
        "\n",
        "318"
       ]
      },
      {
       "output_type": "stream",
       "stream": "stdout",
       "text": [
        "\n",
        "319"
       ]
      },
      {
       "output_type": "stream",
       "stream": "stdout",
       "text": [
        "\n",
        "320"
       ]
      },
      {
       "output_type": "stream",
       "stream": "stdout",
       "text": [
        "\n",
        "321"
       ]
      },
      {
       "output_type": "stream",
       "stream": "stdout",
       "text": [
        "\n",
        "322"
       ]
      },
      {
       "output_type": "stream",
       "stream": "stdout",
       "text": [
        "\n",
        "323"
       ]
      },
      {
       "output_type": "stream",
       "stream": "stdout",
       "text": [
        "\n",
        "324"
       ]
      },
      {
       "output_type": "stream",
       "stream": "stdout",
       "text": [
        "\n",
        "325"
       ]
      },
      {
       "output_type": "stream",
       "stream": "stdout",
       "text": [
        "\n",
        "326"
       ]
      },
      {
       "output_type": "stream",
       "stream": "stdout",
       "text": [
        "\n",
        "327"
       ]
      },
      {
       "output_type": "stream",
       "stream": "stdout",
       "text": [
        "\n",
        "328"
       ]
      },
      {
       "output_type": "stream",
       "stream": "stdout",
       "text": [
        "\n",
        "329"
       ]
      },
      {
       "output_type": "stream",
       "stream": "stdout",
       "text": [
        "\n",
        "330"
       ]
      },
      {
       "output_type": "stream",
       "stream": "stdout",
       "text": [
        "\n",
        "331"
       ]
      },
      {
       "output_type": "stream",
       "stream": "stdout",
       "text": [
        "\n",
        "332"
       ]
      },
      {
       "output_type": "stream",
       "stream": "stdout",
       "text": [
        "\n",
        "333"
       ]
      },
      {
       "output_type": "stream",
       "stream": "stdout",
       "text": [
        "\n",
        "334"
       ]
      },
      {
       "output_type": "stream",
       "stream": "stdout",
       "text": [
        "\n",
        "335"
       ]
      },
      {
       "output_type": "stream",
       "stream": "stdout",
       "text": [
        "\n",
        "336"
       ]
      },
      {
       "output_type": "stream",
       "stream": "stdout",
       "text": [
        "\n",
        "337"
       ]
      },
      {
       "output_type": "stream",
       "stream": "stdout",
       "text": [
        "\n",
        "338"
       ]
      },
      {
       "output_type": "stream",
       "stream": "stdout",
       "text": [
        "\n",
        "339"
       ]
      },
      {
       "output_type": "stream",
       "stream": "stdout",
       "text": [
        "\n",
        "340"
       ]
      },
      {
       "output_type": "stream",
       "stream": "stdout",
       "text": [
        "\n",
        "341"
       ]
      },
      {
       "output_type": "stream",
       "stream": "stdout",
       "text": [
        "\n",
        "342"
       ]
      },
      {
       "output_type": "stream",
       "stream": "stdout",
       "text": [
        "\n",
        "343"
       ]
      },
      {
       "output_type": "stream",
       "stream": "stdout",
       "text": [
        "\n",
        "344"
       ]
      },
      {
       "output_type": "stream",
       "stream": "stdout",
       "text": [
        "\n",
        "345"
       ]
      },
      {
       "output_type": "stream",
       "stream": "stdout",
       "text": [
        "\n",
        "346"
       ]
      },
      {
       "output_type": "stream",
       "stream": "stdout",
       "text": [
        "\n",
        "347"
       ]
      },
      {
       "output_type": "stream",
       "stream": "stdout",
       "text": [
        "\n",
        "348"
       ]
      },
      {
       "output_type": "stream",
       "stream": "stdout",
       "text": [
        "\n",
        "349"
       ]
      },
      {
       "output_type": "stream",
       "stream": "stdout",
       "text": [
        "\n",
        "350"
       ]
      },
      {
       "output_type": "stream",
       "stream": "stdout",
       "text": [
        "\n",
        "351"
       ]
      },
      {
       "output_type": "stream",
       "stream": "stdout",
       "text": [
        "\n",
        "352"
       ]
      },
      {
       "output_type": "stream",
       "stream": "stdout",
       "text": [
        "\n",
        "353"
       ]
      },
      {
       "output_type": "stream",
       "stream": "stdout",
       "text": [
        "\n",
        "354"
       ]
      },
      {
       "output_type": "stream",
       "stream": "stdout",
       "text": [
        "\n",
        "355"
       ]
      },
      {
       "output_type": "stream",
       "stream": "stdout",
       "text": [
        "\n",
        "356"
       ]
      },
      {
       "output_type": "stream",
       "stream": "stdout",
       "text": [
        "\n",
        "357"
       ]
      },
      {
       "output_type": "stream",
       "stream": "stdout",
       "text": [
        "\n",
        "358"
       ]
      },
      {
       "output_type": "stream",
       "stream": "stdout",
       "text": [
        "\n",
        "359"
       ]
      },
      {
       "output_type": "stream",
       "stream": "stdout",
       "text": [
        "\n",
        "360"
       ]
      },
      {
       "output_type": "stream",
       "stream": "stdout",
       "text": [
        "\n",
        "361"
       ]
      },
      {
       "output_type": "stream",
       "stream": "stdout",
       "text": [
        "\n",
        "362"
       ]
      },
      {
       "output_type": "stream",
       "stream": "stdout",
       "text": [
        "\n",
        "363"
       ]
      },
      {
       "output_type": "stream",
       "stream": "stdout",
       "text": [
        "\n",
        "364"
       ]
      },
      {
       "output_type": "stream",
       "stream": "stdout",
       "text": [
        "\n",
        "365"
       ]
      },
      {
       "output_type": "stream",
       "stream": "stdout",
       "text": [
        "\n",
        "366"
       ]
      },
      {
       "output_type": "stream",
       "stream": "stdout",
       "text": [
        "\n",
        "367"
       ]
      },
      {
       "output_type": "stream",
       "stream": "stdout",
       "text": [
        "\n",
        "368"
       ]
      },
      {
       "output_type": "stream",
       "stream": "stdout",
       "text": [
        "\n",
        "369"
       ]
      },
      {
       "output_type": "stream",
       "stream": "stdout",
       "text": [
        "\n",
        "370"
       ]
      },
      {
       "output_type": "stream",
       "stream": "stdout",
       "text": [
        "\n",
        "371"
       ]
      },
      {
       "output_type": "stream",
       "stream": "stdout",
       "text": [
        "\n",
        "372"
       ]
      },
      {
       "output_type": "stream",
       "stream": "stdout",
       "text": [
        "\n",
        "373"
       ]
      },
      {
       "output_type": "stream",
       "stream": "stdout",
       "text": [
        "\n",
        "374"
       ]
      },
      {
       "output_type": "stream",
       "stream": "stdout",
       "text": [
        "\n",
        "375"
       ]
      },
      {
       "output_type": "stream",
       "stream": "stdout",
       "text": [
        "\n",
        "376"
       ]
      },
      {
       "output_type": "stream",
       "stream": "stdout",
       "text": [
        "\n",
        "377"
       ]
      },
      {
       "output_type": "stream",
       "stream": "stdout",
       "text": [
        "\n",
        "378"
       ]
      },
      {
       "output_type": "stream",
       "stream": "stdout",
       "text": [
        "\n",
        "379"
       ]
      },
      {
       "output_type": "stream",
       "stream": "stdout",
       "text": [
        "\n",
        "380"
       ]
      },
      {
       "output_type": "stream",
       "stream": "stdout",
       "text": [
        "\n",
        "381"
       ]
      },
      {
       "output_type": "stream",
       "stream": "stdout",
       "text": [
        "\n",
        "382"
       ]
      },
      {
       "output_type": "stream",
       "stream": "stdout",
       "text": [
        "\n",
        "383"
       ]
      },
      {
       "output_type": "stream",
       "stream": "stdout",
       "text": [
        "\n",
        "384"
       ]
      },
      {
       "output_type": "stream",
       "stream": "stdout",
       "text": [
        "\n",
        "385"
       ]
      },
      {
       "output_type": "stream",
       "stream": "stdout",
       "text": [
        "\n",
        "386"
       ]
      },
      {
       "output_type": "stream",
       "stream": "stdout",
       "text": [
        "\n",
        "387"
       ]
      },
      {
       "output_type": "stream",
       "stream": "stdout",
       "text": [
        "\n",
        "388"
       ]
      },
      {
       "output_type": "stream",
       "stream": "stdout",
       "text": [
        "\n",
        "389"
       ]
      },
      {
       "output_type": "stream",
       "stream": "stdout",
       "text": [
        "\n",
        "390"
       ]
      },
      {
       "output_type": "stream",
       "stream": "stdout",
       "text": [
        "\n",
        "391"
       ]
      },
      {
       "output_type": "stream",
       "stream": "stdout",
       "text": [
        "\n",
        "392"
       ]
      },
      {
       "output_type": "stream",
       "stream": "stdout",
       "text": [
        "\n",
        "393"
       ]
      },
      {
       "output_type": "stream",
       "stream": "stdout",
       "text": [
        "\n",
        "394"
       ]
      },
      {
       "output_type": "stream",
       "stream": "stdout",
       "text": [
        "\n",
        "395"
       ]
      },
      {
       "output_type": "stream",
       "stream": "stdout",
       "text": [
        "\n",
        "396"
       ]
      },
      {
       "output_type": "stream",
       "stream": "stdout",
       "text": [
        "\n",
        "397"
       ]
      },
      {
       "output_type": "stream",
       "stream": "stdout",
       "text": [
        "\n",
        "398"
       ]
      },
      {
       "output_type": "stream",
       "stream": "stdout",
       "text": [
        "\n",
        "399"
       ]
      },
      {
       "output_type": "stream",
       "stream": "stdout",
       "text": [
        "\n",
        "0"
       ]
      },
      {
       "output_type": "stream",
       "stream": "stdout",
       "text": [
        "\n",
        "1"
       ]
      },
      {
       "output_type": "stream",
       "stream": "stdout",
       "text": [
        "\n",
        "2"
       ]
      },
      {
       "output_type": "stream",
       "stream": "stdout",
       "text": [
        "\n",
        "3"
       ]
      },
      {
       "output_type": "stream",
       "stream": "stdout",
       "text": [
        "\n",
        "4"
       ]
      },
      {
       "output_type": "stream",
       "stream": "stdout",
       "text": [
        "\n",
        "5"
       ]
      },
      {
       "output_type": "stream",
       "stream": "stdout",
       "text": [
        "\n",
        "6"
       ]
      },
      {
       "output_type": "stream",
       "stream": "stdout",
       "text": [
        "\n",
        "7"
       ]
      },
      {
       "output_type": "stream",
       "stream": "stdout",
       "text": [
        "\n",
        "8"
       ]
      },
      {
       "output_type": "stream",
       "stream": "stdout",
       "text": [
        "\n",
        "9"
       ]
      },
      {
       "output_type": "stream",
       "stream": "stdout",
       "text": [
        "\n",
        "10"
       ]
      },
      {
       "output_type": "stream",
       "stream": "stdout",
       "text": [
        "\n",
        "11"
       ]
      },
      {
       "output_type": "stream",
       "stream": "stdout",
       "text": [
        "\n",
        "12"
       ]
      },
      {
       "output_type": "stream",
       "stream": "stdout",
       "text": [
        "\n",
        "13"
       ]
      },
      {
       "output_type": "stream",
       "stream": "stdout",
       "text": [
        "\n",
        "14"
       ]
      },
      {
       "output_type": "stream",
       "stream": "stdout",
       "text": [
        "\n",
        "15"
       ]
      },
      {
       "output_type": "stream",
       "stream": "stdout",
       "text": [
        "\n",
        "16"
       ]
      },
      {
       "output_type": "stream",
       "stream": "stdout",
       "text": [
        "\n",
        "17"
       ]
      },
      {
       "output_type": "stream",
       "stream": "stdout",
       "text": [
        "\n",
        "18"
       ]
      },
      {
       "output_type": "stream",
       "stream": "stdout",
       "text": [
        "\n",
        "19"
       ]
      },
      {
       "output_type": "stream",
       "stream": "stdout",
       "text": [
        "\n",
        "20"
       ]
      },
      {
       "output_type": "stream",
       "stream": "stdout",
       "text": [
        "\n",
        "21"
       ]
      },
      {
       "output_type": "stream",
       "stream": "stdout",
       "text": [
        "\n",
        "22"
       ]
      },
      {
       "output_type": "stream",
       "stream": "stdout",
       "text": [
        "\n",
        "23"
       ]
      },
      {
       "output_type": "stream",
       "stream": "stdout",
       "text": [
        "\n",
        "24"
       ]
      },
      {
       "output_type": "stream",
       "stream": "stdout",
       "text": [
        "\n",
        "25"
       ]
      },
      {
       "output_type": "stream",
       "stream": "stdout",
       "text": [
        "\n",
        "26"
       ]
      },
      {
       "output_type": "stream",
       "stream": "stdout",
       "text": [
        "\n",
        "27"
       ]
      },
      {
       "output_type": "stream",
       "stream": "stdout",
       "text": [
        "\n",
        "28"
       ]
      },
      {
       "output_type": "stream",
       "stream": "stdout",
       "text": [
        "\n",
        "29"
       ]
      },
      {
       "output_type": "stream",
       "stream": "stdout",
       "text": [
        "\n",
        "30"
       ]
      },
      {
       "output_type": "stream",
       "stream": "stdout",
       "text": [
        "\n",
        "31"
       ]
      },
      {
       "output_type": "stream",
       "stream": "stdout",
       "text": [
        "\n",
        "32"
       ]
      },
      {
       "output_type": "stream",
       "stream": "stdout",
       "text": [
        "\n",
        "33"
       ]
      },
      {
       "output_type": "stream",
       "stream": "stdout",
       "text": [
        "\n",
        "34"
       ]
      },
      {
       "output_type": "stream",
       "stream": "stdout",
       "text": [
        "\n",
        "35"
       ]
      },
      {
       "output_type": "stream",
       "stream": "stdout",
       "text": [
        "\n",
        "36"
       ]
      },
      {
       "output_type": "stream",
       "stream": "stdout",
       "text": [
        "\n",
        "37"
       ]
      },
      {
       "output_type": "stream",
       "stream": "stdout",
       "text": [
        "\n",
        "38"
       ]
      },
      {
       "output_type": "stream",
       "stream": "stdout",
       "text": [
        "\n",
        "39"
       ]
      },
      {
       "output_type": "stream",
       "stream": "stdout",
       "text": [
        "\n",
        "40"
       ]
      },
      {
       "output_type": "stream",
       "stream": "stdout",
       "text": [
        "\n",
        "41"
       ]
      },
      {
       "output_type": "stream",
       "stream": "stdout",
       "text": [
        "\n",
        "42"
       ]
      },
      {
       "output_type": "stream",
       "stream": "stdout",
       "text": [
        "\n",
        "43"
       ]
      },
      {
       "output_type": "stream",
       "stream": "stdout",
       "text": [
        "\n",
        "44"
       ]
      },
      {
       "output_type": "stream",
       "stream": "stdout",
       "text": [
        "\n",
        "45"
       ]
      },
      {
       "output_type": "stream",
       "stream": "stdout",
       "text": [
        "\n",
        "46"
       ]
      },
      {
       "output_type": "stream",
       "stream": "stdout",
       "text": [
        "\n",
        "47"
       ]
      },
      {
       "output_type": "stream",
       "stream": "stdout",
       "text": [
        "\n",
        "48"
       ]
      },
      {
       "output_type": "stream",
       "stream": "stdout",
       "text": [
        "\n",
        "49"
       ]
      },
      {
       "output_type": "stream",
       "stream": "stdout",
       "text": [
        "\n",
        "50"
       ]
      },
      {
       "output_type": "stream",
       "stream": "stdout",
       "text": [
        "\n",
        "51"
       ]
      },
      {
       "output_type": "stream",
       "stream": "stdout",
       "text": [
        "\n",
        "52"
       ]
      },
      {
       "output_type": "stream",
       "stream": "stdout",
       "text": [
        "\n",
        "53"
       ]
      },
      {
       "output_type": "stream",
       "stream": "stdout",
       "text": [
        "\n",
        "54"
       ]
      },
      {
       "output_type": "stream",
       "stream": "stdout",
       "text": [
        "\n",
        "55"
       ]
      },
      {
       "output_type": "stream",
       "stream": "stdout",
       "text": [
        "\n",
        "56"
       ]
      },
      {
       "output_type": "stream",
       "stream": "stdout",
       "text": [
        "\n",
        "57"
       ]
      },
      {
       "output_type": "stream",
       "stream": "stdout",
       "text": [
        "\n",
        "58"
       ]
      },
      {
       "output_type": "stream",
       "stream": "stdout",
       "text": [
        "\n",
        "59"
       ]
      },
      {
       "output_type": "stream",
       "stream": "stdout",
       "text": [
        "\n",
        "60"
       ]
      },
      {
       "output_type": "stream",
       "stream": "stdout",
       "text": [
        "\n",
        "61"
       ]
      },
      {
       "output_type": "stream",
       "stream": "stdout",
       "text": [
        "\n",
        "62"
       ]
      },
      {
       "output_type": "stream",
       "stream": "stdout",
       "text": [
        "\n",
        "63"
       ]
      },
      {
       "output_type": "stream",
       "stream": "stdout",
       "text": [
        "\n",
        "64"
       ]
      },
      {
       "output_type": "stream",
       "stream": "stdout",
       "text": [
        "\n",
        "65"
       ]
      },
      {
       "output_type": "stream",
       "stream": "stdout",
       "text": [
        "\n",
        "66"
       ]
      },
      {
       "output_type": "stream",
       "stream": "stdout",
       "text": [
        "\n",
        "67"
       ]
      },
      {
       "output_type": "stream",
       "stream": "stdout",
       "text": [
        "\n",
        "68"
       ]
      },
      {
       "output_type": "stream",
       "stream": "stdout",
       "text": [
        "\n",
        "69"
       ]
      },
      {
       "output_type": "stream",
       "stream": "stdout",
       "text": [
        "\n",
        "70"
       ]
      },
      {
       "output_type": "stream",
       "stream": "stdout",
       "text": [
        "\n",
        "71"
       ]
      },
      {
       "output_type": "stream",
       "stream": "stdout",
       "text": [
        "\n",
        "72"
       ]
      },
      {
       "output_type": "stream",
       "stream": "stdout",
       "text": [
        "\n",
        "73"
       ]
      },
      {
       "output_type": "stream",
       "stream": "stdout",
       "text": [
        "\n",
        "74"
       ]
      },
      {
       "output_type": "stream",
       "stream": "stdout",
       "text": [
        "\n",
        "75"
       ]
      },
      {
       "output_type": "stream",
       "stream": "stdout",
       "text": [
        "\n",
        "76"
       ]
      },
      {
       "output_type": "stream",
       "stream": "stdout",
       "text": [
        "\n",
        "77"
       ]
      },
      {
       "output_type": "stream",
       "stream": "stdout",
       "text": [
        "\n",
        "78"
       ]
      },
      {
       "output_type": "stream",
       "stream": "stdout",
       "text": [
        "\n",
        "79"
       ]
      },
      {
       "output_type": "stream",
       "stream": "stdout",
       "text": [
        "\n",
        "80"
       ]
      },
      {
       "output_type": "stream",
       "stream": "stdout",
       "text": [
        "\n",
        "81"
       ]
      },
      {
       "output_type": "stream",
       "stream": "stdout",
       "text": [
        "\n",
        "82"
       ]
      },
      {
       "output_type": "stream",
       "stream": "stdout",
       "text": [
        "\n",
        "83"
       ]
      },
      {
       "output_type": "stream",
       "stream": "stdout",
       "text": [
        "\n",
        "84"
       ]
      },
      {
       "output_type": "stream",
       "stream": "stdout",
       "text": [
        "\n",
        "85"
       ]
      },
      {
       "output_type": "stream",
       "stream": "stdout",
       "text": [
        "\n",
        "86"
       ]
      },
      {
       "output_type": "stream",
       "stream": "stdout",
       "text": [
        "\n",
        "87"
       ]
      },
      {
       "output_type": "stream",
       "stream": "stdout",
       "text": [
        "\n",
        "88"
       ]
      },
      {
       "output_type": "stream",
       "stream": "stdout",
       "text": [
        "\n",
        "89"
       ]
      },
      {
       "output_type": "stream",
       "stream": "stdout",
       "text": [
        "\n",
        "90"
       ]
      },
      {
       "output_type": "stream",
       "stream": "stdout",
       "text": [
        "\n",
        "91"
       ]
      },
      {
       "output_type": "stream",
       "stream": "stdout",
       "text": [
        "\n",
        "92"
       ]
      },
      {
       "output_type": "stream",
       "stream": "stdout",
       "text": [
        "\n",
        "93"
       ]
      },
      {
       "output_type": "stream",
       "stream": "stdout",
       "text": [
        "\n",
        "94"
       ]
      },
      {
       "output_type": "stream",
       "stream": "stdout",
       "text": [
        "\n",
        "95"
       ]
      },
      {
       "output_type": "stream",
       "stream": "stdout",
       "text": [
        "\n",
        "96"
       ]
      },
      {
       "output_type": "stream",
       "stream": "stdout",
       "text": [
        "\n",
        "97"
       ]
      },
      {
       "output_type": "stream",
       "stream": "stdout",
       "text": [
        "\n",
        "98"
       ]
      },
      {
       "output_type": "stream",
       "stream": "stdout",
       "text": [
        "\n",
        "99"
       ]
      },
      {
       "output_type": "stream",
       "stream": "stdout",
       "text": [
        "\n",
        "100"
       ]
      },
      {
       "output_type": "stream",
       "stream": "stdout",
       "text": [
        "\n",
        "101"
       ]
      },
      {
       "output_type": "stream",
       "stream": "stdout",
       "text": [
        "\n",
        "102"
       ]
      },
      {
       "output_type": "stream",
       "stream": "stdout",
       "text": [
        "\n",
        "103"
       ]
      },
      {
       "output_type": "stream",
       "stream": "stdout",
       "text": [
        "\n",
        "104"
       ]
      },
      {
       "output_type": "stream",
       "stream": "stdout",
       "text": [
        "\n",
        "105"
       ]
      },
      {
       "output_type": "stream",
       "stream": "stdout",
       "text": [
        "\n",
        "106"
       ]
      },
      {
       "output_type": "stream",
       "stream": "stdout",
       "text": [
        "\n",
        "107"
       ]
      },
      {
       "output_type": "stream",
       "stream": "stdout",
       "text": [
        "\n",
        "108"
       ]
      },
      {
       "output_type": "stream",
       "stream": "stdout",
       "text": [
        "\n",
        "109"
       ]
      },
      {
       "output_type": "stream",
       "stream": "stdout",
       "text": [
        "\n",
        "110"
       ]
      },
      {
       "output_type": "stream",
       "stream": "stdout",
       "text": [
        "\n",
        "111"
       ]
      },
      {
       "output_type": "stream",
       "stream": "stdout",
       "text": [
        "\n",
        "112"
       ]
      },
      {
       "output_type": "stream",
       "stream": "stdout",
       "text": [
        "\n",
        "113"
       ]
      },
      {
       "output_type": "stream",
       "stream": "stdout",
       "text": [
        "\n",
        "114"
       ]
      },
      {
       "output_type": "stream",
       "stream": "stdout",
       "text": [
        "\n",
        "115"
       ]
      },
      {
       "output_type": "stream",
       "stream": "stdout",
       "text": [
        "\n",
        "116"
       ]
      },
      {
       "output_type": "stream",
       "stream": "stdout",
       "text": [
        "\n",
        "117"
       ]
      },
      {
       "output_type": "stream",
       "stream": "stdout",
       "text": [
        "\n",
        "118"
       ]
      },
      {
       "output_type": "stream",
       "stream": "stdout",
       "text": [
        "\n",
        "119"
       ]
      },
      {
       "output_type": "stream",
       "stream": "stdout",
       "text": [
        "\n",
        "120"
       ]
      },
      {
       "output_type": "stream",
       "stream": "stdout",
       "text": [
        "\n",
        "121"
       ]
      },
      {
       "output_type": "stream",
       "stream": "stdout",
       "text": [
        "\n",
        "122"
       ]
      },
      {
       "output_type": "stream",
       "stream": "stdout",
       "text": [
        "\n",
        "123"
       ]
      },
      {
       "output_type": "stream",
       "stream": "stdout",
       "text": [
        "\n",
        "124"
       ]
      },
      {
       "output_type": "stream",
       "stream": "stdout",
       "text": [
        "\n",
        "125"
       ]
      },
      {
       "output_type": "stream",
       "stream": "stdout",
       "text": [
        "\n",
        "126"
       ]
      },
      {
       "output_type": "stream",
       "stream": "stdout",
       "text": [
        "\n",
        "127"
       ]
      },
      {
       "output_type": "stream",
       "stream": "stdout",
       "text": [
        "\n",
        "128"
       ]
      },
      {
       "output_type": "stream",
       "stream": "stdout",
       "text": [
        "\n",
        "129"
       ]
      },
      {
       "output_type": "stream",
       "stream": "stdout",
       "text": [
        "\n",
        "130"
       ]
      },
      {
       "output_type": "stream",
       "stream": "stdout",
       "text": [
        "\n",
        "131"
       ]
      },
      {
       "output_type": "stream",
       "stream": "stdout",
       "text": [
        "\n",
        "132"
       ]
      },
      {
       "output_type": "stream",
       "stream": "stdout",
       "text": [
        "\n",
        "133"
       ]
      },
      {
       "output_type": "stream",
       "stream": "stdout",
       "text": [
        "\n",
        "134"
       ]
      },
      {
       "output_type": "stream",
       "stream": "stdout",
       "text": [
        "\n",
        "135"
       ]
      },
      {
       "output_type": "stream",
       "stream": "stdout",
       "text": [
        "\n",
        "136"
       ]
      },
      {
       "output_type": "stream",
       "stream": "stdout",
       "text": [
        "\n",
        "137"
       ]
      },
      {
       "output_type": "stream",
       "stream": "stdout",
       "text": [
        "\n",
        "138"
       ]
      },
      {
       "output_type": "stream",
       "stream": "stdout",
       "text": [
        "\n",
        "139"
       ]
      },
      {
       "output_type": "stream",
       "stream": "stdout",
       "text": [
        "\n",
        "140"
       ]
      },
      {
       "output_type": "stream",
       "stream": "stdout",
       "text": [
        "\n",
        "141"
       ]
      },
      {
       "output_type": "stream",
       "stream": "stdout",
       "text": [
        "\n",
        "142"
       ]
      },
      {
       "output_type": "stream",
       "stream": "stdout",
       "text": [
        "\n",
        "143"
       ]
      },
      {
       "output_type": "stream",
       "stream": "stdout",
       "text": [
        "\n",
        "144"
       ]
      },
      {
       "output_type": "stream",
       "stream": "stdout",
       "text": [
        "\n",
        "145"
       ]
      },
      {
       "output_type": "stream",
       "stream": "stdout",
       "text": [
        "\n",
        "146"
       ]
      },
      {
       "output_type": "stream",
       "stream": "stdout",
       "text": [
        "\n",
        "147"
       ]
      },
      {
       "output_type": "stream",
       "stream": "stdout",
       "text": [
        "\n",
        "148"
       ]
      },
      {
       "output_type": "stream",
       "stream": "stdout",
       "text": [
        "\n",
        "149"
       ]
      },
      {
       "output_type": "stream",
       "stream": "stdout",
       "text": [
        "\n",
        "150"
       ]
      },
      {
       "output_type": "stream",
       "stream": "stdout",
       "text": [
        "\n",
        "151"
       ]
      },
      {
       "output_type": "stream",
       "stream": "stdout",
       "text": [
        "\n",
        "152"
       ]
      },
      {
       "output_type": "stream",
       "stream": "stdout",
       "text": [
        "\n",
        "153"
       ]
      },
      {
       "output_type": "stream",
       "stream": "stdout",
       "text": [
        "\n",
        "154"
       ]
      },
      {
       "output_type": "stream",
       "stream": "stdout",
       "text": [
        "\n",
        "155"
       ]
      },
      {
       "output_type": "stream",
       "stream": "stdout",
       "text": [
        "\n",
        "156"
       ]
      },
      {
       "output_type": "stream",
       "stream": "stdout",
       "text": [
        "\n",
        "157"
       ]
      },
      {
       "output_type": "stream",
       "stream": "stdout",
       "text": [
        "\n",
        "158"
       ]
      },
      {
       "output_type": "stream",
       "stream": "stdout",
       "text": [
        "\n",
        "159"
       ]
      },
      {
       "output_type": "stream",
       "stream": "stdout",
       "text": [
        "\n",
        "160"
       ]
      },
      {
       "output_type": "stream",
       "stream": "stdout",
       "text": [
        "\n",
        "161"
       ]
      },
      {
       "output_type": "stream",
       "stream": "stdout",
       "text": [
        "\n",
        "162"
       ]
      },
      {
       "output_type": "stream",
       "stream": "stdout",
       "text": [
        "\n",
        "163"
       ]
      },
      {
       "output_type": "stream",
       "stream": "stdout",
       "text": [
        "\n",
        "164"
       ]
      },
      {
       "output_type": "stream",
       "stream": "stdout",
       "text": [
        "\n",
        "165"
       ]
      },
      {
       "output_type": "stream",
       "stream": "stdout",
       "text": [
        "\n",
        "166"
       ]
      },
      {
       "output_type": "stream",
       "stream": "stdout",
       "text": [
        "\n",
        "167"
       ]
      },
      {
       "output_type": "stream",
       "stream": "stdout",
       "text": [
        "\n",
        "168"
       ]
      },
      {
       "output_type": "stream",
       "stream": "stdout",
       "text": [
        "\n",
        "169"
       ]
      },
      {
       "output_type": "stream",
       "stream": "stdout",
       "text": [
        "\n",
        "170"
       ]
      },
      {
       "output_type": "stream",
       "stream": "stdout",
       "text": [
        "\n",
        "171"
       ]
      },
      {
       "output_type": "stream",
       "stream": "stdout",
       "text": [
        "\n",
        "172"
       ]
      },
      {
       "output_type": "stream",
       "stream": "stdout",
       "text": [
        "\n",
        "173"
       ]
      },
      {
       "output_type": "stream",
       "stream": "stdout",
       "text": [
        "\n",
        "174"
       ]
      },
      {
       "output_type": "stream",
       "stream": "stdout",
       "text": [
        "\n",
        "175"
       ]
      },
      {
       "output_type": "stream",
       "stream": "stdout",
       "text": [
        "\n",
        "176"
       ]
      },
      {
       "output_type": "stream",
       "stream": "stdout",
       "text": [
        "\n",
        "177"
       ]
      },
      {
       "output_type": "stream",
       "stream": "stdout",
       "text": [
        "\n",
        "178"
       ]
      },
      {
       "output_type": "stream",
       "stream": "stdout",
       "text": [
        "\n",
        "179"
       ]
      },
      {
       "output_type": "stream",
       "stream": "stdout",
       "text": [
        "\n",
        "180"
       ]
      },
      {
       "output_type": "stream",
       "stream": "stdout",
       "text": [
        "\n",
        "181"
       ]
      },
      {
       "output_type": "stream",
       "stream": "stdout",
       "text": [
        "\n",
        "182"
       ]
      },
      {
       "output_type": "stream",
       "stream": "stdout",
       "text": [
        "\n",
        "183"
       ]
      },
      {
       "output_type": "stream",
       "stream": "stdout",
       "text": [
        "\n",
        "184"
       ]
      },
      {
       "output_type": "stream",
       "stream": "stdout",
       "text": [
        "\n",
        "185"
       ]
      },
      {
       "output_type": "stream",
       "stream": "stdout",
       "text": [
        "\n",
        "186"
       ]
      },
      {
       "output_type": "stream",
       "stream": "stdout",
       "text": [
        "\n",
        "187"
       ]
      },
      {
       "output_type": "stream",
       "stream": "stdout",
       "text": [
        "\n",
        "188"
       ]
      },
      {
       "output_type": "stream",
       "stream": "stdout",
       "text": [
        "\n",
        "189"
       ]
      },
      {
       "output_type": "stream",
       "stream": "stdout",
       "text": [
        "\n",
        "190"
       ]
      },
      {
       "output_type": "stream",
       "stream": "stdout",
       "text": [
        "\n",
        "191"
       ]
      },
      {
       "output_type": "stream",
       "stream": "stdout",
       "text": [
        "\n",
        "192"
       ]
      },
      {
       "output_type": "stream",
       "stream": "stdout",
       "text": [
        "\n",
        "193"
       ]
      },
      {
       "output_type": "stream",
       "stream": "stdout",
       "text": [
        "\n",
        "194"
       ]
      },
      {
       "output_type": "stream",
       "stream": "stdout",
       "text": [
        "\n",
        "195"
       ]
      },
      {
       "output_type": "stream",
       "stream": "stdout",
       "text": [
        "\n",
        "196"
       ]
      },
      {
       "output_type": "stream",
       "stream": "stdout",
       "text": [
        "\n",
        "197"
       ]
      },
      {
       "output_type": "stream",
       "stream": "stdout",
       "text": [
        "\n",
        "198"
       ]
      },
      {
       "output_type": "stream",
       "stream": "stdout",
       "text": [
        "\n",
        "199"
       ]
      },
      {
       "output_type": "stream",
       "stream": "stdout",
       "text": [
        "\n",
        "200"
       ]
      },
      {
       "output_type": "stream",
       "stream": "stdout",
       "text": [
        "\n",
        "201"
       ]
      },
      {
       "output_type": "stream",
       "stream": "stdout",
       "text": [
        "\n",
        "202"
       ]
      },
      {
       "output_type": "stream",
       "stream": "stdout",
       "text": [
        "\n",
        "203"
       ]
      },
      {
       "output_type": "stream",
       "stream": "stdout",
       "text": [
        "\n",
        "204"
       ]
      },
      {
       "output_type": "stream",
       "stream": "stdout",
       "text": [
        "\n",
        "205"
       ]
      },
      {
       "output_type": "stream",
       "stream": "stdout",
       "text": [
        "\n",
        "206"
       ]
      },
      {
       "output_type": "stream",
       "stream": "stdout",
       "text": [
        "\n",
        "207"
       ]
      },
      {
       "output_type": "stream",
       "stream": "stdout",
       "text": [
        "\n",
        "208"
       ]
      },
      {
       "output_type": "stream",
       "stream": "stdout",
       "text": [
        "\n",
        "209"
       ]
      },
      {
       "output_type": "stream",
       "stream": "stdout",
       "text": [
        "\n",
        "210"
       ]
      },
      {
       "output_type": "stream",
       "stream": "stdout",
       "text": [
        "\n",
        "211"
       ]
      },
      {
       "output_type": "stream",
       "stream": "stdout",
       "text": [
        "\n",
        "212"
       ]
      },
      {
       "output_type": "stream",
       "stream": "stdout",
       "text": [
        "\n",
        "213"
       ]
      },
      {
       "output_type": "stream",
       "stream": "stdout",
       "text": [
        "\n",
        "214"
       ]
      },
      {
       "output_type": "stream",
       "stream": "stdout",
       "text": [
        "\n",
        "215"
       ]
      },
      {
       "output_type": "stream",
       "stream": "stdout",
       "text": [
        "\n",
        "216"
       ]
      },
      {
       "output_type": "stream",
       "stream": "stdout",
       "text": [
        "\n",
        "217"
       ]
      },
      {
       "output_type": "stream",
       "stream": "stdout",
       "text": [
        "\n",
        "218"
       ]
      },
      {
       "output_type": "stream",
       "stream": "stdout",
       "text": [
        "\n",
        "219"
       ]
      },
      {
       "output_type": "stream",
       "stream": "stdout",
       "text": [
        "\n",
        "220"
       ]
      },
      {
       "output_type": "stream",
       "stream": "stdout",
       "text": [
        "\n",
        "221"
       ]
      },
      {
       "output_type": "stream",
       "stream": "stdout",
       "text": [
        "\n",
        "222"
       ]
      },
      {
       "output_type": "stream",
       "stream": "stdout",
       "text": [
        "\n",
        "223"
       ]
      },
      {
       "output_type": "stream",
       "stream": "stdout",
       "text": [
        "\n",
        "224"
       ]
      },
      {
       "output_type": "stream",
       "stream": "stdout",
       "text": [
        "\n",
        "225"
       ]
      },
      {
       "output_type": "stream",
       "stream": "stdout",
       "text": [
        "\n",
        "226"
       ]
      },
      {
       "output_type": "stream",
       "stream": "stdout",
       "text": [
        "\n",
        "227"
       ]
      },
      {
       "output_type": "stream",
       "stream": "stdout",
       "text": [
        "\n",
        "228"
       ]
      },
      {
       "output_type": "stream",
       "stream": "stdout",
       "text": [
        "\n",
        "229"
       ]
      },
      {
       "output_type": "stream",
       "stream": "stdout",
       "text": [
        "\n",
        "230"
       ]
      },
      {
       "output_type": "stream",
       "stream": "stdout",
       "text": [
        "\n",
        "231"
       ]
      },
      {
       "output_type": "stream",
       "stream": "stdout",
       "text": [
        "\n",
        "232"
       ]
      },
      {
       "output_type": "stream",
       "stream": "stdout",
       "text": [
        "\n",
        "233"
       ]
      },
      {
       "output_type": "stream",
       "stream": "stdout",
       "text": [
        "\n",
        "234"
       ]
      },
      {
       "output_type": "stream",
       "stream": "stdout",
       "text": [
        "\n",
        "235"
       ]
      },
      {
       "output_type": "stream",
       "stream": "stdout",
       "text": [
        "\n",
        "236"
       ]
      },
      {
       "output_type": "stream",
       "stream": "stdout",
       "text": [
        "\n",
        "237"
       ]
      },
      {
       "output_type": "stream",
       "stream": "stdout",
       "text": [
        "\n",
        "238"
       ]
      },
      {
       "output_type": "stream",
       "stream": "stdout",
       "text": [
        "\n",
        "239"
       ]
      },
      {
       "output_type": "stream",
       "stream": "stdout",
       "text": [
        "\n",
        "240"
       ]
      },
      {
       "output_type": "stream",
       "stream": "stdout",
       "text": [
        "\n",
        "241"
       ]
      },
      {
       "output_type": "stream",
       "stream": "stdout",
       "text": [
        "\n",
        "242"
       ]
      },
      {
       "output_type": "stream",
       "stream": "stdout",
       "text": [
        "\n",
        "243"
       ]
      },
      {
       "output_type": "stream",
       "stream": "stdout",
       "text": [
        "\n",
        "244"
       ]
      },
      {
       "output_type": "stream",
       "stream": "stdout",
       "text": [
        "\n",
        "245"
       ]
      },
      {
       "output_type": "stream",
       "stream": "stdout",
       "text": [
        "\n",
        "246"
       ]
      },
      {
       "output_type": "stream",
       "stream": "stdout",
       "text": [
        "\n",
        "247"
       ]
      },
      {
       "output_type": "stream",
       "stream": "stdout",
       "text": [
        "\n",
        "248"
       ]
      },
      {
       "output_type": "stream",
       "stream": "stdout",
       "text": [
        "\n",
        "249"
       ]
      },
      {
       "output_type": "stream",
       "stream": "stdout",
       "text": [
        "\n",
        "250"
       ]
      },
      {
       "output_type": "stream",
       "stream": "stdout",
       "text": [
        "\n",
        "251"
       ]
      },
      {
       "output_type": "stream",
       "stream": "stdout",
       "text": [
        "\n",
        "252"
       ]
      },
      {
       "output_type": "stream",
       "stream": "stdout",
       "text": [
        "\n",
        "253"
       ]
      },
      {
       "output_type": "stream",
       "stream": "stdout",
       "text": [
        "\n",
        "254"
       ]
      },
      {
       "output_type": "stream",
       "stream": "stdout",
       "text": [
        "\n",
        "255"
       ]
      },
      {
       "output_type": "stream",
       "stream": "stdout",
       "text": [
        "\n",
        "256"
       ]
      },
      {
       "output_type": "stream",
       "stream": "stdout",
       "text": [
        "\n",
        "257"
       ]
      },
      {
       "output_type": "stream",
       "stream": "stdout",
       "text": [
        "\n",
        "258"
       ]
      },
      {
       "output_type": "stream",
       "stream": "stdout",
       "text": [
        "\n",
        "259"
       ]
      },
      {
       "output_type": "stream",
       "stream": "stdout",
       "text": [
        "\n",
        "260"
       ]
      },
      {
       "output_type": "stream",
       "stream": "stdout",
       "text": [
        "\n",
        "261"
       ]
      },
      {
       "output_type": "stream",
       "stream": "stdout",
       "text": [
        "\n",
        "262"
       ]
      },
      {
       "output_type": "stream",
       "stream": "stdout",
       "text": [
        "\n",
        "263"
       ]
      },
      {
       "output_type": "stream",
       "stream": "stdout",
       "text": [
        "\n",
        "264"
       ]
      },
      {
       "output_type": "stream",
       "stream": "stdout",
       "text": [
        "\n",
        "265"
       ]
      },
      {
       "output_type": "stream",
       "stream": "stdout",
       "text": [
        "\n",
        "266"
       ]
      },
      {
       "output_type": "stream",
       "stream": "stdout",
       "text": [
        "\n",
        "267"
       ]
      },
      {
       "output_type": "stream",
       "stream": "stdout",
       "text": [
        "\n",
        "268"
       ]
      },
      {
       "output_type": "stream",
       "stream": "stdout",
       "text": [
        "\n",
        "269"
       ]
      },
      {
       "output_type": "stream",
       "stream": "stdout",
       "text": [
        "\n",
        "270"
       ]
      },
      {
       "output_type": "stream",
       "stream": "stdout",
       "text": [
        "\n",
        "271"
       ]
      },
      {
       "output_type": "stream",
       "stream": "stdout",
       "text": [
        "\n",
        "272"
       ]
      },
      {
       "output_type": "stream",
       "stream": "stdout",
       "text": [
        "\n",
        "273"
       ]
      },
      {
       "output_type": "stream",
       "stream": "stdout",
       "text": [
        "\n",
        "274"
       ]
      },
      {
       "output_type": "stream",
       "stream": "stdout",
       "text": [
        "\n",
        "275"
       ]
      },
      {
       "output_type": "stream",
       "stream": "stdout",
       "text": [
        "\n",
        "276"
       ]
      },
      {
       "output_type": "stream",
       "stream": "stdout",
       "text": [
        "\n",
        "277"
       ]
      },
      {
       "output_type": "stream",
       "stream": "stdout",
       "text": [
        "\n",
        "278"
       ]
      },
      {
       "output_type": "stream",
       "stream": "stdout",
       "text": [
        "\n",
        "279"
       ]
      },
      {
       "output_type": "stream",
       "stream": "stdout",
       "text": [
        "\n",
        "280"
       ]
      },
      {
       "output_type": "stream",
       "stream": "stdout",
       "text": [
        "\n",
        "281"
       ]
      },
      {
       "output_type": "stream",
       "stream": "stdout",
       "text": [
        "\n",
        "282"
       ]
      },
      {
       "output_type": "stream",
       "stream": "stdout",
       "text": [
        "\n",
        "283"
       ]
      },
      {
       "output_type": "stream",
       "stream": "stdout",
       "text": [
        "\n",
        "284"
       ]
      },
      {
       "output_type": "stream",
       "stream": "stdout",
       "text": [
        "\n",
        "285"
       ]
      },
      {
       "output_type": "stream",
       "stream": "stdout",
       "text": [
        "\n",
        "286"
       ]
      },
      {
       "output_type": "stream",
       "stream": "stdout",
       "text": [
        "\n",
        "287"
       ]
      },
      {
       "output_type": "stream",
       "stream": "stdout",
       "text": [
        "\n",
        "288"
       ]
      },
      {
       "output_type": "stream",
       "stream": "stdout",
       "text": [
        "\n",
        "289"
       ]
      },
      {
       "output_type": "stream",
       "stream": "stdout",
       "text": [
        "\n",
        "290"
       ]
      },
      {
       "output_type": "stream",
       "stream": "stdout",
       "text": [
        "\n",
        "291"
       ]
      },
      {
       "output_type": "stream",
       "stream": "stdout",
       "text": [
        "\n",
        "292"
       ]
      },
      {
       "output_type": "stream",
       "stream": "stdout",
       "text": [
        "\n",
        "293"
       ]
      },
      {
       "output_type": "stream",
       "stream": "stdout",
       "text": [
        "\n",
        "294"
       ]
      },
      {
       "output_type": "stream",
       "stream": "stdout",
       "text": [
        "\n",
        "295"
       ]
      },
      {
       "output_type": "stream",
       "stream": "stdout",
       "text": [
        "\n",
        "296"
       ]
      },
      {
       "output_type": "stream",
       "stream": "stdout",
       "text": [
        "\n",
        "297"
       ]
      },
      {
       "output_type": "stream",
       "stream": "stdout",
       "text": [
        "\n",
        "298"
       ]
      },
      {
       "output_type": "stream",
       "stream": "stdout",
       "text": [
        "\n",
        "299"
       ]
      },
      {
       "output_type": "stream",
       "stream": "stdout",
       "text": [
        "\n",
        "300"
       ]
      },
      {
       "output_type": "stream",
       "stream": "stdout",
       "text": [
        "\n",
        "301"
       ]
      },
      {
       "output_type": "stream",
       "stream": "stdout",
       "text": [
        "\n",
        "302"
       ]
      },
      {
       "output_type": "stream",
       "stream": "stdout",
       "text": [
        "\n",
        "303"
       ]
      },
      {
       "output_type": "stream",
       "stream": "stdout",
       "text": [
        "\n",
        "304"
       ]
      },
      {
       "output_type": "stream",
       "stream": "stdout",
       "text": [
        "\n",
        "305"
       ]
      },
      {
       "output_type": "stream",
       "stream": "stdout",
       "text": [
        "\n",
        "306"
       ]
      },
      {
       "output_type": "stream",
       "stream": "stdout",
       "text": [
        "\n",
        "307"
       ]
      },
      {
       "output_type": "stream",
       "stream": "stdout",
       "text": [
        "\n",
        "308"
       ]
      },
      {
       "output_type": "stream",
       "stream": "stdout",
       "text": [
        "\n",
        "309"
       ]
      },
      {
       "output_type": "stream",
       "stream": "stdout",
       "text": [
        "\n",
        "310"
       ]
      },
      {
       "output_type": "stream",
       "stream": "stdout",
       "text": [
        "\n",
        "311"
       ]
      },
      {
       "output_type": "stream",
       "stream": "stdout",
       "text": [
        "\n",
        "312"
       ]
      },
      {
       "output_type": "stream",
       "stream": "stdout",
       "text": [
        "\n",
        "313"
       ]
      },
      {
       "output_type": "stream",
       "stream": "stdout",
       "text": [
        "\n",
        "314"
       ]
      },
      {
       "output_type": "stream",
       "stream": "stdout",
       "text": [
        "\n",
        "315"
       ]
      },
      {
       "output_type": "stream",
       "stream": "stdout",
       "text": [
        "\n",
        "316"
       ]
      },
      {
       "output_type": "stream",
       "stream": "stdout",
       "text": [
        "\n",
        "317"
       ]
      },
      {
       "output_type": "stream",
       "stream": "stdout",
       "text": [
        "\n",
        "318"
       ]
      },
      {
       "output_type": "stream",
       "stream": "stdout",
       "text": [
        "\n",
        "319"
       ]
      },
      {
       "output_type": "stream",
       "stream": "stdout",
       "text": [
        "\n",
        "320"
       ]
      },
      {
       "output_type": "stream",
       "stream": "stdout",
       "text": [
        "\n",
        "321"
       ]
      },
      {
       "output_type": "stream",
       "stream": "stdout",
       "text": [
        "\n",
        "322"
       ]
      },
      {
       "output_type": "stream",
       "stream": "stdout",
       "text": [
        "\n",
        "323"
       ]
      },
      {
       "output_type": "stream",
       "stream": "stdout",
       "text": [
        "\n",
        "324"
       ]
      },
      {
       "output_type": "stream",
       "stream": "stdout",
       "text": [
        "\n",
        "325"
       ]
      },
      {
       "output_type": "stream",
       "stream": "stdout",
       "text": [
        "\n",
        "326"
       ]
      },
      {
       "output_type": "stream",
       "stream": "stdout",
       "text": [
        "\n",
        "327"
       ]
      },
      {
       "output_type": "stream",
       "stream": "stdout",
       "text": [
        "\n",
        "328"
       ]
      },
      {
       "output_type": "stream",
       "stream": "stdout",
       "text": [
        "\n",
        "329"
       ]
      },
      {
       "output_type": "stream",
       "stream": "stdout",
       "text": [
        "\n",
        "330"
       ]
      },
      {
       "output_type": "stream",
       "stream": "stdout",
       "text": [
        "\n",
        "331"
       ]
      },
      {
       "output_type": "stream",
       "stream": "stdout",
       "text": [
        "\n",
        "332"
       ]
      },
      {
       "output_type": "stream",
       "stream": "stdout",
       "text": [
        "\n",
        "333"
       ]
      },
      {
       "output_type": "stream",
       "stream": "stdout",
       "text": [
        "\n",
        "334"
       ]
      },
      {
       "output_type": "stream",
       "stream": "stdout",
       "text": [
        "\n",
        "335"
       ]
      },
      {
       "output_type": "stream",
       "stream": "stdout",
       "text": [
        "\n",
        "336"
       ]
      },
      {
       "output_type": "stream",
       "stream": "stdout",
       "text": [
        "\n",
        "337"
       ]
      },
      {
       "output_type": "stream",
       "stream": "stdout",
       "text": [
        "\n",
        "338"
       ]
      },
      {
       "output_type": "stream",
       "stream": "stdout",
       "text": [
        "\n",
        "339"
       ]
      },
      {
       "output_type": "stream",
       "stream": "stdout",
       "text": [
        "\n",
        "340"
       ]
      },
      {
       "output_type": "stream",
       "stream": "stdout",
       "text": [
        "\n",
        "341"
       ]
      },
      {
       "output_type": "stream",
       "stream": "stdout",
       "text": [
        "\n",
        "342"
       ]
      },
      {
       "output_type": "stream",
       "stream": "stdout",
       "text": [
        "\n",
        "343"
       ]
      },
      {
       "output_type": "stream",
       "stream": "stdout",
       "text": [
        "\n",
        "344"
       ]
      },
      {
       "output_type": "stream",
       "stream": "stdout",
       "text": [
        "\n",
        "345"
       ]
      },
      {
       "output_type": "stream",
       "stream": "stdout",
       "text": [
        "\n",
        "346"
       ]
      },
      {
       "output_type": "stream",
       "stream": "stdout",
       "text": [
        "\n",
        "347"
       ]
      },
      {
       "output_type": "stream",
       "stream": "stdout",
       "text": [
        "\n",
        "348"
       ]
      },
      {
       "output_type": "stream",
       "stream": "stdout",
       "text": [
        "\n",
        "349"
       ]
      },
      {
       "output_type": "stream",
       "stream": "stdout",
       "text": [
        "\n",
        "350"
       ]
      },
      {
       "output_type": "stream",
       "stream": "stdout",
       "text": [
        "\n",
        "351"
       ]
      },
      {
       "output_type": "stream",
       "stream": "stdout",
       "text": [
        "\n",
        "352"
       ]
      },
      {
       "output_type": "stream",
       "stream": "stdout",
       "text": [
        "\n",
        "353"
       ]
      },
      {
       "output_type": "stream",
       "stream": "stdout",
       "text": [
        "\n",
        "354"
       ]
      },
      {
       "output_type": "stream",
       "stream": "stdout",
       "text": [
        "\n",
        "355"
       ]
      },
      {
       "output_type": "stream",
       "stream": "stdout",
       "text": [
        "\n",
        "356"
       ]
      },
      {
       "output_type": "stream",
       "stream": "stdout",
       "text": [
        "\n",
        "357"
       ]
      },
      {
       "output_type": "stream",
       "stream": "stdout",
       "text": [
        "\n",
        "358"
       ]
      },
      {
       "output_type": "stream",
       "stream": "stdout",
       "text": [
        "\n",
        "359"
       ]
      },
      {
       "output_type": "stream",
       "stream": "stdout",
       "text": [
        "\n",
        "360"
       ]
      },
      {
       "output_type": "stream",
       "stream": "stdout",
       "text": [
        "\n",
        "361"
       ]
      },
      {
       "output_type": "stream",
       "stream": "stdout",
       "text": [
        "\n",
        "362"
       ]
      },
      {
       "output_type": "stream",
       "stream": "stdout",
       "text": [
        "\n",
        "363"
       ]
      },
      {
       "output_type": "stream",
       "stream": "stdout",
       "text": [
        "\n",
        "364"
       ]
      },
      {
       "output_type": "stream",
       "stream": "stdout",
       "text": [
        "\n",
        "365"
       ]
      },
      {
       "output_type": "stream",
       "stream": "stdout",
       "text": [
        "\n",
        "366"
       ]
      },
      {
       "output_type": "stream",
       "stream": "stdout",
       "text": [
        "\n",
        "367"
       ]
      },
      {
       "output_type": "stream",
       "stream": "stdout",
       "text": [
        "\n",
        "368"
       ]
      },
      {
       "output_type": "stream",
       "stream": "stdout",
       "text": [
        "\n",
        "369"
       ]
      },
      {
       "output_type": "stream",
       "stream": "stdout",
       "text": [
        "\n",
        "370"
       ]
      },
      {
       "output_type": "stream",
       "stream": "stdout",
       "text": [
        "\n",
        "371"
       ]
      },
      {
       "output_type": "stream",
       "stream": "stdout",
       "text": [
        "\n",
        "372"
       ]
      },
      {
       "output_type": "stream",
       "stream": "stdout",
       "text": [
        "\n",
        "373"
       ]
      },
      {
       "output_type": "stream",
       "stream": "stdout",
       "text": [
        "\n",
        "374"
       ]
      },
      {
       "output_type": "stream",
       "stream": "stdout",
       "text": [
        "\n",
        "375"
       ]
      },
      {
       "output_type": "stream",
       "stream": "stdout",
       "text": [
        "\n",
        "376"
       ]
      },
      {
       "output_type": "stream",
       "stream": "stdout",
       "text": [
        "\n",
        "377"
       ]
      },
      {
       "output_type": "stream",
       "stream": "stdout",
       "text": [
        "\n",
        "378"
       ]
      },
      {
       "output_type": "stream",
       "stream": "stdout",
       "text": [
        "\n",
        "379"
       ]
      },
      {
       "output_type": "stream",
       "stream": "stdout",
       "text": [
        "\n",
        "380"
       ]
      },
      {
       "output_type": "stream",
       "stream": "stdout",
       "text": [
        "\n",
        "381"
       ]
      },
      {
       "output_type": "stream",
       "stream": "stdout",
       "text": [
        "\n",
        "382"
       ]
      },
      {
       "output_type": "stream",
       "stream": "stdout",
       "text": [
        "\n",
        "383"
       ]
      },
      {
       "output_type": "stream",
       "stream": "stdout",
       "text": [
        "\n",
        "384"
       ]
      },
      {
       "output_type": "stream",
       "stream": "stdout",
       "text": [
        "\n",
        "385"
       ]
      },
      {
       "output_type": "stream",
       "stream": "stdout",
       "text": [
        "\n",
        "386"
       ]
      },
      {
       "output_type": "stream",
       "stream": "stdout",
       "text": [
        "\n",
        "387"
       ]
      },
      {
       "output_type": "stream",
       "stream": "stdout",
       "text": [
        "\n",
        "388"
       ]
      },
      {
       "output_type": "stream",
       "stream": "stdout",
       "text": [
        "\n",
        "389"
       ]
      },
      {
       "output_type": "stream",
       "stream": "stdout",
       "text": [
        "\n",
        "390"
       ]
      },
      {
       "output_type": "stream",
       "stream": "stdout",
       "text": [
        "\n",
        "391"
       ]
      },
      {
       "output_type": "stream",
       "stream": "stdout",
       "text": [
        "\n",
        "392"
       ]
      },
      {
       "output_type": "stream",
       "stream": "stdout",
       "text": [
        "\n",
        "393"
       ]
      },
      {
       "output_type": "stream",
       "stream": "stdout",
       "text": [
        "\n",
        "394"
       ]
      },
      {
       "output_type": "stream",
       "stream": "stdout",
       "text": [
        "\n",
        "395"
       ]
      },
      {
       "output_type": "stream",
       "stream": "stdout",
       "text": [
        "\n",
        "396"
       ]
      },
      {
       "output_type": "stream",
       "stream": "stdout",
       "text": [
        "\n",
        "397"
       ]
      },
      {
       "output_type": "stream",
       "stream": "stdout",
       "text": [
        "\n",
        "398"
       ]
      },
      {
       "output_type": "stream",
       "stream": "stdout",
       "text": [
        "\n",
        "399"
       ]
      },
      {
       "output_type": "stream",
       "stream": "stdout",
       "text": [
        "\n",
        "0"
       ]
      },
      {
       "output_type": "stream",
       "stream": "stdout",
       "text": [
        "\n",
        "1"
       ]
      },
      {
       "output_type": "stream",
       "stream": "stdout",
       "text": [
        "\n",
        "2"
       ]
      },
      {
       "output_type": "stream",
       "stream": "stdout",
       "text": [
        "\n",
        "3"
       ]
      },
      {
       "output_type": "stream",
       "stream": "stdout",
       "text": [
        "\n",
        "4"
       ]
      },
      {
       "output_type": "stream",
       "stream": "stdout",
       "text": [
        "\n",
        "5"
       ]
      },
      {
       "output_type": "stream",
       "stream": "stdout",
       "text": [
        "\n",
        "6"
       ]
      },
      {
       "output_type": "stream",
       "stream": "stdout",
       "text": [
        "\n",
        "7"
       ]
      },
      {
       "output_type": "stream",
       "stream": "stdout",
       "text": [
        "\n",
        "8"
       ]
      },
      {
       "output_type": "stream",
       "stream": "stdout",
       "text": [
        "\n",
        "9"
       ]
      },
      {
       "output_type": "stream",
       "stream": "stdout",
       "text": [
        "\n",
        "10"
       ]
      },
      {
       "output_type": "stream",
       "stream": "stdout",
       "text": [
        "\n",
        "11"
       ]
      },
      {
       "output_type": "stream",
       "stream": "stdout",
       "text": [
        "\n",
        "12"
       ]
      },
      {
       "output_type": "stream",
       "stream": "stdout",
       "text": [
        "\n",
        "13"
       ]
      },
      {
       "output_type": "stream",
       "stream": "stdout",
       "text": [
        "\n",
        "14"
       ]
      },
      {
       "output_type": "stream",
       "stream": "stdout",
       "text": [
        "\n",
        "15"
       ]
      },
      {
       "output_type": "stream",
       "stream": "stdout",
       "text": [
        "\n",
        "16"
       ]
      },
      {
       "output_type": "stream",
       "stream": "stdout",
       "text": [
        "\n",
        "17"
       ]
      },
      {
       "output_type": "stream",
       "stream": "stdout",
       "text": [
        "\n",
        "18"
       ]
      },
      {
       "output_type": "stream",
       "stream": "stdout",
       "text": [
        "\n",
        "19"
       ]
      },
      {
       "output_type": "stream",
       "stream": "stdout",
       "text": [
        "\n",
        "20"
       ]
      },
      {
       "output_type": "stream",
       "stream": "stdout",
       "text": [
        "\n",
        "21"
       ]
      },
      {
       "output_type": "stream",
       "stream": "stdout",
       "text": [
        "\n",
        "22"
       ]
      },
      {
       "output_type": "stream",
       "stream": "stdout",
       "text": [
        "\n",
        "23"
       ]
      },
      {
       "output_type": "stream",
       "stream": "stdout",
       "text": [
        "\n",
        "24"
       ]
      },
      {
       "output_type": "stream",
       "stream": "stdout",
       "text": [
        "\n",
        "25"
       ]
      },
      {
       "output_type": "stream",
       "stream": "stdout",
       "text": [
        "\n",
        "26"
       ]
      },
      {
       "output_type": "stream",
       "stream": "stdout",
       "text": [
        "\n",
        "27"
       ]
      },
      {
       "output_type": "stream",
       "stream": "stdout",
       "text": [
        "\n",
        "28"
       ]
      },
      {
       "output_type": "stream",
       "stream": "stdout",
       "text": [
        "\n",
        "29"
       ]
      },
      {
       "output_type": "stream",
       "stream": "stdout",
       "text": [
        "\n",
        "30"
       ]
      },
      {
       "output_type": "stream",
       "stream": "stdout",
       "text": [
        "\n",
        "31"
       ]
      },
      {
       "output_type": "stream",
       "stream": "stdout",
       "text": [
        "\n",
        "32"
       ]
      },
      {
       "output_type": "stream",
       "stream": "stdout",
       "text": [
        "\n",
        "33"
       ]
      },
      {
       "output_type": "stream",
       "stream": "stdout",
       "text": [
        "\n",
        "34"
       ]
      },
      {
       "output_type": "stream",
       "stream": "stdout",
       "text": [
        "\n",
        "35"
       ]
      },
      {
       "output_type": "stream",
       "stream": "stdout",
       "text": [
        "\n",
        "36"
       ]
      },
      {
       "output_type": "stream",
       "stream": "stdout",
       "text": [
        "\n",
        "37"
       ]
      },
      {
       "output_type": "stream",
       "stream": "stdout",
       "text": [
        "\n",
        "38"
       ]
      },
      {
       "output_type": "stream",
       "stream": "stdout",
       "text": [
        "\n",
        "39"
       ]
      },
      {
       "output_type": "stream",
       "stream": "stdout",
       "text": [
        "\n",
        "40"
       ]
      },
      {
       "output_type": "stream",
       "stream": "stdout",
       "text": [
        "\n",
        "41"
       ]
      },
      {
       "output_type": "stream",
       "stream": "stdout",
       "text": [
        "\n",
        "42"
       ]
      },
      {
       "output_type": "stream",
       "stream": "stdout",
       "text": [
        "\n",
        "43"
       ]
      },
      {
       "output_type": "stream",
       "stream": "stdout",
       "text": [
        "\n",
        "44"
       ]
      },
      {
       "output_type": "stream",
       "stream": "stdout",
       "text": [
        "\n",
        "45"
       ]
      },
      {
       "output_type": "stream",
       "stream": "stdout",
       "text": [
        "\n",
        "46"
       ]
      },
      {
       "output_type": "stream",
       "stream": "stdout",
       "text": [
        "\n",
        "47"
       ]
      },
      {
       "output_type": "stream",
       "stream": "stdout",
       "text": [
        "\n",
        "48"
       ]
      },
      {
       "output_type": "stream",
       "stream": "stdout",
       "text": [
        "\n",
        "49"
       ]
      },
      {
       "output_type": "stream",
       "stream": "stdout",
       "text": [
        "\n",
        "50"
       ]
      },
      {
       "output_type": "stream",
       "stream": "stdout",
       "text": [
        "\n",
        "51"
       ]
      },
      {
       "output_type": "stream",
       "stream": "stdout",
       "text": [
        "\n",
        "52"
       ]
      },
      {
       "output_type": "stream",
       "stream": "stdout",
       "text": [
        "\n",
        "53"
       ]
      },
      {
       "output_type": "stream",
       "stream": "stdout",
       "text": [
        "\n",
        "54"
       ]
      },
      {
       "output_type": "stream",
       "stream": "stdout",
       "text": [
        "\n",
        "55"
       ]
      },
      {
       "output_type": "stream",
       "stream": "stdout",
       "text": [
        "\n",
        "56"
       ]
      },
      {
       "output_type": "stream",
       "stream": "stdout",
       "text": [
        "\n",
        "57"
       ]
      },
      {
       "output_type": "stream",
       "stream": "stdout",
       "text": [
        "\n",
        "58"
       ]
      },
      {
       "output_type": "stream",
       "stream": "stdout",
       "text": [
        "\n",
        "59"
       ]
      },
      {
       "output_type": "stream",
       "stream": "stdout",
       "text": [
        "\n",
        "60"
       ]
      },
      {
       "output_type": "stream",
       "stream": "stdout",
       "text": [
        "\n",
        "61"
       ]
      },
      {
       "output_type": "stream",
       "stream": "stdout",
       "text": [
        "\n",
        "62"
       ]
      },
      {
       "output_type": "stream",
       "stream": "stdout",
       "text": [
        "\n",
        "63"
       ]
      },
      {
       "output_type": "stream",
       "stream": "stdout",
       "text": [
        "\n",
        "64"
       ]
      },
      {
       "output_type": "stream",
       "stream": "stdout",
       "text": [
        "\n",
        "65"
       ]
      },
      {
       "output_type": "stream",
       "stream": "stdout",
       "text": [
        "\n",
        "66"
       ]
      },
      {
       "output_type": "stream",
       "stream": "stdout",
       "text": [
        "\n",
        "67"
       ]
      },
      {
       "output_type": "stream",
       "stream": "stdout",
       "text": [
        "\n",
        "68"
       ]
      },
      {
       "output_type": "stream",
       "stream": "stdout",
       "text": [
        "\n",
        "69"
       ]
      },
      {
       "output_type": "stream",
       "stream": "stdout",
       "text": [
        "\n",
        "70"
       ]
      },
      {
       "output_type": "stream",
       "stream": "stdout",
       "text": [
        "\n",
        "71"
       ]
      },
      {
       "output_type": "stream",
       "stream": "stdout",
       "text": [
        "\n",
        "72"
       ]
      },
      {
       "output_type": "stream",
       "stream": "stdout",
       "text": [
        "\n",
        "73"
       ]
      },
      {
       "output_type": "stream",
       "stream": "stdout",
       "text": [
        "\n",
        "74"
       ]
      },
      {
       "output_type": "stream",
       "stream": "stdout",
       "text": [
        "\n",
        "75"
       ]
      },
      {
       "output_type": "stream",
       "stream": "stdout",
       "text": [
        "\n",
        "76"
       ]
      },
      {
       "output_type": "stream",
       "stream": "stdout",
       "text": [
        "\n",
        "77"
       ]
      },
      {
       "output_type": "stream",
       "stream": "stdout",
       "text": [
        "\n",
        "78"
       ]
      },
      {
       "output_type": "stream",
       "stream": "stdout",
       "text": [
        "\n",
        "79"
       ]
      },
      {
       "output_type": "stream",
       "stream": "stdout",
       "text": [
        "\n",
        "80"
       ]
      },
      {
       "output_type": "stream",
       "stream": "stdout",
       "text": [
        "\n",
        "81"
       ]
      },
      {
       "output_type": "stream",
       "stream": "stdout",
       "text": [
        "\n",
        "82"
       ]
      },
      {
       "output_type": "stream",
       "stream": "stdout",
       "text": [
        "\n",
        "83"
       ]
      },
      {
       "output_type": "stream",
       "stream": "stdout",
       "text": [
        "\n",
        "84"
       ]
      },
      {
       "output_type": "stream",
       "stream": "stdout",
       "text": [
        "\n",
        "85"
       ]
      },
      {
       "output_type": "stream",
       "stream": "stdout",
       "text": [
        "\n",
        "86"
       ]
      },
      {
       "output_type": "stream",
       "stream": "stdout",
       "text": [
        "\n",
        "87"
       ]
      },
      {
       "output_type": "stream",
       "stream": "stdout",
       "text": [
        "\n",
        "88"
       ]
      },
      {
       "output_type": "stream",
       "stream": "stdout",
       "text": [
        "\n",
        "89"
       ]
      },
      {
       "output_type": "stream",
       "stream": "stdout",
       "text": [
        "\n",
        "90"
       ]
      },
      {
       "output_type": "stream",
       "stream": "stdout",
       "text": [
        "\n",
        "91"
       ]
      },
      {
       "output_type": "stream",
       "stream": "stdout",
       "text": [
        "\n",
        "92"
       ]
      },
      {
       "output_type": "stream",
       "stream": "stdout",
       "text": [
        "\n",
        "93"
       ]
      },
      {
       "output_type": "stream",
       "stream": "stdout",
       "text": [
        "\n",
        "94"
       ]
      },
      {
       "output_type": "stream",
       "stream": "stdout",
       "text": [
        "\n",
        "95"
       ]
      },
      {
       "output_type": "stream",
       "stream": "stdout",
       "text": [
        "\n",
        "96"
       ]
      },
      {
       "output_type": "stream",
       "stream": "stdout",
       "text": [
        "\n",
        "97"
       ]
      },
      {
       "output_type": "stream",
       "stream": "stdout",
       "text": [
        "\n",
        "98"
       ]
      },
      {
       "output_type": "stream",
       "stream": "stdout",
       "text": [
        "\n",
        "99"
       ]
      },
      {
       "output_type": "stream",
       "stream": "stdout",
       "text": [
        "\n",
        "100"
       ]
      },
      {
       "output_type": "stream",
       "stream": "stdout",
       "text": [
        "\n",
        "101"
       ]
      },
      {
       "output_type": "stream",
       "stream": "stdout",
       "text": [
        "\n",
        "102"
       ]
      },
      {
       "output_type": "stream",
       "stream": "stdout",
       "text": [
        "\n",
        "103"
       ]
      },
      {
       "output_type": "stream",
       "stream": "stdout",
       "text": [
        "\n",
        "104"
       ]
      },
      {
       "output_type": "stream",
       "stream": "stdout",
       "text": [
        "\n",
        "105"
       ]
      },
      {
       "output_type": "stream",
       "stream": "stdout",
       "text": [
        "\n",
        "106"
       ]
      },
      {
       "output_type": "stream",
       "stream": "stdout",
       "text": [
        "\n",
        "107"
       ]
      },
      {
       "output_type": "stream",
       "stream": "stdout",
       "text": [
        "\n",
        "108"
       ]
      },
      {
       "output_type": "stream",
       "stream": "stdout",
       "text": [
        "\n",
        "109"
       ]
      },
      {
       "output_type": "stream",
       "stream": "stdout",
       "text": [
        "\n",
        "110"
       ]
      },
      {
       "output_type": "stream",
       "stream": "stdout",
       "text": [
        "\n",
        "111"
       ]
      },
      {
       "output_type": "stream",
       "stream": "stdout",
       "text": [
        "\n",
        "112"
       ]
      },
      {
       "output_type": "stream",
       "stream": "stdout",
       "text": [
        "\n",
        "113"
       ]
      },
      {
       "output_type": "stream",
       "stream": "stdout",
       "text": [
        "\n",
        "114"
       ]
      },
      {
       "output_type": "stream",
       "stream": "stdout",
       "text": [
        "\n",
        "115"
       ]
      },
      {
       "output_type": "stream",
       "stream": "stdout",
       "text": [
        "\n",
        "116"
       ]
      },
      {
       "output_type": "stream",
       "stream": "stdout",
       "text": [
        "\n",
        "117"
       ]
      },
      {
       "output_type": "stream",
       "stream": "stdout",
       "text": [
        "\n",
        "118"
       ]
      },
      {
       "output_type": "stream",
       "stream": "stdout",
       "text": [
        "\n",
        "119"
       ]
      },
      {
       "output_type": "stream",
       "stream": "stdout",
       "text": [
        "\n",
        "120"
       ]
      },
      {
       "output_type": "stream",
       "stream": "stdout",
       "text": [
        "\n",
        "121"
       ]
      },
      {
       "output_type": "stream",
       "stream": "stdout",
       "text": [
        "\n",
        "122"
       ]
      },
      {
       "output_type": "stream",
       "stream": "stdout",
       "text": [
        "\n",
        "123"
       ]
      },
      {
       "output_type": "stream",
       "stream": "stdout",
       "text": [
        "\n",
        "124"
       ]
      },
      {
       "output_type": "stream",
       "stream": "stdout",
       "text": [
        "\n",
        "125"
       ]
      },
      {
       "output_type": "stream",
       "stream": "stdout",
       "text": [
        "\n",
        "126"
       ]
      },
      {
       "output_type": "stream",
       "stream": "stdout",
       "text": [
        "\n",
        "127"
       ]
      },
      {
       "output_type": "stream",
       "stream": "stdout",
       "text": [
        "\n",
        "128"
       ]
      },
      {
       "output_type": "stream",
       "stream": "stdout",
       "text": [
        "\n",
        "129"
       ]
      },
      {
       "output_type": "stream",
       "stream": "stdout",
       "text": [
        "\n",
        "130"
       ]
      },
      {
       "output_type": "stream",
       "stream": "stdout",
       "text": [
        "\n",
        "131"
       ]
      },
      {
       "output_type": "stream",
       "stream": "stdout",
       "text": [
        "\n",
        "132"
       ]
      },
      {
       "output_type": "stream",
       "stream": "stdout",
       "text": [
        "\n",
        "133"
       ]
      },
      {
       "output_type": "stream",
       "stream": "stdout",
       "text": [
        "\n",
        "134"
       ]
      },
      {
       "output_type": "stream",
       "stream": "stdout",
       "text": [
        "\n",
        "135"
       ]
      },
      {
       "output_type": "stream",
       "stream": "stdout",
       "text": [
        "\n",
        "136"
       ]
      },
      {
       "output_type": "stream",
       "stream": "stdout",
       "text": [
        "\n",
        "137"
       ]
      },
      {
       "output_type": "stream",
       "stream": "stdout",
       "text": [
        "\n",
        "138"
       ]
      },
      {
       "output_type": "stream",
       "stream": "stdout",
       "text": [
        "\n",
        "139"
       ]
      },
      {
       "output_type": "stream",
       "stream": "stdout",
       "text": [
        "\n",
        "140"
       ]
      },
      {
       "output_type": "stream",
       "stream": "stdout",
       "text": [
        "\n",
        "141"
       ]
      },
      {
       "output_type": "stream",
       "stream": "stdout",
       "text": [
        "\n",
        "142"
       ]
      },
      {
       "output_type": "stream",
       "stream": "stdout",
       "text": [
        "\n",
        "143"
       ]
      },
      {
       "output_type": "stream",
       "stream": "stdout",
       "text": [
        "\n",
        "144"
       ]
      },
      {
       "output_type": "stream",
       "stream": "stdout",
       "text": [
        "\n",
        "145"
       ]
      },
      {
       "output_type": "stream",
       "stream": "stdout",
       "text": [
        "\n",
        "146"
       ]
      },
      {
       "output_type": "stream",
       "stream": "stdout",
       "text": [
        "\n",
        "147"
       ]
      },
      {
       "output_type": "stream",
       "stream": "stdout",
       "text": [
        "\n",
        "148"
       ]
      },
      {
       "output_type": "stream",
       "stream": "stdout",
       "text": [
        "\n",
        "149"
       ]
      },
      {
       "output_type": "stream",
       "stream": "stdout",
       "text": [
        "\n",
        "150"
       ]
      },
      {
       "output_type": "stream",
       "stream": "stdout",
       "text": [
        "\n",
        "151"
       ]
      },
      {
       "output_type": "stream",
       "stream": "stdout",
       "text": [
        "\n",
        "152"
       ]
      },
      {
       "output_type": "stream",
       "stream": "stdout",
       "text": [
        "\n",
        "153"
       ]
      },
      {
       "output_type": "stream",
       "stream": "stdout",
       "text": [
        "\n",
        "154"
       ]
      },
      {
       "output_type": "stream",
       "stream": "stdout",
       "text": [
        "\n",
        "155"
       ]
      },
      {
       "output_type": "stream",
       "stream": "stdout",
       "text": [
        "\n",
        "156"
       ]
      },
      {
       "output_type": "stream",
       "stream": "stdout",
       "text": [
        "\n",
        "157"
       ]
      },
      {
       "output_type": "stream",
       "stream": "stdout",
       "text": [
        "\n",
        "158"
       ]
      },
      {
       "output_type": "stream",
       "stream": "stdout",
       "text": [
        "\n",
        "159"
       ]
      },
      {
       "output_type": "stream",
       "stream": "stdout",
       "text": [
        "\n",
        "160"
       ]
      },
      {
       "output_type": "stream",
       "stream": "stdout",
       "text": [
        "\n",
        "161"
       ]
      },
      {
       "output_type": "stream",
       "stream": "stdout",
       "text": [
        "\n",
        "162"
       ]
      },
      {
       "output_type": "stream",
       "stream": "stdout",
       "text": [
        "\n",
        "163"
       ]
      },
      {
       "output_type": "stream",
       "stream": "stdout",
       "text": [
        "\n",
        "164"
       ]
      },
      {
       "output_type": "stream",
       "stream": "stdout",
       "text": [
        "\n",
        "165"
       ]
      },
      {
       "output_type": "stream",
       "stream": "stdout",
       "text": [
        "\n",
        "166"
       ]
      },
      {
       "output_type": "stream",
       "stream": "stdout",
       "text": [
        "\n",
        "167"
       ]
      },
      {
       "output_type": "stream",
       "stream": "stdout",
       "text": [
        "\n",
        "168"
       ]
      },
      {
       "output_type": "stream",
       "stream": "stdout",
       "text": [
        "\n",
        "169"
       ]
      },
      {
       "output_type": "stream",
       "stream": "stdout",
       "text": [
        "\n",
        "170"
       ]
      },
      {
       "output_type": "stream",
       "stream": "stdout",
       "text": [
        "\n",
        "171"
       ]
      },
      {
       "output_type": "stream",
       "stream": "stdout",
       "text": [
        "\n",
        "172"
       ]
      },
      {
       "output_type": "stream",
       "stream": "stdout",
       "text": [
        "\n",
        "173"
       ]
      },
      {
       "output_type": "stream",
       "stream": "stdout",
       "text": [
        "\n",
        "174"
       ]
      },
      {
       "output_type": "stream",
       "stream": "stdout",
       "text": [
        "\n",
        "175"
       ]
      },
      {
       "output_type": "stream",
       "stream": "stdout",
       "text": [
        "\n",
        "176"
       ]
      },
      {
       "output_type": "stream",
       "stream": "stdout",
       "text": [
        "\n",
        "177"
       ]
      },
      {
       "output_type": "stream",
       "stream": "stdout",
       "text": [
        "\n",
        "178"
       ]
      },
      {
       "output_type": "stream",
       "stream": "stdout",
       "text": [
        "\n",
        "179"
       ]
      },
      {
       "output_type": "stream",
       "stream": "stdout",
       "text": [
        "\n",
        "180"
       ]
      },
      {
       "output_type": "stream",
       "stream": "stdout",
       "text": [
        "\n",
        "181"
       ]
      },
      {
       "output_type": "stream",
       "stream": "stdout",
       "text": [
        "\n",
        "182"
       ]
      },
      {
       "output_type": "stream",
       "stream": "stdout",
       "text": [
        "\n",
        "183"
       ]
      },
      {
       "output_type": "stream",
       "stream": "stdout",
       "text": [
        "\n",
        "184"
       ]
      },
      {
       "output_type": "stream",
       "stream": "stdout",
       "text": [
        "\n",
        "185"
       ]
      },
      {
       "output_type": "stream",
       "stream": "stdout",
       "text": [
        "\n",
        "186"
       ]
      },
      {
       "output_type": "stream",
       "stream": "stdout",
       "text": [
        "\n",
        "187"
       ]
      },
      {
       "output_type": "stream",
       "stream": "stdout",
       "text": [
        "\n",
        "188"
       ]
      },
      {
       "output_type": "stream",
       "stream": "stdout",
       "text": [
        "\n",
        "189"
       ]
      },
      {
       "output_type": "stream",
       "stream": "stdout",
       "text": [
        "\n",
        "190"
       ]
      },
      {
       "output_type": "stream",
       "stream": "stdout",
       "text": [
        "\n",
        "191"
       ]
      },
      {
       "output_type": "stream",
       "stream": "stdout",
       "text": [
        "\n",
        "192"
       ]
      },
      {
       "output_type": "stream",
       "stream": "stdout",
       "text": [
        "\n",
        "193"
       ]
      },
      {
       "output_type": "stream",
       "stream": "stdout",
       "text": [
        "\n",
        "194"
       ]
      },
      {
       "output_type": "stream",
       "stream": "stdout",
       "text": [
        "\n",
        "195"
       ]
      },
      {
       "output_type": "stream",
       "stream": "stdout",
       "text": [
        "\n",
        "196"
       ]
      },
      {
       "output_type": "stream",
       "stream": "stdout",
       "text": [
        "\n",
        "197"
       ]
      },
      {
       "output_type": "stream",
       "stream": "stdout",
       "text": [
        "\n",
        "198"
       ]
      },
      {
       "output_type": "stream",
       "stream": "stdout",
       "text": [
        "\n",
        "199"
       ]
      },
      {
       "output_type": "stream",
       "stream": "stdout",
       "text": [
        "\n",
        "200"
       ]
      },
      {
       "output_type": "stream",
       "stream": "stdout",
       "text": [
        "\n",
        "201"
       ]
      },
      {
       "output_type": "stream",
       "stream": "stdout",
       "text": [
        "\n",
        "202"
       ]
      },
      {
       "output_type": "stream",
       "stream": "stdout",
       "text": [
        "\n",
        "203"
       ]
      },
      {
       "output_type": "stream",
       "stream": "stdout",
       "text": [
        "\n",
        "204"
       ]
      },
      {
       "output_type": "stream",
       "stream": "stdout",
       "text": [
        "\n",
        "205"
       ]
      },
      {
       "output_type": "stream",
       "stream": "stdout",
       "text": [
        "\n",
        "206"
       ]
      },
      {
       "output_type": "stream",
       "stream": "stdout",
       "text": [
        "\n",
        "207"
       ]
      },
      {
       "output_type": "stream",
       "stream": "stdout",
       "text": [
        "\n",
        "208"
       ]
      },
      {
       "output_type": "stream",
       "stream": "stdout",
       "text": [
        "\n",
        "209"
       ]
      },
      {
       "output_type": "stream",
       "stream": "stdout",
       "text": [
        "\n",
        "210"
       ]
      },
      {
       "output_type": "stream",
       "stream": "stdout",
       "text": [
        "\n",
        "211"
       ]
      },
      {
       "output_type": "stream",
       "stream": "stdout",
       "text": [
        "\n",
        "212"
       ]
      },
      {
       "output_type": "stream",
       "stream": "stdout",
       "text": [
        "\n",
        "213"
       ]
      },
      {
       "output_type": "stream",
       "stream": "stdout",
       "text": [
        "\n",
        "214"
       ]
      },
      {
       "output_type": "stream",
       "stream": "stdout",
       "text": [
        "\n",
        "215"
       ]
      },
      {
       "output_type": "stream",
       "stream": "stdout",
       "text": [
        "\n",
        "216"
       ]
      },
      {
       "output_type": "stream",
       "stream": "stdout",
       "text": [
        "\n",
        "217"
       ]
      },
      {
       "output_type": "stream",
       "stream": "stdout",
       "text": [
        "\n",
        "218"
       ]
      },
      {
       "output_type": "stream",
       "stream": "stdout",
       "text": [
        "\n",
        "219"
       ]
      },
      {
       "output_type": "stream",
       "stream": "stdout",
       "text": [
        "\n",
        "220"
       ]
      },
      {
       "output_type": "stream",
       "stream": "stdout",
       "text": [
        "\n",
        "221"
       ]
      },
      {
       "output_type": "stream",
       "stream": "stdout",
       "text": [
        "\n",
        "222"
       ]
      },
      {
       "output_type": "stream",
       "stream": "stdout",
       "text": [
        "\n",
        "223"
       ]
      },
      {
       "output_type": "stream",
       "stream": "stdout",
       "text": [
        "\n",
        "224"
       ]
      },
      {
       "output_type": "stream",
       "stream": "stdout",
       "text": [
        "\n",
        "225"
       ]
      },
      {
       "output_type": "stream",
       "stream": "stdout",
       "text": [
        "\n",
        "226"
       ]
      },
      {
       "output_type": "stream",
       "stream": "stdout",
       "text": [
        "\n",
        "227"
       ]
      },
      {
       "output_type": "stream",
       "stream": "stdout",
       "text": [
        "\n",
        "228"
       ]
      },
      {
       "output_type": "stream",
       "stream": "stdout",
       "text": [
        "\n",
        "229"
       ]
      },
      {
       "output_type": "stream",
       "stream": "stdout",
       "text": [
        "\n",
        "230"
       ]
      },
      {
       "output_type": "stream",
       "stream": "stdout",
       "text": [
        "\n",
        "231"
       ]
      },
      {
       "output_type": "stream",
       "stream": "stdout",
       "text": [
        "\n",
        "232"
       ]
      },
      {
       "output_type": "stream",
       "stream": "stdout",
       "text": [
        "\n",
        "233"
       ]
      },
      {
       "output_type": "stream",
       "stream": "stdout",
       "text": [
        "\n",
        "234"
       ]
      },
      {
       "output_type": "stream",
       "stream": "stdout",
       "text": [
        "\n",
        "235"
       ]
      },
      {
       "output_type": "stream",
       "stream": "stdout",
       "text": [
        "\n",
        "236"
       ]
      },
      {
       "output_type": "stream",
       "stream": "stdout",
       "text": [
        "\n",
        "237"
       ]
      },
      {
       "output_type": "stream",
       "stream": "stdout",
       "text": [
        "\n",
        "238"
       ]
      },
      {
       "output_type": "stream",
       "stream": "stdout",
       "text": [
        "\n",
        "239"
       ]
      },
      {
       "output_type": "stream",
       "stream": "stdout",
       "text": [
        "\n",
        "240"
       ]
      },
      {
       "output_type": "stream",
       "stream": "stdout",
       "text": [
        "\n",
        "241"
       ]
      },
      {
       "output_type": "stream",
       "stream": "stdout",
       "text": [
        "\n",
        "242"
       ]
      },
      {
       "output_type": "stream",
       "stream": "stdout",
       "text": [
        "\n",
        "243"
       ]
      },
      {
       "output_type": "stream",
       "stream": "stdout",
       "text": [
        "\n",
        "244"
       ]
      },
      {
       "output_type": "stream",
       "stream": "stdout",
       "text": [
        "\n",
        "245"
       ]
      },
      {
       "output_type": "stream",
       "stream": "stdout",
       "text": [
        "\n",
        "246"
       ]
      },
      {
       "output_type": "stream",
       "stream": "stdout",
       "text": [
        "\n",
        "247"
       ]
      },
      {
       "output_type": "stream",
       "stream": "stdout",
       "text": [
        "\n",
        "248"
       ]
      },
      {
       "output_type": "stream",
       "stream": "stdout",
       "text": [
        "\n",
        "249"
       ]
      },
      {
       "output_type": "stream",
       "stream": "stdout",
       "text": [
        "\n",
        "250"
       ]
      },
      {
       "output_type": "stream",
       "stream": "stdout",
       "text": [
        "\n",
        "251"
       ]
      },
      {
       "output_type": "stream",
       "stream": "stdout",
       "text": [
        "\n",
        "252"
       ]
      },
      {
       "output_type": "stream",
       "stream": "stdout",
       "text": [
        "\n",
        "253"
       ]
      },
      {
       "output_type": "stream",
       "stream": "stdout",
       "text": [
        "\n",
        "254"
       ]
      },
      {
       "output_type": "stream",
       "stream": "stdout",
       "text": [
        "\n",
        "255"
       ]
      },
      {
       "output_type": "stream",
       "stream": "stdout",
       "text": [
        "\n",
        "256"
       ]
      },
      {
       "output_type": "stream",
       "stream": "stdout",
       "text": [
        "\n",
        "257"
       ]
      },
      {
       "output_type": "stream",
       "stream": "stdout",
       "text": [
        "\n",
        "258"
       ]
      },
      {
       "output_type": "stream",
       "stream": "stdout",
       "text": [
        "\n",
        "259"
       ]
      },
      {
       "output_type": "stream",
       "stream": "stdout",
       "text": [
        "\n",
        "260"
       ]
      },
      {
       "output_type": "stream",
       "stream": "stdout",
       "text": [
        "\n",
        "261"
       ]
      },
      {
       "output_type": "stream",
       "stream": "stdout",
       "text": [
        "\n",
        "262"
       ]
      },
      {
       "output_type": "stream",
       "stream": "stdout",
       "text": [
        "\n",
        "263"
       ]
      },
      {
       "output_type": "stream",
       "stream": "stdout",
       "text": [
        "\n",
        "264"
       ]
      },
      {
       "output_type": "stream",
       "stream": "stdout",
       "text": [
        "\n",
        "265"
       ]
      },
      {
       "output_type": "stream",
       "stream": "stdout",
       "text": [
        "\n",
        "266"
       ]
      },
      {
       "output_type": "stream",
       "stream": "stdout",
       "text": [
        "\n",
        "267"
       ]
      },
      {
       "output_type": "stream",
       "stream": "stdout",
       "text": [
        "\n",
        "268"
       ]
      },
      {
       "output_type": "stream",
       "stream": "stdout",
       "text": [
        "\n",
        "269"
       ]
      },
      {
       "output_type": "stream",
       "stream": "stdout",
       "text": [
        "\n",
        "270"
       ]
      },
      {
       "output_type": "stream",
       "stream": "stdout",
       "text": [
        "\n",
        "271"
       ]
      },
      {
       "output_type": "stream",
       "stream": "stdout",
       "text": [
        "\n",
        "272"
       ]
      },
      {
       "output_type": "stream",
       "stream": "stdout",
       "text": [
        "\n",
        "273"
       ]
      },
      {
       "output_type": "stream",
       "stream": "stdout",
       "text": [
        "\n",
        "274"
       ]
      },
      {
       "output_type": "stream",
       "stream": "stdout",
       "text": [
        "\n",
        "275"
       ]
      },
      {
       "output_type": "stream",
       "stream": "stdout",
       "text": [
        "\n",
        "276"
       ]
      },
      {
       "output_type": "stream",
       "stream": "stdout",
       "text": [
        "\n",
        "277"
       ]
      },
      {
       "output_type": "stream",
       "stream": "stdout",
       "text": [
        "\n",
        "278"
       ]
      },
      {
       "output_type": "stream",
       "stream": "stdout",
       "text": [
        "\n",
        "279"
       ]
      },
      {
       "output_type": "stream",
       "stream": "stdout",
       "text": [
        "\n",
        "280"
       ]
      },
      {
       "output_type": "stream",
       "stream": "stdout",
       "text": [
        "\n",
        "281"
       ]
      },
      {
       "output_type": "stream",
       "stream": "stdout",
       "text": [
        "\n",
        "282"
       ]
      },
      {
       "output_type": "stream",
       "stream": "stdout",
       "text": [
        "\n",
        "283"
       ]
      },
      {
       "output_type": "stream",
       "stream": "stdout",
       "text": [
        "\n",
        "284"
       ]
      },
      {
       "output_type": "stream",
       "stream": "stdout",
       "text": [
        "\n",
        "285"
       ]
      },
      {
       "output_type": "stream",
       "stream": "stdout",
       "text": [
        "\n",
        "286"
       ]
      },
      {
       "output_type": "stream",
       "stream": "stdout",
       "text": [
        "\n",
        "287"
       ]
      },
      {
       "output_type": "stream",
       "stream": "stdout",
       "text": [
        "\n",
        "288"
       ]
      },
      {
       "output_type": "stream",
       "stream": "stdout",
       "text": [
        "\n",
        "289"
       ]
      },
      {
       "output_type": "stream",
       "stream": "stdout",
       "text": [
        "\n",
        "290"
       ]
      },
      {
       "output_type": "stream",
       "stream": "stdout",
       "text": [
        "\n",
        "291"
       ]
      },
      {
       "output_type": "stream",
       "stream": "stdout",
       "text": [
        "\n",
        "292"
       ]
      },
      {
       "output_type": "stream",
       "stream": "stdout",
       "text": [
        "\n",
        "293"
       ]
      },
      {
       "output_type": "stream",
       "stream": "stdout",
       "text": [
        "\n",
        "294"
       ]
      },
      {
       "output_type": "stream",
       "stream": "stdout",
       "text": [
        "\n",
        "295"
       ]
      },
      {
       "output_type": "stream",
       "stream": "stdout",
       "text": [
        "\n",
        "296"
       ]
      },
      {
       "output_type": "stream",
       "stream": "stdout",
       "text": [
        "\n",
        "297"
       ]
      },
      {
       "output_type": "stream",
       "stream": "stdout",
       "text": [
        "\n",
        "298"
       ]
      },
      {
       "output_type": "stream",
       "stream": "stdout",
       "text": [
        "\n",
        "299"
       ]
      },
      {
       "output_type": "stream",
       "stream": "stdout",
       "text": [
        "\n",
        "300"
       ]
      },
      {
       "output_type": "stream",
       "stream": "stdout",
       "text": [
        "\n",
        "301"
       ]
      },
      {
       "output_type": "stream",
       "stream": "stdout",
       "text": [
        "\n",
        "302"
       ]
      },
      {
       "output_type": "stream",
       "stream": "stdout",
       "text": [
        "\n",
        "303"
       ]
      },
      {
       "output_type": "stream",
       "stream": "stdout",
       "text": [
        "\n",
        "304"
       ]
      },
      {
       "output_type": "stream",
       "stream": "stdout",
       "text": [
        "\n",
        "305"
       ]
      },
      {
       "output_type": "stream",
       "stream": "stdout",
       "text": [
        "\n",
        "306"
       ]
      },
      {
       "output_type": "stream",
       "stream": "stdout",
       "text": [
        "\n",
        "307"
       ]
      },
      {
       "output_type": "stream",
       "stream": "stdout",
       "text": [
        "\n",
        "308"
       ]
      },
      {
       "output_type": "stream",
       "stream": "stdout",
       "text": [
        "\n",
        "309"
       ]
      },
      {
       "output_type": "stream",
       "stream": "stdout",
       "text": [
        "\n",
        "310"
       ]
      },
      {
       "output_type": "stream",
       "stream": "stdout",
       "text": [
        "\n",
        "311"
       ]
      },
      {
       "output_type": "stream",
       "stream": "stdout",
       "text": [
        "\n",
        "312"
       ]
      },
      {
       "output_type": "stream",
       "stream": "stdout",
       "text": [
        "\n",
        "313"
       ]
      },
      {
       "output_type": "stream",
       "stream": "stdout",
       "text": [
        "\n",
        "314"
       ]
      },
      {
       "output_type": "stream",
       "stream": "stdout",
       "text": [
        "\n",
        "315"
       ]
      },
      {
       "output_type": "stream",
       "stream": "stdout",
       "text": [
        "\n",
        "316"
       ]
      },
      {
       "output_type": "stream",
       "stream": "stdout",
       "text": [
        "\n",
        "317"
       ]
      },
      {
       "output_type": "stream",
       "stream": "stdout",
       "text": [
        "\n",
        "318"
       ]
      },
      {
       "output_type": "stream",
       "stream": "stdout",
       "text": [
        "\n",
        "319"
       ]
      },
      {
       "output_type": "stream",
       "stream": "stdout",
       "text": [
        "\n",
        "320"
       ]
      },
      {
       "output_type": "stream",
       "stream": "stdout",
       "text": [
        "\n",
        "321"
       ]
      },
      {
       "output_type": "stream",
       "stream": "stdout",
       "text": [
        "\n",
        "322"
       ]
      },
      {
       "output_type": "stream",
       "stream": "stdout",
       "text": [
        "\n",
        "323"
       ]
      },
      {
       "output_type": "stream",
       "stream": "stdout",
       "text": [
        "\n",
        "324"
       ]
      },
      {
       "output_type": "stream",
       "stream": "stdout",
       "text": [
        "\n",
        "325"
       ]
      },
      {
       "output_type": "stream",
       "stream": "stdout",
       "text": [
        "\n",
        "326"
       ]
      },
      {
       "output_type": "stream",
       "stream": "stdout",
       "text": [
        "\n",
        "327"
       ]
      },
      {
       "output_type": "stream",
       "stream": "stdout",
       "text": [
        "\n",
        "328"
       ]
      },
      {
       "output_type": "stream",
       "stream": "stdout",
       "text": [
        "\n",
        "329"
       ]
      },
      {
       "output_type": "stream",
       "stream": "stdout",
       "text": [
        "\n",
        "330"
       ]
      },
      {
       "output_type": "stream",
       "stream": "stdout",
       "text": [
        "\n",
        "331"
       ]
      },
      {
       "output_type": "stream",
       "stream": "stdout",
       "text": [
        "\n",
        "332"
       ]
      },
      {
       "output_type": "stream",
       "stream": "stdout",
       "text": [
        "\n",
        "333"
       ]
      },
      {
       "output_type": "stream",
       "stream": "stdout",
       "text": [
        "\n",
        "334"
       ]
      },
      {
       "output_type": "stream",
       "stream": "stdout",
       "text": [
        "\n",
        "335"
       ]
      },
      {
       "output_type": "stream",
       "stream": "stdout",
       "text": [
        "\n",
        "336"
       ]
      },
      {
       "output_type": "stream",
       "stream": "stdout",
       "text": [
        "\n",
        "337"
       ]
      },
      {
       "output_type": "stream",
       "stream": "stdout",
       "text": [
        "\n",
        "338"
       ]
      },
      {
       "output_type": "stream",
       "stream": "stdout",
       "text": [
        "\n",
        "339"
       ]
      },
      {
       "output_type": "stream",
       "stream": "stdout",
       "text": [
        "\n",
        "340"
       ]
      },
      {
       "output_type": "stream",
       "stream": "stdout",
       "text": [
        "\n",
        "341"
       ]
      },
      {
       "output_type": "stream",
       "stream": "stdout",
       "text": [
        "\n",
        "342"
       ]
      },
      {
       "output_type": "stream",
       "stream": "stdout",
       "text": [
        "\n",
        "343"
       ]
      },
      {
       "output_type": "stream",
       "stream": "stdout",
       "text": [
        "\n",
        "344"
       ]
      },
      {
       "output_type": "stream",
       "stream": "stdout",
       "text": [
        "\n",
        "345"
       ]
      },
      {
       "output_type": "stream",
       "stream": "stdout",
       "text": [
        "\n",
        "346"
       ]
      },
      {
       "output_type": "stream",
       "stream": "stdout",
       "text": [
        "\n",
        "347"
       ]
      },
      {
       "output_type": "stream",
       "stream": "stdout",
       "text": [
        "\n",
        "348"
       ]
      },
      {
       "output_type": "stream",
       "stream": "stdout",
       "text": [
        "\n",
        "349"
       ]
      },
      {
       "output_type": "stream",
       "stream": "stdout",
       "text": [
        "\n",
        "350"
       ]
      },
      {
       "output_type": "stream",
       "stream": "stdout",
       "text": [
        "\n",
        "351"
       ]
      },
      {
       "output_type": "stream",
       "stream": "stdout",
       "text": [
        "\n",
        "352"
       ]
      },
      {
       "output_type": "stream",
       "stream": "stdout",
       "text": [
        "\n",
        "353"
       ]
      },
      {
       "output_type": "stream",
       "stream": "stdout",
       "text": [
        "\n",
        "354"
       ]
      },
      {
       "output_type": "stream",
       "stream": "stdout",
       "text": [
        "\n",
        "355"
       ]
      },
      {
       "output_type": "stream",
       "stream": "stdout",
       "text": [
        "\n",
        "356"
       ]
      },
      {
       "output_type": "stream",
       "stream": "stdout",
       "text": [
        "\n",
        "357"
       ]
      },
      {
       "output_type": "stream",
       "stream": "stdout",
       "text": [
        "\n",
        "358"
       ]
      },
      {
       "output_type": "stream",
       "stream": "stdout",
       "text": [
        "\n",
        "359"
       ]
      },
      {
       "output_type": "stream",
       "stream": "stdout",
       "text": [
        "\n",
        "360"
       ]
      },
      {
       "output_type": "stream",
       "stream": "stdout",
       "text": [
        "\n",
        "361"
       ]
      },
      {
       "output_type": "stream",
       "stream": "stdout",
       "text": [
        "\n",
        "362"
       ]
      },
      {
       "output_type": "stream",
       "stream": "stdout",
       "text": [
        "\n",
        "363"
       ]
      },
      {
       "output_type": "stream",
       "stream": "stdout",
       "text": [
        "\n",
        "364"
       ]
      },
      {
       "output_type": "stream",
       "stream": "stdout",
       "text": [
        "\n",
        "365"
       ]
      },
      {
       "output_type": "stream",
       "stream": "stdout",
       "text": [
        "\n",
        "366"
       ]
      },
      {
       "output_type": "stream",
       "stream": "stdout",
       "text": [
        "\n",
        "367"
       ]
      },
      {
       "output_type": "stream",
       "stream": "stdout",
       "text": [
        "\n",
        "368"
       ]
      },
      {
       "output_type": "stream",
       "stream": "stdout",
       "text": [
        "\n",
        "369"
       ]
      },
      {
       "output_type": "stream",
       "stream": "stdout",
       "text": [
        "\n",
        "370"
       ]
      },
      {
       "output_type": "stream",
       "stream": "stdout",
       "text": [
        "\n",
        "371"
       ]
      },
      {
       "output_type": "stream",
       "stream": "stdout",
       "text": [
        "\n",
        "372"
       ]
      },
      {
       "output_type": "stream",
       "stream": "stdout",
       "text": [
        "\n",
        "373"
       ]
      },
      {
       "output_type": "stream",
       "stream": "stdout",
       "text": [
        "\n",
        "374"
       ]
      },
      {
       "output_type": "stream",
       "stream": "stdout",
       "text": [
        "\n",
        "375"
       ]
      },
      {
       "output_type": "stream",
       "stream": "stdout",
       "text": [
        "\n",
        "376"
       ]
      },
      {
       "output_type": "stream",
       "stream": "stdout",
       "text": [
        "\n",
        "377"
       ]
      },
      {
       "output_type": "stream",
       "stream": "stdout",
       "text": [
        "\n",
        "378"
       ]
      },
      {
       "output_type": "stream",
       "stream": "stdout",
       "text": [
        "\n",
        "379"
       ]
      },
      {
       "output_type": "stream",
       "stream": "stdout",
       "text": [
        "\n",
        "380"
       ]
      },
      {
       "output_type": "stream",
       "stream": "stdout",
       "text": [
        "\n",
        "381"
       ]
      },
      {
       "output_type": "stream",
       "stream": "stdout",
       "text": [
        "\n",
        "382"
       ]
      },
      {
       "output_type": "stream",
       "stream": "stdout",
       "text": [
        "\n",
        "383"
       ]
      },
      {
       "output_type": "stream",
       "stream": "stdout",
       "text": [
        "\n",
        "384"
       ]
      },
      {
       "output_type": "stream",
       "stream": "stdout",
       "text": [
        "\n",
        "385"
       ]
      },
      {
       "output_type": "stream",
       "stream": "stdout",
       "text": [
        "\n",
        "386"
       ]
      },
      {
       "output_type": "stream",
       "stream": "stdout",
       "text": [
        "\n",
        "387"
       ]
      },
      {
       "output_type": "stream",
       "stream": "stdout",
       "text": [
        "\n",
        "388"
       ]
      },
      {
       "output_type": "stream",
       "stream": "stdout",
       "text": [
        "\n",
        "389"
       ]
      },
      {
       "output_type": "stream",
       "stream": "stdout",
       "text": [
        "\n",
        "390"
       ]
      },
      {
       "output_type": "stream",
       "stream": "stdout",
       "text": [
        "\n",
        "391"
       ]
      },
      {
       "output_type": "stream",
       "stream": "stdout",
       "text": [
        "\n",
        "392"
       ]
      },
      {
       "output_type": "stream",
       "stream": "stdout",
       "text": [
        "\n",
        "393"
       ]
      },
      {
       "output_type": "stream",
       "stream": "stdout",
       "text": [
        "\n",
        "394"
       ]
      },
      {
       "output_type": "stream",
       "stream": "stdout",
       "text": [
        "\n",
        "395"
       ]
      },
      {
       "output_type": "stream",
       "stream": "stdout",
       "text": [
        "\n",
        "396"
       ]
      },
      {
       "output_type": "stream",
       "stream": "stdout",
       "text": [
        "\n",
        "397"
       ]
      },
      {
       "output_type": "stream",
       "stream": "stdout",
       "text": [
        "\n",
        "398"
       ]
      },
      {
       "output_type": "stream",
       "stream": "stdout",
       "text": [
        "\n",
        "399"
       ]
      },
      {
       "output_type": "stream",
       "stream": "stdout",
       "text": [
        "\n",
        "0"
       ]
      },
      {
       "output_type": "stream",
       "stream": "stdout",
       "text": [
        "\n",
        "1"
       ]
      },
      {
       "output_type": "stream",
       "stream": "stdout",
       "text": [
        "\n",
        "2"
       ]
      },
      {
       "output_type": "stream",
       "stream": "stdout",
       "text": [
        "\n",
        "3"
       ]
      },
      {
       "output_type": "stream",
       "stream": "stdout",
       "text": [
        "\n",
        "4"
       ]
      },
      {
       "output_type": "stream",
       "stream": "stdout",
       "text": [
        "\n",
        "5"
       ]
      },
      {
       "output_type": "stream",
       "stream": "stdout",
       "text": [
        "\n",
        "6"
       ]
      },
      {
       "output_type": "stream",
       "stream": "stdout",
       "text": [
        "\n",
        "7"
       ]
      },
      {
       "output_type": "stream",
       "stream": "stdout",
       "text": [
        "\n",
        "8"
       ]
      },
      {
       "output_type": "stream",
       "stream": "stdout",
       "text": [
        "\n",
        "9"
       ]
      },
      {
       "output_type": "stream",
       "stream": "stdout",
       "text": [
        "\n",
        "10"
       ]
      },
      {
       "output_type": "stream",
       "stream": "stdout",
       "text": [
        "\n",
        "11"
       ]
      },
      {
       "output_type": "stream",
       "stream": "stdout",
       "text": [
        "\n",
        "12"
       ]
      },
      {
       "output_type": "stream",
       "stream": "stdout",
       "text": [
        "\n",
        "13"
       ]
      },
      {
       "output_type": "stream",
       "stream": "stdout",
       "text": [
        "\n",
        "14"
       ]
      },
      {
       "output_type": "stream",
       "stream": "stdout",
       "text": [
        "\n",
        "15"
       ]
      },
      {
       "output_type": "stream",
       "stream": "stdout",
       "text": [
        "\n",
        "16"
       ]
      },
      {
       "output_type": "stream",
       "stream": "stdout",
       "text": [
        "\n",
        "17"
       ]
      },
      {
       "output_type": "stream",
       "stream": "stdout",
       "text": [
        "\n",
        "18"
       ]
      },
      {
       "output_type": "stream",
       "stream": "stdout",
       "text": [
        "\n",
        "19"
       ]
      },
      {
       "output_type": "stream",
       "stream": "stdout",
       "text": [
        "\n",
        "20"
       ]
      },
      {
       "output_type": "stream",
       "stream": "stdout",
       "text": [
        "\n",
        "21"
       ]
      },
      {
       "output_type": "stream",
       "stream": "stdout",
       "text": [
        "\n",
        "22"
       ]
      },
      {
       "output_type": "stream",
       "stream": "stdout",
       "text": [
        "\n",
        "23"
       ]
      },
      {
       "output_type": "stream",
       "stream": "stdout",
       "text": [
        "\n",
        "24"
       ]
      },
      {
       "output_type": "stream",
       "stream": "stdout",
       "text": [
        "\n",
        "25"
       ]
      },
      {
       "output_type": "stream",
       "stream": "stdout",
       "text": [
        "\n",
        "26"
       ]
      },
      {
       "output_type": "stream",
       "stream": "stdout",
       "text": [
        "\n",
        "27"
       ]
      },
      {
       "output_type": "stream",
       "stream": "stdout",
       "text": [
        "\n",
        "28"
       ]
      },
      {
       "output_type": "stream",
       "stream": "stdout",
       "text": [
        "\n",
        "29"
       ]
      },
      {
       "output_type": "stream",
       "stream": "stdout",
       "text": [
        "\n",
        "30"
       ]
      },
      {
       "output_type": "stream",
       "stream": "stdout",
       "text": [
        "\n",
        "31"
       ]
      },
      {
       "output_type": "stream",
       "stream": "stdout",
       "text": [
        "\n",
        "32"
       ]
      },
      {
       "output_type": "stream",
       "stream": "stdout",
       "text": [
        "\n",
        "33"
       ]
      },
      {
       "output_type": "stream",
       "stream": "stdout",
       "text": [
        "\n",
        "34"
       ]
      },
      {
       "output_type": "stream",
       "stream": "stdout",
       "text": [
        "\n",
        "35"
       ]
      },
      {
       "output_type": "stream",
       "stream": "stdout",
       "text": [
        "\n",
        "36"
       ]
      },
      {
       "output_type": "stream",
       "stream": "stdout",
       "text": [
        "\n",
        "37"
       ]
      },
      {
       "output_type": "stream",
       "stream": "stdout",
       "text": [
        "\n",
        "38"
       ]
      },
      {
       "output_type": "stream",
       "stream": "stdout",
       "text": [
        "\n",
        "39"
       ]
      },
      {
       "output_type": "stream",
       "stream": "stdout",
       "text": [
        "\n",
        "40"
       ]
      },
      {
       "output_type": "stream",
       "stream": "stdout",
       "text": [
        "\n",
        "41"
       ]
      },
      {
       "output_type": "stream",
       "stream": "stdout",
       "text": [
        "\n",
        "42"
       ]
      },
      {
       "output_type": "stream",
       "stream": "stdout",
       "text": [
        "\n",
        "43"
       ]
      },
      {
       "output_type": "stream",
       "stream": "stdout",
       "text": [
        "\n",
        "44"
       ]
      },
      {
       "output_type": "stream",
       "stream": "stdout",
       "text": [
        "\n",
        "45"
       ]
      },
      {
       "output_type": "stream",
       "stream": "stdout",
       "text": [
        "\n",
        "46"
       ]
      },
      {
       "output_type": "stream",
       "stream": "stdout",
       "text": [
        "\n",
        "47"
       ]
      },
      {
       "output_type": "stream",
       "stream": "stdout",
       "text": [
        "\n",
        "48"
       ]
      },
      {
       "output_type": "stream",
       "stream": "stdout",
       "text": [
        "\n",
        "49"
       ]
      },
      {
       "output_type": "stream",
       "stream": "stdout",
       "text": [
        "\n",
        "50"
       ]
      },
      {
       "output_type": "stream",
       "stream": "stdout",
       "text": [
        "\n",
        "51"
       ]
      },
      {
       "output_type": "stream",
       "stream": "stdout",
       "text": [
        "\n",
        "52"
       ]
      },
      {
       "output_type": "stream",
       "stream": "stdout",
       "text": [
        "\n",
        "53"
       ]
      },
      {
       "output_type": "stream",
       "stream": "stdout",
       "text": [
        "\n",
        "54"
       ]
      },
      {
       "output_type": "stream",
       "stream": "stdout",
       "text": [
        "\n",
        "55"
       ]
      },
      {
       "output_type": "stream",
       "stream": "stdout",
       "text": [
        "\n",
        "56"
       ]
      },
      {
       "output_type": "stream",
       "stream": "stdout",
       "text": [
        "\n",
        "57"
       ]
      },
      {
       "output_type": "stream",
       "stream": "stdout",
       "text": [
        "\n",
        "58"
       ]
      },
      {
       "output_type": "stream",
       "stream": "stdout",
       "text": [
        "\n",
        "59"
       ]
      },
      {
       "output_type": "stream",
       "stream": "stdout",
       "text": [
        "\n",
        "60"
       ]
      },
      {
       "output_type": "stream",
       "stream": "stdout",
       "text": [
        "\n",
        "61"
       ]
      },
      {
       "output_type": "stream",
       "stream": "stdout",
       "text": [
        "\n",
        "62"
       ]
      },
      {
       "output_type": "stream",
       "stream": "stdout",
       "text": [
        "\n",
        "63"
       ]
      },
      {
       "output_type": "stream",
       "stream": "stdout",
       "text": [
        "\n",
        "64"
       ]
      },
      {
       "output_type": "stream",
       "stream": "stdout",
       "text": [
        "\n",
        "65"
       ]
      },
      {
       "output_type": "stream",
       "stream": "stdout",
       "text": [
        "\n",
        "66"
       ]
      },
      {
       "output_type": "stream",
       "stream": "stdout",
       "text": [
        "\n",
        "67"
       ]
      },
      {
       "output_type": "stream",
       "stream": "stdout",
       "text": [
        "\n",
        "68"
       ]
      },
      {
       "output_type": "stream",
       "stream": "stdout",
       "text": [
        "\n",
        "69"
       ]
      },
      {
       "output_type": "stream",
       "stream": "stdout",
       "text": [
        "\n",
        "70"
       ]
      },
      {
       "output_type": "stream",
       "stream": "stdout",
       "text": [
        "\n",
        "71"
       ]
      },
      {
       "output_type": "stream",
       "stream": "stdout",
       "text": [
        "\n",
        "72"
       ]
      },
      {
       "output_type": "stream",
       "stream": "stdout",
       "text": [
        "\n",
        "73"
       ]
      },
      {
       "output_type": "stream",
       "stream": "stdout",
       "text": [
        "\n",
        "74"
       ]
      },
      {
       "output_type": "stream",
       "stream": "stdout",
       "text": [
        "\n",
        "75"
       ]
      },
      {
       "output_type": "stream",
       "stream": "stdout",
       "text": [
        "\n",
        "76"
       ]
      },
      {
       "output_type": "stream",
       "stream": "stdout",
       "text": [
        "\n",
        "77"
       ]
      },
      {
       "output_type": "stream",
       "stream": "stdout",
       "text": [
        "\n",
        "78"
       ]
      },
      {
       "output_type": "stream",
       "stream": "stdout",
       "text": [
        "\n",
        "79"
       ]
      },
      {
       "output_type": "stream",
       "stream": "stdout",
       "text": [
        "\n",
        "80"
       ]
      },
      {
       "output_type": "stream",
       "stream": "stdout",
       "text": [
        "\n",
        "81"
       ]
      },
      {
       "output_type": "stream",
       "stream": "stdout",
       "text": [
        "\n",
        "82"
       ]
      },
      {
       "output_type": "stream",
       "stream": "stdout",
       "text": [
        "\n",
        "83"
       ]
      },
      {
       "output_type": "stream",
       "stream": "stdout",
       "text": [
        "\n",
        "84"
       ]
      },
      {
       "output_type": "stream",
       "stream": "stdout",
       "text": [
        "\n",
        "85"
       ]
      },
      {
       "output_type": "stream",
       "stream": "stdout",
       "text": [
        "\n",
        "86"
       ]
      },
      {
       "output_type": "stream",
       "stream": "stdout",
       "text": [
        "\n",
        "87"
       ]
      },
      {
       "output_type": "stream",
       "stream": "stdout",
       "text": [
        "\n",
        "88"
       ]
      },
      {
       "output_type": "stream",
       "stream": "stdout",
       "text": [
        "\n",
        "89"
       ]
      },
      {
       "output_type": "stream",
       "stream": "stdout",
       "text": [
        "\n",
        "90"
       ]
      },
      {
       "output_type": "stream",
       "stream": "stdout",
       "text": [
        "\n",
        "91"
       ]
      },
      {
       "output_type": "stream",
       "stream": "stdout",
       "text": [
        "\n",
        "92"
       ]
      },
      {
       "output_type": "stream",
       "stream": "stdout",
       "text": [
        "\n",
        "93"
       ]
      },
      {
       "output_type": "stream",
       "stream": "stdout",
       "text": [
        "\n",
        "94"
       ]
      },
      {
       "output_type": "stream",
       "stream": "stdout",
       "text": [
        "\n",
        "95"
       ]
      },
      {
       "output_type": "stream",
       "stream": "stdout",
       "text": [
        "\n",
        "96"
       ]
      },
      {
       "output_type": "stream",
       "stream": "stdout",
       "text": [
        "\n",
        "97"
       ]
      },
      {
       "output_type": "stream",
       "stream": "stdout",
       "text": [
        "\n",
        "98"
       ]
      },
      {
       "output_type": "stream",
       "stream": "stdout",
       "text": [
        "\n",
        "99"
       ]
      },
      {
       "output_type": "stream",
       "stream": "stdout",
       "text": [
        "\n",
        "100"
       ]
      },
      {
       "output_type": "stream",
       "stream": "stdout",
       "text": [
        "\n",
        "101"
       ]
      },
      {
       "output_type": "stream",
       "stream": "stdout",
       "text": [
        "\n",
        "102"
       ]
      },
      {
       "output_type": "stream",
       "stream": "stdout",
       "text": [
        "\n",
        "103"
       ]
      },
      {
       "output_type": "stream",
       "stream": "stdout",
       "text": [
        "\n",
        "104"
       ]
      },
      {
       "output_type": "stream",
       "stream": "stdout",
       "text": [
        "\n",
        "105"
       ]
      },
      {
       "output_type": "stream",
       "stream": "stdout",
       "text": [
        "\n",
        "106"
       ]
      },
      {
       "output_type": "stream",
       "stream": "stdout",
       "text": [
        "\n",
        "107"
       ]
      },
      {
       "output_type": "stream",
       "stream": "stdout",
       "text": [
        "\n",
        "108"
       ]
      },
      {
       "output_type": "stream",
       "stream": "stdout",
       "text": [
        "\n",
        "109"
       ]
      },
      {
       "output_type": "stream",
       "stream": "stdout",
       "text": [
        "\n",
        "110"
       ]
      },
      {
       "output_type": "stream",
       "stream": "stdout",
       "text": [
        "\n",
        "111"
       ]
      },
      {
       "output_type": "stream",
       "stream": "stdout",
       "text": [
        "\n",
        "112"
       ]
      },
      {
       "output_type": "stream",
       "stream": "stdout",
       "text": [
        "\n",
        "113"
       ]
      },
      {
       "output_type": "stream",
       "stream": "stdout",
       "text": [
        "\n",
        "114"
       ]
      },
      {
       "output_type": "stream",
       "stream": "stdout",
       "text": [
        "\n",
        "115"
       ]
      },
      {
       "output_type": "stream",
       "stream": "stdout",
       "text": [
        "\n",
        "116"
       ]
      },
      {
       "output_type": "stream",
       "stream": "stdout",
       "text": [
        "\n",
        "117"
       ]
      },
      {
       "output_type": "stream",
       "stream": "stdout",
       "text": [
        "\n",
        "118"
       ]
      },
      {
       "output_type": "stream",
       "stream": "stdout",
       "text": [
        "\n",
        "119"
       ]
      },
      {
       "output_type": "stream",
       "stream": "stdout",
       "text": [
        "\n",
        "120"
       ]
      },
      {
       "output_type": "stream",
       "stream": "stdout",
       "text": [
        "\n",
        "121"
       ]
      },
      {
       "output_type": "stream",
       "stream": "stdout",
       "text": [
        "\n",
        "122"
       ]
      },
      {
       "output_type": "stream",
       "stream": "stdout",
       "text": [
        "\n",
        "123"
       ]
      },
      {
       "output_type": "stream",
       "stream": "stdout",
       "text": [
        "\n",
        "124"
       ]
      },
      {
       "output_type": "stream",
       "stream": "stdout",
       "text": [
        "\n",
        "125"
       ]
      },
      {
       "output_type": "stream",
       "stream": "stdout",
       "text": [
        "\n",
        "126"
       ]
      },
      {
       "output_type": "stream",
       "stream": "stdout",
       "text": [
        "\n",
        "127"
       ]
      },
      {
       "output_type": "stream",
       "stream": "stdout",
       "text": [
        "\n",
        "128"
       ]
      },
      {
       "output_type": "stream",
       "stream": "stdout",
       "text": [
        "\n",
        "129"
       ]
      },
      {
       "output_type": "stream",
       "stream": "stdout",
       "text": [
        "\n",
        "130"
       ]
      },
      {
       "output_type": "stream",
       "stream": "stdout",
       "text": [
        "\n",
        "131"
       ]
      },
      {
       "output_type": "stream",
       "stream": "stdout",
       "text": [
        "\n",
        "132"
       ]
      },
      {
       "output_type": "stream",
       "stream": "stdout",
       "text": [
        "\n",
        "133"
       ]
      },
      {
       "output_type": "stream",
       "stream": "stdout",
       "text": [
        "\n",
        "134"
       ]
      },
      {
       "output_type": "stream",
       "stream": "stdout",
       "text": [
        "\n",
        "135"
       ]
      },
      {
       "output_type": "stream",
       "stream": "stdout",
       "text": [
        "\n",
        "136"
       ]
      },
      {
       "output_type": "stream",
       "stream": "stdout",
       "text": [
        "\n",
        "137"
       ]
      },
      {
       "output_type": "stream",
       "stream": "stdout",
       "text": [
        "\n",
        "138"
       ]
      },
      {
       "output_type": "stream",
       "stream": "stdout",
       "text": [
        "\n",
        "139"
       ]
      },
      {
       "output_type": "stream",
       "stream": "stdout",
       "text": [
        "\n",
        "140"
       ]
      },
      {
       "output_type": "stream",
       "stream": "stdout",
       "text": [
        "\n",
        "141"
       ]
      },
      {
       "output_type": "stream",
       "stream": "stdout",
       "text": [
        "\n",
        "142"
       ]
      },
      {
       "output_type": "stream",
       "stream": "stdout",
       "text": [
        "\n",
        "143"
       ]
      },
      {
       "output_type": "stream",
       "stream": "stdout",
       "text": [
        "\n",
        "144"
       ]
      },
      {
       "output_type": "stream",
       "stream": "stdout",
       "text": [
        "\n",
        "145"
       ]
      },
      {
       "output_type": "stream",
       "stream": "stdout",
       "text": [
        "\n",
        "146"
       ]
      },
      {
       "output_type": "stream",
       "stream": "stdout",
       "text": [
        "\n",
        "147"
       ]
      },
      {
       "output_type": "stream",
       "stream": "stdout",
       "text": [
        "\n",
        "148"
       ]
      },
      {
       "output_type": "stream",
       "stream": "stdout",
       "text": [
        "\n",
        "149"
       ]
      },
      {
       "output_type": "stream",
       "stream": "stdout",
       "text": [
        "\n",
        "150"
       ]
      },
      {
       "output_type": "stream",
       "stream": "stdout",
       "text": [
        "\n",
        "151"
       ]
      },
      {
       "output_type": "stream",
       "stream": "stdout",
       "text": [
        "\n",
        "152"
       ]
      },
      {
       "output_type": "stream",
       "stream": "stdout",
       "text": [
        "\n",
        "153"
       ]
      },
      {
       "output_type": "stream",
       "stream": "stdout",
       "text": [
        "\n",
        "154"
       ]
      },
      {
       "output_type": "stream",
       "stream": "stdout",
       "text": [
        "\n",
        "155"
       ]
      },
      {
       "output_type": "stream",
       "stream": "stdout",
       "text": [
        "\n",
        "156"
       ]
      },
      {
       "output_type": "stream",
       "stream": "stdout",
       "text": [
        "\n",
        "157"
       ]
      },
      {
       "output_type": "stream",
       "stream": "stdout",
       "text": [
        "\n",
        "158"
       ]
      },
      {
       "output_type": "stream",
       "stream": "stdout",
       "text": [
        "\n",
        "159"
       ]
      },
      {
       "output_type": "stream",
       "stream": "stdout",
       "text": [
        "\n",
        "160"
       ]
      },
      {
       "output_type": "stream",
       "stream": "stdout",
       "text": [
        "\n",
        "161"
       ]
      },
      {
       "output_type": "stream",
       "stream": "stdout",
       "text": [
        "\n",
        "162"
       ]
      },
      {
       "output_type": "stream",
       "stream": "stdout",
       "text": [
        "\n",
        "163"
       ]
      },
      {
       "output_type": "stream",
       "stream": "stdout",
       "text": [
        "\n",
        "164"
       ]
      },
      {
       "output_type": "stream",
       "stream": "stdout",
       "text": [
        "\n",
        "165"
       ]
      },
      {
       "output_type": "stream",
       "stream": "stdout",
       "text": [
        "\n",
        "166"
       ]
      },
      {
       "output_type": "stream",
       "stream": "stdout",
       "text": [
        "\n",
        "167"
       ]
      },
      {
       "output_type": "stream",
       "stream": "stdout",
       "text": [
        "\n",
        "168"
       ]
      },
      {
       "output_type": "stream",
       "stream": "stdout",
       "text": [
        "\n",
        "169"
       ]
      },
      {
       "output_type": "stream",
       "stream": "stdout",
       "text": [
        "\n",
        "170"
       ]
      },
      {
       "output_type": "stream",
       "stream": "stdout",
       "text": [
        "\n",
        "171"
       ]
      },
      {
       "output_type": "stream",
       "stream": "stdout",
       "text": [
        "\n",
        "172"
       ]
      },
      {
       "output_type": "stream",
       "stream": "stdout",
       "text": [
        "\n",
        "173"
       ]
      },
      {
       "output_type": "stream",
       "stream": "stdout",
       "text": [
        "\n",
        "174"
       ]
      },
      {
       "output_type": "stream",
       "stream": "stdout",
       "text": [
        "\n",
        "175"
       ]
      },
      {
       "output_type": "stream",
       "stream": "stdout",
       "text": [
        "\n",
        "176"
       ]
      },
      {
       "output_type": "stream",
       "stream": "stdout",
       "text": [
        "\n",
        "177"
       ]
      },
      {
       "output_type": "stream",
       "stream": "stdout",
       "text": [
        "\n",
        "178"
       ]
      },
      {
       "output_type": "stream",
       "stream": "stdout",
       "text": [
        "\n",
        "179"
       ]
      },
      {
       "output_type": "stream",
       "stream": "stdout",
       "text": [
        "\n",
        "180"
       ]
      },
      {
       "output_type": "stream",
       "stream": "stdout",
       "text": [
        "\n",
        "181"
       ]
      },
      {
       "output_type": "stream",
       "stream": "stdout",
       "text": [
        "\n",
        "182"
       ]
      },
      {
       "output_type": "stream",
       "stream": "stdout",
       "text": [
        "\n",
        "183"
       ]
      },
      {
       "output_type": "stream",
       "stream": "stdout",
       "text": [
        "\n",
        "184"
       ]
      },
      {
       "output_type": "stream",
       "stream": "stdout",
       "text": [
        "\n",
        "185"
       ]
      },
      {
       "output_type": "stream",
       "stream": "stdout",
       "text": [
        "\n",
        "186"
       ]
      },
      {
       "output_type": "stream",
       "stream": "stdout",
       "text": [
        "\n",
        "187"
       ]
      },
      {
       "output_type": "stream",
       "stream": "stdout",
       "text": [
        "\n",
        "188"
       ]
      },
      {
       "output_type": "stream",
       "stream": "stdout",
       "text": [
        "\n",
        "189"
       ]
      },
      {
       "output_type": "stream",
       "stream": "stdout",
       "text": [
        "\n",
        "190"
       ]
      },
      {
       "output_type": "stream",
       "stream": "stdout",
       "text": [
        "\n",
        "191"
       ]
      },
      {
       "output_type": "stream",
       "stream": "stdout",
       "text": [
        "\n",
        "192"
       ]
      },
      {
       "output_type": "stream",
       "stream": "stdout",
       "text": [
        "\n",
        "193"
       ]
      },
      {
       "output_type": "stream",
       "stream": "stdout",
       "text": [
        "\n",
        "194"
       ]
      },
      {
       "output_type": "stream",
       "stream": "stdout",
       "text": [
        "\n",
        "195"
       ]
      },
      {
       "output_type": "stream",
       "stream": "stdout",
       "text": [
        "\n",
        "196"
       ]
      },
      {
       "output_type": "stream",
       "stream": "stdout",
       "text": [
        "\n",
        "197"
       ]
      },
      {
       "output_type": "stream",
       "stream": "stdout",
       "text": [
        "\n",
        "198"
       ]
      },
      {
       "output_type": "stream",
       "stream": "stdout",
       "text": [
        "\n",
        "199"
       ]
      },
      {
       "output_type": "stream",
       "stream": "stdout",
       "text": [
        "\n",
        "200"
       ]
      },
      {
       "output_type": "stream",
       "stream": "stdout",
       "text": [
        "\n",
        "201"
       ]
      },
      {
       "output_type": "stream",
       "stream": "stdout",
       "text": [
        "\n",
        "202"
       ]
      },
      {
       "output_type": "stream",
       "stream": "stdout",
       "text": [
        "\n",
        "203"
       ]
      },
      {
       "output_type": "stream",
       "stream": "stdout",
       "text": [
        "\n",
        "204"
       ]
      },
      {
       "output_type": "stream",
       "stream": "stdout",
       "text": [
        "\n",
        "205"
       ]
      },
      {
       "output_type": "stream",
       "stream": "stdout",
       "text": [
        "\n",
        "206"
       ]
      },
      {
       "output_type": "stream",
       "stream": "stdout",
       "text": [
        "\n",
        "207"
       ]
      },
      {
       "output_type": "stream",
       "stream": "stdout",
       "text": [
        "\n",
        "208"
       ]
      },
      {
       "output_type": "stream",
       "stream": "stdout",
       "text": [
        "\n",
        "209"
       ]
      },
      {
       "output_type": "stream",
       "stream": "stdout",
       "text": [
        "\n",
        "210"
       ]
      },
      {
       "output_type": "stream",
       "stream": "stdout",
       "text": [
        "\n",
        "211"
       ]
      },
      {
       "output_type": "stream",
       "stream": "stdout",
       "text": [
        "\n",
        "212"
       ]
      },
      {
       "output_type": "stream",
       "stream": "stdout",
       "text": [
        "\n",
        "213"
       ]
      },
      {
       "output_type": "stream",
       "stream": "stdout",
       "text": [
        "\n",
        "214"
       ]
      },
      {
       "output_type": "stream",
       "stream": "stdout",
       "text": [
        "\n",
        "215"
       ]
      },
      {
       "output_type": "stream",
       "stream": "stdout",
       "text": [
        "\n",
        "216"
       ]
      },
      {
       "output_type": "stream",
       "stream": "stdout",
       "text": [
        "\n",
        "217"
       ]
      },
      {
       "output_type": "stream",
       "stream": "stdout",
       "text": [
        "\n",
        "218"
       ]
      },
      {
       "output_type": "stream",
       "stream": "stdout",
       "text": [
        "\n",
        "219"
       ]
      },
      {
       "output_type": "stream",
       "stream": "stdout",
       "text": [
        "\n",
        "220"
       ]
      },
      {
       "output_type": "stream",
       "stream": "stdout",
       "text": [
        "\n",
        "221"
       ]
      },
      {
       "output_type": "stream",
       "stream": "stdout",
       "text": [
        "\n",
        "222"
       ]
      },
      {
       "output_type": "stream",
       "stream": "stdout",
       "text": [
        "\n",
        "223"
       ]
      },
      {
       "output_type": "stream",
       "stream": "stdout",
       "text": [
        "\n",
        "224"
       ]
      },
      {
       "output_type": "stream",
       "stream": "stdout",
       "text": [
        "\n",
        "225"
       ]
      },
      {
       "output_type": "stream",
       "stream": "stdout",
       "text": [
        "\n",
        "226"
       ]
      },
      {
       "output_type": "stream",
       "stream": "stdout",
       "text": [
        "\n",
        "227"
       ]
      },
      {
       "output_type": "stream",
       "stream": "stdout",
       "text": [
        "\n",
        "228"
       ]
      },
      {
       "output_type": "stream",
       "stream": "stdout",
       "text": [
        "\n",
        "229"
       ]
      },
      {
       "output_type": "stream",
       "stream": "stdout",
       "text": [
        "\n",
        "230"
       ]
      },
      {
       "output_type": "stream",
       "stream": "stdout",
       "text": [
        "\n",
        "231"
       ]
      },
      {
       "output_type": "stream",
       "stream": "stdout",
       "text": [
        "\n",
        "232"
       ]
      },
      {
       "output_type": "stream",
       "stream": "stdout",
       "text": [
        "\n",
        "233"
       ]
      },
      {
       "output_type": "stream",
       "stream": "stdout",
       "text": [
        "\n",
        "234"
       ]
      },
      {
       "output_type": "stream",
       "stream": "stdout",
       "text": [
        "\n",
        "235"
       ]
      },
      {
       "output_type": "stream",
       "stream": "stdout",
       "text": [
        "\n",
        "236"
       ]
      },
      {
       "output_type": "stream",
       "stream": "stdout",
       "text": [
        "\n",
        "237"
       ]
      },
      {
       "output_type": "stream",
       "stream": "stdout",
       "text": [
        "\n",
        "238"
       ]
      },
      {
       "output_type": "stream",
       "stream": "stdout",
       "text": [
        "\n",
        "239"
       ]
      },
      {
       "output_type": "stream",
       "stream": "stdout",
       "text": [
        "\n",
        "240"
       ]
      },
      {
       "output_type": "stream",
       "stream": "stdout",
       "text": [
        "\n",
        "241"
       ]
      },
      {
       "output_type": "stream",
       "stream": "stdout",
       "text": [
        "\n",
        "242"
       ]
      },
      {
       "output_type": "stream",
       "stream": "stdout",
       "text": [
        "\n",
        "243"
       ]
      },
      {
       "output_type": "stream",
       "stream": "stdout",
       "text": [
        "\n",
        "244"
       ]
      },
      {
       "output_type": "stream",
       "stream": "stdout",
       "text": [
        "\n",
        "245"
       ]
      },
      {
       "output_type": "stream",
       "stream": "stdout",
       "text": [
        "\n",
        "246"
       ]
      },
      {
       "output_type": "stream",
       "stream": "stdout",
       "text": [
        "\n",
        "247"
       ]
      },
      {
       "output_type": "stream",
       "stream": "stdout",
       "text": [
        "\n",
        "248"
       ]
      },
      {
       "output_type": "stream",
       "stream": "stdout",
       "text": [
        "\n",
        "249"
       ]
      },
      {
       "output_type": "stream",
       "stream": "stdout",
       "text": [
        "\n",
        "250"
       ]
      },
      {
       "output_type": "stream",
       "stream": "stdout",
       "text": [
        "\n",
        "251"
       ]
      },
      {
       "output_type": "stream",
       "stream": "stdout",
       "text": [
        "\n",
        "252"
       ]
      },
      {
       "output_type": "stream",
       "stream": "stdout",
       "text": [
        "\n",
        "253"
       ]
      },
      {
       "output_type": "stream",
       "stream": "stdout",
       "text": [
        "\n",
        "254"
       ]
      },
      {
       "output_type": "stream",
       "stream": "stdout",
       "text": [
        "\n",
        "255"
       ]
      },
      {
       "output_type": "stream",
       "stream": "stdout",
       "text": [
        "\n",
        "256"
       ]
      },
      {
       "output_type": "stream",
       "stream": "stdout",
       "text": [
        "\n",
        "257"
       ]
      },
      {
       "output_type": "stream",
       "stream": "stdout",
       "text": [
        "\n",
        "258"
       ]
      },
      {
       "output_type": "stream",
       "stream": "stdout",
       "text": [
        "\n",
        "259"
       ]
      },
      {
       "output_type": "stream",
       "stream": "stdout",
       "text": [
        "\n",
        "260"
       ]
      },
      {
       "output_type": "stream",
       "stream": "stdout",
       "text": [
        "\n",
        "261"
       ]
      },
      {
       "output_type": "stream",
       "stream": "stdout",
       "text": [
        "\n",
        "262"
       ]
      },
      {
       "output_type": "stream",
       "stream": "stdout",
       "text": [
        "\n",
        "263"
       ]
      },
      {
       "output_type": "stream",
       "stream": "stdout",
       "text": [
        "\n",
        "264"
       ]
      },
      {
       "output_type": "stream",
       "stream": "stdout",
       "text": [
        "\n",
        "265"
       ]
      },
      {
       "output_type": "stream",
       "stream": "stdout",
       "text": [
        "\n",
        "266"
       ]
      },
      {
       "output_type": "stream",
       "stream": "stdout",
       "text": [
        "\n",
        "267"
       ]
      },
      {
       "output_type": "stream",
       "stream": "stdout",
       "text": [
        "\n",
        "268"
       ]
      },
      {
       "output_type": "stream",
       "stream": "stdout",
       "text": [
        "\n",
        "269"
       ]
      },
      {
       "output_type": "stream",
       "stream": "stdout",
       "text": [
        "\n",
        "270"
       ]
      },
      {
       "output_type": "stream",
       "stream": "stdout",
       "text": [
        "\n",
        "271"
       ]
      },
      {
       "output_type": "stream",
       "stream": "stdout",
       "text": [
        "\n",
        "272"
       ]
      },
      {
       "output_type": "stream",
       "stream": "stdout",
       "text": [
        "\n",
        "273"
       ]
      },
      {
       "output_type": "stream",
       "stream": "stdout",
       "text": [
        "\n",
        "274"
       ]
      },
      {
       "output_type": "stream",
       "stream": "stdout",
       "text": [
        "\n",
        "275"
       ]
      },
      {
       "output_type": "stream",
       "stream": "stdout",
       "text": [
        "\n",
        "276"
       ]
      },
      {
       "output_type": "stream",
       "stream": "stdout",
       "text": [
        "\n",
        "277"
       ]
      },
      {
       "output_type": "stream",
       "stream": "stdout",
       "text": [
        "\n",
        "278"
       ]
      },
      {
       "output_type": "stream",
       "stream": "stdout",
       "text": [
        "\n",
        "279"
       ]
      },
      {
       "output_type": "stream",
       "stream": "stdout",
       "text": [
        "\n",
        "280"
       ]
      },
      {
       "output_type": "stream",
       "stream": "stdout",
       "text": [
        "\n",
        "281"
       ]
      },
      {
       "output_type": "stream",
       "stream": "stdout",
       "text": [
        "\n",
        "282"
       ]
      },
      {
       "output_type": "stream",
       "stream": "stdout",
       "text": [
        "\n",
        "283"
       ]
      },
      {
       "output_type": "stream",
       "stream": "stdout",
       "text": [
        "\n",
        "284"
       ]
      },
      {
       "output_type": "stream",
       "stream": "stdout",
       "text": [
        "\n",
        "285"
       ]
      },
      {
       "output_type": "stream",
       "stream": "stdout",
       "text": [
        "\n",
        "286"
       ]
      },
      {
       "output_type": "stream",
       "stream": "stdout",
       "text": [
        "\n",
        "287"
       ]
      },
      {
       "output_type": "stream",
       "stream": "stdout",
       "text": [
        "\n",
        "288"
       ]
      },
      {
       "output_type": "stream",
       "stream": "stdout",
       "text": [
        "\n",
        "289"
       ]
      },
      {
       "output_type": "stream",
       "stream": "stdout",
       "text": [
        "\n",
        "290"
       ]
      },
      {
       "output_type": "stream",
       "stream": "stdout",
       "text": [
        "\n",
        "291"
       ]
      },
      {
       "output_type": "stream",
       "stream": "stdout",
       "text": [
        "\n",
        "292"
       ]
      },
      {
       "output_type": "stream",
       "stream": "stdout",
       "text": [
        "\n",
        "293"
       ]
      },
      {
       "output_type": "stream",
       "stream": "stdout",
       "text": [
        "\n",
        "294"
       ]
      },
      {
       "output_type": "stream",
       "stream": "stdout",
       "text": [
        "\n",
        "295"
       ]
      },
      {
       "output_type": "stream",
       "stream": "stdout",
       "text": [
        "\n",
        "296"
       ]
      },
      {
       "output_type": "stream",
       "stream": "stdout",
       "text": [
        "\n",
        "297"
       ]
      },
      {
       "output_type": "stream",
       "stream": "stdout",
       "text": [
        "\n",
        "298"
       ]
      },
      {
       "output_type": "stream",
       "stream": "stdout",
       "text": [
        "\n",
        "299"
       ]
      },
      {
       "output_type": "stream",
       "stream": "stdout",
       "text": [
        "\n",
        "300"
       ]
      },
      {
       "output_type": "stream",
       "stream": "stdout",
       "text": [
        "\n",
        "301"
       ]
      },
      {
       "output_type": "stream",
       "stream": "stdout",
       "text": [
        "\n",
        "302"
       ]
      },
      {
       "output_type": "stream",
       "stream": "stdout",
       "text": [
        "\n",
        "303"
       ]
      },
      {
       "output_type": "stream",
       "stream": "stdout",
       "text": [
        "\n",
        "304"
       ]
      },
      {
       "output_type": "stream",
       "stream": "stdout",
       "text": [
        "\n",
        "305"
       ]
      },
      {
       "output_type": "stream",
       "stream": "stdout",
       "text": [
        "\n",
        "306"
       ]
      },
      {
       "output_type": "stream",
       "stream": "stdout",
       "text": [
        "\n",
        "307"
       ]
      },
      {
       "output_type": "stream",
       "stream": "stdout",
       "text": [
        "\n",
        "308"
       ]
      },
      {
       "output_type": "stream",
       "stream": "stdout",
       "text": [
        "\n",
        "309"
       ]
      },
      {
       "output_type": "stream",
       "stream": "stdout",
       "text": [
        "\n",
        "310"
       ]
      },
      {
       "output_type": "stream",
       "stream": "stdout",
       "text": [
        "\n",
        "311"
       ]
      },
      {
       "output_type": "stream",
       "stream": "stdout",
       "text": [
        "\n",
        "312"
       ]
      },
      {
       "output_type": "stream",
       "stream": "stdout",
       "text": [
        "\n",
        "313"
       ]
      },
      {
       "output_type": "stream",
       "stream": "stdout",
       "text": [
        "\n",
        "314"
       ]
      },
      {
       "output_type": "stream",
       "stream": "stdout",
       "text": [
        "\n",
        "315"
       ]
      },
      {
       "output_type": "stream",
       "stream": "stdout",
       "text": [
        "\n",
        "316"
       ]
      },
      {
       "output_type": "stream",
       "stream": "stdout",
       "text": [
        "\n",
        "317"
       ]
      },
      {
       "output_type": "stream",
       "stream": "stdout",
       "text": [
        "\n",
        "318"
       ]
      },
      {
       "output_type": "stream",
       "stream": "stdout",
       "text": [
        "\n",
        "319"
       ]
      },
      {
       "output_type": "stream",
       "stream": "stdout",
       "text": [
        "\n",
        "320"
       ]
      },
      {
       "output_type": "stream",
       "stream": "stdout",
       "text": [
        "\n",
        "321"
       ]
      },
      {
       "output_type": "stream",
       "stream": "stdout",
       "text": [
        "\n",
        "322"
       ]
      },
      {
       "output_type": "stream",
       "stream": "stdout",
       "text": [
        "\n",
        "323"
       ]
      },
      {
       "output_type": "stream",
       "stream": "stdout",
       "text": [
        "\n",
        "324"
       ]
      },
      {
       "output_type": "stream",
       "stream": "stdout",
       "text": [
        "\n",
        "325"
       ]
      },
      {
       "output_type": "stream",
       "stream": "stdout",
       "text": [
        "\n",
        "326"
       ]
      },
      {
       "output_type": "stream",
       "stream": "stdout",
       "text": [
        "\n",
        "327"
       ]
      },
      {
       "output_type": "stream",
       "stream": "stdout",
       "text": [
        "\n",
        "328"
       ]
      },
      {
       "output_type": "stream",
       "stream": "stdout",
       "text": [
        "\n",
        "329"
       ]
      },
      {
       "output_type": "stream",
       "stream": "stdout",
       "text": [
        "\n",
        "330"
       ]
      },
      {
       "output_type": "stream",
       "stream": "stdout",
       "text": [
        "\n",
        "331"
       ]
      },
      {
       "output_type": "stream",
       "stream": "stdout",
       "text": [
        "\n",
        "332"
       ]
      },
      {
       "output_type": "stream",
       "stream": "stdout",
       "text": [
        "\n",
        "333"
       ]
      },
      {
       "output_type": "stream",
       "stream": "stdout",
       "text": [
        "\n",
        "334"
       ]
      },
      {
       "output_type": "stream",
       "stream": "stdout",
       "text": [
        "\n",
        "335"
       ]
      },
      {
       "output_type": "stream",
       "stream": "stdout",
       "text": [
        "\n",
        "336"
       ]
      },
      {
       "output_type": "stream",
       "stream": "stdout",
       "text": [
        "\n",
        "337"
       ]
      },
      {
       "output_type": "stream",
       "stream": "stdout",
       "text": [
        "\n",
        "338"
       ]
      },
      {
       "output_type": "stream",
       "stream": "stdout",
       "text": [
        "\n",
        "339"
       ]
      },
      {
       "output_type": "stream",
       "stream": "stdout",
       "text": [
        "\n",
        "340"
       ]
      },
      {
       "output_type": "stream",
       "stream": "stdout",
       "text": [
        "\n",
        "341"
       ]
      },
      {
       "output_type": "stream",
       "stream": "stdout",
       "text": [
        "\n",
        "342"
       ]
      },
      {
       "output_type": "stream",
       "stream": "stdout",
       "text": [
        "\n",
        "343"
       ]
      },
      {
       "output_type": "stream",
       "stream": "stdout",
       "text": [
        "\n",
        "344"
       ]
      },
      {
       "output_type": "stream",
       "stream": "stdout",
       "text": [
        "\n",
        "345"
       ]
      },
      {
       "output_type": "stream",
       "stream": "stdout",
       "text": [
        "\n",
        "346"
       ]
      },
      {
       "output_type": "stream",
       "stream": "stdout",
       "text": [
        "\n",
        "347"
       ]
      },
      {
       "output_type": "stream",
       "stream": "stdout",
       "text": [
        "\n",
        "348"
       ]
      },
      {
       "output_type": "stream",
       "stream": "stdout",
       "text": [
        "\n",
        "349"
       ]
      },
      {
       "output_type": "stream",
       "stream": "stdout",
       "text": [
        "\n",
        "350"
       ]
      },
      {
       "output_type": "stream",
       "stream": "stdout",
       "text": [
        "\n",
        "351"
       ]
      },
      {
       "output_type": "stream",
       "stream": "stdout",
       "text": [
        "\n",
        "352"
       ]
      },
      {
       "output_type": "stream",
       "stream": "stdout",
       "text": [
        "\n",
        "353"
       ]
      },
      {
       "output_type": "stream",
       "stream": "stdout",
       "text": [
        "\n",
        "354"
       ]
      },
      {
       "output_type": "stream",
       "stream": "stdout",
       "text": [
        "\n",
        "355"
       ]
      },
      {
       "output_type": "stream",
       "stream": "stdout",
       "text": [
        "\n",
        "356"
       ]
      },
      {
       "output_type": "stream",
       "stream": "stdout",
       "text": [
        "\n",
        "357"
       ]
      },
      {
       "output_type": "stream",
       "stream": "stdout",
       "text": [
        "\n",
        "358"
       ]
      },
      {
       "output_type": "stream",
       "stream": "stdout",
       "text": [
        "\n",
        "359"
       ]
      },
      {
       "output_type": "stream",
       "stream": "stdout",
       "text": [
        "\n",
        "360"
       ]
      },
      {
       "output_type": "stream",
       "stream": "stdout",
       "text": [
        "\n",
        "361"
       ]
      },
      {
       "output_type": "stream",
       "stream": "stdout",
       "text": [
        "\n",
        "362"
       ]
      },
      {
       "output_type": "stream",
       "stream": "stdout",
       "text": [
        "\n",
        "363"
       ]
      },
      {
       "output_type": "stream",
       "stream": "stdout",
       "text": [
        "\n",
        "364"
       ]
      },
      {
       "output_type": "stream",
       "stream": "stdout",
       "text": [
        "\n",
        "365"
       ]
      },
      {
       "output_type": "stream",
       "stream": "stdout",
       "text": [
        "\n",
        "366"
       ]
      },
      {
       "output_type": "stream",
       "stream": "stdout",
       "text": [
        "\n",
        "367"
       ]
      },
      {
       "output_type": "stream",
       "stream": "stdout",
       "text": [
        "\n",
        "368"
       ]
      },
      {
       "output_type": "stream",
       "stream": "stdout",
       "text": [
        "\n",
        "369"
       ]
      },
      {
       "output_type": "stream",
       "stream": "stdout",
       "text": [
        "\n",
        "370"
       ]
      },
      {
       "output_type": "stream",
       "stream": "stdout",
       "text": [
        "\n",
        "371"
       ]
      },
      {
       "output_type": "stream",
       "stream": "stdout",
       "text": [
        "\n",
        "372"
       ]
      },
      {
       "output_type": "stream",
       "stream": "stdout",
       "text": [
        "\n",
        "373"
       ]
      },
      {
       "output_type": "stream",
       "stream": "stdout",
       "text": [
        "\n",
        "374"
       ]
      },
      {
       "output_type": "stream",
       "stream": "stdout",
       "text": [
        "\n",
        "375"
       ]
      },
      {
       "output_type": "stream",
       "stream": "stdout",
       "text": [
        "\n",
        "376"
       ]
      },
      {
       "output_type": "stream",
       "stream": "stdout",
       "text": [
        "\n",
        "377"
       ]
      },
      {
       "output_type": "stream",
       "stream": "stdout",
       "text": [
        "\n",
        "378"
       ]
      },
      {
       "output_type": "stream",
       "stream": "stdout",
       "text": [
        "\n",
        "379"
       ]
      },
      {
       "output_type": "stream",
       "stream": "stdout",
       "text": [
        "\n",
        "380"
       ]
      },
      {
       "output_type": "stream",
       "stream": "stdout",
       "text": [
        "\n",
        "381"
       ]
      },
      {
       "output_type": "stream",
       "stream": "stdout",
       "text": [
        "\n",
        "382"
       ]
      },
      {
       "output_type": "stream",
       "stream": "stdout",
       "text": [
        "\n",
        "383"
       ]
      },
      {
       "output_type": "stream",
       "stream": "stdout",
       "text": [
        "\n",
        "384"
       ]
      },
      {
       "output_type": "stream",
       "stream": "stdout",
       "text": [
        "\n",
        "385"
       ]
      },
      {
       "output_type": "stream",
       "stream": "stdout",
       "text": [
        "\n",
        "386"
       ]
      },
      {
       "output_type": "stream",
       "stream": "stdout",
       "text": [
        "\n",
        "387"
       ]
      },
      {
       "output_type": "stream",
       "stream": "stdout",
       "text": [
        "\n",
        "388"
       ]
      },
      {
       "output_type": "stream",
       "stream": "stdout",
       "text": [
        "\n",
        "389"
       ]
      },
      {
       "output_type": "stream",
       "stream": "stdout",
       "text": [
        "\n",
        "390"
       ]
      },
      {
       "output_type": "stream",
       "stream": "stdout",
       "text": [
        "\n",
        "391"
       ]
      },
      {
       "output_type": "stream",
       "stream": "stdout",
       "text": [
        "\n",
        "392"
       ]
      },
      {
       "output_type": "stream",
       "stream": "stdout",
       "text": [
        "\n",
        "393"
       ]
      },
      {
       "output_type": "stream",
       "stream": "stdout",
       "text": [
        "\n",
        "394"
       ]
      },
      {
       "output_type": "stream",
       "stream": "stdout",
       "text": [
        "\n",
        "395"
       ]
      },
      {
       "output_type": "stream",
       "stream": "stdout",
       "text": [
        "\n",
        "396"
       ]
      },
      {
       "output_type": "stream",
       "stream": "stdout",
       "text": [
        "\n",
        "397"
       ]
      },
      {
       "output_type": "stream",
       "stream": "stdout",
       "text": [
        "\n",
        "398"
       ]
      },
      {
       "output_type": "stream",
       "stream": "stdout",
       "text": [
        "\n",
        "399"
       ]
      },
      {
       "output_type": "stream",
       "stream": "stdout",
       "text": [
        "\n"
       ]
      }
     ],
     "prompt_number": 56
    },
    {
     "cell_type": "code",
     "collapsed": false,
     "input": [
      "cam =3\n",
      "filename = 'HD1581arc_IR'\n",
      "\n",
      "files = glob.glob('arc_cam'+str(cam+1)+'/*')\n",
      "for i,thisFile in enumerate(files):\n",
      "    fits = pf.open(thisFile)\n",
      "    refWL = RVT.extract_HERMES_wavelength(thisFile)\n",
      "    refData = fits[0].data\n",
      "    fits.close()\n",
      "    \n",
      "    file_object = open(filename+'_e'+str(i)+'.txt', 'w')\n",
      "    for wl,fl in zip(refWL,refData[175]):\n",
      "        file_object.write(str(wl)+' '+str(fl)+'\\n')\n",
      "    file_object.close()\n"
     ],
     "language": "python",
     "metadata": {},
     "outputs": [],
     "prompt_number": 80
    },
    {
     "cell_type": "code",
     "collapsed": false,
     "input": [
      "import pickle\n",
      "filename = '../obj/HD1581.obj'\n",
      "# filename = 'Brght01.obj'\n",
      "# filename = 'red_Giant01.obj'\n",
      "# filename = 'Giant01.obj'\n",
      "# filename = 'Field01.obj'\n",
      "filehandler = open(filename, 'r')\n",
      "thisStar = pickle.load(filehandler)\n",
      "thisCam =  thisStar.exposures.cameras[0]\n",
      "\n",
      "thisStar.exposures.pivots"
     ],
     "language": "python",
     "metadata": {},
     "outputs": [
      {
       "metadata": {},
       "output_type": "pyout",
       "prompt_number": 34,
       "text": [
        "array([ 175.,  175.,  175.,  175.,  175.,  175.,  175.,  175.,  175.,\n",
        "        175.,  175.,  175.,  175.,  175.,  175.])"
       ]
      }
     ],
     "prompt_number": 34
    },
    {
     "cell_type": "code",
     "collapsed": false,
     "input": [
      "RVs = np.nanmean(arcRVs,axis=0)"
     ],
     "language": "python",
     "metadata": {},
     "outputs": [],
     "prompt_number": 14
    },
    {
     "cell_type": "code",
     "collapsed": false,
     "input": [
      "X = JDs[np.array([0,1,4,7,12])]"
     ],
     "language": "python",
     "metadata": {},
     "outputs": [],
     "prompt_number": 24
    },
    {
     "cell_type": "code",
     "collapsed": false,
     "input": [
      "JDs = np.load('../npy/JDs.npy')\n",
      "plt.scatter(JDs,arcRVs[175])\n",
      "plt.show()"
     ],
     "language": "python",
     "metadata": {},
     "outputs": [],
     "prompt_number": 47
    },
    {
     "cell_type": "code",
     "collapsed": false,
     "input": [
      "np.save('npy/arcRVs',arcRVs)"
     ],
     "language": "python",
     "metadata": {},
     "outputs": [],
     "prompt_number": 62
    },
    {
     "cell_type": "code",
     "collapsed": false,
     "input": [
      "print arcRVs.shape\n",
      "arcRVs2 = np.ones((400,15,4))*np.nan\n",
      "arcRVs2[:,0,:] = arcRVs[:,0,:]\n",
      "arcRVs2[:,1,:] = arcRVs[:,1,:]\n",
      "arcRVs2[:,2,:] = arcRVs[:,1,:]\n",
      "arcRVs2[:,3,:] = arcRVs[:,1,:]\n",
      "arcRVs2[:,4,:] = arcRVs[:,2,:]\n",
      "arcRVs2[:,5,:] = arcRVs[:,2,:]\n",
      "arcRVs2[:,6,:] = arcRVs[:,2,:]\n",
      "arcRVs2[:,7,:] = arcRVs[:,3,:]\n",
      "arcRVs2[:,8,:] = arcRVs[:,3,:]\n",
      "arcRVs2[:,9,:] = arcRVs[:,3,:]\n",
      "arcRVs2[:,10,:] = arcRVs[:,3,:]\n",
      "arcRVs2[:,11,:] = arcRVs[:,3,:]\n",
      "arcRVs2[:,12,:] = arcRVs[:,4,:]\n",
      "arcRVs2[:,13,:] = arcRVs[:,4,:]\n",
      "arcRVs2[:,14,:] = arcRVs[:,4,:]\n",
      "arcRVs = arcRVs2\n",
      "print arcRVs.shape"
     ],
     "language": "python",
     "metadata": {},
     "outputs": [
      {
       "output_type": "stream",
       "stream": "stdout",
       "text": [
        "(400, 5, 4)\n"
       ]
      }
     ],
     "prompt_number": 58
    },
    {
     "cell_type": "code",
     "collapsed": false,
     "input": [
      "arcRVs.shape"
     ],
     "language": "python",
     "metadata": {},
     "outputs": [
      {
       "metadata": {},
       "output_type": "pyout",
       "prompt_number": 60,
       "text": [
        "(400, 15, 4)"
       ]
      }
     ],
     "prompt_number": 60
    },
    {
     "cell_type": "heading",
     "level": 3,
     "metadata": {},
     "source": [
      "fibre ID table"
     ]
    },
    {
     "cell_type": "code",
     "collapsed": false,
     "input": [
      "import pandas as pd"
     ],
     "language": "python",
     "metadata": {},
     "outputs": [],
     "prompt_number": 81
    },
    {
     "cell_type": "code",
     "collapsed": false,
     "input": [
      "np.tile(np.arange(10,0,-1),40)+np.repeat(np.arange(0,40)*10,10)"
     ],
     "language": "python",
     "metadata": {},
     "outputs": [
      {
       "metadata": {},
       "output_type": "pyout",
       "prompt_number": 143,
       "text": [
        "array([ 10,   9,   8,   7,   6,   5,   4,   3,   2,   1,  20,  19,  18,\n",
        "        17,  16,  15,  14,  13,  12,  11,  30,  29,  28,  27,  26,  25,\n",
        "        24,  23,  22,  21,  40,  39,  38,  37,  36,  35,  34,  33,  32,\n",
        "        31,  50,  49,  48,  47,  46,  45,  44,  43,  42,  41,  60,  59,\n",
        "        58,  57,  56,  55,  54,  53,  52,  51,  70,  69,  68,  67,  66,\n",
        "        65,  64,  63,  62,  61,  80,  79,  78,  77,  76,  75,  74,  73,\n",
        "        72,  71,  90,  89,  88,  87,  86,  85,  84,  83,  82,  81, 100,\n",
        "        99,  98,  97,  96,  95,  94,  93,  92,  91, 110, 109, 108, 107,\n",
        "       106, 105, 104, 103, 102, 101, 120, 119, 118, 117, 116, 115, 114,\n",
        "       113, 112, 111, 130, 129, 128, 127, 126, 125, 124, 123, 122, 121,\n",
        "       140, 139, 138, 137, 136, 135, 134, 133, 132, 131, 150, 149, 148,\n",
        "       147, 146, 145, 144, 143, 142, 141, 160, 159, 158, 157, 156, 155,\n",
        "       154, 153, 152, 151, 170, 169, 168, 167, 166, 165, 164, 163, 162,\n",
        "       161, 180, 179, 178, 177, 176, 175, 174, 173, 172, 171, 190, 189,\n",
        "       188, 187, 186, 185, 184, 183, 182, 181, 200, 199, 198, 197, 196,\n",
        "       195, 194, 193, 192, 191, 210, 209, 208, 207, 206, 205, 204, 203,\n",
        "       202, 201, 220, 219, 218, 217, 216, 215, 214, 213, 212, 211, 230,\n",
        "       229, 228, 227, 226, 225, 224, 223, 222, 221, 240, 239, 238, 237,\n",
        "       236, 235, 234, 233, 232, 231, 250, 249, 248, 247, 246, 245, 244,\n",
        "       243, 242, 241, 260, 259, 258, 257, 256, 255, 254, 253, 252, 251,\n",
        "       270, 269, 268, 267, 266, 265, 264, 263, 262, 261, 280, 279, 278,\n",
        "       277, 276, 275, 274, 273, 272, 271, 290, 289, 288, 287, 286, 285,\n",
        "       284, 283, 282, 281, 300, 299, 298, 297, 296, 295, 294, 293, 292,\n",
        "       291, 310, 309, 308, 307, 306, 305, 304, 303, 302, 301, 320, 319,\n",
        "       318, 317, 316, 315, 314, 313, 312, 311, 330, 329, 328, 327, 326,\n",
        "       325, 324, 323, 322, 321, 340, 339, 338, 337, 336, 335, 334, 333,\n",
        "       332, 331, 350, 349, 348, 347, 346, 345, 344, 343, 342, 341, 360,\n",
        "       359, 358, 357, 356, 355, 354, 353, 352, 351, 370, 369, 368, 367,\n",
        "       366, 365, 364, 363, 362, 361, 380, 379, 378, 377, 376, 375, 374,\n",
        "       373, 372, 371, 390, 389, 388, 387, 386, 385, 384, 383, 382, 381,\n",
        "       400, 399, 398, 397, 396, 395, 394, 393, 392, 391])"
       ]
      }
     ],
     "prompt_number": 143
    },
    {
     "cell_type": "code",
     "collapsed": false,
     "input": [
      "labels = ['2dfID', 'idxData']\n",
      "\n",
      "\n",
      "rev_num = np.tile(np.arange(10,0,-1),40)+np.repeat(np.arange(0,40)*10,10)\n",
      "\n",
      "data = np.zeros((400,2))\n",
      "# data[:] = ''\n",
      "data[:,0] = np.arange(1,401)\n",
      "data[:,1] = (rev_num-1)\n",
      "# print data\n",
      "# data[range(49,399,50),5] = 'Guiding fibre'\n",
      "a = pd.DataFrame(data)\n",
      "a.columns = labels\n",
      "\n",
      "pd.set_option('display.height', 500)\n",
      "pd.set_option('display.max_rows', 500)"
     ],
     "language": "python",
     "metadata": {},
     "outputs": [],
     "prompt_number": 194
    },
    {
     "cell_type": "code",
     "collapsed": false,
     "input": [
      "a.ix[np.hstack((range(60),range(350,400)))]\n",
      "a.ix[:20]"
     ],
     "language": "python",
     "metadata": {},
     "outputs": [
      {
       "html": [
        "<div style=\"max-height:1000px;max-width:1500px;overflow:auto;\">\n",
        "<table border=\"1\" class=\"dataframe\">\n",
        "  <thead>\n",
        "    <tr style=\"text-align: right;\">\n",
        "      <th></th>\n",
        "      <th>FibreID in sds</th>\n",
        "      <th>PivotID in 2dfdr</th>\n",
        "      <th>Index in CCD array</th>\n",
        "      <th>Fibre index in fibre table array</th>\n",
        "      <th>PivotID in fibre table</th>\n",
        "      <th>Comment</th>\n",
        "    </tr>\n",
        "  </thead>\n",
        "  <tbody>\n",
        "    <tr>\n",
        "      <th>0 </th>\n",
        "      <td>  1</td>\n",
        "      <td>  1</td>\n",
        "      <td>  9</td>\n",
        "      <td>  0</td>\n",
        "      <td> 10</td>\n",
        "      <td> 0</td>\n",
        "    </tr>\n",
        "    <tr>\n",
        "      <th>1 </th>\n",
        "      <td>  2</td>\n",
        "      <td>  2</td>\n",
        "      <td>  8</td>\n",
        "      <td>  1</td>\n",
        "      <td>  9</td>\n",
        "      <td> 0</td>\n",
        "    </tr>\n",
        "    <tr>\n",
        "      <th>2 </th>\n",
        "      <td>  3</td>\n",
        "      <td>  3</td>\n",
        "      <td>  7</td>\n",
        "      <td>  2</td>\n",
        "      <td>  8</td>\n",
        "      <td> 0</td>\n",
        "    </tr>\n",
        "    <tr>\n",
        "      <th>3 </th>\n",
        "      <td>  4</td>\n",
        "      <td>  4</td>\n",
        "      <td>  6</td>\n",
        "      <td>  3</td>\n",
        "      <td>  7</td>\n",
        "      <td> 0</td>\n",
        "    </tr>\n",
        "    <tr>\n",
        "      <th>4 </th>\n",
        "      <td>  5</td>\n",
        "      <td>  5</td>\n",
        "      <td>  5</td>\n",
        "      <td>  4</td>\n",
        "      <td>  6</td>\n",
        "      <td> 0</td>\n",
        "    </tr>\n",
        "    <tr>\n",
        "      <th>5 </th>\n",
        "      <td>  6</td>\n",
        "      <td>  6</td>\n",
        "      <td>  4</td>\n",
        "      <td>  5</td>\n",
        "      <td>  5</td>\n",
        "      <td> 0</td>\n",
        "    </tr>\n",
        "    <tr>\n",
        "      <th>6 </th>\n",
        "      <td>  7</td>\n",
        "      <td>  7</td>\n",
        "      <td>  3</td>\n",
        "      <td>  6</td>\n",
        "      <td>  4</td>\n",
        "      <td> 0</td>\n",
        "    </tr>\n",
        "    <tr>\n",
        "      <th>7 </th>\n",
        "      <td>  8</td>\n",
        "      <td>  8</td>\n",
        "      <td>  2</td>\n",
        "      <td>  7</td>\n",
        "      <td>  3</td>\n",
        "      <td> 0</td>\n",
        "    </tr>\n",
        "    <tr>\n",
        "      <th>8 </th>\n",
        "      <td>  9</td>\n",
        "      <td>  9</td>\n",
        "      <td>  1</td>\n",
        "      <td>  8</td>\n",
        "      <td>  2</td>\n",
        "      <td> 0</td>\n",
        "    </tr>\n",
        "    <tr>\n",
        "      <th>9 </th>\n",
        "      <td> 10</td>\n",
        "      <td> 10</td>\n",
        "      <td>  0</td>\n",
        "      <td>  9</td>\n",
        "      <td>  1</td>\n",
        "      <td> 0</td>\n",
        "    </tr>\n",
        "    <tr>\n",
        "      <th>10</th>\n",
        "      <td> 11</td>\n",
        "      <td> 11</td>\n",
        "      <td> 19</td>\n",
        "      <td> 10</td>\n",
        "      <td> 20</td>\n",
        "      <td> 0</td>\n",
        "    </tr>\n",
        "    <tr>\n",
        "      <th>11</th>\n",
        "      <td> 12</td>\n",
        "      <td> 12</td>\n",
        "      <td> 18</td>\n",
        "      <td> 11</td>\n",
        "      <td> 19</td>\n",
        "      <td> 0</td>\n",
        "    </tr>\n",
        "    <tr>\n",
        "      <th>12</th>\n",
        "      <td> 13</td>\n",
        "      <td> 13</td>\n",
        "      <td> 17</td>\n",
        "      <td> 12</td>\n",
        "      <td> 18</td>\n",
        "      <td> 0</td>\n",
        "    </tr>\n",
        "    <tr>\n",
        "      <th>13</th>\n",
        "      <td> 14</td>\n",
        "      <td> 14</td>\n",
        "      <td> 16</td>\n",
        "      <td> 13</td>\n",
        "      <td> 17</td>\n",
        "      <td> 0</td>\n",
        "    </tr>\n",
        "    <tr>\n",
        "      <th>14</th>\n",
        "      <td> 15</td>\n",
        "      <td> 15</td>\n",
        "      <td> 15</td>\n",
        "      <td> 14</td>\n",
        "      <td> 16</td>\n",
        "      <td> 0</td>\n",
        "    </tr>\n",
        "    <tr>\n",
        "      <th>15</th>\n",
        "      <td> 16</td>\n",
        "      <td> 16</td>\n",
        "      <td> 14</td>\n",
        "      <td> 15</td>\n",
        "      <td> 15</td>\n",
        "      <td> 0</td>\n",
        "    </tr>\n",
        "    <tr>\n",
        "      <th>16</th>\n",
        "      <td> 17</td>\n",
        "      <td> 17</td>\n",
        "      <td> 13</td>\n",
        "      <td> 16</td>\n",
        "      <td> 14</td>\n",
        "      <td> 0</td>\n",
        "    </tr>\n",
        "    <tr>\n",
        "      <th>17</th>\n",
        "      <td> 18</td>\n",
        "      <td> 18</td>\n",
        "      <td> 12</td>\n",
        "      <td> 17</td>\n",
        "      <td> 13</td>\n",
        "      <td> 0</td>\n",
        "    </tr>\n",
        "    <tr>\n",
        "      <th>18</th>\n",
        "      <td> 19</td>\n",
        "      <td> 19</td>\n",
        "      <td> 11</td>\n",
        "      <td> 18</td>\n",
        "      <td> 12</td>\n",
        "      <td> 0</td>\n",
        "    </tr>\n",
        "    <tr>\n",
        "      <th>19</th>\n",
        "      <td> 20</td>\n",
        "      <td> 20</td>\n",
        "      <td> 10</td>\n",
        "      <td> 19</td>\n",
        "      <td> 11</td>\n",
        "      <td> 0</td>\n",
        "    </tr>\n",
        "    <tr>\n",
        "      <th>20</th>\n",
        "      <td> 21</td>\n",
        "      <td> 21</td>\n",
        "      <td> 29</td>\n",
        "      <td> 20</td>\n",
        "      <td> 30</td>\n",
        "      <td> 0</td>\n",
        "    </tr>\n",
        "  </tbody>\n",
        "</table>\n",
        "</div>"
       ],
       "metadata": {},
       "output_type": "pyout",
       "prompt_number": 192,
       "text": [
        "    FibreID in sds  PivotID in 2dfdr  Index in CCD array  \\\n",
        "0                1                 1                   9   \n",
        "1                2                 2                   8   \n",
        "2                3                 3                   7   \n",
        "3                4                 4                   6   \n",
        "4                5                 5                   5   \n",
        "5                6                 6                   4   \n",
        "6                7                 7                   3   \n",
        "7                8                 8                   2   \n",
        "8                9                 9                   1   \n",
        "9               10                10                   0   \n",
        "10              11                11                  19   \n",
        "11              12                12                  18   \n",
        "12              13                13                  17   \n",
        "13              14                14                  16   \n",
        "14              15                15                  15   \n",
        "15              16                16                  14   \n",
        "16              17                17                  13   \n",
        "17              18                18                  12   \n",
        "18              19                19                  11   \n",
        "19              20                20                  10   \n",
        "20              21                21                  29   \n",
        "\n",
        "    Fibre index in fibre table array  PivotID in fibre table  Comment  \n",
        "0                                  0                      10        0  \n",
        "1                                  1                       9        0  \n",
        "2                                  2                       8        0  \n",
        "3                                  3                       7        0  \n",
        "4                                  4                       6        0  \n",
        "5                                  5                       5        0  \n",
        "6                                  6                       4        0  \n",
        "7                                  7                       3        0  \n",
        "8                                  8                       2        0  \n",
        "9                                  9                       1        0  \n",
        "10                                10                      20        0  \n",
        "11                                11                      19        0  \n",
        "12                                12                      18        0  \n",
        "13                                13                      17        0  \n",
        "14                                14                      16        0  \n",
        "15                                15                      15        0  \n",
        "16                                16                      14        0  \n",
        "17                                17                      13        0  \n",
        "18                                18                      12        0  \n",
        "19                                19                      11        0  \n",
        "20                                20                      30        0  "
       ]
      }
     ],
     "prompt_number": 192
    },
    {
     "cell_type": "code",
     "collapsed": false,
     "input": [
      "file_object = open('a.txt', 'w')\n",
      "file_object.write(a.to_latex(index=False))\n",
      "file_object.close()\n"
     ],
     "language": "python",
     "metadata": {},
     "outputs": [],
     "prompt_number": 178
    },
    {
     "cell_type": "code",
     "collapsed": false,
     "input": [
      "a.to_latex(index=False)"
     ],
     "language": "python",
     "metadata": {},
     "outputs": [
      {
       "metadata": {},
       "output_type": "pyout",
       "prompt_number": 179,
       "text": [
        "u'\\\\begin{tabular}{llllll}\\n\\\\toprule\\nFibreID in sds & PivotID in 2dfdr & Index in CCD array & Fibre index in fibre table array & PivotID in fibre table &        Comment \\\\\\\\\\n\\\\midrule\\n             1 &                1 &                  9 &                                0 &                     10 &                \\\\\\\\\\n             2 &                2 &                  8 &                                1 &                      9 &                \\\\\\\\\\n             3 &                3 &                  7 &                                2 &                      8 &                \\\\\\\\\\n             4 &                4 &                  6 &                                3 &                      7 &                \\\\\\\\\\n             5 &                5 &                  5 &                                4 &                      6 &                \\\\\\\\\\n             6 &                6 &                  4 &                                5 &                      5 &                \\\\\\\\\\n             7 &                7 &                  3 &                                6 &                      4 &                \\\\\\\\\\n             8 &                8 &                  2 &                                7 &                      3 &                \\\\\\\\\\n             9 &                9 &                  1 &                                8 &                      2 &                \\\\\\\\\\n            10 &               10 &                  0 &                                9 &                      1 &                \\\\\\\\\\n            11 &               11 &                 19 &                               10 &                     20 &                \\\\\\\\\\n            12 &               12 &                 18 &                               11 &                     19 &                \\\\\\\\\\n            13 &               13 &                 17 &                               12 &                     18 &                \\\\\\\\\\n            14 &               14 &                 16 &                               13 &                     17 &                \\\\\\\\\\n            15 &               15 &                 15 &                               14 &                     16 &                \\\\\\\\\\n            16 &               16 &                 14 &                               15 &                     15 &                \\\\\\\\\\n            17 &               17 &                 13 &                               16 &                     14 &                \\\\\\\\\\n            18 &               18 &                 12 &                               17 &                     13 &                \\\\\\\\\\n            19 &               19 &                 11 &                               18 &                     12 &                \\\\\\\\\\n            20 &               20 &                 10 &                               19 &                     11 &                \\\\\\\\\\n            21 &               21 &                 29 &                               20 &                     30 &                \\\\\\\\\\n            22 &               22 &                 28 &                               21 &                     29 &                \\\\\\\\\\n            23 &               23 &                 27 &                               22 &                     28 &                \\\\\\\\\\n            24 &               24 &                 26 &                               23 &                     27 &                \\\\\\\\\\n            25 &               25 &                 25 &                               24 &                     26 &                \\\\\\\\\\n            26 &               26 &                 24 &                               25 &                     25 &                \\\\\\\\\\n            27 &               27 &                 23 &                               26 &                     24 &                \\\\\\\\\\n            28 &               28 &                 22 &                               27 &                     23 &                \\\\\\\\\\n            29 &               29 &                 21 &                               28 &                     22 &                \\\\\\\\\\n            30 &               30 &                 20 &                               29 &                     21 &                \\\\\\\\\\n            31 &               31 &                 39 &                               30 &                     40 &                \\\\\\\\\\n            32 &               32 &                 38 &                               31 &                     39 &                \\\\\\\\\\n            33 &               33 &                 37 &                               32 &                     38 &                \\\\\\\\\\n            34 &               34 &                 36 &                               33 &                     37 &                \\\\\\\\\\n            35 &               35 &                 35 &                               34 &                     36 &                \\\\\\\\\\n            36 &               36 &                 34 &                               35 &                     35 &                \\\\\\\\\\n            37 &               37 &                 33 &                               36 &                     34 &                \\\\\\\\\\n            38 &               38 &                 32 &                               37 &                     33 &                \\\\\\\\\\n            39 &               39 &                 31 &                               38 &                     32 &                \\\\\\\\\\n            40 &               40 &                 30 &                               39 &                     31 &                \\\\\\\\\\n            41 &               41 &                 49 &                               40 &                     50 &                \\\\\\\\\\n            42 &               42 &                 48 &                               41 &                     49 &                \\\\\\\\\\n            43 &               43 &                 47 &                               42 &                     48 &                \\\\\\\\\\n            44 &               44 &                 46 &                               43 &                     47 &                \\\\\\\\\\n            45 &               45 &                 45 &                               44 &                     46 &                \\\\\\\\\\n            46 &               46 &                 44 &                               45 &                     45 &                \\\\\\\\\\n            47 &               47 &                 43 &                               46 &                     44 &                \\\\\\\\\\n            48 &               48 &                 42 &                               47 &                     43 &                \\\\\\\\\\n            49 &               49 &                 41 &                               48 &                     42 &                \\\\\\\\\\n            50 &               50 &                 40 &                               49 &                     41 &  Guiding fibre \\\\\\\\\\n            51 &               51 &                 59 &                               50 &                     60 &                \\\\\\\\\\n            52 &               52 &                 58 &                               51 &                     59 &                \\\\\\\\\\n            53 &               53 &                 57 &                               52 &                     58 &                \\\\\\\\\\n            54 &               54 &                 56 &                               53 &                     57 &                \\\\\\\\\\n            55 &               55 &                 55 &                               54 &                     56 &                \\\\\\\\\\n            56 &               56 &                 54 &                               55 &                     55 &                \\\\\\\\\\n            57 &               57 &                 53 &                               56 &                     54 &                \\\\\\\\\\n            58 &               58 &                 52 &                               57 &                     53 &                \\\\\\\\\\n            59 &               59 &                 51 &                               58 &                     52 &                \\\\\\\\\\n            60 &               60 &                 50 &                               59 &                     51 &                \\\\\\\\\\n            61 &               61 &                 69 &                               60 &                     70 &                \\\\\\\\\\n            62 &               62 &                 68 &                               61 &                     69 &                \\\\\\\\\\n            63 &               63 &                 67 &                               62 &                     68 &                \\\\\\\\\\n            64 &               64 &                 66 &                               63 &                     67 &                \\\\\\\\\\n            65 &               65 &                 65 &                               64 &                     66 &                \\\\\\\\\\n            66 &               66 &                 64 &                               65 &                     65 &                \\\\\\\\\\n            67 &               67 &                 63 &                               66 &                     64 &                \\\\\\\\\\n            68 &               68 &                 62 &                               67 &                     63 &                \\\\\\\\\\n            69 &               69 &                 61 &                               68 &                     62 &                \\\\\\\\\\n            70 &               70 &                 60 &                               69 &                     61 &                \\\\\\\\\\n            71 &               71 &                 79 &                               70 &                     80 &                \\\\\\\\\\n            72 &               72 &                 78 &                               71 &                     79 &                \\\\\\\\\\n            73 &               73 &                 77 &                               72 &                     78 &                \\\\\\\\\\n            74 &               74 &                 76 &                               73 &                     77 &                \\\\\\\\\\n            75 &               75 &                 75 &                               74 &                     76 &                \\\\\\\\\\n            76 &               76 &                 74 &                               75 &                     75 &                \\\\\\\\\\n            77 &               77 &                 73 &                               76 &                     74 &                \\\\\\\\\\n            78 &               78 &                 72 &                               77 &                     73 &                \\\\\\\\\\n            79 &               79 &                 71 &                               78 &                     72 &                \\\\\\\\\\n            80 &               80 &                 70 &                               79 &                     71 &                \\\\\\\\\\n            81 &               81 &                 89 &                               80 &                     90 &                \\\\\\\\\\n            82 &               82 &                 88 &                               81 &                     89 &                \\\\\\\\\\n            83 &               83 &                 87 &                               82 &                     88 &                \\\\\\\\\\n            84 &               84 &                 86 &                               83 &                     87 &                \\\\\\\\\\n            85 &               85 &                 85 &                               84 &                     86 &                \\\\\\\\\\n            86 &               86 &                 84 &                               85 &                     85 &                \\\\\\\\\\n            87 &               87 &                 83 &                               86 &                     84 &                \\\\\\\\\\n            88 &               88 &                 82 &                               87 &                     83 &                \\\\\\\\\\n            89 &               89 &                 81 &                               88 &                     82 &                \\\\\\\\\\n            90 &               90 &                 80 &                               89 &                     81 &                \\\\\\\\\\n            91 &               91 &                 99 &                               90 &                    100 &                \\\\\\\\\\n            92 &               92 &                 98 &                               91 &                     99 &                \\\\\\\\\\n            93 &               93 &                 97 &                               92 &                     98 &                \\\\\\\\\\n            94 &               94 &                 96 &                               93 &                     97 &                \\\\\\\\\\n            95 &               95 &                 95 &                               94 &                     96 &                \\\\\\\\\\n            96 &               96 &                 94 &                               95 &                     95 &                \\\\\\\\\\n            97 &               97 &                 93 &                               96 &                     94 &                \\\\\\\\\\n            98 &               98 &                 92 &                               97 &                     93 &                \\\\\\\\\\n            99 &               99 &                 91 &                               98 &                     92 &                \\\\\\\\\\n           100 &              100 &                 90 &                               99 &                     91 &  Guiding fibre \\\\\\\\\\n           101 &              101 &                109 &                              100 &                    110 &                \\\\\\\\\\n           102 &              102 &                108 &                              101 &                    109 &                \\\\\\\\\\n           103 &              103 &                107 &                              102 &                    108 &                \\\\\\\\\\n           104 &              104 &                106 &                              103 &                    107 &                \\\\\\\\\\n           105 &              105 &                105 &                              104 &                    106 &                \\\\\\\\\\n           106 &              106 &                104 &                              105 &                    105 &                \\\\\\\\\\n           107 &              107 &                103 &                              106 &                    104 &                \\\\\\\\\\n           108 &              108 &                102 &                              107 &                    103 &                \\\\\\\\\\n           109 &              109 &                101 &                              108 &                    102 &                \\\\\\\\\\n           110 &              110 &                100 &                              109 &                    101 &                \\\\\\\\\\n           111 &              111 &                119 &                              110 &                    120 &                \\\\\\\\\\n           112 &              112 &                118 &                              111 &                    119 &                \\\\\\\\\\n           113 &              113 &                117 &                              112 &                    118 &                \\\\\\\\\\n           114 &              114 &                116 &                              113 &                    117 &                \\\\\\\\\\n           115 &              115 &                115 &                              114 &                    116 &                \\\\\\\\\\n           116 &              116 &                114 &                              115 &                    115 &                \\\\\\\\\\n           117 &              117 &                113 &                              116 &                    114 &                \\\\\\\\\\n           118 &              118 &                112 &                              117 &                    113 &                \\\\\\\\\\n           119 &              119 &                111 &                              118 &                    112 &                \\\\\\\\\\n           120 &              120 &                110 &                              119 &                    111 &                \\\\\\\\\\n           121 &              121 &                129 &                              120 &                    130 &                \\\\\\\\\\n           122 &              122 &                128 &                              121 &                    129 &                \\\\\\\\\\n           123 &              123 &                127 &                              122 &                    128 &                \\\\\\\\\\n           124 &              124 &                126 &                              123 &                    127 &                \\\\\\\\\\n           125 &              125 &                125 &                              124 &                    126 &                \\\\\\\\\\n           126 &              126 &                124 &                              125 &                    125 &                \\\\\\\\\\n           127 &              127 &                123 &                              126 &                    124 &                \\\\\\\\\\n           128 &              128 &                122 &                              127 &                    123 &                \\\\\\\\\\n           129 &              129 &                121 &                              128 &                    122 &                \\\\\\\\\\n           130 &              130 &                120 &                              129 &                    121 &                \\\\\\\\\\n           131 &              131 &                139 &                              130 &                    140 &                \\\\\\\\\\n           132 &              132 &                138 &                              131 &                    139 &                \\\\\\\\\\n           133 &              133 &                137 &                              132 &                    138 &                \\\\\\\\\\n           134 &              134 &                136 &                              133 &                    137 &                \\\\\\\\\\n           135 &              135 &                135 &                              134 &                    136 &                \\\\\\\\\\n           136 &              136 &                134 &                              135 &                    135 &                \\\\\\\\\\n           137 &              137 &                133 &                              136 &                    134 &                \\\\\\\\\\n           138 &              138 &                132 &                              137 &                    133 &                \\\\\\\\\\n           139 &              139 &                131 &                              138 &                    132 &                \\\\\\\\\\n           140 &              140 &                130 &                              139 &                    131 &                \\\\\\\\\\n           141 &              141 &                149 &                              140 &                    150 &                \\\\\\\\\\n           142 &              142 &                148 &                              141 &                    149 &                \\\\\\\\\\n           143 &              143 &                147 &                              142 &                    148 &                \\\\\\\\\\n           144 &              144 &                146 &                              143 &                    147 &                \\\\\\\\\\n           145 &              145 &                145 &                              144 &                    146 &                \\\\\\\\\\n           146 &              146 &                144 &                              145 &                    145 &                \\\\\\\\\\n           147 &              147 &                143 &                              146 &                    144 &                \\\\\\\\\\n           148 &              148 &                142 &                              147 &                    143 &                \\\\\\\\\\n           149 &              149 &                141 &                              148 &                    142 &                \\\\\\\\\\n           150 &              150 &                140 &                              149 &                    141 &  Guiding fibre \\\\\\\\\\n           151 &              151 &                159 &                              150 &                    160 &                \\\\\\\\\\n           152 &              152 &                158 &                              151 &                    159 &                \\\\\\\\\\n           153 &              153 &                157 &                              152 &                    158 &                \\\\\\\\\\n           154 &              154 &                156 &                              153 &                    157 &                \\\\\\\\\\n           155 &              155 &                155 &                              154 &                    156 &                \\\\\\\\\\n           156 &              156 &                154 &                              155 &                    155 &                \\\\\\\\\\n           157 &              157 &                153 &                              156 &                    154 &                \\\\\\\\\\n           158 &              158 &                152 &                              157 &                    153 &                \\\\\\\\\\n           159 &              159 &                151 &                              158 &                    152 &                \\\\\\\\\\n           160 &              160 &                150 &                              159 &                    151 &                \\\\\\\\\\n           161 &              161 &                169 &                              160 &                    170 &                \\\\\\\\\\n           162 &              162 &                168 &                              161 &                    169 &                \\\\\\\\\\n           163 &              163 &                167 &                              162 &                    168 &                \\\\\\\\\\n           164 &              164 &                166 &                              163 &                    167 &                \\\\\\\\\\n           165 &              165 &                165 &                              164 &                    166 &                \\\\\\\\\\n           166 &              166 &                164 &                              165 &                    165 &                \\\\\\\\\\n           167 &              167 &                163 &                              166 &                    164 &                \\\\\\\\\\n           168 &              168 &                162 &                              167 &                    163 &                \\\\\\\\\\n           169 &              169 &                161 &                              168 &                    162 &                \\\\\\\\\\n           170 &              170 &                160 &                              169 &                    161 &                \\\\\\\\\\n           171 &              171 &                179 &                              170 &                    180 &                \\\\\\\\\\n           172 &              172 &                178 &                              171 &                    179 &                \\\\\\\\\\n           173 &              173 &                177 &                              172 &                    178 &                \\\\\\\\\\n           174 &              174 &                176 &                              173 &                    177 &                \\\\\\\\\\n           175 &              175 &                175 &                              174 &                    176 &                \\\\\\\\\\n           176 &              176 &                174 &                              175 &                    175 &                \\\\\\\\\\n           177 &              177 &                173 &                              176 &                    174 &                \\\\\\\\\\n           178 &              178 &                172 &                              177 &                    173 &                \\\\\\\\\\n           179 &              179 &                171 &                              178 &                    172 &                \\\\\\\\\\n           180 &              180 &                170 &                              179 &                    171 &                \\\\\\\\\\n           181 &              181 &                189 &                              180 &                    190 &                \\\\\\\\\\n           182 &              182 &                188 &                              181 &                    189 &                \\\\\\\\\\n           183 &              183 &                187 &                              182 &                    188 &                \\\\\\\\\\n           184 &              184 &                186 &                              183 &                    187 &                \\\\\\\\\\n           185 &              185 &                185 &                              184 &                    186 &                \\\\\\\\\\n           186 &              186 &                184 &                              185 &                    185 &                \\\\\\\\\\n           187 &              187 &                183 &                              186 &                    184 &                \\\\\\\\\\n           188 &              188 &                182 &                              187 &                    183 &                \\\\\\\\\\n           189 &              189 &                181 &                              188 &                    182 &                \\\\\\\\\\n           190 &              190 &                180 &                              189 &                    181 &                \\\\\\\\\\n           191 &              191 &                199 &                              190 &                    200 &                \\\\\\\\\\n           192 &              192 &                198 &                              191 &                    199 &                \\\\\\\\\\n           193 &              193 &                197 &                              192 &                    198 &                \\\\\\\\\\n           194 &              194 &                196 &                              193 &                    197 &                \\\\\\\\\\n           195 &              195 &                195 &                              194 &                    196 &                \\\\\\\\\\n           196 &              196 &                194 &                              195 &                    195 &                \\\\\\\\\\n           197 &              197 &                193 &                              196 &                    194 &                \\\\\\\\\\n           198 &              198 &                192 &                              197 &                    193 &                \\\\\\\\\\n           199 &              199 &                191 &                              198 &                    192 &                \\\\\\\\\\n           200 &              200 &                190 &                              199 &                    191 &  Guiding fibre \\\\\\\\\\n           201 &              201 &                209 &                              200 &                    210 &                \\\\\\\\\\n           202 &              202 &                208 &                              201 &                    209 &                \\\\\\\\\\n           203 &              203 &                207 &                              202 &                    208 &                \\\\\\\\\\n           204 &              204 &                206 &                              203 &                    207 &                \\\\\\\\\\n           205 &              205 &                205 &                              204 &                    206 &                \\\\\\\\\\n           206 &              206 &                204 &                              205 &                    205 &                \\\\\\\\\\n           207 &              207 &                203 &                              206 &                    204 &                \\\\\\\\\\n           208 &              208 &                202 &                              207 &                    203 &                \\\\\\\\\\n           209 &              209 &                201 &                              208 &                    202 &                \\\\\\\\\\n           210 &              210 &                200 &                              209 &                    201 &                \\\\\\\\\\n           211 &              211 &                219 &                              210 &                    220 &                \\\\\\\\\\n           212 &              212 &                218 &                              211 &                    219 &                \\\\\\\\\\n           213 &              213 &                217 &                              212 &                    218 &                \\\\\\\\\\n           214 &              214 &                216 &                              213 &                    217 &                \\\\\\\\\\n           215 &              215 &                215 &                              214 &                    216 &                \\\\\\\\\\n           216 &              216 &                214 &                              215 &                    215 &                \\\\\\\\\\n           217 &              217 &                213 &                              216 &                    214 &                \\\\\\\\\\n           218 &              218 &                212 &                              217 &                    213 &                \\\\\\\\\\n           219 &              219 &                211 &                              218 &                    212 &                \\\\\\\\\\n           220 &              220 &                210 &                              219 &                    211 &                \\\\\\\\\\n           221 &              221 &                229 &                              220 &                    230 &                \\\\\\\\\\n           222 &              222 &                228 &                              221 &                    229 &                \\\\\\\\\\n           223 &              223 &                227 &                              222 &                    228 &                \\\\\\\\\\n           224 &              224 &                226 &                              223 &                    227 &                \\\\\\\\\\n           225 &              225 &                225 &                              224 &                    226 &                \\\\\\\\\\n           226 &              226 &                224 &                              225 &                    225 &                \\\\\\\\\\n           227 &              227 &                223 &                              226 &                    224 &                \\\\\\\\\\n           228 &              228 &                222 &                              227 &                    223 &                \\\\\\\\\\n           229 &              229 &                221 &                              228 &                    222 &                \\\\\\\\\\n           230 &              230 &                220 &                              229 &                    221 &                \\\\\\\\\\n           231 &              231 &                239 &                              230 &                    240 &                \\\\\\\\\\n           232 &              232 &                238 &                              231 &                    239 &                \\\\\\\\\\n           233 &              233 &                237 &                              232 &                    238 &                \\\\\\\\\\n           234 &              234 &                236 &                              233 &                    237 &                \\\\\\\\\\n           235 &              235 &                235 &                              234 &                    236 &                \\\\\\\\\\n           236 &              236 &                234 &                              235 &                    235 &                \\\\\\\\\\n           237 &              237 &                233 &                              236 &                    234 &                \\\\\\\\\\n           238 &              238 &                232 &                              237 &                    233 &                \\\\\\\\\\n           239 &              239 &                231 &                              238 &                    232 &                \\\\\\\\\\n           240 &              240 &                230 &                              239 &                    231 &                \\\\\\\\\\n           241 &              241 &                249 &                              240 &                    250 &                \\\\\\\\\\n           242 &              242 &                248 &                              241 &                    249 &                \\\\\\\\\\n           243 &              243 &                247 &                              242 &                    248 &                \\\\\\\\\\n           244 &              244 &                246 &                              243 &                    247 &                \\\\\\\\\\n           245 &              245 &                245 &                              244 &                    246 &                \\\\\\\\\\n           246 &              246 &                244 &                              245 &                    245 &                \\\\\\\\\\n           247 &              247 &                243 &                              246 &                    244 &                \\\\\\\\\\n           248 &              248 &                242 &                              247 &                    243 &                \\\\\\\\\\n           249 &              249 &                241 &                              248 &                    242 &                \\\\\\\\\\n           250 &              250 &                240 &                              249 &                    241 &  Guiding fibre \\\\\\\\\\n           251 &              251 &                259 &                              250 &                    260 &                \\\\\\\\\\n           252 &              252 &                258 &                              251 &                    259 &                \\\\\\\\\\n           253 &              253 &                257 &                              252 &                    258 &                \\\\\\\\\\n           254 &              254 &                256 &                              253 &                    257 &                \\\\\\\\\\n           255 &              255 &                255 &                              254 &                    256 &                \\\\\\\\\\n           256 &              256 &                254 &                              255 &                    255 &                \\\\\\\\\\n           257 &              257 &                253 &                              256 &                    254 &                \\\\\\\\\\n           258 &              258 &                252 &                              257 &                    253 &                \\\\\\\\\\n           259 &              259 &                251 &                              258 &                    252 &                \\\\\\\\\\n           260 &              260 &                250 &                              259 &                    251 &                \\\\\\\\\\n           261 &              261 &                269 &                              260 &                    270 &                \\\\\\\\\\n           262 &              262 &                268 &                              261 &                    269 &                \\\\\\\\\\n           263 &              263 &                267 &                              262 &                    268 &                \\\\\\\\\\n           264 &              264 &                266 &                              263 &                    267 &                \\\\\\\\\\n           265 &              265 &                265 &                              264 &                    266 &                \\\\\\\\\\n           266 &              266 &                264 &                              265 &                    265 &                \\\\\\\\\\n           267 &              267 &                263 &                              266 &                    264 &                \\\\\\\\\\n           268 &              268 &                262 &                              267 &                    263 &                \\\\\\\\\\n           269 &              269 &                261 &                              268 &                    262 &                \\\\\\\\\\n           270 &              270 &                260 &                              269 &                    261 &                \\\\\\\\\\n           271 &              271 &                279 &                              270 &                    280 &                \\\\\\\\\\n           272 &              272 &                278 &                              271 &                    279 &                \\\\\\\\\\n           273 &              273 &                277 &                              272 &                    278 &                \\\\\\\\\\n           274 &              274 &                276 &                              273 &                    277 &                \\\\\\\\\\n           275 &              275 &                275 &                              274 &                    276 &                \\\\\\\\\\n           276 &              276 &                274 &                              275 &                    275 &                \\\\\\\\\\n           277 &              277 &                273 &                              276 &                    274 &                \\\\\\\\\\n           278 &              278 &                272 &                              277 &                    273 &                \\\\\\\\\\n           279 &              279 &                271 &                              278 &                    272 &                \\\\\\\\\\n           280 &              280 &                270 &                              279 &                    271 &                \\\\\\\\\\n           281 &              281 &                289 &                              280 &                    290 &                \\\\\\\\\\n           282 &              282 &                288 &                              281 &                    289 &                \\\\\\\\\\n           283 &              283 &                287 &                              282 &                    288 &                \\\\\\\\\\n           284 &              284 &                286 &                              283 &                    287 &                \\\\\\\\\\n           285 &              285 &                285 &                              284 &                    286 &                \\\\\\\\\\n           286 &              286 &                284 &                              285 &                    285 &                \\\\\\\\\\n           287 &              287 &                283 &                              286 &                    284 &                \\\\\\\\\\n           288 &              288 &                282 &                              287 &                    283 &                \\\\\\\\\\n           289 &              289 &                281 &                              288 &                    282 &                \\\\\\\\\\n           290 &              290 &                280 &                              289 &                    281 &                \\\\\\\\\\n           291 &              291 &                299 &                              290 &                    300 &                \\\\\\\\\\n           292 &              292 &                298 &                              291 &                    299 &                \\\\\\\\\\n           293 &              293 &                297 &                              292 &                    298 &                \\\\\\\\\\n           294 &              294 &                296 &                              293 &                    297 &                \\\\\\\\\\n           295 &              295 &                295 &                              294 &                    296 &                \\\\\\\\\\n           296 &              296 &                294 &                              295 &                    295 &                \\\\\\\\\\n           297 &              297 &                293 &                              296 &                    294 &                \\\\\\\\\\n           298 &              298 &                292 &                              297 &                    293 &                \\\\\\\\\\n           299 &              299 &                291 &                              298 &                    292 &                \\\\\\\\\\n           300 &              300 &                290 &                              299 &                    291 &  Guiding fibre \\\\\\\\\\n           301 &              301 &                309 &                              300 &                    310 &                \\\\\\\\\\n           302 &              302 &                308 &                              301 &                    309 &                \\\\\\\\\\n           303 &              303 &                307 &                              302 &                    308 &                \\\\\\\\\\n           304 &              304 &                306 &                              303 &                    307 &                \\\\\\\\\\n           305 &              305 &                305 &                              304 &                    306 &                \\\\\\\\\\n           306 &              306 &                304 &                              305 &                    305 &                \\\\\\\\\\n           307 &              307 &                303 &                              306 &                    304 &                \\\\\\\\\\n           308 &              308 &                302 &                              307 &                    303 &                \\\\\\\\\\n           309 &              309 &                301 &                              308 &                    302 &                \\\\\\\\\\n           310 &              310 &                300 &                              309 &                    301 &                \\\\\\\\\\n           311 &              311 &                319 &                              310 &                    320 &                \\\\\\\\\\n           312 &              312 &                318 &                              311 &                    319 &                \\\\\\\\\\n           313 &              313 &                317 &                              312 &                    318 &                \\\\\\\\\\n           314 &              314 &                316 &                              313 &                    317 &                \\\\\\\\\\n           315 &              315 &                315 &                              314 &                    316 &                \\\\\\\\\\n           316 &              316 &                314 &                              315 &                    315 &                \\\\\\\\\\n           317 &              317 &                313 &                              316 &                    314 &                \\\\\\\\\\n           318 &              318 &                312 &                              317 &                    313 &                \\\\\\\\\\n           319 &              319 &                311 &                              318 &                    312 &                \\\\\\\\\\n           320 &              320 &                310 &                              319 &                    311 &                \\\\\\\\\\n           321 &              321 &                329 &                              320 &                    330 &                \\\\\\\\\\n           322 &              322 &                328 &                              321 &                    329 &                \\\\\\\\\\n           323 &              323 &                327 &                              322 &                    328 &                \\\\\\\\\\n           324 &              324 &                326 &                              323 &                    327 &                \\\\\\\\\\n           325 &              325 &                325 &                              324 &                    326 &                \\\\\\\\\\n           326 &              326 &                324 &                              325 &                    325 &                \\\\\\\\\\n           327 &              327 &                323 &                              326 &                    324 &                \\\\\\\\\\n           328 &              328 &                322 &                              327 &                    323 &                \\\\\\\\\\n           329 &              329 &                321 &                              328 &                    322 &                \\\\\\\\\\n           330 &              330 &                320 &                              329 &                    321 &                \\\\\\\\\\n           331 &              331 &                339 &                              330 &                    340 &                \\\\\\\\\\n           332 &              332 &                338 &                              331 &                    339 &                \\\\\\\\\\n           333 &              333 &                337 &                              332 &                    338 &                \\\\\\\\\\n           334 &              334 &                336 &                              333 &                    337 &                \\\\\\\\\\n           335 &              335 &                335 &                              334 &                    336 &                \\\\\\\\\\n           336 &              336 &                334 &                              335 &                    335 &                \\\\\\\\\\n           337 &              337 &                333 &                              336 &                    334 &                \\\\\\\\\\n           338 &              338 &                332 &                              337 &                    333 &                \\\\\\\\\\n           339 &              339 &                331 &                              338 &                    332 &                \\\\\\\\\\n           340 &              340 &                330 &                              339 &                    331 &                \\\\\\\\\\n           341 &              341 &                349 &                              340 &                    350 &                \\\\\\\\\\n           342 &              342 &                348 &                              341 &                    349 &                \\\\\\\\\\n           343 &              343 &                347 &                              342 &                    348 &                \\\\\\\\\\n           344 &              344 &                346 &                              343 &                    347 &                \\\\\\\\\\n           345 &              345 &                345 &                              344 &                    346 &                \\\\\\\\\\n           346 &              346 &                344 &                              345 &                    345 &                \\\\\\\\\\n           347 &              347 &                343 &                              346 &                    344 &                \\\\\\\\\\n           348 &              348 &                342 &                              347 &                    343 &                \\\\\\\\\\n           349 &              349 &                341 &                              348 &                    342 &                \\\\\\\\\\n           350 &              350 &                340 &                              349 &                    341 &  Guiding fibre \\\\\\\\\\n           351 &              351 &                359 &                              350 &                    360 &                \\\\\\\\\\n           352 &              352 &                358 &                              351 &                    359 &                \\\\\\\\\\n           353 &              353 &                357 &                              352 &                    358 &                \\\\\\\\\\n           354 &              354 &                356 &                              353 &                    357 &                \\\\\\\\\\n           355 &              355 &                355 &                              354 &                    356 &                \\\\\\\\\\n           356 &              356 &                354 &                              355 &                    355 &                \\\\\\\\\\n           357 &              357 &                353 &                              356 &                    354 &                \\\\\\\\\\n           358 &              358 &                352 &                              357 &                    353 &                \\\\\\\\\\n           359 &              359 &                351 &                              358 &                    352 &                \\\\\\\\\\n           360 &              360 &                350 &                              359 &                    351 &                \\\\\\\\\\n           361 &              361 &                369 &                              360 &                    370 &                \\\\\\\\\\n           362 &              362 &                368 &                              361 &                    369 &                \\\\\\\\\\n           363 &              363 &                367 &                              362 &                    368 &                \\\\\\\\\\n           364 &              364 &                366 &                              363 &                    367 &                \\\\\\\\\\n           365 &              365 &                365 &                              364 &                    366 &                \\\\\\\\\\n           366 &              366 &                364 &                              365 &                    365 &                \\\\\\\\\\n           367 &              367 &                363 &                              366 &                    364 &                \\\\\\\\\\n           368 &              368 &                362 &                              367 &                    363 &                \\\\\\\\\\n           369 &              369 &                361 &                              368 &                    362 &                \\\\\\\\\\n           370 &              370 &                360 &                              369 &                    361 &                \\\\\\\\\\n           371 &              371 &                379 &                              370 &                    380 &                \\\\\\\\\\n           372 &              372 &                378 &                              371 &                    379 &                \\\\\\\\\\n           373 &              373 &                377 &                              372 &                    378 &                \\\\\\\\\\n           374 &              374 &                376 &                              373 &                    377 &                \\\\\\\\\\n           375 &              375 &                375 &                              374 &                    376 &                \\\\\\\\\\n           376 &              376 &                374 &                              375 &                    375 &                \\\\\\\\\\n           377 &              377 &                373 &                              376 &                    374 &                \\\\\\\\\\n           378 &              378 &                372 &                              377 &                    373 &                \\\\\\\\\\n           379 &              379 &                371 &                              378 &                    372 &                \\\\\\\\\\n           380 &              380 &                370 &                              379 &                    371 &                \\\\\\\\\\n           381 &              381 &                389 &                              380 &                    390 &                \\\\\\\\\\n           382 &              382 &                388 &                              381 &                    389 &                \\\\\\\\\\n           383 &              383 &                387 &                              382 &                    388 &                \\\\\\\\\\n           384 &              384 &                386 &                              383 &                    387 &                \\\\\\\\\\n           385 &              385 &                385 &                              384 &                    386 &                \\\\\\\\\\n           386 &              386 &                384 &                              385 &                    385 &                \\\\\\\\\\n           387 &              387 &                383 &                              386 &                    384 &                \\\\\\\\\\n           388 &              388 &                382 &                              387 &                    383 &                \\\\\\\\\\n           389 &              389 &                381 &                              388 &                    382 &                \\\\\\\\\\n           390 &              390 &                380 &                              389 &                    381 &                \\\\\\\\\\n           391 &              391 &                399 &                              390 &                    400 &                \\\\\\\\\\n           392 &              392 &                398 &                              391 &                    399 &                \\\\\\\\\\n           393 &              393 &                397 &                              392 &                    398 &                \\\\\\\\\\n           394 &              394 &                396 &                              393 &                    397 &                \\\\\\\\\\n           395 &              395 &                395 &                              394 &                    396 &                \\\\\\\\\\n           396 &              396 &                394 &                              395 &                    395 &                \\\\\\\\\\n           397 &              397 &                393 &                              396 &                    394 &                \\\\\\\\\\n           398 &              398 &                392 &                              397 &                    393 &                \\\\\\\\\\n           399 &              399 &                391 &                              398 &                    392 &                \\\\\\\\\\n           400 &              400 &                390 &                              399 &                    391 &                \\\\\\\\\\n\\\\bottomrule\\n\\\\end{tabular}\\n'"
       ]
      }
     ],
     "prompt_number": 179
    },
    {
     "cell_type": "code",
     "collapsed": false,
     "input": [
      "# ('NAME', 'S80'),\n",
      "# ('RA', '>f8'), \n",
      "# ('DEC', '>f8'), \n",
      "# ('X', '>i4'), \n",
      "# ('Y', '>i4'), \n",
      "# ('XERR', '>i2'), \n",
      "# ('YERR', '>i2'), \n",
      "# ('THETA', '>f8'), \n",
      "# ('TYPE', 'S1'), \n",
      "# ('PIVOT', '>i2'), \n",
      "# ('MAGNITUDE', '>f8'), \n",
      "# ('PID', '>i4'), \n",
      "# ('COMMENT', 'S80'), \n",
      "# ('RETRACTOR', 'S10'), \n",
      "# ('WLEN', '>f8'), \n",
      "# ('PMRA', '>f8'), \n",
      "# ('PMDEC', '>f8')]"
     ],
     "language": "python",
     "metadata": {},
     "outputs": [
      {
       "ename": "SyntaxError",
       "evalue": "invalid syntax (<ipython-input-148-6875b958c7d1>, line 17)",
       "output_type": "pyerr",
       "traceback": [
        "\u001b[0;36m  File \u001b[0;32m\"<ipython-input-148-6875b958c7d1>\"\u001b[0;36m, line \u001b[0;32m17\u001b[0m\n\u001b[0;31m    ('PMDEC', '>f8')]\u001b[0m\n\u001b[0m                    ^\u001b[0m\n\u001b[0;31mSyntaxError\u001b[0m\u001b[0;31m:\u001b[0m invalid syntax\n"
       ]
      }
     ],
     "prompt_number": 148
    },
    {
     "cell_type": "code",
     "collapsed": false,
     "input": [
      "('Giant01', \n",
      " 1.0778280795690982, \n",
      " 0.26764721042069262, \n",
      " -15, \n",
      " 3, \n",
      " 15, \n",
      " 1,\n",
      " 3.4963547846475636, \n",
      " 'P', \n",
      " 223, \n",
      " 7.6699999999999999, 0, 'Kmag', '23', 0.0, 0.0, 0.0)\n"
     ],
     "language": "python",
     "metadata": {},
     "outputs": []
    },
    {
     "cell_type": "code",
     "collapsed": false,
     "input": [
      "cd '/Users/Carlos/Documents/HERMES/reductions/6.5/HD1581/'"
     ],
     "language": "python",
     "metadata": {},
     "outputs": [
      {
       "output_type": "stream",
       "stream": "stdout",
       "text": [
        "/Users/Carlos/Documents/HERMES/reductions/6.5/HD1581\n"
       ]
      }
     ],
     "prompt_number": 41
    },
    {
     "cell_type": "code",
     "collapsed": false,
     "input": [
      "# arcRVs = np.load('npy/arcRVs.npy')\n",
      "JDs = np.load('npy/JDs.npy')\n",
      "\n"
     ],
     "language": "python",
     "metadata": {},
     "outputs": [
      {
       "ename": "IOError",
       "evalue": "[Errno 2] No such file or directory: 'npy/JDs.npy'",
       "output_type": "pyerr",
       "traceback": [
        "\u001b[0;31m---------------------------------------------------------------------------\u001b[0m\n\u001b[0;31mIOError\u001b[0m                                   Traceback (most recent call last)",
        "\u001b[0;32m<ipython-input-39-6afe14c655d7>\u001b[0m in \u001b[0;36m<module>\u001b[0;34m()\u001b[0m\n\u001b[1;32m      1\u001b[0m \u001b[0;31m# arcRVs = np.load('npy/arcRVs.npy')\u001b[0m\u001b[0;34m\u001b[0m\u001b[0;34m\u001b[0m\u001b[0m\n\u001b[0;32m----> 2\u001b[0;31m \u001b[0mJDs\u001b[0m \u001b[0;34m=\u001b[0m \u001b[0mnp\u001b[0m\u001b[0;34m.\u001b[0m\u001b[0mload\u001b[0m\u001b[0;34m(\u001b[0m\u001b[0;34m'npy/JDs.npy'\u001b[0m\u001b[0;34m)\u001b[0m\u001b[0;34m\u001b[0m\u001b[0m\n\u001b[0m\u001b[1;32m      3\u001b[0m \u001b[0;34m\u001b[0m\u001b[0m\n",
        "\u001b[0;32m/Users/Carlos/Library/Enthought/Canopy_64bit/User/lib/python2.7/site-packages/numpy-1.8.1-py2.7-macosx-10.6-x86_64.egg/numpy/lib/npyio.pyc\u001b[0m in \u001b[0;36mload\u001b[0;34m(file, mmap_mode)\u001b[0m\n\u001b[1;32m    368\u001b[0m     \u001b[0mown_fid\u001b[0m \u001b[0;34m=\u001b[0m \u001b[0mFalse\u001b[0m\u001b[0;34m\u001b[0m\u001b[0m\n\u001b[1;32m    369\u001b[0m     \u001b[0;32mif\u001b[0m \u001b[0misinstance\u001b[0m\u001b[0;34m(\u001b[0m\u001b[0mfile\u001b[0m\u001b[0;34m,\u001b[0m \u001b[0mbasestring\u001b[0m\u001b[0;34m)\u001b[0m\u001b[0;34m:\u001b[0m\u001b[0;34m\u001b[0m\u001b[0m\n\u001b[0;32m--> 370\u001b[0;31m         \u001b[0mfid\u001b[0m \u001b[0;34m=\u001b[0m \u001b[0mopen\u001b[0m\u001b[0;34m(\u001b[0m\u001b[0mfile\u001b[0m\u001b[0;34m,\u001b[0m \u001b[0;34m\"rb\"\u001b[0m\u001b[0;34m)\u001b[0m\u001b[0;34m\u001b[0m\u001b[0m\n\u001b[0m\u001b[1;32m    371\u001b[0m         \u001b[0mown_fid\u001b[0m \u001b[0;34m=\u001b[0m \u001b[0mTrue\u001b[0m\u001b[0;34m\u001b[0m\u001b[0m\n\u001b[1;32m    372\u001b[0m     \u001b[0;32melif\u001b[0m \u001b[0misinstance\u001b[0m\u001b[0;34m(\u001b[0m\u001b[0mfile\u001b[0m\u001b[0;34m,\u001b[0m \u001b[0mgzip\u001b[0m\u001b[0;34m.\u001b[0m\u001b[0mGzipFile\u001b[0m\u001b[0;34m)\u001b[0m\u001b[0;34m:\u001b[0m\u001b[0;34m\u001b[0m\u001b[0m\n",
        "\u001b[0;31mIOError\u001b[0m: [Errno 2] No such file or directory: 'npy/JDs.npy'"
       ]
      }
     ],
     "prompt_number": 39
    },
    {
     "cell_type": "code",
     "collapsed": false,
     "input": [
      "JDs"
     ],
     "language": "python",
     "metadata": {},
     "outputs": [
      {
       "metadata": {},
       "output_type": "pyout",
       "prompt_number": 35,
       "text": [
        "array([ 56889.783,  56889.788,  56889.792,  56889.794,  56889.796,\n",
        "        56889.799,  56889.801,  56889.803,  56890.704,  56890.711,\n",
        "        56890.719,  56890.817,  56891.691,  56891.696,  56891.701,\n",
        "        56891.778,  56891.783,  56893.747,  56893.753,  56893.759,\n",
        "        56894.725,  56894.73 ,  56894.735,  56894.811])"
       ]
      }
     ],
     "prompt_number": 35
    },
    {
     "cell_type": "code",
     "collapsed": false,
     "input": [
      "arcRVs2 = np.ones((400,16,4))*np.nan\n",
      "arcRVs2[:,0,:] = arcRVs[:,0,:]\n",
      "arcRVs2[:,1,:] = arcRVs[:,0,:]\n",
      "arcRVs2[:,2,:] = arcRVs[:,0,:]\n",
      "arcRVs2[:,3,:] = arcRVs[:,0,:]\n",
      "arcRVs2[:,4,:] = arcRVs[:,1,:]\n",
      "arcRVs2[:,5,:] = arcRVs[:,1,:]\n",
      "arcRVs2[:,6,:] = arcRVs[:,1,:]\n",
      "arcRVs2[:,7,:] = arcRVs[:,2,:]\n",
      "arcRVs2[:,8,:] = arcRVs[:,2,:]\n",
      "arcRVs2[:,9,:] = arcRVs[:,2,:]\n",
      "arcRVs2[:,10,:] = arcRVs[:,3,:]\n",
      "arcRVs2[:,11,:] = arcRVs[:,3,:]\n",
      "arcRVs2[:,12,:] = arcRVs[:,3,:]\n",
      "arcRVs2[:,13,:] = arcRVs[:,4,:]\n",
      "arcRVs2[:,14,:] = arcRVs[:,4,:]\n",
      "arcRVs2[:,15,:] = arcRVs[:,4,:]\n",
      "arcRVs = arcRVs2\n",
      "np.save('npy/arcRVs',arcRVs)\n"
     ],
     "language": "python",
     "metadata": {},
     "outputs": [],
     "prompt_number": 36
    },
    {
     "cell_type": "code",
     "collapsed": false,
     "input": [
      "bary = np.load('npy/baryVels.npy')"
     ],
     "language": "python",
     "metadata": {},
     "outputs": [],
     "prompt_number": 42
    },
    {
     "cell_type": "code",
     "collapsed": false,
     "input": [],
     "language": "python",
     "metadata": {},
     "outputs": []
    },
    {
     "cell_type": "code",
     "collapsed": false,
     "input": [
      "bary.shape"
     ],
     "language": "python",
     "metadata": {},
     "outputs": [
      {
       "metadata": {},
       "output_type": "pyout",
       "prompt_number": 43,
       "text": [
        "(15,)"
       ]
      }
     ],
     "prompt_number": 43
    },
    {
     "cell_type": "code",
     "collapsed": false,
     "input": [],
     "language": "python",
     "metadata": {},
     "outputs": []
    },
    {
     "cell_type": "code",
     "collapsed": false,
     "input": [
      "bary"
     ],
     "language": "python",
     "metadata": {},
     "outputs": [
      {
       "metadata": {},
       "output_type": "pyout",
       "prompt_number": 44,
       "text": [
        "array([    0.        ,  -264.95128683,  -265.75142372,  -266.28484703,\n",
        "        -505.67771429,  -506.21059974,  -506.74348392, -1053.1246215 ,\n",
        "       -1053.65561576, -1053.92111209, -1054.18660772, -1054.71759751,\n",
        "       -1312.48939615, -1313.01915946, -1313.28403996])"
       ]
      }
     ],
     "prompt_number": 44
    },
    {
     "cell_type": "code",
     "collapsed": false,
     "input": [
      "bary[:-1]-bary[1:]"
     ],
     "language": "python",
     "metadata": {},
     "outputs": [
      {
       "metadata": {},
       "output_type": "pyout",
       "prompt_number": 45,
       "text": [
        "array([  2.64951287e+02,   8.00136892e-01,   5.33423302e-01,\n",
        "         2.39392867e+02,   5.32885452e-01,   5.32884186e-01,\n",
        "         5.46381138e+02,   5.30994260e-01,   2.65496331e-01,\n",
        "         2.65495633e-01,   5.30989793e-01,   2.57771799e+02,\n",
        "         5.29763312e-01,   2.64880505e-01])"
       ]
      }
     ],
     "prompt_number": 45
    },
    {
     "cell_type": "code",
     "collapsed": false,
     "input": [
      "pwd"
     ],
     "language": "python",
     "metadata": {},
     "outputs": [
      {
       "metadata": {},
       "output_type": "pyout",
       "prompt_number": 49,
       "text": [
        "u'/Users/Carlos/Documents/HERMES/reductions/6.5/HD1581'"
       ]
      }
     ],
     "prompt_number": 49
    },
    {
     "cell_type": "code",
     "collapsed": false,
     "input": [
      "a = np.array([4860,4865])\n",
      "np.save('npy/cam1Filter.npy',a)\n",
      "a = np.array([5751,5756])\n",
      "np.save('npy/cam2Filter.npy',a)\n",
      "a = np.array([6560,6565])\n",
      "np.save('npy/cam3Filter.npy',a)\n",
      "a = np.array([7710,7718])\n",
      "np.save('npy/cam4Filter.npy',a)\n"
     ],
     "language": "python",
     "metadata": {},
     "outputs": [],
     "prompt_number": 48
    },
    {
     "cell_type": "code",
     "collapsed": false,
     "input": [
      "1.400E7\n",
      "648.36\n",
      "818.28\n",
      "570.57\n",
      "142.85\n",
      "150.76\n",
      "150.88\n",
      "80.39\n",
      "84.36\n",
      "99.99\n",
      "105.94\n",
      "124.30\n",
      "122.21\n",
      "122.19\n",
      "121.61\n"
     ],
     "language": "python",
     "metadata": {},
     "outputs": [
      {
       "metadata": {},
       "output_type": "pyout",
       "prompt_number": 50,
       "text": [
        "121.61"
       ]
      }
     ],
     "prompt_number": 50
    },
    {
     "cell_type": "code",
     "collapsed": false,
     "input": [
      "hbetaRVs = (np.loadtxt('out3_hbeta.txt', delimiter = ' ', dtype='str')[:,26]).astype(float)"
     ],
     "language": "python",
     "metadata": {},
     "outputs": [],
     "prompt_number": 144
    },
    {
     "cell_type": "code",
     "collapsed": false,
     "input": [
      "arcRVs = np.loadtxt('arc_hbeta.txt', delimiter = ' ', dtype='str', usecols = [40]).astype(float)"
     ],
     "language": "python",
     "metadata": {},
     "outputs": [],
     "prompt_number": 143
    },
    {
     "cell_type": "code",
     "collapsed": false,
     "input": [
      "bary = np.load('npy/baryVels.npy')\n",
      "JDs = np.load('npy/JDs.npy')"
     ],
     "language": "python",
     "metadata": {},
     "outputs": [],
     "prompt_number": 141
    },
    {
     "cell_type": "code",
     "collapsed": false,
     "input": [
      "JDs"
     ],
     "language": "python",
     "metadata": {},
     "outputs": [
      {
       "metadata": {},
       "output_type": "pyout",
       "prompt_number": 142,
       "text": [
        "array([ 56889.811,  56890.804,  56890.807,  56890.809,  56891.707,\n",
        "        56891.709,  56891.711,  56893.765,  56893.767,  56893.768,\n",
        "        56893.769,  56893.771,  56894.743,  56894.745,  56894.746])"
       ]
      }
     ],
     "prompt_number": 142
    },
    {
     "cell_type": "code",
     "collapsed": false,
     "input": [
      "[0,1,4,7,12]"
     ],
     "language": "python",
     "metadata": {},
     "outputs": []
    },
    {
     "cell_type": "code",
     "collapsed": false,
     "input": [
      "plt.scatter(JDs,hbetaRVs-bary,color = 'k', s=100, marker='*', label = 'Stars')\n",
      "plt.scatter(JDs[np.array([0,1,4,7,12])],arcRVs,  marker = '+' , label = 'ARC RV', color = 'm', s=500)\n",
      "plt.show()"
     ],
     "language": "python",
     "metadata": {},
     "outputs": [],
     "prompt_number": 168
    },
    {
     "cell_type": "code",
     "collapsed": false,
     "input": [
      "arcRVs[0] = 1.4e-7"
     ],
     "language": "python",
     "metadata": {},
     "outputs": [],
     "prompt_number": 159
    },
    {
     "cell_type": "code",
     "collapsed": false,
     "input": [
      "bary"
     ],
     "language": "python",
     "metadata": {},
     "outputs": [
      {
       "metadata": {},
       "output_type": "pyout",
       "prompt_number": 169,
       "text": [
        "array([    0.        ,  -264.95128683,  -265.75142372,  -266.28484703,\n",
        "        -505.67771429,  -506.21059974,  -506.74348392, -1053.1246215 ,\n",
        "       -1053.65561576, -1053.92111209, -1054.18660772, -1054.71759751,\n",
        "       -1312.48939615, -1313.01915946, -1313.28403996])"
       ]
      }
     ],
     "prompt_number": 169
    },
    {
     "cell_type": "code",
     "collapsed": false,
     "input": [],
     "language": "python",
     "metadata": {},
     "outputs": []
    }
   ],
   "metadata": {}
  }
 ]
}