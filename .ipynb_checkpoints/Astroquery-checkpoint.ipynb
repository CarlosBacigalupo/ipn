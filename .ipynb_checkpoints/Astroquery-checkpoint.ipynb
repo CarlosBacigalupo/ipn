{
 "metadata": {
  "name": "",
  "signature": "sha256:0507d35f7ce70d843207775ea69d9dc3bdb795acf2030709192ea53f182b12c7"
 },
 "nbformat": 3,
 "nbformat_minor": 0,
 "worksheets": [
  {
   "cells": [
    {
     "cell_type": "heading",
     "level": 3,
     "metadata": {},
     "source": [
      "Creates a list of aliases from all .obj files in a folder\n",
      "(skips the red*.obj files)"
     ]
    },
    {
     "cell_type": "code",
     "collapsed": false,
     "input": [
      "from astroquery.simbad import Simbad\n",
      "from astropy import coordinates\n",
      "import astropy.units as u\n",
      "import ads\n",
      "import numpy as np\n",
      "import glob\n",
      "import pickle\n"
     ],
     "language": "python",
     "metadata": {},
     "outputs": [],
     "prompt_number": 2
    },
    {
     "cell_type": "code",
     "collapsed": false,
     "input": [
      "cd ~/Documents/HERMES/reductions/6.5/HD1581/obj/"
     ],
     "language": "python",
     "metadata": {},
     "outputs": [
      {
       "output_type": "stream",
       "stream": "stdout",
       "text": [
        "/Users/Carlos/Documents/HERMES/reductions/6.5/HD1581/obj\n"
       ]
      }
     ],
     "prompt_number": 3
    },
    {
     "cell_type": "code",
     "collapsed": false,
     "input": [
      "cd ~/Documents/HERMES/reductions/6.5/m67_lr/obj/"
     ],
     "language": "python",
     "metadata": {},
     "outputs": []
    },
    {
     "cell_type": "heading",
     "level": 6,
     "metadata": {},
     "source": [
      "query by region"
     ]
    },
    {
     "cell_type": "code",
     "collapsed": false,
     "input": [
      "objList = glob.glob('*.obj')\n",
      "\n",
      "r = 5 * u.arcsecond\n",
      "starAlias = [] \n",
      "\n",
      "for thisObj in objList[:]:\n",
      "    if 'red' not in thisObj:\n",
      "        filehandler = open(thisObj, 'r')\n",
      "        thisStar = pickle.load(filehandler)\n",
      "        star = thisStar.name\n",
      "        print thisStar.name,':',\n",
      "        \n",
      "        gc = coordinates.SkyCoord(ra=thisStar.RA*u.si.degree, dec=thisStar.Dec*u.si.degree)\n",
      "\n",
      "        result_table = Simbad.query_region(gc, radius=r)\n",
      "#         print result_table\n",
      "        if len(result_table)==1:\n",
      "            \n",
      "            result_table_IDs = Simbad.query_objectids(result_table[0][0])\n",
      "            for CRID in result_table_IDs.columns[0]:\n",
      "                starAlias.append([star,CRID])\n",
      "                print CRID, '|',\n",
      "#             print \n",
      "#             papers = ads.SearchQuery(q=result_table[0][0], sort=\"citation_count\", rows=5 )\n",
      "#             ads.config.token = 'el4YBpYbJoxjrpfht35uS6X7f5syc5vJNxRygvmA'\n",
      "#             for paper in papers:\n",
      "#                 print(str(paper.title[0]))\n",
      "        else:\n",
      "            print len(result_table), 'results'\n",
      "        filehandler.close()\n",
      "        thisStar = None\n",
      "        \n",
      "        \n",
      "        print \n",
      "        print \n",
      "        \n",
      "np.save('../starAlias.npy',starAlias)"
     ],
     "language": "python",
     "metadata": {},
     "outputs": [
      {
       "output_type": "stream",
       "stream": "stdout",
       "text": [
        "0\n",
        "5\n",
        "HD1581"
       ]
      },
      {
       "output_type": "stream",
       "stream": "stdout",
       "text": [
        " : "
       ]
      },
      {
       "output_type": "stream",
       "stream": "stdout",
       "text": [
        "                    PLX   54                    * zet Tuc                 CPC 21    53                 CPD-65    13                   Ci 20   22                     FK5   10                     GC   401                   GCRV   185             GEN# +1.00001581                     GJ    17                          ...                  UBV     236                 UBV M   7307                      Zkh   8             uvby98 100001581      2MASS J00200446-6452282                  PLX   54.00              TYC 8843-1706-1              IRAS 00176-6509 AKARI-IRC-V1 J0020061-645221     WISE J002006.98-645216.9             IRAS F00176-6509 Length = 39 rows\n",
        "\n"
       ]
      }
     ],
     "prompt_number": 4
    },
    {
     "cell_type": "heading",
     "level": 6,
     "metadata": {},
     "source": [
      "Query by ID"
     ]
    },
    {
     "cell_type": "code",
     "collapsed": false,
     "input": [
      "objList = glob.glob('*.obj')\n",
      "\n",
      "r = 5 * u.arcsecond\n",
      "starAlias = [] \n",
      "\n",
      "for thisObj in objList[:]:\n",
      "    if 'red' not in thisObj:\n",
      "        filehandler = open(thisObj, 'r')\n",
      "        thisStar = pickle.load(filehandler)\n",
      "        star = thisStar.name\n",
      "        print thisStar.name,':',\n",
      "        \n",
      "#         gc = coordinates.SkyCoord(ra=thisStar.RA*u.si.degree, dec=thisStar.Dec*u.si.degree)\n",
      "        print Simbad.ROW_LIMIT\n",
      "        result_table_IDs = Simbad.query_objectids(thisStar.name)\n",
      "#         print result_table_IDs\n",
      "#         if len(result_table)==1:\n",
      "            \n",
      "#             result_table_IDs = Simbad.query_objectids(result_table[0][0])\n",
      "        for CRID in result_table_IDs.columns[0]:\n",
      "            starAlias.append([star,CRID.strip()])\n",
      "            print CRID.strip(),'|',\n",
      "#             print \n",
      "#             papers = ads.SearchQuery(q=result_table[0][0], sort=\"citation_count\", rows=5 )\n",
      "#             ads.config.token = 'el4YBpYbJoxjrpfht35uS6X7f5syc5vJNxRygvmA'\n",
      "#             for paper in papers:\n",
      "#                 print(str(paper.title[0]))\n",
      "#         else:\n",
      "#             print len(result_table), 'results'\n",
      "        filehandler.close()\n",
      "        thisStar = None\n",
      "        \n",
      "        \n",
      "        print \n",
      "        print \n",
      "        \n",
      "np.save('../starAlias.npy',starAlias)"
     ],
     "language": "python",
     "metadata": {},
     "outputs": [
      {
       "output_type": "stream",
       "stream": "stdout",
       "text": [
        "HD1581 : 5\n",
        "             ID             \n",
        "----------------------------\n",
        "                    PLX   54\n",
        "                   * zet Tuc\n",
        "                CPC 21    53\n",
        "                CPD-65    13\n",
        "                  Ci 20   22\n",
        "                    FK5   10\n",
        "                    GC   401\n",
        "                  GCRV   185\n",
        "            GEN# +1.00001581\n",
        "                    GJ    17\n",
        "                         ...\n",
        "                 UBV     236\n",
        "                UBV M   7307\n",
        "                     Zkh   8\n",
        "            uvby98 100001581\n",
        "     2MASS J00200446-6452282\n",
        "                 PLX   54.00\n",
        "             TYC 8843-1706-1\n",
        "             IRAS 00176-6509\n",
        "AKARI-IRC-V1 J0020061-645221\n",
        "    WISE J002006.98-645216.9\n",
        "            IRAS F00176-6509\n",
        "Length = 39 rows"
       ]
      },
      {
       "output_type": "stream",
       "stream": "stdout",
       "text": [
        "\n",
        "PLX   54 | * zet Tuc | CPC 21    53 | CPD-65    13 | Ci 20   22 | FK5   10 | GC   401 | GCRV   185 | GEN# +1.00001581 | GJ    17 | HD   1581 | HIC   1599 | HIP   1599 | HR    77 | JP11   371 | LFT   36 | LHS     5 | LPM  16 | LTT   167 | N30   57 | NLTT  1045 | PM 00175-6510 | PPM 351761 | ROT    82 | SAO 248163 | SKY#   585 | SPOCS   14 | TD1   161 | UBV     236 | UBV M   7307 | Zkh   8 | uvby98 100001581 | 2MASS J00200446-6452282 | PLX   54.00 | TYC 8843-1706-1 | IRAS 00176-6509 | AKARI-IRC-V1 J0020061-645221 | WISE J002006.98-645216.9 | IRAS F00176-6509 |\n",
        "\n"
       ]
      }
     ],
     "prompt_number": 18
    },
    {
     "cell_type": "code",
     "collapsed": false,
     "input": [
      "for i in result_table_IDs.columns[0]:\n",
      "    print i\n",
      "\n",
      "for i in result_table_IDs:\n",
      "    print i[0]"
     ],
     "language": "python",
     "metadata": {},
     "outputs": [
      {
       "output_type": "stream",
       "stream": "stdout",
       "text": [
        "PLX   54\n",
        "* zet Tuc\n",
        "CPC 21    53\n",
        "CPD-65    13\n",
        "Ci 20   22\n",
        "FK5   10\n",
        "GC   401\n",
        "GCRV   185\n",
        "GEN# +1.00001581\n",
        "GJ    17\n",
        "HD   1581\n",
        "HIC   1599\n",
        "HIP   1599\n",
        "HR    77\n",
        "JP11   371\n",
        "LFT   36\n",
        "LHS     5\n",
        "LPM  16\n",
        "LTT   167\n",
        "N30   57\n",
        "NLTT  1045\n",
        "PM 00175-6510\n",
        "PPM 351761\n",
        "ROT    82\n",
        "SAO 248163\n",
        "SKY#   585\n",
        "SPOCS   14\n",
        "TD1   161\n",
        "UBV     236\n",
        "UBV M   7307\n",
        "Zkh   8\n",
        "uvby98 100001581\n",
        "2MASS J00200446-6452282\n",
        "PLX   54.00\n",
        "TYC 8843-1706-1\n",
        "IRAS 00176-6509\n",
        "AKARI-IRC-V1 J0020061-645221\n",
        "WISE J002006.98-645216.9\n",
        "IRAS F00176-6509\n",
        "PLX   54\n",
        "* zet Tuc\n",
        "CPC 21    53\n",
        "CPD-65    13\n",
        "Ci 20   22\n",
        "FK5   10\n",
        "GC   401\n",
        "GCRV   185\n",
        "GEN# +1.00001581\n",
        "GJ    17\n",
        "HD   1581\n",
        "HIC   1599\n",
        "HIP   1599\n",
        "HR    77\n",
        "JP11   371\n",
        "LFT   36\n",
        "LHS     5\n",
        "LPM  16\n",
        "LTT   167\n",
        "N30   57\n",
        "NLTT  1045\n",
        "PM 00175-6510\n",
        "PPM 351761\n",
        "ROT    82\n",
        "SAO 248163\n",
        "SKY#   585\n",
        "SPOCS   14\n",
        "TD1   161\n",
        "UBV     236\n",
        "UBV M   7307\n",
        "Zkh   8\n",
        "uvby98 100001581\n",
        "2MASS J00200446-6452282\n",
        "PLX   54.00\n",
        "TYC 8843-1706-1\n",
        "IRAS 00176-6509\n",
        "AKARI-IRC-V1 J0020061-645221\n",
        "WISE J002006.98-645216.9\n",
        "IRAS F00176-6509\n"
       ]
      }
     ],
     "prompt_number": 17
    },
    {
     "cell_type": "heading",
     "level": 3,
     "metadata": {},
     "source": [
      "ADS and other random tests to follow"
     ]
    },
    {
     "cell_type": "code",
     "collapsed": false,
     "input": [
      "papers = ads.SearchQuery(q=\"supernova\", sort=\"citation_count\", rows=5 )\n",
      "ads.config.token = 'el4YBpYbJoxjrpfht35uS6X7f5syc5vJNxRygvmA'"
     ],
     "language": "python",
     "metadata": {},
     "outputs": []
    },
    {
     "cell_type": "code",
     "collapsed": false,
     "input": [
      "for paper in papers:\n",
      "    print(paper.title)"
     ],
     "language": "python",
     "metadata": {},
     "outputs": []
    },
    {
     "cell_type": "code",
     "collapsed": false,
     "input": [
      "# customSimbad = Simbad()\n",
      "# customSimbad.get_votable_fields()\n",
      "Simbad.list_votable_fields()\n",
      "Simbad.get_field_description ('gcrv')"
     ],
     "language": "python",
     "metadata": {},
     "outputs": []
    },
    {
     "cell_type": "code",
     "collapsed": false,
     "input": [
      "for objID in result_table_IDs:\n",
      "    print objID[0]\n",
      "    temp = Simbad.query_object(objID[0])\n",
      "    print temp\n",
      "    temp= Simbad.query_bibcode(temp['COO_BIBCODE'].data.data[0])\n",
      "    print temp[0].as_void()[0].split('\\n')[3]"
     ],
     "language": "python",
     "metadata": {},
     "outputs": []
    },
    {
     "cell_type": "code",
     "collapsed": false,
     "input": [
      "temp= Simbad.query_object(result_table[0][0])\n",
      "print temp\n",
      "temp= Simbad.query_bibcode(temp['COO_BIBCODE'].data.data[0])\n",
      "print temp"
     ],
     "language": "python",
     "metadata": {},
     "outputs": []
    },
    {
     "cell_type": "code",
     "collapsed": false,
     "input": [
      "temp[0].as_void()[0].split('\\n')[3]"
     ],
     "language": "python",
     "metadata": {},
     "outputs": []
    },
    {
     "cell_type": "code",
     "collapsed": false,
     "input": [
      "result_table['COO_BIBCODE']"
     ],
     "language": "python",
     "metadata": {},
     "outputs": []
    }
   ],
   "metadata": {}
  }
 ]
}