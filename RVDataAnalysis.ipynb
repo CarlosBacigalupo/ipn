{
 "metadata": {
  "name": "",
  "signature": "sha256:63d7bedcd9d9fe13c7f2d35c4dd1bc8171312d9ce1bf4df56846fbd573d6037e"
 },
 "nbformat": 3,
 "nbformat_minor": 0,
 "worksheets": [
  {
   "cells": [
    {
     "cell_type": "code",
     "collapsed": false,
     "input": [
      "import numpy as np\n",
      "import pandas as pd"
     ],
     "language": "python",
     "metadata": {},
     "outputs": [],
     "prompt_number": 4
    },
    {
     "cell_type": "code",
     "collapsed": false,
     "input": [
      "def f1(x):\n",
      "    return '%5.2f' % x"
     ],
     "language": "python",
     "metadata": {},
     "outputs": [],
     "prompt_number": 5
    },
    {
     "cell_type": "heading",
     "level": 3,
     "metadata": {},
     "source": [
      "47tuc"
     ]
    },
    {
     "cell_type": "code",
     "collapsed": false,
     "input": [
      "cd ~/Documents/HERMES/reductions/47Tuc_core_6.2/npy"
     ],
     "language": "python",
     "metadata": {},
     "outputs": []
    },
    {
     "cell_type": "code",
     "collapsed": false,
     "input": [
      "cd ~/Documents/HERMES/reductions/47Tuc_core_6.2/npy_150509/"
     ],
     "language": "python",
     "metadata": {},
     "outputs": []
    },
    {
     "cell_type": "code",
     "collapsed": false,
     "input": [
      "cd ~/Documents/HERMES/reductions/47Tuc_core_1arc_6.2/npy/"
     ],
     "language": "python",
     "metadata": {},
     "outputs": []
    },
    {
     "cell_type": "code",
     "collapsed": false,
     "input": [
      "cd ~/Documents/HERMES/reductions/47Tuc_core_1arc_6.2/npy_150509/"
     ],
     "language": "python",
     "metadata": {},
     "outputs": []
    },
    {
     "cell_type": "heading",
     "level": 3,
     "metadata": {},
     "source": [
      "HD1581"
     ]
    },
    {
     "cell_type": "code",
     "collapsed": false,
     "input": [
      "cd ~/Documents/HERMES/reductions/HD1581_6.2/npy/"
     ],
     "language": "python",
     "metadata": {},
     "outputs": []
    },
    {
     "cell_type": "heading",
     "level": 3,
     "metadata": {},
     "source": [
      "HD285507"
     ]
    },
    {
     "cell_type": "code",
     "collapsed": false,
     "input": [
      "cd ~/Documents/HERMES/reductions/HD285507_6.2/npy_150509/"
     ],
     "language": "python",
     "metadata": {},
     "outputs": []
    },
    {
     "cell_type": "code",
     "collapsed": false,
     "input": [
      "cd ~/Documents/HERMES/reductions/HD285507_6.2/npy/"
     ],
     "language": "python",
     "metadata": {},
     "outputs": []
    },
    {
     "cell_type": "code",
     "collapsed": false,
     "input": [
      "cd ~/Documents/HERMES/reductions/6.5/HD285507_1arc/npy/"
     ],
     "language": "python",
     "metadata": {},
     "outputs": [
      {
       "output_type": "stream",
       "stream": "stdout",
       "text": [
        "/Users/Carlos/Documents/HERMES/reductions/6.5/HD285507_1arc/npy\n"
       ]
      }
     ],
     "prompt_number": 2
    },
    {
     "cell_type": "code",
     "collapsed": false,
     "input": [
      "cd ~/Documents/HERMES/reductions/HD285507_1arc_6.2/npy/"
     ],
     "language": "python",
     "metadata": {},
     "outputs": []
    },
    {
     "cell_type": "heading",
     "level": 3,
     "metadata": {},
     "source": [
      "m67"
     ]
    },
    {
     "cell_type": "code",
     "collapsed": false,
     "input": [
      "cd ~/Documents/HERMES/reductions/m67_6.2/npy"
     ],
     "language": "python",
     "metadata": {},
     "outputs": []
    },
    {
     "cell_type": "code",
     "collapsed": false,
     "input": [
      "cd ~/Documents/HERMES/reductions/m67_6.2/npy_raw/"
     ],
     "language": "python",
     "metadata": {},
     "outputs": []
    },
    {
     "cell_type": "code",
     "collapsed": false,
     "input": [
      "cd ~/Documents/HERMES/reductions/m67_1arc_6.2/"
     ],
     "language": "python",
     "metadata": {},
     "outputs": []
    },
    {
     "cell_type": "heading",
     "level": 3,
     "metadata": {},
     "source": [
      "NGC2477"
     ]
    },
    {
     "cell_type": "code",
     "collapsed": false,
     "input": [
      "cd ~/Documents/HERMES/reductions/NGC2477_6.2/npy"
     ],
     "language": "python",
     "metadata": {},
     "outputs": []
    },
    {
     "cell_type": "code",
     "collapsed": false,
     "input": [
      "cd ~/Documents/HERMES/reductions/NGC2477_6.2/npy_150509/"
     ],
     "language": "python",
     "metadata": {},
     "outputs": []
    },
    {
     "cell_type": "code",
     "collapsed": false,
     "input": [
      "cd ~/Documents/HERMES/reductions/NGC2477_1arc_6.2/"
     ],
     "language": "python",
     "metadata": {},
     "outputs": []
    },
    {
     "cell_type": "heading",
     "level": 3,
     "metadata": {},
     "source": [
      "rhoTuc"
     ]
    },
    {
     "cell_type": "code",
     "collapsed": false,
     "input": [
      "cd ~/Documents/HERMES/reductions/rhoTuc_6.2/npy"
     ],
     "language": "python",
     "metadata": {},
     "outputs": []
    },
    {
     "cell_type": "code",
     "collapsed": false,
     "input": [
      "cd ~/Documents/HERMES/reductions/6.2/rhoTuc_1arc_6.2/npy"
     ],
     "language": "python",
     "metadata": {},
     "outputs": []
    },
    {
     "cell_type": "heading",
     "level": 3,
     "metadata": {},
     "source": [
      "% of stars within a given RV"
     ]
    },
    {
     "cell_type": "code",
     "collapsed": false,
     "input": [
      "data=np.load('data.npy')\n",
      "RVs=np.load('RVs.npy')\n",
      "sigmas=np.load('sigmas.npy')\n",
      "baryVels=np.load('baryVels.npy')\n",
      "JDs=np.load('JDs.npy')\n",
      "thisSlice = RVs\n",
      "totalStars = RVs.shape[0]\n",
      "goodStars = np.sum(((thisSlice<5000) & (thisSlice!=0)), axis=0).astype(float)\n",
      "size = np.array(thisSlice.shape)\n",
      "total = np.reshape(np.repeat(size[0], size[1]*size[2]),(size[1],size[2]))\n",
      "labels = ['Blue','Green','Red','IR']\n",
      "a = pd.DataFrame(goodStars/total*100)\n",
      "a.columns = labels\n",
      "\n",
      "print a.to_latex(formatters=[f1, f1, f1, f1])"
     ],
     "language": "python",
     "metadata": {},
     "outputs": []
    },
    {
     "cell_type": "heading",
     "level": 3,
     "metadata": {},
     "source": [
      "Shows all observatios for a list of 'good_targets'"
     ]
    },
    {
     "cell_type": "code",
     "collapsed": false,
     "input": [
      "import pyfits as pf\n",
      "import numpy as np\n",
      "import pylab as plt\n",
      "import os\n",
      "import glob\n",
      "import pickle\n",
      "import RVTools as RVT\n",
      "import toolbox\n",
      "\n",
      "os.chdir('/Users/Carlos/Documents/HERMES/data')\n",
      "# raw = []\n",
      "print 'Obs & Filename & Field Name & Plate & MJD & Relative Day (days) & Exp Time (s) \\\\\\\\'\n",
      "# good_targets = np.array(['rhoTuc #176 (Pivot 175)', 'HD1581 #176 (Pivot 175)','HD285507 #227 (Pivot 223)' ])\n",
      "good_targets = np.array(['rhoTuc #176 (Pivot 175)'])\n",
      "# good_targets = np.array(['HD285507 #227 (Pivot 223)' ])\n",
      "# good_targets = np.array(['M67 12V14','M67 Bright Stars' ])\n",
      "# good_targets = np.array(['HD1581 #176 (Pivot 175)'])\n",
      "# good_targets = np.array(['47Tuc center'])\n",
      "\n",
      "# good_pivots = [175,175,224]\n",
      "t0 = 0  \n",
      "order = 0 \n",
      "dirs = glob.glob('*')\n",
      "for j in dirs:\n",
      "#     print os.path.abspath(j +'/data/ccd_1/')\n",
      "#     os.chdir(j+'/data/ccd_1/')\n",
      "#     print j +'/data/ccd_1/'\n",
      "    for i in glob.glob(j +'/data/ccd_1/*.fits'):\n",
      "        a = pf.open(i)\n",
      "        if a[0].header['NDFCLASS'] == 'MFOBJECT':\n",
      "            if a[0].header['OBJECT'] in good_targets:\n",
      "                pivot_idx = np.where(a[0].header['OBJECT']== good_targets)[0][0]\n",
      "                e = float(a[0].header['EXPOSED'])/2/24/60/60 # EXPOSED/2 in days\n",
      "                inDate = np.hstack((a[0].header['UTDATE'].split(':'),a[0].header['UTSTART'].split(':'))).astype(int)\n",
      "                UTMJD = toolbox.gd2jd(inDate, TZ=0)-2400000.5 + e\n",
      "                if t0==0:t0=UTMJD\n",
      "                tDiff=UTMJD-t0\n",
      "#                 print str(order)+' & '+ i+' & HD1581 & '+a[0].header['SOURCE']+' & '+str(UTMJD)+' & '+str(tDiff)+' & '+str(a[0].header['EXPOSED']) +' \\\\\\\\'\n",
      "#                 print str(order)+' & '+ i.split('/')[-1]+' & HD285507 & '+a[0].header['SOURCE']+' & '+str(UTMJD)+' & '+str(tDiff)+' & '+str(a[0].header['EXPOSED']) +' \\\\\\\\'\n",
      "                print str(order)+' & '+ i.split('/')[-1]+' & '+ 'rhoTuc' +' & '+a[0].header['SOURCE']+' & '+str(UTMJD)+' & '+str(tDiff)+' & '+str(a[0].header['EXPOSED']) +' \\\\\\\\'\n",
      "#                 print str(order)+' & '+ i.split('/')[-1]+' & '+a[0].header['OBJECT']+' & '+a[0].header['SOURCE']+' & '+str(UTMJD)+' & '+str(tDiff)+' & '+str(a[0].header['EXPOSED']) +' \\\\\\\\'\n",
      "                order +=1\n",
      "#                 raw.append((i, a[0].header['OBJECT'],a[0].header['SOURCE'],a[0].header['UTMJD'],a[0].header['EXPOSED']))            \n",
      "        a.close\n",
      "# raw = np.array(raw)"
     ],
     "language": "python",
     "metadata": {},
     "outputs": []
    },
    {
     "cell_type": "heading",
     "level": 3,
     "metadata": {},
     "source": [
      "Stars Names and magnitudes"
     ]
    },
    {
     "cell_type": "code",
     "collapsed": false,
     "input": [
      "data"
     ],
     "language": "python",
     "metadata": {},
     "outputs": [
      {
       "metadata": {},
       "output_type": "pyout",
       "prompt_number": 7,
       "text": [
        "array([['Field02', '7.37', '128.0', '61.6887', '15.2102'],\n",
        "       ['Field03', '8.23', '163.0', '61.5841', '15.2324'],\n",
        "       ['Field04', '6.55', '292.0', '61.7312', '15.5528'],\n",
        "       ['Field05', '5.03', '47.0', '61.925', '15.1627'],\n",
        "       ['Field06', '6.02', '137.0', '61.6058', '15.1266'],\n",
        "       ['Field07', '6.81', '234.0', '61.4808', '15.4989'],\n",
        "       ['Field08', '7.56', '74.0', '61.8925', '14.9866'],\n",
        "       ['Field09', '6.45', '270.0', '61.5670', '15.6981'],\n",
        "       ['Field11', '8.56', '104.0', '61.6966', '14.8656'],\n",
        "       ['Field12', '7.51', '283.0', '61.6195', '15.8215'],\n",
        "       ['Field13', '4.82', '245.0', '61.3508', '15.6852'],\n",
        "       ['Field14', '8.9', '226.0', '61.2616', '15.5628'],\n",
        "       ['Field15', '7.99', '148.0', '61.3512', '14.9353'],\n",
        "       ['Field16', '4.81', '55.0', '62.1195', '14.8940'],\n",
        "       ['Field17', '8.91', '272.0', '61.4945', '15.9019'],\n",
        "       ['Field18', '4.38', '257.0', '61.36', '15.8304'],\n",
        "       ['Field19', '6.56', '316.0', '61.9583', '16.0199'],\n",
        "       ['Field21', '8.28', '185.0', '61.0075', '15.1772'],\n",
        "       ['Field22', '8.87', '0.0', '62.0508', '16.0182'],\n",
        "       ['Field23', '5.2', '172.0', '61.0541', '15.0268'],\n",
        "       ['Field24', '4.14', '61.0', '62.1975', '14.7010'],\n",
        "       ['Field25', '7.91', '191.0', '60.9133', '15.2368'],\n",
        "       ['Field27', '8.88', '282.0', '61.5258', '16.1433'],\n",
        "       ['Field28', '8.03', '77.0', '62.0675', '14.5516'],\n",
        "       ['Field30', '8.98', '286.0', '61.5745', '16.1838'],\n",
        "       ['Field31', '8.11', '357.0', '62.4845', '15.8681'],\n",
        "       ['Field32', '6.24', '6.0', '62.6704', '15.2370'],\n",
        "       ['Field33', '5.38', '330.0', '62.1875', '16.1231'],\n",
        "       ['Field34', '8.41', '66.0', '62.2195', '14.5467'],\n",
        "       ['Field35', '8.77', '356.0', '62.5095', '15.9136'],\n",
        "       ['Field36', '5.99', '109.0', '61.5954', '14.4021'],\n",
        "       ['Field37', '5.79', '323.0', '62.1370', '16.2338'],\n",
        "       ['Field38', '7.73', '106.0', '61.6375', '14.3695'],\n",
        "       ['Field39', '7.99', '105.0', '61.6483', '14.3666'],\n",
        "       ['Field40', '8.35', '184.0', '60.7675', '15.1020'],\n",
        "       ['Field41', '8.94', '337.0', '62.3358', '16.1591'],\n",
        "       ['Field42', '7.28', '354.0', '62.5466', '15.9771'],\n",
        "       ['Giant01', '7.67', '223.0', '61.755', '15.3350'],\n",
        "       ['Giant02', '6.44', '52.0', '61.8854', '15.1958'],\n",
        "       ['Giant03', '8.96', '113.0', '61.7254', '15.1414'],\n",
        "       ['Giant04', '8.05', '230.0', '61.535', '15.4393'],\n",
        "       ['Giant05', '6.5', '229.0', '61.3945', '15.5036'],\n",
        "       ['Giant06', '8.77', '253.0', '61.4858', '15.6325'],\n",
        "       ['Giant08', '8.97', '30.0', '62.1862', '15.1133'],\n",
        "       ['Giant09', '5.38', '256.0', '61.4266', '15.7380'],\n",
        "       ['Giant10', '7.03', '78.0', '61.9258', '14.8428'],\n",
        "       ['Giant11', '7.47', '320.0', '61.9291', '15.8441'],\n",
        "       ['Giant12', '7.36', '14.0', '62.3204', '15.2008'],\n",
        "       ['Giant13', '6.42', '90.0', '61.8366', '14.7395'],\n",
        "       ['Giant14', '8.67', '216.0', '61.145', '15.4934'],\n",
        "       ['Giant15', '8.93', '298.0', '61.7641', '15.9862'],\n",
        "       ['Giant16', '8.99', '13.0', '62.4287', '15.1821'],\n",
        "       ['Giant17', '8.8', '242.0', '61.2008', '15.7613'],\n",
        "       ['Giant18', '8.85', '123.0', '61.4875', '14.6949'],\n",
        "       ['Giant19', '6.12', '319.0', '62.0325', '16.0247'],\n",
        "       ['Giant20', '8.09', '366.0', '62.4545', '15.7201'],\n",
        "       ['Giant21', '7.09', '322.0', '62.0483', '16.0580'],\n",
        "       ['Giant22', '8.46', '299.0', '61.7708', '16.1327'],\n",
        "       ['Giant23', '7.04', '341.0', '62.2641', '15.9649'],\n",
        "       ['Giant24', '6.54', '117.0', '61.5145', '14.5554'],\n",
        "       ['Giant25', '7.77', '207.0', '60.9020', '15.4362'],\n",
        "       ['Giant26', '8.83', '169.0', '60.975', '14.9493'],\n",
        "       ['Giant27', '7.88', '178.0', '60.92', '15.0532'],\n",
        "       ['Giant28', '8.4', '16.0', '62.6095', '15.1044'],\n",
        "       ['Giant29', '8.3', '122.0', '61.4320', '14.5306'],\n",
        "       ['Giant30', '8.91', '220.0', '60.8920', '15.6041'],\n",
        "       ['Giant31', '8.96', '160.0', '60.995', '14.8089'],\n",
        "       ['Giant32', '8.75', '268.0', '61.3116', '16.1536'],\n",
        "       ['Giant33', '8.32', '112.0', '61.5558', '14.4238'],\n",
        "       ['Giant34', '8.11', '237.0', '60.9516', '15.8575'],\n",
        "       ['Giant35', '8.1', '3.0', '62.7275', '15.2627'],\n",
        "       ['Giant36', '6.64', '75.0', '62.1075', '14.4573'],\n",
        "       ['Giant37', '8.26', '219.0', '60.8041', '15.6249'],\n",
        "       ['Giant38', '8.58', '164.0', '60.8841', '14.8275']], \n",
        "      dtype='|S7')"
       ]
      }
     ],
     "prompt_number": 7
    },
    {
     "cell_type": "code",
     "collapsed": false,
     "input": [
      "data=np.load('data.npy')\n",
      "# RVs=np.load('RVs.npy')\n",
      "# sigmas=np.load('sigmas.npy')\n",
      "# baryVels=np.load('baryVels.npy')\n",
      "# JDs=np.load('JDs.npy')\n",
      "# thisSlice = RVs\n",
      "# totalStars = RVs.shape[0]\n",
      "# goodStars = np.sum(((thisSlice<5000) & (thisSlice!=0)), axis=0).astype(float)\n",
      "# size = np.array(thisSlice.shape)\n",
      "# total = np.reshape(np.repeat(size[0], size[1]*size[2]),(size[1],size[2]))\n",
      "# labels = ['Blue','Green','Red','IR']\n",
      "labels = ['Name','Vmag']\n",
      "a = pd.DataFrame(data[:,:2])\n",
      "a.columns = labels\n",
      "\n",
      "print a.to_latex()"
     ],
     "language": "python",
     "metadata": {},
     "outputs": [
      {
       "output_type": "stream",
       "stream": "stdout",
       "text": [
        "\\begin{tabular}{lll}\n",
        "\\toprule\n",
        "{} &     Name &  Vmag \\\\\n",
        "\\midrule\n",
        "0  &  Field02 &  7.37 \\\\\n",
        "1  &  Field03 &  8.23 \\\\\n",
        "2  &  Field04 &  6.55 \\\\\n",
        "3  &  Field05 &  5.03 \\\\\n",
        "4  &  Field06 &  6.02 \\\\\n",
        "5  &  Field07 &  6.81 \\\\\n",
        "6  &  Field08 &  7.56 \\\\\n",
        "7  &  Field09 &  6.45 \\\\\n",
        "8  &  Field11 &  8.56 \\\\\n",
        "9  &  Field12 &  7.51 \\\\\n",
        "10 &  Field13 &  4.82 \\\\\n",
        "11 &  Field14 &   8.9 \\\\\n",
        "12 &  Field15 &  7.99 \\\\\n",
        "13 &  Field16 &  4.81 \\\\\n",
        "14 &  Field17 &  8.91 \\\\\n",
        "15 &  Field18 &  4.38 \\\\\n",
        "16 &  Field19 &  6.56 \\\\\n",
        "17 &  Field21 &  8.28 \\\\\n",
        "18 &  Field22 &  8.87 \\\\\n",
        "19 &  Field23 &   5.2 \\\\\n",
        "20 &  Field24 &  4.14 \\\\\n",
        "21 &  Field25 &  7.91 \\\\\n",
        "22 &  Field27 &  8.88 \\\\\n",
        "23 &  Field28 &  8.03 \\\\\n",
        "24 &  Field30 &  8.98 \\\\\n",
        "25 &  Field31 &  8.11 \\\\\n",
        "26 &  Field32 &  6.24 \\\\\n",
        "27 &  Field33 &  5.38 \\\\\n",
        "28 &  Field34 &  8.41 \\\\\n",
        "29 &  Field35 &  8.77 \\\\\n",
        "30 &  Field36 &  5.99 \\\\\n",
        "31 &  Field37 &  5.79 \\\\\n",
        "32 &  Field38 &  7.73 \\\\\n",
        "33 &  Field39 &  7.99 \\\\\n",
        "34 &  Field40 &  8.35 \\\\\n",
        "35 &  Field41 &  8.94 \\\\\n",
        "36 &  Field42 &  7.28 \\\\\n",
        "37 &  Giant01 &  7.67 \\\\\n",
        "38 &  Giant02 &  6.44 \\\\\n",
        "39 &  Giant03 &  8.96 \\\\\n",
        "40 &  Giant04 &  8.05 \\\\\n",
        "41 &  Giant05 &   6.5 \\\\\n",
        "42 &  Giant06 &  8.77 \\\\\n",
        "43 &  Giant08 &  8.97 \\\\\n",
        "44 &  Giant09 &  5.38 \\\\\n",
        "45 &  Giant10 &  7.03 \\\\\n",
        "46 &  Giant11 &  7.47 \\\\\n",
        "47 &  Giant12 &  7.36 \\\\\n",
        "48 &  Giant13 &  6.42 \\\\\n",
        "49 &  Giant14 &  8.67 \\\\\n",
        "50 &  Giant15 &  8.93 \\\\\n",
        "51 &  Giant16 &  8.99 \\\\\n",
        "52 &  Giant17 &   8.8 \\\\\n",
        "53 &  Giant18 &  8.85 \\\\\n",
        "54 &  Giant19 &  6.12 \\\\\n",
        "55 &  Giant20 &  8.09 \\\\\n",
        "56 &  Giant21 &  7.09 \\\\\n",
        "57 &  Giant22 &  8.46 \\\\\n",
        "58 &  Giant23 &  7.04 \\\\\n",
        "59 &  Giant24 &  6.54 \\\\\n",
        "60 &  Giant25 &  7.77 \\\\\n",
        "61 &  Giant26 &  8.83 \\\\\n",
        "62 &  Giant27 &  7.88 \\\\\n",
        "63 &  Giant28 &   8.4 \\\\\n",
        "64 &  Giant29 &   8.3 \\\\\n",
        "65 &  Giant30 &  8.91 \\\\\n",
        "66 &  Giant31 &  8.96 \\\\\n",
        "67 &  Giant32 &  8.75 \\\\\n",
        "68 &  Giant33 &  8.32 \\\\\n",
        "69 &  Giant34 &  8.11 \\\\\n",
        "70 &  Giant35 &   8.1 \\\\\n",
        "71 &  Giant36 &  6.64 \\\\\n",
        "72 &  Giant37 &  8.26 \\\\\n",
        "73 &  Giant38 &  8.58 \\\\\n",
        "\\bottomrule\n",
        "\\end{tabular}\n",
        "\n"
       ]
      }
     ],
     "prompt_number": 6
    },
    {
     "cell_type": "heading",
     "level": 3,
     "metadata": {},
     "source": [
      "W tests"
     ]
    },
    {
     "cell_type": "code",
     "collapsed": false,
     "input": [
      "\n",
      "# deltay = np.linspace(0, 4000)\n",
      "# deltay = np.linspace(-2000, 2000)\n",
      "# deltay = np.linspace(-4000, 0)\n",
      "# SNRs = np.ones(50)*30\n",
      "# SNRs = np.linspace(10, 100)\n",
      "# SNRs = np.linspace(100, 10)\n",
      "# W = calibrator_weights2(deltay,SNRs)\n",
      "\n",
      "data=np.load('npy/data.npy')\n",
      "# RVs=np.load('npy/RVs.npy')\n",
      "SNRs=np.load('npy/SNRs.npy')\n",
      "allW = np.load('npy/allW_PM.npy')\n",
      "idx = np.where(data[:,0]=='Giant01')[0]\n",
      "for cam in range(4):\n",
      "    W = allW[:,cam,idx]\n",
      "\n",
      "    thisSNRs = SNRs[:,0,cam]\n",
      "\n",
      "#     plt.plot(deltay/np.max(np.abs(deltay)), label = 'deltay')\n",
      "    plt.plot(thisSNRs, label= 'SNR')\n",
      "    plt.plot(W*np.nanmax(thisSNRs), label = 'W')\n",
      "    plt.legend(loc=0)\n",
      "    # title = 'PM - deltay '+str(np.min(deltay))+','+str(np.max(deltay))+' - SNR '+str(np.min(SNRs))+','+str(np.max(SNRs))\n",
      "#     title = 'DM - deltay '+str(np.min(deltay))+','+str(np.max(deltay))+' - SNR '+str(np.min(SNRs))+','+str(np.max(SNRs))\n",
      "    title = 'PM - cam '+str(cam)+ ' ,' + str(data[idx])\n",
      "    plt.title(title)\n",
      "    plt.grid(True)\n",
      "    plt.savefig(('PM_'+str(cam)))\n",
      "    plt.show()\n"
     ],
     "language": "python",
     "metadata": {},
     "outputs": [
      {
       "ename": "IOError",
       "evalue": "[Errno 2] No such file or directory: 'npy/data.npy'",
       "output_type": "pyerr",
       "traceback": [
        "\u001b[0;31m---------------------------------------------------------------------------\u001b[0m\n\u001b[0;31mIOError\u001b[0m                                   Traceback (most recent call last)",
        "\u001b[0;32m<ipython-input-7-0ca4fb146523>\u001b[0m in \u001b[0;36m<module>\u001b[0;34m()\u001b[0m\n\u001b[1;32m      8\u001b[0m \u001b[0;31m# W = calibrator_weights2(deltay,SNRs)\u001b[0m\u001b[0;34m\u001b[0m\u001b[0;34m\u001b[0m\u001b[0m\n\u001b[1;32m      9\u001b[0m \u001b[0;34m\u001b[0m\u001b[0m\n\u001b[0;32m---> 10\u001b[0;31m \u001b[0mdata\u001b[0m\u001b[0;34m=\u001b[0m\u001b[0mnp\u001b[0m\u001b[0;34m.\u001b[0m\u001b[0mload\u001b[0m\u001b[0;34m(\u001b[0m\u001b[0;34m'npy/data.npy'\u001b[0m\u001b[0;34m)\u001b[0m\u001b[0;34m\u001b[0m\u001b[0m\n\u001b[0m\u001b[1;32m     11\u001b[0m \u001b[0;31m# RVs=np.load('npy/RVs.npy')\u001b[0m\u001b[0;34m\u001b[0m\u001b[0;34m\u001b[0m\u001b[0m\n\u001b[1;32m     12\u001b[0m \u001b[0mSNRs\u001b[0m\u001b[0;34m=\u001b[0m\u001b[0mnp\u001b[0m\u001b[0;34m.\u001b[0m\u001b[0mload\u001b[0m\u001b[0;34m(\u001b[0m\u001b[0;34m'npy/SNRs.npy'\u001b[0m\u001b[0;34m)\u001b[0m\u001b[0;34m\u001b[0m\u001b[0m\n",
        "\u001b[0;32m/Users/Carlos/Library/Enthought/Canopy_64bit/User/lib/python2.7/site-packages/numpy-1.8.1-py2.7-macosx-10.6-x86_64.egg/numpy/lib/npyio.pyc\u001b[0m in \u001b[0;36mload\u001b[0;34m(file, mmap_mode)\u001b[0m\n\u001b[1;32m    368\u001b[0m     \u001b[0mown_fid\u001b[0m \u001b[0;34m=\u001b[0m \u001b[0mFalse\u001b[0m\u001b[0;34m\u001b[0m\u001b[0m\n\u001b[1;32m    369\u001b[0m     \u001b[0;32mif\u001b[0m \u001b[0misinstance\u001b[0m\u001b[0;34m(\u001b[0m\u001b[0mfile\u001b[0m\u001b[0;34m,\u001b[0m \u001b[0mbasestring\u001b[0m\u001b[0;34m)\u001b[0m\u001b[0;34m:\u001b[0m\u001b[0;34m\u001b[0m\u001b[0m\n\u001b[0;32m--> 370\u001b[0;31m         \u001b[0mfid\u001b[0m \u001b[0;34m=\u001b[0m \u001b[0mopen\u001b[0m\u001b[0;34m(\u001b[0m\u001b[0mfile\u001b[0m\u001b[0;34m,\u001b[0m \u001b[0;34m\"rb\"\u001b[0m\u001b[0;34m)\u001b[0m\u001b[0;34m\u001b[0m\u001b[0m\n\u001b[0m\u001b[1;32m    371\u001b[0m         \u001b[0mown_fid\u001b[0m \u001b[0;34m=\u001b[0m \u001b[0mTrue\u001b[0m\u001b[0;34m\u001b[0m\u001b[0m\n\u001b[1;32m    372\u001b[0m     \u001b[0;32melif\u001b[0m \u001b[0misinstance\u001b[0m\u001b[0;34m(\u001b[0m\u001b[0mfile\u001b[0m\u001b[0;34m,\u001b[0m \u001b[0mgzip\u001b[0m\u001b[0;34m.\u001b[0m\u001b[0mGzipFile\u001b[0m\u001b[0;34m)\u001b[0m\u001b[0;34m:\u001b[0m\u001b[0;34m\u001b[0m\u001b[0m\n",
        "\u001b[0;31mIOError\u001b[0m: [Errno 2] No such file or directory: 'npy/data.npy'"
       ]
      }
     ],
     "prompt_number": 7
    },
    {
     "cell_type": "code",
     "collapsed": false,
     "input": [],
     "language": "python",
     "metadata": {},
     "outputs": []
    }
   ],
   "metadata": {}
  }
 ]
}