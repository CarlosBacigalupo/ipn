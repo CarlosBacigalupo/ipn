{
 "metadata": {
  "name": ""
 },
 "nbformat": 3,
 "nbformat_minor": 0,
 "worksheets": [
  {
   "cells": [
    {
     "cell_type": "code",
     "collapsed": false,
     "input": [
      "import numpy as np\n",
      "import pylab as plt"
     ],
     "language": "python",
     "metadata": {},
     "outputs": [],
     "prompt_number": 22
    },
    {
     "cell_type": "code",
     "collapsed": false,
     "input": [
      "K0 = 28.4329"
     ],
     "language": "python",
     "metadata": {},
     "outputs": [],
     "prompt_number": 6
    },
    {
     "cell_type": "code",
     "collapsed": false,
     "input": [
      "\n",
      "pMass = 1\n",
      "P = 6./365"
     ],
     "language": "python",
     "metadata": {},
     "outputs": [],
     "prompt_number": 13
    },
    {
     "cell_type": "code",
     "collapsed": false,
     "input": [
      "K = K0 * pMass * sMass**(-2./3.) * P**(-1./3.)"
     ],
     "language": "python",
     "metadata": {},
     "outputs": [],
     "prompt_number": 15
    },
    {
     "cell_type": "code",
     "collapsed": false,
     "input": [
      "P= np.arange(2,10,0.1)\n",
      "K = K0 * pMass * sMass**(-2./3.) * (P/365)**(-1./3.)"
     ],
     "language": "python",
     "metadata": {},
     "outputs": [],
     "prompt_number": 27
    },
    {
     "cell_type": "code",
     "collapsed": false,
     "input": [
      "P= np.arange(2,30,0.1)\n",
      "sMass = 0.5\n",
      "K = K0 * pMass * sMass**(-2./3.) * (P/365)**(-1./3.)\n",
      "plt.plot(P,K, label= str(sMass)+' M$_{sun}$ star')\n",
      "sMass = 1\n",
      "K = K0 * pMass * sMass**(-2./3.) * (P/365)**(-1./3.)\n",
      "plt.plot(P,K, label= str(sMass)+' M$_{sun}$ star')\n",
      "sMass = 1.5\n",
      "K = K0 * pMass * sMass**(-2./3.) * (P/365)**(-1./3.)\n",
      "plt.plot(P,K, label= str(sMass)+' M$_{sun}$ star')\n",
      "\n",
      "plt.ylabel('RV [m/s]')\n",
      "plt.xlabel('P (days)')\n",
      "plt.title('RV signal for a 1 M$_{jup}$ planet')\n",
      "plt.legend(loc=0)\n",
      "plt.show()"
     ],
     "language": "python",
     "metadata": {},
     "outputs": [],
     "prompt_number": 41
    },
    {
     "cell_type": "code",
     "collapsed": false,
     "input": [
      "# P1 = np.random.random(10)*10\n",
      "# sMass = 0.5\n",
      "# RV1 = 120*np.sin(P1)\n",
      "yerr1 = 200+np.random.random(10)*500\n",
      "# yerr1 = np.zeros(10)\n",
      "\n",
      "plt.errorbar(P1,RV1, label= 'Simulated Data', c='r', fmt = 'o', yerr=yerr1)\n",
      "P= np.arange(0,10,0.1)\n",
      "RV = 120*np.sin(P)\n",
      "plt.plot(P,RV, label='Fitted Curve')\n",
      "# sMass = 1\n",
      "# K = K0 * pMass * sMass**(-2./3.) * (P/365)**(-1./3.)\n",
      "# plt.plot(P,K, label= str(sMass)+' M$_{sun}$ star')\n",
      "# sMass = 1.5\n",
      "# K = K0 * pMass * sMass**(-2./3.) * (P/365)**(-1./3.)\n",
      "# plt.plot(P,K, label= str(sMass)+' M$_{sun}$ star')\n",
      "\n",
      "plt.ylabel('RV [m/s]')\n",
      "plt.xlabel('P (days)')\n",
      "plt.title('Simulated RV signal for a 1 M$_{jup}$ planet')\n",
      "plt.legend(loc=0)\n",
      "plt.show()"
     ],
     "language": "python",
     "metadata": {},
     "outputs": [],
     "prompt_number": 115
    },
    {
     "cell_type": "code",
     "collapsed": false,
     "input": [
      "# P1 = np.random.random(10)*10\n",
      "# sMass = 0.5\n",
      "# RV1 = 40*np.sin(P1*2*np.pi)\n",
      "yerr1 = 200+np.random.random(10)*500\n",
      "# yerr1 = np.zeros(10)\n",
      "\n",
      "plt.errorbar(P1,RV1, label= 'Simulated Data', c='r', fmt = 'o', yerr=yerr1)\n",
      "P= np.arange(0,10,0.1)\n",
      "RV = 40*np.sin(P*2*np.pi)\n",
      "plt.plot(P,RV, label='Fitted Curve')\n",
      "sMass = 1\n",
      "# K = K0 * pMass * sMass**(-2./3.) * (P/365)**(-1./3.)\n",
      "# plt.plot(P,K, label= str(sMass)+' M$_{sun}$ star')\n",
      "# sMass = 1.5\n",
      "# K = K0 * pMass * sMass**(-2./3.) * (P/365)**(-1./3.)\n",
      "# plt.plot(P,K, label= str(sMass)+' M$_{sun}$ star')\n",
      "\n",
      "plt.ylabel('RV [m/s]')\n",
      "plt.xlabel('P (days)')\n",
      "plt.title('Simulated oscillations for a 1.6 M$_{sum}$ star')\n",
      "plt.legend(loc=0)\n",
      "plt.show()"
     ],
     "language": "python",
     "metadata": {},
     "outputs": [],
     "prompt_number": 119
    },
    {
     "cell_type": "code",
     "collapsed": false,
     "input": [
      "0.015/7000*3e8"
     ],
     "language": "python",
     "metadata": {},
     "outputs": [
      {
       "metadata": {},
       "output_type": "pyout",
       "prompt_number": 126,
       "text": [
        "642.8571428571428"
       ]
      }
     ],
     "prompt_number": 126
    },
    {
     "cell_type": "code",
     "collapsed": false,
     "input": [],
     "language": "python",
     "metadata": {},
     "outputs": []
    }
   ],
   "metadata": {}
  }
 ]
}