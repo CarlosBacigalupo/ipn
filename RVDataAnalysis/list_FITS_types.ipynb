{
 "cells": [
  {
   "cell_type": "code",
   "execution_count": 1,
   "metadata": {
    "collapsed": true
   },
   "outputs": [],
   "source": [
    "import pyfits as pf\n",
    "import numpy as np\n",
    "import pylab as plt\n",
    "import os\n",
    "import glob\n",
    "import pickle\n",
    "import RVTools as RVT\n",
    "import toolbox\n",
    "import sys\n"
   ]
  },
  {
   "cell_type": "code",
   "execution_count": 30,
   "metadata": {
    "collapsed": false
   },
   "outputs": [
    {
     "name": "stdout",
     "output_type": "stream",
     "text": [
      "/Users/Carlos/Documents/HERMES/data/140109/data/ccd_1\n"
     ]
    }
   ],
   "source": [
    "cd ~/Documents/HERMES/data/140109/data/ccd_1/"
   ]
  },
  {
   "cell_type": "code",
   "execution_count": 31,
   "metadata": {
    "collapsed": false
   },
   "outputs": [
    {
     "name": "stdout",
     "output_type": "stream",
     "text": [
      "09jan10001.fits BIAS Bias Frame\n",
      "09jan10002.fits BIAS Bias Frame\n",
      "09jan10003.fits BIAS Bias Frame\n",
      "09jan10004.fits BIAS Bias Frame\n",
      "09jan10005.fits BIAS Bias Frame\n",
      "09jan10006.fits BIAS Bias Frame\n",
      "09jan10007.fits BIAS Bias Frame\n",
      "09jan10008.fits BIAS Bias Frame\n",
      "09jan10009.fits BIAS Bias Frame\n",
      "09jan10010.fits BIAS Bias Frame\n",
      "09jan10011.fits MFOBJECT NGC2477 Short Field\n",
      "09jan10012.fits MFOBJECT NGC2477 Short Field\n",
      "09jan10013.fits MFOBJECT NGC2477 Short Field\n",
      "09jan10014.fits MFFFF Fibre Flat Field - Quartz_75b\n",
      "09jan10015.fits MFARC ARC - ThXe_2 ThXe_1\n",
      "09jan10016.fits MFOBJECT NGC2477 Long Field\n",
      "09jan10017.fits MFOBJECT NGC2477 Long Field\n",
      "09jan10018.fits MFOBJECT NGC2477 Long Field\n",
      "09jan10019.fits MFARC ARC - ThXe_2 ThXe_1\n",
      "09jan10020.fits MFFFF Fibre Flat Field - Quartz_75b\n",
      "09jan10021.fits MFOBJECT NGC2477 Short Field\n",
      "09jan10022.fits MFOBJECT NGC2477 Short Field\n",
      "09jan10023.fits MFOBJECT NGC2477 Short Field\n",
      "09jan10024.fits MFARC ARC - ThXe_2 ThXe_1\n",
      "09jan10025.fits MFFFF Fibre Flat Field - Quartz_75b\n",
      "09jan10026.fits MFOBJECT M67 Long Field\n",
      "09jan10027.fits MFOBJECT M67 Long Field\n",
      "09jan10028.fits MFARC ARC - ThXe_2 ThXe_1\n",
      "09jan10029.fits MFFFF Fibre Flat Field - Quartz_75b\n",
      "09jan10030.fits MFOBJECT M67 Short Field\n",
      "09jan10031.fits MFOBJECT M67 Short Field\n",
      "09jan10032.fits MFOBJECT M67 Short Field\n",
      "09jan10033.fits MFOBJECT M67 Short Field\n",
      "09jan10034.fits MFARC ARC - ThXe_2 ThXe_1\n",
      "09jan10035.fits MFFFF Fibre Flat Field - Quartz_75b\n",
      "09jan10036.fits MFOBJECT M67 Long Field\n",
      "09jan10037.fits MFARC ARC - ThXe_2 ThXe_1\n",
      "09jan10038.fits MFFFF Fibre Flat Field - Quartz_75b\n",
      "09jan10039.fits MFOBJECT NGC2477 Short Field\n",
      "09jan10040.fits MFOBJECT NGC2477 Short Field\n",
      "09jan10041.fits MFOBJECT NGC2477 Short Field\n",
      "09jan10042.fits MFOBJECT NGC2477 Short Field\n",
      "09jan10043.fits MFARC ARC - ThXe_2 ThXe_1\n",
      "09jan10044.fits MFFFF Fibre Flat Field - Quartz_75b\n",
      "09jan10045.fits MFOBJECT M67 Long Field\n",
      "09jan10046.fits MFARC ARC - ThXe_2 ThXe_1\n",
      "09jan10047.fits MFFFF Fibre Flat Field - Quartz_75b\n",
      "09jan10048.fits MFOBJECT M67 Short Field\n",
      "09jan10049.fits MFOBJECT M67 Short Field\n",
      "09jan10050.fits MFOBJECT M67 Short Field\n",
      "09jan10051.fits MFARC ARC - ThXe_2 ThXe_1\n",
      "09jan10052.fits MFFFF Fibre Flat Field - Quartz_75b\n",
      "09jan10053.fits MFOBJECT NGC2477 Long Field\n",
      "09jan10054.fits MFARC ARC - ThXe_2 ThXe_1\n",
      "09jan10055.fits MFFFF Fibre Flat Field - Quartz_75b\n",
      "09jan10056.fits MFOBJECT NGC2477 Short Field\n",
      "09jan10057.fits MFOBJECT NGC2477 Short Field\n",
      "09jan10058.fits MFOBJECT NGC2477 Short Field\n",
      "09jan10059.fits MFARC ARC - ThXe_2 ThXe_1\n",
      "09jan10060.fits MFFFF Fibre Flat Field - Quartz_75b\n"
     ]
    }
   ],
   "source": [
    "b= glob.glob('*.fits')\n",
    "for thisFile in b:\n",
    "    a = pf.open(thisFile)\n",
    "    print thisFile,\n",
    "    print a[0].header['NDFCLASS'],\n",
    "    print a[0].header['OBJECT']\n"
   ]
  },
  {
   "cell_type": "code",
   "execution_count": 10,
   "metadata": {
    "collapsed": false
   },
   "outputs": [
    {
     "name": "stdout",
     "output_type": "stream",
     "text": [
      "11feb10001.fits  11feb10008.fits  11feb10015.fits  11feb10022.fits\r\n",
      "11feb10002.fits  11feb10009.fits  11feb10016.fits  11feb10023.fits\r\n",
      "11feb10003.fits  11feb10010.fits  11feb10017.fits  11feb10024.fits\r\n",
      "11feb10004.fits  11feb10011.fits  11feb10018.fits  11feb10025.fits\r\n",
      "11feb10005.fits  11feb10012.fits  11feb10019.fits  11feb10026.fits\r\n",
      "11feb10006.fits  11feb10013.fits  11feb10020.fits\r\n",
      "11feb10007.fits  11feb10014.fits  11feb10021.fits\r\n"
     ]
    }
   ],
   "source": [
    "ls"
   ]
  },
  {
   "cell_type": "code",
   "execution_count": null,
   "metadata": {
    "collapsed": true
   },
   "outputs": [],
   "source": []
  }
 ],
 "metadata": {
  "kernelspec": {
   "display_name": "Python 2",
   "language": "python",
   "name": "python2"
  },
  "language_info": {
   "codemirror_mode": {
    "name": "ipython",
    "version": 2
   },
   "file_extension": ".py",
   "mimetype": "text/x-python",
   "name": "python",
   "nbconvert_exporter": "python",
   "pygments_lexer": "ipython2",
   "version": "2.7.3"
  }
 },
 "nbformat": 4,
 "nbformat_minor": 0
}
