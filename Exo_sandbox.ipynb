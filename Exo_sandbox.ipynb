{
 "metadata": {
  "name": "",
  "signature": "sha256:d435b1fffaa7703c1e12489e3c997e14e0f6b21c779c4b1f019f4519f625b58f"
 },
 "nbformat": 3,
 "nbformat_minor": 0,
 "worksheets": [
  {
   "cells": [
    {
     "cell_type": "code",
     "collapsed": false,
     "input": [
      "import numpy as np\n",
      "import pylab as plt"
     ],
     "language": "python",
     "metadata": {},
     "outputs": [],
     "prompt_number": 1
    },
    {
     "cell_type": "markdown",
     "metadata": {},
     "source": [
      "radial velocity semi aplitude"
     ]
    },
    {
     "cell_type": "code",
     "collapsed": false,
     "input": [
      "K0 = 28.4329"
     ],
     "language": "python",
     "metadata": {},
     "outputs": [],
     "prompt_number": 2
    },
    {
     "cell_type": "code",
     "collapsed": false,
     "input": [
      "pMass = 1\n",
      "P = 6./365"
     ],
     "language": "python",
     "metadata": {},
     "outputs": [],
     "prompt_number": 3
    },
    {
     "cell_type": "code",
     "collapsed": false,
     "input": [
      "K = K0 * pMass * sMass**(-2./3.) * P**(-1./3.)"
     ],
     "language": "python",
     "metadata": {},
     "outputs": [
      {
       "ename": "NameError",
       "evalue": "name 'sMass' is not defined",
       "output_type": "pyerr",
       "traceback": [
        "\u001b[0;31m---------------------------------------------------------------------------\u001b[0m\n\u001b[0;31mNameError\u001b[0m                                 Traceback (most recent call last)",
        "\u001b[0;32m<ipython-input-4-cab822bbb937>\u001b[0m in \u001b[0;36m<module>\u001b[0;34m()\u001b[0m\n\u001b[0;32m----> 1\u001b[0;31m \u001b[0mK\u001b[0m \u001b[0;34m=\u001b[0m \u001b[0mK0\u001b[0m \u001b[0;34m*\u001b[0m \u001b[0mpMass\u001b[0m \u001b[0;34m*\u001b[0m \u001b[0msMass\u001b[0m\u001b[0;34m**\u001b[0m\u001b[0;34m(\u001b[0m\u001b[0;34m-\u001b[0m\u001b[0;36m2.\u001b[0m\u001b[0;34m/\u001b[0m\u001b[0;36m3.\u001b[0m\u001b[0;34m)\u001b[0m \u001b[0;34m*\u001b[0m \u001b[0mP\u001b[0m\u001b[0;34m**\u001b[0m\u001b[0;34m(\u001b[0m\u001b[0;34m-\u001b[0m\u001b[0;36m1.\u001b[0m\u001b[0;34m/\u001b[0m\u001b[0;36m3.\u001b[0m\u001b[0;34m)\u001b[0m\u001b[0;34m\u001b[0m\u001b[0m\n\u001b[0m",
        "\u001b[0;31mNameError\u001b[0m: name 'sMass' is not defined"
       ]
      }
     ],
     "prompt_number": 4
    },
    {
     "cell_type": "code",
     "collapsed": false,
     "input": [
      "P= np.arange(2,10,0.1)\n",
      "K = K0 * pMass * sMass**(-2./3.) * (P/365)**(-1./3.)"
     ],
     "language": "python",
     "metadata": {},
     "outputs": [
      {
       "ename": "NameError",
       "evalue": "name 'sMass' is not defined",
       "output_type": "pyerr",
       "traceback": [
        "\u001b[0;31m---------------------------------------------------------------------------\u001b[0m\n\u001b[0;31mNameError\u001b[0m                                 Traceback (most recent call last)",
        "\u001b[0;32m<ipython-input-5-df3265e4f132>\u001b[0m in \u001b[0;36m<module>\u001b[0;34m()\u001b[0m\n\u001b[1;32m      1\u001b[0m \u001b[0mP\u001b[0m\u001b[0;34m=\u001b[0m \u001b[0mnp\u001b[0m\u001b[0;34m.\u001b[0m\u001b[0marange\u001b[0m\u001b[0;34m(\u001b[0m\u001b[0;36m2\u001b[0m\u001b[0;34m,\u001b[0m\u001b[0;36m10\u001b[0m\u001b[0;34m,\u001b[0m\u001b[0;36m0.1\u001b[0m\u001b[0;34m)\u001b[0m\u001b[0;34m\u001b[0m\u001b[0m\n\u001b[0;32m----> 2\u001b[0;31m \u001b[0mK\u001b[0m \u001b[0;34m=\u001b[0m \u001b[0mK0\u001b[0m \u001b[0;34m*\u001b[0m \u001b[0mpMass\u001b[0m \u001b[0;34m*\u001b[0m \u001b[0msMass\u001b[0m\u001b[0;34m**\u001b[0m\u001b[0;34m(\u001b[0m\u001b[0;34m-\u001b[0m\u001b[0;36m2.\u001b[0m\u001b[0;34m/\u001b[0m\u001b[0;36m3.\u001b[0m\u001b[0;34m)\u001b[0m \u001b[0;34m*\u001b[0m \u001b[0;34m(\u001b[0m\u001b[0mP\u001b[0m\u001b[0;34m/\u001b[0m\u001b[0;36m365\u001b[0m\u001b[0;34m)\u001b[0m\u001b[0;34m**\u001b[0m\u001b[0;34m(\u001b[0m\u001b[0;34m-\u001b[0m\u001b[0;36m1.\u001b[0m\u001b[0;34m/\u001b[0m\u001b[0;36m3.\u001b[0m\u001b[0;34m)\u001b[0m\u001b[0;34m\u001b[0m\u001b[0m\n\u001b[0m",
        "\u001b[0;31mNameError\u001b[0m: name 'sMass' is not defined"
       ]
      }
     ],
     "prompt_number": 5
    },
    {
     "cell_type": "code",
     "collapsed": false,
     "input": [
      "P= np.arange(2,30,0.1)\n",
      "sMass = 0.5\n",
      "K = K0 * pMass * sMass**(-2./3.) * (P/365)**(-1./3.)\n",
      "plt.plot(P,K, label= str(sMass)+' M$_{sun}$ star')\n",
      "sMass = 1\n",
      "K = K0 * pMass * sMass**(-2./3.) * (P/365)**(-1./3.)\n",
      "plt.plot(P,K, label= str(sMass)+' M$_{sun}$ star')\n",
      "sMass = 1.5\n",
      "K = K0 * pMass * sMass**(-2./3.) * (P/365)**(-1./3.)\n",
      "plt.plot(P,K, label= str(sMass)+' M$_{sun}$ star')\n",
      "\n",
      "plt.ylabel('RV [m/s]')\n",
      "plt.xlabel('P (days)')\n",
      "plt.title('RV signal for a 1 M$_{jup}$ planet')\n",
      "plt.legend(loc=0)\n",
      "plt.show()"
     ],
     "language": "python",
     "metadata": {},
     "outputs": [],
     "prompt_number": 6
    },
    {
     "cell_type": "code",
     "collapsed": false,
     "input": [],
     "language": "python",
     "metadata": {},
     "outputs": []
    },
    {
     "cell_type": "code",
     "collapsed": false,
     "input": [
      "P1 = np.random.random(10)*10\n",
      "# sMass = 0.5\n",
      "RV1 = 120*np.sin(P1)\n",
      "yerr1 = 200+np.random.random(10)*500\n",
      "# yerr1 = np.zeros(10)\n",
      "\n",
      "plt.errorbar(P1,RV1, label= 'Simulated Data', c='r', fmt = 'o', yerr=yerr1)\n",
      "P= np.arange(0,10,0.1)\n",
      "RV = 120*np.sin(P)\n",
      "plt.plot(P,RV, label='Fitted Curve')\n",
      "# sMass = 1\n",
      "# K = K0 * pMass * sMass**(-2./3.) * (P/365)**(-1./3.)\n",
      "# plt.plot(P,K, label= str(sMass)+' M$_{sun}$ star')\n",
      "# sMass = 1.5\n",
      "# K = K0 * pMass * sMass**(-2./3.) * (P/365)**(-1./3.)\n",
      "# plt.plot(P,K, label= str(sMass)+' M$_{sun}$ star')\n",
      "\n",
      "plt.ylabel('RV [m/s]')\n",
      "plt.xlabel('P (days)')\n",
      "plt.title('Simulated RV signal for a 1 M$_{jup}$ planet')\n",
      "plt.legend(loc=0)\n",
      "plt.show()"
     ],
     "language": "python",
     "metadata": {},
     "outputs": [],
     "prompt_number": 9
    },
    {
     "cell_type": "code",
     "collapsed": false,
     "input": [
      "# P1 = np.random.random(10)*10\n",
      "# sMass = 0.5\n",
      "# RV1 = 40*np.sin(P1*2*np.pi)\n",
      "yerr1 = 200+np.random.random(10)*500\n",
      "# yerr1 = np.zeros(10)\n",
      "\n",
      "plt.errorbar(P1,RV1, label= 'Simulated Data', c='r', fmt = 'o', yerr=yerr1)\n",
      "P= np.arange(0,10,0.1)\n",
      "RV = 40*np.sin(P*2*np.pi)\n",
      "plt.plot(P,RV, label='Fitted Curve')\n",
      "sMass = 1\n",
      "# K = K0 * pMass * sMass**(-2./3.) * (P/365)**(-1./3.)\n",
      "# plt.plot(P,K, label= str(sMass)+' M$_{sun}$ star')\n",
      "# sMass = 1.5\n",
      "# K = K0 * pMass * sMass**(-2./3.) * (P/365)**(-1./3.)\n",
      "# plt.plot(P,K, label= str(sMass)+' M$_{sun}$ star')\n",
      "\n",
      "plt.ylabel('RV [m/s]')\n",
      "plt.xlabel('P (days)')\n",
      "plt.title('Simulated oscillations for a 1.6 M$_{sum}$ star')\n",
      "plt.legend(loc=0)\n",
      "plt.show()"
     ],
     "language": "python",
     "metadata": {},
     "outputs": [],
     "prompt_number": 10
    }
   ],
   "metadata": {}
  }
 ]
}