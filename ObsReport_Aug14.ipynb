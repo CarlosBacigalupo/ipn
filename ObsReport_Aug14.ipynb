{
 "cells": [
  {
   "cell_type": "code",
   "execution_count": 38,
   "metadata": {
    "collapsed": false
   },
   "outputs": [],
   "source": []
  },
  {
   "cell_type": "code",
   "execution_count": 34,
   "metadata": {
    "collapsed": false
   },
   "outputs": [
    {
     "name": "stdout",
     "output_type": "stream",
     "text": [
      "/Users/Carlos/Documents/HERMES/data/140821/data/ccd_1\n"
     ]
    }
   ],
   "source": [
    "cd /Users/Carlos/Documents/HERMES/data/140821/data/ccd_1/"
   ]
  },
  {
   "cell_type": "code",
   "execution_count": 67,
   "metadata": {
    "collapsed": false
   },
   "outputs": [],
   "source": [
    "a = pf.open('21aug10030.fits')"
   ]
  },
  {
   "cell_type": "code",
   "execution_count": 23,
   "metadata": {
    "collapsed": false
   },
   "outputs": [],
   "source": [
    "ah = a[1].data"
   ]
  },
  {
   "cell_type": "code",
   "execution_count": 24,
   "metadata": {
    "collapsed": false
   },
   "outputs": [
    {
     "name": "stdout",
     "output_type": "stream",
     "text": [
      "[]\n",
      "Pivot"
     ]
    },
    {
     "ename": "IndexError",
     "evalue": "index out of bounds",
     "output_type": "error",
     "traceback": [
      "\u001b[0;31m---------------------------------------------------------------------------\u001b[0m\n\u001b[0;31mIndexError\u001b[0m                                Traceback (most recent call last)",
      "\u001b[0;32m<ipython-input-24-c3f6cc690647>\u001b[0m in \u001b[0;36m<module>\u001b[0;34m()\u001b[0m\n\u001b[1;32m      1\u001b[0m \u001b[0;32mprint\u001b[0m \u001b[0mah\u001b[0m\u001b[0;34m[\u001b[0m\u001b[0mah\u001b[0m\u001b[0;34m[\u001b[0m\u001b[0;34m'NAME'\u001b[0m\u001b[0;34m]\u001b[0m\u001b[0;34m==\u001b[0m\u001b[0;34m'Giant01'\u001b[0m\u001b[0;34m]\u001b[0m\u001b[0;34m\u001b[0m\u001b[0m\n\u001b[0;32m----> 2\u001b[0;31m \u001b[0;32mprint\u001b[0m \u001b[0;34m'Pivot'\u001b[0m\u001b[0;34m,\u001b[0m\u001b[0mah\u001b[0m\u001b[0;34m[\u001b[0m\u001b[0mah\u001b[0m\u001b[0;34m[\u001b[0m\u001b[0;34m'NAME'\u001b[0m\u001b[0;34m]\u001b[0m\u001b[0;34m==\u001b[0m\u001b[0;34m'Giant01'\u001b[0m\u001b[0;34m]\u001b[0m\u001b[0;34m[\u001b[0m\u001b[0;34m'PIVOT'\u001b[0m\u001b[0;34m]\u001b[0m\u001b[0;34m[\u001b[0m\u001b[0;36m0\u001b[0m\u001b[0;34m]\u001b[0m\u001b[0;34m\u001b[0m\u001b[0m\n\u001b[0m\u001b[1;32m      3\u001b[0m \u001b[0;32mprint\u001b[0m \u001b[0mnp\u001b[0m\u001b[0;34m.\u001b[0m\u001b[0mwhere\u001b[0m\u001b[0;34m(\u001b[0m\u001b[0mah\u001b[0m\u001b[0;34m[\u001b[0m\u001b[0;34m'NAME'\u001b[0m\u001b[0;34m]\u001b[0m\u001b[0;34m==\u001b[0m\u001b[0;34m'Giant01'\u001b[0m\u001b[0;34m)\u001b[0m\u001b[0;34m[\u001b[0m\u001b[0;36m0\u001b[0m\u001b[0;34m]\u001b[0m\u001b[0;34m[\u001b[0m\u001b[0;36m0\u001b[0m\u001b[0;34m]\u001b[0m\u001b[0;34m\u001b[0m\u001b[0m\n",
      "\u001b[0;31mIndexError\u001b[0m: index out of bounds"
     ]
    }
   ],
   "source": [
    "print ah[ah['NAME']=='Giant01']\n",
    "print 'Pivot',ah[ah['NAME']=='Giant01']['PIVOT'][0]\n",
    "print np.where(ah['NAME']=='Giant01')[0][0]"
   ]
  },
  {
   "cell_type": "code",
   "execution_count": 7,
   "metadata": {
    "collapsed": false
   },
   "outputs": [],
   "source": [
    "dirs = ['/Users/Carlos/Documents/HERMES/data/140820/data/ccd_1/',\n",
    "        '/Users/Carlos/Documents/HERMES/data/140821/data/ccd_1/',\n",
    "        '/Users/Carlos/Documents/HERMES/data/140822/data/ccd_1/',\n",
    "        '/Users/Carlos/Documents/HERMES/data/140824/data/ccd_1/',\n",
    "        '/Users/Carlos/Documents/HERMES/data/140825/data/ccd_1/']"
   ]
  },
  {
   "cell_type": "code",
   "execution_count": 63,
   "metadata": {
    "collapsed": false
   },
   "outputs": [
    {
     "name": "stdout",
     "output_type": "stream",
     "text": [
      "56890.6717027\n",
      "16:07:15\n",
      "2014:08:21\n",
      "1200.0\n",
      "\n",
      "56890.6786458\n"
     ]
    }
   ],
   "source": [
    "print a[0].header['UTMJD']\n",
    "print a[0].header['UTSTART']\n",
    "print a[0].header['UTDATE']\n",
    "print a[0].header['EXPOSED']\n",
    "print \n",
    "e = float(a[0].header['EXPOSED'])/2/24/60/60 # EXPOSED/2 in days\n",
    "inDate = np.hstack((a[0].header['UTDATE'].split(':'),a[0].header['UTSTART'].split(':'))).astype(int)\n",
    "print toolbox.gd2jd(inDate, TZ=0)-2400000.5 + e"
   ]
  },
  {
   "cell_type": "code",
   "execution_count": 98,
   "metadata": {
    "collapsed": false
   },
   "outputs": [
    {
     "name": "stdout",
     "output_type": "stream",
     "text": [
      "/Users/Carlos/Documents/HERMES/data\n"
     ]
    }
   ],
   "source": [
    "cd .."
   ]
  },
  {
   "cell_type": "code",
   "execution_count": 28,
   "metadata": {
    "collapsed": false
   },
   "outputs": [
    {
     "name": "stdout",
     "output_type": "stream",
     "text": [
      "Obs & Filename & Field Name & Plate & MJD & Relative Day (days) & Exp Time (s) \\\\\n",
      "0 1 2 3 4 5 6 7 8 9 10 11 12 13 14 15 16 17 18 19 20 21 22 23 24 25 26 27 28 29 30 31 32 33 34 35 36 37 38 39 40 41 42 43 44 45 46 47 48 49 50 51 52 53 54 55 56 57 58 59 60 61 62 63 64 65 66 67 68 69 70\n"
     ]
    }
   ],
   "source": [
    "import pyfits as pf\n",
    "import numpy as np\n",
    "import pylab as plt\n",
    "import os\n",
    "import glob\n",
    "import pickle\n",
    "import RVTools as RVT\n",
    "import toolbox\n",
    "\n",
    "raw = []\n",
    "print 'Obs & Filename & Field Name & Plate & MJD & Relative Day (days) & Exp Time (s) \\\\\\\\'\n",
    "good_targets = np.array(['rhoTuc #176 (Pivot 175)', 'HD1581 #176 (Pivot 175)','HD285507 #227 (Pivot 223)', '47Tuc center', '47Tuc IFU' ])\n",
    "# good_targets = np.array(['rhoTuc #176 (Pivot 175)', 'HD1581 #176 (Pivot 175)','HD285507 #227 (Pivot 223)' ])\n",
    "# good_targets = np.array(['HD285507 #227 (Pivot 223)' ])\n",
    "# good_targets = np.array(['M67 12V14','M67 Bright Stars' ])\n",
    "# good_targets = np.array(['HD1581 #176 (Pivot 175)'])\n",
    "# good_targets = np.array(['47Tuc center'])\n",
    "\n",
    "# good_pivots = [175,175,224]\n",
    "t0 = 0  \n",
    "order = 0 \n",
    "# dirs = glob.glob('*')\n",
    "# print dirs\n",
    "for j in dirs:\n",
    "#     print os.path.abspath(j +'/data/ccd_1/')\n",
    "#     os.chdir(j+'/data/ccd_1/')\n",
    "#     print j \n",
    "    for i in glob.glob(os.path.abspath(j +'*.fits')):\n",
    "        a = pf.open(i)\n",
    "        if a[0].header['NDFCLASS'] == 'MFOBJECT':\n",
    "            if a[0].header['OBJECT'] in good_targets:\n",
    "                pivot_idx = np.where(a[0].header['OBJECT']== good_targets)[0][0]\n",
    "                e = float(a[0].header['EXPOSED'])/2/24/60/60 # EXPOSED/2 in days\n",
    "                inDate = np.hstack((a[0].header['UTDATE'].split(':'),a[0].header['UTSTART'].split(':'))).astype(int)\n",
    "                UTMJD = toolbox.gd2jd(inDate, TZ=0)-2400000.5 + e\n",
    "                if t0==0:t0=UTMJD\n",
    "                tDiff=UTMJD-t0\n",
    "#                 print str(order)+' & '+ i+' & HD1581 & '+a[0].header['SOURCE']+' & '+str(UTMJD)+' & '+str(tDiff)+' & '+str(a[0].header['EXPOSED']) +' \\\\\\\\'\n",
    "#                 print str(order)+' & '+ i.split('/')[-1]+' & HD285507 & '+a[0].header['SOURCE']+' & '+str(UTMJD)+' & '+str(tDiff)+' & '+str(a[0].header['EXPOSED']) +' \\\\\\\\'\n",
    "#                 print str(order)+' & '+ i+' & '+a[0].header['OBJECT']+' & '+a[0].header['SOURCE']+' & '+str(UTMJD)+' & '+str(tDiff)+' & '+str(a[0].header['EXPOSED']) +' \\\\\\\\'\n",
    "                print order,\n",
    "                order +=1\n",
    "                raw.append((i, a[0].header['OBJECT'],a[0].header['SOURCE'],a[0].header['UTMJD'],a[0].header['EXPOSED']))            \n",
    "        a.close\n",
    "# raw = np.array(raw)"
   ]
  },
  {
   "cell_type": "code",
   "execution_count": 73,
   "metadata": {
    "collapsed": false
   },
   "outputs": [
    {
     "data": {
      "text/plain": [
       "array([ True, False, False,  True, False], dtype=bool)"
      ]
     },
     "execution_count": 73,
     "metadata": {},
     "output_type": "execute_result"
    }
   ],
   "source": [
    "a = np.array([-5,-1,0,5,3])\n",
    "np.abs(a)>4"
   ]
  },
  {
   "cell_type": "code",
   "execution_count": 45,
   "metadata": {
    "collapsed": false
   },
   "outputs": [],
   "source": [
    "targets = np.unique(np.array(raw)[:,1])\n",
    "good_targets = ['47Tuc IFU', '47Tuc center','rhoTuc #176 (Pivot 175)', 'HD1581 #176 (Pivot 175)','HD285507 #227 (Pivot 223)' ]\n",
    "target_alias = ['$\\rho$ Tucanae #176', 'HD1581 #176','HD285507 #227', '47 Tucanae core', '47 Tucanae IFU' ]"
   ]
  },
  {
   "cell_type": "code",
   "execution_count": 44,
   "metadata": {
    "collapsed": true
   },
   "outputs": [
    {
     "data": {
      "text/plain": [
       "[('/Users/Carlos/Documents/HERMES/data/140820/data/ccd_1/20aug10020.fits',\n",
       "  '47Tuc IFU',\n",
       "  'Plate 1',\n",
       "  56889.6317394692,\n",
       "  1200.0),\n",
       " ('/Users/Carlos/Documents/HERMES/data/140820/data/ccd_1/20aug10039.fits',\n",
       "  'HD285507 #227 (Pivot 223)',\n",
       "  'Plate 1',\n",
       "  56889.7312268637,\n",
       "  600.0),\n",
       " ('/Users/Carlos/Documents/HERMES/data/140820/data/ccd_1/20aug10040.fits',\n",
       "  'HD285507 #227 (Pivot 223)',\n",
       "  'Plate 1',\n",
       "  56889.7409557529,\n",
       "  1200.0),\n",
       " ('/Users/Carlos/Documents/HERMES/data/140820/data/ccd_1/20aug10041.fits',\n",
       "  'HD285507 #227 (Pivot 223)',\n",
       "  'Plate 1',\n",
       "  56889.7558862928,\n",
       "  1200.0),\n",
       " ('/Users/Carlos/Documents/HERMES/data/140820/data/ccd_1/20aug10044.fits',\n",
       "  'rhoTuc #176 (Pivot 175)',\n",
       "  'Plate 0',\n",
       "  56889.7811361397,\n",
       "  300.0),\n",
       " ('/Users/Carlos/Documents/HERMES/data/140820/data/ccd_1/20aug10045.fits',\n",
       "  'rhoTuc #176 (Pivot 175)',\n",
       "  'Plate 0',\n",
       "  56889.7856174095,\n",
       "  360.0),\n",
       " ('/Users/Carlos/Documents/HERMES/data/140820/data/ccd_1/20aug10046.fits',\n",
       "  'rhoTuc #176 (Pivot 175)',\n",
       "  'Plate 0',\n",
       "  56889.7910207768,\n",
       "  120.0),\n",
       " ('/Users/Carlos/Documents/HERMES/data/140820/data/ccd_1/20aug10047.fits',\n",
       "  'rhoTuc #176 (Pivot 175)',\n",
       "  'Plate 0',\n",
       "  56889.7933129349,\n",
       "  120.0),\n",
       " ('/Users/Carlos/Documents/HERMES/data/140820/data/ccd_1/20aug10048.fits',\n",
       "  'rhoTuc #176 (Pivot 175)',\n",
       "  'Plate 0',\n",
       "  56889.7955978025,\n",
       "  120.0),\n",
       " ('/Users/Carlos/Documents/HERMES/data/140820/data/ccd_1/20aug10049.fits',\n",
       "  'rhoTuc #176 (Pivot 175)',\n",
       "  'Plate 0',\n",
       "  56889.7978890807,\n",
       "  120.0),\n",
       " ('/Users/Carlos/Documents/HERMES/data/140820/data/ccd_1/20aug10050.fits',\n",
       "  'rhoTuc #176 (Pivot 175)',\n",
       "  'Plate 0',\n",
       "  56889.8001620056,\n",
       "  120.0),\n",
       " ('/Users/Carlos/Documents/HERMES/data/140820/data/ccd_1/20aug10051.fits',\n",
       "  'rhoTuc #176 (Pivot 175)',\n",
       "  'Plate 0',\n",
       "  56889.8024453444,\n",
       "  120.0),\n",
       " ('/Users/Carlos/Documents/HERMES/data/140820/data/ccd_1/20aug10053.fits',\n",
       "  'HD1581 #176 (Pivot 175)',\n",
       "  'Plate 0',\n",
       "  56889.8100291911,\n",
       "  120.0),\n",
       " ('/Users/Carlos/Documents/HERMES/data/140821/data/ccd_1/21aug10027.fits',\n",
       "  '47Tuc center',\n",
       "  'Plate 1',\n",
       "  56890.6174494765,\n",
       "  1200.0),\n",
       " ('/Users/Carlos/Documents/HERMES/data/140821/data/ccd_1/21aug10028.fits',\n",
       "  '47Tuc center',\n",
       "  'Plate 1',\n",
       "  56890.6339503109,\n",
       "  1200.0),\n",
       " ('/Users/Carlos/Documents/HERMES/data/140821/data/ccd_1/21aug10029.fits',\n",
       "  '47Tuc center',\n",
       "  'Plate 1',\n",
       "  56890.6500989349,\n",
       "  1200.0),\n",
       " ('/Users/Carlos/Documents/HERMES/data/140821/data/ccd_1/21aug10030.fits',\n",
       "  '47Tuc center',\n",
       "  'Plate 1',\n",
       "  56890.6717026686,\n",
       "  1200.0),\n",
       " ('/Users/Carlos/Documents/HERMES/data/140821/data/ccd_1/21aug10033.fits',\n",
       "  'rhoTuc #176 (Pivot 175)',\n",
       "  'Plate 0',\n",
       "  56890.7000594023,\n",
       "  600.0),\n",
       " ('/Users/Carlos/Documents/HERMES/data/140821/data/ccd_1/21aug10034.fits',\n",
       "  'rhoTuc #176 (Pivot 175)',\n",
       "  'Plate 0',\n",
       "  56890.7078960019,\n",
       "  600.0),\n",
       " ('/Users/Carlos/Documents/HERMES/data/140821/data/ccd_1/21aug10035.fits',\n",
       "  'rhoTuc #176 (Pivot 175)',\n",
       "  'Plate 0',\n",
       "  56890.7158803502,\n",
       "  600.0),\n",
       " ('/Users/Carlos/Documents/HERMES/data/140821/data/ccd_1/21aug10038.fits',\n",
       "  'HD285507 #227 (Pivot 223)',\n",
       "  'Plate 1',\n",
       "  56890.7344779004,\n",
       "  1800.0),\n",
       " ('/Users/Carlos/Documents/HERMES/data/140821/data/ccd_1/21aug10039.fits',\n",
       "  'HD285507 #227 (Pivot 223)',\n",
       "  'Plate 1',\n",
       "  56890.7561996306,\n",
       "  1800.0),\n",
       " ('/Users/Carlos/Documents/HERMES/data/140821/data/ccd_1/21aug10040.fits',\n",
       "  'HD285507 #227 (Pivot 223)',\n",
       "  'Plate 1',\n",
       "  56890.7779247856,\n",
       "  1800.0),\n",
       " ('/Users/Carlos/Documents/HERMES/data/140821/data/ccd_1/21aug10041.fits',\n",
       "  'HD1581 #176 (Pivot 175)',\n",
       "  'Plate 0',\n",
       "  56890.8035486556,\n",
       "  120.0),\n",
       " ('/Users/Carlos/Documents/HERMES/data/140821/data/ccd_1/21aug10042.fits',\n",
       "  'HD1581 #176 (Pivot 175)',\n",
       "  'Plate 0',\n",
       "  56890.8058271224,\n",
       "  120.0),\n",
       " ('/Users/Carlos/Documents/HERMES/data/140821/data/ccd_1/21aug10043.fits',\n",
       "  'HD1581 #176 (Pivot 175)',\n",
       "  'Plate 0',\n",
       "  56890.8081117469,\n",
       "  120.0),\n",
       " ('/Users/Carlos/Documents/HERMES/data/140821/data/ccd_1/21aug10044.fits',\n",
       "  'rhoTuc #176 (Pivot 175)',\n",
       "  'Plate 0',\n",
       "  56890.8148392972,\n",
       "  360.0),\n",
       " ('/Users/Carlos/Documents/HERMES/data/140822/data/ccd_1/22aug10027.fits',\n",
       "  '47Tuc center',\n",
       "  'Plate 1',\n",
       "  56891.6301251996,\n",
       "  1200.0),\n",
       " ('/Users/Carlos/Documents/HERMES/data/140822/data/ccd_1/22aug10028.fits',\n",
       "  '47Tuc center',\n",
       "  'Plate 1',\n",
       "  56891.6448997462,\n",
       "  1200.0),\n",
       " ('/Users/Carlos/Documents/HERMES/data/140822/data/ccd_1/22aug10029.fits',\n",
       "  '47Tuc center',\n",
       "  'Plate 1',\n",
       "  56891.6596884587,\n",
       "  1200.0),\n",
       " ('/Users/Carlos/Documents/HERMES/data/140822/data/ccd_1/22aug10033.fits',\n",
       "  'rhoTuc #176 (Pivot 175)',\n",
       "  'Plate 0',\n",
       "  56891.6885866096,\n",
       "  360.0),\n",
       " ('/Users/Carlos/Documents/HERMES/data/140822/data/ccd_1/22aug10034.fits',\n",
       "  'rhoTuc #176 (Pivot 175)',\n",
       "  'Plate 0',\n",
       "  56891.6936397443,\n",
       "  360.0),\n",
       " ('/Users/Carlos/Documents/HERMES/data/140822/data/ccd_1/22aug10035.fits',\n",
       "  'rhoTuc #176 (Pivot 175)',\n",
       "  'Plate 0',\n",
       "  56891.6987002625,\n",
       "  360.0),\n",
       " ('/Users/Carlos/Documents/HERMES/data/140822/data/ccd_1/22aug10036.fits',\n",
       "  'HD1581 #176 (Pivot 175)',\n",
       "  'Plate 0',\n",
       "  56891.7058889731,\n",
       "  120.0),\n",
       " ('/Users/Carlos/Documents/HERMES/data/140822/data/ccd_1/22aug10037.fits',\n",
       "  'HD1581 #176 (Pivot 175)',\n",
       "  'Plate 0',\n",
       "  56891.7081863387,\n",
       "  120.0),\n",
       " ('/Users/Carlos/Documents/HERMES/data/140822/data/ccd_1/22aug10038.fits',\n",
       "  'HD1581 #176 (Pivot 175)',\n",
       "  'Plate 0',\n",
       "  56891.7104592625,\n",
       "  120.0),\n",
       " ('/Users/Carlos/Documents/HERMES/data/140822/data/ccd_1/22aug10041.fits',\n",
       "  'HD285507 #227 (Pivot 223)',\n",
       "  'Plate 1',\n",
       "  56891.7214010745,\n",
       "  1200.0),\n",
       " ('/Users/Carlos/Documents/HERMES/data/140822/data/ccd_1/22aug10042.fits',\n",
       "  'HD285507 #227 (Pivot 223)',\n",
       "  'Plate 1',\n",
       "  56891.7361918934,\n",
       "  1200.0),\n",
       " ('/Users/Carlos/Documents/HERMES/data/140822/data/ccd_1/22aug10043.fits',\n",
       "  'HD285507 #227 (Pivot 223)',\n",
       "  'Plate 1',\n",
       "  56891.7509696693,\n",
       "  1200.0),\n",
       " ('/Users/Carlos/Documents/HERMES/data/140822/data/ccd_1/22aug10046.fits',\n",
       "  'rhoTuc #176 (Pivot 175)',\n",
       "  'Plate 0',\n",
       "  56891.7757545347,\n",
       "  360.0),\n",
       " ('/Users/Carlos/Documents/HERMES/data/140822/data/ccd_1/22aug10047.fits',\n",
       "  'rhoTuc #176 (Pivot 175)',\n",
       "  'Plate 0',\n",
       "  56891.7808644825,\n",
       "  360.0),\n",
       " ('/Users/Carlos/Documents/HERMES/data/140822/data/ccd_1/22aug10048.fits',\n",
       "  '47Tuc center',\n",
       "  'Plate 1',\n",
       "  56891.7878767179,\n",
       "  1200.0),\n",
       " ('/Users/Carlos/Documents/HERMES/data/140822/data/ccd_1/22aug10049.fits',\n",
       "  '47Tuc center',\n",
       "  'Plate 1',\n",
       "  56891.8026479307,\n",
       "  1200.0),\n",
       " ('/Users/Carlos/Documents/HERMES/data/140822/data/ccd_1/22aug10050.fits',\n",
       "  '47Tuc center',\n",
       "  'Plate 1',\n",
       "  56891.8174269679,\n",
       "  609.0),\n",
       " ('/Users/Carlos/Documents/HERMES/data/140824/data/ccd_1/24aug10050.fits',\n",
       "  '47Tuc center',\n",
       "  'Plate 1',\n",
       "  56893.6885902676,\n",
       "  1200.0),\n",
       " ('/Users/Carlos/Documents/HERMES/data/140824/data/ccd_1/24aug10051.fits',\n",
       "  '47Tuc center',\n",
       "  'Plate 1',\n",
       "  56893.7041936568,\n",
       "  1200.0),\n",
       " ('/Users/Carlos/Documents/HERMES/data/140824/data/ccd_1/24aug10052.fits',\n",
       "  '47Tuc center',\n",
       "  'Plate 1',\n",
       "  56893.7197995808,\n",
       "  1200.0),\n",
       " ('/Users/Carlos/Documents/HERMES/data/140824/data/ccd_1/24aug10055.fits',\n",
       "  'rhoTuc #176 (Pivot 175)',\n",
       "  'Plate 0',\n",
       "  56893.7454057441,\n",
       "  360.0),\n",
       " ('/Users/Carlos/Documents/HERMES/data/140824/data/ccd_1/24aug10056.fits',\n",
       "  'rhoTuc #176 (Pivot 175)',\n",
       "  'Plate 0',\n",
       "  56893.751396644,\n",
       "  360.0),\n",
       " ('/Users/Carlos/Documents/HERMES/data/140824/data/ccd_1/24aug10057.fits',\n",
       "  'rhoTuc #176 (Pivot 175)',\n",
       "  'Plate 0',\n",
       "  56893.7565185931,\n",
       "  360.0),\n",
       " ('/Users/Carlos/Documents/HERMES/data/140824/data/ccd_1/24aug10058.fits',\n",
       "  'HD1581 #176 (Pivot 175)',\n",
       "  'Plate 0',\n",
       "  56893.7639537145,\n",
       "  120.0),\n",
       " ('/Users/Carlos/Documents/HERMES/data/140824/data/ccd_1/24aug10059.fits',\n",
       "  'HD1581 #176 (Pivot 175)',\n",
       "  'Plate 0',\n",
       "  56893.7662352941,\n",
       "  80.0),\n",
       " ('/Users/Carlos/Documents/HERMES/data/140824/data/ccd_1/24aug10060.fits',\n",
       "  'HD1581 #176 (Pivot 175)',\n",
       "  'Plate 0',\n",
       "  56893.7680468403,\n",
       "  30.0),\n",
       " ('/Users/Carlos/Documents/HERMES/data/140824/data/ccd_1/24aug10061.fits',\n",
       "  'HD1581 #176 (Pivot 175)',\n",
       "  'Plate 0',\n",
       "  56893.7692934302,\n",
       "  30.0),\n",
       " ('/Users/Carlos/Documents/HERMES/data/140824/data/ccd_1/24aug10062.fits',\n",
       "  'HD1581 #176 (Pivot 175)',\n",
       "  'Plate 0',\n",
       "  56893.7709225747,\n",
       "  30.0),\n",
       " ('/Users/Carlos/Documents/HERMES/data/140824/data/ccd_1/24aug10063.fits',\n",
       "  'HD285507 #227 (Pivot 223)',\n",
       "  'Plate 1',\n",
       "  56893.7742145299,\n",
       "  1200.0),\n",
       " ('/Users/Carlos/Documents/HERMES/data/140824/data/ccd_1/24aug10064.fits',\n",
       "  'HD285507 #227 (Pivot 223)',\n",
       "  'Plate 1',\n",
       "  56893.7889874441,\n",
       "  1200.0),\n",
       " ('/Users/Carlos/Documents/HERMES/data/140824/data/ccd_1/24aug10065.fits',\n",
       "  'HD285507 #227 (Pivot 223)',\n",
       "  'Plate 1',\n",
       "  56893.8041220729,\n",
       "  600.0),\n",
       " ('/Users/Carlos/Documents/HERMES/data/140825/data/ccd_1/25aug10035.fits',\n",
       "  '47Tuc center',\n",
       "  'Plate 1',\n",
       "  56894.6702057114,\n",
       "  1200.0),\n",
       " ('/Users/Carlos/Documents/HERMES/data/140825/data/ccd_1/25aug10036.fits',\n",
       "  '47Tuc center',\n",
       "  'Plate 1',\n",
       "  56894.6850847415,\n",
       "  1200.0),\n",
       " ('/Users/Carlos/Documents/HERMES/data/140825/data/ccd_1/25aug10037.fits',\n",
       "  '47Tuc center',\n",
       "  'Plate 1',\n",
       "  56894.6999043886,\n",
       "  1200.0),\n",
       " ('/Users/Carlos/Documents/HERMES/data/140825/data/ccd_1/25aug10040.fits',\n",
       "  'rhoTuc #176 (Pivot 175)',\n",
       "  'Plate 0',\n",
       "  56894.7232177577,\n",
       "  360.0),\n",
       " ('/Users/Carlos/Documents/HERMES/data/140825/data/ccd_1/25aug10041.fits',\n",
       "  'rhoTuc #176 (Pivot 175)',\n",
       "  'Plate 0',\n",
       "  56894.7282846531,\n",
       "  360.0),\n",
       " ('/Users/Carlos/Documents/HERMES/data/140825/data/ccd_1/25aug10042.fits',\n",
       "  'rhoTuc #176 (Pivot 175)',\n",
       "  'Plate 0',\n",
       "  56894.7333418272,\n",
       "  360.0),\n",
       " ('/Users/Carlos/Documents/HERMES/data/140825/data/ccd_1/25aug10044.fits',\n",
       "  'HD1581 #176 (Pivot 175)',\n",
       "  'Plate 0',\n",
       "  56894.7423378368,\n",
       "  60.0),\n",
       " ('/Users/Carlos/Documents/HERMES/data/140825/data/ccd_1/25aug10045.fits',\n",
       "  'HD1581 #176 (Pivot 175)',\n",
       "  'Plate 0',\n",
       "  56894.7443452315,\n",
       "  60.0),\n",
       " ('/Users/Carlos/Documents/HERMES/data/140825/data/ccd_1/25aug10046.fits',\n",
       "  'HD1581 #176 (Pivot 175)',\n",
       "  'Plate 0',\n",
       "  56894.7459273557,\n",
       "  60.0),\n",
       " ('/Users/Carlos/Documents/HERMES/data/140825/data/ccd_1/25aug10049.fits',\n",
       "  'HD285507 #227 (Pivot 223)',\n",
       "  'Plate 1',\n",
       "  56894.7584363747,\n",
       "  1200.0),\n",
       " ('/Users/Carlos/Documents/HERMES/data/140825/data/ccd_1/25aug10050.fits',\n",
       "  'HD285507 #227 (Pivot 223)',\n",
       "  'Plate 1',\n",
       "  56894.7732268004,\n",
       "  1200.0),\n",
       " ('/Users/Carlos/Documents/HERMES/data/140825/data/ccd_1/25aug10051.fits',\n",
       "  'HD285507 #227 (Pivot 223)',\n",
       "  'Plate 1',\n",
       "  56894.7880042762,\n",
       "  1200.0),\n",
       " ('/Users/Carlos/Documents/HERMES/data/140825/data/ccd_1/25aug10052.fits',\n",
       "  'rhoTuc #176 (Pivot 175)',\n",
       "  'Plate 0',\n",
       "  56894.8086354571,\n",
       "  360.0)]"
      ]
     },
     "execution_count": 44,
     "metadata": {},
     "output_type": "execute_result"
    }
   ],
   "source": [
    "raw"
   ]
  },
  {
   "cell_type": "raw",
   "metadata": {},
   "source": []
  },
  {
   "cell_type": "code",
   "execution_count": 58,
   "metadata": {
    "collapsed": false
   },
   "outputs": [],
   "source": [
    "# colors = ['k','k','k','k','k','k','k']\n",
    "colors = ['g','g','g','g','g','g','g','g','g','g','g','g']\n",
    "dates = ['20 aug', '21 aug', '22 aug', '23 aug', '24 aug', '25 aug', '']\n",
    "\n",
    "fig, ax = plt.subplots()\n",
    "ax.set_yticks(np.arange(1,6))\n",
    "ax.set_ylim(0,6)\n",
    "plt.xlabel('date')\n",
    "plt.title('Observations per target')\n",
    "\n",
    "idx_y = [5,4,2,3,1,1,1,1]\n",
    "for i in raw:\n",
    "    idx = np.where(i[1]==targets)[0][0]\n",
    "    if targets[idx] in good_targets:\n",
    "        ax.scatter(i[3], idx_y[idx] ,c = colors[idx], s =1, linewidths=20, marker ='_')\n",
    "\n",
    "    \n",
    "ax.set_yticklabels(target_alias)\n",
    "ax.set_xticklabels(dates)\n",
    "plt.gca().add_patch(plt.Rectangle((2456890.083333-2400000.5,-100),0.3,200, alpha = 0.2, label = 'Observing Window'))\n",
    "plt.gca().add_patch(plt.Rectangle((2456891.083333-2400000.5,-100),0.3,200, alpha = 0.2))\n",
    "plt.gca().add_patch(plt.Rectangle((2456892.083333-2400000.5,-100),0.3,200, alpha = 0.2))\n",
    "plt.gca().add_patch(plt.Rectangle((2456894.083333-2400000.5,-100),0.3,200, alpha = 0.2))\n",
    "plt.gca().add_patch(plt.Rectangle((2456895.083333-2400000.5,-100),0.3,200, alpha = 0.2))\n",
    "plt.legend()\n",
    "plt.show()"
   ]
  },
  {
   "cell_type": "code",
   "execution_count": 26,
   "metadata": {
    "collapsed": false
   },
   "outputs": [
    {
     "ename": "NameError",
     "evalue": "name 'np' is not defined",
     "output_type": "error",
     "traceback": [
      "\u001b[0;31m---------------------------------------------------------------------------\u001b[0m\n\u001b[0;31mNameError\u001b[0m                                 Traceback (most recent call last)",
      "\u001b[0;32m<ipython-input-26-67e78bed48f3>\u001b[0m in \u001b[0;36m<module>\u001b[0;34m()\u001b[0m\n\u001b[1;32m      1\u001b[0m \u001b[0;31m# retrieve SNR from all files for a selected target\u001b[0m\u001b[0;34m\u001b[0m\u001b[0;34m\u001b[0m\u001b[0m\n\u001b[0;32m----> 2\u001b[0;31m \u001b[0mSNR\u001b[0m \u001b[0;34m=\u001b[0m \u001b[0mnp\u001b[0m\u001b[0;34m.\u001b[0m\u001b[0mzeros\u001b[0m\u001b[0;34m(\u001b[0m\u001b[0;34m(\u001b[0m\u001b[0;36m1\u001b[0m\u001b[0;34m,\u001b[0m\u001b[0;36m15\u001b[0m\u001b[0;34m,\u001b[0m\u001b[0;36m4\u001b[0m\u001b[0;34m)\u001b[0m\u001b[0;34m)\u001b[0m\u001b[0;34m\u001b[0m\u001b[0m\n\u001b[0m\u001b[1;32m      3\u001b[0m \u001b[0mexpTime\u001b[0m \u001b[0;34m=\u001b[0m \u001b[0;34m[\u001b[0m\u001b[0;34m]\u001b[0m\u001b[0;34m\u001b[0m\u001b[0m\n\u001b[1;32m      4\u001b[0m \u001b[0mJDs\u001b[0m \u001b[0;34m=\u001b[0m \u001b[0;34m[\u001b[0m\u001b[0;34m]\u001b[0m\u001b[0;34m\u001b[0m\u001b[0m\n\u001b[1;32m      5\u001b[0m \u001b[0;34m\u001b[0m\u001b[0m\n",
      "\u001b[0;31mNameError\u001b[0m: name 'np' is not defined"
     ]
    }
   ],
   "source": [
    "# retrieve SNR from all files for a selected target\n",
    "SNR = np.zeros((1,15,4))\n",
    "expTime = []\n",
    "JDs = []\n",
    "\n",
    "for cam in range(1,5):\n",
    "    t = 0\n",
    "    for epoch in [1,2,3,3,5]:\n",
    "        os.chdir('/Users/Carlos/Documents/HERMES/data/14082'+str(epoch)+'/data')\n",
    "        fileList = glob.glob('ccd_'+str(cam)+'/*.fits')\n",
    "        for thisFileIdx in range(len(fileList)):\n",
    "            a = pf.open(fileList[thisFileIdx])\n",
    "            if a[0].header['OBJECT']=='HD1581 #176 (Pivot 175)':\n",
    "                flux = a[0].data[176]\n",
    "#                 print cam, a[0].header['UTMJD'], np.median(flux)/np.std(flux), a[0].header['EXPOSED']\n",
    "                SNR[0, t, cam-1]=np.median(flux)/np.std(flux)\n",
    "                if cam ==1: \n",
    "                    JDs.append(a[0].header['UTMJD'])\n",
    "                    expTime.append(a[0].header['EXPOSED'])\n",
    "                t +=1\n",
    "JDs = np.array(JDs)\n",
    "expTime = np.array(expTime)\n",
    "                "
   ]
  },
  {
   "cell_type": "code",
   "execution_count": 3,
   "metadata": {
    "collapsed": false
   },
   "outputs": [],
   "source": [
    "#opens a single star\n",
    "filename = '/Users/Carlos/Documents/HERMES/reductions/HD1581_6.0/uncombined/red_Giant01.obj'\n",
    "filehandler = open(filename, 'r')\n",
    "thisStar = pickle.load(filehandler)\n"
   ]
  },
  {
   "cell_type": "code",
   "execution_count": 4,
   "metadata": {
    "collapsed": false
   },
   "outputs": [],
   "source": [
    "thisCam=thisStar.exposures.cameras[0]"
   ]
  },
  {
   "cell_type": "code",
   "execution_count": 5,
   "metadata": {
    "collapsed": false
   },
   "outputs": [],
   "source": [
    "plt.plot(thisCam.red_fluxes[0])\n",
    "plt.show()"
   ]
  },
  {
   "cell_type": "code",
   "execution_count": 10,
   "metadata": {
    "collapsed": false
   },
   "outputs": [],
   "source": [
    "flux = thisCam.red_fluxes[0]\n",
    "plt.plot(np.real(np.fft.fft(np.sin(np.arange(1000*2*np.pi)))))\n",
    "# plt.plot(np.sin(np.arange(1000*2*np.pi)))\n",
    "plt.show()"
   ]
  },
  {
   "cell_type": "code",
   "execution_count": 8,
   "metadata": {
    "collapsed": false
   },
   "outputs": [
    {
     "data": {
      "text/plain": [
       "array([-0.07645498, -0.07645467, -0.07645373, ..., -0.07645217,\n",
       "       -0.07645373, -0.07645467])"
      ]
     },
     "execution_count": 8,
     "metadata": {},
     "output_type": "execute_result"
    }
   ],
   "source": [
    "np.real(np.fft.fft(np.sin(np.arange(1000*2*np.pi))))"
   ]
  },
  {
   "cell_type": "code",
   "execution_count": null,
   "metadata": {
    "collapsed": false
   },
   "outputs": [],
   "source": [
    "# retrieve SNR from all files for a selected target\n",
    "SNR = np.zeros((1,15,4))\n",
    "expTime = []\n",
    "JDs = []\n",
    "\n",
    "for cam in range(4):\n",
    "    thisCam=thisStar.exposures.cameras[cam]\n",
    "    for epoch in [0,1,2,4,5]:\n",
    "        os.chdir('/Users/Carlos/Documents/HERMES/data/14082'+str(epoch)+'/data')\n",
    "        fileList = glob.glob('ccd_'+str(cam)+'/*.fits')\n",
    "        for thisFileIdx in range(len(fileList)):\n",
    "            a = pf.open(fileList[thisFileIdx])\n",
    "            if a[0].header['OBJECT']=='HD1581 #176 (Pivot 175)':\n",
    "                flux = a[0].data[176]\n",
    "#                 print cam, a[0].header['UTMJD'], np.median(flux)/np.std(flux), a[0].header['EXPOSED']\n",
    "                SNR[0, t, cam-1]=np.median(flux)/np.std(flux)\n",
    "                if cam ==1: \n",
    "                    JDs.append(a[0].header['UTMJD'])\n",
    "                    expTime.append(a[0].header['EXPOSED'])\n",
    "                t +=1\n",
    "JDs = np.array(JDs)\n",
    "expTime = np.array(expTime)\n",
    "                "
   ]
  },
  {
   "cell_type": "code",
   "execution_count": 11,
   "metadata": {
    "collapsed": false
   },
   "outputs": [],
   "source": [
    "colors = ['b', 'g', 'r', 'cyan']\n",
    "cameras = ['Blue', 'Green', 'Red', 'IR']\n",
    "for cam in range(4):\n",
    "    plt.scatter(JDs, SNR[0,:,cam], s = expTime, c = colors[cam], label = cameras[cam])\n",
    "plt.legend(loc=0)\n",
    "plt.ylabel('SNR')\n",
    "plt.xlabel('JD')\n",
    "plt.show()"
   ]
  },
  {
   "cell_type": "code",
   "execution_count": 49,
   "metadata": {
    "collapsed": false
   },
   "outputs": [
    {
     "name": "stdout",
     "output_type": "stream",
     "text": [
      "Overwriting existing file 'data/ccd_1/25aug10042.fits'.\n",
      "Overwriting existing file 'data/ccd_2/25aug20042.fits'.\n",
      "Overwriting existing file 'data/ccd_3/25aug30042.fits'.\n",
      "Overwriting existing file 'data/ccd_4/25aug40042.fits'.\n",
      "Overwriting existing file 'data/ccd_1/25aug10052.fits'.\n",
      "Overwriting existing file 'data/ccd_2/25aug20052.fits'.\n",
      "Overwriting existing file 'data/ccd_3/25aug30052.fits'.\n",
      "Overwriting existing file 'data/ccd_4/25aug40052.fits'.\n"
     ]
    }
   ],
   "source": [
    "## Changes the OBJECT header property to reflect offsets and fibre changes - USE WITH CAUTION\n",
    "os.chdir('/Users/Carlos/Documents/HERMES/data/140825')\n",
    "front = '25aug'\n",
    "back = '0052.fits'\n",
    "#newName = '47Tuc IFU'\n",
    "#newName = '47Tuc center'\n",
    "#newName = 'rhoTuc #392 (Pivot 398)'\n",
    "newName = 'rhoTuc #176 (Pivot 175)'\n",
    "#newName = 'HD1581 #392 (Pivot 398)'\n",
    "#newName = 'HD1581 #176 (Pivot 175)'\n",
    "#newName = 'HD285507 #227 (Pivot 223)'\n",
    "for i in range(1,5):\n",
    "    a = pf.open('data/ccd_'+str(i)+'/'+ front + str(i) + back)\n",
    "    a[0].header['OBJECT']=newName\n",
    "    a.writeto('data/ccd_'+str(i)+'/'+ front + str(i) + back, clobber=True)  \n",
    "    a.close()"
   ]
  },
  {
   "cell_type": "code",
   "execution_count": null,
   "metadata": {
    "collapsed": false
   },
   "outputs": [],
   "source": []
  }
 ],
 "metadata": {
  "kernelspec": {
   "display_name": "Python 2",
   "language": "python",
   "name": "python2"
  },
  "language_info": {
   "codemirror_mode": {
    "name": "ipython",
    "version": 2
   },
   "file_extension": ".py",
   "mimetype": "text/x-python",
   "name": "python",
   "nbconvert_exporter": "python",
   "pygments_lexer": "ipython2",
   "version": "2.7.3"
  }
 },
 "nbformat": 4,
 "nbformat_minor": 0
}
