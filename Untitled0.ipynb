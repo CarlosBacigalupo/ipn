{
 "metadata": {
  "name": ""
 },
 "nbformat": 3,
 "nbformat_minor": 0,
 "worksheets": [
  {
   "cells": [
    {
     "cell_type": "code",
     "collapsed": false,
     "input": [
      "import numpy as np\n",
      "import pylab as plt\n"
     ],
     "language": "python",
     "metadata": {},
     "outputs": [],
     "prompt_number": 3
    },
    {
     "cell_type": "code",
     "collapsed": false,
     "input": [
      "# Dec1\tDec2\tDec3\tNo\tRA1\tRA2\tRA3\t    SpecType1\tVmag1\tK1\tK1_P\tK2\teccentricity\tgrade\tperi_arg\tperi_time\tperiod(days)\n",
      "# 56\t-65\t28\t   4.91\t    40\t0\t42\t28.373\tF6V\t       5.393\t26.10\t5.414713\tNaN\t0.02\t5\t269.3\t19299.110\t4.820200\n",
      "\n"
     ],
     "language": "python",
     "metadata": {},
     "outputs": [],
     "prompt_number": 4
    },
    {
     "cell_type": "code",
     "collapsed": false,
     "input": [
      "start_day = 2456889.500000 # The Julian date for CE  2014 August 20 00:00:00.0 UT  (10am australia)\n",
      "end_day = 2456895.500000 #The Julian date for CE  2014 August 26 00:00:00.0 UT (10am australia)\n",
      "\n",
      "days = np.linspace(start_day, end_day) \n",
      "\n",
      "P = 4.820200\n",
      "peri_arg = 269.3\n",
      "peri_time = 19299.110 + 2400000\n",
      "K1 = 26100 #m/s\n",
      "no = 'rhoTuc'\n",
      "RV = K1* np.sin( (days-peri_time)/P*2*np.pi + peri_arg/360*2*np.pi )\n",
      "plt.plot(days, RV, linewidth = 1, label = no )\n",
      "\n",
      "P = 6.0881\n",
      "peri_arg = 182\n",
      "peri_time = 2456263\n",
      "K1 = 125.8 #m/s\n",
      "no = 'HD285507'\n",
      "RV = K1* np.sin( (days-peri_time)/P*2*np.pi + peri_arg/360*2*np.pi )\n",
      "plt.plot(days, RV, linewidth = 1, label = no )\n",
      "\n",
      "P = 6.0881\n",
      "peri_arg = 182\n",
      "peri_time = 2456263\n",
      "K1 = 10.8 #m/s\n",
      "no = 'HD1581'\n",
      "RV = K1* np.sin( (days-peri_time)/P*2*np.pi + peri_arg/360*2*np.pi )\n",
      "plt.plot(days, RV, linewidth = 1, label = no )\n",
      "\n",
      "\n",
      "plt.xlabel('JD')\n",
      "plt.ylabel('RV (m/s)')\n",
      "plt.gca().add_patch(plt.Rectangle((2456890.083333,-100000),0.2083339998498559,200000, alpha = 0.5, label = 'Observing Time'))\n",
      "plt.gca().add_patch(plt.Rectangle((2456891.083333,-100000),0.2083339998498559,200000, alpha = 0.5))\n",
      "plt.gca().add_patch(plt.Rectangle((2456892.083333,-100000),0.2083339998498559,200000, alpha = 0.5))\n",
      "plt.gca().add_patch(plt.Rectangle((2456894.083333,-100000),0.2083339998498559,200000, alpha = 0.5))\n",
      "plt.gca().add_patch(plt.Rectangle((2456895.083333,-100000),0.2083339998498559,200000, alpha = 0.5))\n",
      "\n",
      "plt.legend()\n",
      "plt.show()\n"
     ],
     "language": "python",
     "metadata": {},
     "outputs": [],
     "prompt_number": 14
    },
    {
     "cell_type": "code",
     "collapsed": false,
     "input": [
      "start_day = 2456889.500000 # The Julian date for CE  2014 August 20 00:00:00.0 UT  (10am australia)\n",
      "end_day = 2456895.500000 #The Julian date for CE  2014 August 26 00:00:00.0 UT (10am australia)\n",
      "\n",
      "days = np.linspace(start_day, end_day) \n",
      "\n",
      "P = 4.820200\n",
      "peri_arg = 269.3\n",
      "peri_time = 19299.110 + 2400000\n",
      "K1 = 26100 #m/s\n",
      "no = 'rhoTuc'\n",
      "RV_t = K1* np.sin( (days-peri_time)/P*2*np.pi + peri_arg/360*2*np.pi )/P/24*5\n",
      "plt.plot(days, RV_t, linewidth = 1, label = no )\n",
      "\n",
      "P = 6.0881\n",
      "peri_arg = 182\n",
      "peri_time = 2456263\n",
      "K1 = 125.8 #m/s\n",
      "no = 'HD285507'\n",
      "RV_t = K1* np.sin( (days-peri_time)/P*2*np.pi + peri_arg/360*2*np.pi )/P/24*5\n",
      "plt.plot(days, RV_t, linewidth = 1, label = no )\n",
      "\n",
      "P = 6.0881\n",
      "peri_arg = 182\n",
      "peri_time = 2456263\n",
      "K1 = 10.8 #m/s\n",
      "no = 'HD1581'\n",
      "RV_t = K1* np.sin( (days-peri_time)/P*2*np.pi + peri_arg/360*2*np.pi )/P/24*5\n",
      "plt.plot(days, RV_t, linewidth = 1, label = no )\n",
      "\n",
      "\n",
      "plt.xlabel('JD')\n",
      "plt.ylabel('RV (m/s/5hrs)')\n",
      "plt.gca().add_patch(plt.Rectangle((2456890.083333,-100000),0.2083339998498559,200000, alpha = 0.5, label = 'Observing Time'))\n",
      "plt.gca().add_patch(plt.Rectangle((2456891.083333,-100000),0.2083339998498559,200000, alpha = 0.5))\n",
      "plt.gca().add_patch(plt.Rectangle((2456892.083333,-100000),0.2083339998498559,200000, alpha = 0.5))\n",
      "plt.gca().add_patch(plt.Rectangle((2456894.083333,-100000),0.2083339998498559,200000, alpha = 0.5))\n",
      "plt.gca().add_patch(plt.Rectangle((2456895.083333,-100000),0.2083339998498559,200000, alpha = 0.5))\n",
      "plt.title('RV variation every 5hrs')\n",
      "plt.legend()\n",
      "plt.show()\n"
     ],
     "language": "python",
     "metadata": {},
     "outputs": [],
     "prompt_number": 19
    },
    {
     "cell_type": "code",
     "collapsed": false,
     "input": [],
     "language": "python",
     "metadata": {},
     "outputs": []
    }
   ],
   "metadata": {}
  }
 ]
}