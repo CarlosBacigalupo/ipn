{
 "metadata": {
  "name": ""
 },
 "nbformat": 3,
 "nbformat_minor": 0,
 "worksheets": [
  {
   "cells": [
    {
     "cell_type": "code",
     "collapsed": false,
     "input": [
      "import TableBrowser as TB\n",
      "import toolbox\n",
      "import pandas\n",
      "import numpy as np\n",
      "import pylab as plt\n",
      "import pickle"
     ],
     "language": "python",
     "metadata": {},
     "outputs": [],
     "prompt_number": 28
    },
    {
     "cell_type": "code",
     "collapsed": false,
     "input": [
      "WORKING_DIR = '/Users/Carlos/Documents/HERMES/reductions/m67/'\n",
      "FLD_DIR = WORKING_DIR + 'fld/'"
     ],
     "language": "python",
     "metadata": {},
     "outputs": [],
     "prompt_number": 2
    },
    {
     "cell_type": "heading",
     "level": 4,
     "metadata": {},
     "source": [
      "Opens the following lists into dataframes\n",
      "3 x flds\n",
      "3 x lis"
     ]
    },
    {
     "cell_type": "code",
     "collapsed": false,
     "input": [
      "fileName = WORKING_DIR + 'M67_bright.fld'\n",
      "V10V12 = TB.FibreTable(fileName)\n",
      "print V10V12.df.shape\n",
      "\n",
      "fileName = WORKING_DIR + 'M67_12V14.fld'\n",
      "V12V14 = TB.FibreTable(fileName)\n",
      "print V12V14.df.shape\n",
      "\n",
      "fileName = WORKING_DIR + 'M67_14V16.fld'\n",
      "V14V16 = TB.FibreTable(fileName)\n",
      "print V14V16.df.shape\n",
      "\n",
      "fileName = WORKING_DIR + 'M67_bright_p1.lis'\n",
      "lis10V12 = TB.FibreTable(fileName)\n",
      "lis10V12.df['plate'] = 1\n",
      "print lis10V12.df.shape\n",
      "\n",
      "fileName = WORKING_DIR + 'M67_12V14_p0.lis'\n",
      "lis12V14 = TB.FibreTable(fileName)\n",
      "lis12V14.df['plate'] = 0\n",
      "print lis12V14.df.shape\n",
      "\n",
      "fileName = WORKING_DIR + 'M67_14V16_p1.lis'\n",
      "lis14V16 = TB.FibreTable(fileName)\n",
      "lis14V16.df['plate'] = 1\n",
      "print lis14V16.df.shape\n"
     ],
     "language": "python",
     "metadata": {},
     "outputs": [
      {
       "output_type": "stream",
       "stream": "stdout",
       "text": [
        "(109, 12)\n",
        "(224, 12)\n",
        "(204, 12)\n",
        "(400, 13)\n",
        "(400, 13)"
       ]
      },
      {
       "output_type": "stream",
       "stream": "stdout",
       "text": [
        "\n",
        "(400, 13)\n"
       ]
      }
     ],
     "prompt_number": 11
    },
    {
     "cell_type": "raw",
     "metadata": {},
     "source": [
      "Open full stetson into dataframe"
     ]
    },
    {
     "cell_type": "code",
     "collapsed": false,
     "input": [
      "tableData = TB.read_external_file(WORKING_DIR + 'Positions.txt')  \n",
      "d = range(len(tableData))\n",
      "d[0] = 'RA_dec'\n",
      "d[1] = 'Dec_dec'\n",
      "d[2] = 'RA_h'\n",
      "d[3] = 'RA_min'\n",
      "d[4] = 'RA_sec'\n",
      "d[5] = 'Dec_deg'\n",
      "d[6] = 'Dec_min'\n",
      "d[7] = 'Dec_sec'\n",
      "d[12] = 'target'\n",
      "stetson_df = TB.build_DataFrame(tableData, d)\n",
      "\n",
      "#adds stetson's photometry data and B-V column\n",
      "tableData = TB.read_external_file(WORKING_DIR + 'Photometry.txt')  \n",
      "header = tableData.transpose()[0] \n",
      "d = np.hstack((['target'], header))\n",
      "photometry_df = TB.build_DataFrame(tableData, d)\n",
      "stetson_df = stetson_df.merge(photometry_df, on='target')\n",
      "stetson_df['B'] = stetson_df['B'].astype(float)\n",
      "stetson_df['V'] = stetson_df['V'].astype(float)\n",
      "stetson_df['B'][stetson_df['B']==99.999] = np.nan\n",
      "stetson_df['V'][stetson_df['V']==99.999] = np.nan\n",
      "stetson_df['BV'] = stetson_df['B'] - stetson_df['V']\n",
      "stetson_df['mag'] = stetson_df['V']\n",
      "stetson_df.index = range(stetson_df.shape[0])\n",
      "\n",
      "print stetson_df.shape"
     ],
     "language": "python",
     "metadata": {},
     "outputs": [
      {
       "output_type": "stream",
       "stream": "stdout",
       "text": [
        "(857, 23)\n"
       ]
      }
     ],
     "prompt_number": 12
    },
    {
     "cell_type": "code",
     "collapsed": false,
     "input": [
      "stetson_df.to_pickle('stetson.pd')"
     ],
     "language": "python",
     "metadata": {},
     "outputs": [],
     "prompt_number": 31
    },
    {
     "cell_type": "raw",
     "metadata": {},
     "source": [
      "separates sky, fiducials and program stars\n",
      "concatenates flds and lis\n",
      "creates indices and observed, selected fields"
     ]
    },
    {
     "cell_type": "code",
     "collapsed": false,
     "input": [
      "sky_df = V10V12.df[V10V12.df['type']=='S']\n",
      "sky_df.index = range(sky_df.shape[0])\n",
      "\n",
      "fiducials_df = V10V12.df[V10V12.df['type']=='F']\n",
      "fiducials_df.index = range(fiducials_df.shape[0])\n",
      "\n",
      "V10_df = V10V12.df[V10V12.df['type']=='P']\n",
      "V12_df = V12V14.df[V12V14.df['type']=='P']\n",
      "V14_df = V14V16.df[V14V16.df['type']=='P']\n",
      "\n",
      "V_df = pandas.concat((V10_df, V12_df, V14_df))\n",
      "V_df['selected'] = 1\n",
      "V_df.index = range(V_df.shape[0])\n",
      "\n",
      "lis_df = pandas.concat((lis10V12.df, lis12V14.df, lis14V16.df))\n",
      "lis_df['observed'] = 1\n",
      "lis_df.index = range(lis_df.shape[0])"
     ],
     "language": "python",
     "metadata": {},
     "outputs": [],
     "prompt_number": 13
    },
    {
     "cell_type": "code",
     "collapsed": false,
     "input": [
      "full_df = stetson_df.merge(V_df[['selected', 'target']], on='target', how='left' )\n",
      "full_df['selected'][np.isnan(full_df['selected'])]=0"
     ],
     "language": "python",
     "metadata": {},
     "outputs": [],
     "prompt_number": 14
    },
    {
     "cell_type": "code",
     "collapsed": false,
     "input": [
      "full_df = full_df.merge(lis_df[['observed', 'pivot', 'target']], on='target', how='left' )\n",
      "full_df['observed'][np.isnan(full_df['observed'])]=0\n",
      "full_df.shape"
     ],
     "language": "python",
     "metadata": {},
     "outputs": [
      {
       "metadata": {},
       "output_type": "pyout",
       "prompt_number": 15,
       "text": [
        "(857, 26)"
       ]
      }
     ],
     "prompt_number": 15
    },
    {
     "cell_type": "code",
     "collapsed": false,
     "input": [
      "full_df = full_df[full_df['BV']>=0.3]\n",
      "full_df.shape"
     ],
     "language": "python",
     "metadata": {},
     "outputs": [
      {
       "metadata": {},
       "output_type": "pyout",
       "prompt_number": 8,
       "text": [
        "(400, 26)"
       ]
      }
     ],
     "prompt_number": 8
    },
    {
     "cell_type": "code",
     "collapsed": false,
     "input": [
      "full_df = full_df[((full_df['BV']>=0.3) | (np.isnan(full_df['BV'])))]\n",
      "full_df.shape"
     ],
     "language": "python",
     "metadata": {},
     "outputs": [
      {
       "metadata": {},
       "output_type": "pyout",
       "prompt_number": 16,
       "text": [
        "(849, 26)"
       ]
      }
     ],
     "prompt_number": 16
    },
    {
     "cell_type": "code",
     "collapsed": false,
     "input": [
      "full_df['P'] = full_df['observed']*9\n",
      "full_df['P'][full_df['observed']==0] = full_df['selected']*8\n",
      "full_df['P'][full_df['observed']==0] = 7\n",
      "full_df['P'][np.isnan(full_df['B'])] = 1"
     ],
     "language": "python",
     "metadata": {},
     "outputs": [],
     "prompt_number": 68
    },
    {
     "cell_type": "code",
     "collapsed": false,
     "input": [
      "f10_df = full_df[full_df['mag']<=13] \n",
      "f10_df['P'][((f10_df['P']==7) & (f10_df['mag']>=11))] = 6\n",
      "f10_df['P'][((f10_df['P']==6) & (f10_df['mag']>=12))] = 5\n",
      "f10_df['P'][((f10_df['P']==5) & (f10_df['mag']>=12.5))] = 4\n",
      "f10_df.index = range(f10_df.shape[0])\n",
      "f10_df.shape"
     ],
     "language": "python",
     "metadata": {},
     "outputs": [
      {
       "metadata": {},
       "output_type": "pyout",
       "prompt_number": 69,
       "text": [
        "(88, 27)"
       ]
      }
     ],
     "prompt_number": 69
    },
    {
     "cell_type": "code",
     "collapsed": false,
     "input": [
      "f125_df = full_df[full_df['mag']>=12.5]\n",
      "f125_df['P'][((f125_df['P']==7) & (f125_df['mag']>=13.5))] = 6\n",
      "f125_df['P'][((f125_df['P']==6) & (f125_df['mag']>=14.5))] = 5\n",
      "f125_df['P'][((f125_df['P']==5) & (f125_df['mag']>=15))] = 4\n",
      "f125_df.index = range(f125_df.shape[0])\n",
      "f125_df.shape"
     ],
     "language": "python",
     "metadata": {},
     "outputs": [
      {
       "metadata": {},
       "output_type": "pyout",
       "prompt_number": 70,
       "text": [
        "(368, 27)"
       ]
      }
     ],
     "prompt_number": 70
    },
    {
     "cell_type": "code",
     "collapsed": false,
     "input": [
      "toolbox.write_fld(f10_df, sky_df, fiducials_df, FLD_DIR + 'M67_10.fld', ('08 51 18.0', '11 48 00.00'), title = 'M67 Short Field')\n",
      "toolbox.write_fld(f125_df, sky_df, fiducials_df, FLD_DIR + 'M67_125.fld', ('08 51 18.0', '11 48 00.00'), title = 'M67 Long Field')"
     ],
     "language": "python",
     "metadata": {},
     "outputs": [],
     "prompt_number": 71
    },
    {
     "cell_type": "code",
     "collapsed": false,
     "input": [
      "print np.sum(stetson_df['mag']>=12.5), np.sum(stetson_df['mag']<=14)"
     ],
     "language": "python",
     "metadata": {},
     "outputs": [
      {
       "output_type": "stream",
       "stream": "stdout",
       "text": [
        "811 217\n"
       ]
      }
     ],
     "prompt_number": 14
    },
    {
     "cell_type": "code",
     "collapsed": false,
     "input": [
      "print np.sum(full_df['mag']>=12.5), np.sum(full_df['mag']<=13)"
     ],
     "language": "python",
     "metadata": {},
     "outputs": [
      {
       "output_type": "stream",
       "stream": "stdout",
       "text": [
        "811 110\n"
       ]
      }
     ],
     "prompt_number": 10
    },
    {
     "cell_type": "code",
     "collapsed": false,
     "input": [
      "f10_df"
     ],
     "language": "python",
     "metadata": {},
     "outputs": [
      {
       "html": [
        "<pre>\n",
        "&lt;class 'pandas.core.frame.DataFrame'&gt;\n",
        "Int64Index: 102 entries, 0 to 101\n",
        "Data columns (total 27 columns):\n",
        "8           102  non-null values\n",
        "9           102  non-null values\n",
        "10          102  non-null values\n",
        "11          102  non-null values\n",
        "Dec_dec     102  non-null values\n",
        "Dec_deg     102  non-null values\n",
        "Dec_min     102  non-null values\n",
        "Dec_sec     102  non-null values\n",
        "RA_dec      102  non-null values\n",
        "RA_h        102  non-null values\n",
        "RA_min      102  non-null values\n",
        "RA_sec      102  non-null values\n",
        "target      102  non-null values\n",
        "B           88  non-null values\n",
        "I           102  non-null values\n",
        "N           102  non-null values\n",
        "R           102  non-null values\n",
        "U           102  non-null values\n",
        "V           102  non-null values\n",
        "n           102  non-null values\n",
        "sigma       102  non-null values\n",
        "BV          88  non-null values\n",
        "mag         102  non-null values\n",
        "selected    102  non-null values\n",
        "observed    102  non-null values\n",
        "pivot       68  non-null values\n",
        "P           102  non-null values\n",
        "dtypes: float64(7), object(20)\n",
        "</pre>"
       ],
       "metadata": {},
       "output_type": "pyout",
       "prompt_number": 32,
       "text": [
        "<class 'pandas.core.frame.DataFrame'>\n",
        "Int64Index: 102 entries, 0 to 101\n",
        "Data columns (total 27 columns):\n",
        "8           102  non-null values\n",
        "9           102  non-null values\n",
        "10          102  non-null values\n",
        "11          102  non-null values\n",
        "Dec_dec     102  non-null values\n",
        "Dec_deg     102  non-null values\n",
        "Dec_min     102  non-null values\n",
        "Dec_sec     102  non-null values\n",
        "RA_dec      102  non-null values\n",
        "RA_h        102  non-null values\n",
        "RA_min      102  non-null values\n",
        "RA_sec      102  non-null values\n",
        "target      102  non-null values\n",
        "B           88  non-null values\n",
        "I           102  non-null values\n",
        "N           102  non-null values\n",
        "R           102  non-null values\n",
        "U           102  non-null values\n",
        "V           102  non-null values\n",
        "n           102  non-null values\n",
        "sigma       102  non-null values\n",
        "BV          88  non-null values\n",
        "mag         102  non-null values\n",
        "selected    102  non-null values\n",
        "observed    102  non-null values\n",
        "pivot       68  non-null values\n",
        "P           102  non-null values\n",
        "dtypes: float64(7), object(20)"
       ]
      }
     ],
     "prompt_number": 32
    },
    {
     "cell_type": "code",
     "collapsed": false,
     "input": [],
     "language": "python",
     "metadata": {},
     "outputs": []
    },
    {
     "cell_type": "code",
     "collapsed": false,
     "input": [
      "a = (0,2,'hello')"
     ],
     "language": "python",
     "metadata": {},
     "outputs": [],
     "prompt_number": 9
    },
    {
     "cell_type": "code",
     "collapsed": false,
     "input": [
      "a += (121,)"
     ],
     "language": "python",
     "metadata": {},
     "outputs": [],
     "prompt_number": 12
    },
    {
     "cell_type": "code",
     "collapsed": false,
     "input": [
      "a "
     ],
     "language": "python",
     "metadata": {},
     "outputs": [
      {
       "metadata": {},
       "output_type": "pyout",
       "prompt_number": 13,
       "text": [
        "(0, 2, 'hello', 121)"
       ]
      }
     ],
     "prompt_number": 13
    },
    {
     "cell_type": "code",
     "collapsed": false,
     "input": [
      "for i in a: b += str(i) + ' '"
     ],
     "language": "python",
     "metadata": {},
     "outputs": [],
     "prompt_number": 28
    },
    {
     "cell_type": "code",
     "collapsed": false,
     "input": [
      "b=''"
     ],
     "language": "python",
     "metadata": {},
     "outputs": [],
     "prompt_number": 27
    },
    {
     "cell_type": "code",
     "collapsed": false,
     "input": [
      "b"
     ],
     "language": "python",
     "metadata": {},
     "outputs": [
      {
       "metadata": {},
       "output_type": "pyout",
       "prompt_number": 29,
       "text": [
        "'0 2 hello 121 '"
       ]
      }
     ],
     "prompt_number": 29
    },
    {
     "cell_type": "code",
     "collapsed": false,
     "input": [
      "a = V_df['mag']"
     ],
     "language": "python",
     "metadata": {},
     "outputs": [],
     "prompt_number": 38
    },
    {
     "cell_type": "code",
     "collapsed": false,
     "input": [
      "type(a)"
     ],
     "language": "python",
     "metadata": {},
     "outputs": [
      {
       "metadata": {},
       "output_type": "pyout",
       "prompt_number": 39,
       "text": [
        "pandas.core.series.Series"
       ]
      }
     ],
     "prompt_number": 39
    },
    {
     "cell_type": "code",
     "collapsed": false,
     "input": [
      "a[0]"
     ],
     "language": "python",
     "metadata": {},
     "outputs": [
      {
       "metadata": {},
       "output_type": "pyout",
       "prompt_number": 41,
       "text": [
        "'8.84'"
       ]
      }
     ],
     "prompt_number": 41
    },
    {
     "cell_type": "code",
     "collapsed": false,
     "input": [
      "a.index"
     ],
     "language": "python",
     "metadata": {},
     "outputs": [
      {
       "metadata": {},
       "output_type": "pyout",
       "prompt_number": 35,
       "text": [
        "Int64Index([18, 19, 20, 21, 22, 23, 24, 25, 26, 27, 28, 29, 30, 31, 32, 33, 34, 35, 36, 37, 38, 39, 40, 41, 42, 43, 44, 45, 46, 47, 48, 49, 18, 19, 20, 21, 22, 23, 24, 25, 26, 27, 28, 29, 30, 31, 32, 33, 34, 35, 36, 37, 38, 39, 40, 41, 42, 43, 44, 45, 46, 47, 48, 49, 50, 51, 52, 53, 54, 55, 56, 57, 58, 59, 60, 61, 62, 63, 64, 65, 66, 67, 68, 69, 70, 71, 72, 73, 74, 75, 76, 77, 78, 79, 80, 81, 82, 83, 84, 85, 86, 87, 88, 89, 90, 91, 92, 93, 94, 95, 96, 97, 98, 99, 100, 101, 102, 103, 104, 105, 106, 107, 108, 109, 110, 111, 112, 113, 114, 115, 116, 117, 118, 119, 120, 121, 122, 123, 124, 125, 126, 127, 128, 129, 130, 131, 132, 133, 134, 135, 136, 137, 138, 139, 140, 141, 142, 143, 144, 145, 146, 147, 148, 149, 150, 151, 152, 153, 154, 155, 156, 157, 158, 159, 160, 161, 162, 163, 164, 18, 19, 20, 21, 22, 23, 24, 25, 26, 27, 28, 29, 30, 31, 32, 33, 34, 35, 36, 37, 38, 39, 40, 41, 42, 43, 44, 45, 46, 47, 48, 49, 50, 51, 52, 53, 54, 55, 56, 57, 58, 59, 60, 61, 62, 63, 64, 65, 66, 67, 68, 69, 70, 71, 72, 73, 74, 75, 76, 77, 78, 79, 80, 81, 82, 83, 84, 85, 86, 87, 88, 89, 90, 91, 92, 93, 94, 95, 96, 97, 98, 99, 100, 101, 102, 103, 104, 105, 106, 107, 108, 109, 110, 111, 112, 113, 114, 115, 116, 117, 118, 119, 120, 121, 122, 123, 124, 125, 126, 127, 128, 129, 130, 131, 132, 133, 134, 135, 136, 137, 138, 139, 140, 141, 142, 143, 144], dtype=int64)"
       ]
      }
     ],
     "prompt_number": 35
    },
    {
     "cell_type": "code",
     "collapsed": false,
     "input": [
      "V_df.index=V_df['target']"
     ],
     "language": "python",
     "metadata": {},
     "outputs": [],
     "prompt_number": 37
    },
    {
     "cell_type": "code",
     "collapsed": false,
     "input": [
      "V_df['Dec_sec']"
     ],
     "language": "python",
     "metadata": {},
     "outputs": [
      {
       "metadata": {},
       "output_type": "pyout",
       "prompt_number": 12,
       "text": [
        "target\n",
        "M67-IV-202     24.49\n",
        "M67-T626       10.41\n",
        "M67-F-81       22.13\n",
        "M67-F-108      22.68\n",
        "M67-F-135        6.2\n",
        "M67-F-170      16.84\n",
        "M67-I-242bl     0.54\n",
        "M67-S11        51.95\n",
        "M67-S18        42.42\n",
        "M67-S20        37.87\n",
        "M67-S23        14.66\n",
        "M67-S26        52.55\n",
        "M67-S33        23.03\n",
        "M67-S34        26.47\n",
        "M67-S35        10.48\n",
        "...\n",
        "M67-482     47.47\n",
        "M67-S565    30.02\n",
        "M67-S202    22.11\n",
        "M67-S327     5.98\n",
        "M67-S217    35.38\n",
        "M67-402     52.45\n",
        "M67-S569    33.84\n",
        "M67-375      35.7\n",
        "M67-S479     50.3\n",
        "M67-457     12.05\n",
        "M67-432     37.55\n",
        "M67-S617    45.13\n",
        "M67-S299    44.38\n",
        "M67-S303      5.0\n",
        "M67-S522    58.87\n",
        "Name: Dec_sec, Length: 306, dtype: object"
       ]
      }
     ],
     "prompt_number": 12
    },
    {
     "cell_type": "code",
     "collapsed": false,
     "input": [
      "plt.subplot(121)\n",
      "plt.scatter(stetson_df['RA_dec'].astype(float), stetson_df['Dec_dec'].astype(float))\n",
      "# plt.show()"
     ],
     "language": "python",
     "metadata": {},
     "outputs": [
      {
       "metadata": {},
       "output_type": "pyout",
       "prompt_number": 25,
       "text": [
        "<matplotlib.collections.PathCollection at 0x1070f4710>"
       ]
      }
     ],
     "prompt_number": 25
    },
    {
     "cell_type": "code",
     "collapsed": false,
     "input": [
      "plt.subplot(122)\n",
      "plt.scatter(stetson_df['BV'].astype(float), -stetson_df['V'].astype(float))\n",
      "plt.show()"
     ],
     "language": "python",
     "metadata": {},
     "outputs": [],
     "prompt_number": 26
    },
    {
     "cell_type": "code",
     "collapsed": false,
     "input": [],
     "language": "python",
     "metadata": {},
     "outputs": []
    }
   ],
   "metadata": {}
  }
 ]
}