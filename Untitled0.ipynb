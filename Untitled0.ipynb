{
 "metadata": {
  "name": "",
  "signature": "sha256:ea1205c04ec1ab8154fde92aa9cc049373e7b6fd758ac899cc8713c8c4e3ffa2"
 },
 "nbformat": 3,
 "nbformat_minor": 0,
 "worksheets": []
}