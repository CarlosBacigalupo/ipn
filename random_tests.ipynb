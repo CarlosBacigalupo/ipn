{
 "cells": [
  {
   "cell_type": "code",
   "execution_count": 12,
   "metadata": {
    "collapsed": false
   },
   "outputs": [
    {
     "name": "stdout",
     "output_type": "stream",
     "text": [
      "/Users/Carlos/Documents/HERMES/reductions/6.5/m67_lr\n"
     ]
    }
   ],
   "source": [
    "cd ~/Documents/HERMES/reductions/6.5/m67_lr/"
   ]
  },
  {
   "cell_type": "code",
   "execution_count": null,
   "metadata": {
    "collapsed": false
   },
   "outputs": [],
   "source": [
    "i=0\n",
    "for x,y,label in zip(thisCam.wavelengths, thisCam.red_fluxes, thisCam.fileNames):\n",
    "    plt.plot(x,y+i, label= label, c='k')\n",
    "    i+=300\n",
    "plt.title(thisStar.name)\n",
    "# plt.legend(loc = 0)\n",
    "plt.show()"
   ]
  },
  {
   "cell_type": "code",
   "execution_count": null,
   "metadata": {
    "collapsed": false
   },
   "outputs": [],
   "source": [
    "for i in a.sigmas[:]:\n",
    "    plt.plot(i)\n",
    "plt.show()"
   ]
  },
  {
   "cell_type": "code",
   "execution_count": null,
   "metadata": {
    "collapsed": false
   },
   "outputs": [],
   "source": [
    "np.sum(thisCam.wavelengths,1)\n",
    "np.sum(np.isnan(thisCam.wavelengths))"
   ]
  },
  {
   "cell_type": "code",
   "execution_count": null,
   "metadata": {
    "collapsed": false
   },
   "outputs": [],
   "source": [
    "mid_px = thisCam.wavelengths.shape[1]/2\n",
    "dWl = (thisCam.wavelengths[0,mid_px+1]-thisCam.wavelengths[0,mid_px]) / thisCam.wavelengths[0,mid_px]\n",
    "RV = dWl * 0.5 * 3e8\n",
    "print 'RV',RV, mid_px, thisCam.wavelengths[0,mid_px+1], thisCam.wavelengths[0,mid_px]\n"
   ]
  },
  {
   "cell_type": "code",
   "execution_count": 2,
   "metadata": {
    "collapsed": false
   },
   "outputs": [],
   "source": [
    "from scipy.ndimage.measurements import label\n",
    "import numpy as np"
   ]
  },
  {
   "cell_type": "code",
   "execution_count": 57,
   "metadata": {
    "collapsed": true
   },
   "outputs": [],
   "source": [
    "from scipy import nanmedian"
   ]
  },
  {
   "cell_type": "code",
   "execution_count": 7,
   "metadata": {
    "collapsed": false
   },
   "outputs": [
    {
     "name": "stdout",
     "output_type": "stream",
     "text": [
      "[False  True False False False  True  True False  True False] (array([0, 1, 0, 0, 0, 2, 2, 0, 3, 0], dtype=int32), 3)\n"
     ]
    }
   ],
   "source": [
    "a = np.random.rand(10)>0.5\n",
    "print a,label(a)"
   ]
  },
  {
   "cell_type": "code",
   "execution_count": 19,
   "metadata": {
    "collapsed": false
   },
   "outputs": [],
   "source": [
    "import pickle\n",
    "import RVTools as RVT\n",
    "import pylab as plt\n",
    "# filename = 'HD1581.obj'\n",
    "# filename = 'Brght01.obj'\n",
    "# filename = 'red_Giant01.obj'\n",
    "# filename = 'Giant01.obj'\n",
    "filename = 'obj/HD1581.obj'\n",
    "filename = 'obj/M67-375_216_1_56668.5921065.obj'\n",
    "filename = 'obj/M67-381_186_0_56643.6659144.obj'\n",
    "filename = 'obj/M67-381_186_0_56664.5809375.obj'\n",
    "\n",
    "filehandler = open(filename, 'r')\n",
    "thisStar = pickle.load(filehandler)\n",
    "thisCam = thisStar.exposures.cameras[0]\n"
   ]
  },
  {
   "cell_type": "code",
   "execution_count": 60,
   "metadata": {
    "collapsed": false
   },
   "outputs": [
    {
     "data": {
      "text/plain": [
       "[<matplotlib.lines.Line2D at 0x109ac9e90>]"
      ]
     },
     "execution_count": 60,
     "metadata": {},
     "output_type": "execute_result"
    }
   ],
   "source": [
    "flux = thisCam.red_fluxes[0].copy()\n",
    "flux2 = flux.copy()\n",
    "flux[:30] = np.nan\n",
    "flux[3336:3339] = np.nan\n",
    "flux[4080:4097] = np.nan\n",
    "plt.plot(flux)\n",
    "plt.plot(flux2)\n",
    "# plt.show()"
   ]
  },
  {
   "cell_type": "code",
   "execution_count": 62,
   "metadata": {
    "collapsed": false
   },
   "outputs": [
    {
     "name": "stdout",
     "output_type": "stream",
     "text": [
      "beginning\n",
      "middle\n",
      "[3336 3337 3338]\n"
     ]
    }
   ],
   "source": [
    "nanMap = np.isnan(flux)\n",
    "\n",
    "if np.sum(nanMap)<flux.shape[0]:\n",
    "\n",
    "    nanGroups, nNanGroups = label(nanMap)\n",
    "\n",
    "    for thisGroup in range(1,nNanGroups+1):\n",
    "        pxFix = np.where(nanGroups==thisGroup)[0]\n",
    "#         print pxFix,\n",
    "        if np.min(pxFix)==0: #is it at the beggining?\n",
    "            print 'beginning'\n",
    "            vlMin = nanmedian(flux)\n",
    "            vlMax = flux[np.max(pxFix)+1]\n",
    "        elif np.max(pxFix)==(flux.shape[0]-1):  #is it at the end?\n",
    "            print 'end'\n",
    "            vlMin = flux[np.min(pxFix)-1]\n",
    "            vlMax = nanmedian(flux)\n",
    "        else:\n",
    "            print 'middle'\n",
    "            vlMin = flux[np.min(pxFix)-1]\n",
    "            vlMax = flux[np.max(pxFix)+1]\n",
    "    \n",
    "    print pxFix\n",
    "    flux[pxFix] = np.linspace(vlMin, vlMax, num=pxFix.shape[0])\n",
    "\n",
    "plt.plot(flux)\n",
    "plt.show()\n",
    "\n",
    "# #     leftEdgeIdx=0\n",
    "# #     rightEdgeIdx=len(flux)\n",
    "\n",
    "# #     plt.plot(nanMap)\n",
    "# #     plt.show()\n",
    "\n",
    "# #     nanMapIdx = np.where(nanMap==True) <<<<<make the next lines faster by using this\n",
    "# if np.sum(nanMap)>0:\n",
    "#     print 'Found NaNs in flux array'\n",
    "\n",
    "# for i,booI in enumerate(nanMap):\n",
    "#     if booI==False:\n",
    "#         leftEdgeIdx = i\n",
    "#         break\n",
    "\n",
    "# for j,rbooI in enumerate(nanMap[::-1]):\n",
    "#     if rbooI==False:\n",
    "#         rightEdgeIdx = len(nanMap)-j\n",
    "#         break        \n",
    "\n",
    "# fluxMedian = stats.nanmedian(flux)\n",
    "# if leftEdgeIdx>0:\n",
    "#     flux[:leftEdgeIdx] = np.linspace(fluxMedian, flux[leftEdgeIdx+1],leftEdgeIdx)\n",
    "# if rightEdgeIdx<len(flux):\n",
    "#     flux[rightEdgeIdx:] = np.linspace(flux[rightEdgeIdx-1], fluxMedian, len(flux)-rightEdgeIdx)\n",
    "\n",
    "# nanMap = np.isnan(flux)        \n",
    "# if np.sum(nanMap)>0:\n",
    "#     print 'NaNs remain in flux array'        \n",
    "\n",
    "# plt.plot(nanMap)\n",
    "# plt.show()\n"
   ]
  },
  {
   "cell_type": "code",
   "execution_count": null,
   "metadata": {
    "collapsed": false
   },
   "outputs": [],
   "source": [
    "import pickle\n",
    "import pylab as plt\n",
    "import numpy as np"
   ]
  },
  {
   "cell_type": "code",
   "execution_count": null,
   "metadata": {
    "collapsed": false
   },
   "outputs": [],
   "source": [
    "cd ~/Documents/HERMES/reductions/47Tuc_core_6.2/"
   ]
  },
  {
   "cell_type": "code",
   "execution_count": null,
   "metadata": {
    "collapsed": false
   },
   "outputs": [],
   "source": [
    "print np.all([np.nansum(thisCam.red_fluxes,1).astype(bool) for thisCam in thisStar.exposures.cameras],0)\n"
   ]
  },
  {
   "cell_type": "code",
   "execution_count": null,
   "metadata": {
    "collapsed": false
   },
   "outputs": [],
   "source": [
    "plt.plot(thisCam.red_fluxes[0])\n",
    "plt.show()"
   ]
  },
  {
   "cell_type": "code",
   "execution_count": null,
   "metadata": {
    "collapsed": false
   },
   "outputs": [],
   "source": [
    "print thisCam.SNRs\n",
    "print np.nansum(thisCam.red_fluxes,1)\n",
    "print thisCam.fileNames"
   ]
  },
  {
   "cell_type": "code",
   "execution_count": null,
   "metadata": {
    "collapsed": false
   },
   "outputs": [],
   "source": [
    "thisStar.exposures.JDs.shape[0]"
   ]
  },
  {
   "cell_type": "code",
   "execution_count": null,
   "metadata": {
    "collapsed": false
   },
   "outputs": [],
   "source": [
    "thisStar.exposures.JDs.shape"
   ]
  },
  {
   "cell_type": "code",
   "execution_count": null,
   "metadata": {
    "collapsed": false
   },
   "outputs": [],
   "source": [
    "import scipy as sp"
   ]
  },
  {
   "cell_type": "code",
   "execution_count": null,
   "metadata": {
    "collapsed": false
   },
   "outputs": [],
   "source": [
    "from scipy import optimize"
   ]
  },
  {
   "cell_type": "code",
   "execution_count": null,
   "metadata": {
    "collapsed": false
   },
   "outputs": [],
   "source": [
    "thisStar.exposures.abs_baryVels"
   ]
  },
  {
   "cell_type": "code",
   "execution_count": null,
   "metadata": {
    "collapsed": false
   },
   "outputs": [],
   "source": [
    "pwd"
   ]
  },
  {
   "cell_type": "code",
   "execution_count": null,
   "metadata": {
    "collapsed": false
   },
   "outputs": [],
   "source": [
    "print RVs[0].shape"
   ]
  },
  {
   "cell_type": "code",
   "execution_count": null,
   "metadata": {
    "collapsed": false
   },
   "outputs": [],
   "source": [
    "cd '/Users/Carlos/Documents/HERMES/reductions/47Tuc_core_6.2'"
   ]
  },
  {
   "cell_type": "code",
   "execution_count": null,
   "metadata": {
    "collapsed": false
   },
   "outputs": [],
   "source": [
    "RVs = np.load('RVs.npy')\n",
    "SNRs = np.load('SNRs.npy')"
   ]
  },
  {
   "cell_type": "code",
   "execution_count": null,
   "metadata": {
    "collapsed": false
   },
   "outputs": [],
   "source": [
    "for epoch in range(RVs.shape[1]):\n",
    "    cam = 0\n",
    "    R = RVs[:,epoch,cam]\n",
    "    S = SNRs[:,epoch,cam]\n",
    "    a = np.histogram(R)\n",
    "    plt.bar(a[1][:-1],a[0], width = (a[1][-2]-a[1][-1])*0.7)\n",
    "    plt.plot(R,S,'.', c='r')\n",
    "    plt.show()"
   ]
  },
  {
   "cell_type": "code",
   "execution_count": null,
   "metadata": {
    "collapsed": false
   },
   "outputs": [],
   "source": [
    "a = np.histogram(R)\n",
    "# plt.plot(a[1][:-1],a[0],'.')\n",
    "plt.bar(a[1][:-1],a[0], width = (a[1][-2]-a[1][-1])*0.7)\n",
    "plt.show()"
   ]
  },
  {
   "cell_type": "code",
   "execution_count": null,
   "metadata": {
    "collapsed": false
   },
   "outputs": [],
   "source": [
    "a = np.histogram(R)\n",
    "plt.plot(R,S,'.', c='r')\n",
    "# plt.bar(a[1][:-1],a[0], width = (a[1][-2]-a[1][-1])*0.7)\n",
    "plt.show()"
   ]
  },
  {
   "cell_type": "code",
   "execution_count": null,
   "metadata": {
    "collapsed": false
   },
   "outputs": [],
   "source": [
    "R = RVs[:,15,0]\n",
    "S = SNRs[:,15,0]"
   ]
  },
  {
   "cell_type": "code",
   "execution_count": null,
   "metadata": {
    "collapsed": false
   },
   "outputs": [],
   "source": [
    "a = np.histogram(R)\n",
    "# plt.plot(a[1][:-1],a[0],'.')\n",
    "plt.bar(a[1][:-1],a[0], width = (a[1][-2]-a[1][-1])*0.7)\n",
    "plt.show()"
   ]
  },
  {
   "cell_type": "code",
   "execution_count": null,
   "metadata": {
    "collapsed": false
   },
   "outputs": [],
   "source": [
    "import os"
   ]
  },
  {
   "cell_type": "code",
   "execution_count": null,
   "metadata": {
    "collapsed": true
   },
   "outputs": [],
   "source": [
    "os.curdir"
   ]
  },
  {
   "cell_type": "code",
   "execution_count": null,
   "metadata": {
    "collapsed": false
   },
   "outputs": [],
   "source": [
    "pwd"
   ]
  },
  {
   "cell_type": "code",
   "execution_count": null,
   "metadata": {
    "collapsed": false
   },
   "outputs": [],
   "source": [
    "os.getcwd().split('/')[-1]"
   ]
  },
  {
   "cell_type": "code",
   "execution_count": null,
   "metadata": {
    "collapsed": false
   },
   "outputs": [],
   "source": [
    "plt.plot(thisCam.red_fluxes)\n",
    "plt.show()"
   ]
  },
  {
   "cell_type": "code",
   "execution_count": null,
   "metadata": {
    "collapsed": false
   },
   "outputs": [],
   "source": [
    "i=6\n",
    "np.nanmean(thisCam.red_fluxes[i])/np.std(thisCam.red_fluxes[i])\n",
    "print np.sqrt(np.nanmean(thisCam.red_fluxes[i]))\n",
    "print np.nansum(thisCam.red_fluxes[i])\n",
    "print stats.nanmedian(thisCam.red_fluxes[i])/stats.nanstd(thisCam.red_fluxes[i])\n"
   ]
  },
  {
   "cell_type": "code",
   "execution_count": null,
   "metadata": {
    "collapsed": false
   },
   "outputs": [],
   "source": [
    "PyAstronomy"
   ]
  },
  {
   "cell_type": "code",
   "execution_count": null,
   "metadata": {
    "collapsed": false
   },
   "outputs": [],
   "source": [
    "import PyAstronomy"
   ]
  },
  {
   "cell_type": "code",
   "execution_count": 173,
   "metadata": {
    "collapsed": false
   },
   "outputs": [
    {
     "name": "stdout",
     "output_type": "stream",
     "text": [
      "/Users/Carlos/Documents/HERMES/reductions/6.5/m67_lr\n"
     ]
    }
   ],
   "source": [
    "cd ~/Documents/HERMES/reductions/6.5/m67_lr/"
   ]
  },
  {
   "cell_type": "code",
   "execution_count": 185,
   "metadata": {
    "collapsed": false
   },
   "outputs": [],
   "source": [
    "import pickle\n",
    "# filename = 'HD1581.obj'\n",
    "# filename = 'Brght01.obj'\n",
    "# filename = 'red_Giant01.obj'\n",
    "# filename = 'Giant01.obj'\n",
    "filename = 'obj/HD1581.obj'\n",
    "filename = 'obj/M67-375_216_1_56668.5921065.obj'\n",
    "filename = 'obj/M67-381_186_0_56643.6659144.obj'\n",
    "filename = 'obj/M67-381_186_0_56664.5809375.obj'\n",
    "\n",
    "filehandler = open(filename, 'r')\n",
    "thisStar = pickle.load(filehandler)\n",
    "thisCam = thisStar.exposures.cameras[0]\n"
   ]
  },
  {
   "cell_type": "code",
   "execution_count": 186,
   "metadata": {
    "collapsed": false
   },
   "outputs": [
    {
     "data": {
      "text/plain": [
       "array([ 56664.5809375 ,  56664.58902778,  56664.59740741,  56664.63881944,\n",
       "        56664.65820602,  56664.66615741,  56666.54596065,  56666.55387731,\n",
       "        56666.62518519,  56666.67864583,  56698.54451389,  56698.55930556,\n",
       "        56698.57407407,  56698.58885417,  56698.60363426,  56698.61841435,\n",
       "        56698.63320602,  56699.49320602,  56699.50798611,  56699.5227662 ,\n",
       "        56699.5375463 ,  56699.55233796,  56699.56711806])"
      ]
     },
     "execution_count": 186,
     "metadata": {},
     "output_type": "execute_result"
    }
   ],
   "source": [
    "thisStar.exposures.MJDs"
   ]
  },
  {
   "cell_type": "code",
   "execution_count": 187,
   "metadata": {
    "collapsed": false
   },
   "outputs": [],
   "source": [
    "import pylab as plt\n",
    "plt.plot(thisCam.red_fluxes[0])\n",
    "plt.show()"
   ]
  },
  {
   "cell_type": "code",
   "execution_count": null,
   "metadata": {
    "collapsed": false
   },
   "outputs": [],
   "source": [
    "from PyAstronomy import pyasl\n",
    "\n",
    "def baryTest2(baryVels, JDs):\n",
    "\n",
    "    for i,jd in enumerate((JDs+2400000.5)[:]):\n",
    "        heli, bary = pyasl.baryvel(jd, deq=2000.0)\n",
    "#         print \"Earth's velocity at JD: \", jd\n",
    "#         print \"Heliocentric velocity [km/s]: \", heli\n",
    "#         print \"Barycentric velocity [km/s] : \", bary\n",
    "\n",
    "        # Coordinates of Sirius\n",
    "        ra  = 101.28715535\n",
    "        dec = -16.71611587\n",
    "        \n",
    "        #thisStar coords\n",
    "        ra  = np.rad2deg(thisStar.RA)\n",
    "        dec = np.rad2deg(thisStar.Dec)\n",
    "        print np.rad2deg(thisStar.RA), np.rad2deg(thisStar.Dec), thisStar.name, thisStar.exposures.abs_baryVels[i]\n",
    "\n",
    "        \n",
    "        vh, vb = pyasl.baryCorr(jd, ra, dec, deq=2000.0)\n",
    "        print \"Barycentric velocity of Earth toward\",thisStar.name,'[m/s]', vb*1000\n",
    "        print vb*1000-thisStar.exposures.abs_baryVels[i]\n",
    "        print ''"
   ]
  },
  {
   "cell_type": "code",
   "execution_count": null,
   "metadata": {
    "collapsed": false
   },
   "outputs": [],
   "source": [
    "bary = np.load('npy/baryVels.npy')\n",
    "print bary, thisStar.exposures.abs_baryVels`"
   ]
  },
  {
   "cell_type": "code",
   "execution_count": null,
   "metadata": {
    "collapsed": false
   },
   "outputs": [],
   "source": [
    "from PyAstronomy import pyasl\n",
    "\n",
    "def baryTest(thisStar):\n",
    "\n",
    "    for i,jd in enumerate((thisStar.exposures.JDs+2400000.5)[:]):\n",
    "        heli, bary = pyasl.baryvel(jd, deq=0)\n",
    "#         print \"Earth's velocity at JD: \", jd\n",
    "#         print \"Heliocentric velocity [km/s]: \", heli\n",
    "#         print \"Barycentric velocity [km/s] : \", bary\n",
    "\n",
    "        # Coordinates of Sirius\n",
    "        ra  = 101.28715535\n",
    "        dec = -16.71611587\n",
    "        \n",
    "        #thisStar coords\n",
    "        ra  = thisStar.RA\n",
    "        dec = thisStar.Dec\n",
    "        print thisStar.RA/15, thisStar.Dec, thisStar.name, thisStar.exposures.abs_baryVels[i]\n",
    "\n",
    "        \n",
    "        vh, vb = pyasl.baryCorr(jd, ra, dec, deq=0)\n",
    "        print \"Barycentric velocity of Earth toward\",thisStar.name,'[m/s]', vb*1000\n",
    "        print vb*1000-thisStar.exposures.abs_baryVels[i]\n",
    "        print ''"
   ]
  },
  {
   "cell_type": "code",
   "execution_count": null,
   "metadata": {
    "collapsed": false
   },
   "outputs": [],
   "source": [
    "from iraf import pyraf"
   ]
  },
  {
   "cell_type": "code",
   "execution_count": null,
   "metadata": {
    "collapsed": false
   },
   "outputs": [],
   "source": [
    "import numpy as np\n",
    "baryTest(thisStar)"
   ]
  },
  {
   "cell_type": "code",
   "execution_count": null,
   "metadata": {
    "collapsed": false
   },
   "outputs": [],
   "source": [
    "barys = np.load('npy/baryVels.npy')"
   ]
  },
  {
   "cell_type": "code",
   "execution_count": null,
   "metadata": {
    "collapsed": false
   },
   "outputs": [],
   "source": [
    "HD1581 coords\n",
    "Right ascension\t00h 20m 04.25995s\n",
    "Declination\t−64° 52′ 29.2549″"
   ]
  },
  {
   "cell_type": "code",
   "execution_count": null,
   "metadata": {
    "collapsed": false
   },
   "outputs": [],
   "source": [
    "print thisStar.RA_dec, thisStar.Dec_dec#, thisStar.RA_h, thisStar.RA_min , thisStar.RA_sec\n"
   ]
  },
  {
   "cell_type": "code",
   "execution_count": null,
   "metadata": {
    "collapsed": false
   },
   "outputs": [],
   "source": [
    "import toolbox\n",
    "toolbox.dec2sex(thisStar.RA_dec)"
   ]
  },
  {
   "cell_type": "code",
   "execution_count": null,
   "metadata": {
    "collapsed": false
   },
   "outputs": [],
   "source": [
    "import numpy as np"
   ]
  },
  {
   "cell_type": "code",
   "execution_count": null,
   "metadata": {
    "collapsed": false
   },
   "outputs": [],
   "source": [
    "thisStar.RA_dec, toolbox.dec2sex(np.rad2deg(thisStar.RA_dec)/15)"
   ]
  },
  {
   "cell_type": "code",
   "execution_count": null,
   "metadata": {
    "collapsed": false
   },
   "outputs": [],
   "source": [
    "00 20 06.49 -64 52 06.6\n"
   ]
  },
  {
   "cell_type": "code",
   "execution_count": null,
   "metadata": {
    "collapsed": false
   },
   "outputs": [],
   "source": [
    "np.deg2rad(toolbox.sex2dec(0,20,06.49)*15)"
   ]
  },
  {
   "cell_type": "code",
   "execution_count": null,
   "metadata": {
    "collapsed": false
   },
   "outputs": [],
   "source": [
    "np.deg2rad(-toolbox.sex2dec(64,52,6.6))"
   ]
  },
  {
   "cell_type": "code",
   "execution_count": null,
   "metadata": {
    "collapsed": false
   },
   "outputs": [],
   "source": [
    "-toolbox.sex2dec(64,52,6.6)"
   ]
  },
  {
   "cell_type": "code",
   "execution_count": null,
   "metadata": {
    "collapsed": false
   },
   "outputs": [],
   "source": [
    "RVs = np.random.random(100)\n",
    "stdRV= np.std(RVs)\n",
    "medRV = 0.5\n",
    "sigmaClip = 0.1\n",
    "print RVs,stdRV,medRV\n",
    "print RVs[(RVs>=medRV-sigmaClip*stdRV) & (RVs<=medRV+sigmaClip*stdRV)]"
   ]
  },
  {
   "cell_type": "code",
   "execution_count": null,
   "metadata": {
    "collapsed": false
   },
   "outputs": [],
   "source": [
    "import pylab as plt"
   ]
  },
  {
   "cell_type": "code",
   "execution_count": null,
   "metadata": {
    "collapsed": false
   },
   "outputs": [],
   "source": [
    "g = plt.gca()\n",
    "g.xaxis.majorTic\n",
    "plt.show()"
   ]
  },
  {
   "cell_type": "code",
   "execution_count": null,
   "metadata": {
    "collapsed": false
   },
   "outputs": [],
   "source": [
    "import matplotlib.pyplot as plt\n",
    "\n"
   ]
  },
  {
   "cell_type": "code",
   "execution_count": null,
   "metadata": {
    "collapsed": false
   },
   "outputs": [],
   "source": [
    "fig = plt.figure()\n",
    "# plt.title(title)\n",
    "\n",
    "ax = fig.add_subplot(111)\n",
    "# ax.bar(hist[1][1:],hist[0], width = (hist[1][-2]-hist[1][-1]))\n",
    "# ax.grid()\n",
    "# ax.set_ylabel('Counts')\n",
    "# ax.set_xlabel('RV [m/s]')\n",
    "# #         ax.set_ylim(0,10)\n",
    "\n",
    "# ax2 = ax.twinx()\n",
    "# ax2.scatter(R,S, c='r', s=100)\n",
    "ax.bar(0,1 , width = (1), color='k')\n"
   ]
  },
  {
   "cell_type": "code",
   "execution_count": null,
   "metadata": {
    "collapsed": false
   },
   "outputs": [],
   "source": [
    "plt.show()"
   ]
  },
  {
   "cell_type": "code",
   "execution_count": null,
   "metadata": {
    "collapsed": false
   },
   "outputs": [],
   "source": [
    "pwd"
   ]
  },
  {
   "cell_type": "code",
   "execution_count": null,
   "metadata": {
    "collapsed": false
   },
   "outputs": [],
   "source": [
    "cd 47Tuc_core_6.2/"
   ]
  },
  {
   "cell_type": "code",
   "execution_count": null,
   "metadata": {
    "collapsed": false
   },
   "outputs": [],
   "source": [
    "cd obj"
   ]
  },
  {
   "cell_type": "code",
   "execution_count": null,
   "metadata": {
    "collapsed": false
   },
   "outputs": [],
   "source": [
    "import pickle\n",
    "# filename = 'HD1581.obj'\n",
    "# filename = 'Brght01.obj'\n",
    "# filename = 'red_Giant01.obj'\n",
    "filename = 'red_Brght01.obj'\n",
    "# filename = 'Giant01.obj'\n",
    "filehandler = open(filename, 'r')\n",
    "thisStar = pickle.load(filehandler)\n",
    "thisCam = thisStar.exposures.cameras[3]\n"
   ]
  },
  {
   "cell_type": "code",
   "execution_count": null,
   "metadata": {
    "collapsed": false
   },
   "outputs": [],
   "source": [
    "print thisStar.exposures\n",
    "thisCam.fileNames"
   ]
  },
  {
   "cell_type": "code",
   "execution_count": null,
   "metadata": {
    "collapsed": false
   },
   "outputs": [],
   "source": [
    "thisCam.red_fluxes"
   ]
  },
  {
   "cell_type": "code",
   "execution_count": null,
   "metadata": {
    "collapsed": false
   },
   "outputs": [],
   "source": [
    "float(np.sum(np.isnan(SNRs)))/(SNRs.shape[0]*SNRs.shape[1]*SNRs.shape[2])*100"
   ]
  },
  {
   "cell_type": "code",
   "execution_count": null,
   "metadata": {
    "collapsed": false
   },
   "outputs": [],
   "source": [
    "import pylab as plt\n",
    "plt.plot(RVs[:,:,0])\n",
    "plt.show()"
   ]
  },
  {
   "cell_type": "code",
   "execution_count": null,
   "metadata": {
    "collapsed": false
   },
   "outputs": [],
   "source": [
    "    data=np.load('npy/data.npy')\n",
    "    RVs=np.load('npy/RVs.npy')\n",
    "#     sigmas=np.load('npy/sigmas.npy')\n",
    "#     baryVels=np.load('npy/baryVels.npy')\n",
    "#     JDs=np.load('npy/JDs.npy')\n",
    "    SNRs = np.load('npy/SNRs.npy')\n"
   ]
  },
  {
   "cell_type": "code",
   "execution_count": null,
   "metadata": {
    "collapsed": false
   },
   "outputs": [],
   "source": [
    "pwd"
   ]
  },
  {
   "cell_type": "code",
   "execution_count": null,
   "metadata": {
    "collapsed": false
   },
   "outputs": [],
   "source": [
    "\n",
    "filehandler = open('obj/red_N104-S1084.obj', 'r')\n",
    "thisStar = pickle.load(filehandler)\n"
   ]
  },
  {
   "cell_type": "code",
   "execution_count": null,
   "metadata": {
    "collapsed": false
   },
   "outputs": [],
   "source": [
    "thisCam = thisStar.exposures.cameras[0]"
   ]
  },
  {
   "cell_type": "markdown",
   "metadata": {},
   "source": [
    "# Bary tests"
   ]
  },
  {
   "cell_type": "code",
   "execution_count": null,
   "metadata": {
    "collapsed": false
   },
   "outputs": [],
   "source": [
    "import toolbox as tb\n",
    "from PyAstronomy import pyasl\n",
    "\n"
   ]
  },
  {
   "cell_type": "code",
   "execution_count": null,
   "metadata": {
    "collapsed": false
   },
   "outputs": [],
   "source": [
    "MJD = 57131.84792 \n",
    "# RA = tb.deg2rad(tb.sex2dec(0,24,05.67)*15) #47tuc in rad\n",
    "# Dec = tb.deg2rad(-tb.sex2dec(72,4,52.6)) #47Tuc in rad\n",
    "RA = tb.deg2rad(tb.sex2dec(0,20,06.49)*15) #HD1581 in rad\n",
    "Dec = tb.deg2rad(-tb.sex2dec(64,52,06.6)) #HD1581 in rad"
   ]
  },
  {
   "cell_type": "code",
   "execution_count": null,
   "metadata": {
    "collapsed": false
   },
   "outputs": [],
   "source": [
    "00 20 06.49 -64 52 06.6\n"
   ]
  },
  {
   "cell_type": "code",
   "execution_count": null,
   "metadata": {
    "collapsed": false
   },
   "outputs": [],
   "source": [
    "MJDs = []\n",
    "RVs = []\n",
    "RV2s = []\n",
    "RV3s = []\n",
    "for i in np.arange(MJD-200, MJD+200):\n",
    "    vh, vb = tb.baryvel(i+2400000+0.5) \n",
    "    vh2, vb2 = pyasl.baryvel(i+2400000+0.5, deq = 0.0)\n",
    "    __, RV3 = pyasl.baryCorr(i+2400000+0.5,tb.rad2deg(RA), tb.rad2deg(Dec))\n",
    "    \n",
    "    RV = (vb[0]*np.cos(Dec)*np.cos(RA) + vb[1]*np.cos(Dec)*np.sin(RA) + vb[2]*np.sin(Dec))*1000\n",
    "    RV2 = (vb2[0]*np.cos(Dec)*np.cos(RA) + vb2[1]*np.cos(Dec)*np.sin(RA) + vb2[2]*np.sin(Dec))*1000\n",
    "    MJDs.append(i)\n",
    "    RVs.append(RV)\n",
    "    RV2s.append(RV2)\n",
    "    RV3s.append(RV3*1000)\n",
    "RVs = np.array(RVs)\n",
    "RV2s = np.array(RV2s)\n",
    "RV3s = np.array(RV3s)\n"
   ]
  },
  {
   "cell_type": "code",
   "execution_count": null,
   "metadata": {
    "collapsed": false
   },
   "outputs": [],
   "source": [
    "plt.plot(MJDs, RVs)\n",
    "plt.plot(MJDs, RV2s)\n",
    "plt.plot(MJDs, RV3s)\n",
    "plt.show()\n",
    "\n",
    "plt.plot(MJDs, RVs-RV2s, label = '1-2')\n",
    "plt.plot(MJDs, RV2s-RV3s, label = '2-3')\n",
    "plt.legend(loc=0)\n",
    "plt.show()\n",
    "\n"
   ]
  },
  {
   "cell_type": "markdown",
   "metadata": {},
   "source": [
    "# plot app"
   ]
  },
  {
   "cell_type": "code",
   "execution_count": null,
   "metadata": {
    "collapsed": false
   },
   "outputs": [],
   "source": [
    "import numpy as np\n",
    "import pylab as plt\n",
    "a = np.random.rand(10)\n",
    "b = np.random.rand(10)\n",
    "c = np.random.rand(10)\n",
    "plt.scatter(a,b)\n",
    "plt.show()\n",
    "fig = plt.figure()\n",
    "ax1 = fig.add_subplot(111)\n",
    "ax1.set_title('custom picker for line data')\n",
    "line, = ax1.plot(a, b, 'o', picker=5)\n",
    "fig.canvas.mpl_connect('pick_event', onpick2)\n",
    "\n",
    "\n",
    "def onpick2():\n",
    "    a=2\n",
    "    print a"
   ]
  },
  {
   "cell_type": "code",
   "execution_count": null,
   "metadata": {
    "collapsed": false
   },
   "outputs": [],
   "source": [
    "def aaa():\n",
    "    xxx = 'sdd'\n",
    "    print 'asdasd'\n",
    "    return xxx"
   ]
  },
  {
   "cell_type": "code",
   "execution_count": null,
   "metadata": {
    "collapsed": false
   },
   "outputs": [],
   "source": [
    "def test():\n",
    "    print 'adasd'"
   ]
  },
  {
   "cell_type": "code",
   "execution_count": null,
   "metadata": {
    "collapsed": false
   },
   "outputs": [],
   "source": []
  },
  {
   "cell_type": "code",
   "execution_count": null,
   "metadata": {
    "collapsed": false
   },
   "outputs": [],
   "source": []
  },
  {
   "cell_type": "code",
   "execution_count": null,
   "metadata": {
    "collapsed": false
   },
   "outputs": [],
   "source": []
  },
  {
   "cell_type": "code",
   "execution_count": null,
   "metadata": {
    "collapsed": false
   },
   "outputs": [],
   "source": [
    "import glob\n",
    "import numpy as np\n",
    "import os\n",
    "\n",
    "os.chdir('/Users/Carlos/Documents/HERMES/reductions/')\n",
    "a = glob.glob('*')\n",
    "for i in a:\n",
    "    if i!='HD1581_6.0':\n",
    "        print i,\n",
    "        b = np.load(i+'/npy/data.npy')\n",
    "        print b.shape[0]"
   ]
  },
  {
   "cell_type": "code",
   "execution_count": null,
   "metadata": {
    "collapsed": false
   },
   "outputs": [],
   "source": [
    "data"
   ]
  },
  {
   "cell_type": "code",
   "execution_count": null,
   "metadata": {
    "collapsed": false
   },
   "outputs": [],
   "source": [
    "cd HD285507_1arc_6.2/"
   ]
  },
  {
   "cell_type": "code",
   "execution_count": null,
   "metadata": {
    "collapsed": false
   },
   "outputs": [],
   "source": [
    "cd HERMES/reductions/HD285507_1arc_6.2/"
   ]
  },
  {
   "cell_type": "code",
   "execution_count": null,
   "metadata": {
    "collapsed": false
   },
   "outputs": [],
   "source": [
    "import glob\n",
    "import numpy as np\n",
    "import os\n",
    "data=np.load('npy/data.npy')\n",
    "RVs=np.load('npy/RVs.npy')\n",
    "SNRs=np.load('npy/SNRs.npy')"
   ]
  },
  {
   "cell_type": "code",
   "execution_count": null,
   "metadata": {
    "collapsed": false
   },
   "outputs": [],
   "source": [
    "RVs.shape\n",
    "W = np.zeros(np.hstack((RVs.shape, RVs.shape[0])))\n",
    "for thisStarIdx in range(RVs.shape[0]):\n",
    "    W1 = np.ones(RVs.shape)/(RVs.shape[0]-1)\n",
    "    W1[thisStarIdx,:,:]=0\n",
    "    W[:,:,:,thisStarIdx]=W1\n",
    "    \n"
   ]
  },
  {
   "cell_type": "code",
   "execution_count": null,
   "metadata": {
    "collapsed": false
   },
   "outputs": [],
   "source": [
    "data[thisStarIdx,2].astype(float).astype(int)"
   ]
  },
  {
   "cell_type": "code",
   "execution_count": null,
   "metadata": {
    "collapsed": false
   },
   "outputs": [],
   "source": [
    "import RVTools as RVT\n",
    "reload(RVT)\n",
    "import pylab as plt\n",
    "import pandas as pd"
   ]
  },
  {
   "cell_type": "code",
   "execution_count": null,
   "metadata": {
    "collapsed": false
   },
   "outputs": [],
   "source": [
    "data=np.load('npy/data.npy')\n",
    "RVs=np.load('npy/RVs.npy')\n",
    "SNRs=np.load('npy/SNRs.npy')\n"
   ]
  },
  {
   "cell_type": "code",
   "execution_count": null,
   "metadata": {
    "collapsed": false
   },
   "outputs": [],
   "source": [
    "# SNRs[:,:,0][SNRs[:,:,0]<1]\n",
    "SNRs[np.isnan(SNRs)]=0\n",
    "SNRs+=1e-17\n",
    "create_allW(data,SNRs)"
   ]
  },
  {
   "cell_type": "code",
   "execution_count": null,
   "metadata": {
    "collapsed": false
   },
   "outputs": [],
   "source": [
    "import numpy as np\n",
    "import pylab as plt"
   ]
  },
  {
   "cell_type": "code",
   "execution_count": null,
   "metadata": {
    "collapsed": false
   },
   "outputs": [],
   "source": [
    "cd /Users/Carlos/Documents/HERMES/reductions/6.2/HD285507_1arc_6.2/"
   ]
  },
  {
   "cell_type": "code",
   "execution_count": null,
   "metadata": {
    "collapsed": false
   },
   "outputs": [],
   "source": [
    "allW = np.load('npy/allW_DM.npy')\n",
    "allW[0,:,0][0]"
   ]
  },
  {
   "cell_type": "code",
   "execution_count": null,
   "metadata": {
    "collapsed": false
   },
   "outputs": [],
   "source": [
    "\n",
    "# deltay = np.linspace(0, 4000)\n",
    "# deltay = np.linspace(-2000, 2000)\n",
    "# deltay = np.linspace(-4000, 0)\n",
    "# SNRs = np.ones(50)*30\n",
    "# SNRs = np.linspace(10, 100)\n",
    "# SNRs = np.linspace(100, 10)\n",
    "# W = calibrator_weights2(deltay,SNRs)\n",
    "\n",
    "data=np.load('npy/data.npy')\n",
    "# RVs=np.load('npy/RVs.npy')\n",
    "SNRs=np.load('npy/SNRs.npy')\n",
    "allW = np.load('npy/allW_PM.npy')\n",
    "idx = np.where(data[:,0]=='Giant01')[0]\n",
    "for cam in range(4):\n",
    "    W = allW[:,cam,idx]\n",
    "\n",
    "    thisSNRs = SNRs[:,0,cam]\n",
    "\n",
    "#     plt.plot(deltay/np.max(np.abs(deltay)), label = 'deltay')\n",
    "    plt.plot(thisSNRs, label= 'SNR')\n",
    "    plt.plot(W*np.nanmax(thisSNRs), label = 'W')\n",
    "    plt.legend(loc=0)\n",
    "    # title = 'PM - deltay '+str(np.min(deltay))+','+str(np.max(deltay))+' - SNR '+str(np.min(SNRs))+','+str(np.max(SNRs))\n",
    "#     title = 'DM - deltay '+str(np.min(deltay))+','+str(np.max(deltay))+' - SNR '+str(np.min(SNRs))+','+str(np.max(SNRs))\n",
    "    title = 'PM - cam '+str(cam)+ ' ,' + str(data[idx])\n",
    "    plt.title(title)\n",
    "    plt.grid(True)\n",
    "    plt.savefig(('PM_'+str(cam)))\n",
    "    plt.show()\n"
   ]
  },
  {
   "cell_type": "code",
   "execution_count": null,
   "metadata": {
    "collapsed": false
   },
   "outputs": [],
   "source": [
    "import numpy as np"
   ]
  },
  {
   "cell_type": "code",
   "execution_count": null,
   "metadata": {
    "collapsed": false
   },
   "outputs": [],
   "source": [
    "def create_allW(data = [], SNRs = []):\n",
    "\n",
    "    if ((data!=[]) and (SNRs!=[])):\n",
    "\n",
    "        #load function that translates pivot# to y-pixel  p2y(pivot)=y-pixel of pivot\n",
    "        p2y = RVT.pivot_to_y('/Users/Carlos/Documents/HERMES/reductions/6.2//rhoTuc_6.2/0_20aug/1/20aug10042tlm.fits') \n",
    "\n",
    "        #gets the y position of for the data array\n",
    "        datay = p2y[data[:,2].astype(float).astype(int)]\n",
    "\n",
    "        #Creates empty array for relative weights\n",
    "        #allW[Weights, camera, staridx of the star to be corrected]\n",
    "        allW = np.zeros((data.shape[0],4,data.shape[0]))\n",
    "\n",
    "        for thisStarIdx in range(data.shape[0]):\n",
    "\n",
    "            #converts datay into deltay\n",
    "            deltay = datay-datay[thisStarIdx]\n",
    "            for cam in range(2):\n",
    "\n",
    "                thisSNRs = SNRs[:,0,cam].copy()\n",
    "                thisSNRs[np.isnan(thisSNRs)]=1  #sets NaNs into SNR=1 \n",
    "\n",
    "                W = calibrator_weights(deltay,thisSNRs)\n",
    "                allW[:,cam,thisStarIdx] = W\n",
    "\n",
    "                order = np.argsort(deltay)\n",
    "                plt.plot(deltay[order], label = 'deltay')\n",
    "                plt.plot(thisSNRs[order], label= 'SNR')\n",
    "                plt.plot((W*np.max(deltay))[order], label = 'W')\n",
    "                plt.legend(loc=0)\n",
    "                plt.show()\n",
    "\n",
    "        # a= pd.DataFrame(deltay)\n",
    "        # # a.columns = labels\n",
    "        # print a.head(n=40)\n",
    "        # print W, np.sum(W)\n",
    "    else:\n",
    "        print 'Create allW: Input arrays missing'\n",
    "        allW =[]\n",
    "\n",
    "    return allW"
   ]
  },
  {
   "cell_type": "code",
   "execution_count": null,
   "metadata": {
    "collapsed": false
   },
   "outputs": [],
   "source": [
    "def create_RVCorr(RVs, allW, RVClip = 1e17):\n",
    "    RVCorr = np.zeros(RVs.shape)\n",
    "    RVs[np.abs(RVs)>RVClip]=0\n",
    "    for thisStarIdx in range(data.shape[0]):\n",
    "        for epoch in range(RVs.shape[1]):\n",
    "            for cam in range(4):\n",
    "                RVCorr[thisStarIdx,epoch,cam] = np.nansum(allW[:,cam,thisStarIdx]*RVs[:,epoch,cam])\n",
    "    return RVCorr"
   ]
  },
  {
   "cell_type": "code",
   "execution_count": null,
   "metadata": {
    "collapsed": false
   },
   "outputs": [],
   "source": [
    "# for i in range(40):\n",
    "i=37\n",
    "plt.plot(RVs[i,:,0], label = 'RV')\n",
    "plt.plot(RV_corr[i,:,0], label = 'Correction')\n",
    "plt.plot(RVs[i,:,0]-RV_corr[i,:,0], label = 'Result', marker = 'o')\n",
    "plt.legend(loc=0)\n",
    "plt.show()"
   ]
  },
  {
   "cell_type": "code",
   "execution_count": null,
   "metadata": {
    "collapsed": false
   },
   "outputs": [],
   "source": [
    "np.where(data[:,0]=='Giant01')"
   ]
  },
  {
   "cell_type": "code",
   "execution_count": null,
   "metadata": {
    "collapsed": false
   },
   "outputs": [],
   "source": [
    "for epoch in range(RVs.shape[1]):\n",
    "    print np.sum(RVs[:,epoch,1])/RVs.shape[1]"
   ]
  },
  {
   "cell_type": "code",
   "execution_count": null,
   "metadata": {
    "collapsed": false
   },
   "outputs": [],
   "source": [
    "def create_corrRVs(RVs,W):\n",
    "#Creates corrRVs with RV corrections for each RV. \n",
    "#has the same shape than RVs and W\n",
    "#RVs-corrRVs = trueRVs (values without systematics)\n",
    "\n",
    "    corrRVs = np.ones(RVs.shape)*np.nan\n",
    "    \n",
    "    #1 - loop retarded method. should be array operation.\n",
    "    \n",
    "    #check shape\n",
    "    if ((RVs.shape==W.shape[:3]) and (len(W.shape)==4) and (RVs.shape[0]==W.shape[3])):\n",
    "        for thisStaridx in range(RVs.shape[0]):\n",
    "            for epoch in range(RVs.shape[1]):\n",
    "                for cam in range(RVs.shape[2]):\n",
    "                    corrRVs[thisStaridx,epoch,cam] = np.sum(RVs[:,epoch,cam]*W[:,epoch,cam,thisStaridx])\n",
    "                \n",
    "    else:\n",
    "        print 'Bad array shape.'\n",
    "        print 'RVs=', RVs.shape\n",
    "        print 'W=', W.shape\n",
    "        \n",
    "    return corrRVs"
   ]
  },
  {
   "cell_type": "markdown",
   "metadata": {},
   "source": [
    "### Solar Spectrum"
   ]
  },
  {
   "cell_type": "code",
   "execution_count": null,
   "metadata": {
    "collapsed": false
   },
   "outputs": [],
   "source": [
    "import pyfits as pf\n",
    "import pylab as plt\n",
    "import RVTools as RVT\n",
    "\n",
    "fileList = glob.glob('cam1/*.fits')\n",
    "b=[]\n",
    "wl = RVT.extract_HERMES_wavelength(fileList[0])\n",
    "#build fibre filter\n",
    "a = pf.open(fileList[0])\n",
    "filt = np.logical_or((a['FIBRES'].data['TYPE']=='P'),(a['FIBRES'].data['TYPE']=='S'))\n",
    "filt[175]=False\n",
    "\n",
    "plt.plot(wl,np.sum(a[0].data[filt], axis=0))\n",
    "plt.show()\n",
    "\n",
    "\n",
    "\n",
    "# for fits in fileList[:]:\n",
    "#     print 'Reading',fits\n",
    "#     a = pf.getdata(fits)\n",
    "#     if b==[]:\n",
    "#         b =a\n",
    "#     else:\n",
    "#         b+=a\n",
    "\n"
   ]
  },
  {
   "cell_type": "markdown",
   "metadata": {},
   "source": [
    "### SNR 3d plots"
   ]
  },
  {
   "cell_type": "code",
   "execution_count": null,
   "metadata": {
    "collapsed": false
   },
   "outputs": [],
   "source": [
    "SNRs=np.load('npy/SNRs.npy')\n",
    "Data=np.load('npy/Data.npy')\n",
    "\n",
    "labels = Data[:,0]"
   ]
  },
  {
   "cell_type": "code",
   "execution_count": null,
   "metadata": {
    "collapsed": false
   },
   "outputs": [],
   "source": [
    "from mpl_toolkits.mplot3d import Axes3D\n",
    "from matplotlib import cm\n",
    "from matplotlib.ticker import LinearLocator, FormatStrFormatter\n",
    "import matplotlib.pyplot as plt\n",
    "import numpy as np\n",
    "\n",
    "fig = plt.figure()\n",
    "ax = fig.gca(projection='3d')\n",
    "# X = np.arange(-5, 5, 0.25)\n",
    "# Y = np.arange(-5, 5, 0.25)\n",
    "X = np.arange(SNRs.shape[1])\n",
    "Y = np.arange(SNRs.shape[0])\n",
    "X, Y = np.meshgrid(X, Y)\n",
    "# R = np.sqrt(X**2 + Y**2)\n",
    "Z = SNRs[:,:,0]\n",
    "surf = ax.plot_surface(X, Y, Z, rstride=1, cstride=1, cmap=cm.jet, linewidth=0,  vmin=0, vmax=100, antialiased=True)\n",
    "ax.set_xlabel('Epoch')\n",
    "ax.set_ylabel('Star')\n",
    "ax.set_zlabel('SNR')\n",
    "# ax.set_zlim(-1.01, 1.01)\n",
    "ax.set_yticks(np.arange(0,SNRs.shape[0],5))\n",
    "# ax.set_yticklabels(labels)\n",
    "# ax.zaxis.set_major_locator(LinearLocator(10))\n",
    "# ax.zaxis.set_major_formatter(FormatStrFormatter('%.02f'))\n",
    "\n",
    "# fig.colorbar(surf, shrink=0.5, aspect=5)\n",
    "\n",
    "plt.show()\n",
    "\n"
   ]
  },
  {
   "cell_type": "markdown",
   "metadata": {},
   "source": [
    "### Comments array"
   ]
  },
  {
   "cell_type": "code",
   "execution_count": null,
   "metadata": {
    "collapsed": false
   },
   "outputs": [],
   "source": [
    "def comment(star, epoch, cam, comment):\n",
    "    comments = []\n",
    "    try:\n",
    "        comments = np.load('npy/comments.npy')\n",
    "    except:\n",
    "        pass\n",
    "    \n",
    "    if comments==[]:\n",
    "        comments = np.zeros((1,),dtype=('i4,i4,i4,a10'))\n",
    "        comments[:] = [(star, epoch, cam, comment)]\n",
    "    else:\n",
    "        x = np.zeros((1,),dtype=('i4,i4,i4,a10'))\n",
    "        x[:] = [(star, epoch, cam, comment)]\n",
    "        print x,comments\n",
    "        comments = np.append(comments,x)\n",
    "    \n",
    "    np.save('npy/comments.npy',comments)\n",
    "        "
   ]
  },
  {
   "cell_type": "code",
   "execution_count": null,
   "metadata": {
    "collapsed": false
   },
   "outputs": [],
   "source": [
    "comment(0,0,0,'test')"
   ]
  },
  {
   "cell_type": "code",
   "execution_count": null,
   "metadata": {
    "collapsed": false
   },
   "outputs": [],
   "source": [
    "c = np.load('npy/comments.npy') \n",
    "d = np.load('npy/data.npy')"
   ]
  },
  {
   "cell_type": "code",
   "execution_count": null,
   "metadata": {
    "collapsed": false
   },
   "outputs": [],
   "source": [
    "d[1]"
   ]
  },
  {
   "cell_type": "code",
   "execution_count": null,
   "metadata": {
    "collapsed": false
   },
   "outputs": [],
   "source": [
    "filename = 'obj/Field03.obj'\n",
    "# filename = 'red_Giant01.obj'\n",
    "filehandler = open(filename, 'r')\n",
    "thisStar = pickle.load(filehandler)"
   ]
  },
  {
   "cell_type": "code",
   "execution_count": null,
   "metadata": {
    "collapsed": false
   },
   "outputs": [],
   "source": [
    "from scipy import stats"
   ]
  },
  {
   "cell_type": "code",
   "execution_count": null,
   "metadata": {
    "collapsed": false
   },
   "outputs": [],
   "source": [
    "thisCam = thisStar.exposures.cameras[0]"
   ]
  },
  {
   "cell_type": "code",
   "execution_count": null,
   "metadata": {
    "collapsed": false
   },
   "outputs": [],
   "source": [
    "stats.nanmedian(thisCam.red_fluxes[13])"
   ]
  },
  {
   "cell_type": "code",
   "execution_count": null,
   "metadata": {
    "collapsed": false
   },
   "outputs": [],
   "source": [
    "c"
   ]
  },
  {
   "cell_type": "code",
   "execution_count": null,
   "metadata": {
    "collapsed": false
   },
   "outputs": [],
   "source": [
    "[np.asarray(a), np.asarray(a)]"
   ]
  },
  {
   "cell_type": "code",
   "execution_count": null,
   "metadata": {
    "collapsed": false
   },
   "outputs": [],
   "source": [
    "x = np.zeros((2,),dtype=('i4,i4,i4,a10'))\n",
    "x[:] = [(1,2,3,'Hello'),(2,3,4,\"World\")]"
   ]
  },
  {
   "cell_type": "code",
   "execution_count": null,
   "metadata": {
    "collapsed": false
   },
   "outputs": [],
   "source": [
    "np.append(x,x)"
   ]
  },
  {
   "cell_type": "code",
   "execution_count": null,
   "metadata": {
    "collapsed": false
   },
   "outputs": [],
   "source": [
    "np.vstack((x,(1,2,3,'Hello')))"
   ]
  },
  {
   "cell_type": "markdown",
   "metadata": {},
   "source": [
    "### Check RVCorr"
   ]
  },
  {
   "cell_type": "code",
   "execution_count": null,
   "metadata": {
    "collapsed": false
   },
   "outputs": [],
   "source": [
    "data=np.load('npy/data.npy')\n",
    "RVs=np.load('npy/RVs.npy')\n",
    "sigmas=np.load('npy/sigmas.npy')\n",
    "baryVels=np.load('npy/baryVels.npy')\n",
    "JDs=np.load('npy/JDs.npy')    \n",
    "# RVCorr_PM=np.load('npy/RVCorr_PM.npy')\n",
    "# # RVCorr_DM=np.load('npy/RVCorr_DM.npy')\n",
    "# cRVs_PM=np.load('npy/cRVs_PM.npy')\n",
    "# cRVs_DM=np.load('npy/cRVs_DM.npy')\n",
    "# cRVs_PMDM=np.load('npy/cRVs_PMDM.npy')\n"
   ]
  },
  {
   "cell_type": "code",
   "execution_count": null,
   "metadata": {
    "collapsed": false
   },
   "outputs": [],
   "source": [
    "idx = np.where(data[:,0]=='Giant01')[0][0]"
   ]
  },
  {
   "cell_type": "code",
   "execution_count": null,
   "metadata": {
    "collapsed": false
   },
   "outputs": [],
   "source": [
    "starIdx = idx\n",
    "cam = 0\n",
    "\n",
    "RVs[RVs>5000]=np.nan\n",
    "RVs[RVs<-5000]=np.nan"
   ]
  },
  {
   "cell_type": "code",
   "execution_count": null,
   "metadata": {
    "collapsed": false
   },
   "outputs": [],
   "source": [
    "plt.plot(RVs[starIdx,:,cam])\n",
    "# plt.plot(RVCorr_DM[starIdx,:,cam])\n",
    "plt.plot(RVCorr_PM[starIdx,:,cam])\n",
    "# plt.plot(RVs[starIdx,:,cam]-RVCorr_DM[starIdx,:,cam])\n",
    "plt.plot(RVs[starIdx,:,cam]-RVCorr_PM[starIdx,:,cam])\n",
    "plt.show()"
   ]
  },
  {
   "cell_type": "code",
   "execution_count": null,
   "metadata": {
    "collapsed": false
   },
   "outputs": [],
   "source": [
    "reload(RVT)"
   ]
  },
  {
   "cell_type": "code",
   "execution_count": null,
   "metadata": {
    "collapsed": false
   },
   "outputs": [],
   "source": [
    "allW_PM = RVT.create_allW(data, SNRs, starSet = [], RVCorrMethod = 'PM', refEpoch = 0) \n",
    "# RVCorr_PM = RVT.create_RVCorr_PM(RVs, allW_PM, RVClip = 2000, starSet = [])\n"
   ]
  },
  {
   "cell_type": "code",
   "execution_count": null,
   "metadata": {
    "collapsed": false
   },
   "outputs": [],
   "source": [
    "plt.plot(allW_PM[:,0,starIdx])\n",
    "plt.plot(SNRs[:,0,starIdx])\n",
    "plt.plot(W)\n",
    "plt.show()"
   ]
  },
  {
   "cell_type": "code",
   "execution_count": null,
   "metadata": {
    "collapsed": false
   },
   "outputs": [],
   "source": [
    "data[starIdx]"
   ]
  },
  {
   "cell_type": "code",
   "execution_count": null,
   "metadata": {
    "collapsed": false
   },
   "outputs": [],
   "source": [
    "p2y = RVT.pivot_to_y('/Users/Carlos/Documents/HERMES/reductions/6.2/rhoTuc_6.2/0_20aug/1/20aug10042tlm.fits') \n",
    "datay = p2y[data[:,2].astype(float).astype(int)]\n",
    "deltay = datay-datay[starIdx]\n",
    "\n",
    "thisSigma = 1./SNRs[:,0,0].copy()\n",
    "thisSigma[np.isnan(thisSigma)]=1e+17  #sets NaNs into SNR=1e-17\n",
    "W = RVT.calibrator_weights(deltay,thisSigma)\n"
   ]
  },
  {
   "cell_type": "code",
   "execution_count": null,
   "metadata": {
    "collapsed": false
   },
   "outputs": [],
   "source": [
    "W"
   ]
  },
  {
   "cell_type": "code",
   "execution_count": null,
   "metadata": {
    "collapsed": false
   },
   "outputs": [],
   "source": [
    "import psycopg2 as mdb\n",
    "con = mdb.connect(\"dbname=hermes_master user=Carlos\")\n",
    "cur = con.cursor()\n",
    "cur.execute(\"CREATE TABLE fields(id int)\")"
   ]
  },
  {
   "cell_type": "code",
   "execution_count": null,
   "metadata": {
    "collapsed": false
   },
   "outputs": [],
   "source": [
    "con.rollback()"
   ]
  },
  {
   "cell_type": "code",
   "execution_count": null,
   "metadata": {
    "collapsed": false
   },
   "outputs": [],
   "source": [
    "con.commit()"
   ]
  },
  {
   "cell_type": "code",
   "execution_count": null,
   "metadata": {
    "collapsed": false
   },
   "outputs": [],
   "source": [
    "con.close()"
   ]
  },
  {
   "cell_type": "code",
   "execution_count": null,
   "metadata": {
    "collapsed": false
   },
   "outputs": [],
   "source": [
    "import psycopg2 as mdb\n",
    "con=mdb.connect(\"host=/tmp/ dbname=hermes_master user=Carlos\");\n"
   ]
  },
  {
   "cell_type": "code",
   "execution_count": null,
   "metadata": {
    "collapsed": false
   },
   "outputs": [],
   "source": [
    "con=mdb.connect(\"dbname=hermes_master user=Carlos\");\n"
   ]
  },
  {
   "cell_type": "code",
   "execution_count": null,
   "metadata": {
    "collapsed": false
   },
   "outputs": [],
   "source": [
    "\n",
    "con=mdb.connect(\"host=/usr/local/var dbname=hermes_master user=Carlos\");\n"
   ]
  },
  {
   "cell_type": "code",
   "execution_count": null,
   "metadata": {
    "collapsed": false
   },
   "outputs": [],
   "source": [
    "cur = con.cursor()"
   ]
  },
  {
   "cell_type": "code",
   "execution_count": null,
   "metadata": {
    "collapsed": false
   },
   "outputs": [],
   "source": [
    "cur.execute(\"SELECT spec_path,name from fields where ymd=140825 and ccd='ccd_1' and obstype='BIAS'\")\n"
   ]
  },
  {
   "cell_type": "code",
   "execution_count": null,
   "metadata": {
    "collapsed": false
   },
   "outputs": [],
   "source": [
    "objs=cur.fetchall()"
   ]
  },
  {
   "cell_type": "code",
   "execution_count": null,
   "metadata": {
    "collapsed": false
   },
   "outputs": [],
   "source": [
    "from pyraf import iraf"
   ]
  },
  {
   "cell_type": "code",
   "execution_count": null,
   "metadata": {
    "collapsed": false
   },
   "outputs": [],
   "source": [
    "iraf.noao(_doprint=0,Stdout=\"/dev/null\")\n",
    "iraf.imred(_doprint=0,Stdout=\"/dev/null\")\n",
    "iraf.ccdred(_doprint=0,Stdout=\"/dev/null\")\n"
   ]
  },
  {
   "cell_type": "code",
   "execution_count": null,
   "metadata": {
    "collapsed": false
   },
   "outputs": [],
   "source": [
    "iraf.ccdproc(images='tmp/flats/25aug10034.fits', ccdtype='', fixpix='no', oversca='no', trim='no', zerocor='yes', darkcor='no', flatcor='no', zero='tmp/masterbias',Stdout=\"/dev/null\")\n"
   ]
  },
  {
   "cell_type": "code",
   "execution_count": null,
   "metadata": {
    "collapsed": false
   },
   "outputs": [],
   "source": [
    "pwd"
   ]
  },
  {
   "cell_type": "code",
   "execution_count": null,
   "metadata": {
    "collapsed": false
   },
   "outputs": [],
   "source": [
    "cd ~/Documents/workspace/GAP/IrafReduction/140825/ccd11/"
   ]
  },
  {
   "cell_type": "code",
   "execution_count": null,
   "metadata": {
    "collapsed": false
   },
   "outputs": [],
   "source": [
    "import pyfits as pf"
   ]
  },
  {
   "cell_type": "code",
   "execution_count": null,
   "metadata": {
    "collapsed": false
   },
   "outputs": [],
   "source": [
    "pf.open('tmp/masterbias.fits')"
   ]
  },
  {
   "cell_type": "code",
   "execution_count": null,
   "metadata": {
    "collapsed": false
   },
   "outputs": [],
   "source": [
    "import cosmics"
   ]
  },
  {
   "cell_type": "code",
   "execution_count": null,
   "metadata": {
    "collapsed": false
   },
   "outputs": [],
   "source": [
    "import numpy as np\n",
    "import pylab as plt"
   ]
  },
  {
   "cell_type": "code",
   "execution_count": null,
   "metadata": {
    "collapsed": false
   },
   "outputs": [],
   "source": [
    "a = np.arange(5)\n",
    "b = np.array([1,5,3,2,5])\n",
    "c = np.arange(0.5,4.5)"
   ]
  },
  {
   "cell_type": "code",
   "execution_count": null,
   "metadata": {
    "collapsed": false
   },
   "outputs": [],
   "source": [
    "d = np.interp(c,a,b)"
   ]
  },
  {
   "cell_type": "code",
   "execution_count": null,
   "metadata": {
    "collapsed": false
   },
   "outputs": [],
   "source": [
    "b"
   ]
  },
  {
   "cell_type": "code",
   "execution_count": null,
   "metadata": {
    "collapsed": false
   },
   "outputs": [],
   "source": [
    "plt.plot(a,b,marker='+')\n",
    "plt.scatter(c,d, marker = '+', s=200, c='r')\n",
    "plt.show()"
   ]
  },
  {
   "cell_type": "code",
   "execution_count": null,
   "metadata": {
    "collapsed": false
   },
   "outputs": [],
   "source": [
    "import os\n",
    "import create_obj as cr_obj\n",
    "import pickle\n",
    "import glob\n",
    "import pyfits as pf\n",
    "import numpy as np\n",
    "import sys\n",
    "import toolbox\n",
    "import importlib"
   ]
  },
  {
   "cell_type": "code",
   "execution_count": null,
   "metadata": {
    "collapsed": false
   },
   "outputs": [],
   "source": [
    "booHD1581 = False\n",
    "IRAFFiles = '/Users/Carlos/Documents/workspace/GAP/IrafReduction/results/'   #folder to IRAF reduced files\n",
    "dataset = 'HD285507'"
   ]
  },
  {
   "cell_type": "code",
   "execution_count": null,
   "metadata": {
    "collapsed": false
   },
   "outputs": [],
   "source": [
    "os.mkdir('cam1')\n",
    "os.mkdir('cam2')\n",
    "os.mkdir('cam3')\n",
    "os.mkdir('cam4')\n",
    "os.mkdir('obj')"
   ]
  },
  {
   "cell_type": "code",
   "execution_count": null,
   "metadata": {
    "collapsed": false
   },
   "outputs": [],
   "source": [
    "thisDataset = importlib.import_module('data_sets.'+dataset)\n",
    "\n",
    "    "
   ]
  },
  {
   "cell_type": "code",
   "execution_count": null,
   "metadata": {
    "collapsed": false
   },
   "outputs": [],
   "source": [
    "months = np.array(['', 'jan','feb','mar','apr','may','jun','jul','aug','sep','oct','nov','dec'])\n",
    "d = np.array([s[4:] for s in thisDataset.date_list])\n",
    "m = months[np.array([s[2:4] for s in thisDataset.date_list]).astype(int)]\n",
    "filename_prfx = np.core.defchararray.add(d, m)\n"
   ]
  },
  {
   "cell_type": "code",
   "execution_count": null,
   "metadata": {
    "collapsed": false
   },
   "outputs": [],
   "source": [
    "for i,folder in enumerate(thisDataset.date_list):\n",
    "    for files in thisDataset.ix_array[i][2:]:\n",
    "        for cam in range(1,5):\n",
    "            strCopy = 'cp ' + IRAFFiles + folder + '/norm/' + filename_prfx[i] + str(cam) + \"%04d\" % (files,) + '.ms.fits ' \n",
    "            strCopy += 'cam'+ str(cam) + '/' + filename_prfx[i] + str(cam) + \"%04d\" % (files,) + '.fits ' \n",
    "            print strCopy\n",
    "            try:\n",
    "                os.system(strCopy)\n",
    "            except:\n",
    "                print 'no copy'"
   ]
  },
  {
   "cell_type": "code",
   "execution_count": null,
   "metadata": {
    "collapsed": false
   },
   "outputs": [],
   "source": [
    "thisDataset.ix_array[1][2:]"
   ]
  },
  {
   "cell_type": "code",
   "execution_count": null,
   "metadata": {
    "collapsed": false
   },
   "outputs": [],
   "source": []
  },
  {
   "cell_type": "code",
   "execution_count": null,
   "metadata": {
    "collapsed": false
   },
   "outputs": [],
   "source": [
    "filename_prfx"
   ]
  },
  {
   "cell_type": "code",
   "execution_count": null,
   "metadata": {
    "collapsed": false
   },
   "outputs": [],
   "source": [
    "thisDataset.ix_array"
   ]
  },
  {
   "cell_type": "markdown",
   "metadata": {},
   "source": [
    "### CC arcs"
   ]
  },
  {
   "cell_type": "code",
   "execution_count": null,
   "metadata": {
    "collapsed": false
   },
   "outputs": [],
   "source": [
    "cd ~/Documents/HERMES/reductions/6.5/HD285507/"
   ]
  },
  {
   "cell_type": "code",
   "execution_count": null,
   "metadata": {
    "collapsed": false
   },
   "outputs": [],
   "source": [
    "import glob\n",
    "import os\n",
    "import importlib\n",
    "import numpy as np"
   ]
  },
  {
   "cell_type": "code",
   "execution_count": null,
   "metadata": {
    "collapsed": false
   },
   "outputs": [],
   "source": [
    "#Copy are files\n",
    "files = glob.glob('*')\n",
    "thisDataset = importlib.import_module('data_sets.HD1581')\n",
    "\n",
    "# for folderList in files:\n",
    "#     try:\n",
    "#     if int(folderList[:1]) in range(20):\n",
    "\n",
    "#compose file prefixes from date_list\n",
    "months = np.array(['', 'jan','feb','mar','apr','may','jun','jul','aug','sep','oct','nov','dec'])\n",
    "d = np.array([s[4:] for s in thisDataset.date_list])\n",
    "m = months[np.array([s[2:4] for s in thisDataset.date_list]).astype(int)]\n",
    "filename_prfx = np.core.defchararray.add(d, m)\n",
    "\n",
    "\n",
    "\n",
    "for i,folder in enumerate(thisDataset.date_list):\n",
    "    thisFile = \"%04d\" % thisDataset.ix_array[i][1]\n",
    "    for cam in range(1,5):\n",
    "        strCopy = 'cp ' + str(i) + '_' + filename_prfx[i] + '/' + str(cam) + '/' + filename_prfx[i] + str(cam) + thisFile + 'red.fits ' \n",
    "#         strCopy = str(i) + '_' + filename_prfx[i] + '/' + str(cam) + '/' + filename_prfx[i] + str(cam) + thisFile + 'red.fits ' \n",
    "#         strCopy += 'arc_cam'+ str(cam) + '/' + filename_prfx[i] + str(cam) + thisFile + 'red.fits ' \n",
    "        strCopy += '.' \n",
    "        print strCopy\n",
    "        \n",
    "        os.system(strCopy)\n",
    "\n",
    "            \n",
    "#     except:\n",
    "#         print 'error'"
   ]
  },
  {
   "cell_type": "code",
   "execution_count": null,
   "metadata": {
    "collapsed": false
   },
   "outputs": [],
   "source": [
    "import pyfits as pf\n",
    "import pylab as plt\n",
    "import numpy as np\n",
    "import RVTools as RVT\n",
    "from scipy import signal, optimize, constants\n",
    "import os\n",
    "import glob\n",
    "reload(RVT)\n",
    "\n",
    "os.chdir('/Users/Carlos/Documents/HERMES/reductions/6.5/HD1581/')\n",
    "\n",
    "corrHWidth = 5\n",
    "xDef = 1\n",
    "fibre = 30\n",
    "\n",
    "arcRVs = np.ones((400,5,4))*np.nan\n",
    "\n",
    "for cam in range(4):\n",
    "    for fibre in [175]: range(400):\n",
    "        print fibre\n",
    "        files = glob.glob('arc_cam'+str(cam+1)+'/*')\n",
    "        for i,thisFile in enumerate(files):\n",
    "            if i==0:\n",
    "                fits = pf.open(thisFile)\n",
    "                refWL = RVT.extract_HERMES_wavelength(thisFile)\n",
    "                refData = fits[0].data\n",
    "                fits.close()\n",
    "\n",
    "        #         print refWL.shape\n",
    "        #         print refData.shape\n",
    "        #         plt.plot(refWL, refData[101])\n",
    "        #         plt.show()\n",
    "\n",
    "\n",
    "            fits = pf.open(thisFile)\n",
    "            thisWL = RVT.extract_HERMES_wavelength(thisFile)\n",
    "            thisData = fits[0].data\n",
    "            fits.close()\n",
    "\n",
    "            lambda1, flux1 = RVT.clean_flux(refWL, refData[fibre], flatten = False)\n",
    "    #         plt.plot(lambda1,flux1)\n",
    "            lambda2, flux2 = RVT.clean_flux(thisWL, thisData[fibre], flatten = False)\n",
    "    #         plt.plot(lambda2,flux2)\n",
    "    #         plt.show()\n",
    "\n",
    "            try:\n",
    "                CCCurve = signal.fftconvolve(flux1[-np.isnan(flux1)], flux2[-np.isnan(flux2)][::-1], mode='same')\n",
    "                corrMax = np.where(CCCurve==max(CCCurve))[0][0]\n",
    "                p_guess = [corrMax,corrHWidth]\n",
    "                x_mask = np.arange(corrMax-corrHWidth, corrMax+corrHWidth+1)\n",
    "                if max(x_mask)<len(CCCurve):\n",
    "                    p = fit_gaussian(p_guess, CCCurve[x_mask], np.arange(len(CCCurve))[x_mask])[0]\n",
    "                    if np.modf(CCCurve.shape[0]/2.0)[0]>1e-5:\n",
    "                        pixelShift = (p[0]-(CCCurve.shape[0]-1)/2.) #odd number of elements\n",
    "                    else:\n",
    "                        pixelShift = (p[0]-(CCCurve.shape[0])/2.) #even number of elements\n",
    "\n",
    "\n",
    "                    mid_px = refData.shape[1]/2\n",
    "                    dWl = (refWL[mid_px+1]-refWL[mid_px]) / refWL[mid_px]/xDef\n",
    "                    RV = dWl * pixelShift * constants.c \n",
    "    #                 print 'RV',fibre,i,RV\n",
    "                    arcRVs[fibre,i,cam] = RV\n",
    "            except:\n",
    "                pass"
   ]
  },
  {
   "cell_type": "code",
   "execution_count": null,
   "metadata": {
    "collapsed": false
   },
   "outputs": [],
   "source": [
    "cam =3\n",
    "filename = 'HD1581arc_IR'\n",
    "\n",
    "files = glob.glob('arc_cam'+str(cam+1)+'/*')\n",
    "for i,thisFile in enumerate(files):\n",
    "    fits = pf.open(thisFile)\n",
    "    refWL = RVT.extract_HERMES_wavelength(thisFile)\n",
    "    refData = fits[0].data\n",
    "    fits.close()\n",
    "    \n",
    "    file_object = open(filename+'_e'+str(i)+'.txt', 'w')\n",
    "    for wl,fl in zip(refWL,refData[175]):\n",
    "        file_object.write(str(wl)+' '+str(fl)+'\\n')\n",
    "    file_object.close()\n"
   ]
  },
  {
   "cell_type": "code",
   "execution_count": null,
   "metadata": {
    "collapsed": false
   },
   "outputs": [],
   "source": [
    "import pickle\n",
    "filename = '../obj/HD1581.obj'\n",
    "# filename = 'Brght01.obj'\n",
    "# filename = 'red_Giant01.obj'\n",
    "# filename = 'Giant01.obj'\n",
    "# filename = 'Field01.obj'\n",
    "filehandler = open(filename, 'r')\n",
    "thisStar = pickle.load(filehandler)\n",
    "thisCam =  thisStar.exposures.cameras[0]\n",
    "\n",
    "thisStar.exposures.pivots"
   ]
  },
  {
   "cell_type": "code",
   "execution_count": null,
   "metadata": {
    "collapsed": false
   },
   "outputs": [],
   "source": [
    "RVs = np.nanmean(arcRVs,axis=0)"
   ]
  },
  {
   "cell_type": "code",
   "execution_count": null,
   "metadata": {
    "collapsed": false
   },
   "outputs": [],
   "source": [
    "X = JDs[np.array([0,1,4,7,12])]"
   ]
  },
  {
   "cell_type": "code",
   "execution_count": null,
   "metadata": {
    "collapsed": false
   },
   "outputs": [],
   "source": [
    "JDs = np.load('../npy/JDs.npy')\n",
    "plt.scatter(JDs,arcRVs[175])\n",
    "plt.show()"
   ]
  },
  {
   "cell_type": "code",
   "execution_count": null,
   "metadata": {
    "collapsed": false
   },
   "outputs": [],
   "source": [
    "np.save('npy/arcRVs',arcRVs)"
   ]
  },
  {
   "cell_type": "code",
   "execution_count": null,
   "metadata": {
    "collapsed": false
   },
   "outputs": [],
   "source": [
    "print arcRVs.shape\n",
    "arcRVs2 = np.ones((400,15,4))*np.nan\n",
    "arcRVs2[:,0,:] = arcRVs[:,0,:]\n",
    "arcRVs2[:,1,:] = arcRVs[:,1,:]\n",
    "arcRVs2[:,2,:] = arcRVs[:,1,:]\n",
    "arcRVs2[:,3,:] = arcRVs[:,1,:]\n",
    "arcRVs2[:,4,:] = arcRVs[:,2,:]\n",
    "arcRVs2[:,5,:] = arcRVs[:,2,:]\n",
    "arcRVs2[:,6,:] = arcRVs[:,2,:]\n",
    "arcRVs2[:,7,:] = arcRVs[:,3,:]\n",
    "arcRVs2[:,8,:] = arcRVs[:,3,:]\n",
    "arcRVs2[:,9,:] = arcRVs[:,3,:]\n",
    "arcRVs2[:,10,:] = arcRVs[:,3,:]\n",
    "arcRVs2[:,11,:] = arcRVs[:,3,:]\n",
    "arcRVs2[:,12,:] = arcRVs[:,4,:]\n",
    "arcRVs2[:,13,:] = arcRVs[:,4,:]\n",
    "arcRVs2[:,14,:] = arcRVs[:,4,:]\n",
    "arcRVs = arcRVs2\n",
    "print arcRVs.shape"
   ]
  },
  {
   "cell_type": "code",
   "execution_count": null,
   "metadata": {
    "collapsed": false
   },
   "outputs": [],
   "source": [
    "arcRVs.shape"
   ]
  },
  {
   "cell_type": "code",
   "execution_count": null,
   "metadata": {
    "collapsed": false
   },
   "outputs": [],
   "source": [
    "cd '/Users/Carlos/Documents/HERMES/reductions/6.5/HD1581/'"
   ]
  },
  {
   "cell_type": "code",
   "execution_count": null,
   "metadata": {
    "collapsed": false
   },
   "outputs": [],
   "source": [
    "# arcRVs = np.load('npy/arcRVs.npy')\n",
    "JDs = np.load('npy/JDs.npy')\n",
    "\n"
   ]
  },
  {
   "cell_type": "code",
   "execution_count": null,
   "metadata": {
    "collapsed": false
   },
   "outputs": [],
   "source": [
    "JDs"
   ]
  },
  {
   "cell_type": "code",
   "execution_count": null,
   "metadata": {
    "collapsed": false
   },
   "outputs": [],
   "source": [
    "arcRVs2 = np.ones((400,16,4))*np.nan\n",
    "arcRVs2[:,0,:] = arcRVs[:,0,:]\n",
    "arcRVs2[:,1,:] = arcRVs[:,0,:]\n",
    "arcRVs2[:,2,:] = arcRVs[:,0,:]\n",
    "arcRVs2[:,3,:] = arcRVs[:,0,:]\n",
    "arcRVs2[:,4,:] = arcRVs[:,1,:]\n",
    "arcRVs2[:,5,:] = arcRVs[:,1,:]\n",
    "arcRVs2[:,6,:] = arcRVs[:,1,:]\n",
    "arcRVs2[:,7,:] = arcRVs[:,2,:]\n",
    "arcRVs2[:,8,:] = arcRVs[:,2,:]\n",
    "arcRVs2[:,9,:] = arcRVs[:,2,:]\n",
    "arcRVs2[:,10,:] = arcRVs[:,3,:]\n",
    "arcRVs2[:,11,:] = arcRVs[:,3,:]\n",
    "arcRVs2[:,12,:] = arcRVs[:,3,:]\n",
    "arcRVs2[:,13,:] = arcRVs[:,4,:]\n",
    "arcRVs2[:,14,:] = arcRVs[:,4,:]\n",
    "arcRVs2[:,15,:] = arcRVs[:,4,:]\n",
    "arcRVs = arcRVs2\n",
    "np.save('npy/arcRVs',arcRVs)\n"
   ]
  },
  {
   "cell_type": "code",
   "execution_count": null,
   "metadata": {
    "collapsed": false
   },
   "outputs": [],
   "source": [
    "bary = np.load('npy/baryVels.npy')"
   ]
  },
  {
   "cell_type": "code",
   "execution_count": null,
   "metadata": {
    "collapsed": false
   },
   "outputs": [],
   "source": []
  },
  {
   "cell_type": "code",
   "execution_count": null,
   "metadata": {
    "collapsed": false
   },
   "outputs": [],
   "source": [
    "bary.shape"
   ]
  },
  {
   "cell_type": "code",
   "execution_count": null,
   "metadata": {
    "collapsed": false
   },
   "outputs": [],
   "source": []
  },
  {
   "cell_type": "code",
   "execution_count": null,
   "metadata": {
    "collapsed": false
   },
   "outputs": [],
   "source": [
    "bary"
   ]
  },
  {
   "cell_type": "code",
   "execution_count": null,
   "metadata": {
    "collapsed": false
   },
   "outputs": [],
   "source": [
    "bary[:-1]-bary[1:]"
   ]
  },
  {
   "cell_type": "code",
   "execution_count": null,
   "metadata": {
    "collapsed": false
   },
   "outputs": [],
   "source": [
    "pwd"
   ]
  },
  {
   "cell_type": "code",
   "execution_count": null,
   "metadata": {
    "collapsed": false
   },
   "outputs": [],
   "source": [
    "a = np.array([4860,4865])\n",
    "np.save('npy/cam1Filter.npy',a)\n",
    "a = np.array([5751,5756])\n",
    "np.save('npy/cam2Filter.npy',a)\n",
    "a = np.array([6560,6565])\n",
    "np.save('npy/cam3Filter.npy',a)\n",
    "a = np.array([7710,7718])\n",
    "np.save('npy/cam4Filter.npy',a)\n"
   ]
  },
  {
   "cell_type": "code",
   "execution_count": null,
   "metadata": {
    "collapsed": false
   },
   "outputs": [],
   "source": [
    "1.400E7\n",
    "648.36\n",
    "818.28\n",
    "570.57\n",
    "142.85\n",
    "150.76\n",
    "150.88\n",
    "80.39\n",
    "84.36\n",
    "99.99\n",
    "105.94\n",
    "124.30\n",
    "122.21\n",
    "122.19\n",
    "121.61\n"
   ]
  },
  {
   "cell_type": "code",
   "execution_count": null,
   "metadata": {
    "collapsed": false
   },
   "outputs": [],
   "source": [
    "hbetaRVs = (np.loadtxt('out3_hbeta.txt', delimiter = ' ', dtype='str')[:,32]).astype(float)*1000"
   ]
  },
  {
   "cell_type": "code",
   "execution_count": null,
   "metadata": {
    "collapsed": false
   },
   "outputs": [],
   "source": [
    "arcRVs = np.loadtxt('arc_hbeta.txt', delimiter = ' ', dtype='str', usecols = [46]).astype(float)*1000"
   ]
  },
  {
   "cell_type": "code",
   "execution_count": null,
   "metadata": {
    "collapsed": false
   },
   "outputs": [],
   "source": [
    "bary = np.load('npy/baryVels.npy')\n",
    "JDs = np.load('npy/JDs.npy')"
   ]
  },
  {
   "cell_type": "code",
   "execution_count": null,
   "metadata": {
    "collapsed": false
   },
   "outputs": [],
   "source": [
    "np.loadtxt('arc_hbeta.txt', delimiter = ' ', dtype='str', usecols = [46])"
   ]
  },
  {
   "cell_type": "code",
   "execution_count": null,
   "metadata": {
    "collapsed": false
   },
   "outputs": [],
   "source": [
    "[0,1,4,7,12]"
   ]
  },
  {
   "cell_type": "code",
   "execution_count": null,
   "metadata": {
    "collapsed": false
   },
   "outputs": [],
   "source": [
    "plt.scatter(JDs,hbetaRVs,color = 'k', s=100, marker='*', label = 'Stars')\n",
    "plt.scatter(JDs[np.array([0,1,4,7,12])],arcRVs,  marker = '+' , label = 'ARC RV', color = 'm', s=500)\n",
    "plt.show()"
   ]
  },
  {
   "cell_type": "code",
   "execution_count": null,
   "metadata": {
    "collapsed": false
   },
   "outputs": [],
   "source": [
    "arcRVs[0] = 1.4e-7"
   ]
  },
  {
   "cell_type": "code",
   "execution_count": null,
   "metadata": {
    "collapsed": false
   },
   "outputs": [],
   "source": [
    "bary"
   ]
  },
  {
   "cell_type": "markdown",
   "metadata": {},
   "source": [
    "### sine wave"
   ]
  },
  {
   "cell_type": "code",
   "execution_count": null,
   "metadata": {
    "collapsed": false
   },
   "outputs": [],
   "source": [
    "cd /Users/Carlos/Documents/HERMES/reductions/6.5/rhoTuc/"
   ]
  },
  {
   "cell_type": "code",
   "execution_count": null,
   "metadata": {
    "collapsed": false
   },
   "outputs": [],
   "source": [
    "import numpy as np\n",
    "import pylab as plt\n",
    "from scipy.optimize import leastsq"
   ]
  },
  {
   "cell_type": "code",
   "execution_count": null,
   "metadata": {
    "collapsed": false
   },
   "outputs": [],
   "source": [
    "RVs = np.load('npy/RVs.npy')\n",
    "baryVels = np.load('npy/baryVels.npy')\n",
    "MJDs = np.load('npy/MJDs.npy')\n",
    "data = np.load('npy/data.npy')"
   ]
  },
  {
   "cell_type": "code",
   "execution_count": null,
   "metadata": {
    "collapsed": false
   },
   "outputs": [],
   "source": [
    "np.where(data[:,0]=='Giant01')\n",
    "print data[15]"
   ]
  },
  {
   "cell_type": "code",
   "execution_count": null,
   "metadata": {
    "collapsed": false
   },
   "outputs": [],
   "source": [
    "starIdx = 15\n",
    "thisBaryRVs = (RVs[starIdx,:,0] - baryVels)[-np.isnan(RVs[starIdx,:,0])]\n",
    "thisMJDs = MJDs[-np.isnan(RVs[starIdx,:,0])]\n",
    "\n",
    "\n",
    "print 'Calculating RV fit for', thisBaryRVs.shape[0], 'data points'\n",
    "\n"
   ]
  },
  {
   "cell_type": "code",
   "execution_count": null,
   "metadata": {
    "collapsed": false
   },
   "outputs": [],
   "source": [
    "def optimise_sine(x):\n",
    "    \n",
    "#     print 'x',x\n",
    "    result = x[0]*(np.sin(np.pi*2./x[2]*(MJDs+x[1]))-np.sin(np.pi*2./x[2]*(MJDs[0]+x[1]))) - thisBaryRVs\n",
    "    \n",
    "    \n",
    "    return result \n"
   ]
  },
  {
   "cell_type": "code",
   "execution_count": null,
   "metadata": {
    "collapsed": false
   },
   "outputs": [],
   "source": [
    "# data = 3.0*np.sin(t+0.001) + 0.5 + np.random.randn(N) # create artificial data with noise\n",
    "\n",
    "# guess_mean = np.mean(thisBaryRVs)\n",
    "guess_std = 3*np.std(thisBaryRVs)/(2**0.5)\n",
    "guess_std = 40000\n",
    "guess_A = np.abs((np.max(thisBaryRVs)-np.min(thisBaryRVs))/2.)\n",
    "guess_phase = 0.\n",
    "guess_P = 5.\n",
    "\n",
    "print 'Initial x',guess_A,guess_phase,guess_P\n",
    "\n",
    "# we'll use this to plot our first estimate. This might already be good enough for you\n",
    "data_first_guess = guess_A*np.sin(2*np.pi/guess_P*(MJDs+guess_phase))\n",
    "\n",
    "# plt.scatter(MJDs, thisBaryRVs)\n",
    "# plt.plot(MJDs, data_first_guess)\n",
    "# plt.title('First Guess')\n",
    "# plt.show()\n",
    "\n",
    "# Define the function to optimize, in this case, we want to minimize the difference\n",
    "# between the actual data and our \"guessed\" parameters\n",
    "# optimize_func = lambda x: (x[0]*np.sin(MJDs+x[1])-x[0]*np.sin(MJDs+x[1])[0]) - data\n",
    "\n",
    "\n",
    "ouput = leastsq(optimise_sine, [guess_A, guess_phase, guess_P], full_output = True, diag = [1,100,100])\n",
    "print np.std(ouput[2]['fvec'])\n",
    "\n",
    "# est_std, est_phase, est_P =ouput[0]\n",
    "\n",
    "# # recreate the fitted curve using the optimized parameters\n",
    "# data_fit = est_std*np.sin(2*np.pi/est_P*(MJDs+est_phase))\n",
    "\n",
    "# plt.plot(MJDs,thisBaryRVs, '.')\n",
    "# plt.plot(MJDs,data_fit-data_fit[0], label='after fitting')\n",
    "# # plt.plot(MJDs,data_first_guess, label='first guess')\n",
    "# plt.title(('RV:'+str(est_std)+' ph:'+str(est_phase)+' P:'+str(est_P)))\n",
    "# plt.legend()\n",
    "# plt.show()"
   ]
  },
  {
   "cell_type": "code",
   "execution_count": null,
   "metadata": {
    "collapsed": false
   },
   "outputs": [],
   "source": [
    "\n",
    "x[0]*(np.sin(np.pi*2./p*MJDs+X[1])-np.sin(np.pi*2./p*MJDs[0]+X[1])) - thisBaryRVs"
   ]
  },
  {
   "cell_type": "code",
   "execution_count": null,
   "metadata": {
    "collapsed": false
   },
   "outputs": [],
   "source": [
    "data_first_guess"
   ]
  },
  {
   "cell_type": "code",
   "execution_count": null,
   "metadata": {
    "collapsed": false
   },
   "outputs": [],
   "source": [
    "a = np.arange(4*np.pi+1)\n",
    "p=np.pi\n",
    "b = np.sin(np.pi*2./p*a)\n",
    "\n",
    "plt.plot(a,b)\n",
    "plt.show()"
   ]
  },
  {
   "cell_type": "markdown",
   "metadata": {},
   "source": [
    "### tree plot"
   ]
  },
  {
   "cell_type": "code",
   "execution_count": null,
   "metadata": {
    "collapsed": false
   },
   "outputs": [],
   "source": [
    "cd HERMES/reductions/6.5/47Tuc_core/"
   ]
  },
  {
   "cell_type": "code",
   "execution_count": null,
   "metadata": {
    "collapsed": false
   },
   "outputs": [],
   "source": [
    "import pylab as plt\n",
    "import numpy as np\n",
    "\n",
    "zoom = 1\n",
    "sigmaClip = -1\n",
    "RVClip = -1\n",
    "booSave = False\n",
    "booShow = True\n",
    "booBaryPlot = False\n",
    "booBaryCorrect = False\n",
    "title = ''\n",
    "colors = ['b','g','r','cyan']\n",
    "labels = ['Blue','Green','Red','IR']\n",
    "\n",
    "    \n",
    "data=np.load('npy/data.npy')\n",
    "RVs=np.load('npy/RVs.npy')\n",
    "#     sigmas=np.load('npy/sigmas.npy')\n",
    "baryVels=np.load('npy/baryVels.npy')\n",
    "#     JDs=np.load('npy/JDs.npy')\n",
    "baryVels3D = np.zeros(RVs.shape)\n",
    "baryVels3D[:,:,0] = np.tile(baryVels,[RVs.shape[0],1])\n",
    "baryVels3D[:,:,1] = np.tile(baryVels,[RVs.shape[0],1])\n",
    "baryVels3D[:,:,2] = np.tile(baryVels,[RVs.shape[0],1])\n",
    "baryVels3D[:,:,3] = np.tile(baryVels,[RVs.shape[0],1])\n",
    "baryRVs = RVs - baryVels3D\n",
    "\n",
    "\n",
    "order = np.argsort(np.ptp(baryRVs,1),0)\n",
    "print 'order',order\n",
    "print 'barys',np.ptp(baryRVs,1)\n",
    "# print '1',baryRVs[:,:,0]\n",
    "# print '2',baryRVs[:,:,0][order[:,0]]\n",
    "\n",
    "for i,line in enumerate(baryRVs[:,:,0]):\n",
    "    print i, line, np.ptp(line)\n",
    "    \n",
    "    \n",
    "    \n",
    "plt.boxplot((baryRVs[:,:,0][order[:,0]]).transpose())\n",
    "plt.show()\n",
    "    \n",
    "# #     if RVClip>-1:Y[np.abs(Y)>RVClip] = np.nan\n",
    "# #     if sigmaClip>-1:\n",
    "# #         stdY= np.std(Y)\n",
    "# #         medY = np.median(Y)\n",
    "# #         Y[(Y>=medY-sigmaClip*stdY) & (Y<=medY+sigmaClip*stdY)] = np.nan\n",
    "    \n",
    "# #     YERR = sigmas\n",
    "\n",
    "#     X = np.arange(data[:,0].shape[0])\n",
    "# #     bcRVs = RVs-baryVels\n",
    "    \n",
    "# #     Y = RVs\n",
    "# #     Y[Y==0.]=np.nan\n",
    "# #     order = np.argsort(np.nanstd(RVs,axis=1),axis=0)    \n",
    "#     order = np.argsort(np.ptp(baryVels3D,1),0)\n",
    "    \n",
    "#     if zoom > 1 :\n",
    "#         zoomList = [np.arange(len(X))]\n",
    "    \n",
    "#     steps = np.zeros(zoom+1)\n",
    "#     for i in range(zoom+1):\n",
    "#         steps[i] = len(X)/zoom*i\n",
    "        \n",
    "#     for i in range(zoom):\n",
    "#         print 'i.zoom',i,zoom\n",
    "#         if i<(zoom-1):\n",
    "#             zoomList.append([np.arange(steps[i],steps[i+1]).astype(int)])\n",
    "#         else:\n",
    "#             print 'last zoom'\n",
    "#             zoomList.append([np.arange(steps[i],len(X)).astype(int)])\n",
    "    \n",
    "#     zoomList = np.array(zoomList)\n",
    "    \n",
    "#     print 'steps,zoomList',steps,zoomList\n",
    "#     for cam in range(4)[:1]:\n",
    "#         for i, thisXRange in enumerate(zoomList):\n",
    "            \n",
    "#             print 'thisXRange',thisXRange\n",
    "#             thisOrder = order[:,cam][thisXRange]\n",
    "#             print 'thisOrder',thisOrder\n",
    "            \n",
    "#             fig, ax = plt.subplots()\n",
    "#             ax.set_xticklabels(data[:,0][thisOrder])\n",
    "#             ax.set_xticks(X[range(len(thisOrder))])\n",
    "#             plt.xticks(rotation=90)\n",
    "\n",
    "# #             if booBaryPlot==True: plt.plot(X, baryVels, label = 'Barycentric Vel. ')\n",
    "\n",
    "\n",
    "#             thisY = baryRVs[:,:,cam][thisOrder]\n",
    "#             thisY[thisY==0.]=np.nan\n",
    "\n",
    "# #             YERR[:,:,cam] = YERR[:,:,cam][order[:,cam]]\n",
    "\n",
    "#             #median\n",
    "#             plt.scatter(X[range(len(thisOrder))], stats.nanmedian(thisY , axis = 1), label = labels[cam], color = 'k')\n",
    "\n",
    "#             #sigma\n",
    "#             plt.scatter(X[range(len(thisOrder))], stats.nanmedian(thisY, axis = 1)+stats.nanstd(thisY, axis = 1), label = labels[cam], color = 'r')\n",
    "#             plt.scatter(X[range(len(thisOrder))], stats.nanmedian(thisY, axis = 1)-stats.nanstd(thisY, axis = 1), label = labels[cam], color = 'r')\n",
    "\n",
    "\n",
    "#             #min max\n",
    "#             for star in range(thisY.shape[0]):\n",
    "#                 x = np.nanmax(thisY[star,:])\n",
    "#                 n = np.nanmin(thisY[star,:])\n",
    "#                 plt.plot([star,star],[x,n], color = 'g', lw=2)\n",
    "#                 print star, n, x, x-n\n",
    "\n",
    "#             #zero\n",
    "#             plt.plot(X[range(len(thisOrder))],np.zeros(len(thisOrder)), '--')\n",
    "\n",
    "#             plt.grid(axis='x')\n",
    "#             plt.xlabel('Stars')\n",
    "#             plt.ylabel('RV [m/s]')\n",
    "#         #     plt.legend(loc=0)\n",
    "\n",
    "#             fig.tight_layout()\n",
    "#             if booSave==True: \n",
    "#                 try:\n",
    "#                     plotName = 'plots/Tree_'+str(i)+'_'+labels[cam]\n",
    "#                     print 'Attempting to save', plotName\n",
    "#                     plt.savefig(plotName)\n",
    "\n",
    "#                 except:\n",
    "#                     print 'FAILED'\n",
    "#             if booShow==True: plt.show()\n",
    "#             plt.close()        \n",
    "        "
   ]
  },
  {
   "cell_type": "code",
   "execution_count": null,
   "metadata": {
    "collapsed": false
   },
   "outputs": [],
   "source": [
    "a = 432.4323423534235345"
   ]
  },
  {
   "cell_type": "code",
   "execution_count": null,
   "metadata": {
    "collapsed": false
   },
   "outputs": [],
   "source": [
    "\"%.2f\" % a"
   ]
  },
  {
   "cell_type": "markdown",
   "metadata": {},
   "source": [
    "### log resample tests"
   ]
  },
  {
   "cell_type": "code",
   "execution_count": null,
   "metadata": {
    "collapsed": false
   },
   "outputs": [],
   "source": [
    "cd ~/Documents/HERMES/reductions/6.5/m67_lr/obj/"
   ]
  },
  {
   "cell_type": "code",
   "execution_count": null,
   "metadata": {
    "collapsed": false
   },
   "outputs": [],
   "source": [
    "import pickle\n",
    "import pylab as plt\n",
    "import RVTools as RVT\n",
    "import numpy as np\n",
    "from scipy import optimize\n",
    "filename = 'red_Giant01.obj'\n",
    "filename = 'M67-590_10_0_56643.6659144.obj'\n",
    "\n",
    "# filename = 'Field01.obj'\n",
    "filehandler = open(filename, 'r')\n",
    "thisStar = pickle.load(filehandler)\n",
    "\n",
    "thisCam = thisStar.exposures.cameras[0]\n"
   ]
  },
  {
   "cell_type": "code",
   "execution_count": null,
   "metadata": {
    "collapsed": false
   },
   "outputs": [],
   "source": [
    "\n",
    "for i,thisCam in enumerate(thisStar.exposures.cameras):\n",
    "        print i, thisCam.wavelengths\n",
    "        print i, thisCam.red_fluxes\n",
    "        \n"
   ]
  },
  {
   "cell_type": "markdown",
   "metadata": {},
   "source": [
    "### HERPY RVS test1"
   ]
  },
  {
   "cell_type": "code",
   "execution_count": 8,
   "metadata": {
    "collapsed": false
   },
   "outputs": [
    {
     "name": "stdout",
     "output_type": "stream",
     "text": [
      "/Users/Carlos/Documents/HERMES/reductions/myherpy/HD1581\n"
     ]
    }
   ],
   "source": [
    "cd ~/Documents/HERMES/reductions/myherpy/HD1581/"
   ]
  },
  {
   "cell_type": "code",
   "execution_count": 9,
   "metadata": {
    "collapsed": false
   },
   "outputs": [],
   "source": [
    "import pickle\n",
    "filename = 'obj/red_Giant01.obj'\n",
    "filename2 = 'obj/red_ThXe.obj'\n",
    "filehandler = open(filename, 'r')\n",
    "filehandler2 = open(filename2, 'r')\n",
    "thisStar = pickle.load(filehandler)\n",
    "thisStar2 = pickle.load(filehandler2)\n",
    "\n",
    "thisCam = thisStar.exposures.cameras[0]\n",
    "thisCam2 = thisStar2.exposures.cameras[0]\n"
   ]
  },
  {
   "cell_type": "code",
   "execution_count": 10,
   "metadata": {
    "collapsed": false
   },
   "outputs": [
    {
     "data": {
      "text/plain": [
       "array([  9.67533036e-02,  -4.71506911e+02,  -4.93301884e+02,\n",
       "        -4.63283049e+02,  -6.76956540e+02,  -6.39670865e+02,\n",
       "        -6.44492682e+02,  -2.17514185e+03,  -2.18032809e+03,\n",
       "        -2.17907826e+03,  -2.22124104e+03,  -2.19286711e+03,\n",
       "        -2.53635510e+03,  -2.54324771e+03,  -2.55735325e+03])"
      ]
     },
     "execution_count": 10,
     "metadata": {},
     "output_type": "execute_result"
    }
   ],
   "source": [
    "thisCam.RVs -  thisCam2.RVs+ thisStar.exposures.rel_baryVels"
   ]
  },
  {
   "cell_type": "code",
   "execution_count": null,
   "metadata": {
    "collapsed": true
   },
   "outputs": [],
   "source": [
    "import pylab as plt\n",
    "\n",
    "plt.plot(thisStar.exposures.MJDs, thisCam.RVs,'.', label = 'Star')\n",
    "plt.plot(thisStar.exposures.MJDs, thisStar.exposures.rel_baryVels, label = 'bary_star')\n",
    "plt.plot(thisStar2.exposures.MJDs, thisCam2.RVs,'.', label = 'ThXe')\n",
    "plt.plot(thisStar2.exposures.MJDs, thisStar2.exposures.rel_baryVels, '.',label = 'bary_ThXe')\n",
    "plt.legend(loc=0)\n",
    "plt.show()"
   ]
  },
  {
   "cell_type": "code",
   "execution_count": 11,
   "metadata": {
    "collapsed": false
   },
   "outputs": [],
   "source": [
    "a = np.loadtxt('ThXe_prepared.txt')\n",
    "wl = a[:,0]\n",
    "Th = a[:,1:]\n"
   ]
  },
  {
   "cell_type": "code",
   "execution_count": 74,
   "metadata": {
    "collapsed": false
   },
   "outputs": [
    {
     "name": "stdout",
     "output_type": "stream",
     "text": [
      "(4096, 16)\n"
     ]
    }
   ],
   "source": [
    "b = np.loadtxt('Spec_prepared.txt')\n",
    "wl_sp = b[:,0]\n",
    "fl_sp = b[:,1:]\n",
    "\n"
   ]
  },
  {
   "cell_type": "code",
   "execution_count": 162,
   "metadata": {
    "collapsed": false
   },
   "outputs": [
    {
     "name": "stdout",
     "output_type": "stream",
     "text": [
      "[ 0.011  0.004  0.007  0.009  0.007  0.009  0.011 -0.035 -0.033 -0.032\n",
      " -0.031 -0.029  0.043  0.045  0.046]\n"
     ]
    }
   ],
   "source": [
    "c = np.loadtxt('MJD_RVcorr.txt')\n",
    "MJD = c[:,0]-2400000.50\n",
    "rel_bary = c[:,1]\n",
    "print thisStar.exposures.MJDs- MJD\n",
    "good_bary = (rel_bary-rel_bary[0])*1000"
   ]
  },
  {
   "cell_type": "code",
   "execution_count": 142,
   "metadata": {
    "collapsed": false
   },
   "outputs": [
    {
     "name": "stdout",
     "output_type": "stream",
     "text": [
      "-1.63860983391e-05 RV -0.0245622048949\n",
      "-0.19962858265 RV -299.236465476\n",
      "-0.226802853493 RV -339.96977456\n",
      "-0.197416263772 RV -295.920274614\n",
      "-0.303048306097 RV -454.259118516\n",
      "-0.284628695852 RV -426.648748337\n",
      "-0.282764392478 RV -423.854220896\n",
      "-0.406069257405 RV -608.684025662\n",
      "-0.413433184229 RV -619.722301872\n",
      "-0.414293119293 RV -621.011315328\n",
      "-0.43166196544 RV -647.04662581\n",
      "-0.416907770432 RV -624.930588585\n",
      "-1.52672262371 RV -2288.50536139\n",
      "-1.52916269417 RV -2292.16294414\n",
      "-1.54768481186 RV -2319.9269695\n"
     ]
    },
    {
     "name": "stderr",
     "output_type": "stream",
     "text": [
      "/Users/Carlos/Library/Enthought/Canopy_64bit/User/lib/python2.7/site-packages/ipykernel/__main__.py:47: DeprecationWarning: numpy boolean negative (the unary `-` operator) is deprecated, use the bitwise_xor (the `^` operator) or the logical_xor function instead.\n"
     ]
    }
   ],
   "source": [
    "from scipy import stats, constants, optimize, signal\n",
    "import RVTools as RVT\n",
    "reload(RVT)\n",
    "import numpy as np\n",
    "import pylab as plt\n",
    "\n",
    "RV1= []\n",
    "def clean_flux(wavelength, flux, minWL=0, maxWL=0, xStep = 5*10**-6, medianRange = 5, flatten = False):\n",
    "    \n",
    "    #fix initial nans on edges\n",
    "    nanMap = np.isnan(flux)\n",
    "    leftEdgeIdx=0\n",
    "    rightEdgeIdx=len(flux)\n",
    "    \n",
    "#     nanMapIdx = np.where(nanMap==True) <<<<<make the next lines faster by using this\n",
    "    if np.sum(nanMap)>0:\n",
    "        print 'Found NaNs in flux array'\n",
    "        \n",
    "    for i,booI in enumerate(nanMap):\n",
    "        if booI==False:\n",
    "            leftEdgeIdx = i\n",
    "            break\n",
    "            \n",
    "    for j,rbooI in enumerate(nanMap[::-1]):\n",
    "        if rbooI==False:\n",
    "            rightEdgeIdx = len(nanMap)-j\n",
    "            break        \n",
    "\n",
    "    fluxMedian = stats.nanmedian(flux)\n",
    "    if leftEdgeIdx>0:\n",
    "        flux[:leftEdgeIdx] = np.linspace(fluxMedian, flux[leftEdgeIdx+1],leftEdgeIdx)\n",
    "    if rightEdgeIdx<len(flux):\n",
    "        flux[rightEdgeIdx:] = np.linspace(flux[rightEdgeIdx-1], fluxMedian, len(flux)-rightEdgeIdx)\n",
    "\n",
    "        \n",
    "        \n",
    "    #median outliers\n",
    "    if medianRange>0:\n",
    "        fluxMed = signal.medfilt(flux,medianRange)\n",
    "#         fluxDiff = abs(flux-fluxMed)\n",
    "        fluxDiff = flux-fluxMed\n",
    "        fluxDiffStd = np.std(fluxDiff)\n",
    "        mask = fluxDiff> 3 * fluxDiffStd\n",
    "        flux[mask] = fluxMed[mask]\n",
    "\n",
    "\n",
    "    if ((wavelength[-np.isnan(flux)].shape[0]>0) &  (flux[-np.isnan(flux)].shape[0]>0)):\n",
    "        \n",
    "#         if flatten==True:#flatten curve by fitting a 3rd order poly\n",
    "#             fFlux = optimize.curve_fit(cubic, wavelength[-np.isnan(flux)], flux[-np.isnan(flux)], p0 = [1,1,1,1])\n",
    "#             fittedCurve = cubic(wavelength, fFlux[0][0], fFlux[0][1], fFlux[0][2], fFlux[0][3])\n",
    "#             flux = flux/fittedCurve-1\n",
    "#         else:\n",
    "#             flux = flux/fluxMedian-1\n",
    "            \n",
    "        #apply tukey\n",
    "        flux = flux * signal.tukey(len(flux), 0.1)\n",
    "\n",
    "        #resample\n",
    "#         print wavelength, flux, minWL, maxWL, xStep\n",
    "        wavelength,flux = RVT.resample_sp(wavelength, flux, minWL, maxWL, xStep)\n",
    "        \n",
    "    else: #if not enough data return NaNs\n",
    "        wavelength = np.ones(4096)*np.nan\n",
    "        flux = np.ones(4096)*np.nan\n",
    "        \n",
    "    return wavelength, flux\n",
    "\n",
    "\n",
    "#Create cross correlation curves wrt epoch 0\n",
    "\n",
    "minWL, maxWL = np.min(wl_sp), np.max(wl_sp)\n",
    "\n",
    "lambda1, flux1 = clean_flux(wl_sp, fl_sp[:,0], minWL, maxWL)\n",
    "\n",
    "for i in range(15):\n",
    "\n",
    "    lambda2, flux2 = clean_flux(wl_sp, fl_sp[:,i], minWL, maxWL)\n",
    "\n",
    "    #Duncan's approach to CC. \n",
    "    CCCurve = np.correlate(flux1, flux2, mode='full')\n",
    "    \n",
    "    width = 15\n",
    "    y = CCCurve[int(CCCurve.shape[0]/2.)-width:int(CCCurve.shape[0]/2.)+1+width].copy()\n",
    "    y /=np.max(y)\n",
    "    x = np.arange(-width,width+1)\n",
    "    p,_ = fit_flexi_gaussian([1,3.,2.,1.,0],y,x )\n",
    "#     x, mu, sig, power, a, d \n",
    "    plt.plot(x,y)\n",
    "    x_dense = np.linspace(min(x),max(x))\n",
    "    plt.plot(x_dense,flexi_gaussian(x_dense,p[0],p[1],p[2],p[3],p[4]), label='gaussian')\n",
    "    plt.legend(loc=0)\n",
    "    plt.show()\n",
    "    shift = p[0]\n",
    "    print p[0], \n",
    "#                 thisQ, thisdRV = QdRV(thisCam.wavelengths[epoch], thisCam.red_fluxes[epoch])\n",
    "\n",
    "    px = 1000\n",
    "    RV = (np.exp(lambda1[px+1]-lambda1[px]) -1) * constants.c * shift\n",
    "    print 'RV',RV                \n",
    "    RV1.append(RV)\n",
    "    \n",
    "# -2.93349067446e-07 RV -0.000439720289189\n",
    "# -0.038707960129 RV -58.0219176085\n",
    "# -0.178451980065 RV -267.493457415\n",
    "# 0.315953211917 RV 473.603134055\n",
    "# -0.65680488406 RV -984.528214371"
   ]
  },
  {
   "cell_type": "code",
   "execution_count": 172,
   "metadata": {
    "collapsed": false
   },
   "outputs": [
    {
     "name": "stdout",
     "output_type": "stream",
     "text": [
      "[  0  21 -17  29  17  48  53 -57 -66 -66 -90 -66 -38 -39 -65]\n",
      "[    0.     -262.309  -264.666  -266.998  -413.627  -416.665  -419.65\n",
      " -1024.372 -1026.757 -1028.525 -1029.952 -1031.824 -1265.941 -1268.411\n",
      " -1270.348]\n"
     ]
    }
   ],
   "source": [
    "a = np.array(RV1)-np.array(RV2)[np.array([0,1,1,1,1,1,1,3,3,3,3,3,4,4,4])]-good_bary\n",
    "\n",
    "print a.astype(int)\n",
    "print good_bary"
   ]
  },
  {
   "cell_type": "code",
   "execution_count": 131,
   "metadata": {
    "collapsed": false
   },
   "outputs": [
    {
     "data": {
      "text/plain": [
       "[-0.00043972028918917028,\n",
       " -58.021917608493553,\n",
       " -267.49345741459399,\n",
       " 473.60313405476614,\n",
       " -984.52821437106377]"
      ]
     },
     "execution_count": 131,
     "metadata": {},
     "output_type": "execute_result"
    }
   ],
   "source": [
    "RV2"
   ]
  },
  {
   "cell_type": "code",
   "execution_count": 70,
   "metadata": {
    "collapsed": false
   },
   "outputs": [
    {
     "name": "stdout",
     "output_type": "stream",
     "text": [
      "-2.93349067446e-07 RV -0.000439720289189\n",
      "-0.038707960129 RV -58.0219176085\n",
      "-0.178451980065 RV -267.493457415\n",
      "0.315953211917 RV 473.603134055\n",
      "-0.65680488406 RV -984.528214371\n"
     ]
    }
   ],
   "source": [
    "from scipy import stats, constants, optimize, interpolate\n",
    "import RVTools as RVT\n",
    "reload(RVT)\n",
    "import numpy as np\n",
    "import pylab as plt\n",
    "\n",
    "RV2 =[]\n",
    "def clean_arc(wavelength, flux, minWL=0, maxWL=0, xStep = 5 *10**-6, medianRange = 0, flatten = True):\n",
    "    wavelength,flux = RVT.resample_sp(wavelength, flux, minWL, maxWL, xStep)\n",
    "        \n",
    "        \n",
    "    return wavelength, flux\n",
    "\n",
    "\n",
    "\n",
    "minWL, maxWL = np.min(wl), np.max(wl)\n",
    "\n",
    "lambda1, flux1 = clean_arc(wl, Th[:,0], minWL, maxWL)\n",
    "\n",
    "for i in range(5):\n",
    "\n",
    "    lambda2, flux2 = clean_arc(wl, Th[:,i], minWL, maxWL)\n",
    "\n",
    "    #Duncan's approach to CC. \n",
    "    CCCurve = np.correlate(flux1, flux2, mode='full')\n",
    "    \n",
    "    width = 15\n",
    "    y = CCCurve[int(CCCurve.shape[0]/2.)-width:int(CCCurve.shape[0]/2.)+1+width].copy()\n",
    "    y /=np.max(y)\n",
    "    x = np.arange(-width,width+1)\n",
    "    p,_ = fit_flexi_gaussian([1,3.,2.,1.,0],y,x )\n",
    "#     x, mu, sig, power, a, d \n",
    "#     plt.plot(x,y)\n",
    "#     x_dense = np.linspace(min(x),max(x))\n",
    "#     plt.plot(x_dense,flexi_gaussian(x_dense,p[0],p[1],p[2],p[3],p[4]), label='gaussian')\n",
    "#     plt.legend(loc=0)\n",
    "#     plt.show()\n",
    "    shift = p[0]\n",
    "    print p[0], \n",
    "#                 thisQ, thisdRV = QdRV(thisCam.wavelengths[epoch], thisCam.red_fluxes[epoch])\n",
    "\n",
    "    px = 1000\n",
    "    RV = (np.exp(lambda1[px+1]-lambda1[px]) -1) * constants.c * shift\n",
    "    print 'RV',RV                \n",
    "    RV2.append(RV)"
   ]
  },
  {
   "cell_type": "code",
   "execution_count": 42,
   "metadata": {
    "collapsed": false
   },
   "outputs": [
    {
     "name": "stdout",
     "output_type": "stream",
     "text": [
      "[ 4713.782   4713.8384  4713.8948 ...,  4901.9228  4901.9573  4901.9917] [ 11.957883  17.381695  13.064023 ...,  53.899754  51.255165  52.595496]\n",
      "[ 8.45824584  8.4582578   8.45826977 ...,  8.49738282  8.49738985\n",
      "  8.49739687]\n",
      "[ 8.45824584  8.45825084  8.45825584 ...,  8.49738584  8.49739084\n",
      "  8.49739584]\n"
     ]
    }
   ],
   "source": [
    "print wl, \n",
    "print Th[:,0]\n",
    "lnWavelength = np.log(wl)\n",
    "print lnWavelength\n",
    "fFlux = interpolate.splrep(lnWavelength, Th[:,0]) \n",
    "wavelength = np.arange(np.log(minWL), np.log(maxWL),5*10**-6)\n",
    "print wavelength\n",
    "flux = interpolate.splev(wavelength, fFlux)\n",
    "plt.plot(np.log(wl),Th[:,0])\n",
    "plt.plot(wavelength,flux)\n",
    "plt.show()"
   ]
  },
  {
   "cell_type": "code",
   "execution_count": null,
   "metadata": {
    "collapsed": true
   },
   "outputs": [],
   "source": [
    "duncan = [0, -58, -268, 474, -985]"
   ]
  },
  {
   "cell_type": "code",
   "execution_count": null,
   "metadata": {
    "collapsed": false
   },
   "outputs": [],
   "source": [
    "print thisCam2.RVs"
   ]
  },
  {
   "cell_type": "code",
   "execution_count": null,
   "metadata": {
    "collapsed": false
   },
   "outputs": [],
   "source": [
    "reload(RVT)\n",
    "# for i in range(10):\n",
    "i=0\n",
    "wavelength = thisCam.wavelengths[i].copy()\n",
    "flux = thisCam.red_fluxes[i].copy()\n",
    "# wavelength2, flux2 = RVT.resample_sp(wavelength, flux)\n",
    "wavelength3, flux3 = RVT.clean_flux(wavelength, flux, flatten = False, medianRange=9)\n",
    "\n",
    "# wavelength3, flux3 = RVT.resample_sp(wavelength, flux, 10)\n",
    "# print wavelength.shape, wavelength2.shape\n",
    "\n",
    "# plt.plot(wavelength,flux)\n",
    "# plt.plot(np.exp(wavelength2),flux2)\n",
    "plt.plot(np.exp(wavelength3),flux3)\n",
    "# plt.plot(flux)\n",
    "# plt.plot(flux2)`\n",
    "plt.show()\n",
    "\n"
   ]
  },
  {
   "cell_type": "code",
   "execution_count": null,
   "metadata": {
    "collapsed": false
   },
   "outputs": [],
   "source": [
    "wavelength = thisCam.wavelengths[0].copy()\n",
    "flux = thisCam.red_fluxes[0].copy()\n",
    "wavelength1, flux1 = RVT.clean_flux(wavelength, flux, flatten = False, medianRange=9)\n",
    "for i in range(15):\n",
    "#     i=5\n",
    "    wavelength = thisCam.wavelengths[i].copy()\n",
    "    flux = thisCam.red_fluxes[i].copy()\n",
    "    wavelength2, flux2 = RVT.clean_flux(wavelength, flux, flatten = False, medianRange=9)\n",
    "\n",
    "    CCCurve = np.correlate(flux1, flux2, mode='full')\n",
    "\n",
    "    y = CCCurve[int(CCCurve.shape[0]/2.)+1-5:int(CCCurve.shape[0]/2.)+1+4].copy()\n",
    "    y /=np.max(y)\n",
    "    x = np.arange(-4,5)\n",
    "    p,_ = fit_gaussian([1,3.], y, x)\n",
    "    shift = p[0]\n",
    "    print p,\n",
    "    plt.plot(x,y)\n",
    "    plt.plot(gaussian(x,p[0], p[1]))\n",
    "    plt.show()\n",
    "    #redo this    \n",
    "    px = 1000\n",
    "    RV = (np.exp(wavelength2[px+1])-np.exp(wavelength2[px]))/np.exp(wavelength2[px])* c*shift\n",
    "    print 'RV',RV                \n"
   ]
  },
  {
   "cell_type": "code",
   "execution_count": null,
   "metadata": {
    "collapsed": true
   },
   "outputs": [],
   "source": []
  },
  {
   "cell_type": "code",
   "execution_count": null,
   "metadata": {
    "collapsed": true
   },
   "outputs": [],
   "source": [
    "#Fit gaussian in CCCurves\n",
    "def gaussian(x, mu, sig, ):\n",
    "    return np.exp(-np.power(x - mu, 2.) / 2 / np.power(sig, 2.))\n",
    "\n",
    "def fit_gaussian(p, flux, x_range):\n",
    "    a = optimize.leastsq(diff_gausian, p, args= [flux, x_range])\n",
    "    return a\n",
    "\n",
    "def diff_gausian(p, args):\n",
    "    \n",
    "    flux = args[0]\n",
    "    x_range = args[1]\n",
    "    diff = gaussian(x_range, p[0],p[1]) - flux/np.max(flux)\n",
    "    return diff\n",
    "\n",
    "def get_wavelength(wavelengths, pixel):\n",
    "    intPx = int(pixel)\n",
    "    fracPx = pixel - int(pixel)\n",
    "\n",
    "    return (wavelengths[intPx+1] - wavelengths[intPx])*fracPx + wavelengths[intPx]\n",
    "\n",
    "def extract_HERMES_wavelength(fileName):\n",
    "\n",
    "    a = pf.open(fileName)\n",
    "\n",
    "    CRVAL1 = a[0].header['CRVAL1'] # / Co-ordinate value of axis 1                    \n",
    "    CDELT1 = a[0].header['CDELT1'] #  / Co-ordinate increment along axis 1             \n",
    "    CRPIX1 = a[0].header['CRPIX1'] #  / Reference pixel along axis 1                   \n",
    "\n",
    "    #Creates an array of offset wavelength from the referece px/wavelength\n",
    "    Lambda = CRVAL1 - (CRPIX1 - (np.arange(int(CRPIX1)*2)))* CDELT1\n",
    "\n",
    "    return Lambda\n"
   ]
  },
  {
   "cell_type": "markdown",
   "metadata": {},
   "source": [
    "### pyHermes"
   ]
  },
  {
   "cell_type": "code",
   "execution_count": null,
   "metadata": {
    "collapsed": false
   },
   "outputs": [],
   "source": [
    "cd /Users/Carlos/Documents/HERMES/reductions/"
   ]
  },
  {
   "cell_type": "code",
   "execution_count": null,
   "metadata": {
    "collapsed": false
   },
   "outputs": [],
   "source": [
    "import pyfits as pf\n",
    "import pylab as plt\n",
    "import numpy as np"
   ]
  },
  {
   "cell_type": "code",
   "execution_count": null,
   "metadata": {
    "collapsed": false
   },
   "outputs": [],
   "source": [
    "a = pf.open('pyhermes/initial_RV_bulk/140820HD285507_p1/1408200037_FIB228_1.fits')\n",
    "b = pf.open('pyhermes/initial_RV_bulk/140820/ccd_1/20aug10039comb.fits')\n",
    "file2_1 = pf.open('6.5/HD285507/cam1/20aug10039red.fits')\n"
   ]
  },
  {
   "cell_type": "code",
   "execution_count": null,
   "metadata": {
    "collapsed": false
   },
   "outputs": [],
   "source": [
    "plt.plot(a[0].data/np.nanmax(a[0].data))\n",
    "plt.plot(a[1].data/np.nanmax(a[1].data))\n",
    "plt.show()"
   ]
  },
  {
   "cell_type": "code",
   "execution_count": null,
   "metadata": {
    "collapsed": false
   },
   "outputs": [],
   "source": [
    "# plt.plot(a[0].data)\n",
    "plt.plot(a[1].data)\n",
    "# plt.plot(b[0].data[227])\n",
    "plt.show()"
   ]
  },
  {
   "cell_type": "code",
   "execution_count": null,
   "metadata": {
    "collapsed": false
   },
   "outputs": [],
   "source": [
    "import RVTools as RVT\n",
    "reload(RVT)\n",
    "RVT.extract_HERMES_wavelength(a.filename())\n",
    "# a.filename()"
   ]
  },
  {
   "cell_type": "code",
   "execution_count": null,
   "metadata": {
    "collapsed": false
   },
   "outputs": [],
   "source": [
    "\n",
    "thisFile = pf.open(a.filename())\n",
    "\n",
    "CRVAL1 = thisFile[0].header['CRVAL1'] # / Co-ordinate value of axis 1                    \n",
    "CDELT1 = thisFile[0].header['CDELT1'] #  / Co-ordinate increment along axis 1             \n",
    "CRPIX1 = thisFile[0].header['CRPIX1'] #  / Reference pixel along axis 1                   \n",
    "NAXIS1 = thisFile[0].header['NAXIS1'] #  / length of the array     \n",
    "print CRVAL1,CDELT1,CRPIX1, NAXIS1\n",
    "\n",
    "#Creates an array of offset wavelength from the referece px/wavelength\n",
    "Lambda = (np.arange(int(NAXIS1)))* CDELT1 + CRVAL1\n",
    "\n",
    "print Lambda\n",
    "print thisFile[0].header['CDELT1']*(np.arange(1,thisFile[0].header['NAXIS1']+1,1)-thisFile[0].header['CRPIX1'])+thisFile[0].header['CRVAL1']\n",
    "thisFile = pf.open(file2_1.filename())\n",
    "\n",
    "CRVAL1 = thisFile[0].header['CRVAL1'] # / Co-ordinate value of axis 1                    \n",
    "CDELT1 = thisFile[0].header['CDELT1'] #  / Co-ordinate increment along axis 1             \n",
    "CRPIX1 = thisFile[0].header['CRPIX1'] #  / Reference pixel along axis 1       \n",
    "print CRVAL1,CDELT1,CRPIX1\n",
    "\n",
    "\n",
    "#Creates an array of offset wavelength from the referece px/wavelength\n",
    "Lambda = CRVAL1 - (CRPIX1 - (np.arange(int(CRPIX1)*2)) -1)* CDELT1\n",
    "\n",
    "print Lambda\n",
    "print thisFile[0].header['CDELT1']*(np.arange(1,4097,1)-thisFile[0].header['CRPIX1'])+thisFile[0].header['CRVAL1']"
   ]
  },
  {
   "cell_type": "code",
   "execution_count": null,
   "metadata": {
    "collapsed": false
   },
   "outputs": [],
   "source": []
  },
  {
   "cell_type": "code",
   "execution_count": null,
   "metadata": {
    "collapsed": false
   },
   "outputs": [],
   "source": [
    "from specutils.io import read_fits\n",
    "myspec = read_fits.read_fits_spectrum1d(a.filename())\n"
   ]
  },
  {
   "cell_type": "code",
   "execution_count": null,
   "metadata": {
    "collapsed": false
   },
   "outputs": [],
   "source": [
    "# plt.plot(myspec)\n",
    "# plt.show()\n",
    "\n",
    "myspec.dispersion()"
   ]
  },
  {
   "cell_type": "code",
   "execution_count": null,
   "metadata": {
    "collapsed": false
   },
   "outputs": [],
   "source": [
    "from specutils.wcs import specwcs\n",
    "from astropy.io import fits\n",
    "from astropy import units as u\n",
    "from specutils import Spectrum1D\n",
    "\n",
    "header = fits.getheader(b.filename())\n",
    "dispersion_start = header['CRVAL1'] - (header['CRPIX1'] - 1) * header['CDELT1']\n",
    "linear_wcs = specwcs.Spectrum1DPolynomialWCS(degree=1, c0=dispersion_start, c1=header['CDELT1'], unit=u.Unit('Angstrom'))\n",
    "flux = fits.getdata(a.filename())\n",
    "myspec = Spectrum1D(flux=flux, wcs=linear_wcs)"
   ]
  },
  {
   "cell_type": "code",
   "execution_count": null,
   "metadata": {
    "collapsed": false
   },
   "outputs": [],
   "source": [
    "linear_wcs.evaluate(range(10))\n"
   ]
  },
  {
   "cell_type": "code",
   "execution_count": null,
   "metadata": {
    "collapsed": false
   },
   "outputs": [],
   "source": [
    "a[0].header.items()"
   ]
  },
  {
   "cell_type": "code",
   "execution_count": null,
   "metadata": {
    "collapsed": false
   },
   "outputs": [],
   "source": [
    "b[1].header.items()"
   ]
  },
  {
   "cell_type": "code",
   "execution_count": null,
   "metadata": {
    "collapsed": false
   },
   "outputs": [],
   "source": [
    "pwd"
   ]
  },
  {
   "cell_type": "code",
   "execution_count": null,
   "metadata": {
    "collapsed": false
   },
   "outputs": [],
   "source": [
    "ls"
   ]
  },
  {
   "cell_type": "code",
   "execution_count": null,
   "metadata": {
    "collapsed": false
   },
   "outputs": [],
   "source": [
    "cd ..\n"
   ]
  },
  {
   "cell_type": "code",
   "execution_count": null,
   "metadata": {
    "collapsed": false
   },
   "outputs": [],
   "source": [
    "cd obj/"
   ]
  },
  {
   "cell_type": "code",
   "execution_count": null,
   "metadata": {
    "collapsed": false
   },
   "outputs": [],
   "source": [
    "ls"
   ]
  },
  {
   "cell_type": "code",
   "execution_count": null,
   "metadata": {
    "collapsed": false
   },
   "outputs": [],
   "source": [
    "import pickle\n",
    "filename = 'HD1581.obj'\n",
    "# filename = 'Field01.obj'\n",
    "filehandler = open(filename, 'r')\n",
    "thisStar = pickle.load(filehandler)\n"
   ]
  },
  {
   "cell_type": "code",
   "execution_count": null,
   "metadata": {
    "collapsed": false
   },
   "outputs": [],
   "source": [
    "thisStar.exposures.JDs*1000"
   ]
  },
  {
   "cell_type": "code",
   "execution_count": null,
   "metadata": {
    "collapsed": false
   },
   "outputs": [],
   "source": []
  },
  {
   "cell_type": "code",
   "execution_count": 1,
   "metadata": {
    "collapsed": false
   },
   "outputs": [
    {
     "data": {
      "text/plain": [
       "4"
      ]
     },
     "execution_count": 1,
     "metadata": {},
     "output_type": "execute_result"
    }
   ],
   "source": [
    "2+2"
   ]
  },
  {
   "cell_type": "code",
   "execution_count": null,
   "metadata": {
    "collapsed": true
   },
   "outputs": [],
   "source": []
  }
 ],
 "metadata": {
  "kernelspec": {
   "display_name": "Python 2",
   "language": "python",
   "name": "python2"
  },
  "language_info": {
   "codemirror_mode": {
    "name": "ipython",
    "version": 2
   },
   "file_extension": ".py",
   "mimetype": "text/x-python",
   "name": "python",
   "nbconvert_exporter": "python",
   "pygments_lexer": "ipython2",
   "version": "2.7.3"
  }
 },
 "nbformat": 4,
 "nbformat_minor": 0
}
