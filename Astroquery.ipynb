{
 "metadata": {
  "name": "",
  "signature": "sha256:02e5b9ecd33b70205c443987e3ed23c689348f9e70a5dab93703058265f672eb"
 },
 "nbformat": 3,
 "nbformat_minor": 0,
 "worksheets": [
  {
   "cells": [
    {
     "cell_type": "heading",
     "level": 3,
     "metadata": {},
     "source": [
      "Creates a list of aliases from all .obj files in a folder\n",
      "(skips the red*.obj files)"
     ]
    },
    {
     "cell_type": "code",
     "collapsed": false,
     "input": [
      "from astroquery.simbad import Simbad\n",
      "from astropy import coordinates\n",
      "import astropy.units as u\n",
      "import ads\n",
      "import numpy as np\n",
      "import glob\n",
      "import pickle\n"
     ],
     "language": "python",
     "metadata": {},
     "outputs": [],
     "prompt_number": 2
    },
    {
     "cell_type": "code",
     "collapsed": false,
     "input": [
      "cd ~/Documents/HERMES/reductions/6.5/HD1581/obj/"
     ],
     "language": "python",
     "metadata": {},
     "outputs": [
      {
       "output_type": "stream",
       "stream": "stdout",
       "text": [
        "/Users/Carlos/Documents/HERMES/reductions/6.5/HD1581/obj\n"
       ]
      }
     ],
     "prompt_number": 3
    },
    {
     "cell_type": "code",
     "collapsed": false,
     "input": [
      "cd ~/Documents/HERMES/reductions/6.5/m67_lr/obj/"
     ],
     "language": "python",
     "metadata": {},
     "outputs": []
    },
    {
     "cell_type": "heading",
     "level": 6,
     "metadata": {},
     "source": [
      "query by region"
     ]
    },
    {
     "cell_type": "code",
     "collapsed": false,
     "input": [
      "objList = glob.glob('*.obj')\n",
      "\n",
      "r = 5 * u.arcsecond\n",
      "starAlias = [] \n",
      "\n",
      "for thisObj in objList[:]:\n",
      "    if 'red' not in thisObj:\n",
      "        filehandler = open(thisObj, 'r')\n",
      "        thisStar = pickle.load(filehandler)\n",
      "        star = thisStar.name\n",
      "        print thisStar.name,':',\n",
      "        \n",
      "        gc = coordinates.SkyCoord(ra=thisStar.RA*u.si.degree, dec=thisStar.Dec*u.si.degree)\n",
      "\n",
      "        result_table = Simbad.query_region(gc, radius=r)\n",
      "#         print result_table\n",
      "        if len(result_table)==1:\n",
      "            \n",
      "            result_table_IDs = Simbad.query_objectids(result_table[0][0])\n",
      "            for CRID in result_table_IDs.columns[0]:\n",
      "                starAlias.append([star,CRID])\n",
      "                print CRID, '|',\n",
      "#             print \n",
      "#             papers = ads.SearchQuery(q=result_table[0][0], sort=\"citation_count\", rows=5 )\n",
      "#             ads.config.token = 'el4YBpYbJoxjrpfht35uS6X7f5syc5vJNxRygvmA'\n",
      "#             for paper in papers:\n",
      "#                 print(str(paper.title[0]))\n",
      "        else:\n",
      "            print len(result_table), 'results'\n",
      "        filehandler.close()\n",
      "        thisStar = None\n",
      "        \n",
      "        \n",
      "        print \n",
      "        print \n",
      "        \n",
      "np.save('../starAlias.npy',starAlias)"
     ],
     "language": "python",
     "metadata": {},
     "outputs": [
      {
       "output_type": "stream",
       "stream": "stdout",
       "text": [
        "HD1581 : "
       ]
      },
      {
       "output_type": "stream",
       "stream": "stdout",
       "text": [
        "PLX   54 | * zet Tuc | CPC 21    53 | CPD-65    13 | Ci 20   22 | FK5   10 | GC   401 | GCRV   185 | GEN# +1.00001581 | GJ    17 | HD   1581 | HIC   1599 | HIP   1599 | HR    77 | JP11   371 | LFT   36 | LHS     5 | LPM  16 | LTT   167 | N30   57 | NLTT  1045 | PM 00175-6510 | PPM 351761 | ROT    82 | SAO 248163 | SKY#   585 | SPOCS   14 | TD1   161 | UBV     236 | UBV M   7307 | Zkh   8 | uvby98 100001581 | 2MASS J00200446-6452282 | PLX   54.00 | TYC 8843-1706-1 | IRAS 00176-6509 | AKARI-IRC-V1 J0020061-645221 | WISE J002006.98-645216.9 | IRAS F00176-6509 |\n",
        "\n"
       ]
      }
     ],
     "prompt_number": 19
    },
    {
     "cell_type": "heading",
     "level": 3,
     "metadata": {},
     "source": [
      "ADS and other random tests to follow"
     ]
    },
    {
     "cell_type": "code",
     "collapsed": false,
     "input": [
      "papers = ads.SearchQuery(q=\"supernova\", sort=\"citation_count\", rows=5 )\n",
      "ads.config.token = 'el4YBpYbJoxjrpfht35uS6X7f5syc5vJNxRygvmA'"
     ],
     "language": "python",
     "metadata": {},
     "outputs": []
    },
    {
     "cell_type": "code",
     "collapsed": false,
     "input": [
      "for paper in papers:\n",
      "    print(paper.title)"
     ],
     "language": "python",
     "metadata": {},
     "outputs": []
    },
    {
     "cell_type": "code",
     "collapsed": false,
     "input": [
      "# customSimbad = Simbad()\n",
      "# customSimbad.get_votable_fields()\n",
      "Simbad.list_votable_fields()\n",
      "Simbad.get_field_description ('gcrv')"
     ],
     "language": "python",
     "metadata": {},
     "outputs": []
    },
    {
     "cell_type": "code",
     "collapsed": false,
     "input": [
      "for objID in result_table_IDs:\n",
      "    print objID[0]\n",
      "    temp = Simbad.query_object(objID[0])\n",
      "    print temp\n",
      "    temp= Simbad.query_bibcode(temp['COO_BIBCODE'].data.data[0])\n",
      "    print temp[0].as_void()[0].split('\\n')[3]"
     ],
     "language": "python",
     "metadata": {},
     "outputs": []
    },
    {
     "cell_type": "code",
     "collapsed": false,
     "input": [
      "temp= Simbad.query_object(result_table[0][0])\n",
      "print temp\n",
      "temp= Simbad.query_bibcode(temp['COO_BIBCODE'].data.data[0])\n",
      "print temp"
     ],
     "language": "python",
     "metadata": {},
     "outputs": []
    },
    {
     "cell_type": "code",
     "collapsed": false,
     "input": [
      "temp[0].as_void()[0].split('\\n')[3]"
     ],
     "language": "python",
     "metadata": {},
     "outputs": []
    },
    {
     "cell_type": "code",
     "collapsed": false,
     "input": [
      "result_table['COO_BIBCODE']"
     ],
     "language": "python",
     "metadata": {},
     "outputs": []
    }
   ],
   "metadata": {}
  }
 ]
}