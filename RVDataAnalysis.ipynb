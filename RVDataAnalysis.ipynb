{
 "metadata": {
  "name": "",
  "signature": "sha256:b5f5ec62d6c00e04d0cc9ae10fa1aa4bd48ba97c6dc10de98231f47930059bf3"
 },
 "nbformat": 3,
 "nbformat_minor": 0,
 "worksheets": [
  {
   "cells": [
    {
     "cell_type": "code",
     "collapsed": false,
     "input": [
      "import numpy as np\n",
      "import pandas as pd"
     ],
     "language": "python",
     "metadata": {},
     "outputs": [],
     "prompt_number": 2
    },
    {
     "cell_type": "code",
     "collapsed": false,
     "input": [
      "cd ~/Documents/HERMES/reductions/47Tuc_core_6.2/npy"
     ],
     "language": "python",
     "metadata": {},
     "outputs": [
      {
       "output_type": "stream",
       "stream": "stdout",
       "text": [
        "/Users/Carlos/Documents/HERMES/reductions/47Tuc_core_6.2/npy\n"
       ]
      }
     ],
     "prompt_number": 19
    },
    {
     "cell_type": "code",
     "collapsed": false,
     "input": [
      "cd ~/Documents/HERMES/reductions/47Tuc_core_6.2/npy_150509/"
     ],
     "language": "python",
     "metadata": {},
     "outputs": [
      {
       "output_type": "stream",
       "stream": "stdout",
       "text": [
        "/Users/Carlos/Documents/HERMES/reductions/47Tuc_core_6.2/npy_150509\n"
       ]
      }
     ],
     "prompt_number": 22
    },
    {
     "cell_type": "code",
     "collapsed": false,
     "input": [
      "cd ~/Documents/HERMES/reductions/47Tuc_core_1arc_6.2/npy/"
     ],
     "language": "python",
     "metadata": {},
     "outputs": [
      {
       "output_type": "stream",
       "stream": "stdout",
       "text": [
        "/Users/Carlos/Documents/HERMES/reductions/47Tuc_core_1arc_6.2/npy\n"
       ]
      }
     ],
     "prompt_number": 39
    },
    {
     "cell_type": "code",
     "collapsed": false,
     "input": [
      "cd ~/Documents/HERMES/reductions/47Tuc_core_1arc_6.2/npy_150509/"
     ],
     "language": "python",
     "metadata": {},
     "outputs": [
      {
       "output_type": "stream",
       "stream": "stdout",
       "text": [
        "/Users/Carlos/Documents/HERMES/reductions/47Tuc_core_1arc_6.2/npy_150509\n"
       ]
      }
     ],
     "prompt_number": 36
    },
    {
     "cell_type": "code",
     "collapsed": false,
     "input": [
      "cd ~/Documents/HERMES/reductions/HD1581_6.2/npy/"
     ],
     "language": "python",
     "metadata": {},
     "outputs": [
      {
       "output_type": "stream",
       "stream": "stdout",
       "text": [
        "/Users/Carlos/Documents/HERMES/reductions/HD1581_6.2/npy\n"
       ]
      }
     ],
     "prompt_number": 35
    },
    {
     "cell_type": "code",
     "collapsed": false,
     "input": [
      "cd ~/Documents/HERMES/reductions/HD285507_6.2/npy_150509/"
     ],
     "language": "python",
     "metadata": {},
     "outputs": [
      {
       "output_type": "stream",
       "stream": "stdout",
       "text": [
        "/Users/Carlos/Documents/HERMES/reductions/HD285507_6.2/npy_150509\n"
       ]
      }
     ],
     "prompt_number": 125
    },
    {
     "cell_type": "code",
     "collapsed": false,
     "input": [
      "cd ~/Documents/HERMES/reductions/HD285507_6.2/npy/"
     ],
     "language": "python",
     "metadata": {},
     "outputs": []
    },
    {
     "cell_type": "code",
     "collapsed": false,
     "input": [
      "cd ~/Documents/HERMES/reductions/HD285507_1arc_6.2/"
     ],
     "language": "python",
     "metadata": {},
     "outputs": []
    },
    {
     "cell_type": "code",
     "collapsed": false,
     "input": [
      "cd ~/Documents/HERMES/reductions/m67_6.2/"
     ],
     "language": "python",
     "metadata": {},
     "outputs": [
      {
       "output_type": "stream",
       "stream": "stdout",
       "text": [
        "/Users/Carlos/Documents/HERMES/reductions/m67_6.2\n"
       ]
      }
     ],
     "prompt_number": 32
    },
    {
     "cell_type": "code",
     "collapsed": false,
     "input": [
      "cd ~/Documents/HERMES/reductions/m67_1arc_6.2/"
     ],
     "language": "python",
     "metadata": {},
     "outputs": []
    },
    {
     "cell_type": "code",
     "collapsed": false,
     "input": [
      "cd ~/Documents/HERMES/reductions/NGC2477_6.2/"
     ],
     "language": "python",
     "metadata": {},
     "outputs": []
    },
    {
     "cell_type": "code",
     "collapsed": false,
     "input": [
      "cd ~/Documents/HERMES/reductions/NGC2477_1arc_6.2/"
     ],
     "language": "python",
     "metadata": {},
     "outputs": [],
     "prompt_number": 15
    },
    {
     "cell_type": "code",
     "collapsed": false,
     "input": [
      "data=np.load('data.npy')\n",
      "RVs=np.load('RVs.npy')\n",
      "sigmas=np.load('sigmas.npy')\n",
      "baryVels=np.load('baryVels.npy')\n",
      "JDs=np.load('JDs.npy')\n",
      "thisSlice = RVs\n",
      "totalStars = RVs.shape[0]\n",
      "goodStars = np.sum(((thisSlice<5000) & (thisSlice!=0)), axis=0).astype(float)\n",
      "size = np.array(thisSlice.shape)\n",
      "total = np.reshape(np.repeat(size[0], size[1]*size[2]),(size[1],size[2]))\n",
      "labels = ['Blue','Green','Red','IR']\n",
      "a = pd.DataFrame(goodStars/total*100)\n",
      "a.columns = labels"
     ],
     "language": "python",
     "metadata": {},
     "outputs": [],
     "prompt_number": 126
    },
    {
     "cell_type": "code",
     "collapsed": false,
     "input": [
      "print a.to_latex(formatters=[f1, f1, f1, f1])"
     ],
     "language": "python",
     "metadata": {},
     "outputs": [
      {
       "output_type": "stream",
       "stream": "stdout",
       "text": [
        "\\begin{tabular}{lrrrr}\n",
        "\\toprule\n",
        "{} &   Blue &  Green &    Red &    IR \\\\\n",
        "\\midrule\n",
        "0  & 100.00 & 100.00 &   0.00 &  0.00 \\\\\n",
        "1  &  97.30 &  98.65 &   0.00 &  0.00 \\\\\n",
        "2  &  95.95 &  98.65 &   0.00 &  0.00 \\\\\n",
        "3  &  95.95 &   0.00 & 100.00 &  0.00 \\\\\n",
        "4  &  95.95 &   0.00 &  98.65 &  0.00 \\\\\n",
        "5  &  94.59 &   0.00 & 100.00 &  0.00 \\\\\n",
        "6  &  93.24 &  95.95 &   0.00 & 98.65 \\\\\n",
        "7  &  97.30 &  94.59 &   0.00 & 98.65 \\\\\n",
        "8  &  97.30 &  98.65 &   0.00 & 97.30 \\\\\n",
        "9  &  95.95 &  97.30 &   0.00 &  0.00 \\\\\n",
        "10 &  94.59 &  94.59 &   0.00 &  0.00 \\\\\n",
        "11 &  94.59 &  98.65 &   0.00 &  0.00 \\\\\n",
        "12 &  95.95 &  97.30 &   0.00 &  0.00 \\\\\n",
        "13 &  94.59 &  94.59 &   0.00 &  0.00 \\\\\n",
        "14 &  95.95 &  95.95 &   0.00 &  0.00 \\\\\n",
        "\\bottomrule\n",
        "\\end{tabular}\n",
        "\n"
       ]
      }
     ],
     "prompt_number": 127
    },
    {
     "cell_type": "code",
     "collapsed": false,
     "input": [
      "def f1(x):\n",
      "    return '%5.2f' % x"
     ],
     "language": "python",
     "metadata": {},
     "outputs": [],
     "prompt_number": 15
    },
    {
     "cell_type": "code",
     "collapsed": false,
     "input": [
      "import numpy as np\n",
      "import matplotlib.pyplot as plt\n",
      "\n",
      "fig = plt.figure()\n",
      "ax1 = fig.add_subplot(111)\n",
      "ax2 = ax1.twiny()\n",
      "\n",
      "X = np.linspace(0,10,1000)\n",
      "Y = np.cos(X*20)\n",
      "\n",
      "ax1.plot(X,Y)\n",
      "ax1.set_xlabel(r\"Original x-axis: $X$\")\n",
      "\n",
      "new_tick_locations = np.array([.2, .5, 5])\n",
      "\n",
      "def tick_function(X):\n",
      "    V = 1/(1+X)\n",
      "    return [\"%.3f\" % z for z in V]\n",
      "\n",
      "ax2.set_xticks(new_tick_locations)\n",
      "ax2.set_xticklabels(tick_function(new_tick_locations))\n",
      "ax2.set_xlabel(r\"Modified x-axis: $1/(1+X)$\")\n",
      "plt.show()"
     ],
     "language": "python",
     "metadata": {},
     "outputs": [],
     "prompt_number": 29
    },
    {
     "cell_type": "code",
     "collapsed": false,
     "input": [
      "MEANRA  =     5.02704168586666 / 00 20 06.49\n",
      "MEANDEC =     -64.868515716065 / -64 52 06.7     \n",
      "00 20 04.25995, -64 52 29.2549\n",
      "0.1853248777409312, -1.1426331243230099,\n",
      "thisStar.RA = np.degrees(0.087738428718276612)\n",
      "thisStar.Dec = np.degrees(-1.1321689058299416)       \n"
     ],
     "language": "python",
     "metadata": {},
     "outputs": []
    },
    {
     "cell_type": "code",
     "collapsed": false,
     "input": [
      "import toolbox"
     ],
     "language": "python",
     "metadata": {},
     "outputs": [],
     "prompt_number": 30
    },
    {
     "cell_type": "code",
     "collapsed": false,
     "input": [
      "toolbox.sex2dec(00 ,20,04.25995)*15"
     ],
     "language": "python",
     "metadata": {},
     "outputs": [
      {
       "metadata": {},
       "output_type": "pyout",
       "prompt_number": 32,
       "text": [
        "5.017749791666667"
       ]
      }
     ],
     "prompt_number": 32
    },
    {
     "cell_type": "code",
     "collapsed": false,
     "input": [
      "-toolbox.sex2dec(64 ,52,29.2549)"
     ],
     "language": "python",
     "metadata": {},
     "outputs": [
      {
       "metadata": {},
       "output_type": "pyout",
       "prompt_number": 34,
       "text": [
        "-64.87479302777777"
       ]
      }
     ],
     "prompt_number": 34
    },
    {
     "cell_type": "code",
     "collapsed": false,
     "input": [
      "import RVTools\n",
      "reload(RVTools)\n",
      "import pickle\n",
      "import pylab as plt"
     ],
     "language": "python",
     "metadata": {},
     "outputs": [],
     "prompt_number": 104
    },
    {
     "cell_type": "code",
     "collapsed": false,
     "input": [
      "filename = '/Users/Carlos/Documents/HERMES/reductions/HD1581_6.2/obj/HD1581.obj'\n",
      "filehandler = open(filename, 'r')\n",
      "thisStar = pickle.load(filehandler)\n"
     ],
     "language": "python",
     "metadata": {},
     "outputs": [],
     "prompt_number": 66
    },
    {
     "cell_type": "code",
     "collapsed": false,
     "input": [
      "thisCam = thisStar.exposures.cameras[1]"
     ],
     "language": "python",
     "metadata": {},
     "outputs": [],
     "prompt_number": 74
    },
    {
     "cell_type": "code",
     "collapsed": false,
     "input": [
      "for i in range(200,300):\n",
      "    lambda1,flux1, lambda2,flux2, CCCurve, p, x_mask, RV = RVTools.single_RVs_CC_t0(thisStar, cam = 2, t = 14, \n",
      "                                                                                    xDef=100, corrHWidth=i)"
     ],
     "language": "python",
     "metadata": {},
     "outputs": [
      {
       "output_type": "stream",
       "stream": "stdout",
       "text": [
        "Camera 2 - t0 wrt t 14\n",
        "RV"
       ]
      },
      {
       "output_type": "stream",
       "stream": "stdout",
       "text": [
        " -3763.90243583\n",
        "Camera 2 - t0 wrt t 14\n",
        "RV"
       ]
      },
      {
       "output_type": "stream",
       "stream": "stdout",
       "text": [
        " -3764.53923622\n",
        "Camera 2 - t0 wrt t 14\n",
        "RV"
       ]
      },
      {
       "output_type": "stream",
       "stream": "stdout",
       "text": [
        " -3765.17341069\n",
        "Camera 2 - t0 wrt t 14\n",
        "RV"
       ]
      },
      {
       "output_type": "stream",
       "stream": "stdout",
       "text": [
        " -3765.80481246\n",
        "Camera 2 - t0 wrt t 14\n",
        "RV"
       ]
      },
      {
       "output_type": "stream",
       "stream": "stdout",
       "text": [
        " -3766.43330091\n",
        "Camera 2 - t0 wrt t 14\n",
        "RV"
       ]
      },
      {
       "output_type": "stream",
       "stream": "stdout",
       "text": [
        " -3767.05873058\n",
        "Camera 2 - t0 wrt t 14\n",
        "RV"
       ]
      },
      {
       "output_type": "stream",
       "stream": "stdout",
       "text": [
        " -3767.68096757\n",
        "Camera 2 - t0 wrt t 14\n",
        "RV"
       ]
      },
      {
       "output_type": "stream",
       "stream": "stdout",
       "text": [
        " -3768.29987829\n",
        "Camera 2 - t0 wrt t 14\n",
        "RV"
       ]
      },
      {
       "output_type": "stream",
       "stream": "stdout",
       "text": [
        " -3768.91533216\n",
        "Camera 2 - t0 wrt t 14\n",
        "RV"
       ]
      },
      {
       "output_type": "stream",
       "stream": "stdout",
       "text": [
        " -3769.52720153\n",
        "Camera 2 - t0 wrt t 14\n",
        "RV"
       ]
      },
      {
       "output_type": "stream",
       "stream": "stdout",
       "text": [
        " -3770.13536152\n",
        "Camera 2 - t0 wrt t 14\n",
        "RV"
       ]
      },
      {
       "output_type": "stream",
       "stream": "stdout",
       "text": [
        " -3770.73968999\n",
        "Camera 2 - t0 wrt t 14\n",
        "RV"
       ]
      },
      {
       "output_type": "stream",
       "stream": "stdout",
       "text": [
        " -3771.34006738\n",
        "Camera 2 - t0 wrt t 14\n",
        "RV"
       ]
      },
      {
       "output_type": "stream",
       "stream": "stdout",
       "text": [
        " -3771.93637664\n",
        "Camera 2 - t0 wrt t 14\n",
        "RV"
       ]
      },
      {
       "output_type": "stream",
       "stream": "stdout",
       "text": [
        " -3772.52850318\n",
        "Camera 2 - t0 wrt t 14\n",
        "RV"
       ]
      },
      {
       "output_type": "stream",
       "stream": "stdout",
       "text": [
        " -3773.11633469\n",
        "Camera 2 - t0 wrt t 14\n",
        "RV"
       ]
      },
      {
       "output_type": "stream",
       "stream": "stdout",
       "text": [
        " -3773.69976116\n",
        "Camera 2 - t0 wrt t 14\n",
        "RV"
       ]
      },
      {
       "output_type": "stream",
       "stream": "stdout",
       "text": [
        " -3774.2786747\n",
        "Camera 2 - t0 wrt t 14\n",
        "RV"
       ]
      },
      {
       "output_type": "stream",
       "stream": "stdout",
       "text": [
        " -3774.85296953\n",
        "Camera 2 - t0 wrt t 14\n",
        "RV"
       ]
      },
      {
       "output_type": "stream",
       "stream": "stdout",
       "text": [
        " -3775.42254189\n",
        "Camera 2 - t0 wrt t 14\n",
        "RV"
       ]
      },
      {
       "output_type": "stream",
       "stream": "stdout",
       "text": [
        " -3775.98728993\n",
        "Camera 2 - t0 wrt t 14\n",
        "RV"
       ]
      },
      {
       "output_type": "stream",
       "stream": "stdout",
       "text": [
        " -3776.54711368\n",
        "Camera 2 - t0 wrt t 14\n",
        "RV"
       ]
      },
      {
       "output_type": "stream",
       "stream": "stdout",
       "text": [
        " -3777.10191493\n",
        "Camera 2 - t0 wrt t 14\n",
        "RV"
       ]
      },
      {
       "output_type": "stream",
       "stream": "stdout",
       "text": [
        " -3777.65159725\n",
        "Camera 2 - t0 wrt t 14\n",
        "RV"
       ]
      },
      {
       "output_type": "stream",
       "stream": "stdout",
       "text": [
        " -3778.1960658\n",
        "Camera 2 - t0 wrt t 14\n",
        "RV"
       ]
      },
      {
       "output_type": "stream",
       "stream": "stdout",
       "text": [
        " -3778.73522738\n",
        "Camera 2 - t0 wrt t 14\n",
        "RV"
       ]
      },
      {
       "output_type": "stream",
       "stream": "stdout",
       "text": [
        " -3779.2689903\n",
        "Camera 2 - t0 wrt t 14\n",
        "RV"
       ]
      },
      {
       "output_type": "stream",
       "stream": "stdout",
       "text": [
        " -3779.79726436\n",
        "Camera 2 - t0 wrt t 14\n",
        "RV"
       ]
      },
      {
       "output_type": "stream",
       "stream": "stdout",
       "text": [
        " -3780.31996076\n",
        "Camera 2 - t0 wrt t 14\n",
        "RV"
       ]
      },
      {
       "output_type": "stream",
       "stream": "stdout",
       "text": [
        " -3780.83699206\n",
        "Camera 2 - t0 wrt t 14\n",
        "RV"
       ]
      },
      {
       "output_type": "stream",
       "stream": "stdout",
       "text": [
        " -3781.34827212\n",
        "Camera 2 - t0 wrt t 14\n",
        "RV"
       ]
      },
      {
       "output_type": "stream",
       "stream": "stdout",
       "text": [
        " -3781.85371605\n",
        "Camera 2 - t0 wrt t 14\n",
        "RV"
       ]
      },
      {
       "output_type": "stream",
       "stream": "stdout",
       "text": [
        " -3782.35324109\n",
        "Camera 2 - t0 wrt t 14\n",
        "RV"
       ]
      },
      {
       "output_type": "stream",
       "stream": "stdout",
       "text": [
        " -3782.84677062\n",
        "Camera 2 - t0 wrt t 14\n",
        "RV"
       ]
      },
      {
       "output_type": "stream",
       "stream": "stdout",
       "text": [
        " -3783.33423519\n",
        "Camera 2 - t0 wrt t 14\n",
        "RV"
       ]
      },
      {
       "output_type": "stream",
       "stream": "stdout",
       "text": [
        " -3783.81557206\n",
        "Camera 2 - t0 wrt t 14\n",
        "RV"
       ]
      },
      {
       "output_type": "stream",
       "stream": "stdout",
       "text": [
        " -3784.29072499\n",
        "Camera 2 - t0 wrt t 14\n",
        "RV"
       ]
      },
      {
       "output_type": "stream",
       "stream": "stdout",
       "text": [
        " -3784.75964391\n",
        "Camera 2 - t0 wrt t 14\n",
        "RV"
       ]
      },
      {
       "output_type": "stream",
       "stream": "stdout",
       "text": [
        " -3785.2222846\n",
        "Camera 2 - t0 wrt t 14\n",
        "RV"
       ]
      },
      {
       "output_type": "stream",
       "stream": "stdout",
       "text": [
        " -3785.67860851\n",
        "Camera 2 - t0 wrt t 14\n",
        "RV"
       ]
      },
      {
       "output_type": "stream",
       "stream": "stdout",
       "text": [
        " -3786.12851788\n",
        "Camera 2 - t0 wrt t 14\n",
        "RV"
       ]
      },
      {
       "output_type": "stream",
       "stream": "stdout",
       "text": [
        " -3786.57211768\n",
        "Camera 2 - t0 wrt t 14\n",
        "RV"
       ]
      },
      {
       "output_type": "stream",
       "stream": "stdout",
       "text": [
        " -3787.00931577\n",
        "Camera 2 - t0 wrt t 14\n",
        "RV"
       ]
      },
      {
       "output_type": "stream",
       "stream": "stdout",
       "text": [
        " -3787.44009353\n",
        "Camera 2 - t0 wrt t 14\n",
        "RV"
       ]
      },
      {
       "output_type": "stream",
       "stream": "stdout",
       "text": [
        " -3787.86443685\n",
        "Camera 2 - t0 wrt t 14\n",
        "RV"
       ]
      },
      {
       "output_type": "stream",
       "stream": "stdout",
       "text": [
        " -3788.28233576\n",
        "Camera 2 - t0 wrt t 14\n",
        "RV"
       ]
      },
      {
       "output_type": "stream",
       "stream": "stdout",
       "text": [
        " -3788.69378436\n",
        "Camera 2 - t0 wrt t 14\n",
        "RV"
       ]
      },
      {
       "output_type": "stream",
       "stream": "stdout",
       "text": [
        " -3789.09878056\n",
        "Camera 2 - t0 wrt t 14\n",
        "RV"
       ]
      },
      {
       "output_type": "stream",
       "stream": "stdout",
       "text": [
        " -3789.49732594\n",
        "Camera 2 - t0 wrt t 14\n",
        "RV"
       ]
      },
      {
       "output_type": "stream",
       "stream": "stdout",
       "text": [
        " -3789.88942556\n",
        "Camera 2 - t0 wrt t 14\n",
        "RV"
       ]
      },
      {
       "output_type": "stream",
       "stream": "stdout",
       "text": [
        " -3790.27508781\n",
        "Camera 2 - t0 wrt t 14\n",
        "RV"
       ]
      },
      {
       "output_type": "stream",
       "stream": "stdout",
       "text": [
        " -3790.65432422\n",
        "Camera 2 - t0 wrt t 14\n",
        "RV"
       ]
      },
      {
       "output_type": "stream",
       "stream": "stdout",
       "text": [
        " -3791.02714935\n",
        "Camera 2 - t0 wrt t 14\n",
        "RV"
       ]
      },
      {
       "output_type": "stream",
       "stream": "stdout",
       "text": [
        " -3791.39358064\n",
        "Camera 2 - t0 wrt t 14\n",
        "RV"
       ]
      },
      {
       "output_type": "stream",
       "stream": "stdout",
       "text": [
        " -3791.75363826\n",
        "Camera 2 - t0 wrt t 14\n",
        "RV"
       ]
      },
      {
       "output_type": "stream",
       "stream": "stdout",
       "text": [
        " -3792.10734496\n",
        "Camera 2 - t0 wrt t 14\n",
        "RV"
       ]
      },
      {
       "output_type": "stream",
       "stream": "stdout",
       "text": [
        " -3792.45472599\n",
        "Camera 2 - t0 wrt t 14\n",
        "RV"
       ]
      },
      {
       "output_type": "stream",
       "stream": "stdout",
       "text": [
        " -3792.79580895\n",
        "Camera 2 - t0 wrt t 14\n",
        "RV"
       ]
      },
      {
       "output_type": "stream",
       "stream": "stdout",
       "text": [
        " -3793.13062369\n",
        "Camera 2 - t0 wrt t 14\n",
        "RV"
       ]
      },
      {
       "output_type": "stream",
       "stream": "stdout",
       "text": [
        " -3793.45920219\n",
        "Camera 2 - t0 wrt t 14\n",
        "RV"
       ]
      },
      {
       "output_type": "stream",
       "stream": "stdout",
       "text": [
        " -3793.78157847\n",
        "Camera 2 - t0 wrt t 14\n",
        "RV"
       ]
      },
      {
       "output_type": "stream",
       "stream": "stdout",
       "text": [
        " -3794.09778848\n",
        "Camera 2 - t0 wrt t 14\n",
        "RV"
       ]
      },
      {
       "output_type": "stream",
       "stream": "stdout",
       "text": [
        " -3794.40786998\n",
        "Camera 2 - t0 wrt t 14\n",
        "RV"
       ]
      },
      {
       "output_type": "stream",
       "stream": "stdout",
       "text": [
        " -3794.71186251\n",
        "Camera 2 - t0 wrt t 14\n",
        "RV"
       ]
      },
      {
       "output_type": "stream",
       "stream": "stdout",
       "text": [
        " -3795.00980725\n",
        "Camera 2 - t0 wrt t 14\n",
        "RV"
       ]
      },
      {
       "output_type": "stream",
       "stream": "stdout",
       "text": [
        " -3795.30174696\n",
        "Camera 2 - t0 wrt t 14\n",
        "RV"
       ]
      },
      {
       "output_type": "stream",
       "stream": "stdout",
       "text": [
        " -3795.58772589\n",
        "Camera 2 - t0 wrt t 14\n",
        "RV"
       ]
      },
      {
       "output_type": "stream",
       "stream": "stdout",
       "text": [
        " -3795.86778971\n",
        "Camera 2 - t0 wrt t 14\n",
        "RV"
       ]
      },
      {
       "output_type": "stream",
       "stream": "stdout",
       "text": [
        " -3796.14198545\n",
        "Camera 2 - t0 wrt t 14\n",
        "RV"
       ]
      },
      {
       "output_type": "stream",
       "stream": "stdout",
       "text": [
        " -3796.4103614\n",
        "Camera 2 - t0 wrt t 14\n",
        "RV"
       ]
      },
      {
       "output_type": "stream",
       "stream": "stdout",
       "text": [
        " -3796.67296675\n",
        "Camera 2 - t0 wrt t 14\n",
        "RV"
       ]
      },
      {
       "output_type": "stream",
       "stream": "stdout",
       "text": [
        " -3796.92985013\n",
        "Camera 2 - t0 wrt t 14\n",
        "RV"
       ]
      },
      {
       "output_type": "stream",
       "stream": "stdout",
       "text": [
        " -3797.18105916\n",
        "Camera 2 - t0 wrt t 14\n",
        "RV"
       ]
      },
      {
       "output_type": "stream",
       "stream": "stdout",
       "text": [
        " -3797.42664046\n",
        "Camera 2 - t0 wrt t 14\n",
        "RV"
       ]
      },
      {
       "output_type": "stream",
       "stream": "stdout",
       "text": [
        " -3797.66663965\n",
        "Camera 2 - t0 wrt t 14\n",
        "RV"
       ]
      },
      {
       "output_type": "stream",
       "stream": "stdout",
       "text": [
        " -3797.90110141\n",
        "Camera 2 - t0 wrt t 14\n",
        "RV"
       ]
      },
      {
       "output_type": "stream",
       "stream": "stdout",
       "text": [
        " -3798.13006944\n",
        "Camera 2 - t0 wrt t 14\n",
        "RV"
       ]
      },
      {
       "output_type": "stream",
       "stream": "stdout",
       "text": [
        " -3798.35358656\n",
        "Camera 2 - t0 wrt t 14\n",
        "RV"
       ]
      },
      {
       "output_type": "stream",
       "stream": "stdout",
       "text": [
        " -3798.57169465\n",
        "Camera 2 - t0 wrt t 14\n",
        "RV"
       ]
      },
      {
       "output_type": "stream",
       "stream": "stdout",
       "text": [
        " -3798.7844347\n",
        "Camera 2 - t0 wrt t 14\n",
        "RV"
       ]
      },
      {
       "output_type": "stream",
       "stream": "stdout",
       "text": [
        " -3798.99184685\n",
        "Camera 2 - t0 wrt t 14\n",
        "RV"
       ]
      },
      {
       "output_type": "stream",
       "stream": "stdout",
       "text": [
        " -3799.19397035\n",
        "Camera 2 - t0 wrt t 14\n",
        "RV"
       ]
      },
      {
       "output_type": "stream",
       "stream": "stdout",
       "text": [
        " -3799.39084365\n",
        "Camera 2 - t0 wrt t 14\n",
        "RV"
       ]
      },
      {
       "output_type": "stream",
       "stream": "stdout",
       "text": [
        " -3799.58250434\n",
        "Camera 2 - t0 wrt t 14\n",
        "RV"
       ]
      },
      {
       "output_type": "stream",
       "stream": "stdout",
       "text": [
        " -3799.76898923\n",
        "Camera 2 - t0 wrt t 14\n",
        "RV"
       ]
      },
      {
       "output_type": "stream",
       "stream": "stdout",
       "text": [
        " -3799.95033433\n",
        "Camera 2 - t0 wrt t 14\n",
        "RV"
       ]
      },
      {
       "output_type": "stream",
       "stream": "stdout",
       "text": [
        " -3800.12657486\n",
        "Camera 2 - t0 wrt t 14\n",
        "RV"
       ]
      },
      {
       "output_type": "stream",
       "stream": "stdout",
       "text": [
        " -3800.29774531\n",
        "Camera 2 - t0 wrt t 14\n",
        "RV"
       ]
      },
      {
       "output_type": "stream",
       "stream": "stdout",
       "text": [
        " -3800.46387939\n",
        "Camera 2 - t0 wrt t 14\n",
        "RV"
       ]
      },
      {
       "output_type": "stream",
       "stream": "stdout",
       "text": [
        " -3800.6250101\n",
        "Camera 2 - t0 wrt t 14\n",
        "RV"
       ]
      },
      {
       "output_type": "stream",
       "stream": "stdout",
       "text": [
        " -3800.78117879\n",
        "Camera 2 - t0 wrt t 14\n",
        "RV"
       ]
      },
      {
       "output_type": "stream",
       "stream": "stdout",
       "text": [
        " -3800.9323988\n",
        "Camera 2 - t0 wrt t 14\n",
        "RV"
       ]
      },
      {
       "output_type": "stream",
       "stream": "stdout",
       "text": [
        " -3801.07871018\n",
        "Camera 2 - t0 wrt t 14\n",
        "RV"
       ]
      },
      {
       "output_type": "stream",
       "stream": "stdout",
       "text": [
        " -3801.22014316\n",
        "Camera 2 - t0 wrt t 14\n",
        "RV"
       ]
      },
      {
       "output_type": "stream",
       "stream": "stdout",
       "text": [
        " -3801.35672727\n",
        "Camera 2 - t0 wrt t 14\n",
        "RV"
       ]
      },
      {
       "output_type": "stream",
       "stream": "stdout",
       "text": [
        " -3801.48849143\n",
        "Camera 2 - t0 wrt t 14\n",
        "RV"
       ]
      },
      {
       "output_type": "stream",
       "stream": "stdout",
       "text": [
        " -3801.61546387\n",
        "Camera 2 - t0 wrt t 14\n",
        "RV"
       ]
      },
      {
       "output_type": "stream",
       "stream": "stdout",
       "text": [
        " -3801.73767225\n",
        "Camera 2 - t0 wrt t 14\n",
        "RV"
       ]
      },
      {
       "output_type": "stream",
       "stream": "stdout",
       "text": [
        " -3801.85514357\n",
        "Camera 2 - t0 wrt t 14\n",
        "RV"
       ]
      },
      {
       "output_type": "stream",
       "stream": "stdout",
       "text": [
        " -3801.96790426\n"
       ]
      }
     ],
     "prompt_number": 121
    },
    {
     "cell_type": "code",
     "collapsed": false,
     "input": [
      "i=0\n",
      "plt.plot(thisCam.red_fluxes[i])\n",
      "print thisCam.fileNames[i]\n",
      "plt.show()"
     ],
     "language": "python",
     "metadata": {},
     "outputs": [
      {
       "output_type": "stream",
       "stream": "stdout",
       "text": [
        "20aug40053red.fits\n"
       ]
      }
     ],
     "prompt_number": 64
    },
    {
     "cell_type": "code",
     "collapsed": false,
     "input": [],
     "language": "python",
     "metadata": {},
     "outputs": [],
     "prompt_number": 52
    },
    {
     "cell_type": "code",
     "collapsed": false,
     "input": [],
     "language": "python",
     "metadata": {},
     "outputs": []
    }
   ],
   "metadata": {}
  }
 ]
}