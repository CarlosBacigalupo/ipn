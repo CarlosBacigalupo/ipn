{
 "metadata": {
  "name": "",
  "signature": "sha256:c0490bb3b8ba8c46c2e89608084726437fd83ee737b1e833a33e80c597d0ff40"
 },
 "nbformat": 3,
 "nbformat_minor": 0,
 "worksheets": [
  {
   "cells": [
    {
     "cell_type": "code",
     "collapsed": false,
     "input": [
      "import glob\n",
      "import os\n",
      "import numpy as np\n",
      "from scipy import signal, interpolate, optimize, constants\n",
      "import pylab as plt\n",
      "import pickle\n",
      "import create_obj as cr_obj\n",
      "reload(cr_obj)\n",
      "import RVTools as RVT\n",
      "reload(RVT)\n",
      "import pyfits as pf\n"
     ],
     "language": "python",
     "metadata": {},
     "outputs": [],
     "prompt_number": 1
    },
    {
     "cell_type": "code",
     "collapsed": false,
     "input": [
      "#single exposure data reduction"
     ],
     "language": "python",
     "metadata": {},
     "outputs": [],
     "prompt_number": 2
    },
    {
     "cell_type": "code",
     "collapsed": false,
     "input": [
      "cd /Users/Carlos/Documents/HERMES/reductions/rhoTuc_6.0/uncombined/"
     ],
     "language": "python",
     "metadata": {},
     "outputs": [
      {
       "output_type": "stream",
       "stream": "stdout",
       "text": [
        "/Users/Carlos/Documents/HERMES/reductions/rhoTuc_6.0/uncombined\n"
       ]
      }
     ],
     "prompt_number": 3
    },
    {
     "cell_type": "code",
     "collapsed": false,
     "input": [
      "#uses create_obj.py to create star with basic reduced data\n",
      "thisStar = cr_obj.star('Giant01')\n",
      "thisStar.exposures = cr_obj.exposures()\n",
      "thisStar.exposures.load_exposures(thisStar.name)\n",
      "thisStar.exposures.calculate_baryVels(thisStar)\n",
      "thisStar.name = 'rhoTuc'\n",
      "file_pi = open('rhoTuc.obj', 'w') \n",
      "pickle.dump(thisStar, file_pi) \n",
      "file_pi.close()"
     ],
     "language": "python",
     "metadata": {},
     "outputs": [
      {
       "output_type": "stream",
       "stream": "stdout",
       "text": [
        "Giant01 star created\n"
       ]
      }
     ],
     "prompt_number": 4
    },
    {
     "cell_type": "code",
     "collapsed": false,
     "input": [
      "#takes each <star_name>.obj and calculates RVs, etc. Saves red_<star_name>.obj\n",
      "reload(RVT)\n",
      "xDef = 10 #resampling points per pixel\n",
      "CCMaskWidth = 5 #half width around the peak of the cc curve to be gaussian fitted\n",
      "\n",
      "filename = 'rhoTuc.obj'\n",
      "filehandler = open(filename, 'r')\n",
      "thisStar = pickle.load(filehandler)\n",
      "\n",
      "RVT.find_max_wl_range(thisStar)\n",
      "RVT.RVs_CC_t0(thisStar)\n",
      "file_pi = open('red_rhoTuc.obj', 'w') \n",
      "pickle.dump(thisStar, file_pi) \n",
      "file_pi.close()"
     ],
     "language": "python",
     "metadata": {},
     "outputs": [
      {
       "output_type": "stream",
       "stream": "stdout",
       "text": [
        "WL aligned\n",
        "WL aligned\n",
        "WL aligned\n",
        "WL aligned\n",
        "56889.7811361 56889.7856174 "
       ]
      },
      {
       "output_type": "stream",
       "stream": "stdout",
       "text": [
        "56889.7910208 56889.7933129 "
       ]
      },
      {
       "output_type": "stream",
       "stream": "stdout",
       "text": [
        "56889.7955978 56889.7978891 "
       ]
      },
      {
       "output_type": "stream",
       "stream": "stdout",
       "text": [
        "56889.800162 56889.8024453 "
       ]
      },
      {
       "output_type": "stream",
       "stream": "stdout",
       "text": [
        "56890.7000594 56890.707896 "
       ]
      },
      {
       "output_type": "stream",
       "stream": "stdout",
       "text": [
        "56890.7158804 56890.8148393 "
       ]
      },
      {
       "output_type": "stream",
       "stream": "stdout",
       "text": [
        "56891.6885866 56891.6936397 "
       ]
      },
      {
       "output_type": "stream",
       "stream": "stdout",
       "text": [
        "56891.6987003 56891.7757545 "
       ]
      },
      {
       "output_type": "stream",
       "stream": "stdout",
       "text": [
        "56891.7808645 56893.7454057 "
       ]
      },
      {
       "output_type": "stream",
       "stream": "stdout",
       "text": [
        "56893.7513966 56893.7565186 "
       ]
      },
      {
       "output_type": "stream",
       "stream": "stdout",
       "text": [
        "56894.7232178 56894.7282847 "
       ]
      },
      {
       "output_type": "stream",
       "stream": "stdout",
       "text": [
        "56894.7333418 56894.8086355 "
       ]
      },
      {
       "output_type": "stream",
       "stream": "stdout",
       "text": [
        "\n",
        "56889.7811361 56889.7856174 "
       ]
      },
      {
       "output_type": "stream",
       "stream": "stdout",
       "text": [
        "56889.7910208 56889.7933129 "
       ]
      },
      {
       "output_type": "stream",
       "stream": "stdout",
       "text": [
        "56889.7955978 56889.7978891 "
       ]
      },
      {
       "output_type": "stream",
       "stream": "stdout",
       "text": [
        "56889.800162 56889.8024453 "
       ]
      },
      {
       "output_type": "stream",
       "stream": "stdout",
       "text": [
        "56890.7000594 56890.707896 "
       ]
      },
      {
       "output_type": "stream",
       "stream": "stdout",
       "text": [
        "56890.7158804 56890.8148393 "
       ]
      },
      {
       "output_type": "stream",
       "stream": "stdout",
       "text": [
        "56891.6885866 56891.6936397 "
       ]
      },
      {
       "output_type": "stream",
       "stream": "stdout",
       "text": [
        "56891.6987003 56891.7757545 "
       ]
      },
      {
       "output_type": "stream",
       "stream": "stdout",
       "text": [
        "56891.7808645 56893.7454057 "
       ]
      },
      {
       "output_type": "stream",
       "stream": "stdout",
       "text": [
        "56893.7513966 56893.7565186 "
       ]
      },
      {
       "output_type": "stream",
       "stream": "stdout",
       "text": [
        "56894.7232178 56894.7282847 "
       ]
      },
      {
       "output_type": "stream",
       "stream": "stdout",
       "text": [
        "56894.7333418 56894.8086355 "
       ]
      },
      {
       "output_type": "stream",
       "stream": "stdout",
       "text": [
        "\n",
        "56889.7811361 56889.7856174 "
       ]
      },
      {
       "output_type": "stream",
       "stream": "stdout",
       "text": [
        "56889.7910208 56889.7933129 "
       ]
      },
      {
       "output_type": "stream",
       "stream": "stdout",
       "text": [
        "56889.7955978 56889.7978891 "
       ]
      },
      {
       "output_type": "stream",
       "stream": "stdout",
       "text": [
        "56889.800162 56889.8024453 "
       ]
      },
      {
       "output_type": "stream",
       "stream": "stdout",
       "text": [
        "56890.7000594 56890.707896 "
       ]
      },
      {
       "output_type": "stream",
       "stream": "stdout",
       "text": [
        "56890.7158804 56890.8148393 "
       ]
      },
      {
       "output_type": "stream",
       "stream": "stdout",
       "text": [
        "56891.6885866 56891.6936397 "
       ]
      },
      {
       "output_type": "stream",
       "stream": "stdout",
       "text": [
        "56891.6987003 56891.7757545 "
       ]
      },
      {
       "output_type": "stream",
       "stream": "stdout",
       "text": [
        "56891.7808645 56893.7454057 "
       ]
      },
      {
       "output_type": "stream",
       "stream": "stdout",
       "text": [
        "56893.7513966 56893.7565186 "
       ]
      },
      {
       "output_type": "stream",
       "stream": "stdout",
       "text": [
        "56894.7232178 56894.7282847 "
       ]
      },
      {
       "output_type": "stream",
       "stream": "stdout",
       "text": [
        "56894.7333418 56894.8086355 "
       ]
      },
      {
       "output_type": "stream",
       "stream": "stdout",
       "text": [
        "\n",
        "56889.7811361 56889.7856174 "
       ]
      },
      {
       "output_type": "stream",
       "stream": "stdout",
       "text": [
        "56889.7910208 "
       ]
      },
      {
       "output_type": "stream",
       "stream": "stdout",
       "text": [
        "56889.7933129 56889.7955978 "
       ]
      },
      {
       "output_type": "stream",
       "stream": "stdout",
       "text": [
        "56889.7978891 56889.800162 "
       ]
      },
      {
       "output_type": "stream",
       "stream": "stdout",
       "text": [
        "56889.8024453 56890.7000594 "
       ]
      },
      {
       "output_type": "stream",
       "stream": "stdout",
       "text": [
        "56890.707896 56890.7158804 "
       ]
      },
      {
       "output_type": "stream",
       "stream": "stdout",
       "text": [
        "56890.8148393 56891.6885866 "
       ]
      },
      {
       "output_type": "stream",
       "stream": "stdout",
       "text": [
        "56891.6936397 56891.6987003 "
       ]
      },
      {
       "output_type": "stream",
       "stream": "stdout",
       "text": [
        "56891.7757545 56891.7808645 "
       ]
      },
      {
       "output_type": "stream",
       "stream": "stdout",
       "text": [
        "56893.7454057 56893.7513966 "
       ]
      },
      {
       "output_type": "stream",
       "stream": "stdout",
       "text": [
        "56893.7565186 56894.7232178 "
       ]
      },
      {
       "output_type": "stream",
       "stream": "stdout",
       "text": [
        "56894.7282847 56894.7333418 "
       ]
      },
      {
       "output_type": "stream",
       "stream": "stdout",
       "text": [
        "56894.8086355 \n"
       ]
      }
     ],
     "prompt_number": 5
    },
    {
     "cell_type": "code",
     "collapsed": false,
     "input": [
      "cd /Users/Carlos/Documents/HERMES/reductions/HD1581_6.0/single_exposures/22\n"
     ],
     "language": "python",
     "metadata": {},
     "outputs": [
      {
       "output_type": "stream",
       "stream": "stdout",
       "text": [
        "/Users/Carlos/Documents/HERMES/reductions/HD1581_6.0/single_exposures/22\n"
       ]
      }
     ],
     "prompt_number": 6
    },
    {
     "cell_type": "code",
     "collapsed": false,
     "input": [
      "#uses create_obj.py to create star with basic reduced data\n",
      "thisStar = cr_obj.star('Giant01')\n",
      "thisStar.exposures = cr_obj.exposures()\n",
      "thisStar.exposures.load_exposures(thisStar.name)\n",
      "thisStar.exposures.calculate_baryVels(thisStar)\n",
      "thisStar.name = 'rhoTuc'\n",
      "file_pi = open('rhoTuc.obj', 'w') \n",
      "pickle.dump(thisStar, file_pi) \n",
      "file_pi.close()"
     ],
     "language": "python",
     "metadata": {},
     "outputs": [
      {
       "output_type": "stream",
       "stream": "stdout",
       "text": [
        "Giant01 star created\n"
       ]
      }
     ],
     "prompt_number": 7
    },
    {
     "cell_type": "code",
     "collapsed": false,
     "input": [
      "#takes each <star_name>.obj and calculates RVs, etc. Saves red_<star_name>.obj\n",
      "reload(RVT)\n",
      "xDef = 10 #resampling points per pixel\n",
      "CCMaskWidth = 5 #half width around the peak of the cc curve to be gaussian fitted\n",
      "\n",
      "filename = 'rhoTuc.obj'\n",
      "filehandler = open(filename, 'r')\n",
      "thisStar = pickle.load(filehandler)\n",
      "\n",
      "RVT.find_max_wl_range(thisStar)\n",
      "RVT.RVs_CC_t0(thisStar)\n",
      "file_pi = open('red_rhoTuc.obj', 'w') \n",
      "pickle.dump(thisStar, file_pi) \n",
      "file_pi.close()"
     ],
     "language": "python",
     "metadata": {},
     "outputs": [
      {
       "output_type": "stream",
       "stream": "stdout",
       "text": [
        "WL aligned\n",
        "WL aligned\n",
        "WL aligned\n",
        "WL aligned\n",
        "56891.705889 "
       ]
      },
      {
       "output_type": "stream",
       "stream": "stdout",
       "text": [
        "56891.7081863 56891.7104593 "
       ]
      },
      {
       "output_type": "stream",
       "stream": "stdout",
       "text": [
        "\n",
        "56891.705889 "
       ]
      },
      {
       "output_type": "stream",
       "stream": "stdout",
       "text": [
        "56891.7081863 56891.7104593 "
       ]
      },
      {
       "output_type": "stream",
       "stream": "stdout",
       "text": [
        "\n",
        "56891.705889 "
       ]
      },
      {
       "output_type": "stream",
       "stream": "stdout",
       "text": [
        "56891.7081863 56891.7104593 "
       ]
      },
      {
       "output_type": "stream",
       "stream": "stdout",
       "text": [
        "\n",
        "56891.705889 56891.7081863 "
       ]
      },
      {
       "output_type": "stream",
       "stream": "stdout",
       "text": [
        "56891.7104593 \n"
       ]
      }
     ],
     "prompt_number": 8
    },
    {
     "cell_type": "heading",
     "level": 3,
     "metadata": {},
     "source": [
      "Plots, sanity checks, results"
     ]
    },
    {
     "cell_type": "code",
     "collapsed": false,
     "input": [
      "\n",
      "Dec1\tDec2\tDec3\tNo\tRA1\tRA2\tRA3\t   SpecType1\tVmag1\tK1\tK1_P\tK2\teccentricity\tgrade\tperi_arg\tperi_time\tperiod(days)\n",
      "-65\t     28\t    4.91\t40\t0\t42\t28.373\tF6V\t       5.393\t26.10\t5.414713\tNaN\t0.02\t5\t269.3\t19299.110\t4.820200\n"
     ],
     "language": "python",
     "metadata": {},
     "outputs": []
    },
    {
     "cell_type": "code",
     "collapsed": false,
     "input": [
      "colors = ['b','g','r','cyan']\n",
      "cameras = ['Blue', 'Green', 'Red', 'IR']"
     ],
     "language": "python",
     "metadata": {},
     "outputs": [],
     "prompt_number": 7
    },
    {
     "cell_type": "code",
     "collapsed": false,
     "input": [
      "cd /Users/Carlos/Documents/HERMES/reductions/HD1581_6.0/single_exposures/22"
     ],
     "language": "python",
     "metadata": {},
     "outputs": []
    },
    {
     "cell_type": "code",
     "collapsed": false,
     "input": [
      "cd /Users/Carlos/Documents/HERMES/reductions/rhoTuc_6.0/uncombined/"
     ],
     "language": "python",
     "metadata": {},
     "outputs": [
      {
       "output_type": "stream",
       "stream": "stdout",
       "text": [
        "/Users/Carlos/Documents/HERMES/reductions/rhoTuc_6.0/uncombined\n"
       ]
      }
     ],
     "prompt_number": 9
    },
    {
     "cell_type": "code",
     "collapsed": false,
     "input": [
      "filename = 'red_rhoTuc.obj'\n",
      "filehandler = open(filename, 'r')\n",
      "thisStar = pickle.load(filehandler)\n",
      "thisCam=thisStar.exposures.cameras[0]\n",
      "thatCam=thisStar.exposures.cameras[1]"
     ],
     "language": "python",
     "metadata": {},
     "outputs": [],
     "prompt_number": 4
    },
    {
     "cell_type": "code",
     "collapsed": false,
     "input": [
      "thisCam=thisStar.exposures.cameras[0]\n",
      "thatCam=thisStar.exposures.cameras[1]\n",
      "\n",
      "rv_avg = np.ones(5) * np.nan\n",
      "rv_std = np.ones(5) * np.nan\n",
      "JD_avg = np.ones(5) * np.nan\n",
      "BCV_avg = np.ones(5) * np.nan\n",
      "\n",
      "arr = np.hstack((thisCam.RVs[0:8],thatCam.RVs[0:8]))\n",
      "JD_avg[0] = np.average(thisStar.exposures.JDs[0:8])\n",
      "BCV_avg[0] = np.average(thisStar.exposures.rel_baryVels[0:8])\n",
      "rv_avg[0] = np.average(arr)\n",
      "rv_std[0] = np.std(arr)\n",
      "JD_avg[0] = np.min(thisStar.exposures.JDs)\n",
      "rv_avg[0] = 0\n",
      "\n",
      "arr = np.hstack((thisCam.RVs[8:12],thatCam.RVs[8:12]))\n",
      "JD_avg[1] = np.average(thisStar.exposures.JDs[8:12])\n",
      "BCV_avg[1] = np.average(thisStar.exposures.rel_baryVels[8:12])\n",
      "rv_avg[1] = np.average(arr)\n",
      "rv_std[1] = np.std(arr)\n",
      "\n",
      "arr = np.hstack((thisCam.RVs[12:17],thatCam.RVs[12:17]))\n",
      "JD_avg[2] = np.average(thisStar.exposures.JDs[12:17])\n",
      "JD_avg[2] = np.average(thisStar.exposures.JDs[12])\n",
      "BCV_avg[2] = np.average(thisStar.exposures.rel_baryVels[12:17])\n",
      "rv_avg[2] = np.average(arr)\n",
      "rv_std[2] = np.std(arr)\n",
      "\n",
      "arr = np.hstack((thisCam.RVs[17:20],thatCam.RVs[17:20]))\n",
      "JD_avg[3] = np.average(thisStar.exposures.JDs[17:20])\n",
      "JD_avg[3] = np.average(thisStar.exposures.JDs[19])\n",
      "BCV_avg[3] = np.average(thisStar.exposures.rel_baryVels[17:20])\n",
      "rv_avg[3] = np.average(arr)\n",
      "rv_std[3] = np.std(arr)\n",
      "\n",
      "arr = np.hstack((thisCam.RVs[20:24],thatCam.RVs[20:24]))\n",
      "JD_avg[4] = np.average(thisStar.exposures.JDs[20:24])\n",
      "BCV_avg[4] = np.average(thisStar.exposures.rel_baryVels[20:24])\n",
      "rv_avg[4] = np.average(arr)\n",
      "rv_std[4] = np.std(arr)"
     ],
     "language": "python",
     "metadata": {},
     "outputs": [],
     "prompt_number": 5
    },
    {
     "cell_type": "code",
     "collapsed": false,
     "input": [
      "#all RVs from all camera for a single target - bary corrected. \n",
      "i=0\n",
      "\n",
      "x_sine  = np.linspace(np.min(thisStar.exposures.JDs), np.max(thisStar.exposures.JDs))\n",
      "# for i in np.arange(1,3,0.5):\n",
      "period = 4.820200\n",
      "peri_arg = 269.3\n",
      "# phase = 19299.110-.5+period/360*peri_arg-0.35\n",
      "phase = -0.056\n",
      "y_sine = 26100*np.sin(x_sine*2*np.pi/period+phase)\n",
      "y_sine -= y_sine[0] \n",
      "# y_sine -=  13639.225889220206+5000\n",
      "plt.plot(x_sine, y_sine, c='k')\n",
      "\n",
      "# for i, thisCam in enumerate(thisStar.exposures.cameras[:2]):\n",
      "# i=3   camera index\n",
      "#     thisCam = thisStar.exposures.cameras[i]\n",
      "\n",
      "#just RV for single camera\n",
      "#     plt.scatter(thisStar.exposures.JDs, (thisCam.RVs), c=colors[i], label = cameras[i])\n",
      "\n",
      "#     plt.scatter(thisStar.exposures.JDs, (thisCam.RVs + thisStar.exposures.rel_baryVels), c=colors[i], label = cameras[i])\n",
      "\n",
      "# average rvs and error bars\n",
      "plt.errorbar(JD_avg, (rv_avg+BCV_avg), yerr = rv_std, c='b', label = cameras[i], fmt='.')\n",
      "\n",
      "\n",
      "\n",
      "\n",
      "# plt.scatter(thisStar.exposures.JDs[[0,8,11,17,20]], (rv_avg + thisStar.exposures.rel_baryVels[[0,8,11,17,20]]), c='r', label = cameras[i])\n",
      "\n",
      "\n",
      "# plt.scatter(thisStar.exposures.JDs[[0,1,4,7,-1]], RV_iraf + thisStar.exposures.rel_baryVels[[0,1,4,7,-1]], c='k', marker = '+')\n",
      "# plt.scatter(thisStar.exposures.JDs[[0,1,4,7,-1]], RV_iraf, c='k', marker = '+')\n",
      "# plt.plot(thisStar.exposures.JDs, - thisStar.exposures.rel_baryVels)\n",
      "plt.title('rhoTuc')\n",
      "plt.ylabel('RV [m/s]')\n",
      "plt.xlabel('MJD')\n",
      "# plt.legend(loc = 0)\n",
      "plt.show()"
     ],
     "language": "python",
     "metadata": {},
     "outputs": []
    },
    {
     "cell_type": "code",
     "collapsed": false,
     "input": [
      "#all red fluxes for the active camera\n",
      "off = 0\n",
      "for x,y,label in zip(thisCam.wavelengths, thisCam.red_fluxes, thisCam.fileNames):\n",
      "    plt.plot(x,y/np.median(y)off, label= label)\n",
      "    off+=1\n",
      "plt.title(thisStar.name)\n",
      "plt.legend(loc = 0)\n",
      "plt.show()"
     ],
     "language": "python",
     "metadata": {},
     "outputs": [
      {
       "ename": "SyntaxError",
       "evalue": "invalid syntax (<ipython-input-70-012d7d6024cb>, line 4)",
       "output_type": "pyerr",
       "traceback": [
        "\u001b[0;36m  File \u001b[0;32m\"<ipython-input-70-012d7d6024cb>\"\u001b[0;36m, line \u001b[0;32m4\u001b[0m\n\u001b[0;31m    plt.plot(x,y/np.median(y)off, label= label)\u001b[0m\n\u001b[0m                               ^\u001b[0m\n\u001b[0;31mSyntaxError\u001b[0m\u001b[0;31m:\u001b[0m invalid syntax\n"
       ]
      }
     ],
     "prompt_number": 70
    },
    {
     "cell_type": "code",
     "collapsed": false,
     "input": [
      "#creates images for all cameras from all red fluxes\n",
      "\n",
      "for cam, thisCam in enumerate(thisStar.exposures.cameras):\n",
      "    for x,y,label,i in zip(thisCam.wavelengths, thisCam.red_fluxes, thisCam.fileNames, range(thisCam.wavelengths.shape[0])):\n",
      "        __,y1 = RVT.clean_flux(x,y,thisCam)\n",
      "        plt.plot(x,y1+i, label= label, c='k')\n",
      "    plt.title(thisStar.name)\n",
      "    plt.yticks = thisCam.fileNames \n",
      "    plt.savefig('plots/HD1581_'+str(cam), dpi = 1000 )\n",
      "    \n",
      "    plt.close()\n",
      "#     plt.show()"
     ],
     "language": "python",
     "metadata": {},
     "outputs": [],
     "prompt_number": 35
    },
    {
     "cell_type": "code",
     "collapsed": false,
     "input": [
      "cd /Users/Carlos/Documents/HERMES/reductions/HD1581_6.0/single_exposures/cam1/"
     ],
     "language": "python",
     "metadata": {},
     "outputs": [
      {
       "output_type": "stream",
       "stream": "stdout",
       "text": [
        "/Users/Carlos/Documents/HERMES/reductions/HD1581_6.0/single_exposures/cam1\n"
       ]
      }
     ],
     "prompt_number": 84
    },
    {
     "cell_type": "code",
     "collapsed": false,
     "input": [
      "rv_avg = np.ones(5)*np.nan\n",
      "rv_avg[0] = np.average(thisCam.RVs[0])\n",
      "rv_avg[1] = np.average(thisCam.RVs[[1,2,3]])\n",
      "rv_avg[2] = np.average(thisCam.RVs[[4,5,6]])\n",
      "rv_avg[3] = np.average(thisCam.RVs[[7,8,9,10,11]])\n",
      "rv_avg[4] = np.average(thisCam.RVs[[12,13,14]])"
     ],
     "language": "python",
     "metadata": {},
     "outputs": [],
     "prompt_number": 190
    },
    {
     "cell_type": "code",
     "collapsed": false,
     "input": [
      "RV_iraf"
     ],
     "language": "python",
     "metadata": {},
     "outputs": [
      {
       "metadata": {},
       "output_type": "pyout",
       "prompt_number": 156,
       "text": [
        "array([          nan,           nan,           nan,  113.76458312,\n",
        "       -219.96499021])"
       ]
      }
     ],
     "prompt_number": 156
    },
    {
     "cell_type": "code",
     "collapsed": false,
     "input": [
      "#all RVs from all cameras for a single target\n",
      "for i, thisCam in enumerate(thisStar.exposures.cameras):\n",
      "    plt.scatter(thisStar.exposures.JDs, thisCam.RVs, c=colors[i], label = cameras[i])\n",
      "    plt.plot(thisStar.exposures.JDs, - thisStar.exposures.rel_baryVels)\n",
      "\n",
      "plt.title('HD1581 - RVs')\n",
      "plt.ylabel('RV [m/s]')\n",
      "plt.xlabel('JD')\n",
      "plt.legend(loc = 0)\n",
      "plt.show()"
     ],
     "language": "python",
     "metadata": {},
     "outputs": [],
     "prompt_number": 54
    },
    {
     "cell_type": "code",
     "collapsed": false,
     "input": [
      "#all SNRs from all cameras for a single target\n",
      "for i, thisCam in enumerate(thisStar.exposures.cameras):\n",
      "    plt.scatter(thisStar.exposures.JDs, thisCam.SNRs, c=colors[i], label = cameras[i])\n",
      "plt.title('HD1581 - Signal-to-Noise')\n",
      "plt.ylabel('SNR')\n",
      "plt.xlabel('JD')\n",
      "plt.legend(loc = 0)\n",
      "plt.show()"
     ],
     "language": "python",
     "metadata": {},
     "outputs": [],
     "prompt_number": 278
    },
    {
     "cell_type": "code",
     "collapsed": false,
     "input": [
      "#all Q from all cameras for a single target\n",
      "for i, thisCam in enumerate(thisStar.exposures.cameras):\n",
      "    plt.scatter(thisStar.exposures.JDs, thisCam.Qs, c=colors[i], label = cameras[i], marker = '+', s=50)\n",
      "plt.title('HD1581 - Q-factor')\n",
      "plt.ylabel('Q')\n",
      "plt.xlabel('JD')\n",
      "plt.legend(loc = 0)\n",
      "plt.show()"
     ],
     "language": "python",
     "metadata": {},
     "outputs": []
    },
    {
     "cell_type": "code",
     "collapsed": false,
     "input": [
      "#all dRV from all cameras for a single target\n",
      "for i, thisCam in enumerate(thisStar.exposures.cameras):\n",
      "    plt.scatter(thisStar.exposures.JDs, thisCam.sigmas, c=colors[i], label = cameras[i], marker = 'x', s=50)\n",
      "plt.title('HD1581 - Photon limited dRV')\n",
      "plt.ylabel('dRV [m/s]')\n",
      "plt.xlabel('JD')\n",
      "plt.legend(loc = 0)\n",
      "plt.show()"
     ],
     "language": "python",
     "metadata": {},
     "outputs": [],
     "prompt_number": 275
    },
    {
     "cell_type": "heading",
     "level": 1,
     "metadata": {},
     "source": [
      "Random stuff...."
     ]
    },
    {
     "cell_type": "code",
     "collapsed": false,
     "input": [
      "myTarget=36"
     ],
     "language": "python",
     "metadata": {},
     "outputs": [],
     "prompt_number": 37
    },
    {
     "cell_type": "code",
     "collapsed": false,
     "input": [
      "deltay = p2y[data[:,2].astype(int)] - p2y[data[myTarget,2].astype(int)]\n",
      "mask = np.zeros(RVs.shape[0]).astype(bool)\n",
      "mask[myTarget] = True\n",
      "deltay_mx = np.ma.masked_array(deltay, mask=mask)\n",
      "\n",
      "#create RV mask to exclude target and stars with RV>3000m/s\\\n",
      "mask = np.zeros(RVs.shape).astype(bool)\n",
      "RVs_mx = np.ma.masked_array(RVs, mask=mask)\n",
      "sigmas_mx = np.ma.masked_array(sigmas, mask=mask)\n",
      "sigmas_mx.mask[myTarget,:,:] = True\n",
      "# print calibrator_weights(deltay_mx.compressed(), sigmas_mx[:,0,cam].compressed()).shape\n",
      "a = calibrator_weights(deltay_mx, sigmas_mx[:,0,cam])\n",
      "a = np.insert(a, myTarget, 0)\n",
      "plt.plot( a)\n",
      "plt.show()"
     ],
     "language": "python",
     "metadata": {},
     "outputs": [],
     "prompt_number": 38
    },
    {
     "cell_type": "code",
     "collapsed": false,
     "input": [
      "fRVs,__ = optimize.curve_fit(quad, quadX, quadY, p0 = [-0.001,-0.001,quadY[np.where(deltay==np.min(np.abs(deltay)))[0][0]]], )\n",
      "plt.scatter( quadX, quadY)\n",
      "smoothX = np.linspace(np.min(quadX), np.max(quadX))\n",
      "fittedCurve = quad(quadX, fRVs[0], fRVs[1], fRVs[2])\n",
      "plt.plot(quadX,fittedCurve)\n",
      "plt.scatter(quadX,quadY*fittedCurve, c='r')\n",
      "plt.show()\n",
      "print 'params',fRVs"
     ],
     "language": "python",
     "metadata": {},
     "outputs": [
      {
       "output_type": "stream",
       "stream": "stdout",
       "text": [
        "params [ -8.15463069e-03  -1.00000000e-03   6.30133893e+02]\n"
       ]
      }
     ],
     "prompt_number": 39
    },
    {
     "cell_type": "code",
     "collapsed": false,
     "input": [
      "plt.scatter(JDs,quadRVs[30,:,0], c='r', label = 'stable star (observed)')\n",
      "plt.scatter(JDs,quadRVs[36,:,1], c='g', label = 'HD285507 (observed)')\n",
      "start_day = 2456889.500000 # The Julian date for CE  2014 August 20 00:00:00.0 UT  (10am australia)\n",
      "end_day = 2456895.500000 #The Julian date for CE  2014 August 26 00:00:00.0 UT (10am australia)\n",
      "\n",
      "days = np.linspace(start_day, end_day)  - 2400000\n",
      "\n",
      "P = 6.0881\n",
      "peri_arg = 182\n",
      "peri_time = 2456257.5- 2400000\n",
      "K1 =125.8\n",
      "RV = K1* np.sin((days-peri_time)/P*2*np.pi + peri_arg/360*2*np.pi )\n",
      "plt.plot(days, RV, linewidth = 1, label = 'HD285507' )\n",
      "plt.legend(loc=0)\n",
      "plt.xlabel('JD')\n",
      "plt.ylabel('RV [m/s]')\n",
      "plt.show()"
     ],
     "language": "python",
     "metadata": {},
     "outputs": [],
     "prompt_number": 77
    },
    {
     "cell_type": "heading",
     "level": 2,
     "metadata": {},
     "source": [
      "Plots"
     ]
    },
    {
     "cell_type": "code",
     "collapsed": false,
     "input": [
      "def plot_all_spec_cams(thisStar):    #All spectra for all cameras\n",
      "    \n",
      "    fig, ax = plt.subplots(2,2, sharey='all')\n",
      "    \n",
      "    # ax.set_yticks(thisStar.exposures.JDs)\n",
      "    # ax.set_ylim(np.min(thisStar.exposures.JDs)-1,np.min(thisStar.exposures.JDs)+1)\n",
      "    for cam in range(4):\n",
      "        thisCam = thisStar.exposures.cameras[cam]\n",
      "        fileNames =  thisCam.fileNames\n",
      "        nFluxes = thisCam.wavelengths.shape[0]\n",
      "        ax[0,0].set_yticks(np.arange(0,nFluxes))\n",
      "        ax[0,0].set_ylim(-1,nFluxes)\n",
      "    \n",
      "        for i in np.arange(nFluxes):\n",
      "            d, f = thisCam.clean_wavelengths[i], thisCam.clean_fluxes[i]\n",
      "            if cam ==0:\n",
      "                ax[0,0].plot(d, f+i, 'b')\n",
      "            elif cam==1:\n",
      "                ax[0,1].plot(d, f+i, 'g')\n",
      "            elif cam==2:\n",
      "                ax[1,0].plot(d, f+i, 'r')\n",
      "            elif cam==3:\n",
      "                ax[1,1].plot(d, f+i, 'cyan')\n",
      "        #         ax.plot(d, f+thisStar.exposures.JDs[i], 'k')\n",
      "    \n",
      "    plt.xlabel('Wavelength [Ang]')\n",
      "    plt.title(thisStar.name+' - Camera '+str(cam+1))\n",
      "    ax[0,0].set_yticklabels(fileNames)\n",
      "    plt.show()\n"
     ],
     "language": "python",
     "metadata": {},
     "outputs": [],
     "prompt_number": 162
    },
    {
     "cell_type": "code",
     "collapsed": false,
     "input": [
      "RVs1 = np.load('RVs1.npy') \n",
      "RVs2 = np.load('RVs2.npy') \n",
      "RVs3 = np.load('RVs3.npy') \n",
      "RVs4 = np.load('RVs4.npy') \n",
      "JDs = np.load('JDs.npy') "
     ],
     "language": "python",
     "metadata": {},
     "outputs": [],
     "prompt_number": 66
    },
    {
     "cell_type": "code",
     "collapsed": false,
     "input": [
      "#Plots RVs, baryvels for all 4 cameras\n",
      "plt.title('Average of all decorrelated targets')\n",
      "mask = np.abs(quadRVs)<3000\n",
      "quadRVs[-mask]=np.nan\n",
      "# for i in range(RVs.shape[0]):\n",
      "    # plt.plot(thisStar.exposures.JDs, thisStar.exposures.rel_baryVels, label = 'Barycentric Vel. ')\n",
      "try:\n",
      "#         plt.scatter(JDs, stableRVs[i,:,0], label = 'Blue', color ='b' )\n",
      "#     plt.scatter(JDs, np.median(quadRVs[:,:,0],axis=0), label = 'Blue', color ='b' )\n",
      "    plt.errorbar(JDs, np.nanmean(quadRVs[:,:,0],axis=0), yerr=np.nanstd(quadRVs[:,:,0],axis=0), label = 'Blue', color ='b' )\n",
      "#     plt.errorbar(JDs, np.nanmean(RVs[:,:,0],axis=0), yerr=np.nanstd(RVs[:,:,0],axis=0), label = 'Blue', color ='b' )\n",
      "    pass\n",
      "except:pass\n",
      "try:\n",
      "#     plt.scatter(JDs, stableRVs[i,:,1], label = 'Green', color ='g' )\n",
      "#     plt.scatter(JDs, np.median(quadRVs[:,:,1],axis=0), label = 'Green', color ='g' )\n",
      "    plt.errorbar(JDs, np.nanmean(quadRVs[:,:,1],axis=0), yerr=np.nanstd(quadRVs[:,:,1],axis=0), label = 'Green', color ='g' )\n",
      "#     plt.errorbar(JDs, np.nanmean(RVs[:,:,1],axis=0), yerr=np.nanstd(RVs[:,:,1],axis=0), label = 'Green', color ='g' )\n",
      "    pass\n",
      "except:pass\n",
      "try:\n",
      "#     plt.scatter(JDs, stableRVs[i,:,2], label = 'Red', color ='r' )\n",
      "#     plt.scatter(JDs, np.median(quadRVs[:,:,2],axis=0), label = 'Red', color ='r' )\n",
      "    plt.errorbar(JDs, np.nanmean(quadRVs[:,:,2],axis=0), yerr=np.nanstd(quadRVs[:,:,2],axis=0), label = 'Red', color ='r' )\n",
      "#     plt.errorbar(JDs, np.nanmean(RVs[:,:,2],axis=0), yerr=np.nanstd(RVs[:,:,2],axis=0), label = 'Red', color ='r' )\n",
      "    pass\n",
      "except:pass\n",
      "try:\n",
      "#     plt.scatter(JDs, stableRVs[i,:,3], label = 'IR', color ='cyan' )\n",
      "#     plt.scatter(JDs, np.median(stableRVs[:,:,3],axis=0), label = 'IR', color ='cyan' )\n",
      "    plt.errorbar(JDs, np.nanmean(quadRVs[:,:,3],axis=0), yerr=np.nanstd(quadRVs[:,:,3],axis=0), label = 'IR', color ='cyan' )\n",
      "    pass\n",
      "except:pass\n",
      "\n",
      "# start_day = 56889.000000 # The Julian date for CE  2014 August 20 00:00:00.0 UT  (10am australia)\n",
      "# end_day = 56895.000000 #The Julian date for CE  2014 August 26 00:00:00.0 UT (10am australia)\n",
      "\n",
      "# days = np.linspace(start_day, end_day) \n",
      "\n",
      "# K1=26100\n",
      "# peri_time = 19298.85\n",
      "# P=4.8202\n",
      "# peri_arg=269.3\n",
      "# RV = K1* np.sin( (days-peri_time)/P*2*np.pi - peri_arg/360*2*np.pi )\n",
      "# plt.plot(days, RV, linewidth = 1, label = 'rhoTuc' )\n",
      "\n",
      "plt.xlabel('JD')\n",
      "plt.ylabel('RV [m/s]')\n",
      "plt.legend(loc=0)\n",
      "plt.show()"
     ],
     "language": "python",
     "metadata": {},
     "outputs": [
      {
       "ename": "NameError",
       "evalue": "name 'quadRVs' is not defined",
       "output_type": "pyerr",
       "traceback": [
        "\u001b[0;31m---------------------------------------------------------------------------\u001b[0m\n\u001b[0;31mNameError\u001b[0m                                 Traceback (most recent call last)",
        "\u001b[0;32m<ipython-input-196-f14b6535f850>\u001b[0m in \u001b[0;36m<module>\u001b[0;34m()\u001b[0m\n\u001b[1;32m      1\u001b[0m \u001b[0;31m#Plots RVs, baryvels for all 4 cameras\u001b[0m\u001b[0;34m\u001b[0m\u001b[0;34m\u001b[0m\u001b[0m\n\u001b[1;32m      2\u001b[0m \u001b[0mplt\u001b[0m\u001b[0;34m.\u001b[0m\u001b[0mtitle\u001b[0m\u001b[0;34m(\u001b[0m\u001b[0;34m'Average of all decorrelated targets'\u001b[0m\u001b[0;34m)\u001b[0m\u001b[0;34m\u001b[0m\u001b[0m\n\u001b[0;32m----> 3\u001b[0;31m \u001b[0mmask\u001b[0m \u001b[0;34m=\u001b[0m \u001b[0mnp\u001b[0m\u001b[0;34m.\u001b[0m\u001b[0mabs\u001b[0m\u001b[0;34m(\u001b[0m\u001b[0mquadRVs\u001b[0m\u001b[0;34m)\u001b[0m\u001b[0;34m<\u001b[0m\u001b[0;36m3000\u001b[0m\u001b[0;34m\u001b[0m\u001b[0m\n\u001b[0m\u001b[1;32m      4\u001b[0m \u001b[0mquadRVs\u001b[0m\u001b[0;34m[\u001b[0m\u001b[0;34m-\u001b[0m\u001b[0mmask\u001b[0m\u001b[0;34m]\u001b[0m\u001b[0;34m=\u001b[0m\u001b[0mnp\u001b[0m\u001b[0;34m.\u001b[0m\u001b[0mnan\u001b[0m\u001b[0;34m\u001b[0m\u001b[0m\n\u001b[1;32m      5\u001b[0m \u001b[0;31m# for i in range(RVs.shape[0]):\u001b[0m\u001b[0;34m\u001b[0m\u001b[0;34m\u001b[0m\u001b[0m\n",
        "\u001b[0;31mNameError\u001b[0m: name 'quadRVs' is not defined"
       ]
      }
     ],
     "prompt_number": 196
    },
    {
     "cell_type": "code",
     "collapsed": false,
     "input": [
      "mask = np.abs(quadRVs)<3000\n",
      "plt.plot(quadRVs[mask].flatten())\n",
      "plt.show()"
     ],
     "language": "python",
     "metadata": {},
     "outputs": [],
     "prompt_number": 331
    },
    {
     "cell_type": "code",
     "collapsed": false,
     "input": [
      "# np.save('RVs1',RVs1) \n",
      "# np.save('RVs2',RVs2) \n",
      "# np.save('RVs3',RVs3) \n",
      "# np.save('RVs4',RVs4) \n",
      "# np.save('JDs',JDs) "
     ],
     "language": "python",
     "metadata": {},
     "outputs": [],
     "prompt_number": 128
    },
    {
     "cell_type": "code",
     "collapsed": false,
     "input": [
      "#Plots RVs, baryvels. Single star, 4 cameras\n",
      "plt.title(filehandler.name[:-4])\n",
      "# plt.plot(thisStar.exposures.JDs, thisStar.exposures.rel_baryVels, label = 'Barycentric Vel. ')\n",
      "\n",
      "thisCam = thisStar.exposures.cameras[0]\n",
      "# RVMask = thisStar.exposures.my_data_mask\n",
      "# RVMask = ((thisStar.exposures.my_data_mask) & (np.abs(thisCam.RVs)<50000))\n",
      "RVMask = thisCam.safe_flag\n",
      "plt.scatter(thisStar.exposures.JDs[RVMask], thisCam.DDRVs[RVMask], label = 'Blue', color ='b' )\n",
      "# plt.errorbar(thisStar.exposures.JDs[RVMask], thisCam.DDRVs[RVMask], yerr=thisCam.sigmas[RVMask],fmt='.', label = 'Blue', color ='b' )\n",
      "\n",
      "thisCam = thisStar.exposures.cameras[1]\n",
      "# RVMask = thisStar.exposures.my_data_mask\n",
      "# RVMask = np.abs(thisCam.RVs)<1e6\n",
      "RVMask = thisCam.safe_flag\n",
      "plt.scatter(thisStar.exposures.JDs[RVMask], thisCam.DDRVs[RVMask], label = 'Green' , color ='g')\n",
      "# plt.errorbar(thisStar.exposures.JDs[RVMask], thisCam.RVs[RVMask], yerr=thisCam.sigmas[RVMask],fmt='.', label = 'Green' , color ='g')\n",
      "\n",
      "thisCam = thisStar.exposures.cameras[2]\n",
      "# RVMask = thisStar.exposures.my_data_mask\n",
      "# RVMask = np.abs(thisCam.RVs)<2e5\n",
      "RVMask = thisCam.safe_flag\n",
      "plt.scatter(thisStar.exposures.JDs[RVMask], thisCam.DDRVs[RVMask], label = 'Red' , color ='r')\n",
      "# plt.errorbar(thisStar.exposures.JDs[RVMask], thisCam.RVs[RVMask], yerr=thisCam.sigmas[RVMask],fmt='.', label = 'Red' , color ='r')\n",
      "\n",
      "thisCam = thisStar.exposures.cameras[3]\n",
      "# RVMask = thisStar.exposures.my_data_mask\n",
      "# RVMask = ((thisStar.exposures.my_data_mask) & (np.abs(thisCam.RVs)<20000))\n",
      "RVMask = thisCam.safe_flag\n",
      "plt.scatter(thisStar.exposures.JDs[RVMask], thisCam.DDRVs[RVMask], label = 'IR', color ='cyan' )\n",
      "# plt.errorbar(thisStar.exposures.JDs[RVMask], thisCam.RVs[RVMask], yerr=thisCam.sigmas[RVMask],fmt='.', label = 'IR', color ='cyan' )\n",
      "\n",
      "# start_day = 56889.000000 # The Julian date for CE  2014 August 20 00:00:00.0 UT  (10am australia)\n",
      "# end_day = 56895.000000 #The Julian date for CE  2014 August 26 00:00:00.0 UT (10am australia)\n",
      "\n",
      "# days = np.linspace(start_day, end_day) \n",
      "\n",
      "# K1=26100\n",
      "# peri_time = 19298.85\n",
      "# P=4.8202\n",
      "# peri_arg=269.3\n",
      "# RV = K1* np.sin( (days-peri_time)/P*2*np.pi - peri_arg/360*2*np.pi )\n",
      "# plt.plot(days, RV, linewidth = 1, label = 'rhoTuc' )\n",
      "\n",
      "plt.xlabel('JD')\n",
      "plt.ylabel('RV [m/s]')\n",
      "plt.legend(loc=3)\n",
      "plt.show()"
     ],
     "language": "python",
     "metadata": {},
     "outputs": [],
     "prompt_number": 69
    },
    {
     "cell_type": "code",
     "collapsed": false,
     "input": [
      "thisCam = thisStar.exposures.cameras[0]\n",
      "# for i in range(5):\n",
      "print thisCam.Ps\n",
      "print (thisCam.Ps[0,0]-thisCam.clean_wavelengths[0].shape[0]/2)\n",
      "print (-20480)*3000"
     ],
     "language": "python",
     "metadata": {},
     "outputs": [
      {
       "output_type": "stream",
       "stream": "stdout",
       "text": [
        "[[ 20480.00000041     31.22024091]\n",
        " [ 20479.18647047     33.74691434]\n",
        " [ 20479.5291172      33.19166508]\n",
        " [ 20479.33101668     32.03804502]\n",
        " [ 20500.34874949     42.66071609]]\n",
        "1.24415601022\n",
        "-61440000\n"
       ]
      }
     ],
     "prompt_number": 78
    },
    {
     "cell_type": "code",
     "collapsed": false,
     "input": [
      "#plots all data\n",
      "thisCam = thisStar.exposures.cameras[2]\n",
      "for i in [3]:\n",
      "    \n",
      "    fig = plt.gcf()\n",
      "    fig.suptitle(filehandler.name[:-4]+' - t0 vs t'+str(i)+' - RV='+str(thisCam.RVs[i])+' m/s', fontsize=14)\n",
      "\n",
      "    plt.subplot(221)\n",
      "    plt.title('Clean Flux')\n",
      "    plt.plot(thisCam.clean_wavelengths[i][::50],thisCam.clean_fluxes[i][::50])\n",
      "    plt.xlabel('Wavelength [ang]')\n",
      "    plt.ylabel('Flux [Counts]')\n",
      "    plt.legend(loc=0)\n",
      "    \n",
      "    plt.subplot(223)\n",
      "    plt.title('Clean Flux - Detail')\n",
      "    plt.plot(thisCam.clean_wavelengths[0],thisCam.clean_fluxes[0], label = 't0 Flux')\n",
      "    plt.plot(thisCam.clean_wavelengths[i],thisCam.clean_fluxes[i], label = 'Epoch '+str(i))\n",
      "#     plt.axis((4859,4864, -1,1))\n",
      "    plt.xlabel('Wavelength [ang]')\n",
      "    plt.ylabel('Flux [Counts]')\n",
      "    plt.legend(loc=0)\n",
      "\n",
      "    plt.subplot(222)\n",
      "    plt.title('Cross Correlation Result')\n",
      "    plt.plot((thisCam.clean_wavelengths[i]-np.median(thisCam.clean_wavelengths[i]))/thisCam.clean_wavelengths[i]*const.c,thisCam.CCCurves[i]/np.max(thisCam.CCCurves[i]))\n",
      "    plt.plot((thisCam.clean_wavelengths[i]-np.median(thisCam.clean_wavelengths[i]))/thisCam.clean_wavelengths[i]*const.c,\n",
      "             gaussian(range(len(thisCam.clean_wavelengths[i])), thisCam.Ps[i][0], thisCam.Ps[i][1]), label = 'gaussian fit') \n",
      "    plt.xlabel('RV [m/s]')\n",
      "    plt.legend(loc=0)\n",
      "    \n",
      "    plt.subplot(224)\n",
      "    plt.title('Cross Correlation Result - Detail')\n",
      "    plt.plot((thisCam.clean_wavelengths[i]-np.median(thisCam.clean_wavelengths[i]))/thisCam.clean_wavelengths[i]*const.c,thisCam.CCCurves[i]/np.max(thisCam.CCCurves[i]))\n",
      "    plt.plot((thisCam.clean_wavelengths[i]-np.median(thisCam.clean_wavelengths[i]))/thisCam.clean_wavelengths[i]*const.c,\n",
      "             gaussian(range(len(thisCam.clean_wavelengths[i])), thisCam.Ps[i][0], thisCam.Ps[i][1]), label = 'gaussian fit') \n",
      "    plt.axis((-8000, 8000,0.5,1.1) )\n",
      "    plt.xlabel('RV [m/s]')\n",
      "    plt.legend(loc=2)    \n",
      "\n",
      "    plt.tight_layout()\n",
      "    plt.show()\n"
     ],
     "language": "python",
     "metadata": {},
     "outputs": [
      {
       "output_type": "stream",
       "stream": "stdout",
       "text": [
        "No labeled objects found. Use label='...' kwarg on individual plots.\n",
        "tight_layout : falling back to Agg renderer\n"
       ]
      }
     ],
     "prompt_number": 176
    },
    {
     "cell_type": "code",
     "collapsed": false,
     "input": [],
     "language": "python",
     "metadata": {},
     "outputs": []
    },
    {
     "cell_type": "code",
     "collapsed": false,
     "input": [
      "#plots all CC fitted gausian results\\n\",\n",
      "# for i in range(CCCurves.shape[0]):\\n\",\n",
      "thisCam = thisStar.exposures.cameras[0]\n",
      "for i in range(10):\n",
      "    plt.plot((thisCam.clean_wavelengths[i]-np.median(thisCam.clean_wavelengths[i]))/thisCam.clean_wavelengths[i]*const.c,thisCam.CCCurves[i]/np.max(thisCam.CCCurves[i]))\n",
      "#     plt.plot((thisCam.clean_wavelengths[i]-np.median(thisCam.clean_wavelengths[i]))/thisCam.clean_wavelengths[i]*const.c,\n",
      "#              gaussian(range(len(thisCam.clean_wavelengths[i])), thisCam.Ps[i][0], thisCam.Ps[i][1])) \n",
      "    plt.xlabel('RV [m/s]')\n",
      "plt.show()\n"
     ],
     "language": "python",
     "metadata": {},
     "outputs": [
      {
       "ename": "IndexError",
       "evalue": "index 8 is out of bounds for axis 0 with size 8",
       "output_type": "pyerr",
       "traceback": [
        "\u001b[0;31m---------------------------------------------------------------------------\u001b[0m\n\u001b[0;31mIndexError\u001b[0m                                Traceback (most recent call last)",
        "\u001b[0;32m<ipython-input-69-58fec993073f>\u001b[0m in \u001b[0;36m<module>\u001b[0;34m()\u001b[0m\n\u001b[1;32m      3\u001b[0m \u001b[0mthisCam\u001b[0m \u001b[0;34m=\u001b[0m \u001b[0mthisStar\u001b[0m\u001b[0;34m.\u001b[0m\u001b[0mexposures\u001b[0m\u001b[0;34m.\u001b[0m\u001b[0mcameras\u001b[0m\u001b[0;34m[\u001b[0m\u001b[0;36m0\u001b[0m\u001b[0;34m]\u001b[0m\u001b[0;34m\u001b[0m\u001b[0m\n\u001b[1;32m      4\u001b[0m \u001b[0;32mfor\u001b[0m \u001b[0mi\u001b[0m \u001b[0;32min\u001b[0m \u001b[0mrange\u001b[0m\u001b[0;34m(\u001b[0m\u001b[0;36m10\u001b[0m\u001b[0;34m)\u001b[0m\u001b[0;34m:\u001b[0m\u001b[0;34m\u001b[0m\u001b[0m\n\u001b[0;32m----> 5\u001b[0;31m     \u001b[0mplt\u001b[0m\u001b[0;34m.\u001b[0m\u001b[0mplot\u001b[0m\u001b[0;34m(\u001b[0m\u001b[0;34m(\u001b[0m\u001b[0mthisCam\u001b[0m\u001b[0;34m.\u001b[0m\u001b[0mclean_wavelengths\u001b[0m\u001b[0;34m[\u001b[0m\u001b[0mi\u001b[0m\u001b[0;34m]\u001b[0m\u001b[0;34m-\u001b[0m\u001b[0mnp\u001b[0m\u001b[0;34m.\u001b[0m\u001b[0mmedian\u001b[0m\u001b[0;34m(\u001b[0m\u001b[0mthisCam\u001b[0m\u001b[0;34m.\u001b[0m\u001b[0mclean_wavelengths\u001b[0m\u001b[0;34m[\u001b[0m\u001b[0mi\u001b[0m\u001b[0;34m]\u001b[0m\u001b[0;34m)\u001b[0m\u001b[0;34m)\u001b[0m\u001b[0;34m/\u001b[0m\u001b[0mthisCam\u001b[0m\u001b[0;34m.\u001b[0m\u001b[0mclean_wavelengths\u001b[0m\u001b[0;34m[\u001b[0m\u001b[0mi\u001b[0m\u001b[0;34m]\u001b[0m\u001b[0;34m*\u001b[0m\u001b[0mconst\u001b[0m\u001b[0;34m.\u001b[0m\u001b[0mc\u001b[0m\u001b[0;34m,\u001b[0m\u001b[0mthisCam\u001b[0m\u001b[0;34m.\u001b[0m\u001b[0mCCCurves\u001b[0m\u001b[0;34m[\u001b[0m\u001b[0mi\u001b[0m\u001b[0;34m]\u001b[0m\u001b[0;34m/\u001b[0m\u001b[0mnp\u001b[0m\u001b[0;34m.\u001b[0m\u001b[0mmax\u001b[0m\u001b[0;34m(\u001b[0m\u001b[0mthisCam\u001b[0m\u001b[0;34m.\u001b[0m\u001b[0mCCCurves\u001b[0m\u001b[0;34m[\u001b[0m\u001b[0mi\u001b[0m\u001b[0;34m]\u001b[0m\u001b[0;34m)\u001b[0m\u001b[0;34m)\u001b[0m\u001b[0;34m\u001b[0m\u001b[0m\n\u001b[0m\u001b[1;32m      6\u001b[0m \u001b[0;31m#     plt.plot((thisCam.clean_wavelengths[i]-np.median(thisCam.clean_wavelengths[i]))/thisCam.clean_wavelengths[i]*const.c,\u001b[0m\u001b[0;34m\u001b[0m\u001b[0;34m\u001b[0m\u001b[0m\n\u001b[1;32m      7\u001b[0m \u001b[0;31m#              gaussian(range(len(thisCam.clean_wavelengths[i])), thisCam.Ps[i][0], thisCam.Ps[i][1]))\u001b[0m\u001b[0;34m\u001b[0m\u001b[0;34m\u001b[0m\u001b[0m\n",
        "\u001b[0;31mIndexError\u001b[0m: index 8 is out of bounds for axis 0 with size 8"
       ]
      }
     ],
     "prompt_number": 69
    },
    {
     "cell_type": "code",
     "collapsed": false,
     "input": [
      "#Debuging CC - resampling and cleaning tests\n",
      "flux1 = thisStar.exposures.cameras[0].red_fluxes[0]\n",
      "lambda1 = thisStar.exposures.cameras[0].wavelengths[0]\n",
      "lambda1Clean_10, flux1Clean_10 = clean_flux(flux1, 1, lambda1)\n",
      "# lambda1Clean_10, flux1Clean_10 = clean_flux(flux1, xDef, lambda1)\n",
      "# lambda1Clean_100, flux1Clean_100 = clean_flux(flux1, 100, lambda1)\\n\",\n",
      "plt.plot(lambda1,flux1/np.max(flux1), label= 'Reduced')\n",
      "# plt.plot(lambda1Clean_1,flux1Clean_1)\n",
      "plt.plot(lambda1Clean_10,flux1Clean_10, label= 'Clean')\n",
      "# plt.plot(lambda1Clean_100,flux1Clean_100)\n",
      "plt.title('Reduced and Clean flux')\n",
      "plt.xlabel('Wavelength [Ang.]')\n",
      "plt.ylabel('Relatuve Flux')\n",
      "plt.legend(loc=0)\n",
      "plt.show()\n"
     ],
     "language": "python",
     "metadata": {},
     "outputs": [],
     "prompt_number": 70
    },
    {
     "cell_type": "code",
     "collapsed": false,
     "input": [
      "#Saves\n",
      "# delattr(thisStar.exposures.cameras[0],'clean_fluxes')\n",
      "# delattr(thisStar.exposures.cameras[1],'clean_fluxes')\n",
      "# delattr(thisStar.exposures.cameras[2],'clean_fluxes')\n",
      "# delattr(thisStar.exposures.cameras[3],'clean_fluxes')\n",
      "# delattr(thisStar.exposures.cameras[0],'clean_wavelengths')\n",
      "# delattr(thisStar.exposures.cameras[1],'clean_wavelengths')\n",
      "# delattr(thisStar.exposures.cameras[2],'clean_wavelengths')\n",
      "# delattr(thisStar.exposures.cameras[3],'clean_wavelengths')\n",
      "# file_pi = open(filehandler.name, 'w') \n",
      "# pickle.dump(thisStar, file_pi) \n",
      "# file_pi.close()\n",
      "# filehandler.close()\n",
      "# thisStar = None"
     ],
     "language": "python",
     "metadata": {},
     "outputs": [],
     "prompt_number": 78
    },
    {
     "cell_type": "code",
     "collapsed": false,
     "input": [
      "1/10e-6/3600"
     ],
     "language": "python",
     "metadata": {},
     "outputs": [
      {
       "metadata": {},
       "output_type": "pyout",
       "prompt_number": 79,
       "text": [
        "27.777777777777775"
       ]
      }
     ],
     "prompt_number": 79
    },
    {
     "cell_type": "code",
     "collapsed": false,
     "input": [],
     "language": "python",
     "metadata": {},
     "outputs": []
    }
   ],
   "metadata": {}
  }
 ]
}