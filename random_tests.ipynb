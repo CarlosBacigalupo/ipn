{
 "metadata": {
  "name": "",
  "signature": "sha256:53e2621419b2404a30cb7f69d84f4d852e3bb49a18db0a50d0ae92bf26ba4c6a"
 },
 "nbformat": 3,
 "nbformat_minor": 0,
 "worksheets": [
  {
   "cells": [
    {
     "cell_type": "code",
     "collapsed": false,
     "input": [
      "def extract_HERMES_wavelength(header):\n",
      "    \n",
      "    CRVAL1 = header['CRVAL1'] # / Co-ordinate value of axis 1                    \n",
      "    CDELT1 = header['CDELT1'] #  / Co-ordinate increment along axis 1             \n",
      "    CRPIX1 = header['CRPIX1'] #  / Reference pixel along axis 1                   \n",
      "    \n",
      "    print CRVAL1,CDELT1, CRPIX1\n",
      "    \n",
      "    #Creates an array of offset wavelength from the referece px/wavelength\n",
      "    Lambda = CRVAL1 - (CRPIX1 - (np.arange(int(CRPIX1)*2)) -1)* CDELT1\n",
      "\n",
      "    return Lambda\n"
     ],
     "language": "python",
     "metadata": {},
     "outputs": [],
     "prompt_number": 11
    },
    {
     "cell_type": "code",
     "collapsed": false,
     "input": [
      "CRVAL1 = 4714.9999999\n",
      "CDELTA1 = .045177\n",
      "CRPIX1 = 1.\n",
      "data_len = 4096"
     ],
     "language": "python",
     "metadata": {},
     "outputs": [],
     "prompt_number": 36
    },
    {
     "cell_type": "code",
     "collapsed": false,
     "input": [
      "wl = np.arange(data_len)*CDELTA1+CRVAL1"
     ],
     "language": "python",
     "metadata": {},
     "outputs": [],
     "prompt_number": 40
    },
    {
     "cell_type": "code",
     "collapsed": false,
     "input": [
      "wl"
     ],
     "language": "python",
     "metadata": {},
     "outputs": [
      {
       "metadata": {},
       "output_type": "pyout",
       "prompt_number": 41,
       "text": [
        "array([ 4714.9999999,  4715.0451769,  4715.0903539, ...,  4899.9094609,\n",
        "        4899.9546379,  4899.9998149])"
       ]
      }
     ],
     "prompt_number": 41
    },
    {
     "cell_type": "code",
     "collapsed": false,
     "input": [
      "myfile = pf.open('21aug10036red.fits')"
     ],
     "language": "python",
     "metadata": {},
     "outputs": [],
     "prompt_number": 27
    },
    {
     "cell_type": "code",
     "collapsed": false,
     "input": [
      "extract_HERMES_wavelength(myfile[0].header)"
     ],
     "language": "python",
     "metadata": {},
     "outputs": [
      {
       "output_type": "stream",
       "stream": "stdout",
       "text": [
        "4812.19970703 0.0453204889728 2048.0\n"
       ]
      },
      {
       "metadata": {},
       "output_type": "pyout",
       "prompt_number": 30,
       "text": [
        "array([ 4719.4286661 ,  4719.47398659,  4719.51930708, ...,  4904.92542747,\n",
        "        4904.97074796,  4905.01606845])"
       ]
      }
     ],
     "prompt_number": 30
    },
    {
     "cell_type": "code",
     "collapsed": false,
     "input": [
      "myfile[0].header.items()"
     ],
     "language": "python",
     "metadata": {},
     "outputs": [
      {
       "metadata": {},
       "output_type": "pyout",
       "prompt_number": 26,
       "text": [
        "[('SIMPLE', True),\n",
        " ('BITPIX', -32),\n",
        " ('NAXIS', 2),\n",
        " ('NAXIS1', 4146),\n",
        " ('NAXIS2', 4112),\n",
        " ('EXTEND', True),\n",
        " ('COMMENT',\n",
        "  \"  FITS (Flexible Image Transport System) format is defined in 'Astronomy\"),\n",
        " ('COMMENT',\n",
        "  \"  FITS (Flexible Image Transport System) format is defined in 'Astronomy\"),\n",
        " ('LONGSTRN', 'OGIP 1.0'),\n",
        " ('COMMENT',\n",
        "  \"  FITS (Flexible Image Transport System) format is defined in 'Astronomy\"),\n",
        " ('COMMENT',\n",
        "  \"  FITS (Flexible Image Transport System) format is defined in 'Astronomy\"),\n",
        " ('COMMENT',\n",
        "  \"  FITS (Flexible Image Transport System) format is defined in 'Astronomy\"),\n",
        " ('COMMENT',\n",
        "  \"  FITS (Flexible Image Transport System) format is defined in 'Astronomy\"),\n",
        " ('DCT_DATE', 'Oct  9 2013'),\n",
        " ('DCT_VER', 'r3_138'),\n",
        " ('DETECXE', 4096),\n",
        " ('DETECXS', 1),\n",
        " ('DETECYE', 4112),\n",
        " ('DETECYS', 1),\n",
        " ('FIRMVSYS', 'System: AAO2 CCD Controller System Controller V1.28 130312'),\n",
        " ('FIRMVSEQ', 'Sequencer: AAO2 CCD Controller Sequencer V1.3 110321'),\n",
        " ('DETECTOR', 'E2V5-B'),\n",
        " ('XPIXSIZE', 15.0),\n",
        " ('YPIXSIZE', 15.0),\n",
        " ('CONFIGID', 13),\n",
        " ('DETECTID', 13),\n",
        " ('ABCKPLID', 6),\n",
        " ('VIDPBID', 7),\n",
        " ('CLKPBID', 21),\n",
        " ('BRDID_1', 65537),\n",
        " ('BRDSN_1', 18),\n",
        " ('BRDID_2', 327681),\n",
        " ('BRDSN_2', 19),\n",
        " ('BRDID_3', 131074),\n",
        " ('BRDSN_3', 89),\n",
        " ('BRDID_4', 131074),\n",
        " ('BRDSN_4', 119),\n",
        " ('BRDID_5', 131074),\n",
        " ('BRDSN_5', 109),\n",
        " ('BRDID_6', 131074),\n",
        " ('BRDSN_6', 110),\n",
        " ('BRDID_7', 196610),\n",
        " ('BRDSN_7', 98),\n",
        " ('BRDID_8', 262146),\n",
        " ('BRDSN_8', 78),\n",
        " ('BRDID_9', 458754),\n",
        " ('BRDSN_9', 102),\n",
        " ('BRDID_10', 393217),\n",
        " ('BRDSN_10', 129),\n",
        " ('METHOD', 'Normal ccd control method'),\n",
        " ('SPEED', 'FAST'),\n",
        " ('READAMP', 'LEFT_TWO'),\n",
        " ('EXPOSED', 1800.0),\n",
        " ('ELAPSED', 1800.6),\n",
        " ('TOTALEXP', 3600.6),\n",
        " ('RO_GAIN', 2.7),\n",
        " ('RO_NOISE', 4.0),\n",
        " ('DETTEMP', 167.7141),\n",
        " ('HTRVOLTS', 9.909267),\n",
        " ('SPECTID', 'BL'),\n",
        " ('SFILT1', ' '),\n",
        " ('SFILT2', ' '),\n",
        " ('ORIGIN', 'AAO'),\n",
        " ('TELESCOP', 'Anglo-Australian Telescope'),\n",
        " ('ALT_OBS', 1164),\n",
        " ('LAT_OBS', -31.27704),\n",
        " ('LONG_OBS', 149.0661),\n",
        " ('RCT_VER', 'r3_71HB'),\n",
        " ('RCT_DATE', '19-Oct-2013'),\n",
        " ('OBJECT', 'HD285507 #227 (Pivot 223)'),\n",
        " ('RUNCMD', 'RUN'),\n",
        " ('RADECSYS', 'FK5'),\n",
        " ('EQUINOX', 2000.0),\n",
        " ('INSTRUME', 'HERMES-2dF'),\n",
        " ('TDFCTVER', 'r11_27'),\n",
        " ('TDFCTDAT', '10-Jun-2014'),\n",
        " ('AAOMOSFT', 1),\n",
        " ('NDFCLASS', 'MFOBJECT'),\n",
        " ('CFG_FILE', 'HD285507_p1.sds'),\n",
        " ('PARKMASK', False),\n",
        " ('TDFCTEVT', '26'),\n",
        " ('DUMMY', 0),\n",
        " ('HARTMANA', 'Open'),\n",
        " ('HARTMANB', 'Open'),\n",
        " ('DCHROIC1', 'GA Blue'),\n",
        " ('DCHROIC2', 'GA Green'),\n",
        " ('DCHROIC3', 'GA Red'),\n",
        " ('ELECTEMP', 18.7),\n",
        " ('SPEC1TMP', 19.2),\n",
        " ('SPEC2TMP', 19.2),\n",
        " ('FRM1TEMP', 17.4),\n",
        " ('FRM2TEMP', 17.8),\n",
        " ('SLITTEMP', 18.4),\n",
        " ('SLITMASK', 'OUT'),\n",
        " ('HPOSCONF', 'YES'),\n",
        " ('SLITDITH', 'OFF'),\n",
        " ('SOURCE', 'Plate 1'),\n",
        " ('FLAPS', 'OPEN'),\n",
        " ('RUN', 38),\n",
        " ('OBSNUM', 38),\n",
        " ('GRPNUM', 38),\n",
        " ('GRPMEM', 1),\n",
        " ('GRPMAX', 0),\n",
        " ('OBSTYPE', 'OBJECT'),\n",
        " ('UTDATE', '2014:08:21'),\n",
        " ('EPOCH', 2014.63719227351),\n",
        " ('UTSTART', '17:37:39'),\n",
        " ('UTEND', '18:07:40'),\n",
        " ('STSTART', '01:33:46'),\n",
        " ('STEND', '02:03:52'),\n",
        " ('UTMJD', 56890.7344779004),\n",
        " ('TOPEND', '2DF'),\n",
        " ('AXIS', 'B'),\n",
        " ('AXIS_X', -2.14287647050415e-05),\n",
        " ('AXIS_Y', -0.000104331904174772),\n",
        " ('TRACKING', 'TRACKING'),\n",
        " ('TELFOC', 40.14),\n",
        " ('MEANRA', 61.7568191540333),\n",
        " ('MEANDEC', 15.3360184913091),\n",
        " ('TEL_PA', 89.9626715139606),\n",
        " ('HASTART', -38.5247553868382),\n",
        " ('ZDSTART', 59.5305943039479),\n",
        " ('APPRA', 1.08151237265571),\n",
        " ('APPDEC', 0.268313749496356),\n",
        " ('WINDOW', 'HERMES_2ROs_LR'),\n",
        " ('PISTON', 3237.97619047619),\n",
        " ('TILTSPEC', 7150.86533546305),\n",
        " ('TILTSPAT', 0),\n",
        " ('GRATID', '0'),\n",
        " ('GRATTILT', 0),\n",
        " ('GRATLPMM', 3827.0),\n",
        " ('ORDER', 1),\n",
        " ('DISPENC', 0),\n",
        " ('CAMENC', 0),\n",
        " ('GRATANGL', 0),\n",
        " ('GRATANGR', 0),\n",
        " ('CAMANGL', 0),\n",
        " ('CAMANGR', 0),\n",
        " ('LAMBDAC', 4833.0),\n",
        " ('LAMBDAB', 4833.0),\n",
        " ('LAMBDCR', 4833.0),\n",
        " ('LAMBDBR', 4833.0),\n",
        " ('DISPERS', 0.045),\n",
        " ('SPLYTEMP', 16.3),\n",
        " ('RTRNTEMP', 3.9),\n",
        " ('CAMRTEMP', 14.8),\n",
        " ('HAEND', -31.0004802462445),\n",
        " ('ZDEND', 55.3371903448192),\n",
        " ('WINDOXS1', 1),\n",
        " ('WINDOXE1', 4096),\n",
        " ('WINDOYS1', 1),\n",
        " ('WINDOYE1', 2056),\n",
        " ('WINDOXS2', 4100),\n",
        " ('WINDOXE2', 4149),\n",
        " ('WINDOYS2', 1),\n",
        " ('WINDOYE2', 2056),\n",
        " ('XEFFSIZE', 15.0),\n",
        " ('YEFFSIZE', 15.0),\n",
        " ('RO_GAIN1', 2.6),\n",
        " ('RO_NOIS1', 4.1),\n",
        " ('FILEORIG', '/data/aatobs/OptDet_data/140821/ccd_1/21aug10038.fits')]"
       ]
      }
     ],
     "prompt_number": 26
    },
    {
     "cell_type": "code",
     "collapsed": false,
     "input": [
      "flux1 = myfile[0].data[5]\n",
      "flux2 = myfile[0].data[20]"
     ],
     "language": "python",
     "metadata": {},
     "outputs": [],
     "prompt_number": 70
    },
    {
     "cell_type": "code",
     "collapsed": false,
     "input": [
      "plt.plot(flux1)\n",
      "plt.plot(flux2)\n",
      "    \n",
      "plt.show()\n",
      "\n",
      "    "
     ],
     "language": "python",
     "metadata": {},
     "outputs": [],
     "prompt_number": 72
    },
    {
     "cell_type": "code",
     "collapsed": false,
     "input": [
      "plt.plot(np.correlate(flux1, flux2, 'same'))\n",
      "plt.show()"
     ],
     "language": "python",
     "metadata": {},
     "outputs": [],
     "prompt_number": 75
    },
    {
     "cell_type": "code",
     "collapsed": false,
     "input": [
      "import pickle\n",
      "import toolbox"
     ],
     "language": "python",
     "metadata": {},
     "outputs": [],
     "prompt_number": 18
    },
    {
     "cell_type": "code",
     "collapsed": false,
     "input": [
      "cd /Users/Carlos/Documents/HERMES/reductions/6.5/HD285507_1arc/obj"
     ],
     "language": "python",
     "metadata": {},
     "outputs": [
      {
       "output_type": "stream",
       "stream": "stdout",
       "text": [
        "/Users/Carlos/Documents/HERMES/reductions/6.5/HD285507_1arc/obj\n"
       ]
      }
     ],
     "prompt_number": 9
    },
    {
     "cell_type": "code",
     "collapsed": false,
     "input": [
      "filename = 'Giant01.obj'\n",
      "# filename = 'red_Giant01.obj'\n",
      "filehandler = open(filename, 'r')\n",
      "thisStar = pickle.load(filehandler)"
     ],
     "language": "python",
     "metadata": {},
     "outputs": [],
     "prompt_number": 26
    },
    {
     "cell_type": "code",
     "collapsed": false,
     "input": [
      "toolbox.dec2sex(thisStar.RA/15)"
     ],
     "language": "python",
     "metadata": {},
     "outputs": [
      {
       "metadata": {},
       "output_type": "pyout",
       "prompt_number": 27,
       "text": [
        "(4.0, 7.0, 1.1999999999999744)"
       ]
      }
     ],
     "prompt_number": 27
    },
    {
     "cell_type": "code",
     "collapsed": false,
     "input": [
      "toolbox.dec2sex(thisStar.Dec)"
     ],
     "language": "python",
     "metadata": {},
     "outputs": [
      {
       "metadata": {},
       "output_type": "pyout",
       "prompt_number": 29,
       "text": [
        "(15.0, 20.0, 6.1999999999947875)"
       ]
      }
     ],
     "prompt_number": 29
    },
    {
     "cell_type": "code",
     "collapsed": false,
     "input": [
      "thisCam = thisStar.exposures.cameras[1]"
     ],
     "language": "python",
     "metadata": {},
     "outputs": [],
     "prompt_number": 37
    },
    {
     "cell_type": "code",
     "collapsed": false,
     "input": [
      "import numpy as np\n",
      "import pickle\n",
      "import pylab as plt\n",
      "from scipy import interpolate, signal, optimize, constants\n",
      "import pyfits as pf\n",
      "import sys\n",
      "\n",
      "CCReferenceSet=1\n",
      "CCTHisSet = 2\n",
      "corrHWidth = 10\n",
      "\n",
      "lambda1, flux1 = thisCam.wavelengths[CCReferenceSet], thisCam.red_fluxes[CCReferenceSet]\n",
      "# plt.plot(lambda1,flux1)\n",
      "lambda2, flux2 = thisCam.wavelengths[CCTHisSet], thisCam.red_fluxes[CCTHisSet]\n",
      "# plt.plot(lambda2,flux2)\n",
      "# plt.show()\n",
      "\n",
      "lambda1, flux1 = clean_flux(thisCam.wavelengths[CCReferenceSet], thisCam.red_fluxes[CCReferenceSet], thisCam)\n",
      "# plt.plot(lambda1,flux1)\n",
      "lambda2, flux2 = clean_flux(thisCam.wavelengths[CCTHisSet], thisCam.red_fluxes[CCTHisSet], thisCam)\n",
      "# plt.plot(lambda2,flux2)\n",
      "# plt.show()\n",
      "\n",
      "CCCurve = signal.fftconvolve(flux1, flux2[::-1], mode='same')\n",
      "CCCurve2 = signal.fftconvolve(flux1[-np.isnan(flux1)], flux2[-np.isnan(flux2)][::-1], mode='same')\n",
      "print np.sum(-np.isnan(flux1)), len(flux1)\n",
      "# corrMax = np.where(CCCurve==max(CCCurve))[0][0]\n",
      "\n",
      "# p_guess = [corrMax,corrHWidth]\n",
      "# x_mask = np.arange(corrMax-corrHWidth, corrMax+corrHWidth+1)\n",
      "# p = fit_gaussian(p_guess, CCCurve[x_mask], np.arange(len(CCCurve))[x_mask])[0]\n",
      "\n",
      "plt.plot(CCCurve)\n",
      "plt.plot(CCCurve2)\n",
      "# plt.plot(lambda2[x_mask],max(CCCurve)* gaussian(x_mask, p[0],p[1]))\n",
      "plt.show()\n",
      "\n",
      "# if np.modf(CCCurve.shape[0]/2.0)[0]>1e-5:\n",
      "#     pixelShift = (p[0]-(CCCurve.shape[0]-1)/2.) #odd number of elements\n",
      "# else:\n",
      "#     pixelShift = (p[0]-(CCCurve.shape[0])/2.) #even number of elements\n",
      "\n",
      "    \n",
      "# # thisQ, thisdRV = QdRV(thisCam.wavelengths[i], thisCam.red_fluxes[i])\n",
      "                \n",
      "# mid_px = thisCam.wavelengths.shape[1]/2\n",
      "# dWl = (thisCam.wavelengths[i,mid_px+1]-thisCam.wavelengths[i,mid_px]) / thisCam.wavelengths[i,mid_px]\n",
      "# RV = dWl * pixelShift * constants.c \n",
      "# print 'RV',RV\n",
      "                \n",
      "# #                 SNR = np.median(thisCam.red_fluxes[i])/np.std(thisCam.red_fluxes[i])\n"
     ],
     "language": "python",
     "metadata": {},
     "outputs": [
      {
       "output_type": "stream",
       "stream": "stdout",
       "text": [
        "flux out has 5\n",
        "flux out has 5\n",
        "4091 4096\n"
       ]
      }
     ],
     "prompt_number": 60
    },
    {
     "cell_type": "code",
     "collapsed": false,
     "input": [
      "validDates = np.nansum(thisCam.red_fluxes,1).astype(bool)\n",
      "print np.nansum(thisCam.wavelengths,1)"
     ],
     "language": "python",
     "metadata": {},
     "outputs": [
      {
       "output_type": "stream",
       "stream": "stdout",
       "text": [
        "[        0.         19691519.9999983  19691519.9999983  19691519.9999983\n",
        "  19691519.9999983  19691519.9999983  19691519.9999983  19691519.9999983\n",
        "  19691519.9999983  19691519.9999983  19691519.9999983  19691519.9999983\n",
        "  19691519.9999983  19691519.9999983  19691519.9999983]\n"
       ]
      }
     ],
     "prompt_number": 56
    },
    {
     "cell_type": "code",
     "collapsed": false,
     "input": [
      "print thisCam.RVs\n",
      "# plt.plot(thisCam.RVs)\n",
      "# plt.show()"
     ],
     "language": "python",
     "metadata": {},
     "outputs": [
      {
       "output_type": "stream",
       "stream": "stdout",
       "text": [
        "[]\n"
       ]
      }
     ],
     "prompt_number": 54
    },
    {
     "cell_type": "code",
     "collapsed": false,
     "input": [
      "i=0\n",
      "for x,y,label in zip(thisCam.wavelengths, thisCam.red_fluxes, thisCam.fileNames):\n",
      "    plt.plot(x,y+i, label= label, c='k')\n",
      "    i+=300\n",
      "plt.title(thisStar.name)\n",
      "# plt.legend(loc = 0)\n",
      "plt.show()"
     ],
     "language": "python",
     "metadata": {},
     "outputs": [],
     "prompt_number": 55
    },
    {
     "cell_type": "code",
     "collapsed": false,
     "input": [
      "for i in a.sigmas[:]:\n",
      "    plt.plot(i)\n",
      "plt.show()"
     ],
     "language": "python",
     "metadata": {},
     "outputs": [],
     "prompt_number": 26
    },
    {
     "cell_type": "code",
     "collapsed": false,
     "input": [
      "#Fit gaussian in CCCurves\n",
      "def gaussian(x, mu, sig, ):\n",
      "    return np.exp(-np.power(x - mu, 2.) / 2 / np.power(sig, 2.))\n",
      "\n",
      "def fit_gaussian(p, flux, x_range):\n",
      "    a = optimize.leastsq(diff_gausian, p, args= [flux, x_range])\n",
      "    return a\n",
      "\n",
      "def diff_gausian(p, args):\n",
      "    \n",
      "    flux = args[0]\n",
      "    x_range = args[1]\n",
      "    diff = gaussian(x_range, p[0],p[1]) - flux/np.max(flux)\n",
      "    return diff\n",
      "\n",
      "def get_wavelength(wavelengths, pixel):\n",
      "    intPx = int(pixel)\n",
      "    fracPx = pixel - int(pixel)\n",
      "\n",
      "    return (wavelengths[intPx+1] - wavelengths[intPx])*fracPx + wavelengths[intPx]\n",
      "\n",
      "def extract_HERMES_wavelength(fileName):\n",
      "\n",
      "\ta = pf.open(fileName)\n",
      "\n",
      "\tCRVAL1 = a[0].header['CRVAL1'] # / Co-ordinate value of axis 1                    \n",
      "\tCDELT1 = a[0].header['CDELT1'] #  / Co-ordinate increment along axis 1             \n",
      "\tCRPIX1 = a[0].header['CRPIX1'] #  / Reference pixel along axis 1                   \n",
      "\t\n",
      "\t#Creates an array of offset wavelength from the referece px/wavelength\n",
      "\tLambda = CRVAL1 - (CRPIX1 - (np.arange(int(CRPIX1)*2)) -1)* CDELT1\n",
      "\n",
      "\treturn Lambda\n"
     ],
     "language": "python",
     "metadata": {},
     "outputs": [],
     "prompt_number": 27
    },
    {
     "cell_type": "code",
     "collapsed": false,
     "input": [
      "np.sum(thisCam.wavelengths,1)\n",
      "np.sum(np.isnan(thisCam.wavelengths))"
     ],
     "language": "python",
     "metadata": {},
     "outputs": [
      {
       "metadata": {},
       "output_type": "pyout",
       "prompt_number": 69,
       "text": [
        "0"
       ]
      }
     ],
     "prompt_number": 69
    },
    {
     "cell_type": "code",
     "collapsed": false,
     "input": [
      "mid_px = thisCam.wavelengths.shape[1]/2\n",
      "dWl = (thisCam.wavelengths[0,mid_px+1]-thisCam.wavelengths[0,mid_px]) / thisCam.wavelengths[0,mid_px]\n",
      "RV = dWl * 0.5 * 3e8\n",
      "print 'RV',RV, mid_px, thisCam.wavelengths[0,mid_px+1], thisCam.wavelengths[0,mid_px]\n"
     ],
     "language": "python",
     "metadata": {},
     "outputs": [
      {
       "output_type": "stream",
       "stream": "stdout",
       "text": [
        "RV nan 2048 0.0 0.0\n"
       ]
      }
     ],
     "prompt_number": 75
    },
    {
     "cell_type": "code",
     "collapsed": false,
     "input": [
      "def clean_flux(wavelength, flux, thisCam, xDef = 1, medianRange = 0):\n",
      "    '''Clean a 1D spectrum. \n",
      "    \n",
      "    Parameters\n",
      "    ----\n",
      "    xDef : int or None, optional\n",
      "        Coeficient to resample. Final array will be flux.shape[0]*xDef long. \n",
      "        \n",
      "    medianRange : int, optional\n",
      "        Number of pixels to median over. 0 will skip this step. Optional.\n",
      "\n",
      "    '''\n",
      "        \n",
      "    #median outliers\n",
      "    if medianRange>0:\n",
      "        fluxMed = signal.medfilt(flux,medianRange)\n",
      "        w = np.where(abs((flux-fluxMed)/np.maximum(fluxMed,50)) > 0.4)\n",
      "        for ix in w[0]:\n",
      "            flux[ix] = fluxMed[ix]\n",
      "            \n",
      "    print 'flux out has',np.sum(np.isnan(flux))\n",
      "\n",
      "    if ((wavelength[-np.isnan(flux)].shape[0]>0) &  (flux[-np.isnan(flux)].shape[0]>0)):\n",
      "        \n",
      "        #flatten curve by fitting a 3rd order poly\n",
      "        fFlux = optimize.curve_fit(cubic, wavelength[-np.isnan(flux)], flux[-np.isnan(flux)], p0 = [1,1,1,1])\n",
      "        fittedCurve = cubic(wavelength, fFlux[0][0], fFlux[0][1], fFlux[0][2], fFlux[0][3])\n",
      "        flux = flux/fittedCurve-1\n",
      "\n",
      "        #apply tukey\n",
      "        flux = flux * tukey(0.1, len(flux))\n",
      "\n",
      "        #resample\n",
      "        if (xDef>1):\n",
      "            fFlux = interpolate.interp1d(wavelength, flux) \n",
      "            wavelength = np.linspace(min(wavelength), max(wavelength),len(wavelength)*xDef)\n",
      "            flux = fFlux(wavelength)\n",
      "\n",
      "    else: #if not enough data return NaNs\n",
      "        if (xDef>1):\n",
      "            wavelength = np.linspace(min(wavelength), max(wavelength),len(wavelength)*xDef)\n",
      "            flux = np.ones(wavelength.shape[0])*np.nan\n",
      "    \n",
      "    return wavelength, flux\n"
     ],
     "language": "python",
     "metadata": {},
     "outputs": [],
     "prompt_number": 50
    },
    {
     "cell_type": "code",
     "collapsed": false,
     "input": [
      "def cubic(x,a,b,c,d):\n",
      "    '''\n",
      "    Cubic function\n",
      "    '''\n",
      "    return a*x**3+b*x**2+c*x+d"
     ],
     "language": "python",
     "metadata": {},
     "outputs": [],
     "prompt_number": 4
    },
    {
     "cell_type": "code",
     "collapsed": false,
     "input": [
      "def tukey(alpha, N):\n",
      "    '''Creates a tukey function\n",
      "    \n",
      "    \n",
      "    Parameters\n",
      "    ----\n",
      "    alpha : float\n",
      "        Fraction of the pixels to fade in/out.\n",
      "        i.e. alpha=0.1 will use 10% of the pixels to go from 0 to 1. \n",
      "        \n",
      "    N : int\n",
      "        Totla number of pixels in the array.\n",
      "        \n",
      "        \n",
      "    Returns\n",
      "    ------\n",
      "\n",
      "    N-length array of floats from 0 to 1. \n",
      "    '''\n",
      "\n",
      "    \n",
      "    tukey = np.zeros(N)\n",
      "    for i in range(int(alpha*(N-1)/2)):\n",
      "        tukey[i] = 0.5*(1+np.cos(np.pi*(2*i/alpha/(N-1)-1)))\n",
      "    for i in range(int(alpha*(N-1)/2),int((N-1)*(1-alpha/2))):\n",
      "        tukey[i] = 1\n",
      "    for i in range(int((N-1)*(1-alpha/2)),int((N-1))):\n",
      "        tukey[i] = 0.5*(1+np.cos(np.pi*(2*i/alpha/(N-1)-2/alpha+1)))\n",
      "    \n",
      "    return tukey\n"
     ],
     "language": "python",
     "metadata": {},
     "outputs": [],
     "prompt_number": 5
    },
    {
     "cell_type": "code",
     "collapsed": false,
     "input": [
      "a"
     ],
     "language": "python",
     "metadata": {},
     "outputs": [
      {
       "ename": "NameError",
       "evalue": "name 'a' is not defined",
       "output_type": "pyerr",
       "traceback": [
        "\u001b[0;31m---------------------------------------------------------------------------\u001b[0m\n\u001b[0;31mNameError\u001b[0m                                 Traceback (most recent call last)",
        "\u001b[0;32m<ipython-input-2-60b725f10c9c>\u001b[0m in \u001b[0;36m<module>\u001b[0;34m()\u001b[0m\n\u001b[0;32m----> 1\u001b[0;31m \u001b[0ma\u001b[0m\u001b[0;34m\u001b[0m\u001b[0m\n\u001b[0m",
        "\u001b[0;31mNameError\u001b[0m: name 'a' is not defined"
       ]
      }
     ],
     "prompt_number": 2
    },
    {
     "cell_type": "code",
     "collapsed": false,
     "input": [
      "thisStar.exposures.cameras[3].sigmas"
     ],
     "language": "python",
     "metadata": {},
     "outputs": [
      {
       "metadata": {},
       "output_type": "pyout",
       "prompt_number": 27,
       "text": [
        "array([ 2.37215918,  3.01207561,  5.15707718,  3.44408889,  2.62640225,\n",
        "        2.69855998,  2.68738208,  1.91724504,  2.33835822,  3.77023277,\n",
        "        3.83053724,  4.04833517,  0.        ,  0.        ,  0.        ])"
       ]
      }
     ],
     "prompt_number": 27
    },
    {
     "cell_type": "code",
     "collapsed": false,
     "input": [
      "\n",
      "print thisCam.fileNames.shape\n",
      "\n",
      "print thisCam.wavelengths.shape"
     ],
     "language": "python",
     "metadata": {},
     "outputs": [
      {
       "output_type": "stream",
       "stream": "stdout",
       "text": [
        "(15,)\n",
        "(15, 4096)\n"
       ]
      }
     ],
     "prompt_number": 66
    },
    {
     "cell_type": "code",
     "collapsed": false,
     "input": [
      "print thisCam.RVs\n",
      "plt.plot(thisCam.RVs,'.')\n",
      "plt.show()"
     ],
     "language": "python",
     "metadata": {},
     "outputs": [
      {
       "output_type": "stream",
       "stream": "stdout",
       "text": [
        "[  0.00000000e+00   7.97179612e-03   3.27081544e+01  -7.97272797e+00\n",
        "  -2.03126724e+02  -1.75864239e+02  -2.31865165e+02  -9.89727512e+02\n",
        "  -1.02150588e+03  -9.55549945e+02  -1.00753632e+03  -9.30364563e+02\n",
        "  -1.21113819e+03  -1.23748642e+03  -1.23991649e+03]\n"
       ]
      }
     ],
     "prompt_number": 20
    },
    {
     "cell_type": "code",
     "collapsed": false,
     "input": [
      "import pickle\n",
      "import pylab as plt\n",
      "import numpy as np"
     ],
     "language": "python",
     "metadata": {},
     "outputs": [],
     "prompt_number": 62
    },
    {
     "cell_type": "code",
     "collapsed": false,
     "input": [
      "cd ~/Documents/HERMES/reductions/47Tuc_core_6.2/"
     ],
     "language": "python",
     "metadata": {},
     "outputs": [
      {
       "output_type": "stream",
       "stream": "stdout",
       "text": [
        "/Users/Carlos/Documents/HERMES/reductions/47Tuc_core_6.2\n"
       ]
      }
     ],
     "prompt_number": 61
    },
    {
     "cell_type": "code",
     "collapsed": false,
     "input": [
      "print np.all([np.nansum(thisCam.red_fluxes,1).astype(bool) for thisCam in thisStar.exposures.cameras],0)\n"
     ],
     "language": "python",
     "metadata": {},
     "outputs": [
      {
       "output_type": "stream",
       "stream": "stdout",
       "text": [
        "[False False False False  True  True  True False False False  True  True\n",
        "  True False False False]\n"
       ]
      }
     ],
     "prompt_number": 76
    },
    {
     "cell_type": "code",
     "collapsed": false,
     "input": [
      "plt.plot(thisCam.red_fluxes[0])\n",
      "plt.show()"
     ],
     "language": "python",
     "metadata": {},
     "outputs": [],
     "prompt_number": 235
    },
    {
     "cell_type": "code",
     "collapsed": false,
     "input": [
      "print thisCam.SNRs\n",
      "print np.nansum(thisCam.red_fluxes,1)\n",
      "print thisCam.fileNames"
     ],
     "language": "python",
     "metadata": {},
     "outputs": [
      {
       "output_type": "stream",
       "stream": "stdout",
       "text": [
        "[ 357.64439829  282.15521687  161.39792452  244.43131544  317.82667741\n",
        "  310.4912061   312.11264743  424.02645849  344.74023282  210.44685066\n",
        "  205.68299429  194.9054809     0.            0.            0.        ]\n",
        "[  4.55187066e+08   2.81631516e+08   9.25882388e+07   2.11867813e+08\n",
        "   3.60509773e+08   3.43098691e+08   3.46584643e+08   6.58571607e+08\n",
        "   4.37689870e+08   1.64507269e+08   1.57501181e+08   1.41299043e+08\n",
        "   0.00000000e+00   0.00000000e+00   0.00000000e+00]\n",
        "['20aug40053red.fits' '21aug40041red.fits' '21aug40042red.fits'\n",
        " '21aug40043red.fits' '22aug40036red.fits' '22aug40037red.fits'\n",
        " '22aug40038red.fits' '24aug40058red.fits' '24aug40059red.fits'\n",
        " '24aug40060red.fits' '24aug40061red.fits' '24aug40062red.fits' '' '' '']\n"
       ]
      }
     ],
     "prompt_number": 240
    },
    {
     "cell_type": "code",
     "collapsed": false,
     "input": [
      "thisStar.exposures.JDs.shape[0]"
     ],
     "language": "python",
     "metadata": {},
     "outputs": [
      {
       "metadata": {},
       "output_type": "pyout",
       "prompt_number": 109,
       "text": [
        "16"
       ]
      }
     ],
     "prompt_number": 109
    },
    {
     "cell_type": "code",
     "collapsed": false,
     "input": [
      "thisStar.exposures.JDs.shape"
     ],
     "language": "python",
     "metadata": {},
     "outputs": [
      {
       "metadata": {},
       "output_type": "pyout",
       "prompt_number": 107,
       "text": [
        "(16,)"
       ]
      }
     ],
     "prompt_number": 107
    },
    {
     "cell_type": "code",
     "collapsed": false,
     "input": [
      "import scipy as sp"
     ],
     "language": "python",
     "metadata": {},
     "outputs": [],
     "prompt_number": 110
    },
    {
     "cell_type": "code",
     "collapsed": false,
     "input": [
      "from scipy import optimize"
     ],
     "language": "python",
     "metadata": {},
     "outputs": [],
     "prompt_number": 111
    },
    {
     "cell_type": "code",
     "collapsed": false,
     "input": [
      "thisStar.exposures.abs_baryVels"
     ],
     "language": "python",
     "metadata": {},
     "outputs": [
      {
       "metadata": {},
       "output_type": "pyout",
       "prompt_number": 112,
       "text": [
        "array([ 4286.09055178,  4289.90753103,  4293.49971415,  4298.43854106,\n",
        "        4513.01030821,  4516.36212311,  4519.71368855,  4548.30352242,\n",
        "        4551.65269404,  4554.7783596 ,  4970.63834294,  4973.95299674,\n",
        "        4977.48830512,  5186.7865449 ,  5190.08139605,  5193.3759337 ])"
       ]
      }
     ],
     "prompt_number": 112
    },
    {
     "cell_type": "code",
     "collapsed": false,
     "input": [
      "pwd"
     ],
     "language": "python",
     "metadata": {},
     "outputs": [
      {
       "metadata": {},
       "output_type": "pyout",
       "prompt_number": 113,
       "text": [
        "u'/Users/Carlos/Documents/HERMES/reductions/47Tuc_core_6.2'"
       ]
      }
     ],
     "prompt_number": 113
    },
    {
     "cell_type": "code",
     "collapsed": false,
     "input": [
      "print RVs[0].shape"
     ],
     "language": "python",
     "metadata": {},
     "outputs": [
      {
       "output_type": "stream",
       "stream": "stdout",
       "text": [
        "(16, 4)\n"
       ]
      }
     ],
     "prompt_number": 195
    },
    {
     "cell_type": "code",
     "collapsed": false,
     "input": [
      "cd '/Users/Carlos/Documents/HERMES/reductions/47Tuc_core_6.2'"
     ],
     "language": "python",
     "metadata": {},
     "outputs": [
      {
       "output_type": "stream",
       "stream": "stdout",
       "text": [
        "/Users/Carlos/Documents/HERMES/reductions/47Tuc_core_6.2\n"
       ]
      }
     ],
     "prompt_number": 178
    },
    {
     "cell_type": "code",
     "collapsed": false,
     "input": [
      "RVs = np.load('RVs.npy')\n",
      "SNRs = np.load('SNRs.npy')"
     ],
     "language": "python",
     "metadata": {},
     "outputs": [],
     "prompt_number": 179
    },
    {
     "cell_type": "code",
     "collapsed": false,
     "input": [
      "for epoch in range(RVs.shape[1]):\n",
      "    cam = 0\n",
      "    R = RVs[:,epoch,cam]\n",
      "    S = SNRs[:,epoch,cam]\n",
      "    a = np.histogram(R)\n",
      "    plt.bar(a[1][:-1],a[0], width = (a[1][-2]-a[1][-1])*0.7)\n",
      "    plt.plot(R,S,'.', c='r')\n",
      "    plt.show()"
     ],
     "language": "python",
     "metadata": {},
     "outputs": [],
     "prompt_number": 198
    },
    {
     "cell_type": "code",
     "collapsed": false,
     "input": [
      "a = np.histogram(R)\n",
      "# plt.plot(a[1][:-1],a[0],'.')\n",
      "plt.bar(a[1][:-1],a[0], width = (a[1][-2]-a[1][-1])*0.7)\n",
      "plt.show()"
     ],
     "language": "python",
     "metadata": {},
     "outputs": [],
     "prompt_number": 193
    },
    {
     "cell_type": "code",
     "collapsed": false,
     "input": [
      "a = np.histogram(R)\n",
      "plt.plot(R,S,'.', c='r')\n",
      "# plt.bar(a[1][:-1],a[0], width = (a[1][-2]-a[1][-1])*0.7)\n",
      "plt.show()"
     ],
     "language": "python",
     "metadata": {},
     "outputs": [],
     "prompt_number": 192
    },
    {
     "cell_type": "code",
     "collapsed": false,
     "input": [
      "R = RVs[:,15,0]\n",
      "S = SNRs[:,15,0]"
     ],
     "language": "python",
     "metadata": {},
     "outputs": [],
     "prompt_number": 164
    },
    {
     "cell_type": "code",
     "collapsed": false,
     "input": [
      "a = np.histogram(R)\n",
      "# plt.plot(a[1][:-1],a[0],'.')\n",
      "plt.bar(a[1][:-1],a[0], width = (a[1][-2]-a[1][-1])*0.7)\n",
      "plt.show()"
     ],
     "language": "python",
     "metadata": {},
     "outputs": [],
     "prompt_number": 166
    },
    {
     "cell_type": "code",
     "collapsed": false,
     "input": [
      "import os"
     ],
     "language": "python",
     "metadata": {},
     "outputs": [],
     "prompt_number": 172
    },
    {
     "cell_type": "code",
     "collapsed": true,
     "input": [
      "os.curdir"
     ],
     "language": "python",
     "metadata": {},
     "outputs": [
      {
       "metadata": {},
       "output_type": "pyout",
       "prompt_number": 173,
       "text": [
        "'.'"
       ]
      }
     ],
     "prompt_number": 173
    },
    {
     "cell_type": "code",
     "collapsed": false,
     "input": [
      "pwd"
     ],
     "language": "python",
     "metadata": {},
     "outputs": [
      {
       "metadata": {},
       "output_type": "pyout",
       "prompt_number": 174,
       "text": [
        "u'/Users/Carlos/Documents/HERMES/reductions/47Tuc_core_6.2'"
       ]
      }
     ],
     "prompt_number": 174
    },
    {
     "cell_type": "code",
     "collapsed": false,
     "input": [
      "os.getcwd().split('/')[-1]"
     ],
     "language": "python",
     "metadata": {},
     "outputs": [
      {
       "metadata": {},
       "output_type": "pyout",
       "prompt_number": 177,
       "text": [
        "'47Tuc_core_6.2'"
       ]
      }
     ],
     "prompt_number": 177
    },
    {
     "cell_type": "code",
     "collapsed": false,
     "input": [
      "plt.plot(thisCam.red_fluxes)\n",
      "plt.show()"
     ],
     "language": "python",
     "metadata": {},
     "outputs": [],
     "prompt_number": 201
    },
    {
     "cell_type": "code",
     "collapsed": false,
     "input": [
      "i=6\n",
      "np.nanmean(thisCam.red_fluxes[i])/np.std(thisCam.red_fluxes[i])\n",
      "print np.sqrt(np.nanmean(thisCam.red_fluxes[i]))\n",
      "print np.nansum(thisCam.red_fluxes[i])\n",
      "print stats.nanmedian(thisCam.red_fluxes[i])/stats.nanstd(thisCam.red_fluxes[i])\n"
     ],
     "language": "python",
     "metadata": {},
     "outputs": [
      {
       "output_type": "stream",
       "stream": "stdout",
       "text": [
        "23.6033444571\n",
        "2276383.61503\n",
        "9.6440414162\n"
       ]
      }
     ],
     "prompt_number": 220
    },
    {
     "cell_type": "code",
     "collapsed": false,
     "input": [
      "PyAstronomy"
     ],
     "language": "python",
     "metadata": {},
     "outputs": [
      {
       "metadata": {},
       "output_type": "pyout",
       "prompt_number": 6,
       "text": [
        "<module 'PyAstronomy' from '/Users/Carlos/Library/Enthought/Canopy_64bit/User/lib/python2.7/site-packages/PyAstronomy/__init__.pyc'>"
       ]
      }
     ],
     "prompt_number": 6
    },
    {
     "cell_type": "code",
     "collapsed": false,
     "input": [
      "import PyAstronomy"
     ],
     "language": "python",
     "metadata": {},
     "outputs": [],
     "prompt_number": 5
    },
    {
     "cell_type": "code",
     "collapsed": false,
     "input": [
      "cd ~/Documents/HERMES/reductions/HD1581_1arc_6.2/obj/"
     ],
     "language": "python",
     "metadata": {},
     "outputs": [
      {
       "output_type": "stream",
       "stream": "stdout",
       "text": [
        "/Users/Carlos/Documents/HERMES/reductions/HD1581_1arc_6.2/obj\n"
       ]
      }
     ],
     "prompt_number": 9
    },
    {
     "cell_type": "code",
     "collapsed": false,
     "input": [
      "import pickle\n",
      "# filename = 'HD1581.obj'\n",
      "# filename = 'Brght01.obj'\n",
      "# filename = 'red_Giant01.obj'\n",
      "# filename = 'Giant01.obj'\n",
      "filename = 'Field01.obj'\n",
      "filehandler = open(filename, 'r')\n",
      "thisStar = pickle.load(filehandler)\n",
      "thisCam = thisStar.exposures.cameras[3]\n"
     ],
     "language": "python",
     "metadata": {},
     "outputs": [],
     "prompt_number": 10
    },
    {
     "cell_type": "code",
     "collapsed": false,
     "input": [
      "import pylab as plt\n",
      "plt.plot(thisCam.red_fluxes[0])\n",
      "plt.show()"
     ],
     "language": "python",
     "metadata": {},
     "outputs": [],
     "prompt_number": 15
    },
    {
     "cell_type": "code",
     "collapsed": false,
     "input": [
      "from PyAstronomy import pyasl\n",
      "\n",
      "def baryTest(thisStar):\n",
      "\n",
      "    for i,jd in enumerate((thisStar.exposures.JDs+2400000.5)[:]):\n",
      "        heli, bary = pyasl.baryvel(jd, deq=2000.0)\n",
      "#         print \"Earth's velocity at JD: \", jd\n",
      "#         print \"Heliocentric velocity [km/s]: \", heli\n",
      "#         print \"Barycentric velocity [km/s] : \", bary\n",
      "\n",
      "        # Coordinates of Sirius\n",
      "        ra  = 101.28715535\n",
      "        dec = -16.71611587\n",
      "        \n",
      "        #thisStar coords\n",
      "        ra  = np.rad2deg(thisStar.RA_dec)\n",
      "        dec = np.rad2deg(thisStar.Dec_dec)\n",
      "        print np.rad2deg(thisStar.RA_dec), np.rad2deg(thisStar.Dec_dec), thisStar.name, thisStar.exposures.abs_baryVels[i]\n",
      "\n",
      "        \n",
      "        vh, vb = pyasl.baryCorr(jd, ra, dec, deq=2000.0)\n",
      "        print \"Barycentric velocity of Earth toward\",thisStar.name,'[m/s]', vb*1000\n",
      "        print vb*1000-thisStar.exposures.abs_baryVels[i]\n",
      "        print ''"
     ],
     "language": "python",
     "metadata": {},
     "outputs": [],
     "prompt_number": 9
    },
    {
     "cell_type": "code",
     "collapsed": false,
     "input": [
      "from PyAstronomy import pyasl\n",
      "\n",
      "def baryTest2(baryVels, JDs):\n",
      "\n",
      "    for i,jd in enumerate((JDs+2400000.5)[:]):\n",
      "        heli, bary = pyasl.baryvel(jd, deq=2000.0)\n",
      "#         print \"Earth's velocity at JD: \", jd\n",
      "#         print \"Heliocentric velocity [km/s]: \", heli\n",
      "#         print \"Barycentric velocity [km/s] : \", bary\n",
      "\n",
      "        # Coordinates of Sirius\n",
      "        ra  = 101.28715535\n",
      "        dec = -16.71611587\n",
      "        \n",
      "        #thisStar coords\n",
      "        ra  = np.rad2deg(thisStar.RA_dec)\n",
      "        dec = np.rad2deg(thisStar.Dec_dec)\n",
      "        print np.rad2deg(thisStar.RA_dec), np.rad2deg(thisStar.Dec_dec), thisStar.name, thisStar.exposures.abs_baryVels[i]\n",
      "\n",
      "        \n",
      "        vh, vb = pyasl.baryCorr(jd, ra, dec, deq=2000.0)\n",
      "        print \"Barycentric velocity of Earth toward\",thisStar.name,'[m/s]', vb*1000\n",
      "        print vb*1000-thisStar.exposures.abs_baryVels[i]\n",
      "        print ''"
     ],
     "language": "python",
     "metadata": {},
     "outputs": [],
     "prompt_number": 97
    },
    {
     "cell_type": "code",
     "collapsed": false,
     "input": [
      "import numpy as np\n",
      "baryTest(thisStar)"
     ],
     "language": "python",
     "metadata": {},
     "outputs": [
      {
       "output_type": "stream",
       "stream": "stdout",
       "text": [
        "321.236427277 -71.8895111111 N104-S1084 -10414.3510453\n",
        "Barycentric velocity of Earth toward N104-S1084 [m/s] -10362.36416\n",
        "51.9868852562\n",
        "\n",
        "321.236427277 -71.8895111111 N104-S1084 -10418.6092086\n",
        "Barycentric velocity of Earth toward N104-S1084 [m/s] -10366.6326992\n",
        "51.9765094806\n",
        "\n",
        "321.236427277 -71.8895111111 N104-S1084 -10422.6161477\n",
        "Barycentric velocity of Earth toward N104-S1084 [m/s] -10370.6494081\n",
        "51.9667396609\n",
        "\n",
        "321.236427277 -71.8895111111 N104-S1084 -10428.12451\n",
        "Barycentric velocity of Earth toward N104-S1084 [m/s] -10376.1712108\n",
        "51.9532992187\n",
        "\n",
        "321.236427277 -71.8895111111 N104-S1084 -10666.6462235\n",
        "Barycentric velocity of Earth toward N104-S1084 [m/s] -10615.285963\n",
        "51.360260536\n",
        "\n",
        "321.236427277 -71.8895111111 N104-S1084 -10670.3597535\n",
        "Barycentric velocity of Earth toward N104-S1084 [m/s] -10619.0088989\n",
        "51.3508546037\n",
        "\n",
        "321.236427277 -71.8895111111 N104-S1084 -10674.0726228\n",
        "Barycentric velocity of Earth toward N104-S1084 [m/s] -10622.7311778\n",
        "51.3414449736\n",
        "\n",
        "321.236427277 -71.8895111111 N104-S1084 -10705.7288404\n",
        "Barycentric velocity of Earth toward N104-S1084 [m/s] -10654.4678413\n",
        "51.260999139\n",
        "\n",
        "321.236427277 -71.8895111111 N104-S1084 -10709.4353907\n",
        "Barycentric velocity of Earth toward N104-S1084 [m/s] -10658.1838364\n",
        "51.2515542873\n",
        "\n",
        "321.236427277 -71.8895111111 N104-S1084 -10712.8942378\n",
        "Barycentric velocity of Earth toward N104-S1084 [m/s] -10661.651502\n",
        "51.2427357618\n",
        "\n",
        "321.236427277 -71.8895111111 N104-S1084 -11170.0480998\n",
        "Barycentric velocity of Earth toward N104-S1084 [m/s] -11120.0132637\n",
        "50.0348360145\n",
        "\n",
        "321.236427277 -71.8895111111 N104-S1084 -11173.6673419\n",
        "Barycentric velocity of Earth toward N104-S1084 [m/s] -11123.6424131\n",
        "50.0249288708\n",
        "\n",
        "321.236427277 -71.8895111111 N104-S1084 -11177.5270809\n",
        "Barycentric velocity of Earth toward N104-S1084 [m/s] -11127.5127237\n",
        "50.0143572834\n",
        "\n",
        "321.236427277 -71.8895111111 N104-S1084 -11405.2281275\n",
        "Barycentric velocity of Earth toward N104-S1084 [m/s] -11355.8487604\n",
        "49.3793670508\n",
        "\n",
        "321.236427277 -71.8895111111 N104-S1084 -11408.7999438\n",
        "Barycentric velocity of Earth toward N104-S1084 [m/s] -11359.4307175\n",
        "49.3692263298\n",
        "\n",
        "321.236427277 -71.8895111111 N104-S1084 -11412.3710226\n",
        "Barycentric velocity of Earth toward N104-S1084 [m/s] -11363.0119405\n",
        "49.3590820674\n",
        "\n"
       ]
      }
     ],
     "prompt_number": 98
    },
    {
     "cell_type": "code",
     "collapsed": false,
     "input": [
      "Right ascension\t00h 20m 04.25995s\n",
      "Declination\t\u221264\u00b0 52\u2032 29.2549\u2033"
     ],
     "language": "python",
     "metadata": {},
     "outputs": []
    },
    {
     "cell_type": "code",
     "collapsed": false,
     "input": [
      "print thisStar.RA_dec, thisStar.Dec_dec#, thisStar.RA_h, thisStar.RA_min , thisStar.RA_sec\n"
     ],
     "language": "python",
     "metadata": {},
     "outputs": [
      {
       "output_type": "stream",
       "stream": "stdout",
       "text": [
        "0.185324877741 -1.14263312432\n"
       ]
      }
     ],
     "prompt_number": 43
    },
    {
     "cell_type": "code",
     "collapsed": false,
     "input": [
      "import toolbox\n",
      "toolbox.dec2sex(thisStar.RA_dec)"
     ],
     "language": "python",
     "metadata": {},
     "outputs": [
      {
       "metadata": {},
       "output_type": "pyout",
       "prompt_number": 49,
       "text": [
        "(0.0, 11.0, 7.1695598673523619)"
       ]
      }
     ],
     "prompt_number": 49
    },
    {
     "cell_type": "code",
     "collapsed": false,
     "input": [
      "import numpy as np"
     ],
     "language": "python",
     "metadata": {},
     "outputs": [],
     "prompt_number": 51
    },
    {
     "cell_type": "code",
     "collapsed": false,
     "input": [
      "thisStar.RA_dec, toolbox.dec2sex(np.rad2deg(thisStar.RA_dec)/15)"
     ],
     "language": "python",
     "metadata": {},
     "outputs": [
      {
       "metadata": {},
       "output_type": "pyout",
       "prompt_number": 56,
       "text": [
        "(0.1853248777409312, (0.0, 42.0, 28.39999999999975))"
       ]
      }
     ],
     "prompt_number": 56
    },
    {
     "cell_type": "code",
     "collapsed": false,
     "input": [
      "00 20 06.49 -64 52 06.6\n"
     ],
     "language": "python",
     "metadata": {},
     "outputs": [
      {
       "ename": "SyntaxError",
       "evalue": "invalid syntax (<ipython-input-57-81649f279bfe>, line 1)",
       "output_type": "pyerr",
       "traceback": [
        "\u001b[0;36m  File \u001b[0;32m\"<ipython-input-57-81649f279bfe>\"\u001b[0;36m, line \u001b[0;32m1\u001b[0m\n\u001b[0;31m    00 20 06.49 -64 52 06.6\u001b[0m\n\u001b[0m        ^\u001b[0m\n\u001b[0;31mSyntaxError\u001b[0m\u001b[0;31m:\u001b[0m invalid syntax\n"
       ]
      }
     ],
     "prompt_number": 57
    },
    {
     "cell_type": "code",
     "collapsed": false,
     "input": [
      "np.deg2rad(toolbox.sex2dec(0,20,06.49)*15)"
     ],
     "language": "python",
     "metadata": {},
     "outputs": [
      {
       "metadata": {},
       "output_type": "pyout",
       "prompt_number": 60,
       "text": [
        "0.087738428718276612"
       ]
      }
     ],
     "prompt_number": 60
    },
    {
     "cell_type": "code",
     "collapsed": false,
     "input": [
      "np.deg2rad(-toolbox.sex2dec(64,52,6.6))"
     ],
     "language": "python",
     "metadata": {},
     "outputs": [
      {
       "metadata": {},
       "output_type": "pyout",
       "prompt_number": 80,
       "text": [
        "-1.1321689058299416"
       ]
      }
     ],
     "prompt_number": 80
    },
    {
     "cell_type": "code",
     "collapsed": false,
     "input": [
      "-toolbox.sex2dec(64,52,6.6)"
     ],
     "language": "python",
     "metadata": {},
     "outputs": [
      {
       "metadata": {},
       "output_type": "pyout",
       "prompt_number": 79,
       "text": [
        "-64.8685"
       ]
      }
     ],
     "prompt_number": 79
    },
    {
     "cell_type": "code",
     "collapsed": false,
     "input": [
      "RVs = np.random.random(100)\n",
      "stdRV= np.std(RVs)\n",
      "medRV = 0.5\n",
      "sigmaClip = 0.1\n",
      "print RVs,stdRV,medRV\n",
      "print RVs[(RVs>=medRV-sigmaClip*stdRV) & (RVs<=medRV+sigmaClip*stdRV)]"
     ],
     "language": "python",
     "metadata": {},
     "outputs": [
      {
       "output_type": "stream",
       "stream": "stdout",
       "text": [
        "[ 0.50944729  0.59202363  0.34793192  0.49857096  0.11168045  0.5402587\n",
        "  0.1639193   0.63398657  0.11826589  0.83046053  0.21378317  0.89126498\n",
        "  0.38665419  0.43266515  0.31866077  0.18833401  0.66504509  0.12992092\n",
        "  0.7296709   0.93295998  0.15362989  0.79720843  0.94320636  0.98437832\n",
        "  0.51896116  0.98229951  0.04638261  0.89583847  0.41585421  0.40722681\n",
        "  0.1096208   0.99106994  0.97524987  0.56994879  0.51063583  0.35349014\n",
        "  0.51254062  0.33487206  0.41287229  0.72653006  0.15814849  0.05696768\n",
        "  0.26069769  0.5933787   0.49401713  0.85210524  0.40962797  0.68764811\n",
        "  0.54484472  0.60963499  0.33765635  0.99509764  0.47090397  0.23627487\n",
        "  0.32071665  0.21991094  0.06261571  0.74229276  0.42339483  0.65616199\n",
        "  0.14606433  0.54493962  0.86816375  0.17595697  0.16485671  0.11700399\n",
        "  0.5580427   0.60210596  0.02294881  0.37644091  0.7811683   0.10981021\n",
        "  0.72287168  0.80615526  0.190554    0.64533609  0.93021578  0.6138838\n",
        "  0.64106467  0.11551869  0.74450757  0.88140708  0.86976513  0.38413611\n",
        "  0.50847321  0.40583771  0.09499961  0.59455717  0.82802101  0.8511119\n",
        "  0.62215665  0.35489146  0.98100454  0.35250727  0.23062261  0.67021778\n",
        "  0.20447119  0.70156444  0.29592984  0.45394288] 0.277557430083 0.5\n",
        "[ 0.50944729  0.49857096  0.51896116  0.51063583  0.51254062  0.49401713\n",
        "  0.50847321]\n"
       ]
      }
     ],
     "prompt_number": 149
    },
    {
     "cell_type": "code",
     "collapsed": false,
     "input": [
      "import pylab as plt"
     ],
     "language": "python",
     "metadata": {},
     "outputs": [],
     "prompt_number": 2
    },
    {
     "cell_type": "code",
     "collapsed": false,
     "input": [
      "g = plt.gca()\n",
      "g.xaxis.majorTic\n",
      "plt.show()"
     ],
     "language": "python",
     "metadata": {},
     "outputs": [],
     "prompt_number": 155
    },
    {
     "cell_type": "code",
     "collapsed": false,
     "input": [
      "import matplotlib.pyplot as plt\n",
      "\n"
     ],
     "language": "python",
     "metadata": {},
     "outputs": []
    },
    {
     "cell_type": "code",
     "collapsed": false,
     "input": [
      "fig = plt.figure()\n",
      "# plt.title(title)\n",
      "\n",
      "ax = fig.add_subplot(111)\n",
      "# ax.bar(hist[1][1:],hist[0], width = (hist[1][-2]-hist[1][-1]))\n",
      "# ax.grid()\n",
      "# ax.set_ylabel('Counts')\n",
      "# ax.set_xlabel('RV [m/s]')\n",
      "# #         ax.set_ylim(0,10)\n",
      "\n",
      "# ax2 = ax.twinx()\n",
      "# ax2.scatter(R,S, c='r', s=100)\n",
      "ax.bar(0,1 , width = (1), color='k')\n"
     ],
     "language": "python",
     "metadata": {},
     "outputs": [
      {
       "metadata": {},
       "output_type": "pyout",
       "prompt_number": 6,
       "text": [
        "<Container object of 1 artists>"
       ]
      }
     ],
     "prompt_number": 6
    },
    {
     "cell_type": "code",
     "collapsed": false,
     "input": [
      "plt.show()"
     ],
     "language": "python",
     "metadata": {},
     "outputs": [],
     "prompt_number": 7
    },
    {
     "cell_type": "code",
     "collapsed": false,
     "input": [
      "pwd"
     ],
     "language": "python",
     "metadata": {},
     "outputs": [
      {
       "metadata": {},
       "output_type": "pyout",
       "prompt_number": 39,
       "text": [
        "u'/Users/Carlos/Documents/HERMES/reductions'"
       ]
      }
     ],
     "prompt_number": 39
    },
    {
     "cell_type": "code",
     "collapsed": false,
     "input": [
      "cd 47Tuc_core_6.2/"
     ],
     "language": "python",
     "metadata": {},
     "outputs": [
      {
       "output_type": "stream",
       "stream": "stdout",
       "text": [
        "/Users/Carlos/Documents/HERMES/reductions/47Tuc_core_6.2\n"
       ]
      }
     ],
     "prompt_number": 40
    },
    {
     "cell_type": "code",
     "collapsed": false,
     "input": [
      "cd obj"
     ],
     "language": "python",
     "metadata": {},
     "outputs": [
      {
       "output_type": "stream",
       "stream": "stdout",
       "text": [
        "/Users/Carlos/Documents/HERMES/reductions/47Tuc_core_6.2/obj\n"
       ]
      }
     ],
     "prompt_number": 41
    },
    {
     "cell_type": "code",
     "collapsed": false,
     "input": [
      "import pickle\n",
      "# filename = 'HD1581.obj'\n",
      "# filename = 'Brght01.obj'\n",
      "# filename = 'red_Giant01.obj'\n",
      "filename = 'red_Brght01.obj'\n",
      "# filename = 'Giant01.obj'\n",
      "filehandler = open(filename, 'r')\n",
      "thisStar = pickle.load(filehandler)\n",
      "thisCam = thisStar.exposures.cameras[3]\n"
     ],
     "language": "python",
     "metadata": {},
     "outputs": [],
     "prompt_number": 42
    },
    {
     "cell_type": "code",
     "collapsed": false,
     "input": [
      "print thisStar.exposures\n",
      "thisCam.fileNames"
     ],
     "language": "python",
     "metadata": {},
     "outputs": [
      {
       "output_type": "stream",
       "stream": "stdout",
       "text": [
        "(16,)\n"
       ]
      },
      {
       "metadata": {},
       "output_type": "pyout",
       "prompt_number": 36,
       "text": [
        "chararray(['21aug40027red.fits', '21aug40028red.fits', '21aug40029red.fits',\n",
        "       '21aug40030red.fits', '22aug40027red.fits', '22aug40028red.fits',\n",
        "       '22aug40029red.fits', '', '', '', '24aug40050red.fits',\n",
        "       '24aug40051red.fits', '24aug40052red.fits', '', '', ''], \n",
        "      dtype='|S18')"
       ]
      }
     ],
     "prompt_number": 36
    },
    {
     "cell_type": "code",
     "collapsed": false,
     "input": [
      "thisCam.red_fluxes"
     ],
     "language": "python",
     "metadata": {},
     "outputs": [
      {
       "metadata": {},
       "output_type": "pyout",
       "prompt_number": 37,
       "text": [
        "array([[ nan,  nan,  nan, ...,  nan,  nan,  nan],\n",
        "       [ nan,  nan,  nan, ...,  nan,  nan,  nan],\n",
        "       [ nan,  nan,  nan, ...,  nan,  nan,  nan],\n",
        "       ..., \n",
        "       [  0.,   0.,   0., ...,   0.,   0.,   0.],\n",
        "       [  0.,   0.,   0., ...,   0.,   0.,   0.],\n",
        "       [  0.,   0.,   0., ...,   0.,   0.,   0.]])"
       ]
      }
     ],
     "prompt_number": 37
    },
    {
     "cell_type": "code",
     "collapsed": false,
     "input": [
      "np.nanmax(thisCam.red_fluxes, 1)"
     ],
     "language": "python",
     "metadata": {},
     "outputs": [
      {
       "metadata": {},
       "output_type": "pyout",
       "prompt_number": 38,
       "text": [
        "array([ 2768.06225586,  1765.46630859,  3365.35449219,   498.24197388,\n",
        "        1793.05212402,  1405.95178223,  2553.84790039,     0.        ,\n",
        "           0.        ,     0.        ,  1869.43261719,  5860.16210938,\n",
        "        4382.89208984,     0.        ,     0.        ,     0.        ])"
       ]
      }
     ],
     "prompt_number": 38
    },
    {
     "cell_type": "code",
     "collapsed": false,
     "input": [
      "data=np.load('npy/data.npy')"
     ],
     "language": "python",
     "metadata": {},
     "outputs": [],
     "prompt_number": 41
    },
    {
     "cell_type": "code",
     "collapsed": false,
     "input": [
      "data[:,2].astype(float)"
     ],
     "language": "python",
     "metadata": {},
     "outputs": [
      {
       "metadata": {},
       "output_type": "pyout",
       "prompt_number": 49,
       "text": [
        "array([ 215.,  199.,  193.,  130.,  206.,  145.,  243.,  218.,  275.,\n",
        "        144.,  129.,  270.,  107.,  182.,  271.,   96.,   86.,  118.,\n",
        "        290.,  284.,   91.,   92.,   18.,  268.,  347.,   99.,   23.,\n",
        "        399.,  225.,    4.,   59.,  335.,   28.,  338.,  266.,  319.,\n",
        "        311.,  340.,  115.,  339.,   58.,   69.,  328.,   62.,   11.,\n",
        "         26.,    0.,  336.,    5.,    2.,  362.,  349.,  394.,   39.,\n",
        "        354.,   49.,  397.,   38.,  341.,  393.,    6.,  386.,   15.,\n",
        "        398.,   48.,  395.,  326.,   97.,  334.,  322.,  345.,  153.,\n",
        "        123.,  282.,  296.,  279.,  260.,  331.,   85.,   70.,   17.,\n",
        "        329.,  396.,  337.,   53.,   22.,   29.,  355.,  363.,  348.,\n",
        "         40.,  371.,  353.,   52.,  372.,  379.,  369.,  381.,  392.,\n",
        "          8.,  160.,  167.,  125.,  201.,  143.,  351.,   46.,    3.,\n",
        "         12.,  209.])"
       ]
      }
     ],
     "prompt_number": 49
    },
    {
     "cell_type": "code",
     "collapsed": false,
     "input": [
      "import pylab as plt\n",
      "plt.plot(RVs[:,:,0])\n",
      "plt.show()"
     ],
     "language": "python",
     "metadata": {},
     "outputs": [],
     "prompt_number": 56
    },
    {
     "cell_type": "code",
     "collapsed": false,
     "input": [
      "    data=np.load('npy/data.npy')\n",
      "    RVs=np.load('npy/RVs.npy')\n",
      "#     sigmas=np.load('npy/sigmas.npy')\n",
      "#     baryVels=np.load('npy/baryVels.npy')\n",
      "#     JDs=np.load('npy/JDs.npy')\n",
      "    SNRs = np.load('npy/SNRs.npy')\n"
     ],
     "language": "python",
     "metadata": {},
     "outputs": [],
     "prompt_number": 51
    },
    {
     "cell_type": "code",
     "collapsed": false,
     "input": [
      "pwd"
     ],
     "language": "python",
     "metadata": {},
     "outputs": [
      {
       "metadata": {},
       "output_type": "pyout",
       "prompt_number": 57,
       "text": [
        "u'/Users/Carlos/Documents/HERMES/reductions/47Tuc_core_6.2'"
       ]
      }
     ],
     "prompt_number": 57
    },
    {
     "cell_type": "code",
     "collapsed": false,
     "input": [
      "\n",
      "filehandler = open('obj/red_N104-S1084.obj', 'r')\n",
      "thisStar = pickle.load(filehandler)\n"
     ],
     "language": "python",
     "metadata": {},
     "outputs": [],
     "prompt_number": 58
    },
    {
     "cell_type": "code",
     "collapsed": false,
     "input": [
      "thisCam = thisStar.exposures.cameras[0]"
     ],
     "language": "python",
     "metadata": {},
     "outputs": [],
     "prompt_number": 60
    },
    {
     "cell_type": "heading",
     "level": 1,
     "metadata": {},
     "source": [
      "Bary tests\n"
     ]
    },
    {
     "cell_type": "code",
     "collapsed": false,
     "input": [
      "import toolbox as tb\n",
      "from PyAstronomy import pyasl\n",
      "\n"
     ],
     "language": "python",
     "metadata": {},
     "outputs": [],
     "prompt_number": 90
    },
    {
     "cell_type": "code",
     "collapsed": false,
     "input": [
      "MJD = 57131.84792 \n",
      "RA = tb.deg2rad(tb.sex2dec(0,24,05.67)*15) #47tuc in rad\n",
      "Dec = tb.deg2rad(-tb.sex2dec(72,4,52.6)) #47Tuc in rad"
     ],
     "language": "python",
     "metadata": {},
     "outputs": [],
     "prompt_number": 78
    },
    {
     "cell_type": "code",
     "collapsed": false,
     "input": [
      "RA, Dec"
     ],
     "language": "python",
     "metadata": {},
     "outputs": [
      {
       "metadata": {},
       "output_type": "pyout",
       "prompt_number": 79,
       "text": [
        "(0.10513208915544343, -1.2580556262668436)"
       ]
      }
     ],
     "prompt_number": 79
    },
    {
     "cell_type": "code",
     "collapsed": false,
     "input": [
      "MJDs = []\n",
      "RVs = []\n",
      "RV2s = []\n",
      "RV3s = []\n",
      "for i in np.arange(MJD-200, MJD+200):\n",
      "    vh, vb = tb.baryvel(i+2400000+0.5) \n",
      "    vh2, vb2 = pyasl.baryvel(i+2400000+0.5, deq = 0.0)\n",
      "    __, RV3 = pyasl.baryCorr(i+2400000+0.5,tb.rad2deg(RA), tb.rad2deg(Dec))\n",
      "    \n",
      "    RV = (vb[0]*np.cos(Dec)*np.cos(RA) + vb[1]*np.cos(Dec)*np.sin(RA) + vb[2]*np.sin(Dec))*1000\n",
      "    RV2 = (vb2[0]*np.cos(Dec)*np.cos(RA) + vb2[1]*np.cos(Dec)*np.sin(RA) + vb2[2]*np.sin(Dec))*1000\n",
      "    MJDs.append(i)\n",
      "    RVs.append(RV)\n",
      "    RV2s.append(RV2)\n",
      "    RV3s.append(RV3*1000)\n",
      "RVs = np.array(RVs)\n",
      "RV2s = np.array(RV2s)\n",
      "RV3s = np.array(RV3s)\n"
     ],
     "language": "python",
     "metadata": {},
     "outputs": [],
     "prompt_number": 119
    },
    {
     "cell_type": "code",
     "collapsed": false,
     "input": [
      "plt.plot(MJDs, RVs)\n",
      "plt.plot(MJDs, RV2s)\n",
      "plt.plot(MJDs, RV3s)\n",
      "plt.show()\n",
      "\n",
      "plt.plot(MJDs, RVs-RV2s, label = '1-2')\n",
      "plt.plot(MJDs, RV2s-RV3s, label = '2-3')\n",
      "plt.legend(loc=0)\n",
      "plt.show()\n",
      "\n"
     ],
     "language": "python",
     "metadata": {},
     "outputs": [],
     "prompt_number": 120
    },
    {
     "cell_type": "heading",
     "level": 1,
     "metadata": {},
     "source": [
      "plot app"
     ]
    },
    {
     "cell_type": "code",
     "collapsed": false,
     "input": [
      "import numpy as np\n",
      "import pylab as plt\n",
      "a = np.random.rand(10)\n",
      "b = np.random.rand(10)\n",
      "c = np.random.rand(10)\n",
      "plt.scatter(a,b)\n",
      "plt.show()\n",
      "fig = plt.figure()\n",
      "ax1 = fig.add_subplot(111)\n",
      "ax1.set_title('custom picker for line data')\n",
      "line, = ax1.plot(a, b, 'o', picker=5)\n",
      "fig.canvas.mpl_connect('pick_event', onpick2)\n",
      "\n",
      "\n",
      "def onpick2():\n",
      "    a=2\n",
      "    print a"
     ],
     "language": "python",
     "metadata": {},
     "outputs": [],
     "prompt_number": 47
    },
    {
     "cell_type": "code",
     "collapsed": false,
     "input": [
      "def aaa():\n",
      "    xxx = 'sdd'\n",
      "    print 'asdasd'\n",
      "    return xxx"
     ],
     "language": "python",
     "metadata": {},
     "outputs": [
      {
       "ename": "SyntaxError",
       "evalue": "invalid syntax (<ipython-input-69-236a9c315ff3>, line 3)",
       "output_type": "pyerr",
       "traceback": [
        "\u001b[0;36m  File \u001b[0;32m\"<ipython-input-69-236a9c315ff3>\"\u001b[0;36m, line \u001b[0;32m3\u001b[0m\n\u001b[0;31m    print 'asdasd'\u001b[0m\n\u001b[0m                 ^\u001b[0m\n\u001b[0;31mSyntaxError\u001b[0m\u001b[0;31m:\u001b[0m invalid syntax\n"
       ]
      }
     ],
     "prompt_number": 69
    },
    {
     "cell_type": "code",
     "collapsed": false,
     "input": [
      "def test():\n",
      "    print 'adasd'"
     ],
     "language": "python",
     "metadata": {},
     "outputs": [
      {
       "ename": "SyntaxError",
       "evalue": "invalid syntax (<ipython-input-70-85c49f70840c>, line 2)",
       "output_type": "pyerr",
       "traceback": [
        "\u001b[0;36m  File \u001b[0;32m\"<ipython-input-70-85c49f70840c>\"\u001b[0;36m, line \u001b[0;32m2\u001b[0m\n\u001b[0;31m    print 'adasd'\u001b[0m\n\u001b[0m                ^\u001b[0m\n\u001b[0;31mSyntaxError\u001b[0m\u001b[0;31m:\u001b[0m invalid syntax\n"
       ]
      }
     ],
     "prompt_number": 70
    },
    {
     "cell_type": "code",
     "collapsed": false,
     "input": [],
     "language": "python",
     "metadata": {},
     "outputs": [],
     "prompt_number": 2
    },
    {
     "cell_type": "code",
     "collapsed": false,
     "input": [],
     "language": "python",
     "metadata": {},
     "outputs": [
      {
       "output_type": "stream",
       "stream": "stdout",
       "text": [
        "/Users/Carlos/Documents/HERMES/reductions\n"
       ]
      }
     ],
     "prompt_number": 26
    },
    {
     "cell_type": "code",
     "collapsed": false,
     "input": [],
     "language": "python",
     "metadata": {},
     "outputs": [],
     "prompt_number": 12
    },
    {
     "cell_type": "code",
     "collapsed": false,
     "input": [
      "import glob\n",
      "import numpy as np\n",
      "import os\n",
      "\n",
      "os.chdir('/Users/Carlos/Documents/HERMES/reductions/')\n",
      "a = glob.glob('*')\n",
      "for i in a:\n",
      "    if i!='HD1581_6.0':\n",
      "        print i,\n",
      "        b = np.load(i+'/npy/data.npy')\n",
      "        print b.shape[0]"
     ],
     "language": "python",
     "metadata": {},
     "outputs": [
      {
       "output_type": "stream",
       "stream": "stdout",
       "text": [
        "47Tuc_core_1arc_6.2 "
       ]
      },
      {
       "output_type": "stream",
       "stream": "stdout",
       "text": [
        "110\n",
        "47Tuc_core_6.2 "
       ]
      },
      {
       "output_type": "stream",
       "stream": "stdout",
       "text": [
        "110\n",
        "HD1581_1arc_6.2 "
       ]
      },
      {
       "output_type": "stream",
       "stream": "stdout",
       "text": [
        "1\n",
        "HD1581_6.2 1\n",
        "HD285507_1arc_6.2 "
       ]
      },
      {
       "output_type": "stream",
       "stream": "stdout",
       "text": [
        "74\n",
        "HD285507_6.2 74\n",
        "m67_1arc_6.2 "
       ]
      },
      {
       "output_type": "stream",
       "stream": "stdout",
       "text": [
        "292\n",
        "m67_6.2 292\n",
        "NGC2477_1arc_6.2 "
       ]
      },
      {
       "output_type": "stream",
       "stream": "stdout",
       "text": [
        "448\n",
        "NGC2477_6.2 448\n",
        "rhoTuc_1arc_6.2"
       ]
      },
      {
       "ename": "IOError",
       "evalue": "[Errno 2] No such file or directory: 'rhoTuc_1arc_6.2/npy/data.npy'",
       "output_type": "pyerr",
       "traceback": [
        "\u001b[0;31m---------------------------------------------------------------------------\u001b[0m\n\u001b[0;31mIOError\u001b[0m                                   Traceback (most recent call last)",
        "\u001b[0;32m<ipython-input-3-6d864f632572>\u001b[0m in \u001b[0;36m<module>\u001b[0;34m()\u001b[0m\n\u001b[1;32m      8\u001b[0m     \u001b[0;32mif\u001b[0m \u001b[0mi\u001b[0m\u001b[0;34m!=\u001b[0m\u001b[0;34m'HD1581_6.0'\u001b[0m\u001b[0;34m:\u001b[0m\u001b[0;34m\u001b[0m\u001b[0m\n\u001b[1;32m      9\u001b[0m         \u001b[0;32mprint\u001b[0m \u001b[0mi\u001b[0m\u001b[0;34m,\u001b[0m\u001b[0;34m\u001b[0m\u001b[0m\n\u001b[0;32m---> 10\u001b[0;31m         \u001b[0mb\u001b[0m \u001b[0;34m=\u001b[0m \u001b[0mnp\u001b[0m\u001b[0;34m.\u001b[0m\u001b[0mload\u001b[0m\u001b[0;34m(\u001b[0m\u001b[0mi\u001b[0m\u001b[0;34m+\u001b[0m\u001b[0;34m'/npy/data.npy'\u001b[0m\u001b[0;34m)\u001b[0m\u001b[0;34m\u001b[0m\u001b[0m\n\u001b[0m\u001b[1;32m     11\u001b[0m         \u001b[0;32mprint\u001b[0m \u001b[0mb\u001b[0m\u001b[0;34m.\u001b[0m\u001b[0mshape\u001b[0m\u001b[0;34m[\u001b[0m\u001b[0;36m0\u001b[0m\u001b[0;34m]\u001b[0m\u001b[0;34m\u001b[0m\u001b[0m\n",
        "\u001b[0;32m/Users/Carlos/Library/Enthought/Canopy_64bit/User/lib/python2.7/site-packages/numpy-1.8.1-py2.7-macosx-10.6-x86_64.egg/numpy/lib/npyio.pyc\u001b[0m in \u001b[0;36mload\u001b[0;34m(file, mmap_mode)\u001b[0m\n\u001b[1;32m    368\u001b[0m     \u001b[0mown_fid\u001b[0m \u001b[0;34m=\u001b[0m \u001b[0mFalse\u001b[0m\u001b[0;34m\u001b[0m\u001b[0m\n\u001b[1;32m    369\u001b[0m     \u001b[0;32mif\u001b[0m \u001b[0misinstance\u001b[0m\u001b[0;34m(\u001b[0m\u001b[0mfile\u001b[0m\u001b[0;34m,\u001b[0m \u001b[0mbasestring\u001b[0m\u001b[0;34m)\u001b[0m\u001b[0;34m:\u001b[0m\u001b[0;34m\u001b[0m\u001b[0m\n\u001b[0;32m--> 370\u001b[0;31m         \u001b[0mfid\u001b[0m \u001b[0;34m=\u001b[0m \u001b[0mopen\u001b[0m\u001b[0;34m(\u001b[0m\u001b[0mfile\u001b[0m\u001b[0;34m,\u001b[0m \u001b[0;34m\"rb\"\u001b[0m\u001b[0;34m)\u001b[0m\u001b[0;34m\u001b[0m\u001b[0m\n\u001b[0m\u001b[1;32m    371\u001b[0m         \u001b[0mown_fid\u001b[0m \u001b[0;34m=\u001b[0m \u001b[0mTrue\u001b[0m\u001b[0;34m\u001b[0m\u001b[0m\n\u001b[1;32m    372\u001b[0m     \u001b[0;32melif\u001b[0m \u001b[0misinstance\u001b[0m\u001b[0;34m(\u001b[0m\u001b[0mfile\u001b[0m\u001b[0;34m,\u001b[0m \u001b[0mgzip\u001b[0m\u001b[0;34m.\u001b[0m\u001b[0mGzipFile\u001b[0m\u001b[0;34m)\u001b[0m\u001b[0;34m:\u001b[0m\u001b[0;34m\u001b[0m\u001b[0m\n",
        "\u001b[0;31mIOError\u001b[0m: [Errno 2] No such file or directory: 'rhoTuc_1arc_6.2/npy/data.npy'"
       ]
      }
     ],
     "prompt_number": 3
    },
    {
     "cell_type": "code",
     "collapsed": false,
     "input": [
      "data"
     ],
     "language": "python",
     "metadata": {},
     "outputs": [
      {
       "metadata": {},
       "output_type": "pyout",
       "prompt_number": 8,
       "text": [
        "array([['Field02', '7.37', '128.0', '61.68875', '15.2102222222'],\n",
        "       ['Field03', '8.23', '163.0', '61.5841666667', '15.2324722222'],\n",
        "       ['Field04', '6.55', '292.0', '61.73125', '15.5528611111'],\n",
        "       ['Field05', '5.03', '47.0', '61.925', '15.1627222222'],\n",
        "       ['Field06', '6.02', '137.0', '61.6058333333', '15.1266944444'],\n",
        "       ['Field07', '6.81', '234.0', '61.4808333333', '15.4989722222'],\n",
        "       ['Field08', '7.56', '74.0', '61.8925', '14.9866944444'],\n",
        "       ['Field09', '6.45', '270.0', '61.5670833333', '15.6981111111'],\n",
        "       ['Field11', '8.56', '104.0', '61.6966666667', '14.8656944444'],\n",
        "       ['Field12', '7.51', '283.0', '61.6195833333', '15.8215277778'],\n",
        "       ['Field13', '4.82', '245.0', '61.3508333333', '15.68525'],\n",
        "       ['Field14', '8.9', '226.0', '61.2616666667', '15.5628888889'],\n",
        "       ['Field15', '7.99', '148.0', '61.35125', '14.9353611111'],\n",
        "       ['Field16', '4.81', '55.0', '62.1195833333', '14.8940833333'],\n",
        "       ['Field17', '8.91', '272.0', '61.4945833333', '15.9019444444'],\n",
        "       ['Field18', '4.38', '257.0', '61.36', '15.8304722222'],\n",
        "       ['Field19', '6.56', '316.0', '61.9583333333', '16.0199166667'],\n",
        "       ['Field21', '8.28', '185.0', '61.0075', '15.1772222222'],\n",
        "       ['Field22', '8.87', '0.0', '62.0508333333', '16.0182222222'],\n",
        "       ['Field23', '5.2', '172.0', '61.0541666667', '15.0268888889'],\n",
        "       ['Field24', '4.14', '61.0', '62.1975', '14.7010555556'],\n",
        "       ['Field25', '7.91', '191.0', '60.9133333333', '15.2368611111'],\n",
        "       ['Field27', '8.88', '282.0', '61.5258333333', '16.1433888889'],\n",
        "       ['Field28', '8.03', '77.0', '62.0675', '14.5516388889'],\n",
        "       ['Field30', '8.98', '286.0', '61.5745833333', '16.1838333333'],\n",
        "       ['Field31', '8.11', '357.0', '62.4845833333', '15.8681666667'],\n",
        "       ['Field32', '6.24', '6.0', '62.6704166667', '15.2370555556'],\n",
        "       ['Field33', '5.38', '330.0', '62.1875', '16.1231388889'],\n",
        "       ['Field34', '8.41', '66.0', '62.2195833333', '14.5467222222'],\n",
        "       ['Field35', '8.77', '356.0', '62.5095833333', '15.9136111111'],\n",
        "       ['Field36', '5.99', '109.0', '61.5954166667', '14.4021944444'],\n",
        "       ['Field37', '5.79', '323.0', '62.1370833333', '16.2338888889'],\n",
        "       ['Field38', '7.73', '106.0', '61.6375', '14.3695'],\n",
        "       ['Field39', '7.99', '105.0', '61.6483333333', '14.3666666666'],\n",
        "       ['Field40', '8.35', '184.0', '60.7675', '15.1020555556'],\n",
        "       ['Field41', '8.94', '337.0', '62.3358333333', '16.1591666667'],\n",
        "       ['Field42', '7.28', '354.0', '62.5466666667', '15.9771944444'],\n",
        "       ['Giant01', '7.67', '223.0', '61.755', '15.3350555556'],\n",
        "       ['Giant02', '6.44', '52.0', '61.8854166667', '15.1958333333'],\n",
        "       ['Giant03', '8.96', '113.0', '61.7254166667', '15.1414722222'],\n",
        "       ['Giant04', '8.05', '230.0', '61.535', '15.4393611111'],\n",
        "       ['Giant05', '6.5', '229.0', '61.3945833333', '15.5036944444'],\n",
        "       ['Giant06', '8.77', '253.0', '61.4858333333', '15.6325'],\n",
        "       ['Giant08', '8.97', '30.0', '62.18625', '15.1133055556'],\n",
        "       ['Giant09', '5.38', '256.0', '61.4266666667', '15.7380555556'],\n",
        "       ['Giant10', '7.03', '78.0', '61.9258333333', '14.8428611111'],\n",
        "       ['Giant11', '7.47', '320.0', '61.9291666667', '15.8441388889'],\n",
        "       ['Giant12', '7.36', '14.0', '62.3204166667', '15.2008611111'],\n",
        "       ['Giant13', '6.42', '90.0', '61.8366666667', '14.7395555556'],\n",
        "       ['Giant14', '8.67', '216.0', '61.145', '15.4934722222'],\n",
        "       ['Giant15', '8.93', '298.0', '61.7641666667', '15.9862777778'],\n",
        "       ['Giant16', '8.99', '13.0', '62.42875', '15.1821388889'],\n",
        "       ['Giant17', '8.8', '242.0', '61.2008333333', '15.7613611111'],\n",
        "       ['Giant18', '8.85', '123.0', '61.4875', '14.6949722222'],\n",
        "       ['Giant19', '6.12', '319.0', '62.0325', '16.02475'],\n",
        "       ['Giant20', '8.09', '366.0', '62.4545833333', '15.7201111111'],\n",
        "       ['Giant21', '7.09', '322.0', '62.0483333333', '16.0580277778'],\n",
        "       ['Giant22', '8.46', '299.0', '61.7708333333', '16.1327222222'],\n",
        "       ['Giant23', '7.04', '341.0', '62.2641666667', '15.9649166667'],\n",
        "       ['Giant24', '6.54', '117.0', '61.5145833333', '14.5554166667'],\n",
        "       ['Giant25', '7.77', '207.0', '60.9020833333', '15.4362222222'],\n",
        "       ['Giant26', '8.83', '169.0', '60.975', '14.9493055556'],\n",
        "       ['Giant27', '7.88', '178.0', '60.92', '15.05325'],\n",
        "       ['Giant28', '8.4', '16.0', '62.6095833333', '15.1044722222'],\n",
        "       ['Giant29', '8.3', '122.0', '61.4320833333', '14.5306944444'],\n",
        "       ['Giant30', '8.91', '220.0', '60.8920833333', '15.6041111111'],\n",
        "       ['Giant31', '8.96', '160.0', '60.995', '14.8089166667'],\n",
        "       ['Giant32', '8.75', '268.0', '61.3116666667', '16.1536111111'],\n",
        "       ['Giant33', '8.32', '112.0', '61.5558333333', '14.4238888889'],\n",
        "       ['Giant34', '8.11', '237.0', '60.9516666667', '15.8575833333'],\n",
        "       ['Giant35', '8.1', '3.0', '62.7275', '15.2627222222'],\n",
        "       ['Giant36', '6.64', '75.0', '62.1075', '14.4573055556'],\n",
        "       ['Giant37', '8.26', '219.0', '60.8041666667', '15.6249444444'],\n",
        "       ['Giant38', '8.58', '164.0', '60.8841666667', '14.8275']], \n",
        "      dtype='|S13')"
       ]
      }
     ],
     "prompt_number": 8
    },
    {
     "cell_type": "code",
     "collapsed": false,
     "input": [
      "cd HD285507_1arc_6.2/"
     ],
     "language": "python",
     "metadata": {},
     "outputs": [
      {
       "output_type": "stream",
       "stream": "stdout",
       "text": [
        "[Errno 2] No such file or directory: 'HD285507_1arc_6.2/'\n",
        "/Users/Carlos/Documents/ipn\n"
       ]
      }
     ],
     "prompt_number": 3
    },
    {
     "cell_type": "code",
     "collapsed": false,
     "input": [
      "cd HERMES/reductions/HD285507_1arc_6.2/"
     ],
     "language": "python",
     "metadata": {},
     "outputs": [
      {
       "output_type": "stream",
       "stream": "stdout",
       "text": [
        "/Users/Carlos/Documents/HERMES/reductions/HD285507_1arc_6.2\n"
       ]
      }
     ],
     "prompt_number": 6
    },
    {
     "cell_type": "code",
     "collapsed": false,
     "input": [
      "import glob\n",
      "import numpy as np\n",
      "import os\n",
      "data=np.load('npy/data.npy')\n",
      "RVs=np.load('npy/RVs.npy')\n",
      "SNRs=np.load('npy/SNRs.npy')"
     ],
     "language": "python",
     "metadata": {},
     "outputs": [],
     "prompt_number": 183
    },
    {
     "cell_type": "code",
     "collapsed": false,
     "input": [
      "RVs.shape\n",
      "W = np.zeros(np.hstack((RVs.shape, RVs.shape[0])))\n",
      "for thisStarIdx in range(RVs.shape[0]):\n",
      "    W1 = np.ones(RVs.shape)/(RVs.shape[0]-1)\n",
      "    W1[thisStarIdx,:,:]=0\n",
      "    W[:,:,:,thisStarIdx]=W1\n",
      "    \n"
     ],
     "language": "python",
     "metadata": {},
     "outputs": [
      {
       "metadata": {},
       "output_type": "pyout",
       "prompt_number": 124,
       "text": [
        "-0.22778767217498311"
       ]
      }
     ],
     "prompt_number": 124
    },
    {
     "cell_type": "code",
     "collapsed": false,
     "input": [
      "data[thisStarIdx,2].astype(float).astype(int)"
     ],
     "language": "python",
     "metadata": {},
     "outputs": [
      {
       "metadata": {},
       "output_type": "pyout",
       "prompt_number": 162,
       "text": [
        "128"
       ]
      }
     ],
     "prompt_number": 162
    },
    {
     "cell_type": "code",
     "collapsed": false,
     "input": [
      "import RVTools as RVT\n",
      "reload(RVT)\n",
      "import pylab as plt\n",
      "import pandas as pd"
     ],
     "language": "python",
     "metadata": {},
     "outputs": [],
     "prompt_number": 162
    },
    {
     "cell_type": "code",
     "collapsed": false,
     "input": [
      "data=np.load('npy/data.npy')\n",
      "RVs=np.load('npy/RVs.npy')\n",
      "SNRs=np.load('npy/SNRs.npy')\n"
     ],
     "language": "python",
     "metadata": {},
     "outputs": [],
     "prompt_number": 210
    },
    {
     "cell_type": "code",
     "collapsed": false,
     "input": [
      "# SNRs[:,:,0][SNRs[:,:,0]<1]\n",
      "SNRs[np.isnan(SNRs)]=0\n",
      "SNRs+=1e-17\n",
      "create_allW(data,SNRs)"
     ],
     "language": "python",
     "metadata": {},
     "outputs": [
      {
       "ename": "KeyboardInterrupt",
       "evalue": "",
       "output_type": "pyerr",
       "traceback": [
        "\u001b[0;31m---------------------------------------------------------------------------\u001b[0m\n\u001b[0;31mKeyboardInterrupt\u001b[0m                         Traceback (most recent call last)",
        "\u001b[0;32m/opt/local/Library/Frameworks/Python.framework/Versions/2.7/lib/python2.7/site-packages/matplotlib/backends/backend_macosx.pyc\u001b[0m in \u001b[0;36mclose\u001b[0;34m(self)\u001b[0m\n\u001b[1;32m    381\u001b[0m \u001b[0;34m\u001b[0m\u001b[0m\n\u001b[1;32m    382\u001b[0m     \u001b[0;32mdef\u001b[0m \u001b[0mclose\u001b[0m\u001b[0;34m(\u001b[0m\u001b[0mself\u001b[0m\u001b[0;34m)\u001b[0m\u001b[0;34m:\u001b[0m\u001b[0;34m\u001b[0m\u001b[0m\n\u001b[0;32m--> 383\u001b[0;31m         \u001b[0mGcf\u001b[0m\u001b[0;34m.\u001b[0m\u001b[0mdestroy\u001b[0m\u001b[0;34m(\u001b[0m\u001b[0mself\u001b[0m\u001b[0;34m.\u001b[0m\u001b[0mnum\u001b[0m\u001b[0;34m)\u001b[0m\u001b[0;34m\u001b[0m\u001b[0m\n\u001b[0m\u001b[1;32m    384\u001b[0m \u001b[0;34m\u001b[0m\u001b[0m\n\u001b[1;32m    385\u001b[0m \u001b[0;34m\u001b[0m\u001b[0m\n",
        "\u001b[0;32m/opt/local/Library/Frameworks/Python.framework/Versions/2.7/lib/python2.7/site-packages/matplotlib/_pylab_helpers.pyc\u001b[0m in \u001b[0;36mdestroy\u001b[0;34m(num)\u001b[0m\n\u001b[1;32m     68\u001b[0m         \u001b[0;31m#print len(Gcf.figs.keys()), len(Gcf._activeQue)\u001b[0m\u001b[0;34m\u001b[0m\u001b[0;34m\u001b[0m\u001b[0m\n\u001b[1;32m     69\u001b[0m         \u001b[0mmanager\u001b[0m\u001b[0;34m.\u001b[0m\u001b[0mdestroy\u001b[0m\u001b[0;34m(\u001b[0m\u001b[0;34m)\u001b[0m\u001b[0;34m\u001b[0m\u001b[0m\n\u001b[0;32m---> 70\u001b[0;31m         \u001b[0mgc\u001b[0m\u001b[0;34m.\u001b[0m\u001b[0mcollect\u001b[0m\u001b[0;34m(\u001b[0m\u001b[0;34m)\u001b[0m\u001b[0;34m\u001b[0m\u001b[0m\n\u001b[0m\u001b[1;32m     71\u001b[0m \u001b[0;34m\u001b[0m\u001b[0m\n\u001b[1;32m     72\u001b[0m     \u001b[0;34m@\u001b[0m\u001b[0mstaticmethod\u001b[0m\u001b[0;34m\u001b[0m\u001b[0m\n",
        "\u001b[0;31mKeyboardInterrupt\u001b[0m: "
       ]
      }
     ]
    },
    {
     "cell_type": "code",
     "collapsed": false,
     "input": [
      "import numpy as np\n",
      "import pylab as plt"
     ],
     "language": "python",
     "metadata": {},
     "outputs": [],
     "prompt_number": 1
    },
    {
     "cell_type": "code",
     "collapsed": false,
     "input": [
      "cd /Users/Carlos/Documents/HERMES/reductions/6.2/HD285507_1arc_6.2/"
     ],
     "language": "python",
     "metadata": {},
     "outputs": [
      {
       "output_type": "stream",
       "stream": "stdout",
       "text": [
        "/Users/Carlos/Documents/HERMES/reductions/6.2/HD285507_1arc_6.2\n"
       ]
      }
     ],
     "prompt_number": 5
    },
    {
     "cell_type": "code",
     "collapsed": false,
     "input": [
      "allW = np.load('npy/allW_DM.npy')\n",
      "allW[0,:,0][0]"
     ],
     "language": "python",
     "metadata": {},
     "outputs": [
      {
       "metadata": {},
       "output_type": "pyout",
       "prompt_number": 19,
       "text": [
        "0.0"
       ]
      }
     ],
     "prompt_number": 19
    },
    {
     "cell_type": "code",
     "collapsed": false,
     "input": [
      "\n",
      "# deltay = np.linspace(0, 4000)\n",
      "# deltay = np.linspace(-2000, 2000)\n",
      "# deltay = np.linspace(-4000, 0)\n",
      "# SNRs = np.ones(50)*30\n",
      "# SNRs = np.linspace(10, 100)\n",
      "# SNRs = np.linspace(100, 10)\n",
      "# W = calibrator_weights2(deltay,SNRs)\n",
      "\n",
      "data=np.load('npy/data.npy')\n",
      "# RVs=np.load('npy/RVs.npy')\n",
      "SNRs=np.load('npy/SNRs.npy')\n",
      "allW = np.load('npy/allW_PM.npy')\n",
      "idx = np.where(data[:,0]=='Giant01')[0]\n",
      "for cam in range(4):\n",
      "    W = allW[:,cam,idx]\n",
      "\n",
      "    thisSNRs = SNRs[:,0,cam]\n",
      "\n",
      "#     plt.plot(deltay/np.max(np.abs(deltay)), label = 'deltay')\n",
      "    plt.plot(thisSNRs, label= 'SNR')\n",
      "    plt.plot(W*np.nanmax(thisSNRs), label = 'W')\n",
      "    plt.legend(loc=0)\n",
      "    # title = 'PM - deltay '+str(np.min(deltay))+','+str(np.max(deltay))+' - SNR '+str(np.min(SNRs))+','+str(np.max(SNRs))\n",
      "#     title = 'DM - deltay '+str(np.min(deltay))+','+str(np.max(deltay))+' - SNR '+str(np.min(SNRs))+','+str(np.max(SNRs))\n",
      "    title = 'PM - cam '+str(cam)+ ' ,' + str(data[idx])\n",
      "    plt.title(title)\n",
      "    plt.grid(True)\n",
      "    plt.savefig(('PM_'+str(cam)))\n",
      "    plt.show()\n"
     ],
     "language": "python",
     "metadata": {},
     "outputs": [],
     "prompt_number": 28
    },
    {
     "cell_type": "code",
     "collapsed": false,
     "input": [
      "import numpy as np"
     ],
     "language": "python",
     "metadata": {},
     "outputs": [],
     "prompt_number": 29
    },
    {
     "cell_type": "code",
     "collapsed": false,
     "input": [
      "def create_allW(data = [], SNRs = []):\n",
      "\n",
      "    if ((data!=[]) and (SNRs!=[])):\n",
      "\n",
      "        #load function that translates pivot# to y-pixel  p2y(pivot)=y-pixel of pivot\n",
      "        p2y = RVT.pivot_to_y('/Users/Carlos/Documents/HERMES/reductions/6.2//rhoTuc_6.2/0_20aug/1/20aug10042tlm.fits') \n",
      "\n",
      "        #gets the y position of for the data array\n",
      "        datay = p2y[data[:,2].astype(float).astype(int)]\n",
      "\n",
      "        #Creates empty array for relative weights\n",
      "        #allW[Weights, camera, staridx of the star to be corrected]\n",
      "        allW = np.zeros((data.shape[0],4,data.shape[0]))\n",
      "\n",
      "        for thisStarIdx in range(data.shape[0]):\n",
      "\n",
      "            #converts datay into deltay\n",
      "            deltay = datay-datay[thisStarIdx]\n",
      "            for cam in range(2):\n",
      "\n",
      "                thisSNRs = SNRs[:,0,cam].copy()\n",
      "                thisSNRs[np.isnan(thisSNRs)]=1  #sets NaNs into SNR=1 \n",
      "\n",
      "                W = calibrator_weights(deltay,thisSNRs)\n",
      "                allW[:,cam,thisStarIdx] = W\n",
      "\n",
      "                order = np.argsort(deltay)\n",
      "                plt.plot(deltay[order], label = 'deltay')\n",
      "                plt.plot(thisSNRs[order], label= 'SNR')\n",
      "                plt.plot((W*np.max(deltay))[order], label = 'W')\n",
      "                plt.legend(loc=0)\n",
      "                plt.show()\n",
      "\n",
      "        # a= pd.DataFrame(deltay)\n",
      "        # # a.columns = labels\n",
      "        # print a.head(n=40)\n",
      "        # print W, np.sum(W)\n",
      "    else:\n",
      "        print 'Create allW: Input arrays missing'\n",
      "        allW =[]\n",
      "\n",
      "    return allW"
     ],
     "language": "python",
     "metadata": {},
     "outputs": [],
     "prompt_number": 225
    },
    {
     "cell_type": "code",
     "collapsed": false,
     "input": [
      "def create_RVCorr(RVs, allW, RVClip = 1e17):\n",
      "    RVCorr = np.zeros(RVs.shape)\n",
      "    RVs[np.abs(RVs)>RVClip]=0\n",
      "    for thisStarIdx in range(data.shape[0]):\n",
      "        for epoch in range(RVs.shape[1]):\n",
      "            for cam in range(4):\n",
      "                RVCorr[thisStarIdx,epoch,cam] = np.nansum(allW[:,cam,thisStarIdx]*RVs[:,epoch,cam])\n",
      "    return RVCorr"
     ],
     "language": "python",
     "metadata": {},
     "outputs": [],
     "prompt_number": 196
    },
    {
     "cell_type": "code",
     "collapsed": false,
     "input": [
      "# for i in range(40):\n",
      "i=37\n",
      "plt.plot(RVs[i,:,0], label = 'RV')\n",
      "plt.plot(RV_corr[i,:,0], label = 'Correction')\n",
      "plt.plot(RVs[i,:,0]-RV_corr[i,:,0], label = 'Result', marker = 'o')\n",
      "plt.legend(loc=0)\n",
      "plt.show()"
     ],
     "language": "python",
     "metadata": {},
     "outputs": [],
     "prompt_number": 207
    },
    {
     "cell_type": "code",
     "collapsed": false,
     "input": [
      "np.where(data[:,0]=='Giant01')"
     ],
     "language": "python",
     "metadata": {},
     "outputs": [
      {
       "metadata": {},
       "output_type": "pyout",
       "prompt_number": 200,
       "text": [
        "(array([37]),)"
       ]
      }
     ],
     "prompt_number": 200
    },
    {
     "cell_type": "code",
     "collapsed": false,
     "input": [
      "for epoch in range(RVs.shape[1]):\n",
      "    print np.sum(RVs[:,epoch,1])/RVs.shape[1]"
     ],
     "language": "python",
     "metadata": {},
     "outputs": [
      {
       "output_type": "stream",
       "stream": "stdout",
       "text": [
        "-0.539946278749\n",
        "-3.45524326526\n",
        "-932.980489985\n",
        "4242.00323325\n",
        "-223327.75829\n",
        "-76907.1607644\n",
        "107062.025807\n",
        "6352.94843317\n",
        "-19305.4846315\n",
        "331195.393808\n",
        "184005.166116\n",
        "-20684.5254525\n",
        "808035.415234\n",
        "-958768.334962\n",
        "425478.015827\n"
       ]
      }
     ],
     "prompt_number": 30
    },
    {
     "cell_type": "code",
     "collapsed": false,
     "input": [
      "def create_corrRVs(RVs,W):\n",
      "#Creates corrRVs with RV corrections for each RV. \n",
      "#has the same shape than RVs and W\n",
      "#RVs-corrRVs = trueRVs (values without systematics)\n",
      "\n",
      "    corrRVs = np.ones(RVs.shape)*np.nan\n",
      "    \n",
      "    #1 - loop retarded method. should be array operation.\n",
      "    \n",
      "    #check shape\n",
      "    if ((RVs.shape==W.shape[:3]) and (len(W.shape)==4) and (RVs.shape[0]==W.shape[3])):\n",
      "        for thisStaridx in range(RVs.shape[0]):\n",
      "            for epoch in range(RVs.shape[1]):\n",
      "                for cam in range(RVs.shape[2]):\n",
      "                    corrRVs[thisStaridx,epoch,cam] = np.sum(RVs[:,epoch,cam]*W[:,epoch,cam,thisStaridx])\n",
      "                \n",
      "    else:\n",
      "        print 'Bad array shape.'\n",
      "        print 'RVs=', RVs.shape\n",
      "        print 'W=', W.shape\n",
      "        \n",
      "    return corrRVs"
     ],
     "language": "python",
     "metadata": {},
     "outputs": [],
     "prompt_number": 151
    },
    {
     "cell_type": "heading",
     "level": 3,
     "metadata": {},
     "source": [
      "Solar Spectrum"
     ]
    },
    {
     "cell_type": "code",
     "collapsed": false,
     "input": [
      "import pyfits as pf\n",
      "import pylab as plt\n",
      "import RVTools as RVT\n",
      "\n",
      "fileList = glob.glob('cam1/*.fits')\n",
      "b=[]\n",
      "wl = RVT.extract_HERMES_wavelength(fileList[0])\n",
      "#build fibre filter\n",
      "a = pf.open(fileList[0])\n",
      "filt = np.logical_or((a['FIBRES'].data['TYPE']=='P'),(a['FIBRES'].data['TYPE']=='S'))\n",
      "filt[175]=False\n",
      "\n",
      "plt.plot(wl,np.sum(a[0].data[filt], axis=0))\n",
      "plt.show()\n",
      "\n",
      "\n",
      "\n",
      "# for fits in fileList[:]:\n",
      "#     print 'Reading',fits\n",
      "#     a = pf.getdata(fits)\n",
      "#     if b==[]:\n",
      "#         b =a\n",
      "#     else:\n",
      "#         b+=a\n",
      "\n"
     ],
     "language": "python",
     "metadata": {},
     "outputs": [],
     "prompt_number": 88
    },
    {
     "cell_type": "code",
     "collapsed": false,
     "input": [],
     "language": "python",
     "metadata": {},
     "outputs": []
    }
   ],
   "metadata": {}
  }
 ]
}