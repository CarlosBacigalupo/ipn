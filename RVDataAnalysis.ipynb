{
 "metadata": {
  "name": "",
  "signature": "sha256:1791949722da86da83a4163643c879ac9f5fe6e4ea039b26da5838e70d3d00dc"
 },
 "nbformat": 3,
 "nbformat_minor": 0,
 "worksheets": [
  {
   "cells": [
    {
     "cell_type": "code",
     "collapsed": false,
     "input": [
      "import numpy as np\n",
      "import pandas as pd"
     ],
     "language": "python",
     "metadata": {},
     "outputs": [],
     "prompt_number": 101
    },
    {
     "cell_type": "code",
     "collapsed": false,
     "input": [
      "cd ~/Documents/HERMES/reductions/47Tuc_core_6.2/"
     ],
     "language": "python",
     "metadata": {},
     "outputs": [
      {
       "output_type": "stream",
       "stream": "stdout",
       "text": [
        "/Users/Carlos/Documents/HERMES/reductions/47Tuc_core_6.2\n"
       ]
      }
     ],
     "prompt_number": 185
    },
    {
     "cell_type": "code",
     "collapsed": false,
     "input": [
      "cd ~/Documents/HERMES/reductions/47Tuc_core_1arc_6.2/"
     ],
     "language": "python",
     "metadata": {},
     "outputs": [
      {
       "output_type": "stream",
       "stream": "stdout",
       "text": [
        "/Users/Carlos/Documents/HERMES/reductions/47Tuc_core_1arc_6.2\n"
       ]
      }
     ],
     "prompt_number": 137
    },
    {
     "cell_type": "code",
     "collapsed": false,
     "input": [
      "cd ~/Documents/HERMES/reductions/HD285507_6.2/"
     ],
     "language": "python",
     "metadata": {},
     "outputs": [
      {
       "output_type": "stream",
       "stream": "stdout",
       "text": [
        "/Users/Carlos/Documents/HERMES/reductions/HD285507_6.2\n"
       ]
      }
     ],
     "prompt_number": 138
    },
    {
     "cell_type": "code",
     "collapsed": false,
     "input": [
      "cd ~/Documents/HERMES/reductions/HD285507_1arc_6.2/"
     ],
     "language": "python",
     "metadata": {},
     "outputs": [
      {
       "output_type": "stream",
       "stream": "stdout",
       "text": [
        "/Users/Carlos/Documents/HERMES/reductions/HD285507_1arc_6.2\n"
       ]
      }
     ],
     "prompt_number": 147
    },
    {
     "cell_type": "code",
     "collapsed": false,
     "input": [
      "cd ~/Documents/HERMES/reductions/m67_6.2/"
     ],
     "language": "python",
     "metadata": {},
     "outputs": [
      {
       "output_type": "stream",
       "stream": "stdout",
       "text": [
        "/Users/Carlos/Documents/HERMES/reductions/m67_6.2\n"
       ]
      }
     ],
     "prompt_number": 154
    },
    {
     "cell_type": "code",
     "collapsed": false,
     "input": [
      "cd ~/Documents/HERMES/reductions/m67_1arc_6.2/"
     ],
     "language": "python",
     "metadata": {},
     "outputs": [
      {
       "output_type": "stream",
       "stream": "stdout",
       "text": [
        "/Users/Carlos/Documents/HERMES/reductions/m67_1arc_6.2\n"
       ]
      }
     ],
     "prompt_number": 161
    },
    {
     "cell_type": "code",
     "collapsed": false,
     "input": [
      "cd ~/Documents/HERMES/reductions/NGC2477_6.2/"
     ],
     "language": "python",
     "metadata": {},
     "outputs": [
      {
       "output_type": "stream",
       "stream": "stdout",
       "text": [
        "/Users/Carlos/Documents/HERMES/reductions/NGC2477_6.2\n"
       ]
      }
     ],
     "prompt_number": 168
    },
    {
     "cell_type": "code",
     "collapsed": false,
     "input": [
      "cd ~/Documents/HERMES/reductions/NGC2477_1arc_6.2/"
     ],
     "language": "python",
     "metadata": {},
     "outputs": [
      {
       "output_type": "stream",
       "stream": "stdout",
       "text": [
        "/Users/Carlos/Documents/HERMES/reductions/NGC2477_1arc_6.2\n"
       ]
      }
     ],
     "prompt_number": 175
    },
    {
     "cell_type": "code",
     "collapsed": false,
     "input": [
      "data=np.load('npy/data.npy')\n",
      "RVs=np.load('npy/RVs.npy')\n",
      "sigmas=np.load('npy/sigmas.npy')\n",
      "baryVels=np.load('npy/baryVels.npy')\n",
      "JDs=np.load('npy/JDs.npy')"
     ],
     "language": "python",
     "metadata": {},
     "outputs": [],
     "prompt_number": 189
    },
    {
     "cell_type": "code",
     "collapsed": false,
     "input": [
      "thisSlice = RVs\n",
      "totalStars = RVs.shape[0]"
     ],
     "language": "python",
     "metadata": {},
     "outputs": [],
     "prompt_number": 190
    },
    {
     "cell_type": "code",
     "collapsed": false,
     "input": [
      "goodStars = np.sum(((thisSlice<5000) & (thisSlice!=0)), axis=0).astype(float)"
     ],
     "language": "python",
     "metadata": {},
     "outputs": [],
     "prompt_number": 196
    },
    {
     "cell_type": "code",
     "collapsed": false,
     "input": [
      "size = np.array(thisSlice.shape)\n",
      "total = np.reshape(np.repeat(size[0], size[1]*size[2]),(size[1],size[2]))\n",
      "labels = ['Blue','Green','Red','IR']"
     ],
     "language": "python",
     "metadata": {},
     "outputs": [],
     "prompt_number": 198
    },
    {
     "cell_type": "code",
     "collapsed": false,
     "input": [
      "a = pd.DataFrame(goodStars/total*100)\n",
      "a.columns = labels"
     ],
     "language": "python",
     "metadata": {},
     "outputs": [],
     "prompt_number": 203
    },
    {
     "cell_type": "code",
     "collapsed": false,
     "input": [
      "a.to_csv('aaa.csv')"
     ],
     "language": "python",
     "metadata": {},
     "outputs": [],
     "prompt_number": 181
    },
    {
     "cell_type": "code",
     "collapsed": false,
     "input": [
      "a"
     ],
     "language": "python",
     "metadata": {},
     "outputs": [
      {
       "html": [
        "<div style=\"max-height:1000px;max-width:1500px;overflow:auto;\">\n",
        "<table border=\"1\" class=\"dataframe\">\n",
        "  <thead>\n",
        "    <tr style=\"text-align: right;\">\n",
        "      <th></th>\n",
        "      <th>Blue</th>\n",
        "      <th>Green</th>\n",
        "      <th>Red</th>\n",
        "      <th>IR</th>\n",
        "    </tr>\n",
        "  </thead>\n",
        "  <tbody>\n",
        "    <tr>\n",
        "      <th>0 </th>\n",
        "      <td> 100.000000</td>\n",
        "      <td> 100.000000</td>\n",
        "      <td>  0.000000</td>\n",
        "      <td> 100.000000</td>\n",
        "    </tr>\n",
        "    <tr>\n",
        "      <th>1 </th>\n",
        "      <td>  80.909091</td>\n",
        "      <td>  93.636364</td>\n",
        "      <td>  0.000000</td>\n",
        "      <td>  94.545455</td>\n",
        "    </tr>\n",
        "    <tr>\n",
        "      <th>2 </th>\n",
        "      <td>  79.090909</td>\n",
        "      <td>  93.636364</td>\n",
        "      <td>  0.000000</td>\n",
        "      <td>  99.090909</td>\n",
        "    </tr>\n",
        "    <tr>\n",
        "      <th>3 </th>\n",
        "      <td>  88.181818</td>\n",
        "      <td>  91.818182</td>\n",
        "      <td>  0.000000</td>\n",
        "      <td>  97.272727</td>\n",
        "    </tr>\n",
        "    <tr>\n",
        "      <th>4 </th>\n",
        "      <td>  96.363636</td>\n",
        "      <td>  96.363636</td>\n",
        "      <td> 99.090909</td>\n",
        "      <td>  97.272727</td>\n",
        "    </tr>\n",
        "    <tr>\n",
        "      <th>5 </th>\n",
        "      <td>  90.909091</td>\n",
        "      <td>  96.363636</td>\n",
        "      <td> 99.090909</td>\n",
        "      <td>  95.454545</td>\n",
        "    </tr>\n",
        "    <tr>\n",
        "      <th>6 </th>\n",
        "      <td>  87.272727</td>\n",
        "      <td>  94.545455</td>\n",
        "      <td> 97.272727</td>\n",
        "      <td>  97.272727</td>\n",
        "    </tr>\n",
        "    <tr>\n",
        "      <th>7 </th>\n",
        "      <td>  90.000000</td>\n",
        "      <td>  97.272727</td>\n",
        "      <td> 99.090909</td>\n",
        "      <td>   0.000000</td>\n",
        "    </tr>\n",
        "    <tr>\n",
        "      <th>8 </th>\n",
        "      <td>  91.818182</td>\n",
        "      <td>  96.363636</td>\n",
        "      <td> 99.090909</td>\n",
        "      <td>   0.000000</td>\n",
        "    </tr>\n",
        "    <tr>\n",
        "      <th>9 </th>\n",
        "      <td>  90.000000</td>\n",
        "      <td>  98.181818</td>\n",
        "      <td> 99.090909</td>\n",
        "      <td>   0.000000</td>\n",
        "    </tr>\n",
        "    <tr>\n",
        "      <th>10</th>\n",
        "      <td>  17.272727</td>\n",
        "      <td>  97.272727</td>\n",
        "      <td> 99.090909</td>\n",
        "      <td>  96.363636</td>\n",
        "    </tr>\n",
        "    <tr>\n",
        "      <th>11</th>\n",
        "      <td>  22.727273</td>\n",
        "      <td>  95.454545</td>\n",
        "      <td> 99.090909</td>\n",
        "      <td>  99.090909</td>\n",
        "    </tr>\n",
        "    <tr>\n",
        "      <th>12</th>\n",
        "      <td>  14.545455</td>\n",
        "      <td>  96.363636</td>\n",
        "      <td> 98.181818</td>\n",
        "      <td>  98.181818</td>\n",
        "    </tr>\n",
        "    <tr>\n",
        "      <th>13</th>\n",
        "      <td>  90.909091</td>\n",
        "      <td>  90.909091</td>\n",
        "      <td> 90.909091</td>\n",
        "      <td>   0.000000</td>\n",
        "    </tr>\n",
        "    <tr>\n",
        "      <th>14</th>\n",
        "      <td>  87.272727</td>\n",
        "      <td>  90.000000</td>\n",
        "      <td> 94.545455</td>\n",
        "      <td>   0.000000</td>\n",
        "    </tr>\n",
        "    <tr>\n",
        "      <th>15</th>\n",
        "      <td>  88.181818</td>\n",
        "      <td>  91.818182</td>\n",
        "      <td> 93.636364</td>\n",
        "      <td>   0.000000</td>\n",
        "    </tr>\n",
        "  </tbody>\n",
        "</table>\n",
        "</div>"
       ],
       "metadata": {},
       "output_type": "pyout",
       "prompt_number": 204,
       "text": [
        "          Blue       Green        Red          IR\n",
        "0   100.000000  100.000000   0.000000  100.000000\n",
        "1    80.909091   93.636364   0.000000   94.545455\n",
        "2    79.090909   93.636364   0.000000   99.090909\n",
        "3    88.181818   91.818182   0.000000   97.272727\n",
        "4    96.363636   96.363636  99.090909   97.272727\n",
        "5    90.909091   96.363636  99.090909   95.454545\n",
        "6    87.272727   94.545455  97.272727   97.272727\n",
        "7    90.000000   97.272727  99.090909    0.000000\n",
        "8    91.818182   96.363636  99.090909    0.000000\n",
        "9    90.000000   98.181818  99.090909    0.000000\n",
        "10   17.272727   97.272727  99.090909   96.363636\n",
        "11   22.727273   95.454545  99.090909   99.090909\n",
        "12   14.545455   96.363636  98.181818   98.181818\n",
        "13   90.909091   90.909091  90.909091    0.000000\n",
        "14   87.272727   90.000000  94.545455    0.000000\n",
        "15   88.181818   91.818182  93.636364    0.000000"
       ]
      }
     ],
     "prompt_number": 204
    },
    {
     "cell_type": "code",
     "collapsed": false,
     "input": [],
     "language": "python",
     "metadata": {},
     "outputs": []
    },
    {
     "cell_type": "code",
     "collapsed": false,
     "input": [
      "# np.set_printoptions(precision=3)\n",
      "goodStars/total*100"
     ],
     "language": "python",
     "metadata": {},
     "outputs": [
      {
       "metadata": {},
       "output_type": "pyout",
       "prompt_number": 205,
       "text": [
        "array([[ 100.   ,  100.   ,    0.   ,  100.   ],\n",
        "       [  80.909,   93.636,    0.   ,   94.545],\n",
        "       [  79.091,   93.636,    0.   ,   99.091],\n",
        "       [  88.182,   91.818,    0.   ,   97.273],\n",
        "       [  96.364,   96.364,   99.091,   97.273],\n",
        "       [  90.909,   96.364,   99.091,   95.455],\n",
        "       [  87.273,   94.545,   97.273,   97.273],\n",
        "       [  90.   ,   97.273,   99.091,    0.   ],\n",
        "       [  91.818,   96.364,   99.091,    0.   ],\n",
        "       [  90.   ,   98.182,   99.091,    0.   ],\n",
        "       [  17.273,   97.273,   99.091,   96.364],\n",
        "       [  22.727,   95.455,   99.091,   99.091],\n",
        "       [  14.545,   96.364,   98.182,   98.182],\n",
        "       [  90.909,   90.909,   90.909,    0.   ],\n",
        "       [  87.273,   90.   ,   94.545,    0.   ],\n",
        "       [  88.182,   91.818,   93.636,    0.   ]])"
       ]
      }
     ],
     "prompt_number": 205
    },
    {
     "cell_type": "code",
     "collapsed": false,
     "input": [
      "goodStars"
     ],
     "language": "python",
     "metadata": {},
     "outputs": [
      {
       "metadata": {},
       "output_type": "pyout",
       "prompt_number": 197,
       "text": [
        "array([[ 110.,  110.,    0.,  110.],\n",
        "       [  89.,  103.,    0.,  104.],\n",
        "       [  87.,  103.,    0.,  109.],\n",
        "       [  97.,  101.,    0.,  107.],\n",
        "       [ 106.,  106.,  109.,  107.],\n",
        "       [ 100.,  106.,  109.,  105.],\n",
        "       [  96.,  104.,  107.,  107.],\n",
        "       [  99.,  107.,  109.,    0.],\n",
        "       [ 101.,  106.,  109.,    0.],\n",
        "       [  99.,  108.,  109.,    0.],\n",
        "       [  19.,  107.,  109.,  106.],\n",
        "       [  25.,  105.,  109.,  109.],\n",
        "       [  16.,  106.,  108.,  108.],\n",
        "       [ 100.,  100.,  100.,    0.],\n",
        "       [  96.,   99.,  104.,    0.],\n",
        "       [  97.,  101.,  103.,    0.]])"
       ]
      }
     ],
     "prompt_number": 197
    },
    {
     "cell_type": "code",
     "collapsed": false,
     "input": [],
     "language": "python",
     "metadata": {},
     "outputs": []
    }
   ],
   "metadata": {}
  }
 ]
}