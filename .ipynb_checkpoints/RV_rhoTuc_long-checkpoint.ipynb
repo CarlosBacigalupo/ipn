{
 "metadata": {
  "name": ""
 },
 "nbformat": 3,
 "nbformat_minor": 0,
 "worksheets": [
  {
   "cells": [
    {
     "cell_type": "code",
     "collapsed": false,
     "input": [
      "import glob\n",
      "import os\n",
      "import numpy as np\n",
      "import scipy.constants as const\n",
      "# import commands\n",
      "# import pyfits as pf\\n\",\n",
      "# import toolbox\\n\",\n",
      "from scipy import signal, interpolate, optimize, constants\n",
      "import pylab as plt\n",
      "import pickle\n",
      "from red_tools import *\n",
      "# import asteroseismology as ast\n",
      "# import HERMES\n",
      "# reload(red_tools)\\n\",\n",
      "# reload(ast)\n",
      "# import carlos"
     ],
     "language": "python",
     "metadata": {},
     "outputs": [],
     "prompt_number": 2
    },
    {
     "cell_type": "heading",
     "level": 2,
     "metadata": {},
     "source": [
      "Functions"
     ]
    },
    {
     "cell_type": "code",
     "collapsed": false,
     "input": [
      "def fit_continuum(disp, flux, knot_spacing=200, sigma_clip=(1.0, 0.2), \\\n",
      "      max_iterations=3, order=3, exclude=None, include=None, \\\n",
      "      additional_points=None, function='spline', scale=1.0, **kwargs):\n",
      "    \"\"\"Fits the continuum for a given `Spectrum1D` spectrum.\n",
      "    \n",
      "    Parameters\n",
      "    ----\n",
      "    knot_spacing : float or None, optional\n",
      "        The knot spacing for the continuum spline function in Angstroms. Optional.\n",
      "        If not provided then the knot spacing will be determined automatically.\n",
      "    \n",
      "    sigma_clip : a tuple of two floats, optional\n",
      "        This is the lower and upper sigma clipping level respectively. Optional.\n",
      "        \n",
      "    max_iterations : int, optional\n",
      "        Maximum number of spline-fitting operations.\n",
      "        \n",
      "    order : int, optional\n",
      "        The order of the spline function to fit.\n",
      "        \n",
      "    exclude : list of tuple-types containing floats, optional\n",
      "        A list of wavelength regions to always exclude when determining the\n",
      "        continuum. Example:\n",
      "        \n",
      "        >> exclude = [\n",
      "        >>    (3890.0, 4110.0),\n",
      "        >>    (4310.0, 4340.0)\n",
      "        >>  ]\n",
      "        \n",
      "        In the example above the regions between 3890 A and 4110 A, as well as\n",
      "        4310 A to 4340 A will always be excluded when determining the continuum\n",
      "        regions.\n",
      "\n",
      "    function: only 'spline' or 'poly'\n",
      "\n",
      "    scale : float\n",
      "        A scaling factor to apply to the normalised flux levels.\n",
      "        \n",
      "    include : list of tuple-types containing floats, optional\n",
      "        A list of wavelength regions to always include when determining the\n",
      "        continuum.\n",
      "    \"\"\"\n",
      "    \n",
      "    exclusions = []\n",
      "    continuum_indices = range(len(flux))\n",
      "\n",
      "    # Snip left and right\n",
      "    finite_positive_flux = np.isfinite(flux) * flux > 0\n",
      "\n",
      "    #print \"finite flux\", np.any(finite_positive_flux), finite_positive_flux\n",
      "    #print \"where flux\", np.where(finite_positive_flux)\n",
      "    #print \"flux is...\", flux\n",
      "    left_index = np.where(finite_positive_flux)[0][0]\n",
      "    right_index = np.where(finite_positive_flux)[0][-1]\n",
      "\n",
      "    # See if there are any regions we need to exclude\n",
      "    if exclude is not None and len(exclude) > 0:\n",
      "        exclude_indices = []\n",
      "        \n",
      "        if isinstance(exclude[0], float) and len(exclude) == 2:\n",
      "            # Only two floats given, so we only have one region to exclude\n",
      "            exclude_indices.extend(range(*np.searchsorted(disp, exclude)))\n",
      "            \n",
      "        else:\n",
      "            # Multiple regions provided\n",
      "            for exclude_region in exclude:\n",
      "                exclude_indices.extend(range(*np.searchsorted(disp, exclude_region)))\n",
      "    \n",
      "        continuum_indices = np.sort(list(set(continuum_indices).difference(np.sort(exclude_indices))))\n",
      "        \n",
      "    # See if there are any regions we should always include\n",
      "    if include is not None and len(include) > 0:\n",
      "        include_indices = []\n",
      "        \n",
      "        if isinstance(include[0], float) and len(include) == 2:\n",
      "            # Only two floats given, so we can only have one region to include\n",
      "            include_indices.extend(range(*np.searchsorted(disp, include)))\n",
      "            \n",
      "        else:\n",
      "            # Multiple regions provided\n",
      "            for include_region in include:\n",
      "                include_indices.extend(range(*np.searchsorted(disp, include_region)))\n",
      "    \n",
      "\n",
      "    # We should exclude non-finite numbers from the fit\n",
      "    non_finite_indices = np.where(~np.isfinite(flux))[0]\n",
      "    continuum_indices = np.sort(list(set(continuum_indices).difference(non_finite_indices)))\n",
      "\n",
      "    # We should also exclude zero or negative flux points from the fit\n",
      "    zero_flux_indices = np.where(0 >= flux)[0]\n",
      "    continuum_indices = np.sort(list(set(continuum_indices).difference(zero_flux_indices)))\n",
      "\n",
      "    original_continuum_indices = continuum_indices.copy()\n",
      "\n",
      "    if knot_spacing is None or knot_spacing == 0:\n",
      "        knots = []\n",
      "\n",
      "    else:\n",
      "        knot_spacing = abs(knot_spacing)\n",
      "        \n",
      "        end_spacing = ((disp[-1] - disp[0]) % knot_spacing) /2.\n",
      "    \n",
      "        if knot_spacing/2. > end_spacing: end_spacing += knot_spacing/2.\n",
      "            \n",
      "        knots = np.arange(disp[0] + end_spacing, disp[-1] - end_spacing + knot_spacing, knot_spacing)\n",
      "        if len(knots) > 0 and knots[-1] > disp[continuum_indices][-1]:\n",
      "            knots = knots[:knots.searchsorted(disp[continuum_indices][-1])]\n",
      "            \n",
      "        if len(knots) > 0 and knots[0] < disp[continuum_indices][0]:\n",
      "            knots = knots[knots.searchsorted(disp[continuum_indices][0]):]\n",
      "\n",
      "    for iteration in xrange(max_iterations):\n",
      "        \n",
      "        splrep_disp = disp[continuum_indices]\n",
      "        splrep_flux = flux[continuum_indices]\n",
      "\n",
      "        splrep_weights = np.ones(len(splrep_disp))\n",
      "\n",
      "        # We need to add in additional points at the last minute here\n",
      "        if additional_points is not None and len(additional_points) > 0:\n",
      "\n",
      "            for point, flux, weight in additional_points:\n",
      "\n",
      "                # Get the index of the fit\n",
      "                insert_index = int(np.searchsorted(splrep_disp, point))\n",
      "                \n",
      "                # Insert the values\n",
      "                splrep_disp = np.insert(splrep_disp, insert_index, point)\n",
      "                splrep_flux = np.insert(splrep_flux, insert_index, flux)\n",
      "                splrep_weights = np.insert(splrep_weights, insert_index, weight)\n",
      "\n",
      "        if function == 'spline':\n",
      "            order = 5 if order > 5 else order\n",
      "            tck = interpolate.splrep(splrep_disp, splrep_flux,\n",
      "                k=order, task=-1, t=knots, w=splrep_weights)\n",
      "\n",
      "            continuum = interpolate.splev(disp, tck)\n",
      "\n",
      "        elif function in (\"poly\", \"polynomial\"):\n",
      "        \n",
      "            p = poly1d(polyfit(splrep_disp, splrep_flux, order))\n",
      "            continuum = p(disp)\n",
      "\n",
      "        else:\n",
      "            raise ValueError(\"Unknown function type: only spline or poly available (%s given)\" % (function, ))\n",
      "        \n",
      "        difference = continuum - flux\n",
      "        sigma_difference = difference / np.std(difference[np.isfinite(flux)])\n",
      "\n",
      "        # Clipping\n",
      "        upper_exclude = np.where(sigma_difference > sigma_clip[1])[0]\n",
      "        lower_exclude = np.where(sigma_difference < -sigma_clip[0])[0]\n",
      "        \n",
      "        exclude_indices = list(upper_exclude)\n",
      "        exclude_indices.extend(lower_exclude)\n",
      "        exclude_indices = np.array(exclude_indices)\n",
      "        \n",
      "        if len(exclude_indices) is 0: break\n",
      "        \n",
      "        exclusions.extend(exclude_indices)\n",
      "        \n",
      "        # Before excluding anything, we must check to see if there are regions\n",
      "        # which we should never exclude\n",
      "        if include is not None:\n",
      "            exclude_indices = set(exclude_indices).difference(include_indices)\n",
      "        \n",
      "        # Remove regions that have been excluded\n",
      "        continuum_indices = np.sort(list(set(continuum_indices).difference(exclude_indices)))\n",
      "    \n",
      "    # Snip the edges based on exclude regions\n",
      "    if exclude is not None and len(exclude) > 0:\n",
      "\n",
      "        # If there are exclusion regions that extend past the left_index/right_index,\n",
      "        # then we will need to adjust left_index/right_index accordingly\n",
      "\n",
      "        left_index = np.max([left_index, np.min(original_continuum_indices)])\n",
      "        right_index = np.min([right_index, np.max(original_continuum_indices)])\n",
      "        \n",
      "\n",
      "    # Apply flux scaling\n",
      "    continuum *= scale\n",
      "    return disp, flux/continuum\n",
      "\n"
     ],
     "language": "python",
     "metadata": {},
     "outputs": [],
     "prompt_number": 3
    },
    {
     "cell_type": "code",
     "collapsed": false,
     "input": [
      "#Clean fluxes\n",
      "def clean_flux(flux, xDef = 1, lambdas = np.array([])):\n",
      "    '''clean a flux array to cross corralate to determine RV shift\n",
      "        eliminates NaNs\n",
      "        moving median to reduce peaks\n",
      "        optional: increase resolution by xDef times\n",
      "        \n",
      "    '''\t\n",
      "    \n",
      "    #Copy to output in case of no resampling\n",
      "#     fluxHD = flux\n",
      "#     newLambdas = lambdas\n",
      "    \n",
      "    #clean NaNs and median outliers\t\n",
      "#     flux[np.isnan(flux)] = 0\n",
      "#     fluxNeat = fluxHD\t\n",
      "    fluxMed = signal.medfilt(flux,5)\n",
      "\n",
      "    w = np.where(abs((flux-fluxMed)/np.maximum(fluxMed,50)) > 0.4)\n",
      "    for ix in w[0]:\n",
      "        flux[ix] = fluxMed[ix]\n",
      "\n",
      "    #remove trailing zeros, devide by fitted curve (flatten) and apply tukey window\n",
      "#     flux = np.trim_zeros(flux,'f') \n",
      "#     lambdas = lambdas[-len(flux):]\n",
      "#     flux = np.trim_zeros(flux,'b') \n",
      "#     lambdas = lambdas[:len(flux)]\n",
      "\n",
      "    if ((lambdas[-np.isnan(flux)].shape[0]>0) &  (flux[-np.isnan(flux)].shape[0]>0)):\n",
      "        fFlux = optimize.curve_fit(cubic, lambdas[-np.isnan(flux)], flux[-np.isnan(flux)], p0 = [1,1,1,1])\n",
      "        fittedCurve = cubic(lambdas, fFlux[0][0], fFlux[0][1], fFlux[0][2], fFlux[0][3])\n",
      "        flux = flux/fittedCurve-1\n",
      "        \n",
      "        flux = flux * tukey(0.1, len(flux))\n",
      "        #if enough data -> resample\n",
      "        if ((xDef>1) and (len(lambdas)>0)):\n",
      "            fFlux = interpolate.interp1d(lambdas[-np.isnan(flux)],flux[-np.isnan(flux)]) \n",
      "            lambdas = np.linspace(min(lambdas[-np.isnan(flux)]), max(lambdas[-np.isnan(flux)]),len(lambdas[-np.isnan(flux)])*xDef)\n",
      "            flux = fFlux(lambdas)\n",
      "\n",
      "    else:\n",
      "        fluxWindow = np.array([])\n",
      "        print 'empty after removing zeros'\n",
      "        \n",
      "    return lambdas, flux\n",
      "\n",
      "def cubic(x,a,b,c,d):\n",
      "    return a*x**3+b*x**2+c*x+d\n",
      "    \n",
      "def tukey(alpha, N):\n",
      "\n",
      "    tukey = np.zeros(N)\n",
      "    for i in range(int(alpha*(N-1)/2)):\n",
      "        tukey[i] = 0.5*(1+np.cos(np.pi*(2*i/alpha/(N-1)-1)))\n",
      "    for i in range(int(alpha*(N-1)/2),int((N-1)*(1-alpha/2))):\n",
      "        tukey[i] = 1\n",
      "    for i in range(int((N-1)*(1-alpha/2)),int((N-1))):\n",
      "        tukey[i] = 0.5*(1+np.cos(np.pi*(2*i/alpha/(N-1)-2/alpha+1)))\n",
      "    \n",
      "    return tukey\n"
     ],
     "language": "python",
     "metadata": {},
     "outputs": [],
     "prompt_number": 4
    },
    {
     "cell_type": "code",
     "collapsed": false,
     "input": [
      "#Fit gaussian in CCCurves\n",
      "def gaussian(x, mu, sig, ):\n",
      "    return np.exp(-np.power(x - mu, 2.) / 2 / np.power(sig, 2.))\n",
      "\n",
      "def fit_gaussian(p, flux, x_range):\n",
      "    a = optimize.leastsq(diff_gausian, p, args= [flux, x_range])\n",
      "    return a\n",
      "\n",
      "def diff_gausian(p, args):\n",
      "    \n",
      "    flux = args[0]\n",
      "    x_range = args[1]\n",
      "    diff = gaussian(x_range, p[0],p[1]) - flux/np.max(flux)\n",
      "    return diff\n",
      "\n",
      "def get_wavelength(wavelengths, pixel):\n",
      "    intPx = int(pixel)\n",
      "    fracPx = pixel - int(pixel)\n",
      "\n",
      "    return (wavelengths[intPx+1] - wavelengths[intPx])*fracPx + wavelengths[intPx]\n",
      "\n"
     ],
     "language": "python",
     "metadata": {},
     "outputs": [],
     "prompt_number": 5
    },
    {
     "cell_type": "heading",
     "level": 2,
     "metadata": {},
     "source": [
      "Main Code"
     ]
    },
    {
     "cell_type": "code",
     "collapsed": false,
     "input": [
      "os.chdir('/Users/Carlos/Documents/HERMES/reductions/rhoTuc_long/combined/')"
     ],
     "language": "python",
     "metadata": {},
     "outputs": [],
     "prompt_number": 31
    },
    {
     "cell_type": "code",
     "collapsed": false,
     "input": [
      "filename = 'rhoTuc_long.obj'\n",
      "filehandler = open(filename, 'r')\n",
      "thisStar = pickle.load(filehandler)"
     ],
     "language": "python",
     "metadata": {},
     "outputs": [],
     "prompt_number": 19
    },
    {
     "cell_type": "code",
     "collapsed": false,
     "input": [
      "xDef = 100 #resampling points per pixel\n",
      "CCMaskWidth = 50 #half width around the peak of the cc curve to be gaussian fitted"
     ],
     "language": "python",
     "metadata": {},
     "outputs": [],
     "prompt_number": 20
    },
    {
     "cell_type": "code",
     "collapsed": false,
     "input": [
      "#flux mask used when cross correlating\n",
      "flux_mask=[]\n",
      "for j in range(4):\n",
      "    thisCam = thisStar.exposures.cameras[j]\n",
      "    thisCam.flux_mask = np.ones(len(thisCam.wavelengths[0])).astype(bool)\n",
      "# flux_mask[3] = thisCam.wavelengths[3]>7690"
     ],
     "language": "python",
     "metadata": {},
     "outputs": [],
     "prompt_number": 21
    },
    {
     "cell_type": "code",
     "collapsed": false,
     "input": [
      "#Clean fluxes\n",
      "#this should raise the flag if no flux....\n",
      "for j in range(4):\n",
      "    cleanFluxes = []\n",
      "    cleanWavelengths = []\n",
      "    thisCam = thisStar.exposures.cameras[j]\n",
      "    for i in np.arange(thisStar.exposures.JDs.shape[0]):\n",
      "        print thisStar.exposures.JDs[i],\n",
      "        if thisCam.safe_flag[i]==True:\n",
      "            thisFlux = thisCam.red_fluxes[i][thisCam.flux_mask]\n",
      "            thisLambdas = thisCam.wavelengths[i][thisCam.flux_mask]\n",
      "            lambdaClean, fluxClean = clean_flux(thisFlux, xDef, thisLambdas)\n",
      "            cleanFluxes.append(fluxClean)\n",
      "            cleanWavelengths.append(lambdaClean)\n",
      "        else:\n",
      "            cleanFluxes.append(np.zeros(np.sum(thisCam.flux_mask)))\n",
      "            cleanWavelengths.append(np.zeros(np.sum(thisCam.flux_mask)))\n",
      "            \n",
      "    thisCam.clean_fluxes = np.array(cleanFluxes)\n",
      "    thisCam.clean_wavelengths = np.array(cleanWavelengths)\n",
      "    print ''"
     ],
     "language": "python",
     "metadata": {},
     "outputs": [
      {
       "output_type": "stream",
       "stream": "stdout",
       "text": [
        "56889.7811361 "
       ]
      },
      {
       "output_type": "stream",
       "stream": "stdout",
       "text": [
        "56890.7000594 "
       ]
      },
      {
       "output_type": "stream",
       "stream": "stdout",
       "text": [
        "56890.8148393 "
       ]
      },
      {
       "output_type": "stream",
       "stream": "stdout",
       "text": [
        "56891.6885866 "
       ]
      },
      {
       "output_type": "stream",
       "stream": "stdout",
       "text": [
        "56891.7757545 "
       ]
      },
      {
       "output_type": "stream",
       "stream": "stdout",
       "text": [
        "56893.7454057 "
       ]
      },
      {
       "output_type": "stream",
       "stream": "stdout",
       "text": [
        "56894.7232178 "
       ]
      },
      {
       "output_type": "stream",
       "stream": "stdout",
       "text": [
        "56894.8086355 "
       ]
      },
      {
       "output_type": "stream",
       "stream": "stdout",
       "text": [
        "\n",
        "56889.7811361 "
       ]
      },
      {
       "output_type": "stream",
       "stream": "stdout",
       "text": [
        "56890.7000594 "
       ]
      },
      {
       "output_type": "stream",
       "stream": "stdout",
       "text": [
        "56890.8148393 "
       ]
      },
      {
       "output_type": "stream",
       "stream": "stdout",
       "text": [
        "56891.6885866 "
       ]
      },
      {
       "output_type": "stream",
       "stream": "stdout",
       "text": [
        "56891.7757545 "
       ]
      },
      {
       "output_type": "stream",
       "stream": "stdout",
       "text": [
        "56893.7454057 "
       ]
      },
      {
       "output_type": "stream",
       "stream": "stdout",
       "text": [
        "56894.7232178 "
       ]
      },
      {
       "output_type": "stream",
       "stream": "stdout",
       "text": [
        "56894.8086355 "
       ]
      },
      {
       "output_type": "stream",
       "stream": "stdout",
       "text": [
        "\n",
        "56889.7811361 "
       ]
      },
      {
       "output_type": "stream",
       "stream": "stdout",
       "text": [
        "56890.7000594 "
       ]
      },
      {
       "output_type": "stream",
       "stream": "stdout",
       "text": [
        "56890.8148393 "
       ]
      },
      {
       "output_type": "stream",
       "stream": "stdout",
       "text": [
        "56891.6885866 "
       ]
      },
      {
       "output_type": "stream",
       "stream": "stdout",
       "text": [
        "56891.7757545 "
       ]
      },
      {
       "output_type": "stream",
       "stream": "stdout",
       "text": [
        "56893.7454057 "
       ]
      },
      {
       "output_type": "stream",
       "stream": "stdout",
       "text": [
        "56894.7232178 "
       ]
      },
      {
       "output_type": "stream",
       "stream": "stdout",
       "text": [
        "56894.8086355 "
       ]
      },
      {
       "output_type": "stream",
       "stream": "stdout",
       "text": [
        "\n",
        "56889.7811361 "
       ]
      },
      {
       "output_type": "stream",
       "stream": "stdout",
       "text": [
        "56890.7000594 "
       ]
      },
      {
       "output_type": "stream",
       "stream": "stdout",
       "text": [
        "56890.8148393 "
       ]
      },
      {
       "output_type": "stream",
       "stream": "stdout",
       "text": [
        "56891.6885866 "
       ]
      },
      {
       "output_type": "stream",
       "stream": "stdout",
       "text": [
        "56891.7757545 "
       ]
      },
      {
       "output_type": "stream",
       "stream": "stdout",
       "text": [
        "56893.7454057 "
       ]
      },
      {
       "output_type": "stream",
       "stream": "stdout",
       "text": [
        "56894.7232178 "
       ]
      },
      {
       "output_type": "stream",
       "stream": "stdout",
       "text": [
        "56894.8086355 "
       ]
      },
      {
       "output_type": "stream",
       "stream": "stdout",
       "text": [
        "\n"
       ]
      }
     ],
     "prompt_number": 22
    },
    {
     "cell_type": "code",
     "collapsed": false,
     "input": [
      "#creates mean and median fluxes for CC\n",
      "for j in range(4):\n",
      "    thisCam = thisStar.exposures.cameras[j]\n",
      "    thisCam.mean_flux = np.nanmean(thisCam.red_fluxes[thisCam.safe_flag], axis =0)\n",
      "    thisCam.mean_flux = thisCam.mean_flux[thisCam.flux_mask]\n",
      "    thisCam.median_flux = np.median(thisCam.red_fluxes[thisCam.safe_flag], axis =0)\n",
      "    thisCam.median_flux = thisCam.median_flux[thisCam.flux_mask]\n",
      "    \n",
      "    thisFlux = thisCam.median_flux\n",
      "    thisLambdas = thisCam.wavelengths[0]\n",
      "    lambdaClean, fluxClean = clean_flux(thisFlux, xDef, thisLambdas)\n",
      "    print(j, thisLambdas[:5]- lambdaClean[:5])\n",
      "    thisCam.clean_median_wavelength = lambdaClean\n",
      "    thisCam.clean_median_flux = fluxClean\n",
      "    \n",
      "    thisFlux = thisCam.mean_flux\n",
      "    thisLambdas = thisCam.wavelengths[0][thisCam.flux_mask]\n",
      "    lambdaClean, fluxClean = clean_flux(thisFlux, xDef, thisLambdas)\n",
      "    thisCam.clean_mean_wavelength = lambdaClean\n",
      "    thisCam.clean_mean_flux = fluxClean\n"
     ],
     "language": "python",
     "metadata": {},
     "outputs": [
      {
       "output_type": "stream",
       "stream": "stdout",
       "text": [
        "(0, array([ 0.        ,  0.04472538,  0.08945077,  0.13417615,  0.17890154]))\n",
        "(1, array([-0.10940171, -0.05524773, -0.00109375,  0.05306023,  0.1072142 ]))"
       ]
      },
      {
       "output_type": "stream",
       "stream": "stdout",
       "text": [
        "\n",
        "(2, array([-0.25299145, -0.19037592, -0.12776038, -0.06514484, -0.0025293 ]))"
       ]
      },
      {
       "output_type": "stream",
       "stream": "stdout",
       "text": [
        "\n",
        "(3, array([-0.81123321, -0.73822204, -0.66521088, -0.59219971, -0.51918854]))"
       ]
      },
      {
       "output_type": "stream",
       "stream": "stdout",
       "text": [
        "\n"
       ]
      }
     ],
     "prompt_number": 23
    },
    {
     "cell_type": "code",
     "collapsed": false,
     "input": [
      "# #Debuging CC - cross correlation - create cross correlation curves FROM MEAN\n",
      "# for j in range(4):\n",
      "#     CCCurves = []\n",
      "#     thisCam = thisStar.exposures.cameras[j]\n",
      "#     for i in range(thisStar.exposures.JDs.shape[0]):\n",
      "#         print thisStar.exposures.JDs[i], \n",
      "#         flux1 = thisCam.clean_mean_flux\n",
      "#         lamba1 = thisCam.clean_mean_wavelength\n",
      "#         flux2 = thisCam.clean_fluxes[i]\n",
      "#         lamba2 = thisCam.clean_wavelengths[i]\n",
      "# #         print i,flux1, flux2\n",
      "#         a = signal.fftconvolve(flux1, flux2[::-1], mode='same')\n",
      "#         CCCurves.append(a)\n",
      "#     thisCam.CCCurves = np.array(CCCurves)\n",
      "#     print ''"
     ],
     "language": "python",
     "metadata": {},
     "outputs": [],
     "prompt_number": 24
    },
    {
     "cell_type": "code",
     "collapsed": false,
     "input": [
      "#Debuging CC - cross correlation - create cross correlation curves from epoch 0\n",
      "for j in range(4):\n",
      "    CCCurves = []\n",
      "    thisCam = thisStar.exposures.cameras[j]\n",
      "    for i in range(thisStar.exposures.JDs.shape[0]):\n",
      "        print thisStar.exposures.JDs[i], \n",
      "        flux1 = thisCam.clean_fluxes[0]\n",
      "        lamba1 = thisCam.clean_wavelengths[0]\n",
      "        flux2 = thisCam.clean_fluxes[i]\n",
      "        lamba2 = thisCam.clean_wavelengths[i]\n",
      "        a = signal.fftconvolve(flux1, flux2[::-1], mode='same')\n",
      "        CCCurves.append(a)\n",
      "    thisCam.CCCurves = np.array(CCCurves)\n",
      "    print ''"
     ],
     "language": "python",
     "metadata": {},
     "outputs": [
      {
       "output_type": "stream",
       "stream": "stdout",
       "text": [
        "56889.7811361 "
       ]
      },
      {
       "output_type": "stream",
       "stream": "stdout",
       "text": [
        "56890.7000594 "
       ]
      },
      {
       "output_type": "stream",
       "stream": "stdout",
       "text": [
        "56890.8148393 "
       ]
      },
      {
       "output_type": "stream",
       "stream": "stdout",
       "text": [
        "56891.6885866 "
       ]
      },
      {
       "output_type": "stream",
       "stream": "stdout",
       "text": [
        "56891.7757545 "
       ]
      },
      {
       "output_type": "stream",
       "stream": "stdout",
       "text": [
        "56893.7454057 "
       ]
      },
      {
       "output_type": "stream",
       "stream": "stdout",
       "text": [
        "56894.7232178 "
       ]
      },
      {
       "output_type": "stream",
       "stream": "stdout",
       "text": [
        "56894.8086355 "
       ]
      },
      {
       "output_type": "stream",
       "stream": "stdout",
       "text": [
        "\n",
        "56889.7811361 "
       ]
      },
      {
       "output_type": "stream",
       "stream": "stdout",
       "text": [
        "56890.7000594 "
       ]
      },
      {
       "output_type": "stream",
       "stream": "stdout",
       "text": [
        "56890.8148393 "
       ]
      },
      {
       "output_type": "stream",
       "stream": "stdout",
       "text": [
        "56891.6885866 "
       ]
      },
      {
       "output_type": "stream",
       "stream": "stdout",
       "text": [
        "56891.7757545 "
       ]
      },
      {
       "output_type": "stream",
       "stream": "stdout",
       "text": [
        "56893.7454057 "
       ]
      },
      {
       "output_type": "stream",
       "stream": "stdout",
       "text": [
        "56894.7232178 "
       ]
      },
      {
       "output_type": "stream",
       "stream": "stdout",
       "text": [
        "56894.8086355 "
       ]
      },
      {
       "output_type": "stream",
       "stream": "stdout",
       "text": [
        "\n",
        "56889.7811361 "
       ]
      },
      {
       "output_type": "stream",
       "stream": "stdout",
       "text": [
        "56890.7000594 "
       ]
      },
      {
       "output_type": "stream",
       "stream": "stdout",
       "text": [
        "56890.8148393 "
       ]
      },
      {
       "output_type": "stream",
       "stream": "stdout",
       "text": [
        "56891.6885866 "
       ]
      },
      {
       "output_type": "stream",
       "stream": "stdout",
       "text": [
        "56891.7757545 "
       ]
      },
      {
       "output_type": "stream",
       "stream": "stdout",
       "text": [
        "56893.7454057 "
       ]
      },
      {
       "output_type": "stream",
       "stream": "stdout",
       "text": [
        "56894.7232178 "
       ]
      },
      {
       "output_type": "stream",
       "stream": "stdout",
       "text": [
        "56894.8086355 "
       ]
      },
      {
       "output_type": "stream",
       "stream": "stdout",
       "text": [
        "\n",
        "56889.7811361 "
       ]
      },
      {
       "output_type": "stream",
       "stream": "stdout",
       "text": [
        "56890.7000594 "
       ]
      },
      {
       "output_type": "stream",
       "stream": "stdout",
       "text": [
        "56890.8148393 "
       ]
      },
      {
       "output_type": "stream",
       "stream": "stdout",
       "text": [
        "56891.6885866 "
       ]
      },
      {
       "output_type": "stream",
       "stream": "stdout",
       "text": [
        "56891.7757545 "
       ]
      },
      {
       "output_type": "stream",
       "stream": "stdout",
       "text": [
        "56893.7454057 "
       ]
      },
      {
       "output_type": "stream",
       "stream": "stdout",
       "text": [
        "56894.7232178 "
       ]
      },
      {
       "output_type": "stream",
       "stream": "stdout",
       "text": [
        "56894.8086355 "
       ]
      },
      {
       "output_type": "stream",
       "stream": "stdout",
       "text": [
        "\n"
       ]
      }
     ],
     "prompt_number": 25
    },
    {
     "cell_type": "code",
     "collapsed": false,
     "input": [
      "#Debuging CC - cross correlation - fit gaussian in CCCurves\n",
      "for j in range(4):\n",
      "    print j\n",
      "    Ps = []\n",
      "    shiftedWavelength = []\n",
      "    sigmas = [] \n",
      "    thisCam = thisStar.exposures.cameras[j]\n",
      "    for i in range(thisStar.exposures.JDs.shape[0]):\n",
      "        print thisStar.exposures.JDs[i],\n",
      "        thisCCCurve = thisCam.CCCurves[i]\n",
      "        if np.sum(thisCCCurve)!=0:\n",
      "            corrMax = np.where(thisCCCurve==max(thisCCCurve))[0][0]\n",
      "            p_guess = [corrMax,xDef]\n",
      "            x_mask = np.arange(corrMax-CCMaskWidth, corrMax+CCMaskWidth+1)\n",
      "            p = fit_gaussian(p_guess, thisCCCurve[x_mask], np.arange(len(thisCCCurve))[x_mask])[0]\n",
      "            shiftedLambda = get_wavelength(thisCam.clean_wavelengths[i], p[0])\n",
      "#             Ps.append(p_guess)\n",
      "            Ps.append(p)\n",
      "            shiftedWavelength.append(shiftedLambda)\n",
      "            sigmas.append(np.abs(get_wavelength(thisCam.clean_wavelengths[i], p[0]+p[1])-shiftedLambda)/shiftedLambda*const.c)\n",
      "        else:\n",
      "            print 'Flat CC results. Retuning NaNs'\n",
      "            Ps.append([np.nan,np.nan])\n",
      "            shiftedWavelength.append(np.nan)\n",
      "            sigmas.append(np.nan)\n",
      "            \n",
      "    thisCam.Ps = np.array(Ps)\n",
      "    thisCam.shfted_wavelengths = np.array(shiftedWavelength)\n",
      "    thisCam.sigmas = np.array(sigmas)\n",
      "    print ''"
     ],
     "language": "python",
     "metadata": {},
     "outputs": [
      {
       "output_type": "stream",
       "stream": "stdout",
       "text": [
        "0\n",
        "56889.7811361 "
       ]
      },
      {
       "output_type": "stream",
       "stream": "stdout",
       "text": [
        "56890.7000594 "
       ]
      },
      {
       "output_type": "stream",
       "stream": "stdout",
       "text": [
        "56890.8148393 56891.6885866"
       ]
      },
      {
       "output_type": "stream",
       "stream": "stdout",
       "text": [
        " 56891.7757545 56893.7454057 "
       ]
      },
      {
       "output_type": "stream",
       "stream": "stdout",
       "text": [
        "56894.7232178 "
       ]
      },
      {
       "output_type": "stream",
       "stream": "stdout",
       "text": [
        "56894.8086355 "
       ]
      },
      {
       "output_type": "stream",
       "stream": "stdout",
       "text": [
        "\n",
        "1\n",
        "56889.7811361 "
       ]
      },
      {
       "output_type": "stream",
       "stream": "stdout",
       "text": [
        "56890.7000594 "
       ]
      },
      {
       "output_type": "stream",
       "stream": "stdout",
       "text": [
        "56890.8148393 "
       ]
      },
      {
       "output_type": "stream",
       "stream": "stdout",
       "text": [
        "56891.6885866 "
       ]
      },
      {
       "output_type": "stream",
       "stream": "stdout",
       "text": [
        "56891.7757545 "
       ]
      },
      {
       "output_type": "stream",
       "stream": "stdout",
       "text": [
        "56893.7454057 "
       ]
      },
      {
       "output_type": "stream",
       "stream": "stdout",
       "text": [
        "56894.7232178 "
       ]
      },
      {
       "output_type": "stream",
       "stream": "stdout",
       "text": [
        "56894.8086355 "
       ]
      },
      {
       "output_type": "stream",
       "stream": "stdout",
       "text": [
        "\n",
        "2\n",
        "56889.7811361 "
       ]
      },
      {
       "output_type": "stream",
       "stream": "stdout",
       "text": [
        "56890.7000594 "
       ]
      },
      {
       "output_type": "stream",
       "stream": "stdout",
       "text": [
        "56890.8148393 "
       ]
      },
      {
       "output_type": "stream",
       "stream": "stdout",
       "text": [
        "56891.6885866 "
       ]
      },
      {
       "output_type": "stream",
       "stream": "stdout",
       "text": [
        "56891.7757545 "
       ]
      },
      {
       "output_type": "stream",
       "stream": "stdout",
       "text": [
        "56893.7454057 "
       ]
      },
      {
       "output_type": "stream",
       "stream": "stdout",
       "text": [
        "56894.7232178 56894.8086355 "
       ]
      },
      {
       "output_type": "stream",
       "stream": "stdout",
       "text": [
        "\n",
        "3\n",
        "56889.7811361 "
       ]
      },
      {
       "output_type": "stream",
       "stream": "stdout",
       "text": [
        "56890.7000594 "
       ]
      },
      {
       "output_type": "stream",
       "stream": "stdout",
       "text": [
        "56890.8148393 "
       ]
      },
      {
       "output_type": "stream",
       "stream": "stdout",
       "text": [
        "56891.6885866 "
       ]
      },
      {
       "output_type": "stream",
       "stream": "stdout",
       "text": [
        "56891.7757545 "
       ]
      },
      {
       "output_type": "stream",
       "stream": "stdout",
       "text": [
        "56893.7454057 "
       ]
      },
      {
       "output_type": "stream",
       "stream": "stdout",
       "text": [
        "56894.7232178 "
       ]
      },
      {
       "output_type": "stream",
       "stream": "stdout",
       "text": [
        "56894.8086355 "
       ]
      },
      {
       "output_type": "stream",
       "stream": "stdout",
       "text": [
        "\n"
       ]
      }
     ],
     "prompt_number": 26
    },
    {
     "cell_type": "code",
     "collapsed": false,
     "input": [
      "#Creates RVs from shifted_wavelength\n",
      "for j in range(4):\n",
      "    testRVs = []\n",
      "    thisCam = thisStar.exposures.cameras[j]\n",
      "    for i in range(thisStar.exposures.JDs.shape[0]):\n",
      "        print thisStar.exposures.JDs[i],\n",
      "        clean_wavelength_median = np.median(thisCam.clean_wavelengths[i])\n",
      "        testRVs.append((clean_wavelength_median - thisCam.shfted_wavelengths[i])/clean_wavelength_median*const.c)\n",
      "    \n",
      "    thisCam.RVs = np.array(testRVs)\n",
      "    print ''"
     ],
     "language": "python",
     "metadata": {},
     "outputs": [
      {
       "output_type": "stream",
       "stream": "stdout",
       "text": [
        "56889.7811361 56890.7000594 56890.8148393 56891.6885866 56891.7757545 56893.7454057 56894.7232178 56894.8086355 \n",
        "56889.7811361 56890.7000594 56890.8148393 56891.6885866 56891.7757545 56893.7454057 56894.7232178 56894.8086355 \n",
        "56889.7811361 56890.7000594 56890.8148393 56891.6885866 56891.7757545 56893.7454057 56894.7232178 56894.8086355 \n",
        "56889.7811361 56890.7000594 56890.8148393 56891.6885866 56891.7757545 56893.7454057 56894.7232178 56894.8086355 \n"
       ]
      }
     ],
     "prompt_number": 27
    },
    {
     "cell_type": "code",
     "collapsed": false,
     "input": [
      "#Creates delta RVs from shifted_wavelength DDRV\n",
      "for j in range(4):\n",
      "    thisCam = thisStar.exposures.cameras[j]    \n",
      "#     sig = np.std(thisCam.RVs[thisStar.exposures.my_data_mask])\n",
      "#     sigMask = thisCam.RVs[thisStar.exposures.my_data_mask]-np.mean(thisCam.RVs[thisStar.exposures.my_data_mask])<3*sig\n",
      "    thisCam.DDRVs = thisCam.RVs-np.median(thisCam.RVs[thisCam.safe_flag])\n"
     ],
     "language": "python",
     "metadata": {},
     "outputs": [],
     "prompt_number": 28
    },
    {
     "cell_type": "heading",
     "level": 2,
     "metadata": {},
     "source": [
      "Plots"
     ]
    },
    {
     "cell_type": "code",
     "collapsed": false,
     "input": [
      "#All spectra (raw or clean)\n",
      "cam = 1\n",
      "thisCam = thisStar.exposures.cameras[cam]\n",
      "\n",
      "# wavelengths = thisCam.wavelengths\n",
      "# fluxes =  thisCam.red_fluxes\n",
      "wavelengths = thisCam.clean_wavelengths\n",
      "fluxes =  thisCam.clean_fluxes\n",
      "fileNames =  thisCam.fileNames\n",
      "nFluxes = thisCam.wavelengths.shape[0]\n",
      "\n",
      "fig, ax = plt.subplots()\n",
      "# ax.set_yticks(np.arange(0,nFluxes))\n",
      "# ax.set_ylim(-1,nFluxes+1)\n",
      "ax.set_yticks(thisStar.exposures.JDs)\n",
      "ax.set_ylim(np.min(thisStar.exposures.JDs)-1,np.min(thisStar.exposures.JDs)+1)\n",
      "\n",
      "for i in np.arange(nFluxes):\n",
      "    try:\n",
      "#         d, f = fit_continuum(wavelengths[i], fluxes[i])\n",
      "        d, f = wavelengths[i], fluxes[i]\n",
      "\n",
      "    except: continue\n",
      "    else:\n",
      "#         ax.plot(d, f+i, 'k')\n",
      "        ax.plot(d, f+thisStar.exposures.JDs[i], 'k')\n",
      "plt.xlabel('Wavelength [Ang]')\n",
      "plt.title('rhoTuc - Camera '+str(cam+1))\n",
      "ax.set_yticklabels(fileNames)\n",
      "plt.show()\n"
     ],
     "language": "python",
     "metadata": {},
     "outputs": [],
     "prompt_number": 66
    },
    {
     "cell_type": "code",
     "collapsed": false,
     "input": [
      "thisCam = thisStar.exposures.cameras[1]\n",
      "# plt.plot(thisCam.wavelengths[0],thisCam.red_fluxes[0]/np.max(thisCam.red_fluxes[0])-1)\n",
      "# plt.plot(thisCam.clean_mean_wavelength, thisCam.clean_mean_flux)\n",
      "plt.plot(thisCam.clean_wavelengths[0], thisCam.clean_fluxes[0])\n",
      "plt.plot(thisCam.clean_wavelengths[-1], thisCam.clean_fluxes[-1])\n",
      "plt.show()"
     ],
     "language": "python",
     "metadata": {},
     "outputs": [],
     "prompt_number": 22
    },
    {
     "cell_type": "code",
     "collapsed": false,
     "input": [
      "thisCam = thisStar.exposures.cameras[0]\n",
      "plt.plot(thisCam.clean_wavelengths[0],thisCam.clean_fluxes[0])\n",
      "plt.plot(thisCam.clean_mean_wavelength,thisCam.clean_mean_flux)\n",
      "plt.show()"
     ],
     "language": "python",
     "metadata": {},
     "outputs": [],
     "prompt_number": 24
    },
    {
     "cell_type": "code",
     "collapsed": false,
     "input": [
      "# thisCam = thisStar.exposures.cameras[1]\n",
      "# for i in np.arange(len(thisStar.exposures.my_data_mask))[thisStar.exposures.my_data_mask]: #my data index\n",
      "#     plt.title('Cross Correlation Result'+filehandler.name[:-4]+' - mean vs t'+str(i)+' - RV='+str(thisCam.RVs[i])+' m/s')\n",
      "#     x_axis = (thisCam.clean_wavelengths[i]-np.median(thisCam.clean_wavelengths[i]))/thisCam.clean_wavelengths[i]*const.c\n",
      "#     if x_axis.shape == thisCam.CCCurves[i].shape:\n",
      "#         plt.plot(x_axis, thisCam.CCCurves[i]/np.max(thisCam.CCCurves[i]))\n",
      "#         plt.plot(x_axis, gaussian(range(len(thisCam.clean_wavelengths[i])), thisCam.Ps[i][0], thisCam.Ps[i][1]), label = 'gaussian fit') \n",
      "#         plt.xlabel('RV [m/s]')\n",
      "#         plt.legend(loc=0)\n",
      "#         plt.show()\n"
     ],
     "language": "python",
     "metadata": {},
     "outputs": [],
     "prompt_number": 155
    },
    {
     "cell_type": "code",
     "collapsed": false,
     "input": [
      "plt.title(filehandler.name[:-4])\n",
      "# plt.plot(thisStar.exposures.JDs, thisStar.exposures.rel_BaryVels, label = 'Barycentric Vel. ')\n",
      "\n",
      "thisCam = thisStar.exposures.cameras[0]\n",
      "# RVMask = thisStar.exposures.my_data_mask\n",
      "RVMask = ((thisStar.exposures.my_data_mask) & (np.abs(thisCam.RVs)<2e4))\n",
      "# RVMask = thisCam.safe_flag\n",
      "thisCam.safe_flag = RVMask\n",
      "plt.scatter(thisStar.exposures.JDs[RVMask], thisCam.RVs[RVMask], label = 'Blue', color ='b' )\n",
      "# plt.errorbar(thisStar.exposures.JDs[RVMask], thisCam.DDRVs[RVMask], yerr=thisCam.sigmas[RVMask],fmt='.', label = 'Blue', color ='b' )\n",
      "\n",
      "thisCam = thisStar.exposures.cameras[1]\n",
      "# RVMask = thisStar.exposures.my_data_mask\n",
      "RVMask = ((thisStar.exposures.my_data_mask) & (np.abs(thisCam.RVs)<2e4))\n",
      "# RVMask = thisCam.safe_flag\n",
      "thisCam.safe_flag = RVMask\n",
      "plt.scatter(thisStar.exposures.JDs[RVMask], thisCam.RVs[RVMask], label = 'Green' , color ='g')\n",
      "# plt.errorbar(thisStar.exposures.JDs[RVMask], thisCam.RVs[RVMask], yerr=thisCam.sigmas[RVMask],fmt='.', label = 'Green' , color ='g')\n",
      "\n",
      "thisCam = thisStar.exposures.cameras[2]\n",
      "# RVMask = thisStar.exposures.my_data_mask\n",
      "RVMask = ((thisStar.exposures.my_data_mask) & (np.abs(thisCam.RVs)<2e4))\n",
      "# RVMask = thisCam.safe_flag\n",
      "thisCam.safe_flag = RVMask\n",
      "plt.scatter(thisStar.exposures.JDs[RVMask], thisCam.RVs[RVMask], label = 'Red' , color ='r')\n",
      "# plt.errorbar(thisStar.exposures.JDs[RVMask], thisCam.RVs[RVMask], yerr=thisCam.sigmas[RVMask],fmt='.', label = 'Red' , color ='r')\n",
      "\n",
      "thisCam = thisStar.exposures.cameras[3]\n",
      "# RVMask = thisStar.exposures.my_data_mask\n",
      "RVMask = ((thisStar.exposures.my_data_mask) & (np.abs(thisCam.RVs)<2e4))\n",
      "# RVMask = thisCam.safe_flag\n",
      "thisCam.safe_flag = RVMask\n",
      "plt.scatter(thisStar.exposures.JDs[RVMask], thisCam.RVs[RVMask], label = 'IR', color ='cyan' )\n",
      "# plt.errorbar(thisStar.exposures.JDs[RVMask], thisCam.RVs[RVMask], yerr=thisCam.sigmas[RVMask],fmt='.', label = 'IR', color ='cyan' )\n",
      "#\n",
      "\n",
      "plt.xlabel('JD')\n",
      "plt.ylabel('RV [m/s]')\n",
      "plt.legend(loc=0)\n",
      "plt.show()"
     ],
     "language": "python",
     "metadata": {},
     "outputs": [
      {
       "ename": "AttributeError",
       "evalue": "exposures instance has no attribute 'my_data_mask'",
       "output_type": "pyerr",
       "traceback": [
        "\u001b[0;31m---------------------------------------------------------------------------\u001b[0m\n\u001b[0;31mAttributeError\u001b[0m                            Traceback (most recent call last)",
        "\u001b[0;32m<ipython-input-102-648e961d1c92>\u001b[0m in \u001b[0;36m<module>\u001b[0;34m()\u001b[0m\n\u001b[1;32m      4\u001b[0m \u001b[0mthisCam\u001b[0m \u001b[0;34m=\u001b[0m \u001b[0mthisStar\u001b[0m\u001b[0;34m.\u001b[0m\u001b[0mexposures\u001b[0m\u001b[0;34m.\u001b[0m\u001b[0mcameras\u001b[0m\u001b[0;34m[\u001b[0m\u001b[0;36m0\u001b[0m\u001b[0;34m]\u001b[0m\u001b[0;34m\u001b[0m\u001b[0m\n\u001b[1;32m      5\u001b[0m \u001b[0;31m# RVMask = thisStar.exposures.my_data_mask\u001b[0m\u001b[0;34m\u001b[0m\u001b[0;34m\u001b[0m\u001b[0m\n\u001b[0;32m----> 6\u001b[0;31m \u001b[0mRVMask\u001b[0m \u001b[0;34m=\u001b[0m \u001b[0;34m(\u001b[0m\u001b[0;34m(\u001b[0m\u001b[0mthisStar\u001b[0m\u001b[0;34m.\u001b[0m\u001b[0mexposures\u001b[0m\u001b[0;34m.\u001b[0m\u001b[0mmy_data_mask\u001b[0m\u001b[0;34m)\u001b[0m \u001b[0;34m&\u001b[0m \u001b[0;34m(\u001b[0m\u001b[0mnp\u001b[0m\u001b[0;34m.\u001b[0m\u001b[0mabs\u001b[0m\u001b[0;34m(\u001b[0m\u001b[0mthisCam\u001b[0m\u001b[0;34m.\u001b[0m\u001b[0mRVs\u001b[0m\u001b[0;34m)\u001b[0m\u001b[0;34m<\u001b[0m\u001b[0;36m2e4\u001b[0m\u001b[0;34m)\u001b[0m\u001b[0;34m)\u001b[0m\u001b[0;34m\u001b[0m\u001b[0m\n\u001b[0m\u001b[1;32m      7\u001b[0m \u001b[0;31m# RVMask = thisCam.safe_flag\u001b[0m\u001b[0;34m\u001b[0m\u001b[0;34m\u001b[0m\u001b[0m\n\u001b[1;32m      8\u001b[0m \u001b[0mthisCam\u001b[0m\u001b[0;34m.\u001b[0m\u001b[0msafe_flag\u001b[0m \u001b[0;34m=\u001b[0m \u001b[0mRVMask\u001b[0m\u001b[0;34m\u001b[0m\u001b[0m\n",
        "\u001b[0;31mAttributeError\u001b[0m: exposures instance has no attribute 'my_data_mask'"
       ]
      }
     ],
     "prompt_number": 102
    },
    {
     "cell_type": "code",
     "collapsed": false,
     "input": [
      "#Plots RVs, baryvels for all 4 cameras\n",
      "plt.title(filehandler.name[:-4])\n",
      "plt.plot(thisStar.exposures.JDs, thisStar.exposures.rel_baryVels, label = 'Barycentric Vel. ')\n",
      "\n",
      "thisCam = thisStar.exposures.cameras[0]\n",
      "# RVMask = thisStar.exposures.my_data_mask\n",
      "# RVMask = ((thisStar.exposures.my_data_mask) & (np.abs(thisCam.RVs)<50000))\n",
      "RVMask = thisCam.safe_flag\n",
      "# plt.scatter(thisStar.exposures.JDs[RVMask], thisCam.DDRVs[RVMask], label = 'Blue', color ='b' )\n",
      "plt.scatter(thisStar.exposures.JDs[RVMask], thisCam.DDRVs[RVMask]-thisStar.exposures.rel_baryVels, label = 'Blue', color ='b' )\n",
      "# plt.errorbar(thisStar.exposures.JDs[RVMask], thisCam.DDRVs[RVMask], yerr=thisCam.sigmas[RVMask],fmt='.', label = 'Blue', color ='b' )\n",
      "\n",
      "thisCam = thisStar.exposures.cameras[1]\n",
      "# RVMask = thisStar.exposures.my_data_mask\n",
      "# RVMask = np.abs(thisCam.RVs)<1e6\n",
      "RVMask = thisCam.safe_flag\n",
      "# plt.scatter(thisStar.exposures.JDs[RVMask], thisCam.DDRVs[RVMask], label = 'Green' , color ='g')\n",
      "# plt.errorbar(thisStar.exposures.JDs[RVMask], thisCam.RVs[RVMask], yerr=thisCam.sigmas[RVMask],fmt='.', label = 'Green' , color ='g')\n",
      "\n",
      "thisCam = thisStar.exposures.cameras[2]\n",
      "# RVMask = thisStar.exposures.my_data_mask\n",
      "# RVMask = np.abs(thisCam.RVs)<2e5\n",
      "RVMask = thisCam.safe_flag\n",
      "# plt.scatter(thisStar.exposures.JDs[RVMask], thisCam.DDRVs[RVMask], label = 'Red' , color ='r')\n",
      "plt.scatter(thisStar.exposures.JDs[RVMask], thisCam.DDRVs[RVMask]-thisStar.exposures.rel_baryVels, label = 'Red' , color ='r')\n",
      "# plt.errorbar(thisStar.exposures.JDs[RVMask], thisCam.RVs[RVMask], yerr=thisCam.sigmas[RVMask],fmt='.', label = 'Red' , color ='r')\n",
      "\n",
      "thisCam = thisStar.exposures.cameras[3]\n",
      "# RVMask = thisStar.exposures.my_data_mask\n",
      "# RVMask = ((thisStar.exposures.my_data_mask) & (np.abs(thisCam.RVs)<20000))\n",
      "RVMask = thisCam.safe_flag\n",
      "# plt.scatter(thisStar.exposures.JDs[RVMask], thisCam.DDRVs[RVMask], label = 'IR', color ='cyan' )\n",
      "# plt.errorbar(thisStar.exposures.JDs[RVMask], thisCam.RVs[RVMask], yerr=thisCam.sigmas[RVMask],fmt='.', label = 'IR', color ='cyan' )\n",
      "\n",
      "start_day = 56889.000000 # The Julian date for CE  2014 August 20 00:00:00.0 UT  (10am australia)\n",
      "end_day = 56895.000000 #The Julian date for CE  2014 August 26 00:00:00.0 UT (10am australia)\n",
      "\n",
      "days = np.linspace(start_day, end_day) \n",
      "\n",
      "K1=26100\n",
      "peri_time = 19298.85\n",
      "P=4.8202\n",
      "peri_arg=269.3\n",
      "RV = K1* np.sin( (days-peri_time)/P*2*np.pi - peri_arg/360*2*np.pi )\n",
      "plt.plot(days, RV, linewidth = 1, label = 'rhoTuc' )\n",
      "\n",
      "plt.xlabel('JD')\n",
      "plt.ylabel('RV [m/s]')\n",
      "plt.legend(loc=0)\n",
      "plt.show()"
     ],
     "language": "python",
     "metadata": {},
     "outputs": [],
     "prompt_number": 17
    },
    {
     "cell_type": "code",
     "collapsed": false,
     "input": [
      "#plots all data\n",
      "thisCam = thisStar.exposures.cameras[1]\n",
      "for i in [10]:\n",
      "    \n",
      "    fig = plt.gcf()\n",
      "    fig.suptitle(filehandler.name[:-4]+' - t0 vs t'+str(i)+' - RV='+str(thisCam.RVs[i])+' m/s', fontsize=14)\n",
      "\n",
      "    plt.subplot(221)\n",
      "    plt.title('Clean Flux')\n",
      "    plt.plot(thisCam.clean_wavelengths[i][::50],thisCam.clean_fluxes[i][::50])\n",
      "    plt.xlabel('Wavelength [ang]')\n",
      "    plt.ylabel('Flux [Counts]')\n",
      "    plt.legend(loc=0)\n",
      "    \n",
      "    plt.subplot(223)\n",
      "    plt.title('Clean Flux - Detail')\n",
      "    plt.plot(thisCam.clean_median_wavelength,thisCam.clean_median_flux, label = 'Median Flux')\n",
      "    plt.plot(thisCam.clean_wavelengths[i],thisCam.clean_fluxes[i], label = 'Epoch '+str(i))\n",
      "    plt.axis((4859,4864, -1,1))\n",
      "    plt.xlabel('Wavelength [ang]')\n",
      "    plt.ylabel('Flux [Counts]')\n",
      "    plt.legend(loc=0)\n",
      "\n",
      "    plt.subplot(222)\n",
      "    plt.title('Cross Correlation Result')\n",
      "    plt.plot((thisCam.clean_wavelengths[i]-np.median(thisCam.clean_wavelengths[i]))/thisCam.clean_wavelengths[i]*const.c,thisCam.CCCurves[i]/np.max(thisCam.CCCurves[i]))\n",
      "    plt.plot((thisCam.clean_wavelengths[i]-np.median(thisCam.clean_wavelengths[i]))/thisCam.clean_wavelengths[i]*const.c,\n",
      "             gaussian(range(len(thisCam.clean_wavelengths[i])), thisCam.Ps[i][0], thisCam.Ps[i][1]), label = 'gaussian fit') \n",
      "    plt.xlabel('RV [m/s]')\n",
      "    plt.legend(loc=0)\n",
      "    \n",
      "    plt.subplot(224)\n",
      "    plt.title('Cross Correlation Result - Detail')\n",
      "    plt.plot((thisCam.clean_wavelengths[i]-np.median(thisCam.clean_wavelengths[i]))/thisCam.clean_wavelengths[i]*const.c,thisCam.CCCurves[i]/np.max(thisCam.CCCurves[i]))\n",
      "    plt.plot((thisCam.clean_wavelengths[i]-np.median(thisCam.clean_wavelengths[i]))/thisCam.clean_wavelengths[i]*const.c,\n",
      "             gaussian(range(len(thisCam.clean_wavelengths[i])), thisCam.Ps[i][0], thisCam.Ps[i][1]), label = 'gaussian fit') \n",
      "    plt.axis((-8000, 8000,0.5,1.1) )\n",
      "    plt.xlabel('RV [m/s]')\n",
      "    plt.legend(loc=0)    \n",
      "\n",
      "    plt.tight_layout()\n",
      "    plt.show()\n"
     ],
     "language": "python",
     "metadata": {},
     "outputs": [
      {
       "ename": "IndexError",
       "evalue": "index out of bounds",
       "output_type": "pyerr",
       "traceback": [
        "\u001b[0;31m---------------------------------------------------------------------------\u001b[0m\n\u001b[0;31mIndexError\u001b[0m                                Traceback (most recent call last)",
        "\u001b[0;32m<ipython-input-93-5b5e532fdfcb>\u001b[0m in \u001b[0;36m<module>\u001b[0;34m()\u001b[0m\n\u001b[1;32m      4\u001b[0m \u001b[0;34m\u001b[0m\u001b[0m\n\u001b[1;32m      5\u001b[0m     \u001b[0mfig\u001b[0m \u001b[0;34m=\u001b[0m \u001b[0mplt\u001b[0m\u001b[0;34m.\u001b[0m\u001b[0mgcf\u001b[0m\u001b[0;34m(\u001b[0m\u001b[0;34m)\u001b[0m\u001b[0;34m\u001b[0m\u001b[0m\n\u001b[0;32m----> 6\u001b[0;31m     \u001b[0mfig\u001b[0m\u001b[0;34m.\u001b[0m\u001b[0msuptitle\u001b[0m\u001b[0;34m(\u001b[0m\u001b[0mfilehandler\u001b[0m\u001b[0;34m.\u001b[0m\u001b[0mname\u001b[0m\u001b[0;34m[\u001b[0m\u001b[0;34m:\u001b[0m\u001b[0;34m-\u001b[0m\u001b[0;36m4\u001b[0m\u001b[0;34m]\u001b[0m\u001b[0;34m+\u001b[0m\u001b[0;34m' - t0 vs t'\u001b[0m\u001b[0;34m+\u001b[0m\u001b[0mstr\u001b[0m\u001b[0;34m(\u001b[0m\u001b[0mi\u001b[0m\u001b[0;34m)\u001b[0m\u001b[0;34m+\u001b[0m\u001b[0;34m' - RV='\u001b[0m\u001b[0;34m+\u001b[0m\u001b[0mstr\u001b[0m\u001b[0;34m(\u001b[0m\u001b[0mthisCam\u001b[0m\u001b[0;34m.\u001b[0m\u001b[0mRVs\u001b[0m\u001b[0;34m[\u001b[0m\u001b[0mi\u001b[0m\u001b[0;34m]\u001b[0m\u001b[0;34m)\u001b[0m\u001b[0;34m+\u001b[0m\u001b[0;34m' m/s'\u001b[0m\u001b[0;34m,\u001b[0m \u001b[0mfontsize\u001b[0m\u001b[0;34m=\u001b[0m\u001b[0;36m14\u001b[0m\u001b[0;34m)\u001b[0m\u001b[0;34m\u001b[0m\u001b[0m\n\u001b[0m\u001b[1;32m      7\u001b[0m \u001b[0;34m\u001b[0m\u001b[0m\n\u001b[1;32m      8\u001b[0m     \u001b[0mplt\u001b[0m\u001b[0;34m.\u001b[0m\u001b[0msubplot\u001b[0m\u001b[0;34m(\u001b[0m\u001b[0;36m221\u001b[0m\u001b[0;34m)\u001b[0m\u001b[0;34m\u001b[0m\u001b[0m\n",
        "\u001b[0;31mIndexError\u001b[0m: index out of bounds"
       ]
      }
     ],
     "prompt_number": 93
    },
    {
     "cell_type": "code",
     "collapsed": false,
     "input": [
      "#plots all CC fitted gausian results\\n\",\n",
      "# for i in range(CCCurves.shape[0]):\\n\",\n",
      "thisCam = thisStar.exposures.cameras[0]\n",
      "for i in range(10):\n",
      "    plt.plot((thisCam.clean_wavelengths[i]-np.median(thisCam.clean_wavelengths[i]))/thisCam.clean_wavelengths[i]*const.c,thisCam.CCCurves[i]/np.max(thisCam.CCCurves[i]))\n",
      "#     plt.plot((thisCam.clean_wavelengths[i]-np.median(thisCam.clean_wavelengths[i]))/thisCam.clean_wavelengths[i]*const.c,\n",
      "#              gaussian(range(len(thisCam.clean_wavelengths[i])), thisCam.Ps[i][0], thisCam.Ps[i][1])) \n",
      "    plt.xlabel('RV [m/s]')\n",
      "plt.show()\n"
     ],
     "language": "python",
     "metadata": {},
     "outputs": [
      {
       "ename": "IndexError",
       "evalue": "index 8 is out of bounds for axis 0 with size 8",
       "output_type": "pyerr",
       "traceback": [
        "\u001b[0;31m---------------------------------------------------------------------------\u001b[0m\n\u001b[0;31mIndexError\u001b[0m                                Traceback (most recent call last)",
        "\u001b[0;32m<ipython-input-69-58fec993073f>\u001b[0m in \u001b[0;36m<module>\u001b[0;34m()\u001b[0m\n\u001b[1;32m      3\u001b[0m \u001b[0mthisCam\u001b[0m \u001b[0;34m=\u001b[0m \u001b[0mthisStar\u001b[0m\u001b[0;34m.\u001b[0m\u001b[0mexposures\u001b[0m\u001b[0;34m.\u001b[0m\u001b[0mcameras\u001b[0m\u001b[0;34m[\u001b[0m\u001b[0;36m0\u001b[0m\u001b[0;34m]\u001b[0m\u001b[0;34m\u001b[0m\u001b[0m\n\u001b[1;32m      4\u001b[0m \u001b[0;32mfor\u001b[0m \u001b[0mi\u001b[0m \u001b[0;32min\u001b[0m \u001b[0mrange\u001b[0m\u001b[0;34m(\u001b[0m\u001b[0;36m10\u001b[0m\u001b[0;34m)\u001b[0m\u001b[0;34m:\u001b[0m\u001b[0;34m\u001b[0m\u001b[0m\n\u001b[0;32m----> 5\u001b[0;31m     \u001b[0mplt\u001b[0m\u001b[0;34m.\u001b[0m\u001b[0mplot\u001b[0m\u001b[0;34m(\u001b[0m\u001b[0;34m(\u001b[0m\u001b[0mthisCam\u001b[0m\u001b[0;34m.\u001b[0m\u001b[0mclean_wavelengths\u001b[0m\u001b[0;34m[\u001b[0m\u001b[0mi\u001b[0m\u001b[0;34m]\u001b[0m\u001b[0;34m-\u001b[0m\u001b[0mnp\u001b[0m\u001b[0;34m.\u001b[0m\u001b[0mmedian\u001b[0m\u001b[0;34m(\u001b[0m\u001b[0mthisCam\u001b[0m\u001b[0;34m.\u001b[0m\u001b[0mclean_wavelengths\u001b[0m\u001b[0;34m[\u001b[0m\u001b[0mi\u001b[0m\u001b[0;34m]\u001b[0m\u001b[0;34m)\u001b[0m\u001b[0;34m)\u001b[0m\u001b[0;34m/\u001b[0m\u001b[0mthisCam\u001b[0m\u001b[0;34m.\u001b[0m\u001b[0mclean_wavelengths\u001b[0m\u001b[0;34m[\u001b[0m\u001b[0mi\u001b[0m\u001b[0;34m]\u001b[0m\u001b[0;34m*\u001b[0m\u001b[0mconst\u001b[0m\u001b[0;34m.\u001b[0m\u001b[0mc\u001b[0m\u001b[0;34m,\u001b[0m\u001b[0mthisCam\u001b[0m\u001b[0;34m.\u001b[0m\u001b[0mCCCurves\u001b[0m\u001b[0;34m[\u001b[0m\u001b[0mi\u001b[0m\u001b[0;34m]\u001b[0m\u001b[0;34m/\u001b[0m\u001b[0mnp\u001b[0m\u001b[0;34m.\u001b[0m\u001b[0mmax\u001b[0m\u001b[0;34m(\u001b[0m\u001b[0mthisCam\u001b[0m\u001b[0;34m.\u001b[0m\u001b[0mCCCurves\u001b[0m\u001b[0;34m[\u001b[0m\u001b[0mi\u001b[0m\u001b[0;34m]\u001b[0m\u001b[0;34m)\u001b[0m\u001b[0;34m)\u001b[0m\u001b[0;34m\u001b[0m\u001b[0m\n\u001b[0m\u001b[1;32m      6\u001b[0m \u001b[0;31m#     plt.plot((thisCam.clean_wavelengths[i]-np.median(thisCam.clean_wavelengths[i]))/thisCam.clean_wavelengths[i]*const.c,\u001b[0m\u001b[0;34m\u001b[0m\u001b[0;34m\u001b[0m\u001b[0m\n\u001b[1;32m      7\u001b[0m \u001b[0;31m#              gaussian(range(len(thisCam.clean_wavelengths[i])), thisCam.Ps[i][0], thisCam.Ps[i][1]))\u001b[0m\u001b[0;34m\u001b[0m\u001b[0;34m\u001b[0m\u001b[0m\n",
        "\u001b[0;31mIndexError\u001b[0m: index 8 is out of bounds for axis 0 with size 8"
       ]
      }
     ],
     "prompt_number": 69
    },
    {
     "cell_type": "code",
     "collapsed": false,
     "input": [
      "#Debuging CC - resampling and cleaning tests\n",
      "flux1 = thisStar.exposures.cameras[0].red_fluxes[0]\n",
      "lambda1 = thisStar.exposures.cameras[0].wavelengths[0]\n",
      "lambda1Clean_10, flux1Clean_10 = clean_flux(flux1, 1, lambda1)\n",
      "# lambda1Clean_10, flux1Clean_10 = clean_flux(flux1, xDef, lambda1)\n",
      "# lambda1Clean_100, flux1Clean_100 = clean_flux(flux1, 100, lambda1)\\n\",\n",
      "plt.plot(lambda1,flux1/np.max(flux1), label= 'Reduced')\n",
      "# plt.plot(lambda1Clean_1,flux1Clean_1)\n",
      "plt.plot(lambda1Clean_10,flux1Clean_10, label= 'Clean')\n",
      "# plt.plot(lambda1Clean_100,flux1Clean_100)\n",
      "plt.title('Reduced and Clean flux')\n",
      "plt.xlabel('Wavelength [Ang.]')\n",
      "plt.ylabel('Relatuve Flux')\n",
      "plt.legend(loc=0)\n",
      "plt.show()\n"
     ],
     "language": "python",
     "metadata": {},
     "outputs": [],
     "prompt_number": 70
    },
    {
     "cell_type": "code",
     "collapsed": false,
     "input": [
      "#Saves\n",
      "# delattr(thisStar.exposures.cameras[0],'clean_fluxes')\n",
      "# delattr(thisStar.exposures.cameras[1],'clean_fluxes')\n",
      "# delattr(thisStar.exposures.cameras[2],'clean_fluxes')\n",
      "# delattr(thisStar.exposures.cameras[3],'clean_fluxes')\n",
      "# delattr(thisStar.exposures.cameras[0],'clean_wavelengths')\n",
      "# delattr(thisStar.exposures.cameras[1],'clean_wavelengths')\n",
      "# delattr(thisStar.exposures.cameras[2],'clean_wavelengths')\n",
      "# delattr(thisStar.exposures.cameras[3],'clean_wavelengths')\n",
      "# file_pi = open(filehandler.name, 'w') \n",
      "# pickle.dump(thisStar, file_pi) \n",
      "# file_pi.close()\n",
      "# filehandler.close()\n",
      "# thisStar = None"
     ],
     "language": "python",
     "metadata": {},
     "outputs": [],
     "prompt_number": 78
    },
    {
     "cell_type": "code",
     "collapsed": false,
     "input": [],
     "language": "python",
     "metadata": {},
     "outputs": []
    }
   ],
   "metadata": {}
  }
 ]
}