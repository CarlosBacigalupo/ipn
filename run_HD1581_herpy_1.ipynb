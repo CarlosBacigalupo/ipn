{
 "cells": [
  {
   "cell_type": "code",
   "execution_count": null,
   "metadata": {
    "collapsed": true
   },
   "outputs": [],
   "source": []
  },
  {
   "cell_type": "code",
   "execution_count": 1,
   "metadata": {
    "collapsed": false
   },
   "outputs": [
    {
     "data": {
      "text/plain": [
       "<module 'myHerpyTools' from 'myHerpyTools.pyc'>"
      ]
     },
     "execution_count": 1,
     "metadata": {},
     "output_type": "execute_result"
    }
   ],
   "source": [
    "import myHerpyTools as MHT\n",
    "import os\n",
    "reload(MHT)"
   ]
  },
  {
   "cell_type": "code",
   "execution_count": 2,
   "metadata": {
    "collapsed": false
   },
   "outputs": [
    {
     "name": "stdout",
     "output_type": "stream",
     "text": [
      "/Users/Carlos/Documents/HERMES/reductions/new_start_6.5/HD1581\n"
     ]
    }
   ],
   "source": [
    "cd /Users/Carlos/Documents/HERMES/reductions/new_start_6.5/HD1581/"
   ]
  },
  {
   "cell_type": "code",
   "execution_count": 3,
   "metadata": {
    "collapsed": true
   },
   "outputs": [],
   "source": [
    "folder = 'herpy_out'"
   ]
  },
  {
   "cell_type": "code",
   "execution_count": 4,
   "metadata": {
    "collapsed": false
   },
   "outputs": [],
   "source": [
    "try:\n",
    "    os.makedirs(folder)\n",
    "except:\n",
    "    pass\n"
   ]
  },
  {
   "cell_type": "code",
   "execution_count": null,
   "metadata": {
    "collapsed": false
   },
   "outputs": [],
   "source": [
    "flatFileName = '0_20aug/1/20aug10034.fits'\n",
    "arcFileName = '0_20aug/1/20aug10052.fits'\n",
    "objFileName = '0_20aug/1/20aug10053.fits'\n",
    "\n",
    "flatFileName = '1_21aug/1/21aug10047.fits'\n",
    "arcFileName = '1_21aug/1/21aug10046.fits'\n",
    "objFileName = '1_21aug/1/21aug10041.fits'\n",
    "\n",
    "flatFileName = '2_22aug/1/22aug10032.fits'\n",
    "arcFileName = '2_22aug/1/22aug10031.fits'\n",
    "objFileName = '2_22aug/1/22aug10036.fits'\n",
    "\n",
    "flatFileName = '3_24aug/1/24aug10053.fits'\n",
    "arcFileName = '3_24aug/1/24aug10054.fits'\n",
    "objFileName = '3_24aug/1/24aug10058.fits'\n",
    "\n",
    "flatFileName = '4_25aug/1/25aug10039.fits'\n",
    "arcFileName = '4_25aug/1/25aug10043.fits'\n",
    "objFileName = '4_25aug/1/25aug10044.fits'"
   ]
  },
  {
   "cell_type": "code",
   "execution_count": null,
   "metadata": {
    "collapsed": false
   },
   "outputs": [],
   "source": [
    "#Opening files\n",
    "flat = MHT.openFile(flatFileName)\n",
    "arc =  MHT.openFile(arcFileName)\n",
    "obj =  MHT.openFile(objFileName)\n"
   ]
  },
  {
   "cell_type": "code",
   "execution_count": null,
   "metadata": {
    "collapsed": false
   },
   "outputs": [],
   "source": [
    "flat_flat = MHT.make_flat_flat(flat)"
   ]
  },
  {
   "cell_type": "code",
   "execution_count": null,
   "metadata": {
    "collapsed": false
   },
   "outputs": [],
   "source": [
    "#Check results\n",
    "# plt.imshow(flat_flat)\n",
    "# plt.show()"
   ]
  },
  {
   "cell_type": "code",
   "execution_count": null,
   "metadata": {
    "collapsed": false
   },
   "outputs": [],
   "source": [
    "# #Thesis plots. Skip for processing\n",
    "# i=20\n",
    "# singleCol = flat_flat[:,i].copy()\n",
    "# singleMinEnv = convolve(minimum_filter(singleCol,15),[.2,.2,.2,.2,.2])\n",
    "# singleMin = singleCol - singleMinEnv\n",
    "\n",
    "# singleMax = convolve(maximum_filter(singleMin,15),[.2,.2,.2,.2,.2]) \n",
    "\n",
    "# fixer = convolve(singleMax, np.ones(200)/200)\n",
    "# singleMax[singleMax<fixer*.5] = fixer[singleMax<fixer*.5]*.5\n",
    "# singleColFlat = singleMin.copy()/singleMax.copy()\n",
    "# singleMax += singleMinEnv\n",
    "\n",
    "# # plt.plot(singleCol)\n",
    "# # plt.plot(singleMinEnv) \n",
    "# # plt.plot(singleMax) \n",
    "\n",
    "# singleColFlat_bin = singleColFlat.copy()\n",
    "# singleColFlat_bin[singleColFlat>.3] = 1\n",
    "# singleColFlat_bin[singleColFlat<.3] = 0\n",
    "\n",
    "# flat_flat_bin = flat_flat.copy()\n",
    "# flat_flat_bin[:,i] = singleColFlat_bin\n",
    "\n",
    "# plt.title(\"Normalised Fibres and Binary Mask\")\n",
    "# plt.xlabel(\"Pixel Index\")\n",
    "# plt.ylabel(\"Intensity\")\n",
    "# plt.plot(singleColFlat)\n",
    "# # plt.plot(flat_flat_bin[:,i]) \n",
    "# plt.fill_between(range(flat_flat_bin.shape[0]),flat_flat_bin[:,i], alpha =0.3, color ='black')\n",
    "# plt.show()\n"
   ]
  },
  {
   "cell_type": "code",
   "execution_count": null,
   "metadata": {
    "collapsed": false
   },
   "outputs": [],
   "source": [
    "flat_flat_bin = MHT.make_flat_flat_bin(flat_flat)"
   ]
  },
  {
   "cell_type": "code",
   "execution_count": null,
   "metadata": {
    "collapsed": false
   },
   "outputs": [],
   "source": [
    "# #Check results\n",
    "# plt.plot(flat_flat_bin[:,102])\n",
    "# plt.show()"
   ]
  },
  {
   "cell_type": "code",
   "execution_count": null,
   "metadata": {
    "collapsed": false
   },
   "outputs": [],
   "source": [
    "# plt.imshow(out_array)\n",
    "# plt.show()"
   ]
  },
  {
   "cell_type": "code",
   "execution_count": null,
   "metadata": {
    "collapsed": false
   },
   "outputs": [],
   "source": [
    "# np.max(out_array)"
   ]
  },
  {
   "cell_type": "code",
   "execution_count": null,
   "metadata": {
    "collapsed": false
   },
   "outputs": [],
   "source": [
    "fibre_centroids = MHT.make_fibre_centroids(flat_flat_bin)"
   ]
  },
  {
   "cell_type": "code",
   "execution_count": null,
   "metadata": {
    "collapsed": false,
    "scrolled": true
   },
   "outputs": [],
   "source": [
    "# fibre_centroids"
   ]
  },
  {
   "cell_type": "code",
   "execution_count": null,
   "metadata": {
    "collapsed": false
   },
   "outputs": [],
   "source": [
    "# MHT.plt.imshow(MHT.np.isnan(fibre_centroids))\n",
    "# MHT.plt.show()"
   ]
  },
  {
   "cell_type": "code",
   "execution_count": null,
   "metadata": {
    "collapsed": false
   },
   "outputs": [],
   "source": [
    "# for i in range(397):\n",
    "#     print np.sum(np.isnan(fibre_centroids[3,:]))"
   ]
  },
  {
   "cell_type": "code",
   "execution_count": null,
   "metadata": {
    "collapsed": false
   },
   "outputs": [],
   "source": [
    "#line to remove 251 and 252 that have nans\n",
    "# fibre_centroids = np.delete(fibre_centroids,251,0) #2 times for epoch0\n",
    "# fibre_centroids = np.delete(fibre_centroids,372,0) 3 times for epoch1\n",
    "# np.sum(np.isnan(fibre_centroids),1)"
   ]
  },
  {
   "cell_type": "code",
   "execution_count": null,
   "metadata": {
    "collapsed": false
   },
   "outputs": [],
   "source": [
    "fibrePolys = MHT.make_fibrePolys(fibre_centroids)"
   ]
  },
  {
   "cell_type": "code",
   "execution_count": null,
   "metadata": {
    "collapsed": false
   },
   "outputs": [],
   "source": [
    "tramlines = MHT.make_tramlines(fibre_centroids, fibrePolys)"
   ]
  },
  {
   "cell_type": "code",
   "execution_count": null,
   "metadata": {
    "collapsed": false
   },
   "outputs": [],
   "source": [
    "#find vertical shift\n",
    "shift = MHT.find_vertical_shift(flat, arc) #result to be subtracted to the tramlines (1st array in the CC...)\n",
    "tramlines_shifted = tramlines - shift"
   ]
  },
  {
   "cell_type": "code",
   "execution_count": null,
   "metadata": {
    "collapsed": false
   },
   "outputs": [],
   "source": [
    "shift"
   ]
  },
  {
   "cell_type": "code",
   "execution_count": null,
   "metadata": {
    "collapsed": false
   },
   "outputs": [],
   "source": [
    "# #gaussian fit results\n",
    "# plt.plot(x,y)\n",
    "# # plt.plot(x_dense,gaussian(x_dense,p[0],p[1]))\n",
    "# plt.show()"
   ]
  },
  {
   "cell_type": "code",
   "execution_count": null,
   "metadata": {
    "collapsed": false
   },
   "outputs": [],
   "source": [
    "extracted_arc = MHT.extract(tramlines_shifted, arc)\n",
    "MHT.write_NPY(arcFileName, \"arc\", \"px\", extracted_arc, folder)"
   ]
  },
  {
   "cell_type": "code",
   "execution_count": null,
   "metadata": {
    "collapsed": false
   },
   "outputs": [],
   "source": [
    "extracted_obj = MHT.extract(tramlines_shifted, obj)\n",
    "MHT.write_NPY(objFileName, \"obj\", \"px\", extracted_obj, folder)"
   ]
  },
  {
   "cell_type": "code",
   "execution_count": null,
   "metadata": {
    "collapsed": false
   },
   "outputs": [],
   "source": [
    "# MHT.plt.plot(MHT.np.median(extracted_arc,axis=0))\n",
    "# MHT.plt.show()"
   ]
  },
  {
   "cell_type": "code",
   "execution_count": null,
   "metadata": {
    "collapsed": false
   },
   "outputs": [],
   "source": [
    "# MHT.plt.plot(extracted_arc[170])\n",
    "# MHT.plt.show()"
   ]
  }
 ],
 "metadata": {
  "kernelspec": {
   "display_name": "Python 2",
   "language": "python",
   "name": "python2"
  },
  "language_info": {
   "codemirror_mode": {
    "name": "ipython",
    "version": 2
   },
   "file_extension": ".py",
   "mimetype": "text/x-python",
   "name": "python",
   "nbconvert_exporter": "python",
   "pygments_lexer": "ipython2",
   "version": "2.7.3"
  }
 },
 "nbformat": 4,
 "nbformat_minor": 0
}
