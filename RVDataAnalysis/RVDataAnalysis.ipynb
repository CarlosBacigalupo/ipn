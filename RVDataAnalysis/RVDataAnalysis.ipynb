{
 "cells": [
  {
   "cell_type": "code",
   "execution_count": 2,
   "metadata": {
    "collapsed": false
   },
   "outputs": [
    {
     "name": "stderr",
     "output_type": "stream",
     "text": [
      "/Users/Carlos/Library/Enthought/Canopy_64bit/User/lib/python2.7/site-packages/IPython/kernel/__init__.py:13: ShimWarning: The `IPython.kernel` package has been deprecated. You should import from ipykernel or jupyter_client instead.\n",
      "  \"You should import from ipykernel or jupyter_client instead.\", ShimWarning)\n"
     ]
    }
   ],
   "source": [
    "import numpy as np\n",
    "import pandas as pd\n",
    "import pylab as plt\n",
    "import pyfits as pf\n",
    "import RVTools as RVT\n",
    "\n",
    "import astropy.units as u\n",
    "from astropy.coordinates import SkyCoord"
   ]
  },
  {
   "cell_type": "code",
   "execution_count": 3,
   "metadata": {
    "collapsed": false
   },
   "outputs": [],
   "source": [
    "def f1(x):\n",
    "    return '%5.2f' % x"
   ]
  },
  {
   "cell_type": "markdown",
   "metadata": {},
   "source": [
    "### 47tuc"
   ]
  },
  {
   "cell_type": "code",
   "execution_count": null,
   "metadata": {
    "collapsed": false
   },
   "outputs": [],
   "source": [
    "cd ~/Documents/HERMES/reductions/47Tuc_core_6.2/npy"
   ]
  },
  {
   "cell_type": "code",
   "execution_count": null,
   "metadata": {
    "collapsed": false
   },
   "outputs": [],
   "source": [
    "cd ~/Documents/HERMES/reductions/47Tuc_core_6.2/npy_150509/"
   ]
  },
  {
   "cell_type": "code",
   "execution_count": null,
   "metadata": {
    "collapsed": false
   },
   "outputs": [],
   "source": [
    "cd ~/Documents/HERMES/reductions/47Tuc_core_1arc_6.2/npy/"
   ]
  },
  {
   "cell_type": "code",
   "execution_count": null,
   "metadata": {
    "collapsed": false
   },
   "outputs": [],
   "source": [
    "cd ~/Documents/HERMES/reductions/47Tuc_core_1arc_6.2/npy_150509/"
   ]
  },
  {
   "cell_type": "code",
   "execution_count": null,
   "metadata": {
    "collapsed": false
   },
   "outputs": [],
   "source": [
    "cd ~/Documents/HERMES/reductions/6.5/47Tuc_core/npy/"
   ]
  },
  {
   "cell_type": "markdown",
   "metadata": {},
   "source": [
    "### HD1581"
   ]
  },
  {
   "cell_type": "code",
   "execution_count": null,
   "metadata": {
    "collapsed": false
   },
   "outputs": [],
   "source": [
    "cd ~/Documents/HERMES/reductions/HD1581_6.2/npy/"
   ]
  },
  {
   "cell_type": "code",
   "execution_count": null,
   "metadata": {
    "collapsed": false
   },
   "outputs": [],
   "source": [
    "cd ~/Documents/HERMES/data/140820/data/ccd_1/"
   ]
  },
  {
   "cell_type": "markdown",
   "metadata": {},
   "source": [
    "### HD285507"
   ]
  },
  {
   "cell_type": "code",
   "execution_count": null,
   "metadata": {
    "collapsed": false
   },
   "outputs": [],
   "source": [
    "cd ~/Documents/HERMES/reductions/HD285507_6.2/npy_150509/"
   ]
  },
  {
   "cell_type": "code",
   "execution_count": null,
   "metadata": {
    "collapsed": false
   },
   "outputs": [],
   "source": [
    "cd ~/Documents/HERMES/reductions/HD285507_6.2/npy/"
   ]
  },
  {
   "cell_type": "code",
   "execution_count": null,
   "metadata": {
    "collapsed": false
   },
   "outputs": [],
   "source": [
    "cd ~/Documents/HERMES/reductions/6.5/HD285507_1arc/npy/"
   ]
  },
  {
   "cell_type": "code",
   "execution_count": null,
   "metadata": {
    "collapsed": false
   },
   "outputs": [],
   "source": [
    "cd ~/Documents/HERMES/reductions/HD285507_1arc_6.2/npy/"
   ]
  },
  {
   "cell_type": "code",
   "execution_count": null,
   "metadata": {
    "collapsed": false
   },
   "outputs": [],
   "source": [
    "cd ~/Documents/HERMES/reductions/6.5/HD285507/npy/"
   ]
  },
  {
   "cell_type": "code",
   "execution_count": null,
   "metadata": {
    "collapsed": false
   },
   "outputs": [],
   "source": [
    "cd ~/Documents/HERMES/data/140820/data/ccd_1/"
   ]
  },
  {
   "cell_type": "markdown",
   "metadata": {},
   "source": [
    "### m67"
   ]
  },
  {
   "cell_type": "code",
   "execution_count": null,
   "metadata": {
    "collapsed": false
   },
   "outputs": [],
   "source": [
    "cd ~/Documents/HERMES/reductions/m67_6.2/npy"
   ]
  },
  {
   "cell_type": "code",
   "execution_count": null,
   "metadata": {
    "collapsed": false
   },
   "outputs": [],
   "source": [
    "cd ~/Documents/HERMES/reductions/m67_6.2/npy_raw/"
   ]
  },
  {
   "cell_type": "code",
   "execution_count": null,
   "metadata": {
    "collapsed": false
   },
   "outputs": [],
   "source": [
    "cd ~/Documents/HERMES/reductions/m67_1arc_6.2/"
   ]
  },
  {
   "cell_type": "code",
   "execution_count": 5,
   "metadata": {
    "collapsed": false
   },
   "outputs": [
    {
     "name": "stdout",
     "output_type": "stream",
     "text": [
      "/Users/Carlos/Documents/HERMES/reductions/6.5/m67_lr/npy2\n"
     ]
    }
   ],
   "source": [
    "cd ~/Documents/HERMES/reductions/6.5/m67_lr/npy2/"
   ]
  },
  {
   "cell_type": "code",
   "execution_count": null,
   "metadata": {
    "collapsed": false
   },
   "outputs": [],
   "source": [
    "cd ~/Documents/HERMES/data/140820/data/ccd_1/"
   ]
  },
  {
   "cell_type": "markdown",
   "metadata": {},
   "source": [
    "### NGC2477"
   ]
  },
  {
   "cell_type": "code",
   "execution_count": null,
   "metadata": {
    "collapsed": false
   },
   "outputs": [],
   "source": [
    "cd ~/Documents/HERMES/reductions/NGC2477_6.2/npy"
   ]
  },
  {
   "cell_type": "code",
   "execution_count": null,
   "metadata": {
    "collapsed": false
   },
   "outputs": [],
   "source": [
    "cd ~/Documents/HERMES/reductions/NGC2477_6.2/npy_150509/"
   ]
  },
  {
   "cell_type": "code",
   "execution_count": null,
   "metadata": {
    "collapsed": false
   },
   "outputs": [],
   "source": [
    "cd ~/Documents/HERMES/reductions/NGC2477_1arc_6.2/"
   ]
  },
  {
   "cell_type": "code",
   "execution_count": 1,
   "metadata": {
    "collapsed": false
   },
   "outputs": [
    {
     "name": "stdout",
     "output_type": "stream",
     "text": [
      "/Users/Carlos/Documents/HERMES/reductions/6.5/NGC2477\n"
     ]
    }
   ],
   "source": [
    "cd ~/Documents/HERMES/reductions/6.5/NGC2477/"
   ]
  },
  {
   "cell_type": "markdown",
   "metadata": {},
   "source": [
    "### rhoTuc"
   ]
  },
  {
   "cell_type": "code",
   "execution_count": null,
   "metadata": {
    "collapsed": false
   },
   "outputs": [],
   "source": [
    "cd ~/Documents/HERMES/reductions/rhoTuc_6.2/npy"
   ]
  },
  {
   "cell_type": "code",
   "execution_count": null,
   "metadata": {
    "collapsed": false
   },
   "outputs": [],
   "source": [
    "cd ~/Documents/HERMES/reductions/6.2/rhoTuc_1arc_6.2/npy"
   ]
  },
  {
   "cell_type": "markdown",
   "metadata": {},
   "source": [
    "### Sine Fit Results"
   ]
  },
  {
   "cell_type": "code",
   "execution_count": null,
   "metadata": {
    "collapsed": false
   },
   "outputs": [],
   "source": [
    "fittedData = np.load('fittedData.npy')\n",
    "fittedResults = np.load('fittedResults.npy')\n",
    "fittedRangeResults = np.load('fittedRangeResults.npy')\n",
    "fittedAvgResults = np.load('fittedAvgResults.npy')\n",
    "fittedAvgRangeResults = np.load('fittedAvgRangeResults.npy')\n",
    "\n",
    "# RVs=np.load('RVs.npy')\n",
    "# sigmas=np.load('sigmas.npy')\n",
    "# baryVels=np.load('baryVels.npy')\n",
    "# JDs=np.load('JDs.npy')\n",
    "\n",
    "# thisSlice = RVs\n",
    "# totalStars = RVs.shape[0]\n",
    "# goodStars = np.sum(((thisSlice<5000) & (thisSlice!=0)), axis=0).astype(float)\n",
    "# size = np.array(thisSlice.shape)\n",
    "# total = np.reshape(np.repeat(size[0], size[1]*size[2]),(size[1],size[2]))\n",
    "# labels = ['Blue','Green','Red','IR']\n",
    "\n",
    "labels = ['Name',\n",
    "          'Ratio Cam1','Ratio Cam2','Ratio Cam3','Ratio Cam4',\n",
    "          'Range Cam1','Range Cam2','Range Cam3','Range Cam4',\n",
    "          'Avg Ratio Cam1','Avg Ratio Cam2','Avg Ratio Cam3','Avg Ratio Cam4',\n",
    "          'Avg Range Cam1','Avg Range Cam2','Avg Range Cam3','Avg Range Cam4' ]\n",
    "# print fittedData.astype(str).shape, fittedResults.astype(str).shape\n",
    "data1 =  fittedData\n",
    "df1 = pd.DataFrame(data1)\n",
    "\n",
    "data2 =  np.hstack((fittedResults, fittedRangeResults, fittedAvgResults, fittedAvgRangeResults))\n",
    "df2 = pd.DataFrame(data2)\n",
    "\n",
    "\n",
    "df = pd.concat([df1, df2], axis=1)\n",
    "df.columns = labels\n",
    "\n",
    "# print df.to_latex()\n",
    "print df.loc[0:30][[0,1,5,9,13]].to_latex() #cam1\n",
    "print '\\\\'+'newpage'\n",
    "print df.loc[0:30][[0,2,6,10,14]].to_latex() #cam1\n",
    "print '\\\\'+'newpage'\n",
    "print df.loc[0:30][[0,3,7,11,15]].to_latex() #cam1\n",
    "print '\\\\'+'newpage'\n",
    "print df.loc[0:30][[0,4,8,12,16]].to_latex() #cam1"
   ]
  },
  {
   "cell_type": "markdown",
   "metadata": {},
   "source": [
    "### % of stars within a given RV"
   ]
  },
  {
   "cell_type": "code",
   "execution_count": null,
   "metadata": {
    "collapsed": false
   },
   "outputs": [],
   "source": [
    "data=np.load('data.npy')\n",
    "RVs=np.load('RVs.npy')\n",
    "sigmas=np.load('sigmas.npy')\n",
    "baryVels=np.load('baryVels.npy')\n",
    "JDs=np.load('JDs.npy')\n",
    "thisSlice = RVs\n",
    "totalStars = RVs.shape[0]\n",
    "goodStars = np.sum(((thisSlice<5000) & (thisSlice!=0)), axis=0).astype(float)\n",
    "size = np.array(thisSlice.shape)\n",
    "total = np.reshape(np.repeat(size[0], size[1]*size[2]),(size[1],size[2]))\n",
    "labels = ['Blue','Green','Red','IR']\n",
    "a = pd.DataFrame(goodStars/total*100)\n",
    "a.columns = labels\n",
    "\n",
    "print a.to_latex(formatters=[f1, f1, f1, f1])"
   ]
  },
  {
   "cell_type": "code",
   "execution_count": null,
   "metadata": {
    "collapsed": false
   },
   "outputs": [],
   "source": [
    "a = os.system('ls ')\n",
    "print "
   ]
  },
  {
   "cell_type": "markdown",
   "metadata": {},
   "source": [
    "### Shows all observatios for a list of 'good_targets'"
   ]
  },
  {
   "cell_type": "code",
   "execution_count": 12,
   "metadata": {
    "collapsed": false
   },
   "outputs": [
    {
     "name": "stdout",
     "output_type": "stream",
     "text": [
      "Obs & Filename & Field Name & Plate & MJD & Relative Day (days) & Exp Time (s) \\\\\n",
      "0 & 07jan10028.fits & NGC2477 Short Field & Plate 1 & 56664.429537 & 0.0 & 600.0 \\\\\n",
      "1 & 07jan10029.fits & NGC2477 Short Field & Plate 1 & 56664.4373958 & 0.00785879604518 & 600.0 \\\\\n",
      "2 & 07jan10030.fits & NGC2477 Short Field & Plate 1 & 56664.4456366 & 0.0160995367914 & 600.0 \\\\\n",
      "3 & 07jan10033.fits & NGC2477 Long Field & Plate 0 & 56664.4589931 & 0.0294560184702 & 600.0 \\\\\n",
      "4 & 07jan10034.fits & NGC2477 Long Field & Plate 0 & 56664.4670949 & 0.0375578701496 & 600.0 \\\\\n",
      "5 & 07jan10035.fits & NGC2477 Long Field & Plate 0 & 56664.4751852 & 0.0456481482834 & 600.0 \\\\\n",
      "6 & 07jan10036.fits & NGC2477 Long Field & Plate 0 & 56664.4900347 & 0.0604976852846 & 1800.0 \\\\\n",
      "7 & 07jan10039.fits & NGC2477 Short Field & Plate 1 & 56664.5106597 & 0.0811226852238 & 600.0 \\\\\n",
      "8 & 07jan10040.fits & NGC2477 Short Field & Plate 1 & 56664.5185532 & 0.0890162037686 & 600.0 \\\\\n",
      "9 & 07jan10041.fits & NGC2477 Short Field & Plate 1 & 56664.5264005 & 0.0968634258024 & 600.0 \\\\\n",
      "10 & 07jan10042.fits & NGC2477 Short Field & Plate 1 & 56664.5342593 & 0.104722222313 & 600.0 \\\\\n",
      "11 & 07jan10043.fits & NGC2477 Short Field & Plate 1 & 56664.5421412 & 0.112604166381 & 600.0 \\\\\n",
      "12 & 07jan10044.fits & NGC2477 Short Field & Plate 1 & 56664.5501736 & 0.120636573993 & 600.0 \\\\\n",
      "13 & 07jan10045.fits & NGC2477 Short Field & Plate 1 & 56664.5581597 & 0.128622685093 & 600.0 \\\\\n",
      "14 & 07jan10046.fits & NGC2477 Short Field & Plate 1 & 56664.5660301 & 0.136493055616 & 600.0 \\\\\n",
      "15 & 08jan10020.fits & NGC2477 Short Field & Plate 1 & 56665.5876505 & 1.15811342606 & 600.0 \\\\\n",
      "16 & 08jan10021.fits & NGC2477 Short Field & Plate 1 & 56665.5954977 & 1.1659606481 & 600.0 \\\\\n",
      "17 & 09jan10011.fits & NGC2477 Short Field & Plate 1 & 56666.4608912 & 2.03135416657 & 600.0 \\\\\n",
      "18 & 09jan10012.fits & NGC2477 Short Field & Plate 1 & 56666.4687731 & 2.0392361111 & 600.0 \\\\\n",
      "19 & 09jan10013.fits & NGC2477 Short Field & Plate 1 & 56666.4766204 & 2.04708333313 & 600.0 \\\\\n",
      "20 & 09jan10016.fits & NGC2477 Long Field & Plate 0 & 56666.4890162 & 2.05947916675 & 600.0 \\\\\n",
      "21 & 09jan10017.fits & NGC2477 Long Field & Plate 0 & 56666.4972685 & 2.06773148151 & 600.0 \\\\\n",
      "22 & 09jan10018.fits & NGC2477 Long Field & Plate 0 & 56666.5051273 & 2.07559027756 & 600.0 \\\\\n",
      "23 & 09jan10021.fits & NGC2477 Short Field & Plate 1 & 56666.5177662 & 2.08822916634 & 600.0 \\\\\n",
      "24 & 09jan10022.fits & NGC2477 Short Field & Plate 1 & 56666.5256134 & 2.09607638884 & 600.0 \\\\\n",
      "25 & 09jan10023.fits & NGC2477 Short Field & Plate 1 & 56666.5334375 & 2.10390046285 & 600.0 \\\\\n",
      "26 & 09jan10039.fits & NGC2477 Short Field & Plate 1 & 56666.6407292 & 2.21119212965 & 600.0 \\\\\n",
      "27 & 09jan10040.fits & NGC2477 Short Field & Plate 1 & 56666.6486458 & 2.21910879621 & 600.0 \\\\\n",
      "28 & 09jan10041.fits & NGC2477 Short Field & Plate 1 & 56666.6565741 & 2.22703703679 & 600.0 \\\\\n",
      "29 & 09jan10042.fits & NGC2477 Short Field & Plate 1 & 56666.6643981 & 2.2348611108 & 600.0 \\\\\n",
      "30 & 09jan10053.fits & NGC2477 Long Field & Plate 0 & 56666.7230903 & 2.29355324058 & 1000.0 \\\\\n",
      "31 & 09jan10056.fits & NGC2477 Short Field & Plate 1 & 56666.7410995 & 2.31156249996 & 600.0 \\\\\n",
      "32 & 09jan10057.fits & NGC2477 Short Field & Plate 1 & 56666.7489468 & 2.319409722 & 600.0 \\\\\n",
      "33 & 09jan10058.fits & NGC2477 Short Field & Plate 1 & 56666.7562147 & 2.32667766197 & 421.9 \\\\\n"
     ]
    }
   ],
   "source": [
    "import pyfits as pf\n",
    "import numpy as np\n",
    "import pylab as plt\n",
    "import os\n",
    "import glob\n",
    "import pickle\n",
    "import RVTools as RVT\n",
    "import toolbox\n",
    "\n",
    "os.chdir('/Users/Carlos/Documents/HERMES/data')\n",
    "# raw = []\n",
    "print 'Obs & Filename & Field Name & Plate & MJD & Relative Day (days) & Exp Time (s) \\\\\\\\'\n",
    "# good_targets = np.array(['rhoTuc #176 (Pivot 175)', 'HD1581 #176 (Pivot 175)','HD285507 #227 (Pivot 223)' ])\n",
    "# good_targets = np.array(['rhoTuc #176 (Pivot 175)'])\n",
    "# good_targets = np.array(['HD285507 #227 (Pivot 223)' ])\n",
    "# good_targets = np.array(['M67 12V14','M67 Bright Stars' ])\n",
    "# good_targets = np.array(['HD1581 #176 (Pivot 175)'])\n",
    "# good_targets = np.array(['47Tuc center'])\n",
    "good_targets = np.array(['NGC2477 Short Field','NGC2477 Long Field' ])\n",
    "\n",
    "# good_pivots = [175,175,224]\n",
    "t0 = 0  \n",
    "order = 0 \n",
    "dirs = glob.glob('*')\n",
    "for j in dirs:\n",
    "#     print os.path.abspath(j +'/data/ccd_1/')\n",
    "#     os.chdir(j+'/data/ccd_1/')\n",
    "#     print j +'/data/ccd_1/'\n",
    "    for i in glob.glob(j +'/data/ccd_1/*.fits'):\n",
    "        a = pf.open(i)\n",
    "        if a[0].header['NDFCLASS'] == 'MFOBJECT':\n",
    "            if a[0].header['OBJECT'] in good_targets:\n",
    "                pivot_idx = np.where(a[0].header['OBJECT']== good_targets)[0][0]\n",
    "                e = float(a[0].header['EXPOSED'])/2/24/60/60 # EXPOSED/2 in days\n",
    "                inDate = np.hstack((a[0].header['UTDATE'].split(':'),a[0].header['UTSTART'].split(':'))).astype(int)\n",
    "                UTMJD = toolbox.gd2jd(inDate, TZ=0)-2400000.5 + e\n",
    "                if t0==0:t0=UTMJD\n",
    "                tDiff=UTMJD-t0\n",
    "#                 print str(order)+' & '+ i+' & HD1581 & '+a[0].header['SOURCE']+' & '+str(UTMJD)+' & '+str(tDiff)+' & '+str(a[0].header['EXPOSED']) +' \\\\\\\\'\n",
    "#                 print str(order)+' & '+ i.split('/')[-1]+' & HD285507 & '+a[0].header['SOURCE']+' & '+str(UTMJD)+' & '+str(tDiff)+' & '+str(a[0].header['EXPOSED']) +' \\\\\\\\'\n",
    "#                 print str(order)+' & '+ i.split('/')[-1]+' & '+ 'rhoTuc' +' & '+a[0].header['SOURCE']+' & '+str(UTMJD)+' & '+str(tDiff)+' & '+str(a[0].header['EXPOSED']) +' \\\\\\\\'\n",
    "                print str(order)+' & '+ i.split('/')[-1]+' & '+a[0].header['OBJECT']+' & '+a[0].header['SOURCE']+' & '+str(UTMJD)+' & '+str(tDiff)+' & '+str(a[0].header['EXPOSED']) +' \\\\\\\\'\n",
    "                order +=1\n",
    "#                 raw.append((i, a[0].header['OBJECT'],a[0].header['SOURCE'],a[0].header['UTMJD'],a[0].header['EXPOSED']))            \n",
    "        a.close\n",
    "# raw = np.array(raw)"
   ]
  },
  {
   "cell_type": "markdown",
   "metadata": {},
   "source": [
    "### Shows all observations"
   ]
  },
  {
   "cell_type": "code",
   "execution_count": 5,
   "metadata": {
    "collapsed": false
   },
   "outputs": [],
   "source": [
    "import numpy as np\n",
    "import pandas as pd"
   ]
  },
  {
   "cell_type": "code",
   "execution_count": 6,
   "metadata": {
    "collapsed": false
   },
   "outputs": [
    {
     "name": "stdout",
     "output_type": "stream",
     "text": [
      "/Users/Carlos/Documents/ipn\n"
     ]
    }
   ],
   "source": [
    "cd ~/Documents/ipn/"
   ]
  },
  {
   "cell_type": "code",
   "execution_count": 9,
   "metadata": {
    "collapsed": false
   },
   "outputs": [],
   "source": [
    "outFileNames = np.load('npy/outFileNames.npy')\n",
    "outObjects = np.load('npy/outObjects.npy')\n",
    "outPlates = np.load('npy/outPlates.npy')\n",
    "outMJD_Exp = np.load('npy/outMJD_Exp.npy')\n",
    "\n",
    "# outFileNames = np.delete(outFileNames,86)\n",
    "# outObjects = np.delete(outObjects,86)\n",
    "# outPlates = np.delete(outPlates,86)\n",
    "# outMJD_Exp = np.delete(outMJD_Exp,86, axis = 0)\n",
    "\n",
    "\n",
    "# np.save('npy/outFileNames.npy', outFileNames)\n",
    "# np.save('npy/outObjects.npy', outObjects)\n",
    "# np.save('npy/outPlates.npy', outPlates)\n",
    "# np.save('npy/outMJD_Exp.npy', outMJD_Exp)\n"
   ]
  },
  {
   "cell_type": "code",
   "execution_count": 10,
   "metadata": {
    "collapsed": false
   },
   "outputs": [
    {
     "name": "stdout",
     "output_type": "stream",
     "text": [
      "\\begin{tabular}{lllllll}\n",
      "\\toprule\n",
      "Obs &         Filename &        Field Name &    Plate &            MJD & Relative Day (days) & Exp Time (s) \\\\\n",
      "\\midrule\n",
      "  0 &  17dec10039.fits &         M67 12V14 &  Plate 0 &  56643.6659144 &                 0.0 &       1200.0 \\\\\n",
      "  1 &  17dec10040.fits &  M67 Bright Stars &  Plate 0 &  56643.6809259 &     0.0150115741417 &       1200.0 \\\\\n",
      "  2 &  17dec10041.fits &  M67 Bright Stars &  Plate 0 &  56643.6956944 &     0.0297800926492 &       1200.0 \\\\\n",
      "  3 &  17dec10044.fits &  M67 Bright Stars &  Plate 1 &  56643.7126389 &     0.0467245367108 &        600.0 \\\\\n",
      "  4 &  17dec10045.fits &  M67 Bright Stars &  Plate 1 &   56643.720463 &     0.0545486111878 &        600.0 \\\\\n",
      "  5 &  17dec10046.fits &  M67 Bright Stars &  Plate 1 &  56643.7282986 &     0.0623842592104 &        600.0 \\\\\n",
      "  6 &  18dec10030.fits &  M67 Bright Stars &  Plate 1 &  56644.6813194 &       1.01540509239 &       1200.0 \\\\\n",
      "  7 &  18dec10031.fits &  M67 Bright Stars &  Plate 1 &  56644.6960995 &       1.03018518491 &       1200.0 \\\\\n",
      "  8 &  18dec10032.fits &  M67 Bright Stars &  Plate 1 &  56644.7108681 &       1.04495370341 &       1200.0 \\\\\n",
      "  9 &  18dec10033.fits &  M67 Bright Stars &  Plate 1 &  56644.7256597 &       1.05974537041 &       1200.0 \\\\\n",
      " 10 &  07jan10049.fits &    M67 Long Field &  Plate 0 &  56664.5809375 &       20.9150231478 &        600.0 \\\\\n",
      " 11 &  07jan10050.fits &    M67 Long Field &  Plate 0 &  56664.5890278 &        20.923113426 &        600.0 \\\\\n",
      " 12 &  07jan10051.fits &    M67 Long Field &  Plate 0 &  56664.5974074 &       20.9314930553 &        600.0 \\\\\n",
      " 13 &  07jan10054.fits &   M67 Short Field &  Plate 1 &  56664.6103241 &       20.9444097223 &        600.0 \\\\\n",
      " 14 &  07jan10055.fits &   M67 Short Field &  Plate 1 &  56664.6182176 &       20.9523032408 &        600.0 \\\\\n",
      " 15 &  07jan10056.fits &   M67 Short Field &  Plate 1 &   56664.626088 &       20.9601736109 &        600.0 \\\\\n",
      " 16 &  07jan10059.fits &    M67 Long Field &  Plate 0 &  56664.6388194 &       20.9729050927 &        600.0 \\\\\n",
      " 17 &  07jan10060.fits &    M67 Long Field &  Plate 0 &   56664.658206 &       20.9922916664 &        600.0 \\\\\n",
      " 18 &  07jan10061.fits &    M67 Long Field &  Plate 0 &  56664.6661574 &       21.0002430554 &        600.0 \\\\\n",
      " 19 &  07jan10064.fits &   M67 Short Field &  Plate 1 &  56664.7309838 &       21.0650694445 &       1200.0 \\\\\n",
      " 20 &  09jan10026.fits &    M67 Long Field &  Plate 0 &  56666.5459606 &       22.8800462962 &        600.0 \\\\\n",
      " 21 &  09jan10027.fits &    M67 Long Field &  Plate 0 &  56666.5538773 &       22.8879629628 &        600.0 \\\\\n",
      " 22 &  09jan10030.fits &   M67 Short Field &  Plate 1 &  56666.5668519 &       22.9009374997 &        600.0 \\\\\n",
      " 23 &  09jan10031.fits &   M67 Short Field &  Plate 1 &  56666.5747338 &       22.9088194443 &        600.0 \\\\\n",
      " 24 &  09jan10032.fits &   M67 Short Field &  Plate 1 &  56666.6029398 &        22.937025463 &        600.0 \\\\\n",
      " 25 &  09jan10033.fits &   M67 Short Field &  Plate 1 &   56666.610787 &        22.944872685 &        600.0 \\\\\n",
      " 26 &  09jan10036.fits &    M67 Long Field &  Plate 0 &  56666.6251852 &       22.9592708331 &        950.0 \\\\\n",
      " 27 &  09jan10045.fits &    M67 Long Field &  Plate 0 &  56666.6786458 &       23.0127314812 &        840.0 \\\\\n",
      " 28 &  09jan10048.fits &   M67 Short Field &  Plate 1 &     56666.6925 &       23.0265856481 &        600.0 \\\\\n",
      " 29 &  09jan10049.fits &   M67 Short Field &  Plate 1 &  56666.7003241 &       23.0344097221 &        600.0 \\\\\n",
      " 30 &  09jan10050.fits &   M67 Short Field &  Plate 1 &  56666.7081597 &       23.0422453701 &        600.0 \\\\\n",
      " 31 &  11jan10028.fits &  M67 Bright Stars &  Plate 1 &  56668.5921065 &       24.9261921295 &       1200.0 \\\\\n",
      " 32 &  11jan10029.fits &  M67 Bright Stars &  Plate 1 &  56668.6068866 &        24.940972222 &       1200.0 \\\\\n",
      " 33 &  11jan10030.fits &  M67 Bright Stars &  Plate 1 &  56668.6216782 &       24.9557638885 &       1200.0 \\\\\n",
      " 34 &  11jan10033.fits &  M67 Bright Stars &  Plate 1 &  56668.6412963 &       24.9753819443 &       1200.0 \\\\\n",
      " 35 &  11jan10034.fits &  M67 Bright Stars &  Plate 1 &  56668.6561343 &       24.9902199074 &       1200.0 \\\\\n",
      " 36 &  11jan10035.fits &  M67 Bright Stars &  Plate 1 &  56668.6709144 &       25.0049999999 &       1200.0 \\\\\n",
      " 37 &  11jan10038.fits &  M67 Bright Stars &  Plate 1 &  56668.6899769 &       25.0240624999 &       1200.0 \\\\\n",
      " 38 &  11jan10039.fits &  M67 Bright Stars &  Plate 1 &  56668.7047685 &       25.0388541664 &       1200.0 \\\\\n",
      " 39 &  11jan10040.fits &  M67 Bright Stars &  Plate 1 &  56668.7200463 &       25.0541319442 &       1200.0 \\\\\n",
      " 40 &  12jan10030.fits &  M67 Bright Stars &  Plate 1 &  56669.7056481 &       26.0397337964 &       1200.0 \\\\\n",
      " 41 &  12jan10031.fits &  M67 Bright Stars &  Plate 1 &  56669.7204282 &       26.0545138889 &       1200.0 \\\\\n",
      " 42 &  12jan10032.fits &  M67 Bright Stars &  Plate 1 &  56669.7352199 &       26.0693055554 &       1200.0 \\\\\n",
      " 43 &  13jan10039.fits &  M67 Bright Stars &  Plate 0 &  56670.6155903 &        26.949675926 &       1200.0 \\\\\n",
      " 44 &  13jan10040.fits &  M67 Bright Stars &  Plate 0 &  56670.6303704 &       26.9644560185 &       1200.0 \\\\\n",
      " 45 &  13jan10041.fits &  M67 Bright Stars &  Plate 0 &  56670.6451505 &        26.979236111 &       1200.0 \\\\\n",
      " 46 &  13jan10042.fits &  M67 Bright Stars &  Plate 0 &  56670.6599306 &       26.9940162036 &       1200.0 \\\\\n",
      " 47 &  13jan10043.fits &  M67 Bright Stars &  Plate 0 &  56670.6747106 &       27.0087962961 &       1200.0 \\\\\n",
      " 48 &  13jan10044.fits &  M67 Bright Stars &  Plate 0 &  56670.6896528 &       27.0237384257 &       1200.0 \\\\\n",
      " 49 &  07feb10022.fits &  M67 Bright Stars &  Plate 0 &  56695.5298264 &       51.8639120371 &       1200.0 \\\\\n",
      " 50 &  07feb10023.fits &  M67 Bright Stars &  Plate 0 &  56695.5446181 &       51.8787037036 &       1200.0 \\\\\n",
      " 51 &  07feb10024.fits &  M67 Bright Stars &  Plate 0 &  56695.5593981 &       51.8934837962 &       1200.0 \\\\\n",
      " 52 &  07feb10027.fits &  M67 Bright Stars &  Plate 1 &  56695.5807639 &        51.914849537 &       1200.0 \\\\\n",
      " 53 &  07feb10028.fits &  M67 Bright Stars &  Plate 1 &   56695.595544 &       51.9296296295 &       1200.0 \\\\\n",
      " 54 &  07feb10029.fits &  M67 Bright Stars &  Plate 1 &  56695.6103241 &        51.944409722 &       1200.0 \\\\\n",
      " 55 &  07feb10030.fits &  M67 Bright Stars &  Plate 1 &  56695.6251042 &       51.9591898145 &       1200.0 \\\\\n",
      " 56 &  07feb10031.fits &  M67 Bright Stars &  Plate 1 &  56695.6398843 &        51.973969907 &       1200.0 \\\\\n",
      " 57 &  07feb10032.fits &  M67 Bright Stars &  Plate 1 &  56695.6546644 &            51.98875 &       1200.0 \\\\\n",
      " 58 &  08feb10027.fits &  M67 Bright Stars &  Plate 0 &  56696.5524769 &       52.8865624997 &       1200.0 \\\\\n",
      " 59 &  08feb10028.fits &  M67 Bright Stars &  Plate 0 &  56696.5672454 &       52.9013310182 &       1200.0 \\\\\n",
      " 60 &  08feb10029.fits &  M67 Bright Stars &  Plate 0 &   56696.582037 &       52.9161226852 &       1200.0 \\\\\n",
      " 61 &  08feb10032.fits &  M67 Bright Stars &  Plate 1 &  56696.6039699 &       52.9380555553 &       1200.0 \\\\\n",
      " 62 &  08feb10033.fits &  M67 Bright Stars &  Plate 1 &    56696.61875 &       52.9528356479 &       1200.0 \\\\\n",
      " 63 &  08feb10034.fits &  M67 Bright Stars &  Plate 1 &  56696.6335532 &       52.9676388889 &       1200.0 \\\\\n",
      " 64 &  08feb10035.fits &  M67 Bright Stars &  Plate 1 &  56696.6483218 &       52.9824074074 &       1200.0 \\\\\n",
      " 65 &  08feb10036.fits &  M67 Bright Stars &  Plate 1 &  56696.6631019 &       52.9971874999 &       1200.0 \\\\\n",
      " 66 &  08feb10037.fits &  M67 Bright Stars &  Plate 1 &  56696.6778819 &       53.0119675924 &       1200.0 \\\\\n",
      " 67 &  08feb10040.fits &  M67 Bright Stars &  Plate 0 &  56696.7023148 &       53.0364004627 &        450.0 \\\\\n",
      " 68 &  08feb10041.fits &  M67 Bright Stars &  Plate 0 &  56696.7120255 &       53.0461111109 &        750.0 \\\\\n",
      " 69 &  08feb10042.fits &  M67 Bright Stars &  Plate 0 &  56696.7221644 &       53.0562499998 &        750.0 \\\\\n",
      " 70 &  08feb10043.fits &  M67 Bright Stars &  Plate 0 &  56696.7317477 &       53.0658333333 &        750.0 \\\\\n",
      " 71 &  08feb10046.fits &  M67 Bright Stars &  Plate 0 &  56696.7477894 &       53.0818749998 &          2.0 \\\\\n",
      " 72 &  08feb10047.fits &  M67 Bright Stars &  Plate 0 &  56696.7497801 &       53.0838657405 &          2.0 \\\\\n",
      " 73 &  08feb10048.fits &  M67 Bright Stars &  Plate 0 &  56696.7506944 &       53.0847800925 &          2.0 \\\\\n",
      " 74 &  09feb10029.fits &  M67 Bright Stars &  Plate 1 &  56697.5495602 &        53.883645833 &       1200.0 \\\\\n",
      " 75 &  09feb10030.fits &  M67 Bright Stars &  Plate 1 &  56697.5671991 &       53.9012847221 &       1200.0 \\\\\n",
      " 76 &  09feb10031.fits &  M67 Bright Stars &  Plate 1 &  56697.5819907 &       53.9160763887 &       1200.0 \\\\\n",
      " 77 &  09feb10034.fits &  M67 Bright Stars &  Plate 0 &  56697.6106366 &        53.944722222 &        600.0 \\\\\n",
      " 78 &  09feb10035.fits &  M67 Bright Stars &  Plate 0 &  56697.6184606 &        53.952546296 &        600.0 \\\\\n",
      " 79 &  09feb10036.fits &  M67 Bright Stars &  Plate 0 &  56697.6263079 &       53.9603935185 &        600.0 \\\\\n",
      " 80 &  10feb10027.fits &  M67 Bright Stars &  Plate 0 &  56698.5445139 &       54.8785995371 &       1200.0 \\\\\n",
      " 81 &  10feb10028.fits &  M67 Bright Stars &  Plate 0 &  56698.5593056 &       54.8933912036 &       1200.0 \\\\\n",
      " 82 &  10feb10029.fits &  M67 Bright Stars &  Plate 0 &  56698.5740741 &       54.9081597221 &       1200.0 \\\\\n",
      " 83 &  10feb10030.fits &  M67 Bright Stars &  Plate 0 &  56698.5888542 &       54.9229398146 &       1200.0 \\\\\n",
      " 84 &  10feb10031.fits &  M67 Bright Stars &  Plate 0 &  56698.6036343 &       54.9377199071 &       1200.0 \\\\\n",
      " 85 &  10feb10032.fits &  M67 Bright Stars &  Plate 0 &  56698.6184144 &       54.9524999997 &       1200.0 \\\\\n",
      " 86 &  10feb10033.fits &  M67 Bright Stars &  Plate 0 &   56698.633206 &       54.9672916667 &       1200.0 \\\\\n",
      " 87 &  11feb10013.fits &  M67 Bright Stars &  Plate 0 &   56699.493206 &       55.8272916665 &       1200.0 \\\\\n",
      " 88 &  11feb10014.fits &  M67 Bright Stars &  Plate 0 &  56699.5079861 &        55.842071759 &       1200.0 \\\\\n",
      " 89 &  11feb10015.fits &  M67 Bright Stars &  Plate 0 &  56699.5227662 &       55.8568518516 &       1200.0 \\\\\n",
      " 90 &  11feb10016.fits &  M67 Bright Stars &  Plate 0 &  56699.5375463 &       55.8716319441 &       1200.0 \\\\\n",
      " 91 &  11feb10017.fits &  M67 Bright Stars &  Plate 0 &   56699.552338 &       55.8864236111 &       1200.0 \\\\\n",
      " 92 &  11feb10018.fits &  M67 Bright Stars &  Plate 0 &  56699.5671181 &       55.9012037036 &       1200.0 \\\\\n",
      " 93 &  11feb10021.fits &  M67 Bright Stars &  Plate 1 &  56699.5904977 &       55.9245833331 &       1200.0 \\\\\n",
      " 94 &  11feb10022.fits &  M67 Bright Stars &  Plate 1 &  56699.6052778 &       55.9393634256 &       1200.0 \\\\\n",
      " 95 &  11feb10023.fits &  M67 Bright Stars &  Plate 1 &  56699.6200579 &       55.9541435186 &       1200.0 \\\\\n",
      " 96 &  11feb10024.fits &  M67 Bright Stars &  Plate 1 &   56699.634838 &       55.9689236111 &       1200.0 \\\\\n",
      " 97 &  11feb10025.fits &  M67 Bright Stars &  Plate 1 &  56699.6531713 &       55.9872569442 &       1200.0 \\\\\n",
      " 98 &  11feb10026.fits &  M67 Bright Stars &  Plate 1 &  56699.6679514 &       56.0020370367 &       1200.0 \\\\\n",
      "\\bottomrule\n",
      "\\end{tabular}\n",
      "\n"
     ]
    }
   ],
   "source": [
    "\n",
    "outFileNames = np.load('outFileNames.npy')\n",
    "outObjects = np.load('outObjects.npy')\n",
    "outPlates = np.load('outPlates.npy')\n",
    "outMJD_Exp = np.load('outMJD_Exp.npy')\n",
    "\n",
    "ordIdx = np.argsort(outMJD_Exp[:,0])\n",
    "\n",
    "\n",
    "labels = ['Obs', 'Filename','Field Name','Plate','MJD','Relative Day (days)','Exp Time (s)']\n",
    "data = np.vstack((range(len(ordIdx)), outFileNames[ordIdx], outObjects[ordIdx], outPlates[ordIdx], outMJD_Exp[:,0][ordIdx], outMJD_Exp[:,0][ordIdx] - outMJD_Exp[:,0][ordIdx][0], outMJD_Exp[:,1][ordIdx])).transpose()\n",
    "\n",
    "a = pd.DataFrame(data)\n",
    "a.columns = labels\n",
    "\n",
    "print a.to_latex(index=False)"
   ]
  },
  {
   "cell_type": "markdown",
   "metadata": {},
   "source": [
    "### Stars Names and magnitudes"
   ]
  },
  {
   "cell_type": "code",
   "execution_count": null,
   "metadata": {
    "collapsed": false
   },
   "outputs": [],
   "source": [
    "data=np.load('data.npy')\n",
    "# RVs=np.load('RVs.npy')\n",
    "# sigmas=np.load('sigmas.npy')\n",
    "# baryVels=np.load('baryVels.npy')\n",
    "# JDs=np.load('JDs.npy')\n",
    "# thisSlice = RVs\n",
    "# totalStars = RVs.shape[0]\n",
    "# goodStars = np.sum(((thisSlice<5000) & (thisSlice!=0)), axis=0).astype(float)\n",
    "# size = np.array(thisSlice.shape)\n",
    "# total = np.reshape(np.repeat(size[0], size[1]*size[2]),(size[1],size[2]))\n",
    "# labels = ['Blue','Green','Red','IR']\n",
    "labels = ['Name','Vmag']\n",
    "a = pd.DataFrame(data[:,:2])\n",
    "a.columns = labels\n",
    "\n",
    "print a.to_latex()"
   ]
  },
  {
   "cell_type": "markdown",
   "metadata": {},
   "source": [
    "### W tests"
   ]
  },
  {
   "cell_type": "code",
   "execution_count": null,
   "metadata": {
    "collapsed": false
   },
   "outputs": [],
   "source": [
    "#real data\n",
    "\n",
    "method = 'PM'\n",
    "\n",
    "data=np.load('npy/data.npy')\n",
    "\n",
    "SNRs=np.load('npy/SNRs.npy')\n",
    "\n",
    "if method=='PM':\n",
    "    allW = np.load('npy/allW_PM.npy')\n",
    "elif method=='DM':\n",
    "    allW = np.load('npy/allW_DM.npy')\n",
    "    \n",
    "idx = np.where(data[:,0]=='Giant01')[0][0]\n",
    "\n",
    "for cam in range(4):\n",
    "    W = allW[:,cam,idx]\n",
    "\n",
    "    thisSNRs = SNRs[:,0,cam]\n",
    "\n",
    "#     plt.plot(deltay/np.max(np.abs(deltay)), label = 'deltay')\n",
    "    plt.plot(thisSNRs, label= 'SNR', c='g')\n",
    "    plt.plot(W*np.nanmax(thisSNRs), label = 'W', c='r')\n",
    "    plt.plot([idx,idx],[0,np.nanmax(thisSNRs)], label = 'Ref. Star', c='cyan')\n",
    "    plt.legend(loc=0)\n",
    "\n",
    "    title = method + ' - cam '+str(cam)+ ' ,' + str(data[idx])\n",
    "    \n",
    "    plt.title(title)\n",
    "    plt.grid(True)\n",
    "    plt.savefig((method+'_'+str(cam)));plt.close()\n",
    "#     plt.show()\n",
    "\n"
   ]
  },
  {
   "cell_type": "code",
   "execution_count": null,
   "metadata": {
    "collapsed": false
   },
   "outputs": [],
   "source": [
    "#SIMULATION\n",
    "import RVTools as RVT\n",
    "reload(RVT)\n",
    "\n",
    "deltays = np.zeros((3,50))\n",
    "SNRss = np.zeros((3,50))\n",
    "idxs = [1,20,40]\n",
    "\n",
    "yrange = np.linspace(0, 4000)\n",
    "# deltays[0] = \n",
    "# deltays[1] = np.linspace(-1999, 2000)\n",
    "# deltays[1,25]=0\n",
    "# deltays[2] = np.linspace(-3999, 0)\n",
    "SNRss[0] = np.ones(50)*10\n",
    "SNRss[1] = np.linspace(1, 10)\n",
    "SNRss[2] = np.linspace(10, 1)\n",
    "\n",
    "method = 'PM'\n",
    "\n",
    "for i in range(3):\n",
    "    for j in range(3):\n",
    "        idx = idxs[j]\n",
    "        deltay = yrange - yrange[idx]\n",
    "        SNRs = SNRss[i]\n",
    "        if method=='PM':\n",
    "#             W = RVT.calibrator_weights2(deltay,SNRs)\n",
    "            W = RVT.calibrator_weights(deltay,1/SNRs)\n",
    "        elif method=='DM':\n",
    "            W = RVT.calibrator_weights2(deltay,1/SNRs)\n",
    "\n",
    "        plt.plot(deltay/np.max(np.abs(deltay)), label = 'deltay')\n",
    "        plt.plot(SNRs, label= 'SNR')\n",
    "        plt.plot(W*10, label = 'W')\n",
    "        plt.plot([idx,idx],[0,np.nanmax(SNRs)], label = 'Ref. Star')\n",
    "\n",
    "#         plt.plot(W2*100, label = 'W New')\n",
    "        plt.legend(loc=0)\n",
    "    \n",
    "        title = method +' - Ref Star index = '+str(idx)+' - SNR '+str(np.min(SNRs))+','+str(np.max(SNRs))\n",
    "\n",
    "        plt.title(title)\n",
    "        plt.grid(True)\n",
    "        figTitle = method+'_'+str(i)+'_'+str(j)\n",
    "        plt.savefig(figTitle); plt.close()\n",
    "#         plt.show()\n"
   ]
  },
  {
   "cell_type": "code",
   "execution_count": null,
   "metadata": {
    "collapsed": false
   },
   "outputs": [],
   "source": [
    "SNRs=np.load('SNRs.npy')\n",
    "import toolbox as tb"
   ]
  },
  {
   "cell_type": "code",
   "execution_count": null,
   "metadata": {
    "collapsed": false
   },
   "outputs": [],
   "source": [
    "for i,a in enumerate(zip(data[:,],SNRs[:,0,0])):\n",
    "    print i,a[0],a[1], tb.dec2sex(float(a[0][3])/15), tb.dec2sex(float(a[0][4]))"
   ]
  },
  {
   "cell_type": "markdown",
   "metadata": {},
   "source": [
    "### All stars summary"
   ]
  },
  {
   "cell_type": "code",
   "execution_count": null,
   "metadata": {
    "collapsed": false
   },
   "outputs": [],
   "source": [
    "#('NAME', 'S80'), ('RA', '>f8'), ('DEC', '>f8'), ('X', '>i4'), ('Y', '>i4'), ('XERR', '>i2'), ('YERR', '>i2'), ('THETA', '>f8'), ('TYPE', 'S1'), ('PIVOT', '>i2'), ('MAGNITUDE', '>f8'), ('PID', '>i4'), ('COMMENT', 'S80'), ('RETRACTOR', 'S10'), ('WLEN', '>f8'), ('PMRA', '>f8'), ('PMDEC', '>f8')"
   ]
  },
  {
   "cell_type": "code",
   "execution_count": null,
   "metadata": {
    "collapsed": false
   },
   "outputs": [],
   "source": [
    "# a = pf.open('20aug10039.fits') #HD285507\n",
    "a = pf.open('20aug10053.fits') #HD1581\n"
   ]
  },
  {
   "cell_type": "code",
   "execution_count": null,
   "metadata": {
    "collapsed": false
   },
   "outputs": [],
   "source": [
    "good_targets_filter = (a[1].data['TYPE']=='P')\n",
    "good_targets_idx = np.arange(400)[good_targets_filter]"
   ]
  },
  {
   "cell_type": "code",
   "execution_count": null,
   "metadata": {
    "collapsed": false
   },
   "outputs": [],
   "source": [
    "outArray = []\n",
    "for i in good_targets_idx:\n",
    "    gc = SkyCoord(ra=a[1].data['RA'][i]*u.si.radian, dec=a[1].data['DEC'][i]*u.si.radian)\n",
    "#     print a[1].data['RA'][i]*57/15\n",
    "    name = a[1].data['NAME'][i]\n",
    "    mag = a[1].data['MAGNITUDE'][i]\n",
    "    RAhms = str(int(gc.ra.hms.h))+'h'+str(int(gc.ra.hms.m))+'m'+str(gc.ra.hms.s)+'s'\n",
    "    RAdms = str(gc.ra)\n",
    "    RAdeg = str(gc.ra.deg)\n",
    "    DECdms = str(gc.dec)\n",
    "    DECdeg = str(gc.dec.deg)\n",
    "    pivot = a[1].data['PIVOT'][i]\n",
    "    outArray.append((i, name, mag, RAhms, RAdms, RAdeg, DECdms, DECdeg, pivot))\n",
    "labels = ['Index','Name','Kmag','RA(hms)','RA(dms)','RA(deg)','DEC(dms)','DEC(deg)','Pivot']\n",
    "df = pd.DataFrame(outArray)\n",
    "df.columns = labels\n",
    "\n",
    "outLatex = df.to_latex()\n",
    "print df.to_latex()"
   ]
  },
  {
   "cell_type": "code",
   "execution_count": null,
   "metadata": {
    "collapsed": false
   },
   "outputs": [],
   "source": [
    "text_file = open(\"starsLatex.txt\", \"w\")\n",
    "text_file.write(outLatex)\n",
    "text_file.close()\n"
   ]
  },
  {
   "cell_type": "markdown",
   "metadata": {},
   "source": [
    "### All stars summary - from obj"
   ]
  },
  {
   "cell_type": "code",
   "execution_count": 7,
   "metadata": {
    "collapsed": false
   },
   "outputs": [],
   "source": [
    "import glob\n",
    "import pickle\n",
    "import numpy as np\n",
    "import pandas as pd"
   ]
  },
  {
   "cell_type": "code",
   "execution_count": 4,
   "metadata": {
    "collapsed": false
   },
   "outputs": [
    {
     "name": "stdout",
     "output_type": "stream",
     "text": [
      "/Users/Carlos/Documents/HERMES/reductions/6.5/m67_lr/obj_single\n"
     ]
    }
   ],
   "source": [
    "cd ~/Documents/HERMES/reductions/6.5/m67_lr/obj_single/"
   ]
  },
  {
   "cell_type": "code",
   "execution_count": 5,
   "metadata": {
    "collapsed": false
   },
   "outputs": [
    {
     "data": {
      "text/plain": [
       "'0'"
      ]
     },
     "execution_count": 5,
     "metadata": {},
     "output_type": "execute_result"
    }
   ],
   "source": [
    "filehandler = open('M67-375.obj', 'r')\n",
    "thisStar = pickle.load(filehandler)\n",
    "thisCamera= thisStar.exposures.cameras[0]\n",
    "thisCamera.fileNames\n",
    "thisStar.exposures.plates[10][-1]\n",
    "# print np.vstack((thisStar.exposures.pivots,np.nansum(thisCamera.red_fluxes,axis=1))).transpose()\n",
    "# print thisStar.exposures.p"
   ]
  },
  {
   "cell_type": "code",
   "execution_count": 8,
   "metadata": {
    "collapsed": false
   },
   "outputs": [],
   "source": [
    "\n",
    "outFileNames = np.load('/Users/Carlos/Documents/ipn/npy/outFileNames.npy')\n",
    "# outObjects = np.load('npy/outObjects.npy')\n",
    "# outPlates = np.load('npy/outPlates.npy')\n",
    "outMJD_Exp = np.load('/Users/Carlos/Documents/ipn/npy/outMJD_Exp.npy')\n",
    "\n",
    "outFileNames = np.delete(outFileNames,86)\n",
    "# outObjects = np.delete(outObjects,86)\n",
    "# outPlates = np.delete(outPlates,86)\n",
    "outMJD_Exp = np.delete(outMJD_Exp,86, axis = 0)\n",
    "\n",
    "ordIdx = np.argsort(outMJD_Exp[:,0])\n",
    "\n",
    "outFileNames = outFileNames[ordIdx]\n",
    "outMJD_Exp = outMJD_Exp[ordIdx]\n",
    "\n"
   ]
  },
  {
   "cell_type": "code",
   "execution_count": 9,
   "metadata": {
    "collapsed": false
   },
   "outputs": [
    {
     "ename": "NameError",
     "evalue": "name 'SkyCoord' is not defined",
     "output_type": "error",
     "traceback": [
      "\u001b[0;31m---------------------------------------------------------------------------\u001b[0m",
      "\u001b[0;31mNameError\u001b[0m                                 Traceback (most recent call last)",
      "\u001b[0;32m<ipython-input-9-349619a7c083>\u001b[0m in \u001b[0;36m<module>\u001b[0;34m()\u001b[0m\n\u001b[1;32m     11\u001b[0m \u001b[0;31m#         print thisStar.name\u001b[0m\u001b[0;34m\u001b[0m\u001b[0;34m\u001b[0m\u001b[0m\n\u001b[1;32m     12\u001b[0m \u001b[0;34m\u001b[0m\u001b[0m\n\u001b[0;32m---> 13\u001b[0;31m         \u001b[0mgc\u001b[0m \u001b[0;34m=\u001b[0m \u001b[0mSkyCoord\u001b[0m\u001b[0;34m(\u001b[0m\u001b[0mra\u001b[0m\u001b[0;34m=\u001b[0m\u001b[0mthisStar\u001b[0m\u001b[0;34m.\u001b[0m\u001b[0mRA\u001b[0m\u001b[0;34m*\u001b[0m\u001b[0mu\u001b[0m\u001b[0;34m.\u001b[0m\u001b[0msi\u001b[0m\u001b[0;34m.\u001b[0m\u001b[0mdegree\u001b[0m\u001b[0;34m,\u001b[0m \u001b[0mdec\u001b[0m\u001b[0;34m=\u001b[0m\u001b[0mthisStar\u001b[0m\u001b[0;34m.\u001b[0m\u001b[0mDec\u001b[0m\u001b[0;34m*\u001b[0m\u001b[0mu\u001b[0m\u001b[0;34m.\u001b[0m\u001b[0msi\u001b[0m\u001b[0;34m.\u001b[0m\u001b[0mdegree\u001b[0m\u001b[0;34m)\u001b[0m\u001b[0;34m\u001b[0m\u001b[0m\n\u001b[0m\u001b[1;32m     14\u001b[0m         \u001b[0mname\u001b[0m \u001b[0;34m=\u001b[0m \u001b[0mthisStar\u001b[0m\u001b[0;34m.\u001b[0m\u001b[0mname\u001b[0m\u001b[0;34m\u001b[0m\u001b[0m\n\u001b[1;32m     15\u001b[0m         \u001b[0mmag\u001b[0m \u001b[0;34m=\u001b[0m \u001b[0mthisStar\u001b[0m\u001b[0;34m.\u001b[0m\u001b[0mVmag\u001b[0m\u001b[0;34m\u001b[0m\u001b[0m\n",
      "\u001b[0;31mNameError\u001b[0m: name 'SkyCoord' is not defined"
     ]
    }
   ],
   "source": [
    "obsMatrix = np.ones((292, 99, 2, 4))*np.nan #stars, observations, [pivot, plate], cam\n",
    "\n",
    "objList = glob.glob('*.obj')\n",
    "\n",
    "outArray = []\n",
    "i = 0\n",
    "for thisObj in objList:\n",
    "    if 'red' not in thisObj:\n",
    "        filehandler = open(thisObj, 'r')\n",
    "        thisStar = pickle.load(filehandler)\n",
    "#         print thisStar.name\n",
    "        \n",
    "        gc = SkyCoord(ra=thisStar.RA*u.si.degree, dec=thisStar.Dec*u.si.degree)\n",
    "        name = thisStar.name\n",
    "        mag = thisStar.Vmag\n",
    "        RAhms = str(int(gc.ra.hms.h))+'h'+str(int(gc.ra.hms.m))+'m'+str(f1(gc.ra.hms.s))+'s'\n",
    "        RAdms = str(gc.ra)\n",
    "        RAdeg = str(gc.ra.deg)\n",
    "        DECdms = str(gc.dec)\n",
    "        DECdeg = str(gc.dec.deg)\n",
    "#         pivot = a[1].data['PIVOT'][i]\n",
    "        i += 1\n",
    "        ID = i\n",
    "        outArray.append((ID, name, mag, RAhms, RAdms, RAdeg, DECdms, DECdeg))\n",
    "        \n",
    "        for cam in range(4):\n",
    "#             print 'Camera',cam,\n",
    "            thisCam = thisStar.exposures.cameras[cam]\n",
    "\n",
    "            for exp in range(len(thisCam.fileNames)):\n",
    "                if np.nansum(thisCam.red_fluxes[exp])!=0:\n",
    "                    thisFileName = thisStar.exposures.cameras[0].fileNames[exp][:10]+'.fits'\n",
    "#                     print thisFileName\n",
    "                    fileIdx = np.where(outFileNames==thisFileName)[0]\n",
    "                    if len(fileIdx)>0:\n",
    "                        fileIdx = fileIdx[0]\n",
    "                        obsMatrix[ID-1, fileIdx, 0, cam] = thisStar.exposures.pivots[exp]\n",
    "                        obsMatrix[ID-1, fileIdx, 1, cam] = thisStar.exposures.plates[exp][-1]\n",
    "#                         print 'Found', ID, fileIdx, cam\n",
    "            \n",
    "            \n",
    "            \n",
    "            \n",
    "        filehandler.close()\n",
    "        thisStar = None\n",
    "\n",
    "outArray = np.array(outArray)\n",
    "np.save('outArray.npy',outArray)\n",
    "\n",
    "labels = ['ID', 'Name','Kmag','RA(hms)','RA(dms)','RA(deg)','DEC(dms)','DEC(deg)']\n",
    "df = pd.DataFrame(outArray)\n",
    "df.columns = labels\n",
    "\n",
    "outLatex = df.to_latex(index=False)\n",
    "print df.to_latex(index=False)"
   ]
  },
  {
   "cell_type": "code",
   "execution_count": null,
   "metadata": {
    "collapsed": false
   },
   "outputs": [],
   "source": [
    "text_file = open(\"starsLatex.txt\", \"w\")\n",
    "text_file.write(outLatex)\n",
    "text_file.close()\n"
   ]
  },
  {
   "cell_type": "code",
   "execution_count": null,
   "metadata": {
    "collapsed": false
   },
   "outputs": [],
   "source": [
    "obsMatrix #stars, observations, [pivot, plate], cam\n",
    "for i in range(10):\n",
    "    plt.plot(obsMatrix[i,:,0,0],'.')\n",
    "plt.show()"
   ]
  },
  {
   "cell_type": "code",
   "execution_count": null,
   "metadata": {
    "collapsed": true
   },
   "outputs": [],
   "source": [
    "np.save('obsMatrix.npy',obsMatrix)"
   ]
  },
  {
   "cell_type": "code",
   "execution_count": null,
   "metadata": {
    "collapsed": false
   },
   "outputs": [],
   "source": [
    "obsMatrix = np.load('obsMatrix.npy')"
   ]
  },
  {
   "cell_type": "code",
   "execution_count": null,
   "metadata": {
    "collapsed": false
   },
   "outputs": [],
   "source": [
    "obsMatrix.shape[0]"
   ]
  },
  {
   "cell_type": "code",
   "execution_count": null,
   "metadata": {
    "collapsed": false
   },
   "outputs": [],
   "source": [
    "#stars with consistent plate and fibre\n",
    "totalStars = 0\n",
    "\n",
    "for thisStar in range(obsMatrix.shape[0]):\n",
    "    thisStarsObs = obsMatrix[thisStar,:,:,0]\n",
    "    if (np.sum(-np.isnan(np.unique(thisStarsObs[:,0])))==1):\n",
    "        if (np.sum(-np.isnan(np.unique(thisStarsObs[:,1])))==1):\n",
    "            totalStars += 1\n",
    "            print thisStar, totalStars\n"
   ]
  },
  {
   "cell_type": "code",
   "execution_count": null,
   "metadata": {
    "collapsed": false
   },
   "outputs": [],
   "source": [
    "for thisStar in range(obsMatrix.shape[0]):\n",
    "    for thisObs in range(obsMatrix.shape[1]):\n",
    "        for thisCam in range(obsMatrix.shape[3]):\n",
    "            if not np.isnan(obsMatrix[thisStar, thisObs, 0, thisCam]):\n",
    "                FirstObs = [thisStar, thisObs, obsMatrix[thisStar, thisObs, 0, thisCam], obsMatrix[thisStar, thisObs, 1, thisCam], thisCam]\n",
    "                "
   ]
  },
  {
   "cell_type": "code",
   "execution_count": null,
   "metadata": {
    "collapsed": false
   },
   "outputs": [],
   "source": [
    "obsGroup = 0\n",
    "for thisObs in range(obsMatrix.shape[1]):\n",
    "    "
   ]
  },
  {
   "cell_type": "markdown",
   "metadata": {},
   "source": [
    "### CC pyhermes"
   ]
  },
  {
   "cell_type": "code",
   "execution_count": null,
   "metadata": {
    "collapsed": false
   },
   "outputs": [],
   "source": [
    "cd ~/Documents/HERMES/reductions"
   ]
  },
  {
   "cell_type": "code",
   "execution_count": null,
   "metadata": {
    "collapsed": false
   },
   "outputs": [],
   "source": [
    "#HD285507\n",
    "\n",
    "#cam1\n",
    "# filep1 = pf.open('pyhermes/HD285507/cam1/1408200037_FIB228_1.fits')\n",
    "# filep2 = pf.open('pyhermes/HD285507/cam1/1408210036_FIB228_1.fits')\n",
    "# filep3 = pf.open('pyhermes/HD285507/cam1/1408220039_FIB228_1.fits')\n",
    "# filep4 = pf.open('pyhermes/HD285507/cam1/1408240063_FIB228_1.fits')\n",
    "# filep5 = pf.open('pyhermes/HD285507/cam1/1408250047_FIB228_1.fits')\n",
    "\n",
    "#cam2\n",
    "# filep1 = pf.open('pyhermes/HD285507/cam2/1408200037_FIB228_2.fits')\n",
    "# filep2 = pf.open('pyhermes/HD285507/cam2/1408210036_FIB228_2.fits')\n",
    "# filep3 = pf.open('pyhermes/HD285507/cam2/1408220039_FIB228_2.fits')\n",
    "# filep4 = pf.open('pyhermes/HD285507/cam2/1408240063_FIB228_2.fits')\n",
    "# filep5 = pf.open('pyhermes/HD285507/cam2/1408250047_FIB228_2.fits')\n",
    "\n",
    "#cam3\n",
    "filep1 = pf.open('pyhermes/HD285507/cam3/1408200037_FIB228_3.fits')\n",
    "filep2 = pf.open('pyhermes/HD285507/cam3/1408210036_FIB228_3.fits')\n",
    "filep3 = pf.open('pyhermes/HD285507/cam3/1408220039_FIB228_3.fits')\n",
    "filep4 = pf.open('pyhermes/HD285507/cam3/1408240063_FIB228_3.fits')\n",
    "filep5 = pf.open('pyhermes/HD285507/cam3/1408250047_FIB228_3.fits')\n",
    "\n",
    "filep1_wl = RVT.extract_pyhermes_wavelength(filep1.filename())\n",
    "filep2_wl = RVT.extract_pyhermes_wavelength(filep2.filename())\n",
    "filep3_wl = RVT.extract_pyhermes_wavelength(filep3.filename())\n",
    "filep4_wl = RVT.extract_pyhermes_wavelength(filep4.filename())\n",
    "filep5_wl = RVT.extract_pyhermes_wavelength(filep5.filename())\n",
    "\n",
    "filep1_data = filep1[0].data\n",
    "filep2_data = filep2[0].data\n",
    "filep3_data = filep3[0].data\n",
    "filep4_data = filep4[0].data\n",
    "filep5_data = filep5[0].data\n"
   ]
  },
  {
   "cell_type": "code",
   "execution_count": null,
   "metadata": {
    "collapsed": false
   },
   "outputs": [],
   "source": [
    "#HD1581\n",
    "\n",
    "#cam1\n",
    "# filep1 = pf.open('pyhermes/HD1581/cam1/1408200042_FIB176_1.fits')\n",
    "# filep2 = pf.open('pyhermes/HD1581/cam1/1408210041_FIB176_1.fits')\n",
    "# filep3 = pf.open('pyhermes/HD1581/cam1/1408220031_FIB176_1.fits')\n",
    "# filep4 = pf.open('pyhermes/HD1581/cam1/1408240053_FIB176_1.fits')\n",
    "# filep5 = pf.open('pyhermes/HD1581/cam1/1408250039_FIB176_1.fits')\n",
    "\n",
    "#cam2\n",
    "# filep1 = pf.open('pyhermes/HD1581/cam2/1408200042_FIB176_2.fits')\n",
    "# filep2 = pf.open('pyhermes/HD1581/cam2/1408210041_FIB176_2.fits')\n",
    "# filep3 = pf.open('pyhermes/HD1581/cam2/1408220031_FIB176_2.fits')\n",
    "# filep4 = pf.open('pyhermes/HD1581/cam2/1408240053_FIB176_2.fits')\n",
    "# filep5 = pf.open('pyhermes/HD1581/cam2/1408250039_FIB176_2.fits')\n",
    "\n",
    "#cam3\n",
    "# filep1 = pf.open('pyhermes/HD1581/cam3/1408200042_FIB176_3.fits')\n",
    "filep2 = pf.open('pyhermes/HD1581/cam3/1408210041_FIB176_3.fits')\n",
    "filep3 = pf.open('pyhermes/HD1581/cam3/1408220031_FIB176_3.fits')\n",
    "filep4 = pf.open('pyhermes/HD1581/cam3/1408240053_FIB176_3.fits')\n",
    "filep5 = pf.open('pyhermes/HD1581/cam3/1408250039_FIB176_3.fits')\n",
    "\n",
    "# filep1_wl = RVT.extract_pyhermes_wavelength(filep1.filename())\n",
    "filep2_wl = RVT.extract_pyhermes_wavelength(filep2.filename())\n",
    "filep3_wl = RVT.extract_pyhermes_wavelength(filep3.filename())\n",
    "filep4_wl = RVT.extract_pyhermes_wavelength(filep4.filename())\n",
    "filep5_wl = RVT.extract_pyhermes_wavelength(filep5.filename())\n",
    "\n",
    "# filep1_data = filep1[0].data\n",
    "filep2_data = filep2[0].data\n",
    "filep3_data = filep3[0].data\n",
    "filep4_data = filep4[0].data\n",
    "filep5_data = filep5[0].data\n"
   ]
  },
  {
   "cell_type": "code",
   "execution_count": null,
   "metadata": {
    "collapsed": false
   },
   "outputs": [],
   "source": [
    "plt.plot(filep1_wl, filep1_data)\n",
    "plt.plot(filep2_wl, filep2_data)\n",
    "plt.plot(filep3_wl, filep3_data)\n",
    "plt.plot(filep4_wl, filep4_data)\n",
    "plt.plot(filep5_wl, filep5_data)\n",
    "plt.show()"
   ]
  },
  {
   "cell_type": "code",
   "execution_count": null,
   "metadata": {
    "collapsed": false
   },
   "outputs": [],
   "source": [
    "print np.sum(filep1_wl-filep2_wl)\n",
    "print np.sum(filep1_wl-filep3_wl)\n",
    "print np.sum(filep1_wl-filep4_wl)\n",
    "print np.sum(filep1_wl-filep5_wl)"
   ]
  },
  {
   "cell_type": "code",
   "execution_count": null,
   "metadata": {
    "collapsed": false
   },
   "outputs": [],
   "source": [
    "reload(RVT)\n",
    "xDef = 2\n",
    "corrHWidth=10\n",
    "CCCurve = []\n",
    "\n",
    "lambda1, flux1 = RVT.clean_flux(filep1_wl, filep1_data, medianRange=5, xDef=xDef)\n",
    "# lambda2, flux2 = RVT.clean_flux(filep1_wl, filep1_data, medianRange=5, xDef=xDef)\n",
    "# lambda2, flux2 = RVT.clean_flux(filep2_wl, filep2_data, medianRange=5, xDef=xDef)\n",
    "# lambda2, flux2 = RVT.clean_flux(filep3_wl, filep3_data, medianRange=5, xDef=xDef)\n",
    "# lambda2, flux2 = RVT.clean_flux(filep4_wl, filep4_data, medianRange=5, xDef=xDef)\n",
    "lambda2, flux2 = RVT.clean_flux(filep5_wl, filep5_data, medianRange=5, xDef=xDef)\n",
    "\n",
    "# plt.plot(lambda1, flux1)\n",
    "# plt.plot(lambda2, flux2)\n",
    "# plt.show()\n",
    "\n",
    "CCCurve = RVT.signal.fftconvolve(flux1, flux2[::-1], mode='same')\n",
    "corrMax = np.where(CCCurve==max(CCCurve))[0][0]\n",
    "p_guess = [corrMax,corrHWidth]\n",
    "x_mask = np.arange(corrMax-corrHWidth, corrMax+corrHWidth+1)\n",
    "\n",
    "# plt.plot(CCCurve)\n",
    "# plt.plot(RVT.gaussian(x_mask, p[0],p[1]))\n",
    "# plt.show()\n",
    "\n",
    "\n",
    "\n",
    "p = RVT.fit_gaussian(p_guess, CCCurve[x_mask], np.arange(len(CCCurve))[x_mask])[0]\n",
    "if np.modf(CCCurve.shape[0]/2.0)[0]>1e-5:\n",
    "    pixelShift = (p[0]-(CCCurve.shape[0]-1)/2.) #odd number of elements\n",
    "else:\n",
    "    pixelShift = (p[0]-(CCCurve.shape[0])/2.) #even number of elements\n",
    "\n",
    "\n",
    "mid_px = filep2_wl.shape[0]/2\n",
    "dWl = (filep2_wl[mid_px+1]-filep2_wl[mid_px]) / filep2_wl[mid_px]/xDef\n",
    "RV = dWl * pixelShift * RVT.constants.c \n",
    "\n",
    "print filep2_wl.shape[0], filep2_wl.shape[0]/2, p/xDef\n",
    "print dWl, pixelShift, RVT.constants.c, pixelShift * RVT.constants.c\n",
    "print 'RV',RV\n"
   ]
  },
  {
   "cell_type": "code",
   "execution_count": null,
   "metadata": {
    "collapsed": false
   },
   "outputs": [],
   "source": [
    "good results HD285507\n",
    "cam1\n",
    "RV 0.650081706571\n",
    "RV 237.872651165\n",
    "RV 96.3944140755\n",
    "RV 114.433467563\n",
    "RV 50.2164872274\n",
    "\n",
    "cam2\n",
    "RV -0.0172313673699\n",
    "RV -110.892585234\n",
    "RV 15.6701485047\n",
    "RV -88.065656879\n",
    "RV -309.392285134\n",
    "\n",
    "cam3\n",
    "RV 0.417713480503\n",
    "RV 567.479254119\n",
    "RV 419.397288864\n",
    "RV -257.445290527\n",
    "RV -1305.97883204"
   ]
  },
  {
   "cell_type": "code",
   "execution_count": null,
   "metadata": {
    "collapsed": false
   },
   "outputs": [],
   "source": [
    "good results HD1581\n",
    "cam1\n",
    "RV -0.00651678301497\n",
    "RV 161.809695302\n",
    "RV -64.8642306721\n",
    "RV -56.3130184779\n",
    "\n",
    "\n",
    "cam2\n",
    "RV -0.314204070072\n",
    "RV 174.575284795\n",
    "RV 101.925175583\n",
    "RV -63.3004739971\n",
    "\n",
    "\n",
    "cam3\n",
    "RV -0.139146305633\n",
    "RV -94.3366663426\n",
    "RV -102.202385204\n",
    "RV -1950.38111841\n",
    "\n"
   ]
  }
 ],
 "metadata": {
  "kernelspec": {
   "display_name": "Python 2",
   "language": "python",
   "name": "python2"
  },
  "language_info": {
   "codemirror_mode": {
    "name": "ipython",
    "version": 2
   },
   "file_extension": ".py",
   "mimetype": "text/x-python",
   "name": "python",
   "nbconvert_exporter": "python",
   "pygments_lexer": "ipython2",
   "version": "2.7.3"
  }
 },
 "nbformat": 4,
 "nbformat_minor": 0
}
