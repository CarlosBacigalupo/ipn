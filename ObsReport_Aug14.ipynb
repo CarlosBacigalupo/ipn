{
 "metadata": {
  "name": ""
 },
 "nbformat": 3,
 "nbformat_minor": 0,
 "worksheets": [
  {
   "cells": [
    {
     "cell_type": "code",
     "collapsed": false,
     "input": [
      "import pyfits as pf\n",
      "import numpy as np\n",
      "import pylab as plt\n",
      "import os\n",
      "import glob\n",
      "import pickle\n",
      "import RVTools as RVT"
     ],
     "language": "python",
     "metadata": {},
     "outputs": [],
     "prompt_number": 1
    },
    {
     "cell_type": "code",
     "collapsed": false,
     "input": [
      "cd /Users/Carlos/Documents/HERMES/reductions/HD285507_6.0/0_20aug/1/"
     ],
     "language": "python",
     "metadata": {},
     "outputs": [
      {
       "output_type": "stream",
       "stream": "stdout",
       "text": [
        "/Users/Carlos/Documents/HERMES/reductions/HD285507_6.0/0_20aug/1\n"
       ]
      }
     ],
     "prompt_number": 2
    },
    {
     "cell_type": "code",
     "collapsed": false,
     "input": [
      "p2y = RVT.pivot_to_y('20aug10037tlm.fits')"
     ],
     "language": "python",
     "metadata": {},
     "outputs": [],
     "prompt_number": 103
    },
    {
     "cell_type": "code",
     "collapsed": false,
     "input": [
      "cd /Users/Carlos/Documents/HERMES/data/140820/data/ccd_1/"
     ],
     "language": "python",
     "metadata": {},
     "outputs": [
      {
       "output_type": "stream",
       "stream": "stdout",
       "text": [
        "/Users/Carlos/Documents/HERMES/data/140820/data/ccd_1\n"
       ]
      }
     ],
     "prompt_number": 104
    },
    {
     "cell_type": "code",
     "collapsed": false,
     "input": [
      "a = pf.open('20aug10050.fits')"
     ],
     "language": "python",
     "metadata": {},
     "outputs": [],
     "prompt_number": 105
    },
    {
     "cell_type": "code",
     "collapsed": false,
     "input": [
      "ah = a[1].data"
     ],
     "language": "python",
     "metadata": {},
     "outputs": [],
     "prompt_number": 106
    },
    {
     "cell_type": "code",
     "collapsed": false,
     "input": [
      "print ah[ah['NAME']=='Giant01']\n",
      "print 'Pivot',ah[ah['NAME']=='Giant01']['PIVOT'][0]\n",
      "print np.where(ah['NAME']=='Giant01')[0][0]"
     ],
     "language": "python",
     "metadata": {},
     "outputs": [
      {
       "output_type": "stream",
       "stream": "stdout",
       "text": [
        "[ ('Giant01', 0.1853248777409312, -1.1426331243230099, -10, 2, 10, 2, 2.741177272843407, 'P', 175, 4.1699999999999999, 0, 'Kmag', '18', 0.0, 0.0, 0.0)]\n",
        "Pivot 175\n",
        "175\n"
       ]
      }
     ],
     "prompt_number": 107
    },
    {
     "cell_type": "code",
     "collapsed": false,
     "input": [
      "dirs = ['/Users/Carlos/Documents/HERMES/data/140820/data/ccd_1/',\n",
      "        '/Users/Carlos/Documents/HERMES/data/140821/data/ccd_1/',\n",
      "        '/Users/Carlos/Documents/HERMES/data/140822/data/ccd_1/',\n",
      "        '/Users/Carlos/Documents/HERMES/data/140824/data/ccd_1/',\n",
      "        '/Users/Carlos/Documents/HERMES/data/140825/data/ccd_1/']"
     ],
     "language": "python",
     "metadata": {},
     "outputs": [],
     "prompt_number": 108
    },
    {
     "cell_type": "code",
     "collapsed": false,
     "input": [
      "print a[0].header['OBJECT']\n",
      "print good_targets\n",
      "print a[0].header['OBJECT'] in good_targets\n",
      "print np.where(a[0].header['OBJECT']== np.array(good_targets))"
     ],
     "language": "python",
     "metadata": {},
     "outputs": [
      {
       "output_type": "stream",
       "stream": "stdout",
       "text": [
        "rhoTuc #176 (Pivot 175)\n",
        "['rhoTuc #176 (Pivot 175)' 'HD1581 #176 (Pivot 175)'\n",
        " 'HD285507 #227 (Pivot 223)']\n",
        "True\n",
        "(array([0]),)\n"
       ]
      }
     ],
     "prompt_number": 109
    },
    {
     "cell_type": "code",
     "collapsed": false,
     "input": [
      "raw = []\n",
      "print 'Filename & Field Name & Plate & MJD & Exp Time & SNR \\\\\\\\'\n",
      "good_targets = np.array(['rhoTuc #176 (Pivot 175)', 'HD1581 #176 (Pivot 175)','HD285507 #227 (Pivot 223)' ])\n",
      "good_pivots = [175,175,224]\n",
      "               \n",
      "for j in dirs:\n",
      "    os.chdir(j)\n",
      "    for i in glob.glob('*.fits'):\n",
      "        a = pf.open(i)\n",
      "        thisSNR = 0\n",
      "        if a[0].header['NDFCLASS'] == 'MFOBJECT':\n",
      "            if a[0].header['OBJECT'] in good_targets:\n",
      "                pivot_idx = np.where(a[0].header['OBJECT']== good_targets)[0][0]\n",
      "#                 flux = b.data[good_pivots[pivot_idx]]\n",
      "#                 thisSNR=np.median(flux)/np.std(flux)\n",
      "                print i+' & '+a[0].header['OBJECT']+' & '+a[0].header['SOURCE']+' & '+str(a[0].header['UTMJD'])+' & '+str(a[0].header['EXPOSED']) +' & '+str(thisSNR) + ' \\\\\\\\'\n",
      "                raw.append((i, a[0].header['OBJECT'],a[0].header['SOURCE'],a[0].header['UTMJD'],a[0].header['EXPOSED']))            \n",
      "        a.close\n",
      "# raw = np.array(raw)"
     ],
     "language": "python",
     "metadata": {},
     "outputs": [
      {
       "output_type": "stream",
       "stream": "stdout",
       "text": [
        "Filename & Field Name & Plate & MJD & Exp Time & SNR \\\\\n",
        "20aug10039.fits & HD285507 #227 (Pivot 223) & Plate 1 & 56889.7312269 & 600.0 & 0 \\\\"
       ]
      },
      {
       "output_type": "stream",
       "stream": "stdout",
       "text": [
        "\n",
        "20aug10040.fits & HD285507 #227 (Pivot 223) & Plate 1 & 56889.7409558 & 1200.0 & 0 \\\\\n",
        "20aug10041.fits & HD285507 #227 (Pivot 223) & Plate 1 & 56889.7558863 & 1200.0 & 0 \\\\\n",
        "20aug10044.fits & rhoTuc #176 (Pivot 175) & Plate 0 & 56889.7811361 & 300.0 & 0 \\\\"
       ]
      },
      {
       "output_type": "stream",
       "stream": "stdout",
       "text": [
        "\n",
        "20aug10045.fits & rhoTuc #176 (Pivot 175) & Plate 0 & 56889.7856174 & 360.0 & 0 \\\\\n",
        "20aug10046.fits & rhoTuc #176 (Pivot 175) & Plate 0 & 56889.7910208 & 120.0 & 0 \\\\"
       ]
      },
      {
       "output_type": "stream",
       "stream": "stdout",
       "text": [
        "\n",
        "20aug10047.fits & rhoTuc #176 (Pivot 175) & Plate 0 & 56889.7933129 & 120.0 & 0 \\\\\n",
        "20aug10048.fits & rhoTuc #176 (Pivot 175) & Plate 0 & 56889.7955978 & 120.0 & 0 \\\\"
       ]
      },
      {
       "output_type": "stream",
       "stream": "stdout",
       "text": [
        "\n",
        "20aug10049.fits & rhoTuc #176 (Pivot 175) & Plate 0 & 56889.7978891 & 120.0 & 0 \\\\\n",
        "20aug10050.fits & rhoTuc #176 (Pivot 175) & Plate 0 & 56889.800162 & 120.0 & 0 \\\\\n",
        "20aug10051.fits & rhoTuc #176 (Pivot 175) & Plate 0 & 56889.8024453 & 120.0 & 0 \\\\"
       ]
      },
      {
       "output_type": "stream",
       "stream": "stdout",
       "text": [
        "\n",
        "20aug10053.fits & HD1581 #176 (Pivot 175) & Plate 0 & 56889.8100292 & 120.0 & 0 \\\\"
       ]
      },
      {
       "output_type": "stream",
       "stream": "stdout",
       "text": [
        "\n",
        "21aug10033.fits & rhoTuc #176 (Pivot 175) & Plate 0 & 56890.7000594 & 600.0 & 0 \\\\"
       ]
      },
      {
       "output_type": "stream",
       "stream": "stdout",
       "text": [
        "\n",
        "21aug10034.fits & rhoTuc #176 (Pivot 175) & Plate 0 & 56890.707896 & 600.0 & 0 \\\\\n",
        "21aug10035.fits & rhoTuc #176 (Pivot 175) & Plate 0 & 56890.7158804 & 600.0 & 0 \\\\"
       ]
      },
      {
       "output_type": "stream",
       "stream": "stdout",
       "text": [
        "\n",
        "21aug10038.fits & HD285507 #227 (Pivot 223) & Plate 1 & 56890.7344779 & 1800.0 & 0 \\\\"
       ]
      },
      {
       "output_type": "stream",
       "stream": "stdout",
       "text": [
        "\n",
        "21aug10039.fits & HD285507 #227 (Pivot 223) & Plate 1 & 56890.7561996 & 1800.0 & 0 \\\\\n",
        "21aug10040.fits & HD285507 #227 (Pivot 223) & Plate 1 & 56890.7779248 & 1800.0 & 0 \\\\"
       ]
      },
      {
       "output_type": "stream",
       "stream": "stdout",
       "text": [
        "\n",
        "21aug10041.fits & HD1581 #176 (Pivot 175) & Plate 0 & 56890.8035487 & 120.0 & 0 \\\\\n",
        "21aug10042.fits & HD1581 #176 (Pivot 175) & Plate 0 & 56890.8058271 & 120.0 & 0 \\\\"
       ]
      },
      {
       "output_type": "stream",
       "stream": "stdout",
       "text": [
        "\n",
        "21aug10043.fits & HD1581 #176 (Pivot 175) & Plate 0 & 56890.8081117 & 120.0 & 0 \\\\\n",
        "21aug10044.fits & rhoTuc #176 (Pivot 175) & Plate 0 & 56890.8148393 & 360.0 & 0 \\\\"
       ]
      },
      {
       "output_type": "stream",
       "stream": "stdout",
       "text": [
        "\n",
        "22aug10033.fits & rhoTuc #176 (Pivot 175) & Plate 0 & 56891.6885866 & 360.0 & 0 \\\\"
       ]
      },
      {
       "output_type": "stream",
       "stream": "stdout",
       "text": [
        "\n",
        "22aug10034.fits & rhoTuc #176 (Pivot 175) & Plate 0 & 56891.6936397 & 360.0 & 0 \\\\\n",
        "22aug10035.fits & rhoTuc #176 (Pivot 175) & Plate 0 & 56891.6987003 & 360.0 & 0 \\\\"
       ]
      },
      {
       "output_type": "stream",
       "stream": "stdout",
       "text": [
        "\n",
        "22aug10036.fits & HD1581 #176 (Pivot 175) & Plate 0 & 56891.705889 & 120.0 & 0 \\\\\n",
        "22aug10037.fits & HD1581 #176 (Pivot 175) & Plate 0 & 56891.7081863 & 120.0 & 0 \\\\"
       ]
      },
      {
       "output_type": "stream",
       "stream": "stdout",
       "text": [
        "\n",
        "22aug10038.fits & HD1581 #176 (Pivot 175) & Plate 0 & 56891.7104593 & 120.0 & 0 \\\\\n",
        "22aug10041.fits & HD285507 #227 (Pivot 223) & Plate 1 & 56891.7214011 & 1200.0 & 0 \\\\"
       ]
      },
      {
       "output_type": "stream",
       "stream": "stdout",
       "text": [
        "\n",
        "22aug10042.fits & HD285507 #227 (Pivot 223) & Plate 1 & 56891.7361919 & 1200.0 & 0 \\\\\n",
        "22aug10043.fits & HD285507 #227 (Pivot 223) & Plate 1 & 56891.7509697 & 1200.0 & 0 \\\\"
       ]
      },
      {
       "output_type": "stream",
       "stream": "stdout",
       "text": [
        "\n",
        "22aug10046.fits & rhoTuc #176 (Pivot 175) & Plate 0 & 56891.7757545 & 360.0 & 0 \\\\"
       ]
      },
      {
       "output_type": "stream",
       "stream": "stdout",
       "text": [
        "\n",
        "22aug10047.fits & rhoTuc #176 (Pivot 175) & Plate 0 & 56891.7808645 & 360.0 & 0 \\\\\n",
        "24aug10055.fits & rhoTuc #176 (Pivot 175) & Plate 0 & 56893.7454057 & 360.0 & 0 \\\\"
       ]
      },
      {
       "output_type": "stream",
       "stream": "stdout",
       "text": [
        "\n",
        "24aug10056.fits & rhoTuc #176 (Pivot 175) & Plate 0 & 56893.7513966 & 360.0 & 0 \\\\\n",
        "24aug10057.fits & rhoTuc #176 (Pivot 175) & Plate 0 & 56893.7565186 & 360.0 & 0 \\\\"
       ]
      },
      {
       "output_type": "stream",
       "stream": "stdout",
       "text": [
        "\n",
        "24aug10058.fits & HD1581 #176 (Pivot 175) & Plate 0 & 56893.7639537 & 120.0 & 0 \\\\\n",
        "24aug10059.fits & HD1581 #176 (Pivot 175) & Plate 0 & 56893.7662353 & 80.0 & 0 \\\\\n",
        "24aug10060.fits & HD1581 #176 (Pivot 175) & Plate 0 & 56893.7680468 & 30.0 & 0 \\\\"
       ]
      },
      {
       "output_type": "stream",
       "stream": "stdout",
       "text": [
        "\n",
        "24aug10061.fits & HD1581 #176 (Pivot 175) & Plate 0 & 56893.7692934 & 30.0 & 0 \\\\\n",
        "24aug10062.fits & HD1581 #176 (Pivot 175) & Plate 0 & 56893.7709226 & 30.0 & 0 \\\\"
       ]
      },
      {
       "output_type": "stream",
       "stream": "stdout",
       "text": [
        "\n",
        "24aug10063.fits & HD285507 #227 (Pivot 223) & Plate 1 & 56893.7742145 & 1200.0 & 0 \\\\\n",
        "24aug10064.fits & HD285507 #227 (Pivot 223) & Plate 1 & 56893.7889874 & 1200.0 & 0 \\\\"
       ]
      },
      {
       "output_type": "stream",
       "stream": "stdout",
       "text": [
        "\n",
        "24aug10065.fits & HD285507 #227 (Pivot 223) & Plate 1 & 56893.8041221 & 600.0 & 0 \\\\\n",
        "25aug10040.fits & rhoTuc #176 (Pivot 175) & Plate 0 & 56894.7232178 & 360.0 & 0 \\\\"
       ]
      },
      {
       "output_type": "stream",
       "stream": "stdout",
       "text": [
        "\n",
        "25aug10041.fits & rhoTuc #176 (Pivot 175) & Plate 0 & 56894.7282847 & 360.0 & 0 \\\\\n",
        "25aug10042.fits & rhoTuc #176 (Pivot 175) & Plate 0 & 56894.7333418 & 360.0 & 0 \\\\\n",
        "25aug10044.fits & HD1581 #176 (Pivot 175) & Plate 0 & 56894.7423378 & 60.0 & 0 \\\\"
       ]
      },
      {
       "output_type": "stream",
       "stream": "stdout",
       "text": [
        "\n",
        "25aug10045.fits & HD1581 #176 (Pivot 175) & Plate 0 & 56894.7443452 & 60.0 & 0 \\\\\n",
        "25aug10046.fits & HD1581 #176 (Pivot 175) & Plate 0 & 56894.7459274 & 60.0 & 0 \\\\"
       ]
      },
      {
       "output_type": "stream",
       "stream": "stdout",
       "text": [
        "\n",
        "25aug10049.fits & HD285507 #227 (Pivot 223) & Plate 1 & 56894.7584364 & 1200.0 & 0 \\\\\n",
        "25aug10050.fits & HD285507 #227 (Pivot 223) & Plate 1 & 56894.7732268 & 1200.0 & 0 \\\\\n",
        "25aug10051.fits & HD285507 #227 (Pivot 223) & Plate 1 & 56894.7880043 & 1200.0 & 0 \\\\\n",
        "25aug10052.fits & rhoTuc #176 (Pivot 175) & Plate 0 & 56894.8086355 & 360.0 & 0 \\\\\n"
       ]
      }
     ],
     "prompt_number": 114
    },
    {
     "cell_type": "code",
     "collapsed": false,
     "input": [
      "raw[0] = (raw[0][0],'47Tuc center' , raw[0][2], raw[0][3], raw[0][4])"
     ],
     "language": "python",
     "metadata": {},
     "outputs": [],
     "prompt_number": 46
    },
    {
     "cell_type": "code",
     "collapsed": false,
     "input": [
      "targets = np.unique(np.array(raw)[:,1])\n",
      "good_targets = ['rhoTuc #176 (Pivot 175)', 'HD1581 #176 (Pivot 175)','HD285507 #227 (Pivot 223)' ]\n",
      "target_alias = [r'$\\rho$ Tucanae', 'HD1581','HD285507' ]"
     ],
     "language": "python",
     "metadata": {},
     "outputs": [],
     "prompt_number": 108
    },
    {
     "cell_type": "code",
     "collapsed": false,
     "input": [
      "# colors = ['k','k','k','k','k','k','k']\n",
      "colors = ['g','g','g','g','g','g','g','g','g','g','g','g']\n",
      "dates = ['20 aug', '21 aug', '22 aug', '23 aug', '24 aug', '25 aug', '']\n",
      "\n",
      "fig, ax = plt.subplots()\n",
      "ax.set_yticks(np.arange(1,5))\n",
      "ax.set_ylim(0,5)\n",
      "plt.xlabel('date')\n",
      "plt.title('Observations per target')\n",
      "\n",
      "idx_y = [1,2,3,1,1,1,1,1]\n",
      "for i in raw:\n",
      "    idx = np.where(i[1]==targets)[0][0]\n",
      "    if targets[idx] in ['rhoTuc #176 (Pivot 175)','47Tuc center', 'HD1581 #176 (Pivot 175)','HD285507 #227 (Pivot 223)' ]:\n",
      "        ax.scatter(i[3], idx_y[idx] ,c = colors[idx], s =1, linewidths=20, marker ='_')\n",
      "\n",
      "    \n",
      "ax.set_yticklabels(target_alias)\n",
      "ax.set_xticklabels(dates)\n",
      "plt.gca().add_patch(plt.Rectangle((2456890.083333-2400000.5,-100),0.3,200, alpha = 0.2, label = 'Observing Window'))\n",
      "plt.gca().add_patch(plt.Rectangle((2456891.083333-2400000.5,-100),0.3,200, alpha = 0.2))\n",
      "plt.gca().add_patch(plt.Rectangle((2456892.083333-2400000.5,-100),0.3,200, alpha = 0.2))\n",
      "plt.gca().add_patch(plt.Rectangle((2456894.083333-2400000.5,-100),0.3,200, alpha = 0.2))\n",
      "plt.gca().add_patch(plt.Rectangle((2456895.083333-2400000.5,-100),0.3,200, alpha = 0.2))\n",
      "plt.legend()\n",
      "plt.show()"
     ],
     "language": "python",
     "metadata": {},
     "outputs": [],
     "prompt_number": 117
    },
    {
     "cell_type": "code",
     "collapsed": false,
     "input": [
      "# retrieve SNR from all files for a selected target\n",
      "SNR = np.zeros((1,15,4))\n",
      "expTime = []\n",
      "JDs = []\n",
      "\n",
      "for cam in range(1,5):\n",
      "    t = 0\n",
      "    for epoch in [1,2,3,3,5]:\n",
      "        os.chdir('/Users/Carlos/Documents/HERMES/data/14082'+str(epoch)+'/data')\n",
      "        fileList = glob.glob('ccd_'+str(cam)+'/*.fits')\n",
      "        for thisFileIdx in range(len(fileList)):\n",
      "            a = pf.open(fileList[thisFileIdx])\n",
      "            if a[0].header['OBJECT']=='HD1581 #176 (Pivot 175)':\n",
      "                flux = a[0].data[176]\n",
      "#                 print cam, a[0].header['UTMJD'], np.median(flux)/np.std(flux), a[0].header['EXPOSED']\n",
      "                SNR[0, t, cam-1]=np.median(flux)/np.std(flux)\n",
      "                if cam ==1: \n",
      "                    JDs.append(a[0].header['UTMJD'])\n",
      "                    expTime.append(a[0].header['EXPOSED'])\n",
      "                t +=1\n",
      "JDs = np.array(JDs)\n",
      "expTime = np.array(expTime)\n",
      "                "
     ],
     "language": "python",
     "metadata": {},
     "outputs": [
      {
       "ename": "NameError",
       "evalue": "name 'np' is not defined",
       "output_type": "pyerr",
       "traceback": [
        "\u001b[0;31m---------------------------------------------------------------------------\u001b[0m\n\u001b[0;31mNameError\u001b[0m                                 Traceback (most recent call last)",
        "\u001b[0;32m<ipython-input-26-67e78bed48f3>\u001b[0m in \u001b[0;36m<module>\u001b[0;34m()\u001b[0m\n\u001b[1;32m      1\u001b[0m \u001b[0;31m# retrieve SNR from all files for a selected target\u001b[0m\u001b[0;34m\u001b[0m\u001b[0;34m\u001b[0m\u001b[0m\n\u001b[0;32m----> 2\u001b[0;31m \u001b[0mSNR\u001b[0m \u001b[0;34m=\u001b[0m \u001b[0mnp\u001b[0m\u001b[0;34m.\u001b[0m\u001b[0mzeros\u001b[0m\u001b[0;34m(\u001b[0m\u001b[0;34m(\u001b[0m\u001b[0;36m1\u001b[0m\u001b[0;34m,\u001b[0m\u001b[0;36m15\u001b[0m\u001b[0;34m,\u001b[0m\u001b[0;36m4\u001b[0m\u001b[0;34m)\u001b[0m\u001b[0;34m)\u001b[0m\u001b[0;34m\u001b[0m\u001b[0m\n\u001b[0m\u001b[1;32m      3\u001b[0m \u001b[0mexpTime\u001b[0m \u001b[0;34m=\u001b[0m \u001b[0;34m[\u001b[0m\u001b[0;34m]\u001b[0m\u001b[0;34m\u001b[0m\u001b[0m\n\u001b[1;32m      4\u001b[0m \u001b[0mJDs\u001b[0m \u001b[0;34m=\u001b[0m \u001b[0;34m[\u001b[0m\u001b[0;34m]\u001b[0m\u001b[0;34m\u001b[0m\u001b[0m\n\u001b[1;32m      5\u001b[0m \u001b[0;34m\u001b[0m\u001b[0m\n",
        "\u001b[0;31mNameError\u001b[0m: name 'np' is not defined"
       ]
      }
     ],
     "prompt_number": 26
    },
    {
     "cell_type": "code",
     "collapsed": false,
     "input": [
      "#opens a single star\n",
      "filename = '/Users/Carlos/Documents/HERMES/reductions/HD1581_6.0/uncombined/red_Giant01.obj'\n",
      "filehandler = open(filename, 'r')\n",
      "thisStar = pickle.load(filehandler)\n"
     ],
     "language": "python",
     "metadata": {},
     "outputs": [],
     "prompt_number": 3
    },
    {
     "cell_type": "code",
     "collapsed": false,
     "input": [
      "thisCam=thisStar.exposures.cameras[0]"
     ],
     "language": "python",
     "metadata": {},
     "outputs": [],
     "prompt_number": 4
    },
    {
     "cell_type": "code",
     "collapsed": false,
     "input": [
      "plt.plot(thisCam.red_fluxes[0])\n",
      "plt.show()"
     ],
     "language": "python",
     "metadata": {},
     "outputs": [],
     "prompt_number": 5
    },
    {
     "cell_type": "code",
     "collapsed": false,
     "input": [
      "flux = thisCam.red_fluxes[0]\n",
      "plt.plot(np.real(np.fft.fft(np.sin(np.arange(1000*2*np.pi)))))\n",
      "# plt.plot(np.sin(np.arange(1000*2*np.pi)))\n",
      "plt.show()"
     ],
     "language": "python",
     "metadata": {},
     "outputs": [],
     "prompt_number": 10
    },
    {
     "cell_type": "code",
     "collapsed": false,
     "input": [
      "np.real(np.fft.fft(np.sin(np.arange(1000*2*np.pi))))"
     ],
     "language": "python",
     "metadata": {},
     "outputs": [
      {
       "metadata": {},
       "output_type": "pyout",
       "prompt_number": 8,
       "text": [
        "array([-0.07645498, -0.07645467, -0.07645373, ..., -0.07645217,\n",
        "       -0.07645373, -0.07645467])"
       ]
      }
     ],
     "prompt_number": 8
    },
    {
     "cell_type": "code",
     "collapsed": false,
     "input": [
      "# retrieve SNR from all files for a selected target\n",
      "SNR = np.zeros((1,15,4))\n",
      "expTime = []\n",
      "JDs = []\n",
      "\n",
      "for cam in range(4):\n",
      "    thisCam=thisStar.exposures.cameras[cam]\n",
      "    for epoch in [0,1,2,4,5]:\n",
      "        os.chdir('/Users/Carlos/Documents/HERMES/data/14082'+str(epoch)+'/data')\n",
      "        fileList = glob.glob('ccd_'+str(cam)+'/*.fits')\n",
      "        for thisFileIdx in range(len(fileList)):\n",
      "            a = pf.open(fileList[thisFileIdx])\n",
      "            if a[0].header['OBJECT']=='HD1581 #176 (Pivot 175)':\n",
      "                flux = a[0].data[176]\n",
      "#                 print cam, a[0].header['UTMJD'], np.median(flux)/np.std(flux), a[0].header['EXPOSED']\n",
      "                SNR[0, t, cam-1]=np.median(flux)/np.std(flux)\n",
      "                if cam ==1: \n",
      "                    JDs.append(a[0].header['UTMJD'])\n",
      "                    expTime.append(a[0].header['EXPOSED'])\n",
      "                t +=1\n",
      "JDs = np.array(JDs)\n",
      "expTime = np.array(expTime)\n",
      "                "
     ],
     "language": "python",
     "metadata": {},
     "outputs": []
    },
    {
     "cell_type": "code",
     "collapsed": false,
     "input": [
      "colors = ['b', 'g', 'r', 'cyan']\n",
      "cameras = ['Blue', 'Green', 'Red', 'IR']\n",
      "for cam in range(4):\n",
      "    plt.scatter(JDs, SNR[0,:,cam], s = expTime, c = colors[cam], label = cameras[cam])\n",
      "plt.legend(loc=0)\n",
      "plt.ylabel('SNR')\n",
      "plt.xlabel('JD')\n",
      "plt.show()"
     ],
     "language": "python",
     "metadata": {},
     "outputs": [],
     "prompt_number": 11
    },
    {
     "cell_type": "code",
     "collapsed": false,
     "input": [
      "## Changes the OBJECT header property to reflect offsets and fibre changes - USE WITH CAUTION\n",
      "os.chdir('/Users/Carlos/Documents/HERMES/data/140825')\n",
      "front = '25aug'\n",
      "back = '0052.fits'\n",
      "#newName = '47Tuc IFU'\n",
      "#newName = '47Tuc center'\n",
      "#newName = 'rhoTuc #392 (Pivot 398)'\n",
      "newName = 'rhoTuc #176 (Pivot 175)'\n",
      "#newName = 'HD1581 #392 (Pivot 398)'\n",
      "#newName = 'HD1581 #176 (Pivot 175)'\n",
      "#newName = 'HD285507 #227 (Pivot 223)'\n",
      "for i in range(1,5):\n",
      "    a = pf.open('data/ccd_'+str(i)+'/'+ front + str(i) + back)\n",
      "    a[0].header['OBJECT']=newName\n",
      "    a.writeto('data/ccd_'+str(i)+'/'+ front + str(i) + back, clobber=True)  \n",
      "    a.close()"
     ],
     "language": "python",
     "metadata": {},
     "outputs": [
      {
       "output_type": "stream",
       "stream": "stdout",
       "text": [
        "Overwriting existing file 'data/ccd_1/25aug10042.fits'.\n",
        "Overwriting existing file 'data/ccd_2/25aug20042.fits'.\n"
       ]
      },
      {
       "output_type": "stream",
       "stream": "stdout",
       "text": [
        "Overwriting existing file 'data/ccd_3/25aug30042.fits'.\n",
        "Overwriting existing file 'data/ccd_4/25aug40042.fits'.\n"
       ]
      },
      {
       "output_type": "stream",
       "stream": "stdout",
       "text": [
        "Overwriting existing file 'data/ccd_1/25aug10052.fits'.\n",
        "Overwriting existing file 'data/ccd_2/25aug20052.fits'.\n"
       ]
      },
      {
       "output_type": "stream",
       "stream": "stdout",
       "text": [
        "Overwriting existing file 'data/ccd_3/25aug30052.fits'.\n",
        "Overwriting existing file 'data/ccd_4/25aug40052.fits'.\n"
       ]
      }
     ],
     "prompt_number": 49
    },
    {
     "cell_type": "code",
     "collapsed": false,
     "input": [],
     "language": "python",
     "metadata": {},
     "outputs": []
    }
   ],
   "metadata": {}
  }
 ]
}