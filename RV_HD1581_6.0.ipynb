{
 "metadata": {
  "name": ""
 },
 "nbformat": 3,
 "nbformat_minor": 0,
 "worksheets": [
  {
   "cells": [
    {
     "cell_type": "code",
     "collapsed": false,
     "input": [
      "import glob\n",
      "import os\n",
      "import numpy as np\n",
      "from scipy import signal, interpolate, optimize, constants\n",
      "import pylab as plt\n",
      "import pickle\n",
      "# from red_tools import *\n",
      "import create_obj as cr_obj\n",
      "reload(cr_obj)\n",
      "import RVTools as RVT\n",
      "reload(RVT)\n",
      "# import asteroseismology as ast\n",
      "# import HERMES\n",
      "# reload(red_tools)\\n\",\n",
      "# reload(ast)\n",
      "# import carlos\n",
      "# import TableBrowser as tb\n",
      "# from IPython.display import display, Math, Latex\n",
      "# import sys"
     ],
     "language": "python",
     "metadata": {},
     "outputs": [
      {
       "metadata": {},
       "output_type": "pyout",
       "prompt_number": 167,
       "text": [
        "<module 'RVTools' from '/Users/Carlos/Documents/ipn/RVTools.py'>"
       ]
      }
     ],
     "prompt_number": 167
    },
    {
     "cell_type": "heading",
     "level": 2,
     "metadata": {},
     "source": [
      "Functions"
     ]
    },
    {
     "cell_type": "code",
     "collapsed": false,
     "input": [
      "\n",
      "# def calibrator_weights(deltay, sigma):\n",
      "# \t\"\"\"For calibrator stars with CCD y values deltay from the target star\n",
      "# \tand radial velocity errors sigma, create an optimal set of weights.\n",
      "\t\n",
      "# \tWe want to minimise the variance of the weighted sum of calibrator\n",
      "# \tradial velocities where we have the following constraints:\n",
      "\t\n",
      "# \t1) \\Sigma w_i = 1  (i.e. the average value of the calibrators measure CCD shifts)\n",
      "# \t2) \\Sigma w_i dy_i = 0 (i.e. allow the wavelength solution to rotate about the target)\n",
      "\t\n",
      "# \tSee http://en.wikipedia.org/wiki/Quadratic_programming\n",
      "# \t\"\"\"\n",
      "# \tN = len(sigma)\n",
      "# \t#Start of with a matrix of zeros then fill it with the \"Q\" and \"E\" matrices\n",
      "# \tM = np.zeros((N+2,N+2))\n",
      "# \tM[(range(N),range(N))] = sigma\n",
      "# \tM[N,0:N] = deltay\n",
      "# \tM[0:N,N] = deltay\n",
      "# \tM[N+1,0:N] = np.ones(N)\n",
      "# \tM[0:N,N+1] = np.ones(N)\n",
      "# \tb = np.zeros(N+2)\n",
      "# \tb[N+1] = 1.0\n",
      "# \t#Solve the problem M * x = b\n",
      "# \tx = np.linalg.solve(M,b)\n",
      "# \t#The first N elements of x contain the weights.\n",
      "# \treturn x[0:N]"
     ],
     "language": "python",
     "metadata": {},
     "outputs": [],
     "prompt_number": 17
    },
    {
     "cell_type": "code",
     "collapsed": false,
     "input": [
      "# def pivot_to_y(ref_file):\n",
      "    \n",
      "#     a = pf.getdata(ref_file)\n",
      "    \n",
      "#     return a[:,200]"
     ],
     "language": "python",
     "metadata": {},
     "outputs": [],
     "prompt_number": 18
    },
    {
     "cell_type": "code",
     "collapsed": false,
     "input": [
      "# def quad(x,a,b,c):\n",
      "#     curve  = a*x**2+b*x+c\n",
      "#     return curve\n",
      "\n",
      "# def fit_quad(p, quadX, quadY):\n",
      "#     a = optimize.leastsq(diff_quad, p, args= [quadX, quadY], epsfcn=0.1)\n",
      "#     return a\n",
      "\n",
      "# def diff_quad(p, args):\n",
      "#     quadX = args[0]\n",
      "#     quadY = args[1]\n",
      "#     diff = quad(quadX, p[0],p[1], p[2]) - quadY\n",
      "#     return diff\n",
      "\n"
     ],
     "language": "python",
     "metadata": {},
     "outputs": [],
     "prompt_number": 19
    },
    {
     "cell_type": "heading",
     "level": 2,
     "metadata": {},
     "source": [
      "Collect reduced data into single object"
     ]
    },
    {
     "cell_type": "code",
     "collapsed": false,
     "input": [
      "cd /Users/Carlos/Documents/HERMES/reductions/HD1581_6.0/uncombined/"
     ],
     "language": "python",
     "metadata": {},
     "outputs": [
      {
       "output_type": "stream",
       "stream": "stdout",
       "text": [
        "/Users/Carlos/Documents/HERMES/reductions/HD1581_6.0/uncombined\n"
       ]
      }
     ],
     "prompt_number": 9
    },
    {
     "cell_type": "code",
     "collapsed": false,
     "input": [
      "#uses create_obj.py to create star with basic reduced data\n",
      "thisStar = cr_obj.star('Giant01')\n",
      "thisStar.exposures = cr_obj.exposures()\n",
      "thisStar.exposures.load_exposures(thisStar.name)\n",
      "thisStar.exposures.calculate_baryVels(thisStar)\n",
      "thisStar.name = 'HD1581'\n",
      "file_pi = open('HD1581.obj', 'w') \n",
      "pickle.dump(thisStar, file_pi) \n",
      "file_pi.close()"
     ],
     "language": "python",
     "metadata": {},
     "outputs": [
      {
       "output_type": "stream",
       "stream": "stdout",
       "text": [
        "Giant01 star created\n"
       ]
      }
     ],
     "prompt_number": 48
    },
    {
     "cell_type": "heading",
     "level": 3,
     "metadata": {},
     "source": [
      "Take initial data from HD1581.obj and create red_HD1581.obj"
     ]
    },
    {
     "cell_type": "code",
     "collapsed": false,
     "input": [
      "#takes each <star_name>.obj and calculates RVs, etc. Saves red_<star_name>.obj\n",
      "xDef = 10 #resampling points per pixel\n",
      "CCMaskWidth = 5 #half width around the peak of the cc curve to be gaussian fitted\n",
      "\n",
      "filename = 'HD1581.obj'\n",
      "filehandler = open(filename, 'r')\n",
      "thisStar = pickle.load(filehandler)\n",
      "\n",
      "RVT.find_max_wl_range(thisStar)\n",
      "RVT.RVs_CC_t0(thisStar)\n",
      "file_pi = open('red_HD1581.obj', 'w') \n",
      "pickle.dump(thisStar, file_pi) \n",
      "file_pi.close()"
     ],
     "language": "python",
     "metadata": {},
     "outputs": [
      {
       "output_type": "stream",
       "stream": "stdout",
       "text": [
        "WL aligned\n",
        "WL aligned\n",
        "WL aligned\n",
        "WL aligned\n",
        "0 56889.8100292 "
       ]
      },
      {
       "output_type": "stream",
       "stream": "stdout",
       "text": [
        "1 56890.8035487 2 56890.8058271 "
       ]
      },
      {
       "output_type": "stream",
       "stream": "stdout",
       "text": [
        "3 56890.8081117 4 56891.705889 "
       ]
      },
      {
       "output_type": "stream",
       "stream": "stdout",
       "text": [
        "5 56891.7081863 6 56891.7104593 "
       ]
      },
      {
       "output_type": "stream",
       "stream": "stdout",
       "text": [
        "7 56893.7639537 8 56893.7662353 "
       ]
      },
      {
       "output_type": "stream",
       "stream": "stdout",
       "text": [
        "9 56893.7680468 10 56893.7692934 "
       ]
      },
      {
       "output_type": "stream",
       "stream": "stdout",
       "text": [
        "11 56893.7709226 12 56894.7423378 "
       ]
      },
      {
       "output_type": "stream",
       "stream": "stdout",
       "text": [
        "13 56894.7443452 14 56894.7459274 "
       ]
      },
      {
       "output_type": "stream",
       "stream": "stdout",
       "text": [
        "\n",
        "0 56889.8100292 1 56890.8035487 "
       ]
      },
      {
       "output_type": "stream",
       "stream": "stdout",
       "text": [
        "2 56890.8058271 3 56890.8081117 "
       ]
      },
      {
       "output_type": "stream",
       "stream": "stdout",
       "text": [
        "4 56891.705889 5 56891.7081863 "
       ]
      },
      {
       "output_type": "stream",
       "stream": "stdout",
       "text": [
        "6 56891.7104593 7 56893.7639537 "
       ]
      },
      {
       "output_type": "stream",
       "stream": "stdout",
       "text": [
        "8 56893.7662353 9 56893.7680468 "
       ]
      },
      {
       "output_type": "stream",
       "stream": "stdout",
       "text": [
        "10 56893.7692934 11 56893.7709226 "
       ]
      },
      {
       "output_type": "stream",
       "stream": "stdout",
       "text": [
        "12 56894.7423378 13 56894.7443452 "
       ]
      },
      {
       "output_type": "stream",
       "stream": "stdout",
       "text": [
        "14 56894.7459274 \n",
        "0"
       ]
      },
      {
       "output_type": "stream",
       "stream": "stdout",
       "text": [
        " 56889.8100292 1 56890.8035487 "
       ]
      },
      {
       "output_type": "stream",
       "stream": "stdout",
       "text": [
        "2 56890.8058271 3 56890.8081117 "
       ]
      },
      {
       "output_type": "stream",
       "stream": "stdout",
       "text": [
        "4 56891.705889 5 56891.7081863 "
       ]
      },
      {
       "output_type": "stream",
       "stream": "stdout",
       "text": [
        "6 56891.7104593 7 56893.7639537 "
       ]
      },
      {
       "output_type": "stream",
       "stream": "stdout",
       "text": [
        "8 56893.7662353 9 56893.7680468 "
       ]
      },
      {
       "output_type": "stream",
       "stream": "stdout",
       "text": [
        "10 56893.7692934 11 56893.7709226 "
       ]
      },
      {
       "output_type": "stream",
       "stream": "stdout",
       "text": [
        "12 56894.7423378 13 56894.7443452 "
       ]
      },
      {
       "output_type": "stream",
       "stream": "stdout",
       "text": [
        "14 56894.7459274 \n",
        "0 56889.8100292 "
       ]
      },
      {
       "output_type": "stream",
       "stream": "stdout",
       "text": [
        "1 56890.8035487 2 56890.8058271 "
       ]
      },
      {
       "output_type": "stream",
       "stream": "stdout",
       "text": [
        "3 56890.8081117 4 56891.705889 "
       ]
      },
      {
       "output_type": "stream",
       "stream": "stdout",
       "text": [
        "5 56891.7081863 6 56891.7104593 "
       ]
      },
      {
       "output_type": "stream",
       "stream": "stdout",
       "text": [
        "7 56893.7639537 8 56893.7662353 "
       ]
      },
      {
       "output_type": "stream",
       "stream": "stdout",
       "text": [
        "9 56893.7680468 10 56893.7692934 "
       ]
      },
      {
       "output_type": "stream",
       "stream": "stdout",
       "text": [
        "11 56893.7709226 12 56894.7423378 "
       ]
      },
      {
       "output_type": "stream",
       "stream": "stdout",
       "text": [
        "13 56894.7443452 14 56894.7459274 "
       ]
      },
      {
       "output_type": "stream",
       "stream": "stdout",
       "text": [
        "\n"
       ]
      }
     ],
     "prompt_number": 183
    },
    {
     "cell_type": "code",
     "collapsed": false,
     "input": [
      "thisCam = thisStar.exposures.cameras[0]"
     ],
     "language": "python",
     "metadata": {},
     "outputs": [],
     "prompt_number": 169
    },
    {
     "cell_type": "code",
     "collapsed": false,
     "input": [
      "thisCam.RVs"
     ],
     "language": "python",
     "metadata": {},
     "outputs": [
      {
       "metadata": {},
       "output_type": "pyout",
       "prompt_number": 170,
       "text": [
        "array([  8.46008550e-04,  -2.22607640e+01,  -2.14558843e+01,\n",
        "        -5.99692757e+00,  -2.82358149e+02,  -2.78089585e+02,\n",
        "        -2.93835149e+02,  -7.92863077e+02,  -7.86087483e+02,\n",
        "        -7.87941520e+02,  -7.86630111e+02,  -7.88521416e+02,\n",
        "        -1.53124627e+03,  -1.56097961e+03,  -1.54175520e+03])"
       ]
      }
     ],
     "prompt_number": 170
    },
    {
     "cell_type": "heading",
     "level": 3,
     "metadata": {},
     "source": [
      "IRAF import from data reduced by gayandhi"
     ]
    },
    {
     "cell_type": "code",
     "collapsed": false,
     "input": [
      "file0_wl = '/Users/Carlos/Documents/HERMES/reductions/HD1581_iraf/norm/hd1581_0.fits'\n",
      "file1_wl = '/Users/Carlos/Documents/HERMES/reductions/HD1581_iraf/norm/hd1581_1.fits'\n",
      "file2_wl = '/Users/Carlos/Documents/HERMES/reductions/HD1581_iraf/norm/hd1581_2.fits'\n",
      "file4_wl = '/Users/Carlos/Documents/HERMES/reductions/HD1581_iraf/norm/hd1581_4.fits'\n",
      "\n",
      "file0 = '/Users/Carlos/Documents/HERMES/reductions/HD1581_iraf/px/0_20augt.fits'\n",
      "file1 = '/Users/Carlos/Documents/HERMES/reductions/HD1581_iraf/px/1_21augt.fits'\n",
      "file2 = '/Users/Carlos/Documents/HERMES/reductions/HD1581_iraf/px/2_22augt.fits'\n",
      "file3 = '/Users/Carlos/Documents/HERMES/reductions/HD1581_iraf/px/3_24augt.fits'\n",
      "file4 = '/Users/Carlos/Documents/HERMES/reductions/HD1581_iraf/px/4_25augt.fits'\n",
      "\n",
      "a_wl = pf.open(file0_wl)\n",
      "b_wl = pf.open(file1_wl)\n",
      "c_wl = pf.open(file2_wl)\n",
      "e_wl = pf.open(file4_wl)\n",
      "a_flux_wl = np.array(a_wl[0].data.astype(float))\n",
      "b_flux_wl = np.array(b_wl[0].data.astype(float))\n",
      "c_flux_wl = np.array(c_wl[0].data.astype(float))\n",
      "e_flux_wl = np.array(e_wl[0].data.astype(float))\n",
      "\n",
      "a = pf.open(file0)\n",
      "b = pf.open(file1)\n",
      "c = pf.open(file2)\n",
      "d = pf.open(file3)\n",
      "e = pf.open(file4)\n",
      "a_flux = np.array(a[0].data.astype(float))\n",
      "b_flux = np.array(b[0].data.astype(float))\n",
      "c_flux = np.array(c[0].data.astype(float))\n",
      "d_flux = np.array(d[0].data.astype(float))\n",
      "e_flux = np.array(e[0].data.astype(float))\n",
      "# a_lambdas = extract_HERMES_wavelength(file1)\n",
      "# b_lambdas = extract_HERMES_wavelength(file2)\n",
      "\n",
      "RV_iraf = np.ones(5) * np.nan\n",
      "\n",
      "a_flux = a_flux-1\n",
      "b_flux = b_flux-1\n",
      "c_flux = c_flux-1\n",
      "d_flux = d_flux-1\n",
      "e_flux = e_flux-1\n"
     ],
     "language": "python",
     "metadata": {},
     "outputs": [],
     "prompt_number": 719
    },
    {
     "cell_type": "code",
     "collapsed": false,
     "input": [
      "a = pf.open('/Users/Carlos/Documents/HERMES/reductions/HD1581_6.0/0_20aug/1/20aug10053red.fits') \n",
      "\n",
      "CRVAL1 = a[0].header['CRVAL1'] # / Co-ordinate value of axis 1                    \n",
      "CDELT1 = a[0].header['CDELT1'] #  / Co-ordinate increment along axis 1             \n",
      "CRPIX1 = a[0].header['CRPIX1'] #  / Reference pixel along axis 1                   \n",
      "\n",
      "CRVAL1, CDELT1, CRPIX1\n",
      "\n",
      "ms_px = CDELT1/CRVAL1*const.c"
     ],
     "language": "python",
     "metadata": {},
     "outputs": [],
     "prompt_number": 669
    },
    {
     "cell_type": "code",
     "collapsed": false,
     "input": [
      "# # a_flux_c = a_flux[:-145]\n",
      "# # b_flux_c = b_flux[:-145]\n",
      "# __,a_flux_c = fit_continuum(np.arange(a_flux.shape[0]),a_flux)\n",
      "# __,b_flux_c = fit_continuum(np.arange(b_flux.shape[0]),b_flux)\n",
      "# a_flux_c = a_flux_c-1\n",
      "# b_flux_c = b_flux_c-1\n"
     ],
     "language": "python",
     "metadata": {},
     "outputs": [],
     "prompt_number": 670
    },
    {
     "cell_type": "code",
     "collapsed": false,
     "input": [
      "# plt.plot(a_flux, label=os.path.basename(file0) )\n",
      "# plt.plot(b_flux, label=os.path.basename(file1) )\n",
      "# plt.plot(c_flux, label=os.path.basename(file2) )\n",
      "# plt.plot(d_flux, label=os.path.basename(file3) )\n",
      "# plt.plot(e_flux, label=os.path.basename(file4) )\n",
      "plt.plot(a_flux_wl, label=os.path.basename(file0) )\n",
      "plt.plot(b_flux_wl, label=os.path.basename(file1) )\n",
      "plt.plot(c_flux_wl, label=os.path.basename(file2) )\n",
      "# plt.plot(d_flux_wl, label=os.path.basename(file3) )\n",
      "plt.plot(e_flux_wl, label=os.path.basename(file4) )\n",
      "plt.legend(loc=0)\n",
      "plt.show()"
     ],
     "language": "python",
     "metadata": {},
     "outputs": [],
     "prompt_number": 720
    },
    {
     "cell_type": "code",
     "collapsed": false,
     "input": [
      "cc = signal.convolve(a_flux, a_flux[::-1], mode='same')\n",
      "\n",
      "corrMax = np.where(cc==max(cc))[0][0]\n",
      "idx = (np.abs(cc - max(cc)*.9)).argmin()\n",
      "h_range = int(abs(idx - corrMax))\n",
      "h_range = 2\n",
      "\n",
      "p_guess = [corrMax,h_range]\n",
      "x_mask = np.arange(corrMax-h_range, corrMax+h_range+1)\n",
      "p = fit_gaussian(p_guess, cc[x_mask], np.arange(len(cc))[x_mask])[0]\n",
      "\n",
      "print 't0 wrt t0'\n",
      "print p\n",
      "print (cc.shape[0])/2.\n",
      "print p[0]-(cc.shape[0])/2.\n",
      "RV_iraf[0] = (p[0]-(cc.shape[0])/2.)*ms_px\n",
      "print RV_iraf[0], 'm/s'"
     ],
     "language": "python",
     "metadata": {},
     "outputs": [
      {
       "output_type": "stream",
       "stream": "stdout",
       "text": [
        "t0 wrt t0\n",
        "[ 2000.00000012     4.70323877]\n",
        "2000.0\n",
        "1.15726152217e-07\n",
        "0.00032602641343 m/s\n"
       ]
      }
     ],
     "prompt_number": 711
    },
    {
     "cell_type": "code",
     "collapsed": false,
     "input": [
      "cc = signal.convolve(a_flux, b_flux[::-1], mode='same' )\n",
      "\n",
      "corrMax = np.where(cc==max(cc))[0][0]\n",
      "idx = (np.abs(cc - max(cc)*.9)).argmin()\n",
      "h_range = int(abs(idx - corrMax))\n",
      "h_range = 2\n",
      "\n",
      "p_guess = [corrMax,h_range]\n",
      "x_mask = np.arange(corrMax-h_range, corrMax+h_range+1)\n",
      "p = fit_gaussian(p_guess, cc[x_mask], np.arange(len(cc))[x_mask])[0]\n",
      "\n",
      "print 't0 wrt t1'\n",
      "print p\n",
      "print (cc.shape[0])/2.\n",
      "print p[0]-(cc.shape[0])/2.\n",
      "RV_iraf[1] = (p[0]-(cc.shape[0])/2.)*ms_px\n",
      "print RV_iraf[1], 'm/s'"
     ],
     "language": "python",
     "metadata": {},
     "outputs": [
      {
       "output_type": "stream",
       "stream": "stdout",
       "text": [
        "t0 wrt t1\n",
        "[ 1999.900078       4.78290878]\n",
        "2000.0\n",
        "-0.099921995296\n",
        "-281.502574182 m/s\n"
       ]
      }
     ],
     "prompt_number": 712
    },
    {
     "cell_type": "code",
     "collapsed": false,
     "input": [
      "cc = signal.convolve(a_flux, c_flux[::-1], mode='same' )\n",
      "\n",
      "corrMax = np.where(cc==max(cc))[0][0]\n",
      "idx = (np.abs(cc - max(cc)*.9)).argmin()\n",
      "h_range = 2\n",
      "\n",
      "h_range = int(abs(idx - corrMax))\n",
      "p_guess = [corrMax,h_range]\n",
      "x_mask = np.arange(corrMax-h_range, corrMax+h_range+1)\n",
      "p = fit_gaussian(p_guess, cc[x_mask], np.arange(len(cc))[x_mask])[0]\n",
      "\n",
      "print 't0 wrt t2'\n",
      "print p\n",
      "print (cc.shape[0])/2.\n",
      "print p[0]-(cc.shape[0])/2.\n",
      "RV_iraf[2] = (p[0]-(cc.shape[0])/2.)*ms_px\n",
      "print RV_iraf[2], 'm/s'"
     ],
     "language": "python",
     "metadata": {},
     "outputs": [
      {
       "output_type": "stream",
       "stream": "stdout",
       "text": [
        "t0 wrt t2\n",
        "[ 1999.83617879     4.806585  ]\n",
        "2000.0\n",
        "-0.163821209596\n",
        "-461.520930103 m/s\n"
       ]
      }
     ],
     "prompt_number": 713
    },
    {
     "cell_type": "code",
     "collapsed": false,
     "input": [
      "cc = signal.convolve(a_flux, d_flux[::-1], mode='same' )\n",
      "\n",
      "corrMax = np.where(cc==max(cc))[0][0]\n",
      "idx = (np.abs(cc - max(cc)*.9)).argmin()\n",
      "h_range = 2\n",
      "\n",
      "h_range = int(abs(idx - corrMax))\n",
      "p_guess = [corrMax,h_range]\n",
      "x_mask = np.arange(corrMax-h_range, corrMax+h_range+1)\n",
      "p = fit_gaussian(p_guess, cc[x_mask], np.arange(len(cc))[x_mask])[0]\n",
      "\n",
      "print 't0 wrt t2'\n",
      "print p\n",
      "print (cc.shape[0])/2.\n",
      "print p[0]-(cc.shape[0])/2.\n",
      "RV_iraf[3] = (p[0]-(cc.shape[0])/2.)*ms_px\n",
      "print RV_iraf[3], 'm/s'"
     ],
     "language": "python",
     "metadata": {},
     "outputs": [
      {
       "output_type": "stream",
       "stream": "stdout",
       "text": [
        "t0 wrt t2\n",
        "[ 1999.81224785     4.69865952]\n",
        "2000.0\n",
        "-0.187752149154\n",
        "-528.93973082 m/s\n"
       ]
      }
     ],
     "prompt_number": 714
    },
    {
     "cell_type": "code",
     "collapsed": false,
     "input": [
      "plt.plot(a_flux)\n",
      "plt.plot(e_flux)\n",
      "plt.show()"
     ],
     "language": "python",
     "metadata": {},
     "outputs": [],
     "prompt_number": 648
    },
    {
     "cell_type": "code",
     "collapsed": false,
     "input": [
      "cc = signal.convolve(a_flux, e_flux[::-1], mode='same' )\n",
      "# cc = np.convolve(a_flux, e_flux[::-1], mode='same' ) \n",
      "\n",
      "corrMax = np.where(cc==max(cc))[0][0]\n",
      "idx = (np.abs(cc - max(cc)*.9)).argmin()\n",
      "h_range = int(abs(idx - corrMax))\n",
      "h_range = 2\n",
      "\n",
      "p_guess = [corrMax,h_range]\n",
      "x_mask = np.arange(corrMax-h_range, corrMax+h_range+1)\n",
      "p = fit_gaussian(p_guess, cc[x_mask], np.arange(len(cc))[x_mask])[0]\n",
      "\n",
      "print 't0 wrt t4'\n",
      "print p\n",
      "print (cc.shape[0])/2.\n",
      "print p[0]-(cc.shape[0])/2.\n",
      "RV_iraf[4] = (p[0]-(cc.shape[0])/2.)*ms_px\n",
      "print RV_iraf[4], 'm/s'"
     ],
     "language": "python",
     "metadata": {},
     "outputs": [
      {
       "output_type": "stream",
       "stream": "stdout",
       "text": [
        "t0 wrt t4\n",
        "[ 1999.18986598     4.7506494 ]\n",
        "2000.0\n",
        "-0.810134023106\n",
        "-2282.32845292 m/s\n"
       ]
      }
     ],
     "prompt_number": 715
    },
    {
     "cell_type": "heading",
     "level": 3,
     "metadata": {},
     "source": [
      "Plots, sanity checks, results"
     ]
    },
    {
     "cell_type": "code",
     "collapsed": false,
     "input": [
      "colors = ['b','g','r','cyan']\n",
      "cameras = ['Blue', 'Green', 'Red', 'IR']"
     ],
     "language": "python",
     "metadata": {},
     "outputs": [],
     "prompt_number": 172
    },
    {
     "cell_type": "code",
     "collapsed": false,
     "input": [
      "RV_iraf"
     ],
     "language": "python",
     "metadata": {},
     "outputs": [
      {
       "metadata": {},
       "output_type": "pyout",
       "prompt_number": 681,
       "text": [
        "array([  2.18593206e-04,  -1.29390245e+02,  -5.93391730e+02,\n",
        "                    nan,  -1.62857664e+03])"
       ]
      }
     ],
     "prompt_number": 681
    },
    {
     "cell_type": "heading",
     "level": 4,
     "metadata": {},
     "source": [
      "Original Data   HD1581 has obj file index 31"
     ]
    },
    {
     "cell_type": "code",
     "collapsed": false,
     "input": [
      "#creates images for all targets and all cameras from all original fluxes\n",
      "for i in starNames:\n",
      "    filename = i+'.obj'\n",
      "    filehandler = open(filename, 'r')\n",
      "    thisStar = pickle.load(filehandler)\n",
      "    for thisCam, cam in zip(thisStar.exposures.cameras, range(4)):\n",
      "        for x,y,label in zip(thisCam.wavelengths, thisCam.red_fluxes, thisCam.fileNames):\n",
      "            plt.plot(x,y, label= label)\n",
      "        plt.title(thisStar.name)\n",
      "        plt.legend(loc = 1)\n",
      "        plt.savefig('plots/'+i+'_'+str(cam))\n",
      "        plt.close()"
     ],
     "language": "python",
     "metadata": {},
     "outputs": [
      {
       "ename": "IOError",
       "evalue": "[Errno 2] No such file or directory: 'Field14.obj'",
       "output_type": "pyerr",
       "traceback": [
        "\u001b[0;31m---------------------------------------------------------------------------\u001b[0m\n\u001b[0;31mIOError\u001b[0m                                   Traceback (most recent call last)",
        "\u001b[0;32m<ipython-input-276-f812d1584243>\u001b[0m in \u001b[0;36m<module>\u001b[0;34m()\u001b[0m\n\u001b[1;32m      2\u001b[0m \u001b[0;32mfor\u001b[0m \u001b[0mi\u001b[0m \u001b[0;32min\u001b[0m \u001b[0mstarNames\u001b[0m\u001b[0;34m:\u001b[0m\u001b[0;34m\u001b[0m\u001b[0m\n\u001b[1;32m      3\u001b[0m     \u001b[0mfilename\u001b[0m \u001b[0;34m=\u001b[0m \u001b[0mi\u001b[0m\u001b[0;34m+\u001b[0m\u001b[0;34m'.obj'\u001b[0m\u001b[0;34m\u001b[0m\u001b[0m\n\u001b[0;32m----> 4\u001b[0;31m     \u001b[0mfilehandler\u001b[0m \u001b[0;34m=\u001b[0m \u001b[0mopen\u001b[0m\u001b[0;34m(\u001b[0m\u001b[0mfilename\u001b[0m\u001b[0;34m,\u001b[0m \u001b[0;34m'r'\u001b[0m\u001b[0;34m)\u001b[0m\u001b[0;34m\u001b[0m\u001b[0m\n\u001b[0m\u001b[1;32m      5\u001b[0m     \u001b[0mthisStar\u001b[0m \u001b[0;34m=\u001b[0m \u001b[0mpickle\u001b[0m\u001b[0;34m.\u001b[0m\u001b[0mload\u001b[0m\u001b[0;34m(\u001b[0m\u001b[0mfilehandler\u001b[0m\u001b[0;34m)\u001b[0m\u001b[0;34m\u001b[0m\u001b[0m\n\u001b[1;32m      6\u001b[0m     \u001b[0;32mfor\u001b[0m \u001b[0mthisCam\u001b[0m\u001b[0;34m,\u001b[0m \u001b[0mcam\u001b[0m \u001b[0;32min\u001b[0m \u001b[0mzip\u001b[0m\u001b[0;34m(\u001b[0m\u001b[0mthisStar\u001b[0m\u001b[0;34m.\u001b[0m\u001b[0mexposures\u001b[0m\u001b[0;34m.\u001b[0m\u001b[0mcameras\u001b[0m\u001b[0;34m,\u001b[0m \u001b[0mrange\u001b[0m\u001b[0;34m(\u001b[0m\u001b[0;36m4\u001b[0m\u001b[0;34m)\u001b[0m\u001b[0;34m)\u001b[0m\u001b[0;34m:\u001b[0m\u001b[0;34m\u001b[0m\u001b[0m\n",
        "\u001b[0;31mIOError\u001b[0m: [Errno 2] No such file or directory: 'Field14.obj'"
       ]
      }
     ],
     "prompt_number": 276
    },
    {
     "cell_type": "heading",
     "level": 4,
     "metadata": {},
     "source": [
      "Reduced Data\n",
      "HD1581 has starname index 15"
     ]
    },
    {
     "cell_type": "code",
     "collapsed": false,
     "input": [
      "filename = 'red_'+starNames[15]+'.obj'\n",
      "filehandler = open(filename, 'r')\n",
      "thisStar = pickle.load(filehandler)\n",
      "thisCam=thisStar.exposures.cameras[0]"
     ],
     "language": "python",
     "metadata": {},
     "outputs": [],
     "prompt_number": 721
    },
    {
     "cell_type": "code",
     "collapsed": false,
     "input": [
      "thisCam=thisStar.exposures.cameras[2]"
     ],
     "language": "python",
     "metadata": {},
     "outputs": [],
     "prompt_number": 181
    },
    {
     "cell_type": "code",
     "collapsed": false,
     "input": [
      "#all red fluxes for the active camera\n",
      "for x,y,label in zip(thisCam.wavelengths, thisCam.red_fluxes, thisCam.fileNames):\n",
      "    plt.plot(x,y, label= label)\n",
      "plt.title(thisStar.name)\n",
      "plt.legend(loc = 0)\n",
      "plt.show()"
     ],
     "language": "python",
     "metadata": {},
     "outputs": [],
     "prompt_number": 164
    },
    {
     "cell_type": "code",
     "collapsed": false,
     "input": [
      "#all clean fluxes for the active camera\n",
      "for x,y,label in zip(thisCam.clean_wavelengths[::3], thisCam.clean_fluxes[::3], thisCam.fileNames[::3]):\n",
      "    plt.plot(x,y, label= label)\n",
      "plt.title(thisStar.name)\n",
      "plt.legend(loc = 0)\n",
      "plt.show()"
     ],
     "language": "python",
     "metadata": {},
     "outputs": [],
     "prompt_number": 723
    },
    {
     "cell_type": "code",
     "collapsed": false,
     "input": [
      "#all RVs from current camera for a single target - bary corrected. \n",
      "\n",
      "plt.scatter(thisStar.exposures.JDs, (thisCam.RVs + thisStar.exposures.rel_baryVels), c=colors[0])\n",
      "# plt.scatter(thisStar.exposures.JDs[[0,1,4,7,-1]], RV_iraf + thisStar.exposures.rel_baryVels[[0,1,4,7,-1]], c=colors[2])\n",
      "# plt.plot(thisStar.exposures.JDs, - thisStar.exposures.rel_baryVels)\n",
      "plt.title('HD1581 - RV wrt t0 - Blue Camera')\n",
      "plt.ylabel('RV [m/s]')\n",
      "plt.xlabel('JD')\n",
      "# plt.legend(loc = 0)\n",
      "plt.show()"
     ],
     "language": "python",
     "metadata": {},
     "outputs": [],
     "prompt_number": 182
    },
    {
     "cell_type": "code",
     "collapsed": false,
     "input": [
      "#all RVs from all cameras for a single target\n",
      "for thisCam,i in zip(thisStar.exposures.cameras, range(thisStar.exposures.cameras.shape[0])):\n",
      "    plt.scatter(thisStar.exposures.JDs, thisCam.RVs, c=c[i])\n",
      "plt.title('HD1581 - RV from median')\n",
      "plt.ylabel('RV [m/s]')\n",
      "plt.xlabel('JD')\n",
      "# plt.legend(loc = 0)\n",
      "plt.show()"
     ],
     "language": "python",
     "metadata": {},
     "outputs": [
      {
       "ename": "NameError",
       "evalue": "name 'c' is not defined",
       "output_type": "pyerr",
       "traceback": [
        "\u001b[0;31m---------------------------------------------------------------------------\u001b[0m\n\u001b[0;31mNameError\u001b[0m                                 Traceback (most recent call last)",
        "\u001b[0;32m<ipython-input-173-84192efc67ee>\u001b[0m in \u001b[0;36m<module>\u001b[0;34m()\u001b[0m\n\u001b[1;32m      1\u001b[0m \u001b[0;31m#all RVs from all cameras for a single target\u001b[0m\u001b[0;34m\u001b[0m\u001b[0;34m\u001b[0m\u001b[0m\n\u001b[1;32m      2\u001b[0m \u001b[0;32mfor\u001b[0m \u001b[0mthisCam\u001b[0m\u001b[0;34m,\u001b[0m\u001b[0mi\u001b[0m \u001b[0;32min\u001b[0m \u001b[0mzip\u001b[0m\u001b[0;34m(\u001b[0m\u001b[0mthisStar\u001b[0m\u001b[0;34m.\u001b[0m\u001b[0mexposures\u001b[0m\u001b[0;34m.\u001b[0m\u001b[0mcameras\u001b[0m\u001b[0;34m,\u001b[0m \u001b[0mrange\u001b[0m\u001b[0;34m(\u001b[0m\u001b[0mthisStar\u001b[0m\u001b[0;34m.\u001b[0m\u001b[0mexposures\u001b[0m\u001b[0;34m.\u001b[0m\u001b[0mcameras\u001b[0m\u001b[0;34m.\u001b[0m\u001b[0mshape\u001b[0m\u001b[0;34m[\u001b[0m\u001b[0;36m0\u001b[0m\u001b[0;34m]\u001b[0m\u001b[0;34m)\u001b[0m\u001b[0;34m)\u001b[0m\u001b[0;34m:\u001b[0m\u001b[0;34m\u001b[0m\u001b[0m\n\u001b[0;32m----> 3\u001b[0;31m     \u001b[0mplt\u001b[0m\u001b[0;34m.\u001b[0m\u001b[0mscatter\u001b[0m\u001b[0;34m(\u001b[0m\u001b[0mthisStar\u001b[0m\u001b[0;34m.\u001b[0m\u001b[0mexposures\u001b[0m\u001b[0;34m.\u001b[0m\u001b[0mJDs\u001b[0m\u001b[0;34m,\u001b[0m \u001b[0mthisCam\u001b[0m\u001b[0;34m.\u001b[0m\u001b[0mRVs\u001b[0m\u001b[0;34m,\u001b[0m \u001b[0mc\u001b[0m\u001b[0;34m=\u001b[0m\u001b[0mc\u001b[0m\u001b[0;34m[\u001b[0m\u001b[0mi\u001b[0m\u001b[0;34m]\u001b[0m\u001b[0;34m)\u001b[0m\u001b[0;34m\u001b[0m\u001b[0m\n\u001b[0m\u001b[1;32m      4\u001b[0m \u001b[0mplt\u001b[0m\u001b[0;34m.\u001b[0m\u001b[0mtitle\u001b[0m\u001b[0;34m(\u001b[0m\u001b[0;34m'HD1581 - RV from median'\u001b[0m\u001b[0;34m)\u001b[0m\u001b[0;34m\u001b[0m\u001b[0m\n\u001b[1;32m      5\u001b[0m \u001b[0mplt\u001b[0m\u001b[0;34m.\u001b[0m\u001b[0mylabel\u001b[0m\u001b[0;34m(\u001b[0m\u001b[0;34m'RV [m/s]'\u001b[0m\u001b[0;34m)\u001b[0m\u001b[0;34m\u001b[0m\u001b[0m\n",
        "\u001b[0;31mNameError\u001b[0m: name 'c' is not defined"
       ]
      }
     ],
     "prompt_number": 173
    },
    {
     "cell_type": "code",
     "collapsed": false,
     "input": [
      "#all RVs from all cameras for a single target\n",
      "for thisCam,i in zip(thisStar.exposures.cameras, range(thisStar.exposures.cameras.shape[0])):\n",
      "    plt.scatter(thisStar.exposures.JDs, thisCam.DDRVs, c=c[i])\n",
      "plt.title('HD1581 - DDRV from median')\n",
      "plt.ylabel('RV [m/s]')\n",
      "plt.xlabel('JD')\n",
      "# plt.legend(loc = 0)\n",
      "plt.show()"
     ],
     "language": "python",
     "metadata": {},
     "outputs": [],
     "prompt_number": 50
    },
    {
     "cell_type": "heading",
     "level": 4,
     "metadata": {},
     "source": [
      "final data"
     ]
    },
    {
     "cell_type": "code",
     "collapsed": false,
     "input": [
      "for name,i in zip(data[:,0], range(len(data))):\n",
      "    print i,name\n"
     ],
     "language": "python",
     "metadata": {},
     "outputs": [
      {
       "output_type": "stream",
       "stream": "stdout",
       "text": [
        "0 Field01\n",
        "1 Field02\n",
        "2 Field03\n",
        "3 Field04\n",
        "4 Field05\n",
        "5 Field07\n",
        "6 Field08\n",
        "7 Field09\n",
        "8 Field10\n",
        "9 Field11\n",
        "10 Field13\n",
        "11 Field14\n",
        "12 Field15\n",
        "13 Field17\n",
        "14 Field18\n",
        "15 Field19\n",
        "16 Field20\n",
        "17 Field21\n",
        "18 Field22\n",
        "19 Field23\n",
        "20 Field24\n",
        "21 Field25\n",
        "22 Field26\n",
        "23 Field27\n",
        "24 Field28\n",
        "25 Field29\n",
        "26 Field30\n",
        "27 Field31\n",
        "28 Field32\n",
        "29 Field33\n",
        "30 Field34\n",
        "31 Giant01\n",
        "32 Giant02\n",
        "33 Giant03\n",
        "34 Giant04\n",
        "35 Giant05\n",
        "36 Giant06\n",
        "37 Giant07\n",
        "38 Giant08\n",
        "39 Giant09\n",
        "40 Giant10\n",
        "41 Giant11\n",
        "42 Giant12\n"
       ]
      }
     ],
     "prompt_number": 143
    },
    {
     "cell_type": "code",
     "collapsed": false,
     "input": [
      "# all RVs for all camera for a single target\n",
      "thisTarget = 31 #HD1581\n",
      "for i in range(4):\n",
      "    plt.scatter(JDs, RVs[31,:,i], c = c[i])\n",
      "plt.show()"
     ],
     "language": "python",
     "metadata": {},
     "outputs": [],
     "prompt_number": 148
    },
    {
     "cell_type": "code",
     "collapsed": false,
     "input": [
      "# all DDRVs for all camera for a single target\n",
      "thisTarget = 31 #HD1581\n",
      "for i in range(4):\n",
      "    plt.scatter(JDs, DDRVs[31,:,i], c = c[i])\n",
      "plt.show()"
     ],
     "language": "python",
     "metadata": {},
     "outputs": [],
     "prompt_number": 149
    },
    {
     "cell_type": "code",
     "collapsed": false,
     "input": [
      "DDRVs"
     ],
     "language": "python",
     "metadata": {},
     "outputs": [
      {
       "ename": "NameError",
       "evalue": "name 'DDRVs' is not defined",
       "output_type": "pyerr",
       "traceback": [
        "\u001b[0;31m---------------------------------------------------------------------------\u001b[0m\n\u001b[0;31mNameError\u001b[0m                                 Traceback (most recent call last)",
        "\u001b[0;32m<ipython-input-38-0c3aba1199e3>\u001b[0m in \u001b[0;36m<module>\u001b[0;34m()\u001b[0m\n\u001b[0;32m----> 1\u001b[0;31m \u001b[0mDDRVs\u001b[0m\u001b[0;34m\u001b[0m\u001b[0m\n\u001b[0m",
        "\u001b[0;31mNameError\u001b[0m: name 'DDRVs' is not defined"
       ]
      }
     ],
     "prompt_number": 38
    },
    {
     "cell_type": "heading",
     "level": 1,
     "metadata": {},
     "source": [
      "Random stuff...."
     ]
    },
    {
     "cell_type": "code",
     "collapsed": false,
     "input": [
      "myTarget=36"
     ],
     "language": "python",
     "metadata": {},
     "outputs": [],
     "prompt_number": 37
    },
    {
     "cell_type": "code",
     "collapsed": false,
     "input": [
      "deltay = p2y[data[:,2].astype(int)] - p2y[data[myTarget,2].astype(int)]\n",
      "mask = np.zeros(RVs.shape[0]).astype(bool)\n",
      "mask[myTarget] = True\n",
      "deltay_mx = np.ma.masked_array(deltay, mask=mask)\n",
      "\n",
      "#create RV mask to exclude target and stars with RV>3000m/s\\\n",
      "mask = np.zeros(RVs.shape).astype(bool)\n",
      "RVs_mx = np.ma.masked_array(RVs, mask=mask)\n",
      "sigmas_mx = np.ma.masked_array(sigmas, mask=mask)\n",
      "sigmas_mx.mask[myTarget,:,:] = True\n",
      "# print calibrator_weights(deltay_mx.compressed(), sigmas_mx[:,0,cam].compressed()).shape\n",
      "a = calibrator_weights(deltay_mx, sigmas_mx[:,0,cam])\n",
      "a = np.insert(a, myTarget, 0)\n",
      "plt.plot( a)\n",
      "plt.show()"
     ],
     "language": "python",
     "metadata": {},
     "outputs": [],
     "prompt_number": 38
    },
    {
     "cell_type": "code",
     "collapsed": false,
     "input": [
      "fRVs,__ = optimize.curve_fit(quad, quadX, quadY, p0 = [-0.001,-0.001,quadY[np.where(deltay==np.min(np.abs(deltay)))[0][0]]], )\n",
      "plt.scatter( quadX, quadY)\n",
      "smoothX = np.linspace(np.min(quadX), np.max(quadX))\n",
      "fittedCurve = quad(quadX, fRVs[0], fRVs[1], fRVs[2])\n",
      "plt.plot(quadX,fittedCurve)\n",
      "plt.scatter(quadX,quadY*fittedCurve, c='r')\n",
      "plt.show()\n",
      "print 'params',fRVs"
     ],
     "language": "python",
     "metadata": {},
     "outputs": [
      {
       "output_type": "stream",
       "stream": "stdout",
       "text": [
        "params [ -8.15463069e-03  -1.00000000e-03   6.30133893e+02]\n"
       ]
      }
     ],
     "prompt_number": 39
    },
    {
     "cell_type": "code",
     "collapsed": false,
     "input": [
      "plt.scatter(JDs,quadRVs[30,:,0], c='r', label = 'stable star (observed)')\n",
      "plt.scatter(JDs,quadRVs[36,:,1], c='g', label = 'HD285507 (observed)')\n",
      "start_day = 2456889.500000 # The Julian date for CE  2014 August 20 00:00:00.0 UT  (10am australia)\n",
      "end_day = 2456895.500000 #The Julian date for CE  2014 August 26 00:00:00.0 UT (10am australia)\n",
      "\n",
      "days = np.linspace(start_day, end_day)  - 2400000\n",
      "\n",
      "P = 6.0881\n",
      "peri_arg = 182\n",
      "peri_time = 2456257.5- 2400000\n",
      "K1 =125.8\n",
      "RV = K1* np.sin((days-peri_time)/P*2*np.pi + peri_arg/360*2*np.pi )\n",
      "plt.plot(days, RV, linewidth = 1, label = 'HD285507' )\n",
      "plt.legend(loc=0)\n",
      "plt.xlabel('JD')\n",
      "plt.ylabel('RV [m/s]')\n",
      "plt.show()"
     ],
     "language": "python",
     "metadata": {},
     "outputs": [],
     "prompt_number": 77
    },
    {
     "cell_type": "code",
     "collapsed": false,
     "input": [
      "# for i in range(quadRVs.shape[0]):\n",
      "print np.min((np.nansum(np.abs(quadRVs[:,:,:-1]), axis=1)/4))\n",
      "print (np.nansum(np.abs(quadRVs), axis=1)/4)\n",
      "\n"
     ],
     "language": "python",
     "metadata": {},
     "outputs": [
      {
       "output_type": "stream",
       "stream": "stdout",
       "text": [
        "78.9365375764\n",
        "[[  3.40822463e+02   4.92898438e+02   5.27633022e+02   0.00000000e+00]\n",
        " [  1.61248472e+02   4.06700432e+02   5.84645411e+02   0.00000000e+00]\n",
        " [  3.18638463e+02   3.52789686e+02   7.29017283e+02   0.00000000e+00]\n",
        " [  2.67465023e+02   5.09751121e+02   4.93546426e+02   0.00000000e+00]\n",
        " [  8.95616503e+02   3.34103174e+02   8.12800534e+02   0.00000000e+00]\n",
        " [  2.42572857e+04   2.48488238e+04   1.97871219e+04   0.00000000e+00]\n",
        " [  6.28282772e+02   2.31066002e+02   3.48280244e+02   0.00000000e+00]\n",
        " [  1.17513406e+02   6.51230537e+02   6.20282149e+02   0.00000000e+00]\n",
        " [  1.18185228e+03   9.27691882e+02   7.88626072e+02   0.00000000e+00]\n",
        " [  1.38876732e+02   2.98734223e+02   8.16708533e+02   0.00000000e+00]\n",
        " [  3.56558094e+02   7.62942875e+02   6.38007665e+02   0.00000000e+00]\n",
        " [  3.46521069e+02   8.84596392e+02   5.70072956e+02   0.00000000e+00]\n",
        " [  5.01813099e+02   4.39216310e+02   6.63070084e+02   0.00000000e+00]\n",
        " [  6.38273354e+02   4.29262527e+02   1.22130098e+03   0.00000000e+00]\n",
        " [  2.49207391e+02   6.90210424e+02   6.26396429e+02   0.00000000e+00]\n",
        " [  1.78440634e+02   2.50118289e+02   5.74276047e+02   0.00000000e+00]\n",
        " [  4.56647434e+02   4.76959693e+02   7.79779808e+02   0.00000000e+00]\n",
        " [  3.31436966e+02   5.25947989e+02   5.99834169e+02   0.00000000e+00]\n",
        " [  7.42427575e+02   7.72278877e+02   5.78478829e+02   0.00000000e+00]\n",
        " [  1.64176320e+02   5.60120729e+02   2.35595197e+02   0.00000000e+00]\n",
        " [  5.02933623e+02   4.41051054e+02   5.84257654e+02   0.00000000e+00]\n",
        " [  8.55479906e+05   1.08920937e+03   8.75993144e+02   0.00000000e+00]\n",
        " [  3.29637988e+02   2.85951674e+02   5.26214860e+02   0.00000000e+00]\n",
        " [  2.52767163e+02   5.93114807e+02   7.25592125e+02   0.00000000e+00]\n",
        " [  7.84393998e+02   6.62867938e+02   5.79942777e+02   0.00000000e+00]\n",
        " [  7.27875894e+02   3.54759149e+02   6.53216800e+02   0.00000000e+00]\n",
        " [  2.20958660e+03   4.30116834e+03   3.20412818e+02   0.00000000e+00]\n",
        " [  4.13695048e+02   7.72917959e+02   9.25798335e+02   0.00000000e+00]\n",
        " [  3.46966323e+02   2.88493498e+02   4.30903970e+02   0.00000000e+00]\n",
        " [  3.06678756e+02   7.31551687e+02   2.67897134e+03   0.00000000e+00]\n",
        " [  7.89365376e+01   7.75100080e+02   3.91652707e+02   0.00000000e+00]\n",
        " [  7.53051455e+02   2.65850161e+02   4.52148558e+02   0.00000000e+00]\n",
        " [  3.67000759e+02   3.74588888e+02   4.55753579e+02   0.00000000e+00]\n",
        " [  4.62661765e+02   3.65775004e+02   7.50317359e+02   0.00000000e+00]\n",
        " [  4.49980203e+02   9.77575183e+02   1.67124600e+03   0.00000000e+00]\n",
        " [  2.34706691e+02   6.83760694e+02   7.45319068e+02   0.00000000e+00]\n",
        " [  2.34833189e+02   4.94799609e+02   1.24625572e+03   0.00000000e+00]\n",
        " [  5.18093774e+02   4.05342519e+02   5.58128213e+02   0.00000000e+00]\n",
        " [  8.64659810e+02   7.49791345e+02   5.49224639e+02   0.00000000e+00]\n",
        " [  1.01718865e+02   4.34966246e+02   5.72643560e+02   0.00000000e+00]\n",
        " [  1.39859468e+02   9.81751449e+02   7.15696697e+02   0.00000000e+00]\n",
        " [  2.67424627e+02   4.37220860e+02   9.90462870e+02   0.00000000e+00]\n",
        " [  2.34074925e+02   3.02573205e+02   7.22833268e+02   0.00000000e+00]\n",
        " [  2.94853086e+02   2.63501239e+02   4.91140850e+02   0.00000000e+00]\n",
        " [  4.17760201e+02   4.35193615e+02   5.92016847e+02   0.00000000e+00]\n",
        " [  3.33593387e+02   4.11161165e+02   7.56158134e+02   0.00000000e+00]\n",
        " [  1.59441394e+02   1.83186971e+02   7.36465455e+02   0.00000000e+00]\n",
        " [  3.31297242e+02   6.45950790e+02   6.81289246e+02   0.00000000e+00]\n",
        " [  6.46758870e+05   1.72183254e+06   2.42839350e+04   0.00000000e+00]\n",
        " [  2.01199660e+02   3.53540221e+02   3.84753889e+02   0.00000000e+00]\n",
        " [  2.30175980e+02   4.09328791e+02   6.83215957e+02   0.00000000e+00]\n",
        " [  2.72605920e+02   3.64240054e+02   5.18431756e+02   0.00000000e+00]\n",
        " [  6.15155692e+02   3.10480845e+02   7.95482539e+02   0.00000000e+00]\n",
        " [  5.19730305e+02   4.98826331e+02   5.40314811e+02   0.00000000e+00]\n",
        " [  5.68914920e+02   5.62071089e+02   6.58450579e+02   0.00000000e+00]\n",
        " [  1.77101406e+02   5.33900467e+02   6.89885095e+02   0.00000000e+00]\n",
        " [  4.65611065e+02   5.02669318e+02   6.16822726e+02   0.00000000e+00]\n",
        " [  3.31748600e+02   1.26092921e+02   4.24489319e+02   0.00000000e+00]\n",
        " [  3.85867513e+02   5.43890068e+02   4.76236818e+02   0.00000000e+00]\n",
        " [  4.53636052e+02   4.27487274e+02   3.72049764e+02   0.00000000e+00]\n",
        " [  3.77552451e+02   6.44515988e+02   5.05144432e+02   0.00000000e+00]\n",
        " [  3.81652003e+02   4.44793424e+02   5.78409390e+02   0.00000000e+00]\n",
        " [  5.49871499e+02   2.51467935e+02   3.89908513e+02   0.00000000e+00]\n",
        " [  2.23842351e+02   4.19864105e+02   6.81957882e+02   0.00000000e+00]\n",
        " [  4.71718603e+02   5.05868609e+02   5.08120943e+02   0.00000000e+00]\n",
        " [  1.34905483e+02   4.85191874e+02   6.62582672e+02   0.00000000e+00]\n",
        " [  4.34538394e+02   2.41118570e+02   4.66671587e+02   0.00000000e+00]\n",
        " [  3.24929060e+02   7.22225082e+02   6.64626904e+02   0.00000000e+00]\n",
        " [  1.42784647e+02   6.35606881e+02   9.28181879e+02   0.00000000e+00]\n",
        " [  1.68662135e+02   5.59272233e+02   5.35720263e+02   0.00000000e+00]\n",
        " [  1.85844670e+03   1.63511247e+03   1.80306859e+03   0.00000000e+00]\n",
        " [  5.37783082e+02   7.28384293e+02   5.94866505e+02   0.00000000e+00]]\n"
       ]
      }
     ],
     "prompt_number": 76
    },
    {
     "cell_type": "code",
     "collapsed": false,
     "input": [
      "plt.plot(sigmas.flatten())\n",
      "plt.show()"
     ],
     "language": "python",
     "metadata": {},
     "outputs": [],
     "prompt_number": 77
    },
    {
     "cell_type": "heading",
     "level": 2,
     "metadata": {},
     "source": [
      "Plots"
     ]
    },
    {
     "cell_type": "code",
     "collapsed": false,
     "input": [
      "def plot_all_spec_cams(thisStar):    #All spectra for all cameras\n",
      "    \n",
      "    fig, ax = plt.subplots(2,2, sharey='all')\n",
      "    \n",
      "    # ax.set_yticks(thisStar.exposures.JDs)\n",
      "    # ax.set_ylim(np.min(thisStar.exposures.JDs)-1,np.min(thisStar.exposures.JDs)+1)\n",
      "    for cam in range(4):\n",
      "        thisCam = thisStar.exposures.cameras[cam]\n",
      "        fileNames =  thisCam.fileNames\n",
      "        nFluxes = thisCam.wavelengths.shape[0]\n",
      "        ax[0,0].set_yticks(np.arange(0,nFluxes))\n",
      "        ax[0,0].set_ylim(-1,nFluxes)\n",
      "    \n",
      "        for i in np.arange(nFluxes):\n",
      "            d, f = thisCam.clean_wavelengths[i], thisCam.clean_fluxes[i]\n",
      "            if cam ==0:\n",
      "                ax[0,0].plot(d, f+i, 'b')\n",
      "            elif cam==1:\n",
      "                ax[0,1].plot(d, f+i, 'g')\n",
      "            elif cam==2:\n",
      "                ax[1,0].plot(d, f+i, 'r')\n",
      "            elif cam==3:\n",
      "                ax[1,1].plot(d, f+i, 'cyan')\n",
      "        #         ax.plot(d, f+thisStar.exposures.JDs[i], 'k')\n",
      "    \n",
      "    plt.xlabel('Wavelength [Ang]')\n",
      "    plt.title(thisStar.name+' - Camera '+str(cam+1))\n",
      "    ax[0,0].set_yticklabels(fileNames)\n",
      "    plt.show()\n"
     ],
     "language": "python",
     "metadata": {},
     "outputs": [],
     "prompt_number": 162
    },
    {
     "cell_type": "code",
     "collapsed": false,
     "input": [
      "RVs1 = np.load('RVs1.npy') \n",
      "RVs2 = np.load('RVs2.npy') \n",
      "RVs3 = np.load('RVs3.npy') \n",
      "RVs4 = np.load('RVs4.npy') \n",
      "JDs = np.load('JDs.npy') "
     ],
     "language": "python",
     "metadata": {},
     "outputs": [],
     "prompt_number": 66
    },
    {
     "cell_type": "code",
     "collapsed": false,
     "input": [
      "#Plots RVs, baryvels for all 4 cameras\n",
      "plt.title('Average of all decorrelated targets')\n",
      "mask = np.abs(quadRVs)<3000\n",
      "quadRVs[-mask]=np.nan\n",
      "# for i in range(RVs.shape[0]):\n",
      "    # plt.plot(thisStar.exposures.JDs, thisStar.exposures.rel_baryVels, label = 'Barycentric Vel. ')\n",
      "try:\n",
      "#         plt.scatter(JDs, stableRVs[i,:,0], label = 'Blue', color ='b' )\n",
      "#     plt.scatter(JDs, np.median(quadRVs[:,:,0],axis=0), label = 'Blue', color ='b' )\n",
      "    plt.errorbar(JDs, np.nanmean(quadRVs[:,:,0],axis=0), yerr=np.nanstd(quadRVs[:,:,0],axis=0), label = 'Blue', color ='b' )\n",
      "#     plt.errorbar(JDs, np.nanmean(RVs[:,:,0],axis=0), yerr=np.nanstd(RVs[:,:,0],axis=0), label = 'Blue', color ='b' )\n",
      "    pass\n",
      "except:pass\n",
      "try:\n",
      "#     plt.scatter(JDs, stableRVs[i,:,1], label = 'Green', color ='g' )\n",
      "#     plt.scatter(JDs, np.median(quadRVs[:,:,1],axis=0), label = 'Green', color ='g' )\n",
      "    plt.errorbar(JDs, np.nanmean(quadRVs[:,:,1],axis=0), yerr=np.nanstd(quadRVs[:,:,1],axis=0), label = 'Green', color ='g' )\n",
      "#     plt.errorbar(JDs, np.nanmean(RVs[:,:,1],axis=0), yerr=np.nanstd(RVs[:,:,1],axis=0), label = 'Green', color ='g' )\n",
      "    pass\n",
      "except:pass\n",
      "try:\n",
      "#     plt.scatter(JDs, stableRVs[i,:,2], label = 'Red', color ='r' )\n",
      "#     plt.scatter(JDs, np.median(quadRVs[:,:,2],axis=0), label = 'Red', color ='r' )\n",
      "    plt.errorbar(JDs, np.nanmean(quadRVs[:,:,2],axis=0), yerr=np.nanstd(quadRVs[:,:,2],axis=0), label = 'Red', color ='r' )\n",
      "#     plt.errorbar(JDs, np.nanmean(RVs[:,:,2],axis=0), yerr=np.nanstd(RVs[:,:,2],axis=0), label = 'Red', color ='r' )\n",
      "    pass\n",
      "except:pass\n",
      "try:\n",
      "#     plt.scatter(JDs, stableRVs[i,:,3], label = 'IR', color ='cyan' )\n",
      "#     plt.scatter(JDs, np.median(stableRVs[:,:,3],axis=0), label = 'IR', color ='cyan' )\n",
      "    plt.errorbar(JDs, np.nanmean(quadRVs[:,:,3],axis=0), yerr=np.nanstd(quadRVs[:,:,3],axis=0), label = 'IR', color ='cyan' )\n",
      "    pass\n",
      "except:pass\n",
      "\n",
      "# start_day = 56889.000000 # The Julian date for CE  2014 August 20 00:00:00.0 UT  (10am australia)\n",
      "# end_day = 56895.000000 #The Julian date for CE  2014 August 26 00:00:00.0 UT (10am australia)\n",
      "\n",
      "# days = np.linspace(start_day, end_day) \n",
      "\n",
      "# K1=26100\n",
      "# peri_time = 19298.85\n",
      "# P=4.8202\n",
      "# peri_arg=269.3\n",
      "# RV = K1* np.sin( (days-peri_time)/P*2*np.pi - peri_arg/360*2*np.pi )\n",
      "# plt.plot(days, RV, linewidth = 1, label = 'rhoTuc' )\n",
      "\n",
      "plt.xlabel('JD')\n",
      "plt.ylabel('RV [m/s]')\n",
      "plt.legend(loc=0)\n",
      "plt.show()"
     ],
     "language": "python",
     "metadata": {},
     "outputs": [],
     "prompt_number": 78
    },
    {
     "cell_type": "code",
     "collapsed": false,
     "input": [
      "mask = np.abs(quadRVs)<3000\n",
      "plt.plot(quadRVs[mask].flatten())\n",
      "plt.show()"
     ],
     "language": "python",
     "metadata": {},
     "outputs": [],
     "prompt_number": 331
    },
    {
     "cell_type": "code",
     "collapsed": false,
     "input": [
      "# np.save('RVs1',RVs1) \n",
      "# np.save('RVs2',RVs2) \n",
      "# np.save('RVs3',RVs3) \n",
      "# np.save('RVs4',RVs4) \n",
      "# np.save('JDs',JDs) "
     ],
     "language": "python",
     "metadata": {},
     "outputs": [],
     "prompt_number": 128
    },
    {
     "cell_type": "code",
     "collapsed": false,
     "input": [
      "#Plots RVs, baryvels. Single star, 4 cameras\n",
      "plt.title(filehandler.name[:-4])\n",
      "# plt.plot(thisStar.exposures.JDs, thisStar.exposures.rel_baryVels, label = 'Barycentric Vel. ')\n",
      "\n",
      "thisCam = thisStar.exposures.cameras[0]\n",
      "# RVMask = thisStar.exposures.my_data_mask\n",
      "# RVMask = ((thisStar.exposures.my_data_mask) & (np.abs(thisCam.RVs)<50000))\n",
      "RVMask = thisCam.safe_flag\n",
      "plt.scatter(thisStar.exposures.JDs[RVMask], thisCam.DDRVs[RVMask], label = 'Blue', color ='b' )\n",
      "# plt.errorbar(thisStar.exposures.JDs[RVMask], thisCam.DDRVs[RVMask], yerr=thisCam.sigmas[RVMask],fmt='.', label = 'Blue', color ='b' )\n",
      "\n",
      "thisCam = thisStar.exposures.cameras[1]\n",
      "# RVMask = thisStar.exposures.my_data_mask\n",
      "# RVMask = np.abs(thisCam.RVs)<1e6\n",
      "RVMask = thisCam.safe_flag\n",
      "plt.scatter(thisStar.exposures.JDs[RVMask], thisCam.DDRVs[RVMask], label = 'Green' , color ='g')\n",
      "# plt.errorbar(thisStar.exposures.JDs[RVMask], thisCam.RVs[RVMask], yerr=thisCam.sigmas[RVMask],fmt='.', label = 'Green' , color ='g')\n",
      "\n",
      "thisCam = thisStar.exposures.cameras[2]\n",
      "# RVMask = thisStar.exposures.my_data_mask\n",
      "# RVMask = np.abs(thisCam.RVs)<2e5\n",
      "RVMask = thisCam.safe_flag\n",
      "plt.scatter(thisStar.exposures.JDs[RVMask], thisCam.DDRVs[RVMask], label = 'Red' , color ='r')\n",
      "# plt.errorbar(thisStar.exposures.JDs[RVMask], thisCam.RVs[RVMask], yerr=thisCam.sigmas[RVMask],fmt='.', label = 'Red' , color ='r')\n",
      "\n",
      "thisCam = thisStar.exposures.cameras[3]\n",
      "# RVMask = thisStar.exposures.my_data_mask\n",
      "# RVMask = ((thisStar.exposures.my_data_mask) & (np.abs(thisCam.RVs)<20000))\n",
      "RVMask = thisCam.safe_flag\n",
      "plt.scatter(thisStar.exposures.JDs[RVMask], thisCam.DDRVs[RVMask], label = 'IR', color ='cyan' )\n",
      "# plt.errorbar(thisStar.exposures.JDs[RVMask], thisCam.RVs[RVMask], yerr=thisCam.sigmas[RVMask],fmt='.', label = 'IR', color ='cyan' )\n",
      "\n",
      "# start_day = 56889.000000 # The Julian date for CE  2014 August 20 00:00:00.0 UT  (10am australia)\n",
      "# end_day = 56895.000000 #The Julian date for CE  2014 August 26 00:00:00.0 UT (10am australia)\n",
      "\n",
      "# days = np.linspace(start_day, end_day) \n",
      "\n",
      "# K1=26100\n",
      "# peri_time = 19298.85\n",
      "# P=4.8202\n",
      "# peri_arg=269.3\n",
      "# RV = K1* np.sin( (days-peri_time)/P*2*np.pi - peri_arg/360*2*np.pi )\n",
      "# plt.plot(days, RV, linewidth = 1, label = 'rhoTuc' )\n",
      "\n",
      "plt.xlabel('JD')\n",
      "plt.ylabel('RV [m/s]')\n",
      "plt.legend(loc=3)\n",
      "plt.show()"
     ],
     "language": "python",
     "metadata": {},
     "outputs": [],
     "prompt_number": 69
    },
    {
     "cell_type": "code",
     "collapsed": false,
     "input": [
      "thisCam = thisStar.exposures.cameras[0]\n",
      "# for i in range(5):\n",
      "print thisCam.Ps\n",
      "print (thisCam.Ps[0,0]-thisCam.clean_wavelengths[0].shape[0]/2)\n",
      "print (-20480)*3000"
     ],
     "language": "python",
     "metadata": {},
     "outputs": [
      {
       "output_type": "stream",
       "stream": "stdout",
       "text": [
        "[[ 20480.00000041     31.22024091]\n",
        " [ 20479.18647047     33.74691434]\n",
        " [ 20479.5291172      33.19166508]\n",
        " [ 20479.33101668     32.03804502]\n",
        " [ 20500.34874949     42.66071609]]\n",
        "1.24415601022\n",
        "-61440000\n"
       ]
      }
     ],
     "prompt_number": 78
    },
    {
     "cell_type": "code",
     "collapsed": false,
     "input": [
      "#plots all data\n",
      "thisCam = thisStar.exposures.cameras[2]\n",
      "for i in [3]:\n",
      "    \n",
      "    fig = plt.gcf()\n",
      "    fig.suptitle(filehandler.name[:-4]+' - t0 vs t'+str(i)+' - RV='+str(thisCam.RVs[i])+' m/s', fontsize=14)\n",
      "\n",
      "    plt.subplot(221)\n",
      "    plt.title('Clean Flux')\n",
      "    plt.plot(thisCam.clean_wavelengths[i][::50],thisCam.clean_fluxes[i][::50])\n",
      "    plt.xlabel('Wavelength [ang]')\n",
      "    plt.ylabel('Flux [Counts]')\n",
      "    plt.legend(loc=0)\n",
      "    \n",
      "    plt.subplot(223)\n",
      "    plt.title('Clean Flux - Detail')\n",
      "    plt.plot(thisCam.clean_wavelengths[0],thisCam.clean_fluxes[0], label = 't0 Flux')\n",
      "    plt.plot(thisCam.clean_wavelengths[i],thisCam.clean_fluxes[i], label = 'Epoch '+str(i))\n",
      "#     plt.axis((4859,4864, -1,1))\n",
      "    plt.xlabel('Wavelength [ang]')\n",
      "    plt.ylabel('Flux [Counts]')\n",
      "    plt.legend(loc=0)\n",
      "\n",
      "    plt.subplot(222)\n",
      "    plt.title('Cross Correlation Result')\n",
      "    plt.plot((thisCam.clean_wavelengths[i]-np.median(thisCam.clean_wavelengths[i]))/thisCam.clean_wavelengths[i]*const.c,thisCam.CCCurves[i]/np.max(thisCam.CCCurves[i]))\n",
      "    plt.plot((thisCam.clean_wavelengths[i]-np.median(thisCam.clean_wavelengths[i]))/thisCam.clean_wavelengths[i]*const.c,\n",
      "             gaussian(range(len(thisCam.clean_wavelengths[i])), thisCam.Ps[i][0], thisCam.Ps[i][1]), label = 'gaussian fit') \n",
      "    plt.xlabel('RV [m/s]')\n",
      "    plt.legend(loc=0)\n",
      "    \n",
      "    plt.subplot(224)\n",
      "    plt.title('Cross Correlation Result - Detail')\n",
      "    plt.plot((thisCam.clean_wavelengths[i]-np.median(thisCam.clean_wavelengths[i]))/thisCam.clean_wavelengths[i]*const.c,thisCam.CCCurves[i]/np.max(thisCam.CCCurves[i]))\n",
      "    plt.plot((thisCam.clean_wavelengths[i]-np.median(thisCam.clean_wavelengths[i]))/thisCam.clean_wavelengths[i]*const.c,\n",
      "             gaussian(range(len(thisCam.clean_wavelengths[i])), thisCam.Ps[i][0], thisCam.Ps[i][1]), label = 'gaussian fit') \n",
      "    plt.axis((-8000, 8000,0.5,1.1) )\n",
      "    plt.xlabel('RV [m/s]')\n",
      "    plt.legend(loc=2)    \n",
      "\n",
      "    plt.tight_layout()\n",
      "    plt.show()\n"
     ],
     "language": "python",
     "metadata": {},
     "outputs": [
      {
       "output_type": "stream",
       "stream": "stdout",
       "text": [
        "No labeled objects found. Use label='...' kwarg on individual plots.\n",
        "tight_layout : falling back to Agg renderer\n"
       ]
      }
     ],
     "prompt_number": 176
    },
    {
     "cell_type": "code",
     "collapsed": false,
     "input": [],
     "language": "python",
     "metadata": {},
     "outputs": []
    },
    {
     "cell_type": "code",
     "collapsed": false,
     "input": [
      "#plots all CC fitted gausian results\\n\",\n",
      "# for i in range(CCCurves.shape[0]):\\n\",\n",
      "thisCam = thisStar.exposures.cameras[0]\n",
      "for i in range(10):\n",
      "    plt.plot((thisCam.clean_wavelengths[i]-np.median(thisCam.clean_wavelengths[i]))/thisCam.clean_wavelengths[i]*const.c,thisCam.CCCurves[i]/np.max(thisCam.CCCurves[i]))\n",
      "#     plt.plot((thisCam.clean_wavelengths[i]-np.median(thisCam.clean_wavelengths[i]))/thisCam.clean_wavelengths[i]*const.c,\n",
      "#              gaussian(range(len(thisCam.clean_wavelengths[i])), thisCam.Ps[i][0], thisCam.Ps[i][1])) \n",
      "    plt.xlabel('RV [m/s]')\n",
      "plt.show()\n"
     ],
     "language": "python",
     "metadata": {},
     "outputs": [
      {
       "ename": "IndexError",
       "evalue": "index 8 is out of bounds for axis 0 with size 8",
       "output_type": "pyerr",
       "traceback": [
        "\u001b[0;31m---------------------------------------------------------------------------\u001b[0m\n\u001b[0;31mIndexError\u001b[0m                                Traceback (most recent call last)",
        "\u001b[0;32m<ipython-input-69-58fec993073f>\u001b[0m in \u001b[0;36m<module>\u001b[0;34m()\u001b[0m\n\u001b[1;32m      3\u001b[0m \u001b[0mthisCam\u001b[0m \u001b[0;34m=\u001b[0m \u001b[0mthisStar\u001b[0m\u001b[0;34m.\u001b[0m\u001b[0mexposures\u001b[0m\u001b[0;34m.\u001b[0m\u001b[0mcameras\u001b[0m\u001b[0;34m[\u001b[0m\u001b[0;36m0\u001b[0m\u001b[0;34m]\u001b[0m\u001b[0;34m\u001b[0m\u001b[0m\n\u001b[1;32m      4\u001b[0m \u001b[0;32mfor\u001b[0m \u001b[0mi\u001b[0m \u001b[0;32min\u001b[0m \u001b[0mrange\u001b[0m\u001b[0;34m(\u001b[0m\u001b[0;36m10\u001b[0m\u001b[0;34m)\u001b[0m\u001b[0;34m:\u001b[0m\u001b[0;34m\u001b[0m\u001b[0m\n\u001b[0;32m----> 5\u001b[0;31m     \u001b[0mplt\u001b[0m\u001b[0;34m.\u001b[0m\u001b[0mplot\u001b[0m\u001b[0;34m(\u001b[0m\u001b[0;34m(\u001b[0m\u001b[0mthisCam\u001b[0m\u001b[0;34m.\u001b[0m\u001b[0mclean_wavelengths\u001b[0m\u001b[0;34m[\u001b[0m\u001b[0mi\u001b[0m\u001b[0;34m]\u001b[0m\u001b[0;34m-\u001b[0m\u001b[0mnp\u001b[0m\u001b[0;34m.\u001b[0m\u001b[0mmedian\u001b[0m\u001b[0;34m(\u001b[0m\u001b[0mthisCam\u001b[0m\u001b[0;34m.\u001b[0m\u001b[0mclean_wavelengths\u001b[0m\u001b[0;34m[\u001b[0m\u001b[0mi\u001b[0m\u001b[0;34m]\u001b[0m\u001b[0;34m)\u001b[0m\u001b[0;34m)\u001b[0m\u001b[0;34m/\u001b[0m\u001b[0mthisCam\u001b[0m\u001b[0;34m.\u001b[0m\u001b[0mclean_wavelengths\u001b[0m\u001b[0;34m[\u001b[0m\u001b[0mi\u001b[0m\u001b[0;34m]\u001b[0m\u001b[0;34m*\u001b[0m\u001b[0mconst\u001b[0m\u001b[0;34m.\u001b[0m\u001b[0mc\u001b[0m\u001b[0;34m,\u001b[0m\u001b[0mthisCam\u001b[0m\u001b[0;34m.\u001b[0m\u001b[0mCCCurves\u001b[0m\u001b[0;34m[\u001b[0m\u001b[0mi\u001b[0m\u001b[0;34m]\u001b[0m\u001b[0;34m/\u001b[0m\u001b[0mnp\u001b[0m\u001b[0;34m.\u001b[0m\u001b[0mmax\u001b[0m\u001b[0;34m(\u001b[0m\u001b[0mthisCam\u001b[0m\u001b[0;34m.\u001b[0m\u001b[0mCCCurves\u001b[0m\u001b[0;34m[\u001b[0m\u001b[0mi\u001b[0m\u001b[0;34m]\u001b[0m\u001b[0;34m)\u001b[0m\u001b[0;34m)\u001b[0m\u001b[0;34m\u001b[0m\u001b[0m\n\u001b[0m\u001b[1;32m      6\u001b[0m \u001b[0;31m#     plt.plot((thisCam.clean_wavelengths[i]-np.median(thisCam.clean_wavelengths[i]))/thisCam.clean_wavelengths[i]*const.c,\u001b[0m\u001b[0;34m\u001b[0m\u001b[0;34m\u001b[0m\u001b[0m\n\u001b[1;32m      7\u001b[0m \u001b[0;31m#              gaussian(range(len(thisCam.clean_wavelengths[i])), thisCam.Ps[i][0], thisCam.Ps[i][1]))\u001b[0m\u001b[0;34m\u001b[0m\u001b[0;34m\u001b[0m\u001b[0m\n",
        "\u001b[0;31mIndexError\u001b[0m: index 8 is out of bounds for axis 0 with size 8"
       ]
      }
     ],
     "prompt_number": 69
    },
    {
     "cell_type": "code",
     "collapsed": false,
     "input": [
      "#Debuging CC - resampling and cleaning tests\n",
      "flux1 = thisStar.exposures.cameras[0].red_fluxes[0]\n",
      "lambda1 = thisStar.exposures.cameras[0].wavelengths[0]\n",
      "lambda1Clean_10, flux1Clean_10 = clean_flux(flux1, 1, lambda1)\n",
      "# lambda1Clean_10, flux1Clean_10 = clean_flux(flux1, xDef, lambda1)\n",
      "# lambda1Clean_100, flux1Clean_100 = clean_flux(flux1, 100, lambda1)\\n\",\n",
      "plt.plot(lambda1,flux1/np.max(flux1), label= 'Reduced')\n",
      "# plt.plot(lambda1Clean_1,flux1Clean_1)\n",
      "plt.plot(lambda1Clean_10,flux1Clean_10, label= 'Clean')\n",
      "# plt.plot(lambda1Clean_100,flux1Clean_100)\n",
      "plt.title('Reduced and Clean flux')\n",
      "plt.xlabel('Wavelength [Ang.]')\n",
      "plt.ylabel('Relatuve Flux')\n",
      "plt.legend(loc=0)\n",
      "plt.show()\n"
     ],
     "language": "python",
     "metadata": {},
     "outputs": [],
     "prompt_number": 70
    },
    {
     "cell_type": "code",
     "collapsed": false,
     "input": [
      "#Saves\n",
      "# delattr(thisStar.exposures.cameras[0],'clean_fluxes')\n",
      "# delattr(thisStar.exposures.cameras[1],'clean_fluxes')\n",
      "# delattr(thisStar.exposures.cameras[2],'clean_fluxes')\n",
      "# delattr(thisStar.exposures.cameras[3],'clean_fluxes')\n",
      "# delattr(thisStar.exposures.cameras[0],'clean_wavelengths')\n",
      "# delattr(thisStar.exposures.cameras[1],'clean_wavelengths')\n",
      "# delattr(thisStar.exposures.cameras[2],'clean_wavelengths')\n",
      "# delattr(thisStar.exposures.cameras[3],'clean_wavelengths')\n",
      "# file_pi = open(filehandler.name, 'w') \n",
      "# pickle.dump(thisStar, file_pi) \n",
      "# file_pi.close()\n",
      "# filehandler.close()\n",
      "# thisStar = None"
     ],
     "language": "python",
     "metadata": {},
     "outputs": [],
     "prompt_number": 78
    },
    {
     "cell_type": "code",
     "collapsed": false,
     "input": [
      "1/10e-6/3600"
     ],
     "language": "python",
     "metadata": {},
     "outputs": [
      {
       "metadata": {},
       "output_type": "pyout",
       "prompt_number": 79,
       "text": [
        "27.777777777777775"
       ]
      }
     ],
     "prompt_number": 79
    },
    {
     "cell_type": "code",
     "collapsed": false,
     "input": [],
     "language": "python",
     "metadata": {},
     "outputs": []
    }
   ],
   "metadata": {}
  }
 ]
}