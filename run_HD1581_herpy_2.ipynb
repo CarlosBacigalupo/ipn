{
 "cells": [
  {
   "cell_type": "code",
   "execution_count": 12,
   "metadata": {
    "collapsed": false
   },
   "outputs": [
    {
     "data": {
      "text/plain": [
       "<module 'myHerpyTools' from '/Users/Carlos/Documents/ipn/myHerpyTools.py'>"
      ]
     },
     "execution_count": 12,
     "metadata": {},
     "output_type": "execute_result"
    }
   ],
   "source": [
    "import numpy as np\n",
    "\n",
    "import myHerpyTools as MHT\n",
    "reload(MHT)"
   ]
  },
  {
   "cell_type": "code",
   "execution_count": 2,
   "metadata": {
    "collapsed": false
   },
   "outputs": [
    {
     "name": "stdout",
     "output_type": "stream",
     "text": [
      "/Users/Carlos/Documents/HERMES/reductions/new_start_6.5/HD1581\n"
     ]
    }
   ],
   "source": [
    "cd /Users/Carlos/Documents/HERMES/reductions/new_start_6.5/HD1581/"
   ]
  },
  {
   "cell_type": "code",
   "execution_count": 3,
   "metadata": {
    "collapsed": true
   },
   "outputs": [],
   "source": [
    "folder = \"herpy_out\""
   ]
  },
  {
   "cell_type": "code",
   "execution_count": 4,
   "metadata": {
    "collapsed": false
   },
   "outputs": [],
   "source": [
    "flatFileName = '0_20aug/1/20aug10034.fits'\n",
    "arcFileName = '0_20aug/1/20aug10052.fits'\n",
    "objFileName = '0_20aug/1/20aug10053.fits'\n",
    "\n",
    "# flatFileName = '1_21aug/1/21aug10047.fits'\n",
    "# arcFileName = '1_21aug/1/21aug10046.fits'\n",
    "# objFileName = '1_21aug/1/21aug10041.fits'\n",
    "\n",
    "# flatFileName = '2_22aug/1/22aug10032.fits'\n",
    "# arcFileName = '2_22aug/1/22aug10031.fits'\n",
    "# objFileName = '2_22aug/1/22aug10036.fits'\n",
    "\n",
    "# flatFileName = '3_24aug/1/24aug10053.fits'\n",
    "# arcFileName = '3_24aug/1/24aug10054.fits'\n",
    "# objFileName = '3_24aug/1/24aug10058.fits'\n",
    "\n",
    "# flatFileName = '4_25aug/1/25aug10039.fits'\n",
    "# arcFileName = '4_25aug/1/25aug10043.fits'\n",
    "# objFileName = '4_25aug/1/25aug10044.fits'"
   ]
  },
  {
   "cell_type": "code",
   "execution_count": 5,
   "metadata": {
    "collapsed": false
   },
   "outputs": [
    {
     "name": "stdout",
     "output_type": "stream",
     "text": [
      "herpy_out/arc_20aug10052_px.npy read\n"
     ]
    }
   ],
   "source": [
    "extracted_arc = MHT.read_NPY(arcFileName, \"arc\", \"px\", folder)"
   ]
  },
  {
   "cell_type": "code",
   "execution_count": 6,
   "metadata": {
    "collapsed": false
   },
   "outputs": [
    {
     "name": "stdout",
     "output_type": "stream",
     "text": [
      "Fibre 169\n",
      "Shift between template and this fibre arc -2\n"
     ]
    }
   ],
   "source": [
    "#FULL LOOP\n",
    "\n",
    "#Initialise the 3 output arrays\n",
    "wlSolutions = []\n",
    "wlErrors = []\n",
    "wlPolys = []\n",
    "\n",
    "#loop over each fibre\n",
    "for thisFibre in range(extracted_arc.shape[0])[169:170]:\n",
    "    print 'Fibre',thisFibre\n",
    "\n",
    "    # get the flux from a single arc\n",
    "    objectArc = extracted_arc[thisFibre].copy() \n",
    "    \n",
    "    # Template to build model from.\n",
    "    lineListfFileName = '../linelist_blue.txt'\n",
    "        \n",
    "    #Create the model, etc\n",
    "    thisPoly, thisSolution, thisErr = MHT.make_poly_model_err(objectArc, lineListfFileName)\n",
    "    \n",
    "    #append lists\n",
    "    wlPolys.append(thisPoly)\n",
    "    wlSolutions.append(thisSolution)\n",
    "    wlErrors.append(thisErr)\n",
    "\n",
    "#turn lists into np arrays\n",
    "wlPolys = np.array(wlPolys)\n",
    "wlSolutions = np.array(wlSolutions)\n",
    "wlErrors = np.array(wlErrors)\n",
    "\n",
    "\n",
    "#         plt.plot(x_dense,gaussian(x_dense,p[0],p[1]))\n",
    "#         plt.plot(firstSliceX,firstSliceY/np.max(firstSliceY))\n",
    "#         plt.title(maxIdx)\n",
    "# #         plt.plot(masterArc[thisLineWl[0]-5:thisLineWl[0]+5])\n",
    "#         plt.show()\n"
   ]
  },
  {
   "cell_type": "code",
   "execution_count": null,
   "metadata": {
    "collapsed": false
   },
   "outputs": [],
   "source": [
    "# MHT.write_NPY(arcFileName, \"pol\", \"\", wlPolys, folder =folder)\n",
    "# MHT.write_NPY(arcFileName, \"WLS\", \"\", wlSolutions, folder =folder)\n",
    "# MHT.write_NPY(arcFileName, \"WLERR\", \"\", wlErrors, folder =folder)"
   ]
  },
  {
   "cell_type": "code",
   "execution_count": 13,
   "metadata": {
    "collapsed": false
   },
   "outputs": [
    {
     "name": "stdout",
     "output_type": "stream",
     "text": [
      "Found 41 peaks.\n"
     ]
    }
   ],
   "source": [
    "#extend line list to all peaks\n",
    "#creates the new linelist. Wrong, but equally wrong\n",
    "lineList_v2 = MHT.extend_lineList(extracted_arc[169],wlPolys[0])\n"
   ]
  },
  {
   "cell_type": "code",
   "execution_count": 14,
   "metadata": {
    "collapsed": false
   },
   "outputs": [],
   "source": [
    "import pylab as plt\n",
    "plt.plot(wlSolutions[0], extracted_arc[169])\n",
    "plt.scatter(lineList_v2[:,1],extracted_arc[169][lineList_v2[:,0].astype(int)])\n",
    "plt.show()"
   ]
  },
  {
   "cell_type": "code",
   "execution_count": 8,
   "metadata": {
    "collapsed": false
   },
   "outputs": [
    {
     "ename": "NameError",
     "evalue": "name 'lineList_v2' is not defined",
     "output_type": "error",
     "traceback": [
      "\u001b[0;31m---------------------------------------------------------------------------\u001b[0m",
      "\u001b[0;31mNameError\u001b[0m                                 Traceback (most recent call last)",
      "\u001b[0;32m<ipython-input-8-35c56360e2cd>\u001b[0m in \u001b[0;36m<module>\u001b[0;34m()\u001b[0m\n\u001b[0;32m----> 1\u001b[0;31m \u001b[0mnp\u001b[0m\u001b[0;34m.\u001b[0m\u001b[0msavetxt\u001b[0m\u001b[0;34m(\u001b[0m\u001b[0;34m'../lineList_blue_v2.txt'\u001b[0m\u001b[0;34m,\u001b[0m\u001b[0mlineList_v2\u001b[0m\u001b[0;34m)\u001b[0m\u001b[0;34m\u001b[0m\u001b[0m\n\u001b[0m",
      "\u001b[0;31mNameError\u001b[0m: name 'lineList_v2' is not defined"
     ]
    }
   ],
   "source": [
    "np.savetxt('../lineList_blue_v2.txt',lineList_v2)\n"
   ]
  },
  {
   "cell_type": "code",
   "execution_count": null,
   "metadata": {
    "collapsed": false
   },
   "outputs": [],
   "source": [
    "# plt.plot(MHT.flexi_gaussian(range(11), 5,4, 1.5,30,0))\n",
    "# plt.show()"
   ]
  },
  {
   "cell_type": "code",
   "execution_count": 20,
   "metadata": {
    "collapsed": false,
    "scrolled": true
   },
   "outputs": [
    {
     "name": "stdout",
     "output_type": "stream",
     "text": [
      "Fibre 169 epoch 0\n",
      "Shift between template and this fibre arc 0\n",
      "Fibre 169 epoch 1\n",
      "Shift between template and this fibre arc 0\n",
      "Fibre 169 epoch 2\n",
      "Shift between template and this fibre arc 0\n",
      "Fibre 169 epoch 3\n",
      "Shift between template and this fibre arc 0\n",
      "Fibre 169 epoch 4\n",
      "Shift between template and this fibre arc 0\n"
     ]
    }
   ],
   "source": [
    "#Get the differences between the wlsolution for epoch 0 and the rest to identify unstable lines\n",
    "import glob\n",
    "reload(MHT)\n",
    "pxValuesEpoch = MHT.px_change_across_epochs(\n",
    "    lineList_v2, glob.glob1(\"herpy_out\",\"WLS*\"), \n",
    "    glob.glob1(\"herpy_out\",\"arc*\"), 169, folder)"
   ]
  },
  {
   "cell_type": "code",
   "execution_count": 22,
   "metadata": {
    "collapsed": false
   },
   "outputs": [
    {
     "data": {
      "text/plain": [
       "array([[   24.9002762 ,    24.80589068,    24.99685809,    24.70737737,\n",
       "           24.95687076],\n",
       "       [  173.49105579,   173.55874478,   173.54907201,   173.38699601,\n",
       "          173.55981441],\n",
       "       [  173.49105579,   173.55874478,   173.54907201,   173.38699601,\n",
       "          173.55981441],\n",
       "       [  310.86065698,   310.85114387,   310.90186928,   310.57424523,\n",
       "          311.20617881],\n",
       "       [  366.12983395,   366.15155381,   366.21849436,   365.97562319,\n",
       "          366.40791617],\n",
       "       [  482.55148053,   482.47335337,   482.59644519,   482.4172292 ,\n",
       "          482.99175736],\n",
       "       [ 1020.72700115,  1020.80536802,  1020.8030836 ,  1020.55445332,\n",
       "         1020.97413277],\n",
       "       [ 1101.87230053,  1101.87281162,  1102.10807693,  1101.90309942,\n",
       "         1102.13627936],\n",
       "       [ 1140.62767565,  1140.63121735,  1140.69955818,  1140.40644022,\n",
       "         1140.83143423],\n",
       "       [ 1201.72173075,  1201.83173395,  1201.78281437,  1201.57754016,\n",
       "         1201.902286  ],\n",
       "       [ 1218.87751796,  1218.91212481,  1218.91308027,  1218.63824004,\n",
       "         1219.23990968],\n",
       "       [ 1390.76406162,  1390.82223881,  1390.85675971,  1390.68321112,\n",
       "         1391.00116263],\n",
       "       [ 1423.64113632,  1423.82612328,  1423.70773026,  1424.03437302,\n",
       "         1424.00128417],\n",
       "       [ 1488.92156632,  1488.9497341 ,  1489.00353257,  1488.80210144,\n",
       "         1489.18403811],\n",
       "       [ 1626.5544085 ,  1626.47560663,  1626.55048992,  1626.2403584 ,\n",
       "         1626.55021484],\n",
       "       [ 1787.94181815,  1787.95465924,  1788.03248057,  1787.7734529 ,\n",
       "         1788.27597877],\n",
       "       [ 1811.4182238 ,  1811.38917343,  1811.46455029,  1811.07863147,\n",
       "         1811.34328123],\n",
       "       [ 2002.08355213,  2002.17331374,  2002.07822597,  2001.83612319,\n",
       "         2002.60828442],\n",
       "       [ 2022.34194242,  2022.39321929,  2022.45128464,  2022.17275958,\n",
       "         2022.6996274 ],\n",
       "       [ 2137.03426658,  2137.14193052,  2137.16804397,  2136.89055301,\n",
       "         2130.16103802],\n",
       "       [ 2137.02706785,  2137.10741969,  2137.15693388,  2136.86479006,\n",
       "         2137.36588378],\n",
       "       [ 2280.03997636,  2280.06172154,  2280.15479732,  2279.86933658,\n",
       "         2280.34437253],\n",
       "       [ 2311.68311826,  2311.71584349,  2311.88240356,  2311.66881476,\n",
       "         2312.03533968],\n",
       "       [ 2532.49843069,  2532.65251964,  2532.69276028,  2532.60972667,\n",
       "         2532.80055097],\n",
       "       [ 2589.26656232,  2589.30909197,  2589.39293271,  2589.05446293,\n",
       "         2589.68221653],\n",
       "       [ 2613.42455022,  2613.44005887,  2613.51750011,  2613.23617514,\n",
       "         2613.78260808],\n",
       "       [ 2707.60886482,  2707.61965907,  2707.69173518,  2707.43479947,\n",
       "         2708.17259482],\n",
       "       [ 2835.70986596,  2835.67735274,  2835.82158663,  2835.54981142,\n",
       "         2836.04733948],\n",
       "       [ 3044.60754645,  3044.63602026,  3044.74031329,  3044.43652285,\n",
       "         3045.01400033],\n",
       "       [ 3064.27142654,  3064.35820152,  3064.39294542,  3064.16502881,\n",
       "         3064.52747095],\n",
       "       [ 3064.27142654,  3064.35820152,  3064.39294542,  3064.16502881,\n",
       "         3064.52747095],\n",
       "       [ 3121.44236251,  3121.42631395,  3121.6064576 ,  3121.36610382,\n",
       "         3121.80329178],\n",
       "       [ 3121.44236251,  3121.42631395,  3121.6064576 ,  3121.36610382,\n",
       "         3121.80329178],\n",
       "       [ 3400.29172199,  3400.3013821 ,  3400.38064727,  3400.11177646,\n",
       "         3400.69151684],\n",
       "       [ 3458.43667841,  3458.66808999,  3458.5436352 ,  3458.35955099,\n",
       "         3459.02279239],\n",
       "       [ 3584.4409052 ,  3584.46327545,  3584.52979257,  3584.21219161,\n",
       "         3584.82470519],\n",
       "       [ 3598.61113862,  3598.71109952,  3598.71965079,  3598.4456803 ,\n",
       "         3599.0604522 ],\n",
       "       [ 3684.82097744,  3684.77856553,  3684.90430094,  3684.57469529,\n",
       "         3685.21316868],\n",
       "       [ 3760.4073929 ,  3760.46274721,  3760.40842213,  3760.22455686,\n",
       "         3760.84167509],\n",
       "       [ 3894.21154863,  3894.35119161,  3894.28799359,  3893.86310931,\n",
       "         3894.78620778],\n",
       "       [ 3894.21154863,  3894.35119161,  3894.28799359,  3893.86310931,\n",
       "         3894.78620778]])"
      ]
     },
     "execution_count": 22,
     "metadata": {},
     "output_type": "execute_result"
    }
   ],
   "source": [
    "pxValuesEpoch"
   ]
  },
  {
   "cell_type": "code",
   "execution_count": 26,
   "metadata": {
    "collapsed": false
   },
   "outputs": [],
   "source": [
    "plt.plot(pxValuesEpoch[:,0],pxValuesEpoch[:,0]-pxValuesEpoch[:,0], \".\")\n",
    "plt.plot(pxValuesEpoch[:,0],pxValuesEpoch[:,1]-pxValuesEpoch[:,0], \".\")\n",
    "plt.plot(pxValuesEpoch[:,0],pxValuesEpoch[:,2]-pxValuesEpoch[:,0], \".\")\n",
    "plt.plot(pxValuesEpoch[:,0],pxValuesEpoch[:,3]-pxValuesEpoch[:,0], \".\")\n",
    "plt.plot(pxValuesEpoch[:,0],pxValuesEpoch[:,4]-pxValuesEpoch[:,0], \".\")\n",
    "plt.show()"
   ]
  },
  {
   "cell_type": "code",
   "execution_count": null,
   "metadata": {
    "collapsed": false
   },
   "outputs": [],
   "source": [
    "order = 3\n",
    "epochPolyFit = []\n",
    "epochDiffToFit = []\n",
    "\n",
    "#the offsets of 1 epoch per loop\n",
    "for i in range(pxValuesEpoch.shape[1]):\n",
    "    polyFilter = [(pxValuesEpoch[:,i]-pxValuesEpoch[:,0])<10]\n",
    "    thisEpochPolyFit = np.polyfit(pxValuesEpoch[:,0][polyFilter],(pxValuesEpoch[:,i]-pxValuesEpoch[:,0])[polyFilter], order)\n",
    "    thisEpochDiffToFit = np.polynomial.polynomial.polyval(pxValuesEpoch[:,0], thisEpochPolyFit[::-1])-(pxValuesEpoch[:,i]-pxValuesEpoch[:,0])\n",
    "\n",
    "    epochPolyFit.append(thisEpochPolyFit)\n",
    "    epochDiffToFit.append(thisEpochDiffToFit)\n",
    "#     plt.plot(pxValuesEpoch[:,0],pxValuesEpoch[:,i]-pxValuesEpoch[:,0], '.')\n",
    "#     plt.plot(pxValuesEpoch[:,0],np.polynomial.polynomial.polyval(pxValuesEpoch[:,0], thisEpochPolyFit[::-1]))\n",
    "#     plt.plot(pxValuesEpoch[:,0],thisEpochDiffToFit, '.')\n",
    "#     plt.show()\n",
    "\n",
    "#     print thisEpochDiffToFit\n",
    "\n"
   ]
  },
  {
   "cell_type": "code",
   "execution_count": null,
   "metadata": {
    "collapsed": false
   },
   "outputs": [],
   "source": [
    "fibreFilter = np.sum(np.abs(epochDiffToFit)>0.4, axis=0)\n",
    "# print fibreFilter, -fibreFilter.astype(bool)\n",
    "print lineList_v2[-fibreFilter.astype(bool)].shape\n",
    "\n",
    "np.savetxt('../lineList_blue_v3.txt',lineList_v2[-fibreFilter.astype(bool)])\n"
   ]
  }
 ],
 "metadata": {
  "kernelspec": {
   "display_name": "Python 2",
   "language": "python",
   "name": "python2"
  },
  "language_info": {
   "codemirror_mode": {
    "name": "ipython",
    "version": 2
   },
   "file_extension": ".py",
   "mimetype": "text/x-python",
   "name": "python",
   "nbconvert_exporter": "python",
   "pygments_lexer": "ipython2",
   "version": "2.7.3"
  }
 },
 "nbformat": 4,
 "nbformat_minor": 0
}
