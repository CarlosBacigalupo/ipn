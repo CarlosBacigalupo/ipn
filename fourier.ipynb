{
 "metadata": {
  "name": ""
 },
 "nbformat": 3,
 "nbformat_minor": 0,
 "worksheets": [
  {
   "cells": [
    {
     "cell_type": "code",
     "collapsed": false,
     "input": [
      "thisCam = thisStar.exposures.cameras[0]\n",
      "lambda1, flux1 = clean_flux(thisCam.wavelengths[0], thisCam.red_fluxes[0])\n",
      "lambda2, flux2 = clean_flux(thisCam.wavelengths[1], thisCam.red_fluxes[1])\n"
     ],
     "language": "python",
     "metadata": {},
     "outputs": []
    },
    {
     "cell_type": "code",
     "collapsed": false,
     "input": [
      "plt.plot(signal.convolve(flux1, flux2[::-1], mode='same'))\n",
      "plt.plot(signal.fftconvolve(flux1, flux2[::-1], mode='same'))\n",
      "plt.show()"
     ],
     "language": "python",
     "metadata": {},
     "outputs": []
    },
    {
     "cell_type": "code",
     "collapsed": false,
     "input": [
      "plt.plot(np.angle(np.conjugate(np.fft.fft(flux1))*np.fft.fft(flux2)))\n",
      "plt.show()"
     ],
     "language": "python",
     "metadata": {},
     "outputs": []
    },
    {
     "cell_type": "code",
     "collapsed": false,
     "input": [
      "plt.plot(flux1)\n",
      "plt.plot(flux2)\n",
      "plt.show()\n"
     ],
     "language": "python",
     "metadata": {},
     "outputs": []
    },
    {
     "cell_type": "code",
     "collapsed": false,
     "input": [
      "ftconv = np.conjugate(np.fft.fft(flux1))*np.fft.fft(flux2)\n",
      "plt.plot(np.abs(ftconv))\n",
      "plt.show()"
     ],
     "language": "python",
     "metadata": {},
     "outputs": []
    },
    {
     "cell_type": "code",
     "collapsed": false,
     "input": [
      "ww = np.where(np.abs(ftconv) > 15)\n",
      "plt.plot(ww[0],np.angle(ftconv[ww[0]]),'.')\n",
      "plt.show()"
     ],
     "language": "python",
     "metadata": {},
     "outputs": []
    },
    {
     "cell_type": "code",
     "collapsed": false,
     "input": [
      "test = np.convolve(ftconv,np.ones(4),mode='same')"
     ],
     "language": "python",
     "metadata": {},
     "outputs": []
    },
    {
     "cell_type": "code",
     "collapsed": false,
     "input": [
      "ww = np.where(np.abs(test) > 10)\n",
      "plt.plot(ww[0],np.angle(test[ww[0]]),'.')\n",
      "plt.show()"
     ],
     "language": "python",
     "metadata": {},
     "outputs": []
    },
    {
     "cell_type": "code",
     "collapsed": false,
     "input": [
      "test = np.convolve(ftconv,np.ones(4)/4.0,mode='same')\n",
      "ww = np.where(np.abs(test) > 10)\n",
      "plt.plot(ww[0],np.angle(test[ww[0]]),'.')\n",
      "plt.show()"
     ],
     "language": "python",
     "metadata": {},
     "outputs": []
    },
    {
     "cell_type": "code",
     "collapsed": false,
     "input": [
      "x = ww[0][:665]\n",
      "y = np.angle(test[ww[0]])[:665]"
     ],
     "language": "python",
     "metadata": {},
     "outputs": []
    },
    {
     "cell_type": "code",
     "collapsed": false,
     "input": [
      "a = np.polyfit(x, y, 1)\n",
      "y2 = a[0]*x +a[1]\n",
      "plt.plot(x,y, '.')\n",
      "# plt.plot(x, y2)\n",
      "plt.errorbar(x,y2, y-y2, y-y2)\n",
      "plt.show()"
     ],
     "language": "python",
     "metadata": {},
     "outputs": []
    },
    {
     "cell_type": "code",
     "collapsed": false,
     "input": [
      "plt.plot(np.convolve(np.fft.fft(flux1),np.fft.fft(flux2),'same'))\n",
      "plt.plot(np.fft.fft(flux1*flux2))\n",
      "plt.show()"
     ],
     "language": "python",
     "metadata": {},
     "outputs": []
    }
   ],
   "metadata": {}
  }
 ]
}