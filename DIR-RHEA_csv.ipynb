{
 "metadata": {
  "name": ""
 },
 "nbformat": 3,
 "nbformat_minor": 0,
 "worksheets": [
  {
   "cells": [
    {
     "cell_type": "code",
     "collapsed": false,
     "input": [
      "import os\n",
      "import numpy as np\n",
      "from mpl_toolkits.mplot3d import Axes3D\n",
      "import pylab as plt\n",
      "\n",
      "import wsm "
     ],
     "language": "python",
     "metadata": {},
     "outputs": [],
     "prompt_number": 23
    },
    {
     "cell_type": "code",
     "collapsed": false,
     "input": [
      "baseDir = '/Users/Carlos/Documents/IZA/reductions/3/'\n",
      "os.chdir(baseDir)"
     ],
     "language": "python",
     "metadata": {},
     "outputs": [],
     "prompt_number": 16
    },
    {
     "cell_type": "code",
     "collapsed": false,
     "input": [
      "dirhea = wsm.spectrograph()"
     ],
     "language": "python",
     "metadata": {},
     "outputs": [],
     "prompt_number": 17
    },
    {
     "cell_type": "heading",
     "level": 4,
     "metadata": {},
     "source": [
      "create arrays"
     ]
    },
    {
     "cell_type": "code",
     "collapsed": false,
     "input": [
      "arc1, lambda1 = dirhea.read_multiple_laser_csv('LaserLines_cam_pos1/')\n",
      "arc2, lambda2 = dirhea.read_multiple_laser_csv('LaserLines_cam_pos2/')\n",
      "arc3, lambda3 = dirhea.read_multiple_laser_csv('LaserLines_cam_pos4/')\n",
      "\n",
      "#crap not removed by dark\n",
      "arc1[0,511,:] = 0\n",
      "arc2[0,511,:] = 0\n",
      "arc3[0,511,:] = 0\n",
      "\n",
      "np.save('arc1',arc1)\n",
      "np.save('lambda1',lambda1)\n",
      "np.save('arc2',arc2)\n",
      "np.save('lambda2',lambda2)\n",
      "np.save('arc3',arc3)\n",
      "np.save('lambda3',lambda3)"
     ],
     "language": "python",
     "metadata": {},
     "outputs": []
    },
    {
     "cell_type": "code",
     "collapsed": false,
     "input": [
      "sun1_1, darkSun1 = dirhea.read_multiple_science_csv('Sun_cam_pos1_5s/p1/')\n",
      "np.save('sun1_1',sun1_1)\n",
      "np.save('darkSun1',darkSun1)\n",
      "\n",
      "sun2_1, darkSun2 = dirhea.read_multiple_science_csv('Sun_cam_pos2_5s/p1/')\n",
      "np.save('sun2_1',sun2_1)\n",
      "np.save('darkSun2',darkSun2)\n",
      "\n",
      "sun3_0,darkSun3 = dirhea.read_multiple_science_csv('Sun_cam_pos4_5s/p0/')\n",
      "np.save('sun3_0',sun3_0)\n",
      "np.save('darkSun3',darkSun3)"
     ],
     "language": "python",
     "metadata": {},
     "outputs": [
      {
       "output_type": "stream",
       "stream": "stdout",
       "text": [
        "Dark Created\n"
       ]
      }
     ],
     "prompt_number": 40
    },
    {
     "cell_type": "code",
     "collapsed": false,
     "input": [
      "a = np.vstack((sun2_0-darkSun2,sun1_0-darkSun1,sun3_0-darkSun3))"
     ],
     "language": "python",
     "metadata": {},
     "outputs": [],
     "prompt_number": 41
    },
    {
     "cell_type": "heading",
     "level": 4,
     "metadata": {},
     "source": [
      "Plot 3D"
     ]
    },
    {
     "cell_type": "code",
     "collapsed": false,
     "input": [
      "fig = plt.figure()\n",
      "ax = fig.add_subplot(111, projection='3d')\n",
      "# thisMesh = sun1_0\n",
      "# X, Y = np.meshgrid(range(thisMesh.shape[1]),range(thisMesh.shape[0]))\n",
      "# ax.plot_wireframe(X, Y, thisMesh, rstride=30, cstride=30, color = 'r')\n",
      "# thisMesh = sun2\n",
      "# X, Y = np.meshgrid(range(thisMesh.shape[1]),range(thisMesh.shape[0]))\n",
      "# ax.plot_wireframe(X, Y, thisMesh, rstride=30, cstride=30, color = 'g')\n",
      "# thisMesh = sun3\n",
      "# X, Y = np.meshgrid(range(thisMesh.shape[1]),range(thisMesh.shape[0]))\n",
      "# ax.plot_wireframe(X, Y, thisMesh, rstride=30, cstride=30, color = 'b')\n",
      "# thisMesh = darkSun1\n",
      "# X, Y = np.meshgrid(range(thisMesh.shape[1]),range(thisMesh.shape[0]))\n",
      "# ax.plot_wireframe(X, Y, thisMesh, rstride=30, cstride=30, color ='r' )\n",
      "# thisMesh = darkSun2\n",
      "# X, Y = np.meshgrid(range(thisMesh.shape[1]),range(thisMesh.shape[0]))\n",
      "# ax.plot_wireframe(X, Y, thisMesh, rstride=30, cstride=30, color ='g' )\n",
      "# thisMesh = darkSun3\n",
      "# X, Y = np.meshgrid(range(thisMesh.shape[1]),range(thisMesh.shape[0]))\n",
      "# ax.plot_wireframe(X, Y, thisMesh, rstride=30, cstride=30, color ='b' )\n",
      "# thisMesh = sun1 - darkSun1\n",
      "# X, Y = np.meshgrid(range(thisMesh.shape[1]),range(thisMesh.shape[0]))\n",
      "# ax.plot_wireframe(X, Y, thisMesh, rstride=30, cstride=30, color ='r' )\n",
      "# thisMesh = sun2 - darkSun2\n",
      "# X, Y = np.meshgrid(range(thisMesh.shape[1]),range(thisMesh.shape[0]))\n",
      "# ax.plot_wireframe(X, Y, thisMesh, rstride=30, cstride=30, color ='g' )\n",
      "# thisMesh = sun3 - darkSun3\n",
      "# X, Y = np.meshgrid(range(thisMesh.shape[1]),range(thisMesh.shape[0]))\n",
      "# # ax.plot_wireframe(X, Y, thisMesh, rstride=30, cstride=30, color ='b' )\n",
      "# thisMesh = np.sum(arc3,2)\n",
      "thisMesh = a\n",
      "X, Y = np.meshgrid(range(thisMesh.shape[1]),range(thisMesh.shape[0]))\n",
      "ax.plot_surface(X, Y, thisMesh, rstride=50, cstride=50, color ='b' )\n",
      "plt.show()"
     ],
     "language": "python",
     "metadata": {},
     "outputs": [],
     "prompt_number": 43
    },
    {
     "cell_type": "code",
     "collapsed": false,
     "input": [
      "dark3 = dirhea.create_dark('Sun_cam_pos1/darks/')\n",
      "dark50 = dark/540*50\n",
      "dark500 = dark/540*500\n",
      "dark5000 = dark/540*5000\n",
      "dark50000 = dark/540*50000\n",
      "flat50 = dirhea.create_flat('FlatField/50us/')\n",
      "flat500 = dirhea.create_flat('FlatField/500us/')\n",
      "flat5000 = dirhea.create_flat('FlatField/5000us/')\n",
      "flat50000 = dirhea.create_flat('FlatField/50000us/')\n"
     ],
     "language": "python",
     "metadata": {},
     "outputs": []
    },
    {
     "cell_type": "code",
     "collapsed": false,
     "input": [
      "import numpy as np\n",
      "type(np.array([]))"
     ],
     "language": "python",
     "metadata": {},
     "outputs": [
      {
       "metadata": {},
       "output_type": "pyout",
       "prompt_number": 5,
       "text": [
        "numpy.ndarray"
       ]
      }
     ],
     "prompt_number": 5
    },
    {
     "cell_type": "code",
     "collapsed": false,
     "input": [],
     "language": "python",
     "metadata": {},
     "outputs": []
    }
   ],
   "metadata": {}
  }
 ]
}