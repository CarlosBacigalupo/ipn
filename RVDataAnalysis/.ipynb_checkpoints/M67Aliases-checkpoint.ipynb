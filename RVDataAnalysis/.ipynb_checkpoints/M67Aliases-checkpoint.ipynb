{
 "metadata": {
  "name": "",
  "signature": "sha256:68d0e037b550f68b8c8863c412d863ab0bdc37e71760591b8ad4cc0962e347e9"
 },
 "nbformat": 3,
 "nbformat_minor": 0,
 "worksheets": [
  {
   "cells": [
    {
     "cell_type": "code",
     "collapsed": false,
     "input": [
      "from astropy.io import ascii\n",
      "import numpy as np\n",
      "import pandas as pd"
     ],
     "language": "python",
     "metadata": {},
     "outputs": []
    },
    {
     "cell_type": "heading",
     "level": 3,
     "metadata": {},
     "source": [
      "Create unique alias table"
     ]
    },
    {
     "cell_type": "code",
     "collapsed": false,
     "input": [
      "cd ~/Documents/HERMES/reductions/6.5/m67_lr/\n"
     ],
     "language": "python",
     "metadata": {},
     "outputs": []
    },
    {
     "cell_type": "code",
     "collapsed": false,
     "input": [
      "starAlias = np.load('starAlias.npy')"
     ],
     "language": "python",
     "metadata": {},
     "outputs": []
    },
    {
     "cell_type": "code",
     "collapsed": false,
     "input": [
      "starAlias = np.core.defchararray.replace(starAlias,'Cl* NGC 2682','')\n",
      "starAlias = np.core.defchararray.replace(starAlias,' ','')\n",
      "starAlias = np.core.defchararray.replace(starAlias,'  ','')\n",
      "starAlias = np.core.defchararray.replace(starAlias,'   ','')\n",
      "starAlias = np.core.defchararray.replace(starAlias,'#','')"
     ],
     "language": "python",
     "metadata": {},
     "outputs": []
    },
    {
     "cell_type": "code",
     "collapsed": false,
     "input": [
      "starAlias = np.core.defchararray.strip(starAlias)"
     ],
     "language": "python",
     "metadata": {},
     "outputs": []
    },
    {
     "cell_type": "code",
     "collapsed": false,
     "input": [
      "starAliasUnique = []\n",
      "\n",
      "maxLen = 0 \n",
      "for i,thisStar in enumerate(np.unique(starAlias[:,0])):\n",
      "    \n",
      "    x = starAlias[np.where(thisStar==starAlias)[0],1]\n",
      "    thisStarAliases = \", \".join(x)\n",
      "    starAliasUnique.append([thisStar,thisStarAliases])\n",
      "    \n",
      "    #Get max len of alias column\n",
      "    if len(thisStarAliases)>maxLen: maxLen =len(thisStarAliases)\n",
      "\n",
      "\n",
      "print maxLen, 'is the length of the longest column'\n",
      "starAliasUnique = np.array(starAliasUnique)\n"
     ],
     "language": "python",
     "metadata": {},
     "outputs": []
    },
    {
     "cell_type": "code",
     "collapsed": true,
     "input": [
      "#print to latex\n",
      "labels = ['Name','Alias']\n",
      "a = pd.DataFrame(starAliasUnique, dtype=str)\n",
      "a.columns = labels\n",
      "pd.set_printoptions(max_colwidth=maxLen)\n",
      "print a.to_latex(index=False)"
     ],
     "language": "python",
     "metadata": {},
     "outputs": []
    },
    {
     "cell_type": "heading",
     "level": 3,
     "metadata": {},
     "source": [
      "Cross reference with M67 geller et al. table"
     ]
    },
    {
     "cell_type": "code",
     "collapsed": false,
     "input": [
      "table = ascii.read('aj518354t2_mrt.txt')"
     ],
     "language": "python",
     "metadata": {},
     "outputs": [],
     "prompt_number": 27
    },
    {
     "cell_type": "code",
     "collapsed": false,
     "input": [
      "def read_myStar(starAlias, myIdx):\n",
      "    '''Parse star name, catalogue name and catalogue ID from starAlias \n",
      "    \n",
      "    Parameters\n",
      "    ----\n",
      "    starAlias : np.array [obj name, alias]\n",
      "        Array with the full list of aliases for each star\n",
      "        \n",
      "    myIdx : int\n",
      "        index of starAlias array to parse\n",
      "\n",
      "    '''\n",
      "    catalogueDict = {'SAND': 'S',\n",
      "                     'MMJ': 'M',\n",
      "                     'FBC': 'F'}\n",
      "    \n",
      "    myStar = starAlias[myIdx,0]\n",
      "#     print starAlias[myIdx,1]\n",
      "    \n",
      "    if starAlias[myIdx,1][:4]=='SAND':\n",
      "        myCatalogue = 'S'\n",
      "        myNumber = int(starAlias[myIdx,1][4:])\n",
      "        \n",
      "    elif ((starAlias[myIdx,1][:3]=='MMJ') and (starAlias[myIdx,1][3]!='S')):\n",
      "        myCatalogue = 'M'\n",
      "        myNumber = int(starAlias[myIdx,1][3:])\n",
      "        \n",
      "    elif starAlias[myIdx,1][:3]=='FBC':\n",
      "        myCatalogue = 'F'\n",
      "        myNumber = int(starAlias[myIdx,1][3:])\n",
      "    \n",
      "    else:\n",
      "        myCatalogue, myNumber = 'O', 0\n",
      "        \n",
      "    return myStar, myCatalogue, myNumber"
     ],
     "language": "python",
     "metadata": {},
     "outputs": [],
     "prompt_number": 30
    },
    {
     "cell_type": "code",
     "collapsed": false,
     "input": [
      "def find_in_my_stars(idx, catalogue, number, starAlias):\n",
      "    '''Looks for a catalogue name and ID in starAlias\n",
      "    \n",
      "    Parameters\n",
      "    ----\n",
      "    idx : int\n",
      "        index of original catalogue array where catalogue and number come from\n",
      "\n",
      "    catalogue : str(1)\n",
      "        index of catalogue name ('S', 'M', etc) of the star to search\n",
      "\n",
      "    number : int\n",
      "        catalogue ID for the star to search\n",
      "\n",
      "    starAlias : np.array [obj name, alias]\n",
      "        Array with the full list of aliases for each star\n",
      "\n",
      "    '''\n",
      "    \n",
      "    result = (np.nan, np.nan)\n",
      "    for myIdx in range(starAlias.shape[0]):\n",
      "        \n",
      "        #retrieves the parsed data from the star alias list\n",
      "        myStar, myCatalogue, myNumber = read_myStar(starAlias, myIdx)\n",
      "#         print myCatalogue, catalogue\n",
      "#         print myNumber, number\n",
      "#         print\n",
      "\n",
      "        if (myCatalogue==catalogue): #is it the same catalogue\n",
      "#             print myCatalogue, catalogue\n",
      "#             print myNumber, number\n",
      "#             print type(myNumber), type(number)\n",
      "    \n",
      "            if (myNumber==number): #is it the same ID\n",
      "                print myStar,'yes!!!!!!!',\n",
      "                result = idx, myStar\n",
      "                break\n",
      "\n",
      "    return result\n",
      "    "
     ],
     "language": "python",
     "metadata": {},
     "outputs": [],
     "prompt_number": 51
    },
    {
     "cell_type": "code",
     "collapsed": false,
     "input": [
      "#Creates an array of stars in the reference catalgue that are also in my catalogue [myName, other catalogue idx]\n",
      "\n",
      "goodStars = []\n",
      "total = 0\n",
      "for i,cat in enumerate(table.columns[1][:]):\n",
      "    \n",
      "#     print '>>>>',i,cat\n",
      "    try:\n",
      "        result = find_in_my_stars(i, cat[0], int(cat[1:]), starAlias)\n",
      "#         print result\n",
      "        if not np.isnan(result[0]):\n",
      "            total += 1\n",
      "            print total\n",
      "            goodStars.append(result)\n",
      "    except:\n",
      "        pass\n",
      "    \n",
      "goodStars = np.array(goodStars)\n"
     ],
     "language": "python",
     "metadata": {},
     "outputs": [
      {
       "output_type": "stream",
       "stream": "stdout",
       "text": [
        "M67-S72 yes!!!!!!! 1\n",
        "M67-S65 yes!!!!!!! 2\n",
        "M67-450 yes!!!!!!! 3\n",
        "M67-S54 yes!!!!!!! 4\n",
        "M67-S248"
       ]
      },
      {
       "output_type": "stream",
       "stream": "stdout",
       "text": [
        " yes!!!!!!! 5\n",
        "M67-S557"
       ]
      },
      {
       "output_type": "stream",
       "stream": "stdout",
       "text": [
        " yes!!!!!!! 6\n",
        "M67-S267 yes!!!!!!! 7\n",
        "M67-S74 yes!!!!!!! 8\n",
        "M67-S39 yes!!!!!!! 9\n",
        "M67-F-117 yes!!!!!!! 10\n",
        "M67-S84"
       ]
      },
      {
       "output_type": "stream",
       "stream": "stdout",
       "text": [
        " yes!!!!!!! 11\n",
        "M67-S45 yes!!!!!!! 12\n",
        "M67-I-9 yes!!!!!!! 13\n",
        "M67-S232 yes!!!!!!! 14\n",
        "M67-464 yes!!!!!!! 15\n",
        "M67-S26"
       ]
      },
      {
       "output_type": "stream",
       "stream": "stdout",
       "text": [
        " yes!!!!!!! 16\n",
        "M67-F-135 yes!!!!!!! 17\n",
        "M67-S42 yes!!!!!!! 18\n",
        "M67-S57 yes!!!!!!! 19\n",
        "M67-S87 yes!!!!!!! 20\n",
        "M67-F-130 yes!!!!!!! 21\n",
        "M67-S30 yes!!!!!!! 22\n",
        "M67-425 yes!!!!!!! 23\n",
        "M67-S245"
       ]
      },
      {
       "output_type": "stream",
       "stream": "stdout",
       "text": [
        " yes!!!!!!! 24\n",
        "M67-490 yes!!!!!!! 25\n",
        "M67-S24"
       ]
      },
      {
       "output_type": "stream",
       "stream": "stdout",
       "text": [
        " yes!!!!!!! 26\n",
        "M67-I-198 yes!!!!!!! 27\n",
        "M67-S76 yes!!!!!!! 28\n",
        "M67-S529 yes!!!!!!! 29\n",
        "M67-S280 yes!!!!!!! 30\n",
        "M67-S525"
       ]
      },
      {
       "output_type": "stream",
       "stream": "stdout",
       "text": [
        " yes!!!!!!! 31\n",
        "M67-S522 yes!!!!!!! 32\n",
        "M67-F-108 yes!!!!!!! 33\n",
        "M67-S20 yes!!!!!!! 34\n",
        "M67-S79 yes!!!!!!! 35\n",
        "M67-S113"
       ]
      },
      {
       "output_type": "stream",
       "stream": "stdout",
       "text": [
        " yes!!!!!!! 36\n",
        "M67-S21 yes!!!!!!! 37\n",
        "M67-445 yes!!!!!!! 38\n",
        "M67-S538 yes!!!!!!! 39\n",
        "M67-S234 yes!!!!!!! 40\n",
        "M67-417"
       ]
      },
      {
       "output_type": "stream",
       "stream": "stdout",
       "text": [
        " yes!!!!!!! 41\n",
        "M67-S18 yes!!!!!!! 42\n",
        "M67-S88 yes!!!!!!! 43\n",
        "M67-S17 yes!!!!!!! 44\n",
        "M67-S219"
       ]
      },
      {
       "output_type": "stream",
       "stream": "stdout",
       "text": [
        " yes!!!!!!! 45\n",
        "M67-419 yes!!!!!!! 46\n",
        "M67-S581 yes!!!!!!! 47\n",
        "M67-S247 yes!!!!!!! 48\n",
        "M67-474 yes!!!!!!! 49\n",
        "M67-S560 yes!!!!!!! 50\n",
        "M67-S210 yes!!!!!!! 51\n",
        "M67-F-81 yes!!!!!!! 52\n",
        "M67-S11 yes!!!!!!! 53\n",
        "M67-S52"
       ]
      },
      {
       "output_type": "stream",
       "stream": "stdout",
       "text": [
        " yes!!!!!!! 54\n",
        "M67-S56 yes!!!!!!! 55\n",
        "M67-S14 yes!!!!!!! 56\n",
        "M67-S32 yes!!!!!!! 57\n",
        "M67-S99 yes!!!!!!! 58\n",
        "M67-470 yes!!!!!!! 59\n",
        "M67-S301"
       ]
      },
      {
       "output_type": "stream",
       "stream": "stdout",
       "text": [
        " yes!!!!!!! 60\n",
        "M67-S214 yes!!!!!!! 61\n",
        "M67-S607 yes!!!!!!! 62\n",
        "M67-S124"
       ]
      },
      {
       "output_type": "stream",
       "stream": "stdout",
       "text": [
        " yes!!!!!!! 63\n",
        "M67-S85 yes!!!!!!! 64\n",
        "M67-S96 yes!!!!!!! 65\n",
        "M67-S10 yes!!!!!!! 66\n",
        "M67-S125 yes!!!!!!! 67\n",
        "M67-437 yes!!!!!!! 68\n",
        "M67-481"
       ]
      },
      {
       "output_type": "stream",
       "stream": "stdout",
       "text": [
        " yes!!!!!!! 69\n",
        "M67-S15 yes!!!!!!! 70\n",
        "M67-S127"
       ]
      },
      {
       "output_type": "stream",
       "stream": "stdout",
       "text": [
        " yes!!!!!!! 71\n",
        "M67-S600 yes!!!!!!! 72\n",
        "M67-410 yes!!!!!!! 73\n",
        "M67-S526 yes!!!!!!! 74\n",
        "M67-489 yes!!!!!!! 75\n",
        "M67-S254 yes!!!!!!! 76\n",
        "M67-S203 yes!!!!!!! 77\n",
        "M67-S296 yes!!!!!!! 78\n",
        "M67-S295 yes!!!!!!! 79\n",
        "M67-523 yes!!!!!!! 80\n",
        "M67-S70"
       ]
      },
      {
       "output_type": "stream",
       "stream": "stdout",
       "text": [
        " yes!!!!!!! 81\n",
        "M67-S116 yes!!!!!!! 82\n",
        "M67-S129 yes!!!!!!! 83\n",
        "M67-S100 yes!!!!!!! 84\n",
        "M67-475 yes!!!!!!! 85\n",
        "M67-539 yes!!!!!!! 86\n",
        "M67-S319 yes!!!!!!! 87\n",
        "M67-S200 yes!!!!!!! 88\n",
        "M67-S588"
       ]
      },
      {
       "output_type": "stream",
       "stream": "stdout",
       "text": [
        " yes!!!!!!! 89\n",
        "M67-S266 yes!!!!!!! 90\n",
        "M67-S488 yes!!!!!!! 91\n",
        "M67-482 yes!!!!!!! 92\n",
        "M67-S37 yes!!!!!!! 93\n",
        "M67-S64 yes!!!!!!! 94\n",
        "M67-S22 yes!!!!!!! 95\n",
        "M67-S7 yes!!!!!!! 96\n",
        "M67-S5"
       ]
      },
      {
       "output_type": "stream",
       "stream": "stdout",
       "text": [
        " yes!!!!!!! 97\n",
        "M67-S98 yes!!!!!!! 98\n",
        "M67-S241 yes!!!!!!! 99\n",
        "M67-413 yes!!!!!!! 100\n",
        "M67-S484 yes!!!!!!! 101\n",
        "M67-S572 yes!!!!!!! 102\n",
        "M67-S126 yes!!!!!!! 103\n",
        "M67-S9"
       ]
      },
      {
       "output_type": "stream",
       "stream": "stdout",
       "text": [
        " yes!!!!!!! 104\n",
        "M67-S120 yes!!!!!!! 105\n",
        "M67-S123 yes!!!!!!! 106\n",
        "M67-396 yes!!!!!!! 107\n",
        "M67-506 yes!!!!!!! 108\n",
        "M67-S297 yes!!!!!!! 109\n",
        "M67-S279 yes!!!!!!! 110\n",
        "M67-538 yes!!!!!!! 111\n",
        "M67-549 yes!!!!!!! 112\n",
        "M67-S8"
       ]
      },
      {
       "output_type": "stream",
       "stream": "stdout",
       "text": [
        " yes!!!!!!! 113\n",
        "M67-S83 yes!!!!!!! 114\n",
        "M67-558 yes!!!!!!! 115\n",
        "M67-S196 yes!!!!!!! 116\n",
        "M67-512 yes!!!!!!! 117\n",
        "M67-S34 yes!!!!!!! 118\n",
        "M67-S132 yes!!!!!!! 119\n",
        "M67-S59"
       ]
      },
      {
       "output_type": "stream",
       "stream": "stdout",
       "text": [
        " yes!!!!!!! 120\n",
        "M67-S50 yes!!!!!!! 121\n",
        "M67-S591 yes!!!!!!! 122\n",
        "M67-443 yes!!!!!!! 123\n",
        "M67-409 yes!!!!!!! 124\n",
        "M67-S230 yes!!!!!!! 125\n",
        "M67-499 yes!!!!!!! 126\n",
        "M67-S622 yes!!!!!!! 127\n",
        "M67-546 yes!!!!!!! 128\n",
        "M67-S216 yes!!!!!!! 129\n",
        "M67-414 yes!!!!!!! 130\n",
        "M67-402 yes!!!!!!! 131\n",
        "M67-S202 yes!!!!!!! 132\n",
        "M67-S303 yes!!!!!!! 133\n",
        "M67-S93"
       ]
      },
      {
       "output_type": "stream",
       "stream": "stdout",
       "text": [
        " yes!!!!!!! 134\n",
        "M67-S133 yes!!!!!!! 135\n",
        "M67-S6 yes!!!!!!! 136\n",
        "M67-S191 yes!!!!!!! 137\n",
        "M67-S131 yes!!!!!!! 138\n",
        "M67-383 yes!!!!!!! 139\n",
        "M67-S336 yes!!!!!!! 140\n",
        "M67-418 yes!!!!!!! 141\n",
        "M67-385 yes!!!!!!! 142\n",
        "M67-S474 yes!!!!!!! 143\n",
        "M67-S317 yes!!!!!!! 144\n",
        "M67-562 yes!!!!!!! 145\n",
        "M67-S626 yes!!!!!!! 146\n",
        "M67-S523"
       ]
      },
      {
       "output_type": "stream",
       "stream": "stdout",
       "text": [
        " yes!!!!!!! 147\n",
        "M67-S327 yes!!!!!!! 148\n",
        "M67-S565 yes!!!!!!! 149\n",
        "M67-S307 yes!!!!!!! 150\n",
        "M67-444 yes!!!!!!! 151\n",
        "M67-S1 yes!!!!!!! 152\n",
        "M67-381 yes!!!!!!! 153\n",
        "M67-S318 yes!!!!!!! 154\n",
        "M67-393 yes!!!!!!! 155\n",
        "M67-S326 yes!!!!!!! 156\n",
        "M67-560 yes!!!!!!! 157\n",
        "M67-395 yes!!!!!!! 158\n",
        "M67-S642 yes!!!!!!! 159\n",
        "M67-564 yes!!!!!!! 160\n",
        "M67-S305 yes!!!!!!! 161\n",
        "M67-S115"
       ]
      },
      {
       "output_type": "stream",
       "stream": "stdout",
       "text": [
        " yes!!!!!!! 162\n",
        "M67-S19 yes!!!!!!! 163\n",
        "M67-S2 yes!!!!!!! 164\n",
        "M67-S135 yes!!!!!!! 165\n",
        "M67-S73 yes!!!!!!! 166\n",
        "M67-531 yes!!!!!!! 167\n",
        "M67-S539 yes!!!!!!! 168\n",
        "M67-S271 yes!!!!!!! 169\n",
        "M67-S180 yes!!!!!!! 170\n",
        "M67-S516 yes!!!!!!! 171\n",
        "M67-S347 yes!!!!!!! 172\n",
        "M67-496 yes!!!!!!! 173\n",
        "M67-424 yes!!!!!!! 174\n",
        "M67-S252 yes!!!!!!! 175\n",
        "M67-S171 yes!!!!!!! 176\n",
        "M67-378 yes!!!!!!! 177\n",
        "M67-S342 yes!!!!!!! 178\n",
        "M67-S299"
       ]
      },
      {
       "output_type": "stream",
       "stream": "stdout",
       "text": [
        " yes!!!!!!! 179\n",
        "M67-432 yes!!!!!!! 180\n",
        "M67-S3 yes!!!!!!! 181\n",
        "M67-S4 yes!!!!!!! 182\n",
        "M67-S110 yes!!!!!!! 183\n",
        "M67-386 yes!!!!!!! 184\n",
        "M67-449 yes!!!!!!! 185\n",
        "M67-556 yes!!!!!!! 186\n",
        "M67-S485"
       ]
      },
      {
       "output_type": "stream",
       "stream": "stdout",
       "text": [
        " yes!!!!!!! 187\n",
        "M67-S496 yes!!!!!!! 188\n",
        "M67-S194 yes!!!!!!! 189\n",
        "M67-S172 yes!!!!!!! 190\n",
        "M67-S272 yes!!!!!!! 191\n",
        "M67-S617 yes!!!!!!! 192\n",
        "M67-S479 yes!!!!!!! 193\n",
        "M67-525 yes!!!!!!! 194\n",
        "M67-S339"
       ]
      },
      {
       "output_type": "stream",
       "stream": "stdout",
       "text": [
        " yes!!!!!!! 195\n",
        "M67-S285 yes!!!!!!! 196\n",
        "M67-S48 yes!!!!!!! 197\n",
        "M67-S139 yes!!!!!!! 198\n",
        "M67-S69 yes!!!!!!! 199\n",
        "M67-S461 yes!!!!!!! 200\n",
        "M67-484 yes!!!!!!! 201\n",
        "M67-S283 yes!!!!!!! 202\n",
        "M67-582 yes!!!!!!! 203\n",
        "M67-S452 yes!!!!!!! 204\n",
        "M67-S174 yes!!!!!!! 205\n",
        "M67-580"
       ]
      },
      {
       "output_type": "stream",
       "stream": "stdout",
       "text": [
        " yes!!!!!!! 206\n",
        "M67-S654 yes!!!!!!! 207\n",
        "M67-S187 yes!!!!!!! 208\n",
        "M67-S141 yes!!!!!!! 209\n",
        "M67-530"
       ]
      },
      {
       "output_type": "stream",
       "stream": "stdout",
       "text": [
        " yes!!!!!!! 210\n",
        "M67-S328 yes!!!!!!! 211\n",
        "M67-S338 yes!!!!!!! 212\n",
        "M67-S167"
       ]
      },
      {
       "output_type": "stream",
       "stream": "stdout",
       "text": [
        " yes!!!!!!! 213\n",
        "M67-S217 yes!!!!!!! 214\n",
        "M67-375 yes!!!!!!! 215\n",
        "M67-S364 yes!!!!!!! 216\n",
        "M67-S304 yes!!!!!!! 217\n",
        "M67-570 yes!!!!!!! 218\n",
        "M67-590"
       ]
      },
      {
       "output_type": "stream",
       "stream": "stdout",
       "text": [
        " yes!!!!!!! 219\n",
        "M67-S627 yes!!!!!!! 220\n",
        "M67-S175"
       ]
      },
      {
       "output_type": "stream",
       "stream": "stdout",
       "text": [
        " yes!!!!!!! 221\n",
        "M67-S360 yes!!!!!!! 222\n",
        "M67-S457"
       ]
      },
      {
       "output_type": "stream",
       "stream": "stdout",
       "text": [
        " yes!!!!!!! 223\n",
        "M67-573 yes!!!!!!! 224\n",
        "M67-577"
       ]
      },
      {
       "output_type": "stream",
       "stream": "stdout",
       "text": [
        " yes!!!!!!! 225\n",
        "M67-S337"
       ]
      },
      {
       "output_type": "stream",
       "stream": "stdout",
       "text": [
        " yes!!!!!!! 226\n",
        "M67-S345"
       ]
      },
      {
       "output_type": "stream",
       "stream": "stdout",
       "text": [
        " yes!!!!!!! 227\n",
        "M67-IV-202"
       ]
      },
      {
       "output_type": "stream",
       "stream": "stdout",
       "text": [
        " yes!!!!!!! 228\n",
        "M67-T626"
       ]
      },
      {
       "output_type": "stream",
       "stream": "stdout",
       "text": [
        " yes!!!!!!! 229\n"
       ]
      }
     ],
     "prompt_number": 52
    },
    {
     "cell_type": "code",
     "collapsed": false,
     "input": [
      "table[goodStars[0]].columns['Com']"
     ],
     "language": "python",
     "metadata": {},
     "outputs": [
      {
       "ename": "IndexError",
       "evalue": "arrays used as indices must be of integer (or boolean) type",
       "output_type": "pyerr",
       "traceback": [
        "\u001b[0;31m---------------------------------------------------------------------------\u001b[0m\n\u001b[0;31mIndexError\u001b[0m                                Traceback (most recent call last)",
        "\u001b[0;32m<ipython-input-53-e6938757c956>\u001b[0m in \u001b[0;36m<module>\u001b[0;34m()\u001b[0m\n\u001b[0;32m----> 1\u001b[0;31m \u001b[0mtable\u001b[0m\u001b[0;34m[\u001b[0m\u001b[0mgoodStars\u001b[0m\u001b[0;34m[\u001b[0m\u001b[0;36m0\u001b[0m\u001b[0;34m]\u001b[0m\u001b[0;34m]\u001b[0m\u001b[0;34m.\u001b[0m\u001b[0mcolumns\u001b[0m\u001b[0;34m[\u001b[0m\u001b[0;34m'Com'\u001b[0m\u001b[0;34m]\u001b[0m\u001b[0;34m\u001b[0m\u001b[0m\n\u001b[0m",
        "\u001b[0;32m/Users/Carlos/Library/Enthought/Canopy_64bit/User/lib/python2.7/site-packages/astropy-1.1.dev12755-py2.7-macosx-10.6-x86_64.egg/astropy/table/table.pyc\u001b[0m in \u001b[0;36m__getitem__\u001b[0;34m(self, item)\u001b[0m\n\u001b[1;32m    883\u001b[0m             \u001b[0;31m# is produced by np.where, as in t[np.where(t['a'] > 2)]\u001b[0m\u001b[0;34m\u001b[0m\u001b[0;34m\u001b[0m\u001b[0m\n\u001b[1;32m    884\u001b[0m             \u001b[0;31m# For all, a new table is constructed with slice of all columns\u001b[0m\u001b[0;34m\u001b[0m\u001b[0;34m\u001b[0m\u001b[0m\n\u001b[0;32m--> 885\u001b[0;31m             \u001b[0;32mreturn\u001b[0m \u001b[0mself\u001b[0m\u001b[0;34m.\u001b[0m\u001b[0m_new_from_slice\u001b[0m\u001b[0;34m(\u001b[0m\u001b[0mitem\u001b[0m\u001b[0;34m)\u001b[0m\u001b[0;34m\u001b[0m\u001b[0m\n\u001b[0m\u001b[1;32m    886\u001b[0m         \u001b[0;32melse\u001b[0m\u001b[0;34m:\u001b[0m\u001b[0;34m\u001b[0m\u001b[0m\n\u001b[1;32m    887\u001b[0m             raise ValueError('Illegal type {0} for table item access'\n",
        "\u001b[0;32m/Users/Carlos/Library/Enthought/Canopy_64bit/User/lib/python2.7/site-packages/astropy-1.1.dev12755-py2.7-macosx-10.6-x86_64.egg/astropy/table/table.pyc\u001b[0m in \u001b[0;36m_new_from_slice\u001b[0;34m(self, slice_)\u001b[0m\n\u001b[1;32m    553\u001b[0m         \u001b[0mcols\u001b[0m \u001b[0;34m=\u001b[0m \u001b[0mself\u001b[0m\u001b[0;34m.\u001b[0m\u001b[0mcolumns\u001b[0m\u001b[0;34m.\u001b[0m\u001b[0mvalues\u001b[0m\u001b[0;34m(\u001b[0m\u001b[0;34m)\u001b[0m\u001b[0;34m\u001b[0m\u001b[0m\n\u001b[1;32m    554\u001b[0m         \u001b[0mnames\u001b[0m \u001b[0;34m=\u001b[0m \u001b[0;34m[\u001b[0m\u001b[0mcol\u001b[0m\u001b[0;34m.\u001b[0m\u001b[0minfo\u001b[0m\u001b[0;34m.\u001b[0m\u001b[0mname\u001b[0m \u001b[0;32mfor\u001b[0m \u001b[0mcol\u001b[0m \u001b[0;32min\u001b[0m \u001b[0mcols\u001b[0m\u001b[0;34m]\u001b[0m\u001b[0;34m\u001b[0m\u001b[0m\n\u001b[0;32m--> 555\u001b[0;31m         \u001b[0mnewcols\u001b[0m \u001b[0;34m=\u001b[0m \u001b[0;34m[\u001b[0m\u001b[0mcol\u001b[0m\u001b[0;34m[\u001b[0m\u001b[0mslice_\u001b[0m\u001b[0;34m]\u001b[0m \u001b[0;32mfor\u001b[0m \u001b[0mcol\u001b[0m \u001b[0;32min\u001b[0m \u001b[0mcols\u001b[0m\u001b[0;34m]\u001b[0m\u001b[0;34m\u001b[0m\u001b[0m\n\u001b[0m\u001b[1;32m    556\u001b[0m \u001b[0;34m\u001b[0m\u001b[0m\n\u001b[1;32m    557\u001b[0m         \u001b[0;31m# Mixin column classes are not responsible for copying column attributes\u001b[0m\u001b[0;34m\u001b[0m\u001b[0;34m\u001b[0m\u001b[0m\n",
        "\u001b[0;32m/Users/Carlos/Library/Enthought/Canopy_64bit/User/lib/python2.7/site-packages/astropy-1.1.dev12755-py2.7-macosx-10.6-x86_64.egg/astropy/table/column.pyc\u001b[0m in \u001b[0;36m__getitem__\u001b[0;34m(self, item)\u001b[0m\n\u001b[1;32m   1070\u001b[0m \u001b[0;34m\u001b[0m\u001b[0m\n\u001b[1;32m   1071\u001b[0m     \u001b[0;32mdef\u001b[0m \u001b[0m__getitem__\u001b[0m\u001b[0;34m(\u001b[0m\u001b[0mself\u001b[0m\u001b[0;34m,\u001b[0m \u001b[0mitem\u001b[0m\u001b[0;34m)\u001b[0m\u001b[0;34m:\u001b[0m\u001b[0;34m\u001b[0m\u001b[0m\n\u001b[0;32m-> 1072\u001b[0;31m         \u001b[0mout\u001b[0m \u001b[0;34m=\u001b[0m \u001b[0msuper\u001b[0m\u001b[0;34m(\u001b[0m\u001b[0mMaskedColumn\u001b[0m\u001b[0;34m,\u001b[0m \u001b[0mself\u001b[0m\u001b[0;34m)\u001b[0m\u001b[0;34m.\u001b[0m\u001b[0m__getitem__\u001b[0m\u001b[0;34m(\u001b[0m\u001b[0mitem\u001b[0m\u001b[0;34m)\u001b[0m\u001b[0;34m\u001b[0m\u001b[0m\n\u001b[0m\u001b[1;32m   1073\u001b[0m \u001b[0;34m\u001b[0m\u001b[0m\n\u001b[1;32m   1074\u001b[0m         \u001b[0;31m# Fixes issue #3023: when calling getitem with a MaskedArray subclass\u001b[0m\u001b[0;34m\u001b[0m\u001b[0;34m\u001b[0m\u001b[0m\n",
        "\u001b[0;32m/Users/Carlos/Library/Enthought/Canopy_64bit/User/lib/python2.7/site-packages/astropy-1.1.dev12755-py2.7-macosx-10.6-x86_64.egg/astropy/table/column.pyc\u001b[0m in \u001b[0;36m__getitem__\u001b[0;34m(self, item)\u001b[0m\n\u001b[1;32m    276\u001b[0m             \u001b[0;32mreturn\u001b[0m \u001b[0mself\u001b[0m\u001b[0;34m.\u001b[0m\u001b[0mdata\u001b[0m\u001b[0;34m[\u001b[0m\u001b[0mitem\u001b[0m\u001b[0;34m]\u001b[0m  \u001b[0;31m# Return as plain ndarray or ma.MaskedArray\u001b[0m\u001b[0;34m\u001b[0m\u001b[0m\n\u001b[1;32m    277\u001b[0m         \u001b[0;32melse\u001b[0m\u001b[0;34m:\u001b[0m\u001b[0;34m\u001b[0m\u001b[0m\n\u001b[0;32m--> 278\u001b[0;31m             \u001b[0;32mreturn\u001b[0m \u001b[0msuper\u001b[0m\u001b[0;34m(\u001b[0m\u001b[0mBaseColumn\u001b[0m\u001b[0;34m,\u001b[0m \u001b[0mself\u001b[0m\u001b[0;34m)\u001b[0m\u001b[0;34m.\u001b[0m\u001b[0m__getitem__\u001b[0m\u001b[0;34m(\u001b[0m\u001b[0mitem\u001b[0m\u001b[0;34m)\u001b[0m\u001b[0;34m\u001b[0m\u001b[0m\n\u001b[0m\u001b[1;32m    279\u001b[0m \u001b[0;34m\u001b[0m\u001b[0m\n\u001b[1;32m    280\u001b[0m     \u001b[0;31m# avoid == and != to be done based on type of subclass\u001b[0m\u001b[0;34m\u001b[0m\u001b[0;34m\u001b[0m\u001b[0m\n",
        "\u001b[0;32m/opt/local/Library/Frameworks/Python.framework/Versions/2.7/lib/python2.7/site-packages/numpy/ma/core.pyc\u001b[0m in \u001b[0;36m__getitem__\u001b[0;34m(self, indx)\u001b[0m\n\u001b[1;32m   3042\u001b[0m \u001b[0;31m#            raise IndexError(msg)\u001b[0m\u001b[0;34m\u001b[0m\u001b[0;34m\u001b[0m\u001b[0m\n\u001b[1;32m   3043\u001b[0m         \u001b[0m_data\u001b[0m \u001b[0;34m=\u001b[0m \u001b[0mndarray\u001b[0m\u001b[0;34m.\u001b[0m\u001b[0mview\u001b[0m\u001b[0;34m(\u001b[0m\u001b[0mself\u001b[0m\u001b[0;34m,\u001b[0m \u001b[0mndarray\u001b[0m\u001b[0;34m)\u001b[0m\u001b[0;34m\u001b[0m\u001b[0m\n\u001b[0;32m-> 3044\u001b[0;31m         \u001b[0mdout\u001b[0m \u001b[0;34m=\u001b[0m \u001b[0mndarray\u001b[0m\u001b[0;34m.\u001b[0m\u001b[0m__getitem__\u001b[0m\u001b[0;34m(\u001b[0m\u001b[0m_data\u001b[0m\u001b[0;34m,\u001b[0m \u001b[0mindx\u001b[0m\u001b[0;34m)\u001b[0m\u001b[0;34m\u001b[0m\u001b[0m\n\u001b[0m\u001b[1;32m   3045\u001b[0m         \u001b[0;31m# We could directly use ndarray.__getitem__ on self...\u001b[0m\u001b[0;34m\u001b[0m\u001b[0;34m\u001b[0m\u001b[0m\n\u001b[1;32m   3046\u001b[0m         \u001b[0;31m# But then we would have to modify __array_finalize__ to prevent the\u001b[0m\u001b[0;34m\u001b[0m\u001b[0;34m\u001b[0m\u001b[0m\n",
        "\u001b[0;31mIndexError\u001b[0m: arrays used as indices must be of integer (or boolean) type"
       ]
      }
     ],
     "prompt_number": 53
    },
    {
     "cell_type": "code",
     "collapsed": false,
     "input": [
      "table.write('aa.tex')"
     ],
     "language": "python",
     "metadata": {},
     "outputs": []
    }
   ],
   "metadata": {}
  }
 ]
}