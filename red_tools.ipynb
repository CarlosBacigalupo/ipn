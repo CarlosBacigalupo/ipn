{
 "metadata": {
  "name": ""
 },
 "nbformat": 3,
 "nbformat_minor": 0,
 "worksheets": [
  {
   "cells": [
    {
     "cell_type": "code",
     "collapsed": false,
     "input": [
      "import glob\n",
      "import os\n",
      "import numpy as np\n",
      "import pyfits as pf\n",
      "from scipy import signal, interpolate, optimize, constants\n",
      "import pylab as plt\n",
      "import pickle\n",
      "import TableBrowser as TB\n",
      "import toolbox\n",
      "import pandas\n"
     ],
     "language": "python",
     "metadata": {},
     "outputs": [],
     "prompt_number": 2
    },
    {
     "cell_type": "code",
     "collapsed": false,
     "input": [
      "class star():\n",
      "    \n",
      "    name = ''\n",
      "    RA_dec = 0\n",
      "    Dec_dec = 0\n",
      "    Vmag = 0\n",
      "    \n",
      "    def __init__(self, name, xDef = 1, booWrite = False):\n",
      "        \n",
      "        self.load_star_data(name = namse)\n",
      "        self.exposures = exposures()\n",
      "        self.exposures.load_exposures(name = self.name, xDef = xDef) #class containing exposures for this star\n",
      "        self.calculate_baryVels()\n",
      "        \n",
      "        if booWrite==True:\n",
      "            file_pi = open(self.name + '.obj', 'w')\n",
      "            pickle.dump(self, file_pi) \n",
      "\n",
      "    def calculate_baryVels(self):\n",
      "        baryVels = []\n",
      "        for j in self.exposures.JDs:\n",
      "            vh, vb = toolbox.baryvel(j+2400000+0.5) \n",
      "            ra = self.RA_dec    #RA  in radians\n",
      "            dec = self.Dec_dec  #Dec in radians\n",
      "            baryVels.append(-(vb[0]*np.cos(dec)*np.cos(ra) + vb[1]*np.cos(dec)*np.sin(ra) + vb[2]*np.sin(dec))*1000)\n",
      "#         print baryVels\n",
      "        self.red_baryVels = np.array(baryVels) - baryVels[0]\n",
      "        self.abs_baryVels = np.array(baryVels)\n",
      "\n",
      "\n",
      "        \n",
      "        \n",
      "    def load_star_data(self, name):\n",
      "        \n",
      "        stetson_df = pandas.read_pickle('stetson.pd')\n",
      "        os.chdir('cam1/')\n",
      "        files = glob.glob('*red.fits')\n",
      "        for thisFile in files:\n",
      "            a = pf.open(thisFile)\n",
      "            b = a['FIBRES'].data\n",
      "            idx = b.field('NAME').strip()==name\n",
      "            \n",
      "            if b[idx].shape[0] >0:\n",
      "                starInfo = b[idx][0]\n",
      "                \n",
      "                self.name = starInfo.field('NAME').strip()\n",
      "                self.RA_dec = starInfo.field('RA')\n",
      "                self.Dec_dec = starInfo.field('DEC')        \n",
      "                self.RA_h, self.RA_min, self.RA_sec = toolbox.dec2sex(self.RA_dec/15)   \n",
      "                self.Dec_deg, self.Dec_min, self.Dec_sec = toolbox.dec2sex(self.Dec_dec)\n",
      "                self.Vmag = starInfo.field('MAGNITUDE')\n",
      "            \n",
      "                self.B = stetson_df[stetson_df.target == self.name].B.values[0]\n",
      "                self.I = stetson_df[stetson_df.target == self.name].I.values[0]\n",
      "                self.R = stetson_df[stetson_df.target == self.name].R.values[0]\n",
      "                self.U = stetson_df[stetson_df.target == self.name].U.values[0]\n",
      "                self.V = stetson_df[stetson_df.target == self.name].mag.values[0]\n",
      "                self.BV = stetson_df[stetson_df.target == self.name].BV.values[0]\n",
      "    \n",
      "        os.chdir('..')\n"
     ],
     "language": "python",
     "metadata": {},
     "outputs": [],
     "prompt_number": 11
    },
    {
     "cell_type": "code",
     "collapsed": false,
     "input": [
      "class camera():\n",
      "    \n",
      "#     raw_fluxes = []\n",
      "    red_fluxes =  []\n",
      "    wavelengths = []\n",
      "    CCCurves = []\n",
      "    clean_fluxes = []\n",
      "    clean_wavelengths  = []\n",
      "    Ps = []\n",
      "    shfted_wavelengths = []\n",
      "    sigmas = []\n",
      "    RVs = []\n",
      "    fileNames = []\n",
      "    safe_flag = []\n",
      "    \n",
      "    def __init__(self):\n",
      "            pass\n",
      "        \n",
      "        \n",
      "        "
     ],
     "language": "python",
     "metadata": {},
     "outputs": []
    },
    {
     "cell_type": "code",
     "collapsed": false,
     "input": [
      "class exposures():\n",
      "\n",
      "    def __init__(self):\n",
      "        self.UTdates = []\n",
      "        self.UTstarts = []\n",
      "        self.UTends = []\n",
      "        self.lengths = []\n",
      "        self.cam1_fluxes = []\n",
      "        self.cam1_raw_fluxes = []\n",
      "        self.cam1_wavelengths = []\n",
      "        self.cam1_fileNames = []\n",
      "        self.cam1_RVs = RVs()\n",
      "        self.cam2_fluxes = []\n",
      "        self.cam2_raw_fluxes = []\n",
      "        self.cam2_wavelengths = []\n",
      "        self.cam2_fileNames = []\n",
      "        self.cam2_RVs = RVs()\n",
      "        self.cam3_fluxes = []\n",
      "        self.cam3_raw_fluxes = []\n",
      "        self.cam3_wavelengths = []\n",
      "        self.cam3_fileNames = []\n",
      "        self.cam3_RVs = RVs()\n",
      "        self.cam4_fluxes = []\n",
      "        self.cam4_raw_fluxes = []\n",
      "        self.cam4_wavelengths = []\n",
      "        self.cam4_fileNames = []\n",
      "        self.cam4_RVs = RVs()\n",
      "        self.JDs = []\n",
      "        self.HRs = []\n",
      "        self.plates = []\n",
      "        self.fibres = []\n",
      "        self.pivots = []\n",
      "\n",
      "        \n",
      "    def load_exposures(self, name, xDef = 1):\n",
      "        for thisCam in range(1,5):\n",
      "            os.chdir('cam'+str(thisCam)+'/')\n",
      "#             print os.curdir\n",
      "            files = glob.glob('*red.fits')    \n",
      "            for thisFile in files:    \n",
      "                \n",
      "                HDUList = pf.open(thisFile)\n",
      "                fibreTable = HDUList['FIBRES'].data            \n",
      "                idx = fibreTable.field('NAME').strip()==name\n",
      "                \n",
      "                print thisFile, np.sum(idx)\n",
      "                \n",
      "    \n",
      "                if np.sum(idx)>0:  #star found in fits file \n",
      "                    self.plates.append(HDUList[0].header['SOURCE'])\n",
      "                    self.pivots.append(fibreTable.field('PIVOT')[idx][0])\n",
      "                    if thisCam == 1:\n",
      "                        self.UTdates.append(HDUList[0].header['UTDATE'])\n",
      "                        self.UTstarts.append(HDUList[0].header['UTSTART'])\n",
      "                        self.UTends.append(HDUList[0].header['UTEND'])\n",
      "                        self.lengths.append(HDUList[0].header['EXPOSED'])\n",
      "                        self.JDs.append(HDUList[0].header['UTMJD'])\n",
      "                        if HDUList[0].header['SLITMASK'].strip()=='OUT':\n",
      "                            self.HRs.append(False)\n",
      "                        else:\n",
      "                            self.HRs.append(True)\n",
      "                        self.cam1_fluxes.append(HDUList[0].data[idx][0])\n",
      "                        self.cam1_wavelengths.append(self.extract_HERMES_wavelength(HDUList[0].header))\n",
      "                        self.cam1_fileNames.append(thisFile)\n",
      "                        \n",
      "                        #raw data extraction\n",
      "                        for i in HDUList[0].header[:]:\n",
      "                            if i.key=='HISTORY':\n",
      "                                if i.value.find('tlm')>0:\n",
      "                                    tramFile=i.value[-18:]\n",
      "                        origFile = HDUList[0].header['FILEORIG'][-15:]\n",
      "                        tram = pf.getdata(tramFile)\n",
      "                        ymax=(np.max(tram[idx])+1).astype(int)\n",
      "                        ymin=(np.min(tram[idx])-1).astype(int)\n",
      "                        orig = pf.getdata(origFile)\n",
      "                        thisFlux = np.sum(orig[ymin:ymax,:],0)\n",
      "                        self.cam1_raw_fluxes.append(thisFlux)\n",
      "                        \n",
      "#                         print thisCam, np.mean(self.cams[thisCam - 1].wavelengths[0])    \n",
      "\n",
      "                    elif thisCam == 2:\n",
      "                        self.cam2_fluxes.append(HDUList[0].data[idx][0])\n",
      "                        self.cam2_wavelengths.append(self.extract_HERMES_wavelength(HDUList[0].header))\n",
      "                        self.cam2_fileNames.append(thisFile)\n",
      "#                         print thisCam, np.mean(self.cams[thisCam - 1].wavelengths[0])    \n",
      "                        \n",
      "                        #raw data extraction\n",
      "                        for i in HDUList[0].header[:]:\n",
      "                            if i.key=='HISTORY':\n",
      "                                if i.value.find('tlm')>0:\n",
      "                                    tramFile=i.value[-18:]\n",
      "                        origFile = HDUList[0].header['FILEORIG'][-15:]\n",
      "                        tram = pf.getdata(tramFile)\n",
      "                        ymax=(np.max(tram[idx])+1).astype(int)\n",
      "                        ymin=(np.min(tram[idx])-1).astype(int)\n",
      "                        orig = pf.getdata(origFile)\n",
      "                        thisFlux = np.sum(orig[ymin:ymax,:],0)\n",
      "                        self.cam2_raw_fluxes.append(thisFlux)\n",
      "                                                   \n",
      "                    elif thisCam == 3:\n",
      "                        self.cam3_fluxes.append(HDUList[0].data[idx][0])\n",
      "                        self.cam3_wavelengths.append(self.extract_HERMES_wavelength(HDUList[0].header))\n",
      "                        self.cam3_fileNames.append(thisFile)\n",
      "#                         print thisCam, np.mean(self.cams[thisCam - 1].wavelengths[0])    \n",
      "                        \n",
      "                        #raw data extraction\n",
      "                        for i in HDUList[0].header[:]:\n",
      "                            if i.key=='HISTORY':\n",
      "                                if i.value.find('tlm')>0:\n",
      "                                    tramFile=i.value[-18:]\n",
      "                        origFile = HDUList[0].header['FILEORIG'][-15:]\n",
      "                        tram = pf.getdata(tramFile)\n",
      "                        ymax=(np.max(tram[idx])+1).astype(int)\n",
      "                        ymin=(np.min(tram[idx])-1).astype(int)\n",
      "                        orig = pf.getdata(origFile)\n",
      "                        thisFlux = np.sum(orig[ymin:ymax,:],0)\n",
      "                        self.cam3_raw_fluxes.append(thisFlux)\n",
      "                                                   \n",
      "                    elif thisCam == 4:\n",
      "                        self.cam4_fluxes.append(HDUList[0].data[idx][0])\n",
      "                        self.cam4_wavelengths.append(self.extract_HERMES_wavelength(HDUList[0].header))\n",
      "                        self.cam4_fileNames.append(thisFile)\n",
      "                        \n",
      "                        #raw data extraction\n",
      "                        for i in HDUList[0].header[:]:\n",
      "                            if i.key=='HISTORY':\n",
      "                                if i.value.find('tlm')>0:\n",
      "                                    tramFile=i.value[-18:]\n",
      "                        origFile = HDUList[0].header['FILEORIG'][-15:]\n",
      "                        tram = pf.getdata(tramFile)\n",
      "                        ymax=(np.max(tram[idx])+1).astype(int)\n",
      "                        ymin=(np.min(tram[idx])-1).astype(int)\n",
      "                        orig = pf.getdata(origFile)\n",
      "                        thisFlux = np.sum(orig[ymin:ymax,:],0)\n",
      "                        self.cam4_raw_fluxes.append(thisFlux)\n",
      "\n",
      "            sortOrder = np.argsort(self.JDs)         \n",
      "            if thisCam == 1:\n",
      "                self.UTdates = np.array(self.UTdates)[sortOrder]\n",
      "                self.UTstarts = np.array(self.UTstarts)[sortOrder]\n",
      "                self.UTends = np.array(self.UTends)[sortOrder]\n",
      "                self.lengths = np.array(self.lengths)[sortOrder]\n",
      "                self.JDs = np.array(self.JDs)[sortOrder]\n",
      "                self.HRs = np.array(self.HRs)[sortOrder]\n",
      "                self.cam1_fluxes = np.array(self.cam1_fluxes)[sortOrder]\n",
      "                self.cam1_wavelengths = np.array(self.cam1_wavelengths)[sortOrder]\n",
      "                self.cam1_fileNames = np.array(self.cam1_fileNames)[sortOrder]\n",
      "                self.cam1_raw_fluxes = np.array(self.cam1_raw_fluxes)[sortOrder]\n",
      "\n",
      "                self.cam1_RVs.bulk_calculate_RV(self.cam1_wavelengths, self.cam1_fluxes, xDef)\n",
      "\n",
      "            elif thisCam == 2:\n",
      "                self.cam2_fluxes = np.array(self.cam2_fluxes)[sortOrder]\n",
      "                self.cam2_wavelengths = np.array(self.cam2_wavelengths)[sortOrder]\n",
      "                self.cam2_fileNames = np.array(self.cam2_fileNames)[sortOrder]\n",
      "                self.cam2_raw_fluxes = np.array(self.cam2_raw_fluxes)[sortOrder]\n",
      "    \n",
      "                self.cam2_RVs.bulk_calculate_RV(self.cam2_wavelengths, self.cam2_fluxes, xDef)\n",
      "                                           \n",
      "            elif thisCam == 3:\n",
      "                self.cam3_fluxes = np.array(self.cam3_fluxes)[sortOrder]\n",
      "                self.cam3_wavelengths = np.array(self.cam3_wavelengths)[sortOrder]\n",
      "                self.cam3_fileNames = np.array(self.cam3_fileNames)[sortOrder]\n",
      "                self.cam3_raw_fluxes = np.array(self.cam3_raw_fluxes)[sortOrder]\n",
      "    \n",
      "                self.cam3_RVs.bulk_calculate_RV(self.cam3_wavelengths, self.cam3_fluxes, xDef)\n",
      "                                           \n",
      "            elif thisCam == 4:\n",
      "                self.cam4_fluxes = np.array(self.cam4_fluxes)[sortOrder]\n",
      "                self.cam4_wavelengths = np.array(self.cam4_wavelengths)[sortOrder]\n",
      "                self.cam4_fileNames = np.array(self.cam4_fileNames)[sortOrder]\n",
      "                self.cam4_raw_fluxes = np.array(self.cam4_raw_fluxes)[sortOrder]\n",
      "\n",
      "                self.cam4_RVs.bulk_calculate_RV(self.cam4_wavelengths, self.cam4_fluxes, xDef)\n",
      "                                                   \n",
      "\n",
      "#3 sigma elimination\n",
      "#\n",
      "#             meanRV = np.mean(self.cams[thisCam - 1].RVs.RVs)\n",
      "#             sigRV = np.std(self.cams[thisCam - 1].RVs.RVs)\n",
      "#             errRV = np.abs(self.cams[thisCam - 1].RVs.RVs-meanRV)\n",
      "            \n",
      "#             threeSigMap = errRV < 3*sigRV\n",
      "    \n",
      "#             self.UTdates = np.array(self.UTdates)[threeSigMap]\n",
      "#             self.UTstarts = np.array(self.UTstarts)[threeSigMap]\n",
      "#             self.UTends = np.array(self.UTends)[threeSigMap]\n",
      "#             self.lengths = np.array(self.lengths)[threeSigMap]\n",
      "#             self.JDs = np.array(self.JDs)[threeSigMap]\n",
      "#             self.HRs = np.array(self.HRs)[threeSigMap]\n",
      "#             self.cams[thisCam - 1].fluxes = np.array(self.cams[thisCam - 1].fluxes)[threeSigMap]\n",
      "#             self.cams[thisCam - 1].wavelengths = np.array(self.cams[thisCam - 1].wavelengths)[threeSigMap]\n",
      "#             self.cams[thisCam - 1].fileNames = np.array(self.cams[thisCam - 1].fileNames)[threeSigMap]\n",
      "#             self.cams[thisCam - 1].RVs.RVs = np.array(self.cams[thisCam - 1].RVs.RVs)[threeSigMap]\n",
      "\n",
      "            os.chdir('..')\n",
      "            \n",
      "    def extract_HERMES_wavelength(self, header):\n",
      "        \n",
      "        CRVAL1 = header['CRVAL1'] # / Co-ordinate value of axis 1                    \n",
      "        CDELT1 = header['CDELT1'] #  / Co-ordinate increment along axis 1             \n",
      "        CRPIX1 = header['CRPIX1'] #  / Reference pixel along axis 1                   \n",
      "        \n",
      "        #Creates an array of offset wavelength from the referece px/wavelength\n",
      "        Lambda = CRVAL1 - (CRPIX1 - (np.arange(int(CRPIX1)*2)) -1)* CDELT1\n",
      "    \n",
      "        return Lambda\n"
     ],
     "language": "python",
     "metadata": {},
     "outputs": [],
     "prompt_number": 15
    },
    {
     "cell_type": "code",
     "collapsed": false,
     "input": [
      "'''This class is meant to group all RV tools. Has been superseeded by RVTools.py'''\n",
      "class RVs():\n",
      "    from scipy import constants,signal, optimize\n",
      "\n",
      "    \n",
      "    def __init__(self):\n",
      "        self.c = constants.speed_of_light\n",
      "        self.RVs = []\n",
      "        \n",
      "    def bulk_calculate_RV(self, wavelengths, fluxes, xDef = 1, xDef2 = 0):\n",
      "        self.RVs = []\n",
      "        for i in range(len(wavelengths)):\n",
      "            print 'Procesing RV ',i\n",
      "            self.RVs.append(self.calculate_RV(wavelengths[0],fluxes[0], wavelengths[i],fluxes[i], xDef = xDef, xDef2 = xDef2))\n",
      "\n",
      "    def bulk_calculate_abs_RV(self, wavelengths, fluxes, refWavelength, refFlux, xDef = 1, xDef2 = 0):\n",
      "        self.RVs = []\n",
      "        for i in range(len(wavelengths)):\n",
      "            print 'Procesing RV ',i\n",
      "            self.RVs.append(self.calculate_RV( wavelengths[i],fluxes[i],refWavelength, refFlux, xDef = xDef, xDef2 = xDef2))\n",
      "        \n",
      "        \n",
      "    def calculate_RV(self, lambda1, flux1, lambda2, flux2, xDef = 1, xDef2 = 0):\n",
      "        lambda1Clean, flux1Clean = self.clean_flux(flux1, xDef, lambda1)\n",
      "        if xDef2 == 0: xDef2 = xDef\n",
      "        lambda2Clean, flux2Clean = self.clean_flux(flux2, xDef2, lambda2)\n",
      "#         plt.plot(lambda1Clean, flux1Clean)\n",
      "#         plt.plot(lambda2Clean, flux2Clean)\n",
      "#         plt.show()\n",
      "        if ((lambda1Clean.shape[0]>0) &\n",
      "            (flux1Clean.shape[0]>0) &\n",
      "            (lambda2Clean.shape[0]>0) &\n",
      "            (flux2Clean.shape[0]>0)):\n",
      "            a = signal.fftconvolve(flux1Clean, flux2Clean[::-1], mode='same') \n",
      "            corrMax = np.where(a==max(a))[0][0]\n",
      "            #plt.plot(a/np.max(a))\n",
      "            p_guess = [corrMax,xDef]\n",
      "#             print 'p_guess',p_guess\n",
      "            x_mask = np.arange(corrMax-50, corrMax+50)\n",
      "            p = self.fit_gaussian(p_guess, a[x_mask], np.arange(len(a))[x_mask])[0]\n",
      "#             print 'final p', p\n",
      "            #plt.plot(self.gaussian(np.arange(len(a)),p_guess[0],p_guess[1]))\n",
      "            corrPeak = p[0]\n",
      "#            print 'corr',corrPeak\n",
      "            #plt.plot(self.gaussian(np.arange(len(a)),p[0],p[1]))\n",
      "            #plt.show()\n",
      "            centralLambda = lambda2Clean[len(lambda2Clean)/2]\n",
      "            shiftLambda = lambda2Clean[corrPeak] - centralLambda\n",
      "            RV = self.c/centralLambda * shiftLambda\n",
      "        else:\n",
      "            RV = 0\n",
      "\n",
      "        print 'RV', RV\n",
      "        return RV        \n",
      "    \n",
      "    def clean_flux(self,flux, xDef = 1, lambdas = np.array([])):\n",
      "        '''clean a flux array to cross corralate to determine RV shift\n",
      "            eliminates NaNs\n",
      "            moving median to reduce peaks\n",
      "            optional: increase resolution by xDef times\n",
      "            \n",
      "        '''\t\n",
      "        \n",
      "        #Copy to output in case of no resampling\n",
      "        fluxHD = flux\n",
      "        newLambdas = lambdas\n",
      "        \n",
      "        \n",
      "        #clean NaNs and median outliers\t\n",
      "        fluxHD[np.isnan(fluxHD)] = 0\n",
      "        fluxNeat = fluxHD\t\n",
      "        fluxMed = signal.medfilt(fluxHD,5)\n",
      "        w = np.where(abs((fluxHD-fluxMed)/np.maximum(fluxMed,50)) > 0.4)\n",
      "        for ix in w[0]:\n",
      "            fluxNeat[ix] = fluxMed[ix]\n",
      "\n",
      "        #if enough data -> resample\n",
      "        if ((xDef>1) and (len(lambdas)>0)):\n",
      "            fFluxHD = interpolate.interp1d(lambdas,fluxNeat) \n",
      "            lambdas = np.arange(min(lambdas), max(lambdas),(max(lambdas)-min(lambdas))/len(lambdas)/xDef)\n",
      "            fluxNeat = fFluxHD(lambdas)\n",
      "        \n",
      "        #remove trailing zeros, devide by fitted curve (flatten) and apply tukey window\n",
      "        fluxNeat = np.trim_zeros(fluxNeat,'f') \n",
      "        lambdas = lambdas[-len(fluxNeat):]\n",
      "        fluxNeat = np.trim_zeros(fluxNeat,'b') \n",
      "        lambdas = lambdas[:len(fluxNeat)]\n",
      "        \n",
      "        if ((lambdas.shape[0]>0) &  (fluxNeat.shape[0]>0)):\n",
      "            fFluxNeat = optimize.curve_fit(self.cubic, lambdas, fluxNeat, p0 = [1,1,1,1])\n",
      "            fittedCurve = self.cubic(lambdas, fFluxNeat[0][0], fFluxNeat[0][1], fFluxNeat[0][2], fFluxNeat[0][3])\n",
      "        # \tplt.plot(fittedCurve)\n",
      "        # \tplt.plot(fluxNeat)\n",
      "        # \tplt.show()\n",
      "        # \tplt.plot(fluxNeat/fittedCurve-1)\n",
      "        # \tplt.show()\n",
      "            \n",
      "            fluxFlat = fluxNeat/fittedCurve-1\n",
      "            \n",
      "            fluxWindow = fluxFlat * self.tukey(0.1, len(fluxFlat))\n",
      "        else:\n",
      "            fluxWindow = np.array([])\n",
      "            print 'empty after removing zeros'\n",
      "            \n",
      "        return lambdas, fluxWindow\n",
      "\n",
      "    def cubic(self,x,a,b,c,d):\n",
      "        return a*x**3+b*x**2+c*x+d\n",
      "    \n",
      "    def gaussian(self, x, mu, sig):\n",
      "        return np.exp(-np.power(x - mu, 2.) / 2 / np.power(sig, 2.))\n",
      "\n",
      "    def fit_gaussian(self, p, flux, x_range):\n",
      "        a = optimize.leastsq(self.diff_gausian, p, args= [flux, x_range])\n",
      "#         plt.show()\n",
      "        return a\n",
      "        \n",
      "    def diff_gausian(self, p, args):\n",
      "        \n",
      "        flux = args[0]\n",
      "        x_range = args[1]\n",
      "#         print p\n",
      "        diff = self.gaussian(x_range, p[0],p[1]) - flux/np.max(flux)\n",
      "#         print 'diff', diff\n",
      "#         plt.plot(diff)\n",
      "#         plt.title(p)\n",
      "        return diff\n",
      "\n",
      "    def tukey(self, \n",
      "              alpha, N):\n",
      "\n",
      "        tukey = np.zeros(N)\n",
      "        for i in range(int(alpha*(N-1)/2)):\n",
      "            tukey[i] = 0.5*(1+np.cos(np.pi*(2*i/alpha/(N-1)-1)))\n",
      "        for i in range(int(alpha*(N-1)/2),int((N-1)*(1-alpha/2))):\n",
      "            tukey[i] = 1\n",
      "        for i in range(int((N-1)*(1-alpha/2)),int((N-1))):\n",
      "            tukey[i] = 0.5*(1+np.cos(np.pi*(2*i/alpha/(N-1)-2/alpha+1)))\n",
      "        \n",
      "        return tukey\n"
     ],
     "language": "python",
     "metadata": {},
     "outputs": [],
     "prompt_number": 16
    },
    {
     "cell_type": "code",
     "collapsed": false,
     "input": [
      "#adds stetson's BVRIU\n",
      "# for i in allStarNames:\n",
      "    \n",
      "#     search = i.strip()\n",
      "\n",
      "#     if np.sum(stetson_df.target == search)>0:\n",
      "#         print search        \n",
      "#         filehandler = open(i.strip()+'.obj', 'r') \n",
      "#         thisStar = pickle.load(filehandler) \n",
      "# #         os.remove(i.strip()+'.obj')\n",
      "#         thisStar.B = stetson_df[stetson_df.target == search].B.values[0],\n",
      "#         thisStar.I = stetson_df[stetson_df.target == search].I.values[0],\n",
      "#         thisStar.R = stetson_df[stetson_df.target == search].R.values[0],\n",
      "#         thisStar.U = stetson_df[stetson_df.target == search].U.values[0],\n",
      "#         thisStar.V = stetson_df[stetson_df.target == search].mag.values[0],\n",
      "#         thisStar.BV = stetson_df[stetson_df.target == search].BV.values[0]\n",
      "    \n",
      "#         file_pi = open(i.strip()+'.obj', 'w') \n",
      "#         pickle.dump(thisStar, file_pi) \n",
      "#         file_pi.close()\n",
      "    "
     ],
     "language": "python",
     "metadata": {},
     "outputs": [],
     "prompt_number": 10
    },
    {
     "cell_type": "code",
     "collapsed": false,
     "input": [
      "# #adds synthetic spectra RV\n",
      "\n",
      "# out = load_spectrum('5000_30_m05p04_casolar.ms.fits')\n",
      "\n",
      "# for i in allStarNames[30:31]:\n",
      "    \n",
      "#     filehandler = open(i.strip()+'.obj', 'r') \n",
      "#     thisStar = pickle.load(filehandler) \n",
      "\n",
      "#     #cam1\n",
      "#     lambdaSyn = out.transpose()[0]\n",
      "#     fluxSyn = out.transpose()[1]\n",
      "    \n",
      "#     lambdas = thisStar.exposures.cam1_wavelengths\n",
      "#     fluxes = thisStar.exposures.cam1_fluxes\n",
      "#     LambdaRangeMask = ((lambdaSyn>=np.min(lambdas[0])) & (lambdaSyn<+np.max(lambdas[0])))\n",
      "#     lambdaSyn = lambdaSyn[LambdaRangeMask]\n",
      "#     fluxSyn= fluxSyn[LambdaRangeMask]\n",
      "\n",
      "#     xDef = float(lambda2.shape[0])/lambda1.shape[0]\n",
      "    \n",
      "#     thisStar.exposures.cam1_synRVs = RVs()\n",
      "#     thisStar.exposures.cam1_synRVs.bulk_calculate_abs_RV(lambdas, fluxes, lambdaSyn, fluxSyn, xDef=xDef*50, xDef2 = 50)\n",
      "\n",
      "#     #cam2\n",
      "#     lambdaSyn = out.transpose()[0]\n",
      "#     fluxSyn = out.transpose()[1]\n",
      "    \n",
      "#     lambdas = thisStar.exposures.cam2_wavelengths\n",
      "#     fluxes = thisStar.exposures.cam2_fluxes\n",
      "#     LambdaRangeMask = ((lambdaSyn>=np.min(lambdas[0])) & (lambdaSyn<+np.max(lambdas[0])))\n",
      "#     lambdaSyn = lambdaSyn[LambdaRangeMask]\n",
      "#     fluxSyn= fluxSyn[LambdaRangeMask]\n",
      "\n",
      "#     xDef = float(lambda2.shape[0])/lambda1.shape[0]\n",
      "    \n",
      "#     thisStar.exposures.cam2_synRVs = RVs()\n",
      "#     thisStar.exposures.cam2_synRVs.bulk_calculate_abs_RV(lambdas, fluxes, lambdaSyn, fluxSyn, xDef=xDef*50, xDef2 = 50)\n",
      "\n",
      "\n",
      "#     #cam3\n",
      "#     lambdaSyn = out.transpose()[0]\n",
      "#     fluxSyn = out.transpose()[1]\n",
      "    \n",
      "#     lambdas = thisStar.exposures.cam3_wavelengths\n",
      "#     fluxes = thisStar.exposures.cam3_fluxes\n",
      "#     LambdaRangeMask = ((lambdaSyn>=np.min(lambdas[0])) & (lambdaSyn<+np.max(lambdas[0])))\n",
      "#     lambdaSyn = lambdaSyn[LambdaRangeMask]\n",
      "#     fluxSyn= fluxSyn[LambdaRangeMask]\n",
      "\n",
      "#     xDef = float(lambda2.shape[0])/lambda1.shape[0]\n",
      "    \n",
      "#     thisStar.exposures.cam3_synRVs = RVs()\n",
      "#     thisStar.exposures.cam3_synRVs.bulk_calculate_abs_RV(lambdas, fluxes, lambdaSyn, fluxSyn, xDef=xDef*50, xDef2 = 50)\n",
      "    \n",
      "\n",
      "#     #cam4\n",
      "#     lambdaSyn = out.transpose()[0]\n",
      "#     fluxSyn = out.transpose()[1]\n",
      "    \n",
      "#     lambdas = thisStar.exposures.cam4_wavelengths\n",
      "#     fluxes = thisStar.exposures.cam4_fluxes\n",
      "#     LambdaRangeMask = ((lambdaSyn>=np.min(lambdas[0])) & (lambdaSyn<+np.max(lambdas[0])))\n",
      "#     lambdaSyn = lambdaSyn[LambdaRangeMask]\n",
      "#     fluxSyn= fluxSyn[LambdaRangeMask]\n",
      "\n",
      "#     xDef = float(lambda2.shape[0])/lambda1.shape[0]\n",
      "    \n",
      "#     thisStar.exposures.cam4_synRVs = RVs()\n",
      "#     thisStar.exposures.cam4_synRVs.bulk_calculate_abs_RV(lambdas, fluxes, lambdaSyn, fluxSyn, xDef=xDef*50, xDef2 = 50)\n",
      "    \n",
      "# #     file_pi = open(i.strip()+'.obj', 'w') \n",
      "# #     pickle.dump(thisStar, file_pi) \n",
      "# #     file_pi.close()\n",
      "    "
     ],
     "language": "python",
     "metadata": {},
     "outputs": [
      {
       "output_type": "stream",
       "stream": "stdout",
       "text": [
        "Procesing RV  0\n",
        "RV"
       ]
      },
      {
       "output_type": "stream",
       "stream": "stdout",
       "text": [
        " 1643489.66971\n",
        "Procesing RV  1\n",
        "RV"
       ]
      },
      {
       "output_type": "stream",
       "stream": "stdout",
       "text": [
        " 1658121.7716\n",
        "Procesing RV  2\n",
        "RV"
       ]
      },
      {
       "output_type": "stream",
       "stream": "stdout",
       "text": [
        " 1668334.27957\n",
        "Procesing RV  3\n",
        "RV"
       ]
      },
      {
       "output_type": "stream",
       "stream": "stdout",
       "text": [
        " 1568206.7564\n",
        "Procesing RV  4\n",
        "RV"
       ]
      },
      {
       "output_type": "stream",
       "stream": "stdout",
       "text": [
        " 1557394.98145\n",
        "Procesing RV  5\n",
        "RV"
       ]
      },
      {
       "output_type": "stream",
       "stream": "stdout",
       "text": [
        " 1656573.66525\n",
        "Procesing RV  6\n",
        "RV"
       ]
      },
      {
       "output_type": "stream",
       "stream": "stdout",
       "text": [
        " 1555746.99728\n",
        "Procesing RV  7\n",
        "RV"
       ]
      },
      {
       "output_type": "stream",
       "stream": "stdout",
       "text": [
        " 1558868.17942\n",
        "Procesing RV  8\n",
        "RV"
       ]
      },
      {
       "output_type": "stream",
       "stream": "stdout",
       "text": [
        " 1683365.89278\n",
        "Procesing RV  9\n",
        "RV"
       ]
      },
      {
       "output_type": "stream",
       "stream": "stdout",
       "text": [
        " 1559991.80499\n",
        "Procesing RV  10\n",
        "RV"
       ]
      },
      {
       "output_type": "stream",
       "stream": "stdout",
       "text": [
        " 1563038.07877\n",
        "Procesing RV  11\n",
        "RV"
       ]
      },
      {
       "output_type": "stream",
       "stream": "stdout",
       "text": [
        " 1594674.38098\n",
        "Procesing RV  12\n",
        "RV"
       ]
      },
      {
       "output_type": "stream",
       "stream": "stdout",
       "text": [
        " 1562363.90342\n",
        "Procesing RV  13\n",
        "RV"
       ]
      },
      {
       "output_type": "stream",
       "stream": "stdout",
       "text": [
        " 1643514.63916\n",
        "Procesing RV  14\n",
        "RV"
       ]
      },
      {
       "output_type": "stream",
       "stream": "stdout",
       "text": [
        " -123848.507471\n",
        "Procesing RV  15\n",
        "RV"
       ]
      },
      {
       "output_type": "stream",
       "stream": "stdout",
       "text": [
        " 1642366.04414\n",
        "Procesing RV  0\n",
        "RV"
       ]
      },
      {
       "output_type": "stream",
       "stream": "stdout",
       "text": [
        " 20268.7825926\n",
        "Procesing RV  1\n",
        "RV"
       ]
      },
      {
       "output_type": "stream",
       "stream": "stdout",
       "text": [
        " -5532524.4444\n",
        "Procesing RV  2\n",
        "RV"
       ]
      },
      {
       "output_type": "stream",
       "stream": "stdout",
       "text": [
        " 2682617.07679\n",
        "Procesing RV  3\n",
        "RV"
       ]
      },
      {
       "output_type": "stream",
       "stream": "stdout",
       "text": [
        " 21163.6056434\n",
        "Procesing RV  4\n",
        "RV"
       ]
      },
      {
       "output_type": "stream",
       "stream": "stdout",
       "text": [
        " 21995.999179\n",
        "Procesing RV  5\n",
        "RV"
       ]
      },
      {
       "output_type": "stream",
       "stream": "stdout",
       "text": [
        " 20601.7400068\n",
        "Procesing RV  6\n",
        "RV"
       ]
      },
      {
       "output_type": "stream",
       "stream": "stdout",
       "text": [
        " 20164.7334006\n",
        "Procesing RV  7\n",
        "RV"
       ]
      },
      {
       "output_type": "stream",
       "stream": "stdout",
       "text": [
        " 21558.9925728\n",
        "Procesing RV  8\n",
        "RV"
       ]
      },
      {
       "output_type": "stream",
       "stream": "stdout",
       "text": [
        " 19436.3890569\n",
        "Procesing RV  9\n",
        "RV"
       ]
      },
      {
       "output_type": "stream",
       "stream": "stdout",
       "text": [
        " 21683.8516031\n",
        "Procesing RV  10\n",
        "RV"
       ]
      },
      {
       "output_type": "stream",
       "stream": "stdout",
       "text": [
        " 21121.9859666\n",
        "Procesing RV  11\n",
        "RV"
       ]
      },
      {
       "output_type": "stream",
       "stream": "stdout",
       "text": [
        " 21808.7106335\n",
        "Procesing RV  12\n",
        "RV"
       ]
      },
      {
       "output_type": "stream",
       "stream": "stdout",
       "text": [
        " 12964.5293174\n",
        "Procesing RV  13\n",
        "RV"
       ]
      },
      {
       "output_type": "stream",
       "stream": "stdout",
       "text": [
        " 10071.9617811\n",
        "Procesing RV  14\n",
        "RV"
       ]
      },
      {
       "output_type": "stream",
       "stream": "stdout",
       "text": [
        " 11133.263539\n",
        "Procesing RV  15\n",
        "RV"
       ]
      },
      {
       "output_type": "stream",
       "stream": "stdout",
       "text": [
        " 11362.1717613\n",
        "Procesing RV  0\n",
        "RV"
       ]
      },
      {
       "output_type": "stream",
       "stream": "stdout",
       "text": [
        " 351087.080899\n",
        "Procesing RV  1\n",
        "RV"
       ]
      },
      {
       "output_type": "stream",
       "stream": "stdout",
       "text": [
        " 364488.597055\n",
        "Procesing RV  2\n",
        "RV"
       ]
      },
      {
       "output_type": "stream",
       "stream": "stdout",
       "text": [
        " 359320.218023\n",
        "Procesing RV  3\n",
        "RV"
       ]
      },
      {
       "output_type": "stream",
       "stream": "stdout",
       "text": [
        " 365123.31027\n",
        "Procesing RV  4\n",
        "RV"
       ]
      },
      {
       "output_type": "stream",
       "stream": "stdout",
       "text": [
        " 357144.058431\n",
        "Procesing RV  5\n",
        "RV"
       ]
      },
      {
       "output_type": "stream",
       "stream": "stdout",
       "text": [
        " 359918.661911\n",
        "Procesing RV  6\n",
        "RV"
       ]
      },
      {
       "output_type": "stream",
       "stream": "stdout",
       "text": [
        " 361242.49233\n",
        "Procesing RV  7\n",
        "RV"
       ]
      },
      {
       "output_type": "stream",
       "stream": "stdout",
       "text": [
        " 357234.731747\n",
        "Procesing RV  8\n",
        "RV"
       ]
      },
      {
       "output_type": "stream",
       "stream": "stdout",
       "text": [
        " 361043.011034\n",
        "Procesing RV  9\n",
        "RV"
       ]
      },
      {
       "output_type": "stream",
       "stream": "stdout",
       "text": [
        " 358467.88885\n",
        "Procesing RV  10\n",
        "RV"
       ]
      },
      {
       "output_type": "stream",
       "stream": "stdout",
       "text": [
        " 367644.028464\n",
        "Procesing RV  11\n",
        "RV"
       ]
      },
      {
       "output_type": "stream",
       "stream": "stdout",
       "text": [
        " 364706.213014\n",
        "Procesing RV  12\n",
        "RV"
       ]
      },
      {
       "output_type": "stream",
       "stream": "stdout",
       "text": [
        " 350289.155715\n",
        "Procesing RV  13\n",
        "RV"
       ]
      },
      {
       "output_type": "stream",
       "stream": "stdout",
       "text": [
        " 348675.170684\n",
        "Procesing RV  14\n",
        "RV"
       ]
      },
      {
       "output_type": "stream",
       "stream": "stdout",
       "text": [
        " 345048.23803\n",
        "Procesing RV  15\n",
        "RV"
       ]
      },
      {
       "output_type": "stream",
       "stream": "stdout",
       "text": [
        " 350488.637011\n",
        "Procesing RV  0\n",
        "RV"
       ]
      },
      {
       "output_type": "stream",
       "stream": "stdout",
       "text": [
        " -644096.594672\n",
        "Procesing RV  1\n",
        "RV"
       ]
      },
      {
       "output_type": "stream",
       "stream": "stdout",
       "text": [
        " -735451.113966\n",
        "Procesing RV  2\n",
        "RV"
       ]
      },
      {
       "output_type": "stream",
       "stream": "stdout",
       "text": [
        " -643709.433631\n",
        "Procesing RV  3\n",
        "RV"
       ]
      },
      {
       "output_type": "stream",
       "stream": "stdout",
       "text": [
        " -643337.759031\n",
        "Procesing RV  4\n",
        "RV"
       ]
      },
      {
       "output_type": "stream",
       "stream": "stdout",
       "text": [
        " -643616.514981\n",
        "Procesing RV  5\n",
        "RV"
       ]
      },
      {
       "output_type": "stream",
       "stream": "stdout",
       "text": [
        " -642888.652223\n",
        "Procesing RV  6\n",
        "RV"
       ]
      },
      {
       "output_type": "stream",
       "stream": "stdout",
       "text": [
        " -643926.243814\n",
        "Procesing RV  7\n",
        "RV"
       ]
      },
      {
       "output_type": "stream",
       "stream": "stdout",
       "text": [
        " -643244.840381\n",
        "Procesing RV  8\n",
        "RV"
       ]
      },
      {
       "output_type": "stream",
       "stream": "stdout",
       "text": [
        " -1239937.43716\n",
        "Procesing RV  9\n",
        "RV"
       ]
      },
      {
       "output_type": "stream",
       "stream": "stdout",
       "text": [
        " -644251.459088\n",
        "Procesing RV  10\n",
        "RV"
       ]
      },
      {
       "output_type": "stream",
       "stream": "stdout",
       "text": [
        " -734878.115625\n",
        "Procesing RV  11\n",
        "RV"
       ]
      },
      {
       "output_type": "stream",
       "stream": "stdout",
       "text": [
        " -609716.694208\n",
        "Procesing RV  12\n",
        "RV"
       ]
      },
      {
       "output_type": "stream",
       "stream": "stdout",
       "text": [
        " -642532.464065\n",
        "Procesing RV  13\n",
        "RV"
       ]
      },
      {
       "output_type": "stream",
       "stream": "stdout",
       "text": [
        " -642377.599649\n",
        "Procesing RV  14\n",
        "RV"
       ]
      },
      {
       "output_type": "stream",
       "stream": "stdout",
       "text": [
        " -642873.165781\n",
        "Procesing RV  15\n",
        "RV"
       ]
      },
      {
       "output_type": "stream",
       "stream": "stdout",
       "text": [
        " -643353.245473\n"
       ]
      }
     ],
     "prompt_number": 27
    },
    {
     "cell_type": "code",
     "collapsed": false,
     "input": [
      "# filehandler = open(allStarNames[79].strip()+'.obj', 'r') \n",
      "# thisStar = pickle.load(filehandler) "
     ],
     "language": "python",
     "metadata": {},
     "outputs": [],
     "prompt_number": 11
    },
    {
     "cell_type": "code",
     "collapsed": false,
     "input": [
      "# baryVels = []\n",
      "# for j in thisStar.exposures.JDs:\n",
      "#     vh, vb = toolbox.baryvel(j+2400000+0.5) \n",
      "#     ra = thisStar.RA_dec    #RA  in radians\n",
      "#     dec = thisStar.Dec_dec  #Dec in radians\n",
      "#     baryVels.append(-(vb[0]*np.cos(dec)*np.cos(ra) + vb[1]*np.cos(dec)*np.sin(ra) + vb[2]*np.sin(dec))*1000)\n",
      "# #         print baryVels\n",
      "# thisStar.baryVels = np.array(baryVels) - baryVels[0]\n",
      "# thisStar.absBaryVels = np.array(baryVels)\n"
     ],
     "language": "python",
     "metadata": {},
     "outputs": [],
     "prompt_number": 29
    },
    {
     "cell_type": "code",
     "collapsed": false,
     "input": [
      "# plt.scatter(thisStar.exposures.JDs, thisStar.exposures.cam1_synRVs.RVs)\n",
      "# plt.scatter(thisStar.exposures.JDs, thisStar.exposures.cam2_synRVs.RVs)\n",
      "# plt.scatter(thisStar.exposures.JDs, thisStar.exposures.cam3_synRVs.RVs)\n",
      "# plt.scatter(thisStar.exposures.JDs, thisStar.exposures.cam4_synRVs.RVs)\n",
      "# plt.scatter(thisStar.exposures.JDs, thisStar.exposures.cam1_synRVs.RVs+thisStar.absBaryVels, color = 'g')\n",
      "# plt.scatter(thisStar.exposures.JDs, thisStar.exposures.cam2_synRVs.RVs+thisStar.absBaryVels, color = 'g')\n",
      "# plt.scatter(thisStar.exposures.JDs, thisStar.exposures.cam3_synRVs.RVs+thisStar.absBaryVels, color = 'g')\n",
      "# plt.scatter(thisStar.exposures.JDs, thisStar.exposures.cam4_synRVs.RVs+thisStar.absBaryVels, color = 'g')\n",
      "# plt.plot(thisStar.exposures.JDs, thisStar.absBaryVels)\n",
      "# plt.show()"
     ],
     "language": "python",
     "metadata": {},
     "outputs": [],
     "prompt_number": 46
    },
    {
     "cell_type": "code",
     "collapsed": false,
     "input": [
      "# # calculates RVs from synthetic spcetra\n",
      "# out = load_spectrum('5000_30_m05p04_casolar.ms.fits')\n",
      "# lambdaSyn = out.transpose()[0]\n",
      "# fluxSyn = out.transpose()[1]\n",
      "\n",
      "# lambdas = thisStar.exposures.cam2_wavelengths\n",
      "# fluxes = thisStar.exposures.cam2_fluxes\n",
      "# lambda1 = lambdas[8]\n",
      "# flux1 = fluxes[8]\n",
      "# LambdaRangeMask = ((lambdaSyn>=np.min(lambda1)) & (lambdaSyn<+np.max(lambda1)))\n",
      "# lambdaSyn = lambdaSyn[LambdaRangeMask]\n",
      "# fluxSyn= fluxSyn[LambdaRangeMask]\n",
      "# lambda2 = lambdaSyn\n",
      "# flux2 = fluxSyn\n",
      "# xDef = float(lambda2.shape[0])/lambda1.shape[0]"
     ],
     "language": "python",
     "metadata": {},
     "outputs": [],
     "prompt_number": 15
    },
    {
     "cell_type": "code",
     "collapsed": false,
     "input": [
      "# testRV.bulk_calculate_abs_RV(lambdas, fluxes, lambda2, flux2, xDef=xDef*50, xDef2 = 50)"
     ],
     "language": "python",
     "metadata": {},
     "outputs": [
      {
       "output_type": "stream",
       "stream": "stdout",
       "text": [
        "Procesing RV  0\n",
        "RV"
       ]
      },
      {
       "output_type": "stream",
       "stream": "stdout",
       "text": [
        " 25866.6291197\n",
        "Procesing RV  1\n",
        "RV"
       ]
      },
      {
       "output_type": "stream",
       "stream": "stdout",
       "text": [
        " 25783.3897661\n",
        "Procesing RV  2\n",
        "RV"
       ]
      },
      {
       "output_type": "stream",
       "stream": "stdout",
       "text": [
        " 25783.3897661\n",
        "Procesing RV  3\n",
        "RV"
       ]
      },
      {
       "output_type": "stream",
       "stream": "stdout",
       "text": [
        " 12839.6702871\n",
        "Procesing RV  4\n",
        "RV"
       ]
      },
      {
       "output_type": "stream",
       "stream": "stdout",
       "text": [
        " 12881.2899639\n",
        "Procesing RV  5\n",
        "RV"
       ]
      },
      {
       "output_type": "stream",
       "stream": "stdout",
       "text": [
        " 12818.8604487\n",
        "Procesing RV  6\n",
        "RV"
       ]
      },
      {
       "output_type": "stream",
       "stream": "stdout",
       "text": [
        " 11424.6012765\n",
        "Procesing RV  7\n",
        "RV"
       ]
      },
      {
       "output_type": "stream",
       "stream": "stdout",
       "text": [
        " 27801.94409\n",
        "Procesing RV  8\n",
        "RV"
       ]
      },
      {
       "output_type": "stream",
       "stream": "stdout",
       "text": [
        " 27968.4227972\n",
        "Procesing RV  9\n",
        "RV"
       ]
      },
      {
       "output_type": "stream",
       "stream": "stdout",
       "text": [
        " 27989.2326355\n",
        "Procesing RV  10\n",
        "RV"
       ]
      },
      {
       "output_type": "stream",
       "stream": "stdout",
       "text": [
        " 28218.1408578\n",
        "Procesing RV  11\n",
        "RV"
       ]
      },
      {
       "output_type": "stream",
       "stream": "stdout",
       "text": [
        " 28280.570373\n",
        "Procesing RV  12\n",
        "RV"
       ]
      },
      {
       "output_type": "stream",
       "stream": "stdout",
       "text": [
        " 28280.570373\n",
        "Procesing RV  13\n",
        "RV"
       ]
      },
      {
       "output_type": "stream",
       "stream": "stdout",
       "text": [
        " 12548.3325496\n",
        "Procesing RV  14\n",
        "RV"
       ]
      },
      {
       "output_type": "stream",
       "stream": "stdout",
       "text": [
        " 14109.0704289\n",
        "Procesing RV  15\n",
        "RV"
       ]
      },
      {
       "output_type": "stream",
       "stream": "stdout",
       "text": [
        " 12881.2899639\n",
        "Procesing RV  16\n",
        "RV"
       ]
      },
      {
       "output_type": "stream",
       "stream": "stdout",
       "text": [
        " 12922.9096406\n",
        "Procesing RV  17\n",
        "empty after removing zeros"
       ]
      },
      {
       "output_type": "stream",
       "stream": "stdout",
       "text": [
        "\n",
        "RV"
       ]
      },
      {
       "output_type": "stream",
       "stream": "stdout",
       "text": [
        " 0\n",
        "Procesing RV  18\n",
        "empty after removing zeros"
       ]
      },
      {
       "output_type": "stream",
       "stream": "stdout",
       "text": [
        "\n",
        "RV"
       ]
      },
      {
       "output_type": "stream",
       "stream": "stdout",
       "text": [
        " 0\n",
        "Procesing RV  19\n",
        "empty after removing zeros"
       ]
      },
      {
       "output_type": "stream",
       "stream": "stdout",
       "text": [
        "\n",
        "RV"
       ]
      },
      {
       "output_type": "stream",
       "stream": "stdout",
       "text": [
        " 0\n",
        "Procesing RV  20\n",
        "RV"
       ]
      },
      {
       "output_type": "stream",
       "stream": "stdout",
       "text": [
        " 28488.6687569\n",
        "Procesing RV  21\n",
        "RV"
       ]
      },
      {
       "output_type": "stream",
       "stream": "stdout",
       "text": [
        " 28530.2884337\n",
        "Procesing RV  22\n",
        "RV"
       ]
      },
      {
       "output_type": "stream",
       "stream": "stdout",
       "text": [
        " 28571.9081105\n",
        "Procesing RV  23\n",
        "RV"
       ]
      },
      {
       "output_type": "stream",
       "stream": "stdout",
       "text": [
        " 28613.5277873\n",
        "Procesing RV  24\n",
        "RV"
       ]
      },
      {
       "output_type": "stream",
       "stream": "stdout",
       "text": [
        " 28675.9573024\n",
        "Procesing RV  25\n",
        "RV"
       ]
      },
      {
       "output_type": "stream",
       "stream": "stdout",
       "text": [
        " 28738.3868176\n",
        "Procesing RV  26\n",
        "RV"
       ]
      },
      {
       "output_type": "stream",
       "stream": "stdout",
       "text": [
        " 4307.63654688\n",
        "Procesing RV  27\n",
        "RV"
       ]
      },
      {
       "output_type": "stream",
       "stream": "stdout",
       "text": [
        " 4266.0168701\n",
        "Procesing RV  28\n",
        "RV"
       ]
      },
      {
       "output_type": "stream",
       "stream": "stdout",
       "text": [
        " 4266.0168701\n"
       ]
      }
     ],
     "prompt_number": 24
    },
    {
     "cell_type": "code",
     "collapsed": false,
     "input": [
      "# lambda1Clean, flux1Clean = testRV.clean_flux(flux1, xDef*100, lambda1)\n",
      "# lambda2Clean, flux2Clean = testRV.clean_flux(flux2, 100, lambda2)"
     ],
     "language": "python",
     "metadata": {},
     "outputs": []
    },
    {
     "cell_type": "code",
     "collapsed": false,
     "input": [
      "\n",
      "# plt.plot(lambda1Clean, flux1Clean)\n",
      "# plt.plot(lambda2Clean, flux2Clean)\n",
      "# plt.show()\n",
      "# # # # if ((lambda1Clean.shape[0]>0) &\n",
      "# # # #     (flux1Clean.shape[0]>0) &\n",
      "# # # #     (lambda2Clean.shape[0]>0) &\n",
      "# # # #     (flux2Clean.shape[0]>0)):\n",
      "# a = signal.fftconvolve(flux1Clean, flux1Clean[::-1], mode='same') \n",
      "# b = signal.fftconvolve(flux1Clean, flux1Clean[::-1], mode='full') \n",
      "# c = signal.fftconvolve(flux1Clean, flux1Clean[::-1], mode='valid') \n",
      "# # # #     corrPeak = np.where(a==max(a))[0][0]\n",
      "# # # #     centralLambda = lambda2Clean[len(lambda2Clean)/2]\n",
      "# # # #     shiftLambda = centralLambda - lambda2Clean[corrPeak]\n",
      "# # # #     RV = self.c/centralLambda * shiftLambda\n",
      "# # # # else:\n",
      "# # # #     RV = 0\n"
     ],
     "language": "python",
     "metadata": {},
     "outputs": [],
     "prompt_number": 20
    },
    {
     "cell_type": "code",
     "collapsed": false,
     "input": [
      "# plt.plot(a)\n",
      "# plt.plot(b)\n",
      "# plt.plot(c)\n",
      "# plt.show()"
     ],
     "language": "python",
     "metadata": {},
     "outputs": [],
     "prompt_number": 21
    },
    {
     "cell_type": "code",
     "collapsed": false,
     "input": [
      "# a = np.array([0,1,0])\n",
      "# b = np.array([0,1,0,0])\n",
      "# c = signal.fftconvolve(a, b[::-1], mode = 'same') "
     ],
     "language": "python",
     "metadata": {},
     "outputs": [],
     "prompt_number": 22
    },
    {
     "cell_type": "code",
     "collapsed": false,
     "input": [
      "# a = signal.fftconvolve(flux1Clean, flux2Clean[::-1], mode='same') "
     ],
     "language": "python",
     "metadata": {},
     "outputs": []
    },
    {
     "cell_type": "code",
     "collapsed": false,
     "input": [
      "# plt.plot(lambda2Clean, a)\n",
      "# mid = lambda2Clean[len(lambda2Clean)/2]\n",
      "# plt.plot([mid,mid], [0,np.max(a)])\n",
      "# plt.show()"
     ],
     "language": "python",
     "metadata": {},
     "outputs": []
    },
    {
     "cell_type": "code",
     "collapsed": false,
     "input": [
      "# corrPeak = np.where(a==max(a))[0][0]\n",
      "# centralLambda = lambda2Clean[len(lambda2Clean)/2]\n",
      "# shiftLambda = centralLambda - lambda1Clean[corrPeak]\n",
      "# print shiftLambda"
     ],
     "language": "python",
     "metadata": {},
     "outputs": []
    },
    {
     "cell_type": "code",
     "collapsed": false,
     "input": [
      "# testRV.c/centralLambda * shiftLambda"
     ],
     "language": "python",
     "metadata": {},
     "outputs": []
    },
    {
     "cell_type": "code",
     "collapsed": false,
     "input": [],
     "language": "python",
     "metadata": {},
     "outputs": []
    },
    {
     "cell_type": "code",
     "collapsed": false,
     "input": [
      "# # CRVAL1 = a[0].header['CRVAL1'] # / Co-ordinate value of axis 1                    \n",
      "# # CDELT1 = a[0].header['CDELT1'] #  / Co-ordinate increment along axis 1             \n",
      "# # CRPIX1 = a[0].header['CRPIX1'] #  / Reference pixel along axis 1                   \n",
      "\n",
      "# # #Creates an array of offset wavelength from the referece px/wavelength\n",
      "# # Lambda = CRVAL1 - (CRPIX1 - (np.arange(int(CRPIX1)*2)) -1)* CDELT1\n",
      "# # print Lambda.shape\n",
      "# plt.plot(Lambda[::10],flux[::10])\n",
      "# plt.plot(thisStar.exposures.cam1_wavelengths[0], thisStar.exposures.cam1_fluxes[0]/np.median(thisStar.exposures.cam1_fluxes[0]) , color = 'b')\n",
      "# plt.plot(thisStar.exposures.cam2_wavelengths[0], thisStar.exposures.cam2_fluxes[0]/np.median(thisStar.exposures.cam2_fluxes[0]) , color = 'g')\n",
      "# plt.plot(thisStar.exposures.cam3_wavelengths[0], thisStar.exposures.cam3_fluxes[0]/np.median(thisStar.exposures.cam3_fluxes[0]) , color = 'r')\n",
      "# plt.plot(thisStar.exposures.cam4_wavelengths[0], thisStar.exposures.cam4_fluxes[0]/np.median(thisStar.exposures.cam4_fluxes[0]) , color = 'cyan')\n",
      "# plt.show()"
     ],
     "language": "python",
     "metadata": {},
     "outputs": []
    },
    {
     "cell_type": "code",
     "collapsed": false,
     "input": [
      "# def get_wavelength(start_wave, wave_per_pixel, size):\n",
      "#     \"\"\"\n",
      "#     Obtain an array of wavelengths according to input values.\n",
      "\n",
      "#     Parameters\n",
      "#     ----------\n",
      "\n",
      "#     start_wave: float,\n",
      "#         Starting wavelength.\n",
      "\n",
      "#     wave_per_pixel: float,\n",
      "#         Wavelength per pixel.\n",
      "\n",
      "#     size: int,\n",
      "#         Size of array.\n",
      "\n",
      "#     Returns\n",
      "#     -------\n",
      "\n",
      "#     wave_array: numpy.ndarray,\n",
      "#         Wavelength array\n",
      "#     \"\"\"\n",
      "    \n",
      "#     return np.array([start_wave + i*wave_per_pixel for i in range(size)])\n",
      "\n",
      "\n",
      "# def get_wstart(ref, wave_ref, wave_per_pixel):\n",
      "#     \"\"\"\n",
      "#     Obtain the starting wavelength of a spectrum.\n",
      "\n",
      "#     Parameters\n",
      "#     ----------\n",
      "\n",
      "#     ref: int,\n",
      "#         Reference pixel.\n",
      "    \n",
      "#     wave_ref: float,\n",
      "#         Coordinate at reference pixel.\n",
      "\n",
      "#     wave_per_pixel: float,\n",
      "#         Coordinate increase per pixel.\n",
      "\n",
      "#     Returns\n",
      "#     -------\n",
      "\n",
      "#     wstart: float,\n",
      "#         Starting wavelength.\n",
      "#     \"\"\"\n",
      "    \n",
      "#     return wave_ref - ((ref-1) * wave_per_pixel)\n",
      "\n",
      "\n",
      "# def get_wavelength(start_wave, wave_per_pixel, size):\n",
      "#     \"\"\"\n",
      "#     Obtain an array of wavelengths according to input values.\n",
      "\n",
      "#     Parameters\n",
      "#     ----------\n",
      "\n",
      "#     start_wave: float,\n",
      "#         Starting wavelength.\n",
      "\n",
      "#     wave_per_pixel: float,\n",
      "#         Wavelength per pixel.\n",
      "\n",
      "#     size: int,\n",
      "#         Size of array.\n",
      "\n",
      "#     Returns\n",
      "#     -------\n",
      "\n",
      "#     wave_array: numpy.ndarray,\n",
      "#         Wavelength array\n",
      "#     \"\"\"\n",
      "    \n",
      "#     return np.array([start_wave + i*wave_per_pixel for i in range(size)])\n",
      "\n",
      "# def load_spectrum(fname):\n",
      "#     \"\"\"\n",
      "#     Loads the spectrum in FITS format to a numpy.darray.\n",
      "\n",
      "#     Parameters\n",
      "#     ----------\n",
      "\n",
      "#     fname: str,\n",
      "#         File name of the FITS spectrum.\n",
      "\n",
      "#     Returns\n",
      "#     -------\n",
      "\n",
      "#     spectrum: ndarray,\n",
      "#         Spectrum array with wavelength and flux.\n",
      "#     \"\"\"\n",
      "    \n",
      "#     # Load spectrum\n",
      "#     spec_FITS = pf.open(fname)\n",
      "#     #Load flux\n",
      "#     flux = spec_FITS[0].data[0]\n",
      "    \n",
      "#     #Obtain parameters for wavelength determination from header\n",
      "#     ref_pixel = spec_FITS[0].header['CRPIX1']       #Reference pixel\n",
      "#     coord_ref_pixel = spec_FITS[0].header['CRVAL1'] #Wavelength at reference pixel\n",
      "#     wave_pixel = spec_FITS[0].header['CDELT1']      #Wavelength per pixel\n",
      "    \n",
      "#     #Get starting wavelength\n",
      "#     wstart = get_wstart(ref_pixel, coord_ref_pixel, wave_pixel)\n",
      "    \n",
      "#     #Obtain array of wavelength\n",
      "#     wave = get_wavelength(wstart, wave_pixel, len(flux))\n",
      "# #     print wave\n",
      "#     return np.dstack((wave, flux))[0]"
     ],
     "language": "python",
     "metadata": {},
     "outputs": [],
     "prompt_number": 14
    },
    {
     "cell_type": "code",
     "collapsed": false,
     "input": [
      "# #plots RV/baryVel/corrRV vs JD\n",
      "# for i in allStarNames[10:40]:\n",
      "    \n",
      "#     filehandler = open(i.strip()+'.obj', 'r') \n",
      "#     thisStar = pickle.load(filehandler) \n",
      "    \n",
      "# #     thisStar.calculate_baryVels()\n",
      "    \n",
      "# #     plt.scatter(thisStar.exposures.JDs, np.array(thisStar.exposures.RVs.RVs), color = 'r', label = 'deltaRV (wrt t0)')\n",
      "# #     plt.plot(thisStar.exposures.JDs, np.array(thisStar.baryVels)/1000, color = 'r')\n",
      "    \n",
      "#     plt.scatter(thisStar.exposures.JDs, (np.array(thisStar.exposures.RVs.RVs)-np.array(thisStar.baryVels)), color = 'g', label='deltaRV(barycentre corr)')    \n",
      "#     # plt.errorbar(RV.JD, RV.cleanRV, yerr = RV.dRV ,fmt='o', label = target + '(' + str(RV.magList[0]) + ') Clean RV')\n",
      "# #     plt.errorbar(meanJDs, (np.array(meanRVs)-np.array(meanBary)), yerr = np.array(sigRV),fmt='o', color = 'g')    \n",
      "# #     plt.plot(thisStar.exposures.JDs, thisStar.baryVels, color = 'b', label = 'Barycentric Vel.')\n",
      "#     plt.title(thisStar.name)\n",
      "#     plt.ylabel('RV [m/s]')\n",
      "#     plt.xlabel('JD')\n",
      "#     #     plt.axis([np.min(i.exposures.JDs),np.max(i.exposures.JDs), np.mean((np.array(i.baryVels)-np.array(i.RVs))/1000)-5, np.mean((np.array(i.baryVels)-np.array(i.RVs))/1000)+5])\n",
      "#     plt.legend()\n",
      "# #     plt.savefig(thisStar.name)\n",
      "# #     plt.close()\n",
      "#     plt.show()"
     ],
     "language": "python",
     "metadata": {},
     "outputs": []
    }
   ],
   "metadata": {}
  }
 ]
}