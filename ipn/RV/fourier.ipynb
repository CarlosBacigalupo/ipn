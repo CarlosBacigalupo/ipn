{
 "metadata": {
  "name": "",
  "signature": "sha256:bf30280afebc8abb33dd09400628fee3136c043463f4b28ec3e89d31c5570758"
 },
 "nbformat": 3,
 "nbformat_minor": 0,
 "worksheets": [
  {
   "cells": [
    {
     "cell_type": "code",
     "collapsed": false,
     "input": [
      "import pickle\n",
      "import create_obj as cr_obj\n",
      "reload(cr_obj)\n",
      "import RVTools as RVT\n",
      "reload(RVT)\n",
      "import pylab as plt\n",
      "from scipy import signal\n",
      "import numpy as np\n",
      "from scipy import optimize, constants"
     ],
     "language": "python",
     "metadata": {},
     "outputs": [],
     "prompt_number": 52
    },
    {
     "cell_type": "code",
     "collapsed": false,
     "input": [
      "#opens a single star\n",
      "filename = '/Users/Carlos/Documents/HERMES/reductions/HD1581_6.0/uncombined/HD1581.obj'\n",
      "filehandler = open(filename, 'r')\n",
      "thisStar = pickle.load(filehandler)\n"
     ],
     "language": "python",
     "metadata": {},
     "outputs": [],
     "prompt_number": 26
    },
    {
     "cell_type": "code",
     "collapsed": false,
     "input": [
      "thisCam = thisStar.exposures.cameras[0]\n",
      "lambda1, flux1 = RVT.clean_flux(thisCam.wavelengths[0], thisCam.red_fluxes[0], thisCam)\n",
      "lambda2, flux2 = RVT.clean_flux(thisCam.wavelengths[5], thisCam.red_fluxes[5], thisCam)\n",
      "\n",
      "CCCurve = signal.convolve(flux1, flux2[::-1], mode='same')\n",
      "corrMax = np.where(CCCurve==max(CCCurve))[0][0]\n",
      "p_guess = [corrMax,10]\n",
      "x_mask = np.arange(corrMax-2, corrMax+2+1)\n",
      "p = fit_gaussian(p_guess, CCCurve[x_mask], np.arange(len(CCCurve))[x_mask])[0]\n",
      "\n",
      "if np.modf(CCCurve.shape[0]/2.0)[0]>1e-5:\n",
      "    pixelShift = (p[0]-(CCCurve.shape[0]-1)/2.) #odd number of elements\n",
      "else:\n",
      "    pixelShift = (p[0]-(CCCurve.shape[0])/2.) #even number of elements\n",
      "\n",
      "# thisQ, thisdRV = QdRV(thisCam.wavelengths[i], thisCam.red_fluxes[i])\n",
      "\n",
      "RV = np.array((thisCam.wavelengths[0,1]-thisCam.wavelengths[0,0])\n",
      "              /thisCam.wavelengths[0,0]*constants.c*\n",
      "              pixelShift)\n",
      "print RV, pixelShift"
     ],
     "language": "python",
     "metadata": {},
     "outputs": [
      {
       "output_type": "stream",
       "stream": "stdout",
       "text": [
        "-278.089505315 -0.0968116832919\n"
       ]
      }
     ],
     "prompt_number": 64
    },
    {
     "cell_type": "code",
     "collapsed": false,
     "input": [
      "plt.plot(signal.convolve(flux1, flux2[::-1], mode='same'))\n",
      "plt.plot(signal.fftconvolve(flux1, flux2[::-1], mode='same'))\n",
      "plt.show()"
     ],
     "language": "python",
     "metadata": {},
     "outputs": [],
     "prompt_number": 10
    },
    {
     "cell_type": "code",
     "collapsed": false,
     "input": [
      "a = np.zeros(1000)\n",
      "a[0]=1\n",
      "b = np.zeros(1000)\n",
      "b[10]=1\n",
      "\n",
      "Fa=np.fft.fft(a)\n",
      "Fb=np.fft.fft(b)\n",
      "\n",
      "FaR = np.real(Fa)\n",
      "FbR = np.real(Fb)\n",
      "\n",
      "FaI = np.imag(Fa)\n",
      "FbI = np.imag(Fb)\n",
      "\n",
      "\n",
      "FaFb = Fa/Fb\n",
      "FaFbR = np.real(FaFb)\n",
      "FaFbI = np.imag(FaFb)"
     ],
     "language": "python",
     "metadata": {},
     "outputs": [],
     "prompt_number": 72
    },
    {
     "cell_type": "code",
     "collapsed": false,
     "input": [
      "# plt.plot(Fa, '.')\n",
      "# plt.plot(Fb, '.')\n",
      "# plt.plot(FaR,'.')\n",
      "# plt.plot(FaI,'.')\n",
      "# plt.plot(FbR,'.')\n",
      "# plt.plot(FbI,'.')\n",
      "# plt.plot(FaFb)\n",
      "plt.plot(FaFbR/np.cos(np.arange(len(a))*.061))\n",
      "plt.plot(np.cos(np.arange(len(a))*.061))\n",
      "# plt.plot(np.arcsin(FaFbI),'.')\n",
      "plt.show()"
     ],
     "language": "python",
     "metadata": {},
     "outputs": [],
     "prompt_number": 84
    },
    {
     "cell_type": "code",
     "collapsed": false,
     "input": [
      "plt.plot(np.angle(np.conjugate(np.fft.fft(flux1))*np.fft.fft(flux2)))\n",
      "plt.show()"
     ],
     "language": "python",
     "metadata": {},
     "outputs": []
    },
    {
     "cell_type": "code",
     "collapsed": false,
     "input": [
      "\n",
      "plt.plot(flux1)\n",
      "plt.plot(flux2)\n",
      "plt.show()"
     ],
     "language": "python",
     "metadata": {},
     "outputs": [],
     "prompt_number": 14
    },
    {
     "cell_type": "code",
     "collapsed": false,
     "input": [
      "ftconv = np.conjugate(np.fft.fft(flux1))*np.fft.fft(flux2)\n",
      "plt.plot(np.abs(ftconv))\n",
      "plt.show()"
     ],
     "language": "python",
     "metadata": {},
     "outputs": [],
     "prompt_number": 11
    },
    {
     "cell_type": "code",
     "collapsed": false,
     "input": [
      "ww = np.where(np.abs(ftconv) > 15)\n",
      "plt.plot(ww[0],np.angle(ftconv[ww[0]]),'.')\n",
      "plt.show()"
     ],
     "language": "python",
     "metadata": {},
     "outputs": [],
     "prompt_number": 12
    },
    {
     "cell_type": "code",
     "collapsed": false,
     "input": [
      "test = np.convolve(ftconv,np.ones(4),mode='same')"
     ],
     "language": "python",
     "metadata": {},
     "outputs": [],
     "prompt_number": 15
    },
    {
     "cell_type": "code",
     "collapsed": false,
     "input": [
      "ww = np.where(np.abs(test) > 10)\n",
      "plt.plot(ww[0],np.angle(test[ww[0]]),'.')\n",
      "plt.show()"
     ],
     "language": "python",
     "metadata": {},
     "outputs": [],
     "prompt_number": 16
    },
    {
     "cell_type": "code",
     "collapsed": false,
     "input": [
      "test = np.convolve(ftconv,np.ones(4)/4.0,mode='same')\n",
      "ww = np.where(np.abs(test) > 10)\n",
      "plt.plot(ww[0],np.angle(test[ww[0]]),'.')\n",
      "plt.show()"
     ],
     "language": "python",
     "metadata": {},
     "outputs": [],
     "prompt_number": 17
    },
    {
     "cell_type": "code",
     "collapsed": false,
     "input": [
      "x = ww[0][:665]\n",
      "y = np.angle(test[ww[0]])[:665]"
     ],
     "language": "python",
     "metadata": {},
     "outputs": [],
     "prompt_number": 18
    },
    {
     "cell_type": "code",
     "collapsed": false,
     "input": [
      "a = np.polyfit(x, y, 1)\n",
      "y2 = a[0]*x +a[1]\n",
      "plt.plot(x,y, '.')\n",
      "# plt.plot(x, y2)\n",
      "plt.errorbar(x,y2, y-y2, y-y2)\n",
      "plt.show()"
     ],
     "language": "python",
     "metadata": {},
     "outputs": [],
     "prompt_number": 21
    },
    {
     "cell_type": "code",
     "collapsed": false,
     "input": [
      "plt.plot(np.convolve(np.fft.fft(flux1),np.fft.fft(flux2),'same'))\n",
      "plt.plot(np.fft.fft(flux1*flux2))\n",
      "plt.show()"
     ],
     "language": "python",
     "metadata": {},
     "outputs": [
      {
       "output_type": "stream",
       "stream": "stdout",
       "text": [
        "/Users/Carlos/Library/Enthought/Canopy_64bit/User/lib/python2.7/site-packages/numpy-1.8.1-py2.7-macosx-10.6-x86_64.egg/numpy/core/numeric.py:460: ComplexWarning: Casting complex values to real discards the imaginary part\n",
        "  return array(a, dtype, copy=False, order=order)\n"
       ]
      }
     ],
     "prompt_number": 20
    },
    {
     "cell_type": "code",
     "collapsed": false,
     "input": [
      "#Fit gaussian in CCCurves\n",
      "def gaussian(x, mu, sig, ):\n",
      "    return np.exp(-np.power(x - mu, 2.) / 2 / np.power(sig, 2.))\n",
      "\n",
      "def fit_gaussian(p, flux, x_range):\n",
      "    a = optimize.leastsq(diff_gausian, p, args= [flux, x_range])\n",
      "    return a\n",
      "\n",
      "def diff_gausian(p, args):\n",
      "    \n",
      "    flux = args[0]\n",
      "    x_range = args[1]\n",
      "    diff = gaussian(x_range, p[0],p[1]) - flux/np.max(flux)\n",
      "    return diff\n",
      "\n",
      "def get_wavelength(wavelengths, pixel):\n",
      "    intPx = int(pixel)\n",
      "    fracPx = pixel - int(pixel)\n",
      "\n",
      "    return (wavelengths[intPx+1] - wavelengths[intPx])*fracPx + wavelengths[intPx]\n",
      "\n",
      "def extract_HERMES_wavelength(fileName):\n",
      "\n",
      "\ta = pf.open(fileName)\n",
      "\n",
      "\tCRVAL1 = a[0].header['CRVAL1'] # / Co-ordinate value of axis 1                    \n",
      "\tCDELT1 = a[0].header['CDELT1'] #  / Co-ordinate increment along axis 1             \n",
      "\tCRPIX1 = a[0].header['CRPIX1'] #  / Reference pixel along axis 1                   \n",
      "\t\n",
      "\t#Creates an array of offset wavelength from the referece px/wavelength\n",
      "\tLambda = CRVAL1 - (CRPIX1 - (np.arange(int(CRPIX1)*2)) -1)* CDELT1\n",
      "\n",
      "\treturn Lambda\n"
     ],
     "language": "python",
     "metadata": {},
     "outputs": [],
     "prompt_number": 46
    },
    {
     "cell_type": "code",
     "collapsed": false,
     "input": [],
     "language": "python",
     "metadata": {},
     "outputs": []
    }
   ],
   "metadata": {}
  }
 ]
}