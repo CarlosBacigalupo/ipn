{
 "metadata": {
  "name": ""
 },
 "nbformat": 3,
 "nbformat_minor": 0,
 "worksheets": [
  {
   "cells": [
    {
     "cell_type": "heading",
     "level": 2,
     "metadata": {},
     "source": [
      "Common initial section"
     ]
    },
    {
     "cell_type": "raw",
     "metadata": {},
     "source": [
      "arc file, sextractor params --> read arc file --> calibration file (no wavelength)\n",
      "calibration file (no wavelength) --> identify wavelength --> calibration file\n",
      "calibration file --> create model -->  model\n",
      "\n",
      "model, science file --> extract flux --> extracted fits file"
     ]
    },
    {
     "cell_type": "code",
     "collapsed": false,
     "input": [
      "# %pylab inline\n",
      "import time\n",
      "import numpy as np\n",
      "import pylab as plt\n",
      "import pyfits as pf\n",
      "import os\n",
      "import wsm \n",
      "from mpl_toolkits.mplot3d import Axes3D\n",
      "# import constants as c"
     ],
     "language": "python",
     "metadata": {},
     "outputs": [],
     "prompt_number": 1
    },
    {
     "cell_type": "code",
     "collapsed": false,
     "input": [
      "baseDir = '/Users/Carlos/Documents/RHEA/reductions/1/'\n",
      "baseDir = '/Users/Carlos/Documents/RHEA/reductions/2/'\n",
      "os.chdir(baseDir)"
     ],
     "language": "python",
     "metadata": {},
     "outputs": [],
     "prompt_number": 2
    },
    {
     "cell_type": "code",
     "collapsed": false,
     "input": [
      "#Enter file information\n",
      "sexParamFile = 'rhea.sex'\n",
      "xml = 'rhea_v1.xml'\n",
      "# list of [arc,science] files\n",
      "arcScienceMap = np.array([['20140208220659.fits','20140208220925.fits'],\n",
      "                          ['20140208222447.fits','20140208222708.fits'],\n",
      "                          ['20140208224231.fits','20140208224451.fits'],\n",
      "                          ['20140208230013.fits','20140208230233.fits'],\n",
      "                          ['20140208231755.fits','20140208232015.fits'],\n",
      "                          ['20140208233535.fits','20140208233755.fits'],\n",
      "                          ['20140208235320.fits','20140208235540.fits'],\n",
      "                          ['20140209001101.fits','20140209001321.fits'],\n",
      "                          ['20140209002843.fits','20140209003103.fits']])\n",
      "arcScienceMap = np.array([['20140501001817.fits','20140430225528.fits']])\n",
      "\n",
      "\n"
     ],
     "language": "python",
     "metadata": {},
     "outputs": [],
     "prompt_number": 3
    },
    {
     "cell_type": "code",
     "collapsed": false,
     "input": [
      "#sets the current arc and science file\n",
      "currentFilesIdx = 0\n",
      "arcFile = arcScienceMap[currentFilesIdx,0]\n",
      "scienceFile = arcScienceMap[currentFilesIdx,1]\n",
      "scienceFile=str('20140501004345.fits')"
     ],
     "language": "python",
     "metadata": {},
     "outputs": [],
     "prompt_number": 4
    },
    {
     "cell_type": "code",
     "collapsed": false,
     "input": [
      "#instantiate the spectrograph class and load the model xml file into corresponding subclasses\n",
      "rhea = wsm.spectrograph()\n",
      "rhea.orders = range(50,150)\n",
      "rhea.read_xml(xml, arcFile)"
     ],
     "language": "python",
     "metadata": {},
     "outputs": [],
     "prompt_number": 5
    },
    {
     "cell_type": "heading",
     "level": 2,
     "metadata": {},
     "source": [
      "Find model"
     ]
    },
    {
     "cell_type": "code",
     "collapsed": false,
     "input": [
      "#Read arcfile and create a file with the coords of the points detected\n",
      "calibFileNoWl = rhea.read_arc_file(arcFile, sexParamFile)\n",
      "calibrationMap = wsm.wt.ia.read_full_calibration_data(calibFileNoWl)"
     ],
     "language": "python",
     "metadata": {},
     "outputs": [],
     "prompt_number": 6
    },
    {
     "cell_type": "code",
     "collapsed": false,
     "input": [
      "#create SED map to match points found (based on intensity)\n",
      "SEDMap1 = rhea.create_sed_map(SEDMode=wsm.wt.c.sedMode.file, spectrumFileName='/Users/Carlos/Documents/workspace/wsm/spectra/hg_spectrum.txt', minI = 0.2)\n",
      "SEDMap2 = rhea.create_sed_map(SEDMode=wsm.wt.c.sedMode.file, spectrumFileName='/Users/Carlos/Documents/workspace/wsm/spectra/ar_spectrum.txt', intNormalize = 1, minI=0.3) #create SEDMap from ar emission file\n",
      "SEDMap = np.vstack((SEDMap1, SEDMap2))\n",
      "# sedMap = sedMap2"
     ],
     "language": "python",
     "metadata": {},
     "outputs": [],
     "prompt_number": 7
    },
    {
     "cell_type": "code",
     "collapsed": false,
     "input": [
      "#create CCD map from model\n",
      "CCDMap,CCDMapOffset = rhea.create_ccd_map(SEDMap, xml)"
     ],
     "language": "python",
     "metadata": {},
     "outputs": [],
     "prompt_number": 8
    },
    {
     "cell_type": "code",
     "collapsed": false,
     "input": [
      "#plot calibration map in interactive mode to eliminate unpaired arc lines in both/either CCD Map and calibration map\n",
      "calibrationMap, rhea.arcMapMask = wsm.plot().calib_points_CCDMap(calibrationMap, backgroundFile = arcFile,\n",
      "                                                                 CCDMap=CCDMapOffset, booLabels = True, canvasSize=1, \n",
      "                                                                 title = 'Calibration vs Model (wavelength assigned)', \n",
      "                                                                 booInteractive=100, arcMapMask = rhea.arcMapMask)\n",
      "np.savetxt(calibFileNoWl,calibrationMap)"
     ],
     "language": "python",
     "metadata": {},
     "outputs": [
      {
       "output_type": "stream",
       "stream": "stdout",
       "text": [
        "removed CailbPoint:  0.0\n",
        "removed CailbPoint:  0.0\n",
        "removed CCDMap:  0.738398\n",
        "CCDMap points:  9\n",
        "Calibration Points:  9\n"
       ]
      }
     ],
     "prompt_number": 27
    },
    {
     "cell_type": "code",
     "collapsed": false,
     "input": [
      "#loads arcMapMask from external file (alternatively to previous step)\n",
      "rhea.arcMapMask = np.loadtxt('rhea_arcMask.txt').astype(bool)\n",
      "calibrationMap = rhea.clear_calib_from_CCDMap(calibrationMap, CCDMapOffset[rhea.arcMapMask])\n",
      "# np.savetxt(calibFileNoWl,calibrationMap)"
     ],
     "language": "python",
     "metadata": {},
     "outputs": [],
     "prompt_number": 9
    },
    {
     "cell_type": "code",
     "collapsed": false,
     "input": [
      "calibrationMap= np.loadtxt('cal_20140501001817.txt')"
     ],
     "language": "python",
     "metadata": {},
     "outputs": [],
     "prompt_number": 11
    },
    {
     "cell_type": "code",
     "collapsed": false,
     "input": [
      "# show count of both maps, should be equal.\n",
      "print 'CCD points ',rhea.CCDMap[rhea.arcMapMask].shape[0]\n",
      "print 'Calib points',calibrationMap.shape[0]"
     ],
     "language": "python",
     "metadata": {},
     "outputs": [
      {
       "output_type": "stream",
       "stream": "stdout",
       "text": [
        "CCD points  9\n",
        "Calib points 9\n"
       ]
      }
     ],
     "prompt_number": 12
    },
    {
     "cell_type": "code",
     "collapsed": false,
     "input": [
      "rhea.save_arcMaskMap() #if want to reuse arc mask map for batch, save it here"
     ],
     "language": "python",
     "metadata": {},
     "outputs": [],
     "prompt_number": 34
    },
    {
     "cell_type": "code",
     "collapsed": false,
     "input": [
      "#finally, assign wavelength\n",
      "calibFile = rhea.assign_initial_wavelength(calibFileNoWl, xml, SEDMap, booAvgAdjust = True)\n",
      "calibrationMap = wsm.wt.ia.read_full_calibration_data(calibFile)\n",
      "# np.savetxt(calibFileNoWl,calibrationMap)"
     ],
     "language": "python",
     "metadata": {},
     "outputs": [],
     "prompt_number": 35
    },
    {
     "cell_type": "code",
     "collapsed": false,
     "input": [
      "#see what you got.\n",
      "a,b = wsm.plot().calib_points_CCDMap( calibrationMap, backgroundFile=arcFile, CCDMap=CCDMapOffset, booLabels = True, canvasSize=1, title = 'Calibration vs Model (wavelength assigned)', booInteractive=0, arcMapMask = rhea.arcMapMask)\n"
     ],
     "language": "python",
     "metadata": {},
     "outputs": [],
     "prompt_number": 13
    },
    {
     "cell_type": "code",
     "collapsed": false,
     "input": [
      "#if happy, find fit\n",
      "rhea.find_fit(SEDMap, xml, calibrationMap, p_try=[], factorTry=1, diagTry=[], showStats=False, maxfev=1000, booWriteP=True)\n"
     ],
     "language": "python",
     "metadata": {},
     "outputs": [
      {
       "output_type": "stream",
       "stream": "stdout",
       "text": [
        "RMS = 13.8580407457\n",
        "RMS ="
       ]
      },
      {
       "output_type": "stream",
       "stream": "stdout",
       "text": [
        " 13.8580407457\n",
        "RMS = 13.8580407457\n",
        "RMS ="
       ]
      },
      {
       "output_type": "stream",
       "stream": "stdout",
       "text": [
        " 13.8582248353\n",
        "RMS = 13.8577751383\n",
        "RMS ="
       ]
      },
      {
       "output_type": "stream",
       "stream": "stdout",
       "text": [
        " 13.858112467\n",
        "RMS = 13.8584762069\n",
        "RMS ="
       ]
      },
      {
       "output_type": "stream",
       "stream": "stdout",
       "text": [
        " 13.8579396926\n",
        "RMS = 13.8576217731\n",
        "RMS ="
       ]
      },
      {
       "output_type": "stream",
       "stream": "stdout",
       "text": [
        " 13.8579535099\n",
        "RMS = 13.857654749\n",
        "RMS ="
       ]
      },
      {
       "output_type": "stream",
       "stream": "stdout",
       "text": [
        " 13.8580412323\n",
        "RMS = 13.8572770237\n",
        "RMS ="
       ]
      },
      {
       "output_type": "stream",
       "stream": "stdout",
       "text": [
        " 13.8580405524\n",
        "RMS = 13.8580407457\n",
        "RMS ="
       ]
      },
      {
       "output_type": "stream",
       "stream": "stdout",
       "text": [
        " 13.8580407457\n",
        "RMS = 13.8580407457\n",
        "RMS ="
       ]
      },
      {
       "output_type": "stream",
       "stream": "stdout",
       "text": [
        " 13.8580407457\n",
        "RMS = 13.8580407457\n",
        "RMS ="
       ]
      },
      {
       "output_type": "stream",
       "stream": "stdout",
       "text": [
        " 2684.95534685\n",
        "RMS = 272.831823825\n",
        "RMS ="
       ]
      },
      {
       "output_type": "stream",
       "stream": "stdout",
       "text": [
        " 3.86586650906\n",
        "RMS = 3.86585103541\n",
        "RMS ="
       ]
      },
      {
       "output_type": "stream",
       "stream": "stdout",
       "text": [
        " 3.86577362447\n",
        "RMS = 3.8658578983\n",
        "RMS ="
       ]
      },
      {
       "output_type": "stream",
       "stream": "stdout",
       "text": [
        " 3.86601392174\n",
        "RMS = 3.86587900796\n",
        "RMS ="
       ]
      },
      {
       "output_type": "stream",
       "stream": "stdout",
       "text": [
        " 3.86572570261\n",
        "RMS = 3.86587782729\n",
        "RMS ="
       ]
      },
      {
       "output_type": "stream",
       "stream": "stdout",
       "text": [
        " 3.86573680438\n",
        "RMS = 3.86586647757\n",
        "RMS ="
       ]
      },
      {
       "output_type": "stream",
       "stream": "stdout",
       "text": [
        " 3.86559978964\n",
        "RMS = 3.86586870515\n",
        "RMS ="
       ]
      },
      {
       "output_type": "stream",
       "stream": "stdout",
       "text": [
        " 3.86586650906\n",
        "RMS = 3.86586650906\n",
        "RMS ="
       ]
      },
      {
       "output_type": "stream",
       "stream": "stdout",
       "text": [
        " 3.86586650906\n",
        "RMS = 3.86586650906\n",
        "RMS ="
       ]
      },
      {
       "output_type": "stream",
       "stream": "stdout",
       "text": [
        " 3.86586650906\n",
        "RMS = 1.77961315154\n",
        "RMS ="
       ]
      },
      {
       "output_type": "stream",
       "stream": "stdout",
       "text": [
        " 1.77931590108\n",
        "RMS = 1.77937996023\n",
        "RMS ="
       ]
      },
      {
       "output_type": "stream",
       "stream": "stdout",
       "text": [
        " 1.77947872447\n",
        "RMS = 1.78000018437\n",
        "RMS ="
       ]
      },
      {
       "output_type": "stream",
       "stream": "stdout",
       "text": [
        " 1.77980440765\n",
        "RMS = 1.77924285264\n",
        "RMS ="
       ]
      },
      {
       "output_type": "stream",
       "stream": "stdout",
       "text": [
        " 1.77977974905\n",
        "RMS = 1.77927409798\n",
        "RMS ="
       ]
      },
      {
       "output_type": "stream",
       "stream": "stdout",
       "text": [
        " 1.77961256256\n",
        "RMS = 1.77895700733\n",
        "RMS ="
       ]
      },
      {
       "output_type": "stream",
       "stream": "stdout",
       "text": [
        " 1.77961400393\n",
        "RMS = 1.77961315154\n",
        "RMS ="
       ]
      },
      {
       "output_type": "stream",
       "stream": "stdout",
       "text": [
        " 1.77961315154\n",
        "RMS = 1.77961315154\n",
        "RMS ="
       ]
      },
      {
       "output_type": "stream",
       "stream": "stdout",
       "text": [
        " 1.77961315154\n",
        "RMS = 1.77961315154\n",
        "RMS ="
       ]
      },
      {
       "output_type": "stream",
       "stream": "stdout",
       "text": [
        " 56.9043916005\n",
        "RMS = 0.618628072833\n",
        "RMS ="
       ]
      },
      {
       "output_type": "stream",
       "stream": "stdout",
       "text": [
        " 0.618603275393\n",
        "RMS = 0.618620724794\n",
        "RMS ="
       ]
      },
      {
       "output_type": "stream",
       "stream": "stdout",
       "text": [
        " 0.6186194424\n",
        "RMS = 0.618642093026\n",
        "RMS ="
       ]
      },
      {
       "output_type": "stream",
       "stream": "stdout",
       "text": [
        " 0.618640760268\n",
        "RMS = 0.618616429535\n",
        "RMS ="
       ]
      },
      {
       "output_type": "stream",
       "stream": "stdout",
       "text": [
        " 0.618639691855\n",
        "RMS = 0.618618574969\n",
        "RMS ="
       ]
      },
      {
       "output_type": "stream",
       "stream": "stdout",
       "text": [
        " 0.618628056823\n",
        "RMS = 0.618607125465\n",
        "RMS ="
       ]
      },
      {
       "output_type": "stream",
       "stream": "stdout",
       "text": [
        " 0.618628460554\n",
        "RMS = 0.618628072833\n",
        "RMS ="
       ]
      },
      {
       "output_type": "stream",
       "stream": "stdout",
       "text": [
        " 0.618628072833\n",
        "RMS = 0.618628072833\n",
        "RMS ="
       ]
      },
      {
       "output_type": "stream",
       "stream": "stdout",
       "text": [
        " 0.618628072833\n",
        "RMS = 0.618628072833\n",
        "RMS ="
       ]
      },
      {
       "output_type": "stream",
       "stream": "stdout",
       "text": [
        " 0.187381212644\n",
        "RMS ="
       ]
      },
      {
       "output_type": "stream",
       "stream": "stdout",
       "text": [
        " 0.187315447032\n",
        "RMS ="
       ]
      },
      {
       "output_type": "stream",
       "stream": "stdout",
       "text": [
        " 0.187323227727\n",
        "RMS ="
       ]
      },
      {
       "output_type": "stream",
       "stream": "stdout",
       "text": [
        " 0.187350437035\n",
        "RMS ="
       ]
      },
      {
       "output_type": "stream",
       "stream": "stdout",
       "text": [
        " 0.1874784\n",
        "RMS ="
       ]
      },
      {
       "output_type": "stream",
       "stream": "stdout",
       "text": [
        " 0.187426428899\n",
        "RMS ="
       ]
      },
      {
       "output_type": "stream",
       "stream": "stdout",
       "text": [
        " 0.187289244389\n",
        "RMS ="
       ]
      },
      {
       "output_type": "stream",
       "stream": "stdout",
       "text": [
        " 0.187420381999\n",
        "RMS ="
       ]
      },
      {
       "output_type": "stream",
       "stream": "stdout",
       "text": [
        " 0.187296867683\n",
        "RMS ="
       ]
      },
      {
       "output_type": "stream",
       "stream": "stdout",
       "text": [
        " 0.187381121783\n",
        "RMS ="
       ]
      },
      {
       "output_type": "stream",
       "stream": "stdout",
       "text": [
        " 0.187219958902\n",
        "RMS ="
       ]
      },
      {
       "output_type": "stream",
       "stream": "stdout",
       "text": [
        " 0.187381264367\n",
        "RMS ="
       ]
      },
      {
       "output_type": "stream",
       "stream": "stdout",
       "text": [
        " 0.187381212644\n",
        "RMS ="
       ]
      },
      {
       "output_type": "stream",
       "stream": "stdout",
       "text": [
        " 0.187381212644\n",
        "RMS ="
       ]
      },
      {
       "output_type": "stream",
       "stream": "stdout",
       "text": [
        " 0.187381212644\n",
        "RMS = 0.187381212644\n",
        "RMS ="
       ]
      },
      {
       "output_type": "stream",
       "stream": "stdout",
       "text": [
        " 0.187381212644\n",
        "RMS = 0.320788803076\n",
        "RMS ="
       ]
      },
      {
       "output_type": "stream",
       "stream": "stdout",
       "text": [
        " 0.182345234768\n",
        "RMS ="
       ]
      },
      {
       "output_type": "stream",
       "stream": "stdout",
       "text": [
        " 0.182339667754\n",
        "RMS ="
       ]
      },
      {
       "output_type": "stream",
       "stream": "stdout",
       "text": [
        " 0.182342417401\n",
        "RMS ="
       ]
      },
      {
       "output_type": "stream",
       "stream": "stdout",
       "text": [
        " 0.182342149677\n",
        "RMS ="
       ]
      },
      {
       "output_type": "stream",
       "stream": "stdout",
       "text": [
        " 0.182351016692\n",
        "RMS ="
       ]
      },
      {
       "output_type": "stream",
       "stream": "stdout",
       "text": [
        " 0.18235105293\n",
        "RMS ="
       ]
      },
      {
       "output_type": "stream",
       "stream": "stdout",
       "text": [
        " 0.182341002075\n",
        "RMS ="
       ]
      },
      {
       "output_type": "stream",
       "stream": "stdout",
       "text": [
        " 0.182350195784\n",
        "RMS ="
       ]
      },
      {
       "output_type": "stream",
       "stream": "stdout",
       "text": [
        " 0.182341307791\n",
        "RMS = 0.182345224501\n",
        "RMS ="
       ]
      },
      {
       "output_type": "stream",
       "stream": "stdout",
       "text": [
        " 0.182338580192\n",
        "RMS ="
       ]
      },
      {
       "output_type": "stream",
       "stream": "stdout",
       "text": [
        " 0.182345237373\n",
        "RMS ="
       ]
      },
      {
       "output_type": "stream",
       "stream": "stdout",
       "text": [
        " 0.182345234768\n",
        "RMS ="
       ]
      },
      {
       "output_type": "stream",
       "stream": "stdout",
       "text": [
        " 0.182345234768\n",
        "RMS ="
       ]
      },
      {
       "output_type": "stream",
       "stream": "stdout",
       "text": [
        " 0.182345234768\n",
        "RMS ="
       ]
      },
      {
       "output_type": "stream",
       "stream": "stdout",
       "text": [
        " 0.182345234768\n",
        "RMS ="
       ]
      },
      {
       "output_type": "stream",
       "stream": "stdout",
       "text": [
        " 0.182345234768\n",
        "RMS ="
       ]
      },
      {
       "output_type": "stream",
       "stream": "stdout",
       "text": [
        " 0.181058541725\n",
        "RMS ="
       ]
      },
      {
       "output_type": "stream",
       "stream": "stdout",
       "text": [
        " 0.181029691187\n",
        "RMS ="
       ]
      },
      {
       "output_type": "stream",
       "stream": "stdout",
       "text": [
        " 0.181047235203\n",
        "RMS ="
       ]
      },
      {
       "output_type": "stream",
       "stream": "stdout",
       "text": [
        " 0.18104515876\n",
        "RMS ="
       ]
      },
      {
       "output_type": "stream",
       "stream": "stdout",
       "text": [
        " 0.181078384954\n",
        "RMS ="
       ]
      },
      {
       "output_type": "stream",
       "stream": "stdout",
       "text": [
        " 0.18107900825\n",
        "RMS ="
       ]
      },
      {
       "output_type": "stream",
       "stream": "stdout",
       "text": [
        " 0.18104081959\n",
        "RMS = 0.181076191419\n",
        "RMS ="
       ]
      },
      {
       "output_type": "stream",
       "stream": "stdout",
       "text": [
        " 0.181042249517\n",
        "RMS = 0.181058501216\n",
        "RMS ="
       ]
      },
      {
       "output_type": "stream",
       "stream": "stdout",
       "text": [
        " 0.181028023281\n",
        "RMS = 0.181058612506\n",
        "RMS ="
       ]
      },
      {
       "output_type": "stream",
       "stream": "stdout",
       "text": [
        " 0.181058541725\n",
        "RMS = 0.181058541725\n",
        "RMS ="
       ]
      },
      {
       "output_type": "stream",
       "stream": "stdout",
       "text": [
        " 0.181058541725\n",
        "RMS = 0.181058541725\n",
        "RMS ="
       ]
      },
      {
       "output_type": "stream",
       "stream": "stdout",
       "text": [
        " 0.181058541725\n",
        "RMS ="
       ]
      },
      {
       "output_type": "stream",
       "stream": "stdout",
       "text": [
        " 0.181289666805\n",
        "RMS = 0.179637088955\n",
        "RMS ="
       ]
      },
      {
       "output_type": "stream",
       "stream": "stdout",
       "text": [
        " 0.179612940207\n",
        "RMS ="
       ]
      },
      {
       "output_type": "stream",
       "stream": "stdout",
       "text": [
        " 0.179627859042\n",
        "RMS ="
       ]
      },
      {
       "output_type": "stream",
       "stream": "stdout",
       "text": [
        " 0.179625808983\n",
        "RMS ="
       ]
      },
      {
       "output_type": "stream",
       "stream": "stdout",
       "text": [
        " 0.179653495528\n",
        "RMS ="
       ]
      },
      {
       "output_type": "stream",
       "stream": "stdout",
       "text": [
        " 0.179654587029\n",
        "RMS ="
       ]
      },
      {
       "output_type": "stream",
       "stream": "stdout",
       "text": [
        " 0.179622668442\n",
        "RMS ="
       ]
      },
      {
       "output_type": "stream",
       "stream": "stdout",
       "text": [
        " 0.179652151809\n",
        "RMS ="
       ]
      },
      {
       "output_type": "stream",
       "stream": "stdout",
       "text": [
        " 0.179623824793\n",
        "RMS ="
       ]
      },
      {
       "output_type": "stream",
       "stream": "stdout",
       "text": [
        " 0.179637054593\n",
        "RMS = 0.179612409873\n",
        "RMS ="
       ]
      },
      {
       "output_type": "stream",
       "stream": "stdout",
       "text": [
        " 0.179637147871\n",
        "RMS ="
       ]
      },
      {
       "output_type": "stream",
       "stream": "stdout",
       "text": [
        " 0.179637088955\n",
        "RMS ="
       ]
      },
      {
       "output_type": "stream",
       "stream": "stdout",
       "text": [
        " 0.179637088955\n",
        "RMS ="
       ]
      },
      {
       "output_type": "stream",
       "stream": "stdout",
       "text": [
        " 0.179637088955\n",
        "RMS ="
       ]
      },
      {
       "output_type": "stream",
       "stream": "stdout",
       "text": [
        " 0.179637088955\n",
        "RMS ="
       ]
      },
      {
       "output_type": "stream",
       "stream": "stdout",
       "text": [
        " 0.179637088955\n",
        "RMS ="
       ]
      },
      {
       "output_type": "stream",
       "stream": "stdout",
       "text": [
        " 0.179291396807\n",
        "RMS = 0.179194784215\n",
        "RMS ="
       ]
      },
      {
       "output_type": "stream",
       "stream": "stdout",
       "text": [
        " 0.179258607425\n",
        "RMS ="
       ]
      },
      {
       "output_type": "stream",
       "stream": "stdout",
       "text": [
        " 0.179248308871\n",
        "RMS ="
       ]
      },
      {
       "output_type": "stream",
       "stream": "stdout",
       "text": [
        " 0.179346753078\n",
        "RMS ="
       ]
      },
      {
       "output_type": "stream",
       "stream": "stdout",
       "text": [
        " 0.179354169193\n",
        "RMS ="
       ]
      },
      {
       "output_type": "stream",
       "stream": "stdout",
       "text": [
        " 0.179239532806\n",
        "RMS = 0.17934557119\n",
        "RMS ="
       ]
      },
      {
       "output_type": "stream",
       "stream": "stdout",
       "text": [
        " 0.179243829288\n",
        "RMS ="
       ]
      },
      {
       "output_type": "stream",
       "stream": "stdout",
       "text": [
        " 0.179291269063\n",
        "RMS ="
       ]
      },
      {
       "output_type": "stream",
       "stream": "stdout",
       "text": [
        " 0.179200379281\n",
        "RMS ="
       ]
      },
      {
       "output_type": "stream",
       "stream": "stdout",
       "text": [
        " 0.179291674597\n",
        "RMS = 0.179291396807\n",
        "RMS ="
       ]
      },
      {
       "output_type": "stream",
       "stream": "stdout",
       "text": [
        " 0.179291396807\n",
        "RMS = 0.179291396807\n",
        "RMS ="
       ]
      },
      {
       "output_type": "stream",
       "stream": "stdout",
       "text": [
        " 0.179291396807\n",
        "RMS ="
       ]
      },
      {
       "output_type": "stream",
       "stream": "stdout",
       "text": [
        " 0.179291396807\n",
        "RMS ="
       ]
      },
      {
       "output_type": "stream",
       "stream": "stdout",
       "text": [
        " 0.176022630467\n",
        "RMS ="
       ]
      },
      {
       "output_type": "stream",
       "stream": "stdout",
       "text": [
        " 0.176000610334\n",
        "RMS ="
       ]
      },
      {
       "output_type": "stream",
       "stream": "stdout",
       "text": [
        " 0.176015033418\n",
        "RMS ="
       ]
      },
      {
       "output_type": "stream",
       "stream": "stdout",
       "text": [
        " 0.176012343204\n",
        "RMS ="
       ]
      },
      {
       "output_type": "stream",
       "stream": "stdout",
       "text": [
        " 0.176036340852\n",
        "RMS = 0.176038769169\n",
        "RMS ="
       ]
      },
      {
       "output_type": "stream",
       "stream": "stdout",
       "text": [
        " 0.176010808986\n",
        "RMS ="
       ]
      },
      {
       "output_type": "stream",
       "stream": "stdout",
       "text": [
        " 0.176036477846\n",
        "RMS ="
       ]
      },
      {
       "output_type": "stream",
       "stream": "stdout",
       "text": [
        " 0.176011751026\n",
        "RMS ="
       ]
      },
      {
       "output_type": "stream",
       "stream": "stdout",
       "text": [
        " 0.176022599005\n",
        "RMS ="
       ]
      },
      {
       "output_type": "stream",
       "stream": "stdout",
       "text": [
        " 0.176002545568\n",
        "RMS = 0.176022687691\n",
        "RMS ="
       ]
      },
      {
       "output_type": "stream",
       "stream": "stdout",
       "text": [
        " 0.176022630467\n",
        "RMS = 0.176022630467\n",
        "RMS ="
       ]
      },
      {
       "output_type": "stream",
       "stream": "stdout",
       "text": [
        " 0.176022630467\n",
        "RMS ="
       ]
      },
      {
       "output_type": "stream",
       "stream": "stdout",
       "text": [
        " 0.176022630467\n",
        "RMS ="
       ]
      },
      {
       "output_type": "stream",
       "stream": "stdout",
       "text": [
        " 0.176022630467\n",
        "RMS ="
       ]
      },
      {
       "output_type": "stream",
       "stream": "stdout",
       "text": [
        " 0.175525166964\n",
        "RMS ="
       ]
      },
      {
       "output_type": "stream",
       "stream": "stdout",
       "text": [
        " 0.175435890242\n",
        "RMS ="
       ]
      },
      {
       "output_type": "stream",
       "stream": "stdout",
       "text": [
        " 0.175497954791\n",
        "RMS = 0.175485507723\n",
        "RMS ="
       ]
      },
      {
       "output_type": "stream",
       "stream": "stdout",
       "text": [
        " 0.175571278829\n",
        "RMS ="
       ]
      },
      {
       "output_type": "stream",
       "stream": "stdout",
       "text": [
        " 0.17558316541\n",
        "RMS ="
       ]
      },
      {
       "output_type": "stream",
       "stream": "stdout",
       "text": [
        " 0.175482171316\n",
        "RMS ="
       ]
      },
      {
       "output_type": "stream",
       "stream": "stdout",
       "text": [
        " 0.175575088658\n",
        "RMS = 0.175485736622\n",
        "RMS ="
       ]
      },
      {
       "output_type": "stream",
       "stream": "stdout",
       "text": [
        " 0.175525049448\n",
        "RMS = 0.175449788846\n",
        "RMS ="
       ]
      },
      {
       "output_type": "stream",
       "stream": "stdout",
       "text": [
        " 0.175525433898\n",
        "RMS = 0.175525166964\n",
        "RMS ="
       ]
      },
      {
       "output_type": "stream",
       "stream": "stdout",
       "text": [
        " 0.175525166964\n",
        "RMS = 0.175525166964\n",
        "RMS ="
       ]
      },
      {
       "output_type": "stream",
       "stream": "stdout",
       "text": [
        " 0.175525166964\n",
        "RMS = 0.175525166964\n",
        "RMS ="
       ]
      },
      {
       "output_type": "stream",
       "stream": "stdout",
       "text": [
        " 0.172948924897\n",
        "RMS = 0.172928762112\n",
        "RMS ="
       ]
      },
      {
       "output_type": "stream",
       "stream": "stdout",
       "text": [
        " 0.172942683389\n",
        "RMS = 0.172939491888\n",
        "RMS ="
       ]
      },
      {
       "output_type": "stream",
       "stream": "stdout",
       "text": [
        " 0.17296040165\n",
        "RMS = 0.172963892465\n",
        "RMS ="
       ]
      },
      {
       "output_type": "stream",
       "stream": "stdout",
       "text": [
        " 0.172939261648\n",
        "RMS = 0.172961726195\n",
        "RMS ="
       ]
      },
      {
       "output_type": "stream",
       "stream": "stdout",
       "text": [
        " 0.172940023412\n",
        "RMS = 0.172948895986\n",
        "RMS ="
       ]
      },
      {
       "output_type": "stream",
       "stream": "stdout",
       "text": [
        " 0.172932657378\n",
        "RMS ="
       ]
      },
      {
       "output_type": "stream",
       "stream": "stdout",
       "text": [
        " 0.172948980617\n",
        "RMS ="
       ]
      },
      {
       "output_type": "stream",
       "stream": "stdout",
       "text": [
        " 0.172948924897\n",
        "RMS = 0.172948924897\n",
        "RMS ="
       ]
      },
      {
       "output_type": "stream",
       "stream": "stdout",
       "text": [
        " 0.172948924897\n",
        "RMS ="
       ]
      },
      {
       "output_type": "stream",
       "stream": "stdout",
       "text": [
        " 0.172948924897\n",
        "RMS ="
       ]
      },
      {
       "output_type": "stream",
       "stream": "stdout",
       "text": [
        " 0.172948924897\n",
        "RMS ="
       ]
      },
      {
       "output_type": "stream",
       "stream": "stdout",
       "text": [
        " 56.9563358471\n",
        "RMS ="
       ]
      },
      {
       "output_type": "stream",
       "stream": "stdout",
       "text": [
        " 0.172660449976\n",
        "RMS ="
       ]
      },
      {
       "output_type": "stream",
       "stream": "stdout",
       "text": [
        " 0.172662004714\n",
        "RMS = 0.172660455094\n",
        "RMS ="
       ]
      },
      {
       "output_type": "stream",
       "stream": "stdout",
       "text": [
        " 0.172660497323\n",
        "RMS ="
       ]
      },
      {
       "output_type": "stream",
       "stream": "stdout",
       "text": [
        " 0.172661608556\n",
        "RMS ="
       ]
      },
      {
       "output_type": "stream",
       "stream": "stdout",
       "text": [
        " 0.172661906148\n",
        "RMS ="
       ]
      },
      {
       "output_type": "stream",
       "stream": "stdout",
       "text": [
        " 0.172660714416\n",
        "RMS ="
       ]
      },
      {
       "output_type": "stream",
       "stream": "stdout",
       "text": [
        " 0.172661608626\n",
        "RMS ="
       ]
      },
      {
       "output_type": "stream",
       "stream": "stdout",
       "text": [
        " 0.172660640479\n",
        "RMS = 0.172660448828\n",
        "RMS ="
       ]
      },
      {
       "output_type": "stream",
       "stream": "stdout",
       "text": [
        " 0.172661794098\n",
        "RMS ="
       ]
      },
      {
       "output_type": "stream",
       "stream": "stdout",
       "text": [
        " 0.172660438248\n",
        "RMS = 0.172660449976\n",
        "RMS ="
       ]
      },
      {
       "output_type": "stream",
       "stream": "stdout",
       "text": [
        " 0.172660449976\n",
        "RMS = 0.172660449976\n",
        "RMS ="
       ]
      },
      {
       "output_type": "stream",
       "stream": "stdout",
       "text": [
        " 0.172660449976\n",
        "RMS ="
       ]
      },
      {
       "output_type": "stream",
       "stream": "stdout",
       "text": [
        " 0.172660449976\n",
        "RMS ="
       ]
      },
      {
       "output_type": "stream",
       "stream": "stdout",
       "text": [
        " 0.172288158582\n",
        "RMS ="
       ]
      },
      {
       "output_type": "stream",
       "stream": "stdout",
       "text": [
        " 0.172287046369\n",
        "RMS ="
       ]
      },
      {
       "output_type": "stream",
       "stream": "stdout",
       "text": [
        " 0.172287415446\n",
        "RMS ="
       ]
      },
      {
       "output_type": "stream",
       "stream": "stdout",
       "text": [
        " 0.172287041461\n",
        "RMS ="
       ]
      },
      {
       "output_type": "stream",
       "stream": "stdout",
       "text": [
        " 0.172290555274\n",
        "RMS ="
       ]
      },
      {
       "output_type": "stream",
       "stream": "stdout",
       "text": [
        " 0.172291278806\n",
        "RMS ="
       ]
      },
      {
       "output_type": "stream",
       "stream": "stdout",
       "text": [
        " 0.172287234348\n",
        "RMS ="
       ]
      },
      {
       "output_type": "stream",
       "stream": "stdout",
       "text": [
        " 0.172290749559\n",
        "RMS ="
       ]
      },
      {
       "output_type": "stream",
       "stream": "stdout",
       "text": [
        " 0.172287260263\n",
        "RMS = 0.172288154024\n",
        "RMS ="
       ]
      },
      {
       "output_type": "stream",
       "stream": "stdout",
       "text": [
        " 0.172287395567\n",
        "RMS ="
       ]
      },
      {
       "output_type": "stream",
       "stream": "stdout",
       "text": [
        " 0.17228815543\n",
        "RMS ="
       ]
      },
      {
       "output_type": "stream",
       "stream": "stdout",
       "text": [
        " 0.172288158582\n",
        "RMS = 0.172288158582\n",
        "RMS ="
       ]
      },
      {
       "output_type": "stream",
       "stream": "stdout",
       "text": [
        " 0.172288158582\n",
        "RMS ="
       ]
      },
      {
       "output_type": "stream",
       "stream": "stdout",
       "text": [
        " 0.172288158582\n",
        "RMS ="
       ]
      },
      {
       "output_type": "stream",
       "stream": "stdout",
       "text": [
        " 0.172288158582\n",
        "RMS ="
       ]
      },
      {
       "output_type": "stream",
       "stream": "stdout",
       "text": [
        " 56.9575506351\n",
        "RMS = 0.172211421181\n",
        "RMS ="
       ]
      },
      {
       "output_type": "stream",
       "stream": "stdout",
       "text": [
        " 0.172213741476\n",
        "RMS ="
       ]
      },
      {
       "output_type": "stream",
       "stream": "stdout",
       "text": [
        " 0.172211644878\n",
        "RMS ="
       ]
      },
      {
       "output_type": "stream",
       "stream": "stdout",
       "text": [
        " 0.172211801017\n",
        "RMS ="
       ]
      },
      {
       "output_type": "stream",
       "stream": "stdout",
       "text": [
        " 0.172212221221\n",
        "RMS = 0.172212407634\n",
        "RMS ="
       ]
      },
      {
       "output_type": "stream",
       "stream": "stdout",
       "text": [
        " 0.172212033542\n",
        "RMS ="
       ]
      },
      {
       "output_type": "stream",
       "stream": "stdout",
       "text": [
        " 0.172212174317\n",
        "RMS ="
       ]
      },
      {
       "output_type": "stream",
       "stream": "stdout",
       "text": [
        " 0.172211930037\n",
        "RMS ="
       ]
      },
      {
       "output_type": "stream",
       "stream": "stdout",
       "text": [
        " 0.172211421002\n",
        "RMS ="
       ]
      },
      {
       "output_type": "stream",
       "stream": "stdout",
       "text": [
        " 0.172213384843\n",
        "RMS ="
       ]
      },
      {
       "output_type": "stream",
       "stream": "stdout",
       "text": [
        " 0.17221140735\n",
        "RMS ="
       ]
      },
      {
       "output_type": "stream",
       "stream": "stdout",
       "text": [
        " 0.172211421181\n",
        "RMS ="
       ]
      },
      {
       "output_type": "stream",
       "stream": "stdout",
       "text": [
        " 0.172211421181\n",
        "RMS ="
       ]
      },
      {
       "output_type": "stream",
       "stream": "stdout",
       "text": [
        " 0.172211421181\n",
        "RMS ="
       ]
      },
      {
       "output_type": "stream",
       "stream": "stdout",
       "text": [
        " 0.172211421181\n",
        "RMS = 0.172211421181\n",
        "RMS ="
       ]
      },
      {
       "output_type": "stream",
       "stream": "stdout",
       "text": [
        " 0.172063896934\n",
        "RMS ="
       ]
      },
      {
       "output_type": "stream",
       "stream": "stdout",
       "text": [
        " 0.172065793813\n",
        "RMS = 0.172064002009\n",
        "RMS ="
       ]
      },
      {
       "output_type": "stream",
       "stream": "stdout",
       "text": [
        " 0.172064091604\n",
        "RMS ="
       ]
      },
      {
       "output_type": "stream",
       "stream": "stdout",
       "text": [
        " 0.172064893786\n",
        "RMS ="
       ]
      },
      {
       "output_type": "stream",
       "stream": "stdout",
       "text": [
        " 0.172065148853\n",
        "RMS = 0.172064321003\n",
        "RMS ="
       ]
      },
      {
       "output_type": "stream",
       "stream": "stdout",
       "text": [
        " 0.172064878362\n",
        "RMS ="
       ]
      },
      {
       "output_type": "stream",
       "stream": "stdout",
       "text": [
        " 0.172064233209\n",
        "RMS ="
       ]
      },
      {
       "output_type": "stream",
       "stream": "stdout",
       "text": [
        " 0.172063896212\n",
        "RMS = 0.172065527208\n",
        "RMS ="
       ]
      },
      {
       "output_type": "stream",
       "stream": "stdout",
       "text": [
        " 0.172063884521\n",
        "RMS ="
       ]
      },
      {
       "output_type": "stream",
       "stream": "stdout",
       "text": [
        " 0.172063896934\n",
        "RMS ="
       ]
      },
      {
       "output_type": "stream",
       "stream": "stdout",
       "text": [
        " 0.172063896934\n",
        "RMS ="
       ]
      },
      {
       "output_type": "stream",
       "stream": "stdout",
       "text": [
        " 0.172063896934\n",
        "RMS ="
       ]
      },
      {
       "output_type": "stream",
       "stream": "stdout",
       "text": [
        " 0.172063896934\n",
        "RMS ="
       ]
      },
      {
       "output_type": "stream",
       "stream": "stdout",
       "text": [
        " 0.172063896934\n",
        "RMS = 56.9578298476\n",
        "RMS ="
       ]
      },
      {
       "output_type": "stream",
       "stream": "stdout",
       "text": [
        " 0.172034409599\n",
        "RMS ="
       ]
      },
      {
       "output_type": "stream",
       "stream": "stdout",
       "text": [
        " 0.172036853194\n",
        "RMS ="
       ]
      },
      {
       "output_type": "stream",
       "stream": "stdout",
       "text": [
        " 0.172034667321\n",
        "RMS ="
       ]
      },
      {
       "output_type": "stream",
       "stream": "stdout",
       "text": [
        " 0.172034842556\n",
        "RMS = 0.172035154487\n",
        "RMS ="
       ]
      },
      {
       "output_type": "stream",
       "stream": "stdout",
       "text": [
        " 0.172035321993\n",
        "RMS ="
       ]
      },
      {
       "output_type": "stream",
       "stream": "stdout",
       "text": [
        " 0.172035076307\n",
        "RMS ="
       ]
      },
      {
       "output_type": "stream",
       "stream": "stdout",
       "text": [
        " 0.172035098615\n",
        "RMS ="
       ]
      },
      {
       "output_type": "stream",
       "stream": "stdout",
       "text": [
        " 0.172034968053\n",
        "RMS ="
       ]
      },
      {
       "output_type": "stream",
       "stream": "stdout",
       "text": [
        " 0.172034409575\n",
        "RMS = 0.172036470536\n",
        "RMS ="
       ]
      },
      {
       "output_type": "stream",
       "stream": "stdout",
       "text": [
        " 0.172034395495\n",
        "RMS = 0.172034409599"
       ]
      },
      {
       "output_type": "stream",
       "stream": "stdout",
       "text": [
        "\n",
        "RMS ="
       ]
      },
      {
       "output_type": "stream",
       "stream": "stdout",
       "text": [
        " 0.172034409599\n",
        "RMS ="
       ]
      },
      {
       "output_type": "stream",
       "stream": "stdout",
       "text": [
        " 0.172034409599\n",
        "RMS ="
       ]
      },
      {
       "output_type": "stream",
       "stream": "stdout",
       "text": [
        " 0.172034409599\n",
        "RMS ="
       ]
      },
      {
       "output_type": "stream",
       "stream": "stdout",
       "text": [
        " 0.172034409599\n",
        "RMS = 0.171975723992\n",
        "RMS ="
       ]
      },
      {
       "output_type": "stream",
       "stream": "stdout",
       "text": [
        " 0.171978100332\n",
        "RMS ="
       ]
      },
      {
       "output_type": "stream",
       "stream": "stdout",
       "text": [
        " 0.171975962864\n",
        "RMS ="
       ]
      },
      {
       "output_type": "stream",
       "stream": "stdout",
       "text": [
        " 0.171976127401\n",
        "RMS ="
       ]
      },
      {
       "output_type": "stream",
       "stream": "stdout",
       "text": [
        " 0.171976500349\n",
        "RMS ="
       ]
      },
      {
       "output_type": "stream",
       "stream": "stdout",
       "text": [
        " 0.171976679089\n",
        "RMS = 0.1719763608\n",
        "RMS ="
       ]
      },
      {
       "output_type": "stream",
       "stream": "stdout",
       "text": [
        " 0.171976449672\n",
        "RMS ="
       ]
      },
      {
       "output_type": "stream",
       "stream": "stdout",
       "text": [
        " 0.171976255038\n",
        "RMS ="
       ]
      },
      {
       "output_type": "stream",
       "stream": "stdout",
       "text": [
        " 0.17197572388\n",
        "RMS ="
       ]
      },
      {
       "output_type": "stream",
       "stream": "stdout",
       "text": [
        " 0.171977732211\n",
        "RMS = 0.171975710134\n",
        "RMS ="
       ]
      },
      {
       "output_type": "stream",
       "stream": "stdout",
       "text": [
        " 0.171975723992\n",
        "RMS ="
       ]
      },
      {
       "output_type": "stream",
       "stream": "stdout",
       "text": [
        " 0.171975723992\n",
        "RMS ="
       ]
      },
      {
       "output_type": "stream",
       "stream": "stdout",
       "text": [
        " 0.171975723992\n",
        "RMS = 0.171975723992\n",
        "RMS ="
       ]
      },
      {
       "output_type": "stream",
       "stream": "stdout",
       "text": [
        " 0.171975723992\n",
        "RMS ="
       ]
      },
      {
       "output_type": "stream",
       "stream": "stdout",
       "text": [
        " 0.171859069816\n",
        "RMS = 0.171861176182\n",
        "RMS ="
       ]
      },
      {
       "output_type": "stream",
       "stream": "stdout",
       "text": [
        " 0.171859233919\n",
        "RMS ="
       ]
      },
      {
       "output_type": "stream",
       "stream": "stdout",
       "text": [
        " 0.171859355119\n",
        "RMS ="
       ]
      },
      {
       "output_type": "stream",
       "stream": "stdout",
       "text": [
        " 0.171859970347\n",
        "RMS = 0.171860194474\n",
        "RMS ="
       ]
      },
      {
       "output_type": "stream",
       "stream": "stdout",
       "text": [
        " 0.171859587963\n",
        "RMS ="
       ]
      },
      {
       "output_type": "stream",
       "stream": "stdout",
       "text": [
        " 0.171859941247\n",
        "RMS ="
       ]
      },
      {
       "output_type": "stream",
       "stream": "stdout",
       "text": [
        " 0.171859492102\n",
        "RMS ="
       ]
      },
      {
       "output_type": "stream",
       "stream": "stdout",
       "text": [
        " 0.171859069358\n",
        "RMS ="
       ]
      },
      {
       "output_type": "stream",
       "stream": "stdout",
       "text": [
        " 0.17186086806\n",
        "RMS ="
       ]
      },
      {
       "output_type": "stream",
       "stream": "stdout",
       "text": [
        " 0.171859056879\n",
        "RMS ="
       ]
      },
      {
       "output_type": "stream",
       "stream": "stdout",
       "text": [
        " 0.171859069816\n",
        "RMS ="
       ]
      },
      {
       "output_type": "stream",
       "stream": "stdout",
       "text": [
        " 0.171859069816\n",
        "RMS ="
       ]
      },
      {
       "output_type": "stream",
       "stream": "stdout",
       "text": [
        " 0.171859069816\n",
        "RMS ="
       ]
      },
      {
       "output_type": "stream",
       "stream": "stdout",
       "text": [
        " 0.171859069816\n",
        "RMS ="
       ]
      },
      {
       "output_type": "stream",
       "stream": "stdout",
       "text": [
        " 0.171859069816\n",
        "RMS ="
       ]
      },
      {
       "output_type": "stream",
       "stream": "stdout",
       "text": [
        " 56.9577557675\n",
        "RMS ="
       ]
      },
      {
       "output_type": "stream",
       "stream": "stdout",
       "text": [
        " 0.171835767315\n",
        "RMS ="
       ]
      },
      {
       "output_type": "stream",
       "stream": "stdout",
       "text": [
        " 0.171838222317\n",
        "RMS ="
       ]
      },
      {
       "output_type": "stream",
       "stream": "stdout",
       "text": [
        " 0.171836027708\n",
        "RMS ="
       ]
      },
      {
       "output_type": "stream",
       "stream": "stdout",
       "text": [
        " 0.171836204495\n",
        "RMS = 0.171836508941\n",
        "RMS ="
       ]
      },
      {
       "output_type": "stream",
       "stream": "stdout",
       "text": [
        " 0.171836675588\n",
        "RMS = 0.171836438528\n",
        "RMS ="
       ]
      },
      {
       "output_type": "stream",
       "stream": "stdout",
       "text": [
        " 0.17183645241\n",
        "RMS = 0.171836329754\n",
        "RMS ="
       ]
      },
      {
       "output_type": "stream",
       "stream": "stdout",
       "text": [
        " 0.171835767301\n",
        "RMS ="
       ]
      },
      {
       "output_type": "stream",
       "stream": "stdout",
       "text": [
        " 0.171837837292\n",
        "RMS ="
       ]
      },
      {
       "output_type": "stream",
       "stream": "stdout",
       "text": [
        " 0.171835753301\n",
        "RMS ="
       ]
      },
      {
       "output_type": "stream",
       "stream": "stdout",
       "text": [
        " 0.171835767315\n",
        "RMS ="
       ]
      },
      {
       "output_type": "stream",
       "stream": "stdout",
       "text": [
        " 0.171835767315\n",
        "RMS ="
       ]
      },
      {
       "output_type": "stream",
       "stream": "stdout",
       "text": [
        " 0.171835767315\n",
        "RMS = 0.171835767315\n",
        "RMS ="
       ]
      },
      {
       "output_type": "stream",
       "stream": "stdout",
       "text": [
        " 0.171835767315\n",
        "RMS ="
       ]
      },
      {
       "output_type": "stream",
       "stream": "stdout",
       "text": [
        " 0.171789317026\n",
        "RMS ="
       ]
      },
      {
       "output_type": "stream",
       "stream": "stdout",
       "text": [
        " 0.171791728731\n",
        "RMS ="
       ]
      },
      {
       "output_type": "stream",
       "stream": "stdout",
       "text": [
        " 0.171789565528\n",
        "RMS ="
       ]
      },
      {
       "output_type": "stream",
       "stream": "stdout",
       "text": [
        " 0.171789735168\n",
        "RMS ="
       ]
      },
      {
       "output_type": "stream",
       "stream": "stdout",
       "text": [
        " 0.171790078566\n",
        "RMS ="
       ]
      },
      {
       "output_type": "stream",
       "stream": "stdout",
       "text": [
        " 0.171790252903\n",
        "RMS ="
       ]
      },
      {
       "output_type": "stream",
       "stream": "stdout",
       "text": [
        " 0.171789969391\n",
        "RMS ="
       ]
      },
      {
       "output_type": "stream",
       "stream": "stdout",
       "text": [
        " 0.171790025801\n",
        "RMS ="
       ]
      },
      {
       "output_type": "stream",
       "stream": "stdout",
       "text": [
        " 0.171789862177\n",
        "RMS = 0.171789316957\n",
        "RMS ="
       ]
      },
      {
       "output_type": "stream",
       "stream": "stdout",
       "text": [
        " 0.171791353806\n",
        "RMS ="
       ]
      },
      {
       "output_type": "stream",
       "stream": "stdout",
       "text": [
        " 0.171789303176\n",
        "RMS ="
       ]
      },
      {
       "output_type": "stream",
       "stream": "stdout",
       "text": [
        " 0.171789317026\n",
        "RMS = 0.171789317026\n",
        "RMS ="
       ]
      },
      {
       "output_type": "stream",
       "stream": "stdout",
       "text": [
        " 0.171789317026\n",
        "RMS ="
       ]
      },
      {
       "output_type": "stream",
       "stream": "stdout",
       "text": [
        " 0.171789317026\n",
        "RMS ="
       ]
      },
      {
       "output_type": "stream",
       "stream": "stdout",
       "text": [
        " 0.171789317026\n",
        "RMS ="
       ]
      },
      {
       "output_type": "stream",
       "stream": "stdout",
       "text": [
        " 56.9578121168\n",
        "RMS ="
       ]
      },
      {
       "output_type": "stream",
       "stream": "stdout",
       "text": [
        " 0.17178003527\n",
        "RMS ="
       ]
      },
      {
       "output_type": "stream",
       "stream": "stdout",
       "text": [
        " 0.171782503173\n",
        "RMS ="
       ]
      },
      {
       "output_type": "stream",
       "stream": "stdout",
       "text": [
        " 0.171780299147\n",
        "RMS ="
       ]
      },
      {
       "output_type": "stream",
       "stream": "stdout",
       "text": [
        " 0.171780477864\n",
        "RMS ="
       ]
      },
      {
       "output_type": "stream",
       "stream": "stdout",
       "text": [
        " 0.171780771457\n",
        "RMS ="
       ]
      },
      {
       "output_type": "stream",
       "stream": "stdout",
       "text": [
        " 0.171780936363\n",
        "RMS ="
       ]
      },
      {
       "output_type": "stream",
       "stream": "stdout",
       "text": [
        " 0.171780712072\n",
        "RMS = 0.17178071409\n",
        "RMS ="
       ]
      },
      {
       "output_type": "stream",
       "stream": "stdout",
       "text": [
        " 0.171780602809\n",
        "RMS ="
       ]
      },
      {
       "output_type": "stream",
       "stream": "stdout",
       "text": [
        " 0.171780035271\n",
        "RMS = 0.171782115487\n",
        "RMS ="
       ]
      },
      {
       "output_type": "stream",
       "stream": "stdout",
       "text": [
        " 0.171780021248\n",
        "RMS = 0.17178003527\n",
        "RMS ="
       ]
      },
      {
       "output_type": "stream",
       "stream": "stdout",
       "text": [
        " 0.17178003527\n",
        "RMS = 0.17178003527\n",
        "RMS ="
       ]
      },
      {
       "output_type": "stream",
       "stream": "stdout",
       "text": [
        " 0.17178003527\n",
        "RMS = 0.17178003527\n",
        "RMS ="
       ]
      },
      {
       "output_type": "stream",
       "stream": "stdout",
       "text": [
        " 56.9578534206\n",
        "RMS = 0.17177817934\n",
        "RMS ="
       ]
      },
      {
       "output_type": "stream",
       "stream": "stdout",
       "text": [
        " 0.171780649491\n",
        "RMS = 0.171778443851\n",
        "RMS ="
       ]
      },
      {
       "output_type": "stream",
       "stream": "stdout",
       "text": [
        " 0.171778622897\n",
        "RMS ="
       ]
      },
      {
       "output_type": "stream",
       "stream": "stdout",
       "text": [
        " 0.171778914494\n",
        "RMS ="
       ]
      },
      {
       "output_type": "stream",
       "stream": "stdout",
       "text": [
        " 0.171779079075\n",
        "RMS ="
       ]
      },
      {
       "output_type": "stream",
       "stream": "stdout",
       "text": [
        " 0.171778857161\n",
        "RMS ="
       ]
      },
      {
       "output_type": "stream",
       "stream": "stdout",
       "text": [
        " 0.171778856972\n",
        "RMS ="
       ]
      },
      {
       "output_type": "stream",
       "stream": "stdout",
       "text": [
        " 0.171778747799\n",
        "RMS ="
       ]
      },
      {
       "output_type": "stream",
       "stream": "stdout",
       "text": [
        " 0.171778179345\n",
        "RMS ="
       ]
      },
      {
       "output_type": "stream",
       "stream": "stdout",
       "text": [
        " 0.171780261354\n",
        "RMS ="
       ]
      },
      {
       "output_type": "stream",
       "stream": "stdout",
       "text": [
        " 0.171778165318\n",
        "RMS ="
       ]
      },
      {
       "output_type": "stream",
       "stream": "stdout",
       "text": [
        " 0.17177817934\n",
        "RMS ="
       ]
      },
      {
       "output_type": "stream",
       "stream": "stdout",
       "text": [
        " 0.17177817934\n",
        "RMS ="
       ]
      },
      {
       "output_type": "stream",
       "stream": "stdout",
       "text": [
        " 0.17177817934\n",
        "RMS = 0.17177817934\n",
        "RMS ="
       ]
      },
      {
       "output_type": "stream",
       "stream": "stdout",
       "text": [
        " 0.17177817934\n",
        "RMS = 56.9578611187\n",
        "RMS ="
       ]
      },
      {
       "output_type": "stream",
       "stream": "stdout",
       "text": [
        " 0.171777808181\n",
        "RMS = 0.171780278407\n",
        "RMS ="
       ]
      },
      {
       "output_type": "stream",
       "stream": "stdout",
       "text": [
        " 0.171778072716\n",
        "RMS = 0.17177825177\n",
        "RMS ="
       ]
      },
      {
       "output_type": "stream",
       "stream": "stdout",
       "text": [
        " 0.171778543292\n",
        "RMS ="
       ]
      },
      {
       "output_type": "stream",
       "stream": "stdout",
       "text": [
        " 0.171778707874\n",
        "RMS ="
       ]
      },
      {
       "output_type": "stream",
       "stream": "stdout",
       "text": [
        " 0.171778486048\n",
        "RMS ="
       ]
      },
      {
       "output_type": "stream",
       "stream": "stdout",
       "text": [
        " 0.171778485774\n",
        "RMS = 0.171778376679\n",
        "RMS ="
       ]
      },
      {
       "output_type": "stream",
       "stream": "stdout",
       "text": [
        " 0.171777808185\n",
        "RMS = 0.171779890275\n",
        "RMS ="
       ]
      },
      {
       "output_type": "stream",
       "stream": "stdout",
       "text": [
        " 0.171777794159\n",
        "RMS = 0.171777808181\n",
        "RMS ="
       ]
      },
      {
       "output_type": "stream",
       "stream": "stdout",
       "text": [
        " 0.171777808181\n",
        "RMS = 0.171777808181\n",
        "RMS ="
       ]
      },
      {
       "output_type": "stream",
       "stream": "stdout",
       "text": [
        " 0.171777808181\n",
        "RMS ="
       ]
      },
      {
       "output_type": "stream",
       "stream": "stdout",
       "text": [
        " 0.171777808181\n",
        "RMS ="
       ]
      },
      {
       "output_type": "stream",
       "stream": "stdout",
       "text": [
        " 0.171777065906\n",
        "RMS ="
       ]
      },
      {
       "output_type": "stream",
       "stream": "stdout",
       "text": [
        " 0.171779536147\n",
        "RMS ="
       ]
      },
      {
       "output_type": "stream",
       "stream": "stdout",
       "text": [
        " 0.171777330441\n",
        "RMS ="
       ]
      },
      {
       "output_type": "stream",
       "stream": "stdout",
       "text": [
        " 0.171777509499\n",
        "RMS ="
       ]
      },
      {
       "output_type": "stream",
       "stream": "stdout",
       "text": [
        " 0.17177780103\n",
        "RMS = 0.171777965604\n",
        "RMS ="
       ]
      },
      {
       "output_type": "stream",
       "stream": "stdout",
       "text": [
        " 0.171777743775\n",
        "RMS = 0.171777743497\n",
        "RMS ="
       ]
      },
      {
       "output_type": "stream",
       "stream": "stdout",
       "text": [
        " 0.171777634398\n",
        "RMS = 0.17177706591\n",
        "RMS ="
       ]
      },
      {
       "output_type": "stream",
       "stream": "stdout",
       "text": [
        " 0.171779147996\n",
        "RMS = 0.171777051886\n",
        "RMS ="
       ]
      },
      {
       "output_type": "stream",
       "stream": "stdout",
       "text": [
        " 0.171777065906\n",
        "RMS = 0.171777065906\n",
        "RMS ="
       ]
      },
      {
       "output_type": "stream",
       "stream": "stdout",
       "text": [
        " 0.171777065906\n",
        "RMS ="
       ]
      },
      {
       "output_type": "stream",
       "stream": "stdout",
       "text": [
        " 0.171777065906\n",
        "RMS ="
       ]
      },
      {
       "output_type": "stream",
       "stream": "stdout",
       "text": [
        " 0.171777065906\n",
        "RMS ="
       ]
      },
      {
       "output_type": "stream",
       "stream": "stdout",
       "text": [
        " 0.171775581509\n",
        "RMS = 0.171778051719\n",
        "RMS ="
       ]
      },
      {
       "output_type": "stream",
       "stream": "stdout",
       "text": [
        " 0.17177584603\n",
        "RMS ="
       ]
      },
      {
       "output_type": "stream",
       "stream": "stdout",
       "text": [
        " 0.171776025081\n",
        "RMS ="
       ]
      },
      {
       "output_type": "stream",
       "stream": "stdout",
       "text": [
        " 0.171776316667\n",
        "RMS = 0.171776481248\n",
        "RMS ="
       ]
      },
      {
       "output_type": "stream",
       "stream": "stdout",
       "text": [
        " 0.171776259366\n",
        "RMS ="
       ]
      },
      {
       "output_type": "stream",
       "stream": "stdout",
       "text": [
        " 0.171776259125\n",
        "RMS = 0.171776149984\n",
        "RMS ="
       ]
      },
      {
       "output_type": "stream",
       "stream": "stdout",
       "text": [
        " 0.171775581513\n",
        "RMS ="
       ]
      },
      {
       "output_type": "stream",
       "stream": "stdout",
       "text": [
        " 0.17177766358\n",
        "RMS ="
       ]
      },
      {
       "output_type": "stream",
       "stream": "stdout",
       "text": [
        " 0.171775567492\n",
        "RMS ="
       ]
      },
      {
       "output_type": "stream",
       "stream": "stdout",
       "text": [
        " 0.171775581509\n",
        "RMS ="
       ]
      },
      {
       "output_type": "stream",
       "stream": "stdout",
       "text": [
        " 0.171775581509\n",
        "RMS = 0.171775581509\n",
        "RMS ="
       ]
      },
      {
       "output_type": "stream",
       "stream": "stdout",
       "text": [
        " 0.171775581509\n",
        "RMS ="
       ]
      },
      {
       "output_type": "stream",
       "stream": "stdout",
       "text": [
        " 0.171775581509\n",
        "RMS ="
       ]
      },
      {
       "output_type": "stream",
       "stream": "stdout",
       "text": [
        " 56.9578601368\n",
        "RMS = 0.171775284631\n",
        "RMS ="
       ]
      },
      {
       "output_type": "stream",
       "stream": "stdout",
       "text": [
        " 0.171777754899\n",
        "RMS = 0.171775549172\n",
        "RMS ="
       ]
      },
      {
       "output_type": "stream",
       "stream": "stdout",
       "text": [
        " 0.171775728228\n",
        "RMS = 0.17177601976\n",
        "RMS ="
       ]
      },
      {
       "output_type": "stream",
       "stream": "stdout",
       "text": [
        " 0.171776184338\n",
        "RMS = 0.171775962521\n",
        "RMS ="
       ]
      },
      {
       "output_type": "stream",
       "stream": "stdout",
       "text": [
        " 0.17177596222\n",
        "RMS ="
       ]
      },
      {
       "output_type": "stream",
       "stream": "stdout",
       "text": [
        " 0.171775853133\n",
        "RMS ="
       ]
      },
      {
       "output_type": "stream",
       "stream": "stdout",
       "text": [
        " 0.171775284635\n",
        "RMS = 0.171777366755\n",
        "RMS ="
       ]
      },
      {
       "output_type": "stream",
       "stream": "stdout",
       "text": [
        " 0.171775270614\n",
        "RMS ="
       ]
      },
      {
       "output_type": "stream",
       "stream": "stdout",
       "text": [
        " 0.171775284631\n",
        "RMS ="
       ]
      },
      {
       "output_type": "stream",
       "stream": "stdout",
       "text": [
        " 0.171775284631\n",
        "RMS ="
       ]
      },
      {
       "output_type": "stream",
       "stream": "stdout",
       "text": [
        " 0.171775284631\n",
        "RMS = 0.171775284631\n",
        "RMS ="
       ]
      },
      {
       "output_type": "stream",
       "stream": "stdout",
       "text": [
        " 0.171775284631\n",
        "RMS ="
       ]
      },
      {
       "output_type": "stream",
       "stream": "stdout",
       "text": [
        " 0.171774690881\n",
        "RMS ="
       ]
      },
      {
       "output_type": "stream",
       "stream": "stdout",
       "text": [
        " 0.171777161144\n",
        "RMS ="
       ]
      },
      {
       "output_type": "stream",
       "stream": "stdout",
       "text": [
        " 0.171774955422\n",
        "RMS ="
       ]
      },
      {
       "output_type": "stream",
       "stream": "stdout",
       "text": [
        " 0.171775134475\n",
        "RMS = 0.171775426023\n",
        "RMS ="
       ]
      },
      {
       "output_type": "stream",
       "stream": "stdout",
       "text": [
        " 0.171775590601\n",
        "RMS ="
       ]
      },
      {
       "output_type": "stream",
       "stream": "stdout",
       "text": [
        " 0.171775368772\n",
        "RMS ="
       ]
      },
      {
       "output_type": "stream",
       "stream": "stdout",
       "text": [
        " 0.171775368479\n",
        "RMS ="
       ]
      },
      {
       "output_type": "stream",
       "stream": "stdout",
       "text": [
        " 0.171775259382\n",
        "RMS ="
       ]
      },
      {
       "output_type": "stream",
       "stream": "stdout",
       "text": [
        " 0.171774690886\n",
        "RMS ="
       ]
      },
      {
       "output_type": "stream",
       "stream": "stdout",
       "text": [
        " 0.171776773007\n",
        "RMS = 0.171774676865\n",
        "RMS ="
       ]
      },
      {
       "output_type": "stream",
       "stream": "stdout",
       "text": [
        " 0.171774690881\n",
        "RMS = 0.171774690881\n",
        "RMS ="
       ]
      },
      {
       "output_type": "stream",
       "stream": "stdout",
       "text": [
        " 0.171774690881\n",
        "RMS = 0.171774690881\n",
        "RMS ="
       ]
      },
      {
       "output_type": "stream",
       "stream": "stdout",
       "text": [
        " 0.171774690881\n",
        "RMS = 56.9578606261\n",
        "Wrote new model in rhea_v9.xml"
       ]
      },
      {
       "output_type": "stream",
       "stream": "stdout",
       "text": [
        "\n"
       ]
      },
      {
       "metadata": {},
       "output_type": "pyout",
       "prompt_number": 14,
       "text": [
        "(array([  2.72386292e+02,   8.99849000e+01,   5.94084576e+01,\n",
        "         8.93605902e+01,   9.02385347e+01,   9.00007212e+01,\n",
        "         6.70038648e+01,   6.50248366e+01,   3.84557234e-01,\n",
        "         3.15055786e+01,   1.99289345e+02,   3.37641726e-02,\n",
        "        -1.61682148e-01,   2.49624178e-01,  -5.06815697e-03,\n",
        "        -5.22810051e+02]),\n",
        " None,\n",
        " {'fjac': array([[  7.64324063e+03,   4.45381714e+01,  -1.59145866e+03,\n",
        "         -4.65208836e+01,   1.92649173e+03,  -2.35852171e+01,\n",
        "         -3.86648654e+01,   3.78499820e+01,   1.76227613e+00,\n",
        "          1.52425477e+03,   9.57430331e+02,   0.00000000e+00,\n",
        "          0.00000000e+00,   0.00000000e+00,   0.00000000e+00,\n",
        "          0.00000000e+00,   6.87405973e-01,   1.05693628e-01],\n",
        "       [  4.45384622e+01,   2.04237982e+03,  -1.13163134e+01,\n",
        "         -1.88028943e+03,   1.28592296e+01,  -8.51885732e+02,\n",
        "         -9.53417077e+02,   1.76080950e+03,   5.38867259e+00,\n",
        "          1.38796902e+01,   6.98773074e+00,   0.00000000e+00,\n",
        "          0.00000000e+00,   0.00000000e+00,   0.00000000e+00,\n",
        "          0.00000000e+00,  -4.55654676e-01,  -6.55963925e-02],\n",
        "       [ -1.59146905e+03,  -1.13168950e+01,   3.96219440e+01,\n",
        "          8.62653606e-01,  -2.76398352e+01,   2.09053853e-02,\n",
        "         -4.79805679e+00,  -8.75751406e-01,  -3.04042278e+00,\n",
        "         -3.05623830e+01,  -2.58168133e+00,   0.00000000e+00,\n",
        "          0.00000000e+00,   0.00000000e+00,   0.00000000e+00,\n",
        "          0.00000000e+00,   3.82604502e-01,   3.82668966e-01],\n",
        "       [ -4.65211873e+01,  -1.88046137e+03,   9.57900106e-01,\n",
        "          2.55912429e+01,   2.60207920e-01,   6.92624482e+00,\n",
        "          7.63775233e+00,  -2.47259731e+01,  -1.74598307e+00,\n",
        "         -1.23518855e-01,  -2.56125971e-02,   0.00000000e+00,\n",
        "          0.00000000e+00,   0.00000000e+00,   0.00000000e+00,\n",
        "          0.00000000e+00,  -2.99860629e-02,  -1.72839733e-01],\n",
        "       [  1.92650431e+03,   1.28598569e+01,  -3.29204326e+01,\n",
        "          9.40774335e-01,  -2.08063023e+01,   5.50287832e-01,\n",
        "          3.01778166e+00,   2.56423748e-01,  -2.15926612e+00,\n",
        "         -1.10378412e+01,  -2.11865086e+00,   0.00000000e+00,\n",
        "          0.00000000e+00,   0.00000000e+00,   0.00000000e+00,\n",
        "          0.00000000e+00,   5.65611836e-01,  -1.65415413e-01],\n",
        "       [ -2.35853711e+01,  -8.51963631e+02,  -2.14632071e-02,\n",
        "          8.51264433e-01,   9.57521773e-01,   1.41121215e+01,\n",
        "          2.90580920e+00,  -3.68516134e+00,   2.52844536e-01,\n",
        "          2.01318676e+00,  -4.33764589e-02,   0.00000000e+00,\n",
        "          0.00000000e+00,   0.00000000e+00,   0.00000000e+00,\n",
        "          0.00000000e+00,   3.91197493e-01,   1.37437810e-01],\n",
        "       [ -3.86651179e+01,  -9.53504257e+02,  -5.94939685e+00,\n",
        "          8.09553214e-01,   8.58889694e+00,  -6.41817413e-01,\n",
        "          2.31964447e-01,  -3.87901196e+00,   1.02322789e-01,\n",
        "          2.64094372e+00,  -2.95108459e-01,   0.00000000e+00,\n",
        "          0.00000000e+00,   0.00000000e+00,   0.00000000e+00,\n",
        "          0.00000000e+00,   2.11468925e-01,  -7.89022971e-01],\n",
        "       [  3.78502291e+01,   1.76097052e+03,  -9.83401866e-01,\n",
        "         -2.02322920e+01,   4.72924162e-01,   4.68033887e-02,\n",
        "          1.62143354e-02,  -6.73502397e-02,   6.28588033e-01,\n",
        "          7.32424062e-01,  -3.21179969e-02,   0.00000000e+00,\n",
        "          0.00000000e+00,   0.00000000e+00,   0.00000000e+00,\n",
        "          0.00000000e+00,   2.41936392e-02,  -1.12311928e-01],\n",
        "       [  1.76228764e+00,   5.38916489e+00,  -3.73135717e+00,\n",
        "         -2.99050340e+00,  -2.35136923e+00,   2.82058569e-02,\n",
        "         -6.50778345e-02,   1.43930638e-02,  -4.89880502e-02,\n",
        "          7.85228976e-01,   8.14709163e-02,   0.00000000e+00,\n",
        "          0.00000000e+00,   0.00000000e+00,   0.00000000e+00,\n",
        "          0.00000000e+00,  -9.81143905e-02,  -3.61131279e-01],\n",
        "       [  1.52426473e+03,   1.38805254e+01,  -3.67191532e+01,\n",
        "          3.15698151e-01,  -1.62840860e+00,   4.27824416e+00,\n",
        "          1.20273995e-01,  -1.50114037e-02,  -2.02231064e-03,\n",
        "         -2.34771609e-02,   5.74235843e-01,   0.00000000e+00,\n",
        "          0.00000000e+00,   0.00000000e+00,   0.00000000e+00,\n",
        "          0.00000000e+00,  -7.79969745e-02,   2.89550581e-01],\n",
        "       [  9.57436583e+02,   6.98809710e+00,  -2.66689537e+00,\n",
        "          6.39208459e-02,  -2.07676800e+00,   1.60624859e-02,\n",
        "         -3.30922636e-02,   8.74181529e-03,  -1.18170982e-02,\n",
        "         -1.13201710e-03,  -6.66304479e-03,   0.00000000e+00,\n",
        "          0.00000000e+00,   0.00000000e+00,   0.00000000e+00,\n",
        "          0.00000000e+00,   4.26488507e-02,  -5.07472042e-01],\n",
        "       [  0.00000000e+00,   0.00000000e+00,   0.00000000e+00,\n",
        "          0.00000000e+00,   0.00000000e+00,   0.00000000e+00,\n",
        "          0.00000000e+00,   0.00000000e+00,   0.00000000e+00,\n",
        "          0.00000000e+00,   0.00000000e+00,  -0.00000000e+00,\n",
        "          0.00000000e+00,   0.00000000e+00,   0.00000000e+00,\n",
        "          0.00000000e+00,   0.00000000e+00,   0.00000000e+00],\n",
        "       [  0.00000000e+00,   0.00000000e+00,   0.00000000e+00,\n",
        "          0.00000000e+00,   0.00000000e+00,   0.00000000e+00,\n",
        "          0.00000000e+00,   0.00000000e+00,   0.00000000e+00,\n",
        "          0.00000000e+00,   0.00000000e+00,   0.00000000e+00,\n",
        "         -0.00000000e+00,   0.00000000e+00,   0.00000000e+00,\n",
        "          0.00000000e+00,   0.00000000e+00,   0.00000000e+00],\n",
        "       [  0.00000000e+00,   0.00000000e+00,   0.00000000e+00,\n",
        "          0.00000000e+00,   0.00000000e+00,   0.00000000e+00,\n",
        "          0.00000000e+00,   0.00000000e+00,   0.00000000e+00,\n",
        "          0.00000000e+00,   0.00000000e+00,   0.00000000e+00,\n",
        "          0.00000000e+00,  -0.00000000e+00,   0.00000000e+00,\n",
        "          0.00000000e+00,   0.00000000e+00,   0.00000000e+00],\n",
        "       [  0.00000000e+00,   0.00000000e+00,   0.00000000e+00,\n",
        "          0.00000000e+00,   0.00000000e+00,   0.00000000e+00,\n",
        "          0.00000000e+00,   0.00000000e+00,   0.00000000e+00,\n",
        "          0.00000000e+00,   0.00000000e+00,   0.00000000e+00,\n",
        "          0.00000000e+00,   0.00000000e+00,  -0.00000000e+00,\n",
        "          0.00000000e+00,   0.00000000e+00,   0.00000000e+00],\n",
        "       [  0.00000000e+00,   0.00000000e+00,   0.00000000e+00,\n",
        "          0.00000000e+00,   0.00000000e+00,   0.00000000e+00,\n",
        "          0.00000000e+00,   0.00000000e+00,   0.00000000e+00,\n",
        "          0.00000000e+00,   0.00000000e+00,   0.00000000e+00,\n",
        "          0.00000000e+00,   0.00000000e+00,   0.00000000e+00,\n",
        "         -0.00000000e+00,   0.00000000e+00,   0.00000000e+00]]),\n",
        "  'fvec': array([ -1.24256453e-02,   2.59635268e-02,  -7.20401258e-03,\n",
        "        -6.29145083e-02,   8.88145517e-02,   3.16780317e-02,\n",
        "         2.29418419e-02,  -4.21847951e-04,  -9.54346210e-02,\n",
        "         9.71230469e-03,   3.24532160e-01,  -1.42531397e-01,\n",
        "        -8.19491079e-02,  -1.09557895e-01,  -1.46868357e-01,\n",
        "         5.28738699e-01,  -1.43073888e-01,   2.04203494e-01]),\n",
        "  'ipvt': array([10,  7,  4,  3,  8,  9,  1,  5, 11,  6,  2, 12, 13, 14, 15, 16], dtype=int32),\n",
        "  'nfev': 490,\n",
        "  'qtf': array([  4.71670521e-09,   7.34236974e-06,   4.96801977e-04,\n",
        "        -1.46838996e-04,  -1.51907064e-03,   5.98166502e-04,\n",
        "         2.45476939e-01,   5.34530324e-01,   1.75863818e-01,\n",
        "         1.75708523e-01,   1.15994580e-01,  -2.62028939e-02,\n",
        "         1.90907025e-01,   3.49474627e-02,   1.09212648e-01,\n",
        "         1.46394049e-01])},\n",
        " 'The relative error between two consecutive iterates is at most 0.000000',\n",
        " 2)"
       ]
      }
     ],
     "prompt_number": 14
    },
    {
     "cell_type": "heading",
     "level": 2,
     "metadata": {},
     "source": [
      "Extract using model"
     ]
    },
    {
     "cell_type": "code",
     "collapsed": false,
     "input": [
      "xml = 'rhea_v9.xml'"
     ],
     "language": "python",
     "metadata": {},
     "outputs": [],
     "prompt_number": 6
    },
    {
     "cell_type": "code",
     "collapsed": false,
     "input": [
      "rhea.read_xml(xml, scienceFile)"
     ],
     "language": "python",
     "metadata": {},
     "outputs": [],
     "prompt_number": 7
    },
    {
     "cell_type": "code",
     "collapsed": false,
     "input": [
      "SEDMap = rhea.create_sed_map(SEDMode=wsm.wt.c.sedMode.flat)"
     ],
     "language": "python",
     "metadata": {},
     "outputs": [],
     "prompt_number": 8
    },
    {
     "cell_type": "code",
     "collapsed": false,
     "input": [
      "CCDMap,CCDMapOffset = rhea.create_ccd_map(SEDMap, xml)"
     ],
     "language": "python",
     "metadata": {},
     "outputs": [],
     "prompt_number": 9
    },
    {
     "cell_type": "code",
     "collapsed": false,
     "input": [
      "# wsm.plot().ccd_map(CCDMapOffset, canvasSize=1.2, backgroundFile=scienceFile)"
     ],
     "language": "python",
     "metadata": {},
     "outputs": [],
     "prompt_number": 10
    },
    {
     "cell_type": "code",
     "collapsed": false,
     "input": [
      "x1,y1 = rhea.extract_order(CCDMapOffset, 87, image = scienceFile, booShowImage=True)\n",
      "# CCDMap, nOrder, image = '', orderFileName = '', booShowImage = False):\n",
      "plt.plot(x1,y1)\n",
      "plt.plot(x2,y2)\n",
      "plt.show()"
     ],
     "language": "python",
     "metadata": {},
     "outputs": [
      {
       "output_type": "stream",
       "stream": "stdout",
       "text": [
        "/Users/Carlos/Documents/workspace/wsm/wsmtools/image_analysis.py:180: RuntimeWarning: divide by zero encountered in log10\n",
        "  im = np.log10(im)\n"
       ]
      }
     ],
     "prompt_number": 17
    },
    {
     "cell_type": "code",
     "collapsed": false,
     "input": [
      "#sets the current arc and science file\n",
      "currentFilesIdx = 1\n",
      "arcFile = arcScienceMap[currentFilesIdx,0]\n",
      "scienceFile = arcScienceMap[currentFilesIdx,1]"
     ],
     "language": "python",
     "metadata": {},
     "outputs": [],
     "prompt_number": 10
    },
    {
     "cell_type": "code",
     "collapsed": false,
     "input": [
      "from scipy import interpolate\n",
      "orderMap = CCDMapOffset[:,c.CCDMap.order]==87\n",
      "xPlot = CCDMapOffset[:,c.CCDMap.x][orderMap]\n",
      "yPlot = CCDMapOffset[:,c.CCDMap.y][orderMap]\n",
      "LambdaPlot = CCDMapOffset[:,c.CCDMap.wavelength][orderMap]\n",
      "\n",
      "fLambda = interpolate.interp1d(yPlot, LambdaPlot)\n",
      "fX = interpolate.interp1d(yPlot, xPlot, 'quadratic', bounds_error=False)\n",
      "\n",
      "hdulist = pf.open(scienceFile)\n",
      "imWidth = hdulist[0].header['NAXIS1']\n",
      "imHeight = hdulist[0].header['NAXIS2']\n",
      "\n",
      "if ((min(yPlot)>0) or (max(yPlot)<imHeight)):\n",
      "    yRange = yPlot\n",
      "else:\n",
      "    yRange = range(0,imHeight+1)\n",
      "\n",
      "newX, newY, newLambdas = wsm.wt.calculate_from_Y(yRange, fX, fLambda)\n"
     ],
     "language": "python",
     "metadata": {},
     "outputs": [],
     "prompt_number": 16
    },
    {
     "cell_type": "code",
     "collapsed": false,
     "input": [
      "plt.plot(newX,newY)\n",
      "plt.show()"
     ],
     "language": "python",
     "metadata": {},
     "outputs": [],
     "prompt_number": 17
    },
    {
     "cell_type": "code",
     "collapsed": false,
     "input": [
      "    \n",
      "    for k in range(0,len(newY)):\n",
      "        ###mikes'\n",
      "        x_int = round(newX[k])\n",
      "        #if e.g. x = 10.4, this goes from 5 to 15, and xv at the center is 0.4\n",
      "        in_image_temp = im[y[k],x_int-5:x_int+6]\n",
      "#        in_image_temp=im[y[k],x_int-5]        \n",
      "#        for i in range(-4,6):\n",
      "#            in_image_temp = np.hstack((in_image_temp,im[y[k+i-4],x_int+i]))          \n",
      "        in_image_temp[in_image_temp < 0] = 0\n",
      "        xv = np.arange(-5,6)  + x_int - x[k]\n",
      "        flux[k] =  np.sum(in_image_temp * np.exp(-(xv/3.5)**4))\n",
      "#"
     ],
     "language": "python",
     "metadata": {},
     "outputs": []
    },
    {
     "cell_type": "code",
     "collapsed": false,
     "input": [
      "for i in range(80,120):\n",
      "    x,y = rhea.extract_order(CCDMapOffset, i, scienceFile, False)\n",
      "    plt.plot(x,y)\n",
      "    plt.title(str(i))\n",
      "    plt.show()"
     ],
     "language": "python",
     "metadata": {},
     "outputs": []
    },
    {
     "cell_type": "code",
     "collapsed": false,
     "input": [
      "wsm.plot().ccd_map(CCDMapOffset, backImage = arcFile)"
     ],
     "language": "python",
     "metadata": {},
     "outputs": []
    },
    {
     "cell_type": "code",
     "collapsed": false,
     "input": [
      "import RVSimulator as RVS\n",
      "import HERMES as H"
     ],
     "language": "python",
     "metadata": {},
     "outputs": []
    },
    {
     "cell_type": "code",
     "collapsed": false,
     "input": [
      "y1_clean = RVS.clean_flux(y1, lambdas = x1)"
     ],
     "language": "python",
     "metadata": {},
     "outputs": []
    },
    {
     "cell_type": "code",
     "collapsed": false,
     "input": [
      "y2_clean = RVS.clean_flux(y2, lambdas = x2)"
     ],
     "language": "python",
     "metadata": {},
     "outputs": []
    },
    {
     "cell_type": "code",
     "collapsed": false,
     "input": [
      "RVS.QdRV(x2,y2)"
     ],
     "language": "python",
     "metadata": {},
     "outputs": []
    },
    {
     "cell_type": "code",
     "collapsed": false,
     "input": [
      "a = H.RV()"
     ],
     "language": "python",
     "metadata": {},
     "outputs": []
    },
    {
     "cell_type": "code",
     "collapsed": false,
     "input": [
      "a.RV(y2_clean[0],y2_clean[1],y1_clean[0],y1_clean[1], 10)"
     ],
     "language": "python",
     "metadata": {},
     "outputs": []
    },
    {
     "cell_type": "code",
     "collapsed": false,
     "input": [
      "plt.plot(y1_clean[1])\n",
      "plt.plot(y2_clean[1])\n",
      "plt.show()"
     ],
     "language": "python",
     "metadata": {},
     "outputs": []
    },
    {
     "cell_type": "heading",
     "level": 2,
     "metadata": {},
     "source": [
      "Tests and internal work to follow. Not needed. "
     ]
    },
    {
     "cell_type": "code",
     "collapsed": false,
     "input": [
      "#avg shift code to \n",
      "avgImageX = np.average(calibrationMap[:,wsm.c.calibrationMap.x])\n",
      "avgImageY = np.average(calibrationMap[:,wsm.c.calibrationMap.y])\n",
      "avgCCDX = np.average(CCDMapOffset[:,wsm.c.CCDMap.x][rhea.arcMapMask])\n",
      "avgCCDY = np.average(CCDMapOffset[:,wsm.c.CCDMap.y][rhea.arcMapMask])\n",
      "CCDXShifted = CCDMapOffset[:,wsm.c.CCDMap.x] + (avgImageX - avgCCDX)\n",
      "CCDYShifted = CCDMapOffset[:,wsm.c.CCDMap.y] + (avgImageY - avgCCDY)\n",
      "\n",
      "plt.scatter(calibrationMap[:,wsm.c.calibrationMap.x],calibrationMap[:,wsm.c.calibrationMap.y], label='calib',color='red')\n",
      "plt.scatter(avgImageX,avgImageY ,color='red', s=50, alpha = 0.5)\n",
      "plt.scatter(CCDMapOffset[:,wsm.c.CCDMap.x],CCDMapOffset[:,wsm.c.CCDMap.y], color='blue', label='model')\n",
      "plt.scatter(avgCCDX,avgCCDY ,color='blue', s=50, alpha = 0.5)\n",
      "plt.scatter(CCDXShifted,CCDYShifted, color='green', marker='o', s = 100, alpha = 0.5, label='corrected')\n",
      "plt.legend(loc='best')\n",
      "plt.show()\n",
      "\n",
      "CCDMapOffset[:,wsm.c.CCDMap.x] = CCDXShifted \n",
      "CCDMapOffset[:,wsm.c.CCDMap.y] = CCDYShifted\n",
      "for i in range(len(calibrationMap[:,wsm.c.calibrationMap.x])):\n",
      "    \n",
      "    distance_array = np.sqrt((CCDMapOffset[:,wsm.c.CCDMap.x][rhea.arcMapMask]-calibrationMap[i,wsm.c.calibrationMap.x])**2+(CCDMapOffset[:,wsm.c.CCDMap.y][rhea.arcMapMask]-calibrationMap[i,wsm.c.calibrationMap.y])**2)\n",
      "    closest_point = np.min(distance_array)\n",
      "    closest_point_index = np.where(distance_array==closest_point)[0][0]       \n",
      "    print distance_array,closest_point, closest_point_index\n",
      "    calibrationMap[i,wsm.c.calibrationMap.wavelength] = CCDMap[closest_point_index,wsm.c.CCDMap.wavelength]\n"
     ],
     "language": "python",
     "metadata": {},
     "outputs": []
    },
    {
     "cell_type": "code",
     "collapsed": false,
     "input": [
      "a = np.sqrt((CCDMapOffset[:,wsm.c.CCDMap.x][rhea.arcMapMask][:,None]-calibrationMap[:,wsm.c.calibrationMap.x])**2+(CCDMapOffset[:,wsm.c.CCDMap.y][rhea.arcMapMask][:,None]-calibrationMap[:,wsm.c.calibrationMap.y])**2)\n",
      "b = np.min(a,axis=0)\n",
      "\n",
      "# print a,b,np.where(b==a)\n",
      "\n",
      "print b[0], np.where(b==a)"
     ],
     "language": "python",
     "metadata": {},
     "outputs": []
    },
    {
     "cell_type": "code",
     "collapsed": false,
     "input": [
      "import subprocess\n",
      "import sys\n",
      "SEXTRACTOR_PATH = '/usr/local/bin/'\n",
      "\n",
      "#adds sex_ to the arc filename for sextractor output\n",
      "outputFileName =  '/'.join(arcFile.split('/')[:-1]) + '/sex_' + ''.join(arcFile.split('/')[-1:]).split('.')[0]+ '.txt'\n",
      "  \n",
      "os_command = SEXTRACTOR_PATH +'sex ' + arcFile + ' -c ' + sexParamFile\n",
      "os_command += ' -CATALOG_NAME ' + outputFileName\n",
      "proc = subprocess.Popen([os_command,SEXTRACTOR_PATH],  stdout=subprocess.PIPE, shell=True)\n",
      "proc.communicate()"
     ],
     "language": "python",
     "metadata": {},
     "outputs": []
    },
    {
     "cell_type": "code",
     "collapsed": false,
     "input": [
      "x,y =np.meshgrid(np.arange(0,2532),np.arange(0,3352))"
     ],
     "language": "python",
     "metadata": {},
     "outputs": []
    },
    {
     "cell_type": "code",
     "collapsed": false,
     "input": [
      "arcFileMap = np.loadtxt(rhea.baseDir + 'sex_20140208220659.txt', usecols = [0,1,3])\n",
      "print arcFileMap"
     ],
     "language": "python",
     "metadata": {},
     "outputs": []
    },
    {
     "cell_type": "code",
     "collapsed": false,
     "input": [
      "# cent = [100,100]\n",
      "# x=np.arange(0,200)\n",
      "# y=np.arange(0,200)\n",
      "# xAll = np.tile(x,200)\n",
      "x=x.flatten()\n",
      "y=y.flatten()\n",
      "\n",
      "sigmax = 10.1\n",
      "sigmay = 10.1\n",
      "\n",
      "mesh = np.zeros([2532,3352])\n",
      "cents = CCDMapOffset[:,[wsm.c.CCDMap.x,wsm.c.CCDMap.y]]\n",
      "\n",
      "\n",
      "# for cent in cents:\n",
      "mesh[x,y] += np.exp(-(((x-cent[0])**2)/2/sigmax**2+((y-cent[1])**2)/2/sigmay**2))\n",
      "\n",
      "plt.imshow(mesh, origin='lower', cmap = cm.gray)\n",
      "plt.show()"
     ],
     "language": "python",
     "metadata": {},
     "outputs": []
    },
    {
     "cell_type": "code",
     "collapsed": false,
     "input": [
      "plt.imshow(mesh, origin='lower', cmap = cm.gray)\n",
      "plt.show()"
     ],
     "language": "python",
     "metadata": {},
     "outputs": []
    },
    {
     "cell_type": "code",
     "collapsed": false,
     "input": [
      "plt.plot(a[199,:])\n",
      "plt.show()"
     ],
     "language": "python",
     "metadata": {},
     "outputs": []
    },
    {
     "cell_type": "code",
     "collapsed": false,
     "input": [
      "mesh = np.zeros([2532,3352])\n",
      "cent = [0,0]\n",
      "mesh[0,0]=60000\n",
      "\n",
      "a = pf.open(arcFile)\n",
      "a[0].data = mesh\n",
      "\n",
      "\n",
      "# hdu = pf.PrimaryHDU(mesh)\n",
      "# hdulist = pf.HDUList([hdu])\n",
      "a.writeto(rhea.baseDir + 'new.fits')\n",
      "\n",
      "plt.imshow(mesh, origin='low', interpolation = None)\n",
      "plt.show()"
     ],
     "language": "python",
     "metadata": {},
     "outputs": []
    },
    {
     "cell_type": "code",
     "collapsed": false,
     "input": [
      "psf = wsm.wt.gauss(np.arange(-100,100),[0,\\])\n",
      "# p[0]==mean, p[1]==stdev\n",
      "half_gauss /= np.max(half_gauss)/64000\n",
      "plt.plot(half_gauss)\n",
      "plt.show()"
     ],
     "language": "python",
     "metadata": {},
     "outputs": []
    },
    {
     "cell_type": "code",
     "collapsed": false,
     "input": [
      "mesh = np.zeros([2532,3352])\n",
      "cent = [200,200]\n",
      "for r in np.arange(100,301):\n",
      "    for c in np.arange(100,301):\n",
      "        dist = int(np.sqrt((r-cent[0])**2 + (c-cent[1])**2))\n",
      "        if dist<100: \n",
      "            newValue = half_gauss[dist]\n",
      "            mesh[r,c] = newValue\n",
      "a = pf.open(arcFile)\n",
      "print a[0].data[200,200], mesh[200,200]\n",
      "a[0].data = a[0].data + mesh\n",
      "# a[0].data = mesh\n",
      "print a[0].data[200,200], mesh[200,200]\n",
      "\n",
      "\n",
      "# hdu = pf.PrimaryHDU(mesh)\n",
      "# hdulist = pf.HDUList([hdu])\n",
      "a.writeto(rhea.baseDir + 'new.fits')\n",
      "\n",
      "plt.imshow(mesh, origin='low')\n",
      "plt.show()"
     ],
     "language": "python",
     "metadata": {},
     "outputs": []
    },
    {
     "cell_type": "code",
     "collapsed": false,
     "input": [
      "import vo"
     ],
     "language": "python",
     "metadata": {},
     "outputs": []
    },
    {
     "cell_type": "code",
     "collapsed": false,
     "input": [],
     "language": "python",
     "metadata": {},
     "outputs": []
    }
   ],
   "metadata": {}
  }
 ]
}