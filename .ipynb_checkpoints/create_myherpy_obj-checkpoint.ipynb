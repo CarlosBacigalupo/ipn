{
 "cells": [
  {
   "cell_type": "code",
   "execution_count": 49,
   "metadata": {
    "collapsed": false
   },
   "outputs": [],
   "source": [
    "# import os\n",
    "import create_obj as cr_obj\n",
    "reload(cr_obj)\n",
    "import pickle\n",
    "# import glob\n",
    "# import pyfits as pf\n",
    "# import numpy as np\n",
    "# import sys\n",
    "# import toolbox\n",
    "# import importlib\n"
   ]
  },
  {
   "cell_type": "code",
   "execution_count": 50,
   "metadata": {
    "collapsed": false
   },
   "outputs": [
    {
     "name": "stdout",
     "output_type": "stream",
     "text": [
      "/Users/Carlos/Documents/HERMES/reductions/myherpy/HD1581\n"
     ]
    }
   ],
   "source": [
    "cd ~/Documents/HERMES/reductions/myherpy/HD1581/"
   ]
  },
  {
   "cell_type": "code",
   "execution_count": 51,
   "metadata": {
    "collapsed": false
   },
   "outputs": [],
   "source": [
    "starNames = ['Giant01']\n",
    "# starNames = ['ThXe']\n"
   ]
  },
  {
   "cell_type": "code",
   "execution_count": 52,
   "metadata": {
    "collapsed": false
   },
   "outputs": [
    {
     "name": "stdout",
     "output_type": "stream",
     "text": [
      "Giant01 star created\n"
     ]
    }
   ],
   "source": [
    "thisStar = cr_obj.star(starNames[0])"
   ]
  },
  {
   "cell_type": "code",
   "execution_count": 53,
   "metadata": {
    "collapsed": false
   },
   "outputs": [],
   "source": [
    "thisStar.name = 'ThXe'\n",
    "thisStar.type = 'star'\n",
    "thisStar.type = 'arc'\n",
    "thisStar.exposures = cr_obj.exposures()"
   ]
  },
  {
   "cell_type": "code",
   "execution_count": 54,
   "metadata": {
    "collapsed": false
   },
   "outputs": [
    {
     "name": "stdout",
     "output_type": "stream",
     "text": [
      "Collecting MJDs from camera 0\n",
      "cam1/HD1581*.txt\n",
      "cam1: 15\n",
      "Opening cam1/HD1581_0_53.56889811.txt\n",
      "Opening cam1/HD1581_1_41.56890804.txt\n",
      "Opening cam1/HD1581_1_42.56890807.txt\n",
      "Opening cam1/HD1581_1_43.56890809.txt\n",
      "Opening cam1/HD1581_2_36.56891707.txt\n",
      "Opening cam1/HD1581_2_37.56891709.txt\n",
      "Opening cam1/HD1581_2_38.56891711.txt\n",
      "Opening cam1/HD1581_3_58.56893765.txt\n",
      "Opening cam1/HD1581_3_59.56893767.txt\n",
      "Opening cam1/HD1581_3_60.56893768.txt\n",
      "Opening cam1/HD1581_3_61.56893769.txt\n",
      "Opening cam1/HD1581_3_62.56893771.txt\n",
      "Opening cam1/HD1581_4_44.56894743.txt\n",
      "Opening cam1/HD1581_4_45.56894745.txt\n",
      "Opening cam1/HD1581_4_46.56894746.txt\n"
     ]
    }
   ],
   "source": [
    "thisStar.exposures.load_exposures_myherpy(thisStar.name, 0)"
   ]
  },
  {
   "cell_type": "code",
   "execution_count": 55,
   "metadata": {
    "collapsed": false
   },
   "outputs": [],
   "source": [
    "thisStar.exposures.calculate_baryVels(thisStar)\n"
   ]
  },
  {
   "cell_type": "code",
   "execution_count": 56,
   "metadata": {
    "collapsed": false
   },
   "outputs": [],
   "source": [
    "# file_pi = open('obj/HD1581.obj', 'w') \n",
    "file_pi = open('obj/ThXe.obj', 'w') \n",
    "pickle.dump(thisStar, file_pi) \n",
    "file_pi.close()\n"
   ]
  },
  {
   "cell_type": "code",
   "execution_count": 35,
   "metadata": {
    "collapsed": false
   },
   "outputs": [
    {
     "data": {
      "text/plain": [
       "array([    0.        ,  -249.55157815,  -250.30544749,  -250.80802663,\n",
       "        -476.42361023,  -476.92597335,  -477.42833593,  -992.86097986,\n",
       "        -993.36223734,  -993.61286557,  -993.86349331,  -994.3647479 ,\n",
       "       -1237.78065717, -1238.28108036, -1238.53129113])"
      ]
     },
     "execution_count": 35,
     "metadata": {},
     "output_type": "execute_result"
    }
   ],
   "source": [
    "thisStar.exposures.rel_baryVels"
   ]
  },
  {
   "cell_type": "code",
   "execution_count": null,
   "metadata": {
    "collapsed": false
   },
   "outputs": [],
   "source": []
  }
 ],
 "metadata": {
  "kernelspec": {
   "display_name": "Python 2",
   "language": "python",
   "name": "python2"
  },
  "language_info": {
   "codemirror_mode": {
    "name": "ipython",
    "version": 2
   },
   "file_extension": ".py",
   "mimetype": "text/x-python",
   "name": "python",
   "nbconvert_exporter": "python",
   "pygments_lexer": "ipython2",
   "version": "2.7.3"
  }
 },
 "nbformat": 4,
 "nbformat_minor": 0
}
