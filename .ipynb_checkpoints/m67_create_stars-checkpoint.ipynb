{
 "metadata": {
  "name": ""
 },
 "nbformat": 3,
 "nbformat_minor": 0,
 "worksheets": [
  {
   "cells": [
    {
     "cell_type": "code",
     "collapsed": false,
     "input": [
      "import glob\n",
      "import os\n",
      "import numpy as np\n",
      "import scipy.constants as const\n",
      "import commands\n",
      "# import pyfits as pf\n",
      "# import toolbox\n",
      "\n",
      "# from scipy import signal, interpolate, optimize, constants\n",
      "# import pylab as plt\n",
      "import pickle\n",
      "from red_tools import *\n",
      "import asteroseismology as ast\n",
      "import HERMES\n",
      "# reload(red_tools)\n",
      "reload(ast)"
     ],
     "language": "python",
     "metadata": {},
     "outputs": [
      {
       "metadata": {},
       "output_type": "pyout",
       "prompt_number": 1,
       "text": [
        "<module 'asteroseismology' from '/Users/Carlos/Documents/workspace/MyAstroLib/asteroseismology/__init__.pyc'>"
       ]
      }
     ],
     "prompt_number": 1
    },
    {
     "cell_type": "code",
     "collapsed": false,
     "input": [
      "os.chdir('/Users/Carlos/Documents/HERMES/reductions/m67_all_4cams')\n",
      "# os.chdir('/Users/Carlos/Documents/HERMES/reductions/m67_all_4cams/cam1')\n",
      "# allStarNames = colect_all_targets()\n",
      "# os.chdir('..')\n",
      "# np.save('allStarNames',allStarNames)\n",
      "\n",
      "allStarNames = np.load('allStarNames.npy')"
     ],
     "language": "python",
     "metadata": {},
     "outputs": [],
     "prompt_number": 2
    },
    {
     "cell_type": "code",
     "collapsed": false,
     "input": [
      "# RV vs. JD (x 4 channels) + baryVel\n",
      "#multiplot with \n",
      "filehandler = open('M67-S125.obj', 'r') \n",
      "thisStar = pickle.load(filehandler) \n",
      "\n",
      "plt.subplot(211)\n",
      "plt.title(thisStar.name+' V='+str(thisStar.V))\n",
      "plt.ylabel('dRV [km/s]')\n",
      "plt.xlabel('JD')\n",
      "plt.scatter(thisStar.exposures.JDs, np.array(thisStar.exposures.cam1_RVs.RVs)/1000, color = 'b', label ='Blue')\n",
      "plt.scatter(thisStar.exposures.JDs, np.array(thisStar.exposures.cam2_RVs.RVs)/1000, color = 'g', label ='Green')\n",
      "plt.scatter(thisStar.exposures.JDs, np.array(thisStar.exposures.cam3_RVs.RVs)/1000, color = 'r', label ='Red')\n",
      "plt.scatter(thisStar.exposures.JDs, np.array(thisStar.exposures.cam4_RVs.RVs)/1000, color = 'cyan', label ='IR')\n",
      "plt.plot(thisStar.exposures.JDs, np.array(thisStar.baryVels)/1000, label = 'Barycentric Vel.')\n",
      "plt.legend(loc=0)\n",
      "# plt.tight_layout()\n",
      "plt.subplot(223)\n",
      "plt.title('Reduced Flux')\n",
      "plt.ylabel('Flux')\n",
      "plt.xlabel('Wavelength (Ang)')\n",
      "for lam, flux, fileName in zip(thisStar.exposures.cam3_wavelengths,thisStar.exposures.cam3_fluxes, thisStar.exposures.cam3_fileNames):\n",
      "    plt.plot(lam[::10],flux[::10], label = fileName)\n",
      "# plt.legend(loc=0,prop={'size':6})\n",
      "\n",
      "plt.subplot(224)\n",
      "plt.title('Raw flux')\n",
      "plt.ylabel('Flux')\n",
      "plt.xlabel('Pixels')\n",
      "for lam, flux, fileName in zip(thisStar.exposures.cam3_wavelengths,thisStar.exposures.cam3_raw_fluxes, thisStar.exposures.cam3_fileNames):\n",
      "    plt.plot(flux[::10], label = fileName)\n",
      "# plt.legend(loc=0,prop={'size':6})\n",
      "\n",
      "plt.show()"
     ],
     "language": "python",
     "metadata": {},
     "outputs": [],
     "prompt_number": 4
    },
    {
     "cell_type": "code",
     "collapsed": false,
     "input": [
      "#reduces 1 star \n",
      "\n",
      "thisStar = star('M67-S125', xDef = 1, booWrite = False)\n"
     ],
     "language": "python",
     "metadata": {},
     "outputs": [
      {
       "output_type": "stream",
       "stream": "stdout",
       "text": [
        "07feb10022red.fits 0\n",
        "07feb10023red.fits 0\n",
        "07feb10024red.fits 0\n",
        "07feb10027red.fits 1\n",
        "07feb10028red.fits"
       ]
      },
      {
       "output_type": "stream",
       "stream": "stdout",
       "text": [
        " 1\n",
        "07feb10029red.fits"
       ]
      },
      {
       "output_type": "stream",
       "stream": "stdout",
       "text": [
        " 1\n",
        "07feb10030red.fits"
       ]
      },
      {
       "output_type": "stream",
       "stream": "stdout",
       "text": [
        " 1\n",
        "07feb10031red.fits"
       ]
      },
      {
       "output_type": "stream",
       "stream": "stdout",
       "text": [
        " 1\n",
        "07feb10032red.fits"
       ]
      },
      {
       "output_type": "stream",
       "stream": "stdout",
       "text": [
        " 1\n",
        "07jan10049red.fits"
       ]
      },
      {
       "output_type": "stream",
       "stream": "stdout",
       "text": [
        " 1\n",
        "07jan10050red.fits"
       ]
      },
      {
       "output_type": "stream",
       "stream": "stdout",
       "text": [
        " 1\n",
        "07jan10051red.fits"
       ]
      },
      {
       "output_type": "stream",
       "stream": "stdout",
       "text": [
        " 1\n",
        "07jan10054red.fits"
       ]
      },
      {
       "output_type": "stream",
       "stream": "stdout",
       "text": [
        " 0\n",
        "07jan10055red.fits 0\n",
        "07jan10056red.fits"
       ]
      },
      {
       "output_type": "stream",
       "stream": "stdout",
       "text": [
        " 0\n",
        "07jan10059red.fits"
       ]
      },
      {
       "output_type": "stream",
       "stream": "stdout",
       "text": [
        " 1\n",
        "07jan10060red.fits"
       ]
      },
      {
       "output_type": "stream",
       "stream": "stdout",
       "text": [
        " 1\n",
        "07jan10061red.fits"
       ]
      },
      {
       "output_type": "stream",
       "stream": "stdout",
       "text": [
        " 1\n",
        "07jan10064red.fits"
       ]
      },
      {
       "output_type": "stream",
       "stream": "stdout",
       "text": [
        " 0\n",
        "08feb10027red.fits 0\n",
        "08feb10028red.fits"
       ]
      },
      {
       "output_type": "stream",
       "stream": "stdout",
       "text": [
        " 0\n",
        "08feb10029red.fits 0\n",
        "08feb10032red.fits"
       ]
      },
      {
       "output_type": "stream",
       "stream": "stdout",
       "text": [
        " 1\n",
        "08feb10033red.fits"
       ]
      },
      {
       "output_type": "stream",
       "stream": "stdout",
       "text": [
        " 1\n",
        "08feb10034red.fits"
       ]
      },
      {
       "output_type": "stream",
       "stream": "stdout",
       "text": [
        " 1\n",
        "08feb10035red.fits"
       ]
      },
      {
       "output_type": "stream",
       "stream": "stdout",
       "text": [
        " 1\n",
        "08feb10036red.fits"
       ]
      },
      {
       "output_type": "stream",
       "stream": "stdout",
       "text": [
        " 1\n",
        "08feb10037red.fits"
       ]
      },
      {
       "output_type": "stream",
       "stream": "stdout",
       "text": [
        " 1\n",
        "09feb10029red.fits"
       ]
      },
      {
       "output_type": "stream",
       "stream": "stdout",
       "text": [
        " 1\n",
        "09feb10030red.fits"
       ]
      },
      {
       "output_type": "stream",
       "stream": "stdout",
       "text": [
        " 1\n",
        "09feb10031red.fits"
       ]
      },
      {
       "output_type": "stream",
       "stream": "stdout",
       "text": [
        " 1\n",
        "09feb10034red.fits"
       ]
      },
      {
       "output_type": "stream",
       "stream": "stdout",
       "text": [
        " 0\n",
        "09feb10035red.fits 0\n",
        "09feb10036red.fits"
       ]
      },
      {
       "output_type": "stream",
       "stream": "stdout",
       "text": [
        " 0\n",
        "09jan10026red.fits 1\n",
        "09jan10027red.fits"
       ]
      },
      {
       "output_type": "stream",
       "stream": "stdout",
       "text": [
        " 1\n",
        "09jan10030red.fits"
       ]
      },
      {
       "output_type": "stream",
       "stream": "stdout",
       "text": [
        " 0\n",
        "09jan10031red.fits 0\n",
        "09jan10032red.fits"
       ]
      },
      {
       "output_type": "stream",
       "stream": "stdout",
       "text": [
        " 0\n",
        "09jan10033red.fits 0\n",
        "09jan10036red.fits"
       ]
      },
      {
       "output_type": "stream",
       "stream": "stdout",
       "text": [
        " 1\n",
        "09jan10045red.fits"
       ]
      },
      {
       "output_type": "stream",
       "stream": "stdout",
       "text": [
        " 1\n",
        "09jan10048red.fits"
       ]
      },
      {
       "output_type": "stream",
       "stream": "stdout",
       "text": [
        " 0\n",
        "09jan10049red.fits 0\n",
        "09jan10050red.fits"
       ]
      },
      {
       "output_type": "stream",
       "stream": "stdout",
       "text": [
        " 0\n",
        "10feb10027red.fits 1\n",
        "10feb10028red.fits"
       ]
      },
      {
       "output_type": "stream",
       "stream": "stdout",
       "text": [
        " 1\n",
        "10feb10029red.fits"
       ]
      },
      {
       "output_type": "stream",
       "stream": "stdout",
       "text": [
        " 1\n",
        "10feb10030red.fits"
       ]
      },
      {
       "output_type": "stream",
       "stream": "stdout",
       "text": [
        " 1\n",
        "10feb10031red.fits"
       ]
      },
      {
       "output_type": "stream",
       "stream": "stdout",
       "text": [
        " 1\n",
        "10feb10032red.fits"
       ]
      },
      {
       "output_type": "stream",
       "stream": "stdout",
       "text": [
        " 1\n",
        "10feb10033red.fits"
       ]
      },
      {
       "output_type": "stream",
       "stream": "stdout",
       "text": [
        " 1\n",
        "11feb10013red.fits"
       ]
      },
      {
       "output_type": "stream",
       "stream": "stdout",
       "text": [
        " 1\n",
        "11feb10014red.fits"
       ]
      },
      {
       "output_type": "stream",
       "stream": "stdout",
       "text": [
        " 1\n",
        "11feb10015red.fits"
       ]
      },
      {
       "output_type": "stream",
       "stream": "stdout",
       "text": [
        " 1\n",
        "11feb10016red.fits"
       ]
      },
      {
       "output_type": "stream",
       "stream": "stdout",
       "text": [
        " 1\n",
        "11feb10017red.fits"
       ]
      },
      {
       "output_type": "stream",
       "stream": "stdout",
       "text": [
        " 1\n",
        "11feb10018red.fits"
       ]
      },
      {
       "output_type": "stream",
       "stream": "stdout",
       "text": [
        " 1\n",
        "11feb10021red.fits"
       ]
      },
      {
       "output_type": "stream",
       "stream": "stdout",
       "text": [
        " 0\n",
        "11feb10022red.fits 0\n",
        "11feb10023red.fits"
       ]
      },
      {
       "output_type": "stream",
       "stream": "stdout",
       "text": [
        " 0\n",
        "11feb10024red.fits 0\n",
        "11feb10025red.fits"
       ]
      },
      {
       "output_type": "stream",
       "stream": "stdout",
       "text": [
        " 0\n",
        "11feb10026red.fits 0\n",
        "11jan10028red.fits"
       ]
      },
      {
       "output_type": "stream",
       "stream": "stdout",
       "text": [
        " 0\n",
        "11jan10029red.fits"
       ]
      },
      {
       "output_type": "stream",
       "stream": "stdout",
       "text": [
        " 0\n",
        "11jan10030red.fits"
       ]
      },
      {
       "output_type": "stream",
       "stream": "stdout",
       "text": [
        " 0\n",
        "11jan10033red.fits"
       ]
      },
      {
       "output_type": "stream",
       "stream": "stdout",
       "text": [
        " 0\n",
        "11jan10034red.fits"
       ]
      },
      {
       "output_type": "stream",
       "stream": "stdout",
       "text": [
        " 0\n",
        "11jan10035red.fits"
       ]
      },
      {
       "output_type": "stream",
       "stream": "stdout",
       "text": [
        " 0\n",
        "11jan10038red.fits"
       ]
      },
      {
       "output_type": "stream",
       "stream": "stdout",
       "text": [
        " 0\n",
        "11jan10039red.fits 0\n",
        "11jan10040red.fits"
       ]
      },
      {
       "output_type": "stream",
       "stream": "stdout",
       "text": [
        " 0\n",
        "12jan10030red.fits 0\n",
        "12jan10031red.fits"
       ]
      },
      {
       "output_type": "stream",
       "stream": "stdout",
       "text": [
        " 0\n",
        "12jan10032red.fits 0\n",
        "17dec10039red.fits"
       ]
      },
      {
       "output_type": "stream",
       "stream": "stdout",
       "text": [
        " 1\n",
        "17dec10040red.fits"
       ]
      },
      {
       "output_type": "stream",
       "stream": "stdout",
       "text": [
        " 1\n",
        "17dec10041red.fits"
       ]
      },
      {
       "output_type": "stream",
       "stream": "stdout",
       "text": [
        " 1\n",
        "17dec10044red.fits"
       ]
      },
      {
       "output_type": "stream",
       "stream": "stdout",
       "text": [
        " 0\n",
        "17dec10045red.fits 0\n",
        "17dec10046red.fits"
       ]
      },
      {
       "output_type": "stream",
       "stream": "stdout",
       "text": [
        " 0\n",
        "18dec10030red.fits 0\n",
        "18dec10031red.fits"
       ]
      },
      {
       "output_type": "stream",
       "stream": "stdout",
       "text": [
        " 0\n",
        "18dec10032red.fits 0\n",
        "18dec10033red.fits"
       ]
      },
      {
       "output_type": "stream",
       "stream": "stdout",
       "text": [
        " 0\n",
        "Procesing RV "
       ]
      },
      {
       "output_type": "stream",
       "stream": "stdout",
       "text": [
        " 0\n",
        "RV"
       ]
      },
      {
       "output_type": "stream",
       "stream": "stdout",
       "text": [
        " 0.0\n",
        "Procesing RV  1\n",
        "RV"
       ]
      },
      {
       "output_type": "stream",
       "stream": "stdout",
       "text": [
        " 282.765354206\n",
        "Procesing RV  2\n",
        "RV"
       ]
      },
      {
       "output_type": "stream",
       "stream": "stdout",
       "text": [
        " 282.765354206\n",
        "Procesing RV  3\n",
        "RV"
       ]
      },
      {
       "output_type": "stream",
       "stream": "stdout",
       "text": [
        " -5655.28041371\n",
        "Procesing RV  4\n",
        "RV"
       ]
      },
      {
       "output_type": "stream",
       "stream": "stdout",
       "text": [
        " -4806.98835165\n",
        "Procesing RV  5\n",
        "RV"
       ]
      },
      {
       "output_type": "stream",
       "stream": "stdout",
       "text": [
        " -4524.22433097\n",
        "Procesing RV  6\n",
        "RV"
       ]
      },
      {
       "output_type": "stream",
       "stream": "stdout",
       "text": [
        " -5372.51639302\n",
        "Procesing RV  7\n",
        "RV"
       ]
      },
      {
       "output_type": "stream",
       "stream": "stdout",
       "text": [
        " -5938.04443439\n",
        "Procesing RV  8\n",
        "RV"
       ]
      },
      {
       "output_type": "stream",
       "stream": "stdout",
       "text": [
        " -5372.51639302\n",
        "Procesing RV  9\n",
        "RV"
       ]
      },
      {
       "output_type": "stream",
       "stream": "stdout",
       "text": [
        " -7069.10051713\n",
        "Procesing RV  10\n",
        "RV"
       ]
      },
      {
       "output_type": "stream",
       "stream": "stdout",
       "text": [
        " -6220.80845508\n",
        "Procesing RV  11\n",
        "RV"
       ]
      },
      {
       "output_type": "stream",
       "stream": "stdout",
       "text": [
        " -7351.86453782\n",
        "Procesing RV  12\n",
        "RV"
       ]
      },
      {
       "output_type": "stream",
       "stream": "stdout",
       "text": [
        " -6786.33649645\n",
        "Procesing RV  13\n",
        "RV"
       ]
      },
      {
       "output_type": "stream",
       "stream": "stdout",
       "text": [
        " -26297.3019597\n",
        "Procesing RV  14\n",
        "RV"
       ]
      },
      {
       "output_type": "stream",
       "stream": "stdout",
       "text": [
        " -26297.3019597\n",
        "Procesing RV  15\n",
        "RV"
       ]
      },
      {
       "output_type": "stream",
       "stream": "stdout",
       "text": [
        " -26297.3019597\n",
        "Procesing RV  16\n",
        "RV"
       ]
      },
      {
       "output_type": "stream",
       "stream": "stdout",
       "text": [
        " -26297.3019597\n",
        "Procesing RV  17\n",
        "RV"
       ]
      },
      {
       "output_type": "stream",
       "stream": "stdout",
       "text": [
        " -26297.3019597\n",
        "Procesing RV  18\n",
        "RV"
       ]
      },
      {
       "output_type": "stream",
       "stream": "stdout",
       "text": [
        " -26580.0686474\n",
        "Procesing RV  19\n",
        "RV"
       ]
      },
      {
       "output_type": "stream",
       "stream": "stdout",
       "text": [
        " -26862.8353352\n",
        "Procesing RV  20\n",
        "RV"
       ]
      },
      {
       "output_type": "stream",
       "stream": "stdout",
       "text": [
        " -26580.0686474\n",
        "Procesing RV  21\n",
        "RV"
       ]
      },
      {
       "output_type": "stream",
       "stream": "stdout",
       "text": [
        " -26862.8353352\n",
        "Procesing RV  22\n",
        "RV"
       ]
      },
      {
       "output_type": "stream",
       "stream": "stdout",
       "text": [
        " -26862.8353352\n",
        "Procesing RV  23\n",
        "RV"
       ]
      },
      {
       "output_type": "stream",
       "stream": "stdout",
       "text": [
        " -26862.8353352\n",
        "Procesing RV  24\n",
        "RV"
       ]
      },
      {
       "output_type": "stream",
       "stream": "stdout",
       "text": [
        " -26862.8353352\n",
        "Procesing RV  25\n",
        "RV"
       ]
      },
      {
       "output_type": "stream",
       "stream": "stdout",
       "text": [
        " -28559.5701497\n",
        "Procesing RV  26\n",
        "RV"
       ]
      },
      {
       "output_type": "stream",
       "stream": "stdout",
       "text": [
        " -28842.338171\n",
        "Procesing RV  27\n",
        "RV"
       ]
      },
      {
       "output_type": "stream",
       "stream": "stdout",
       "text": [
        " -28842.338171\n",
        "Procesing RV  28\n",
        "RV"
       ]
      },
      {
       "output_type": "stream",
       "stream": "stdout",
       "text": [
        " -23186.6496962\n",
        "Procesing RV  29\n",
        "RV"
       ]
      },
      {
       "output_type": "stream",
       "stream": "stdout",
       "text": [
        " -23186.6496962\n",
        "Procesing RV  30\n",
        "RV"
       ]
      },
      {
       "output_type": "stream",
       "stream": "stdout",
       "text": [
        " -23469.4137169\n",
        "Procesing RV  31\n",
        "RV"
       ]
      },
      {
       "output_type": "stream",
       "stream": "stdout",
       "text": [
        " -23469.4137169\n",
        "Procesing RV  32\n",
        "RV"
       ]
      },
      {
       "output_type": "stream",
       "stream": "stdout",
       "text": [
        " -23469.4137169\n",
        "Procesing RV  33\n",
        "RV"
       ]
      },
      {
       "output_type": "stream",
       "stream": "stdout",
       "text": [
        " -23186.6496962\n",
        "Procesing RV  34\n",
        "RV"
       ]
      },
      {
       "output_type": "stream",
       "stream": "stdout",
       "text": [
        " -23469.4137169\n",
        "Procesing RV  35\n",
        "RV"
       ]
      },
      {
       "output_type": "stream",
       "stream": "stdout",
       "text": [
        " -26579.9432953\n",
        "Procesing RV  36\n",
        "RV"
       ]
      },
      {
       "output_type": "stream",
       "stream": "stdout",
       "text": [
        " -26297.1779411\n",
        "Procesing RV  37\n",
        "RV"
       ]
      },
      {
       "output_type": "stream",
       "stream": "stdout",
       "text": [
        " -26297.1779411\n",
        "Procesing RV  38\n",
        "RV"
       ]
      },
      {
       "output_type": "stream",
       "stream": "stdout",
       "text": [
        " -26579.9432953\n",
        "Procesing RV  39\n",
        "RV"
       ]
      },
      {
       "output_type": "stream",
       "stream": "stdout",
       "text": [
        " -26297.1779411\n",
        "Procesing RV  40\n",
        "RV"
       ]
      },
      {
       "output_type": "stream",
       "stream": "stdout",
       "text": [
        " -26579.9432953\n",
        "07feb20022red.fits"
       ]
      },
      {
       "output_type": "stream",
       "stream": "stdout",
       "text": [
        " 0\n",
        "07feb20023red.fits"
       ]
      },
      {
       "output_type": "stream",
       "stream": "stdout",
       "text": [
        " 0\n",
        "07feb20024red.fits 0\n",
        "07feb20027red.fits"
       ]
      },
      {
       "output_type": "stream",
       "stream": "stdout",
       "text": [
        " 1\n",
        "07feb20028red.fits"
       ]
      },
      {
       "output_type": "stream",
       "stream": "stdout",
       "text": [
        " 1\n",
        "07feb20029red.fits"
       ]
      },
      {
       "output_type": "stream",
       "stream": "stdout",
       "text": [
        " 1\n",
        "07feb20030red.fits"
       ]
      },
      {
       "output_type": "stream",
       "stream": "stdout",
       "text": [
        " 1\n",
        "07feb20031red.fits"
       ]
      },
      {
       "output_type": "stream",
       "stream": "stdout",
       "text": [
        " 1\n",
        "07feb20032red.fits"
       ]
      },
      {
       "output_type": "stream",
       "stream": "stdout",
       "text": [
        " 1\n",
        "07jan20049red.fits"
       ]
      },
      {
       "output_type": "stream",
       "stream": "stdout",
       "text": [
        " 1\n",
        "07jan20050red.fits"
       ]
      },
      {
       "output_type": "stream",
       "stream": "stdout",
       "text": [
        " 1\n",
        "07jan20051red.fits"
       ]
      },
      {
       "output_type": "stream",
       "stream": "stdout",
       "text": [
        " 1\n",
        "07jan20054red.fits"
       ]
      },
      {
       "output_type": "stream",
       "stream": "stdout",
       "text": [
        " 0\n",
        "07jan20055red.fits"
       ]
      },
      {
       "output_type": "stream",
       "stream": "stdout",
       "text": [
        " 0\n",
        "07jan20056red.fits 0\n",
        "07jan20059red.fits"
       ]
      },
      {
       "output_type": "stream",
       "stream": "stdout",
       "text": [
        " 1\n",
        "07jan20060red.fits"
       ]
      },
      {
       "output_type": "stream",
       "stream": "stdout",
       "text": [
        " 1\n",
        "07jan20061red.fits"
       ]
      },
      {
       "output_type": "stream",
       "stream": "stdout",
       "text": [
        " 1\n",
        "07jan20064red.fits"
       ]
      },
      {
       "output_type": "stream",
       "stream": "stdout",
       "text": [
        " 0\n",
        "08feb20027red.fits"
       ]
      },
      {
       "output_type": "stream",
       "stream": "stdout",
       "text": [
        " 0\n",
        "08feb20028red.fits"
       ]
      },
      {
       "output_type": "stream",
       "stream": "stdout",
       "text": [
        " 0\n",
        "08feb20029red.fits 0\n",
        "08feb20032red.fits"
       ]
      },
      {
       "output_type": "stream",
       "stream": "stdout",
       "text": [
        " 1\n",
        "08feb20033red.fits"
       ]
      },
      {
       "output_type": "stream",
       "stream": "stdout",
       "text": [
        " 1\n",
        "08feb20034red.fits"
       ]
      },
      {
       "output_type": "stream",
       "stream": "stdout",
       "text": [
        " 1\n",
        "08feb20035red.fits"
       ]
      },
      {
       "output_type": "stream",
       "stream": "stdout",
       "text": [
        " 1\n",
        "08feb20036red.fits"
       ]
      },
      {
       "output_type": "stream",
       "stream": "stdout",
       "text": [
        " 1\n",
        "08feb20037red.fits"
       ]
      },
      {
       "output_type": "stream",
       "stream": "stdout",
       "text": [
        " 1\n",
        "09feb20029red.fits"
       ]
      },
      {
       "output_type": "stream",
       "stream": "stdout",
       "text": [
        " 1\n",
        "09feb20030red.fits"
       ]
      },
      {
       "output_type": "stream",
       "stream": "stdout",
       "text": [
        " 1\n",
        "09feb20031red.fits"
       ]
      },
      {
       "output_type": "stream",
       "stream": "stdout",
       "text": [
        " 1\n",
        "09feb20034red.fits"
       ]
      },
      {
       "output_type": "stream",
       "stream": "stdout",
       "text": [
        " 0\n",
        "09feb20035red.fits"
       ]
      },
      {
       "output_type": "stream",
       "stream": "stdout",
       "text": [
        " 0\n",
        "09feb20036red.fits"
       ]
      },
      {
       "output_type": "stream",
       "stream": "stdout",
       "text": [
        " 0\n",
        "09jan20026red.fits"
       ]
      },
      {
       "output_type": "stream",
       "stream": "stdout",
       "text": [
        " 1\n",
        "09jan20027red.fits"
       ]
      },
      {
       "output_type": "stream",
       "stream": "stdout",
       "text": [
        " 1\n",
        "09jan20030red.fits"
       ]
      },
      {
       "output_type": "stream",
       "stream": "stdout",
       "text": [
        " 0\n",
        "09jan20031red.fits 0\n",
        "09jan20032red.fits"
       ]
      },
      {
       "output_type": "stream",
       "stream": "stdout",
       "text": [
        " 0\n",
        "09jan20033red.fits 0\n",
        "09jan20036red.fits"
       ]
      },
      {
       "output_type": "stream",
       "stream": "stdout",
       "text": [
        " 1\n",
        "09jan20045red.fits"
       ]
      },
      {
       "output_type": "stream",
       "stream": "stdout",
       "text": [
        " 1\n",
        "09jan20048red.fits"
       ]
      },
      {
       "output_type": "stream",
       "stream": "stdout",
       "text": [
        " 0\n",
        "09jan20049red.fits 0\n",
        "09jan20050red.fits"
       ]
      },
      {
       "output_type": "stream",
       "stream": "stdout",
       "text": [
        " 0\n",
        "10feb20027red.fits"
       ]
      },
      {
       "output_type": "stream",
       "stream": "stdout",
       "text": [
        " 1\n",
        "10feb20028red.fits"
       ]
      },
      {
       "output_type": "stream",
       "stream": "stdout",
       "text": [
        " 1\n",
        "10feb20029red.fits"
       ]
      },
      {
       "output_type": "stream",
       "stream": "stdout",
       "text": [
        " 1\n",
        "10feb20030red.fits"
       ]
      },
      {
       "output_type": "stream",
       "stream": "stdout",
       "text": [
        " 1\n",
        "10feb20031red.fits"
       ]
      },
      {
       "output_type": "stream",
       "stream": "stdout",
       "text": [
        " 1\n",
        "10feb20032red.fits"
       ]
      },
      {
       "output_type": "stream",
       "stream": "stdout",
       "text": [
        " 1\n",
        "10feb20033red.fits"
       ]
      },
      {
       "output_type": "stream",
       "stream": "stdout",
       "text": [
        " 1\n",
        "11feb20013red.fits"
       ]
      },
      {
       "output_type": "stream",
       "stream": "stdout",
       "text": [
        " 1\n",
        "11feb20014red.fits"
       ]
      },
      {
       "output_type": "stream",
       "stream": "stdout",
       "text": [
        " 1\n",
        "11feb20015red.fits"
       ]
      },
      {
       "output_type": "stream",
       "stream": "stdout",
       "text": [
        " 1\n",
        "11feb20016red.fits"
       ]
      },
      {
       "output_type": "stream",
       "stream": "stdout",
       "text": [
        " 1\n",
        "11feb20017red.fits"
       ]
      },
      {
       "output_type": "stream",
       "stream": "stdout",
       "text": [
        " 1\n",
        "11feb20018red.fits"
       ]
      },
      {
       "output_type": "stream",
       "stream": "stdout",
       "text": [
        " 1\n",
        "11feb20021red.fits"
       ]
      },
      {
       "output_type": "stream",
       "stream": "stdout",
       "text": [
        " 0\n",
        "11feb20022red.fits 0\n",
        "11feb20023red.fits"
       ]
      },
      {
       "output_type": "stream",
       "stream": "stdout",
       "text": [
        " 0\n",
        "11feb20024red.fits"
       ]
      },
      {
       "output_type": "stream",
       "stream": "stdout",
       "text": [
        " 0\n",
        "11feb20025red.fits"
       ]
      },
      {
       "output_type": "stream",
       "stream": "stdout",
       "text": [
        " 0\n",
        "11feb20026red.fits 0\n",
        "11jan20028red.fits"
       ]
      },
      {
       "output_type": "stream",
       "stream": "stdout",
       "text": [
        " 0\n",
        "11jan20029red.fits 0\n",
        "11jan20030red.fits"
       ]
      },
      {
       "output_type": "stream",
       "stream": "stdout",
       "text": [
        " 0\n",
        "11jan20033red.fits 0\n",
        "11jan20034red.fits"
       ]
      },
      {
       "output_type": "stream",
       "stream": "stdout",
       "text": [
        " 0\n",
        "11jan20035red.fits 0\n",
        "11jan20038red.fits"
       ]
      },
      {
       "output_type": "stream",
       "stream": "stdout",
       "text": [
        " 0\n",
        "11jan20039red.fits"
       ]
      },
      {
       "output_type": "stream",
       "stream": "stdout",
       "text": [
        " 0\n",
        "11jan20040red.fits"
       ]
      },
      {
       "output_type": "stream",
       "stream": "stdout",
       "text": [
        " 0\n",
        "12jan20030red.fits"
       ]
      },
      {
       "output_type": "stream",
       "stream": "stdout",
       "text": [
        " 0\n",
        "12jan20031red.fits 0\n",
        "12jan20032red.fits"
       ]
      },
      {
       "output_type": "stream",
       "stream": "stdout",
       "text": [
        " 0\n",
        "17dec20039red.fits 1\n",
        "17dec20040red.fits"
       ]
      },
      {
       "output_type": "stream",
       "stream": "stdout",
       "text": [
        " 1\n",
        "17dec20041red.fits"
       ]
      },
      {
       "output_type": "stream",
       "stream": "stdout",
       "text": [
        " 1\n",
        "17dec20044red.fits"
       ]
      },
      {
       "output_type": "stream",
       "stream": "stdout",
       "text": [
        " 0\n",
        "17dec20045red.fits"
       ]
      },
      {
       "output_type": "stream",
       "stream": "stdout",
       "text": [
        " 0\n",
        "17dec20046red.fits"
       ]
      },
      {
       "output_type": "stream",
       "stream": "stdout",
       "text": [
        " 0\n",
        "18dec20030red.fits"
       ]
      },
      {
       "output_type": "stream",
       "stream": "stdout",
       "text": [
        " 0\n",
        "18dec20031red.fits 0\n",
        "18dec20032red.fits"
       ]
      },
      {
       "output_type": "stream",
       "stream": "stdout",
       "text": [
        " 0\n",
        "18dec20033red.fits 0\n",
        "Procesing RV "
       ]
      },
      {
       "output_type": "stream",
       "stream": "stdout",
       "text": [
        " 0\n",
        "RV"
       ]
      },
      {
       "output_type": "stream",
       "stream": "stdout",
       "text": [
        " -284.461485391\n",
        "Procesing RV  1\n",
        "RV"
       ]
      },
      {
       "output_type": "stream",
       "stream": "stdout",
       "text": [
        " -284.461485391\n",
        "Procesing RV  2\n",
        "RV"
       ]
      },
      {
       "output_type": "stream",
       "stream": "stdout",
       "text": [
        " -568.922970781\n",
        "Procesing RV  3\n",
        "RV"
       ]
      },
      {
       "output_type": "stream",
       "stream": "stdout",
       "text": [
        " -568.922970781\n",
        "Procesing RV  4\n",
        "RV"
       ]
      },
      {
       "output_type": "stream",
       "stream": "stdout",
       "text": [
        " -568.922970781\n",
        "Procesing RV  5\n",
        "RV"
       ]
      },
      {
       "output_type": "stream",
       "stream": "stdout",
       "text": [
        " -568.922970781\n",
        "Procesing RV  6\n",
        "RV"
       ]
      },
      {
       "output_type": "stream",
       "stream": "stdout",
       "text": [
        " 23325.6204742\n",
        "Procesing RV  7\n",
        "RV"
       ]
      },
      {
       "output_type": "stream",
       "stream": "stdout",
       "text": [
        " 22756.7029017\n",
        "Procesing RV  8\n",
        "RV"
       ]
      },
      {
       "output_type": "stream",
       "stream": "stdout",
       "text": [
        " 22187.7853291\n",
        "Procesing RV  9\n",
        "RV"
       ]
      },
      {
       "output_type": "stream",
       "stream": "stdout",
       "text": [
        " 25316.711869\n",
        "Procesing RV  10\n",
        "RV"
       ]
      },
      {
       "output_type": "stream",
       "stream": "stdout",
       "text": [
        " 24463.3395588\n",
        "Procesing RV  11\n",
        "RV"
       ]
      },
      {
       "output_type": "stream",
       "stream": "stdout",
       "text": [
        " 24747.7969956\n",
        "Procesing RV  12\n",
        "RV"
       ]
      },
      {
       "output_type": "stream",
       "stream": "stdout",
       "text": [
        " -2844.6283497\n",
        "Procesing RV  13\n",
        "RV"
       ]
      },
      {
       "output_type": "stream",
       "stream": "stdout",
       "text": [
        " -2844.6283497\n",
        "Procesing RV  14\n",
        "RV"
       ]
      },
      {
       "output_type": "stream",
       "stream": "stdout",
       "text": [
        " -3129.09118467\n",
        "Procesing RV  15\n",
        "RV"
       ]
      },
      {
       "output_type": "stream",
       "stream": "stdout",
       "text": [
        " -2844.6283497\n",
        "Procesing RV  16\n",
        "RV"
       ]
      },
      {
       "output_type": "stream",
       "stream": "stdout",
       "text": [
        " -3129.09118467\n",
        "Procesing RV  17\n",
        "RV"
       ]
      },
      {
       "output_type": "stream",
       "stream": "stdout",
       "text": [
        " -2844.6283497\n",
        "Procesing RV  18\n",
        "RV"
       ]
      },
      {
       "output_type": "stream",
       "stream": "stdout",
       "text": [
        " -853.384456172\n",
        "Procesing RV  19\n",
        "RV"
       ]
      },
      {
       "output_type": "stream",
       "stream": "stdout",
       "text": [
        " -853.384456172\n",
        "Procesing RV  20\n",
        "RV"
       ]
      },
      {
       "output_type": "stream",
       "stream": "stdout",
       "text": [
        " -1137.84594156\n",
        "Procesing RV  21\n",
        "RV"
       ]
      },
      {
       "output_type": "stream",
       "stream": "stdout",
       "text": [
        " 21049.9501841\n",
        "Procesing RV  22\n",
        "RV"
       ]
      },
      {
       "output_type": "stream",
       "stream": "stdout",
       "text": [
        " 22472.2441154\n",
        "Procesing RV  23\n",
        "RV"
       ]
      },
      {
       "output_type": "stream",
       "stream": "stdout",
       "text": [
        " 20765.4913978\n",
        "Procesing RV  24\n",
        "RV"
       ]
      },
      {
       "output_type": "stream",
       "stream": "stdout",
       "text": [
        " 23325.5098119\n",
        "Procesing RV  25\n",
        "RV"
       ]
      },
      {
       "output_type": "stream",
       "stream": "stdout",
       "text": [
        " 38117.4773603\n",
        "Procesing RV  26\n",
        "RV"
       ]
      },
      {
       "output_type": "stream",
       "stream": "stdout",
       "text": [
        " -259710.871866\n",
        "Procesing RV  27\n",
        "RV"
       ]
      },
      {
       "output_type": "stream",
       "stream": "stdout",
       "text": [
        " 322291.804845\n",
        "Procesing RV  28\n",
        "RV"
       ]
      },
      {
       "output_type": "stream",
       "stream": "stdout",
       "text": [
        " -3138433.78893\n",
        "Procesing RV  29\n",
        "RV"
       ]
      },
      {
       "output_type": "stream",
       "stream": "stdout",
       "text": [
        " 40108.6888642\n",
        "Procesing RV  30\n",
        "RV"
       ]
      },
      {
       "output_type": "stream",
       "stream": "stdout",
       "text": [
        " 44091.111872\n",
        "Procesing RV  31\n",
        "RV"
       ]
      },
      {
       "output_type": "stream",
       "stream": "stdout",
       "text": [
        " 40677.6064368\n",
        "Procesing RV  32\n",
        "RV"
       ]
      },
      {
       "output_type": "stream",
       "stream": "stdout",
       "text": [
        " 42099.9003681\n",
        "Procesing RV  33\n",
        "RV"
       ]
      },
      {
       "output_type": "stream",
       "stream": "stdout",
       "text": [
        " 40962.065223\n",
        "Procesing RV  34\n",
        "RV"
       ]
      },
      {
       "output_type": "stream",
       "stream": "stdout",
       "text": [
        " 40393.1476505\n",
        "Procesing RV  35\n",
        "RV"
       ]
      },
      {
       "output_type": "stream",
       "stream": "stdout",
       "text": [
        " 40108.6888642\n",
        "Procesing RV  36\n",
        "RV"
       ]
      },
      {
       "output_type": "stream",
       "stream": "stdout",
       "text": [
        " 42384.3591544\n",
        "Procesing RV  37\n",
        "RV"
       ]
      },
      {
       "output_type": "stream",
       "stream": "stdout",
       "text": [
        " 40962.065223\n",
        "Procesing RV  38\n",
        "RV"
       ]
      },
      {
       "output_type": "stream",
       "stream": "stdout",
       "text": [
        " 28446.0135824\n",
        "Procesing RV  39\n",
        "RV"
       ]
      },
      {
       "output_type": "stream",
       "stream": "stdout",
       "text": [
        " 28446.0135824\n",
        "Procesing RV  40\n",
        "RV"
       ]
      },
      {
       "output_type": "stream",
       "stream": "stdout",
       "text": [
        " 28730.4737183\n",
        "07feb30022red.fits"
       ]
      },
      {
       "output_type": "stream",
       "stream": "stdout",
       "text": [
        " 0\n",
        "07feb30023red.fits"
       ]
      },
      {
       "output_type": "stream",
       "stream": "stdout",
       "text": [
        " 0\n",
        "07feb30024red.fits"
       ]
      },
      {
       "output_type": "stream",
       "stream": "stdout",
       "text": [
        " 0\n",
        "07feb30027red.fits 1\n",
        "07feb30028red.fits"
       ]
      },
      {
       "output_type": "stream",
       "stream": "stdout",
       "text": [
        " 1\n",
        "07feb30029red.fits"
       ]
      },
      {
       "output_type": "stream",
       "stream": "stdout",
       "text": [
        " 1\n",
        "07feb30030red.fits"
       ]
      },
      {
       "output_type": "stream",
       "stream": "stdout",
       "text": [
        " 1\n",
        "07feb30031red.fits"
       ]
      },
      {
       "output_type": "stream",
       "stream": "stdout",
       "text": [
        " 1\n",
        "07feb30032red.fits"
       ]
      },
      {
       "output_type": "stream",
       "stream": "stdout",
       "text": [
        " 1\n",
        "07jan30049red.fits"
       ]
      },
      {
       "output_type": "stream",
       "stream": "stdout",
       "text": [
        " 1\n",
        "07jan30050red.fits"
       ]
      },
      {
       "output_type": "stream",
       "stream": "stdout",
       "text": [
        " 1\n",
        "07jan30051red.fits"
       ]
      },
      {
       "output_type": "stream",
       "stream": "stdout",
       "text": [
        " 1\n",
        "07jan30054red.fits"
       ]
      },
      {
       "output_type": "stream",
       "stream": "stdout",
       "text": [
        " 0\n",
        "07jan30055red.fits"
       ]
      },
      {
       "output_type": "stream",
       "stream": "stdout",
       "text": [
        " 0\n",
        "07jan30056red.fits"
       ]
      },
      {
       "output_type": "stream",
       "stream": "stdout",
       "text": [
        " 0\n",
        "07jan30059red.fits"
       ]
      },
      {
       "output_type": "stream",
       "stream": "stdout",
       "text": [
        " 1\n",
        "07jan30060red.fits"
       ]
      },
      {
       "output_type": "stream",
       "stream": "stdout",
       "text": [
        " 1\n",
        "07jan30061red.fits"
       ]
      },
      {
       "output_type": "stream",
       "stream": "stdout",
       "text": [
        " 1\n",
        "07jan30064red.fits"
       ]
      },
      {
       "output_type": "stream",
       "stream": "stdout",
       "text": [
        " 0\n",
        "08feb30027red.fits 0\n",
        "08feb30028red.fits"
       ]
      },
      {
       "output_type": "stream",
       "stream": "stdout",
       "text": [
        " 0\n",
        "08feb30029red.fits 0\n",
        "08feb30032red.fits"
       ]
      },
      {
       "output_type": "stream",
       "stream": "stdout",
       "text": [
        " 1\n",
        "08feb30033red.fits"
       ]
      },
      {
       "output_type": "stream",
       "stream": "stdout",
       "text": [
        " 1\n",
        "08feb30034red.fits"
       ]
      },
      {
       "output_type": "stream",
       "stream": "stdout",
       "text": [
        " 1\n",
        "08feb30035red.fits"
       ]
      },
      {
       "output_type": "stream",
       "stream": "stdout",
       "text": [
        " 1\n",
        "08feb30036red.fits"
       ]
      },
      {
       "output_type": "stream",
       "stream": "stdout",
       "text": [
        " 1\n",
        "08feb30037red.fits"
       ]
      },
      {
       "output_type": "stream",
       "stream": "stdout",
       "text": [
        " 1\n",
        "09feb30029red.fits"
       ]
      },
      {
       "output_type": "stream",
       "stream": "stdout",
       "text": [
        " 1\n",
        "09feb30030red.fits"
       ]
      },
      {
       "output_type": "stream",
       "stream": "stdout",
       "text": [
        " 1\n",
        "09feb30031red.fits"
       ]
      },
      {
       "output_type": "stream",
       "stream": "stdout",
       "text": [
        " 1\n",
        "09feb30034red.fits"
       ]
      },
      {
       "output_type": "stream",
       "stream": "stdout",
       "text": [
        " 0\n",
        "09feb30035red.fits 0\n",
        "09feb30036red.fits"
       ]
      },
      {
       "output_type": "stream",
       "stream": "stdout",
       "text": [
        " 0\n",
        "09jan30026red.fits"
       ]
      },
      {
       "output_type": "stream",
       "stream": "stdout",
       "text": [
        " 1\n",
        "09jan30027red.fits"
       ]
      },
      {
       "output_type": "stream",
       "stream": "stdout",
       "text": [
        " 1\n",
        "09jan30030red.fits"
       ]
      },
      {
       "output_type": "stream",
       "stream": "stdout",
       "text": [
        " 0\n",
        "09jan30031red.fits 0\n",
        "09jan30032red.fits"
       ]
      },
      {
       "output_type": "stream",
       "stream": "stdout",
       "text": [
        " 0\n",
        "09jan30033red.fits 0\n",
        "09jan30036red.fits"
       ]
      },
      {
       "output_type": "stream",
       "stream": "stdout",
       "text": [
        " 1\n",
        "09jan30045red.fits"
       ]
      },
      {
       "output_type": "stream",
       "stream": "stdout",
       "text": [
        " 1\n",
        "09jan30048red.fits"
       ]
      },
      {
       "output_type": "stream",
       "stream": "stdout",
       "text": [
        " 0\n",
        "09jan30049red.fits 0\n",
        "09jan30050red.fits"
       ]
      },
      {
       "output_type": "stream",
       "stream": "stdout",
       "text": [
        " 0\n",
        "10feb30027red.fits"
       ]
      },
      {
       "output_type": "stream",
       "stream": "stdout",
       "text": [
        " 1\n",
        "10feb30028red.fits"
       ]
      },
      {
       "output_type": "stream",
       "stream": "stdout",
       "text": [
        " 1\n",
        "10feb30029red.fits"
       ]
      },
      {
       "output_type": "stream",
       "stream": "stdout",
       "text": [
        " 1\n",
        "10feb30030red.fits"
       ]
      },
      {
       "output_type": "stream",
       "stream": "stdout",
       "text": [
        " 1\n",
        "10feb30031red.fits"
       ]
      },
      {
       "output_type": "stream",
       "stream": "stdout",
       "text": [
        " 1\n",
        "10feb30032red.fits"
       ]
      },
      {
       "output_type": "stream",
       "stream": "stdout",
       "text": [
        " 1\n",
        "10feb30033red.fits"
       ]
      },
      {
       "output_type": "stream",
       "stream": "stdout",
       "text": [
        " 1\n",
        "11feb30013red.fits"
       ]
      },
      {
       "output_type": "stream",
       "stream": "stdout",
       "text": [
        " 1\n",
        "11feb30014red.fits"
       ]
      },
      {
       "output_type": "stream",
       "stream": "stdout",
       "text": [
        " 1\n",
        "11feb30015red.fits"
       ]
      },
      {
       "output_type": "stream",
       "stream": "stdout",
       "text": [
        " 1\n",
        "11feb30016red.fits"
       ]
      },
      {
       "output_type": "stream",
       "stream": "stdout",
       "text": [
        " 1\n",
        "11feb30017red.fits"
       ]
      },
      {
       "output_type": "stream",
       "stream": "stdout",
       "text": [
        " 1\n",
        "11feb30018red.fits"
       ]
      },
      {
       "output_type": "stream",
       "stream": "stdout",
       "text": [
        " 1\n",
        "11feb30021red.fits"
       ]
      },
      {
       "output_type": "stream",
       "stream": "stdout",
       "text": [
        " 0\n",
        "11feb30022red.fits"
       ]
      },
      {
       "output_type": "stream",
       "stream": "stdout",
       "text": [
        " 0\n",
        "11feb30023red.fits"
       ]
      },
      {
       "output_type": "stream",
       "stream": "stdout",
       "text": [
        " 0\n",
        "11feb30024red.fits"
       ]
      },
      {
       "output_type": "stream",
       "stream": "stdout",
       "text": [
        " 0\n",
        "11feb30025red.fits"
       ]
      },
      {
       "output_type": "stream",
       "stream": "stdout",
       "text": [
        " 0\n",
        "11feb30026red.fits"
       ]
      },
      {
       "output_type": "stream",
       "stream": "stdout",
       "text": [
        " 0\n",
        "11jan30028red.fits"
       ]
      },
      {
       "output_type": "stream",
       "stream": "stdout",
       "text": [
        " 0\n",
        "11jan30029red.fits 0\n",
        "11jan30030red.fits"
       ]
      },
      {
       "output_type": "stream",
       "stream": "stdout",
       "text": [
        " 0\n",
        "11jan30033red.fits 0\n",
        "11jan30034red.fits"
       ]
      },
      {
       "output_type": "stream",
       "stream": "stdout",
       "text": [
        " 0\n",
        "11jan30035red.fits"
       ]
      },
      {
       "output_type": "stream",
       "stream": "stdout",
       "text": [
        " 0\n",
        "11jan30038red.fits 0\n",
        "11jan30039red.fits"
       ]
      },
      {
       "output_type": "stream",
       "stream": "stdout",
       "text": [
        " 0\n",
        "11jan30040red.fits"
       ]
      },
      {
       "output_type": "stream",
       "stream": "stdout",
       "text": [
        " 0\n",
        "12jan30030red.fits"
       ]
      },
      {
       "output_type": "stream",
       "stream": "stdout",
       "text": [
        " 0\n",
        "12jan30031red.fits"
       ]
      },
      {
       "output_type": "stream",
       "stream": "stdout",
       "text": [
        " 0\n",
        "12jan30032red.fits"
       ]
      },
      {
       "output_type": "stream",
       "stream": "stdout",
       "text": [
        " 0\n",
        "17dec30039red.fits"
       ]
      },
      {
       "output_type": "stream",
       "stream": "stdout",
       "text": [
        " 1\n",
        "17dec30040red.fits"
       ]
      },
      {
       "output_type": "stream",
       "stream": "stdout",
       "text": [
        " 1\n",
        "17dec30041red.fits"
       ]
      },
      {
       "output_type": "stream",
       "stream": "stdout",
       "text": [
        " 1\n",
        "17dec30044red.fits"
       ]
      },
      {
       "output_type": "stream",
       "stream": "stdout",
       "text": [
        " 0\n",
        "17dec30045red.fits"
       ]
      },
      {
       "output_type": "stream",
       "stream": "stdout",
       "text": [
        " 0\n",
        "17dec30046red.fits"
       ]
      },
      {
       "output_type": "stream",
       "stream": "stdout",
       "text": [
        " 0\n",
        "18dec30030red.fits"
       ]
      },
      {
       "output_type": "stream",
       "stream": "stdout",
       "text": [
        " 0\n",
        "18dec30031red.fits"
       ]
      },
      {
       "output_type": "stream",
       "stream": "stdout",
       "text": [
        " 0\n",
        "18dec30032red.fits 0\n",
        "18dec30033red.fits"
       ]
      },
      {
       "output_type": "stream",
       "stream": "stdout",
       "text": [
        " 0\n",
        "Procesing RV "
       ]
      },
      {
       "output_type": "stream",
       "stream": "stdout",
       "text": [
        " 0\n",
        "RV"
       ]
      },
      {
       "output_type": "stream",
       "stream": "stdout",
       "text": [
        " -284.513961542\n",
        "Procesing RV  1\n",
        "RV"
       ]
      },
      {
       "output_type": "stream",
       "stream": "stdout",
       "text": [
        " -284.513961542\n",
        "Procesing RV  2\n",
        "RV"
       ]
      },
      {
       "output_type": "stream",
       "stream": "stdout",
       "text": [
        " 0.0\n",
        "Procesing RV  3\n",
        "RV"
       ]
      },
      {
       "output_type": "stream",
       "stream": "stdout",
       "text": [
        " -569.027923084\n",
        "Procesing RV  4\n",
        "RV"
       ]
      },
      {
       "output_type": "stream",
       "stream": "stdout",
       "text": [
        " 0.0\n",
        "Procesing RV  5\n",
        "RV"
       ]
      },
      {
       "output_type": "stream",
       "stream": "stdout",
       "text": [
        " -284.513961542\n",
        "Procesing RV  6\n",
        "RV"
       ]
      },
      {
       "output_type": "stream",
       "stream": "stdout",
       "text": [
        " 21907.1592249\n",
        "Procesing RV  7\n",
        "RV"
       ]
      },
      {
       "output_type": "stream",
       "stream": "stdout",
       "text": [
        " 21622.6506635\n",
        "Procesing RV  8\n",
        "RV"
       ]
      },
      {
       "output_type": "stream",
       "stream": "stdout",
       "text": [
        " 21622.6506635\n",
        "Procesing RV  9\n",
        "RV"
       ]
      },
      {
       "output_type": "stream",
       "stream": "stdout",
       "text": [
        " 19631.090734\n",
        "Procesing RV  10\n",
        "RV"
       ]
      },
      {
       "output_type": "stream",
       "stream": "stdout",
       "text": [
        " 19631.090734\n",
        "Procesing RV  11\n",
        "RV"
       ]
      },
      {
       "output_type": "stream",
       "stream": "stdout",
       "text": [
        " 20769.1249794\n",
        "Procesing RV  12\n",
        "RV"
       ]
      },
      {
       "output_type": "stream",
       "stream": "stdout",
       "text": [
        " -853.541884625\n",
        "Procesing RV  13\n",
        "RV"
       ]
      },
      {
       "output_type": "stream",
       "stream": "stdout",
       "text": [
        " -569.027923084\n",
        "Procesing RV  14\n",
        "RV"
       ]
      },
      {
       "output_type": "stream",
       "stream": "stdout",
       "text": [
        " -1138.05584617\n",
        "Procesing RV  15\n",
        "RV"
       ]
      },
      {
       "output_type": "stream",
       "stream": "stdout",
       "text": [
        " -853.541884625\n",
        "Procesing RV  16\n",
        "RV"
       ]
      },
      {
       "output_type": "stream",
       "stream": "stdout",
       "text": [
        " -853.541884625\n",
        "Procesing RV  17\n",
        "RV"
       ]
      },
      {
       "output_type": "stream",
       "stream": "stdout",
       "text": [
        " -853.541884625\n",
        "Procesing RV  18\n",
        "RV"
       ]
      },
      {
       "output_type": "stream",
       "stream": "stdout",
       "text": [
        " -569.030623238\n",
        "Procesing RV  19\n",
        "RV"
       ]
      },
      {
       "output_type": "stream",
       "stream": "stdout",
       "text": [
        " -853.545934856\n",
        "Procesing RV  20\n",
        "RV"
       ]
      },
      {
       "output_type": "stream",
       "stream": "stdout",
       "text": [
        " -569.030623238\n",
        "Procesing RV  21\n",
        "RV"
       ]
      },
      {
       "output_type": "stream",
       "stream": "stdout",
       "text": [
        " 17924.0393658\n",
        "Procesing RV  22\n",
        "RV"
       ]
      },
      {
       "output_type": "stream",
       "stream": "stdout",
       "text": [
        " 17355.0222431\n",
        "Procesing RV  23\n",
        "RV"
       ]
      },
      {
       "output_type": "stream",
       "stream": "stdout",
       "text": [
        " 18493.0564885\n",
        "Procesing RV  24\n",
        "RV"
       ]
      },
      {
       "output_type": "stream",
       "stream": "stdout",
       "text": [
        " 19062.0736113\n",
        "Procesing RV  25\n",
        "RV"
       ]
      },
      {
       "output_type": "stream",
       "stream": "stdout",
       "text": [
        " 2276.09009141\n",
        "Procesing RV  26\n",
        "RV"
       ]
      },
      {
       "output_type": "stream",
       "stream": "stdout",
       "text": [
        " 2276.09009141\n",
        "Procesing RV  27\n",
        "RV"
       ]
      },
      {
       "output_type": "stream",
       "stream": "stdout",
       "text": [
        " 2276.09009141\n",
        "Procesing RV  28\n",
        "RV"
       ]
      },
      {
       "output_type": "stream",
       "stream": "stdout",
       "text": [
        " 2560.60135284\n",
        "Procesing RV  29\n",
        "RV"
       ]
      },
      {
       "output_type": "stream",
       "stream": "stdout",
       "text": [
        " 2560.60135284\n",
        "Procesing RV  30\n",
        "RV"
       ]
      },
      {
       "output_type": "stream",
       "stream": "stdout",
       "text": [
        " 2845.11261426\n",
        "Procesing RV  31\n",
        "RV"
       ]
      },
      {
       "output_type": "stream",
       "stream": "stdout",
       "text": [
        " 2560.60135284\n",
        "Procesing RV  32\n",
        "RV"
       ]
      },
      {
       "output_type": "stream",
       "stream": "stdout",
       "text": [
        " 1991.57882998\n",
        "Procesing RV  33\n",
        "RV"
       ]
      },
      {
       "output_type": "stream",
       "stream": "stdout",
       "text": [
        " 1991.57882998\n",
        "Procesing RV  34\n",
        "RV"
       ]
      },
      {
       "output_type": "stream",
       "stream": "stdout",
       "text": [
        " 1991.57882998\n",
        "Procesing RV  35\n",
        "RV"
       ]
      },
      {
       "output_type": "stream",
       "stream": "stdout",
       "text": [
        " 1422.55630713\n",
        "Procesing RV  36\n",
        "RV"
       ]
      },
      {
       "output_type": "stream",
       "stream": "stdout",
       "text": [
        " 1707.06756856\n",
        "Procesing RV  37\n",
        "RV"
       ]
      },
      {
       "output_type": "stream",
       "stream": "stdout",
       "text": [
        " 1991.57882998\n",
        "Procesing RV  38\n",
        "RV"
       ]
      },
      {
       "output_type": "stream",
       "stream": "stdout",
       "text": [
        " 30442.4160657\n",
        "Procesing RV  39\n",
        "RV"
       ]
      },
      {
       "output_type": "stream",
       "stream": "stdout",
       "text": [
        " 31011.4331885\n",
        "Procesing RV  40\n",
        "RV"
       ]
      },
      {
       "output_type": "stream",
       "stream": "stdout",
       "text": [
        " 30726.9246271\n",
        "07feb40022red.fits"
       ]
      },
      {
       "output_type": "stream",
       "stream": "stdout",
       "text": [
        " 0\n",
        "07feb40023red.fits 0\n",
        "07feb40024red.fits"
       ]
      },
      {
       "output_type": "stream",
       "stream": "stdout",
       "text": [
        " 0\n",
        "07feb40027red.fits 1\n",
        "07feb40028red.fits"
       ]
      },
      {
       "output_type": "stream",
       "stream": "stdout",
       "text": [
        " 1\n",
        "07feb40029red.fits"
       ]
      },
      {
       "output_type": "stream",
       "stream": "stdout",
       "text": [
        " 1\n",
        "07feb40030red.fits"
       ]
      },
      {
       "output_type": "stream",
       "stream": "stdout",
       "text": [
        " 1\n",
        "07feb40031red.fits"
       ]
      },
      {
       "output_type": "stream",
       "stream": "stdout",
       "text": [
        " 1\n",
        "07feb40032red.fits"
       ]
      },
      {
       "output_type": "stream",
       "stream": "stdout",
       "text": [
        " 1\n",
        "07jan40049red.fits"
       ]
      },
      {
       "output_type": "stream",
       "stream": "stdout",
       "text": [
        " 1\n",
        "07jan40050red.fits"
       ]
      },
      {
       "output_type": "stream",
       "stream": "stdout",
       "text": [
        " 1\n",
        "07jan40051red.fits"
       ]
      },
      {
       "output_type": "stream",
       "stream": "stdout",
       "text": [
        " 1\n",
        "07jan40054red.fits"
       ]
      },
      {
       "output_type": "stream",
       "stream": "stdout",
       "text": [
        " 0\n",
        "07jan40055red.fits 0\n",
        "07jan40056red.fits"
       ]
      },
      {
       "output_type": "stream",
       "stream": "stdout",
       "text": [
        " 0\n",
        "07jan40059red.fits 1\n",
        "07jan40060red.fits"
       ]
      },
      {
       "output_type": "stream",
       "stream": "stdout",
       "text": [
        " 1\n",
        "07jan40061red.fits"
       ]
      },
      {
       "output_type": "stream",
       "stream": "stdout",
       "text": [
        " 1\n",
        "07jan40064red.fits"
       ]
      },
      {
       "output_type": "stream",
       "stream": "stdout",
       "text": [
        " 0\n",
        "08feb40027red.fits"
       ]
      },
      {
       "output_type": "stream",
       "stream": "stdout",
       "text": [
        " 0\n",
        "08feb40028red.fits 0\n",
        "08feb40029red.fits"
       ]
      },
      {
       "output_type": "stream",
       "stream": "stdout",
       "text": [
        " 0\n",
        "08feb40032red.fits 1\n",
        "08feb40033red.fits"
       ]
      },
      {
       "output_type": "stream",
       "stream": "stdout",
       "text": [
        " 1\n",
        "08feb40034red.fits"
       ]
      },
      {
       "output_type": "stream",
       "stream": "stdout",
       "text": [
        " 1\n",
        "08feb40035red.fits"
       ]
      },
      {
       "output_type": "stream",
       "stream": "stdout",
       "text": [
        " 1\n",
        "08feb40036red.fits"
       ]
      },
      {
       "output_type": "stream",
       "stream": "stdout",
       "text": [
        " 1\n",
        "08feb40037red.fits"
       ]
      },
      {
       "output_type": "stream",
       "stream": "stdout",
       "text": [
        " 1\n",
        "09feb40029red.fits"
       ]
      },
      {
       "output_type": "stream",
       "stream": "stdout",
       "text": [
        " 1\n",
        "09feb40030red.fits"
       ]
      },
      {
       "output_type": "stream",
       "stream": "stdout",
       "text": [
        " 1\n",
        "09feb40031red.fits"
       ]
      },
      {
       "output_type": "stream",
       "stream": "stdout",
       "text": [
        " 1\n",
        "09feb40034red.fits"
       ]
      },
      {
       "output_type": "stream",
       "stream": "stdout",
       "text": [
        " 0\n",
        "09feb40035red.fits 0\n",
        "09feb40036red.fits"
       ]
      },
      {
       "output_type": "stream",
       "stream": "stdout",
       "text": [
        " 0\n",
        "09jan40026red.fits 1\n",
        "09jan40027red.fits"
       ]
      },
      {
       "output_type": "stream",
       "stream": "stdout",
       "text": [
        " 1\n",
        "09jan40030red.fits"
       ]
      },
      {
       "output_type": "stream",
       "stream": "stdout",
       "text": [
        " 0\n",
        "09jan40031red.fits 0\n",
        "09jan40032red.fits"
       ]
      },
      {
       "output_type": "stream",
       "stream": "stdout",
       "text": [
        " 0\n",
        "09jan40033red.fits"
       ]
      },
      {
       "output_type": "stream",
       "stream": "stdout",
       "text": [
        " 0\n",
        "09jan40036red.fits 1\n",
        "09jan40045red.fits"
       ]
      },
      {
       "output_type": "stream",
       "stream": "stdout",
       "text": [
        " 1\n",
        "09jan40048red.fits"
       ]
      },
      {
       "output_type": "stream",
       "stream": "stdout",
       "text": [
        " 0\n",
        "09jan40049red.fits"
       ]
      },
      {
       "output_type": "stream",
       "stream": "stdout",
       "text": [
        " 0\n",
        "09jan40050red.fits"
       ]
      },
      {
       "output_type": "stream",
       "stream": "stdout",
       "text": [
        " 0\n",
        "10feb40027red.fits"
       ]
      },
      {
       "output_type": "stream",
       "stream": "stdout",
       "text": [
        " 1\n",
        "10feb40028red.fits"
       ]
      },
      {
       "output_type": "stream",
       "stream": "stdout",
       "text": [
        " 1\n",
        "10feb40029red.fits"
       ]
      },
      {
       "output_type": "stream",
       "stream": "stdout",
       "text": [
        " 1\n",
        "10feb40030red.fits"
       ]
      },
      {
       "output_type": "stream",
       "stream": "stdout",
       "text": [
        " 1\n",
        "10feb40031red.fits"
       ]
      },
      {
       "output_type": "stream",
       "stream": "stdout",
       "text": [
        " 1\n",
        "10feb40032red.fits"
       ]
      },
      {
       "output_type": "stream",
       "stream": "stdout",
       "text": [
        " 1\n",
        "10feb40033red.fits"
       ]
      },
      {
       "output_type": "stream",
       "stream": "stdout",
       "text": [
        " 1\n",
        "11feb40013red.fits"
       ]
      },
      {
       "output_type": "stream",
       "stream": "stdout",
       "text": [
        " 1\n",
        "11feb40014red.fits"
       ]
      },
      {
       "output_type": "stream",
       "stream": "stdout",
       "text": [
        " 1\n",
        "11feb40015red.fits"
       ]
      },
      {
       "output_type": "stream",
       "stream": "stdout",
       "text": [
        " 1\n",
        "11feb40016red.fits"
       ]
      },
      {
       "output_type": "stream",
       "stream": "stdout",
       "text": [
        " 1\n",
        "11feb40017red.fits"
       ]
      },
      {
       "output_type": "stream",
       "stream": "stdout",
       "text": [
        " 1\n",
        "11feb40018red.fits"
       ]
      },
      {
       "output_type": "stream",
       "stream": "stdout",
       "text": [
        " 1\n",
        "11feb40021red.fits"
       ]
      },
      {
       "output_type": "stream",
       "stream": "stdout",
       "text": [
        " 0\n",
        "11feb40022red.fits 0\n",
        "11feb40023red.fits"
       ]
      },
      {
       "output_type": "stream",
       "stream": "stdout",
       "text": [
        " 0\n",
        "11feb40024red.fits 0\n",
        "11feb40025red.fits"
       ]
      },
      {
       "output_type": "stream",
       "stream": "stdout",
       "text": [
        " 0\n",
        "11feb40026red.fits 0\n",
        "11jan40028red.fits"
       ]
      },
      {
       "output_type": "stream",
       "stream": "stdout",
       "text": [
        " 0\n",
        "11jan40029red.fits"
       ]
      },
      {
       "output_type": "stream",
       "stream": "stdout",
       "text": [
        " 0\n",
        "11jan40030red.fits 0\n",
        "11jan40033red.fits"
       ]
      },
      {
       "output_type": "stream",
       "stream": "stdout",
       "text": [
        " 0\n",
        "11jan40034red.fits 0\n",
        "11jan40035red.fits"
       ]
      },
      {
       "output_type": "stream",
       "stream": "stdout",
       "text": [
        " 0\n",
        "11jan40038red.fits 0\n",
        "11jan40039red.fits"
       ]
      },
      {
       "output_type": "stream",
       "stream": "stdout",
       "text": [
        " 0\n",
        "11jan40040red.fits 0\n",
        "12jan40030red.fits"
       ]
      },
      {
       "output_type": "stream",
       "stream": "stdout",
       "text": [
        " 0\n",
        "12jan40031red.fits 0\n",
        "12jan40032red.fits"
       ]
      },
      {
       "output_type": "stream",
       "stream": "stdout",
       "text": [
        " 0\n",
        "17dec40039red.fits 1\n",
        "17dec40040red.fits"
       ]
      },
      {
       "output_type": "stream",
       "stream": "stdout",
       "text": [
        " 1\n",
        "17dec40041red.fits"
       ]
      },
      {
       "output_type": "stream",
       "stream": "stdout",
       "text": [
        " 1\n",
        "17dec40044red.fits"
       ]
      },
      {
       "output_type": "stream",
       "stream": "stdout",
       "text": [
        " 0\n",
        "17dec40045red.fits 0\n",
        "17dec40046red.fits"
       ]
      },
      {
       "output_type": "stream",
       "stream": "stdout",
       "text": [
        " 0\n",
        "18dec40030red.fits 0\n",
        "18dec40031red.fits"
       ]
      },
      {
       "output_type": "stream",
       "stream": "stdout",
       "text": [
        " 0\n",
        "18dec40032red.fits 0\n",
        "18dec40033red.fits"
       ]
      },
      {
       "output_type": "stream",
       "stream": "stdout",
       "text": [
        " 0\n",
        "Procesing RV "
       ]
      },
      {
       "output_type": "stream",
       "stream": "stdout",
       "text": [
        " 0\n",
        "RV"
       ]
      },
      {
       "output_type": "stream",
       "stream": "stdout",
       "text": [
        " -285.108227771\n",
        "Procesing RV  1\n",
        "RV"
       ]
      },
      {
       "output_type": "stream",
       "stream": "stdout",
       "text": [
        " -285.108227771\n",
        "Procesing RV  2\n",
        "RV"
       ]
      },
      {
       "output_type": "stream",
       "stream": "stdout",
       "text": [
        " -285.108227771\n",
        "Procesing RV  3\n",
        "RV"
       ]
      },
      {
       "output_type": "stream",
       "stream": "stdout",
       "text": [
        " -285.108227771\n",
        "Procesing RV  4\n",
        "RV"
       ]
      },
      {
       "output_type": "stream",
       "stream": "stdout",
       "text": [
        " -285.108227771\n",
        "Procesing RV  5\n",
        "RV"
       ]
      },
      {
       "output_type": "stream",
       "stream": "stdout",
       "text": [
        " -285.108227771\n",
        "Procesing RV  6\n",
        "RV"
       ]
      },
      {
       "output_type": "stream",
       "stream": "stdout",
       "text": [
        " 7697.77573524\n",
        "Procesing RV  7\n",
        "RV"
       ]
      },
      {
       "output_type": "stream",
       "stream": "stdout",
       "text": [
        " 7412.67293023\n",
        "Procesing RV  8\n",
        "RV"
       ]
      },
      {
       "output_type": "stream",
       "stream": "stdout",
       "text": [
        " 7412.67293023\n",
        "Procesing RV  9\n",
        "RV"
       ]
      },
      {
       "output_type": "stream",
       "stream": "stdout",
       "text": [
        " 5987.18737428\n",
        "Procesing RV  10\n",
        "RV"
       ]
      },
      {
       "output_type": "stream",
       "stream": "stdout",
       "text": [
        " 6557.39569564\n",
        "Procesing RV  11\n",
        "RV"
       ]
      },
      {
       "output_type": "stream",
       "stream": "stdout",
       "text": [
        " 6272.29153496\n",
        "Procesing RV  12\n",
        "RV"
       ]
      },
      {
       "output_type": "stream",
       "stream": "stdout",
       "text": [
        " 0.0\n",
        "Procesing RV  13\n",
        "RV"
       ]
      },
      {
       "output_type": "stream",
       "stream": "stdout",
       "text": [
        " 285.108227771\n",
        "Procesing RV  14\n",
        "RV"
       ]
      },
      {
       "output_type": "stream",
       "stream": "stdout",
       "text": [
        " 285.108227771\n",
        "Procesing RV  15\n",
        "RV"
       ]
      },
      {
       "output_type": "stream",
       "stream": "stdout",
       "text": [
        " 0.0\n",
        "Procesing RV  16\n",
        "RV"
       ]
      },
      {
       "output_type": "stream",
       "stream": "stdout",
       "text": [
        " -570.216455542\n",
        "Procesing RV  17\n",
        "RV"
       ]
      },
      {
       "output_type": "stream",
       "stream": "stdout",
       "text": [
        " 0.0\n",
        "Procesing RV  18\n",
        "RV"
       ]
      },
      {
       "output_type": "stream",
       "stream": "stdout",
       "text": [
        " 285.108227771\n",
        "Procesing RV  19\n",
        "RV"
       ]
      },
      {
       "output_type": "stream",
       "stream": "stdout",
       "text": [
        " 285.108227771\n",
        "Procesing RV  20\n",
        "RV"
       ]
      },
      {
       "output_type": "stream",
       "stream": "stdout",
       "text": [
        " 285.108227771\n",
        "Procesing RV  21\n",
        "RV"
       ]
      },
      {
       "output_type": "stream",
       "stream": "stdout",
       "text": [
        " 5987.15890519\n",
        "Procesing RV  22\n",
        "RV"
       ]
      },
      {
       "output_type": "stream",
       "stream": "stdout",
       "text": [
        " 5987.15890519\n",
        "Procesing RV  23\n",
        "RV"
       ]
      },
      {
       "output_type": "stream",
       "stream": "stdout",
       "text": [
        " 7697.73913247\n",
        "Procesing RV  24\n",
        "RV"
       ]
      },
      {
       "output_type": "stream",
       "stream": "stdout",
       "text": [
        " 6557.36451521\n",
        "Procesing RV  25\n",
        "RV"
       ]
      },
      {
       "output_type": "stream",
       "stream": "stdout",
       "text": [
        " -910907.793373\n",
        "Procesing RV  26\n",
        "RV"
       ]
      },
      {
       "output_type": "stream",
       "stream": "stdout",
       "text": [
        " -205560.09985\n",
        "Procesing RV  27\n",
        "RV"
       ]
      },
      {
       "output_type": "stream",
       "stream": "stdout",
       "text": [
        " 285.10416068\n",
        "Procesing RV  28\n",
        "RV"
       ]
      },
      {
       "output_type": "stream",
       "stream": "stdout",
       "text": [
        " -1057451.33196\n",
        "Procesing RV  29\n",
        "RV"
       ]
      },
      {
       "output_type": "stream",
       "stream": "stdout",
       "text": [
        " 4561.66657088\n",
        "Procesing RV  30\n",
        "RV"
       ]
      },
      {
       "output_type": "stream",
       "stream": "stdout",
       "text": [
        " 2565.93744612\n",
        "Procesing RV  31\n",
        "RV"
       ]
      },
      {
       "output_type": "stream",
       "stream": "stdout",
       "text": [
        " -173343.329694\n",
        "Procesing RV  32\n",
        "RV"
       ]
      },
      {
       "output_type": "stream",
       "stream": "stdout",
       "text": [
        " 590738.629906\n",
        "Procesing RV  33\n",
        "RV"
       ]
      },
      {
       "output_type": "stream",
       "stream": "stdout",
       "text": [
        " 334428.770695\n",
        "Procesing RV  34\n",
        "RV"
       ]
      },
      {
       "output_type": "stream",
       "stream": "stdout",
       "text": [
        " -136850.647855\n",
        "Procesing RV  35\n",
        "RV"
       ]
      },
      {
       "output_type": "stream",
       "stream": "stdout",
       "text": [
        " 5131.89929455\n",
        "Procesing RV  36\n",
        "RV"
       ]
      },
      {
       "output_type": "stream",
       "stream": "stdout",
       "text": [
        " 2565.94964728\n",
        "Procesing RV  37\n",
        "RV"
       ]
      },
      {
       "output_type": "stream",
       "stream": "stdout",
       "text": [
        " 2565.94964728\n",
        "Procesing RV  38\n",
        "RV"
       ]
      },
      {
       "output_type": "stream",
       "stream": "stdout",
       "text": [
        " 5987.15890519\n",
        "Procesing RV  39\n",
        "RV"
       ]
      },
      {
       "output_type": "stream",
       "stream": "stdout",
       "text": [
        " 5702.05610018\n",
        "Procesing RV  40\n",
        "RV"
       ]
      },
      {
       "output_type": "stream",
       "stream": "stdout",
       "text": [
        " 5416.95329517\n"
       ]
      }
     ],
     "prompt_number": 3
    },
    {
     "cell_type": "code",
     "collapsed": false,
     "input": [
      "#Debuging CC - resampling and cleaning tests\n",
      "flux1 = thisStar.exposures.cam1_fluxes[0]\n",
      "lambda1 = thisStar.exposures.cam1_wavelengths[0]\n",
      "# lambda1Clean_1, flux1Clean_1 = RVs().clean_flux(flux1, 1, lambda1)\n",
      "lambda1Clean_10, flux1Clean_10 = RVs().clean_flux(flux1, 10, lambda1)\n",
      "# lambda1Clean_100, flux1Clean_100 = RVs().clean_flux(flux1, 100, lambda1)\n",
      "plt.plot(lambda1_1,flux1_1/np.max(flux1_1), label= 'Reduced')\n",
      "# plt.plot(lambda1Clean_1,flux1Clean_1)\n",
      "plt.plot(lambda1Clean_10,flux1Clean_10, label= 'Clean')\n",
      "# plt.plot(lambda1Clean_100,flux1Clean_100)\n",
      "plt.title('Reduced and Clean flux')\n",
      "plt.xlabel('Wavelength [Ang.]')\n",
      "plt.ylabel('Relatuve Flux')\n",
      "plt.legend(loc=0)\n",
      "plt.show()"
     ],
     "language": "python",
     "metadata": {},
     "outputs": [],
     "prompt_number": 60
    },
    {
     "cell_type": "code",
     "collapsed": false,
     "input": [
      "pivotMask = np.array(thisStar.exposures.pivots)==53"
     ],
     "language": "python",
     "metadata": {},
     "outputs": [],
     "prompt_number": 10
    },
    {
     "cell_type": "code",
     "collapsed": false,
     "input": [
      "np.array(thisStar.exposures.plates)[pivotMask]"
     ],
     "language": "python",
     "metadata": {},
     "outputs": [
      {
       "metadata": {},
       "output_type": "pyout",
       "prompt_number": 14,
       "text": [
        "array(['Plate 1', 'Plate 1', 'Plate 1', 'Plate 1', 'Plate 1', 'Plate 1',\n",
        "       'Plate 1', 'Plate 1', 'Plate 1', 'Plate 1', 'Plate 1', 'Plate 1',\n",
        "       'Plate 1', 'Plate 1', 'Plate 1', 'Plate 0', 'Plate 0', 'Plate 0',\n",
        "       'Plate 0', 'Plate 0', 'Plate 0', 'Plate 0', 'Plate 0', 'Plate 0',\n",
        "       'Plate 0', 'Plate 0', 'Plate 0', 'Plate 0', 'Plate 1', 'Plate 1',\n",
        "       'Plate 1', 'Plate 1', 'Plate 1', 'Plate 1', 'Plate 1', 'Plate 1',\n",
        "       'Plate 1', 'Plate 1', 'Plate 1', 'Plate 1', 'Plate 1', 'Plate 1',\n",
        "       'Plate 1', 'Plate 0', 'Plate 0', 'Plate 0', 'Plate 0', 'Plate 0',\n",
        "       'Plate 0', 'Plate 0', 'Plate 0', 'Plate 0', 'Plate 0', 'Plate 0',\n",
        "       'Plate 0', 'Plate 0', 'Plate 1', 'Plate 1', 'Plate 1', 'Plate 1',\n",
        "       'Plate 1', 'Plate 1', 'Plate 1', 'Plate 1', 'Plate 1', 'Plate 1',\n",
        "       'Plate 1', 'Plate 1', 'Plate 1', 'Plate 1', 'Plate 1', 'Plate 0',\n",
        "       'Plate 0', 'Plate 0', 'Plate 0', 'Plate 0', 'Plate 0', 'Plate 0',\n",
        "       'Plate 0', 'Plate 0', 'Plate 0', 'Plate 0', 'Plate 0', 'Plate 0',\n",
        "       'Plate 1', 'Plate 1', 'Plate 1', 'Plate 1', 'Plate 1', 'Plate 1',\n",
        "       'Plate 1', 'Plate 1', 'Plate 1', 'Plate 1', 'Plate 1', 'Plate 1',\n",
        "       'Plate 1', 'Plate 1', 'Plate 1', 'Plate 0', 'Plate 0', 'Plate 0',\n",
        "       'Plate 0', 'Plate 0', 'Plate 0', 'Plate 0', 'Plate 0', 'Plate 0',\n",
        "       'Plate 0', 'Plate 0', 'Plate 0', 'Plate 0'], \n",
        "      dtype='|S7')"
       ]
      }
     ],
     "prompt_number": 14
    },
    {
     "cell_type": "code",
     "collapsed": false,
     "input": [
      "xDef = 10\n",
      "CCMaskWidth = 50"
     ],
     "language": "python",
     "metadata": {},
     "outputs": [
      {
       "output_type": "stream",
       "stream": "stdout",
       "text": [
        "\n"
       ]
      }
     ],
     "prompt_number": 104
    },
    {
     "cell_type": "code",
     "collapsed": false,
     "input": [
      "#Debuging CC - cross correlation - create clean fluxes\n",
      "cleanFluxes = []\n",
      "cleanWavelengths = []\n",
      "for i in range(thisStar.exposures.cam1_fluxes.shape[0]):\n",
      "# for i in range(3):\n",
      "    print thisStar.exposures.JDs[i], \n",
      "    thisFlux = thisStar.exposures.cam1_fluxes[i]\n",
      "    thisLambdas = thisStar.exposures.cam1_wavelengths[i]\n",
      "    lambda1Clean, flux1Clean = RVs().clean_flux(thisFlux, xDef, thisLambdas)\n",
      "    cleanFluxes.append(flux1Clean)\n",
      "    cleanWavelengths.append(lambda1Clean)\n",
      "    \n",
      "cleanFluxes = np.array(cleanFluxes)\n",
      "cleanWavelengths = np.array(cleanWavelengths)"
     ],
     "language": "python",
     "metadata": {},
     "outputs": [
      {
       "output_type": "stream",
       "stream": "stdout",
       "text": [
        "56643.6589654 "
       ]
      },
      {
       "output_type": "stream",
       "stream": "stdout",
       "text": [
        "56643.6739758 "
       ]
      },
      {
       "output_type": "stream",
       "stream": "stdout",
       "text": [
        "56643.6887536 "
       ]
      },
      {
       "output_type": "stream",
       "stream": "stdout",
       "text": [
        "56664.5774647 "
       ]
      },
      {
       "output_type": "stream",
       "stream": "stdout",
       "text": [
        "56664.5855542 "
       ]
      },
      {
       "output_type": "stream",
       "stream": "stdout",
       "text": [
        "56664.5939307 "
       ]
      },
      {
       "output_type": "stream",
       "stream": "stdout",
       "text": [
        "56664.6353491 "
       ]
      },
      {
       "output_type": "stream",
       "stream": "stdout",
       "text": [
        "56664.6547346 "
       ]
      },
      {
       "output_type": "stream",
       "stream": "stdout",
       "text": [
        "56664.6626795 "
       ]
      },
      {
       "output_type": "stream",
       "stream": "stdout",
       "text": [
        "56666.5424828 "
       ]
      },
      {
       "output_type": "stream",
       "stream": "stdout",
       "text": [
        "56666.5504084 "
       ]
      },
      {
       "output_type": "stream",
       "stream": "stdout",
       "text": [
        "56666.619688 "
       ]
      },
      {
       "output_type": "stream",
       "stream": "stdout",
       "text": [
        "56666.67379 "
       ]
      },
      {
       "output_type": "stream",
       "stream": "stdout",
       "text": [
        "56695.5738252 "
       ]
      },
      {
       "output_type": "stream",
       "stream": "stdout",
       "text": [
        "56695.5885971 "
       ]
      },
      {
       "output_type": "stream",
       "stream": "stdout",
       "text": [
        "56695.603377 "
       ]
      },
      {
       "output_type": "stream",
       "stream": "stdout",
       "text": [
        "56695.6181642 "
       ]
      },
      {
       "output_type": "stream",
       "stream": "stdout",
       "text": [
        "56695.6329349 "
       ]
      },
      {
       "output_type": "stream",
       "stream": "stdout",
       "text": [
        "56695.6477195 "
       ]
      },
      {
       "output_type": "stream",
       "stream": "stdout",
       "text": [
        "56696.5970262 "
       ]
      },
      {
       "output_type": "stream",
       "stream": "stdout",
       "text": [
        "56696.6118077 "
       ]
      },
      {
       "output_type": "stream",
       "stream": "stdout",
       "text": [
        "56696.6266035 "
       ]
      },
      {
       "output_type": "stream",
       "stream": "stdout",
       "text": [
        "56696.6413751 "
       ]
      },
      {
       "output_type": "stream",
       "stream": "stdout",
       "text": [
        "56696.6561606 "
       ]
      },
      {
       "output_type": "stream",
       "stream": "stdout",
       "text": [
        "56696.6709421 "
       ]
      },
      {
       "output_type": "stream",
       "stream": "stdout",
       "text": [
        "56697.5426207 "
       ]
      },
      {
       "output_type": "stream",
       "stream": "stdout",
       "text": [
        "56697.5602531 "
       ]
      },
      {
       "output_type": "stream",
       "stream": "stdout",
       "text": [
        "56697.5750433 "
       ]
      },
      {
       "output_type": "stream",
       "stream": "stdout",
       "text": [
        "56698.5375728 "
       ]
      },
      {
       "output_type": "stream",
       "stream": "stdout",
       "text": [
        "56698.5523567 "
       ]
      },
      {
       "output_type": "stream",
       "stream": "stdout",
       "text": [
        "56698.5671291 "
       ]
      },
      {
       "output_type": "stream",
       "stream": "stdout",
       "text": [
        "56698.5819141 "
       ]
      },
      {
       "output_type": "stream",
       "stream": "stdout",
       "text": [
        "56698.5966931 "
       ]
      },
      {
       "output_type": "stream",
       "stream": "stdout",
       "text": [
        "56698.6114652 "
       ]
      },
      {
       "output_type": "stream",
       "stream": "stdout",
       "text": [
        "56698.6262608 "
       ]
      },
      {
       "output_type": "stream",
       "stream": "stdout",
       "text": [
        "56699.4862623 "
       ]
      },
      {
       "output_type": "stream",
       "stream": "stdout",
       "text": [
        "56699.5010366 "
       ]
      },
      {
       "output_type": "stream",
       "stream": "stdout",
       "text": [
        "56699.5158192 "
       ]
      },
      {
       "output_type": "stream",
       "stream": "stdout",
       "text": [
        "56699.5306067 "
       ]
      },
      {
       "output_type": "stream",
       "stream": "stdout",
       "text": [
        "56699.5453889 "
       ]
      },
      {
       "output_type": "stream",
       "stream": "stdout",
       "text": [
        "56699.5601762\n"
       ]
      }
     ],
     "prompt_number": 43
    },
    {
     "cell_type": "code",
     "collapsed": false,
     "input": [
      "#Debuging CC - cross correlation - create cross correlation curves\n",
      "CCCurves = []\n",
      "for i in range(cleanFluxes.shape[0]):\n",
      "    print thisStar.exposures.JDs[i], \n",
      "    flux1 = cleanFluxes[10]\n",
      "    lamba1 = cleanWavelengths[10]\n",
      "    flux2 = cleanFluxes[i]\n",
      "    lamba2 = cleanWavelengths[i]\n",
      "    a = signal.fftconvolve(flux1, flux2[::-1], mode='same') \n",
      "    CCCurves.append(a)\n",
      "CCCurves = np.array(CCCurves)"
     ],
     "language": "python",
     "metadata": {},
     "outputs": [
      {
       "output_type": "stream",
       "stream": "stdout",
       "text": [
        "56643.6589654 56643.6739758 56643.6887536 "
       ]
      },
      {
       "output_type": "stream",
       "stream": "stdout",
       "text": [
        "56664.5774647 56664.5855542 56664.5939307 "
       ]
      },
      {
       "output_type": "stream",
       "stream": "stdout",
       "text": [
        "56664.6353491 56664.6547346 56664.6626795 "
       ]
      },
      {
       "output_type": "stream",
       "stream": "stdout",
       "text": [
        "56666.5424828 56666.5504084 56666.619688 "
       ]
      },
      {
       "output_type": "stream",
       "stream": "stdout",
       "text": [
        "56666.67379 56695.5738252 56695.5885971 "
       ]
      },
      {
       "output_type": "stream",
       "stream": "stdout",
       "text": [
        "56695.603377 56695.6181642 56695.6329349 56695.6477195 "
       ]
      },
      {
       "output_type": "stream",
       "stream": "stdout",
       "text": [
        "56696.5970262 56696.6118077 56696.6266035 56696.6413751 "
       ]
      },
      {
       "output_type": "stream",
       "stream": "stdout",
       "text": [
        "56696.6561606 56696.6709421 56697.5426207 56697.5602531 "
       ]
      },
      {
       "output_type": "stream",
       "stream": "stdout",
       "text": [
        "56697.5750433 56698.5375728 56698.5523567 56698.5671291 "
       ]
      },
      {
       "output_type": "stream",
       "stream": "stdout",
       "text": [
        "56698.5819141 56698.5966931 56698.6114652 56698.6262608 "
       ]
      },
      {
       "output_type": "stream",
       "stream": "stdout",
       "text": [
        "56699.4862623 56699.5010366 56699.5158192 56699.5306067 "
       ]
      },
      {
       "output_type": "stream",
       "stream": "stdout",
       "text": [
        "56699.5453889 56699.5601762\n"
       ]
      }
     ],
     "prompt_number": 53
    },
    {
     "cell_type": "code",
     "collapsed": false,
     "input": [
      "a = cleanWavelengths[i]\n",
      "mid = len(a)/2.\n",
      "b= a[mid-2:mid+2]\n",
      "midb = len(b)/2.\n",
      "\n",
      "print midb, b[len(b)/2], b-np.median(b)\n",
      "print np.median(b)\n",
      "# for i in range(CCCurves.shape[0]):\n",
      "for i in range(2):\n",
      "    plt.plot((cleanWavelengths[i]-np.median(cleanWavelengths[i]))/cleanWavelengths[i]*const.c,CCCurves[i])\n",
      "    plt.plot((cleanWavelengths[i]-np.median(cleanWavelengths[i]))/cleanWavelengths[i]*const.c, \n",
      "             gaussian(cleanWavelengths[i], Ps[i][0], Ps[i][1]))    \n",
      "plt.show()"
     ],
     "language": "python",
     "metadata": {},
     "outputs": [
      {
       "output_type": "stream",
       "stream": "stdout",
       "text": [
        "2.0 4803.77935649 [-0.00679641 -0.00226547  0.00226547  0.00679641]\n",
        "4803.77709102\n"
       ]
      }
     ],
     "prompt_number": 115
    },
    {
     "cell_type": "code",
     "collapsed": false,
     "input": [
      "plt.plot(gaussian(range(len(cleanWavelengths[0])), Ps[0][0], Ps[0][1]))\n",
      "plt.show()"
     ],
     "language": "python",
     "metadata": {},
     "outputs": [],
     "prompt_number": 124
    },
    {
     "cell_type": "code",
     "collapsed": false,
     "input": [
      "print gaussian(range(len(cleanWavelengths[0])), Ps[0][0], Ps[0][1] ), Ps[0]\n"
     ],
     "language": "python",
     "metadata": {},
     "outputs": [
      {
       "output_type": "stream",
       "stream": "stdout",
       "text": [
        "[ 0.  0.  0. ...,  0.  0.  0.] [ 19905.42701663     40.24107891]\n"
       ]
      }
     ],
     "prompt_number": 123
    },
    {
     "cell_type": "code",
     "collapsed": false,
     "input": [
      "#Debuging CC - cross correlation - fit gaussian in CCCurves\n",
      "def gaussian(x, mu, sig):\n",
      "    return np.exp(-np.power(x - mu, 2.) / 2 / np.power(sig, 2.))\n",
      "\n",
      "def fit_gaussian(p, flux, x_range):\n",
      "    a = optimize.leastsq(diff_gausian, p, args= [flux, x_range])\n",
      "    return a\n",
      "    \n",
      "def diff_gausian(p, args):\n",
      "    \n",
      "    flux = args[0]\n",
      "    x_range = args[1]\n",
      "    diff = gaussian(x_range, p[0],p[1]) - flux/np.max(flux)\n",
      "    return diff\n",
      "\n",
      "def get_wavelength(wavelengths, pixel):\n",
      "    \n",
      "    intPx = int(pixel)\n",
      "    fracPx = pixel - int(pixel)\n",
      "    \n",
      "    return (wavelengths[intPx+1] - wavelengths[intPx])/fracPx + wavelengths[intPx]\n",
      "\n",
      "\n",
      "Ps = []\n",
      "shiftedWavelength = []\n",
      "for i in range(CCCurves.shape[0]):\n",
      "# for i in range(2):\n",
      "    print thisStar.exposures.JDs[i], \n",
      "    thisCCCurve = CCCurves[i]\n",
      "    corrMax = np.where(thisCCCurve==max(thisCCCurve))[0][0]\n",
      "    p_guess = [corrMax,xDef]\n",
      "    print 'p_guess',p_guess,\n",
      "    x_mask = np.arange(corrMax-CCMaskWidth, corrMax+CCMaskWidth+1)\n",
      "    p = fit_gaussian(p_guess, thisCCCurve[x_mask], np.arange(len(thisCCCurve))[x_mask])[0]\n",
      "    print '    final p', p\n",
      "    print 'Lambda', get_wavelength(cleanWavelengths[i], p[0])\n",
      "    Ps.append(p)\n",
      "    shiftedWavelength.append(get_wavelength(cleanWavelengths[i], p[0]))\n",
      "    \n",
      "Ps = np.array(Ps)\n",
      "shiftedWavelength = np.array(shiftedWavelength)"
     ],
     "language": "python",
     "metadata": {},
     "outputs": [
      {
       "output_type": "stream",
       "stream": "stdout",
       "text": [
        "56643.6589654 p_guess [19905, 10]     final p [ 19905.43611039     40.255261  ]\n",
        "Lambda 4803.90755043\n",
        "56643.6739758 p_guess [19908, 10]     final p [ 19907.10914624     45.42558601]\n",
        "Lambda 4803.94773546\n",
        "56643.6887536 p_guess [19907, 10]     final p [ 19904.6925394      46.46932264]\n",
        "Lambda 4803.89917255\n",
        "56664.5774647 p_guess [19856, 10]     final p [ 19870.48824147     39.89880114]\n",
        "Lambda 4803.79316756\n",
        "56664.5855542 p_guess [19879, 10]     final p [ 19878.26676729     37.45419013]"
       ]
      },
      {
       "output_type": "stream",
       "stream": "stdout",
       "text": [
        "\n",
        "Lambda 4803.83711959\n",
        "56664.5939307 p_guess [19858, 10]     final p [ 19871.08788477     42.40813469]\n",
        "Lambda 4803.83997386\n",
        "56664.6353491 p_guess [19877, 10]     final p [ 19877.27500731     51.16629436]\n",
        "Lambda 4803.83207974\n",
        "56664.6547346 p_guess [19856, 10]     final p [ 19870.62475978     38.81533665]\n",
        "Lambda 4803.79113972\n",
        "56664.6626795 p_guess [19871, 10]     final p [ 19872.3156431      40.22295041]\n",
        "Lambda 4803.80730395\n",
        "56666.5424828 p_guess [19875, 10]     final p [ 19874.13056582     36.78187584]\n",
        "Lambda 4803.83671356\n",
        "56666.5504084 p_guess [19874, 10]     final p [  1.98740000e+04   8.36836644e+00]\n",
        "Lambda 5427.11778522\n",
        "56666.619688 "
       ]
      },
      {
       "output_type": "stream",
       "stream": "stdout",
       "text": [
        "p_guess [19874, 10]     final p [ 19874.46650516     30.06986997]\n",
        "Lambda 4803.81172372\n",
        "56666.67379 p_guess [19874, 10]     final p [ 19875.01756065     38.10970513]\n",
        "Lambda 4804.06455893\n",
        "56695.5738252 p_guess [19819, 10]     final p [ 19820.6766282      39.66249987]\n",
        "Lambda 4803.47341781\n",
        "56695.5885971 p_guess [19818, 10]     final p [ 19817.65363229     40.45445128]\n",
        "Lambda 4803.46006058\n",
        "56695.603377 p_guess [19823, 10]     final p [ 19818.82297367     37.46230004]\n",
        "Lambda 4803.46316515\n",
        "56695.6181642 p_guess [19823, 10]     final p [ 19816.18423767     44.98527114]\n",
        "Lambda 4803.47319061\n",
        "56695.6329349 "
       ]
      },
      {
       "output_type": "stream",
       "stream": "stdout",
       "text": [
        "p_guess [19814, 10]     final p [ 19818.47402535     41.52358597]\n",
        "Lambda 4803.46721801\n",
        "56695.6477195 p_guess [19820, 10]     final p [ 19819.2636244      38.48087009]\n",
        "Lambda 4803.47937763\n",
        "56696.5970262 p_guess [19815, 10]     final p [ 19815.78000537     39.97048151]\n",
        "Lambda 4803.44987561\n",
        "56696.6118077 p_guess [19818, 10]     final p [ 19815.58728651     38.9909233 ]\n",
        "Lambda 4803.45178179\n",
        "56696.6266035 p_guess [19814, 10]     final p [ 19814.69786707     39.40895005]\n",
        "Lambda 4803.44602836\n",
        "56696.6413751 p_guess [19818, 10]     final p [ 19816.36927735     38.49197171]\n",
        "Lambda 4803.46086744\n",
        "56696.6561606 p_guess [19820, 10]     final p [ 19816.42817336     39.88417186]\n",
        "Lambda 4803.45917972\n",
        "56696.6709421 "
       ]
      },
      {
       "output_type": "stream",
       "stream": "stdout",
       "text": [
        "p_guess [19816, 10]     final p [ 19816.37614056     39.90183137]\n",
        "Lambda 4803.46064356\n",
        "56697.5426207 p_guess [19816, 10]     final p [ 19815.15210961     41.65539162]\n",
        "Lambda 4803.42854467\n",
        "56697.5602531 p_guess [19815, 10]     final p [ 19814.26317127     44.64878759]\n",
        "Lambda 4803.41144309\n",
        "56697.5750433 p_guess [19815, 10]     final p [ 19814.06692586     43.10496034]\n",
        "Lambda 4803.46192731\n",
        "56698.5375728 p_guess [19814, 10]     final p [ 19813.60387181     39.31816468]\n",
        "Lambda 4803.53312686\n",
        "56698.5523567 p_guess [19815, 10]     final p [ 19813.98819601     34.42038294]\n",
        "Lambda 4803.53020878\n",
        "56698.5671291 p_guess [19813, 10]     final p [ 19811.62239998     40.77496508]\n",
        "Lambda 4803.52384162\n",
        "56698.5819141 p_guess [19813, 10] "
       ]
      },
      {
       "output_type": "stream",
       "stream": "stdout",
       "text": [
        "    final p [ 19812.75564459     39.168954  ]\n",
        "Lambda 4803.5270889\n",
        "56698.5966931 p_guess [19812, 10]     final p [ 19812.65290094     38.49520223]\n",
        "Lambda 4803.52803248\n",
        "56698.6114652 p_guess [19812, 10]     final p [ 19813.25647165     40.55295808]\n",
        "Lambda 4803.54329016\n",
        "56698.6262608 p_guess [19808, 10]     final p [ 19811.52659733     41.14751446]\n",
        "Lambda 4803.52516601\n",
        "56699.4862623 p_guess [19813, 10]     final p [ 19811.24753171     36.78504914]\n",
        "Lambda 4803.48955689\n",
        "56699.5010366 p_guess [19809, 10]     final p [ 19811.14726034     40.68528315]\n",
        "Lambda 4803.50202065\n",
        "56699.5158192 p_guess [19810, 10]     final p [ 19814.20689106     41.6674781 ]\n",
        "Lambda 4803.50674537\n",
        "56699.5306067 p_guess [19813, 10]     final p [ 19814.04652287     37.79024305]\n",
        "Lambda 4803.58223695\n",
        "56699.5453889 "
       ]
      },
      {
       "output_type": "stream",
       "stream": "stdout",
       "text": [
        "p_guess [19812, 10]     final p [ 19811.64509336     39.26353086]\n",
        "Lambda 4803.4782761\n",
        "56699.5601762 p_guess [19811, 10]     final p [ 19814.9810137      38.62362863]\n",
        "Lambda 4803.48946386\n"
       ]
      }
     ],
     "prompt_number": 143
    },
    {
     "cell_type": "code",
     "collapsed": false,
     "input": [
      "testRVs = []\n",
      "for i in range(len(cleanWavelengths)):\n",
      "    print (np.median(cleanWavelengths[i])- shiftedWavelength[i])/shiftedWavelength[i]*const.c\n",
      "    "
     ],
     "language": "python",
     "metadata": {},
     "outputs": [
      {
       "output_type": "stream",
       "stream": "stdout",
       "text": [
        "-8000.06594041\n",
        "-10507.7632463\n",
        "-7477.24954911\n",
        "551.909203966\n",
        "-2191.005192\n",
        "-2369.12971626\n",
        "-1876.48578186\n",
        "678.461229147\n",
        "-330.30622079\n",
        "-2165.66611618\n",
        "-34431787.8108\n",
        "-606.131448353\n",
        "-16384.0075128\n",
        "17680.2050767\n",
        "18513.9031488\n",
        "18320.1294399\n",
        "17694.3860782\n",
        "18067.1678685\n",
        "17308.2219504\n",
        "19149.6056835\n",
        "19030.6294627\n",
        "19389.7351006\n",
        "18463.5419744\n",
        "18568.8825037\n",
        "18477.51552\n",
        "19067.0707952\n",
        "20134.4898991\n",
        "16983.4698188\n",
        "16781.2928368\n",
        "16963.4234301\n",
        "17360.8262136\n",
        "17158.1488446\n",
        "17099.2558129\n",
        "16146.9592\n",
        "17278.1646495\n",
        "18086.7952998\n",
        "17308.8701649\n",
        "17013.9780331\n",
        "12302.2671496\n",
        "18790.8893669\n",
        "18092.6019286\n"
       ]
      }
     ],
     "prompt_number": 145
    },
    {
     "cell_type": "code",
     "collapsed": false,
     "input": [
      "class RVs():\n",
      "    from scipy import constants,signal, optimize\n",
      "\n",
      "    \n",
      "    def __init__(self):\n",
      "        self.c = constants.speed_of_light\n",
      "        self.RVs = []\n",
      "        \n",
      "    def bulk_calculate_RV(self, wavelengths, fluxes, xDef = 1, xDef2 = 0):\n",
      "        self.RVs = []\n",
      "        for i in range(len(wavelengths)):\n",
      "            print 'Procesing RV ',i\n",
      "            self.RVs.append(self.calculate_RV(wavelengths[0],fluxes[0], wavelengths[i],fluxes[i], xDef = xDef, xDef2 = xDef2))\n",
      "\n",
      "    def bulk_calculate_abs_RV(self, wavelengths, fluxes, refWavelength, refFlux, xDef = 1, xDef2 = 0):\n",
      "        self.RVs = []\n",
      "        for i in range(len(wavelengths)):\n",
      "            print 'Procesing RV ',i\n",
      "            self.RVs.append(self.calculate_RV( wavelengths[i],fluxes[i],refWavelength, refFlux, xDef = xDef, xDef2 = xDef2))\n",
      "        \n",
      "        \n",
      "    def calculate_RV(self, lambda1, flux1, lambda2, flux2, xDef = 1, xDef2 = 0):\n",
      "        lambda1Clean, flux1Clean = self.clean_flux(flux1, xDef, lambda1)\n",
      "        if xDef2 == 0: xDef2 = xDef\n",
      "        lambda2Clean, flux2Clean = self.clean_flux(flux2, xDef2, lambda2)\n",
      "#         plt.plot(lambda1Clean, flux1Clean)\n",
      "#         plt.plot(lambda2Clean, flux2Clean)\n",
      "#         plt.show()\n",
      "        if ((lambda1Clean.shape[0]>0) &\n",
      "            (flux1Clean.shape[0]>0) &\n",
      "            (lambda2Clean.shape[0]>0) &\n",
      "            (flux2Clean.shape[0]>0)):\n",
      "            a = signal.fftconvolve(flux1Clean, flux2Clean[::-1], mode='same') \n",
      "            corrMax = np.where(a==max(a))[0][0]\n",
      "            #plt.plot(a/np.max(a))\n",
      "            p_guess = [corrMax,xDef]\n",
      "            print 'p_guess',p_guess\n",
      "            x_mask = np.arange(corrMax-50, corrMax+50)\n",
      "            p = self.fit_gaussian(p_guess, a[x_mask], np.arange(len(a))[x_mask])[0]\n",
      "            print 'final p', p\n",
      "            #plt.plot(self.gaussian(np.arange(len(a)),p_guess[0],p_guess[1]))\n",
      "            corrPeak = p[0]\n",
      "#            print 'corr',corrPeak\n",
      "            #plt.plot(self.gaussian(np.arange(len(a)),p[0],p[1]))\n",
      "            #plt.show()\n",
      "            centralLambda = lambda2Clean[len(lambda2Clean)/2]\n",
      "            shiftLambda = lambda2Clean[corrPeak] - centralLambda\n",
      "            RV = self.c/centralLambda * shiftLambda\n",
      "        else:\n",
      "            RV = 0\n",
      "\n",
      "        print 'RV', RV\n",
      "        return RV        \n",
      "    \n",
      "    def clean_flux(self,flux, xDef = 1, lambdas = np.array([])):\n",
      "        '''clean a flux array to cross corralate to determine RV shift\n",
      "            eliminates NaNs\n",
      "            moving median to reduce peaks\n",
      "            optional: increase resolution by xDef times\n",
      "            \n",
      "        '''\t\n",
      "        \n",
      "        #Copy to output in case of no resampling\n",
      "        fluxHD = flux\n",
      "        newLambdas = lambdas\n",
      "        \n",
      "        \n",
      "        #clean NaNs and median outliers\t\n",
      "        fluxHD[np.isnan(fluxHD)] = 0\n",
      "        fluxNeat = fluxHD\t\n",
      "        fluxMed = signal.medfilt(fluxHD,5)\n",
      "        w = np.where(abs((fluxHD-fluxMed)/np.maximum(fluxMed,50)) > 0.4)\n",
      "        for ix in w[0]:\n",
      "            fluxNeat[ix] = fluxMed[ix]\n",
      "\n",
      "        #if enough data -> resample\n",
      "        if ((xDef>1) and (len(lambdas)>0)):\n",
      "            fFluxHD = interpolate.interp1d(lambdas,fluxNeat) \n",
      "            lambdas = np.arange(min(lambdas), max(lambdas),(max(lambdas)-min(lambdas))/len(lambdas)/xDef)\n",
      "            fluxNeat = fFluxHD(lambdas)\n",
      "        \n",
      "        #remove trailing zeros, devide by fitted curve (flatten) and apply tukey window\n",
      "        fluxNeat = np.trim_zeros(fluxNeat,'f') \n",
      "        lambdas = lambdas[-len(fluxNeat):]\n",
      "        fluxNeat = np.trim_zeros(fluxNeat,'b') \n",
      "        lambdas = lambdas[:len(fluxNeat)]\n",
      "        \n",
      "        if ((lambdas.shape[0]>0) &  (fluxNeat.shape[0]>0)):\n",
      "            fFluxNeat = optimize.curve_fit(self.cubic, lambdas, fluxNeat, p0 = [1,1,1,1])\n",
      "            fittedCurve = self.cubic(lambdas, fFluxNeat[0][0], fFluxNeat[0][1], fFluxNeat[0][2], fFluxNeat[0][3])\n",
      "        # \tplt.plot(fittedCurve)\n",
      "        # \tplt.plot(fluxNeat)\n",
      "        # \tplt.show()\n",
      "        # \tplt.plot(fluxNeat/fittedCurve-1)\n",
      "        # \tplt.show()\n",
      "            \n",
      "            fluxFlat = fluxNeat/fittedCurve-1\n",
      "            \n",
      "            fluxWindow = fluxFlat * self.tukey(0.1, len(fluxFlat))\n",
      "        else:\n",
      "            fluxWindow = np.array([])\n",
      "            print 'empty after removing zeros'\n",
      "            \n",
      "        return lambdas, fluxWindow\n",
      "\n",
      "    def cubic(self,x,a,b,c,d):\n",
      "        return a*x**3+b*x**2+c*x+d\n",
      "    \n",
      "    def gaussian(self, x, mu, sig):\n",
      "        return np.exp(-np.power(x - mu, 2.) / 2 / np.power(sig, 2.))\n",
      "\n",
      "    def fit_gaussian(self, p, flux, x_range):\n",
      "        a = optimize.leastsq(self.diff_gausian, p, args= [flux, x_range])\n",
      "#         plt.show()\n",
      "        return a\n",
      "        \n",
      "    def diff_gausian(self, p, args):\n",
      "        \n",
      "        flux = args[0]\n",
      "        x_range = args[1]\n",
      "#         print p\n",
      "        diff = self.gaussian(x_range, p[0],p[1]) - flux/np.max(flux)\n",
      "#         print 'diff', diff\n",
      "#         plt.plot(diff)\n",
      "#         plt.title(p)\n",
      "        return diff\n",
      "\n",
      "    def tukey(self, \n",
      "              alpha, N):\n",
      "\n",
      "        tukey = np.zeros(N)\n",
      "        for i in range(int(alpha*(N-1)/2)):\n",
      "            tukey[i] = 0.5*(1+np.cos(np.pi*(2*i/alpha/(N-1)-1)))\n",
      "        for i in range(int(alpha*(N-1)/2),int((N-1)*(1-alpha/2))):\n",
      "            tukey[i] = 1\n",
      "        for i in range(int((N-1)*(1-alpha/2)),int((N-1))):\n",
      "            tukey[i] = 0.5*(1+np.cos(np.pi*(2*i/alpha/(N-1)-2/alpha+1)))\n",
      "        \n",
      "        return tukey\n"
     ],
     "language": "python",
     "metadata": {},
     "outputs": [],
     "prompt_number": 15
    },
    {
     "cell_type": "code",
     "collapsed": false,
     "input": [
      "data = np.load('data.npy')"
     ],
     "language": "python",
     "metadata": {},
     "outputs": [],
     "prompt_number": 16
    },
    {
     "cell_type": "code",
     "collapsed": false,
     "input": [
      "data[10:][np.argsort(data[10:,3].astype(float),0 ),0]"
     ],
     "language": "python",
     "metadata": {},
     "outputs": [
      {
       "metadata": {},
       "output_type": "pyout",
       "prompt_number": 17,
       "text": [
        "array(['M67-F-170', 'M67-F-108', 'M67-F-81', 'M67-S78', 'M67-S82',\n",
        "       'M67-S339', 'M67-S11', 'M67-S307', 'M67-S18', 'M67-S43', 'M67-S34',\n",
        "       'M67-S108', 'M67-S122', 'M67-S70', 'M67-S35', 'M67-S285', 'M67-S26',\n",
        "       'M67-S74', 'M67-I-242ble', 'M67-S39', 'M67-S124', 'M67-S33',\n",
        "       'M67-S20', 'M67-S114', 'M67-F-135', 'M67-S85', 'M67-S54', 'M67-S79',\n",
        "       'M67-S52', 'M67-S23', 'M67-S42', 'M67-S53', 'M67-S12', 'M67-444',\n",
        "       'M67-S88', 'M67-S96', 'M67-S93', 'M67-S37', 'M67-S47', 'M67-F-149',\n",
        "       'M67-S56', 'M67-F-117', 'M67-S15', 'M67-S64', 'M67-S109', 'M67-S49',\n",
        "       'M67-577', 'M67-S61', 'M67-S55', 'M67-S104', 'M67-S84', 'M67-S25',\n",
        "       'M67-S58', 'M67-S95', 'M67-S67', 'M67-S72', 'M67-S115', 'M67-S126',\n",
        "       'M67-S81', 'M67-S44', 'M67-S187', 'M67-S14', 'M67-S8', 'M67-S3',\n",
        "       'M67-S9', 'M67-S60', 'M67-S132', 'M67-S1', 'M67-S322', 'M67-S45',\n",
        "       'M67-S19', 'M67-S24', 'M67-S87', 'M67-S17', 'M67-S10', 'M67-S57',\n",
        "       'M67-590', 'M67-S120', 'M67-S22', 'M67-S288', 'M67-F-130', 'M67-S4',\n",
        "       'M67-S50', 'M67-S113', 'M67-S59', 'M67-S141', 'M67-S36', 'M67-S139',\n",
        "       'M67-S16', 'M67-S116', 'M67-S360', 'M67-F-132', 'M67-S128',\n",
        "       'M67-S125', 'M67-I-198', 'M67-S110', 'M67-I-9', 'M67-S7', 'M67-S27',\n",
        "       'M67-S133', 'M67-S97', 'M67-S48', 'M67-S2', 'M67-S68', 'M67-S21',\n",
        "       'M67-S65', 'M67-S129', 'M67-S29', 'M67-S30', 'M67-S83', 'M67-S5',\n",
        "       'M67-S32', 'M67-S136', 'M67-S73', 'M67-S76', 'M67-S6', 'M67-S123',\n",
        "       'M67-S100', 'M67-S135', 'M67-S69', 'M67-S127', 'M67-S99',\n",
        "       'M67-S121', 'M67-S98', 'M67-S131', 'M67-403', 'M67-530', 'M67-396',\n",
        "       'M67-S539', 'M67-437', 'M67-531', 'M67-S529', 'M67-S191',\n",
        "       'M67-S461', 'M67-399', 'M67-475', 'M67-S542', 'M67-507', 'M67-470',\n",
        "       'M67-425', 'M67-S491', 'M67-S219', 'M67-S600', 'M67-S298',\n",
        "       'M67-484', 'M67-582', 'M67-410', 'M67-445', 'M67-558', 'M67-S233',\n",
        "       'M67-S283', 'M67-439', 'M67-499', 'M67-S271', 'M67-S180', 'M67-573',\n",
        "       'M67-S364', 'M67-S318', 'M67-S328', 'M67-443', 'M67-S304',\n",
        "       'M67-413', 'M67-S245', 'M67-S452', 'M67-I-51', 'M67-506', 'M67-449',\n",
        "       'M67-S241', 'M67-S232', 'M67-S174', 'M67-S538', 'M67-S526',\n",
        "       'M67-S280', 'M67-451', 'M67-S516', 'M67-S336', 'M67-539', 'M67-557',\n",
        "       'M67-S297', 'M67-496', 'M67-S341', 'M67-464', 'M67-S591',\n",
        "       'M67-S230', 'M67-S627', 'M67-556', 'M67-409', 'M67-419', 'M67-S203',\n",
        "       'M67-418', 'M67-S347', 'M67-S279', 'M67-489', 'M67-S326', 'M67-424',\n",
        "       'M67-S474', 'M67-S484', 'M67-538', 'M67-S254', 'M67-S338',\n",
        "       'M67-580', 'M67-S218', 'M67-570', 'M67-S654', 'M67-S319',\n",
        "       'M67-S622', 'M67-S252', 'M67-S557', 'M67-S301', 'M67-S581',\n",
        "       'M67-S485', 'M67-S200', 'M67-S171', 'M67-S234', 'M67-S196',\n",
        "       'M67-560', 'M67-S305', 'M67-S525', 'M67-564', 'M67-481', 'M67-S588',\n",
        "       'M67-433', 'M67-450', 'M67-S342', 'M67-S642', 'M67-546', 'M67-S317',\n",
        "       'M67-S247', 'M67-S296', 'M67-S194', 'M67-S172', 'M67-S496',\n",
        "       'M67-S214', 'M67-S272', 'M67-S224', 'M67-S266', 'M67-474',\n",
        "       'M67-490', 'M67-S295', 'M67-523', 'M67-417', 'M67-562', 'M67-S560',\n",
        "       'M67-S488', 'M67-S216', 'M67-414', 'M67-S337', 'M67-S626',\n",
        "       'M67-512', 'M67-S167', 'M67-S248', 'M67-S572', 'M67-549',\n",
        "       'M67-S267', 'M67-S607', 'M67-S523', 'M67-482', 'M67-S565',\n",
        "       'M67-S202', 'M67-S327', 'M67-S217', 'M67-402', 'M67-S569',\n",
        "       'M67-S479', 'M67-457', 'M67-432', 'M67-S617', 'M67-S299',\n",
        "       'M67-S303', 'M67-S522', 'M67-S175', 'M67-525', 'M67-S457',\n",
        "       'M67-S210', 'M67-S345', 'M67-S293', 'M67-429', 'M67-S632', 'M67-524'], \n",
        "      dtype='|S12')"
       ]
      }
     ],
     "prompt_number": 17
    },
    {
     "cell_type": "code",
     "collapsed": false,
     "input": [
      "#creates objects for all stars (saves .obj if enabled in the star class)\n",
      "for i in data[10:][np.argsort(data[10:,3].astype(float),0 ),0]:\n",
      "    os.chdir('/Users/Carlos/Documents/HERMES/reductions/m67_all_4cams')\n",
      "    print i\n",
      "    thisStar = star(i, xDef = 1, booWrite = True)"
     ],
     "language": "python",
     "metadata": {},
     "outputs": [
      {
       "output_type": "stream",
       "stream": "stdout",
       "text": [
        "M67-F-170\n",
        "07feb10022red.fits"
       ]
      },
      {
       "output_type": "stream",
       "stream": "stdout",
       "text": [
        " 1\n",
        "07feb10023red.fits"
       ]
      },
      {
       "output_type": "stream",
       "stream": "stdout",
       "text": [
        " 1\n",
        "07feb10024red.fits"
       ]
      },
      {
       "output_type": "stream",
       "stream": "stdout",
       "text": [
        " 1\n",
        "07feb10027red.fits"
       ]
      },
      {
       "output_type": "stream",
       "stream": "stdout",
       "text": [
        " 0\n",
        "07feb10028red.fits 0\n",
        "07feb10029red.fits 0\n",
        "07feb10030red.fits 0\n",
        "07feb10031red.fits"
       ]
      },
      {
       "output_type": "stream",
       "stream": "stdout",
       "text": [
        " 0\n",
        "07feb10032red.fits 0\n",
        "07jan10049red.fits 0\n",
        "07jan10050red.fits 0\n",
        "07jan10051red.fits"
       ]
      },
      {
       "output_type": "stream",
       "stream": "stdout",
       "text": [
        " 0\n",
        "07jan10054red.fits 1\n",
        "07jan10055red.fits"
       ]
      },
      {
       "output_type": "stream",
       "stream": "stdout",
       "text": [
        " 1\n",
        "07jan10056red.fits"
       ]
      },
      {
       "output_type": "stream",
       "stream": "stdout",
       "text": [
        " 1\n",
        "07jan10059red.fits"
       ]
      },
      {
       "output_type": "stream",
       "stream": "stdout",
       "text": [
        " 0\n",
        "07jan10060red.fits 0\n",
        "07jan10061red.fits 0\n",
        "07jan10064red.fits"
       ]
      },
      {
       "output_type": "stream",
       "stream": "stdout",
       "text": [
        " 1\n",
        "08feb10027red.fits"
       ]
      },
      {
       "output_type": "stream",
       "stream": "stdout",
       "text": [
        " 1\n",
        "08feb10028red.fits"
       ]
      },
      {
       "output_type": "stream",
       "stream": "stdout",
       "text": [
        " 1\n",
        "08feb10029red.fits"
       ]
      },
      {
       "output_type": "stream",
       "stream": "stdout",
       "text": [
        " 1\n",
        "08feb10032red.fits"
       ]
      },
      {
       "output_type": "stream",
       "stream": "stdout",
       "text": [
        " 0\n",
        "08feb10033red.fits 0\n",
        "08feb10034red.fits 0\n",
        "08feb10035red.fits 0\n",
        "08feb10036red.fits"
       ]
      },
      {
       "output_type": "stream",
       "stream": "stdout",
       "text": [
        " 0\n",
        "08feb10037red.fits 0\n",
        "09feb10029red.fits 0\n",
        "09feb10030red.fits 0\n",
        "09feb10031red.fits"
       ]
      },
      {
       "output_type": "stream",
       "stream": "stdout",
       "text": [
        " 0\n",
        "09feb10034red.fits 1\n",
        "09feb10035red.fits"
       ]
      },
      {
       "output_type": "stream",
       "stream": "stdout",
       "text": [
        " 1\n",
        "09feb10036red.fits"
       ]
      },
      {
       "output_type": "stream",
       "stream": "stdout",
       "text": [
        " 1\n",
        "09jan10026red.fits"
       ]
      },
      {
       "output_type": "stream",
       "stream": "stdout",
       "text": [
        " 0\n",
        "09jan10027red.fits 0\n",
        "09jan10030red.fits 1\n",
        "09jan10031red.fits"
       ]
      },
      {
       "output_type": "stream",
       "stream": "stdout",
       "text": [
        " 1\n",
        "09jan10032red.fits"
       ]
      },
      {
       "output_type": "stream",
       "stream": "stdout",
       "text": [
        " 1\n",
        "09jan10033red.fits"
       ]
      },
      {
       "output_type": "stream",
       "stream": "stdout",
       "text": [
        " 1\n",
        "09jan10036red.fits"
       ]
      },
      {
       "output_type": "stream",
       "stream": "stdout",
       "text": [
        " 0\n",
        "09jan10045red.fits 0\n",
        "09jan10048red.fits 1\n",
        "09jan10049red.fits"
       ]
      },
      {
       "output_type": "stream",
       "stream": "stdout",
       "text": [
        " 1\n",
        "09jan10050red.fits"
       ]
      },
      {
       "output_type": "stream",
       "stream": "stdout",
       "text": [
        " 1\n",
        "10feb10027red.fits"
       ]
      },
      {
       "output_type": "stream",
       "stream": "stdout",
       "text": [
        " 0\n",
        "10feb10028red.fits 0\n",
        "10feb10029red.fits 0\n",
        "10feb10030red.fits 0\n",
        "10feb10031red.fits"
       ]
      },
      {
       "output_type": "stream",
       "stream": "stdout",
       "text": [
        " 0\n",
        "10feb10032red.fits 0\n",
        "10feb10033red.fits 0\n",
        "11feb10013red.fits 0\n",
        "11feb10014red.fits"
       ]
      },
      {
       "output_type": "stream",
       "stream": "stdout",
       "text": [
        " 0\n",
        "11feb10015red.fits 0\n",
        "11feb10016red.fits 0\n",
        "11feb10017red.fits 0\n",
        "11feb10018red.fits"
       ]
      },
      {
       "output_type": "stream",
       "stream": "stdout",
       "text": [
        " 0\n",
        "11feb10021red.fits 1\n",
        "11feb10022red.fits"
       ]
      },
      {
       "output_type": "stream",
       "stream": "stdout",
       "text": [
        " 1\n",
        "11feb10023red.fits"
       ]
      },
      {
       "output_type": "stream",
       "stream": "stdout",
       "text": [
        " 1\n",
        "11feb10024red.fits"
       ]
      },
      {
       "output_type": "stream",
       "stream": "stdout",
       "text": [
        " 1\n",
        "11feb10025red.fits"
       ]
      },
      {
       "output_type": "stream",
       "stream": "stdout",
       "text": [
        " 1\n",
        "11feb10026red.fits"
       ]
      },
      {
       "output_type": "stream",
       "stream": "stdout",
       "text": [
        " 1\n",
        "11jan10028red.fits"
       ]
      },
      {
       "output_type": "stream",
       "stream": "stdout",
       "text": [
        " 0\n",
        "11jan10029red.fits 0\n",
        "11jan10030red.fits 0\n",
        "11jan10033red.fits 0\n",
        "11jan10034red.fits"
       ]
      },
      {
       "output_type": "stream",
       "stream": "stdout",
       "text": [
        " 0\n",
        "11jan10035red.fits 0\n",
        "11jan10038red.fits 0\n",
        "11jan10039red.fits"
       ]
      },
      {
       "output_type": "stream",
       "stream": "stdout",
       "text": [
        " 0\n",
        "11jan10040red.fits 0\n",
        "12jan10030red.fits 0\n",
        "12jan10031red.fits"
       ]
      },
      {
       "output_type": "stream",
       "stream": "stdout",
       "text": [
        " 0\n",
        "12jan10032red.fits 0\n",
        "17dec10039red.fits 0\n",
        "17dec10040red.fits"
       ]
      },
      {
       "output_type": "stream",
       "stream": "stdout",
       "text": [
        " 0\n",
        "17dec10041red.fits 0\n",
        "17dec10044red.fits 1\n",
        "17dec10045red.fits"
       ]
      },
      {
       "output_type": "stream",
       "stream": "stdout",
       "text": [
        " 1\n",
        "17dec10046red.fits"
       ]
      },
      {
       "output_type": "stream",
       "stream": "stdout",
       "text": [
        " 1\n",
        "18dec10030red.fits"
       ]
      },
      {
       "output_type": "stream",
       "stream": "stdout",
       "text": [
        " 0\n",
        "18dec10031red.fits 0\n",
        "18dec10032red.fits 0\n",
        "18dec10033red.fits"
       ]
      },
      {
       "output_type": "stream",
       "stream": "stdout",
       "text": [
        " 0\n",
        "Procesing RV "
       ]
      },
      {
       "output_type": "stream",
       "stream": "stdout",
       "text": [
        " 0\n",
        "RV 0.0\n",
        "Procesing RV  1\n",
        "RV -2828.27695739\n",
        "Procesing RV  2\n",
        "RV"
       ]
      },
      {
       "output_type": "stream",
       "stream": "stdout",
       "text": [
        " -2828.27695739\n",
        "Procesing RV  3\n",
        "RV -8484.83087205\n",
        "Procesing RV  4\n",
        "RV"
       ]
      },
      {
       "output_type": "stream",
       "stream": "stdout",
       "text": [
        " -8484.83087205\n",
        "Procesing RV  5\n",
        "RV -8484.83087205\n",
        "Procesing RV  6\n",
        "RV -8484.83087205\n",
        "Procesing RV  7\n",
        "RV"
       ]
      },
      {
       "output_type": "stream",
       "stream": "stdout",
       "text": [
        " -8484.83087205\n",
        "Procesing RV  8\n",
        "RV -8484.83087205\n",
        "Procesing RV  9\n",
        "RV -8484.83087205\n",
        "Procesing RV  10\n",
        "RV"
       ]
      },
      {
       "output_type": "stream",
       "stream": "stdout",
       "text": [
        " -8484.83087205\n",
        "Procesing RV  11\n",
        "RV 1918694.05043\n",
        "Procesing RV  12\n",
        "RV 1918694.05043\n",
        "Procesing RV  13\n",
        "RV"
       ]
      },
      {
       "output_type": "stream",
       "stream": "stdout",
       "text": [
        " 1918694.05043\n",
        "Procesing RV  14\n",
        "RV -14141.1179688\n",
        "Procesing RV  15\n",
        "RV -14141.1179688\n",
        "Procesing RV  16\n",
        "RV"
       ]
      },
      {
       "output_type": "stream",
       "stream": "stdout",
       "text": [
        " -14141.1179688\n",
        "Procesing RV  17\n",
        "RV -14141.1179688\n",
        "Procesing RV  18\n",
        "RV -14141.1179688\n",
        "Procesing RV  19\n",
        "RV"
       ]
      },
      {
       "output_type": "stream",
       "stream": "stdout",
       "text": [
        " -14141.1179688\n",
        "Procesing RV  20\n",
        "RV -14141.1179688\n",
        "Procesing RV  21\n",
        "RV -14141.1179688\n",
        "Procesing RV  22\n",
        "RV"
       ]
      },
      {
       "output_type": "stream",
       "stream": "stdout",
       "text": [
        " -14141.1179688\n",
        "Procesing RV  23\n",
        "RV -19797.7519271\n",
        "Procesing RV  24\n",
        "RV -19797.7519271\n",
        "Procesing RV  25\n",
        "RV"
       ]
      },
      {
       "output_type": "stream",
       "stream": "stdout",
       "text": [
        " -19797.7519271\n",
        "Procesing RV  26\n",
        "RV -19797.7519271\n",
        "Procesing RV  27\n",
        "RV -19797.7519271\n",
        "Procesing RV  28\n",
        "RV"
       ]
      },
      {
       "output_type": "stream",
       "stream": "stdout",
       "text": [
        " -19797.7519271\n",
        "07feb20022red.fits"
       ]
      },
      {
       "output_type": "stream",
       "stream": "stdout",
       "text": [
        " 1\n",
        "07feb20023red.fits"
       ]
      },
      {
       "output_type": "stream",
       "stream": "stdout",
       "text": [
        " 1\n",
        "07feb20024red.fits"
       ]
      },
      {
       "output_type": "stream",
       "stream": "stdout",
       "text": [
        " 1\n",
        "07feb20027red.fits"
       ]
      },
      {
       "output_type": "stream",
       "stream": "stdout",
       "text": [
        " 0\n",
        "07feb20028red.fits"
       ]
      },
      {
       "output_type": "stream",
       "stream": "stdout",
       "text": [
        " 0\n",
        "07feb20029red.fits 0\n",
        "07feb20030red.fits"
       ]
      },
      {
       "output_type": "stream",
       "stream": "stdout",
       "text": [
        " 0\n",
        "07feb20031red.fits 0\n",
        "07feb20032red.fits"
       ]
      },
      {
       "output_type": "stream",
       "stream": "stdout",
       "text": [
        " 0\n",
        "07jan20049red.fits 0\n",
        "07jan20050red.fits"
       ]
      },
      {
       "output_type": "stream",
       "stream": "stdout",
       "text": [
        " 0\n",
        "07jan20051red.fits"
       ]
      },
      {
       "output_type": "stream",
       "stream": "stdout",
       "text": [
        " 0\n",
        "07jan20054red.fits 1\n",
        "07jan20055red.fits"
       ]
      },
      {
       "output_type": "stream",
       "stream": "stdout",
       "text": [
        " 1\n",
        "07jan20056red.fits"
       ]
      },
      {
       "output_type": "stream",
       "stream": "stdout",
       "text": [
        " 1\n",
        "07jan20059red.fits"
       ]
      },
      {
       "output_type": "stream",
       "stream": "stdout",
       "text": [
        " 0\n",
        "07jan20060red.fits 0\n",
        "07jan20061red.fits"
       ]
      },
      {
       "output_type": "stream",
       "stream": "stdout",
       "text": [
        " 0\n",
        "07jan20064red.fits"
       ]
      },
      {
       "output_type": "stream",
       "stream": "stdout",
       "text": [
        " 1\n",
        "08feb20027red.fits"
       ]
      },
      {
       "output_type": "stream",
       "stream": "stdout",
       "text": [
        " 1\n",
        "08feb20028red.fits"
       ]
      },
      {
       "output_type": "stream",
       "stream": "stdout",
       "text": [
        " 1\n",
        "08feb20029red.fits"
       ]
      },
      {
       "output_type": "stream",
       "stream": "stdout",
       "text": [
        " 1\n",
        "08feb20032red.fits"
       ]
      },
      {
       "output_type": "stream",
       "stream": "stdout",
       "text": [
        " 0\n",
        "08feb20033red.fits"
       ]
      },
      {
       "output_type": "stream",
       "stream": "stdout",
       "text": [
        " 0\n",
        "08feb20034red.fits"
       ]
      },
      {
       "output_type": "stream",
       "stream": "stdout",
       "text": [
        " 0\n",
        "08feb20035red.fits 0\n",
        "08feb20036red.fits"
       ]
      },
      {
       "output_type": "stream",
       "stream": "stdout",
       "text": [
        " 0\n",
        "08feb20037red.fits"
       ]
      },
      {
       "output_type": "stream",
       "stream": "stdout",
       "text": [
        " 0\n",
        "09feb20029red.fits"
       ]
      },
      {
       "output_type": "stream",
       "stream": "stdout",
       "text": [
        " 0\n",
        "09feb20030red.fits"
       ]
      },
      {
       "output_type": "stream",
       "stream": "stdout",
       "text": [
        " 0\n",
        "09feb20031red.fits"
       ]
      },
      {
       "output_type": "stream",
       "stream": "stdout",
       "text": [
        " 0\n",
        "09feb20034red.fits"
       ]
      },
      {
       "output_type": "stream",
       "stream": "stdout",
       "text": [
        " 1\n",
        "09feb20035red.fits"
       ]
      },
      {
       "output_type": "stream",
       "stream": "stdout",
       "text": [
        " 1\n",
        "09feb20036red.fits"
       ]
      },
      {
       "output_type": "stream",
       "stream": "stdout",
       "text": [
        " 1\n",
        "09jan20026red.fits"
       ]
      },
      {
       "output_type": "stream",
       "stream": "stdout",
       "text": [
        " 0\n",
        "09jan20027red.fits"
       ]
      },
      {
       "output_type": "stream",
       "stream": "stdout",
       "text": [
        " 0\n",
        "09jan20030red.fits 1\n",
        "09jan20031red.fits"
       ]
      },
      {
       "output_type": "stream",
       "stream": "stdout",
       "text": [
        " 1\n",
        "09jan20032red.fits"
       ]
      },
      {
       "output_type": "stream",
       "stream": "stdout",
       "text": [
        " 1\n",
        "09jan20033red.fits"
       ]
      },
      {
       "output_type": "stream",
       "stream": "stdout",
       "text": [
        " 1\n",
        "09jan20036red.fits"
       ]
      },
      {
       "output_type": "stream",
       "stream": "stdout",
       "text": [
        " 0\n",
        "09jan20045red.fits"
       ]
      },
      {
       "output_type": "stream",
       "stream": "stdout",
       "text": [
        " 0\n",
        "09jan20048red.fits"
       ]
      },
      {
       "output_type": "stream",
       "stream": "stdout",
       "text": [
        " 1\n",
        "09jan20049red.fits"
       ]
      },
      {
       "output_type": "stream",
       "stream": "stdout",
       "text": [
        " 1\n",
        "09jan20050red.fits"
       ]
      },
      {
       "output_type": "stream",
       "stream": "stdout",
       "text": [
        " 1\n",
        "10feb20027red.fits"
       ]
      },
      {
       "output_type": "stream",
       "stream": "stdout",
       "text": [
        " 0\n",
        "10feb20028red.fits"
       ]
      },
      {
       "output_type": "stream",
       "stream": "stdout",
       "text": [
        " 0\n",
        "10feb20029red.fits"
       ]
      },
      {
       "output_type": "stream",
       "stream": "stdout",
       "text": [
        " 0\n",
        "10feb20030red.fits"
       ]
      },
      {
       "output_type": "stream",
       "stream": "stdout",
       "text": [
        " 0\n",
        "10feb20031red.fits 0\n",
        "10feb20032red.fits"
       ]
      },
      {
       "output_type": "stream",
       "stream": "stdout",
       "text": [
        " 0\n",
        "10feb20033red.fits 0\n",
        "11feb20013red.fits"
       ]
      },
      {
       "output_type": "stream",
       "stream": "stdout",
       "text": [
        " 0\n",
        "11feb20014red.fits 0\n",
        "11feb20015red.fits"
       ]
      },
      {
       "output_type": "stream",
       "stream": "stdout",
       "text": [
        " 0\n",
        "11feb20016red.fits"
       ]
      },
      {
       "output_type": "stream",
       "stream": "stdout",
       "text": [
        " 0\n",
        "11feb20017red.fits 0\n",
        "11feb20018red.fits"
       ]
      },
      {
       "output_type": "stream",
       "stream": "stdout",
       "text": [
        " 0\n",
        "11feb20021red.fits"
       ]
      },
      {
       "output_type": "stream",
       "stream": "stdout",
       "text": [
        " 1\n",
        "11feb20022red.fits"
       ]
      },
      {
       "output_type": "stream",
       "stream": "stdout",
       "text": [
        " 1\n",
        "11feb20023red.fits"
       ]
      },
      {
       "output_type": "stream",
       "stream": "stdout",
       "text": [
        " 1\n",
        "11feb20024red.fits"
       ]
      },
      {
       "output_type": "stream",
       "stream": "stdout",
       "text": [
        " 1\n",
        "11feb20025red.fits"
       ]
      },
      {
       "output_type": "stream",
       "stream": "stdout",
       "text": [
        " 1\n",
        "11feb20026red.fits"
       ]
      },
      {
       "output_type": "stream",
       "stream": "stdout",
       "text": [
        " 1\n",
        "11jan20028red.fits"
       ]
      },
      {
       "output_type": "stream",
       "stream": "stdout",
       "text": [
        " 0\n",
        "11jan20029red.fits 0\n",
        "11jan20030red.fits"
       ]
      },
      {
       "output_type": "stream",
       "stream": "stdout",
       "text": [
        " 0\n",
        "11jan20033red.fits 0\n",
        "11jan20034red.fits"
       ]
      },
      {
       "output_type": "stream",
       "stream": "stdout",
       "text": [
        " 0\n",
        "11jan20035red.fits 0\n",
        "11jan20038red.fits"
       ]
      },
      {
       "output_type": "stream",
       "stream": "stdout",
       "text": [
        " 0\n",
        "11jan20039red.fits"
       ]
      },
      {
       "output_type": "stream",
       "stream": "stdout",
       "text": [
        " 0\n",
        "11jan20040red.fits"
       ]
      },
      {
       "output_type": "stream",
       "stream": "stdout",
       "text": [
        " 0\n",
        "12jan20030red.fits 0\n",
        "12jan20031red.fits"
       ]
      },
      {
       "output_type": "stream",
       "stream": "stdout",
       "text": [
        " 0\n",
        "12jan20032red.fits"
       ]
      },
      {
       "output_type": "stream",
       "stream": "stdout",
       "text": [
        " 0\n",
        "17dec20039red.fits 0\n",
        "17dec20040red.fits"
       ]
      },
      {
       "output_type": "stream",
       "stream": "stdout",
       "text": [
        " 0\n",
        "17dec20041red.fits 0\n",
        "17dec20044red.fits"
       ]
      },
      {
       "output_type": "stream",
       "stream": "stdout",
       "text": [
        " 1\n",
        "17dec20045red.fits"
       ]
      },
      {
       "output_type": "stream",
       "stream": "stdout",
       "text": [
        " 1\n",
        "17dec20046red.fits"
       ]
      },
      {
       "output_type": "stream",
       "stream": "stdout",
       "text": [
        " 1\n",
        "18dec20030red.fits"
       ]
      },
      {
       "output_type": "stream",
       "stream": "stdout",
       "text": [
        " 0\n",
        "18dec20031red.fits 0\n",
        "18dec20032red.fits"
       ]
      },
      {
       "output_type": "stream",
       "stream": "stdout",
       "text": [
        " 0\n",
        "18dec20033red.fits 0\n",
        "Procesing RV "
       ]
      },
      {
       "output_type": "stream",
       "stream": "stdout",
       "text": [
        " 0\n",
        "RV -2845.14746796\n",
        "Procesing RV  1\n",
        "RV -2845.14746796\n",
        "Procesing RV  2\n",
        "RV"
       ]
      },
      {
       "output_type": "stream",
       "stream": "stdout",
       "text": [
        " -2845.14746796\n",
        "Procesing RV  3\n",
        "RV 17071.2088327\n",
        "Procesing RV  4\n",
        "RV"
       ]
      },
      {
       "output_type": "stream",
       "stream": "stdout",
       "text": [
        " 17071.2088327\n",
        "Procesing RV  5\n",
        "RV 17071.2088327\n",
        "Procesing RV  6\n",
        "RV 17071.2088327\n",
        "Procesing RV  7\n",
        "RV"
       ]
      },
      {
       "output_type": "stream",
       "stream": "stdout",
       "text": [
        " 2970333.95657\n",
        "Procesing RV  8\n",
        "RV -321501.663882\n",
        "Procesing RV  9\n",
        "RV -224766.64997\n",
        "Procesing RV  10\n",
        "RV"
       ]
      },
      {
       "output_type": "stream",
       "stream": "stdout",
       "text": [
        " -423926.972729\n",
        "Procesing RV  11\n",
        "RV 1556295.66498\n",
        "Procesing RV  12\n",
        "RV 1411193.14412\n",
        "Procesing RV  13\n",
        "RV"
       ]
      },
      {
       "output_type": "stream",
       "stream": "stdout",
       "text": [
        " 17071.2088327\n",
        "Procesing RV  14\n",
        "RV 1115318.97707\n",
        "Procesing RV  15\n",
        "RV 14226.0073606\n",
        "Procesing RV  16\n",
        "RV"
       ]
      },
      {
       "output_type": "stream",
       "stream": "stdout",
       "text": [
        " 14226.0073606\n",
        "Procesing RV  17\n",
        "empty after removing zeros\n",
        "RV 0\n",
        "Procesing RV  18\n",
        "empty after removing zeros"
       ]
      },
      {
       "output_type": "stream",
       "stream": "stdout",
       "text": [
        "\n",
        "RV 0\n",
        "Procesing RV  19\n",
        "empty after removing zeros\n",
        "RV 0\n",
        "Procesing RV  20\n",
        "RV"
       ]
      },
      {
       "output_type": "stream",
       "stream": "stdout",
       "text": [
        " 2845.17446978\n",
        "Procesing RV  21\n",
        "RV 2845.17446978\n",
        "Procesing RV  22\n",
        "RV 2845.17446978\n",
        "Procesing RV  23\n",
        "RV"
       ]
      },
      {
       "output_type": "stream",
       "stream": "stdout",
       "text": [
        " 2845.17446978\n",
        "Procesing RV  24\n",
        "RV 2845.17446978\n",
        "Procesing RV  25\n",
        "RV 2845.17446978\n",
        "Procesing RV  26\n",
        "RV"
       ]
      },
      {
       "output_type": "stream",
       "stream": "stdout",
       "text": [
        " 25607.0562747\n",
        "Procesing RV  27\n",
        "RV 25607.0562747\n",
        "Procesing RV  28\n",
        "RV"
       ]
      },
      {
       "output_type": "stream",
       "stream": "stdout",
       "text": [
        " 25607.0562747\n",
        "07feb30022red.fits"
       ]
      },
      {
       "output_type": "stream",
       "stream": "stdout",
       "text": [
        " 1\n",
        "07feb30023red.fits"
       ]
      },
      {
       "output_type": "stream",
       "stream": "stdout",
       "text": [
        " 1\n",
        "07feb30024red.fits"
       ]
      },
      {
       "output_type": "stream",
       "stream": "stdout",
       "text": [
        " 1\n",
        "07feb30027red.fits"
       ]
      },
      {
       "output_type": "stream",
       "stream": "stdout",
       "text": [
        " 0\n",
        "07feb30028red.fits"
       ]
      },
      {
       "output_type": "stream",
       "stream": "stdout",
       "text": [
        " 0\n",
        "07feb30029red.fits 0\n",
        "07feb30030red.fits"
       ]
      },
      {
       "output_type": "stream",
       "stream": "stdout",
       "text": [
        " 0\n",
        "07feb30031red.fits 0\n",
        "07feb30032red.fits"
       ]
      },
      {
       "output_type": "stream",
       "stream": "stdout",
       "text": [
        " 0\n",
        "07jan30049red.fits 0\n",
        "07jan30050red.fits"
       ]
      },
      {
       "output_type": "stream",
       "stream": "stdout",
       "text": [
        " 0\n",
        "07jan30051red.fits 0\n",
        "07jan30054red.fits"
       ]
      },
      {
       "output_type": "stream",
       "stream": "stdout",
       "text": [
        " 1\n",
        "07jan30055red.fits"
       ]
      },
      {
       "output_type": "stream",
       "stream": "stdout",
       "text": [
        " 1\n",
        "07jan30056red.fits"
       ]
      },
      {
       "output_type": "stream",
       "stream": "stdout",
       "text": [
        " 1\n",
        "07jan30059red.fits"
       ]
      },
      {
       "output_type": "stream",
       "stream": "stdout",
       "text": [
        " 0\n",
        "07jan30060red.fits"
       ]
      },
      {
       "output_type": "stream",
       "stream": "stdout",
       "text": [
        " 0\n",
        "07jan30061red.fits 0\n",
        "07jan30064red.fits"
       ]
      },
      {
       "output_type": "stream",
       "stream": "stdout",
       "text": [
        " 1\n",
        "08feb30027red.fits"
       ]
      },
      {
       "output_type": "stream",
       "stream": "stdout",
       "text": [
        " 1\n",
        "08feb30028red.fits"
       ]
      },
      {
       "output_type": "stream",
       "stream": "stdout",
       "text": [
        " 1\n",
        "08feb30029red.fits"
       ]
      },
      {
       "output_type": "stream",
       "stream": "stdout",
       "text": [
        " 1\n",
        "08feb30032red.fits"
       ]
      },
      {
       "output_type": "stream",
       "stream": "stdout",
       "text": [
        " 0\n",
        "08feb30033red.fits 0\n",
        "08feb30034red.fits"
       ]
      },
      {
       "output_type": "stream",
       "stream": "stdout",
       "text": [
        " 0\n",
        "08feb30035red.fits 0\n",
        "08feb30036red.fits"
       ]
      },
      {
       "output_type": "stream",
       "stream": "stdout",
       "text": [
        " 0\n",
        "08feb30037red.fits 0\n",
        "09feb30029red.fits"
       ]
      },
      {
       "output_type": "stream",
       "stream": "stdout",
       "text": [
        " 0\n",
        "09feb30030red.fits 0\n",
        "09feb30031red.fits"
       ]
      },
      {
       "output_type": "stream",
       "stream": "stdout",
       "text": [
        " 0\n",
        "09feb30034red.fits 1\n",
        "09feb30035red.fits"
       ]
      },
      {
       "output_type": "stream",
       "stream": "stdout",
       "text": [
        " 1\n",
        "09feb30036red.fits"
       ]
      },
      {
       "output_type": "stream",
       "stream": "stdout",
       "text": [
        " 1\n",
        "09jan30026red.fits"
       ]
      },
      {
       "output_type": "stream",
       "stream": "stdout",
       "text": [
        " 0\n",
        "09jan30027red.fits 0\n",
        "09jan30030red.fits"
       ]
      },
      {
       "output_type": "stream",
       "stream": "stdout",
       "text": [
        " 1\n",
        "09jan30031red.fits"
       ]
      },
      {
       "output_type": "stream",
       "stream": "stdout",
       "text": [
        " 1\n",
        "09jan30032red.fits"
       ]
      },
      {
       "output_type": "stream",
       "stream": "stdout",
       "text": [
        " 1\n",
        "09jan30033red.fits"
       ]
      },
      {
       "output_type": "stream",
       "stream": "stdout",
       "text": [
        " 1\n",
        "09jan30036red.fits"
       ]
      },
      {
       "output_type": "stream",
       "stream": "stdout",
       "text": [
        " 0\n",
        "09jan30045red.fits"
       ]
      },
      {
       "output_type": "stream",
       "stream": "stdout",
       "text": [
        " 0\n",
        "09jan30048red.fits 1\n",
        "09jan30049red.fits"
       ]
      },
      {
       "output_type": "stream",
       "stream": "stdout",
       "text": [
        " 1\n",
        "09jan30050red.fits"
       ]
      },
      {
       "output_type": "stream",
       "stream": "stdout",
       "text": [
        " 1\n",
        "10feb30027red.fits"
       ]
      },
      {
       "output_type": "stream",
       "stream": "stdout",
       "text": [
        " 0\n",
        "10feb30028red.fits 0\n",
        "10feb30029red.fits"
       ]
      },
      {
       "output_type": "stream",
       "stream": "stdout",
       "text": [
        " 0\n",
        "10feb30030red.fits"
       ]
      },
      {
       "output_type": "stream",
       "stream": "stdout",
       "text": [
        " 0\n",
        "10feb30031red.fits 0\n",
        "10feb30032red.fits"
       ]
      },
      {
       "output_type": "stream",
       "stream": "stdout",
       "text": [
        " 0\n",
        "10feb30033red.fits"
       ]
      },
      {
       "output_type": "stream",
       "stream": "stdout",
       "text": [
        " 0\n",
        "11feb30013red.fits 0\n",
        "11feb30014red.fits"
       ]
      },
      {
       "output_type": "stream",
       "stream": "stdout",
       "text": [
        " 0\n",
        "11feb30015red.fits"
       ]
      },
      {
       "output_type": "stream",
       "stream": "stdout",
       "text": [
        " 0\n",
        "11feb30016red.fits"
       ]
      },
      {
       "output_type": "stream",
       "stream": "stdout",
       "text": [
        " 0\n",
        "11feb30017red.fits 0\n",
        "11feb30018red.fits"
       ]
      },
      {
       "output_type": "stream",
       "stream": "stdout",
       "text": [
        " 0\n",
        "11feb30021red.fits"
       ]
      },
      {
       "output_type": "stream",
       "stream": "stdout",
       "text": [
        " 1\n",
        "11feb30022red.fits"
       ]
      },
      {
       "output_type": "stream",
       "stream": "stdout",
       "text": [
        " 1\n",
        "11feb30023red.fits"
       ]
      },
      {
       "output_type": "stream",
       "stream": "stdout",
       "text": [
        " 1\n",
        "11feb30024red.fits"
       ]
      },
      {
       "output_type": "stream",
       "stream": "stdout",
       "text": [
        " 1\n",
        "11feb30025red.fits"
       ]
      },
      {
       "output_type": "stream",
       "stream": "stdout",
       "text": [
        " 1\n",
        "11feb30026red.fits"
       ]
      },
      {
       "output_type": "stream",
       "stream": "stdout",
       "text": [
        " 1\n",
        "11jan30028red.fits"
       ]
      },
      {
       "output_type": "stream",
       "stream": "stdout",
       "text": [
        " 0\n",
        "11jan30029red.fits 0\n",
        "11jan30030red.fits"
       ]
      },
      {
       "output_type": "stream",
       "stream": "stdout",
       "text": [
        " 0\n",
        "11jan30033red.fits"
       ]
      },
      {
       "output_type": "stream",
       "stream": "stdout",
       "text": [
        " 0\n",
        "11jan30034red.fits 0\n",
        "11jan30035red.fits"
       ]
      },
      {
       "output_type": "stream",
       "stream": "stdout",
       "text": [
        " 0\n",
        "11jan30038red.fits 0\n",
        "11jan30039red.fits"
       ]
      },
      {
       "output_type": "stream",
       "stream": "stdout",
       "text": [
        " 0\n",
        "11jan30040red.fits"
       ]
      },
      {
       "output_type": "stream",
       "stream": "stdout",
       "text": [
        " 0\n",
        "12jan30030red.fits 0\n",
        "12jan30031red.fits"
       ]
      },
      {
       "output_type": "stream",
       "stream": "stdout",
       "text": [
        " 0\n",
        "12jan30032red.fits"
       ]
      },
      {
       "output_type": "stream",
       "stream": "stdout",
       "text": [
        " 0\n",
        "17dec30039red.fits"
       ]
      },
      {
       "output_type": "stream",
       "stream": "stdout",
       "text": [
        " 0\n",
        "17dec30040red.fits 0\n",
        "17dec30041red.fits"
       ]
      },
      {
       "output_type": "stream",
       "stream": "stdout",
       "text": [
        " 0\n",
        "17dec30044red.fits 1\n",
        "17dec30045red.fits"
       ]
      },
      {
       "output_type": "stream",
       "stream": "stdout",
       "text": [
        " 1\n",
        "17dec30046red.fits"
       ]
      },
      {
       "output_type": "stream",
       "stream": "stdout",
       "text": [
        " 1\n",
        "18dec30030red.fits"
       ]
      },
      {
       "output_type": "stream",
       "stream": "stdout",
       "text": [
        " 0\n",
        "18dec30031red.fits"
       ]
      },
      {
       "output_type": "stream",
       "stream": "stdout",
       "text": [
        " 0\n",
        "18dec30032red.fits 0\n",
        "18dec30033red.fits"
       ]
      },
      {
       "output_type": "stream",
       "stream": "stdout",
       "text": [
        " 0\n",
        "Procesing RV  0\n",
        "RV"
       ]
      },
      {
       "output_type": "stream",
       "stream": "stdout",
       "text": [
        " 0.0\n",
        "Procesing RV  1\n",
        "RV 0.0\n",
        "Procesing RV  2\n",
        "RV 0.0\n",
        "Procesing RV  3\n",
        "RV"
       ]
      },
      {
       "output_type": "stream",
       "stream": "stdout",
       "text": [
        " 93913.4326495\n",
        "Procesing RV  4\n",
        "RV 93913.4326495\n",
        "Procesing RV  5\n",
        "RV"
       ]
      },
      {
       "output_type": "stream",
       "stream": "stdout",
       "text": [
        " 93913.4326495\n",
        "Procesing RV  6\n",
        "RV 91067.571054\n",
        "Procesing RV  7\n",
        "RV"
       ]
      },
      {
       "output_type": "stream",
       "stream": "stdout",
       "text": [
        " 79683.3682562\n",
        "Procesing RV  8\n",
        "RV 79683.3682562\n",
        "Procesing RV  9\n",
        "RV 79683.3682562\n",
        "Procesing RV  10\n",
        "RV"
       ]
      },
      {
       "output_type": "stream",
       "stream": "stdout",
       "text": [
        " -14238.9048118\n",
        "Procesing RV  11\n",
        "RV -14238.9048118\n",
        "Procesing RV  12\n",
        "RV"
       ]
      },
      {
       "output_type": "stream",
       "stream": "stdout",
       "text": [
        " -14238.9048118\n",
        "Procesing RV  13\n",
        "RV 93913.4326495\n",
        "Procesing RV  14\n",
        "RV"
       ]
      },
      {
       "output_type": "stream",
       "stream": "stdout",
       "text": [
        " 102451.017436\n",
        "Procesing RV  15\n",
        "RV 93913.4326495\n",
        "Procesing RV  16\n",
        "RV"
       ]
      },
      {
       "output_type": "stream",
       "stream": "stdout",
       "text": [
        " 93913.4326495\n",
        "Procesing RV  17\n",
        "empty after removing zeros\n",
        "RV 0\n",
        "Procesing RV  18\n",
        "empty after removing zeros"
       ]
      },
      {
       "output_type": "stream",
       "stream": "stdout",
       "text": [
        "\n",
        "RV 0\n",
        "Procesing RV  19\n",
        "empty after removing zeros\n",
        "RV 0\n",
        "Procesing RV  20\n",
        "RV"
       ]
      },
      {
       "output_type": "stream",
       "stream": "stdout",
       "text": [
        " 76838.2630768\n",
        "Procesing RV  21\n",
        "RV 73992.4014814\n",
        "Procesing RV  22\n",
        "RV"
       ]
      },
      {
       "output_type": "stream",
       "stream": "stdout",
       "text": [
        " 76838.2630768\n",
        "Procesing RV  23\n",
        "RV 76838.2630768\n",
        "Procesing RV  24\n",
        "RV"
       ]
      },
      {
       "output_type": "stream",
       "stream": "stdout",
       "text": [
        " 76838.2630768\n",
        "Procesing RV  25\n",
        "RV 73992.4014814\n",
        "Procesing RV  26\n",
        "RV 102451.017436\n",
        "Procesing RV  27\n",
        "RV"
       ]
      },
      {
       "output_type": "stream",
       "stream": "stdout",
       "text": [
        " 102451.017436\n",
        "Procesing RV  28\n",
        "RV 102451.017436\n",
        "07feb40022red.fits"
       ]
      },
      {
       "output_type": "stream",
       "stream": "stdout",
       "text": [
        " 1\n",
        "07feb40023red.fits"
       ]
      },
      {
       "output_type": "stream",
       "stream": "stdout",
       "text": [
        " 1\n",
        "07feb40024red.fits"
       ]
      },
      {
       "output_type": "stream",
       "stream": "stdout",
       "text": [
        " 1\n",
        "07feb40027red.fits"
       ]
      },
      {
       "output_type": "stream",
       "stream": "stdout",
       "text": [
        " 0\n",
        "07feb40028red.fits"
       ]
      },
      {
       "output_type": "stream",
       "stream": "stdout",
       "text": [
        " 0\n",
        "07feb40029red.fits"
       ]
      },
      {
       "output_type": "stream",
       "stream": "stdout",
       "text": [
        " 0\n",
        "07feb40030red.fits 0\n",
        "07feb40031red.fits"
       ]
      },
      {
       "output_type": "stream",
       "stream": "stdout",
       "text": [
        " 0\n",
        "07feb40032red.fits 0\n",
        "07jan40049red.fits"
       ]
      },
      {
       "output_type": "stream",
       "stream": "stdout",
       "text": [
        " 0\n",
        "07jan40050red.fits"
       ]
      },
      {
       "output_type": "stream",
       "stream": "stdout",
       "text": [
        " 0\n",
        "07jan40051red.fits"
       ]
      },
      {
       "output_type": "stream",
       "stream": "stdout",
       "text": [
        " 0\n",
        "07jan40054red.fits"
       ]
      },
      {
       "output_type": "stream",
       "stream": "stdout",
       "text": [
        " 1\n",
        "07jan40055red.fits"
       ]
      },
      {
       "output_type": "stream",
       "stream": "stdout",
       "text": [
        " 1\n",
        "07jan40056red.fits"
       ]
      },
      {
       "output_type": "stream",
       "stream": "stdout",
       "text": [
        " 1\n",
        "07jan40059red.fits"
       ]
      },
      {
       "output_type": "stream",
       "stream": "stdout",
       "text": [
        " 0\n",
        "07jan40060red.fits 0\n",
        "07jan40061red.fits"
       ]
      },
      {
       "output_type": "stream",
       "stream": "stdout",
       "text": [
        " 0\n",
        "07jan40064red.fits 1\n",
        "08feb40027red.fits"
       ]
      },
      {
       "output_type": "stream",
       "stream": "stdout",
       "text": [
        " 1\n",
        "08feb40028red.fits"
       ]
      },
      {
       "output_type": "stream",
       "stream": "stdout",
       "text": [
        " 1\n",
        "08feb40029red.fits"
       ]
      },
      {
       "output_type": "stream",
       "stream": "stdout",
       "text": [
        " 1\n",
        "08feb40032red.fits"
       ]
      },
      {
       "output_type": "stream",
       "stream": "stdout",
       "text": [
        " 0\n",
        "08feb40033red.fits"
       ]
      },
      {
       "output_type": "stream",
       "stream": "stdout",
       "text": [
        " 0\n",
        "08feb40034red.fits"
       ]
      },
      {
       "output_type": "stream",
       "stream": "stdout",
       "text": [
        " 0\n",
        "08feb40035red.fits"
       ]
      },
      {
       "output_type": "stream",
       "stream": "stdout",
       "text": [
        " 0\n",
        "08feb40036red.fits 0\n",
        "08feb40037red.fits"
       ]
      },
      {
       "output_type": "stream",
       "stream": "stdout",
       "text": [
        " 0\n",
        "09feb40029red.fits 0\n",
        "09feb40030red.fits"
       ]
      },
      {
       "output_type": "stream",
       "stream": "stdout",
       "text": [
        " 0\n",
        "09feb40031red.fits"
       ]
      },
      {
       "output_type": "stream",
       "stream": "stdout",
       "text": [
        " 0\n",
        "09feb40034red.fits 1\n",
        "09feb40035red.fits"
       ]
      },
      {
       "output_type": "stream",
       "stream": "stdout",
       "text": [
        " 1\n",
        "09feb40036red.fits"
       ]
      },
      {
       "output_type": "stream",
       "stream": "stdout",
       "text": [
        " 1\n",
        "09jan40026red.fits"
       ]
      },
      {
       "output_type": "stream",
       "stream": "stdout",
       "text": [
        " 0\n",
        "09jan40027red.fits 0\n",
        "09jan40030red.fits"
       ]
      },
      {
       "output_type": "stream",
       "stream": "stdout",
       "text": [
        " 1\n",
        "09jan40031red.fits"
       ]
      },
      {
       "output_type": "stream",
       "stream": "stdout",
       "text": [
        " 1\n",
        "09jan40032red.fits"
       ]
      },
      {
       "output_type": "stream",
       "stream": "stdout",
       "text": [
        " 1\n",
        "09jan40033red.fits"
       ]
      },
      {
       "output_type": "stream",
       "stream": "stdout",
       "text": [
        " 1\n",
        "09jan40036red.fits"
       ]
      },
      {
       "output_type": "stream",
       "stream": "stdout",
       "text": [
        " 0\n",
        "09jan40045red.fits"
       ]
      },
      {
       "output_type": "stream",
       "stream": "stdout",
       "text": [
        " 0\n",
        "09jan40048red.fits 1\n",
        "09jan40049red.fits"
       ]
      },
      {
       "output_type": "stream",
       "stream": "stdout",
       "text": [
        " 1\n",
        "09jan40050red.fits"
       ]
      },
      {
       "output_type": "stream",
       "stream": "stdout",
       "text": [
        " 1\n",
        "10feb40027red.fits"
       ]
      },
      {
       "output_type": "stream",
       "stream": "stdout",
       "text": [
        " 0\n",
        "10feb40028red.fits 0\n",
        "10feb40029red.fits"
       ]
      },
      {
       "output_type": "stream",
       "stream": "stdout",
       "text": [
        " 0\n",
        "10feb40030red.fits"
       ]
      },
      {
       "output_type": "stream",
       "stream": "stdout",
       "text": [
        " 0\n",
        "10feb40031red.fits"
       ]
      },
      {
       "output_type": "stream",
       "stream": "stdout",
       "text": [
        " 0\n",
        "10feb40032red.fits"
       ]
      },
      {
       "output_type": "stream",
       "stream": "stdout",
       "text": [
        " 0\n",
        "10feb40033red.fits"
       ]
      },
      {
       "output_type": "stream",
       "stream": "stdout",
       "text": [
        " 0\n",
        "11feb40013red.fits"
       ]
      },
      {
       "output_type": "stream",
       "stream": "stdout",
       "text": [
        " 0\n",
        "11feb40014red.fits"
       ]
      },
      {
       "output_type": "stream",
       "stream": "stdout",
       "text": [
        " 0\n",
        "11feb40015red.fits 0\n",
        "11feb40016red.fits"
       ]
      },
      {
       "output_type": "stream",
       "stream": "stdout",
       "text": [
        " 0\n",
        "11feb40017red.fits 0\n",
        "11feb40018red.fits"
       ]
      },
      {
       "output_type": "stream",
       "stream": "stdout",
       "text": [
        " 0\n",
        "11feb40021red.fits 1\n",
        "11feb40022red.fits"
       ]
      },
      {
       "output_type": "stream",
       "stream": "stdout",
       "text": [
        " 1\n",
        "11feb40023red.fits"
       ]
      },
      {
       "output_type": "stream",
       "stream": "stdout",
       "text": [
        " 1\n",
        "11feb40024red.fits"
       ]
      },
      {
       "output_type": "stream",
       "stream": "stdout",
       "text": [
        " 1\n",
        "11feb40025red.fits"
       ]
      },
      {
       "output_type": "stream",
       "stream": "stdout",
       "text": [
        " 1\n",
        "11feb40026red.fits"
       ]
      },
      {
       "output_type": "stream",
       "stream": "stdout",
       "text": [
        " 1\n",
        "11jan40028red.fits"
       ]
      },
      {
       "output_type": "stream",
       "stream": "stdout",
       "text": [
        " 0\n",
        "11jan40029red.fits 0\n",
        "11jan40030red.fits"
       ]
      },
      {
       "output_type": "stream",
       "stream": "stdout",
       "text": [
        " 0\n",
        "11jan40033red.fits"
       ]
      },
      {
       "output_type": "stream",
       "stream": "stdout",
       "text": [
        " 0\n",
        "11jan40034red.fits 0\n",
        "11jan40035red.fits"
       ]
      },
      {
       "output_type": "stream",
       "stream": "stdout",
       "text": [
        " 0\n",
        "11jan40038red.fits 0\n",
        "11jan40039red.fits"
       ]
      },
      {
       "output_type": "stream",
       "stream": "stdout",
       "text": [
        " 0\n",
        "11jan40040red.fits 0\n",
        "12jan40030red.fits"
       ]
      },
      {
       "output_type": "stream",
       "stream": "stdout",
       "text": [
        " 0\n",
        "12jan40031red.fits 0\n",
        "12jan40032red.fits"
       ]
      },
      {
       "output_type": "stream",
       "stream": "stdout",
       "text": [
        " 0\n",
        "17dec40039red.fits 0\n",
        "17dec40040red.fits"
       ]
      },
      {
       "output_type": "stream",
       "stream": "stdout",
       "text": [
        " 0\n",
        "17dec40041red.fits"
       ]
      },
      {
       "output_type": "stream",
       "stream": "stdout",
       "text": [
        " 0\n",
        "17dec40044red.fits 1\n",
        "17dec40045red.fits"
       ]
      },
      {
       "output_type": "stream",
       "stream": "stdout",
       "text": [
        " 1\n",
        "17dec40046red.fits"
       ]
      },
      {
       "output_type": "stream",
       "stream": "stdout",
       "text": [
        " 1\n",
        "18dec40030red.fits"
       ]
      },
      {
       "output_type": "stream",
       "stream": "stdout",
       "text": [
        " 0\n",
        "18dec40031red.fits 0\n",
        "18dec40032red.fits"
       ]
      },
      {
       "output_type": "stream",
       "stream": "stdout",
       "text": [
        " 0\n",
        "18dec40033red.fits 0\n",
        "Procesing RV "
       ]
      },
      {
       "output_type": "stream",
       "stream": "stdout",
       "text": [
        " 0\n",
        "RV -2851.69738079\n",
        "Procesing RV  1\n",
        "RV"
       ]
      },
      {
       "output_type": "stream",
       "stream": "stdout",
       "text": [
        " -353610.475219\n",
        "Procesing RV  2\n",
        "RV 262356.159033\n",
        "Procesing RV  3\n",
        "RV"
       ]
      },
      {
       "output_type": "stream",
       "stream": "stdout",
       "text": [
        " 0.0\n",
        "Procesing RV  4\n",
        "RV 0.0\n",
        "Procesing RV  5\n",
        "RV"
       ]
      },
      {
       "output_type": "stream",
       "stream": "stdout",
       "text": [
        " 0.0\n",
        "Procesing RV  6\n",
        "RV 0.0\n",
        "Procesing RV  7\n",
        "RV -2081739.08798\n",
        "Procesing RV  8\n",
        "RV"
       ]
      },
      {
       "output_type": "stream",
       "stream": "stdout",
       "text": [
        " -333648.593553\n",
        "Procesing RV  9\n",
        "RV -82699.2240431\n",
        "Procesing RV  10\n",
        "RV"
       ]
      },
      {
       "output_type": "stream",
       "stream": "stdout",
       "text": [
        " 327945.198792\n",
        "Procesing RV  11\n",
        "RV 288021.43546\n",
        "Procesing RV  12\n",
        "RV"
       ]
      },
      {
       "output_type": "stream",
       "stream": "stdout",
       "text": [
        " -1035166.14923\n",
        "Procesing RV  13\n",
        "RV -2851.75163387\n",
        "Procesing RV  14\n",
        "RV"
       ]
      },
      {
       "output_type": "stream",
       "stream": "stdout",
       "text": [
        " 282323.411754\n",
        "Procesing RV  15\n",
        "RV -2851.75163387\n",
        "Procesing RV  16\n",
        "RV -2851.75163387\n",
        "Procesing RV  17\n",
        "RV"
       ]
      },
      {
       "output_type": "stream",
       "stream": "stdout",
       "text": [
        " 439015.236025\n",
        "Procesing RV  18\n",
        "RV 439015.236025\n",
        "Procesing RV  19\n",
        "RV 433313.739453\n",
        "Procesing RV  20\n",
        "RV"
       ]
      },
      {
       "output_type": "stream",
       "stream": "stdout",
       "text": [
        " -809889.760011\n",
        "Procesing RV  21\n",
        "RV -5187286.87838\n",
        "Procesing RV  22\n",
        "RV -5694893.84064\n",
        "Procesing RV  23\n",
        "RV"
       ]
      },
      {
       "output_type": "stream",
       "stream": "stdout",
       "text": [
        " -3801348.76794\n",
        "Procesing RV  24\n",
        "RV -3752869.45132\n",
        "Procesing RV  25\n",
        "RV -1346013.96734\n",
        "Procesing RV  26\n",
        "RV"
       ]
      },
      {
       "output_type": "stream",
       "stream": "stdout",
       "text": [
        " 0.0\n",
        "Procesing RV  27\n",
        "RV 0.0\n",
        "Procesing RV  28\n",
        "RV"
       ]
      },
      {
       "output_type": "stream",
       "stream": "stdout",
       "text": [
        " 0.0\n",
        "M67-F-108"
       ]
      },
      {
       "output_type": "stream",
       "stream": "stdout",
       "text": [
        "\n",
        "07feb10022red.fits"
       ]
      },
      {
       "output_type": "stream",
       "stream": "stdout",
       "text": [
        " 1\n",
        "07feb10023red.fits"
       ]
      },
      {
       "output_type": "stream",
       "stream": "stdout",
       "text": [
        " 1\n",
        "07feb10024red.fits"
       ]
      },
      {
       "output_type": "stream",
       "stream": "stdout",
       "text": [
        " 1\n",
        "07feb10027red.fits"
       ]
      },
      {
       "output_type": "stream",
       "stream": "stdout",
       "text": [
        " 0\n",
        "07feb10028red.fits"
       ]
      },
      {
       "output_type": "stream",
       "stream": "stdout",
       "text": [
        " 0\n",
        "07feb10029red.fits 0\n",
        "07feb10030red.fits"
       ]
      },
      {
       "output_type": "stream",
       "stream": "stdout",
       "text": [
        " 0\n",
        "07feb10031red.fits 0\n",
        "07feb10032red.fits"
       ]
      },
      {
       "output_type": "stream",
       "stream": "stdout",
       "text": [
        " 0\n",
        "07jan10049red.fits"
       ]
      },
      {
       "output_type": "stream",
       "stream": "stdout",
       "text": [
        " 0\n",
        "07jan10050red.fits 0\n",
        "07jan10051red.fits"
       ]
      },
      {
       "output_type": "stream",
       "stream": "stdout",
       "text": [
        " 0\n",
        "07jan10054red.fits 1\n",
        "07jan10055red.fits"
       ]
      },
      {
       "output_type": "stream",
       "stream": "stdout",
       "text": [
        " 1\n",
        "07jan10056red.fits"
       ]
      },
      {
       "output_type": "stream",
       "stream": "stdout",
       "text": [
        " 1\n",
        "07jan10059red.fits"
       ]
      },
      {
       "output_type": "stream",
       "stream": "stdout",
       "text": [
        " 0\n",
        "07jan10060red.fits 0\n",
        "07jan10061red.fits"
       ]
      },
      {
       "output_type": "stream",
       "stream": "stdout",
       "text": [
        " 0\n",
        "07jan10064red.fits 1\n",
        "08feb10027red.fits"
       ]
      },
      {
       "output_type": "stream",
       "stream": "stdout",
       "text": [
        " 1\n",
        "08feb10028red.fits"
       ]
      },
      {
       "output_type": "stream",
       "stream": "stdout",
       "text": [
        " 1\n",
        "08feb10029red.fits"
       ]
      },
      {
       "output_type": "stream",
       "stream": "stdout",
       "text": [
        " 1\n",
        "08feb10032red.fits"
       ]
      },
      {
       "output_type": "stream",
       "stream": "stdout",
       "text": [
        " 0\n",
        "08feb10033red.fits"
       ]
      },
      {
       "output_type": "stream",
       "stream": "stdout",
       "text": [
        " 0\n",
        "08feb10034red.fits 0\n",
        "08feb10035red.fits"
       ]
      },
      {
       "output_type": "stream",
       "stream": "stdout",
       "text": [
        " 0\n",
        "08feb10036red.fits 0\n",
        "08feb10037red.fits"
       ]
      },
      {
       "output_type": "stream",
       "stream": "stdout",
       "text": [
        " 0\n",
        "09feb10029red.fits"
       ]
      },
      {
       "output_type": "stream",
       "stream": "stdout",
       "text": [
        " 0\n",
        "09feb10030red.fits 0\n",
        "09feb10031red.fits"
       ]
      },
      {
       "output_type": "stream",
       "stream": "stdout",
       "text": [
        " 0\n",
        "09feb10034red.fits 1\n",
        "09feb10035red.fits"
       ]
      },
      {
       "output_type": "stream",
       "stream": "stdout",
       "text": [
        " 1\n",
        "09feb10036red.fits"
       ]
      },
      {
       "output_type": "stream",
       "stream": "stdout",
       "text": [
        " 1\n",
        "09jan10026red.fits"
       ]
      },
      {
       "output_type": "stream",
       "stream": "stdout",
       "text": [
        " 0\n",
        "09jan10027red.fits"
       ]
      },
      {
       "output_type": "stream",
       "stream": "stdout",
       "text": [
        " 0\n",
        "09jan10030red.fits 1\n",
        "09jan10031red.fits"
       ]
      },
      {
       "output_type": "stream",
       "stream": "stdout",
       "text": [
        " 1\n",
        "09jan10032red.fits"
       ]
      },
      {
       "output_type": "stream",
       "stream": "stdout",
       "text": [
        " 1\n",
        "09jan10033red.fits"
       ]
      },
      {
       "output_type": "stream",
       "stream": "stdout",
       "text": [
        " 1\n",
        "09jan10036red.fits"
       ]
      },
      {
       "output_type": "stream",
       "stream": "stdout",
       "text": [
        " 0\n",
        "09jan10045red.fits 0\n",
        "09jan10048red.fits"
       ]
      },
      {
       "output_type": "stream",
       "stream": "stdout",
       "text": [
        " 1\n",
        "09jan10049red.fits"
       ]
      },
      {
       "output_type": "stream",
       "stream": "stdout",
       "text": [
        " 1\n",
        "09jan10050red.fits"
       ]
      },
      {
       "output_type": "stream",
       "stream": "stdout",
       "text": [
        " 1\n",
        "10feb10027red.fits"
       ]
      },
      {
       "output_type": "stream",
       "stream": "stdout",
       "text": [
        " 0\n",
        "10feb10028red.fits 0\n",
        "10feb10029red.fits"
       ]
      },
      {
       "output_type": "stream",
       "stream": "stdout",
       "text": [
        " 0\n",
        "10feb10030red.fits"
       ]
      },
      {
       "output_type": "stream",
       "stream": "stdout",
       "text": [
        " 0\n",
        "10feb10031red.fits 0\n",
        "10feb10032red.fits"
       ]
      },
      {
       "output_type": "stream",
       "stream": "stdout",
       "text": [
        " 0\n",
        "10feb10033red.fits 0\n",
        "11feb10013red.fits"
       ]
      },
      {
       "output_type": "stream",
       "stream": "stdout",
       "text": [
        " 0\n",
        "11feb10014red.fits 0\n",
        "11feb10015red.fits"
       ]
      },
      {
       "output_type": "stream",
       "stream": "stdout",
       "text": [
        " 0\n",
        "11feb10016red.fits 0\n",
        "11feb10017red.fits"
       ]
      },
      {
       "output_type": "stream",
       "stream": "stdout",
       "text": [
        " 0\n",
        "11feb10018red.fits 0\n",
        "11feb10021red.fits"
       ]
      },
      {
       "output_type": "stream",
       "stream": "stdout",
       "text": [
        " 1\n",
        "11feb10022red.fits"
       ]
      },
      {
       "output_type": "stream",
       "stream": "stdout",
       "text": [
        " 1\n",
        "11feb10023red.fits"
       ]
      },
      {
       "output_type": "stream",
       "stream": "stdout",
       "text": [
        " 1\n",
        "11feb10024red.fits"
       ]
      },
      {
       "output_type": "stream",
       "stream": "stdout",
       "text": [
        " 1\n",
        "11feb10025red.fits"
       ]
      },
      {
       "output_type": "stream",
       "stream": "stdout",
       "text": [
        " 1\n",
        "11feb10026red.fits"
       ]
      },
      {
       "output_type": "stream",
       "stream": "stdout",
       "text": [
        " 1\n",
        "11jan10028red.fits"
       ]
      },
      {
       "output_type": "stream",
       "stream": "stdout",
       "text": [
        " 0\n",
        "11jan10029red.fits"
       ]
      },
      {
       "output_type": "stream",
       "stream": "stdout",
       "text": [
        " 0\n",
        "11jan10030red.fits 0\n",
        "11jan10033red.fits"
       ]
      },
      {
       "output_type": "stream",
       "stream": "stdout",
       "text": [
        " 0\n",
        "11jan10034red.fits 0\n",
        "11jan10035red.fits"
       ]
      },
      {
       "output_type": "stream",
       "stream": "stdout",
       "text": [
        " 0\n",
        "11jan10038red.fits 0\n",
        "11jan10039red.fits"
       ]
      },
      {
       "output_type": "stream",
       "stream": "stdout",
       "text": [
        " 0\n",
        "11jan10040red.fits 0\n",
        "12jan10030red.fits"
       ]
      },
      {
       "output_type": "stream",
       "stream": "stdout",
       "text": [
        " 0\n",
        "12jan10031red.fits 0\n",
        "12jan10032red.fits"
       ]
      },
      {
       "output_type": "stream",
       "stream": "stdout",
       "text": [
        " 0\n",
        "17dec10039red.fits"
       ]
      },
      {
       "output_type": "stream",
       "stream": "stdout",
       "text": [
        " 0\n",
        "17dec10040red.fits 0\n",
        "17dec10041red.fits"
       ]
      },
      {
       "output_type": "stream",
       "stream": "stdout",
       "text": [
        " 0\n",
        "17dec10044red.fits 1\n",
        "17dec10045red.fits"
       ]
      },
      {
       "output_type": "stream",
       "stream": "stdout",
       "text": [
        " 1\n",
        "17dec10046red.fits"
       ]
      },
      {
       "output_type": "stream",
       "stream": "stdout",
       "text": [
        " 1\n",
        "18dec10030red.fits"
       ]
      },
      {
       "output_type": "stream",
       "stream": "stdout",
       "text": [
        " 0\n",
        "18dec10031red.fits 0\n",
        "18dec10032red.fits"
       ]
      },
      {
       "output_type": "stream",
       "stream": "stdout",
       "text": [
        " 0\n",
        "18dec10033red.fits 0\n",
        "Procesing RV "
       ]
      },
      {
       "output_type": "stream",
       "stream": "stdout",
       "text": [
        " 0\n",
        "RV 0.0\n",
        "Procesing RV  1\n",
        "RV -2828.33032293\n",
        "Procesing RV  2\n",
        "RV"
       ]
      },
      {
       "output_type": "stream",
       "stream": "stdout",
       "text": [
        " -2828.33032293\n",
        "Procesing RV  3\n",
        "RV -8484.99096878\n",
        "Procesing RV  4\n",
        "RV"
       ]
      },
      {
       "output_type": "stream",
       "stream": "stdout",
       "text": [
        " -8484.99096878\n",
        "Procesing RV  5\n",
        "RV -8484.99096878\n",
        "Procesing RV  6\n",
        "RV -11313.3212917\n",
        "Procesing RV  7\n",
        "RV"
       ]
      },
      {
       "output_type": "stream",
       "stream": "stdout",
       "text": [
        " -11313.3212917\n",
        "Procesing RV  8\n",
        "RV -11313.3212917\n",
        "Procesing RV  9\n",
        "RV -11313.3212917\n",
        "Procesing RV  10\n",
        "RV"
       ]
      },
      {
       "output_type": "stream",
       "stream": "stdout",
       "text": [
        " -11313.3212917\n",
        "Procesing RV  11\n",
        "RV -65088.4412387\n",
        "Procesing RV  12\n",
        "RV"
       ]
      },
      {
       "output_type": "stream",
       "stream": "stdout",
       "text": [
        " -65088.4412387\n",
        "Procesing RV  13\n",
        "RV -67918.3734664\n",
        "Procesing RV  14\n",
        "RV 4267950.45731\n",
        "Procesing RV  15\n",
        "RV"
       ]
      },
      {
       "output_type": "stream",
       "stream": "stdout",
       "text": [
        " -31111.6335523\n",
        "Procesing RV  16\n",
        "RV -28283.3032293\n",
        "Procesing RV  17\n",
        "RV -22626.6425835\n",
        "Procesing RV  18\n",
        "RV"
       ]
      },
      {
       "output_type": "stream",
       "stream": "stdout",
       "text": [
        " -22626.6425835\n",
        "Procesing RV  19\n",
        "RV -22626.6425835\n",
        "Procesing RV  20\n",
        "RV -28283.3032293\n",
        "Procesing RV  21\n",
        "RV"
       ]
      },
      {
       "output_type": "stream",
       "stream": "stdout",
       "text": [
        " -28283.3032293\n",
        "Procesing RV  22\n",
        "RV -28283.3032293\n",
        "Procesing RV  23\n",
        "RV -25454.9729064\n",
        "Procesing RV  24\n",
        "RV"
       ]
      },
      {
       "output_type": "stream",
       "stream": "stdout",
       "text": [
        " -25454.9729064\n",
        "Procesing RV  25\n",
        "RV -25454.9729064\n",
        "Procesing RV  26\n",
        "RV -25454.9729064\n",
        "Procesing RV  27\n",
        "RV"
       ]
      },
      {
       "output_type": "stream",
       "stream": "stdout",
       "text": [
        " -25454.9729064\n",
        "Procesing RV  28\n",
        "RV -25454.9729064\n",
        "07feb20022red.fits"
       ]
      },
      {
       "output_type": "stream",
       "stream": "stdout",
       "text": [
        " 1\n",
        "07feb20023red.fits"
       ]
      },
      {
       "output_type": "stream",
       "stream": "stdout",
       "text": [
        " 1\n",
        "07feb20024red.fits"
       ]
      },
      {
       "output_type": "stream",
       "stream": "stdout",
       "text": [
        " 1\n",
        "07feb20027red.fits"
       ]
      },
      {
       "output_type": "stream",
       "stream": "stdout",
       "text": [
        " 0\n",
        "07feb20028red.fits"
       ]
      },
      {
       "output_type": "stream",
       "stream": "stdout",
       "text": [
        " 0\n",
        "07feb20029red.fits 0\n",
        "07feb20030red.fits"
       ]
      },
      {
       "output_type": "stream",
       "stream": "stdout",
       "text": [
        " 0\n",
        "07feb20031red.fits 0\n",
        "07feb20032red.fits"
       ]
      },
      {
       "output_type": "stream",
       "stream": "stdout",
       "text": [
        " 0\n",
        "07jan20049red.fits 0\n",
        "07jan20050red.fits"
       ]
      },
      {
       "output_type": "stream",
       "stream": "stdout",
       "text": [
        " 0\n",
        "07jan20051red.fits"
       ]
      },
      {
       "output_type": "stream",
       "stream": "stdout",
       "text": [
        " 0\n",
        "07jan20054red.fits 1\n",
        "07jan20055red.fits"
       ]
      },
      {
       "output_type": "stream",
       "stream": "stdout",
       "text": [
        " 1\n",
        "07jan20056red.fits"
       ]
      },
      {
       "output_type": "stream",
       "stream": "stdout",
       "text": [
        " 1\n",
        "07jan20059red.fits"
       ]
      },
      {
       "output_type": "stream",
       "stream": "stdout",
       "text": [
        " 0\n",
        "07jan20060red.fits 0\n",
        "07jan20061red.fits"
       ]
      },
      {
       "output_type": "stream",
       "stream": "stdout",
       "text": [
        " 0\n",
        "07jan20064red.fits 1\n",
        "08feb20027red.fits"
       ]
      },
      {
       "output_type": "stream",
       "stream": "stdout",
       "text": [
        " 1\n",
        "08feb20028red.fits"
       ]
      },
      {
       "output_type": "stream",
       "stream": "stdout",
       "text": [
        " 1\n",
        "08feb20029red.fits"
       ]
      },
      {
       "output_type": "stream",
       "stream": "stdout",
       "text": [
        " 1\n",
        "08feb20032red.fits"
       ]
      },
      {
       "output_type": "stream",
       "stream": "stdout",
       "text": [
        " 0\n",
        "08feb20033red.fits"
       ]
      },
      {
       "output_type": "stream",
       "stream": "stdout",
       "text": [
        " 0\n",
        "08feb20034red.fits 0\n",
        "08feb20035red.fits"
       ]
      },
      {
       "output_type": "stream",
       "stream": "stdout",
       "text": [
        " 0\n",
        "08feb20036red.fits 0\n",
        "08feb20037red.fits"
       ]
      },
      {
       "output_type": "stream",
       "stream": "stdout",
       "text": [
        " 0\n",
        "09feb20029red.fits 0\n",
        "09feb20030red.fits"
       ]
      },
      {
       "output_type": "stream",
       "stream": "stdout",
       "text": [
        " 0\n",
        "09feb20031red.fits 0\n",
        "09feb20034red.fits"
       ]
      },
      {
       "output_type": "stream",
       "stream": "stdout",
       "text": [
        " 1\n",
        "09feb20035red.fits"
       ]
      },
      {
       "output_type": "stream",
       "stream": "stdout",
       "text": [
        " 1\n",
        "09feb20036red.fits"
       ]
      },
      {
       "output_type": "stream",
       "stream": "stdout",
       "text": [
        " 1\n",
        "09jan20026red.fits"
       ]
      },
      {
       "output_type": "stream",
       "stream": "stdout",
       "text": [
        " 0\n",
        "09jan20027red.fits"
       ]
      },
      {
       "output_type": "stream",
       "stream": "stdout",
       "text": [
        " 0\n",
        "09jan20030red.fits 1\n",
        "09jan20031red.fits"
       ]
      },
      {
       "output_type": "stream",
       "stream": "stdout",
       "text": [
        " 1\n",
        "09jan20032red.fits"
       ]
      },
      {
       "output_type": "stream",
       "stream": "stdout",
       "text": [
        " 1\n",
        "09jan20033red.fits"
       ]
      },
      {
       "output_type": "stream",
       "stream": "stdout",
       "text": [
        " 1\n",
        "09jan20036red.fits"
       ]
      },
      {
       "output_type": "stream",
       "stream": "stdout",
       "text": [
        " 0\n",
        "09jan20045red.fits"
       ]
      },
      {
       "output_type": "stream",
       "stream": "stdout",
       "text": [
        " 0\n",
        "09jan20048red.fits"
       ]
      },
      {
       "output_type": "stream",
       "stream": "stdout",
       "text": [
        " 1\n",
        "09jan20049red.fits"
       ]
      },
      {
       "output_type": "stream",
       "stream": "stdout",
       "text": [
        " 1\n",
        "09jan20050red.fits"
       ]
      },
      {
       "output_type": "stream",
       "stream": "stdout",
       "text": [
        " 1\n",
        "10feb20027red.fits"
       ]
      },
      {
       "output_type": "stream",
       "stream": "stdout",
       "text": [
        " 0\n",
        "10feb20028red.fits"
       ]
      },
      {
       "output_type": "stream",
       "stream": "stdout",
       "text": [
        " 0\n",
        "10feb20029red.fits"
       ]
      },
      {
       "output_type": "stream",
       "stream": "stdout",
       "text": [
        " 0\n",
        "10feb20030red.fits"
       ]
      },
      {
       "output_type": "stream",
       "stream": "stdout",
       "text": [
        " 0\n",
        "10feb20031red.fits 0\n",
        "10feb20032red.fits"
       ]
      },
      {
       "output_type": "stream",
       "stream": "stdout",
       "text": [
        " 0\n",
        "10feb20033red.fits 0\n",
        "11feb20013red.fits"
       ]
      },
      {
       "output_type": "stream",
       "stream": "stdout",
       "text": [
        " 0\n",
        "11feb20014red.fits 0\n",
        "11feb20015red.fits"
       ]
      },
      {
       "output_type": "stream",
       "stream": "stdout",
       "text": [
        " 0\n",
        "11feb20016red.fits"
       ]
      },
      {
       "output_type": "stream",
       "stream": "stdout",
       "text": [
        " 0\n",
        "11feb20017red.fits 0\n",
        "11feb20018red.fits"
       ]
      },
      {
       "output_type": "stream",
       "stream": "stdout",
       "text": [
        " 0\n",
        "11feb20021red.fits"
       ]
      },
      {
       "output_type": "stream",
       "stream": "stdout",
       "text": [
        " 1\n",
        "11feb20022red.fits"
       ]
      },
      {
       "output_type": "stream",
       "stream": "stdout",
       "text": [
        " 1\n",
        "11feb20023red.fits"
       ]
      },
      {
       "output_type": "stream",
       "stream": "stdout",
       "text": [
        " 1\n",
        "11feb20024red.fits"
       ]
      },
      {
       "output_type": "stream",
       "stream": "stdout",
       "text": [
        " 1\n",
        "11feb20025red.fits"
       ]
      },
      {
       "output_type": "stream",
       "stream": "stdout",
       "text": [
        " 1\n",
        "11feb20026red.fits"
       ]
      },
      {
       "output_type": "stream",
       "stream": "stdout",
       "text": [
        " 1\n",
        "11jan20028red.fits"
       ]
      },
      {
       "output_type": "stream",
       "stream": "stdout",
       "text": [
        " 0\n",
        "11jan20029red.fits 0\n",
        "11jan20030red.fits"
       ]
      },
      {
       "output_type": "stream",
       "stream": "stdout",
       "text": [
        " 0\n",
        "11jan20033red.fits 0\n",
        "11jan20034red.fits"
       ]
      },
      {
       "output_type": "stream",
       "stream": "stdout",
       "text": [
        " 0\n",
        "11jan20035red.fits 0\n",
        "11jan20038red.fits"
       ]
      },
      {
       "output_type": "stream",
       "stream": "stdout",
       "text": [
        " 0\n",
        "11jan20039red.fits"
       ]
      },
      {
       "output_type": "stream",
       "stream": "stdout",
       "text": [
        " 0\n",
        "11jan20040red.fits 0\n",
        "12jan20030red.fits"
       ]
      },
      {
       "output_type": "stream",
       "stream": "stdout",
       "text": [
        " 0\n",
        "12jan20031red.fits"
       ]
      },
      {
       "output_type": "stream",
       "stream": "stdout",
       "text": [
        " 0\n",
        "12jan20032red.fits"
       ]
      },
      {
       "output_type": "stream",
       "stream": "stdout",
       "text": [
        " 0\n",
        "17dec20039red.fits 0\n",
        "17dec20040red.fits"
       ]
      },
      {
       "output_type": "stream",
       "stream": "stdout",
       "text": [
        " 0\n",
        "17dec20041red.fits 0\n",
        "17dec20044red.fits"
       ]
      },
      {
       "output_type": "stream",
       "stream": "stdout",
       "text": [
        " 1\n",
        "17dec20045red.fits"
       ]
      },
      {
       "output_type": "stream",
       "stream": "stdout",
       "text": [
        " 1\n",
        "17dec20046red.fits"
       ]
      },
      {
       "output_type": "stream",
       "stream": "stdout",
       "text": [
        " 1\n",
        "18dec20030red.fits"
       ]
      },
      {
       "output_type": "stream",
       "stream": "stdout",
       "text": [
        " 0\n",
        "18dec20031red.fits 0\n",
        "18dec20032red.fits"
       ]
      },
      {
       "output_type": "stream",
       "stream": "stdout",
       "text": [
        " 0\n",
        "18dec20033red.fits"
       ]
      },
      {
       "output_type": "stream",
       "stream": "stdout",
       "text": [
        " 0\n",
        "Procesing RV  0\n",
        "RV"
       ]
      },
      {
       "output_type": "stream",
       "stream": "stdout",
       "text": [
        " 0.0\n",
        "Procesing RV  1\n",
        "RV 0.0\n",
        "Procesing RV  2\n",
        "RV 0.0\n",
        "Procesing RV  3\n",
        "RV"
       ]
      },
      {
       "output_type": "stream",
       "stream": "stdout",
       "text": [
        " 11381.2379463\n",
        "Procesing RV  4\n",
        "RV 11381.2379463\n",
        "Procesing RV  5\n",
        "RV 11381.2379463\n",
        "Procesing RV  6\n",
        "RV"
       ]
      },
      {
       "output_type": "stream",
       "stream": "stdout",
       "text": [
        " 11381.2379463\n",
        "Procesing RV  7\n",
        "RV -2845.30948655\n",
        "Procesing RV  8\n",
        "RV -2845.30948655\n",
        "Procesing RV  9\n",
        "RV"
       ]
      },
      {
       "output_type": "stream",
       "stream": "stdout",
       "text": [
        " -2845.30948655\n",
        "Procesing RV  10\n",
        "RV -2845.30948655\n",
        "Procesing RV  11\n",
        "RV -2845.30948655\n",
        "Procesing RV  12\n",
        "RV"
       ]
      },
      {
       "output_type": "stream",
       "stream": "stdout",
       "text": [
        " -2845.30948655\n",
        "Procesing RV  13\n",
        "RV 14226.5474328\n",
        "Procesing RV  14\n",
        "RV 11381.2379463\n",
        "Procesing RV  15\n",
        "RV"
       ]
      },
      {
       "output_type": "stream",
       "stream": "stdout",
       "text": [
        " 11381.2379463\n",
        "Procesing RV  16\n",
        "RV 11381.2379463\n",
        "Procesing RV  17\n",
        "empty after removing zeros\n",
        "RV 0\n",
        "Procesing RV  18\n",
        "empty after removing zeros"
       ]
      },
      {
       "output_type": "stream",
       "stream": "stdout",
       "text": [
        "\n",
        "RV 0\n",
        "Procesing RV  19\n",
        "empty after removing zeros\n",
        "RV 0\n",
        "Procesing RV  20\n",
        "RV -2845.28248222\n",
        "Procesing RV  21\n",
        "RV"
       ]
      },
      {
       "output_type": "stream",
       "stream": "stdout",
       "text": [
        " -2845.28248222\n",
        "Procesing RV  22\n",
        "RV -2845.28248222\n",
        "Procesing RV  23\n",
        "RV -5690.56496439\n",
        "Procesing RV  24\n",
        "RV"
       ]
      },
      {
       "output_type": "stream",
       "stream": "stdout",
       "text": [
        " -5690.56496439\n",
        "Procesing RV  25\n",
        "RV -5690.56496439\n",
        "Procesing RV  26\n",
        "RV 19917.166406\n",
        "Procesing RV  27\n",
        "RV"
       ]
      },
      {
       "output_type": "stream",
       "stream": "stdout",
       "text": [
        " 19917.166406\n",
        "Procesing RV  28\n",
        "RV 19917.166406\n",
        "07feb30022red.fits"
       ]
      },
      {
       "output_type": "stream",
       "stream": "stdout",
       "text": [
        " 1\n",
        "07feb30023red.fits"
       ]
      },
      {
       "output_type": "stream",
       "stream": "stdout",
       "text": [
        " 1\n",
        "07feb30024red.fits"
       ]
      },
      {
       "output_type": "stream",
       "stream": "stdout",
       "text": [
        " 1\n",
        "07feb30027red.fits"
       ]
      },
      {
       "output_type": "stream",
       "stream": "stdout",
       "text": [
        " 0\n",
        "07feb30028red.fits"
       ]
      },
      {
       "output_type": "stream",
       "stream": "stdout",
       "text": [
        " 0\n",
        "07feb30029red.fits"
       ]
      },
      {
       "output_type": "stream",
       "stream": "stdout",
       "text": [
        " 0\n",
        "07feb30030red.fits"
       ]
      },
      {
       "output_type": "stream",
       "stream": "stdout",
       "text": [
        " 0\n",
        "07feb30031red.fits"
       ]
      },
      {
       "output_type": "stream",
       "stream": "stdout",
       "text": [
        " 0\n",
        "07feb30032red.fits"
       ]
      },
      {
       "output_type": "stream",
       "stream": "stdout",
       "text": [
        " 0\n",
        "07jan30049red.fits"
       ]
      },
      {
       "output_type": "stream",
       "stream": "stdout",
       "text": [
        " 0\n",
        "07jan30050red.fits"
       ]
      },
      {
       "output_type": "stream",
       "stream": "stdout",
       "text": [
        " 0\n",
        "07jan30051red.fits 0\n",
        "07jan30054red.fits"
       ]
      },
      {
       "output_type": "stream",
       "stream": "stdout",
       "text": [
        " 1\n",
        "07jan30055red.fits"
       ]
      },
      {
       "output_type": "stream",
       "stream": "stdout",
       "text": [
        " 1\n",
        "07jan30056red.fits"
       ]
      },
      {
       "output_type": "stream",
       "stream": "stdout",
       "text": [
        " 1\n",
        "07jan30059red.fits"
       ]
      },
      {
       "output_type": "stream",
       "stream": "stdout",
       "text": [
        " 0\n",
        "07jan30060red.fits"
       ]
      },
      {
       "output_type": "stream",
       "stream": "stdout",
       "text": [
        " 0\n",
        "07jan30061red.fits 0\n",
        "07jan30064red.fits"
       ]
      },
      {
       "output_type": "stream",
       "stream": "stdout",
       "text": [
        " 1\n",
        "08feb30027red.fits"
       ]
      },
      {
       "output_type": "stream",
       "stream": "stdout",
       "text": [
        " 1\n",
        "08feb30028red.fits"
       ]
      },
      {
       "output_type": "stream",
       "stream": "stdout",
       "text": [
        " 1\n",
        "08feb30029red.fits"
       ]
      },
      {
       "output_type": "stream",
       "stream": "stdout",
       "text": [
        " 1\n",
        "08feb30032red.fits"
       ]
      },
      {
       "output_type": "stream",
       "stream": "stdout",
       "text": [
        " 0\n",
        "08feb30033red.fits 0\n",
        "08feb30034red.fits"
       ]
      },
      {
       "output_type": "stream",
       "stream": "stdout",
       "text": [
        " 0\n",
        "08feb30035red.fits 0\n",
        "08feb30036red.fits"
       ]
      },
      {
       "output_type": "stream",
       "stream": "stdout",
       "text": [
        " 0\n",
        "08feb30037red.fits 0\n",
        "09feb30029red.fits"
       ]
      },
      {
       "output_type": "stream",
       "stream": "stdout",
       "text": [
        " 0\n",
        "09feb30030red.fits"
       ]
      },
      {
       "output_type": "stream",
       "stream": "stdout",
       "text": [
        " 0\n",
        "09feb30031red.fits 0\n",
        "09feb30034red.fits"
       ]
      },
      {
       "output_type": "stream",
       "stream": "stdout",
       "text": [
        " 1\n",
        "09feb30035red.fits"
       ]
      },
      {
       "output_type": "stream",
       "stream": "stdout",
       "text": [
        " 1\n",
        "09feb30036red.fits"
       ]
      },
      {
       "output_type": "stream",
       "stream": "stdout",
       "text": [
        " 1\n",
        "09jan30026red.fits"
       ]
      },
      {
       "output_type": "stream",
       "stream": "stdout",
       "text": [
        " 0\n",
        "09jan30027red.fits 0\n",
        "09jan30030red.fits"
       ]
      },
      {
       "output_type": "stream",
       "stream": "stdout",
       "text": [
        " 1\n",
        "09jan30031red.fits"
       ]
      },
      {
       "output_type": "stream",
       "stream": "stdout",
       "text": [
        " 1\n",
        "09jan30032red.fits"
       ]
      },
      {
       "output_type": "stream",
       "stream": "stdout",
       "text": [
        " 1\n",
        "09jan30033red.fits"
       ]
      },
      {
       "output_type": "stream",
       "stream": "stdout",
       "text": [
        " 1\n",
        "09jan30036red.fits"
       ]
      },
      {
       "output_type": "stream",
       "stream": "stdout",
       "text": [
        " 0\n",
        "09jan30045red.fits"
       ]
      },
      {
       "output_type": "stream",
       "stream": "stdout",
       "text": [
        " 0\n",
        "09jan30048red.fits"
       ]
      },
      {
       "output_type": "stream",
       "stream": "stdout",
       "text": [
        " 1\n",
        "09jan30049red.fits"
       ]
      },
      {
       "output_type": "stream",
       "stream": "stdout",
       "text": [
        " 1\n",
        "09jan30050red.fits"
       ]
      },
      {
       "output_type": "stream",
       "stream": "stdout",
       "text": [
        " 1\n",
        "10feb30027red.fits"
       ]
      },
      {
       "output_type": "stream",
       "stream": "stdout",
       "text": [
        " 0\n",
        "10feb30028red.fits"
       ]
      },
      {
       "output_type": "stream",
       "stream": "stdout",
       "text": [
        " 0\n",
        "10feb30029red.fits"
       ]
      },
      {
       "output_type": "stream",
       "stream": "stdout",
       "text": [
        " 0\n",
        "10feb30030red.fits"
       ]
      },
      {
       "output_type": "stream",
       "stream": "stdout",
       "text": [
        " 0\n",
        "10feb30031red.fits"
       ]
      },
      {
       "output_type": "stream",
       "stream": "stdout",
       "text": [
        " 0\n",
        "10feb30032red.fits"
       ]
      },
      {
       "output_type": "stream",
       "stream": "stdout",
       "text": [
        " 0\n",
        "10feb30033red.fits"
       ]
      },
      {
       "output_type": "stream",
       "stream": "stdout",
       "text": [
        " 0\n",
        "11feb30013red.fits"
       ]
      },
      {
       "output_type": "stream",
       "stream": "stdout",
       "text": [
        " 0\n",
        "11feb30014red.fits"
       ]
      },
      {
       "output_type": "stream",
       "stream": "stdout",
       "text": [
        " 0\n",
        "11feb30015red.fits"
       ]
      },
      {
       "output_type": "stream",
       "stream": "stdout",
       "text": [
        " 0\n",
        "11feb30016red.fits"
       ]
      },
      {
       "output_type": "stream",
       "stream": "stdout",
       "text": [
        " 0\n",
        "11feb30017red.fits"
       ]
      },
      {
       "output_type": "stream",
       "stream": "stdout",
       "text": [
        " 0\n",
        "11feb30018red.fits"
       ]
      },
      {
       "output_type": "stream",
       "stream": "stdout",
       "text": [
        " 0\n",
        "11feb30021red.fits"
       ]
      },
      {
       "output_type": "stream",
       "stream": "stdout",
       "text": [
        " 1\n",
        "11feb30022red.fits"
       ]
      },
      {
       "output_type": "stream",
       "stream": "stdout",
       "text": [
        " 1\n",
        "11feb30023red.fits"
       ]
      },
      {
       "output_type": "stream",
       "stream": "stdout",
       "text": [
        " 1\n",
        "11feb30024red.fits"
       ]
      },
      {
       "output_type": "stream",
       "stream": "stdout",
       "text": [
        " 1\n",
        "11feb30025red.fits"
       ]
      },
      {
       "output_type": "stream",
       "stream": "stdout",
       "text": [
        " 1\n",
        "11feb30026red.fits"
       ]
      },
      {
       "output_type": "stream",
       "stream": "stdout",
       "text": [
        " 1\n",
        "11jan30028red.fits"
       ]
      },
      {
       "output_type": "stream",
       "stream": "stdout",
       "text": [
        " 0\n",
        "11jan30029red.fits"
       ]
      },
      {
       "output_type": "stream",
       "stream": "stdout",
       "text": [
        " 0\n",
        "11jan30030red.fits"
       ]
      },
      {
       "output_type": "stream",
       "stream": "stdout",
       "text": [
        " 0\n",
        "11jan30033red.fits"
       ]
      },
      {
       "output_type": "stream",
       "stream": "stdout",
       "text": [
        " 0\n",
        "11jan30034red.fits"
       ]
      },
      {
       "output_type": "stream",
       "stream": "stdout",
       "text": [
        " 0\n",
        "11jan30035red.fits"
       ]
      },
      {
       "output_type": "stream",
       "stream": "stdout",
       "text": [
        " 0\n",
        "11jan30038red.fits"
       ]
      },
      {
       "output_type": "stream",
       "stream": "stdout",
       "text": [
        " 0\n",
        "11jan30039red.fits"
       ]
      },
      {
       "output_type": "stream",
       "stream": "stdout",
       "text": [
        " 0\n",
        "11jan30040red.fits"
       ]
      },
      {
       "output_type": "stream",
       "stream": "stdout",
       "text": [
        " 0\n",
        "12jan30030red.fits 0\n",
        "12jan30031red.fits"
       ]
      },
      {
       "output_type": "stream",
       "stream": "stdout",
       "text": [
        " 0\n",
        "12jan30032red.fits 0\n",
        "17dec30039red.fits"
       ]
      },
      {
       "output_type": "stream",
       "stream": "stdout",
       "text": [
        " 0\n",
        "17dec30040red.fits 0\n",
        "17dec30041red.fits"
       ]
      },
      {
       "output_type": "stream",
       "stream": "stdout",
       "text": [
        " 0\n",
        "17dec30044red.fits"
       ]
      },
      {
       "output_type": "stream",
       "stream": "stdout",
       "text": [
        " 1\n",
        "17dec30045red.fits"
       ]
      },
      {
       "output_type": "stream",
       "stream": "stdout",
       "text": [
        " 1\n",
        "17dec30046red.fits"
       ]
      },
      {
       "output_type": "stream",
       "stream": "stdout",
       "text": [
        " 1\n",
        "18dec30030red.fits"
       ]
      },
      {
       "output_type": "stream",
       "stream": "stdout",
       "text": [
        " 0\n",
        "18dec30031red.fits"
       ]
      },
      {
       "output_type": "stream",
       "stream": "stdout",
       "text": [
        " 0\n",
        "18dec30032red.fits 0\n",
        "18dec30033red.fits"
       ]
      },
      {
       "output_type": "stream",
       "stream": "stdout",
       "text": [
        " 0\n",
        "Procesing RV "
       ]
      },
      {
       "output_type": "stream",
       "stream": "stdout",
       "text": [
        " 0\n",
        "RV 0.0\n",
        "Procesing RV  1\n",
        "RV"
       ]
      },
      {
       "output_type": "stream",
       "stream": "stdout",
       "text": [
        " 0.0\n",
        "Procesing RV  2\n",
        "RV 0.0\n",
        "Procesing RV  3\n",
        "RV 93908.9753668\n",
        "Procesing RV  4\n",
        "RV"
       ]
      },
      {
       "output_type": "stream",
       "stream": "stdout",
       "text": [
        " 93908.9753668\n",
        "Procesing RV  5\n",
        "RV 93908.9753668\n",
        "Procesing RV  6\n",
        "RV 91063.2488406\n",
        "Procesing RV  7\n",
        "RV"
       ]
      },
      {
       "output_type": "stream",
       "stream": "stdout",
       "text": [
        " 76834.6162092\n",
        "Procesing RV  8\n",
        "RV 76834.6162092\n",
        "Procesing RV  9\n",
        "RV 76834.6162092\n",
        "Procesing RV  10\n",
        "RV"
       ]
      },
      {
       "output_type": "stream",
       "stream": "stdout",
       "text": [
        " -17086.0365611\n",
        "Procesing RV  11\n",
        "RV -17086.0365611\n",
        "Procesing RV  12\n",
        "RV -17086.0365611\n",
        "Procesing RV  13\n",
        "RV"
       ]
      },
      {
       "output_type": "stream",
       "stream": "stdout",
       "text": [
        " 93908.9753668\n",
        "Procesing RV  14\n",
        "RV 93908.9753668\n",
        "Procesing RV  15\n",
        "RV 91063.2488406\n",
        "Procesing RV  16\n",
        "RV"
       ]
      },
      {
       "output_type": "stream",
       "stream": "stdout",
       "text": [
        " 93908.9753668\n",
        "Procesing RV  17\n",
        "empty after removing zeros\n",
        "RV 0\n",
        "Procesing RV  18\n",
        "empty after removing zeros"
       ]
      },
      {
       "output_type": "stream",
       "stream": "stdout",
       "text": [
        "\n",
        "RV 0\n",
        "Procesing RV  19\n",
        "empty after removing zeros\n",
        "RV 0\n",
        "Procesing RV  20\n",
        "RV"
       ]
      },
      {
       "output_type": "stream",
       "stream": "stdout",
       "text": [
        " 76834.6162092\n",
        "Procesing RV  21\n",
        "RV 76834.6162092\n",
        "Procesing RV  22\n",
        "RV 76834.6162092\n",
        "Procesing RV  23\n",
        "RV"
       ]
      },
      {
       "output_type": "stream",
       "stream": "stdout",
       "text": [
        " 76834.6162092\n",
        "Procesing RV  24\n",
        "RV 76834.6162092\n",
        "Procesing RV  25\n",
        "RV 76834.6162092\n",
        "Procesing RV  26\n",
        "RV"
       ]
      },
      {
       "output_type": "stream",
       "stream": "stdout",
       "text": [
        " 102446.154946\n",
        "Procesing RV  27\n",
        "RV 102446.154946\n",
        "Procesing RV  28\n",
        "RV 102446.154946\n",
        "07feb40022red.fits"
       ]
      },
      {
       "output_type": "stream",
       "stream": "stdout",
       "text": [
        " 1\n",
        "07feb40023red.fits"
       ]
      },
      {
       "output_type": "stream",
       "stream": "stdout",
       "text": [
        " 1\n",
        "07feb40024red.fits"
       ]
      },
      {
       "output_type": "stream",
       "stream": "stdout",
       "text": [
        " 1\n",
        "07feb40027red.fits"
       ]
      },
      {
       "output_type": "stream",
       "stream": "stdout",
       "text": [
        " 0\n",
        "07feb40028red.fits"
       ]
      },
      {
       "output_type": "stream",
       "stream": "stdout",
       "text": [
        " 0\n",
        "07feb40029red.fits"
       ]
      },
      {
       "output_type": "stream",
       "stream": "stdout",
       "text": [
        " 0\n",
        "07feb40030red.fits 0\n",
        "07feb40031red.fits"
       ]
      },
      {
       "output_type": "stream",
       "stream": "stdout",
       "text": [
        " 0\n",
        "07feb40032red.fits 0\n",
        "07jan40049red.fits"
       ]
      },
      {
       "output_type": "stream",
       "stream": "stdout",
       "text": [
        " 0\n",
        "07jan40050red.fits"
       ]
      },
      {
       "output_type": "stream",
       "stream": "stdout",
       "text": [
        " 0\n",
        "07jan40051red.fits 0\n",
        "07jan40054red.fits"
       ]
      },
      {
       "output_type": "stream",
       "stream": "stdout",
       "text": [
        " 1\n",
        "07jan40055red.fits"
       ]
      },
      {
       "output_type": "stream",
       "stream": "stdout",
       "text": [
        " 1\n",
        "07jan40056red.fits"
       ]
      },
      {
       "output_type": "stream",
       "stream": "stdout",
       "text": [
        " 1\n",
        "07jan40059red.fits"
       ]
      },
      {
       "output_type": "stream",
       "stream": "stdout",
       "text": [
        " 0\n",
        "07jan40060red.fits 0\n",
        "07jan40061red.fits"
       ]
      },
      {
       "output_type": "stream",
       "stream": "stdout",
       "text": [
        " 0\n",
        "07jan40064red.fits 1\n",
        "08feb40027red.fits"
       ]
      },
      {
       "output_type": "stream",
       "stream": "stdout",
       "text": [
        " 1\n",
        "08feb40028red.fits"
       ]
      },
      {
       "output_type": "stream",
       "stream": "stdout",
       "text": [
        " 1\n",
        "08feb40029red.fits"
       ]
      },
      {
       "output_type": "stream",
       "stream": "stdout",
       "text": [
        " 1\n",
        "08feb40032red.fits"
       ]
      },
      {
       "output_type": "stream",
       "stream": "stdout",
       "text": [
        " 0\n",
        "08feb40033red.fits 0\n",
        "08feb40034red.fits"
       ]
      },
      {
       "output_type": "stream",
       "stream": "stdout",
       "text": [
        " 0\n",
        "08feb40035red.fits"
       ]
      },
      {
       "output_type": "stream",
       "stream": "stdout",
       "text": [
        " 0\n",
        "08feb40036red.fits 0\n",
        "08feb40037red.fits"
       ]
      },
      {
       "output_type": "stream",
       "stream": "stdout",
       "text": [
        " 0\n",
        "09feb40029red.fits"
       ]
      },
      {
       "output_type": "stream",
       "stream": "stdout",
       "text": [
        " 0\n",
        "09feb40030red.fits 0\n",
        "09feb40031red.fits"
       ]
      },
      {
       "output_type": "stream",
       "stream": "stdout",
       "text": [
        " 0\n",
        "09feb40034red.fits 1\n",
        "09feb40035red.fits"
       ]
      },
      {
       "output_type": "stream",
       "stream": "stdout",
       "text": [
        " 1\n",
        "09feb40036red.fits"
       ]
      },
      {
       "output_type": "stream",
       "stream": "stdout",
       "text": [
        " 1\n",
        "09jan40026red.fits"
       ]
      },
      {
       "output_type": "stream",
       "stream": "stdout",
       "text": [
        " 0\n",
        "09jan40027red.fits 0\n",
        "09jan40030red.fits"
       ]
      },
      {
       "output_type": "stream",
       "stream": "stdout",
       "text": [
        " 1\n",
        "09jan40031red.fits"
       ]
      },
      {
       "output_type": "stream",
       "stream": "stdout",
       "text": [
        " 1\n",
        "09jan40032red.fits"
       ]
      },
      {
       "output_type": "stream",
       "stream": "stdout",
       "text": [
        " 1\n",
        "09jan40033red.fits"
       ]
      },
      {
       "output_type": "stream",
       "stream": "stdout",
       "text": [
        " 1\n",
        "09jan40036red.fits"
       ]
      },
      {
       "output_type": "stream",
       "stream": "stdout",
       "text": [
        " 0\n",
        "09jan40045red.fits"
       ]
      },
      {
       "output_type": "stream",
       "stream": "stdout",
       "text": [
        " 0\n",
        "09jan40048red.fits"
       ]
      },
      {
       "output_type": "stream",
       "stream": "stdout",
       "text": [
        " 1\n",
        "09jan40049red.fits"
       ]
      },
      {
       "output_type": "stream",
       "stream": "stdout",
       "text": [
        " 1\n",
        "09jan40050red.fits"
       ]
      },
      {
       "output_type": "stream",
       "stream": "stdout",
       "text": [
        " 1\n",
        "10feb40027red.fits"
       ]
      },
      {
       "output_type": "stream",
       "stream": "stdout",
       "text": [
        " 0\n",
        "10feb40028red.fits 0\n",
        "10feb40029red.fits"
       ]
      },
      {
       "output_type": "stream",
       "stream": "stdout",
       "text": [
        " 0\n",
        "10feb40030red.fits"
       ]
      },
      {
       "output_type": "stream",
       "stream": "stdout",
       "text": [
        " 0\n",
        "10feb40031red.fits"
       ]
      },
      {
       "output_type": "stream",
       "stream": "stdout",
       "text": [
        " 0\n",
        "10feb40032red.fits"
       ]
      },
      {
       "output_type": "stream",
       "stream": "stdout",
       "text": [
        " 0\n",
        "10feb40033red.fits 0\n",
        "11feb40013red.fits"
       ]
      },
      {
       "output_type": "stream",
       "stream": "stdout",
       "text": [
        " 0\n",
        "11feb40014red.fits"
       ]
      },
      {
       "output_type": "stream",
       "stream": "stdout",
       "text": [
        " 0\n",
        "11feb40015red.fits 0\n",
        "11feb40016red.fits"
       ]
      },
      {
       "output_type": "stream",
       "stream": "stdout",
       "text": [
        " 0\n",
        "11feb40017red.fits 0\n",
        "11feb40018red.fits"
       ]
      },
      {
       "output_type": "stream",
       "stream": "stdout",
       "text": [
        " 0\n",
        "11feb40021red.fits 1\n",
        "11feb40022red.fits"
       ]
      },
      {
       "output_type": "stream",
       "stream": "stdout",
       "text": [
        " 1\n",
        "11feb40023red.fits"
       ]
      },
      {
       "output_type": "stream",
       "stream": "stdout",
       "text": [
        " 1\n",
        "11feb40024red.fits"
       ]
      },
      {
       "output_type": "stream",
       "stream": "stdout",
       "text": [
        " 1\n",
        "11feb40025red.fits"
       ]
      },
      {
       "output_type": "stream",
       "stream": "stdout",
       "text": [
        " 1\n",
        "11feb40026red.fits"
       ]
      },
      {
       "output_type": "stream",
       "stream": "stdout",
       "text": [
        " 1\n",
        "11jan40028red.fits"
       ]
      },
      {
       "output_type": "stream",
       "stream": "stdout",
       "text": [
        " 0\n",
        "11jan40029red.fits"
       ]
      },
      {
       "output_type": "stream",
       "stream": "stdout",
       "text": [
        " 0\n",
        "11jan40030red.fits"
       ]
      },
      {
       "output_type": "stream",
       "stream": "stdout",
       "text": [
        " 0\n",
        "11jan40033red.fits"
       ]
      },
      {
       "output_type": "stream",
       "stream": "stdout",
       "text": [
        " 0\n",
        "11jan40034red.fits"
       ]
      },
      {
       "output_type": "stream",
       "stream": "stdout",
       "text": [
        " 0\n",
        "11jan40035red.fits"
       ]
      },
      {
       "output_type": "stream",
       "stream": "stdout",
       "text": [
        " 0\n",
        "11jan40038red.fits"
       ]
      },
      {
       "output_type": "stream",
       "stream": "stdout",
       "text": [
        " 0\n",
        "11jan40039red.fits"
       ]
      },
      {
       "output_type": "stream",
       "stream": "stdout",
       "text": [
        " 0\n",
        "11jan40040red.fits"
       ]
      },
      {
       "output_type": "stream",
       "stream": "stdout",
       "text": [
        " 0\n",
        "12jan40030red.fits"
       ]
      },
      {
       "output_type": "stream",
       "stream": "stdout",
       "text": [
        " 0\n",
        "12jan40031red.fits"
       ]
      },
      {
       "output_type": "stream",
       "stream": "stdout",
       "text": [
        " 0\n",
        "12jan40032red.fits"
       ]
      },
      {
       "output_type": "stream",
       "stream": "stdout",
       "text": [
        " 0\n",
        "17dec40039red.fits 0\n",
        "17dec40040red.fits"
       ]
      },
      {
       "output_type": "stream",
       "stream": "stdout",
       "text": [
        " 0\n",
        "17dec40041red.fits"
       ]
      },
      {
       "output_type": "stream",
       "stream": "stdout",
       "text": [
        " 0\n",
        "17dec40044red.fits"
       ]
      },
      {
       "output_type": "stream",
       "stream": "stdout",
       "text": [
        " 1\n",
        "17dec40045red.fits"
       ]
      },
      {
       "output_type": "stream",
       "stream": "stdout",
       "text": [
        " 1\n",
        "17dec40046red.fits"
       ]
      },
      {
       "output_type": "stream",
       "stream": "stdout",
       "text": [
        " 1\n",
        "18dec40030red.fits"
       ]
      },
      {
       "output_type": "stream",
       "stream": "stdout",
       "text": [
        " 0\n",
        "18dec40031red.fits 0\n",
        "18dec40032red.fits"
       ]
      },
      {
       "output_type": "stream",
       "stream": "stdout",
       "text": [
        " 0\n",
        "18dec40033red.fits 0\n",
        "Procesing RV "
       ]
      },
      {
       "output_type": "stream",
       "stream": "stdout",
       "text": [
        " 0\n",
        "RV 0.0\n",
        "Procesing RV  1\n",
        "RV 0.0\n",
        "Procesing RV  2\n",
        "RV"
       ]
      },
      {
       "output_type": "stream",
       "stream": "stdout",
       "text": [
        " 0.0\n",
        "Procesing RV  3\n",
        "RV 0.0\n",
        "Procesing RV  4\n",
        "RV 0.0\n",
        "Procesing RV  5\n",
        "RV"
       ]
      },
      {
       "output_type": "stream",
       "stream": "stdout",
       "text": [
        " 0.0\n",
        "Procesing RV  6\n",
        "RV 0.0\n",
        "Procesing RV  7\n",
        "RV 0.0\n",
        "Procesing RV  8\n",
        "RV"
       ]
      },
      {
       "output_type": "stream",
       "stream": "stdout",
       "text": [
        " 0.0\n",
        "Procesing RV  9\n",
        "RV 0.0\n",
        "Procesing RV  10\n",
        "RV 0.0\n",
        "Procesing RV  11\n",
        "RV"
       ]
      },
      {
       "output_type": "stream",
       "stream": "stdout",
       "text": [
        " 0.0\n",
        "Procesing RV  12\n",
        "RV 0.0\n",
        "Procesing RV  13\n",
        "RV 0.0\n",
        "Procesing RV  14\n",
        "RV"
       ]
      },
      {
       "output_type": "stream",
       "stream": "stdout",
       "text": [
        " 0.0\n",
        "Procesing RV  15\n",
        "RV 0.0\n",
        "Procesing RV  16\n",
        "RV 0.0\n",
        "Procesing RV  17\n",
        "RV"
       ]
      },
      {
       "output_type": "stream",
       "stream": "stdout",
       "text": [
        " -145388.16258\n",
        "Procesing RV  18\n",
        "RV -142537.414294\n",
        "Procesing RV  19\n",
        "RV -142537.414294\n",
        "Procesing RV  20\n",
        "RV"
       ]
      },
      {
       "output_type": "stream",
       "stream": "stdout",
       "text": [
        " -2851.72450707\n",
        "Procesing RV  21\n",
        "RV -2851.72450707\n",
        "Procesing RV  22\n",
        "RV -2851.72450707\n",
        "Procesing RV  23\n",
        "RV"
       ]
      },
      {
       "output_type": "stream",
       "stream": "stdout",
       "text": [
        " -2851.72450707\n",
        "Procesing RV  24\n",
        "RV -2851.72450707\n",
        "Procesing RV  25\n",
        "RV -2851.72450707\n",
        "Procesing RV  26\n",
        "RV"
       ]
      },
      {
       "output_type": "stream",
       "stream": "stdout",
       "text": [
        " 0.0\n",
        "Procesing RV  27\n",
        "RV 0.0\n",
        "Procesing RV  28\n",
        "RV 0.0\n",
        "M67-F-81"
       ]
      },
      {
       "output_type": "stream",
       "stream": "stdout",
       "text": [
        "\n",
        "07feb10022red.fits"
       ]
      },
      {
       "output_type": "stream",
       "stream": "stdout",
       "text": [
        " 1\n",
        "07feb10023red.fits"
       ]
      },
      {
       "output_type": "stream",
       "stream": "stdout",
       "text": [
        " 1\n",
        "07feb10024red.fits"
       ]
      },
      {
       "output_type": "stream",
       "stream": "stdout",
       "text": [
        " 1\n",
        "07feb10027red.fits"
       ]
      },
      {
       "output_type": "stream",
       "stream": "stdout",
       "text": [
        " 0\n",
        "07feb10028red.fits 0\n",
        "07feb10029red.fits"
       ]
      },
      {
       "output_type": "stream",
       "stream": "stdout",
       "text": [
        " 0\n",
        "07feb10030red.fits 0\n",
        "07feb10031red.fits"
       ]
      },
      {
       "output_type": "stream",
       "stream": "stdout",
       "text": [
        " 0\n",
        "07feb10032red.fits"
       ]
      },
      {
       "output_type": "stream",
       "stream": "stdout",
       "text": [
        " 0\n",
        "07jan10049red.fits"
       ]
      },
      {
       "output_type": "stream",
       "stream": "stdout",
       "text": [
        " 0\n",
        "07jan10050red.fits 0\n",
        "07jan10051red.fits"
       ]
      },
      {
       "output_type": "stream",
       "stream": "stdout",
       "text": [
        " 0\n",
        "07jan10054red.fits 0\n",
        "07jan10055red.fits"
       ]
      },
      {
       "output_type": "stream",
       "stream": "stdout",
       "text": [
        " 0\n",
        "07jan10056red.fits 0\n",
        "07jan10059red.fits"
       ]
      },
      {
       "output_type": "stream",
       "stream": "stdout",
       "text": [
        " 0\n",
        "07jan10060red.fits 0\n",
        "07jan10061red.fits"
       ]
      },
      {
       "output_type": "stream",
       "stream": "stdout",
       "text": [
        " 0\n",
        "07jan10064red.fits 0\n",
        "08feb10027red.fits"
       ]
      },
      {
       "output_type": "stream",
       "stream": "stdout",
       "text": [
        " 1\n",
        "08feb10028red.fits"
       ]
      },
      {
       "output_type": "stream",
       "stream": "stdout",
       "text": [
        " 1\n",
        "08feb10029red.fits"
       ]
      },
      {
       "output_type": "stream",
       "stream": "stdout",
       "text": [
        " 1\n",
        "08feb10032red.fits"
       ]
      },
      {
       "output_type": "stream",
       "stream": "stdout",
       "text": [
        " 0\n",
        "08feb10033red.fits 0\n",
        "08feb10034red.fits"
       ]
      },
      {
       "output_type": "stream",
       "stream": "stdout",
       "text": [
        " 0\n",
        "08feb10035red.fits"
       ]
      },
      {
       "output_type": "stream",
       "stream": "stdout",
       "text": [
        " 0\n",
        "08feb10036red.fits"
       ]
      },
      {
       "output_type": "stream",
       "stream": "stdout",
       "text": [
        " 0\n",
        "08feb10037red.fits 0\n",
        "09feb10029red.fits"
       ]
      },
      {
       "output_type": "stream",
       "stream": "stdout",
       "text": [
        " 0\n",
        "09feb10030red.fits 0\n",
        "09feb10031red.fits"
       ]
      },
      {
       "output_type": "stream",
       "stream": "stdout",
       "text": [
        " 0\n",
        "09feb10034red.fits"
       ]
      },
      {
       "output_type": "stream",
       "stream": "stdout",
       "text": [
        " 1\n",
        "09feb10035red.fits"
       ]
      },
      {
       "output_type": "stream",
       "stream": "stdout",
       "text": [
        " 1\n",
        "09feb10036red.fits"
       ]
      },
      {
       "output_type": "stream",
       "stream": "stdout",
       "text": [
        " 1\n",
        "09jan10026red.fits"
       ]
      },
      {
       "output_type": "stream",
       "stream": "stdout",
       "text": [
        " 0\n",
        "09jan10027red.fits 0\n",
        "09jan10030red.fits"
       ]
      },
      {
       "output_type": "stream",
       "stream": "stdout",
       "text": [
        " 0\n",
        "09jan10031red.fits 0\n",
        "09jan10032red.fits"
       ]
      },
      {
       "output_type": "stream",
       "stream": "stdout",
       "text": [
        " 0\n",
        "09jan10033red.fits 0\n",
        "09jan10036red.fits"
       ]
      },
      {
       "output_type": "stream",
       "stream": "stdout",
       "text": [
        " 0\n",
        "09jan10045red.fits 0\n",
        "09jan10048red.fits"
       ]
      },
      {
       "output_type": "stream",
       "stream": "stdout",
       "text": [
        " 0\n",
        "09jan10049red.fits 0\n",
        "09jan10050red.fits"
       ]
      },
      {
       "output_type": "stream",
       "stream": "stdout",
       "text": [
        " 0\n",
        "10feb10027red.fits 0\n",
        "10feb10028red.fits"
       ]
      },
      {
       "output_type": "stream",
       "stream": "stdout",
       "text": [
        " 0\n",
        "10feb10029red.fits 0\n",
        "10feb10030red.fits"
       ]
      },
      {
       "output_type": "stream",
       "stream": "stdout",
       "text": [
        " 0\n",
        "10feb10031red.fits"
       ]
      },
      {
       "output_type": "stream",
       "stream": "stdout",
       "text": [
        " 0\n",
        "10feb10032red.fits"
       ]
      },
      {
       "output_type": "stream",
       "stream": "stdout",
       "text": [
        " 0\n",
        "10feb10033red.fits"
       ]
      },
      {
       "output_type": "stream",
       "stream": "stdout",
       "text": [
        " 0\n",
        "11feb10013red.fits"
       ]
      },
      {
       "output_type": "stream",
       "stream": "stdout",
       "text": [
        " 0\n",
        "11feb10014red.fits 0\n",
        "11feb10015red.fits"
       ]
      },
      {
       "output_type": "stream",
       "stream": "stdout",
       "text": [
        " 0\n",
        "11feb10016red.fits 0\n",
        "11feb10017red.fits"
       ]
      },
      {
       "output_type": "stream",
       "stream": "stdout",
       "text": [
        " 0\n",
        "11feb10018red.fits 0\n",
        "11feb10021red.fits"
       ]
      },
      {
       "output_type": "stream",
       "stream": "stdout",
       "text": [
        " 1\n",
        "11feb10022red.fits"
       ]
      },
      {
       "output_type": "stream",
       "stream": "stdout",
       "text": [
        " 1\n",
        "11feb10023red.fits"
       ]
      },
      {
       "output_type": "stream",
       "stream": "stdout",
       "text": [
        " 1\n",
        "11feb10024red.fits"
       ]
      },
      {
       "output_type": "stream",
       "stream": "stdout",
       "text": [
        " 1\n",
        "11feb10025red.fits"
       ]
      },
      {
       "output_type": "stream",
       "stream": "stdout",
       "text": [
        " 1\n",
        "11feb10026red.fits"
       ]
      },
      {
       "output_type": "stream",
       "stream": "stdout",
       "text": [
        " 1\n",
        "11jan10028red.fits"
       ]
      },
      {
       "output_type": "stream",
       "stream": "stdout",
       "text": [
        " 0\n",
        "11jan10029red.fits 0\n",
        "11jan10030red.fits"
       ]
      },
      {
       "output_type": "stream",
       "stream": "stdout",
       "text": [
        " 0\n",
        "11jan10033red.fits 0\n",
        "11jan10034red.fits"
       ]
      },
      {
       "output_type": "stream",
       "stream": "stdout",
       "text": [
        " 0\n",
        "11jan10035red.fits 0\n",
        "11jan10038red.fits"
       ]
      },
      {
       "output_type": "stream",
       "stream": "stdout",
       "text": [
        " 0\n",
        "11jan10039red.fits 0\n",
        "11jan10040red.fits"
       ]
      },
      {
       "output_type": "stream",
       "stream": "stdout",
       "text": [
        " 0\n",
        "12jan10030red.fits 0\n",
        "12jan10031red.fits"
       ]
      },
      {
       "output_type": "stream",
       "stream": "stdout",
       "text": [
        " 0\n",
        "12jan10032red.fits 0\n",
        "17dec10039red.fits"
       ]
      },
      {
       "output_type": "stream",
       "stream": "stdout",
       "text": [
        " 0\n",
        "17dec10040red.fits 0\n",
        "17dec10041red.fits"
       ]
      },
      {
       "output_type": "stream",
       "stream": "stdout",
       "text": [
        " 0\n",
        "17dec10044red.fits 1\n",
        "17dec10045red.fits"
       ]
      },
      {
       "output_type": "stream",
       "stream": "stdout",
       "text": [
        " 1\n",
        "17dec10046red.fits"
       ]
      },
      {
       "output_type": "stream",
       "stream": "stdout",
       "text": [
        " 1\n",
        "18dec10030red.fits"
       ]
      },
      {
       "output_type": "stream",
       "stream": "stdout",
       "text": [
        " 0\n",
        "18dec10031red.fits"
       ]
      },
      {
       "output_type": "stream",
       "stream": "stdout",
       "text": [
        " 0\n",
        "18dec10032red.fits"
       ]
      },
      {
       "output_type": "stream",
       "stream": "stdout",
       "text": [
        " 0\n",
        "18dec10033red.fits"
       ]
      },
      {
       "output_type": "stream",
       "stream": "stdout",
       "text": [
        " 0\n",
        "Procesing RV  0\n",
        "RV"
       ]
      },
      {
       "output_type": "stream",
       "stream": "stdout",
       "text": [
        " -2828.33032293\n",
        "Procesing RV  1\n",
        "RV -2828.33032293\n",
        "Procesing RV  2\n",
        "RV"
       ]
      },
      {
       "output_type": "stream",
       "stream": "stdout",
       "text": [
        " 0.0\n",
        "Procesing RV  3\n",
        "RV 70708.2580733\n",
        "Procesing RV  4\n",
        "RV 14141.6516147\n",
        "Procesing RV  5\n",
        "RV"
       ]
      },
      {
       "output_type": "stream",
       "stream": "stdout",
       "text": [
        " 132931.525178\n",
        "Procesing RV  6\n",
        "RV -22626.6425835\n",
        "Procesing RV  7\n",
        "RV -28283.3032293\n",
        "Procesing RV  8\n",
        "RV"
       ]
      },
      {
       "output_type": "stream",
       "stream": "stdout",
       "text": [
        " -22626.6425835\n",
        "Procesing RV  9\n",
        "RV -25454.9729064\n",
        "Procesing RV  10\n",
        "RV -25454.9729064\n",
        "Procesing RV  11\n",
        "RV"
       ]
      },
      {
       "output_type": "stream",
       "stream": "stdout",
       "text": [
        " -25454.9729064\n",
        "Procesing RV  12\n",
        "RV -31111.6335523\n",
        "Procesing RV  13\n",
        "RV"
       ]
      },
      {
       "output_type": "stream",
       "stream": "stdout",
       "text": [
        " -33939.9638752\n",
        "Procesing RV  14\n",
        "RV -31111.6335523\n",
        "Procesing RV  15\n",
        "RV"
       ]
      },
      {
       "output_type": "stream",
       "stream": "stdout",
       "text": [
        " -33939.9638752\n",
        "Procesing RV  16\n",
        "RV -31111.6335523\n",
        "Procesing RV  17\n",
        "RV"
       ]
      },
      {
       "output_type": "stream",
       "stream": "stdout",
       "text": [
        " -31111.6335523\n",
        "07feb20022red.fits"
       ]
      },
      {
       "output_type": "stream",
       "stream": "stdout",
       "text": [
        " 1\n",
        "07feb20023red.fits"
       ]
      },
      {
       "output_type": "stream",
       "stream": "stdout",
       "text": [
        " 1\n",
        "07feb20024red.fits"
       ]
      },
      {
       "output_type": "stream",
       "stream": "stdout",
       "text": [
        " 1\n",
        "07feb20027red.fits"
       ]
      },
      {
       "output_type": "stream",
       "stream": "stdout",
       "text": [
        " 0\n",
        "07feb20028red.fits"
       ]
      },
      {
       "output_type": "stream",
       "stream": "stdout",
       "text": [
        " 0\n",
        "07feb20029red.fits"
       ]
      },
      {
       "output_type": "stream",
       "stream": "stdout",
       "text": [
        " 0\n",
        "07feb20030red.fits"
       ]
      },
      {
       "output_type": "stream",
       "stream": "stdout",
       "text": [
        " 0\n",
        "07feb20031red.fits"
       ]
      },
      {
       "output_type": "stream",
       "stream": "stdout",
       "text": [
        " 0\n",
        "07feb20032red.fits"
       ]
      },
      {
       "output_type": "stream",
       "stream": "stdout",
       "text": [
        " 0\n",
        "07jan20049red.fits"
       ]
      },
      {
       "output_type": "stream",
       "stream": "stdout",
       "text": [
        " 0\n",
        "07jan20050red.fits"
       ]
      },
      {
       "output_type": "stream",
       "stream": "stdout",
       "text": [
        " 0\n",
        "07jan20051red.fits"
       ]
      },
      {
       "output_type": "stream",
       "stream": "stdout",
       "text": [
        " 0\n",
        "07jan20054red.fits"
       ]
      },
      {
       "output_type": "stream",
       "stream": "stdout",
       "text": [
        " 0\n",
        "07jan20055red.fits"
       ]
      },
      {
       "output_type": "stream",
       "stream": "stdout",
       "text": [
        " 0\n",
        "07jan20056red.fits"
       ]
      },
      {
       "output_type": "stream",
       "stream": "stdout",
       "text": [
        " 0\n",
        "07jan20059red.fits"
       ]
      },
      {
       "output_type": "stream",
       "stream": "stdout",
       "text": [
        " 0\n",
        "07jan20060red.fits 0\n",
        "07jan20061red.fits"
       ]
      },
      {
       "output_type": "stream",
       "stream": "stdout",
       "text": [
        " 0\n",
        "07jan20064red.fits 0\n",
        "08feb20027red.fits"
       ]
      },
      {
       "output_type": "stream",
       "stream": "stdout",
       "text": [
        " 1\n",
        "08feb20028red.fits"
       ]
      },
      {
       "output_type": "stream",
       "stream": "stdout",
       "text": [
        " 1\n",
        "08feb20029red.fits"
       ]
      },
      {
       "output_type": "stream",
       "stream": "stdout",
       "text": [
        " 1\n",
        "08feb20032red.fits"
       ]
      },
      {
       "output_type": "stream",
       "stream": "stdout",
       "text": [
        " 0\n",
        "08feb20033red.fits"
       ]
      },
      {
       "output_type": "stream",
       "stream": "stdout",
       "text": [
        " 0\n",
        "08feb20034red.fits"
       ]
      },
      {
       "output_type": "stream",
       "stream": "stdout",
       "text": [
        " 0\n",
        "08feb20035red.fits"
       ]
      },
      {
       "output_type": "stream",
       "stream": "stdout",
       "text": [
        " 0\n",
        "08feb20036red.fits"
       ]
      },
      {
       "output_type": "stream",
       "stream": "stdout",
       "text": [
        " 0\n",
        "08feb20037red.fits"
       ]
      },
      {
       "output_type": "stream",
       "stream": "stdout",
       "text": [
        " 0\n",
        "09feb20029red.fits"
       ]
      },
      {
       "output_type": "stream",
       "stream": "stdout",
       "text": [
        " 0\n",
        "09feb20030red.fits"
       ]
      },
      {
       "output_type": "stream",
       "stream": "stdout",
       "text": [
        " 0\n",
        "09feb20031red.fits 0\n",
        "09feb20034red.fits"
       ]
      },
      {
       "output_type": "stream",
       "stream": "stdout",
       "text": [
        " 1\n",
        "09feb20035red.fits"
       ]
      },
      {
       "output_type": "stream",
       "stream": "stdout",
       "text": [
        " 1\n",
        "09feb20036red.fits"
       ]
      },
      {
       "output_type": "stream",
       "stream": "stdout",
       "text": [
        " 1\n",
        "09jan20026red.fits"
       ]
      },
      {
       "output_type": "stream",
       "stream": "stdout",
       "text": [
        " 0\n",
        "09jan20027red.fits"
       ]
      },
      {
       "output_type": "stream",
       "stream": "stdout",
       "text": [
        " 0\n",
        "09jan20030red.fits 0"
       ]
      },
      {
       "output_type": "stream",
       "stream": "stdout",
       "text": [
        "\n",
        "09jan20031red.fits 0\n",
        "09jan20032red.fits"
       ]
      },
      {
       "output_type": "stream",
       "stream": "stdout",
       "text": [
        " 0\n",
        "09jan20033red.fits 0\n",
        "09jan20036red.fits"
       ]
      },
      {
       "output_type": "stream",
       "stream": "stdout",
       "text": [
        " 0\n",
        "09jan20045red.fits"
       ]
      },
      {
       "output_type": "stream",
       "stream": "stdout",
       "text": [
        " 0\n",
        "09jan20048red.fits"
       ]
      },
      {
       "output_type": "stream",
       "stream": "stdout",
       "text": [
        " 0\n",
        "09jan20049red.fits 0\n",
        "09jan20050red.fits"
       ]
      },
      {
       "output_type": "stream",
       "stream": "stdout",
       "text": [
        " 0\n",
        "10feb20027red.fits 0\n",
        "10feb20028red.fits"
       ]
      },
      {
       "output_type": "stream",
       "stream": "stdout",
       "text": [
        " 0\n",
        "10feb20029red.fits"
       ]
      },
      {
       "output_type": "stream",
       "stream": "stdout",
       "text": [
        " 0\n",
        "10feb20030red.fits"
       ]
      },
      {
       "output_type": "stream",
       "stream": "stdout",
       "text": [
        " 0\n",
        "10feb20031red.fits 0\n",
        "10feb20032red.fits"
       ]
      },
      {
       "output_type": "stream",
       "stream": "stdout",
       "text": [
        " 0\n",
        "10feb20033red.fits"
       ]
      },
      {
       "output_type": "stream",
       "stream": "stdout",
       "text": [
        " 0\n",
        "11feb20013red.fits"
       ]
      },
      {
       "output_type": "stream",
       "stream": "stdout",
       "text": [
        " 0\n",
        "11feb20014red.fits 0\n",
        "11feb20015red.fits"
       ]
      },
      {
       "output_type": "stream",
       "stream": "stdout",
       "text": [
        " 0\n",
        "11feb20016red.fits 0\n",
        "11feb20017red.fits"
       ]
      },
      {
       "output_type": "stream",
       "stream": "stdout",
       "text": [
        " 0\n",
        "11feb20018red.fits 0\n",
        "11feb20021red.fits"
       ]
      },
      {
       "output_type": "stream",
       "stream": "stdout",
       "text": [
        " 1\n",
        "11feb20022red.fits"
       ]
      },
      {
       "output_type": "stream",
       "stream": "stdout",
       "text": [
        " 1\n",
        "11feb20023red.fits"
       ]
      },
      {
       "output_type": "stream",
       "stream": "stdout",
       "text": [
        " 1\n",
        "11feb20024red.fits"
       ]
      },
      {
       "output_type": "stream",
       "stream": "stdout",
       "text": [
        " 1\n",
        "11feb20025red.fits"
       ]
      },
      {
       "output_type": "stream",
       "stream": "stdout",
       "text": [
        " 1\n",
        "11feb20026red.fits"
       ]
      },
      {
       "output_type": "stream",
       "stream": "stdout",
       "text": [
        " 1\n",
        "11jan20028red.fits"
       ]
      },
      {
       "output_type": "stream",
       "stream": "stdout",
       "text": [
        " 0\n",
        "11jan20029red.fits 0\n",
        "11jan20030red.fits"
       ]
      },
      {
       "output_type": "stream",
       "stream": "stdout",
       "text": [
        " 0\n",
        "11jan20033red.fits 0\n",
        "11jan20034red.fits"
       ]
      },
      {
       "output_type": "stream",
       "stream": "stdout",
       "text": [
        " 0\n",
        "11jan20035red.fits"
       ]
      },
      {
       "output_type": "stream",
       "stream": "stdout",
       "text": [
        " 0\n",
        "11jan20038red.fits 0\n",
        "11jan20039red.fits"
       ]
      },
      {
       "output_type": "stream",
       "stream": "stdout",
       "text": [
        " 0\n",
        "11jan20040red.fits 0\n",
        "12jan20030red.fits"
       ]
      },
      {
       "output_type": "stream",
       "stream": "stdout",
       "text": [
        " 0\n",
        "12jan20031red.fits"
       ]
      },
      {
       "output_type": "stream",
       "stream": "stdout",
       "text": [
        " 0\n",
        "12jan20032red.fits"
       ]
      },
      {
       "output_type": "stream",
       "stream": "stdout",
       "text": [
        " 0\n",
        "17dec20039red.fits 0\n",
        "17dec20040red.fits"
       ]
      },
      {
       "output_type": "stream",
       "stream": "stdout",
       "text": [
        " 0\n",
        "17dec20041red.fits"
       ]
      },
      {
       "output_type": "stream",
       "stream": "stdout",
       "text": [
        " 0\n",
        "17dec20044red.fits 1\n",
        "17dec20045red.fits"
       ]
      },
      {
       "output_type": "stream",
       "stream": "stdout",
       "text": [
        " 1\n",
        "17dec20046red.fits"
       ]
      },
      {
       "output_type": "stream",
       "stream": "stdout",
       "text": [
        " 1\n",
        "18dec20030red.fits"
       ]
      },
      {
       "output_type": "stream",
       "stream": "stdout",
       "text": [
        " 0\n",
        "18dec20031red.fits 0\n",
        "18dec20032red.fits"
       ]
      },
      {
       "output_type": "stream",
       "stream": "stdout",
       "text": [
        " 0\n",
        "18dec20033red.fits 0\n",
        "Procesing RV "
       ]
      },
      {
       "output_type": "stream",
       "stream": "stdout",
       "text": [
        " 0\n",
        "RV 0.0\n",
        "Procesing RV  1\n",
        "RV -2845.30948655\n",
        "Procesing RV  2\n",
        "RV"
       ]
      },
      {
       "output_type": "stream",
       "stream": "stdout",
       "text": [
        " -2845.30948655\n",
        "Procesing RV  3\n",
        "RV -537763.492961\n",
        "Procesing RV  4\n",
        "RV -39834.3328119\n",
        "Procesing RV  5\n",
        "RV"
       ]
      },
      {
       "output_type": "stream",
       "stream": "stdout",
       "text": [
        " -446713.589391\n",
        "Procesing RV  6\n",
        "RV 25607.7853791\n",
        "Procesing RV  7\n",
        "RV 28453.0948657\n",
        "Procesing RV  8\n",
        "RV"
       ]
      },
      {
       "output_type": "stream",
       "stream": "stdout",
       "text": [
        " 28453.0948657\n",
        "Procesing RV  9\n",
        "RV -435332.351445\n",
        "Procesing RV  10\n",
        "RV -768233.561373\n",
        "Procesing RV  11\n",
        "RV"
       ]
      },
      {
       "output_type": "stream",
       "stream": "stdout",
       "text": [
        " -321519.971982\n",
        "Procesing RV  12\n",
        "RV -315829.353009\n",
        "Procesing RV  13\n",
        "RV -48370.2612716\n",
        "Procesing RV  14\n",
        "RV"
       ]
      },
      {
       "output_type": "stream",
       "stream": "stdout",
       "text": [
        " -221934.139952\n",
        "Procesing RV  15\n",
        "RV -2845.33649144\n",
        "Procesing RV  16\n",
        "RV -5690.67298293\n",
        "Procesing RV  17\n",
        "RV"
       ]
      },
      {
       "output_type": "stream",
       "stream": "stdout",
       "text": [
        " -5690.67298293\n",
        "07feb30022red.fits"
       ]
      },
      {
       "output_type": "stream",
       "stream": "stdout",
       "text": [
        " 1\n",
        "07feb30023red.fits"
       ]
      },
      {
       "output_type": "stream",
       "stream": "stdout",
       "text": [
        " 1\n",
        "07feb30024red.fits"
       ]
      },
      {
       "output_type": "stream",
       "stream": "stdout",
       "text": [
        " 1\n",
        "07feb30027red.fits"
       ]
      },
      {
       "output_type": "stream",
       "stream": "stdout",
       "text": [
        " 0\n",
        "07feb30028red.fits 0\n",
        "07feb30029red.fits"
       ]
      },
      {
       "output_type": "stream",
       "stream": "stdout",
       "text": [
        " 0\n",
        "07feb30030red.fits 0\n",
        "07feb30031red.fits"
       ]
      },
      {
       "output_type": "stream",
       "stream": "stdout",
       "text": [
        " 0\n",
        "07feb30032red.fits 0\n",
        "07jan30049red.fits"
       ]
      },
      {
       "output_type": "stream",
       "stream": "stdout",
       "text": [
        " 0\n",
        "07jan30050red.fits 0\n",
        "07jan30051red.fits"
       ]
      },
      {
       "output_type": "stream",
       "stream": "stdout",
       "text": [
        " 0\n",
        "07jan30054red.fits 0\n",
        "07jan30055red.fits"
       ]
      },
      {
       "output_type": "stream",
       "stream": "stdout",
       "text": [
        " 0\n",
        "07jan30056red.fits"
       ]
      },
      {
       "output_type": "stream",
       "stream": "stdout",
       "text": [
        " 0\n",
        "07jan30059red.fits"
       ]
      },
      {
       "output_type": "stream",
       "stream": "stdout",
       "text": [
        " 0\n",
        "07jan30060red.fits"
       ]
      },
      {
       "output_type": "stream",
       "stream": "stdout",
       "text": [
        " 0\n",
        "07jan30061red.fits"
       ]
      },
      {
       "output_type": "stream",
       "stream": "stdout",
       "text": [
        " 0\n",
        "07jan30064red.fits 0\n",
        "08feb30027red.fits"
       ]
      },
      {
       "output_type": "stream",
       "stream": "stdout",
       "text": [
        " 1\n",
        "08feb30028red.fits"
       ]
      },
      {
       "output_type": "stream",
       "stream": "stdout",
       "text": [
        " 1\n",
        "08feb30029red.fits"
       ]
      },
      {
       "output_type": "stream",
       "stream": "stdout",
       "text": [
        " 1\n",
        "08feb30032red.fits"
       ]
      },
      {
       "output_type": "stream",
       "stream": "stdout",
       "text": [
        " 0\n",
        "08feb30033red.fits 0\n",
        "08feb30034red.fits"
       ]
      },
      {
       "output_type": "stream",
       "stream": "stdout",
       "text": [
        " 0\n",
        "08feb30035red.fits 0\n",
        "08feb30036red.fits"
       ]
      },
      {
       "output_type": "stream",
       "stream": "stdout",
       "text": [
        " 0\n",
        "08feb30037red.fits 0\n",
        "09feb30029red.fits"
       ]
      },
      {
       "output_type": "stream",
       "stream": "stdout",
       "text": [
        " 0\n",
        "09feb30030red.fits 0\n",
        "09feb30031red.fits"
       ]
      },
      {
       "output_type": "stream",
       "stream": "stdout",
       "text": [
        " 0\n",
        "09feb30034red.fits"
       ]
      },
      {
       "output_type": "stream",
       "stream": "stdout",
       "text": [
        " 1\n",
        "09feb30035red.fits"
       ]
      },
      {
       "output_type": "stream",
       "stream": "stdout",
       "text": [
        " 1\n",
        "09feb30036red.fits"
       ]
      },
      {
       "output_type": "stream",
       "stream": "stdout",
       "text": [
        " 1\n",
        "09jan30026red.fits"
       ]
      },
      {
       "output_type": "stream",
       "stream": "stdout",
       "text": [
        " 0\n",
        "09jan30027red.fits 0\n",
        "09jan30030red.fits"
       ]
      },
      {
       "output_type": "stream",
       "stream": "stdout",
       "text": [
        " 0\n",
        "09jan30031red.fits 0\n",
        "09jan30032red.fits"
       ]
      },
      {
       "output_type": "stream",
       "stream": "stdout",
       "text": [
        " 0\n",
        "09jan30033red.fits 0\n",
        "09jan30036red.fits"
       ]
      },
      {
       "output_type": "stream",
       "stream": "stdout",
       "text": [
        " 0\n",
        "09jan30045red.fits 0\n",
        "09jan30048red.fits"
       ]
      },
      {
       "output_type": "stream",
       "stream": "stdout",
       "text": [
        " 0\n",
        "09jan30049red.fits 0\n",
        "09jan30050red.fits"
       ]
      },
      {
       "output_type": "stream",
       "stream": "stdout",
       "text": [
        " 0\n",
        "10feb30027red.fits"
       ]
      },
      {
       "output_type": "stream",
       "stream": "stdout",
       "text": [
        " 0\n",
        "10feb30028red.fits 0\n",
        "10feb30029red.fits"
       ]
      },
      {
       "output_type": "stream",
       "stream": "stdout",
       "text": [
        " 0\n",
        "10feb30030red.fits"
       ]
      },
      {
       "output_type": "stream",
       "stream": "stdout",
       "text": [
        " 0\n",
        "10feb30031red.fits"
       ]
      },
      {
       "output_type": "stream",
       "stream": "stdout",
       "text": [
        " 0\n",
        "10feb30032red.fits 0\n",
        "10feb30033red.fits"
       ]
      },
      {
       "output_type": "stream",
       "stream": "stdout",
       "text": [
        " 0\n",
        "11feb30013red.fits"
       ]
      },
      {
       "output_type": "stream",
       "stream": "stdout",
       "text": [
        " 0\n",
        "11feb30014red.fits"
       ]
      },
      {
       "output_type": "stream",
       "stream": "stdout",
       "text": [
        " 0\n",
        "11feb30015red.fits"
       ]
      },
      {
       "output_type": "stream",
       "stream": "stdout",
       "text": [
        " 0\n",
        "11feb30016red.fits"
       ]
      },
      {
       "output_type": "stream",
       "stream": "stdout",
       "text": [
        " 0\n",
        "11feb30017red.fits"
       ]
      },
      {
       "output_type": "stream",
       "stream": "stdout",
       "text": [
        " 0\n",
        "11feb30018red.fits 0\n",
        "11feb30021red.fits"
       ]
      },
      {
       "output_type": "stream",
       "stream": "stdout",
       "text": [
        " 1\n",
        "11feb30022red.fits"
       ]
      },
      {
       "output_type": "stream",
       "stream": "stdout",
       "text": [
        " 1\n",
        "11feb30023red.fits"
       ]
      },
      {
       "output_type": "stream",
       "stream": "stdout",
       "text": [
        " 1\n",
        "11feb30024red.fits"
       ]
      },
      {
       "output_type": "stream",
       "stream": "stdout",
       "text": [
        " 1\n",
        "11feb30025red.fits"
       ]
      },
      {
       "output_type": "stream",
       "stream": "stdout",
       "text": [
        " 1\n",
        "11feb30026red.fits"
       ]
      },
      {
       "output_type": "stream",
       "stream": "stdout",
       "text": [
        " 1\n",
        "11jan30028red.fits"
       ]
      },
      {
       "output_type": "stream",
       "stream": "stdout",
       "text": [
        " 0\n",
        "11jan30029red.fits"
       ]
      },
      {
       "output_type": "stream",
       "stream": "stdout",
       "text": [
        " 0\n",
        "11jan30030red.fits"
       ]
      },
      {
       "output_type": "stream",
       "stream": "stdout",
       "text": [
        " 0\n",
        "11jan30033red.fits"
       ]
      },
      {
       "output_type": "stream",
       "stream": "stdout",
       "text": [
        " 0\n",
        "11jan30034red.fits 0\n",
        "11jan30035red.fits"
       ]
      },
      {
       "output_type": "stream",
       "stream": "stdout",
       "text": [
        " 0\n",
        "11jan30038red.fits 0\n",
        "11jan30039red.fits"
       ]
      },
      {
       "output_type": "stream",
       "stream": "stdout",
       "text": [
        " 0\n",
        "11jan30040red.fits 0\n",
        "12jan30030red.fits"
       ]
      },
      {
       "output_type": "stream",
       "stream": "stdout",
       "text": [
        " 0\n",
        "12jan30031red.fits"
       ]
      },
      {
       "output_type": "stream",
       "stream": "stdout",
       "text": [
        " 0\n",
        "12jan30032red.fits 0\n",
        "17dec30039red.fits"
       ]
      },
      {
       "output_type": "stream",
       "stream": "stdout",
       "text": [
        " 0\n",
        "17dec30040red.fits 0\n",
        "17dec30041red.fits"
       ]
      },
      {
       "output_type": "stream",
       "stream": "stdout",
       "text": [
        " 0\n",
        "17dec30044red.fits 1\n",
        "17dec30045red.fits"
       ]
      },
      {
       "output_type": "stream",
       "stream": "stdout",
       "text": [
        " 1\n",
        "17dec30046red.fits"
       ]
      },
      {
       "output_type": "stream",
       "stream": "stdout",
       "text": [
        " 1\n",
        "18dec30030red.fits"
       ]
      },
      {
       "output_type": "stream",
       "stream": "stdout",
       "text": [
        " 0\n",
        "18dec30031red.fits 0\n",
        "18dec30032red.fits"
       ]
      },
      {
       "output_type": "stream",
       "stream": "stdout",
       "text": [
        " 0\n",
        "18dec30033red.fits 0\n",
        "Procesing RV "
       ]
      },
      {
       "output_type": "stream",
       "stream": "stdout",
       "text": [
        " 0\n",
        "RV -2847.6727602\n",
        "Procesing RV  1\n",
        "RV -2847.6727602\n",
        "Procesing RV  2\n",
        "RV"
       ]
      },
      {
       "output_type": "stream",
       "stream": "stdout",
       "text": [
        " -2847.6727602\n",
        "Procesing RV  3\n",
        "RV 88215.0102185\n",
        "Procesing RV  4\n",
        "RV 91060.6557094\n",
        "Procesing RV  5\n",
        "RV"
       ]
      },
      {
       "output_type": "stream",
       "stream": "stdout",
       "text": [
        " 91060.6557094\n",
        "Procesing RV  6\n",
        "RV -25628.3245256\n",
        "Procesing RV  7\n",
        "RV -25628.3245256\n",
        "Procesing RV  8\n",
        "RV"
       ]
      },
      {
       "output_type": "stream",
       "stream": "stdout",
       "text": [
        " -25628.3245256\n",
        "Procesing RV  9\n",
        "RV 88215.0102185\n",
        "Procesing RV  10\n",
        "RV 85369.3647275\n",
        "Procesing RV  11\n",
        "RV"
       ]
      },
      {
       "output_type": "stream",
       "stream": "stdout",
       "text": [
        " 85369.3647275\n",
        "Procesing RV  12\n",
        "RV 88215.0102185\n",
        "Procesing RV  13\n",
        "RV 88215.0102185\n",
        "Procesing RV  14\n",
        "RV"
       ]
      },
      {
       "output_type": "stream",
       "stream": "stdout",
       "text": [
        " 91060.6557094\n",
        "Procesing RV  15\n",
        "RV 108134.528655\n",
        "Procesing RV  16\n",
        "RV 108134.528655\n",
        "Procesing RV  17\n",
        "RV"
       ]
      },
      {
       "output_type": "stream",
       "stream": "stdout",
       "text": [
        " 108134.528655\n",
        "07feb40022red.fits"
       ]
      },
      {
       "output_type": "stream",
       "stream": "stdout",
       "text": [
        " 1\n",
        "07feb40023red.fits"
       ]
      },
      {
       "output_type": "stream",
       "stream": "stdout",
       "text": [
        " 1\n",
        "07feb40024red.fits"
       ]
      },
      {
       "output_type": "stream",
       "stream": "stdout",
       "text": [
        " 1\n",
        "07feb40027red.fits"
       ]
      },
      {
       "output_type": "stream",
       "stream": "stdout",
       "text": [
        " 0\n",
        "07feb40028red.fits 0\n",
        "07feb40029red.fits"
       ]
      },
      {
       "output_type": "stream",
       "stream": "stdout",
       "text": [
        " 0\n",
        "07feb40030red.fits 0\n",
        "07feb40031red.fits"
       ]
      },
      {
       "output_type": "stream",
       "stream": "stdout",
       "text": [
        " 0\n",
        "07feb40032red.fits 0\n",
        "07jan40049red.fits"
       ]
      },
      {
       "output_type": "stream",
       "stream": "stdout",
       "text": [
        " 0\n",
        "07jan40050red.fits"
       ]
      },
      {
       "output_type": "stream",
       "stream": "stdout",
       "text": [
        " 0\n",
        "07jan40051red.fits 0\n",
        "07jan40054red.fits"
       ]
      },
      {
       "output_type": "stream",
       "stream": "stdout",
       "text": [
        " 0\n",
        "07jan40055red.fits 0\n",
        "07jan40056red.fits"
       ]
      },
      {
       "output_type": "stream",
       "stream": "stdout",
       "text": [
        " 0\n",
        "07jan40059red.fits"
       ]
      },
      {
       "output_type": "stream",
       "stream": "stdout",
       "text": [
        " 0\n",
        "07jan40060red.fits 0\n",
        "07jan40061red.fits"
       ]
      },
      {
       "output_type": "stream",
       "stream": "stdout",
       "text": [
        " 0\n",
        "07jan40064red.fits 0\n",
        "08feb40027red.fits"
       ]
      },
      {
       "output_type": "stream",
       "stream": "stdout",
       "text": [
        " 1\n",
        "08feb40028red.fits"
       ]
      },
      {
       "output_type": "stream",
       "stream": "stdout",
       "text": [
        " 1\n",
        "08feb40029red.fits"
       ]
      },
      {
       "output_type": "stream",
       "stream": "stdout",
       "text": [
        " 1\n",
        "08feb40032red.fits"
       ]
      },
      {
       "output_type": "stream",
       "stream": "stdout",
       "text": [
        " 0\n",
        "08feb40033red.fits 0\n",
        "08feb40034red.fits"
       ]
      },
      {
       "output_type": "stream",
       "stream": "stdout",
       "text": [
        " 0\n",
        "08feb40035red.fits"
       ]
      },
      {
       "output_type": "stream",
       "stream": "stdout",
       "text": [
        " 0\n",
        "08feb40036red.fits 0\n",
        "08feb40037red.fits"
       ]
      },
      {
       "output_type": "stream",
       "stream": "stdout",
       "text": [
        " 0\n",
        "09feb40029red.fits 0\n",
        "09feb40030red.fits"
       ]
      },
      {
       "output_type": "stream",
       "stream": "stdout",
       "text": [
        " 0\n",
        "09feb40031red.fits 0\n",
        "09feb40034red.fits"
       ]
      },
      {
       "output_type": "stream",
       "stream": "stdout",
       "text": [
        " 1\n",
        "09feb40035red.fits"
       ]
      },
      {
       "output_type": "stream",
       "stream": "stdout",
       "text": [
        " 1\n",
        "09feb40036red.fits"
       ]
      },
      {
       "output_type": "stream",
       "stream": "stdout",
       "text": [
        " 1\n",
        "09jan40026red.fits"
       ]
      },
      {
       "output_type": "stream",
       "stream": "stdout",
       "text": [
        " 0\n",
        "09jan40027red.fits"
       ]
      },
      {
       "output_type": "stream",
       "stream": "stdout",
       "text": [
        " 0\n",
        "09jan40030red.fits"
       ]
      },
      {
       "output_type": "stream",
       "stream": "stdout",
       "text": [
        " 0\n",
        "09jan40031red.fits"
       ]
      },
      {
       "output_type": "stream",
       "stream": "stdout",
       "text": [
        " 0\n",
        "09jan40032red.fits 0\n",
        "09jan40033red.fits"
       ]
      },
      {
       "output_type": "stream",
       "stream": "stdout",
       "text": [
        " 0\n",
        "09jan40036red.fits 0\n",
        "09jan40045red.fits"
       ]
      },
      {
       "output_type": "stream",
       "stream": "stdout",
       "text": [
        " 0\n",
        "09jan40048red.fits 0\n",
        "09jan40049red.fits"
       ]
      },
      {
       "output_type": "stream",
       "stream": "stdout",
       "text": [
        " 0\n",
        "09jan40050red.fits"
       ]
      },
      {
       "output_type": "stream",
       "stream": "stdout",
       "text": [
        " 0\n",
        "10feb40027red.fits"
       ]
      },
      {
       "output_type": "stream",
       "stream": "stdout",
       "text": [
        " 0\n",
        "10feb40028red.fits 0\n",
        "10feb40029red.fits"
       ]
      },
      {
       "output_type": "stream",
       "stream": "stdout",
       "text": [
        " 0\n",
        "10feb40030red.fits"
       ]
      },
      {
       "output_type": "stream",
       "stream": "stdout",
       "text": [
        " 0\n",
        "10feb40031red.fits"
       ]
      },
      {
       "output_type": "stream",
       "stream": "stdout",
       "text": [
        " 0\n",
        "10feb40032red.fits"
       ]
      },
      {
       "output_type": "stream",
       "stream": "stdout",
       "text": [
        " 0\n",
        "10feb40033red.fits 0\n",
        "11feb40013red.fits"
       ]
      },
      {
       "output_type": "stream",
       "stream": "stdout",
       "text": [
        " 0\n",
        "11feb40014red.fits"
       ]
      },
      {
       "output_type": "stream",
       "stream": "stdout",
       "text": [
        " 0\n",
        "11feb40015red.fits 0\n",
        "11feb40016red.fits"
       ]
      },
      {
       "output_type": "stream",
       "stream": "stdout",
       "text": [
        " 0\n",
        "11feb40017red.fits 0\n",
        "11feb40018red.fits"
       ]
      },
      {
       "output_type": "stream",
       "stream": "stdout",
       "text": [
        " 0\n",
        "11feb40021red.fits 1\n",
        "11feb40022red.fits"
       ]
      },
      {
       "output_type": "stream",
       "stream": "stdout",
       "text": [
        " 1\n",
        "11feb40023red.fits"
       ]
      },
      {
       "output_type": "stream",
       "stream": "stdout",
       "text": [
        " 1\n",
        "11feb40024red.fits"
       ]
      },
      {
       "output_type": "stream",
       "stream": "stdout",
       "text": [
        " 1\n",
        "11feb40025red.fits"
       ]
      },
      {
       "output_type": "stream",
       "stream": "stdout",
       "text": [
        " 1\n",
        "11feb40026red.fits"
       ]
      },
      {
       "output_type": "stream",
       "stream": "stdout",
       "text": [
        " 1\n",
        "11jan40028red.fits"
       ]
      },
      {
       "output_type": "stream",
       "stream": "stdout",
       "text": [
        " 0\n",
        "11jan40029red.fits 0\n",
        "11jan40030red.fits"
       ]
      },
      {
       "output_type": "stream",
       "stream": "stdout",
       "text": [
        " 0\n",
        "11jan40033red.fits 0\n",
        "11jan40034red.fits"
       ]
      },
      {
       "output_type": "stream",
       "stream": "stdout",
       "text": [
        " 0\n",
        "11jan40035red.fits 0\n",
        "11jan40038red.fits"
       ]
      },
      {
       "output_type": "stream",
       "stream": "stdout",
       "text": [
        " 0\n",
        "11jan40039red.fits"
       ]
      },
      {
       "output_type": "stream",
       "stream": "stdout",
       "text": [
        " 0\n",
        "11jan40040red.fits"
       ]
      },
      {
       "output_type": "stream",
       "stream": "stdout",
       "text": [
        " 0\n",
        "12jan40030red.fits"
       ]
      },
      {
       "output_type": "stream",
       "stream": "stdout",
       "text": [
        " 0\n",
        "12jan40031red.fits 0\n",
        "12jan40032red.fits"
       ]
      },
      {
       "output_type": "stream",
       "stream": "stdout",
       "text": [
        " 0\n",
        "17dec40039red.fits 0\n",
        "17dec40040red.fits"
       ]
      },
      {
       "output_type": "stream",
       "stream": "stdout",
       "text": [
        " 0\n",
        "17dec40041red.fits 0\n",
        "17dec40044red.fits"
       ]
      },
      {
       "output_type": "stream",
       "stream": "stdout",
       "text": [
        " 1\n",
        "17dec40045red.fits"
       ]
      },
      {
       "output_type": "stream",
       "stream": "stdout",
       "text": [
        " 1\n",
        "17dec40046red.fits"
       ]
      },
      {
       "output_type": "stream",
       "stream": "stdout",
       "text": [
        " 1\n",
        "18dec40030red.fits"
       ]
      },
      {
       "output_type": "stream",
       "stream": "stdout",
       "text": [
        " 0\n",
        "18dec40031red.fits 0\n",
        "18dec40032red.fits"
       ]
      },
      {
       "output_type": "stream",
       "stream": "stdout",
       "text": [
        " 0\n",
        "18dec40033red.fits 0\n",
        "Procesing RV "
       ]
      },
      {
       "output_type": "stream",
       "stream": "stdout",
       "text": [
        " 0\n",
        "RV 0.0\n",
        "Procesing RV  1\n",
        "RV 0.0\n",
        "Procesing RV  2\n",
        "RV"
       ]
      },
      {
       "output_type": "stream",
       "stream": "stdout",
       "text": [
        " 0.0\n",
        "Procesing RV  3\n",
        "RV 0.0\n",
        "Procesing RV  4\n",
        "RV 0.0\n",
        "Procesing RV  5\n",
        "RV"
       ]
      },
      {
       "output_type": "stream",
       "stream": "stdout",
       "text": [
        " 0.0\n",
        "Procesing RV  6\n",
        "RV 0.0\n",
        "Procesing RV  7\n",
        "RV 0.0\n",
        "Procesing RV  8\n",
        "RV"
       ]
      },
      {
       "output_type": "stream",
       "stream": "stdout",
       "text": [
        " 0.0\n",
        "Procesing RV  9\n",
        "RV 0.0\n",
        "Procesing RV  10\n",
        "RV 0.0\n",
        "Procesing RV  11\n",
        "RV"
       ]
      },
      {
       "output_type": "stream",
       "stream": "stdout",
       "text": [
        " 0.0\n",
        "Procesing RV  12\n",
        "RV 0.0\n",
        "Procesing RV  13\n",
        "RV 0.0\n",
        "Procesing RV  14\n",
        "RV"
       ]
      },
      {
       "output_type": "stream",
       "stream": "stdout",
       "text": [
        " 0.0\n",
        "Procesing RV  15\n",
        "RV -2851.72450707\n",
        "Procesing RV  16\n",
        "RV 0.0\n",
        "Procesing RV  17\n",
        "RV"
       ]
      },
      {
       "output_type": "stream",
       "stream": "stdout",
       "text": [
        " 0.0\n",
        "M67-S78"
       ]
      },
      {
       "output_type": "stream",
       "stream": "stdout",
       "text": [
        "\n",
        "07feb10022red.fits"
       ]
      },
      {
       "output_type": "stream",
       "stream": "stdout",
       "text": [
        " 1\n",
        "07feb10023red.fits"
       ]
      },
      {
       "output_type": "stream",
       "stream": "stdout",
       "text": [
        " 1\n",
        "07feb10024red.fits"
       ]
      },
      {
       "output_type": "stream",
       "stream": "stdout",
       "text": [
        " 1\n",
        "07feb10027red.fits"
       ]
      },
      {
       "output_type": "stream",
       "stream": "stdout",
       "text": [
        " 0\n",
        "07feb10028red.fits 0\n",
        "07feb10029red.fits"
       ]
      },
      {
       "output_type": "stream",
       "stream": "stdout",
       "text": [
        " 0\n",
        "07feb10030red.fits 0\n",
        "07feb10031red.fits"
       ]
      },
      {
       "output_type": "stream",
       "stream": "stdout",
       "text": [
        " 0\n",
        "07feb10032red.fits 0\n",
        "07jan10049red.fits"
       ]
      },
      {
       "output_type": "stream",
       "stream": "stdout",
       "text": [
        " 0\n",
        "07jan10050red.fits 0\n",
        "07jan10051red.fits"
       ]
      },
      {
       "output_type": "stream",
       "stream": "stdout",
       "text": [
        " 0\n",
        "07jan10054red.fits"
       ]
      },
      {
       "output_type": "stream",
       "stream": "stdout",
       "text": [
        " 1\n",
        "07jan10055red.fits"
       ]
      },
      {
       "output_type": "stream",
       "stream": "stdout",
       "text": [
        " 1\n",
        "07jan10056red.fits"
       ]
      },
      {
       "output_type": "stream",
       "stream": "stdout",
       "text": [
        " 1\n",
        "07jan10059red.fits"
       ]
      },
      {
       "output_type": "stream",
       "stream": "stdout",
       "text": [
        " 0\n",
        "07jan10060red.fits 0\n",
        "07jan10061red.fits"
       ]
      },
      {
       "output_type": "stream",
       "stream": "stdout",
       "text": [
        " 0\n",
        "07jan10064red.fits 1\n",
        "08feb10027red.fits"
       ]
      },
      {
       "output_type": "stream",
       "stream": "stdout",
       "text": [
        " 1\n",
        "08feb10028red.fits"
       ]
      },
      {
       "output_type": "stream",
       "stream": "stdout",
       "text": [
        " 1\n",
        "08feb10029red.fits"
       ]
      },
      {
       "output_type": "stream",
       "stream": "stdout",
       "text": [
        " 1\n",
        "08feb10032red.fits"
       ]
      },
      {
       "output_type": "stream",
       "stream": "stdout",
       "text": [
        " 0\n",
        "08feb10033red.fits 0\n",
        "08feb10034red.fits"
       ]
      },
      {
       "output_type": "stream",
       "stream": "stdout",
       "text": [
        " 0\n",
        "08feb10035red.fits 0\n",
        "08feb10036red.fits"
       ]
      },
      {
       "output_type": "stream",
       "stream": "stdout",
       "text": [
        " 0\n",
        "08feb10037red.fits 0\n",
        "09feb10029red.fits"
       ]
      },
      {
       "output_type": "stream",
       "stream": "stdout",
       "text": [
        " 0\n",
        "09feb10030red.fits 0\n",
        "09feb10031red.fits"
       ]
      },
      {
       "output_type": "stream",
       "stream": "stdout",
       "text": [
        " 0\n",
        "09feb10034red.fits 1\n",
        "09feb10035red.fits"
       ]
      },
      {
       "output_type": "stream",
       "stream": "stdout",
       "text": [
        " 1\n",
        "09feb10036red.fits"
       ]
      },
      {
       "output_type": "stream",
       "stream": "stdout",
       "text": [
        " 1\n",
        "09jan10026red.fits"
       ]
      },
      {
       "output_type": "stream",
       "stream": "stdout",
       "text": [
        " 0\n",
        "09jan10027red.fits 0\n",
        "09jan10030red.fits"
       ]
      },
      {
       "output_type": "stream",
       "stream": "stdout",
       "text": [
        " 1\n",
        "09jan10031red.fits"
       ]
      },
      {
       "output_type": "stream",
       "stream": "stdout",
       "text": [
        " 1\n",
        "09jan10032red.fits"
       ]
      },
      {
       "output_type": "stream",
       "stream": "stdout",
       "text": [
        " 1\n",
        "09jan10033red.fits"
       ]
      },
      {
       "output_type": "stream",
       "stream": "stdout",
       "text": [
        " 1\n",
        "09jan10036red.fits"
       ]
      },
      {
       "output_type": "stream",
       "stream": "stdout",
       "text": [
        " 0\n",
        "09jan10045red.fits 0\n",
        "09jan10048red.fits"
       ]
      },
      {
       "output_type": "stream",
       "stream": "stdout",
       "text": [
        " 1\n",
        "09jan10049red.fits"
       ]
      },
      {
       "output_type": "stream",
       "stream": "stdout",
       "text": [
        " 1\n",
        "09jan10050red.fits"
       ]
      },
      {
       "output_type": "stream",
       "stream": "stdout",
       "text": [
        " 1\n",
        "10feb10027red.fits"
       ]
      },
      {
       "output_type": "stream",
       "stream": "stdout",
       "text": [
        " 0\n",
        "10feb10028red.fits 0\n",
        "10feb10029red.fits"
       ]
      },
      {
       "output_type": "stream",
       "stream": "stdout",
       "text": [
        " 0\n",
        "10feb10030red.fits"
       ]
      },
      {
       "output_type": "stream",
       "stream": "stdout",
       "text": [
        " 0\n",
        "10feb10031red.fits"
       ]
      },
      {
       "output_type": "stream",
       "stream": "stdout",
       "text": [
        " 0\n",
        "10feb10032red.fits 0\n",
        "10feb10033red.fits"
       ]
      },
      {
       "output_type": "stream",
       "stream": "stdout",
       "text": [
        " 0\n",
        "11feb10013red.fits 0\n",
        "11feb10014red.fits"
       ]
      },
      {
       "output_type": "stream",
       "stream": "stdout",
       "text": [
        " 0\n",
        "11feb10015red.fits"
       ]
      },
      {
       "output_type": "stream",
       "stream": "stdout",
       "text": [
        " 0\n",
        "11feb10016red.fits 0\n",
        "11feb10017red.fits"
       ]
      },
      {
       "output_type": "stream",
       "stream": "stdout",
       "text": [
        " 0\n",
        "11feb10018red.fits 0\n",
        "11feb10021red.fits"
       ]
      },
      {
       "output_type": "stream",
       "stream": "stdout",
       "text": [
        " 1\n",
        "11feb10022red.fits"
       ]
      },
      {
       "output_type": "stream",
       "stream": "stdout",
       "text": [
        " 1\n",
        "11feb10023red.fits"
       ]
      },
      {
       "output_type": "stream",
       "stream": "stdout",
       "text": [
        " 1\n",
        "11feb10024red.fits"
       ]
      },
      {
       "output_type": "stream",
       "stream": "stdout",
       "text": [
        " 1\n",
        "11feb10025red.fits"
       ]
      },
      {
       "output_type": "stream",
       "stream": "stdout",
       "text": [
        " 1\n",
        "11feb10026red.fits"
       ]
      },
      {
       "output_type": "stream",
       "stream": "stdout",
       "text": [
        " 1\n",
        "11jan10028red.fits"
       ]
      },
      {
       "output_type": "stream",
       "stream": "stdout",
       "text": [
        " 0\n",
        "11jan10029red.fits 0\n",
        "11jan10030red.fits"
       ]
      },
      {
       "output_type": "stream",
       "stream": "stdout",
       "text": [
        " 0\n",
        "11jan10033red.fits 0\n",
        "11jan10034red.fits"
       ]
      },
      {
       "output_type": "stream",
       "stream": "stdout",
       "text": [
        " 0\n",
        "11jan10035red.fits 0\n",
        "11jan10038red.fits"
       ]
      },
      {
       "output_type": "stream",
       "stream": "stdout",
       "text": [
        " 0\n",
        "11jan10039red.fits 0\n",
        "11jan10040red.fits"
       ]
      },
      {
       "output_type": "stream",
       "stream": "stdout",
       "text": [
        " 0\n",
        "12jan10030red.fits 0\n",
        "12jan10031red.fits"
       ]
      },
      {
       "output_type": "stream",
       "stream": "stdout",
       "text": [
        " 0\n",
        "12jan10032red.fits 0\n",
        "17dec10039red.fits"
       ]
      },
      {
       "output_type": "stream",
       "stream": "stdout",
       "text": [
        " 0\n",
        "17dec10040red.fits"
       ]
      },
      {
       "output_type": "stream",
       "stream": "stdout",
       "text": [
        " 0\n",
        "17dec10041red.fits 0\n",
        "17dec10044red.fits"
       ]
      },
      {
       "output_type": "stream",
       "stream": "stdout",
       "text": [
        " 1\n",
        "17dec10045red.fits"
       ]
      },
      {
       "output_type": "stream",
       "stream": "stdout",
       "text": [
        " 1\n",
        "17dec10046red.fits"
       ]
      },
      {
       "output_type": "stream",
       "stream": "stdout",
       "text": [
        " 1\n",
        "18dec10030red.fits"
       ]
      },
      {
       "output_type": "stream",
       "stream": "stdout",
       "text": [
        " 0\n",
        "18dec10031red.fits 0\n",
        "18dec10032red.fits"
       ]
      },
      {
       "output_type": "stream",
       "stream": "stdout",
       "text": [
        " 0\n",
        "18dec10033red.fits 0\n",
        "Procesing RV "
       ]
      },
      {
       "output_type": "stream",
       "stream": "stdout",
       "text": [
        " 0\n",
        "RV 0.0\n",
        "Procesing RV  1\n",
        "RV -2828.4103751\n",
        "Procesing RV  2\n",
        "RV"
       ]
      },
      {
       "output_type": "stream",
       "stream": "stdout",
       "text": [
        " -2828.4103751\n",
        "Procesing RV  3\n",
        "RV -8485.31118048\n",
        "Procesing RV  4\n",
        "RV -11313.7482407\n",
        "Procesing RV  5\n",
        "RV"
       ]
      },
      {
       "output_type": "stream",
       "stream": "stdout",
       "text": [
        " -11313.7482407\n",
        "Procesing RV  6\n",
        "RV -11313.7482407\n",
        "Procesing RV  7\n",
        "RV -11313.7482407\n",
        "Procesing RV  8\n",
        "RV"
       ]
      },
      {
       "output_type": "stream",
       "stream": "stdout",
       "text": [
        " 585486.471454\n",
        "Procesing RV  9\n",
        "RV -11313.7482407\n",
        "Procesing RV  10\n",
        "RV -11313.7482407\n",
        "Procesing RV  11\n",
        "RV"
       ]
      },
      {
       "output_type": "stream",
       "stream": "stdout",
       "text": [
        " 1907374.32152\n",
        "Procesing RV  12\n",
        "RV 1904544.38929\n",
        "Procesing RV  13\n",
        "RV 1901714.45706\n",
        "Procesing RV  14\n",
        "RV"
       ]
      },
      {
       "output_type": "stream",
       "stream": "stdout",
       "text": [
        " -155562.570631\n",
        "Procesing RV  15\n",
        "RV 803268.546529\n",
        "Procesing RV  16\n",
        "RV -197988.726257\n",
        "Procesing RV  17\n",
        "RV"
       ]
      },
      {
       "output_type": "stream",
       "stream": "stdout",
       "text": [
        " -22627.2830008\n",
        "Procesing RV  18\n",
        "RV -22627.2830008\n",
        "Procesing RV  19\n",
        "RV -22627.2830008\n",
        "Procesing RV  20\n",
        "RV"
       ]
      },
      {
       "output_type": "stream",
       "stream": "stdout",
       "text": [
        " -22627.2830008\n",
        "Procesing RV  21\n",
        "RV -22627.2830008\n",
        "Procesing RV  22\n",
        "RV -22627.2830008\n",
        "Procesing RV  23\n",
        "RV"
       ]
      },
      {
       "output_type": "stream",
       "stream": "stdout",
       "text": [
        " -25455.6933759\n",
        "Procesing RV  24\n",
        "RV -25455.6933759\n",
        "Procesing RV  25\n",
        "RV -25455.6933759\n",
        "Procesing RV  26\n",
        "RV"
       ]
      },
      {
       "output_type": "stream",
       "stream": "stdout",
       "text": [
        " -25455.6933759\n",
        "Procesing RV  27\n",
        "RV -25455.6933759\n",
        "Procesing RV  28\n",
        "RV -25455.6933759\n",
        "07feb20022red.fits"
       ]
      },
      {
       "output_type": "stream",
       "stream": "stdout",
       "text": [
        " 1\n",
        "07feb20023red.fits"
       ]
      },
      {
       "output_type": "stream",
       "stream": "stdout",
       "text": [
        " 1\n",
        "07feb20024red.fits"
       ]
      },
      {
       "output_type": "stream",
       "stream": "stdout",
       "text": [
        " 1\n",
        "07feb20027red.fits"
       ]
      },
      {
       "output_type": "stream",
       "stream": "stdout",
       "text": [
        " 0\n",
        "07feb20028red.fits 0\n",
        "07feb20029red.fits"
       ]
      },
      {
       "output_type": "stream",
       "stream": "stdout",
       "text": [
        " 0\n",
        "07feb20030red.fits 0\n",
        "07feb20031red.fits"
       ]
      },
      {
       "output_type": "stream",
       "stream": "stdout",
       "text": [
        " 0\n",
        "07feb20032red.fits 0\n",
        "07jan20049red.fits"
       ]
      },
      {
       "output_type": "stream",
       "stream": "stdout",
       "text": [
        " 0\n",
        "07jan20050red.fits 0\n",
        "07jan20051red.fits"
       ]
      },
      {
       "output_type": "stream",
       "stream": "stdout",
       "text": [
        " 0\n",
        "07jan20054red.fits"
       ]
      },
      {
       "output_type": "stream",
       "stream": "stdout",
       "text": [
        " 1\n",
        "07jan20055red.fits"
       ]
      },
      {
       "output_type": "stream",
       "stream": "stdout",
       "text": [
        " 1\n",
        "07jan20056red.fits"
       ]
      },
      {
       "output_type": "stream",
       "stream": "stdout",
       "text": [
        " 1\n",
        "07jan20059red.fits"
       ]
      },
      {
       "output_type": "stream",
       "stream": "stdout",
       "text": [
        " 0\n",
        "07jan20060red.fits"
       ]
      },
      {
       "output_type": "stream",
       "stream": "stdout",
       "text": [
        " 0\n",
        "07jan20061red.fits"
       ]
      },
      {
       "output_type": "stream",
       "stream": "stdout",
       "text": [
        " 0\n",
        "07jan20064red.fits 1\n",
        "08feb20027red.fits"
       ]
      },
      {
       "output_type": "stream",
       "stream": "stdout",
       "text": [
        " 1\n",
        "08feb20028red.fits"
       ]
      },
      {
       "output_type": "stream",
       "stream": "stdout",
       "text": [
        " 1\n",
        "08feb20029red.fits"
       ]
      },
      {
       "output_type": "stream",
       "stream": "stdout",
       "text": [
        " 1\n",
        "08feb20032red.fits"
       ]
      },
      {
       "output_type": "stream",
       "stream": "stdout",
       "text": [
        " 0\n",
        "08feb20033red.fits"
       ]
      },
      {
       "output_type": "stream",
       "stream": "stdout",
       "text": [
        " 0\n",
        "08feb20034red.fits"
       ]
      },
      {
       "output_type": "stream",
       "stream": "stdout",
       "text": [
        " 0\n",
        "08feb20035red.fits"
       ]
      },
      {
       "output_type": "stream",
       "stream": "stdout",
       "text": [
        " 0\n",
        "08feb20036red.fits"
       ]
      },
      {
       "output_type": "stream",
       "stream": "stdout",
       "text": [
        " 0\n",
        "08feb20037red.fits"
       ]
      },
      {
       "output_type": "stream",
       "stream": "stdout",
       "text": [
        " 0\n",
        "09feb20029red.fits"
       ]
      },
      {
       "output_type": "stream",
       "stream": "stdout",
       "text": [
        " 0\n",
        "09feb20030red.fits"
       ]
      },
      {
       "output_type": "stream",
       "stream": "stdout",
       "text": [
        " 0\n",
        "09feb20031red.fits"
       ]
      },
      {
       "output_type": "stream",
       "stream": "stdout",
       "text": [
        " 0\n",
        "09feb20034red.fits 1\n",
        "09feb20035red.fits"
       ]
      },
      {
       "output_type": "stream",
       "stream": "stdout",
       "text": [
        " 1\n",
        "09feb20036red.fits"
       ]
      },
      {
       "output_type": "stream",
       "stream": "stdout",
       "text": [
        " 1\n",
        "09jan20026red.fits"
       ]
      },
      {
       "output_type": "stream",
       "stream": "stdout",
       "text": [
        " 0\n",
        "09jan20027red.fits"
       ]
      },
      {
       "output_type": "stream",
       "stream": "stdout",
       "text": [
        " 0\n",
        "09jan20030red.fits"
       ]
      },
      {
       "output_type": "stream",
       "stream": "stdout",
       "text": [
        " 1\n",
        "09jan20031red.fits"
       ]
      },
      {
       "output_type": "stream",
       "stream": "stdout",
       "text": [
        " 1\n",
        "09jan20032red.fits"
       ]
      },
      {
       "output_type": "stream",
       "stream": "stdout",
       "text": [
        " 1\n",
        "09jan20033red.fits"
       ]
      },
      {
       "output_type": "stream",
       "stream": "stdout",
       "text": [
        " 1\n",
        "09jan20036red.fits"
       ]
      },
      {
       "output_type": "stream",
       "stream": "stdout",
       "text": [
        " 0\n",
        "09jan20045red.fits"
       ]
      },
      {
       "output_type": "stream",
       "stream": "stdout",
       "text": [
        " 0\n",
        "09jan20048red.fits"
       ]
      },
      {
       "output_type": "stream",
       "stream": "stdout",
       "text": [
        " 1\n",
        "09jan20049red.fits"
       ]
      },
      {
       "output_type": "stream",
       "stream": "stdout",
       "text": [
        " 1\n",
        "09jan20050red.fits"
       ]
      },
      {
       "output_type": "stream",
       "stream": "stdout",
       "text": [
        " 1\n",
        "10feb20027red.fits"
       ]
      },
      {
       "output_type": "stream",
       "stream": "stdout",
       "text": [
        " 0\n",
        "10feb20028red.fits"
       ]
      },
      {
       "output_type": "stream",
       "stream": "stdout",
       "text": [
        " 0\n",
        "10feb20029red.fits"
       ]
      },
      {
       "output_type": "stream",
       "stream": "stdout",
       "text": [
        " 0\n",
        "10feb20030red.fits"
       ]
      },
      {
       "output_type": "stream",
       "stream": "stdout",
       "text": [
        " 0\n",
        "10feb20031red.fits 0\n",
        "10feb20032red.fits"
       ]
      },
      {
       "output_type": "stream",
       "stream": "stdout",
       "text": [
        " 0\n",
        "10feb20033red.fits"
       ]
      },
      {
       "output_type": "stream",
       "stream": "stdout",
       "text": [
        " 0\n",
        "11feb20013red.fits"
       ]
      },
      {
       "output_type": "stream",
       "stream": "stdout",
       "text": [
        " 0\n",
        "11feb20014red.fits 0\n",
        "11feb20015red.fits"
       ]
      },
      {
       "output_type": "stream",
       "stream": "stdout",
       "text": [
        " 0\n",
        "11feb20016red.fits"
       ]
      },
      {
       "output_type": "stream",
       "stream": "stdout",
       "text": [
        " 0\n",
        "11feb20017red.fits 0\n",
        "11feb20018red.fits"
       ]
      },
      {
       "output_type": "stream",
       "stream": "stdout",
       "text": [
        " 0\n",
        "11feb20021red.fits"
       ]
      },
      {
       "output_type": "stream",
       "stream": "stdout",
       "text": [
        " 1\n",
        "11feb20022red.fits"
       ]
      },
      {
       "output_type": "stream",
       "stream": "stdout",
       "text": [
        " 1\n",
        "11feb20023red.fits"
       ]
      },
      {
       "output_type": "stream",
       "stream": "stdout",
       "text": [
        " 1\n",
        "11feb20024red.fits"
       ]
      },
      {
       "output_type": "stream",
       "stream": "stdout",
       "text": [
        " 1\n",
        "11feb20025red.fits"
       ]
      },
      {
       "output_type": "stream",
       "stream": "stdout",
       "text": [
        " 1\n",
        "11feb20026red.fits"
       ]
      },
      {
       "output_type": "stream",
       "stream": "stdout",
       "text": [
        " 1\n",
        "11jan20028red.fits"
       ]
      },
      {
       "output_type": "stream",
       "stream": "stdout",
       "text": [
        " 0\n",
        "11jan20029red.fits 0\n",
        "11jan20030red.fits"
       ]
      },
      {
       "output_type": "stream",
       "stream": "stdout",
       "text": [
        " 0\n",
        "11jan20033red.fits 0\n",
        "11jan20034red.fits"
       ]
      },
      {
       "output_type": "stream",
       "stream": "stdout",
       "text": [
        " 0\n",
        "11jan20035red.fits"
       ]
      },
      {
       "output_type": "stream",
       "stream": "stdout",
       "text": [
        " 0\n",
        "11jan20038red.fits 0\n",
        "11jan20039red.fits"
       ]
      },
      {
       "output_type": "stream",
       "stream": "stdout",
       "text": [
        " 0\n",
        "11jan20040red.fits"
       ]
      },
      {
       "output_type": "stream",
       "stream": "stdout",
       "text": [
        " 0\n",
        "12jan20030red.fits 0\n",
        "12jan20031red.fits"
       ]
      },
      {
       "output_type": "stream",
       "stream": "stdout",
       "text": [
        " 0\n",
        "12jan20032red.fits"
       ]
      },
      {
       "output_type": "stream",
       "stream": "stdout",
       "text": [
        " 0\n",
        "17dec20039red.fits 0\n",
        "17dec20040red.fits"
       ]
      },
      {
       "output_type": "stream",
       "stream": "stdout",
       "text": [
        " 0\n",
        "17dec20041red.fits"
       ]
      },
      {
       "output_type": "stream",
       "stream": "stdout",
       "text": [
        " 0\n",
        "17dec20044red.fits 1\n",
        "17dec20045red.fits"
       ]
      },
      {
       "output_type": "stream",
       "stream": "stdout",
       "text": [
        " 1\n",
        "17dec20046red.fits"
       ]
      },
      {
       "output_type": "stream",
       "stream": "stdout",
       "text": [
        " 1\n",
        "18dec20030red.fits"
       ]
      },
      {
       "output_type": "stream",
       "stream": "stdout",
       "text": [
        " 0\n",
        "18dec20031red.fits 0\n",
        "18dec20032red.fits"
       ]
      },
      {
       "output_type": "stream",
       "stream": "stdout",
       "text": [
        " 0\n",
        "18dec20033red.fits 0\n",
        "Procesing RV "
       ]
      },
      {
       "output_type": "stream",
       "stream": "stdout",
       "text": [
        " 0\n",
        "RV 0.0\n",
        "Procesing RV  1\n",
        "RV 0.0\n",
        "Procesing RV  2\n",
        "RV"
       ]
      },
      {
       "output_type": "stream",
       "stream": "stdout",
       "text": [
        " -2845.47152359\n",
        "Procesing RV  3\n",
        "RV 14227.7627453\n",
        "Procesing RV  4\n",
        "RV 14227.7627453\n",
        "Procesing RV  5\n",
        "RV"
       ]
      },
      {
       "output_type": "stream",
       "stream": "stdout",
       "text": [
        " 14227.7627453\n",
        "Procesing RV  6\n",
        "RV 14227.6277002\n",
        "Procesing RV  7\n",
        "RV -2845.49853156\n",
        "Procesing RV  8\n",
        "RV"
       ]
      },
      {
       "output_type": "stream",
       "stream": "stdout",
       "text": [
        " -2845.49853156\n",
        "Procesing RV  9\n",
        "RV -2845.49853156\n",
        "Procesing RV  10\n",
        "RV -2845.49853156\n",
        "Procesing RV  11\n",
        "RV"
       ]
      },
      {
       "output_type": "stream",
       "stream": "stdout",
       "text": [
        " -2845.49853156\n",
        "Procesing RV  12\n",
        "RV -2845.49853156\n",
        "Procesing RV  13\n",
        "RV 14227.6277002\n",
        "Procesing RV  14\n",
        "RV"
       ]
      },
      {
       "output_type": "stream",
       "stream": "stdout",
       "text": [
        " 14227.6277002\n",
        "Procesing RV  15\n",
        "RV 14227.6277002\n",
        "Procesing RV  16\n",
        "RV 14227.6277002\n",
        "Procesing RV  17\n",
        "empty after removing zeros"
       ]
      },
      {
       "output_type": "stream",
       "stream": "stdout",
       "text": [
        "\n",
        "RV 0\n",
        "Procesing RV  18\n",
        "empty after removing zeros\n",
        "RV 0\n",
        "Procesing RV  19\n",
        "empty after removing zeros"
       ]
      },
      {
       "output_type": "stream",
       "stream": "stdout",
       "text": [
        "\n",
        "RV 0\n",
        "Procesing RV  20\n",
        "RV -2845.49853156\n",
        "Procesing RV  21\n",
        "RV -2845.49853156\n",
        "Procesing RV  22\n",
        "RV"
       ]
      },
      {
       "output_type": "stream",
       "stream": "stdout",
       "text": [
        " -2845.49853156\n",
        "Procesing RV  23\n",
        "RV -2845.49853156\n",
        "Procesing RV  24\n",
        "RV -2845.49853156\n",
        "Procesing RV  25\n",
        "RV"
       ]
      },
      {
       "output_type": "stream",
       "stream": "stdout",
       "text": [
        " -2845.49853156\n",
        "Procesing RV  26\n",
        "RV 22764.2043204\n",
        "Procesing RV  27\n",
        "RV 22764.2043204\n",
        "Procesing RV  28\n",
        "RV"
       ]
      },
      {
       "output_type": "stream",
       "stream": "stdout",
       "text": [
        " 22764.2043204\n",
        "07feb30022red.fits"
       ]
      },
      {
       "output_type": "stream",
       "stream": "stdout",
       "text": [
        " 1\n",
        "07feb30023red.fits"
       ]
      },
      {
       "output_type": "stream",
       "stream": "stdout",
       "text": [
        " 1\n",
        "07feb30024red.fits"
       ]
      },
      {
       "output_type": "stream",
       "stream": "stdout",
       "text": [
        " 1\n",
        "07feb30027red.fits"
       ]
      },
      {
       "output_type": "stream",
       "stream": "stdout",
       "text": [
        " 0\n",
        "07feb30028red.fits 0\n",
        "07feb30029red.fits"
       ]
      },
      {
       "output_type": "stream",
       "stream": "stdout",
       "text": [
        " 0\n",
        "07feb30030red.fits 0\n",
        "07feb30031red.fits"
       ]
      },
      {
       "output_type": "stream",
       "stream": "stdout",
       "text": [
        " 0\n",
        "07feb30032red.fits 0\n",
        "07jan30049red.fits"
       ]
      },
      {
       "output_type": "stream",
       "stream": "stdout",
       "text": [
        " 0\n",
        "07jan30050red.fits 0\n",
        "07jan30051red.fits"
       ]
      },
      {
       "output_type": "stream",
       "stream": "stdout",
       "text": [
        " 0\n",
        "07jan30054red.fits"
       ]
      },
      {
       "output_type": "stream",
       "stream": "stdout",
       "text": [
        " 1\n",
        "07jan30055red.fits"
       ]
      },
      {
       "output_type": "stream",
       "stream": "stdout",
       "text": [
        " 1\n",
        "07jan30056red.fits"
       ]
      },
      {
       "output_type": "stream",
       "stream": "stdout",
       "text": [
        " 1\n",
        "07jan30059red.fits"
       ]
      },
      {
       "output_type": "stream",
       "stream": "stdout",
       "text": [
        " 0\n",
        "07jan30060red.fits"
       ]
      },
      {
       "output_type": "stream",
       "stream": "stdout",
       "text": [
        " 0\n",
        "07jan30061red.fits"
       ]
      },
      {
       "output_type": "stream",
       "stream": "stdout",
       "text": [
        " 0\n",
        "07jan30064red.fits 1\n",
        "08feb30027red.fits"
       ]
      },
      {
       "output_type": "stream",
       "stream": "stdout",
       "text": [
        " 1\n",
        "08feb30028red.fits"
       ]
      },
      {
       "output_type": "stream",
       "stream": "stdout",
       "text": [
        " 1\n",
        "08feb30029red.fits"
       ]
      },
      {
       "output_type": "stream",
       "stream": "stdout",
       "text": [
        " 1\n",
        "08feb30032red.fits"
       ]
      },
      {
       "output_type": "stream",
       "stream": "stdout",
       "text": [
        " 0\n",
        "08feb30033red.fits 0\n",
        "08feb30034red.fits"
       ]
      },
      {
       "output_type": "stream",
       "stream": "stdout",
       "text": [
        " 0\n",
        "08feb30035red.fits 0\n",
        "08feb30036red.fits"
       ]
      },
      {
       "output_type": "stream",
       "stream": "stdout",
       "text": [
        " 0\n",
        "08feb30037red.fits 0\n",
        "09feb30029red.fits"
       ]
      },
      {
       "output_type": "stream",
       "stream": "stdout",
       "text": [
        " 0\n",
        "09feb30030red.fits"
       ]
      },
      {
       "output_type": "stream",
       "stream": "stdout",
       "text": [
        " 0\n",
        "09feb30031red.fits 0\n",
        "09feb30034red.fits"
       ]
      },
      {
       "output_type": "stream",
       "stream": "stdout",
       "text": [
        " 1\n",
        "09feb30035red.fits"
       ]
      },
      {
       "output_type": "stream",
       "stream": "stdout",
       "text": [
        " 1\n",
        "09feb30036red.fits"
       ]
      },
      {
       "output_type": "stream",
       "stream": "stdout",
       "text": [
        " 1\n",
        "09jan30026red.fits"
       ]
      },
      {
       "output_type": "stream",
       "stream": "stdout",
       "text": [
        " 0\n",
        "09jan30027red.fits"
       ]
      },
      {
       "output_type": "stream",
       "stream": "stdout",
       "text": [
        " 0\n",
        "09jan30030red.fits 1\n",
        "09jan30031red.fits"
       ]
      },
      {
       "output_type": "stream",
       "stream": "stdout",
       "text": [
        " 1\n",
        "09jan30032red.fits"
       ]
      },
      {
       "output_type": "stream",
       "stream": "stdout",
       "text": [
        " 1\n",
        "09jan30033red.fits"
       ]
      },
      {
       "output_type": "stream",
       "stream": "stdout",
       "text": [
        " 1\n",
        "09jan30036red.fits"
       ]
      },
      {
       "output_type": "stream",
       "stream": "stdout",
       "text": [
        " 0\n",
        "09jan30045red.fits"
       ]
      },
      {
       "output_type": "stream",
       "stream": "stdout",
       "text": [
        " 0\n",
        "09jan30048red.fits"
       ]
      },
      {
       "output_type": "stream",
       "stream": "stdout",
       "text": [
        " 1\n",
        "09jan30049red.fits"
       ]
      },
      {
       "output_type": "stream",
       "stream": "stdout",
       "text": [
        " 1\n",
        "09jan30050red.fits"
       ]
      },
      {
       "output_type": "stream",
       "stream": "stdout",
       "text": [
        " 1\n",
        "10feb30027red.fits"
       ]
      },
      {
       "output_type": "stream",
       "stream": "stdout",
       "text": [
        " 0\n",
        "10feb30028red.fits 0\n",
        "10feb30029red.fits"
       ]
      },
      {
       "output_type": "stream",
       "stream": "stdout",
       "text": [
        " 0\n",
        "10feb30030red.fits 0\n",
        "10feb30031red.fits"
       ]
      },
      {
       "output_type": "stream",
       "stream": "stdout",
       "text": [
        " 0\n",
        "10feb30032red.fits 0\n",
        "10feb30033red.fits"
       ]
      },
      {
       "output_type": "stream",
       "stream": "stdout",
       "text": [
        " 0\n",
        "11feb30013red.fits"
       ]
      },
      {
       "output_type": "stream",
       "stream": "stdout",
       "text": [
        " 0\n",
        "11feb30014red.fits 0\n",
        "11feb30015red.fits"
       ]
      },
      {
       "output_type": "stream",
       "stream": "stdout",
       "text": [
        " 0\n",
        "11feb30016red.fits 0\n",
        "11feb30017red.fits"
       ]
      },
      {
       "output_type": "stream",
       "stream": "stdout",
       "text": [
        " 0\n",
        "11feb30018red.fits 0\n",
        "11feb30021red.fits"
       ]
      },
      {
       "output_type": "stream",
       "stream": "stdout",
       "text": [
        " 1\n",
        "11feb30022red.fits"
       ]
      },
      {
       "output_type": "stream",
       "stream": "stdout",
       "text": [
        " 1\n",
        "11feb30023red.fits"
       ]
      },
      {
       "output_type": "stream",
       "stream": "stdout",
       "text": [
        " 1\n",
        "11feb30024red.fits"
       ]
      },
      {
       "output_type": "stream",
       "stream": "stdout",
       "text": [
        " 1\n",
        "11feb30025red.fits"
       ]
      },
      {
       "output_type": "stream",
       "stream": "stdout",
       "text": [
        " 1\n",
        "11feb30026red.fits"
       ]
      },
      {
       "output_type": "stream",
       "stream": "stdout",
       "text": [
        " 1\n",
        "11jan30028red.fits"
       ]
      },
      {
       "output_type": "stream",
       "stream": "stdout",
       "text": [
        " 0\n",
        "11jan30029red.fits 0\n",
        "11jan30030red.fits"
       ]
      },
      {
       "output_type": "stream",
       "stream": "stdout",
       "text": [
        " 0\n",
        "11jan30033red.fits"
       ]
      },
      {
       "output_type": "stream",
       "stream": "stdout",
       "text": [
        " 0\n",
        "11jan30034red.fits 0\n",
        "11jan30035red.fits"
       ]
      },
      {
       "output_type": "stream",
       "stream": "stdout",
       "text": [
        " 0\n",
        "11jan30038red.fits 0\n",
        "11jan30039red.fits"
       ]
      },
      {
       "output_type": "stream",
       "stream": "stdout",
       "text": [
        " 0\n",
        "11jan30040red.fits"
       ]
      },
      {
       "output_type": "stream",
       "stream": "stdout",
       "text": [
        " 0\n",
        "12jan30030red.fits 0\n",
        "12jan30031red.fits"
       ]
      },
      {
       "output_type": "stream",
       "stream": "stdout",
       "text": [
        " 0\n",
        "12jan30032red.fits 0\n",
        "17dec30039red.fits"
       ]
      },
      {
       "output_type": "stream",
       "stream": "stdout",
       "text": [
        " 0\n",
        "17dec30040red.fits 0\n",
        "17dec30041red.fits"
       ]
      },
      {
       "output_type": "stream",
       "stream": "stdout",
       "text": [
        " 0\n",
        "17dec30044red.fits 1\n",
        "17dec30045red.fits"
       ]
      },
      {
       "output_type": "stream",
       "stream": "stdout",
       "text": [
        " 1\n",
        "17dec30046red.fits"
       ]
      },
      {
       "output_type": "stream",
       "stream": "stdout",
       "text": [
        " 1\n",
        "18dec30030red.fits"
       ]
      },
      {
       "output_type": "stream",
       "stream": "stdout",
       "text": [
        " 0\n",
        "18dec30031red.fits"
       ]
      },
      {
       "output_type": "stream",
       "stream": "stdout",
       "text": [
        " 0\n",
        "18dec30032red.fits 0\n",
        "18dec30033red.fits"
       ]
      },
      {
       "output_type": "stream",
       "stream": "stdout",
       "text": [
        " 0\n",
        "Procesing RV  0\n",
        "RV"
       ]
      },
      {
       "output_type": "stream",
       "stream": "stdout",
       "text": [
        " 0.0\n",
        "Procesing RV  1\n",
        "RV 0.0\n",
        "Procesing RV  2\n",
        "RV -2847.53751906\n",
        "Procesing RV  3\n",
        "RV"
       ]
      },
      {
       "output_type": "stream",
       "stream": "stdout",
       "text": [
        " 96747.3550367\n",
        "Procesing RV  4\n",
        "RV 96747.3550367\n",
        "Procesing RV  5\n",
        "RV 96747.3550367\n",
        "Procesing RV  6\n",
        "RV"
       ]
      },
      {
       "output_type": "stream",
       "stream": "stdout",
       "text": [
        " 93901.8445945\n",
        "Procesing RV  7\n",
        "RV 82519.0195879\n",
        "Procesing RV  8\n",
        "RV 79673.5361538\n",
        "Procesing RV  9\n",
        "RV"
       ]
      },
      {
       "output_type": "stream",
       "stream": "stdout",
       "text": [
        " 82519.0195879\n",
        "Procesing RV  10\n",
        "RV -14237.2819026\n",
        "Procesing RV  11\n",
        "RV -14237.2819026\n",
        "Procesing RV  12\n",
        "RV"
       ]
      },
      {
       "output_type": "stream",
       "stream": "stdout",
       "text": [
        " -14237.2819026\n",
        "Procesing RV  13\n",
        "RV 93901.8445945\n",
        "Procesing RV  14\n",
        "RV -2700389.4097\n",
        "Procesing RV  15\n",
        "RV"
       ]
      },
      {
       "output_type": "stream",
       "stream": "stdout",
       "text": [
        " 93901.8445945\n",
        "Procesing RV  16\n",
        "RV 93901.8445945\n",
        "Procesing RV  17\n",
        "empty after removing zeros\n",
        "RV 0\n",
        "Procesing RV  18\n",
        "empty after removing zeros"
       ]
      },
      {
       "output_type": "stream",
       "stream": "stdout",
       "text": [
        "\n",
        "RV 0\n",
        "Procesing RV  19\n",
        "empty after removing zeros\n",
        "RV 0\n",
        "Procesing RV  20\n",
        "RV"
       ]
      },
      {
       "output_type": "stream",
       "stream": "stdout",
       "text": [
        " 79673.5361538\n",
        "Procesing RV  21\n",
        "RV 79673.5361538\n",
        "Procesing RV  22\n",
        "RV 79673.5361538\n",
        "Procesing RV  23\n",
        "RV"
       ]
      },
      {
       "output_type": "stream",
       "stream": "stdout",
       "text": [
        " 79673.5361538\n",
        "Procesing RV  24\n",
        "RV 79673.5361538\n",
        "Procesing RV  25\n",
        "RV 79673.5361538\n",
        "Procesing RV  26\n",
        "RV"
       ]
      },
      {
       "output_type": "stream",
       "stream": "stdout",
       "text": [
        " 105282.88706\n",
        "Procesing RV  27\n",
        "RV 105282.88706\n",
        "Procesing RV  28\n",
        "RV 105282.88706\n",
        "07feb40022red.fits"
       ]
      },
      {
       "output_type": "stream",
       "stream": "stdout",
       "text": [
        " 1\n",
        "07feb40023red.fits"
       ]
      },
      {
       "output_type": "stream",
       "stream": "stdout",
       "text": [
        " 1\n",
        "07feb40024red.fits"
       ]
      },
      {
       "output_type": "stream",
       "stream": "stdout",
       "text": [
        " 1\n",
        "07feb40027red.fits"
       ]
      },
      {
       "output_type": "stream",
       "stream": "stdout",
       "text": [
        " 0\n",
        "07feb40028red.fits 0\n",
        "07feb40029red.fits"
       ]
      },
      {
       "output_type": "stream",
       "stream": "stdout",
       "text": [
        " 0\n",
        "07feb40030red.fits 0\n",
        "07feb40031red.fits"
       ]
      },
      {
       "output_type": "stream",
       "stream": "stdout",
       "text": [
        " 0\n",
        "07feb40032red.fits 0\n",
        "07jan40049red.fits"
       ]
      },
      {
       "output_type": "stream",
       "stream": "stdout",
       "text": [
        " 0\n",
        "07jan40050red.fits"
       ]
      },
      {
       "output_type": "stream",
       "stream": "stdout",
       "text": [
        " 0\n",
        "07jan40051red.fits 0\n",
        "07jan40054red.fits"
       ]
      },
      {
       "output_type": "stream",
       "stream": "stdout",
       "text": [
        " 1\n",
        "07jan40055red.fits"
       ]
      },
      {
       "output_type": "stream",
       "stream": "stdout",
       "text": [
        " 1\n",
        "07jan40056red.fits"
       ]
      },
      {
       "output_type": "stream",
       "stream": "stdout",
       "text": [
        " 1\n",
        "07jan40059red.fits"
       ]
      },
      {
       "output_type": "stream",
       "stream": "stdout",
       "text": [
        " 0\n",
        "07jan40060red.fits 0\n",
        "07jan40061red.fits"
       ]
      },
      {
       "output_type": "stream",
       "stream": "stdout",
       "text": [
        " 0\n",
        "07jan40064red.fits 1\n",
        "08feb40027red.fits"
       ]
      },
      {
       "output_type": "stream",
       "stream": "stdout",
       "text": [
        " 1\n",
        "08feb40028red.fits"
       ]
      },
      {
       "output_type": "stream",
       "stream": "stdout",
       "text": [
        " 1\n",
        "08feb40029red.fits"
       ]
      },
      {
       "output_type": "stream",
       "stream": "stdout",
       "text": [
        " 1\n",
        "08feb40032red.fits"
       ]
      },
      {
       "output_type": "stream",
       "stream": "stdout",
       "text": [
        " 0\n",
        "08feb40033red.fits 0\n",
        "08feb40034red.fits"
       ]
      },
      {
       "output_type": "stream",
       "stream": "stdout",
       "text": [
        " 0\n",
        "08feb40035red.fits"
       ]
      },
      {
       "output_type": "stream",
       "stream": "stdout",
       "text": [
        " 0\n",
        "08feb40036red.fits 0\n",
        "08feb40037red.fits"
       ]
      },
      {
       "output_type": "stream",
       "stream": "stdout",
       "text": [
        " 0\n",
        "09feb40029red.fits 0\n",
        "09feb40030red.fits"
       ]
      },
      {
       "output_type": "stream",
       "stream": "stdout",
       "text": [
        " 0\n",
        "09feb40031red.fits 0\n",
        "09feb40034red.fits"
       ]
      },
      {
       "output_type": "stream",
       "stream": "stdout",
       "text": [
        " 1\n",
        "09feb40035red.fits"
       ]
      },
      {
       "output_type": "stream",
       "stream": "stdout",
       "text": [
        " 1\n",
        "09feb40036red.fits"
       ]
      },
      {
       "output_type": "stream",
       "stream": "stdout",
       "text": [
        " 1\n",
        "09jan40026red.fits"
       ]
      },
      {
       "output_type": "stream",
       "stream": "stdout",
       "text": [
        " 0\n",
        "09jan40027red.fits 0\n",
        "09jan40030red.fits"
       ]
      },
      {
       "output_type": "stream",
       "stream": "stdout",
       "text": [
        " 1\n",
        "09jan40031red.fits"
       ]
      },
      {
       "output_type": "stream",
       "stream": "stdout",
       "text": [
        " 1\n",
        "09jan40032red.fits"
       ]
      },
      {
       "output_type": "stream",
       "stream": "stdout",
       "text": [
        " 1\n",
        "09jan40033red.fits"
       ]
      },
      {
       "output_type": "stream",
       "stream": "stdout",
       "text": [
        " 1\n",
        "09jan40036red.fits"
       ]
      },
      {
       "output_type": "stream",
       "stream": "stdout",
       "text": [
        " 0\n",
        "09jan40045red.fits"
       ]
      },
      {
       "output_type": "stream",
       "stream": "stdout",
       "text": [
        " 0\n",
        "09jan40048red.fits"
       ]
      },
      {
       "output_type": "stream",
       "stream": "stdout",
       "text": [
        " 1\n",
        "09jan40049red.fits"
       ]
      },
      {
       "output_type": "stream",
       "stream": "stdout",
       "text": [
        " 1\n",
        "09jan40050red.fits"
       ]
      },
      {
       "output_type": "stream",
       "stream": "stdout",
       "text": [
        " 1\n",
        "10feb40027red.fits"
       ]
      },
      {
       "output_type": "stream",
       "stream": "stdout",
       "text": [
        " 0\n",
        "10feb40028red.fits 0\n",
        "10feb40029red.fits"
       ]
      },
      {
       "output_type": "stream",
       "stream": "stdout",
       "text": [
        " 0\n",
        "10feb40030red.fits"
       ]
      },
      {
       "output_type": "stream",
       "stream": "stdout",
       "text": [
        " 0\n",
        "10feb40031red.fits 0\n",
        "10feb40032red.fits"
       ]
      },
      {
       "output_type": "stream",
       "stream": "stdout",
       "text": [
        " 0\n",
        "10feb40033red.fits"
       ]
      },
      {
       "output_type": "stream",
       "stream": "stdout",
       "text": [
        " 0\n",
        "11feb40013red.fits"
       ]
      },
      {
       "output_type": "stream",
       "stream": "stdout",
       "text": [
        " 0\n",
        "11feb40014red.fits"
       ]
      },
      {
       "output_type": "stream",
       "stream": "stdout",
       "text": [
        " 0\n",
        "11feb40015red.fits"
       ]
      },
      {
       "output_type": "stream",
       "stream": "stdout",
       "text": [
        " 0\n",
        "11feb40016red.fits"
       ]
      },
      {
       "output_type": "stream",
       "stream": "stdout",
       "text": [
        " 0\n",
        "11feb40017red.fits"
       ]
      },
      {
       "output_type": "stream",
       "stream": "stdout",
       "text": [
        " 0\n",
        "11feb40018red.fits"
       ]
      },
      {
       "output_type": "stream",
       "stream": "stdout",
       "text": [
        " 0\n",
        "11feb40021red.fits"
       ]
      },
      {
       "output_type": "stream",
       "stream": "stdout",
       "text": [
        " 1\n",
        "11feb40022red.fits"
       ]
      },
      {
       "output_type": "stream",
       "stream": "stdout",
       "text": [
        " 1\n",
        "11feb40023red.fits"
       ]
      },
      {
       "output_type": "stream",
       "stream": "stdout",
       "text": [
        " 1\n",
        "11feb40024red.fits"
       ]
      },
      {
       "output_type": "stream",
       "stream": "stdout",
       "text": [
        " 1\n",
        "11feb40025red.fits"
       ]
      },
      {
       "output_type": "stream",
       "stream": "stdout",
       "text": [
        " 1\n",
        "11feb40026red.fits"
       ]
      },
      {
       "output_type": "stream",
       "stream": "stdout",
       "text": [
        " 1\n",
        "11jan40028red.fits"
       ]
      },
      {
       "output_type": "stream",
       "stream": "stdout",
       "text": [
        " 0\n",
        "11jan40029red.fits"
       ]
      },
      {
       "output_type": "stream",
       "stream": "stdout",
       "text": [
        " 0\n",
        "11jan40030red.fits 0\n",
        "11jan40033red.fits"
       ]
      },
      {
       "output_type": "stream",
       "stream": "stdout",
       "text": [
        " 0\n",
        "11jan40034red.fits 0\n",
        "11jan40035red.fits"
       ]
      },
      {
       "output_type": "stream",
       "stream": "stdout",
       "text": [
        " 0\n",
        "11jan40038red.fits 0\n",
        "11jan40039red.fits"
       ]
      },
      {
       "output_type": "stream",
       "stream": "stdout",
       "text": [
        " 0\n",
        "11jan40040red.fits 0\n",
        "12jan40030red.fits"
       ]
      },
      {
       "output_type": "stream",
       "stream": "stdout",
       "text": [
        " 0\n",
        "12jan40031red.fits 0\n",
        "12jan40032red.fits"
       ]
      },
      {
       "output_type": "stream",
       "stream": "stdout",
       "text": [
        " 0\n",
        "17dec40039red.fits 0\n",
        "17dec40040red.fits"
       ]
      },
      {
       "output_type": "stream",
       "stream": "stdout",
       "text": [
        " 0\n",
        "17dec40041red.fits"
       ]
      },
      {
       "output_type": "stream",
       "stream": "stdout",
       "text": [
        " 0\n",
        "17dec40044red.fits 1\n",
        "17dec40045red.fits"
       ]
      },
      {
       "output_type": "stream",
       "stream": "stdout",
       "text": [
        " 1\n",
        "17dec40046red.fits"
       ]
      },
      {
       "output_type": "stream",
       "stream": "stdout",
       "text": [
        " 1\n",
        "18dec40030red.fits"
       ]
      },
      {
       "output_type": "stream",
       "stream": "stdout",
       "text": [
        " 0\n",
        "18dec40031red.fits 0\n",
        "18dec40032red.fits"
       ]
      },
      {
       "output_type": "stream",
       "stream": "stdout",
       "text": [
        " 0\n",
        "18dec40033red.fits 0\n",
        "Procesing RV "
       ]
      },
      {
       "output_type": "stream",
       "stream": "stdout",
       "text": [
        " 0\n",
        "RV 0.0\n",
        "Procesing RV  1\n",
        "RV 0.0\n",
        "Procesing RV  2\n",
        "RV"
       ]
      },
      {
       "output_type": "stream",
       "stream": "stdout",
       "text": [
        " 0.0\n",
        "Procesing RV  3\n",
        "RV 0.0\n",
        "Procesing RV  4\n",
        "RV 0.0\n",
        "Procesing RV  5\n",
        "RV"
       ]
      },
      {
       "output_type": "stream",
       "stream": "stdout",
       "text": [
        " 0.0\n",
        "Procesing RV  6\n",
        "RV 0.0\n",
        "Procesing RV  7\n",
        "RV 0.0\n",
        "Procesing RV  8\n",
        "RV"
       ]
      },
      {
       "output_type": "stream",
       "stream": "stdout",
       "text": [
        " 0.0\n",
        "Procesing RV  9\n",
        "RV 0.0\n",
        "Procesing RV  10\n",
        "RV 0.0\n",
        "Procesing RV  11\n",
        "RV"
       ]
      },
      {
       "output_type": "stream",
       "stream": "stdout",
       "text": [
        " 0.0\n",
        "Procesing RV  12\n",
        "RV 0.0\n",
        "Procesing RV  13\n",
        "RV 0.0\n",
        "Procesing RV  14\n",
        "RV"
       ]
      },
      {
       "output_type": "stream",
       "stream": "stdout",
       "text": [
        " 0.0\n",
        "Procesing RV  15\n",
        "RV -2851.72450707\n",
        "Procesing RV  16\n",
        "RV -2851.72450707\n",
        "Procesing RV  17\n",
        "RV"
       ]
      },
      {
       "output_type": "stream",
       "stream": "stdout",
       "text": [
        " 957851.424053\n",
        "Procesing RV  18\n",
        "RV 952149.927482\n",
        "Procesing RV  19\n",
        "RV 786806.526901\n",
        "Procesing RV  20\n",
        "RV"
       ]
      },
      {
       "output_type": "stream",
       "stream": "stdout",
       "text": [
        " -2851.69738079\n",
        "Procesing RV  21\n",
        "RV -2851.69738079\n",
        "Procesing RV  22\n",
        "RV -2851.69738079\n",
        "Procesing RV  23\n",
        "RV"
       ]
      },
      {
       "output_type": "stream",
       "stream": "stdout",
       "text": [
        " -2851.69738079\n",
        "Procesing RV  24\n",
        "RV -2851.69738079\n",
        "Procesing RV  25\n",
        "RV -2851.69738079\n",
        "Procesing RV  26\n",
        "RV"
       ]
      },
      {
       "output_type": "stream",
       "stream": "stdout",
       "text": [
        " 0.0\n",
        "Procesing RV  27\n",
        "RV 0.0\n",
        "Procesing RV  28\n",
        "RV 0.0\n",
        "M67-S82"
       ]
      },
      {
       "output_type": "stream",
       "stream": "stdout",
       "text": [
        "\n",
        "07feb10022red.fits"
       ]
      },
      {
       "output_type": "stream",
       "stream": "stdout",
       "text": [
        " 1\n",
        "07feb10023red.fits"
       ]
      },
      {
       "output_type": "stream",
       "stream": "stdout",
       "text": [
        " 1\n",
        "07feb10024red.fits"
       ]
      },
      {
       "output_type": "stream",
       "stream": "stdout",
       "text": [
        " 1\n",
        "07feb10027red.fits"
       ]
      },
      {
       "output_type": "stream",
       "stream": "stdout",
       "text": [
        " 0\n",
        "07feb10028red.fits 0\n",
        "07feb10029red.fits"
       ]
      },
      {
       "output_type": "stream",
       "stream": "stdout",
       "text": [
        " 0\n",
        "07feb10030red.fits 0\n",
        "07feb10031red.fits"
       ]
      },
      {
       "output_type": "stream",
       "stream": "stdout",
       "text": [
        " 0\n",
        "07feb10032red.fits"
       ]
      },
      {
       "output_type": "stream",
       "stream": "stdout",
       "text": [
        " 0\n",
        "07jan10049red.fits 0\n",
        "07jan10050red.fits"
       ]
      },
      {
       "output_type": "stream",
       "stream": "stdout",
       "text": [
        " 0\n",
        "07jan10051red.fits"
       ]
      },
      {
       "output_type": "stream",
       "stream": "stdout",
       "text": [
        " 0\n",
        "07jan10054red.fits"
       ]
      },
      {
       "output_type": "stream",
       "stream": "stdout",
       "text": [
        " 1\n",
        "07jan10055red.fits"
       ]
      },
      {
       "output_type": "stream",
       "stream": "stdout",
       "text": [
        " 1\n",
        "07jan10056red.fits"
       ]
      },
      {
       "output_type": "stream",
       "stream": "stdout",
       "text": [
        " 1\n",
        "07jan10059red.fits"
       ]
      },
      {
       "output_type": "stream",
       "stream": "stdout",
       "text": [
        " 0\n",
        "07jan10060red.fits 0\n",
        "07jan10061red.fits"
       ]
      },
      {
       "output_type": "stream",
       "stream": "stdout",
       "text": [
        " 0\n",
        "07jan10064red.fits 1\n",
        "08feb10027red.fits"
       ]
      },
      {
       "output_type": "stream",
       "stream": "stdout",
       "text": [
        " 1\n",
        "08feb10028red.fits"
       ]
      },
      {
       "output_type": "stream",
       "stream": "stdout",
       "text": [
        " 1\n",
        "08feb10029red.fits"
       ]
      },
      {
       "output_type": "stream",
       "stream": "stdout",
       "text": [
        " 1\n",
        "08feb10032red.fits"
       ]
      },
      {
       "output_type": "stream",
       "stream": "stdout",
       "text": [
        " 0\n",
        "08feb10033red.fits 0\n",
        "08feb10034red.fits"
       ]
      },
      {
       "output_type": "stream",
       "stream": "stdout",
       "text": [
        " 0\n",
        "08feb10035red.fits 0\n",
        "08feb10036red.fits"
       ]
      },
      {
       "output_type": "stream",
       "stream": "stdout",
       "text": [
        " 0\n",
        "08feb10037red.fits 0\n",
        "09feb10029red.fits"
       ]
      },
      {
       "output_type": "stream",
       "stream": "stdout",
       "text": [
        " 0\n",
        "09feb10030red.fits 0\n",
        "09feb10031red.fits"
       ]
      },
      {
       "output_type": "stream",
       "stream": "stdout",
       "text": [
        " 0\n",
        "09feb10034red.fits 1\n",
        "09feb10035red.fits"
       ]
      },
      {
       "output_type": "stream",
       "stream": "stdout",
       "text": [
        " 1\n",
        "09feb10036red.fits"
       ]
      },
      {
       "output_type": "stream",
       "stream": "stdout",
       "text": [
        " 1\n",
        "09jan10026red.fits"
       ]
      },
      {
       "output_type": "stream",
       "stream": "stdout",
       "text": [
        " 0\n",
        "09jan10027red.fits 0\n",
        "09jan10030red.fits"
       ]
      },
      {
       "output_type": "stream",
       "stream": "stdout",
       "text": [
        " 1\n",
        "09jan10031red.fits"
       ]
      },
      {
       "output_type": "stream",
       "stream": "stdout",
       "text": [
        " 1\n",
        "09jan10032red.fits"
       ]
      },
      {
       "output_type": "stream",
       "stream": "stdout",
       "text": [
        " 1\n",
        "09jan10033red.fits"
       ]
      },
      {
       "output_type": "stream",
       "stream": "stdout",
       "text": [
        " 1\n",
        "09jan10036red.fits"
       ]
      },
      {
       "output_type": "stream",
       "stream": "stdout",
       "text": [
        " 0\n",
        "09jan10045red.fits 0\n",
        "09jan10048red.fits"
       ]
      },
      {
       "output_type": "stream",
       "stream": "stdout",
       "text": [
        " 1\n",
        "09jan10049red.fits"
       ]
      },
      {
       "output_type": "stream",
       "stream": "stdout",
       "text": [
        " 1\n",
        "09jan10050red.fits"
       ]
      },
      {
       "output_type": "stream",
       "stream": "stdout",
       "text": [
        " 1\n",
        "10feb10027red.fits"
       ]
      },
      {
       "output_type": "stream",
       "stream": "stdout",
       "text": [
        " 0\n",
        "10feb10028red.fits"
       ]
      },
      {
       "output_type": "stream",
       "stream": "stdout",
       "text": [
        " 0\n",
        "10feb10029red.fits 0\n",
        "10feb10030red.fits"
       ]
      },
      {
       "output_type": "stream",
       "stream": "stdout",
       "text": [
        " 0\n",
        "10feb10031red.fits 0\n",
        "10feb10032red.fits"
       ]
      },
      {
       "output_type": "stream",
       "stream": "stdout",
       "text": [
        " 0\n",
        "10feb10033red.fits"
       ]
      },
      {
       "output_type": "stream",
       "stream": "stdout",
       "text": [
        " 0\n",
        "11feb10013red.fits"
       ]
      },
      {
       "output_type": "stream",
       "stream": "stdout",
       "text": [
        " 0\n",
        "11feb10014red.fits 0\n",
        "11feb10015red.fits"
       ]
      },
      {
       "output_type": "stream",
       "stream": "stdout",
       "text": [
        " 0\n",
        "11feb10016red.fits 0\n",
        "11feb10017red.fits"
       ]
      },
      {
       "output_type": "stream",
       "stream": "stdout",
       "text": [
        " 0\n",
        "11feb10018red.fits 0\n",
        "11feb10021red.fits"
       ]
      },
      {
       "output_type": "stream",
       "stream": "stdout",
       "text": [
        " 1\n",
        "11feb10022red.fits"
       ]
      },
      {
       "output_type": "stream",
       "stream": "stdout",
       "text": [
        " 1\n",
        "11feb10023red.fits"
       ]
      },
      {
       "output_type": "stream",
       "stream": "stdout",
       "text": [
        " 1\n",
        "11feb10024red.fits"
       ]
      },
      {
       "output_type": "stream",
       "stream": "stdout",
       "text": [
        " 1\n",
        "11feb10025red.fits"
       ]
      },
      {
       "output_type": "stream",
       "stream": "stdout",
       "text": [
        " 1\n",
        "11feb10026red.fits"
       ]
      },
      {
       "output_type": "stream",
       "stream": "stdout",
       "text": [
        " 1\n",
        "11jan10028red.fits"
       ]
      },
      {
       "output_type": "stream",
       "stream": "stdout",
       "text": [
        " 0\n",
        "11jan10029red.fits 0\n",
        "11jan10030red.fits"
       ]
      },
      {
       "output_type": "stream",
       "stream": "stdout",
       "text": [
        " 0\n",
        "11jan10033red.fits 0\n",
        "11jan10034red.fits"
       ]
      },
      {
       "output_type": "stream",
       "stream": "stdout",
       "text": [
        " 0\n",
        "11jan10035red.fits 0\n",
        "11jan10038red.fits"
       ]
      },
      {
       "output_type": "stream",
       "stream": "stdout",
       "text": [
        " 0\n",
        "11jan10039red.fits 0\n",
        "11jan10040red.fits"
       ]
      },
      {
       "output_type": "stream",
       "stream": "stdout",
       "text": [
        " 0\n",
        "12jan10030red.fits 0\n",
        "12jan10031red.fits"
       ]
      },
      {
       "output_type": "stream",
       "stream": "stdout",
       "text": [
        " 0\n",
        "12jan10032red.fits 0\n",
        "17dec10039red.fits"
       ]
      },
      {
       "output_type": "stream",
       "stream": "stdout",
       "text": [
        " 0\n",
        "17dec10040red.fits 0\n",
        "17dec10041red.fits"
       ]
      },
      {
       "output_type": "stream",
       "stream": "stdout",
       "text": [
        " 0\n",
        "17dec10044red.fits 1\n",
        "17dec10045red.fits"
       ]
      },
      {
       "output_type": "stream",
       "stream": "stdout",
       "text": [
        " 1\n",
        "17dec10046red.fits"
       ]
      },
      {
       "output_type": "stream",
       "stream": "stdout",
       "text": [
        " 1\n",
        "18dec10030red.fits"
       ]
      },
      {
       "output_type": "stream",
       "stream": "stdout",
       "text": [
        " 0\n",
        "18dec10031red.fits"
       ]
      },
      {
       "output_type": "stream",
       "stream": "stdout",
       "text": [
        " 0\n",
        "18dec10032red.fits 0\n",
        "18dec10033red.fits"
       ]
      },
      {
       "output_type": "stream",
       "stream": "stdout",
       "text": [
        " 0\n",
        "Procesing RV  0\n",
        "RV"
       ]
      },
      {
       "output_type": "stream",
       "stream": "stdout",
       "text": [
        " 0.0\n",
        "Procesing RV  1\n",
        "RV -2828.4904318\n",
        "Procesing RV  2\n",
        "RV -2828.4904318\n",
        "Procesing RV  3\n",
        "RV"
       ]
      },
      {
       "output_type": "stream",
       "stream": "stdout",
       "text": [
        " -11313.9617272\n",
        "Procesing RV  4\n",
        "RV -11313.9617272\n",
        "Procesing RV  5\n",
        "RV -11313.9617272\n",
        "Procesing RV  6\n",
        "RV"
       ]
      },
      {
       "output_type": "stream",
       "stream": "stdout",
       "text": [
        " -14142.452159\n",
        "Procesing RV  7\n",
        "RV -14142.452159\n",
        "Procesing RV  8\n",
        "RV -2828.4904318\n",
        "Procesing RV  9\n",
        "RV"
       ]
      },
      {
       "output_type": "stream",
       "stream": "stdout",
       "text": [
        " -14142.452159\n",
        "Procesing RV  10\n",
        "RV -14142.452159\n",
        "Procesing RV  11\n",
        "empty after removing zeros\n",
        "RV 0\n",
        "Procesing RV  12\n",
        "empty after removing zeros"
       ]
      },
      {
       "output_type": "stream",
       "stream": "stdout",
       "text": [
        "\n",
        "RV 0\n",
        "Procesing RV  13\n",
        "empty after removing zeros\n",
        "RV 0\n",
        "Procesing RV  14\n",
        "RV 28282.2359376\n",
        "Procesing RV  15\n",
        "RV"
       ]
      },
      {
       "output_type": "stream",
       "stream": "stdout",
       "text": [
        " 28282.2359376\n",
        "Procesing RV  16\n",
        "RV 28282.2359376\n",
        "Procesing RV  17\n",
        "RV 28282.2359376\n",
        "Procesing RV  18\n",
        "RV"
       ]
      },
      {
       "output_type": "stream",
       "stream": "stdout",
       "text": [
        " 28282.2359376\n",
        "Procesing RV  19\n",
        "RV 28282.2359376\n",
        "Procesing RV  20\n",
        "RV"
       ]
      },
      {
       "output_type": "stream",
       "stream": "stdout",
       "text": [
        " 31110.4595313\n",
        "Procesing RV  21\n",
        "RV 31110.4595313\n",
        "Procesing RV  22\n",
        "RV"
       ]
      },
      {
       "output_type": "stream",
       "stream": "stdout",
       "text": [
        " 31110.4595313\n",
        "Procesing RV  23\n",
        "RV 25454.0123438\n",
        "Procesing RV  24\n",
        "RV 25454.0123438\n",
        "Procesing RV  25\n",
        "RV"
       ]
      },
      {
       "output_type": "stream",
       "stream": "stdout",
       "text": [
        " 25454.0123438\n",
        "Procesing RV  26\n",
        "RV 25454.0123438\n",
        "Procesing RV  27\n",
        "RV 25454.0123438\n",
        "Procesing RV  28\n",
        "RV"
       ]
      },
      {
       "output_type": "stream",
       "stream": "stdout",
       "text": [
        " 25454.0123438\n",
        "07feb20022red.fits"
       ]
      },
      {
       "output_type": "stream",
       "stream": "stdout",
       "text": [
        " 1\n",
        "07feb20023red.fits"
       ]
      },
      {
       "output_type": "stream",
       "stream": "stdout",
       "text": [
        " 1\n",
        "07feb20024red.fits"
       ]
      },
      {
       "output_type": "stream",
       "stream": "stdout",
       "text": [
        " 1\n",
        "07feb20027red.fits"
       ]
      },
      {
       "output_type": "stream",
       "stream": "stdout",
       "text": [
        " 0\n",
        "07feb20028red.fits 0\n",
        "07feb20029red.fits"
       ]
      },
      {
       "output_type": "stream",
       "stream": "stdout",
       "text": [
        " 0\n",
        "07feb20030red.fits 0\n",
        "07feb20031red.fits"
       ]
      },
      {
       "output_type": "stream",
       "stream": "stdout",
       "text": [
        " 0\n",
        "07feb20032red.fits 0\n",
        "07jan20049red.fits"
       ]
      },
      {
       "output_type": "stream",
       "stream": "stdout",
       "text": [
        " 0\n",
        "07jan20050red.fits 0\n",
        "07jan20051red.fits"
       ]
      },
      {
       "output_type": "stream",
       "stream": "stdout",
       "text": [
        " 0\n",
        "07jan20054red.fits 1\n",
        "07jan20055red.fits"
       ]
      },
      {
       "output_type": "stream",
       "stream": "stdout",
       "text": [
        " 1\n",
        "07jan20056red.fits"
       ]
      },
      {
       "output_type": "stream",
       "stream": "stdout",
       "text": [
        " 1\n",
        "07jan20059red.fits"
       ]
      },
      {
       "output_type": "stream",
       "stream": "stdout",
       "text": [
        " 0\n",
        "07jan20060red.fits 0\n",
        "07jan20061red.fits"
       ]
      },
      {
       "output_type": "stream",
       "stream": "stdout",
       "text": [
        " 0\n",
        "07jan20064red.fits 1\n",
        "08feb20027red.fits"
       ]
      },
      {
       "output_type": "stream",
       "stream": "stdout",
       "text": [
        " 1\n",
        "08feb20028red.fits"
       ]
      },
      {
       "output_type": "stream",
       "stream": "stdout",
       "text": [
        " 1\n",
        "08feb20029red.fits"
       ]
      },
      {
       "output_type": "stream",
       "stream": "stdout",
       "text": [
        " 1\n",
        "08feb20032red.fits"
       ]
      },
      {
       "output_type": "stream",
       "stream": "stdout",
       "text": [
        " 0\n",
        "08feb20033red.fits"
       ]
      },
      {
       "output_type": "stream",
       "stream": "stdout",
       "text": [
        " 0\n",
        "08feb20034red.fits 0\n",
        "08feb20035red.fits"
       ]
      },
      {
       "output_type": "stream",
       "stream": "stdout",
       "text": [
        " 0\n",
        "08feb20036red.fits 0\n",
        "08feb20037red.fits"
       ]
      },
      {
       "output_type": "stream",
       "stream": "stdout",
       "text": [
        " 0\n",
        "09feb20029red.fits 0\n",
        "09feb20030red.fits"
       ]
      },
      {
       "output_type": "stream",
       "stream": "stdout",
       "text": [
        " 0\n",
        "09feb20031red.fits"
       ]
      },
      {
       "output_type": "stream",
       "stream": "stdout",
       "text": [
        " 0\n",
        "09feb20034red.fits 1\n",
        "09feb20035red.fits"
       ]
      },
      {
       "output_type": "stream",
       "stream": "stdout",
       "text": [
        " 1\n",
        "09feb20036red.fits"
       ]
      },
      {
       "output_type": "stream",
       "stream": "stdout",
       "text": [
        " 1\n",
        "09jan20026red.fits"
       ]
      },
      {
       "output_type": "stream",
       "stream": "stdout",
       "text": [
        " 0\n",
        "09jan20027red.fits"
       ]
      },
      {
       "output_type": "stream",
       "stream": "stdout",
       "text": [
        " 0\n",
        "09jan20030red.fits"
       ]
      },
      {
       "output_type": "stream",
       "stream": "stdout",
       "text": [
        " 1\n",
        "09jan20031red.fits"
       ]
      },
      {
       "output_type": "stream",
       "stream": "stdout",
       "text": [
        " 1\n",
        "09jan20032red.fits"
       ]
      },
      {
       "output_type": "stream",
       "stream": "stdout",
       "text": [
        " 1\n",
        "09jan20033red.fits"
       ]
      },
      {
       "output_type": "stream",
       "stream": "stdout",
       "text": [
        " 1\n",
        "09jan20036red.fits"
       ]
      },
      {
       "output_type": "stream",
       "stream": "stdout",
       "text": [
        " 0\n",
        "09jan20045red.fits"
       ]
      },
      {
       "output_type": "stream",
       "stream": "stdout",
       "text": [
        " 0\n",
        "09jan20048red.fits"
       ]
      },
      {
       "output_type": "stream",
       "stream": "stdout",
       "text": [
        " 1\n",
        "09jan20049red.fits"
       ]
      },
      {
       "output_type": "stream",
       "stream": "stdout",
       "text": [
        " 1\n",
        "09jan20050red.fits"
       ]
      },
      {
       "output_type": "stream",
       "stream": "stdout",
       "text": [
        " 1\n",
        "10feb20027red.fits"
       ]
      },
      {
       "output_type": "stream",
       "stream": "stdout",
       "text": [
        " 0\n",
        "10feb20028red.fits"
       ]
      },
      {
       "output_type": "stream",
       "stream": "stdout",
       "text": [
        " 0\n",
        "10feb20029red.fits"
       ]
      },
      {
       "output_type": "stream",
       "stream": "stdout",
       "text": [
        " 0\n",
        "10feb20030red.fits"
       ]
      },
      {
       "output_type": "stream",
       "stream": "stdout",
       "text": [
        " 0\n",
        "10feb20031red.fits"
       ]
      },
      {
       "output_type": "stream",
       "stream": "stdout",
       "text": [
        " 0\n",
        "10feb20032red.fits 0\n",
        "10feb20033red.fits"
       ]
      },
      {
       "output_type": "stream",
       "stream": "stdout",
       "text": [
        " 0\n",
        "11feb20013red.fits"
       ]
      },
      {
       "output_type": "stream",
       "stream": "stdout",
       "text": [
        " 0\n",
        "11feb20014red.fits 0\n",
        "11feb20015red.fits"
       ]
      },
      {
       "output_type": "stream",
       "stream": "stdout",
       "text": [
        " 0\n",
        "11feb20016red.fits"
       ]
      },
      {
       "output_type": "stream",
       "stream": "stdout",
       "text": [
        " 0\n",
        "11feb20017red.fits 0\n",
        "11feb20018red.fits"
       ]
      },
      {
       "output_type": "stream",
       "stream": "stdout",
       "text": [
        " 0\n",
        "11feb20021red.fits"
       ]
      },
      {
       "output_type": "stream",
       "stream": "stdout",
       "text": [
        " 1\n",
        "11feb20022red.fits"
       ]
      },
      {
       "output_type": "stream",
       "stream": "stdout",
       "text": [
        " 1\n",
        "11feb20023red.fits"
       ]
      },
      {
       "output_type": "stream",
       "stream": "stdout",
       "text": [
        " 1\n",
        "11feb20024red.fits"
       ]
      },
      {
       "output_type": "stream",
       "stream": "stdout",
       "text": [
        " 1\n",
        "11feb20025red.fits"
       ]
      },
      {
       "output_type": "stream",
       "stream": "stdout",
       "text": [
        " 1\n",
        "11feb20026red.fits"
       ]
      },
      {
       "output_type": "stream",
       "stream": "stdout",
       "text": [
        " 1\n",
        "11jan20028red.fits"
       ]
      },
      {
       "output_type": "stream",
       "stream": "stdout",
       "text": [
        " 0\n",
        "11jan20029red.fits 0\n",
        "11jan20030red.fits"
       ]
      },
      {
       "output_type": "stream",
       "stream": "stdout",
       "text": [
        " 0\n",
        "11jan20033red.fits 0\n",
        "11jan20034red.fits"
       ]
      },
      {
       "output_type": "stream",
       "stream": "stdout",
       "text": [
        " 0\n",
        "11jan20035red.fits 0\n",
        "11jan20038red.fits"
       ]
      },
      {
       "output_type": "stream",
       "stream": "stdout",
       "text": [
        " 0\n",
        "11jan20039red.fits"
       ]
      },
      {
       "output_type": "stream",
       "stream": "stdout",
       "text": [
        " 0\n",
        "11jan20040red.fits 0\n",
        "12jan20030red.fits"
       ]
      },
      {
       "output_type": "stream",
       "stream": "stdout",
       "text": [
        " 0\n",
        "12jan20031red.fits"
       ]
      },
      {
       "output_type": "stream",
       "stream": "stdout",
       "text": [
        " 0\n",
        "12jan20032red.fits"
       ]
      },
      {
       "output_type": "stream",
       "stream": "stdout",
       "text": [
        " 0\n",
        "17dec20039red.fits 0\n",
        "17dec20040red.fits"
       ]
      },
      {
       "output_type": "stream",
       "stream": "stdout",
       "text": [
        " 0\n",
        "17dec20041red.fits 0\n",
        "17dec20044red.fits"
       ]
      },
      {
       "output_type": "stream",
       "stream": "stdout",
       "text": [
        " 1\n",
        "17dec20045red.fits"
       ]
      },
      {
       "output_type": "stream",
       "stream": "stdout",
       "text": [
        " 1\n",
        "17dec20046red.fits"
       ]
      },
      {
       "output_type": "stream",
       "stream": "stdout",
       "text": [
        " 1\n",
        "18dec20030red.fits"
       ]
      },
      {
       "output_type": "stream",
       "stream": "stdout",
       "text": [
        " 0\n",
        "18dec20031red.fits"
       ]
      },
      {
       "output_type": "stream",
       "stream": "stdout",
       "text": [
        " 0\n",
        "18dec20032red.fits"
       ]
      },
      {
       "output_type": "stream",
       "stream": "stdout",
       "text": [
        " 0\n",
        "18dec20033red.fits"
       ]
      },
      {
       "output_type": "stream",
       "stream": "stdout",
       "text": [
        " 0\n",
        "Procesing RV  0\n",
        "RV"
       ]
      },
      {
       "output_type": "stream",
       "stream": "stdout",
       "text": [
        " -2845.14746796\n",
        "Procesing RV  1\n",
        "RV 0.0\n",
        "Procesing RV  2\n",
        "RV 0.0\n",
        "Procesing RV  3\n",
        "RV"
       ]
      },
      {
       "output_type": "stream",
       "stream": "stdout",
       "text": [
        " -25611.431524\n",
        "Procesing RV  4\n",
        "RV -25611.431524\n",
        "Procesing RV  5\n",
        "RV -25611.431524\n",
        "Procesing RV  6\n",
        "RV"
       ]
      },
      {
       "output_type": "stream",
       "stream": "stdout",
       "text": [
        " -25611.6746372\n",
        "Procesing RV  7\n",
        "RV 3732833.47799\n",
        "Procesing RV  8\n",
        "RV -657229.065103\n",
        "Procesing RV  9\n",
        "RV"
       ]
      },
      {
       "output_type": "stream",
       "stream": "stdout",
       "text": [
        " 594635.820808\n",
        "Procesing RV  10\n",
        "RV -1103906.74107\n",
        "Procesing RV  11\n",
        "RV -1314445.6556\n",
        "Procesing RV  12\n",
        "RV"
       ]
      },
      {
       "output_type": "stream",
       "stream": "stdout",
       "text": [
        " -833620.296736\n",
        "Procesing RV  13\n",
        "RV -25611.1884154\n",
        "Procesing RV  14\n",
        "RV 304488.573382\n",
        "Procesing RV  15\n",
        "RV"
       ]
      },
      {
       "output_type": "stream",
       "stream": "stdout",
       "text": [
        " -28456.8760171\n",
        "Procesing RV  16\n",
        "RV -25611.1884154\n",
        "Procesing RV  17\n",
        "empty after removing zeros"
       ]
      },
      {
       "output_type": "stream",
       "stream": "stdout",
       "text": [
        "\n",
        "RV 0\n",
        "Procesing RV  18\n",
        "empty after removing zeros\n",
        "RV 0\n",
        "Procesing RV  19\n",
        "empty after removing zeros"
       ]
      },
      {
       "output_type": "stream",
       "stream": "stdout",
       "text": [
        "\n",
        "RV 0\n",
        "Procesing RV  20\n",
        "RV 5690.29493597\n",
        "Procesing RV  21\n",
        "RV 5690.29493597\n",
        "Procesing RV  22\n",
        "RV"
       ]
      },
      {
       "output_type": "stream",
       "stream": "stdout",
       "text": [
        " 5690.29493597\n",
        "Procesing RV  23\n",
        "RV 5690.29493597\n",
        "Procesing RV  24\n",
        "RV 5690.29493597\n",
        "Procesing RV  25\n",
        "RV"
       ]
      },
      {
       "output_type": "stream",
       "stream": "stdout",
       "text": [
        " 5690.29493597\n",
        "Procesing RV  26\n",
        "RV -17074.2876826\n",
        "Procesing RV  27\n",
        "RV -17074.2876826\n",
        "Procesing RV  28\n",
        "RV"
       ]
      },
      {
       "output_type": "stream",
       "stream": "stdout",
       "text": [
        " -17074.2876826\n",
        "07feb30022red.fits"
       ]
      },
      {
       "output_type": "stream",
       "stream": "stdout",
       "text": [
        " 1\n",
        "07feb30023red.fits"
       ]
      },
      {
       "output_type": "stream",
       "stream": "stdout",
       "text": [
        " 1\n",
        "07feb30024red.fits"
       ]
      },
      {
       "output_type": "stream",
       "stream": "stdout",
       "text": [
        " 1\n",
        "07feb30027red.fits"
       ]
      },
      {
       "output_type": "stream",
       "stream": "stdout",
       "text": [
        " 0\n",
        "07feb30028red.fits"
       ]
      },
      {
       "output_type": "stream",
       "stream": "stdout",
       "text": [
        " 0\n",
        "07feb30029red.fits"
       ]
      },
      {
       "output_type": "stream",
       "stream": "stdout",
       "text": [
        " 0\n",
        "07feb30030red.fits 0\n",
        "07feb30031red.fits"
       ]
      },
      {
       "output_type": "stream",
       "stream": "stdout",
       "text": [
        " 0\n",
        "07feb30032red.fits 0\n",
        "07jan30049red.fits"
       ]
      },
      {
       "output_type": "stream",
       "stream": "stdout",
       "text": [
        " 0\n",
        "07jan30050red.fits 0\n",
        "07jan30051red.fits"
       ]
      },
      {
       "output_type": "stream",
       "stream": "stdout",
       "text": [
        " 0\n",
        "07jan30054red.fits"
       ]
      },
      {
       "output_type": "stream",
       "stream": "stdout",
       "text": [
        " 1\n",
        "07jan30055red.fits"
       ]
      },
      {
       "output_type": "stream",
       "stream": "stdout",
       "text": [
        " 1\n",
        "07jan30056red.fits"
       ]
      },
      {
       "output_type": "stream",
       "stream": "stdout",
       "text": [
        " 1\n",
        "07jan30059red.fits"
       ]
      },
      {
       "output_type": "stream",
       "stream": "stdout",
       "text": [
        " 0\n",
        "07jan30060red.fits"
       ]
      },
      {
       "output_type": "stream",
       "stream": "stdout",
       "text": [
        " 0\n",
        "07jan30061red.fits 0\n",
        "07jan30064red.fits"
       ]
      },
      {
       "output_type": "stream",
       "stream": "stdout",
       "text": [
        " 1\n",
        "08feb30027red.fits"
       ]
      },
      {
       "output_type": "stream",
       "stream": "stdout",
       "text": [
        " 1\n",
        "08feb30028red.fits"
       ]
      },
      {
       "output_type": "stream",
       "stream": "stdout",
       "text": [
        " 1\n",
        "08feb30029red.fits"
       ]
      },
      {
       "output_type": "stream",
       "stream": "stdout",
       "text": [
        " 1\n",
        "08feb30032red.fits"
       ]
      },
      {
       "output_type": "stream",
       "stream": "stdout",
       "text": [
        " 0\n",
        "08feb30033red.fits 0\n",
        "08feb30034red.fits"
       ]
      },
      {
       "output_type": "stream",
       "stream": "stdout",
       "text": [
        " 0\n",
        "08feb30035red.fits 0\n",
        "08feb30036red.fits"
       ]
      },
      {
       "output_type": "stream",
       "stream": "stdout",
       "text": [
        " 0\n",
        "08feb30037red.fits 0\n",
        "09feb30029red.fits"
       ]
      },
      {
       "output_type": "stream",
       "stream": "stdout",
       "text": [
        " 0\n",
        "09feb30030red.fits"
       ]
      },
      {
       "output_type": "stream",
       "stream": "stdout",
       "text": [
        " 0\n",
        "09feb30031red.fits 0\n",
        "09feb30034red.fits"
       ]
      },
      {
       "output_type": "stream",
       "stream": "stdout",
       "text": [
        " 1\n",
        "09feb30035red.fits"
       ]
      },
      {
       "output_type": "stream",
       "stream": "stdout",
       "text": [
        " 1\n",
        "09feb30036red.fits"
       ]
      },
      {
       "output_type": "stream",
       "stream": "stdout",
       "text": [
        " 1\n",
        "09jan30026red.fits"
       ]
      },
      {
       "output_type": "stream",
       "stream": "stdout",
       "text": [
        " 0\n",
        "09jan30027red.fits 0\n",
        "09jan30030red.fits"
       ]
      },
      {
       "output_type": "stream",
       "stream": "stdout",
       "text": [
        " 1\n",
        "09jan30031red.fits"
       ]
      },
      {
       "output_type": "stream",
       "stream": "stdout",
       "text": [
        " 1\n",
        "09jan30032red.fits"
       ]
      },
      {
       "output_type": "stream",
       "stream": "stdout",
       "text": [
        " 1\n",
        "09jan30033red.fits"
       ]
      },
      {
       "output_type": "stream",
       "stream": "stdout",
       "text": [
        " 1\n",
        "09jan30036red.fits"
       ]
      },
      {
       "output_type": "stream",
       "stream": "stdout",
       "text": [
        " 0\n",
        "09jan30045red.fits"
       ]
      },
      {
       "output_type": "stream",
       "stream": "stdout",
       "text": [
        " 0\n",
        "09jan30048red.fits 1\n",
        "09jan30049red.fits"
       ]
      },
      {
       "output_type": "stream",
       "stream": "stdout",
       "text": [
        " 1\n",
        "09jan30050red.fits"
       ]
      },
      {
       "output_type": "stream",
       "stream": "stdout",
       "text": [
        " 1\n",
        "10feb30027red.fits"
       ]
      },
      {
       "output_type": "stream",
       "stream": "stdout",
       "text": [
        " 0\n",
        "10feb30028red.fits 0\n",
        "10feb30029red.fits"
       ]
      },
      {
       "output_type": "stream",
       "stream": "stdout",
       "text": [
        " 0\n",
        "10feb30030red.fits"
       ]
      },
      {
       "output_type": "stream",
       "stream": "stdout",
       "text": [
        " 0\n",
        "10feb30031red.fits 0\n",
        "10feb30032red.fits"
       ]
      },
      {
       "output_type": "stream",
       "stream": "stdout",
       "text": [
        " 0\n",
        "10feb30033red.fits 0\n",
        "11feb30013red.fits"
       ]
      },
      {
       "output_type": "stream",
       "stream": "stdout",
       "text": [
        " 0\n",
        "11feb30014red.fits 0\n",
        "11feb30015red.fits"
       ]
      },
      {
       "output_type": "stream",
       "stream": "stdout",
       "text": [
        " 0\n",
        "11feb30016red.fits"
       ]
      },
      {
       "output_type": "stream",
       "stream": "stdout",
       "text": [
        " 0\n",
        "11feb30017red.fits"
       ]
      },
      {
       "output_type": "stream",
       "stream": "stdout",
       "text": [
        " 0\n",
        "11feb30018red.fits"
       ]
      },
      {
       "output_type": "stream",
       "stream": "stdout",
       "text": [
        " 0\n",
        "11feb30021red.fits 1\n",
        "11feb30022red.fits"
       ]
      },
      {
       "output_type": "stream",
       "stream": "stdout",
       "text": [
        " 1\n",
        "11feb30023red.fits"
       ]
      },
      {
       "output_type": "stream",
       "stream": "stdout",
       "text": [
        " 1\n",
        "11feb30024red.fits"
       ]
      },
      {
       "output_type": "stream",
       "stream": "stdout",
       "text": [
        " 1\n",
        "11feb30025red.fits"
       ]
      },
      {
       "output_type": "stream",
       "stream": "stdout",
       "text": [
        " 1\n",
        "11feb30026red.fits"
       ]
      },
      {
       "output_type": "stream",
       "stream": "stdout",
       "text": [
        " 1\n",
        "11jan30028red.fits"
       ]
      },
      {
       "output_type": "stream",
       "stream": "stdout",
       "text": [
        " 0\n",
        "11jan30029red.fits 0\n",
        "11jan30030red.fits"
       ]
      },
      {
       "output_type": "stream",
       "stream": "stdout",
       "text": [
        " 0\n",
        "11jan30033red.fits"
       ]
      },
      {
       "output_type": "stream",
       "stream": "stdout",
       "text": [
        " 0\n",
        "11jan30034red.fits 0\n",
        "11jan30035red.fits"
       ]
      },
      {
       "output_type": "stream",
       "stream": "stdout",
       "text": [
        " 0\n",
        "11jan30038red.fits 0\n",
        "11jan30039red.fits"
       ]
      },
      {
       "output_type": "stream",
       "stream": "stdout",
       "text": [
        " 0\n",
        "11jan30040red.fits 0\n",
        "12jan30030red.fits"
       ]
      },
      {
       "output_type": "stream",
       "stream": "stdout",
       "text": [
        " 0\n",
        "12jan30031red.fits "
       ]
      },
      {
       "output_type": "stream",
       "stream": "stdout",
       "text": [
        "0\n",
        "12jan30032red.fits"
       ]
      },
      {
       "output_type": "stream",
       "stream": "stdout",
       "text": [
        " 0\n",
        "17dec30039red.fits"
       ]
      },
      {
       "output_type": "stream",
       "stream": "stdout",
       "text": [
        " 0\n",
        "17dec30040red.fits 0\n",
        "17dec30041red.fits"
       ]
      },
      {
       "output_type": "stream",
       "stream": "stdout",
       "text": [
        " 0\n",
        "17dec30044red.fits 1\n",
        "17dec30045red.fits"
       ]
      },
      {
       "output_type": "stream",
       "stream": "stdout",
       "text": [
        " 1\n",
        "17dec30046red.fits"
       ]
      },
      {
       "output_type": "stream",
       "stream": "stdout",
       "text": [
        " 1\n",
        "18dec30030red.fits"
       ]
      },
      {
       "output_type": "stream",
       "stream": "stdout",
       "text": [
        " 0\n",
        "18dec30031red.fits 0\n",
        "18dec30032red.fits"
       ]
      },
      {
       "output_type": "stream",
       "stream": "stdout",
       "text": [
        " 0\n",
        "18dec30033red.fits 0\n",
        "Procesing RV "
       ]
      },
      {
       "output_type": "stream",
       "stream": "stdout",
       "text": [
        " 0\n",
        "RV 0.0\n",
        "Procesing RV  1\n",
        "RV"
       ]
      },
      {
       "output_type": "stream",
       "stream": "stdout",
       "text": [
        " 0.0\n",
        "Procesing RV  2\n",
        "RV 0.0\n",
        "Procesing RV  3\n",
        "RV 142271.470961\n",
        "Procesing RV  4\n",
        "RV"
       ]
      },
      {
       "output_type": "stream",
       "stream": "stdout",
       "text": [
        " 142271.470961\n",
        "Procesing RV  5\n",
        "RV 142271.470961\n",
        "Procesing RV  6\n",
        "RV 139426.041541\n",
        "Procesing RV  7\n",
        "RV"
       ]
      },
      {
       "output_type": "stream",
       "stream": "stdout",
       "text": [
        " 82529.9862678\n",
        "Procesing RV  8\n",
        "RV 79684.1246723\n",
        "Procesing RV  9\n",
        "RV 79684.1246723\n",
        "Procesing RV  10\n",
        "RV"
       ]
      },
      {
       "output_type": "stream",
       "stream": "stdout",
       "text": [
        " -14239.0400709\n",
        "Procesing RV  11\n",
        "RV -14239.0400709\n",
        "Procesing RV  12\n",
        "RV -14239.0400709\n",
        "Procesing RV  13\n",
        "RV"
       ]
      },
      {
       "output_type": "stream",
       "stream": "stdout",
       "text": [
        " 142271.470961\n",
        "Procesing RV  14\n",
        "RV 153653.188638\n",
        "Procesing RV  15\n",
        "RV 142271.470961\n",
        "Procesing RV  16\n",
        "RV"
       ]
      },
      {
       "output_type": "stream",
       "stream": "stdout",
       "text": [
        " 142271.470961\n",
        "Procesing RV  17\n",
        "empty after removing zeros\n",
        "RV 0\n",
        "Procesing RV  18\n",
        "empty after removing zeros"
       ]
      },
      {
       "output_type": "stream",
       "stream": "stdout",
       "text": [
        "\n",
        "RV 0\n",
        "Procesing RV  19\n",
        "empty after removing zeros\n",
        "RV 0\n",
        "Procesing RV  20\n",
        "RV"
       ]
      },
      {
       "output_type": "stream",
       "stream": "stdout",
       "text": [
        " 76838.2630768\n",
        "Procesing RV  21\n",
        "RV 73992.4014814\n",
        "Procesing RV  22\n",
        "RV"
       ]
      },
      {
       "output_type": "stream",
       "stream": "stdout",
       "text": [
        " 73992.4014814\n",
        "Procesing RV  23\n",
        "RV 76838.2630768\n",
        "Procesing RV  24\n",
        "RV 73992.4014814\n",
        "Procesing RV  25\n",
        "RV"
       ]
      },
      {
       "output_type": "stream",
       "stream": "stdout",
       "text": [
        " 76838.2630768\n",
        "Procesing RV  26\n",
        "RV 153651.730278\n",
        "Procesing RV  27\n",
        "RV 153651.730278\n",
        "Procesing RV  28\n",
        "RV"
       ]
      },
      {
       "output_type": "stream",
       "stream": "stdout",
       "text": [
        " 153651.730278\n",
        "07feb40022red.fits"
       ]
      },
      {
       "output_type": "stream",
       "stream": "stdout",
       "text": [
        " 1\n",
        "07feb40023red.fits"
       ]
      },
      {
       "output_type": "stream",
       "stream": "stdout",
       "text": [
        " 1\n",
        "07feb40024red.fits"
       ]
      },
      {
       "output_type": "stream",
       "stream": "stdout",
       "text": [
        " 1\n",
        "07feb40027red.fits"
       ]
      },
      {
       "output_type": "stream",
       "stream": "stdout",
       "text": [
        " 0\n",
        "07feb40028red.fits 0\n",
        "07feb40029red.fits"
       ]
      },
      {
       "output_type": "stream",
       "stream": "stdout",
       "text": [
        " 0\n",
        "07feb40030red.fits 0\n",
        "07feb40031red.fits"
       ]
      },
      {
       "output_type": "stream",
       "stream": "stdout",
       "text": [
        " 0\n",
        "07feb40032red.fits 0\n",
        "07jan40049red.fits"
       ]
      },
      {
       "output_type": "stream",
       "stream": "stdout",
       "text": [
        " 0\n",
        "07jan40050red.fits 0\n",
        "07jan40051red.fits"
       ]
      },
      {
       "output_type": "stream",
       "stream": "stdout",
       "text": [
        " 0\n",
        "07jan40054red.fits"
       ]
      },
      {
       "output_type": "stream",
       "stream": "stdout",
       "text": [
        " 1\n",
        "07jan40055red.fits"
       ]
      },
      {
       "output_type": "stream",
       "stream": "stdout",
       "text": [
        " 1\n",
        "07jan40056red.fits"
       ]
      },
      {
       "output_type": "stream",
       "stream": "stdout",
       "text": [
        " 1\n",
        "07jan40059red.fits"
       ]
      },
      {
       "output_type": "stream",
       "stream": "stdout",
       "text": [
        " 0\n",
        "07jan40060red.fits 0\n",
        "07jan40061red.fits"
       ]
      },
      {
       "output_type": "stream",
       "stream": "stdout",
       "text": [
        " 0\n",
        "07jan40064red.fits 1\n",
        "08feb40027red.fits"
       ]
      },
      {
       "ename": "KeyboardInterrupt",
       "evalue": "",
       "output_type": "pyerr",
       "traceback": [
        "\u001b[0;31m---------------------------------------------------------------------------\u001b[0m\n\u001b[0;31mKeyboardInterrupt\u001b[0m                         Traceback (most recent call last)",
        "\u001b[0;32m<ipython-input-18-89d141309c42>\u001b[0m in \u001b[0;36m<module>\u001b[0;34m()\u001b[0m\n\u001b[1;32m      3\u001b[0m     \u001b[0mos\u001b[0m\u001b[0;34m.\u001b[0m\u001b[0mchdir\u001b[0m\u001b[0;34m(\u001b[0m\u001b[0;34m'/Users/Carlos/Documents/HERMES/reductions/m67_all_4cams'\u001b[0m\u001b[0;34m)\u001b[0m\u001b[0;34m\u001b[0m\u001b[0m\n\u001b[1;32m      4\u001b[0m     \u001b[0;32mprint\u001b[0m \u001b[0mi\u001b[0m\u001b[0;34m\u001b[0m\u001b[0m\n\u001b[0;32m----> 5\u001b[0;31m     \u001b[0mthisStar\u001b[0m \u001b[0;34m=\u001b[0m \u001b[0mstar\u001b[0m\u001b[0;34m(\u001b[0m\u001b[0mi\u001b[0m\u001b[0;34m,\u001b[0m \u001b[0mxDef\u001b[0m \u001b[0;34m=\u001b[0m \u001b[0;36m1\u001b[0m\u001b[0;34m,\u001b[0m \u001b[0mbooWrite\u001b[0m \u001b[0;34m=\u001b[0m \u001b[0mTrue\u001b[0m\u001b[0;34m)\u001b[0m\u001b[0;34m\u001b[0m\u001b[0m\n\u001b[0m",
        "\u001b[0;32m/Users/Carlos/Documents/HERMES/reductions/m67_all_4cams/cam4/red_tools.py\u001b[0m in \u001b[0;36m__init__\u001b[0;34m(self, name, xDef, booWrite)\u001b[0m\n\u001b[1;32m     28\u001b[0m         \u001b[0mself\u001b[0m\u001b[0;34m.\u001b[0m\u001b[0mload_star_data\u001b[0m\u001b[0;34m(\u001b[0m\u001b[0mname\u001b[0m \u001b[0;34m=\u001b[0m \u001b[0mname\u001b[0m\u001b[0;34m)\u001b[0m\u001b[0;34m\u001b[0m\u001b[0m\n\u001b[1;32m     29\u001b[0m         \u001b[0mself\u001b[0m\u001b[0;34m.\u001b[0m\u001b[0mexposures\u001b[0m \u001b[0;34m=\u001b[0m \u001b[0mexposures\u001b[0m\u001b[0;34m(\u001b[0m\u001b[0;34m)\u001b[0m\u001b[0;34m\u001b[0m\u001b[0m\n\u001b[0;32m---> 30\u001b[0;31m         \u001b[0mself\u001b[0m\u001b[0;34m.\u001b[0m\u001b[0mexposures\u001b[0m\u001b[0;34m.\u001b[0m\u001b[0mload_exposures\u001b[0m\u001b[0;34m(\u001b[0m\u001b[0mname\u001b[0m \u001b[0;34m=\u001b[0m \u001b[0mself\u001b[0m\u001b[0;34m.\u001b[0m\u001b[0mname\u001b[0m\u001b[0;34m,\u001b[0m \u001b[0mxDef\u001b[0m \u001b[0;34m=\u001b[0m \u001b[0mxDef\u001b[0m\u001b[0;34m)\u001b[0m \u001b[0;31m#class containing exposures for this star\u001b[0m\u001b[0;34m\u001b[0m\u001b[0m\n\u001b[0m\u001b[1;32m     31\u001b[0m         \u001b[0mself\u001b[0m\u001b[0;34m.\u001b[0m\u001b[0mcalculate_baryVels\u001b[0m\u001b[0;34m(\u001b[0m\u001b[0;34m)\u001b[0m\u001b[0;34m\u001b[0m\u001b[0m\n\u001b[1;32m     32\u001b[0m \u001b[0;34m\u001b[0m\u001b[0m\n",
        "\u001b[0;32m/Users/Carlos/Documents/HERMES/reductions/m67_all_4cams/cam4/red_tools.py\u001b[0m in \u001b[0;36mload_exposures\u001b[0;34m(self, name, xDef)\u001b[0m\n\u001b[1;32m    121\u001b[0m             \u001b[0;32mfor\u001b[0m \u001b[0mthisFile\u001b[0m \u001b[0;32min\u001b[0m \u001b[0mfiles\u001b[0m\u001b[0;34m:\u001b[0m\u001b[0;34m\u001b[0m\u001b[0m\n\u001b[1;32m    122\u001b[0m \u001b[0;34m\u001b[0m\u001b[0m\n\u001b[0;32m--> 123\u001b[0;31m                 \u001b[0mHDUList\u001b[0m \u001b[0;34m=\u001b[0m \u001b[0mpf\u001b[0m\u001b[0;34m.\u001b[0m\u001b[0mopen\u001b[0m\u001b[0;34m(\u001b[0m\u001b[0mthisFile\u001b[0m\u001b[0;34m)\u001b[0m\u001b[0;34m\u001b[0m\u001b[0m\n\u001b[0m\u001b[1;32m    124\u001b[0m                 \u001b[0mfibreTable\u001b[0m \u001b[0;34m=\u001b[0m \u001b[0mHDUList\u001b[0m\u001b[0;34m[\u001b[0m\u001b[0;34m'FIBRES'\u001b[0m\u001b[0;34m]\u001b[0m\u001b[0;34m.\u001b[0m\u001b[0mdata\u001b[0m\u001b[0;34m\u001b[0m\u001b[0m\n\u001b[1;32m    125\u001b[0m                 \u001b[0midx\u001b[0m \u001b[0;34m=\u001b[0m \u001b[0mfibreTable\u001b[0m\u001b[0;34m.\u001b[0m\u001b[0mfield\u001b[0m\u001b[0;34m(\u001b[0m\u001b[0;34m'NAME'\u001b[0m\u001b[0;34m)\u001b[0m\u001b[0;34m.\u001b[0m\u001b[0mstrip\u001b[0m\u001b[0;34m(\u001b[0m\u001b[0;34m)\u001b[0m\u001b[0;34m==\u001b[0m\u001b[0mname\u001b[0m\u001b[0;34m\u001b[0m\u001b[0m\n",
        "\u001b[0;32m/opt/local/Library/Frameworks/Python.framework/Versions/2.7/lib/python2.7/site-packages/pyfits/util.pyc\u001b[0m in \u001b[0;36m_with_extensions_wrapper\u001b[0;34m(*args, **kwargs)\u001b[0m\n\u001b[1;32m    204\u001b[0m             \u001b[0;32mdel\u001b[0m \u001b[0mkwargs\u001b[0m\u001b[0;34m[\u001b[0m\u001b[0;34m'classExtensions'\u001b[0m\u001b[0;34m]\u001b[0m\u001b[0;34m\u001b[0m\u001b[0m\n\u001b[1;32m    205\u001b[0m         \u001b[0;32mtry\u001b[0m\u001b[0;34m:\u001b[0m\u001b[0;34m\u001b[0m\u001b[0m\n\u001b[0;32m--> 206\u001b[0;31m             \u001b[0;32mreturn\u001b[0m \u001b[0mfunc\u001b[0m\u001b[0;34m(\u001b[0m\u001b[0;34m*\u001b[0m\u001b[0margs\u001b[0m\u001b[0;34m,\u001b[0m \u001b[0;34m**\u001b[0m\u001b[0mkwargs\u001b[0m\u001b[0;34m)\u001b[0m\u001b[0;34m\u001b[0m\u001b[0m\n\u001b[0m\u001b[1;32m    207\u001b[0m         \u001b[0;32mfinally\u001b[0m\u001b[0;34m:\u001b[0m\u001b[0;34m\u001b[0m\u001b[0m\n\u001b[1;32m    208\u001b[0m             \u001b[0;32mif\u001b[0m \u001b[0mextension_classes\u001b[0m\u001b[0;34m:\u001b[0m\u001b[0;34m\u001b[0m\u001b[0m\n",
        "\u001b[0;32m/opt/local/Library/Frameworks/Python.framework/Versions/2.7/lib/python2.7/site-packages/pyfits/hdu/hdulist.pyc\u001b[0m in \u001b[0;36mfitsopen\u001b[0;34m(name, mode, memmap, classExtensions, **kwargs)\u001b[0m\n\u001b[1;32m    101\u001b[0m         \u001b[0;32mraise\u001b[0m \u001b[0mValueError\u001b[0m\u001b[0;34m(\u001b[0m\u001b[0;34m'Empty filename: %s'\u001b[0m \u001b[0;34m%\u001b[0m \u001b[0mrepr\u001b[0m\u001b[0;34m(\u001b[0m\u001b[0mname\u001b[0m\u001b[0;34m)\u001b[0m\u001b[0;34m)\u001b[0m\u001b[0;34m\u001b[0m\u001b[0m\n\u001b[1;32m    102\u001b[0m \u001b[0;34m\u001b[0m\u001b[0m\n\u001b[0;32m--> 103\u001b[0;31m     \u001b[0;32mreturn\u001b[0m \u001b[0mHDUList\u001b[0m\u001b[0;34m.\u001b[0m\u001b[0mfromfile\u001b[0m\u001b[0;34m(\u001b[0m\u001b[0mname\u001b[0m\u001b[0;34m,\u001b[0m \u001b[0mmode\u001b[0m\u001b[0;34m,\u001b[0m \u001b[0mmemmap\u001b[0m\u001b[0;34m,\u001b[0m \u001b[0;34m**\u001b[0m\u001b[0mkwargs\u001b[0m\u001b[0;34m)\u001b[0m\u001b[0;34m\u001b[0m\u001b[0m\n\u001b[0m\u001b[1;32m    104\u001b[0m \u001b[0;34m\u001b[0m\u001b[0m\n\u001b[1;32m    105\u001b[0m \u001b[0;34m\u001b[0m\u001b[0m\n",
        "\u001b[0;32m/opt/local/Library/Frameworks/Python.framework/Versions/2.7/lib/python2.7/site-packages/pyfits/hdu/hdulist.pyc\u001b[0m in \u001b[0;36mfromfile\u001b[0;34m(cls, fileobj, mode, memmap, **kwargs)\u001b[0m\n\u001b[1;32m    249\u001b[0m             \u001b[0;32mwhile\u001b[0m \u001b[0mTrue\u001b[0m\u001b[0;34m:\u001b[0m\u001b[0;34m\u001b[0m\u001b[0m\n\u001b[1;32m    250\u001b[0m                 \u001b[0;32mtry\u001b[0m\u001b[0;34m:\u001b[0m\u001b[0;34m\u001b[0m\u001b[0m\n\u001b[0;32m--> 251\u001b[0;31m                     \u001b[0mhdu\u001b[0m \u001b[0;34m=\u001b[0m \u001b[0m_BaseHDU\u001b[0m\u001b[0;34m.\u001b[0m\u001b[0mreadfrom\u001b[0m\u001b[0;34m(\u001b[0m\u001b[0mffo\u001b[0m\u001b[0;34m,\u001b[0m \u001b[0;34m**\u001b[0m\u001b[0mkwargs\u001b[0m\u001b[0;34m)\u001b[0m\u001b[0;34m\u001b[0m\u001b[0m\n\u001b[0m\u001b[1;32m    252\u001b[0m                     \u001b[0mhdulist\u001b[0m\u001b[0;34m.\u001b[0m\u001b[0mappend\u001b[0m\u001b[0;34m(\u001b[0m\u001b[0mhdu\u001b[0m\u001b[0;34m)\u001b[0m\u001b[0;34m\u001b[0m\u001b[0m\n\u001b[1;32m    253\u001b[0m                     \u001b[0mhdu\u001b[0m\u001b[0;34m.\u001b[0m\u001b[0m_new\u001b[0m \u001b[0;34m=\u001b[0m \u001b[0mFalse\u001b[0m\u001b[0;34m\u001b[0m\u001b[0m\n",
        "\u001b[0;32m/opt/local/Library/Frameworks/Python.framework/Versions/2.7/lib/python2.7/site-packages/pyfits/hdu/base.pyc\u001b[0m in \u001b[0;36mreadfrom\u001b[0;34m(cls, fileobj, checksum, ignore_missing_end, **kwargs)\u001b[0m\n\u001b[1;32m    302\u001b[0m         hdu = cls.fromstring(blocks, fileobj=fileobj, offset=hdr_offset,\n\u001b[1;32m    303\u001b[0m                              \u001b[0mchecksum\u001b[0m\u001b[0;34m=\u001b[0m\u001b[0mchecksum\u001b[0m\u001b[0;34m,\u001b[0m\u001b[0;34m\u001b[0m\u001b[0m\n\u001b[0;32m--> 304\u001b[0;31m                              ignore_missing_end=ignore_missing_end, **kwargs)\n\u001b[0m\u001b[1;32m    305\u001b[0m \u001b[0;34m\u001b[0m\u001b[0m\n\u001b[1;32m    306\u001b[0m         \u001b[0;31m# If the checksum had to be checked the data may have already been read\u001b[0m\u001b[0;34m\u001b[0m\u001b[0;34m\u001b[0m\u001b[0m\n",
        "\u001b[0;32m/opt/local/Library/Frameworks/Python.framework/Versions/2.7/lib/python2.7/site-packages/pyfits/hdu/base.pyc\u001b[0m in \u001b[0;36mfromstring\u001b[0;34m(cls, data, fileobj, offset, checksum, ignore_missing_end, **kwargs)\u001b[0m\n\u001b[1;32m    182\u001b[0m             \u001b[0mhdrlen\u001b[0m \u001b[0;34m+=\u001b[0m \u001b[0m_pad_length\u001b[0m\u001b[0;34m(\u001b[0m\u001b[0mhdrlen\u001b[0m\u001b[0;34m)\u001b[0m\u001b[0;34m\u001b[0m\u001b[0m\n\u001b[1;32m    183\u001b[0m \u001b[0;34m\u001b[0m\u001b[0m\n\u001b[0;32m--> 184\u001b[0;31m         \u001b[0mheader\u001b[0m \u001b[0;34m=\u001b[0m \u001b[0mHeader\u001b[0m\u001b[0;34m.\u001b[0m\u001b[0mfromstring\u001b[0m\u001b[0;34m(\u001b[0m\u001b[0mdata\u001b[0m\u001b[0;34m[\u001b[0m\u001b[0;34m:\u001b[0m\u001b[0mhdrlen\u001b[0m\u001b[0;34m]\u001b[0m\u001b[0;34m)\u001b[0m\u001b[0;34m\u001b[0m\u001b[0m\n\u001b[0m\u001b[1;32m    185\u001b[0m         \u001b[0;32mif\u001b[0m \u001b[0;32mnot\u001b[0m \u001b[0mfileobj\u001b[0m \u001b[0;32mand\u001b[0m \u001b[0mlen\u001b[0m\u001b[0;34m(\u001b[0m\u001b[0mdata\u001b[0m\u001b[0;34m)\u001b[0m \u001b[0;34m>\u001b[0m \u001b[0mhdrlen\u001b[0m\u001b[0;34m:\u001b[0m\u001b[0;34m\u001b[0m\u001b[0m\n\u001b[1;32m    186\u001b[0m             \u001b[0mdata\u001b[0m \u001b[0;34m=\u001b[0m \u001b[0mdata\u001b[0m\u001b[0;34m[\u001b[0m\u001b[0mhdrlen\u001b[0m\u001b[0;34m:\u001b[0m\u001b[0;34m]\u001b[0m\u001b[0;34m\u001b[0m\u001b[0m\n",
        "\u001b[0;32m/opt/local/Library/Frameworks/Python.framework/Versions/2.7/lib/python2.7/site-packages/pyfits/header.pyc\u001b[0m in \u001b[0;36mfromstring\u001b[0;34m(cls, data)\u001b[0m\n\u001b[1;32m    168\u001b[0m         \u001b[0;32mfor\u001b[0m \u001b[0midx\u001b[0m \u001b[0;32min\u001b[0m \u001b[0mrange\u001b[0m\u001b[0;34m(\u001b[0m\u001b[0;36m0\u001b[0m\u001b[0;34m,\u001b[0m \u001b[0mlen\u001b[0m\u001b[0;34m(\u001b[0m\u001b[0mdata\u001b[0m\u001b[0;34m)\u001b[0m\u001b[0;34m,\u001b[0m \u001b[0mCard\u001b[0m\u001b[0;34m.\u001b[0m\u001b[0mlength\u001b[0m\u001b[0;34m)\u001b[0m\u001b[0;34m:\u001b[0m\u001b[0;34m\u001b[0m\u001b[0m\n\u001b[1;32m    169\u001b[0m             \u001b[0mcard\u001b[0m \u001b[0;34m=\u001b[0m \u001b[0mcreate_card_from_string\u001b[0m\u001b[0;34m(\u001b[0m\u001b[0mdata\u001b[0m\u001b[0;34m[\u001b[0m\u001b[0midx\u001b[0m\u001b[0;34m:\u001b[0m\u001b[0midx\u001b[0m \u001b[0;34m+\u001b[0m \u001b[0mCard\u001b[0m\u001b[0;34m.\u001b[0m\u001b[0mlength\u001b[0m\u001b[0;34m]\u001b[0m\u001b[0;34m)\u001b[0m\u001b[0;34m\u001b[0m\u001b[0m\n\u001b[0;32m--> 170\u001b[0;31m             \u001b[0mkey\u001b[0m \u001b[0;34m=\u001b[0m \u001b[0mcard\u001b[0m\u001b[0;34m.\u001b[0m\u001b[0mkey\u001b[0m\u001b[0;34m\u001b[0m\u001b[0m\n\u001b[0m\u001b[1;32m    171\u001b[0m \u001b[0;34m\u001b[0m\u001b[0m\n\u001b[1;32m    172\u001b[0m             \u001b[0;32mif\u001b[0m \u001b[0mkey\u001b[0m \u001b[0;34m==\u001b[0m \u001b[0;34m'END'\u001b[0m\u001b[0;34m:\u001b[0m\u001b[0;34m\u001b[0m\u001b[0m\n",
        "\u001b[0;32m/opt/local/Library/Frameworks/Python.framework/Versions/2.7/lib/python2.7/site-packages/pyfits/card.pyc\u001b[0m in \u001b[0;36m_getkey\u001b[0;34m(self)\u001b[0m\n\u001b[1;32m    166\u001b[0m \u001b[0;34m\u001b[0m\u001b[0m\n\u001b[1;32m    167\u001b[0m         \u001b[0;32mif\u001b[0m \u001b[0;32mnot\u001b[0m \u001b[0mhasattr\u001b[0m\u001b[0;34m(\u001b[0m\u001b[0mself\u001b[0m\u001b[0;34m,\u001b[0m \u001b[0;34m'_key'\u001b[0m\u001b[0;34m)\u001b[0m\u001b[0;34m:\u001b[0m\u001b[0;34m\u001b[0m\u001b[0m\n\u001b[0;32m--> 168\u001b[0;31m             \u001b[0mhead\u001b[0m \u001b[0;34m=\u001b[0m \u001b[0mself\u001b[0m\u001b[0;34m.\u001b[0m\u001b[0m_get_key_string\u001b[0m\u001b[0;34m(\u001b[0m\u001b[0;34m)\u001b[0m\u001b[0;34m\u001b[0m\u001b[0m\n\u001b[0m\u001b[1;32m    169\u001b[0m             \u001b[0mself\u001b[0m\u001b[0;34m.\u001b[0m\u001b[0m_key\u001b[0m \u001b[0;34m=\u001b[0m \u001b[0mhead\u001b[0m\u001b[0;34m.\u001b[0m\u001b[0mstrip\u001b[0m\u001b[0;34m(\u001b[0m\u001b[0;34m)\u001b[0m\u001b[0;34m.\u001b[0m\u001b[0mupper\u001b[0m\u001b[0;34m(\u001b[0m\u001b[0;34m)\u001b[0m\u001b[0;34m\u001b[0m\u001b[0m\n\u001b[1;32m    170\u001b[0m         \u001b[0;32mreturn\u001b[0m \u001b[0mself\u001b[0m\u001b[0;34m.\u001b[0m\u001b[0m_key\u001b[0m\u001b[0;34m\u001b[0m\u001b[0m\n",
        "\u001b[0;32m/opt/local/Library/Frameworks/Python.framework/Versions/2.7/lib/python2.7/site-packages/pyfits/card.pyc\u001b[0m in \u001b[0;36m_get_key_string\u001b[0;34m(self)\u001b[0m\n\u001b[1;32m    560\u001b[0m         \"\"\"\n\u001b[1;32m    561\u001b[0m \u001b[0;34m\u001b[0m\u001b[0m\n\u001b[0;32m--> 562\u001b[0;31m         \u001b[0meq_loc\u001b[0m \u001b[0;34m=\u001b[0m \u001b[0mself\u001b[0m\u001b[0;34m.\u001b[0m\u001b[0m_locate_eq\u001b[0m\u001b[0;34m(\u001b[0m\u001b[0;34m)\u001b[0m\u001b[0;34m\u001b[0m\u001b[0m\n\u001b[0m\u001b[1;32m    563\u001b[0m         \u001b[0;32mif\u001b[0m \u001b[0meq_loc\u001b[0m \u001b[0;32mis\u001b[0m \u001b[0mNone\u001b[0m\u001b[0;34m:\u001b[0m\u001b[0;34m\u001b[0m\u001b[0m\n\u001b[1;32m    564\u001b[0m             \u001b[0meq_loc\u001b[0m \u001b[0;34m=\u001b[0m \u001b[0;36m8\u001b[0m\u001b[0;34m\u001b[0m\u001b[0m\n",
        "\u001b[0;32m/opt/local/Library/Frameworks/Python.framework/Versions/2.7/lib/python2.7/site-packages/pyfits/card.pyc\u001b[0m in \u001b[0;36m_locate_eq\u001b[0;34m(self)\u001b[0m\n\u001b[1;32m    539\u001b[0m \u001b[0;34m\u001b[0m\u001b[0m\n\u001b[1;32m    540\u001b[0m         \u001b[0;31m# no equal sign for commentary cards (i.e. part of the string value)\u001b[0m\u001b[0;34m\u001b[0m\u001b[0;34m\u001b[0m\u001b[0m\n\u001b[0;32m--> 541\u001b[0;31m         \u001b[0m_key\u001b[0m \u001b[0;34m=\u001b[0m \u001b[0mself\u001b[0m\u001b[0;34m.\u001b[0m\u001b[0mcardimage\u001b[0m\u001b[0;34m[\u001b[0m\u001b[0;34m:\u001b[0m\u001b[0;36m8\u001b[0m\u001b[0;34m]\u001b[0m\u001b[0;34m.\u001b[0m\u001b[0mstrip\u001b[0m\u001b[0;34m(\u001b[0m\u001b[0;34m)\u001b[0m\u001b[0;34m.\u001b[0m\u001b[0mupper\u001b[0m\u001b[0;34m(\u001b[0m\u001b[0;34m)\u001b[0m\u001b[0;34m\u001b[0m\u001b[0m\n\u001b[0m\u001b[1;32m    542\u001b[0m         \u001b[0;32mif\u001b[0m \u001b[0m_key\u001b[0m \u001b[0;32min\u001b[0m \u001b[0mCard\u001b[0m\u001b[0;34m.\u001b[0m\u001b[0m_commentary_keys\u001b[0m\u001b[0;34m:\u001b[0m\u001b[0;34m\u001b[0m\u001b[0m\n\u001b[1;32m    543\u001b[0m             \u001b[0meq_loc\u001b[0m \u001b[0;34m=\u001b[0m \u001b[0mNone\u001b[0m\u001b[0;34m\u001b[0m\u001b[0m\n",
        "\u001b[0;31mKeyboardInterrupt\u001b[0m: "
       ]
      },
      {
       "output_type": "stream",
       "stream": "stdout",
       "text": [
        " 1\n"
       ]
      }
     ],
     "prompt_number": 18
    },
    {
     "cell_type": "code",
     "collapsed": false,
     "input": [
      "#tests changing xDef\n",
      "thisRV = RVs()\n",
      "RadVels = np.zeros(1000)\n",
      "for i in range(0,1000,7):\n",
      "    try:\n",
      "        RadVels[i]=thisRV.calculate_RV(lam1, c, lbm1, d, xDef = i)\n",
      "    print i\n",
      "\n",
      "plt.plot(RadVels)\n",
      "plt.show()"
     ],
     "language": "python",
     "metadata": {},
     "outputs": [
      {
       "output_type": "stream",
       "stream": "stdout",
       "text": [
        "(array([1987]),)\n",
        "RV 0.0\n",
        "0\n",
        "(array([13916]),)"
       ]
      },
      {
       "output_type": "stream",
       "stream": "stdout",
       "text": [
        "\n",
        "RV 403.95050596\n",
        "7\n",
        "(array([27833]),)"
       ]
      },
      {
       "output_type": "stream",
       "stream": "stdout",
       "text": [
        "\n",
        "RV 403.95050596\n",
        "14\n",
        "(array([41750]),)"
       ]
      },
      {
       "output_type": "stream",
       "stream": "stdout",
       "text": [
        "\n",
        "RV 403.95050596\n",
        "21\n",
        "(array([55667]),)"
       ]
      },
      {
       "output_type": "stream",
       "stream": "stdout",
       "text": [
        "\n",
        "RV 403.950506072\n",
        "28\n",
        "(array([69584]),)"
       ]
      },
      {
       "output_type": "stream",
       "stream": "stdout",
       "text": [
        "\n",
        "RV 403.95039699\n",
        "35\n",
        "(array([83500]),)"
       ]
      },
      {
       "output_type": "stream",
       "stream": "stdout",
       "text": [
        "\n",
        "RV 336.625346037\n",
        "42\n",
        "(array([97417]),)"
       ]
      },
      {
       "output_type": "stream",
       "stream": "stdout",
       "text": [
        "\n",
        "RV 346.243224318\n",
        "49\n",
        "(array([111334]),)"
       ]
      },
      {
       "output_type": "stream",
       "stream": "stdout",
       "text": [
        "\n",
        "RV 353.456633086\n",
        "56\n",
        "(array([125251]),)"
       ]
      },
      {
       "output_type": "stream",
       "stream": "stdout",
       "text": [
        "\n",
        "RV 359.067062652\n",
        "63\n",
        "(array([139167]),)"
       ]
      },
      {
       "output_type": "stream",
       "stream": "stdout",
       "text": [
        "\n",
        "RV 363.555406278\n",
        "70\n",
        "(array([153084]),)"
       ]
      },
      {
       "output_type": "stream",
       "stream": "stdout",
       "text": [
        "\n",
        "RV 367.227687961\n",
        "77\n",
        "(array([167001]),)"
       ]
      },
      {
       "output_type": "stream",
       "stream": "stdout",
       "text": [
        "\n",
        "RV 370.287922525\n",
        "84\n",
        "(array([180918]),)"
       ]
      },
      {
       "output_type": "stream",
       "stream": "stdout",
       "text": [
        "\n",
        "RV 372.877351777\n",
        "91\n",
        "(array([194835]),)"
       ]
      },
      {
       "output_type": "stream",
       "stream": "stdout",
       "text": [
        "\n",
        "RV 375.096862084\n",
        "98\n",
        "(array([208752]),)"
       ]
      },
      {
       "output_type": "stream",
       "stream": "stdout",
       "text": [
        "\n",
        "RV 377.020404651\n",
        "105\n",
        "(array([222668]),)"
       ]
      },
      {
       "output_type": "stream",
       "stream": "stdout",
       "text": [
        "\n",
        "RV 353.456633086\n",
        "112\n",
        "(array([236585]),)"
       ]
      },
      {
       "output_type": "stream",
       "stream": "stdout",
       "text": [
        "\n",
        "RV 356.426860817\n",
        "119\n",
        "(array([250502]),)"
       ]
      },
      {
       "output_type": "stream",
       "stream": "stdout",
       "text": [
        "\n",
        "RV 359.067062652\n",
        "126\n",
        "(array([264419]),)"
       ]
      },
      {
       "output_type": "stream",
       "stream": "stdout",
       "text": [
        "\n",
        "RV 361.429348458\n",
        "133\n",
        "(array([278335]),)"
       ]
      },
      {
       "output_type": "stream",
       "stream": "stdout",
       "text": [
        "\n",
        "RV 363.555406278\n",
        "140\n",
        "(array([292252]),)"
       ]
      },
      {
       "output_type": "stream",
       "stream": "stdout",
       "text": [
        "\n",
        "RV 365.478982452\n",
        "147\n",
        "(array([306169]),)"
       ]
      },
      {
       "output_type": "stream",
       "stream": "stdout",
       "text": [
        "\n",
        "RV 367.227687405\n",
        "154\n",
        "(array([320086]),)"
       ]
      },
      {
       "output_type": "stream",
       "stream": "stdout",
       "text": [
        "\n",
        "RV 368.824332098\n",
        "161\n",
        "(array([334003]),)"
       ]
      },
      {
       "output_type": "stream",
       "stream": "stdout",
       "text": [
        "\n",
        "RV 370.287922525\n",
        "168\n",
        "(array([347920]),)"
       ]
      },
      {
       "output_type": "stream",
       "stream": "stdout",
       "text": [
        "\n",
        "RV 371.634405035\n",
        "175\n",
        "(array([361837]),)"
       ]
      },
      {
       "output_type": "stream",
       "stream": "stdout",
       "text": [
        "\n",
        "RV 372.877332453\n",
        "182\n",
        "(array([375753]),)"
       ]
      },
      {
       "output_type": "stream",
       "stream": "stdout",
       "text": [
        "\n",
        "RV 359.067062652\n",
        "189\n",
        "(array([389670]),)"
       ]
      },
      {
       "output_type": "stream",
       "stream": "stdout",
       "text": [
        "\n",
        "RV 360.670043035\n",
        "196\n",
        "(array([403587]),)"
       ]
      },
      {
       "output_type": "stream",
       "stream": "stdout",
       "text": [
        "\n",
        "RV 362.162471804\n",
        "203\n",
        "(array([417503]),)"
       ]
      },
      {
       "output_type": "stream",
       "stream": "stdout",
       "text": [
        "\n",
        "RV 363.555405777\n",
        "210\n",
        "(array([431420]),)"
       ]
      },
      {
       "output_type": "stream",
       "stream": "stdout",
       "text": [
        "\n",
        "RV 364.858473735\n",
        "217\n",
        "(array([445337]),)"
       ]
      },
      {
       "output_type": "stream",
       "stream": "stdout",
       "text": [
        "\n",
        "RV 366.080100489\n",
        "224\n",
        "(array([459254]),)"
       ]
      },
      {
       "output_type": "stream",
       "stream": "stdout",
       "text": [
        "\n",
        "RV 367.227687405\n",
        "231\n",
        "(array([473171]),)"
       ]
      },
      {
       "output_type": "stream",
       "stream": "stdout",
       "text": [
        "\n",
        "RV 368.307770774\n",
        "238\n",
        "(array([487088]),)"
       ]
      },
      {
       "output_type": "stream",
       "stream": "stdout",
       "text": [
        "\n",
        "RV 369.326120157\n",
        "245\n",
        "(array([501005]),)"
       ]
      },
      {
       "output_type": "stream",
       "stream": "stdout",
       "text": [
        "\n",
        "RV 370.287909277\n",
        "252\n",
        "(array([514921]),)"
       ]
      },
      {
       "output_type": "stream",
       "stream": "stdout",
       "text": [
        "\n",
        "RV 360.280128461\n",
        "259\n",
        "(array([528838]),)"
       ]
      },
      {
       "output_type": "stream",
       "stream": "stdout",
       "text": [
        "\n",
        "RV 361.429349404\n",
        "266\n",
        "(array([542755]),)"
       ]
      },
      {
       "output_type": "stream",
       "stream": "stdout",
       "text": [
        "\n",
        "RV 362.519635036\n",
        "273\n",
        "(array([556671]),)"
       ]
      },
      {
       "output_type": "stream",
       "stream": "stdout",
       "text": [
        "\n",
        "RV 363.555406278\n",
        "280\n",
        "(array([570588]),)"
       ]
      },
      {
       "output_type": "stream",
       "stream": "stdout",
       "text": [
        "\n",
        "RV 364.540652178\n",
        "287\n",
        "(array([584505]),)"
       ]
      },
      {
       "output_type": "stream",
       "stream": "stdout",
       "text": [
        "\n",
        "RV 365.478981395\n",
        "294\n",
        "(array([598422]),)"
       ]
      },
      {
       "output_type": "stream",
       "stream": "stdout",
       "text": [
        "\n",
        "RV 366.373669694\n",
        "301\n",
        "(array([612339]),)"
       ]
      },
      {
       "output_type": "stream",
       "stream": "stdout",
       "text": [
        "\n",
        "RV 367.227676159\n",
        "308\n",
        "(array([626256]),)"
       ]
      },
      {
       "output_type": "stream",
       "stream": "stdout",
       "text": [
        "\n",
        "RV 368.04374013\n",
        "315\n",
        "(array([640173]),)"
       ]
      },
      {
       "output_type": "stream",
       "stream": "stdout",
       "text": [
        "\n",
        "RV 368.824321294\n",
        "322\n",
        "(array([654090]),)"
       ]
      },
      {
       "output_type": "stream",
       "stream": "stdout",
       "text": [
        "\n",
        "RV 369.57168708\n",
        "329\n",
        "(array([668006]),)"
       ]
      },
      {
       "output_type": "stream",
       "stream": "stdout",
       "text": [
        "\n",
        "RV 361.872276568\n",
        "336\n",
        "(array([681922]),)"
       ]
      },
      {
       "output_type": "stream",
       "stream": "stdout",
       "text": [
        "\n",
        "RV 362.731016154\n",
        "343\n",
        "(array([695839]),)"
       ]
      },
      {
       "ename": "ValueError",
       "evalue": "A value in x_new is above the interpolation range.",
       "output_type": "pyerr",
       "traceback": [
        "\u001b[0;31m---------------------------------------------------------------------------\u001b[0m\n\u001b[0;31mValueError\u001b[0m                                Traceback (most recent call last)",
        "\u001b[0;32m<ipython-input-46-287e1e76f6ee>\u001b[0m in \u001b[0;36m<module>\u001b[0;34m()\u001b[0m\n\u001b[1;32m      2\u001b[0m \u001b[0mRadVels\u001b[0m \u001b[0;34m=\u001b[0m \u001b[0mnp\u001b[0m\u001b[0;34m.\u001b[0m\u001b[0mzeros\u001b[0m\u001b[0;34m(\u001b[0m\u001b[0;36m1000\u001b[0m\u001b[0;34m)\u001b[0m\u001b[0;34m\u001b[0m\u001b[0m\n\u001b[1;32m      3\u001b[0m \u001b[0;32mfor\u001b[0m \u001b[0mi\u001b[0m \u001b[0;32min\u001b[0m \u001b[0mrange\u001b[0m\u001b[0;34m(\u001b[0m\u001b[0;36m0\u001b[0m\u001b[0;34m,\u001b[0m\u001b[0;36m1000\u001b[0m\u001b[0;34m,\u001b[0m\u001b[0;36m7\u001b[0m\u001b[0;34m)\u001b[0m\u001b[0;34m:\u001b[0m\u001b[0;34m\u001b[0m\u001b[0m\n\u001b[0;32m----> 4\u001b[0;31m     \u001b[0mRadVels\u001b[0m\u001b[0;34m[\u001b[0m\u001b[0mi\u001b[0m\u001b[0;34m]\u001b[0m\u001b[0;34m=\u001b[0m\u001b[0mthisRV\u001b[0m\u001b[0;34m.\u001b[0m\u001b[0mcalculate_RV\u001b[0m\u001b[0;34m(\u001b[0m\u001b[0mlam1\u001b[0m\u001b[0;34m,\u001b[0m \u001b[0mc\u001b[0m\u001b[0;34m,\u001b[0m \u001b[0mlbm1\u001b[0m\u001b[0;34m,\u001b[0m \u001b[0md\u001b[0m\u001b[0;34m,\u001b[0m \u001b[0mxDef\u001b[0m \u001b[0;34m=\u001b[0m \u001b[0mi\u001b[0m\u001b[0;34m)\u001b[0m\u001b[0;34m\u001b[0m\u001b[0m\n\u001b[0m\u001b[1;32m      5\u001b[0m     \u001b[0;32mprint\u001b[0m \u001b[0mi\u001b[0m\u001b[0;34m\u001b[0m\u001b[0m\n",
        "\u001b[0;32m/Users/Carlos/Documents/HERMES/reductions/m67_all_4cams/red_tools.pyc\u001b[0m in \u001b[0;36mcalculate_RV\u001b[0;34m(self, lambda1, flux1, lambda2, flux2, xDef, xDef2)\u001b[0m\n\u001b[1;32m    250\u001b[0m \u001b[0;34m\u001b[0m\u001b[0m\n\u001b[1;32m    251\u001b[0m     \u001b[0;32mdef\u001b[0m \u001b[0mcalculate_RV\u001b[0m\u001b[0;34m(\u001b[0m\u001b[0mself\u001b[0m\u001b[0;34m,\u001b[0m \u001b[0mlambda1\u001b[0m\u001b[0;34m,\u001b[0m \u001b[0mflux1\u001b[0m\u001b[0;34m,\u001b[0m \u001b[0mlambda2\u001b[0m\u001b[0;34m,\u001b[0m \u001b[0mflux2\u001b[0m\u001b[0;34m,\u001b[0m \u001b[0mxDef\u001b[0m \u001b[0;34m=\u001b[0m \u001b[0;36m1\u001b[0m\u001b[0;34m,\u001b[0m \u001b[0mxDef2\u001b[0m \u001b[0;34m=\u001b[0m \u001b[0;36m0\u001b[0m\u001b[0;34m)\u001b[0m\u001b[0;34m:\u001b[0m\u001b[0;34m\u001b[0m\u001b[0m\n\u001b[0;32m--> 252\u001b[0;31m         \u001b[0mlambda1Clean\u001b[0m\u001b[0;34m,\u001b[0m \u001b[0mflux1Clean\u001b[0m \u001b[0;34m=\u001b[0m \u001b[0mself\u001b[0m\u001b[0;34m.\u001b[0m\u001b[0mclean_flux\u001b[0m\u001b[0;34m(\u001b[0m\u001b[0mflux1\u001b[0m\u001b[0;34m,\u001b[0m \u001b[0mxDef\u001b[0m\u001b[0;34m,\u001b[0m \u001b[0mlambda1\u001b[0m\u001b[0;34m)\u001b[0m\u001b[0;34m\u001b[0m\u001b[0m\n\u001b[0m\u001b[1;32m    253\u001b[0m         \u001b[0;32mif\u001b[0m \u001b[0mxDef2\u001b[0m \u001b[0;34m==\u001b[0m \u001b[0;36m0\u001b[0m\u001b[0;34m:\u001b[0m \u001b[0mxDef2\u001b[0m \u001b[0;34m=\u001b[0m \u001b[0mxDef\u001b[0m\u001b[0;34m\u001b[0m\u001b[0m\n\u001b[1;32m    254\u001b[0m         \u001b[0mlambda2Clean\u001b[0m\u001b[0;34m,\u001b[0m \u001b[0mflux2Clean\u001b[0m \u001b[0;34m=\u001b[0m \u001b[0mself\u001b[0m\u001b[0;34m.\u001b[0m\u001b[0mclean_flux\u001b[0m\u001b[0;34m(\u001b[0m\u001b[0mflux2\u001b[0m\u001b[0;34m,\u001b[0m \u001b[0mxDef2\u001b[0m\u001b[0;34m,\u001b[0m \u001b[0mlambda2\u001b[0m\u001b[0;34m)\u001b[0m\u001b[0;34m\u001b[0m\u001b[0m\n",
        "\u001b[0;32m/Users/Carlos/Documents/HERMES/reductions/m67_all_4cams/red_tools.pyc\u001b[0m in \u001b[0;36mclean_flux\u001b[0;34m(self, flux, xDef, lambdas)\u001b[0m\n\u001b[1;32m    300\u001b[0m             \u001b[0mfFluxHD\u001b[0m \u001b[0;34m=\u001b[0m \u001b[0minterpolate\u001b[0m\u001b[0;34m.\u001b[0m\u001b[0minterp1d\u001b[0m\u001b[0;34m(\u001b[0m\u001b[0mlambdas\u001b[0m\u001b[0;34m,\u001b[0m\u001b[0mflux\u001b[0m\u001b[0;34m)\u001b[0m\u001b[0;34m\u001b[0m\u001b[0m\n\u001b[1;32m    301\u001b[0m             \u001b[0mnewLambdas\u001b[0m \u001b[0;34m=\u001b[0m \u001b[0mnp\u001b[0m\u001b[0;34m.\u001b[0m\u001b[0marange\u001b[0m\u001b[0;34m(\u001b[0m\u001b[0mmin\u001b[0m\u001b[0;34m(\u001b[0m\u001b[0mlambdas\u001b[0m\u001b[0;34m)\u001b[0m\u001b[0;34m,\u001b[0m \u001b[0mmax\u001b[0m\u001b[0;34m(\u001b[0m\u001b[0mlambdas\u001b[0m\u001b[0;34m)\u001b[0m\u001b[0;34m,\u001b[0m\u001b[0;34m(\u001b[0m\u001b[0mmax\u001b[0m\u001b[0;34m(\u001b[0m\u001b[0mlambdas\u001b[0m\u001b[0;34m)\u001b[0m\u001b[0;34m-\u001b[0m\u001b[0mmin\u001b[0m\u001b[0;34m(\u001b[0m\u001b[0mlambdas\u001b[0m\u001b[0;34m)\u001b[0m\u001b[0;34m)\u001b[0m\u001b[0;34m/\u001b[0m\u001b[0mlen\u001b[0m\u001b[0;34m(\u001b[0m\u001b[0mlambdas\u001b[0m\u001b[0;34m)\u001b[0m\u001b[0;34m/\u001b[0m\u001b[0mxDef\u001b[0m\u001b[0;34m)\u001b[0m\u001b[0;34m\u001b[0m\u001b[0m\n\u001b[0;32m--> 302\u001b[0;31m             \u001b[0mfluxHD\u001b[0m \u001b[0;34m=\u001b[0m \u001b[0mfFluxHD\u001b[0m\u001b[0;34m(\u001b[0m\u001b[0mnewLambdas\u001b[0m\u001b[0;34m)\u001b[0m\u001b[0;34m\u001b[0m\u001b[0m\n\u001b[0m\u001b[1;32m    303\u001b[0m \u001b[0;34m\u001b[0m\u001b[0m\n\u001b[1;32m    304\u001b[0m         \u001b[0;31m#clean NaNs and median outliers\u001b[0m\u001b[0;34m\u001b[0m\u001b[0;34m\u001b[0m\u001b[0m\n",
        "\u001b[0;32m/opt/local/Library/Frameworks/Python.framework/Versions/2.7/lib/python2.7/site-packages/scipy/interpolate/interpolate.pyc\u001b[0m in \u001b[0;36m__call__\u001b[0;34m(self, x_new)\u001b[0m\n\u001b[1;32m    392\u001b[0m         \u001b[0;31m#    The behavior is set by the bounds_error variable.\u001b[0m\u001b[0;34m\u001b[0m\u001b[0;34m\u001b[0m\u001b[0m\n\u001b[1;32m    393\u001b[0m         \u001b[0mx_new\u001b[0m \u001b[0;34m=\u001b[0m \u001b[0masarray\u001b[0m\u001b[0;34m(\u001b[0m\u001b[0mx_new\u001b[0m\u001b[0;34m)\u001b[0m\u001b[0;34m\u001b[0m\u001b[0m\n\u001b[0;32m--> 394\u001b[0;31m         \u001b[0mout_of_bounds\u001b[0m \u001b[0;34m=\u001b[0m \u001b[0mself\u001b[0m\u001b[0;34m.\u001b[0m\u001b[0m_check_bounds\u001b[0m\u001b[0;34m(\u001b[0m\u001b[0mx_new\u001b[0m\u001b[0;34m)\u001b[0m\u001b[0;34m\u001b[0m\u001b[0m\n\u001b[0m\u001b[1;32m    395\u001b[0m \u001b[0;34m\u001b[0m\u001b[0m\n\u001b[1;32m    396\u001b[0m         \u001b[0my_new\u001b[0m \u001b[0;34m=\u001b[0m \u001b[0mself\u001b[0m\u001b[0;34m.\u001b[0m\u001b[0m_call\u001b[0m\u001b[0;34m(\u001b[0m\u001b[0mx_new\u001b[0m\u001b[0;34m)\u001b[0m\u001b[0;34m\u001b[0m\u001b[0m\n",
        "\u001b[0;32m/opt/local/Library/Frameworks/Python.framework/Versions/2.7/lib/python2.7/site-packages/scipy/interpolate/interpolate.pyc\u001b[0m in \u001b[0;36m_check_bounds\u001b[0;34m(self, x_new)\u001b[0m\n\u001b[1;32m    450\u001b[0m                 \"range.\")\n\u001b[1;32m    451\u001b[0m         \u001b[0;32mif\u001b[0m \u001b[0mself\u001b[0m\u001b[0;34m.\u001b[0m\u001b[0mbounds_error\u001b[0m \u001b[0;32mand\u001b[0m \u001b[0mabove_bounds\u001b[0m\u001b[0;34m.\u001b[0m\u001b[0many\u001b[0m\u001b[0;34m(\u001b[0m\u001b[0;34m)\u001b[0m\u001b[0;34m:\u001b[0m\u001b[0;34m\u001b[0m\u001b[0m\n\u001b[0;32m--> 452\u001b[0;31m             raise ValueError(\"A value in x_new is above the interpolation \"\n\u001b[0m\u001b[1;32m    453\u001b[0m                 \"range.\")\n\u001b[1;32m    454\u001b[0m \u001b[0;34m\u001b[0m\u001b[0m\n",
        "\u001b[0;31mValueError\u001b[0m: A value in x_new is above the interpolation range."
       ]
      },
      {
       "output_type": "stream",
       "stream": "stdout",
       "text": [
        "\n",
        "RV 363.555407279\n",
        "350\n"
       ]
      }
     ],
     "prompt_number": 46
    }
   ],
   "metadata": {}
  }
 ]
}