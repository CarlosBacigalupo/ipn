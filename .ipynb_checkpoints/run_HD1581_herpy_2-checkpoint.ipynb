{
 "cells": [
  {
   "cell_type": "code",
   "execution_count": 316,
   "metadata": {
    "collapsed": false
   },
   "outputs": [
    {
     "data": {
      "text/plain": [
       "<module 'myHerpyTools' from '/Users/Carlos/Documents/ipn/myHerpyTools.py'>"
      ]
     },
     "execution_count": 316,
     "metadata": {},
     "output_type": "execute_result"
    }
   ],
   "source": [
    "import numpy as np\n",
    "\n",
    "import myHerpyTools as MHT\n",
    "reload(MHT)"
   ]
  },
  {
   "cell_type": "code",
   "execution_count": 310,
   "metadata": {
    "collapsed": false
   },
   "outputs": [
    {
     "name": "stdout",
     "output_type": "stream",
     "text": [
      "/Users/Carlos/Documents/HERMES/reductions/new_start_6.5/HD1581\n"
     ]
    }
   ],
   "source": [
    "cd /Users/Carlos/Documents/HERMES/reductions/new_start_6.5/HD1581/"
   ]
  },
  {
   "cell_type": "code",
   "execution_count": 311,
   "metadata": {
    "collapsed": true
   },
   "outputs": [],
   "source": [
    "folder = \"herpy_out\""
   ]
  },
  {
   "cell_type": "code",
   "execution_count": 312,
   "metadata": {
    "collapsed": false
   },
   "outputs": [],
   "source": [
    "flatFileName = '0_20aug/1/20aug10034.fits'\n",
    "arcFileName = '0_20aug/1/20aug10052.fits'\n",
    "objFileName = '0_20aug/1/20aug10053.fits'\n",
    "\n",
    "# flatFileName = '1_21aug/1/21aug10047.fits'\n",
    "# arcFileName = '1_21aug/1/21aug10046.fits'\n",
    "# objFileName = '1_21aug/1/21aug10041.fits'\n",
    "\n",
    "# flatFileName = '2_22aug/1/22aug10032.fits'\n",
    "# arcFileName = '2_22aug/1/22aug10031.fits'\n",
    "# objFileName = '2_22aug/1/22aug10036.fits'\n",
    "\n",
    "# flatFileName = '3_24aug/1/24aug10053.fits'\n",
    "# arcFileName = '3_24aug/1/24aug10054.fits'\n",
    "# objFileName = '3_24aug/1/24aug10058.fits'\n",
    "\n",
    "# flatFileName = '4_25aug/1/25aug10039.fits'\n",
    "# arcFileName = '4_25aug/1/25aug10043.fits'\n",
    "# objFileName = '4_25aug/1/25aug10044.fits'"
   ]
  },
  {
   "cell_type": "code",
   "execution_count": 313,
   "metadata": {
    "collapsed": false
   },
   "outputs": [
    {
     "name": "stdout",
     "output_type": "stream",
     "text": [
      "herpy_out/arc_20aug10052_px.npy read\n"
     ]
    }
   ],
   "source": [
    "extracted_arc = MHT.read_NPY(arcFileName, \"arc\", \"px\", folder)"
   ]
  },
  {
   "cell_type": "code",
   "execution_count": 317,
   "metadata": {
    "collapsed": false
   },
   "outputs": [
    {
     "name": "stdout",
     "output_type": "stream",
     "text": [
      "Fibre 169\n",
      "Shift between template and this fibre arc -2\n"
     ]
    }
   ],
   "source": [
    "#FULL LOOP\n",
    "\n",
    "#Initialise the 3 output arrays\n",
    "wlSolutions = []\n",
    "wlErrors = []\n",
    "wlPolys = []\n",
    "\n",
    "#loop over each fibre\n",
    "for thisFibre in range(extracted_arc.shape[0])[169:170]:\n",
    "    print 'Fibre',thisFibre\n",
    "\n",
    "    # get the flux from a single arc\n",
    "    objectArc = extracted_arc[thisFibre].copy() \n",
    "    \n",
    "    # Template to build model from.\n",
    "    lineListfFileName = '../linelist_blue.txt'\n",
    "        \n",
    "    #Create the model, etc\n",
    "    thisPoly, thisSolution, thisErr = MHT.make_poly_model_err(objectArc, lineListfFileName)\n",
    "    \n",
    "    #append lists\n",
    "    wlPolys.append(thisPoly)\n",
    "    wlSolutions.append(thisSolution)\n",
    "    wlErrors.append(thisErr)\n",
    "\n",
    "#turn lists into np arrays\n",
    "wlPolys = np.array(wlPolys)\n",
    "wlSolutions = np.array(wlSolutions)\n",
    "wlErrors = np.array(wlErrors)\n",
    "\n",
    "\n",
    "#         plt.plot(x_dense,gaussian(x_dense,p[0],p[1]))\n",
    "#         plt.plot(firstSliceX,firstSliceY/np.max(firstSliceY))\n",
    "#         plt.title(maxIdx)\n",
    "# #         plt.plot(masterArc[thisLineWl[0]-5:thisLineWl[0]+5])\n",
    "#         plt.show()\n"
   ]
  },
  {
   "cell_type": "code",
   "execution_count": 46,
   "metadata": {
    "collapsed": false
   },
   "outputs": [
    {
     "name": "stdout",
     "output_type": "stream",
     "text": [
      "herpy_out/pol_25aug10043_ saved\n",
      "herpy_out/WLS_25aug10043_ saved\n",
      "herpy_out/WLERR_25aug10043_ saved\n"
     ]
    }
   ],
   "source": [
    "# MHT.write_NPY(arcFileName, \"pol\", \"\", wlPolys, folder =folder)\n",
    "# MHT.write_NPY(arcFileName, \"WLS\", \"\", wlSolutions, folder =folder)\n",
    "# MHT.write_NPY(arcFileName, \"WLERR\", \"\", wlErrors, folder =folder)"
   ]
  },
  {
   "cell_type": "code",
   "execution_count": 251,
   "metadata": {
    "collapsed": false
   },
   "outputs": [
    {
     "name": "stdout",
     "output_type": "stream",
     "text": [
      "Found 83 peaks.\n"
     ]
    }
   ],
   "source": [
    "#extend line list to all peaks\n",
    "#creates the new linelist. Wrong, but equally wrong\n",
    "lineList_v2 = MHT.extend_lineList(extracted_arc[169],wlPolys[0])\n"
   ]
  },
  {
   "cell_type": "code",
   "execution_count": 203,
   "metadata": {
    "collapsed": false
   },
   "outputs": [],
   "source": [
    "# import pylab as plt\n",
    "# plt.plot(wlSolutions[0], extracted_arc[169])\n",
    "# plt.scatter(lineList_v2[:,1],extracted_arc[169][lineList_v2[:,0].astype(int)])\n",
    "# plt.show()"
   ]
  },
  {
   "cell_type": "code",
   "execution_count": 30,
   "metadata": {
    "collapsed": false
   },
   "outputs": [],
   "source": [
    "np.savetxt('../lineList_blue_v2.txt',lineList_v2)\n"
   ]
  },
  {
   "cell_type": "code",
   "execution_count": 233,
   "metadata": {
    "collapsed": false
   },
   "outputs": [],
   "source": [
    "# plt.plot(MHT.flexi_gaussian(range(11), 5,4, 1.5,30,0))\n",
    "# plt.show()"
   ]
  },
  {
   "cell_type": "code",
   "execution_count": 252,
   "metadata": {
    "collapsed": false,
    "scrolled": true
   },
   "outputs": [
    {
     "name": "stdout",
     "output_type": "stream",
     "text": [
      "Fibre 169 epoch 0\n",
      "Fibre 169 epoch 1\n",
      "Fibre 169 epoch 2\n",
      "Fibre 169 epoch 3\n",
      "Fibre 169 epoch 4\n"
     ]
    }
   ],
   "source": [
    "#Get the differences between the wlsolution for epoch 0 and the rest to identify unstable lines\n",
    "import glob\n",
    "reload(MHT)\n",
    "pxValuesEpoch = MHT.px_change_across_epochs(\n",
    "    lineList_v2, glob.glob1(\"herpy_out\",\"WLS*\"), \n",
    "    glob.glob1(\"herpy_out\",\"arc*\"), 169, folder)"
   ]
  },
  {
   "cell_type": "code",
   "execution_count": 277,
   "metadata": {
    "collapsed": false
   },
   "outputs": [],
   "source": [
    "order = 3\n",
    "epochPolyFit = []\n",
    "epochDiffToFit = []\n",
    "\n",
    "#the offsets of 1 epoch per loop\n",
    "for i in range(pxValuesEpoch.shape[1]):\n",
    "    polyFilter = [(pxValuesEpoch[:,i]-pxValuesEpoch[:,0])<10]\n",
    "    thisEpochPolyFit = np.polyfit(pxValuesEpoch[:,0][polyFilter],(pxValuesEpoch[:,i]-pxValuesEpoch[:,0])[polyFilter], order)\n",
    "    thisEpochDiffToFit = np.polynomial.polynomial.polyval(pxValuesEpoch[:,0], thisEpochPolyFit[::-1])-(pxValuesEpoch[:,i]-pxValuesEpoch[:,0])\n",
    "\n",
    "    epochPolyFit.append(thisEpochPolyFit)\n",
    "    epochDiffToFit.append(thisEpochDiffToFit)\n",
    "#     plt.plot(pxValuesEpoch[:,0],pxValuesEpoch[:,i]-pxValuesEpoch[:,0], '.')\n",
    "#     plt.plot(pxValuesEpoch[:,0],np.polynomial.polynomial.polyval(pxValuesEpoch[:,0], thisEpochPolyFit[::-1]))\n",
    "#     plt.plot(pxValuesEpoch[:,0],thisEpochDiffToFit, '.')\n",
    "#     plt.show()\n",
    "\n",
    "#     print thisEpochDiffToFit\n",
    "\n"
   ]
  },
  {
   "cell_type": "code",
   "execution_count": 308,
   "metadata": {
    "collapsed": false
   },
   "outputs": [
    {
     "name": "stdout",
     "output_type": "stream",
     "text": [
      "(43, 2)\n"
     ]
    },
    {
     "name": "stderr",
     "output_type": "stream",
     "text": [
      "/Users/Carlos/Library/Enthought/Canopy_64bit/User/lib/python2.7/site-packages/ipykernel/__main__.py:3: DeprecationWarning: numpy boolean negative (the unary `-` operator) is deprecated, use the bitwise_xor (the `^` operator) or the logical_xor function instead.\n",
      "  app.launch_new_instance()\n",
      "/Users/Carlos/Library/Enthought/Canopy_64bit/User/lib/python2.7/site-packages/ipykernel/__main__.py:5: DeprecationWarning: numpy boolean negative (the unary `-` operator) is deprecated, use the bitwise_xor (the `^` operator) or the logical_xor function instead.\n"
     ]
    }
   ],
   "source": [
    "fibreFilter = np.sum(np.abs(epochDiffToFit)>0.4, axis=0)\n",
    "# print fibreFilter, -fibreFilter.astype(bool)\n",
    "print lineList_v2[-fibreFilter.astype(bool)].shape\n",
    "\n",
    "np.savetxt('../lineList_blue_v3.txt',lineList_v2[-fibreFilter.astype(bool)])\n"
   ]
  }
 ],
 "metadata": {
  "kernelspec": {
   "display_name": "Python 2",
   "language": "python",
   "name": "python2"
  },
  "language_info": {
   "codemirror_mode": {
    "name": "ipython",
    "version": 2
   },
   "file_extension": ".py",
   "mimetype": "text/x-python",
   "name": "python",
   "nbconvert_exporter": "python",
   "pygments_lexer": "ipython2",
   "version": "2.7.3"
  }
 },
 "nbformat": 4,
 "nbformat_minor": 0
}
