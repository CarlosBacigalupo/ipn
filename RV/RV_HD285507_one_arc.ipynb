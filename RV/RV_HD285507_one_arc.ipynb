{
 "metadata": {
  "name": "",
  "signature": "sha256:cffd4c69ac950397dee06603194f4243a1d8f73c46f71d0111eb206148aed80e"
 },
 "nbformat": 3,
 "nbformat_minor": 0,
 "worksheets": [
  {
   "cells": [
    {
     "cell_type": "code",
     "collapsed": false,
     "input": [
      "import glob\n",
      "import os\n",
      "import numpy as np\n",
      "import scipy.constants as const\n",
      "from scipy import signal, interpolate, optimize\n",
      "import pylab as plt\n",
      "import pickle\n",
      "\n",
      "import TableBrowser as tb\n",
      "import RVTools as RVT\n",
      "reload(RVT)\n",
      "import create_obj as cr_obj"
     ],
     "language": "python",
     "metadata": {},
     "outputs": [],
     "prompt_number": 2
    },
    {
     "cell_type": "code",
     "collapsed": false,
     "input": [
      "os.chdir('/Users/Carlos/Documents/HERMES/reductions/HD285507_single_arc_5.76/uncombined/')"
     ],
     "language": "python",
     "metadata": {},
     "outputs": [],
     "prompt_number": 3
    },
    {
     "cell_type": "code",
     "collapsed": false,
     "input": [
      "#load all star names from 1st file\n",
      "fileList = glob.glob('cam1/*.fits')\n",
      "a = tb.FibreTable(fileList[0])\n",
      "starNames=a.target[a.type=='P']\n",
      "\n",
      "print len(starNames)"
     ],
     "language": "python",
     "metadata": {},
     "outputs": [
      {
       "output_type": "stream",
       "stream": "stdout",
       "text": [
        "74\n"
       ]
      }
     ],
     "prompt_number": 11
    },
    {
     "cell_type": "code",
     "collapsed": false,
     "input": [
      "#Loop to create all stars from initial data. No calculations here.\n",
      "#uses create_obj.py to create stars with basic reduced data\n",
      "print 'About to create',len(starNames),'stars'\n",
      "\n",
      "for i in starNames:\n",
      "    thisStar = cr_obj.star(i)\n",
      "    thisStar.exposures = cr_obj.exposures()\n",
      "    thisStar.exposures.load_exposures(thisStar.name)\n",
      "    thisStar.exposures.calculate_baryVels(thisStar)\n",
      "    file_pi = open(i+'.obj', 'w') \n",
      "    pickle.dump(thisStar, file_pi) \n",
      "    file_pi.close()"
     ],
     "language": "python",
     "metadata": {},
     "outputs": [
      {
       "output_type": "stream",
       "stream": "stdout",
       "text": [
        "About to create 74 stars\n",
        "Field32 star created\n",
        "Giant35"
       ]
      },
      {
       "output_type": "stream",
       "stream": "stdout",
       "text": [
        " star created\n",
        "Giant28"
       ]
      },
      {
       "output_type": "stream",
       "stream": "stdout",
       "text": [
        " star created\n",
        "Giant12"
       ]
      },
      {
       "output_type": "stream",
       "stream": "stdout",
       "text": [
        " star created\n",
        "Giant16"
       ]
      },
      {
       "output_type": "stream",
       "stream": "stdout",
       "text": [
        " star created\n",
        "Giant08"
       ]
      },
      {
       "output_type": "stream",
       "stream": "stdout",
       "text": [
        " star created\n",
        "Field05"
       ]
      },
      {
       "output_type": "stream",
       "stream": "stdout",
       "text": [
        " star created\n",
        "Field16"
       ]
      },
      {
       "output_type": "stream",
       "stream": "stdout",
       "text": [
        " star created\n",
        "Giant02"
       ]
      },
      {
       "output_type": "stream",
       "stream": "stdout",
       "text": [
        " star created\n",
        "Field34"
       ]
      },
      {
       "output_type": "stream",
       "stream": "stdout",
       "text": [
        " star created\n",
        "Field24"
       ]
      },
      {
       "output_type": "stream",
       "stream": "stdout",
       "text": [
        " star created\n",
        "Giant10"
       ]
      },
      {
       "output_type": "stream",
       "stream": "stdout",
       "text": [
        " star created\n",
        "Field28"
       ]
      },
      {
       "output_type": "stream",
       "stream": "stdout",
       "text": [
        " star created\n",
        "Giant36"
       ]
      },
      {
       "output_type": "stream",
       "stream": "stdout",
       "text": [
        " star created\n",
        "Field08"
       ]
      },
      {
       "output_type": "stream",
       "stream": "stdout",
       "text": [
        " star created\n",
        "Giant13"
       ]
      },
      {
       "output_type": "stream",
       "stream": "stdout",
       "text": [
        " star created\n",
        "Field36"
       ]
      },
      {
       "output_type": "stream",
       "stream": "stdout",
       "text": [
        " star created\n",
        "Field38"
       ]
      },
      {
       "output_type": "stream",
       "stream": "stdout",
       "text": [
        " star created\n",
        "Field39"
       ]
      },
      {
       "output_type": "stream",
       "stream": "stdout",
       "text": [
        " star created\n",
        "Field11"
       ]
      },
      {
       "output_type": "stream",
       "stream": "stdout",
       "text": [
        " star created\n",
        "Giant24"
       ]
      },
      {
       "output_type": "stream",
       "stream": "stdout",
       "text": [
        " star created\n",
        "Giant03"
       ]
      },
      {
       "output_type": "stream",
       "stream": "stdout",
       "text": [
        " star created\n",
        "Giant33"
       ]
      },
      {
       "output_type": "stream",
       "stream": "stdout",
       "text": [
        " star created\n",
        "Field02"
       ]
      },
      {
       "output_type": "stream",
       "stream": "stdout",
       "text": [
        " star created\n",
        "Giant18"
       ]
      },
      {
       "output_type": "stream",
       "stream": "stdout",
       "text": [
        " star created\n",
        "Giant29"
       ]
      },
      {
       "output_type": "stream",
       "stream": "stdout",
       "text": [
        " star created\n",
        "Field06"
       ]
      },
      {
       "output_type": "stream",
       "stream": "stdout",
       "text": [
        " star created\n",
        "Field15"
       ]
      },
      {
       "output_type": "stream",
       "stream": "stdout",
       "text": [
        " star created\n",
        "Giant31"
       ]
      },
      {
       "output_type": "stream",
       "stream": "stdout",
       "text": [
        " star created\n",
        "Giant26"
       ]
      },
      {
       "output_type": "stream",
       "stream": "stdout",
       "text": [
        " star created\n",
        "Giant38"
       ]
      },
      {
       "output_type": "stream",
       "stream": "stdout",
       "text": [
        " star created\n",
        "Field03"
       ]
      },
      {
       "output_type": "stream",
       "stream": "stdout",
       "text": [
        " star created\n",
        "Giant27"
       ]
      },
      {
       "output_type": "stream",
       "stream": "stdout",
       "text": [
        " star created\n",
        "Field23"
       ]
      },
      {
       "output_type": "stream",
       "stream": "stdout",
       "text": [
        " star created\n",
        "Field21"
       ]
      },
      {
       "output_type": "stream",
       "stream": "stdout",
       "text": [
        " star created\n",
        "Field40"
       ]
      },
      {
       "output_type": "stream",
       "stream": "stdout",
       "text": [
        " star created\n",
        "Field25"
       ]
      },
      {
       "output_type": "stream",
       "stream": "stdout",
       "text": [
        " star created\n",
        "Giant25"
       ]
      },
      {
       "output_type": "stream",
       "stream": "stdout",
       "text": [
        " star created\n",
        "Giant30"
       ]
      },
      {
       "output_type": "stream",
       "stream": "stdout",
       "text": [
        " star created\n",
        "Giant37"
       ]
      },
      {
       "output_type": "stream",
       "stream": "stdout",
       "text": [
        " star created\n",
        "Giant14"
       ]
      },
      {
       "output_type": "stream",
       "stream": "stdout",
       "text": [
        " star created\n",
        "Giant04"
       ]
      },
      {
       "output_type": "stream",
       "stream": "stdout",
       "text": [
        " star created\n",
        "Giant05"
       ]
      },
      {
       "output_type": "stream",
       "stream": "stdout",
       "text": [
        " star created\n",
        "Field14"
       ]
      },
      {
       "output_type": "stream",
       "stream": "stdout",
       "text": [
        " star created\n",
        "Giant01"
       ]
      },
      {
       "output_type": "stream",
       "stream": "stdout",
       "text": [
        " star created\n",
        "Giant34"
       ]
      },
      {
       "output_type": "stream",
       "stream": "stdout",
       "text": [
        " star created\n",
        "Field07"
       ]
      },
      {
       "output_type": "stream",
       "stream": "stdout",
       "text": [
        " star created\n",
        "Field13"
       ]
      },
      {
       "output_type": "stream",
       "stream": "stdout",
       "text": [
        " star created\n",
        "Giant17"
       ]
      },
      {
       "output_type": "stream",
       "stream": "stdout",
       "text": [
        " star created\n",
        "Field18"
       ]
      },
      {
       "output_type": "stream",
       "stream": "stdout",
       "text": [
        " star created\n",
        "Giant09"
       ]
      },
      {
       "output_type": "stream",
       "stream": "stdout",
       "text": [
        " star created\n",
        "Giant06"
       ]
      },
      {
       "output_type": "stream",
       "stream": "stdout",
       "text": [
        " star created\n",
        "Field09"
       ]
      },
      {
       "output_type": "stream",
       "stream": "stdout",
       "text": [
        " star created\n",
        "Giant32"
       ]
      },
      {
       "output_type": "stream",
       "stream": "stdout",
       "text": [
        " star created\n",
        "Field17"
       ]
      },
      {
       "output_type": "stream",
       "stream": "stdout",
       "text": [
        " star created\n",
        "Field30"
       ]
      },
      {
       "output_type": "stream",
       "stream": "stdout",
       "text": [
        " star created\n",
        "Field12"
       ]
      },
      {
       "output_type": "stream",
       "stream": "stdout",
       "text": [
        " star created\n",
        "Field27"
       ]
      },
      {
       "output_type": "stream",
       "stream": "stdout",
       "text": [
        " star created\n",
        "Giant22"
       ]
      },
      {
       "output_type": "stream",
       "stream": "stdout",
       "text": [
        " star created\n",
        "Giant15"
       ]
      },
      {
       "output_type": "stream",
       "stream": "stdout",
       "text": [
        " star created\n",
        "Field04"
       ]
      },
      {
       "output_type": "stream",
       "stream": "stdout",
       "text": [
        " star created\n",
        "Giant11"
       ]
      },
      {
       "output_type": "stream",
       "stream": "stdout",
       "text": [
        " star created\n",
        "Giant19"
       ]
      },
      {
       "output_type": "stream",
       "stream": "stdout",
       "text": [
        " star created\n",
        "Field19"
       ]
      },
      {
       "output_type": "stream",
       "stream": "stdout",
       "text": [
        " star created\n",
        "Field33"
       ]
      },
      {
       "output_type": "stream",
       "stream": "stdout",
       "text": [
        " star created\n",
        "Field22"
       ]
      },
      {
       "output_type": "stream",
       "stream": "stdout",
       "text": [
        " star created\n",
        "Field37"
       ]
      },
      {
       "output_type": "stream",
       "stream": "stdout",
       "text": [
        " star created\n",
        "Giant21"
       ]
      },
      {
       "output_type": "stream",
       "stream": "stdout",
       "text": [
        " star created\n",
        "Field41"
       ]
      },
      {
       "output_type": "stream",
       "stream": "stdout",
       "text": [
        " star created\n",
        "Giant23"
       ]
      },
      {
       "output_type": "stream",
       "stream": "stdout",
       "text": [
        " star created\n",
        "Field31"
       ]
      },
      {
       "output_type": "stream",
       "stream": "stdout",
       "text": [
        " star created\n",
        "Field35"
       ]
      },
      {
       "output_type": "stream",
       "stream": "stdout",
       "text": [
        " star created\n",
        "Field42"
       ]
      },
      {
       "output_type": "stream",
       "stream": "stdout",
       "text": [
        " star created\n",
        "Giant20"
       ]
      },
      {
       "output_type": "stream",
       "stream": "stdout",
       "text": [
        " star created\n"
       ]
      }
     ],
     "prompt_number": 12
    },
    {
     "cell_type": "code",
     "collapsed": false,
     "input": [
      "#takes each <star_name>.obj and calculates RVs, etc. Saves red_<star_name>.obj\n",
      "#it won't create the .obj file when errors found, only safe stars will exist but \n",
      "#log should be checked to catch good stars that may have been flagged mistakenly.\n",
      "\n",
      "\n",
      "xDef = 10 #resampling points per pixel\n",
      "CCMaskWidth = 5 #half width around the peak of the cc curve to be gaussian fitted\n",
      "\n",
      "for i in starNames:\n",
      "    print i\n",
      "    filename = i+'.obj'\n",
      "    filehandler = open(filename, 'r')\n",
      "    thisStar = pickle.load(filehandler)\n",
      "    try:\n",
      "        RVT.find_max_wl_range(thisStar)\n",
      "        RVT.RVs_CC_t0(thisStar)\n",
      "\n",
      "        file_pi = open('red_'+thisStar.name+'.obj', 'w') \n",
      "        pickle.dump(thisStar, file_pi) \n",
      "        file_pi.close()\n",
      "    except:\n",
      "        print 'CC failed (probably NaNs)'\n",
      "    thisStar = None\n",
      "    print ''"
     ],
     "language": "python",
     "metadata": {},
     "outputs": [
      {
       "output_type": "stream",
       "stream": "stdout",
       "text": [
        " Field32\n",
        "WL aligned"
       ]
      },
      {
       "output_type": "stream",
       "stream": "stdout",
       "text": [
        "\n",
        "WL aligned\n",
        "WL aligned\n",
        "WL aligned\n",
        "56889.7312269 "
       ]
      },
      {
       "output_type": "stream",
       "stream": "stdout",
       "text": [
        "56889.7409558 "
       ]
      },
      {
       "output_type": "stream",
       "stream": "stdout",
       "text": [
        "56889.7558863 56890.7344779 "
       ]
      },
      {
       "output_type": "stream",
       "stream": "stdout",
       "text": [
        "56890.7561996 56890.7779248 "
       ]
      },
      {
       "output_type": "stream",
       "stream": "stdout",
       "text": [
        "56891.7214011 56891.7361919 "
       ]
      },
      {
       "output_type": "stream",
       "stream": "stdout",
       "text": [
        "56891.7509697 56893.7742145 "
       ]
      },
      {
       "output_type": "stream",
       "stream": "stdout",
       "text": [
        "56893.7889874 56893.8041221 "
       ]
      },
      {
       "output_type": "stream",
       "stream": "stdout",
       "text": [
        "56894.7584364 "
       ]
      },
      {
       "output_type": "stream",
       "stream": "stdout",
       "text": [
        "56894.7732268 56894.7880043 "
       ]
      },
      {
       "output_type": "stream",
       "stream": "stdout",
       "text": [
        "\n",
        "56889.7312269 CC failed (probably NaNs)\n",
        "Giant35\n",
        "WL aligned"
       ]
      },
      {
       "output_type": "stream",
       "stream": "stdout",
       "text": [
        "\n",
        "WL aligned\n",
        "WL aligned\n",
        "WL aligned\n",
        "56889.7312269 "
       ]
      },
      {
       "output_type": "stream",
       "stream": "stdout",
       "text": [
        "56889.7409558 56889.7558863 "
       ]
      },
      {
       "output_type": "stream",
       "stream": "stdout",
       "text": [
        "56890.7344779 56890.7561996 "
       ]
      },
      {
       "output_type": "stream",
       "stream": "stdout",
       "text": [
        "56890.7779248 56891.7214011 "
       ]
      },
      {
       "output_type": "stream",
       "stream": "stdout",
       "text": [
        "56891.7361919 "
       ]
      },
      {
       "output_type": "stream",
       "stream": "stdout",
       "text": [
        "56891.7509697 56893.7742145 "
       ]
      },
      {
       "output_type": "stream",
       "stream": "stdout",
       "text": [
        "56893.7889874 "
       ]
      },
      {
       "output_type": "stream",
       "stream": "stdout",
       "text": [
        "56893.8041221 56894.7584364 "
       ]
      },
      {
       "output_type": "stream",
       "stream": "stdout",
       "text": [
        "56894.7732268 56894.7880043 "
       ]
      },
      {
       "output_type": "stream",
       "stream": "stdout",
       "text": [
        "\n",
        "56889.7312269 "
       ]
      },
      {
       "output_type": "stream",
       "stream": "stdout",
       "text": [
        "56889.7409558 "
       ]
      },
      {
       "output_type": "stream",
       "stream": "stdout",
       "text": [
        "56889.7558863 "
       ]
      },
      {
       "output_type": "stream",
       "stream": "stdout",
       "text": [
        "56890.7344779 "
       ]
      },
      {
       "output_type": "stream",
       "stream": "stdout",
       "text": [
        "56890.7561996 "
       ]
      },
      {
       "output_type": "stream",
       "stream": "stdout",
       "text": [
        "56890.7779248 56891.7214011 "
       ]
      },
      {
       "output_type": "stream",
       "stream": "stdout",
       "text": [
        "56891.7361919 "
       ]
      },
      {
       "output_type": "stream",
       "stream": "stdout",
       "text": [
        "56891.7509697 56893.7742145 "
       ]
      },
      {
       "output_type": "stream",
       "stream": "stdout",
       "text": [
        "56893.7889874 "
       ]
      },
      {
       "output_type": "stream",
       "stream": "stdout",
       "text": [
        "56893.8041221 "
       ]
      },
      {
       "output_type": "stream",
       "stream": "stdout",
       "text": [
        "56894.7584364 "
       ]
      },
      {
       "output_type": "stream",
       "stream": "stdout",
       "text": [
        "56894.7732268 "
       ]
      },
      {
       "output_type": "stream",
       "stream": "stdout",
       "text": [
        "56894.7880043 "
       ]
      },
      {
       "output_type": "stream",
       "stream": "stdout",
       "text": [
        "\n",
        "56889.7312269 "
       ]
      },
      {
       "output_type": "stream",
       "stream": "stdout",
       "text": [
        "56889.7409558 "
       ]
      },
      {
       "output_type": "stream",
       "stream": "stdout",
       "text": [
        "56889.7558863 "
       ]
      },
      {
       "output_type": "stream",
       "stream": "stdout",
       "text": [
        "56890.7344779 56890.7561996 "
       ]
      },
      {
       "output_type": "stream",
       "stream": "stdout",
       "text": [
        "56890.7779248 56891.7214011 "
       ]
      },
      {
       "output_type": "stream",
       "stream": "stdout",
       "text": [
        "56891.7361919 56891.7509697 "
       ]
      },
      {
       "output_type": "stream",
       "stream": "stdout",
       "text": [
        "56893.7742145 56893.7889874 "
       ]
      },
      {
       "output_type": "stream",
       "stream": "stdout",
       "text": [
        "56893.8041221 56894.7584364 "
       ]
      },
      {
       "output_type": "stream",
       "stream": "stdout",
       "text": [
        "56894.7732268 56894.7880043 "
       ]
      },
      {
       "output_type": "stream",
       "stream": "stdout",
       "text": [
        "\n",
        "56889.7312269 "
       ]
      },
      {
       "output_type": "stream",
       "stream": "stdout",
       "text": [
        "56889.7409558 56889.7558863 "
       ]
      },
      {
       "output_type": "stream",
       "stream": "stdout",
       "text": [
        "56890.7344779 "
       ]
      },
      {
       "output_type": "stream",
       "stream": "stdout",
       "text": [
        "56890.7561996 "
       ]
      },
      {
       "output_type": "stream",
       "stream": "stdout",
       "text": [
        "56890.7779248 "
       ]
      },
      {
       "output_type": "stream",
       "stream": "stdout",
       "text": [
        "56891.7214011 56891.7361919 "
       ]
      },
      {
       "output_type": "stream",
       "stream": "stdout",
       "text": [
        "56891.7509697 56893.7742145 "
       ]
      },
      {
       "output_type": "stream",
       "stream": "stdout",
       "text": [
        "56893.7889874 56893.8041221 "
       ]
      },
      {
       "output_type": "stream",
       "stream": "stdout",
       "text": [
        "56894.7584364 56894.7732268 "
       ]
      },
      {
       "output_type": "stream",
       "stream": "stdout",
       "text": [
        "56894.7880043 \n",
        "Giant28"
       ]
      },
      {
       "output_type": "stream",
       "stream": "stdout",
       "text": [
        "\n",
        "WL aligned"
       ]
      },
      {
       "output_type": "stream",
       "stream": "stdout",
       "text": [
        "\n",
        "WL aligned\n",
        "WL aligned\n",
        "WL aligned\n",
        "56889.7312269 "
       ]
      },
      {
       "output_type": "stream",
       "stream": "stdout",
       "text": [
        "56889.7409558 56889.7558863 "
       ]
      },
      {
       "output_type": "stream",
       "stream": "stdout",
       "text": [
        "56890.7344779 56890.7561996 "
       ]
      },
      {
       "output_type": "stream",
       "stream": "stdout",
       "text": [
        "56890.7779248 "
       ]
      },
      {
       "output_type": "stream",
       "stream": "stdout",
       "text": [
        "56891.7214011 "
       ]
      },
      {
       "output_type": "stream",
       "stream": "stdout",
       "text": [
        "56891.7361919 "
       ]
      },
      {
       "output_type": "stream",
       "stream": "stdout",
       "text": [
        "56891.7509697 "
       ]
      },
      {
       "output_type": "stream",
       "stream": "stdout",
       "text": [
        "56893.7742145 56893.7889874 "
       ]
      },
      {
       "output_type": "stream",
       "stream": "stdout",
       "text": [
        "56893.8041221 56894.7584364 "
       ]
      },
      {
       "output_type": "stream",
       "stream": "stdout",
       "text": [
        "56894.7732268 56894.7880043 "
       ]
      },
      {
       "output_type": "stream",
       "stream": "stdout",
       "text": [
        "\n",
        "56889.7312269 "
       ]
      },
      {
       "output_type": "stream",
       "stream": "stdout",
       "text": [
        "56889.7409558 56889.7558863 "
       ]
      },
      {
       "output_type": "stream",
       "stream": "stdout",
       "text": [
        "56890.7344779 56890.7561996 "
       ]
      },
      {
       "output_type": "stream",
       "stream": "stdout",
       "text": [
        "56890.7779248 56891.7214011 "
       ]
      },
      {
       "output_type": "stream",
       "stream": "stdout",
       "text": [
        "56891.7361919 "
       ]
      },
      {
       "output_type": "stream",
       "stream": "stdout",
       "text": [
        "56891.7509697 56893.7742145 "
       ]
      },
      {
       "output_type": "stream",
       "stream": "stdout",
       "text": [
        "56893.7889874 56893.8041221 "
       ]
      },
      {
       "output_type": "stream",
       "stream": "stdout",
       "text": [
        "56894.7584364 56894.7732268 "
       ]
      },
      {
       "output_type": "stream",
       "stream": "stdout",
       "text": [
        "56894.7880043 \n",
        "56889.7312269 "
       ]
      },
      {
       "output_type": "stream",
       "stream": "stdout",
       "text": [
        "56889.7409558 56889.7558863 "
       ]
      },
      {
       "output_type": "stream",
       "stream": "stdout",
       "text": [
        "56890.7344779 56890.7561996 "
       ]
      },
      {
       "output_type": "stream",
       "stream": "stdout",
       "text": [
        "56890.7779248 56891.7214011 "
       ]
      },
      {
       "output_type": "stream",
       "stream": "stdout",
       "text": [
        "56891.7361919 56891.7509697 "
       ]
      },
      {
       "output_type": "stream",
       "stream": "stdout",
       "text": [
        "56893.7742145 56893.7889874 "
       ]
      },
      {
       "output_type": "stream",
       "stream": "stdout",
       "text": [
        "56893.8041221 56894.7584364 "
       ]
      },
      {
       "output_type": "stream",
       "stream": "stdout",
       "text": [
        "56894.7732268 56894.7880043 "
       ]
      },
      {
       "output_type": "stream",
       "stream": "stdout",
       "text": [
        "\n",
        "56889.7312269 56889.7409558 "
       ]
      },
      {
       "output_type": "stream",
       "stream": "stdout",
       "text": [
        "56889.7558863 56890.7344779 "
       ]
      },
      {
       "output_type": "stream",
       "stream": "stdout",
       "text": [
        "56890.7561996 56890.7779248 "
       ]
      },
      {
       "output_type": "stream",
       "stream": "stdout",
       "text": [
        "56891.7214011 56891.7361919 "
       ]
      },
      {
       "output_type": "stream",
       "stream": "stdout",
       "text": [
        "56891.7509697 56893.7742145 "
       ]
      },
      {
       "output_type": "stream",
       "stream": "stdout",
       "text": [
        "56893.7889874 "
       ]
      },
      {
       "output_type": "stream",
       "stream": "stdout",
       "text": [
        "56893.8041221 56894.7584364 "
       ]
      },
      {
       "output_type": "stream",
       "stream": "stdout",
       "text": [
        "56894.7732268 56894.7880043 "
       ]
      },
      {
       "output_type": "stream",
       "stream": "stdout",
       "text": [
        "\n",
        "Giant12"
       ]
      },
      {
       "output_type": "stream",
       "stream": "stdout",
       "text": [
        "\n",
        "WL aligned"
       ]
      },
      {
       "output_type": "stream",
       "stream": "stdout",
       "text": [
        "\n",
        "WL aligned\n",
        "WL aligned\n",
        "WL aligned\n",
        "56889.7312269 "
       ]
      },
      {
       "output_type": "stream",
       "stream": "stdout",
       "text": [
        "56889.7409558 56889.7558863 "
       ]
      },
      {
       "output_type": "stream",
       "stream": "stdout",
       "text": [
        "56890.7344779 56890.7561996 "
       ]
      },
      {
       "output_type": "stream",
       "stream": "stdout",
       "text": [
        "56890.7779248 "
       ]
      },
      {
       "output_type": "stream",
       "stream": "stdout",
       "text": [
        "56891.7214011 56891.7361919 "
       ]
      },
      {
       "output_type": "stream",
       "stream": "stdout",
       "text": [
        "56891.7509697 "
       ]
      },
      {
       "output_type": "stream",
       "stream": "stdout",
       "text": [
        "56893.7742145 "
       ]
      },
      {
       "output_type": "stream",
       "stream": "stdout",
       "text": [
        "56893.7889874 "
       ]
      },
      {
       "output_type": "stream",
       "stream": "stdout",
       "text": [
        "56893.8041221 "
       ]
      },
      {
       "output_type": "stream",
       "stream": "stdout",
       "text": [
        "56894.7584364 "
       ]
      },
      {
       "output_type": "stream",
       "stream": "stdout",
       "text": [
        "56894.7732268 "
       ]
      },
      {
       "output_type": "stream",
       "stream": "stdout",
       "text": [
        "56894.7880043 \n",
        "56889.7312269"
       ]
      },
      {
       "output_type": "stream",
       "stream": "stdout",
       "text": [
        " 56889.7409558 "
       ]
      },
      {
       "output_type": "stream",
       "stream": "stdout",
       "text": [
        "56889.7558863 "
       ]
      },
      {
       "output_type": "stream",
       "stream": "stdout",
       "text": [
        "56890.7344779 "
       ]
      },
      {
       "output_type": "stream",
       "stream": "stdout",
       "text": [
        "56890.7561996 56890.7779248 "
       ]
      },
      {
       "output_type": "stream",
       "stream": "stdout",
       "text": [
        "56891.7214011 56891.7361919 "
       ]
      },
      {
       "output_type": "stream",
       "stream": "stdout",
       "text": [
        "56891.7509697 56893.7742145 "
       ]
      },
      {
       "output_type": "stream",
       "stream": "stdout",
       "text": [
        "56893.7889874 56893.8041221 "
       ]
      },
      {
       "output_type": "stream",
       "stream": "stdout",
       "text": [
        "56894.7584364 "
       ]
      },
      {
       "output_type": "stream",
       "stream": "stdout",
       "text": [
        "56894.7732268 "
       ]
      },
      {
       "output_type": "stream",
       "stream": "stdout",
       "text": [
        "56894.7880043 \n",
        "56889.7312269"
       ]
      },
      {
       "output_type": "stream",
       "stream": "stdout",
       "text": [
        " 56889.7409558 "
       ]
      },
      {
       "output_type": "stream",
       "stream": "stdout",
       "text": [
        "56889.7558863 "
       ]
      },
      {
       "output_type": "stream",
       "stream": "stdout",
       "text": [
        "56890.7344779 56890.7561996 "
       ]
      },
      {
       "output_type": "stream",
       "stream": "stdout",
       "text": [
        "56890.7779248 "
       ]
      },
      {
       "output_type": "stream",
       "stream": "stdout",
       "text": [
        "56891.7214011 56891.7361919 "
       ]
      },
      {
       "output_type": "stream",
       "stream": "stdout",
       "text": [
        "56891.7509697 56893.7742145 "
       ]
      },
      {
       "output_type": "stream",
       "stream": "stdout",
       "text": [
        "56893.7889874 "
       ]
      },
      {
       "output_type": "stream",
       "stream": "stdout",
       "text": [
        "56893.8041221 56894.7584364 "
       ]
      },
      {
       "output_type": "stream",
       "stream": "stdout",
       "text": [
        "56894.7732268 56894.7880043 "
       ]
      },
      {
       "output_type": "stream",
       "stream": "stdout",
       "text": [
        "\n",
        "56889.7312269 "
       ]
      },
      {
       "output_type": "stream",
       "stream": "stdout",
       "text": [
        "56889.7409558 "
       ]
      },
      {
       "output_type": "stream",
       "stream": "stdout",
       "text": [
        "56889.7558863 56890.7344779 "
       ]
      },
      {
       "output_type": "stream",
       "stream": "stdout",
       "text": [
        "56890.7561996 56890.7779248 "
       ]
      },
      {
       "output_type": "stream",
       "stream": "stdout",
       "text": [
        "56891.7214011 56891.7361919 "
       ]
      },
      {
       "output_type": "stream",
       "stream": "stdout",
       "text": [
        "56891.7509697 56893.7742145 "
       ]
      },
      {
       "output_type": "stream",
       "stream": "stdout",
       "text": [
        "56893.7889874 56893.8041221 "
       ]
      },
      {
       "output_type": "stream",
       "stream": "stdout",
       "text": [
        "56894.7584364 56894.7732268 "
       ]
      },
      {
       "output_type": "stream",
       "stream": "stdout",
       "text": [
        "56894.7880043 \n",
        "Giant16"
       ]
      },
      {
       "output_type": "stream",
       "stream": "stdout",
       "text": [
        "\n",
        "WL aligned"
       ]
      },
      {
       "output_type": "stream",
       "stream": "stdout",
       "text": [
        "\n",
        "WL aligned\n",
        "WL aligned\n",
        "WL aligned\n",
        "56889.7312269 "
       ]
      },
      {
       "output_type": "stream",
       "stream": "stdout",
       "text": [
        "56889.7409558 56889.7558863 "
       ]
      },
      {
       "output_type": "stream",
       "stream": "stdout",
       "text": [
        "56890.7344779 56890.7561996 "
       ]
      },
      {
       "output_type": "stream",
       "stream": "stdout",
       "text": [
        "56890.7779248 56891.7214011 "
       ]
      },
      {
       "output_type": "stream",
       "stream": "stdout",
       "text": [
        "56891.7361919 "
       ]
      },
      {
       "output_type": "stream",
       "stream": "stdout",
       "text": [
        "56891.7509697 "
       ]
      },
      {
       "output_type": "stream",
       "stream": "stdout",
       "text": [
        "56893.7742145 56893.7889874 "
       ]
      },
      {
       "output_type": "stream",
       "stream": "stdout",
       "text": [
        "56893.8041221 56894.7584364 "
       ]
      },
      {
       "output_type": "stream",
       "stream": "stdout",
       "text": [
        "56894.7732268 56894.7880043 "
       ]
      },
      {
       "output_type": "stream",
       "stream": "stdout",
       "text": [
        "\n",
        "56889.7312269 56889.7409558 "
       ]
      },
      {
       "output_type": "stream",
       "stream": "stdout",
       "text": [
        "56889.7558863 56890.7344779 "
       ]
      },
      {
       "output_type": "stream",
       "stream": "stdout",
       "text": [
        "56890.7561996 56890.7779248 "
       ]
      },
      {
       "output_type": "stream",
       "stream": "stdout",
       "text": [
        "56891.7214011 56891.7361919 "
       ]
      },
      {
       "output_type": "stream",
       "stream": "stdout",
       "text": [
        "56891.7509697 56893.7742145 "
       ]
      },
      {
       "output_type": "stream",
       "stream": "stdout",
       "text": [
        "56893.7889874 "
       ]
      },
      {
       "output_type": "stream",
       "stream": "stdout",
       "text": [
        "56893.8041221 56894.7584364 "
       ]
      },
      {
       "output_type": "stream",
       "stream": "stdout",
       "text": [
        "56894.7732268 56894.7880043 "
       ]
      },
      {
       "output_type": "stream",
       "stream": "stdout",
       "text": [
        "\n",
        "56889.7312269 "
       ]
      },
      {
       "output_type": "stream",
       "stream": "stdout",
       "text": [
        "56889.7409558 56889.7558863 "
       ]
      },
      {
       "output_type": "stream",
       "stream": "stdout",
       "text": [
        "56890.7344779 "
       ]
      },
      {
       "output_type": "stream",
       "stream": "stdout",
       "text": [
        "56890.7561996 56890.7779248 "
       ]
      },
      {
       "output_type": "stream",
       "stream": "stdout",
       "text": [
        "56891.7214011 56891.7361919 "
       ]
      },
      {
       "output_type": "stream",
       "stream": "stdout",
       "text": [
        "56891.7509697 "
       ]
      },
      {
       "output_type": "stream",
       "stream": "stdout",
       "text": [
        "56893.7742145 "
       ]
      },
      {
       "output_type": "stream",
       "stream": "stdout",
       "text": [
        "56893.7889874 56893.8041221 "
       ]
      },
      {
       "output_type": "stream",
       "stream": "stdout",
       "text": [
        "56894.7584364 "
       ]
      },
      {
       "output_type": "stream",
       "stream": "stdout",
       "text": [
        "56894.7732268 56894.7880043 "
       ]
      },
      {
       "output_type": "stream",
       "stream": "stdout",
       "text": [
        "\n",
        "56889.7312269 "
       ]
      },
      {
       "output_type": "stream",
       "stream": "stdout",
       "text": [
        "56889.7409558 56889.7558863 "
       ]
      },
      {
       "output_type": "stream",
       "stream": "stdout",
       "text": [
        "56890.7344779 56890.7561996 "
       ]
      },
      {
       "output_type": "stream",
       "stream": "stdout",
       "text": [
        "56890.7779248 56891.7214011 "
       ]
      },
      {
       "output_type": "stream",
       "stream": "stdout",
       "text": [
        "56891.7361919 56891.7509697 "
       ]
      },
      {
       "output_type": "stream",
       "stream": "stdout",
       "text": [
        "56893.7742145 56893.7889874 "
       ]
      },
      {
       "output_type": "stream",
       "stream": "stdout",
       "text": [
        "56893.8041221 "
       ]
      },
      {
       "output_type": "stream",
       "stream": "stdout",
       "text": [
        "56894.7584364 "
       ]
      },
      {
       "output_type": "stream",
       "stream": "stdout",
       "text": [
        "56894.7732268 "
       ]
      },
      {
       "output_type": "stream",
       "stream": "stdout",
       "text": [
        "56894.7880043 \n",
        "Giant08"
       ]
      },
      {
       "output_type": "stream",
       "stream": "stdout",
       "text": [
        "\n",
        "WL aligned"
       ]
      },
      {
       "output_type": "stream",
       "stream": "stdout",
       "text": [
        "\n",
        "WL aligned\n",
        "WL aligned\n",
        "WL aligned\n",
        "56889.7312269 CC failed (probably NaNs)\n",
        "Field05\n",
        "WL aligned"
       ]
      },
      {
       "output_type": "stream",
       "stream": "stdout",
       "text": [
        "\n",
        "WL aligned\n",
        "WL aligned\n",
        "WL aligned\n",
        "56889.7312269 "
       ]
      },
      {
       "output_type": "stream",
       "stream": "stdout",
       "text": [
        "56889.7409558 "
       ]
      },
      {
       "output_type": "stream",
       "stream": "stdout",
       "text": [
        "56889.7558863 56890.7344779 "
       ]
      },
      {
       "output_type": "stream",
       "stream": "stdout",
       "text": [
        "56890.7561996 "
       ]
      },
      {
       "output_type": "stream",
       "stream": "stdout",
       "text": [
        "56890.7779248 "
       ]
      },
      {
       "output_type": "stream",
       "stream": "stdout",
       "text": [
        "56891.7214011 "
       ]
      },
      {
       "output_type": "stream",
       "stream": "stdout",
       "text": [
        "56891.7361919 "
       ]
      },
      {
       "output_type": "stream",
       "stream": "stdout",
       "text": [
        "56891.7509697 "
       ]
      },
      {
       "output_type": "stream",
       "stream": "stdout",
       "text": [
        "56893.7742145 56893.7889874 "
       ]
      },
      {
       "output_type": "stream",
       "stream": "stdout",
       "text": [
        "56893.8041221 "
       ]
      },
      {
       "output_type": "stream",
       "stream": "stdout",
       "text": [
        "56894.7584364 "
       ]
      },
      {
       "output_type": "stream",
       "stream": "stdout",
       "text": [
        "56894.7732268 "
       ]
      },
      {
       "output_type": "stream",
       "stream": "stdout",
       "text": [
        "56894.7880043 \n",
        "56889.7312269"
       ]
      },
      {
       "output_type": "stream",
       "stream": "stdout",
       "text": [
        " 56889.7409558 56889.7558863 "
       ]
      },
      {
       "output_type": "stream",
       "stream": "stdout",
       "text": [
        "56890.7344779 56890.7561996 "
       ]
      },
      {
       "output_type": "stream",
       "stream": "stdout",
       "text": [
        "56890.7779248 "
       ]
      },
      {
       "output_type": "stream",
       "stream": "stdout",
       "text": [
        "56891.7214011 "
       ]
      },
      {
       "output_type": "stream",
       "stream": "stdout",
       "text": [
        "56891.7361919 56891.7509697 "
       ]
      },
      {
       "output_type": "stream",
       "stream": "stdout",
       "text": [
        "56893.7742145 "
       ]
      },
      {
       "output_type": "stream",
       "stream": "stdout",
       "text": [
        "56893.7889874 56893.8041221 "
       ]
      },
      {
       "output_type": "stream",
       "stream": "stdout",
       "text": [
        "56894.7584364 56894.7732268 "
       ]
      },
      {
       "output_type": "stream",
       "stream": "stdout",
       "text": [
        "56894.7880043 "
       ]
      },
      {
       "output_type": "stream",
       "stream": "stdout",
       "text": [
        "\n",
        "56889.7312269 "
       ]
      },
      {
       "output_type": "stream",
       "stream": "stdout",
       "text": [
        "56889.7409558 56889.7558863 "
       ]
      },
      {
       "output_type": "stream",
       "stream": "stdout",
       "text": [
        "56890.7344779 56890.7561996 "
       ]
      },
      {
       "output_type": "stream",
       "stream": "stdout",
       "text": [
        "56890.7779248 56891.7214011 "
       ]
      },
      {
       "output_type": "stream",
       "stream": "stdout",
       "text": [
        "56891.7361919 56891.7509697 "
       ]
      },
      {
       "output_type": "stream",
       "stream": "stdout",
       "text": [
        "56893.7742145 "
       ]
      },
      {
       "output_type": "stream",
       "stream": "stdout",
       "text": [
        "56893.7889874 56893.8041221 "
       ]
      },
      {
       "output_type": "stream",
       "stream": "stdout",
       "text": [
        "56894.7584364 "
       ]
      },
      {
       "output_type": "stream",
       "stream": "stdout",
       "text": [
        "56894.7732268 "
       ]
      },
      {
       "output_type": "stream",
       "stream": "stdout",
       "text": [
        "56894.7880043 "
       ]
      },
      {
       "output_type": "stream",
       "stream": "stdout",
       "text": [
        "\n",
        "56889.7312269 "
       ]
      },
      {
       "output_type": "stream",
       "stream": "stdout",
       "text": [
        "56889.7409558 56889.7558863 "
       ]
      },
      {
       "output_type": "stream",
       "stream": "stdout",
       "text": [
        "56890.7344779 56890.7561996 "
       ]
      },
      {
       "output_type": "stream",
       "stream": "stdout",
       "text": [
        "56890.7779248 56891.7214011 "
       ]
      },
      {
       "output_type": "stream",
       "stream": "stdout",
       "text": [
        "56891.7361919 56891.7509697 "
       ]
      },
      {
       "output_type": "stream",
       "stream": "stdout",
       "text": [
        "56893.7742145 "
       ]
      },
      {
       "output_type": "stream",
       "stream": "stdout",
       "text": [
        "56893.7889874 56893.8041221 "
       ]
      },
      {
       "output_type": "stream",
       "stream": "stdout",
       "text": [
        "56894.7584364 "
       ]
      },
      {
       "output_type": "stream",
       "stream": "stdout",
       "text": [
        "56894.7732268 "
       ]
      },
      {
       "output_type": "stream",
       "stream": "stdout",
       "text": [
        "56894.7880043 \n",
        "Field16"
       ]
      },
      {
       "output_type": "stream",
       "stream": "stdout",
       "text": [
        "\n",
        "WL aligned"
       ]
      },
      {
       "output_type": "stream",
       "stream": "stdout",
       "text": [
        "\n",
        "WL aligned\n",
        "WL aligned\n",
        "WL aligned\n",
        "56889.7312269 "
       ]
      },
      {
       "output_type": "stream",
       "stream": "stdout",
       "text": [
        "56889.7409558 "
       ]
      },
      {
       "output_type": "stream",
       "stream": "stdout",
       "text": [
        "56889.7558863 56890.7344779 "
       ]
      },
      {
       "output_type": "stream",
       "stream": "stdout",
       "text": [
        "56890.7561996 56890.7779248 "
       ]
      },
      {
       "output_type": "stream",
       "stream": "stdout",
       "text": [
        "56891.7214011 "
       ]
      },
      {
       "output_type": "stream",
       "stream": "stdout",
       "text": [
        "56891.7361919 "
       ]
      },
      {
       "output_type": "stream",
       "stream": "stdout",
       "text": [
        "56891.7509697 56893.7742145 "
       ]
      },
      {
       "output_type": "stream",
       "stream": "stdout",
       "text": [
        "56893.7889874 "
       ]
      },
      {
       "output_type": "stream",
       "stream": "stdout",
       "text": [
        "56893.8041221 56894.7584364 "
       ]
      },
      {
       "output_type": "stream",
       "stream": "stdout",
       "text": [
        "56894.7732268 56894.7880043 "
       ]
      },
      {
       "output_type": "stream",
       "stream": "stdout",
       "text": [
        "\n",
        "56889.7312269 "
       ]
      },
      {
       "output_type": "stream",
       "stream": "stdout",
       "text": [
        "56889.7409558 "
       ]
      },
      {
       "output_type": "stream",
       "stream": "stdout",
       "text": [
        "56889.7558863 "
       ]
      },
      {
       "output_type": "stream",
       "stream": "stdout",
       "text": [
        "56890.7344779 56890.7561996 "
       ]
      },
      {
       "output_type": "stream",
       "stream": "stdout",
       "text": [
        "56890.7779248 "
       ]
      },
      {
       "output_type": "stream",
       "stream": "stdout",
       "text": [
        "56891.7214011 56891.7361919 "
       ]
      },
      {
       "output_type": "stream",
       "stream": "stdout",
       "text": [
        "56891.7509697 56893.7742145 "
       ]
      },
      {
       "output_type": "stream",
       "stream": "stdout",
       "text": [
        "56893.7889874 56893.8041221 "
       ]
      },
      {
       "output_type": "stream",
       "stream": "stdout",
       "text": [
        "56894.7584364 56894.7732268 "
       ]
      },
      {
       "output_type": "stream",
       "stream": "stdout",
       "text": [
        "56894.7880043 "
       ]
      },
      {
       "output_type": "stream",
       "stream": "stdout",
       "text": [
        "\n",
        "56889.7312269 "
       ]
      },
      {
       "output_type": "stream",
       "stream": "stdout",
       "text": [
        "56889.7409558 "
       ]
      },
      {
       "output_type": "stream",
       "stream": "stdout",
       "text": [
        "56889.7558863 56890.7344779 "
       ]
      },
      {
       "output_type": "stream",
       "stream": "stdout",
       "text": [
        "56890.7561996 "
       ]
      },
      {
       "output_type": "stream",
       "stream": "stdout",
       "text": [
        "56890.7779248 "
       ]
      },
      {
       "output_type": "stream",
       "stream": "stdout",
       "text": [
        "56891.7214011 56891.7361919 "
       ]
      },
      {
       "output_type": "stream",
       "stream": "stdout",
       "text": [
        "56891.7509697 56893.7742145 "
       ]
      },
      {
       "output_type": "stream",
       "stream": "stdout",
       "text": [
        "56893.7889874 56893.8041221 "
       ]
      },
      {
       "output_type": "stream",
       "stream": "stdout",
       "text": [
        "56894.7584364 56894.7732268 "
       ]
      },
      {
       "output_type": "stream",
       "stream": "stdout",
       "text": [
        "56894.7880043 \n",
        "56889.7312269"
       ]
      },
      {
       "output_type": "stream",
       "stream": "stdout",
       "text": [
        " 56889.7409558 56889.7558863 "
       ]
      },
      {
       "output_type": "stream",
       "stream": "stdout",
       "text": [
        "56890.7344779 56890.7561996 "
       ]
      },
      {
       "output_type": "stream",
       "stream": "stdout",
       "text": [
        "56890.7779248 56891.7214011 "
       ]
      },
      {
       "output_type": "stream",
       "stream": "stdout",
       "text": [
        "56891.7361919 56891.7509697 "
       ]
      },
      {
       "output_type": "stream",
       "stream": "stdout",
       "text": [
        "56893.7742145 56893.7889874 "
       ]
      },
      {
       "output_type": "stream",
       "stream": "stdout",
       "text": [
        "56893.8041221 56894.7584364 "
       ]
      },
      {
       "output_type": "stream",
       "stream": "stdout",
       "text": [
        "56894.7732268 56894.7880043 "
       ]
      },
      {
       "output_type": "stream",
       "stream": "stdout",
       "text": [
        "\n",
        "Giant02"
       ]
      },
      {
       "output_type": "stream",
       "stream": "stdout",
       "text": [
        "\n",
        "WL aligned"
       ]
      },
      {
       "output_type": "stream",
       "stream": "stdout",
       "text": [
        "\n",
        "WL aligned\n",
        "WL aligned\n",
        "WL aligned\n",
        "56889.7312269 "
       ]
      },
      {
       "output_type": "stream",
       "stream": "stdout",
       "text": [
        "56889.7409558 56889.7558863 "
       ]
      },
      {
       "output_type": "stream",
       "stream": "stdout",
       "text": [
        "56890.7344779 56890.7561996 "
       ]
      },
      {
       "output_type": "stream",
       "stream": "stdout",
       "text": [
        "56890.7779248 56891.7214011 "
       ]
      },
      {
       "output_type": "stream",
       "stream": "stdout",
       "text": [
        "56891.7361919 "
       ]
      },
      {
       "output_type": "stream",
       "stream": "stdout",
       "text": [
        "56891.7509697 "
       ]
      },
      {
       "output_type": "stream",
       "stream": "stdout",
       "text": [
        "56893.7742145 56893.7889874 "
       ]
      },
      {
       "output_type": "stream",
       "stream": "stdout",
       "text": [
        "56893.8041221 56894.7584364 "
       ]
      },
      {
       "output_type": "stream",
       "stream": "stdout",
       "text": [
        "56894.7732268 "
       ]
      },
      {
       "output_type": "stream",
       "stream": "stdout",
       "text": [
        "56894.7880043 \n",
        "56889.7312269"
       ]
      },
      {
       "output_type": "stream",
       "stream": "stdout",
       "text": [
        " 56889.7409558 "
       ]
      },
      {
       "output_type": "stream",
       "stream": "stdout",
       "text": [
        "56889.7558863 56890.7344779 "
       ]
      },
      {
       "output_type": "stream",
       "stream": "stdout",
       "text": [
        "56890.7561996 56890.7779248 "
       ]
      },
      {
       "output_type": "stream",
       "stream": "stdout",
       "text": [
        "56891.7214011 56891.7361919 "
       ]
      },
      {
       "output_type": "stream",
       "stream": "stdout",
       "text": [
        "56891.7509697 56893.7742145 "
       ]
      },
      {
       "output_type": "stream",
       "stream": "stdout",
       "text": [
        "56893.7889874 "
       ]
      },
      {
       "output_type": "stream",
       "stream": "stdout",
       "text": [
        "56893.8041221 56894.7584364 "
       ]
      },
      {
       "output_type": "stream",
       "stream": "stdout",
       "text": [
        "56894.7732268 56894.7880043 "
       ]
      },
      {
       "output_type": "stream",
       "stream": "stdout",
       "text": [
        "\n",
        "56889.7312269 "
       ]
      },
      {
       "output_type": "stream",
       "stream": "stdout",
       "text": [
        "56889.7409558 56889.7558863 "
       ]
      },
      {
       "output_type": "stream",
       "stream": "stdout",
       "text": [
        "56890.7344779 56890.7561996 "
       ]
      },
      {
       "output_type": "stream",
       "stream": "stdout",
       "text": [
        "56890.7779248 56891.7214011 "
       ]
      },
      {
       "output_type": "stream",
       "stream": "stdout",
       "text": [
        "56891.7361919 56891.7509697 "
       ]
      },
      {
       "output_type": "stream",
       "stream": "stdout",
       "text": [
        "56893.7742145 56893.7889874 "
       ]
      },
      {
       "output_type": "stream",
       "stream": "stdout",
       "text": [
        "56893.8041221 56894.7584364 "
       ]
      },
      {
       "output_type": "stream",
       "stream": "stdout",
       "text": [
        "56894.7732268 56894.7880043 "
       ]
      },
      {
       "output_type": "stream",
       "stream": "stdout",
       "text": [
        "\n",
        "56889.7312269 56889.7409558 "
       ]
      },
      {
       "output_type": "stream",
       "stream": "stdout",
       "text": [
        "56889.7558863 "
       ]
      },
      {
       "output_type": "stream",
       "stream": "stdout",
       "text": [
        "56890.7344779 56890.7561996 "
       ]
      },
      {
       "output_type": "stream",
       "stream": "stdout",
       "text": [
        "56890.7779248 56891.7214011 "
       ]
      },
      {
       "output_type": "stream",
       "stream": "stdout",
       "text": [
        "56891.7361919 56891.7509697 "
       ]
      },
      {
       "output_type": "stream",
       "stream": "stdout",
       "text": [
        "56893.7742145 56893.7889874 "
       ]
      },
      {
       "output_type": "stream",
       "stream": "stdout",
       "text": [
        "56893.8041221 56894.7584364 "
       ]
      },
      {
       "output_type": "stream",
       "stream": "stdout",
       "text": [
        "56894.7732268 56894.7880043 "
       ]
      },
      {
       "output_type": "stream",
       "stream": "stdout",
       "text": [
        "\n",
        "Field34"
       ]
      },
      {
       "output_type": "stream",
       "stream": "stdout",
       "text": [
        "\n",
        "WL aligned"
       ]
      },
      {
       "output_type": "stream",
       "stream": "stdout",
       "text": [
        "\n",
        "WL aligned\n",
        "WL aligned\n",
        "WL aligned\n",
        "56889.7312269 "
       ]
      },
      {
       "output_type": "stream",
       "stream": "stdout",
       "text": [
        "56889.7409558 56889.7558863 "
       ]
      },
      {
       "output_type": "stream",
       "stream": "stdout",
       "text": [
        "56890.7344779 56890.7561996 "
       ]
      },
      {
       "output_type": "stream",
       "stream": "stdout",
       "text": [
        "56890.7779248 56891.7214011 "
       ]
      },
      {
       "output_type": "stream",
       "stream": "stdout",
       "text": [
        "56891.7361919 "
       ]
      },
      {
       "output_type": "stream",
       "stream": "stdout",
       "text": [
        "56891.7509697 "
       ]
      },
      {
       "output_type": "stream",
       "stream": "stdout",
       "text": [
        "56893.7742145 56893.7889874 "
       ]
      },
      {
       "output_type": "stream",
       "stream": "stdout",
       "text": [
        "56893.8041221 56894.7584364 "
       ]
      },
      {
       "output_type": "stream",
       "stream": "stdout",
       "text": [
        "56894.7732268 56894.7880043 "
       ]
      },
      {
       "output_type": "stream",
       "stream": "stdout",
       "text": [
        "\n",
        "56889.7312269 "
       ]
      },
      {
       "output_type": "stream",
       "stream": "stdout",
       "text": [
        "56889.7409558 56889.7558863 "
       ]
      },
      {
       "output_type": "stream",
       "stream": "stdout",
       "text": [
        "56890.7344779 56890.7561996 "
       ]
      },
      {
       "output_type": "stream",
       "stream": "stdout",
       "text": [
        "56890.7779248 56891.7214011 "
       ]
      },
      {
       "output_type": "stream",
       "stream": "stdout",
       "text": [
        "56891.7361919 56891.7509697 "
       ]
      },
      {
       "output_type": "stream",
       "stream": "stdout",
       "text": [
        "56893.7742145 56893.7889874 "
       ]
      },
      {
       "output_type": "stream",
       "stream": "stdout",
       "text": [
        "56893.8041221 56894.7584364 "
       ]
      },
      {
       "output_type": "stream",
       "stream": "stdout",
       "text": [
        "56894.7732268 56894.7880043 "
       ]
      },
      {
       "output_type": "stream",
       "stream": "stdout",
       "text": [
        "\n",
        "56889.7312269 "
       ]
      },
      {
       "output_type": "stream",
       "stream": "stdout",
       "text": [
        "56889.7409558 "
       ]
      },
      {
       "output_type": "stream",
       "stream": "stdout",
       "text": [
        "56889.7558863 56890.7344779 "
       ]
      },
      {
       "output_type": "stream",
       "stream": "stdout",
       "text": [
        "56890.7561996 "
       ]
      },
      {
       "output_type": "stream",
       "stream": "stdout",
       "text": [
        "56890.7779248 "
       ]
      },
      {
       "output_type": "stream",
       "stream": "stdout",
       "text": [
        "56891.7214011 "
       ]
      },
      {
       "output_type": "stream",
       "stream": "stdout",
       "text": [
        "56891.7361919 "
       ]
      },
      {
       "output_type": "stream",
       "stream": "stdout",
       "text": [
        "56891.7509697 56893.7742145 "
       ]
      },
      {
       "output_type": "stream",
       "stream": "stdout",
       "text": [
        "56893.7889874 56893.8041221 "
       ]
      },
      {
       "output_type": "stream",
       "stream": "stdout",
       "text": [
        "56894.7584364 56894.7732268 "
       ]
      },
      {
       "output_type": "stream",
       "stream": "stdout",
       "text": [
        "56894.7880043 \n",
        "56889.7312269"
       ]
      },
      {
       "output_type": "stream",
       "stream": "stdout",
       "text": [
        " 56889.7409558 56889.7558863 "
       ]
      },
      {
       "output_type": "stream",
       "stream": "stdout",
       "text": [
        "56890.7344779 56890.7561996 "
       ]
      },
      {
       "output_type": "stream",
       "stream": "stdout",
       "text": [
        "56890.7779248 56891.7214011 "
       ]
      },
      {
       "output_type": "stream",
       "stream": "stdout",
       "text": [
        "56891.7361919 "
       ]
      },
      {
       "output_type": "stream",
       "stream": "stdout",
       "text": [
        "56891.7509697 "
       ]
      },
      {
       "output_type": "stream",
       "stream": "stdout",
       "text": [
        "56893.7742145 "
       ]
      },
      {
       "output_type": "stream",
       "stream": "stdout",
       "text": [
        "56893.7889874 "
       ]
      },
      {
       "output_type": "stream",
       "stream": "stdout",
       "text": [
        "56893.8041221 "
       ]
      },
      {
       "output_type": "stream",
       "stream": "stdout",
       "text": [
        "56894.7584364 "
       ]
      },
      {
       "output_type": "stream",
       "stream": "stdout",
       "text": [
        "56894.7732268 "
       ]
      },
      {
       "output_type": "stream",
       "stream": "stdout",
       "text": [
        "56894.7880043 "
       ]
      },
      {
       "output_type": "stream",
       "stream": "stdout",
       "text": [
        "\n",
        "Field24"
       ]
      },
      {
       "output_type": "stream",
       "stream": "stdout",
       "text": [
        "\n",
        "WL aligned"
       ]
      },
      {
       "output_type": "stream",
       "stream": "stdout",
       "text": [
        "\n",
        "WL aligned\n",
        "WL aligned\n",
        "WL aligned\n",
        "56889.7312269 "
       ]
      },
      {
       "output_type": "stream",
       "stream": "stdout",
       "text": [
        "56889.7409558 56889.7558863 "
       ]
      },
      {
       "output_type": "stream",
       "stream": "stdout",
       "text": [
        "56890.7344779 56890.7561996 "
       ]
      },
      {
       "output_type": "stream",
       "stream": "stdout",
       "text": [
        "56890.7779248 "
       ]
      },
      {
       "output_type": "stream",
       "stream": "stdout",
       "text": [
        "56891.7214011 "
       ]
      },
      {
       "output_type": "stream",
       "stream": "stdout",
       "text": [
        "56891.7361919 56891.7509697 "
       ]
      },
      {
       "output_type": "stream",
       "stream": "stdout",
       "text": [
        "56893.7742145 56893.7889874 "
       ]
      },
      {
       "output_type": "stream",
       "stream": "stdout",
       "text": [
        "56893.8041221 56894.7584364 "
       ]
      },
      {
       "output_type": "stream",
       "stream": "stdout",
       "text": [
        "56894.7732268 56894.7880043 "
       ]
      },
      {
       "output_type": "stream",
       "stream": "stdout",
       "text": [
        "\n",
        "56889.7312269 56889.7409558 "
       ]
      },
      {
       "output_type": "stream",
       "stream": "stdout",
       "text": [
        "56889.7558863 56890.7344779 "
       ]
      },
      {
       "output_type": "stream",
       "stream": "stdout",
       "text": [
        "56890.7561996 56890.7779248 "
       ]
      },
      {
       "output_type": "stream",
       "stream": "stdout",
       "text": [
        "56891.7214011 56891.7361919 "
       ]
      },
      {
       "output_type": "stream",
       "stream": "stdout",
       "text": [
        "56891.7509697 "
       ]
      },
      {
       "output_type": "stream",
       "stream": "stdout",
       "text": [
        "56893.7742145 56893.7889874 "
       ]
      },
      {
       "output_type": "stream",
       "stream": "stdout",
       "text": [
        "56893.8041221 56894.7584364 "
       ]
      },
      {
       "output_type": "stream",
       "stream": "stdout",
       "text": [
        "56894.7732268 56894.7880043 "
       ]
      },
      {
       "output_type": "stream",
       "stream": "stdout",
       "text": [
        "\n",
        "56889.7312269 "
       ]
      },
      {
       "output_type": "stream",
       "stream": "stdout",
       "text": [
        "56889.7409558 "
       ]
      },
      {
       "output_type": "stream",
       "stream": "stdout",
       "text": [
        "56889.7558863 56890.7344779 "
       ]
      },
      {
       "output_type": "stream",
       "stream": "stdout",
       "text": [
        "56890.7561996 56890.7779248 "
       ]
      },
      {
       "output_type": "stream",
       "stream": "stdout",
       "text": [
        "56891.7214011 "
       ]
      },
      {
       "output_type": "stream",
       "stream": "stdout",
       "text": [
        "56891.7361919 "
       ]
      },
      {
       "output_type": "stream",
       "stream": "stdout",
       "text": [
        "56891.7509697 56893.7742145 "
       ]
      },
      {
       "output_type": "stream",
       "stream": "stdout",
       "text": [
        "56893.7889874 "
       ]
      },
      {
       "output_type": "stream",
       "stream": "stdout",
       "text": [
        "56893.8041221 "
       ]
      },
      {
       "output_type": "stream",
       "stream": "stdout",
       "text": [
        "56894.7584364 "
       ]
      },
      {
       "output_type": "stream",
       "stream": "stdout",
       "text": [
        "56894.7732268 56894.7880043 "
       ]
      },
      {
       "output_type": "stream",
       "stream": "stdout",
       "text": [
        "\n",
        "56889.7312269 "
       ]
      },
      {
       "output_type": "stream",
       "stream": "stdout",
       "text": [
        "56889.7409558 "
       ]
      },
      {
       "output_type": "stream",
       "stream": "stdout",
       "text": [
        "56889.7558863 "
       ]
      },
      {
       "output_type": "stream",
       "stream": "stdout",
       "text": [
        "56890.7344779 "
       ]
      },
      {
       "output_type": "stream",
       "stream": "stdout",
       "text": [
        "56890.7561996 "
       ]
      },
      {
       "output_type": "stream",
       "stream": "stdout",
       "text": [
        "56890.7779248 "
       ]
      },
      {
       "output_type": "stream",
       "stream": "stdout",
       "text": [
        "56891.7214011 "
       ]
      },
      {
       "output_type": "stream",
       "stream": "stdout",
       "text": [
        "56891.7361919 "
       ]
      },
      {
       "output_type": "stream",
       "stream": "stdout",
       "text": [
        "56891.7509697 "
       ]
      },
      {
       "output_type": "stream",
       "stream": "stdout",
       "text": [
        "56893.7742145 56893.7889874 "
       ]
      },
      {
       "output_type": "stream",
       "stream": "stdout",
       "text": [
        "56893.8041221 56894.7584364 "
       ]
      },
      {
       "output_type": "stream",
       "stream": "stdout",
       "text": [
        "56894.7732268 56894.7880043 "
       ]
      },
      {
       "output_type": "stream",
       "stream": "stdout",
       "text": [
        "\n",
        "Giant10"
       ]
      },
      {
       "output_type": "stream",
       "stream": "stdout",
       "text": [
        "\n",
        "WL aligned"
       ]
      },
      {
       "output_type": "stream",
       "stream": "stdout",
       "text": [
        "\n",
        "WL aligned\n",
        "WL aligned\n",
        "WL aligned\n",
        "56889.7312269 "
       ]
      },
      {
       "output_type": "stream",
       "stream": "stdout",
       "text": [
        "56889.7409558 "
       ]
      },
      {
       "output_type": "stream",
       "stream": "stdout",
       "text": [
        "56889.7558863 "
       ]
      },
      {
       "output_type": "stream",
       "stream": "stdout",
       "text": [
        "56890.7344779 "
       ]
      },
      {
       "output_type": "stream",
       "stream": "stdout",
       "text": [
        "56890.7561996 56890.7779248 "
       ]
      },
      {
       "output_type": "stream",
       "stream": "stdout",
       "text": [
        "56891.7214011 "
       ]
      },
      {
       "output_type": "stream",
       "stream": "stdout",
       "text": [
        "56891.7361919 "
       ]
      },
      {
       "output_type": "stream",
       "stream": "stdout",
       "text": [
        "56891.7509697 "
       ]
      },
      {
       "output_type": "stream",
       "stream": "stdout",
       "text": [
        "56893.7742145 56893.7889874 "
       ]
      },
      {
       "output_type": "stream",
       "stream": "stdout",
       "text": [
        "56893.8041221 "
       ]
      },
      {
       "output_type": "stream",
       "stream": "stdout",
       "text": [
        "56894.7584364 "
       ]
      },
      {
       "output_type": "stream",
       "stream": "stdout",
       "text": [
        "56894.7732268 "
       ]
      },
      {
       "output_type": "stream",
       "stream": "stdout",
       "text": [
        "56894.7880043 "
       ]
      },
      {
       "output_type": "stream",
       "stream": "stdout",
       "text": [
        "\n",
        "56889.7312269 "
       ]
      },
      {
       "output_type": "stream",
       "stream": "stdout",
       "text": [
        "56889.7409558 56889.7558863 "
       ]
      },
      {
       "output_type": "stream",
       "stream": "stdout",
       "text": [
        "56890.7344779 56890.7561996 "
       ]
      },
      {
       "output_type": "stream",
       "stream": "stdout",
       "text": [
        "56890.7779248 56891.7214011 "
       ]
      },
      {
       "output_type": "stream",
       "stream": "stdout",
       "text": [
        "56891.7361919 56891.7509697 "
       ]
      },
      {
       "output_type": "stream",
       "stream": "stdout",
       "text": [
        "56893.7742145 "
       ]
      },
      {
       "output_type": "stream",
       "stream": "stdout",
       "text": [
        "56893.7889874 56893.8041221 "
       ]
      },
      {
       "output_type": "stream",
       "stream": "stdout",
       "text": [
        "56894.7584364 "
       ]
      },
      {
       "output_type": "stream",
       "stream": "stdout",
       "text": [
        "56894.7732268 56894.7880043 "
       ]
      },
      {
       "output_type": "stream",
       "stream": "stdout",
       "text": [
        "\n",
        "56889.7312269 "
       ]
      },
      {
       "output_type": "stream",
       "stream": "stdout",
       "text": [
        "56889.7409558 56889.7558863 "
       ]
      },
      {
       "output_type": "stream",
       "stream": "stdout",
       "text": [
        "56890.7344779 "
       ]
      },
      {
       "output_type": "stream",
       "stream": "stdout",
       "text": [
        "56890.7561996 "
       ]
      },
      {
       "output_type": "stream",
       "stream": "stdout",
       "text": [
        "56890.7779248 "
       ]
      },
      {
       "output_type": "stream",
       "stream": "stdout",
       "text": [
        "56891.7214011 "
       ]
      },
      {
       "output_type": "stream",
       "stream": "stdout",
       "text": [
        "56891.7361919 56891.7509697 "
       ]
      },
      {
       "output_type": "stream",
       "stream": "stdout",
       "text": [
        "56893.7742145 56893.7889874 "
       ]
      },
      {
       "output_type": "stream",
       "stream": "stdout",
       "text": [
        "56893.8041221 56894.7584364 "
       ]
      },
      {
       "output_type": "stream",
       "stream": "stdout",
       "text": [
        "56894.7732268 "
       ]
      },
      {
       "output_type": "stream",
       "stream": "stdout",
       "text": [
        "56894.7880043 "
       ]
      },
      {
       "output_type": "stream",
       "stream": "stdout",
       "text": [
        "\n",
        "56889.7312269 "
       ]
      },
      {
       "output_type": "stream",
       "stream": "stdout",
       "text": [
        "56889.7409558 "
       ]
      },
      {
       "output_type": "stream",
       "stream": "stdout",
       "text": [
        "56889.7558863 56890.7344779 "
       ]
      },
      {
       "output_type": "stream",
       "stream": "stdout",
       "text": [
        "56890.7561996 56890.7779248 "
       ]
      },
      {
       "output_type": "stream",
       "stream": "stdout",
       "text": [
        "56891.7214011 "
       ]
      },
      {
       "output_type": "stream",
       "stream": "stdout",
       "text": [
        "56891.7361919 56891.7509697 "
       ]
      },
      {
       "output_type": "stream",
       "stream": "stdout",
       "text": [
        "56893.7742145 56893.7889874 "
       ]
      },
      {
       "output_type": "stream",
       "stream": "stdout",
       "text": [
        "56893.8041221 "
       ]
      },
      {
       "output_type": "stream",
       "stream": "stdout",
       "text": [
        "56894.7584364 "
       ]
      },
      {
       "output_type": "stream",
       "stream": "stdout",
       "text": [
        "56894.7732268 "
       ]
      },
      {
       "output_type": "stream",
       "stream": "stdout",
       "text": [
        "56894.7880043 "
       ]
      },
      {
       "output_type": "stream",
       "stream": "stdout",
       "text": [
        "\n",
        "Field28"
       ]
      },
      {
       "output_type": "stream",
       "stream": "stdout",
       "text": [
        "\n",
        "WL aligned"
       ]
      },
      {
       "output_type": "stream",
       "stream": "stdout",
       "text": [
        "\n",
        "WL aligned\n",
        "WL aligned\n",
        "WL aligned\n",
        "56889.7312269 "
       ]
      },
      {
       "output_type": "stream",
       "stream": "stdout",
       "text": [
        "56889.7409558 56889.7558863 "
       ]
      },
      {
       "output_type": "stream",
       "stream": "stdout",
       "text": [
        "56890.7344779 "
       ]
      },
      {
       "output_type": "stream",
       "stream": "stdout",
       "text": [
        "56890.7561996 "
       ]
      },
      {
       "output_type": "stream",
       "stream": "stdout",
       "text": [
        "56890.7779248 "
       ]
      },
      {
       "output_type": "stream",
       "stream": "stdout",
       "text": [
        "56891.7214011 "
       ]
      },
      {
       "output_type": "stream",
       "stream": "stdout",
       "text": [
        "56891.7361919 "
       ]
      },
      {
       "output_type": "stream",
       "stream": "stdout",
       "text": [
        "56891.7509697 "
       ]
      },
      {
       "output_type": "stream",
       "stream": "stdout",
       "text": [
        "56893.7742145 56893.7889874 "
       ]
      },
      {
       "output_type": "stream",
       "stream": "stdout",
       "text": [
        "56893.8041221 56894.7584364 "
       ]
      },
      {
       "output_type": "stream",
       "stream": "stdout",
       "text": [
        "56894.7732268 56894.7880043 "
       ]
      },
      {
       "output_type": "stream",
       "stream": "stdout",
       "text": [
        "\n",
        "56889.7312269 "
       ]
      },
      {
       "output_type": "stream",
       "stream": "stdout",
       "text": [
        "56889.7409558 56889.7558863 "
       ]
      },
      {
       "output_type": "stream",
       "stream": "stdout",
       "text": [
        "56890.7344779 "
       ]
      },
      {
       "output_type": "stream",
       "stream": "stdout",
       "text": [
        "56890.7561996 "
       ]
      },
      {
       "output_type": "stream",
       "stream": "stdout",
       "text": [
        "56890.7779248 56891.7214011 "
       ]
      },
      {
       "output_type": "stream",
       "stream": "stdout",
       "text": [
        "56891.7361919 "
       ]
      },
      {
       "output_type": "stream",
       "stream": "stdout",
       "text": [
        "56891.7509697 "
       ]
      },
      {
       "output_type": "stream",
       "stream": "stdout",
       "text": [
        "56893.7742145 56893.7889874 "
       ]
      },
      {
       "output_type": "stream",
       "stream": "stdout",
       "text": [
        "56893.8041221 56894.7584364 "
       ]
      },
      {
       "output_type": "stream",
       "stream": "stdout",
       "text": [
        "56894.7732268 56894.7880043 "
       ]
      },
      {
       "output_type": "stream",
       "stream": "stdout",
       "text": [
        "\n",
        "56889.7312269 "
       ]
      },
      {
       "output_type": "stream",
       "stream": "stdout",
       "text": [
        "56889.7409558 "
       ]
      },
      {
       "output_type": "stream",
       "stream": "stdout",
       "text": [
        "56889.7558863 "
       ]
      },
      {
       "output_type": "stream",
       "stream": "stdout",
       "text": [
        "56890.7344779 "
       ]
      },
      {
       "output_type": "stream",
       "stream": "stdout",
       "text": [
        "56890.7561996 "
       ]
      },
      {
       "output_type": "stream",
       "stream": "stdout",
       "text": [
        "56890.7779248 "
       ]
      },
      {
       "output_type": "stream",
       "stream": "stdout",
       "text": [
        "56891.7214011 56891.7361919 "
       ]
      },
      {
       "output_type": "stream",
       "stream": "stdout",
       "text": [
        "56891.7509697 56893.7742145 "
       ]
      },
      {
       "output_type": "stream",
       "stream": "stdout",
       "text": [
        "56893.7889874 56893.8041221 "
       ]
      },
      {
       "output_type": "stream",
       "stream": "stdout",
       "text": [
        "56894.7584364 56894.7732268 "
       ]
      },
      {
       "output_type": "stream",
       "stream": "stdout",
       "text": [
        "56894.7880043 \n",
        "56889.7312269"
       ]
      },
      {
       "output_type": "stream",
       "stream": "stdout",
       "text": [
        " 56889.7409558 56889.7558863 "
       ]
      },
      {
       "output_type": "stream",
       "stream": "stdout",
       "text": [
        "56890.7344779 "
       ]
      },
      {
       "output_type": "stream",
       "stream": "stdout",
       "text": [
        "56890.7561996 "
       ]
      },
      {
       "output_type": "stream",
       "stream": "stdout",
       "text": [
        "56890.7779248 "
       ]
      },
      {
       "output_type": "stream",
       "stream": "stdout",
       "text": [
        "56891.7214011 "
       ]
      },
      {
       "output_type": "stream",
       "stream": "stdout",
       "text": [
        "56891.7361919 "
       ]
      },
      {
       "output_type": "stream",
       "stream": "stdout",
       "text": [
        "56891.7509697 56893.7742145 "
       ]
      },
      {
       "output_type": "stream",
       "stream": "stdout",
       "text": [
        "56893.7889874 56893.8041221 "
       ]
      },
      {
       "output_type": "stream",
       "stream": "stdout",
       "text": [
        "56894.7584364 "
       ]
      },
      {
       "output_type": "stream",
       "stream": "stdout",
       "text": [
        "56894.7732268 "
       ]
      },
      {
       "output_type": "stream",
       "stream": "stdout",
       "text": [
        "56894.7880043 \n",
        "Giant36"
       ]
      },
      {
       "output_type": "stream",
       "stream": "stdout",
       "text": [
        "\n",
        "WL aligned"
       ]
      },
      {
       "output_type": "stream",
       "stream": "stdout",
       "text": [
        "\n",
        "WL aligned\n",
        "WL aligned\n",
        "WL aligned\n",
        "56889.7312269 "
       ]
      },
      {
       "output_type": "stream",
       "stream": "stdout",
       "text": [
        "56889.7409558 "
       ]
      },
      {
       "output_type": "stream",
       "stream": "stdout",
       "text": [
        "56889.7558863 "
       ]
      },
      {
       "output_type": "stream",
       "stream": "stdout",
       "text": [
        "56890.7344779 "
       ]
      },
      {
       "output_type": "stream",
       "stream": "stdout",
       "text": [
        "56890.7561996 "
       ]
      },
      {
       "output_type": "stream",
       "stream": "stdout",
       "text": [
        "56890.7779248 "
       ]
      },
      {
       "output_type": "stream",
       "stream": "stdout",
       "text": [
        "56891.7214011 "
       ]
      },
      {
       "output_type": "stream",
       "stream": "stdout",
       "text": [
        "56891.7361919 "
       ]
      },
      {
       "output_type": "stream",
       "stream": "stdout",
       "text": [
        "56891.7509697 "
       ]
      },
      {
       "output_type": "stream",
       "stream": "stdout",
       "text": [
        "56893.7742145 "
       ]
      },
      {
       "output_type": "stream",
       "stream": "stdout",
       "text": [
        "56893.7889874 56893.8041221 "
       ]
      },
      {
       "output_type": "stream",
       "stream": "stdout",
       "text": [
        "56894.7584364 56894.7732268 "
       ]
      },
      {
       "output_type": "stream",
       "stream": "stdout",
       "text": [
        "56894.7880043 \n",
        "56889.7312269"
       ]
      },
      {
       "output_type": "stream",
       "stream": "stdout",
       "text": [
        " 56889.7409558 56889.7558863 "
       ]
      },
      {
       "output_type": "stream",
       "stream": "stdout",
       "text": [
        "56890.7344779 56890.7561996 "
       ]
      },
      {
       "output_type": "stream",
       "stream": "stdout",
       "text": [
        "56890.7779248 "
       ]
      },
      {
       "output_type": "stream",
       "stream": "stdout",
       "text": [
        "56891.7214011 56891.7361919 "
       ]
      },
      {
       "output_type": "stream",
       "stream": "stdout",
       "text": [
        "56891.7509697 56893.7742145 "
       ]
      },
      {
       "output_type": "stream",
       "stream": "stdout",
       "text": [
        "56893.7889874 56893.8041221 "
       ]
      },
      {
       "output_type": "stream",
       "stream": "stdout",
       "text": [
        "56894.7584364 56894.7732268 "
       ]
      },
      {
       "output_type": "stream",
       "stream": "stdout",
       "text": [
        "56894.7880043 "
       ]
      },
      {
       "output_type": "stream",
       "stream": "stdout",
       "text": [
        "\n",
        "56889.7312269 "
       ]
      },
      {
       "output_type": "stream",
       "stream": "stdout",
       "text": [
        "56889.7409558 "
       ]
      },
      {
       "output_type": "stream",
       "stream": "stdout",
       "text": [
        "56889.7558863 "
       ]
      },
      {
       "output_type": "stream",
       "stream": "stdout",
       "text": [
        "56890.7344779 56890.7561996 "
       ]
      },
      {
       "output_type": "stream",
       "stream": "stdout",
       "text": [
        "56890.7779248 56891.7214011 "
       ]
      },
      {
       "output_type": "stream",
       "stream": "stdout",
       "text": [
        "56891.7361919 56891.7509697 "
       ]
      },
      {
       "output_type": "stream",
       "stream": "stdout",
       "text": [
        "56893.7742145 "
       ]
      },
      {
       "output_type": "stream",
       "stream": "stdout",
       "text": [
        "56893.7889874 56893.8041221 "
       ]
      },
      {
       "output_type": "stream",
       "stream": "stdout",
       "text": [
        "56894.7584364 56894.7732268 "
       ]
      },
      {
       "output_type": "stream",
       "stream": "stdout",
       "text": [
        "56894.7880043 \n",
        "56889.7312269"
       ]
      },
      {
       "output_type": "stream",
       "stream": "stdout",
       "text": [
        " 56889.7409558 56889.7558863 "
       ]
      },
      {
       "output_type": "stream",
       "stream": "stdout",
       "text": [
        "56890.7344779 56890.7561996 "
       ]
      },
      {
       "output_type": "stream",
       "stream": "stdout",
       "text": [
        "56890.7779248 56891.7214011 "
       ]
      },
      {
       "output_type": "stream",
       "stream": "stdout",
       "text": [
        "56891.7361919 "
       ]
      },
      {
       "output_type": "stream",
       "stream": "stdout",
       "text": [
        "56891.7509697 "
       ]
      },
      {
       "output_type": "stream",
       "stream": "stdout",
       "text": [
        "56893.7742145 "
       ]
      },
      {
       "output_type": "stream",
       "stream": "stdout",
       "text": [
        "56893.7889874 56893.8041221 "
       ]
      },
      {
       "output_type": "stream",
       "stream": "stdout",
       "text": [
        "56894.7584364 56894.7732268 "
       ]
      },
      {
       "output_type": "stream",
       "stream": "stdout",
       "text": [
        "56894.7880043 \n",
        "Field08"
       ]
      },
      {
       "output_type": "stream",
       "stream": "stdout",
       "text": [
        "\n",
        "WL aligned"
       ]
      },
      {
       "output_type": "stream",
       "stream": "stdout",
       "text": [
        "\n",
        "WL aligned\n",
        "WL aligned\n",
        "WL aligned\n",
        "56889.7312269 "
       ]
      },
      {
       "output_type": "stream",
       "stream": "stdout",
       "text": [
        "56889.7409558 56889.7558863"
       ]
      },
      {
       "output_type": "stream",
       "stream": "stdout",
       "text": [
        " 56890.7344779 56890.7561996 "
       ]
      },
      {
       "output_type": "stream",
       "stream": "stdout",
       "text": [
        "56890.7779248 "
       ]
      },
      {
       "output_type": "stream",
       "stream": "stdout",
       "text": [
        "56891.7214011 "
       ]
      },
      {
       "output_type": "stream",
       "stream": "stdout",
       "text": [
        "56891.7361919 "
       ]
      },
      {
       "output_type": "stream",
       "stream": "stdout",
       "text": [
        "56891.7509697 "
       ]
      },
      {
       "output_type": "stream",
       "stream": "stdout",
       "text": [
        "56893.7742145 "
       ]
      },
      {
       "output_type": "stream",
       "stream": "stdout",
       "text": [
        "56893.7889874 56893.8041221 "
       ]
      },
      {
       "output_type": "stream",
       "stream": "stdout",
       "text": [
        "56894.7584364 56894.7732268 "
       ]
      },
      {
       "output_type": "stream",
       "stream": "stdout",
       "text": [
        "56894.7880043 "
       ]
      },
      {
       "output_type": "stream",
       "stream": "stdout",
       "text": [
        "\n",
        "56889.7312269 "
       ]
      },
      {
       "output_type": "stream",
       "stream": "stdout",
       "text": [
        "56889.7409558 "
       ]
      },
      {
       "output_type": "stream",
       "stream": "stdout",
       "text": [
        "56889.7558863 "
       ]
      },
      {
       "output_type": "stream",
       "stream": "stdout",
       "text": [
        "56890.7344779 56890.7561996 "
       ]
      },
      {
       "output_type": "stream",
       "stream": "stdout",
       "text": [
        "56890.7779248 56891.7214011 "
       ]
      },
      {
       "output_type": "stream",
       "stream": "stdout",
       "text": [
        "56891.7361919 56891.7509697 "
       ]
      },
      {
       "output_type": "stream",
       "stream": "stdout",
       "text": [
        "56893.7742145 56893.7889874 "
       ]
      },
      {
       "output_type": "stream",
       "stream": "stdout",
       "text": [
        "56893.8041221 56894.7584364 "
       ]
      },
      {
       "output_type": "stream",
       "stream": "stdout",
       "text": [
        "56894.7732268 56894.7880043 "
       ]
      },
      {
       "output_type": "stream",
       "stream": "stdout",
       "text": [
        "\n",
        "56889.7312269 "
       ]
      },
      {
       "output_type": "stream",
       "stream": "stdout",
       "text": [
        "56889.7409558 "
       ]
      },
      {
       "output_type": "stream",
       "stream": "stdout",
       "text": [
        "56889.7558863 56890.7344779 "
       ]
      },
      {
       "output_type": "stream",
       "stream": "stdout",
       "text": [
        "56890.7561996 "
       ]
      },
      {
       "output_type": "stream",
       "stream": "stdout",
       "text": [
        "56890.7779248 "
       ]
      },
      {
       "output_type": "stream",
       "stream": "stdout",
       "text": [
        "56891.7214011 "
       ]
      },
      {
       "output_type": "stream",
       "stream": "stdout",
       "text": [
        "56891.7361919 "
       ]
      },
      {
       "output_type": "stream",
       "stream": "stdout",
       "text": [
        "56891.7509697 "
       ]
      },
      {
       "output_type": "stream",
       "stream": "stdout",
       "text": [
        "56893.7742145 56893.7889874 "
       ]
      },
      {
       "output_type": "stream",
       "stream": "stdout",
       "text": [
        "56893.8041221 56894.7584364 "
       ]
      },
      {
       "output_type": "stream",
       "stream": "stdout",
       "text": [
        "56894.7732268 "
       ]
      },
      {
       "output_type": "stream",
       "stream": "stdout",
       "text": [
        "56894.7880043 "
       ]
      },
      {
       "output_type": "stream",
       "stream": "stdout",
       "text": [
        "\n",
        "56889.7312269 56889.7409558 "
       ]
      },
      {
       "output_type": "stream",
       "stream": "stdout",
       "text": [
        "56889.7558863 56890.7344779 "
       ]
      },
      {
       "output_type": "stream",
       "stream": "stdout",
       "text": [
        "56890.7561996 "
       ]
      },
      {
       "output_type": "stream",
       "stream": "stdout",
       "text": [
        "56890.7779248 56891.7214011 "
       ]
      },
      {
       "output_type": "stream",
       "stream": "stdout",
       "text": [
        "56891.7361919 56891.7509697 "
       ]
      },
      {
       "output_type": "stream",
       "stream": "stdout",
       "text": [
        "56893.7742145 "
       ]
      },
      {
       "output_type": "stream",
       "stream": "stdout",
       "text": [
        "56893.7889874 "
       ]
      },
      {
       "output_type": "stream",
       "stream": "stdout",
       "text": [
        "56893.8041221 "
       ]
      },
      {
       "output_type": "stream",
       "stream": "stdout",
       "text": [
        "56894.7584364 "
       ]
      },
      {
       "output_type": "stream",
       "stream": "stdout",
       "text": [
        "56894.7732268 "
       ]
      },
      {
       "output_type": "stream",
       "stream": "stdout",
       "text": [
        "56894.7880043 "
       ]
      },
      {
       "output_type": "stream",
       "stream": "stdout",
       "text": [
        "\n",
        "Giant13"
       ]
      },
      {
       "output_type": "stream",
       "stream": "stdout",
       "text": [
        "\n",
        "WL aligned"
       ]
      },
      {
       "output_type": "stream",
       "stream": "stdout",
       "text": [
        "\n",
        "WL aligned\n",
        "WL aligned\n",
        "WL aligned\n",
        "56889.7312269 CC failed (probably NaNs)\n",
        "Field36\n",
        "WL aligned"
       ]
      },
      {
       "output_type": "stream",
       "stream": "stdout",
       "text": [
        "\n",
        "WL aligned\n",
        "WL aligned\n",
        "WL aligned\n",
        "56889.7312269 "
       ]
      },
      {
       "output_type": "stream",
       "stream": "stdout",
       "text": [
        "56889.7409558 "
       ]
      },
      {
       "output_type": "stream",
       "stream": "stdout",
       "text": [
        "56889.7558863 "
       ]
      },
      {
       "output_type": "stream",
       "stream": "stdout",
       "text": [
        "56890.7344779 56890.7561996 "
       ]
      },
      {
       "output_type": "stream",
       "stream": "stdout",
       "text": [
        "56890.7779248 56891.7214011 "
       ]
      },
      {
       "output_type": "stream",
       "stream": "stdout",
       "text": [
        "56891.7361919 "
       ]
      },
      {
       "output_type": "stream",
       "stream": "stdout",
       "text": [
        "56891.7509697 "
       ]
      },
      {
       "output_type": "stream",
       "stream": "stdout",
       "text": [
        "56893.7742145 "
       ]
      },
      {
       "output_type": "stream",
       "stream": "stdout",
       "text": [
        "56893.7889874 56893.8041221 "
       ]
      },
      {
       "output_type": "stream",
       "stream": "stdout",
       "text": [
        "56894.7584364 56894.7732268 "
       ]
      },
      {
       "output_type": "stream",
       "stream": "stdout",
       "text": [
        "56894.7880043 \n",
        "56889.7312269"
       ]
      },
      {
       "output_type": "stream",
       "stream": "stdout",
       "text": [
        " 56889.7409558 56889.7558863 "
       ]
      },
      {
       "output_type": "stream",
       "stream": "stdout",
       "text": [
        "56890.7344779 56890.7561996 "
       ]
      },
      {
       "output_type": "stream",
       "stream": "stdout",
       "text": [
        "56890.7779248 56891.7214011 "
       ]
      },
      {
       "output_type": "stream",
       "stream": "stdout",
       "text": [
        "56891.7361919 56891.7509697 "
       ]
      },
      {
       "output_type": "stream",
       "stream": "stdout",
       "text": [
        "56893.7742145 56893.7889874 "
       ]
      },
      {
       "output_type": "stream",
       "stream": "stdout",
       "text": [
        "56893.8041221 56894.7584364 "
       ]
      },
      {
       "output_type": "stream",
       "stream": "stdout",
       "text": [
        "56894.7732268 56894.7880043 "
       ]
      },
      {
       "output_type": "stream",
       "stream": "stdout",
       "text": [
        "\n",
        "56889.7312269 "
       ]
      },
      {
       "output_type": "stream",
       "stream": "stdout",
       "text": [
        "56889.7409558 "
       ]
      },
      {
       "output_type": "stream",
       "stream": "stdout",
       "text": [
        "56889.7558863 "
       ]
      },
      {
       "output_type": "stream",
       "stream": "stdout",
       "text": [
        "56890.7344779 56890.7561996 "
       ]
      },
      {
       "output_type": "stream",
       "stream": "stdout",
       "text": [
        "56890.7779248 "
       ]
      },
      {
       "output_type": "stream",
       "stream": "stdout",
       "text": [
        "56891.7214011 "
       ]
      },
      {
       "output_type": "stream",
       "stream": "stdout",
       "text": [
        "56891.7361919 "
       ]
      },
      {
       "output_type": "stream",
       "stream": "stdout",
       "text": [
        "56891.7509697 "
       ]
      },
      {
       "output_type": "stream",
       "stream": "stdout",
       "text": [
        "56893.7742145 "
       ]
      },
      {
       "output_type": "stream",
       "stream": "stdout",
       "text": [
        "56893.7889874 56893.8041221 "
       ]
      },
      {
       "output_type": "stream",
       "stream": "stdout",
       "text": [
        "56894.7584364 56894.7732268 "
       ]
      },
      {
       "output_type": "stream",
       "stream": "stdout",
       "text": [
        "56894.7880043 \n",
        "56889.7312269 "
       ]
      },
      {
       "output_type": "stream",
       "stream": "stdout",
       "text": [
        "56889.7409558 56889.7558863 "
       ]
      },
      {
       "output_type": "stream",
       "stream": "stdout",
       "text": [
        "56890.7344779 56890.7561996 "
       ]
      },
      {
       "output_type": "stream",
       "stream": "stdout",
       "text": [
        "56890.7779248 "
       ]
      },
      {
       "output_type": "stream",
       "stream": "stdout",
       "text": [
        "56891.7214011 56891.7361919 "
       ]
      },
      {
       "output_type": "stream",
       "stream": "stdout",
       "text": [
        "56891.7509697 "
       ]
      },
      {
       "output_type": "stream",
       "stream": "stdout",
       "text": [
        "56893.7742145 "
       ]
      },
      {
       "output_type": "stream",
       "stream": "stdout",
       "text": [
        "56893.7889874 "
       ]
      },
      {
       "output_type": "stream",
       "stream": "stdout",
       "text": [
        "56893.8041221 56894.7584364 "
       ]
      },
      {
       "output_type": "stream",
       "stream": "stdout",
       "text": [
        "56894.7732268 56894.7880043 "
       ]
      },
      {
       "output_type": "stream",
       "stream": "stdout",
       "text": [
        "\n",
        "Field38"
       ]
      },
      {
       "output_type": "stream",
       "stream": "stdout",
       "text": [
        "\n",
        "WL aligned"
       ]
      },
      {
       "output_type": "stream",
       "stream": "stdout",
       "text": [
        "\n",
        "WL aligned\n",
        "WL aligned\n",
        "WL aligned\n",
        "56889.7312269 "
       ]
      },
      {
       "output_type": "stream",
       "stream": "stdout",
       "text": [
        "56889.7409558 "
       ]
      },
      {
       "output_type": "stream",
       "stream": "stdout",
       "text": [
        "56889.7558863 "
       ]
      },
      {
       "output_type": "stream",
       "stream": "stdout",
       "text": [
        "56890.7344779 "
       ]
      },
      {
       "output_type": "stream",
       "stream": "stdout",
       "text": [
        "56890.7561996 "
       ]
      },
      {
       "output_type": "stream",
       "stream": "stdout",
       "text": [
        "56890.7779248 "
       ]
      },
      {
       "output_type": "stream",
       "stream": "stdout",
       "text": [
        "56891.7214011 "
       ]
      },
      {
       "output_type": "stream",
       "stream": "stdout",
       "text": [
        "56891.7361919 "
       ]
      },
      {
       "output_type": "stream",
       "stream": "stdout",
       "text": [
        "56891.7509697 "
       ]
      },
      {
       "output_type": "stream",
       "stream": "stdout",
       "text": [
        "56893.7742145 "
       ]
      },
      {
       "output_type": "stream",
       "stream": "stdout",
       "text": [
        "56893.7889874 "
       ]
      },
      {
       "output_type": "stream",
       "stream": "stdout",
       "text": [
        "56893.8041221 "
       ]
      },
      {
       "output_type": "stream",
       "stream": "stdout",
       "text": [
        "56894.7584364 "
       ]
      },
      {
       "output_type": "stream",
       "stream": "stdout",
       "text": [
        "56894.7732268 "
       ]
      },
      {
       "output_type": "stream",
       "stream": "stdout",
       "text": [
        "56894.7880043 \n",
        "56889.7312269"
       ]
      },
      {
       "output_type": "stream",
       "stream": "stdout",
       "text": [
        " 56889.7409558 56889.7558863 "
       ]
      },
      {
       "output_type": "stream",
       "stream": "stdout",
       "text": [
        "56890.7344779 56890.7561996 "
       ]
      },
      {
       "output_type": "stream",
       "stream": "stdout",
       "text": [
        "56890.7779248 56891.7214011 "
       ]
      },
      {
       "output_type": "stream",
       "stream": "stdout",
       "text": [
        "56891.7361919 56891.7509697 "
       ]
      },
      {
       "output_type": "stream",
       "stream": "stdout",
       "text": [
        "56893.7742145 "
       ]
      },
      {
       "output_type": "stream",
       "stream": "stdout",
       "text": [
        "56893.7889874 "
       ]
      },
      {
       "output_type": "stream",
       "stream": "stdout",
       "text": [
        "56893.8041221 56894.7584364 "
       ]
      },
      {
       "output_type": "stream",
       "stream": "stdout",
       "text": [
        "56894.7732268 56894.7880043 "
       ]
      },
      {
       "output_type": "stream",
       "stream": "stdout",
       "text": [
        "\n",
        "56889.7312269 "
       ]
      },
      {
       "output_type": "stream",
       "stream": "stdout",
       "text": [
        "56889.7409558 "
       ]
      },
      {
       "output_type": "stream",
       "stream": "stdout",
       "text": [
        "56889.7558863 "
       ]
      },
      {
       "output_type": "stream",
       "stream": "stdout",
       "text": [
        "56890.7344779 "
       ]
      },
      {
       "output_type": "stream",
       "stream": "stdout",
       "text": [
        "56890.7561996 "
       ]
      },
      {
       "output_type": "stream",
       "stream": "stdout",
       "text": [
        "56890.7779248 "
       ]
      },
      {
       "output_type": "stream",
       "stream": "stdout",
       "text": [
        "56891.7214011 "
       ]
      },
      {
       "output_type": "stream",
       "stream": "stdout",
       "text": [
        "56891.7361919 "
       ]
      },
      {
       "output_type": "stream",
       "stream": "stdout",
       "text": [
        "56891.7509697 "
       ]
      },
      {
       "output_type": "stream",
       "stream": "stdout",
       "text": [
        "56893.7742145 "
       ]
      },
      {
       "output_type": "stream",
       "stream": "stdout",
       "text": [
        "56893.7889874 "
       ]
      },
      {
       "output_type": "stream",
       "stream": "stdout",
       "text": [
        "56893.8041221 "
       ]
      },
      {
       "output_type": "stream",
       "stream": "stdout",
       "text": [
        "56894.7584364 "
       ]
      },
      {
       "output_type": "stream",
       "stream": "stdout",
       "text": [
        "56894.7732268 "
       ]
      },
      {
       "output_type": "stream",
       "stream": "stdout",
       "text": [
        "56894.7880043 \n",
        "56889.7312269"
       ]
      },
      {
       "output_type": "stream",
       "stream": "stdout",
       "text": [
        " 56889.7409558 56889.7558863 "
       ]
      },
      {
       "output_type": "stream",
       "stream": "stdout",
       "text": [
        "56890.7344779 56890.7561996 "
       ]
      },
      {
       "output_type": "stream",
       "stream": "stdout",
       "text": [
        "56890.7779248 56891.7214011 "
       ]
      },
      {
       "output_type": "stream",
       "stream": "stdout",
       "text": [
        "56891.7361919 56891.7509697 "
       ]
      },
      {
       "output_type": "stream",
       "stream": "stdout",
       "text": [
        "56893.7742145 56893.7889874 "
       ]
      },
      {
       "output_type": "stream",
       "stream": "stdout",
       "text": [
        "56893.8041221 "
       ]
      },
      {
       "output_type": "stream",
       "stream": "stdout",
       "text": [
        "56894.7584364 "
       ]
      },
      {
       "output_type": "stream",
       "stream": "stdout",
       "text": [
        "56894.7732268 "
       ]
      },
      {
       "output_type": "stream",
       "stream": "stdout",
       "text": [
        "56894.7880043 "
       ]
      },
      {
       "output_type": "stream",
       "stream": "stdout",
       "text": [
        "\n",
        "Field39"
       ]
      },
      {
       "output_type": "stream",
       "stream": "stdout",
       "text": [
        "\n",
        "WL aligned"
       ]
      },
      {
       "output_type": "stream",
       "stream": "stdout",
       "text": [
        "\n",
        "WL aligned\n",
        "WL aligned\n",
        "WL aligned\n",
        "56889.7312269 "
       ]
      },
      {
       "output_type": "stream",
       "stream": "stdout",
       "text": [
        "56889.7409558 56889.7558863 "
       ]
      },
      {
       "output_type": "stream",
       "stream": "stdout",
       "text": [
        "56890.7344779 56890.7561996 "
       ]
      },
      {
       "output_type": "stream",
       "stream": "stdout",
       "text": [
        "56890.7779248 "
       ]
      },
      {
       "output_type": "stream",
       "stream": "stdout",
       "text": [
        "56891.7214011 "
       ]
      },
      {
       "output_type": "stream",
       "stream": "stdout",
       "text": [
        "56891.7361919 "
       ]
      },
      {
       "output_type": "stream",
       "stream": "stdout",
       "text": [
        "56891.7509697 "
       ]
      },
      {
       "output_type": "stream",
       "stream": "stdout",
       "text": [
        "56893.7742145 "
       ]
      },
      {
       "output_type": "stream",
       "stream": "stdout",
       "text": [
        "56893.7889874 56893.8041221 "
       ]
      },
      {
       "output_type": "stream",
       "stream": "stdout",
       "text": [
        "56894.7584364 56894.7732268 "
       ]
      },
      {
       "output_type": "stream",
       "stream": "stdout",
       "text": [
        "56894.7880043 \n",
        "56889.7312269"
       ]
      },
      {
       "output_type": "stream",
       "stream": "stdout",
       "text": [
        " 56889.7409558 56889.7558863 "
       ]
      },
      {
       "output_type": "stream",
       "stream": "stdout",
       "text": [
        "56890.7344779 56890.7561996 "
       ]
      },
      {
       "output_type": "stream",
       "stream": "stdout",
       "text": [
        "56890.7779248 "
       ]
      },
      {
       "output_type": "stream",
       "stream": "stdout",
       "text": [
        "56891.7214011 56891.7361919 "
       ]
      },
      {
       "output_type": "stream",
       "stream": "stdout",
       "text": [
        "56891.7509697 "
       ]
      },
      {
       "output_type": "stream",
       "stream": "stdout",
       "text": [
        "56893.7742145 "
       ]
      },
      {
       "output_type": "stream",
       "stream": "stdout",
       "text": [
        "56893.7889874 "
       ]
      },
      {
       "output_type": "stream",
       "stream": "stdout",
       "text": [
        "56893.8041221 56894.7584364 "
       ]
      },
      {
       "output_type": "stream",
       "stream": "stdout",
       "text": [
        "56894.7732268 56894.7880043 "
       ]
      },
      {
       "output_type": "stream",
       "stream": "stdout",
       "text": [
        "\n",
        "56889.7312269 "
       ]
      },
      {
       "output_type": "stream",
       "stream": "stdout",
       "text": [
        "56889.7409558 "
       ]
      },
      {
       "output_type": "stream",
       "stream": "stdout",
       "text": [
        "56889.7558863 "
       ]
      },
      {
       "output_type": "stream",
       "stream": "stdout",
       "text": [
        "56890.7344779 56890.7561996 "
       ]
      },
      {
       "output_type": "stream",
       "stream": "stdout",
       "text": [
        "56890.7779248 "
       ]
      },
      {
       "output_type": "stream",
       "stream": "stdout",
       "text": [
        "56891.7214011 56891.7361919 "
       ]
      },
      {
       "output_type": "stream",
       "stream": "stdout",
       "text": [
        "56891.7509697 "
       ]
      },
      {
       "output_type": "stream",
       "stream": "stdout",
       "text": [
        "56893.7742145 56893.7889874 "
       ]
      },
      {
       "output_type": "stream",
       "stream": "stdout",
       "text": [
        "56893.8041221 "
       ]
      },
      {
       "output_type": "stream",
       "stream": "stdout",
       "text": [
        "56894.7584364 56894.7732268 "
       ]
      },
      {
       "output_type": "stream",
       "stream": "stdout",
       "text": [
        "56894.7880043 \n",
        "56889.7312269 "
       ]
      },
      {
       "output_type": "stream",
       "stream": "stdout",
       "text": [
        "56889.7409558 56889.7558863 "
       ]
      },
      {
       "output_type": "stream",
       "stream": "stdout",
       "text": [
        "56890.7344779 "
       ]
      },
      {
       "output_type": "stream",
       "stream": "stdout",
       "text": [
        "56890.7561996 "
       ]
      },
      {
       "output_type": "stream",
       "stream": "stdout",
       "text": [
        "56890.7779248 "
       ]
      },
      {
       "output_type": "stream",
       "stream": "stdout",
       "text": [
        "56891.7214011 "
       ]
      },
      {
       "output_type": "stream",
       "stream": "stdout",
       "text": [
        "56891.7361919 56891.7509697 "
       ]
      },
      {
       "output_type": "stream",
       "stream": "stdout",
       "text": [
        "56893.7742145 "
       ]
      },
      {
       "output_type": "stream",
       "stream": "stdout",
       "text": [
        "56893.7889874 56893.8041221 "
       ]
      },
      {
       "output_type": "stream",
       "stream": "stdout",
       "text": [
        "56894.7584364 56894.7732268 "
       ]
      },
      {
       "output_type": "stream",
       "stream": "stdout",
       "text": [
        "56894.7880043 "
       ]
      },
      {
       "output_type": "stream",
       "stream": "stdout",
       "text": [
        "\n",
        "Field11"
       ]
      },
      {
       "output_type": "stream",
       "stream": "stdout",
       "text": [
        "\n",
        "WL aligned"
       ]
      },
      {
       "output_type": "stream",
       "stream": "stdout",
       "text": [
        "\n",
        "WL aligned\n",
        "WL aligned\n",
        "WL aligned\n",
        "56889.7312269 "
       ]
      },
      {
       "output_type": "stream",
       "stream": "stdout",
       "text": [
        "56889.7409558 "
       ]
      },
      {
       "output_type": "stream",
       "stream": "stdout",
       "text": [
        "56889.7558863 "
       ]
      },
      {
       "output_type": "stream",
       "stream": "stdout",
       "text": [
        "56890.7344779 "
       ]
      },
      {
       "output_type": "stream",
       "stream": "stdout",
       "text": [
        "56890.7561996 "
       ]
      },
      {
       "output_type": "stream",
       "stream": "stdout",
       "text": [
        "56890.7779248 "
       ]
      },
      {
       "output_type": "stream",
       "stream": "stdout",
       "text": [
        "56891.7214011 "
       ]
      },
      {
       "output_type": "stream",
       "stream": "stdout",
       "text": [
        "56891.7361919 "
       ]
      },
      {
       "output_type": "stream",
       "stream": "stdout",
       "text": [
        "56891.7509697 56893.7742145 "
       ]
      },
      {
       "output_type": "stream",
       "stream": "stdout",
       "text": [
        "56893.7889874 "
       ]
      },
      {
       "output_type": "stream",
       "stream": "stdout",
       "text": [
        "56893.8041221 56894.7584364 "
       ]
      },
      {
       "output_type": "stream",
       "stream": "stdout",
       "text": [
        "56894.7732268 56894.7880043 "
       ]
      },
      {
       "output_type": "stream",
       "stream": "stdout",
       "text": [
        "\n",
        "56889.7312269 "
       ]
      },
      {
       "output_type": "stream",
       "stream": "stdout",
       "text": [
        "56889.7409558 "
       ]
      },
      {
       "output_type": "stream",
       "stream": "stdout",
       "text": [
        "56889.7558863 "
       ]
      },
      {
       "output_type": "stream",
       "stream": "stdout",
       "text": [
        "56890.7344779 "
       ]
      },
      {
       "output_type": "stream",
       "stream": "stdout",
       "text": [
        "56890.7561996 "
       ]
      },
      {
       "output_type": "stream",
       "stream": "stdout",
       "text": [
        "56890.7779248 "
       ]
      },
      {
       "output_type": "stream",
       "stream": "stdout",
       "text": [
        "56891.7214011 56891.7361919 "
       ]
      },
      {
       "output_type": "stream",
       "stream": "stdout",
       "text": [
        "56891.7509697 "
       ]
      },
      {
       "output_type": "stream",
       "stream": "stdout",
       "text": [
        "56893.7742145 "
       ]
      },
      {
       "output_type": "stream",
       "stream": "stdout",
       "text": [
        "56893.7889874 56893.8041221 "
       ]
      },
      {
       "output_type": "stream",
       "stream": "stdout",
       "text": [
        "56894.7584364 56894.7732268 "
       ]
      },
      {
       "output_type": "stream",
       "stream": "stdout",
       "text": [
        "56894.7880043 \n",
        "56889.7312269 "
       ]
      },
      {
       "output_type": "stream",
       "stream": "stdout",
       "text": [
        "56889.7409558 "
       ]
      },
      {
       "output_type": "stream",
       "stream": "stdout",
       "text": [
        "56889.7558863 "
       ]
      },
      {
       "output_type": "stream",
       "stream": "stdout",
       "text": [
        "56890.7344779 "
       ]
      },
      {
       "output_type": "stream",
       "stream": "stdout",
       "text": [
        "56890.7561996 "
       ]
      },
      {
       "output_type": "stream",
       "stream": "stdout",
       "text": [
        "56890.7779248 56891.7214011 "
       ]
      },
      {
       "output_type": "stream",
       "stream": "stdout",
       "text": [
        "56891.7361919 56891.7509697 "
       ]
      },
      {
       "output_type": "stream",
       "stream": "stdout",
       "text": [
        "56893.7742145 56893.7889874 "
       ]
      },
      {
       "output_type": "stream",
       "stream": "stdout",
       "text": [
        "56893.8041221 "
       ]
      },
      {
       "output_type": "stream",
       "stream": "stdout",
       "text": [
        "56894.7584364 56894.7732268 "
       ]
      },
      {
       "output_type": "stream",
       "stream": "stdout",
       "text": [
        "56894.7880043 \n",
        "56889.7312269"
       ]
      },
      {
       "output_type": "stream",
       "stream": "stdout",
       "text": [
        " 56889.7409558 56889.7558863 "
       ]
      },
      {
       "output_type": "stream",
       "stream": "stdout",
       "text": [
        "56890.7344779 56890.7561996 "
       ]
      },
      {
       "output_type": "stream",
       "stream": "stdout",
       "text": [
        "56890.7779248 56891.7214011 "
       ]
      },
      {
       "output_type": "stream",
       "stream": "stdout",
       "text": [
        "56891.7361919 56891.7509697 "
       ]
      },
      {
       "output_type": "stream",
       "stream": "stdout",
       "text": [
        "56893.7742145 "
       ]
      },
      {
       "output_type": "stream",
       "stream": "stdout",
       "text": [
        "56893.7889874 56893.8041221 "
       ]
      },
      {
       "output_type": "stream",
       "stream": "stdout",
       "text": [
        "56894.7584364 "
       ]
      },
      {
       "output_type": "stream",
       "stream": "stdout",
       "text": [
        "56894.7732268 "
       ]
      },
      {
       "output_type": "stream",
       "stream": "stdout",
       "text": [
        "56894.7880043 "
       ]
      },
      {
       "output_type": "stream",
       "stream": "stdout",
       "text": [
        "\n",
        "Giant24"
       ]
      },
      {
       "output_type": "stream",
       "stream": "stdout",
       "text": [
        "\n",
        "WL aligned"
       ]
      },
      {
       "output_type": "stream",
       "stream": "stdout",
       "text": [
        "\n",
        "WL aligned\n",
        "WL aligned\n",
        "WL aligned\n",
        "56889.7312269 "
       ]
      },
      {
       "output_type": "stream",
       "stream": "stdout",
       "text": [
        "56889.7409558 56889.7558863 "
       ]
      },
      {
       "output_type": "stream",
       "stream": "stdout",
       "text": [
        "56890.7344779 56890.7561996 "
       ]
      },
      {
       "output_type": "stream",
       "stream": "stdout",
       "text": [
        "56890.7779248 "
       ]
      },
      {
       "output_type": "stream",
       "stream": "stdout",
       "text": [
        "56891.7214011 "
       ]
      },
      {
       "output_type": "stream",
       "stream": "stdout",
       "text": [
        "56891.7361919 "
       ]
      },
      {
       "output_type": "stream",
       "stream": "stdout",
       "text": [
        "56891.7509697 "
       ]
      },
      {
       "output_type": "stream",
       "stream": "stdout",
       "text": [
        "56893.7742145 "
       ]
      },
      {
       "output_type": "stream",
       "stream": "stdout",
       "text": [
        "56893.7889874 "
       ]
      },
      {
       "output_type": "stream",
       "stream": "stdout",
       "text": [
        "56893.8041221 "
       ]
      },
      {
       "output_type": "stream",
       "stream": "stdout",
       "text": [
        "56894.7584364 56894.7732268 "
       ]
      },
      {
       "output_type": "stream",
       "stream": "stdout",
       "text": [
        "56894.7880043 \n",
        "56889.7312269"
       ]
      },
      {
       "output_type": "stream",
       "stream": "stdout",
       "text": [
        " 56889.7409558 56889.7558863 "
       ]
      },
      {
       "output_type": "stream",
       "stream": "stdout",
       "text": [
        "56890.7344779 "
       ]
      },
      {
       "output_type": "stream",
       "stream": "stdout",
       "text": [
        "56890.7561996 56890.7779248 "
       ]
      },
      {
       "output_type": "stream",
       "stream": "stdout",
       "text": [
        "56891.7214011 56891.7361919 "
       ]
      },
      {
       "output_type": "stream",
       "stream": "stdout",
       "text": [
        "56891.7509697 "
       ]
      },
      {
       "output_type": "stream",
       "stream": "stdout",
       "text": [
        "56893.7742145 56893.7889874 "
       ]
      },
      {
       "output_type": "stream",
       "stream": "stdout",
       "text": [
        "56893.8041221 "
       ]
      },
      {
       "output_type": "stream",
       "stream": "stdout",
       "text": [
        "56894.7584364 "
       ]
      },
      {
       "output_type": "stream",
       "stream": "stdout",
       "text": [
        "56894.7732268 56894.7880043 "
       ]
      },
      {
       "output_type": "stream",
       "stream": "stdout",
       "text": [
        "\n",
        "56889.7312269 "
       ]
      },
      {
       "output_type": "stream",
       "stream": "stdout",
       "text": [
        "56889.7409558 "
       ]
      },
      {
       "output_type": "stream",
       "stream": "stdout",
       "text": [
        "56889.7558863 56890.7344779 "
       ]
      },
      {
       "output_type": "stream",
       "stream": "stdout",
       "text": [
        "56890.7561996 56890.7779248 "
       ]
      },
      {
       "output_type": "stream",
       "stream": "stdout",
       "text": [
        "56891.7214011 56891.7361919 "
       ]
      },
      {
       "output_type": "stream",
       "stream": "stdout",
       "text": [
        "56891.7509697 56893.7742145 "
       ]
      },
      {
       "output_type": "stream",
       "stream": "stdout",
       "text": [
        "56893.7889874 56893.8041221 "
       ]
      },
      {
       "output_type": "stream",
       "stream": "stdout",
       "text": [
        "56894.7584364 56894.7732268 "
       ]
      },
      {
       "output_type": "stream",
       "stream": "stdout",
       "text": [
        "56894.7880043 \n",
        "56889.7312269"
       ]
      },
      {
       "output_type": "stream",
       "stream": "stdout",
       "text": [
        " 56889.7409558 56889.7558863 "
       ]
      },
      {
       "output_type": "stream",
       "stream": "stdout",
       "text": [
        "56890.7344779 56890.7561996 "
       ]
      },
      {
       "output_type": "stream",
       "stream": "stdout",
       "text": [
        "56890.7779248 "
       ]
      },
      {
       "output_type": "stream",
       "stream": "stdout",
       "text": [
        "56891.7214011 56891.7361919 "
       ]
      },
      {
       "output_type": "stream",
       "stream": "stdout",
       "text": [
        "56891.7509697 56893.7742145 "
       ]
      },
      {
       "output_type": "stream",
       "stream": "stdout",
       "text": [
        "56893.7889874 "
       ]
      },
      {
       "output_type": "stream",
       "stream": "stdout",
       "text": [
        "56893.8041221 "
       ]
      },
      {
       "output_type": "stream",
       "stream": "stdout",
       "text": [
        "56894.7584364 "
       ]
      },
      {
       "output_type": "stream",
       "stream": "stdout",
       "text": [
        "56894.7732268 56894.7880043 "
       ]
      },
      {
       "output_type": "stream",
       "stream": "stdout",
       "text": [
        "\n",
        "Giant03"
       ]
      },
      {
       "output_type": "stream",
       "stream": "stdout",
       "text": [
        "\n",
        "WL aligned"
       ]
      },
      {
       "output_type": "stream",
       "stream": "stdout",
       "text": [
        "\n",
        "WL aligned\n",
        "WL aligned\n",
        "WL aligned\n",
        "56889.7312269 "
       ]
      },
      {
       "output_type": "stream",
       "stream": "stdout",
       "text": [
        "56889.7409558 "
       ]
      },
      {
       "output_type": "stream",
       "stream": "stdout",
       "text": [
        "56889.7558863 "
       ]
      },
      {
       "output_type": "stream",
       "stream": "stdout",
       "text": [
        "56890.7344779 56890.7561996 "
       ]
      },
      {
       "output_type": "stream",
       "stream": "stdout",
       "text": [
        "56890.7779248 "
       ]
      },
      {
       "output_type": "stream",
       "stream": "stdout",
       "text": [
        "56891.7214011 "
       ]
      },
      {
       "output_type": "stream",
       "stream": "stdout",
       "text": [
        "56891.7361919 "
       ]
      },
      {
       "output_type": "stream",
       "stream": "stdout",
       "text": [
        "56891.7509697 "
       ]
      },
      {
       "output_type": "stream",
       "stream": "stdout",
       "text": [
        "56893.7742145 "
       ]
      },
      {
       "output_type": "stream",
       "stream": "stdout",
       "text": [
        "56893.7889874 "
       ]
      },
      {
       "output_type": "stream",
       "stream": "stdout",
       "text": [
        "56893.8041221 "
       ]
      },
      {
       "output_type": "stream",
       "stream": "stdout",
       "text": [
        "56894.7584364 "
       ]
      },
      {
       "output_type": "stream",
       "stream": "stdout",
       "text": [
        "56894.7732268 "
       ]
      },
      {
       "output_type": "stream",
       "stream": "stdout",
       "text": [
        "56894.7880043 "
       ]
      },
      {
       "output_type": "stream",
       "stream": "stdout",
       "text": [
        "\n",
        "56889.7312269 "
       ]
      },
      {
       "output_type": "stream",
       "stream": "stdout",
       "text": [
        "56889.7409558 "
       ]
      },
      {
       "output_type": "stream",
       "stream": "stdout",
       "text": [
        "56889.7558863 "
       ]
      },
      {
       "output_type": "stream",
       "stream": "stdout",
       "text": [
        "56890.7344779 "
       ]
      },
      {
       "output_type": "stream",
       "stream": "stdout",
       "text": [
        "56890.7561996 56890.7779248 "
       ]
      },
      {
       "output_type": "stream",
       "stream": "stdout",
       "text": [
        "56891.7214011 56891.7361919 "
       ]
      },
      {
       "output_type": "stream",
       "stream": "stdout",
       "text": [
        "56891.7509697 56893.7742145 "
       ]
      },
      {
       "output_type": "stream",
       "stream": "stdout",
       "text": [
        "56893.7889874 56893.8041221 "
       ]
      },
      {
       "output_type": "stream",
       "stream": "stdout",
       "text": [
        "56894.7584364 "
       ]
      },
      {
       "output_type": "stream",
       "stream": "stdout",
       "text": [
        "56894.7732268 56894.7880043 "
       ]
      },
      {
       "output_type": "stream",
       "stream": "stdout",
       "text": [
        "\n",
        "56889.7312269 "
       ]
      },
      {
       "output_type": "stream",
       "stream": "stdout",
       "text": [
        "56889.7409558 56889.7558863 "
       ]
      },
      {
       "output_type": "stream",
       "stream": "stdout",
       "text": [
        "56890.7344779 56890.7561996 "
       ]
      },
      {
       "output_type": "stream",
       "stream": "stdout",
       "text": [
        "56890.7779248 56891.7214011 "
       ]
      },
      {
       "output_type": "stream",
       "stream": "stdout",
       "text": [
        "56891.7361919 56891.7509697 "
       ]
      },
      {
       "output_type": "stream",
       "stream": "stdout",
       "text": [
        "56893.7742145 56893.7889874 "
       ]
      },
      {
       "output_type": "stream",
       "stream": "stdout",
       "text": [
        "56893.8041221 56894.7584364 "
       ]
      },
      {
       "output_type": "stream",
       "stream": "stdout",
       "text": [
        "56894.7732268 "
       ]
      },
      {
       "output_type": "stream",
       "stream": "stdout",
       "text": [
        "56894.7880043 "
       ]
      },
      {
       "output_type": "stream",
       "stream": "stdout",
       "text": [
        "\n",
        "56889.7312269 "
       ]
      },
      {
       "output_type": "stream",
       "stream": "stdout",
       "text": [
        "56889.7409558 "
       ]
      },
      {
       "output_type": "stream",
       "stream": "stdout",
       "text": [
        "56889.7558863 56890.7344779 "
       ]
      },
      {
       "output_type": "stream",
       "stream": "stdout",
       "text": [
        "56890.7561996 56890.7779248 "
       ]
      },
      {
       "output_type": "stream",
       "stream": "stdout",
       "text": [
        "56891.7214011 "
       ]
      },
      {
       "output_type": "stream",
       "stream": "stdout",
       "text": [
        "56891.7361919 56891.7509697 "
       ]
      },
      {
       "output_type": "stream",
       "stream": "stdout",
       "text": [
        "56893.7742145 56893.7889874 "
       ]
      },
      {
       "output_type": "stream",
       "stream": "stdout",
       "text": [
        "56893.8041221 "
       ]
      },
      {
       "output_type": "stream",
       "stream": "stdout",
       "text": [
        "56894.7584364 "
       ]
      },
      {
       "output_type": "stream",
       "stream": "stdout",
       "text": [
        "56894.7732268 "
       ]
      },
      {
       "output_type": "stream",
       "stream": "stdout",
       "text": [
        "56894.7880043 "
       ]
      },
      {
       "output_type": "stream",
       "stream": "stdout",
       "text": [
        "\n",
        "Giant33"
       ]
      },
      {
       "output_type": "stream",
       "stream": "stdout",
       "text": [
        "\n",
        "WL aligned"
       ]
      },
      {
       "output_type": "stream",
       "stream": "stdout",
       "text": [
        "\n",
        "WL aligned\n",
        "WL aligned\n",
        "WL aligned\n",
        "56889.7312269 "
       ]
      },
      {
       "output_type": "stream",
       "stream": "stdout",
       "text": [
        "56889.7409558 "
       ]
      },
      {
       "output_type": "stream",
       "stream": "stdout",
       "text": [
        "56889.7558863 56890.7344779 "
       ]
      },
      {
       "output_type": "stream",
       "stream": "stdout",
       "text": [
        "56890.7561996 "
       ]
      },
      {
       "output_type": "stream",
       "stream": "stdout",
       "text": [
        "56890.7779248 "
       ]
      },
      {
       "output_type": "stream",
       "stream": "stdout",
       "text": [
        "56891.7214011 "
       ]
      },
      {
       "output_type": "stream",
       "stream": "stdout",
       "text": [
        "56891.7361919 "
       ]
      },
      {
       "output_type": "stream",
       "stream": "stdout",
       "text": [
        "56891.7509697 56893.7742145 "
       ]
      },
      {
       "output_type": "stream",
       "stream": "stdout",
       "text": [
        "56893.7889874 56893.8041221 "
       ]
      },
      {
       "output_type": "stream",
       "stream": "stdout",
       "text": [
        "56894.7584364 "
       ]
      },
      {
       "output_type": "stream",
       "stream": "stdout",
       "text": [
        "56894.7732268 "
       ]
      },
      {
       "output_type": "stream",
       "stream": "stdout",
       "text": [
        "56894.7880043 \n",
        "56889.7312269"
       ]
      },
      {
       "output_type": "stream",
       "stream": "stdout",
       "text": [
        " 56889.7409558 "
       ]
      },
      {
       "output_type": "stream",
       "stream": "stdout",
       "text": [
        "56889.7558863 "
       ]
      },
      {
       "output_type": "stream",
       "stream": "stdout",
       "text": [
        "56890.7344779 56890.7561996 "
       ]
      },
      {
       "output_type": "stream",
       "stream": "stdout",
       "text": [
        "56890.7779248 56891.7214011 "
       ]
      },
      {
       "output_type": "stream",
       "stream": "stdout",
       "text": [
        "56891.7361919 56891.7509697 "
       ]
      },
      {
       "output_type": "stream",
       "stream": "stdout",
       "text": [
        "56893.7742145 "
       ]
      },
      {
       "output_type": "stream",
       "stream": "stdout",
       "text": [
        "56893.7889874 "
       ]
      },
      {
       "output_type": "stream",
       "stream": "stdout",
       "text": [
        "56893.8041221 "
       ]
      },
      {
       "output_type": "stream",
       "stream": "stdout",
       "text": [
        "56894.7584364 "
       ]
      },
      {
       "output_type": "stream",
       "stream": "stdout",
       "text": [
        "56894.7732268 56894.7880043 "
       ]
      },
      {
       "output_type": "stream",
       "stream": "stdout",
       "text": [
        "\n",
        "56889.7312269 "
       ]
      },
      {
       "output_type": "stream",
       "stream": "stdout",
       "text": [
        "56889.7409558 56889.7558863 "
       ]
      },
      {
       "output_type": "stream",
       "stream": "stdout",
       "text": [
        "56890.7344779 56890.7561996 "
       ]
      },
      {
       "output_type": "stream",
       "stream": "stdout",
       "text": [
        "56890.7779248 56891.7214011 "
       ]
      },
      {
       "output_type": "stream",
       "stream": "stdout",
       "text": [
        "56891.7361919 56891.7509697 "
       ]
      },
      {
       "output_type": "stream",
       "stream": "stdout",
       "text": [
        "56893.7742145 56893.7889874 "
       ]
      },
      {
       "output_type": "stream",
       "stream": "stdout",
       "text": [
        "56893.8041221 56894.7584364 "
       ]
      },
      {
       "output_type": "stream",
       "stream": "stdout",
       "text": [
        "56894.7732268 "
       ]
      },
      {
       "output_type": "stream",
       "stream": "stdout",
       "text": [
        "56894.7880043 "
       ]
      },
      {
       "output_type": "stream",
       "stream": "stdout",
       "text": [
        "\n",
        "56889.7312269 "
       ]
      },
      {
       "output_type": "stream",
       "stream": "stdout",
       "text": [
        "56889.7409558 56889.7558863 "
       ]
      },
      {
       "output_type": "stream",
       "stream": "stdout",
       "text": [
        "56890.7344779 "
       ]
      },
      {
       "output_type": "stream",
       "stream": "stdout",
       "text": [
        "56890.7561996 56890.7779248 "
       ]
      },
      {
       "output_type": "stream",
       "stream": "stdout",
       "text": [
        "56891.7214011 "
       ]
      },
      {
       "output_type": "stream",
       "stream": "stdout",
       "text": [
        "56891.7361919 56891.7509697 "
       ]
      },
      {
       "output_type": "stream",
       "stream": "stdout",
       "text": [
        "56893.7742145 56893.7889874 "
       ]
      },
      {
       "output_type": "stream",
       "stream": "stdout",
       "text": [
        "56893.8041221 56894.7584364 "
       ]
      },
      {
       "output_type": "stream",
       "stream": "stdout",
       "text": [
        "56894.7732268 56894.7880043 "
       ]
      },
      {
       "output_type": "stream",
       "stream": "stdout",
       "text": [
        "\n",
        "Field02"
       ]
      },
      {
       "output_type": "stream",
       "stream": "stdout",
       "text": [
        "\n",
        "WL aligned"
       ]
      },
      {
       "output_type": "stream",
       "stream": "stdout",
       "text": [
        "\n",
        "WL aligned\n",
        "WL aligned\n",
        "WL aligned\n",
        "56889.7312269 "
       ]
      },
      {
       "output_type": "stream",
       "stream": "stdout",
       "text": [
        "56889.7409558 "
       ]
      },
      {
       "output_type": "stream",
       "stream": "stdout",
       "text": [
        "56889.7558863 "
       ]
      },
      {
       "output_type": "stream",
       "stream": "stdout",
       "text": [
        "56890.7344779 "
       ]
      },
      {
       "output_type": "stream",
       "stream": "stdout",
       "text": [
        "56890.7561996 56890.7779248 "
       ]
      },
      {
       "output_type": "stream",
       "stream": "stdout",
       "text": [
        "56891.7214011 56891.7361919 "
       ]
      },
      {
       "output_type": "stream",
       "stream": "stdout",
       "text": [
        "56891.7509697 56893.7742145 "
       ]
      },
      {
       "output_type": "stream",
       "stream": "stdout",
       "text": [
        "56893.7889874 56893.8041221 "
       ]
      },
      {
       "output_type": "stream",
       "stream": "stdout",
       "text": [
        "56894.7584364 56894.7732268 "
       ]
      },
      {
       "output_type": "stream",
       "stream": "stdout",
       "text": [
        "56894.7880043 \n",
        "56889.7312269 "
       ]
      },
      {
       "output_type": "stream",
       "stream": "stdout",
       "text": [
        "56889.7409558 56889.7558863 "
       ]
      },
      {
       "output_type": "stream",
       "stream": "stdout",
       "text": [
        "56890.7344779 56890.7561996 "
       ]
      },
      {
       "output_type": "stream",
       "stream": "stdout",
       "text": [
        "56890.7779248 56891.7214011 "
       ]
      },
      {
       "output_type": "stream",
       "stream": "stdout",
       "text": [
        "56891.7361919 56891.7509697 "
       ]
      },
      {
       "output_type": "stream",
       "stream": "stdout",
       "text": [
        "56893.7742145 56893.7889874 "
       ]
      },
      {
       "output_type": "stream",
       "stream": "stdout",
       "text": [
        "56893.8041221 56894.7584364 "
       ]
      },
      {
       "output_type": "stream",
       "stream": "stdout",
       "text": [
        "56894.7732268 56894.7880043 "
       ]
      },
      {
       "output_type": "stream",
       "stream": "stdout",
       "text": [
        "\n",
        "56889.7312269 56889.7409558 "
       ]
      },
      {
       "output_type": "stream",
       "stream": "stdout",
       "text": [
        "56889.7558863 56890.7344779 "
       ]
      },
      {
       "output_type": "stream",
       "stream": "stdout",
       "text": [
        "56890.7561996 56890.7779248 "
       ]
      },
      {
       "output_type": "stream",
       "stream": "stdout",
       "text": [
        "56891.7214011 56891.7361919 "
       ]
      },
      {
       "output_type": "stream",
       "stream": "stdout",
       "text": [
        "56891.7509697 56893.7742145 "
       ]
      },
      {
       "output_type": "stream",
       "stream": "stdout",
       "text": [
        "56893.7889874 56893.8041221 "
       ]
      },
      {
       "output_type": "stream",
       "stream": "stdout",
       "text": [
        "56894.7584364 56894.7732268 "
       ]
      },
      {
       "output_type": "stream",
       "stream": "stdout",
       "text": [
        "56894.7880043 \n",
        "56889.7312269 "
       ]
      },
      {
       "output_type": "stream",
       "stream": "stdout",
       "text": [
        "56889.7409558 56889.7558863 "
       ]
      },
      {
       "output_type": "stream",
       "stream": "stdout",
       "text": [
        "56890.7344779 56890.7561996 "
       ]
      },
      {
       "output_type": "stream",
       "stream": "stdout",
       "text": [
        "56890.7779248 56891.7214011 "
       ]
      },
      {
       "output_type": "stream",
       "stream": "stdout",
       "text": [
        "56891.7361919 "
       ]
      },
      {
       "output_type": "stream",
       "stream": "stdout",
       "text": [
        "56891.7509697 56893.7742145 "
       ]
      },
      {
       "output_type": "stream",
       "stream": "stdout",
       "text": [
        "56893.7889874 56893.8041221 "
       ]
      },
      {
       "output_type": "stream",
       "stream": "stdout",
       "text": [
        "56894.7584364 56894.7732268 "
       ]
      },
      {
       "output_type": "stream",
       "stream": "stdout",
       "text": [
        "56894.7880043 \n",
        "Giant18"
       ]
      },
      {
       "output_type": "stream",
       "stream": "stdout",
       "text": [
        "\n",
        "WL aligned"
       ]
      },
      {
       "output_type": "stream",
       "stream": "stdout",
       "text": [
        "\n",
        "WL aligned\n",
        "WL aligned\n",
        "WL aligned\n",
        "56889.7312269 "
       ]
      },
      {
       "output_type": "stream",
       "stream": "stdout",
       "text": [
        "56889.7409558 56889.7558863 "
       ]
      },
      {
       "output_type": "stream",
       "stream": "stdout",
       "text": [
        "56890.7344779 56890.7561996 "
       ]
      },
      {
       "output_type": "stream",
       "stream": "stdout",
       "text": [
        "56890.7779248 56891.7214011 "
       ]
      },
      {
       "output_type": "stream",
       "stream": "stdout",
       "text": [
        "56891.7361919 56891.7509697 "
       ]
      },
      {
       "output_type": "stream",
       "stream": "stdout",
       "text": [
        "56893.7742145 56893.7889874 "
       ]
      },
      {
       "output_type": "stream",
       "stream": "stdout",
       "text": [
        "56893.8041221 56894.7584364 "
       ]
      },
      {
       "output_type": "stream",
       "stream": "stdout",
       "text": [
        "56894.7732268 56894.7880043 "
       ]
      },
      {
       "output_type": "stream",
       "stream": "stdout",
       "text": [
        "\n",
        "56889.7312269 56889.7409558 "
       ]
      },
      {
       "output_type": "stream",
       "stream": "stdout",
       "text": [
        "56889.7558863 56890.7344779 "
       ]
      },
      {
       "output_type": "stream",
       "stream": "stdout",
       "text": [
        "56890.7561996 56890.7779248 "
       ]
      },
      {
       "output_type": "stream",
       "stream": "stdout",
       "text": [
        "56891.7214011 56891.7361919 "
       ]
      },
      {
       "output_type": "stream",
       "stream": "stdout",
       "text": [
        "56891.7509697 56893.7742145 "
       ]
      },
      {
       "output_type": "stream",
       "stream": "stdout",
       "text": [
        "56893.7889874 56893.8041221 "
       ]
      },
      {
       "output_type": "stream",
       "stream": "stdout",
       "text": [
        "56894.7584364 56894.7732268 "
       ]
      },
      {
       "output_type": "stream",
       "stream": "stdout",
       "text": [
        "56894.7880043 \n",
        "56889.7312269 "
       ]
      },
      {
       "output_type": "stream",
       "stream": "stdout",
       "text": [
        "56889.7409558 56889.7558863 "
       ]
      },
      {
       "output_type": "stream",
       "stream": "stdout",
       "text": [
        "56890.7344779 56890.7561996 "
       ]
      },
      {
       "output_type": "stream",
       "stream": "stdout",
       "text": [
        "56890.7779248 56891.7214011 "
       ]
      },
      {
       "output_type": "stream",
       "stream": "stdout",
       "text": [
        "56891.7361919 56891.7509697 "
       ]
      },
      {
       "output_type": "stream",
       "stream": "stdout",
       "text": [
        "56893.7742145 56893.7889874 "
       ]
      },
      {
       "output_type": "stream",
       "stream": "stdout",
       "text": [
        "56893.8041221 56894.7584364 "
       ]
      },
      {
       "output_type": "stream",
       "stream": "stdout",
       "text": [
        "56894.7732268 56894.7880043 "
       ]
      },
      {
       "output_type": "stream",
       "stream": "stdout",
       "text": [
        "\n",
        "56889.7312269 56889.7409558 "
       ]
      },
      {
       "output_type": "stream",
       "stream": "stdout",
       "text": [
        "56889.7558863 56890.7344779 "
       ]
      },
      {
       "output_type": "stream",
       "stream": "stdout",
       "text": [
        "56890.7561996 56890.7779248 "
       ]
      },
      {
       "output_type": "stream",
       "stream": "stdout",
       "text": [
        "56891.7214011 56891.7361919 "
       ]
      },
      {
       "output_type": "stream",
       "stream": "stdout",
       "text": [
        "56891.7509697 56893.7742145 "
       ]
      },
      {
       "output_type": "stream",
       "stream": "stdout",
       "text": [
        "56893.7889874 56893.8041221 "
       ]
      },
      {
       "output_type": "stream",
       "stream": "stdout",
       "text": [
        "56894.7584364 56894.7732268 "
       ]
      },
      {
       "output_type": "stream",
       "stream": "stdout",
       "text": [
        "56894.7880043 \n",
        "Giant29"
       ]
      },
      {
       "output_type": "stream",
       "stream": "stdout",
       "text": [
        "\n",
        "WL aligned"
       ]
      },
      {
       "output_type": "stream",
       "stream": "stdout",
       "text": [
        "\n",
        "WL aligned\n",
        "WL aligned\n",
        "WL aligned\n",
        "56889.7312269 "
       ]
      },
      {
       "output_type": "stream",
       "stream": "stdout",
       "text": [
        "56889.7409558 "
       ]
      },
      {
       "output_type": "stream",
       "stream": "stdout",
       "text": [
        "56889.7558863 "
       ]
      },
      {
       "output_type": "stream",
       "stream": "stdout",
       "text": [
        "56890.7344779 "
       ]
      },
      {
       "output_type": "stream",
       "stream": "stdout",
       "text": [
        "56890.7561996 "
       ]
      },
      {
       "output_type": "stream",
       "stream": "stdout",
       "text": [
        "56890.7779248 "
       ]
      },
      {
       "output_type": "stream",
       "stream": "stdout",
       "text": [
        "56891.7214011 "
       ]
      },
      {
       "output_type": "stream",
       "stream": "stdout",
       "text": [
        "56891.7361919 "
       ]
      },
      {
       "output_type": "stream",
       "stream": "stdout",
       "text": [
        "56891.7509697 56893.7742145 "
       ]
      },
      {
       "output_type": "stream",
       "stream": "stdout",
       "text": [
        "56893.7889874 56893.8041221 "
       ]
      },
      {
       "output_type": "stream",
       "stream": "stdout",
       "text": [
        "56894.7584364 56894.7732268 "
       ]
      },
      {
       "output_type": "stream",
       "stream": "stdout",
       "text": [
        "56894.7880043 \n",
        "56889.7312269"
       ]
      },
      {
       "output_type": "stream",
       "stream": "stdout",
       "text": [
        " 56889.7409558 56889.7558863 "
       ]
      },
      {
       "output_type": "stream",
       "stream": "stdout",
       "text": [
        "56890.7344779 56890.7561996 "
       ]
      },
      {
       "output_type": "stream",
       "stream": "stdout",
       "text": [
        "56890.7779248 56891.7214011 "
       ]
      },
      {
       "output_type": "stream",
       "stream": "stdout",
       "text": [
        "56891.7361919 56891.7509697 "
       ]
      },
      {
       "output_type": "stream",
       "stream": "stdout",
       "text": [
        "56893.7742145 56893.7889874 "
       ]
      },
      {
       "output_type": "stream",
       "stream": "stdout",
       "text": [
        "56893.8041221 56894.7584364 "
       ]
      },
      {
       "output_type": "stream",
       "stream": "stdout",
       "text": [
        "56894.7732268 56894.7880043 "
       ]
      },
      {
       "output_type": "stream",
       "stream": "stdout",
       "text": [
        "\n",
        "56889.7312269 "
       ]
      },
      {
       "output_type": "stream",
       "stream": "stdout",
       "text": [
        "56889.7409558 56889.7558863 "
       ]
      },
      {
       "output_type": "stream",
       "stream": "stdout",
       "text": [
        "56890.7344779 56890.7561996 "
       ]
      },
      {
       "output_type": "stream",
       "stream": "stdout",
       "text": [
        "56890.7779248 56891.7214011 "
       ]
      },
      {
       "output_type": "stream",
       "stream": "stdout",
       "text": [
        "56891.7361919 56891.7509697 "
       ]
      },
      {
       "output_type": "stream",
       "stream": "stdout",
       "text": [
        "56893.7742145 56893.7889874 "
       ]
      },
      {
       "output_type": "stream",
       "stream": "stdout",
       "text": [
        "56893.8041221 56894.7584364 "
       ]
      },
      {
       "output_type": "stream",
       "stream": "stdout",
       "text": [
        "56894.7732268 56894.7880043 "
       ]
      },
      {
       "output_type": "stream",
       "stream": "stdout",
       "text": [
        "\n",
        "56889.7312269 56889.7409558 "
       ]
      },
      {
       "output_type": "stream",
       "stream": "stdout",
       "text": [
        "56889.7558863 56890.7344779 "
       ]
      },
      {
       "output_type": "stream",
       "stream": "stdout",
       "text": [
        "56890.7561996 "
       ]
      },
      {
       "output_type": "stream",
       "stream": "stdout",
       "text": [
        "56890.7779248 "
       ]
      },
      {
       "output_type": "stream",
       "stream": "stdout",
       "text": [
        "56891.7214011 "
       ]
      },
      {
       "output_type": "stream",
       "stream": "stdout",
       "text": [
        "56891.7361919 "
       ]
      },
      {
       "output_type": "stream",
       "stream": "stdout",
       "text": [
        "56891.7509697 56893.7742145 "
       ]
      },
      {
       "output_type": "stream",
       "stream": "stdout",
       "text": [
        "56893.7889874 56893.8041221 "
       ]
      },
      {
       "output_type": "stream",
       "stream": "stdout",
       "text": [
        "56894.7584364 56894.7732268 "
       ]
      },
      {
       "output_type": "stream",
       "stream": "stdout",
       "text": [
        "56894.7880043 \n",
        "Field06"
       ]
      },
      {
       "output_type": "stream",
       "stream": "stdout",
       "text": [
        "\n",
        "WL aligned"
       ]
      },
      {
       "output_type": "stream",
       "stream": "stdout",
       "text": [
        "\n",
        "WL aligned\n",
        "WL aligned\n",
        "WL aligned\n",
        "56889.7312269 "
       ]
      },
      {
       "output_type": "stream",
       "stream": "stdout",
       "text": [
        "56889.7409558 "
       ]
      },
      {
       "output_type": "stream",
       "stream": "stdout",
       "text": [
        "56889.7558863 "
       ]
      },
      {
       "output_type": "stream",
       "stream": "stdout",
       "text": [
        "56890.7344779 "
       ]
      },
      {
       "output_type": "stream",
       "stream": "stdout",
       "text": [
        "56890.7561996 "
       ]
      },
      {
       "output_type": "stream",
       "stream": "stdout",
       "text": [
        "56890.7779248 56891.7214011 "
       ]
      },
      {
       "output_type": "stream",
       "stream": "stdout",
       "text": [
        "56891.7361919 "
       ]
      },
      {
       "output_type": "stream",
       "stream": "stdout",
       "text": [
        "56891.7509697 "
       ]
      },
      {
       "output_type": "stream",
       "stream": "stdout",
       "text": [
        "56893.7742145 "
       ]
      },
      {
       "output_type": "stream",
       "stream": "stdout",
       "text": [
        "56893.7889874 56893.8041221 "
       ]
      },
      {
       "output_type": "stream",
       "stream": "stdout",
       "text": [
        "56894.7584364 "
       ]
      },
      {
       "output_type": "stream",
       "stream": "stdout",
       "text": [
        "56894.7732268 56894.7880043 "
       ]
      },
      {
       "output_type": "stream",
       "stream": "stdout",
       "text": [
        "\n",
        "56889.7312269 "
       ]
      },
      {
       "output_type": "stream",
       "stream": "stdout",
       "text": [
        "56889.7409558 "
       ]
      },
      {
       "output_type": "stream",
       "stream": "stdout",
       "text": [
        "56889.7558863 "
       ]
      },
      {
       "output_type": "stream",
       "stream": "stdout",
       "text": [
        "56890.7344779 56890.7561996 "
       ]
      },
      {
       "output_type": "stream",
       "stream": "stdout",
       "text": [
        "56890.7779248 56891.7214011 "
       ]
      },
      {
       "output_type": "stream",
       "stream": "stdout",
       "text": [
        "56891.7361919 "
       ]
      },
      {
       "output_type": "stream",
       "stream": "stdout",
       "text": [
        "56891.7509697 56893.7742145 "
       ]
      },
      {
       "output_type": "stream",
       "stream": "stdout",
       "text": [
        "56893.7889874 56893.8041221 "
       ]
      },
      {
       "output_type": "stream",
       "stream": "stdout",
       "text": [
        "56894.7584364 "
       ]
      },
      {
       "output_type": "stream",
       "stream": "stdout",
       "text": [
        "56894.7732268 56894.7880043 "
       ]
      },
      {
       "output_type": "stream",
       "stream": "stdout",
       "text": [
        "\n",
        "56889.7312269 "
       ]
      },
      {
       "output_type": "stream",
       "stream": "stdout",
       "text": [
        "56889.7409558 "
       ]
      },
      {
       "output_type": "stream",
       "stream": "stdout",
       "text": [
        "56889.7558863 "
       ]
      },
      {
       "output_type": "stream",
       "stream": "stdout",
       "text": [
        "56890.7344779 56890.7561996 "
       ]
      },
      {
       "output_type": "stream",
       "stream": "stdout",
       "text": [
        "56890.7779248 56891.7214011 "
       ]
      },
      {
       "output_type": "stream",
       "stream": "stdout",
       "text": [
        "56891.7361919 56891.7509697 "
       ]
      },
      {
       "output_type": "stream",
       "stream": "stdout",
       "text": [
        "56893.7742145 56893.7889874 "
       ]
      },
      {
       "output_type": "stream",
       "stream": "stdout",
       "text": [
        "56893.8041221 "
       ]
      },
      {
       "output_type": "stream",
       "stream": "stdout",
       "text": [
        "56894.7584364 "
       ]
      },
      {
       "output_type": "stream",
       "stream": "stdout",
       "text": [
        "56894.7732268 56894.7880043 "
       ]
      },
      {
       "output_type": "stream",
       "stream": "stdout",
       "text": [
        "\n",
        "56889.7312269 "
       ]
      },
      {
       "output_type": "stream",
       "stream": "stdout",
       "text": [
        "56889.7409558 "
       ]
      },
      {
       "output_type": "stream",
       "stream": "stdout",
       "text": [
        "56889.7558863 56890.7344779 "
       ]
      },
      {
       "output_type": "stream",
       "stream": "stdout",
       "text": [
        "56890.7561996 56890.7779248 "
       ]
      },
      {
       "output_type": "stream",
       "stream": "stdout",
       "text": [
        "56891.7214011 "
       ]
      },
      {
       "output_type": "stream",
       "stream": "stdout",
       "text": [
        "56891.7361919 56891.7509697 "
       ]
      },
      {
       "output_type": "stream",
       "stream": "stdout",
       "text": [
        "56893.7742145 "
       ]
      },
      {
       "output_type": "stream",
       "stream": "stdout",
       "text": [
        "56893.7889874 56893.8041221 "
       ]
      },
      {
       "output_type": "stream",
       "stream": "stdout",
       "text": [
        "56894.7584364 56894.7732268 "
       ]
      },
      {
       "output_type": "stream",
       "stream": "stdout",
       "text": [
        "56894.7880043 \n",
        "Field15"
       ]
      },
      {
       "output_type": "stream",
       "stream": "stdout",
       "text": [
        "\n",
        "WL aligned"
       ]
      },
      {
       "output_type": "stream",
       "stream": "stdout",
       "text": [
        "\n",
        "WL aligned\n",
        "WL aligned\n",
        "WL aligned\n",
        "56889.7312269 "
       ]
      },
      {
       "output_type": "stream",
       "stream": "stdout",
       "text": [
        "56889.7409558 56889.7558863 "
       ]
      },
      {
       "output_type": "stream",
       "stream": "stdout",
       "text": [
        "56890.7344779 56890.7561996 "
       ]
      },
      {
       "output_type": "stream",
       "stream": "stdout",
       "text": [
        "56890.7779248 "
       ]
      },
      {
       "output_type": "stream",
       "stream": "stdout",
       "text": [
        "56891.7214011 56891.7361919 "
       ]
      },
      {
       "output_type": "stream",
       "stream": "stdout",
       "text": [
        "56891.7509697 56893.7742145 "
       ]
      },
      {
       "output_type": "stream",
       "stream": "stdout",
       "text": [
        "56893.7889874 56893.8041221 "
       ]
      },
      {
       "output_type": "stream",
       "stream": "stdout",
       "text": [
        "56894.7584364 56894.7732268 "
       ]
      },
      {
       "output_type": "stream",
       "stream": "stdout",
       "text": [
        "56894.7880043 "
       ]
      },
      {
       "output_type": "stream",
       "stream": "stdout",
       "text": [
        "\n",
        "56889.7312269 "
       ]
      },
      {
       "output_type": "stream",
       "stream": "stdout",
       "text": [
        "56889.7409558 "
       ]
      },
      {
       "output_type": "stream",
       "stream": "stdout",
       "text": [
        "56889.7558863 "
       ]
      },
      {
       "output_type": "stream",
       "stream": "stdout",
       "text": [
        "56890.7344779 "
       ]
      },
      {
       "output_type": "stream",
       "stream": "stdout",
       "text": [
        "56890.7561996 56890.7779248 "
       ]
      },
      {
       "output_type": "stream",
       "stream": "stdout",
       "text": [
        "56891.7214011 56891.7361919 "
       ]
      },
      {
       "output_type": "stream",
       "stream": "stdout",
       "text": [
        "56891.7509697 56893.7742145 "
       ]
      },
      {
       "output_type": "stream",
       "stream": "stdout",
       "text": [
        "56893.7889874 56893.8041221 "
       ]
      },
      {
       "output_type": "stream",
       "stream": "stdout",
       "text": [
        "56894.7584364 56894.7732268 "
       ]
      },
      {
       "output_type": "stream",
       "stream": "stdout",
       "text": [
        "56894.7880043 \n",
        "56889.7312269"
       ]
      },
      {
       "output_type": "stream",
       "stream": "stdout",
       "text": [
        " 56889.7409558 56889.7558863 "
       ]
      },
      {
       "output_type": "stream",
       "stream": "stdout",
       "text": [
        "56890.7344779 56890.7561996 "
       ]
      },
      {
       "output_type": "stream",
       "stream": "stdout",
       "text": [
        "56890.7779248 56891.7214011 "
       ]
      },
      {
       "output_type": "stream",
       "stream": "stdout",
       "text": [
        "56891.7361919 56891.7509697 "
       ]
      },
      {
       "output_type": "stream",
       "stream": "stdout",
       "text": [
        "56893.7742145 "
       ]
      },
      {
       "output_type": "stream",
       "stream": "stdout",
       "text": [
        "56893.7889874 "
       ]
      },
      {
       "output_type": "stream",
       "stream": "stdout",
       "text": [
        "56893.8041221 "
       ]
      },
      {
       "output_type": "stream",
       "stream": "stdout",
       "text": [
        "56894.7584364 "
       ]
      },
      {
       "output_type": "stream",
       "stream": "stdout",
       "text": [
        "56894.7732268 "
       ]
      },
      {
       "output_type": "stream",
       "stream": "stdout",
       "text": [
        "56894.7880043 \n",
        "56889.7312269"
       ]
      },
      {
       "output_type": "stream",
       "stream": "stdout",
       "text": [
        " 56889.7409558 56889.7558863 "
       ]
      },
      {
       "output_type": "stream",
       "stream": "stdout",
       "text": [
        "56890.7344779 56890.7561996 "
       ]
      },
      {
       "output_type": "stream",
       "stream": "stdout",
       "text": [
        "56890.7779248 "
       ]
      },
      {
       "output_type": "stream",
       "stream": "stdout",
       "text": [
        "56891.7214011 56891.7361919 "
       ]
      },
      {
       "output_type": "stream",
       "stream": "stdout",
       "text": [
        "56891.7509697 56893.7742145 "
       ]
      },
      {
       "output_type": "stream",
       "stream": "stdout",
       "text": [
        "56893.7889874 56893.8041221 "
       ]
      },
      {
       "output_type": "stream",
       "stream": "stdout",
       "text": [
        "56894.7584364 56894.7732268 "
       ]
      },
      {
       "output_type": "stream",
       "stream": "stdout",
       "text": [
        "56894.7880043 \n",
        "Giant31"
       ]
      },
      {
       "output_type": "stream",
       "stream": "stdout",
       "text": [
        "\n",
        "WL aligned"
       ]
      },
      {
       "output_type": "stream",
       "stream": "stdout",
       "text": [
        "\n",
        "WL aligned\n",
        "WL aligned\n",
        "WL aligned\n",
        "56889.7312269 CC failed (probably NaNs)\n",
        "Giant26\n",
        "WL aligned"
       ]
      },
      {
       "output_type": "stream",
       "stream": "stdout",
       "text": [
        "\n",
        "WL aligned\n",
        "WL aligned\n",
        "WL aligned\n",
        "56889.7312269 "
       ]
      },
      {
       "output_type": "stream",
       "stream": "stdout",
       "text": [
        "56889.7409558 56889.7558863 "
       ]
      },
      {
       "output_type": "stream",
       "stream": "stdout",
       "text": [
        "56890.7344779 56890.7561996 "
       ]
      },
      {
       "output_type": "stream",
       "stream": "stdout",
       "text": [
        "56890.7779248 "
       ]
      },
      {
       "output_type": "stream",
       "stream": "stdout",
       "text": [
        "56891.7214011 56891.7361919 "
       ]
      },
      {
       "output_type": "stream",
       "stream": "stdout",
       "text": [
        "56891.7509697 56893.7742145 "
       ]
      },
      {
       "output_type": "stream",
       "stream": "stdout",
       "text": [
        "56893.7889874 56893.8041221 "
       ]
      },
      {
       "output_type": "stream",
       "stream": "stdout",
       "text": [
        "56894.7584364 56894.7732268 "
       ]
      },
      {
       "output_type": "stream",
       "stream": "stdout",
       "text": [
        "56894.7880043 "
       ]
      },
      {
       "output_type": "stream",
       "stream": "stdout",
       "text": [
        "\n",
        "56889.7312269 "
       ]
      },
      {
       "output_type": "stream",
       "stream": "stdout",
       "text": [
        "56889.7409558 "
       ]
      },
      {
       "output_type": "stream",
       "stream": "stdout",
       "text": [
        "56889.7558863 "
       ]
      },
      {
       "output_type": "stream",
       "stream": "stdout",
       "text": [
        "56890.7344779 "
       ]
      },
      {
       "output_type": "stream",
       "stream": "stdout",
       "text": [
        "56890.7561996 56890.7779248 "
       ]
      },
      {
       "output_type": "stream",
       "stream": "stdout",
       "text": [
        "56891.7214011 56891.7361919 "
       ]
      },
      {
       "output_type": "stream",
       "stream": "stdout",
       "text": [
        "56891.7509697 "
       ]
      },
      {
       "output_type": "stream",
       "stream": "stdout",
       "text": [
        "56893.7742145 "
       ]
      },
      {
       "output_type": "stream",
       "stream": "stdout",
       "text": [
        "56893.7889874 56893.8041221 "
       ]
      },
      {
       "output_type": "stream",
       "stream": "stdout",
       "text": [
        "56894.7584364 "
       ]
      },
      {
       "output_type": "stream",
       "stream": "stdout",
       "text": [
        "56894.7732268 56894.7880043 "
       ]
      },
      {
       "output_type": "stream",
       "stream": "stdout",
       "text": [
        "\n",
        "56889.7312269 "
       ]
      },
      {
       "output_type": "stream",
       "stream": "stdout",
       "text": [
        "56889.7409558 56889.7558863 "
       ]
      },
      {
       "output_type": "stream",
       "stream": "stdout",
       "text": [
        "56890.7344779 56890.7561996 "
       ]
      },
      {
       "output_type": "stream",
       "stream": "stdout",
       "text": [
        "56890.7779248 56891.7214011 "
       ]
      },
      {
       "output_type": "stream",
       "stream": "stdout",
       "text": [
        "56891.7361919 56891.7509697 "
       ]
      },
      {
       "output_type": "stream",
       "stream": "stdout",
       "text": [
        "56893.7742145 "
       ]
      },
      {
       "output_type": "stream",
       "stream": "stdout",
       "text": [
        "56893.7889874 "
       ]
      },
      {
       "output_type": "stream",
       "stream": "stdout",
       "text": [
        "56893.8041221 56894.7584364 "
       ]
      },
      {
       "output_type": "stream",
       "stream": "stdout",
       "text": [
        "56894.7732268 "
       ]
      },
      {
       "output_type": "stream",
       "stream": "stdout",
       "text": [
        "56894.7880043 \n",
        "56889.7312269"
       ]
      },
      {
       "output_type": "stream",
       "stream": "stdout",
       "text": [
        " 56889.7409558 56889.7558863 "
       ]
      },
      {
       "output_type": "stream",
       "stream": "stdout",
       "text": [
        "56890.7344779 "
       ]
      },
      {
       "output_type": "stream",
       "stream": "stdout",
       "text": [
        "56890.7561996 56890.7779248 "
       ]
      },
      {
       "output_type": "stream",
       "stream": "stdout",
       "text": [
        "56891.7214011 "
       ]
      },
      {
       "output_type": "stream",
       "stream": "stdout",
       "text": [
        "56891.7361919 56891.7509697 "
       ]
      },
      {
       "output_type": "stream",
       "stream": "stdout",
       "text": [
        "56893.7742145 56893.7889874 "
       ]
      },
      {
       "output_type": "stream",
       "stream": "stdout",
       "text": [
        "56893.8041221 56894.7584364 "
       ]
      },
      {
       "output_type": "stream",
       "stream": "stdout",
       "text": [
        "56894.7732268 56894.7880043 "
       ]
      },
      {
       "output_type": "stream",
       "stream": "stdout",
       "text": [
        "\n",
        "Giant38"
       ]
      },
      {
       "output_type": "stream",
       "stream": "stdout",
       "text": [
        "\n",
        "WL aligned"
       ]
      },
      {
       "output_type": "stream",
       "stream": "stdout",
       "text": [
        "\n",
        "WL aligned\n",
        "WL aligned\n",
        "WL aligned\n",
        "56889.7312269 "
       ]
      },
      {
       "output_type": "stream",
       "stream": "stdout",
       "text": [
        "56889.7409558 56889.7558863 "
       ]
      },
      {
       "output_type": "stream",
       "stream": "stdout",
       "text": [
        "56890.7344779 56890.7561996 "
       ]
      },
      {
       "output_type": "stream",
       "stream": "stdout",
       "text": [
        "56890.7779248 "
       ]
      },
      {
       "output_type": "stream",
       "stream": "stdout",
       "text": [
        "56891.7214011 "
       ]
      },
      {
       "output_type": "stream",
       "stream": "stdout",
       "text": [
        "56891.7361919 56891.7509697 "
       ]
      },
      {
       "output_type": "stream",
       "stream": "stdout",
       "text": [
        "56893.7742145 56893.7889874 "
       ]
      },
      {
       "output_type": "stream",
       "stream": "stdout",
       "text": [
        "56893.8041221 "
       ]
      },
      {
       "output_type": "stream",
       "stream": "stdout",
       "text": [
        "56894.7584364 56894.7732268 "
       ]
      },
      {
       "output_type": "stream",
       "stream": "stdout",
       "text": [
        "56894.7880043 "
       ]
      },
      {
       "output_type": "stream",
       "stream": "stdout",
       "text": [
        "\n",
        "56889.7312269 "
       ]
      },
      {
       "output_type": "stream",
       "stream": "stdout",
       "text": [
        "56889.7409558 56889.7558863 "
       ]
      },
      {
       "output_type": "stream",
       "stream": "stdout",
       "text": [
        "56890.7344779 56890.7561996 "
       ]
      },
      {
       "output_type": "stream",
       "stream": "stdout",
       "text": [
        "56890.7779248 56891.7214011 "
       ]
      },
      {
       "output_type": "stream",
       "stream": "stdout",
       "text": [
        "56891.7361919 56891.7509697 "
       ]
      },
      {
       "output_type": "stream",
       "stream": "stdout",
       "text": [
        "56893.7742145 56893.7889874 "
       ]
      },
      {
       "output_type": "stream",
       "stream": "stdout",
       "text": [
        "56893.8041221 56894.7584364 "
       ]
      },
      {
       "output_type": "stream",
       "stream": "stdout",
       "text": [
        "56894.7732268 "
       ]
      },
      {
       "output_type": "stream",
       "stream": "stdout",
       "text": [
        "56894.7880043 "
       ]
      },
      {
       "output_type": "stream",
       "stream": "stdout",
       "text": [
        "\n",
        "56889.7312269 "
       ]
      },
      {
       "output_type": "stream",
       "stream": "stdout",
       "text": [
        "56889.7409558 56889.7558863 "
       ]
      },
      {
       "output_type": "stream",
       "stream": "stdout",
       "text": [
        "56890.7344779 56890.7561996 "
       ]
      },
      {
       "output_type": "stream",
       "stream": "stdout",
       "text": [
        "56890.7779248 56891.7214011 "
       ]
      },
      {
       "output_type": "stream",
       "stream": "stdout",
       "text": [
        "56891.7361919 56891.7509697 "
       ]
      },
      {
       "output_type": "stream",
       "stream": "stdout",
       "text": [
        "56893.7742145 56893.7889874 "
       ]
      },
      {
       "output_type": "stream",
       "stream": "stdout",
       "text": [
        "56893.8041221 56894.7584364 "
       ]
      },
      {
       "output_type": "stream",
       "stream": "stdout",
       "text": [
        "56894.7732268 56894.7880043 "
       ]
      },
      {
       "output_type": "stream",
       "stream": "stdout",
       "text": [
        "\n",
        "56889.7312269 56889.7409558 "
       ]
      },
      {
       "output_type": "stream",
       "stream": "stdout",
       "text": [
        "56889.7558863 56890.7344779 "
       ]
      },
      {
       "output_type": "stream",
       "stream": "stdout",
       "text": [
        "56890.7561996 "
       ]
      },
      {
       "output_type": "stream",
       "stream": "stdout",
       "text": [
        "56890.7779248 56891.7214011 "
       ]
      },
      {
       "output_type": "stream",
       "stream": "stdout",
       "text": [
        "56891.7361919 56891.7509697 "
       ]
      },
      {
       "output_type": "stream",
       "stream": "stdout",
       "text": [
        "56893.7742145 56893.7889874 "
       ]
      },
      {
       "output_type": "stream",
       "stream": "stdout",
       "text": [
        "56893.8041221 56894.7584364 "
       ]
      },
      {
       "output_type": "stream",
       "stream": "stdout",
       "text": [
        "56894.7732268 56894.7880043 "
       ]
      },
      {
       "output_type": "stream",
       "stream": "stdout",
       "text": [
        "\n",
        "Field03"
       ]
      },
      {
       "output_type": "stream",
       "stream": "stdout",
       "text": [
        "\n",
        "WL aligned"
       ]
      },
      {
       "output_type": "stream",
       "stream": "stdout",
       "text": [
        "\n",
        "WL aligned\n",
        "WL aligned\n",
        "WL aligned\n",
        "56889.7312269 "
       ]
      },
      {
       "output_type": "stream",
       "stream": "stdout",
       "text": [
        "56889.7409558 56889.7558863 "
       ]
      },
      {
       "output_type": "stream",
       "stream": "stdout",
       "text": [
        "56890.7344779 56890.7561996 "
       ]
      },
      {
       "output_type": "stream",
       "stream": "stdout",
       "text": [
        "56890.7779248 56891.7214011 "
       ]
      },
      {
       "output_type": "stream",
       "stream": "stdout",
       "text": [
        "56891.7361919 56891.7509697 "
       ]
      },
      {
       "output_type": "stream",
       "stream": "stdout",
       "text": [
        "56893.7742145 56893.7889874 "
       ]
      },
      {
       "output_type": "stream",
       "stream": "stdout",
       "text": [
        "56893.8041221 56894.7584364 "
       ]
      },
      {
       "output_type": "stream",
       "stream": "stdout",
       "text": [
        "56894.7732268 56894.7880043 "
       ]
      },
      {
       "output_type": "stream",
       "stream": "stdout",
       "text": [
        "\n",
        "56889.7312269 56889.7409558 "
       ]
      },
      {
       "output_type": "stream",
       "stream": "stdout",
       "text": [
        "56889.7558863 56890.7344779 "
       ]
      },
      {
       "output_type": "stream",
       "stream": "stdout",
       "text": [
        "56890.7561996 "
       ]
      },
      {
       "output_type": "stream",
       "stream": "stdout",
       "text": [
        "56890.7779248 "
       ]
      },
      {
       "output_type": "stream",
       "stream": "stdout",
       "text": [
        "56891.7214011 "
       ]
      },
      {
       "output_type": "stream",
       "stream": "stdout",
       "text": [
        "56891.7361919 56891.7509697 "
       ]
      },
      {
       "output_type": "stream",
       "stream": "stdout",
       "text": [
        "56893.7742145 56893.7889874 "
       ]
      },
      {
       "output_type": "stream",
       "stream": "stdout",
       "text": [
        "56893.8041221 56894.7584364 "
       ]
      },
      {
       "output_type": "stream",
       "stream": "stdout",
       "text": [
        "56894.7732268 56894.7880043 "
       ]
      },
      {
       "output_type": "stream",
       "stream": "stdout",
       "text": [
        "\n",
        "56889.7312269 "
       ]
      },
      {
       "output_type": "stream",
       "stream": "stdout",
       "text": [
        "56889.7409558 56889.7558863 "
       ]
      },
      {
       "output_type": "stream",
       "stream": "stdout",
       "text": [
        "56890.7344779 "
       ]
      },
      {
       "output_type": "stream",
       "stream": "stdout",
       "text": [
        "56890.7561996 56890.7779248 "
       ]
      },
      {
       "output_type": "stream",
       "stream": "stdout",
       "text": [
        "56891.7214011 56891.7361919 "
       ]
      },
      {
       "output_type": "stream",
       "stream": "stdout",
       "text": [
        "56891.7509697 "
       ]
      },
      {
       "output_type": "stream",
       "stream": "stdout",
       "text": [
        "56893.7742145 56893.7889874 "
       ]
      },
      {
       "output_type": "stream",
       "stream": "stdout",
       "text": [
        "56893.8041221 56894.7584364 "
       ]
      },
      {
       "output_type": "stream",
       "stream": "stdout",
       "text": [
        "56894.7732268 56894.7880043 "
       ]
      },
      {
       "output_type": "stream",
       "stream": "stdout",
       "text": [
        "\n",
        "56889.7312269 "
       ]
      },
      {
       "output_type": "stream",
       "stream": "stdout",
       "text": [
        "56889.7409558 56889.7558863 "
       ]
      },
      {
       "output_type": "stream",
       "stream": "stdout",
       "text": [
        "56890.7344779 "
       ]
      },
      {
       "output_type": "stream",
       "stream": "stdout",
       "text": [
        "56890.7561996 56890.7779248 "
       ]
      },
      {
       "output_type": "stream",
       "stream": "stdout",
       "text": [
        "56891.7214011 56891.7361919 "
       ]
      },
      {
       "output_type": "stream",
       "stream": "stdout",
       "text": [
        "56891.7509697 56893.7742145"
       ]
      },
      {
       "output_type": "stream",
       "stream": "stdout",
       "text": [
        " 56893.7889874 56893.8041221 "
       ]
      },
      {
       "output_type": "stream",
       "stream": "stdout",
       "text": [
        "56894.7584364 56894.7732268 "
       ]
      },
      {
       "output_type": "stream",
       "stream": "stdout",
       "text": [
        "56894.7880043 \n",
        "Giant27"
       ]
      },
      {
       "output_type": "stream",
       "stream": "stdout",
       "text": [
        "\n",
        "WL aligned"
       ]
      },
      {
       "output_type": "stream",
       "stream": "stdout",
       "text": [
        "\n",
        "WL aligned\n",
        "WL aligned\n",
        "WL aligned\n",
        "56889.7312269 "
       ]
      },
      {
       "output_type": "stream",
       "stream": "stdout",
       "text": [
        "56889.7409558 56889.7558863 "
       ]
      },
      {
       "output_type": "stream",
       "stream": "stdout",
       "text": [
        "56890.7344779 56890.7561996 "
       ]
      },
      {
       "output_type": "stream",
       "stream": "stdout",
       "text": [
        "56890.7779248 56891.7214011 "
       ]
      },
      {
       "output_type": "stream",
       "stream": "stdout",
       "text": [
        "56891.7361919 56891.7509697 "
       ]
      },
      {
       "output_type": "stream",
       "stream": "stdout",
       "text": [
        "56893.7742145 "
       ]
      },
      {
       "output_type": "stream",
       "stream": "stdout",
       "text": [
        "56893.7889874 "
       ]
      },
      {
       "output_type": "stream",
       "stream": "stdout",
       "text": [
        "56893.8041221 "
       ]
      },
      {
       "output_type": "stream",
       "stream": "stdout",
       "text": [
        "56894.7584364 "
       ]
      },
      {
       "output_type": "stream",
       "stream": "stdout",
       "text": [
        "56894.7732268 56894.7880043 "
       ]
      },
      {
       "output_type": "stream",
       "stream": "stdout",
       "text": [
        "\n",
        "56889.7312269 "
       ]
      },
      {
       "output_type": "stream",
       "stream": "stdout",
       "text": [
        "56889.7409558 "
       ]
      },
      {
       "output_type": "stream",
       "stream": "stdout",
       "text": [
        "56889.7558863 56890.7344779 "
       ]
      },
      {
       "output_type": "stream",
       "stream": "stdout",
       "text": [
        "56890.7561996 56890.7779248 "
       ]
      },
      {
       "output_type": "stream",
       "stream": "stdout",
       "text": [
        "56891.7214011 56891.7361919 "
       ]
      },
      {
       "output_type": "stream",
       "stream": "stdout",
       "text": [
        "56891.7509697 56893.7742145 "
       ]
      },
      {
       "output_type": "stream",
       "stream": "stdout",
       "text": [
        "56893.7889874 56893.8041221 "
       ]
      },
      {
       "output_type": "stream",
       "stream": "stdout",
       "text": [
        "56894.7584364 56894.7732268 "
       ]
      },
      {
       "output_type": "stream",
       "stream": "stdout",
       "text": [
        "56894.7880043 "
       ]
      },
      {
       "output_type": "stream",
       "stream": "stdout",
       "text": [
        "\n",
        "56889.7312269 "
       ]
      },
      {
       "output_type": "stream",
       "stream": "stdout",
       "text": [
        "56889.7409558 56889.7558863 "
       ]
      },
      {
       "output_type": "stream",
       "stream": "stdout",
       "text": [
        "56890.7344779 56890.7561996 "
       ]
      },
      {
       "output_type": "stream",
       "stream": "stdout",
       "text": [
        "56890.7779248 56891.7214011 "
       ]
      },
      {
       "output_type": "stream",
       "stream": "stdout",
       "text": [
        "56891.7361919 56891.7509697 "
       ]
      },
      {
       "output_type": "stream",
       "stream": "stdout",
       "text": [
        "56893.7742145 56893.7889874 "
       ]
      },
      {
       "output_type": "stream",
       "stream": "stdout",
       "text": [
        "56893.8041221 56894.7584364 "
       ]
      },
      {
       "output_type": "stream",
       "stream": "stdout",
       "text": [
        "56894.7732268 56894.7880043 "
       ]
      },
      {
       "output_type": "stream",
       "stream": "stdout",
       "text": [
        "\n",
        "56889.7312269 "
       ]
      },
      {
       "output_type": "stream",
       "stream": "stdout",
       "text": [
        "56889.7409558 56889.7558863 "
       ]
      },
      {
       "output_type": "stream",
       "stream": "stdout",
       "text": [
        "56890.7344779 56890.7561996 "
       ]
      },
      {
       "output_type": "stream",
       "stream": "stdout",
       "text": [
        "56890.7779248 56891.7214011 "
       ]
      },
      {
       "output_type": "stream",
       "stream": "stdout",
       "text": [
        "56891.7361919 56891.7509697 "
       ]
      },
      {
       "output_type": "stream",
       "stream": "stdout",
       "text": [
        "56893.7742145 56893.7889874 "
       ]
      },
      {
       "output_type": "stream",
       "stream": "stdout",
       "text": [
        "56893.8041221 56894.7584364 "
       ]
      },
      {
       "output_type": "stream",
       "stream": "stdout",
       "text": [
        "56894.7732268 56894.7880043 "
       ]
      },
      {
       "output_type": "stream",
       "stream": "stdout",
       "text": [
        "\n",
        "Field23"
       ]
      },
      {
       "output_type": "stream",
       "stream": "stdout",
       "text": [
        "\n",
        "WL aligned"
       ]
      },
      {
       "output_type": "stream",
       "stream": "stdout",
       "text": [
        "\n",
        "WL aligned\n",
        "WL aligned\n",
        "WL aligned\n",
        "56889.7312269 "
       ]
      },
      {
       "output_type": "stream",
       "stream": "stdout",
       "text": [
        "56889.7409558 56889.7558863 "
       ]
      },
      {
       "output_type": "stream",
       "stream": "stdout",
       "text": [
        "56890.7344779 56890.7561996 "
       ]
      },
      {
       "output_type": "stream",
       "stream": "stdout",
       "text": [
        "56890.7779248 "
       ]
      },
      {
       "output_type": "stream",
       "stream": "stdout",
       "text": [
        "56891.7214011 "
       ]
      },
      {
       "output_type": "stream",
       "stream": "stdout",
       "text": [
        "56891.7361919 56891.7509697 "
       ]
      },
      {
       "output_type": "stream",
       "stream": "stdout",
       "text": [
        "56893.7742145 "
       ]
      },
      {
       "output_type": "stream",
       "stream": "stdout",
       "text": [
        "56893.7889874 56893.8041221 "
       ]
      },
      {
       "output_type": "stream",
       "stream": "stdout",
       "text": [
        "56894.7584364 "
       ]
      },
      {
       "output_type": "stream",
       "stream": "stdout",
       "text": [
        "56894.7732268 56894.7880043 "
       ]
      },
      {
       "output_type": "stream",
       "stream": "stdout",
       "text": [
        "\n",
        "56889.7312269 "
       ]
      },
      {
       "output_type": "stream",
       "stream": "stdout",
       "text": [
        "56889.7409558 56889.7558863 "
       ]
      },
      {
       "output_type": "stream",
       "stream": "stdout",
       "text": [
        "56890.7344779 56890.7561996 "
       ]
      },
      {
       "output_type": "stream",
       "stream": "stdout",
       "text": [
        "56890.7779248 56891.7214011 "
       ]
      },
      {
       "output_type": "stream",
       "stream": "stdout",
       "text": [
        "56891.7361919 "
       ]
      },
      {
       "output_type": "stream",
       "stream": "stdout",
       "text": [
        "56891.7509697 56893.7742145 "
       ]
      },
      {
       "output_type": "stream",
       "stream": "stdout",
       "text": [
        "56893.7889874 56893.8041221 "
       ]
      },
      {
       "output_type": "stream",
       "stream": "stdout",
       "text": [
        "56894.7584364 56894.7732268 "
       ]
      },
      {
       "output_type": "stream",
       "stream": "stdout",
       "text": [
        "56894.7880043 \n",
        "56889.7312269 "
       ]
      },
      {
       "output_type": "stream",
       "stream": "stdout",
       "text": [
        "56889.7409558 56889.7558863 "
       ]
      },
      {
       "output_type": "stream",
       "stream": "stdout",
       "text": [
        "56890.7344779 56890.7561996 "
       ]
      },
      {
       "output_type": "stream",
       "stream": "stdout",
       "text": [
        "56890.7779248 56891.7214011 "
       ]
      },
      {
       "output_type": "stream",
       "stream": "stdout",
       "text": [
        "56891.7361919 56891.7509697 "
       ]
      },
      {
       "output_type": "stream",
       "stream": "stdout",
       "text": [
        "56893.7742145 56893.7889874 "
       ]
      },
      {
       "output_type": "stream",
       "stream": "stdout",
       "text": [
        "56893.8041221 56894.7584364 "
       ]
      },
      {
       "output_type": "stream",
       "stream": "stdout",
       "text": [
        "56894.7732268 56894.7880043 "
       ]
      },
      {
       "output_type": "stream",
       "stream": "stdout",
       "text": [
        "\n",
        "56889.7312269 "
       ]
      },
      {
       "output_type": "stream",
       "stream": "stdout",
       "text": [
        "56889.7409558 56889.7558863 "
       ]
      },
      {
       "output_type": "stream",
       "stream": "stdout",
       "text": [
        "56890.7344779 "
       ]
      },
      {
       "output_type": "stream",
       "stream": "stdout",
       "text": [
        "56890.7561996 "
       ]
      },
      {
       "output_type": "stream",
       "stream": "stdout",
       "text": [
        "56890.7779248 "
       ]
      },
      {
       "output_type": "stream",
       "stream": "stdout",
       "text": [
        "56891.7214011 56891.7361919 "
       ]
      },
      {
       "output_type": "stream",
       "stream": "stdout",
       "text": [
        "56891.7509697 56893.7742145 "
       ]
      },
      {
       "output_type": "stream",
       "stream": "stdout",
       "text": [
        "56893.7889874 "
       ]
      },
      {
       "output_type": "stream",
       "stream": "stdout",
       "text": [
        "56893.8041221 56894.7584364 "
       ]
      },
      {
       "output_type": "stream",
       "stream": "stdout",
       "text": [
        "56894.7732268 56894.7880043 "
       ]
      },
      {
       "output_type": "stream",
       "stream": "stdout",
       "text": [
        "\n",
        "Field21"
       ]
      },
      {
       "output_type": "stream",
       "stream": "stdout",
       "text": [
        "\n",
        "WL aligned"
       ]
      },
      {
       "output_type": "stream",
       "stream": "stdout",
       "text": [
        "\n",
        "WL aligned\n",
        "WL aligned\n",
        "WL aligned\n",
        "56889.7312269 "
       ]
      },
      {
       "output_type": "stream",
       "stream": "stdout",
       "text": [
        "56889.7409558 56889.7558863 "
       ]
      },
      {
       "output_type": "stream",
       "stream": "stdout",
       "text": [
        "56890.7344779 56890.7561996 "
       ]
      },
      {
       "output_type": "stream",
       "stream": "stdout",
       "text": [
        "56890.7779248 "
       ]
      },
      {
       "output_type": "stream",
       "stream": "stdout",
       "text": [
        "56891.7214011 "
       ]
      },
      {
       "output_type": "stream",
       "stream": "stdout",
       "text": [
        "56891.7361919 "
       ]
      },
      {
       "output_type": "stream",
       "stream": "stdout",
       "text": [
        "56891.7509697 "
       ]
      },
      {
       "output_type": "stream",
       "stream": "stdout",
       "text": [
        "56893.7742145 56893.7889874 "
       ]
      },
      {
       "output_type": "stream",
       "stream": "stdout",
       "text": [
        "56893.8041221 56894.7584364 "
       ]
      },
      {
       "output_type": "stream",
       "stream": "stdout",
       "text": [
        "56894.7732268 56894.7880043 "
       ]
      },
      {
       "output_type": "stream",
       "stream": "stdout",
       "text": [
        "\n",
        "56889.7312269 56889.7409558 "
       ]
      },
      {
       "output_type": "stream",
       "stream": "stdout",
       "text": [
        "56889.7558863 56890.7344779 "
       ]
      },
      {
       "output_type": "stream",
       "stream": "stdout",
       "text": [
        "56890.7561996 56890.7779248 "
       ]
      },
      {
       "output_type": "stream",
       "stream": "stdout",
       "text": [
        "56891.7214011 56891.7361919 "
       ]
      },
      {
       "output_type": "stream",
       "stream": "stdout",
       "text": [
        "56891.7509697 56893.7742145 "
       ]
      },
      {
       "output_type": "stream",
       "stream": "stdout",
       "text": [
        "56893.7889874 56893.8041221 "
       ]
      },
      {
       "output_type": "stream",
       "stream": "stdout",
       "text": [
        "56894.7584364 "
       ]
      },
      {
       "output_type": "stream",
       "stream": "stdout",
       "text": [
        "56894.7732268 56894.7880043 "
       ]
      },
      {
       "output_type": "stream",
       "stream": "stdout",
       "text": [
        "\n",
        "56889.7312269 "
       ]
      },
      {
       "output_type": "stream",
       "stream": "stdout",
       "text": [
        "56889.7409558 56889.7558863 "
       ]
      },
      {
       "output_type": "stream",
       "stream": "stdout",
       "text": [
        "56890.7344779 "
       ]
      },
      {
       "output_type": "stream",
       "stream": "stdout",
       "text": [
        "56890.7561996 56890.7779248 "
       ]
      },
      {
       "output_type": "stream",
       "stream": "stdout",
       "text": [
        "56891.7214011 56891.7361919 "
       ]
      },
      {
       "output_type": "stream",
       "stream": "stdout",
       "text": [
        "56891.7509697 56893.7742145 "
       ]
      },
      {
       "output_type": "stream",
       "stream": "stdout",
       "text": [
        "56893.7889874 56893.8041221 "
       ]
      },
      {
       "output_type": "stream",
       "stream": "stdout",
       "text": [
        "56894.7584364 "
       ]
      },
      {
       "output_type": "stream",
       "stream": "stdout",
       "text": [
        "56894.7732268 56894.7880043 "
       ]
      },
      {
       "output_type": "stream",
       "stream": "stdout",
       "text": [
        "\n",
        "56889.7312269 "
       ]
      },
      {
       "output_type": "stream",
       "stream": "stdout",
       "text": [
        "56889.7409558 "
       ]
      },
      {
       "output_type": "stream",
       "stream": "stdout",
       "text": [
        "56889.7558863 56890.7344779 "
       ]
      },
      {
       "output_type": "stream",
       "stream": "stdout",
       "text": [
        "56890.7561996 56890.7779248 "
       ]
      },
      {
       "output_type": "stream",
       "stream": "stdout",
       "text": [
        "56891.7214011 "
       ]
      },
      {
       "output_type": "stream",
       "stream": "stdout",
       "text": [
        "56891.7361919 "
       ]
      },
      {
       "output_type": "stream",
       "stream": "stdout",
       "text": [
        "56891.7509697 "
       ]
      },
      {
       "output_type": "stream",
       "stream": "stdout",
       "text": [
        "56893.7742145 56893.7889874 "
       ]
      },
      {
       "output_type": "stream",
       "stream": "stdout",
       "text": [
        "56893.8041221 56894.7584364 "
       ]
      },
      {
       "output_type": "stream",
       "stream": "stdout",
       "text": [
        "56894.7732268 56894.7880043 "
       ]
      },
      {
       "output_type": "stream",
       "stream": "stdout",
       "text": [
        "\n",
        "Field40"
       ]
      },
      {
       "output_type": "stream",
       "stream": "stdout",
       "text": [
        "\n",
        "WL aligned"
       ]
      },
      {
       "output_type": "stream",
       "stream": "stdout",
       "text": [
        "\n",
        "WL aligned\n",
        "WL aligned\n",
        "WL aligned\n",
        "56889.7312269 "
       ]
      },
      {
       "output_type": "stream",
       "stream": "stdout",
       "text": [
        "56889.7409558 56889.7558863 "
       ]
      },
      {
       "output_type": "stream",
       "stream": "stdout",
       "text": [
        "56890.7344779 "
       ]
      },
      {
       "output_type": "stream",
       "stream": "stdout",
       "text": [
        "56890.7561996 56890.7779248 "
       ]
      },
      {
       "output_type": "stream",
       "stream": "stdout",
       "text": [
        "56891.7214011 56891.7361919 "
       ]
      },
      {
       "output_type": "stream",
       "stream": "stdout",
       "text": [
        "56891.7509697 56893.7742145 "
       ]
      },
      {
       "output_type": "stream",
       "stream": "stdout",
       "text": [
        "56893.7889874 56893.8041221 "
       ]
      },
      {
       "output_type": "stream",
       "stream": "stdout",
       "text": [
        "56894.7584364 56894.7732268 "
       ]
      },
      {
       "output_type": "stream",
       "stream": "stdout",
       "text": [
        "56894.7880043 \n",
        "56889.7312269"
       ]
      },
      {
       "output_type": "stream",
       "stream": "stdout",
       "text": [
        " 56889.7409558 56889.7558863 "
       ]
      },
      {
       "output_type": "stream",
       "stream": "stdout",
       "text": [
        "56890.7344779 56890.7561996 "
       ]
      },
      {
       "output_type": "stream",
       "stream": "stdout",
       "text": [
        "56890.7779248 "
       ]
      },
      {
       "output_type": "stream",
       "stream": "stdout",
       "text": [
        "56891.7214011 56891.7361919 "
       ]
      },
      {
       "output_type": "stream",
       "stream": "stdout",
       "text": [
        "56891.7509697 56893.7742145 "
       ]
      },
      {
       "output_type": "stream",
       "stream": "stdout",
       "text": [
        "56893.7889874 56893.8041221 "
       ]
      },
      {
       "output_type": "stream",
       "stream": "stdout",
       "text": [
        "56894.7584364 56894.7732268 "
       ]
      },
      {
       "output_type": "stream",
       "stream": "stdout",
       "text": [
        "56894.7880043 "
       ]
      },
      {
       "output_type": "stream",
       "stream": "stdout",
       "text": [
        "\n",
        "56889.7312269 "
       ]
      },
      {
       "output_type": "stream",
       "stream": "stdout",
       "text": [
        "56889.7409558 "
       ]
      },
      {
       "output_type": "stream",
       "stream": "stdout",
       "text": [
        "56889.7558863 "
       ]
      },
      {
       "output_type": "stream",
       "stream": "stdout",
       "text": [
        "56890.7344779 "
       ]
      },
      {
       "output_type": "stream",
       "stream": "stdout",
       "text": [
        "56890.7561996 56890.7779248 "
       ]
      },
      {
       "output_type": "stream",
       "stream": "stdout",
       "text": [
        "56891.7214011 56891.7361919 "
       ]
      },
      {
       "output_type": "stream",
       "stream": "stdout",
       "text": [
        "56891.7509697 "
       ]
      },
      {
       "output_type": "stream",
       "stream": "stdout",
       "text": [
        "56893.7742145 "
       ]
      },
      {
       "output_type": "stream",
       "stream": "stdout",
       "text": [
        "56893.7889874 "
       ]
      },
      {
       "output_type": "stream",
       "stream": "stdout",
       "text": [
        "56893.8041221 "
       ]
      },
      {
       "output_type": "stream",
       "stream": "stdout",
       "text": [
        "56894.7584364 56894.7732268 "
       ]
      },
      {
       "output_type": "stream",
       "stream": "stdout",
       "text": [
        "56894.7880043 "
       ]
      },
      {
       "output_type": "stream",
       "stream": "stdout",
       "text": [
        "\n",
        "56889.7312269 "
       ]
      },
      {
       "output_type": "stream",
       "stream": "stdout",
       "text": [
        "56889.7409558 56889.7558863 "
       ]
      },
      {
       "output_type": "stream",
       "stream": "stdout",
       "text": [
        "56890.7344779 56890.7561996 "
       ]
      },
      {
       "output_type": "stream",
       "stream": "stdout",
       "text": [
        "56890.7779248 56891.7214011 "
       ]
      },
      {
       "output_type": "stream",
       "stream": "stdout",
       "text": [
        "56891.7361919 56891.7509697 "
       ]
      },
      {
       "output_type": "stream",
       "stream": "stdout",
       "text": [
        "56893.7742145 "
       ]
      },
      {
       "output_type": "stream",
       "stream": "stdout",
       "text": [
        "56893.7889874 56893.8041221 "
       ]
      },
      {
       "output_type": "stream",
       "stream": "stdout",
       "text": [
        "56894.7584364 56894.7732268 "
       ]
      },
      {
       "output_type": "stream",
       "stream": "stdout",
       "text": [
        "56894.7880043 \n",
        "Field25"
       ]
      },
      {
       "output_type": "stream",
       "stream": "stdout",
       "text": [
        "\n",
        "WL aligned"
       ]
      },
      {
       "output_type": "stream",
       "stream": "stdout",
       "text": [
        "\n",
        "WL aligned\n",
        "WL aligned\n",
        "WL aligned\n",
        "56889.7312269 "
       ]
      },
      {
       "output_type": "stream",
       "stream": "stdout",
       "text": [
        "56889.7409558 56889.7558863 "
       ]
      },
      {
       "output_type": "stream",
       "stream": "stdout",
       "text": [
        "56890.7344779 "
       ]
      },
      {
       "output_type": "stream",
       "stream": "stdout",
       "text": [
        "56890.7561996 56890.7779248 "
       ]
      },
      {
       "output_type": "stream",
       "stream": "stdout",
       "text": [
        "56891.7214011 "
       ]
      },
      {
       "output_type": "stream",
       "stream": "stdout",
       "text": [
        "56891.7361919 "
       ]
      },
      {
       "output_type": "stream",
       "stream": "stdout",
       "text": [
        "56891.7509697 "
       ]
      },
      {
       "output_type": "stream",
       "stream": "stdout",
       "text": [
        "56893.7742145 "
       ]
      },
      {
       "output_type": "stream",
       "stream": "stdout",
       "text": [
        "56893.7889874 56893.8041221 "
       ]
      },
      {
       "output_type": "stream",
       "stream": "stdout",
       "text": [
        "56894.7584364 56894.7732268 "
       ]
      },
      {
       "output_type": "stream",
       "stream": "stdout",
       "text": [
        "56894.7880043 \n",
        "56889.7312269"
       ]
      },
      {
       "output_type": "stream",
       "stream": "stdout",
       "text": [
        " 56889.7409558 56889.7558863 "
       ]
      },
      {
       "output_type": "stream",
       "stream": "stdout",
       "text": [
        "56890.7344779 56890.7561996 "
       ]
      },
      {
       "output_type": "stream",
       "stream": "stdout",
       "text": [
        "56890.7779248 56891.7214011 "
       ]
      },
      {
       "output_type": "stream",
       "stream": "stdout",
       "text": [
        "56891.7361919 "
       ]
      },
      {
       "output_type": "stream",
       "stream": "stdout",
       "text": [
        "56891.7509697 56893.7742145 "
       ]
      },
      {
       "output_type": "stream",
       "stream": "stdout",
       "text": [
        "56893.7889874 56893.8041221 "
       ]
      },
      {
       "output_type": "stream",
       "stream": "stdout",
       "text": [
        "56894.7584364 "
       ]
      },
      {
       "output_type": "stream",
       "stream": "stdout",
       "text": [
        "56894.7732268 56894.7880043 "
       ]
      },
      {
       "output_type": "stream",
       "stream": "stdout",
       "text": [
        "\n",
        "56889.7312269 "
       ]
      },
      {
       "output_type": "stream",
       "stream": "stdout",
       "text": [
        "56889.7409558 56889.7558863 "
       ]
      },
      {
       "output_type": "stream",
       "stream": "stdout",
       "text": [
        "56890.7344779 56890.7561996 "
       ]
      },
      {
       "output_type": "stream",
       "stream": "stdout",
       "text": [
        "56890.7779248 56891.7214011 "
       ]
      },
      {
       "output_type": "stream",
       "stream": "stdout",
       "text": [
        "56891.7361919 56891.7509697 "
       ]
      },
      {
       "output_type": "stream",
       "stream": "stdout",
       "text": [
        "56893.7742145 56893.7889874 "
       ]
      },
      {
       "output_type": "stream",
       "stream": "stdout",
       "text": [
        "56893.8041221 56894.7584364 "
       ]
      },
      {
       "output_type": "stream",
       "stream": "stdout",
       "text": [
        "56894.7732268 56894.7880043 "
       ]
      },
      {
       "output_type": "stream",
       "stream": "stdout",
       "text": [
        "\n",
        "56889.7312269 "
       ]
      },
      {
       "output_type": "stream",
       "stream": "stdout",
       "text": [
        "56889.7409558 "
       ]
      },
      {
       "output_type": "stream",
       "stream": "stdout",
       "text": [
        "56889.7558863 56890.7344779 "
       ]
      },
      {
       "output_type": "stream",
       "stream": "stdout",
       "text": [
        "56890.7561996 56890.7779248 "
       ]
      },
      {
       "output_type": "stream",
       "stream": "stdout",
       "text": [
        "56891.7214011 56891.7361919 "
       ]
      },
      {
       "output_type": "stream",
       "stream": "stdout",
       "text": [
        "56891.7509697 "
       ]
      },
      {
       "output_type": "stream",
       "stream": "stdout",
       "text": [
        "56893.7742145 56893.7889874 "
       ]
      },
      {
       "output_type": "stream",
       "stream": "stdout",
       "text": [
        "56893.8041221 56894.7584364 "
       ]
      },
      {
       "output_type": "stream",
       "stream": "stdout",
       "text": [
        "56894.7732268 56894.7880043 "
       ]
      },
      {
       "output_type": "stream",
       "stream": "stdout",
       "text": [
        "\n",
        "Giant25"
       ]
      },
      {
       "output_type": "stream",
       "stream": "stdout",
       "text": [
        "\n",
        "WL aligned"
       ]
      },
      {
       "output_type": "stream",
       "stream": "stdout",
       "text": [
        "\n",
        "WL aligned\n",
        "WL aligned\n",
        "WL aligned\n",
        "56889.7312269 "
       ]
      },
      {
       "output_type": "stream",
       "stream": "stdout",
       "text": [
        "56889.7409558 56889.7558863 "
       ]
      },
      {
       "output_type": "stream",
       "stream": "stdout",
       "text": [
        "56890.7344779 56890.7561996 "
       ]
      },
      {
       "output_type": "stream",
       "stream": "stdout",
       "text": [
        "56890.7779248 "
       ]
      },
      {
       "output_type": "stream",
       "stream": "stdout",
       "text": [
        "56891.7214011 "
       ]
      },
      {
       "output_type": "stream",
       "stream": "stdout",
       "text": [
        "56891.7361919 "
       ]
      },
      {
       "output_type": "stream",
       "stream": "stdout",
       "text": [
        "56891.7509697 "
       ]
      },
      {
       "output_type": "stream",
       "stream": "stdout",
       "text": [
        "56893.7742145 "
       ]
      },
      {
       "output_type": "stream",
       "stream": "stdout",
       "text": [
        "56893.7889874 "
       ]
      },
      {
       "output_type": "stream",
       "stream": "stdout",
       "text": [
        "56893.8041221 56894.7584364 "
       ]
      },
      {
       "output_type": "stream",
       "stream": "stdout",
       "text": [
        "56894.7732268 56894.7880043 "
       ]
      },
      {
       "output_type": "stream",
       "stream": "stdout",
       "text": [
        "\n",
        "56889.7312269 "
       ]
      },
      {
       "output_type": "stream",
       "stream": "stdout",
       "text": [
        "56889.7409558 56889.7558863 "
       ]
      },
      {
       "output_type": "stream",
       "stream": "stdout",
       "text": [
        "56890.7344779 56890.7561996 "
       ]
      },
      {
       "output_type": "stream",
       "stream": "stdout",
       "text": [
        "56890.7779248 56891.7214011 "
       ]
      },
      {
       "output_type": "stream",
       "stream": "stdout",
       "text": [
        "56891.7361919 56891.7509697 "
       ]
      },
      {
       "output_type": "stream",
       "stream": "stdout",
       "text": [
        "56893.7742145 56893.7889874 "
       ]
      },
      {
       "output_type": "stream",
       "stream": "stdout",
       "text": [
        "56893.8041221 "
       ]
      },
      {
       "output_type": "stream",
       "stream": "stdout",
       "text": [
        "56894.7584364 56894.7732268 "
       ]
      },
      {
       "output_type": "stream",
       "stream": "stdout",
       "text": [
        "56894.7880043 \n",
        "56889.7312269"
       ]
      },
      {
       "output_type": "stream",
       "stream": "stdout",
       "text": [
        " 56889.7409558 56889.7558863 "
       ]
      },
      {
       "output_type": "stream",
       "stream": "stdout",
       "text": [
        "56890.7344779 "
       ]
      },
      {
       "output_type": "stream",
       "stream": "stdout",
       "text": [
        "56890.7561996 "
       ]
      },
      {
       "output_type": "stream",
       "stream": "stdout",
       "text": [
        "56890.7779248 56891.7214011 "
       ]
      },
      {
       "output_type": "stream",
       "stream": "stdout",
       "text": [
        "56891.7361919 56891.7509697 "
       ]
      },
      {
       "output_type": "stream",
       "stream": "stdout",
       "text": [
        "56893.7742145 56893.7889874 "
       ]
      },
      {
       "output_type": "stream",
       "stream": "stdout",
       "text": [
        "56893.8041221 56894.7584364 "
       ]
      },
      {
       "output_type": "stream",
       "stream": "stdout",
       "text": [
        "56894.7732268 56894.7880043 "
       ]
      },
      {
       "output_type": "stream",
       "stream": "stdout",
       "text": [
        "\n",
        "56889.7312269 "
       ]
      },
      {
       "output_type": "stream",
       "stream": "stdout",
       "text": [
        "56889.7409558 56889.7558863 "
       ]
      },
      {
       "output_type": "stream",
       "stream": "stdout",
       "text": [
        "56890.7344779 56890.7561996 "
       ]
      },
      {
       "output_type": "stream",
       "stream": "stdout",
       "text": [
        "56890.7779248 56891.7214011 "
       ]
      },
      {
       "output_type": "stream",
       "stream": "stdout",
       "text": [
        "56891.7361919 56891.7509697 "
       ]
      },
      {
       "output_type": "stream",
       "stream": "stdout",
       "text": [
        "56893.7742145 56893.7889874 "
       ]
      },
      {
       "output_type": "stream",
       "stream": "stdout",
       "text": [
        "56893.8041221 56894.7584364 "
       ]
      },
      {
       "output_type": "stream",
       "stream": "stdout",
       "text": [
        "56894.7732268 "
       ]
      },
      {
       "output_type": "stream",
       "stream": "stdout",
       "text": [
        "56894.7880043 \n",
        "Giant30"
       ]
      },
      {
       "output_type": "stream",
       "stream": "stdout",
       "text": [
        "\n",
        "WL aligned"
       ]
      },
      {
       "output_type": "stream",
       "stream": "stdout",
       "text": [
        "\n",
        "WL aligned\n",
        "WL aligned\n",
        "WL aligned\n",
        "56889.7312269 CC failed (probably NaNs)\n",
        "Giant37\n",
        "WL aligned"
       ]
      },
      {
       "output_type": "stream",
       "stream": "stdout",
       "text": [
        "\n",
        "WL aligned\n",
        "WL aligned\n",
        "WL aligned\n",
        "56889.7312269 "
       ]
      },
      {
       "output_type": "stream",
       "stream": "stdout",
       "text": [
        "56889.7409558 "
       ]
      },
      {
       "output_type": "stream",
       "stream": "stdout",
       "text": [
        "56889.7558863 "
       ]
      },
      {
       "output_type": "stream",
       "stream": "stdout",
       "text": [
        "56890.7344779 "
       ]
      },
      {
       "output_type": "stream",
       "stream": "stdout",
       "text": [
        "56890.7561996 "
       ]
      },
      {
       "output_type": "stream",
       "stream": "stdout",
       "text": [
        "56890.7779248 "
       ]
      },
      {
       "output_type": "stream",
       "stream": "stdout",
       "text": [
        "56891.7214011 56891.7361919 "
       ]
      },
      {
       "output_type": "stream",
       "stream": "stdout",
       "text": [
        "56891.7509697 56893.7742145 "
       ]
      },
      {
       "output_type": "stream",
       "stream": "stdout",
       "text": [
        "56893.7889874 56893.8041221 "
       ]
      },
      {
       "output_type": "stream",
       "stream": "stdout",
       "text": [
        "56894.7584364 56894.7732268 "
       ]
      },
      {
       "output_type": "stream",
       "stream": "stdout",
       "text": [
        "56894.7880043 "
       ]
      },
      {
       "output_type": "stream",
       "stream": "stdout",
       "text": [
        "\n",
        "56889.7312269 "
       ]
      },
      {
       "output_type": "stream",
       "stream": "stdout",
       "text": [
        "56889.7409558 56889.7558863 "
       ]
      },
      {
       "output_type": "stream",
       "stream": "stdout",
       "text": [
        "56890.7344779 "
       ]
      },
      {
       "output_type": "stream",
       "stream": "stdout",
       "text": [
        "56890.7561996 "
       ]
      },
      {
       "output_type": "stream",
       "stream": "stdout",
       "text": [
        "56890.7779248 "
       ]
      },
      {
       "output_type": "stream",
       "stream": "stdout",
       "text": [
        "56891.7214011 56891.7361919 "
       ]
      },
      {
       "output_type": "stream",
       "stream": "stdout",
       "text": [
        "56891.7509697 56893.7742145 "
       ]
      },
      {
       "output_type": "stream",
       "stream": "stdout",
       "text": [
        "56893.7889874 56893.8041221 "
       ]
      },
      {
       "output_type": "stream",
       "stream": "stdout",
       "text": [
        "56894.7584364 56894.7732268 "
       ]
      },
      {
       "output_type": "stream",
       "stream": "stdout",
       "text": [
        "56894.7880043 \n",
        "56889.7312269"
       ]
      },
      {
       "output_type": "stream",
       "stream": "stdout",
       "text": [
        " 56889.7409558 56889.7558863 "
       ]
      },
      {
       "output_type": "stream",
       "stream": "stdout",
       "text": [
        "56890.7344779 56890.7561996 "
       ]
      },
      {
       "output_type": "stream",
       "stream": "stdout",
       "text": [
        "56890.7779248 56891.7214011 "
       ]
      },
      {
       "output_type": "stream",
       "stream": "stdout",
       "text": [
        "56891.7361919 "
       ]
      },
      {
       "output_type": "stream",
       "stream": "stdout",
       "text": [
        "56891.7509697 56893.7742145 "
       ]
      },
      {
       "output_type": "stream",
       "stream": "stdout",
       "text": [
        "56893.7889874 56893.8041221 "
       ]
      },
      {
       "output_type": "stream",
       "stream": "stdout",
       "text": [
        "56894.7584364 "
       ]
      },
      {
       "output_type": "stream",
       "stream": "stdout",
       "text": [
        "56894.7732268 56894.7880043 "
       ]
      },
      {
       "output_type": "stream",
       "stream": "stdout",
       "text": [
        "\n",
        "56889.7312269 "
       ]
      },
      {
       "output_type": "stream",
       "stream": "stdout",
       "text": [
        "56889.7409558 56889.7558863 "
       ]
      },
      {
       "output_type": "stream",
       "stream": "stdout",
       "text": [
        "56890.7344779 "
       ]
      },
      {
       "output_type": "stream",
       "stream": "stdout",
       "text": [
        "56890.7561996 56890.7779248 "
       ]
      },
      {
       "output_type": "stream",
       "stream": "stdout",
       "text": [
        "56891.7214011 "
       ]
      },
      {
       "output_type": "stream",
       "stream": "stdout",
       "text": [
        "56891.7361919 56891.7509697 "
       ]
      },
      {
       "output_type": "stream",
       "stream": "stdout",
       "text": [
        "56893.7742145 "
       ]
      },
      {
       "output_type": "stream",
       "stream": "stdout",
       "text": [
        "56893.7889874 "
       ]
      },
      {
       "output_type": "stream",
       "stream": "stdout",
       "text": [
        "56893.8041221 56894.7584364 "
       ]
      },
      {
       "output_type": "stream",
       "stream": "stdout",
       "text": [
        "56894.7732268 56894.7880043 "
       ]
      },
      {
       "output_type": "stream",
       "stream": "stdout",
       "text": [
        "\n",
        "Giant14"
       ]
      },
      {
       "output_type": "stream",
       "stream": "stdout",
       "text": [
        "\n",
        "WL aligned"
       ]
      },
      {
       "output_type": "stream",
       "stream": "stdout",
       "text": [
        "\n",
        "WL aligned\n",
        "WL aligned\n",
        "WL aligned\n",
        "56889.7312269 56889.7409558 "
       ]
      },
      {
       "output_type": "stream",
       "stream": "stdout",
       "text": [
        "56889.7558863 56890.7344779"
       ]
      },
      {
       "output_type": "stream",
       "stream": "stdout",
       "text": [
        " 56890.7561996 "
       ]
      },
      {
       "output_type": "stream",
       "stream": "stdout",
       "text": [
        "56890.7779248 "
       ]
      },
      {
       "output_type": "stream",
       "stream": "stdout",
       "text": [
        "56891.7214011 "
       ]
      },
      {
       "output_type": "stream",
       "stream": "stdout",
       "text": [
        "56891.7361919 "
       ]
      },
      {
       "output_type": "stream",
       "stream": "stdout",
       "text": [
        "56891.7509697 "
       ]
      },
      {
       "output_type": "stream",
       "stream": "stdout",
       "text": [
        "56893.7742145 "
       ]
      },
      {
       "output_type": "stream",
       "stream": "stdout",
       "text": [
        "56893.7889874 "
       ]
      },
      {
       "output_type": "stream",
       "stream": "stdout",
       "text": [
        "56893.8041221 "
       ]
      },
      {
       "output_type": "stream",
       "stream": "stdout",
       "text": [
        "56894.7584364 56894.7732268 "
       ]
      },
      {
       "output_type": "stream",
       "stream": "stdout",
       "text": [
        "56894.7880043 \n",
        "56889.7312269"
       ]
      },
      {
       "output_type": "stream",
       "stream": "stdout",
       "text": [
        " 56889.7409558 56889.7558863 "
       ]
      },
      {
       "output_type": "stream",
       "stream": "stdout",
       "text": [
        "56890.7344779 "
       ]
      },
      {
       "output_type": "stream",
       "stream": "stdout",
       "text": [
        "56890.7561996 56890.7779248 "
       ]
      },
      {
       "output_type": "stream",
       "stream": "stdout",
       "text": [
        "56891.7214011 "
       ]
      },
      {
       "output_type": "stream",
       "stream": "stdout",
       "text": [
        "56891.7361919 56891.7509697 "
       ]
      },
      {
       "output_type": "stream",
       "stream": "stdout",
       "text": [
        "56893.7742145 "
       ]
      },
      {
       "output_type": "stream",
       "stream": "stdout",
       "text": [
        "56893.7889874 56893.8041221 "
       ]
      },
      {
       "output_type": "stream",
       "stream": "stdout",
       "text": [
        "56894.7584364 "
       ]
      },
      {
       "output_type": "stream",
       "stream": "stdout",
       "text": [
        "56894.7732268 "
       ]
      },
      {
       "output_type": "stream",
       "stream": "stdout",
       "text": [
        "56894.7880043 "
       ]
      },
      {
       "output_type": "stream",
       "stream": "stdout",
       "text": [
        "\n",
        "56889.7312269 "
       ]
      },
      {
       "output_type": "stream",
       "stream": "stdout",
       "text": [
        "56889.7409558 "
       ]
      },
      {
       "output_type": "stream",
       "stream": "stdout",
       "text": [
        "56889.7558863 56890.7344779 "
       ]
      },
      {
       "output_type": "stream",
       "stream": "stdout",
       "text": [
        "56890.7561996 "
       ]
      },
      {
       "output_type": "stream",
       "stream": "stdout",
       "text": [
        "56890.7779248 "
       ]
      },
      {
       "output_type": "stream",
       "stream": "stdout",
       "text": [
        "56891.7214011 56891.7361919 "
       ]
      },
      {
       "output_type": "stream",
       "stream": "stdout",
       "text": [
        "56891.7509697 "
       ]
      },
      {
       "output_type": "stream",
       "stream": "stdout",
       "text": [
        "56893.7742145 "
       ]
      },
      {
       "output_type": "stream",
       "stream": "stdout",
       "text": [
        "56893.7889874 "
       ]
      },
      {
       "output_type": "stream",
       "stream": "stdout",
       "text": [
        "56893.8041221 "
       ]
      },
      {
       "output_type": "stream",
       "stream": "stdout",
       "text": [
        "56894.7584364 "
       ]
      },
      {
       "output_type": "stream",
       "stream": "stdout",
       "text": [
        "56894.7732268 "
       ]
      },
      {
       "output_type": "stream",
       "stream": "stdout",
       "text": [
        "56894.7880043 "
       ]
      },
      {
       "output_type": "stream",
       "stream": "stdout",
       "text": [
        "\n",
        "56889.7312269 "
       ]
      },
      {
       "output_type": "stream",
       "stream": "stdout",
       "text": [
        "56889.7409558 "
       ]
      },
      {
       "output_type": "stream",
       "stream": "stdout",
       "text": [
        "56889.7558863 "
       ]
      },
      {
       "output_type": "stream",
       "stream": "stdout",
       "text": [
        "56890.7344779 56890.7561996 "
       ]
      },
      {
       "output_type": "stream",
       "stream": "stdout",
       "text": [
        "56890.7779248 56891.7214011 "
       ]
      },
      {
       "output_type": "stream",
       "stream": "stdout",
       "text": [
        "56891.7361919 "
       ]
      },
      {
       "output_type": "stream",
       "stream": "stdout",
       "text": [
        "56891.7509697 "
       ]
      },
      {
       "output_type": "stream",
       "stream": "stdout",
       "text": [
        "56893.7742145 56893.7889874 "
       ]
      },
      {
       "output_type": "stream",
       "stream": "stdout",
       "text": [
        "56893.8041221 "
       ]
      },
      {
       "output_type": "stream",
       "stream": "stdout",
       "text": [
        "56894.7584364 "
       ]
      },
      {
       "output_type": "stream",
       "stream": "stdout",
       "text": [
        "56894.7732268 56894.7880043 "
       ]
      },
      {
       "output_type": "stream",
       "stream": "stdout",
       "text": [
        "\n",
        "Giant04"
       ]
      },
      {
       "output_type": "stream",
       "stream": "stdout",
       "text": [
        "\n",
        "WL aligned"
       ]
      },
      {
       "output_type": "stream",
       "stream": "stdout",
       "text": [
        "\n",
        "WL aligned\n",
        "WL aligned\n",
        "WL aligned\n",
        "56889.7312269 "
       ]
      },
      {
       "output_type": "stream",
       "stream": "stdout",
       "text": [
        "56889.7409558 56889.7558863 "
       ]
      },
      {
       "output_type": "stream",
       "stream": "stdout",
       "text": [
        "56890.7344779 "
       ]
      },
      {
       "output_type": "stream",
       "stream": "stdout",
       "text": [
        "56890.7561996 "
       ]
      },
      {
       "output_type": "stream",
       "stream": "stdout",
       "text": [
        "56890.7779248 "
       ]
      },
      {
       "output_type": "stream",
       "stream": "stdout",
       "text": [
        "56891.7214011 "
       ]
      },
      {
       "output_type": "stream",
       "stream": "stdout",
       "text": [
        "56891.7361919 "
       ]
      },
      {
       "output_type": "stream",
       "stream": "stdout",
       "text": [
        "56891.7509697 "
       ]
      },
      {
       "output_type": "stream",
       "stream": "stdout",
       "text": [
        "56893.7742145 56893.7889874 "
       ]
      },
      {
       "output_type": "stream",
       "stream": "stdout",
       "text": [
        "56893.8041221 56894.7584364 "
       ]
      },
      {
       "output_type": "stream",
       "stream": "stdout",
       "text": [
        "56894.7732268 56894.7880043 "
       ]
      },
      {
       "output_type": "stream",
       "stream": "stdout",
       "text": [
        "\n",
        "56889.7312269 CC failed (probably NaNs)\n",
        "Giant05\n",
        "WL aligned"
       ]
      },
      {
       "output_type": "stream",
       "stream": "stdout",
       "text": [
        "\n",
        "WL aligned\n",
        "WL aligned\n",
        "WL aligned\n",
        "56889.7312269 "
       ]
      },
      {
       "output_type": "stream",
       "stream": "stdout",
       "text": [
        "56889.7409558 56889.7558863 "
       ]
      },
      {
       "output_type": "stream",
       "stream": "stdout",
       "text": [
        "56890.7344779 56890.7561996 "
       ]
      },
      {
       "output_type": "stream",
       "stream": "stdout",
       "text": [
        "56890.7779248 "
       ]
      },
      {
       "output_type": "stream",
       "stream": "stdout",
       "text": [
        "56891.7214011 "
       ]
      },
      {
       "output_type": "stream",
       "stream": "stdout",
       "text": [
        "56891.7361919 56891.7509697 "
       ]
      },
      {
       "output_type": "stream",
       "stream": "stdout",
       "text": [
        "56893.7742145 "
       ]
      },
      {
       "output_type": "stream",
       "stream": "stdout",
       "text": [
        "56893.7889874 56893.8041221 "
       ]
      },
      {
       "output_type": "stream",
       "stream": "stdout",
       "text": [
        "56894.7584364 "
       ]
      },
      {
       "output_type": "stream",
       "stream": "stdout",
       "text": [
        "56894.7732268 "
       ]
      },
      {
       "output_type": "stream",
       "stream": "stdout",
       "text": [
        "56894.7880043 "
       ]
      },
      {
       "output_type": "stream",
       "stream": "stdout",
       "text": [
        "\n",
        "56889.7312269 "
       ]
      },
      {
       "output_type": "stream",
       "stream": "stdout",
       "text": [
        "56889.7409558 56889.7558863 "
       ]
      },
      {
       "output_type": "stream",
       "stream": "stdout",
       "text": [
        "56890.7344779 56890.7561996 "
       ]
      },
      {
       "output_type": "stream",
       "stream": "stdout",
       "text": [
        "56890.7779248 "
       ]
      },
      {
       "output_type": "stream",
       "stream": "stdout",
       "text": [
        "56891.7214011 "
       ]
      },
      {
       "output_type": "stream",
       "stream": "stdout",
       "text": [
        "56891.7361919 56891.7509697 "
       ]
      },
      {
       "output_type": "stream",
       "stream": "stdout",
       "text": [
        "56893.7742145 "
       ]
      },
      {
       "output_type": "stream",
       "stream": "stdout",
       "text": [
        "56893.7889874 "
       ]
      },
      {
       "output_type": "stream",
       "stream": "stdout",
       "text": [
        "56893.8041221 "
       ]
      },
      {
       "output_type": "stream",
       "stream": "stdout",
       "text": [
        "56894.7584364 "
       ]
      },
      {
       "output_type": "stream",
       "stream": "stdout",
       "text": [
        "56894.7732268 "
       ]
      },
      {
       "output_type": "stream",
       "stream": "stdout",
       "text": [
        "56894.7880043 \n",
        "56889.7312269"
       ]
      },
      {
       "output_type": "stream",
       "stream": "stdout",
       "text": [
        " 56889.7409558 56889.7558863 "
       ]
      },
      {
       "output_type": "stream",
       "stream": "stdout",
       "text": [
        "56890.7344779 56890.7561996 "
       ]
      },
      {
       "output_type": "stream",
       "stream": "stdout",
       "text": [
        "56890.7779248 56891.7214011 "
       ]
      },
      {
       "output_type": "stream",
       "stream": "stdout",
       "text": [
        "56891.7361919 56891.7509697 "
       ]
      },
      {
       "output_type": "stream",
       "stream": "stdout",
       "text": [
        "56893.7742145 "
       ]
      },
      {
       "output_type": "stream",
       "stream": "stdout",
       "text": [
        "56893.7889874 "
       ]
      },
      {
       "output_type": "stream",
       "stream": "stdout",
       "text": [
        "56893.8041221 "
       ]
      },
      {
       "output_type": "stream",
       "stream": "stdout",
       "text": [
        "56894.7584364 "
       ]
      },
      {
       "output_type": "stream",
       "stream": "stdout",
       "text": [
        "56894.7732268 "
       ]
      },
      {
       "output_type": "stream",
       "stream": "stdout",
       "text": [
        "56894.7880043 "
       ]
      },
      {
       "output_type": "stream",
       "stream": "stdout",
       "text": [
        "\n",
        "56889.7312269 "
       ]
      },
      {
       "output_type": "stream",
       "stream": "stdout",
       "text": [
        "56889.7409558 56889.7558863 "
       ]
      },
      {
       "output_type": "stream",
       "stream": "stdout",
       "text": [
        "56890.7344779 "
       ]
      },
      {
       "output_type": "stream",
       "stream": "stdout",
       "text": [
        "56890.7561996 56890.7779248 "
       ]
      },
      {
       "output_type": "stream",
       "stream": "stdout",
       "text": [
        "56891.7214011 "
       ]
      },
      {
       "output_type": "stream",
       "stream": "stdout",
       "text": [
        "56891.7361919 56891.7509697 "
       ]
      },
      {
       "output_type": "stream",
       "stream": "stdout",
       "text": [
        "56893.7742145 56893.7889874 "
       ]
      },
      {
       "output_type": "stream",
       "stream": "stdout",
       "text": [
        "56893.8041221 "
       ]
      },
      {
       "output_type": "stream",
       "stream": "stdout",
       "text": [
        "56894.7584364 56894.7732268 "
       ]
      },
      {
       "output_type": "stream",
       "stream": "stdout",
       "text": [
        "56894.7880043 "
       ]
      },
      {
       "output_type": "stream",
       "stream": "stdout",
       "text": [
        "\n",
        "Field14"
       ]
      },
      {
       "output_type": "stream",
       "stream": "stdout",
       "text": [
        "\n",
        "WL aligned"
       ]
      },
      {
       "output_type": "stream",
       "stream": "stdout",
       "text": [
        "\n",
        "WL aligned\n",
        "WL aligned\n",
        "WL aligned\n",
        "56889.7312269 "
       ]
      },
      {
       "output_type": "stream",
       "stream": "stdout",
       "text": [
        "56889.7409558 56889.7558863 "
       ]
      },
      {
       "output_type": "stream",
       "stream": "stdout",
       "text": [
        "56890.7344779 "
       ]
      },
      {
       "output_type": "stream",
       "stream": "stdout",
       "text": [
        "56890.7561996 "
       ]
      },
      {
       "output_type": "stream",
       "stream": "stdout",
       "text": [
        "56890.7779248 56891.7214011 "
       ]
      },
      {
       "output_type": "stream",
       "stream": "stdout",
       "text": [
        "56891.7361919 "
       ]
      },
      {
       "output_type": "stream",
       "stream": "stdout",
       "text": [
        "56891.7509697 "
       ]
      },
      {
       "output_type": "stream",
       "stream": "stdout",
       "text": [
        "56893.7742145 "
       ]
      },
      {
       "output_type": "stream",
       "stream": "stdout",
       "text": [
        "56893.7889874 "
       ]
      },
      {
       "output_type": "stream",
       "stream": "stdout",
       "text": [
        "56893.8041221 "
       ]
      },
      {
       "output_type": "stream",
       "stream": "stdout",
       "text": [
        "56894.7584364 56894.7732268 "
       ]
      },
      {
       "output_type": "stream",
       "stream": "stdout",
       "text": [
        "56894.7880043 \n",
        "56889.7312269"
       ]
      },
      {
       "output_type": "stream",
       "stream": "stdout",
       "text": [
        " 56889.7409558 56889.7558863 "
       ]
      },
      {
       "output_type": "stream",
       "stream": "stdout",
       "text": [
        "56890.7344779 "
       ]
      },
      {
       "output_type": "stream",
       "stream": "stdout",
       "text": [
        "56890.7561996 56890.7779248 "
       ]
      },
      {
       "output_type": "stream",
       "stream": "stdout",
       "text": [
        "56891.7214011 "
       ]
      },
      {
       "output_type": "stream",
       "stream": "stdout",
       "text": [
        "56891.7361919 56891.7509697 "
       ]
      },
      {
       "output_type": "stream",
       "stream": "stdout",
       "text": [
        "56893.7742145 "
       ]
      },
      {
       "output_type": "stream",
       "stream": "stdout",
       "text": [
        "56893.7889874 56893.8041221 "
       ]
      },
      {
       "output_type": "stream",
       "stream": "stdout",
       "text": [
        "56894.7584364 56894.7732268 "
       ]
      },
      {
       "output_type": "stream",
       "stream": "stdout",
       "text": [
        "56894.7880043 \n",
        "56889.7312269"
       ]
      },
      {
       "output_type": "stream",
       "stream": "stdout",
       "text": [
        " 56889.7409558 "
       ]
      },
      {
       "output_type": "stream",
       "stream": "stdout",
       "text": [
        "56889.7558863 "
       ]
      },
      {
       "output_type": "stream",
       "stream": "stdout",
       "text": [
        "56890.7344779 "
       ]
      },
      {
       "output_type": "stream",
       "stream": "stdout",
       "text": [
        "56890.7561996 "
       ]
      },
      {
       "output_type": "stream",
       "stream": "stdout",
       "text": [
        "56890.7779248 "
       ]
      },
      {
       "output_type": "stream",
       "stream": "stdout",
       "text": [
        "56891.7214011 "
       ]
      },
      {
       "output_type": "stream",
       "stream": "stdout",
       "text": [
        "56891.7361919 56891.7509697"
       ]
      },
      {
       "output_type": "stream",
       "stream": "stdout",
       "text": [
        " 56893.7742145 56893.7889874 "
       ]
      },
      {
       "output_type": "stream",
       "stream": "stdout",
       "text": [
        "56893.8041221 "
       ]
      },
      {
       "output_type": "stream",
       "stream": "stdout",
       "text": [
        "56894.7584364 56894.7732268 "
       ]
      },
      {
       "output_type": "stream",
       "stream": "stdout",
       "text": [
        "56894.7880043 \n",
        "56889.7312269"
       ]
      },
      {
       "output_type": "stream",
       "stream": "stdout",
       "text": [
        " 56889.7409558 56889.7558863 "
       ]
      },
      {
       "output_type": "stream",
       "stream": "stdout",
       "text": [
        "56890.7344779 56890.7561996 "
       ]
      },
      {
       "output_type": "stream",
       "stream": "stdout",
       "text": [
        "56890.7779248 56891.7214011 "
       ]
      },
      {
       "output_type": "stream",
       "stream": "stdout",
       "text": [
        "56891.7361919 "
       ]
      },
      {
       "output_type": "stream",
       "stream": "stdout",
       "text": [
        "56891.7509697 56893.7742145 "
       ]
      },
      {
       "output_type": "stream",
       "stream": "stdout",
       "text": [
        "56893.7889874 "
       ]
      },
      {
       "output_type": "stream",
       "stream": "stdout",
       "text": [
        "56893.8041221 56894.7584364 "
       ]
      },
      {
       "output_type": "stream",
       "stream": "stdout",
       "text": [
        "56894.7732268 "
       ]
      },
      {
       "output_type": "stream",
       "stream": "stdout",
       "text": [
        "56894.7880043 "
       ]
      },
      {
       "output_type": "stream",
       "stream": "stdout",
       "text": [
        "\n",
        "Giant01"
       ]
      },
      {
       "output_type": "stream",
       "stream": "stdout",
       "text": [
        "\n",
        "WL aligned"
       ]
      },
      {
       "output_type": "stream",
       "stream": "stdout",
       "text": [
        "\n",
        "WL aligned\n",
        "WL aligned\n",
        "WL aligned\n",
        "56889.7312269 "
       ]
      },
      {
       "output_type": "stream",
       "stream": "stdout",
       "text": [
        "56889.7409558 56889.7558863 "
       ]
      },
      {
       "output_type": "stream",
       "stream": "stdout",
       "text": [
        "56890.7344779 "
       ]
      },
      {
       "output_type": "stream",
       "stream": "stdout",
       "text": [
        "56890.7561996 "
       ]
      },
      {
       "output_type": "stream",
       "stream": "stdout",
       "text": [
        "56890.7779248 "
       ]
      },
      {
       "output_type": "stream",
       "stream": "stdout",
       "text": [
        "56891.7214011 "
       ]
      },
      {
       "output_type": "stream",
       "stream": "stdout",
       "text": [
        "56891.7361919 "
       ]
      },
      {
       "output_type": "stream",
       "stream": "stdout",
       "text": [
        "56891.7509697 56893.7742145 "
       ]
      },
      {
       "output_type": "stream",
       "stream": "stdout",
       "text": [
        "56893.7889874 56893.8041221 "
       ]
      },
      {
       "output_type": "stream",
       "stream": "stdout",
       "text": [
        "56894.7584364 "
       ]
      },
      {
       "output_type": "stream",
       "stream": "stdout",
       "text": [
        "56894.7732268 56894.7880043 "
       ]
      },
      {
       "output_type": "stream",
       "stream": "stdout",
       "text": [
        "\n",
        "56889.7312269 "
       ]
      },
      {
       "output_type": "stream",
       "stream": "stdout",
       "text": [
        "56889.7409558 "
       ]
      },
      {
       "output_type": "stream",
       "stream": "stdout",
       "text": [
        "56889.7558863 "
       ]
      },
      {
       "output_type": "stream",
       "stream": "stdout",
       "text": [
        "56890.7344779 56890.7561996 "
       ]
      },
      {
       "output_type": "stream",
       "stream": "stdout",
       "text": [
        "56890.7779248 56891.7214011 "
       ]
      },
      {
       "output_type": "stream",
       "stream": "stdout",
       "text": [
        "56891.7361919 "
       ]
      },
      {
       "output_type": "stream",
       "stream": "stdout",
       "text": [
        "56891.7509697 56893.7742145"
       ]
      },
      {
       "output_type": "stream",
       "stream": "stdout",
       "text": [
        " 56893.7889874 "
       ]
      },
      {
       "output_type": "stream",
       "stream": "stdout",
       "text": [
        "56893.8041221 "
       ]
      },
      {
       "output_type": "stream",
       "stream": "stdout",
       "text": [
        "56894.7584364 "
       ]
      },
      {
       "output_type": "stream",
       "stream": "stdout",
       "text": [
        "56894.7732268 "
       ]
      },
      {
       "output_type": "stream",
       "stream": "stdout",
       "text": [
        "56894.7880043 "
       ]
      },
      {
       "output_type": "stream",
       "stream": "stdout",
       "text": [
        "\n",
        "56889.7312269 "
       ]
      },
      {
       "output_type": "stream",
       "stream": "stdout",
       "text": [
        "56889.7409558 56889.7558863 "
       ]
      },
      {
       "output_type": "stream",
       "stream": "stdout",
       "text": [
        "56890.7344779 56890.7561996 "
       ]
      },
      {
       "output_type": "stream",
       "stream": "stdout",
       "text": [
        "56890.7779248 56891.7214011 "
       ]
      },
      {
       "output_type": "stream",
       "stream": "stdout",
       "text": [
        "56891.7361919 "
       ]
      },
      {
       "output_type": "stream",
       "stream": "stdout",
       "text": [
        "56891.7509697 56893.7742145"
       ]
      },
      {
       "output_type": "stream",
       "stream": "stdout",
       "text": [
        " 56893.7889874 56893.8041221 "
       ]
      },
      {
       "output_type": "stream",
       "stream": "stdout",
       "text": [
        "56894.7584364 56894.7732268 "
       ]
      },
      {
       "output_type": "stream",
       "stream": "stdout",
       "text": [
        "56894.7880043 \n",
        "56889.7312269"
       ]
      },
      {
       "output_type": "stream",
       "stream": "stdout",
       "text": [
        " 56889.7409558 56889.7558863 "
       ]
      },
      {
       "output_type": "stream",
       "stream": "stdout",
       "text": [
        "56890.7344779 "
       ]
      },
      {
       "output_type": "stream",
       "stream": "stdout",
       "text": [
        "56890.7561996 "
       ]
      },
      {
       "output_type": "stream",
       "stream": "stdout",
       "text": [
        "56890.7779248 56891.7214011 "
       ]
      },
      {
       "output_type": "stream",
       "stream": "stdout",
       "text": [
        "56891.7361919 "
       ]
      },
      {
       "output_type": "stream",
       "stream": "stdout",
       "text": [
        "56891.7509697 "
       ]
      },
      {
       "output_type": "stream",
       "stream": "stdout",
       "text": [
        "56893.7742145 56893.7889874 "
       ]
      },
      {
       "output_type": "stream",
       "stream": "stdout",
       "text": [
        "56893.8041221 "
       ]
      },
      {
       "output_type": "stream",
       "stream": "stdout",
       "text": [
        "56894.7584364 "
       ]
      },
      {
       "output_type": "stream",
       "stream": "stdout",
       "text": [
        "56894.7732268 "
       ]
      },
      {
       "output_type": "stream",
       "stream": "stdout",
       "text": [
        "56894.7880043 \n",
        "Giant34"
       ]
      },
      {
       "output_type": "stream",
       "stream": "stdout",
       "text": [
        "\n",
        "WL aligned"
       ]
      },
      {
       "output_type": "stream",
       "stream": "stdout",
       "text": [
        "\n",
        "WL aligned\n",
        "WL aligned\n",
        "WL aligned\n",
        "56889.7312269 "
       ]
      },
      {
       "output_type": "stream",
       "stream": "stdout",
       "text": [
        "56889.7409558 "
       ]
      },
      {
       "output_type": "stream",
       "stream": "stdout",
       "text": [
        "56889.7558863 56890.7344779 "
       ]
      },
      {
       "output_type": "stream",
       "stream": "stdout",
       "text": [
        "56890.7561996 "
       ]
      },
      {
       "output_type": "stream",
       "stream": "stdout",
       "text": [
        "56890.7779248 "
       ]
      },
      {
       "output_type": "stream",
       "stream": "stdout",
       "text": [
        "56891.7214011 "
       ]
      },
      {
       "output_type": "stream",
       "stream": "stdout",
       "text": [
        "56891.7361919 "
       ]
      },
      {
       "output_type": "stream",
       "stream": "stdout",
       "text": [
        "56891.7509697 56893.7742145 "
       ]
      },
      {
       "output_type": "stream",
       "stream": "stdout",
       "text": [
        "56893.7889874 56893.8041221 "
       ]
      },
      {
       "output_type": "stream",
       "stream": "stdout",
       "text": [
        "56894.7584364 56894.7732268 "
       ]
      },
      {
       "output_type": "stream",
       "stream": "stdout",
       "text": [
        "56894.7880043 "
       ]
      },
      {
       "output_type": "stream",
       "stream": "stdout",
       "text": [
        "\n",
        "56889.7312269 "
       ]
      },
      {
       "output_type": "stream",
       "stream": "stdout",
       "text": [
        "56889.7409558 56889.7558863 "
       ]
      },
      {
       "output_type": "stream",
       "stream": "stdout",
       "text": [
        "56890.7344779 "
       ]
      },
      {
       "output_type": "stream",
       "stream": "stdout",
       "text": [
        "56890.7561996 "
       ]
      },
      {
       "output_type": "stream",
       "stream": "stdout",
       "text": [
        "56890.7779248 "
       ]
      },
      {
       "output_type": "stream",
       "stream": "stdout",
       "text": [
        "56891.7214011 "
       ]
      },
      {
       "output_type": "stream",
       "stream": "stdout",
       "text": [
        "56891.7361919 "
       ]
      },
      {
       "output_type": "stream",
       "stream": "stdout",
       "text": [
        "56891.7509697 "
       ]
      },
      {
       "output_type": "stream",
       "stream": "stdout",
       "text": [
        "56893.7742145 56893.7889874 "
       ]
      },
      {
       "output_type": "stream",
       "stream": "stdout",
       "text": [
        "56893.8041221 56894.7584364 "
       ]
      },
      {
       "output_type": "stream",
       "stream": "stdout",
       "text": [
        "56894.7732268 "
       ]
      },
      {
       "output_type": "stream",
       "stream": "stdout",
       "text": [
        "56894.7880043 \n",
        "56889.7312269"
       ]
      },
      {
       "output_type": "stream",
       "stream": "stdout",
       "text": [
        " 56889.7409558 56889.7558863 "
       ]
      },
      {
       "output_type": "stream",
       "stream": "stdout",
       "text": [
        "56890.7344779 56890.7561996 "
       ]
      },
      {
       "output_type": "stream",
       "stream": "stdout",
       "text": [
        "56890.7779248 56891.7214011 "
       ]
      },
      {
       "output_type": "stream",
       "stream": "stdout",
       "text": [
        "56891.7361919 56891.7509697 "
       ]
      },
      {
       "output_type": "stream",
       "stream": "stdout",
       "text": [
        "56893.7742145 56893.7889874 "
       ]
      },
      {
       "output_type": "stream",
       "stream": "stdout",
       "text": [
        "56893.8041221 "
       ]
      },
      {
       "output_type": "stream",
       "stream": "stdout",
       "text": [
        "56894.7584364 "
       ]
      },
      {
       "output_type": "stream",
       "stream": "stdout",
       "text": [
        "56894.7732268 56894.7880043 "
       ]
      },
      {
       "output_type": "stream",
       "stream": "stdout",
       "text": [
        "\n",
        "56889.7312269 "
       ]
      },
      {
       "output_type": "stream",
       "stream": "stdout",
       "text": [
        "56889.7409558 "
       ]
      },
      {
       "output_type": "stream",
       "stream": "stdout",
       "text": [
        "56889.7558863 "
       ]
      },
      {
       "output_type": "stream",
       "stream": "stdout",
       "text": [
        "56890.7344779 56890.7561996 "
       ]
      },
      {
       "output_type": "stream",
       "stream": "stdout",
       "text": [
        "56890.7779248 56891.7214011 "
       ]
      },
      {
       "output_type": "stream",
       "stream": "stdout",
       "text": [
        "56891.7361919 "
       ]
      },
      {
       "output_type": "stream",
       "stream": "stdout",
       "text": [
        "56891.7509697 56893.7742145 "
       ]
      },
      {
       "output_type": "stream",
       "stream": "stdout",
       "text": [
        "56893.7889874 "
       ]
      },
      {
       "output_type": "stream",
       "stream": "stdout",
       "text": [
        "56893.8041221 56894.7584364 "
       ]
      },
      {
       "output_type": "stream",
       "stream": "stdout",
       "text": [
        "56894.7732268 "
       ]
      },
      {
       "output_type": "stream",
       "stream": "stdout",
       "text": [
        "56894.7880043 "
       ]
      },
      {
       "output_type": "stream",
       "stream": "stdout",
       "text": [
        "\n",
        "Field07"
       ]
      },
      {
       "output_type": "stream",
       "stream": "stdout",
       "text": [
        "\n",
        "WL aligned"
       ]
      },
      {
       "output_type": "stream",
       "stream": "stdout",
       "text": [
        "\n",
        "WL aligned\n",
        "WL aligned\n",
        "WL aligned\n",
        "56889.7312269 "
       ]
      },
      {
       "output_type": "stream",
       "stream": "stdout",
       "text": [
        "56889.7409558 "
       ]
      },
      {
       "output_type": "stream",
       "stream": "stdout",
       "text": [
        "56889.7558863 "
       ]
      },
      {
       "output_type": "stream",
       "stream": "stdout",
       "text": [
        "56890.7344779 56890.7561996 "
       ]
      },
      {
       "output_type": "stream",
       "stream": "stdout",
       "text": [
        "56890.7779248 56891.7214011 "
       ]
      },
      {
       "output_type": "stream",
       "stream": "stdout",
       "text": [
        "56891.7361919 "
       ]
      },
      {
       "output_type": "stream",
       "stream": "stdout",
       "text": [
        "56891.7509697 "
       ]
      },
      {
       "output_type": "stream",
       "stream": "stdout",
       "text": [
        "56893.7742145 56893.7889874 "
       ]
      },
      {
       "output_type": "stream",
       "stream": "stdout",
       "text": [
        "56893.8041221 "
       ]
      },
      {
       "output_type": "stream",
       "stream": "stdout",
       "text": [
        "56894.7584364 56894.7732268 "
       ]
      },
      {
       "output_type": "stream",
       "stream": "stdout",
       "text": [
        "56894.7880043 \n",
        "56889.7312269"
       ]
      },
      {
       "output_type": "stream",
       "stream": "stdout",
       "text": [
        " 56889.7409558 "
       ]
      },
      {
       "output_type": "stream",
       "stream": "stdout",
       "text": [
        "56889.7558863 56890.7344779 "
       ]
      },
      {
       "output_type": "stream",
       "stream": "stdout",
       "text": [
        "56890.7561996 56890.7779248 "
       ]
      },
      {
       "output_type": "stream",
       "stream": "stdout",
       "text": [
        "56891.7214011 56891.7361919 "
       ]
      },
      {
       "output_type": "stream",
       "stream": "stdout",
       "text": [
        "56891.7509697 56893.7742145 "
       ]
      },
      {
       "output_type": "stream",
       "stream": "stdout",
       "text": [
        "56893.7889874 56893.8041221 "
       ]
      },
      {
       "output_type": "stream",
       "stream": "stdout",
       "text": [
        "56894.7584364 56894.7732268 "
       ]
      },
      {
       "output_type": "stream",
       "stream": "stdout",
       "text": [
        "56894.7880043 "
       ]
      },
      {
       "output_type": "stream",
       "stream": "stdout",
       "text": [
        "\n",
        "56889.7312269 "
       ]
      },
      {
       "output_type": "stream",
       "stream": "stdout",
       "text": [
        "56889.7409558 56889.7558863 "
       ]
      },
      {
       "output_type": "stream",
       "stream": "stdout",
       "text": [
        "56890.7344779 "
       ]
      },
      {
       "output_type": "stream",
       "stream": "stdout",
       "text": [
        "56890.7561996 "
       ]
      },
      {
       "output_type": "stream",
       "stream": "stdout",
       "text": [
        "56890.7779248 56891.7214011 "
       ]
      },
      {
       "output_type": "stream",
       "stream": "stdout",
       "text": [
        "56891.7361919 "
       ]
      },
      {
       "output_type": "stream",
       "stream": "stdout",
       "text": [
        "56891.7509697 "
       ]
      },
      {
       "output_type": "stream",
       "stream": "stdout",
       "text": [
        "56893.7742145 "
       ]
      },
      {
       "output_type": "stream",
       "stream": "stdout",
       "text": [
        "56893.7889874 "
       ]
      },
      {
       "output_type": "stream",
       "stream": "stdout",
       "text": [
        "56893.8041221 "
       ]
      },
      {
       "output_type": "stream",
       "stream": "stdout",
       "text": [
        "56894.7584364 "
       ]
      },
      {
       "output_type": "stream",
       "stream": "stdout",
       "text": [
        "56894.7732268 "
       ]
      },
      {
       "output_type": "stream",
       "stream": "stdout",
       "text": [
        "56894.7880043 "
       ]
      },
      {
       "output_type": "stream",
       "stream": "stdout",
       "text": [
        "\n",
        "56889.7312269 "
       ]
      },
      {
       "output_type": "stream",
       "stream": "stdout",
       "text": [
        "56889.7409558 56889.7558863 "
       ]
      },
      {
       "output_type": "stream",
       "stream": "stdout",
       "text": [
        "56890.7344779 56890.7561996 "
       ]
      },
      {
       "output_type": "stream",
       "stream": "stdout",
       "text": [
        "56890.7779248 56891.7214011 "
       ]
      },
      {
       "output_type": "stream",
       "stream": "stdout",
       "text": [
        "56891.7361919 56891.7509697 "
       ]
      },
      {
       "output_type": "stream",
       "stream": "stdout",
       "text": [
        "56893.7742145 56893.7889874 "
       ]
      },
      {
       "output_type": "stream",
       "stream": "stdout",
       "text": [
        "56893.8041221 56894.7584364 "
       ]
      },
      {
       "output_type": "stream",
       "stream": "stdout",
       "text": [
        "56894.7732268 "
       ]
      },
      {
       "output_type": "stream",
       "stream": "stdout",
       "text": [
        "56894.7880043 "
       ]
      },
      {
       "output_type": "stream",
       "stream": "stdout",
       "text": [
        "\n",
        "Field13"
       ]
      },
      {
       "output_type": "stream",
       "stream": "stdout",
       "text": [
        "\n",
        "WL aligned"
       ]
      },
      {
       "output_type": "stream",
       "stream": "stdout",
       "text": [
        "\n",
        "WL aligned\n",
        "WL aligned\n",
        "WL aligned\n",
        "56889.7312269 "
       ]
      },
      {
       "output_type": "stream",
       "stream": "stdout",
       "text": [
        "56889.7409558 56889.7558863 "
       ]
      },
      {
       "output_type": "stream",
       "stream": "stdout",
       "text": [
        "56890.7344779 56890.7561996 "
       ]
      },
      {
       "output_type": "stream",
       "stream": "stdout",
       "text": [
        "56890.7779248 "
       ]
      },
      {
       "output_type": "stream",
       "stream": "stdout",
       "text": [
        "56891.7214011 "
       ]
      },
      {
       "output_type": "stream",
       "stream": "stdout",
       "text": [
        "56891.7361919 "
       ]
      },
      {
       "output_type": "stream",
       "stream": "stdout",
       "text": [
        "56891.7509697 56893.7742145 "
       ]
      },
      {
       "output_type": "stream",
       "stream": "stdout",
       "text": [
        "56893.7889874 "
       ]
      },
      {
       "output_type": "stream",
       "stream": "stdout",
       "text": [
        "56893.8041221 "
       ]
      },
      {
       "output_type": "stream",
       "stream": "stdout",
       "text": [
        "56894.7584364 "
       ]
      },
      {
       "output_type": "stream",
       "stream": "stdout",
       "text": [
        "56894.7732268 "
       ]
      },
      {
       "output_type": "stream",
       "stream": "stdout",
       "text": [
        "56894.7880043 \n",
        "56889.7312269"
       ]
      },
      {
       "output_type": "stream",
       "stream": "stdout",
       "text": [
        " 56889.7409558 56889.7558863 "
       ]
      },
      {
       "output_type": "stream",
       "stream": "stdout",
       "text": [
        "56890.7344779 56890.7561996 "
       ]
      },
      {
       "output_type": "stream",
       "stream": "stdout",
       "text": [
        "56890.7779248 "
       ]
      },
      {
       "output_type": "stream",
       "stream": "stdout",
       "text": [
        "56891.7214011 56891.7361919 "
       ]
      },
      {
       "output_type": "stream",
       "stream": "stdout",
       "text": [
        "56891.7509697 56893.7742145 "
       ]
      },
      {
       "output_type": "stream",
       "stream": "stdout",
       "text": [
        "56893.7889874 "
       ]
      },
      {
       "output_type": "stream",
       "stream": "stdout",
       "text": [
        "56893.8041221 56894.7584364 "
       ]
      },
      {
       "output_type": "stream",
       "stream": "stdout",
       "text": [
        "56894.7732268 "
       ]
      },
      {
       "output_type": "stream",
       "stream": "stdout",
       "text": [
        "56894.7880043 \n",
        "56889.7312269"
       ]
      },
      {
       "output_type": "stream",
       "stream": "stdout",
       "text": [
        " 56889.7409558 56889.7558863 "
       ]
      },
      {
       "output_type": "stream",
       "stream": "stdout",
       "text": [
        "56890.7344779 "
       ]
      },
      {
       "output_type": "stream",
       "stream": "stdout",
       "text": [
        "56890.7561996 "
       ]
      },
      {
       "output_type": "stream",
       "stream": "stdout",
       "text": [
        "56890.7779248 "
       ]
      },
      {
       "output_type": "stream",
       "stream": "stdout",
       "text": [
        "56891.7214011 56891.7361919 "
       ]
      },
      {
       "output_type": "stream",
       "stream": "stdout",
       "text": [
        "56891.7509697 56893.7742145 "
       ]
      },
      {
       "output_type": "stream",
       "stream": "stdout",
       "text": [
        "56893.7889874 56893.8041221 "
       ]
      },
      {
       "output_type": "stream",
       "stream": "stdout",
       "text": [
        "56894.7584364 "
       ]
      },
      {
       "output_type": "stream",
       "stream": "stdout",
       "text": [
        "56894.7732268 56894.7880043 "
       ]
      },
      {
       "output_type": "stream",
       "stream": "stdout",
       "text": [
        "\n",
        "56889.7312269 "
       ]
      },
      {
       "output_type": "stream",
       "stream": "stdout",
       "text": [
        "56889.7409558 56889.7558863 "
       ]
      },
      {
       "output_type": "stream",
       "stream": "stdout",
       "text": [
        "56890.7344779 "
       ]
      },
      {
       "output_type": "stream",
       "stream": "stdout",
       "text": [
        "56890.7561996 56890.7779248 "
       ]
      },
      {
       "output_type": "stream",
       "stream": "stdout",
       "text": [
        "56891.7214011 56891.7361919 "
       ]
      },
      {
       "output_type": "stream",
       "stream": "stdout",
       "text": [
        "56891.7509697 56893.7742145 "
       ]
      },
      {
       "output_type": "stream",
       "stream": "stdout",
       "text": [
        "56893.7889874 56893.8041221 "
       ]
      },
      {
       "output_type": "stream",
       "stream": "stdout",
       "text": [
        "56894.7584364 56894.7732268 "
       ]
      },
      {
       "output_type": "stream",
       "stream": "stdout",
       "text": [
        "56894.7880043 \n",
        "Giant17"
       ]
      },
      {
       "output_type": "stream",
       "stream": "stdout",
       "text": [
        "\n",
        "WL aligned"
       ]
      },
      {
       "output_type": "stream",
       "stream": "stdout",
       "text": [
        "\n",
        "WL aligned\n",
        "WL aligned\n",
        "WL aligned\n",
        "56889.7312269 "
       ]
      },
      {
       "output_type": "stream",
       "stream": "stdout",
       "text": [
        "56889.7409558 56889.7558863 "
       ]
      },
      {
       "output_type": "stream",
       "stream": "stdout",
       "text": [
        "56890.7344779 56890.7561996 "
       ]
      },
      {
       "output_type": "stream",
       "stream": "stdout",
       "text": [
        "56890.7779248 "
       ]
      },
      {
       "output_type": "stream",
       "stream": "stdout",
       "text": [
        "56891.7214011 "
       ]
      },
      {
       "output_type": "stream",
       "stream": "stdout",
       "text": [
        "56891.7361919 "
       ]
      },
      {
       "output_type": "stream",
       "stream": "stdout",
       "text": [
        "56891.7509697 "
       ]
      },
      {
       "output_type": "stream",
       "stream": "stdout",
       "text": [
        "56893.7742145 56893.7889874 "
       ]
      },
      {
       "output_type": "stream",
       "stream": "stdout",
       "text": [
        "56893.8041221 56894.7584364 "
       ]
      },
      {
       "output_type": "stream",
       "stream": "stdout",
       "text": [
        "56894.7732268 "
       ]
      },
      {
       "output_type": "stream",
       "stream": "stdout",
       "text": [
        "56894.7880043 \n",
        "56889.7312269"
       ]
      },
      {
       "output_type": "stream",
       "stream": "stdout",
       "text": [
        " 56889.7409558 "
       ]
      },
      {
       "output_type": "stream",
       "stream": "stdout",
       "text": [
        "56889.7558863 56890.7344779 "
       ]
      },
      {
       "output_type": "stream",
       "stream": "stdout",
       "text": [
        "56890.7561996 56890.7779248 "
       ]
      },
      {
       "output_type": "stream",
       "stream": "stdout",
       "text": [
        "56891.7214011 56891.7361919 "
       ]
      },
      {
       "output_type": "stream",
       "stream": "stdout",
       "text": [
        "56891.7509697 56893.7742145 "
       ]
      },
      {
       "output_type": "stream",
       "stream": "stdout",
       "text": [
        "56893.7889874 56893.8041221 "
       ]
      },
      {
       "output_type": "stream",
       "stream": "stdout",
       "text": [
        "56894.7584364 56894.7732268 "
       ]
      },
      {
       "output_type": "stream",
       "stream": "stdout",
       "text": [
        "56894.7880043 \n",
        "56889.7312269"
       ]
      },
      {
       "output_type": "stream",
       "stream": "stdout",
       "text": [
        " 56889.7409558 56889.7558863 "
       ]
      },
      {
       "output_type": "stream",
       "stream": "stdout",
       "text": [
        "56890.7344779 56890.7561996 "
       ]
      },
      {
       "output_type": "stream",
       "stream": "stdout",
       "text": [
        "56890.7779248 56891.7214011 "
       ]
      },
      {
       "output_type": "stream",
       "stream": "stdout",
       "text": [
        "56891.7361919 56891.7509697 "
       ]
      },
      {
       "output_type": "stream",
       "stream": "stdout",
       "text": [
        "56893.7742145 56893.7889874 "
       ]
      },
      {
       "output_type": "stream",
       "stream": "stdout",
       "text": [
        "56893.8041221 56894.7584364 "
       ]
      },
      {
       "output_type": "stream",
       "stream": "stdout",
       "text": [
        "56894.7732268 56894.7880043 "
       ]
      },
      {
       "output_type": "stream",
       "stream": "stdout",
       "text": [
        "\n",
        "56889.7312269 56889.7409558 "
       ]
      },
      {
       "output_type": "stream",
       "stream": "stdout",
       "text": [
        "56889.7558863 56890.7344779 "
       ]
      },
      {
       "output_type": "stream",
       "stream": "stdout",
       "text": [
        "56890.7561996 56890.7779248 "
       ]
      },
      {
       "output_type": "stream",
       "stream": "stdout",
       "text": [
        "56891.7214011 56891.7361919 "
       ]
      },
      {
       "output_type": "stream",
       "stream": "stdout",
       "text": [
        "56891.7509697 56893.7742145 "
       ]
      },
      {
       "output_type": "stream",
       "stream": "stdout",
       "text": [
        "56893.7889874 56893.8041221 "
       ]
      },
      {
       "output_type": "stream",
       "stream": "stdout",
       "text": [
        "56894.7584364 56894.7732268 "
       ]
      },
      {
       "output_type": "stream",
       "stream": "stdout",
       "text": [
        "56894.7880043 \n",
        "Field18"
       ]
      },
      {
       "output_type": "stream",
       "stream": "stdout",
       "text": [
        "\n",
        "WL aligned"
       ]
      },
      {
       "output_type": "stream",
       "stream": "stdout",
       "text": [
        "\n",
        "WL aligned\n",
        "WL aligned\n",
        "WL aligned\n",
        "56889.7312269 "
       ]
      },
      {
       "output_type": "stream",
       "stream": "stdout",
       "text": [
        "56889.7409558 56889.7558863 "
       ]
      },
      {
       "output_type": "stream",
       "stream": "stdout",
       "text": [
        "56890.7344779 56890.7561996 "
       ]
      },
      {
       "output_type": "stream",
       "stream": "stdout",
       "text": [
        "56890.7779248 56891.7214011 "
       ]
      },
      {
       "output_type": "stream",
       "stream": "stdout",
       "text": [
        "56891.7361919 56891.7509697 "
       ]
      },
      {
       "output_type": "stream",
       "stream": "stdout",
       "text": [
        "56893.7742145 56893.7889874 "
       ]
      },
      {
       "output_type": "stream",
       "stream": "stdout",
       "text": [
        "56893.8041221 56894.7584364 "
       ]
      },
      {
       "output_type": "stream",
       "stream": "stdout",
       "text": [
        "56894.7732268 "
       ]
      },
      {
       "output_type": "stream",
       "stream": "stdout",
       "text": [
        "56894.7880043 \n",
        "56889.7312269"
       ]
      },
      {
       "output_type": "stream",
       "stream": "stdout",
       "text": [
        " 56889.7409558 56889.7558863 "
       ]
      },
      {
       "output_type": "stream",
       "stream": "stdout",
       "text": [
        "56890.7344779 56890.7561996 "
       ]
      },
      {
       "output_type": "stream",
       "stream": "stdout",
       "text": [
        "56890.7779248 56891.7214011 "
       ]
      },
      {
       "output_type": "stream",
       "stream": "stdout",
       "text": [
        "56891.7361919 56891.7509697 "
       ]
      },
      {
       "output_type": "stream",
       "stream": "stdout",
       "text": [
        "56893.7742145 56893.7889874 "
       ]
      },
      {
       "output_type": "stream",
       "stream": "stdout",
       "text": [
        "56893.8041221 56894.7584364 "
       ]
      },
      {
       "output_type": "stream",
       "stream": "stdout",
       "text": [
        "56894.7732268 56894.7880043 "
       ]
      },
      {
       "output_type": "stream",
       "stream": "stdout",
       "text": [
        "\n",
        "56889.7312269 "
       ]
      },
      {
       "output_type": "stream",
       "stream": "stdout",
       "text": [
        "56889.7409558 56889.7558863 "
       ]
      },
      {
       "output_type": "stream",
       "stream": "stdout",
       "text": [
        "56890.7344779 56890.7561996 "
       ]
      },
      {
       "output_type": "stream",
       "stream": "stdout",
       "text": [
        "56890.7779248 56891.7214011 "
       ]
      },
      {
       "output_type": "stream",
       "stream": "stdout",
       "text": [
        "56891.7361919 56891.7509697 "
       ]
      },
      {
       "output_type": "stream",
       "stream": "stdout",
       "text": [
        "56893.7742145 56893.7889874 "
       ]
      },
      {
       "output_type": "stream",
       "stream": "stdout",
       "text": [
        "56893.8041221 56894.7584364 "
       ]
      },
      {
       "output_type": "stream",
       "stream": "stdout",
       "text": [
        "56894.7732268 56894.7880043 "
       ]
      },
      {
       "output_type": "stream",
       "stream": "stdout",
       "text": [
        "\n",
        "56889.7312269 "
       ]
      },
      {
       "output_type": "stream",
       "stream": "stdout",
       "text": [
        "56889.7409558 56889.7558863 "
       ]
      },
      {
       "output_type": "stream",
       "stream": "stdout",
       "text": [
        "56890.7344779 56890.7561996 "
       ]
      },
      {
       "output_type": "stream",
       "stream": "stdout",
       "text": [
        "56890.7779248 56891.7214011 "
       ]
      },
      {
       "output_type": "stream",
       "stream": "stdout",
       "text": [
        "56891.7361919 56891.7509697 "
       ]
      },
      {
       "output_type": "stream",
       "stream": "stdout",
       "text": [
        "56893.7742145 56893.7889874 "
       ]
      },
      {
       "output_type": "stream",
       "stream": "stdout",
       "text": [
        "56893.8041221 56894.7584364 "
       ]
      },
      {
       "output_type": "stream",
       "stream": "stdout",
       "text": [
        "56894.7732268 56894.7880043 "
       ]
      },
      {
       "output_type": "stream",
       "stream": "stdout",
       "text": [
        "\n",
        "Giant09"
       ]
      },
      {
       "output_type": "stream",
       "stream": "stdout",
       "text": [
        "\n",
        "WL aligned"
       ]
      },
      {
       "output_type": "stream",
       "stream": "stdout",
       "text": [
        "\n",
        "WL aligned\n",
        "WL aligned\n",
        "WL aligned\n",
        "56889.7312269 "
       ]
      },
      {
       "output_type": "stream",
       "stream": "stdout",
       "text": [
        "56889.7409558 56889.7558863 "
       ]
      },
      {
       "output_type": "stream",
       "stream": "stdout",
       "text": [
        "56890.7344779 56890.7561996 "
       ]
      },
      {
       "output_type": "stream",
       "stream": "stdout",
       "text": [
        "56890.7779248 56891.7214011 "
       ]
      },
      {
       "output_type": "stream",
       "stream": "stdout",
       "text": [
        "56891.7361919 "
       ]
      },
      {
       "output_type": "stream",
       "stream": "stdout",
       "text": [
        "56891.7509697 56893.7742145 "
       ]
      },
      {
       "output_type": "stream",
       "stream": "stdout",
       "text": [
        "56893.7889874 56893.8041221 "
       ]
      },
      {
       "output_type": "stream",
       "stream": "stdout",
       "text": [
        "56894.7584364 56894.7732268 "
       ]
      },
      {
       "output_type": "stream",
       "stream": "stdout",
       "text": [
        "56894.7880043 \n",
        "56889.7312269 "
       ]
      },
      {
       "output_type": "stream",
       "stream": "stdout",
       "text": [
        "56889.7409558 56889.7558863 "
       ]
      },
      {
       "output_type": "stream",
       "stream": "stdout",
       "text": [
        "56890.7344779 56890.7561996 "
       ]
      },
      {
       "output_type": "stream",
       "stream": "stdout",
       "text": [
        "56890.7779248 56891.7214011 "
       ]
      },
      {
       "output_type": "stream",
       "stream": "stdout",
       "text": [
        "56891.7361919 56891.7509697 "
       ]
      },
      {
       "output_type": "stream",
       "stream": "stdout",
       "text": [
        "56893.7742145 56893.7889874 "
       ]
      },
      {
       "output_type": "stream",
       "stream": "stdout",
       "text": [
        "56893.8041221 56894.7584364 "
       ]
      },
      {
       "output_type": "stream",
       "stream": "stdout",
       "text": [
        "56894.7732268 56894.7880043 "
       ]
      },
      {
       "output_type": "stream",
       "stream": "stdout",
       "text": [
        "\n",
        "56889.7312269 "
       ]
      },
      {
       "output_type": "stream",
       "stream": "stdout",
       "text": [
        "56889.7409558 56889.7558863 "
       ]
      },
      {
       "output_type": "stream",
       "stream": "stdout",
       "text": [
        "56890.7344779 56890.7561996 "
       ]
      },
      {
       "output_type": "stream",
       "stream": "stdout",
       "text": [
        "56890.7779248 56891.7214011 "
       ]
      },
      {
       "output_type": "stream",
       "stream": "stdout",
       "text": [
        "56891.7361919 56891.7509697 "
       ]
      },
      {
       "output_type": "stream",
       "stream": "stdout",
       "text": [
        "56893.7742145 56893.7889874 "
       ]
      },
      {
       "output_type": "stream",
       "stream": "stdout",
       "text": [
        "56893.8041221 56894.7584364 "
       ]
      },
      {
       "output_type": "stream",
       "stream": "stdout",
       "text": [
        "56894.7732268 56894.7880043 "
       ]
      },
      {
       "output_type": "stream",
       "stream": "stdout",
       "text": [
        "\n",
        "56889.7312269 56889.7409558 "
       ]
      },
      {
       "output_type": "stream",
       "stream": "stdout",
       "text": [
        "56889.7558863 56890.7344779 "
       ]
      },
      {
       "output_type": "stream",
       "stream": "stdout",
       "text": [
        "56890.7561996 56890.7779248 "
       ]
      },
      {
       "output_type": "stream",
       "stream": "stdout",
       "text": [
        "56891.7214011 56891.7361919 "
       ]
      },
      {
       "output_type": "stream",
       "stream": "stdout",
       "text": [
        "56891.7509697 56893.7742145 "
       ]
      },
      {
       "output_type": "stream",
       "stream": "stdout",
       "text": [
        "56893.7889874 56893.8041221 "
       ]
      },
      {
       "output_type": "stream",
       "stream": "stdout",
       "text": [
        "56894.7584364 56894.7732268 "
       ]
      },
      {
       "output_type": "stream",
       "stream": "stdout",
       "text": [
        "56894.7880043 \n",
        "Giant06"
       ]
      },
      {
       "output_type": "stream",
       "stream": "stdout",
       "text": [
        "\n",
        "WL aligned"
       ]
      },
      {
       "output_type": "stream",
       "stream": "stdout",
       "text": [
        "\n",
        "WL aligned\n",
        "WL aligned\n",
        "WL aligned\n",
        "56889.7312269 "
       ]
      },
      {
       "output_type": "stream",
       "stream": "stdout",
       "text": [
        "56889.7409558 56889.7558863 "
       ]
      },
      {
       "output_type": "stream",
       "stream": "stdout",
       "text": [
        "56890.7344779 56890.7561996 "
       ]
      },
      {
       "output_type": "stream",
       "stream": "stdout",
       "text": [
        "56890.7779248 "
       ]
      },
      {
       "output_type": "stream",
       "stream": "stdout",
       "text": [
        "56891.7214011 "
       ]
      },
      {
       "output_type": "stream",
       "stream": "stdout",
       "text": [
        "56891.7361919 "
       ]
      },
      {
       "output_type": "stream",
       "stream": "stdout",
       "text": [
        "56891.7509697 "
       ]
      },
      {
       "output_type": "stream",
       "stream": "stdout",
       "text": [
        "56893.7742145 "
       ]
      },
      {
       "output_type": "stream",
       "stream": "stdout",
       "text": [
        "56893.7889874 "
       ]
      },
      {
       "output_type": "stream",
       "stream": "stdout",
       "text": [
        "56893.8041221 "
       ]
      },
      {
       "output_type": "stream",
       "stream": "stdout",
       "text": [
        "56894.7584364 56894.7732268 "
       ]
      },
      {
       "output_type": "stream",
       "stream": "stdout",
       "text": [
        "56894.7880043 \n",
        "56889.7312269"
       ]
      },
      {
       "output_type": "stream",
       "stream": "stdout",
       "text": [
        " 56889.7409558 56889.7558863 "
       ]
      },
      {
       "output_type": "stream",
       "stream": "stdout",
       "text": [
        "56890.7344779 "
       ]
      },
      {
       "output_type": "stream",
       "stream": "stdout",
       "text": [
        "56890.7561996 "
       ]
      },
      {
       "output_type": "stream",
       "stream": "stdout",
       "text": [
        "56890.7779248 56891.7214011 "
       ]
      },
      {
       "output_type": "stream",
       "stream": "stdout",
       "text": [
        "56891.7361919 56891.7509697 "
       ]
      },
      {
       "output_type": "stream",
       "stream": "stdout",
       "text": [
        "56893.7742145 56893.7889874 "
       ]
      },
      {
       "output_type": "stream",
       "stream": "stdout",
       "text": [
        "56893.8041221 "
       ]
      },
      {
       "output_type": "stream",
       "stream": "stdout",
       "text": [
        "56894.7584364 56894.7732268 "
       ]
      },
      {
       "output_type": "stream",
       "stream": "stdout",
       "text": [
        "56894.7880043 \n",
        "56889.7312269"
       ]
      },
      {
       "output_type": "stream",
       "stream": "stdout",
       "text": [
        " 56889.7409558 56889.7558863 "
       ]
      },
      {
       "output_type": "stream",
       "stream": "stdout",
       "text": [
        "56890.7344779 "
       ]
      },
      {
       "output_type": "stream",
       "stream": "stdout",
       "text": [
        "56890.7561996 56890.7779248 "
       ]
      },
      {
       "output_type": "stream",
       "stream": "stdout",
       "text": [
        "56891.7214011 "
       ]
      },
      {
       "output_type": "stream",
       "stream": "stdout",
       "text": [
        "56891.7361919 56891.7509697 "
       ]
      },
      {
       "output_type": "stream",
       "stream": "stdout",
       "text": [
        "56893.7742145 "
       ]
      },
      {
       "output_type": "stream",
       "stream": "stdout",
       "text": [
        "56893.7889874 56893.8041221 "
       ]
      },
      {
       "output_type": "stream",
       "stream": "stdout",
       "text": [
        "56894.7584364 56894.7732268 "
       ]
      },
      {
       "output_type": "stream",
       "stream": "stdout",
       "text": [
        "56894.7880043 \n",
        "56889.7312269"
       ]
      },
      {
       "output_type": "stream",
       "stream": "stdout",
       "text": [
        " 56889.7409558 56889.7558863 "
       ]
      },
      {
       "output_type": "stream",
       "stream": "stdout",
       "text": [
        "56890.7344779 "
       ]
      },
      {
       "output_type": "stream",
       "stream": "stdout",
       "text": [
        "56890.7561996 "
       ]
      },
      {
       "output_type": "stream",
       "stream": "stdout",
       "text": [
        "56890.7779248 56891.7214011 "
       ]
      },
      {
       "output_type": "stream",
       "stream": "stdout",
       "text": [
        "56891.7361919 "
       ]
      },
      {
       "output_type": "stream",
       "stream": "stdout",
       "text": [
        "56891.7509697 "
       ]
      },
      {
       "output_type": "stream",
       "stream": "stdout",
       "text": [
        "56893.7742145 56893.7889874 "
       ]
      },
      {
       "output_type": "stream",
       "stream": "stdout",
       "text": [
        "56893.8041221 56894.7584364 "
       ]
      },
      {
       "output_type": "stream",
       "stream": "stdout",
       "text": [
        "56894.7732268 56894.7880043 "
       ]
      },
      {
       "output_type": "stream",
       "stream": "stdout",
       "text": [
        "\n",
        "Field09"
       ]
      },
      {
       "output_type": "stream",
       "stream": "stdout",
       "text": [
        "\n",
        "WL aligned"
       ]
      },
      {
       "output_type": "stream",
       "stream": "stdout",
       "text": [
        "\n",
        "WL aligned\n",
        "WL aligned\n",
        "WL aligned\n",
        "56889.7312269 "
       ]
      },
      {
       "output_type": "stream",
       "stream": "stdout",
       "text": [
        "56889.7409558 56889.7558863 "
       ]
      },
      {
       "output_type": "stream",
       "stream": "stdout",
       "text": [
        "56890.7344779 56890.7561996 "
       ]
      },
      {
       "output_type": "stream",
       "stream": "stdout",
       "text": [
        "56890.7779248 "
       ]
      },
      {
       "output_type": "stream",
       "stream": "stdout",
       "text": [
        "56891.7214011 "
       ]
      },
      {
       "output_type": "stream",
       "stream": "stdout",
       "text": [
        "56891.7361919 "
       ]
      },
      {
       "output_type": "stream",
       "stream": "stdout",
       "text": [
        "56891.7509697 "
       ]
      },
      {
       "output_type": "stream",
       "stream": "stdout",
       "text": [
        "56893.7742145 "
       ]
      },
      {
       "output_type": "stream",
       "stream": "stdout",
       "text": [
        "56893.7889874 56893.8041221 "
       ]
      },
      {
       "output_type": "stream",
       "stream": "stdout",
       "text": [
        "56894.7584364 56894.7732268 "
       ]
      },
      {
       "output_type": "stream",
       "stream": "stdout",
       "text": [
        "56894.7880043 "
       ]
      },
      {
       "output_type": "stream",
       "stream": "stdout",
       "text": [
        "\n",
        "56889.7312269 "
       ]
      },
      {
       "output_type": "stream",
       "stream": "stdout",
       "text": [
        "56889.7409558 56889.7558863 "
       ]
      },
      {
       "output_type": "stream",
       "stream": "stdout",
       "text": [
        "56890.7344779 "
       ]
      },
      {
       "output_type": "stream",
       "stream": "stdout",
       "text": [
        "56890.7561996 "
       ]
      },
      {
       "output_type": "stream",
       "stream": "stdout",
       "text": [
        "56890.7779248 56891.7214011 "
       ]
      },
      {
       "output_type": "stream",
       "stream": "stdout",
       "text": [
        "56891.7361919 56891.7509697 "
       ]
      },
      {
       "output_type": "stream",
       "stream": "stdout",
       "text": [
        "56893.7742145 56893.7889874 "
       ]
      },
      {
       "output_type": "stream",
       "stream": "stdout",
       "text": [
        "56893.8041221 "
       ]
      },
      {
       "output_type": "stream",
       "stream": "stdout",
       "text": [
        "56894.7584364 56894.7732268 "
       ]
      },
      {
       "output_type": "stream",
       "stream": "stdout",
       "text": [
        "56894.7880043 \n",
        "56889.7312269"
       ]
      },
      {
       "output_type": "stream",
       "stream": "stdout",
       "text": [
        " 56889.7409558 56889.7558863 "
       ]
      },
      {
       "output_type": "stream",
       "stream": "stdout",
       "text": [
        "56890.7344779 56890.7561996 "
       ]
      },
      {
       "output_type": "stream",
       "stream": "stdout",
       "text": [
        "56890.7779248 56891.7214011 "
       ]
      },
      {
       "output_type": "stream",
       "stream": "stdout",
       "text": [
        "56891.7361919 "
       ]
      },
      {
       "output_type": "stream",
       "stream": "stdout",
       "text": [
        "56891.7509697 56893.7742145 "
       ]
      },
      {
       "output_type": "stream",
       "stream": "stdout",
       "text": [
        "56893.7889874 "
       ]
      },
      {
       "output_type": "stream",
       "stream": "stdout",
       "text": [
        "56893.8041221 56894.7584364 "
       ]
      },
      {
       "output_type": "stream",
       "stream": "stdout",
       "text": [
        "56894.7732268 56894.7880043 "
       ]
      },
      {
       "output_type": "stream",
       "stream": "stdout",
       "text": [
        "\n",
        "56889.7312269 56889.7409558 "
       ]
      },
      {
       "output_type": "stream",
       "stream": "stdout",
       "text": [
        "56889.7558863 56890.7344779 "
       ]
      },
      {
       "output_type": "stream",
       "stream": "stdout",
       "text": [
        "56890.7561996 56890.7779248 "
       ]
      },
      {
       "output_type": "stream",
       "stream": "stdout",
       "text": [
        "56891.7214011 56891.7361919 "
       ]
      },
      {
       "output_type": "stream",
       "stream": "stdout",
       "text": [
        "56891.7509697 56893.7742145 "
       ]
      },
      {
       "output_type": "stream",
       "stream": "stdout",
       "text": [
        "56893.7889874 56893.8041221 "
       ]
      },
      {
       "output_type": "stream",
       "stream": "stdout",
       "text": [
        "56894.7584364 56894.7732268 "
       ]
      },
      {
       "output_type": "stream",
       "stream": "stdout",
       "text": [
        "56894.7880043 \n",
        "Giant32"
       ]
      },
      {
       "output_type": "stream",
       "stream": "stdout",
       "text": [
        "\n",
        "WL aligned"
       ]
      },
      {
       "output_type": "stream",
       "stream": "stdout",
       "text": [
        "\n",
        "WL aligned\n",
        "WL aligned\n",
        "WL aligned\n",
        "56889.7312269 "
       ]
      },
      {
       "output_type": "stream",
       "stream": "stdout",
       "text": [
        "56889.7409558 56889.7558863 "
       ]
      },
      {
       "output_type": "stream",
       "stream": "stdout",
       "text": [
        "56890.7344779 56890.7561996 "
       ]
      },
      {
       "output_type": "stream",
       "stream": "stdout",
       "text": [
        "56890.7779248 56891.7214011 "
       ]
      },
      {
       "output_type": "stream",
       "stream": "stdout",
       "text": [
        "56891.7361919 "
       ]
      },
      {
       "output_type": "stream",
       "stream": "stdout",
       "text": [
        "56891.7509697 "
       ]
      },
      {
       "output_type": "stream",
       "stream": "stdout",
       "text": [
        "56893.7742145 "
       ]
      },
      {
       "output_type": "stream",
       "stream": "stdout",
       "text": [
        "56893.7889874 56893.8041221 "
       ]
      },
      {
       "output_type": "stream",
       "stream": "stdout",
       "text": [
        "56894.7584364 56894.7732268 "
       ]
      },
      {
       "output_type": "stream",
       "stream": "stdout",
       "text": [
        "56894.7880043 \n",
        "56889.7312269"
       ]
      },
      {
       "output_type": "stream",
       "stream": "stdout",
       "text": [
        " 56889.7409558 56889.7558863 "
       ]
      },
      {
       "output_type": "stream",
       "stream": "stdout",
       "text": [
        "56890.7344779 56890.7561996 "
       ]
      },
      {
       "output_type": "stream",
       "stream": "stdout",
       "text": [
        "56890.7779248 56891.7214011 "
       ]
      },
      {
       "output_type": "stream",
       "stream": "stdout",
       "text": [
        "56891.7361919 56891.7509697 "
       ]
      },
      {
       "output_type": "stream",
       "stream": "stdout",
       "text": [
        "56893.7742145 56893.7889874 "
       ]
      },
      {
       "output_type": "stream",
       "stream": "stdout",
       "text": [
        "56893.8041221 "
       ]
      },
      {
       "output_type": "stream",
       "stream": "stdout",
       "text": [
        "56894.7584364 56894.7732268 "
       ]
      },
      {
       "output_type": "stream",
       "stream": "stdout",
       "text": [
        "56894.7880043 \n",
        "56889.7312269"
       ]
      },
      {
       "output_type": "stream",
       "stream": "stdout",
       "text": [
        " 56889.7409558 56889.7558863 "
       ]
      },
      {
       "output_type": "stream",
       "stream": "stdout",
       "text": [
        "56890.7344779 "
       ]
      },
      {
       "output_type": "stream",
       "stream": "stdout",
       "text": [
        "56890.7561996 "
       ]
      },
      {
       "output_type": "stream",
       "stream": "stdout",
       "text": [
        "56890.7779248 56891.7214011 "
       ]
      },
      {
       "output_type": "stream",
       "stream": "stdout",
       "text": [
        "56891.7361919 "
       ]
      },
      {
       "output_type": "stream",
       "stream": "stdout",
       "text": [
        "56891.7509697 "
       ]
      },
      {
       "output_type": "stream",
       "stream": "stdout",
       "text": [
        "56893.7742145 56893.7889874 "
       ]
      },
      {
       "output_type": "stream",
       "stream": "stdout",
       "text": [
        "56893.8041221 56894.7584364 "
       ]
      },
      {
       "output_type": "stream",
       "stream": "stdout",
       "text": [
        "56894.7732268 56894.7880043 "
       ]
      },
      {
       "output_type": "stream",
       "stream": "stdout",
       "text": [
        "\n",
        "56889.7312269 "
       ]
      },
      {
       "output_type": "stream",
       "stream": "stdout",
       "text": [
        "56889.7409558 56889.7558863 "
       ]
      },
      {
       "output_type": "stream",
       "stream": "stdout",
       "text": [
        "56890.7344779 56890.7561996 "
       ]
      },
      {
       "output_type": "stream",
       "stream": "stdout",
       "text": [
        "56890.7779248 56891.7214011 "
       ]
      },
      {
       "output_type": "stream",
       "stream": "stdout",
       "text": [
        "56891.7361919 56891.7509697 "
       ]
      },
      {
       "output_type": "stream",
       "stream": "stdout",
       "text": [
        "56893.7742145 56893.7889874 "
       ]
      },
      {
       "output_type": "stream",
       "stream": "stdout",
       "text": [
        "56893.8041221 56894.7584364 "
       ]
      },
      {
       "output_type": "stream",
       "stream": "stdout",
       "text": [
        "56894.7732268 56894.7880043 "
       ]
      },
      {
       "output_type": "stream",
       "stream": "stdout",
       "text": [
        "\n",
        "Field17"
       ]
      },
      {
       "output_type": "stream",
       "stream": "stdout",
       "text": [
        "\n",
        "WL aligned"
       ]
      },
      {
       "output_type": "stream",
       "stream": "stdout",
       "text": [
        "\n",
        "WL aligned\n",
        "WL aligned\n",
        "WL aligned\n",
        "56889.7312269 "
       ]
      },
      {
       "output_type": "stream",
       "stream": "stdout",
       "text": [
        "56889.7409558 56889.7558863 "
       ]
      },
      {
       "output_type": "stream",
       "stream": "stdout",
       "text": [
        "56890.7344779 56890.7561996 "
       ]
      },
      {
       "output_type": "stream",
       "stream": "stdout",
       "text": [
        "56890.7779248 "
       ]
      },
      {
       "output_type": "stream",
       "stream": "stdout",
       "text": [
        "56891.7214011 "
       ]
      },
      {
       "output_type": "stream",
       "stream": "stdout",
       "text": [
        "56891.7361919 "
       ]
      },
      {
       "output_type": "stream",
       "stream": "stdout",
       "text": [
        "56891.7509697 "
       ]
      },
      {
       "output_type": "stream",
       "stream": "stdout",
       "text": [
        "56893.7742145 56893.7889874 "
       ]
      },
      {
       "output_type": "stream",
       "stream": "stdout",
       "text": [
        "56893.8041221 "
       ]
      },
      {
       "output_type": "stream",
       "stream": "stdout",
       "text": [
        "56894.7584364 "
       ]
      },
      {
       "output_type": "stream",
       "stream": "stdout",
       "text": [
        "56894.7732268 "
       ]
      },
      {
       "output_type": "stream",
       "stream": "stdout",
       "text": [
        "56894.7880043 "
       ]
      },
      {
       "output_type": "stream",
       "stream": "stdout",
       "text": [
        "\n",
        "56889.7312269 "
       ]
      },
      {
       "output_type": "stream",
       "stream": "stdout",
       "text": [
        "56889.7409558 56889.7558863 "
       ]
      },
      {
       "output_type": "stream",
       "stream": "stdout",
       "text": [
        "56890.7344779 56890.7561996 "
       ]
      },
      {
       "output_type": "stream",
       "stream": "stdout",
       "text": [
        "56890.7779248 56891.7214011 "
       ]
      },
      {
       "output_type": "stream",
       "stream": "stdout",
       "text": [
        "56891.7361919 56891.7509697 "
       ]
      },
      {
       "output_type": "stream",
       "stream": "stdout",
       "text": [
        "56893.7742145 "
       ]
      },
      {
       "output_type": "stream",
       "stream": "stdout",
       "text": [
        "56893.7889874 "
       ]
      },
      {
       "output_type": "stream",
       "stream": "stdout",
       "text": [
        "56893.8041221 "
       ]
      },
      {
       "output_type": "stream",
       "stream": "stdout",
       "text": [
        "56894.7584364 56894.7732268 "
       ]
      },
      {
       "output_type": "stream",
       "stream": "stdout",
       "text": [
        "56894.7880043 "
       ]
      },
      {
       "output_type": "stream",
       "stream": "stdout",
       "text": [
        "\n",
        "56889.7312269 "
       ]
      },
      {
       "output_type": "stream",
       "stream": "stdout",
       "text": [
        "56889.7409558 "
       ]
      },
      {
       "output_type": "stream",
       "stream": "stdout",
       "text": [
        "56889.7558863 56890.7344779 "
       ]
      },
      {
       "output_type": "stream",
       "stream": "stdout",
       "text": [
        "56890.7561996 56890.7779248 "
       ]
      },
      {
       "output_type": "stream",
       "stream": "stdout",
       "text": [
        "56891.7214011 56891.7361919 "
       ]
      },
      {
       "output_type": "stream",
       "stream": "stdout",
       "text": [
        "56891.7509697 "
       ]
      },
      {
       "output_type": "stream",
       "stream": "stdout",
       "text": [
        "56893.7742145 "
       ]
      },
      {
       "output_type": "stream",
       "stream": "stdout",
       "text": [
        "56893.7889874 56893.8041221 "
       ]
      },
      {
       "output_type": "stream",
       "stream": "stdout",
       "text": [
        "56894.7584364 56894.7732268 "
       ]
      },
      {
       "output_type": "stream",
       "stream": "stdout",
       "text": [
        "56894.7880043 \n",
        "56889.7312269"
       ]
      },
      {
       "output_type": "stream",
       "stream": "stdout",
       "text": [
        " 56889.7409558 "
       ]
      },
      {
       "output_type": "stream",
       "stream": "stdout",
       "text": [
        "56889.7558863 "
       ]
      },
      {
       "output_type": "stream",
       "stream": "stdout",
       "text": [
        "56890.7344779 "
       ]
      },
      {
       "output_type": "stream",
       "stream": "stdout",
       "text": [
        "56890.7561996 "
       ]
      },
      {
       "output_type": "stream",
       "stream": "stdout",
       "text": [
        "56890.7779248 56891.7214011 "
       ]
      },
      {
       "output_type": "stream",
       "stream": "stdout",
       "text": [
        "56891.7361919 "
       ]
      },
      {
       "output_type": "stream",
       "stream": "stdout",
       "text": [
        "56891.7509697 "
       ]
      },
      {
       "output_type": "stream",
       "stream": "stdout",
       "text": [
        "56893.7742145 "
       ]
      },
      {
       "output_type": "stream",
       "stream": "stdout",
       "text": [
        "56893.7889874 56893.8041221 "
       ]
      },
      {
       "output_type": "stream",
       "stream": "stdout",
       "text": [
        "56894.7584364 56894.7732268 "
       ]
      },
      {
       "output_type": "stream",
       "stream": "stdout",
       "text": [
        "56894.7880043 \n",
        "Field30"
       ]
      },
      {
       "output_type": "stream",
       "stream": "stdout",
       "text": [
        "\n",
        "WL aligned"
       ]
      },
      {
       "output_type": "stream",
       "stream": "stdout",
       "text": [
        "\n",
        "WL aligned\n",
        "WL aligned\n",
        "WL aligned\n",
        "56889.7312269 "
       ]
      },
      {
       "output_type": "stream",
       "stream": "stdout",
       "text": [
        "56889.7409558 56889.7558863 "
       ]
      },
      {
       "output_type": "stream",
       "stream": "stdout",
       "text": [
        "56890.7344779 56890.7561996 "
       ]
      },
      {
       "output_type": "stream",
       "stream": "stdout",
       "text": [
        "56890.7779248 56891.7214011 "
       ]
      },
      {
       "output_type": "stream",
       "stream": "stdout",
       "text": [
        "56891.7361919 "
       ]
      },
      {
       "output_type": "stream",
       "stream": "stdout",
       "text": [
        "56891.7509697 "
       ]
      },
      {
       "output_type": "stream",
       "stream": "stdout",
       "text": [
        "56893.7742145 "
       ]
      },
      {
       "output_type": "stream",
       "stream": "stdout",
       "text": [
        "56893.7889874 "
       ]
      },
      {
       "output_type": "stream",
       "stream": "stdout",
       "text": [
        "56893.8041221 "
       ]
      },
      {
       "output_type": "stream",
       "stream": "stdout",
       "text": [
        "56894.7584364 "
       ]
      },
      {
       "output_type": "stream",
       "stream": "stdout",
       "text": [
        "56894.7732268 "
       ]
      },
      {
       "output_type": "stream",
       "stream": "stdout",
       "text": [
        "56894.7880043 "
       ]
      },
      {
       "output_type": "stream",
       "stream": "stdout",
       "text": [
        "\n",
        "56889.7312269 "
       ]
      },
      {
       "output_type": "stream",
       "stream": "stdout",
       "text": [
        "56889.7409558 56889.7558863 "
       ]
      },
      {
       "output_type": "stream",
       "stream": "stdout",
       "text": [
        "56890.7344779 56890.7561996 "
       ]
      },
      {
       "output_type": "stream",
       "stream": "stdout",
       "text": [
        "56890.7779248 56891.7214011 "
       ]
      },
      {
       "output_type": "stream",
       "stream": "stdout",
       "text": [
        "56891.7361919 "
       ]
      },
      {
       "output_type": "stream",
       "stream": "stdout",
       "text": [
        "56891.7509697 56893.7742145 "
       ]
      },
      {
       "output_type": "stream",
       "stream": "stdout",
       "text": [
        "56893.7889874 "
       ]
      },
      {
       "output_type": "stream",
       "stream": "stdout",
       "text": [
        "56893.8041221 56894.7584364 "
       ]
      },
      {
       "output_type": "stream",
       "stream": "stdout",
       "text": [
        "56894.7732268 "
       ]
      },
      {
       "output_type": "stream",
       "stream": "stdout",
       "text": [
        "56894.7880043 "
       ]
      },
      {
       "output_type": "stream",
       "stream": "stdout",
       "text": [
        "\n",
        "56889.7312269 "
       ]
      },
      {
       "output_type": "stream",
       "stream": "stdout",
       "text": [
        "56889.7409558 56889.7558863 "
       ]
      },
      {
       "output_type": "stream",
       "stream": "stdout",
       "text": [
        "56890.7344779 "
       ]
      },
      {
       "output_type": "stream",
       "stream": "stdout",
       "text": [
        "56890.7561996 "
       ]
      },
      {
       "output_type": "stream",
       "stream": "stdout",
       "text": [
        "56890.7779248 "
       ]
      },
      {
       "output_type": "stream",
       "stream": "stdout",
       "text": [
        "56891.7214011 56891.7361919 "
       ]
      },
      {
       "output_type": "stream",
       "stream": "stdout",
       "text": [
        "56891.7509697 56893.7742145 "
       ]
      },
      {
       "output_type": "stream",
       "stream": "stdout",
       "text": [
        "56893.7889874 "
       ]
      },
      {
       "output_type": "stream",
       "stream": "stdout",
       "text": [
        "56893.8041221 "
       ]
      },
      {
       "output_type": "stream",
       "stream": "stdout",
       "text": [
        "56894.7584364 "
       ]
      },
      {
       "output_type": "stream",
       "stream": "stdout",
       "text": [
        "56894.7732268 "
       ]
      },
      {
       "output_type": "stream",
       "stream": "stdout",
       "text": [
        "56894.7880043 "
       ]
      },
      {
       "output_type": "stream",
       "stream": "stdout",
       "text": [
        "\n",
        "56889.7312269 "
       ]
      },
      {
       "output_type": "stream",
       "stream": "stdout",
       "text": [
        "56889.7409558 "
       ]
      },
      {
       "output_type": "stream",
       "stream": "stdout",
       "text": [
        "56889.7558863 56890.7344779 "
       ]
      },
      {
       "output_type": "stream",
       "stream": "stdout",
       "text": [
        "56890.7561996 56890.7779248 "
       ]
      },
      {
       "output_type": "stream",
       "stream": "stdout",
       "text": [
        "56891.7214011 56891.7361919 "
       ]
      },
      {
       "output_type": "stream",
       "stream": "stdout",
       "text": [
        "56891.7509697 "
       ]
      },
      {
       "output_type": "stream",
       "stream": "stdout",
       "text": [
        "56893.7742145 56893.7889874 "
       ]
      },
      {
       "output_type": "stream",
       "stream": "stdout",
       "text": [
        "56893.8041221 56894.7584364 "
       ]
      },
      {
       "output_type": "stream",
       "stream": "stdout",
       "text": [
        "56894.7732268 56894.7880043 "
       ]
      },
      {
       "output_type": "stream",
       "stream": "stdout",
       "text": [
        "\n",
        "Field12"
       ]
      },
      {
       "output_type": "stream",
       "stream": "stdout",
       "text": [
        "\n",
        "WL aligned"
       ]
      },
      {
       "output_type": "stream",
       "stream": "stdout",
       "text": [
        "\n",
        "WL aligned\n",
        "WL aligned\n",
        "WL aligned\n",
        "56889.7312269 "
       ]
      },
      {
       "output_type": "stream",
       "stream": "stdout",
       "text": [
        "56889.7409558 56889.7558863 "
       ]
      },
      {
       "output_type": "stream",
       "stream": "stdout",
       "text": [
        "56890.7344779 56890.7561996 "
       ]
      },
      {
       "output_type": "stream",
       "stream": "stdout",
       "text": [
        "56890.7779248 56891.7214011 "
       ]
      },
      {
       "output_type": "stream",
       "stream": "stdout",
       "text": [
        "56891.7361919 "
       ]
      },
      {
       "output_type": "stream",
       "stream": "stdout",
       "text": [
        "56891.7509697 56893.7742145 "
       ]
      },
      {
       "output_type": "stream",
       "stream": "stdout",
       "text": [
        "56893.7889874 "
       ]
      },
      {
       "output_type": "stream",
       "stream": "stdout",
       "text": [
        "56893.8041221 56894.7584364 "
       ]
      },
      {
       "output_type": "stream",
       "stream": "stdout",
       "text": [
        "56894.7732268 56894.7880043 "
       ]
      },
      {
       "output_type": "stream",
       "stream": "stdout",
       "text": [
        "\n",
        "56889.7312269 "
       ]
      },
      {
       "output_type": "stream",
       "stream": "stdout",
       "text": [
        "56889.7409558 "
       ]
      },
      {
       "output_type": "stream",
       "stream": "stdout",
       "text": [
        "56889.7558863 "
       ]
      },
      {
       "output_type": "stream",
       "stream": "stdout",
       "text": [
        "56890.7344779 56890.7561996 "
       ]
      },
      {
       "output_type": "stream",
       "stream": "stdout",
       "text": [
        "56890.7779248 "
       ]
      },
      {
       "output_type": "stream",
       "stream": "stdout",
       "text": [
        "56891.7214011 56891.7361919 "
       ]
      },
      {
       "output_type": "stream",
       "stream": "stdout",
       "text": [
        "56891.7509697 "
       ]
      },
      {
       "output_type": "stream",
       "stream": "stdout",
       "text": [
        "56893.7742145 56893.7889874 "
       ]
      },
      {
       "output_type": "stream",
       "stream": "stdout",
       "text": [
        "56893.8041221 56894.7584364 "
       ]
      },
      {
       "output_type": "stream",
       "stream": "stdout",
       "text": [
        "56894.7732268 "
       ]
      },
      {
       "output_type": "stream",
       "stream": "stdout",
       "text": [
        "56894.7880043 "
       ]
      },
      {
       "output_type": "stream",
       "stream": "stdout",
       "text": [
        "\n",
        "56889.7312269 "
       ]
      },
      {
       "output_type": "stream",
       "stream": "stdout",
       "text": [
        "56889.7409558 56889.7558863 "
       ]
      },
      {
       "output_type": "stream",
       "stream": "stdout",
       "text": [
        "56890.7344779 56890.7561996 "
       ]
      },
      {
       "output_type": "stream",
       "stream": "stdout",
       "text": [
        "56890.7779248 56891.7214011 "
       ]
      },
      {
       "output_type": "stream",
       "stream": "stdout",
       "text": [
        "56891.7361919 56891.7509697 "
       ]
      },
      {
       "output_type": "stream",
       "stream": "stdout",
       "text": [
        "56893.7742145 "
       ]
      },
      {
       "output_type": "stream",
       "stream": "stdout",
       "text": [
        "56893.7889874 "
       ]
      },
      {
       "output_type": "stream",
       "stream": "stdout",
       "text": [
        "56893.8041221 56894.7584364 "
       ]
      },
      {
       "output_type": "stream",
       "stream": "stdout",
       "text": [
        "56894.7732268 "
       ]
      },
      {
       "output_type": "stream",
       "stream": "stdout",
       "text": [
        "56894.7880043 "
       ]
      },
      {
       "output_type": "stream",
       "stream": "stdout",
       "text": [
        "\n",
        "56889.7312269 "
       ]
      },
      {
       "output_type": "stream",
       "stream": "stdout",
       "text": [
        "56889.7409558 "
       ]
      },
      {
       "output_type": "stream",
       "stream": "stdout",
       "text": [
        "56889.7558863 "
       ]
      },
      {
       "output_type": "stream",
       "stream": "stdout",
       "text": [
        "56890.7344779 "
       ]
      },
      {
       "output_type": "stream",
       "stream": "stdout",
       "text": [
        "56890.7561996 "
       ]
      },
      {
       "output_type": "stream",
       "stream": "stdout",
       "text": [
        "56890.7779248 "
       ]
      },
      {
       "output_type": "stream",
       "stream": "stdout",
       "text": [
        "56891.7214011 56891.7361919 "
       ]
      },
      {
       "output_type": "stream",
       "stream": "stdout",
       "text": [
        "56891.7509697 "
       ]
      },
      {
       "output_type": "stream",
       "stream": "stdout",
       "text": [
        "56893.7742145 56893.7889874 "
       ]
      },
      {
       "output_type": "stream",
       "stream": "stdout",
       "text": [
        "56893.8041221 "
       ]
      },
      {
       "output_type": "stream",
       "stream": "stdout",
       "text": [
        "56894.7584364 "
       ]
      },
      {
       "output_type": "stream",
       "stream": "stdout",
       "text": [
        "56894.7732268 "
       ]
      },
      {
       "output_type": "stream",
       "stream": "stdout",
       "text": [
        "56894.7880043 "
       ]
      },
      {
       "output_type": "stream",
       "stream": "stdout",
       "text": [
        "\n",
        "Field27"
       ]
      },
      {
       "output_type": "stream",
       "stream": "stdout",
       "text": [
        "\n",
        "WL aligned"
       ]
      },
      {
       "output_type": "stream",
       "stream": "stdout",
       "text": [
        "\n",
        "WL aligned\n",
        "WL aligned\n",
        "WL aligned\n",
        "56889.7312269 "
       ]
      },
      {
       "output_type": "stream",
       "stream": "stdout",
       "text": [
        "56889.7409558 56889.7558863 "
       ]
      },
      {
       "output_type": "stream",
       "stream": "stdout",
       "text": [
        "56890.7344779 "
       ]
      },
      {
       "output_type": "stream",
       "stream": "stdout",
       "text": [
        "56890.7561996 56890.7779248 "
       ]
      },
      {
       "output_type": "stream",
       "stream": "stdout",
       "text": [
        "56891.7214011 "
       ]
      },
      {
       "output_type": "stream",
       "stream": "stdout",
       "text": [
        "56891.7361919 "
       ]
      },
      {
       "output_type": "stream",
       "stream": "stdout",
       "text": [
        "56891.7509697 "
       ]
      },
      {
       "output_type": "stream",
       "stream": "stdout",
       "text": [
        "56893.7742145 56893.7889874 "
       ]
      },
      {
       "output_type": "stream",
       "stream": "stdout",
       "text": [
        "56893.8041221 "
       ]
      },
      {
       "output_type": "stream",
       "stream": "stdout",
       "text": [
        "56894.7584364 56894.7732268 "
       ]
      },
      {
       "output_type": "stream",
       "stream": "stdout",
       "text": [
        "56894.7880043 \n",
        "56889.7312269"
       ]
      },
      {
       "output_type": "stream",
       "stream": "stdout",
       "text": [
        " 56889.7409558 56889.7558863 "
       ]
      },
      {
       "output_type": "stream",
       "stream": "stdout",
       "text": [
        "56890.7344779 "
       ]
      },
      {
       "output_type": "stream",
       "stream": "stdout",
       "text": [
        "56890.7561996 "
       ]
      },
      {
       "output_type": "stream",
       "stream": "stdout",
       "text": [
        "56890.7779248 56891.7214011 "
       ]
      },
      {
       "output_type": "stream",
       "stream": "stdout",
       "text": [
        "56891.7361919 "
       ]
      },
      {
       "output_type": "stream",
       "stream": "stdout",
       "text": [
        "56891.7509697 "
       ]
      },
      {
       "output_type": "stream",
       "stream": "stdout",
       "text": [
        "56893.7742145 56893.7889874 "
       ]
      },
      {
       "output_type": "stream",
       "stream": "stdout",
       "text": [
        "56893.8041221 "
       ]
      },
      {
       "output_type": "stream",
       "stream": "stdout",
       "text": [
        "56894.7584364 "
       ]
      },
      {
       "output_type": "stream",
       "stream": "stdout",
       "text": [
        "56894.7732268 "
       ]
      },
      {
       "output_type": "stream",
       "stream": "stdout",
       "text": [
        "56894.7880043 \n",
        "56889.7312269"
       ]
      },
      {
       "output_type": "stream",
       "stream": "stdout",
       "text": [
        " 56889.7409558 56889.7558863 "
       ]
      },
      {
       "output_type": "stream",
       "stream": "stdout",
       "text": [
        "56890.7344779 56890.7561996 "
       ]
      },
      {
       "output_type": "stream",
       "stream": "stdout",
       "text": [
        "56890.7779248 "
       ]
      },
      {
       "output_type": "stream",
       "stream": "stdout",
       "text": [
        "56891.7214011 56891.7361919 "
       ]
      },
      {
       "output_type": "stream",
       "stream": "stdout",
       "text": [
        "56891.7509697 "
       ]
      },
      {
       "output_type": "stream",
       "stream": "stdout",
       "text": [
        "56893.7742145 56893.7889874 "
       ]
      },
      {
       "output_type": "stream",
       "stream": "stdout",
       "text": [
        "56893.8041221 56894.7584364 "
       ]
      },
      {
       "output_type": "stream",
       "stream": "stdout",
       "text": [
        "56894.7732268 56894.7880043 "
       ]
      },
      {
       "output_type": "stream",
       "stream": "stdout",
       "text": [
        "\n",
        "56889.7312269 "
       ]
      },
      {
       "output_type": "stream",
       "stream": "stdout",
       "text": [
        "56889.7409558 "
       ]
      },
      {
       "output_type": "stream",
       "stream": "stdout",
       "text": [
        "56889.7558863 56890.7344779 "
       ]
      },
      {
       "output_type": "stream",
       "stream": "stdout",
       "text": [
        "56890.7561996 56890.7779248 "
       ]
      },
      {
       "output_type": "stream",
       "stream": "stdout",
       "text": [
        "56891.7214011 56891.7361919 "
       ]
      },
      {
       "output_type": "stream",
       "stream": "stdout",
       "text": [
        "56891.7509697 56893.7742145 "
       ]
      },
      {
       "output_type": "stream",
       "stream": "stdout",
       "text": [
        "56893.7889874 "
       ]
      },
      {
       "output_type": "stream",
       "stream": "stdout",
       "text": [
        "56893.8041221 56894.7584364 "
       ]
      },
      {
       "output_type": "stream",
       "stream": "stdout",
       "text": [
        "56894.7732268 56894.7880043 "
       ]
      },
      {
       "output_type": "stream",
       "stream": "stdout",
       "text": [
        "\n",
        "Giant22"
       ]
      },
      {
       "output_type": "stream",
       "stream": "stdout",
       "text": [
        "\n",
        "WL aligned"
       ]
      },
      {
       "output_type": "stream",
       "stream": "stdout",
       "text": [
        "\n",
        "WL aligned\n",
        "WL aligned\n",
        "WL aligned\n",
        "56889.7312269 "
       ]
      },
      {
       "output_type": "stream",
       "stream": "stdout",
       "text": [
        "56889.7409558 56889.7558863 "
       ]
      },
      {
       "output_type": "stream",
       "stream": "stdout",
       "text": [
        "56890.7344779 "
       ]
      },
      {
       "output_type": "stream",
       "stream": "stdout",
       "text": [
        "56890.7561996 56890.7779248 "
       ]
      },
      {
       "output_type": "stream",
       "stream": "stdout",
       "text": [
        "56891.7214011 "
       ]
      },
      {
       "output_type": "stream",
       "stream": "stdout",
       "text": [
        "56891.7361919 "
       ]
      },
      {
       "output_type": "stream",
       "stream": "stdout",
       "text": [
        "56891.7509697 "
       ]
      },
      {
       "output_type": "stream",
       "stream": "stdout",
       "text": [
        "56893.7742145 "
       ]
      },
      {
       "output_type": "stream",
       "stream": "stdout",
       "text": [
        "56893.7889874 "
       ]
      },
      {
       "output_type": "stream",
       "stream": "stdout",
       "text": [
        "56893.8041221 "
       ]
      },
      {
       "output_type": "stream",
       "stream": "stdout",
       "text": [
        "56894.7584364 "
       ]
      },
      {
       "output_type": "stream",
       "stream": "stdout",
       "text": [
        "56894.7732268 "
       ]
      },
      {
       "output_type": "stream",
       "stream": "stdout",
       "text": [
        "56894.7880043 \n",
        "56889.7312269"
       ]
      },
      {
       "output_type": "stream",
       "stream": "stdout",
       "text": [
        " 56889.7409558 56889.7558863 "
       ]
      },
      {
       "output_type": "stream",
       "stream": "stdout",
       "text": [
        "56890.7344779 "
       ]
      },
      {
       "output_type": "stream",
       "stream": "stdout",
       "text": [
        "56890.7561996 "
       ]
      },
      {
       "output_type": "stream",
       "stream": "stdout",
       "text": [
        "56890.7779248 56891.7214011 "
       ]
      },
      {
       "output_type": "stream",
       "stream": "stdout",
       "text": [
        "56891.7361919 56891.7509697 "
       ]
      },
      {
       "output_type": "stream",
       "stream": "stdout",
       "text": [
        "56893.7742145 "
       ]
      },
      {
       "output_type": "stream",
       "stream": "stdout",
       "text": [
        "56893.7889874 "
       ]
      },
      {
       "output_type": "stream",
       "stream": "stdout",
       "text": [
        "56893.8041221 56894.7584364 "
       ]
      },
      {
       "output_type": "stream",
       "stream": "stdout",
       "text": [
        "56894.7732268 "
       ]
      },
      {
       "output_type": "stream",
       "stream": "stdout",
       "text": [
        "56894.7880043 \n",
        "56889.7312269"
       ]
      },
      {
       "output_type": "stream",
       "stream": "stdout",
       "text": [
        " 56889.7409558 56889.7558863 "
       ]
      },
      {
       "output_type": "stream",
       "stream": "stdout",
       "text": [
        "56890.7344779 56890.7561996 "
       ]
      },
      {
       "output_type": "stream",
       "stream": "stdout",
       "text": [
        "56890.7779248 56891.7214011 "
       ]
      },
      {
       "output_type": "stream",
       "stream": "stdout",
       "text": [
        "56891.7361919 "
       ]
      },
      {
       "output_type": "stream",
       "stream": "stdout",
       "text": [
        "56891.7509697 56893.7742145 "
       ]
      },
      {
       "output_type": "stream",
       "stream": "stdout",
       "text": [
        "56893.7889874 "
       ]
      },
      {
       "output_type": "stream",
       "stream": "stdout",
       "text": [
        "56893.8041221 "
       ]
      },
      {
       "output_type": "stream",
       "stream": "stdout",
       "text": [
        "56894.7584364 56894.7732268 "
       ]
      },
      {
       "output_type": "stream",
       "stream": "stdout",
       "text": [
        "56894.7880043 \n",
        "56889.7312269 "
       ]
      },
      {
       "output_type": "stream",
       "stream": "stdout",
       "text": [
        "56889.7409558 "
       ]
      },
      {
       "output_type": "stream",
       "stream": "stdout",
       "text": [
        "56889.7558863 "
       ]
      },
      {
       "output_type": "stream",
       "stream": "stdout",
       "text": [
        "56890.7344779 "
       ]
      },
      {
       "output_type": "stream",
       "stream": "stdout",
       "text": [
        "56890.7561996 "
       ]
      },
      {
       "output_type": "stream",
       "stream": "stdout",
       "text": [
        "56890.7779248 56891.7214011 "
       ]
      },
      {
       "output_type": "stream",
       "stream": "stdout",
       "text": [
        "56891.7361919 56891.7509697 "
       ]
      },
      {
       "output_type": "stream",
       "stream": "stdout",
       "text": [
        "56893.7742145 "
       ]
      },
      {
       "output_type": "stream",
       "stream": "stdout",
       "text": [
        "56893.7889874 56893.8041221 "
       ]
      },
      {
       "output_type": "stream",
       "stream": "stdout",
       "text": [
        "56894.7584364 56894.7732268 "
       ]
      },
      {
       "output_type": "stream",
       "stream": "stdout",
       "text": [
        "56894.7880043 "
       ]
      },
      {
       "output_type": "stream",
       "stream": "stdout",
       "text": [
        "\n",
        "Giant15"
       ]
      },
      {
       "output_type": "stream",
       "stream": "stdout",
       "text": [
        "\n",
        "WL aligned"
       ]
      },
      {
       "output_type": "stream",
       "stream": "stdout",
       "text": [
        "\n",
        "WL aligned\n",
        "WL aligned\n",
        "WL aligned\n",
        "56889.7312269 "
       ]
      },
      {
       "output_type": "stream",
       "stream": "stdout",
       "text": [
        "56889.7409558 "
       ]
      },
      {
       "output_type": "stream",
       "stream": "stdout",
       "text": [
        "56889.7558863 "
       ]
      },
      {
       "output_type": "stream",
       "stream": "stdout",
       "text": [
        "56890.7344779 "
       ]
      },
      {
       "output_type": "stream",
       "stream": "stdout",
       "text": [
        "56890.7561996 "
       ]
      },
      {
       "output_type": "stream",
       "stream": "stdout",
       "text": [
        "56890.7779248 "
       ]
      },
      {
       "output_type": "stream",
       "stream": "stdout",
       "text": [
        "56891.7214011 "
       ]
      },
      {
       "output_type": "stream",
       "stream": "stdout",
       "text": [
        "56891.7361919 "
       ]
      },
      {
       "output_type": "stream",
       "stream": "stdout",
       "text": [
        "56891.7509697 56893.7742145 "
       ]
      },
      {
       "output_type": "stream",
       "stream": "stdout",
       "text": [
        "56893.7889874 "
       ]
      },
      {
       "output_type": "stream",
       "stream": "stdout",
       "text": [
        "56893.8041221 "
       ]
      },
      {
       "output_type": "stream",
       "stream": "stdout",
       "text": [
        "56894.7584364 56894.7732268 "
       ]
      },
      {
       "output_type": "stream",
       "stream": "stdout",
       "text": [
        "56894.7880043 "
       ]
      },
      {
       "output_type": "stream",
       "stream": "stdout",
       "text": [
        "\n",
        "56889.7312269 "
       ]
      },
      {
       "output_type": "stream",
       "stream": "stdout",
       "text": [
        "56889.7409558 56889.7558863 "
       ]
      },
      {
       "output_type": "stream",
       "stream": "stdout",
       "text": [
        "56890.7344779 56890.7561996 "
       ]
      },
      {
       "output_type": "stream",
       "stream": "stdout",
       "text": [
        "56890.7779248 56891.7214011 "
       ]
      },
      {
       "output_type": "stream",
       "stream": "stdout",
       "text": [
        "56891.7361919 56891.7509697 "
       ]
      },
      {
       "output_type": "stream",
       "stream": "stdout",
       "text": [
        "56893.7742145 "
       ]
      },
      {
       "output_type": "stream",
       "stream": "stdout",
       "text": [
        "56893.7889874 "
       ]
      },
      {
       "output_type": "stream",
       "stream": "stdout",
       "text": [
        "56893.8041221 56894.7584364 "
       ]
      },
      {
       "output_type": "stream",
       "stream": "stdout",
       "text": [
        "56894.7732268 "
       ]
      },
      {
       "output_type": "stream",
       "stream": "stdout",
       "text": [
        "56894.7880043 "
       ]
      },
      {
       "output_type": "stream",
       "stream": "stdout",
       "text": [
        "\n",
        "56889.7312269 "
       ]
      },
      {
       "output_type": "stream",
       "stream": "stdout",
       "text": [
        "56889.7409558 "
       ]
      },
      {
       "output_type": "stream",
       "stream": "stdout",
       "text": [
        "56889.7558863 "
       ]
      },
      {
       "output_type": "stream",
       "stream": "stdout",
       "text": [
        "56890.7344779 56890.7561996 "
       ]
      },
      {
       "output_type": "stream",
       "stream": "stdout",
       "text": [
        "56890.7779248 "
       ]
      },
      {
       "output_type": "stream",
       "stream": "stdout",
       "text": [
        "56891.7214011 56891.7361919 "
       ]
      },
      {
       "output_type": "stream",
       "stream": "stdout",
       "text": [
        "56891.7509697 "
       ]
      },
      {
       "output_type": "stream",
       "stream": "stdout",
       "text": [
        "56893.7742145 "
       ]
      },
      {
       "output_type": "stream",
       "stream": "stdout",
       "text": [
        "56893.7889874 "
       ]
      },
      {
       "output_type": "stream",
       "stream": "stdout",
       "text": [
        "56893.8041221 56894.7584364 "
       ]
      },
      {
       "output_type": "stream",
       "stream": "stdout",
       "text": [
        "56894.7732268 "
       ]
      },
      {
       "output_type": "stream",
       "stream": "stdout",
       "text": [
        "56894.7880043 "
       ]
      },
      {
       "output_type": "stream",
       "stream": "stdout",
       "text": [
        "\n",
        "56889.7312269 "
       ]
      },
      {
       "output_type": "stream",
       "stream": "stdout",
       "text": [
        "56889.7409558 "
       ]
      },
      {
       "output_type": "stream",
       "stream": "stdout",
       "text": [
        "56889.7558863 56890.7344779 "
       ]
      },
      {
       "output_type": "stream",
       "stream": "stdout",
       "text": [
        "56890.7561996 56890.7779248 "
       ]
      },
      {
       "output_type": "stream",
       "stream": "stdout",
       "text": [
        "56891.7214011 "
       ]
      },
      {
       "output_type": "stream",
       "stream": "stdout",
       "text": [
        "56891.7361919 "
       ]
      },
      {
       "output_type": "stream",
       "stream": "stdout",
       "text": [
        "56891.7509697 56893.7742145 "
       ]
      },
      {
       "output_type": "stream",
       "stream": "stdout",
       "text": [
        "56893.7889874 "
       ]
      },
      {
       "output_type": "stream",
       "stream": "stdout",
       "text": [
        "56893.8041221 "
       ]
      },
      {
       "output_type": "stream",
       "stream": "stdout",
       "text": [
        "56894.7584364 "
       ]
      },
      {
       "output_type": "stream",
       "stream": "stdout",
       "text": [
        "56894.7732268 56894.7880043 "
       ]
      },
      {
       "output_type": "stream",
       "stream": "stdout",
       "text": [
        "\n",
        "Field04"
       ]
      },
      {
       "output_type": "stream",
       "stream": "stdout",
       "text": [
        "\n",
        "WL aligned"
       ]
      },
      {
       "output_type": "stream",
       "stream": "stdout",
       "text": [
        "\n",
        "WL aligned\n",
        "WL aligned\n",
        "WL aligned\n",
        "56889.7312269 "
       ]
      },
      {
       "output_type": "stream",
       "stream": "stdout",
       "text": [
        "56889.7409558 "
       ]
      },
      {
       "output_type": "stream",
       "stream": "stdout",
       "text": [
        "56889.7558863 "
       ]
      },
      {
       "output_type": "stream",
       "stream": "stdout",
       "text": [
        "56890.7344779 "
       ]
      },
      {
       "output_type": "stream",
       "stream": "stdout",
       "text": [
        "56890.7561996 "
       ]
      },
      {
       "output_type": "stream",
       "stream": "stdout",
       "text": [
        "56890.7779248 "
       ]
      },
      {
       "output_type": "stream",
       "stream": "stdout",
       "text": [
        "56891.7214011 "
       ]
      },
      {
       "output_type": "stream",
       "stream": "stdout",
       "text": [
        "56891.7361919 "
       ]
      },
      {
       "output_type": "stream",
       "stream": "stdout",
       "text": [
        "56891.7509697 "
       ]
      },
      {
       "output_type": "stream",
       "stream": "stdout",
       "text": [
        "56893.7742145 "
       ]
      },
      {
       "output_type": "stream",
       "stream": "stdout",
       "text": [
        "56893.7889874 "
       ]
      },
      {
       "output_type": "stream",
       "stream": "stdout",
       "text": [
        "56893.8041221 "
       ]
      },
      {
       "output_type": "stream",
       "stream": "stdout",
       "text": [
        "56894.7584364 "
       ]
      },
      {
       "output_type": "stream",
       "stream": "stdout",
       "text": [
        "56894.7732268 "
       ]
      },
      {
       "output_type": "stream",
       "stream": "stdout",
       "text": [
        "56894.7880043 "
       ]
      },
      {
       "output_type": "stream",
       "stream": "stdout",
       "text": [
        "\n",
        "56889.7312269 "
       ]
      },
      {
       "output_type": "stream",
       "stream": "stdout",
       "text": [
        "56889.7409558 "
       ]
      },
      {
       "output_type": "stream",
       "stream": "stdout",
       "text": [
        "56889.7558863 56890.7344779 "
       ]
      },
      {
       "output_type": "stream",
       "stream": "stdout",
       "text": [
        "56890.7561996 56890.7779248 "
       ]
      },
      {
       "output_type": "stream",
       "stream": "stdout",
       "text": [
        "56891.7214011 "
       ]
      },
      {
       "output_type": "stream",
       "stream": "stdout",
       "text": [
        "56891.7361919 56891.7509697"
       ]
      },
      {
       "output_type": "stream",
       "stream": "stdout",
       "text": [
        " 56893.7742145 56893.7889874 "
       ]
      },
      {
       "output_type": "stream",
       "stream": "stdout",
       "text": [
        "56893.8041221 "
       ]
      },
      {
       "output_type": "stream",
       "stream": "stdout",
       "text": [
        "56894.7584364 "
       ]
      },
      {
       "output_type": "stream",
       "stream": "stdout",
       "text": [
        "56894.7732268 "
       ]
      },
      {
       "output_type": "stream",
       "stream": "stdout",
       "text": [
        "56894.7880043 "
       ]
      },
      {
       "output_type": "stream",
       "stream": "stdout",
       "text": [
        "\n",
        "56889.7312269 "
       ]
      },
      {
       "output_type": "stream",
       "stream": "stdout",
       "text": [
        "56889.7409558 "
       ]
      },
      {
       "output_type": "stream",
       "stream": "stdout",
       "text": [
        "56889.7558863 56890.7344779 "
       ]
      },
      {
       "output_type": "stream",
       "stream": "stdout",
       "text": [
        "56890.7561996 "
       ]
      },
      {
       "output_type": "stream",
       "stream": "stdout",
       "text": [
        "56890.7779248 "
       ]
      },
      {
       "output_type": "stream",
       "stream": "stdout",
       "text": [
        "56891.7214011 "
       ]
      },
      {
       "output_type": "stream",
       "stream": "stdout",
       "text": [
        "56891.7361919 56891.7509697 "
       ]
      },
      {
       "output_type": "stream",
       "stream": "stdout",
       "text": [
        "56893.7742145 56893.7889874 "
       ]
      },
      {
       "output_type": "stream",
       "stream": "stdout",
       "text": [
        "56893.8041221 "
       ]
      },
      {
       "output_type": "stream",
       "stream": "stdout",
       "text": [
        "56894.7584364 56894.7732268 "
       ]
      },
      {
       "output_type": "stream",
       "stream": "stdout",
       "text": [
        "56894.7880043 \n",
        "56889.7312269"
       ]
      },
      {
       "output_type": "stream",
       "stream": "stdout",
       "text": [
        " 56889.7409558 56889.7558863 "
       ]
      },
      {
       "output_type": "stream",
       "stream": "stdout",
       "text": [
        "56890.7344779 56890.7561996 "
       ]
      },
      {
       "output_type": "stream",
       "stream": "stdout",
       "text": [
        "56890.7779248 56891.7214011 "
       ]
      },
      {
       "output_type": "stream",
       "stream": "stdout",
       "text": [
        "56891.7361919 56891.7509697 "
       ]
      },
      {
       "output_type": "stream",
       "stream": "stdout",
       "text": [
        "56893.7742145 56893.7889874 "
       ]
      },
      {
       "output_type": "stream",
       "stream": "stdout",
       "text": [
        "56893.8041221 56894.7584364 "
       ]
      },
      {
       "output_type": "stream",
       "stream": "stdout",
       "text": [
        "56894.7732268 "
       ]
      },
      {
       "output_type": "stream",
       "stream": "stdout",
       "text": [
        "56894.7880043 \n",
        "Giant11"
       ]
      },
      {
       "output_type": "stream",
       "stream": "stdout",
       "text": [
        "\n",
        "WL aligned"
       ]
      },
      {
       "output_type": "stream",
       "stream": "stdout",
       "text": [
        "\n",
        "WL aligned\n",
        "WL aligned\n",
        "WL aligned\n",
        "56889.7312269 "
       ]
      },
      {
       "output_type": "stream",
       "stream": "stdout",
       "text": [
        "56889.7409558 56889.7558863 "
       ]
      },
      {
       "output_type": "stream",
       "stream": "stdout",
       "text": [
        "56890.7344779 "
       ]
      },
      {
       "output_type": "stream",
       "stream": "stdout",
       "text": [
        "56890.7561996 "
       ]
      },
      {
       "output_type": "stream",
       "stream": "stdout",
       "text": [
        "56890.7779248 56891.7214011 "
       ]
      },
      {
       "output_type": "stream",
       "stream": "stdout",
       "text": [
        "56891.7361919 "
       ]
      },
      {
       "output_type": "stream",
       "stream": "stdout",
       "text": [
        "56891.7509697 "
       ]
      },
      {
       "output_type": "stream",
       "stream": "stdout",
       "text": [
        "56893.7742145 "
       ]
      },
      {
       "output_type": "stream",
       "stream": "stdout",
       "text": [
        "56893.7889874 "
       ]
      },
      {
       "output_type": "stream",
       "stream": "stdout",
       "text": [
        "56893.8041221 "
       ]
      },
      {
       "output_type": "stream",
       "stream": "stdout",
       "text": [
        "56894.7584364 "
       ]
      },
      {
       "output_type": "stream",
       "stream": "stdout",
       "text": [
        "56894.7732268 "
       ]
      },
      {
       "output_type": "stream",
       "stream": "stdout",
       "text": [
        "56894.7880043 "
       ]
      },
      {
       "output_type": "stream",
       "stream": "stdout",
       "text": [
        "\n",
        "56889.7312269 "
       ]
      },
      {
       "output_type": "stream",
       "stream": "stdout",
       "text": [
        "56889.7409558 "
       ]
      },
      {
       "output_type": "stream",
       "stream": "stdout",
       "text": [
        "56889.7558863 "
       ]
      },
      {
       "output_type": "stream",
       "stream": "stdout",
       "text": [
        "56890.7344779 "
       ]
      },
      {
       "output_type": "stream",
       "stream": "stdout",
       "text": [
        "56890.7561996 "
       ]
      },
      {
       "output_type": "stream",
       "stream": "stdout",
       "text": [
        "56890.7779248 "
       ]
      },
      {
       "output_type": "stream",
       "stream": "stdout",
       "text": [
        "56891.7214011 "
       ]
      },
      {
       "output_type": "stream",
       "stream": "stdout",
       "text": [
        "56891.7361919 56891.7509697 "
       ]
      },
      {
       "output_type": "stream",
       "stream": "stdout",
       "text": [
        "56893.7742145 "
       ]
      },
      {
       "output_type": "stream",
       "stream": "stdout",
       "text": [
        "56893.7889874 56893.8041221 "
       ]
      },
      {
       "output_type": "stream",
       "stream": "stdout",
       "text": [
        "56894.7584364 56894.7732268 "
       ]
      },
      {
       "output_type": "stream",
       "stream": "stdout",
       "text": [
        "56894.7880043 "
       ]
      },
      {
       "output_type": "stream",
       "stream": "stdout",
       "text": [
        "\n",
        "56889.7312269 "
       ]
      },
      {
       "output_type": "stream",
       "stream": "stdout",
       "text": [
        "56889.7409558 56889.7558863 "
       ]
      },
      {
       "output_type": "stream",
       "stream": "stdout",
       "text": [
        "56890.7344779 56890.7561996 "
       ]
      },
      {
       "output_type": "stream",
       "stream": "stdout",
       "text": [
        "56890.7779248 56891.7214011 "
       ]
      },
      {
       "output_type": "stream",
       "stream": "stdout",
       "text": [
        "56891.7361919 56891.7509697 "
       ]
      },
      {
       "output_type": "stream",
       "stream": "stdout",
       "text": [
        "56893.7742145 56893.7889874 "
       ]
      },
      {
       "output_type": "stream",
       "stream": "stdout",
       "text": [
        "56893.8041221 "
       ]
      },
      {
       "output_type": "stream",
       "stream": "stdout",
       "text": [
        "56894.7584364 "
       ]
      },
      {
       "output_type": "stream",
       "stream": "stdout",
       "text": [
        "56894.7732268 56894.7880043 "
       ]
      },
      {
       "output_type": "stream",
       "stream": "stdout",
       "text": [
        "\n",
        "56889.7312269 "
       ]
      },
      {
       "output_type": "stream",
       "stream": "stdout",
       "text": [
        "56889.7409558 56889.7558863 "
       ]
      },
      {
       "output_type": "stream",
       "stream": "stdout",
       "text": [
        "56890.7344779 56890.7561996 "
       ]
      },
      {
       "output_type": "stream",
       "stream": "stdout",
       "text": [
        "56890.7779248 56891.7214011 "
       ]
      },
      {
       "output_type": "stream",
       "stream": "stdout",
       "text": [
        "56891.7361919 56891.7509697 "
       ]
      },
      {
       "output_type": "stream",
       "stream": "stdout",
       "text": [
        "56893.7742145 56893.7889874 "
       ]
      },
      {
       "output_type": "stream",
       "stream": "stdout",
       "text": [
        "56893.8041221 "
       ]
      },
      {
       "output_type": "stream",
       "stream": "stdout",
       "text": [
        "56894.7584364 56894.7732268 "
       ]
      },
      {
       "output_type": "stream",
       "stream": "stdout",
       "text": [
        "56894.7880043 "
       ]
      },
      {
       "output_type": "stream",
       "stream": "stdout",
       "text": [
        "\n",
        "Giant19"
       ]
      },
      {
       "output_type": "stream",
       "stream": "stdout",
       "text": [
        "\n",
        "WL aligned"
       ]
      },
      {
       "output_type": "stream",
       "stream": "stdout",
       "text": [
        "\n",
        "WL aligned\n",
        "WL aligned\n",
        "WL aligned\n",
        "56889.7312269 "
       ]
      },
      {
       "output_type": "stream",
       "stream": "stdout",
       "text": [
        "56889.7409558 "
       ]
      },
      {
       "output_type": "stream",
       "stream": "stdout",
       "text": [
        "56889.7558863 56890.7344779 "
       ]
      },
      {
       "output_type": "stream",
       "stream": "stdout",
       "text": [
        "56890.7561996 "
       ]
      },
      {
       "output_type": "stream",
       "stream": "stdout",
       "text": [
        "56890.7779248 "
       ]
      },
      {
       "output_type": "stream",
       "stream": "stdout",
       "text": [
        "56891.7214011 "
       ]
      },
      {
       "output_type": "stream",
       "stream": "stdout",
       "text": [
        "56891.7361919 "
       ]
      },
      {
       "output_type": "stream",
       "stream": "stdout",
       "text": [
        "56891.7509697 "
       ]
      },
      {
       "output_type": "stream",
       "stream": "stdout",
       "text": [
        "56893.7742145 56893.7889874 "
       ]
      },
      {
       "output_type": "stream",
       "stream": "stdout",
       "text": [
        "56893.8041221 56894.7584364 "
       ]
      },
      {
       "output_type": "stream",
       "stream": "stdout",
       "text": [
        "56894.7732268 "
       ]
      },
      {
       "output_type": "stream",
       "stream": "stdout",
       "text": [
        "56894.7880043 \n",
        "56889.7312269"
       ]
      },
      {
       "output_type": "stream",
       "stream": "stdout",
       "text": [
        " 56889.7409558 56889.7558863 "
       ]
      },
      {
       "output_type": "stream",
       "stream": "stdout",
       "text": [
        "56890.7344779 "
       ]
      },
      {
       "output_type": "stream",
       "stream": "stdout",
       "text": [
        "56890.7561996 56890.7779248 "
       ]
      },
      {
       "output_type": "stream",
       "stream": "stdout",
       "text": [
        "56891.7214011 56891.7361919 "
       ]
      },
      {
       "output_type": "stream",
       "stream": "stdout",
       "text": [
        "56891.7509697 "
       ]
      },
      {
       "output_type": "stream",
       "stream": "stdout",
       "text": [
        "56893.7742145 56893.7889874 "
       ]
      },
      {
       "output_type": "stream",
       "stream": "stdout",
       "text": [
        "56893.8041221 "
       ]
      },
      {
       "output_type": "stream",
       "stream": "stdout",
       "text": [
        "56894.7584364 56894.7732268 "
       ]
      },
      {
       "output_type": "stream",
       "stream": "stdout",
       "text": [
        "56894.7880043 "
       ]
      },
      {
       "output_type": "stream",
       "stream": "stdout",
       "text": [
        "\n",
        "56889.7312269 "
       ]
      },
      {
       "output_type": "stream",
       "stream": "stdout",
       "text": [
        "56889.7409558 56889.7558863 "
       ]
      },
      {
       "output_type": "stream",
       "stream": "stdout",
       "text": [
        "56890.7344779 "
       ]
      },
      {
       "output_type": "stream",
       "stream": "stdout",
       "text": [
        "56890.7561996 56890.7779248 "
       ]
      },
      {
       "output_type": "stream",
       "stream": "stdout",
       "text": [
        "56891.7214011 56891.7361919 "
       ]
      },
      {
       "output_type": "stream",
       "stream": "stdout",
       "text": [
        "56891.7509697 56893.7742145 "
       ]
      },
      {
       "output_type": "stream",
       "stream": "stdout",
       "text": [
        "56893.7889874 56893.8041221 "
       ]
      },
      {
       "output_type": "stream",
       "stream": "stdout",
       "text": [
        "56894.7584364 "
       ]
      },
      {
       "output_type": "stream",
       "stream": "stdout",
       "text": [
        "56894.7732268 56894.7880043 "
       ]
      },
      {
       "output_type": "stream",
       "stream": "stdout",
       "text": [
        "\n",
        "56889.7312269 "
       ]
      },
      {
       "output_type": "stream",
       "stream": "stdout",
       "text": [
        "56889.7409558 56889.7558863 "
       ]
      },
      {
       "output_type": "stream",
       "stream": "stdout",
       "text": [
        "56890.7344779 56890.7561996 "
       ]
      },
      {
       "output_type": "stream",
       "stream": "stdout",
       "text": [
        "56890.7779248 "
       ]
      },
      {
       "output_type": "stream",
       "stream": "stdout",
       "text": [
        "56891.7214011 56891.7361919 "
       ]
      },
      {
       "output_type": "stream",
       "stream": "stdout",
       "text": [
        "56891.7509697 56893.7742145 "
       ]
      },
      {
       "output_type": "stream",
       "stream": "stdout",
       "text": [
        "56893.7889874 56893.8041221 "
       ]
      },
      {
       "output_type": "stream",
       "stream": "stdout",
       "text": [
        "56894.7584364 "
       ]
      },
      {
       "output_type": "stream",
       "stream": "stdout",
       "text": [
        "56894.7732268 56894.7880043 "
       ]
      },
      {
       "output_type": "stream",
       "stream": "stdout",
       "text": [
        "\n",
        "Field19"
       ]
      },
      {
       "output_type": "stream",
       "stream": "stdout",
       "text": [
        "\n",
        "WL aligned"
       ]
      },
      {
       "output_type": "stream",
       "stream": "stdout",
       "text": [
        "\n",
        "WL aligned\n",
        "WL aligned\n",
        "WL aligned\n",
        "56889.7312269 "
       ]
      },
      {
       "output_type": "stream",
       "stream": "stdout",
       "text": [
        "56889.7409558 "
       ]
      },
      {
       "output_type": "stream",
       "stream": "stdout",
       "text": [
        "56889.7558863 56890.7344779 "
       ]
      },
      {
       "output_type": "stream",
       "stream": "stdout",
       "text": [
        "56890.7561996 56890.7779248 "
       ]
      },
      {
       "output_type": "stream",
       "stream": "stdout",
       "text": [
        "56891.7214011 56891.7361919 "
       ]
      },
      {
       "output_type": "stream",
       "stream": "stdout",
       "text": [
        "56891.7509697 56893.7742145 "
       ]
      },
      {
       "output_type": "stream",
       "stream": "stdout",
       "text": [
        "56893.7889874 56893.8041221 "
       ]
      },
      {
       "output_type": "stream",
       "stream": "stdout",
       "text": [
        "56894.7584364 56894.7732268 "
       ]
      },
      {
       "output_type": "stream",
       "stream": "stdout",
       "text": [
        "56894.7880043 "
       ]
      },
      {
       "output_type": "stream",
       "stream": "stdout",
       "text": [
        "\n",
        "56889.7312269 "
       ]
      },
      {
       "output_type": "stream",
       "stream": "stdout",
       "text": [
        "56889.7409558 "
       ]
      },
      {
       "output_type": "stream",
       "stream": "stdout",
       "text": [
        "56889.7558863 "
       ]
      },
      {
       "output_type": "stream",
       "stream": "stdout",
       "text": [
        "56890.7344779 "
       ]
      },
      {
       "output_type": "stream",
       "stream": "stdout",
       "text": [
        "56890.7561996 56890.7779248 "
       ]
      },
      {
       "output_type": "stream",
       "stream": "stdout",
       "text": [
        "56891.7214011 56891.7361919 "
       ]
      },
      {
       "output_type": "stream",
       "stream": "stdout",
       "text": [
        "56891.7509697 "
       ]
      },
      {
       "output_type": "stream",
       "stream": "stdout",
       "text": [
        "56893.7742145 56893.7889874 "
       ]
      },
      {
       "output_type": "stream",
       "stream": "stdout",
       "text": [
        "56893.8041221 56894.7584364 "
       ]
      },
      {
       "output_type": "stream",
       "stream": "stdout",
       "text": [
        "56894.7732268 "
       ]
      },
      {
       "output_type": "stream",
       "stream": "stdout",
       "text": [
        "56894.7880043 \n",
        "56889.7312269"
       ]
      },
      {
       "output_type": "stream",
       "stream": "stdout",
       "text": [
        " 56889.7409558 56889.7558863 "
       ]
      },
      {
       "output_type": "stream",
       "stream": "stdout",
       "text": [
        "56890.7344779 56890.7561996 "
       ]
      },
      {
       "output_type": "stream",
       "stream": "stdout",
       "text": [
        "56890.7779248 "
       ]
      },
      {
       "output_type": "stream",
       "stream": "stdout",
       "text": [
        "56891.7214011 "
       ]
      },
      {
       "output_type": "stream",
       "stream": "stdout",
       "text": [
        "56891.7361919 56891.7509697 "
       ]
      },
      {
       "output_type": "stream",
       "stream": "stdout",
       "text": [
        "56893.7742145 "
       ]
      },
      {
       "output_type": "stream",
       "stream": "stdout",
       "text": [
        "56893.7889874 56893.8041221 "
       ]
      },
      {
       "output_type": "stream",
       "stream": "stdout",
       "text": [
        "56894.7584364 "
       ]
      },
      {
       "output_type": "stream",
       "stream": "stdout",
       "text": [
        "56894.7732268 "
       ]
      },
      {
       "output_type": "stream",
       "stream": "stdout",
       "text": [
        "56894.7880043 \n",
        "56889.7312269"
       ]
      },
      {
       "output_type": "stream",
       "stream": "stdout",
       "text": [
        " 56889.7409558 "
       ]
      },
      {
       "output_type": "stream",
       "stream": "stdout",
       "text": [
        "56889.7558863 "
       ]
      },
      {
       "output_type": "stream",
       "stream": "stdout",
       "text": [
        "56890.7344779 56890.7561996 "
       ]
      },
      {
       "output_type": "stream",
       "stream": "stdout",
       "text": [
        "56890.7779248 "
       ]
      },
      {
       "output_type": "stream",
       "stream": "stdout",
       "text": [
        "56891.7214011 "
       ]
      },
      {
       "output_type": "stream",
       "stream": "stdout",
       "text": [
        "56891.7361919 56891.7509697 "
       ]
      },
      {
       "output_type": "stream",
       "stream": "stdout",
       "text": [
        "56893.7742145 "
       ]
      },
      {
       "output_type": "stream",
       "stream": "stdout",
       "text": [
        "56893.7889874 "
       ]
      },
      {
       "output_type": "stream",
       "stream": "stdout",
       "text": [
        "56893.8041221 56894.7584364 "
       ]
      },
      {
       "output_type": "stream",
       "stream": "stdout",
       "text": [
        "56894.7732268 56894.7880043 "
       ]
      },
      {
       "output_type": "stream",
       "stream": "stdout",
       "text": [
        "\n",
        "Field33"
       ]
      },
      {
       "output_type": "stream",
       "stream": "stdout",
       "text": [
        "\n",
        "WL aligned"
       ]
      },
      {
       "output_type": "stream",
       "stream": "stdout",
       "text": [
        "\n",
        "WL aligned\n",
        "WL aligned\n",
        "WL aligned\n",
        "56889.7312269 "
       ]
      },
      {
       "output_type": "stream",
       "stream": "stdout",
       "text": [
        "56889.7409558 56889.7558863 "
       ]
      },
      {
       "output_type": "stream",
       "stream": "stdout",
       "text": [
        "56890.7344779 56890.7561996 "
       ]
      },
      {
       "output_type": "stream",
       "stream": "stdout",
       "text": [
        "56890.7779248 "
       ]
      },
      {
       "output_type": "stream",
       "stream": "stdout",
       "text": [
        "56891.7214011 "
       ]
      },
      {
       "output_type": "stream",
       "stream": "stdout",
       "text": [
        "56891.7361919 "
       ]
      },
      {
       "output_type": "stream",
       "stream": "stdout",
       "text": [
        "56891.7509697 "
       ]
      },
      {
       "output_type": "stream",
       "stream": "stdout",
       "text": [
        "56893.7742145 "
       ]
      },
      {
       "output_type": "stream",
       "stream": "stdout",
       "text": [
        "56893.7889874 "
       ]
      },
      {
       "output_type": "stream",
       "stream": "stdout",
       "text": [
        "56893.8041221 56894.7584364 "
       ]
      },
      {
       "output_type": "stream",
       "stream": "stdout",
       "text": [
        "56894.7732268 "
       ]
      },
      {
       "output_type": "stream",
       "stream": "stdout",
       "text": [
        "56894.7880043 "
       ]
      },
      {
       "output_type": "stream",
       "stream": "stdout",
       "text": [
        "\n",
        "56889.7312269 "
       ]
      },
      {
       "output_type": "stream",
       "stream": "stdout",
       "text": [
        "56889.7409558 56889.7558863 "
       ]
      },
      {
       "output_type": "stream",
       "stream": "stdout",
       "text": [
        "56890.7344779 56890.7561996 "
       ]
      },
      {
       "output_type": "stream",
       "stream": "stdout",
       "text": [
        "56890.7779248 56891.7214011 "
       ]
      },
      {
       "output_type": "stream",
       "stream": "stdout",
       "text": [
        "56891.7361919 56891.7509697 "
       ]
      },
      {
       "output_type": "stream",
       "stream": "stdout",
       "text": [
        "56893.7742145 "
       ]
      },
      {
       "output_type": "stream",
       "stream": "stdout",
       "text": [
        "56893.7889874 56893.8041221 "
       ]
      },
      {
       "output_type": "stream",
       "stream": "stdout",
       "text": [
        "56894.7584364 56894.7732268 "
       ]
      },
      {
       "output_type": "stream",
       "stream": "stdout",
       "text": [
        "56894.7880043 \n",
        "56889.7312269"
       ]
      },
      {
       "output_type": "stream",
       "stream": "stdout",
       "text": [
        " 56889.7409558 56889.7558863 "
       ]
      },
      {
       "output_type": "stream",
       "stream": "stdout",
       "text": [
        "56890.7344779 56890.7561996 "
       ]
      },
      {
       "output_type": "stream",
       "stream": "stdout",
       "text": [
        "56890.7779248 56891.7214011 "
       ]
      },
      {
       "output_type": "stream",
       "stream": "stdout",
       "text": [
        "56891.7361919 56891.7509697 "
       ]
      },
      {
       "output_type": "stream",
       "stream": "stdout",
       "text": [
        "56893.7742145 56893.7889874 "
       ]
      },
      {
       "output_type": "stream",
       "stream": "stdout",
       "text": [
        "56893.8041221 "
       ]
      },
      {
       "output_type": "stream",
       "stream": "stdout",
       "text": [
        "56894.7584364 "
       ]
      },
      {
       "output_type": "stream",
       "stream": "stdout",
       "text": [
        "56894.7732268 "
       ]
      },
      {
       "output_type": "stream",
       "stream": "stdout",
       "text": [
        "56894.7880043 "
       ]
      },
      {
       "output_type": "stream",
       "stream": "stdout",
       "text": [
        "\n",
        "56889.7312269 "
       ]
      },
      {
       "output_type": "stream",
       "stream": "stdout",
       "text": [
        "56889.7409558 56889.7558863 "
       ]
      },
      {
       "output_type": "stream",
       "stream": "stdout",
       "text": [
        "56890.7344779 56890.7561996 "
       ]
      },
      {
       "output_type": "stream",
       "stream": "stdout",
       "text": [
        "56890.7779248 "
       ]
      },
      {
       "output_type": "stream",
       "stream": "stdout",
       "text": [
        "56891.7214011 56891.7361919 "
       ]
      },
      {
       "output_type": "stream",
       "stream": "stdout",
       "text": [
        "56891.7509697 "
       ]
      },
      {
       "output_type": "stream",
       "stream": "stdout",
       "text": [
        "56893.7742145 56893.7889874 "
       ]
      },
      {
       "output_type": "stream",
       "stream": "stdout",
       "text": [
        "56893.8041221 56894.7584364 "
       ]
      },
      {
       "output_type": "stream",
       "stream": "stdout",
       "text": [
        "56894.7732268 "
       ]
      },
      {
       "output_type": "stream",
       "stream": "stdout",
       "text": [
        "56894.7880043 \n",
        "Field22"
       ]
      },
      {
       "output_type": "stream",
       "stream": "stdout",
       "text": [
        "\n",
        "WL aligned"
       ]
      },
      {
       "output_type": "stream",
       "stream": "stdout",
       "text": [
        "\n",
        "WL aligned\n",
        "WL aligned\n",
        "WL aligned\n",
        "56889.7312269 "
       ]
      },
      {
       "output_type": "stream",
       "stream": "stdout",
       "text": [
        "56889.7409558 "
       ]
      },
      {
       "output_type": "stream",
       "stream": "stdout",
       "text": [
        "56889.7558863 56890.7344779 "
       ]
      },
      {
       "output_type": "stream",
       "stream": "stdout",
       "text": [
        "56890.7561996 "
       ]
      },
      {
       "output_type": "stream",
       "stream": "stdout",
       "text": [
        "56890.7779248 "
       ]
      },
      {
       "output_type": "stream",
       "stream": "stdout",
       "text": [
        "\n",
        "56889.7312269 "
       ]
      },
      {
       "output_type": "stream",
       "stream": "stdout",
       "text": [
        "56889.7409558 "
       ]
      },
      {
       "output_type": "stream",
       "stream": "stdout",
       "text": [
        "56889.7558863 "
       ]
      },
      {
       "output_type": "stream",
       "stream": "stdout",
       "text": [
        "56890.7344779 "
       ]
      },
      {
       "output_type": "stream",
       "stream": "stdout",
       "text": [
        "56890.7561996 56890.7779248 "
       ]
      },
      {
       "output_type": "stream",
       "stream": "stdout",
       "text": [
        "\n",
        "56889.7312269 "
       ]
      },
      {
       "output_type": "stream",
       "stream": "stdout",
       "text": [
        "56889.7409558 56889.7558863 "
       ]
      },
      {
       "output_type": "stream",
       "stream": "stdout",
       "text": [
        "56890.7344779 56890.7561996 "
       ]
      },
      {
       "output_type": "stream",
       "stream": "stdout",
       "text": [
        "56890.7779248 \n",
        "56889.7312269 "
       ]
      },
      {
       "output_type": "stream",
       "stream": "stdout",
       "text": [
        "56889.7409558 56889.7558863 "
       ]
      },
      {
       "output_type": "stream",
       "stream": "stdout",
       "text": [
        "56890.7344779 56890.7561996 "
       ]
      },
      {
       "output_type": "stream",
       "stream": "stdout",
       "text": [
        "56890.7779248 \n",
        "Field37"
       ]
      },
      {
       "output_type": "stream",
       "stream": "stdout",
       "text": [
        "\n",
        "WL aligned"
       ]
      },
      {
       "output_type": "stream",
       "stream": "stdout",
       "text": [
        "\n",
        "WL aligned\n",
        "WL aligned\n",
        "WL aligned\n",
        "56889.7312269 56889.7409558 "
       ]
      },
      {
       "output_type": "stream",
       "stream": "stdout",
       "text": [
        "56889.7558863 56890.7344779 "
       ]
      },
      {
       "output_type": "stream",
       "stream": "stdout",
       "text": [
        "56890.7561996 56890.7779248 "
       ]
      },
      {
       "output_type": "stream",
       "stream": "stdout",
       "text": [
        "56891.7214011 56891.7361919 "
       ]
      },
      {
       "output_type": "stream",
       "stream": "stdout",
       "text": [
        "56891.7509697 "
       ]
      },
      {
       "output_type": "stream",
       "stream": "stdout",
       "text": [
        "56893.7742145 56893.7889874 "
       ]
      },
      {
       "output_type": "stream",
       "stream": "stdout",
       "text": [
        "56893.8041221 56894.7584364 "
       ]
      },
      {
       "output_type": "stream",
       "stream": "stdout",
       "text": [
        "56894.7732268 56894.7880043 "
       ]
      },
      {
       "output_type": "stream",
       "stream": "stdout",
       "text": [
        "\n",
        "56889.7312269 56889.7409558 "
       ]
      },
      {
       "output_type": "stream",
       "stream": "stdout",
       "text": [
        "56889.7558863 56890.7344779 "
       ]
      },
      {
       "output_type": "stream",
       "stream": "stdout",
       "text": [
        "56890.7561996 56890.7779248 "
       ]
      },
      {
       "output_type": "stream",
       "stream": "stdout",
       "text": [
        "56891.7214011 56891.7361919 "
       ]
      },
      {
       "output_type": "stream",
       "stream": "stdout",
       "text": [
        "56891.7509697 56893.7742145 "
       ]
      },
      {
       "output_type": "stream",
       "stream": "stdout",
       "text": [
        "56893.7889874 56893.8041221 "
       ]
      },
      {
       "output_type": "stream",
       "stream": "stdout",
       "text": [
        "56894.7584364 "
       ]
      },
      {
       "output_type": "stream",
       "stream": "stdout",
       "text": [
        "56894.7732268 56894.7880043 "
       ]
      },
      {
       "output_type": "stream",
       "stream": "stdout",
       "text": [
        "\n",
        "56889.7312269 "
       ]
      },
      {
       "output_type": "stream",
       "stream": "stdout",
       "text": [
        "56889.7409558 "
       ]
      },
      {
       "output_type": "stream",
       "stream": "stdout",
       "text": [
        "56889.7558863 56890.7344779 "
       ]
      },
      {
       "output_type": "stream",
       "stream": "stdout",
       "text": [
        "56890.7561996 56890.7779248 "
       ]
      },
      {
       "output_type": "stream",
       "stream": "stdout",
       "text": [
        "56891.7214011 "
       ]
      },
      {
       "output_type": "stream",
       "stream": "stdout",
       "text": [
        "56891.7361919 "
       ]
      },
      {
       "output_type": "stream",
       "stream": "stdout",
       "text": [
        "56891.7509697 "
       ]
      },
      {
       "output_type": "stream",
       "stream": "stdout",
       "text": [
        "56893.7742145 "
       ]
      },
      {
       "output_type": "stream",
       "stream": "stdout",
       "text": [
        "56893.7889874 "
       ]
      },
      {
       "output_type": "stream",
       "stream": "stdout",
       "text": [
        "56893.8041221 "
       ]
      },
      {
       "output_type": "stream",
       "stream": "stdout",
       "text": [
        "56894.7584364 "
       ]
      },
      {
       "output_type": "stream",
       "stream": "stdout",
       "text": [
        "56894.7732268 "
       ]
      },
      {
       "output_type": "stream",
       "stream": "stdout",
       "text": [
        "56894.7880043 "
       ]
      },
      {
       "output_type": "stream",
       "stream": "stdout",
       "text": [
        "\n",
        "56889.7312269 "
       ]
      },
      {
       "output_type": "stream",
       "stream": "stdout",
       "text": [
        "56889.7409558 "
       ]
      },
      {
       "output_type": "stream",
       "stream": "stdout",
       "text": [
        "56889.7558863 "
       ]
      },
      {
       "output_type": "stream",
       "stream": "stdout",
       "text": [
        "56890.7344779 56890.7561996 "
       ]
      },
      {
       "output_type": "stream",
       "stream": "stdout",
       "text": [
        "56890.7779248 56891.7214011 "
       ]
      },
      {
       "output_type": "stream",
       "stream": "stdout",
       "text": [
        "56891.7361919 "
       ]
      },
      {
       "output_type": "stream",
       "stream": "stdout",
       "text": [
        "56891.7509697 "
       ]
      },
      {
       "output_type": "stream",
       "stream": "stdout",
       "text": [
        "56893.7742145 "
       ]
      },
      {
       "output_type": "stream",
       "stream": "stdout",
       "text": [
        "56893.7889874 "
       ]
      },
      {
       "output_type": "stream",
       "stream": "stdout",
       "text": [
        "56893.8041221 "
       ]
      },
      {
       "output_type": "stream",
       "stream": "stdout",
       "text": [
        "56894.7584364 "
       ]
      },
      {
       "output_type": "stream",
       "stream": "stdout",
       "text": [
        "56894.7732268 "
       ]
      },
      {
       "output_type": "stream",
       "stream": "stdout",
       "text": [
        "56894.7880043 \n",
        "Giant21"
       ]
      },
      {
       "output_type": "stream",
       "stream": "stdout",
       "text": [
        "\n",
        "WL aligned"
       ]
      },
      {
       "output_type": "stream",
       "stream": "stdout",
       "text": [
        "\n",
        "WL aligned\n",
        "WL aligned\n",
        "WL aligned\n",
        "56889.7312269 "
       ]
      },
      {
       "output_type": "stream",
       "stream": "stdout",
       "text": [
        "56889.7409558 56889.7558863 "
       ]
      },
      {
       "output_type": "stream",
       "stream": "stdout",
       "text": [
        "56890.7344779 56890.7561996 "
       ]
      },
      {
       "output_type": "stream",
       "stream": "stdout",
       "text": [
        "56890.7779248 56891.7214011 "
       ]
      },
      {
       "output_type": "stream",
       "stream": "stdout",
       "text": [
        "56891.7361919 56891.7509697 "
       ]
      },
      {
       "output_type": "stream",
       "stream": "stdout",
       "text": [
        "56893.7742145 56893.7889874 "
       ]
      },
      {
       "output_type": "stream",
       "stream": "stdout",
       "text": [
        "56893.8041221 56894.7584364 "
       ]
      },
      {
       "output_type": "stream",
       "stream": "stdout",
       "text": [
        "56894.7732268 "
       ]
      },
      {
       "output_type": "stream",
       "stream": "stdout",
       "text": [
        "56894.7880043 \n",
        "56889.7312269"
       ]
      },
      {
       "output_type": "stream",
       "stream": "stdout",
       "text": [
        " 56889.7409558 56889.7558863 "
       ]
      },
      {
       "output_type": "stream",
       "stream": "stdout",
       "text": [
        "56890.7344779 56890.7561996 "
       ]
      },
      {
       "output_type": "stream",
       "stream": "stdout",
       "text": [
        "56890.7779248 56891.7214011 "
       ]
      },
      {
       "output_type": "stream",
       "stream": "stdout",
       "text": [
        "56891.7361919 56891.7509697 "
       ]
      },
      {
       "output_type": "stream",
       "stream": "stdout",
       "text": [
        "56893.7742145 56893.7889874 "
       ]
      },
      {
       "output_type": "stream",
       "stream": "stdout",
       "text": [
        "56893.8041221 56894.7584364 "
       ]
      },
      {
       "output_type": "stream",
       "stream": "stdout",
       "text": [
        "56894.7732268 56894.7880043 "
       ]
      },
      {
       "output_type": "stream",
       "stream": "stdout",
       "text": [
        "\n",
        "56889.7312269 56889.7409558 "
       ]
      },
      {
       "output_type": "stream",
       "stream": "stdout",
       "text": [
        "56889.7558863 56890.7344779 "
       ]
      },
      {
       "output_type": "stream",
       "stream": "stdout",
       "text": [
        "56890.7561996 56890.7779248 "
       ]
      },
      {
       "output_type": "stream",
       "stream": "stdout",
       "text": [
        "56891.7214011 "
       ]
      },
      {
       "output_type": "stream",
       "stream": "stdout",
       "text": [
        "56891.7361919 56891.7509697 "
       ]
      },
      {
       "output_type": "stream",
       "stream": "stdout",
       "text": [
        "56893.7742145 56893.7889874 "
       ]
      },
      {
       "output_type": "stream",
       "stream": "stdout",
       "text": [
        "56893.8041221 56894.7584364 "
       ]
      },
      {
       "output_type": "stream",
       "stream": "stdout",
       "text": [
        "56894.7732268 56894.7880043 "
       ]
      },
      {
       "output_type": "stream",
       "stream": "stdout",
       "text": [
        "\n",
        "56889.7312269 56889.7409558 "
       ]
      },
      {
       "output_type": "stream",
       "stream": "stdout",
       "text": [
        "56889.7558863 56890.7344779 "
       ]
      },
      {
       "output_type": "stream",
       "stream": "stdout",
       "text": [
        "56890.7561996 56890.7779248 "
       ]
      },
      {
       "output_type": "stream",
       "stream": "stdout",
       "text": [
        "56891.7214011 56891.7361919 "
       ]
      },
      {
       "output_type": "stream",
       "stream": "stdout",
       "text": [
        "56891.7509697 56893.7742145 "
       ]
      },
      {
       "output_type": "stream",
       "stream": "stdout",
       "text": [
        "56893.7889874 56893.8041221 "
       ]
      },
      {
       "output_type": "stream",
       "stream": "stdout",
       "text": [
        "56894.7584364 56894.7732268 "
       ]
      },
      {
       "output_type": "stream",
       "stream": "stdout",
       "text": [
        "56894.7880043 \n",
        "Field41"
       ]
      },
      {
       "output_type": "stream",
       "stream": "stdout",
       "text": [
        "\n",
        "WL aligned"
       ]
      },
      {
       "output_type": "stream",
       "stream": "stdout",
       "text": [
        "\n",
        "WL aligned\n",
        "WL aligned\n",
        "WL aligned\n",
        "56889.7312269 56889.7409558 "
       ]
      },
      {
       "output_type": "stream",
       "stream": "stdout",
       "text": [
        "56889.7558863 56890.7344779 "
       ]
      },
      {
       "output_type": "stream",
       "stream": "stdout",
       "text": [
        "56890.7561996 56890.7779248 "
       ]
      },
      {
       "output_type": "stream",
       "stream": "stdout",
       "text": [
        "56891.7214011 56891.7361919 "
       ]
      },
      {
       "output_type": "stream",
       "stream": "stdout",
       "text": [
        "56891.7509697 56893.7742145 "
       ]
      },
      {
       "output_type": "stream",
       "stream": "stdout",
       "text": [
        "56893.7889874 56893.8041221 "
       ]
      },
      {
       "output_type": "stream",
       "stream": "stdout",
       "text": [
        "56894.7584364 56894.7732268 "
       ]
      },
      {
       "output_type": "stream",
       "stream": "stdout",
       "text": [
        "56894.7880043 \n",
        "56889.7312269"
       ]
      },
      {
       "output_type": "stream",
       "stream": "stdout",
       "text": [
        " 56889.7409558 56889.7558863 "
       ]
      },
      {
       "output_type": "stream",
       "stream": "stdout",
       "text": [
        "56890.7344779 56890.7561996 "
       ]
      },
      {
       "output_type": "stream",
       "stream": "stdout",
       "text": [
        "56890.7779248 56891.7214011 "
       ]
      },
      {
       "output_type": "stream",
       "stream": "stdout",
       "text": [
        "56891.7361919 56891.7509697 "
       ]
      },
      {
       "output_type": "stream",
       "stream": "stdout",
       "text": [
        "56893.7742145 56893.7889874 "
       ]
      },
      {
       "output_type": "stream",
       "stream": "stdout",
       "text": [
        "56893.8041221 56894.7584364 "
       ]
      },
      {
       "output_type": "stream",
       "stream": "stdout",
       "text": [
        "56894.7732268 56894.7880043 "
       ]
      },
      {
       "output_type": "stream",
       "stream": "stdout",
       "text": [
        "\n",
        "56889.7312269 56889.7409558 "
       ]
      },
      {
       "output_type": "stream",
       "stream": "stdout",
       "text": [
        "56889.7558863 56890.7344779 "
       ]
      },
      {
       "output_type": "stream",
       "stream": "stdout",
       "text": [
        "56890.7561996 56890.7779248 "
       ]
      },
      {
       "output_type": "stream",
       "stream": "stdout",
       "text": [
        "56891.7214011 "
       ]
      },
      {
       "output_type": "stream",
       "stream": "stdout",
       "text": [
        "56891.7361919 "
       ]
      },
      {
       "output_type": "stream",
       "stream": "stdout",
       "text": [
        "56891.7509697 "
       ]
      },
      {
       "output_type": "stream",
       "stream": "stdout",
       "text": [
        "56893.7742145 "
       ]
      },
      {
       "output_type": "stream",
       "stream": "stdout",
       "text": [
        "56893.7889874 "
       ]
      },
      {
       "output_type": "stream",
       "stream": "stdout",
       "text": [
        "56893.8041221 "
       ]
      },
      {
       "output_type": "stream",
       "stream": "stdout",
       "text": [
        "56894.7584364 "
       ]
      },
      {
       "output_type": "stream",
       "stream": "stdout",
       "text": [
        "56894.7732268 "
       ]
      },
      {
       "output_type": "stream",
       "stream": "stdout",
       "text": [
        "56894.7880043 \n",
        "56889.7312269"
       ]
      },
      {
       "output_type": "stream",
       "stream": "stdout",
       "text": [
        " 56889.7409558 "
       ]
      },
      {
       "output_type": "stream",
       "stream": "stdout",
       "text": [
        "56889.7558863 "
       ]
      },
      {
       "output_type": "stream",
       "stream": "stdout",
       "text": [
        "56890.7344779 "
       ]
      },
      {
       "output_type": "stream",
       "stream": "stdout",
       "text": [
        "56890.7561996 "
       ]
      },
      {
       "output_type": "stream",
       "stream": "stdout",
       "text": [
        "56890.7779248 "
       ]
      },
      {
       "output_type": "stream",
       "stream": "stdout",
       "text": [
        "56891.7214011 "
       ]
      },
      {
       "output_type": "stream",
       "stream": "stdout",
       "text": [
        "56891.7361919 "
       ]
      },
      {
       "output_type": "stream",
       "stream": "stdout",
       "text": [
        "56891.7509697 "
       ]
      },
      {
       "output_type": "stream",
       "stream": "stdout",
       "text": [
        "56893.7742145 "
       ]
      },
      {
       "output_type": "stream",
       "stream": "stdout",
       "text": [
        "56893.7889874 "
       ]
      },
      {
       "output_type": "stream",
       "stream": "stdout",
       "text": [
        "56893.8041221 56894.7584364 "
       ]
      },
      {
       "output_type": "stream",
       "stream": "stdout",
       "text": [
        "56894.7732268 56894.7880043 "
       ]
      },
      {
       "output_type": "stream",
       "stream": "stdout",
       "text": [
        "\n",
        "Giant23"
       ]
      },
      {
       "output_type": "stream",
       "stream": "stdout",
       "text": [
        "\n",
        "WL aligned"
       ]
      },
      {
       "output_type": "stream",
       "stream": "stdout",
       "text": [
        "\n",
        "WL aligned\n",
        "WL aligned\n",
        "WL aligned\n",
        "56889.7312269 56889.7409558 "
       ]
      },
      {
       "output_type": "stream",
       "stream": "stdout",
       "text": [
        "56889.7558863 56890.7344779 "
       ]
      },
      {
       "output_type": "stream",
       "stream": "stdout",
       "text": [
        "56890.7561996 56890.7779248 "
       ]
      },
      {
       "output_type": "stream",
       "stream": "stdout",
       "text": [
        "56891.7214011 "
       ]
      },
      {
       "output_type": "stream",
       "stream": "stdout",
       "text": [
        "56891.7361919 "
       ]
      },
      {
       "output_type": "stream",
       "stream": "stdout",
       "text": [
        "56891.7509697 56893.7742145 "
       ]
      },
      {
       "output_type": "stream",
       "stream": "stdout",
       "text": [
        "56893.7889874 56893.8041221 "
       ]
      },
      {
       "output_type": "stream",
       "stream": "stdout",
       "text": [
        "56894.7584364 56894.7732268 "
       ]
      },
      {
       "output_type": "stream",
       "stream": "stdout",
       "text": [
        "56894.7880043 \n",
        "56889.7312269 "
       ]
      },
      {
       "output_type": "stream",
       "stream": "stdout",
       "text": [
        "56889.7409558 56889.7558863 "
       ]
      },
      {
       "output_type": "stream",
       "stream": "stdout",
       "text": [
        "56890.7344779 56890.7561996 "
       ]
      },
      {
       "output_type": "stream",
       "stream": "stdout",
       "text": [
        "56890.7779248 56891.7214011 "
       ]
      },
      {
       "output_type": "stream",
       "stream": "stdout",
       "text": [
        "56891.7361919 56891.7509697 "
       ]
      },
      {
       "output_type": "stream",
       "stream": "stdout",
       "text": [
        "56893.7742145 56893.7889874 "
       ]
      },
      {
       "output_type": "stream",
       "stream": "stdout",
       "text": [
        "56893.8041221 56894.7584364 "
       ]
      },
      {
       "output_type": "stream",
       "stream": "stdout",
       "text": [
        "56894.7732268 56894.7880043 "
       ]
      },
      {
       "output_type": "stream",
       "stream": "stdout",
       "text": [
        "\n",
        "56889.7312269 56889.7409558 "
       ]
      },
      {
       "output_type": "stream",
       "stream": "stdout",
       "text": [
        "56889.7558863 56890.7344779 "
       ]
      },
      {
       "output_type": "stream",
       "stream": "stdout",
       "text": [
        "56890.7561996 56890.7779248 "
       ]
      },
      {
       "output_type": "stream",
       "stream": "stdout",
       "text": [
        "56891.7214011 56891.7361919 "
       ]
      },
      {
       "output_type": "stream",
       "stream": "stdout",
       "text": [
        "56891.7509697 56893.7742145 "
       ]
      },
      {
       "output_type": "stream",
       "stream": "stdout",
       "text": [
        "56893.7889874 56893.8041221 "
       ]
      },
      {
       "output_type": "stream",
       "stream": "stdout",
       "text": [
        "56894.7584364 56894.7732268 "
       ]
      },
      {
       "output_type": "stream",
       "stream": "stdout",
       "text": [
        "56894.7880043 \n",
        "56889.7312269 "
       ]
      },
      {
       "output_type": "stream",
       "stream": "stdout",
       "text": [
        "56889.7409558 56889.7558863 "
       ]
      },
      {
       "output_type": "stream",
       "stream": "stdout",
       "text": [
        "56890.7344779 56890.7561996 "
       ]
      },
      {
       "output_type": "stream",
       "stream": "stdout",
       "text": [
        "56890.7779248 56891.7214011 "
       ]
      },
      {
       "output_type": "stream",
       "stream": "stdout",
       "text": [
        "56891.7361919 56891.7509697 "
       ]
      },
      {
       "output_type": "stream",
       "stream": "stdout",
       "text": [
        "56893.7742145 56893.7889874 "
       ]
      },
      {
       "output_type": "stream",
       "stream": "stdout",
       "text": [
        "56893.8041221 56894.7584364 "
       ]
      },
      {
       "output_type": "stream",
       "stream": "stdout",
       "text": [
        "56894.7732268 56894.7880043 "
       ]
      },
      {
       "output_type": "stream",
       "stream": "stdout",
       "text": [
        "\n",
        "Field31"
       ]
      },
      {
       "output_type": "stream",
       "stream": "stdout",
       "text": [
        "\n",
        "WL aligned"
       ]
      },
      {
       "output_type": "stream",
       "stream": "stdout",
       "text": [
        "\n",
        "WL aligned\n",
        "WL aligned\n",
        "WL aligned\n",
        "56889.7312269 "
       ]
      },
      {
       "output_type": "stream",
       "stream": "stdout",
       "text": [
        "56889.7409558 56889.7558863 "
       ]
      },
      {
       "output_type": "stream",
       "stream": "stdout",
       "text": [
        "56890.7344779 56890.7561996 "
       ]
      },
      {
       "output_type": "stream",
       "stream": "stdout",
       "text": [
        "56890.7779248 56891.7214011 "
       ]
      },
      {
       "output_type": "stream",
       "stream": "stdout",
       "text": [
        "56891.7361919 56891.7509697 "
       ]
      },
      {
       "output_type": "stream",
       "stream": "stdout",
       "text": [
        "56893.7742145 56893.7889874 "
       ]
      },
      {
       "output_type": "stream",
       "stream": "stdout",
       "text": [
        "56893.8041221 56894.7584364 "
       ]
      },
      {
       "output_type": "stream",
       "stream": "stdout",
       "text": [
        "56894.7732268 56894.7880043 "
       ]
      },
      {
       "output_type": "stream",
       "stream": "stdout",
       "text": [
        "\n",
        "56889.7312269 "
       ]
      },
      {
       "output_type": "stream",
       "stream": "stdout",
       "text": [
        "56889.7409558 "
       ]
      },
      {
       "output_type": "stream",
       "stream": "stdout",
       "text": [
        "56889.7558863 56890.7344779 "
       ]
      },
      {
       "output_type": "stream",
       "stream": "stdout",
       "text": [
        "56890.7561996 "
       ]
      },
      {
       "output_type": "stream",
       "stream": "stdout",
       "text": [
        "56890.7779248 "
       ]
      },
      {
       "output_type": "stream",
       "stream": "stdout",
       "text": [
        "56891.7214011 56891.7361919 "
       ]
      },
      {
       "output_type": "stream",
       "stream": "stdout",
       "text": [
        "56891.7509697 56893.7742145 "
       ]
      },
      {
       "output_type": "stream",
       "stream": "stdout",
       "text": [
        "56893.7889874 56893.8041221 "
       ]
      },
      {
       "output_type": "stream",
       "stream": "stdout",
       "text": [
        "56894.7584364 56894.7732268 "
       ]
      },
      {
       "output_type": "stream",
       "stream": "stdout",
       "text": [
        "56894.7880043 \n",
        "56889.7312269 "
       ]
      },
      {
       "output_type": "stream",
       "stream": "stdout",
       "text": [
        "56889.7409558 56889.7558863 "
       ]
      },
      {
       "output_type": "stream",
       "stream": "stdout",
       "text": [
        "56890.7344779 56890.7561996 "
       ]
      },
      {
       "output_type": "stream",
       "stream": "stdout",
       "text": [
        "56890.7779248 56891.7214011 "
       ]
      },
      {
       "output_type": "stream",
       "stream": "stdout",
       "text": [
        "56891.7361919 56891.7509697 "
       ]
      },
      {
       "output_type": "stream",
       "stream": "stdout",
       "text": [
        "56893.7742145 56893.7889874 "
       ]
      },
      {
       "output_type": "stream",
       "stream": "stdout",
       "text": [
        "56893.8041221 56894.7584364 "
       ]
      },
      {
       "output_type": "stream",
       "stream": "stdout",
       "text": [
        "56894.7732268 56894.7880043 "
       ]
      },
      {
       "output_type": "stream",
       "stream": "stdout",
       "text": [
        "\n",
        "56889.7312269 56889.7409558 "
       ]
      },
      {
       "output_type": "stream",
       "stream": "stdout",
       "text": [
        "56889.7558863 56890.7344779 "
       ]
      },
      {
       "output_type": "stream",
       "stream": "stdout",
       "text": [
        "56890.7561996 56890.7779248 "
       ]
      },
      {
       "output_type": "stream",
       "stream": "stdout",
       "text": [
        "56891.7214011 56891.7361919 "
       ]
      },
      {
       "output_type": "stream",
       "stream": "stdout",
       "text": [
        "56891.7509697 56893.7742145 "
       ]
      },
      {
       "output_type": "stream",
       "stream": "stdout",
       "text": [
        "56893.7889874 56893.8041221 "
       ]
      },
      {
       "output_type": "stream",
       "stream": "stdout",
       "text": [
        "56894.7584364 56894.7732268 "
       ]
      },
      {
       "output_type": "stream",
       "stream": "stdout",
       "text": [
        "56894.7880043 \n",
        "Field35"
       ]
      },
      {
       "output_type": "stream",
       "stream": "stdout",
       "text": [
        "\n",
        "WL aligned"
       ]
      },
      {
       "output_type": "stream",
       "stream": "stdout",
       "text": [
        "\n",
        "WL aligned\n",
        "WL aligned\n",
        "WL aligned\n",
        "56889.7312269 56889.7409558 "
       ]
      },
      {
       "output_type": "stream",
       "stream": "stdout",
       "text": [
        "56889.7558863 56890.7344779 "
       ]
      },
      {
       "output_type": "stream",
       "stream": "stdout",
       "text": [
        "56890.7561996 56890.7779248 "
       ]
      },
      {
       "output_type": "stream",
       "stream": "stdout",
       "text": [
        "56891.7214011 56891.7361919 "
       ]
      },
      {
       "output_type": "stream",
       "stream": "stdout",
       "text": [
        "56891.7509697 56893.7742145 "
       ]
      },
      {
       "output_type": "stream",
       "stream": "stdout",
       "text": [
        "56893.7889874 56893.8041221 "
       ]
      },
      {
       "output_type": "stream",
       "stream": "stdout",
       "text": [
        "56894.7584364 56894.7732268 "
       ]
      },
      {
       "output_type": "stream",
       "stream": "stdout",
       "text": [
        "56894.7880043 \n",
        "56889.7312269 "
       ]
      },
      {
       "output_type": "stream",
       "stream": "stdout",
       "text": [
        "56889.7409558 56889.7558863 "
       ]
      },
      {
       "output_type": "stream",
       "stream": "stdout",
       "text": [
        "56890.7344779 56890.7561996 "
       ]
      },
      {
       "output_type": "stream",
       "stream": "stdout",
       "text": [
        "56890.7779248 56891.7214011 "
       ]
      },
      {
       "output_type": "stream",
       "stream": "stdout",
       "text": [
        "56891.7361919 56891.7509697 "
       ]
      },
      {
       "output_type": "stream",
       "stream": "stdout",
       "text": [
        "56893.7742145 56893.7889874 "
       ]
      },
      {
       "output_type": "stream",
       "stream": "stdout",
       "text": [
        "56893.8041221 56894.7584364 "
       ]
      },
      {
       "output_type": "stream",
       "stream": "stdout",
       "text": [
        "56894.7732268 56894.7880043 "
       ]
      },
      {
       "output_type": "stream",
       "stream": "stdout",
       "text": [
        "\n",
        "56889.7312269 56889.7409558 "
       ]
      },
      {
       "output_type": "stream",
       "stream": "stdout",
       "text": [
        "56889.7558863 56890.7344779 "
       ]
      },
      {
       "output_type": "stream",
       "stream": "stdout",
       "text": [
        "56890.7561996 56890.7779248 "
       ]
      },
      {
       "output_type": "stream",
       "stream": "stdout",
       "text": [
        "56891.7214011 56891.7361919 "
       ]
      },
      {
       "output_type": "stream",
       "stream": "stdout",
       "text": [
        "56891.7509697 56893.7742145 "
       ]
      },
      {
       "output_type": "stream",
       "stream": "stdout",
       "text": [
        "56893.7889874 56893.8041221 "
       ]
      },
      {
       "output_type": "stream",
       "stream": "stdout",
       "text": [
        "56894.7584364 56894.7732268 "
       ]
      },
      {
       "output_type": "stream",
       "stream": "stdout",
       "text": [
        "56894.7880043 \n",
        "56889.7312269 "
       ]
      },
      {
       "output_type": "stream",
       "stream": "stdout",
       "text": [
        "56889.7409558 56889.7558863 "
       ]
      },
      {
       "output_type": "stream",
       "stream": "stdout",
       "text": [
        "56890.7344779 56890.7561996 "
       ]
      },
      {
       "output_type": "stream",
       "stream": "stdout",
       "text": [
        "56890.7779248 56891.7214011 "
       ]
      },
      {
       "output_type": "stream",
       "stream": "stdout",
       "text": [
        "56891.7361919 56891.7509697 "
       ]
      },
      {
       "output_type": "stream",
       "stream": "stdout",
       "text": [
        "56893.7742145 56893.7889874 "
       ]
      },
      {
       "output_type": "stream",
       "stream": "stdout",
       "text": [
        "56893.8041221 56894.7584364 "
       ]
      },
      {
       "output_type": "stream",
       "stream": "stdout",
       "text": [
        "56894.7732268 56894.7880043 "
       ]
      },
      {
       "output_type": "stream",
       "stream": "stdout",
       "text": [
        "\n",
        "Field42"
       ]
      },
      {
       "output_type": "stream",
       "stream": "stdout",
       "text": [
        "\n",
        "WL aligned"
       ]
      },
      {
       "output_type": "stream",
       "stream": "stdout",
       "text": [
        "\n",
        "WL aligned\n",
        "WL aligned\n",
        "WL aligned\n",
        "56889.7312269 56889.7409558 "
       ]
      },
      {
       "output_type": "stream",
       "stream": "stdout",
       "text": [
        "56889.7558863 56890.7344779 "
       ]
      },
      {
       "output_type": "stream",
       "stream": "stdout",
       "text": [
        "56890.7561996 56890.7779248 "
       ]
      },
      {
       "output_type": "stream",
       "stream": "stdout",
       "text": [
        "56891.7214011 56891.7361919 "
       ]
      },
      {
       "output_type": "stream",
       "stream": "stdout",
       "text": [
        "56891.7509697 56893.7742145 "
       ]
      },
      {
       "output_type": "stream",
       "stream": "stdout",
       "text": [
        "56893.7889874 56893.8041221 "
       ]
      },
      {
       "output_type": "stream",
       "stream": "stdout",
       "text": [
        "56894.7584364 56894.7732268 "
       ]
      },
      {
       "output_type": "stream",
       "stream": "stdout",
       "text": [
        "56894.7880043 \n",
        "56889.7312269 "
       ]
      },
      {
       "output_type": "stream",
       "stream": "stdout",
       "text": [
        "56889.7409558 56889.7558863 "
       ]
      },
      {
       "output_type": "stream",
       "stream": "stdout",
       "text": [
        "56890.7344779 56890.7561996 "
       ]
      },
      {
       "output_type": "stream",
       "stream": "stdout",
       "text": [
        "56890.7779248 56891.7214011 "
       ]
      },
      {
       "output_type": "stream",
       "stream": "stdout",
       "text": [
        "56891.7361919 56891.7509697 "
       ]
      },
      {
       "output_type": "stream",
       "stream": "stdout",
       "text": [
        "56893.7742145 56893.7889874 "
       ]
      },
      {
       "output_type": "stream",
       "stream": "stdout",
       "text": [
        "56893.8041221 56894.7584364 "
       ]
      },
      {
       "output_type": "stream",
       "stream": "stdout",
       "text": [
        "56894.7732268 56894.7880043 "
       ]
      },
      {
       "output_type": "stream",
       "stream": "stdout",
       "text": [
        "\n",
        "56889.7312269 56889.7409558 "
       ]
      },
      {
       "output_type": "stream",
       "stream": "stdout",
       "text": [
        "56889.7558863 56890.7344779 "
       ]
      },
      {
       "output_type": "stream",
       "stream": "stdout",
       "text": [
        "56890.7561996 56890.7779248 "
       ]
      },
      {
       "output_type": "stream",
       "stream": "stdout",
       "text": [
        "56891.7214011 56891.7361919 "
       ]
      },
      {
       "output_type": "stream",
       "stream": "stdout",
       "text": [
        "56891.7509697 56893.7742145 "
       ]
      },
      {
       "output_type": "stream",
       "stream": "stdout",
       "text": [
        "56893.7889874 56893.8041221 "
       ]
      },
      {
       "output_type": "stream",
       "stream": "stdout",
       "text": [
        "56894.7584364 56894.7732268 "
       ]
      },
      {
       "output_type": "stream",
       "stream": "stdout",
       "text": [
        "56894.7880043 \n",
        "56889.7312269"
       ]
      },
      {
       "output_type": "stream",
       "stream": "stdout",
       "text": [
        " 56889.7409558 56889.7558863 "
       ]
      },
      {
       "output_type": "stream",
       "stream": "stdout",
       "text": [
        "56890.7344779 56890.7561996 "
       ]
      },
      {
       "output_type": "stream",
       "stream": "stdout",
       "text": [
        "56890.7779248 56891.7214011 "
       ]
      },
      {
       "output_type": "stream",
       "stream": "stdout",
       "text": [
        "56891.7361919 56891.7509697 "
       ]
      },
      {
       "output_type": "stream",
       "stream": "stdout",
       "text": [
        "56893.7742145 56893.7889874 "
       ]
      },
      {
       "output_type": "stream",
       "stream": "stdout",
       "text": [
        "56893.8041221 56894.7584364 "
       ]
      },
      {
       "output_type": "stream",
       "stream": "stdout",
       "text": [
        "56894.7732268 56894.7880043 "
       ]
      },
      {
       "output_type": "stream",
       "stream": "stdout",
       "text": [
        "\n",
        "Giant20"
       ]
      },
      {
       "output_type": "stream",
       "stream": "stdout",
       "text": [
        "\n",
        "WL aligned"
       ]
      },
      {
       "output_type": "stream",
       "stream": "stdout",
       "text": [
        "\n",
        "WL aligned\n",
        "WL aligned\n",
        "WL aligned\n",
        "56889.7312269 "
       ]
      },
      {
       "output_type": "stream",
       "stream": "stdout",
       "text": [
        "56889.7409558 56889.7558863 "
       ]
      },
      {
       "output_type": "stream",
       "stream": "stdout",
       "text": [
        "56890.7344779 56890.7561996 "
       ]
      },
      {
       "output_type": "stream",
       "stream": "stdout",
       "text": [
        "56890.7779248 56891.7214011 "
       ]
      },
      {
       "output_type": "stream",
       "stream": "stdout",
       "text": [
        "56891.7361919 56891.7509697 "
       ]
      },
      {
       "output_type": "stream",
       "stream": "stdout",
       "text": [
        "56893.7742145 56893.7889874 "
       ]
      },
      {
       "output_type": "stream",
       "stream": "stdout",
       "text": [
        "56893.8041221 56894.7584364 "
       ]
      },
      {
       "output_type": "stream",
       "stream": "stdout",
       "text": [
        "56894.7732268 "
       ]
      },
      {
       "output_type": "stream",
       "stream": "stdout",
       "text": [
        "56894.7880043 \n",
        "56889.7312269"
       ]
      },
      {
       "output_type": "stream",
       "stream": "stdout",
       "text": [
        " 56889.7409558 56889.7558863 "
       ]
      },
      {
       "output_type": "stream",
       "stream": "stdout",
       "text": [
        "56890.7344779 56890.7561996 "
       ]
      },
      {
       "output_type": "stream",
       "stream": "stdout",
       "text": [
        "56890.7779248 56891.7214011 "
       ]
      },
      {
       "output_type": "stream",
       "stream": "stdout",
       "text": [
        "56891.7361919 56891.7509697 "
       ]
      },
      {
       "output_type": "stream",
       "stream": "stdout",
       "text": [
        "56893.7742145 56893.7889874 "
       ]
      },
      {
       "output_type": "stream",
       "stream": "stdout",
       "text": [
        "56893.8041221 56894.7584364 "
       ]
      },
      {
       "output_type": "stream",
       "stream": "stdout",
       "text": [
        "56894.7732268 56894.7880043 "
       ]
      },
      {
       "output_type": "stream",
       "stream": "stdout",
       "text": [
        "\n",
        "56889.7312269 56889.7409558 "
       ]
      },
      {
       "output_type": "stream",
       "stream": "stdout",
       "text": [
        "56889.7558863 56890.7344779 "
       ]
      },
      {
       "output_type": "stream",
       "stream": "stdout",
       "text": [
        "56890.7561996 56890.7779248 "
       ]
      },
      {
       "output_type": "stream",
       "stream": "stdout",
       "text": [
        "56891.7214011 56891.7361919 "
       ]
      },
      {
       "output_type": "stream",
       "stream": "stdout",
       "text": [
        "56891.7509697 56893.7742145 "
       ]
      },
      {
       "output_type": "stream",
       "stream": "stdout",
       "text": [
        "56893.7889874 56893.8041221 "
       ]
      },
      {
       "output_type": "stream",
       "stream": "stdout",
       "text": [
        "56894.7584364 56894.7732268 "
       ]
      },
      {
       "output_type": "stream",
       "stream": "stdout",
       "text": [
        "56894.7880043 \n",
        "56889.7312269 "
       ]
      },
      {
       "output_type": "stream",
       "stream": "stdout",
       "text": [
        "56889.7409558 56889.7558863 "
       ]
      },
      {
       "output_type": "stream",
       "stream": "stdout",
       "text": [
        "56890.7344779 56890.7561996 "
       ]
      },
      {
       "output_type": "stream",
       "stream": "stdout",
       "text": [
        "56890.7779248 56891.7214011 "
       ]
      },
      {
       "output_type": "stream",
       "stream": "stdout",
       "text": [
        "56891.7361919 56891.7509697 "
       ]
      },
      {
       "output_type": "stream",
       "stream": "stdout",
       "text": [
        "56893.7742145 56893.7889874 "
       ]
      },
      {
       "output_type": "stream",
       "stream": "stdout",
       "text": [
        "56893.8041221 56894.7584364 "
       ]
      },
      {
       "output_type": "stream",
       "stream": "stdout",
       "text": [
        "56894.7732268 56894.7880043 "
       ]
      },
      {
       "output_type": "stream",
       "stream": "stdout",
       "text": [
        "\n"
       ]
      }
     ],
     "prompt_number": 14
    },
    {
     "cell_type": "code",
     "collapsed": false,
     "input": [
      "# Collects information on all stars and writes them into these arrays:\n",
      "#     data[thisStar.name, thisStar.Vmag, thisStar.exposures.pivots]\n",
      "#     RVs\n",
      "#     sigmas\n",
      "#     JDs\n",
      "# It will skip stars with sigma=0.\n",
      "    \n",
      "    \n",
      "fileList = glob.glob('red*.obj')\n",
      "\n",
      "data = []\n",
      "RVs = np.zeros((len(fileList),15,4))\n",
      "sigmas = np.ones((len(fileList),15,4)) * 100\n",
      "\n",
      "for i in range(len(fileList)):\n",
      "\n",
      "    print i,fileList[i]\n",
      "    filehandler = open(fileList[i], 'r') \n",
      "    thisStar = pickle.load(filehandler) \n",
      "    if ((thisStar.exposures.cameras[0].sigmas.all()!=0) and\n",
      "        (thisStar.exposures.cameras[1].sigmas.all()!=0) and\n",
      "        (thisStar.exposures.cameras[2].sigmas.all()!=0) and\n",
      "        (thisStar.exposures.cameras[3].sigmas.all()!=0)):\n",
      "        \n",
      "        data.append([thisStar.name, thisStar.Vmag,np.unique(thisStar.exposures.pivots)[0]])\n",
      "        RVs[i,:,0] = thisStar.exposures.cameras[0].RVs\n",
      "        RVs[i,:,1] = thisStar.exposures.cameras[1].RVs\n",
      "        RVs[i,:,2] = thisStar.exposures.cameras[2].RVs\n",
      "        RVs[i,:,3] = thisStar.exposures.cameras[3].RVs\n",
      "        sigmas[i,:,0] = thisStar.exposures.cameras[0].sigmas\n",
      "        sigmas[i,:,1] = thisStar.exposures.cameras[1].sigmas\n",
      "        sigmas[i,:,2] = thisStar.exposures.cameras[2].sigmas\n",
      "        sigmas[i,:,3] = thisStar.exposures.cameras[3].sigmas\n",
      "        JDs = thisStar.exposures.JDs\n",
      "        filehandler.close()\n",
      "        thisStar = None\n",
      "    else:\n",
      "        print 'Sigma=0'\n",
      "    \n",
      "data = np.array(data)\n",
      "order = np.argsort(data[:,2].astype(int))\n",
      "\n",
      "data = data[order]\n",
      "RVs = RVs[order]\n",
      "sigmas = sigmas[order]\n",
      "\n",
      "print ''\n",
      "print 'data',len(data)\n",
      "print 'RVs',RVs.shape\n",
      "print 'sigmas',sigmas.shape\n",
      "print 'JDs',JDs.shape\n",
      "\n"
     ],
     "language": "python",
     "metadata": {},
     "outputs": [
      {
       "output_type": "stream",
       "stream": "stdout",
       "text": [
        "0 red_Field02.obj\n",
        "1"
       ]
      },
      {
       "output_type": "stream",
       "stream": "stdout",
       "text": [
        " red_Field03.obj\n",
        "2"
       ]
      },
      {
       "output_type": "stream",
       "stream": "stdout",
       "text": [
        " red_Field04.obj\n",
        "3"
       ]
      },
      {
       "output_type": "stream",
       "stream": "stdout",
       "text": [
        " red_Field05.obj\n",
        "4"
       ]
      },
      {
       "output_type": "stream",
       "stream": "stdout",
       "text": [
        " red_Field06.obj\n",
        "Sigma=0"
       ]
      },
      {
       "output_type": "stream",
       "stream": "stdout",
       "text": [
        "\n",
        "5 red_Field07.obj\n",
        "6"
       ]
      },
      {
       "output_type": "stream",
       "stream": "stdout",
       "text": [
        " red_Field08.obj\n",
        "7"
       ]
      },
      {
       "output_type": "stream",
       "stream": "stdout",
       "text": [
        " red_Field09.obj\n",
        "Sigma=0"
       ]
      },
      {
       "output_type": "stream",
       "stream": "stdout",
       "text": [
        "\n",
        "8 red_Field11.obj\n",
        "9"
       ]
      },
      {
       "output_type": "stream",
       "stream": "stdout",
       "text": [
        " red_Field12.obj\n",
        "Sigma=0"
       ]
      },
      {
       "output_type": "stream",
       "stream": "stdout",
       "text": [
        "\n",
        "10 red_Field13.obj\n",
        "11"
       ]
      },
      {
       "output_type": "stream",
       "stream": "stdout",
       "text": [
        " red_Field14.obj\n",
        "12"
       ]
      },
      {
       "output_type": "stream",
       "stream": "stdout",
       "text": [
        " red_Field15.obj\n",
        "Sigma=0"
       ]
      },
      {
       "output_type": "stream",
       "stream": "stdout",
       "text": [
        "\n",
        "13 red_Field16.obj\n",
        "Sigma=0"
       ]
      },
      {
       "output_type": "stream",
       "stream": "stdout",
       "text": [
        "\n",
        "14 red_Field17.obj\n",
        "Sigma=0"
       ]
      },
      {
       "output_type": "stream",
       "stream": "stdout",
       "text": [
        "\n",
        "15 red_Field18.obj\n",
        "16"
       ]
      },
      {
       "output_type": "stream",
       "stream": "stdout",
       "text": [
        " red_Field19.obj\n",
        "17"
       ]
      },
      {
       "output_type": "stream",
       "stream": "stdout",
       "text": [
        " red_Field21.obj\n",
        "Sigma=0"
       ]
      },
      {
       "output_type": "stream",
       "stream": "stdout",
       "text": [
        "\n",
        "18 red_Field23.obj\n",
        "19"
       ]
      },
      {
       "output_type": "stream",
       "stream": "stdout",
       "text": [
        " red_Field24.obj\n",
        "20"
       ]
      },
      {
       "output_type": "stream",
       "stream": "stdout",
       "text": [
        " red_Field25.obj\n",
        "Sigma=0"
       ]
      },
      {
       "output_type": "stream",
       "stream": "stdout",
       "text": [
        "\n",
        "21 red_Field27.obj\n",
        "Sigma=0"
       ]
      },
      {
       "output_type": "stream",
       "stream": "stdout",
       "text": [
        "\n",
        "22 red_Field28.obj\n",
        "Sigma=0"
       ]
      },
      {
       "output_type": "stream",
       "stream": "stdout",
       "text": [
        "\n",
        "23 red_Field30.obj\n",
        "24"
       ]
      },
      {
       "output_type": "stream",
       "stream": "stdout",
       "text": [
        " red_Field31.obj\n",
        "25"
       ]
      },
      {
       "output_type": "stream",
       "stream": "stdout",
       "text": [
        " red_Field33.obj\n",
        "26"
       ]
      },
      {
       "output_type": "stream",
       "stream": "stdout",
       "text": [
        " red_Field34.obj\n",
        "27"
       ]
      },
      {
       "output_type": "stream",
       "stream": "stdout",
       "text": [
        " red_Field35.obj\n",
        "Sigma=0"
       ]
      },
      {
       "output_type": "stream",
       "stream": "stdout",
       "text": [
        "\n",
        "28 red_Field36.obj\n",
        "Sigma=0"
       ]
      },
      {
       "output_type": "stream",
       "stream": "stdout",
       "text": [
        "\n",
        "29 red_Field37.obj\n",
        "30"
       ]
      },
      {
       "output_type": "stream",
       "stream": "stdout",
       "text": [
        " red_Field38.obj\n",
        "Sigma=0"
       ]
      },
      {
       "output_type": "stream",
       "stream": "stdout",
       "text": [
        "\n",
        "31 red_Field39.obj\n",
        "32"
       ]
      },
      {
       "output_type": "stream",
       "stream": "stdout",
       "text": [
        " red_Field40.obj\n",
        "Sigma=0"
       ]
      },
      {
       "output_type": "stream",
       "stream": "stdout",
       "text": [
        "\n",
        "33 red_Field41.obj\n",
        "Sigma=0"
       ]
      },
      {
       "output_type": "stream",
       "stream": "stdout",
       "text": [
        "\n",
        "34 red_Field42.obj\n",
        "Sigma=0"
       ]
      },
      {
       "output_type": "stream",
       "stream": "stdout",
       "text": [
        "\n",
        "35 red_Giant01.obj\n",
        "36"
       ]
      },
      {
       "output_type": "stream",
       "stream": "stdout",
       "text": [
        " red_Giant02.obj\n",
        "37"
       ]
      },
      {
       "output_type": "stream",
       "stream": "stdout",
       "text": [
        " red_Giant03.obj\n",
        "Sigma=0"
       ]
      },
      {
       "output_type": "stream",
       "stream": "stdout",
       "text": [
        "\n",
        "38 red_Giant05.obj\n",
        "39"
       ]
      },
      {
       "output_type": "stream",
       "stream": "stdout",
       "text": [
        " red_Giant06.obj\n",
        "40"
       ]
      },
      {
       "output_type": "stream",
       "stream": "stdout",
       "text": [
        " red_Giant09.obj\n",
        "41"
       ]
      },
      {
       "output_type": "stream",
       "stream": "stdout",
       "text": [
        " red_Giant10.obj\n",
        "42"
       ]
      },
      {
       "output_type": "stream",
       "stream": "stdout",
       "text": [
        " red_Giant11.obj\n",
        "43"
       ]
      },
      {
       "output_type": "stream",
       "stream": "stdout",
       "text": [
        " red_Giant12.obj\n",
        "44"
       ]
      },
      {
       "output_type": "stream",
       "stream": "stdout",
       "text": [
        " red_Giant14.obj\n",
        "Sigma=0"
       ]
      },
      {
       "output_type": "stream",
       "stream": "stdout",
       "text": [
        "\n",
        "45 red_Giant15.obj\n",
        "Sigma=0"
       ]
      },
      {
       "output_type": "stream",
       "stream": "stdout",
       "text": [
        "\n",
        "46 red_Giant17.obj\n",
        "Sigma=0"
       ]
      },
      {
       "output_type": "stream",
       "stream": "stdout",
       "text": [
        "\n",
        "47 red_Giant18.obj\n",
        "48"
       ]
      },
      {
       "output_type": "stream",
       "stream": "stdout",
       "text": [
        " red_Giant19.obj\n",
        "49"
       ]
      },
      {
       "output_type": "stream",
       "stream": "stdout",
       "text": [
        " red_Giant20.obj\n",
        "Sigma=0"
       ]
      },
      {
       "output_type": "stream",
       "stream": "stdout",
       "text": [
        "\n",
        "50 red_Giant21.obj\n",
        "51"
       ]
      },
      {
       "output_type": "stream",
       "stream": "stdout",
       "text": [
        " red_Giant22.obj\n",
        "Sigma=0"
       ]
      },
      {
       "output_type": "stream",
       "stream": "stdout",
       "text": [
        "\n",
        "52 red_Giant23.obj\n",
        "53"
       ]
      },
      {
       "output_type": "stream",
       "stream": "stdout",
       "text": [
        " red_Giant24.obj\n",
        "54"
       ]
      },
      {
       "output_type": "stream",
       "stream": "stdout",
       "text": [
        " red_Giant25.obj\n",
        "55"
       ]
      },
      {
       "output_type": "stream",
       "stream": "stdout",
       "text": [
        " red_Giant26.obj\n",
        "56"
       ]
      },
      {
       "output_type": "stream",
       "stream": "stdout",
       "text": [
        " red_Giant27.obj\n",
        "57"
       ]
      },
      {
       "output_type": "stream",
       "stream": "stdout",
       "text": [
        " red_Giant28.obj\n",
        "Sigma=0"
       ]
      },
      {
       "output_type": "stream",
       "stream": "stdout",
       "text": [
        "\n",
        "58 red_Giant29.obj\n",
        "59"
       ]
      },
      {
       "output_type": "stream",
       "stream": "stdout",
       "text": [
        " red_Giant32.obj\n",
        "60"
       ]
      },
      {
       "output_type": "stream",
       "stream": "stdout",
       "text": [
        " red_Giant33.obj\n",
        "61"
       ]
      },
      {
       "output_type": "stream",
       "stream": "stdout",
       "text": [
        " red_Giant34.obj\n",
        "62"
       ]
      },
      {
       "output_type": "stream",
       "stream": "stdout",
       "text": [
        " red_Giant35.obj\n",
        "Sigma=0"
       ]
      },
      {
       "output_type": "stream",
       "stream": "stdout",
       "text": [
        "\n",
        "63 red_Giant36.obj\n",
        "64"
       ]
      },
      {
       "output_type": "stream",
       "stream": "stdout",
       "text": [
        " red_Giant37.obj\n",
        "Sigma=0"
       ]
      },
      {
       "output_type": "stream",
       "stream": "stdout",
       "text": [
        "\n",
        "65 red_Giant38.obj\n",
        "Sigma=0"
       ]
      },
      {
       "output_type": "stream",
       "stream": "stdout",
       "text": [
        "\n",
        "\n",
        "data 40\n",
        "RVs (40, 15, 4)\n",
        "sigmas (40, 15, 4)\n",
        "JDs (15,)\n"
       ]
      }
     ],
     "prompt_number": 3
    },
    {
     "cell_type": "code",
     "collapsed": false,
     "input": [
      "# #save?\n",
      "# np.save('data',data)\n",
      "# np.save('RVs',RVs)\n",
      "# np.save('sigmas',sigmas)\n",
      "# np.save('JDs',JDs)\n",
      "\n"
     ],
     "language": "python",
     "metadata": {},
     "outputs": [],
     "prompt_number": 4
    },
    {
     "cell_type": "heading",
     "level": 3,
     "metadata": {},
     "source": [
      "Data post-process "
     ]
    },
    {
     "cell_type": "code",
     "collapsed": false,
     "input": [
      "#Load?\n",
      "data=np.load('data.npy')\n",
      "RVs=np.load('RVs.npy')\n",
      "sigmas=np.load('sigmas.npy')\n",
      "JDs=np.load('JDs.npy')\n"
     ],
     "language": "python",
     "metadata": {},
     "outputs": [
      {
       "ename": "NameError",
       "evalue": "name 'np' is not defined",
       "output_type": "pyerr",
       "traceback": [
        "\u001b[0;31m---------------------------------------------------------------------------\u001b[0m\n\u001b[0;31mNameError\u001b[0m                                 Traceback (most recent call last)",
        "\u001b[0;32m<ipython-input-1-c0948631bbb4>\u001b[0m in \u001b[0;36m<module>\u001b[0;34m()\u001b[0m\n\u001b[1;32m      1\u001b[0m \u001b[0;31m#Load?\u001b[0m\u001b[0;34m\u001b[0m\u001b[0;34m\u001b[0m\u001b[0m\n\u001b[0;32m----> 2\u001b[0;31m \u001b[0mdata\u001b[0m\u001b[0;34m=\u001b[0m\u001b[0mnp\u001b[0m\u001b[0;34m.\u001b[0m\u001b[0mload\u001b[0m\u001b[0;34m(\u001b[0m\u001b[0;34m'data.npy'\u001b[0m\u001b[0;34m)\u001b[0m\u001b[0;34m\u001b[0m\u001b[0m\n\u001b[0m\u001b[1;32m      3\u001b[0m \u001b[0mRVs\u001b[0m\u001b[0;34m=\u001b[0m\u001b[0mnp\u001b[0m\u001b[0;34m.\u001b[0m\u001b[0mload\u001b[0m\u001b[0;34m(\u001b[0m\u001b[0;34m'RVs.npy'\u001b[0m\u001b[0;34m)\u001b[0m\u001b[0;34m\u001b[0m\u001b[0m\n\u001b[1;32m      4\u001b[0m \u001b[0msigmas\u001b[0m\u001b[0;34m=\u001b[0m\u001b[0mnp\u001b[0m\u001b[0;34m.\u001b[0m\u001b[0mload\u001b[0m\u001b[0;34m(\u001b[0m\u001b[0;34m'sigmas.npy'\u001b[0m\u001b[0;34m)\u001b[0m\u001b[0;34m\u001b[0m\u001b[0m\n\u001b[1;32m      5\u001b[0m \u001b[0mJDs\u001b[0m\u001b[0;34m=\u001b[0m\u001b[0mnp\u001b[0m\u001b[0;34m.\u001b[0m\u001b[0mload\u001b[0m\u001b[0;34m(\u001b[0m\u001b[0;34m'JDs.npy'\u001b[0m\u001b[0;34m)\u001b[0m\u001b[0;34m\u001b[0m\u001b[0m\n",
        "\u001b[0;31mNameError\u001b[0m: name 'np' is not defined"
       ]
      }
     ],
     "prompt_number": 1
    },
    {
     "cell_type": "code",
     "collapsed": false,
     "input": [
      "#index value of main star in data array\n",
      "myTarget=20\n",
      "print data[myTarget] #print to confirm [name, mag, pivot]"
     ],
     "language": "python",
     "metadata": {},
     "outputs": [
      {
       "output_type": "stream",
       "stream": "stdout",
       "text": [
        "['Giant01' '7.67' '223']\n"
       ]
      }
     ],
     "prompt_number": 6
    },
    {
     "cell_type": "code",
     "collapsed": false,
     "input": [
      "#the full loop\n",
      "\n",
      "#array to map pivot# to y-position\n",
      "p2y = RVT.pivot_to_y('20aug10037tlm.fits')\n",
      "\n",
      "#quad reduced RVs array initialise\n",
      "quadRVs = np.zeros(RVs.shape)\n",
      "\n",
      "\n",
      "for thisTarget in range(RVs.shape[0]): #1 loop per target\n",
      "\n",
      "    thisSigmas = sigmas.copy()\n",
      "    thisSigmas[thisTarget,:,:] = 1e4 #increase sigma of thisTarget to minimise resulting weight\n",
      "\n",
      "    #distances to target (in y-coords)\n",
      "    deltay = p2y[data[:,2].astype(int)] - p2y[data[myTarget,2].astype(int)]\n",
      "#     mask = np.zeros(RVs.shape[0]).astype(bool)\n",
      "#     mask[myTarget] = True\n",
      "#     deltay_mx = np.ma.masked_array(deltay, mask=mask) #removed myTarget\n",
      "    \n",
      "    #create RV mask to exclude target and stars with RV>3000m/s\\\n",
      "#     mask = np.zeros(RVs.shape).astype(bool)\n",
      "#     RVs_mx = np.ma.masked_array(RVs, mask=mask)\n",
      "#     sigmas_mx = np.ma.masked_array(RVs, mask=mask)\n",
      "    #     mask[np.unique(np.where(np.abs(RVs)>3000)[0])]=False\n",
      "#     mask[[33]]=False\n",
      "    \n",
      "    c = ['b','g','r','cyan']\n",
      "\n",
      "    for cam in range(4):\n",
      "        \n",
      "        weights = RVT.calibrator_weights(deltay, thisSigmas[:,0,cam])\n",
      "\n",
      "        for epoch in range(RVs.shape[1]):\n",
      "            \n",
      "            order = np.argsort(deltay)\n",
      "            quadX = deltay[order]\n",
      "            quadY = RVs[:,epoch,cam][order]\n",
      "            fRVs,__ = RVT.fit_quad([1,1,0], quadX, quadY )\n",
      "            fittedCurve = RVT.quad(quadX, fRVs[0], fRVs[1], fRVs[2])\n",
      "            quadRVs[thisTarget,epoch,cam]=RVs[thisTarget,epoch,cam]-np.sum(weights[order]*(RVs[:,epoch,cam][order])) #-fittedCurve\n",
      "            if cam == 0:\n",
      "                if epoch==0:\n",
      "                    print ''\n",
      "                    print data[thisTarget,0]\n",
      "#                     plt.scatter(quadX, quadY, marker= '+', c= 'k' , label='Original RVs')\n",
      "#                     plt.plot(quadX,fittedCurve, label='Quadratic fit')\n",
      "#                     plt.scatter(quadX,quadY-fittedCurve, c=c[cam], label='Quadratic corrected RVs')\n",
      "#                     plt.legend(loc=0)\n",
      "#                     plt.show()\n",
      "                print '','RV',RVs[thisTarget,epoch,cam], 'Correction', np.sum(weights[order]*(RVs[:,epoch,cam][order]))\n",
      "                \n",
      "#             print RVs[myTarget,epoch,cam]-np.sum(weights*RVs[:,epoch,cam][mask]),RVs[myTarget,epoch,cam],np.sum(weights*RVs[:,epoch,cam][mask])\n",
      "#             if cam==0:plt.errorbar(epoch,RVs[myTarget,epoch,cam]-np.sum(weights*RVs[:,epoch,cam][mask]))\n",
      "#             if epoch==3:\n",
      "# #                 plt.scatter(deltay[mask][order],\n",
      "# #                             RVs[:,epoch,cam][mask][order]-fittedCurve[myTarget],\n",
      "# #                             s = 10**3*weights,\n",
      "# #                             c= 'r', \n",
      "# #                             label = cam,\n",
      "# #                             marker ='o')\n",
      "#                 plt.scatter(deltay[mask],\n",
      "#                             RVs[:,epoch,cam][mask],\n",
      "#                             s = 10**3*weights,\n",
      "#                             c= c[cam], \n",
      "#                             label = cam,\n",
      "#                             marker ='o')\n",
      "#                 plt.scatter(deltay[mask], quadRVs[:,epoch,cam][mask], s = 10**3*weights,c= c[cam], label = cam)\n",
      "#                 plt.scatter(deltay[mask], stableRVs[:,epoch,cam][mask], s = 10**3*weights, marker= '+', c= 'k')\n",
      "#             order = np.argsort(deltay[mask])\n",
      "#             plt.plot(deltay[mask][order], (weights*2000)[order], label=i,c= c[cam])\n",
      "#             plt.plot(deltay[mask][order], (sigmas[:,epoch,cam]*100)[order], label=i,c= c[cam])\n",
      "#     plt.xticks(data[:,0])\n",
      "#     ax.set_xticks(deltay[mask])\n",
      "#     ax.set_xticklabels(data[:,0][mask])\n",
      "# plt.legend()\n",
      "# plt.ylabel('RV[m/s]')\n",
      "# plt.xlabel('deltay[px]')\n",
      "# plt.show()\n",
      "quadRVs = np.array(quadRVs)\n"
     ],
     "language": "python",
     "metadata": {},
     "outputs": [
      {
       "output_type": "stream",
       "stream": "stdout",
       "text": [
        "\n",
        "Giant12\n",
        " RV 0.00667809636439 Correction 0.00234242548258\n",
        " RV 2028.08496345 Correction -27.5680171952\n",
        " RV 421.707061313 Correction -43.9378481954\n",
        " RV -2472.58959968 Correction -2022.47621844\n",
        " RV -8679.16722509 Correction -2098.60727285\n",
        " RV -16403.905398 Correction -2081.23253558\n",
        " RV -59.1099379464 Correction -135.632188347\n",
        " RV 12536.3525359 Correction -154.634262803\n",
        " RV -1515.56349382 Correction -202.73265781\n",
        " RV 5240.02805866 Correction 1.23891207051\n",
        " RV -2538.41470698 Correction -122.651170809\n",
        " RV -3360.77809282 Correction -337.344944331\n",
        " RV -7605.64919384 Correction -6151.05652253\n",
        " RV -8085.15784021 Correction -6182.01248396\n",
        " RV -13057.0710065 Correction -6251.17449859\n"
       ]
      },
      {
       "output_type": "stream",
       "stream": "stdout",
       "text": [
        "\n",
        "Field05\n",
        " RV 0.00497181891072 Correction 0.00234609590881\n",
        " RV -199.811454045 Correction -4.26670540942\n",
        " RV -234.975708688 Correction -36.1867361963\n",
        " RV -1022.72554829 Correction -2299.11365679\n",
        " RV -963.20960408 Correction -2442.9736138\n",
        " RV -987.249876308 Correction -2491.15588915\n",
        " RV -562.282076648 Correction -124.004502799\n",
        " RV -898.885137765 Correction -16.8671275493\n",
        " RV -854.07999183 Correction -195.093316629\n",
        " RV 536.416678915 Correction -24.8927775121\n",
        " RV 479.290116437 Correction -226.011214217\n",
        " RV 289.825989784 Correction -459.220478533\n",
        " RV -9850.4914293 Correction -6050.97793827\n",
        " RV -9717.77083297 Correction -6090.89549341\n",
        " RV -9829.52240141 Correction -6203.68792807\n"
       ]
      },
      {
       "output_type": "stream",
       "stream": "stdout",
       "text": [
        "\n",
        "Giant02\n",
        " RV 0.0 Correction 0.00237534425279\n",
        " RV 0.0 Correction -14.1354309046\n",
        " RV 0.0 Correction -40.7252706452\n",
        " RV 0.0 Correction -2016.57038334\n",
        " RV 0.0 Correction -2132.29531803\n",
        " RV 0.0 Correction -2165.22782567\n",
        " RV 0.0 Correction -135.136899288\n",
        " RV 0.0 Correction -72.3020745397\n",
        " RV 0.0 Correction -211.453443337\n",
        " RV 0.0 Correction 39.2944276831\n",
        " RV 0.0 Correction -134.403250437\n",
        " RV 0.0 Correction -353.114432614\n",
        " RV 0.0 Correction -6186.59326322\n",
        " RV 0.0 Correction -6220.80758324\n",
        " RV 0.0 Correction -6321.98818461\n"
       ]
      },
      {
       "output_type": "stream",
       "stream": "stdout",
       "text": [
        "\n",
        "Field24\n",
        " RV 0.0 Correction 0.00237639104615\n",
        " RV 0.0 Correction -14.1374333441\n",
        " RV 0.0 Correction -40.748557482\n",
        " RV 0.0 Correction -2017.79107999\n",
        " RV 0.0 Correction -2133.59946752\n",
        " RV 0.0 Correction -2166.57402328\n",
        " RV 0.0 Correction -135.202515334\n",
        " RV 0.0 Correction -72.2912308024\n",
        " RV 0.0 Correction -211.555933423\n",
        " RV 0.0 Correction 39.2241476563\n",
        " RV 0.0 Correction -134.582107321\n",
        " RV 0.0 Correction -353.40018842\n",
        " RV 0.0 Correction -6188.92074347\n",
        " RV 0.0 Correction -6223.14409594\n",
        " RV 0.0 Correction -6324.38621417\n"
       ]
      },
      {
       "output_type": "stream",
       "stream": "stdout",
       "text": [
        "\n",
        "Field34\n",
        " RV 0.00418583917689 Correction 0.00235806603797\n",
        " RV 152.582379378 Correction -16.3415549865\n",
        " RV 28.1175935692 Correction -42.6241209722\n",
        " RV 314.904221763 Correction -2101.44866683\n",
        " RV 461.939668537 Correction -2225.63377891\n",
        " RV 482.94788433 Correction -2262.76893125\n",
        " RV 482.110543347 Correction -146.217594764\n",
        " RV 497.337955407 Correction -76.6737935897\n",
        " RV 428.998762017 Correction -223.638718464\n",
        " RV 1375.32152329 Correction 8.24271509306\n",
        " RV 1249.97005982 Correction -170.759329072\n",
        " RV 1158.05069622 Correction -393.729013281\n",
        " RV 8484.24316107 Correction -6401.06902253\n",
        " RV 8703.02721248 Correction -6438.73460809\n",
        " RV 8460.42923087 Correction -6540.12956662\n"
       ]
      },
      {
       "output_type": "stream",
       "stream": "stdout",
       "text": [
        "\n",
        "Field08\n",
        " RV 0.00529546115921 Correction 0.002330639308\n",
        " RV -262.22465428 Correction -7.05565280961\n",
        " RV -486.765593724 Correction -30.9292323013\n",
        " RV -75604.7057136 Correction -224.443483748\n",
        " RV -76059.4647064 Correction -339.809286275\n",
        " RV -76148.9333698 Correction -377.536643728\n",
        " RV -856.442595322 Correction -119.632368269\n",
        " RV -1160.1875563 Correction -36.2733893693\n",
        " RV -790.812656061 Correction -201.247605641\n",
        " RV -17947.9090939 Correction 482.752023837\n",
        " RV -19365.260658 Correction 331.975374428\n",
        " RV -21440.8507154 Correction 155.898596817\n",
        " RV -69564.797533 Correction -4554.80374504\n",
        " RV -69550.4912553 Correction -4589.41893641\n",
        " RV -68936.427086 Correction -4713.81935662\n"
       ]
      },
      {
       "output_type": "stream",
       "stream": "stdout",
       "text": [
        "\n",
        "Giant36\n",
        " RV 0.00804050033684 Correction 0.00229522829762\n",
        " RV -168.683896975 Correction -11.3007055489\n",
        " RV -1020.24140802 Correction -25.9847915473\n",
        " RV -55.5509343593 Correction -2090.79875483\n",
        " RV -65.4414442752 Correction -2212.10323442\n",
        " RV -242.110596863 Correction -2245.82478819\n",
        " RV -180.382215146 Correction -135.599265347\n",
        " RV -62.0777326835 Correction -68.2047459151\n",
        " RV -85.2264812914 Correction -215.269065985\n",
        " RV 16.9715109887 Correction 30.4825460902\n",
        " RV -28.2077397244 Correction -149.335994624\n",
        " RV -195.752611624 Correction -370.834756911\n",
        " RV 3812.48004328 Correction -6326.41704163\n",
        " RV 3772.03406116 Correction -6360.02446965\n",
        " RV 3456.16624372 Correction -6460.01378472\n"
       ]
      },
      {
       "output_type": "stream",
       "stream": "stdout",
       "text": [
        "\n",
        "Giant10\n",
        " RV 0.00443474029199 Correction 0.00235163789895\n",
        " RV 27.1600280429 Correction -14.3742147365\n",
        " RV 13.7395580687 Correction -41.8770303783\n",
        " RV 297.397683653 Correction -2073.65763038\n",
        " RV 329.439889561 Correction -2193.84622315\n",
        " RV 262.884180675 Correction -2228.42622894\n",
        " RV 523.676903383 Correction -144.284004226\n",
        " RV 302.875708101 Correction -74.0824689688\n",
        " RV 402.587205976 Correction -220.356261293\n",
        " RV 1723.12232874 Correction 11.0478719121\n",
        " RV 1584.13145981 Correction -165.690412506\n",
        " RV 1577.88777545 Correction -388.204195714\n",
        " RV 12027.9994527 Correction -6400.52897577\n",
        " RV 11974.6342618 Correction -6434.08963735\n",
        " RV 12000.8957607 Correction -6538.30131835\n"
       ]
      },
      {
       "output_type": "stream",
       "stream": "stdout",
       "text": [
        "\n",
        "Field11\n",
        " RV 0.00604051340184 Correction 0.00227177502564\n",
        " RV 257.351765328 Correction -24.1443399213\n",
        " RV 42.1365807506 Correction -46.3267993167\n",
        " RV -1368.84312081 Correction -2173.79140497\n",
        " RV -1024.26689174 Correction -2319.36877885\n",
        " RV -954.032000177 Correction -2364.83850902\n",
        " RV -1429.98580608 Correction -87.1837236127\n",
        " RV -1137.05425787 Correction -18.6935844144\n",
        " RV -954.746817621 Correction -188.055938106\n",
        " RV -34.5423229267 Correction 18.2846665576\n",
        " RV -130.565875974 Correction -170.805244845\n",
        " RV -425.64690064 Correction -393.467459637\n",
        " RV -7496.27250938 Correction -6136.16463349\n",
        " RV -7765.28467653 Correction -6159.84797195\n",
        " RV -7847.3950151 Correction -6268.45184093\n"
       ]
      },
      {
       "output_type": "stream",
       "stream": "stdout",
       "text": [
        "\n",
        "Field39\n",
        " RV 0.00137591584431 Correction 0.00246226532238\n",
        " RV -83.5871494459 Correction -10.3063334993\n",
        " RV -168.853651364 Correction -37.7418964032\n",
        " RV -606.893079823 Correction -2209.64800179\n",
        " RV -662.840896855 Correction -2339.45428456\n",
        " RV -716.812437227 Correction -2380.11078457\n",
        " RV -611.52468971 Correction -119.743679808\n",
        " RV -757.339879194 Correction -32.9541337409\n",
        " RV -763.375947706 Correction -195.331018407\n",
        " RV -209.465917298 Correction 25.0157162406\n",
        " RV -315.101969347 Correction -164.094730343\n",
        " RV -296.689826059 Correction -399.862011063\n",
        " RV -510.281964387 Correction -6424.92111937\n",
        " RV -550.918472875 Correction -6457.77631016\n",
        " RV -567.83420297 Correction -6569.2830181\n"
       ]
      },
      {
       "output_type": "stream",
       "stream": "stdout",
       "text": [
        "\n",
        "Giant33\n",
        " RV 0.0 Correction 0.00238058273584\n",
        " RV 0.0 Correction -14.1744139644\n",
        " RV 0.0 Correction -40.8052193864\n",
        " RV 0.0 Correction -2020.4042385\n",
        " RV 0.0 Correction -2136.32442839\n",
        " RV 0.0 Correction -2169.27869201\n",
        " RV 0.0 Correction -135.423723954\n",
        " RV 0.0 Correction -72.5404284277\n",
        " RV 0.0 Correction -211.902583535\n",
        " RV 0.0 Correction 39.5429239443\n",
        " RV 0.0 Correction -134.478643445\n",
        " RV 0.0 Correction -353.652735445\n",
        " RV 0.0 Correction -6200.9738887\n",
        " RV 0.0 Correction -6235.27483278\n",
        " RV 0.0 Correction -6336.64729948\n"
       ]
      },
      {
       "output_type": "stream",
       "stream": "stdout",
       "text": [
        "\n",
        "Giant24\n",
        " RV 0.00646910386384 Correction 0.0022920678025\n",
        " RV -773.927804792 Correction 3.78876019464\n",
        " RV -86.7704638379 Correction -40.468907087\n",
        " RV 1313.26065993 Correction -2140.8966115\n",
        " RV -3444.44036097 Correction -2153.96470275\n",
        " RV -1674.76974655 Correction -2231.74810512\n",
        " RV 1684.04561293 Correction -178.37001087\n",
        " RV 3447.25237622 Correction -148.794125458\n",
        " RV 544.321250704 Correction -230.917525368\n",
        " RV 3250.05758064 Correction -44.5805818609\n",
        " RV 1834.6656871 Correction -194.171443987\n",
        " RV -1793.85341071 Correction -336.560490908\n",
        " RV -3725.08044666 Correction -6226.05704497\n",
        " RV -3064.66630399 Correction -6275.73524511\n",
        " RV -4816.083966 Correction -6341.32084874\n"
       ]
      },
      {
       "output_type": "stream",
       "stream": "stdout",
       "text": [
        "\n",
        "Giant29\n",
        " RV 0.00161628713311 Correction 0.00241138921135\n",
        " RV -151.135593549 Correction -9.90483374926\n",
        " RV -109.644919208 Correction -39.8359973764\n",
        " RV -333.681371783 Correction -2121.00701023\n",
        " RV -415.337088104 Correction -2242.85259585\n",
        " RV -607.013853512 Correction -2275.43095131\n",
        " RV -108.222036117 Correction -137.573240114\n",
        " RV -187.72568329 Correction -63.7665295503\n",
        " RV -183.412771811 Correction -214.856294659\n",
        " RV -302.524584177 Correction 36.8910484324\n",
        " RV -410.510337933 Correction -144.107289431\n",
        " RV -337.546116824 Correction -373.636395768\n",
        " RV 2755.41405111 Correction -6416.13529654\n",
        " RV 2773.76149833 Correction -6451.17825381\n",
        " RV 2757.6101588 Correction -6557.6518884\n"
       ]
      },
      {
       "output_type": "stream",
       "stream": "stdout",
       "text": [
        "\n",
        "Giant18\n",
        " RV 0.0 Correction 0.00238111639768\n",
        " RV 0.0 Correction -14.1881335126\n",
        " RV 0.0 Correction -40.8010498102\n",
        " RV 0.0 Correction -2020.02911365\n",
        " RV 0.0 Correction -2135.89434905\n",
        " RV 0.0 Correction -2168.78732712\n",
        " RV 0.0 Correction -135.438962508\n",
        " RV 0.0 Correction -72.6632012535\n",
        " RV 0.0 Correction -211.926880928\n",
        " RV 0.0 Correction 39.7702565168\n",
        " RV 0.0 Correction -134.210438729\n",
        " RV 0.0 Correction -353.407439396\n",
        " RV 0.0 Correction -6203.35883605\n",
        " RV 0.0 Correction -6237.68254706\n",
        " RV 0.0 Correction -6339.03552127\n"
       ]
      },
      {
       "output_type": "stream",
       "stream": "stdout",
       "text": [
        "\n",
        "Field02\n",
        " RV 0.00448499834203 Correction 0.00232817848915\n",
        " RV -196.646356196 Correction -7.94121461635\n",
        " RV -103.965783022 Correction -39.8885451139\n",
        " RV -646.022909524 Correction -2125.0422294\n",
        " RV -596.289371408 Correction -2251.72096205\n",
        " RV -682.743682047 Correction -2287.4315298\n",
        " RV -640.364504675 Correction -121.427937036\n",
        " RV -695.908915819 Correction -47.0265443085\n",
        " RV -587.797716023 Correction -202.821266657\n",
        " RV 635.456846763 Correction 7.79384904922\n",
        " RV 568.42459416 Correction -175.415496084\n",
        " RV 429.044547858 Correction -399.866835533\n",
        " RV -4832.71307289 Correction -6215.52784516\n",
        " RV -4892.7660645 Correction -6248.28506924\n",
        " RV -4879.63205531 Correction -6356.36171801\n"
       ]
      },
      {
       "output_type": "stream",
       "stream": "stdout",
       "text": [
        "\n",
        "Field03\n",
        " RV 0.00509101441602 Correction 0.00229664813933\n",
        " RV 141.235133041 Correction -18.4284811984\n",
        " RV -156.118995728 Correction -37.7048207708\n",
        " RV -343.583272868 Correction -2088.46231673\n",
        " RV -307.983603979 Correction -2210.81882266\n",
        " RV -471.107664876 Correction -2241.75149995\n",
        " RV -86.9931173027 Correction -137.011409219\n",
        " RV -373.829592047 Correction -60.6697873041\n",
        " RV -265.830391565 Correction -210.564054354\n",
        " RV 297.712142478 Correction 25.9629303457\n",
        " RV 65.2844459225 Correction -148.193978118\n",
        " RV 164.362928919 Correction -377.032051163\n",
        " RV -2384.08152541 Correction -6274.90652486\n",
        " RV -2288.01587431 Correction -6312.56642035\n",
        " RV -2611.83051299 Correction -6408.3653555\n"
       ]
      },
      {
       "output_type": "stream",
       "stream": "stdout",
       "text": [
        "\n",
        "Giant26\n",
        " RV 0.0 Correction 0.00238193383824\n",
        " RV 0.0 Correction -14.2686327429\n",
        " RV 0.0 Correction -40.7195208707\n",
        " RV 0.0 Correction -2014.78220943\n",
        " RV 0.0 Correction -2130.10655415\n",
        " RV 0.0 Correction -2162.51816493\n",
        " RV 0.0 Correction -135.376989897\n",
        " RV 0.0 Correction -73.4522572125\n",
        " RV 0.0 Correction -211.833160424\n",
        " RV 0.0 Correction 41.3511979186\n",
        " RV 0.0 Correction -132.116144977\n",
        " RV 0.0 Correction -351.200264143\n",
        " RV 0.0 Correction -6212.62555817\n",
        " RV 0.0 Correction -6247.06921903\n",
        " RV 0.0 Correction -6348.15412041\n"
       ]
      },
      {
       "output_type": "stream",
       "stream": "stdout",
       "text": [
        "\n",
        "Field23\n",
        " RV 0.00650853177762 Correction 0.00228436967793\n",
        " RV 330.755498056 Correction -20.8190040562\n",
        " RV 850.023466644 Correction -58.1574634888\n",
        " RV -131.62247741 Correction -2049.35193847\n",
        " RV -553.470233422 Correction -2158.95695008\n",
        " RV -723.397411698 Correction -2189.37713423\n",
        " RV -3.90388193218 Correction -137.243678348\n",
        " RV -505.563120328 Correction -62.9875504591\n",
        " RV -386.469962171 Correction -207.260090868\n",
        " RV 145.373427279 Correction 36.0362765931\n",
        " RV 302.879985457 Correction -143.84851995\n",
        " RV -529.469363036 Correction -349.716240426\n",
        " RV 1391.84812626 Correction -6306.15375424\n",
        " RV 409.093701768 Correction -6321.48691348\n",
        " RV 725.242545608 Correction -6430.66914434\n"
       ]
      },
      {
       "output_type": "stream",
       "stream": "stdout",
       "text": [
        "\n",
        "Giant27\n",
        " RV 0.0 Correction 0.00238181901259\n",
        " RV 0.0 Correction -14.2892682325\n",
        " RV 0.0 Correction -40.6906216586\n",
        " RV 0.0 Correction -2013.01019974\n",
        " RV 0.0 Correction -2128.16526662\n",
        " RV 0.0 Correction -2160.43641024\n",
        " RV 0.0 Correction -135.3398811\n",
        " RV 0.0 Correction -73.664156294\n",
        " RV 0.0 Correction -211.776011111\n",
        " RV 0.0 Correction 41.791099385\n",
        " RV 0.0 Correction -131.50630198\n",
        " RV 0.0 Correction -350.526816168\n",
        " RV 0.0 Correction -6214.33836297\n",
        " RV 0.0 Correction -6248.81086081\n",
        " RV 0.0 Correction -6349.80549611\n"
       ]
      },
      {
       "output_type": "stream",
       "stream": "stdout",
       "text": [
        "\n",
        "Giant25\n",
        " RV 0.0 Correction 0.00238080707825\n",
        " RV 0.0 Correction -14.366389476\n",
        " RV 0.0 Correction -40.568243219\n",
        " RV 0.0 Correction -2005.62046597\n",
        " RV 0.0 Correction -2120.08786742\n",
        " RV 0.0 Correction -2151.8033692\n",
        " RV 0.0 Correction -135.163063737\n",
        " RV 0.0 Correction -74.4733900702\n",
        " RV 0.0 Correction -211.502911654\n",
        " RV 0.0 Correction 43.4973794611\n",
        " RV 0.0 Correction -129.096000279\n",
        " RV 0.0 Correction -347.816514349\n",
        " RV 0.0 Correction -6219.54904681\n",
        " RV 0.0 Correction -6254.12588312\n",
        " RV 0.0 Correction -6354.74445232\n"
       ]
      },
      {
       "output_type": "stream",
       "stream": "stdout",
       "text": [
        "\n",
        "Giant01\n",
        " RV 0.00332080114643 Correction 0.0023219448041\n",
        " RV 135.470778311 Correction -18.8563963165\n",
        " RV 240.986316503 Correction -48.6534922679\n",
        " RV -161.025375418 Correction -2032.67119811\n",
        " RV -253.844102171 Correction -2145.92364157\n",
        " RV -157.983485445 Correction -2180.79246381\n",
        " RV -694.349140927 Correction -116.166362434\n",
        " RV -827.767727917 Correction -50.9289418226\n",
        " RV -776.264914203 Correction -191.330834056\n",
        " RV 506.810778546 Correction 29.8820473741\n",
        " RV 480.127567964 Correction -144.597127722\n",
        " RV 471.413178892 Correction -366.890459224\n",
        " RV -7720.92168544 Correction -6100.59815977\n",
        " RV -7643.23773691 Correction -6138.27896252\n",
        " RV -7772.55259039 Correction -6236.51852028\n"
       ]
      },
      {
       "output_type": "stream",
       "stream": "stdout",
       "text": [
        "\n",
        "Field14\n",
        " RV 0.00461262047971 Correction 0.00228005306553\n",
        " RV 29.9546146002 Correction -15.6444302654\n",
        " RV 29.4062168798 Correction -42.1180470274\n",
        " RV -1817.6770282 Correction -1978.81101244\n",
        " RV -967.574456531 Correction -2121.25413586\n",
        " RV -877.629112303 Correction -2155.81524037\n",
        " RV 240.534022816 Correction -145.004653998\n",
        " RV 356.729743337 Correction -87.7914062205\n",
        " RV -104.348761154 Correction -211.902891357\n",
        " RV 4172.49079455 Correction -84.2271387887\n",
        " RV 4045.81786329 Correction -255.374366919\n",
        " RV 3188.091755 Correction -451.089471898\n",
        " RV -3873.20846531 Correction -6219.31550943\n",
        " RV -3943.82319179 Correction -6252.43387475\n",
        " RV -4295.63977398 Correction -6343.56806222\n"
       ]
      },
      {
       "output_type": "stream",
       "stream": "stdout",
       "text": [
        "\n",
        "Giant05\n",
        " RV 0.0 Correction 0.00237942228795\n",
        " RV 0.0 Correction -14.4339600528\n",
        " RV 0.0 Correction -40.4487339548\n",
        " RV 0.0 Correction -1998.49008639\n",
        " RV 0.0 Correction -2112.30795029\n",
        " RV 0.0 Correction -2143.51040199\n",
        " RV 0.0 Correction -134.975549626\n",
        " RV 0.0 Correction -75.1971975262\n",
        " RV 0.0 Correction -211.212759553\n",
        " RV 0.0 Correction 45.0455499048\n",
        " RV 0.0 Correction -126.872100591\n",
        " RV 0.0 Correction -345.276522192\n",
        " RV 0.0 Correction -6223.09671577\n",
        " RV 0.0 Correction -6257.76203371\n",
        " RV 0.0 Correction -6358.01801622\n"
       ]
      },
      {
       "output_type": "stream",
       "stream": "stdout",
       "text": [
        "\n",
        "Field07\n",
        " RV 0.0 Correction 0.00237896645961\n",
        " RV 0.0 Correction -14.4532794856\n",
        " RV 0.0 Correction -40.413087298\n",
        " RV 0.0 Correction -1996.37255841\n",
        " RV 0.0 Correction -2109.99905508\n",
        " RV 0.0 Correction -2141.05166581\n",
        " RV 0.0 Correction -134.918017754\n",
        " RV 0.0 Correction -75.4059229356\n",
        " RV 0.0 Correction -211.123684187\n",
        " RV 0.0 Correction 45.4945906374\n",
        " RV 0.0 Correction -126.222777969\n",
        " RV 0.0 Correction -344.53042239\n",
        " RV 0.0 Correction -6223.9886843\n",
        " RV 0.0 Correction -6258.67894749\n",
        " RV 0.0 Correction -6358.82728232\n"
       ]
      },
      {
       "output_type": "stream",
       "stream": "stdout",
       "text": [
        "\n",
        "Giant34\n",
        " RV 0.000848065896756 Correction 0.00242275545736\n",
        " RV 50.7383873114 Correction -17.9311713664\n",
        " RV -32.4414345649 Correction -39.9496545397\n",
        " RV -59.4735391877 Correction -2054.20594926\n",
        " RV -90.9741949055 Correction -2169.01701998\n",
        " RV -119.040781758 Correction -2198.53601786\n",
        " RV -52.6804846757 Correction -136.892265456\n",
        " RV -218.519145196 Correction -68.2400627267\n",
        " RV -175.814393524 Correction -209.1583239\n",
        " RV -150.743826482 Correction 59.1496022317\n",
        " RV -193.178217941 Correction -115.369777877\n",
        " RV -263.585515418 Correction -337.645799814\n",
        " RV 374.711841755 Correction -6496.30631622\n",
        " RV 393.85430402 Correction -6533.60327888\n",
        " RV 367.117915966 Correction -6635.35336635\n"
       ]
      },
      {
       "output_type": "stream",
       "stream": "stdout",
       "text": [
        "\n",
        "Field13\n",
        " RV 0.0 Correction 0.0023779966126\n",
        " RV 0.0 Correction -14.4916922576\n",
        " RV 0.0 Correction -40.3406444833\n",
        " RV 0.0 Correction -1992.07866061\n",
        " RV 0.0 Correction -2105.31866503\n",
        " RV 0.0 Correction -2136.07000411\n",
        " RV 0.0 Correction -134.799471094\n",
        " RV 0.0 Correction -75.8228168707\n",
        " RV 0.0 Correction -210.94008878\n",
        " RV 0.0 Correction 46.3942002603\n",
        " RV 0.0 Correction -124.917438631\n",
        " RV 0.0 Correction -343.025871798\n",
        " RV 0.0 Correction -6225.63240693\n",
        " RV 0.0 Correction -6260.37189437\n",
        " RV 0.0 Correction -6360.30197381\n"
       ]
      },
      {
       "output_type": "stream",
       "stream": "stdout",
       "text": [
        "\n",
        "Giant06\n",
        " RV 0.0 Correction 0.00237716810151\n",
        " RV 0.0 Correction -14.5224023101\n",
        " RV 0.0 Correction -40.2814176394\n",
        " RV 0.0 Correction -1988.57584039\n",
        " RV 0.0 Correction -2101.50183672\n",
        " RV 0.0 Correction -2132.00951975\n",
        " RV 0.0 Correction -134.701219063\n",
        " RV 0.0 Correction -76.1576907724\n",
        " RV 0.0 Correction -210.787881942\n",
        " RV 0.0 Correction 47.1190903261\n",
        " RV 0.0 Correction -123.861895334\n",
        " RV 0.0 Correction -341.805384251\n",
        " RV 0.0 Correction -6226.83795637\n",
        " RV 0.0 Correction -6261.61648422\n",
        " RV 0.0 Correction -6361.36854378\n"
       ]
      },
      {
       "output_type": "stream",
       "stream": "stdout",
       "text": [
        "\n",
        "Giant09\n",
        " RV 0.00300694795127 Correction 0.00230605792216\n",
        " RV -17.9802374028 Correction -14.3859281817\n",
        " RV 63.9746167121 Correction -43.3959443296\n",
        " RV 87.6742042532 Correction -2012.83878073\n",
        " RV 169.540772967 Correction -2129.36317056\n",
        " RV 278.899788974 Correction -2163.13994132\n",
        " RV 237.086817807 Correction -146.845343193\n",
        " RV 197.333961794 Correction -88.6776080349\n",
        " RV 160.652243563 Correction -221.245554826\n",
        " RV 853.391027528 Correction 19.2602189688\n",
        " RV 652.328692639 Correction -145.087542942\n",
        " RV 619.39276507 Correction -365.685965678\n",
        " RV 6248.64952548 Correction -6641.87497697\n",
        " RV 6289.1092868 Correction -6679.45255724\n",
        " RV 6008.29273302 Correction -6768.79950384\n"
       ]
      },
      {
       "output_type": "stream",
       "stream": "stdout",
       "text": [
        "\n",
        "Field18\n",
        " RV 0.0 Correction 0.00237679452889\n",
        " RV 0.0 Correction -14.5357640654\n",
        " RV 0.0 Correction -40.2553255109\n",
        " RV 0.0 Correction -1987.03455002\n",
        " RV 0.0 Correction -2099.82268731\n",
        " RV 0.0 Correction -2130.22366802\n",
        " RV 0.0 Correction -134.657613609\n",
        " RV 0.0 Correction -76.3037810185\n",
        " RV 0.0 Correction -210.72032068\n",
        " RV 0.0 Correction 47.4358835756\n",
        " RV 0.0 Correction -123.399689114\n",
        " RV 0.0 Correction -341.270012484\n",
        " RV 0.0 Correction -6227.33573662\n",
        " RV 0.0 Correction -6262.13117356\n",
        " RV 0.0 Correction -6361.80490806\n"
       ]
      },
      {
       "output_type": "stream",
       "stream": "stdout",
       "text": [
        "\n",
        "Giant32\n",
        " RV 0.00111549097307 Correction 0.00238180476382\n",
        " RV -149.475608931 Correction -7.95729505808\n",
        " RV -136.859670171 Correction -33.7469605345\n",
        " RV -625.470218303 Correction -1964.22901074\n",
        " RV -656.549514927 Correction -2074.20716322\n",
        " RV -729.200364958 Correction -2098.23149623\n",
        " RV -936.506208417 Correction -90.4040694958\n",
        " RV -972.976263639 Correction -34.9528905896\n",
        " RV -975.977847596 Correction -166.024155184\n",
        " RV 266.844905178 Correction 46.4616001466\n",
        " RV 216.748015948 Correction -122.152686116\n",
        " RV 211.020620139 Correction -343.977070329\n",
        " RV -9153.81212169 Correction -5979.12657493\n",
        " RV -9215.18703611 Correction -6012.50982102\n",
        " RV -9187.15886886 Correction -6113.98154934\n"
       ]
      },
      {
       "output_type": "stream",
       "stream": "stdout",
       "text": [
        "\n",
        "Field30\n",
        " RV 0.0 Correction 0.00237314055518\n",
        " RV 0.0 Correction -14.6560195584\n",
        " RV 0.0 Correction -40.0132997704\n",
        " RV 0.0 Correction -1972.7788132\n",
        " RV 0.0 Correction -2084.29867074\n",
        " RV 0.0 Correction -2113.72397427\n",
        " RV 0.0 Correction -134.246072195\n",
        " RV 0.0 Correction -77.6272531976\n",
        " RV 0.0 Correction -210.082469494\n",
        " RV 0.0 Correction 50.3181773608\n",
        " RV 0.0 Correction -119.174182312\n",
        " RV 0.0 Correction -336.354827092\n",
        " RV 0.0 Correction -6231.2195666\n",
        " RV 0.0 Correction -6266.16546527\n",
        " RV 0.0 Correction -6365.11489054\n"
       ]
      },
      {
       "output_type": "stream",
       "stream": "stdout",
       "text": [
        "\n",
        "Field04\n",
        " RV 0.00223621871086 Correction 0.0023106829748\n",
        " RV -28.2440794851 Correction -14.2964921237\n",
        " RV -126.828111848 Correction -33.862460219\n",
        " RV 368.815690151 Correction -1970.41349344\n",
        " RV 330.458506735 Correction -2076.71709193\n",
        " RV 369.618600679 Correction -2103.91712733\n",
        " RV 186.333488369 Correction -144.457012385\n",
        " RV 155.834794429 Correction -93.5311283727\n",
        " RV 198.779945096 Correction -221.713570694\n",
        " RV 824.29416485 Correction 26.9978181863\n",
        " RV 754.995119861 Correction -136.940875355\n",
        " RV 737.497475988 Correction -355.47573621\n",
        " RV 5752.0727778 Correction -6682.31825849\n",
        " RV 5637.54195563 Correction -6713.50615948\n",
        " RV 5729.29788731 Correction -6815.74698827\n"
       ]
      },
      {
       "output_type": "stream",
       "stream": "stdout",
       "text": [
        "\n",
        "Field19\n",
        " RV 0.000603474107376 Correction 0.00240097768583\n",
        " RV -26.2872706098 Correction -15.1583951318\n",
        " RV -87.230885621 Correction -28.0663245308\n",
        " RV -494.257233854 Correction -1769.36836117\n",
        " RV -472.214094825 Correction -1865.69826993\n",
        " RV -514.83599429 Correction -1872.6156621\n",
        " RV -377.510160063 Correction -92.6359484861\n",
        " RV -491.720889277 Correction -54.1351378077\n",
        " RV -518.694951206 Correction -153.284522426\n",
        " RV -303.957969579 Correction 146.9098739\n",
        " RV -420.507546689 Correction 5.71569489273\n",
        " RV -478.316132791 Correction -206.51755016\n",
        " RV 2266.05872198 Correction -7015.23270467\n",
        " RV 2204.39601594 Correction -7048.72973562\n",
        " RV 2131.24883353 Correction -7131.79163101\n"
       ]
      },
      {
       "output_type": "stream",
       "stream": "stdout",
       "text": [
        "\n",
        "Giant19\n",
        " RV 0.0 Correction 0.00236791176193\n",
        " RV 0.0 Correction -14.8094942211\n",
        " RV 0.0 Correction -39.6904718831\n",
        " RV 0.0 Correction -1953.84074401\n",
        " RV 0.0 Correction -2063.68859029\n",
        " RV 0.0 Correction -2091.83893766\n",
        " RV 0.0 Correction -133.683851741\n",
        " RV 0.0 Correction -79.3331051903\n",
        " RV 0.0 Correction -209.210675764\n",
        " RV 0.0 Correction 54.0570505527\n",
        " RV 0.0 Correction -113.654202271\n",
        " RV 0.0 Correction -329.894217916\n",
        " RV 0.0 Correction -6235.02108896\n",
        " RV 0.0 Correction -6270.15568058\n",
        " RV 0.0 Correction -6368.14315306\n"
       ]
      },
      {
       "output_type": "stream",
       "stream": "stdout",
       "text": [
        "\n",
        "Giant11\n",
        " RV 0.000640370504556 Correction 0.00237575633083\n",
        " RV 34.7338110429 Correction -19.3359396907\n",
        " RV 15.0023686371 Correction -39.5912079942\n",
        " RV 382.854559778 Correction -1895.90592434\n",
        " RV 493.483441441 Correction -2003.54628983\n",
        " RV 445.603361665 Correction -2018.03208854\n",
        " RV 541.242815968 Correction -173.691721034\n",
        " RV 616.517079543 Correction -142.747635111\n",
        " RV 634.988938771 Correction -256.488322673\n",
        " RV 1292.63913614 Correction -4.15630611105\n",
        " RV 1292.11795944 Correction -163.080046836\n",
        " RV 1278.08334233 Correction -379.128986955\n",
        " RV -70298.1312152 Correction -1427.6916931\n",
        " RV -70384.7157924 Correction -1459.72061312\n",
        " RV -70487.2950857 Correction -1545.84598716\n"
       ]
      },
      {
       "output_type": "stream",
       "stream": "stdout",
       "text": [
        "\n",
        "Giant21\n",
        " RV 0.00388839512077 Correction 0.00220091133293\n",
        " RV -84.4220643041 Correction -11.7475418602\n",
        " RV -29.6747202979 Correction -37.3670249542\n",
        " RV 140.215869346 Correction -1904.14425769\n",
        " RV 213.148888826 Correction -2011.06152731\n",
        " RV 175.315839281 Correction -2030.7226652\n",
        " RV 161.93484922 Correction -142.289414476\n",
        " RV 163.594655252 Correction -99.5620345775\n",
        " RV 205.792636317 Correction -220.281814675\n",
        " RV 114.115945039 Correction 71.004616741\n",
        " RV 63.1162771947 Correction -88.3192930191\n",
        " RV -34.94616817 Correction -299.840666185\n",
        " RV 8654.37027008 Correction -6864.54093389\n",
        " RV 8693.20908232 Correction -6903.67014608\n",
        " RV 8770.42623152 Correction -7002.69456728\n"
       ]
      },
      {
       "output_type": "stream",
       "stream": "stdout",
       "text": [
        "\n",
        "Field37\n",
        " RV 0.0 Correction 0.00236704912032\n",
        " RV 0.0 Correction -14.8335480205\n",
        " RV 0.0 Correction -39.6388116707\n",
        " RV 0.0 Correction -1950.81582338\n",
        " RV 0.0 Correction -2060.39754536\n",
        " RV 0.0 Correction -2088.34580063\n",
        " RV 0.0 Correction -133.592913306\n",
        " RV 0.0 Correction -79.6017409506\n",
        " RV 0.0 Correction -209.069635459\n",
        " RV 0.0 Correction 54.6476440213\n",
        " RV 0.0 Correction -112.779358975\n",
        " RV 0.0 Correction -328.867340531\n",
        " RV 0.0 Correction -6235.52875801\n",
        " RV 0.0 Correction -6270.6926689\n",
        " RV 0.0 Correction -6368.52651045\n"
       ]
      },
      {
       "output_type": "stream",
       "stream": "stdout",
       "text": [
        "\n",
        "Field33\n",
        " RV 0.00173316404091 Correction 0.00230778505004\n",
        " RV 43.3281272758 Correction -18.1923807965\n",
        " RV 93.1809702718 Correction -43.2513666022\n",
        " RV 239.245710942 Correction -1898.47291176\n",
        " RV 253.747206971 Correction -2001.63252039\n",
        " RV 283.934330996 Correction -2024.30730143\n",
        " RV -110.648330188 Correction -128.069135433\n",
        " RV -173.205606292 Correction -82.9256320473\n",
        " RV -144.077048656 Correction -201.893256782\n",
        " RV 222.382517197 Correction 66.7920640212\n",
        " RV 193.752890833 Correction -92.8351559975\n",
        " RV 140.395067692 Correction -305.945585512\n",
        " RV 4230.52440723 Correction -6611.38112702\n",
        " RV 4029.81756678 Correction -6638.66231522\n",
        " RV 4171.51957172 Correction -6740.13862714\n"
       ]
      },
      {
       "output_type": "stream",
       "stream": "stdout",
       "text": [
        "\n",
        "Giant23\n",
        " RV 0.0 Correction 0.00236352158152\n",
        " RV 0.0 Correction -14.9293213652\n",
        " RV 0.0 Correction -39.4308306638\n",
        " RV 0.0 Correction -1938.64952186\n",
        " RV 0.0 Correction -2047.16287223\n",
        " RV 0.0 Correction -2074.30158641\n",
        " RV 0.0 Correction -133.224757258\n",
        " RV 0.0 Correction -80.6741047574\n",
        " RV 0.0 Correction -208.498586485\n",
        " RV 0.0 Correction 57.0090803276\n",
        " RV 0.0 Correction -109.275171965\n",
        " RV 0.0 Correction -324.747889586\n",
        " RV 0.0 Correction -6237.3604884\n",
        " RV 0.0 Correction -6272.64059084\n",
        " RV 0.0 Correction -6369.85656504\n"
       ]
      },
      {
       "output_type": "stream",
       "stream": "stdout",
       "text": [
        "\n",
        "Field31\n",
        " RV 0.0 Correction 0.00236032088495\n",
        " RV 0.0 Correction -15.01334753\n",
        " RV 0.0 Correction -39.2457497266\n",
        " RV 0.0 Correction -1927.83617558\n",
        " RV 0.0 Correction -2035.40220504\n",
        " RV 0.0 Correction -2061.82510334\n",
        " RV 0.0 Correction -132.894833577\n",
        " RV 0.0 Correction -81.6180784043\n",
        " RV 0.0 Correction -207.986772648\n",
        " RV 0.0 Correction 59.0921730105\n",
        " RV 0.0 Correction -106.176982578\n",
        " RV 0.0 Correction -321.098590924\n",
        " RV 0.0 Correction -6238.75134087\n",
        " RV 0.0 Correction -6274.1327596\n",
        " RV 0.0 Correction -6370.79962148\n"
       ]
      }
     ],
     "prompt_number": 9
    },
    {
     "cell_type": "code",
     "collapsed": false,
     "input": [
      "plt.scatter(JDs, RVs[myTarget,:,0])\n",
      "# plt.scatter(JDs, RVs[myTarget,:,0] - thisStar.exposures.rel_baryVels, c='r')\n",
      "# plt.plot(JDs,thisStar.exposures.rel_baryVels)\n",
      "plt.scatter(JDs, quadRVs[myTarget,:,0], c='r')\n",
      "plt.show()"
     ],
     "language": "python",
     "metadata": {},
     "outputs": [],
     "prompt_number": 10
    },
    {
     "cell_type": "code",
     "collapsed": false,
     "input": [
      "#array to map pivot# to y-position\n",
      "p2y = RVT.pivot_to_y('20aug10037tlm.fits')\n",
      "\n",
      "#create deltay 2D array of distances between fibres\n",
      "deltay = np.zeros(np.array(RVs.shape)[[0,0]])\n",
      "for thisTarget in range(RVs.shape[0]):\n",
      "    deltay[thisTarget,:] = p2y[data[:,2].astype(int)] - p2y[data[thisTarget,2].astype(int)]\n"
     ],
     "language": "python",
     "metadata": {},
     "outputs": [],
     "prompt_number": 20
    },
    {
     "cell_type": "code",
     "collapsed": false,
     "input": [
      "#create 3D weight array\n",
      "\n",
      "weights = np.zeros(np.array(RVs.shape)[[0,0,2]]) # Same array for all epochs hence epoch-dimention skipped\n",
      "\n",
      "\n",
      "for thisTarget in range(RVs.shape[0]): #1 loop per target\n",
      "\n",
      "    #distances to target (in y-coords)\n",
      "    mask = np.zeros(np.array(RVs.shape)[[0,0]])\n",
      "    mask[:,thisTarget] = True\n",
      "    deltay_mx = np.ma.masked_array(deltay, mask=mask)\n",
      "    \n",
      "    #create RV mask to exclude target and stars with RV>3000m/s\\\n",
      "    mask = np.zeros(np.array(RVs.shape)[[0,2]])\n",
      "    mask[thisTarget] = True\n",
      "    sigmas_1epc = sigmas[:,0,:]\n",
      "    sigmas_mx = np.ma.masked_array(sigmas_1epc, mask=mask)\n",
      "    \n",
      "    c = ['b','g','r','cyan']\n",
      "\n",
      "    for cam in range(4):\n",
      "        a = calibrator_weights(deltay_mx[thisTarget,:].compressed(), sigmas_mx[:,cam].compressed())\n",
      "        weights[thisTarget,:,cam] = np.insert(a, thisTarget, 0)\n"
     ],
     "language": "python",
     "metadata": {},
     "outputs": [],
     "prompt_number": 95
    },
    {
     "cell_type": "code",
     "collapsed": false,
     "input": [
      "#quad reduced RVs array initialise\n",
      "quadRVs = np.zeros(RVs.shape) \n",
      "diffs = np.zeros(RVs.shape) \n",
      "\n",
      "mask = np.zeros(RVs.shape).astype(bool)\n",
      "RVs_mx = np.ma.masked_array(RVs, mask=mask)\n",
      "\n",
      "for thisTarget in range(RVs.shape[0]): #1 loop per target\n",
      "    for epoch in range(RVs.shape[1]):\n",
      "        for cam in range(RVs.shape[2]):\n",
      "            \n",
      "            order = np.argsort(deltay_mx[thisTarget,:])\n",
      "            quadX = deltay_mx[thisTarget,:][order]\n",
      "            quadY = RVs_mx[:,epoch,cam][order]\n",
      "            fRVs,__ = fit_quad([1,1,0], quadX, quadY )\n",
      "            fittedCurve = quad(quadX, fRVs[0], fRVs[1], fRVs[2])\n",
      "            \n",
      "            quadRVs[thisTarget,epoch,cam]=RVs[thisTarget,epoch,cam]-np.sum(weights[thisTarget,:,cam][order]*(RVs[:,epoch,cam][order]-fittedCurve))\n",
      "            diffs[thisTarget,epoch,cam]=np.sum(weights[thisTarget,:,cam][order]*(RVs[:,epoch,cam][order]-fittedCurve))\n",
      "\n",
      "quadRVs = np.array(quadRVs)\n",
      "diffs = np.array(diffs)\n",
      "\n"
     ],
     "language": "python",
     "metadata": {},
     "outputs": [],
     "prompt_number": 96
    },
    {
     "cell_type": "code",
     "collapsed": false,
     "input": [
      "# save?\n",
      "# np.save('quadRVs',quadRVs)"
     ],
     "language": "python",
     "metadata": {},
     "outputs": [],
     "prompt_number": 32
    },
    {
     "cell_type": "heading",
     "level": 3,
     "metadata": {},
     "source": [
      "Plots, sanity checks, results"
     ]
    },
    {
     "cell_type": "code",
     "collapsed": false,
     "input": [
      "#delta, sigmas and weights\n",
      "for thisTarget in range(RVs.shape[0]):\n",
      "    plt.plot(deltay[0,:], sigmas[0,:,0])\n",
      "#     plt.plot(deltay[thisTarget,:], weights[thisTarget,:,0]*np.max(sigmas[:,0,0]))\n",
      "plt.show()"
     ],
     "language": "python",
     "metadata": {},
     "outputs": [
      {
       "ename": "ValueError",
       "evalue": "x and y must have same first dimension",
       "output_type": "pyerr",
       "traceback": [
        "\u001b[0;31m---------------------------------------------------------------------------\u001b[0m\n\u001b[0;31mValueError\u001b[0m                                Traceback (most recent call last)",
        "\u001b[0;32m<ipython-input-114-95ad6e866434>\u001b[0m in \u001b[0;36m<module>\u001b[0;34m()\u001b[0m\n\u001b[1;32m      1\u001b[0m \u001b[0;31m#delta, sigmas and weights\u001b[0m\u001b[0;34m\u001b[0m\u001b[0;34m\u001b[0m\u001b[0m\n\u001b[1;32m      2\u001b[0m \u001b[0;32mfor\u001b[0m \u001b[0mthisTarget\u001b[0m \u001b[0;32min\u001b[0m \u001b[0mrange\u001b[0m\u001b[0;34m(\u001b[0m\u001b[0mRVs\u001b[0m\u001b[0;34m.\u001b[0m\u001b[0mshape\u001b[0m\u001b[0;34m[\u001b[0m\u001b[0;36m0\u001b[0m\u001b[0;34m]\u001b[0m\u001b[0;34m)\u001b[0m\u001b[0;34m:\u001b[0m\u001b[0;34m\u001b[0m\u001b[0m\n\u001b[0;32m----> 3\u001b[0;31m     \u001b[0mplt\u001b[0m\u001b[0;34m.\u001b[0m\u001b[0mplot\u001b[0m\u001b[0;34m(\u001b[0m\u001b[0mdeltay\u001b[0m\u001b[0;34m[\u001b[0m\u001b[0;36m0\u001b[0m\u001b[0;34m,\u001b[0m\u001b[0;34m:\u001b[0m\u001b[0;34m]\u001b[0m\u001b[0;34m,\u001b[0m \u001b[0msigmas\u001b[0m\u001b[0;34m[\u001b[0m\u001b[0;36m0\u001b[0m\u001b[0;34m,\u001b[0m\u001b[0;34m:\u001b[0m\u001b[0;34m,\u001b[0m\u001b[0;36m0\u001b[0m\u001b[0;34m]\u001b[0m\u001b[0;34m)\u001b[0m\u001b[0;34m\u001b[0m\u001b[0m\n\u001b[0m\u001b[1;32m      4\u001b[0m \u001b[0;31m#     plt.plot(deltay[thisTarget,:], weights[thisTarget,:,0]*np.max(sigmas[:,0,0]))\u001b[0m\u001b[0;34m\u001b[0m\u001b[0;34m\u001b[0m\u001b[0m\n\u001b[1;32m      5\u001b[0m \u001b[0mplt\u001b[0m\u001b[0;34m.\u001b[0m\u001b[0mshow\u001b[0m\u001b[0;34m(\u001b[0m\u001b[0;34m)\u001b[0m\u001b[0;34m\u001b[0m\u001b[0m\n",
        "\u001b[0;32m/opt/local/Library/Frameworks/Python.framework/Versions/2.7/lib/python2.7/site-packages/matplotlib/pyplot.pyc\u001b[0m in \u001b[0;36mplot\u001b[0;34m(*args, **kwargs)\u001b[0m\n\u001b[1;32m   2815\u001b[0m         \u001b[0max\u001b[0m\u001b[0;34m.\u001b[0m\u001b[0mhold\u001b[0m\u001b[0;34m(\u001b[0m\u001b[0mhold\u001b[0m\u001b[0;34m)\u001b[0m\u001b[0;34m\u001b[0m\u001b[0m\n\u001b[1;32m   2816\u001b[0m     \u001b[0;32mtry\u001b[0m\u001b[0;34m:\u001b[0m\u001b[0;34m\u001b[0m\u001b[0m\n\u001b[0;32m-> 2817\u001b[0;31m         \u001b[0mret\u001b[0m \u001b[0;34m=\u001b[0m \u001b[0max\u001b[0m\u001b[0;34m.\u001b[0m\u001b[0mplot\u001b[0m\u001b[0;34m(\u001b[0m\u001b[0;34m*\u001b[0m\u001b[0margs\u001b[0m\u001b[0;34m,\u001b[0m \u001b[0;34m**\u001b[0m\u001b[0mkwargs\u001b[0m\u001b[0;34m)\u001b[0m\u001b[0;34m\u001b[0m\u001b[0m\n\u001b[0m\u001b[1;32m   2818\u001b[0m         \u001b[0mdraw_if_interactive\u001b[0m\u001b[0;34m(\u001b[0m\u001b[0;34m)\u001b[0m\u001b[0;34m\u001b[0m\u001b[0m\n\u001b[1;32m   2819\u001b[0m     \u001b[0;32mfinally\u001b[0m\u001b[0;34m:\u001b[0m\u001b[0;34m\u001b[0m\u001b[0m\n",
        "\u001b[0;32m/opt/local/Library/Frameworks/Python.framework/Versions/2.7/lib/python2.7/site-packages/matplotlib/axes.pyc\u001b[0m in \u001b[0;36mplot\u001b[0;34m(self, *args, **kwargs)\u001b[0m\n\u001b[1;32m   3994\u001b[0m         \u001b[0mlines\u001b[0m \u001b[0;34m=\u001b[0m \u001b[0;34m[\u001b[0m\u001b[0;34m]\u001b[0m\u001b[0;34m\u001b[0m\u001b[0m\n\u001b[1;32m   3995\u001b[0m \u001b[0;34m\u001b[0m\u001b[0m\n\u001b[0;32m-> 3996\u001b[0;31m         \u001b[0;32mfor\u001b[0m \u001b[0mline\u001b[0m \u001b[0;32min\u001b[0m \u001b[0mself\u001b[0m\u001b[0;34m.\u001b[0m\u001b[0m_get_lines\u001b[0m\u001b[0;34m(\u001b[0m\u001b[0;34m*\u001b[0m\u001b[0margs\u001b[0m\u001b[0;34m,\u001b[0m \u001b[0;34m**\u001b[0m\u001b[0mkwargs\u001b[0m\u001b[0;34m)\u001b[0m\u001b[0;34m:\u001b[0m\u001b[0;34m\u001b[0m\u001b[0m\n\u001b[0m\u001b[1;32m   3997\u001b[0m             \u001b[0mself\u001b[0m\u001b[0;34m.\u001b[0m\u001b[0madd_line\u001b[0m\u001b[0;34m(\u001b[0m\u001b[0mline\u001b[0m\u001b[0;34m)\u001b[0m\u001b[0;34m\u001b[0m\u001b[0m\n\u001b[1;32m   3998\u001b[0m             \u001b[0mlines\u001b[0m\u001b[0;34m.\u001b[0m\u001b[0mappend\u001b[0m\u001b[0;34m(\u001b[0m\u001b[0mline\u001b[0m\u001b[0;34m)\u001b[0m\u001b[0;34m\u001b[0m\u001b[0m\n",
        "\u001b[0;32m/opt/local/Library/Frameworks/Python.framework/Versions/2.7/lib/python2.7/site-packages/matplotlib/axes.pyc\u001b[0m in \u001b[0;36m_grab_next_args\u001b[0;34m(self, *args, **kwargs)\u001b[0m\n\u001b[1;32m    328\u001b[0m                 \u001b[0;32mreturn\u001b[0m\u001b[0;34m\u001b[0m\u001b[0m\n\u001b[1;32m    329\u001b[0m             \u001b[0;32mif\u001b[0m \u001b[0mlen\u001b[0m\u001b[0;34m(\u001b[0m\u001b[0mremaining\u001b[0m\u001b[0;34m)\u001b[0m \u001b[0;34m<=\u001b[0m \u001b[0;36m3\u001b[0m\u001b[0;34m:\u001b[0m\u001b[0;34m\u001b[0m\u001b[0m\n\u001b[0;32m--> 330\u001b[0;31m                 \u001b[0;32mfor\u001b[0m \u001b[0mseg\u001b[0m \u001b[0;32min\u001b[0m \u001b[0mself\u001b[0m\u001b[0;34m.\u001b[0m\u001b[0m_plot_args\u001b[0m\u001b[0;34m(\u001b[0m\u001b[0mremaining\u001b[0m\u001b[0;34m,\u001b[0m \u001b[0mkwargs\u001b[0m\u001b[0;34m)\u001b[0m\u001b[0;34m:\u001b[0m\u001b[0;34m\u001b[0m\u001b[0m\n\u001b[0m\u001b[1;32m    331\u001b[0m                     \u001b[0;32myield\u001b[0m \u001b[0mseg\u001b[0m\u001b[0;34m\u001b[0m\u001b[0m\n\u001b[1;32m    332\u001b[0m                 \u001b[0;32mreturn\u001b[0m\u001b[0;34m\u001b[0m\u001b[0m\n",
        "\u001b[0;32m/opt/local/Library/Frameworks/Python.framework/Versions/2.7/lib/python2.7/site-packages/matplotlib/axes.pyc\u001b[0m in \u001b[0;36m_plot_args\u001b[0;34m(self, tup, kwargs)\u001b[0m\n\u001b[1;32m    306\u001b[0m             \u001b[0mx\u001b[0m \u001b[0;34m=\u001b[0m \u001b[0mnp\u001b[0m\u001b[0;34m.\u001b[0m\u001b[0marange\u001b[0m\u001b[0;34m(\u001b[0m\u001b[0my\u001b[0m\u001b[0;34m.\u001b[0m\u001b[0mshape\u001b[0m\u001b[0;34m[\u001b[0m\u001b[0;36m0\u001b[0m\u001b[0;34m]\u001b[0m\u001b[0;34m,\u001b[0m \u001b[0mdtype\u001b[0m\u001b[0;34m=\u001b[0m\u001b[0mfloat\u001b[0m\u001b[0;34m)\u001b[0m\u001b[0;34m\u001b[0m\u001b[0m\n\u001b[1;32m    307\u001b[0m \u001b[0;34m\u001b[0m\u001b[0m\n\u001b[0;32m--> 308\u001b[0;31m         \u001b[0mx\u001b[0m\u001b[0;34m,\u001b[0m \u001b[0my\u001b[0m \u001b[0;34m=\u001b[0m \u001b[0mself\u001b[0m\u001b[0;34m.\u001b[0m\u001b[0m_xy_from_xy\u001b[0m\u001b[0;34m(\u001b[0m\u001b[0mx\u001b[0m\u001b[0;34m,\u001b[0m \u001b[0my\u001b[0m\u001b[0;34m)\u001b[0m\u001b[0;34m\u001b[0m\u001b[0m\n\u001b[0m\u001b[1;32m    309\u001b[0m \u001b[0;34m\u001b[0m\u001b[0m\n\u001b[1;32m    310\u001b[0m         \u001b[0;32mif\u001b[0m \u001b[0mself\u001b[0m\u001b[0;34m.\u001b[0m\u001b[0mcommand\u001b[0m \u001b[0;34m==\u001b[0m \u001b[0;34m'plot'\u001b[0m\u001b[0;34m:\u001b[0m\u001b[0;34m\u001b[0m\u001b[0m\n",
        "\u001b[0;32m/opt/local/Library/Frameworks/Python.framework/Versions/2.7/lib/python2.7/site-packages/matplotlib/axes.pyc\u001b[0m in \u001b[0;36m_xy_from_xy\u001b[0;34m(self, x, y)\u001b[0m\n\u001b[1;32m    246\u001b[0m         \u001b[0my\u001b[0m \u001b[0;34m=\u001b[0m \u001b[0mnp\u001b[0m\u001b[0;34m.\u001b[0m\u001b[0matleast_1d\u001b[0m\u001b[0;34m(\u001b[0m\u001b[0my\u001b[0m\u001b[0;34m)\u001b[0m\u001b[0;34m\u001b[0m\u001b[0m\n\u001b[1;32m    247\u001b[0m         \u001b[0;32mif\u001b[0m \u001b[0mx\u001b[0m\u001b[0;34m.\u001b[0m\u001b[0mshape\u001b[0m\u001b[0;34m[\u001b[0m\u001b[0;36m0\u001b[0m\u001b[0;34m]\u001b[0m \u001b[0;34m!=\u001b[0m \u001b[0my\u001b[0m\u001b[0;34m.\u001b[0m\u001b[0mshape\u001b[0m\u001b[0;34m[\u001b[0m\u001b[0;36m0\u001b[0m\u001b[0;34m]\u001b[0m\u001b[0;34m:\u001b[0m\u001b[0;34m\u001b[0m\u001b[0m\n\u001b[0;32m--> 248\u001b[0;31m             \u001b[0;32mraise\u001b[0m \u001b[0mValueError\u001b[0m\u001b[0;34m(\u001b[0m\u001b[0;34m\"x and y must have same first dimension\"\u001b[0m\u001b[0;34m)\u001b[0m\u001b[0;34m\u001b[0m\u001b[0m\n\u001b[0m\u001b[1;32m    249\u001b[0m         \u001b[0;32mif\u001b[0m \u001b[0mx\u001b[0m\u001b[0;34m.\u001b[0m\u001b[0mndim\u001b[0m \u001b[0;34m>\u001b[0m \u001b[0;36m2\u001b[0m \u001b[0;32mor\u001b[0m \u001b[0my\u001b[0m\u001b[0;34m.\u001b[0m\u001b[0mndim\u001b[0m \u001b[0;34m>\u001b[0m \u001b[0;36m2\u001b[0m\u001b[0;34m:\u001b[0m\u001b[0;34m\u001b[0m\u001b[0m\n\u001b[1;32m    250\u001b[0m             \u001b[0;32mraise\u001b[0m \u001b[0mValueError\u001b[0m\u001b[0;34m(\u001b[0m\u001b[0;34m\"x and y can be no greater than 2-D\"\u001b[0m\u001b[0;34m)\u001b[0m\u001b[0;34m\u001b[0m\u001b[0m\n",
        "\u001b[0;31mValueError\u001b[0m: x and y must have same first dimension"
       ]
      }
     ],
     "prompt_number": 114
    },
    {
     "cell_type": "code",
     "collapsed": false,
     "input": [
      "# quadRVs=np.load('quadRVs.npy')"
     ],
     "language": "python",
     "metadata": {},
     "outputs": []
    },
    {
     "cell_type": "code",
     "collapsed": false,
     "input": [
      "fileList[36]\n",
      "filehandler = open(fileList[36], 'r')\n",
      "thisStar = pickle.load(filehandler) \n"
     ],
     "language": "python",
     "metadata": {},
     "outputs": [],
     "prompt_number": 48
    },
    {
     "cell_type": "code",
     "collapsed": false,
     "input": [
      "thisCam=thisStar.exposures.cameras[3]"
     ],
     "language": "python",
     "metadata": {},
     "outputs": [],
     "prompt_number": 56
    },
    {
     "cell_type": "code",
     "collapsed": false,
     "input": [
      "for i in range(5):\n",
      "    plt.plot(thisCam.clean_fluxes[i], label = str(i))\n",
      "plt.legend(loc=0)\n",
      "plt.show()"
     ],
     "language": "python",
     "metadata": {},
     "outputs": [],
     "prompt_number": 57
    },
    {
     "cell_type": "code",
     "collapsed": false,
     "input": [
      "for i in range(RVs.shape[0]):\n",
      "    a = RVs.copy()\n",
      "    a[36,:,0]=np.nan\n",
      "    # print a\n",
      "    # print np.nanmean(a[:,:,0], axis=0)\n",
      "    plt.scatter(JDs, RVs[i,:,1])\n",
      "    # plt.scatter(JDs, quadRVs[36,:,0], c='r')\n",
      "plt.show()"
     ],
     "language": "python",
     "metadata": {},
     "outputs": [],
     "prompt_number": 68
    },
    {
     "cell_type": "code",
     "collapsed": false,
     "input": [
      "deltay = p2y[data[:,2].astype(int)] - p2y[data[myTarget,2].astype(int)]\n",
      "mask = np.zeros(RVs.shape[0]).astype(bool)\n",
      "mask[myTarget] = True\n",
      "deltay_mx = np.ma.masked_array(deltay, mask=mask)\n",
      "\n",
      "#create RV mask to exclude target and stars with RV>3000m/s\\\n",
      "mask = np.zeros(RVs.shape).astype(bool)\n",
      "RVs_mx = np.ma.masked_array(RVs, mask=mask)\n",
      "sigmas_mx = np.ma.masked_array(sigmas, mask=mask)\n",
      "sigmas_mx.mask[myTarget,:,:] = True\n",
      "# print calibrator_weights(deltay_mx.compressed(), sigmas_mx[:,0,cam].compressed()).shape\n",
      "a = calibrator_weights(deltay_mx, sigmas_mx[:,0,cam])\n",
      "a = np.insert(a, myTarget, 0)\n",
      "plt.plot( a)\n",
      "plt.show()"
     ],
     "language": "python",
     "metadata": {},
     "outputs": [],
     "prompt_number": 156
    },
    {
     "cell_type": "code",
     "collapsed": false,
     "input": [
      "quadRVs"
     ],
     "language": "python",
     "metadata": {},
     "outputs": [
      {
       "metadata": {},
       "output_type": "pyout",
       "prompt_number": 131,
       "text": [
        "array([[[  1.14424989e-04,   1.32505342e-04,   1.27914406e-04,\n",
        "           5.52908416e-05],\n",
        "        [ -9.48315175e+03,   8.68500919e+03,   3.51786742e+02,\n",
        "           1.50678865e+02],\n",
        "        [ -2.44355035e+03,  -1.02437127e+03,   1.03730583e+03,\n",
        "          -4.87883645e+04],\n",
        "        [  7.32324074e+03,  -2.93874177e+04,  -2.95460056e+02,\n",
        "          -4.83358628e+04],\n",
        "        [             nan,              nan,  -6.35882403e+03,\n",
        "           7.09471738e+04]],\n",
        "\n",
        "       [[  2.17575430e-04,   1.79891525e-04,   1.72816661e-04,\n",
        "           7.74517478e-05],\n",
        "        [ -7.23641947e+03,   6.59847555e+03,   9.32055577e+01,\n",
        "           2.24603494e+02],\n",
        "        [ -1.55529705e+03,  -3.82763947e+02,   6.92489384e+02,\n",
        "          -3.73884650e+04],\n",
        "        [  8.15183546e+03,  -2.25101666e+04,  -1.25003865e+03,\n",
        "          -3.72647214e+04],\n",
        "        [             nan,              nan,  -3.96329830e+03,\n",
        "           3.40107509e+04]],\n",
        "\n",
        "       [[  9.99594225e-05,   6.25945315e-05,   7.77601092e-05,\n",
        "           9.95110413e-05],\n",
        "        [  6.79411243e+02,  -1.11829966e+03,   3.59312065e+02,\n",
        "           4.48223938e+02],\n",
        "        [  9.11916112e+02,   5.87361114e+02,   1.24987974e+03,\n",
        "           4.35438031e+03],\n",
        "        [  1.29112978e+04,   2.38362733e+03,  -9.21782749e+02,\n",
        "           3.80319042e+03],\n",
        "        [             nan,              nan,   5.29689947e+03,\n",
        "          -9.24073150e+04]],\n",
        "\n",
        "       ..., \n",
        "       [[  1.59587268e-04,   1.82890412e-04,   2.03605288e-04,\n",
        "           7.94524246e-05],\n",
        "        [ -1.08811010e+03,  -1.75623336e+03,   2.15981165e+01,\n",
        "           1.12608408e+02],\n",
        "        [ -8.89259955e+02,  -1.15360980e+03,   1.00633538e+03,\n",
        "           6.69960278e+03],\n",
        "        [ -7.10293781e+03,   5.49741522e+02,  -1.06142360e+03,\n",
        "           6.85109701e+03],\n",
        "        [             nan,              nan,  -9.64270695e+03,\n",
        "          -2.56862072e+04]],\n",
        "\n",
        "       [[  4.41086170e-04,   4.58664364e-04,   5.09932544e-04,\n",
        "           3.01210312e-04],\n",
        "        [ -1.07647407e+04,   1.59438458e+04,   7.44288150e+02,\n",
        "          -2.54987726e+02],\n",
        "        [ -1.83444115e+02,   2.49640526e+03,   2.71900338e+03,\n",
        "          -5.81089483e+04],\n",
        "        [  2.61902592e+04,  -4.14179030e+04,   2.34069001e+03,\n",
        "          -5.85985286e+04],\n",
        "        [             nan,              nan,   4.64975378e+03,\n",
        "           6.28582290e+04]],\n",
        "\n",
        "       [[  3.00885740e-04,   2.89321328e-04,   3.07493428e-04,\n",
        "           1.44444271e-04],\n",
        "        [ -7.77197754e+03,   7.73071280e+03,  -7.42758530e+02,\n",
        "           1.30115265e+02],\n",
        "        [ -2.05971977e+03,  -1.19900044e+03,  -1.86603424e+01,\n",
        "          -3.20208558e+04],\n",
        "        [  1.11527944e+04,  -2.64307833e+04,  -2.19845618e+03,\n",
        "          -3.18146981e+04],\n",
        "        [             nan,              nan,  -4.67451175e+03,\n",
        "           3.15483315e+04]]])"
       ]
      }
     ],
     "prompt_number": 131
    },
    {
     "cell_type": "code",
     "collapsed": false,
     "input": [
      "plt.scatter (JDs, quadRVs[36,:,1])\n",
      "plt.show()"
     ],
     "language": "python",
     "metadata": {},
     "outputs": [],
     "prompt_number": 136
    },
    {
     "cell_type": "code",
     "collapsed": false,
     "input": [
      "mask"
     ],
     "language": "python",
     "metadata": {},
     "outputs": [
      {
       "metadata": {},
       "output_type": "pyout",
       "prompt_number": 65,
       "text": [
        "array([ True,  True,  True,  True,  True,  True,  True,  True,  True,\n",
        "        True,  True,  True,  True,  True,  True,  True,  True,  True,\n",
        "        True,  True,  True,  True,  True,  True,  True,  True,  True,\n",
        "        True,  True,  True,  True,  True,  True,  True,  True,  True,\n",
        "        True,  True,  True,  True,  True,  True,  True,  True,  True,\n",
        "        True,  True,  True,  True,  True,  True,  True,  True,  True,\n",
        "        True,  True,  True,  True,  True,  True,  True,  True,  True,\n",
        "        True,  True,  True,  True,  True,  True,  True,  True, False], dtype=bool)"
       ]
      }
     ],
     "prompt_number": 65
    },
    {
     "cell_type": "code",
     "collapsed": false,
     "input": [
      "fRVs,__ = optimize.curve_fit(quad, quadX, quadY, p0 = [-0.001,-0.001,quadY[np.where(deltay==np.min(np.abs(deltay)))[0][0]]], )\n",
      "plt.scatter( quadX, quadY)\n",
      "smoothX = np.linspace(np.min(quadX), np.max(quadX))\n",
      "fittedCurve = quad(quadX, fRVs[0], fRVs[1], fRVs[2])\n",
      "plt.plot(quadX,fittedCurve)\n",
      "plt.scatter(quadX,quadY*fittedCurve, c='r')\n",
      "plt.show()\n",
      "print 'params',fRVs"
     ],
     "language": "python",
     "metadata": {},
     "outputs": [
      {
       "ename": "IndexError",
       "evalue": "index out of bounds",
       "output_type": "pyerr",
       "traceback": [
        "\u001b[0;31m---------------------------------------------------------------------------\u001b[0m\n\u001b[0;31mIndexError\u001b[0m                                Traceback (most recent call last)",
        "\u001b[0;32m<ipython-input-46-5972f7130739>\u001b[0m in \u001b[0;36m<module>\u001b[0;34m()\u001b[0m\n\u001b[0;32m----> 1\u001b[0;31m \u001b[0mfRVs\u001b[0m\u001b[0;34m,\u001b[0m\u001b[0m__\u001b[0m \u001b[0;34m=\u001b[0m \u001b[0moptimize\u001b[0m\u001b[0;34m.\u001b[0m\u001b[0mcurve_fit\u001b[0m\u001b[0;34m(\u001b[0m\u001b[0mquad\u001b[0m\u001b[0;34m,\u001b[0m \u001b[0mquadX\u001b[0m\u001b[0;34m,\u001b[0m \u001b[0mquadY\u001b[0m\u001b[0;34m,\u001b[0m \u001b[0mp0\u001b[0m \u001b[0;34m=\u001b[0m \u001b[0;34m[\u001b[0m\u001b[0;34m-\u001b[0m\u001b[0;36m0.001\u001b[0m\u001b[0;34m,\u001b[0m\u001b[0;34m-\u001b[0m\u001b[0;36m0.001\u001b[0m\u001b[0;34m,\u001b[0m\u001b[0mquadY\u001b[0m\u001b[0;34m[\u001b[0m\u001b[0mnp\u001b[0m\u001b[0;34m.\u001b[0m\u001b[0mwhere\u001b[0m\u001b[0;34m(\u001b[0m\u001b[0mdeltay\u001b[0m\u001b[0;34m==\u001b[0m\u001b[0mnp\u001b[0m\u001b[0;34m.\u001b[0m\u001b[0mmin\u001b[0m\u001b[0;34m(\u001b[0m\u001b[0mnp\u001b[0m\u001b[0;34m.\u001b[0m\u001b[0mabs\u001b[0m\u001b[0;34m(\u001b[0m\u001b[0mdeltay\u001b[0m\u001b[0;34m)\u001b[0m\u001b[0;34m)\u001b[0m\u001b[0;34m)\u001b[0m\u001b[0;34m[\u001b[0m\u001b[0;36m0\u001b[0m\u001b[0;34m]\u001b[0m\u001b[0;34m[\u001b[0m\u001b[0;36m0\u001b[0m\u001b[0;34m]\u001b[0m\u001b[0;34m]\u001b[0m\u001b[0;34m]\u001b[0m\u001b[0;34m,\u001b[0m \u001b[0;34m)\u001b[0m\u001b[0;34m\u001b[0m\u001b[0m\n\u001b[0m\u001b[1;32m      2\u001b[0m \u001b[0mplt\u001b[0m\u001b[0;34m.\u001b[0m\u001b[0mscatter\u001b[0m\u001b[0;34m(\u001b[0m \u001b[0mquadX\u001b[0m\u001b[0;34m,\u001b[0m \u001b[0mquadY\u001b[0m\u001b[0;34m)\u001b[0m\u001b[0;34m\u001b[0m\u001b[0m\n\u001b[1;32m      3\u001b[0m \u001b[0msmoothX\u001b[0m \u001b[0;34m=\u001b[0m \u001b[0mnp\u001b[0m\u001b[0;34m.\u001b[0m\u001b[0mlinspace\u001b[0m\u001b[0;34m(\u001b[0m\u001b[0mnp\u001b[0m\u001b[0;34m.\u001b[0m\u001b[0mmin\u001b[0m\u001b[0;34m(\u001b[0m\u001b[0mquadX\u001b[0m\u001b[0;34m)\u001b[0m\u001b[0;34m,\u001b[0m \u001b[0mnp\u001b[0m\u001b[0;34m.\u001b[0m\u001b[0mmax\u001b[0m\u001b[0;34m(\u001b[0m\u001b[0mquadX\u001b[0m\u001b[0;34m)\u001b[0m\u001b[0;34m)\u001b[0m\u001b[0;34m\u001b[0m\u001b[0m\n\u001b[1;32m      4\u001b[0m \u001b[0mfittedCurve\u001b[0m \u001b[0;34m=\u001b[0m \u001b[0mquad\u001b[0m\u001b[0;34m(\u001b[0m\u001b[0mquadX\u001b[0m\u001b[0;34m,\u001b[0m \u001b[0mfRVs\u001b[0m\u001b[0;34m[\u001b[0m\u001b[0;36m0\u001b[0m\u001b[0;34m]\u001b[0m\u001b[0;34m,\u001b[0m \u001b[0mfRVs\u001b[0m\u001b[0;34m[\u001b[0m\u001b[0;36m1\u001b[0m\u001b[0;34m]\u001b[0m\u001b[0;34m,\u001b[0m \u001b[0mfRVs\u001b[0m\u001b[0;34m[\u001b[0m\u001b[0;36m2\u001b[0m\u001b[0;34m]\u001b[0m\u001b[0;34m)\u001b[0m\u001b[0;34m\u001b[0m\u001b[0m\n\u001b[1;32m      5\u001b[0m \u001b[0mplt\u001b[0m\u001b[0;34m.\u001b[0m\u001b[0mplot\u001b[0m\u001b[0;34m(\u001b[0m\u001b[0mquadX\u001b[0m\u001b[0;34m,\u001b[0m\u001b[0mfittedCurve\u001b[0m\u001b[0;34m)\u001b[0m\u001b[0;34m\u001b[0m\u001b[0m\n",
        "\u001b[0;31mIndexError\u001b[0m: index out of bounds"
       ]
      }
     ],
     "prompt_number": 46
    },
    {
     "cell_type": "code",
     "collapsed": false,
     "input": [
      "plt.scatter(JDs,quadRVs[30,:,0], c='r', label = 'stable star (observed)')\n",
      "plt.scatter(JDs,quadRVs[36,:,1], c='g', label = 'HD285507 (observed)')\n",
      "start_day = 2456889.500000 # The Julian date for CE  2014 August 20 00:00:00.0 UT  (10am australia)\n",
      "end_day = 2456895.500000 #The Julian date for CE  2014 August 26 00:00:00.0 UT (10am australia)\n",
      "\n",
      "days = np.linspace(start_day, end_day)  - 2400000\n",
      "\n",
      "P = 6.0881\n",
      "peri_arg = 182\n",
      "peri_time = 2456257.5- 2400000\n",
      "K1 =125.8\n",
      "RV = K1* np.sin((days-peri_time)/P*2*np.pi + peri_arg/360*2*np.pi )\n",
      "plt.plot(days, RV, linewidth = 1, label = 'HD285507' )\n",
      "plt.legend(loc=0)\n",
      "plt.xlabel('JD')\n",
      "plt.ylabel('RV [m/s]')\n",
      "plt.show()"
     ],
     "language": "python",
     "metadata": {},
     "outputs": [],
     "prompt_number": 77
    },
    {
     "cell_type": "code",
     "collapsed": false,
     "input": [
      "# for i in range(quadRVs.shape[0]):\n",
      "print np.min((np.nansum(np.abs(quadRVs[:,:,:-1]), axis=1)/4))\n",
      "print (np.nansum(np.abs(quadRVs), axis=1)/4)\n",
      "\n"
     ],
     "language": "python",
     "metadata": {},
     "outputs": [
      {
       "output_type": "stream",
       "stream": "stdout",
       "text": [
        "78.9365375764\n",
        "[[  3.40822463e+02   4.92898438e+02   5.27633022e+02   0.00000000e+00]\n",
        " [  1.61248472e+02   4.06700432e+02   5.84645411e+02   0.00000000e+00]\n",
        " [  3.18638463e+02   3.52789686e+02   7.29017283e+02   0.00000000e+00]\n",
        " [  2.67465023e+02   5.09751121e+02   4.93546426e+02   0.00000000e+00]\n",
        " [  8.95616503e+02   3.34103174e+02   8.12800534e+02   0.00000000e+00]\n",
        " [  2.42572857e+04   2.48488238e+04   1.97871219e+04   0.00000000e+00]\n",
        " [  6.28282772e+02   2.31066002e+02   3.48280244e+02   0.00000000e+00]\n",
        " [  1.17513406e+02   6.51230537e+02   6.20282149e+02   0.00000000e+00]\n",
        " [  1.18185228e+03   9.27691882e+02   7.88626072e+02   0.00000000e+00]\n",
        " [  1.38876732e+02   2.98734223e+02   8.16708533e+02   0.00000000e+00]\n",
        " [  3.56558094e+02   7.62942875e+02   6.38007665e+02   0.00000000e+00]\n",
        " [  3.46521069e+02   8.84596392e+02   5.70072956e+02   0.00000000e+00]\n",
        " [  5.01813099e+02   4.39216310e+02   6.63070084e+02   0.00000000e+00]\n",
        " [  6.38273354e+02   4.29262527e+02   1.22130098e+03   0.00000000e+00]\n",
        " [  2.49207391e+02   6.90210424e+02   6.26396429e+02   0.00000000e+00]\n",
        " [  1.78440634e+02   2.50118289e+02   5.74276047e+02   0.00000000e+00]\n",
        " [  4.56647434e+02   4.76959693e+02   7.79779808e+02   0.00000000e+00]\n",
        " [  3.31436966e+02   5.25947989e+02   5.99834169e+02   0.00000000e+00]\n",
        " [  7.42427575e+02   7.72278877e+02   5.78478829e+02   0.00000000e+00]\n",
        " [  1.64176320e+02   5.60120729e+02   2.35595197e+02   0.00000000e+00]\n",
        " [  5.02933623e+02   4.41051054e+02   5.84257654e+02   0.00000000e+00]\n",
        " [  8.55479906e+05   1.08920937e+03   8.75993144e+02   0.00000000e+00]\n",
        " [  3.29637988e+02   2.85951674e+02   5.26214860e+02   0.00000000e+00]\n",
        " [  2.52767163e+02   5.93114807e+02   7.25592125e+02   0.00000000e+00]\n",
        " [  7.84393998e+02   6.62867938e+02   5.79942777e+02   0.00000000e+00]\n",
        " [  7.27875894e+02   3.54759149e+02   6.53216800e+02   0.00000000e+00]\n",
        " [  2.20958660e+03   4.30116834e+03   3.20412818e+02   0.00000000e+00]\n",
        " [  4.13695048e+02   7.72917959e+02   9.25798335e+02   0.00000000e+00]\n",
        " [  3.46966323e+02   2.88493498e+02   4.30903970e+02   0.00000000e+00]\n",
        " [  3.06678756e+02   7.31551687e+02   2.67897134e+03   0.00000000e+00]\n",
        " [  7.89365376e+01   7.75100080e+02   3.91652707e+02   0.00000000e+00]\n",
        " [  7.53051455e+02   2.65850161e+02   4.52148558e+02   0.00000000e+00]\n",
        " [  3.67000759e+02   3.74588888e+02   4.55753579e+02   0.00000000e+00]\n",
        " [  4.62661765e+02   3.65775004e+02   7.50317359e+02   0.00000000e+00]\n",
        " [  4.49980203e+02   9.77575183e+02   1.67124600e+03   0.00000000e+00]\n",
        " [  2.34706691e+02   6.83760694e+02   7.45319068e+02   0.00000000e+00]\n",
        " [  2.34833189e+02   4.94799609e+02   1.24625572e+03   0.00000000e+00]\n",
        " [  5.18093774e+02   4.05342519e+02   5.58128213e+02   0.00000000e+00]\n",
        " [  8.64659810e+02   7.49791345e+02   5.49224639e+02   0.00000000e+00]\n",
        " [  1.01718865e+02   4.34966246e+02   5.72643560e+02   0.00000000e+00]\n",
        " [  1.39859468e+02   9.81751449e+02   7.15696697e+02   0.00000000e+00]\n",
        " [  2.67424627e+02   4.37220860e+02   9.90462870e+02   0.00000000e+00]\n",
        " [  2.34074925e+02   3.02573205e+02   7.22833268e+02   0.00000000e+00]\n",
        " [  2.94853086e+02   2.63501239e+02   4.91140850e+02   0.00000000e+00]\n",
        " [  4.17760201e+02   4.35193615e+02   5.92016847e+02   0.00000000e+00]\n",
        " [  3.33593387e+02   4.11161165e+02   7.56158134e+02   0.00000000e+00]\n",
        " [  1.59441394e+02   1.83186971e+02   7.36465455e+02   0.00000000e+00]\n",
        " [  3.31297242e+02   6.45950790e+02   6.81289246e+02   0.00000000e+00]\n",
        " [  6.46758870e+05   1.72183254e+06   2.42839350e+04   0.00000000e+00]\n",
        " [  2.01199660e+02   3.53540221e+02   3.84753889e+02   0.00000000e+00]\n",
        " [  2.30175980e+02   4.09328791e+02   6.83215957e+02   0.00000000e+00]\n",
        " [  2.72605920e+02   3.64240054e+02   5.18431756e+02   0.00000000e+00]\n",
        " [  6.15155692e+02   3.10480845e+02   7.95482539e+02   0.00000000e+00]\n",
        " [  5.19730305e+02   4.98826331e+02   5.40314811e+02   0.00000000e+00]\n",
        " [  5.68914920e+02   5.62071089e+02   6.58450579e+02   0.00000000e+00]\n",
        " [  1.77101406e+02   5.33900467e+02   6.89885095e+02   0.00000000e+00]\n",
        " [  4.65611065e+02   5.02669318e+02   6.16822726e+02   0.00000000e+00]\n",
        " [  3.31748600e+02   1.26092921e+02   4.24489319e+02   0.00000000e+00]\n",
        " [  3.85867513e+02   5.43890068e+02   4.76236818e+02   0.00000000e+00]\n",
        " [  4.53636052e+02   4.27487274e+02   3.72049764e+02   0.00000000e+00]\n",
        " [  3.77552451e+02   6.44515988e+02   5.05144432e+02   0.00000000e+00]\n",
        " [  3.81652003e+02   4.44793424e+02   5.78409390e+02   0.00000000e+00]\n",
        " [  5.49871499e+02   2.51467935e+02   3.89908513e+02   0.00000000e+00]\n",
        " [  2.23842351e+02   4.19864105e+02   6.81957882e+02   0.00000000e+00]\n",
        " [  4.71718603e+02   5.05868609e+02   5.08120943e+02   0.00000000e+00]\n",
        " [  1.34905483e+02   4.85191874e+02   6.62582672e+02   0.00000000e+00]\n",
        " [  4.34538394e+02   2.41118570e+02   4.66671587e+02   0.00000000e+00]\n",
        " [  3.24929060e+02   7.22225082e+02   6.64626904e+02   0.00000000e+00]\n",
        " [  1.42784647e+02   6.35606881e+02   9.28181879e+02   0.00000000e+00]\n",
        " [  1.68662135e+02   5.59272233e+02   5.35720263e+02   0.00000000e+00]\n",
        " [  1.85844670e+03   1.63511247e+03   1.80306859e+03   0.00000000e+00]\n",
        " [  5.37783082e+02   7.28384293e+02   5.94866505e+02   0.00000000e+00]]\n"
       ]
      }
     ],
     "prompt_number": 76
    },
    {
     "cell_type": "code",
     "collapsed": false,
     "input": [
      "plt.plot(sigmas.flatten())\n",
      "plt.show()"
     ],
     "language": "python",
     "metadata": {},
     "outputs": [],
     "prompt_number": 77
    },
    {
     "cell_type": "heading",
     "level": 2,
     "metadata": {},
     "source": [
      "Plots"
     ]
    },
    {
     "cell_type": "code",
     "collapsed": false,
     "input": [
      "def plot_all_spec_cams(thisStar):    #All spectra for all cameras\n",
      "    \n",
      "    fig, ax = plt.subplots(2,2, sharey='all')\n",
      "    \n",
      "    # ax.set_yticks(thisStar.exposures.JDs)\n",
      "    # ax.set_ylim(np.min(thisStar.exposures.JDs)-1,np.min(thisStar.exposures.JDs)+1)\n",
      "    for cam in range(4):\n",
      "        thisCam = thisStar.exposures.cameras[cam]\n",
      "        fileNames =  thisCam.fileNames\n",
      "        nFluxes = thisCam.wavelengths.shape[0]\n",
      "        ax[0,0].set_yticks(np.arange(0,nFluxes))\n",
      "        ax[0,0].set_ylim(-1,nFluxes)\n",
      "    \n",
      "        for i in np.arange(nFluxes):\n",
      "            d, f = thisCam.clean_wavelengths[i], thisCam.clean_fluxes[i]\n",
      "            if cam ==0:\n",
      "                ax[0,0].plot(d, f+i, 'b')\n",
      "            elif cam==1:\n",
      "                ax[0,1].plot(d, f+i, 'g')\n",
      "            elif cam==2:\n",
      "                ax[1,0].plot(d, f+i, 'r')\n",
      "            elif cam==3:\n",
      "                ax[1,1].plot(d, f+i, 'cyan')\n",
      "        #         ax.plot(d, f+thisStar.exposures.JDs[i], 'k')\n",
      "    \n",
      "    plt.xlabel('Wavelength [Ang]')\n",
      "    plt.title(thisStar.name+' - Camera '+str(cam+1))\n",
      "    ax[0,0].set_yticklabels(fileNames)\n",
      "    plt.show()\n"
     ],
     "language": "python",
     "metadata": {},
     "outputs": [],
     "prompt_number": 162
    },
    {
     "cell_type": "code",
     "collapsed": false,
     "input": [
      "RVs1 = np.load('RVs1.npy') \n",
      "RVs2 = np.load('RVs2.npy') \n",
      "RVs3 = np.load('RVs3.npy') \n",
      "RVs4 = np.load('RVs4.npy') \n",
      "JDs = np.load('JDs.npy') "
     ],
     "language": "python",
     "metadata": {},
     "outputs": [],
     "prompt_number": 66
    },
    {
     "cell_type": "code",
     "collapsed": false,
     "input": [
      "#Plots RVs, baryvels for all 4 cameras\n",
      "plt.title('Average of all decorrelated targets')\n",
      "mask = np.abs(quadRVs)<3000\n",
      "quadRVs[-mask]=np.nan\n",
      "# for i in range(RVs.shape[0]):\n",
      "    # plt.plot(thisStar.exposures.JDs, thisStar.exposures.rel_baryVels, label = 'Barycentric Vel. ')\n",
      "try:\n",
      "#         plt.scatter(JDs, stableRVs[i,:,0], label = 'Blue', color ='b' )\n",
      "#     plt.scatter(JDs, np.median(quadRVs[:,:,0],axis=0), label = 'Blue', color ='b' )\n",
      "    plt.errorbar(JDs, np.nanmean(quadRVs[:,:,0],axis=0), yerr=np.nanstd(quadRVs[:,:,0],axis=0), label = 'Blue', color ='b' )\n",
      "#     plt.errorbar(JDs, np.nanmean(RVs[:,:,0],axis=0), yerr=np.nanstd(RVs[:,:,0],axis=0), label = 'Blue', color ='b' )\n",
      "    pass\n",
      "except:pass\n",
      "try:\n",
      "#     plt.scatter(JDs, stableRVs[i,:,1], label = 'Green', color ='g' )\n",
      "#     plt.scatter(JDs, np.median(quadRVs[:,:,1],axis=0), label = 'Green', color ='g' )\n",
      "    plt.errorbar(JDs, np.nanmean(quadRVs[:,:,1],axis=0), yerr=np.nanstd(quadRVs[:,:,1],axis=0), label = 'Green', color ='g' )\n",
      "#     plt.errorbar(JDs, np.nanmean(RVs[:,:,1],axis=0), yerr=np.nanstd(RVs[:,:,1],axis=0), label = 'Green', color ='g' )\n",
      "    pass\n",
      "except:pass\n",
      "try:\n",
      "#     plt.scatter(JDs, stableRVs[i,:,2], label = 'Red', color ='r' )\n",
      "#     plt.scatter(JDs, np.median(quadRVs[:,:,2],axis=0), label = 'Red', color ='r' )\n",
      "    plt.errorbar(JDs, np.nanmean(quadRVs[:,:,2],axis=0), yerr=np.nanstd(quadRVs[:,:,2],axis=0), label = 'Red', color ='r' )\n",
      "#     plt.errorbar(JDs, np.nanmean(RVs[:,:,2],axis=0), yerr=np.nanstd(RVs[:,:,2],axis=0), label = 'Red', color ='r' )\n",
      "    pass\n",
      "except:pass\n",
      "try:\n",
      "#     plt.scatter(JDs, stableRVs[i,:,3], label = 'IR', color ='cyan' )\n",
      "#     plt.scatter(JDs, np.median(stableRVs[:,:,3],axis=0), label = 'IR', color ='cyan' )\n",
      "    plt.errorbar(JDs, np.nanmean(quadRVs[:,:,3],axis=0), yerr=np.nanstd(quadRVs[:,:,3],axis=0), label = 'IR', color ='cyan' )\n",
      "    pass\n",
      "except:pass\n",
      "\n",
      "# start_day = 56889.000000 # The Julian date for CE  2014 August 20 00:00:00.0 UT  (10am australia)\n",
      "# end_day = 56895.000000 #The Julian date for CE  2014 August 26 00:00:00.0 UT (10am australia)\n",
      "\n",
      "# days = np.linspace(start_day, end_day) \n",
      "\n",
      "# K1=26100\n",
      "# peri_time = 19298.85\n",
      "# P=4.8202\n",
      "# peri_arg=269.3\n",
      "# RV = K1* np.sin( (days-peri_time)/P*2*np.pi - peri_arg/360*2*np.pi )\n",
      "# plt.plot(days, RV, linewidth = 1, label = 'rhoTuc' )\n",
      "\n",
      "plt.xlabel('JD')\n",
      "plt.ylabel('RV [m/s]')\n",
      "plt.legend(loc=0)\n",
      "plt.show()"
     ],
     "language": "python",
     "metadata": {},
     "outputs": [],
     "prompt_number": 78
    },
    {
     "cell_type": "code",
     "collapsed": false,
     "input": [
      "mask = np.abs(quadRVs)<3000\n",
      "plt.plot(quadRVs[mask].flatten())\n",
      "plt.show()"
     ],
     "language": "python",
     "metadata": {},
     "outputs": [],
     "prompt_number": 331
    },
    {
     "cell_type": "code",
     "collapsed": false,
     "input": [
      "# np.save('RVs1',RVs1) \n",
      "# np.save('RVs2',RVs2) \n",
      "# np.save('RVs3',RVs3) \n",
      "# np.save('RVs4',RVs4) \n",
      "# np.save('JDs',JDs) "
     ],
     "language": "python",
     "metadata": {},
     "outputs": [],
     "prompt_number": 128
    },
    {
     "cell_type": "code",
     "collapsed": false,
     "input": [
      "#Plots RVs, baryvels. Single star, 4 cameras\n",
      "plt.title(filehandler.name[:-4])\n",
      "# plt.plot(thisStar.exposures.JDs, thisStar.exposures.rel_baryVels, label = 'Barycentric Vel. ')\n",
      "\n",
      "thisCam = thisStar.exposures.cameras[0]\n",
      "# RVMask = thisStar.exposures.my_data_mask\n",
      "# RVMask = ((thisStar.exposures.my_data_mask) & (np.abs(thisCam.RVs)<50000))\n",
      "RVMask = thisCam.safe_flag\n",
      "plt.scatter(thisStar.exposures.JDs[RVMask], thisCam.DDRVs[RVMask], label = 'Blue', color ='b' )\n",
      "# plt.errorbar(thisStar.exposures.JDs[RVMask], thisCam.DDRVs[RVMask], yerr=thisCam.sigmas[RVMask],fmt='.', label = 'Blue', color ='b' )\n",
      "\n",
      "thisCam = thisStar.exposures.cameras[1]\n",
      "# RVMask = thisStar.exposures.my_data_mask\n",
      "# RVMask = np.abs(thisCam.RVs)<1e6\n",
      "RVMask = thisCam.safe_flag\n",
      "plt.scatter(thisStar.exposures.JDs[RVMask], thisCam.DDRVs[RVMask], label = 'Green' , color ='g')\n",
      "# plt.errorbar(thisStar.exposures.JDs[RVMask], thisCam.RVs[RVMask], yerr=thisCam.sigmas[RVMask],fmt='.', label = 'Green' , color ='g')\n",
      "\n",
      "thisCam = thisStar.exposures.cameras[2]\n",
      "# RVMask = thisStar.exposures.my_data_mask\n",
      "# RVMask = np.abs(thisCam.RVs)<2e5\n",
      "RVMask = thisCam.safe_flag\n",
      "plt.scatter(thisStar.exposures.JDs[RVMask], thisCam.DDRVs[RVMask], label = 'Red' , color ='r')\n",
      "# plt.errorbar(thisStar.exposures.JDs[RVMask], thisCam.RVs[RVMask], yerr=thisCam.sigmas[RVMask],fmt='.', label = 'Red' , color ='r')\n",
      "\n",
      "thisCam = thisStar.exposures.cameras[3]\n",
      "# RVMask = thisStar.exposures.my_data_mask\n",
      "# RVMask = ((thisStar.exposures.my_data_mask) & (np.abs(thisCam.RVs)<20000))\n",
      "RVMask = thisCam.safe_flag\n",
      "plt.scatter(thisStar.exposures.JDs[RVMask], thisCam.DDRVs[RVMask], label = 'IR', color ='cyan' )\n",
      "# plt.errorbar(thisStar.exposures.JDs[RVMask], thisCam.RVs[RVMask], yerr=thisCam.sigmas[RVMask],fmt='.', label = 'IR', color ='cyan' )\n",
      "\n",
      "# start_day = 56889.000000 # The Julian date for CE  2014 August 20 00:00:00.0 UT  (10am australia)\n",
      "# end_day = 56895.000000 #The Julian date for CE  2014 August 26 00:00:00.0 UT (10am australia)\n",
      "\n",
      "# days = np.linspace(start_day, end_day) \n",
      "\n",
      "# K1=26100\n",
      "# peri_time = 19298.85\n",
      "# P=4.8202\n",
      "# peri_arg=269.3\n",
      "# RV = K1* np.sin( (days-peri_time)/P*2*np.pi - peri_arg/360*2*np.pi )\n",
      "# plt.plot(days, RV, linewidth = 1, label = 'rhoTuc' )\n",
      "\n",
      "plt.xlabel('JD')\n",
      "plt.ylabel('RV [m/s]')\n",
      "plt.legend(loc=3)\n",
      "plt.show()"
     ],
     "language": "python",
     "metadata": {},
     "outputs": [],
     "prompt_number": 69
    },
    {
     "cell_type": "code",
     "collapsed": false,
     "input": [
      "thisCam = thisStar.exposures.cameras[0]\n",
      "# for i in range(5):\n",
      "print thisCam.Ps\n",
      "print (thisCam.Ps[0,0]-thisCam.clean_wavelengths[0].shape[0]/2)\n",
      "print (-20480)*3000"
     ],
     "language": "python",
     "metadata": {},
     "outputs": [
      {
       "output_type": "stream",
       "stream": "stdout",
       "text": [
        "[[ 20480.00000041     31.22024091]\n",
        " [ 20479.18647047     33.74691434]\n",
        " [ 20479.5291172      33.19166508]\n",
        " [ 20479.33101668     32.03804502]\n",
        " [ 20500.34874949     42.66071609]]\n",
        "1.24415601022\n",
        "-61440000\n"
       ]
      }
     ],
     "prompt_number": 78
    },
    {
     "cell_type": "code",
     "collapsed": false,
     "input": [
      "#plots all data\n",
      "thisCam = thisStar.exposures.cameras[2]\n",
      "for i in [3]:\n",
      "    \n",
      "    fig = plt.gcf()\n",
      "    fig.suptitle(filehandler.name[:-4]+' - t0 vs t'+str(i)+' - RV='+str(thisCam.RVs[i])+' m/s', fontsize=14)\n",
      "\n",
      "    plt.subplot(221)\n",
      "    plt.title('Clean Flux')\n",
      "    plt.plot(thisCam.clean_wavelengths[i][::50],thisCam.clean_fluxes[i][::50])\n",
      "    plt.xlabel('Wavelength [ang]')\n",
      "    plt.ylabel('Flux [Counts]')\n",
      "    plt.legend(loc=0)\n",
      "    \n",
      "    plt.subplot(223)\n",
      "    plt.title('Clean Flux - Detail')\n",
      "    plt.plot(thisCam.clean_wavelengths[0],thisCam.clean_fluxes[0], label = 't0 Flux')\n",
      "    plt.plot(thisCam.clean_wavelengths[i],thisCam.clean_fluxes[i], label = 'Epoch '+str(i))\n",
      "#     plt.axis((4859,4864, -1,1))\n",
      "    plt.xlabel('Wavelength [ang]')\n",
      "    plt.ylabel('Flux [Counts]')\n",
      "    plt.legend(loc=0)\n",
      "\n",
      "    plt.subplot(222)\n",
      "    plt.title('Cross Correlation Result')\n",
      "    plt.plot((thisCam.clean_wavelengths[i]-np.median(thisCam.clean_wavelengths[i]))/thisCam.clean_wavelengths[i]*const.c,thisCam.CCCurves[i]/np.max(thisCam.CCCurves[i]))\n",
      "    plt.plot((thisCam.clean_wavelengths[i]-np.median(thisCam.clean_wavelengths[i]))/thisCam.clean_wavelengths[i]*const.c,\n",
      "             gaussian(range(len(thisCam.clean_wavelengths[i])), thisCam.Ps[i][0], thisCam.Ps[i][1]), label = 'gaussian fit') \n",
      "    plt.xlabel('RV [m/s]')\n",
      "    plt.legend(loc=0)\n",
      "    \n",
      "    plt.subplot(224)\n",
      "    plt.title('Cross Correlation Result - Detail')\n",
      "    plt.plot((thisCam.clean_wavelengths[i]-np.median(thisCam.clean_wavelengths[i]))/thisCam.clean_wavelengths[i]*const.c,thisCam.CCCurves[i]/np.max(thisCam.CCCurves[i]))\n",
      "    plt.plot((thisCam.clean_wavelengths[i]-np.median(thisCam.clean_wavelengths[i]))/thisCam.clean_wavelengths[i]*const.c,\n",
      "             gaussian(range(len(thisCam.clean_wavelengths[i])), thisCam.Ps[i][0], thisCam.Ps[i][1]), label = 'gaussian fit') \n",
      "    plt.axis((-8000, 8000,0.5,1.1) )\n",
      "    plt.xlabel('RV [m/s]')\n",
      "    plt.legend(loc=2)    \n",
      "\n",
      "    plt.tight_layout()\n",
      "    plt.show()\n"
     ],
     "language": "python",
     "metadata": {},
     "outputs": [
      {
       "output_type": "stream",
       "stream": "stdout",
       "text": [
        "No labeled objects found. Use label='...' kwarg on individual plots.\n",
        "tight_layout : falling back to Agg renderer\n"
       ]
      }
     ],
     "prompt_number": 176
    },
    {
     "cell_type": "code",
     "collapsed": false,
     "input": [],
     "language": "python",
     "metadata": {},
     "outputs": []
    },
    {
     "cell_type": "code",
     "collapsed": false,
     "input": [
      "#plots all CC fitted gausian results\\n\",\n",
      "# for i in range(CCCurves.shape[0]):\\n\",\n",
      "thisCam = thisStar.exposures.cameras[0]\n",
      "for i in range(10):\n",
      "    plt.plot((thisCam.clean_wavelengths[i]-np.median(thisCam.clean_wavelengths[i]))/thisCam.clean_wavelengths[i]*const.c,thisCam.CCCurves[i]/np.max(thisCam.CCCurves[i]))\n",
      "#     plt.plot((thisCam.clean_wavelengths[i]-np.median(thisCam.clean_wavelengths[i]))/thisCam.clean_wavelengths[i]*const.c,\n",
      "#              gaussian(range(len(thisCam.clean_wavelengths[i])), thisCam.Ps[i][0], thisCam.Ps[i][1])) \n",
      "    plt.xlabel('RV [m/s]')\n",
      "plt.show()\n"
     ],
     "language": "python",
     "metadata": {},
     "outputs": [
      {
       "ename": "IndexError",
       "evalue": "index 8 is out of bounds for axis 0 with size 8",
       "output_type": "pyerr",
       "traceback": [
        "\u001b[0;31m---------------------------------------------------------------------------\u001b[0m\n\u001b[0;31mIndexError\u001b[0m                                Traceback (most recent call last)",
        "\u001b[0;32m<ipython-input-69-58fec993073f>\u001b[0m in \u001b[0;36m<module>\u001b[0;34m()\u001b[0m\n\u001b[1;32m      3\u001b[0m \u001b[0mthisCam\u001b[0m \u001b[0;34m=\u001b[0m \u001b[0mthisStar\u001b[0m\u001b[0;34m.\u001b[0m\u001b[0mexposures\u001b[0m\u001b[0;34m.\u001b[0m\u001b[0mcameras\u001b[0m\u001b[0;34m[\u001b[0m\u001b[0;36m0\u001b[0m\u001b[0;34m]\u001b[0m\u001b[0;34m\u001b[0m\u001b[0m\n\u001b[1;32m      4\u001b[0m \u001b[0;32mfor\u001b[0m \u001b[0mi\u001b[0m \u001b[0;32min\u001b[0m \u001b[0mrange\u001b[0m\u001b[0;34m(\u001b[0m\u001b[0;36m10\u001b[0m\u001b[0;34m)\u001b[0m\u001b[0;34m:\u001b[0m\u001b[0;34m\u001b[0m\u001b[0m\n\u001b[0;32m----> 5\u001b[0;31m     \u001b[0mplt\u001b[0m\u001b[0;34m.\u001b[0m\u001b[0mplot\u001b[0m\u001b[0;34m(\u001b[0m\u001b[0;34m(\u001b[0m\u001b[0mthisCam\u001b[0m\u001b[0;34m.\u001b[0m\u001b[0mclean_wavelengths\u001b[0m\u001b[0;34m[\u001b[0m\u001b[0mi\u001b[0m\u001b[0;34m]\u001b[0m\u001b[0;34m-\u001b[0m\u001b[0mnp\u001b[0m\u001b[0;34m.\u001b[0m\u001b[0mmedian\u001b[0m\u001b[0;34m(\u001b[0m\u001b[0mthisCam\u001b[0m\u001b[0;34m.\u001b[0m\u001b[0mclean_wavelengths\u001b[0m\u001b[0;34m[\u001b[0m\u001b[0mi\u001b[0m\u001b[0;34m]\u001b[0m\u001b[0;34m)\u001b[0m\u001b[0;34m)\u001b[0m\u001b[0;34m/\u001b[0m\u001b[0mthisCam\u001b[0m\u001b[0;34m.\u001b[0m\u001b[0mclean_wavelengths\u001b[0m\u001b[0;34m[\u001b[0m\u001b[0mi\u001b[0m\u001b[0;34m]\u001b[0m\u001b[0;34m*\u001b[0m\u001b[0mconst\u001b[0m\u001b[0;34m.\u001b[0m\u001b[0mc\u001b[0m\u001b[0;34m,\u001b[0m\u001b[0mthisCam\u001b[0m\u001b[0;34m.\u001b[0m\u001b[0mCCCurves\u001b[0m\u001b[0;34m[\u001b[0m\u001b[0mi\u001b[0m\u001b[0;34m]\u001b[0m\u001b[0;34m/\u001b[0m\u001b[0mnp\u001b[0m\u001b[0;34m.\u001b[0m\u001b[0mmax\u001b[0m\u001b[0;34m(\u001b[0m\u001b[0mthisCam\u001b[0m\u001b[0;34m.\u001b[0m\u001b[0mCCCurves\u001b[0m\u001b[0;34m[\u001b[0m\u001b[0mi\u001b[0m\u001b[0;34m]\u001b[0m\u001b[0;34m)\u001b[0m\u001b[0;34m)\u001b[0m\u001b[0;34m\u001b[0m\u001b[0m\n\u001b[0m\u001b[1;32m      6\u001b[0m \u001b[0;31m#     plt.plot((thisCam.clean_wavelengths[i]-np.median(thisCam.clean_wavelengths[i]))/thisCam.clean_wavelengths[i]*const.c,\u001b[0m\u001b[0;34m\u001b[0m\u001b[0;34m\u001b[0m\u001b[0m\n\u001b[1;32m      7\u001b[0m \u001b[0;31m#              gaussian(range(len(thisCam.clean_wavelengths[i])), thisCam.Ps[i][0], thisCam.Ps[i][1]))\u001b[0m\u001b[0;34m\u001b[0m\u001b[0;34m\u001b[0m\u001b[0m\n",
        "\u001b[0;31mIndexError\u001b[0m: index 8 is out of bounds for axis 0 with size 8"
       ]
      }
     ],
     "prompt_number": 69
    },
    {
     "cell_type": "code",
     "collapsed": false,
     "input": [
      "#Debuging CC - resampling and cleaning tests\n",
      "flux1 = thisStar.exposures.cameras[0].red_fluxes[0]\n",
      "lambda1 = thisStar.exposures.cameras[0].wavelengths[0]\n",
      "lambda1Clean_10, flux1Clean_10 = clean_flux(flux1, 1, lambda1)\n",
      "# lambda1Clean_10, flux1Clean_10 = clean_flux(flux1, xDef, lambda1)\n",
      "# lambda1Clean_100, flux1Clean_100 = clean_flux(flux1, 100, lambda1)\\n\",\n",
      "plt.plot(lambda1,flux1/np.max(flux1), label= 'Reduced')\n",
      "# plt.plot(lambda1Clean_1,flux1Clean_1)\n",
      "plt.plot(lambda1Clean_10,flux1Clean_10, label= 'Clean')\n",
      "# plt.plot(lambda1Clean_100,flux1Clean_100)\n",
      "plt.title('Reduced and Clean flux')\n",
      "plt.xlabel('Wavelength [Ang.]')\n",
      "plt.ylabel('Relatuve Flux')\n",
      "plt.legend(loc=0)\n",
      "plt.show()\n"
     ],
     "language": "python",
     "metadata": {},
     "outputs": [],
     "prompt_number": 70
    },
    {
     "cell_type": "code",
     "collapsed": false,
     "input": [
      "#Saves\n",
      "# delattr(thisStar.exposures.cameras[0],'clean_fluxes')\n",
      "# delattr(thisStar.exposures.cameras[1],'clean_fluxes')\n",
      "# delattr(thisStar.exposures.cameras[2],'clean_fluxes')\n",
      "# delattr(thisStar.exposures.cameras[3],'clean_fluxes')\n",
      "# delattr(thisStar.exposures.cameras[0],'clean_wavelengths')\n",
      "# delattr(thisStar.exposures.cameras[1],'clean_wavelengths')\n",
      "# delattr(thisStar.exposures.cameras[2],'clean_wavelengths')\n",
      "# delattr(thisStar.exposures.cameras[3],'clean_wavelengths')\n",
      "# file_pi = open(filehandler.name, 'w') \n",
      "# pickle.dump(thisStar, file_pi) \n",
      "# file_pi.close()\n",
      "# filehandler.close()\n",
      "# thisStar = None"
     ],
     "language": "python",
     "metadata": {},
     "outputs": [],
     "prompt_number": 78
    },
    {
     "cell_type": "code",
     "collapsed": false,
     "input": [],
     "language": "python",
     "metadata": {},
     "outputs": [
      {
       "metadata": {},
       "output_type": "pyout",
       "prompt_number": 79,
       "text": [
        "27.777777777777775"
       ]
      }
     ],
     "prompt_number": 79
    },
    {
     "cell_type": "code",
     "collapsed": false,
     "input": [],
     "language": "python",
     "metadata": {},
     "outputs": []
    }
   ],
   "metadata": {}
  }
 ]
}