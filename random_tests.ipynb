{
 "metadata": {
  "name": "",
  "signature": "sha256:cf02a6333a70e86c7ab77a553bf6d95f9891f544cc366481deec9110ef54b818"
 },
 "nbformat": 3,
 "nbformat_minor": 0,
 "worksheets": [
  {
   "cells": [
    {
     "cell_type": "code",
     "collapsed": false,
     "input": [
      "def extract_HERMES_wavelength(header):\n",
      "    \n",
      "    CRVAL1 = header['CRVAL1'] # / Co-ordinate value of axis 1                    \n",
      "    CDELT1 = header['CDELT1'] #  / Co-ordinate increment along axis 1             \n",
      "    CRPIX1 = header['CRPIX1'] #  / Reference pixel along axis 1                   \n",
      "    \n",
      "    print CRVAL1,CDELT1, CRPIX1\n",
      "    \n",
      "    #Creates an array of offset wavelength from the referece px/wavelength\n",
      "    Lambda = CRVAL1 - (CRPIX1 - (np.arange(int(CRPIX1)*2)) -1)* CDELT1\n",
      "\n",
      "    return Lambda\n"
     ],
     "language": "python",
     "metadata": {},
     "outputs": [],
     "prompt_number": 11
    },
    {
     "cell_type": "code",
     "collapsed": false,
     "input": [
      "CRVAL1 = 4714.9999999\n",
      "CDELTA1 = .045177\n",
      "CRPIX1 = 1.\n",
      "data_len = 4096"
     ],
     "language": "python",
     "metadata": {},
     "outputs": [],
     "prompt_number": 36
    },
    {
     "cell_type": "code",
     "collapsed": false,
     "input": [
      "wl = np.arange(data_len)*CDELTA1+CRVAL1"
     ],
     "language": "python",
     "metadata": {},
     "outputs": [],
     "prompt_number": 40
    },
    {
     "cell_type": "code",
     "collapsed": false,
     "input": [
      "wl"
     ],
     "language": "python",
     "metadata": {},
     "outputs": [
      {
       "metadata": {},
       "output_type": "pyout",
       "prompt_number": 41,
       "text": [
        "array([ 4714.9999999,  4715.0451769,  4715.0903539, ...,  4899.9094609,\n",
        "        4899.9546379,  4899.9998149])"
       ]
      }
     ],
     "prompt_number": 41
    },
    {
     "cell_type": "code",
     "collapsed": false,
     "input": [
      "myfile = pf.open('21aug10036red.fits')"
     ],
     "language": "python",
     "metadata": {},
     "outputs": [],
     "prompt_number": 27
    },
    {
     "cell_type": "code",
     "collapsed": false,
     "input": [
      "extract_HERMES_wavelength(myfile[0].header)"
     ],
     "language": "python",
     "metadata": {},
     "outputs": [
      {
       "output_type": "stream",
       "stream": "stdout",
       "text": [
        "4812.19970703 0.0453204889728 2048.0\n"
       ]
      },
      {
       "metadata": {},
       "output_type": "pyout",
       "prompt_number": 30,
       "text": [
        "array([ 4719.4286661 ,  4719.47398659,  4719.51930708, ...,  4904.92542747,\n",
        "        4904.97074796,  4905.01606845])"
       ]
      }
     ],
     "prompt_number": 30
    },
    {
     "cell_type": "code",
     "collapsed": false,
     "input": [
      "myfile[0].header.items()"
     ],
     "language": "python",
     "metadata": {},
     "outputs": [
      {
       "metadata": {},
       "output_type": "pyout",
       "prompt_number": 26,
       "text": [
        "[('SIMPLE', True),\n",
        " ('BITPIX', -32),\n",
        " ('NAXIS', 2),\n",
        " ('NAXIS1', 4146),\n",
        " ('NAXIS2', 4112),\n",
        " ('EXTEND', True),\n",
        " ('COMMENT',\n",
        "  \"  FITS (Flexible Image Transport System) format is defined in 'Astronomy\"),\n",
        " ('COMMENT',\n",
        "  \"  FITS (Flexible Image Transport System) format is defined in 'Astronomy\"),\n",
        " ('LONGSTRN', 'OGIP 1.0'),\n",
        " ('COMMENT',\n",
        "  \"  FITS (Flexible Image Transport System) format is defined in 'Astronomy\"),\n",
        " ('COMMENT',\n",
        "  \"  FITS (Flexible Image Transport System) format is defined in 'Astronomy\"),\n",
        " ('COMMENT',\n",
        "  \"  FITS (Flexible Image Transport System) format is defined in 'Astronomy\"),\n",
        " ('COMMENT',\n",
        "  \"  FITS (Flexible Image Transport System) format is defined in 'Astronomy\"),\n",
        " ('DCT_DATE', 'Oct  9 2013'),\n",
        " ('DCT_VER', 'r3_138'),\n",
        " ('DETECXE', 4096),\n",
        " ('DETECXS', 1),\n",
        " ('DETECYE', 4112),\n",
        " ('DETECYS', 1),\n",
        " ('FIRMVSYS', 'System: AAO2 CCD Controller System Controller V1.28 130312'),\n",
        " ('FIRMVSEQ', 'Sequencer: AAO2 CCD Controller Sequencer V1.3 110321'),\n",
        " ('DETECTOR', 'E2V5-B'),\n",
        " ('XPIXSIZE', 15.0),\n",
        " ('YPIXSIZE', 15.0),\n",
        " ('CONFIGID', 13),\n",
        " ('DETECTID', 13),\n",
        " ('ABCKPLID', 6),\n",
        " ('VIDPBID', 7),\n",
        " ('CLKPBID', 21),\n",
        " ('BRDID_1', 65537),\n",
        " ('BRDSN_1', 18),\n",
        " ('BRDID_2', 327681),\n",
        " ('BRDSN_2', 19),\n",
        " ('BRDID_3', 131074),\n",
        " ('BRDSN_3', 89),\n",
        " ('BRDID_4', 131074),\n",
        " ('BRDSN_4', 119),\n",
        " ('BRDID_5', 131074),\n",
        " ('BRDSN_5', 109),\n",
        " ('BRDID_6', 131074),\n",
        " ('BRDSN_6', 110),\n",
        " ('BRDID_7', 196610),\n",
        " ('BRDSN_7', 98),\n",
        " ('BRDID_8', 262146),\n",
        " ('BRDSN_8', 78),\n",
        " ('BRDID_9', 458754),\n",
        " ('BRDSN_9', 102),\n",
        " ('BRDID_10', 393217),\n",
        " ('BRDSN_10', 129),\n",
        " ('METHOD', 'Normal ccd control method'),\n",
        " ('SPEED', 'FAST'),\n",
        " ('READAMP', 'LEFT_TWO'),\n",
        " ('EXPOSED', 1800.0),\n",
        " ('ELAPSED', 1800.6),\n",
        " ('TOTALEXP', 3600.6),\n",
        " ('RO_GAIN', 2.7),\n",
        " ('RO_NOISE', 4.0),\n",
        " ('DETTEMP', 167.7141),\n",
        " ('HTRVOLTS', 9.909267),\n",
        " ('SPECTID', 'BL'),\n",
        " ('SFILT1', ' '),\n",
        " ('SFILT2', ' '),\n",
        " ('ORIGIN', 'AAO'),\n",
        " ('TELESCOP', 'Anglo-Australian Telescope'),\n",
        " ('ALT_OBS', 1164),\n",
        " ('LAT_OBS', -31.27704),\n",
        " ('LONG_OBS', 149.0661),\n",
        " ('RCT_VER', 'r3_71HB'),\n",
        " ('RCT_DATE', '19-Oct-2013'),\n",
        " ('OBJECT', 'HD285507 #227 (Pivot 223)'),\n",
        " ('RUNCMD', 'RUN'),\n",
        " ('RADECSYS', 'FK5'),\n",
        " ('EQUINOX', 2000.0),\n",
        " ('INSTRUME', 'HERMES-2dF'),\n",
        " ('TDFCTVER', 'r11_27'),\n",
        " ('TDFCTDAT', '10-Jun-2014'),\n",
        " ('AAOMOSFT', 1),\n",
        " ('NDFCLASS', 'MFOBJECT'),\n",
        " ('CFG_FILE', 'HD285507_p1.sds'),\n",
        " ('PARKMASK', False),\n",
        " ('TDFCTEVT', '26'),\n",
        " ('DUMMY', 0),\n",
        " ('HARTMANA', 'Open'),\n",
        " ('HARTMANB', 'Open'),\n",
        " ('DCHROIC1', 'GA Blue'),\n",
        " ('DCHROIC2', 'GA Green'),\n",
        " ('DCHROIC3', 'GA Red'),\n",
        " ('ELECTEMP', 18.7),\n",
        " ('SPEC1TMP', 19.2),\n",
        " ('SPEC2TMP', 19.2),\n",
        " ('FRM1TEMP', 17.4),\n",
        " ('FRM2TEMP', 17.8),\n",
        " ('SLITTEMP', 18.4),\n",
        " ('SLITMASK', 'OUT'),\n",
        " ('HPOSCONF', 'YES'),\n",
        " ('SLITDITH', 'OFF'),\n",
        " ('SOURCE', 'Plate 1'),\n",
        " ('FLAPS', 'OPEN'),\n",
        " ('RUN', 38),\n",
        " ('OBSNUM', 38),\n",
        " ('GRPNUM', 38),\n",
        " ('GRPMEM', 1),\n",
        " ('GRPMAX', 0),\n",
        " ('OBSTYPE', 'OBJECT'),\n",
        " ('UTDATE', '2014:08:21'),\n",
        " ('EPOCH', 2014.63719227351),\n",
        " ('UTSTART', '17:37:39'),\n",
        " ('UTEND', '18:07:40'),\n",
        " ('STSTART', '01:33:46'),\n",
        " ('STEND', '02:03:52'),\n",
        " ('UTMJD', 56890.7344779004),\n",
        " ('TOPEND', '2DF'),\n",
        " ('AXIS', 'B'),\n",
        " ('AXIS_X', -2.14287647050415e-05),\n",
        " ('AXIS_Y', -0.000104331904174772),\n",
        " ('TRACKING', 'TRACKING'),\n",
        " ('TELFOC', 40.14),\n",
        " ('MEANRA', 61.7568191540333),\n",
        " ('MEANDEC', 15.3360184913091),\n",
        " ('TEL_PA', 89.9626715139606),\n",
        " ('HASTART', -38.5247553868382),\n",
        " ('ZDSTART', 59.5305943039479),\n",
        " ('APPRA', 1.08151237265571),\n",
        " ('APPDEC', 0.268313749496356),\n",
        " ('WINDOW', 'HERMES_2ROs_LR'),\n",
        " ('PISTON', 3237.97619047619),\n",
        " ('TILTSPEC', 7150.86533546305),\n",
        " ('TILTSPAT', 0),\n",
        " ('GRATID', '0'),\n",
        " ('GRATTILT', 0),\n",
        " ('GRATLPMM', 3827.0),\n",
        " ('ORDER', 1),\n",
        " ('DISPENC', 0),\n",
        " ('CAMENC', 0),\n",
        " ('GRATANGL', 0),\n",
        " ('GRATANGR', 0),\n",
        " ('CAMANGL', 0),\n",
        " ('CAMANGR', 0),\n",
        " ('LAMBDAC', 4833.0),\n",
        " ('LAMBDAB', 4833.0),\n",
        " ('LAMBDCR', 4833.0),\n",
        " ('LAMBDBR', 4833.0),\n",
        " ('DISPERS', 0.045),\n",
        " ('SPLYTEMP', 16.3),\n",
        " ('RTRNTEMP', 3.9),\n",
        " ('CAMRTEMP', 14.8),\n",
        " ('HAEND', -31.0004802462445),\n",
        " ('ZDEND', 55.3371903448192),\n",
        " ('WINDOXS1', 1),\n",
        " ('WINDOXE1', 4096),\n",
        " ('WINDOYS1', 1),\n",
        " ('WINDOYE1', 2056),\n",
        " ('WINDOXS2', 4100),\n",
        " ('WINDOXE2', 4149),\n",
        " ('WINDOYS2', 1),\n",
        " ('WINDOYE2', 2056),\n",
        " ('XEFFSIZE', 15.0),\n",
        " ('YEFFSIZE', 15.0),\n",
        " ('RO_GAIN1', 2.6),\n",
        " ('RO_NOIS1', 4.1),\n",
        " ('FILEORIG', '/data/aatobs/OptDet_data/140821/ccd_1/21aug10038.fits')]"
       ]
      }
     ],
     "prompt_number": 26
    },
    {
     "cell_type": "code",
     "collapsed": false,
     "input": [
      "flux1 = myfile[0].data[5]\n",
      "flux2 = myfile[0].data[20]"
     ],
     "language": "python",
     "metadata": {},
     "outputs": [],
     "prompt_number": 70
    },
    {
     "cell_type": "code",
     "collapsed": false,
     "input": [
      "plt.plot(flux1)\n",
      "plt.plot(flux2)\n",
      "    \n",
      "plt.show()\n",
      "\n",
      "    "
     ],
     "language": "python",
     "metadata": {},
     "outputs": [],
     "prompt_number": 72
    },
    {
     "cell_type": "code",
     "collapsed": false,
     "input": [
      "plt.plot(np.correlate(flux1, flux2, 'same'))\n",
      "plt.show()"
     ],
     "language": "python",
     "metadata": {},
     "outputs": [],
     "prompt_number": 75
    },
    {
     "cell_type": "code",
     "collapsed": false,
     "input": [
      "filename = 'Giant01.obj'\n",
      "# filename = 'red_Giant01.obj'\n",
      "filehandler = open(filename, 'r')\n",
      "thisStar = pickle.load(filehandler)"
     ],
     "language": "python",
     "metadata": {},
     "outputs": [],
     "prompt_number": 10
    },
    {
     "cell_type": "code",
     "collapsed": false,
     "input": [
      "thisCam = thisStar.exposures.cameras[1]"
     ],
     "language": "python",
     "metadata": {},
     "outputs": [],
     "prompt_number": 37
    },
    {
     "cell_type": "code",
     "collapsed": false,
     "input": [
      "import numpy as np\n",
      "import pickle\n",
      "import pylab as plt\n",
      "from scipy import interpolate, signal, optimize, constants\n",
      "import pyfits as pf\n",
      "import sys\n",
      "\n",
      "CCReferenceSet=1\n",
      "CCTHisSet = 2\n",
      "corrHWidth = 10\n",
      "\n",
      "lambda1, flux1 = thisCam.wavelengths[CCReferenceSet], thisCam.red_fluxes[CCReferenceSet]\n",
      "# plt.plot(lambda1,flux1)\n",
      "lambda2, flux2 = thisCam.wavelengths[CCTHisSet], thisCam.red_fluxes[CCTHisSet]\n",
      "# plt.plot(lambda2,flux2)\n",
      "# plt.show()\n",
      "\n",
      "lambda1, flux1 = clean_flux(thisCam.wavelengths[CCReferenceSet], thisCam.red_fluxes[CCReferenceSet], thisCam)\n",
      "# plt.plot(lambda1,flux1)\n",
      "lambda2, flux2 = clean_flux(thisCam.wavelengths[CCTHisSet], thisCam.red_fluxes[CCTHisSet], thisCam)\n",
      "# plt.plot(lambda2,flux2)\n",
      "# plt.show()\n",
      "\n",
      "CCCurve = signal.fftconvolve(flux1, flux2[::-1], mode='same')\n",
      "CCCurve2 = signal.fftconvolve(flux1[-np.isnan(flux1)], flux2[-np.isnan(flux2)][::-1], mode='same')\n",
      "print np.sum(-np.isnan(flux1)), len(flux1)\n",
      "# corrMax = np.where(CCCurve==max(CCCurve))[0][0]\n",
      "\n",
      "# p_guess = [corrMax,corrHWidth]\n",
      "# x_mask = np.arange(corrMax-corrHWidth, corrMax+corrHWidth+1)\n",
      "# p = fit_gaussian(p_guess, CCCurve[x_mask], np.arange(len(CCCurve))[x_mask])[0]\n",
      "\n",
      "plt.plot(CCCurve)\n",
      "plt.plot(CCCurve2)\n",
      "# plt.plot(lambda2[x_mask],max(CCCurve)* gaussian(x_mask, p[0],p[1]))\n",
      "plt.show()\n",
      "\n",
      "# if np.modf(CCCurve.shape[0]/2.0)[0]>1e-5:\n",
      "#     pixelShift = (p[0]-(CCCurve.shape[0]-1)/2.) #odd number of elements\n",
      "# else:\n",
      "#     pixelShift = (p[0]-(CCCurve.shape[0])/2.) #even number of elements\n",
      "\n",
      "    \n",
      "# # thisQ, thisdRV = QdRV(thisCam.wavelengths[i], thisCam.red_fluxes[i])\n",
      "                \n",
      "# mid_px = thisCam.wavelengths.shape[1]/2\n",
      "# dWl = (thisCam.wavelengths[i,mid_px+1]-thisCam.wavelengths[i,mid_px]) / thisCam.wavelengths[i,mid_px]\n",
      "# RV = dWl * pixelShift * constants.c \n",
      "# print 'RV',RV\n",
      "                \n",
      "# #                 SNR = np.median(thisCam.red_fluxes[i])/np.std(thisCam.red_fluxes[i])\n"
     ],
     "language": "python",
     "metadata": {},
     "outputs": [
      {
       "output_type": "stream",
       "stream": "stdout",
       "text": [
        "flux out has 5\n",
        "flux out has 5\n",
        "4091 4096\n"
       ]
      }
     ],
     "prompt_number": 60
    },
    {
     "cell_type": "code",
     "collapsed": false,
     "input": [
      "validDates = np.nansum(thisCam.red_fluxes,1).astype(bool)\n",
      "print np.nansum(thisCam.wavelengths,1)"
     ],
     "language": "python",
     "metadata": {},
     "outputs": [
      {
       "output_type": "stream",
       "stream": "stdout",
       "text": [
        "[        0.         19691519.9999983  19691519.9999983  19691519.9999983\n",
        "  19691519.9999983  19691519.9999983  19691519.9999983  19691519.9999983\n",
        "  19691519.9999983  19691519.9999983  19691519.9999983  19691519.9999983\n",
        "  19691519.9999983  19691519.9999983  19691519.9999983]\n"
       ]
      }
     ],
     "prompt_number": 56
    },
    {
     "cell_type": "code",
     "collapsed": false,
     "input": [
      "print thisCam.RVs\n",
      "# plt.plot(thisCam.RVs)\n",
      "# plt.show()"
     ],
     "language": "python",
     "metadata": {},
     "outputs": [
      {
       "output_type": "stream",
       "stream": "stdout",
       "text": [
        "[]\n"
       ]
      }
     ],
     "prompt_number": 54
    },
    {
     "cell_type": "code",
     "collapsed": false,
     "input": [
      "i=0\n",
      "for x,y,label in zip(thisCam.wavelengths, thisCam.red_fluxes, thisCam.fileNames):\n",
      "    plt.plot(x,y+i, label= label, c='k')\n",
      "    i+=300\n",
      "plt.title(thisStar.name)\n",
      "# plt.legend(loc = 0)\n",
      "plt.show()"
     ],
     "language": "python",
     "metadata": {},
     "outputs": [],
     "prompt_number": 55
    },
    {
     "cell_type": "code",
     "collapsed": false,
     "input": [
      "for i in a.sigmas[:]:\n",
      "    plt.plot(i)\n",
      "plt.show()"
     ],
     "language": "python",
     "metadata": {},
     "outputs": [],
     "prompt_number": 26
    },
    {
     "cell_type": "code",
     "collapsed": false,
     "input": [
      "#Fit gaussian in CCCurves\n",
      "def gaussian(x, mu, sig, ):\n",
      "    return np.exp(-np.power(x - mu, 2.) / 2 / np.power(sig, 2.))\n",
      "\n",
      "def fit_gaussian(p, flux, x_range):\n",
      "    a = optimize.leastsq(diff_gausian, p, args= [flux, x_range])\n",
      "    return a\n",
      "\n",
      "def diff_gausian(p, args):\n",
      "    \n",
      "    flux = args[0]\n",
      "    x_range = args[1]\n",
      "    diff = gaussian(x_range, p[0],p[1]) - flux/np.max(flux)\n",
      "    return diff\n",
      "\n",
      "def get_wavelength(wavelengths, pixel):\n",
      "    intPx = int(pixel)\n",
      "    fracPx = pixel - int(pixel)\n",
      "\n",
      "    return (wavelengths[intPx+1] - wavelengths[intPx])*fracPx + wavelengths[intPx]\n",
      "\n",
      "def extract_HERMES_wavelength(fileName):\n",
      "\n",
      "\ta = pf.open(fileName)\n",
      "\n",
      "\tCRVAL1 = a[0].header['CRVAL1'] # / Co-ordinate value of axis 1                    \n",
      "\tCDELT1 = a[0].header['CDELT1'] #  / Co-ordinate increment along axis 1             \n",
      "\tCRPIX1 = a[0].header['CRPIX1'] #  / Reference pixel along axis 1                   \n",
      "\t\n",
      "\t#Creates an array of offset wavelength from the referece px/wavelength\n",
      "\tLambda = CRVAL1 - (CRPIX1 - (np.arange(int(CRPIX1)*2)) -1)* CDELT1\n",
      "\n",
      "\treturn Lambda\n"
     ],
     "language": "python",
     "metadata": {},
     "outputs": [],
     "prompt_number": 27
    },
    {
     "cell_type": "code",
     "collapsed": false,
     "input": [
      "np.sum(thisCam.wavelengths,1)\n",
      "np.sum(np.isnan(thisCam.wavelengths))"
     ],
     "language": "python",
     "metadata": {},
     "outputs": [
      {
       "metadata": {},
       "output_type": "pyout",
       "prompt_number": 69,
       "text": [
        "0"
       ]
      }
     ],
     "prompt_number": 69
    },
    {
     "cell_type": "code",
     "collapsed": false,
     "input": [
      "mid_px = thisCam.wavelengths.shape[1]/2\n",
      "dWl = (thisCam.wavelengths[0,mid_px+1]-thisCam.wavelengths[0,mid_px]) / thisCam.wavelengths[0,mid_px]\n",
      "RV = dWl * 0.5 * 3e8\n",
      "print 'RV',RV, mid_px, thisCam.wavelengths[0,mid_px+1], thisCam.wavelengths[0,mid_px]\n"
     ],
     "language": "python",
     "metadata": {},
     "outputs": [
      {
       "output_type": "stream",
       "stream": "stdout",
       "text": [
        "RV nan 2048 0.0 0.0\n"
       ]
      }
     ],
     "prompt_number": 75
    },
    {
     "cell_type": "code",
     "collapsed": false,
     "input": [
      "def clean_flux(wavelength, flux, thisCam, xDef = 1, medianRange = 0):\n",
      "    '''Clean a 1D spectrum. \n",
      "    \n",
      "    Parameters\n",
      "    ----\n",
      "    xDef : int or None, optional\n",
      "        Coeficient to resample. Final array will be flux.shape[0]*xDef long. \n",
      "        \n",
      "    medianRange : int, optional\n",
      "        Number of pixels to median over. 0 will skip this step. Optional.\n",
      "\n",
      "    '''\n",
      "        \n",
      "    #median outliers\n",
      "    if medianRange>0:\n",
      "        fluxMed = signal.medfilt(flux,medianRange)\n",
      "        w = np.where(abs((flux-fluxMed)/np.maximum(fluxMed,50)) > 0.4)\n",
      "        for ix in w[0]:\n",
      "            flux[ix] = fluxMed[ix]\n",
      "            \n",
      "    print 'flux out has',np.sum(np.isnan(flux))\n",
      "\n",
      "    if ((wavelength[-np.isnan(flux)].shape[0]>0) &  (flux[-np.isnan(flux)].shape[0]>0)):\n",
      "        \n",
      "        #flatten curve by fitting a 3rd order poly\n",
      "        fFlux = optimize.curve_fit(cubic, wavelength[-np.isnan(flux)], flux[-np.isnan(flux)], p0 = [1,1,1,1])\n",
      "        fittedCurve = cubic(wavelength, fFlux[0][0], fFlux[0][1], fFlux[0][2], fFlux[0][3])\n",
      "        flux = flux/fittedCurve-1\n",
      "\n",
      "        #apply tukey\n",
      "        flux = flux * tukey(0.1, len(flux))\n",
      "\n",
      "        #resample\n",
      "        if (xDef>1):\n",
      "            fFlux = interpolate.interp1d(wavelength, flux) \n",
      "            wavelength = np.linspace(min(wavelength), max(wavelength),len(wavelength)*xDef)\n",
      "            flux = fFlux(wavelength)\n",
      "\n",
      "    else: #if not enough data return NaNs\n",
      "        if (xDef>1):\n",
      "            wavelength = np.linspace(min(wavelength), max(wavelength),len(wavelength)*xDef)\n",
      "            flux = np.ones(wavelength.shape[0])*np.nan\n",
      "    \n",
      "    return wavelength, flux\n"
     ],
     "language": "python",
     "metadata": {},
     "outputs": [],
     "prompt_number": 50
    },
    {
     "cell_type": "code",
     "collapsed": false,
     "input": [
      "def cubic(x,a,b,c,d):\n",
      "    '''\n",
      "    Cubic function\n",
      "    '''\n",
      "    return a*x**3+b*x**2+c*x+d"
     ],
     "language": "python",
     "metadata": {},
     "outputs": [],
     "prompt_number": 4
    },
    {
     "cell_type": "code",
     "collapsed": false,
     "input": [
      "def tukey(alpha, N):\n",
      "    '''Creates a tukey function\n",
      "    \n",
      "    \n",
      "    Parameters\n",
      "    ----\n",
      "    alpha : float\n",
      "        Fraction of the pixels to fade in/out.\n",
      "        i.e. alpha=0.1 will use 10% of the pixels to go from 0 to 1. \n",
      "        \n",
      "    N : int\n",
      "        Totla number of pixels in the array.\n",
      "        \n",
      "        \n",
      "    Returns\n",
      "    ------\n",
      "\n",
      "    N-length array of floats from 0 to 1. \n",
      "    '''\n",
      "\n",
      "    \n",
      "    tukey = np.zeros(N)\n",
      "    for i in range(int(alpha*(N-1)/2)):\n",
      "        tukey[i] = 0.5*(1+np.cos(np.pi*(2*i/alpha/(N-1)-1)))\n",
      "    for i in range(int(alpha*(N-1)/2),int((N-1)*(1-alpha/2))):\n",
      "        tukey[i] = 1\n",
      "    for i in range(int((N-1)*(1-alpha/2)),int((N-1))):\n",
      "        tukey[i] = 0.5*(1+np.cos(np.pi*(2*i/alpha/(N-1)-2/alpha+1)))\n",
      "    \n",
      "    return tukey\n"
     ],
     "language": "python",
     "metadata": {},
     "outputs": [],
     "prompt_number": 5
    },
    {
     "cell_type": "code",
     "collapsed": false,
     "input": [
      "a"
     ],
     "language": "python",
     "metadata": {},
     "outputs": [
      {
       "ename": "NameError",
       "evalue": "name 'a' is not defined",
       "output_type": "pyerr",
       "traceback": [
        "\u001b[0;31m---------------------------------------------------------------------------\u001b[0m\n\u001b[0;31mNameError\u001b[0m                                 Traceback (most recent call last)",
        "\u001b[0;32m<ipython-input-2-60b725f10c9c>\u001b[0m in \u001b[0;36m<module>\u001b[0;34m()\u001b[0m\n\u001b[0;32m----> 1\u001b[0;31m \u001b[0ma\u001b[0m\u001b[0;34m\u001b[0m\u001b[0m\n\u001b[0m",
        "\u001b[0;31mNameError\u001b[0m: name 'a' is not defined"
       ]
      }
     ],
     "prompt_number": 2
    },
    {
     "cell_type": "code",
     "collapsed": false,
     "input": [
      "thisStar.exposures.cameras[3].sigmas"
     ],
     "language": "python",
     "metadata": {},
     "outputs": [
      {
       "metadata": {},
       "output_type": "pyout",
       "prompt_number": 27,
       "text": [
        "array([ 2.37215918,  3.01207561,  5.15707718,  3.44408889,  2.62640225,\n",
        "        2.69855998,  2.68738208,  1.91724504,  2.33835822,  3.77023277,\n",
        "        3.83053724,  4.04833517,  0.        ,  0.        ,  0.        ])"
       ]
      }
     ],
     "prompt_number": 27
    },
    {
     "cell_type": "code",
     "collapsed": false,
     "input": [
      "\n",
      "print thisCam.fileNames.shape\n",
      "\n",
      "print thisCam.wavelengths.shape"
     ],
     "language": "python",
     "metadata": {},
     "outputs": [
      {
       "output_type": "stream",
       "stream": "stdout",
       "text": [
        "(15,)\n",
        "(15, 4096)\n"
       ]
      }
     ],
     "prompt_number": 66
    },
    {
     "cell_type": "code",
     "collapsed": false,
     "input": [
      "print thisCam.RVs\n",
      "plt.plot(thisCam.RVs,'.')\n",
      "plt.show()"
     ],
     "language": "python",
     "metadata": {},
     "outputs": [
      {
       "output_type": "stream",
       "stream": "stdout",
       "text": [
        "[  0.00000000e+00   7.97179612e-03   3.27081544e+01  -7.97272797e+00\n",
        "  -2.03126724e+02  -1.75864239e+02  -2.31865165e+02  -9.89727512e+02\n",
        "  -1.02150588e+03  -9.55549945e+02  -1.00753632e+03  -9.30364563e+02\n",
        "  -1.21113819e+03  -1.23748642e+03  -1.23991649e+03]\n"
       ]
      }
     ],
     "prompt_number": 20
    },
    {
     "cell_type": "code",
     "collapsed": false,
     "input": [
      "import pickle\n",
      "import pylab as plt\n",
      "import numpy as np"
     ],
     "language": "python",
     "metadata": {},
     "outputs": [],
     "prompt_number": 62
    },
    {
     "cell_type": "code",
     "collapsed": false,
     "input": [
      "cd ~/Documents/HERMES/reductions/47Tuc_core_6.2/"
     ],
     "language": "python",
     "metadata": {},
     "outputs": [
      {
       "output_type": "stream",
       "stream": "stdout",
       "text": [
        "/Users/Carlos/Documents/HERMES/reductions/47Tuc_core_6.2\n"
       ]
      }
     ],
     "prompt_number": 61
    },
    {
     "cell_type": "code",
     "collapsed": false,
     "input": [
      "print np.all([np.nansum(thisCam.red_fluxes,1).astype(bool) for thisCam in thisStar.exposures.cameras],0)\n"
     ],
     "language": "python",
     "metadata": {},
     "outputs": [
      {
       "output_type": "stream",
       "stream": "stdout",
       "text": [
        "[False False False False  True  True  True False False False  True  True\n",
        "  True False False False]\n"
       ]
      }
     ],
     "prompt_number": 76
    },
    {
     "cell_type": "code",
     "collapsed": false,
     "input": [
      "plt.plot(thisCam.red_fluxes[0])\n",
      "plt.show()"
     ],
     "language": "python",
     "metadata": {},
     "outputs": [],
     "prompt_number": 235
    },
    {
     "cell_type": "code",
     "collapsed": false,
     "input": [
      "print thisCam.SNRs\n",
      "print np.nansum(thisCam.red_fluxes,1)\n",
      "print thisCam.fileNames"
     ],
     "language": "python",
     "metadata": {},
     "outputs": [
      {
       "output_type": "stream",
       "stream": "stdout",
       "text": [
        "[ 357.64439829  282.15521687  161.39792452  244.43131544  317.82667741\n",
        "  310.4912061   312.11264743  424.02645849  344.74023282  210.44685066\n",
        "  205.68299429  194.9054809     0.            0.            0.        ]\n",
        "[  4.55187066e+08   2.81631516e+08   9.25882388e+07   2.11867813e+08\n",
        "   3.60509773e+08   3.43098691e+08   3.46584643e+08   6.58571607e+08\n",
        "   4.37689870e+08   1.64507269e+08   1.57501181e+08   1.41299043e+08\n",
        "   0.00000000e+00   0.00000000e+00   0.00000000e+00]\n",
        "['20aug40053red.fits' '21aug40041red.fits' '21aug40042red.fits'\n",
        " '21aug40043red.fits' '22aug40036red.fits' '22aug40037red.fits'\n",
        " '22aug40038red.fits' '24aug40058red.fits' '24aug40059red.fits'\n",
        " '24aug40060red.fits' '24aug40061red.fits' '24aug40062red.fits' '' '' '']\n"
       ]
      }
     ],
     "prompt_number": 240
    },
    {
     "cell_type": "code",
     "collapsed": false,
     "input": [
      "thisStar.exposures.JDs.shape[0]"
     ],
     "language": "python",
     "metadata": {},
     "outputs": [
      {
       "metadata": {},
       "output_type": "pyout",
       "prompt_number": 109,
       "text": [
        "16"
       ]
      }
     ],
     "prompt_number": 109
    },
    {
     "cell_type": "code",
     "collapsed": false,
     "input": [
      "thisStar.exposures.JDs.shape"
     ],
     "language": "python",
     "metadata": {},
     "outputs": [
      {
       "metadata": {},
       "output_type": "pyout",
       "prompt_number": 107,
       "text": [
        "(16,)"
       ]
      }
     ],
     "prompt_number": 107
    },
    {
     "cell_type": "code",
     "collapsed": false,
     "input": [
      "import scipy as sp"
     ],
     "language": "python",
     "metadata": {},
     "outputs": [],
     "prompt_number": 110
    },
    {
     "cell_type": "code",
     "collapsed": false,
     "input": [
      "from scipy import optimize"
     ],
     "language": "python",
     "metadata": {},
     "outputs": [],
     "prompt_number": 111
    },
    {
     "cell_type": "code",
     "collapsed": false,
     "input": [
      "thisStar.exposures.abs_baryVels"
     ],
     "language": "python",
     "metadata": {},
     "outputs": [
      {
       "metadata": {},
       "output_type": "pyout",
       "prompt_number": 112,
       "text": [
        "array([ 4286.09055178,  4289.90753103,  4293.49971415,  4298.43854106,\n",
        "        4513.01030821,  4516.36212311,  4519.71368855,  4548.30352242,\n",
        "        4551.65269404,  4554.7783596 ,  4970.63834294,  4973.95299674,\n",
        "        4977.48830512,  5186.7865449 ,  5190.08139605,  5193.3759337 ])"
       ]
      }
     ],
     "prompt_number": 112
    },
    {
     "cell_type": "code",
     "collapsed": false,
     "input": [
      "pwd"
     ],
     "language": "python",
     "metadata": {},
     "outputs": [
      {
       "metadata": {},
       "output_type": "pyout",
       "prompt_number": 113,
       "text": [
        "u'/Users/Carlos/Documents/HERMES/reductions/47Tuc_core_6.2'"
       ]
      }
     ],
     "prompt_number": 113
    },
    {
     "cell_type": "code",
     "collapsed": false,
     "input": [
      "print RVs[0].shape"
     ],
     "language": "python",
     "metadata": {},
     "outputs": [
      {
       "output_type": "stream",
       "stream": "stdout",
       "text": [
        "(16, 4)\n"
       ]
      }
     ],
     "prompt_number": 195
    },
    {
     "cell_type": "code",
     "collapsed": false,
     "input": [
      "cd '/Users/Carlos/Documents/HERMES/reductions/47Tuc_core_6.2'"
     ],
     "language": "python",
     "metadata": {},
     "outputs": [
      {
       "output_type": "stream",
       "stream": "stdout",
       "text": [
        "/Users/Carlos/Documents/HERMES/reductions/47Tuc_core_6.2\n"
       ]
      }
     ],
     "prompt_number": 178
    },
    {
     "cell_type": "code",
     "collapsed": false,
     "input": [
      "RVs = np.load('RVs.npy')\n",
      "SNRs = np.load('SNRs.npy')"
     ],
     "language": "python",
     "metadata": {},
     "outputs": [],
     "prompt_number": 179
    },
    {
     "cell_type": "code",
     "collapsed": false,
     "input": [
      "for epoch in range(RVs.shape[1]):\n",
      "    cam = 0\n",
      "    R = RVs[:,epoch,cam]\n",
      "    S = SNRs[:,epoch,cam]\n",
      "    a = np.histogram(R)\n",
      "    plt.bar(a[1][:-1],a[0], width = (a[1][-2]-a[1][-1])*0.7)\n",
      "    plt.plot(R,S,'.', c='r')\n",
      "    plt.show()"
     ],
     "language": "python",
     "metadata": {},
     "outputs": [],
     "prompt_number": 198
    },
    {
     "cell_type": "code",
     "collapsed": false,
     "input": [
      "a = np.histogram(R)\n",
      "# plt.plot(a[1][:-1],a[0],'.')\n",
      "plt.bar(a[1][:-1],a[0], width = (a[1][-2]-a[1][-1])*0.7)\n",
      "plt.show()"
     ],
     "language": "python",
     "metadata": {},
     "outputs": [],
     "prompt_number": 193
    },
    {
     "cell_type": "code",
     "collapsed": false,
     "input": [
      "a = np.histogram(R)\n",
      "plt.plot(R,S,'.', c='r')\n",
      "# plt.bar(a[1][:-1],a[0], width = (a[1][-2]-a[1][-1])*0.7)\n",
      "plt.show()"
     ],
     "language": "python",
     "metadata": {},
     "outputs": [],
     "prompt_number": 192
    },
    {
     "cell_type": "code",
     "collapsed": false,
     "input": [
      "R = RVs[:,15,0]\n",
      "S = SNRs[:,15,0]"
     ],
     "language": "python",
     "metadata": {},
     "outputs": [],
     "prompt_number": 164
    },
    {
     "cell_type": "code",
     "collapsed": false,
     "input": [
      "a = np.histogram(R)\n",
      "# plt.plot(a[1][:-1],a[0],'.')\n",
      "plt.bar(a[1][:-1],a[0], width = (a[1][-2]-a[1][-1])*0.7)\n",
      "plt.show()"
     ],
     "language": "python",
     "metadata": {},
     "outputs": [],
     "prompt_number": 166
    },
    {
     "cell_type": "code",
     "collapsed": false,
     "input": [
      "import os"
     ],
     "language": "python",
     "metadata": {},
     "outputs": [],
     "prompt_number": 172
    },
    {
     "cell_type": "code",
     "collapsed": true,
     "input": [
      "os.curdir"
     ],
     "language": "python",
     "metadata": {},
     "outputs": [
      {
       "metadata": {},
       "output_type": "pyout",
       "prompt_number": 173,
       "text": [
        "'.'"
       ]
      }
     ],
     "prompt_number": 173
    },
    {
     "cell_type": "code",
     "collapsed": false,
     "input": [
      "pwd"
     ],
     "language": "python",
     "metadata": {},
     "outputs": [
      {
       "metadata": {},
       "output_type": "pyout",
       "prompt_number": 174,
       "text": [
        "u'/Users/Carlos/Documents/HERMES/reductions/47Tuc_core_6.2'"
       ]
      }
     ],
     "prompt_number": 174
    },
    {
     "cell_type": "code",
     "collapsed": false,
     "input": [
      "os.getcwd().split('/')[-1]"
     ],
     "language": "python",
     "metadata": {},
     "outputs": [
      {
       "metadata": {},
       "output_type": "pyout",
       "prompt_number": 177,
       "text": [
        "'47Tuc_core_6.2'"
       ]
      }
     ],
     "prompt_number": 177
    },
    {
     "cell_type": "code",
     "collapsed": false,
     "input": [
      "plt.plot(thisCam.red_fluxes)\n",
      "plt.show()"
     ],
     "language": "python",
     "metadata": {},
     "outputs": [],
     "prompt_number": 201
    },
    {
     "cell_type": "code",
     "collapsed": false,
     "input": [
      "i=6\n",
      "np.nanmean(thisCam.red_fluxes[i])/np.std(thisCam.red_fluxes[i])\n",
      "print np.sqrt(np.nanmean(thisCam.red_fluxes[i]))\n",
      "print np.nansum(thisCam.red_fluxes[i])\n",
      "print stats.nanmedian(thisCam.red_fluxes[i])/stats.nanstd(thisCam.red_fluxes[i])\n"
     ],
     "language": "python",
     "metadata": {},
     "outputs": [
      {
       "output_type": "stream",
       "stream": "stdout",
       "text": [
        "23.6033444571\n",
        "2276383.61503\n",
        "9.6440414162\n"
       ]
      }
     ],
     "prompt_number": 220
    },
    {
     "cell_type": "code",
     "collapsed": false,
     "input": [
      "PyAstronomy"
     ],
     "language": "python",
     "metadata": {},
     "outputs": [
      {
       "metadata": {},
       "output_type": "pyout",
       "prompt_number": 6,
       "text": [
        "<module 'PyAstronomy' from '/Users/Carlos/Library/Enthought/Canopy_64bit/User/lib/python2.7/site-packages/PyAstronomy/__init__.pyc'>"
       ]
      }
     ],
     "prompt_number": 6
    },
    {
     "cell_type": "code",
     "collapsed": false,
     "input": [
      "import PyAstronomy"
     ],
     "language": "python",
     "metadata": {},
     "outputs": [],
     "prompt_number": 5
    },
    {
     "cell_type": "code",
     "collapsed": false,
     "input": [
      "cd ~/Documents/HERMES/reductions/HD1581_6.2/"
     ],
     "language": "python",
     "metadata": {},
     "outputs": [
      {
       "output_type": "stream",
       "stream": "stdout",
       "text": [
        "/Users/Carlos/Documents/HERMES/reductions/HD1581_6.2\n"
       ]
      }
     ],
     "prompt_number": 63
    },
    {
     "cell_type": "code",
     "collapsed": false,
     "input": [
      "import pickle\n",
      "filename = 'HD1581.obj'\n",
      "# filename = 'Brght01.obj'\n",
      "# filename = 'red_Giant01.obj'\n",
      "filehandler = open(filename, 'r')\n",
      "thisStar = pickle.load(filehandler)\n",
      "thisCam = thisStar.exposures.cameras[3]\n"
     ],
     "language": "python",
     "metadata": {},
     "outputs": [],
     "prompt_number": 122
    },
    {
     "cell_type": "code",
     "collapsed": false,
     "input": [],
     "language": "python",
     "metadata": {},
     "outputs": [
      {
       "metadata": {},
       "output_type": "pyout",
       "prompt_number": 11,
       "text": [
        "array([ 2456890.31 ,  2456891.304,  2456891.306,  2456891.308,\n",
        "        2456892.206,  2456892.208,  2456892.21 ,  2456894.264,\n",
        "        2456894.266,  2456894.268,  2456894.269,  2456894.271,\n",
        "        2456895.242,  2456895.244,  2456895.246])"
       ]
      }
     ],
     "prompt_number": 11
    },
    {
     "cell_type": "code",
     "collapsed": false,
     "input": [
      "from PyAstronomy import pyasl\n",
      "\n",
      "def baryTest(thisStar):\n",
      "\n",
      "    for i,jd in enumerate((thisStar.exposures.JDs+2400000.5)[:]):\n",
      "        heli, bary = pyasl.baryvel(jd, deq=2000.0)\n",
      "#         print \"Earth's velocity at JD: \", jd\n",
      "#         print \"Heliocentric velocity [km/s]: \", heli\n",
      "#         print \"Barycentric velocity [km/s] : \", bary\n",
      "\n",
      "        # Coordinates of Sirius\n",
      "        ra  = 101.28715535\n",
      "        dec = -16.71611587\n",
      "        \n",
      "        #thisStar coords\n",
      "        ra  = np.rad2deg(thisStar.RA_dec)\n",
      "        dec = np.rad2deg(thisStar.Dec_dec)\n",
      "        print np.rad2deg(thisStar.RA_dec), np.rad2deg(thisStar.Dec_dec), thisStar.name, thisStar.exposures.abs_baryVels[i]\n",
      "\n",
      "        \n",
      "        vh, vb = pyasl.baryCorr(jd, ra, dec, deq=2000.0)\n",
      "        print \"Barycentric velocity of Earth toward\",thisStar.name,'[m/s]', vb*1000\n",
      "        print vb*1000-thisStar.exposures.abs_baryVels[i]\n",
      "        print ''"
     ],
     "language": "python",
     "metadata": {},
     "outputs": [],
     "prompt_number": 123
    },
    {
     "cell_type": "code",
     "collapsed": false,
     "input": [
      "\n",
      "baryTest(thisStar)"
     ],
     "language": "python",
     "metadata": {},
     "outputs": [
      {
       "output_type": "stream",
       "stream": "stdout",
       "text": [
        "5.02704166667 -64.8685 HD1581 -1635.49740613\n",
        "Barycentric velocity of Earth toward HD1581 [m/s] -1579.62900978\n",
        "55.8683963486\n",
        "\n",
        "5.02704166667 -64.8685 HD1581 -1900.73128351\n",
        "Barycentric velocity of Earth toward HD1581 [m/s] -1844.94437413\n",
        "55.7869093816\n",
        "\n",
        "5.02704166667 -64.8685 HD1581 -1901.26474098\n",
        "Barycentric velocity of Earth toward HD1581 [m/s] -1845.47801237\n",
        "55.7867286118\n",
        "\n",
        "5.02704166667 -64.8685 HD1581 -1901.79819758\n",
        "Barycentric velocity of Earth toward HD1581 [m/s] -1846.01164981\n",
        "55.7865477743\n",
        "\n",
        "5.02704166667 -64.8685 HD1581 -2141.20645726\n",
        "Barycentric velocity of Earth toward HD1581 [m/s] -2085.50794687\n",
        "55.6985103937\n",
        "\n",
        "5.02704166667 -64.8685 HD1581 -2141.73937822\n",
        "Barycentric velocity of Earth toward HD1581 [m/s] -2086.04107916\n",
        "55.6982990645\n",
        "\n",
        "5.02704166667 -64.8685 HD1581 -2142.27229768\n",
        "Barycentric velocity of Earth toward HD1581 [m/s] -2086.57421001\n",
        "55.6980876674\n",
        "\n",
        "5.02704166667 -64.8685 HD1581 -2688.6923747\n",
        "Barycentric velocity of Earth toward HD1581 [m/s] -2633.24727971\n",
        "55.4450949923\n",
        "\n",
        "5.02704166667 -64.8685 HD1581 -2689.2234094\n",
        "Barycentric velocity of Earth toward HD1581 [m/s] -2633.77859573\n",
        "55.4448136682\n",
        "\n",
        "5.02704166667 -64.8685 HD1581 -2689.75444193\n",
        "Barycentric velocity of Earth toward HD1581 [m/s] -2634.30990965\n",
        "55.4445322759\n",
        "\n",
        "5.02704166667 -64.8685 HD1581 -2690.01995721\n",
        "Barycentric velocity of Earth toward HD1581 [m/s] -2634.57556566\n",
        "55.4443915543\n",
        "\n",
        "5.02704166667 -64.8685 HD1581 -2690.55098631\n",
        "Barycentric velocity of Earth toward HD1581 [m/s] -2635.10687625\n",
        "55.4441100599\n",
        "\n",
        "5.02704166667 -64.8685 HD1581 -2948.07750859\n",
        "Barycentric velocity of Earth toward HD1581 [m/s] -2892.7781043\n",
        "55.2994042901\n",
        "\n",
        "5.02704166667 -64.8685 HD1581 -2948.6073146\n",
        "Barycentric velocity of Earth toward HD1581 [m/s] -2893.30822492\n",
        "55.29908968\n",
        "\n",
        "5.02704166667 -64.8685 HD1581 -2949.13711789\n",
        "Barycentric velocity of Earth toward HD1581 [m/s] -2893.83834289\n",
        "55.2987750018\n",
        "\n"
       ]
      }
     ],
     "prompt_number": 124
    },
    {
     "cell_type": "code",
     "collapsed": false,
     "input": [
      "Right ascension\t00h 20m 04.25995s\n",
      "Declination\t\u221264\u00b0 52\u2032 29.2549\u2033"
     ],
     "language": "python",
     "metadata": {},
     "outputs": []
    },
    {
     "cell_type": "code",
     "collapsed": false,
     "input": [
      "print thisStar.RA_dec, thisStar.Dec_dec#, thisStar.RA_h, thisStar.RA_min , thisStar.RA_sec\n"
     ],
     "language": "python",
     "metadata": {},
     "outputs": [
      {
       "output_type": "stream",
       "stream": "stdout",
       "text": [
        "0.185324877741 -1.14263312432\n"
       ]
      }
     ],
     "prompt_number": 43
    },
    {
     "cell_type": "code",
     "collapsed": false,
     "input": [
      "import toolbox\n",
      "toolbox.dec2sex(thisStar.RA_dec)"
     ],
     "language": "python",
     "metadata": {},
     "outputs": [
      {
       "metadata": {},
       "output_type": "pyout",
       "prompt_number": 49,
       "text": [
        "(0.0, 11.0, 7.1695598673523619)"
       ]
      }
     ],
     "prompt_number": 49
    },
    {
     "cell_type": "code",
     "collapsed": false,
     "input": [
      "import numpy as np"
     ],
     "language": "python",
     "metadata": {},
     "outputs": [],
     "prompt_number": 51
    },
    {
     "cell_type": "code",
     "collapsed": false,
     "input": [
      "thisStar.RA_dec, toolbox.dec2sex(np.rad2deg(thisStar.RA_dec)/15)"
     ],
     "language": "python",
     "metadata": {},
     "outputs": [
      {
       "metadata": {},
       "output_type": "pyout",
       "prompt_number": 56,
       "text": [
        "(0.1853248777409312, (0.0, 42.0, 28.39999999999975))"
       ]
      }
     ],
     "prompt_number": 56
    },
    {
     "cell_type": "code",
     "collapsed": false,
     "input": [
      "00 20 06.49 -64 52 06.6\n"
     ],
     "language": "python",
     "metadata": {},
     "outputs": [
      {
       "ename": "SyntaxError",
       "evalue": "invalid syntax (<ipython-input-57-81649f279bfe>, line 1)",
       "output_type": "pyerr",
       "traceback": [
        "\u001b[0;36m  File \u001b[0;32m\"<ipython-input-57-81649f279bfe>\"\u001b[0;36m, line \u001b[0;32m1\u001b[0m\n\u001b[0;31m    00 20 06.49 -64 52 06.6\u001b[0m\n\u001b[0m        ^\u001b[0m\n\u001b[0;31mSyntaxError\u001b[0m\u001b[0;31m:\u001b[0m invalid syntax\n"
       ]
      }
     ],
     "prompt_number": 57
    },
    {
     "cell_type": "code",
     "collapsed": false,
     "input": [
      "np.deg2rad(toolbox.sex2dec(0,20,06.49)*15)"
     ],
     "language": "python",
     "metadata": {},
     "outputs": [
      {
       "metadata": {},
       "output_type": "pyout",
       "prompt_number": 60,
       "text": [
        "0.087738428718276612"
       ]
      }
     ],
     "prompt_number": 60
    },
    {
     "cell_type": "code",
     "collapsed": false,
     "input": [
      "np.deg2rad(-toolbox.sex2dec(64,52,6.6))"
     ],
     "language": "python",
     "metadata": {},
     "outputs": [
      {
       "metadata": {},
       "output_type": "pyout",
       "prompt_number": 80,
       "text": [
        "-1.1321689058299416"
       ]
      }
     ],
     "prompt_number": 80
    },
    {
     "cell_type": "code",
     "collapsed": false,
     "input": [
      "-toolbox.sex2dec(64,52,6.6)"
     ],
     "language": "python",
     "metadata": {},
     "outputs": [
      {
       "metadata": {},
       "output_type": "pyout",
       "prompt_number": 79,
       "text": [
        "-64.8685"
       ]
      }
     ],
     "prompt_number": 79
    },
    {
     "cell_type": "code",
     "collapsed": false,
     "input": [
      "RVs = np.random.random(100)\n",
      "stdRV= np.std(RVs)\n",
      "medRV = 0.5\n",
      "sigmaClip = 0.1\n",
      "print RVs,stdRV,medRV\n",
      "print RVs[(RVs>=medRV-sigmaClip*stdRV) & (RVs<=medRV+sigmaClip*stdRV)]"
     ],
     "language": "python",
     "metadata": {},
     "outputs": [
      {
       "output_type": "stream",
       "stream": "stdout",
       "text": [
        "[ 0.50944729  0.59202363  0.34793192  0.49857096  0.11168045  0.5402587\n",
        "  0.1639193   0.63398657  0.11826589  0.83046053  0.21378317  0.89126498\n",
        "  0.38665419  0.43266515  0.31866077  0.18833401  0.66504509  0.12992092\n",
        "  0.7296709   0.93295998  0.15362989  0.79720843  0.94320636  0.98437832\n",
        "  0.51896116  0.98229951  0.04638261  0.89583847  0.41585421  0.40722681\n",
        "  0.1096208   0.99106994  0.97524987  0.56994879  0.51063583  0.35349014\n",
        "  0.51254062  0.33487206  0.41287229  0.72653006  0.15814849  0.05696768\n",
        "  0.26069769  0.5933787   0.49401713  0.85210524  0.40962797  0.68764811\n",
        "  0.54484472  0.60963499  0.33765635  0.99509764  0.47090397  0.23627487\n",
        "  0.32071665  0.21991094  0.06261571  0.74229276  0.42339483  0.65616199\n",
        "  0.14606433  0.54493962  0.86816375  0.17595697  0.16485671  0.11700399\n",
        "  0.5580427   0.60210596  0.02294881  0.37644091  0.7811683   0.10981021\n",
        "  0.72287168  0.80615526  0.190554    0.64533609  0.93021578  0.6138838\n",
        "  0.64106467  0.11551869  0.74450757  0.88140708  0.86976513  0.38413611\n",
        "  0.50847321  0.40583771  0.09499961  0.59455717  0.82802101  0.8511119\n",
        "  0.62215665  0.35489146  0.98100454  0.35250727  0.23062261  0.67021778\n",
        "  0.20447119  0.70156444  0.29592984  0.45394288] 0.277557430083 0.5\n",
        "[ 0.50944729  0.49857096  0.51896116  0.51063583  0.51254062  0.49401713\n",
        "  0.50847321]\n"
       ]
      }
     ],
     "prompt_number": 149
    },
    {
     "cell_type": "code",
     "collapsed": false,
     "input": [
      "import pylab as plt\n",
      "names = a"
     ],
     "language": "python",
     "metadata": {},
     "outputs": [],
     "prompt_number": 152
    },
    {
     "cell_type": "code",
     "collapsed": false,
     "input": [
      "g = plt.gca()\n",
      "g.xaxis.majorTic\n",
      "plt.show()"
     ],
     "language": "python",
     "metadata": {},
     "outputs": [],
     "prompt_number": 155
    },
    {
     "cell_type": "code",
     "collapsed": false,
     "input": [
      "import matplotlib.pyplot as plt\n",
      "\n"
     ],
     "language": "python",
     "metadata": {},
     "outputs": [],
     "prompt_number": 162
    },
    {
     "cell_type": "code",
     "collapsed": false,
     "input": [],
     "language": "python",
     "metadata": {},
     "outputs": []
    }
   ],
   "metadata": {}
  }
 ]
}