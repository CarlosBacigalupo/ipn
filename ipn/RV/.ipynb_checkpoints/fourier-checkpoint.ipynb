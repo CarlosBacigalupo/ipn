{
 "metadata": {
  "name": ""
 },
 "nbformat": 3,
 "nbformat_minor": 0,
 "worksheets": [
  {
   "cells": [
    {
     "cell_type": "code",
     "collapsed": false,
     "input": [
      "import pickle\n",
      "import create_obj as cr_obj\n",
      "reload(cr_obj)\n",
      "import RVTools as RVT\n",
      "reload(RVT)\n",
      "import pylab as plt\n",
      "from scipy import signal\n",
      "import numpy as np"
     ],
     "language": "python",
     "metadata": {},
     "outputs": [],
     "prompt_number": 5
    },
    {
     "cell_type": "code",
     "collapsed": false,
     "input": [
      "#opens a single star\n",
      "filename = '/Users/Carlos/Documents/HERMES/reductions/HD1581_6.0/uncombined/HD1581.obj'\n",
      "filehandler = open(filename, 'r')\n",
      "thisStar = pickle.load(filehandler)\n"
     ],
     "language": "python",
     "metadata": {},
     "outputs": [],
     "prompt_number": 7
    },
    {
     "cell_type": "code",
     "collapsed": false,
     "input": [
      "thisCam = thisStar.exposures.cameras[0]\n",
      "lambda1, flux1 = RVT.clean_flux(thisCam.wavelengths[0], thisCam.red_fluxes[0], thisCam)\n",
      "lambda2, flux2 = RVT.clean_flux(thisCam.wavelengths[1], thisCam.red_fluxes[1], thisCam)\n"
     ],
     "language": "python",
     "metadata": {},
     "outputs": [],
     "prompt_number": 8
    },
    {
     "cell_type": "code",
     "collapsed": false,
     "input": [
      "plt.plot(signal.convolve(flux1, flux2[::-1], mode='same'))\n",
      "# plt.plot(signal.fftconvolve(flux1, flux2[::-1], mode='same'))\n",
      "plt.show()"
     ],
     "language": "python",
     "metadata": {},
     "outputs": [],
     "prompt_number": 12
    },
    {
     "cell_type": "code",
     "collapsed": false,
     "input": [
      "plt.plot(np.angle(np.conjugate(np.fft.fft(flux1))*np.fft.fft(flux2)))\n",
      "plt.show()"
     ],
     "language": "python",
     "metadata": {},
     "outputs": [
      {
       "output_type": "stream",
       "stream": "stdout",
       "text": [
        "[-16.36261625 -0.j         -50.51431229 -1.9055494j\n",
        "  97.90312759+35.0342419j  ...,  36.38318835+20.67831694j\n",
        "  97.90312759-35.0342419j  -50.51431229 +1.9055494j ]\n",
        "[-16.36261625 +0.j         -50.51431229 +1.9055494j\n",
        "  97.90312759-35.0342419j  ...,  36.38318835-20.67831694j\n",
        "  97.90312759+35.0342419j  -50.51431229 -1.9055494j ]\n"
       ]
      }
     ],
     "prompt_number": 9
    },
    {
     "cell_type": "code",
     "collapsed": false,
     "input": [
      "plt.plot(flux1)\n",
      "plt.plot(flux2)\n",
      "plt.show()\n"
     ],
     "language": "python",
     "metadata": {},
     "outputs": [],
     "prompt_number": 13
    },
    {
     "cell_type": "code",
     "collapsed": false,
     "input": [
      "ftconv = np.conjugate(np.fft.fft(flux1))*np.fft.fft(flux2)\n",
      "plt.plot(np.abs(ftconv))\n",
      "plt.show()"
     ],
     "language": "python",
     "metadata": {},
     "outputs": [],
     "prompt_number": 13
    },
    {
     "cell_type": "code",
     "collapsed": false,
     "input": [
      "ww = np.where(np.abs(ftconv) > 15)\n",
      "plt.plot(ww[0],np.angle(ftconv[ww[0]]),'.')\n",
      "plt.show()"
     ],
     "language": "python",
     "metadata": {},
     "outputs": [],
     "prompt_number": 14
    },
    {
     "cell_type": "code",
     "collapsed": false,
     "input": [
      "test = np.convolve(ftconv,np.ones(4),mode='same')"
     ],
     "language": "python",
     "metadata": {},
     "outputs": [],
     "prompt_number": 15
    },
    {
     "cell_type": "code",
     "collapsed": false,
     "input": [
      "ww = np.where(np.abs(test) > 10)\n",
      "plt.plot(ww[0],np.angle(test[ww[0]]),'.')\n",
      "plt.show()"
     ],
     "language": "python",
     "metadata": {},
     "outputs": [],
     "prompt_number": 16
    },
    {
     "cell_type": "code",
     "collapsed": false,
     "input": [
      "test = np.convolve(ftconv,np.ones(4)/4.0,mode='same')\n",
      "ww = np.where(np.abs(test) > 10)\n",
      "plt.plot(ww[0],np.angle(test[ww[0]]),'.')\n",
      "plt.show()"
     ],
     "language": "python",
     "metadata": {},
     "outputs": [],
     "prompt_number": 17
    },
    {
     "cell_type": "code",
     "collapsed": false,
     "input": [
      "x = ww[0][:665]\n",
      "y = np.angle(test[ww[0]])[:665]"
     ],
     "language": "python",
     "metadata": {},
     "outputs": [],
     "prompt_number": 18
    },
    {
     "cell_type": "code",
     "collapsed": false,
     "input": [
      "a = np.polyfit(x, y, 1)\n",
      "y2 = a[0]*x +a[1]\n",
      "plt.plot(x,y, '.')\n",
      "# plt.plot(x, y2)\n",
      "plt.errorbar(x,y2, y-y2, y-y2)\n",
      "plt.show()"
     ],
     "language": "python",
     "metadata": {},
     "outputs": [],
     "prompt_number": 21
    },
    {
     "cell_type": "code",
     "collapsed": false,
     "input": [
      "plt.plot(np.convolve(np.fft.fft(flux1),np.fft.fft(flux2),'same'))\n",
      "plt.plot(np.fft.fft(flux1*flux2))\n",
      "plt.show()"
     ],
     "language": "python",
     "metadata": {},
     "outputs": [
      {
       "output_type": "stream",
       "stream": "stdout",
       "text": [
        "/Users/Carlos/Library/Enthought/Canopy_64bit/User/lib/python2.7/site-packages/numpy-1.8.1-py2.7-macosx-10.6-x86_64.egg/numpy/core/numeric.py:460: ComplexWarning: Casting complex values to real discards the imaginary part\n",
        "  return array(a, dtype, copy=False, order=order)\n"
       ]
      }
     ],
     "prompt_number": 20
    },
    {
     "cell_type": "code",
     "collapsed": false,
     "input": [
      "a[0]"
     ],
     "language": "python",
     "metadata": {},
     "outputs": [
      {
       "metadata": {},
       "output_type": "pyout",
       "prompt_number": 22,
       "text": [
        "-3.4682817362522212e-08"
       ]
      }
     ],
     "prompt_number": 22
    },
    {
     "cell_type": "code",
     "collapsed": false,
     "input": [],
     "language": "python",
     "metadata": {},
     "outputs": []
    }
   ],
   "metadata": {}
  }
 ]
}