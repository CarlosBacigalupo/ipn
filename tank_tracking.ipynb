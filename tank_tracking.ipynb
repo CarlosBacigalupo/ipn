{
 "cells": [
  {
   "cell_type": "code",
   "execution_count": 2,
   "metadata": {
    "collapsed": false
   },
   "outputs": [],
   "source": [
    "import pylab as plt\n",
    "import numpy as np\n",
    "import pyfits as pf"
   ]
  },
  {
   "cell_type": "code",
   "execution_count": 3,
   "metadata": {
    "collapsed": false
   },
   "outputs": [
    {
     "name": "stdout",
     "output_type": "stream",
     "text": [
      "/Users/Carlos/Documents/HERMES/reductions/myherpy/HD1581/4_25aug/1\n"
     ]
    }
   ],
   "source": [
    "cd /Users/Carlos/Documents/HERMES/reductions/myherpy/HD1581/4_25aug/1/"
   ]
  },
  {
   "cell_type": "code",
   "execution_count": 4,
   "metadata": {
    "collapsed": true
   },
   "outputs": [],
   "source": [
    "flatFileName = '25aug10043.fits'"
   ]
  },
  {
   "cell_type": "code",
   "execution_count": 5,
   "metadata": {
    "collapsed": true
   },
   "outputs": [],
   "source": [
    "def openFile(fileName):\n",
    "    thisFile = pf.open(fileName)\n",
    "\n",
    "    print thisFile[0].header['OBJECT']\n",
    "    \n",
    "    gain0_2000  = thisFile[0].header['RO_GAIN']\n",
    "    gain2000_4000  = thisFile[0].header['RO_GAIN1']\n",
    "\n",
    "    thisData = thisFile[0].data\n",
    "\n",
    "#     bias0_2000 = np.median(thisData[3:2052,4099:-3])\n",
    "#     bias2000_4000 = np.median(thisData[2059:-3,4099:-3])\n",
    "\n",
    "#     thisData = thisData[:,:4095]\n",
    "\n",
    "#     thisData[:2055] -= bias0_2000\n",
    "#     thisData[2055:] -= bias2000_4000\n",
    "    \n",
    "    return thisData\n",
    "\n"
   ]
  },
  {
   "cell_type": "code",
   "execution_count": 6,
   "metadata": {
    "collapsed": false
   },
   "outputs": [
    {
     "name": "stdout",
     "output_type": "stream",
     "text": [
      "ARC - ThXe_2 ThXe_1\n"
     ]
    }
   ],
   "source": [
    "arc = openFile(flatFileName)"
   ]
  },
  {
   "cell_type": "code",
   "execution_count": 8,
   "metadata": {
    "collapsed": true
   },
   "outputs": [],
   "source": [
    "plt.imshow(arc[0:300, 0:300])\n",
    "plt.show()"
   ]
  },
  {
   "cell_type": "code",
   "execution_count": null,
   "metadata": {
    "collapsed": true
   },
   "outputs": [],
   "source": []
  }
 ],
 "metadata": {
  "kernelspec": {
   "display_name": "Python 2",
   "language": "python",
   "name": "python2"
  },
  "language_info": {
   "codemirror_mode": {
    "name": "ipython",
    "version": 2
   },
   "file_extension": ".py",
   "mimetype": "text/x-python",
   "name": "python",
   "nbconvert_exporter": "python",
   "pygments_lexer": "ipython2",
   "version": "2.7.3"
  }
 },
 "nbformat": 4,
 "nbformat_minor": 0
}
