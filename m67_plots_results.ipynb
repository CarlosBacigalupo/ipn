{
 "metadata": {
  "name": ""
 },
 "nbformat": 3,
 "nbformat_minor": 0,
 "worksheets": [
  {
   "cells": [
    {
     "cell_type": "code",
     "collapsed": false,
     "input": [
      "import glob\n",
      "import os\n",
      "import numpy as np\n",
      "import pyfits as pf\n",
      "import toolbox\n",
      "from scipy import signal, interpolate, optimize, constants, stats\n",
      "import asteroseismology as ast\n",
      "import pylab as plt\n",
      "import pickle\n",
      "from red_tools import *"
     ],
     "language": "python",
     "metadata": {},
     "outputs": [],
     "prompt_number": 1
    },
    {
     "cell_type": "code",
     "collapsed": false,
     "input": [
      "# os.chdir('/Users/Carlos/Documents/HERMES/reductions/m67_all_4cams/bright_stars/')\n",
      "os.chdir('/Users/Carlos/Documents/HERMES/reductions/m67_all_4cams/')\n",
      "\n",
      "#this creates all star names \n",
      "# os.chdir('/Users/Carlos/Documents/HERMES/reductions/m67_all_4cams/cam1')\n",
      "# allStarNames = colect_all_targets()\n",
      "# os.chdir('..')\n",
      "# np.save('allStarNames',allStarNames)\n",
      "\n",
      "#this loads all star names\n",
      "# allStarNames = np.load('allStarNames.npy')"
     ],
     "language": "python",
     "metadata": {},
     "outputs": [],
     "prompt_number": 2
    },
    {
     "cell_type": "code",
     "collapsed": false,
     "input": [
      "#stars v RV (per epoch) 1 or 3 night with 4/5 stars \n",
      "plt.plot(thisStar.exposures.JDs,thisStar.exposures.red_baryVels)\n",
      "plt.show()"
     ],
     "language": "python",
     "metadata": {},
     "outputs": [
      {
       "ename": "NameError",
       "evalue": "name 'thisStar' is not defined",
       "output_type": "pyerr",
       "traceback": [
        "\u001b[0;31m---------------------------------------------------------------------------\u001b[0m\n\u001b[0;31mNameError\u001b[0m                                 Traceback (most recent call last)",
        "\u001b[0;32m<ipython-input-3-f79f26b8de11>\u001b[0m in \u001b[0;36m<module>\u001b[0;34m()\u001b[0m\n\u001b[1;32m      1\u001b[0m \u001b[0;31m#stars v RV (per epoch) 1 or 3 night with 4/5 stars\u001b[0m\u001b[0;34m\u001b[0m\u001b[0;34m\u001b[0m\u001b[0m\n\u001b[0;32m----> 2\u001b[0;31m \u001b[0mplt\u001b[0m\u001b[0;34m.\u001b[0m\u001b[0mplot\u001b[0m\u001b[0;34m(\u001b[0m\u001b[0mthisStar\u001b[0m\u001b[0;34m.\u001b[0m\u001b[0mexposures\u001b[0m\u001b[0;34m.\u001b[0m\u001b[0mJDs\u001b[0m\u001b[0;34m,\u001b[0m\u001b[0mthisStar\u001b[0m\u001b[0;34m.\u001b[0m\u001b[0mexposures\u001b[0m\u001b[0;34m.\u001b[0m\u001b[0mred_baryVels\u001b[0m\u001b[0;34m)\u001b[0m\u001b[0;34m\u001b[0m\u001b[0m\n\u001b[0m\u001b[1;32m      3\u001b[0m \u001b[0mplt\u001b[0m\u001b[0;34m.\u001b[0m\u001b[0mshow\u001b[0m\u001b[0;34m(\u001b[0m\u001b[0;34m)\u001b[0m\u001b[0;34m\u001b[0m\u001b[0m\n",
        "\u001b[0;31mNameError\u001b[0m: name 'thisStar' is not defined"
       ]
      }
     ],
     "prompt_number": 3
    },
    {
     "cell_type": "code",
     "collapsed": false,
     "input": [
      "# Collects information on all stars and writes them into data array (WITH STARID)\n",
      "data = []\n",
      "cam1_RVs = np.array([])\n",
      "cam2_RVs = np.array([])\n",
      "cam3_RVs = np.array([])\n",
      "cam4_RVs = np.array([])\n",
      "cam1_DDRVs = np.array([])\n",
      "cam2_DDRVs = np.array([])\n",
      "cam3_DDRVs = np.array([])\n",
      "cam4_DDRVs = np.array([])\n",
      "starID1 = np.array([])\n",
      "starID2 = np.array([])\n",
      "starID3 = np.array([])\n",
      "starID4 = np.array([])\n",
      "starID = np\n",
      "bary = np.array([])\n",
      "JDs = np.array([])\n",
      "JDs1 = np.array([])\n",
      "JDs2 = np.array([])\n",
      "JDs3 = np.array([])\n",
      "JDs4 = np.array([])\n",
      "\n",
      "fileList = glob.glob('/Users/Carlos/Documents/HERMES/reductions/m67_all_4cams/bright_stars/*.obj')\n",
      "# for i in range(2):\n",
      "for i in range(len(fileList)):\n",
      "# for i in top30:\n",
      "\n",
      "    print i,fileList[i]\n",
      "#     try:\n",
      "    filehandler = open(fileList[i], 'r') \n",
      "    thisStar = pickle.load(filehandler) \n",
      "#     except:\n",
      "#         pass\n",
      "    \n",
      "#     try:\n",
      "    print 'pivots',np.unique(thisStar.exposures.pivots[thisStar.exposures.cameras[0].safe_flag]).shape[0]\n",
      "    data.append([thisStar.name, thisStar.B, thisStar.BV, \n",
      "                 thisStar.V, np.sum(thisStar.exposures.HRs), \n",
      "                 len(thisStar.exposures.cameras[0].RVs), \n",
      "                 np.unique(thisStar.exposures.pivots[thisStar.exposures.cameras[0].safe_flag])[0]])\n",
      "    starID1 = np.append(starID1, np.ones(np.sum(thisStar.exposures.cameras[0].safe_flag))*i)\n",
      "    starID2 = np.append(starID2, np.ones(np.sum(thisStar.exposures.cameras[1].safe_flag))*i)\n",
      "    starID3 = np.append(starID3, np.ones(np.sum(thisStar.exposures.cameras[2].safe_flag))*i)\n",
      "    starID4 = np.append(starID4, np.ones(np.sum(thisStar.exposures.cameras[3].safe_flag))*i)\n",
      "    cam1_RVs = np.append(cam1_RVs,thisStar.exposures.cameras[0].RVs[thisStar.exposures.cameras[0].safe_flag])\n",
      "    cam2_RVs = np.append(cam2_RVs,thisStar.exposures.cameras[1].RVs[thisStar.exposures.cameras[1].safe_flag])\n",
      "    cam3_RVs = np.append(cam3_RVs,thisStar.exposures.cameras[2].RVs[thisStar.exposures.cameras[2].safe_flag])\n",
      "    cam4_RVs = np.append(cam4_RVs,thisStar.exposures.cameras[3].RVs[thisStar.exposures.cameras[3].safe_flag])\n",
      "    cam1_DDRVs = np.append(cam1_DDRVs,thisStar.exposures.cameras[0].DDRVs[thisStar.exposures.cameras[0].safe_flag])\n",
      "    cam2_DDRVs = np.append(cam2_DDRVs,thisStar.exposures.cameras[1].DDRVs[thisStar.exposures.cameras[1].safe_flag])\n",
      "    cam3_DDRVs = np.append(cam3_DDRVs,thisStar.exposures.cameras[2].DDRVs[thisStar.exposures.cameras[2].safe_flag])\n",
      "    cam4_DDRVs = np.append(cam4_DDRVs,thisStar.exposures.cameras[3].DDRVs[thisStar.exposures.cameras[3].safe_flag])\n",
      "#     bary = np.append(bary,thisStar.exposures.rel_BaryVels) \n",
      "    JDs = np.append(JDs,thisStar.exposures.JDs)\n",
      "    JDs1 = np.append(JDs1,thisStar.exposures.JDs[thisStar.exposures.cameras[0].safe_flag])\n",
      "    JDs2 = np.append(JDs2,thisStar.exposures.JDs[thisStar.exposures.cameras[1].safe_flag])\n",
      "    JDs3 = np.append(JDs3,thisStar.exposures.JDs[thisStar.exposures.cameras[2].safe_flag])\n",
      "    JDs4 = np.append(JDs4,thisStar.exposures.JDs[thisStar.exposures.cameras[3].safe_flag])\n",
      "#     except:\n",
      "#         print 'missing attrib.',\n",
      "#         pass\n",
      "    filehandler.close()\n",
      "#     thisStar = None\n",
      "    \n",
      "data = np.array(data)\n",
      "print ''\n",
      "print 'data',len(data)\n",
      "print 'cam1_RVs',cam1_RVs.shape\n",
      "print 'cam2_RVs',cam2_RVs.shape\n",
      "print 'cam3_RVs',cam3_RVs.shape\n",
      "print 'cam4_RVs',cam4_RVs.shape\n",
      "print 'cam1_DDRVs',cam1_DDRVs.shape\n",
      "print 'cam2_DDRVs',cam2_DDRVs.shape\n",
      "print 'cam3_DDRVs',cam3_DDRVs.shape\n",
      "print 'cam4_DDRVs',cam4_DDRVs.shape\n",
      "print 'starID1',starID1.shape\n",
      "print 'starID2',starID2.shape\n",
      "print 'starID3',starID3.shape\n",
      "print 'starID4',starID4.shape\n",
      "print 'bary',bary.shape\n",
      "print 'JDs1',JDs1.shape\n",
      "print 'JDs2',JDs2.shape\n",
      "print 'JDs3',JDs3.shape\n",
      "print 'JDs4',JDs4.shape\n",
      "print 'JDs',JDs.shape\n",
      "#save?\n",
      "# np.save('data',data)\n",
      "# np.save('cam1_RVs',cam1_RVs)\n",
      "# np.save('cam2_RVs',cam2_RVs)\n",
      "# np.save('cam3_RVs',cam3_RVs)\n",
      "# np.save('cam4_RVs',cam4_RVs)\n",
      "# np.save('JDs',JDs)"
     ],
     "language": "python",
     "metadata": {},
     "outputs": [
      {
       "output_type": "stream",
       "stream": "stdout",
       "text": [
        "0 /Users/Carlos/Documents/HERMES/reductions/m67_all_4cams/bright_stars/M67-F-108.obj\n",
        "pivots"
       ]
      },
      {
       "output_type": "stream",
       "stream": "stdout",
       "text": [
        " 1\n",
        "1"
       ]
      },
      {
       "output_type": "stream",
       "stream": "stdout",
       "text": [
        " /Users/Carlos/Documents/HERMES/reductions/m67_all_4cams/bright_stars/M67-F-170.obj\n",
        "pivots"
       ]
      },
      {
       "output_type": "stream",
       "stream": "stdout",
       "text": [
        " 1\n",
        "2 /Users/Carlos/Documents/HERMES/reductions/m67_all_4cams/bright_stars/M67-S108.obj\n",
        "pivots"
       ]
      },
      {
       "output_type": "stream",
       "stream": "stdout",
       "text": [
        " 1\n",
        "3 /Users/Carlos/Documents/HERMES/reductions/m67_all_4cams/bright_stars/M67-S11.obj\n",
        "pivots"
       ]
      },
      {
       "output_type": "stream",
       "stream": "stdout",
       "text": [
        " 1\n",
        "4 /Users/Carlos/Documents/HERMES/reductions/m67_all_4cams/bright_stars/M67-S122.obj\n",
        "pivots"
       ]
      },
      {
       "output_type": "stream",
       "stream": "stdout",
       "text": [
        " 1\n",
        "5 /Users/Carlos/Documents/HERMES/reductions/m67_all_4cams/bright_stars/M67-S18.obj\n",
        "pivots"
       ]
      },
      {
       "output_type": "stream",
       "stream": "stdout",
       "text": [
        " 1\n",
        "6 /Users/Carlos/Documents/HERMES/reductions/m67_all_4cams/bright_stars/M67-S285.obj\n",
        "pivots"
       ]
      },
      {
       "output_type": "stream",
       "stream": "stdout",
       "text": [
        " 1\n",
        "7 /Users/Carlos/Documents/HERMES/reductions/m67_all_4cams/bright_stars/M67-S307.obj\n",
        "pivots"
       ]
      },
      {
       "output_type": "stream",
       "stream": "stdout",
       "text": [
        " 1\n",
        "8 /Users/Carlos/Documents/HERMES/reductions/m67_all_4cams/bright_stars/M67-S339.obj\n",
        "pivots"
       ]
      },
      {
       "output_type": "stream",
       "stream": "stdout",
       "text": [
        " 1\n",
        "9 /Users/Carlos/Documents/HERMES/reductions/m67_all_4cams/bright_stars/M67-S39.obj\n",
        "pivots"
       ]
      },
      {
       "output_type": "stream",
       "stream": "stdout",
       "text": [
        " 1\n",
        "10 /Users/Carlos/Documents/HERMES/reductions/m67_all_4cams/bright_stars/M67-S43.obj\n",
        "pivots"
       ]
      },
      {
       "output_type": "stream",
       "stream": "stdout",
       "text": [
        " 1\n",
        "11 /Users/Carlos/Documents/HERMES/reductions/m67_all_4cams/bright_stars/M67-S78.obj\n",
        "pivots"
       ]
      },
      {
       "output_type": "stream",
       "stream": "stdout",
       "text": [
        " 1\n",
        "12 /Users/Carlos/Documents/HERMES/reductions/m67_all_4cams/bright_stars/M67-S82.obj\n",
        "pivots"
       ]
      },
      {
       "output_type": "stream",
       "stream": "stdout",
       "text": [
        " 1\n",
        "\n",
        "data 13\n",
        "cam1_RVs (95,)\n",
        "cam2_RVs (107,)\n",
        "cam3_RVs (110,)\n",
        "cam4_RVs (98,)\n",
        "cam1_DDRVs (95,)\n",
        "cam2_DDRVs (107,)\n",
        "cam3_DDRVs (110,)\n",
        "cam4_DDRVs (98,)\n",
        "starID1 (95,)\n",
        "starID2 (107,)\n",
        "starID3 (110,)\n",
        "starID4 (98,)\n",
        "bary (0,)\n",
        "JDs1 (95,)\n",
        "JDs2 (107,)\n",
        "JDs3 (110,)\n",
        "JDs4 (98,)\n",
        "JDs (377,)\n"
       ]
      }
     ],
     "prompt_number": 313
    },
    {
     "cell_type": "code",
     "collapsed": false,
     "input": [
      "# np.save('data_b',data)\n",
      "# np.save('cam1_RVs_b',cam1_RVs)\n",
      "# np.save('cam2_RVs_b',cam2_RVs)\n",
      "# np.save('cam3_RVs_b',cam3_RVs)\n",
      "# np.save('cam4_RVs_b',cam4_RVs)\n",
      "# np.save('cam1_DDRVs_b',cam1_DDRVs)\n",
      "# np.save('cam2_DDRVs_b',cam2_DDRVs)\n",
      "# np.save('cam3_DDRVs_b',cam3_DDRVs)\n",
      "# np.save('cam4_DDRVs_b',cam4_DDRVs)\n",
      "# np.save('JDs_b',JDs)\n",
      "# np.save('JDs1_b',JDs1)\n",
      "# np.save('JDs2_b',JDs2)\n",
      "# np.save('JDs3_b',JDs3)\n",
      "# np.save('JDs4_b',JDs4)\n",
      "# np.save('starID1_b',starID1)\n",
      "# np.save('starID2_b',starID2)\n",
      "# np.save('starID3_b',starID3)\n",
      "# np.save('starID4_b',starID4)\n",
      "\n",
      "data = np.load('data_b.npy')\n",
      "cam1_RVs = np.load('cam1_RVs_b.npy')\n",
      "cam2_RVs = np.load('cam2_RVs_b.npy')\n",
      "cam3_RVs = np.load('cam3_RVs_b.npy')\n",
      "cam4_RVs = np.load('cam4_RVs_b.npy')\n",
      "cam1_DDRVs = np.load('cam1_DDRVs_b.npy')\n",
      "cam2_DDRVs = np.load('cam2_DDRVs_b.npy')\n",
      "cam3_DDRVs = np.load('cam3_DDRVs_b.npy')\n",
      "cam4_DDRVs = np.load('cam4_DDRVs_b.npy')\n",
      "JDs = np.load('JDs_b.npy')\n",
      "JDs1 = np.load('JDs1_b.npy')\n",
      "JDs2 = np.load('JDs2_b.npy')\n",
      "JDs3 = np.load('JDs3_b.npy')\n",
      "JDs4 = np.load('JDs4_b.npy')\n",
      "starID1 = np.load('starID1_b.npy')\n",
      "starID2 = np.load('starID2_b.npy')\n",
      "starID3 = np.load('starID3_b.npy')\n",
      "starID4 = np.load('starID4_b.npy')"
     ],
     "language": "python",
     "metadata": {},
     "outputs": [
      {
       "ename": "IOError",
       "evalue": "[Errno 2] No such file or directory: 'data_b.npy'",
       "output_type": "pyerr",
       "traceback": [
        "\u001b[0;31m---------------------------------------------------------------------------\u001b[0m\n\u001b[0;31mIOError\u001b[0m                                   Traceback (most recent call last)",
        "\u001b[0;32m<ipython-input-4-8b73780faf5b>\u001b[0m in \u001b[0;36m<module>\u001b[0;34m()\u001b[0m\n\u001b[1;32m     18\u001b[0m \u001b[0;31m# np.save('starID4_b',starID4)\u001b[0m\u001b[0;34m\u001b[0m\u001b[0;34m\u001b[0m\u001b[0m\n\u001b[1;32m     19\u001b[0m \u001b[0;34m\u001b[0m\u001b[0m\n\u001b[0;32m---> 20\u001b[0;31m \u001b[0mdata\u001b[0m \u001b[0;34m=\u001b[0m \u001b[0mnp\u001b[0m\u001b[0;34m.\u001b[0m\u001b[0mload\u001b[0m\u001b[0;34m(\u001b[0m\u001b[0;34m'data_b.npy'\u001b[0m\u001b[0;34m)\u001b[0m\u001b[0;34m\u001b[0m\u001b[0m\n\u001b[0m\u001b[1;32m     21\u001b[0m \u001b[0mcam1_RVs\u001b[0m \u001b[0;34m=\u001b[0m \u001b[0mnp\u001b[0m\u001b[0;34m.\u001b[0m\u001b[0mload\u001b[0m\u001b[0;34m(\u001b[0m\u001b[0;34m'cam1_RVs_b.npy'\u001b[0m\u001b[0;34m)\u001b[0m\u001b[0;34m\u001b[0m\u001b[0m\n\u001b[1;32m     22\u001b[0m \u001b[0mcam2_RVs\u001b[0m \u001b[0;34m=\u001b[0m \u001b[0mnp\u001b[0m\u001b[0;34m.\u001b[0m\u001b[0mload\u001b[0m\u001b[0;34m(\u001b[0m\u001b[0;34m'cam2_RVs_b.npy'\u001b[0m\u001b[0;34m)\u001b[0m\u001b[0;34m\u001b[0m\u001b[0m\n",
        "\u001b[0;32m/Users/Carlos/Library/Enthought/Canopy_64bit/User/lib/python2.7/site-packages/numpy-1.8.1-py2.7-macosx-10.6-x86_64.egg/numpy/lib/npyio.pyc\u001b[0m in \u001b[0;36mload\u001b[0;34m(file, mmap_mode)\u001b[0m\n\u001b[1;32m    368\u001b[0m     \u001b[0mown_fid\u001b[0m \u001b[0;34m=\u001b[0m \u001b[0mFalse\u001b[0m\u001b[0;34m\u001b[0m\u001b[0m\n\u001b[1;32m    369\u001b[0m     \u001b[0;32mif\u001b[0m \u001b[0misinstance\u001b[0m\u001b[0;34m(\u001b[0m\u001b[0mfile\u001b[0m\u001b[0;34m,\u001b[0m \u001b[0mbasestring\u001b[0m\u001b[0;34m)\u001b[0m\u001b[0;34m:\u001b[0m\u001b[0;34m\u001b[0m\u001b[0m\n\u001b[0;32m--> 370\u001b[0;31m         \u001b[0mfid\u001b[0m \u001b[0;34m=\u001b[0m \u001b[0mopen\u001b[0m\u001b[0;34m(\u001b[0m\u001b[0mfile\u001b[0m\u001b[0;34m,\u001b[0m \u001b[0;34m\"rb\"\u001b[0m\u001b[0;34m)\u001b[0m\u001b[0;34m\u001b[0m\u001b[0m\n\u001b[0m\u001b[1;32m    371\u001b[0m         \u001b[0mown_fid\u001b[0m \u001b[0;34m=\u001b[0m \u001b[0mTrue\u001b[0m\u001b[0;34m\u001b[0m\u001b[0m\n\u001b[1;32m    372\u001b[0m     \u001b[0;32melif\u001b[0m \u001b[0misinstance\u001b[0m\u001b[0;34m(\u001b[0m\u001b[0mfile\u001b[0m\u001b[0;34m,\u001b[0m \u001b[0mgzip\u001b[0m\u001b[0;34m.\u001b[0m\u001b[0mGzipFile\u001b[0m\u001b[0;34m)\u001b[0m\u001b[0;34m:\u001b[0m\u001b[0;34m\u001b[0m\u001b[0m\n",
        "\u001b[0;31mIOError\u001b[0m: [Errno 2] No such file or directory: 'data_b.npy'"
       ]
      }
     ],
     "prompt_number": 4
    },
    {
     "cell_type": "code",
     "collapsed": false,
     "input": [
      "data = np.load('data.npy')\n"
     ],
     "language": "python",
     "metadata": {},
     "outputs": [],
     "prompt_number": 13
    },
    {
     "cell_type": "markdown",
     "metadata": {},
     "source": [
      "Camera 1"
     ]
    },
    {
     "cell_type": "code",
     "collapsed": false,
     "input": [
      "JDs_unique = np.unique(JDs)\n",
      "RVs_perStar1 = np.ones((JDs_unique.shape[0], data.shape[0]))*np.nan\n",
      "DDRVs_perStar1 = np.ones((JDs_unique.shape[0], data.shape[0]))*np.nan\n",
      "starMap = data[:,6]\n"
     ],
     "language": "python",
     "metadata": {},
     "outputs": [],
     "prompt_number": 315
    },
    {
     "cell_type": "code",
     "collapsed": false,
     "input": [
      "for i in range(len(JDs_unique)):\n",
      "    for j in range(len(starMap)):\n",
      "        RV = cam1_RVs[((JDs1==JDs_unique[i]) & (starID1==j))]\n",
      "        DDRV = cam1_DDRVs[((JDs1==JDs_unique[i]) & (starID1==j))]\n",
      "#         print 'Day', JDs_unique[i], 'Star', data[j,0], 'RV', RV\n",
      "        if RV.astype(float)!=0: \n",
      "            RVs_perStar1[i,j] = RV[0]\n",
      "            DDRVs_perStar1[i,j] = DDRV[0]\n"
     ],
     "language": "python",
     "metadata": {},
     "outputs": [],
     "prompt_number": 316
    },
    {
     "cell_type": "code",
     "collapsed": false,
     "input": [
      "sortMask = np.argsort(starMap.astype(int))\n",
      "starMap = starMap[sortMask]\n",
      "RVs_perStar1 = RVs_perStar1[sortMask]\n",
      "DDRVs_perStar1 = DDRVs_perStar1[sortMask]"
     ],
     "language": "python",
     "metadata": {},
     "outputs": [],
     "prompt_number": 317
    },
    {
     "cell_type": "markdown",
     "metadata": {},
     "source": [
      "Camera 2"
     ]
    },
    {
     "cell_type": "code",
     "collapsed": false,
     "input": [
      "JDs_unique = np.unique(JDs)\n",
      "RVs_perStar2 = np.ones((JDs_unique.shape[0], data.shape[0]))*np.nan\n",
      "DDRVs_perStar2 = np.ones((JDs_unique.shape[0], data.shape[0]))*np.nan\n",
      "starMap = data[:,6]\n"
     ],
     "language": "python",
     "metadata": {},
     "outputs": [],
     "prompt_number": 318
    },
    {
     "cell_type": "code",
     "collapsed": false,
     "input": [
      "for i in range(len(JDs_unique)):\n",
      "    for j in range(len(starMap)):\n",
      "        RV = cam2_RVs[((JDs2==JDs_unique[i]) & (starID2==j))]\n",
      "        DDRV = cam2_DDRVs[((JDs2==JDs_unique[i]) & (starID2==j))]\n",
      "#         print 'Day', JDs_unique[i], 'Star', data[j,0], 'RV', RV\n",
      "        if RV.astype(float)!=0: \n",
      "            RVs_perStar2[i,j] = RV[0]\n",
      "            DDRVs_perStar2[i,j] = DDRV[0]\n"
     ],
     "language": "python",
     "metadata": {},
     "outputs": [],
     "prompt_number": 319
    },
    {
     "cell_type": "code",
     "collapsed": false,
     "input": [
      "sortMask = np.argsort(starMap.astype(int))\n",
      "starMap = starMap[sortMask]\n",
      "RVs_perStar2 = RVs_perStar2[sortMask]\n",
      "DDRVs_perStar2 = DDRVs_perStar2[sortMask]"
     ],
     "language": "python",
     "metadata": {},
     "outputs": [],
     "prompt_number": 320
    },
    {
     "cell_type": "markdown",
     "metadata": {},
     "source": [
      "Camera 3"
     ]
    },
    {
     "cell_type": "code",
     "collapsed": false,
     "input": [
      "JDs_unique = np.unique(JDs)\n",
      "RVs_perStar3 = np.ones((JDs_unique.shape[0], data.shape[0]))*np.nan\n",
      "DDRVs_perStar3 = np.ones((JDs_unique.shape[0], data.shape[0]))*np.nan\n",
      "starMap = data[:,6]\n"
     ],
     "language": "python",
     "metadata": {},
     "outputs": [],
     "prompt_number": 321
    },
    {
     "cell_type": "code",
     "collapsed": false,
     "input": [
      "for i in range(len(JDs_unique)):\n",
      "    for j in range(len(starMap)):\n",
      "        RV = cam3_RVs[((JDs3==JDs_unique[i]) & (starID3==j))]\n",
      "        DDRV = cam3_DDRVs[((JDs3==JDs_unique[i]) & (starID3==j))]\n",
      "#         print 'Day', JDs_unique[i], 'Star', data[j,0], 'RV', RV\n",
      "        if RV.astype(float)!=0: \n",
      "            RVs_perStar3[i,j] = RV[0]\n",
      "            DDRVs_perStar3[i,j] = DDRV[0]\n"
     ],
     "language": "python",
     "metadata": {},
     "outputs": [],
     "prompt_number": 322
    },
    {
     "cell_type": "code",
     "collapsed": false,
     "input": [
      "sortMask = np.argsort(starMap.astype(int))\n",
      "starMap = starMap[sortMask]\n",
      "RVs_perStar3 = RVs_perStar3[sortMask]\n",
      "DDRVs_perStar3 = DDRVs_perStar3[sortMask]"
     ],
     "language": "python",
     "metadata": {},
     "outputs": [],
     "prompt_number": 323
    },
    {
     "cell_type": "markdown",
     "metadata": {},
     "source": [
      "Camera 4"
     ]
    },
    {
     "cell_type": "code",
     "collapsed": false,
     "input": [
      "JDs_unique = np.unique(JDs)\n",
      "RVs_perStar4 = np.ones((JDs_unique.shape[0], data.shape[0]))*np.nan\n",
      "DDRVs_perStar4 = np.ones((JDs_unique.shape[0], data.shape[0]))*np.nan\n",
      "starMap = data[:,6]\n"
     ],
     "language": "python",
     "metadata": {},
     "outputs": [],
     "prompt_number": 324
    },
    {
     "cell_type": "code",
     "collapsed": false,
     "input": [
      "for i in range(len(JDs_unique)):\n",
      "    for j in range(len(starMap)):\n",
      "        RV = cam4_RVs[((JDs4==JDs_unique[i]) & (starID4==j))]\n",
      "        DDRV = cam4_DDRVs[((JDs4==JDs_unique[i]) & (starID4==j))]\n",
      "#         print 'Day', JDs_unique[i], 'Star', data[j,0], 'RV', RV\n",
      "        if RV.astype(float)!=0: \n",
      "            RVs_perStar4[i,j] = RV[0]\n",
      "            DDRVs_perStar4[i,j] = DDRV[0]\n"
     ],
     "language": "python",
     "metadata": {},
     "outputs": [],
     "prompt_number": 325
    },
    {
     "cell_type": "code",
     "collapsed": false,
     "input": [
      "sortMask = np.argsort(starMap.astype(int))\n",
      "starMap = starMap[sortMask]\n",
      "RVs_perStar4 = RVs_perStar4[sortMask]\n",
      "DDRVs_perStar4 = DDRVs_perStar4[sortMask]"
     ],
     "language": "python",
     "metadata": {},
     "outputs": [],
     "prompt_number": 326
    },
    {
     "cell_type": "markdown",
     "metadata": {},
     "source": [
      "Plots"
     ]
    },
    {
     "cell_type": "code",
     "collapsed": false,
     "input": [
      "title = 'Comparative Fibre Drift and Median RV'"
     ],
     "language": "python",
     "metadata": {},
     "outputs": [],
     "prompt_number": 475
    },
    {
     "cell_type": "code",
     "collapsed": false,
     "input": [
      "fig = plt.gcf()\n",
      "fig.suptitle(title, fontsize=14)\n",
      "\n",
      "title = ''\n",
      "plt.subplot(221)\n",
      "# for i in [9,10,6]:\n",
      "for i in range(RVs_perStar.shape[0]):\n",
      "# #     plt.plot(starMap, RVs_perStar[i], label = 'Epoch '+str(i))\n",
      "#     plt.plot(starMap, DDRVs_perStar1[i], 'b--', label = 'Epoch '+str(i)+' G1')\n",
      "\n",
      "# for i in [2,5,7]:\n",
      "#     plt.plot(starMap, RVs_perStar[i], label = 'Epoch '+str(i))\n",
      "    plt.plot(starMap, DDRVs_perStar1[i], 'b-',linewidth = 1, alpha = 0.3)\n",
      "\n",
      "plt.plot(np.nan, np.nan, 'b-',linewidth = 1, alpha = 0.3, label='Blue Camera')\n",
      "\n",
      "# plt.plot(starMap,RVs_perStar_std,  linewidth = 3, label = 'Standard Deviation')\n",
      "plt.xlabel('Fibre')\n",
      "plt.ylabel('RV [m/s]')\n",
      "# plt.legend(loc=0, prop={'size':10}, ncol = 1)\n",
      "plt.title(title + 'Blue Camera')\n",
      "# plt.show()"
     ],
     "language": "python",
     "metadata": {},
     "outputs": [
      {
       "metadata": {},
       "output_type": "pyout",
       "prompt_number": 476,
       "text": [
        "<matplotlib.text.Text at 0x12aa96710>"
       ]
      }
     ],
     "prompt_number": 476
    },
    {
     "cell_type": "code",
     "collapsed": false,
     "input": [
      "plt.subplot(222)\n",
      "# for i in [9,10,6]:\n",
      "for i in range(RVs_perStar.shape[0]):\n",
      "# #     plt.plot(starMap, RVs_perStar[i], label = 'Epoch '+str(i))\n",
      "#     plt.plot(starMap, DDRVs_perStar2[i], 'g--', label = 'Epoch '+str(i)+' G1')\n",
      "\n",
      "# for i in [2,5,7]:\n",
      "#     plt.plot(starMap, RVs_perStar[i], label = 'Epoch '+str(i))\n",
      "    plt.plot(starMap, DDRVs_perStar2[i], 'g-',linewidth = 1, alpha = 0.3)\n",
      "\n",
      "plt.plot(np.nan, np.nan, 'g-',linewidth = 1, alpha = 0.3, label='Green Camera')\n",
      "\n",
      "\n",
      "# plt.plot(starMap,RVs_perStar_std,  linewidth = 3, label = 'Standard Deviation')\n",
      "# plt.xlabel('Fibre')\n",
      "# plt.ylabel('RV [m/s]')\n",
      "# plt.legend(loc=0, prop={'size':10}, ncol = 1)\n",
      "plt.title(title + 'Green Camera')\n",
      "# plt.show()"
     ],
     "language": "python",
     "metadata": {},
     "outputs": [
      {
       "metadata": {},
       "output_type": "pyout",
       "prompt_number": 477,
       "text": [
        "<matplotlib.text.Text at 0x12aaaeb10>"
       ]
      }
     ],
     "prompt_number": 477
    },
    {
     "cell_type": "code",
     "collapsed": false,
     "input": [
      "plt.subplot(223)\n",
      "\n",
      "# for i in [9,10,6]:\n",
      "for i in range(RVs_perStar.shape[0]):\n",
      "# #     plt.plot(starMap, RVs_perStar[i], label = 'Epoch '+str(i))\n",
      "#     plt.plot(starMap, DDRVs_perStar3[i], 'r--', label = 'Epoch '+str(i)+' G1')\n",
      "\n",
      "# for i in [2,5,7]:\n",
      "#     plt.plot(starMap, RVs_perStar[i], label = 'Epoch '+str(i))\n",
      "    plt.plot(starMap, DDRVs_perStar3[i], 'r-',linewidth = 1, alpha = 0.3)\n",
      "\n",
      "plt.plot(np.nan, np.nan, 'r-',linewidth = 1, alpha = 0.3, label='Red Camera')\n",
      "\n",
      "# plt.plot(starMap,RVs_perStar_std,  linewidth = 3, label = 'Standard Deviation')\n",
      "plt.xlabel('Fibre')\n",
      "plt.ylabel('RV [m/s]')\n",
      "# plt.legend(loc=0, prop={'size':10}, ncol = 1)\n",
      "plt.title(title + 'Red Camera' )\n",
      "# plt.show()"
     ],
     "language": "python",
     "metadata": {},
     "outputs": [
      {
       "metadata": {},
       "output_type": "pyout",
       "prompt_number": 478,
       "text": [
        "<matplotlib.text.Text at 0x12aad4890>"
       ]
      }
     ],
     "prompt_number": 478
    },
    {
     "cell_type": "code",
     "collapsed": false,
     "input": [
      "plt.subplot(224)\n",
      "\n",
      "# for i in [9,10,6]:\n",
      "for i in range(RVs_perStar.shape[0]):\n",
      "# #     plt.plot(starMap, RVs_perStar[i], label = 'Epoch '+str(i))\n",
      "#     plt.plot(starMap, DDRVs_perStar4[i],'--',  color = 'cyan',label = 'Epoch '+str(i)+' G1')\n",
      "\n",
      "# for i in [2,5,7]:\n",
      "#     plt.plot(starMap, RVs_perStar[i], label = 'Epoch '+str(i))\n",
      "    plt.plot(starMap, DDRVs_perStar4[i], '-', color = 'cyan',linewidth = 1, alpha = 0.3)\n",
      "\n",
      "plt.plot(np.nan, np.nan, color = 'cyan',linewidth = 1, alpha = 0.3, label='IR Camera')\n",
      "\n",
      "# plt.plot(starMap,RVs_perStar_std,  linewidth = 3, label = 'Standard Deviation')\n",
      "plt.xlabel('Fibre')\n",
      "plt.ylabel('RV [m/s]')\n",
      "# plt.legend(loc=0, prop={'size':8}, ncol = 2)\n",
      "plt.title(title + 'IR Camera')\n",
      "# plt.show()"
     ],
     "language": "python",
     "metadata": {},
     "outputs": [
      {
       "metadata": {},
       "output_type": "pyout",
       "prompt_number": 479,
       "text": [
        "<matplotlib.text.Text at 0x12af79a50>"
       ]
      }
     ],
     "prompt_number": 479
    },
    {
     "cell_type": "code",
     "collapsed": false,
     "input": [
      "plt.subplot(221)\n",
      "RVs_perStar_std1 = np.nanstd(RVs_perStar1[[9,10,6],:], axis = 0)\n",
      "RVs_perStar_median1 = stats.nanmedian(RVs_perStar1[[9,10,6],:], axis = 0)\n",
      "DDRVs_perStar_std1 = np.nanstd(DDRVs_perStar1[[9,10,6],:], axis = 0)\n",
      "DDRVs_perStar_median1 = stats.nanmedian(DDRVs_perStar1[[9,10,6],:], axis = 0)\n",
      "\n",
      "RVs_perStar_std2 = np.nanstd(RVs_perStar1[[2,5,7],:], axis = 0)\n",
      "RVs_perStar_median2 = stats.nanmedian(RVs_perStar1[[2,5,7],:], axis = 0)\n",
      "DDRVs_perStar_std2 = np.nanstd(DDRVs_perStar1[[2,5,7],:], axis = 0)\n",
      "DDRVs_perStar_median2 = stats.nanmedian(DDRVs_perStar1[[2,5,7],:], axis = 0)\n",
      "\n",
      "DDRVs_perStar_median = stats.nanmedian(DDRVs_perStar1, axis = 0)\n",
      "\n",
      "# plt.plot(starMap,DDRVs_perStar_std1, 'b--',  linewidth = 2, label = 'Std Dev B')\n",
      "# plt.plot(starMap,DDRVs_perStar_std2, 'b-',  linewidth = 2, label = 'Std Dev B')\n",
      "plt.plot(starMap,DDRVs_perStar_median, 'b-',   linewidth = 2, label = 'Median RV B')\n",
      "# plt.xlabel('Fibre')\n",
      "# plt.ylabel('RV [m/s]')\n",
      "# plt.legend(loc=0, prop={'size':10}, ncol = 1)\n",
      "# plt.title('Relative Fibre Drift')\n",
      "# plt.show()"
     ],
     "language": "python",
     "metadata": {},
     "outputs": [
      {
       "metadata": {},
       "output_type": "pyout",
       "prompt_number": 480,
       "text": [
        "[<matplotlib.lines.Line2D at 0x12afa58d0>]"
       ]
      }
     ],
     "prompt_number": 480
    },
    {
     "cell_type": "code",
     "collapsed": false,
     "input": [
      "plt.subplot(222)\n",
      "RVs_perStar_std1 = np.nanstd(RVs_perStar2[[9,10,6],:], axis = 0)\n",
      "RVs_perStar_median1 = stats.nanmedian(RVs_perStar2[[9,10,6],:], axis = 0)\n",
      "DDRVs_perStar_std1 = np.nanstd(DDRVs_perStar2[[9,10,6],:], axis = 0)\n",
      "DDRVs_perStar_median1 = stats.nanmedian(DDRVs_perStar2[[9,10,6],:], axis = 0)\n",
      "\n",
      "RVs_perStar_std2 = np.nanstd(RVs_perStar2[[2,5,7],:], axis = 0)\n",
      "RVs_perStar_median2 = stats.nanmedian(RVs_perStar2[[2,5,7],:], axis = 0)\n",
      "DDRVs_perStar_std2 = np.nanstd(DDRVs_perStar2[[2,5,7],:], axis = 0)\n",
      "DDRVs_perStar_median2 = stats.nanmedian(DDRVs_perStar2[[2,5,7],:], axis = 0)\n",
      "\n",
      "DDRVs_perStar_median = stats.nanmedian(DDRVs_perStar2, axis = 0)\n",
      "DDRVs_perStar_median[DDRVs_perStar_median<-1000]=0\n",
      "\n",
      "# plt.plot(starMap,DDRVs_perStar_std1, 'g--',  linewidth = 2, label = 'Std Dev G')\n",
      "# plt.plot(starMap,DDRVs_perStar_std2, 'g-',  linewidth = 2, label = 'Std Dev G')\n",
      "plt.plot(starMap,DDRVs_perStar_median, 'g-', linewidth = 2, label = 'Median RV G')\n",
      "# plt.xlabel('Fibre')\n",
      "# plt.ylabel('RV [m/s]')\n",
      "# plt.legend(loc=0, prop={'size':10}, ncol = 1)\n",
      "# plt.title('Relative Fibre Drift')\n",
      "# plt.show()"
     ],
     "language": "python",
     "metadata": {},
     "outputs": [
      {
       "metadata": {},
       "output_type": "pyout",
       "prompt_number": 481,
       "text": [
        "[<matplotlib.lines.Line2D at 0x12afa5f90>]"
       ]
      }
     ],
     "prompt_number": 481
    },
    {
     "cell_type": "code",
     "collapsed": false,
     "input": [
      "plt.subplot(223)\n",
      "RVs_perStar_std1 = np.nanstd(RVs_perStar3[[9,10,6],:], axis = 0)\n",
      "RVs_perStar_median1 = stats.nanmedian(RVs_perStar3[[9,10,6],:], axis = 0)\n",
      "DDRVs_perStar_std1 = np.nanstd(DDRVs_perStar3[[9,10,6],:], axis = 0)\n",
      "DDRVs_perStar_median1 = stats.nanmedian(DDRVs_perStar3[[9,10,6],:], axis = 0)\n",
      "\n",
      "RVs_perStar_std2 = np.nanstd(RVs_perStar3[[2,5,7],:], axis = 0)\n",
      "RVs_perStar_median2 = stats.nanmedian(RVs_perStar3[[2,5,7],:], axis = 0)\n",
      "DDRVs_perStar_std2 = np.nanstd(DDRVs_perStar3[[2,5,7],:], axis = 0)\n",
      "DDRVs_perStar_median2 = stats.nanmedian(DDRVs_perStar3[[2,5,7],:], axis = 0)\n",
      "\n",
      "DDRVs_perStar_median = stats.nanmedian(DDRVs_perStar3, axis = 0)\n",
      "\n",
      "# plt.plot(starMap,DDRVs_perStar_std1, 'r--',  linewidth = 2, label = 'Std Dev R')\n",
      "# plt.plot(starMap,DDRVs_perStar_std2, 'r-',  linewidth = 2, label = 'Std Dev R')\n",
      "plt.plot(starMap,DDRVs_perStar_median, 'r-', linewidth = 2, label = 'Median RV R')\n",
      "# plt.xlabel('Fibre')\n",
      "# plt.ylabel('RV [m/s]')\n",
      "# plt.legend(loc=0, prop={'size':10}, ncol = 1)\n",
      "# plt.title('Relative Fibre Drift')\n",
      "# plt.show()"
     ],
     "language": "python",
     "metadata": {},
     "outputs": [
      {
       "metadata": {},
       "output_type": "pyout",
       "prompt_number": 482,
       "text": [
        "[<matplotlib.lines.Line2D at 0x126e351d0>]"
       ]
      }
     ],
     "prompt_number": 482
    },
    {
     "cell_type": "code",
     "collapsed": false,
     "input": [
      "plt.subplot(224)\n",
      "RVs_perStar_std1 = np.nanstd(RVs_perStar4[[9,10,6],:], axis = 0)\n",
      "RVs_perStar_median1 = stats.nanmedian(RVs_perStar4[[9,10,6],:], axis = 0)\n",
      "DDRVs_perStar_std1 = np.nanstd(DDRVs_perStar4[[9,10,6],:], axis = 0)\n",
      "DDRVs_perStar_median1 = stats.nanmedian(DDRVs_perStar4[[9,10,6],:], axis = 0)\n",
      "\n",
      "RVs_perStar_std2 = np.nanstd(RVs_perStar4[[2,5,7],:], axis = 0)\n",
      "RVs_perStar_median2 = stats.nanmedian(RVs_perStar4[[2,5,7],:], axis = 0)\n",
      "DDRVs_perStar_std2 = np.nanstd(DDRVs_perStar4[[2,5,7],:], axis = 0)\n",
      "DDRVs_perStar_median2 = stats.nanmedian(DDRVs_perStar4[[2,5,7],:], axis = 0)\n",
      "\n",
      "DDRVs_perStar_median = stats.nanmedian(DDRVs_perStar4, axis = 0)\n",
      "\n",
      "# plt.plot(starMap,DDRVs_perStar_std1, '--', color = 'cyan',  linewidth = 2, label = 'Std Dev G1')\n",
      "# plt.plot(starMap,DDRVs_perStar_std2, '-',  color = 'cyan', linewidth = 2, label = 'Std Dev IR')\n",
      "plt.plot(starMap,DDRVs_perStar_median, '-',  color = 'cyan', linewidth = 2, label = 'Median RV IR')\n",
      "\n",
      "# plt.xlabel('Fibre')\n",
      "# plt.ylabel('RV [m/s]')\n",
      "plt.legend(loc=0, prop={'size':8}, ncol = 1)\n",
      "plt.tight_layout()\n",
      "# plt.title('Fibre Drift Std. Dev.')\n",
      "plt.show()"
     ],
     "language": "python",
     "metadata": {},
     "outputs": [
      {
       "output_type": "stream",
       "stream": "stdout",
       "text": [
        "tight_layout : falling back to Agg renderer\n"
       ]
      }
     ],
     "prompt_number": 483
    },
    {
     "cell_type": "code",
     "collapsed": false,
     "input": [
      "cam1_RVs_median = np.zeros(np.unique(JDs1).shape[0])\n",
      "cam2_RVs_median = np.zeros(np.unique(JDs2).shape[0])\n",
      "cam3_RVs_median = np.zeros(np.unique(JDs3).shape[0])\n",
      "cam4_RVs_median = np.zeros(np.unique(JDs4).shape[0])\n",
      "bary_median = np.zeros(np.unique(JDs).shape[0])\n",
      "cam1_RVs_abs_dev = np.zeros(np.unique(JDs1).shape[0])\n",
      "cam2_RVs_abs_dev = np.zeros(np.unique(JDs2).shape[0])\n",
      "cam3_RVs_abs_dev = np.zeros(np.unique(JDs3).shape[0])\n",
      "cam4_RVs_abs_dev = np.zeros(np.unique(JDs4).shape[0])\n",
      "bary_abs_dev = np.zeros(np.unique(JDs).shape[0])\n",
      "JDs_unique = np.unique(JDs)\n",
      "for i in range(len(JDs_unique)):\n",
      "    cam1_RVs_median[i] = np.median(cam1_RVs_clean[JDs1==JDs_unique[i]])\n",
      "    cam2_RVs_median[i] = np.median(cam2_RVs_clean[JDs2==JDs_unique[i]])\n",
      "    cam3_RVs_median[i] = np.median(cam3_RVs_clean[JDs3==JDs_unique[i]])\n",
      "    cam4_RVs_median[i] = np.median(cam4_RVs_clean[JDs4==JDs_unique[i]])\n",
      "    bary_median[i] = np.median(bary[JDs==JDs_unique[i]])\n",
      "    cam1_RVs_abs_dev[i] = mad(cam1_RVs_clean[JDs1==JDs_unique[i]])\n",
      "    cam2_RVs_abs_dev[i] = mad(cam2_RVs_clean[JDs2==JDs_unique[i]])\n",
      "    cam3_RVs_abs_dev[i] = mad(cam3_RVs_clean[JDs3==JDs_unique[i]])\n",
      "    cam4_RVs_abs_dev[i] = mad(cam4_RVs_clean[JDs4==JDs_unique[i]])\n",
      "    bary_abs_dev[i] = mad(bary[JDs==JDs_unique[i]])\n",
      "#     cam1_RVs_abs_dev[i] = np.std(cam1_RVs_clean[JDs==JDs_unique[i]])\n",
      "#     cam2_RVs_abs_dev[i] = np.std(cam2_RVs_clean[JDs==JDs_unique[i]])\n",
      "#     cam3_RVs_abs_dev[i] = np.std(cam3_RVs_clean[JDs==JDs_unique[i]])\n",
      "#     cam4_RVs_abs_dev[i] = np.std(cam4_RVs_clean[JDs==JDs_unique[i]])\n"
     ],
     "language": "python",
     "metadata": {},
     "outputs": []
    },
    {
     "cell_type": "code",
     "collapsed": false,
     "input": [
      "# Collects information on all stars and writes them into data array\n",
      "data = []\n",
      "cam1_RVs = np.array([])\n",
      "cam2_RVs = np.array([])\n",
      "cam3_RVs = np.array([])\n",
      "cam4_RVs = np.array([])\n",
      "starID = np\n",
      "bary = np.array([])\n",
      "JDs = np.array([])\n",
      "JDs1 = np.array([])\n",
      "JDs2 = np.array([])\n",
      "JDs3 = np.array([])\n",
      "JDs4 = np.array([])\n",
      "\n",
      "fileList = glob.glob('/Users/Carlos/Documents/HERMES/reductions/m67_all_4cams/good_stars/*.obj')\n",
      "fileList.shape\n",
      "for i in fileList:\n",
      "# for i in top30:\n",
      "\n",
      "    print i\n",
      "    try:\n",
      "        filehandler = open(i, 'r') \n",
      "        thisStar = pickle.load(filehandler) \n",
      "    except:\n",
      "        pass\n",
      "    \n",
      "    try:\n",
      "        data.append([thisStar.name, thisStar.B, thisStar.BV, thisStar.V, np.sum(thisStar.exposures.HRs), len(thisStar.exposures.cameras[0].RVs)])\n",
      "        cam1_RVs = np.append(cam1_RVs,thisStar.exposures.cameras[0].RVs[thisStar.exposures.cameras[0].safe_flag])\n",
      "        cam2_RVs = np.append(cam2_RVs,thisStar.exposures.cameras[1].RVs[thisStar.exposures.cameras[1].safe_flag])\n",
      "        cam3_RVs = np.append(cam3_RVs,thisStar.exposures.cameras[2].RVs[thisStar.exposures.cameras[2].safe_flag])\n",
      "        cam4_RVs = np.append(cam4_RVs,thisStar.exposures.cameras[3].RVs[thisStar.exposures.cameras[3].safe_flag])\n",
      "        bary = np.append(bary,thisStar.exposures.rel_BaryVels) \n",
      "        JDs = np.append(JDs,thisStar.exposures.JDs)\n",
      "        JDs1 = np.append(JDs1,thisStar.exposures.JDs[thisStar.exposures.cameras[0].safe_flag])\n",
      "        JDs2 = np.append(JDs2,thisStar.exposures.JDs[thisStar.exposures.cameras[1].safe_flag])\n",
      "        JDs3 = np.append(JDs3,thisStar.exposures.JDs[thisStar.exposures.cameras[2].safe_flag])\n",
      "        JDs4 = np.append(JDs4,thisStar.exposures.JDs[thisStar.exposures.cameras[3].safe_flag])\n",
      "    except:\n",
      "        print 'missing attrib.',\n",
      "        pass\n",
      "    filehandler.close()\n",
      "\n",
      "    \n",
      "data = np.array(data)\n",
      "print ''\n",
      "print 'data',data.shape\n",
      "print 'cam1_RVs',cam1_RVs.shape\n",
      "print 'cam2_RVs',cam2_RVs.shape\n",
      "print 'cam3_RVs',cam3_RVs.shape\n",
      "print 'cam4_RVs',cam4_RVs.shape\n",
      "print 'bary',bary.shape\n",
      "print 'JDs1',JDs1.shape\n",
      "print 'JDs2',JDs2.shape\n",
      "print 'JDs3',JDs3.shape\n",
      "print 'JDs4',JDs4.shape\n",
      "print 'JDs',JDs.shape\n",
      "#save?\n",
      "# np.save('data',data)\n",
      "# np.save('cam1_RVs',cam1_RVs)\n",
      "# np.save('cam2_RVs',cam2_RVs)\n",
      "# np.save('cam3_RVs',cam3_RVs)\n",
      "# np.save('cam4_RVs',cam4_RVs)\n",
      "# np.save('JDs',JDs)"
     ],
     "language": "python",
     "metadata": {},
     "outputs": [
      {
       "output_type": "stream",
       "stream": "stdout",
       "text": [
        "/Users/Carlos/Documents/HERMES/reductions/m67_all_4cams/good_stars/M67-424.obj\n",
        "/Users/Carlos/Documents/HERMES/reductions/m67_all_4cams/good_stars/M67-432.obj"
       ]
      },
      {
       "output_type": "stream",
       "stream": "stdout",
       "text": [
        "\n",
        "/Users/Carlos/Documents/HERMES/reductions/m67_all_4cams/good_stars/M67-F-117.obj"
       ]
      },
      {
       "output_type": "stream",
       "stream": "stdout",
       "text": [
        "\n",
        "/Users/Carlos/Documents/HERMES/reductions/m67_all_4cams/good_stars/M67-S27.obj"
       ]
      },
      {
       "output_type": "stream",
       "stream": "stdout",
       "text": [
        "\n",
        "/Users/Carlos/Documents/HERMES/reductions/m67_all_4cams/good_stars/M67-S49.obj"
       ]
      },
      {
       "output_type": "stream",
       "stream": "stdout",
       "text": [
        "\n",
        "/Users/Carlos/Documents/HERMES/reductions/m67_all_4cams/good_stars/M67-S7.obj"
       ]
      },
      {
       "output_type": "stream",
       "stream": "stdout",
       "text": [
        "\n"
       ]
      },
      {
       "output_type": "stream",
       "stream": "stdout",
       "text": [
        "\n",
        "data (6, 6)\n",
        "cam1_RVs (67,)\n",
        "cam2_RVs (67,)\n",
        "cam3_RVs (72,)\n",
        "cam4_RVs (69,)\n",
        "bary (80,)\n",
        "JDs1 (67,)\n",
        "JDs2 (67,)\n",
        "JDs3 (72,)\n",
        "JDs4 (69,)\n"
       ]
      }
     ],
     "prompt_number": 46
    },
    {
     "cell_type": "code",
     "collapsed": false,
     "input": [
      "# np.save('data_g',data)\n",
      "# np.save('cam1_RVs_g',cam1_RVs)\n",
      "# np.save('cam2_RVs_g',cam2_RVs)\n",
      "# np.save('cam3_RVs_g',cam3_RVs)\n",
      "# np.save('cam4_RVs_g',cam4_RVs)\n",
      "# np.save('bary_g',bary)\n",
      "# np.save('JDs_g',JDs)"
     ],
     "language": "python",
     "metadata": {},
     "outputs": [],
     "prompt_number": 36
    },
    {
     "cell_type": "code",
     "collapsed": false,
     "input": [
      "data = np.load('data_g.npy')\n",
      "cam1_RVs = np.load('cam1_RVs_g.npy')\n",
      "cam2_RVs = np.load('cam2_RVs_g.npy')\n",
      "cam3_RVs = np.load('cam3_RVs_g.npy')\n",
      "cam4_RVs = np.load('cam4_RVs_g.npy')\n",
      "bary = np.load('bary_g.npy')\n",
      "JDs = np.load('JDs_g.npy')\n"
     ],
     "language": "python",
     "metadata": {},
     "outputs": [],
     "prompt_number": 5
    },
    {
     "cell_type": "code",
     "collapsed": false,
     "input": [
      "top30 = data[10:,][np.argsort(data[10:,3].astype(float),0 ),0][:30]"
     ],
     "language": "python",
     "metadata": {},
     "outputs": [],
     "prompt_number": 321
    },
    {
     "cell_type": "code",
     "collapsed": false,
     "input": [
      "#histograms\n",
      "\n",
      "bins = np.arange(-1e3, 1e3, 2e3/50)\n",
      "width = .006\n",
      "a = np.histogram(cam1_RVs, bins)\n",
      "\n",
      "plt.bar(bins[:-1]/1000,a[0], width = width , color = 'b',  label ='Blue')\n",
      "b = np.histogram(cam2_RVs, a[1] )\n",
      "plt.bar(b[1][:-1]/1000+width,b[0], width = width , color = 'g', label ='Green')\n",
      "c = np.histogram(cam3_RVs, a[1] )\n",
      "plt.bar(c[1][:-1]/1000+2*width,c[0], width = width , color = 'r', label ='Red')\n",
      "d = np.histogram(cam4_RVs, a[1] )\n",
      "plt.bar(d[1][:-1]/1000+3*width,d[0], width = width , color = 'cyan', label ='IR')\n",
      "plt.xlabel('km/s')\n",
      "plt.legend(loc=0)\n",
      "plt.show()"
     ],
     "language": "python",
     "metadata": {},
     "outputs": [],
     "prompt_number": 308
    },
    {
     "cell_type": "code",
     "collapsed": false,
     "input": [
      "def mad(arr):\n",
      "    \"\"\" Median Absolute Deviation: a \"Robust\" version of standard deviation.\n",
      "        Indices variabililty of the sample.\n",
      "        https://en.wikipedia.org/wiki/Median_absolute_deviation \n",
      "    \"\"\"\n",
      "    arr = np.ma.array(arr[-np.isnan(arr)]).compressed() # should be faster to not use masked arrays.\n",
      "    med = np.median(arr[-np.isnan(arr)])\n",
      "    return np.median(np.abs(arr[-np.isnan(arr)] - med))\n",
      "\n",
      "def reject_outliers(data, m=1):\n",
      "    data_out = data.copy()\n",
      "    data_out[abs(data_out - np.median(data_out[-np.isnan(data_out)])) > m * np.std(data_out[-np.isnan(data_out)])]= np.nan\n",
      "    return data_out"
     ],
     "language": "python",
     "metadata": {},
     "outputs": [],
     "prompt_number": 337
    },
    {
     "cell_type": "code",
     "collapsed": false,
     "input": [
      "a =thisStar.exposures.cameras[0]\n",
      "a.safe_flag"
     ],
     "language": "python",
     "metadata": {},
     "outputs": [],
     "prompt_number": 34
    },
    {
     "cell_type": "code",
     "collapsed": false,
     "input": [
      "cam1_RVs_clean = reject_outliers(cam1_RVs,1)\n",
      "cam2_RVs_clean = reject_outliers(cam2_RVs,1)\n",
      "cam3_RVs_clean = reject_outliers(cam3_RVs,1)\n",
      "cam4_RVs_clean = reject_outliers(cam4_RVs,1)\n",
      "\n",
      "# cam1_RVs_clean = cam1_RVs.copy()\n",
      "# cam2_RVs_clean = cam2_RVs.copy()\n",
      "# cam3_RVs_clean = cam3_RVs.copy()\n",
      "# cam4_RVs_clean = cam4_RVs.copy()\n",
      "\n",
      "# cam1_RVs_clean[(cam1_RVs_clean-bary)>10000] = np.nan\n",
      "# cam2_RVs_clean[(cam2_RVs_clean-bary)>10000] = np.nan\n",
      "# cam3_RVs_clean[(cam3_RVs_clean-bary)>10000] = np.nan\n",
      "# cam4_RVs_clean[(cam4_RVs_clean-bary)>10000] = np.nan\n",
      "# cam1_RVs_clean[(cam1_RVs_clean-bary)<-10000] = np.nan\n",
      "# cam2_RVs_clean[(cam2_RVs_clean-bary)<-10000] = np.nan\n",
      "# cam3_RVs_clean[(cam3_RVs_clean-bary)<-10000] = np.nan\n",
      "# cam4_RVs_clean[(cam4_RVs_clean-bary)<-10000] = np.nan\n",
      "\n"
     ],
     "language": "python",
     "metadata": {},
     "outputs": [],
     "prompt_number": 342
    },
    {
     "cell_type": "code",
     "collapsed": false,
     "input": [
      "print np.nanstd(cam1_RVs)\n",
      "print np.nanstd(cam2_RVs)\n",
      "print np.nanstd(cam3_RVs)\n",
      "print np.nanstd(cam4_RVs)\n",
      "# print np.std(bary)\n",
      "print 'B',mad(cam1_RVs_clean)\n",
      "print 'G',mad(cam2_RVs_clean)\n",
      "print 'R',mad(cam3_RVs_clean)\n",
      "print 'IR',mad(cam4_RVs_clean)\n"
     ],
     "language": "python",
     "metadata": {},
     "outputs": [
      {
       "output_type": "stream",
       "stream": "stdout",
       "text": [
        "1588.34514839\n",
        "1423.00468248\n",
        "870.387583219\n",
        "793.036406029\n",
        "B 436.345100976\n",
        "G 520.208792844\n",
        "R 307.43032347\n",
        "IR 235.056006673\n"
       ]
      }
     ],
     "prompt_number": 343
    },
    {
     "cell_type": "code",
     "collapsed": false,
     "input": [
      "cam1_RVs_median = np.zeros(np.unique(JDs).shape[0])\n",
      "cam2_RVs_median = np.zeros(np.unique(JDs).shape[0])\n",
      "cam3_RVs_median = np.zeros(np.unique(JDs).shape[0])\n",
      "cam4_RVs_median = np.zeros(np.unique(JDs).shape[0])\n",
      "trend = np.zeros(np.unique(JDs).shape[0])\n",
      "cam1_RVs_abs_dev = np.zeros(np.unique(JDs).shape[0])\n",
      "cam2_RVs_abs_dev = np.zeros(np.unique(JDs).shape[0])\n",
      "cam3_RVs_abs_dev = np.zeros(np.unique(JDs).shape[0])\n",
      "cam4_RVs_abs_dev = np.zeros(np.unique(JDs).shape[0])\n",
      "# bary_abs_dev = np.zeros(np.unique(JDs).shape[0])\n",
      "JDs_unique = np.unique(JDs)\n",
      "for i in range(len(JDs_unique)):\n",
      "    cam1_RVs_median[i] = np.median(cam1_RVs_clean[JDs1==JDs_unique[i]])\n",
      "    cam2_RVs_median[i] = np.median(cam2_RVs_clean[JDs2==JDs_unique[i]])\n",
      "    cam3_RVs_median[i] = np.median(cam3_RVs_clean[JDs3==JDs_unique[i]])\n",
      "    cam4_RVs_median[i] = np.median(cam4_RVs_clean[JDs4==JDs_unique[i]])\n",
      "    allRVs = np.hstack([cam1_RVs_median[i],cam2_RVs_median[i],cam3_RVs_median[i],cam4_RVs_median[i]])\n",
      "    print allRVs\n",
      "    trend[i] = np.nanmean(np.hstack([cam1_RVs_median[i],cam2_RVs_median[i],cam3_RVs_median[i],cam4_RVs_median[i]]))\n",
      "    print trend[i], JDs_unique[i]\n",
      "#     bary_median[i] = np.median(bary[JDs==JDs_unique[i]])\n",
      "    cam1_RVs_abs_dev[i] = mad(cam1_RVs_clean[JDs1==JDs_unique[i]])\n",
      "    cam2_RVs_abs_dev[i] = mad(cam2_RVs_clean[JDs2==JDs_unique[i]])\n",
      "    cam3_RVs_abs_dev[i] = mad(cam3_RVs_clean[JDs3==JDs_unique[i]])\n",
      "    cam4_RVs_abs_dev[i] = mad(cam4_RVs_clean[JDs4==JDs_unique[i]])\n",
      "#     bary_abs_dev[i] = mad(bary[JDs==JDs_unique[i]])\n",
      "#     cam1_RVs_abs_dev[i] = np.std(cam1_RVs_clean[JDs==JDs_unique[i]])\n",
      "#     cam2_RVs_abs_dev[i] = np.std(cam2_RVs_clean[JDs==JDs_unique[i]])\n",
      "#     cam3_RVs_abs_dev[i] = np.std(cam3_RVs_clean[JDs==JDs_unique[i]])\n",
      "#     cam4_RVs_abs_dev[i] = np.std(cam4_RVs_clean[JDs==JDs_unique[i]])\n",
      "\n"
     ],
     "language": "python",
     "metadata": {},
     "outputs": [
      {
       "output_type": "stream",
       "stream": "stdout",
       "text": [
        "[ nan  nan  nan  nan]\n",
        "nan 56643.7091669\n",
        "[ nan  nan  nan  nan]\n",
        "nan 56643.7169949\n",
        "[ nan  nan  nan  nan]\n",
        "nan 56643.7248256\n",
        "[ -51.01335571 -857.3614116  -556.95136844  -21.26738008]\n",
        "-371.648378956 56664.6068547\n",
        "[  19.37712466 -799.75504297 -558.62254305   37.9084714 ]\n",
        "-325.272997489 56664.6147414\n",
        "[  29.2507155  -787.33558716 -584.88319633   42.55917428]\n",
        "-325.102223428 56664.6226131\n",
        "[          nan  -55.09441115   52.89308225 -337.82468406]\n",
        "-113.342004323 56664.7240369\n",
        "[ 643.21474841  267.67764234  -10.27217367    9.15776153]\n",
        "227.444494651 56666.5633835\n",
        "[          nan  382.56664584           nan           nan]\n",
        "382.566645838 56666.5712594\n",
        "[ 1083.82115049            nan   185.18047825   265.18820265]\n",
        "511.396610463 56666.5994654\n",
        "[ 962.13749415           nan  310.71290632  268.79986298]\n",
        "513.883421149 56666.6073097\n",
        "[ nan  nan  nan  nan]\n",
        "nan 56666.6890282\n",
        "[ nan  nan  nan  nan]\n",
        "nan 56666.6968566\n",
        "[ nan  nan  nan  nan]\n",
        "nan 56666.7046887\n",
        "[ nan  nan  nan  nan]\n",
        "nan 56695.5228869\n",
        "[ nan  nan  nan  nan]\n",
        "nan 56695.5376721\n",
        "[ nan  nan  nan  nan]\n",
        "nan 56695.5524554\n",
        "[ nan  nan  nan  nan]\n",
        "nan 56696.5455301\n",
        "[ nan  nan  nan  nan]\n",
        "nan 56696.5603055\n",
        "[ nan  nan  nan  nan]\n",
        "nan 56696.5750902\n",
        "[ nan  nan  nan  nan]\n",
        "nan 56697.6071657\n",
        "[ nan  nan  nan  nan]\n",
        "nan 56697.6149939\n",
        "[ nan  nan  nan  nan]\n",
        "nan 56697.6228382\n",
        "[ nan  nan  nan  nan]\n",
        "nan 56699.5835547\n",
        "[ nan  nan  nan  nan]\n",
        "nan 56699.5983286\n",
        "[ nan  nan  nan  nan]\n",
        "nan 56699.6131181\n",
        "[ nan  nan  nan  nan]\n",
        "nan 56699.6278899\n",
        "[ nan  nan  nan  nan]\n",
        "nan 56699.6462305\n",
        "[ nan  nan  nan  nan]\n",
        "nan 56699.6610106\n"
       ]
      }
     ],
     "prompt_number": 344
    },
    {
     "cell_type": "code",
     "collapsed": false,
     "input": [
      "plt.title('M67 Median Radial Velocities')\n",
      "plt.ylabel('RV [m/s]')\n",
      "plt.xlabel('JD')\n",
      "\n",
      "plt.errorbar(JDs_unique, cam1_RVs_median, yerr= cam1_RVs_abs_dev, color = 'b', label ='Blue', fmt='.')\n",
      "plt.errorbar(JDs_unique, cam2_RVs_median, yerr= cam2_RVs_abs_dev, color = 'g', label ='Green', fmt='.')\n",
      "plt.errorbar(JDs_unique, cam3_RVs_median, yerr= cam3_RVs_abs_dev, color = 'r', label ='Red', fmt='.')\n",
      "plt.errorbar(JDs_unique, cam4_RVs_median, yerr= cam4_RVs_abs_dev, color = 'cyan', label ='IR', fmt='.')\n",
      "# plt.errorbar(JDs_unique, cam1_RVs_median/1000, color = 'b', label ='Blue', fmt='.')\n",
      "# plt.errorbar(JDs_unique, cam2_RVs_median/1000,  color = 'g', label ='Green', fmt='.')\n",
      "# plt.errorbar(JDs_unique, cam3_RVs_median/1000,  color = 'r', label ='Red', fmt='.')\n",
      "# plt.errorbar(JDs_unique, cam4_RVs_median/1000, color = 'cyan', label ='IR', fmt='.')\n",
      "# plt.plot([min(JDs_unique[-np.isnan(trend)]),max(JDs_unique[-np.isnan(trend)])], [min(trend[-np.isnan(trend)]),max(trend[-np.isnan(trend)])])\n",
      "plt.legend(loc=0)\n",
      "plt.show()"
     ],
     "language": "python",
     "metadata": {},
     "outputs": [],
     "prompt_number": 345
    },
    {
     "cell_type": "code",
     "collapsed": false,
     "input": [
      "plt.plot(cam1_RVs_abs_dev)\n",
      "plt.plot(cam2_RVs_abs_dev)\n",
      "plt.plot(cam3_RVs_abs_dev)\n",
      "plt.plot(cam4_RVs_abs_dev)# plt.plot(cam1_RVs_clean)\n",
      "plt.show()"
     ],
     "language": "python",
     "metadata": {},
     "outputs": [],
     "prompt_number": 340
    },
    {
     "cell_type": "code",
     "collapsed": false,
     "input": [
      "# plt.title(thisStar.name+' V='+str(thisStar.V))\n",
      "plt.ylabel('dRV [m/s]')\n",
      "plt.xlabel('JD')\n",
      "# plt.scatter(JDs1, cam1_RVs, color = 'b', label ='Blue')\n",
      "# plt.scatter(JDs2, cam2_RVs, color = 'g', label ='Green')\n",
      "# plt.scatter(JDs3, cam3_RVs, color = 'r', label ='Red')\n",
      "# plt.scatter(JDs4, cam4_RVs, color = 'cyan', label ='IR')\n",
      "plt.scatter(JDs1, cam1_RVs, color = 'b', label ='Blue')\n",
      "plt.scatter(JDs2, cam2_RVs, color = 'g', label ='Green')\n",
      "plt.scatter(JDs3, cam3_RVs, color = 'r', label ='Red')\n",
      "plt.scatter(JDs4, cam4_RVs, color = 'cyan', label ='IR')\n",
      "# plt.plot(JDs, bary, label = 'Barycentric Vel.')\n",
      "\n",
      "plt.legend(loc=0)\n",
      "plt.show()"
     ],
     "language": "python",
     "metadata": {},
     "outputs": [],
     "prompt_number": 265
    },
    {
     "cell_type": "code",
     "collapsed": false,
     "input": [
      "#open sky lines (>9000Ang) from gemini\n",
      "a = np.loadtxt('mktrans_zm_30_15.dat')\n",
      "\n",
      "#wavelength range (microns)\n",
      "aClean = a[a[:,0]>0.4]\n",
      "aClean = aClean[aClean[:,0]<1.0]\n",
      "\n",
      "\n",
      "#in Ang (to match 2dfdr data)\n",
      "skyX = aClean[:,0]*10000\n",
      "skyY = aClean[:,1]\n"
     ],
     "language": "python",
     "metadata": {},
     "outputs": [],
     "prompt_number": 4
    },
    {
     "cell_type": "code",
     "collapsed": false,
     "input": [
      "#lambda|FWHM|Flux\n",
      "a= np.loadtxt('sky_emission.tsv',delimiter='|', skiprows=36,comments='#')\n",
      "sky2X = a[:,0]\n",
      "sky2Y = a[:,2]\n"
     ],
     "language": "python",
     "metadata": {},
     "outputs": [],
     "prompt_number": 5
    },
    {
     "cell_type": "code",
     "collapsed": false,
     "input": [
      "#or load...\n",
      "data = np.load('data.npy')"
     ],
     "language": "python",
     "metadata": {},
     "outputs": [],
     "prompt_number": 347
    },
    {
     "cell_type": "code",
     "collapsed": false,
     "input": [
      "#sample analysis\n",
      "MSIdx = np.where(data[:,3].astype(float)>13)[0]\n",
      "giantsIdx = np.where(((data[:,3].astype(float)<12) & (data[:,2].astype(float)>1) & (data[:,2].astype(float)<1.3)))[0]\n",
      "numObs = np.average(data[:,5].astype(int))\n",
      "HRObs = np.sum(data[:,4].astype(bool))\n",
      "\n",
      "print 'Total stars:', data.shape[0]\n",
      "print 'Avg number of obs:',numObs\n",
      "print 'Have HR:', HRObs\n",
      "print 'Main S:',MSIdx.shape[0]\n",
      "# print 'Range of observations:', np.max(thisStar.exposures.JDs)-np.min(thisStar.exposures.JDs), 'days'\n",
      "# print data[MSIdx,0]\n",
      "print 'Giants:', giantsIdx.shape[0]\n",
      "# print data[giantsIdx,0]"
     ],
     "language": "python",
     "metadata": {},
     "outputs": [
      {
       "output_type": "stream",
       "stream": "stdout",
       "text": [
        "Total stars: 289\n",
        "Avg number of obs: 25.6228373702\n",
        "Have HR: 136\n",
        "Main S: 202\n",
        "Giants: 13\n"
       ]
      }
     ],
     "prompt_number": 14
    },
    {
     "cell_type": "code",
     "collapsed": false,
     "input": [],
     "language": "python",
     "metadata": {},
     "outputs": []
    },
    {
     "cell_type": "code",
     "collapsed": false,
     "input": [],
     "language": "python",
     "metadata": {},
     "outputs": []
    },
    {
     "cell_type": "code",
     "collapsed": false,
     "input": [],
     "language": "python",
     "metadata": {},
     "outputs": []
    },
    {
     "cell_type": "code",
     "collapsed": false,
     "input": [
      "np.sort(data[:,3].astype(float))"
     ],
     "language": "python",
     "metadata": {},
     "outputs": [
      {
       "metadata": {},
       "output_type": "pyout",
       "prompt_number": 346,
       "text": [
        "array([  9.642,   9.681,   9.985,  10.282,  10.449,  10.479,  10.484,\n",
        "        10.496,  10.508,  10.527,  10.528,  10.731,  10.757,  10.866,\n",
        "        10.894,  10.908,  10.922,  11.037,  11.06 ,  11.135,  11.238,\n",
        "        11.243,  11.278,  11.296,  11.425,  11.488,  11.492,  11.531,\n",
        "        11.618,  11.957])"
       ]
      }
     ],
     "prompt_number": 346
    },
    {
     "cell_type": "code",
     "collapsed": false,
     "input": [
      "#open 1 star\n",
      "filehandler = open('M67-S39.obj', 'r') \n",
      "thisStar = pickle.load(filehandler) \n",
      "filehandler.close()\n",
      "filehandler2 = open('M67-S33.obj', 'r') \n",
      "\n",
      "thisStar2 = pickle.load(filehandler2) \n",
      "filehandler2.close()"
     ],
     "language": "python",
     "metadata": {},
     "outputs": [
      {
       "ename": "IOError",
       "evalue": "[Errno 2] No such file or directory: 'M67-S39.obj'",
       "output_type": "pyerr",
       "traceback": [
        "\u001b[0;31m---------------------------------------------------------------------------\u001b[0m\n\u001b[0;31mIOError\u001b[0m                                   Traceback (most recent call last)",
        "\u001b[0;32m<ipython-input-7-a84ec80dc673>\u001b[0m in \u001b[0;36m<module>\u001b[0;34m()\u001b[0m\n\u001b[1;32m      1\u001b[0m \u001b[0;31m#open 1 star\u001b[0m\u001b[0;34m\u001b[0m\u001b[0;34m\u001b[0m\u001b[0m\n\u001b[0;32m----> 2\u001b[0;31m \u001b[0mfilehandler\u001b[0m \u001b[0;34m=\u001b[0m \u001b[0mopen\u001b[0m\u001b[0;34m(\u001b[0m\u001b[0;34m'M67-S39.obj'\u001b[0m\u001b[0;34m,\u001b[0m \u001b[0;34m'r'\u001b[0m\u001b[0;34m)\u001b[0m\u001b[0;34m\u001b[0m\u001b[0m\n\u001b[0m\u001b[1;32m      3\u001b[0m \u001b[0mthisStar\u001b[0m \u001b[0;34m=\u001b[0m \u001b[0mpickle\u001b[0m\u001b[0;34m.\u001b[0m\u001b[0mload\u001b[0m\u001b[0;34m(\u001b[0m\u001b[0mfilehandler\u001b[0m\u001b[0;34m)\u001b[0m\u001b[0;34m\u001b[0m\u001b[0m\n\u001b[1;32m      4\u001b[0m \u001b[0mfilehandler\u001b[0m\u001b[0;34m.\u001b[0m\u001b[0mclose\u001b[0m\u001b[0;34m(\u001b[0m\u001b[0;34m)\u001b[0m\u001b[0;34m\u001b[0m\u001b[0m\n\u001b[1;32m      5\u001b[0m \u001b[0mfilehandler2\u001b[0m \u001b[0;34m=\u001b[0m \u001b[0mopen\u001b[0m\u001b[0;34m(\u001b[0m\u001b[0;34m'M67-S33.obj'\u001b[0m\u001b[0;34m,\u001b[0m \u001b[0;34m'r'\u001b[0m\u001b[0;34m)\u001b[0m\u001b[0;34m\u001b[0m\u001b[0m\n",
        "\u001b[0;31mIOError\u001b[0m: [Errno 2] No such file or directory: 'M67-S39.obj'"
       ]
      }
     ],
     "prompt_number": 7
    },
    {
     "cell_type": "code",
     "collapsed": false,
     "input": [
      "# os.chdir('/Users/Carlos/Documents/HERMES/reductions/m67_all_4cams')\n",
      "# for i in data[np.argsort(data[:,3].astype(float),0),0]:\n",
      "#     filehandler = open(i+'.obj', 'r') \n",
      "#     thisStar = pickle.load(filehandler) \n",
      "#     filehandler.close()\n",
      "#     print thisStar.name, thisStar.exposures.JDs"
     ],
     "language": "python",
     "metadata": {},
     "outputs": [],
     "prompt_number": 385
    },
    {
     "cell_type": "code",
     "collapsed": false,
     "input": [
      "# RV vs. JD (x 4 channels) + baryVel  (2 stars)\n",
      "plt.title(thisStar.name+' V='+str(thisStar.V))\n",
      "plt.ylabel('dRV [km/s]')\n",
      "plt.xlabel('JD')\n",
      "plt.scatter(thisStar.exposures.JDs, np.array(thisStar.exposures.cam1_RVs.RVs)/1000, color = 'b')\n",
      "plt.scatter(thisStar.exposures.JDs, np.array(thisStar.exposures.cam2_RVs.RVs)/1000, color = 'g')\n",
      "plt.scatter(thisStar.exposures.JDs, np.array(thisStar.exposures.cam3_RVs.RVs)/1000, color = 'r')\n",
      "plt.scatter(thisStar.exposures.JDs, np.array(thisStar.exposures.cam4_RVs.RVs)/1000, color = 'cyan')\n",
      "\n",
      "plt.scatter(thisStar2.exposures.JDs, np.array(thisStar2.exposures.cam1_RVs.RVs)/1000, color = 'b',  s = 50, alpha = 0.5)\n",
      "plt.scatter(thisStar2.exposures.JDs, np.array(thisStar2.exposures.cam2_RVs.RVs)/1000, color = 'g',  s = 50, alpha = 0.5)\n",
      "plt.scatter(thisStar2.exposures.JDs, np.array(thisStar2.exposures.cam3_RVs.RVs)/1000, color = 'r',s = 50, alpha = 0.5)\n",
      "plt.scatter(thisStar2.exposures.JDs, np.array(thisStar2.exposures.cam4_RVs.RVs)/1000, color = 'cyan', s = 50, alpha = 0.5)\n",
      "# # # plt.plot(thisStar.exposures.JDs, np.array(thisStar.baryVels)/1000, label = 'Barycentric Vel.')\n",
      "\n",
      "plt.plot(thisStar2.exposures.JDs, np.array(thisStar2.exposures.cam1_RVs.RVs)/1000-np.array(thisStar.exposures.cam1_RVs.RVs)/1000, color = 'b', label ='Blue')\n",
      "plt.plot(thisStar2.exposures.JDs, np.array(thisStar2.exposures.cam2_RVs.RVs)/1000-np.array(thisStar.exposures.cam2_RVs.RVs)/1000, color = 'g', label ='Green')\n",
      "plt.plot(thisStar2.exposures.JDs, np.array(thisStar2.exposures.cam3_RVs.RVs)/1000-np.array(thisStar.exposures.cam3_RVs.RVs)/1000, color = 'r', label ='Red')\n",
      "plt.plot(thisStar2.exposures.JDs, np.array(thisStar2.exposures.cam4_RVs.RVs)/1000-np.array(thisStar.exposures.cam4_RVs.RVs)/1000, color = 'cyan', label ='IR')\n",
      "\n",
      "plt.legend(loc=0)\n",
      "plt.show()"
     ],
     "language": "python",
     "metadata": {},
     "outputs": [],
     "prompt_number": 388
    },
    {
     "cell_type": "code",
     "collapsed": false,
     "input": [
      "thisStar.exposures.cam1_wavelengths"
     ],
     "language": "python",
     "metadata": {},
     "outputs": [
      {
       "metadata": {},
       "output_type": "pyout",
       "prompt_number": 314,
       "text": [
        "array([[ 4708.26708984,  4708.31241033,  4708.35773082, ...,\n",
        "         4893.76385121,  4893.8091717 ,  4893.85449219],\n",
        "       [ 4708.26708984,  4708.31241033,  4708.35773082, ...,\n",
        "         4893.76385121,  4893.8091717 ,  4893.85449219],\n",
        "       [ 4708.26708984,  4708.31241033,  4708.35773082, ...,\n",
        "         4893.76385121,  4893.8091717 ,  4893.85449219],\n",
        "       ..., \n",
        "       [ 4708.26708984,  4708.31241033,  4708.35773082, ...,\n",
        "         4893.76385121,  4893.8091717 ,  4893.85449219],\n",
        "       [ 4708.26708984,  4708.31241033,  4708.35773082, ...,\n",
        "         4893.76385121,  4893.8091717 ,  4893.85449219],\n",
        "       [ 4708.26708984,  4708.31241033,  4708.35773082, ...,\n",
        "         4893.76385121,  4893.8091717 ,  4893.85449219]])"
       ]
      }
     ],
     "prompt_number": 314
    },
    {
     "cell_type": "code",
     "collapsed": false,
     "input": [
      "plt.scatter(thisStar.exposures.JDs,star1RV1, color = 'r')\n",
      "plt.scatter(thisStar.exposures.JDs,star1RV2, color = 'g')\n",
      "plt.scatter(thisStar.exposures.JDs,star1RV3, color = 'b')\n",
      "plt.scatter(thisStar.exposures.JDs,star1RV4, color = 'cyan')\n",
      "plt.show()"
     ],
     "language": "python",
     "metadata": {},
     "outputs": [],
     "prompt_number": 340
    },
    {
     "cell_type": "code",
     "collapsed": false,
     "input": [
      "star1RV1 = np.zeros(len(thisStar.exposures.JDs))\n",
      "star1RV2 = np.zeros(len(thisStar.exposures.JDs))\n",
      "star1RV3 = np.zeros(len(thisStar.exposures.JDs))\n",
      "star1RV4 = np.zeros(len(thisStar.exposures.JDs))\n",
      "for i in range(len(thisStar.exposures.JDs)):\n",
      "    star1RV1[i]= RVs().calculate_RV(thisStar.exposures.cam1_wavelengths[i], \n",
      "                           thisStar.exposures.cam1_fluxes[i],\n",
      "                           thisStar.exposures.cam1_wavelengths[3],\n",
      "                           thisStar.exposures.cam1_fluxes[3],\n",
      "                           xDef = 100)\n",
      "    star1RV2[i]= RVs().calculate_RV(thisStar.exposures.cam2_wavelengths[i], \n",
      "                           thisStar.exposures.cam2_fluxes[i],\n",
      "                           thisStar.exposures.cam2_wavelengths[3],\n",
      "                           thisStar.exposures.cam2_fluxes[3],\n",
      "                           xDef = 100)\n",
      "    star1RV3[i]= RVs().calculate_RV(thisStar.exposures.cam3_wavelengths[i], \n",
      "                           thisStar.exposures.cam3_fluxes[i],\n",
      "                           thisStar.exposures.cam3_wavelengths[3],\n",
      "                           thisStar.exposures.cam3_fluxes[3],\n",
      "                           xDef = 100)\n",
      "    star1RV4[i]= RVs().calculate_RV(thisStar.exposures.cam4_wavelengths[i], \n",
      "                           thisStar.exposures.cam4_fluxes[i],\n",
      "                           thisStar.exposures.cam4_wavelengths[3],\n",
      "                           thisStar.exposures.cam_fluxes[3],\n",
      "                           xDef = 100)\n",
      "                            "
     ],
     "language": "python",
     "metadata": {},
     "outputs": [
      {
       "output_type": "stream",
       "stream": "stdout",
       "text": [
        "p_guess [198851, 100]\n",
        "final p [ 198851.40642596     302.97005756]\n",
        "RV -9812.32707022\n",
        "p_guess"
       ]
      },
      {
       "output_type": "stream",
       "stream": "stdout",
       "text": [
        " [204857, 100]\n",
        "final p [ 204856.50632985     286.49150776]\n",
        "RV 15817.3342989\n",
        "p_guess"
       ]
      },
      {
       "output_type": "stream",
       "stream": "stdout",
       "text": [
        " [207064, 100]\n",
        "final p [ 207063.23521828     939.473323  ]\n",
        "RV 107049.904446\n",
        "p_guess"
       ]
      },
      {
       "output_type": "stream",
       "stream": "stdout",
       "text": [
        " [201350, 100]\n",
        "final p [ 201350.58520058     511.46281709]\n",
        "RV 28.5100120818\n",
        "p_guess"
       ]
      },
      {
       "output_type": "stream",
       "stream": "stdout",
       "text": [
        " [198852, 100]\n",
        "final p [ 198851.71135822     302.97228244]\n",
        "RV -9812.32707022\n",
        "p_guess"
       ]
      },
      {
       "output_type": "stream",
       "stream": "stdout",
       "text": [
        " [204854, 100]\n",
        "final p [ 204854.38903902     286.76886636]\n",
        "RV 15760.4374129\n",
        "p_guess"
       ]
      },
      {
       "output_type": "stream",
       "stream": "stdout",
       "text": [
        " [207083, 100]\n",
        "final p [ 207080.88575826     661.81833907]\n",
        "RV 107533.520809\n",
        "p_guess"
       ]
      },
      {
       "output_type": "stream",
       "stream": "stdout",
       "text": [
        " [201347, 100]\n",
        "final p [ 201347.18801067     514.42979171]\n",
        "RV -57.0200241636\n",
        "p_guess"
       ]
      },
      {
       "output_type": "stream",
       "stream": "stdout",
       "text": [
        " [198852, 100]\n",
        "final p [ 198852.30372942     301.56945882]\n",
        "RV -9784.0494706\n",
        "p_guess"
       ]
      },
      {
       "output_type": "stream",
       "stream": "stdout",
       "text": [
        " [204858, 100]\n",
        "final p [ 204857.52243574     285.0559318 ]\n",
        "RV 15845.7827419\n",
        "p_guess"
       ]
      },
      {
       "output_type": "stream",
       "stream": "stdout",
       "text": [
        " [207118, 100]\n",
        "final p [ 207115.0239258      824.80054193]\n",
        "RV 108529.201558\n",
        "p_guess"
       ]
      },
      {
       "output_type": "stream",
       "stream": "stdout",
       "text": [
        " [201345, 100]\n",
        "final p [ 201344.79460645     510.71003978]\n",
        "RV -142.550060409\n",
        "p_guess"
       ]
      },
      {
       "output_type": "stream",
       "stream": "stdout",
       "text": [
        " [199198, 100]\n",
        "final p [ 199197.98815011     247.43471078]\n",
        "RV -28.277599626\n",
        "p_guess"
       ]
      },
      {
       "output_type": "stream",
       "stream": "stdout",
       "text": [
        " [204300, 100]\n",
        "final p [ 204299.98809342     255.45972596]\n",
        "RV -28.4484429836\n",
        "p_guess"
       ]
      },
      {
       "output_type": "stream",
       "stream": "stdout",
       "text": [
        " [203300, 100]\n",
        "final p [ 203299.9887782      286.82991018]\n",
        "RV -28.4480213781\n",
        "p_guess"
       ]
      },
      {
       "output_type": "stream",
       "stream": "stdout",
       "text": [
        " [201349, 100]\n",
        "final p [ 201348.99213519     422.24558607]\n",
        "RV -28.5100120818\n",
        "p_guess"
       ]
      },
      {
       "output_type": "stream",
       "stream": "stdout",
       "text": [
        " [199202, 100]\n",
        "final p [ 199202.18252102     296.05652195]\n",
        "RV 113.110398504\n",
        "p_guess"
       ]
      },
      {
       "output_type": "stream",
       "stream": "stdout",
       "text": [
        " [204301, 100]\n",
        "final p [ 204300.88674561     304.99418843]\n",
        "RV 0.0\n",
        "p_guess"
       ]
      },
      {
       "output_type": "stream",
       "stream": "stdout",
       "text": [
        " [203300, 100]\n",
        "final p [ 203299.80362948     332.07986775]\n",
        "RV -28.4480213781\n",
        "p_guess"
       ]
      },
      {
       "output_type": "stream",
       "stream": "stdout",
       "text": [
        " [201350, 100]\n",
        "final p [ 201350.52359261     450.95510938]\n",
        "RV 28.5100120818\n",
        "p_guess"
       ]
      },
      {
       "output_type": "stream",
       "stream": "stdout",
       "text": [
        " [199201, 100]\n",
        "final p [ 199201.25534563     296.25078176]\n",
        "RV 84.832798878\n",
        "p_guess"
       ]
      },
      {
       "output_type": "stream",
       "stream": "stdout",
       "text": [
        " [204304, 100]\n",
        "final p [ 204303.6807205      304.32013589]\n",
        "RV 85.3453289508\n",
        "p_guess"
       ]
      },
      {
       "output_type": "stream",
       "stream": "stdout",
       "text": [
        " [203302, 100]\n",
        "final p [ 203301.86750965     331.21687454]\n",
        "RV 28.4480213781\n",
        "p_guess"
       ]
      },
      {
       "output_type": "stream",
       "stream": "stdout",
       "text": [
        " [201351, 100]\n",
        "final p [ 201351.18165806     450.1518842 ]\n",
        "RV 57.0200241636\n",
        "p_guess"
       ]
      },
      {
       "output_type": "stream",
       "stream": "stdout",
       "text": [
        " [199217, 100]\n",
        "final p [ 199217.52356587     304.18719216]\n",
        "RV 537.274392894\n",
        "p_guess"
       ]
      },
      {
       "output_type": "stream",
       "stream": "stdout",
       "text": [
        " [204320, 100]\n",
        "final p [ 204320.06307972     312.38104034]\n",
        "RV 568.968859672\n",
        "p_guess"
       ]
      },
      {
       "output_type": "stream",
       "stream": "stdout",
       "text": [
        " [203368, 100]\n",
        "final p [ 203367.86196252     340.92131208]\n",
        "RV 1906.01743233\n",
        "p_guess"
       ]
      },
      {
       "output_type": "stream",
       "stream": "stdout",
       "text": [
        " [201351, 100]\n",
        "final p [ 201350.99320505     462.41568955]\n",
        "RV 28.5100120818\n",
        "p_guess"
       ]
      },
      {
       "output_type": "stream",
       "stream": "stdout",
       "text": [
        " [199227, 100]\n",
        "final p [ 199227.64634274     300.33832229]\n",
        "RV 820.050389154\n",
        "p_guess"
       ]
      },
      {
       "output_type": "stream",
       "stream": "stdout",
       "text": [
        " [204874, 100]\n",
        "final p [ 204873.90310101     286.16178378]\n",
        "RV 16300.9578296\n",
        "p_guess"
       ]
      },
      {
       "output_type": "stream",
       "stream": "stdout",
       "text": [
        " [203918, 100]\n",
        "final p [ 203917.7936338     312.4857595]\n",
        "RV 17552.4291903\n",
        "p_guess"
       ]
      },
      {
       "output_type": "stream",
       "stream": "stdout",
       "text": [
        " [201333, 100]\n",
        "final p [ 201332.7837734      511.08631138]\n",
        "RV -484.670205391\n",
        "p_guess"
       ]
      },
      {
       "output_type": "stream",
       "stream": "stdout",
       "text": [
        " [178064, 100]\n",
        "final p [ 178059.85150075     295.37003423]\n",
        "RV -597760.178494\n",
        "p_guess"
       ]
      },
      {
       "output_type": "stream",
       "stream": "stdout",
       "text": [
        " [204871, 100]\n",
        "final p [ 204870.41741487     285.56215478]\n",
        "RV 16215.6125007\n",
        "p_guess"
       ]
      },
      {
       "output_type": "stream",
       "stream": "stdout",
       "text": [
        " [203912, 100]\n",
        "final p [ 203912.32734695     311.43458666]\n",
        "RV 17410.1890834\n",
        "p_guess"
       ]
      },
      {
       "output_type": "stream",
       "stream": "stdout",
       "text": [
        " [201334, 100]\n",
        "final p [ 201333.90315745     511.40302068]\n",
        "RV -456.160193309\n",
        "p_guess"
       ]
      },
      {
       "output_type": "stream",
       "stream": "stdout",
       "text": [
        " [199246, 100]\n",
        "final p [ 199246.14070866     305.38045971]\n",
        "RV 1357.32478205\n",
        "p_guess"
       ]
      },
      {
       "output_type": "stream",
       "stream": "stdout",
       "text": [
        " [204873, 100]\n",
        "final p [ 204872.60234109     283.09953163]\n",
        "RV 16272.5093866\n",
        "p_guess"
       ]
      },
      {
       "output_type": "stream",
       "stream": "stdout",
       "text": [
        " [203914, 100]\n",
        "final p [ 203914.10772134     311.21428372]\n",
        "RV 17467.0851262\n",
        "p_guess"
       ]
      },
      {
       "output_type": "stream",
       "stream": "stdout",
       "text": [
        " [201331, 100]\n",
        "final p [ 201330.9134837      506.04146944]\n",
        "RV -541.690229555\n",
        "p_guess"
       ]
      },
      {
       "output_type": "stream",
       "stream": "stdout",
       "text": [
        " [199243, 100]\n",
        "final p [ 199243.3907902      298.82414027]\n",
        "RV 1272.49198317\n",
        "p_guess"
       ]
      },
      {
       "output_type": "stream",
       "stream": "stdout",
       "text": [
        " [204898, 100]\n",
        "final p [ 204897.45671612     307.58187865]\n",
        "RV 16983.7204612\n",
        "p_guess"
       ]
      },
      {
       "output_type": "stream",
       "stream": "stdout",
       "text": [
        " [207067, 100]\n",
        "final p [ 207066.84228271     477.14906105]\n",
        "RV 107135.24851\n",
        "p_guess"
       ]
      },
      {
       "output_type": "stream",
       "stream": "stdout",
       "text": [
        " [201359, 100]\n",
        "final p [ 201359.26605737     539.12051961]\n",
        "RV 285.100120818\n",
        "p_guess"
       ]
      },
      {
       "output_type": "stream",
       "stream": "stdout",
       "text": [
        " [370155, 100]\n",
        "final p [ 370154.04162804     638.55290763]\n",
        "RV 4834225.32166\n",
        "p_guess"
       ]
      },
      {
       "output_type": "stream",
       "stream": "stdout",
       "text": [
        " [204900, 100]\n",
        "final p [ 204899.74468553     305.09167661]\n",
        "RV 17040.6173472\n",
        "p_guess"
       ]
      },
      {
       "output_type": "stream",
       "stream": "stdout",
       "text": [
        " [207062, 100]\n",
        "final p [ 207061.9489646      485.66419774]\n",
        "RV 106993.008403\n",
        "p_guess"
       ]
      },
      {
       "output_type": "stream",
       "stream": "stdout",
       "text": [
        " [201360, 100]\n",
        "final p [ 201360.09117037     541.37653865]\n",
        "RV 313.6101329\n",
        "p_guess"
       ]
      },
      {
       "output_type": "stream",
       "stream": "stdout",
       "text": [
        " [137835, 100]\n",
        "final p [ 137833.91066774     485.93932512]\n",
        "RV -1735254.90105\n",
        "p_guess"
       ]
      },
      {
       "output_type": "stream",
       "stream": "stdout",
       "text": [
        " [204899, 100]\n",
        "final p [ 204899.4385749      306.39577571]\n",
        "RV 17040.6173472\n",
        "p_guess"
       ]
      },
      {
       "output_type": "stream",
       "stream": "stdout",
       "text": [
        " [207067, 100]\n",
        "final p [ 207067.35802743     480.55963975]\n",
        "RV 107163.696531\n",
        "p_guess"
       ]
      },
      {
       "output_type": "stream",
       "stream": "stdout",
       "text": [
        " [201359, 100]\n",
        "final p [ 201359.30570039     541.95474475]\n",
        "RV 285.100120818\n",
        "p_guess"
       ]
      },
      {
       "output_type": "stream",
       "stream": "stdout",
       "text": [
        " [137839, 100]\n",
        "final p [ 137839.06537653     489.82680963]\n",
        "RV -1735085.23545\n",
        "p_guess"
       ]
      },
      {
       "output_type": "stream",
       "stream": "stdout",
       "text": [
        " [204342, 100]\n",
        "final p [ 204341.87498493     316.37761579]\n",
        "RV 1166.38616233\n",
        "p_guess"
       ]
      },
      {
       "output_type": "stream",
       "stream": "stdout",
       "text": [
        " [203319, 100]\n",
        "final p [ 203318.99304126     339.5178553 ]\n",
        "RV 512.064384806\n",
        "p_guess"
       ]
      },
      {
       "output_type": "stream",
       "stream": "stdout",
       "text": [
        " [201406, 100]\n",
        "final p [ 201405.821809       465.06604882]\n",
        "RV 1596.56067658\n",
        "p_guess"
       ]
      },
      {
       "output_type": "stream",
       "stream": "stdout",
       "text": [
        " [204204, 100]\n",
        "final p [ 204205.37829717     221.22648075]\n",
        "RV 141585.941327\n",
        "p_guess"
       ]
      },
      {
       "output_type": "stream",
       "stream": "stdout",
       "text": [
        " [204353, 100]\n",
        "final p [ 204354.20036119     269.77032975]\n",
        "RV 1536.21592111\n",
        "p_guess"
       ]
      },
      {
       "output_type": "stream",
       "stream": "stdout",
       "text": [
        " [203317, 100]\n",
        "final p [ 203316.65588865     334.53728617]\n",
        "RV 455.16834205\n",
        "p_guess"
       ]
      },
      {
       "output_type": "stream",
       "stream": "stdout",
       "text": [
        " [201411, 100]\n",
        "final p [ 201412.22939802     349.4356844 ]\n",
        "RV 1796.13076115\n",
        "p_guess"
       ]
      },
      {
       "output_type": "stream",
       "stream": "stdout",
       "text": [
        " [78958, 100]\n",
        "final p [ 78964.04427785    127.9164684 ]\n",
        "RV -3399928.91343\n",
        "p_guess"
       ]
      },
      {
       "output_type": "stream",
       "stream": "stdout",
       "text": [
        " [204351, 100]\n",
        "final p [ 204350.62141012     312.81471156]\n",
        "RV 1422.42214918\n",
        "p_guess"
       ]
      },
      {
       "output_type": "stream",
       "stream": "stdout",
       "text": [
        " [203328, 100]\n",
        "final p [ 203328.29434399     337.51379752]\n",
        "RV 796.544598588\n",
        "p_guess"
       ]
      },
      {
       "output_type": "stream",
       "stream": "stdout",
       "text": [
        " [201416, 100]\n",
        "final p [ 201416.68740777     458.90752862]\n",
        "RV 1910.17080948\n",
        "p_guess"
       ]
      },
      {
       "output_type": "stream",
       "stream": "stdout",
       "text": [
        " [120541, 100]\n",
        "final p [ 120548.60416314     259.61405066]\n",
        "RV -2224033.21058\n",
        "p_guess"
       ]
      },
      {
       "output_type": "stream",
       "stream": "stdout",
       "text": [
        " [204351, 100]\n",
        "final p [ 204351.34335926     315.95712439]\n",
        "RV 1450.87059216\n",
        "p_guess"
       ]
      },
      {
       "output_type": "stream",
       "stream": "stdout",
       "text": [
        " [203328, 100]\n",
        "final p [ 203328.40311787     337.87184133]\n",
        "RV 796.544598588\n",
        "p_guess"
       ]
      },
      {
       "output_type": "stream",
       "stream": "stdout",
       "text": [
        " [201416, 100]\n",
        "final p [ 201416.44805185     455.7252888 ]\n",
        "RV 1910.17080948\n",
        "p_guess"
       ]
      },
      {
       "output_type": "stream",
       "stream": "stdout",
       "text": [
        " [199663, 100]\n",
        "final p [ 199662.85110793     271.97296888]\n",
        "RV 13120.8062265\n",
        "empty after removing zeros"
       ]
      },
      {
       "output_type": "stream",
       "stream": "stdout",
       "text": [
        "\n",
        "RV"
       ]
      },
      {
       "output_type": "stream",
       "stream": "stdout",
       "text": [
        " 0\n",
        "empty after removing zeros"
       ]
      },
      {
       "output_type": "stream",
       "stream": "stdout",
       "text": [
        "\n",
        "RV"
       ]
      },
      {
       "output_type": "stream",
       "stream": "stdout",
       "text": [
        " 0\n",
        "p_guess"
       ]
      },
      {
       "output_type": "stream",
       "stream": "stdout",
       "text": [
        " [172654, 100]\n",
        "final p [ 172656.56176023     299.06375186]\n",
        "RV -818037.776664\n",
        "p_guess"
       ]
      },
      {
       "output_type": "stream",
       "stream": "stdout",
       "text": [
        " [199662, 100]\n",
        "final p [ 199661.72905597     270.05471183]\n",
        "RV 13092.5286268\n",
        "empty after removing zeros"
       ]
      },
      {
       "output_type": "stream",
       "stream": "stdout",
       "text": [
        "\n",
        "RV"
       ]
      },
      {
       "output_type": "stream",
       "stream": "stdout",
       "text": [
        " 0\n",
        "empty after removing zeros"
       ]
      },
      {
       "output_type": "stream",
       "stream": "stdout",
       "text": [
        "\n",
        "RV"
       ]
      },
      {
       "output_type": "stream",
       "stream": "stdout",
       "text": [
        " 0\n",
        "p_guess"
       ]
      },
      {
       "output_type": "stream",
       "stream": "stdout",
       "text": [
        " [172482, 100]\n",
        "final p [ 172484.34095318     310.865436  ]\n",
        "RV -822941.498742\n",
        "p_guess"
       ]
      },
      {
       "output_type": "stream",
       "stream": "stdout",
       "text": [
        " [199661, 100]\n",
        "final p [ 199661.15162622     272.25159469]\n",
        "RV 13092.5286268\n",
        "empty after removing zeros"
       ]
      },
      {
       "output_type": "stream",
       "stream": "stdout",
       "text": [
        "\n",
        "RV"
       ]
      },
      {
       "output_type": "stream",
       "stream": "stdout",
       "text": [
        " 0\n",
        "empty after removing zeros"
       ]
      },
      {
       "output_type": "stream",
       "stream": "stdout",
       "text": [
        "\n",
        "RV"
       ]
      },
      {
       "output_type": "stream",
       "stream": "stdout",
       "text": [
        " 0\n",
        "p_guess"
       ]
      },
      {
       "output_type": "stream",
       "stream": "stdout",
       "text": [
        " [172812, 100]\n",
        "final p [ 172814.78440691     301.98670987]\n",
        "RV -813533.194755\n",
        "p_guess"
       ]
      },
      {
       "output_type": "stream",
       "stream": "stdout",
       "text": [
        " [199690, 100]\n",
        "final p [ 199690.36856035     292.29710752]\n",
        "RV 13912.579016\n",
        "p_guess"
       ]
      },
      {
       "output_type": "stream",
       "stream": "stdout",
       "text": [
        " [204944, 100]\n",
        "final p [ 204943.80436192     288.35303104]\n",
        "RV 18292.3488385\n",
        "p_guess"
       ]
      },
      {
       "output_type": "stream",
       "stream": "stdout",
       "text": [
        " [203961, 100]\n",
        "final p [ 203961.1767008      317.95634716]\n",
        "RV 18804.1421309\n",
        "p_guess"
       ]
      },
      {
       "output_type": "stream",
       "stream": "stdout",
       "text": [
        " [201341, 100]\n",
        "final p [ 201341.46602906     503.66612231]\n",
        "RV -228.080096655\n",
        "p_guess"
       ]
      },
      {
       "output_type": "stream",
       "stream": "stdout",
       "text": [
        " [199692, 100]\n",
        "final p [ 199691.47772129     290.96045915]\n",
        "RV 13940.8566156\n",
        "p_guess"
       ]
      },
      {
       "output_type": "stream",
       "stream": "stdout",
       "text": [
        " [204945, 100]\n",
        "final p [ 204945.43731207     287.52329296]\n",
        "RV 18349.2457244\n",
        "p_guess"
       ]
      },
      {
       "output_type": "stream",
       "stream": "stdout",
       "text": [
        " [203964, 100]\n",
        "final p [ 203963.99659895     318.28844447]\n",
        "RV 18861.0381737\n",
        "p_guess"
       ]
      },
      {
       "output_type": "stream",
       "stream": "stdout",
       "text": [
        " [201343, 100]\n",
        "final p [ 201342.66853738     510.45616903]\n",
        "RV -199.570084573\n",
        "p_guess"
       ]
      },
      {
       "output_type": "stream",
       "stream": "stdout",
       "text": [
        " [199692, 100]\n",
        "final p [ 199691.71755158     291.77807374]\n",
        "RV 13940.8566156\n",
        "p_guess"
       ]
      },
      {
       "output_type": "stream",
       "stream": "stdout",
       "text": [
        " [204947, 100]\n",
        "final p [ 204947.59844738     286.9412558 ]\n",
        "RV 18406.1426104\n",
        "p_guess"
       ]
      },
      {
       "output_type": "stream",
       "stream": "stdout",
       "text": [
        " [203965, 100]\n",
        "final p [ 203964.60646436     318.12459204]\n",
        "RV 18889.4861951\n",
        "p_guess"
       ]
      },
      {
       "output_type": "stream",
       "stream": "stdout",
       "text": [
        " [201340, 100]\n",
        "final p [ 201339.80688446     507.97815046]\n",
        "RV -285.100120818\n",
        "p_guess"
       ]
      },
      {
       "output_type": "stream",
       "stream": "stdout",
       "text": [
        " [199728, 100]\n",
        "final p [ 199728.34362777     275.19223363]\n",
        "RV 14987.1278018\n",
        "p_guess"
       ]
      },
      {
       "output_type": "stream",
       "stream": "stdout",
       "text": [
        " [204948, 100]\n",
        "final p [ 204947.96485433     285.4564426 ]\n",
        "RV 18406.1426104\n",
        "p_guess"
       ]
      },
      {
       "output_type": "stream",
       "stream": "stdout",
       "text": [
        " [203967, 100]\n",
        "final p [ 203966.88190129     318.71660116]\n",
        "RV 18946.3822378\n",
        "p_guess"
       ]
      },
      {
       "output_type": "stream",
       "stream": "stdout",
       "text": [
        " [201339, 100]\n",
        "final p [ 201339.3873169      513.20621978]\n",
        "RV -285.100120818\n",
        "p_guess"
       ]
      },
      {
       "output_type": "stream",
       "stream": "stdout",
       "text": [
        " [199728, 100]\n",
        "final p [ 199728.45922234     273.3319383 ]\n",
        "RV 14987.1278018\n",
        "p_guess"
       ]
      },
      {
       "output_type": "stream",
       "stream": "stdout",
       "text": [
        " [204951, 100]\n",
        "final p [ 204950.84022975     287.27876646]\n",
        "RV 18491.4879393\n",
        "p_guess"
       ]
      },
      {
       "output_type": "stream",
       "stream": "stdout",
       "text": [
        " [203969, 100]\n",
        "final p [ 203968.65460664     318.06892589]\n",
        "RV 19003.2782806\n",
        "p_guess"
       ]
      },
      {
       "output_type": "stream",
       "stream": "stdout",
       "text": [
        " [201339, 100]\n",
        "final p [ 201338.98658897     521.56760211]\n",
        "RV -313.6101329\n",
        "p_guess"
       ]
      },
      {
       "output_type": "stream",
       "stream": "stdout",
       "text": [
        " [199732, 100]\n",
        "final p [ 199731.83015742     273.00651135]\n",
        "RV 15071.9606007\n",
        "p_guess"
       ]
      },
      {
       "output_type": "stream",
       "stream": "stdout",
       "text": [
        " [204953, 100]\n",
        "final p [ 204952.98258551     287.87285391]\n",
        "RV 18548.3848253\n",
        "p_guess"
       ]
      },
      {
       "output_type": "stream",
       "stream": "stdout",
       "text": [
        " [203970, 100]\n",
        "final p [ 203969.94477076     319.57012031]\n",
        "RV 19031.726302\n",
        "p_guess"
       ]
      },
      {
       "output_type": "stream",
       "stream": "stdout",
       "text": [
        " [201338, 100]\n",
        "final p [ 201338.11281481     536.56272528]\n",
        "RV -313.6101329\n",
        "p_guess"
       ]
      },
      {
       "output_type": "stream",
       "stream": "stdout",
       "text": [
        " [199734, 100]\n",
        "final p [ 199733.72498038     275.17729129]\n",
        "RV 15128.5157999\n",
        "p_guess"
       ]
      },
      {
       "output_type": "stream",
       "stream": "stdout",
       "text": [
        " [204001, 100]\n",
        "final p [ 204001.27073069     315.84218027]\n",
        "RV -8506.0844521\n",
        "p_guess"
       ]
      },
      {
       "output_type": "stream",
       "stream": "stdout",
       "text": [
        " [203015, 100]\n",
        "final p [ 203015.37675708     350.27466303]\n",
        "RV -8107.68609277\n",
        "p_guess"
       ]
      },
      {
       "output_type": "stream",
       "stream": "stdout",
       "text": [
        " [201304, 100]\n",
        "final p [ 201303.87048973     505.81618099]\n",
        "RV -1311.46055576\n",
        "p_guess"
       ]
      },
      {
       "output_type": "stream",
       "stream": "stdout",
       "text": [
        " [199732, 100]\n",
        "final p [ 199731.74551716     275.23797325]\n",
        "RV 15071.9606007\n",
        "p_guess"
       ]
      },
      {
       "output_type": "stream",
       "stream": "stdout",
       "text": [
        " [204000, 100]\n",
        "final p [ 203999.93899713     315.48804095]\n",
        "RV -8562.98133806\n",
        "p_guess"
       ]
      },
      {
       "output_type": "stream",
       "stream": "stdout",
       "text": [
        " [203015, 100]\n",
        "final p [ 203014.74236904     349.90773231]\n",
        "RV -8136.13411415\n",
        "p_guess"
       ]
      },
      {
       "output_type": "stream",
       "stream": "stdout",
       "text": [
        " [201303, 100]\n",
        "final p [ 201302.67242083     506.66795309]\n",
        "RV -1339.97056785\n",
        "p_guess"
       ]
      },
      {
       "output_type": "stream",
       "stream": "stdout",
       "text": [
        " [199733, 100]\n",
        "final p [ 199733.44085229     275.87587085]\n",
        "RV 15128.5157999\n",
        "p_guess"
       ]
      },
      {
       "output_type": "stream",
       "stream": "stdout",
       "text": [
        " [203999, 100]\n",
        "final p [ 203999.24532235     314.83446394]\n",
        "RV -8562.98133806\n",
        "p_guess"
       ]
      },
      {
       "output_type": "stream",
       "stream": "stdout",
       "text": [
        " [203015, 100]\n",
        "final p [ 203014.98463563     349.54414102]\n",
        "RV -8136.13411415\n",
        "p_guess"
       ]
      },
      {
       "output_type": "stream",
       "stream": "stdout",
       "text": [
        " [201301, 100]\n",
        "final p [ 201301.12273855     508.40975869]\n",
        "RV -1368.48057993\n"
       ]
      }
     ],
     "prompt_number": 317
    },
    {
     "cell_type": "code",
     "collapsed": false,
     "input": [
      "pwd"
     ],
     "language": "python",
     "metadata": {},
     "outputs": [
      {
       "metadata": {},
       "output_type": "pyout",
       "prompt_number": 9,
       "text": [
        "u'/Users/Carlos/Documents/HERMES/reductions/m67_all_4cams/bright_stars'"
       ]
      }
     ],
     "prompt_number": 9
    },
    {
     "cell_type": "code",
     "collapsed": false,
     "input": [
      "#Asteroseismology + isochrones\n",
      "astStar = ast.star()\n",
      "astStar.output = False\n",
      "astStar.load_solar_data()\n",
      "astStar.read_isochrone('M67.iso')\n",
      "# astStar.dMod = 9.60\n",
      "# astStar.isochrone_Temp = 10**(astStar.isochrone_logTemp)\n",
      "# astStar.isochrone_Lumin = 10**(astStar.isochrone_logLumin)\n"
     ],
     "language": "python",
     "metadata": {},
     "outputs": [
      {
       "output_type": "stream",
       "stream": "stdout",
       "text": [
        "Could not open file M67.iso\n",
        "<type 'exceptions.IndexError'>\n"
       ]
      }
     ],
     "prompt_number": 34
    },
    {
     "cell_type": "code",
     "collapsed": false,
     "input": [
      "astStar.isoLumin=1\n",
      "astStar.isoMass=1\n",
      "astStar.isoTemp1=1"
     ],
     "language": "python",
     "metadata": {},
     "outputs": [],
     "prompt_number": 35
    },
    {
     "cell_type": "code",
     "collapsed": false,
     "input": [
      "pwd"
     ],
     "language": "python",
     "metadata": {},
     "outputs": [
      {
       "metadata": {},
       "output_type": "pyout",
       "prompt_number": 43,
       "text": [
        "u'/Users/Carlos/Documents/HERMES/reductions/m67_all_4cams/bright_stars'"
       ]
      }
     ],
     "prompt_number": 43
    },
    {
     "cell_type": "code",
     "collapsed": false,
     "input": [
      "a =np.loadtxt(astStar.isochrone_fileName, usecols=[0, 1, 2, 4, 6, 7])"
     ],
     "language": "python",
     "metadata": {},
     "outputs": [],
     "prompt_number": 51
    },
    {
     "cell_type": "code",
     "collapsed": false,
     "input": [
      "a[0,:]"
     ],
     "language": "python",
     "metadata": {},
     "outputs": [
      {
       "metadata": {},
       "output_type": "pyout",
       "prompt_number": 53,
       "text": [
        "array([  8.      ,   0.102054,   3.4986  ,  -2.8517  ,  15.9014  ,  14.1314  ])"
       ]
      }
     ],
     "prompt_number": 53
    },
    {
     "cell_type": "code",
     "collapsed": false,
     "input": [
      "astStar.populate_stellar_parameters()"
     ],
     "language": "python",
     "metadata": {},
     "outputs": [
      {
       "output_type": "stream",
       "stream": "stdout",
       "text": [
        "Isochrone not loaded. Use <class_name>.read_isochrone().\n"
       ]
      }
     ],
     "prompt_number": 32
    },
    {
     "cell_type": "code",
     "collapsed": false,
     "input": [
      "astStar.solar_A_max"
     ],
     "language": "python",
     "metadata": {},
     "outputs": [
      {
       "metadata": {},
       "output_type": "pyout",
       "prompt_number": 28,
       "text": [
        "0.2"
       ]
      }
     ],
     "prompt_number": 28
    },
    {
     "cell_type": "code",
     "collapsed": false,
     "input": [
      "import numpy as np\n",
      "a = np.loadtxt('m67_girardi.tsv', delimiter = '|', skiprows=60, usecols=[2, 4, 6, 5, 10, 11])"
     ],
     "language": "python",
     "metadata": {},
     "outputs": [
      {
       "ename": "IOError",
       "evalue": "[Errno 2] No such file or directory: 'm67_girardi.tsv'",
       "output_type": "pyerr",
       "traceback": [
        "\u001b[0;31m---------------------------------------------------------------------------\u001b[0m\n\u001b[0;31mIOError\u001b[0m                                   Traceback (most recent call last)",
        "\u001b[0;32m<ipython-input-20-f8d111efbfe6>\u001b[0m in \u001b[0;36m<module>\u001b[0;34m()\u001b[0m\n\u001b[1;32m      1\u001b[0m \u001b[0;32mimport\u001b[0m \u001b[0mnumpy\u001b[0m \u001b[0;32mas\u001b[0m \u001b[0mnp\u001b[0m\u001b[0;34m\u001b[0m\u001b[0m\n\u001b[0;32m----> 2\u001b[0;31m \u001b[0ma\u001b[0m \u001b[0;34m=\u001b[0m \u001b[0mnp\u001b[0m\u001b[0;34m.\u001b[0m\u001b[0mloadtxt\u001b[0m\u001b[0;34m(\u001b[0m\u001b[0;34m'm67_girardi.tsv'\u001b[0m\u001b[0;34m,\u001b[0m \u001b[0mdelimiter\u001b[0m \u001b[0;34m=\u001b[0m \u001b[0;34m'|'\u001b[0m\u001b[0;34m,\u001b[0m \u001b[0mskiprows\u001b[0m\u001b[0;34m=\u001b[0m\u001b[0;36m60\u001b[0m\u001b[0;34m,\u001b[0m \u001b[0musecols\u001b[0m\u001b[0;34m=\u001b[0m\u001b[0;34m[\u001b[0m\u001b[0;36m2\u001b[0m\u001b[0;34m,\u001b[0m \u001b[0;36m4\u001b[0m\u001b[0;34m,\u001b[0m \u001b[0;36m6\u001b[0m\u001b[0;34m,\u001b[0m \u001b[0;36m5\u001b[0m\u001b[0;34m,\u001b[0m \u001b[0;36m10\u001b[0m\u001b[0;34m,\u001b[0m \u001b[0;36m11\u001b[0m\u001b[0;34m]\u001b[0m\u001b[0;34m)\u001b[0m\u001b[0;34m\u001b[0m\u001b[0m\n\u001b[0m",
        "\u001b[0;32m/Users/Carlos/Library/Enthought/Canopy_64bit/User/lib/python2.7/site-packages/numpy-1.8.1-py2.7-macosx-10.6-x86_64.egg/numpy/lib/npyio.pyc\u001b[0m in \u001b[0;36mloadtxt\u001b[0;34m(fname, dtype, comments, delimiter, converters, skiprows, usecols, unpack, ndmin)\u001b[0m\n\u001b[1;32m    732\u001b[0m                 \u001b[0mfh\u001b[0m \u001b[0;34m=\u001b[0m \u001b[0miter\u001b[0m\u001b[0;34m(\u001b[0m\u001b[0mbz2\u001b[0m\u001b[0;34m.\u001b[0m\u001b[0mBZ2File\u001b[0m\u001b[0;34m(\u001b[0m\u001b[0mfname\u001b[0m\u001b[0;34m)\u001b[0m\u001b[0;34m)\u001b[0m\u001b[0;34m\u001b[0m\u001b[0m\n\u001b[1;32m    733\u001b[0m             \u001b[0;32melif\u001b[0m \u001b[0msys\u001b[0m\u001b[0;34m.\u001b[0m\u001b[0mversion_info\u001b[0m\u001b[0;34m[\u001b[0m\u001b[0;36m0\u001b[0m\u001b[0;34m]\u001b[0m \u001b[0;34m==\u001b[0m \u001b[0;36m2\u001b[0m\u001b[0;34m:\u001b[0m\u001b[0;34m\u001b[0m\u001b[0m\n\u001b[0;32m--> 734\u001b[0;31m                 \u001b[0mfh\u001b[0m \u001b[0;34m=\u001b[0m \u001b[0miter\u001b[0m\u001b[0;34m(\u001b[0m\u001b[0mopen\u001b[0m\u001b[0;34m(\u001b[0m\u001b[0mfname\u001b[0m\u001b[0;34m,\u001b[0m \u001b[0;34m'U'\u001b[0m\u001b[0;34m)\u001b[0m\u001b[0;34m)\u001b[0m\u001b[0;34m\u001b[0m\u001b[0m\n\u001b[0m\u001b[1;32m    735\u001b[0m             \u001b[0;32melse\u001b[0m\u001b[0;34m:\u001b[0m\u001b[0;34m\u001b[0m\u001b[0m\n\u001b[1;32m    736\u001b[0m                 \u001b[0mfh\u001b[0m \u001b[0;34m=\u001b[0m \u001b[0miter\u001b[0m\u001b[0;34m(\u001b[0m\u001b[0mopen\u001b[0m\u001b[0;34m(\u001b[0m\u001b[0mfname\u001b[0m\u001b[0;34m)\u001b[0m\u001b[0;34m)\u001b[0m\u001b[0;34m\u001b[0m\u001b[0m\n",
        "\u001b[0;31mIOError\u001b[0m: [Errno 2] No such file or directory: 'm67_girardi.tsv'"
       ]
      }
     ],
     "prompt_number": 20
    },
    {
     "cell_type": "code",
     "collapsed": false,
     "input": [
      "a = a[a[:,0]==4.47e9]"
     ],
     "language": "python",
     "metadata": {},
     "outputs": [],
     "prompt_number": 17
    },
    {
     "cell_type": "code",
     "collapsed": false,
     "input": [
      "plt.plot(astStar.isochrone_VMag)\n",
      "plt.show()"
     ],
     "language": "python",
     "metadata": {},
     "outputs": [],
     "prompt_number": 13
    },
    {
     "cell_type": "code",
     "collapsed": false,
     "input": [
      "#plot CMD\n",
      "MSIdx = np.where((data[:,3].astype(float)>13) & (data[:,3].astype(float)<15))[0]\n",
      "giantsIdx = np.where(((data[:,3].astype(float)<12.5) & (data[:,2].astype(float)>0.8) & (data[:,2].astype(float)<1.9)))[0]\n",
      "numObs = np.average(data[:,5].astype(int))\n",
      "HRObs = np.sum(data[:,4].astype(bool))\n",
      "\n",
      "colorMap= np.ones((data.shape[0],3))*0.3\n",
      "colorMap[MSIdx,1]=1\n",
      "colorMap[MSIdx,0]=0\n",
      "colorMap[MSIdx,2]=0\n",
      "colorMap[giantsIdx,0]=1\n",
      "colorMap[giantsIdx,1]=0\n",
      "colorMap[giantsIdx,2]=0\n",
      "plt.axis((-0.5,2,18,9))\n",
      "plt.ylabel('V [mag]')\n",
      "plt.xlabel('B-V [mag]')\n",
      "plt.title('M67 Targeted Stars')\n",
      "plt.scatter(data[:,2],data[:,3], c = 'k')\n",
      "plt.scatter(data[giantsIdx,2],data[giantsIdx,3], c = 'r', label = 'Asteroseismology')\n",
      "plt.scatter(data[MSIdx,2],data[MSIdx,3], c = 'yellow', label = 'Exoplanets')\n",
      "plt.plot([-1,2],[15.2,15.2], c='g', linewidth =3)\n",
      "plt.plot([-1,2],[9.3,9.3], c='g', linewidth =3)\n",
      "start = 190*6\n",
      "# plt.plot(astStar.isochrone_BMag[start:start+130]-astStar.isochrone_VMag[start:start+130]-0.071, astStar.isochrone_VMag[start:start+130]+astStar.dMod-0.3, label='4.47 Gyr isochrone', color = 'y', linewidth = 2)    \n",
      "plt.legend(loc=3)\n",
      "plt.show()"
     ],
     "language": "python",
     "metadata": {},
     "outputs": [],
     "prompt_number": 50
    },
    {
     "cell_type": "code",
     "collapsed": false,
     "input": [
      "for mass in np.arange(1.3, 1.5, 0.0001):\n",
      "    astStar.mass = mass\n",
      "    astStar.populate_stellar_parameters()\n",
      "    astStar.calculate_A_max()\n",
      "    print mass, astStar.A_max"
     ],
     "language": "python",
     "metadata": {},
     "outputs": [
      {
       "ename": "NameError",
       "evalue": "name 'astStar' is not defined",
       "output_type": "pyerr",
       "traceback": [
        "\u001b[0;31m---------------------------------------------------------------------------\u001b[0m\n\u001b[0;31mNameError\u001b[0m                                 Traceback (most recent call last)",
        "\u001b[0;32m<ipython-input-19-7245be570164>\u001b[0m in \u001b[0;36m<module>\u001b[0;34m()\u001b[0m\n\u001b[1;32m      1\u001b[0m \u001b[0;32mfor\u001b[0m \u001b[0mmass\u001b[0m \u001b[0;32min\u001b[0m \u001b[0mnp\u001b[0m\u001b[0;34m.\u001b[0m\u001b[0marange\u001b[0m\u001b[0;34m(\u001b[0m\u001b[0;36m1.3\u001b[0m\u001b[0;34m,\u001b[0m \u001b[0;36m1.5\u001b[0m\u001b[0;34m,\u001b[0m \u001b[0;36m0.0001\u001b[0m\u001b[0;34m)\u001b[0m\u001b[0;34m:\u001b[0m\u001b[0;34m\u001b[0m\u001b[0m\n\u001b[0;32m----> 2\u001b[0;31m     \u001b[0mastStar\u001b[0m\u001b[0;34m.\u001b[0m\u001b[0mmass\u001b[0m \u001b[0;34m=\u001b[0m \u001b[0mmass\u001b[0m\u001b[0;34m\u001b[0m\u001b[0m\n\u001b[0m\u001b[1;32m      3\u001b[0m     \u001b[0mastStar\u001b[0m\u001b[0;34m.\u001b[0m\u001b[0mpopulate_stellar_parameters\u001b[0m\u001b[0;34m(\u001b[0m\u001b[0;34m)\u001b[0m\u001b[0;34m\u001b[0m\u001b[0m\n\u001b[1;32m      4\u001b[0m     \u001b[0mastStar\u001b[0m\u001b[0;34m.\u001b[0m\u001b[0mcalculate_A_max\u001b[0m\u001b[0;34m(\u001b[0m\u001b[0;34m)\u001b[0m\u001b[0;34m\u001b[0m\u001b[0m\n\u001b[1;32m      5\u001b[0m     \u001b[0;32mprint\u001b[0m \u001b[0mmass\u001b[0m\u001b[0;34m,\u001b[0m \u001b[0mastStar\u001b[0m\u001b[0;34m.\u001b[0m\u001b[0mA_max\u001b[0m\u001b[0;34m\u001b[0m\u001b[0m\n",
        "\u001b[0;31mNameError\u001b[0m: name 'astStar' is not defined"
       ]
      }
     ],
     "prompt_number": 19
    },
    {
     "cell_type": "code",
     "collapsed": false,
     "input": [
      "# RV vs. JD (x 4 channels) + baryVel\n",
      "filehandler = open('M67-S125.obj', 'r') \n",
      "thisStar = pickle.load(filehandler) \n",
      "\n",
      "plt.title(thisStar.name+' V='+str(thisStar.V))\n",
      "plt.ylabel('dRV [km/s]')\n",
      "plt.xlabel('JD')\n",
      "plt.scatter(thisStar.exposures.JDs, np.array(thisStar.exposures.cam1_RVs.RVs)/1000, color = 'b', label ='Blue')\n",
      "plt.scatter(thisStar.exposures.JDs, np.array(thisStar.exposures.cam2_RVs.RVs)/1000, color = 'g', label ='Green')\n",
      "plt.scatter(thisStar.exposures.JDs, np.array(thisStar.exposures.cam3_RVs.RVs)/1000, color = 'r', label ='Red')\n",
      "plt.scatter(thisStar.exposures.JDs, np.array(thisStar.exposures.cam4_RVs.RVs)/1000, color = 'cyan', label ='IR')\n",
      "plt.plot(thisStar.exposures.JDs, np.array(thisStar.baryVels)/1000, label = 'Barycentric Vel.')\n",
      "\n",
      "plt.legend(loc=0)\n",
      "plt.show()"
     ],
     "language": "python",
     "metadata": {},
     "outputs": [],
     "prompt_number": 157
    },
    {
     "cell_type": "code",
     "collapsed": false,
     "input": [
      "thisStar.exposures.JDs.shape"
     ],
     "language": "python",
     "metadata": {},
     "outputs": [
      {
       "metadata": {},
       "output_type": "pyout",
       "prompt_number": 134,
       "text": [
        "(11,)"
       ]
      }
     ],
     "prompt_number": 134
    },
    {
     "cell_type": "code",
     "collapsed": false,
     "input": [],
     "language": "python",
     "metadata": {},
     "outputs": []
    },
    {
     "cell_type": "code",
     "collapsed": false,
     "input": [
      "pwd"
     ],
     "language": "python",
     "metadata": {},
     "outputs": [
      {
       "metadata": {},
       "output_type": "pyout",
       "prompt_number": 147,
       "text": [
        "u'/Users/Carlos/Documents/HERMES/reductions/m67_all_4cams/xdef_1000'"
       ]
      }
     ],
     "prompt_number": 147
    },
    {
     "cell_type": "code",
     "collapsed": false,
     "input": [
      "# RV vs. JD (x 4 channels) + baryVel\n",
      "#multiplot with \n",
      "filehandler = open('M67-S49.obj', 'r') \n",
      "thisStar = pickle.load(filehandler) \n",
      "\n",
      "plt.subplot(211)\n",
      "plt.title(thisStar.name+' V='+str(thisStar.V))\n",
      "plt.ylabel('dRV [km/s]')\n",
      "plt.xlabel('JD')\n",
      "plt.scatter(thisStar.exposures.JDs, np.array(thisStar.exposures.cam1_RVs.RVs)/1000, color = 'b', label ='Blue')\n",
      "plt.scatter(thisStar.exposures.JDs, np.array(thisStar.exposures.cam2_RVs.RVs)/1000, color = 'g', label ='Green')\n",
      "plt.scatter(thisStar.exposures.JDs, np.array(thisStar.exposures.cam3_RVs.RVs)/1000, color = 'r', label ='Red')\n",
      "plt.scatter(thisStar.exposures.JDs, np.array(thisStar.exposures.cam4_RVs.RVs)/1000, color = 'cyan', label ='IR')\n",
      "plt.plot(thisStar.exposures.JDs, np.array(thisStar.baryVels)/1000, label = 'Barycentric Vel.')\n",
      "plt.legend(loc=0)\n",
      "# plt.tight_layout()\n",
      "plt.subplot(223)\n",
      "plt.title('Reduced Flux')\n",
      "plt.ylabel('Flux')\n",
      "plt.xlabel('Wavelength (Ang)')\n",
      "for lam, flux, fileName in zip(thisStar.exposures.cam3_wavelengths,thisStar.exposures.cam3_fluxes, thisStar.exposures.cam3_fileNames):\n",
      "    plt.plot(lam[::10],flux[::10], label = fileName)\n",
      "# plt.legend(loc=0,prop={'size':6})\n",
      "\n",
      "plt.subplot(224)\n",
      "plt.title('Raw flux')\n",
      "plt.ylabel('Flux')\n",
      "plt.xlabel('Pixels')\n",
      "for lam, flux, fileName in zip(thisStar.exposures.cam3_wavelengths,thisStar.exposures.cam3_raw_fluxes, thisStar.exposures.cam3_fileNames):\n",
      "    plt.plot(flux[::10], label = fileName)\n",
      "# plt.legend(loc=0,prop={'size':6})\n",
      "\n",
      "plt.show()"
     ],
     "language": "python",
     "metadata": {},
     "outputs": [],
     "prompt_number": 150
    },
    {
     "cell_type": "code",
     "collapsed": false,
     "input": [
      "np.max(thisStar.exposures.JDs)-np.min(thisStar.exposures.JDs)"
     ],
     "language": "python",
     "metadata": {},
     "outputs": [
      {
       "metadata": {},
       "output_type": "pyout",
       "prompt_number": 144,
       "text": [
        "2.09783397459978"
       ]
      }
     ],
     "prompt_number": 144
    },
    {
     "cell_type": "code",
     "collapsed": false,
     "input": [
      "thisStar.exposures."
     ],
     "language": "python",
     "metadata": {},
     "outputs": []
    },
    {
     "cell_type": "code",
     "collapsed": false,
     "input": [
      "fileList = glob.glob('/Users/Carlos/Documents/HERMES/reductions/m67_all_4cams/*.obj')\n",
      "print len(fileList)\n",
      "for i in fileList:\n",
      "    filehandler = open(i, 'r') \n",
      "    thisStar = pickle.load(filehandler) \n",
      "    filehandler.close\n",
      "    if np.unique(thisStar.exposures.plates).shape[0]==1:\n",
      "        if np.unique(thisStar.exposures.pivots).shape[0]==1:\n",
      "            if np.sum(thisStar.exposures.HRs)==0:\n",
      "                print thisStar.name, thisStar.Vmag, thisStar.exposures.JDs.shape[0]\n"
     ],
     "language": "python",
     "metadata": {},
     "outputs": [
      {
       "output_type": "stream",
       "stream": "stdout",
       "text": [
        "276\n",
        "M67-424"
       ]
      },
      {
       "output_type": "stream",
       "stream": "stdout",
       "text": [
        " 14.622 16\n",
        "M67-429"
       ]
      },
      {
       "output_type": "stream",
       "stream": "stdout",
       "text": [
        " 16.69 10\n",
        "M67-432"
       ]
      },
      {
       "output_type": "stream",
       "stream": "stdout",
       "text": [
        " 15.891 16\n",
        "M67-457"
       ]
      },
      {
       "output_type": "stream",
       "stream": "stdout",
       "text": [
        " 15.837 16\n",
        "M67-481"
       ]
      },
      {
       "output_type": "stream",
       "stream": "stdout",
       "text": [
        " 15.164 4\n",
        "M67-506"
       ]
      },
      {
       "output_type": "stream",
       "stream": "stdout",
       "text": [
        " 14.109 12\n",
        "M67-512"
       ]
      },
      {
       "output_type": "stream",
       "stream": "stdout",
       "text": [
        " 15.656 4\n",
        "M67-524"
       ]
      },
      {
       "output_type": "stream",
       "stream": "stdout",
       "text": [
        " 17.72 10\n",
        "M67-525"
       ]
      },
      {
       "output_type": "stream",
       "stream": "stdout",
       "text": [
        " 16.36 10\n",
        "M67-538"
       ]
      },
      {
       "output_type": "stream",
       "stream": "stdout",
       "text": [
        " 14.679 12\n",
        "M67-539"
       ]
      },
      {
       "output_type": "stream",
       "stream": "stdout",
       "text": [
        " 14.307 16\n",
        "M67-546"
       ]
      },
      {
       "output_type": "stream",
       "stream": "stdout",
       "text": [
        " 15.272 12\n",
        "M67-557"
       ]
      },
      {
       "output_type": "stream",
       "stream": "stdout",
       "text": [
        " 14.327 16\n",
        "M67-560"
       ]
      },
      {
       "output_type": "stream",
       "stream": "stdout",
       "text": [
        " 15.038 12\n",
        "M67-580"
       ]
      },
      {
       "output_type": "stream",
       "stream": "stdout",
       "text": [
        " 14.735 16\n",
        "M67-F-117"
       ]
      },
      {
       "output_type": "stream",
       "stream": "stdout",
       "text": [
        " 12.58 11\n",
        "M67-I-198"
       ]
      },
      {
       "output_type": "stream",
       "stream": "stdout",
       "text": [
        " 13.141 13\n",
        "M67-I-242ble"
       ]
      },
      {
       "output_type": "stream",
       "stream": "stdout",
       "text": [
        " 11.06 11\n",
        "M67-S116"
       ]
      },
      {
       "output_type": "stream",
       "stream": "stdout",
       "text": [
        " 13.075 13\n",
        "M67-S16"
       ]
      },
      {
       "output_type": "stream",
       "stream": "stdout",
       "text": [
        " 13.063 13\n",
        "M67-S174"
       ]
      },
      {
       "output_type": "stream",
       "stream": "stdout",
       "text": [
        " 14.137 16\n",
        "M67-S175 16.15 10\n",
        "M67-S200"
       ]
      },
      {
       "output_type": "stream",
       "stream": "stdout",
       "text": [
        " 14.965 16\n",
        "M67-S203"
       ]
      },
      {
       "output_type": "stream",
       "stream": "stdout",
       "text": [
        " 14.549 16\n",
        "M67-S210"
       ]
      },
      {
       "output_type": "stream",
       "stream": "stdout",
       "text": [
        " 16.4 10\n",
        "M67-S214"
       ]
      },
      {
       "output_type": "stream",
       "stream": "stdout",
       "text": [
        " 15.364 16\n",
        "M67-S218"
       ]
      },
      {
       "output_type": "stream",
       "stream": "stdout",
       "text": [
        " 14.749 16\n",
        "M67-S232"
       ]
      },
      {
       "output_type": "stream",
       "stream": "stdout",
       "text": [
        " 14.129 4\n",
        "M67-S241"
       ]
      },
      {
       "output_type": "stream",
       "stream": "stdout",
       "text": [
        " 14.118 4\n",
        "M67-S247"
       ]
      },
      {
       "output_type": "stream",
       "stream": "stdout",
       "text": [
        " 15.278 4\n",
        "M67-S248 15.706 4\n",
        "M67-S267"
       ]
      },
      {
       "output_type": "stream",
       "stream": "stdout",
       "text": [
        " 15.73 12\n",
        "M67-S27"
       ]
      },
      {
       "output_type": "stream",
       "stream": "stdout",
       "text": [
        " 13.182 13\n",
        "M67-S272"
       ]
      },
      {
       "output_type": "stream",
       "stream": "stdout",
       "text": [
        " 15.391 16\n",
        "M67-S279"
       ]
      },
      {
       "output_type": "stream",
       "stream": "stdout",
       "text": [
        " 14.561 16\n",
        "M67-S29"
       ]
      },
      {
       "output_type": "stream",
       "stream": "stdout",
       "text": [
        " 13.28 13\n",
        "M67-S293"
       ]
      },
      {
       "output_type": "stream",
       "stream": "stdout",
       "text": [
        " 16.64 10\n",
        "M67-S297"
       ]
      },
      {
       "output_type": "stream",
       "stream": "stdout",
       "text": [
        " 14.338 4\n",
        "M67-S299"
       ]
      },
      {
       "output_type": "stream",
       "stream": "stdout",
       "text": [
        " 15.898 16\n",
        "M67-S317"
       ]
      },
      {
       "output_type": "stream",
       "stream": "stdout",
       "text": [
        " 15.277 4\n",
        "M67-S318"
       ]
      },
      {
       "output_type": "stream",
       "stream": "stdout",
       "text": [
        " 14.009 12\n",
        "M67-S341"
       ]
      },
      {
       "output_type": "stream",
       "stream": "stdout",
       "text": [
        " 14.345 16\n",
        "M67-S342 15.237 4\n",
        "M67-S345"
       ]
      },
      {
       "output_type": "stream",
       "stream": "stdout",
       "text": [
        " 16.5 10\n",
        "M67-S457"
       ]
      },
      {
       "output_type": "stream",
       "stream": "stdout",
       "text": [
        " 16.38 10\n",
        "M67-S484"
       ]
      },
      {
       "output_type": "stream",
       "stream": "stdout",
       "text": [
        " 14.643 16\n",
        "M67-S49"
       ]
      },
      {
       "output_type": "stream",
       "stream": "stdout",
       "text": [
        " 12.61 11\n",
        "M67-S496"
       ]
      },
      {
       "output_type": "stream",
       "stream": "stdout",
       "text": [
        " 15.334 16\n",
        "M67-S516"
       ]
      },
      {
       "output_type": "stream",
       "stream": "stdout",
       "text": [
        " 14.246 4\n",
        "M67-S523"
       ]
      },
      {
       "output_type": "stream",
       "stream": "stdout",
       "text": [
        " 15.74 12\n",
        "M67-S526"
       ]
      },
      {
       "output_type": "stream",
       "stream": "stdout",
       "text": [
        " 14.149 4\n",
        "M67-S529"
       ]
      },
      {
       "output_type": "stream",
       "stream": "stdout",
       "text": [
        " 13.586 13\n",
        "M67-S538"
       ]
      },
      {
       "output_type": "stream",
       "stream": "stdout",
       "text": [
        " 14.145 4\n",
        "M67-S560"
       ]
      },
      {
       "output_type": "stream",
       "stream": "stdout",
       "text": [
        " 15.553 16\n",
        "M67-S565"
       ]
      },
      {
       "output_type": "stream",
       "stream": "stdout",
       "text": [
        " 15.764 16\n",
        "M67-S572"
       ]
      },
      {
       "output_type": "stream",
       "stream": "stdout",
       "text": [
        " 15.711 4\n",
        "M67-S581"
       ]
      },
      {
       "output_type": "stream",
       "stream": "stdout",
       "text": [
        " 14.941 12\n",
        "M67-S591"
       ]
      },
      {
       "output_type": "stream",
       "stream": "stdout",
       "text": [
        " 14.407 16\n",
        "M67-S607"
       ]
      },
      {
       "output_type": "stream",
       "stream": "stdout",
       "text": [
        " 15.731 12\n",
        "M67-S617"
       ]
      },
      {
       "output_type": "stream",
       "stream": "stdout",
       "text": [
        " 15.896 16\n",
        "M67-S626"
       ]
      },
      {
       "output_type": "stream",
       "stream": "stdout",
       "text": [
        " 15.648 4\n",
        "M67-S632"
       ]
      },
      {
       "output_type": "stream",
       "stream": "stdout",
       "text": [
        " 16.91 10\n",
        "M67-S642"
       ]
      },
      {
       "output_type": "stream",
       "stream": "stdout",
       "text": [
        " 15.265 12\n",
        "M67-S65"
       ]
      },
      {
       "output_type": "stream",
       "stream": "stdout",
       "text": [
        " 13.254 13\n",
        "M67-S654"
       ]
      },
      {
       "output_type": "stream",
       "stream": "stdout",
       "text": [
        " 14.769 16\n",
        "M67-S69"
       ]
      },
      {
       "output_type": "stream",
       "stream": "stdout",
       "text": [
        " 13.376 13\n",
        "M67-S7"
       ]
      },
      {
       "output_type": "stream",
       "stream": "stdout",
       "text": [
        " 13.181 13\n",
        "M67-S76"
       ]
      },
      {
       "output_type": "stream",
       "stream": "stdout",
       "text": [
        " 13.358 13\n"
       ]
      }
     ],
     "prompt_number": 4
    },
    {
     "cell_type": "code",
     "collapsed": false,
     "input": [
      "#raw fluxes\n",
      "plt.title(thisStar.name+' V='+str(thisStar.V)+' Raw Fluxes')\n",
      "\n",
      "plt.ylabel('Flux')\n",
      "plt.xlabel('Pixels')\n",
      "for lam, flux, fileName in zip(thisStar.exposures.cam3_wavelengths,thisStar.exposures.cam3_raw_fluxes, thisStar.exposures.JDs-np.min(thisStar.exposures.JDs)):\n",
      "    plt.plot(flux[::10], label = fileName)\n",
      "\n",
      "plt.show()"
     ],
     "language": "python",
     "metadata": {},
     "outputs": [
      {
       "output_type": "stream",
       "stream": "stdout",
       "text": [
        "['Plate 0', 'Plate 0', 'Plate 0', 'Plate 1', 'Plate 1', 'Plate 1', 'Plate 1', 'Plate 0', 'Plate 0', 'Plate 0', 'Plate 0', 'Plate 0', 'Plate 0', 'Plate 1', 'Plate 1', 'Plate 1', 'Plate 1', 'Plate 1', 'Plate 1', 'Plate 1', 'Plate 1', 'Plate 1', 'Plate 1', 'Plate 1', 'Plate 1', 'Plate 1', 'Plate 1', 'Plate 1', 'Plate 1', 'Plate 0', 'Plate 0', 'Plate 0', 'Plate 1', 'Plate 1', 'Plate 1', 'Plate 1', 'Plate 0', 'Plate 0', 'Plate 0', 'Plate 0', 'Plate 0', 'Plate 0', 'Plate 1', 'Plate 1', 'Plate 1', 'Plate 1', 'Plate 1', 'Plate 1', 'Plate 1', 'Plate 1', 'Plate 1', 'Plate 1', 'Plate 1', 'Plate 1', 'Plate 1', 'Plate 1', 'Plate 1', 'Plate 1', 'Plate 0', 'Plate 0', 'Plate 0', 'Plate 1', 'Plate 1', 'Plate 1', 'Plate 1', 'Plate 0', 'Plate 0', 'Plate 0', 'Plate 0', 'Plate 0', 'Plate 0', 'Plate 1', 'Plate 1', 'Plate 1', 'Plate 1', 'Plate 1', 'Plate 1', 'Plate 1', 'Plate 1', 'Plate 1', 'Plate 1', 'Plate 1', 'Plate 1', 'Plate 1', 'Plate 1', 'Plate 1', 'Plate 1', 'Plate 0', 'Plate 0', 'Plate 0', 'Plate 1', 'Plate 1', 'Plate 1', 'Plate 1', 'Plate 0', 'Plate 0', 'Plate 0', 'Plate 0', 'Plate 0', 'Plate 0', 'Plate 1', 'Plate 1', 'Plate 1', 'Plate 1', 'Plate 1', 'Plate 1', 'Plate 1', 'Plate 1', 'Plate 1', 'Plate 1', 'Plate 1', 'Plate 1', 'Plate 1', 'Plate 1', 'Plate 1', 'Plate 1']\n"
       ]
      }
     ],
     "prompt_number": 77
    },
    {
     "cell_type": "code",
     "collapsed": false,
     "input": [
      "print np.std(thisStar.exposures.cam1_RVs.RVs)/1000,\n",
      "print np.std(thisStar.exposures.cam2_RVs.RVs)/1000,\n",
      "print np.std(thisStar.exposures.cam3_RVs.RVs)/1000,\n",
      "print np.std(thisStar.exposures.cam4_RVs.RVs)/1000"
     ],
     "language": "python",
     "metadata": {},
     "outputs": [
      {
       "output_type": "stream",
       "stream": "stdout",
       "text": [
        "470.057408014 71.8320290208 919.262620839 1628.47098516\n"
       ]
      }
     ],
     "prompt_number": 154
    },
    {
     "cell_type": "code",
     "collapsed": false,
     "input": [
      "np.reshape(thisStar.exposures.JDs,))"
     ],
     "language": "python",
     "metadata": {},
     "outputs": [
      {
       "ename": "ValueError",
       "evalue": "total size of new array must be unchanged",
       "output_type": "pyerr",
       "traceback": [
        "\u001b[0;31m---------------------------------------------------------------------------\u001b[0m\n\u001b[0;31mValueError\u001b[0m                                Traceback (most recent call last)",
        "\u001b[0;32m<ipython-input-61-2a75094e0b26>\u001b[0m in \u001b[0;36m<module>\u001b[0;34m()\u001b[0m\n\u001b[0;32m----> 1\u001b[0;31m \u001b[0mnp\u001b[0m\u001b[0;34m.\u001b[0m\u001b[0mreshape\u001b[0m\u001b[0;34m(\u001b[0m\u001b[0mthisStar\u001b[0m\u001b[0;34m.\u001b[0m\u001b[0mexposures\u001b[0m\u001b[0;34m.\u001b[0m\u001b[0mJDs\u001b[0m\u001b[0;34m,\u001b[0m\u001b[0;34m(\u001b[0m\u001b[0;36m5\u001b[0m\u001b[0;34m,\u001b[0m\u001b[0;34m-\u001b[0m\u001b[0;36m1\u001b[0m\u001b[0;34m)\u001b[0m\u001b[0;34m)\u001b[0m\u001b[0;34m\u001b[0m\u001b[0m\n\u001b[0m",
        "\u001b[0;32m/opt/local/Library/Frameworks/Python.framework/Versions/2.7/lib/python2.7/site-packages/numpy/core/fromnumeric.pyc\u001b[0m in \u001b[0;36mreshape\u001b[0;34m(a, newshape, order)\u001b[0m\n\u001b[1;32m    169\u001b[0m     \u001b[0;32mexcept\u001b[0m \u001b[0mAttributeError\u001b[0m\u001b[0;34m:\u001b[0m\u001b[0;34m\u001b[0m\u001b[0m\n\u001b[1;32m    170\u001b[0m         \u001b[0;32mreturn\u001b[0m \u001b[0m_wrapit\u001b[0m\u001b[0;34m(\u001b[0m\u001b[0ma\u001b[0m\u001b[0;34m,\u001b[0m \u001b[0;34m'reshape'\u001b[0m\u001b[0;34m,\u001b[0m \u001b[0mnewshape\u001b[0m\u001b[0;34m,\u001b[0m \u001b[0morder\u001b[0m\u001b[0;34m=\u001b[0m\u001b[0morder\u001b[0m\u001b[0;34m)\u001b[0m\u001b[0;34m\u001b[0m\u001b[0m\n\u001b[0;32m--> 171\u001b[0;31m     \u001b[0;32mreturn\u001b[0m \u001b[0mreshape\u001b[0m\u001b[0;34m(\u001b[0m\u001b[0mnewshape\u001b[0m\u001b[0;34m,\u001b[0m \u001b[0morder\u001b[0m\u001b[0;34m=\u001b[0m\u001b[0morder\u001b[0m\u001b[0;34m)\u001b[0m\u001b[0;34m\u001b[0m\u001b[0m\n\u001b[0m\u001b[1;32m    172\u001b[0m \u001b[0;34m\u001b[0m\u001b[0m\n\u001b[1;32m    173\u001b[0m \u001b[0;34m\u001b[0m\u001b[0m\n",
        "\u001b[0;31mValueError\u001b[0m: total size of new array must be unchanged"
       ]
      }
     ],
     "prompt_number": 61
    },
    {
     "cell_type": "code",
     "collapsed": false,
     "input": [
      "#fllux vs wavelength (x 4 channels) + atm absorption\n",
      "filehandler = open('M67-375.obj', 'r') \n",
      "thisStar = pickle.load(filehandler) \n",
      "\n",
      "plt.plot(thisStar.exposures.cam1_wavelengths[0], thisStar.exposures.cam1_fluxes[0]/np.median(thisStar.exposures.cam1_fluxes[0]) , color = 'b')\n",
      "plt.plot(thisStar.exposures.cam2_wavelengths[0], thisStar.exposures.cam2_fluxes[0]/np.median(thisStar.exposures.cam2_fluxes[0]) , color = 'g')\n",
      "plt.plot(thisStar.exposures.cam3_wavelengths[0], thisStar.exposures.cam3_fluxes[0]/np.median(thisStar.exposures.cam3_fluxes[0]) , color = 'r')\n",
      "plt.plot(thisStar.exposures.cam4_wavelengths[0], thisStar.exposures.cam4_fluxes[0]/np.median(thisStar.exposures.cam4_fluxes[0]) , color = 'cyan')\n",
      "# plt.plot(sky2X, sky2Y, color = 'grey')\n",
      "plt.show()"
     ],
     "language": "python",
     "metadata": {},
     "outputs": [],
     "prompt_number": 401
    },
    {
     "cell_type": "code",
     "collapsed": false,
     "input": [
      "# Bins over time within definable gap) and creates errorbars\n",
      "tGap = 0.02 #size of the bin (days) i.e. how long until it is considered the next data point\n",
      "for i in allStarNames[100:110]:\n",
      "    \n",
      "    filehandler = open(i.strip()+'.obj', 'r') \n",
      "    thisStar = pickle.load(filehandler) \n",
      "    \n",
      "    groupIndex = np.ones(len(thisStar.exposures.JDs))\n",
      "    for i in range(len(thisStar.exposures.JDs[:-1])):\n",
      "        if np.abs(thisStar.exposures.JDs[i+1]-thisStar.exposures.JDs[i])>tGap:\n",
      "            groupIndex[i+1] = 0\n",
      "            \n",
      "    meanRVs = []\n",
      "    sigRV = []\n",
      "    meanJDs = []\n",
      "    meanBary = []\n",
      "    lastI = 0\n",
      "    for i in range(len(groupIndex)):\n",
      "        if groupIndex[i]==0:\n",
      "            meanRVs.append(np.mean(thisStar.exposures.RVs.RVs[lastI:i+1]))\n",
      "            sigRV.append(np.std(thisStar.exposures.RVs.RVs[lastI:i+1]))\n",
      "            thisMeanJD = np.min(thisStar.exposures.JDs[lastI:i+1])\n",
      "            meanJDs.append(thisMeanJD)\n",
      "            meanBary.append(thisStar.baryVels[lastI])\n",
      "            lastI = i+1\n",
      "            \n",
      "            \n",
      "    # plt.scatter(thisStar.exposures.JDs, np.array(thisStar.exposures.RVs.RVs)/1000, color = 'r')\n",
      "    # plt.plot(thisStar.exposures.JDs, np.array(thisStar.baryVels)/1000, color = 'r')\n",
      "    \n",
      "#     plt.scatter(thisStar.exposures.JDs, (np.array(thisStar.baryVels)-np.array(thisStar.exposures.RVs.RVs)), color = 'r')    \n",
      "    # plt.errorbar(RV.JD, RV.cleanRV, yerr = RV.dRV ,fmt='o', label = target + '(' + str(RV.magList[0]) + ') Clean RV')\n",
      "    plt.errorbar(meanJDs, (np.array(meanRVs)-np.array(meanBary)), yerr = np.array(sigRV),fmt='o', color = 'g')    \n",
      "    # plt.plot(meanJDs, np.array(meanBary)/1000, color = 'g')\n",
      "    plt.title(thisStar.name)\n",
      "    plt.ylabel('RV [m/s]')\n",
      "    plt.xlabel('JD')\n",
      "    #     plt.axis([np.min(i.exposures.JDs),np.max(i.exposures.JDs), np.mean((np.array(i.baryVels)-np.array(i.RVs))/1000)-5, np.mean((np.array(i.baryVels)-np.array(i.RVs))/1000)+5])\n",
      "    #     plt.legend()\n",
      "#     plt.savefig(thisStar.name)\n",
      "#     plt.close()\n",
      "    plt.show()"
     ],
     "language": "python",
     "metadata": {},
     "outputs": []
    },
    {
     "cell_type": "code",
     "collapsed": false,
     "input": [
      "filehandler = open('M67-S125.obj', 'r') \n",
      "thisStar = pickle.load(filehandler) \n"
     ],
     "language": "python",
     "metadata": {},
     "outputs": [],
     "prompt_number": 5
    },
    {
     "cell_type": "code",
     "collapsed": false,
     "input": [
      "thisStar."
     ],
     "language": "python",
     "metadata": {},
     "outputs": []
    }
   ],
   "metadata": {}
  }
 ]
}