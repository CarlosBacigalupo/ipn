{
 "metadata": {
  "name": "",
  "signature": "sha256:38d7208f3a59de3879a3e2b0c342133b013f1c51c6ad8d450499acdeb13d9b96"
 },
 "nbformat": 3,
 "nbformat_minor": 0,
 "worksheets": [
  {
   "cells": [
    {
     "cell_type": "code",
     "collapsed": false,
     "input": [
      "import numpy as np\n",
      "import pandas as pd"
     ],
     "language": "python",
     "metadata": {},
     "outputs": []
    },
    {
     "cell_type": "code",
     "collapsed": false,
     "input": [
      "def f1(x):\n",
      "    return '%5.2f' % x"
     ],
     "language": "python",
     "metadata": {},
     "outputs": []
    },
    {
     "cell_type": "heading",
     "level": 3,
     "metadata": {},
     "source": [
      "47tuc"
     ]
    },
    {
     "cell_type": "code",
     "collapsed": false,
     "input": [
      "cd ~/Documents/HERMES/reductions/47Tuc_core_6.2/npy"
     ],
     "language": "python",
     "metadata": {},
     "outputs": []
    },
    {
     "cell_type": "code",
     "collapsed": false,
     "input": [
      "cd ~/Documents/HERMES/reductions/47Tuc_core_6.2/npy_150509/"
     ],
     "language": "python",
     "metadata": {},
     "outputs": []
    },
    {
     "cell_type": "code",
     "collapsed": false,
     "input": [
      "cd ~/Documents/HERMES/reductions/47Tuc_core_1arc_6.2/npy/"
     ],
     "language": "python",
     "metadata": {},
     "outputs": []
    },
    {
     "cell_type": "code",
     "collapsed": false,
     "input": [
      "cd ~/Documents/HERMES/reductions/47Tuc_core_1arc_6.2/npy_150509/"
     ],
     "language": "python",
     "metadata": {},
     "outputs": []
    },
    {
     "cell_type": "heading",
     "level": 3,
     "metadata": {},
     "source": [
      "HD1581"
     ]
    },
    {
     "cell_type": "code",
     "collapsed": false,
     "input": [
      "cd ~/Documents/HERMES/reductions/HD1581_6.2/npy/"
     ],
     "language": "python",
     "metadata": {},
     "outputs": []
    },
    {
     "cell_type": "heading",
     "level": 3,
     "metadata": {},
     "source": [
      "HD285507"
     ]
    },
    {
     "cell_type": "code",
     "collapsed": false,
     "input": [
      "cd ~/Documents/HERMES/reductions/HD285507_6.2/npy_150509/"
     ],
     "language": "python",
     "metadata": {},
     "outputs": []
    },
    {
     "cell_type": "code",
     "collapsed": false,
     "input": [
      "cd ~/Documents/HERMES/reductions/HD285507_6.2/npy/"
     ],
     "language": "python",
     "metadata": {},
     "outputs": []
    },
    {
     "cell_type": "code",
     "collapsed": false,
     "input": [
      "cd ~/Documents/HERMES/reductions/HD285507_1arc_6.2/npy_150509/"
     ],
     "language": "python",
     "metadata": {},
     "outputs": []
    },
    {
     "cell_type": "code",
     "collapsed": false,
     "input": [
      "cd ~/Documents/HERMES/reductions/HD285507_1arc_6.2/npy/"
     ],
     "language": "python",
     "metadata": {},
     "outputs": []
    },
    {
     "cell_type": "heading",
     "level": 3,
     "metadata": {},
     "source": [
      "m67"
     ]
    },
    {
     "cell_type": "code",
     "collapsed": false,
     "input": [
      "cd ~/Documents/HERMES/reductions/m67_6.2/npy"
     ],
     "language": "python",
     "metadata": {},
     "outputs": []
    },
    {
     "cell_type": "code",
     "collapsed": false,
     "input": [
      "cd ~/Documents/HERMES/reductions/m67_6.2/npy_raw/"
     ],
     "language": "python",
     "metadata": {},
     "outputs": []
    },
    {
     "cell_type": "code",
     "collapsed": false,
     "input": [
      "cd ~/Documents/HERMES/reductions/m67_1arc_6.2/"
     ],
     "language": "python",
     "metadata": {},
     "outputs": []
    },
    {
     "cell_type": "heading",
     "level": 3,
     "metadata": {},
     "source": [
      "NGC2477"
     ]
    },
    {
     "cell_type": "code",
     "collapsed": false,
     "input": [
      "cd ~/Documents/HERMES/reductions/NGC2477_6.2/npy"
     ],
     "language": "python",
     "metadata": {},
     "outputs": []
    },
    {
     "cell_type": "code",
     "collapsed": false,
     "input": [
      "cd ~/Documents/HERMES/reductions/NGC2477_6.2/npy_150509/"
     ],
     "language": "python",
     "metadata": {},
     "outputs": []
    },
    {
     "cell_type": "code",
     "collapsed": false,
     "input": [
      "cd ~/Documents/HERMES/reductions/NGC2477_1arc_6.2/"
     ],
     "language": "python",
     "metadata": {},
     "outputs": []
    },
    {
     "cell_type": "heading",
     "level": 3,
     "metadata": {},
     "source": [
      "rhoTuc"
     ]
    },
    {
     "cell_type": "code",
     "collapsed": false,
     "input": [
      "cd ~/Documents/HERMES/reductions/rhoTuc_6.2/npy"
     ],
     "language": "python",
     "metadata": {},
     "outputs": []
    },
    {
     "cell_type": "code",
     "collapsed": false,
     "input": [
      "cd ~/Documents/HERMES/reductions/6.2/rhoTuc_1arc_6.2/npy"
     ],
     "language": "python",
     "metadata": {},
     "outputs": []
    },
    {
     "cell_type": "heading",
     "level": 3,
     "metadata": {},
     "source": [
      "% of stars within a given RV"
     ]
    },
    {
     "cell_type": "code",
     "collapsed": false,
     "input": [
      "data=np.load('data.npy')\n",
      "RVs=np.load('RVs.npy')\n",
      "sigmas=np.load('sigmas.npy')\n",
      "baryVels=np.load('baryVels.npy')\n",
      "JDs=np.load('JDs.npy')\n",
      "thisSlice = RVs\n",
      "totalStars = RVs.shape[0]\n",
      "goodStars = np.sum(((thisSlice<5000) & (thisSlice!=0)), axis=0).astype(float)\n",
      "size = np.array(thisSlice.shape)\n",
      "total = np.reshape(np.repeat(size[0], size[1]*size[2]),(size[1],size[2]))\n",
      "labels = ['Blue','Green','Red','IR']\n",
      "a = pd.DataFrame(goodStars/total*100)\n",
      "a.columns = labels\n",
      "\n",
      "print a.to_latex(formatters=[f1, f1, f1, f1])"
     ],
     "language": "python",
     "metadata": {},
     "outputs": []
    },
    {
     "cell_type": "heading",
     "level": 3,
     "metadata": {},
     "source": [
      "Shows all observatios for a list of 'good_targets'"
     ]
    },
    {
     "cell_type": "code",
     "collapsed": false,
     "input": [
      "import pyfits as pf\n",
      "import numpy as np\n",
      "import pylab as plt\n",
      "import os\n",
      "import glob\n",
      "import pickle\n",
      "import RVTools as RVT\n",
      "import toolbox\n",
      "\n",
      "os.chdir('/Users/Carlos/Documents/HERMES/data')\n",
      "# raw = []\n",
      "print 'Obs & Filename & Field Name & Plate & MJD & Relative Day (days) & Exp Time (s) \\\\\\\\'\n",
      "# good_targets = np.array(['rhoTuc #176 (Pivot 175)', 'HD1581 #176 (Pivot 175)','HD285507 #227 (Pivot 223)' ])\n",
      "good_targets = np.array(['rhoTuc #176 (Pivot 175)'])\n",
      "# good_targets = np.array(['HD285507 #227 (Pivot 223)' ])\n",
      "# good_targets = np.array(['M67 12V14','M67 Bright Stars' ])\n",
      "# good_targets = np.array(['HD1581 #176 (Pivot 175)'])\n",
      "# good_targets = np.array(['47Tuc center'])\n",
      "\n",
      "# good_pivots = [175,175,224]\n",
      "t0 = 0  \n",
      "order = 0 \n",
      "dirs = glob.glob('*')\n",
      "for j in dirs:\n",
      "#     print os.path.abspath(j +'/data/ccd_1/')\n",
      "#     os.chdir(j+'/data/ccd_1/')\n",
      "#     print j +'/data/ccd_1/'\n",
      "    for i in glob.glob(j +'/data/ccd_1/*.fits'):\n",
      "        a = pf.open(i)\n",
      "        if a[0].header['NDFCLASS'] == 'MFOBJECT':\n",
      "            if a[0].header['OBJECT'] in good_targets:\n",
      "                pivot_idx = np.where(a[0].header['OBJECT']== good_targets)[0][0]\n",
      "                e = float(a[0].header['EXPOSED'])/2/24/60/60 # EXPOSED/2 in days\n",
      "                inDate = np.hstack((a[0].header['UTDATE'].split(':'),a[0].header['UTSTART'].split(':'))).astype(int)\n",
      "                UTMJD = toolbox.gd2jd(inDate, TZ=0)-2400000.5 + e\n",
      "                if t0==0:t0=UTMJD\n",
      "                tDiff=UTMJD-t0\n",
      "#                 print str(order)+' & '+ i+' & HD1581 & '+a[0].header['SOURCE']+' & '+str(UTMJD)+' & '+str(tDiff)+' & '+str(a[0].header['EXPOSED']) +' \\\\\\\\'\n",
      "#                 print str(order)+' & '+ i.split('/')[-1]+' & HD285507 & '+a[0].header['SOURCE']+' & '+str(UTMJD)+' & '+str(tDiff)+' & '+str(a[0].header['EXPOSED']) +' \\\\\\\\'\n",
      "                print str(order)+' & '+ i.split('/')[-1]+' & '+ 'rhoTuc' +' & '+a[0].header['SOURCE']+' & '+str(UTMJD)+' & '+str(tDiff)+' & '+str(a[0].header['EXPOSED']) +' \\\\\\\\'\n",
      "#                 print str(order)+' & '+ i.split('/')[-1]+' & '+a[0].header['OBJECT']+' & '+a[0].header['SOURCE']+' & '+str(UTMJD)+' & '+str(tDiff)+' & '+str(a[0].header['EXPOSED']) +' \\\\\\\\'\n",
      "                order +=1\n",
      "#                 raw.append((i, a[0].header['OBJECT'],a[0].header['SOURCE'],a[0].header['UTMJD'],a[0].header['EXPOSED']))            \n",
      "        a.close\n",
      "# raw = np.array(raw)"
     ],
     "language": "python",
     "metadata": {},
     "outputs": []
    },
    {
     "cell_type": "heading",
     "level": 3,
     "metadata": {},
     "source": [
      "Stars Names and magnitudes"
     ]
    },
    {
     "cell_type": "code",
     "collapsed": false,
     "input": [
      "data=np.load('data.npy')\n",
      "# RVs=np.load('RVs.npy')\n",
      "# sigmas=np.load('sigmas.npy')\n",
      "# baryVels=np.load('baryVels.npy')\n",
      "# JDs=np.load('JDs.npy')\n",
      "# thisSlice = RVs\n",
      "# totalStars = RVs.shape[0]\n",
      "# goodStars = np.sum(((thisSlice<5000) & (thisSlice!=0)), axis=0).astype(float)\n",
      "# size = np.array(thisSlice.shape)\n",
      "# total = np.reshape(np.repeat(size[0], size[1]*size[2]),(size[1],size[2]))\n",
      "# labels = ['Blue','Green','Red','IR']\n",
      "labels = ['Name','Vmag']\n",
      "a = pd.DataFrame(data[:,:2])\n",
      "a.columns = labels\n",
      "\n",
      "print a.to_latex()"
     ],
     "language": "python",
     "metadata": {},
     "outputs": []
    },
    {
     "cell_type": "heading",
     "level": 3,
     "metadata": {},
     "source": [
      "W tests"
     ]
    },
    {
     "cell_type": "code",
     "collapsed": false,
     "input": [
      "\n",
      "# deltay = np.linspace(0, 4000)\n",
      "# deltay = np.linspace(-2000, 2000)\n",
      "# deltay = np.linspace(-4000, 0)\n",
      "# SNRs = np.ones(50)*30\n",
      "# SNRs = np.linspace(10, 100)\n",
      "# SNRs = np.linspace(100, 10)\n",
      "# W = calibrator_weights2(deltay,SNRs)\n",
      "\n",
      "data=np.load('npy/data.npy')\n",
      "# RVs=np.load('npy/RVs.npy')\n",
      "SNRs=np.load('npy/SNRs.npy')\n",
      "allW = np.load('npy/allW_PM.npy')\n",
      "idx = np.where(data[:,0]=='Giant01')[0]\n",
      "for cam in range(4):\n",
      "    W = allW[:,cam,idx]\n",
      "\n",
      "    thisSNRs = SNRs[:,0,cam]\n",
      "\n",
      "#     plt.plot(deltay/np.max(np.abs(deltay)), label = 'deltay')\n",
      "    plt.plot(thisSNRs, label= 'SNR')\n",
      "    plt.plot(W*np.nanmax(thisSNRs), label = 'W')\n",
      "    plt.legend(loc=0)\n",
      "    # title = 'PM - deltay '+str(np.min(deltay))+','+str(np.max(deltay))+' - SNR '+str(np.min(SNRs))+','+str(np.max(SNRs))\n",
      "#     title = 'DM - deltay '+str(np.min(deltay))+','+str(np.max(deltay))+' - SNR '+str(np.min(SNRs))+','+str(np.max(SNRs))\n",
      "    title = 'PM - cam '+str(cam)+ ' ,' + str(data[idx])\n",
      "    plt.title(title)\n",
      "    plt.grid(True)\n",
      "    plt.savefig(('PM_'+str(cam)))\n",
      "    plt.show()\n"
     ],
     "language": "python",
     "metadata": {},
     "outputs": [
      {
       "ename": "IOError",
       "evalue": "[Errno 2] No such file or directory: 'npy/data.npy'",
       "output_type": "pyerr",
       "traceback": [
        "\u001b[0;31m---------------------------------------------------------------------------\u001b[0m\n\u001b[0;31mIOError\u001b[0m                                   Traceback (most recent call last)",
        "\u001b[0;32m<ipython-input-7-0ca4fb146523>\u001b[0m in \u001b[0;36m<module>\u001b[0;34m()\u001b[0m\n\u001b[1;32m      8\u001b[0m \u001b[0;31m# W = calibrator_weights2(deltay,SNRs)\u001b[0m\u001b[0;34m\u001b[0m\u001b[0;34m\u001b[0m\u001b[0m\n\u001b[1;32m      9\u001b[0m \u001b[0;34m\u001b[0m\u001b[0m\n\u001b[0;32m---> 10\u001b[0;31m \u001b[0mdata\u001b[0m\u001b[0;34m=\u001b[0m\u001b[0mnp\u001b[0m\u001b[0;34m.\u001b[0m\u001b[0mload\u001b[0m\u001b[0;34m(\u001b[0m\u001b[0;34m'npy/data.npy'\u001b[0m\u001b[0;34m)\u001b[0m\u001b[0;34m\u001b[0m\u001b[0m\n\u001b[0m\u001b[1;32m     11\u001b[0m \u001b[0;31m# RVs=np.load('npy/RVs.npy')\u001b[0m\u001b[0;34m\u001b[0m\u001b[0;34m\u001b[0m\u001b[0m\n\u001b[1;32m     12\u001b[0m \u001b[0mSNRs\u001b[0m\u001b[0;34m=\u001b[0m\u001b[0mnp\u001b[0m\u001b[0;34m.\u001b[0m\u001b[0mload\u001b[0m\u001b[0;34m(\u001b[0m\u001b[0;34m'npy/SNRs.npy'\u001b[0m\u001b[0;34m)\u001b[0m\u001b[0;34m\u001b[0m\u001b[0m\n",
        "\u001b[0;32m/Users/Carlos/Library/Enthought/Canopy_64bit/User/lib/python2.7/site-packages/numpy-1.8.1-py2.7-macosx-10.6-x86_64.egg/numpy/lib/npyio.pyc\u001b[0m in \u001b[0;36mload\u001b[0;34m(file, mmap_mode)\u001b[0m\n\u001b[1;32m    368\u001b[0m     \u001b[0mown_fid\u001b[0m \u001b[0;34m=\u001b[0m \u001b[0mFalse\u001b[0m\u001b[0;34m\u001b[0m\u001b[0m\n\u001b[1;32m    369\u001b[0m     \u001b[0;32mif\u001b[0m \u001b[0misinstance\u001b[0m\u001b[0;34m(\u001b[0m\u001b[0mfile\u001b[0m\u001b[0;34m,\u001b[0m \u001b[0mbasestring\u001b[0m\u001b[0;34m)\u001b[0m\u001b[0;34m:\u001b[0m\u001b[0;34m\u001b[0m\u001b[0m\n\u001b[0;32m--> 370\u001b[0;31m         \u001b[0mfid\u001b[0m \u001b[0;34m=\u001b[0m \u001b[0mopen\u001b[0m\u001b[0;34m(\u001b[0m\u001b[0mfile\u001b[0m\u001b[0;34m,\u001b[0m \u001b[0;34m\"rb\"\u001b[0m\u001b[0;34m)\u001b[0m\u001b[0;34m\u001b[0m\u001b[0m\n\u001b[0m\u001b[1;32m    371\u001b[0m         \u001b[0mown_fid\u001b[0m \u001b[0;34m=\u001b[0m \u001b[0mTrue\u001b[0m\u001b[0;34m\u001b[0m\u001b[0m\n\u001b[1;32m    372\u001b[0m     \u001b[0;32melif\u001b[0m \u001b[0misinstance\u001b[0m\u001b[0;34m(\u001b[0m\u001b[0mfile\u001b[0m\u001b[0;34m,\u001b[0m \u001b[0mgzip\u001b[0m\u001b[0;34m.\u001b[0m\u001b[0mGzipFile\u001b[0m\u001b[0;34m)\u001b[0m\u001b[0;34m:\u001b[0m\u001b[0;34m\u001b[0m\u001b[0m\n",
        "\u001b[0;31mIOError\u001b[0m: [Errno 2] No such file or directory: 'npy/data.npy'"
       ]
      }
     ],
     "prompt_number": 7
    },
    {
     "cell_type": "code",
     "collapsed": false,
     "input": [],
     "language": "python",
     "metadata": {},
     "outputs": []
    }
   ],
   "metadata": {}
  }
 ]
}