{
 "metadata": {
  "name": ""
 },
 "nbformat": 3,
 "nbformat_minor": 0,
 "worksheets": [
  {
   "cells": [
    {
     "cell_type": "code",
     "collapsed": false,
     "input": [
      "import glob\n",
      "import os\n",
      "import numpy as np\n",
      "import pyfits as pf\n",
      "import toolbox\n",
      "from scipy import signal, interpolate, optimize, constants, stats\n",
      "import asteroseismology as ast\n",
      "import pylab as plt\n",
      "import pickle\n",
      "from red_tools import *"
     ],
     "language": "python",
     "metadata": {},
     "outputs": [],
     "prompt_number": 72
    },
    {
     "cell_type": "code",
     "collapsed": false,
     "input": [
      "# os.chdir('/Users/Carlos/Documents/HERMES/reductions/m67_all_4cams/bright_stars/')\n",
      "os.chdir('/Users/Carlos/Documents/HERMES/reductions/m67_all_4cams/')\n",
      "\n",
      "#this creates all star names \n",
      "# os.chdir('/Users/Carlos/Documents/HERMES/reductions/m67_all_4cams/cam1')\n",
      "# allStarNames = colect_all_targets()\n",
      "# os.chdir('..')\n",
      "# np.save('allStarNames',allStarNames)\n",
      "\n",
      "#this loads all star names\n",
      "# allStarNames = np.load('allStarNames.npy')"
     ],
     "language": "python",
     "metadata": {},
     "outputs": [],
     "prompt_number": 73
    },
    {
     "cell_type": "code",
     "collapsed": false,
     "input": [
      "#stars v RV (per epoch) 1 or 3 night with 4/5 stars \n",
      "plt.plot(thisStar.exposures.JDs,thisStar.exposures.red_baryVels)\n",
      "plt.show()"
     ],
     "language": "python",
     "metadata": {},
     "outputs": [],
     "prompt_number": 312
    },
    {
     "cell_type": "code",
     "collapsed": false,
     "input": [
      "# Collects information on all stars and writes them into data array (WITH STARID)\n",
      "data = []\n",
      "cam1_RVs = np.array([])\n",
      "cam2_RVs = np.array([])\n",
      "cam3_RVs = np.array([])\n",
      "cam4_RVs = np.array([])\n",
      "cam1_DDRVs = np.array([])\n",
      "cam2_DDRVs = np.array([])\n",
      "cam3_DDRVs = np.array([])\n",
      "cam4_DDRVs = np.array([])\n",
      "starID1 = np.array([])\n",
      "starID2 = np.array([])\n",
      "starID3 = np.array([])\n",
      "starID4 = np.array([])\n",
      "starID = np\n",
      "bary = np.array([])\n",
      "JDs = np.array([])\n",
      "JDs1 = np.array([])\n",
      "JDs2 = np.array([])\n",
      "JDs3 = np.array([])\n",
      "JDs4 = np.array([])\n",
      "\n",
      "fileList = glob.glob('/Users/Carlos/Documents/HERMES/reductions/m67_all_4cams/bright_stars/*.obj')\n",
      "# for i in range(2):\n",
      "for i in range(len(fileList)):\n",
      "# for i in top30:\n",
      "\n",
      "    print i,fileList[i]\n",
      "#     try:\n",
      "    filehandler = open(fileList[i], 'r') \n",
      "    thisStar = pickle.load(filehandler) \n",
      "#     except:\n",
      "#         pass\n",
      "    \n",
      "#     try:\n",
      "    print 'pivots',np.unique(thisStar.exposures.pivots[thisStar.exposures.cameras[0].safe_flag]).shape[0]\n",
      "    data.append([thisStar.name, thisStar.B, thisStar.BV, \n",
      "                 thisStar.V, np.sum(thisStar.exposures.HRs), \n",
      "                 len(thisStar.exposures.cameras[0].RVs), \n",
      "                 np.unique(thisStar.exposures.pivots[thisStar.exposures.cameras[0].safe_flag])[0]])\n",
      "    starID1 = np.append(starID1, np.ones(np.sum(thisStar.exposures.cameras[0].safe_flag))*i)\n",
      "    starID2 = np.append(starID2, np.ones(np.sum(thisStar.exposures.cameras[1].safe_flag))*i)\n",
      "    starID3 = np.append(starID3, np.ones(np.sum(thisStar.exposures.cameras[2].safe_flag))*i)\n",
      "    starID4 = np.append(starID4, np.ones(np.sum(thisStar.exposures.cameras[3].safe_flag))*i)\n",
      "    cam1_RVs = np.append(cam1_RVs,thisStar.exposures.cameras[0].RVs[thisStar.exposures.cameras[0].safe_flag])\n",
      "    cam2_RVs = np.append(cam2_RVs,thisStar.exposures.cameras[1].RVs[thisStar.exposures.cameras[1].safe_flag])\n",
      "    cam3_RVs = np.append(cam3_RVs,thisStar.exposures.cameras[2].RVs[thisStar.exposures.cameras[2].safe_flag])\n",
      "    cam4_RVs = np.append(cam4_RVs,thisStar.exposures.cameras[3].RVs[thisStar.exposures.cameras[3].safe_flag])\n",
      "    cam1_DDRVs = np.append(cam1_DDRVs,thisStar.exposures.cameras[0].DDRVs[thisStar.exposures.cameras[0].safe_flag])\n",
      "    cam2_DDRVs = np.append(cam2_DDRVs,thisStar.exposures.cameras[1].DDRVs[thisStar.exposures.cameras[1].safe_flag])\n",
      "    cam3_DDRVs = np.append(cam3_DDRVs,thisStar.exposures.cameras[2].DDRVs[thisStar.exposures.cameras[2].safe_flag])\n",
      "    cam4_DDRVs = np.append(cam4_DDRVs,thisStar.exposures.cameras[3].DDRVs[thisStar.exposures.cameras[3].safe_flag])\n",
      "#     bary = np.append(bary,thisStar.exposures.rel_BaryVels) \n",
      "    JDs = np.append(JDs,thisStar.exposures.JDs)\n",
      "    JDs1 = np.append(JDs1,thisStar.exposures.JDs[thisStar.exposures.cameras[0].safe_flag])\n",
      "    JDs2 = np.append(JDs2,thisStar.exposures.JDs[thisStar.exposures.cameras[1].safe_flag])\n",
      "    JDs3 = np.append(JDs3,thisStar.exposures.JDs[thisStar.exposures.cameras[2].safe_flag])\n",
      "    JDs4 = np.append(JDs4,thisStar.exposures.JDs[thisStar.exposures.cameras[3].safe_flag])\n",
      "#     except:\n",
      "#         print 'missing attrib.',\n",
      "#         pass\n",
      "    filehandler.close()\n",
      "#     thisStar = None\n",
      "    \n",
      "data = np.array(data)\n",
      "print ''\n",
      "print 'data',len(data)\n",
      "print 'cam1_RVs',cam1_RVs.shape\n",
      "print 'cam2_RVs',cam2_RVs.shape\n",
      "print 'cam3_RVs',cam3_RVs.shape\n",
      "print 'cam4_RVs',cam4_RVs.shape\n",
      "print 'cam1_DDRVs',cam1_DDRVs.shape\n",
      "print 'cam2_DDRVs',cam2_DDRVs.shape\n",
      "print 'cam3_DDRVs',cam3_DDRVs.shape\n",
      "print 'cam4_DDRVs',cam4_DDRVs.shape\n",
      "print 'starID1',starID1.shape\n",
      "print 'starID2',starID2.shape\n",
      "print 'starID3',starID3.shape\n",
      "print 'starID4',starID4.shape\n",
      "print 'bary',bary.shape\n",
      "print 'JDs1',JDs1.shape\n",
      "print 'JDs2',JDs2.shape\n",
      "print 'JDs3',JDs3.shape\n",
      "print 'JDs4',JDs4.shape\n",
      "print 'JDs',JDs.shape\n",
      "#save?\n",
      "# np.save('data',data)\n",
      "# np.save('cam1_RVs',cam1_RVs)\n",
      "# np.save('cam2_RVs',cam2_RVs)\n",
      "# np.save('cam3_RVs',cam3_RVs)\n",
      "# np.save('cam4_RVs',cam4_RVs)\n",
      "# np.save('JDs',JDs)"
     ],
     "language": "python",
     "metadata": {},
     "outputs": [
      {
       "output_type": "stream",
       "stream": "stdout",
       "text": [
        "0 /Users/Carlos/Documents/HERMES/reductions/m67_all_4cams/bright_stars/M67-F-108.obj\n",
        "pivots"
       ]
      },
      {
       "output_type": "stream",
       "stream": "stdout",
       "text": [
        " 1\n",
        "1"
       ]
      },
      {
       "output_type": "stream",
       "stream": "stdout",
       "text": [
        " /Users/Carlos/Documents/HERMES/reductions/m67_all_4cams/bright_stars/M67-F-170.obj\n",
        "pivots"
       ]
      },
      {
       "output_type": "stream",
       "stream": "stdout",
       "text": [
        " 1\n",
        "2 /Users/Carlos/Documents/HERMES/reductions/m67_all_4cams/bright_stars/M67-S108.obj\n",
        "pivots"
       ]
      },
      {
       "output_type": "stream",
       "stream": "stdout",
       "text": [
        " 1\n",
        "3 /Users/Carlos/Documents/HERMES/reductions/m67_all_4cams/bright_stars/M67-S11.obj\n",
        "pivots"
       ]
      },
      {
       "output_type": "stream",
       "stream": "stdout",
       "text": [
        " 1\n",
        "4 /Users/Carlos/Documents/HERMES/reductions/m67_all_4cams/bright_stars/M67-S122.obj\n",
        "pivots"
       ]
      },
      {
       "output_type": "stream",
       "stream": "stdout",
       "text": [
        " 1\n",
        "5 /Users/Carlos/Documents/HERMES/reductions/m67_all_4cams/bright_stars/M67-S18.obj\n",
        "pivots"
       ]
      },
      {
       "output_type": "stream",
       "stream": "stdout",
       "text": [
        " 1\n",
        "6 /Users/Carlos/Documents/HERMES/reductions/m67_all_4cams/bright_stars/M67-S285.obj\n",
        "pivots"
       ]
      },
      {
       "output_type": "stream",
       "stream": "stdout",
       "text": [
        " 1\n",
        "7 /Users/Carlos/Documents/HERMES/reductions/m67_all_4cams/bright_stars/M67-S307.obj\n",
        "pivots"
       ]
      },
      {
       "output_type": "stream",
       "stream": "stdout",
       "text": [
        " 1\n",
        "8 /Users/Carlos/Documents/HERMES/reductions/m67_all_4cams/bright_stars/M67-S339.obj\n",
        "pivots"
       ]
      },
      {
       "output_type": "stream",
       "stream": "stdout",
       "text": [
        " 1\n",
        "9 /Users/Carlos/Documents/HERMES/reductions/m67_all_4cams/bright_stars/M67-S39.obj\n",
        "pivots"
       ]
      },
      {
       "output_type": "stream",
       "stream": "stdout",
       "text": [
        " 1\n",
        "10 /Users/Carlos/Documents/HERMES/reductions/m67_all_4cams/bright_stars/M67-S43.obj\n",
        "pivots"
       ]
      },
      {
       "output_type": "stream",
       "stream": "stdout",
       "text": [
        " 1\n",
        "11 /Users/Carlos/Documents/HERMES/reductions/m67_all_4cams/bright_stars/M67-S78.obj\n",
        "pivots"
       ]
      },
      {
       "output_type": "stream",
       "stream": "stdout",
       "text": [
        " 1\n",
        "12 /Users/Carlos/Documents/HERMES/reductions/m67_all_4cams/bright_stars/M67-S82.obj\n",
        "pivots"
       ]
      },
      {
       "output_type": "stream",
       "stream": "stdout",
       "text": [
        " 1\n",
        "\n",
        "data 13\n",
        "cam1_RVs (95,)\n",
        "cam2_RVs (107,)\n",
        "cam3_RVs (110,)\n",
        "cam4_RVs (98,)\n",
        "cam1_DDRVs (95,)\n",
        "cam2_DDRVs (107,)\n",
        "cam3_DDRVs (110,)\n",
        "cam4_DDRVs (98,)\n",
        "starID1 (95,)\n",
        "starID2 (107,)\n",
        "starID3 (110,)\n",
        "starID4 (98,)\n",
        "bary (0,)\n",
        "JDs1 (95,)\n",
        "JDs2 (107,)\n",
        "JDs3 (110,)\n",
        "JDs4 (98,)\n",
        "JDs (377,)\n"
       ]
      }
     ],
     "prompt_number": 313
    },
    {
     "cell_type": "code",
     "collapsed": false,
     "input": [
      "# np.save('data_b',data)\n",
      "# np.save('cam1_RVs_b',cam1_RVs)\n",
      "# np.save('cam2_RVs_b',cam2_RVs)\n",
      "# np.save('cam3_RVs_b',cam3_RVs)\n",
      "# np.save('cam4_RVs_b',cam4_RVs)\n",
      "# np.save('cam1_DDRVs_b',cam1_DDRVs)\n",
      "# np.save('cam2_DDRVs_b',cam2_DDRVs)\n",
      "# np.save('cam3_DDRVs_b',cam3_DDRVs)\n",
      "# np.save('cam4_DDRVs_b',cam4_DDRVs)\n",
      "# np.save('JDs_b',JDs)\n",
      "# np.save('JDs1_b',JDs1)\n",
      "# np.save('JDs2_b',JDs2)\n",
      "# np.save('JDs3_b',JDs3)\n",
      "# np.save('JDs4_b',JDs4)\n",
      "# np.save('starID1_b',starID1)\n",
      "# np.save('starID2_b',starID2)\n",
      "# np.save('starID3_b',starID3)\n",
      "# np.save('starID4_b',starID4)\n",
      "\n",
      "# # data = np.load('data_b.npy')\n",
      "# # cam1_RVs = np.load('cam1_RVs_b.npy')\n",
      "# # cam2_RVs = np.load('cam2_RVs_b.npy')\n",
      "# # cam3_RVs = np.load('cam3_RVs_b.npy')\n",
      "# # cam4_RVs = np.load('cam4_RVs_b.npy')\n",
      "# # cam1_DDRVs = np.load('cam1_DDRVs_b.npy')\n",
      "# # cam2_DDRVs = np.load('cam2_DDRVs_b.npy')\n",
      "# # cam3_DDRVs = np.load('cam3_DDRVs_b.npy')\n",
      "# # cam4_DDRVs = np.load('cam4_DDRVs_b.npy')\n",
      "# # JDs = np.load('JDs_b.npy')\n",
      "# # JDs1 = np.load('JDs1_b.npy')\n",
      "# # JDs2 = np.load('JDs2_b.npy')\n",
      "# # JDs3 = np.load('JDs3_b.npy')\n",
      "# # JDs4 = np.load('JDs4_b.npy')\n",
      "# # starID1 = np.load('starID1_b.npy')\n",
      "# # starID2 = np.load('starID2_b.npy')\n",
      "# # starID3 = np.load('starID3_b.npy')\n",
      "# # starID4 = np.load('starID4_b.npy')"
     ],
     "language": "python",
     "metadata": {},
     "outputs": [],
     "prompt_number": 314
    },
    {
     "cell_type": "markdown",
     "metadata": {},
     "source": [
      "Camera 1"
     ]
    },
    {
     "cell_type": "code",
     "collapsed": false,
     "input": [
      "JDs_unique = np.unique(JDs)\n",
      "RVs_perStar1 = np.ones((JDs_unique.shape[0], data.shape[0]))*np.nan\n",
      "DDRVs_perStar1 = np.ones((JDs_unique.shape[0], data.shape[0]))*np.nan\n",
      "starMap = data[:,6]\n"
     ],
     "language": "python",
     "metadata": {},
     "outputs": [],
     "prompt_number": 315
    },
    {
     "cell_type": "code",
     "collapsed": false,
     "input": [
      "for i in range(len(JDs_unique)):\n",
      "    for j in range(len(starMap)):\n",
      "        RV = cam1_RVs[((JDs1==JDs_unique[i]) & (starID1==j))]\n",
      "        DDRV = cam1_DDRVs[((JDs1==JDs_unique[i]) & (starID1==j))]\n",
      "#         print 'Day', JDs_unique[i], 'Star', data[j,0], 'RV', RV\n",
      "        if RV.astype(float)!=0: \n",
      "            RVs_perStar1[i,j] = RV[0]\n",
      "            DDRVs_perStar1[i,j] = DDRV[0]\n"
     ],
     "language": "python",
     "metadata": {},
     "outputs": [],
     "prompt_number": 316
    },
    {
     "cell_type": "code",
     "collapsed": false,
     "input": [
      "sortMask = np.argsort(starMap.astype(int))\n",
      "starMap = starMap[sortMask]\n",
      "RVs_perStar1 = RVs_perStar1[sortMask]\n",
      "DDRVs_perStar1 = DDRVs_perStar1[sortMask]"
     ],
     "language": "python",
     "metadata": {},
     "outputs": [],
     "prompt_number": 317
    },
    {
     "cell_type": "markdown",
     "metadata": {},
     "source": [
      "Camera 2"
     ]
    },
    {
     "cell_type": "code",
     "collapsed": false,
     "input": [
      "JDs_unique = np.unique(JDs)\n",
      "RVs_perStar2 = np.ones((JDs_unique.shape[0], data.shape[0]))*np.nan\n",
      "DDRVs_perStar2 = np.ones((JDs_unique.shape[0], data.shape[0]))*np.nan\n",
      "starMap = data[:,6]\n"
     ],
     "language": "python",
     "metadata": {},
     "outputs": [],
     "prompt_number": 318
    },
    {
     "cell_type": "code",
     "collapsed": false,
     "input": [
      "for i in range(len(JDs_unique)):\n",
      "    for j in range(len(starMap)):\n",
      "        RV = cam2_RVs[((JDs2==JDs_unique[i]) & (starID2==j))]\n",
      "        DDRV = cam2_DDRVs[((JDs2==JDs_unique[i]) & (starID2==j))]\n",
      "#         print 'Day', JDs_unique[i], 'Star', data[j,0], 'RV', RV\n",
      "        if RV.astype(float)!=0: \n",
      "            RVs_perStar2[i,j] = RV[0]\n",
      "            DDRVs_perStar2[i,j] = DDRV[0]\n"
     ],
     "language": "python",
     "metadata": {},
     "outputs": [],
     "prompt_number": 319
    },
    {
     "cell_type": "code",
     "collapsed": false,
     "input": [
      "sortMask = np.argsort(starMap.astype(int))\n",
      "starMap = starMap[sortMask]\n",
      "RVs_perStar2 = RVs_perStar2[sortMask]\n",
      "DDRVs_perStar2 = DDRVs_perStar2[sortMask]"
     ],
     "language": "python",
     "metadata": {},
     "outputs": [],
     "prompt_number": 320
    },
    {
     "cell_type": "markdown",
     "metadata": {},
     "source": [
      "Camera 3"
     ]
    },
    {
     "cell_type": "code",
     "collapsed": false,
     "input": [
      "JDs_unique = np.unique(JDs)\n",
      "RVs_perStar3 = np.ones((JDs_unique.shape[0], data.shape[0]))*np.nan\n",
      "DDRVs_perStar3 = np.ones((JDs_unique.shape[0], data.shape[0]))*np.nan\n",
      "starMap = data[:,6]\n"
     ],
     "language": "python",
     "metadata": {},
     "outputs": [],
     "prompt_number": 321
    },
    {
     "cell_type": "code",
     "collapsed": false,
     "input": [
      "for i in range(len(JDs_unique)):\n",
      "    for j in range(len(starMap)):\n",
      "        RV = cam3_RVs[((JDs3==JDs_unique[i]) & (starID3==j))]\n",
      "        DDRV = cam3_DDRVs[((JDs3==JDs_unique[i]) & (starID3==j))]\n",
      "#         print 'Day', JDs_unique[i], 'Star', data[j,0], 'RV', RV\n",
      "        if RV.astype(float)!=0: \n",
      "            RVs_perStar3[i,j] = RV[0]\n",
      "            DDRVs_perStar3[i,j] = DDRV[0]\n"
     ],
     "language": "python",
     "metadata": {},
     "outputs": [],
     "prompt_number": 322
    },
    {
     "cell_type": "code",
     "collapsed": false,
     "input": [
      "sortMask = np.argsort(starMap.astype(int))\n",
      "starMap = starMap[sortMask]\n",
      "RVs_perStar3 = RVs_perStar3[sortMask]\n",
      "DDRVs_perStar3 = DDRVs_perStar3[sortMask]"
     ],
     "language": "python",
     "metadata": {},
     "outputs": [],
     "prompt_number": 323
    },
    {
     "cell_type": "markdown",
     "metadata": {},
     "source": [
      "Camera 4"
     ]
    },
    {
     "cell_type": "code",
     "collapsed": false,
     "input": [
      "JDs_unique = np.unique(JDs)\n",
      "RVs_perStar4 = np.ones((JDs_unique.shape[0], data.shape[0]))*np.nan\n",
      "DDRVs_perStar4 = np.ones((JDs_unique.shape[0], data.shape[0]))*np.nan\n",
      "starMap = data[:,6]\n"
     ],
     "language": "python",
     "metadata": {},
     "outputs": [],
     "prompt_number": 324
    },
    {
     "cell_type": "code",
     "collapsed": false,
     "input": [
      "for i in range(len(JDs_unique)):\n",
      "    for j in range(len(starMap)):\n",
      "        RV = cam4_RVs[((JDs4==JDs_unique[i]) & (starID4==j))]\n",
      "        DDRV = cam4_DDRVs[((JDs4==JDs_unique[i]) & (starID4==j))]\n",
      "#         print 'Day', JDs_unique[i], 'Star', data[j,0], 'RV', RV\n",
      "        if RV.astype(float)!=0: \n",
      "            RVs_perStar4[i,j] = RV[0]\n",
      "            DDRVs_perStar4[i,j] = DDRV[0]\n"
     ],
     "language": "python",
     "metadata": {},
     "outputs": [],
     "prompt_number": 325
    },
    {
     "cell_type": "code",
     "collapsed": false,
     "input": [
      "sortMask = np.argsort(starMap.astype(int))\n",
      "starMap = starMap[sortMask]\n",
      "RVs_perStar4 = RVs_perStar4[sortMask]\n",
      "DDRVs_perStar4 = DDRVs_perStar4[sortMask]"
     ],
     "language": "python",
     "metadata": {},
     "outputs": [],
     "prompt_number": 326
    },
    {
     "cell_type": "markdown",
     "metadata": {},
     "source": [
      "Plots"
     ]
    },
    {
     "cell_type": "code",
     "collapsed": false,
     "input": [
      "title = 'Comparative Fibre Drift and Median RV'"
     ],
     "language": "python",
     "metadata": {},
     "outputs": [],
     "prompt_number": 475
    },
    {
     "cell_type": "code",
     "collapsed": false,
     "input": [
      "fig = plt.gcf()\n",
      "fig.suptitle(title, fontsize=14)\n",
      "\n",
      "title = ''\n",
      "plt.subplot(221)\n",
      "# for i in [9,10,6]:\n",
      "for i in range(RVs_perStar.shape[0]):\n",
      "# #     plt.plot(starMap, RVs_perStar[i], label = 'Epoch '+str(i))\n",
      "#     plt.plot(starMap, DDRVs_perStar1[i], 'b--', label = 'Epoch '+str(i)+' G1')\n",
      "\n",
      "# for i in [2,5,7]:\n",
      "#     plt.plot(starMap, RVs_perStar[i], label = 'Epoch '+str(i))\n",
      "    plt.plot(starMap, DDRVs_perStar1[i], 'b-',linewidth = 1, alpha = 0.3)\n",
      "\n",
      "plt.plot(np.nan, np.nan, 'b-',linewidth = 1, alpha = 0.3, label='Blue Camera')\n",
      "\n",
      "# plt.plot(starMap,RVs_perStar_std,  linewidth = 3, label = 'Standard Deviation')\n",
      "plt.xlabel('Fibre')\n",
      "plt.ylabel('RV [m/s]')\n",
      "# plt.legend(loc=0, prop={'size':10}, ncol = 1)\n",
      "plt.title(title + 'Blue Camera')\n",
      "# plt.show()"
     ],
     "language": "python",
     "metadata": {},
     "outputs": [
      {
       "metadata": {},
       "output_type": "pyout",
       "prompt_number": 476,
       "text": [
        "<matplotlib.text.Text at 0x12aa96710>"
       ]
      }
     ],
     "prompt_number": 476
    },
    {
     "cell_type": "code",
     "collapsed": false,
     "input": [
      "plt.subplot(222)\n",
      "# for i in [9,10,6]:\n",
      "for i in range(RVs_perStar.shape[0]):\n",
      "# #     plt.plot(starMap, RVs_perStar[i], label = 'Epoch '+str(i))\n",
      "#     plt.plot(starMap, DDRVs_perStar2[i], 'g--', label = 'Epoch '+str(i)+' G1')\n",
      "\n",
      "# for i in [2,5,7]:\n",
      "#     plt.plot(starMap, RVs_perStar[i], label = 'Epoch '+str(i))\n",
      "    plt.plot(starMap, DDRVs_perStar2[i], 'g-',linewidth = 1, alpha = 0.3)\n",
      "\n",
      "plt.plot(np.nan, np.nan, 'g-',linewidth = 1, alpha = 0.3, label='Green Camera')\n",
      "\n",
      "\n",
      "# plt.plot(starMap,RVs_perStar_std,  linewidth = 3, label = 'Standard Deviation')\n",
      "# plt.xlabel('Fibre')\n",
      "# plt.ylabel('RV [m/s]')\n",
      "# plt.legend(loc=0, prop={'size':10}, ncol = 1)\n",
      "plt.title(title + 'Green Camera')\n",
      "# plt.show()"
     ],
     "language": "python",
     "metadata": {},
     "outputs": [
      {
       "metadata": {},
       "output_type": "pyout",
       "prompt_number": 477,
       "text": [
        "<matplotlib.text.Text at 0x12aaaeb10>"
       ]
      }
     ],
     "prompt_number": 477
    },
    {
     "cell_type": "code",
     "collapsed": false,
     "input": [
      "plt.subplot(223)\n",
      "\n",
      "# for i in [9,10,6]:\n",
      "for i in range(RVs_perStar.shape[0]):\n",
      "# #     plt.plot(starMap, RVs_perStar[i], label = 'Epoch '+str(i))\n",
      "#     plt.plot(starMap, DDRVs_perStar3[i], 'r--', label = 'Epoch '+str(i)+' G1')\n",
      "\n",
      "# for i in [2,5,7]:\n",
      "#     plt.plot(starMap, RVs_perStar[i], label = 'Epoch '+str(i))\n",
      "    plt.plot(starMap, DDRVs_perStar3[i], 'r-',linewidth = 1, alpha = 0.3)\n",
      "\n",
      "plt.plot(np.nan, np.nan, 'r-',linewidth = 1, alpha = 0.3, label='Red Camera')\n",
      "\n",
      "# plt.plot(starMap,RVs_perStar_std,  linewidth = 3, label = 'Standard Deviation')\n",
      "plt.xlabel('Fibre')\n",
      "plt.ylabel('RV [m/s]')\n",
      "# plt.legend(loc=0, prop={'size':10}, ncol = 1)\n",
      "plt.title(title + 'Red Camera' )\n",
      "# plt.show()"
     ],
     "language": "python",
     "metadata": {},
     "outputs": [
      {
       "metadata": {},
       "output_type": "pyout",
       "prompt_number": 478,
       "text": [
        "<matplotlib.text.Text at 0x12aad4890>"
       ]
      }
     ],
     "prompt_number": 478
    },
    {
     "cell_type": "code",
     "collapsed": false,
     "input": [
      "plt.subplot(224)\n",
      "\n",
      "# for i in [9,10,6]:\n",
      "for i in range(RVs_perStar.shape[0]):\n",
      "# #     plt.plot(starMap, RVs_perStar[i], label = 'Epoch '+str(i))\n",
      "#     plt.plot(starMap, DDRVs_perStar4[i],'--',  color = 'cyan',label = 'Epoch '+str(i)+' G1')\n",
      "\n",
      "# for i in [2,5,7]:\n",
      "#     plt.plot(starMap, RVs_perStar[i], label = 'Epoch '+str(i))\n",
      "    plt.plot(starMap, DDRVs_perStar4[i], '-', color = 'cyan',linewidth = 1, alpha = 0.3)\n",
      "\n",
      "plt.plot(np.nan, np.nan, color = 'cyan',linewidth = 1, alpha = 0.3, label='IR Camera')\n",
      "\n",
      "# plt.plot(starMap,RVs_perStar_std,  linewidth = 3, label = 'Standard Deviation')\n",
      "plt.xlabel('Fibre')\n",
      "plt.ylabel('RV [m/s]')\n",
      "# plt.legend(loc=0, prop={'size':8}, ncol = 2)\n",
      "plt.title(title + 'IR Camera')\n",
      "# plt.show()"
     ],
     "language": "python",
     "metadata": {},
     "outputs": [
      {
       "metadata": {},
       "output_type": "pyout",
       "prompt_number": 479,
       "text": [
        "<matplotlib.text.Text at 0x12af79a50>"
       ]
      }
     ],
     "prompt_number": 479
    },
    {
     "cell_type": "code",
     "collapsed": false,
     "input": [
      "plt.subplot(221)\n",
      "RVs_perStar_std1 = np.nanstd(RVs_perStar1[[9,10,6],:], axis = 0)\n",
      "RVs_perStar_median1 = stats.nanmedian(RVs_perStar1[[9,10,6],:], axis = 0)\n",
      "DDRVs_perStar_std1 = np.nanstd(DDRVs_perStar1[[9,10,6],:], axis = 0)\n",
      "DDRVs_perStar_median1 = stats.nanmedian(DDRVs_perStar1[[9,10,6],:], axis = 0)\n",
      "\n",
      "RVs_perStar_std2 = np.nanstd(RVs_perStar1[[2,5,7],:], axis = 0)\n",
      "RVs_perStar_median2 = stats.nanmedian(RVs_perStar1[[2,5,7],:], axis = 0)\n",
      "DDRVs_perStar_std2 = np.nanstd(DDRVs_perStar1[[2,5,7],:], axis = 0)\n",
      "DDRVs_perStar_median2 = stats.nanmedian(DDRVs_perStar1[[2,5,7],:], axis = 0)\n",
      "\n",
      "DDRVs_perStar_median = stats.nanmedian(DDRVs_perStar1, axis = 0)\n",
      "\n",
      "# plt.plot(starMap,DDRVs_perStar_std1, 'b--',  linewidth = 2, label = 'Std Dev B')\n",
      "# plt.plot(starMap,DDRVs_perStar_std2, 'b-',  linewidth = 2, label = 'Std Dev B')\n",
      "plt.plot(starMap,DDRVs_perStar_median, 'b-',   linewidth = 2, label = 'Median RV B')\n",
      "# plt.xlabel('Fibre')\n",
      "# plt.ylabel('RV [m/s]')\n",
      "# plt.legend(loc=0, prop={'size':10}, ncol = 1)\n",
      "# plt.title('Relative Fibre Drift')\n",
      "# plt.show()"
     ],
     "language": "python",
     "metadata": {},
     "outputs": [
      {
       "metadata": {},
       "output_type": "pyout",
       "prompt_number": 480,
       "text": [
        "[<matplotlib.lines.Line2D at 0x12afa58d0>]"
       ]
      }
     ],
     "prompt_number": 480
    },
    {
     "cell_type": "code",
     "collapsed": false,
     "input": [
      "plt.subplot(222)\n",
      "RVs_perStar_std1 = np.nanstd(RVs_perStar2[[9,10,6],:], axis = 0)\n",
      "RVs_perStar_median1 = stats.nanmedian(RVs_perStar2[[9,10,6],:], axis = 0)\n",
      "DDRVs_perStar_std1 = np.nanstd(DDRVs_perStar2[[9,10,6],:], axis = 0)\n",
      "DDRVs_perStar_median1 = stats.nanmedian(DDRVs_perStar2[[9,10,6],:], axis = 0)\n",
      "\n",
      "RVs_perStar_std2 = np.nanstd(RVs_perStar2[[2,5,7],:], axis = 0)\n",
      "RVs_perStar_median2 = stats.nanmedian(RVs_perStar2[[2,5,7],:], axis = 0)\n",
      "DDRVs_perStar_std2 = np.nanstd(DDRVs_perStar2[[2,5,7],:], axis = 0)\n",
      "DDRVs_perStar_median2 = stats.nanmedian(DDRVs_perStar2[[2,5,7],:], axis = 0)\n",
      "\n",
      "DDRVs_perStar_median = stats.nanmedian(DDRVs_perStar2, axis = 0)\n",
      "DDRVs_perStar_median[DDRVs_perStar_median<-1000]=0\n",
      "\n",
      "# plt.plot(starMap,DDRVs_perStar_std1, 'g--',  linewidth = 2, label = 'Std Dev G')\n",
      "# plt.plot(starMap,DDRVs_perStar_std2, 'g-',  linewidth = 2, label = 'Std Dev G')\n",
      "plt.plot(starMap,DDRVs_perStar_median, 'g-', linewidth = 2, label = 'Median RV G')\n",
      "# plt.xlabel('Fibre')\n",
      "# plt.ylabel('RV [m/s]')\n",
      "# plt.legend(loc=0, prop={'size':10}, ncol = 1)\n",
      "# plt.title('Relative Fibre Drift')\n",
      "# plt.show()"
     ],
     "language": "python",
     "metadata": {},
     "outputs": [
      {
       "metadata": {},
       "output_type": "pyout",
       "prompt_number": 481,
       "text": [
        "[<matplotlib.lines.Line2D at 0x12afa5f90>]"
       ]
      }
     ],
     "prompt_number": 481
    },
    {
     "cell_type": "code",
     "collapsed": false,
     "input": [
      "plt.subplot(223)\n",
      "RVs_perStar_std1 = np.nanstd(RVs_perStar3[[9,10,6],:], axis = 0)\n",
      "RVs_perStar_median1 = stats.nanmedian(RVs_perStar3[[9,10,6],:], axis = 0)\n",
      "DDRVs_perStar_std1 = np.nanstd(DDRVs_perStar3[[9,10,6],:], axis = 0)\n",
      "DDRVs_perStar_median1 = stats.nanmedian(DDRVs_perStar3[[9,10,6],:], axis = 0)\n",
      "\n",
      "RVs_perStar_std2 = np.nanstd(RVs_perStar3[[2,5,7],:], axis = 0)\n",
      "RVs_perStar_median2 = stats.nanmedian(RVs_perStar3[[2,5,7],:], axis = 0)\n",
      "DDRVs_perStar_std2 = np.nanstd(DDRVs_perStar3[[2,5,7],:], axis = 0)\n",
      "DDRVs_perStar_median2 = stats.nanmedian(DDRVs_perStar3[[2,5,7],:], axis = 0)\n",
      "\n",
      "DDRVs_perStar_median = stats.nanmedian(DDRVs_perStar3, axis = 0)\n",
      "\n",
      "# plt.plot(starMap,DDRVs_perStar_std1, 'r--',  linewidth = 2, label = 'Std Dev R')\n",
      "# plt.plot(starMap,DDRVs_perStar_std2, 'r-',  linewidth = 2, label = 'Std Dev R')\n",
      "plt.plot(starMap,DDRVs_perStar_median, 'r-', linewidth = 2, label = 'Median RV R')\n",
      "# plt.xlabel('Fibre')\n",
      "# plt.ylabel('RV [m/s]')\n",
      "# plt.legend(loc=0, prop={'size':10}, ncol = 1)\n",
      "# plt.title('Relative Fibre Drift')\n",
      "# plt.show()"
     ],
     "language": "python",
     "metadata": {},
     "outputs": [
      {
       "metadata": {},
       "output_type": "pyout",
       "prompt_number": 482,
       "text": [
        "[<matplotlib.lines.Line2D at 0x126e351d0>]"
       ]
      }
     ],
     "prompt_number": 482
    },
    {
     "cell_type": "code",
     "collapsed": false,
     "input": [
      "plt.subplot(224)\n",
      "RVs_perStar_std1 = np.nanstd(RVs_perStar4[[9,10,6],:], axis = 0)\n",
      "RVs_perStar_median1 = stats.nanmedian(RVs_perStar4[[9,10,6],:], axis = 0)\n",
      "DDRVs_perStar_std1 = np.nanstd(DDRVs_perStar4[[9,10,6],:], axis = 0)\n",
      "DDRVs_perStar_median1 = stats.nanmedian(DDRVs_perStar4[[9,10,6],:], axis = 0)\n",
      "\n",
      "RVs_perStar_std2 = np.nanstd(RVs_perStar4[[2,5,7],:], axis = 0)\n",
      "RVs_perStar_median2 = stats.nanmedian(RVs_perStar4[[2,5,7],:], axis = 0)\n",
      "DDRVs_perStar_std2 = np.nanstd(DDRVs_perStar4[[2,5,7],:], axis = 0)\n",
      "DDRVs_perStar_median2 = stats.nanmedian(DDRVs_perStar4[[2,5,7],:], axis = 0)\n",
      "\n",
      "DDRVs_perStar_median = stats.nanmedian(DDRVs_perStar4, axis = 0)\n",
      "\n",
      "# plt.plot(starMap,DDRVs_perStar_std1, '--', color = 'cyan',  linewidth = 2, label = 'Std Dev G1')\n",
      "# plt.plot(starMap,DDRVs_perStar_std2, '-',  color = 'cyan', linewidth = 2, label = 'Std Dev IR')\n",
      "plt.plot(starMap,DDRVs_perStar_median, '-',  color = 'cyan', linewidth = 2, label = 'Median RV IR')\n",
      "\n",
      "# plt.xlabel('Fibre')\n",
      "# plt.ylabel('RV [m/s]')\n",
      "plt.legend(loc=0, prop={'size':8}, ncol = 1)\n",
      "plt.tight_layout()\n",
      "# plt.title('Fibre Drift Std. Dev.')\n",
      "plt.show()"
     ],
     "language": "python",
     "metadata": {},
     "outputs": [
      {
       "output_type": "stream",
       "stream": "stdout",
       "text": [
        "tight_layout : falling back to Agg renderer\n"
       ]
      }
     ],
     "prompt_number": 483
    },
    {
     "cell_type": "code",
     "collapsed": false,
     "input": [
      "cam1_RVs_median = np.zeros(np.unique(JDs1).shape[0])\n",
      "cam2_RVs_median = np.zeros(np.unique(JDs2).shape[0])\n",
      "cam3_RVs_median = np.zeros(np.unique(JDs3).shape[0])\n",
      "cam4_RVs_median = np.zeros(np.unique(JDs4).shape[0])\n",
      "bary_median = np.zeros(np.unique(JDs).shape[0])\n",
      "cam1_RVs_abs_dev = np.zeros(np.unique(JDs1).shape[0])\n",
      "cam2_RVs_abs_dev = np.zeros(np.unique(JDs2).shape[0])\n",
      "cam3_RVs_abs_dev = np.zeros(np.unique(JDs3).shape[0])\n",
      "cam4_RVs_abs_dev = np.zeros(np.unique(JDs4).shape[0])\n",
      "bary_abs_dev = np.zeros(np.unique(JDs).shape[0])\n",
      "JDs_unique = np.unique(JDs)\n",
      "for i in range(len(JDs_unique)):\n",
      "    cam1_RVs_median[i] = np.median(cam1_RVs_clean[JDs1==JDs_unique[i]])\n",
      "    cam2_RVs_median[i] = np.median(cam2_RVs_clean[JDs2==JDs_unique[i]])\n",
      "    cam3_RVs_median[i] = np.median(cam3_RVs_clean[JDs3==JDs_unique[i]])\n",
      "    cam4_RVs_median[i] = np.median(cam4_RVs_clean[JDs4==JDs_unique[i]])\n",
      "    bary_median[i] = np.median(bary[JDs==JDs_unique[i]])\n",
      "    cam1_RVs_abs_dev[i] = mad(cam1_RVs_clean[JDs1==JDs_unique[i]])\n",
      "    cam2_RVs_abs_dev[i] = mad(cam2_RVs_clean[JDs2==JDs_unique[i]])\n",
      "    cam3_RVs_abs_dev[i] = mad(cam3_RVs_clean[JDs3==JDs_unique[i]])\n",
      "    cam4_RVs_abs_dev[i] = mad(cam4_RVs_clean[JDs4==JDs_unique[i]])\n",
      "    bary_abs_dev[i] = mad(bary[JDs==JDs_unique[i]])\n",
      "#     cam1_RVs_abs_dev[i] = np.std(cam1_RVs_clean[JDs==JDs_unique[i]])\n",
      "#     cam2_RVs_abs_dev[i] = np.std(cam2_RVs_clean[JDs==JDs_unique[i]])\n",
      "#     cam3_RVs_abs_dev[i] = np.std(cam3_RVs_clean[JDs==JDs_unique[i]])\n",
      "#     cam4_RVs_abs_dev[i] = np.std(cam4_RVs_clean[JDs==JDs_unique[i]])\n"
     ],
     "language": "python",
     "metadata": {},
     "outputs": []
    },
    {
     "cell_type": "code",
     "collapsed": false,
     "input": [
      "# Collects information on all stars and writes them into data array\n",
      "data = []\n",
      "cam1_RVs = np.array([])\n",
      "cam2_RVs = np.array([])\n",
      "cam3_RVs = np.array([])\n",
      "cam4_RVs = np.array([])\n",
      "starID = np\n",
      "bary = np.array([])\n",
      "JDs = np.array([])\n",
      "JDs1 = np.array([])\n",
      "JDs2 = np.array([])\n",
      "JDs3 = np.array([])\n",
      "JDs4 = np.array([])\n",
      "\n",
      "fileList = glob.glob('/Users/Carlos/Documents/HERMES/reductions/m67_all_4cams/good_stars/*.obj')\n",
      "fileList.shape\n",
      "for i in fileList:\n",
      "# for i in top30:\n",
      "\n",
      "    print i\n",
      "    try:\n",
      "        filehandler = open(i, 'r') \n",
      "        thisStar = pickle.load(filehandler) \n",
      "    except:\n",
      "        pass\n",
      "    \n",
      "    try:\n",
      "        data.append([thisStar.name, thisStar.B, thisStar.BV, thisStar.V, np.sum(thisStar.exposures.HRs), len(thisStar.exposures.cameras[0].RVs)])\n",
      "        cam1_RVs = np.append(cam1_RVs,thisStar.exposures.cameras[0].RVs[thisStar.exposures.cameras[0].safe_flag])\n",
      "        cam2_RVs = np.append(cam2_RVs,thisStar.exposures.cameras[1].RVs[thisStar.exposures.cameras[1].safe_flag])\n",
      "        cam3_RVs = np.append(cam3_RVs,thisStar.exposures.cameras[2].RVs[thisStar.exposures.cameras[2].safe_flag])\n",
      "        cam4_RVs = np.append(cam4_RVs,thisStar.exposures.cameras[3].RVs[thisStar.exposures.cameras[3].safe_flag])\n",
      "        bary = np.append(bary,thisStar.exposures.rel_BaryVels) \n",
      "        JDs = np.append(JDs,thisStar.exposures.JDs)\n",
      "        JDs1 = np.append(JDs1,thisStar.exposures.JDs[thisStar.exposures.cameras[0].safe_flag])\n",
      "        JDs2 = np.append(JDs2,thisStar.exposures.JDs[thisStar.exposures.cameras[1].safe_flag])\n",
      "        JDs3 = np.append(JDs3,thisStar.exposures.JDs[thisStar.exposures.cameras[2].safe_flag])\n",
      "        JDs4 = np.append(JDs4,thisStar.exposures.JDs[thisStar.exposures.cameras[3].safe_flag])\n",
      "    except:\n",
      "        print 'missing attrib.',\n",
      "        pass\n",
      "    filehandler.close()\n",
      "\n",
      "    \n",
      "data = np.array(data)\n",
      "print ''\n",
      "print 'data',data.shape\n",
      "print 'cam1_RVs',cam1_RVs.shape\n",
      "print 'cam2_RVs',cam2_RVs.shape\n",
      "print 'cam3_RVs',cam3_RVs.shape\n",
      "print 'cam4_RVs',cam4_RVs.shape\n",
      "print 'bary',bary.shape\n",
      "print 'JDs1',JDs1.shape\n",
      "print 'JDs2',JDs2.shape\n",
      "print 'JDs3',JDs3.shape\n",
      "print 'JDs4',JDs4.shape\n",
      "print 'JDs',JDs.shape\n",
      "#save?\n",
      "# np.save('data',data)\n",
      "# np.save('cam1_RVs',cam1_RVs)\n",
      "# np.save('cam2_RVs',cam2_RVs)\n",
      "# np.save('cam3_RVs',cam3_RVs)\n",
      "# np.save('cam4_RVs',cam4_RVs)\n",
      "# np.save('JDs',JDs)"
     ],
     "language": "python",
     "metadata": {},
     "outputs": [
      {
       "output_type": "stream",
       "stream": "stdout",
       "text": [
        "/Users/Carlos/Documents/HERMES/reductions/m67_all_4cams/good_stars/M67-424.obj\n",
        "/Users/Carlos/Documents/HERMES/reductions/m67_all_4cams/good_stars/M67-432.obj"
       ]
      },
      {
       "output_type": "stream",
       "stream": "stdout",
       "text": [
        "\n",
        "/Users/Carlos/Documents/HERMES/reductions/m67_all_4cams/good_stars/M67-F-117.obj"
       ]
      },
      {
       "output_type": "stream",
       "stream": "stdout",
       "text": [
        "\n",
        "/Users/Carlos/Documents/HERMES/reductions/m67_all_4cams/good_stars/M67-S27.obj"
       ]
      },
      {
       "output_type": "stream",
       "stream": "stdout",
       "text": [
        "\n",
        "/Users/Carlos/Documents/HERMES/reductions/m67_all_4cams/good_stars/M67-S49.obj"
       ]
      },
      {
       "output_type": "stream",
       "stream": "stdout",
       "text": [
        "\n",
        "/Users/Carlos/Documents/HERMES/reductions/m67_all_4cams/good_stars/M67-S7.obj"
       ]
      },
      {
       "output_type": "stream",
       "stream": "stdout",
       "text": [
        "\n"
       ]
      },
      {
       "output_type": "stream",
       "stream": "stdout",
       "text": [
        "\n",
        "data (6, 6)\n",
        "cam1_RVs (67,)\n",
        "cam2_RVs (67,)\n",
        "cam3_RVs (72,)\n",
        "cam4_RVs (69,)\n",
        "bary (80,)\n",
        "JDs1 (67,)\n",
        "JDs2 (67,)\n",
        "JDs3 (72,)\n",
        "JDs4 (69,)\n"
       ]
      }
     ],
     "prompt_number": 46
    },
    {
     "cell_type": "code",
     "collapsed": false,
     "input": [
      "# np.save('data_g',data)\n",
      "# np.save('cam1_RVs_g',cam1_RVs)\n",
      "# np.save('cam2_RVs_g',cam2_RVs)\n",
      "# np.save('cam3_RVs_g',cam3_RVs)\n",
      "# np.save('cam4_RVs_g',cam4_RVs)\n",
      "# np.save('bary_g',bary)\n",
      "# np.save('JDs_g',JDs)"
     ],
     "language": "python",
     "metadata": {},
     "outputs": [],
     "prompt_number": 36
    },
    {
     "cell_type": "code",
     "collapsed": false,
     "input": [
      "data = np.load('data_g.npy')\n",
      "cam1_RVs = np.load('cam1_RVs_g.npy')\n",
      "cam2_RVs = np.load('cam2_RVs_g.npy')\n",
      "cam3_RVs = np.load('cam3_RVs_g.npy')\n",
      "cam4_RVs = np.load('cam4_RVs_g.npy')\n",
      "bary = np.load('bary_g.npy')\n",
      "JDs = np.load('JDs_g.npy')\n"
     ],
     "language": "python",
     "metadata": {},
     "outputs": [],
     "prompt_number": 29
    },
    {
     "cell_type": "code",
     "collapsed": false,
     "input": [
      "top30 = data[10:,][np.argsort(data[10:,3].astype(float),0 ),0][:30]"
     ],
     "language": "python",
     "metadata": {},
     "outputs": [],
     "prompt_number": 321
    },
    {
     "cell_type": "code",
     "collapsed": false,
     "input": [
      "#histograms\n",
      "\n",
      "bins = np.arange(-1e3, 1e3, 2e3/50)\n",
      "width = .006\n",
      "a = np.histogram(cam1_RVs, bins)\n",
      "\n",
      "plt.bar(bins[:-1]/1000,a[0], width = width , color = 'b',  label ='Blue')\n",
      "b = np.histogram(cam2_RVs, a[1] )\n",
      "plt.bar(b[1][:-1]/1000+width,b[0], width = width , color = 'g', label ='Green')\n",
      "c = np.histogram(cam3_RVs, a[1] )\n",
      "plt.bar(c[1][:-1]/1000+2*width,c[0], width = width , color = 'r', label ='Red')\n",
      "d = np.histogram(cam4_RVs, a[1] )\n",
      "plt.bar(d[1][:-1]/1000+3*width,d[0], width = width , color = 'cyan', label ='IR')\n",
      "plt.xlabel('km/s')\n",
      "plt.legend(loc=0)\n",
      "plt.show()"
     ],
     "language": "python",
     "metadata": {},
     "outputs": [],
     "prompt_number": 308
    },
    {
     "cell_type": "code",
     "collapsed": false,
     "input": [
      "def mad(arr):\n",
      "    \"\"\" Median Absolute Deviation: a \"Robust\" version of standard deviation.\n",
      "        Indices variabililty of the sample.\n",
      "        https://en.wikipedia.org/wiki/Median_absolute_deviation \n",
      "    \"\"\"\n",
      "    arr = np.ma.array(arr[-np.isnan(arr)]).compressed() # should be faster to not use masked arrays.\n",
      "    med = np.median(arr[-np.isnan(arr)])\n",
      "    return np.median(np.abs(arr[-np.isnan(arr)] - med))\n",
      "\n",
      "def reject_outliers(data, m=1):\n",
      "    data_out = data.copy()\n",
      "    data_out[abs(data_out - np.median(data_out[-np.isnan(data_out)])) > m * np.std(data_out[-np.isnan(data_out)])]= np.nan\n",
      "    return data_out"
     ],
     "language": "python",
     "metadata": {},
     "outputs": [],
     "prompt_number": 337
    },
    {
     "cell_type": "code",
     "collapsed": false,
     "input": [
      "a =thisStar.exposures.cameras[0]\n",
      "a.safe_flag"
     ],
     "language": "python",
     "metadata": {},
     "outputs": [],
     "prompt_number": 34
    },
    {
     "cell_type": "code",
     "collapsed": false,
     "input": [
      "cam1_RVs_clean = reject_outliers(cam1_RVs,1)\n",
      "cam2_RVs_clean = reject_outliers(cam2_RVs,1)\n",
      "cam3_RVs_clean = reject_outliers(cam3_RVs,1)\n",
      "cam4_RVs_clean = reject_outliers(cam4_RVs,1)\n",
      "\n",
      "# cam1_RVs_clean = cam1_RVs.copy()\n",
      "# cam2_RVs_clean = cam2_RVs.copy()\n",
      "# cam3_RVs_clean = cam3_RVs.copy()\n",
      "# cam4_RVs_clean = cam4_RVs.copy()\n",
      "\n",
      "# cam1_RVs_clean[(cam1_RVs_clean-bary)>10000] = np.nan\n",
      "# cam2_RVs_clean[(cam2_RVs_clean-bary)>10000] = np.nan\n",
      "# cam3_RVs_clean[(cam3_RVs_clean-bary)>10000] = np.nan\n",
      "# cam4_RVs_clean[(cam4_RVs_clean-bary)>10000] = np.nan\n",
      "# cam1_RVs_clean[(cam1_RVs_clean-bary)<-10000] = np.nan\n",
      "# cam2_RVs_clean[(cam2_RVs_clean-bary)<-10000] = np.nan\n",
      "# cam3_RVs_clean[(cam3_RVs_clean-bary)<-10000] = np.nan\n",
      "# cam4_RVs_clean[(cam4_RVs_clean-bary)<-10000] = np.nan\n",
      "\n"
     ],
     "language": "python",
     "metadata": {},
     "outputs": [],
     "prompt_number": 342
    },
    {
     "cell_type": "code",
     "collapsed": false,
     "input": [
      "print np.nanstd(cam1_RVs)\n",
      "print np.nanstd(cam2_RVs)\n",
      "print np.nanstd(cam3_RVs)\n",
      "print np.nanstd(cam4_RVs)\n",
      "# print np.std(bary)\n",
      "print 'B',mad(cam1_RVs_clean)\n",
      "print 'G',mad(cam2_RVs_clean)\n",
      "print 'R',mad(cam3_RVs_clean)\n",
      "print 'IR',mad(cam4_RVs_clean)\n"
     ],
     "language": "python",
     "metadata": {},
     "outputs": [
      {
       "output_type": "stream",
       "stream": "stdout",
       "text": [
        "1588.34514839\n",
        "1423.00468248\n",
        "870.387583219\n",
        "793.036406029\n",
        "B 436.345100976\n",
        "G 520.208792844\n",
        "R 307.43032347\n",
        "IR 235.056006673\n"
       ]
      }
     ],
     "prompt_number": 343
    },
    {
     "cell_type": "code",
     "collapsed": false,
     "input": [
      "cam1_RVs_median = np.zeros(np.unique(JDs).shape[0])\n",
      "cam2_RVs_median = np.zeros(np.unique(JDs).shape[0])\n",
      "cam3_RVs_median = np.zeros(np.unique(JDs).shape[0])\n",
      "cam4_RVs_median = np.zeros(np.unique(JDs).shape[0])\n",
      "trend = np.zeros(np.unique(JDs).shape[0])\n",
      "cam1_RVs_abs_dev = np.zeros(np.unique(JDs).shape[0])\n",
      "cam2_RVs_abs_dev = np.zeros(np.unique(JDs).shape[0])\n",
      "cam3_RVs_abs_dev = np.zeros(np.unique(JDs).shape[0])\n",
      "cam4_RVs_abs_dev = np.zeros(np.unique(JDs).shape[0])\n",
      "# bary_abs_dev = np.zeros(np.unique(JDs).shape[0])\n",
      "JDs_unique = np.unique(JDs)\n",
      "for i in range(len(JDs_unique)):\n",
      "    cam1_RVs_median[i] = np.median(cam1_RVs_clean[JDs1==JDs_unique[i]])\n",
      "    cam2_RVs_median[i] = np.median(cam2_RVs_clean[JDs2==JDs_unique[i]])\n",
      "    cam3_RVs_median[i] = np.median(cam3_RVs_clean[JDs3==JDs_unique[i]])\n",
      "    cam4_RVs_median[i] = np.median(cam4_RVs_clean[JDs4==JDs_unique[i]])\n",
      "    allRVs = np.hstack([cam1_RVs_median[i],cam2_RVs_median[i],cam3_RVs_median[i],cam4_RVs_median[i]])\n",
      "    print allRVs\n",
      "    trend[i] = np.nanmean(np.hstack([cam1_RVs_median[i],cam2_RVs_median[i],cam3_RVs_median[i],cam4_RVs_median[i]]))\n",
      "    print trend[i], JDs_unique[i]\n",
      "#     bary_median[i] = np.median(bary[JDs==JDs_unique[i]])\n",
      "    cam1_RVs_abs_dev[i] = mad(cam1_RVs_clean[JDs1==JDs_unique[i]])\n",
      "    cam2_RVs_abs_dev[i] = mad(cam2_RVs_clean[JDs2==JDs_unique[i]])\n",
      "    cam3_RVs_abs_dev[i] = mad(cam3_RVs_clean[JDs3==JDs_unique[i]])\n",
      "    cam4_RVs_abs_dev[i] = mad(cam4_RVs_clean[JDs4==JDs_unique[i]])\n",
      "#     bary_abs_dev[i] = mad(bary[JDs==JDs_unique[i]])\n",
      "#     cam1_RVs_abs_dev[i] = np.std(cam1_RVs_clean[JDs==JDs_unique[i]])\n",
      "#     cam2_RVs_abs_dev[i] = np.std(cam2_RVs_clean[JDs==JDs_unique[i]])\n",
      "#     cam3_RVs_abs_dev[i] = np.std(cam3_RVs_clean[JDs==JDs_unique[i]])\n",
      "#     cam4_RVs_abs_dev[i] = np.std(cam4_RVs_clean[JDs==JDs_unique[i]])\n",
      "\n"
     ],
     "language": "python",
     "metadata": {},
     "outputs": [
      {
       "output_type": "stream",
       "stream": "stdout",
       "text": [
        "[ nan  nan  nan  nan]\n",
        "nan 56643.7091669\n",
        "[ nan  nan  nan  nan]\n",
        "nan 56643.7169949\n",
        "[ nan  nan  nan  nan]\n",
        "nan 56643.7248256\n",
        "[ -51.01335571 -857.3614116  -556.95136844  -21.26738008]\n",
        "-371.648378956 56664.6068547\n",
        "[  19.37712466 -799.75504297 -558.62254305   37.9084714 ]\n",
        "-325.272997489 56664.6147414\n",
        "[  29.2507155  -787.33558716 -584.88319633   42.55917428]\n",
        "-325.102223428 56664.6226131\n",
        "[          nan  -55.09441115   52.89308225 -337.82468406]\n",
        "-113.342004323 56664.7240369\n",
        "[ 643.21474841  267.67764234  -10.27217367    9.15776153]\n",
        "227.444494651 56666.5633835\n",
        "[          nan  382.56664584           nan           nan]\n",
        "382.566645838 56666.5712594\n",
        "[ 1083.82115049            nan   185.18047825   265.18820265]\n",
        "511.396610463 56666.5994654\n",
        "[ 962.13749415           nan  310.71290632  268.79986298]\n",
        "513.883421149 56666.6073097\n",
        "[ nan  nan  nan  nan]\n",
        "nan 56666.6890282\n",
        "[ nan  nan  nan  nan]\n",
        "nan 56666.6968566\n",
        "[ nan  nan  nan  nan]\n",
        "nan 56666.7046887\n",
        "[ nan  nan  nan  nan]\n",
        "nan 56695.5228869\n",
        "[ nan  nan  nan  nan]\n",
        "nan 56695.5376721\n",
        "[ nan  nan  nan  nan]\n",
        "nan 56695.5524554\n",
        "[ nan  nan  nan  nan]\n",
        "nan 56696.5455301\n",
        "[ nan  nan  nan  nan]\n",
        "nan 56696.5603055\n",
        "[ nan  nan  nan  nan]\n",
        "nan 56696.5750902\n",
        "[ nan  nan  nan  nan]\n",
        "nan 56697.6071657\n",
        "[ nan  nan  nan  nan]\n",
        "nan 56697.6149939\n",
        "[ nan  nan  nan  nan]\n",
        "nan 56697.6228382\n",
        "[ nan  nan  nan  nan]\n",
        "nan 56699.5835547\n",
        "[ nan  nan  nan  nan]\n",
        "nan 56699.5983286\n",
        "[ nan  nan  nan  nan]\n",
        "nan 56699.6131181\n",
        "[ nan  nan  nan  nan]\n",
        "nan 56699.6278899\n",
        "[ nan  nan  nan  nan]\n",
        "nan 56699.6462305\n",
        "[ nan  nan  nan  nan]\n",
        "nan 56699.6610106\n"
       ]
      }
     ],
     "prompt_number": 344
    },
    {
     "cell_type": "code",
     "collapsed": false,
     "input": [
      "plt.title('M67 Median Radial Velocities')\n",
      "plt.ylabel('RV [m/s]')\n",
      "plt.xlabel('JD')\n",
      "\n",
      "plt.errorbar(JDs_unique, cam1_RVs_median, yerr= cam1_RVs_abs_dev, color = 'b', label ='Blue', fmt='.')\n",
      "plt.errorbar(JDs_unique, cam2_RVs_median, yerr= cam2_RVs_abs_dev, color = 'g', label ='Green', fmt='.')\n",
      "plt.errorbar(JDs_unique, cam3_RVs_median, yerr= cam3_RVs_abs_dev, color = 'r', label ='Red', fmt='.')\n",
      "plt.errorbar(JDs_unique, cam4_RVs_median, yerr= cam4_RVs_abs_dev, color = 'cyan', label ='IR', fmt='.')\n",
      "# plt.errorbar(JDs_unique, cam1_RVs_median/1000, color = 'b', label ='Blue', fmt='.')\n",
      "# plt.errorbar(JDs_unique, cam2_RVs_median/1000,  color = 'g', label ='Green', fmt='.')\n",
      "# plt.errorbar(JDs_unique, cam3_RVs_median/1000,  color = 'r', label ='Red', fmt='.')\n",
      "# plt.errorbar(JDs_unique, cam4_RVs_median/1000, color = 'cyan', label ='IR', fmt='.')\n",
      "# plt.plot([min(JDs_unique[-np.isnan(trend)]),max(JDs_unique[-np.isnan(trend)])], [min(trend[-np.isnan(trend)]),max(trend[-np.isnan(trend)])])\n",
      "plt.legend(loc=0)\n",
      "plt.show()"
     ],
     "language": "python",
     "metadata": {},
     "outputs": [],
     "prompt_number": 345
    },
    {
     "cell_type": "code",
     "collapsed": false,
     "input": [
      "plt.plot(cam1_RVs_abs_dev)\n",
      "plt.plot(cam2_RVs_abs_dev)\n",
      "plt.plot(cam3_RVs_abs_dev)\n",
      "plt.plot(cam4_RVs_abs_dev)# plt.plot(cam1_RVs_clean)\n",
      "plt.show()"
     ],
     "language": "python",
     "metadata": {},
     "outputs": [],
     "prompt_number": 340
    },
    {
     "cell_type": "code",
     "collapsed": false,
     "input": [
      "# plt.title(thisStar.name+' V='+str(thisStar.V))\n",
      "plt.ylabel('dRV [m/s]')\n",
      "plt.xlabel('JD')\n",
      "# plt.scatter(JDs1, cam1_RVs, color = 'b', label ='Blue')\n",
      "# plt.scatter(JDs2, cam2_RVs, color = 'g', label ='Green')\n",
      "# plt.scatter(JDs3, cam3_RVs, color = 'r', label ='Red')\n",
      "# plt.scatter(JDs4, cam4_RVs, color = 'cyan', label ='IR')\n",
      "plt.scatter(JDs1, cam1_RVs, color = 'b', label ='Blue')\n",
      "plt.scatter(JDs2, cam2_RVs, color = 'g', label ='Green')\n",
      "plt.scatter(JDs3, cam3_RVs, color = 'r', label ='Red')\n",
      "plt.scatter(JDs4, cam4_RVs, color = 'cyan', label ='IR')\n",
      "# plt.plot(JDs, bary, label = 'Barycentric Vel.')\n",
      "\n",
      "plt.legend(loc=0)\n",
      "plt.show()"
     ],
     "language": "python",
     "metadata": {},
     "outputs": [],
     "prompt_number": 265
    },
    {
     "cell_type": "code",
     "collapsed": false,
     "input": [
      "#open sky lines (>9000Ang) from gemini\n",
      "a = np.loadtxt('mktrans_zm_30_15.dat')\n",
      "\n",
      "#wavelength range (microns)\n",
      "aClean = a[a[:,0]>0.4]\n",
      "aClean = aClean[aClean[:,0]<1.0]\n",
      "\n",
      "\n",
      "#in Ang (to match 2dfdr data)\n",
      "skyX = aClean[:,0]*10000\n",
      "skyY = aClean[:,1]\n"
     ],
     "language": "python",
     "metadata": {},
     "outputs": [],
     "prompt_number": 4
    },
    {
     "cell_type": "code",
     "collapsed": false,
     "input": [
      "#lambda|FWHM|Flux\n",
      "a= np.loadtxt('sky_emission.tsv',delimiter='|', skiprows=36,comments='#')\n",
      "sky2X = a[:,0]\n",
      "sky2Y = a[:,2]\n"
     ],
     "language": "python",
     "metadata": {},
     "outputs": [],
     "prompt_number": 5
    },
    {
     "cell_type": "code",
     "collapsed": false,
     "input": [
      "#or load...\n",
      "data = np.load('data.npy')"
     ],
     "language": "python",
     "metadata": {},
     "outputs": [],
     "prompt_number": 347
    },
    {
     "cell_type": "code",
     "collapsed": false,
     "input": [
      "#sample analysis\n",
      "MSIdx = np.where(data[:,3].astype(float)>13)[0]\n",
      "giantsIdx = np.where(((data[:,3].astype(float)<12) & (data[:,2].astype(float)>1) & (data[:,2].astype(float)<1.3)))[0]\n",
      "numObs = np.average(data[:,5].astype(int))\n",
      "HRObs = np.sum(data[:,4].astype(bool))\n",
      "\n",
      "print 'Total stars:', data.shape[0]\n",
      "print 'Avg number of obs:',numObs\n",
      "print 'Have HR:', HRObs\n",
      "print 'Main S:',MSIdx.shape[0]\n",
      "print 'Range of observations:', np.max(thisStar.exposures.JDs)-np.min(thisStar.exposures.JDs), 'days'\n",
      "# print data[MSIdx,0]\n",
      "print 'Giants:', giantsIdx.shape[0]\n",
      "# print data[giantsIdx,0]"
     ],
     "language": "python",
     "metadata": {},
     "outputs": [
      {
       "output_type": "stream",
       "stream": "stdout",
       "text": [
        "Total stars: 289\n",
        "Avg number of obs: 25.6228373702\n",
        "Have HR: 136\n",
        "Main S: 202\n",
        "Range of observations: 55.9012108141 days\n",
        "Giants: 13\n"
       ]
      }
     ],
     "prompt_number": 71
    },
    {
     "cell_type": "code",
     "collapsed": false,
     "input": [
      "np.sort(data[:,3].astype(float))"
     ],
     "language": "python",
     "metadata": {},
     "outputs": [
      {
       "metadata": {},
       "output_type": "pyout",
       "prompt_number": 346,
       "text": [
        "array([  9.642,   9.681,   9.985,  10.282,  10.449,  10.479,  10.484,\n",
        "        10.496,  10.508,  10.527,  10.528,  10.731,  10.757,  10.866,\n",
        "        10.894,  10.908,  10.922,  11.037,  11.06 ,  11.135,  11.238,\n",
        "        11.243,  11.278,  11.296,  11.425,  11.488,  11.492,  11.531,\n",
        "        11.618,  11.957])"
       ]
      }
     ],
     "prompt_number": 346
    },
    {
     "cell_type": "code",
     "collapsed": false,
     "input": [
      "#open 1 star\n",
      "filehandler = open('M67-S39.obj', 'r') \n",
      "thisStar = pickle.load(filehandler) \n",
      "filehandler.close()\n",
      "filehandler2 = open('M67-S33.obj', 'r') \n",
      "\n",
      "thisStar2 = pickle.load(filehandler2) \n",
      "filehandler2.close()"
     ],
     "language": "python",
     "metadata": {},
     "outputs": [],
     "prompt_number": 404
    },
    {
     "cell_type": "code",
     "collapsed": false,
     "input": [
      "# os.chdir('/Users/Carlos/Documents/HERMES/reductions/m67_all_4cams')\n",
      "# for i in data[np.argsort(data[:,3].astype(float),0),0]:\n",
      "#     filehandler = open(i+'.obj', 'r') \n",
      "#     thisStar = pickle.load(filehandler) \n",
      "#     filehandler.close()\n",
      "#     print thisStar.name, thisStar.exposures.JDs"
     ],
     "language": "python",
     "metadata": {},
     "outputs": [],
     "prompt_number": 385
    },
    {
     "cell_type": "code",
     "collapsed": false,
     "input": [
      "# RV vs. JD (x 4 channels) + baryVel  (2 stars)\n",
      "plt.title(thisStar.name+' V='+str(thisStar.V))\n",
      "plt.ylabel('dRV [km/s]')\n",
      "plt.xlabel('JD')\n",
      "plt.scatter(thisStar.exposures.JDs, np.array(thisStar.exposures.cam1_RVs.RVs)/1000, color = 'b')\n",
      "plt.scatter(thisStar.exposures.JDs, np.array(thisStar.exposures.cam2_RVs.RVs)/1000, color = 'g')\n",
      "plt.scatter(thisStar.exposures.JDs, np.array(thisStar.exposures.cam3_RVs.RVs)/1000, color = 'r')\n",
      "plt.scatter(thisStar.exposures.JDs, np.array(thisStar.exposures.cam4_RVs.RVs)/1000, color = 'cyan')\n",
      "\n",
      "plt.scatter(thisStar2.exposures.JDs, np.array(thisStar2.exposures.cam1_RVs.RVs)/1000, color = 'b',  s = 50, alpha = 0.5)\n",
      "plt.scatter(thisStar2.exposures.JDs, np.array(thisStar2.exposures.cam2_RVs.RVs)/1000, color = 'g',  s = 50, alpha = 0.5)\n",
      "plt.scatter(thisStar2.exposures.JDs, np.array(thisStar2.exposures.cam3_RVs.RVs)/1000, color = 'r',s = 50, alpha = 0.5)\n",
      "plt.scatter(thisStar2.exposures.JDs, np.array(thisStar2.exposures.cam4_RVs.RVs)/1000, color = 'cyan', s = 50, alpha = 0.5)\n",
      "# # # plt.plot(thisStar.exposures.JDs, np.array(thisStar.baryVels)/1000, label = 'Barycentric Vel.')\n",
      "\n",
      "plt.plot(thisStar2.exposures.JDs, np.array(thisStar2.exposures.cam1_RVs.RVs)/1000-np.array(thisStar.exposures.cam1_RVs.RVs)/1000, color = 'b', label ='Blue')\n",
      "plt.plot(thisStar2.exposures.JDs, np.array(thisStar2.exposures.cam2_RVs.RVs)/1000-np.array(thisStar.exposures.cam2_RVs.RVs)/1000, color = 'g', label ='Green')\n",
      "plt.plot(thisStar2.exposures.JDs, np.array(thisStar2.exposures.cam3_RVs.RVs)/1000-np.array(thisStar.exposures.cam3_RVs.RVs)/1000, color = 'r', label ='Red')\n",
      "plt.plot(thisStar2.exposures.JDs, np.array(thisStar2.exposures.cam4_RVs.RVs)/1000-np.array(thisStar.exposures.cam4_RVs.RVs)/1000, color = 'cyan', label ='IR')\n",
      "\n",
      "plt.legend(loc=0)\n",
      "plt.show()"
     ],
     "language": "python",
     "metadata": {},
     "outputs": [],
     "prompt_number": 388
    },
    {
     "cell_type": "code",
     "collapsed": false,
     "input": [
      "thisStar.exposures.cam1_wavelengths"
     ],
     "language": "python",
     "metadata": {},
     "outputs": [
      {
       "metadata": {},
       "output_type": "pyout",
       "prompt_number": 314,
       "text": [
        "array([[ 4708.26708984,  4708.31241033,  4708.35773082, ...,\n",
        "         4893.76385121,  4893.8091717 ,  4893.85449219],\n",
        "       [ 4708.26708984,  4708.31241033,  4708.35773082, ...,\n",
        "         4893.76385121,  4893.8091717 ,  4893.85449219],\n",
        "       [ 4708.26708984,  4708.31241033,  4708.35773082, ...,\n",
        "         4893.76385121,  4893.8091717 ,  4893.85449219],\n",
        "       ..., \n",
        "       [ 4708.26708984,  4708.31241033,  4708.35773082, ...,\n",
        "         4893.76385121,  4893.8091717 ,  4893.85449219],\n",
        "       [ 4708.26708984,  4708.31241033,  4708.35773082, ...,\n",
        "         4893.76385121,  4893.8091717 ,  4893.85449219],\n",
        "       [ 4708.26708984,  4708.31241033,  4708.35773082, ...,\n",
        "         4893.76385121,  4893.8091717 ,  4893.85449219]])"
       ]
      }
     ],
     "prompt_number": 314
    },
    {
     "cell_type": "code",
     "collapsed": false,
     "input": [
      "plt.scatter(thisStar.exposures.JDs,star1RV1, color = 'r')\n",
      "plt.scatter(thisStar.exposures.JDs,star1RV2, color = 'g')\n",
      "plt.scatter(thisStar.exposures.JDs,star1RV3, color = 'b')\n",
      "plt.scatter(thisStar.exposures.JDs,star1RV4, color = 'cyan')\n",
      "plt.show()"
     ],
     "language": "python",
     "metadata": {},
     "outputs": [],
     "prompt_number": 340
    },
    {
     "cell_type": "code",
     "collapsed": false,
     "input": [
      "star1RV1 = np.zeros(len(thisStar.exposures.JDs))\n",
      "star1RV2 = np.zeros(len(thisStar.exposures.JDs))\n",
      "star1RV3 = np.zeros(len(thisStar.exposures.JDs))\n",
      "star1RV4 = np.zeros(len(thisStar.exposures.JDs))\n",
      "for i in range(len(thisStar.exposures.JDs)):\n",
      "    star1RV1[i]= RVs().calculate_RV(thisStar.exposures.cam1_wavelengths[i], \n",
      "                           thisStar.exposures.cam1_fluxes[i],\n",
      "                           thisStar.exposures.cam1_wavelengths[3],\n",
      "                           thisStar.exposures.cam1_fluxes[3],\n",
      "                           xDef = 100)\n",
      "    star1RV2[i]= RVs().calculate_RV(thisStar.exposures.cam2_wavelengths[i], \n",
      "                           thisStar.exposures.cam2_fluxes[i],\n",
      "                           thisStar.exposures.cam2_wavelengths[3],\n",
      "                           thisStar.exposures.cam2_fluxes[3],\n",
      "                           xDef = 100)\n",
      "    star1RV3[i]= RVs().calculate_RV(thisStar.exposures.cam3_wavelengths[i], \n",
      "                           thisStar.exposures.cam3_fluxes[i],\n",
      "                           thisStar.exposures.cam3_wavelengths[3],\n",
      "                           thisStar.exposures.cam3_fluxes[3],\n",
      "                           xDef = 100)\n",
      "    star1RV4[i]= RVs().calculate_RV(thisStar.exposures.cam4_wavelengths[i], \n",
      "                           thisStar.exposures.cam4_fluxes[i],\n",
      "                           thisStar.exposures.cam4_wavelengths[3],\n",
      "                           thisStar.exposures.cam_fluxes[3],\n",
      "                           xDef = 100)\n",
      "                            "
     ],
     "language": "python",
     "metadata": {},
     "outputs": [
      {
       "output_type": "stream",
       "stream": "stdout",
       "text": [
        "p_guess [198851, 100]\n",
        "final p [ 198851.40642596     302.97005756]\n",
        "RV -9812.32707022\n",
        "p_guess"
       ]
      },
      {
       "output_type": "stream",
       "stream": "stdout",
       "text": [
        " [204857, 100]\n",
        "final p [ 204856.50632985     286.49150776]\n",
        "RV 15817.3342989\n",
        "p_guess"
       ]
      },
      {
       "output_type": "stream",
       "stream": "stdout",
       "text": [
        " [207064, 100]\n",
        "final p [ 207063.23521828     939.473323  ]\n",
        "RV 107049.904446\n",
        "p_guess"
       ]
      },
      {
       "output_type": "stream",
       "stream": "stdout",
       "text": [
        " [201350, 100]\n",
        "final p [ 201350.58520058     511.46281709]\n",
        "RV 28.5100120818\n",
        "p_guess"
       ]
      },
      {
       "output_type": "stream",
       "stream": "stdout",
       "text": [
        " [198852, 100]\n",
        "final p [ 198851.71135822     302.97228244]\n",
        "RV -9812.32707022\n",
        "p_guess"
       ]
      },
      {
       "output_type": "stream",
       "stream": "stdout",
       "text": [
        " [204854, 100]\n",
        "final p [ 204854.38903902     286.76886636]\n",
        "RV 15760.4374129\n",
        "p_guess"
       ]
      },
      {
       "output_type": "stream",
       "stream": "stdout",
       "text": [
        " [207083, 100]\n",
        "final p [ 207080.88575826     661.81833907]\n",
        "RV 107533.520809\n",
        "p_guess"
       ]
      },
      {
       "output_type": "stream",
       "stream": "stdout",
       "text": [
        " [201347, 100]\n",
        "final p [ 201347.18801067     514.42979171]\n",
        "RV -57.0200241636\n",
        "p_guess"
       ]
      },
      {
       "output_type": "stream",
       "stream": "stdout",
       "text": [
        " [198852, 100]\n",
        "final p [ 198852.30372942     301.56945882]\n",
        "RV -9784.0494706\n",
        "p_guess"
       ]
      },
      {
       "output_type": "stream",
       "stream": "stdout",
       "text": [
        " [204858, 100]\n",
        "final p [ 204857.52243574     285.0559318 ]\n",
        "RV 15845.7827419\n",
        "p_guess"
       ]
      },
      {
       "output_type": "stream",
       "stream": "stdout",
       "text": [
        " [207118, 100]\n",
        "final p [ 207115.0239258      824.80054193]\n",
        "RV 108529.201558\n",
        "p_guess"
       ]
      },
      {
       "output_type": "stream",
       "stream": "stdout",
       "text": [
        " [201345, 100]\n",
        "final p [ 201344.79460645     510.71003978]\n",
        "RV -142.550060409\n",
        "p_guess"
       ]
      },
      {
       "output_type": "stream",
       "stream": "stdout",
       "text": [
        " [199198, 100]\n",
        "final p [ 199197.98815011     247.43471078]\n",
        "RV -28.277599626\n",
        "p_guess"
       ]
      },
      {
       "output_type": "stream",
       "stream": "stdout",
       "text": [
        " [204300, 100]\n",
        "final p [ 204299.98809342     255.45972596]\n",
        "RV -28.4484429836\n",
        "p_guess"
       ]
      },
      {
       "output_type": "stream",
       "stream": "stdout",
       "text": [
        " [203300, 100]\n",
        "final p [ 203299.9887782      286.82991018]\n",
        "RV -28.4480213781\n",
        "p_guess"
       ]
      },
      {
       "output_type": "stream",
       "stream": "stdout",
       "text": [
        " [201349, 100]\n",
        "final p [ 201348.99213519     422.24558607]\n",
        "RV -28.5100120818\n",
        "p_guess"
       ]
      },
      {
       "output_type": "stream",
       "stream": "stdout",
       "text": [
        " [199202, 100]\n",
        "final p [ 199202.18252102     296.05652195]\n",
        "RV 113.110398504\n",
        "p_guess"
       ]
      },
      {
       "output_type": "stream",
       "stream": "stdout",
       "text": [
        " [204301, 100]\n",
        "final p [ 204300.88674561     304.99418843]\n",
        "RV 0.0\n",
        "p_guess"
       ]
      },
      {
       "output_type": "stream",
       "stream": "stdout",
       "text": [
        " [203300, 100]\n",
        "final p [ 203299.80362948     332.07986775]\n",
        "RV -28.4480213781\n",
        "p_guess"
       ]
      },
      {
       "output_type": "stream",
       "stream": "stdout",
       "text": [
        " [201350, 100]\n",
        "final p [ 201350.52359261     450.95510938]\n",
        "RV 28.5100120818\n",
        "p_guess"
       ]
      },
      {
       "output_type": "stream",
       "stream": "stdout",
       "text": [
        " [199201, 100]\n",
        "final p [ 199201.25534563     296.25078176]\n",
        "RV 84.832798878\n",
        "p_guess"
       ]
      },
      {
       "output_type": "stream",
       "stream": "stdout",
       "text": [
        " [204304, 100]\n",
        "final p [ 204303.6807205      304.32013589]\n",
        "RV 85.3453289508\n",
        "p_guess"
       ]
      },
      {
       "output_type": "stream",
       "stream": "stdout",
       "text": [
        " [203302, 100]\n",
        "final p [ 203301.86750965     331.21687454]\n",
        "RV 28.4480213781\n",
        "p_guess"
       ]
      },
      {
       "output_type": "stream",
       "stream": "stdout",
       "text": [
        " [201351, 100]\n",
        "final p [ 201351.18165806     450.1518842 ]\n",
        "RV 57.0200241636\n",
        "p_guess"
       ]
      },
      {
       "output_type": "stream",
       "stream": "stdout",
       "text": [
        " [199217, 100]\n",
        "final p [ 199217.52356587     304.18719216]\n",
        "RV 537.274392894\n",
        "p_guess"
       ]
      },
      {
       "output_type": "stream",
       "stream": "stdout",
       "text": [
        " [204320, 100]\n",
        "final p [ 204320.06307972     312.38104034]\n",
        "RV 568.968859672\n",
        "p_guess"
       ]
      },
      {
       "output_type": "stream",
       "stream": "stdout",
       "text": [
        " [203368, 100]\n",
        "final p [ 203367.86196252     340.92131208]\n",
        "RV 1906.01743233\n",
        "p_guess"
       ]
      },
      {
       "output_type": "stream",
       "stream": "stdout",
       "text": [
        " [201351, 100]\n",
        "final p [ 201350.99320505     462.41568955]\n",
        "RV 28.5100120818\n",
        "p_guess"
       ]
      },
      {
       "output_type": "stream",
       "stream": "stdout",
       "text": [
        " [199227, 100]\n",
        "final p [ 199227.64634274     300.33832229]\n",
        "RV 820.050389154\n",
        "p_guess"
       ]
      },
      {
       "output_type": "stream",
       "stream": "stdout",
       "text": [
        " [204874, 100]\n",
        "final p [ 204873.90310101     286.16178378]\n",
        "RV 16300.9578296\n",
        "p_guess"
       ]
      },
      {
       "output_type": "stream",
       "stream": "stdout",
       "text": [
        " [203918, 100]\n",
        "final p [ 203917.7936338     312.4857595]\n",
        "RV 17552.4291903\n",
        "p_guess"
       ]
      },
      {
       "output_type": "stream",
       "stream": "stdout",
       "text": [
        " [201333, 100]\n",
        "final p [ 201332.7837734      511.08631138]\n",
        "RV -484.670205391\n",
        "p_guess"
       ]
      },
      {
       "output_type": "stream",
       "stream": "stdout",
       "text": [
        " [178064, 100]\n",
        "final p [ 178059.85150075     295.37003423]\n",
        "RV -597760.178494\n",
        "p_guess"
       ]
      },
      {
       "output_type": "stream",
       "stream": "stdout",
       "text": [
        " [204871, 100]\n",
        "final p [ 204870.41741487     285.56215478]\n",
        "RV 16215.6125007\n",
        "p_guess"
       ]
      },
      {
       "output_type": "stream",
       "stream": "stdout",
       "text": [
        " [203912, 100]\n",
        "final p [ 203912.32734695     311.43458666]\n",
        "RV 17410.1890834\n",
        "p_guess"
       ]
      },
      {
       "output_type": "stream",
       "stream": "stdout",
       "text": [
        " [201334, 100]\n",
        "final p [ 201333.90315745     511.40302068]\n",
        "RV -456.160193309\n",
        "p_guess"
       ]
      },
      {
       "output_type": "stream",
       "stream": "stdout",
       "text": [
        " [199246, 100]\n",
        "final p [ 199246.14070866     305.38045971]\n",
        "RV 1357.32478205\n",
        "p_guess"
       ]
      },
      {
       "output_type": "stream",
       "stream": "stdout",
       "text": [
        " [204873, 100]\n",
        "final p [ 204872.60234109     283.09953163]\n",
        "RV 16272.5093866\n",
        "p_guess"
       ]
      },
      {
       "output_type": "stream",
       "stream": "stdout",
       "text": [
        " [203914, 100]\n",
        "final p [ 203914.10772134     311.21428372]\n",
        "RV 17467.0851262\n",
        "p_guess"
       ]
      },
      {
       "output_type": "stream",
       "stream": "stdout",
       "text": [
        " [201331, 100]\n",
        "final p [ 201330.9134837      506.04146944]\n",
        "RV -541.690229555\n",
        "p_guess"
       ]
      },
      {
       "output_type": "stream",
       "stream": "stdout",
       "text": [
        " [199243, 100]\n",
        "final p [ 199243.3907902      298.82414027]\n",
        "RV 1272.49198317\n",
        "p_guess"
       ]
      },
      {
       "output_type": "stream",
       "stream": "stdout",
       "text": [
        " [204898, 100]\n",
        "final p [ 204897.45671612     307.58187865]\n",
        "RV 16983.7204612\n",
        "p_guess"
       ]
      },
      {
       "output_type": "stream",
       "stream": "stdout",
       "text": [
        " [207067, 100]\n",
        "final p [ 207066.84228271     477.14906105]\n",
        "RV 107135.24851\n",
        "p_guess"
       ]
      },
      {
       "output_type": "stream",
       "stream": "stdout",
       "text": [
        " [201359, 100]\n",
        "final p [ 201359.26605737     539.12051961]\n",
        "RV 285.100120818\n",
        "p_guess"
       ]
      },
      {
       "output_type": "stream",
       "stream": "stdout",
       "text": [
        " [370155, 100]\n",
        "final p [ 370154.04162804     638.55290763]\n",
        "RV 4834225.32166\n",
        "p_guess"
       ]
      },
      {
       "output_type": "stream",
       "stream": "stdout",
       "text": [
        " [204900, 100]\n",
        "final p [ 204899.74468553     305.09167661]\n",
        "RV 17040.6173472\n",
        "p_guess"
       ]
      },
      {
       "output_type": "stream",
       "stream": "stdout",
       "text": [
        " [207062, 100]\n",
        "final p [ 207061.9489646      485.66419774]\n",
        "RV 106993.008403\n",
        "p_guess"
       ]
      },
      {
       "output_type": "stream",
       "stream": "stdout",
       "text": [
        " [201360, 100]\n",
        "final p [ 201360.09117037     541.37653865]\n",
        "RV 313.6101329\n",
        "p_guess"
       ]
      },
      {
       "output_type": "stream",
       "stream": "stdout",
       "text": [
        " [137835, 100]\n",
        "final p [ 137833.91066774     485.93932512]\n",
        "RV -1735254.90105\n",
        "p_guess"
       ]
      },
      {
       "output_type": "stream",
       "stream": "stdout",
       "text": [
        " [204899, 100]\n",
        "final p [ 204899.4385749      306.39577571]\n",
        "RV 17040.6173472\n",
        "p_guess"
       ]
      },
      {
       "output_type": "stream",
       "stream": "stdout",
       "text": [
        " [207067, 100]\n",
        "final p [ 207067.35802743     480.55963975]\n",
        "RV 107163.696531\n",
        "p_guess"
       ]
      },
      {
       "output_type": "stream",
       "stream": "stdout",
       "text": [
        " [201359, 100]\n",
        "final p [ 201359.30570039     541.95474475]\n",
        "RV 285.100120818\n",
        "p_guess"
       ]
      },
      {
       "output_type": "stream",
       "stream": "stdout",
       "text": [
        " [137839, 100]\n",
        "final p [ 137839.06537653     489.82680963]\n",
        "RV -1735085.23545\n",
        "p_guess"
       ]
      },
      {
       "output_type": "stream",
       "stream": "stdout",
       "text": [
        " [204342, 100]\n",
        "final p [ 204341.87498493     316.37761579]\n",
        "RV 1166.38616233\n",
        "p_guess"
       ]
      },
      {
       "output_type": "stream",
       "stream": "stdout",
       "text": [
        " [203319, 100]\n",
        "final p [ 203318.99304126     339.5178553 ]\n",
        "RV 512.064384806\n",
        "p_guess"
       ]
      },
      {
       "output_type": "stream",
       "stream": "stdout",
       "text": [
        " [201406, 100]\n",
        "final p [ 201405.821809       465.06604882]\n",
        "RV 1596.56067658\n",
        "p_guess"
       ]
      },
      {
       "output_type": "stream",
       "stream": "stdout",
       "text": [
        " [204204, 100]\n",
        "final p [ 204205.37829717     221.22648075]\n",
        "RV 141585.941327\n",
        "p_guess"
       ]
      },
      {
       "output_type": "stream",
       "stream": "stdout",
       "text": [
        " [204353, 100]\n",
        "final p [ 204354.20036119     269.77032975]\n",
        "RV 1536.21592111\n",
        "p_guess"
       ]
      },
      {
       "output_type": "stream",
       "stream": "stdout",
       "text": [
        " [203317, 100]\n",
        "final p [ 203316.65588865     334.53728617]\n",
        "RV 455.16834205\n",
        "p_guess"
       ]
      },
      {
       "output_type": "stream",
       "stream": "stdout",
       "text": [
        " [201411, 100]\n",
        "final p [ 201412.22939802     349.4356844 ]\n",
        "RV 1796.13076115\n",
        "p_guess"
       ]
      },
      {
       "output_type": "stream",
       "stream": "stdout",
       "text": [
        " [78958, 100]\n",
        "final p [ 78964.04427785    127.9164684 ]\n",
        "RV -3399928.91343\n",
        "p_guess"
       ]
      },
      {
       "output_type": "stream",
       "stream": "stdout",
       "text": [
        " [204351, 100]\n",
        "final p [ 204350.62141012     312.81471156]\n",
        "RV 1422.42214918\n",
        "p_guess"
       ]
      },
      {
       "output_type": "stream",
       "stream": "stdout",
       "text": [
        " [203328, 100]\n",
        "final p [ 203328.29434399     337.51379752]\n",
        "RV 796.544598588\n",
        "p_guess"
       ]
      },
      {
       "output_type": "stream",
       "stream": "stdout",
       "text": [
        " [201416, 100]\n",
        "final p [ 201416.68740777     458.90752862]\n",
        "RV 1910.17080948\n",
        "p_guess"
       ]
      },
      {
       "output_type": "stream",
       "stream": "stdout",
       "text": [
        " [120541, 100]\n",
        "final p [ 120548.60416314     259.61405066]\n",
        "RV -2224033.21058\n",
        "p_guess"
       ]
      },
      {
       "output_type": "stream",
       "stream": "stdout",
       "text": [
        " [204351, 100]\n",
        "final p [ 204351.34335926     315.95712439]\n",
        "RV 1450.87059216\n",
        "p_guess"
       ]
      },
      {
       "output_type": "stream",
       "stream": "stdout",
       "text": [
        " [203328, 100]\n",
        "final p [ 203328.40311787     337.87184133]\n",
        "RV 796.544598588\n",
        "p_guess"
       ]
      },
      {
       "output_type": "stream",
       "stream": "stdout",
       "text": [
        " [201416, 100]\n",
        "final p [ 201416.44805185     455.7252888 ]\n",
        "RV 1910.17080948\n",
        "p_guess"
       ]
      },
      {
       "output_type": "stream",
       "stream": "stdout",
       "text": [
        " [199663, 100]\n",
        "final p [ 199662.85110793     271.97296888]\n",
        "RV 13120.8062265\n",
        "empty after removing zeros"
       ]
      },
      {
       "output_type": "stream",
       "stream": "stdout",
       "text": [
        "\n",
        "RV"
       ]
      },
      {
       "output_type": "stream",
       "stream": "stdout",
       "text": [
        " 0\n",
        "empty after removing zeros"
       ]
      },
      {
       "output_type": "stream",
       "stream": "stdout",
       "text": [
        "\n",
        "RV"
       ]
      },
      {
       "output_type": "stream",
       "stream": "stdout",
       "text": [
        " 0\n",
        "p_guess"
       ]
      },
      {
       "output_type": "stream",
       "stream": "stdout",
       "text": [
        " [172654, 100]\n",
        "final p [ 172656.56176023     299.06375186]\n",
        "RV -818037.776664\n",
        "p_guess"
       ]
      },
      {
       "output_type": "stream",
       "stream": "stdout",
       "text": [
        " [199662, 100]\n",
        "final p [ 199661.72905597     270.05471183]\n",
        "RV 13092.5286268\n",
        "empty after removing zeros"
       ]
      },
      {
       "output_type": "stream",
       "stream": "stdout",
       "text": [
        "\n",
        "RV"
       ]
      },
      {
       "output_type": "stream",
       "stream": "stdout",
       "text": [
        " 0\n",
        "empty after removing zeros"
       ]
      },
      {
       "output_type": "stream",
       "stream": "stdout",
       "text": [
        "\n",
        "RV"
       ]
      },
      {
       "output_type": "stream",
       "stream": "stdout",
       "text": [
        " 0\n",
        "p_guess"
       ]
      },
      {
       "output_type": "stream",
       "stream": "stdout",
       "text": [
        " [172482, 100]\n",
        "final p [ 172484.34095318     310.865436  ]\n",
        "RV -822941.498742\n",
        "p_guess"
       ]
      },
      {
       "output_type": "stream",
       "stream": "stdout",
       "text": [
        " [199661, 100]\n",
        "final p [ 199661.15162622     272.25159469]\n",
        "RV 13092.5286268\n",
        "empty after removing zeros"
       ]
      },
      {
       "output_type": "stream",
       "stream": "stdout",
       "text": [
        "\n",
        "RV"
       ]
      },
      {
       "output_type": "stream",
       "stream": "stdout",
       "text": [
        " 0\n",
        "empty after removing zeros"
       ]
      },
      {
       "output_type": "stream",
       "stream": "stdout",
       "text": [
        "\n",
        "RV"
       ]
      },
      {
       "output_type": "stream",
       "stream": "stdout",
       "text": [
        " 0\n",
        "p_guess"
       ]
      },
      {
       "output_type": "stream",
       "stream": "stdout",
       "text": [
        " [172812, 100]\n",
        "final p [ 172814.78440691     301.98670987]\n",
        "RV -813533.194755\n",
        "p_guess"
       ]
      },
      {
       "output_type": "stream",
       "stream": "stdout",
       "text": [
        " [199690, 100]\n",
        "final p [ 199690.36856035     292.29710752]\n",
        "RV 13912.579016\n",
        "p_guess"
       ]
      },
      {
       "output_type": "stream",
       "stream": "stdout",
       "text": [
        " [204944, 100]\n",
        "final p [ 204943.80436192     288.35303104]\n",
        "RV 18292.3488385\n",
        "p_guess"
       ]
      },
      {
       "output_type": "stream",
       "stream": "stdout",
       "text": [
        " [203961, 100]\n",
        "final p [ 203961.1767008      317.95634716]\n",
        "RV 18804.1421309\n",
        "p_guess"
       ]
      },
      {
       "output_type": "stream",
       "stream": "stdout",
       "text": [
        " [201341, 100]\n",
        "final p [ 201341.46602906     503.66612231]\n",
        "RV -228.080096655\n",
        "p_guess"
       ]
      },
      {
       "output_type": "stream",
       "stream": "stdout",
       "text": [
        " [199692, 100]\n",
        "final p [ 199691.47772129     290.96045915]\n",
        "RV 13940.8566156\n",
        "p_guess"
       ]
      },
      {
       "output_type": "stream",
       "stream": "stdout",
       "text": [
        " [204945, 100]\n",
        "final p [ 204945.43731207     287.52329296]\n",
        "RV 18349.2457244\n",
        "p_guess"
       ]
      },
      {
       "output_type": "stream",
       "stream": "stdout",
       "text": [
        " [203964, 100]\n",
        "final p [ 203963.99659895     318.28844447]\n",
        "RV 18861.0381737\n",
        "p_guess"
       ]
      },
      {
       "output_type": "stream",
       "stream": "stdout",
       "text": [
        " [201343, 100]\n",
        "final p [ 201342.66853738     510.45616903]\n",
        "RV -199.570084573\n",
        "p_guess"
       ]
      },
      {
       "output_type": "stream",
       "stream": "stdout",
       "text": [
        " [199692, 100]\n",
        "final p [ 199691.71755158     291.77807374]\n",
        "RV 13940.8566156\n",
        "p_guess"
       ]
      },
      {
       "output_type": "stream",
       "stream": "stdout",
       "text": [
        " [204947, 100]\n",
        "final p [ 204947.59844738     286.9412558 ]\n",
        "RV 18406.1426104\n",
        "p_guess"
       ]
      },
      {
       "output_type": "stream",
       "stream": "stdout",
       "text": [
        " [203965, 100]\n",
        "final p [ 203964.60646436     318.12459204]\n",
        "RV 18889.4861951\n",
        "p_guess"
       ]
      },
      {
       "output_type": "stream",
       "stream": "stdout",
       "text": [
        " [201340, 100]\n",
        "final p [ 201339.80688446     507.97815046]\n",
        "RV -285.100120818\n",
        "p_guess"
       ]
      },
      {
       "output_type": "stream",
       "stream": "stdout",
       "text": [
        " [199728, 100]\n",
        "final p [ 199728.34362777     275.19223363]\n",
        "RV 14987.1278018\n",
        "p_guess"
       ]
      },
      {
       "output_type": "stream",
       "stream": "stdout",
       "text": [
        " [204948, 100]\n",
        "final p [ 204947.96485433     285.4564426 ]\n",
        "RV 18406.1426104\n",
        "p_guess"
       ]
      },
      {
       "output_type": "stream",
       "stream": "stdout",
       "text": [
        " [203967, 100]\n",
        "final p [ 203966.88190129     318.71660116]\n",
        "RV 18946.3822378\n",
        "p_guess"
       ]
      },
      {
       "output_type": "stream",
       "stream": "stdout",
       "text": [
        " [201339, 100]\n",
        "final p [ 201339.3873169      513.20621978]\n",
        "RV -285.100120818\n",
        "p_guess"
       ]
      },
      {
       "output_type": "stream",
       "stream": "stdout",
       "text": [
        " [199728, 100]\n",
        "final p [ 199728.45922234     273.3319383 ]\n",
        "RV 14987.1278018\n",
        "p_guess"
       ]
      },
      {
       "output_type": "stream",
       "stream": "stdout",
       "text": [
        " [204951, 100]\n",
        "final p [ 204950.84022975     287.27876646]\n",
        "RV 18491.4879393\n",
        "p_guess"
       ]
      },
      {
       "output_type": "stream",
       "stream": "stdout",
       "text": [
        " [203969, 100]\n",
        "final p [ 203968.65460664     318.06892589]\n",
        "RV 19003.2782806\n",
        "p_guess"
       ]
      },
      {
       "output_type": "stream",
       "stream": "stdout",
       "text": [
        " [201339, 100]\n",
        "final p [ 201338.98658897     521.56760211]\n",
        "RV -313.6101329\n",
        "p_guess"
       ]
      },
      {
       "output_type": "stream",
       "stream": "stdout",
       "text": [
        " [199732, 100]\n",
        "final p [ 199731.83015742     273.00651135]\n",
        "RV 15071.9606007\n",
        "p_guess"
       ]
      },
      {
       "output_type": "stream",
       "stream": "stdout",
       "text": [
        " [204953, 100]\n",
        "final p [ 204952.98258551     287.87285391]\n",
        "RV 18548.3848253\n",
        "p_guess"
       ]
      },
      {
       "output_type": "stream",
       "stream": "stdout",
       "text": [
        " [203970, 100]\n",
        "final p [ 203969.94477076     319.57012031]\n",
        "RV 19031.726302\n",
        "p_guess"
       ]
      },
      {
       "output_type": "stream",
       "stream": "stdout",
       "text": [
        " [201338, 100]\n",
        "final p [ 201338.11281481     536.56272528]\n",
        "RV -313.6101329\n",
        "p_guess"
       ]
      },
      {
       "output_type": "stream",
       "stream": "stdout",
       "text": [
        " [199734, 100]\n",
        "final p [ 199733.72498038     275.17729129]\n",
        "RV 15128.5157999\n",
        "p_guess"
       ]
      },
      {
       "output_type": "stream",
       "stream": "stdout",
       "text": [
        " [204001, 100]\n",
        "final p [ 204001.27073069     315.84218027]\n",
        "RV -8506.0844521\n",
        "p_guess"
       ]
      },
      {
       "output_type": "stream",
       "stream": "stdout",
       "text": [
        " [203015, 100]\n",
        "final p [ 203015.37675708     350.27466303]\n",
        "RV -8107.68609277\n",
        "p_guess"
       ]
      },
      {
       "output_type": "stream",
       "stream": "stdout",
       "text": [
        " [201304, 100]\n",
        "final p [ 201303.87048973     505.81618099]\n",
        "RV -1311.46055576\n",
        "p_guess"
       ]
      },
      {
       "output_type": "stream",
       "stream": "stdout",
       "text": [
        " [199732, 100]\n",
        "final p [ 199731.74551716     275.23797325]\n",
        "RV 15071.9606007\n",
        "p_guess"
       ]
      },
      {
       "output_type": "stream",
       "stream": "stdout",
       "text": [
        " [204000, 100]\n",
        "final p [ 203999.93899713     315.48804095]\n",
        "RV -8562.98133806\n",
        "p_guess"
       ]
      },
      {
       "output_type": "stream",
       "stream": "stdout",
       "text": [
        " [203015, 100]\n",
        "final p [ 203014.74236904     349.90773231]\n",
        "RV -8136.13411415\n",
        "p_guess"
       ]
      },
      {
       "output_type": "stream",
       "stream": "stdout",
       "text": [
        " [201303, 100]\n",
        "final p [ 201302.67242083     506.66795309]\n",
        "RV -1339.97056785\n",
        "p_guess"
       ]
      },
      {
       "output_type": "stream",
       "stream": "stdout",
       "text": [
        " [199733, 100]\n",
        "final p [ 199733.44085229     275.87587085]\n",
        "RV 15128.5157999\n",
        "p_guess"
       ]
      },
      {
       "output_type": "stream",
       "stream": "stdout",
       "text": [
        " [203999, 100]\n",
        "final p [ 203999.24532235     314.83446394]\n",
        "RV -8562.98133806\n",
        "p_guess"
       ]
      },
      {
       "output_type": "stream",
       "stream": "stdout",
       "text": [
        " [203015, 100]\n",
        "final p [ 203014.98463563     349.54414102]\n",
        "RV -8136.13411415\n",
        "p_guess"
       ]
      },
      {
       "output_type": "stream",
       "stream": "stdout",
       "text": [
        " [201301, 100]\n",
        "final p [ 201301.12273855     508.40975869]\n",
        "RV -1368.48057993\n"
       ]
      }
     ],
     "prompt_number": 317
    },
    {
     "cell_type": "code",
     "collapsed": false,
     "input": [
      "pwd"
     ],
     "language": "python",
     "metadata": {},
     "outputs": [
      {
       "metadata": {},
       "output_type": "pyout",
       "prompt_number": 9,
       "text": [
        "u'/Users/Carlos/Documents/HERMES/reductions/m67_all_4cams/bright_stars'"
       ]
      }
     ],
     "prompt_number": 9
    },
    {
     "cell_type": "code",
     "collapsed": false,
     "input": [
      "#Asteroseismology + isochrones\n",
      "astStar = ast.star()\n",
      "astStar.output = False\n",
      "astStar.load_solar_data()\n",
      "astStar.read_isochrone('M67.iso')\n",
      "# astStar.dMod = 9.60\n",
      "# astStar.isochrone_Temp = 10**(astStar.isochrone_logTemp)\n",
      "# astStar.isochrone_Lumin = 10**(astStar.isochrone_logLumin)\n"
     ],
     "language": "python",
     "metadata": {},
     "outputs": [
      {
       "output_type": "stream",
       "stream": "stdout",
       "text": [
        "Could not open file M67.iso\n",
        "<type 'exceptions.IndexError'>\n"
       ]
      }
     ],
     "prompt_number": 34
    },
    {
     "cell_type": "code",
     "collapsed": false,
     "input": [
      "astStar.isoLumin=1\n",
      "astStar.isoMass=1\n",
      "astStar.isoTemp1=1"
     ],
     "language": "python",
     "metadata": {},
     "outputs": [],
     "prompt_number": 35
    },
    {
     "cell_type": "code",
     "collapsed": false,
     "input": [
      "pwd"
     ],
     "language": "python",
     "metadata": {},
     "outputs": [
      {
       "metadata": {},
       "output_type": "pyout",
       "prompt_number": 43,
       "text": [
        "u'/Users/Carlos/Documents/HERMES/reductions/m67_all_4cams/bright_stars'"
       ]
      }
     ],
     "prompt_number": 43
    },
    {
     "cell_type": "code",
     "collapsed": false,
     "input": [
      "a =np.loadtxt(astStar.isochrone_fileName, usecols=[0, 1, 2, 4, 6, 7])"
     ],
     "language": "python",
     "metadata": {},
     "outputs": [],
     "prompt_number": 51
    },
    {
     "cell_type": "code",
     "collapsed": false,
     "input": [
      "a[0,:]"
     ],
     "language": "python",
     "metadata": {},
     "outputs": [
      {
       "metadata": {},
       "output_type": "pyout",
       "prompt_number": 53,
       "text": [
        "array([  8.      ,   0.102054,   3.4986  ,  -2.8517  ,  15.9014  ,  14.1314  ])"
       ]
      }
     ],
     "prompt_number": 53
    },
    {
     "cell_type": "code",
     "collapsed": false,
     "input": [
      "astStar.populate_stellar_parameters()"
     ],
     "language": "python",
     "metadata": {},
     "outputs": [
      {
       "output_type": "stream",
       "stream": "stdout",
       "text": [
        "Isochrone not loaded. Use <class_name>.read_isochrone().\n"
       ]
      }
     ],
     "prompt_number": 32
    },
    {
     "cell_type": "code",
     "collapsed": false,
     "input": [
      "astStar.solar_A_max"
     ],
     "language": "python",
     "metadata": {},
     "outputs": [
      {
       "metadata": {},
       "output_type": "pyout",
       "prompt_number": 28,
       "text": [
        "0.2"
       ]
      }
     ],
     "prompt_number": 28
    },
    {
     "cell_type": "code",
     "collapsed": false,
     "input": [
      "import numpy as np\n",
      "a = np.loadtxt('m67_girardi.tsv', delimiter = '|', skiprows=60, usecols=[2, 4, 6, 5, 10, 11])"
     ],
     "language": "python",
     "metadata": {},
     "outputs": [
      {
       "ename": "IOError",
       "evalue": "[Errno 2] No such file or directory: 'm67_girardi.tsv'",
       "output_type": "pyerr",
       "traceback": [
        "\u001b[0;31m---------------------------------------------------------------------------\u001b[0m\n\u001b[0;31mIOError\u001b[0m                                   Traceback (most recent call last)",
        "\u001b[0;32m<ipython-input-20-f8d111efbfe6>\u001b[0m in \u001b[0;36m<module>\u001b[0;34m()\u001b[0m\n\u001b[1;32m      1\u001b[0m \u001b[0;32mimport\u001b[0m \u001b[0mnumpy\u001b[0m \u001b[0;32mas\u001b[0m \u001b[0mnp\u001b[0m\u001b[0;34m\u001b[0m\u001b[0m\n\u001b[0;32m----> 2\u001b[0;31m \u001b[0ma\u001b[0m \u001b[0;34m=\u001b[0m \u001b[0mnp\u001b[0m\u001b[0;34m.\u001b[0m\u001b[0mloadtxt\u001b[0m\u001b[0;34m(\u001b[0m\u001b[0;34m'm67_girardi.tsv'\u001b[0m\u001b[0;34m,\u001b[0m \u001b[0mdelimiter\u001b[0m \u001b[0;34m=\u001b[0m \u001b[0;34m'|'\u001b[0m\u001b[0;34m,\u001b[0m \u001b[0mskiprows\u001b[0m\u001b[0;34m=\u001b[0m\u001b[0;36m60\u001b[0m\u001b[0;34m,\u001b[0m \u001b[0musecols\u001b[0m\u001b[0;34m=\u001b[0m\u001b[0;34m[\u001b[0m\u001b[0;36m2\u001b[0m\u001b[0;34m,\u001b[0m \u001b[0;36m4\u001b[0m\u001b[0;34m,\u001b[0m \u001b[0;36m6\u001b[0m\u001b[0;34m,\u001b[0m \u001b[0;36m5\u001b[0m\u001b[0;34m,\u001b[0m \u001b[0;36m10\u001b[0m\u001b[0;34m,\u001b[0m \u001b[0;36m11\u001b[0m\u001b[0;34m]\u001b[0m\u001b[0;34m)\u001b[0m\u001b[0;34m\u001b[0m\u001b[0m\n\u001b[0m",
        "\u001b[0;32m/Users/Carlos/Library/Enthought/Canopy_64bit/User/lib/python2.7/site-packages/numpy-1.8.1-py2.7-macosx-10.6-x86_64.egg/numpy/lib/npyio.pyc\u001b[0m in \u001b[0;36mloadtxt\u001b[0;34m(fname, dtype, comments, delimiter, converters, skiprows, usecols, unpack, ndmin)\u001b[0m\n\u001b[1;32m    732\u001b[0m                 \u001b[0mfh\u001b[0m \u001b[0;34m=\u001b[0m \u001b[0miter\u001b[0m\u001b[0;34m(\u001b[0m\u001b[0mbz2\u001b[0m\u001b[0;34m.\u001b[0m\u001b[0mBZ2File\u001b[0m\u001b[0;34m(\u001b[0m\u001b[0mfname\u001b[0m\u001b[0;34m)\u001b[0m\u001b[0;34m)\u001b[0m\u001b[0;34m\u001b[0m\u001b[0m\n\u001b[1;32m    733\u001b[0m             \u001b[0;32melif\u001b[0m \u001b[0msys\u001b[0m\u001b[0;34m.\u001b[0m\u001b[0mversion_info\u001b[0m\u001b[0;34m[\u001b[0m\u001b[0;36m0\u001b[0m\u001b[0;34m]\u001b[0m \u001b[0;34m==\u001b[0m \u001b[0;36m2\u001b[0m\u001b[0;34m:\u001b[0m\u001b[0;34m\u001b[0m\u001b[0m\n\u001b[0;32m--> 734\u001b[0;31m                 \u001b[0mfh\u001b[0m \u001b[0;34m=\u001b[0m \u001b[0miter\u001b[0m\u001b[0;34m(\u001b[0m\u001b[0mopen\u001b[0m\u001b[0;34m(\u001b[0m\u001b[0mfname\u001b[0m\u001b[0;34m,\u001b[0m \u001b[0;34m'U'\u001b[0m\u001b[0;34m)\u001b[0m\u001b[0;34m)\u001b[0m\u001b[0;34m\u001b[0m\u001b[0m\n\u001b[0m\u001b[1;32m    735\u001b[0m             \u001b[0;32melse\u001b[0m\u001b[0;34m:\u001b[0m\u001b[0;34m\u001b[0m\u001b[0m\n\u001b[1;32m    736\u001b[0m                 \u001b[0mfh\u001b[0m \u001b[0;34m=\u001b[0m \u001b[0miter\u001b[0m\u001b[0;34m(\u001b[0m\u001b[0mopen\u001b[0m\u001b[0;34m(\u001b[0m\u001b[0mfname\u001b[0m\u001b[0;34m)\u001b[0m\u001b[0;34m)\u001b[0m\u001b[0;34m\u001b[0m\u001b[0m\n",
        "\u001b[0;31mIOError\u001b[0m: [Errno 2] No such file or directory: 'm67_girardi.tsv'"
       ]
      }
     ],
     "prompt_number": 20
    },
    {
     "cell_type": "code",
     "collapsed": false,
     "input": [
      "a = a[a[:,0]==4.47e9]"
     ],
     "language": "python",
     "metadata": {},
     "outputs": [],
     "prompt_number": 17
    },
    {
     "cell_type": "code",
     "collapsed": false,
     "input": [
      "plt.plot(astStar.isochrone_VMag)\n",
      "plt.show()"
     ],
     "language": "python",
     "metadata": {},
     "outputs": [],
     "prompt_number": 13
    },
    {
     "cell_type": "code",
     "collapsed": false,
     "input": [
      "#plot CMD\n",
      "colorMap= np.ones((data.shape[0],3))*0.3\n",
      "colorMap[MSIdx,1]=1\n",
      "colorMap[MSIdx,0]=0\n",
      "colorMap[MSIdx,2]=0\n",
      "colorMap[giantsIdx,0]=1\n",
      "colorMap[giantsIdx,1]=0\n",
      "colorMap[giantsIdx,2]=0\n",
      "plt.axis((-0.5,2,18,9))\n",
      "plt.ylabel('Vmag')\n",
      "plt.xlabel('B-V mag')\n",
      "plt.title('M67 observed stars')\n",
      "plt.scatter(data[:,2],data[:,3], c = colorMap)\n",
      "start = 190*6\n",
      "plt.plot(astStar.isochrone_BMag[start:start+130]-astStar.isochrone_VMag[start:start+130]-0.071, astStar.isochrone_VMag[start:start+130]+astStar.dMod-0.3, label='4.47 Gyr isochrone', color = 'y', linewidth = 2)    \n",
      "# plt.legend(loc=0)\n",
      "plt.show()"
     ],
     "language": "python",
     "metadata": {},
     "outputs": [],
     "prompt_number": 75
    },
    {
     "cell_type": "code",
     "collapsed": false,
     "input": [
      "for mass in np.arange(1.3, 1.5, 0.0001):\n",
      "    astStar.mass = mass\n",
      "    astStar.populate_stellar_parameters()\n",
      "    astStar.calculate_A_max()\n",
      "    print mass, astStar.A_max"
     ],
     "language": "python",
     "metadata": {},
     "outputs": [
      {
       "output_type": "stream",
       "stream": "stdout",
       "text": [
        "1.3 3.94026707726\n",
        "1.3001 25.5500661923\n",
        "1.3002 25.5500661923\n",
        "1.3003 25.5500661923\n",
        "1.3004 25.5500661923\n",
        "1.3005 25.5500661923\n",
        "1.3006 25.5500661923\n",
        "1.3007 25.5500661923\n",
        "1.3008 25.5500661923\n",
        "1.3009 25.5500661923\n",
        "1.301 25.5500661923\n",
        "1.3011 0.698058449597\n",
        "1.3012 0.698058449597\n",
        "1.3013 0.698058449597\n",
        "1.3014 0.698058449597\n",
        "1.3015 0.698058449597\n",
        "1.3016 0.698058449597\n",
        "1.3017 0.698058449597\n",
        "1.3018 0.698058449597\n",
        "1.3019 0.698058449597\n",
        "1.302 0.698058449597\n",
        "1.3021 0.698058449597\n",
        "1.3022 0.698058449597\n",
        "1.3023 0.698058449597\n",
        "1.3024 0.698058449597\n",
        "1.3025 22.6138991635\n",
        "1.3026 22.6138991635\n",
        "1.3027 22.6138991635\n",
        "1.3028 22.6138991635\n",
        "1.3029 22.6138991635\n",
        "1.303 22.6138991635\n",
        "1.3031 22.6138991635\n",
        "1.3032 22.6138991635\n",
        "1.3033 22.6138991635\n",
        "1.3034 22.6138991635\n",
        "1.3035 22.6138991635\n",
        "1.3036 22.6138991635\n",
        "1.3037 22.6138991635\n",
        "1.3038 0.789491646268\n",
        "1.3039 0.789491646268\n",
        "1.304 0.789491646268\n",
        "1.3041 0.789491646268\n",
        "1.3042 0.789491646268\n",
        "1.3043 0.789491646268\n",
        "1.3044 0.789491646268\n",
        "1.3045 0.789491646268\n",
        "1.3046 0.789491646268\n",
        "1.3047 0.789491646268\n",
        "1.3048 0.789491646268\n",
        "1.3049 0.789491646268\n",
        "1.305 19.9808011997\n",
        "1.3051 19.9808011997\n",
        "1.3052 19.9808011997\n",
        "1.3053 19.9808011997\n",
        "1.3054 19.9808011997\n",
        "1.3055 19.9808011997\n",
        "1.3056 19.9808011997\n",
        "1.3057 19.9808011997\n",
        "1.3058 19.9808011997\n",
        "1.3059 19.9808011997\n",
        "1.306 19.9808011997\n",
        "1.3061 0.89292114767\n",
        "1.3062 0.89292114767\n",
        "1.3063 0.89292114767\n",
        "1.3064 0.89292114767\n",
        "1.3065 0.89292114767\n",
        "1.3066 0.89292114767\n",
        "1.3067 0.89292114767\n",
        "1.3068 0.89292114767\n",
        "1.3069 0.89292114767\n",
        "1.307 0.89292114767\n",
        "1.3071 17.7624800501\n",
        "1.3072 17.7624800501\n",
        "1.3073 17.7624800501\n",
        "1.3074 17.7624800501\n",
        "1.3075 17.7624800501\n",
        "1.3076 17.7624800501\n",
        "1.3077 17.7624800501\n",
        "1.3078 17.7624800501\n",
        "1.3079 17.7624800501\n",
        "1.308 1.00786827178\n",
        "1.3081 1.00786827178\n",
        "1.3082 1.00786827178\n",
        "1.3083 1.00786827178\n",
        "1.3084 1.00786827178\n",
        "1.3085 1.00786827178\n",
        "1.3086 1.00786827178\n",
        "1.3087 1.00786827178\n",
        "1.3088 1.13697451978\n",
        "1.3089 1.13697451978\n",
        "1.309 1.13697451978\n",
        "1.3091 1.13697451978\n",
        "1.3092 1.13697451978\n",
        "1.3093 1.13697451978\n",
        "1.3094 1.13697451978\n",
        "1.3095 1.13697451978\n",
        "1.3096 1.13697451978\n",
        "1.3097 1.13697451978\n",
        "1.3098 1.13697451978\n",
        "1.3099 1.13697451978\n",
        "1.31 1.13697451978\n",
        "1.3101 1.13697451978\n",
        "1.3102 1.13697451978\n",
        "1.3103 1.27952911328\n",
        "1.3104"
       ]
      },
      {
       "output_type": "stream",
       "stream": "stdout",
       "text": [
        " 1.27952911328\n",
        "1.3105 1.27952911328\n",
        "1.3106 1.27952911328\n",
        "1.3107 1.27952911328\n",
        "1.3108 1.27952911328\n",
        "1.3109 1.27952911328\n",
        "1.311 1.27952911328\n",
        "1.3111 13.902814133\n",
        "1.3112 13.902814133\n",
        "1.3113 13.902814133\n",
        "1.3114 13.902814133\n",
        "1.3115 13.902814133\n",
        "1.3116 13.902814133\n",
        "1.3117 1.44359590292\n",
        "1.3118 1.44359590292\n",
        "1.3119 1.44359590292\n",
        "1.312 1.44359590292\n",
        "1.3121 1.44359590292\n",
        "1.3122 1.44359590292\n",
        "1.3123 12.3609139468\n",
        "1.3124 12.3609139468\n",
        "1.3125 12.3609139468\n",
        "1.3126 12.3609139468\n",
        "1.3127 12.3609139468\n",
        "1.3128 1.62196155954\n",
        "1.3129 1.62196155954\n",
        "1.313 1.62196155954\n",
        "1.3131 1.62196155954\n",
        "1.3132 1.62196155954\n",
        "1.3133 10.9551402002\n",
        "1.3134 10.9551402002\n",
        "1.3135 10.9551402002\n",
        "1.3136 10.9551402002\n",
        "1.3137 1.81621549162\n",
        "1.3138 1.81621549162\n",
        "1.3139 1.81621549162\n",
        "1.314 1.81621549162\n",
        "1.3141 1.81621549162\n",
        "1.3142 9.72804630382\n",
        "1.3143 9.72804630382\n",
        "1.3144 9.72804630382\n",
        "1.3145 2.03630119572\n",
        "1.3146 2.03630119572\n",
        "1.3147 2.03630119572\n",
        "1.3148 2.03630119572\n",
        "1.3149 2.27843377039\n",
        "1.315 2.27843377039\n",
        "1.3151 2.27843377039\n",
        "1.3152 2.27843377039\n",
        "1.3153 2.27843377039\n",
        "1.3154 2.54026189764\n",
        "1.3155 2.54026189764\n",
        "1.3156 2.54026189764\n",
        "1.3157 2.54026189764\n",
        "1.3158 7.67098884746\n",
        "1.3159 7.67098884746\n",
        "1.316 2.72340494577\n",
        "1.3161 2.72340494577\n",
        "1.3162 6.78887093634\n",
        "1.3163 6.78887093634\n",
        "1.3164 2.54068019662\n",
        "1.3165 2.54068019662\n",
        "1.3166 2.85466646169\n",
        "1.3167 2.85466646169\n",
        "1.3168 2.85466646169\n",
        "1.3169 3.21118090542\n",
        "1.317 3.21118090542\n",
        "1.3171 3.21118090542\n",
        "1.3172 3.6498055107\n",
        "1.3173 3.6498055107\n",
        "1.3174 3.6498055107\n",
        "1.3175 3.6498055107\n",
        "1.3176 3.6498055107\n",
        "1.3177 3.6498055107\n",
        "1.3178 3.6498055107\n",
        "1.3179 3.6498055107\n",
        "1.318 3.6498055107\n",
        "1.3181 3.6498055107\n",
        "1.3182 3.6498055107\n",
        "1.3183 3.6498055107\n",
        "1.3184 3.6498055107\n",
        "1.3185 3.6498055107\n",
        "1.3186 3.6498055107\n",
        "1.3187 3.6498055107\n",
        "1.3188 3.6498055107\n",
        "1.3189 3.6498055107\n",
        "1.319 3.6498055107\n",
        "1.3191 3.6498055107\n",
        "1.3192 3.6498055107\n",
        "1.3193 3.6498055107\n",
        "1.3194 3.6498055107\n",
        "1.3195 3.6498055107\n",
        "1.3196 3.6498055107\n",
        "1.3197 3.6498055107\n",
        "1.3198 3.6498055107\n",
        "1.3199 3.6498055107\n",
        "1.32 3.6498055107\n",
        "1.3201"
       ]
      },
      {
       "output_type": "stream",
       "stream": "stdout",
       "text": [
        " 3.6498055107\n",
        "1.3202 3.6498055107\n",
        "1.3203 3.6498055107\n",
        "1.3204 3.6498055107\n",
        "1.3205 3.6498055107\n",
        "1.3206 3.6498055107\n",
        "1.3207 3.6498055107\n",
        "1.3208 3.6498055107\n",
        "1.3209 3.6498055107\n",
        "1.321 3.6498055107\n",
        "1.3211 3.6498055107\n",
        "1.3212 3.6498055107\n",
        "1.3213 3.6498055107\n",
        "1.3214 3.6498055107\n",
        "1.3215 3.6498055107\n",
        "1.3216 3.6498055107\n",
        "1.3217 3.6498055107\n",
        "1.3218 3.6498055107\n",
        "1.3219 3.6498055107\n",
        "1.322 3.6498055107\n",
        "1.3221 3.6498055107\n",
        "1.3222 3.6498055107\n",
        "1.3223 3.6498055107\n",
        "1.3224 3.6498055107\n",
        "1.3225 3.6498055107\n",
        "1.3226 3.6498055107\n",
        "1.3227 3.6498055107\n",
        "1.3228 3.6498055107\n",
        "1.3229 3.6498055107\n",
        "1.323 3.6498055107\n",
        "1.3231 3.6498055107\n",
        "1.3232 3.6498055107\n",
        "1.3233 3.6498055107\n",
        "1.3234 3.6498055107\n",
        "1.3235 3.6498055107\n",
        "1.3236 3.6498055107\n",
        "1.3237 3.6498055107\n",
        "1.3238 3.6498055107\n",
        "1.3239 3.6498055107\n",
        "1.324 3.6498055107\n",
        "1.3241 3.6498055107\n",
        "1.3242 3.6498055107\n",
        "1.3243 3.6498055107\n",
        "1.3244 3.6498055107\n",
        "1.3245 3.6498055107\n",
        "1.3246 3.6498055107\n",
        "1.3247 3.6498055107\n",
        "1.3248 3.6498055107\n",
        "1.3249 3.6498055107\n",
        "1.325 3.6498055107\n",
        "1.3251 3.6498055107\n",
        "1.3252 3.6498055107\n",
        "1.3253 3.6498055107\n",
        "1.3254 3.6498055107\n",
        "1.3255 3.6498055107\n",
        "1.3256 3.6498055107\n",
        "1.3257 3.6498055107\n",
        "1.3258 3.6498055107\n",
        "1.3259 3.6498055107\n",
        "1.326 3.6498055107\n",
        "1.3261 3.6498055107\n",
        "1.3262 3.6498055107\n",
        "1.3263 3.6498055107\n",
        "1.3264 3.6498055107\n",
        "1.3265 3.6498055107\n",
        "1.3266 3.6498055107\n",
        "1.3267 3.6498055107\n",
        "1.3268 3.6498055107\n",
        "1.3269 3.6498055107\n",
        "1.327 3.6498055107\n",
        "1.3271 3.6498055107\n",
        "1.3272 3.6498055107\n",
        "1.3273 3.6498055107\n",
        "1.3274 3.6498055107\n",
        "1.3275 3.6498055107\n",
        "1.3276 3.6498055107\n",
        "1.3277 3.6498055107\n",
        "1.3278 3.6498055107\n",
        "1.3279 3.6498055107\n",
        "1.328 3.6498055107\n",
        "1.3281 3.6498055107\n",
        "1.3282 3.6498055107\n",
        "1.3283 3.6498055107\n",
        "1.3284 3.6498055107\n",
        "1.3285 3.6498055107\n",
        "1.3286 3.6498055107\n",
        "1.3287 3.6498055107\n",
        "1.3288 3.6498055107\n",
        "1.3289 3.6498055107\n",
        "1.329 3.6498055107\n",
        "1.3291 3.6498055107\n",
        "1.3292 3.6498055107\n",
        "1.3293 3.6498055107\n",
        "1.3294 3.6498055107\n",
        "1.3295 3.6498055107\n",
        "1.3296 3.6498055107\n",
        "1.3297 3.6498055107\n",
        "1.3298 3.6498055107\n",
        "1.3299 3.6498055107\n",
        "1.33 3.6498055107\n",
        "1.3301 3.6498055107\n",
        "1.3302 3.6498055107\n",
        "1.3303 3.6498055107\n",
        "1.3304 3.6498055107\n",
        "1.3305 3.6498055107\n",
        "1.3306 3.6498055107\n",
        "1.3307 3.6498055107\n",
        "1.3308 3.6498055107\n",
        "1.3309 3.6498055107\n",
        "1.331 3.6498055107\n",
        "1.3311 3.6498055107\n",
        "1.3312"
       ]
      },
      {
       "output_type": "stream",
       "stream": "stdout",
       "text": [
        " 3.6498055107\n",
        "1.3313 3.6498055107\n",
        "1.3314 3.6498055107\n",
        "1.3315 3.6498055107\n",
        "1.3316 3.6498055107\n",
        "1.3317 3.6498055107\n",
        "1.3318 3.6498055107\n",
        "1.3319 3.6498055107\n",
        "1.332 3.6498055107\n",
        "1.3321 3.6498055107\n",
        "1.3322 3.6498055107\n",
        "1.3323 3.6498055107\n",
        "1.3324 3.6498055107\n",
        "1.3325 3.6498055107\n",
        "1.3326 3.6498055107\n",
        "1.3327 3.6498055107\n",
        "1.3328 3.6498055107\n",
        "1.3329 3.6498055107\n",
        "1.333 3.6498055107\n",
        "1.3331 3.6498055107\n",
        "1.3332 3.6498055107\n",
        "1.3333 3.6498055107\n",
        "1.3334 3.6498055107\n",
        "1.3335 3.6498055107\n",
        "1.3336 3.6498055107\n",
        "1.3337 3.6498055107\n",
        "1.3338 3.6498055107\n",
        "1.3339 3.6498055107\n",
        "1.334 3.6498055107\n",
        "1.3341 3.6498055107\n",
        "1.3342 3.6498055107\n",
        "1.3343 3.6498055107\n",
        "1.3344 3.6498055107\n",
        "1.3345 3.6498055107\n",
        "1.3346 3.6498055107\n",
        "1.3347 3.6498055107\n",
        "1.3348 3.6498055107\n",
        "1.3349 3.6498055107\n",
        "1.335 3.6498055107\n",
        "1.3351 3.6498055107\n",
        "1.3352 3.6498055107\n",
        "1.3353 3.6498055107\n",
        "1.3354 3.6498055107\n",
        "1.3355 3.6498055107\n",
        "1.3356 3.6498055107\n",
        "1.3357 3.6498055107\n",
        "1.3358 3.6498055107\n",
        "1.3359 3.6498055107\n",
        "1.336 3.6498055107\n",
        "1.3361 3.6498055107\n",
        "1.3362 3.6498055107\n",
        "1.3363 3.6498055107\n",
        "1.3364 3.6498055107\n",
        "1.3365 3.6498055107\n",
        "1.3366 3.6498055107\n",
        "1.3367 3.6498055107\n",
        "1.3368 3.6498055107\n",
        "1.3369 3.6498055107\n",
        "1.337 3.6498055107\n",
        "1.3371 3.6498055107\n",
        "1.3372 3.6498055107\n",
        "1.3373 3.6498055107\n",
        "1.3374 3.6498055107\n",
        "1.3375 3.6498055107\n",
        "1.3376 3.6498055107\n",
        "1.3377 3.6498055107\n",
        "1.3378 3.6498055107\n",
        "1.3379 3.6498055107\n",
        "1.338 3.6498055107\n",
        "1.3381 3.6498055107\n",
        "1.3382 3.6498055107\n",
        "1.3383 3.6498055107\n",
        "1.3384 3.6498055107\n",
        "1.3385 3.6498055107\n",
        "1.3386 3.6498055107\n",
        "1.3387 3.6498055107\n",
        "1.3388 3.6498055107\n",
        "1.3389 3.6498055107\n",
        "1.339 3.6498055107\n",
        "1.3391 3.6498055107\n",
        "1.3392 3.6498055107\n",
        "1.3393 3.6498055107\n",
        "1.3394 3.6498055107\n",
        "1.3395 3.6498055107\n",
        "1.3396 3.6498055107\n",
        "1.3397 3.6498055107\n",
        "1.3398 3.6498055107\n",
        "1.3399 3.6498055107\n",
        "1.34 3.6498055107\n",
        "1.3401 3.6498055107\n",
        "1.3402 3.6498055107\n",
        "1.3403 3.6498055107\n",
        "1.3404 3.6498055107\n",
        "1.3405 3.6498055107\n",
        "1.3406 3.6498055107\n",
        "1.3407 3.6498055107\n",
        "1.3408 3.6498055107\n",
        "1.3409 3.6498055107\n",
        "1.341 3.6498055107\n",
        "1.3411 3.6498055107\n",
        "1.3412 3.6498055107\n",
        "1.3413 3.6498055107\n",
        "1.3414 3.6498055107\n",
        "1.3415 3.6498055107\n",
        "1.3416 3.6498055107\n",
        "1.3417 3.6498055107\n",
        "1.3418 3.6498055107\n",
        "1.3419 3.6498055107\n",
        "1.342 3.6498055107\n",
        "1.3421 3.6498055107\n",
        "1.3422 3.6498055107\n",
        "1.3423 3.6498055107\n",
        "1.3424 3.6498055107\n",
        "1.3425 3.6498055107\n",
        "1.3426 3.6498055107\n",
        "1.3427 3.6498055107\n",
        "1.3428 3.6498055107\n",
        "1.3429"
       ]
      },
      {
       "output_type": "stream",
       "stream": "stdout",
       "text": [
        " 3.6498055107\n",
        "1.343 3.6498055107\n",
        "1.3431 3.6498055107\n",
        "1.3432 3.6498055107\n",
        "1.3433 3.6498055107\n",
        "1.3434 3.6498055107\n",
        "1.3435 3.6498055107\n",
        "1.3436 3.6498055107\n",
        "1.3437 3.6498055107\n",
        "1.3438 3.6498055107\n",
        "1.3439 3.6498055107\n",
        "1.344 3.6498055107\n",
        "1.3441 3.6498055107\n",
        "1.3442 3.6498055107\n",
        "1.3443 3.6498055107\n",
        "1.3444 3.6498055107\n",
        "1.3445 3.6498055107\n",
        "1.3446 3.6498055107\n",
        "1.3447 3.6498055107\n",
        "1.3448 3.6498055107\n",
        "1.3449 3.6498055107\n",
        "1.345 3.6498055107\n",
        "1.3451 3.6498055107\n",
        "1.3452 3.6498055107\n",
        "1.3453 3.6498055107\n",
        "1.3454 3.6498055107\n",
        "1.3455 3.6498055107\n",
        "1.3456 3.6498055107\n",
        "1.3457 3.6498055107\n",
        "1.3458 3.6498055107\n",
        "1.3459 3.6498055107\n",
        "1.346 3.6498055107\n",
        "1.3461 3.6498055107\n",
        "1.3462 3.6498055107\n",
        "1.3463 3.6498055107\n",
        "1.3464 3.6498055107\n",
        "1.3465 3.6498055107\n",
        "1.3466 3.6498055107\n",
        "1.3467 3.6498055107\n",
        "1.3468 3.6498055107\n",
        "1.3469 3.6498055107\n",
        "1.347 3.6498055107\n",
        "1.3471 3.6498055107\n",
        "1.3472 3.6498055107\n",
        "1.3473 3.6498055107\n",
        "1.3474 3.6498055107\n",
        "1.3475 3.6498055107\n",
        "1.3476 3.6498055107\n",
        "1.3477 3.6498055107\n",
        "1.3478 3.6498055107\n",
        "1.3479 3.6498055107\n",
        "1.348 3.6498055107\n",
        "1.3481 3.6498055107\n",
        "1.3482 3.6498055107\n",
        "1.3483 3.6498055107\n",
        "1.3484 3.6498055107\n",
        "1.3485 3.6498055107\n",
        "1.3486 3.6498055107\n",
        "1.3487 3.6498055107\n",
        "1.3488 3.6498055107\n",
        "1.3489 3.6498055107\n",
        "1.349 3.6498055107\n",
        "1.3491 3.6498055107\n",
        "1.3492 3.6498055107\n",
        "1.3493 3.6498055107\n",
        "1.3494 3.6498055107\n",
        "1.3495 3.6498055107\n",
        "1.3496 3.6498055107\n",
        "1.3497 3.6498055107\n",
        "1.3498 3.6498055107\n",
        "1.3499 3.6498055107\n",
        "1.35 3.6498055107\n",
        "1.3501 3.6498055107\n",
        "1.3502 3.6498055107\n",
        "1.3503 3.6498055107\n",
        "1.3504 3.6498055107\n",
        "1.3505 3.6498055107\n",
        "1.3506 3.6498055107\n",
        "1.3507 3.6498055107\n",
        "1.3508 3.6498055107\n",
        "1.3509 3.6498055107\n",
        "1.351 3.6498055107\n",
        "1.3511 3.6498055107\n",
        "1.3512 3.6498055107\n",
        "1.3513 3.6498055107\n",
        "1.3514 3.6498055107\n",
        "1.3515 3.6498055107\n",
        "1.3516 3.6498055107\n",
        "1.3517 3.6498055107\n",
        "1.3518 3.6498055107\n",
        "1.3519 3.6498055107\n",
        "1.352 3.6498055107\n",
        "1.3521 3.6498055107\n",
        "1.3522 3.6498055107\n",
        "1.3523 3.6498055107\n",
        "1.3524 3.6498055107\n",
        "1.3525 3.6498055107\n",
        "1.3526"
       ]
      },
      {
       "output_type": "stream",
       "stream": "stdout",
       "text": [
        " 3.6498055107\n",
        "1.3527 3.6498055107\n",
        "1.3528 3.6498055107\n",
        "1.3529 3.6498055107\n",
        "1.353 3.6498055107\n",
        "1.3531 3.6498055107\n",
        "1.3532 3.6498055107\n",
        "1.3533 3.6498055107\n",
        "1.3534 3.6498055107\n",
        "1.3535 3.6498055107\n",
        "1.3536 3.6498055107\n",
        "1.3537 3.6498055107\n",
        "1.3538 3.6498055107\n",
        "1.3539 3.6498055107\n",
        "1.354 3.6498055107\n",
        "1.3541 3.6498055107\n",
        "1.3542 3.6498055107\n",
        "1.3543 3.6498055107\n",
        "1.3544 3.6498055107\n",
        "1.3545 3.6498055107\n",
        "1.3546 3.6498055107\n",
        "1.3547 3.6498055107\n",
        "1.3548 3.6498055107\n",
        "1.3549 3.6498055107\n",
        "1.355 3.6498055107\n",
        "1.3551 3.6498055107\n",
        "1.3552 3.6498055107\n",
        "1.3553 3.6498055107\n",
        "1.3554 3.6498055107\n",
        "1.3555 3.6498055107\n",
        "1.3556 3.6498055107\n",
        "1.3557 3.6498055107\n",
        "1.3558 3.6498055107\n",
        "1.3559 3.6498055107\n",
        "1.356 3.6498055107\n",
        "1.3561 3.6498055107\n",
        "1.3562 3.6498055107\n",
        "1.3563 3.6498055107\n",
        "1.3564 3.6498055107\n",
        "1.3565 3.6498055107\n",
        "1.3566 3.6498055107\n",
        "1.3567 3.6498055107\n",
        "1.3568 3.6498055107\n",
        "1.3569 3.6498055107\n",
        "1.357 3.6498055107\n",
        "1.3571 3.6498055107\n",
        "1.3572 3.6498055107\n",
        "1.3573 3.6498055107\n",
        "1.3574 3.6498055107\n",
        "1.3575 3.6498055107\n",
        "1.3576 3.6498055107\n",
        "1.3577 3.6498055107\n",
        "1.3578 3.6498055107\n",
        "1.3579 3.6498055107\n",
        "1.358 3.6498055107\n",
        "1.3581 3.6498055107\n",
        "1.3582 3.6498055107\n",
        "1.3583 3.6498055107\n",
        "1.3584 3.6498055107\n",
        "1.3585 3.6498055107\n",
        "1.3586 3.6498055107\n",
        "1.3587 3.6498055107\n",
        "1.3588 3.6498055107\n",
        "1.3589 3.6498055107\n",
        "1.359 3.6498055107\n",
        "1.3591 3.6498055107\n",
        "1.3592 3.6498055107\n",
        "1.3593 3.6498055107\n",
        "1.3594 3.6498055107\n",
        "1.3595 3.6498055107\n",
        "1.3596 3.6498055107\n",
        "1.3597 3.6498055107\n",
        "1.3598 3.6498055107\n",
        "1.3599 3.6498055107\n",
        "1.36 3.6498055107\n",
        "1.3601 3.6498055107\n",
        "1.3602 3.6498055107\n",
        "1.3603 3.6498055107\n",
        "1.3604 3.6498055107\n",
        "1.3605 3.6498055107\n",
        "1.3606 3.6498055107\n",
        "1.3607 3.6498055107\n",
        "1.3608 3.6498055107\n",
        "1.3609 3.6498055107\n",
        "1.361 3.6498055107\n",
        "1.3611 3.6498055107\n",
        "1.3612 3.6498055107\n",
        "1.3613 3.6498055107\n",
        "1.3614 3.6498055107\n",
        "1.3615 3.6498055107\n",
        "1.3616 3.6498055107\n",
        "1.3617 3.6498055107\n",
        "1.3618 3.6498055107\n",
        "1.3619 3.6498055107\n",
        "1.362 3.6498055107\n",
        "1.3621 3.6498055107\n",
        "1.3622 3.6498055107\n",
        "1.3623 3.6498055107\n",
        "1.3624 3.6498055107\n",
        "1.3625 3.6498055107\n",
        "1.3626 3.6498055107\n",
        "1.3627 3.6498055107\n",
        "1.3628 3.6498055107\n",
        "1.3629 3.6498055107\n",
        "1.363 3.6498055107\n",
        "1.3631 3.6498055107\n",
        "1.3632 3.6498055107\n",
        "1.3633 3.6498055107\n",
        "1.3634 3.6498055107\n",
        "1.3635 3.6498055107\n",
        "1.3636"
       ]
      },
      {
       "output_type": "stream",
       "stream": "stdout",
       "text": [
        " 3.6498055107\n",
        "1.3637 3.6498055107\n",
        "1.3638 3.6498055107\n",
        "1.3639 3.6498055107\n",
        "1.364 3.6498055107\n",
        "1.3641 3.6498055107\n",
        "1.3642 3.6498055107\n",
        "1.3643 3.6498055107\n",
        "1.3644 3.6498055107\n",
        "1.3645 3.6498055107\n",
        "1.3646 3.6498055107\n",
        "1.3647 3.6498055107\n",
        "1.3648 3.6498055107\n",
        "1.3649 3.6498055107\n",
        "1.365 3.6498055107\n",
        "1.3651 3.6498055107\n",
        "1.3652 3.6498055107\n",
        "1.3653 3.6498055107\n",
        "1.3654 3.6498055107\n",
        "1.3655 3.6498055107\n",
        "1.3656 3.6498055107\n",
        "1.3657 3.6498055107\n",
        "1.3658 3.6498055107\n",
        "1.3659 3.6498055107\n",
        "1.366 3.6498055107\n",
        "1.3661 3.6498055107\n",
        "1.3662 3.6498055107\n",
        "1.3663 3.6498055107\n",
        "1.3664 3.6498055107\n",
        "1.3665 3.6498055107\n",
        "1.3666 3.6498055107\n",
        "1.3667 3.6498055107\n",
        "1.3668 3.6498055107\n",
        "1.3669 3.6498055107\n",
        "1.367 3.6498055107\n",
        "1.3671 3.6498055107\n",
        "1.3672 3.6498055107\n",
        "1.3673 3.6498055107\n",
        "1.3674 3.6498055107\n",
        "1.3675 3.6498055107\n",
        "1.3676 3.6498055107\n",
        "1.3677 3.6498055107\n",
        "1.3678 3.6498055107\n",
        "1.3679 3.6498055107\n",
        "1.368 3.6498055107\n",
        "1.3681 3.6498055107\n",
        "1.3682 3.6498055107\n",
        "1.3683 3.6498055107\n",
        "1.3684 3.6498055107\n",
        "1.3685 3.6498055107\n",
        "1.3686 3.6498055107\n",
        "1.3687 3.6498055107\n",
        "1.3688 3.6498055107\n",
        "1.3689 3.6498055107\n",
        "1.369 3.6498055107\n",
        "1.3691 3.6498055107\n",
        "1.3692 3.6498055107\n",
        "1.3693 3.6498055107\n",
        "1.3694 3.6498055107\n",
        "1.3695 3.6498055107\n",
        "1.3696 3.6498055107\n",
        "1.3697 3.6498055107\n",
        "1.3698 3.6498055107\n",
        "1.3699 3.6498055107\n",
        "1.37 3.6498055107\n",
        "1.3701 3.6498055107\n",
        "1.3702 3.6498055107\n",
        "1.3703 3.6498055107\n",
        "1.3704 3.6498055107\n",
        "1.3705 3.6498055107\n",
        "1.3706 3.6498055107\n",
        "1.3707 3.6498055107\n",
        "1.3708 3.6498055107\n",
        "1.3709 3.6498055107\n",
        "1.371 3.6498055107\n",
        "1.3711 3.6498055107\n",
        "1.3712 3.6498055107\n",
        "1.3713 3.6498055107\n",
        "1.3714 3.6498055107\n",
        "1.3715 3.6498055107\n",
        "1.3716 3.6498055107\n",
        "1.3717 3.6498055107\n",
        "1.3718 3.6498055107\n",
        "1.3719 3.6498055107\n",
        "1.372 3.6498055107\n",
        "1.3721 3.6498055107\n",
        "1.3722 3.6498055107\n",
        "1.3723 3.6498055107\n",
        "1.3724 3.6498055107\n",
        "1.3725 3.6498055107\n",
        "1.3726 3.6498055107\n",
        "1.3727 3.6498055107\n",
        "1.3728 3.6498055107\n",
        "1.3729 3.6498055107\n",
        "1.373 3.6498055107\n",
        "1.3731 3.6498055107\n",
        "1.3732 3.6498055107\n",
        "1.3733 3.6498055107\n",
        "1.3734 3.6498055107\n",
        "1.3735 3.6498055107\n",
        "1.3736 3.6498055107\n",
        "1.3737 3.6498055107\n",
        "1.3738 3.6498055107\n",
        "1.3739 3.6498055107\n",
        "1.374 3.6498055107\n",
        "1.3741 3.6498055107\n",
        "1.3742 3.6498055107\n",
        "1.3743 3.6498055107\n",
        "1.3744 3.6498055107\n",
        "1.3745 3.6498055107\n",
        "1.3746 3.6498055107\n",
        "1.3747 3.6498055107\n",
        "1.3748 3.6498055107\n",
        "1.3749 3.6498055107\n",
        "1.375 3.6498055107\n",
        "1.3751 3.6498055107\n",
        "1.3752 3.6498055107\n",
        "1.3753 3.6498055107\n",
        "1.3754 3.6498055107\n",
        "1.3755 3.6498055107\n",
        "1.3756 3.6498055107\n",
        "1.3757"
       ]
      },
      {
       "output_type": "stream",
       "stream": "stdout",
       "text": [
        " 3.6498055107\n",
        "1.3758 3.6498055107\n",
        "1.3759 3.6498055107\n",
        "1.376 3.6498055107\n",
        "1.3761 3.6498055107\n",
        "1.3762 3.6498055107\n",
        "1.3763 3.6498055107\n",
        "1.3764 3.6498055107\n",
        "1.3765 3.6498055107\n",
        "1.3766 3.6498055107\n",
        "1.3767 3.6498055107\n",
        "1.3768 3.6498055107\n",
        "1.3769 3.6498055107\n",
        "1.377 3.6498055107\n",
        "1.3771 3.6498055107\n",
        "1.3772 3.6498055107\n",
        "1.3773 3.6498055107\n",
        "1.3774 3.6498055107\n",
        "1.3775 3.6498055107\n",
        "1.3776 3.6498055107\n",
        "1.3777 3.6498055107\n",
        "1.3778 3.6498055107\n",
        "1.3779 3.6498055107\n",
        "1.378 3.6498055107\n",
        "1.3781 3.6498055107\n",
        "1.3782 3.6498055107\n",
        "1.3783 3.6498055107\n",
        "1.3784 3.6498055107\n",
        "1.3785 3.6498055107\n",
        "1.3786 3.6498055107\n",
        "1.3787 3.6498055107\n",
        "1.3788 3.6498055107\n",
        "1.3789 3.6498055107\n",
        "1.379 3.6498055107\n",
        "1.3791 3.6498055107\n",
        "1.3792 3.6498055107\n",
        "1.3793 3.6498055107\n",
        "1.3794 3.6498055107\n",
        "1.3795 3.6498055107\n",
        "1.3796 3.6498055107\n",
        "1.3797 3.6498055107\n",
        "1.3798 3.6498055107\n",
        "1.3799 3.6498055107\n",
        "1.38 3.6498055107\n",
        "1.3801 3.6498055107\n",
        "1.3802 3.6498055107\n",
        "1.3803 3.6498055107\n",
        "1.3804 3.6498055107\n",
        "1.3805 3.6498055107\n",
        "1.3806 3.6498055107\n",
        "1.3807 3.6498055107\n",
        "1.3808 3.6498055107\n",
        "1.3809 3.6498055107\n",
        "1.381 3.6498055107\n",
        "1.3811 3.6498055107\n",
        "1.3812 3.6498055107\n",
        "1.3813 3.6498055107\n",
        "1.3814 3.6498055107\n",
        "1.3815 3.6498055107\n",
        "1.3816 3.6498055107\n",
        "1.3817 3.6498055107\n",
        "1.3818 3.6498055107\n",
        "1.3819 3.6498055107\n",
        "1.382 3.6498055107\n",
        "1.3821 3.6498055107\n",
        "1.3822 3.6498055107\n",
        "1.3823 3.6498055107\n",
        "1.3824 3.6498055107\n",
        "1.3825 3.6498055107\n",
        "1.3826 3.6498055107\n",
        "1.3827 3.6498055107\n",
        "1.3828 3.6498055107\n",
        "1.3829 3.6498055107\n",
        "1.383 3.6498055107\n",
        "1.3831 3.6498055107\n",
        "1.3832 3.6498055107\n",
        "1.3833 3.6498055107\n",
        "1.3834 3.6498055107\n",
        "1.3835 3.6498055107\n",
        "1.3836 3.6498055107\n",
        "1.3837 3.6498055107\n",
        "1.3838 3.6498055107\n",
        "1.3839 3.6498055107\n",
        "1.384 3.6498055107\n",
        "1.3841 3.6498055107\n",
        "1.3842 3.6498055107\n",
        "1.3843 3.6498055107\n",
        "1.3844 3.6498055107\n",
        "1.3845 3.6498055107\n",
        "1.3846 3.6498055107\n",
        "1.3847 3.6498055107\n",
        "1.3848 3.6498055107\n",
        "1.3849 3.6498055107\n",
        "1.385 3.6498055107\n",
        "1.3851 3.6498055107\n",
        "1.3852 3.6498055107\n",
        "1.3853 3.6498055107\n",
        "1.3854 3.6498055107\n",
        "1.3855 3.6498055107\n",
        "1.3856 3.6498055107\n",
        "1.3857 3.6498055107\n",
        "1.3858 3.6498055107\n",
        "1.3859 3.6498055107\n",
        "1.386 3.6498055107\n",
        "1.3861 3.6498055107\n",
        "1.3862 3.6498055107\n",
        "1.3863 3.6498055107\n",
        "1.3864 3.6498055107\n",
        "1.3865 3.6498055107\n",
        "1.3866 3.6498055107\n",
        "1.3867 3.6498055107\n",
        "1.3868 3.6498055107\n",
        "1.3869 3.6498055107\n",
        "1.387 3.6498055107\n",
        "1.3871 3.6498055107\n",
        "1.3872 3.6498055107\n",
        "1.3873 3.6498055107\n",
        "1.3874 3.6498055107\n",
        "1.3875"
       ]
      },
      {
       "output_type": "stream",
       "stream": "stdout",
       "text": [
        " 3.6498055107\n",
        "1.3876 3.6498055107\n",
        "1.3877 3.6498055107\n",
        "1.3878 3.6498055107\n",
        "1.3879 3.6498055107\n",
        "1.388 3.6498055107\n",
        "1.3881 3.6498055107\n",
        "1.3882 3.6498055107\n",
        "1.3883 3.6498055107\n",
        "1.3884 3.6498055107\n",
        "1.3885 3.6498055107\n",
        "1.3886 3.6498055107\n",
        "1.3887 3.6498055107\n",
        "1.3888 3.6498055107\n",
        "1.3889 3.6498055107\n",
        "1.389 3.6498055107\n",
        "1.3891 3.6498055107\n",
        "1.3892 3.6498055107\n",
        "1.3893 3.6498055107\n",
        "1.3894 3.6498055107\n",
        "1.3895 3.6498055107\n",
        "1.3896 3.6498055107\n",
        "1.3897 3.6498055107\n",
        "1.3898 3.6498055107\n",
        "1.3899 3.6498055107\n",
        "1.39 3.6498055107\n",
        "1.3901 3.6498055107\n",
        "1.3902 3.6498055107\n",
        "1.3903 3.6498055107\n",
        "1.3904 3.6498055107\n",
        "1.3905 3.6498055107\n",
        "1.3906 3.6498055107\n",
        "1.3907 3.6498055107\n",
        "1.3908 3.6498055107\n",
        "1.3909 3.6498055107\n",
        "1.391 3.6498055107\n",
        "1.3911 3.6498055107\n",
        "1.3912 3.6498055107\n",
        "1.3913 3.6498055107\n",
        "1.3914 3.6498055107\n",
        "1.3915 3.6498055107\n",
        "1.3916 3.6498055107\n",
        "1.3917 3.6498055107\n",
        "1.3918 3.6498055107\n",
        "1.3919 3.6498055107\n",
        "1.392 3.6498055107\n",
        "1.3921 3.6498055107\n",
        "1.3922 3.6498055107\n",
        "1.3923 3.6498055107\n",
        "1.3924 3.6498055107\n",
        "1.3925 3.6498055107\n",
        "1.3926 3.6498055107\n",
        "1.3927 3.6498055107\n",
        "1.3928 3.6498055107\n",
        "1.3929 3.6498055107\n",
        "1.393 3.6498055107\n",
        "1.3931 3.6498055107\n",
        "1.3932 3.6498055107\n",
        "1.3933 3.6498055107\n",
        "1.3934 3.6498055107\n",
        "1.3935 3.6498055107\n",
        "1.3936 3.6498055107\n",
        "1.3937 3.6498055107\n",
        "1.3938 3.6498055107\n",
        "1.3939 3.6498055107\n",
        "1.394 3.6498055107\n",
        "1.3941 3.6498055107\n",
        "1.3942 3.6498055107\n",
        "1.3943 3.6498055107\n",
        "1.3944 3.6498055107\n",
        "1.3945 3.6498055107\n",
        "1.3946 3.6498055107\n",
        "1.3947 3.6498055107\n",
        "1.3948 3.6498055107\n",
        "1.3949 3.6498055107\n",
        "1.395 3.6498055107\n",
        "1.3951 3.6498055107\n",
        "1.3952 3.6498055107\n",
        "1.3953 3.6498055107\n",
        "1.3954 3.6498055107\n",
        "1.3955 3.6498055107\n",
        "1.3956 3.6498055107\n",
        "1.3957 3.6498055107\n",
        "1.3958 3.6498055107\n",
        "1.3959 3.6498055107\n",
        "1.396 3.6498055107\n",
        "1.3961 3.6498055107\n",
        "1.3962 3.6498055107\n",
        "1.3963 3.6498055107\n",
        "1.3964 3.6498055107\n",
        "1.3965 3.6498055107\n",
        "1.3966 3.6498055107\n",
        "1.3967 3.6498055107\n",
        "1.3968 3.6498055107\n",
        "1.3969 3.6498055107\n",
        "1.397 3.6498055107\n",
        "1.3971 3.6498055107\n",
        "1.3972 3.6498055107\n",
        "1.3973 3.6498055107\n",
        "1.3974 3.6498055107\n",
        "1.3975 3.6498055107\n",
        "1.3976 3.6498055107\n",
        "1.3977 3.6498055107\n",
        "1.3978 3.6498055107\n",
        "1.3979 3.6498055107\n",
        "1.398 3.6498055107\n",
        "1.3981 3.6498055107\n",
        "1.3982 3.6498055107\n",
        "1.3983 3.6498055107\n",
        "1.3984 3.6498055107\n",
        "1.3985 3.6498055107\n",
        "1.3986 3.6498055107\n",
        "1.3987 3.6498055107\n",
        "1.3988 3.6498055107\n",
        "1.3989"
       ]
      },
      {
       "output_type": "stream",
       "stream": "stdout",
       "text": [
        " 3.6498055107\n",
        "1.399 3.6498055107\n",
        "1.3991 3.6498055107\n",
        "1.3992 3.6498055107\n",
        "1.3993 3.6498055107\n",
        "1.3994 3.6498055107\n",
        "1.3995 3.6498055107\n",
        "1.3996 3.6498055107\n",
        "1.3997 3.6498055107\n",
        "1.3998 3.6498055107\n",
        "1.3999 3.6498055107\n",
        "1.4 3.6498055107\n",
        "1.4001 3.6498055107\n",
        "1.4002 3.6498055107\n",
        "1.4003 3.6498055107\n",
        "1.4004 3.6498055107\n",
        "1.4005 3.6498055107\n",
        "1.4006 3.6498055107\n",
        "1.4007 3.6498055107\n",
        "1.4008 3.6498055107\n",
        "1.4009 3.6498055107\n",
        "1.401 3.6498055107\n",
        "1.4011 3.6498055107\n",
        "1.4012 3.6498055107\n",
        "1.4013 3.6498055107\n",
        "1.4014 3.6498055107\n",
        "1.4015 3.6498055107\n",
        "1.4016 3.6498055107\n",
        "1.4017 3.6498055107\n",
        "1.4018 3.6498055107\n",
        "1.4019 3.6498055107\n",
        "1.402 3.6498055107\n",
        "1.4021 3.6498055107\n",
        "1.4022 3.6498055107\n",
        "1.4023 3.6498055107\n",
        "1.4024 3.6498055107\n",
        "1.4025 3.6498055107\n",
        "1.4026 3.6498055107\n",
        "1.4027 3.6498055107\n",
        "1.4028 3.6498055107\n",
        "1.4029 3.6498055107\n",
        "1.403 3.6498055107\n",
        "1.4031 3.6498055107\n",
        "1.4032 3.6498055107\n",
        "1.4033 3.6498055107\n",
        "1.4034 3.6498055107\n",
        "1.4035 3.6498055107\n",
        "1.4036 3.6498055107\n",
        "1.4037 3.6498055107\n",
        "1.4038 3.6498055107\n",
        "1.4039 3.6498055107\n",
        "1.404 3.6498055107\n",
        "1.4041 3.6498055107\n",
        "1.4042 3.6498055107\n",
        "1.4043 3.6498055107\n",
        "1.4044 3.6498055107\n",
        "1.4045 3.6498055107\n",
        "1.4046 3.6498055107\n",
        "1.4047 3.6498055107\n",
        "1.4048 3.6498055107\n",
        "1.4049 3.6498055107\n",
        "1.405 3.6498055107\n",
        "1.4051 3.6498055107\n",
        "1.4052 3.6498055107\n",
        "1.4053 3.6498055107\n",
        "1.4054 3.6498055107\n",
        "1.4055 3.6498055107\n",
        "1.4056 3.6498055107\n",
        "1.4057 3.6498055107\n",
        "1.4058 3.6498055107\n",
        "1.4059 3.6498055107\n",
        "1.406 3.6498055107\n",
        "1.4061 3.6498055107\n",
        "1.4062 3.6498055107\n",
        "1.4063 3.6498055107\n",
        "1.4064 3.6498055107\n",
        "1.4065 3.6498055107\n",
        "1.4066 3.6498055107\n",
        "1.4067 3.6498055107\n",
        "1.4068 3.6498055107\n",
        "1.4069 3.6498055107\n",
        "1.407 3.6498055107\n",
        "1.4071 3.6498055107\n",
        "1.4072 3.6498055107\n",
        "1.4073 3.6498055107\n",
        "1.4074 3.6498055107\n",
        "1.4075 3.6498055107\n",
        "1.4076 3.6498055107\n",
        "1.4077 3.6498055107\n",
        "1.4078 3.6498055107\n",
        "1.4079 3.6498055107\n",
        "1.408 3.6498055107\n",
        "1.4081 3.6498055107\n",
        "1.4082 3.6498055107\n",
        "1.4083 3.6498055107\n",
        "1.4084 3.6498055107\n",
        "1.4085 3.6498055107\n",
        "1.4086 3.6498055107\n",
        "1.4087 3.6498055107\n",
        "1.4088 3.6498055107\n",
        "1.4089 3.6498055107\n",
        "1.409 3.6498055107\n",
        "1.4091 3.6498055107\n",
        "1.4092 3.6498055107\n",
        "1.4093 3.6498055107\n",
        "1.4094 3.6498055107\n",
        "1.4095 3.6498055107\n",
        "1.4096 3.6498055107\n",
        "1.4097 3.6498055107\n",
        "1.4098 3.6498055107\n",
        "1.4099 3.6498055107\n",
        "1.41 3.6498055107\n",
        "1.4101 3.6498055107\n",
        "1.4102 3.6498055107\n",
        "1.4103 3.6498055107\n",
        "1.4104 3.6498055107\n",
        "1.4105 3.6498055107\n",
        "1.4106 3.6498055107\n",
        "1.4107 3.6498055107\n",
        "1.4108 3.6498055107\n",
        "1.4109 3.6498055107\n",
        "1.411 3.6498055107\n",
        "1.4111 3.6498055107\n",
        "1.4112 3.6498055107\n",
        "1.4113 3.6498055107\n",
        "1.4114 3.6498055107\n",
        "1.4115 3.6498055107\n",
        "1.4116 3.6498055107\n",
        "1.4117 3.6498055107\n",
        "1.4118 3.6498055107\n",
        "1.4119 3.6498055107\n",
        "1.412 3.6498055107\n",
        "1.4121"
       ]
      },
      {
       "output_type": "stream",
       "stream": "stdout",
       "text": [
        " 3.6498055107\n",
        "1.4122 3.6498055107\n",
        "1.4123 3.6498055107\n",
        "1.4124 3.6498055107\n",
        "1.4125 3.6498055107\n",
        "1.4126 3.6498055107\n",
        "1.4127 3.6498055107\n",
        "1.4128 3.6498055107\n",
        "1.4129 3.6498055107\n",
        "1.413 3.6498055107\n",
        "1.4131 3.6498055107\n",
        "1.4132 3.6498055107\n",
        "1.4133 3.6498055107\n",
        "1.4134 3.6498055107\n",
        "1.4135 3.6498055107\n",
        "1.4136 3.6498055107\n",
        "1.4137 3.6498055107\n",
        "1.4138 3.6498055107\n",
        "1.4139 3.6498055107\n",
        "1.414 3.6498055107\n",
        "1.4141 3.6498055107\n",
        "1.4142 3.6498055107\n",
        "1.4143 3.6498055107\n",
        "1.4144 3.6498055107\n",
        "1.4145 3.6498055107\n",
        "1.4146 3.6498055107\n",
        "1.4147 3.6498055107\n",
        "1.4148 3.6498055107\n",
        "1.4149 3.6498055107\n",
        "1.415 3.6498055107\n",
        "1.4151 3.6498055107\n",
        "1.4152 3.6498055107\n",
        "1.4153 3.6498055107\n",
        "1.4154 3.6498055107\n",
        "1.4155 3.6498055107\n",
        "1.4156 3.6498055107\n",
        "1.4157 3.6498055107\n",
        "1.4158 3.6498055107\n",
        "1.4159 3.6498055107\n",
        "1.416 3.6498055107\n",
        "1.4161 3.6498055107\n",
        "1.4162 3.6498055107\n",
        "1.4163 3.6498055107\n",
        "1.4164 3.6498055107\n",
        "1.4165 3.6498055107\n",
        "1.4166 3.6498055107\n",
        "1.4167 3.6498055107\n",
        "1.4168 3.6498055107\n",
        "1.4169 3.6498055107\n",
        "1.417 3.6498055107\n",
        "1.4171 3.6498055107\n",
        "1.4172 3.6498055107\n",
        "1.4173 3.6498055107\n",
        "1.4174 3.6498055107\n",
        "1.4175 3.6498055107\n",
        "1.4176 3.6498055107\n",
        "1.4177 3.6498055107\n",
        "1.4178 3.6498055107\n",
        "1.4179 3.6498055107\n",
        "1.418 3.6498055107\n",
        "1.4181 3.6498055107\n",
        "1.4182 3.6498055107\n",
        "1.4183 3.6498055107\n",
        "1.4184 3.6498055107\n",
        "1.4185 3.6498055107\n",
        "1.4186 3.6498055107\n",
        "1.4187 3.6498055107\n",
        "1.4188 3.6498055107\n",
        "1.4189 3.6498055107\n",
        "1.419 3.6498055107\n",
        "1.4191 3.6498055107\n",
        "1.4192 3.6498055107\n",
        "1.4193 3.6498055107\n",
        "1.4194 3.6498055107\n",
        "1.4195 3.6498055107\n",
        "1.4196 3.6498055107\n",
        "1.4197 3.6498055107\n",
        "1.4198 3.6498055107\n",
        "1.4199 3.6498055107\n",
        "1.42 3.6498055107\n",
        "1.4201 3.6498055107\n",
        "1.4202 3.6498055107\n",
        "1.4203 3.6498055107\n",
        "1.4204 3.6498055107\n",
        "1.4205 3.6498055107\n",
        "1.4206 3.6498055107\n",
        "1.4207 3.6498055107\n",
        "1.4208 3.6498055107\n",
        "1.4209 3.6498055107\n",
        "1.421 3.6498055107\n",
        "1.4211 3.6498055107\n",
        "1.4212 3.6498055107\n",
        "1.4213 3.6498055107\n",
        "1.4214 3.6498055107\n",
        "1.4215 3.6498055107\n",
        "1.4216 3.6498055107\n",
        "1.4217 3.6498055107\n",
        "1.4218 3.6498055107\n",
        "1.4219 3.6498055107\n",
        "1.422 3.6498055107\n",
        "1.4221 3.6498055107\n",
        "1.4222 3.6498055107\n",
        "1.4223 3.6498055107\n",
        "1.4224 3.6498055107\n",
        "1.4225 3.6498055107\n",
        "1.4226 3.6498055107\n",
        "1.4227 3.6498055107\n",
        "1.4228 3.6498055107\n",
        "1.4229 3.6498055107\n",
        "1.423 3.6498055107\n",
        "1.4231 3.6498055107\n",
        "1.4232 3.6498055107\n",
        "1.4233 3.6498055107\n",
        "1.4234 3.6498055107\n",
        "1.4235 3.6498055107\n",
        "1.4236 3.6498055107\n",
        "1.4237 3.6498055107\n",
        "1.4238 3.6498055107\n",
        "1.4239 3.6498055107\n",
        "1.424 3.6498055107\n",
        "1.4241 3.6498055107\n",
        "1.4242 3.6498055107\n",
        "1.4243 3.6498055107\n",
        "1.4244 3.6498055107\n",
        "1.4245 3.6498055107\n",
        "1.4246 3.6498055107\n",
        "1.4247 3.6498055107\n",
        "1.4248"
       ]
      },
      {
       "output_type": "stream",
       "stream": "stdout",
       "text": [
        " 3.6498055107\n",
        "1.4249 3.6498055107\n",
        "1.425 3.6498055107\n",
        "1.4251 3.6498055107\n",
        "1.4252 3.6498055107\n",
        "1.4253 3.6498055107\n",
        "1.4254 3.6498055107\n",
        "1.4255 3.6498055107\n",
        "1.4256 3.6498055107\n",
        "1.4257 3.6498055107\n",
        "1.4258 3.6498055107\n",
        "1.4259 3.6498055107\n",
        "1.426 3.6498055107\n",
        "1.4261 3.6498055107\n",
        "1.4262 3.6498055107\n",
        "1.4263 3.6498055107\n",
        "1.4264 3.6498055107\n",
        "1.4265 3.6498055107\n",
        "1.4266 3.6498055107\n",
        "1.4267 3.6498055107\n",
        "1.4268 3.6498055107\n",
        "1.4269 3.6498055107\n",
        "1.427 3.6498055107\n",
        "1.4271 3.6498055107\n",
        "1.4272 3.6498055107\n",
        "1.4273 3.6498055107\n",
        "1.4274 3.6498055107\n",
        "1.4275 3.6498055107\n",
        "1.4276 3.6498055107\n",
        "1.4277 3.6498055107\n",
        "1.4278 3.6498055107\n",
        "1.4279 3.6498055107\n",
        "1.428 3.6498055107\n",
        "1.4281 3.6498055107\n",
        "1.4282 3.6498055107\n",
        "1.4283 3.6498055107\n",
        "1.4284 3.6498055107\n",
        "1.4285 3.6498055107\n",
        "1.4286 3.6498055107\n",
        "1.4287 3.6498055107\n",
        "1.4288 3.6498055107\n",
        "1.4289 3.6498055107\n",
        "1.429 3.6498055107\n",
        "1.4291 3.6498055107\n",
        "1.4292 3.6498055107\n",
        "1.4293 3.6498055107\n",
        "1.4294 3.6498055107\n",
        "1.4295 3.6498055107\n",
        "1.4296 3.6498055107\n",
        "1.4297 3.6498055107\n",
        "1.4298 3.6498055107\n",
        "1.4299 3.6498055107\n",
        "1.43 3.6498055107\n",
        "1.4301 3.6498055107\n",
        "1.4302 3.6498055107\n",
        "1.4303 3.6498055107\n",
        "1.4304 3.6498055107\n",
        "1.4305 3.6498055107\n",
        "1.4306 3.6498055107\n",
        "1.4307 3.6498055107\n",
        "1.4308 3.6498055107\n",
        "1.4309 3.6498055107\n",
        "1.431 3.6498055107\n",
        "1.4311 3.6498055107\n",
        "1.4312 3.6498055107\n",
        "1.4313 3.6498055107\n",
        "1.4314 3.6498055107\n",
        "1.4315 3.6498055107\n",
        "1.4316 3.6498055107\n",
        "1.4317 3.6498055107\n",
        "1.4318 3.6498055107\n",
        "1.4319 3.6498055107\n",
        "1.432 3.6498055107\n",
        "1.4321 3.6498055107\n",
        "1.4322 3.6498055107\n",
        "1.4323 3.6498055107\n",
        "1.4324 3.6498055107\n",
        "1.4325 3.6498055107\n",
        "1.4326 3.6498055107\n",
        "1.4327 3.6498055107\n",
        "1.4328 3.6498055107\n",
        "1.4329 3.6498055107\n",
        "1.433 3.6498055107\n",
        "1.4331 3.6498055107\n",
        "1.4332 3.6498055107\n",
        "1.4333 3.6498055107\n",
        "1.4334 3.6498055107\n",
        "1.4335 3.6498055107\n",
        "1.4336 3.6498055107\n",
        "1.4337 3.6498055107\n",
        "1.4338 3.6498055107\n",
        "1.4339 3.6498055107\n",
        "1.434 3.6498055107\n",
        "1.4341 3.6498055107\n",
        "1.4342 3.6498055107\n",
        "1.4343 3.6498055107\n",
        "1.4344 3.6498055107\n",
        "1.4345 3.6498055107\n",
        "1.4346 3.6498055107\n",
        "1.4347 3.6498055107\n",
        "1.4348 3.6498055107\n",
        "1.4349 3.6498055107\n",
        "1.435 3.6498055107\n",
        "1.4351 3.6498055107\n",
        "1.4352 3.6498055107\n",
        "1.4353 3.6498055107\n",
        "1.4354 3.6498055107\n",
        "1.4355 3.6498055107\n",
        "1.4356 3.6498055107\n",
        "1.4357 3.6498055107\n",
        "1.4358 3.6498055107\n",
        "1.4359 3.6498055107\n",
        "1.436 3.6498055107\n",
        "1.4361"
       ]
      },
      {
       "output_type": "stream",
       "stream": "stdout",
       "text": [
        " 3.6498055107\n",
        "1.4362 3.6498055107\n",
        "1.4363 3.6498055107\n",
        "1.4364 3.6498055107\n",
        "1.4365 3.6498055107\n",
        "1.4366 3.6498055107\n",
        "1.4367 3.6498055107\n",
        "1.4368 3.6498055107\n",
        "1.4369 3.6498055107\n",
        "1.437 3.6498055107\n",
        "1.4371 3.6498055107\n",
        "1.4372 3.6498055107\n",
        "1.4373 3.6498055107\n",
        "1.4374 3.6498055107\n",
        "1.4375 3.6498055107\n",
        "1.4376 3.6498055107\n",
        "1.4377 3.6498055107\n",
        "1.4378 3.6498055107\n",
        "1.4379 3.6498055107\n",
        "1.438 3.6498055107\n",
        "1.4381 3.6498055107\n",
        "1.4382 3.6498055107\n",
        "1.4383 3.6498055107\n",
        "1.4384 3.6498055107\n",
        "1.4385 3.6498055107\n",
        "1.4386 3.6498055107\n",
        "1.4387 3.6498055107\n",
        "1.4388 3.6498055107\n",
        "1.4389 3.6498055107\n",
        "1.439 3.6498055107\n",
        "1.4391 3.6498055107\n",
        "1.4392 3.6498055107\n",
        "1.4393 3.6498055107\n",
        "1.4394 3.6498055107\n",
        "1.4395 3.6498055107\n",
        "1.4396 3.6498055107\n",
        "1.4397 3.6498055107\n",
        "1.4398 3.6498055107\n",
        "1.4399 3.6498055107\n",
        "1.44 3.6498055107\n",
        "1.4401 3.6498055107\n",
        "1.4402 3.6498055107\n",
        "1.4403 3.6498055107\n",
        "1.4404 3.6498055107\n",
        "1.4405 3.6498055107\n",
        "1.4406 3.6498055107\n",
        "1.4407 3.6498055107\n",
        "1.4408 3.6498055107\n",
        "1.4409 3.6498055107\n",
        "1.441 3.6498055107\n",
        "1.4411 3.6498055107\n",
        "1.4412 3.6498055107\n",
        "1.4413 3.6498055107\n",
        "1.4414 3.6498055107\n",
        "1.4415 3.6498055107\n",
        "1.4416 3.6498055107\n",
        "1.4417 3.6498055107\n",
        "1.4418 3.6498055107\n",
        "1.4419 3.6498055107\n",
        "1.442 3.6498055107\n",
        "1.4421 3.6498055107\n",
        "1.4422 3.6498055107\n",
        "1.4423 3.6498055107\n",
        "1.4424 3.6498055107\n",
        "1.4425 3.6498055107\n",
        "1.4426 3.6498055107\n",
        "1.4427 3.6498055107\n",
        "1.4428 3.6498055107\n",
        "1.4429 3.6498055107\n",
        "1.443 3.6498055107\n",
        "1.4431 3.6498055107\n",
        "1.4432 3.6498055107\n",
        "1.4433 3.6498055107\n",
        "1.4434 3.6498055107\n",
        "1.4435 3.6498055107\n",
        "1.4436 3.6498055107\n",
        "1.4437 3.6498055107\n",
        "1.4438 3.6498055107\n",
        "1.4439 3.6498055107\n",
        "1.444 3.6498055107\n",
        "1.4441 3.6498055107\n",
        "1.4442 3.6498055107\n",
        "1.4443 3.6498055107\n",
        "1.4444 3.6498055107\n",
        "1.4445 3.6498055107\n",
        "1.4446 3.6498055107\n",
        "1.4447 3.6498055107\n",
        "1.4448 3.6498055107\n",
        "1.4449 3.6498055107\n",
        "1.445 3.6498055107\n",
        "1.4451 3.6498055107\n",
        "1.4452 3.6498055107\n",
        "1.4453 3.6498055107\n",
        "1.4454 3.6498055107\n",
        "1.4455 3.6498055107\n",
        "1.4456 3.6498055107\n",
        "1.4457 3.6498055107\n",
        "1.4458 3.6498055107\n",
        "1.4459 3.6498055107\n",
        "1.446 3.6498055107\n",
        "1.4461 3.6498055107\n",
        "1.4462 3.6498055107\n",
        "1.4463"
       ]
      },
      {
       "output_type": "stream",
       "stream": "stdout",
       "text": [
        " 3.6498055107\n",
        "1.4464 3.6498055107\n",
        "1.4465 3.6498055107\n",
        "1.4466 3.6498055107\n",
        "1.4467 3.6498055107\n",
        "1.4468 3.6498055107\n",
        "1.4469 3.6498055107\n",
        "1.447 3.6498055107\n",
        "1.4471 3.6498055107\n",
        "1.4472 3.6498055107\n",
        "1.4473 3.6498055107\n",
        "1.4474 3.6498055107\n",
        "1.4475 3.6498055107\n",
        "1.4476 3.6498055107\n",
        "1.4477 3.6498055107\n",
        "1.4478 3.6498055107\n",
        "1.4479 3.6498055107\n",
        "1.448 3.6498055107\n",
        "1.4481 3.6498055107\n",
        "1.4482 3.6498055107\n",
        "1.4483 3.6498055107\n",
        "1.4484 3.6498055107\n",
        "1.4485 3.6498055107\n",
        "1.4486 3.6498055107\n",
        "1.4487 3.6498055107\n",
        "1.4488 3.6498055107\n",
        "1.4489 3.6498055107\n",
        "1.449 3.6498055107\n",
        "1.4491 3.6498055107\n",
        "1.4492 3.6498055107\n",
        "1.4493 3.6498055107\n",
        "1.4494 3.6498055107\n",
        "1.4495 3.6498055107\n",
        "1.4496 3.6498055107\n",
        "1.4497 3.6498055107\n",
        "1.4498 3.6498055107\n",
        "1.4499 3.6498055107\n",
        "1.45 3.6498055107\n",
        "1.4501 3.6498055107\n",
        "1.4502 3.6498055107\n",
        "1.4503 3.6498055107\n",
        "1.4504 3.6498055107\n",
        "1.4505 3.6498055107\n",
        "1.4506 3.6498055107\n",
        "1.4507 3.6498055107\n",
        "1.4508 3.6498055107\n",
        "1.4509 3.6498055107\n",
        "1.451 3.6498055107\n",
        "1.4511 3.6498055107\n",
        "1.4512 3.6498055107\n",
        "1.4513 3.6498055107\n",
        "1.4514 3.6498055107\n",
        "1.4515 3.6498055107\n",
        "1.4516 3.6498055107\n",
        "1.4517 3.6498055107\n",
        "1.4518 3.6498055107\n",
        "1.4519 3.6498055107\n",
        "1.452 3.6498055107\n",
        "1.4521 3.6498055107\n",
        "1.4522 3.6498055107\n",
        "1.4523 3.6498055107\n",
        "1.4524 3.6498055107\n",
        "1.4525 3.6498055107\n",
        "1.4526 3.6498055107\n",
        "1.4527 3.6498055107\n",
        "1.4528 3.6498055107\n",
        "1.4529 3.6498055107\n",
        "1.453 3.6498055107\n",
        "1.4531 3.6498055107\n",
        "1.4532 3.6498055107\n",
        "1.4533 3.6498055107\n",
        "1.4534 3.6498055107\n",
        "1.4535 3.6498055107\n",
        "1.4536 3.6498055107\n",
        "1.4537 3.6498055107\n",
        "1.4538 3.6498055107\n",
        "1.4539 3.6498055107\n",
        "1.454 3.6498055107\n",
        "1.4541 3.6498055107\n",
        "1.4542 3.6498055107\n",
        "1.4543 3.6498055107\n",
        "1.4544 3.6498055107\n",
        "1.4545 3.6498055107\n",
        "1.4546 3.6498055107\n",
        "1.4547 3.6498055107\n",
        "1.4548 3.6498055107\n",
        "1.4549 3.6498055107\n",
        "1.455 3.6498055107\n",
        "1.4551 3.6498055107\n",
        "1.4552 3.6498055107\n",
        "1.4553 3.6498055107\n",
        "1.4554 3.6498055107\n",
        "1.4555 3.6498055107\n",
        "1.4556 3.6498055107\n",
        "1.4557 3.6498055107\n",
        "1.4558 3.6498055107\n",
        "1.4559 3.6498055107\n",
        "1.456 3.6498055107\n",
        "1.4561 3.6498055107\n",
        "1.4562 3.6498055107\n",
        "1.4563 3.6498055107\n",
        "1.4564 3.6498055107\n",
        "1.4565 3.6498055107\n",
        "1.4566 3.6498055107\n",
        "1.4567 3.6498055107\n",
        "1.4568 3.6498055107\n",
        "1.4569 3.6498055107\n",
        "1.457 3.6498055107\n",
        "1.4571 3.6498055107\n",
        "1.4572 3.6498055107\n",
        "1.4573"
       ]
      },
      {
       "output_type": "stream",
       "stream": "stdout",
       "text": [
        " 3.6498055107\n",
        "1.4574 3.6498055107\n",
        "1.4575 3.6498055107\n",
        "1.4576 3.6498055107\n",
        "1.4577 3.6498055107\n",
        "1.4578 3.6498055107\n",
        "1.4579 3.6498055107\n",
        "1.458 3.6498055107\n",
        "1.4581 3.6498055107\n",
        "1.4582 3.6498055107\n",
        "1.4583 3.6498055107\n",
        "1.4584 3.6498055107\n",
        "1.4585 3.6498055107\n",
        "1.4586 3.6498055107\n",
        "1.4587 3.6498055107\n",
        "1.4588 3.6498055107\n",
        "1.4589 3.6498055107\n",
        "1.459 3.6498055107\n",
        "1.4591 3.6498055107\n",
        "1.4592 3.6498055107\n",
        "1.4593 3.6498055107\n",
        "1.4594 3.6498055107\n",
        "1.4595 3.6498055107\n",
        "1.4596 3.6498055107\n",
        "1.4597 3.6498055107\n",
        "1.4598 3.6498055107\n",
        "1.4599 3.6498055107\n",
        "1.46 3.6498055107\n",
        "1.4601 3.6498055107\n",
        "1.4602 3.6498055107\n",
        "1.4603 3.6498055107\n",
        "1.4604 3.6498055107\n",
        "1.4605 3.6498055107\n",
        "1.4606 3.6498055107\n",
        "1.4607 3.6498055107\n",
        "1.4608 3.6498055107\n",
        "1.4609 3.6498055107\n",
        "1.461 3.6498055107\n",
        "1.4611 3.6498055107\n",
        "1.4612 3.6498055107\n",
        "1.4613 3.6498055107\n",
        "1.4614 3.6498055107\n",
        "1.4615 3.6498055107\n",
        "1.4616 3.6498055107\n",
        "1.4617 3.6498055107\n",
        "1.4618 3.6498055107\n",
        "1.4619 3.6498055107\n",
        "1.462 3.6498055107\n",
        "1.4621 3.6498055107\n",
        "1.4622 3.6498055107\n",
        "1.4623 3.6498055107\n",
        "1.4624 3.6498055107\n",
        "1.4625 3.6498055107\n",
        "1.4626 3.6498055107\n",
        "1.4627 3.6498055107\n",
        "1.4628 3.6498055107\n",
        "1.4629 3.6498055107\n",
        "1.463 3.6498055107\n",
        "1.4631 3.6498055107\n",
        "1.4632 3.6498055107\n",
        "1.4633 3.6498055107\n",
        "1.4634 3.6498055107\n",
        "1.4635 3.6498055107\n",
        "1.4636 3.6498055107\n",
        "1.4637 3.6498055107\n",
        "1.4638 3.6498055107\n",
        "1.4639 3.6498055107\n",
        "1.464 3.6498055107\n",
        "1.4641 3.6498055107\n",
        "1.4642 3.6498055107\n",
        "1.4643 3.6498055107\n",
        "1.4644 3.6498055107\n",
        "1.4645 3.6498055107\n",
        "1.4646 3.6498055107\n",
        "1.4647 3.6498055107\n",
        "1.4648 3.6498055107\n",
        "1.4649 3.6498055107\n",
        "1.465 3.6498055107\n",
        "1.4651 3.6498055107\n",
        "1.4652 3.6498055107\n",
        "1.4653 3.6498055107\n",
        "1.4654 3.6498055107\n",
        "1.4655 3.6498055107\n",
        "1.4656 3.6498055107\n",
        "1.4657 3.6498055107\n",
        "1.4658 3.6498055107\n",
        "1.4659 3.6498055107\n",
        "1.466 3.6498055107\n",
        "1.4661 3.6498055107\n",
        "1.4662 3.6498055107\n",
        "1.4663 3.6498055107\n",
        "1.4664 3.6498055107\n",
        "1.4665 3.6498055107\n",
        "1.4666 3.6498055107\n",
        "1.4667 3.6498055107\n",
        "1.4668 3.6498055107\n",
        "1.4669 3.6498055107\n",
        "1.467 3.6498055107\n",
        "1.4671 3.6498055107\n",
        "1.4672 3.6498055107\n",
        "1.4673 3.6498055107\n",
        "1.4674 3.6498055107\n",
        "1.4675 3.6498055107\n",
        "1.4676 3.6498055107\n",
        "1.4677 3.6498055107\n",
        "1.4678 3.6498055107\n",
        "1.4679 3.6498055107\n",
        "1.468 3.6498055107\n",
        "1.4681 3.6498055107\n",
        "1.4682 3.6498055107\n",
        "1.4683"
       ]
      },
      {
       "output_type": "stream",
       "stream": "stdout",
       "text": [
        " 3.6498055107\n",
        "1.4684 3.6498055107\n",
        "1.4685 3.6498055107\n",
        "1.4686 3.6498055107\n",
        "1.4687 3.6498055107\n",
        "1.4688 3.6498055107\n",
        "1.4689 3.6498055107\n",
        "1.469 3.6498055107\n",
        "1.4691 3.6498055107\n",
        "1.4692 3.6498055107\n",
        "1.4693 3.6498055107\n",
        "1.4694 3.6498055107\n",
        "1.4695 3.6498055107\n",
        "1.4696 3.6498055107\n",
        "1.4697 3.6498055107\n",
        "1.4698 3.6498055107\n",
        "1.4699 3.6498055107\n",
        "1.47 3.6498055107\n",
        "1.4701 3.6498055107\n",
        "1.4702 3.6498055107\n",
        "1.4703 3.6498055107\n",
        "1.4704 3.6498055107\n",
        "1.4705 3.6498055107\n",
        "1.4706 3.6498055107\n",
        "1.4707 3.6498055107\n",
        "1.4708 3.6498055107\n",
        "1.4709 3.6498055107\n",
        "1.471 3.6498055107\n",
        "1.4711 3.6498055107\n",
        "1.4712 3.6498055107\n",
        "1.4713 3.6498055107\n",
        "1.4714 3.6498055107\n",
        "1.4715 3.6498055107\n",
        "1.4716 3.6498055107\n",
        "1.4717 3.6498055107\n",
        "1.4718 3.6498055107\n",
        "1.4719 3.6498055107\n",
        "1.472 3.6498055107\n",
        "1.4721 3.6498055107\n",
        "1.4722 3.6498055107\n",
        "1.4723 3.6498055107\n",
        "1.4724 3.6498055107\n",
        "1.4725 3.6498055107\n",
        "1.4726 3.6498055107\n",
        "1.4727 3.6498055107\n",
        "1.4728 3.6498055107\n",
        "1.4729 3.6498055107\n",
        "1.473 3.6498055107\n",
        "1.4731 3.6498055107\n",
        "1.4732 3.6498055107\n",
        "1.4733 3.6498055107\n",
        "1.4734 3.6498055107\n",
        "1.4735 3.6498055107\n",
        "1.4736 3.6498055107\n",
        "1.4737 3.6498055107\n",
        "1.4738 3.6498055107\n",
        "1.4739 3.6498055107\n",
        "1.474 3.6498055107\n",
        "1.4741 3.6498055107\n",
        "1.4742 3.6498055107\n",
        "1.4743 3.6498055107\n",
        "1.4744 3.6498055107\n",
        "1.4745 3.6498055107\n",
        "1.4746 3.6498055107\n",
        "1.4747 3.6498055107\n",
        "1.4748 3.6498055107\n",
        "1.4749 3.6498055107\n",
        "1.475 3.6498055107\n",
        "1.4751 3.6498055107\n",
        "1.4752 3.6498055107\n",
        "1.4753 3.6498055107\n",
        "1.4754 3.6498055107\n",
        "1.4755 3.6498055107\n",
        "1.4756 3.6498055107\n",
        "1.4757 3.6498055107\n",
        "1.4758 3.6498055107\n",
        "1.4759 3.6498055107\n",
        "1.476 3.6498055107\n",
        "1.4761 3.6498055107\n",
        "1.4762 3.6498055107\n",
        "1.4763 3.6498055107\n",
        "1.4764 3.6498055107\n",
        "1.4765 3.6498055107\n",
        "1.4766 3.6498055107\n",
        "1.4767 3.6498055107\n",
        "1.4768 3.6498055107\n",
        "1.4769 3.6498055107\n",
        "1.477 3.6498055107\n",
        "1.4771 3.6498055107\n",
        "1.4772 3.6498055107\n",
        "1.4773 3.6498055107\n",
        "1.4774 3.6498055107\n",
        "1.4775 3.6498055107\n",
        "1.4776 3.6498055107\n",
        "1.4777 3.6498055107\n",
        "1.4778 3.6498055107\n",
        "1.4779 3.6498055107\n",
        "1.478 3.6498055107\n",
        "1.4781 3.6498055107\n",
        "1.4782 3.6498055107\n",
        "1.4783 3.6498055107\n",
        "1.4784 3.6498055107\n",
        "1.4785 3.6498055107\n",
        "1.4786 3.6498055107\n",
        "1.4787 3.6498055107\n",
        "1.4788 3.6498055107\n",
        "1.4789 3.6498055107\n",
        "1.479"
       ]
      },
      {
       "output_type": "stream",
       "stream": "stdout",
       "text": [
        " 3.6498055107\n",
        "1.4791 3.6498055107\n",
        "1.4792 3.6498055107\n",
        "1.4793 3.6498055107\n",
        "1.4794 3.6498055107\n",
        "1.4795 3.6498055107\n",
        "1.4796 3.6498055107\n",
        "1.4797 3.6498055107\n",
        "1.4798 3.6498055107\n",
        "1.4799 3.6498055107\n",
        "1.48 3.6498055107\n",
        "1.4801 3.6498055107\n",
        "1.4802 3.6498055107\n",
        "1.4803 3.6498055107\n",
        "1.4804 3.6498055107\n",
        "1.4805 3.6498055107\n",
        "1.4806 3.6498055107\n",
        "1.4807 3.6498055107\n",
        "1.4808 3.6498055107\n",
        "1.4809 3.6498055107\n",
        "1.481 3.6498055107\n",
        "1.4811 3.6498055107\n",
        "1.4812 3.6498055107\n",
        "1.4813 3.6498055107\n",
        "1.4814 3.6498055107\n",
        "1.4815 3.6498055107\n",
        "1.4816 3.6498055107\n",
        "1.4817 3.6498055107\n",
        "1.4818 3.6498055107\n",
        "1.4819 3.6498055107\n",
        "1.482 3.6498055107\n",
        "1.4821 3.6498055107\n",
        "1.4822 3.6498055107\n",
        "1.4823 3.6498055107\n",
        "1.4824 3.6498055107\n",
        "1.4825 3.6498055107\n",
        "1.4826 3.6498055107\n",
        "1.4827 3.6498055107\n",
        "1.4828 3.6498055107\n",
        "1.4829 3.6498055107\n",
        "1.483 3.6498055107\n",
        "1.4831 3.6498055107\n",
        "1.4832 3.6498055107\n",
        "1.4833 3.6498055107\n",
        "1.4834 3.6498055107\n",
        "1.4835 3.6498055107\n",
        "1.4836 3.6498055107\n",
        "1.4837 3.6498055107\n",
        "1.4838 3.6498055107\n",
        "1.4839 3.6498055107\n",
        "1.484 3.6498055107\n",
        "1.4841 3.6498055107\n",
        "1.4842 3.6498055107\n",
        "1.4843 3.6498055107\n",
        "1.4844 3.6498055107\n",
        "1.4845 3.6498055107\n",
        "1.4846 3.6498055107\n",
        "1.4847 3.6498055107\n",
        "1.4848 3.6498055107\n",
        "1.4849 3.6498055107\n",
        "1.485 3.6498055107\n",
        "1.4851 3.6498055107\n",
        "1.4852 3.6498055107\n",
        "1.4853 3.6498055107\n",
        "1.4854 3.6498055107\n",
        "1.4855 3.6498055107\n",
        "1.4856 3.6498055107\n",
        "1.4857 3.6498055107\n",
        "1.4858 3.6498055107\n",
        "1.4859 3.6498055107\n",
        "1.486 3.6498055107\n",
        "1.4861 3.6498055107\n",
        "1.4862 3.6498055107\n",
        "1.4863 3.6498055107\n",
        "1.4864 3.6498055107\n",
        "1.4865 3.6498055107\n",
        "1.4866 3.6498055107\n",
        "1.4867 3.6498055107\n",
        "1.4868 3.6498055107\n",
        "1.4869 3.6498055107\n",
        "1.487 3.6498055107\n",
        "1.4871 3.6498055107\n",
        "1.4872 3.6498055107\n",
        "1.4873 3.6498055107\n",
        "1.4874 3.6498055107\n",
        "1.4875 3.6498055107\n",
        "1.4876 3.6498055107\n",
        "1.4877 3.6498055107\n",
        "1.4878 3.6498055107\n",
        "1.4879 3.6498055107\n",
        "1.488 3.6498055107\n",
        "1.4881 3.6498055107\n",
        "1.4882 3.6498055107\n",
        "1.4883 3.6498055107\n",
        "1.4884 3.6498055107\n",
        "1.4885 3.6498055107\n",
        "1.4886 3.6498055107\n",
        "1.4887 3.6498055107\n",
        "1.4888 3.6498055107\n",
        "1.4889 3.6498055107\n",
        "1.489 3.6498055107\n",
        "1.4891 3.6498055107\n",
        "1.4892 3.6498055107\n",
        "1.4893 3.6498055107\n",
        "1.4894 3.6498055107\n",
        "1.4895 3.6498055107\n",
        "1.4896 3.6498055107\n",
        "1.4897 3.6498055107\n",
        "1.4898 3.6498055107\n",
        "1.4899 3.6498055107\n",
        "1.49 3.6498055107\n",
        "1.4901 3.6498055107\n",
        "1.4902 3.6498055107\n",
        "1.4903 3.6498055107\n",
        "1.4904 3.6498055107\n",
        "1.4905 3.6498055107\n",
        "1.4906 3.6498055107\n",
        "1.4907 3.6498055107\n",
        "1.4908"
       ]
      },
      {
       "output_type": "stream",
       "stream": "stdout",
       "text": [
        " 3.6498055107\n",
        "1.4909 3.6498055107\n",
        "1.491 3.6498055107\n",
        "1.4911 3.6498055107\n",
        "1.4912 3.6498055107\n",
        "1.4913 3.6498055107\n",
        "1.4914 3.6498055107\n",
        "1.4915 3.6498055107\n",
        "1.4916 3.6498055107\n",
        "1.4917 3.6498055107\n",
        "1.4918 3.6498055107\n",
        "1.4919 3.6498055107\n",
        "1.492 3.6498055107\n",
        "1.4921 3.6498055107\n",
        "1.4922 3.6498055107\n",
        "1.4923 3.6498055107\n",
        "1.4924 3.6498055107\n",
        "1.4925 3.6498055107\n",
        "1.4926 3.6498055107\n",
        "1.4927 3.6498055107\n",
        "1.4928 3.6498055107\n",
        "1.4929 3.6498055107\n",
        "1.493 3.6498055107\n",
        "1.4931 3.6498055107\n",
        "1.4932 3.6498055107\n",
        "1.4933 3.6498055107\n",
        "1.4934 3.6498055107\n",
        "1.4935 3.6498055107\n",
        "1.4936 3.6498055107\n",
        "1.4937 3.6498055107\n",
        "1.4938 3.6498055107\n",
        "1.4939 3.6498055107\n",
        "1.494 3.6498055107\n",
        "1.4941 3.6498055107\n",
        "1.4942 3.6498055107\n",
        "1.4943 3.6498055107\n",
        "1.4944 3.6498055107\n",
        "1.4945 3.6498055107\n",
        "1.4946 3.6498055107\n",
        "1.4947 3.6498055107\n",
        "1.4948 3.6498055107\n",
        "1.4949 3.6498055107\n",
        "1.495 3.6498055107\n",
        "1.4951 3.6498055107\n",
        "1.4952 3.6498055107\n",
        "1.4953 3.6498055107\n",
        "1.4954 3.6498055107\n",
        "1.4955 3.6498055107\n",
        "1.4956 3.6498055107\n",
        "1.4957 3.6498055107\n",
        "1.4958 3.6498055107\n",
        "1.4959 3.6498055107\n",
        "1.496 3.6498055107\n",
        "1.4961 3.6498055107\n",
        "1.4962 3.6498055107\n",
        "1.4963 3.6498055107\n",
        "1.4964 3.6498055107\n",
        "1.4965 3.6498055107\n",
        "1.4966 3.6498055107\n",
        "1.4967 3.6498055107\n",
        "1.4968 3.6498055107\n",
        "1.4969 3.6498055107\n",
        "1.497 3.6498055107\n",
        "1.4971 3.6498055107\n",
        "1.4972 3.6498055107\n",
        "1.4973 3.6498055107\n",
        "1.4974 3.6498055107\n",
        "1.4975 3.6498055107\n",
        "1.4976 3.6498055107\n",
        "1.4977 3.6498055107\n",
        "1.4978 3.6498055107\n",
        "1.4979 3.6498055107\n",
        "1.498 3.6498055107\n",
        "1.4981 3.6498055107\n",
        "1.4982 3.6498055107\n",
        "1.4983 3.6498055107\n",
        "1.4984 3.6498055107\n",
        "1.4985 3.6498055107\n",
        "1.4986 3.6498055107\n",
        "1.4987 3.6498055107\n",
        "1.4988 3.6498055107\n",
        "1.4989 3.6498055107\n",
        "1.499 3.6498055107\n",
        "1.4991 3.6498055107\n",
        "1.4992 3.6498055107\n",
        "1.4993 3.6498055107\n",
        "1.4994 3.6498055107\n",
        "1.4995 3.6498055107\n",
        "1.4996 3.6498055107\n",
        "1.4997 3.6498055107\n",
        "1.4998 3.6498055107\n",
        "1.4999 3.6498055107\n"
       ]
      }
     ],
     "prompt_number": 68
    },
    {
     "cell_type": "code",
     "collapsed": false,
     "input": [
      "# RV vs. JD (x 4 channels) + baryVel\n",
      "filehandler = open('M67-S125.obj', 'r') \n",
      "thisStar = pickle.load(filehandler) \n",
      "\n",
      "plt.title(thisStar.name+' V='+str(thisStar.V))\n",
      "plt.ylabel('dRV [km/s]')\n",
      "plt.xlabel('JD')\n",
      "plt.scatter(thisStar.exposures.JDs, np.array(thisStar.exposures.cam1_RVs.RVs)/1000, color = 'b', label ='Blue')\n",
      "plt.scatter(thisStar.exposures.JDs, np.array(thisStar.exposures.cam2_RVs.RVs)/1000, color = 'g', label ='Green')\n",
      "plt.scatter(thisStar.exposures.JDs, np.array(thisStar.exposures.cam3_RVs.RVs)/1000, color = 'r', label ='Red')\n",
      "plt.scatter(thisStar.exposures.JDs, np.array(thisStar.exposures.cam4_RVs.RVs)/1000, color = 'cyan', label ='IR')\n",
      "plt.plot(thisStar.exposures.JDs, np.array(thisStar.baryVels)/1000, label = 'Barycentric Vel.')\n",
      "\n",
      "plt.legend(loc=0)\n",
      "plt.show()"
     ],
     "language": "python",
     "metadata": {},
     "outputs": [],
     "prompt_number": 157
    },
    {
     "cell_type": "code",
     "collapsed": false,
     "input": [
      "thisStar.exposures.JDs.shape"
     ],
     "language": "python",
     "metadata": {},
     "outputs": [
      {
       "metadata": {},
       "output_type": "pyout",
       "prompt_number": 134,
       "text": [
        "(11,)"
       ]
      }
     ],
     "prompt_number": 134
    },
    {
     "cell_type": "code",
     "collapsed": false,
     "input": [],
     "language": "python",
     "metadata": {},
     "outputs": []
    },
    {
     "cell_type": "code",
     "collapsed": false,
     "input": [
      "pwd"
     ],
     "language": "python",
     "metadata": {},
     "outputs": [
      {
       "metadata": {},
       "output_type": "pyout",
       "prompt_number": 147,
       "text": [
        "u'/Users/Carlos/Documents/HERMES/reductions/m67_all_4cams/xdef_1000'"
       ]
      }
     ],
     "prompt_number": 147
    },
    {
     "cell_type": "code",
     "collapsed": false,
     "input": [
      "# RV vs. JD (x 4 channels) + baryVel\n",
      "#multiplot with \n",
      "filehandler = open('M67-S49.obj', 'r') \n",
      "thisStar = pickle.load(filehandler) \n",
      "\n",
      "plt.subplot(211)\n",
      "plt.title(thisStar.name+' V='+str(thisStar.V))\n",
      "plt.ylabel('dRV [km/s]')\n",
      "plt.xlabel('JD')\n",
      "plt.scatter(thisStar.exposures.JDs, np.array(thisStar.exposures.cam1_RVs.RVs)/1000, color = 'b', label ='Blue')\n",
      "plt.scatter(thisStar.exposures.JDs, np.array(thisStar.exposures.cam2_RVs.RVs)/1000, color = 'g', label ='Green')\n",
      "plt.scatter(thisStar.exposures.JDs, np.array(thisStar.exposures.cam3_RVs.RVs)/1000, color = 'r', label ='Red')\n",
      "plt.scatter(thisStar.exposures.JDs, np.array(thisStar.exposures.cam4_RVs.RVs)/1000, color = 'cyan', label ='IR')\n",
      "plt.plot(thisStar.exposures.JDs, np.array(thisStar.baryVels)/1000, label = 'Barycentric Vel.')\n",
      "plt.legend(loc=0)\n",
      "# plt.tight_layout()\n",
      "plt.subplot(223)\n",
      "plt.title('Reduced Flux')\n",
      "plt.ylabel('Flux')\n",
      "plt.xlabel('Wavelength (Ang)')\n",
      "for lam, flux, fileName in zip(thisStar.exposures.cam3_wavelengths,thisStar.exposures.cam3_fluxes, thisStar.exposures.cam3_fileNames):\n",
      "    plt.plot(lam[::10],flux[::10], label = fileName)\n",
      "# plt.legend(loc=0,prop={'size':6})\n",
      "\n",
      "plt.subplot(224)\n",
      "plt.title('Raw flux')\n",
      "plt.ylabel('Flux')\n",
      "plt.xlabel('Pixels')\n",
      "for lam, flux, fileName in zip(thisStar.exposures.cam3_wavelengths,thisStar.exposures.cam3_raw_fluxes, thisStar.exposures.cam3_fileNames):\n",
      "    plt.plot(flux[::10], label = fileName)\n",
      "# plt.legend(loc=0,prop={'size':6})\n",
      "\n",
      "plt.show()"
     ],
     "language": "python",
     "metadata": {},
     "outputs": [],
     "prompt_number": 150
    },
    {
     "cell_type": "code",
     "collapsed": false,
     "input": [
      "np.max(thisStar.exposures.JDs)-np.min(thisStar.exposures.JDs)"
     ],
     "language": "python",
     "metadata": {},
     "outputs": [
      {
       "metadata": {},
       "output_type": "pyout",
       "prompt_number": 144,
       "text": [
        "2.09783397459978"
       ]
      }
     ],
     "prompt_number": 144
    },
    {
     "cell_type": "code",
     "collapsed": false,
     "input": [
      "thisStar.exposures."
     ],
     "language": "python",
     "metadata": {},
     "outputs": []
    },
    {
     "cell_type": "code",
     "collapsed": false,
     "input": [
      "fileList = glob.glob('/Users/Carlos/Documents/HERMES/reductions/m67_all_4cams/*.obj')\n",
      "print len(fileList)\n",
      "for i in fileList:\n",
      "    filehandler = open(i, 'r') \n",
      "    thisStar = pickle.load(filehandler) \n",
      "    filehandler.close\n",
      "    if np.unique(thisStar.exposures.plates).shape[0]==1:\n",
      "        if np.unique(thisStar.exposures.pivots).shape[0]==1:\n",
      "            if np.sum(thisStar.exposures.HRs)==0:\n",
      "                print thisStar.name, thisStar.Vmag, thisStar.exposures.JDs.shape[0]\n"
     ],
     "language": "python",
     "metadata": {},
     "outputs": [
      {
       "output_type": "stream",
       "stream": "stdout",
       "text": [
        "276\n",
        "M67-424"
       ]
      },
      {
       "output_type": "stream",
       "stream": "stdout",
       "text": [
        " 14.622 16\n",
        "M67-429"
       ]
      },
      {
       "output_type": "stream",
       "stream": "stdout",
       "text": [
        " 16.69 10\n",
        "M67-432"
       ]
      },
      {
       "output_type": "stream",
       "stream": "stdout",
       "text": [
        " 15.891 16\n",
        "M67-457"
       ]
      },
      {
       "output_type": "stream",
       "stream": "stdout",
       "text": [
        " 15.837 16\n",
        "M67-481"
       ]
      },
      {
       "output_type": "stream",
       "stream": "stdout",
       "text": [
        " 15.164 4\n",
        "M67-506"
       ]
      },
      {
       "output_type": "stream",
       "stream": "stdout",
       "text": [
        " 14.109 12\n",
        "M67-512"
       ]
      },
      {
       "output_type": "stream",
       "stream": "stdout",
       "text": [
        " 15.656 4\n",
        "M67-524"
       ]
      },
      {
       "output_type": "stream",
       "stream": "stdout",
       "text": [
        " 17.72 10\n",
        "M67-525"
       ]
      },
      {
       "output_type": "stream",
       "stream": "stdout",
       "text": [
        " 16.36 10\n",
        "M67-538"
       ]
      },
      {
       "output_type": "stream",
       "stream": "stdout",
       "text": [
        " 14.679 12\n",
        "M67-539"
       ]
      },
      {
       "output_type": "stream",
       "stream": "stdout",
       "text": [
        " 14.307 16\n",
        "M67-546"
       ]
      },
      {
       "output_type": "stream",
       "stream": "stdout",
       "text": [
        " 15.272 12\n",
        "M67-557"
       ]
      },
      {
       "output_type": "stream",
       "stream": "stdout",
       "text": [
        " 14.327 16\n",
        "M67-560"
       ]
      },
      {
       "output_type": "stream",
       "stream": "stdout",
       "text": [
        " 15.038 12\n",
        "M67-580"
       ]
      },
      {
       "output_type": "stream",
       "stream": "stdout",
       "text": [
        " 14.735 16\n",
        "M67-F-117"
       ]
      },
      {
       "output_type": "stream",
       "stream": "stdout",
       "text": [
        " 12.58 11\n",
        "M67-I-198"
       ]
      },
      {
       "output_type": "stream",
       "stream": "stdout",
       "text": [
        " 13.141 13\n",
        "M67-I-242ble"
       ]
      },
      {
       "output_type": "stream",
       "stream": "stdout",
       "text": [
        " 11.06 11\n",
        "M67-S116"
       ]
      },
      {
       "output_type": "stream",
       "stream": "stdout",
       "text": [
        " 13.075 13\n",
        "M67-S16"
       ]
      },
      {
       "output_type": "stream",
       "stream": "stdout",
       "text": [
        " 13.063 13\n",
        "M67-S174"
       ]
      },
      {
       "output_type": "stream",
       "stream": "stdout",
       "text": [
        " 14.137 16\n",
        "M67-S175 16.15 10\n",
        "M67-S200"
       ]
      },
      {
       "output_type": "stream",
       "stream": "stdout",
       "text": [
        " 14.965 16\n",
        "M67-S203"
       ]
      },
      {
       "output_type": "stream",
       "stream": "stdout",
       "text": [
        " 14.549 16\n",
        "M67-S210"
       ]
      },
      {
       "output_type": "stream",
       "stream": "stdout",
       "text": [
        " 16.4 10\n",
        "M67-S214"
       ]
      },
      {
       "output_type": "stream",
       "stream": "stdout",
       "text": [
        " 15.364 16\n",
        "M67-S218"
       ]
      },
      {
       "output_type": "stream",
       "stream": "stdout",
       "text": [
        " 14.749 16\n",
        "M67-S232"
       ]
      },
      {
       "output_type": "stream",
       "stream": "stdout",
       "text": [
        " 14.129 4\n",
        "M67-S241"
       ]
      },
      {
       "output_type": "stream",
       "stream": "stdout",
       "text": [
        " 14.118 4\n",
        "M67-S247"
       ]
      },
      {
       "output_type": "stream",
       "stream": "stdout",
       "text": [
        " 15.278 4\n",
        "M67-S248 15.706 4\n",
        "M67-S267"
       ]
      },
      {
       "output_type": "stream",
       "stream": "stdout",
       "text": [
        " 15.73 12\n",
        "M67-S27"
       ]
      },
      {
       "output_type": "stream",
       "stream": "stdout",
       "text": [
        " 13.182 13\n",
        "M67-S272"
       ]
      },
      {
       "output_type": "stream",
       "stream": "stdout",
       "text": [
        " 15.391 16\n",
        "M67-S279"
       ]
      },
      {
       "output_type": "stream",
       "stream": "stdout",
       "text": [
        " 14.561 16\n",
        "M67-S29"
       ]
      },
      {
       "output_type": "stream",
       "stream": "stdout",
       "text": [
        " 13.28 13\n",
        "M67-S293"
       ]
      },
      {
       "output_type": "stream",
       "stream": "stdout",
       "text": [
        " 16.64 10\n",
        "M67-S297"
       ]
      },
      {
       "output_type": "stream",
       "stream": "stdout",
       "text": [
        " 14.338 4\n",
        "M67-S299"
       ]
      },
      {
       "output_type": "stream",
       "stream": "stdout",
       "text": [
        " 15.898 16\n",
        "M67-S317"
       ]
      },
      {
       "output_type": "stream",
       "stream": "stdout",
       "text": [
        " 15.277 4\n",
        "M67-S318"
       ]
      },
      {
       "output_type": "stream",
       "stream": "stdout",
       "text": [
        " 14.009 12\n",
        "M67-S341"
       ]
      },
      {
       "output_type": "stream",
       "stream": "stdout",
       "text": [
        " 14.345 16\n",
        "M67-S342 15.237 4\n",
        "M67-S345"
       ]
      },
      {
       "output_type": "stream",
       "stream": "stdout",
       "text": [
        " 16.5 10\n",
        "M67-S457"
       ]
      },
      {
       "output_type": "stream",
       "stream": "stdout",
       "text": [
        " 16.38 10\n",
        "M67-S484"
       ]
      },
      {
       "output_type": "stream",
       "stream": "stdout",
       "text": [
        " 14.643 16\n",
        "M67-S49"
       ]
      },
      {
       "output_type": "stream",
       "stream": "stdout",
       "text": [
        " 12.61 11\n",
        "M67-S496"
       ]
      },
      {
       "output_type": "stream",
       "stream": "stdout",
       "text": [
        " 15.334 16\n",
        "M67-S516"
       ]
      },
      {
       "output_type": "stream",
       "stream": "stdout",
       "text": [
        " 14.246 4\n",
        "M67-S523"
       ]
      },
      {
       "output_type": "stream",
       "stream": "stdout",
       "text": [
        " 15.74 12\n",
        "M67-S526"
       ]
      },
      {
       "output_type": "stream",
       "stream": "stdout",
       "text": [
        " 14.149 4\n",
        "M67-S529"
       ]
      },
      {
       "output_type": "stream",
       "stream": "stdout",
       "text": [
        " 13.586 13\n",
        "M67-S538"
       ]
      },
      {
       "output_type": "stream",
       "stream": "stdout",
       "text": [
        " 14.145 4\n",
        "M67-S560"
       ]
      },
      {
       "output_type": "stream",
       "stream": "stdout",
       "text": [
        " 15.553 16\n",
        "M67-S565"
       ]
      },
      {
       "output_type": "stream",
       "stream": "stdout",
       "text": [
        " 15.764 16\n",
        "M67-S572"
       ]
      },
      {
       "output_type": "stream",
       "stream": "stdout",
       "text": [
        " 15.711 4\n",
        "M67-S581"
       ]
      },
      {
       "output_type": "stream",
       "stream": "stdout",
       "text": [
        " 14.941 12\n",
        "M67-S591"
       ]
      },
      {
       "output_type": "stream",
       "stream": "stdout",
       "text": [
        " 14.407 16\n",
        "M67-S607"
       ]
      },
      {
       "output_type": "stream",
       "stream": "stdout",
       "text": [
        " 15.731 12\n",
        "M67-S617"
       ]
      },
      {
       "output_type": "stream",
       "stream": "stdout",
       "text": [
        " 15.896 16\n",
        "M67-S626"
       ]
      },
      {
       "output_type": "stream",
       "stream": "stdout",
       "text": [
        " 15.648 4\n",
        "M67-S632"
       ]
      },
      {
       "output_type": "stream",
       "stream": "stdout",
       "text": [
        " 16.91 10\n",
        "M67-S642"
       ]
      },
      {
       "output_type": "stream",
       "stream": "stdout",
       "text": [
        " 15.265 12\n",
        "M67-S65"
       ]
      },
      {
       "output_type": "stream",
       "stream": "stdout",
       "text": [
        " 13.254 13\n",
        "M67-S654"
       ]
      },
      {
       "output_type": "stream",
       "stream": "stdout",
       "text": [
        " 14.769 16\n",
        "M67-S69"
       ]
      },
      {
       "output_type": "stream",
       "stream": "stdout",
       "text": [
        " 13.376 13\n",
        "M67-S7"
       ]
      },
      {
       "output_type": "stream",
       "stream": "stdout",
       "text": [
        " 13.181 13\n",
        "M67-S76"
       ]
      },
      {
       "output_type": "stream",
       "stream": "stdout",
       "text": [
        " 13.358 13\n"
       ]
      }
     ],
     "prompt_number": 4
    },
    {
     "cell_type": "code",
     "collapsed": false,
     "input": [
      "#raw fluxes\n",
      "plt.title(thisStar.name+' V='+str(thisStar.V)+' Raw Fluxes')\n",
      "\n",
      "plt.ylabel('Flux')\n",
      "plt.xlabel('Pixels')\n",
      "for lam, flux, fileName in zip(thisStar.exposures.cam3_wavelengths,thisStar.exposures.cam3_raw_fluxes, thisStar.exposures.JDs-np.min(thisStar.exposures.JDs)):\n",
      "    plt.plot(flux[::10], label = fileName)\n",
      "\n",
      "plt.show()"
     ],
     "language": "python",
     "metadata": {},
     "outputs": [
      {
       "output_type": "stream",
       "stream": "stdout",
       "text": [
        "['Plate 0', 'Plate 0', 'Plate 0', 'Plate 1', 'Plate 1', 'Plate 1', 'Plate 1', 'Plate 0', 'Plate 0', 'Plate 0', 'Plate 0', 'Plate 0', 'Plate 0', 'Plate 1', 'Plate 1', 'Plate 1', 'Plate 1', 'Plate 1', 'Plate 1', 'Plate 1', 'Plate 1', 'Plate 1', 'Plate 1', 'Plate 1', 'Plate 1', 'Plate 1', 'Plate 1', 'Plate 1', 'Plate 1', 'Plate 0', 'Plate 0', 'Plate 0', 'Plate 1', 'Plate 1', 'Plate 1', 'Plate 1', 'Plate 0', 'Plate 0', 'Plate 0', 'Plate 0', 'Plate 0', 'Plate 0', 'Plate 1', 'Plate 1', 'Plate 1', 'Plate 1', 'Plate 1', 'Plate 1', 'Plate 1', 'Plate 1', 'Plate 1', 'Plate 1', 'Plate 1', 'Plate 1', 'Plate 1', 'Plate 1', 'Plate 1', 'Plate 1', 'Plate 0', 'Plate 0', 'Plate 0', 'Plate 1', 'Plate 1', 'Plate 1', 'Plate 1', 'Plate 0', 'Plate 0', 'Plate 0', 'Plate 0', 'Plate 0', 'Plate 0', 'Plate 1', 'Plate 1', 'Plate 1', 'Plate 1', 'Plate 1', 'Plate 1', 'Plate 1', 'Plate 1', 'Plate 1', 'Plate 1', 'Plate 1', 'Plate 1', 'Plate 1', 'Plate 1', 'Plate 1', 'Plate 1', 'Plate 0', 'Plate 0', 'Plate 0', 'Plate 1', 'Plate 1', 'Plate 1', 'Plate 1', 'Plate 0', 'Plate 0', 'Plate 0', 'Plate 0', 'Plate 0', 'Plate 0', 'Plate 1', 'Plate 1', 'Plate 1', 'Plate 1', 'Plate 1', 'Plate 1', 'Plate 1', 'Plate 1', 'Plate 1', 'Plate 1', 'Plate 1', 'Plate 1', 'Plate 1', 'Plate 1', 'Plate 1', 'Plate 1']\n"
       ]
      }
     ],
     "prompt_number": 77
    },
    {
     "cell_type": "code",
     "collapsed": false,
     "input": [
      "print np.std(thisStar.exposures.cam1_RVs.RVs)/1000,\n",
      "print np.std(thisStar.exposures.cam2_RVs.RVs)/1000,\n",
      "print np.std(thisStar.exposures.cam3_RVs.RVs)/1000,\n",
      "print np.std(thisStar.exposures.cam4_RVs.RVs)/1000"
     ],
     "language": "python",
     "metadata": {},
     "outputs": [
      {
       "output_type": "stream",
       "stream": "stdout",
       "text": [
        "470.057408014 71.8320290208 919.262620839 1628.47098516\n"
       ]
      }
     ],
     "prompt_number": 154
    },
    {
     "cell_type": "code",
     "collapsed": false,
     "input": [
      "np.reshape(thisStar.exposures.JDs,))"
     ],
     "language": "python",
     "metadata": {},
     "outputs": [
      {
       "ename": "ValueError",
       "evalue": "total size of new array must be unchanged",
       "output_type": "pyerr",
       "traceback": [
        "\u001b[0;31m---------------------------------------------------------------------------\u001b[0m\n\u001b[0;31mValueError\u001b[0m                                Traceback (most recent call last)",
        "\u001b[0;32m<ipython-input-61-2a75094e0b26>\u001b[0m in \u001b[0;36m<module>\u001b[0;34m()\u001b[0m\n\u001b[0;32m----> 1\u001b[0;31m \u001b[0mnp\u001b[0m\u001b[0;34m.\u001b[0m\u001b[0mreshape\u001b[0m\u001b[0;34m(\u001b[0m\u001b[0mthisStar\u001b[0m\u001b[0;34m.\u001b[0m\u001b[0mexposures\u001b[0m\u001b[0;34m.\u001b[0m\u001b[0mJDs\u001b[0m\u001b[0;34m,\u001b[0m\u001b[0;34m(\u001b[0m\u001b[0;36m5\u001b[0m\u001b[0;34m,\u001b[0m\u001b[0;34m-\u001b[0m\u001b[0;36m1\u001b[0m\u001b[0;34m)\u001b[0m\u001b[0;34m)\u001b[0m\u001b[0;34m\u001b[0m\u001b[0m\n\u001b[0m",
        "\u001b[0;32m/opt/local/Library/Frameworks/Python.framework/Versions/2.7/lib/python2.7/site-packages/numpy/core/fromnumeric.pyc\u001b[0m in \u001b[0;36mreshape\u001b[0;34m(a, newshape, order)\u001b[0m\n\u001b[1;32m    169\u001b[0m     \u001b[0;32mexcept\u001b[0m \u001b[0mAttributeError\u001b[0m\u001b[0;34m:\u001b[0m\u001b[0;34m\u001b[0m\u001b[0m\n\u001b[1;32m    170\u001b[0m         \u001b[0;32mreturn\u001b[0m \u001b[0m_wrapit\u001b[0m\u001b[0;34m(\u001b[0m\u001b[0ma\u001b[0m\u001b[0;34m,\u001b[0m \u001b[0;34m'reshape'\u001b[0m\u001b[0;34m,\u001b[0m \u001b[0mnewshape\u001b[0m\u001b[0;34m,\u001b[0m \u001b[0morder\u001b[0m\u001b[0;34m=\u001b[0m\u001b[0morder\u001b[0m\u001b[0;34m)\u001b[0m\u001b[0;34m\u001b[0m\u001b[0m\n\u001b[0;32m--> 171\u001b[0;31m     \u001b[0;32mreturn\u001b[0m \u001b[0mreshape\u001b[0m\u001b[0;34m(\u001b[0m\u001b[0mnewshape\u001b[0m\u001b[0;34m,\u001b[0m \u001b[0morder\u001b[0m\u001b[0;34m=\u001b[0m\u001b[0morder\u001b[0m\u001b[0;34m)\u001b[0m\u001b[0;34m\u001b[0m\u001b[0m\n\u001b[0m\u001b[1;32m    172\u001b[0m \u001b[0;34m\u001b[0m\u001b[0m\n\u001b[1;32m    173\u001b[0m \u001b[0;34m\u001b[0m\u001b[0m\n",
        "\u001b[0;31mValueError\u001b[0m: total size of new array must be unchanged"
       ]
      }
     ],
     "prompt_number": 61
    },
    {
     "cell_type": "code",
     "collapsed": false,
     "input": [
      "#fllux vs wavelength (x 4 channels) + atm absorption\n",
      "filehandler = open('M67-375.obj', 'r') \n",
      "thisStar = pickle.load(filehandler) \n",
      "\n",
      "plt.plot(thisStar.exposures.cam1_wavelengths[0], thisStar.exposures.cam1_fluxes[0]/np.median(thisStar.exposures.cam1_fluxes[0]) , color = 'b')\n",
      "plt.plot(thisStar.exposures.cam2_wavelengths[0], thisStar.exposures.cam2_fluxes[0]/np.median(thisStar.exposures.cam2_fluxes[0]) , color = 'g')\n",
      "plt.plot(thisStar.exposures.cam3_wavelengths[0], thisStar.exposures.cam3_fluxes[0]/np.median(thisStar.exposures.cam3_fluxes[0]) , color = 'r')\n",
      "plt.plot(thisStar.exposures.cam4_wavelengths[0], thisStar.exposures.cam4_fluxes[0]/np.median(thisStar.exposures.cam4_fluxes[0]) , color = 'cyan')\n",
      "# plt.plot(sky2X, sky2Y, color = 'grey')\n",
      "plt.show()"
     ],
     "language": "python",
     "metadata": {},
     "outputs": [],
     "prompt_number": 401
    },
    {
     "cell_type": "code",
     "collapsed": false,
     "input": [
      "# Bins over time within definable gap) and creates errorbars\n",
      "tGap = 0.02 #size of the bin (days) i.e. how long until it is considered the next data point\n",
      "for i in allStarNames[100:110]:\n",
      "    \n",
      "    filehandler = open(i.strip()+'.obj', 'r') \n",
      "    thisStar = pickle.load(filehandler) \n",
      "    \n",
      "    groupIndex = np.ones(len(thisStar.exposures.JDs))\n",
      "    for i in range(len(thisStar.exposures.JDs[:-1])):\n",
      "        if np.abs(thisStar.exposures.JDs[i+1]-thisStar.exposures.JDs[i])>tGap:\n",
      "            groupIndex[i+1] = 0\n",
      "            \n",
      "    meanRVs = []\n",
      "    sigRV = []\n",
      "    meanJDs = []\n",
      "    meanBary = []\n",
      "    lastI = 0\n",
      "    for i in range(len(groupIndex)):\n",
      "        if groupIndex[i]==0:\n",
      "            meanRVs.append(np.mean(thisStar.exposures.RVs.RVs[lastI:i+1]))\n",
      "            sigRV.append(np.std(thisStar.exposures.RVs.RVs[lastI:i+1]))\n",
      "            thisMeanJD = np.min(thisStar.exposures.JDs[lastI:i+1])\n",
      "            meanJDs.append(thisMeanJD)\n",
      "            meanBary.append(thisStar.baryVels[lastI])\n",
      "            lastI = i+1\n",
      "            \n",
      "            \n",
      "    # plt.scatter(thisStar.exposures.JDs, np.array(thisStar.exposures.RVs.RVs)/1000, color = 'r')\n",
      "    # plt.plot(thisStar.exposures.JDs, np.array(thisStar.baryVels)/1000, color = 'r')\n",
      "    \n",
      "#     plt.scatter(thisStar.exposures.JDs, (np.array(thisStar.baryVels)-np.array(thisStar.exposures.RVs.RVs)), color = 'r')    \n",
      "    # plt.errorbar(RV.JD, RV.cleanRV, yerr = RV.dRV ,fmt='o', label = target + '(' + str(RV.magList[0]) + ') Clean RV')\n",
      "    plt.errorbar(meanJDs, (np.array(meanRVs)-np.array(meanBary)), yerr = np.array(sigRV),fmt='o', color = 'g')    \n",
      "    # plt.plot(meanJDs, np.array(meanBary)/1000, color = 'g')\n",
      "    plt.title(thisStar.name)\n",
      "    plt.ylabel('RV [m/s]')\n",
      "    plt.xlabel('JD')\n",
      "    #     plt.axis([np.min(i.exposures.JDs),np.max(i.exposures.JDs), np.mean((np.array(i.baryVels)-np.array(i.RVs))/1000)-5, np.mean((np.array(i.baryVels)-np.array(i.RVs))/1000)+5])\n",
      "    #     plt.legend()\n",
      "#     plt.savefig(thisStar.name)\n",
      "#     plt.close()\n",
      "    plt.show()"
     ],
     "language": "python",
     "metadata": {},
     "outputs": []
    },
    {
     "cell_type": "code",
     "collapsed": false,
     "input": [
      "filehandler = open('M67-S125.obj', 'r') \n",
      "thisStar = pickle.load(filehandler) \n"
     ],
     "language": "python",
     "metadata": {},
     "outputs": [],
     "prompt_number": 5
    },
    {
     "cell_type": "code",
     "collapsed": false,
     "input": [
      "thisStar."
     ],
     "language": "python",
     "metadata": {},
     "outputs": []
    }
   ],
   "metadata": {}
  }
 ]
}